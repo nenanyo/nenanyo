{
 "cells": [
  {
   "cell_type": "code",
   "execution_count": null,
   "id": "a92c900c-47d3-49de-854c-49407a71612c",
   "metadata": {},
   "outputs": [],
   "source": []
  },
  {
   "cell_type": "code",
   "execution_count": 3,
   "id": "aeb960f3-2f16-4e0d-8813-970965567277",
   "metadata": {
    "tags": []
   },
   "outputs": [
    {
     "data": {
      "text/html": [
       "<style>.container{width:100% !important;}</style>"
      ],
      "text/plain": [
       "<IPython.core.display.HTML object>"
      ]
     },
     "metadata": {},
     "output_type": "display_data"
    }
   ],
   "source": [
    "import numpy as np\n",
    "import pandas as pd\n",
    "\n",
    "import matplotlib.pyplot as plt\n",
    "import seaborn as sns\n",
    "\n",
    "\n",
    "sns.set()\n",
    "\n",
    "#-------------------- 차트 관련 속성 (한글처리, 그리드) -----------\n",
    "plt.rcParams['font.family']= 'Malgun Gothic'\n",
    "plt.rcParams['axes.unicode_minus'] = False\n",
    "\n",
    "#-------------------- 주피터 , 출력결과 넓이 늘리기 ---------------\n",
    "# from IPython.core.display import display, HTML\n",
    "from IPython.display import display, HTML\n",
    "\n",
    "display(HTML(\"<style>.container{width:100% !important;}</style>\"))\n",
    "pd.set_option('display.max_rows', 100)\n",
    "pd.set_option('display.max_columns', 100)\n",
    "pd.set_option('max_colwidth', None)\n",
    "\n",
    "import warnings\n",
    "warnings.filterwarnings(action='ignore')\n",
    "\n",
    "import tensorflow as tf"
   ]
  },
  {
   "cell_type": "markdown",
   "id": "d5fa0e84-5407-4c43-a1a3-13023ed4728e",
   "metadata": {},
   "source": [
    "# 재무재표 bs"
   ]
  },
  {
   "cell_type": "code",
   "execution_count": null,
   "id": "26f95df2-c095-4d5b-8c0b-9296dcffa12d",
   "metadata": {},
   "outputs": [],
   "source": [
    "# .\\데이터\\기업별 재무제표\\재무제표 원본"
   ]
  },
  {
   "cell_type": "code",
   "execution_count": 2,
   "id": "78e09267-9a99-45d8-84f3-64bb2eae10e9",
   "metadata": {
    "tags": []
   },
   "outputs": [],
   "source": [
    "path_재무 = '.\\데이터\\기업별 재무제표\\재무제표 원본'"
   ]
  },
  {
   "cell_type": "code",
   "execution_count": 3,
   "id": "34e58680-c434-4a55-b14f-1a5667556751",
   "metadata": {
    "tags": []
   },
   "outputs": [
    {
     "data": {
      "text/plain": [
       "126"
      ]
     },
     "execution_count": 3,
     "metadata": {},
     "output_type": "execute_result"
    }
   ],
   "source": [
    "import os\n",
    "file_list_재무 = os.listdir(path_재무)\n",
    "len(file_list_재무)"
   ]
  },
  {
   "cell_type": "code",
   "execution_count": 4,
   "id": "0cdc311e-dff4-44a9-99a8-c3ab440fe1a8",
   "metadata": {
    "tags": []
   },
   "outputs": [],
   "source": [
    "file_name_재무 = []\n",
    "for file in file_list_재무:\n",
    "    if file.count(\".\") == 1: \n",
    "        name = file.split('.')[0]\n",
    "        file_name_재무.append(name)\n",
    "    # else:\n",
    "    #     for k in range(len(file)-1,0,-1):\n",
    "    #         if file[k]=='.':\n",
    "    #             file_name.append(file[:k])\n",
    "    #             break"
   ]
  },
  {
   "cell_type": "code",
   "execution_count": 5,
   "id": "a67b61f5-761a-45ec-983f-284e3d5646cd",
   "metadata": {
    "tags": []
   },
   "outputs": [
    {
     "data": {
      "text/plain": [
       "'CMG제약'"
      ]
     },
     "execution_count": 5,
     "metadata": {},
     "output_type": "execute_result"
    }
   ],
   "source": [
    "file_name_재무[0]"
   ]
  },
  {
   "cell_type": "code",
   "execution_count": 6,
   "id": "03492eab-6cd3-469d-add8-9a007b6eda0d",
   "metadata": {
    "tags": []
   },
   "outputs": [],
   "source": [
    "# 유동자산 = []\n",
    "df1 = []\n",
    "for 기업 in file_name_재무:\n",
    "    df =pd.read_excel(f\"./데이터/기업별 재무제표/재무제표 원본/재무제표/{기업}.xlsx\",sheet_name='Data_bs',header=0)\n",
    "#     venv/아림경영/데이터/기업별 재무제표/재무제표 원본/balance_sheet/경동제약.xlsx\n",
    "    df1.append(df)\n",
    "    \n",
    "        \n",
    "    # 유동있  = False \n",
    "#     for i in range(len(df)):\n",
    "#         if df.iloc[i,2] == '유동자산':\n",
    "#             # print(df.iloc[i,8:13])\n",
    "#             유동자산.append(df.iloc[i,12]) \n",
    "#             유동있 =True\n",
    "            \n",
    "#     if 유동있  == False:\n",
    "#         유동자산.append(-1)\n",
    "        \n",
    "# #     \n",
    "# print(len(유동자산))\n",
    "# df.head()"
   ]
  },
  {
   "cell_type": "code",
   "execution_count": 7,
   "id": "322777cb-a249-4d91-ba0b-ebb30ac6087c",
   "metadata": {
    "tags": []
   },
   "outputs": [
    {
     "data": {
      "text/plain": [
       "126"
      ]
     },
     "execution_count": 7,
     "metadata": {},
     "output_type": "execute_result"
    }
   ],
   "source": [
    "len(df1)"
   ]
  },
  {
   "cell_type": "code",
   "execution_count": 8,
   "id": "c00a55a7-9655-46b1-bfec-1fd8ba5a9695",
   "metadata": {
    "tags": []
   },
   "outputs": [],
   "source": [
    "# for df in df1:\n",
    "#     df.columns = df.columns.str"
   ]
  },
  {
   "cell_type": "code",
   "execution_count": 9,
   "id": "b431de13-fa24-4310-accc-706090edbb1f",
   "metadata": {
    "tags": []
   },
   "outputs": [],
   "source": [
    "# df1[2].columns"
   ]
  },
  {
   "cell_type": "code",
   "execution_count": 10,
   "id": "26e8f44d-8043-4a42-a364-83b644a88c56",
   "metadata": {
    "tags": []
   },
   "outputs": [],
   "source": [
    "cnt_list =[]\n",
    "df_i =[]\n",
    "for i,df in enumerate(df1):\n",
    "    cnt = 5\n",
    "    for col in df.columns:\n",
    "        if col in (['20221231','20211231','20201231','20191231','20181231',20221231,20211231,20201231,20191231,20181231]):\n",
    "            cnt  = cnt - 1\n",
    "    # print(cnt)\n",
    "    if cnt != 0:\n",
    "        # print(cnt)\n",
    "        df_i.append(i)"
   ]
  },
  {
   "cell_type": "code",
   "execution_count": 11,
   "id": "b0ae9d5a-d056-40dd-a7d3-b28c8365570e",
   "metadata": {
    "tags": []
   },
   "outputs": [
    {
     "data": {
      "text/plain": [
       "0"
      ]
     },
     "execution_count": 11,
     "metadata": {},
     "output_type": "execute_result"
    }
   ],
   "source": [
    "len(df_i)"
   ]
  },
  {
   "cell_type": "code",
   "execution_count": 12,
   "id": "f7d096b7-2457-41ea-aeb8-c054f74a6992",
   "metadata": {
    "tags": []
   },
   "outputs": [
    {
     "name": "stdout",
     "output_type": "stream",
     "text": [
      "<class 'pandas.core.frame.DataFrame'>\n",
      "Index: 0 entries\n",
      "Empty DataFrame\n"
     ]
    }
   ],
   "source": [
    "df_i = pd.DataFrame(df_i)\n",
    "df_i.info()"
   ]
  },
  {
   "cell_type": "code",
   "execution_count": 13,
   "id": "f42622a3-97bd-46a8-a247-81af40ac8d2c",
   "metadata": {
    "tags": []
   },
   "outputs": [],
   "source": [
    "df_i = df_i.drop_duplicates( keep='first')"
   ]
  },
  {
   "cell_type": "code",
   "execution_count": 14,
   "id": "0c072d37-7caa-43c7-bae9-08add80be6f9",
   "metadata": {
    "tags": []
   },
   "outputs": [
    {
     "data": {
      "text/plain": [
       "0"
      ]
     },
     "execution_count": 14,
     "metadata": {},
     "output_type": "execute_result"
    }
   ],
   "source": [
    "len(df_i)"
   ]
  },
  {
   "cell_type": "markdown",
   "id": "fb22e70a-29f4-4c06-8a89-014005c8fda7",
   "metadata": {},
   "source": [
    "# 재무재표 cf"
   ]
  },
  {
   "cell_type": "code",
   "execution_count": 20,
   "id": "76dff167-2a39-43b8-8278-9d877d1bbfb9",
   "metadata": {
    "tags": []
   },
   "outputs": [],
   "source": [
    "path_재무 = '.\\데이터\\기업별 재무제표\\재무제표 원본\\재무제표'"
   ]
  },
  {
   "cell_type": "code",
   "execution_count": 21,
   "id": "86a3713e-a863-4091-b8c0-921c0a82e439",
   "metadata": {
    "tags": []
   },
   "outputs": [
    {
     "data": {
      "text/plain": [
       "126"
      ]
     },
     "execution_count": 21,
     "metadata": {},
     "output_type": "execute_result"
    }
   ],
   "source": [
    "import os\n",
    "file_list_재무 = os.listdir(path_재무)\n",
    "len(file_list_재무)"
   ]
  },
  {
   "cell_type": "code",
   "execution_count": 22,
   "id": "b22b6e33-6d80-44ad-bb35-07b1367ba7ea",
   "metadata": {
    "tags": []
   },
   "outputs": [],
   "source": [
    "file_name_재무 = []\n",
    "for file in file_list_재무:\n",
    "    if file.count(\".\") == 1: \n",
    "        name = file.split('.')[0]\n",
    "        file_name_재무.append(name)\n",
    "    # else:\n",
    "    #     for k in range(len(file)-1,0,-1):\n",
    "    #         if file[k]=='.':\n",
    "    #             file_name.append(file[:k])\n",
    "    #             break"
   ]
  },
  {
   "cell_type": "code",
   "execution_count": 23,
   "id": "f5be9b12-6810-444a-8aa6-82c20b71fa72",
   "metadata": {
    "tags": []
   },
   "outputs": [
    {
     "data": {
      "text/plain": [
       "'CMG제약'"
      ]
     },
     "execution_count": 23,
     "metadata": {},
     "output_type": "execute_result"
    }
   ],
   "source": [
    "file_name_재무[0]"
   ]
  },
  {
   "cell_type": "code",
   "execution_count": 24,
   "id": "1d18069a-39a0-4277-8386-054c3265b442",
   "metadata": {
    "tags": []
   },
   "outputs": [],
   "source": [
    "# 유동자산 = []\n",
    "df1 = []\n",
    "for 기업 in file_name_재무:\n",
    "    df =pd.read_excel(f\"./데이터/기업별 재무제표/재무제표 원본/재무제표/{기업}.xlsx\",sheet_name='Data_cf',header=0)\n",
    "#     venv/아림경영/데이터/기업별 재무제표/재무제표 원본/balance_sheet/경동제약.xlsx\n",
    "    df1.append(df)\n",
    "    \n",
    "        \n",
    "    # 유동있  = False \n",
    "#     for i in range(len(df)):\n",
    "#         if df.iloc[i,2] == '유동자산':\n",
    "#             # print(df.iloc[i,8:13])\n",
    "#             유동자산.append(df.iloc[i,12]) \n",
    "#             유동있 =True\n",
    "            \n",
    "#     if 유동있  == False:\n",
    "#         유동자산.append(-1)\n",
    "        \n",
    "# #     \n",
    "# print(len(유동자산))\n",
    "# df.head()"
   ]
  },
  {
   "cell_type": "code",
   "execution_count": 25,
   "id": "ca27d2cf-4269-4900-8e7e-935b2324f271",
   "metadata": {
    "tags": []
   },
   "outputs": [
    {
     "data": {
      "text/plain": [
       "126"
      ]
     },
     "execution_count": 25,
     "metadata": {},
     "output_type": "execute_result"
    }
   ],
   "source": [
    "len(df1)"
   ]
  },
  {
   "cell_type": "code",
   "execution_count": 26,
   "id": "37a27214-8639-47f8-bb03-1b5a5a4c317c",
   "metadata": {
    "tags": []
   },
   "outputs": [],
   "source": [
    "# for df in df1:\n",
    "#     df.columns = df.columns.str"
   ]
  },
  {
   "cell_type": "code",
   "execution_count": 27,
   "id": "10a34deb-4a0b-441e-860c-97ae04d722b1",
   "metadata": {
    "tags": []
   },
   "outputs": [],
   "source": [
    "# df1[2].columns"
   ]
  },
  {
   "cell_type": "code",
   "execution_count": 30,
   "id": "88741b7f-1214-44f8-aca4-56cfe3f7c07f",
   "metadata": {
    "tags": []
   },
   "outputs": [],
   "source": [
    "cnt_list =[]\n",
    "df_i =[]\n",
    "for i,df in enumerate(df1):\n",
    "    cnt = 5\n",
    "    for col in df.columns:\n",
    "        if col in (['20220101-20221231','20210101-20211231','20200101-20201231','20190101-20191231','20180101-20181231']):\n",
    "            cnt  = cnt - 1\n",
    "    # print(cnt)\n",
    "    if cnt != 0:\n",
    "        # print(cnt)\n",
    "        df_i.append(i)"
   ]
  },
  {
   "cell_type": "code",
   "execution_count": 31,
   "id": "5752e948-681c-4aac-ac8a-3807ae5aa9e0",
   "metadata": {
    "tags": []
   },
   "outputs": [
    {
     "data": {
      "text/plain": [
       "31"
      ]
     },
     "execution_count": 31,
     "metadata": {},
     "output_type": "execute_result"
    }
   ],
   "source": [
    "len(df_i)"
   ]
  },
  {
   "cell_type": "code",
   "execution_count": null,
   "id": "dcfc41fb-dcc2-4d2d-9886-4ae7eb5e410a",
   "metadata": {},
   "outputs": [],
   "source": [
    "# '20220101-20221231','20210101-20211231','20200101-20201231','20190101-20191231','20180101-20181231'\n"
   ]
  },
  {
   "cell_type": "code",
   "execution_count": 32,
   "id": "21118828-37c1-402e-bb85-585454cc1de1",
   "metadata": {
    "tags": []
   },
   "outputs": [
    {
     "data": {
      "text/plain": [
       "[0,\n",
       " 2,\n",
       " 10,\n",
       " 19,\n",
       " 29,\n",
       " 35,\n",
       " 37,\n",
       " 38,\n",
       " 41,\n",
       " 48,\n",
       " 52,\n",
       " 54,\n",
       " 56,\n",
       " 66,\n",
       " 68,\n",
       " 71,\n",
       " 72,\n",
       " 75,\n",
       " 81,\n",
       " 82,\n",
       " 84,\n",
       " 89,\n",
       " 91,\n",
       " 99,\n",
       " 105,\n",
       " 106,\n",
       " 109,\n",
       " 116,\n",
       " 122,\n",
       " 124,\n",
       " 125]"
      ]
     },
     "execution_count": 32,
     "metadata": {},
     "output_type": "execute_result"
    }
   ],
   "source": [
    "df_i"
   ]
  }
 ],
 "metadata": {
  "kernelspec": {
   "display_name": "Python 3 (ipykernel)",
   "language": "python",
   "name": "python3"
  },
  "language_info": {
   "codemirror_mode": {
    "name": "ipython",
    "version": 3
   },
   "file_extension": ".py",
   "mimetype": "text/x-python",
   "name": "python",
   "nbconvert_exporter": "python",
   "pygments_lexer": "ipython3",
   "version": "3.8.8"
  }
 },
 "nbformat": 4,
 "nbformat_minor": 5
}
