{
 "cells": [
  {
   "cell_type": "code",
   "execution_count": null,
   "id": "e49abe0f-3b3c-4ebb-b3bd-5118fa349868",
   "metadata": {},
   "outputs": [],
   "source": []
  },
  {
   "cell_type": "code",
   "execution_count": 1,
   "id": "4a4121e7-c38a-4aa0-973a-3d0debbdcf7a",
   "metadata": {
    "tags": []
   },
   "outputs": [],
   "source": [
    "import pandas as pd\n",
    "import numpy as np\n",
    "import matplotlib.pyplot as plt\n",
    "import warnings\n",
    "warnings.filterwarnings(action='ignore')"
   ]
  },
  {
   "cell_type": "markdown",
   "id": "c1dd69d9-547f-446d-990d-9b8c7b7dc559",
   "metadata": {},
   "source": [
    "# 데이터 로드"
   ]
  },
  {
   "cell_type": "code",
   "execution_count": 2,
   "id": "ba1720ec-1cb4-49fa-a781-29b88a064a62",
   "metadata": {},
   "outputs": [],
   "source": [
    "ticker_df = pd.read_csv('../../기업ticker.csv', names = ['names','ticker'])\n",
    "ticker_df = ticker_df.dropna()"
   ]
  },
  {
   "cell_type": "code",
   "execution_count": 3,
   "id": "d32dbc01-1ca2-4ce3-b031-4138e483bd9a",
   "metadata": {},
   "outputs": [
    {
     "data": {
      "text/html": [
       "<div>\n",
       "<style scoped>\n",
       "    .dataframe tbody tr th:only-of-type {\n",
       "        vertical-align: middle;\n",
       "    }\n",
       "\n",
       "    .dataframe tbody tr th {\n",
       "        vertical-align: top;\n",
       "    }\n",
       "\n",
       "    .dataframe thead th {\n",
       "        text-align: right;\n",
       "    }\n",
       "</style>\n",
       "<table border=\"1\" class=\"dataframe\">\n",
       "  <thead>\n",
       "    <tr style=\"text-align: right;\">\n",
       "      <th></th>\n",
       "      <th>names</th>\n",
       "      <th>ticker</th>\n",
       "    </tr>\n",
       "  </thead>\n",
       "  <tbody>\n",
       "    <tr>\n",
       "      <th>1</th>\n",
       "      <td>CMG제약</td>\n",
       "      <td>058820</td>\n",
       "    </tr>\n",
       "    <tr>\n",
       "      <th>2</th>\n",
       "      <td>HLB</td>\n",
       "      <td>028300</td>\n",
       "    </tr>\n",
       "  </tbody>\n",
       "</table>\n",
       "</div>"
      ],
      "text/plain": [
       "   names  ticker\n",
       "1  CMG제약  058820\n",
       "2    HLB  028300"
      ]
     },
     "execution_count": 3,
     "metadata": {},
     "output_type": "execute_result"
    }
   ],
   "source": [
    " ticker_df.head(2)"
   ]
  },
  {
   "cell_type": "code",
   "execution_count": 4,
   "id": "200d8fa1-62d2-4a9d-bd09-9c4b91d15488",
   "metadata": {},
   "outputs": [],
   "source": [
    "df_list =[]\n",
    "for i in range(len(ticker_df)):\n",
    "    name = ticker_df['names'][i+1]\n",
    "    df_i = pd.read_csv(f'./data(18-22)/{name}.csv', encoding = 'cp949')\n",
    "    df_list.append(df_i)\n",
    "    "
   ]
  },
  {
   "cell_type": "code",
   "execution_count": 5,
   "id": "d10a1023-bc6a-4e02-aa79-a9f12c0f4588",
   "metadata": {},
   "outputs": [
    {
     "data": {
      "text/plain": [
       "126"
      ]
     },
     "execution_count": 5,
     "metadata": {},
     "output_type": "execute_result"
    }
   ],
   "source": [
    "len(df_list)"
   ]
  },
  {
   "cell_type": "code",
   "execution_count": 6,
   "id": "1a787cd7-18c1-4ba2-9ae2-a426c2c4a000",
   "metadata": {},
   "outputs": [
    {
     "data": {
      "text/html": [
       "<div>\n",
       "<style scoped>\n",
       "    .dataframe tbody tr th:only-of-type {\n",
       "        vertical-align: middle;\n",
       "    }\n",
       "\n",
       "    .dataframe tbody tr th {\n",
       "        vertical-align: top;\n",
       "    }\n",
       "\n",
       "    .dataframe thead th {\n",
       "        text-align: right;\n",
       "    }\n",
       "</style>\n",
       "<table border=\"1\" class=\"dataframe\">\n",
       "  <thead>\n",
       "    <tr style=\"text-align: right;\">\n",
       "      <th></th>\n",
       "      <th>corp_code</th>\n",
       "      <th>corp_name</th>\n",
       "      <th>stock_code</th>\n",
       "      <th>corp_cls</th>\n",
       "      <th>report_nm</th>\n",
       "      <th>rcept_no</th>\n",
       "      <th>flr_nm</th>\n",
       "      <th>rcept_dt</th>\n",
       "      <th>rm</th>\n",
       "    </tr>\n",
       "  </thead>\n",
       "  <tbody>\n",
       "    <tr>\n",
       "      <th>0</th>\n",
       "      <td>380429</td>\n",
       "      <td>CMG제약</td>\n",
       "      <td>58820</td>\n",
       "      <td>K</td>\n",
       "      <td>주주명부폐쇄기간또는기준일설정</td>\n",
       "      <td>20181213900502</td>\n",
       "      <td>CMG제약</td>\n",
       "      <td>20181213</td>\n",
       "      <td>코</td>\n",
       "    </tr>\n",
       "    <tr>\n",
       "      <th>1</th>\n",
       "      <td>380429</td>\n",
       "      <td>CMG제약</td>\n",
       "      <td>58820</td>\n",
       "      <td>K</td>\n",
       "      <td>단일판매ㆍ공급계약체결</td>\n",
       "      <td>20181127900222</td>\n",
       "      <td>CMG제약</td>\n",
       "      <td>20181127</td>\n",
       "      <td>코</td>\n",
       "    </tr>\n",
       "  </tbody>\n",
       "</table>\n",
       "</div>"
      ],
      "text/plain": [
       "   corp_code corp_name  stock_code corp_cls        report_nm        rcept_no  \\\n",
       "0     380429     CMG제약       58820        K  주주명부폐쇄기간또는기준일설정  20181213900502   \n",
       "1     380429     CMG제약       58820        K      단일판매ㆍ공급계약체결  20181127900222   \n",
       "\n",
       "  flr_nm  rcept_dt rm  \n",
       "0  CMG제약  20181213  코  \n",
       "1  CMG제약  20181127  코  "
      ]
     },
     "execution_count": 6,
     "metadata": {},
     "output_type": "execute_result"
    }
   ],
   "source": [
    "df_list[0].head(2)"
   ]
  },
  {
   "cell_type": "code",
   "execution_count": 7,
   "id": "c3468c29-0b26-4e96-8425-3e9b6e5250d3",
   "metadata": {},
   "outputs": [],
   "source": [
    "df_list2 =[]\n",
    "for df in df_list:\n",
    "    tmp = df[['corp_name','stock_code','report_nm','rcept_dt']]\n",
    "    df_list2.append(tmp)"
   ]
  },
  {
   "cell_type": "code",
   "execution_count": 8,
   "id": "4192b240-80c4-4da6-a698-a9299a0acf95",
   "metadata": {},
   "outputs": [
    {
     "data": {
      "text/html": [
       "<div>\n",
       "<style scoped>\n",
       "    .dataframe tbody tr th:only-of-type {\n",
       "        vertical-align: middle;\n",
       "    }\n",
       "\n",
       "    .dataframe tbody tr th {\n",
       "        vertical-align: top;\n",
       "    }\n",
       "\n",
       "    .dataframe thead th {\n",
       "        text-align: right;\n",
       "    }\n",
       "</style>\n",
       "<table border=\"1\" class=\"dataframe\">\n",
       "  <thead>\n",
       "    <tr style=\"text-align: right;\">\n",
       "      <th></th>\n",
       "      <th>corp_name</th>\n",
       "      <th>stock_code</th>\n",
       "      <th>report_nm</th>\n",
       "      <th>rcept_dt</th>\n",
       "    </tr>\n",
       "  </thead>\n",
       "  <tbody>\n",
       "    <tr>\n",
       "      <th>0</th>\n",
       "      <td>CMG제약</td>\n",
       "      <td>58820</td>\n",
       "      <td>주주명부폐쇄기간또는기준일설정</td>\n",
       "      <td>20181213</td>\n",
       "    </tr>\n",
       "    <tr>\n",
       "      <th>1</th>\n",
       "      <td>CMG제약</td>\n",
       "      <td>58820</td>\n",
       "      <td>단일판매ㆍ공급계약체결</td>\n",
       "      <td>20181127</td>\n",
       "    </tr>\n",
       "  </tbody>\n",
       "</table>\n",
       "</div>"
      ],
      "text/plain": [
       "  corp_name  stock_code        report_nm  rcept_dt\n",
       "0     CMG제약       58820  주주명부폐쇄기간또는기준일설정  20181213\n",
       "1     CMG제약       58820      단일판매ㆍ공급계약체결  20181127"
      ]
     },
     "execution_count": 8,
     "metadata": {},
     "output_type": "execute_result"
    }
   ],
   "source": [
    "df_list2[0].head(2)"
   ]
  },
  {
   "cell_type": "code",
   "execution_count": 9,
   "id": "6ee2084b-5039-4c47-94d5-6fd92117568b",
   "metadata": {},
   "outputs": [],
   "source": [
    "# a= 20181231\n",
    "# b = a[:4]\n",
    "# b"
   ]
  },
  {
   "cell_type": "code",
   "execution_count": 10,
   "id": "8b96b1ec-584a-498b-aa16-81dfe5733a53",
   "metadata": {},
   "outputs": [],
   "source": [
    "# df_list2[0] = df_list2[0].astype('str')"
   ]
  },
  {
   "cell_type": "code",
   "execution_count": 11,
   "id": "c73527d2-5152-4d0b-9ba6-de93aacd9537",
   "metadata": {},
   "outputs": [],
   "source": [
    "df_list3 = []\n",
    "for df in  df_list2:\n",
    "    # df.insert(4,'y',0)\n",
    "    df = df.astype('str')\n",
    "    for i,dt in enumerate(df['rcept_dt']):\n",
    "        df.loc[i,'y'] = dt[:4]\n",
    "    df_list3.append(df)"
   ]
  },
  {
   "cell_type": "code",
   "execution_count": 12,
   "id": "66a919e5-89f7-450d-8046-dd0e111fa0a4",
   "metadata": {},
   "outputs": [
    {
     "data": {
      "text/html": [
       "<div>\n",
       "<style scoped>\n",
       "    .dataframe tbody tr th:only-of-type {\n",
       "        vertical-align: middle;\n",
       "    }\n",
       "\n",
       "    .dataframe tbody tr th {\n",
       "        vertical-align: top;\n",
       "    }\n",
       "\n",
       "    .dataframe thead th {\n",
       "        text-align: right;\n",
       "    }\n",
       "</style>\n",
       "<table border=\"1\" class=\"dataframe\">\n",
       "  <thead>\n",
       "    <tr style=\"text-align: right;\">\n",
       "      <th></th>\n",
       "      <th>corp_name</th>\n",
       "      <th>stock_code</th>\n",
       "      <th>report_nm</th>\n",
       "      <th>rcept_dt</th>\n",
       "      <th>y</th>\n",
       "    </tr>\n",
       "  </thead>\n",
       "  <tbody>\n",
       "    <tr>\n",
       "      <th>0</th>\n",
       "      <td>CMG제약</td>\n",
       "      <td>58820</td>\n",
       "      <td>주주명부폐쇄기간또는기준일설정</td>\n",
       "      <td>20181213</td>\n",
       "      <td>2018</td>\n",
       "    </tr>\n",
       "    <tr>\n",
       "      <th>1</th>\n",
       "      <td>CMG제약</td>\n",
       "      <td>58820</td>\n",
       "      <td>단일판매ㆍ공급계약체결</td>\n",
       "      <td>20181127</td>\n",
       "      <td>2018</td>\n",
       "    </tr>\n",
       "    <tr>\n",
       "      <th>2</th>\n",
       "      <td>CMG제약</td>\n",
       "      <td>58820</td>\n",
       "      <td>분기보고서 (2018.09)</td>\n",
       "      <td>20181114</td>\n",
       "      <td>2018</td>\n",
       "    </tr>\n",
       "    <tr>\n",
       "      <th>3</th>\n",
       "      <td>CMG제약</td>\n",
       "      <td>58820</td>\n",
       "      <td>임원ㆍ주요주주특정증권등소유상황보고서</td>\n",
       "      <td>20181010</td>\n",
       "      <td>2018</td>\n",
       "    </tr>\n",
       "    <tr>\n",
       "      <th>4</th>\n",
       "      <td>CMG제약</td>\n",
       "      <td>58820</td>\n",
       "      <td>주요사항보고서(유형자산양수결정)</td>\n",
       "      <td>20180904</td>\n",
       "      <td>2018</td>\n",
       "    </tr>\n",
       "    <tr>\n",
       "      <th>...</th>\n",
       "      <td>...</td>\n",
       "      <td>...</td>\n",
       "      <td>...</td>\n",
       "      <td>...</td>\n",
       "      <td>...</td>\n",
       "    </tr>\n",
       "    <tr>\n",
       "      <th>101</th>\n",
       "      <td>CMG제약</td>\n",
       "      <td>58820</td>\n",
       "      <td>주주총회집중일개최사유신고</td>\n",
       "      <td>20220310</td>\n",
       "      <td>2022</td>\n",
       "    </tr>\n",
       "    <tr>\n",
       "      <th>102</th>\n",
       "      <td>CMG제약</td>\n",
       "      <td>58820</td>\n",
       "      <td>주주총회소집결의</td>\n",
       "      <td>20220310</td>\n",
       "      <td>2022</td>\n",
       "    </tr>\n",
       "    <tr>\n",
       "      <th>103</th>\n",
       "      <td>CMG제약</td>\n",
       "      <td>58820</td>\n",
       "      <td>매출액또는손익구조30%(대규모법인은15%)이상변동</td>\n",
       "      <td>20220210</td>\n",
       "      <td>2022</td>\n",
       "    </tr>\n",
       "    <tr>\n",
       "      <th>104</th>\n",
       "      <td>CMG제약</td>\n",
       "      <td>58820</td>\n",
       "      <td>신규시설투자등</td>\n",
       "      <td>20220120</td>\n",
       "      <td>2022</td>\n",
       "    </tr>\n",
       "    <tr>\n",
       "      <th>105</th>\n",
       "      <td>CMG제약</td>\n",
       "      <td>58820</td>\n",
       "      <td>불성실공시법인미지정</td>\n",
       "      <td>20220103</td>\n",
       "      <td>2022</td>\n",
       "    </tr>\n",
       "  </tbody>\n",
       "</table>\n",
       "<p>106 rows × 5 columns</p>\n",
       "</div>"
      ],
      "text/plain": [
       "    corp_name stock_code                    report_nm  rcept_dt     y\n",
       "0       CMG제약      58820              주주명부폐쇄기간또는기준일설정  20181213  2018\n",
       "1       CMG제약      58820                  단일판매ㆍ공급계약체결  20181127  2018\n",
       "2       CMG제약      58820              분기보고서 (2018.09)  20181114  2018\n",
       "3       CMG제약      58820          임원ㆍ주요주주특정증권등소유상황보고서  20181010  2018\n",
       "4       CMG제약      58820            주요사항보고서(유형자산양수결정)  20180904  2018\n",
       "..        ...        ...                          ...       ...   ...\n",
       "101     CMG제약      58820                주주총회집중일개최사유신고  20220310  2022\n",
       "102     CMG제약      58820                     주주총회소집결의  20220310  2022\n",
       "103     CMG제약      58820  매출액또는손익구조30%(대규모법인은15%)이상변동  20220210  2022\n",
       "104     CMG제약      58820                      신규시설투자등  20220120  2022\n",
       "105     CMG제약      58820                   불성실공시법인미지정  20220103  2022\n",
       "\n",
       "[106 rows x 5 columns]"
      ]
     },
     "execution_count": 12,
     "metadata": {},
     "output_type": "execute_result"
    }
   ],
   "source": [
    "df_list3[0]"
   ]
  },
  {
   "cell_type": "markdown",
   "id": "e8919110-a6ba-40a1-9bbd-c6529ecf5acb",
   "metadata": {},
   "source": [
    "# drop"
   ]
  },
  {
   "cell_type": "code",
   "execution_count": 13,
   "id": "c30ff06c-80b3-4430-b4b1-72e98fe7fa0e",
   "metadata": {},
   "outputs": [
    {
     "name": "stdout",
     "output_type": "stream",
     "text": [
      "<class 'pandas.core.frame.DataFrame'>\n",
      "RangeIndex: 106 entries, 0 to 105\n",
      "Data columns (total 5 columns):\n",
      " #   Column      Non-Null Count  Dtype \n",
      "---  ------      --------------  ----- \n",
      " 0   corp_name   106 non-null    object\n",
      " 1   stock_code  106 non-null    object\n",
      " 2   report_nm   106 non-null    object\n",
      " 3   rcept_dt    106 non-null    object\n",
      " 4   y           106 non-null    object\n",
      "dtypes: object(5)\n",
      "memory usage: 4.3+ KB\n"
     ]
    }
   ],
   "source": [
    "df_list3[0].info()"
   ]
  },
  {
   "cell_type": "code",
   "execution_count": 14,
   "id": "63cea1be-cd71-42f3-afac-10c56d4d63d2",
   "metadata": {},
   "outputs": [],
   "source": [
    "# df_list3[0]['report_nm'][:3].str"
   ]
  },
  {
   "cell_type": "code",
   "execution_count": 15,
   "id": "e997be90-6e3c-4f06-8712-4999318ce154",
   "metadata": {},
   "outputs": [
    {
     "data": {
      "text/html": [
       "<div>\n",
       "<style scoped>\n",
       "    .dataframe tbody tr th:only-of-type {\n",
       "        vertical-align: middle;\n",
       "    }\n",
       "\n",
       "    .dataframe tbody tr th {\n",
       "        vertical-align: top;\n",
       "    }\n",
       "\n",
       "    .dataframe thead th {\n",
       "        text-align: right;\n",
       "    }\n",
       "</style>\n",
       "<table border=\"1\" class=\"dataframe\">\n",
       "  <thead>\n",
       "    <tr style=\"text-align: right;\">\n",
       "      <th></th>\n",
       "      <th>df</th>\n",
       "      <th>row</th>\n",
       "    </tr>\n",
       "  </thead>\n",
       "  <tbody>\n",
       "  </tbody>\n",
       "</table>\n",
       "</div>"
      ],
      "text/plain": [
       "Empty DataFrame\n",
       "Columns: [df, row]\n",
       "Index: []"
      ]
     },
     "execution_count": 15,
     "metadata": {},
     "output_type": "execute_result"
    }
   ],
   "source": [
    "drop_df = pd.DataFrame(columns = ['df', 'row' ])\n",
    "drop_df"
   ]
  },
  {
   "cell_type": "code",
   "execution_count": 16,
   "id": "f3caa5e0-c5a9-43cc-b754-cd1f39f35561",
   "metadata": {},
   "outputs": [],
   "source": [
    "for i, df in enumerate(df_list3):\n",
    "    for j,title in enumerate(df['report_nm']):\n",
    "        if (\"단일판매\" in title) or (\"보고서\" in title) or(\"주주총회\" in title) or(\"참고서류\" in title):\n",
    "            # print(1)\n",
    "            drop_df = drop_df.append({'df':i,'row':j}, ignore_index=True)"
   ]
  },
  {
   "cell_type": "code",
   "execution_count": null,
   "id": "717d5d65-fea9-4f69-b358-f330cbd793ba",
   "metadata": {},
   "outputs": [],
   "source": []
  },
  {
   "cell_type": "code",
   "execution_count": 17,
   "id": "d56cc833-8706-4318-a01c-2766bb87efdb",
   "metadata": {},
   "outputs": [],
   "source": [
    "# for i, df in enumerate(df_list2[:1]):\n",
    "#     # for j,title in enumerate(df['report_nm']):\n",
    "#         # print(title)\n",
    "#     if (df['report_nm'].item().str.contains(\"단일판매\")): #or title.find('보고서') or title.find('주주총회') or title.find('참고서류')) :\n",
    "#             print(1)\n",
    "#         # drop_df = drop_df.append({'df':i,'row':j}, ignore_index=True)\n",
    "#             # print(i,j, tmp)\n",
    "# # 찾는 값이 없을 경우 -1 리턴"
   ]
  },
  {
   "cell_type": "code",
   "execution_count": 18,
   "id": "e9e73338-78b6-4a3e-bab9-8dcad666e9ce",
   "metadata": {},
   "outputs": [
    {
     "data": {
      "text/plain": [
       "14855"
      ]
     },
     "execution_count": 18,
     "metadata": {},
     "output_type": "execute_result"
    }
   ],
   "source": [
    "len(drop_df)"
   ]
  },
  {
   "cell_type": "code",
   "execution_count": 19,
   "id": "c4cfb8a9-294b-4bae-a9d7-cde77334deb0",
   "metadata": {},
   "outputs": [
    {
     "data": {
      "text/html": [
       "<div>\n",
       "<style scoped>\n",
       "    .dataframe tbody tr th:only-of-type {\n",
       "        vertical-align: middle;\n",
       "    }\n",
       "\n",
       "    .dataframe tbody tr th {\n",
       "        vertical-align: top;\n",
       "    }\n",
       "\n",
       "    .dataframe thead th {\n",
       "        text-align: right;\n",
       "    }\n",
       "</style>\n",
       "<table border=\"1\" class=\"dataframe\">\n",
       "  <thead>\n",
       "    <tr style=\"text-align: right;\">\n",
       "      <th></th>\n",
       "      <th>df</th>\n",
       "      <th>row</th>\n",
       "    </tr>\n",
       "  </thead>\n",
       "  <tbody>\n",
       "    <tr>\n",
       "      <th>0</th>\n",
       "      <td>0</td>\n",
       "      <td>1</td>\n",
       "    </tr>\n",
       "    <tr>\n",
       "      <th>1</th>\n",
       "      <td>0</td>\n",
       "      <td>2</td>\n",
       "    </tr>\n",
       "  </tbody>\n",
       "</table>\n",
       "</div>"
      ],
      "text/plain": [
       "  df row\n",
       "0  0   1\n",
       "1  0   2"
      ]
     },
     "execution_count": 19,
     "metadata": {},
     "output_type": "execute_result"
    }
   ],
   "source": [
    "drop_df.head(2)"
   ]
  },
  {
   "cell_type": "code",
   "execution_count": 20,
   "id": "46982806-1c4f-4b09-86d5-639ee14bc5b9",
   "metadata": {},
   "outputs": [
    {
     "data": {
      "text/plain": [
       "106"
      ]
     },
     "execution_count": 20,
     "metadata": {},
     "output_type": "execute_result"
    }
   ],
   "source": [
    "len(df_list3[0])"
   ]
  },
  {
   "cell_type": "code",
   "execution_count": 21,
   "id": "f781bb90-346c-480c-a933-40f05abdc746",
   "metadata": {},
   "outputs": [
    {
     "data": {
      "text/html": [
       "<div>\n",
       "<style scoped>\n",
       "    .dataframe tbody tr th:only-of-type {\n",
       "        vertical-align: middle;\n",
       "    }\n",
       "\n",
       "    .dataframe tbody tr th {\n",
       "        vertical-align: top;\n",
       "    }\n",
       "\n",
       "    .dataframe thead th {\n",
       "        text-align: right;\n",
       "    }\n",
       "</style>\n",
       "<table border=\"1\" class=\"dataframe\">\n",
       "  <thead>\n",
       "    <tr style=\"text-align: right;\">\n",
       "      <th></th>\n",
       "      <th>corp_name</th>\n",
       "      <th>stock_code</th>\n",
       "      <th>report_nm</th>\n",
       "      <th>rcept_dt</th>\n",
       "      <th>y</th>\n",
       "    </tr>\n",
       "  </thead>\n",
       "  <tbody>\n",
       "    <tr>\n",
       "      <th>0</th>\n",
       "      <td>CMG제약</td>\n",
       "      <td>58820</td>\n",
       "      <td>주주명부폐쇄기간또는기준일설정</td>\n",
       "      <td>20181213</td>\n",
       "      <td>2018</td>\n",
       "    </tr>\n",
       "    <tr>\n",
       "      <th>1</th>\n",
       "      <td>CMG제약</td>\n",
       "      <td>58820</td>\n",
       "      <td>단일판매ㆍ공급계약체결</td>\n",
       "      <td>20181127</td>\n",
       "      <td>2018</td>\n",
       "    </tr>\n",
       "    <tr>\n",
       "      <th>2</th>\n",
       "      <td>CMG제약</td>\n",
       "      <td>58820</td>\n",
       "      <td>분기보고서 (2018.09)</td>\n",
       "      <td>20181114</td>\n",
       "      <td>2018</td>\n",
       "    </tr>\n",
       "    <tr>\n",
       "      <th>3</th>\n",
       "      <td>CMG제약</td>\n",
       "      <td>58820</td>\n",
       "      <td>임원ㆍ주요주주특정증권등소유상황보고서</td>\n",
       "      <td>20181010</td>\n",
       "      <td>2018</td>\n",
       "    </tr>\n",
       "    <tr>\n",
       "      <th>4</th>\n",
       "      <td>CMG제약</td>\n",
       "      <td>58820</td>\n",
       "      <td>주요사항보고서(유형자산양수결정)</td>\n",
       "      <td>20180904</td>\n",
       "      <td>2018</td>\n",
       "    </tr>\n",
       "    <tr>\n",
       "      <th>...</th>\n",
       "      <td>...</td>\n",
       "      <td>...</td>\n",
       "      <td>...</td>\n",
       "      <td>...</td>\n",
       "      <td>...</td>\n",
       "    </tr>\n",
       "    <tr>\n",
       "      <th>101</th>\n",
       "      <td>CMG제약</td>\n",
       "      <td>58820</td>\n",
       "      <td>주주총회집중일개최사유신고</td>\n",
       "      <td>20220310</td>\n",
       "      <td>2022</td>\n",
       "    </tr>\n",
       "    <tr>\n",
       "      <th>102</th>\n",
       "      <td>CMG제약</td>\n",
       "      <td>58820</td>\n",
       "      <td>주주총회소집결의</td>\n",
       "      <td>20220310</td>\n",
       "      <td>2022</td>\n",
       "    </tr>\n",
       "    <tr>\n",
       "      <th>103</th>\n",
       "      <td>CMG제약</td>\n",
       "      <td>58820</td>\n",
       "      <td>매출액또는손익구조30%(대규모법인은15%)이상변동</td>\n",
       "      <td>20220210</td>\n",
       "      <td>2022</td>\n",
       "    </tr>\n",
       "    <tr>\n",
       "      <th>104</th>\n",
       "      <td>CMG제약</td>\n",
       "      <td>58820</td>\n",
       "      <td>신규시설투자등</td>\n",
       "      <td>20220120</td>\n",
       "      <td>2022</td>\n",
       "    </tr>\n",
       "    <tr>\n",
       "      <th>105</th>\n",
       "      <td>CMG제약</td>\n",
       "      <td>58820</td>\n",
       "      <td>불성실공시법인미지정</td>\n",
       "      <td>20220103</td>\n",
       "      <td>2022</td>\n",
       "    </tr>\n",
       "  </tbody>\n",
       "</table>\n",
       "<p>106 rows × 5 columns</p>\n",
       "</div>"
      ],
      "text/plain": [
       "    corp_name stock_code                    report_nm  rcept_dt     y\n",
       "0       CMG제약      58820              주주명부폐쇄기간또는기준일설정  20181213  2018\n",
       "1       CMG제약      58820                  단일판매ㆍ공급계약체결  20181127  2018\n",
       "2       CMG제약      58820              분기보고서 (2018.09)  20181114  2018\n",
       "3       CMG제약      58820          임원ㆍ주요주주특정증권등소유상황보고서  20181010  2018\n",
       "4       CMG제약      58820            주요사항보고서(유형자산양수결정)  20180904  2018\n",
       "..        ...        ...                          ...       ...   ...\n",
       "101     CMG제약      58820                주주총회집중일개최사유신고  20220310  2022\n",
       "102     CMG제약      58820                     주주총회소집결의  20220310  2022\n",
       "103     CMG제약      58820  매출액또는손익구조30%(대규모법인은15%)이상변동  20220210  2022\n",
       "104     CMG제약      58820                      신규시설투자등  20220120  2022\n",
       "105     CMG제약      58820                   불성실공시법인미지정  20220103  2022\n",
       "\n",
       "[106 rows x 5 columns]"
      ]
     },
     "execution_count": 21,
     "metadata": {},
     "output_type": "execute_result"
    }
   ],
   "source": [
    "df_list3[0]"
   ]
  },
  {
   "cell_type": "code",
   "execution_count": 22,
   "id": "2bc96273-3ace-4baf-a44f-be7158887781",
   "metadata": {},
   "outputs": [],
   "source": [
    "# 1, 2, 3, 4, 5, 6, 7, 8, 12, 13, 14, 16, 17, 20, 21, 22, 23, 25, 28, 29, 32, 34, 35, 38, 40, 42, 44, 46, 47, 48, 49, 51, 52, 53, 54, 56, 57, 59, 60, 61, 63, 64, 65, 71, 72, 76, 78, 81, 82, 83, 84, 85, 86, 87, 90, 91, 94, 96, 97, 98, 99, 100, 101, 102"
   ]
  },
  {
   "cell_type": "code",
   "execution_count": 23,
   "id": "a6b04f0e-9cd2-497a-b80e-3dc0e0c54b09",
   "metadata": {},
   "outputs": [],
   "source": [
    "drop_df['row'] = drop_df['row'].astype('int')"
   ]
  },
  {
   "cell_type": "code",
   "execution_count": 24,
   "id": "84f34f6d-767f-47c6-ab85-b90907e8005c",
   "metadata": {},
   "outputs": [
    {
     "name": "stdout",
     "output_type": "stream",
     "text": [
      "<class 'pandas.core.frame.DataFrame'>\n",
      "RangeIndex: 14855 entries, 0 to 14854\n",
      "Data columns (total 2 columns):\n",
      " #   Column  Non-Null Count  Dtype \n",
      "---  ------  --------------  ----- \n",
      " 0   df      14855 non-null  object\n",
      " 1   row     14855 non-null  int32 \n",
      "dtypes: int32(1), object(1)\n",
      "memory usage: 174.2+ KB\n"
     ]
    }
   ],
   "source": [
    "drop_df.info()"
   ]
  },
  {
   "cell_type": "code",
   "execution_count": 25,
   "id": "920d174b-3698-4c5a-9cfb-67598c02367d",
   "metadata": {},
   "outputs": [],
   "source": [
    "# tmp.values"
   ]
  },
  {
   "cell_type": "code",
   "execution_count": 26,
   "id": "7c9acc72-dcfd-4f57-b1ad-c91f882d6cc7",
   "metadata": {},
   "outputs": [],
   "source": [
    "df_list4 = []\n",
    "for i, df in enumerate(df_list3):\n",
    "    tmp_list =[]\n",
    "    tmp=drop_df[drop_df['df']==i]['row']\n",
    "    # tmp_list.append(tmp)\n",
    "    df = df.drop(tmp.values, axis = 0)\n",
    "    df_list4.append(df)"
   ]
  },
  {
   "cell_type": "code",
   "execution_count": 27,
   "id": "3226289d-ff92-4bc0-80a7-d6c6b7634ebb",
   "metadata": {},
   "outputs": [
    {
     "data": {
      "text/plain": [
       "42"
      ]
     },
     "execution_count": 27,
     "metadata": {},
     "output_type": "execute_result"
    }
   ],
   "source": [
    "len(df_list4[0])"
   ]
  },
  {
   "cell_type": "code",
   "execution_count": 28,
   "id": "cc196f57-9e90-434e-af5a-4da1af43137b",
   "metadata": {},
   "outputs": [
    {
     "data": {
      "text/plain": [
       "126"
      ]
     },
     "execution_count": 28,
     "metadata": {},
     "output_type": "execute_result"
    }
   ],
   "source": [
    "len(df_list3)"
   ]
  },
  {
   "cell_type": "code",
   "execution_count": 29,
   "id": "2cda29c7-589e-46b5-b71f-5775222be3ad",
   "metadata": {},
   "outputs": [],
   "source": [
    "# df_list4[0]"
   ]
  },
  {
   "cell_type": "code",
   "execution_count": 30,
   "id": "c00847ef-bf85-4bab-a11b-a4862dfde63d",
   "metadata": {},
   "outputs": [],
   "source": [
    "# drop_df"
   ]
  },
  {
   "cell_type": "code",
   "execution_count": 31,
   "id": "c4f4bb8f-eb98-4edf-9140-cd5452654cde",
   "metadata": {},
   "outputs": [],
   "source": [
    "# df_list4[0]"
   ]
  },
  {
   "cell_type": "code",
   "execution_count": 32,
   "id": "a1033fb4-37d1-4771-86c2-04fbf40ed125",
   "metadata": {},
   "outputs": [],
   "source": [
    "# for row in df_list2[0]['report_nm']:\n",
    "    # print(row)"
   ]
  },
  {
   "cell_type": "code",
   "execution_count": 33,
   "id": "4da15602-a9e4-4ab5-bc45-2abde0f33a0b",
   "metadata": {},
   "outputs": [],
   "source": [
    "# drop_df[drop_df['df']==0]"
   ]
  },
  {
   "cell_type": "code",
   "execution_count": 34,
   "id": "243d5e52-53b6-49d9-97ac-e94966ba0251",
   "metadata": {},
   "outputs": [],
   "source": [
    "# drop_df[drop_df['df']==0]"
   ]
  },
  {
   "cell_type": "markdown",
   "id": "2da078ab-6372-42f4-b034-d66d76079e7b",
   "metadata": {},
   "source": [
    "# 년도별  df 분리"
   ]
  },
  {
   "cell_type": "markdown",
   "id": "f086dc54-7f0d-4d00-9f59-6ec7b5104360",
   "metadata": {},
   "source": [
    "## 2018"
   ]
  },
  {
   "cell_type": "code",
   "execution_count": 35,
   "id": "6ae2736e-3a77-4f1b-a711-11278f8f7dc0",
   "metadata": {},
   "outputs": [],
   "source": [
    "# df_2018 =[]\n",
    "# for df in df_list4:\n",
    "#     tmp = df[df['y']=='2018']\n",
    "#     df_2018.append(tmp)"
   ]
  },
  {
   "cell_type": "code",
   "execution_count": 36,
   "id": "2e6e4438-f912-4877-9cfc-7c924e582cdb",
   "metadata": {},
   "outputs": [],
   "source": [
    "# df_2018[0]"
   ]
  },
  {
   "cell_type": "markdown",
   "id": "f3aa4d85-3724-420c-b1b1-8d6ea4317be7",
   "metadata": {},
   "source": [
    "## 2019"
   ]
  },
  {
   "cell_type": "code",
   "execution_count": 37,
   "id": "865af12c-4b0c-4cab-870f-030e0d4a17b3",
   "metadata": {},
   "outputs": [],
   "source": [
    "# df_2019 =[]\n",
    "# for df in df_list4:\n",
    "#     tmp = df[df['y']=='2019']\n",
    "#     df_2019.append(tmp)"
   ]
  },
  {
   "cell_type": "markdown",
   "id": "6bc4bc25-27a2-4c1d-8024-a5c4fe3fd1d4",
   "metadata": {},
   "source": [
    "## 2020"
   ]
  },
  {
   "cell_type": "code",
   "execution_count": 38,
   "id": "a71b9fc6-221b-4ae6-9e55-06c5fb79da21",
   "metadata": {},
   "outputs": [],
   "source": [
    "# df_2020 =[]\n",
    "# for df in df_list4:\n",
    "#     tmp = df[df['y']=='2020']\n",
    "#     df_2020.append(tmp)"
   ]
  },
  {
   "cell_type": "markdown",
   "id": "39d65455-b64f-4d5c-b0b9-c9b73629de97",
   "metadata": {},
   "source": [
    "## 2021"
   ]
  },
  {
   "cell_type": "code",
   "execution_count": 39,
   "id": "01e6c656-1d0a-48f2-bb96-5b22949c9b8f",
   "metadata": {},
   "outputs": [],
   "source": [
    "# df_2021 =[]\n",
    "# for df in df_list4:\n",
    "#     tmp = df[df['y']=='2021']\n",
    "#     df_2021.append(tmp)"
   ]
  },
  {
   "cell_type": "markdown",
   "id": "6fa6e5f4-6e55-44a4-a1a6-2365ee2642e3",
   "metadata": {},
   "source": [
    "## 2022"
   ]
  },
  {
   "cell_type": "code",
   "execution_count": 40,
   "id": "624afd66-9fb3-457d-b167-7dcaca06f5c1",
   "metadata": {},
   "outputs": [],
   "source": [
    "# df_2022 =[]\n",
    "# for df in df_list4:\n",
    "#     tmp = df[df['y']=='2022']\n",
    "#     df_2022.append(tmp)"
   ]
  },
  {
   "cell_type": "markdown",
   "id": "336c6dae-c06a-458a-8ce3-c212ebffe9bc",
   "metadata": {},
   "source": [
    "# positive(+1)\n",
    "*  DataFrame.insert( loc, column, value)"
   ]
  },
  {
   "cell_type": "markdown",
   "id": "e095779d-6727-4d73-aeb9-b43411d7cfe0",
   "metadata": {},
   "source": [
    "<pre>\n",
    "* 기업설명회\n",
    "신규시설투자\n",
    "취득\n",
    "취득결정\n",
    "유상증자\n",
    "무상증자\n",
    "단기차입금감소결정\n",
    "권리락(무상증자)\n",
    "발행조건확정\n",
    "증권발행결과\n",
    "배당결정\n",
    "특허권\n",
    "실적\n",
    "승인\n",
    "주식분할\n",
    "정지해제\n",
    "대표이사변경"
   ]
  },
  {
   "cell_type": "markdown",
   "id": "ee1f4ef5-0ff1-40d0-b9d1-576cd3e9db01",
   "metadata": {},
   "source": [
    "## 칼럼추가"
   ]
  },
  {
   "cell_type": "code",
   "execution_count": 41,
   "id": "db245f9b-455c-4d0d-8486-397f03b44528",
   "metadata": {},
   "outputs": [],
   "source": [
    "# DataFrame.insert( loc, column, value)  --- 칼럼 추가"
   ]
  },
  {
   "cell_type": "code",
   "execution_count": 42,
   "id": "d9a82bc0-ca53-4d9c-9159-915c96231834",
   "metadata": {},
   "outputs": [],
   "source": [
    "# df_2018_1 =[]\n",
    "# for i, df in enumerate(df_2018):\n",
    "#     df.insert(5,'positive',0)\n",
    "#     df_2018_1.append(df)"
   ]
  },
  {
   "cell_type": "code",
   "execution_count": 43,
   "id": "df2b921b-5dc2-44ed-a5b0-85447f4dcf85",
   "metadata": {},
   "outputs": [],
   "source": [
    "# df_2019_1 =[]\n",
    "# for i, df in enumerate(df_2019):\n",
    "#     df.insert(5,'positive',0)\n",
    "#     df_2019_1.append(df)"
   ]
  },
  {
   "cell_type": "code",
   "execution_count": 44,
   "id": "c29c5033-3a26-4061-ba78-6e7b52194e6e",
   "metadata": {},
   "outputs": [],
   "source": [
    "# df_2020_1 =[]\n",
    "# for i, df in enumerate(df_2020):\n",
    "#     df.insert(5,'positive',0)\n",
    "#     df_2020_1.append(df)"
   ]
  },
  {
   "cell_type": "code",
   "execution_count": 45,
   "id": "f2c2ef78-5461-4209-9079-08615f0af2e5",
   "metadata": {},
   "outputs": [],
   "source": [
    "# df_2021_1 =[]\n",
    "# for i, df in enumerate(df_2021):\n",
    "#     df.insert(5,'positive',0)\n",
    "#     df_2021_1.append(df)"
   ]
  },
  {
   "cell_type": "code",
   "execution_count": 46,
   "id": "f25d4672-b6e4-4ba7-a3b5-fc3a895a4f69",
   "metadata": {},
   "outputs": [],
   "source": [
    "# df_2022_1 =[]\n",
    "# for i, df in enumerate(df_2022):\n",
    "#     df.insert(5,'positive',0)\n",
    "#     df_2022_1.append(df)"
   ]
  },
  {
   "cell_type": "code",
   "execution_count": 47,
   "id": "0bbadad2-a300-4a7a-9ff9-99a26257cfc8",
   "metadata": {},
   "outputs": [
    {
     "data": {
      "text/html": [
       "<div>\n",
       "<style scoped>\n",
       "    .dataframe tbody tr th:only-of-type {\n",
       "        vertical-align: middle;\n",
       "    }\n",
       "\n",
       "    .dataframe tbody tr th {\n",
       "        vertical-align: top;\n",
       "    }\n",
       "\n",
       "    .dataframe thead th {\n",
       "        text-align: right;\n",
       "    }\n",
       "</style>\n",
       "<table border=\"1\" class=\"dataframe\">\n",
       "  <thead>\n",
       "    <tr style=\"text-align: right;\">\n",
       "      <th></th>\n",
       "      <th>corp_name</th>\n",
       "      <th>stock_code</th>\n",
       "      <th>report_nm</th>\n",
       "      <th>rcept_dt</th>\n",
       "      <th>y</th>\n",
       "      <th>positive</th>\n",
       "    </tr>\n",
       "  </thead>\n",
       "  <tbody>\n",
       "    <tr>\n",
       "      <th>0</th>\n",
       "      <td>CMG제약</td>\n",
       "      <td>58820</td>\n",
       "      <td>주주명부폐쇄기간또는기준일설정</td>\n",
       "      <td>20181213</td>\n",
       "      <td>2018</td>\n",
       "      <td>0</td>\n",
       "    </tr>\n",
       "    <tr>\n",
       "      <th>9</th>\n",
       "      <td>CMG제약</td>\n",
       "      <td>58820</td>\n",
       "      <td>소속부변경</td>\n",
       "      <td>20180430</td>\n",
       "      <td>2018</td>\n",
       "      <td>0</td>\n",
       "    </tr>\n",
       "    <tr>\n",
       "      <th>10</th>\n",
       "      <td>CMG제약</td>\n",
       "      <td>58820</td>\n",
       "      <td>사외이사의선임ㆍ해임또는중도퇴임에관한신고</td>\n",
       "      <td>20180323</td>\n",
       "      <td>2018</td>\n",
       "      <td>0</td>\n",
       "    </tr>\n",
       "    <tr>\n",
       "      <th>11</th>\n",
       "      <td>CMG제약</td>\n",
       "      <td>58820</td>\n",
       "      <td>주식매수선택권부여에관한신고</td>\n",
       "      <td>20180323</td>\n",
       "      <td>2018</td>\n",
       "      <td>0</td>\n",
       "    </tr>\n",
       "    <tr>\n",
       "      <th>15</th>\n",
       "      <td>CMG제약</td>\n",
       "      <td>58820</td>\n",
       "      <td>주식매수선택권부여에관한신고</td>\n",
       "      <td>20180308</td>\n",
       "      <td>2018</td>\n",
       "      <td>0</td>\n",
       "    </tr>\n",
       "    <tr>\n",
       "      <th>18</th>\n",
       "      <td>CMG제약</td>\n",
       "      <td>58820</td>\n",
       "      <td>매출액또는손익구조30%(대규모법인은15%)이상변동</td>\n",
       "      <td>20180308</td>\n",
       "      <td>2018</td>\n",
       "      <td>0</td>\n",
       "    </tr>\n",
       "  </tbody>\n",
       "</table>\n",
       "</div>"
      ],
      "text/plain": [
       "   corp_name stock_code                    report_nm  rcept_dt     y  positive\n",
       "0      CMG제약      58820              주주명부폐쇄기간또는기준일설정  20181213  2018         0\n",
       "9      CMG제약      58820                        소속부변경  20180430  2018         0\n",
       "10     CMG제약      58820        사외이사의선임ㆍ해임또는중도퇴임에관한신고  20180323  2018         0\n",
       "11     CMG제약      58820               주식매수선택권부여에관한신고  20180323  2018         0\n",
       "15     CMG제약      58820               주식매수선택권부여에관한신고  20180308  2018         0\n",
       "18     CMG제약      58820  매출액또는손익구조30%(대규모법인은15%)이상변동  20180308  2018         0"
      ]
     },
     "execution_count": 47,
     "metadata": {},
     "output_type": "execute_result"
    }
   ],
   "source": [
    "# df_2018_1[0]"
   ]
  },
  {
   "cell_type": "code",
   "execution_count": 48,
   "id": "b8c210a1-6e5f-4a03-841e-86c443b64b35",
   "metadata": {},
   "outputs": [],
   "source": [
    "a = np.arange(1,25)"
   ]
  },
  {
   "cell_type": "code",
   "execution_count": 49,
   "id": "965f6e84-6dde-4b01-a012-ce3883cab1ab",
   "metadata": {},
   "outputs": [
    {
     "name": "stdout",
     "output_type": "stream",
     "text": [
      "1\n"
     ]
    }
   ],
   "source": [
    "# \\  -> 줄바꿈\n",
    "a =[ 1,  2,  3,  4,  5,  6,  7,  8,  9, 10, 11, 12, 13, 14, 15, 16, 17,18, 19, 20, 21, 22, 23, 24]\n",
    "if (1 in a) or (\"2\" in a) or(\"3\" in a) or(\"4\" in a) or (\"5\" in a) or \\\n",
    "    (\"6\" in a) or(\"7\" in a):\n",
    "    print(1)"
   ]
  },
  {
   "cell_type": "code",
   "execution_count": 50,
   "id": "72f0245e-88da-475c-9bac-57280fd5c720",
   "metadata": {},
   "outputs": [
    {
     "name": "stdout",
     "output_type": "stream",
     "text": [
      "1\n"
     ]
    }
   ],
   "source": [
    "if '주주' in '주주명부폐쇄기간또는기준일설정':\n",
    "    print(1)"
   ]
  },
  {
   "cell_type": "code",
   "execution_count": 51,
   "id": "f544fe73-f3b2-4c69-b7e7-c87863287bbd",
   "metadata": {},
   "outputs": [
    {
     "data": {
      "text/html": [
       "<div>\n",
       "<style scoped>\n",
       "    .dataframe tbody tr th:only-of-type {\n",
       "        vertical-align: middle;\n",
       "    }\n",
       "\n",
       "    .dataframe tbody tr th {\n",
       "        vertical-align: top;\n",
       "    }\n",
       "\n",
       "    .dataframe thead th {\n",
       "        text-align: right;\n",
       "    }\n",
       "</style>\n",
       "<table border=\"1\" class=\"dataframe\">\n",
       "  <thead>\n",
       "    <tr style=\"text-align: right;\">\n",
       "      <th></th>\n",
       "      <th>corp_name</th>\n",
       "      <th>stock_code</th>\n",
       "      <th>report_nm</th>\n",
       "      <th>rcept_dt</th>\n",
       "      <th>y</th>\n",
       "    </tr>\n",
       "  </thead>\n",
       "  <tbody>\n",
       "    <tr>\n",
       "      <th>0</th>\n",
       "      <td>CMG제약</td>\n",
       "      <td>58820</td>\n",
       "      <td>주주명부폐쇄기간또는기준일설정</td>\n",
       "      <td>20181213</td>\n",
       "      <td>2018</td>\n",
       "    </tr>\n",
       "    <tr>\n",
       "      <th>1</th>\n",
       "      <td>CMG제약</td>\n",
       "      <td>58820</td>\n",
       "      <td>단일판매ㆍ공급계약체결</td>\n",
       "      <td>20181127</td>\n",
       "      <td>2018</td>\n",
       "    </tr>\n",
       "    <tr>\n",
       "      <th>2</th>\n",
       "      <td>CMG제약</td>\n",
       "      <td>58820</td>\n",
       "      <td>분기보고서 (2018.09)</td>\n",
       "      <td>20181114</td>\n",
       "      <td>2018</td>\n",
       "    </tr>\n",
       "    <tr>\n",
       "      <th>3</th>\n",
       "      <td>CMG제약</td>\n",
       "      <td>58820</td>\n",
       "      <td>임원ㆍ주요주주특정증권등소유상황보고서</td>\n",
       "      <td>20181010</td>\n",
       "      <td>2018</td>\n",
       "    </tr>\n",
       "    <tr>\n",
       "      <th>4</th>\n",
       "      <td>CMG제약</td>\n",
       "      <td>58820</td>\n",
       "      <td>주요사항보고서(유형자산양수결정)</td>\n",
       "      <td>20180904</td>\n",
       "      <td>2018</td>\n",
       "    </tr>\n",
       "    <tr>\n",
       "      <th>...</th>\n",
       "      <td>...</td>\n",
       "      <td>...</td>\n",
       "      <td>...</td>\n",
       "      <td>...</td>\n",
       "      <td>...</td>\n",
       "    </tr>\n",
       "    <tr>\n",
       "      <th>101</th>\n",
       "      <td>CMG제약</td>\n",
       "      <td>58820</td>\n",
       "      <td>주주총회집중일개최사유신고</td>\n",
       "      <td>20220310</td>\n",
       "      <td>2022</td>\n",
       "    </tr>\n",
       "    <tr>\n",
       "      <th>102</th>\n",
       "      <td>CMG제약</td>\n",
       "      <td>58820</td>\n",
       "      <td>주주총회소집결의</td>\n",
       "      <td>20220310</td>\n",
       "      <td>2022</td>\n",
       "    </tr>\n",
       "    <tr>\n",
       "      <th>103</th>\n",
       "      <td>CMG제약</td>\n",
       "      <td>58820</td>\n",
       "      <td>매출액또는손익구조30%(대규모법인은15%)이상변동</td>\n",
       "      <td>20220210</td>\n",
       "      <td>2022</td>\n",
       "    </tr>\n",
       "    <tr>\n",
       "      <th>104</th>\n",
       "      <td>CMG제약</td>\n",
       "      <td>58820</td>\n",
       "      <td>신규시설투자등</td>\n",
       "      <td>20220120</td>\n",
       "      <td>2022</td>\n",
       "    </tr>\n",
       "    <tr>\n",
       "      <th>105</th>\n",
       "      <td>CMG제약</td>\n",
       "      <td>58820</td>\n",
       "      <td>불성실공시법인미지정</td>\n",
       "      <td>20220103</td>\n",
       "      <td>2022</td>\n",
       "    </tr>\n",
       "  </tbody>\n",
       "</table>\n",
       "<p>106 rows × 5 columns</p>\n",
       "</div>"
      ],
      "text/plain": [
       "    corp_name stock_code                    report_nm  rcept_dt     y\n",
       "0       CMG제약      58820              주주명부폐쇄기간또는기준일설정  20181213  2018\n",
       "1       CMG제약      58820                  단일판매ㆍ공급계약체결  20181127  2018\n",
       "2       CMG제약      58820              분기보고서 (2018.09)  20181114  2018\n",
       "3       CMG제약      58820          임원ㆍ주요주주특정증권등소유상황보고서  20181010  2018\n",
       "4       CMG제약      58820            주요사항보고서(유형자산양수결정)  20180904  2018\n",
       "..        ...        ...                          ...       ...   ...\n",
       "101     CMG제약      58820                주주총회집중일개최사유신고  20220310  2022\n",
       "102     CMG제약      58820                     주주총회소집결의  20220310  2022\n",
       "103     CMG제약      58820  매출액또는손익구조30%(대규모법인은15%)이상변동  20220210  2022\n",
       "104     CMG제약      58820                      신규시설투자등  20220120  2022\n",
       "105     CMG제약      58820                   불성실공시법인미지정  20220103  2022\n",
       "\n",
       "[106 rows x 5 columns]"
      ]
     },
     "execution_count": 51,
     "metadata": {},
     "output_type": "execute_result"
    }
   ],
   "source": [
    "# df_list3[0]"
   ]
  },
  {
   "cell_type": "code",
   "execution_count": 52,
   "id": "58c0ead8-ba02-4ff4-826b-66ba41401301",
   "metadata": {},
   "outputs": [
    {
     "data": {
      "text/plain": [
       "'2018'"
      ]
     },
     "execution_count": 52,
     "metadata": {},
     "output_type": "execute_result"
    }
   ],
   "source": [
    "df_list3[0].iloc[1,4]"
   ]
  },
  {
   "cell_type": "markdown",
   "id": "3521e709-9448-408f-88cf-234c2ccdbd96",
   "metadata": {},
   "source": [
    "## 지표 구분"
   ]
  },
  {
   "cell_type": "code",
   "execution_count": 53,
   "id": "75af35a8-e0e9-48c1-9300-a018706a8b13",
   "metadata": {},
   "outputs": [
    {
     "data": {
      "text/html": [
       "<div>\n",
       "<style scoped>\n",
       "    .dataframe tbody tr th:only-of-type {\n",
       "        vertical-align: middle;\n",
       "    }\n",
       "\n",
       "    .dataframe tbody tr th {\n",
       "        vertical-align: top;\n",
       "    }\n",
       "\n",
       "    .dataframe thead th {\n",
       "        text-align: right;\n",
       "    }\n",
       "</style>\n",
       "<table border=\"1\" class=\"dataframe\">\n",
       "  <thead>\n",
       "    <tr style=\"text-align: right;\">\n",
       "      <th></th>\n",
       "      <th>corp_name</th>\n",
       "      <th>stock_code</th>\n",
       "      <th>report_nm</th>\n",
       "      <th>rcept_dt</th>\n",
       "      <th>y</th>\n",
       "      <th>positive</th>\n",
       "    </tr>\n",
       "  </thead>\n",
       "  <tbody>\n",
       "    <tr>\n",
       "      <th>0</th>\n",
       "      <td>CMG제약</td>\n",
       "      <td>58820</td>\n",
       "      <td>주주명부폐쇄기간또는기준일설정</td>\n",
       "      <td>20181213</td>\n",
       "      <td>2018</td>\n",
       "      <td>0</td>\n",
       "    </tr>\n",
       "    <tr>\n",
       "      <th>9</th>\n",
       "      <td>CMG제약</td>\n",
       "      <td>58820</td>\n",
       "      <td>소속부변경</td>\n",
       "      <td>20180430</td>\n",
       "      <td>2018</td>\n",
       "      <td>0</td>\n",
       "    </tr>\n",
       "    <tr>\n",
       "      <th>10</th>\n",
       "      <td>CMG제약</td>\n",
       "      <td>58820</td>\n",
       "      <td>사외이사의선임ㆍ해임또는중도퇴임에관한신고</td>\n",
       "      <td>20180323</td>\n",
       "      <td>2018</td>\n",
       "      <td>0</td>\n",
       "    </tr>\n",
       "    <tr>\n",
       "      <th>11</th>\n",
       "      <td>CMG제약</td>\n",
       "      <td>58820</td>\n",
       "      <td>주식매수선택권부여에관한신고</td>\n",
       "      <td>20180323</td>\n",
       "      <td>2018</td>\n",
       "      <td>0</td>\n",
       "    </tr>\n",
       "    <tr>\n",
       "      <th>15</th>\n",
       "      <td>CMG제약</td>\n",
       "      <td>58820</td>\n",
       "      <td>주식매수선택권부여에관한신고</td>\n",
       "      <td>20180308</td>\n",
       "      <td>2018</td>\n",
       "      <td>0</td>\n",
       "    </tr>\n",
       "    <tr>\n",
       "      <th>18</th>\n",
       "      <td>CMG제약</td>\n",
       "      <td>58820</td>\n",
       "      <td>매출액또는손익구조30%(대규모법인은15%)이상변동</td>\n",
       "      <td>20180308</td>\n",
       "      <td>2018</td>\n",
       "      <td>0</td>\n",
       "    </tr>\n",
       "  </tbody>\n",
       "</table>\n",
       "</div>"
      ],
      "text/plain": [
       "   corp_name stock_code                    report_nm  rcept_dt     y  positive\n",
       "0      CMG제약      58820              주주명부폐쇄기간또는기준일설정  20181213  2018         0\n",
       "9      CMG제약      58820                        소속부변경  20180430  2018         0\n",
       "10     CMG제약      58820        사외이사의선임ㆍ해임또는중도퇴임에관한신고  20180323  2018         0\n",
       "11     CMG제약      58820               주식매수선택권부여에관한신고  20180323  2018         0\n",
       "15     CMG제약      58820               주식매수선택권부여에관한신고  20180308  2018         0\n",
       "18     CMG제약      58820  매출액또는손익구조30%(대규모법인은15%)이상변동  20180308  2018         0"
      ]
     },
     "execution_count": 53,
     "metadata": {},
     "output_type": "execute_result"
    }
   ],
   "source": [
    "df_2018_1[0]"
   ]
  },
  {
   "cell_type": "code",
   "execution_count": 54,
   "id": "4bc1c5e6-c54a-4bba-995f-d9d770d83d6f",
   "metadata": {},
   "outputs": [],
   "source": [
    "# for i, df in enumerate(df_2018_1):\n",
    "#     for j,note in enumerate(df['report_nm']):\n",
    "#         if (\"기업설명회\" in note) or (\"신규시설투자\" in note) or(\"취득\" in note) or(\"취득결정\" in note) or \\\n",
    "#         (\"유상증자\" in note) or (\"무상증자\" in note) or (\"단기차입금감소결정\" in note) or(\"권리락\" in note) \\\n",
    "#         or(\"발행조건확정\" in note) or (\"증권발행결과\" in note) or (\"배당결정\" in note) or(\"특허권\" in note) \\\n",
    "#         or(\"실적\" in note) or(\"승인\" in note) or (\"주식분할\" in note) or(\"정지해제\" in note) or \\\n",
    "#         (\"대표이사변경\" in note):\n",
    "#             # print(1)\n",
    "#             df.loc[j,'positive']  = 1"
   ]
  },
  {
   "cell_type": "code",
   "execution_count": 55,
   "id": "460e9d26-53e0-4291-8352-b4758d43fcb6",
   "metadata": {},
   "outputs": [],
   "source": [
    "for i, df in enumerate(df_2019_1):\n",
    "    for j,note in enumerate(df['report_nm']):\n",
    "        if (\"기업설명회\" in note) or (\"신규시설투자\" in note) or(\"취득\" in note) or(\"취득결정\" in note) or \\\n",
    "        (\"유상증자\" in note) or (\"무상증자\" in note) or (\"단기차입금감소결정\" in note) or(\"권리락\" in note) \\\n",
    "        or(\"발행조건확정\" in note) or (\"증권발행결과\" in note) or (\"배당결정\" in note) or(\"특허권\" in note) \\\n",
    "        or(\"실적\" in note) or(\"승인\" in note) or (\"주식분할\" in note) or(\"정지해제\" in note) or \\\n",
    "        (\"대표이사변경\" in note):\n",
    "            # print(1)\n",
    "            df.loc[j,'positive']  = 1"
   ]
  },
  {
   "cell_type": "code",
   "execution_count": 56,
   "id": "836a3c24-5b99-4cbd-bcfd-a324198d891a",
   "metadata": {},
   "outputs": [],
   "source": [
    "for i, df in enumerate(df_2020_1):\n",
    "    for j,note in enumerate(df['report_nm']):\n",
    "        if (\"기업설명회\" in note) or (\"신규시설투자\" in note) or(\"취득\" in note) or(\"취득결정\" in note) or \\\n",
    "        (\"유상증자\" in note) or (\"무상증자\" in note) or (\"단기차입금감소결정\" in note) or(\"권리락\" in note) \\\n",
    "        or(\"발행조건확정\" in note) or (\"증권발행결과\" in note) or (\"배당결정\" in note) or(\"특허권\" in note) \\\n",
    "        or(\"실적\" in note) or(\"승인\" in note) or (\"주식분할\" in note) or(\"정지해제\" in note) or \\\n",
    "        (\"대표이사변경\" in note):\n",
    "            # print(1)\n",
    "            df.loc[j,'positive']  = 1"
   ]
  },
  {
   "cell_type": "code",
   "execution_count": 57,
   "id": "e0009d47-b328-42d5-9294-ca4433c9139d",
   "metadata": {},
   "outputs": [],
   "source": [
    "for i, df in enumerate(df_2021_1):\n",
    "    for j,note in enumerate(df['report_nm']):\n",
    "        if (\"기업설명회\" in note) or (\"신규시설투자\" in note) or(\"취득\" in note) or(\"취득결정\" in note) or \\\n",
    "        (\"유상증자\" in note) or (\"무상증자\" in note) or (\"단기차입금감소결정\" in note) or(\"권리락\" in note) \\\n",
    "        or(\"발행조건확정\" in note) or (\"증권발행결과\" in note) or (\"배당결정\" in note) or(\"특허권\" in note) \\\n",
    "        or(\"실적\" in note) or(\"승인\" in note) or (\"주식분할\" in note) or(\"정지해제\" in note) or \\\n",
    "        (\"대표이사변경\" in note):\n",
    "            # print(1)\n",
    "            df.loc[j,'positive']  = 1"
   ]
  },
  {
   "cell_type": "code",
   "execution_count": 58,
   "id": "61bf879e-1693-4587-9ae6-8120ab7e9a56",
   "metadata": {},
   "outputs": [],
   "source": [
    "for i, df in enumerate(df_2022_1):\n",
    "    for j,note in enumerate(df['report_nm']):\n",
    "        if (\"기업설명회\" in note) or (\"신규시설투자\" in note) or(\"취득\" in note) or(\"취득결정\" in note) or \\\n",
    "        (\"유상증자\" in note) or (\"무상증자\" in note) or (\"단기차입금감소결정\" in note) or(\"권리락\" in note) \\\n",
    "        or(\"발행조건확정\" in note) or (\"증권발행결과\" in note) or (\"배당결정\" in note) or(\"특허권\" in note) \\\n",
    "        or(\"실적\" in note) or(\"승인\" in note) or (\"주식분할\" in note) or(\"정지해제\" in note) or \\\n",
    "        (\"대표이사변경\" in note):\n",
    "            # print(1)\n",
    "            df.loc[j,'positive']  = 1"
   ]
  },
  {
   "cell_type": "code",
   "execution_count": null,
   "id": "f1749aba-680e-43f4-bfce-717d8e274648",
   "metadata": {},
   "outputs": [],
   "source": []
  },
  {
   "cell_type": "code",
   "execution_count": 59,
   "id": "2c1c830d-89b8-4bc6-b6d1-427a0855a1d5",
   "metadata": {},
   "outputs": [],
   "source": [
    "# for i, df in enumerate(df_list3_cp_1):\n",
    "#     # for j,title in enumerate(df['report_nm']):\n",
    "#     if df:\n",
    "#         df"
   ]
  },
  {
   "cell_type": "code",
   "execution_count": 60,
   "id": "0673974a-467d-4065-b5cf-dbb286e46d93",
   "metadata": {},
   "outputs": [
    {
     "data": {
      "text/html": [
       "<div>\n",
       "<style scoped>\n",
       "    .dataframe tbody tr th:only-of-type {\n",
       "        vertical-align: middle;\n",
       "    }\n",
       "\n",
       "    .dataframe tbody tr th {\n",
       "        vertical-align: top;\n",
       "    }\n",
       "\n",
       "    .dataframe thead th {\n",
       "        text-align: right;\n",
       "    }\n",
       "</style>\n",
       "<table border=\"1\" class=\"dataframe\">\n",
       "  <thead>\n",
       "    <tr style=\"text-align: right;\">\n",
       "      <th></th>\n",
       "      <th>corp_name</th>\n",
       "      <th>stock_code</th>\n",
       "      <th>report_nm</th>\n",
       "      <th>rcept_dt</th>\n",
       "      <th>y</th>\n",
       "      <th>positive</th>\n",
       "    </tr>\n",
       "  </thead>\n",
       "  <tbody>\n",
       "    <tr>\n",
       "      <th>0</th>\n",
       "      <td>CMG제약</td>\n",
       "      <td>58820</td>\n",
       "      <td>주주명부폐쇄기간또는기준일설정</td>\n",
       "      <td>20181213</td>\n",
       "      <td>2018</td>\n",
       "      <td>0</td>\n",
       "    </tr>\n",
       "    <tr>\n",
       "      <th>9</th>\n",
       "      <td>CMG제약</td>\n",
       "      <td>58820</td>\n",
       "      <td>소속부변경</td>\n",
       "      <td>20180430</td>\n",
       "      <td>2018</td>\n",
       "      <td>0</td>\n",
       "    </tr>\n",
       "    <tr>\n",
       "      <th>10</th>\n",
       "      <td>CMG제약</td>\n",
       "      <td>58820</td>\n",
       "      <td>사외이사의선임ㆍ해임또는중도퇴임에관한신고</td>\n",
       "      <td>20180323</td>\n",
       "      <td>2018</td>\n",
       "      <td>0</td>\n",
       "    </tr>\n",
       "    <tr>\n",
       "      <th>11</th>\n",
       "      <td>CMG제약</td>\n",
       "      <td>58820</td>\n",
       "      <td>주식매수선택권부여에관한신고</td>\n",
       "      <td>20180323</td>\n",
       "      <td>2018</td>\n",
       "      <td>0</td>\n",
       "    </tr>\n",
       "    <tr>\n",
       "      <th>15</th>\n",
       "      <td>CMG제약</td>\n",
       "      <td>58820</td>\n",
       "      <td>주식매수선택권부여에관한신고</td>\n",
       "      <td>20180308</td>\n",
       "      <td>2018</td>\n",
       "      <td>0</td>\n",
       "    </tr>\n",
       "    <tr>\n",
       "      <th>18</th>\n",
       "      <td>CMG제약</td>\n",
       "      <td>58820</td>\n",
       "      <td>매출액또는손익구조30%(대규모법인은15%)이상변동</td>\n",
       "      <td>20180308</td>\n",
       "      <td>2018</td>\n",
       "      <td>0</td>\n",
       "    </tr>\n",
       "  </tbody>\n",
       "</table>\n",
       "</div>"
      ],
      "text/plain": [
       "   corp_name stock_code                    report_nm  rcept_dt     y  positive\n",
       "0      CMG제약      58820              주주명부폐쇄기간또는기준일설정  20181213  2018         0\n",
       "9      CMG제약      58820                        소속부변경  20180430  2018         0\n",
       "10     CMG제약      58820        사외이사의선임ㆍ해임또는중도퇴임에관한신고  20180323  2018         0\n",
       "11     CMG제약      58820               주식매수선택권부여에관한신고  20180323  2018         0\n",
       "15     CMG제약      58820               주식매수선택권부여에관한신고  20180308  2018         0\n",
       "18     CMG제약      58820  매출액또는손익구조30%(대규모법인은15%)이상변동  20180308  2018         0"
      ]
     },
     "execution_count": 60,
     "metadata": {},
     "output_type": "execute_result"
    }
   ],
   "source": [
    "df_2018_1[0]"
   ]
  },
  {
   "cell_type": "markdown",
   "id": "4b12bd61-a322-4fd6-bbeb-1be61498a111",
   "metadata": {},
   "source": [
    "# negative(-1)"
   ]
  },
  {
   "cell_type": "markdown",
   "id": "08b07c36-6c58-4015-8eeb-b858af3ab457",
   "metadata": {},
   "source": [
    "<pre>\n",
    "불성실공시법인미지정\n",
    "해임\n",
    "중도퇴임\n",
    "매매거래정지"
   ]
  },
  {
   "cell_type": "markdown",
   "id": "02257a2d-c80e-4792-ad68-d5b9ea654737",
   "metadata": {},
   "source": [
    "## 칼럼 추가"
   ]
  },
  {
   "cell_type": "code",
   "execution_count": 61,
   "id": "024367d2-0424-4bd8-a136-9c1f98e02dee",
   "metadata": {},
   "outputs": [],
   "source": [
    "df_2018_2 =[]\n",
    "for df in df_2018_1:\n",
    "    df.insert(6,'negative',0)\n",
    "    df_2018_2.append(df)"
   ]
  },
  {
   "cell_type": "code",
   "execution_count": 62,
   "id": "a0ed3d94-2a10-4b85-8245-1c4d8fb1db35",
   "metadata": {},
   "outputs": [],
   "source": [
    "# df_2019_2[0]"
   ]
  },
  {
   "cell_type": "code",
   "execution_count": 63,
   "id": "580f291a-ac33-4c1b-a377-db7308fb931e",
   "metadata": {},
   "outputs": [],
   "source": [
    "df_2019_2 =[]\n",
    "for df in df_2019_1:\n",
    "    df.insert(6,'negative',0)\n",
    "    df_2019_2.append(df)"
   ]
  },
  {
   "cell_type": "code",
   "execution_count": 64,
   "id": "5d5dd6a4-22c8-4a0a-8de1-6d67c08c06c9",
   "metadata": {},
   "outputs": [],
   "source": [
    "df_2020_2 =[]\n",
    "for  df in df_2020_1:\n",
    "    df.insert(6,'negative',0)\n",
    "    df_2020_2.append(df)"
   ]
  },
  {
   "cell_type": "code",
   "execution_count": 65,
   "id": "71776f80-a750-4e23-a0c0-92d57fd5557f",
   "metadata": {},
   "outputs": [],
   "source": [
    "df_2021_2 =[]\n",
    "for df in df_2021_1:\n",
    "    df.insert(6,'negative',0)\n",
    "    df_2021_2.append(df)"
   ]
  },
  {
   "cell_type": "code",
   "execution_count": 66,
   "id": "2215ccfb-1e8f-4adc-b0c0-064c406f5c02",
   "metadata": {},
   "outputs": [],
   "source": [
    "df_2022_2 =[]\n",
    "for df in df_2022_1:\n",
    "    df.insert(6,'negative',0)\n",
    "    df_2022_2.append(df)"
   ]
  },
  {
   "cell_type": "code",
   "execution_count": 69,
   "id": "c803def5-4853-4008-93ef-59f6ebe1da5f",
   "metadata": {},
   "outputs": [],
   "source": [
    "# df_2022_2[2]"
   ]
  },
  {
   "cell_type": "markdown",
   "id": "b3df1f88-2274-4fed-9e0a-29eda78d937c",
   "metadata": {},
   "source": [
    "## nan drop"
   ]
  },
  {
   "cell_type": "code",
   "execution_count": 81,
   "id": "bbb866c3-3597-402a-b1e6-ca5c2c685baa",
   "metadata": {},
   "outputs": [],
   "source": [
    "df_2018_3=[]\n",
    "for df in df_2018_2:\n",
    "    df = df.dropna()\n",
    "    df_2018_3.append(df)"
   ]
  },
  {
   "cell_type": "code",
   "execution_count": 82,
   "id": "6535d782-4a02-49c1-90be-fb93c14cdc39",
   "metadata": {},
   "outputs": [],
   "source": [
    "df_2019_3=[]\n",
    "for df in df_2019_2:\n",
    "    df = df.dropna()\n",
    "    df_2019_3.append(df)    "
   ]
  },
  {
   "cell_type": "code",
   "execution_count": 83,
   "id": "be15c888-314a-4092-8a06-33371e94904d",
   "metadata": {},
   "outputs": [],
   "source": [
    "df_2020_3=[]\n",
    "for df in df_2020_2:\n",
    "    df = df.dropna()\n",
    "    df_2020_3.append(df)    "
   ]
  },
  {
   "cell_type": "code",
   "execution_count": 84,
   "id": "701f13df-8014-4c2b-bd51-c9959863fb27",
   "metadata": {},
   "outputs": [],
   "source": [
    "df_2021_3=[]\n",
    "for df in df_2021_2:\n",
    "    df = df.dropna()\n",
    "    df_2021_3.append(df)"
   ]
  },
  {
   "cell_type": "code",
   "execution_count": 85,
   "id": "26c32cc2-457a-421d-855b-ac892b1bec49",
   "metadata": {},
   "outputs": [],
   "source": [
    "df_2022_3=[]\n",
    "for df in df_2022_2:\n",
    "    df = df.dropna()\n",
    "    df_2022_3.append(df)    "
   ]
  },
  {
   "cell_type": "markdown",
   "id": "d8961786-541d-4e26-b869-91dbf6702b1b",
   "metadata": {},
   "source": [
    "##  지표 구분"
   ]
  },
  {
   "cell_type": "code",
   "execution_count": 95,
   "id": "4ca5ad60-d2db-4b26-a584-625e4235e59e",
   "metadata": {},
   "outputs": [
    {
     "data": {
      "text/html": [
       "<div>\n",
       "<style scoped>\n",
       "    .dataframe tbody tr th:only-of-type {\n",
       "        vertical-align: middle;\n",
       "    }\n",
       "\n",
       "    .dataframe tbody tr th {\n",
       "        vertical-align: top;\n",
       "    }\n",
       "\n",
       "    .dataframe thead th {\n",
       "        text-align: right;\n",
       "    }\n",
       "</style>\n",
       "<table border=\"1\" class=\"dataframe\">\n",
       "  <thead>\n",
       "    <tr style=\"text-align: right;\">\n",
       "      <th></th>\n",
       "      <th>corp_name</th>\n",
       "      <th>stock_code</th>\n",
       "      <th>report_nm</th>\n",
       "      <th>rcept_dt</th>\n",
       "      <th>y</th>\n",
       "      <th>positive</th>\n",
       "      <th>negative</th>\n",
       "    </tr>\n",
       "  </thead>\n",
       "  <tbody>\n",
       "    <tr>\n",
       "      <th>19</th>\n",
       "      <td>CMG제약</td>\n",
       "      <td>58820</td>\n",
       "      <td>주주명부폐쇄기간또는기준일설정</td>\n",
       "      <td>20191213</td>\n",
       "      <td>2019</td>\n",
       "      <td>0.0</td>\n",
       "      <td>0</td>\n",
       "    </tr>\n",
       "    <tr>\n",
       "      <th>24</th>\n",
       "      <td>CMG제약</td>\n",
       "      <td>58820</td>\n",
       "      <td>증권발행결과(자율공시)(주주배정 유상증자)</td>\n",
       "      <td>20190730</td>\n",
       "      <td>2019</td>\n",
       "      <td>0.0</td>\n",
       "      <td>0</td>\n",
       "    </tr>\n",
       "    <tr>\n",
       "      <th>26</th>\n",
       "      <td>CMG제약</td>\n",
       "      <td>58820</td>\n",
       "      <td>유상증자또는주식관련사채등의청약결과(자율공시)(주주배정 유상증자)</td>\n",
       "      <td>20190729</td>\n",
       "      <td>2019</td>\n",
       "      <td>0.0</td>\n",
       "      <td>0</td>\n",
       "    </tr>\n",
       "    <tr>\n",
       "      <th>27</th>\n",
       "      <td>CMG제약</td>\n",
       "      <td>58820</td>\n",
       "      <td>유상증자또는주식관련사채등의청약결과(자율공시)(주주배정 유상증자)</td>\n",
       "      <td>20190724</td>\n",
       "      <td>2019</td>\n",
       "      <td>0.0</td>\n",
       "      <td>0</td>\n",
       "    </tr>\n",
       "    <tr>\n",
       "      <th>30</th>\n",
       "      <td>CMG제약</td>\n",
       "      <td>58820</td>\n",
       "      <td>[기재정정]투자설명서</td>\n",
       "      <td>20190718</td>\n",
       "      <td>2019</td>\n",
       "      <td>0.0</td>\n",
       "      <td>0</td>\n",
       "    </tr>\n",
       "    <tr>\n",
       "      <th>31</th>\n",
       "      <td>CMG제약</td>\n",
       "      <td>58820</td>\n",
       "      <td>[발행조건확정]증권신고서(지분증권)</td>\n",
       "      <td>20190718</td>\n",
       "      <td>2019</td>\n",
       "      <td>0.0</td>\n",
       "      <td>0</td>\n",
       "    </tr>\n",
       "    <tr>\n",
       "      <th>33</th>\n",
       "      <td>CMG제약</td>\n",
       "      <td>58820</td>\n",
       "      <td>유상증자최종발행가액확정(주주배정후 실권주 일반공모)</td>\n",
       "      <td>20190718</td>\n",
       "      <td>2019</td>\n",
       "      <td>0.0</td>\n",
       "      <td>0</td>\n",
       "    </tr>\n",
       "    <tr>\n",
       "      <th>36</th>\n",
       "      <td>CMG제약</td>\n",
       "      <td>58820</td>\n",
       "      <td>권리락(유상증자)</td>\n",
       "      <td>20190612</td>\n",
       "      <td>2019</td>\n",
       "      <td>0.0</td>\n",
       "      <td>0</td>\n",
       "    </tr>\n",
       "    <tr>\n",
       "      <th>37</th>\n",
       "      <td>CMG제약</td>\n",
       "      <td>58820</td>\n",
       "      <td>유상증자1차발행가액결정</td>\n",
       "      <td>20190612</td>\n",
       "      <td>2019</td>\n",
       "      <td>0.0</td>\n",
       "      <td>0</td>\n",
       "    </tr>\n",
       "    <tr>\n",
       "      <th>39</th>\n",
       "      <td>CMG제약</td>\n",
       "      <td>58820</td>\n",
       "      <td>주주명부폐쇄기간또는기준일설정</td>\n",
       "      <td>20190516</td>\n",
       "      <td>2019</td>\n",
       "      <td>0.0</td>\n",
       "      <td>0</td>\n",
       "    </tr>\n",
       "    <tr>\n",
       "      <th>41</th>\n",
       "      <td>CMG제약</td>\n",
       "      <td>58820</td>\n",
       "      <td>소속부변경</td>\n",
       "      <td>20190430</td>\n",
       "      <td>2019</td>\n",
       "      <td>0.0</td>\n",
       "      <td>0</td>\n",
       "    </tr>\n",
       "    <tr>\n",
       "      <th>43</th>\n",
       "      <td>CMG제약</td>\n",
       "      <td>58820</td>\n",
       "      <td>금전대여결정</td>\n",
       "      <td>20190322</td>\n",
       "      <td>2019</td>\n",
       "      <td>0.0</td>\n",
       "      <td>0</td>\n",
       "    </tr>\n",
       "    <tr>\n",
       "      <th>45</th>\n",
       "      <td>CMG제약</td>\n",
       "      <td>58820</td>\n",
       "      <td>주식매수선택권부여에관한신고</td>\n",
       "      <td>20190313</td>\n",
       "      <td>2019</td>\n",
       "      <td>0.0</td>\n",
       "      <td>0</td>\n",
       "    </tr>\n",
       "    <tr>\n",
       "      <th>50</th>\n",
       "      <td>CMG제약</td>\n",
       "      <td>58820</td>\n",
       "      <td>매출액또는손익구조30%(대규모법인은15%)이상변동</td>\n",
       "      <td>20190219</td>\n",
       "      <td>2019</td>\n",
       "      <td>0.0</td>\n",
       "      <td>0</td>\n",
       "    </tr>\n",
       "  </tbody>\n",
       "</table>\n",
       "</div>"
      ],
      "text/plain": [
       "   corp_name stock_code                            report_nm  rcept_dt     y  \\\n",
       "19     CMG제약      58820                      주주명부폐쇄기간또는기준일설정  20191213  2019   \n",
       "24     CMG제약      58820              증권발행결과(자율공시)(주주배정 유상증자)  20190730  2019   \n",
       "26     CMG제약      58820  유상증자또는주식관련사채등의청약결과(자율공시)(주주배정 유상증자)  20190729  2019   \n",
       "27     CMG제약      58820  유상증자또는주식관련사채등의청약결과(자율공시)(주주배정 유상증자)  20190724  2019   \n",
       "30     CMG제약      58820                          [기재정정]투자설명서  20190718  2019   \n",
       "31     CMG제약      58820                  [발행조건확정]증권신고서(지분증권)  20190718  2019   \n",
       "33     CMG제약      58820         유상증자최종발행가액확정(주주배정후 실권주 일반공모)  20190718  2019   \n",
       "36     CMG제약      58820                            권리락(유상증자)  20190612  2019   \n",
       "37     CMG제약      58820                         유상증자1차발행가액결정  20190612  2019   \n",
       "39     CMG제약      58820                      주주명부폐쇄기간또는기준일설정  20190516  2019   \n",
       "41     CMG제약      58820                                소속부변경  20190430  2019   \n",
       "43     CMG제약      58820                               금전대여결정  20190322  2019   \n",
       "45     CMG제약      58820                       주식매수선택권부여에관한신고  20190313  2019   \n",
       "50     CMG제약      58820          매출액또는손익구조30%(대규모법인은15%)이상변동  20190219  2019   \n",
       "\n",
       "    positive  negative  \n",
       "19       0.0         0  \n",
       "24       0.0         0  \n",
       "26       0.0         0  \n",
       "27       0.0         0  \n",
       "30       0.0         0  \n",
       "31       0.0         0  \n",
       "33       0.0         0  \n",
       "36       0.0         0  \n",
       "37       0.0         0  \n",
       "39       0.0         0  \n",
       "41       0.0         0  \n",
       "43       0.0         0  \n",
       "45       0.0         0  \n",
       "50       0.0         0  "
      ]
     },
     "execution_count": 95,
     "metadata": {},
     "output_type": "execute_result"
    }
   ],
   "source": [
    "df_2019_3[0]"
   ]
  },
  {
   "cell_type": "code",
   "execution_count": 88,
   "id": "b3cc5cc5-6705-4f4a-9daf-37e9cf01751b",
   "metadata": {},
   "outputs": [],
   "source": [
    "for i, df in enumerate(df_2018_3):\n",
    "    for j,note in enumerate(df['report_nm']):\n",
    "        # print(note)\n",
    "        if (\"불성실공시법인미지정\" in note) or (\"해임\" in note) or(\"중도퇴임\" in note) or(\"매매거래정지\" in note):\n",
    "            df.loc[j,'negative']  = -1"
   ]
  },
  {
   "cell_type": "code",
   "execution_count": 89,
   "id": "9c46eae1-2753-4dff-8e35-f709881dce0b",
   "metadata": {},
   "outputs": [],
   "source": [
    "for i, df in enumerate(df_2019_3):\n",
    "    for j,note in enumerate(df['report_nm']):\n",
    "        if (\"불성실공시법인미지정\" in note) or (\"해임\" in note) or(\"중도퇴임\" in note) or(\"매매거래정지\" in note):\n",
    "            df.loc[j,'negative']  = -1"
   ]
  },
  {
   "cell_type": "code",
   "execution_count": 90,
   "id": "a3e0876f-6d35-4280-b9ce-057569aba0f7",
   "metadata": {},
   "outputs": [],
   "source": [
    "for i, df in enumerate(df_2020_3):\n",
    "    for j,note in enumerate(df['report_nm']):\n",
    "        if (\"불성실공시법인미지정\" in note) or (\"해임\" in note) or(\"중도퇴임\" in note) or(\"매매거래정지\" in note):\n",
    "            df.loc[j,'negative']  = -1"
   ]
  },
  {
   "cell_type": "code",
   "execution_count": 91,
   "id": "4430a106-cd02-48a9-a2dd-39865df81dea",
   "metadata": {},
   "outputs": [],
   "source": [
    "for i, df in enumerate(df_2021_3):\n",
    "    for j,note in enumerate(df['report_nm']):\n",
    "        if (\"불성실공시법인미지정\" in note) or (\"해임\" in note) or(\"중도퇴임\" in note) or(\"매매거래정지\" in note):\n",
    "            df.loc[j,'negative']  = -1"
   ]
  },
  {
   "cell_type": "code",
   "execution_count": 92,
   "id": "d76aeed9-1703-4480-87c5-9a5cd7536706",
   "metadata": {},
   "outputs": [],
   "source": [
    "for i, df in enumerate(df_2022_3):\n",
    "    for j,note in enumerate(df['report_nm']):\n",
    "        if (\"불성실공시법인미지정\" in note) or (\"해임\" in note) or(\"중도퇴임\" in note) or(\"매매거래정지\" in note):\n",
    "            df.loc[j,'negative']  = -1"
   ]
  },
  {
   "cell_type": "code",
   "execution_count": 94,
   "id": "4ce2aed1-fc84-469b-9c25-0974005ae808",
   "metadata": {},
   "outputs": [
    {
     "data": {
      "text/html": [
       "<div>\n",
       "<style scoped>\n",
       "    .dataframe tbody tr th:only-of-type {\n",
       "        vertical-align: middle;\n",
       "    }\n",
       "\n",
       "    .dataframe tbody tr th {\n",
       "        vertical-align: top;\n",
       "    }\n",
       "\n",
       "    .dataframe thead th {\n",
       "        text-align: right;\n",
       "    }\n",
       "</style>\n",
       "<table border=\"1\" class=\"dataframe\">\n",
       "  <thead>\n",
       "    <tr style=\"text-align: right;\">\n",
       "      <th></th>\n",
       "      <th>corp_name</th>\n",
       "      <th>stock_code</th>\n",
       "      <th>report_nm</th>\n",
       "      <th>rcept_dt</th>\n",
       "      <th>y</th>\n",
       "      <th>positive</th>\n",
       "      <th>negative</th>\n",
       "    </tr>\n",
       "  </thead>\n",
       "  <tbody>\n",
       "    <tr>\n",
       "      <th>55</th>\n",
       "      <td>CMG제약</td>\n",
       "      <td>58820</td>\n",
       "      <td>소속부변경</td>\n",
       "      <td>20200429</td>\n",
       "      <td>2020</td>\n",
       "      <td>0.0</td>\n",
       "      <td>0.0</td>\n",
       "    </tr>\n",
       "    <tr>\n",
       "      <th>58</th>\n",
       "      <td>CMG제약</td>\n",
       "      <td>58820</td>\n",
       "      <td>사외이사의선임ㆍ해임또는중도퇴임에관한신고</td>\n",
       "      <td>20200327</td>\n",
       "      <td>2020</td>\n",
       "      <td>0.0</td>\n",
       "      <td>0.0</td>\n",
       "    </tr>\n",
       "    <tr>\n",
       "      <th>62</th>\n",
       "      <td>CMG제약</td>\n",
       "      <td>58820</td>\n",
       "      <td>주식매수선택권부여에관한신고</td>\n",
       "      <td>20200309</td>\n",
       "      <td>2020</td>\n",
       "      <td>0.0</td>\n",
       "      <td>0.0</td>\n",
       "    </tr>\n",
       "    <tr>\n",
       "      <th>66</th>\n",
       "      <td>CMG제약</td>\n",
       "      <td>58820</td>\n",
       "      <td>[기재정정]기타시장안내(연구개발기업 상장관리 특례적용 관련)</td>\n",
       "      <td>20200214</td>\n",
       "      <td>2020</td>\n",
       "      <td>0.0</td>\n",
       "      <td>0.0</td>\n",
       "    </tr>\n",
       "    <tr>\n",
       "      <th>67</th>\n",
       "      <td>CMG제약</td>\n",
       "      <td>58820</td>\n",
       "      <td>매출액또는손익구조30%(대규모법인은15%)이상변동</td>\n",
       "      <td>20200213</td>\n",
       "      <td>2020</td>\n",
       "      <td>0.0</td>\n",
       "      <td>0.0</td>\n",
       "    </tr>\n",
       "    <tr>\n",
       "      <th>1</th>\n",
       "      <td>NaN</td>\n",
       "      <td>NaN</td>\n",
       "      <td>NaN</td>\n",
       "      <td>NaN</td>\n",
       "      <td>NaN</td>\n",
       "      <td>NaN</td>\n",
       "      <td>-1.0</td>\n",
       "    </tr>\n",
       "  </tbody>\n",
       "</table>\n",
       "</div>"
      ],
      "text/plain": [
       "   corp_name stock_code                          report_nm  rcept_dt     y  \\\n",
       "55     CMG제약      58820                              소속부변경  20200429  2020   \n",
       "58     CMG제약      58820              사외이사의선임ㆍ해임또는중도퇴임에관한신고  20200327  2020   \n",
       "62     CMG제약      58820                     주식매수선택권부여에관한신고  20200309  2020   \n",
       "66     CMG제약      58820  [기재정정]기타시장안내(연구개발기업 상장관리 특례적용 관련)  20200214  2020   \n",
       "67     CMG제약      58820        매출액또는손익구조30%(대규모법인은15%)이상변동  20200213  2020   \n",
       "1        NaN        NaN                                NaN       NaN   NaN   \n",
       "\n",
       "    positive  negative  \n",
       "55       0.0       0.0  \n",
       "58       0.0       0.0  \n",
       "62       0.0       0.0  \n",
       "66       0.0       0.0  \n",
       "67       0.0       0.0  \n",
       "1        NaN      -1.0  "
      ]
     },
     "execution_count": 94,
     "metadata": {},
     "output_type": "execute_result"
    }
   ],
   "source": [
    "df_2020_3[0]"
   ]
  },
  {
   "cell_type": "markdown",
   "id": "670d594a-9876-4a00-9564-190fa94e259f",
   "metadata": {},
   "source": [
    "#  DF"
   ]
  },
  {
   "cell_type": "markdown",
   "id": "0f2f068e-2534-42f1-a3e3-707d0026b232",
   "metadata": {},
   "source": [
    "## positive"
   ]
  },
  {
   "cell_type": "code",
   "execution_count": null,
   "id": "1adc869f-37c0-468b-b747-a763829b8a61",
   "metadata": {},
   "outputs": [],
   "source": [
    "positive = []\n",
    "for df in df_list4:\n",
    "    tmp =0\n",
    "    for val in df['positive']:\n",
    "        if val > 0:\n",
    "            tmp = tmp + val\n",
    "    positive.append(tmp)"
   ]
  },
  {
   "cell_type": "code",
   "execution_count": null,
   "id": "5274c292-c9e2-4c90-a81f-49df7a28480e",
   "metadata": {},
   "outputs": [],
   "source": [
    "len(positive)"
   ]
  },
  {
   "cell_type": "code",
   "execution_count": null,
   "id": "c9d61791-50ee-4874-89f3-71ca99b0ae3d",
   "metadata": {},
   "outputs": [],
   "source": [
    "positive[5]"
   ]
  },
  {
   "cell_type": "markdown",
   "id": "ad1928f4-b305-46b7-bead-05c41bc24a69",
   "metadata": {},
   "source": [
    "## negative"
   ]
  },
  {
   "cell_type": "code",
   "execution_count": null,
   "id": "5f3f5694-752c-4ac5-9e4e-a40f1b37443e",
   "metadata": {},
   "outputs": [],
   "source": [
    "negative = []\n",
    "for df in df_list4:\n",
    "    tmp =0\n",
    "    for val in df['positive']:\n",
    "        if val < 0:\n",
    "            tmp = tmp + val\n",
    "    negative.append(tmp)"
   ]
  },
  {
   "cell_type": "code",
   "execution_count": null,
   "id": "b2ab464a-a669-4a05-a2f6-6ff72110d473",
   "metadata": {},
   "outputs": [],
   "source": [
    "negative[0]"
   ]
  }
 ],
 "metadata": {
  "kernelspec": {
   "display_name": "Python 3 (ipykernel)",
   "language": "python",
   "name": "python3"
  },
  "language_info": {
   "codemirror_mode": {
    "name": "ipython",
    "version": 3
   },
   "file_extension": ".py",
   "mimetype": "text/x-python",
   "name": "python",
   "nbconvert_exporter": "python",
   "pygments_lexer": "ipython3",
   "version": "3.8.8"
  }
 },
 "nbformat": 4,
 "nbformat_minor": 5
}
