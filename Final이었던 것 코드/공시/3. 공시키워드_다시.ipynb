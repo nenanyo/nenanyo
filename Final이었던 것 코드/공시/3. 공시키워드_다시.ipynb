{
 "cells": [
  {
   "cell_type": "markdown",
   "id": "a9aa788a-e3cc-4db1-a88e-01d1c6e65937",
   "metadata": {},
   "source": [
    "# 다 한다음에 년도별로 쪼갠다"
   ]
  },
  {
   "cell_type": "code",
   "execution_count": 1,
   "id": "cffda525-eac3-4305-ab38-530c809b20f0",
   "metadata": {
    "tags": []
   },
   "outputs": [],
   "source": [
    "import pandas as pd\n",
    "import numpy as np\n",
    "import matplotlib.pyplot as plt\n",
    "import warnings\n",
    "warnings.filterwarnings(action='ignore')"
   ]
  },
  {
   "cell_type": "markdown",
   "id": "01e55446-cf7d-4102-b8ab-722a12f0ed18",
   "metadata": {},
   "source": [
    "# 데이터 로드"
   ]
  },
  {
   "cell_type": "code",
   "execution_count": null,
   "id": "249245f1-45e4-48b0-9572-b51fdd6c1b30",
   "metadata": {},
   "outputs": [],
   "source": [
    "ticker_df = pd.read_csv('../데이터/최종기업ticker.csv', names = ['names','ticker'])\n",
    "ticker_df = ticker_df.dropna()"
   ]
  },
  {
   "cell_type": "code",
   "execution_count": null,
   "id": "f58534ef-0188-41d7-85d4-4c6148518324",
   "metadata": {},
   "outputs": [],
   "source": [
    " ticker_df.head(2)"
   ]
  },
  {
   "cell_type": "code",
   "execution_count": null,
   "id": "26710f30-3884-4289-bde6-7dd9f2c53227",
   "metadata": {},
   "outputs": [],
   "source": [
    "df_list =[]\n",
    "for i in range(len(ticker_df)):\n",
    "    name = ticker_df['names'][i+1]\n",
    "    df_i = pd.read_csv(f'./data(18-22)/{name}.csv', encoding = 'cp949')\n",
    "    df_list.append(df_i)\n",
    "    "
   ]
  },
  {
   "cell_type": "code",
   "execution_count": null,
   "id": "43f2b1e8-7c02-4f84-8d67-8ebd2534bb39",
   "metadata": {},
   "outputs": [],
   "source": [
    "len(df_list)"
   ]
  },
  {
   "cell_type": "code",
   "execution_count": null,
   "id": "4e659907-762b-4515-a11b-ede44ca43846",
   "metadata": {},
   "outputs": [],
   "source": [
    "df_list[0].head(2)"
   ]
  },
  {
   "cell_type": "code",
   "execution_count": null,
   "id": "f698a507-7343-4b8d-935e-83fe0d12b485",
   "metadata": {},
   "outputs": [],
   "source": [
    "df_list2 =[]\n",
    "for df in df_list:\n",
    "    tmp = df[['corp_name','stock_code','report_nm','rcept_dt']]\n",
    "    df_list2.append(tmp)"
   ]
  },
  {
   "cell_type": "code",
   "execution_count": null,
   "id": "ce588317-845e-4e58-a4b0-93dda4b4696a",
   "metadata": {},
   "outputs": [],
   "source": [
    "df_list2[0].head(2)"
   ]
  },
  {
   "cell_type": "code",
   "execution_count": null,
   "id": "323589aa-80a9-4b43-b7fe-d94ced600e9e",
   "metadata": {},
   "outputs": [],
   "source": [
    "df_list3 = []\n",
    "for df in  df_list2:\n",
    "    # df.insert(4,'y',0)\n",
    "    df = df.astype('str')\n",
    "    for i,dt in enumerate(df['rcept_dt']):\n",
    "        df.loc[i,'y'] = dt[:4]\n",
    "    df_list3.append(df)"
   ]
  },
  {
   "cell_type": "code",
   "execution_count": null,
   "id": "449c8477-b8d8-414d-9f5d-b29284fe2013",
   "metadata": {},
   "outputs": [],
   "source": [
    "df_list3[0]"
   ]
  },
  {
   "cell_type": "markdown",
   "id": "5c8515db-0dc6-447a-8b52-92d5a88f11f8",
   "metadata": {},
   "source": [
    "# drop"
   ]
  },
  {
   "cell_type": "code",
   "execution_count": null,
   "id": "e3612322-4d8f-44b2-8288-6adf18ee21df",
   "metadata": {},
   "outputs": [],
   "source": [
    "# df_list3[0].info()"
   ]
  },
  {
   "cell_type": "code",
   "execution_count": null,
   "id": "65fedbdf-d7ef-4948-b3d6-5dc08fe4f2c3",
   "metadata": {},
   "outputs": [],
   "source": [
    "# df_list3[0]['report_nm'][:3].str"
   ]
  },
  {
   "cell_type": "code",
   "execution_count": null,
   "id": "ab44debc-53ec-4b21-98ee-565f15f5ed03",
   "metadata": {},
   "outputs": [],
   "source": [
    "# drop_df = pd.DataFrame(columns = ['df', 'row' ])\n",
    "# drop_df"
   ]
  },
  {
   "cell_type": "code",
   "execution_count": null,
   "id": "3a6505d6-151c-4cf8-bf77-2a4e72181019",
   "metadata": {},
   "outputs": [],
   "source": [
    "# for i, df in enumerate(df_list3):\n",
    "#     for j,title in enumerate(df['report_nm']):\n",
    "#         if (\"단일판매\" in title) or (\"보고서\" in title) or(\"주주총회\" in title) or(\"참고서류\" in title):\n",
    "#             # print(1)\n",
    "#             drop_df = drop_df.append({'df':i,'row':j}, ignore_index=True)"
   ]
  },
  {
   "cell_type": "code",
   "execution_count": null,
   "id": "73a20a13-ecd2-4397-8ccc-586538bbb0ee",
   "metadata": {},
   "outputs": [],
   "source": [
    "# df_list4 = []\n",
    "# for i, df in enumerate(df_list3):\n",
    "#     tmp_list =[]\n",
    "#     tmp=drop_df[drop_df['df']==i]['row']\n",
    "#     # tmp_list.append(tmp)\n",
    "#     df = df.drop(tmp.values, axis = 0)\n",
    "#     df_list4.append(df)"
   ]
  },
  {
   "cell_type": "code",
   "execution_count": null,
   "id": "be0705f9-2e90-4f6e-90c1-aa52df01aaf7",
   "metadata": {},
   "outputs": [],
   "source": [
    "# df_list4[0]"
   ]
  },
  {
   "cell_type": "markdown",
   "id": "1dee40a4-eb2b-466f-8f99-3ce11f991a2b",
   "metadata": {},
   "source": [
    "# positive(+1)\n",
    "*  DataFrame.insert( loc, column, value)"
   ]
  },
  {
   "cell_type": "markdown",
   "id": "d8dedc60-71f7-464f-8d15-56abe1d20695",
   "metadata": {},
   "source": [
    "<pre>\n",
    "* 기업설명회\n",
    "신규시설투자\n",
    "취득\n",
    "취득결정\n",
    "유상증자\n",
    "무상증자\n",
    "단기차입금감소결정\n",
    "권리락(무상증자)\n",
    "발행조건확정\n",
    "증권발행결과\n",
    "배당결정\n",
    "특허권\n",
    "실적\n",
    "승인\n",
    "주식분할\n",
    "정지해제\n",
    "대표이사변경"
   ]
  },
  {
   "cell_type": "markdown",
   "id": "abdf9c45-38ab-4c9e-a0fd-e6357bb804e7",
   "metadata": {},
   "source": [
    "## 컬럼 추가"
   ]
  },
  {
   "cell_type": "code",
   "execution_count": null,
   "id": "35eccce9-f94a-4572-b341-4d0469f10470",
   "metadata": {},
   "outputs": [],
   "source": [
    "df_list5 =[]\n",
    "for i, df in enumerate(df_list4):\n",
    "    df.insert(5,'positive',0)\n",
    "    df_list5.append(df)"
   ]
  },
  {
   "cell_type": "code",
   "execution_count": null,
   "id": "a2eb3c0b-0275-4eb2-bfb6-904c7b2a8e23",
   "metadata": {},
   "outputs": [],
   "source": [
    "# df_list5"
   ]
  },
  {
   "cell_type": "markdown",
   "id": "afe0f984-ce71-4c98-a8f6-32ea168e888c",
   "metadata": {},
   "source": [
    "## 지표 구분"
   ]
  },
  {
   "cell_type": "code",
   "execution_count": null,
   "id": "08e9ad2e-1f77-42f9-b768-d20d6e13c7c0",
   "metadata": {},
   "outputs": [],
   "source": [
    "for i, df in enumerate(df_list5):\n",
    "    for j,note in enumerate(df['report_nm']):\n",
    "        if (\"기업설명회\" in note) or (\"신규시설투자\" in note) or(\"취득\" in note) or(\"취득결정\" in note) or \\\n",
    "        (\"유상증자\" in note) or (\"무상증자\" in note) or (\"단기차입금감소결정\" in note) or(\"권리락\" in note) \\\n",
    "        or(\"발행\" in note)  or (\"배당결정\" in note) or(\"특허권\" in note) \\\n",
    "        or(\"실적\" in note) or(\"승인\" in note) or (\"주식분할\" in note) or(\"정지해제\" in note) or \\\n",
    "        (\"대표이사변경\" in note):\n",
    "            # print(1)\n",
    "            df.loc[j,'positive']  = 1"
   ]
  },
  {
   "cell_type": "code",
   "execution_count": null,
   "id": "f954fb57-c9a9-41d0-9d25-445a7a457825",
   "metadata": {},
   "outputs": [],
   "source": [
    "# df_list5[0]"
   ]
  },
  {
   "cell_type": "markdown",
   "id": "43f0c761-ffde-4a01-b8ba-4c8b87fd9ceb",
   "metadata": {},
   "source": [
    "## nan drop"
   ]
  },
  {
   "cell_type": "code",
   "execution_count": null,
   "id": "f6c37940-ce4b-46ea-a5f0-ba61f3f1f832",
   "metadata": {},
   "outputs": [],
   "source": [
    "df_list6 =[]\n",
    "for i, df in enumerate(df_list5):\n",
    "    df = df.dropna()\n",
    "    df_list6.append(df)"
   ]
  },
  {
   "cell_type": "code",
   "execution_count": null,
   "id": "eaa77505-345f-4624-b072-65a717391b5d",
   "metadata": {},
   "outputs": [],
   "source": [
    "df_list6[0]"
   ]
  },
  {
   "cell_type": "markdown",
   "id": "467ec247-d864-49ad-a240-de0b87fa7b57",
   "metadata": {},
   "source": [
    "# negative(-1)"
   ]
  },
  {
   "cell_type": "markdown",
   "id": "8258efe7-245a-4cf7-ac88-22b679f047fa",
   "metadata": {},
   "source": [
    "<pre>\n",
    "불성실\n",
    "해임\n",
    "중도퇴임\n",
    "매매거래정지"
   ]
  },
  {
   "cell_type": "markdown",
   "id": "f1d27058-5a1e-4a00-aed7-082d033a3304",
   "metadata": {},
   "source": [
    "## 컬럼 추가"
   ]
  },
  {
   "cell_type": "code",
   "execution_count": null,
   "id": "685892ce-dbc8-482d-9869-35a1c277b36b",
   "metadata": {},
   "outputs": [],
   "source": [
    "df_list7 =[]\n",
    "for i, df in enumerate(df_list6):\n",
    "    df.insert(6,'negative',0)\n",
    "    df_list7.append(df)"
   ]
  },
  {
   "cell_type": "code",
   "execution_count": null,
   "id": "5c822ede-bab6-4e75-8fd8-77c17141973a",
   "metadata": {},
   "outputs": [],
   "source": [
    "# df_list7[0]"
   ]
  },
  {
   "cell_type": "markdown",
   "id": "baf2d354-ab4a-48c5-9377-e21b13321520",
   "metadata": {},
   "source": [
    "## 지표 구분"
   ]
  },
  {
   "cell_type": "code",
   "execution_count": null,
   "id": "862cccf7-0647-4940-87b4-ff39a630cc67",
   "metadata": {},
   "outputs": [],
   "source": [
    "for i, df in enumerate(df_list7):\n",
    "    for j,note in enumerate(df['report_nm']):\n",
    "        # print(note)\n",
    "        if (\"불성실\" in note) or (\"해임\" in note) or(\"중도퇴임\" in note) or(\"매매거래정지\" in note):\n",
    "            df.loc[j,'negative']  = -1"
   ]
  },
  {
   "cell_type": "markdown",
   "id": "671ed4fd-7394-4f53-9650-f1196fff085d",
   "metadata": {},
   "source": [
    "## nan drop"
   ]
  },
  {
   "cell_type": "code",
   "execution_count": null,
   "id": "c93c0cfc-7438-45c8-aae8-885f597cdc97",
   "metadata": {},
   "outputs": [],
   "source": [
    "df_list8 =[]\n",
    "for i, df in enumerate(df_list7):\n",
    "    df = df.dropna()\n",
    "    df_list8.append(df)"
   ]
  },
  {
   "cell_type": "markdown",
   "id": "bb9ebd42-8d58-4361-9993-0f013610a03c",
   "metadata": {},
   "source": [
    "# 년도별로 구분"
   ]
  },
  {
   "cell_type": "code",
   "execution_count": null,
   "id": "aea725e4-a309-4590-b750-fbc6513d0d2c",
   "metadata": {},
   "outputs": [],
   "source": [
    "df_list8[0].head(2)"
   ]
  },
  {
   "cell_type": "code",
   "execution_count": null,
   "id": "bc8d44e4-04ad-4d9e-b7cd-15f2ed12f0fb",
   "metadata": {},
   "outputs": [],
   "source": [
    "df_list8[0].info()"
   ]
  },
  {
   "cell_type": "code",
   "execution_count": null,
   "id": "d433e1f6-42c2-415b-a9fa-bb2e9ce83715",
   "metadata": {},
   "outputs": [],
   "source": [
    "df_2018 =[]\n",
    "for df in df_list8:\n",
    "    tmp = df[df['y']=='2018']\n",
    "    df_2018.append(tmp)"
   ]
  },
  {
   "cell_type": "code",
   "execution_count": null,
   "id": "f89c3842-5497-437e-bc77-e23c395ebcaa",
   "metadata": {},
   "outputs": [],
   "source": [
    "df_2019 =[]\n",
    "for df in df_list8:\n",
    "    tmp = df[df['y']=='2019']\n",
    "    df_2019.append(tmp)"
   ]
  },
  {
   "cell_type": "code",
   "execution_count": null,
   "id": "47e8e09b-1313-4940-b1aa-39e829c0cc8c",
   "metadata": {},
   "outputs": [],
   "source": [
    "df_2020 =[]\n",
    "for df in df_list8:\n",
    "    tmp = df[df['y']=='2020']\n",
    "    df_2020.append(tmp)"
   ]
  },
  {
   "cell_type": "code",
   "execution_count": null,
   "id": "bfc45544-8e41-4c99-85e5-1f8fa42df5ad",
   "metadata": {},
   "outputs": [],
   "source": [
    "df_2021 =[]\n",
    "for df in df_list8:\n",
    "    tmp = df[df['y']=='2021']\n",
    "    df_2021.append(tmp)"
   ]
  },
  {
   "cell_type": "code",
   "execution_count": null,
   "id": "0ed216d8-fad7-4411-8073-4c7c499f0e4f",
   "metadata": {},
   "outputs": [],
   "source": [
    "df_2022 =[]\n",
    "for df in df_list8:\n",
    "    tmp = df[df['y']=='2022']\n",
    "    df_2022.append(tmp)"
   ]
  },
  {
   "cell_type": "code",
   "execution_count": null,
   "id": "152d52a3-3e5a-4f8e-8d1d-d62133315903",
   "metadata": {},
   "outputs": [],
   "source": [
    "df_2018[0]"
   ]
  },
  {
   "cell_type": "markdown",
   "id": "ccc4d673-cfc5-45b4-b3de-28d9fe981ccb",
   "metadata": {},
   "source": [
    "## positive"
   ]
  },
  {
   "cell_type": "code",
   "execution_count": null,
   "id": "6a2e60fb-1aaf-4777-8765-f58c5f439760",
   "metadata": {},
   "outputs": [],
   "source": [
    "pos_18 = []\n",
    "tmp = 0\n",
    "for df in df_2018:\n",
    "    for val in df['positive']:\n",
    "        tmp = tmp + val\n",
    "    pos_18.append(tmp)"
   ]
  },
  {
   "cell_type": "code",
   "execution_count": null,
   "id": "be937a93-81f3-4452-8df0-a38e42461ccd",
   "metadata": {},
   "outputs": [],
   "source": [
    "len(pos_18)"
   ]
  },
  {
   "cell_type": "code",
   "execution_count": null,
   "id": "162ffe2b-8d56-4e61-9a4d-41e1802baeb0",
   "metadata": {},
   "outputs": [],
   "source": [
    "pos[0]"
   ]
  },
  {
   "cell_type": "code",
   "execution_count": null,
   "id": "583e38ec-0b04-4174-abac-9f575b577b10",
   "metadata": {},
   "outputs": [],
   "source": [
    "pos_19 = []\n",
    "tmp = 0\n",
    "for df in df_2019:\n",
    "    for val in df['positive']:\n",
    "        tmp = tmp + val\n",
    "    pos_19.append(tmp)"
   ]
  },
  {
   "cell_type": "code",
   "execution_count": null,
   "id": "db83c5ff-102b-49fd-a2be-8dd9c955741d",
   "metadata": {},
   "outputs": [],
   "source": [
    "pos_20 = []\n",
    "tmp = 0\n",
    "for df in df_2020:\n",
    "    for val in df['positive']:\n",
    "        tmp = tmp + val\n",
    "    pos_20.append(tmp)"
   ]
  },
  {
   "cell_type": "code",
   "execution_count": null,
   "id": "30b4b27e-42a6-49c7-a743-7763e2f46573",
   "metadata": {},
   "outputs": [],
   "source": [
    "pos_21 = []\n",
    "tmp = 0\n",
    "for df in df_2021:\n",
    "    for val in df['positive']:\n",
    "        tmp = tmp + val\n",
    "    pos_21.append(tmp)"
   ]
  },
  {
   "cell_type": "code",
   "execution_count": null,
   "id": "99357eb6-6c9a-4e94-8a57-5d755af8271a",
   "metadata": {},
   "outputs": [],
   "source": [
    "pos_22 = []\n",
    "tmp = 0\n",
    "for df in df_2022:\n",
    "    for val in df['positive']:\n",
    "        tmp = tmp + val\n",
    "    pos_22.append(tmp)"
   ]
  },
  {
   "cell_type": "code",
   "execution_count": null,
   "id": "0228f275-1cce-4d70-9b29-1c21ae3b6422",
   "metadata": {},
   "outputs": [],
   "source": [
    "# pos_21"
   ]
  },
  {
   "cell_type": "markdown",
   "id": "5272bb01-35af-4340-897d-b5bb8032f9cc",
   "metadata": {},
   "source": [
    "## negative"
   ]
  },
  {
   "cell_type": "code",
   "execution_count": null,
   "id": "b92212c3-8c96-487e-b687-435727cff46b",
   "metadata": {},
   "outputs": [],
   "source": [
    "neg_18 = []\n",
    "tmp = 0\n",
    "for df in df_2018:\n",
    "    for val in df['negative']:\n",
    "        tmp = tmp + val\n",
    "    neg_18.append(tmp)"
   ]
  },
  {
   "cell_type": "code",
   "execution_count": null,
   "id": "895641ea-285f-4c43-8608-03d087d0ba41",
   "metadata": {},
   "outputs": [],
   "source": [
    "len(neg_18)"
   ]
  },
  {
   "cell_type": "code",
   "execution_count": null,
   "id": "96cb1760-6502-448d-a671-70f0a6039276",
   "metadata": {},
   "outputs": [],
   "source": [
    "neg_18[5]"
   ]
  },
  {
   "cell_type": "code",
   "execution_count": null,
   "id": "dd8362cb-b87f-4387-a3a6-f182df9620c9",
   "metadata": {},
   "outputs": [],
   "source": [
    "neg_19 = []\n",
    "tmp = 0\n",
    "for df in df_2019:\n",
    "    for val in df['negative']:\n",
    "        tmp = tmp + val\n",
    "    neg_19.append(tmp)"
   ]
  },
  {
   "cell_type": "code",
   "execution_count": null,
   "id": "ef24f9a6-17d0-4c66-88c1-49102b2b3378",
   "metadata": {},
   "outputs": [],
   "source": [
    "neg_20 = []\n",
    "tmp = 0\n",
    "for df in df_2020:\n",
    "    for val in df['negative']:\n",
    "        tmp = tmp + val\n",
    "    neg_20.append(tmp)"
   ]
  },
  {
   "cell_type": "code",
   "execution_count": null,
   "id": "5af458ea-6964-41f7-b713-09aefebcc50e",
   "metadata": {},
   "outputs": [],
   "source": [
    "neg_21 = []\n",
    "tmp = 0\n",
    "for df in df_2021:\n",
    "    for val in df['negative']:\n",
    "        tmp = tmp + val\n",
    "    neg_21.append(tmp)"
   ]
  },
  {
   "cell_type": "code",
   "execution_count": null,
   "id": "2cc52d2e-9efd-4692-ab0b-767dcebca4b6",
   "metadata": {},
   "outputs": [],
   "source": [
    "neg_22 = []\n",
    "tmp = 0\n",
    "for df in df_2022:\n",
    "    for val in df['negative']:\n",
    "        tmp = tmp + val\n",
    "    neg_22.append(tmp)"
   ]
  },
  {
   "cell_type": "code",
   "execution_count": null,
   "id": "caca788d-308a-4469-9005-41acbbc5d26a",
   "metadata": {
    "tags": []
   },
   "outputs": [],
   "source": [
    "neg_22"
   ]
  }
 ],
 "metadata": {
  "kernelspec": {
   "display_name": "Python 3 (ipykernel)",
   "language": "python",
   "name": "python3"
  },
  "language_info": {
   "codemirror_mode": {
    "name": "ipython",
    "version": 3
   },
   "file_extension": ".py",
   "mimetype": "text/x-python",
   "name": "python",
   "nbconvert_exporter": "python",
   "pygments_lexer": "ipython3",
   "version": "3.8.8"
  }
 },
 "nbformat": 4,
 "nbformat_minor": 5
}
