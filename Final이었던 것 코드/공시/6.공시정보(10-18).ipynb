{
 "cells": [
  {
   "cell_type": "code",
   "execution_count": 1,
   "id": "f25baf4c-aea6-43ed-9bcb-4f5c4e04fffe",
   "metadata": {
    "tags": []
   },
   "outputs": [],
   "source": [
    "import pandas as pd\n",
    "import numpy as np\n",
    "import matplotlib.pyplot as plt\n",
    "import warnings\n",
    "warnings.filterwarnings(action='ignore')"
   ]
  },
  {
   "cell_type": "markdown",
   "id": "4d6a681e-f0c3-43d4-a1ce-0752ebfa7dae",
   "metadata": {},
   "source": [
    "# 데이터 로드"
   ]
  },
  {
   "cell_type": "code",
   "execution_count": 2,
   "id": "fea236f9-986a-495d-b3ad-2892b0d05c18",
   "metadata": {
    "tags": []
   },
   "outputs": [],
   "source": [
    "ticker_df = pd.read_csv('../데이터/최종기업ticker.csv', names = ['names','ticker'])\n",
    "ticker_df = ticker_df.dropna()"
   ]
  },
  {
   "cell_type": "code",
   "execution_count": 3,
   "id": "4dc9c101-909d-4697-8ff2-bc8aca982f08",
   "metadata": {},
   "outputs": [],
   "source": [
    "df_list =[]\n",
    "for i in range(len(ticker_df)):\n",
    "    name = ticker_df['names'][i+1]\n",
    "    df_i = pd.read_excel(f'../데이터/공시정보/공시정보_2010~2017/{name}.xlsx', header=None)\n",
    "    # df_i = df_i.drop(['1'], axis=1)\n",
    "    df_list.append(df_i)\n",
    "    "
   ]
  },
  {
   "cell_type": "code",
   "execution_count": 4,
   "id": "a6987393-c850-4b60-b147-7338f0582414",
   "metadata": {
    "tags": []
   },
   "outputs": [
    {
     "data": {
      "text/html": [
       "<div>\n",
       "<style scoped>\n",
       "    .dataframe tbody tr th:only-of-type {\n",
       "        vertical-align: middle;\n",
       "    }\n",
       "\n",
       "    .dataframe tbody tr th {\n",
       "        vertical-align: top;\n",
       "    }\n",
       "\n",
       "    .dataframe thead th {\n",
       "        text-align: right;\n",
       "    }\n",
       "</style>\n",
       "<table border=\"1\" class=\"dataframe\">\n",
       "  <thead>\n",
       "    <tr style=\"text-align: right;\">\n",
       "      <th></th>\n",
       "      <th>0</th>\n",
       "      <th>1</th>\n",
       "      <th>2</th>\n",
       "      <th>3</th>\n",
       "      <th>4</th>\n",
       "      <th>5</th>\n",
       "    </tr>\n",
       "  </thead>\n",
       "  <tbody>\n",
       "    <tr>\n",
       "      <th>0</th>\n",
       "      <td>1</td>\n",
       "      <td>코 CMG제약 IR</td>\n",
       "      <td>주주명부폐쇄기간또는기준일설정</td>\n",
       "      <td>CMG제약</td>\n",
       "      <td>2017.12.12</td>\n",
       "      <td>코</td>\n",
       "    </tr>\n",
       "    <tr>\n",
       "      <th>1</th>\n",
       "      <td>2</td>\n",
       "      <td>코 CMG제약 IR</td>\n",
       "      <td>임원ㆍ주요주주특정증권등소유상황보고서</td>\n",
       "      <td>윤명순</td>\n",
       "      <td>2017.12.06</td>\n",
       "      <td>NaN</td>\n",
       "    </tr>\n",
       "  </tbody>\n",
       "</table>\n",
       "</div>"
      ],
      "text/plain": [
       "   0           1                    2      3           4    5\n",
       "0  1  코 CMG제약 IR      주주명부폐쇄기간또는기준일설정  CMG제약  2017.12.12    코\n",
       "1  2  코 CMG제약 IR  임원ㆍ주요주주특정증권등소유상황보고서    윤명순  2017.12.06  NaN"
      ]
     },
     "execution_count": 4,
     "metadata": {},
     "output_type": "execute_result"
    }
   ],
   "source": [
    "df_list[0].head(2)"
   ]
  },
  {
   "cell_type": "code",
   "execution_count": 5,
   "id": "6322d8f5-d26d-4448-9358-ac1d2649934c",
   "metadata": {
    "tags": []
   },
   "outputs": [
    {
     "name": "stdout",
     "output_type": "stream",
     "text": [
      "<class 'pandas.core.frame.DataFrame'>\n",
      "RangeIndex: 354 entries, 0 to 353\n",
      "Data columns (total 6 columns):\n",
      " #   Column  Non-Null Count  Dtype \n",
      "---  ------  --------------  ----- \n",
      " 0   0       354 non-null    int64 \n",
      " 1   1       354 non-null    object\n",
      " 2   2       354 non-null    object\n",
      " 3   3       354 non-null    object\n",
      " 4   4       354 non-null    object\n",
      " 5   5       188 non-null    object\n",
      "dtypes: int64(1), object(5)\n",
      "memory usage: 16.7+ KB\n"
     ]
    }
   ],
   "source": [
    "df_list[0].info()"
   ]
  },
  {
   "cell_type": "markdown",
   "id": "e7b0a16d-f08b-4638-aedf-dfc5e7cf3c4b",
   "metadata": {},
   "source": [
    "# drop column"
   ]
  },
  {
   "cell_type": "markdown",
   "id": "075e3238-387f-4722-8f68-0047e6109d3e",
   "metadata": {},
   "source": [
    "* 지놈앤컴퍼니 데이터 없음"
   ]
  },
  {
   "cell_type": "code",
   "execution_count": 6,
   "id": "d57fa5d7-3736-48c0-80b2-d7ab8f4d3e11",
   "metadata": {},
   "outputs": [],
   "source": [
    "# df_list"
   ]
  },
  {
   "cell_type": "code",
   "execution_count": 7,
   "id": "31ead290-bce9-465c-acb3-700de9f0b3e3",
   "metadata": {
    "tags": []
   },
   "outputs": [
    {
     "data": {
      "text/html": [
       "<div>\n",
       "<style scoped>\n",
       "    .dataframe tbody tr th:only-of-type {\n",
       "        vertical-align: middle;\n",
       "    }\n",
       "\n",
       "    .dataframe tbody tr th {\n",
       "        vertical-align: top;\n",
       "    }\n",
       "\n",
       "    .dataframe thead th {\n",
       "        text-align: right;\n",
       "    }\n",
       "</style>\n",
       "<table border=\"1\" class=\"dataframe\">\n",
       "  <thead>\n",
       "    <tr style=\"text-align: right;\">\n",
       "      <th></th>\n",
       "    </tr>\n",
       "  </thead>\n",
       "  <tbody>\n",
       "  </tbody>\n",
       "</table>\n",
       "</div>"
      ],
      "text/plain": [
       "Empty DataFrame\n",
       "Columns: []\n",
       "Index: []"
      ]
     },
     "execution_count": 7,
     "metadata": {},
     "output_type": "execute_result"
    }
   ],
   "source": [
    "df_list[90]"
   ]
  },
  {
   "cell_type": "code",
   "execution_count": 8,
   "id": "997dfe61-f85f-474e-8529-f718c9a53ed0",
   "metadata": {
    "tags": []
   },
   "outputs": [],
   "source": [
    "df_list1=[]\n",
    "for df in df_list:\n",
    "    if len(df) >= 1:\n",
    "        df_i = df.iloc[:,[1,2,4]]\n",
    "        df_i.columns = ['corp_name','report_nm','rcept_dt']\n",
    "        # df_i['rcept_dt'] = pd.to_datetime(df_i['rcept_dt'])\n",
    "        df_list1.append(df_i)\n",
    "    else:\n",
    "        # df_list1.append(df)\n",
    "        continue"
   ]
  },
  {
   "cell_type": "code",
   "execution_count": 9,
   "id": "2916451a-5c71-463c-b6ea-da7df2c419ae",
   "metadata": {
    "tags": []
   },
   "outputs": [
    {
     "data": {
      "text/plain": [
       "125"
      ]
     },
     "execution_count": 9,
     "metadata": {},
     "output_type": "execute_result"
    }
   ],
   "source": [
    "len(df_list1)"
   ]
  },
  {
   "cell_type": "markdown",
   "id": "7a95335e-6203-4bd3-b1e2-1075ee61e55c",
   "metadata": {},
   "source": [
    "## corp_name"
   ]
  },
  {
   "cell_type": "code",
   "execution_count": 10,
   "id": "d03f386c-b95f-4c7c-9c81-9b8228d83183",
   "metadata": {
    "tags": []
   },
   "outputs": [
    {
     "data": {
      "text/html": [
       "<div>\n",
       "<style scoped>\n",
       "    .dataframe tbody tr th:only-of-type {\n",
       "        vertical-align: middle;\n",
       "    }\n",
       "\n",
       "    .dataframe tbody tr th {\n",
       "        vertical-align: top;\n",
       "    }\n",
       "\n",
       "    .dataframe thead th {\n",
       "        text-align: right;\n",
       "    }\n",
       "</style>\n",
       "<table border=\"1\" class=\"dataframe\">\n",
       "  <thead>\n",
       "    <tr style=\"text-align: right;\">\n",
       "      <th></th>\n",
       "      <th>corp_name</th>\n",
       "      <th>report_nm</th>\n",
       "      <th>rcept_dt</th>\n",
       "    </tr>\n",
       "  </thead>\n",
       "  <tbody>\n",
       "    <tr>\n",
       "      <th>0</th>\n",
       "      <td>코 쎌바이오텍</td>\n",
       "      <td>주주명부폐쇄기간또는기준일설정</td>\n",
       "      <td>2017.12.15</td>\n",
       "    </tr>\n",
       "    <tr>\n",
       "      <th>1</th>\n",
       "      <td>코 쎌바이오텍</td>\n",
       "      <td>분기보고서 (2017.09)</td>\n",
       "      <td>2017.11.14</td>\n",
       "    </tr>\n",
       "    <tr>\n",
       "      <th>2</th>\n",
       "      <td>코 쎌바이오텍</td>\n",
       "      <td>기업설명회(IR)개최</td>\n",
       "      <td>2017.11.07</td>\n",
       "    </tr>\n",
       "    <tr>\n",
       "      <th>3</th>\n",
       "      <td>코 쎌바이오텍</td>\n",
       "      <td>연결재무제표기준영업(잠정)실적(공정공시)</td>\n",
       "      <td>2017.11.07</td>\n",
       "    </tr>\n",
       "    <tr>\n",
       "      <th>4</th>\n",
       "      <td>코 쎌바이오텍</td>\n",
       "      <td>기타경영사항(특허권취득)(자율공시)</td>\n",
       "      <td>2017.10.26</td>\n",
       "    </tr>\n",
       "    <tr>\n",
       "      <th>...</th>\n",
       "      <td>...</td>\n",
       "      <td>...</td>\n",
       "      <td>...</td>\n",
       "    </tr>\n",
       "    <tr>\n",
       "      <th>184</th>\n",
       "      <td>코 쎌바이오텍</td>\n",
       "      <td>감사보고서제출</td>\n",
       "      <td>2010.03.11</td>\n",
       "    </tr>\n",
       "    <tr>\n",
       "      <th>185</th>\n",
       "      <td>코 쎌바이오텍</td>\n",
       "      <td>[기재정정]매출액또는손익구조30%(대규모법인은15%)이상변동 (정정공시)</td>\n",
       "      <td>2010.03.11</td>\n",
       "    </tr>\n",
       "    <tr>\n",
       "      <th>186</th>\n",
       "      <td>코 쎌바이오텍</td>\n",
       "      <td>주주총회소집공고</td>\n",
       "      <td>2010.03.04</td>\n",
       "    </tr>\n",
       "    <tr>\n",
       "      <th>187</th>\n",
       "      <td>코 쎌바이오텍</td>\n",
       "      <td>[기재정정]현금ㆍ현물배당결정 (정정공시)</td>\n",
       "      <td>2010.02.25</td>\n",
       "    </tr>\n",
       "    <tr>\n",
       "      <th>188</th>\n",
       "      <td>코 쎌바이오텍</td>\n",
       "      <td>주주총회소집결의</td>\n",
       "      <td>2010.02.25</td>\n",
       "    </tr>\n",
       "  </tbody>\n",
       "</table>\n",
       "<p>189 rows × 3 columns</p>\n",
       "</div>"
      ],
      "text/plain": [
       "    corp_name                                 report_nm    rcept_dt\n",
       "0     코 쎌바이오텍                           주주명부폐쇄기간또는기준일설정  2017.12.15\n",
       "1     코 쎌바이오텍                           분기보고서 (2017.09)  2017.11.14\n",
       "2     코 쎌바이오텍                               기업설명회(IR)개최  2017.11.07\n",
       "3     코 쎌바이오텍                    연결재무제표기준영업(잠정)실적(공정공시)  2017.11.07\n",
       "4     코 쎌바이오텍                       기타경영사항(특허권취득)(자율공시)  2017.10.26\n",
       "..        ...                                       ...         ...\n",
       "184   코 쎌바이오텍                                   감사보고서제출  2010.03.11\n",
       "185   코 쎌바이오텍  [기재정정]매출액또는손익구조30%(대규모법인은15%)이상변동 (정정공시)  2010.03.11\n",
       "186   코 쎌바이오텍                                  주주총회소집공고  2010.03.04\n",
       "187   코 쎌바이오텍                    [기재정정]현금ㆍ현물배당결정 (정정공시)  2010.02.25\n",
       "188   코 쎌바이오텍                                  주주총회소집결의  2010.02.25\n",
       "\n",
       "[189 rows x 3 columns]"
      ]
     },
     "execution_count": 10,
     "metadata": {},
     "output_type": "execute_result"
    }
   ],
   "source": [
    "df_list1[50]"
   ]
  },
  {
   "cell_type": "code",
   "execution_count": 11,
   "id": "57fdb969-d0ce-41f6-a01f-18941aaa612e",
   "metadata": {
    "tags": []
   },
   "outputs": [],
   "source": [
    "corp=[]\n",
    "for df in df_list1:\n",
    "    tmp = []\n",
    "    for txt in df['corp_name']:\n",
    "        # print(txt)\n",
    "        name = txt.split()[1]\n",
    "        # print(name)\n",
    "        tmp.append(name)\n",
    "    corp.append(tmp)"
   ]
  },
  {
   "cell_type": "code",
   "execution_count": 12,
   "id": "9e9dc445-2e41-4496-b14c-00616da4eb74",
   "metadata": {
    "tags": []
   },
   "outputs": [
    {
     "data": {
      "text/plain": [
       "125"
      ]
     },
     "execution_count": 12,
     "metadata": {},
     "output_type": "execute_result"
    }
   ],
   "source": [
    "len(corp)"
   ]
  },
  {
   "cell_type": "code",
   "execution_count": 13,
   "id": "a0495e49-7bf6-4268-9407-bc12536b9584",
   "metadata": {
    "tags": []
   },
   "outputs": [],
   "source": [
    "df_list2 = []\n",
    "for i,df in enumerate(df_list1):\n",
    "    df['corp_name'] = corp[i]\n",
    "    df_i = df.sort_values(by=['rcept_dt'], ascending=True)\n",
    "    df_list2.append(df_i)"
   ]
  },
  {
   "cell_type": "code",
   "execution_count": 14,
   "id": "7b07ee6b-a7d3-46a2-9e32-70e6ea5fb192",
   "metadata": {
    "tags": []
   },
   "outputs": [
    {
     "data": {
      "text/html": [
       "<div>\n",
       "<style scoped>\n",
       "    .dataframe tbody tr th:only-of-type {\n",
       "        vertical-align: middle;\n",
       "    }\n",
       "\n",
       "    .dataframe tbody tr th {\n",
       "        vertical-align: top;\n",
       "    }\n",
       "\n",
       "    .dataframe thead th {\n",
       "        text-align: right;\n",
       "    }\n",
       "</style>\n",
       "<table border=\"1\" class=\"dataframe\">\n",
       "  <thead>\n",
       "    <tr style=\"text-align: right;\">\n",
       "      <th></th>\n",
       "      <th>corp_name</th>\n",
       "      <th>report_nm</th>\n",
       "      <th>rcept_dt</th>\n",
       "    </tr>\n",
       "  </thead>\n",
       "  <tbody>\n",
       "    <tr>\n",
       "      <th>353</th>\n",
       "      <td>CMG제약</td>\n",
       "      <td>소송등의판결ㆍ결정</td>\n",
       "      <td>2010.01.18</td>\n",
       "    </tr>\n",
       "    <tr>\n",
       "      <th>352</th>\n",
       "      <td>CMG제약</td>\n",
       "      <td>전환가액의조정</td>\n",
       "      <td>2010.01.28</td>\n",
       "    </tr>\n",
       "  </tbody>\n",
       "</table>\n",
       "</div>"
      ],
      "text/plain": [
       "    corp_name  report_nm    rcept_dt\n",
       "353     CMG제약  소송등의판결ㆍ결정  2010.01.18\n",
       "352     CMG제약    전환가액의조정  2010.01.28"
      ]
     },
     "execution_count": 14,
     "metadata": {},
     "output_type": "execute_result"
    }
   ],
   "source": [
    "df_list2[0].head(2)"
   ]
  },
  {
   "cell_type": "markdown",
   "id": "b25c647e-ca9e-4b34-b341-fcc5383b10be",
   "metadata": {},
   "source": [
    "# drop"
   ]
  },
  {
   "cell_type": "code",
   "execution_count": 15,
   "id": "119f3c82-481f-4ea9-8fa5-811c62d58f3d",
   "metadata": {
    "tags": []
   },
   "outputs": [
    {
     "data": {
      "text/html": [
       "<div>\n",
       "<style scoped>\n",
       "    .dataframe tbody tr th:only-of-type {\n",
       "        vertical-align: middle;\n",
       "    }\n",
       "\n",
       "    .dataframe tbody tr th {\n",
       "        vertical-align: top;\n",
       "    }\n",
       "\n",
       "    .dataframe thead th {\n",
       "        text-align: right;\n",
       "    }\n",
       "</style>\n",
       "<table border=\"1\" class=\"dataframe\">\n",
       "  <thead>\n",
       "    <tr style=\"text-align: right;\">\n",
       "      <th></th>\n",
       "      <th>df</th>\n",
       "      <th>row</th>\n",
       "    </tr>\n",
       "  </thead>\n",
       "  <tbody>\n",
       "  </tbody>\n",
       "</table>\n",
       "</div>"
      ],
      "text/plain": [
       "Empty DataFrame\n",
       "Columns: [df, row]\n",
       "Index: []"
      ]
     },
     "execution_count": 15,
     "metadata": {},
     "output_type": "execute_result"
    }
   ],
   "source": [
    "drop_df = pd.DataFrame(columns = ['df', 'row' ])\n",
    "drop_df"
   ]
  },
  {
   "cell_type": "code",
   "execution_count": 16,
   "id": "78c3eddb-24bc-42f6-89ed-13d6600c09ef",
   "metadata": {
    "tags": []
   },
   "outputs": [],
   "source": [
    "for i, df in enumerate(df_list2):\n",
    "    for j,title in enumerate(df['report_nm']):\n",
    "        if (\"단일판매\" in title) or (\"보고서\" in title) or(\"주주총회\" in title) or(\"참고서류\" in title):\n",
    "            # print(1)\n",
    "            drop_df = drop_df.append({'df':i,'row':j}, ignore_index=True)"
   ]
  },
  {
   "cell_type": "code",
   "execution_count": 17,
   "id": "03529377-2963-466f-b065-1e882d6e74be",
   "metadata": {
    "tags": []
   },
   "outputs": [],
   "source": [
    "drop_df['row'] = drop_df['row'].astype('int')"
   ]
  },
  {
   "cell_type": "code",
   "execution_count": 18,
   "id": "3ff3b112-9f31-4e40-9eae-b6c431a61adb",
   "metadata": {
    "tags": []
   },
   "outputs": [
    {
     "name": "stdout",
     "output_type": "stream",
     "text": [
      "<class 'pandas.core.frame.DataFrame'>\n",
      "RangeIndex: 17422 entries, 0 to 17421\n",
      "Data columns (total 2 columns):\n",
      " #   Column  Non-Null Count  Dtype \n",
      "---  ------  --------------  ----- \n",
      " 0   df      17422 non-null  object\n",
      " 1   row     17422 non-null  int32 \n",
      "dtypes: int32(1), object(1)\n",
      "memory usage: 204.3+ KB\n"
     ]
    }
   ],
   "source": [
    "drop_df.info()"
   ]
  },
  {
   "cell_type": "code",
   "execution_count": 19,
   "id": "abc93ea0-3ba7-4629-ba0c-4581bf5e241a",
   "metadata": {
    "tags": []
   },
   "outputs": [
    {
     "data": {
      "text/plain": [
       "354"
      ]
     },
     "execution_count": 19,
     "metadata": {},
     "output_type": "execute_result"
    }
   ],
   "source": [
    "len(df_list2[0])"
   ]
  },
  {
   "cell_type": "code",
   "execution_count": 20,
   "id": "84960ed0-30fb-4684-bb90-3437f0fac627",
   "metadata": {
    "tags": []
   },
   "outputs": [],
   "source": [
    "df_list3 = []\n",
    "for i, df in enumerate(df_list2):\n",
    "    tmp_list =[]\n",
    "    tmp=drop_df[drop_df['df']==i]['row']\n",
    "    # tmp_list.append(tmp)\n",
    "    df = df.drop(tmp.values, axis = 0)\n",
    "    df_list3.append(df)"
   ]
  },
  {
   "cell_type": "code",
   "execution_count": 21,
   "id": "e8c19eec-5bd1-4b00-8f29-624b550efdbf",
   "metadata": {
    "tags": []
   },
   "outputs": [
    {
     "data": {
      "text/plain": [
       "166"
      ]
     },
     "execution_count": 21,
     "metadata": {},
     "output_type": "execute_result"
    }
   ],
   "source": [
    "len(df_list3[0])"
   ]
  },
  {
   "cell_type": "markdown",
   "id": "d982e763-f4e5-4697-958f-534d8879f6b0",
   "metadata": {},
   "source": [
    "# 년도별  df 분리"
   ]
  },
  {
   "cell_type": "code",
   "execution_count": 22,
   "id": "72d256ea-d119-488b-a2cd-d701c8fe8304",
   "metadata": {
    "tags": []
   },
   "outputs": [
    {
     "data": {
      "text/html": [
       "<div>\n",
       "<style scoped>\n",
       "    .dataframe tbody tr th:only-of-type {\n",
       "        vertical-align: middle;\n",
       "    }\n",
       "\n",
       "    .dataframe tbody tr th {\n",
       "        vertical-align: top;\n",
       "    }\n",
       "\n",
       "    .dataframe thead th {\n",
       "        text-align: right;\n",
       "    }\n",
       "</style>\n",
       "<table border=\"1\" class=\"dataframe\">\n",
       "  <thead>\n",
       "    <tr style=\"text-align: right;\">\n",
       "      <th></th>\n",
       "      <th>corp_name</th>\n",
       "      <th>report_nm</th>\n",
       "      <th>rcept_dt</th>\n",
       "    </tr>\n",
       "  </thead>\n",
       "  <tbody>\n",
       "    <tr>\n",
       "      <th>353</th>\n",
       "      <td>CMG제약</td>\n",
       "      <td>소송등의판결ㆍ결정</td>\n",
       "      <td>2010.01.18</td>\n",
       "    </tr>\n",
       "    <tr>\n",
       "      <th>346</th>\n",
       "      <td>CMG제약</td>\n",
       "      <td>주요사항보고서(신주인수권부사채권발행결정)</td>\n",
       "      <td>2010.02.24</td>\n",
       "    </tr>\n",
       "  </tbody>\n",
       "</table>\n",
       "</div>"
      ],
      "text/plain": [
       "    corp_name               report_nm    rcept_dt\n",
       "353     CMG제약               소송등의판결ㆍ결정  2010.01.18\n",
       "346     CMG제약  주요사항보고서(신주인수권부사채권발행결정)  2010.02.24"
      ]
     },
     "execution_count": 22,
     "metadata": {},
     "output_type": "execute_result"
    }
   ],
   "source": [
    "df_list3[0].head(2)"
   ]
  },
  {
   "cell_type": "code",
   "execution_count": 23,
   "id": "3b2662ab-f92d-45de-b2ff-d186dc3301bd",
   "metadata": {
    "tags": []
   },
   "outputs": [
    {
     "name": "stdout",
     "output_type": "stream",
     "text": [
      "<class 'pandas.core.frame.DataFrame'>\n",
      "Int64Index: 166 entries, 353 to 0\n",
      "Data columns (total 3 columns):\n",
      " #   Column     Non-Null Count  Dtype \n",
      "---  ------     --------------  ----- \n",
      " 0   corp_name  166 non-null    object\n",
      " 1   report_nm  166 non-null    object\n",
      " 2   rcept_dt   166 non-null    object\n",
      "dtypes: object(3)\n",
      "memory usage: 5.2+ KB\n"
     ]
    }
   ],
   "source": [
    "df_list3[0].info()"
   ]
  },
  {
   "cell_type": "code",
   "execution_count": 24,
   "id": "ad48e848-061a-440c-94fb-1fca15c2d220",
   "metadata": {
    "tags": []
   },
   "outputs": [],
   "source": [
    "year=[]\n",
    "month=[]\n",
    "for df in df_list3:\n",
    "    tmp_y = []\n",
    "    tmp_m = []\n",
    "    for txt in df['rcept_dt']:\n",
    "        # print(txt)\n",
    "        y = txt.split('.')[0]\n",
    "        m = txt.split('.')[1]\n",
    "        # print(name)\n",
    "        tmp_y.append(y)\n",
    "        tmp_m.append(m)\n",
    "    year.append(tmp_y)\n",
    "    month.append(tmp_m)\n",
    "    # corp.append(tmp)"
   ]
  },
  {
   "cell_type": "code",
   "execution_count": 25,
   "id": "539eee47-bde1-4fd2-9bb1-f0c6cf16da23",
   "metadata": {
    "tags": []
   },
   "outputs": [],
   "source": [
    "# corp[0]"
   ]
  },
  {
   "cell_type": "code",
   "execution_count": 26,
   "id": "6ddbcaff-fd0f-4897-a93a-770d167837dd",
   "metadata": {},
   "outputs": [
    {
     "data": {
      "text/html": [
       "<div>\n",
       "<style scoped>\n",
       "    .dataframe tbody tr th:only-of-type {\n",
       "        vertical-align: middle;\n",
       "    }\n",
       "\n",
       "    .dataframe tbody tr th {\n",
       "        vertical-align: top;\n",
       "    }\n",
       "\n",
       "    .dataframe thead th {\n",
       "        text-align: right;\n",
       "    }\n",
       "</style>\n",
       "<table border=\"1\" class=\"dataframe\">\n",
       "  <thead>\n",
       "    <tr style=\"text-align: right;\">\n",
       "      <th></th>\n",
       "      <th>corp_name</th>\n",
       "      <th>report_nm</th>\n",
       "      <th>rcept_dt</th>\n",
       "    </tr>\n",
       "  </thead>\n",
       "  <tbody>\n",
       "    <tr>\n",
       "      <th>353</th>\n",
       "      <td>CMG제약</td>\n",
       "      <td>소송등의판결ㆍ결정</td>\n",
       "      <td>2010.01.18</td>\n",
       "    </tr>\n",
       "    <tr>\n",
       "      <th>346</th>\n",
       "      <td>CMG제약</td>\n",
       "      <td>주요사항보고서(신주인수권부사채권발행결정)</td>\n",
       "      <td>2010.02.24</td>\n",
       "    </tr>\n",
       "    <tr>\n",
       "      <th>345</th>\n",
       "      <td>CMG제약</td>\n",
       "      <td>소액공모공시서류(채무증권)</td>\n",
       "      <td>2010.02.25</td>\n",
       "    </tr>\n",
       "    <tr>\n",
       "      <th>339</th>\n",
       "      <td>CMG제약</td>\n",
       "      <td>주주총회소집결의</td>\n",
       "      <td>2010.03.08</td>\n",
       "    </tr>\n",
       "    <tr>\n",
       "      <th>338</th>\n",
       "      <td>CMG제약</td>\n",
       "      <td>[기재정정]의결권대리행사권유참고서류</td>\n",
       "      <td>2010.03.12</td>\n",
       "    </tr>\n",
       "    <tr>\n",
       "      <th>...</th>\n",
       "      <td>...</td>\n",
       "      <td>...</td>\n",
       "      <td>...</td>\n",
       "    </tr>\n",
       "    <tr>\n",
       "      <th>7</th>\n",
       "      <td>CMG제약</td>\n",
       "      <td>조회공시요구(현저한시황변동)에대한답변(중요정보없음)</td>\n",
       "      <td>2017.11.09</td>\n",
       "    </tr>\n",
       "    <tr>\n",
       "      <th>5</th>\n",
       "      <td>CMG제약</td>\n",
       "      <td>임원ㆍ주요주주특정증권등소유상황보고서</td>\n",
       "      <td>2017.11.29</td>\n",
       "    </tr>\n",
       "    <tr>\n",
       "      <th>2</th>\n",
       "      <td>CMG제약</td>\n",
       "      <td>임원ㆍ주요주주특정증권등소유상황보고서</td>\n",
       "      <td>2017.12.06</td>\n",
       "    </tr>\n",
       "    <tr>\n",
       "      <th>1</th>\n",
       "      <td>CMG제약</td>\n",
       "      <td>임원ㆍ주요주주특정증권등소유상황보고서</td>\n",
       "      <td>2017.12.06</td>\n",
       "    </tr>\n",
       "    <tr>\n",
       "      <th>0</th>\n",
       "      <td>CMG제약</td>\n",
       "      <td>주주명부폐쇄기간또는기준일설정</td>\n",
       "      <td>2017.12.12</td>\n",
       "    </tr>\n",
       "  </tbody>\n",
       "</table>\n",
       "<p>166 rows × 3 columns</p>\n",
       "</div>"
      ],
      "text/plain": [
       "    corp_name                     report_nm    rcept_dt\n",
       "353     CMG제약                     소송등의판결ㆍ결정  2010.01.18\n",
       "346     CMG제약        주요사항보고서(신주인수권부사채권발행결정)  2010.02.24\n",
       "345     CMG제약                소액공모공시서류(채무증권)  2010.02.25\n",
       "339     CMG제약                      주주총회소집결의  2010.03.08\n",
       "338     CMG제약           [기재정정]의결권대리행사권유참고서류  2010.03.12\n",
       "..        ...                           ...         ...\n",
       "7       CMG제약  조회공시요구(현저한시황변동)에대한답변(중요정보없음)  2017.11.09\n",
       "5       CMG제약           임원ㆍ주요주주특정증권등소유상황보고서  2017.11.29\n",
       "2       CMG제약           임원ㆍ주요주주특정증권등소유상황보고서  2017.12.06\n",
       "1       CMG제약           임원ㆍ주요주주특정증권등소유상황보고서  2017.12.06\n",
       "0       CMG제약               주주명부폐쇄기간또는기준일설정  2017.12.12\n",
       "\n",
       "[166 rows x 3 columns]"
      ]
     },
     "execution_count": 26,
     "metadata": {},
     "output_type": "execute_result"
    }
   ],
   "source": [
    "df_list3[0]"
   ]
  },
  {
   "cell_type": "code",
   "execution_count": 27,
   "id": "bfeffeab-a209-4089-a846-5a105fc21185",
   "metadata": {
    "tags": []
   },
   "outputs": [],
   "source": [
    "for i,df in enumerate(df_list3):\n",
    "    df['year']  = year[i]\n",
    "    df['month']=  month[i]"
   ]
  },
  {
   "cell_type": "code",
   "execution_count": 28,
   "id": "eab1f9d1-cb39-4729-8bb0-a07ade81d297",
   "metadata": {
    "tags": []
   },
   "outputs": [
    {
     "data": {
      "text/html": [
       "<div>\n",
       "<style scoped>\n",
       "    .dataframe tbody tr th:only-of-type {\n",
       "        vertical-align: middle;\n",
       "    }\n",
       "\n",
       "    .dataframe tbody tr th {\n",
       "        vertical-align: top;\n",
       "    }\n",
       "\n",
       "    .dataframe thead th {\n",
       "        text-align: right;\n",
       "    }\n",
       "</style>\n",
       "<table border=\"1\" class=\"dataframe\">\n",
       "  <thead>\n",
       "    <tr style=\"text-align: right;\">\n",
       "      <th></th>\n",
       "      <th>corp_name</th>\n",
       "      <th>report_nm</th>\n",
       "      <th>rcept_dt</th>\n",
       "      <th>year</th>\n",
       "      <th>month</th>\n",
       "    </tr>\n",
       "  </thead>\n",
       "  <tbody>\n",
       "    <tr>\n",
       "      <th>353</th>\n",
       "      <td>CMG제약</td>\n",
       "      <td>소송등의판결ㆍ결정</td>\n",
       "      <td>2010.01.18</td>\n",
       "      <td>2010</td>\n",
       "      <td>01</td>\n",
       "    </tr>\n",
       "    <tr>\n",
       "      <th>346</th>\n",
       "      <td>CMG제약</td>\n",
       "      <td>주요사항보고서(신주인수권부사채권발행결정)</td>\n",
       "      <td>2010.02.24</td>\n",
       "      <td>2010</td>\n",
       "      <td>02</td>\n",
       "    </tr>\n",
       "  </tbody>\n",
       "</table>\n",
       "</div>"
      ],
      "text/plain": [
       "    corp_name               report_nm    rcept_dt  year month\n",
       "353     CMG제약               소송등의판결ㆍ결정  2010.01.18  2010    01\n",
       "346     CMG제약  주요사항보고서(신주인수권부사채권발행결정)  2010.02.24  2010    02"
      ]
     },
     "execution_count": 28,
     "metadata": {},
     "output_type": "execute_result"
    }
   ],
   "source": [
    "df_list3[0].head(2)"
   ]
  },
  {
   "cell_type": "code",
   "execution_count": 29,
   "id": "2e89087e-b77b-4c0b-a3f9-fa7def1efb07",
   "metadata": {},
   "outputs": [],
   "source": [
    "df_2010 =[]\n",
    "for df in df_list3:\n",
    "    tmp = df[df['year']=='2010']\n",
    "    df_2010.append(tmp)"
   ]
  },
  {
   "cell_type": "code",
   "execution_count": 30,
   "id": "36f40a36-f935-4658-af2c-eb2da9db48af",
   "metadata": {},
   "outputs": [],
   "source": [
    "df_2011 =[]\n",
    "for df in df_list3:\n",
    "    tmp = df[df['year']=='2011']\n",
    "    df_2011.append(tmp)"
   ]
  },
  {
   "cell_type": "code",
   "execution_count": 31,
   "id": "3140cb69-fa4a-4cf7-a847-dc01c2c13a83",
   "metadata": {},
   "outputs": [],
   "source": [
    "df_2012 =[]\n",
    "for df in df_list3:\n",
    "    tmp = df[df['year']=='2012']\n",
    "    df_2012.append(tmp)"
   ]
  },
  {
   "cell_type": "code",
   "execution_count": 32,
   "id": "c676d80a-5f45-424f-b9ed-3a0d22449813",
   "metadata": {},
   "outputs": [],
   "source": [
    "df_2013 =[]\n",
    "for df in df_list3:\n",
    "    tmp = df[df['year']=='2013']\n",
    "    df_2013.append(tmp)"
   ]
  },
  {
   "cell_type": "code",
   "execution_count": 33,
   "id": "b13a4265-f34f-466f-a6f6-c62236c81408",
   "metadata": {},
   "outputs": [],
   "source": [
    "df_2014 =[]\n",
    "for df in df_list3:\n",
    "    tmp = df[df['year']=='2014']\n",
    "    df_2014.append(tmp)"
   ]
  },
  {
   "cell_type": "code",
   "execution_count": 34,
   "id": "d5eb527c-b338-4c72-8e42-9018c9a32268",
   "metadata": {},
   "outputs": [],
   "source": [
    "df_2015 =[]\n",
    "for df in df_list3:\n",
    "    tmp = df[df['year']=='2015']\n",
    "    df_2015.append(tmp)"
   ]
  },
  {
   "cell_type": "code",
   "execution_count": 35,
   "id": "d534f6ee-8d89-4f52-af06-e7d30c2410dd",
   "metadata": {},
   "outputs": [],
   "source": [
    "df_2016 =[]\n",
    "for df in df_list3:\n",
    "    tmp = df[df['year']=='2016']\n",
    "    df_2016.append(tmp)"
   ]
  },
  {
   "cell_type": "code",
   "execution_count": 36,
   "id": "6d7e4f3d-18af-4e21-8255-2097038b9977",
   "metadata": {},
   "outputs": [],
   "source": [
    "df_2017 =[]\n",
    "for df in df_list3:\n",
    "    tmp = df[df['year']=='2017']\n",
    "    df_2017.append(tmp)"
   ]
  },
  {
   "cell_type": "code",
   "execution_count": 37,
   "id": "100fc389-9022-40c5-9052-65915ae53522",
   "metadata": {
    "tags": []
   },
   "outputs": [],
   "source": [
    "df_2010 = pd.concat(df_2010)\n",
    "df_2011 = pd.concat(df_2011)\n",
    "df_2012 = pd.concat(df_2012)\n",
    "df_2013 = pd.concat(df_2013)\n",
    "df_2014 = pd.concat(df_2014)\n",
    "df_2015 = pd.concat(df_2015)\n",
    "df_2016 = pd.concat(df_2016)\n",
    "df_2017 = pd.concat(df_2017)"
   ]
  },
  {
   "cell_type": "code",
   "execution_count": 38,
   "id": "84deb442-aac7-4cf0-baf3-a207e0b7c50b",
   "metadata": {
    "tags": []
   },
   "outputs": [
    {
     "data": {
      "text/html": [
       "<div>\n",
       "<style scoped>\n",
       "    .dataframe tbody tr th:only-of-type {\n",
       "        vertical-align: middle;\n",
       "    }\n",
       "\n",
       "    .dataframe tbody tr th {\n",
       "        vertical-align: top;\n",
       "    }\n",
       "\n",
       "    .dataframe thead th {\n",
       "        text-align: right;\n",
       "    }\n",
       "</style>\n",
       "<table border=\"1\" class=\"dataframe\">\n",
       "  <thead>\n",
       "    <tr style=\"text-align: right;\">\n",
       "      <th></th>\n",
       "      <th>corp_name</th>\n",
       "      <th>report_nm</th>\n",
       "      <th>rcept_dt</th>\n",
       "      <th>year</th>\n",
       "      <th>month</th>\n",
       "    </tr>\n",
       "  </thead>\n",
       "  <tbody>\n",
       "    <tr>\n",
       "      <th>384</th>\n",
       "      <td>휴온스글로벌</td>\n",
       "      <td>임원ㆍ주요주주특정증권등소유상황보고서</td>\n",
       "      <td>2010.11.08</td>\n",
       "      <td>2010</td>\n",
       "      <td>11</td>\n",
       "    </tr>\n",
       "    <tr>\n",
       "      <th>383</th>\n",
       "      <td>휴온스글로벌</td>\n",
       "      <td>분기보고서 (2010.09)</td>\n",
       "      <td>2010.11.15</td>\n",
       "      <td>2010</td>\n",
       "      <td>11</td>\n",
       "    </tr>\n",
       "    <tr>\n",
       "      <th>382</th>\n",
       "      <td>휴온스글로벌</td>\n",
       "      <td>임원ㆍ주요주주특정증권등소유상황보고서</td>\n",
       "      <td>2010.11.29</td>\n",
       "      <td>2010</td>\n",
       "      <td>11</td>\n",
       "    </tr>\n",
       "    <tr>\n",
       "      <th>381</th>\n",
       "      <td>휴온스글로벌</td>\n",
       "      <td>주식등의대량보유상황보고서(일반)</td>\n",
       "      <td>2010.11.29</td>\n",
       "      <td>2010</td>\n",
       "      <td>11</td>\n",
       "    </tr>\n",
       "    <tr>\n",
       "      <th>377</th>\n",
       "      <td>휴온스글로벌</td>\n",
       "      <td>자기주식처분결과보고서</td>\n",
       "      <td>2010.12.15</td>\n",
       "      <td>2010</td>\n",
       "      <td>12</td>\n",
       "    </tr>\n",
       "  </tbody>\n",
       "</table>\n",
       "</div>"
      ],
      "text/plain": [
       "    corp_name            report_nm    rcept_dt  year month\n",
       "384    휴온스글로벌  임원ㆍ주요주주특정증권등소유상황보고서  2010.11.08  2010    11\n",
       "383    휴온스글로벌      분기보고서 (2010.09)  2010.11.15  2010    11\n",
       "382    휴온스글로벌  임원ㆍ주요주주특정증권등소유상황보고서  2010.11.29  2010    11\n",
       "381    휴온스글로벌    주식등의대량보유상황보고서(일반)  2010.11.29  2010    11\n",
       "377    휴온스글로벌          자기주식처분결과보고서  2010.12.15  2010    12"
      ]
     },
     "execution_count": 38,
     "metadata": {},
     "output_type": "execute_result"
    }
   ],
   "source": [
    "df_2010.tail()"
   ]
  },
  {
   "cell_type": "markdown",
   "id": "a2e3780f-5e24-41ad-b88a-86f00857708e",
   "metadata": {},
   "source": [
    "# positive(+1)\n",
    "*  DataFrame.insert( loc, column, value)"
   ]
  },
  {
   "cell_type": "markdown",
   "id": "e955e70a-f74e-4f9a-9f56-f35b2d1b2f68",
   "metadata": {},
   "source": [
    "<pre>\n",
    "* 기업설명회\n",
    "신규시설투자\n",
    "취득\n",
    "취득결정\n",
    "유상증자\n",
    "무상증자\n",
    "단기차입금감소결정\n",
    "권리락(무상증자)\n",
    "발행조건확정\n",
    "증권발행결과\n",
    "배당결정\n",
    "특허권\n",
    "실적\n",
    "승인\n",
    "주식분할\n",
    "정지해제\n",
    "대표이사변경"
   ]
  },
  {
   "cell_type": "markdown",
   "id": "4c5274b6-c5e9-4a48-80e2-da940b83161d",
   "metadata": {},
   "source": [
    "## 칼럼추가"
   ]
  },
  {
   "cell_type": "code",
   "execution_count": null,
   "id": "90940f0c-7496-4ae9-8e47-ca8ccc31741c",
   "metadata": {},
   "outputs": [],
   "source": [
    "#!!!!! 키워드 세밀화"
   ]
  },
  {
   "cell_type": "code",
   "execution_count": 40,
   "id": "0a4eb4e3-d6e4-4b01-9710-258b4dab4af0",
   "metadata": {
    "tags": []
   },
   "outputs": [],
   "source": [
    "df_2010.insert( 5, 'pos', 0)\n",
    "df_2011.insert( 5, 'pos', 0)\n",
    "df_2012.insert( 5, 'pos', 0)\n",
    "df_2013.insert( 5, 'pos', 0)\n",
    "df_2014.insert( 5, 'pos', 0)\n",
    "df_2015.insert( 5, 'pos', 0)\n",
    "df_2016.insert( 5, 'pos', 0)\n",
    "df_2017.insert( 5, 'pos', 0)"
   ]
  },
  {
   "cell_type": "code",
   "execution_count": 41,
   "id": "0b67ae4e-c28d-4502-a213-64a49ba0b09b",
   "metadata": {
    "tags": []
   },
   "outputs": [
    {
     "data": {
      "text/html": [
       "<div>\n",
       "<style scoped>\n",
       "    .dataframe tbody tr th:only-of-type {\n",
       "        vertical-align: middle;\n",
       "    }\n",
       "\n",
       "    .dataframe tbody tr th {\n",
       "        vertical-align: top;\n",
       "    }\n",
       "\n",
       "    .dataframe thead th {\n",
       "        text-align: right;\n",
       "    }\n",
       "</style>\n",
       "<table border=\"1\" class=\"dataframe\">\n",
       "  <thead>\n",
       "    <tr style=\"text-align: right;\">\n",
       "      <th></th>\n",
       "      <th>corp_name</th>\n",
       "      <th>report_nm</th>\n",
       "      <th>rcept_dt</th>\n",
       "      <th>year</th>\n",
       "      <th>month</th>\n",
       "      <th>pos</th>\n",
       "    </tr>\n",
       "  </thead>\n",
       "  <tbody>\n",
       "    <tr>\n",
       "      <th>353</th>\n",
       "      <td>CMG제약</td>\n",
       "      <td>소송등의판결ㆍ결정</td>\n",
       "      <td>2010.01.18</td>\n",
       "      <td>2010</td>\n",
       "      <td>01</td>\n",
       "      <td>0</td>\n",
       "    </tr>\n",
       "    <tr>\n",
       "      <th>346</th>\n",
       "      <td>CMG제약</td>\n",
       "      <td>주요사항보고서(신주인수권부사채권발행결정)</td>\n",
       "      <td>2010.02.24</td>\n",
       "      <td>2010</td>\n",
       "      <td>02</td>\n",
       "      <td>0</td>\n",
       "    </tr>\n",
       "  </tbody>\n",
       "</table>\n",
       "</div>"
      ],
      "text/plain": [
       "    corp_name               report_nm    rcept_dt  year month  pos\n",
       "353     CMG제약               소송등의판결ㆍ결정  2010.01.18  2010    01    0\n",
       "346     CMG제약  주요사항보고서(신주인수권부사채권발행결정)  2010.02.24  2010    02    0"
      ]
     },
     "execution_count": 41,
     "metadata": {},
     "output_type": "execute_result"
    }
   ],
   "source": [
    "df_2010[:2]"
   ]
  },
  {
   "cell_type": "code",
   "execution_count": 42,
   "id": "03b285d6-e494-470e-b56e-57d5bc30c38b",
   "metadata": {},
   "outputs": [],
   "source": [
    "for j,note in enumerate(df_2010['report_nm']):\n",
    "    if (\"기업설명회\" in note) or (\"신규시설투자\" in note) or(\"취득\" in note) or(\"취득결정\" in note) or \\\n",
    "    (\"유상증자\" in note) or (\"무상증자\" in note) or (\"단기차입금감소결정\" in note) or(\"권리락\" in note) \\\n",
    "    or(\"발행조건확정\" in note) or (\"증권발행결과\" in note) or (\"배당결정\" in note) or(\"특허권\" in note) \\\n",
    "    or(\"실적\" in note) or(\"승인\" in note) or (\"주식분할\" in note) or(\"정지해제\" in note) or \\\n",
    "    (\"대표이사변경\" in note):\n",
    "        # print(1)\n",
    "        df.loc[j,'positive']  = 1"
   ]
  },
  {
   "cell_type": "code",
   "execution_count": 45,
   "id": "5eb00439-029c-4468-a2b0-cb1175931b5d",
   "metadata": {
    "tags": []
   },
   "outputs": [
    {
     "data": {
      "text/html": [
       "<div>\n",
       "<style scoped>\n",
       "    .dataframe tbody tr th:only-of-type {\n",
       "        vertical-align: middle;\n",
       "    }\n",
       "\n",
       "    .dataframe tbody tr th {\n",
       "        vertical-align: top;\n",
       "    }\n",
       "\n",
       "    .dataframe thead th {\n",
       "        text-align: right;\n",
       "    }\n",
       "</style>\n",
       "<table border=\"1\" class=\"dataframe\">\n",
       "  <thead>\n",
       "    <tr style=\"text-align: right;\">\n",
       "      <th></th>\n",
       "      <th>corp_name</th>\n",
       "      <th>report_nm</th>\n",
       "      <th>rcept_dt</th>\n",
       "      <th>year</th>\n",
       "      <th>month</th>\n",
       "      <th>pos</th>\n",
       "    </tr>\n",
       "  </thead>\n",
       "  <tbody>\n",
       "  </tbody>\n",
       "</table>\n",
       "</div>"
      ],
      "text/plain": [
       "Empty DataFrame\n",
       "Columns: [corp_name, report_nm, rcept_dt, year, month, pos]\n",
       "Index: []"
      ]
     },
     "execution_count": 45,
     "metadata": {},
     "output_type": "execute_result"
    }
   ],
   "source": [
    "df_2010[df_2010['pos']==1]"
   ]
  }
 ],
 "metadata": {
  "kernelspec": {
   "display_name": "Python 3 (ipykernel)",
   "language": "python",
   "name": "python3"
  },
  "language_info": {
   "codemirror_mode": {
    "name": "ipython",
    "version": 3
   },
   "file_extension": ".py",
   "mimetype": "text/x-python",
   "name": "python",
   "nbconvert_exporter": "python",
   "pygments_lexer": "ipython3",
   "version": "3.8.8"
  }
 },
 "nbformat": 4,
 "nbformat_minor": 5
}
