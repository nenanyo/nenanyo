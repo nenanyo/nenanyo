{
 "cells": [
  {
   "cell_type": "code",
   "execution_count": 1,
   "id": "e11b09c5-1561-4606-93d2-f88685986ba6",
   "metadata": {
    "scrolled": true
   },
   "outputs": [
    {
     "name": "stdout",
     "output_type": "stream",
     "text": [
      "Collecting opendartreader\n",
      "  Downloading OpenDartReader-0.2.3-py3-none-any.whl (27 kB)\n",
      "Requirement already satisfied: requests-file in c:\\ai\\pythonproject\\venv\\lib\\site-packages (from opendartreader) (1.5.1)\n",
      "Requirement already satisfied: lxml in c:\\ai\\pythonproject\\venv\\lib\\site-packages (from opendartreader) (4.9.2)\n",
      "Requirement already satisfied: beautifulsoup4 in c:\\ai\\pythonproject\\venv\\lib\\site-packages (from opendartreader) (4.12.2)\n",
      "Requirement already satisfied: pandas>=0.19.2 in c:\\ai\\pythonproject\\venv\\lib\\site-packages (from opendartreader) (1.5.3)\n",
      "Requirement already satisfied: requests>=2.3.0 in c:\\ai\\pythonproject\\venv\\lib\\site-packages (from opendartreader) (2.30.0)\n",
      "Requirement already satisfied: python-dateutil>=2.8.1 in c:\\ai\\pythonproject\\venv\\lib\\site-packages (from pandas>=0.19.2->opendartreader) (2.8.2)\n",
      "Requirement already satisfied: pytz>=2020.1 in c:\\ai\\pythonproject\\venv\\lib\\site-packages (from pandas>=0.19.2->opendartreader) (2023.3)\n",
      "Requirement already satisfied: numpy>=1.20.3 in c:\\ai\\pythonproject\\venv\\lib\\site-packages (from pandas>=0.19.2->opendartreader) (1.23.5)\n",
      "Requirement already satisfied: certifi>=2017.4.17 in c:\\ai\\pythonproject\\venv\\lib\\site-packages (from requests>=2.3.0->opendartreader) (2023.5.7)\n",
      "Requirement already satisfied: urllib3<3,>=1.21.1 in c:\\ai\\pythonproject\\venv\\lib\\site-packages (from requests>=2.3.0->opendartreader) (1.26.15)\n",
      "Requirement already satisfied: charset-normalizer<4,>=2 in c:\\ai\\pythonproject\\venv\\lib\\site-packages (from requests>=2.3.0->opendartreader) (3.1.0)\n",
      "Requirement already satisfied: idna<4,>=2.5 in c:\\ai\\pythonproject\\venv\\lib\\site-packages (from requests>=2.3.0->opendartreader) (3.4)\n",
      "Requirement already satisfied: soupsieve>1.2 in c:\\ai\\pythonproject\\venv\\lib\\site-packages (from beautifulsoup4->opendartreader) (2.4.1)\n",
      "Requirement already satisfied: six in c:\\ai\\pythonproject\\venv\\lib\\site-packages (from requests-file->opendartreader) (1.16.0)\n",
      "Installing collected packages: opendartreader\n",
      "Successfully installed opendartreader-0.2.3\n"
     ]
    },
    {
     "name": "stderr",
     "output_type": "stream",
     "text": [
      "\n",
      "[notice] A new release of pip available: 22.3.1 -> 23.1.2\n",
      "[notice] To update, run: python.exe -m pip install --upgrade pip\n"
     ]
    }
   ],
   "source": [
    "# ! pip install opendartreader"
   ]
  },
  {
   "cell_type": "code",
   "execution_count": 26,
   "id": "a6d7164e-0997-48e3-95fa-ae4f48d29ee7",
   "metadata": {
    "tags": []
   },
   "outputs": [],
   "source": [
    "import pandas as pd\n",
    "import numpy as np\n",
    "import matplotlib.pyplot as plt\n",
    "import warnings\n",
    "warnings.filterwarnings(action='ignore')"
   ]
  },
  {
   "cell_type": "markdown",
   "id": "0cc060a6-a760-4f6b-a941-a70ed56d25e2",
   "metadata": {},
   "source": [
    "#  Dart Api"
   ]
  },
  {
   "cell_type": "code",
   "execution_count": 5,
   "id": "0bf3a496-87f1-403f-9452-16076b3d31bd",
   "metadata": {},
   "outputs": [],
   "source": [
    "import OpenDartReader\n",
    "api_key = 'dd5f7922d39764695d219c0790068c3ebe2bb41e'\n",
    "dart = OpenDartReader(api_key) "
   ]
  },
  {
   "cell_type": "markdown",
   "id": "6519ecd4-65f5-4003-ab44-3f52120912c3",
   "metadata": {},
   "source": [
    "<pre>\n",
    "응답키\t명칭\t출력설명\r\n",
    "result\t응답인자\t응답인자\r\n",
    "status\t에러 및 정보 코드\t(※메시지 설명 참조)\r\n",
    "message\t에러 및 정보 메시지\t(※메시지 설명 참조)\r\n",
    "corp_name\t정식명칭\t정식회사명칭\r\n",
    "corp_name_eng\t영문명칭\t영문정식회사명칭\r\n",
    "stock_name\t종목명(상장사) 또는 약식명칭(기타법인)\t종목명(상장사) 또는 약식명칭(기타법인)\r\n",
    "stock_code\t상장회사인 경우 주식의 종목코드\t상장회사의 종목코드(6자리)\r\n",
    "ceo_nm\t대표자명\t대표자명\r\n",
    "corp_cls\t법인구분\t법인구분 : Y(유가), K(코스닥), N(코넥스), E(기타)\r\n",
    "jurir_no\t법인등록번호\t법인등록번호\r\n",
    "bizr_no\t사업자등록번호\t사업자등록번호\r\n",
    "adres\t주소\t주소\r\n",
    "hm_url\t홈페이지\t홈페이지\r\n",
    "ir_url\tIR홈페이지\tIR홈페이지\r\n",
    "phn_no\t전화번호\t전화번호\r\n",
    "fax_no\t팩스번호\t팩스번호\r\n",
    "induty_code\t업종코드\t업종코드\r\n",
    "est_dt\t설립일(YYYYMMDD)\t설립일(YYYYMMDD)\r\n",
    "acc_mt\t결산월(MM)\t결산월(MM)"
   ]
  },
  {
   "cell_type": "code",
   "execution_count": 40,
   "id": "2d55bcac-62ef-455e-a0df-3b9babca222e",
   "metadata": {},
   "outputs": [],
   "source": [
    "ticker_df = pd.read_csv('../../기업ticker.csv', names = ['names','ticker'])\n",
    "ticker_df = ticker_df.dropna()"
   ]
  },
  {
   "cell_type": "code",
   "execution_count": 100,
   "id": "8a13a3db-b7dc-49e1-b84f-7ba034689ef2",
   "metadata": {},
   "outputs": [
    {
     "data": {
      "text/html": [
       "<div>\n",
       "<style scoped>\n",
       "    .dataframe tbody tr th:only-of-type {\n",
       "        vertical-align: middle;\n",
       "    }\n",
       "\n",
       "    .dataframe tbody tr th {\n",
       "        vertical-align: top;\n",
       "    }\n",
       "\n",
       "    .dataframe thead th {\n",
       "        text-align: right;\n",
       "    }\n",
       "</style>\n",
       "<table border=\"1\" class=\"dataframe\">\n",
       "  <thead>\n",
       "    <tr style=\"text-align: right;\">\n",
       "      <th></th>\n",
       "      <th>names</th>\n",
       "      <th>ticker</th>\n",
       "    </tr>\n",
       "  </thead>\n",
       "  <tbody>\n",
       "    <tr>\n",
       "      <th>1</th>\n",
       "      <td>CMG제약</td>\n",
       "      <td>058820</td>\n",
       "    </tr>\n",
       "    <tr>\n",
       "      <th>2</th>\n",
       "      <td>HLB</td>\n",
       "      <td>028300</td>\n",
       "    </tr>\n",
       "  </tbody>\n",
       "</table>\n",
       "</div>"
      ],
      "text/plain": [
       "   names  ticker\n",
       "1  CMG제약  058820\n",
       "2    HLB  028300"
      ]
     },
     "execution_count": 100,
     "metadata": {},
     "output_type": "execute_result"
    }
   ],
   "source": [
    "ticker_df.head(2)"
   ]
  },
  {
   "cell_type": "code",
   "execution_count": 50,
   "id": "57f7923d-110d-4383-bb49-3925385ad773",
   "metadata": {},
   "outputs": [
    {
     "data": {
      "text/plain": [
       "126"
      ]
     },
     "execution_count": 50,
     "metadata": {},
     "output_type": "execute_result"
    }
   ],
   "source": [
    "len(ticker_df)"
   ]
  },
  {
   "cell_type": "code",
   "execution_count": 34,
   "id": "e629d806-e00b-4f18-9024-afa9b2f283c3",
   "metadata": {},
   "outputs": [],
   "source": [
    "date_df =[\n",
    "    ['2018-01-01','2018-12-31']\n",
    "    ,['2019-01-01','2019-12-31']\n",
    "    ,['2020-01-01','2020-12-31']\n",
    "    ,['2021-01-01','2021-12-31']\n",
    "    ,['2022-01-01','2022-12-31']\n",
    "]"
   ]
  },
  {
   "cell_type": "code",
   "execution_count": 39,
   "id": "9d08f1ed-4d58-4ef5-9fa9-a2c950e3f1ac",
   "metadata": {},
   "outputs": [
    {
     "data": {
      "text/html": [
       "<div>\n",
       "<style scoped>\n",
       "    .dataframe tbody tr th:only-of-type {\n",
       "        vertical-align: middle;\n",
       "    }\n",
       "\n",
       "    .dataframe tbody tr th {\n",
       "        vertical-align: top;\n",
       "    }\n",
       "\n",
       "    .dataframe thead th {\n",
       "        text-align: right;\n",
       "    }\n",
       "</style>\n",
       "<table border=\"1\" class=\"dataframe\">\n",
       "  <thead>\n",
       "    <tr style=\"text-align: right;\">\n",
       "      <th></th>\n",
       "      <th>0</th>\n",
       "      <th>1</th>\n",
       "    </tr>\n",
       "  </thead>\n",
       "  <tbody>\n",
       "    <tr>\n",
       "      <th>0</th>\n",
       "      <td>2018-01-01</td>\n",
       "      <td>2018-12-31</td>\n",
       "    </tr>\n",
       "    <tr>\n",
       "      <th>1</th>\n",
       "      <td>2019-01-01</td>\n",
       "      <td>2019-12-31</td>\n",
       "    </tr>\n",
       "    <tr>\n",
       "      <th>2</th>\n",
       "      <td>2020-01-01</td>\n",
       "      <td>2020-12-31</td>\n",
       "    </tr>\n",
       "    <tr>\n",
       "      <th>3</th>\n",
       "      <td>2021-01-01</td>\n",
       "      <td>2021-12-31</td>\n",
       "    </tr>\n",
       "    <tr>\n",
       "      <th>4</th>\n",
       "      <td>2022-01-01</td>\n",
       "      <td>2022-12-31</td>\n",
       "    </tr>\n",
       "  </tbody>\n",
       "</table>\n",
       "</div>"
      ],
      "text/plain": [
       "            0           1\n",
       "0  2018-01-01  2018-12-31\n",
       "1  2019-01-01  2019-12-31\n",
       "2  2020-01-01  2020-12-31\n",
       "3  2021-01-01  2021-12-31\n",
       "4  2022-01-01  2022-12-31"
      ]
     },
     "execution_count": 39,
     "metadata": {},
     "output_type": "execute_result"
    }
   ],
   "source": [
    "date_df = pd.DataFrame(date_df)\n",
    "date_df"
   ]
  },
  {
   "cell_type": "code",
   "execution_count": 38,
   "id": "60414880-499a-4250-ad03-1f26e1b3fc17",
   "metadata": {},
   "outputs": [
    {
     "data": {
      "text/plain": [
       "str"
      ]
     },
     "execution_count": 38,
     "metadata": {},
     "output_type": "execute_result"
    }
   ],
   "source": [
    "type(date_df.loc[1,1])"
   ]
  },
  {
   "cell_type": "code",
   "execution_count": 51,
   "id": "34ca48e9-3d67-43b0-9948-25d737732856",
   "metadata": {},
   "outputs": [],
   "source": [
    "df1 = []"
   ]
  },
  {
   "cell_type": "code",
   "execution_count": 52,
   "id": "763a68eb-7b66-4423-94dc-c5e1cb5225d5",
   "metadata": {},
   "outputs": [],
   "source": [
    "def gongsi(ticker, start, end):\n",
    "    tmp = dart.list(ticker, start,end )\n",
    "    df1.append(tmp)"
   ]
  },
  {
   "cell_type": "code",
   "execution_count": 53,
   "id": "628d833f-8b7b-4f0c-875d-e08a9230cf3c",
   "metadata": {},
   "outputs": [],
   "source": [
    "for ticker in ticker_df['ticker']:\n",
    "    for i  in range(len(date_df)):\n",
    "        gongsi(ticker,date_df.loc[i,0],date_df.loc[i,1])"
   ]
  },
  {
   "cell_type": "code",
   "execution_count": 19,
   "id": "a6030236-1874-44a6-9ee4-7530a6b031c3",
   "metadata": {},
   "outputs": [
    {
     "data": {
      "text/plain": [
       "pandas.core.frame.DataFrame"
      ]
     },
     "execution_count": 19,
     "metadata": {},
     "output_type": "execute_result"
    }
   ],
   "source": [
    "a = dart.list('005930','2022-04-28','2022-04-28')\n",
    "type(a)"
   ]
  },
  {
   "cell_type": "code",
   "execution_count": 32,
   "id": "265d58d4-8f14-4a32-88dc-0270774323fc",
   "metadata": {},
   "outputs": [],
   "source": [
    "# df1[0]"
   ]
  },
  {
   "cell_type": "code",
   "execution_count": 45,
   "id": "1271dda1-3018-4f56-b366-f9c2c324c26e",
   "metadata": {},
   "outputs": [],
   "source": [
    "# for df in df1:\n",
    "#     print(df)"
   ]
  },
  {
   "cell_type": "code",
   "execution_count": 49,
   "id": "34fa5483-7ff9-4151-abd7-aa43d9e3f1a7",
   "metadata": {},
   "outputs": [
    {
     "data": {
      "text/plain": [
       "630"
      ]
     },
     "execution_count": 49,
     "metadata": {},
     "output_type": "execute_result"
    }
   ],
   "source": [
    "126*5\n"
   ]
  },
  {
   "cell_type": "code",
   "execution_count": 54,
   "id": "30811545-7369-44ad-ba47-f1052eb6e1db",
   "metadata": {},
   "outputs": [
    {
     "data": {
      "text/plain": [
       "630"
      ]
     },
     "execution_count": 54,
     "metadata": {},
     "output_type": "execute_result"
    }
   ],
   "source": [
    "len(df1)"
   ]
  },
  {
   "cell_type": "markdown",
   "id": "23b26fd0-99c3-4ea8-b563-630b7aacd65a",
   "metadata": {},
   "source": [
    "# 데이터 예쁘게"
   ]
  },
  {
   "cell_type": "code",
   "execution_count": 56,
   "id": "b0aa2a99-a76e-4176-bbcf-4785160af78c",
   "metadata": {},
   "outputs": [
    {
     "data": {
      "text/html": [
       "<div>\n",
       "<style scoped>\n",
       "    .dataframe tbody tr th:only-of-type {\n",
       "        vertical-align: middle;\n",
       "    }\n",
       "\n",
       "    .dataframe tbody tr th {\n",
       "        vertical-align: top;\n",
       "    }\n",
       "\n",
       "    .dataframe thead th {\n",
       "        text-align: right;\n",
       "    }\n",
       "</style>\n",
       "<table border=\"1\" class=\"dataframe\">\n",
       "  <thead>\n",
       "    <tr style=\"text-align: right;\">\n",
       "      <th></th>\n",
       "      <th>corp_code</th>\n",
       "      <th>corp_name</th>\n",
       "      <th>stock_code</th>\n",
       "      <th>corp_cls</th>\n",
       "      <th>report_nm</th>\n",
       "      <th>rcept_no</th>\n",
       "      <th>flr_nm</th>\n",
       "      <th>rcept_dt</th>\n",
       "      <th>rm</th>\n",
       "    </tr>\n",
       "  </thead>\n",
       "  <tbody>\n",
       "    <tr>\n",
       "      <th>0</th>\n",
       "      <td>00380429</td>\n",
       "      <td>CMG제약</td>\n",
       "      <td>058820</td>\n",
       "      <td>K</td>\n",
       "      <td>주주명부폐쇄기간또는기준일설정</td>\n",
       "      <td>20181213900502</td>\n",
       "      <td>CMG제약</td>\n",
       "      <td>20181213</td>\n",
       "      <td>코</td>\n",
       "    </tr>\n",
       "    <tr>\n",
       "      <th>1</th>\n",
       "      <td>00380429</td>\n",
       "      <td>CMG제약</td>\n",
       "      <td>058820</td>\n",
       "      <td>K</td>\n",
       "      <td>단일판매ㆍ공급계약체결</td>\n",
       "      <td>20181127900222</td>\n",
       "      <td>CMG제약</td>\n",
       "      <td>20181127</td>\n",
       "      <td>코</td>\n",
       "    </tr>\n",
       "    <tr>\n",
       "      <th>2</th>\n",
       "      <td>00380429</td>\n",
       "      <td>CMG제약</td>\n",
       "      <td>058820</td>\n",
       "      <td>K</td>\n",
       "      <td>분기보고서 (2018.09)</td>\n",
       "      <td>20181114000445</td>\n",
       "      <td>CMG제약</td>\n",
       "      <td>20181114</td>\n",
       "      <td></td>\n",
       "    </tr>\n",
       "    <tr>\n",
       "      <th>3</th>\n",
       "      <td>00380429</td>\n",
       "      <td>CMG제약</td>\n",
       "      <td>058820</td>\n",
       "      <td>K</td>\n",
       "      <td>임원ㆍ주요주주특정증권등소유상황보고서</td>\n",
       "      <td>20181010000452</td>\n",
       "      <td>김형남</td>\n",
       "      <td>20181010</td>\n",
       "      <td></td>\n",
       "    </tr>\n",
       "    <tr>\n",
       "      <th>4</th>\n",
       "      <td>00380429</td>\n",
       "      <td>CMG제약</td>\n",
       "      <td>058820</td>\n",
       "      <td>K</td>\n",
       "      <td>주요사항보고서(유형자산양수결정)</td>\n",
       "      <td>20180904000241</td>\n",
       "      <td>CMG제약</td>\n",
       "      <td>20180904</td>\n",
       "      <td></td>\n",
       "    </tr>\n",
       "    <tr>\n",
       "      <th>5</th>\n",
       "      <td>00380429</td>\n",
       "      <td>CMG제약</td>\n",
       "      <td>058820</td>\n",
       "      <td>K</td>\n",
       "      <td>[기재정정]분기보고서 (2018.03)</td>\n",
       "      <td>20180830000453</td>\n",
       "      <td>CMG제약</td>\n",
       "      <td>20180830</td>\n",
       "      <td></td>\n",
       "    </tr>\n",
       "    <tr>\n",
       "      <th>6</th>\n",
       "      <td>00380429</td>\n",
       "      <td>CMG제약</td>\n",
       "      <td>058820</td>\n",
       "      <td>K</td>\n",
       "      <td>[기재정정]감사보고서제출</td>\n",
       "      <td>20180814902412</td>\n",
       "      <td>CMG제약</td>\n",
       "      <td>20180814</td>\n",
       "      <td>코</td>\n",
       "    </tr>\n",
       "    <tr>\n",
       "      <th>7</th>\n",
       "      <td>00380429</td>\n",
       "      <td>CMG제약</td>\n",
       "      <td>058820</td>\n",
       "      <td>K</td>\n",
       "      <td>반기보고서 (2018.06)</td>\n",
       "      <td>20180814002918</td>\n",
       "      <td>CMG제약</td>\n",
       "      <td>20180814</td>\n",
       "      <td></td>\n",
       "    </tr>\n",
       "    <tr>\n",
       "      <th>8</th>\n",
       "      <td>00380429</td>\n",
       "      <td>CMG제약</td>\n",
       "      <td>058820</td>\n",
       "      <td>K</td>\n",
       "      <td>[기재정정]사업보고서 (2017.12)</td>\n",
       "      <td>20180814002823</td>\n",
       "      <td>CMG제약</td>\n",
       "      <td>20180814</td>\n",
       "      <td>연</td>\n",
       "    </tr>\n",
       "    <tr>\n",
       "      <th>9</th>\n",
       "      <td>00380429</td>\n",
       "      <td>CMG제약</td>\n",
       "      <td>058820</td>\n",
       "      <td>K</td>\n",
       "      <td>소속부변경</td>\n",
       "      <td>20180430901086</td>\n",
       "      <td>코스닥시장본부</td>\n",
       "      <td>20180430</td>\n",
       "      <td>코</td>\n",
       "    </tr>\n",
       "    <tr>\n",
       "      <th>10</th>\n",
       "      <td>00380429</td>\n",
       "      <td>CMG제약</td>\n",
       "      <td>058820</td>\n",
       "      <td>K</td>\n",
       "      <td>사외이사의선임ㆍ해임또는중도퇴임에관한신고</td>\n",
       "      <td>20180323000558</td>\n",
       "      <td>CMG제약</td>\n",
       "      <td>20180323</td>\n",
       "      <td></td>\n",
       "    </tr>\n",
       "    <tr>\n",
       "      <th>11</th>\n",
       "      <td>00380429</td>\n",
       "      <td>CMG제약</td>\n",
       "      <td>058820</td>\n",
       "      <td>K</td>\n",
       "      <td>주식매수선택권부여에관한신고</td>\n",
       "      <td>20180323000414</td>\n",
       "      <td>CMG제약</td>\n",
       "      <td>20180323</td>\n",
       "      <td></td>\n",
       "    </tr>\n",
       "    <tr>\n",
       "      <th>12</th>\n",
       "      <td>00380429</td>\n",
       "      <td>CMG제약</td>\n",
       "      <td>058820</td>\n",
       "      <td>K</td>\n",
       "      <td>정기주주총회결과</td>\n",
       "      <td>20180323900753</td>\n",
       "      <td>CMG제약</td>\n",
       "      <td>20180323</td>\n",
       "      <td>코</td>\n",
       "    </tr>\n",
       "    <tr>\n",
       "      <th>13</th>\n",
       "      <td>00380429</td>\n",
       "      <td>CMG제약</td>\n",
       "      <td>058820</td>\n",
       "      <td>K</td>\n",
       "      <td>[기재정정]의결권대리행사권유참고서류</td>\n",
       "      <td>20180315000857</td>\n",
       "      <td>CMG제약</td>\n",
       "      <td>20180315</td>\n",
       "      <td></td>\n",
       "    </tr>\n",
       "    <tr>\n",
       "      <th>14</th>\n",
       "      <td>00380429</td>\n",
       "      <td>CMG제약</td>\n",
       "      <td>058820</td>\n",
       "      <td>K</td>\n",
       "      <td>[기재정정]주주총회소집공고</td>\n",
       "      <td>20180315000853</td>\n",
       "      <td>CMG제약</td>\n",
       "      <td>20180315</td>\n",
       "      <td></td>\n",
       "    </tr>\n",
       "    <tr>\n",
       "      <th>15</th>\n",
       "      <td>00380429</td>\n",
       "      <td>CMG제약</td>\n",
       "      <td>058820</td>\n",
       "      <td>K</td>\n",
       "      <td>주식매수선택권부여에관한신고</td>\n",
       "      <td>20180308000637</td>\n",
       "      <td>CMG제약</td>\n",
       "      <td>20180308</td>\n",
       "      <td></td>\n",
       "    </tr>\n",
       "    <tr>\n",
       "      <th>16</th>\n",
       "      <td>00380429</td>\n",
       "      <td>CMG제약</td>\n",
       "      <td>058820</td>\n",
       "      <td>K</td>\n",
       "      <td>주주총회집중일개최사유신고</td>\n",
       "      <td>20180308900915</td>\n",
       "      <td>CMG제약</td>\n",
       "      <td>20180308</td>\n",
       "      <td>코</td>\n",
       "    </tr>\n",
       "    <tr>\n",
       "      <th>17</th>\n",
       "      <td>00380429</td>\n",
       "      <td>CMG제약</td>\n",
       "      <td>058820</td>\n",
       "      <td>K</td>\n",
       "      <td>주주총회소집결의</td>\n",
       "      <td>20180308900897</td>\n",
       "      <td>CMG제약</td>\n",
       "      <td>20180308</td>\n",
       "      <td>코</td>\n",
       "    </tr>\n",
       "    <tr>\n",
       "      <th>18</th>\n",
       "      <td>00380429</td>\n",
       "      <td>CMG제약</td>\n",
       "      <td>058820</td>\n",
       "      <td>K</td>\n",
       "      <td>매출액또는손익구조30%(대규모법인은15%)이상변동</td>\n",
       "      <td>20180308900885</td>\n",
       "      <td>CMG제약</td>\n",
       "      <td>20180308</td>\n",
       "      <td>코</td>\n",
       "    </tr>\n",
       "  </tbody>\n",
       "</table>\n",
       "</div>"
      ],
      "text/plain": [
       "   corp_code corp_name stock_code corp_cls                    report_nm  \\\n",
       "0   00380429     CMG제약     058820        K              주주명부폐쇄기간또는기준일설정   \n",
       "1   00380429     CMG제약     058820        K                  단일판매ㆍ공급계약체결   \n",
       "2   00380429     CMG제약     058820        K              분기보고서 (2018.09)   \n",
       "3   00380429     CMG제약     058820        K          임원ㆍ주요주주특정증권등소유상황보고서   \n",
       "4   00380429     CMG제약     058820        K            주요사항보고서(유형자산양수결정)   \n",
       "5   00380429     CMG제약     058820        K        [기재정정]분기보고서 (2018.03)   \n",
       "6   00380429     CMG제약     058820        K                [기재정정]감사보고서제출   \n",
       "7   00380429     CMG제약     058820        K              반기보고서 (2018.06)   \n",
       "8   00380429     CMG제약     058820        K        [기재정정]사업보고서 (2017.12)   \n",
       "9   00380429     CMG제약     058820        K                        소속부변경   \n",
       "10  00380429     CMG제약     058820        K        사외이사의선임ㆍ해임또는중도퇴임에관한신고   \n",
       "11  00380429     CMG제약     058820        K               주식매수선택권부여에관한신고   \n",
       "12  00380429     CMG제약     058820        K                     정기주주총회결과   \n",
       "13  00380429     CMG제약     058820        K          [기재정정]의결권대리행사권유참고서류   \n",
       "14  00380429     CMG제약     058820        K               [기재정정]주주총회소집공고   \n",
       "15  00380429     CMG제약     058820        K               주식매수선택권부여에관한신고   \n",
       "16  00380429     CMG제약     058820        K                주주총회집중일개최사유신고   \n",
       "17  00380429     CMG제약     058820        K                     주주총회소집결의   \n",
       "18  00380429     CMG제약     058820        K  매출액또는손익구조30%(대규모법인은15%)이상변동   \n",
       "\n",
       "          rcept_no   flr_nm  rcept_dt rm  \n",
       "0   20181213900502    CMG제약  20181213  코  \n",
       "1   20181127900222    CMG제약  20181127  코  \n",
       "2   20181114000445    CMG제약  20181114     \n",
       "3   20181010000452      김형남  20181010     \n",
       "4   20180904000241    CMG제약  20180904     \n",
       "5   20180830000453    CMG제약  20180830     \n",
       "6   20180814902412    CMG제약  20180814  코  \n",
       "7   20180814002918    CMG제약  20180814     \n",
       "8   20180814002823    CMG제약  20180814  연  \n",
       "9   20180430901086  코스닥시장본부  20180430  코  \n",
       "10  20180323000558    CMG제약  20180323     \n",
       "11  20180323000414    CMG제약  20180323     \n",
       "12  20180323900753    CMG제약  20180323  코  \n",
       "13  20180315000857    CMG제약  20180315     \n",
       "14  20180315000853    CMG제약  20180315     \n",
       "15  20180308000637    CMG제약  20180308     \n",
       "16  20180308900915    CMG제약  20180308  코  \n",
       "17  20180308900897    CMG제약  20180308  코  \n",
       "18  20180308900885    CMG제약  20180308  코  "
      ]
     },
     "execution_count": 56,
     "metadata": {},
     "output_type": "execute_result"
    }
   ],
   "source": [
    "df1[0]"
   ]
  },
  {
   "cell_type": "code",
   "execution_count": 87,
   "id": "95114ff3-a61b-4604-b61e-86be8d0e8045",
   "metadata": {},
   "outputs": [],
   "source": [
    "corp=[]\n",
    "for i in range(126):\n",
    "    i = i*5\n",
    "    # print('='*20)\n",
    "    corp.append(tmp)\n",
    "    tmp = []\n",
    "    for j in range(5):\n",
    "        k = i+j\n",
    "        # print(k)\n",
    "        tmp.append(df1[k])\n"
   ]
  },
  {
   "cell_type": "code",
   "execution_count": 111,
   "id": "036cac8f-c090-45d8-9d14-8bd52f798718",
   "metadata": {},
   "outputs": [
    {
     "data": {
      "text/plain": [
       "126"
      ]
     },
     "execution_count": 111,
     "metadata": {},
     "output_type": "execute_result"
    }
   ],
   "source": [
    "len(corp)"
   ]
  },
  {
   "cell_type": "code",
   "execution_count": null,
   "id": "7255c13a-0956-43aa-81d5-0eec87b15b01",
   "metadata": {},
   "outputs": [],
   "source": []
  },
  {
   "cell_type": "code",
   "execution_count": 92,
   "id": "197feade-067f-4e6a-ba65-aa4263f81d3c",
   "metadata": {},
   "outputs": [
    {
     "data": {
      "text/html": [
       "<div>\n",
       "<style scoped>\n",
       "    .dataframe tbody tr th:only-of-type {\n",
       "        vertical-align: middle;\n",
       "    }\n",
       "\n",
       "    .dataframe tbody tr th {\n",
       "        vertical-align: top;\n",
       "    }\n",
       "\n",
       "    .dataframe thead th {\n",
       "        text-align: right;\n",
       "    }\n",
       "</style>\n",
       "<table border=\"1\" class=\"dataframe\">\n",
       "  <thead>\n",
       "    <tr style=\"text-align: right;\">\n",
       "      <th></th>\n",
       "      <th>corp_code</th>\n",
       "      <th>corp_name</th>\n",
       "      <th>stock_code</th>\n",
       "      <th>corp_cls</th>\n",
       "      <th>report_nm</th>\n",
       "      <th>rcept_no</th>\n",
       "      <th>flr_nm</th>\n",
       "      <th>rcept_dt</th>\n",
       "      <th>rm</th>\n",
       "    </tr>\n",
       "  </thead>\n",
       "  <tbody>\n",
       "    <tr>\n",
       "      <th>0</th>\n",
       "      <td>00228059</td>\n",
       "      <td>휴온스글로벌</td>\n",
       "      <td>084110</td>\n",
       "      <td>K</td>\n",
       "      <td>배당락(주식배당)</td>\n",
       "      <td>20181226900662</td>\n",
       "      <td>코스닥시장본부</td>\n",
       "      <td>20181226</td>\n",
       "      <td>코</td>\n",
       "    </tr>\n",
       "    <tr>\n",
       "      <th>1</th>\n",
       "      <td>00228059</td>\n",
       "      <td>휴온스글로벌</td>\n",
       "      <td>084110</td>\n",
       "      <td>K</td>\n",
       "      <td>주주명부폐쇄기간또는기준일설정</td>\n",
       "      <td>20181213900109</td>\n",
       "      <td>휴온스글로벌</td>\n",
       "      <td>20181213</td>\n",
       "      <td>코</td>\n",
       "    </tr>\n",
       "    <tr>\n",
       "      <th>2</th>\n",
       "      <td>00228059</td>\n",
       "      <td>휴온스글로벌</td>\n",
       "      <td>084110</td>\n",
       "      <td>K</td>\n",
       "      <td>주식배당결정(자회사의 주요경영사항)</td>\n",
       "      <td>20181207900382</td>\n",
       "      <td>휴온스글로벌</td>\n",
       "      <td>20181207</td>\n",
       "      <td>코</td>\n",
       "    </tr>\n",
       "    <tr>\n",
       "      <th>3</th>\n",
       "      <td>00228059</td>\n",
       "      <td>휴온스글로벌</td>\n",
       "      <td>084110</td>\n",
       "      <td>K</td>\n",
       "      <td>주식배당결정</td>\n",
       "      <td>20181207900355</td>\n",
       "      <td>휴온스글로벌</td>\n",
       "      <td>20181207</td>\n",
       "      <td>코</td>\n",
       "    </tr>\n",
       "    <tr>\n",
       "      <th>4</th>\n",
       "      <td>00228059</td>\n",
       "      <td>휴온스글로벌</td>\n",
       "      <td>084110</td>\n",
       "      <td>K</td>\n",
       "      <td>분기보고서 (2018.09)</td>\n",
       "      <td>20181112000067</td>\n",
       "      <td>휴온스글로벌</td>\n",
       "      <td>20181112</td>\n",
       "      <td></td>\n",
       "    </tr>\n",
       "    <tr>\n",
       "      <th>5</th>\n",
       "      <td>00228059</td>\n",
       "      <td>휴온스글로벌</td>\n",
       "      <td>084110</td>\n",
       "      <td>K</td>\n",
       "      <td>투자판단관련주요경영사항(\"휴톡스(HU-014주) 100단위\"의 임상시험 3상 종료)</td>\n",
       "      <td>20181106900153</td>\n",
       "      <td>휴온스글로벌</td>\n",
       "      <td>20181106</td>\n",
       "      <td>코</td>\n",
       "    </tr>\n",
       "    <tr>\n",
       "      <th>6</th>\n",
       "      <td>00228059</td>\n",
       "      <td>휴온스글로벌</td>\n",
       "      <td>084110</td>\n",
       "      <td>K</td>\n",
       "      <td>주식등의대량보유상황보고서(일반)</td>\n",
       "      <td>20181029000100</td>\n",
       "      <td>윤성태</td>\n",
       "      <td>20181029</td>\n",
       "      <td></td>\n",
       "    </tr>\n",
       "    <tr>\n",
       "      <th>7</th>\n",
       "      <td>00228059</td>\n",
       "      <td>휴온스글로벌</td>\n",
       "      <td>084110</td>\n",
       "      <td>K</td>\n",
       "      <td>기업설명회(IR)개최</td>\n",
       "      <td>20180831900099</td>\n",
       "      <td>휴온스글로벌</td>\n",
       "      <td>20180831</td>\n",
       "      <td>코</td>\n",
       "    </tr>\n",
       "    <tr>\n",
       "      <th>8</th>\n",
       "      <td>00228059</td>\n",
       "      <td>휴온스글로벌</td>\n",
       "      <td>084110</td>\n",
       "      <td>K</td>\n",
       "      <td>반기보고서 (2018.06)</td>\n",
       "      <td>20180814000382</td>\n",
       "      <td>휴온스글로벌</td>\n",
       "      <td>20180814</td>\n",
       "      <td></td>\n",
       "    </tr>\n",
       "    <tr>\n",
       "      <th>9</th>\n",
       "      <td>00228059</td>\n",
       "      <td>휴온스글로벌</td>\n",
       "      <td>084110</td>\n",
       "      <td>K</td>\n",
       "      <td>투자판단관련주요경영사항('휴톡스주 100단위'의 외안각 주름 제1상 및 3상 임상시...</td>\n",
       "      <td>20180810900720</td>\n",
       "      <td>휴온스글로벌</td>\n",
       "      <td>20180810</td>\n",
       "      <td>코</td>\n",
       "    </tr>\n",
       "    <tr>\n",
       "      <th>10</th>\n",
       "      <td>00228059</td>\n",
       "      <td>휴온스글로벌</td>\n",
       "      <td>084110</td>\n",
       "      <td>K</td>\n",
       "      <td>주식등의대량보유상황보고서(일반)</td>\n",
       "      <td>20180810000553</td>\n",
       "      <td>윤성태</td>\n",
       "      <td>20180810</td>\n",
       "      <td></td>\n",
       "    </tr>\n",
       "    <tr>\n",
       "      <th>11</th>\n",
       "      <td>00228059</td>\n",
       "      <td>휴온스글로벌</td>\n",
       "      <td>084110</td>\n",
       "      <td>K</td>\n",
       "      <td>[기재정정]타법인주식및출자증권취득결정(자회사의 주요경영사항)</td>\n",
       "      <td>20180809900485</td>\n",
       "      <td>휴온스글로벌</td>\n",
       "      <td>20180809</td>\n",
       "      <td>코</td>\n",
       "    </tr>\n",
       "    <tr>\n",
       "      <th>12</th>\n",
       "      <td>00228059</td>\n",
       "      <td>휴온스글로벌</td>\n",
       "      <td>084110</td>\n",
       "      <td>K</td>\n",
       "      <td>주식등의대량보유상황보고서(일반)</td>\n",
       "      <td>20180710000543</td>\n",
       "      <td>윤성태</td>\n",
       "      <td>20180710</td>\n",
       "      <td></td>\n",
       "    </tr>\n",
       "    <tr>\n",
       "      <th>13</th>\n",
       "      <td>00228059</td>\n",
       "      <td>휴온스글로벌</td>\n",
       "      <td>084110</td>\n",
       "      <td>K</td>\n",
       "      <td>지주회사의자회사편입ㆍ탈퇴</td>\n",
       "      <td>20180629900178</td>\n",
       "      <td>휴온스글로벌</td>\n",
       "      <td>20180629</td>\n",
       "      <td>코</td>\n",
       "    </tr>\n",
       "    <tr>\n",
       "      <th>14</th>\n",
       "      <td>00228059</td>\n",
       "      <td>휴온스글로벌</td>\n",
       "      <td>084110</td>\n",
       "      <td>K</td>\n",
       "      <td>분기보고서 (2018.03)</td>\n",
       "      <td>20180515000041</td>\n",
       "      <td>휴온스글로벌</td>\n",
       "      <td>20180515</td>\n",
       "      <td></td>\n",
       "    </tr>\n",
       "    <tr>\n",
       "      <th>15</th>\n",
       "      <td>00228059</td>\n",
       "      <td>휴온스글로벌</td>\n",
       "      <td>084110</td>\n",
       "      <td>K</td>\n",
       "      <td>단일판매ㆍ공급계약체결(자회사의 주요경영사항)</td>\n",
       "      <td>20180508900010</td>\n",
       "      <td>휴온스글로벌</td>\n",
       "      <td>20180508</td>\n",
       "      <td>코</td>\n",
       "    </tr>\n",
       "    <tr>\n",
       "      <th>16</th>\n",
       "      <td>00228059</td>\n",
       "      <td>휴온스글로벌</td>\n",
       "      <td>084110</td>\n",
       "      <td>K</td>\n",
       "      <td>[기재정정]기타경영사항(자율공시)</td>\n",
       "      <td>20180508900006</td>\n",
       "      <td>휴온스글로벌</td>\n",
       "      <td>20180508</td>\n",
       "      <td>코</td>\n",
       "    </tr>\n",
       "    <tr>\n",
       "      <th>17</th>\n",
       "      <td>00228059</td>\n",
       "      <td>휴온스글로벌</td>\n",
       "      <td>084110</td>\n",
       "      <td>K</td>\n",
       "      <td>주요사항보고서(무상증자결정)(자회사의 주요경영사항)</td>\n",
       "      <td>20180426900303</td>\n",
       "      <td>휴온스글로벌</td>\n",
       "      <td>20180426</td>\n",
       "      <td>코</td>\n",
       "    </tr>\n",
       "    <tr>\n",
       "      <th>18</th>\n",
       "      <td>00228059</td>\n",
       "      <td>휴온스글로벌</td>\n",
       "      <td>084110</td>\n",
       "      <td>K</td>\n",
       "      <td>사업보고서 (2017.12)</td>\n",
       "      <td>20180330001855</td>\n",
       "      <td>휴온스글로벌</td>\n",
       "      <td>20180330</td>\n",
       "      <td>연</td>\n",
       "    </tr>\n",
       "    <tr>\n",
       "      <th>19</th>\n",
       "      <td>00228059</td>\n",
       "      <td>휴온스글로벌</td>\n",
       "      <td>084110</td>\n",
       "      <td>K</td>\n",
       "      <td>임원ㆍ주요주주특정증권등소유상황보고서</td>\n",
       "      <td>20180322000389</td>\n",
       "      <td>손동철</td>\n",
       "      <td>20180322</td>\n",
       "      <td></td>\n",
       "    </tr>\n",
       "    <tr>\n",
       "      <th>20</th>\n",
       "      <td>00228059</td>\n",
       "      <td>휴온스글로벌</td>\n",
       "      <td>084110</td>\n",
       "      <td>K</td>\n",
       "      <td>임원ㆍ주요주주특정증권등소유상황보고서</td>\n",
       "      <td>20180322000371</td>\n",
       "      <td>윤보영</td>\n",
       "      <td>20180322</td>\n",
       "      <td></td>\n",
       "    </tr>\n",
       "    <tr>\n",
       "      <th>21</th>\n",
       "      <td>00228059</td>\n",
       "      <td>휴온스글로벌</td>\n",
       "      <td>084110</td>\n",
       "      <td>K</td>\n",
       "      <td>임원ㆍ주요주주특정증권등소유상황보고서</td>\n",
       "      <td>20180322000362</td>\n",
       "      <td>윤성태</td>\n",
       "      <td>20180322</td>\n",
       "      <td></td>\n",
       "    </tr>\n",
       "    <tr>\n",
       "      <th>22</th>\n",
       "      <td>00228059</td>\n",
       "      <td>휴온스글로벌</td>\n",
       "      <td>084110</td>\n",
       "      <td>K</td>\n",
       "      <td>주식등의대량보유상황보고서(일반)</td>\n",
       "      <td>20180322000353</td>\n",
       "      <td>윤성태</td>\n",
       "      <td>20180322</td>\n",
       "      <td></td>\n",
       "    </tr>\n",
       "    <tr>\n",
       "      <th>23</th>\n",
       "      <td>00228059</td>\n",
       "      <td>휴온스글로벌</td>\n",
       "      <td>084110</td>\n",
       "      <td>K</td>\n",
       "      <td>정기주주총회결과</td>\n",
       "      <td>20180316900508</td>\n",
       "      <td>휴온스글로벌</td>\n",
       "      <td>20180316</td>\n",
       "      <td>코</td>\n",
       "    </tr>\n",
       "    <tr>\n",
       "      <th>24</th>\n",
       "      <td>00228059</td>\n",
       "      <td>휴온스글로벌</td>\n",
       "      <td>084110</td>\n",
       "      <td>K</td>\n",
       "      <td>감사보고서제출(자회사의 주요경영사항)</td>\n",
       "      <td>20180308901542</td>\n",
       "      <td>휴온스글로벌</td>\n",
       "      <td>20180308</td>\n",
       "      <td>코</td>\n",
       "    </tr>\n",
       "    <tr>\n",
       "      <th>25</th>\n",
       "      <td>00228059</td>\n",
       "      <td>휴온스글로벌</td>\n",
       "      <td>084110</td>\n",
       "      <td>K</td>\n",
       "      <td>감사보고서제출</td>\n",
       "      <td>20180308901517</td>\n",
       "      <td>휴온스글로벌</td>\n",
       "      <td>20180308</td>\n",
       "      <td>코</td>\n",
       "    </tr>\n",
       "    <tr>\n",
       "      <th>26</th>\n",
       "      <td>00228059</td>\n",
       "      <td>휴온스글로벌</td>\n",
       "      <td>084110</td>\n",
       "      <td>K</td>\n",
       "      <td>주주총회소집공고</td>\n",
       "      <td>20180228000272</td>\n",
       "      <td>휴온스글로벌</td>\n",
       "      <td>20180228</td>\n",
       "      <td></td>\n",
       "    </tr>\n",
       "    <tr>\n",
       "      <th>27</th>\n",
       "      <td>00228059</td>\n",
       "      <td>휴온스글로벌</td>\n",
       "      <td>084110</td>\n",
       "      <td>K</td>\n",
       "      <td>지주회사의자회사편입ㆍ탈퇴</td>\n",
       "      <td>20180227900164</td>\n",
       "      <td>휴온스글로벌</td>\n",
       "      <td>20180227</td>\n",
       "      <td>코</td>\n",
       "    </tr>\n",
       "    <tr>\n",
       "      <th>28</th>\n",
       "      <td>00228059</td>\n",
       "      <td>휴온스글로벌</td>\n",
       "      <td>084110</td>\n",
       "      <td>K</td>\n",
       "      <td>주주총회소집결의</td>\n",
       "      <td>20180221900573</td>\n",
       "      <td>휴온스글로벌</td>\n",
       "      <td>20180221</td>\n",
       "      <td>코</td>\n",
       "    </tr>\n",
       "    <tr>\n",
       "      <th>29</th>\n",
       "      <td>00228059</td>\n",
       "      <td>휴온스글로벌</td>\n",
       "      <td>084110</td>\n",
       "      <td>K</td>\n",
       "      <td>매출액또는손익구조30%(대규모법인은15%)이상변동(자회사의 주요경영사항)</td>\n",
       "      <td>20180212900301</td>\n",
       "      <td>휴온스글로벌</td>\n",
       "      <td>20180212</td>\n",
       "      <td>코</td>\n",
       "    </tr>\n",
       "    <tr>\n",
       "      <th>30</th>\n",
       "      <td>00228059</td>\n",
       "      <td>휴온스글로벌</td>\n",
       "      <td>084110</td>\n",
       "      <td>K</td>\n",
       "      <td>매출액또는손익구조30%(대규모법인은15%)이상변동</td>\n",
       "      <td>20180212900299</td>\n",
       "      <td>휴온스글로벌</td>\n",
       "      <td>20180212</td>\n",
       "      <td>코</td>\n",
       "    </tr>\n",
       "    <tr>\n",
       "      <th>31</th>\n",
       "      <td>00228059</td>\n",
       "      <td>휴온스글로벌</td>\n",
       "      <td>084110</td>\n",
       "      <td>K</td>\n",
       "      <td>기업설명회(IR)개최</td>\n",
       "      <td>20180118900105</td>\n",
       "      <td>휴온스글로벌</td>\n",
       "      <td>20180118</td>\n",
       "      <td>코</td>\n",
       "    </tr>\n",
       "    <tr>\n",
       "      <th>32</th>\n",
       "      <td>00228059</td>\n",
       "      <td>휴온스글로벌</td>\n",
       "      <td>084110</td>\n",
       "      <td>K</td>\n",
       "      <td>[기재정정]현금ㆍ현물배당결정(자회사의 주요경영사항)</td>\n",
       "      <td>20180102900543</td>\n",
       "      <td>휴온스글로벌</td>\n",
       "      <td>20180102</td>\n",
       "      <td>코</td>\n",
       "    </tr>\n",
       "    <tr>\n",
       "      <th>33</th>\n",
       "      <td>00228059</td>\n",
       "      <td>휴온스글로벌</td>\n",
       "      <td>084110</td>\n",
       "      <td>K</td>\n",
       "      <td>[기재정정]현금ㆍ현물배당결정</td>\n",
       "      <td>20180102900534</td>\n",
       "      <td>휴온스글로벌</td>\n",
       "      <td>20180102</td>\n",
       "      <td>코</td>\n",
       "    </tr>\n",
       "  </tbody>\n",
       "</table>\n",
       "</div>"
      ],
      "text/plain": [
       "   corp_code corp_name stock_code corp_cls  \\\n",
       "0   00228059    휴온스글로벌     084110        K   \n",
       "1   00228059    휴온스글로벌     084110        K   \n",
       "2   00228059    휴온스글로벌     084110        K   \n",
       "3   00228059    휴온스글로벌     084110        K   \n",
       "4   00228059    휴온스글로벌     084110        K   \n",
       "5   00228059    휴온스글로벌     084110        K   \n",
       "6   00228059    휴온스글로벌     084110        K   \n",
       "7   00228059    휴온스글로벌     084110        K   \n",
       "8   00228059    휴온스글로벌     084110        K   \n",
       "9   00228059    휴온스글로벌     084110        K   \n",
       "10  00228059    휴온스글로벌     084110        K   \n",
       "11  00228059    휴온스글로벌     084110        K   \n",
       "12  00228059    휴온스글로벌     084110        K   \n",
       "13  00228059    휴온스글로벌     084110        K   \n",
       "14  00228059    휴온스글로벌     084110        K   \n",
       "15  00228059    휴온스글로벌     084110        K   \n",
       "16  00228059    휴온스글로벌     084110        K   \n",
       "17  00228059    휴온스글로벌     084110        K   \n",
       "18  00228059    휴온스글로벌     084110        K   \n",
       "19  00228059    휴온스글로벌     084110        K   \n",
       "20  00228059    휴온스글로벌     084110        K   \n",
       "21  00228059    휴온스글로벌     084110        K   \n",
       "22  00228059    휴온스글로벌     084110        K   \n",
       "23  00228059    휴온스글로벌     084110        K   \n",
       "24  00228059    휴온스글로벌     084110        K   \n",
       "25  00228059    휴온스글로벌     084110        K   \n",
       "26  00228059    휴온스글로벌     084110        K   \n",
       "27  00228059    휴온스글로벌     084110        K   \n",
       "28  00228059    휴온스글로벌     084110        K   \n",
       "29  00228059    휴온스글로벌     084110        K   \n",
       "30  00228059    휴온스글로벌     084110        K   \n",
       "31  00228059    휴온스글로벌     084110        K   \n",
       "32  00228059    휴온스글로벌     084110        K   \n",
       "33  00228059    휴온스글로벌     084110        K   \n",
       "\n",
       "                                            report_nm        rcept_no  \\\n",
       "0                                           배당락(주식배당)  20181226900662   \n",
       "1                                     주주명부폐쇄기간또는기준일설정  20181213900109   \n",
       "2                                 주식배당결정(자회사의 주요경영사항)  20181207900382   \n",
       "3                                              주식배당결정  20181207900355   \n",
       "4                                     분기보고서 (2018.09)  20181112000067   \n",
       "5      투자판단관련주요경영사항(\"휴톡스(HU-014주) 100단위\"의 임상시험 3상 종료)  20181106900153   \n",
       "6                                   주식등의대량보유상황보고서(일반)  20181029000100   \n",
       "7                                         기업설명회(IR)개최  20180831900099   \n",
       "8                                     반기보고서 (2018.06)  20180814000382   \n",
       "9   투자판단관련주요경영사항('휴톡스주 100단위'의 외안각 주름 제1상 및 3상 임상시...  20180810900720   \n",
       "10                                  주식등의대량보유상황보고서(일반)  20180810000553   \n",
       "11                  [기재정정]타법인주식및출자증권취득결정(자회사의 주요경영사항)  20180809900485   \n",
       "12                                  주식등의대량보유상황보고서(일반)  20180710000543   \n",
       "13                                      지주회사의자회사편입ㆍ탈퇴  20180629900178   \n",
       "14                                    분기보고서 (2018.03)  20180515000041   \n",
       "15                           단일판매ㆍ공급계약체결(자회사의 주요경영사항)  20180508900010   \n",
       "16                                 [기재정정]기타경영사항(자율공시)  20180508900006   \n",
       "17                       주요사항보고서(무상증자결정)(자회사의 주요경영사항)  20180426900303   \n",
       "18                                    사업보고서 (2017.12)  20180330001855   \n",
       "19                                임원ㆍ주요주주특정증권등소유상황보고서  20180322000389   \n",
       "20                                임원ㆍ주요주주특정증권등소유상황보고서  20180322000371   \n",
       "21                                임원ㆍ주요주주특정증권등소유상황보고서  20180322000362   \n",
       "22                                  주식등의대량보유상황보고서(일반)  20180322000353   \n",
       "23                                           정기주주총회결과  20180316900508   \n",
       "24                               감사보고서제출(자회사의 주요경영사항)  20180308901542   \n",
       "25                                            감사보고서제출  20180308901517   \n",
       "26                                           주주총회소집공고  20180228000272   \n",
       "27                                      지주회사의자회사편입ㆍ탈퇴  20180227900164   \n",
       "28                                           주주총회소집결의  20180221900573   \n",
       "29           매출액또는손익구조30%(대규모법인은15%)이상변동(자회사의 주요경영사항)  20180212900301   \n",
       "30                        매출액또는손익구조30%(대규모법인은15%)이상변동  20180212900299   \n",
       "31                                        기업설명회(IR)개최  20180118900105   \n",
       "32                       [기재정정]현금ㆍ현물배당결정(자회사의 주요경영사항)  20180102900543   \n",
       "33                                    [기재정정]현금ㆍ현물배당결정  20180102900534   \n",
       "\n",
       "     flr_nm  rcept_dt rm  \n",
       "0   코스닥시장본부  20181226  코  \n",
       "1    휴온스글로벌  20181213  코  \n",
       "2    휴온스글로벌  20181207  코  \n",
       "3    휴온스글로벌  20181207  코  \n",
       "4    휴온스글로벌  20181112     \n",
       "5    휴온스글로벌  20181106  코  \n",
       "6       윤성태  20181029     \n",
       "7    휴온스글로벌  20180831  코  \n",
       "8    휴온스글로벌  20180814     \n",
       "9    휴온스글로벌  20180810  코  \n",
       "10      윤성태  20180810     \n",
       "11   휴온스글로벌  20180809  코  \n",
       "12      윤성태  20180710     \n",
       "13   휴온스글로벌  20180629  코  \n",
       "14   휴온스글로벌  20180515     \n",
       "15   휴온스글로벌  20180508  코  \n",
       "16   휴온스글로벌  20180508  코  \n",
       "17   휴온스글로벌  20180426  코  \n",
       "18   휴온스글로벌  20180330  연  \n",
       "19      손동철  20180322     \n",
       "20      윤보영  20180322     \n",
       "21      윤성태  20180322     \n",
       "22      윤성태  20180322     \n",
       "23   휴온스글로벌  20180316  코  \n",
       "24   휴온스글로벌  20180308  코  \n",
       "25   휴온스글로벌  20180308  코  \n",
       "26   휴온스글로벌  20180228     \n",
       "27   휴온스글로벌  20180227  코  \n",
       "28   휴온스글로벌  20180221  코  \n",
       "29   휴온스글로벌  20180212  코  \n",
       "30   휴온스글로벌  20180212  코  \n",
       "31   휴온스글로벌  20180118  코  \n",
       "32   휴온스글로벌  20180102  코  \n",
       "33   휴온스글로벌  20180102  코  "
      ]
     },
     "execution_count": 92,
     "metadata": {},
     "output_type": "execute_result"
    }
   ],
   "source": [
    "corp[0][0]"
   ]
  },
  {
   "cell_type": "code",
   "execution_count": 96,
   "id": "71c95122-7bb2-4f9d-9c3b-1f70ccccb842",
   "metadata": {},
   "outputs": [
    {
     "data": {
      "text/plain": [
       "5"
      ]
     },
     "execution_count": 96,
     "metadata": {},
     "output_type": "execute_result"
    }
   ],
   "source": [
    "len(corp[0])"
   ]
  },
  {
   "cell_type": "code",
   "execution_count": 112,
   "id": "d1e14f43-d804-4237-a8bc-97d242c92a5b",
   "metadata": {},
   "outputs": [],
   "source": [
    "final =[]\n",
    "for i in range(126):\n",
    "    tmp=[]\n",
    "    tmp = pd.concat(corp[i])\n",
    "    final.append(tmp)"
   ]
  },
  {
   "cell_type": "code",
   "execution_count": 98,
   "id": "669145e9-445a-45fa-9093-28d813d94225",
   "metadata": {},
   "outputs": [
    {
     "data": {
      "text/plain": [
       "126"
      ]
     },
     "execution_count": 98,
     "metadata": {},
     "output_type": "execute_result"
    }
   ],
   "source": [
    "len(final)"
   ]
  },
  {
   "cell_type": "code",
   "execution_count": null,
   "id": "3304defd-25a3-4fb4-998b-53b3318a0fbd",
   "metadata": {},
   "outputs": [],
   "source": [
    "dfdfdf"
   ]
  },
  {
   "cell_type": "code",
   "execution_count": 113,
   "id": "469cec5d-df5c-4348-a0a2-1307d7f14f0a",
   "metadata": {},
   "outputs": [
    {
     "data": {
      "text/plain": [
       "127"
      ]
     },
     "execution_count": 113,
     "metadata": {},
     "output_type": "execute_result"
    }
   ],
   "source": [
    "# tmp = final[0]\n",
    "# final.append(tmp)\n",
    "len(final)"
   ]
  },
  {
   "cell_type": "code",
   "execution_count": 116,
   "id": "3c6bc2a6-d708-4dd7-b541-862a8228f9cd",
   "metadata": {},
   "outputs": [],
   "source": [
    "# del final[0]"
   ]
  },
  {
   "cell_type": "code",
   "execution_count": 118,
   "id": "1cc211cc-d6f6-4ee7-851b-066e0a820cf6",
   "metadata": {},
   "outputs": [],
   "source": [
    "# final[0]"
   ]
  },
  {
   "cell_type": "code",
   "execution_count": 119,
   "id": "539dc663-d4a8-4597-a2fa-f4f2ba2af687",
   "metadata": {},
   "outputs": [],
   "source": [
    "# final[0]"
   ]
  },
  {
   "cell_type": "code",
   "execution_count": 122,
   "id": "91b25d4d-2cb5-4940-9882-72bf41a70aef",
   "metadata": {},
   "outputs": [
    {
     "data": {
      "text/plain": [
       "array(['CMG제약', 'HLB', 'HLB생명과학', 'JW생명과학', 'JW신약', 'JW중외제약', '강스템바이오텍',\n",
       "       '경남제약', '경동제약', '광동제약', '국전약품', '국제약품', '녹십자', '녹십자엠에스', '녹십자홀딩스',\n",
       "       '대봉엘에스', '대웅제약', '대원제약', '대화제약', '덴티스', '덴티움', '동국제약', '동아에스티',\n",
       "       '동화약품', '디아이', '디알텍', '메디톡스', '메디포스트', '메타바이오메드', '명문제약', '미래산업',\n",
       "       '미코바이오메드', '바디텍메드', '바이넥스', '바이오니아', '바이오솔루션', '보령', '부광약품',\n",
       "       '비보존 제약', '비씨월드제약', '삼성바이오로직스', '삼성제약', '삼아제약', '삼일제약', '삼천당제약',\n",
       "       '세운메디칼', '셀루메드', '셀트리온', '셀트리온제약', '신신제약', '쎌바이오텍', '씨젠', '씨티씨바이오',\n",
       "       '아스타', '아이큐어', '안국약품', '에스텍파마', '에스티팜', '에이프로젠바이오로직스', '엑세스바이오',\n",
       "       '엔지켐생명과학', '엔케이맥스', '엘앤씨바이오', '오스코텍', '옴니시스템', '우진비앤지', '원바이오젠',\n",
       "       '유유제약', '유틸렉스', '유한양행', '이노시스', '이연제약', '이즈미디어', '인바디', '인터로조',\n",
       "       '인트로메딕', '인트론바이오', '일동제약', '일동홀딩스', '일양약품', '제노레이', '제노포커스',\n",
       "       '제이시스메디칼', '제일약품', '젠큐릭스', '조아제약', '종근당', '종근당바이오', '종근당홀딩스',\n",
       "       '지나인제약', '지놈앤컴퍼니', '지티지웰니스', '진원생명과학', '차바이오텍', '케어젠', '케이씨',\n",
       "       '코렌텍', '코메론', '코미팜', '코아스템켐온', '코아시아씨엠', '코오롱생명과학', '콜마비앤에이치',\n",
       "       '클래시스', '테고사이언스', '테라젠이텍스', '파나진', '파마리서치', '파멥신', '파미셀', '파크시스템스',\n",
       "       '팜젠사이언스', '퓨쳐켐', '피에스텍', '하이로닉', '하이비젼시스템', '한국유니온제약', '한독',\n",
       "       '한미약품', '한올바이오파마', '환인제약', '휴마시스', '휴메딕스', '휴비츠', '휴온스', '휴온스글로벌'],\n",
       "      dtype=object)"
      ]
     },
     "execution_count": 122,
     "metadata": {},
     "output_type": "execute_result"
    }
   ],
   "source": [
    "ticker_df['names'].values"
   ]
  },
  {
   "cell_type": "code",
   "execution_count": 125,
   "id": "8706d9b5-6070-46df-ab09-2c0e0ee71005",
   "metadata": {},
   "outputs": [],
   "source": [
    "# tmp['corp_name'].values"
   ]
  },
  {
   "cell_type": "code",
   "execution_count": 128,
   "id": "14f85c59-4f3e-4d5c-a01e-834bf4c2d7bc",
   "metadata": {},
   "outputs": [
    {
     "data": {
      "text/plain": [
       "1        CMG제약\n",
       "2          HLB\n",
       "3      HLB생명과학\n",
       "4       JW생명과학\n",
       "5         JW신약\n",
       "        ...   \n",
       "122       휴마시스\n",
       "123       휴메딕스\n",
       "124        휴비츠\n",
       "125        휴온스\n",
       "126     휴온스글로벌\n",
       "Name: names, Length: 126, dtype: object"
      ]
     },
     "execution_count": 128,
     "metadata": {},
     "output_type": "execute_result"
    }
   ],
   "source": [
    "ticker_df['names']"
   ]
  },
  {
   "cell_type": "code",
   "execution_count": 130,
   "id": "a5fad746-9fd5-4ba9-b5b5-7492877972e4",
   "metadata": {},
   "outputs": [],
   "source": [
    "for i,tmp in enumerate(final):\n",
    "    # print(tmp)\n",
    "    name = ticker_df['names'][i+1]\n",
    "    tmp.to_csv(f'./data/{name}.csv',index=False, encoding='cp949')"
   ]
  },
  {
   "cell_type": "markdown",
   "id": "02997f35-0ec2-4537-bfc6-7802d8697741",
   "metadata": {},
   "source": [
    "# 2000-2017년 데이터"
   ]
  },
  {
   "cell_type": "code",
   "execution_count": 133,
   "id": "6984f64e-e2f1-4db6-812a-8bad57c077ef",
   "metadata": {},
   "outputs": [
    {
     "data": {
      "text/plain": [
       "array([2008, 2009, 2010, 2011, 2012, 2013, 2014, 2015, 2016])"
      ]
     },
     "execution_count": 133,
     "metadata": {},
     "output_type": "execute_result"
    }
   ],
   "source": [
    "np.arange(2008,2017)"
   ]
  },
  {
   "cell_type": "code",
   "execution_count": 134,
   "id": "e73c3534-2858-42b5-9d54-8f86f3799c66",
   "metadata": {},
   "outputs": [],
   "source": [
    "date_df2 = [\n",
    "    ['2000-01-01','2000-12-31']\n",
    "    ,['2001-01-01','2001-12-31']\n",
    "    ,['2002-01-01','2002-12-31']\n",
    "    ,['2003-01-01','2003-12-31']\n",
    "    ,['2004-01-01','2004-12-31']\n",
    "    ,['2005-01-01','2005-12-31']\n",
    "    ,['2006-01-01','2006-12-31']\n",
    "    ,['2007-01-01','2007-12-31']\n",
    "    ,['2008-01-01','2008-12-31']\n",
    "    ,['2009-01-01','2009-12-31']\n",
    "    ,['2010-01-01','2010-12-31']\n",
    "    ,['2011-01-01','2011-12-31']\n",
    "    ,['2012-01-01','2012-12-31']\n",
    "    ,['2013-01-01','2013-12-31']\n",
    "    ,['2014-01-01','2014-12-31']\n",
    "    ,['2015-01-01','2015-12-31']\n",
    "    ,['2016-01-01','2016-12-31']\n",
    "    ,['2017-01-01','2017-12-31']\n",
    "]"
   ]
  },
  {
   "cell_type": "code",
   "execution_count": 138,
   "id": "8a9a1ca9-b2ae-4447-8ae7-556b32008151",
   "metadata": {},
   "outputs": [],
   "source": [
    "date_df2 = pd.DataFrame(date_df2)"
   ]
  },
  {
   "cell_type": "code",
   "execution_count": 142,
   "id": "36aea315-9256-4c44-9932-745eec35a099",
   "metadata": {},
   "outputs": [
    {
     "name": "stdout",
     "output_type": "stream",
     "text": [
      "<class 'pandas.core.frame.DataFrame'>\n",
      "RangeIndex: 18 entries, 0 to 17\n",
      "Data columns (total 2 columns):\n",
      " #   Column  Non-Null Count  Dtype \n",
      "---  ------  --------------  ----- \n",
      " 0   0       18 non-null     object\n",
      " 1   1       18 non-null     object\n",
      "dtypes: object(2)\n",
      "memory usage: 416.0+ bytes\n"
     ]
    }
   ],
   "source": [
    "date_df2.info()"
   ]
  },
  {
   "cell_type": "code",
   "execution_count": null,
   "id": "be8e0ec8-7fc6-4374-b395-8e68e4d4c008",
   "metadata": {},
   "outputs": [],
   "source": []
  },
  {
   "cell_type": "code",
   "execution_count": 135,
   "id": "1850414e-9a60-48c6-81fd-1edba6187dc2",
   "metadata": {},
   "outputs": [],
   "source": [
    "def gongsi2(ticker, start, end):\n",
    "    tmp = dart.list(ticker, start,end )\n",
    "    df2.append(tmp)"
   ]
  },
  {
   "cell_type": "code",
   "execution_count": 136,
   "id": "fceda392-1d20-46dc-a185-f1ac2e8f5bd3",
   "metadata": {},
   "outputs": [],
   "source": [
    "df2=[]"
   ]
  },
  {
   "cell_type": "code",
   "execution_count": 150,
   "id": "fa796c93-a5b0-4e1a-85b0-07cde51e13f1",
   "metadata": {},
   "outputs": [],
   "source": [
    "# for ticker in ticker_df['ticker']:\n",
    "#     print(ticker)"
   ]
  },
  {
   "cell_type": "code",
   "execution_count": 147,
   "id": "e9c8b21f-9ca0-4630-a16a-0215ff3878a5",
   "metadata": {},
   "outputs": [],
   "source": [
    "# for ticker in ticker_df['ticker']:\n",
    "#     for i  in range(len(date_df2)-2,len(date_df2)):\n",
    "        # gongsi(ticker,   date_df2.loc[i,0],  date_df2.loc[i,1])\n",
    "        # print(date_df2.loc[i,0],  date_df2.loc[i,1])"
   ]
  },
  {
   "cell_type": "code",
   "execution_count": 140,
   "id": "7b52f61d-a21e-4050-b47d-158128d8cccd",
   "metadata": {},
   "outputs": [
    {
     "data": {
      "text/plain": [
       "0"
      ]
     },
     "execution_count": 140,
     "metadata": {},
     "output_type": "execute_result"
    }
   ],
   "source": [
    "len(df2)"
   ]
  }
 ],
 "metadata": {
  "kernelspec": {
   "display_name": "Python 3 (ipykernel)",
   "language": "python",
   "name": "python3"
  },
  "language_info": {
   "codemirror_mode": {
    "name": "ipython",
    "version": 3
   },
   "file_extension": ".py",
   "mimetype": "text/x-python",
   "name": "python",
   "nbconvert_exporter": "python",
   "pygments_lexer": "ipython3",
   "version": "3.8.8"
  }
 },
 "nbformat": 4,
 "nbformat_minor": 5
}
