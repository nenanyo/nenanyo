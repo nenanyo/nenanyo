{
 "cells": [
  {
   "cell_type": "code",
   "execution_count": 1,
   "id": "8ac405dc-056f-4e6f-aeb3-2146f2251dd1",
   "metadata": {
    "tags": []
   },
   "outputs": [],
   "source": [
    "import pandas as pd\n",
    "import numpy as np\n",
    "import matplotlib.pyplot as plt\n",
    "import warnings\n",
    "warnings.filterwarnings(action='ignore')"
   ]
  },
  {
   "cell_type": "markdown",
   "id": "26f1254b-34bd-42af-8ffe-71b07a3184b6",
   "metadata": {},
   "source": [
    "# 데이터 로드"
   ]
  },
  {
   "cell_type": "code",
   "execution_count": 2,
   "id": "c5240f26-ada9-4505-8d69-02c2b1d6db28",
   "metadata": {
    "tags": []
   },
   "outputs": [
    {
     "data": {
      "text/html": [
       "<div>\n",
       "<style scoped>\n",
       "    .dataframe tbody tr th:only-of-type {\n",
       "        vertical-align: middle;\n",
       "    }\n",
       "\n",
       "    .dataframe tbody tr th {\n",
       "        vertical-align: top;\n",
       "    }\n",
       "\n",
       "    .dataframe thead th {\n",
       "        text-align: right;\n",
       "    }\n",
       "</style>\n",
       "<table border=\"1\" class=\"dataframe\">\n",
       "  <thead>\n",
       "    <tr style=\"text-align: right;\">\n",
       "      <th></th>\n",
       "      <th>name</th>\n",
       "      <th>ticker</th>\n",
       "    </tr>\n",
       "  </thead>\n",
       "  <tbody>\n",
       "    <tr>\n",
       "      <th>122</th>\n",
       "      <td>휴마시스</td>\n",
       "      <td>205470</td>\n",
       "    </tr>\n",
       "    <tr>\n",
       "      <th>123</th>\n",
       "      <td>휴메딕스</td>\n",
       "      <td>200670</td>\n",
       "    </tr>\n",
       "    <tr>\n",
       "      <th>124</th>\n",
       "      <td>휴비츠</td>\n",
       "      <td>065510</td>\n",
       "    </tr>\n",
       "    <tr>\n",
       "      <th>125</th>\n",
       "      <td>휴온스</td>\n",
       "      <td>243070</td>\n",
       "    </tr>\n",
       "    <tr>\n",
       "      <th>126</th>\n",
       "      <td>휴온스글로벌</td>\n",
       "      <td>084110</td>\n",
       "    </tr>\n",
       "  </tbody>\n",
       "</table>\n",
       "</div>"
      ],
      "text/plain": [
       "       name  ticker\n",
       "122    휴마시스  205470\n",
       "123    휴메딕스  200670\n",
       "124     휴비츠  065510\n",
       "125     휴온스  243070\n",
       "126  휴온스글로벌  084110"
      ]
     },
     "execution_count": 2,
     "metadata": {},
     "output_type": "execute_result"
    }
   ],
   "source": [
    "ticker = pd.read_csv('../데이터/최종기업ticker.csv',names = ['name','ticker'])\n",
    "ticker.tail()"
   ]
  },
  {
   "cell_type": "markdown",
   "id": "fb9f57e6-33a7-4d1a-9bd0-6ea458393201",
   "metadata": {},
   "source": [
    "## 18-22"
   ]
  },
  {
   "cell_type": "code",
   "execution_count": 3,
   "id": "f600e48a-bc77-4d1b-b0de-5efa1b3c4f56",
   "metadata": {
    "tags": []
   },
   "outputs": [],
   "source": [
    "path_공시 = '../데이터/공시정보/공시정보_csv'"
   ]
  },
  {
   "cell_type": "code",
   "execution_count": 4,
   "id": "42f71084-f0fc-4336-8cc9-ea6b50b813b6",
   "metadata": {
    "tags": []
   },
   "outputs": [
    {
     "data": {
      "text/plain": [
       "126"
      ]
     },
     "execution_count": 4,
     "metadata": {},
     "output_type": "execute_result"
    }
   ],
   "source": [
    "import os\n",
    "file_list = os.listdir(path_공시)\n",
    "len(file_list)"
   ]
  },
  {
   "cell_type": "code",
   "execution_count": 5,
   "id": "ba581e05-f1da-42fb-a296-1b02ffcca378",
   "metadata": {
    "tags": []
   },
   "outputs": [],
   "source": [
    "file_name_공시 = []\n",
    "for file in file_list:\n",
    "    if file.count(\".\") == 1: \n",
    "        name = file.split('.')[0]\n",
    "        file_name_공시.append(name)\n",
    "    # else:\n",
    "    #     for k in range(len(file)-1,0,-1):\n",
    "    #         if file[k]=='.':\n",
    "    #             file_name.append(file[:k])\n",
    "    #             break"
   ]
  },
  {
   "cell_type": "code",
   "execution_count": 6,
   "id": "136b2d77-b1a8-4c4f-9395-19687ed25848",
   "metadata": {
    "tags": []
   },
   "outputs": [
    {
     "data": {
      "text/plain": [
       "'CMG제약'"
      ]
     },
     "execution_count": 6,
     "metadata": {},
     "output_type": "execute_result"
    }
   ],
   "source": [
    "file_name_공시[0]"
   ]
  },
  {
   "cell_type": "code",
   "execution_count": 7,
   "id": "4d5ef6c0-4123-4b95-b709-015b8dc0c0e4",
   "metadata": {
    "tags": []
   },
   "outputs": [],
   "source": [
    "# 유동자산 = []\n",
    "df1 = []\n",
    "for 기업 in file_name_공시:\n",
    "    df =pd.read_csv(f\"../데이터/공시정보/공시정보_csv/{기업}.csv\")\n",
    "#     venv/아림경영/데이터/기업별 재무제표/재무제표 원본/balance_sheet/경동제약.xlsx\n",
    "    df1.append(df)\n",
    "    \n",
    "        \n",
    "    # 유동있  = False \n",
    "#     for i in range(len(df)):\n",
    "#         if df.iloc[i,2] == '유동자산':\n",
    "#             # print(df.iloc[i,8:13])\n",
    "#             유동자산.append(df.iloc[i,12]) \n",
    "#             유동있 =True\n",
    "            \n",
    "#     if 유동있  == False:\n",
    "#         유동자산.append(-1)\n",
    "        \n",
    "# #     \n",
    "# print(len(유동자산))\n",
    "# df.head()"
   ]
  },
  {
   "cell_type": "code",
   "execution_count": 8,
   "id": "9b822be0-79ac-43af-9ece-46b02fb607ef",
   "metadata": {
    "tags": []
   },
   "outputs": [
    {
     "data": {
      "text/html": [
       "<div>\n",
       "<style scoped>\n",
       "    .dataframe tbody tr th:only-of-type {\n",
       "        vertical-align: middle;\n",
       "    }\n",
       "\n",
       "    .dataframe tbody tr th {\n",
       "        vertical-align: top;\n",
       "    }\n",
       "\n",
       "    .dataframe thead th {\n",
       "        text-align: right;\n",
       "    }\n",
       "</style>\n",
       "<table border=\"1\" class=\"dataframe\">\n",
       "  <thead>\n",
       "    <tr style=\"text-align: right;\">\n",
       "      <th></th>\n",
       "      <th>corp_name</th>\n",
       "      <th>stock_code</th>\n",
       "      <th>report_nm</th>\n",
       "      <th>rcept_dt</th>\n",
       "      <th>y</th>\n",
       "      <th>positive</th>\n",
       "      <th>negative</th>\n",
       "    </tr>\n",
       "  </thead>\n",
       "  <tbody>\n",
       "    <tr>\n",
       "      <th>0</th>\n",
       "      <td>CMG제약</td>\n",
       "      <td>58820</td>\n",
       "      <td>주주명부폐쇄기간또는기준일설정</td>\n",
       "      <td>20181213</td>\n",
       "      <td>2018</td>\n",
       "      <td>0.0</td>\n",
       "      <td>0.0</td>\n",
       "    </tr>\n",
       "    <tr>\n",
       "      <th>1</th>\n",
       "      <td>CMG제약</td>\n",
       "      <td>58820</td>\n",
       "      <td>소속부변경</td>\n",
       "      <td>20180430</td>\n",
       "      <td>2018</td>\n",
       "      <td>1.0</td>\n",
       "      <td>0.0</td>\n",
       "    </tr>\n",
       "  </tbody>\n",
       "</table>\n",
       "</div>"
      ],
      "text/plain": [
       "  corp_name  stock_code        report_nm  rcept_dt     y  positive  negative\n",
       "0     CMG제약       58820  주주명부폐쇄기간또는기준일설정  20181213  2018       0.0       0.0\n",
       "1     CMG제약       58820            소속부변경  20180430  2018       1.0       0.0"
      ]
     },
     "execution_count": 8,
     "metadata": {},
     "output_type": "execute_result"
    }
   ],
   "source": [
    "df1[0].head(2)"
   ]
  },
  {
   "cell_type": "markdown",
   "id": "0e4e27e8-d43d-47c7-a891-dd6cfb62c7c2",
   "metadata": {},
   "source": [
    "## 10-17"
   ]
  },
  {
   "cell_type": "code",
   "execution_count": 9,
   "id": "8422daba-03fc-40db-8165-cf241b4fa235",
   "metadata": {
    "tags": []
   },
   "outputs": [],
   "source": [
    "# 유동자산 = []\n",
    "df10_17 = []\n",
    "for 기업 in file_name_공시:\n",
    "    df =pd.read_excel(f\"../데이터/공시정보/공시정보_2010~2017/{기업}.xlsx\",header=None)\n",
    "#     venv/아림경영/데이터/기업별 재무제표/재무제표 원본/balance_sheet/경동제약.xlsx\n",
    "    df10_17.append(df)\n",
    "    \n",
    "        \n",
    "    # 유동있  = False \n",
    "#     for i in range(len(df)):\n",
    "#         if df.iloc[i,2] == '유동자산':\n",
    "#             # print(df.iloc[i,8:13])\n",
    "#             유동자산.append(df.iloc[i,12]) \n",
    "#             유동있 =True\n",
    "            \n",
    "#     if 유동있  == False:\n",
    "#         유동자산.append(-1)\n",
    "        \n",
    "# #     \n",
    "# print(len(유동자산))\n",
    "# df.head()"
   ]
  },
  {
   "cell_type": "code",
   "execution_count": 10,
   "id": "46747a4b-e4ce-4b31-a32b-36d0954bf787",
   "metadata": {
    "tags": []
   },
   "outputs": [],
   "source": [
    "del df10_17[90]"
   ]
  },
  {
   "cell_type": "code",
   "execution_count": 11,
   "id": "ef998224-6f61-4730-9796-d806d1630635",
   "metadata": {
    "tags": []
   },
   "outputs": [
    {
     "data": {
      "text/plain": [
       "0"
      ]
     },
     "execution_count": 11,
     "metadata": {},
     "output_type": "execute_result"
    }
   ],
   "source": [
    "li = []\n",
    "for i,df in enumerate(df10_17):\n",
    "    if len(df.columns)<5:\n",
    "        li.append(i)\n",
    "len(li)"
   ]
  },
  {
   "cell_type": "code",
   "execution_count": 12,
   "id": "a2697ac4-09cc-4dc3-974c-4f07006c9738",
   "metadata": {
    "tags": []
   },
   "outputs": [],
   "source": [
    "df10_17_1 = []\n",
    "for df in df10_17:\n",
    "    df_1 = df.iloc[:,[1,2,4]]\n",
    "    # tmp2 = df.iloc[:,4]\n",
    "    # df = pd.concat([tmp,tmp2],axis=1)\n",
    "    df10_17_1.append(df_1)"
   ]
  },
  {
   "cell_type": "code",
   "execution_count": 13,
   "id": "cfeba7f6-6530-44bd-91b3-789044634095",
   "metadata": {
    "tags": []
   },
   "outputs": [],
   "source": [
    "# df10_17_1[85].head(2)"
   ]
  },
  {
   "cell_type": "code",
   "execution_count": 14,
   "id": "8dff8d1f-a670-4331-a04d-c295f0432b7b",
   "metadata": {
    "tags": []
   },
   "outputs": [
    {
     "data": {
      "text/html": [
       "<div>\n",
       "<style scoped>\n",
       "    .dataframe tbody tr th:only-of-type {\n",
       "        vertical-align: middle;\n",
       "    }\n",
       "\n",
       "    .dataframe tbody tr th {\n",
       "        vertical-align: top;\n",
       "    }\n",
       "\n",
       "    .dataframe thead th {\n",
       "        text-align: right;\n",
       "    }\n",
       "</style>\n",
       "<table border=\"1\" class=\"dataframe\">\n",
       "  <thead>\n",
       "    <tr style=\"text-align: right;\">\n",
       "      <th></th>\n",
       "      <th>1</th>\n",
       "      <th>2</th>\n",
       "      <th>4</th>\n",
       "    </tr>\n",
       "  </thead>\n",
       "  <tbody>\n",
       "    <tr>\n",
       "      <th>0</th>\n",
       "      <td>유 일동제약</td>\n",
       "      <td>[기재정정]주식배당결정</td>\n",
       "      <td>2017.12.20</td>\n",
       "    </tr>\n",
       "    <tr>\n",
       "      <th>1</th>\n",
       "      <td>유 일동제약</td>\n",
       "      <td>매매거래정지및정지해제(중요내용공시)</td>\n",
       "      <td>2017.12.12</td>\n",
       "    </tr>\n",
       "  </tbody>\n",
       "</table>\n",
       "</div>"
      ],
      "text/plain": [
       "        1                    2           4\n",
       "0  유 일동제약         [기재정정]주식배당결정  2017.12.20\n",
       "1  유 일동제약  매매거래정지및정지해제(중요내용공시)  2017.12.12"
      ]
     },
     "execution_count": 14,
     "metadata": {},
     "output_type": "execute_result"
    }
   ],
   "source": [
    "df10_17_1[77].head(2)"
   ]
  },
  {
   "cell_type": "code",
   "execution_count": 15,
   "id": "6d05562a-a555-47c4-9e90-39801faf388d",
   "metadata": {
    "tags": []
   },
   "outputs": [],
   "source": [
    "df10_17_2 = []\n",
    "for i,df in enumerate(df10_17_1):\n",
    "    df[5] = ticker['ticker'][i+1]\n",
    "    df_1 = df[[1,5,2,4]]\n",
    "    df_1.columns = ['corp_name','stock_code','report_nm','rcept_dt']\n",
    "    df10_17_2.append(df_1)\n",
    "    # df.columns = [corp_name,report_nm,rcept_dt]"
   ]
  },
  {
   "cell_type": "code",
   "execution_count": 16,
   "id": "ba385cea-958f-44ed-9e93-6e976b00415b",
   "metadata": {
    "tags": []
   },
   "outputs": [
    {
     "data": {
      "text/html": [
       "<div>\n",
       "<style scoped>\n",
       "    .dataframe tbody tr th:only-of-type {\n",
       "        vertical-align: middle;\n",
       "    }\n",
       "\n",
       "    .dataframe tbody tr th {\n",
       "        vertical-align: top;\n",
       "    }\n",
       "\n",
       "    .dataframe thead th {\n",
       "        text-align: right;\n",
       "    }\n",
       "</style>\n",
       "<table border=\"1\" class=\"dataframe\">\n",
       "  <thead>\n",
       "    <tr style=\"text-align: right;\">\n",
       "      <th></th>\n",
       "      <th>corp_name</th>\n",
       "      <th>stock_code</th>\n",
       "      <th>report_nm</th>\n",
       "      <th>rcept_dt</th>\n",
       "    </tr>\n",
       "  </thead>\n",
       "  <tbody>\n",
       "    <tr>\n",
       "      <th>0</th>\n",
       "      <td>코 JW신약</td>\n",
       "      <td>067290</td>\n",
       "      <td>주주명부폐쇄기간또는기준일설정</td>\n",
       "      <td>2017.12.15</td>\n",
       "    </tr>\n",
       "    <tr>\n",
       "      <th>1</th>\n",
       "      <td>코 JW신약</td>\n",
       "      <td>067290</td>\n",
       "      <td>전환청구권행사 (제1회차)</td>\n",
       "      <td>2017.11.20</td>\n",
       "    </tr>\n",
       "  </tbody>\n",
       "</table>\n",
       "</div>"
      ],
      "text/plain": [
       "  corp_name stock_code        report_nm    rcept_dt\n",
       "0    코 JW신약     067290  주주명부폐쇄기간또는기준일설정  2017.12.15\n",
       "1    코 JW신약     067290   전환청구권행사 (제1회차)  2017.11.20"
      ]
     },
     "execution_count": 16,
     "metadata": {},
     "output_type": "execute_result"
    }
   ],
   "source": [
    "df10_17_2[4].head(2)"
   ]
  },
  {
   "cell_type": "code",
   "execution_count": 17,
   "id": "12948b61-9b61-4f33-849f-1f825b69a70b",
   "metadata": {
    "tags": []
   },
   "outputs": [],
   "source": [
    "for df in df10_17_2:\n",
    "    df['corp_name'] = df['corp_name'].str[2:]"
   ]
  },
  {
   "cell_type": "code",
   "execution_count": 18,
   "id": "477f4506-1b62-4f96-aa8b-71a42acb91c5",
   "metadata": {
    "tags": []
   },
   "outputs": [
    {
     "data": {
      "text/html": [
       "<div>\n",
       "<style scoped>\n",
       "    .dataframe tbody tr th:only-of-type {\n",
       "        vertical-align: middle;\n",
       "    }\n",
       "\n",
       "    .dataframe tbody tr th {\n",
       "        vertical-align: top;\n",
       "    }\n",
       "\n",
       "    .dataframe thead th {\n",
       "        text-align: right;\n",
       "    }\n",
       "</style>\n",
       "<table border=\"1\" class=\"dataframe\">\n",
       "  <thead>\n",
       "    <tr style=\"text-align: right;\">\n",
       "      <th></th>\n",
       "      <th>corp_name</th>\n",
       "      <th>stock_code</th>\n",
       "      <th>report_nm</th>\n",
       "      <th>rcept_dt</th>\n",
       "    </tr>\n",
       "  </thead>\n",
       "  <tbody>\n",
       "    <tr>\n",
       "      <th>0</th>\n",
       "      <td>JW신약</td>\n",
       "      <td>067290</td>\n",
       "      <td>주주명부폐쇄기간또는기준일설정</td>\n",
       "      <td>2017.12.15</td>\n",
       "    </tr>\n",
       "    <tr>\n",
       "      <th>1</th>\n",
       "      <td>JW신약</td>\n",
       "      <td>067290</td>\n",
       "      <td>전환청구권행사 (제1회차)</td>\n",
       "      <td>2017.11.20</td>\n",
       "    </tr>\n",
       "  </tbody>\n",
       "</table>\n",
       "</div>"
      ],
      "text/plain": [
       "  corp_name stock_code        report_nm    rcept_dt\n",
       "0      JW신약     067290  주주명부폐쇄기간또는기준일설정  2017.12.15\n",
       "1      JW신약     067290   전환청구권행사 (제1회차)  2017.11.20"
      ]
     },
     "execution_count": 18,
     "metadata": {},
     "output_type": "execute_result"
    }
   ],
   "source": [
    "df10_17_2[4].head(2)"
   ]
  },
  {
   "cell_type": "code",
   "execution_count": 19,
   "id": "e7606279-1a54-4efb-be8a-c18843bd850c",
   "metadata": {
    "tags": []
   },
   "outputs": [
    {
     "data": {
      "text/plain": [
       "'20171215'"
      ]
     },
     "execution_count": 19,
     "metadata": {},
     "output_type": "execute_result"
    }
   ],
   "source": [
    "a = '2017.12.15'\n",
    "a.replace('.','')"
   ]
  },
  {
   "cell_type": "code",
   "execution_count": 20,
   "id": "76075251-8a55-4eb2-9d85-13e4f1db6829",
   "metadata": {
    "tags": []
   },
   "outputs": [],
   "source": [
    "for df in df10_17_2:\n",
    "    df['rcept_dt'] = df['rcept_dt'].str.replace('.','')"
   ]
  },
  {
   "cell_type": "code",
   "execution_count": 21,
   "id": "22ff71d3-133c-4d86-ba56-c18970e28f12",
   "metadata": {
    "tags": []
   },
   "outputs": [
    {
     "data": {
      "text/html": [
       "<div>\n",
       "<style scoped>\n",
       "    .dataframe tbody tr th:only-of-type {\n",
       "        vertical-align: middle;\n",
       "    }\n",
       "\n",
       "    .dataframe tbody tr th {\n",
       "        vertical-align: top;\n",
       "    }\n",
       "\n",
       "    .dataframe thead th {\n",
       "        text-align: right;\n",
       "    }\n",
       "</style>\n",
       "<table border=\"1\" class=\"dataframe\">\n",
       "  <thead>\n",
       "    <tr style=\"text-align: right;\">\n",
       "      <th></th>\n",
       "      <th>corp_name</th>\n",
       "      <th>stock_code</th>\n",
       "      <th>report_nm</th>\n",
       "      <th>rcept_dt</th>\n",
       "    </tr>\n",
       "  </thead>\n",
       "  <tbody>\n",
       "    <tr>\n",
       "      <th>0</th>\n",
       "      <td>JW신약</td>\n",
       "      <td>067290</td>\n",
       "      <td>주주명부폐쇄기간또는기준일설정</td>\n",
       "      <td>20171215</td>\n",
       "    </tr>\n",
       "    <tr>\n",
       "      <th>1</th>\n",
       "      <td>JW신약</td>\n",
       "      <td>067290</td>\n",
       "      <td>전환청구권행사 (제1회차)</td>\n",
       "      <td>20171120</td>\n",
       "    </tr>\n",
       "  </tbody>\n",
       "</table>\n",
       "</div>"
      ],
      "text/plain": [
       "  corp_name stock_code        report_nm  rcept_dt\n",
       "0      JW신약     067290  주주명부폐쇄기간또는기준일설정  20171215\n",
       "1      JW신약     067290   전환청구권행사 (제1회차)  20171120"
      ]
     },
     "execution_count": 21,
     "metadata": {},
     "output_type": "execute_result"
    }
   ],
   "source": [
    "df10_17_2[4].head(2)"
   ]
  },
  {
   "cell_type": "code",
   "execution_count": 22,
   "id": "31313351-068d-4e74-b08c-6294c634a3ba",
   "metadata": {
    "tags": []
   },
   "outputs": [],
   "source": [
    "df10_17_3 = []\n",
    "for df in  df10_17_2:\n",
    "    # df.insert(4,'y',0)\n",
    "    df = df.astype('str')\n",
    "    for i,dt in enumerate(df['rcept_dt']):\n",
    "        df.loc[i,'y'] = dt[:4]\n",
    "    df10_17_3.append(df)"
   ]
  },
  {
   "cell_type": "code",
   "execution_count": 23,
   "id": "ae88d5d9-99a1-4144-98f8-23f845d1f790",
   "metadata": {
    "tags": []
   },
   "outputs": [],
   "source": [
    "# df10_17_3[0]"
   ]
  },
  {
   "cell_type": "markdown",
   "id": "62da4c70-41c3-4315-9b94-d92c59e84b26",
   "metadata": {},
   "source": [
    "# 10-17 지표 구분"
   ]
  },
  {
   "cell_type": "markdown",
   "id": "2dc85430-a367-4a1f-8d8a-cd858e32aec1",
   "metadata": {},
   "source": [
    "# positive(+1)\n",
    "*  DataFrame.insert( loc, column, value)"
   ]
  },
  {
   "cell_type": "markdown",
   "id": "61b945b3-4a42-4d2b-90af-d286b42f165b",
   "metadata": {},
   "source": [
    "<pre>\n",
    "* 기업설명회\n",
    "신규시설투자\n",
    "취득\n",
    "취득결정\n",
    "유상증자\n",
    "무상증자\n",
    "단기차입금감소결정\n",
    "권리락(무상증자)\n",
    "발행조건확정\n",
    "증권발행결과\n",
    "배당결정\n",
    "특허권\n",
    "실적\n",
    "승인\n",
    "주식분할\n",
    "정지해제\n",
    "대표이사변경"
   ]
  },
  {
   "cell_type": "markdown",
   "id": "f8e92744-0b03-42a6-a66c-ddbba3eca219",
   "metadata": {},
   "source": [
    "## 컬럼 추가"
   ]
  },
  {
   "cell_type": "code",
   "execution_count": 24,
   "id": "b69ac9e5-c5ae-43f0-b593-89cc5fce8de1",
   "metadata": {
    "tags": []
   },
   "outputs": [],
   "source": [
    "df10_17_4 =[]\n",
    "for i, df in enumerate(df10_17_3):\n",
    "    df.insert(5,'positive',0)\n",
    "    df10_17_4.append(df)"
   ]
  },
  {
   "cell_type": "code",
   "execution_count": 25,
   "id": "b3c00aa2-29a9-49f1-86d3-3ed1b66730a6",
   "metadata": {
    "tags": []
   },
   "outputs": [],
   "source": [
    "# df10_17_4[0]"
   ]
  },
  {
   "cell_type": "markdown",
   "id": "d766f471-2fd0-45e9-99be-1502d45cb2db",
   "metadata": {},
   "source": [
    "## 지표 구분"
   ]
  },
  {
   "cell_type": "code",
   "execution_count": 26,
   "id": "7695df20-f691-40b5-9bfd-57e4d93a40ae",
   "metadata": {
    "tags": []
   },
   "outputs": [],
   "source": [
    "for i, df in enumerate(df10_17_4):\n",
    "    for j,note in enumerate(df['report_nm']):\n",
    "        if (\"기업설명회\" in note) or (\"신규시설투자\" in note) or(\"취득\" in note) or(\"취득결정\" in note) or \\\n",
    "        (\"유상증자\" in note) or (\"무상증자\" in note) or (\"단기차입금감소결정\" in note) or(\"권리락\" in note) \\\n",
    "        or(\"발행조건확정\" in note) or (\"증권발행결과\" in note) or (\"배당결정\" in note) or(\"특허권\" in note) \\\n",
    "        or(\"실적\" in note) or(\"승인\" in note) or (\"주식분할\" in note) or(\"정지해제\" in note) or \\\n",
    "        (\"대표이사변경\" in note):\n",
    "            # print(1)\n",
    "            df.loc[j,'positive']  = 1"
   ]
  },
  {
   "cell_type": "code",
   "execution_count": 27,
   "id": "bdf25981-6bfc-4eaa-8208-c903e5b45eca",
   "metadata": {
    "tags": []
   },
   "outputs": [],
   "source": [
    "# df10_17_4[44].tail()"
   ]
  },
  {
   "cell_type": "code",
   "execution_count": 28,
   "id": "910aadd9-f943-43ac-b27e-73b63697f083",
   "metadata": {},
   "outputs": [],
   "source": [
    "# df_list5[0]"
   ]
  },
  {
   "cell_type": "markdown",
   "id": "9b186044-b4f0-4010-93a5-b6e5a859fd7c",
   "metadata": {},
   "source": [
    "## nan drop"
   ]
  },
  {
   "cell_type": "code",
   "execution_count": 29,
   "id": "257c19da-7454-4ffb-85ea-0a30b049e70c",
   "metadata": {
    "tags": []
   },
   "outputs": [],
   "source": [
    "df10_17_5 =[]\n",
    "for i, df in enumerate(df10_17_4):\n",
    "    df = df.dropna()\n",
    "    df10_17_5.append(df)"
   ]
  },
  {
   "cell_type": "code",
   "execution_count": 30,
   "id": "adaf3642-d782-4fbc-82e6-282dd37a344c",
   "metadata": {
    "tags": []
   },
   "outputs": [],
   "source": [
    "# df_list6[0]"
   ]
  },
  {
   "cell_type": "markdown",
   "id": "cba34c84-6a81-483d-ae21-ae80b09c2671",
   "metadata": {},
   "source": [
    "# negative(-1)"
   ]
  },
  {
   "cell_type": "markdown",
   "id": "b12b4a7f-a211-4425-8b41-74c585d01146",
   "metadata": {},
   "source": [
    "<pre>\n",
    "불성실공시법인미지정\n",
    "해임\n",
    "중도퇴임\n",
    "매매거래정지"
   ]
  },
  {
   "cell_type": "markdown",
   "id": "5b5733ed-4a40-4592-b690-a8b030886ff8",
   "metadata": {},
   "source": [
    "## 컬럼 추가"
   ]
  },
  {
   "cell_type": "code",
   "execution_count": 31,
   "id": "60a58088-2f65-4037-bab2-46a16da71342",
   "metadata": {
    "tags": []
   },
   "outputs": [],
   "source": [
    "df10_17_6 =[]\n",
    "for i, df in enumerate(df10_17_5):\n",
    "    df.insert(6,'negative',0)\n",
    "    df10_17_6.append(df)"
   ]
  },
  {
   "cell_type": "code",
   "execution_count": 32,
   "id": "07a66f83-1d84-4076-9c90-41745417d0ea",
   "metadata": {
    "tags": []
   },
   "outputs": [],
   "source": [
    "# df10_17_5[0]"
   ]
  },
  {
   "cell_type": "markdown",
   "id": "16ce5974-a334-4b31-94ed-1a15532aeb0a",
   "metadata": {},
   "source": [
    "## 지표 구분"
   ]
  },
  {
   "cell_type": "code",
   "execution_count": 33,
   "id": "92efd667-91f6-4623-bd56-99b840199331",
   "metadata": {
    "tags": []
   },
   "outputs": [],
   "source": [
    "for i, df in enumerate(df10_17_6):\n",
    "    for j,note in enumerate(df['report_nm']):\n",
    "        # print(note)\n",
    "        if (\"불성실공시법인미지정\" in note) or (\"해임\" in note) or(\"중도퇴임\" in note) or(\"매매거래정지\" in note):\n",
    "            df.loc[j,'negative']  = -1"
   ]
  },
  {
   "cell_type": "code",
   "execution_count": 34,
   "id": "d2e22f84-428b-42da-bfa8-b538bf5be1c2",
   "metadata": {
    "tags": []
   },
   "outputs": [
    {
     "data": {
      "text/html": [
       "<div>\n",
       "<style scoped>\n",
       "    .dataframe tbody tr th:only-of-type {\n",
       "        vertical-align: middle;\n",
       "    }\n",
       "\n",
       "    .dataframe tbody tr th {\n",
       "        vertical-align: top;\n",
       "    }\n",
       "\n",
       "    .dataframe thead th {\n",
       "        text-align: right;\n",
       "    }\n",
       "</style>\n",
       "<table border=\"1\" class=\"dataframe\">\n",
       "  <thead>\n",
       "    <tr style=\"text-align: right;\">\n",
       "      <th></th>\n",
       "      <th>corp_name</th>\n",
       "      <th>stock_code</th>\n",
       "      <th>report_nm</th>\n",
       "      <th>rcept_dt</th>\n",
       "      <th>y</th>\n",
       "      <th>positive</th>\n",
       "      <th>negative</th>\n",
       "    </tr>\n",
       "  </thead>\n",
       "  <tbody>\n",
       "    <tr>\n",
       "      <th>0</th>\n",
       "      <td>코아시아씨엠</td>\n",
       "      <td>166480</td>\n",
       "      <td>전환가액의조정 (제5회차)</td>\n",
       "      <td>20171229</td>\n",
       "      <td>2017</td>\n",
       "      <td>0</td>\n",
       "      <td>0</td>\n",
       "    </tr>\n",
       "    <tr>\n",
       "      <th>1</th>\n",
       "      <td>코아시아씨엠</td>\n",
       "      <td>166480</td>\n",
       "      <td>전환가액의조정 (제5회차)</td>\n",
       "      <td>20171227</td>\n",
       "      <td>2017</td>\n",
       "      <td>0</td>\n",
       "      <td>0</td>\n",
       "    </tr>\n",
       "  </tbody>\n",
       "</table>\n",
       "</div>"
      ],
      "text/plain": [
       "  corp_name stock_code       report_nm  rcept_dt     y  positive  negative\n",
       "0    코아시아씨엠     166480  전환가액의조정 (제5회차)  20171229  2017         0         0\n",
       "1    코아시아씨엠     166480  전환가액의조정 (제5회차)  20171227  2017         0         0"
      ]
     },
     "execution_count": 34,
     "metadata": {},
     "output_type": "execute_result"
    }
   ],
   "source": [
    "df10_17_6[99].head(2)"
   ]
  },
  {
   "cell_type": "markdown",
   "id": "bc24e9ae-0594-4c58-af2f-f39082378817",
   "metadata": {},
   "source": [
    "## nan drop"
   ]
  },
  {
   "cell_type": "code",
   "execution_count": 35,
   "id": "690d822b-a364-4505-8d46-1494a485e29d",
   "metadata": {
    "tags": []
   },
   "outputs": [],
   "source": [
    "df10_17_7 =[]\n",
    "for i, df in enumerate(df10_17_6):\n",
    "    df = df.dropna()\n",
    "    df10_17_7.append(df)"
   ]
  },
  {
   "cell_type": "code",
   "execution_count": 36,
   "id": "2767c881-26bc-4b38-8af8-e1dbcc27a9da",
   "metadata": {
    "tags": []
   },
   "outputs": [],
   "source": [
    "# df10_17_7[65].tail()"
   ]
  },
  {
   "cell_type": "markdown",
   "id": "24bb7672-247c-4011-9162-ca090f56a323",
   "metadata": {},
   "source": [
    "* 10-17년도 지놈앤컴퍼니 공시정보가 없음"
   ]
  },
  {
   "cell_type": "code",
   "execution_count": 37,
   "id": "7257e6ec-100b-44c0-bd1d-8c4737b132f5",
   "metadata": {
    "tags": []
   },
   "outputs": [],
   "source": [
    "\n",
    "emp = pd.DataFrame(columns = ['corp_name','stock_code','report_nm','rcept_dt','y','positive','negative'])"
   ]
  },
  {
   "cell_type": "code",
   "execution_count": 38,
   "id": "6aa1b87d-72f8-45d1-8c88-36d9aaba0eaa",
   "metadata": {
    "tags": []
   },
   "outputs": [],
   "source": [
    "# df10_17_2[90]"
   ]
  },
  {
   "cell_type": "code",
   "execution_count": 39,
   "id": "9daf7226-91e1-41c1-8505-b1e51551cf9c",
   "metadata": {
    "tags": []
   },
   "outputs": [],
   "source": [
    "head = df10_17_7[:90]"
   ]
  },
  {
   "cell_type": "code",
   "execution_count": 40,
   "id": "4f7fc624-5849-4d7c-91ea-bc3aa158b7e3",
   "metadata": {
    "tags": []
   },
   "outputs": [],
   "source": [
    "# head[89]"
   ]
  },
  {
   "cell_type": "code",
   "execution_count": 41,
   "id": "98aa1b8e-578a-4a60-affa-3a9172351c55",
   "metadata": {
    "tags": []
   },
   "outputs": [],
   "source": [
    "tail = df10_17_7[90:]"
   ]
  },
  {
   "cell_type": "code",
   "execution_count": 42,
   "id": "3317c77d-2681-427c-bbbe-1bb078ca82dd",
   "metadata": {
    "tags": []
   },
   "outputs": [],
   "source": [
    "# tail[0]"
   ]
  },
  {
   "cell_type": "code",
   "execution_count": 43,
   "id": "9652178d-e0cf-4105-bf2c-5f7605cd78c3",
   "metadata": {
    "tags": []
   },
   "outputs": [],
   "source": [
    "df10_17_8=[]\n",
    "for df in head:\n",
    "    df10_17_8.append(df)"
   ]
  },
  {
   "cell_type": "code",
   "execution_count": 44,
   "id": "b567f8a0-2ec3-49a2-9df9-d74d625e71f4",
   "metadata": {
    "tags": []
   },
   "outputs": [
    {
     "data": {
      "text/plain": [
       "125"
      ]
     },
     "execution_count": 44,
     "metadata": {},
     "output_type": "execute_result"
    }
   ],
   "source": [
    "len(df10_17_3)"
   ]
  },
  {
   "cell_type": "code",
   "execution_count": 45,
   "id": "f605bbc9-f5b1-47a0-ba04-03c0a6dff036",
   "metadata": {
    "tags": []
   },
   "outputs": [],
   "source": [
    "df10_17_8.append(emp)"
   ]
  },
  {
   "cell_type": "code",
   "execution_count": 46,
   "id": "46e01938-f15d-4f66-86af-2c7911a2cf72",
   "metadata": {
    "tags": []
   },
   "outputs": [],
   "source": [
    "for df in tail:\n",
    "    df10_17_8.append(df)"
   ]
  },
  {
   "cell_type": "code",
   "execution_count": 47,
   "id": "1d4e446e-c432-434e-8a86-44962ef01f11",
   "metadata": {
    "tags": []
   },
   "outputs": [
    {
     "data": {
      "text/plain": [
       "126"
      ]
     },
     "execution_count": 47,
     "metadata": {},
     "output_type": "execute_result"
    }
   ],
   "source": [
    "len(df10_17_8)"
   ]
  },
  {
   "cell_type": "code",
   "execution_count": 48,
   "id": "fd46452f-2a6f-4e49-9461-e2cdaaedf17e",
   "metadata": {
    "tags": []
   },
   "outputs": [],
   "source": [
    "# df10_17_8[125]"
   ]
  },
  {
   "cell_type": "markdown",
   "id": "ebd0e60e-2256-4987-8d34-ccbf713cb524",
   "metadata": {},
   "source": [
    "# 10-22 전체 데이터 합치기"
   ]
  },
  {
   "cell_type": "markdown",
   "id": "3b352358-5218-481c-bcbf-aeccc268159f",
   "metadata": {},
   "source": [
    "## 날짜로 정렬"
   ]
  },
  {
   "cell_type": "code",
   "execution_count": 49,
   "id": "7c902d59-f62e-449c-92af-949a92e0ad4e",
   "metadata": {
    "tags": []
   },
   "outputs": [
    {
     "data": {
      "text/plain": [
       "(126, 126)"
      ]
     },
     "execution_count": 49,
     "metadata": {},
     "output_type": "execute_result"
    }
   ],
   "source": [
    "len(df1), len(df10_17_8)"
   ]
  },
  {
   "cell_type": "code",
   "execution_count": 50,
   "id": "c3fdeb5e-1ac0-48a4-8744-05f3cb8d442a",
   "metadata": {
    "tags": []
   },
   "outputs": [],
   "source": [
    "df2 = []\n",
    "for df in df1:\n",
    "    df_1 = df.sort_values(by=['rcept_dt'],ascending=True)\n",
    "    df2.append(df_1)"
   ]
  },
  {
   "cell_type": "code",
   "execution_count": 51,
   "id": "16cc83e3-6a7a-4d9c-8459-96ffa504a582",
   "metadata": {
    "tags": []
   },
   "outputs": [],
   "source": [
    "df10_17_9=[]\n",
    "for df in df10_17_8:\n",
    "    df_1 = df.sort_values(by=['rcept_dt'],ascending=True)\n",
    "    df10_17_9.append(df_1)"
   ]
  },
  {
   "cell_type": "code",
   "execution_count": 52,
   "id": "ef548176-9024-4126-9979-0d77f3f354f2",
   "metadata": {
    "tags": []
   },
   "outputs": [],
   "source": [
    "# df10_17_9[0]"
   ]
  },
  {
   "cell_type": "code",
   "execution_count": 53,
   "id": "4b593fa1-349c-4c8b-bdca-10eb41d79267",
   "metadata": {
    "tags": []
   },
   "outputs": [],
   "source": [
    "# df1[0]"
   ]
  },
  {
   "cell_type": "code",
   "execution_count": 54,
   "id": "c7619de1-124e-431f-bf40-bacc04a171eb",
   "metadata": {},
   "outputs": [],
   "source": [
    "df3 = []\n",
    "for i in range(len(df2)):\n",
    "    tmp = pd.concat([df10_17_9[i],df2[i]], axis = 0)\n",
    "    df3.append(tmp)"
   ]
  },
  {
   "cell_type": "code",
   "execution_count": 55,
   "id": "4fd5e109-fe7e-4f9e-a9e0-80f8377e11b8",
   "metadata": {
    "tags": []
   },
   "outputs": [
    {
     "data": {
      "text/plain": [
       "126"
      ]
     },
     "execution_count": 55,
     "metadata": {},
     "output_type": "execute_result"
    }
   ],
   "source": [
    "len(df3)"
   ]
  },
  {
   "cell_type": "code",
   "execution_count": 56,
   "id": "45566d09-ccef-4cbc-beae-617293fd5174",
   "metadata": {
    "tags": []
   },
   "outputs": [
    {
     "data": {
      "text/html": [
       "<div>\n",
       "<style scoped>\n",
       "    .dataframe tbody tr th:only-of-type {\n",
       "        vertical-align: middle;\n",
       "    }\n",
       "\n",
       "    .dataframe tbody tr th {\n",
       "        vertical-align: top;\n",
       "    }\n",
       "\n",
       "    .dataframe thead th {\n",
       "        text-align: right;\n",
       "    }\n",
       "</style>\n",
       "<table border=\"1\" class=\"dataframe\">\n",
       "  <thead>\n",
       "    <tr style=\"text-align: right;\">\n",
       "      <th></th>\n",
       "      <th>corp_name</th>\n",
       "      <th>stock_code</th>\n",
       "      <th>report_nm</th>\n",
       "      <th>rcept_dt</th>\n",
       "      <th>y</th>\n",
       "      <th>positive</th>\n",
       "      <th>negative</th>\n",
       "    </tr>\n",
       "  </thead>\n",
       "  <tbody>\n",
       "    <tr>\n",
       "      <th>353</th>\n",
       "      <td>CMG제약 IR</td>\n",
       "      <td>058820</td>\n",
       "      <td>소송등의판결ㆍ결정</td>\n",
       "      <td>20100118</td>\n",
       "      <td>2010</td>\n",
       "      <td>0.0</td>\n",
       "      <td>0.0</td>\n",
       "    </tr>\n",
       "    <tr>\n",
       "      <th>352</th>\n",
       "      <td>CMG제약 IR</td>\n",
       "      <td>058820</td>\n",
       "      <td>전환가액의조정</td>\n",
       "      <td>20100128</td>\n",
       "      <td>2010</td>\n",
       "      <td>0.0</td>\n",
       "      <td>0.0</td>\n",
       "    </tr>\n",
       "    <tr>\n",
       "      <th>351</th>\n",
       "      <td>CMG제약 IR</td>\n",
       "      <td>058820</td>\n",
       "      <td>[기재정정]사외이사의선임ㆍ해임또는중도퇴임에관한신고</td>\n",
       "      <td>20100204</td>\n",
       "      <td>2010</td>\n",
       "      <td>0.0</td>\n",
       "      <td>-1.0</td>\n",
       "    </tr>\n",
       "    <tr>\n",
       "      <th>350</th>\n",
       "      <td>CMG제약 IR</td>\n",
       "      <td>058820</td>\n",
       "      <td>[기재정정]주요사항보고서(신주인수권부사채권발행결정)</td>\n",
       "      <td>20100218</td>\n",
       "      <td>2010</td>\n",
       "      <td>0.0</td>\n",
       "      <td>0.0</td>\n",
       "    </tr>\n",
       "    <tr>\n",
       "      <th>348</th>\n",
       "      <td>CMG제약 IR</td>\n",
       "      <td>058820</td>\n",
       "      <td>주요사항보고서(소송등의제기)</td>\n",
       "      <td>20100219</td>\n",
       "      <td>2010</td>\n",
       "      <td>0.0</td>\n",
       "      <td>0.0</td>\n",
       "    </tr>\n",
       "    <tr>\n",
       "      <th>...</th>\n",
       "      <td>...</td>\n",
       "      <td>...</td>\n",
       "      <td>...</td>\n",
       "      <td>...</td>\n",
       "      <td>...</td>\n",
       "      <td>...</td>\n",
       "      <td>...</td>\n",
       "    </tr>\n",
       "    <tr>\n",
       "      <th>39</th>\n",
       "      <td>CMG제약</td>\n",
       "      <td>58820</td>\n",
       "      <td>매출액또는손익구조30%(대규모법인은15%)이상변동</td>\n",
       "      <td>20220210</td>\n",
       "      <td>2022</td>\n",
       "      <td>0.0</td>\n",
       "      <td>0.0</td>\n",
       "    </tr>\n",
       "    <tr>\n",
       "      <th>38</th>\n",
       "      <td>CMG제약</td>\n",
       "      <td>58820</td>\n",
       "      <td>소속부변경</td>\n",
       "      <td>20220429</td>\n",
       "      <td>2022</td>\n",
       "      <td>0.0</td>\n",
       "      <td>0.0</td>\n",
       "    </tr>\n",
       "    <tr>\n",
       "      <th>37</th>\n",
       "      <td>CMG제약</td>\n",
       "      <td>58820</td>\n",
       "      <td>기업설명회(IR)개최</td>\n",
       "      <td>20220516</td>\n",
       "      <td>2022</td>\n",
       "      <td>0.0</td>\n",
       "      <td>0.0</td>\n",
       "    </tr>\n",
       "    <tr>\n",
       "      <th>36</th>\n",
       "      <td>CMG제약</td>\n",
       "      <td>58820</td>\n",
       "      <td>주식매수선택권부여에관한신고</td>\n",
       "      <td>20220524</td>\n",
       "      <td>2022</td>\n",
       "      <td>0.0</td>\n",
       "      <td>0.0</td>\n",
       "    </tr>\n",
       "    <tr>\n",
       "      <th>35</th>\n",
       "      <td>CMG제약</td>\n",
       "      <td>58820</td>\n",
       "      <td>주주명부폐쇄기간또는기준일설정</td>\n",
       "      <td>20221214</td>\n",
       "      <td>2022</td>\n",
       "      <td>0.0</td>\n",
       "      <td>0.0</td>\n",
       "    </tr>\n",
       "  </tbody>\n",
       "</table>\n",
       "<p>396 rows × 7 columns</p>\n",
       "</div>"
      ],
      "text/plain": [
       "    corp_name stock_code                     report_nm  rcept_dt     y  \\\n",
       "353  CMG제약 IR     058820                     소송등의판결ㆍ결정  20100118  2010   \n",
       "352  CMG제약 IR     058820                       전환가액의조정  20100128  2010   \n",
       "351  CMG제약 IR     058820   [기재정정]사외이사의선임ㆍ해임또는중도퇴임에관한신고  20100204  2010   \n",
       "350  CMG제약 IR     058820  [기재정정]주요사항보고서(신주인수권부사채권발행결정)  20100218  2010   \n",
       "348  CMG제약 IR     058820               주요사항보고서(소송등의제기)  20100219  2010   \n",
       "..        ...        ...                           ...       ...   ...   \n",
       "39      CMG제약      58820   매출액또는손익구조30%(대규모법인은15%)이상변동  20220210  2022   \n",
       "38      CMG제약      58820                         소속부변경  20220429  2022   \n",
       "37      CMG제약      58820                   기업설명회(IR)개최  20220516  2022   \n",
       "36      CMG제약      58820                주식매수선택권부여에관한신고  20220524  2022   \n",
       "35      CMG제약      58820               주주명부폐쇄기간또는기준일설정  20221214  2022   \n",
       "\n",
       "     positive  negative  \n",
       "353       0.0       0.0  \n",
       "352       0.0       0.0  \n",
       "351       0.0      -1.0  \n",
       "350       0.0       0.0  \n",
       "348       0.0       0.0  \n",
       "..        ...       ...  \n",
       "39        0.0       0.0  \n",
       "38        0.0       0.0  \n",
       "37        0.0       0.0  \n",
       "36        0.0       0.0  \n",
       "35        0.0       0.0  \n",
       "\n",
       "[396 rows x 7 columns]"
      ]
     },
     "execution_count": 56,
     "metadata": {},
     "output_type": "execute_result"
    }
   ],
   "source": [
    "df3[0]"
   ]
  },
  {
   "cell_type": "markdown",
   "id": "94d8c16c-c447-43cf-be2c-fe7fe9735cd8",
   "metadata": {},
   "source": [
    "# 연도별 df"
   ]
  },
  {
   "cell_type": "code",
   "execution_count": 57,
   "id": "81b4ee2d-023d-4bc2-b337-358f6e5dd84c",
   "metadata": {
    "tags": []
   },
   "outputs": [],
   "source": [
    "# df_2010[0]"
   ]
  },
  {
   "cell_type": "code",
   "execution_count": 58,
   "id": "972d9333-abc0-46ee-b4de-9efc8c7d8ed8",
   "metadata": {},
   "outputs": [],
   "source": [
    "df_2010 =[]\n",
    "for df in df3:\n",
    "    tmp = df[df['y']=='2010']\n",
    "    df_2010.append(tmp)"
   ]
  },
  {
   "cell_type": "code",
   "execution_count": 59,
   "id": "13d92f10-4c04-483b-b77f-4b486cb9cd69",
   "metadata": {},
   "outputs": [],
   "source": [
    "df_2011 =[]\n",
    "for df in df3:\n",
    "    tmp = df[df['y']=='2011']\n",
    "    df_2011.append(tmp)"
   ]
  },
  {
   "cell_type": "code",
   "execution_count": 60,
   "id": "dfe7b09e-70c3-41f0-820d-466842cf6e87",
   "metadata": {},
   "outputs": [],
   "source": [
    "df_2012 =[]\n",
    "for df in df3:\n",
    "    tmp = df[df['y']=='2012']\n",
    "    df_2012.append(tmp)"
   ]
  },
  {
   "cell_type": "code",
   "execution_count": 61,
   "id": "267e24c5-2b36-4f3d-be25-0a7a249a4bd6",
   "metadata": {},
   "outputs": [],
   "source": [
    "df_2013 =[]\n",
    "for df in df3:\n",
    "    tmp = df[df['y']=='2013']\n",
    "    df_2013.append(tmp)"
   ]
  },
  {
   "cell_type": "code",
   "execution_count": 62,
   "id": "d1a75e5a-91ed-4bd2-83f6-888887698b85",
   "metadata": {},
   "outputs": [],
   "source": [
    "df_2014 =[]\n",
    "for df in df3:\n",
    "    tmp = df[df['y']=='2014']\n",
    "    df_2014.append(tmp)"
   ]
  },
  {
   "cell_type": "code",
   "execution_count": 63,
   "id": "7ef64bb8-2911-4f81-939e-8b1914db2756",
   "metadata": {},
   "outputs": [],
   "source": [
    "df_2015 =[]\n",
    "for df in df3:\n",
    "    tmp = df[df['y']=='2015']\n",
    "    df_2015.append(tmp)"
   ]
  },
  {
   "cell_type": "code",
   "execution_count": 64,
   "id": "0fd7bfad-d55e-454c-be9a-e92a1939d24a",
   "metadata": {},
   "outputs": [],
   "source": [
    "df_2016 =[]\n",
    "for df in df3:\n",
    "    tmp = df[df['y']=='2016']\n",
    "    df_2016.append(tmp)"
   ]
  },
  {
   "cell_type": "code",
   "execution_count": 65,
   "id": "6dc570df-9111-4170-8ef3-f25c7c4c9ca3",
   "metadata": {},
   "outputs": [],
   "source": [
    "df_2017 =[]\n",
    "for df in df3:\n",
    "    tmp = df[df['y']=='2017']\n",
    "    df_2017.append(tmp)"
   ]
  },
  {
   "cell_type": "code",
   "execution_count": 66,
   "id": "b76a9198-6f0f-4910-a979-076580a70895",
   "metadata": {},
   "outputs": [],
   "source": [
    "df_2018 =[]\n",
    "for df in df3:\n",
    "    tmp = df[df['y']==2018]\n",
    "    df_2018.append(tmp)"
   ]
  },
  {
   "cell_type": "code",
   "execution_count": 67,
   "id": "897b583c-15c4-4a31-9403-a46e0930b796",
   "metadata": {},
   "outputs": [],
   "source": [
    "df_2019 =[]\n",
    "for df in df3:\n",
    "    tmp = df[df['y']==2019]\n",
    "    df_2019.append(tmp)"
   ]
  },
  {
   "cell_type": "code",
   "execution_count": 68,
   "id": "c6db668a-0bf1-46ff-b65a-c385d351a794",
   "metadata": {},
   "outputs": [],
   "source": [
    "df_2020 =[]\n",
    "for df in df3:\n",
    "    tmp = df[df['y']==2020]\n",
    "    df_2020.append(tmp)"
   ]
  },
  {
   "cell_type": "code",
   "execution_count": 69,
   "id": "935f46cc-026f-495b-bdb6-ab3a8bbeda10",
   "metadata": {},
   "outputs": [],
   "source": [
    "df_2021 =[]\n",
    "for df in df3:\n",
    "    tmp = df[df['y']==2021]\n",
    "    df_2021.append(tmp)"
   ]
  },
  {
   "cell_type": "code",
   "execution_count": 70,
   "id": "af3523c4-9cdd-4e50-8e63-0c257d8afe4e",
   "metadata": {
    "tags": []
   },
   "outputs": [],
   "source": [
    "df_2022 =[]\n",
    "for df in df3:\n",
    "    tmp = df[df['y']==2022]\n",
    "    df_2022.append(tmp)"
   ]
  },
  {
   "cell_type": "code",
   "execution_count": 71,
   "id": "98089a54-2210-43a0-82c0-172e24050a00",
   "metadata": {
    "tags": []
   },
   "outputs": [
    {
     "data": {
      "text/html": [
       "<div>\n",
       "<style scoped>\n",
       "    .dataframe tbody tr th:only-of-type {\n",
       "        vertical-align: middle;\n",
       "    }\n",
       "\n",
       "    .dataframe tbody tr th {\n",
       "        vertical-align: top;\n",
       "    }\n",
       "\n",
       "    .dataframe thead th {\n",
       "        text-align: right;\n",
       "    }\n",
       "</style>\n",
       "<table border=\"1\" class=\"dataframe\">\n",
       "  <thead>\n",
       "    <tr style=\"text-align: right;\">\n",
       "      <th></th>\n",
       "      <th>corp_name</th>\n",
       "      <th>stock_code</th>\n",
       "      <th>report_nm</th>\n",
       "      <th>rcept_dt</th>\n",
       "      <th>y</th>\n",
       "      <th>positive</th>\n",
       "      <th>negative</th>\n",
       "    </tr>\n",
       "  </thead>\n",
       "  <tbody>\n",
       "    <tr>\n",
       "      <th>23</th>\n",
       "      <td>CMG제약 IR</td>\n",
       "      <td>058820</td>\n",
       "      <td>[기재정정]매출액또는손익구조30%(대규모법인은15%)이상변동</td>\n",
       "      <td>20170220</td>\n",
       "      <td>2017</td>\n",
       "      <td>0.0</td>\n",
       "      <td>0.0</td>\n",
       "    </tr>\n",
       "    <tr>\n",
       "      <th>22</th>\n",
       "      <td>CMG제약 IR</td>\n",
       "      <td>058820</td>\n",
       "      <td>감사보고서제출</td>\n",
       "      <td>20170313</td>\n",
       "      <td>2017</td>\n",
       "      <td>0.0</td>\n",
       "      <td>0.0</td>\n",
       "    </tr>\n",
       "    <tr>\n",
       "      <th>19</th>\n",
       "      <td>CMG제약 IR</td>\n",
       "      <td>058820</td>\n",
       "      <td>의결권대리행사권유참고서류</td>\n",
       "      <td>20170316</td>\n",
       "      <td>2017</td>\n",
       "      <td>0.0</td>\n",
       "      <td>0.0</td>\n",
       "    </tr>\n",
       "    <tr>\n",
       "      <th>20</th>\n",
       "      <td>CMG제약 IR</td>\n",
       "      <td>058820</td>\n",
       "      <td>주주총회소집공고</td>\n",
       "      <td>20170316</td>\n",
       "      <td>2017</td>\n",
       "      <td>0.0</td>\n",
       "      <td>0.0</td>\n",
       "    </tr>\n",
       "    <tr>\n",
       "      <th>21</th>\n",
       "      <td>CMG제약 IR</td>\n",
       "      <td>058820</td>\n",
       "      <td>주주총회소집결의</td>\n",
       "      <td>20170316</td>\n",
       "      <td>2017</td>\n",
       "      <td>0.0</td>\n",
       "      <td>0.0</td>\n",
       "    </tr>\n",
       "    <tr>\n",
       "      <th>18</th>\n",
       "      <td>CMG제약 IR</td>\n",
       "      <td>058820</td>\n",
       "      <td>정기주주총회결과</td>\n",
       "      <td>20170331</td>\n",
       "      <td>2017</td>\n",
       "      <td>0.0</td>\n",
       "      <td>0.0</td>\n",
       "    </tr>\n",
       "    <tr>\n",
       "      <th>17</th>\n",
       "      <td>CMG제약 IR</td>\n",
       "      <td>058820</td>\n",
       "      <td>사업보고서 (2016.12)</td>\n",
       "      <td>20170331</td>\n",
       "      <td>2017</td>\n",
       "      <td>0.0</td>\n",
       "      <td>0.0</td>\n",
       "    </tr>\n",
       "    <tr>\n",
       "      <th>16</th>\n",
       "      <td>CMG제약 IR</td>\n",
       "      <td>058820</td>\n",
       "      <td>주식매수선택권부여에관한신고</td>\n",
       "      <td>20170331</td>\n",
       "      <td>2017</td>\n",
       "      <td>0.0</td>\n",
       "      <td>0.0</td>\n",
       "    </tr>\n",
       "    <tr>\n",
       "      <th>15</th>\n",
       "      <td>CMG제약 IR</td>\n",
       "      <td>058820</td>\n",
       "      <td>사외이사의선임ㆍ해임또는중도퇴임에관한신고</td>\n",
       "      <td>20170331</td>\n",
       "      <td>2017</td>\n",
       "      <td>0.0</td>\n",
       "      <td>-1.0</td>\n",
       "    </tr>\n",
       "    <tr>\n",
       "      <th>14</th>\n",
       "      <td>CMG제약 IR</td>\n",
       "      <td>058820</td>\n",
       "      <td>소속부변경</td>\n",
       "      <td>20170428</td>\n",
       "      <td>2017</td>\n",
       "      <td>0.0</td>\n",
       "      <td>0.0</td>\n",
       "    </tr>\n",
       "    <tr>\n",
       "      <th>13</th>\n",
       "      <td>CMG제약 IR</td>\n",
       "      <td>058820</td>\n",
       "      <td>임원ㆍ주요주주특정증권등소유상황보고서</td>\n",
       "      <td>20170504</td>\n",
       "      <td>2017</td>\n",
       "      <td>0.0</td>\n",
       "      <td>0.0</td>\n",
       "    </tr>\n",
       "    <tr>\n",
       "      <th>12</th>\n",
       "      <td>CMG제약 IR</td>\n",
       "      <td>058820</td>\n",
       "      <td>임원ㆍ주요주주특정증권등소유상황보고서</td>\n",
       "      <td>20170504</td>\n",
       "      <td>2017</td>\n",
       "      <td>0.0</td>\n",
       "      <td>0.0</td>\n",
       "    </tr>\n",
       "    <tr>\n",
       "      <th>11</th>\n",
       "      <td>CMG제약 IR</td>\n",
       "      <td>058820</td>\n",
       "      <td>분기보고서 (2017.03)</td>\n",
       "      <td>20170515</td>\n",
       "      <td>2017</td>\n",
       "      <td>0.0</td>\n",
       "      <td>0.0</td>\n",
       "    </tr>\n",
       "    <tr>\n",
       "      <th>10</th>\n",
       "      <td>CMG제약 IR</td>\n",
       "      <td>058820</td>\n",
       "      <td>임원ㆍ주요주주특정증권등소유상황보고서</td>\n",
       "      <td>20170614</td>\n",
       "      <td>2017</td>\n",
       "      <td>0.0</td>\n",
       "      <td>0.0</td>\n",
       "    </tr>\n",
       "    <tr>\n",
       "      <th>9</th>\n",
       "      <td>CMG제약 IR</td>\n",
       "      <td>058820</td>\n",
       "      <td>반기보고서 (2017.06)</td>\n",
       "      <td>20170811</td>\n",
       "      <td>2017</td>\n",
       "      <td>0.0</td>\n",
       "      <td>0.0</td>\n",
       "    </tr>\n",
       "    <tr>\n",
       "      <th>8</th>\n",
       "      <td>CMG제약 IR</td>\n",
       "      <td>058820</td>\n",
       "      <td>조회공시요구(현저한시황변동) (주가급등)</td>\n",
       "      <td>20171108</td>\n",
       "      <td>2017</td>\n",
       "      <td>0.0</td>\n",
       "      <td>0.0</td>\n",
       "    </tr>\n",
       "    <tr>\n",
       "      <th>7</th>\n",
       "      <td>CMG제약 IR</td>\n",
       "      <td>058820</td>\n",
       "      <td>조회공시요구(현저한시황변동)에대한답변(중요정보없음)</td>\n",
       "      <td>20171109</td>\n",
       "      <td>2017</td>\n",
       "      <td>0.0</td>\n",
       "      <td>0.0</td>\n",
       "    </tr>\n",
       "    <tr>\n",
       "      <th>6</th>\n",
       "      <td>CMG제약 IR</td>\n",
       "      <td>058820</td>\n",
       "      <td>분기보고서 (2017.09)</td>\n",
       "      <td>20171114</td>\n",
       "      <td>2017</td>\n",
       "      <td>0.0</td>\n",
       "      <td>0.0</td>\n",
       "    </tr>\n",
       "    <tr>\n",
       "      <th>5</th>\n",
       "      <td>CMG제약 IR</td>\n",
       "      <td>058820</td>\n",
       "      <td>임원ㆍ주요주주특정증권등소유상황보고서</td>\n",
       "      <td>20171129</td>\n",
       "      <td>2017</td>\n",
       "      <td>0.0</td>\n",
       "      <td>0.0</td>\n",
       "    </tr>\n",
       "    <tr>\n",
       "      <th>4</th>\n",
       "      <td>CMG제약 IR</td>\n",
       "      <td>058820</td>\n",
       "      <td>임원ㆍ주요주주특정증권등소유상황보고서</td>\n",
       "      <td>20171129</td>\n",
       "      <td>2017</td>\n",
       "      <td>0.0</td>\n",
       "      <td>0.0</td>\n",
       "    </tr>\n",
       "    <tr>\n",
       "      <th>3</th>\n",
       "      <td>CMG제약 IR</td>\n",
       "      <td>058820</td>\n",
       "      <td>임원ㆍ주요주주특정증권등소유상황보고서</td>\n",
       "      <td>20171129</td>\n",
       "      <td>2017</td>\n",
       "      <td>0.0</td>\n",
       "      <td>0.0</td>\n",
       "    </tr>\n",
       "    <tr>\n",
       "      <th>2</th>\n",
       "      <td>CMG제약 IR</td>\n",
       "      <td>058820</td>\n",
       "      <td>임원ㆍ주요주주특정증권등소유상황보고서</td>\n",
       "      <td>20171206</td>\n",
       "      <td>2017</td>\n",
       "      <td>0.0</td>\n",
       "      <td>0.0</td>\n",
       "    </tr>\n",
       "    <tr>\n",
       "      <th>1</th>\n",
       "      <td>CMG제약 IR</td>\n",
       "      <td>058820</td>\n",
       "      <td>임원ㆍ주요주주특정증권등소유상황보고서</td>\n",
       "      <td>20171206</td>\n",
       "      <td>2017</td>\n",
       "      <td>0.0</td>\n",
       "      <td>0.0</td>\n",
       "    </tr>\n",
       "    <tr>\n",
       "      <th>0</th>\n",
       "      <td>CMG제약 IR</td>\n",
       "      <td>058820</td>\n",
       "      <td>주주명부폐쇄기간또는기준일설정</td>\n",
       "      <td>20171212</td>\n",
       "      <td>2017</td>\n",
       "      <td>0.0</td>\n",
       "      <td>0.0</td>\n",
       "    </tr>\n",
       "  </tbody>\n",
       "</table>\n",
       "</div>"
      ],
      "text/plain": [
       "   corp_name stock_code                          report_nm  rcept_dt     y  \\\n",
       "23  CMG제약 IR     058820  [기재정정]매출액또는손익구조30%(대규모법인은15%)이상변동  20170220  2017   \n",
       "22  CMG제약 IR     058820                            감사보고서제출  20170313  2017   \n",
       "19  CMG제약 IR     058820                      의결권대리행사권유참고서류  20170316  2017   \n",
       "20  CMG제약 IR     058820                           주주총회소집공고  20170316  2017   \n",
       "21  CMG제약 IR     058820                           주주총회소집결의  20170316  2017   \n",
       "18  CMG제약 IR     058820                           정기주주총회결과  20170331  2017   \n",
       "17  CMG제약 IR     058820                    사업보고서 (2016.12)  20170331  2017   \n",
       "16  CMG제약 IR     058820                     주식매수선택권부여에관한신고  20170331  2017   \n",
       "15  CMG제약 IR     058820              사외이사의선임ㆍ해임또는중도퇴임에관한신고  20170331  2017   \n",
       "14  CMG제약 IR     058820                              소속부변경  20170428  2017   \n",
       "13  CMG제약 IR     058820                임원ㆍ주요주주특정증권등소유상황보고서  20170504  2017   \n",
       "12  CMG제약 IR     058820                임원ㆍ주요주주특정증권등소유상황보고서  20170504  2017   \n",
       "11  CMG제약 IR     058820                    분기보고서 (2017.03)  20170515  2017   \n",
       "10  CMG제약 IR     058820                임원ㆍ주요주주특정증권등소유상황보고서  20170614  2017   \n",
       "9   CMG제약 IR     058820                    반기보고서 (2017.06)  20170811  2017   \n",
       "8   CMG제약 IR     058820             조회공시요구(현저한시황변동) (주가급등)  20171108  2017   \n",
       "7   CMG제약 IR     058820       조회공시요구(현저한시황변동)에대한답변(중요정보없음)  20171109  2017   \n",
       "6   CMG제약 IR     058820                    분기보고서 (2017.09)  20171114  2017   \n",
       "5   CMG제약 IR     058820                임원ㆍ주요주주특정증권등소유상황보고서  20171129  2017   \n",
       "4   CMG제약 IR     058820                임원ㆍ주요주주특정증권등소유상황보고서  20171129  2017   \n",
       "3   CMG제약 IR     058820                임원ㆍ주요주주특정증권등소유상황보고서  20171129  2017   \n",
       "2   CMG제약 IR     058820                임원ㆍ주요주주특정증권등소유상황보고서  20171206  2017   \n",
       "1   CMG제약 IR     058820                임원ㆍ주요주주특정증권등소유상황보고서  20171206  2017   \n",
       "0   CMG제약 IR     058820                    주주명부폐쇄기간또는기준일설정  20171212  2017   \n",
       "\n",
       "    positive  negative  \n",
       "23       0.0       0.0  \n",
       "22       0.0       0.0  \n",
       "19       0.0       0.0  \n",
       "20       0.0       0.0  \n",
       "21       0.0       0.0  \n",
       "18       0.0       0.0  \n",
       "17       0.0       0.0  \n",
       "16       0.0       0.0  \n",
       "15       0.0      -1.0  \n",
       "14       0.0       0.0  \n",
       "13       0.0       0.0  \n",
       "12       0.0       0.0  \n",
       "11       0.0       0.0  \n",
       "10       0.0       0.0  \n",
       "9        0.0       0.0  \n",
       "8        0.0       0.0  \n",
       "7        0.0       0.0  \n",
       "6        0.0       0.0  \n",
       "5        0.0       0.0  \n",
       "4        0.0       0.0  \n",
       "3        0.0       0.0  \n",
       "2        0.0       0.0  \n",
       "1        0.0       0.0  \n",
       "0        0.0       0.0  "
      ]
     },
     "execution_count": 71,
     "metadata": {},
     "output_type": "execute_result"
    }
   ],
   "source": [
    "df_2017[0]"
   ]
  },
  {
   "cell_type": "markdown",
   "id": "4de337bb-5b6a-4406-8cc0-ad9e1aa2ac35",
   "metadata": {},
   "source": [
    "# 연도별 리스트"
   ]
  },
  {
   "cell_type": "markdown",
   "id": "22537af5-b20c-40b2-97ba-acc7bb194647",
   "metadata": {},
   "source": [
    "## positive"
   ]
  },
  {
   "cell_type": "code",
   "execution_count": 74,
   "id": "40d149ba-3725-4260-96c6-e448c05b99cd",
   "metadata": {
    "tags": []
   },
   "outputs": [
    {
     "data": {
      "text/html": [
       "<div>\n",
       "<style scoped>\n",
       "    .dataframe tbody tr th:only-of-type {\n",
       "        vertical-align: middle;\n",
       "    }\n",
       "\n",
       "    .dataframe tbody tr th {\n",
       "        vertical-align: top;\n",
       "    }\n",
       "\n",
       "    .dataframe thead th {\n",
       "        text-align: right;\n",
       "    }\n",
       "</style>\n",
       "<table border=\"1\" class=\"dataframe\">\n",
       "  <thead>\n",
       "    <tr style=\"text-align: right;\">\n",
       "      <th></th>\n",
       "      <th>corp_name</th>\n",
       "      <th>stock_code</th>\n",
       "      <th>report_nm</th>\n",
       "      <th>rcept_dt</th>\n",
       "      <th>y</th>\n",
       "      <th>positive</th>\n",
       "      <th>negative</th>\n",
       "    </tr>\n",
       "  </thead>\n",
       "  <tbody>\n",
       "    <tr>\n",
       "      <th>353</th>\n",
       "      <td>CMG제약 IR</td>\n",
       "      <td>058820</td>\n",
       "      <td>소송등의판결ㆍ결정</td>\n",
       "      <td>20100118</td>\n",
       "      <td>2010</td>\n",
       "      <td>0.0</td>\n",
       "      <td>0.0</td>\n",
       "    </tr>\n",
       "    <tr>\n",
       "      <th>352</th>\n",
       "      <td>CMG제약 IR</td>\n",
       "      <td>058820</td>\n",
       "      <td>전환가액의조정</td>\n",
       "      <td>20100128</td>\n",
       "      <td>2010</td>\n",
       "      <td>0.0</td>\n",
       "      <td>0.0</td>\n",
       "    </tr>\n",
       "  </tbody>\n",
       "</table>\n",
       "</div>"
      ],
      "text/plain": [
       "    corp_name stock_code  report_nm  rcept_dt     y  positive  negative\n",
       "353  CMG제약 IR     058820  소송등의판결ㆍ결정  20100118  2010       0.0       0.0\n",
       "352  CMG제약 IR     058820    전환가액의조정  20100128  2010       0.0       0.0"
      ]
     },
     "execution_count": 74,
     "metadata": {},
     "output_type": "execute_result"
    }
   ],
   "source": [
    "df_2010[0].head(2)"
   ]
  },
  {
   "cell_type": "code",
   "execution_count": 76,
   "id": "e8569c68-11fc-4982-b7bf-78dffdd5db4b",
   "metadata": {
    "tags": []
   },
   "outputs": [],
   "source": [
    "pos_2010 = []\n",
    "for df in df_2010:\n",
    "    pos_2010.append(np.sum(df['positive']))"
   ]
  },
  {
   "cell_type": "code",
   "execution_count": 77,
   "id": "03ca11b7-2766-44d3-9046-38cc48458081",
   "metadata": {
    "tags": []
   },
   "outputs": [
    {
     "data": {
      "text/plain": [
       "126"
      ]
     },
     "execution_count": 77,
     "metadata": {},
     "output_type": "execute_result"
    }
   ],
   "source": [
    "len(pos_2010)"
   ]
  },
  {
   "cell_type": "code",
   "execution_count": 78,
   "id": "05ee6fa9-26d6-44aa-8903-25a46f4cbdd0",
   "metadata": {
    "tags": []
   },
   "outputs": [],
   "source": [
    "pos_2011 = []\n",
    "for df in df_2011:\n",
    "    pos_2011.append(np.sum(df['positive']))"
   ]
  },
  {
   "cell_type": "code",
   "execution_count": 79,
   "id": "2c25f962-b296-44d9-bc62-c56e4d09f0d4",
   "metadata": {
    "tags": []
   },
   "outputs": [],
   "source": [
    "pos_2012 = []\n",
    "for df in df_2012:\n",
    "    pos_2012.append(np.sum(df['positive']))"
   ]
  },
  {
   "cell_type": "code",
   "execution_count": 80,
   "id": "b57fdf4f-11d4-46d7-beb2-9554771a139b",
   "metadata": {
    "tags": []
   },
   "outputs": [],
   "source": [
    "pos_2013 = []\n",
    "for df in df_2013:\n",
    "    pos_2013.append(np.sum(df['positive']))"
   ]
  },
  {
   "cell_type": "code",
   "execution_count": 81,
   "id": "5fdc5a18-1b5b-4122-8a43-559ef5bb3222",
   "metadata": {
    "tags": []
   },
   "outputs": [],
   "source": [
    "pos_2014 = []\n",
    "for df in df_2014:\n",
    "    pos_2014.append(np.sum(df['positive']))"
   ]
  },
  {
   "cell_type": "code",
   "execution_count": 83,
   "id": "f04db80e-5ae2-4183-8397-28de066ae61e",
   "metadata": {
    "tags": []
   },
   "outputs": [],
   "source": [
    "pos_2015 = []\n",
    "for df in df_2015:\n",
    "    pos_2015.append(np.sum(df['positive']))"
   ]
  },
  {
   "cell_type": "code",
   "execution_count": 82,
   "id": "146be1d9-6840-4988-9f07-3602e90204d6",
   "metadata": {
    "tags": []
   },
   "outputs": [],
   "source": [
    "pos_2016 = []\n",
    "for df in df_2016:\n",
    "    pos_2016.append(np.sum(df['positive']))"
   ]
  },
  {
   "cell_type": "code",
   "execution_count": 84,
   "id": "15539fb3-ba93-420f-8515-2254d4865779",
   "metadata": {
    "tags": []
   },
   "outputs": [],
   "source": [
    "pos_2017 = []\n",
    "for df in df_2017:\n",
    "    pos_2017.append(np.sum(df['positive']))"
   ]
  },
  {
   "cell_type": "code",
   "execution_count": 85,
   "id": "01849cce-21be-4484-9e07-848bb9195e1a",
   "metadata": {
    "tags": []
   },
   "outputs": [],
   "source": [
    "pos_2018 = []\n",
    "for df in df_2018:\n",
    "    pos_2018.append(np.sum(df['positive']))"
   ]
  },
  {
   "cell_type": "code",
   "execution_count": 86,
   "id": "a2121b8d-dcbf-4456-8ce8-1a4265ab1923",
   "metadata": {
    "tags": []
   },
   "outputs": [],
   "source": [
    "pos_2019 = []\n",
    "for df in df_2019:\n",
    "    pos_2019.append(np.sum(df['positive']))"
   ]
  },
  {
   "cell_type": "code",
   "execution_count": 87,
   "id": "77812ec4-c8f9-4228-bb97-fe73bbd009af",
   "metadata": {
    "tags": []
   },
   "outputs": [],
   "source": [
    "pos_2020 = []\n",
    "for df in df_2020:\n",
    "    pos_2020.append(np.sum(df['positive']))"
   ]
  },
  {
   "cell_type": "code",
   "execution_count": 88,
   "id": "72c7886e-42c3-4b66-b519-faafd90256b7",
   "metadata": {
    "tags": []
   },
   "outputs": [],
   "source": [
    "pos_2021 = []\n",
    "for df in df_2021:\n",
    "    pos_2021.append(np.sum(df['positive']))"
   ]
  },
  {
   "cell_type": "code",
   "execution_count": 91,
   "id": "d9f0e7fb-f4d6-403a-8b41-027578e34e59",
   "metadata": {
    "tags": []
   },
   "outputs": [],
   "source": [
    "pos_2022 = []\n",
    "for df in df_2022:\n",
    "    pos_2022.append(np.sum(df['positive']))"
   ]
  },
  {
   "cell_type": "code",
   "execution_count": 111,
   "id": "7a9ddb64-3c55-48b2-b257-aa2f53aa6ccb",
   "metadata": {
    "tags": []
   },
   "outputs": [
    {
     "data": {
      "text/plain": [
       "0          NaN\n",
       "1        CMG제약\n",
       "2          HLB\n",
       "3      HLB생명과학\n",
       "4       JW생명과학\n",
       "        ...   \n",
       "122       휴마시스\n",
       "123       휴메딕스\n",
       "124        휴비츠\n",
       "125        휴온스\n",
       "126     휴온스글로벌\n",
       "Name: name, Length: 127, dtype: object"
      ]
     },
     "execution_count": 111,
     "metadata": {},
     "output_type": "execute_result"
    }
   ],
   "source": [
    "ticker['name']"
   ]
  },
  {
   "cell_type": "code",
   "execution_count": 113,
   "id": "ef85fe3f-3a6a-4813-b48e-7d49eb57b367",
   "metadata": {
    "tags": []
   },
   "outputs": [],
   "source": [
    "df_pos = pd.DataFrame({'pos_2010':pos_2010,'pos_2011':pos_2011,'pos_2012':pos_2012,'pos_2013':pos_2013\n",
    "                       ,'pos_2014':pos_2014,'pos_2015':pos_2015,'pos_2016':pos_2016,'pos_2017':pos_2017,'pos_2018':pos_2018\n",
    "                       ,'pos_2019':pos_2019,'pos_2020':pos_2020,'pos_2021':pos_2021,'pos_2022':pos_2022}, index = ticker['name'][1:])"
   ]
  },
  {
   "cell_type": "code",
   "execution_count": 117,
   "id": "f0195fd8-bf73-432c-8f21-2a3706a47c1e",
   "metadata": {
    "tags": []
   },
   "outputs": [],
   "source": [
    "df_pos.to_csv('../데이터/공시정보/df_pos.csv')"
   ]
  },
  {
   "cell_type": "markdown",
   "id": "0294f98f-a6ec-4516-aa45-52900a9f9044",
   "metadata": {},
   "source": [
    "## negative"
   ]
  },
  {
   "cell_type": "code",
   "execution_count": 92,
   "id": "16bc85c6-391a-40ce-8fa3-9ffa0b5bfcd1",
   "metadata": {
    "tags": []
   },
   "outputs": [],
   "source": [
    "neg_2010 = []\n",
    "for df in df_2010:\n",
    "    neg_2010.append(np.sum(df['negative']))"
   ]
  },
  {
   "cell_type": "code",
   "execution_count": 93,
   "id": "982c187b-39f0-4e68-8d64-2502ae7a7d0b",
   "metadata": {
    "tags": []
   },
   "outputs": [
    {
     "data": {
      "text/plain": [
       "126"
      ]
     },
     "execution_count": 93,
     "metadata": {},
     "output_type": "execute_result"
    }
   ],
   "source": [
    "len(pos_2010)"
   ]
  },
  {
   "cell_type": "code",
   "execution_count": 94,
   "id": "82819a8a-dc8a-46a6-8173-0f7135d6a993",
   "metadata": {
    "tags": []
   },
   "outputs": [],
   "source": [
    "neg_2011 = []\n",
    "for df in df_2011:\n",
    "    neg_2011.append(np.sum(df['negative']))"
   ]
  },
  {
   "cell_type": "code",
   "execution_count": 95,
   "id": "7e647eff-f8f8-4dea-a7ea-9b771a0614b3",
   "metadata": {
    "tags": []
   },
   "outputs": [],
   "source": [
    "neg_2012 = []\n",
    "for df in df_2012:\n",
    "    neg_2012.append(np.sum(df['negative']))"
   ]
  },
  {
   "cell_type": "code",
   "execution_count": 96,
   "id": "2fc0e908-67a0-426c-b0c5-43dbcd9a0ff4",
   "metadata": {
    "tags": []
   },
   "outputs": [],
   "source": [
    "neg_2013 = []\n",
    "for df in df_2013:\n",
    "    neg_2013.append(np.sum(df['negative']))"
   ]
  },
  {
   "cell_type": "code",
   "execution_count": 97,
   "id": "3228cbe6-e0a5-4040-8e92-5271774cd055",
   "metadata": {
    "tags": []
   },
   "outputs": [],
   "source": [
    "neg_2014 = []\n",
    "for df in df_2014:\n",
    "    neg_2014.append(np.sum(df['negative']))"
   ]
  },
  {
   "cell_type": "code",
   "execution_count": 98,
   "id": "0e842627-25ea-436a-9bd7-fee14e0c549d",
   "metadata": {
    "tags": []
   },
   "outputs": [],
   "source": [
    "neg_2015 = []\n",
    "for df in df_2015:\n",
    "    neg_2015.append(np.sum(df['negative']))"
   ]
  },
  {
   "cell_type": "code",
   "execution_count": 99,
   "id": "dc4239ed-8dce-40d0-9622-d58382119df9",
   "metadata": {
    "tags": []
   },
   "outputs": [],
   "source": [
    "neg_2016 = []\n",
    "for df in df_2016:\n",
    "    neg_2016.append(np.sum(df['negative']))"
   ]
  },
  {
   "cell_type": "code",
   "execution_count": 100,
   "id": "0d64326e-bf32-470c-a65e-9cab8265760d",
   "metadata": {
    "tags": []
   },
   "outputs": [],
   "source": [
    "neg_2017 = []\n",
    "for df in df_2017:\n",
    "    neg_2017.append(np.sum(df['negative']))"
   ]
  },
  {
   "cell_type": "code",
   "execution_count": 101,
   "id": "084196bb-5e75-47db-ac88-3e700b5c586c",
   "metadata": {
    "tags": []
   },
   "outputs": [],
   "source": [
    "neg_2018 = []\n",
    "for df in df_2018:\n",
    "    neg_2018.append(np.sum(df['negative']))"
   ]
  },
  {
   "cell_type": "code",
   "execution_count": 102,
   "id": "34e71bdd-e836-4fc3-842c-63846a51d31b",
   "metadata": {
    "tags": []
   },
   "outputs": [],
   "source": [
    "neg_2019 = []\n",
    "for df in df_2019:\n",
    "    neg_2019.append(np.sum(df['negative']))"
   ]
  },
  {
   "cell_type": "code",
   "execution_count": 103,
   "id": "7e8c451c-5ab4-424e-b8f1-a62d99e6d5fe",
   "metadata": {
    "tags": []
   },
   "outputs": [],
   "source": [
    "neg_2020 = []\n",
    "for df in df_2020:\n",
    "    neg_2020.append(np.sum(df['negative']))"
   ]
  },
  {
   "cell_type": "code",
   "execution_count": 104,
   "id": "dfc43ebe-cb61-4c9a-afab-cea2dfca89b0",
   "metadata": {
    "tags": []
   },
   "outputs": [],
   "source": [
    "neg_2021 = []\n",
    "for df in df_2021:\n",
    "    neg_2021.append(np.sum(df['negative']))"
   ]
  },
  {
   "cell_type": "code",
   "execution_count": 105,
   "id": "516e2132-63f4-44d1-b348-8d743c75aaf1",
   "metadata": {
    "tags": []
   },
   "outputs": [],
   "source": [
    "neg_2022 = []\n",
    "for df in df_2022:\n",
    "    neg_2022.append(np.sum(df['negative']))"
   ]
  },
  {
   "cell_type": "code",
   "execution_count": 122,
   "id": "bd5f644d-afd3-43da-a6e9-b473abd15622",
   "metadata": {
    "tags": []
   },
   "outputs": [],
   "source": [
    "df_neg = pd.DataFrame({'neg_2010':neg_2010,'neg_2011':neg_2011,'neg_2012':neg_2012,'neg_2013':neg_2013,'neg_2014':neg_2014\n",
    "                       ,'neg_2015':neg_2015,'neg_2016':neg_2016,'neg_2017':neg_2017,'neg_2018':neg_2018,'neg_2019':neg_2019\n",
    "                       ,'neg_2020':neg_2020,'neg_2021':neg_2021,'neg_2022':neg_2022}, index = ticker['name'][1:])"
   ]
  },
  {
   "cell_type": "code",
   "execution_count": 123,
   "id": "9a60e0a0-814e-4782-bf93-3edb925f04ac",
   "metadata": {
    "tags": []
   },
   "outputs": [],
   "source": [
    "df_neg.to_csv('../데이터/공시정보/df_neg.csv')"
   ]
  },
  {
   "cell_type": "code",
   "execution_count": null,
   "id": "e2b27942-a44c-461d-8f08-9cb2a1fea111",
   "metadata": {},
   "outputs": [],
   "source": []
  }
 ],
 "metadata": {
  "kernelspec": {
   "display_name": "Python 3 (ipykernel)",
   "language": "python",
   "name": "python3"
  },
  "language_info": {
   "codemirror_mode": {
    "name": "ipython",
    "version": 3
   },
   "file_extension": ".py",
   "mimetype": "text/x-python",
   "name": "python",
   "nbconvert_exporter": "python",
   "pygments_lexer": "ipython3",
   "version": "3.8.8"
  }
 },
 "nbformat": 4,
 "nbformat_minor": 5
}
