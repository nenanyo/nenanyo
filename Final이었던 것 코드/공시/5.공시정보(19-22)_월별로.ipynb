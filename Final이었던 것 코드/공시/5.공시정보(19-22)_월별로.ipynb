{
 "cells": [
  {
   "cell_type": "code",
   "execution_count": 1,
   "id": "05206919-4c7c-4888-87a8-b2dbdf1b1032",
   "metadata": {
    "tags": []
   },
   "outputs": [],
   "source": [
    "import pandas as pd\n",
    "import numpy as np\n",
    "import matplotlib.pyplot as plt\n",
    "import warnings\n",
    "warnings.filterwarnings(action='ignore')"
   ]
  },
  {
   "cell_type": "markdown",
   "id": "46434d82-eecc-45fb-94af-ba08b63e5726",
   "metadata": {},
   "source": [
    "# 데이터 로드"
   ]
  },
  {
   "cell_type": "code",
   "execution_count": 2,
   "id": "2710991d-fd2a-418b-9a62-419b7051f782",
   "metadata": {
    "tags": []
   },
   "outputs": [],
   "source": [
    "ticker_df = pd.read_csv('../데이터/최종기업ticker.csv', names = ['names','ticker'])\n",
    "ticker_df = ticker_df.dropna()"
   ]
  },
  {
   "cell_type": "code",
   "execution_count": 3,
   "id": "7a84cb6d-4975-4b65-9e6a-c15cfca9158a",
   "metadata": {},
   "outputs": [],
   "source": [
    "df_list =[]\n",
    "for i in range(len(ticker_df)):\n",
    "    name = ticker_df['names'][i+1]\n",
    "    df_i = pd.read_csv(f'../데이터/공시정보/공시정보_csv/{name}.csv')\n",
    "    df_list.append(df_i)\n",
    "    "
   ]
  },
  {
   "cell_type": "code",
   "execution_count": 4,
   "id": "75031950-e17c-4f6a-a7ba-4d6fe05f4382",
   "metadata": {
    "tags": []
   },
   "outputs": [
    {
     "name": "stdout",
     "output_type": "stream",
     "text": [
      "<class 'pandas.core.frame.DataFrame'>\n",
      "RangeIndex: 42 entries, 0 to 41\n",
      "Data columns (total 7 columns):\n",
      " #   Column      Non-Null Count  Dtype  \n",
      "---  ------      --------------  -----  \n",
      " 0   corp_name   42 non-null     object \n",
      " 1   stock_code  42 non-null     int64  \n",
      " 2   report_nm   42 non-null     object \n",
      " 3   rcept_dt    42 non-null     int64  \n",
      " 4   y           42 non-null     int64  \n",
      " 5   positive    42 non-null     float64\n",
      " 6   negative    42 non-null     float64\n",
      "dtypes: float64(2), int64(3), object(2)\n",
      "memory usage: 2.4+ KB\n"
     ]
    }
   ],
   "source": [
    "df_list[0].info()"
   ]
  },
  {
   "cell_type": "code",
   "execution_count": 5,
   "id": "198aac19-0fc9-4059-b059-5b119706b117",
   "metadata": {},
   "outputs": [],
   "source": [
    "df_list2 = []\n",
    "for df in  df_list:\n",
    "    # df.insert(4,'y',0)\n",
    "    df = df.astype('str')\n",
    "    for i,dt in enumerate(df['rcept_dt']):\n",
    "        df.loc[i,'m'] = dt[4:6]\n",
    "    df_list2.append(df)"
   ]
  },
  {
   "cell_type": "code",
   "execution_count": 6,
   "id": "755114f1-7a15-43cb-a522-e4a594a51f87",
   "metadata": {
    "tags": []
   },
   "outputs": [
    {
     "data": {
      "text/html": [
       "<div>\n",
       "<style scoped>\n",
       "    .dataframe tbody tr th:only-of-type {\n",
       "        vertical-align: middle;\n",
       "    }\n",
       "\n",
       "    .dataframe tbody tr th {\n",
       "        vertical-align: top;\n",
       "    }\n",
       "\n",
       "    .dataframe thead th {\n",
       "        text-align: right;\n",
       "    }\n",
       "</style>\n",
       "<table border=\"1\" class=\"dataframe\">\n",
       "  <thead>\n",
       "    <tr style=\"text-align: right;\">\n",
       "      <th></th>\n",
       "      <th>corp_name</th>\n",
       "      <th>stock_code</th>\n",
       "      <th>report_nm</th>\n",
       "      <th>rcept_dt</th>\n",
       "      <th>y</th>\n",
       "      <th>positive</th>\n",
       "      <th>negative</th>\n",
       "      <th>m</th>\n",
       "    </tr>\n",
       "  </thead>\n",
       "  <tbody>\n",
       "    <tr>\n",
       "      <th>0</th>\n",
       "      <td>CMG제약</td>\n",
       "      <td>58820</td>\n",
       "      <td>주주명부폐쇄기간또는기준일설정</td>\n",
       "      <td>20181213</td>\n",
       "      <td>2018</td>\n",
       "      <td>0.0</td>\n",
       "      <td>0.0</td>\n",
       "      <td>12</td>\n",
       "    </tr>\n",
       "    <tr>\n",
       "      <th>1</th>\n",
       "      <td>CMG제약</td>\n",
       "      <td>58820</td>\n",
       "      <td>소속부변경</td>\n",
       "      <td>20180430</td>\n",
       "      <td>2018</td>\n",
       "      <td>1.0</td>\n",
       "      <td>0.0</td>\n",
       "      <td>04</td>\n",
       "    </tr>\n",
       "  </tbody>\n",
       "</table>\n",
       "</div>"
      ],
      "text/plain": [
       "  corp_name stock_code        report_nm  rcept_dt     y positive negative   m\n",
       "0     CMG제약      58820  주주명부폐쇄기간또는기준일설정  20181213  2018      0.0      0.0  12\n",
       "1     CMG제약      58820            소속부변경  20180430  2018      1.0      0.0  04"
      ]
     },
     "execution_count": 6,
     "metadata": {},
     "output_type": "execute_result"
    }
   ],
   "source": [
    "df_list2[0].head(2)"
   ]
  },
  {
   "cell_type": "markdown",
   "id": "4a196254-928b-4e16-8fe2-075e9eaf0dd1",
   "metadata": {},
   "source": [
    "# drop"
   ]
  },
  {
   "cell_type": "code",
   "execution_count": 7,
   "id": "20948ffd-714e-4335-aa73-166c4dbdd0f8",
   "metadata": {},
   "outputs": [
    {
     "name": "stdout",
     "output_type": "stream",
     "text": [
      "<class 'pandas.core.frame.DataFrame'>\n",
      "RangeIndex: 42 entries, 0 to 41\n",
      "Data columns (total 8 columns):\n",
      " #   Column      Non-Null Count  Dtype \n",
      "---  ------      --------------  ----- \n",
      " 0   corp_name   42 non-null     object\n",
      " 1   stock_code  42 non-null     object\n",
      " 2   report_nm   42 non-null     object\n",
      " 3   rcept_dt    42 non-null     object\n",
      " 4   y           42 non-null     object\n",
      " 5   positive    42 non-null     object\n",
      " 6   negative    42 non-null     object\n",
      " 7   m           42 non-null     object\n",
      "dtypes: object(8)\n",
      "memory usage: 2.8+ KB\n"
     ]
    }
   ],
   "source": [
    "df_list2[0].info()"
   ]
  },
  {
   "cell_type": "code",
   "execution_count": 8,
   "id": "fd07cbf5-09a9-45c1-8af1-2624c0c0af97",
   "metadata": {},
   "outputs": [],
   "source": [
    "# df_list3[0]['report_nm'][:3].str"
   ]
  },
  {
   "cell_type": "code",
   "execution_count": 9,
   "id": "e2e09f00-f144-4ba7-9794-1ae2ab899063",
   "metadata": {},
   "outputs": [
    {
     "data": {
      "text/html": [
       "<div>\n",
       "<style scoped>\n",
       "    .dataframe tbody tr th:only-of-type {\n",
       "        vertical-align: middle;\n",
       "    }\n",
       "\n",
       "    .dataframe tbody tr th {\n",
       "        vertical-align: top;\n",
       "    }\n",
       "\n",
       "    .dataframe thead th {\n",
       "        text-align: right;\n",
       "    }\n",
       "</style>\n",
       "<table border=\"1\" class=\"dataframe\">\n",
       "  <thead>\n",
       "    <tr style=\"text-align: right;\">\n",
       "      <th></th>\n",
       "      <th>df</th>\n",
       "      <th>row</th>\n",
       "    </tr>\n",
       "  </thead>\n",
       "  <tbody>\n",
       "  </tbody>\n",
       "</table>\n",
       "</div>"
      ],
      "text/plain": [
       "Empty DataFrame\n",
       "Columns: [df, row]\n",
       "Index: []"
      ]
     },
     "execution_count": 9,
     "metadata": {},
     "output_type": "execute_result"
    }
   ],
   "source": [
    "drop_df = pd.DataFrame(columns = ['df', 'row' ])\n",
    "drop_df"
   ]
  },
  {
   "cell_type": "code",
   "execution_count": 10,
   "id": "1fb2dbe0-3e1a-4a80-8253-c56269b9dbda",
   "metadata": {},
   "outputs": [],
   "source": [
    "for i, df in enumerate(df_list2):\n",
    "    for j,title in enumerate(df['report_nm']):\n",
    "        if (\"단일판매\" in title) or (\"보고서\" in title) or(\"주주총회\" in title) or(\"참고서류\" in title):\n",
    "            # print(1)\n",
    "            drop_df = drop_df.append({'df':i,'row':j}, ignore_index=True)"
   ]
  },
  {
   "cell_type": "code",
   "execution_count": 11,
   "id": "3a8dd46b-9165-4c79-af59-04b6b6232a48",
   "metadata": {
    "tags": []
   },
   "outputs": [],
   "source": [
    "df_list3 = []\n",
    "for i, df in enumerate(df_list2):\n",
    "    tmp_list =[]\n",
    "    tmp=drop_df[drop_df['df']==i]['row']\n",
    "    # tmp_list.append(tmp)\n",
    "    df = df.drop(tmp.values, axis = 0)\n",
    "    df_list3.append(df)"
   ]
  },
  {
   "cell_type": "code",
   "execution_count": 12,
   "id": "39e6df72-c6dc-44d5-8b2f-c455314ecd58",
   "metadata": {
    "tags": []
   },
   "outputs": [
    {
     "data": {
      "text/html": [
       "<div>\n",
       "<style scoped>\n",
       "    .dataframe tbody tr th:only-of-type {\n",
       "        vertical-align: middle;\n",
       "    }\n",
       "\n",
       "    .dataframe tbody tr th {\n",
       "        vertical-align: top;\n",
       "    }\n",
       "\n",
       "    .dataframe thead th {\n",
       "        text-align: right;\n",
       "    }\n",
       "</style>\n",
       "<table border=\"1\" class=\"dataframe\">\n",
       "  <thead>\n",
       "    <tr style=\"text-align: right;\">\n",
       "      <th></th>\n",
       "      <th>corp_name</th>\n",
       "      <th>stock_code</th>\n",
       "      <th>report_nm</th>\n",
       "      <th>rcept_dt</th>\n",
       "      <th>y</th>\n",
       "      <th>positive</th>\n",
       "      <th>negative</th>\n",
       "      <th>m</th>\n",
       "    </tr>\n",
       "  </thead>\n",
       "  <tbody>\n",
       "    <tr>\n",
       "      <th>40</th>\n",
       "      <td>CMG제약</td>\n",
       "      <td>58820</td>\n",
       "      <td>신규시설투자등</td>\n",
       "      <td>20220120</td>\n",
       "      <td>2022</td>\n",
       "      <td>0.0</td>\n",
       "      <td>0.0</td>\n",
       "      <td>01</td>\n",
       "    </tr>\n",
       "    <tr>\n",
       "      <th>41</th>\n",
       "      <td>CMG제약</td>\n",
       "      <td>58820</td>\n",
       "      <td>불성실공시법인미지정</td>\n",
       "      <td>20220103</td>\n",
       "      <td>2022</td>\n",
       "      <td>0.0</td>\n",
       "      <td>0.0</td>\n",
       "      <td>01</td>\n",
       "    </tr>\n",
       "  </tbody>\n",
       "</table>\n",
       "</div>"
      ],
      "text/plain": [
       "   corp_name stock_code   report_nm  rcept_dt     y positive negative   m\n",
       "40     CMG제약      58820     신규시설투자등  20220120  2022      0.0      0.0  01\n",
       "41     CMG제약      58820  불성실공시법인미지정  20220103  2022      0.0      0.0  01"
      ]
     },
     "execution_count": 12,
     "metadata": {},
     "output_type": "execute_result"
    }
   ],
   "source": [
    "df_list3[0].tail(2)"
   ]
  },
  {
   "cell_type": "markdown",
   "id": "3f5a82ca-88bd-448e-b550-70b5a22d11fb",
   "metadata": {},
   "source": [
    "# 연별로 구분"
   ]
  },
  {
   "cell_type": "code",
   "execution_count": 13,
   "id": "e8a9ca8a-95d6-4976-bd1b-a687b6f4c414",
   "metadata": {
    "tags": []
   },
   "outputs": [
    {
     "name": "stdout",
     "output_type": "stream",
     "text": [
      "<class 'pandas.core.frame.DataFrame'>\n",
      "Int64Index: 8659 entries, 0 to 91\n",
      "Data columns (total 8 columns):\n",
      " #   Column      Non-Null Count  Dtype \n",
      "---  ------      --------------  ----- \n",
      " 0   corp_name   8659 non-null   object\n",
      " 1   stock_code  8659 non-null   object\n",
      " 2   report_nm   8659 non-null   object\n",
      " 3   rcept_dt    8659 non-null   object\n",
      " 4   y           8659 non-null   object\n",
      " 5   positive    8659 non-null   object\n",
      " 6   negative    8659 non-null   object\n",
      " 7   m           8659 non-null   object\n",
      "dtypes: object(8)\n",
      "memory usage: 608.8+ KB\n"
     ]
    }
   ],
   "source": [
    "df = pd.concat(df_list3)\n",
    "df.info()"
   ]
  },
  {
   "cell_type": "code",
   "execution_count": 14,
   "id": "7e5dcd15-698e-4cbf-9078-8451489e4e8f",
   "metadata": {
    "tags": []
   },
   "outputs": [],
   "source": [
    "df_2018 = df[df['y']=='2018']\n",
    "df_2018[['y','positive','negative','m']] = df_2018[['y','positive','negative','m']].astype('float')\n",
    "\n",
    "df_2019 = df[df['y']=='2019']\n",
    "df_2019[['y','positive','negative','m']] = df_2019[['y','positive','negative','m']].astype('float')\n",
    "\n",
    "df_2020 = df[df['y']=='2020']\n",
    "df_2020[['y','positive','negative','m']] = df_2020[['y','positive','negative','m']].astype('float')\n",
    "\n",
    "df_2021 = df[df['y']=='2021']\n",
    "df_2021[['y','positive','negative','m']] = df_2021[['y','positive','negative','m']].astype('float')\n",
    "\n",
    "df_2022 = df[df['y']=='2022']\n",
    "df_2022[['y','positive','negative','m']] = df_2022[['y','positive','negative','m']].astype('float')\n"
   ]
  },
  {
   "cell_type": "markdown",
   "id": "0486662e-1284-4dcc-b0a3-e45cf75845e3",
   "metadata": {},
   "source": [
    "# 월별로"
   ]
  },
  {
   "cell_type": "code",
   "execution_count": 15,
   "id": "0b9a4a4e-4e3f-4606-88ef-38230efcf27e",
   "metadata": {
    "tags": []
   },
   "outputs": [
    {
     "data": {
      "text/html": [
       "<div>\n",
       "<style scoped>\n",
       "    .dataframe tbody tr th:only-of-type {\n",
       "        vertical-align: middle;\n",
       "    }\n",
       "\n",
       "    .dataframe tbody tr th {\n",
       "        vertical-align: top;\n",
       "    }\n",
       "\n",
       "    .dataframe thead th {\n",
       "        text-align: right;\n",
       "    }\n",
       "</style>\n",
       "<table border=\"1\" class=\"dataframe\">\n",
       "  <thead>\n",
       "    <tr style=\"text-align: right;\">\n",
       "      <th></th>\n",
       "      <th>corp_name</th>\n",
       "      <th>stock_code</th>\n",
       "      <th>report_nm</th>\n",
       "      <th>rcept_dt</th>\n",
       "      <th>y</th>\n",
       "      <th>positive</th>\n",
       "      <th>negative</th>\n",
       "      <th>m</th>\n",
       "    </tr>\n",
       "  </thead>\n",
       "  <tbody>\n",
       "    <tr>\n",
       "      <th>0</th>\n",
       "      <td>CMG제약</td>\n",
       "      <td>58820</td>\n",
       "      <td>주주명부폐쇄기간또는기준일설정</td>\n",
       "      <td>20181213</td>\n",
       "      <td>2018.0</td>\n",
       "      <td>0.0</td>\n",
       "      <td>0.0</td>\n",
       "      <td>12.0</td>\n",
       "    </tr>\n",
       "    <tr>\n",
       "      <th>1</th>\n",
       "      <td>CMG제약</td>\n",
       "      <td>58820</td>\n",
       "      <td>소속부변경</td>\n",
       "      <td>20180430</td>\n",
       "      <td>2018.0</td>\n",
       "      <td>1.0</td>\n",
       "      <td>0.0</td>\n",
       "      <td>4.0</td>\n",
       "    </tr>\n",
       "  </tbody>\n",
       "</table>\n",
       "</div>"
      ],
      "text/plain": [
       "  corp_name stock_code        report_nm  rcept_dt       y  positive  negative  \\\n",
       "0     CMG제약      58820  주주명부폐쇄기간또는기준일설정  20181213  2018.0       0.0       0.0   \n",
       "1     CMG제약      58820            소속부변경  20180430  2018.0       1.0       0.0   \n",
       "\n",
       "      m  \n",
       "0  12.0  \n",
       "1   4.0  "
      ]
     },
     "execution_count": 15,
     "metadata": {},
     "output_type": "execute_result"
    }
   ],
   "source": [
    "df_2018.head(2)"
   ]
  },
  {
   "cell_type": "code",
   "execution_count": 20,
   "id": "743a255a-d9a3-4605-8342-ed219d45ae27",
   "metadata": {
    "tags": []
   },
   "outputs": [],
   "source": [
    "dflist_18=[]\n",
    "for i in range(1,13):\n",
    "    df_i = df_2018[df_2018['m']==i]\n",
    "    df_i = df_i.iloc[:,[0,4,5,6,7]]\n",
    "    dflist_18.append(df_i)"
   ]
  },
  {
   "cell_type": "code",
   "execution_count": 21,
   "id": "cb9e8f46-7f2c-44ff-a3c0-f532af276e4b",
   "metadata": {
    "tags": []
   },
   "outputs": [],
   "source": [
    "dflist_19=[]\n",
    "for i in range(1,13):\n",
    "    df_i = df_2019[df_2019['m']==i]\n",
    "    df_i = df_i.iloc[:,[0,4,5,6,7]]\n",
    "    dflist_19.append(df_i)"
   ]
  },
  {
   "cell_type": "code",
   "execution_count": 22,
   "id": "18c42ffd-1ac7-485a-a9ce-e73a5200c8e7",
   "metadata": {
    "tags": []
   },
   "outputs": [],
   "source": [
    "dflist_20=[]\n",
    "for i in range(1,13):\n",
    "    df_i = df_2020[df_2020['m']==i]\n",
    "    df_i = df_i.iloc[:,[0,4,5,6,7]]\n",
    "    dflist_20.append(df_i)"
   ]
  },
  {
   "cell_type": "code",
   "execution_count": 23,
   "id": "d71dc618-bd6d-4cbf-a346-dd491eec9c55",
   "metadata": {
    "tags": []
   },
   "outputs": [],
   "source": [
    "dflist_21=[]\n",
    "for i in range(1,13):\n",
    "    df_i = df_2021[df_2021['m']==i]\n",
    "    df_i = df_i.iloc[:,[0,4,5,6,7]]\n",
    "    dflist_21.append(df_i)"
   ]
  },
  {
   "cell_type": "code",
   "execution_count": 24,
   "id": "23812a9b-ad0a-4391-abbb-863c8f2a195a",
   "metadata": {
    "tags": []
   },
   "outputs": [],
   "source": [
    "dflist_22=[]\n",
    "for i in range(1,13):\n",
    "    df_i = df_2022[df_2022['m']==i]\n",
    "    df_i = df_i.iloc[:,[0,4,5,6,7]]\n",
    "    dflist_22.append(df_i)"
   ]
  },
  {
   "cell_type": "code",
   "execution_count": 26,
   "id": "6332db5f-5dde-4672-8e2b-158b39b66814",
   "metadata": {
    "tags": []
   },
   "outputs": [
    {
     "data": {
      "text/html": [
       "<div>\n",
       "<style scoped>\n",
       "    .dataframe tbody tr th:only-of-type {\n",
       "        vertical-align: middle;\n",
       "    }\n",
       "\n",
       "    .dataframe tbody tr th {\n",
       "        vertical-align: top;\n",
       "    }\n",
       "\n",
       "    .dataframe thead th {\n",
       "        text-align: right;\n",
       "    }\n",
       "</style>\n",
       "<table border=\"1\" class=\"dataframe\">\n",
       "  <thead>\n",
       "    <tr style=\"text-align: right;\">\n",
       "      <th></th>\n",
       "      <th>corp_name</th>\n",
       "      <th>y</th>\n",
       "      <th>positive</th>\n",
       "      <th>negative</th>\n",
       "      <th>m</th>\n",
       "    </tr>\n",
       "  </thead>\n",
       "  <tbody>\n",
       "    <tr>\n",
       "      <th>15</th>\n",
       "      <td>휴온스</td>\n",
       "      <td>2018.0</td>\n",
       "      <td>1.0</td>\n",
       "      <td>0.0</td>\n",
       "      <td>2.0</td>\n",
       "    </tr>\n",
       "    <tr>\n",
       "      <th>16</th>\n",
       "      <td>휴온스</td>\n",
       "      <td>2018.0</td>\n",
       "      <td>1.0</td>\n",
       "      <td>0.0</td>\n",
       "      <td>2.0</td>\n",
       "    </tr>\n",
       "    <tr>\n",
       "      <th>10</th>\n",
       "      <td>휴온스글로벌</td>\n",
       "      <td>2018.0</td>\n",
       "      <td>1.0</td>\n",
       "      <td>0.0</td>\n",
       "      <td>2.0</td>\n",
       "    </tr>\n",
       "    <tr>\n",
       "      <th>11</th>\n",
       "      <td>휴온스글로벌</td>\n",
       "      <td>2018.0</td>\n",
       "      <td>1.0</td>\n",
       "      <td>0.0</td>\n",
       "      <td>2.0</td>\n",
       "    </tr>\n",
       "    <tr>\n",
       "      <th>12</th>\n",
       "      <td>휴온스글로벌</td>\n",
       "      <td>2018.0</td>\n",
       "      <td>1.0</td>\n",
       "      <td>0.0</td>\n",
       "      <td>2.0</td>\n",
       "    </tr>\n",
       "  </tbody>\n",
       "</table>\n",
       "</div>"
      ],
      "text/plain": [
       "   corp_name       y  positive  negative    m\n",
       "15       휴온스  2018.0       1.0       0.0  2.0\n",
       "16       휴온스  2018.0       1.0       0.0  2.0\n",
       "10    휴온스글로벌  2018.0       1.0       0.0  2.0\n",
       "11    휴온스글로벌  2018.0       1.0       0.0  2.0\n",
       "12    휴온스글로벌  2018.0       1.0       0.0  2.0"
      ]
     },
     "execution_count": 26,
     "metadata": {},
     "output_type": "execute_result"
    }
   ],
   "source": [
    "dflist_18[1].tail()"
   ]
  },
  {
   "cell_type": "markdown",
   "id": "89c2de73-9a2f-4470-9083-94ae8cd68d88",
   "metadata": {},
   "source": [
    "## sum()"
   ]
  },
  {
   "cell_type": "code",
   "execution_count": 68,
   "id": "418f52a6-17cb-4cf8-8694-128a2914d676",
   "metadata": {
    "tags": []
   },
   "outputs": [],
   "source": [
    "# dflist_18[1]"
   ]
  },
  {
   "cell_type": "code",
   "execution_count": 69,
   "id": "4722b89c-fa86-49c2-85d5-1812499392d4",
   "metadata": {
    "tags": []
   },
   "outputs": [],
   "source": [
    "dflist_18_1 = []\n",
    "for i,df in enumerate(dflist_18):\n",
    "    tmp=df.groupby('corp_name').sum()\n",
    "    tmp = tmp.reset_index()\n",
    "    tmp = tmp.iloc[:,[0,2,3]]\n",
    "    tmp['date'] = f'2018-{i+1}'\n",
    "    tmp = tmp[['corp_name','date','positive','negative']]\n",
    "    dflist_18_1.append(tmp)"
   ]
  },
  {
   "cell_type": "code",
   "execution_count": 70,
   "id": "0e4b32b3-c8f3-40cc-a033-1a5de2dab04f",
   "metadata": {
    "tags": []
   },
   "outputs": [
    {
     "data": {
      "text/html": [
       "<div>\n",
       "<style scoped>\n",
       "    .dataframe tbody tr th:only-of-type {\n",
       "        vertical-align: middle;\n",
       "    }\n",
       "\n",
       "    .dataframe tbody tr th {\n",
       "        vertical-align: top;\n",
       "    }\n",
       "\n",
       "    .dataframe thead th {\n",
       "        text-align: right;\n",
       "    }\n",
       "</style>\n",
       "<table border=\"1\" class=\"dataframe\">\n",
       "  <thead>\n",
       "    <tr style=\"text-align: right;\">\n",
       "      <th></th>\n",
       "      <th>corp_name</th>\n",
       "      <th>date</th>\n",
       "      <th>positive</th>\n",
       "      <th>negative</th>\n",
       "    </tr>\n",
       "  </thead>\n",
       "  <tbody>\n",
       "    <tr>\n",
       "      <th>0</th>\n",
       "      <td>HLB</td>\n",
       "      <td>2018-5</td>\n",
       "      <td>1.0</td>\n",
       "      <td>0.0</td>\n",
       "    </tr>\n",
       "    <tr>\n",
       "      <th>1</th>\n",
       "      <td>JW생명과학</td>\n",
       "      <td>2018-5</td>\n",
       "      <td>0.0</td>\n",
       "      <td>-1.0</td>\n",
       "    </tr>\n",
       "  </tbody>\n",
       "</table>\n",
       "</div>"
      ],
      "text/plain": [
       "  corp_name    date  positive  negative\n",
       "0       HLB  2018-5       1.0       0.0\n",
       "1    JW생명과학  2018-5       0.0      -1.0"
      ]
     },
     "execution_count": 70,
     "metadata": {},
     "output_type": "execute_result"
    }
   ],
   "source": [
    "dflist_18_1[4].head(2)"
   ]
  },
  {
   "cell_type": "code",
   "execution_count": 71,
   "id": "90517d85-32bd-4638-bb95-0cb7fed4d325",
   "metadata": {
    "tags": []
   },
   "outputs": [],
   "source": [
    "dflist_19_1 = []\n",
    "for i,df in enumerate(dflist_19):\n",
    "    tmp=df.groupby('corp_name').sum()\n",
    "    tmp = tmp.reset_index()\n",
    "    tmp = tmp.iloc[:,[0,2,3]]\n",
    "    tmp['date'] = f'2019-{i+1}'\n",
    "    tmp = tmp[['corp_name','date','positive','negative']]\n",
    "    dflist_19_1.append(tmp)"
   ]
  },
  {
   "cell_type": "code",
   "execution_count": 72,
   "id": "6a8ab75f-797a-4d2b-958c-337a5dfccc1c",
   "metadata": {
    "tags": []
   },
   "outputs": [],
   "source": [
    "dflist_20_1 = []\n",
    "for i,df in enumerate(dflist_20):\n",
    "    tmp=df.groupby('corp_name').sum()\n",
    "    tmp = tmp.reset_index()\n",
    "    tmp = tmp.iloc[:,[0,2,3]]\n",
    "    tmp['date'] = f'2020-{i+1}'\n",
    "    tmp = tmp[['corp_name','date','positive','negative']]\n",
    "    dflist_20_1.append(tmp)"
   ]
  },
  {
   "cell_type": "code",
   "execution_count": 73,
   "id": "fd6638e1-1e0f-47d2-939e-fa2a2054310e",
   "metadata": {
    "tags": []
   },
   "outputs": [],
   "source": [
    "dflist_21_1 = []\n",
    "for i,df in enumerate(dflist_21):\n",
    "    tmp=df.groupby('corp_name').sum()\n",
    "    tmp = tmp.reset_index()\n",
    "    tmp = tmp.iloc[:,[0,2,3]]\n",
    "    tmp['date'] = f'2021-{i+1}'\n",
    "    tmp = tmp[['corp_name','date','positive','negative']]\n",
    "    dflist_21_1.append(tmp)"
   ]
  },
  {
   "cell_type": "code",
   "execution_count": 74,
   "id": "8dc4c527-ab95-4cd8-8d3e-a8b6d32872d0",
   "metadata": {
    "tags": []
   },
   "outputs": [],
   "source": [
    "dflist_22_1 = []\n",
    "for i,df in enumerate(dflist_22):\n",
    "    tmp=df.groupby('corp_name').sum()\n",
    "    tmp = tmp.reset_index()\n",
    "    tmp = tmp.iloc[:,[0,2,3]]\n",
    "    tmp['date'] = f'2022-{i+1}'\n",
    "    tmp = tmp[['corp_name','date','positive','negative']]\n",
    "    dflist_22_1.append(tmp)"
   ]
  },
  {
   "cell_type": "code",
   "execution_count": 85,
   "id": "8fa6fac3-b89e-4050-847d-ee5daf8f3cd1",
   "metadata": {
    "tags": []
   },
   "outputs": [
    {
     "data": {
      "text/html": [
       "<div>\n",
       "<style scoped>\n",
       "    .dataframe tbody tr th:only-of-type {\n",
       "        vertical-align: middle;\n",
       "    }\n",
       "\n",
       "    .dataframe tbody tr th {\n",
       "        vertical-align: top;\n",
       "    }\n",
       "\n",
       "    .dataframe thead th {\n",
       "        text-align: right;\n",
       "    }\n",
       "</style>\n",
       "<table border=\"1\" class=\"dataframe\">\n",
       "  <thead>\n",
       "    <tr style=\"text-align: right;\">\n",
       "      <th></th>\n",
       "      <th>corp_name</th>\n",
       "      <th>date</th>\n",
       "      <th>positive</th>\n",
       "      <th>negative</th>\n",
       "    </tr>\n",
       "  </thead>\n",
       "  <tbody>\n",
       "    <tr>\n",
       "      <th>0</th>\n",
       "      <td>HLB</td>\n",
       "      <td>2022-10</td>\n",
       "      <td>0.0</td>\n",
       "      <td>0.0</td>\n",
       "    </tr>\n",
       "    <tr>\n",
       "      <th>1</th>\n",
       "      <td>HLB생명과학</td>\n",
       "      <td>2022-10</td>\n",
       "      <td>0.0</td>\n",
       "      <td>0.0</td>\n",
       "    </tr>\n",
       "  </tbody>\n",
       "</table>\n",
       "</div>"
      ],
      "text/plain": [
       "  corp_name     date  positive  negative\n",
       "0       HLB  2022-10       0.0       0.0\n",
       "1   HLB생명과학  2022-10       0.0       0.0"
      ]
     },
     "execution_count": 85,
     "metadata": {},
     "output_type": "execute_result"
    }
   ],
   "source": [
    "dflist_22_1[9].head(2)"
   ]
  },
  {
   "cell_type": "markdown",
   "id": "d716e335-7582-4400-9bf1-72411d0a1511",
   "metadata": {},
   "source": [
    "# concat & merge"
   ]
  },
  {
   "cell_type": "markdown",
   "id": "1517b367-72a6-472f-9dfb-4dac3ae47f94",
   "metadata": {},
   "source": [
    "## merge"
   ]
  },
  {
   "cell_type": "code",
   "execution_count": 98,
   "id": "872a53f4-faba-42f2-b92c-e83433321aa8",
   "metadata": {
    "tags": []
   },
   "outputs": [
    {
     "ename": "KeyError",
     "evalue": "\"['ticker'] not found in axis\"",
     "output_type": "error",
     "traceback": [
      "\u001b[1;31m---------------------------------------------------------------------------\u001b[0m",
      "\u001b[1;31mKeyError\u001b[0m                                  Traceback (most recent call last)",
      "Cell \u001b[1;32mIn[98], line 1\u001b[0m\n\u001b[1;32m----> 1\u001b[0m ticker_df \u001b[38;5;241m=\u001b[39m \u001b[43mticker_df\u001b[49m\u001b[38;5;241;43m.\u001b[39;49m\u001b[43mdrop\u001b[49m\u001b[43m(\u001b[49m\u001b[38;5;124;43m'\u001b[39;49m\u001b[38;5;124;43mticker\u001b[39;49m\u001b[38;5;124;43m'\u001b[39;49m\u001b[43m,\u001b[49m\u001b[43m \u001b[49m\u001b[43maxis\u001b[49m\u001b[43m \u001b[49m\u001b[38;5;241;43m=\u001b[39;49m\u001b[43m \u001b[49m\u001b[38;5;241;43m1\u001b[39;49m\u001b[43m)\u001b[49m\n",
      "File \u001b[1;32mC:\\AI\\pythonProject\\venv\\lib\\site-packages\\pandas\\util\\_decorators.py:331\u001b[0m, in \u001b[0;36mdeprecate_nonkeyword_arguments.<locals>.decorate.<locals>.wrapper\u001b[1;34m(*args, **kwargs)\u001b[0m\n\u001b[0;32m    325\u001b[0m \u001b[38;5;28;01mif\u001b[39;00m \u001b[38;5;28mlen\u001b[39m(args) \u001b[38;5;241m>\u001b[39m num_allow_args:\n\u001b[0;32m    326\u001b[0m     warnings\u001b[38;5;241m.\u001b[39mwarn(\n\u001b[0;32m    327\u001b[0m         msg\u001b[38;5;241m.\u001b[39mformat(arguments\u001b[38;5;241m=\u001b[39m_format_argument_list(allow_args)),\n\u001b[0;32m    328\u001b[0m         \u001b[38;5;167;01mFutureWarning\u001b[39;00m,\n\u001b[0;32m    329\u001b[0m         stacklevel\u001b[38;5;241m=\u001b[39mfind_stack_level(),\n\u001b[0;32m    330\u001b[0m     )\n\u001b[1;32m--> 331\u001b[0m \u001b[38;5;28;01mreturn\u001b[39;00m \u001b[43mfunc\u001b[49m\u001b[43m(\u001b[49m\u001b[38;5;241;43m*\u001b[39;49m\u001b[43margs\u001b[49m\u001b[43m,\u001b[49m\u001b[43m \u001b[49m\u001b[38;5;241;43m*\u001b[39;49m\u001b[38;5;241;43m*\u001b[39;49m\u001b[43mkwargs\u001b[49m\u001b[43m)\u001b[49m\n",
      "File \u001b[1;32mC:\\AI\\pythonProject\\venv\\lib\\site-packages\\pandas\\core\\frame.py:5399\u001b[0m, in \u001b[0;36mDataFrame.drop\u001b[1;34m(self, labels, axis, index, columns, level, inplace, errors)\u001b[0m\n\u001b[0;32m   5251\u001b[0m \u001b[38;5;129m@deprecate_nonkeyword_arguments\u001b[39m(version\u001b[38;5;241m=\u001b[39m\u001b[38;5;28;01mNone\u001b[39;00m, allowed_args\u001b[38;5;241m=\u001b[39m[\u001b[38;5;124m\"\u001b[39m\u001b[38;5;124mself\u001b[39m\u001b[38;5;124m\"\u001b[39m, \u001b[38;5;124m\"\u001b[39m\u001b[38;5;124mlabels\u001b[39m\u001b[38;5;124m\"\u001b[39m])\n\u001b[0;32m   5252\u001b[0m \u001b[38;5;28;01mdef\u001b[39;00m \u001b[38;5;21mdrop\u001b[39m(  \u001b[38;5;66;03m# type: ignore[override]\u001b[39;00m\n\u001b[0;32m   5253\u001b[0m     \u001b[38;5;28mself\u001b[39m,\n\u001b[1;32m   (...)\u001b[0m\n\u001b[0;32m   5260\u001b[0m     errors: IgnoreRaise \u001b[38;5;241m=\u001b[39m \u001b[38;5;124m\"\u001b[39m\u001b[38;5;124mraise\u001b[39m\u001b[38;5;124m\"\u001b[39m,\n\u001b[0;32m   5261\u001b[0m ) \u001b[38;5;241m-\u001b[39m\u001b[38;5;241m>\u001b[39m DataFrame \u001b[38;5;241m|\u001b[39m \u001b[38;5;28;01mNone\u001b[39;00m:\n\u001b[0;32m   5262\u001b[0m \u001b[38;5;250m    \u001b[39m\u001b[38;5;124;03m\"\"\"\u001b[39;00m\n\u001b[0;32m   5263\u001b[0m \u001b[38;5;124;03m    Drop specified labels from rows or columns.\u001b[39;00m\n\u001b[0;32m   5264\u001b[0m \n\u001b[1;32m   (...)\u001b[0m\n\u001b[0;32m   5397\u001b[0m \u001b[38;5;124;03m            weight  1.0     0.8\u001b[39;00m\n\u001b[0;32m   5398\u001b[0m \u001b[38;5;124;03m    \"\"\"\u001b[39;00m\n\u001b[1;32m-> 5399\u001b[0m     \u001b[38;5;28;01mreturn\u001b[39;00m \u001b[38;5;28;43msuper\u001b[39;49m\u001b[43m(\u001b[49m\u001b[43m)\u001b[49m\u001b[38;5;241;43m.\u001b[39;49m\u001b[43mdrop\u001b[49m\u001b[43m(\u001b[49m\n\u001b[0;32m   5400\u001b[0m \u001b[43m        \u001b[49m\u001b[43mlabels\u001b[49m\u001b[38;5;241;43m=\u001b[39;49m\u001b[43mlabels\u001b[49m\u001b[43m,\u001b[49m\n\u001b[0;32m   5401\u001b[0m \u001b[43m        \u001b[49m\u001b[43maxis\u001b[49m\u001b[38;5;241;43m=\u001b[39;49m\u001b[43maxis\u001b[49m\u001b[43m,\u001b[49m\n\u001b[0;32m   5402\u001b[0m \u001b[43m        \u001b[49m\u001b[43mindex\u001b[49m\u001b[38;5;241;43m=\u001b[39;49m\u001b[43mindex\u001b[49m\u001b[43m,\u001b[49m\n\u001b[0;32m   5403\u001b[0m \u001b[43m        \u001b[49m\u001b[43mcolumns\u001b[49m\u001b[38;5;241;43m=\u001b[39;49m\u001b[43mcolumns\u001b[49m\u001b[43m,\u001b[49m\n\u001b[0;32m   5404\u001b[0m \u001b[43m        \u001b[49m\u001b[43mlevel\u001b[49m\u001b[38;5;241;43m=\u001b[39;49m\u001b[43mlevel\u001b[49m\u001b[43m,\u001b[49m\n\u001b[0;32m   5405\u001b[0m \u001b[43m        \u001b[49m\u001b[43minplace\u001b[49m\u001b[38;5;241;43m=\u001b[39;49m\u001b[43minplace\u001b[49m\u001b[43m,\u001b[49m\n\u001b[0;32m   5406\u001b[0m \u001b[43m        \u001b[49m\u001b[43merrors\u001b[49m\u001b[38;5;241;43m=\u001b[39;49m\u001b[43merrors\u001b[49m\u001b[43m,\u001b[49m\n\u001b[0;32m   5407\u001b[0m \u001b[43m    \u001b[49m\u001b[43m)\u001b[49m\n",
      "File \u001b[1;32mC:\\AI\\pythonProject\\venv\\lib\\site-packages\\pandas\\util\\_decorators.py:331\u001b[0m, in \u001b[0;36mdeprecate_nonkeyword_arguments.<locals>.decorate.<locals>.wrapper\u001b[1;34m(*args, **kwargs)\u001b[0m\n\u001b[0;32m    325\u001b[0m \u001b[38;5;28;01mif\u001b[39;00m \u001b[38;5;28mlen\u001b[39m(args) \u001b[38;5;241m>\u001b[39m num_allow_args:\n\u001b[0;32m    326\u001b[0m     warnings\u001b[38;5;241m.\u001b[39mwarn(\n\u001b[0;32m    327\u001b[0m         msg\u001b[38;5;241m.\u001b[39mformat(arguments\u001b[38;5;241m=\u001b[39m_format_argument_list(allow_args)),\n\u001b[0;32m    328\u001b[0m         \u001b[38;5;167;01mFutureWarning\u001b[39;00m,\n\u001b[0;32m    329\u001b[0m         stacklevel\u001b[38;5;241m=\u001b[39mfind_stack_level(),\n\u001b[0;32m    330\u001b[0m     )\n\u001b[1;32m--> 331\u001b[0m \u001b[38;5;28;01mreturn\u001b[39;00m \u001b[43mfunc\u001b[49m\u001b[43m(\u001b[49m\u001b[38;5;241;43m*\u001b[39;49m\u001b[43margs\u001b[49m\u001b[43m,\u001b[49m\u001b[43m \u001b[49m\u001b[38;5;241;43m*\u001b[39;49m\u001b[38;5;241;43m*\u001b[39;49m\u001b[43mkwargs\u001b[49m\u001b[43m)\u001b[49m\n",
      "File \u001b[1;32mC:\\AI\\pythonProject\\venv\\lib\\site-packages\\pandas\\core\\generic.py:4505\u001b[0m, in \u001b[0;36mNDFrame.drop\u001b[1;34m(self, labels, axis, index, columns, level, inplace, errors)\u001b[0m\n\u001b[0;32m   4503\u001b[0m \u001b[38;5;28;01mfor\u001b[39;00m axis, labels \u001b[38;5;129;01min\u001b[39;00m axes\u001b[38;5;241m.\u001b[39mitems():\n\u001b[0;32m   4504\u001b[0m     \u001b[38;5;28;01mif\u001b[39;00m labels \u001b[38;5;129;01mis\u001b[39;00m \u001b[38;5;129;01mnot\u001b[39;00m \u001b[38;5;28;01mNone\u001b[39;00m:\n\u001b[1;32m-> 4505\u001b[0m         obj \u001b[38;5;241m=\u001b[39m \u001b[43mobj\u001b[49m\u001b[38;5;241;43m.\u001b[39;49m\u001b[43m_drop_axis\u001b[49m\u001b[43m(\u001b[49m\u001b[43mlabels\u001b[49m\u001b[43m,\u001b[49m\u001b[43m \u001b[49m\u001b[43maxis\u001b[49m\u001b[43m,\u001b[49m\u001b[43m \u001b[49m\u001b[43mlevel\u001b[49m\u001b[38;5;241;43m=\u001b[39;49m\u001b[43mlevel\u001b[49m\u001b[43m,\u001b[49m\u001b[43m \u001b[49m\u001b[43merrors\u001b[49m\u001b[38;5;241;43m=\u001b[39;49m\u001b[43merrors\u001b[49m\u001b[43m)\u001b[49m\n\u001b[0;32m   4507\u001b[0m \u001b[38;5;28;01mif\u001b[39;00m inplace:\n\u001b[0;32m   4508\u001b[0m     \u001b[38;5;28mself\u001b[39m\u001b[38;5;241m.\u001b[39m_update_inplace(obj)\n",
      "File \u001b[1;32mC:\\AI\\pythonProject\\venv\\lib\\site-packages\\pandas\\core\\generic.py:4546\u001b[0m, in \u001b[0;36mNDFrame._drop_axis\u001b[1;34m(self, labels, axis, level, errors, only_slice)\u001b[0m\n\u001b[0;32m   4544\u001b[0m         new_axis \u001b[38;5;241m=\u001b[39m axis\u001b[38;5;241m.\u001b[39mdrop(labels, level\u001b[38;5;241m=\u001b[39mlevel, errors\u001b[38;5;241m=\u001b[39merrors)\n\u001b[0;32m   4545\u001b[0m     \u001b[38;5;28;01melse\u001b[39;00m:\n\u001b[1;32m-> 4546\u001b[0m         new_axis \u001b[38;5;241m=\u001b[39m \u001b[43maxis\u001b[49m\u001b[38;5;241;43m.\u001b[39;49m\u001b[43mdrop\u001b[49m\u001b[43m(\u001b[49m\u001b[43mlabels\u001b[49m\u001b[43m,\u001b[49m\u001b[43m \u001b[49m\u001b[43merrors\u001b[49m\u001b[38;5;241;43m=\u001b[39;49m\u001b[43merrors\u001b[49m\u001b[43m)\u001b[49m\n\u001b[0;32m   4547\u001b[0m     indexer \u001b[38;5;241m=\u001b[39m axis\u001b[38;5;241m.\u001b[39mget_indexer(new_axis)\n\u001b[0;32m   4549\u001b[0m \u001b[38;5;66;03m# Case for non-unique axis\u001b[39;00m\n\u001b[0;32m   4550\u001b[0m \u001b[38;5;28;01melse\u001b[39;00m:\n",
      "File \u001b[1;32mC:\\AI\\pythonProject\\venv\\lib\\site-packages\\pandas\\core\\indexes\\base.py:6934\u001b[0m, in \u001b[0;36mIndex.drop\u001b[1;34m(self, labels, errors)\u001b[0m\n\u001b[0;32m   6932\u001b[0m \u001b[38;5;28;01mif\u001b[39;00m mask\u001b[38;5;241m.\u001b[39many():\n\u001b[0;32m   6933\u001b[0m     \u001b[38;5;28;01mif\u001b[39;00m errors \u001b[38;5;241m!=\u001b[39m \u001b[38;5;124m\"\u001b[39m\u001b[38;5;124mignore\u001b[39m\u001b[38;5;124m\"\u001b[39m:\n\u001b[1;32m-> 6934\u001b[0m         \u001b[38;5;28;01mraise\u001b[39;00m \u001b[38;5;167;01mKeyError\u001b[39;00m(\u001b[38;5;124mf\u001b[39m\u001b[38;5;124m\"\u001b[39m\u001b[38;5;132;01m{\u001b[39;00m\u001b[38;5;28mlist\u001b[39m(labels[mask])\u001b[38;5;132;01m}\u001b[39;00m\u001b[38;5;124m not found in axis\u001b[39m\u001b[38;5;124m\"\u001b[39m)\n\u001b[0;32m   6935\u001b[0m     indexer \u001b[38;5;241m=\u001b[39m indexer[\u001b[38;5;241m~\u001b[39mmask]\n\u001b[0;32m   6936\u001b[0m \u001b[38;5;28;01mreturn\u001b[39;00m \u001b[38;5;28mself\u001b[39m\u001b[38;5;241m.\u001b[39mdelete(indexer)\n",
      "\u001b[1;31mKeyError\u001b[0m: \"['ticker'] not found in axis\""
     ]
    }
   ],
   "source": [
    "ticker_df = ticker_df.drop('ticker', axis = 1)"
   ]
  },
  {
   "cell_type": "code",
   "execution_count": 99,
   "id": "8c28c892-bdc4-4995-b75f-1669d818a14d",
   "metadata": {
    "tags": []
   },
   "outputs": [
    {
     "data": {
      "text/html": [
       "<div>\n",
       "<style scoped>\n",
       "    .dataframe tbody tr th:only-of-type {\n",
       "        vertical-align: middle;\n",
       "    }\n",
       "\n",
       "    .dataframe tbody tr th {\n",
       "        vertical-align: top;\n",
       "    }\n",
       "\n",
       "    .dataframe thead th {\n",
       "        text-align: right;\n",
       "    }\n",
       "</style>\n",
       "<table border=\"1\" class=\"dataframe\">\n",
       "  <thead>\n",
       "    <tr style=\"text-align: right;\">\n",
       "      <th></th>\n",
       "      <th>corp_name</th>\n",
       "    </tr>\n",
       "  </thead>\n",
       "  <tbody>\n",
       "    <tr>\n",
       "      <th>1</th>\n",
       "      <td>CMG제약</td>\n",
       "    </tr>\n",
       "    <tr>\n",
       "      <th>2</th>\n",
       "      <td>HLB</td>\n",
       "    </tr>\n",
       "  </tbody>\n",
       "</table>\n",
       "</div>"
      ],
      "text/plain": [
       "  corp_name\n",
       "1     CMG제약\n",
       "2       HLB"
      ]
     },
     "execution_count": 99,
     "metadata": {},
     "output_type": "execute_result"
    }
   ],
   "source": [
    "ticker_df.columns = ['corp_name']\n",
    "ticker_df.head(2)"
   ]
  },
  {
   "cell_type": "code",
   "execution_count": 100,
   "id": "faaa576f-8922-4081-8199-e3c3d0614860",
   "metadata": {
    "tags": []
   },
   "outputs": [],
   "source": [
    "dflist_18_2=[]\n",
    "for i,df in enumerate(dflist_18_1):\n",
    "    merge_df = pd.merge(ticker_df,df, how='left', left_on='corp_name', right_on='corp_name')\n",
    "    merge_df['date'] = f'2018-{i+1}'\n",
    "    dflist_18_2.append(merge_df)"
   ]
  },
  {
   "cell_type": "code",
   "execution_count": 101,
   "id": "4fdf5ef4-d6c8-4998-9b7f-08f789c9ce3e",
   "metadata": {
    "tags": []
   },
   "outputs": [
    {
     "data": {
      "text/html": [
       "<div>\n",
       "<style scoped>\n",
       "    .dataframe tbody tr th:only-of-type {\n",
       "        vertical-align: middle;\n",
       "    }\n",
       "\n",
       "    .dataframe tbody tr th {\n",
       "        vertical-align: top;\n",
       "    }\n",
       "\n",
       "    .dataframe thead th {\n",
       "        text-align: right;\n",
       "    }\n",
       "</style>\n",
       "<table border=\"1\" class=\"dataframe\">\n",
       "  <thead>\n",
       "    <tr style=\"text-align: right;\">\n",
       "      <th></th>\n",
       "      <th>corp_name</th>\n",
       "      <th>date</th>\n",
       "      <th>positive</th>\n",
       "      <th>negative</th>\n",
       "    </tr>\n",
       "  </thead>\n",
       "  <tbody>\n",
       "    <tr>\n",
       "      <th>0</th>\n",
       "      <td>CMG제약</td>\n",
       "      <td>2018-1</td>\n",
       "      <td>NaN</td>\n",
       "      <td>NaN</td>\n",
       "    </tr>\n",
       "    <tr>\n",
       "      <th>1</th>\n",
       "      <td>HLB</td>\n",
       "      <td>2018-1</td>\n",
       "      <td>1.0</td>\n",
       "      <td>0.0</td>\n",
       "    </tr>\n",
       "  </tbody>\n",
       "</table>\n",
       "</div>"
      ],
      "text/plain": [
       "  corp_name    date  positive  negative\n",
       "0     CMG제약  2018-1       NaN       NaN\n",
       "1       HLB  2018-1       1.0       0.0"
      ]
     },
     "execution_count": 101,
     "metadata": {},
     "output_type": "execute_result"
    }
   ],
   "source": [
    "dflist_18_2[0].head(2)"
   ]
  },
  {
   "cell_type": "code",
   "execution_count": 102,
   "id": "53ef6f3a-80fc-4cf7-a7a2-82e4cb6d10ac",
   "metadata": {
    "tags": []
   },
   "outputs": [],
   "source": [
    "dflist_19_2=[]\n",
    "for i,df in enumerate(dflist_19_1):\n",
    "    merge_df = pd.merge(ticker_df,df, how='left', left_on='corp_name', right_on='corp_name')\n",
    "    merge_df['date'] = f'2019-{i+1}'\n",
    "    dflist_19_2.append(merge_df)"
   ]
  },
  {
   "cell_type": "code",
   "execution_count": 103,
   "id": "9c44f779-b889-4593-94fc-feb2e4f7499f",
   "metadata": {
    "tags": []
   },
   "outputs": [],
   "source": [
    "dflist_20_2=[]\n",
    "for i,df in enumerate(dflist_20_1):\n",
    "    merge_df = pd.merge(ticker_df,df, how='left', left_on='corp_name', right_on='corp_name')\n",
    "    merge_df['date'] = f'2020-{i+1}'\n",
    "    dflist_20_2.append(merge_df)"
   ]
  },
  {
   "cell_type": "code",
   "execution_count": 104,
   "id": "805d293d-69d3-4024-8377-8444f0b86495",
   "metadata": {
    "tags": []
   },
   "outputs": [],
   "source": [
    "dflist_21_2=[]\n",
    "for i,df in enumerate(dflist_21_1):\n",
    "    merge_df = pd.merge(ticker_df,df, how='left', left_on='corp_name', right_on='corp_name')\n",
    "    merge_df['date'] = f'2021-{i+1}'\n",
    "    dflist_21_2.append(merge_df)"
   ]
  },
  {
   "cell_type": "code",
   "execution_count": 105,
   "id": "1f4947ea-adfc-432d-b986-6de0f695c826",
   "metadata": {
    "tags": []
   },
   "outputs": [],
   "source": [
    "dflist_22_2=[]\n",
    "for i,df in enumerate(dflist_22_1):\n",
    "    merge_df = pd.merge(ticker_df,df, how='left', left_on='corp_name', right_on='corp_name')\n",
    "    merge_df['date'] = f'2022-{i+1}'\n",
    "    dflist_22_2.append(merge_df)"
   ]
  },
  {
   "cell_type": "markdown",
   "id": "a92d2bc6-3c12-4819-87ba-09202dc0b654",
   "metadata": {},
   "source": [
    "## concat"
   ]
  },
  {
   "cell_type": "code",
   "execution_count": 106,
   "id": "7cd32a51-6295-4193-9720-08024c361092",
   "metadata": {
    "tags": []
   },
   "outputs": [],
   "source": [
    "df18 = pd.concat(dflist_18_2)\n",
    "df19 = pd.concat(dflist_19_2)\n",
    "df20 = pd.concat(dflist_20_2)\n",
    "df21 = pd.concat(dflist_21_2)\n",
    "df22 = pd.concat(dflist_22_2)"
   ]
  },
  {
   "cell_type": "code",
   "execution_count": 107,
   "id": "1d92e0c3-f168-4e9b-a85c-de1a9c41fddd",
   "metadata": {
    "tags": []
   },
   "outputs": [
    {
     "data": {
      "text/html": [
       "<div>\n",
       "<style scoped>\n",
       "    .dataframe tbody tr th:only-of-type {\n",
       "        vertical-align: middle;\n",
       "    }\n",
       "\n",
       "    .dataframe tbody tr th {\n",
       "        vertical-align: top;\n",
       "    }\n",
       "\n",
       "    .dataframe thead th {\n",
       "        text-align: right;\n",
       "    }\n",
       "</style>\n",
       "<table border=\"1\" class=\"dataframe\">\n",
       "  <thead>\n",
       "    <tr style=\"text-align: right;\">\n",
       "      <th></th>\n",
       "      <th>corp_name</th>\n",
       "      <th>date</th>\n",
       "      <th>positive</th>\n",
       "      <th>negative</th>\n",
       "    </tr>\n",
       "  </thead>\n",
       "  <tbody>\n",
       "    <tr>\n",
       "      <th>121</th>\n",
       "      <td>휴마시스</td>\n",
       "      <td>2018-12</td>\n",
       "      <td>1.0</td>\n",
       "      <td>0.0</td>\n",
       "    </tr>\n",
       "    <tr>\n",
       "      <th>122</th>\n",
       "      <td>휴메딕스</td>\n",
       "      <td>2018-12</td>\n",
       "      <td>1.0</td>\n",
       "      <td>0.0</td>\n",
       "    </tr>\n",
       "    <tr>\n",
       "      <th>123</th>\n",
       "      <td>휴비츠</td>\n",
       "      <td>2018-12</td>\n",
       "      <td>0.0</td>\n",
       "      <td>0.0</td>\n",
       "    </tr>\n",
       "    <tr>\n",
       "      <th>124</th>\n",
       "      <td>휴온스</td>\n",
       "      <td>2018-12</td>\n",
       "      <td>1.0</td>\n",
       "      <td>0.0</td>\n",
       "    </tr>\n",
       "    <tr>\n",
       "      <th>125</th>\n",
       "      <td>휴온스글로벌</td>\n",
       "      <td>2018-12</td>\n",
       "      <td>2.0</td>\n",
       "      <td>0.0</td>\n",
       "    </tr>\n",
       "  </tbody>\n",
       "</table>\n",
       "</div>"
      ],
      "text/plain": [
       "    corp_name     date  positive  negative\n",
       "121      휴마시스  2018-12       1.0       0.0\n",
       "122      휴메딕스  2018-12       1.0       0.0\n",
       "123       휴비츠  2018-12       0.0       0.0\n",
       "124       휴온스  2018-12       1.0       0.0\n",
       "125    휴온스글로벌  2018-12       2.0       0.0"
      ]
     },
     "execution_count": 107,
     "metadata": {},
     "output_type": "execute_result"
    }
   ],
   "source": [
    "df18.tail(5)"
   ]
  },
  {
   "cell_type": "code",
   "execution_count": 108,
   "id": "a4f03fac-7ceb-4a80-8c81-b8174e8b3ba7",
   "metadata": {
    "tags": []
   },
   "outputs": [],
   "source": [
    "df_공시_월별 = pd.concat([df19,df20,df21,df22])"
   ]
  },
  {
   "cell_type": "code",
   "execution_count": 109,
   "id": "81beacbd-669e-4990-bbe6-dbacb7d50492",
   "metadata": {
    "tags": []
   },
   "outputs": [
    {
     "data": {
      "text/html": [
       "<div>\n",
       "<style scoped>\n",
       "    .dataframe tbody tr th:only-of-type {\n",
       "        vertical-align: middle;\n",
       "    }\n",
       "\n",
       "    .dataframe tbody tr th {\n",
       "        vertical-align: top;\n",
       "    }\n",
       "\n",
       "    .dataframe thead th {\n",
       "        text-align: right;\n",
       "    }\n",
       "</style>\n",
       "<table border=\"1\" class=\"dataframe\">\n",
       "  <thead>\n",
       "    <tr style=\"text-align: right;\">\n",
       "      <th></th>\n",
       "      <th>corp_name</th>\n",
       "      <th>date</th>\n",
       "      <th>positive</th>\n",
       "      <th>negative</th>\n",
       "    </tr>\n",
       "  </thead>\n",
       "  <tbody>\n",
       "    <tr>\n",
       "      <th>0</th>\n",
       "      <td>CMG제약</td>\n",
       "      <td>2019-1</td>\n",
       "      <td>NaN</td>\n",
       "      <td>NaN</td>\n",
       "    </tr>\n",
       "    <tr>\n",
       "      <th>1</th>\n",
       "      <td>HLB</td>\n",
       "      <td>2019-1</td>\n",
       "      <td>0.0</td>\n",
       "      <td>0.0</td>\n",
       "    </tr>\n",
       "    <tr>\n",
       "      <th>2</th>\n",
       "      <td>HLB생명과학</td>\n",
       "      <td>2019-1</td>\n",
       "      <td>NaN</td>\n",
       "      <td>NaN</td>\n",
       "    </tr>\n",
       "    <tr>\n",
       "      <th>3</th>\n",
       "      <td>JW생명과학</td>\n",
       "      <td>2019-1</td>\n",
       "      <td>NaN</td>\n",
       "      <td>NaN</td>\n",
       "    </tr>\n",
       "    <tr>\n",
       "      <th>4</th>\n",
       "      <td>JW신약</td>\n",
       "      <td>2019-1</td>\n",
       "      <td>NaN</td>\n",
       "      <td>NaN</td>\n",
       "    </tr>\n",
       "  </tbody>\n",
       "</table>\n",
       "</div>"
      ],
      "text/plain": [
       "  corp_name    date  positive  negative\n",
       "0     CMG제약  2019-1       NaN       NaN\n",
       "1       HLB  2019-1       0.0       0.0\n",
       "2   HLB생명과학  2019-1       NaN       NaN\n",
       "3    JW생명과학  2019-1       NaN       NaN\n",
       "4      JW신약  2019-1       NaN       NaN"
      ]
     },
     "execution_count": 109,
     "metadata": {},
     "output_type": "execute_result"
    }
   ],
   "source": [
    "df_공시_월별.head()"
   ]
  },
  {
   "cell_type": "code",
   "execution_count": 110,
   "id": "a4bac95e-3080-45ba-b78c-21ddd8bdf629",
   "metadata": {
    "tags": []
   },
   "outputs": [],
   "source": [
    "df_공시_월별.to_csv('../데이터/공시정보/공시_월간(19-22).csv', index=False)"
   ]
  }
 ],
 "metadata": {
  "kernelspec": {
   "display_name": "Python 3 (ipykernel)",
   "language": "python",
   "name": "python3"
  },
  "language_info": {
   "codemirror_mode": {
    "name": "ipython",
    "version": 3
   },
   "file_extension": ".py",
   "mimetype": "text/x-python",
   "name": "python",
   "nbconvert_exporter": "python",
   "pygments_lexer": "ipython3",
   "version": "3.8.8"
  }
 },
 "nbformat": 4,
 "nbformat_minor": 5
}
