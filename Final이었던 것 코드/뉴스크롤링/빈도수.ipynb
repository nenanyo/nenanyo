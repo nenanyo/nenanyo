{
 "cells": [
  {
   "cell_type": "code",
   "execution_count": null,
   "id": "eee30f5b-fcd5-432f-88c6-0d71b3b5db91",
   "metadata": {},
   "outputs": [],
   "source": []
  },
  {
   "cell_type": "code",
   "execution_count": 1,
   "id": "51865b98-55d6-4a61-8569-deb3158a9f3a",
   "metadata": {
    "tags": []
   },
   "outputs": [
    {
     "data": {
      "text/plain": [
       "0.9362678927039516"
      ]
     },
     "execution_count": 1,
     "metadata": {},
     "output_type": "execute_result"
    }
   ],
   "source": [
    "import sqlalchemy as sa\n",
    "import cx_Oracle\n",
    "import xml.etree.ElementTree as ET\n",
    "import json\n",
    "import requests\n",
    "from bs4 import BeautifulSoup\n",
    "\n",
    "\n",
    "import pandas as pd\n",
    "import time\n",
    "import datetime\n",
    "import random\n",
    "random.uniform(0.2, 1.2)\n"
   ]
  },
  {
   "cell_type": "markdown",
   "id": "080ac332-e770-45d2-8c97-92dd9778c543",
   "metadata": {},
   "source": [
    "# data load"
   ]
  },
  {
   "cell_type": "code",
   "execution_count": 2,
   "id": "f77ad463-22f8-455e-aad1-d975bd209ea0",
   "metadata": {
    "tags": []
   },
   "outputs": [
    {
     "data": {
      "text/html": [
       "<div>\n",
       "<style scoped>\n",
       "    .dataframe tbody tr th:only-of-type {\n",
       "        vertical-align: middle;\n",
       "    }\n",
       "\n",
       "    .dataframe tbody tr th {\n",
       "        vertical-align: top;\n",
       "    }\n",
       "\n",
       "    .dataframe thead th {\n",
       "        text-align: right;\n",
       "    }\n",
       "</style>\n",
       "<table border=\"1\" class=\"dataframe\">\n",
       "  <thead>\n",
       "    <tr style=\"text-align: right;\">\n",
       "      <th></th>\n",
       "      <th>key_title</th>\n",
       "      <th>key_rdate</th>\n",
       "      <th>key_href</th>\n",
       "      <th>key_cont</th>\n",
       "    </tr>\n",
       "  </thead>\n",
       "  <tbody>\n",
       "    <tr>\n",
       "      <th>0</th>\n",
       "      <td>[K-Food] Ourhome tests potential of Korean foo...</td>\n",
       "      <td>May 19, 2023</td>\n",
       "      <td>https://www.theinvestor.co.kr/view.php?ud=2023...</td>\n",
       "      <td>This article is the eighth installment in a s...</td>\n",
       "    </tr>\n",
       "    <tr>\n",
       "      <th>1</th>\n",
       "      <td>Samsung starts mass production of most advance...</td>\n",
       "      <td>May 19, 2023</td>\n",
       "      <td>https://www.theinvestor.co.kr/view.php?ud=2023...</td>\n",
       "      <td>...ent of the 12nm-class process technology wa...</td>\n",
       "    </tr>\n",
       "    <tr>\n",
       "      <th>2</th>\n",
       "      <td>Korea bets on potential of advanced display te...</td>\n",
       "      <td>May 18, 2023</td>\n",
       "      <td>https://www.theinvestor.co.kr/view.php?ud=2023...</td>\n",
       "      <td>The South Korean government is seeking to pus...</td>\n",
       "    </tr>\n",
       "    <tr>\n",
       "      <th>3</th>\n",
       "      <td>GS25 to debut ChatGPT-developed whiskey highball</td>\n",
       "      <td>May 17, 2023</td>\n",
       "      <td>https://www.theinvestor.co.kr/view.php?ud=2023...</td>\n",
       "      <td>...uct was to cater to people in their 20s and...</td>\n",
       "    </tr>\n",
       "    <tr>\n",
       "      <th>4</th>\n",
       "      <td>Thailand's PTT seeks investment, partnerships ...</td>\n",
       "      <td>May 17, 2023</td>\n",
       "      <td>https://www.theinvestor.co.kr/view.php?ud=2023...</td>\n",
       "      <td>Thailand's largest conglomerate as well as a ...</td>\n",
       "    </tr>\n",
       "  </tbody>\n",
       "</table>\n",
       "</div>"
      ],
      "text/plain": [
       "                                           key_title     key_rdate  \\\n",
       "0  [K-Food] Ourhome tests potential of Korean foo...  May 19, 2023   \n",
       "1  Samsung starts mass production of most advance...  May 19, 2023   \n",
       "2  Korea bets on potential of advanced display te...  May 18, 2023   \n",
       "3   GS25 to debut ChatGPT-developed whiskey highball  May 17, 2023   \n",
       "4  Thailand's PTT seeks investment, partnerships ...  May 17, 2023   \n",
       "\n",
       "                                            key_href  \\\n",
       "0  https://www.theinvestor.co.kr/view.php?ud=2023...   \n",
       "1  https://www.theinvestor.co.kr/view.php?ud=2023...   \n",
       "2  https://www.theinvestor.co.kr/view.php?ud=2023...   \n",
       "3  https://www.theinvestor.co.kr/view.php?ud=2023...   \n",
       "4  https://www.theinvestor.co.kr/view.php?ud=2023...   \n",
       "\n",
       "                                            key_cont  \n",
       "0   This article is the eighth installment in a s...  \n",
       "1  ...ent of the 12nm-class process technology wa...  \n",
       "2   The South Korean government is seeking to pus...  \n",
       "3  ...uct was to cater to people in their 20s and...  \n",
       "4   Thailand's largest conglomerate as well as a ...  "
      ]
     },
     "execution_count": 2,
     "metadata": {},
     "output_type": "execute_result"
    }
   ],
   "source": [
    "df = pd.read_csv(\"./data/kh_list_potential.csv\")\n",
    "df.head()"
   ]
  },
  {
   "cell_type": "markdown",
   "id": "e874e22b-d1f2-40fb-b2d9-5995c640c305",
   "metadata": {},
   "source": [
    "# 토큰화"
   ]
  },
  {
   "cell_type": "code",
   "execution_count": 3,
   "id": "b9f8cb8f-74a9-4654-b1b2-0db149022517",
   "metadata": {},
   "outputs": [
    {
     "name": "stdout",
     "output_type": "stream",
     "text": [
      "============================================================\n",
      "단어 카운트 : \n",
      " OrderedDict([('k', 8), ('food', 6), ('ourhome', 1), ('tests', 1), ('potential', 11), ('of', 34), ('korean', 34), ('catering', 1), ('services', 2), ('on', 44), ('global', 14), ('stage', 1), ('samsung', 32), ('starts', 1), ('mass', 2), ('production', 6), ('most', 1), ('advanced', 4), ('dram', 2), ('chips', 11), ('korea', 49), ('bets', 5), ('display', 4), ('technologies', 2), ('gs25', 1), ('to', 163), ('debut', 1), ('chatgpt', 3), ('developed', 2), ('whiskey', 1), ('highball', 1), (\"thailand's\", 1), ('ptt', 1), ('seeks', 14), ('investment', 6), ('partnerships', 2), ('with', 28), ('tech', 10), ('firms', 13), ('ukraine', 5), ('asks', 1), ('businesses', 5), ('help', 2), ('rebuild', 1), ('war', 2), ('torn', 1), ('country', 1), ('electricity', 1), ('bills', 1), ('rise', 4), ('by', 11), ('5', 1), ('3', 1), ('as', 16), ('kepco', 1), ('battles', 1), ('mounting', 2), ('losses', 1), ('herald', 18), ('interview', 18), ('us', 23), ('states', 1), ('compete', 1), ('lure', 1), ('battery', 20), ('makers', 6), ('hmm', 1), ('joins', 2), ('takeover', 4), ('bid', 3), ('buy', 2), ('hyundai', 18), ('lng', 1), ('shipping', 1), ('hanwha', 1), ('aerospace', 1), ('kt', 5), ('added', 1), ('msci', 5), ('index', 6), ('coupang', 8), ('extends', 1), ('winning', 2), ('streak', 2), ('record', 3), ('earnings', 5), ('kb', 4), ('chief', 16), ('ease', 2), ('concerns', 2), ('over', 10), ('real', 3), ('estate', 3), ('financing', 1), ('fss', 3), ('promotes', 2), ('finance', 4), ('in', 89), ('southeast', 2), ('asia', 3), ('financial', 7), ('bolsters', 1), ('ties', 7), ('daewoo', 5), ('e', 6), ('c', 8), ('eyes', 5), ('north', 1), ('american', 1), ('prime', 1), ('market', 30), ('business', 8), ('forum', 5), ('discusses', 1), ('opportunities', 4), ('saudi', 5), ('arabia', 3), ('kh', 14), ('explains', 11), ('fast', 3), ('franchises', 1), ('fail', 1), ('find', 2), ('local', 2), ('buyers', 1), ('lg', 17), ('cns', 1), ('microsoft', 1), ('bolster', 4), ('security', 1), ('merck', 1), ('build', 6), ('bioprocessing', 1), ('plant', 6), ('boost', 3), ('promised', 1), ('for', 76), ('chip', 9), ('industry', 5), ('skiet', 1), ('supply', 5), ('separators', 1), ('evs', 3), (\"china's\", 1), ('sunwoda', 1), ('exports', 1), ('decline', 2), ('7', 3), ('consecutive', 2), ('months', 1), ('amid', 4), ('slump', 1), ('s', 17), ('calls', 6), ('resolve', 1), ('legal', 2), ('dispute', 1), ('nuclear', 2), ('reactor', 2), ('export', 4), ('czech', 3), ('republic', 3), ('agree', 1), ('minimize', 1), ('act', 3), ('induced', 1), ('uncertainties', 2), ('beats', 1), ('q1', 3), ('estimates', 2), ('outpaces', 1), ('1st', 3), ('time', 6), ('fairfax', 1), ('county', 1), ('ready', 4), ('support', 2), ('companies', 1), ('expanding', 1), ('into', 4), ('contribution', 6), ('luxury', 2), ('boom', 1), ('shows', 2), ('the', 14), ('power', 2), ('brand', 3), ('ink', 1), ('23', 1), ('mous', 1), ('rachet', 1), ('up', 12), ('alliance', 3), ('ginseng', 3), ('corp', 1), ('finds', 1), ('more', 5), ('evidence', 1), ('could', 4), ('stop', 2), ('alzheimer’s', 1), ('reinstates', 1), ('japan', 4), ('track', 2), ('trade', 2), (\"'white\", 1), (\"list'\", 1), ('foreign', 4), ('nationals', 1), ('be', 6), ('allowed', 1), ('enjoy', 1), ('sports', 1), ('toto', 1), ('online', 2), ('mobis', 1), ('bigger', 4), ('presence', 5), ('markets', 2), ('why', 5), ('does', 2), ('bank', 5), ('hold', 1), ('money', 2), ('losing', 2), ('budget', 2), ('phone', 2), ('service', 5), ('spend', 2), ('w560b', 1), ('promote', 2), ('software', 1), ('sector', 2), ('this', 6), ('year', 8), ('diageo', 1), ('british', 1), ('embassy', 1), ('sponsor', 1), ('chevening', 1), ('scholarships', 1), ('until', 1), ('2026', 1), ('eu', 2), ('boon', 2), ('parts', 2), ('ministry', 2), (\"vietnam's\", 2), ('thai', 2), ('binh', 2), ('province', 1), ('looks', 3), ('attract', 2), ('from', 19), ('hanwha’s', 2), ('dsme', 3), ('approved', 1), ('next', 8), ('week', 4), ('push', 6), ('sme', 1), ('led', 1), ('r', 2), ('d', 3), ('innovation', 2), ('daewoong', 1), ('inks', 3), ('deal', 9), ('sygnature', 1), ('discovery', 2), ('drug', 1), ('orders', 1), ('leadership', 3), ('batteries', 2), ('has', 4), ('not', 8), ('yet', 1), ('gained', 1), ('approval', 4), ('at', 19), ('home', 6), ('biologics', 5), ('secures', 3), ('stake', 4), ('swiss', 1), ('biotech', 3), ('firm', 2), ('pay', 3), ('safe', 3), (\"'for\", 1), (\"now'\", 1), ('apple', 1), ('enters', 3), ('kotra', 1), ('vows', 4), ('all', 9), ('out', 7), ('efforts', 1), ('meet', 2), ('685b', 1), ('goal', 1), ('ibk', 1), ('double', 3), ('overseas', 3), ('profits', 1), ('2025', 1), ('air', 1), ('goes', 1), ('close', 4), ('asiana', 1), ('zero', 3), ('sugar', 1), ('drinks', 1), ('reshape', 3), ('beverage', 1), ('duong', 1), ('seek', 4), ('cooperation', 2), ('new', 17), ('city', 2), ('project', 3), ('electronics', 3), ('ceo', 12), ('travels', 1), ('further', 3), ('dominance', 2), ('greets', 1), ('bie', 1), ('delegation', 1), ('futuristic', 3), ('action', 1), ('against', 5), ('laundering', 1), ('hinders', 2), ('korea’s', 12), ('motor', 5), ('unveils', 4), (\"'busan\", 1), ('is', 9), (\"'\", 1), ('video', 1), ('national', 2), ('debt', 3), ('hits', 5), ('high', 7), ('pandemic', 3), ('spending', 3), ('busan', 3), ('generate', 1), ('w60tr', 1), ('host', 2), ('2030', 1), ('world', 5), ('expo', 1), ('financiers', 4), ('mirae', 2), ('asset', 4), ('sets', 3), ('down', 1), ('roots', 1), ('vietnam', 2), ('mbk', 1), ('chairman', 2), ('highlights', 1), ('northeast', 1), ('fails', 2), ('join', 4), ('government', 2), ('bond', 2), ('bmw', 2), ('presents', 2), ('revamped', 1), ('electrification', 1), ('vision', 4), ('political', 1), ('meddling', 1), ('prolongs', 1), ('vacuum', 1), ('six', 2), ('10', 4), ('willing', 2), ('invest', 3), ('kcci', 1), ('pushing', 1), ('inclusion', 1), ('sk', 24), ('hynix', 3), ('says', 9), (\"won't\", 1), ('cut', 4), ('‘vietnam’s', 1), ('rising', 1), ('middle', 2), ('class', 1), ('will', 6), ('drive', 3), ('growth', 6), ('capital', 1), ('market’', 1), ('hana', 3), ('hints', 2), ('rate', 7), ('cuts', 1), ('borrowers', 2), ('l’oreal', 1), ('lvmh', 1), ('beauty', 1), ('giants', 4), ('race', 5), ('acquire', 3), ('able', 2), ('taking', 3), ('indonesia', 3), ('level', 1), ('hankook', 1), ('tire', 1), ('woos', 1), ('young', 3), ('people', 2), ('‘made', 1), ('hankook’', 1), ('campaign', 2), ('kai', 1), ('denies', 3), ('sellout', 1), ('rumor', 2), ('steel', 2), ('sell', 4), ('beijing', 1), ('unit', 3), ('after', 6), ('years', 2), ('sluggish', 1), ('sales', 4), ('your', 2), ('area', 2), ('daesang', 1), ('aims', 6), ('grow', 1), ('kimchi', 2), ('consumption', 1), ('globally', 1), ('biz', 6), ('groups', 3), ('create', 2), ('future', 4), ('partnership', 3), ('fund', 4), (\"gm's\", 1), ('auto', 4), ('india', 4), ('mastern', 1), ('broaden', 1), ('portfolio', 1), ('boosts', 2), ('naver', 8), ('kakao', 3), ('cement', 1), ('payment', 1), ('going', 1), ('‘fast', 1), ('beauty’', 1), ('strategy', 1), ('diplomacy', 1), ('urged', 2), ('swing', 1), ('launches', 3), ('mobility', 2), ('users', 1), ('hint', 1), ('‘price', 1), ('war’', 1), ('chinese', 1), ('rivals', 4), ('withdraws', 1), ('focus', 2), ('taiwan', 2), ('networks', 2), ('ai', 10), ('startup', 6), ('pulmuone', 1), ('targets', 1), ('health', 3), ('conscious', 1), ('americans', 1), ('tofu', 1), ('lineup', 2), ('bentley', 1), ('first', 11), ('showroom', 1), ('seoul', 8), ('ceos', 4), ('discuss', 2), ('inclusivity', 1), ('female', 1), ('employees', 2), (\"'soft\", 1), ('plays', 2), ('key', 3), ('role', 2), ('green', 3), (\"push'\", 1), ('welcomes', 1), ('entering', 1), ('oled', 4), ('tv', 1), ('firmer', 1), ('footing', 1), ('save', 1), ('chipmakers', 4), ('inventories', 1), ('weekender', 1), ('soju', 1), ('price', 4), ('hikes', 1), ('are', 5), ('causing', 1), ('koreans', 5), ('so', 1), ('much', 2), ('anguish', 1), ('weak', 1), ('demand', 2), ('pushes', 1), ('economy', 3), ('recovery', 4), ('off', 5), ('extend', 1), ('q4', 1), ('2022', 15), ('behind', 4), ('wheel', 2), ('rav4', 1), ('plug', 1), ('hybrid', 1), ('toyota’s', 1), ('latest', 1), ('offering', 1), ('ev', 11), ('hesitators', 1), ('posco', 6), ('international', 3), ('wins', 1), ('exploring', 1), ('rights', 1), ('indonesian', 1), ('gas', 2), ('mines', 1), ('amcham', 2), ('extension', 1), ('workers’', 1), ('tax', 2), ('benefit', 1), ('european', 2), ('offer', 1), ('mixed', 1), ('outlook', 3), ('survey', 2), ('second', 2), ('term', 1), ('compound', 1), ('immobilizes', 1), ('sperm', 1), ('hours', 2), ('research', 2), ('newsmaker', 5), ('banks’', 1), ('oligopoly', 1), ('competitiveness', 1), ('align', 1), ('partners', 3), ('faces', 3), ('sm', 2), ('founder', 1), ('hybe', 2), ('take', 3), (\"'human'\", 1), ('hr', 1), ('trusted', 1), ('names', 1), ('banks', 4), ('under', 1), ('fire', 1), ('‘insufficient’', 1), ('society', 1), ('ford', 1), ('stops', 1), ('truck', 1), ('issue', 2), ('elevator’s', 1), ('open', 6), ('api', 1), ('enjoys', 1), ('wider', 1), ('adoption', 1), ('pins', 1), ('hopes', 2), ('upgrade', 4), ('grants', 1), ('w200m', 1), ('nurture', 2), ('social', 1), ('ventures', 1), ('mobile', 2), ('extending', 1), ('hugel', 1), ('huons', 1), ('stress', 1), ('no', 4), (\"medytox's\", 1), ('botox', 1), ('patent', 1), ('animal', 1), ('drugs', 1), ('have', 1), ('long', 1), ('way', 1), ('go', 2), ('despite', 3), ('surging', 2), ('pet', 1), ('population', 1), ('backed', 3), ('loop', 1), ('industries', 2), ('expansion', 3), ('asia’s', 2), ('recycling', 2), ('bioscience', 2), ('w330b', 1), ('songdo', 1), ('relocation', 2), ('shift', 3), ('away', 1), ('china', 5), ('toward', 1), ('base', 1), ('restart', 1), ('recruiting', 1), ('process', 1), ('fx', 2), ('offshore', 1), ('dhl', 1), ('triple', 2), ('logistics', 1), ('capacity', 1), ('incheon', 1), ('airport', 1), ('expected', 2), ('log', 1), ('70', 1), ('drop', 2), ('profit', 2), ('covid', 1), ('vaccine', 2), ('dwindles', 1), ('fed', 3), ('hike', 5), ('inflation', 8), ('setting', 1), ('challenge', 1), ('bok', 8), ('hit', 3), ('operating', 1), ('loss', 2), ('decade', 2), ('sdi', 1), ('w20tr', 2), ('g', 1), ('refuses', 1), ('spin', 1), ('2027', 3), ('playing', 1), ('it', 2), ('but', 4), ('too', 1), ('nps', 1), ('cio', 1), ('mission', 2), ('make', 2), ('critical', 1), ('clash', 1), ('robots', 5), ('nurturing', 1), ('powerhouse', 1), ('startups', 3), ('sanofi', 1), ('abl', 1), ('bio', 2), ('license', 1), ('oncology', 1), ('treatment', 1), ('candidates', 1), ('big', 9), ('hallyu', 1), ('w1', 3), ('2tr', 1), ('becomes', 3), ('biggest', 1), ('shareholder', 2), (\"spain's\", 1), ('1', 8), ('resell', 1), ('platform', 2), ('yuhan', 1), ('lotte', 1), ('pledges', 1), ('3b', 2), ('beef', 1), ('san', 1), ('francisco', 1), ('biopharma', 1), ('networking', 1), ('event', 1), ('palm', 1), ('oil', 1), ('refining', 1), ('flock', 1), ('jpmorgan', 1), ('healthcare', 2), ('conference', 1), ('ecoplant', 1), ('cscec', 1), ('expand', 3), ('egypt', 1), ('ces', 9), ('2023', 2), ('hd', 1), ('lead', 2), (\"'ocean\", 1), (\"transformation'\", 1), ('sustainable', 3), ('brace', 2), ('challenges', 1), ('embrace', 1), ('changes', 3), ('kia', 1), ('800', 1), ('000', 1), ('milestone', 1), ('boryung', 1), ('assailed', 1), ('investors', 3), ('space', 3), ('danuri', 2), ('successfully', 2), ('lunar', 5), ('orbit', 1), ('yuanta', 1), ('securities', 2), ('sale', 2), ('resurfaces', 1), ('legochem', 1), ('biosciences', 1), ('6t', 1), ('licensing', 1), ('amgen', 1), ('outlines', 1), ('value', 1), ('chain', 3), ('sight', 1), ('reform', 3), ('spur', 1), ('15', 1), ('projects', 2), ('unveiled', 1), ('leap', 1), ('chiefs', 1), ('ramp', 1), ('chosen', 1), ('corporate', 1), ('stars', 1), ('css', 1), ('award', 1), ('vietnam’s', 1), ('minister', 6), ('urges', 2), ('energy', 5), ('resource', 1), ('pledge', 2), ('economic', 2), ('execs', 3), ('30s', 2), ('40s', 2), ('change', 2), ('delayed', 1), ('supplies', 1), ('caused', 2), (\"truckers'\", 1), ('strike', 1), ('amounts', 1), ('6', 2), ('tln', 1), ('won', 1), (\"gov't\", 1), ('advised', 1), ('adopt', 1), ('swapping', 1), ('better', 1), ('efficiency', 1), ('public', 2), ('procurement', 2), ('helps', 1), ('eyeing', 1), ('manipulation', 1), ('probe', 1), ('dent', 1), ('can', 4), ('counter', 1), ('crisis', 2), ('arthur', 1), ('little', 1), ('‘you', 1), ('start', 2), ('making', 1), ('gamers', 1), ('disabilities', 1), ('tomorrow’', 1), ('crown', 1), (\"prince's\", 1), ('visit', 2), ('brings', 1), ('30b', 1), ('busines', 1), ('deals', 1), ('turf', 1), ('deficit', 1), ('returns', 1), ('face', 2), ('downgrade', 1), ('credit', 2), ('ratings', 1), ('gm', 2), ('safety', 1), ('management', 2), ('daejeon', 1), (\"'largest\", 1), (\"ever'\", 1), ('investments', 1), ('twitter', 1), ('likely', 5), ('lose', 1), ('battle', 3), ('dismissed', 1), ('interested', 1), ('slidable', 1), ('phones', 1), ('analyst', 1), ('africa', 2), ('agriculture', 1), ('regulatory', 3), ('globalization', 1), ('boosting', 1), ('ecosystem', 1), ('kdi', 1), ('warns', 4), ('2050', 1), ('without', 1), ('structural', 1), ('reforms', 2), ('orbiter', 2), (\"bts'\", 1), (\"'dynamite'\", 1), ('develops', 1), ('world’s', 1), ('stretchable', 1), ('resolution', 1), ('matter', 2), ('when', 1), ('if', 1), ('glovis', 1), ('enter', 1), ('voices', 1), ('confidence', 1), ('data', 3), ('backup', 1), ('scene', 3), (\"firms'\", 1), ('cphi', 3), ('triples', 1), ('proxy', 1), ('looms', 1), ('lee', 3), ('jae', 3), ('yong', 2), ('tightens', 1), ('grip', 1), ('exclusive', 1), ('pharmteco’s', 1), ('french', 1), ('cdmo', 1), ('complete', 1), ('construction', 1), ('marks', 1), ('53rd', 1), ('anniversary', 1), ('low', 4), ('celltrion', 3), ('worldwide', 2), ('science', 1), ('mulls', 1), ('developing', 1), ('system', 2), ('warn', 1), ('crowd', 1), ('crush', 1), ('inject', 1), ('w5', 1), ('2b', 2), ('joint', 3), ('based', 1), ('content', 1), ('univ', 2), ('toronto', 1), ('woo', 1), ('customers', 1), ('geopolitical', 1), ('bleak', 1), ('cross', 2), ('border', 2), ('commerce', 1), ('a', 4), ('order', 1), ('transforming', 1), ('our', 1), ('shared', 1), ('oceans', 1), ('suffer', 1), ('cap', 1), ('profitability', 2), ('soaring', 1), ('past', 1), ('w75tr', 1), ('etf', 1), ('keep', 1), ('growing', 2), ('assets', 1), ('worth', 2), ('lawmaker', 2), ('virtual', 3), ('human', 5), ('beyond', 1), ('locus', 1), ('x', 2), ('naver’s', 1), ('evolving', 1), ('eliminate', 1), ('care', 2), ('blind', 1), ('spots', 1), ('technology', 1), ('empower', 1), ('humanity', 1), ('digital', 6), ('age', 2), ('ban', 1), ('forcing', 1), ('exit', 1), ('advertise', 1), ('landmarks', 1), ('confirms', 1), ('dollar', 1), ('adds', 2), ('woes', 2), ('bat', 1), ('glo', 1), ('contains', 1), ('less', 1), ('toxicants', 1), ('riskier', 1), ('bankruptcy', 1), ('ahead', 2), ('duty', 1), ('free', 1), ('shops', 1), ('strive', 1), ('reduce', 1), ('reliance', 1), ('readies', 1), ('w10tr', 1), ('‘stabilization’', 1), ('contain', 1), ('volatility', 2), ('produce', 1), ('4nm', 1), ('softbank', 2), ('chief’s', 1), ('arm', 1), ('lithium', 1), ('forces', 1), ('material', 1), ('volvo', 1), ('ce', 1), ('electric', 1), ('excavators', 1), ('balanced', 1), ('approach', 1), ('blockchain', 2), ('show', 2), ('greater', 1), ('appetite', 1), ('vegan', 1), ('foods', 1), ('experts', 3), ('talk', 2), ('about', 2), ('utilizing', 1), ('kaist', 1), ('nyu', 1), ('campus', 1), ('ny', 1), ('underway', 1), ('kdb', 2), ('reports', 2), ('selling', 1), ('eats', 1), ('foreigners', 2), ('w12tr', 1), ('stocks', 4), (\"'covid\", 1), ('19', 2), ('still', 2), ('getting', 1), (\"sick'\", 1), ('choo', 1), ('solid', 2), ('won’s', 1), ('slide', 2), ('wide', 1), ('gap', 1), ('enhanced', 1), ('decelerates', 1), ('august', 1), ('risks', 3), ('persist', 1), ('pension', 1), ('uphill', 1), ('plan', 2), ('irreversible', 1), ('climate', 1), ('even', 1), ('decreased', 1), ('greenhouse', 1), ('study', 1), ('connectivity', 1), ('india’s', 1), ('greenko', 1), ('work', 4), ('together', 1), ('hydrogen', 5), ('industrial', 1), ('boast', 1), ('h2', 1), ('policy', 3), ('hawkish', 1), ('cannot', 1), ('tightening', 1), ('before', 1), ('governor', 1), ('regulation', 1), ('korea‘s', 1), ('hosts', 1), ('makes', 1), ('4th', 1), ('invests', 3), ('w4b', 1), ('metaverse', 6), ('developer', 1), ('com2verse', 1), ('establishes', 1), ('office', 2), ('boston', 1), ('trading', 2), ('subscriptions', 2), ('lower', 1), ('prices', 3), ('raises', 3), ('reaches', 1), ('ballistic', 1), ('transfer', 1), ('trajectory', 1), ('shoot', 1), ('moon', 4), ('friday', 1), ('carbon', 4), ('capture', 1), ('storage', 1), ('mrna', 1), ('substance', 1), ('lawmakers', 1), ('float', 1), ('bill', 3), ('benefits', 1), ('revision', 1), ('allow', 4), ('subscription', 1), ('sidewalk', 1), ('visas', 1), ('among', 3), ('51', 1), ('valeo', 1), ('w73b', 1), ('daegu', 1), ('foldable', 1), ('smartphones', 1), ('million', 1), ('shipments', 1), ('housing', 2), ('signs', 1), ('slowdown', 1), ('one', 1), ('diagnosis', 1), ('diseases', 1), ('possible', 1), ('proteomics', 1), ('expert', 1), ('retail', 5), ('shopping', 1), ('complex', 1), ('gwangju', 1), ('genesis', 1), ('g70', 1), ('shooting', 1), ('brake', 1), ('become', 2), ('heritage', 1), ('model', 1), ('kyung', 1), ('hee', 1), ('philanthropic', 1), ('‘sk', 1), ('innovation’s', 1), ('transformation', 1), ('success’', 1), ('hyundai’s', 2), ('dilemma', 1), ('winds', 1), ('shake', 1), ('samsung’s', 2), ('militant', 1), ('culture', 1), ('hatchback', 1), ('back', 2), ('visits', 2), ('w1tr', 1), ('package', 1), ('kospi', 3), ('kosdaq', 1), ('see', 2), ('sharpest', 1), ('40', 1), ('stock', 1), ('indexes', 1), ('south', 2), ('homegrown', 1), ('line', 1), ('plus', 1), ('remote', 1), ('abroad', 1), ('elite', 1), ('club', 1), ('7th', 1), ('member', 2), ('bts’', 1), ('hiatus', 1), ('announcement', 1), ('rattles', 1), ('shares', 5), ('1b', 1), ('funding', 2), ('smaller', 2), ('oleds', 1), ('asml', 1), ('hq', 1), ('end', 2), ('intensifies', 1), ('ammonia', 1), ('fuel', 1), ('cell', 1), ('spotlight', 1), ('mcdonald’s', 1), ('month', 2), ('skyrockets', 1), ('regaining', 1), ('enthusiasm', 1), ('yong’s', 1), ('europe', 1), ('trip', 1), ('‘danuri’', 2), ('set', 2), ('exploration', 1), ('stresses', 1), ('post', 2), ('telecom', 1), ('touts', 2), ('uam', 1), ('‘game', 1), ('changer’', 1), ('call', 1), ('aimed', 1), ('seniors', 1), ('motor’s', 1), ('n', 1), ('cars', 1), ('nurburgring', 1), ('its', 2), ('interest', 1), ('75', 1), ('curb', 1), ('named', 2), ('porsche', 1), ('taycan', 1), ('gts', 1), ('racing', 1), ('car', 3), ('stable', 2), ('job', 1), ('seekers', 1), ('taiwan’s', 1), ('fubon', 1), ('third', 1), ('largest', 1), ('card', 1), ('krx', 3), ('prepares', 1), ('launch', 1), ('futures', 1), ('yoon', 2), ('borrowing', 1), ('‘vulnerable’', 1), ('geely’s', 1), ('renault', 1), ('seen', 1), ('official', 2), ('entry', 4), ('conservative', 1), ('leader', 1), ('4', 2), ('chaebol', 2), ('extra', 1), ('small', 1), ('yoon’s', 1), ('move', 2), ('toss', 1), ('lender', 1), ('accounts', 1), ('how', 4), ('used', 2), (\"'korea\", 1), ('now', 1), ('ecosystem’', 1), ('2nd', 1), ('highest', 1), ('region', 1), ('imf', 1), ('ditches', 1), ('acquisition', 1), ('plans', 1), ('entertainment', 1), ('former', 1), ('ksu', 1), ('isu', 1), ('presidency', 1), ('full', 2), ('center', 2), ('deputy', 1), ('mayor', 1), ('gates', 1), ('terrapower', 1), ('report', 3), ('transition', 1), ('team', 2), ('meets', 1), ('watchdog', 1), ('steps', 1), ('scrutiny', 1), ('ssangyong', 2), ('poised', 1), ('beat', 1), ('nanox', 1), ('begins', 1), ('producing', 1), ('ray', 1), ('anti', 1), ('aging', 1), ('materials', 2), ('funds', 1), ('underwear', 1), ('maker', 1), ('jump', 1), ('square', 2), ('w2tr', 1), ('bet', 2), ('conglomerates', 1), ('delve', 1), ('nearly', 1), ('diagnosed', 1), ('smartphone', 1), ('overdependence', 1), ('feud', 1), ('casts', 1), ('doubt', 1), ('yongsan', 1), ('makeover', 1), ('carmakers', 1), ('aim', 1), ('signals', 1), ('property', 1), ('gaining', 1), ('vitality', 1), ('soar', 1), ('lenient', 1), ('penalties', 1), ('giant', 1), ('wealth', 1), ('gobbles', 1), ('stakes', 1), ('game', 2), ('election', 4), ('moon’s', 1), ('failed', 1), ('moved', 1), ('overwhelmed', 1), ('unlikely', 1), ('get', 1), ('say', 1), ('tesla', 2), ('leave', 1), ('mwc', 1), ('flying', 1), ('taxis', 1), ('xr', 1), ('telcos', 1), ('unlock', 1), ('regulators', 2), ('mull', 1), ('contingencies', 1), ('what’s', 1), ('shinsegae’s', 1), ('w4tr', 1), ('yeouido', 1), ('landmark', 1), ('resurface', 1), ('fears', 1), ('biden’s', 1), ('russia', 1), ('sanctions', 1), ('indirectly', 1), ('solus', 1), ('factory', 2), ('quebec', 1), ('escalates', 1), ('worries', 2), ('dunamu’s', 1), ('tops', 1), ('w100b', 1), ('review', 1), ('delisting', 1), ('osstem', 2), ('implant', 1), ('eye', 2), ('really', 1), ('breakthrough', 1), ('talks', 1), ('turn', 2), ('offices', 1), ('banking', 2), ('branches', 1), ('goldman', 1), ('sachs', 1), ('expects', 1), ('2024', 1), ('sparkle', 1), ('rollover', 1), ('offered', 1), ('self', 1), ('employed', 1), ('cartels', 1), ('nextrise', 1), ('kick', 1), ('june', 1), ('positive', 1), ('meat', 1), ('alternatives', 1), ('emulating', 1), ('brain', 1), ('regrets', 1), ('veto', 1), ('merger', 1), ('longer', 1), ('win', 1), ('status', 1), ('13', 1), ('9', 1), ('‘not', 1), ('ready’', 1), ('eleven', 1), ('provide', 1), ('franchise', 1), ('owners', 1), ('solution', 4), ('ipo', 5), ('draws', 1), ('w114tr', 1), ('bids', 1), ('registers', 1), ('robot', 1), ('‘samsung', 1), ('bot’', 1), ('canada', 1), ('retreat', 1), ('may', 2), ('coming', 2), ('search', 1), ('owner', 1), ('tie', 1), ('heavy', 1), ('adani', 1), ('hands', 1), ('mill', 1), ('china’s', 1), ('subsidies', 1), ('pharmteco', 1), ('pre', 1), ('proposes', 1), ('obligating', 1), ('fsc’s', 1), ('banks‘', 1), ('partial', 1), ('closure', 3), ('dip', 1), ('digits', 1), ('development', 1), ('qualcomm', 1), ('unity', 1), ('linked', 1), ('twin', 1), ('suit', 1), ('theft', 1), ('case', 1), ('skt', 1), ('5g', 1), ('manufacturing', 1), ('tvs', 2), ('larger', 1), ('hails', 1), ('newcomers', 1), ('cj', 2), ('cheiljedang', 1), ('omicron', 2), ('scare', 2), ('manufacturers', 1), ('retailers', 1), ('providers', 1), ('gear', 1), ('firms‘', 1), ('intensified', 1), ('rush', 1), ('puts', 1), ('pressure', 1), ('solutions', 1), ('vr', 1), ('limelight', 1), ('special', 1), ('nearer', 1), ('than', 2), ('you', 1), ('think', 1), ('biogen', 1), ('buyout', 1), ('completes', 1), ('phase', 2), ('intel', 1), ('remains', 1), ('thorny', 1), ('outline', 1), ('earth’s', 1), ('emissions', 2), ('rebound', 2), ('slow', 1), ('w35b', 1), ('agricultural', 1), ('labs', 1), ('collaborate', 1), ('forecast', 1), ('heats', 2), ('three', 1), ('party', 1), ('an', 1), ('‘person', 1), ('year’', 1), ('cryptocurrency', 1), ('‘green’', 1), ('rage', 1), ('ibm', 1), ('last', 1), ('gen', 1), ('hynix’s', 1), ('release', 1), ('debuts', 1), ('hyperscale', 1), ('exaone', 1), ('robotics', 1), ('surge', 1), ('11', 1), ('cptpp', 1), ('olive', 1), ('speed', 1), ('reviews', 1), ('ontario', 1), ('ushers', 1), ('generation', 1), ('jungheung', 1), ('managerial', 1), ('independence', 1), ('stabilize', 1), ('some', 1), ('districts', 1), ('krafton', 1), ('w13b', 1), ('east', 1), ('publisher', 1), ('replaces', 1), ('group', 1), ('retains', 1), ('delays', 1), ('decision', 1), ('chairman’s', 2), ('brother', 2), ('consumer', 2), ('chemical', 1), ('via', 2), ('venture', 1), ('shocking', 1), ('sovereign', 1), ('head', 1), ('esg', 1), ('impact', 1), ('laos', 1), ('rises', 1), ('hidden', 1), ('gem', 1), ('developers', 1), ('younger', 1), ('return', 1), ('closely', 1), ('monitor', 1), ('nonghyup', 1), ('‘hired’', 1), ('digitalization', 1), ('core', 1), ('rivian’s', 1), ('initial', 1), ('models', 1), ('lee’s', 1), ('‘new', 1), ('samsung’', 1), ('shape', 1), ('dutch', 1), ('manager', 1), ('citigroup', 1), ('cost', 1), ('max', 1), ('8tr', 1), ('deutsche', 1), ('korbit', 1), ('adopts', 1), ('p2e', 1), ('scheme', 1), ('fall', 1), ('near', 1), ('voluntary', 1), ('retirements', 1), ('‘nfts', 1), ('disruptive', 1), ('cryptocurrencies’', 1), ('woori’s', 1), ('m', 1), ('citibank’s', 1), ('subject', 1), ('regulator’s', 1), ('fsc', 1), ('failure', 1), ('citibank', 1), ('hope', 1), ('jackpots', 1), ('crypto', 1), ('exchanges‘', 1), ('‘for', 1), ('durable', 1), ('monetary', 1), ('remain', 1), ('accommodative’', 1), ('rethinking', 1), ('investing', 1), ('law', 1), ('trademark', 1), ('issues', 1), ('themed', 1), ('etfs', 1), ('listed', 1), ('blame', 1), ('short', 1), ('sellers', 1), ('forex', 1), ('bonds', 1), ('dump', 1), ('q3', 1), ('ipos', 1), ('highlight', 1), ('imminent', 1), ('successions', 1)])\n"
     ]
    }
   ],
   "source": [
    "from keras.preprocessing.text import Tokenizer\n",
    "text_list = df['key_title']\n",
    "\n",
    "token = Tokenizer()\n",
    "token.fit_on_texts(text_list)\n",
    "# print(' keras : \\n')\n",
    "# print('문장 카운트 : ',token.document_count) \n",
    "\n",
    "# print(\"===\"*20)\n",
    "# print(\"문장 토큰화(texts_to_sequences) : \")\n",
    "# text_seq_list = token.texts_to_sequences(text_list)\n",
    "# print(text_seq_list)\n",
    "\n",
    "# print(\"===\"*20)\n",
    "# for seq, sent in zip (text_seq_list,text_list) :\n",
    "#     print(sent, seq)\n",
    "\n",
    "print(\"===\"*20)      \n",
    "print('단어 카운트 : \\n', token.word_counts) \n",
    "\n",
    "\n",
    "# print(\"===\"*20)\n",
    "# print('각 단어에 매겨진 인덱스 값 :  \\n',token.word_index)\n",
    "\n",
    "# print(\"===\"*20)\n",
    "# print('각 단어가 몇 개의 문장에 포함되어 있는가 :  \\n',token.word_docs) \n"
   ]
  },
  {
   "cell_type": "code",
   "execution_count": 4,
   "id": "08324841-f205-40ba-b83e-e0d73c1fdb96",
   "metadata": {
    "tags": []
   },
   "outputs": [
    {
     "data": {
      "text/plain": [
       "collections.OrderedDict"
      ]
     },
     "execution_count": 4,
     "metadata": {},
     "output_type": "execute_result"
    }
   ],
   "source": [
    "word_counts=token.word_counts\n",
    "type(word_counts)\n",
    "# word_counts.keys()"
   ]
  },
  {
   "cell_type": "markdown",
   "id": "0b58a425-f832-4c18-bc03-bda15269c40f",
   "metadata": {},
   "source": [
    "# 표제어추출"
   ]
  },
  {
   "cell_type": "code",
   "execution_count": 5,
   "id": "d9fe1b36-6515-43b7-a4de-d80e5c5a1a19",
   "metadata": {},
   "outputs": [
    {
     "name": "stderr",
     "output_type": "stream",
     "text": [
      "[nltk_data] Downloading package wordnet to\n",
      "[nltk_data]     C:\\Users\\ASIA\\AppData\\Roaming\\nltk_data...\n",
      "[nltk_data]   Package wordnet is already up-to-date!\n"
     ]
    },
    {
     "data": {
      "text/plain": [
       "True"
      ]
     },
     "execution_count": 5,
     "metadata": {},
     "output_type": "execute_result"
    }
   ],
   "source": [
    "import nltk\n",
    "nltk.download('wordnet')"
   ]
  },
  {
   "cell_type": "markdown",
   "id": "1290da16-6651-4ab9-a77a-bc99d9bf0d4c",
   "metadata": {},
   "source": [
    "<pre>\n",
    "[nltk_data] Downloading package wordnet to\n",
    "[nltk_data]     C:\\Users\\677\\AppData\\Roaming\\nltk_data..."
   ]
  },
  {
   "cell_type": "code",
   "execution_count": 6,
   "id": "c802f60d-a347-4192-ab09-38e12c8aff56",
   "metadata": {},
   "outputs": [
    {
     "name": "stderr",
     "output_type": "stream",
     "text": [
      "[nltk_data] Downloading package omw-1.4 to\n",
      "[nltk_data]     C:\\Users\\ASIA\\AppData\\Roaming\\nltk_data...\n",
      "[nltk_data]   Package omw-1.4 is already up-to-date!\n"
     ]
    },
    {
     "data": {
      "text/plain": [
       "True"
      ]
     },
     "execution_count": 6,
     "metadata": {},
     "output_type": "execute_result"
    }
   ],
   "source": [
    "import nltk\n",
    "nltk.download('omw-1.4')"
   ]
  },
  {
   "cell_type": "markdown",
   "id": "17406444-5d21-43a9-ab01-dc94d0ca7f19",
   "metadata": {},
   "source": [
    "<pre>\n",
    "[nltk_data] Downloading package omw-1.4 to\n",
    "[nltk_data]     C:\\Users\\677\\AppData\\Roaming\\nltk_data..."
   ]
  },
  {
   "cell_type": "code",
   "execution_count": 7,
   "id": "f9dd5028-e886-4e8b-9d99-8ad3887f68e5",
   "metadata": {},
   "outputs": [
    {
     "name": "stdout",
     "output_type": "stream",
     "text": [
      "============================================================\n"
     ]
    }
   ],
   "source": [
    "from nltk.stem import WordNetLemmatizer\n",
    "lemmatizer = WordNetLemmatizer()\n",
    "\n",
    "# words = ['policy', 'doing', 'organization', 'have', 'going', 'love', 'lives', 'fly', 'dies', 'watched', 'has', 'starting']\n",
    "\n",
    "#------------ 'lives' -->  'life'  -------\n",
    "# print('표제어 추출 전 :',word_counts.keys())\n",
    "print(\"===\"*20)\n",
    "# print('표제어 추출 후 :',[lemmatizer.lemmatize(key) for key in word_counts.keys()])\n",
    "lem_words=[lemmatizer.lemmatize(key) for key in word_counts.keys()]\n",
    "\n",
    "##안 되는 거 같은데?? "
   ]
  },
  {
   "cell_type": "markdown",
   "id": "8d2ffdcb-0795-4904-82f6-20fe45b77d25",
   "metadata": {},
   "source": [
    "# 불용어"
   ]
  },
  {
   "cell_type": "code",
   "execution_count": 8,
   "id": "4920bee5-3094-4353-9ea0-e1c013177cbd",
   "metadata": {},
   "outputs": [
    {
     "name": "stderr",
     "output_type": "stream",
     "text": [
      "[nltk_data] Downloading package stopwords to\n",
      "[nltk_data]     C:\\Users\\ASIA\\AppData\\Roaming\\nltk_data...\n",
      "[nltk_data]   Package stopwords is already up-to-date!\n"
     ]
    },
    {
     "data": {
      "text/plain": [
       "True"
      ]
     },
     "execution_count": 8,
     "metadata": {},
     "output_type": "execute_result"
    }
   ],
   "source": [
    "import nltk\n",
    "nltk.download('stopwords')"
   ]
  },
  {
   "cell_type": "code",
   "execution_count": 9,
   "id": "8de98662-b446-4087-aaf5-059fb63cd621",
   "metadata": {},
   "outputs": [
    {
     "name": "stdout",
     "output_type": "stream",
     "text": [
      "불용어 개수 : 179\n",
      "불용어 10개 출력 : ['i', 'me', 'my', 'myself', 'we', 'our', 'ours', 'ourselves', 'you', \"you're\"]\n"
     ]
    }
   ],
   "source": [
    "from nltk.corpus import stopwords\n",
    "stop_words_list = stopwords.words('english')\n",
    "print('불용어 개수 :', len(stop_words_list))\n",
    "print('불용어 10개 출력 :',stop_words_list[:10])"
   ]
  },
  {
   "cell_type": "code",
   "execution_count": 10,
   "id": "82bb265c-d2cf-4876-a828-ae3278a43fb7",
   "metadata": {
    "tags": []
   },
   "outputs": [
    {
     "data": {
      "text/plain": [
       "1612"
      ]
     },
     "execution_count": 10,
     "metadata": {},
     "output_type": "execute_result"
    }
   ],
   "source": [
    "len(lem_words)"
   ]
  },
  {
   "cell_type": "code",
   "execution_count": 11,
   "id": "5982e9da-89c8-4d8d-b5cc-cb26dbd9820b",
   "metadata": {
    "tags": []
   },
   "outputs": [],
   "source": [
    "new_words = []\n",
    "for word in lem_words:\n",
    "    if word not in(stop_words_list):\n",
    "        new_words.extend(word)"
   ]
  },
  {
   "cell_type": "code",
   "execution_count": 12,
   "id": "589fbf1c-0854-477f-afc7-f8798fa7daa9",
   "metadata": {
    "tags": []
   },
   "outputs": [
    {
     "data": {
      "text/plain": [
       "1612"
      ]
     },
     "execution_count": 12,
     "metadata": {},
     "output_type": "execute_result"
    }
   ],
   "source": [
    "len(lem_words)"
   ]
  },
  {
   "cell_type": "code",
   "execution_count": 13,
   "id": "15dd1f88-3f1b-4bb3-b712-0956caa01de8",
   "metadata": {},
   "outputs": [],
   "source": [
    "# 불용어 제거도 안돼 ㅋㅋㅋㅋㅋㅋㅋㅋㅋㅋㅋ"
   ]
  },
  {
   "cell_type": "markdown",
   "id": "b5e7568b-a68a-41c5-ab00-ad2254b3bce8",
   "metadata": {},
   "source": [
    "# item 정렬"
   ]
  },
  {
   "cell_type": "code",
   "execution_count": 14,
   "id": "37710cf6-7e85-4a8d-8819-391d321c6730",
   "metadata": {
    "tags": []
   },
   "outputs": [],
   "source": [
    "# word_counts.sort_values()\n",
    "# sorted_dict = sorted(word_counts.items())\n",
    "# sorted_dict\n",
    "# item 오름차순 정렬"
   ]
  },
  {
   "cell_type": "markdown",
   "id": "a391d5f7-9b0a-419e-9c7f-7471ee102dfb",
   "metadata": {
    "tags": []
   },
   "source": [
    "# 갯수 정렬 ()"
   ]
  },
  {
   "cell_type": "code",
   "execution_count": 15,
   "id": "f8dc3b4f-01a2-442f-b5e7-c00eccbd3ff1",
   "metadata": {
    "tags": []
   },
   "outputs": [
    {
     "data": {
      "text/plain": [
       "[('to', 163),\n",
       " ('in', 89),\n",
       " ('for', 76),\n",
       " ('korea', 49),\n",
       " ('on', 44),\n",
       " ('of', 34),\n",
       " ('korean', 34),\n",
       " ('samsung', 32),\n",
       " ('market', 30),\n",
       " ('with', 28),\n",
       " ('sk', 24),\n",
       " ('us', 23),\n",
       " ('battery', 20),\n",
       " ('from', 19),\n",
       " ('at', 19),\n",
       " ('herald', 18),\n",
       " ('interview', 18),\n",
       " ('hyundai', 18),\n",
       " ('lg', 17),\n",
       " ('s', 17),\n",
       " ('new', 17),\n",
       " ('as', 16),\n",
       " ('chief', 16),\n",
       " ('2022', 15),\n",
       " ('global', 14)]"
      ]
     },
     "execution_count": 15,
     "metadata": {},
     "output_type": "execute_result"
    }
   ],
   "source": [
    "sorted_dict = sorted(word_counts.items(), key = lambda item: item[1], reverse = True)\n",
    "sorted_dict[:25]"
   ]
  },
  {
   "cell_type": "markdown",
   "id": "09537d32-50c7-407c-a2c1-585a79aa2fb4",
   "metadata": {},
   "source": [
    "# 나오네!!!!!\n",
    "<pre>\n",
    "('samsung', 32)\n",
    "('sk', 24)\n",
    "('battery', 20)\n",
    "('herald', 18)\n",
    "('hyundai', 18),\n",
    "('lg', 17)\n"
   ]
  },
  {
   "cell_type": "code",
   "execution_count": null,
   "id": "6647fcc3-0f85-4d82-8d9d-8655a30cc415",
   "metadata": {},
   "outputs": [],
   "source": []
  }
 ],
 "metadata": {
  "kernelspec": {
   "display_name": "Python 3 (ipykernel)",
   "language": "python",
   "name": "python3"
  },
  "language_info": {
   "codemirror_mode": {
    "name": "ipython",
    "version": 3
   },
   "file_extension": ".py",
   "mimetype": "text/x-python",
   "name": "python",
   "nbconvert_exporter": "python",
   "pygments_lexer": "ipython3",
   "version": "3.8.8"
  }
 },
 "nbformat": 4,
 "nbformat_minor": 5
}
