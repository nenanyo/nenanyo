{
 "cells": [
  {
   "cell_type": "code",
   "execution_count": 1,
   "id": "55f0d2c1-6740-488b-b468-3d9e930513c7",
   "metadata": {
    "tags": []
   },
   "outputs": [
    {
     "data": {
      "text/plain": [
       "0.39026970302092373"
      ]
     },
     "execution_count": 1,
     "metadata": {},
     "output_type": "execute_result"
    }
   ],
   "source": [
    "import sqlalchemy as sa\n",
    "import cx_Oracle\n",
    "import xml.etree.ElementTree as ET\n",
    "import json\n",
    "import requests\n",
    "from bs4 import BeautifulSoup\n",
    "\n",
    "\n",
    "import pandas as pd\n",
    "import time\n",
    "import datetime\n",
    "import random\n",
    "random.uniform(0.2, 1.2)"
   ]
  },
  {
   "cell_type": "markdown",
   "id": "4cb8c5ba-53ee-4a11-afef-3d4294a8e099",
   "metadata": {},
   "source": [
    "# 리스트에서 가져오기"
   ]
  },
  {
   "cell_type": "code",
   "execution_count": 7,
   "id": "150eccaa-d4be-4db2-8fb1-aecf64dfd9cc",
   "metadata": {
    "tags": []
   },
   "outputs": [
    {
     "name": "stderr",
     "output_type": "stream",
     "text": [
      "C:\\Users\\ASIA\\AppData\\Local\\Temp\\ipykernel_21924\\3816738458.py:13: DeprecationWarning: executable_path has been deprecated, please pass in a Service object\n",
      "  driver = webdriver.Chrome('chromedriver_110.exe')\n"
     ]
    }
   ],
   "source": [
    "# pip install selenium\n",
    "# download chrome driver\n",
    "\n",
    "import pandas as pd\n",
    "import time\n",
    "from bs4 import BeautifulSoup\n",
    "from selenium import webdriver\n",
    "from selenium.webdriver.common.by import By\n",
    "from selenium.webdriver.common.keys import Keys\n",
    "\n",
    "\n",
    "def mysearch() :\n",
    "    driver = webdriver.Chrome('chromedriver_110.exe')\n",
    "    driver.get(\"https://koreajoongangdaily.joins.com/section/business\")\n",
    "\n",
    "    #---------------------------------------------- 스크롤 다운\n",
    "    endkey = 4  # 스크롤 다운 시 12개목록씩 추가  -- 총 12*4=48개\n",
    "    while endkey:\n",
    "        # driver.find_element_by_tag_name('body').send_keys(Keys.END)\n",
    "        #ele_path = driver.find_element(By.CSS_SELECTOR, \"# __next > div > div.mainContainer_container__1GEbx > div > div > main > div:nth-child(2) > div.guide_GuidePanel__3S6xd > div > div > button\")\n",
    "        ele_path = driver.find_element(By.XPATH, '//*[@id=\"article_more\"]/button')\n",
    "        ## //*[@id=\"article_more\"]/button\n",
    "        driver.execute_script(\"arguments[0].click();\", ele_path);\n",
    "        time.sleep(2)\n",
    "        endkey -= 1\n",
    "\n",
    "        htmlstr = driver.page_source\n",
    "        soup = BeautifulSoup(htmlstr, features=\"html.parser\")\n",
    "        # \"#__next > div > div.mainContainer_container__1GEbx > div > div > main > div:nth-child(2) > div.guide_GuidePanel__3S6xd > div > ul > li:nth-child(1)\"\n",
    "        div_list = soup.select(\"#main-second-content > div.article-left > div\")\n",
    "        #----------------------------------------------\n",
    "\n",
    "        movie_list = []\n",
    "        for div in div_list[0:-2]: \n",
    "            href     = div.select_one(\"#main-second-content > div.article-left > div > a\").get('href')\n",
    "            title   = div.select_one(\"#main-second-content > div.article-left > div > a > div > h1\").text\n",
    "            content = div.select_one(\"#main-second-content > div.article-left > div > a > div > p\").text\n",
    "            # img = div.select_one(\"div > a > figure > img\").get('src')\n",
    "            # print(title, url)\n",
    "            # movie_list.append([url])\n",
    "            movie_list.append([title, href,content])\n",
    "        \n",
    "\n",
    "    df_news = pd.DataFrame(movie_list, columns=[\"title\",\"href\",\"content\"])\n",
    "    df_news.to_csv(\"./datasets/joong2.csv\", index=False)\n",
    "    # df_cont.to_csv(\"./datasets/joong3.csv\", index=False)\n",
    "    return movie_list\n",
    "\n",
    "\n",
    "a=mysearch()\n",
    "# print(len(div_list))"
   ]
  },
  {
   "cell_type": "code",
   "execution_count": 5,
   "id": "9ff951d1-831d-4d52-b2e1-4c3ecd9934d6",
   "metadata": {
    "tags": []
   },
   "outputs": [
    {
     "data": {
      "text/plain": [
       "[['Korea, U.S. agree to minimize investment uncertainties, business burdens',\n",
       "  'https://koreajoongangdaily.joins.com/2023/04/28/business/industry/Korea-US-Chips-and-Science-Act/20230428150759944.html',\n",
       "  'U.S. Secretary of Commerce Gina Raimondo and Korea’s Minister of Trade, Industry and Energy Lee Chang-yang on Thursday held a meeting in Washington on supply chains in the wake of President Yoon Suk Yeol’s state visit to the United States.']]"
      ]
     },
     "execution_count": 5,
     "metadata": {},
     "output_type": "execute_result"
    }
   ],
   "source": [
    "a[:1]\n"
   ]
  },
  {
   "cell_type": "code",
   "execution_count": 6,
   "id": "73f4a1cf-dec8-4e35-963c-217ac2d19635",
   "metadata": {
    "tags": []
   },
   "outputs": [
    {
     "data": {
      "text/plain": [
       "['Hillstate Wonju Restige offers benefits for tenants',\n",
       " 'https://koreajoongangdaily.joins.com/2023/04/27/business/guestReports/Hillstate-Wonju-Restige-offers-benefits-for-tenants/20230427164759903.html',\n",
       " 'Following the Bank of Korea’s decision to freeze the benchmark interest rate, consumers’ financial burden has decreased, but the possibility of further a hike in interest rates cannot be ruled out. And as the benchmark interest rate freezes for...']"
      ]
     },
     "execution_count": 6,
     "metadata": {},
     "output_type": "execute_result"
    }
   ],
   "source": [
    "a[-2]"
   ]
  },
  {
   "cell_type": "markdown",
   "id": "fb5aee17-4873-4ced-a005-51d269f4a579",
   "metadata": {},
   "source": [
    "# 키워드 포함 가져오기"
   ]
  },
  {
   "cell_type": "code",
   "execution_count": null,
   "id": "4bce3422-7d6c-42e8-a3b9-58f7dd77ae24",
   "metadata": {},
   "outputs": [],
   "source": []
  },
  {
   "cell_type": "code",
   "execution_count": null,
   "id": "794c26f6-a15d-44d7-9cdd-823962af3600",
   "metadata": {
    "tags": []
   },
   "outputs": [],
   "source": [
    "# pip install selenium\n",
    "# download chrome driver\n",
    "\n",
    "import pandas as pd\n",
    "import time\n",
    "from bs4 import BeautifulSoup\n",
    "from selenium import webdriver\n",
    "from selenium.webdriver.common.by import By\n",
    "from selenium.webdriver.common.keys import Keys\n",
    "\n",
    "\n",
    "def mysearch() :\n",
    "    driver = webdriver.Chrome('chromedriver_110.exe')\n",
    "    driver.get(\"https://koreajoongangdaily.joins.com/section/searchResult/profit?sectionCode=050101%2C050301%2C050701%2C050201%2C050801%2C050901%2C&searchFlag=3&filter=all&detailWord=profit&startDate=2000.01.01&endDate=2023.05.01&categoryList=Business\")\n",
    "    movie_list = []\n",
    "    #---------------------------------------------- 스크롤 다운\n",
    "    endkey = 300 # 스크롤 다운 시 12개목록씩 추가  -- 총 12*4=48개\n",
    "    while endkey:\n",
    "        # driver.find_element_by_tag_name('body').send_keys(Keys.END)\n",
    "        #ele_path = driver.find_element(By.CSS_SELECTOR, \"# __next > div > div.mainContainer_container__1GEbx > div > div > main > div:nth-child(2) > div.guide_GuidePanel__3S6xd > div > div > button\")\n",
    "        ele_path = driver.find_element(By.XPATH, '//*[@id=\"article_more\"]/button')\n",
    "        ## //*[@id=\"article_more\"]/button\n",
    "        driver.execute_script(\"arguments[0].click();\", ele_path);\n",
    "        time.sleep(2)\n",
    "        endkey -= 1\n",
    "\n",
    "        htmlstr = driver.page_source\n",
    "        soup = BeautifulSoup(htmlstr, features=\"html.parser\")\n",
    "        # \"#__next > div > div.mainContainer_container__1GEbx > div > div > main > div:nth-child(2) > div.guide_GuidePanel__3S6xd > div > ul > li:nth-child(1)\"\n",
    "        div_list = soup.select(\"#main-second-content > div.article-left > div\")\n",
    "        #----------------------------------------------\n",
    "\n",
    "        # movie_list = []\n",
    "        for div in div_list[0:-2]: \n",
    "            href     = div.select_one(\"#main-second-content > div.article-left > div > a\").get('href')\n",
    "            title   = div.select_one(\"#main-second-content > div.article-left > div > a > div > h1\").text\n",
    "            content = div.select_one(\"#main-second-content > div.article-left > div > a > div > p\").text\n",
    "            date   = div.select_one(\"#main-second-content > div.article-left > div > a > span.media-date > span\").text\n",
    "            # img = div.select_one(\"div > a > figure > img\").get('src')\n",
    "            # print(title, url)\n",
    "            # movie_list.append([url])\n",
    "            movie_list.append([title, href,content,date])\n",
    "        \n",
    "\n",
    "    df_news = pd.DataFrame(movie_list, columns=[\"title\",\"href\",\"content\",\"date\"])\n",
    "    df_news.to_csv(\"./data/joong_profit.csv\", index=False)\n",
    "    # df_cont.to_csv(\"./datasets/joong3.csv\", index=False)\n",
    "    return movie_list\n",
    "\n",
    "\n",
    "# a=mysearch()\n",
    "# print(len(div_list))"
   ]
  },
  {
   "cell_type": "code",
   "execution_count": null,
   "id": "2fa80373-e96b-42b7-bc14-47e7e18a2e01",
   "metadata": {},
   "outputs": [],
   "source": [
    "# 300 에서 오류"
   ]
  },
  {
   "cell_type": "code",
   "execution_count": 22,
   "id": "8a9ece3a-1acb-4d1c-9bee-fa3b71528aa3",
   "metadata": {},
   "outputs": [
    {
     "name": "stderr",
     "output_type": "stream",
     "text": [
      "C:\\Users\\ASIA\\AppData\\Local\\Temp\\ipykernel_13856\\115396914.py:13: DeprecationWarning: executable_path has been deprecated, please pass in a Service object\n",
      "  driver = webdriver.Chrome('chromedriver_110.exe')\n"
     ]
    },
    {
     "ename": "AttributeError",
     "evalue": "'NoneType' object has no attribute 'text'",
     "output_type": "error",
     "traceback": [
      "\u001b[1;31m---------------------------------------------------------------------------\u001b[0m",
      "\u001b[1;31mAttributeError\u001b[0m                            Traceback (most recent call last)",
      "Cell \u001b[1;32mIn[22], line 1\u001b[0m\n\u001b[1;32m----> 1\u001b[0m a\u001b[38;5;241m=\u001b[39m\u001b[43mmysearch\u001b[49m\u001b[43m(\u001b[49m\u001b[43m)\u001b[49m\n",
      "Cell \u001b[1;32mIn[20], line 38\u001b[0m, in \u001b[0;36mmysearch\u001b[1;34m()\u001b[0m\n\u001b[0;32m     36\u001b[0m title   \u001b[38;5;241m=\u001b[39m div\u001b[38;5;241m.\u001b[39mselect_one(\u001b[38;5;124m\"\u001b[39m\u001b[38;5;124m#main-second-content > div.article-left > div > a > div > h1\u001b[39m\u001b[38;5;124m\"\u001b[39m)\u001b[38;5;241m.\u001b[39mtext\n\u001b[0;32m     37\u001b[0m content \u001b[38;5;241m=\u001b[39m div\u001b[38;5;241m.\u001b[39mselect_one(\u001b[38;5;124m\"\u001b[39m\u001b[38;5;124m#main-second-content > div.article-left > div > a > div > p\u001b[39m\u001b[38;5;124m\"\u001b[39m)\u001b[38;5;241m.\u001b[39mtext\n\u001b[1;32m---> 38\u001b[0m date   \u001b[38;5;241m=\u001b[39m \u001b[43mdiv\u001b[49m\u001b[38;5;241;43m.\u001b[39;49m\u001b[43mselect_one\u001b[49m\u001b[43m(\u001b[49m\u001b[38;5;124;43m\"\u001b[39;49m\u001b[38;5;124;43m#main-second-content > div.article-left > div > a > span.media-date > span\u001b[39;49m\u001b[38;5;124;43m\"\u001b[39;49m\u001b[43m)\u001b[49m\u001b[38;5;241;43m.\u001b[39;49m\u001b[43mtext\u001b[49m\n\u001b[0;32m     39\u001b[0m \u001b[38;5;66;03m# img = div.select_one(\"div > a > figure > img\").get('src')\u001b[39;00m\n\u001b[0;32m     40\u001b[0m \u001b[38;5;66;03m# print(title, url)\u001b[39;00m\n\u001b[0;32m     41\u001b[0m \u001b[38;5;66;03m# movie_list.append([url])\u001b[39;00m\n\u001b[0;32m     42\u001b[0m movie_list\u001b[38;5;241m.\u001b[39mappend([title, href,content,date])\n",
      "\u001b[1;31mAttributeError\u001b[0m: 'NoneType' object has no attribute 'text'"
     ]
    }
   ],
   "source": [
    "a=mysearch()"
   ]
  }
 ],
 "metadata": {
  "kernelspec": {
   "display_name": "Python 3 (ipykernel)",
   "language": "python",
   "name": "python3"
  },
  "language_info": {
   "codemirror_mode": {
    "name": "ipython",
    "version": 3
   },
   "file_extension": ".py",
   "mimetype": "text/x-python",
   "name": "python",
   "nbconvert_exporter": "python",
   "pygments_lexer": "ipython3",
   "version": "3.8.8"
  }
 },
 "nbformat": 4,
 "nbformat_minor": 5
}
