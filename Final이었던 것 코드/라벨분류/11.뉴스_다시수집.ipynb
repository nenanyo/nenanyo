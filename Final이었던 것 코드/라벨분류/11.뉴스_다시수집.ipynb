{
 "cells": [
  {
   "cell_type": "markdown",
   "id": "08cddb20-b72d-4300-860c-64cbadc83dd2",
   "metadata": {},
   "source": [
    "# 파이썬 매크로"
   ]
  },
  {
   "cell_type": "code",
   "execution_count": 1,
   "id": "93f6e71e-20fd-4f9c-ac93-1827f2fb7447",
   "metadata": {
    "tags": []
   },
   "outputs": [],
   "source": [
    "import pandas as pd\n",
    "import numpy as np\n",
    "import matplotlib.pyplot as plt\n",
    "import warnings\n",
    "warnings.filterwarnings(action='ignore')"
   ]
  },
  {
   "cell_type": "markdown",
   "id": "8ea79b43-1ced-4162-a2d8-ccf3480f5e11",
   "metadata": {},
   "source": [
    "<pre>\n",
    "import pyautogui\n",
    "import pyperclip\n",
    "\n",
    "time.sleep(1800)\n",
    "\n",
    "# 마우스가 해상도 영역을 벗어나면 발생하는 오류를 끔 (특정 환경에서 오류 발생하는 경우 사용)\n",
    "# pyautogui.FAILSAFE = False\n",
    "\n",
    "pyautogui.moveTo(200, 200)    # 화면 해상도의 가로 200, 세로 200 픽셀 위치로 마우스 이동\n",
    "pyautogui.click()    # 현재 마우스 커서 위치에서 마우스 클릭\n",
    "pyautogui.click(660, 185)    # 특정 위치에 마우스 클릭 (순간이동하여 클릭함)\n",
    "pyautogui.rightClick(560, 172)    # 특정 위치에 마우스 우클릭 (순간이동하여 클릭함)\n",
    "pyautogui.moveTo(500, 500, duration=1)    # 이동하는 속도 1초 설정\n",
    "\n",
    "pyautogui.typewrite('apple')    # 텍스트 입력\n",
    "# 한글 입력시 pyautogui.typewrite('사과') 로 하면 unicode 한글은 입력이 안됨.\n",
    "# 아래와 같이 클립보드에 복사해서 붙여넣기 하는 방식으로 진행\n",
    "\n",
    "pyperclip.copy('사과')\n",
    "pyautogui.hotkey('ctrl', 'v')\n",
    "\n",
    "pyautogui.hotkey('alt', 'f4')   # 단축키 입력 ('esc',  'enter', 'ctrl', 'tab' 등 한 개 또는 복수 키 입력)\n",
    "pyautogui.typewrite(['enter'])    # 이렇게 키 입력할 수도 있음\n",
    "\n",
    "# 윈도우키를 누르고 있는 상태에서 왼쪽 방향키 짧게 누르고 윈도우키를 뗌\n",
    "pyautogui.keyDown('win')\n",
    "pyautogui.press('left')\n",
    "time.sleep(1.5)\n",
    "pyautogui.keyUp('win')\n",
    "time.sleep(0.5)\n",
    "\n",
    "time.sleep(10)    # 10초 대기 (클릭 후 화면이 뜨기까지 등 반응시간 대기)\n",
    "\n",
    "fw = pyautogui.getActiveWindow()\n",
    "fw.close()   # 현재 활성화 상태인 창 닫기"
   ]
  },
  {
   "cell_type": "code",
   "execution_count": 2,
   "id": "d20c354b-4694-4274-a1fd-c571f2007a45",
   "metadata": {
    "tags": []
   },
   "outputs": [],
   "source": [
    "# ! pip install pyautogui"
   ]
  },
  {
   "cell_type": "code",
   "execution_count": 3,
   "id": "9d09fd7c-228e-4b93-b9c0-9c74e886ed02",
   "metadata": {},
   "outputs": [],
   "source": [
    "# import pyautogui\n",
    "# pyautogui.position()\n",
    "# --> (x, y)\n",
    "# 주소창  Point(x=-639, y=59)\n",
    "# 엑셀다운  -1807,688\n",
    "# 다운로드   -928,726\n",
    "# 저장       -710,692\n",
    "# 창 활성화 -1116,18"
   ]
  },
  {
   "cell_type": "code",
   "execution_count": 4,
   "id": "5f5c45f3-0594-470d-9822-3c0535a7e799",
   "metadata": {
    "tags": []
   },
   "outputs": [],
   "source": [
    "# pyautogui.scroll(-200)"
   ]
  },
  {
   "cell_type": "markdown",
   "id": "89d6faa7-8521-45e9-9191-483d7341bfd8",
   "metadata": {},
   "source": [
    "# 테스트"
   ]
  },
  {
   "cell_type": "code",
   "execution_count": 5,
   "id": "c1dc98a8-65f5-47bd-bd50-7250c93950c5",
   "metadata": {
    "tags": []
   },
   "outputs": [],
   "source": [
    "import pyautogui\n",
    "import pyperclip\n",
    "pyautogui.FAILSAFE = False\n",
    "import time\n",
    "import pyperclip\n"
   ]
  },
  {
   "cell_type": "code",
   "execution_count": 6,
   "id": "1822547c-105d-44cb-a25c-f796c3a19677",
   "metadata": {
    "tags": []
   },
   "outputs": [
    {
     "name": "stdout",
     "output_type": "stream",
     "text": [
      "<class 'pandas.core.frame.DataFrame'>\n",
      "RangeIndex: 127 entries, 0 to 126\n",
      "Data columns (total 2 columns):\n",
      " #   Column  Non-Null Count  Dtype \n",
      "---  ------  --------------  ----- \n",
      " 0   name    126 non-null    object\n",
      " 1   ticker  127 non-null    object\n",
      "dtypes: object(2)\n",
      "memory usage: 2.1+ KB\n"
     ]
    }
   ],
   "source": [
    "name_list = pd.read_csv('../데이터/최종기업ticker.csv',names = ['name','ticker'])\n",
    "name_list.info()"
   ]
  },
  {
   "cell_type": "code",
   "execution_count": 7,
   "id": "65beffa6-13f1-4520-a769-cd466d94eab0",
   "metadata": {
    "tags": []
   },
   "outputs": [
    {
     "data": {
      "text/html": [
       "<div>\n",
       "<style scoped>\n",
       "    .dataframe tbody tr th:only-of-type {\n",
       "        vertical-align: middle;\n",
       "    }\n",
       "\n",
       "    .dataframe tbody tr th {\n",
       "        vertical-align: top;\n",
       "    }\n",
       "\n",
       "    .dataframe thead th {\n",
       "        text-align: right;\n",
       "    }\n",
       "</style>\n",
       "<table border=\"1\" class=\"dataframe\">\n",
       "  <thead>\n",
       "    <tr style=\"text-align: right;\">\n",
       "      <th></th>\n",
       "      <th>name</th>\n",
       "      <th>ticker</th>\n",
       "    </tr>\n",
       "  </thead>\n",
       "  <tbody>\n",
       "    <tr>\n",
       "      <th>1</th>\n",
       "      <td>CMG제약</td>\n",
       "      <td>058820</td>\n",
       "    </tr>\n",
       "    <tr>\n",
       "      <th>2</th>\n",
       "      <td>HLB</td>\n",
       "      <td>028300</td>\n",
       "    </tr>\n",
       "    <tr>\n",
       "      <th>3</th>\n",
       "      <td>HLB생명과학</td>\n",
       "      <td>067630</td>\n",
       "    </tr>\n",
       "    <tr>\n",
       "      <th>4</th>\n",
       "      <td>JW생명과학</td>\n",
       "      <td>234080</td>\n",
       "    </tr>\n",
       "    <tr>\n",
       "      <th>5</th>\n",
       "      <td>JW신약</td>\n",
       "      <td>067290</td>\n",
       "    </tr>\n",
       "    <tr>\n",
       "      <th>6</th>\n",
       "      <td>JW중외제약</td>\n",
       "      <td>001060</td>\n",
       "    </tr>\n",
       "    <tr>\n",
       "      <th>7</th>\n",
       "      <td>강스템바이오텍</td>\n",
       "      <td>217730</td>\n",
       "    </tr>\n",
       "    <tr>\n",
       "      <th>8</th>\n",
       "      <td>경남제약</td>\n",
       "      <td>053950</td>\n",
       "    </tr>\n",
       "    <tr>\n",
       "      <th>9</th>\n",
       "      <td>경동제약</td>\n",
       "      <td>011040</td>\n",
       "    </tr>\n",
       "    <tr>\n",
       "      <th>10</th>\n",
       "      <td>광동제약</td>\n",
       "      <td>009290</td>\n",
       "    </tr>\n",
       "  </tbody>\n",
       "</table>\n",
       "</div>"
      ],
      "text/plain": [
       "       name  ticker\n",
       "1     CMG제약  058820\n",
       "2       HLB  028300\n",
       "3   HLB생명과학  067630\n",
       "4    JW생명과학  234080\n",
       "5      JW신약  067290\n",
       "6    JW중외제약  001060\n",
       "7   강스템바이오텍  217730\n",
       "8      경남제약  053950\n",
       "9      경동제약  011040\n",
       "10     광동제약  009290"
      ]
     },
     "execution_count": 7,
     "metadata": {},
     "output_type": "execute_result"
    }
   ],
   "source": [
    "name_list = name_list.dropna()\n",
    "name_list.head(10)"
   ]
  },
  {
   "cell_type": "code",
   "execution_count": 8,
   "id": "719135fc-ed91-45e2-aae9-3c15468200de",
   "metadata": {
    "tags": []
   },
   "outputs": [],
   "source": [
    "# pyautogui.hotkey('ctrl','t')"
   ]
  },
  {
   "cell_type": "code",
   "execution_count": 9,
   "id": "3a206538-9788-4ec7-bad3-89fa11d0527a",
   "metadata": {
    "tags": []
   },
   "outputs": [
    {
     "name": "stdout",
     "output_type": "stream",
     "text": [
      "강스템바이오텍\n",
      "경남제약\n",
      "경동제약\n",
      "광동제약\n"
     ]
    }
   ],
   "source": [
    "for name in name_list['name'][6:10]:\n",
    "    print(name)"
   ]
  },
  {
   "cell_type": "markdown",
   "id": "66225df9-1d7d-4fa3-9c18-c66c41ef2611",
   "metadata": {
    "tags": []
   },
   "source": [
    "# request_get\n",
    "* 새창에서 로그인을 매번 해야함 XXXX ---- 불가능"
   ]
  },
  {
   "cell_type": "code",
   "execution_count": 10,
   "id": "43f6e54a-e854-47bf-8896-15c8135f4164",
   "metadata": {
    "tags": []
   },
   "outputs": [],
   "source": [
    "# driver = webdriver.Chrome('chromedriver_110.exe')"
   ]
  },
  {
   "cell_type": "code",
   "execution_count": 11,
   "id": "affa4a5f-51ec-4fc6-9cc9-d26467d0c1ba",
   "metadata": {
    "tags": []
   },
   "outputs": [],
   "source": [
    "# import requests\n",
    "# from selenium import webdriver\n",
    "# from selenium.webdriver.common.by import By\n",
    "# from selenium.webdriver.common.keys import Keys\n",
    "# import random"
   ]
  },
  {
   "cell_type": "code",
   "execution_count": 12,
   "id": "5be05be2-aa0e-43ef-9971-9a54a8c7a580",
   "metadata": {
    "tags": []
   },
   "outputs": [],
   "source": [
    "# for name in name_list['name'][6:8]:\n",
    "#     interval = round(random.uniform(0.2, 1.2), 2)\n",
    "#     time.sleep(interval)\n",
    "#     #------------------------------------------------\n",
    "#     url =  f'https://deepsearch.com/analytics/documents/news?doc-sec=economy%253Btech&doc-q={name}&doc-from=2018-01-01&doc-to=2020-12-31&doc-page=1'\n",
    "#     # print(url)\n",
    "#     driver = webdriver.Chrome('chromedriver_110.exe')\n",
    "#     driver.get(url)"
   ]
  },
  {
   "cell_type": "markdown",
   "id": "7887fbdd-e255-4c5c-8e50-8927eda6b5e1",
   "metadata": {},
   "source": [
    "# 그냥 매크로로 하겠다"
   ]
  },
  {
   "cell_type": "code",
   "execution_count": 13,
   "id": "d2d6e7f7-4975-4220-b28d-5060b8974898",
   "metadata": {
    "tags": []
   },
   "outputs": [
    {
     "name": "stdout",
     "output_type": "stream",
     "text": [
      "테라젠이텍스\n"
     ]
    }
   ],
   "source": [
    "for name in name_list['name'][105:106]:\n",
    "    print(name)"
   ]
  },
  {
   "cell_type": "code",
   "execution_count": 18,
   "id": "27728002-7e4c-4e89-8f45-243419d8d8ad",
   "metadata": {
    "tags": []
   },
   "outputs": [],
   "source": [
    "date_list = [\n",
    "['2010-01-01','2010-12-31']\n",
    ",['2011-01-01','2011-12-31']\n",
    ",['2012-01-01','2012-12-31']\n",
    ",['2013-01-01','2013-12-31']\n",
    ",['2014-01-01','2014-12-31']\n",
    ",['2015-01-01','2015-12-31']\n",
    ",['2016-01-01','2016-12-31']\n",
    ",['2017-01-01','2017-12-31']\n",
    "]\n"
   ]
  },
  {
   "cell_type": "code",
   "execution_count": 19,
   "id": "eaabc863-ac53-4827-baf4-fcfa584000da",
   "metadata": {
    "tags": []
   },
   "outputs": [
    {
     "data": {
      "text/html": [
       "<div>\n",
       "<style scoped>\n",
       "    .dataframe tbody tr th:only-of-type {\n",
       "        vertical-align: middle;\n",
       "    }\n",
       "\n",
       "    .dataframe tbody tr th {\n",
       "        vertical-align: top;\n",
       "    }\n",
       "\n",
       "    .dataframe thead th {\n",
       "        text-align: right;\n",
       "    }\n",
       "</style>\n",
       "<table border=\"1\" class=\"dataframe\">\n",
       "  <thead>\n",
       "    <tr style=\"text-align: right;\">\n",
       "      <th></th>\n",
       "      <th>0</th>\n",
       "      <th>1</th>\n",
       "    </tr>\n",
       "  </thead>\n",
       "  <tbody>\n",
       "    <tr>\n",
       "      <th>0</th>\n",
       "      <td>2010-01-01</td>\n",
       "      <td>2010-12-31</td>\n",
       "    </tr>\n",
       "    <tr>\n",
       "      <th>1</th>\n",
       "      <td>2011-01-01</td>\n",
       "      <td>2011-12-31</td>\n",
       "    </tr>\n",
       "    <tr>\n",
       "      <th>2</th>\n",
       "      <td>2012-01-01</td>\n",
       "      <td>2012-12-31</td>\n",
       "    </tr>\n",
       "    <tr>\n",
       "      <th>3</th>\n",
       "      <td>2013-01-01</td>\n",
       "      <td>2013-12-31</td>\n",
       "    </tr>\n",
       "    <tr>\n",
       "      <th>4</th>\n",
       "      <td>2014-01-01</td>\n",
       "      <td>2014-12-31</td>\n",
       "    </tr>\n",
       "    <tr>\n",
       "      <th>5</th>\n",
       "      <td>2015-01-01</td>\n",
       "      <td>2015-12-31</td>\n",
       "    </tr>\n",
       "    <tr>\n",
       "      <th>6</th>\n",
       "      <td>2016-01-01</td>\n",
       "      <td>2016-12-31</td>\n",
       "    </tr>\n",
       "    <tr>\n",
       "      <th>7</th>\n",
       "      <td>2017-01-01</td>\n",
       "      <td>2017-12-31</td>\n",
       "    </tr>\n",
       "  </tbody>\n",
       "</table>\n",
       "</div>"
      ],
      "text/plain": [
       "            0           1\n",
       "0  2010-01-01  2010-12-31\n",
       "1  2011-01-01  2011-12-31\n",
       "2  2012-01-01  2012-12-31\n",
       "3  2013-01-01  2013-12-31\n",
       "4  2014-01-01  2014-12-31\n",
       "5  2015-01-01  2015-12-31\n",
       "6  2016-01-01  2016-12-31\n",
       "7  2017-01-01  2017-12-31"
      ]
     },
     "execution_count": 19,
     "metadata": {},
     "output_type": "execute_result"
    }
   ],
   "source": [
    "date_list = pd.DataFrame(date_list)\n",
    "date_list"
   ]
  },
  {
   "cell_type": "code",
   "execution_count": 20,
   "id": "a9b74742-e19f-4641-b0ba-86ff407a7815",
   "metadata": {
    "tags": []
   },
   "outputs": [
    {
     "data": {
      "text/html": [
       "<div>\n",
       "<style scoped>\n",
       "    .dataframe tbody tr th:only-of-type {\n",
       "        vertical-align: middle;\n",
       "    }\n",
       "\n",
       "    .dataframe tbody tr th {\n",
       "        vertical-align: top;\n",
       "    }\n",
       "\n",
       "    .dataframe thead th {\n",
       "        text-align: right;\n",
       "    }\n",
       "</style>\n",
       "<table border=\"1\" class=\"dataframe\">\n",
       "  <thead>\n",
       "    <tr style=\"text-align: right;\">\n",
       "      <th></th>\n",
       "      <th>name</th>\n",
       "      <th>ticker</th>\n",
       "    </tr>\n",
       "  </thead>\n",
       "  <tbody>\n",
       "    <tr>\n",
       "      <th>1</th>\n",
       "      <td>CMG제약</td>\n",
       "      <td>058820</td>\n",
       "    </tr>\n",
       "    <tr>\n",
       "      <th>2</th>\n",
       "      <td>HLB</td>\n",
       "      <td>028300</td>\n",
       "    </tr>\n",
       "    <tr>\n",
       "      <th>3</th>\n",
       "      <td>HLB생명과학</td>\n",
       "      <td>067630</td>\n",
       "    </tr>\n",
       "    <tr>\n",
       "      <th>4</th>\n",
       "      <td>JW생명과학</td>\n",
       "      <td>234080</td>\n",
       "    </tr>\n",
       "    <tr>\n",
       "      <th>5</th>\n",
       "      <td>JW신약</td>\n",
       "      <td>067290</td>\n",
       "    </tr>\n",
       "  </tbody>\n",
       "</table>\n",
       "</div>"
      ],
      "text/plain": [
       "      name  ticker\n",
       "1    CMG제약  058820\n",
       "2      HLB  028300\n",
       "3  HLB생명과학  067630\n",
       "4   JW생명과학  234080\n",
       "5     JW신약  067290"
      ]
     },
     "execution_count": 20,
     "metadata": {},
     "output_type": "execute_result"
    }
   ],
   "source": [
    "name_list.head()"
   ]
  },
  {
   "cell_type": "code",
   "execution_count": 21,
   "id": "1be76e7c-8a1f-4cd6-b0b7-fe2845992286",
   "metadata": {
    "tags": []
   },
   "outputs": [
    {
     "data": {
      "text/html": [
       "<div>\n",
       "<style scoped>\n",
       "    .dataframe tbody tr th:only-of-type {\n",
       "        vertical-align: middle;\n",
       "    }\n",
       "\n",
       "    .dataframe tbody tr th {\n",
       "        vertical-align: top;\n",
       "    }\n",
       "\n",
       "    .dataframe thead th {\n",
       "        text-align: right;\n",
       "    }\n",
       "</style>\n",
       "<table border=\"1\" class=\"dataframe\">\n",
       "  <thead>\n",
       "    <tr style=\"text-align: right;\">\n",
       "      <th></th>\n",
       "      <th>name</th>\n",
       "      <th>ticker</th>\n",
       "    </tr>\n",
       "  </thead>\n",
       "  <tbody>\n",
       "    <tr>\n",
       "      <th>34</th>\n",
       "      <td>바이넥스</td>\n",
       "      <td>053030</td>\n",
       "    </tr>\n",
       "  </tbody>\n",
       "</table>\n",
       "</div>"
      ],
      "text/plain": [
       "    name  ticker\n",
       "34  바이넥스  053030"
      ]
     },
     "execution_count": 21,
     "metadata": {},
     "output_type": "execute_result"
    }
   ],
   "source": [
    "name_list[name_list['name']=='바이넥스']"
   ]
  },
  {
   "cell_type": "code",
   "execution_count": 22,
   "id": "27e45dba-34c8-4852-bc0b-e2017cb62991",
   "metadata": {
    "tags": []
   },
   "outputs": [
    {
     "name": "stdout",
     "output_type": "stream",
     "text": [
      "0\n",
      "1\n",
      "2\n",
      "3\n",
      "4\n"
     ]
    }
   ],
   "source": [
    "for i in range(5):\n",
    "    print(i)"
   ]
  },
  {
   "cell_type": "code",
   "execution_count": null,
   "id": "92d57f0a-fa85-41f5-b388-d86d36ac2624",
   "metadata": {
    "tags": []
   },
   "outputs": [],
   "source": [
    "for name in name_list['name'][100:]:\n",
    "    for i in range(5):\n",
    "        pyautogui.hotkey('ctrl','t')\n",
    "        time.sleep(3)\n",
    "        pyautogui.click(1541,49)        \n",
    "        # print(name)\n",
    "        # pyautogui.typewrite(f'https://deepsearch.com/analytics/documents/news?doc-sec=economy%253Btech&doc-q={name}&doc-from=2018-01-01&doc-to=2020-12-31&doc-page=1')\n",
    "        pyautogui.typewrite('https://deepsearch.com/analytics/documents/news?doc-sec=economy%253Btech&doc-q=')\n",
    "        pyperclip.copy(name)\n",
    "        pyautogui.hotkey('ctrl', 'v')\n",
    "        pyautogui.typewrite(f'&doc-from={date_list.loc[i,0]}&doc-to={date_list.loc[i,1]}&doc-page=1')\n",
    "        # # pyautogui.typewrite('https://deepsearch.com/analytics/documents/news?doc-sec=economy%253Btech&doc-q='+ name+'&doc-from=2018-01-01&doc-to=2020-12-31&doc-page=1')\n",
    "        # # print(f'https://deepsearch.com/analytics/documents/news?doc-sec=economy%253Btech&doc-q={name}&doc-from=2018-01-01&doc-to=2020-12-31&doc-page=1')\n",
    "        time.sleep(5)\n",
    "        pyautogui.hotkey('enter')\n",
    "        time.sleep(10)\n",
    "        \n",
    "        pyautogui.moveTo(1366,841)\n",
    "        time.sleep(3)\n",
    "        pyautogui.scroll(-5000)  # 스트롤 내리기\n",
    "        time.sleep(3)\n",
    "        pyautogui.click(135,687) # 엑셀다운 버튼클릭\n",
    "        time.sleep(3)\n",
    "        pyautogui.click(1016,740) # 다운로드 버튼클릭\n",
    "        time.sleep(150)            # 10분 대기\n",
    "        pyautogui.hotkey('enter')\n",
    "        # pyautogui.click(584,445)  # 저장 버튼 클릭\n",
    "        time.sleep(3)\n",
    "        pyautogui.click(468,14)\n",
    "        time.sleep(3)\n",
    "        # fw = pyautogui.getActiveWindow()&doc-from=2020-01-01&doc-to=2020-12-31&doc-page=1\n",
    "        # fw.close()"
   ]
  },
  {
   "cell_type": "code",
   "execution_count": null,
   "id": "24003d11-e3af-4c14-9fdf-64ac4e3be1f0",
   "metadata": {
    "tags": []
   },
   "outputs": [],
   "source": [
    "pyautogui.click(-1104,14) # 창 클릭\n",
    "time.sleep(1)\n",
    "# pyautogui.click(-1660,55)\n",
    "pyautogui.click(-1660,55) # 주소창 클릭\n",
    "time.sleep(1)\n",
    "pyautogui.typewrite('https://deepsearch.com/analytics/documents/news?doc-sec=economy%253Btech&doc-q=CMG%25EC%25A0%259C%25EC%2595%25BD&doc-from=2018-01-01&doc-to=2020-12-31&doc-page=1')\n",
    "time.sleep(1)\n",
    "pyautogui.hotkey('enter')\n",
    "time.sleep(3)\n",
    "pyautogui.moveTo(1366,841)\n",
    "time.sleep(1)\n",
    "pyautogui.scroll(-5000)  # 스트롤 내리기\n",
    "time.sleep(1)\n",
    "pyautogui.click(85,682) # 엑셀다운 버튼클릭\n",
    "time.sleep(1)\n",
    "pyautogui.click(1016,740) # 다운로드 버튼클릭\n",
    "time.sleep(600)            # 10분 대기\n",
    "pyautogui.click(1319,882)  # 저장 버튼 클릭"
   ]
  },
  {
   "cell_type": "code",
   "execution_count": null,
   "id": "bc1a9ed9-cd76-480c-ba95-56def895ea73",
   "metadata": {},
   "outputs": [],
   "source": [
    "pyautogui.click(-1104,14) # 창 클릭\n",
    "time.sleep(1)\n",
    "pyautogui.moveTo(-948,547)\n",
    "time.sleep(1)\n",
    "pyautogui.scroll(-5000)"
   ]
  }
 ],
 "metadata": {
  "kernelspec": {
   "display_name": "Python 3 (ipykernel)",
   "language": "python",
   "name": "python3"
  },
  "language_info": {
   "codemirror_mode": {
    "name": "ipython",
    "version": 3
   },
   "file_extension": ".py",
   "mimetype": "text/x-python",
   "name": "python",
   "nbconvert_exporter": "python",
   "pygments_lexer": "ipython3",
   "version": "3.8.8"
  }
 },
 "nbformat": 4,
 "nbformat_minor": 5
}
