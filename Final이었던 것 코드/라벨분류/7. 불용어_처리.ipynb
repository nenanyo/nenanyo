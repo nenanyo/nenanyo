{
 "cells": [
  {
   "cell_type": "code",
   "execution_count": 1,
   "id": "76634564-255f-4d98-a964-fb368c87ad7a",
   "metadata": {
    "id": "Qww_V4GzhgoS"
   },
   "outputs": [],
   "source": [
    "import pandas as pd\n",
    "import numpy as np\n",
    "import matplotlib.pyplot as plt\n",
    "from sklearn.model_selection import train_test_split\n",
    "import re\n",
    "import urllib.request\n",
    "import mecab\n",
    "from tqdm import tqdm\n",
    "from tensorflow.keras.preprocessing.text import Tokenizer\n",
    "from tensorflow.keras.preprocessing.sequence import pad_sequences\n",
    "import tensorflow as tf\n",
    "from tensorflow.keras.layers import Embedding, Dense, LSTM\n",
    "from tensorflow.keras.models import Sequential\n",
    "from tensorflow.keras.models import load_model\n",
    "from tensorflow.keras.utils import to_categorical\n",
    "from tensorflow.keras.callbacks import EarlyStopping, ModelCheckpoint\n",
    "import warnings\n",
    "warnings.filterwarnings(action='ignore')"
   ]
  },
  {
   "cell_type": "code",
   "execution_count": 2,
   "id": "c42a593a-04d9-46d3-a361-25ec07c46355",
   "metadata": {
    "tags": []
   },
   "outputs": [
    {
     "name": "stdout",
     "output_type": "stream",
     "text": [
      "<class 'pandas.core.frame.DataFrame'>\n",
      "RangeIndex: 17410 entries, 0 to 17409\n",
      "Data columns (total 2 columns):\n",
      " #   Column  Non-Null Count  Dtype  \n",
      "---  ------  --------------  -----  \n",
      " 0   labels  17410 non-null  float64\n",
      " 1   title   17410 non-null  object \n",
      "dtypes: float64(1), object(1)\n",
      "memory usage: 272.2+ KB\n"
     ]
    }
   ],
   "source": [
    "df = pd.read_csv('./df_label_O.csv')\n",
    "df.info()"
   ]
  },
  {
   "cell_type": "markdown",
   "id": "ca6fdfbc-6aed-40b6-b9a8-cf7d6dca7084",
   "metadata": {},
   "source": [
    "# 불용어 처리"
   ]
  },
  {
   "cell_type": "markdown",
   "id": "94f890c6-ac5f-4490-b5c9-69769587d30a",
   "metadata": {},
   "source": [
    "## 데이터 로드"
   ]
  },
  {
   "cell_type": "code",
   "execution_count": 3,
   "id": "4e2bb0ee-cc52-4ed6-86d5-30af15e716ed",
   "metadata": {
    "tags": []
   },
   "outputs": [
    {
     "data": {
      "text/plain": [
       "17410"
      ]
     },
     "execution_count": 3,
     "metadata": {},
     "output_type": "execute_result"
    }
   ],
   "source": [
    "len(df)"
   ]
  },
  {
   "cell_type": "code",
   "execution_count": 4,
   "id": "434f5388-fa30-4d3f-a897-07254c7d159e",
   "metadata": {
    "tags": []
   },
   "outputs": [
    {
     "data": {
      "text/html": [
       "<div>\n",
       "<style scoped>\n",
       "    .dataframe tbody tr th:only-of-type {\n",
       "        vertical-align: middle;\n",
       "    }\n",
       "\n",
       "    .dataframe tbody tr th {\n",
       "        vertical-align: top;\n",
       "    }\n",
       "\n",
       "    .dataframe thead th {\n",
       "        text-align: right;\n",
       "    }\n",
       "</style>\n",
       "<table border=\"1\" class=\"dataframe\">\n",
       "  <thead>\n",
       "    <tr style=\"text-align: right;\">\n",
       "      <th></th>\n",
       "      <th>labels</th>\n",
       "      <th>title</th>\n",
       "    </tr>\n",
       "  </thead>\n",
       "  <tbody>\n",
       "    <tr>\n",
       "      <th>0</th>\n",
       "      <td>1.0</td>\n",
       "      <td>새로운 생산공장으로 인해 회사는 예상되는 수요 증가를 충족시킬 수 있는 능력을 증가...</td>\n",
       "    </tr>\n",
       "    <tr>\n",
       "      <th>1</th>\n",
       "      <td>1.0</td>\n",
       "      <td>2009-2012년 회사의 업데이트된 전략에 따르면, Basware는 20% - 4...</td>\n",
       "    </tr>\n",
       "  </tbody>\n",
       "</table>\n",
       "</div>"
      ],
      "text/plain": [
       "   labels                                              title\n",
       "0     1.0  새로운 생산공장으로 인해 회사는 예상되는 수요 증가를 충족시킬 수 있는 능력을 증가...\n",
       "1     1.0  2009-2012년 회사의 업데이트된 전략에 따르면, Basware는 20% - 4..."
      ]
     },
     "execution_count": 4,
     "metadata": {},
     "output_type": "execute_result"
    }
   ],
   "source": [
    "df.head(2)"
   ]
  },
  {
   "cell_type": "code",
   "execution_count": 5,
   "id": "6792ab8f-5d07-4842-a7d8-b27bd8c20680",
   "metadata": {
    "id": "Qgna8GZ_k0AW"
   },
   "outputs": [],
   "source": [
    "mecab = mecab.MeCab()"
   ]
  },
  {
   "cell_type": "code",
   "execution_count": 6,
   "id": "342dee4f-9724-4fe8-81cc-a08b447d2207",
   "metadata": {
    "id": "9dKO6hYzkwbF"
   },
   "outputs": [],
   "source": [
    "df['tokenized'] = df['title'].apply(mecab.morphs)"
   ]
  },
  {
   "cell_type": "code",
   "execution_count": 7,
   "id": "a2d0392a-4211-43e8-b9f0-dc3a899387b8",
   "metadata": {
    "tags": []
   },
   "outputs": [],
   "source": [
    "# df['tokenized'].iloc[0]"
   ]
  },
  {
   "cell_type": "code",
   "execution_count": 8,
   "id": "2160adf8-6bf6-45bb-9bcb-a90271bd293c",
   "metadata": {
    "tags": []
   },
   "outputs": [
    {
     "data": {
      "text/html": [
       "<div>\n",
       "<style scoped>\n",
       "    .dataframe tbody tr th:only-of-type {\n",
       "        vertical-align: middle;\n",
       "    }\n",
       "\n",
       "    .dataframe tbody tr th {\n",
       "        vertical-align: top;\n",
       "    }\n",
       "\n",
       "    .dataframe thead th {\n",
       "        text-align: right;\n",
       "    }\n",
       "</style>\n",
       "<table border=\"1\" class=\"dataframe\">\n",
       "  <thead>\n",
       "    <tr style=\"text-align: right;\">\n",
       "      <th></th>\n",
       "      <th>labels</th>\n",
       "      <th>title</th>\n",
       "      <th>tokenized</th>\n",
       "    </tr>\n",
       "  </thead>\n",
       "  <tbody>\n",
       "    <tr>\n",
       "      <th>0</th>\n",
       "      <td>1.0</td>\n",
       "      <td>새로운 생산공장으로 인해 회사는 예상되는 수요 증가를 충족시킬 수 있는 능력을 증가...</td>\n",
       "      <td>[새로운, 생산, 공장, 으로, 인해, 회사, 는, 예상, 되, 는, 수요, 증가,...</td>\n",
       "    </tr>\n",
       "    <tr>\n",
       "      <th>1</th>\n",
       "      <td>1.0</td>\n",
       "      <td>2009-2012년 회사의 업데이트된 전략에 따르면, Basware는 20% - 4...</td>\n",
       "      <td>[2009, -, 2012, 년, 회사, 의, 업데이트, 된, 전략, 에, 따르, ...</td>\n",
       "    </tr>\n",
       "    <tr>\n",
       "      <th>2</th>\n",
       "      <td>1.0</td>\n",
       "      <td>ASPOCOMP의 성장기에 대한 자금 조달은 기술적으로 더 까다로운 HDI 인쇄 회...</td>\n",
       "      <td>[ASPOCOMP, 의, 성장기, 에, 대한, 자금, 조달, 은, 기술, 적, 으로...</td>\n",
       "    </tr>\n",
       "  </tbody>\n",
       "</table>\n",
       "</div>"
      ],
      "text/plain": [
       "   labels                                              title  \\\n",
       "0     1.0  새로운 생산공장으로 인해 회사는 예상되는 수요 증가를 충족시킬 수 있는 능력을 증가...   \n",
       "1     1.0  2009-2012년 회사의 업데이트된 전략에 따르면, Basware는 20% - 4...   \n",
       "2     1.0  ASPOCOMP의 성장기에 대한 자금 조달은 기술적으로 더 까다로운 HDI 인쇄 회...   \n",
       "\n",
       "                                           tokenized  \n",
       "0  [새로운, 생산, 공장, 으로, 인해, 회사, 는, 예상, 되, 는, 수요, 증가,...  \n",
       "1  [2009, -, 2012, 년, 회사, 의, 업데이트, 된, 전략, 에, 따르, ...  \n",
       "2  [ASPOCOMP, 의, 성장기, 에, 대한, 자금, 조달, 은, 기술, 적, 으로...  "
      ]
     },
     "execution_count": 8,
     "metadata": {},
     "output_type": "execute_result"
    }
   ],
   "source": [
    "df.head(3)"
   ]
  },
  {
   "cell_type": "code",
   "execution_count": 9,
   "id": "7168fda6-1bf5-454d-a368-59ecb02893ff",
   "metadata": {
    "tags": []
   },
   "outputs": [],
   "source": [
    "tokenized = []\n",
    "for i in range(len(df)):\n",
    "    # for \n",
    "    words=df.iloc[i,2]\n",
    "    tokenized.append(words)"
   ]
  },
  {
   "cell_type": "code",
   "execution_count": 10,
   "id": "e9884dd7-d6a9-4382-85c6-d841e1a77a05",
   "metadata": {
    "tags": []
   },
   "outputs": [
    {
     "data": {
      "text/plain": [
       "'새로운'"
      ]
     },
     "execution_count": 10,
     "metadata": {},
     "output_type": "execute_result"
    }
   ],
   "source": [
    "tokenized[0][0]"
   ]
  },
  {
   "cell_type": "code",
   "execution_count": 11,
   "id": "a31e2ed9-e2f6-4374-8ffa-8f64f69e3156",
   "metadata": {
    "tags": []
   },
   "outputs": [
    {
     "data": {
      "text/plain": [
       "17410"
      ]
     },
     "execution_count": 11,
     "metadata": {},
     "output_type": "execute_result"
    }
   ],
   "source": [
    "len(tokenized)"
   ]
  },
  {
   "cell_type": "code",
   "execution_count": 12,
   "id": "94bdc45e-12f6-4051-86fc-d734f824efe9",
   "metadata": {
    "tags": []
   },
   "outputs": [],
   "source": [
    "words_list = []\n",
    "for words in tokenized:\n",
    "    for word in words:\n",
    "        words_list.append(word)"
   ]
  },
  {
   "cell_type": "code",
   "execution_count": 13,
   "id": "917da31e-e428-4878-94f2-7dce39517463",
   "metadata": {
    "tags": []
   },
   "outputs": [
    {
     "data": {
      "text/plain": [
       "'새로운'"
      ]
     },
     "execution_count": 13,
     "metadata": {},
     "output_type": "execute_result"
    }
   ],
   "source": [
    "words_list[0]"
   ]
  },
  {
   "cell_type": "code",
   "execution_count": 14,
   "id": "e0eef15f-eb96-43fa-896b-135108f7baf8",
   "metadata": {
    "tags": []
   },
   "outputs": [
    {
     "data": {
      "text/plain": [
       "336491"
      ]
     },
     "execution_count": 14,
     "metadata": {},
     "output_type": "execute_result"
    }
   ],
   "source": [
    "len(words_list)"
   ]
  },
  {
   "cell_type": "code",
   "execution_count": 15,
   "id": "03f18e5f-3fa6-41d1-b354-b97f9bb92030",
   "metadata": {
    "tags": []
   },
   "outputs": [],
   "source": [
    "words_list = pd.DataFrame(words_list)\n",
    "# words_list = words_list.sort_values(by=[0])"
   ]
  },
  {
   "cell_type": "code",
   "execution_count": 16,
   "id": "906be1a6-cebb-4578-82aa-4cc304dc0293",
   "metadata": {
    "tags": []
   },
   "outputs": [
    {
     "data": {
      "text/html": [
       "<div>\n",
       "<style scoped>\n",
       "    .dataframe tbody tr th:only-of-type {\n",
       "        vertical-align: middle;\n",
       "    }\n",
       "\n",
       "    .dataframe tbody tr th {\n",
       "        vertical-align: top;\n",
       "    }\n",
       "\n",
       "    .dataframe thead th {\n",
       "        text-align: right;\n",
       "    }\n",
       "</style>\n",
       "<table border=\"1\" class=\"dataframe\">\n",
       "  <thead>\n",
       "    <tr style=\"text-align: right;\">\n",
       "      <th></th>\n",
       "      <th>0</th>\n",
       "    </tr>\n",
       "  </thead>\n",
       "  <tbody>\n",
       "    <tr>\n",
       "      <th>336489</th>\n",
       "      <td>사업</td>\n",
       "    </tr>\n",
       "    <tr>\n",
       "      <th>336490</th>\n",
       "      <td>강화</td>\n",
       "    </tr>\n",
       "  </tbody>\n",
       "</table>\n",
       "</div>"
      ],
      "text/plain": [
       "         0\n",
       "336489  사업\n",
       "336490  강화"
      ]
     },
     "execution_count": 16,
     "metadata": {},
     "output_type": "execute_result"
    }
   ],
   "source": [
    "words_list.tail(2)"
   ]
  },
  {
   "cell_type": "code",
   "execution_count": 17,
   "id": "c42aa615-8cf7-4c4f-ae95-b267d8e9696c",
   "metadata": {
    "tags": []
   },
   "outputs": [],
   "source": [
    "word_cnt = words_list.value_counts()"
   ]
  },
  {
   "cell_type": "code",
   "execution_count": 18,
   "id": "cedfcaca-6550-4fc9-a514-ad4445898804",
   "metadata": {
    "tags": []
   },
   "outputs": [],
   "source": [
    "word_cnt = pd.DataFrame(word_cnt)"
   ]
  },
  {
   "cell_type": "code",
   "execution_count": 19,
   "id": "2dc6cc76-f486-43f4-bcfd-f2d39abfea3e",
   "metadata": {
    "tags": []
   },
   "outputs": [
    {
     "data": {
      "text/html": [
       "<div>\n",
       "<style scoped>\n",
       "    .dataframe tbody tr th:only-of-type {\n",
       "        vertical-align: middle;\n",
       "    }\n",
       "\n",
       "    .dataframe tbody tr th {\n",
       "        vertical-align: top;\n",
       "    }\n",
       "\n",
       "    .dataframe thead th {\n",
       "        text-align: right;\n",
       "    }\n",
       "</style>\n",
       "<table border=\"1\" class=\"dataframe\">\n",
       "  <thead>\n",
       "    <tr style=\"text-align: right;\">\n",
       "      <th></th>\n",
       "      <th>0</th>\n",
       "    </tr>\n",
       "    <tr>\n",
       "      <th>0</th>\n",
       "      <th></th>\n",
       "    </tr>\n",
       "  </thead>\n",
       "  <tbody>\n",
       "    <tr>\n",
       "      <th>,</th>\n",
       "      <td>10780</td>\n",
       "    </tr>\n",
       "    <tr>\n",
       "      <th>.</th>\n",
       "      <td>9486</td>\n",
       "    </tr>\n",
       "  </tbody>\n",
       "</table>\n",
       "</div>"
      ],
      "text/plain": [
       "       0\n",
       "0       \n",
       ",  10780\n",
       ".   9486"
      ]
     },
     "execution_count": 19,
     "metadata": {},
     "output_type": "execute_result"
    }
   ],
   "source": [
    "word_cnt.head(2)"
   ]
  },
  {
   "cell_type": "code",
   "execution_count": 20,
   "id": "6e530f91-a8cc-4073-bc4b-0d1948ff93ef",
   "metadata": {
    "tags": []
   },
   "outputs": [],
   "source": [
    "word_cnt.rename(columns = {0 : 'cnt'}, inplace = True)"
   ]
  },
  {
   "cell_type": "code",
   "execution_count": 21,
   "id": "cd2158c9-7b9b-4731-b576-8badd1ecf125",
   "metadata": {
    "tags": []
   },
   "outputs": [
    {
     "data": {
      "text/html": [
       "<div>\n",
       "<style scoped>\n",
       "    .dataframe tbody tr th:only-of-type {\n",
       "        vertical-align: middle;\n",
       "    }\n",
       "\n",
       "    .dataframe tbody tr th {\n",
       "        vertical-align: top;\n",
       "    }\n",
       "\n",
       "    .dataframe thead th {\n",
       "        text-align: right;\n",
       "    }\n",
       "</style>\n",
       "<table border=\"1\" class=\"dataframe\">\n",
       "  <thead>\n",
       "    <tr style=\"text-align: right;\">\n",
       "      <th></th>\n",
       "      <th>cnt</th>\n",
       "    </tr>\n",
       "    <tr>\n",
       "      <th>0</th>\n",
       "      <th></th>\n",
       "    </tr>\n",
       "  </thead>\n",
       "  <tbody>\n",
       "    <tr>\n",
       "      <th>,</th>\n",
       "      <td>10780</td>\n",
       "    </tr>\n",
       "    <tr>\n",
       "      <th>.</th>\n",
       "      <td>9486</td>\n",
       "    </tr>\n",
       "  </tbody>\n",
       "</table>\n",
       "</div>"
      ],
      "text/plain": [
       "     cnt\n",
       "0       \n",
       ",  10780\n",
       ".   9486"
      ]
     },
     "execution_count": 21,
     "metadata": {},
     "output_type": "execute_result"
    }
   ],
   "source": [
    "word_cnt.head(2)"
   ]
  },
  {
   "cell_type": "code",
   "execution_count": 22,
   "id": "e2095d84-00c1-4c15-a288-99cd2b425d75",
   "metadata": {
    "tags": []
   },
   "outputs": [],
   "source": [
    "word_cnt = word_cnt.reset_index()"
   ]
  },
  {
   "cell_type": "code",
   "execution_count": 23,
   "id": "675d2004-c3ce-4fff-91e9-2573e26cc42b",
   "metadata": {},
   "outputs": [],
   "source": [
    "word_cnt.rename(columns = {0 : 'word'}, inplace = True)"
   ]
  },
  {
   "cell_type": "code",
   "execution_count": 24,
   "id": "cd87674b-6bfb-4951-a351-1fe16c0016aa",
   "metadata": {
    "tags": []
   },
   "outputs": [
    {
     "data": {
      "text/html": [
       "<div>\n",
       "<style scoped>\n",
       "    .dataframe tbody tr th:only-of-type {\n",
       "        vertical-align: middle;\n",
       "    }\n",
       "\n",
       "    .dataframe tbody tr th {\n",
       "        vertical-align: top;\n",
       "    }\n",
       "\n",
       "    .dataframe thead th {\n",
       "        text-align: right;\n",
       "    }\n",
       "</style>\n",
       "<table border=\"1\" class=\"dataframe\">\n",
       "  <thead>\n",
       "    <tr style=\"text-align: right;\">\n",
       "      <th></th>\n",
       "      <th>word</th>\n",
       "      <th>cnt</th>\n",
       "    </tr>\n",
       "  </thead>\n",
       "  <tbody>\n",
       "    <tr>\n",
       "      <th>0</th>\n",
       "      <td>,</td>\n",
       "      <td>10780</td>\n",
       "    </tr>\n",
       "    <tr>\n",
       "      <th>1</th>\n",
       "      <td>.</td>\n",
       "      <td>9486</td>\n",
       "    </tr>\n",
       "  </tbody>\n",
       "</table>\n",
       "</div>"
      ],
      "text/plain": [
       "  word    cnt\n",
       "0    ,  10780\n",
       "1    .   9486"
      ]
     },
     "execution_count": 24,
     "metadata": {},
     "output_type": "execute_result"
    }
   ],
   "source": [
    "word_cnt.head(2)"
   ]
  },
  {
   "cell_type": "code",
   "execution_count": 25,
   "id": "4e274ba2-672b-4ed1-911b-b1740468b0f2",
   "metadata": {
    "tags": []
   },
   "outputs": [
    {
     "data": {
      "text/html": [
       "<div>\n",
       "<style scoped>\n",
       "    .dataframe tbody tr th:only-of-type {\n",
       "        vertical-align: middle;\n",
       "    }\n",
       "\n",
       "    .dataframe tbody tr th {\n",
       "        vertical-align: top;\n",
       "    }\n",
       "\n",
       "    .dataframe thead th {\n",
       "        text-align: right;\n",
       "    }\n",
       "</style>\n",
       "<table border=\"1\" class=\"dataframe\">\n",
       "  <thead>\n",
       "    <tr style=\"text-align: right;\">\n",
       "      <th></th>\n",
       "      <th>word</th>\n",
       "      <th>cnt</th>\n",
       "    </tr>\n",
       "  </thead>\n",
       "  <tbody>\n",
       "    <tr>\n",
       "      <th>979</th>\n",
       "      <td>!</td>\n",
       "      <td>44</td>\n",
       "    </tr>\n",
       "    <tr>\n",
       "      <th>14</th>\n",
       "      <td>\"</td>\n",
       "      <td>2584</td>\n",
       "    </tr>\n",
       "  </tbody>\n",
       "</table>\n",
       "</div>"
      ],
      "text/plain": [
       "    word   cnt\n",
       "979    !    44\n",
       "14     \"  2584"
      ]
     },
     "execution_count": 25,
     "metadata": {},
     "output_type": "execute_result"
    }
   ],
   "source": [
    "word_cnt = word_cnt.sort_values(by=['word'])\n",
    "word_cnt.head(2)"
   ]
  },
  {
   "cell_type": "code",
   "execution_count": 26,
   "id": "8aa7859a-489e-43f5-8d02-9ef9da637eb3",
   "metadata": {
    "tags": []
   },
   "outputs": [],
   "source": [
    "word_cnt = word_cnt.reset_index()\n"
   ]
  },
  {
   "cell_type": "code",
   "execution_count": 27,
   "id": "a1597fe7-f28a-43b8-a63d-59e47b1a85bd",
   "metadata": {
    "tags": []
   },
   "outputs": [],
   "source": [
    "del word_cnt['index']"
   ]
  },
  {
   "cell_type": "code",
   "execution_count": 28,
   "id": "5a1de600-ebb7-403e-9173-c88ab4df743f",
   "metadata": {
    "tags": []
   },
   "outputs": [
    {
     "data": {
      "text/html": [
       "<div>\n",
       "<style scoped>\n",
       "    .dataframe tbody tr th:only-of-type {\n",
       "        vertical-align: middle;\n",
       "    }\n",
       "\n",
       "    .dataframe tbody tr th {\n",
       "        vertical-align: top;\n",
       "    }\n",
       "\n",
       "    .dataframe thead th {\n",
       "        text-align: right;\n",
       "    }\n",
       "</style>\n",
       "<table border=\"1\" class=\"dataframe\">\n",
       "  <thead>\n",
       "    <tr style=\"text-align: right;\">\n",
       "      <th></th>\n",
       "      <th>word</th>\n",
       "      <th>cnt</th>\n",
       "    </tr>\n",
       "  </thead>\n",
       "  <tbody>\n",
       "    <tr>\n",
       "      <th>0</th>\n",
       "      <td>!</td>\n",
       "      <td>44</td>\n",
       "    </tr>\n",
       "    <tr>\n",
       "      <th>1</th>\n",
       "      <td>\"</td>\n",
       "      <td>2584</td>\n",
       "    </tr>\n",
       "  </tbody>\n",
       "</table>\n",
       "</div>"
      ],
      "text/plain": [
       "  word   cnt\n",
       "0    !    44\n",
       "1    \"  2584"
      ]
     },
     "execution_count": 28,
     "metadata": {},
     "output_type": "execute_result"
    }
   ],
   "source": [
    "word_cnt.head(2)"
   ]
  },
  {
   "cell_type": "code",
   "execution_count": 29,
   "id": "103b5abb-3b2f-4999-b592-1da3236028a4",
   "metadata": {
    "tags": []
   },
   "outputs": [
    {
     "data": {
      "text/plain": [
       "18261"
      ]
     },
     "execution_count": 29,
     "metadata": {},
     "output_type": "execute_result"
    }
   ],
   "source": [
    "len(word_cnt)"
   ]
  },
  {
   "cell_type": "code",
   "execution_count": 30,
   "id": "bf0c61ba-a2b6-4354-af91-2eda24607da8",
   "metadata": {
    "tags": []
   },
   "outputs": [
    {
     "data": {
      "text/plain": [
       "'!'"
      ]
     },
     "execution_count": 30,
     "metadata": {},
     "output_type": "execute_result"
    }
   ],
   "source": [
    "word_cnt['word'][0]"
   ]
  },
  {
   "cell_type": "markdown",
   "id": "2f1ab692-6c0c-4985-a739-df8670f14b7d",
   "metadata": {},
   "source": [
    "## stop_word_list"
   ]
  },
  {
   "cell_type": "code",
   "execution_count": 31,
   "id": "a1f0fce0-2ca9-46a3-a7a5-65c7d91b7e65",
   "metadata": {
    "tags": []
   },
   "outputs": [],
   "source": [
    "stop_word_list =[]"
   ]
  },
  {
   "cell_type": "code",
   "execution_count": 32,
   "id": "369445d9-5301-40a1-818a-41ce053cb16d",
   "metadata": {
    "tags": []
   },
   "outputs": [],
   "source": [
    "with open('./stopwords-ko.txt', \"rt\",encoding='UTF8') as f:\n",
    "    for line in f:\n",
    "        # print(line.strip())\n",
    "        stop_word_list.append(line.strip())"
   ]
  },
  {
   "cell_type": "code",
   "execution_count": 33,
   "id": "cd040f5a-0f1f-47e4-9979-69beda08fe03",
   "metadata": {
    "tags": []
   },
   "outputs": [
    {
     "data": {
      "text/plain": [
       "679"
      ]
     },
     "execution_count": 33,
     "metadata": {},
     "output_type": "execute_result"
    }
   ],
   "source": [
    "len(stop_word_list)"
   ]
  },
  {
   "cell_type": "code",
   "execution_count": 34,
   "id": "52500abf-7c59-40ec-9149-2f8282f61208",
   "metadata": {
    "tags": []
   },
   "outputs": [
    {
     "data": {
      "text/plain": [
       "['!', '\"', '$', '%', '&']"
      ]
     },
     "execution_count": 34,
     "metadata": {},
     "output_type": "execute_result"
    }
   ],
   "source": [
    "stop_word_list[:5]"
   ]
  },
  {
   "cell_type": "markdown",
   "id": "7f3eaf55-c344-40ee-8ad8-9e70b86b0e74",
   "metadata": {},
   "source": [
    "### 1차 제거\n",
    "* 18261 -> 18054"
   ]
  },
  {
   "cell_type": "code",
   "execution_count": 35,
   "id": "b528a825-6548-493c-83f8-26a8241a990a",
   "metadata": {
    "tags": []
   },
   "outputs": [
    {
     "name": "stdout",
     "output_type": "stream",
     "text": [
      "18054\n"
     ]
    }
   ],
   "source": [
    "# arr = [6, 5, 6, 4, 4, 1, 1, 2, 3, 9, 8, 7, 9, 8, 7]\n",
    "# result = [] # 중복 제거된 값들이 들어갈 리스트\n",
    "\n",
    "for i, value in enumerate(word_cnt['word']):\n",
    "    if value  in stop_word_list:\n",
    "        word_cnt = word_cnt.drop(i, axis=0)\n",
    "\n",
    "print(len(word_cnt))"
   ]
  },
  {
   "cell_type": "code",
   "execution_count": 36,
   "id": "5f0e400e-6708-495a-95a4-7aea78000bb3",
   "metadata": {
    "tags": []
   },
   "outputs": [],
   "source": [
    "# word_cnt.head(50)"
   ]
  },
  {
   "cell_type": "markdown",
   "id": "056a95af-0a1a-4cf8-82e6-d2eaa18f69ec",
   "metadata": {},
   "source": [
    "## 한 글자"
   ]
  },
  {
   "cell_type": "code",
   "execution_count": 37,
   "id": "a11356f7-1084-4b24-959a-32d755455420",
   "metadata": {
    "tags": []
   },
   "outputs": [
    {
     "data": {
      "text/plain": [
       "1051"
      ]
     },
     "execution_count": 37,
     "metadata": {},
     "output_type": "execute_result"
    }
   ],
   "source": [
    "one_letter=[]\n",
    "for word in word_cnt['word']:\n",
    "    if len(word)==1:\n",
    "        one_letter.append(word)\n",
    "len(one_letter)"
   ]
  },
  {
   "cell_type": "code",
   "execution_count": 38,
   "id": "430d9181-b933-4ab2-82d7-6001328979b6",
   "metadata": {
    "tags": []
   },
   "outputs": [],
   "source": [
    "# one_letter[650:700]"
   ]
  },
  {
   "cell_type": "code",
   "execution_count": 39,
   "id": "fe3a66cd-93fb-4c57-86ff-a78f4bf9872c",
   "metadata": {
    "tags": []
   },
   "outputs": [],
   "source": [
    "# word_cnt.head(10)"
   ]
  },
  {
   "cell_type": "code",
   "execution_count": 40,
   "id": "d54a41ca-2748-4ba1-a82a-b0a64ae1efda",
   "metadata": {
    "tags": []
   },
   "outputs": [],
   "source": [
    "word_cnt = word_cnt.reset_index()"
   ]
  },
  {
   "cell_type": "code",
   "execution_count": 41,
   "id": "258431b1-6cf0-4473-a7ba-6e668e315564",
   "metadata": {
    "tags": []
   },
   "outputs": [],
   "source": [
    "del word_cnt['index']"
   ]
  },
  {
   "cell_type": "code",
   "execution_count": 42,
   "id": "06fb5b3a-f4bc-4117-b1b5-f5b71f3fcf3c",
   "metadata": {
    "tags": []
   },
   "outputs": [
    {
     "data": {
      "text/html": [
       "<div>\n",
       "<style scoped>\n",
       "    .dataframe tbody tr th:only-of-type {\n",
       "        vertical-align: middle;\n",
       "    }\n",
       "\n",
       "    .dataframe tbody tr th {\n",
       "        vertical-align: top;\n",
       "    }\n",
       "\n",
       "    .dataframe thead th {\n",
       "        text-align: right;\n",
       "    }\n",
       "</style>\n",
       "<table border=\"1\" class=\"dataframe\">\n",
       "  <thead>\n",
       "    <tr style=\"text-align: right;\">\n",
       "      <th></th>\n",
       "      <th>word</th>\n",
       "      <th>cnt</th>\n",
       "    </tr>\n",
       "  </thead>\n",
       "  <tbody>\n",
       "    <tr>\n",
       "      <th>0</th>\n",
       "      <td>\"'</td>\n",
       "      <td>9</td>\n",
       "    </tr>\n",
       "    <tr>\n",
       "      <th>1</th>\n",
       "      <td>\"(</td>\n",
       "      <td>15</td>\n",
       "    </tr>\n",
       "    <tr>\n",
       "      <th>2</th>\n",
       "      <td>\")</td>\n",
       "      <td>5</td>\n",
       "    </tr>\n",
       "    <tr>\n",
       "      <th>3</th>\n",
       "      <td>\"+_</td>\n",
       "      <td>1</td>\n",
       "    </tr>\n",
       "    <tr>\n",
       "      <th>4</th>\n",
       "      <td>\",</td>\n",
       "      <td>3</td>\n",
       "    </tr>\n",
       "  </tbody>\n",
       "</table>\n",
       "</div>"
      ],
      "text/plain": [
       "  word  cnt\n",
       "0   \"'    9\n",
       "1   \"(   15\n",
       "2   \")    5\n",
       "3  \"+_    1\n",
       "4   \",    3"
      ]
     },
     "execution_count": 42,
     "metadata": {},
     "output_type": "execute_result"
    }
   ],
   "source": [
    "word_cnt.head()"
   ]
  },
  {
   "cell_type": "markdown",
   "id": "6404cd09-f6ec-4d31-8bee-2b95934eddd4",
   "metadata": {},
   "source": [
    "### 2차제거\n",
    "* 18054 -> 17003"
   ]
  },
  {
   "cell_type": "code",
   "execution_count": 46,
   "id": "0a2ede1d-cbed-4014-98dd-6ceb6ecc57e2",
   "metadata": {
    "tags": []
   },
   "outputs": [],
   "source": [
    "del_idx = []\n",
    "for i, word in enumerate(word_cnt['word']):\n",
    "    if word in one_letter:\n",
    "        del_idx.append(i)"
   ]
  },
  {
   "cell_type": "code",
   "execution_count": 47,
   "id": "dae281bb-7db8-48f1-8382-14b33aeb2975",
   "metadata": {
    "tags": []
   },
   "outputs": [
    {
     "data": {
      "text/plain": [
       "1051"
      ]
     },
     "execution_count": 47,
     "metadata": {},
     "output_type": "execute_result"
    }
   ],
   "source": [
    "len(del_idx)"
   ]
  },
  {
   "cell_type": "code",
   "execution_count": 48,
   "id": "7cb92b90-25a5-4aeb-beb6-2d0fd272063c",
   "metadata": {
    "tags": []
   },
   "outputs": [
    {
     "data": {
      "text/plain": [
       "17003"
      ]
     },
     "execution_count": 48,
     "metadata": {},
     "output_type": "execute_result"
    }
   ],
   "source": [
    "word_cnt = word_cnt.drop(del_idx, axis=0)\n",
    "len(word_cnt)"
   ]
  },
  {
   "cell_type": "code",
   "execution_count": null,
   "id": "8b9ad0f3-450e-468f-86f4-298700e32beb",
   "metadata": {
    "tags": []
   },
   "outputs": [],
   "source": [
    "# for word_idx in range(len(word_cnt)):\n",
    "#     print(word_cnt.iloc[word_idx,0])\n",
    "#     # if len(word['word'])==1:\n",
    "#         # word_cnt=word_cnt.delete(word)\n",
    "#         # print(word['word'])"
   ]
  },
  {
   "cell_type": "markdown",
   "id": "302874cd-16e7-4b1f-b8cf-4f926509273c",
   "metadata": {},
   "source": [
    "## 정규표현식"
   ]
  },
  {
   "cell_type": "code",
   "execution_count": 49,
   "id": "baa02ca4-207b-4bfe-85a4-e6341e7aa4d6",
   "metadata": {
    "tags": []
   },
   "outputs": [],
   "source": [
    "import re"
   ]
  },
  {
   "cell_type": "markdown",
   "id": "d2b80fa4-63ba-4431-b8ca-8ce7c9de6857",
   "metadata": {},
   "source": [
    "### 기호"
   ]
  },
  {
   "cell_type": "code",
   "execution_count": 86,
   "id": "bd3ba061-a4cd-4bae-8293-db257477200b",
   "metadata": {
    "tags": []
   },
   "outputs": [],
   "source": [
    "# word_cnt['word'][250:300]"
   ]
  },
  {
   "cell_type": "code",
   "execution_count": 76,
   "id": "e4e0a557-1bdc-4e7a-b64a-ee1a6bd8f468",
   "metadata": {
    "tags": []
   },
   "outputs": [
    {
     "name": "stdout",
     "output_type": "stream",
     "text": [
      "0         \"'\n",
      "1         \"(\n",
      "2         \")\n",
      "3        \"+_\n",
      "4         \",\n",
      "        ... \n",
      "18045     힘쓰\n",
      "18046     힘쓴\n",
      "18047     힘쓸\n",
      "18048     힘입\n",
      "18049     힘주\n",
      "Name: word, Length: 17003, dtype: object\n"
     ]
    }
   ],
   "source": [
    "print(word_cnt['word'])"
   ]
  },
  {
   "cell_type": "code",
   "execution_count": 96,
   "id": "efafed37-ee3f-4cc0-a787-ada009c38b1b",
   "metadata": {
    "tags": []
   },
   "outputs": [
    {
     "data": {
      "text/plain": [
       "0        []\n",
       "1        []\n",
       "2        []\n",
       "3        []\n",
       "4        []\n",
       "         ..\n",
       "18045    []\n",
       "18046    []\n",
       "18047    []\n",
       "18048    []\n",
       "18049    []\n",
       "Name: word, Length: 17003, dtype: object"
      ]
     },
     "execution_count": 96,
     "metadata": {},
     "output_type": "execute_result"
    }
   ],
   "source": [
    "word_cnt.word.str.findall('!')"
   ]
  },
  {
   "cell_type": "code",
   "execution_count": 106,
   "id": "29a47d82-fa63-4ac1-ae19-fc3b044feb30",
   "metadata": {
    "tags": []
   },
   "outputs": [],
   "source": [
    "특수기호_idx=word_cnt[word_cnt.word.str.contains('[\\{\\}\\[\\]\\/?.,;:|\\)*~`!^\\-_+<>@\\#$%&\\\\\\=\\(\\'\\\"]')].index"
   ]
  },
  {
   "cell_type": "markdown",
   "id": "5ab8720c-e4c9-4e1c-b342-f9ff5ebb9b23",
   "metadata": {},
   "source": [
    "### 3차제거\n",
    "*17003 -> 16845"
   ]
  },
  {
   "cell_type": "code",
   "execution_count": 107,
   "id": "849d996e-464c-44cc-8106-3b958910af77",
   "metadata": {
    "tags": []
   },
   "outputs": [],
   "source": [
    "word_cnt = word_cnt.drop(특수기호_idx, axis=0)"
   ]
  },
  {
   "cell_type": "code",
   "execution_count": 108,
   "id": "0d770ac4-439a-4b00-876c-ca2ef806f6fd",
   "metadata": {
    "tags": []
   },
   "outputs": [
    {
     "data": {
      "text/plain": [
       "16845"
      ]
     },
     "execution_count": 108,
     "metadata": {},
     "output_type": "execute_result"
    }
   ],
   "source": [
    "len(word_cnt)"
   ]
  },
  {
   "cell_type": "code",
   "execution_count": 116,
   "id": "ef2c6a7e-0635-40c1-b79d-0179a9c713b9",
   "metadata": {
    "tags": []
   },
   "outputs": [
    {
     "data": {
      "text/html": [
       "<div>\n",
       "<style scoped>\n",
       "    .dataframe tbody tr th:only-of-type {\n",
       "        vertical-align: middle;\n",
       "    }\n",
       "\n",
       "    .dataframe tbody tr th {\n",
       "        vertical-align: top;\n",
       "    }\n",
       "\n",
       "    .dataframe thead th {\n",
       "        text-align: right;\n",
       "    }\n",
       "</style>\n",
       "<table border=\"1\" class=\"dataframe\">\n",
       "  <thead>\n",
       "    <tr style=\"text-align: right;\">\n",
       "      <th></th>\n",
       "      <th>word</th>\n",
       "      <th>cnt</th>\n",
       "    </tr>\n",
       "  </thead>\n",
       "  <tbody>\n",
       "    <tr>\n",
       "      <th>110</th>\n",
       "      <td>000020</td>\n",
       "      <td>1</td>\n",
       "    </tr>\n",
       "    <tr>\n",
       "      <th>111</th>\n",
       "      <td>000063</td>\n",
       "      <td>1</td>\n",
       "    </tr>\n",
       "    <tr>\n",
       "      <th>112</th>\n",
       "      <td>001</td>\n",
       "      <td>1</td>\n",
       "    </tr>\n",
       "    <tr>\n",
       "      <th>114</th>\n",
       "      <td>001067</td>\n",
       "      <td>1</td>\n",
       "    </tr>\n",
       "    <tr>\n",
       "      <th>116</th>\n",
       "      <td>0025</td>\n",
       "      <td>1</td>\n",
       "    </tr>\n",
       "    <tr>\n",
       "      <th>...</th>\n",
       "      <td>...</td>\n",
       "      <td>...</td>\n",
       "    </tr>\n",
       "    <tr>\n",
       "      <th>18039</th>\n",
       "      <td>힐러</td>\n",
       "      <td>1</td>\n",
       "    </tr>\n",
       "    <tr>\n",
       "      <th>18040</th>\n",
       "      <td>힐링</td>\n",
       "      <td>1</td>\n",
       "    </tr>\n",
       "    <tr>\n",
       "      <th>18045</th>\n",
       "      <td>힘쓰</td>\n",
       "      <td>1</td>\n",
       "    </tr>\n",
       "    <tr>\n",
       "      <th>18046</th>\n",
       "      <td>힘쓴</td>\n",
       "      <td>1</td>\n",
       "    </tr>\n",
       "    <tr>\n",
       "      <th>18047</th>\n",
       "      <td>힘쓸</td>\n",
       "      <td>1</td>\n",
       "    </tr>\n",
       "  </tbody>\n",
       "</table>\n",
       "<p>7435 rows × 2 columns</p>\n",
       "</div>"
      ],
      "text/plain": [
       "         word  cnt\n",
       "110    000020    1\n",
       "111    000063    1\n",
       "112       001    1\n",
       "114    001067    1\n",
       "116      0025    1\n",
       "...       ...  ...\n",
       "18039      힐러    1\n",
       "18040      힐링    1\n",
       "18045      힘쓰    1\n",
       "18046      힘쓴    1\n",
       "18047      힘쓸    1\n",
       "\n",
       "[7435 rows x 2 columns]"
      ]
     },
     "execution_count": 116,
     "metadata": {},
     "output_type": "execute_result"
    }
   ],
   "source": [
    "word_cnt[word_cnt['cnt']<2]"
   ]
  },
  {
   "cell_type": "code",
   "execution_count": 119,
   "id": "97ea2212-881c-479c-96b6-69f088a577bb",
   "metadata": {
    "tags": []
   },
   "outputs": [],
   "source": [
    "word_cnt.to_csv('./word_list.csv', index=False)"
   ]
  }
 ],
 "metadata": {
  "kernelspec": {
   "display_name": "Python 3 (ipykernel)",
   "language": "python",
   "name": "python3"
  },
  "language_info": {
   "codemirror_mode": {
    "name": "ipython",
    "version": 3
   },
   "file_extension": ".py",
   "mimetype": "text/x-python",
   "name": "python",
   "nbconvert_exporter": "python",
   "pygments_lexer": "ipython3",
   "version": "3.8.8"
  }
 },
 "nbformat": 4,
 "nbformat_minor": 5
}
