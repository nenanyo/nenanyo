{
 "cells": [
  {
   "cell_type": "code",
   "execution_count": 2,
   "id": "15edf686-8c97-44c6-8c60-3557de18b23f",
   "metadata": {
    "id": "Qww_V4GzhgoS"
   },
   "outputs": [],
   "source": [
    "import pandas as pd\n",
    "import numpy as np\n",
    "import matplotlib.pyplot as plt\n",
    "from sklearn.model_selection import train_test_split\n",
    "import re\n",
    "import urllib.request\n",
    "import mecab\n",
    "from tqdm import tqdm\n",
    "from tensorflow.keras.preprocessing.text import Tokenizer\n",
    "from tensorflow.keras.preprocessing.sequence import pad_sequences\n",
    "import tensorflow as tf\n",
    "from tensorflow.keras.layers import Embedding, Dense, LSTM\n",
    "from tensorflow.keras.models import Sequential\n",
    "from tensorflow.keras.models import load_model\n",
    "from tensorflow.keras.utils import to_categorical\n",
    "from tensorflow.keras.callbacks import EarlyStopping, ModelCheckpoint\n",
    "import warnings\n",
    "warnings.filterwarnings(action='ignore')"
   ]
  },
  {
   "cell_type": "markdown",
   "id": "206509e2-e998-4318-99c7-f428e225a24c",
   "metadata": {},
   "source": [
    "# 데이터 로드"
   ]
  },
  {
   "cell_type": "code",
   "execution_count": 28,
   "id": "0b590cf3-696a-4f08-a5a5-bc84271d18ed",
   "metadata": {
    "tags": []
   },
   "outputs": [
    {
     "name": "stdout",
     "output_type": "stream",
     "text": [
      "<class 'pandas.core.frame.DataFrame'>\n",
      "RangeIndex: 17410 entries, 0 to 17409\n",
      "Data columns (total 2 columns):\n",
      " #   Column  Non-Null Count  Dtype  \n",
      "---  ------  --------------  -----  \n",
      " 0   labels  17410 non-null  float64\n",
      " 1   title   17410 non-null  object \n",
      "dtypes: float64(1), object(1)\n",
      "memory usage: 272.2+ KB\n"
     ]
    }
   ],
   "source": [
    "df=pd.read_csv('./df_label_O.csv')\n",
    "df.info()"
   ]
  },
  {
   "cell_type": "code",
   "execution_count": 29,
   "id": "ada914f3-fbfc-44ba-938b-7a71aa861cc7",
   "metadata": {
    "id": "Qgna8GZ_k0AW"
   },
   "outputs": [
    {
     "ename": "AttributeError",
     "evalue": "'MeCab' object has no attribute 'MeCab'",
     "output_type": "error",
     "traceback": [
      "\u001b[1;31m---------------------------------------------------------------------------\u001b[0m",
      "\u001b[1;31mAttributeError\u001b[0m                            Traceback (most recent call last)",
      "Cell \u001b[1;32mIn[29], line 1\u001b[0m\n\u001b[1;32m----> 1\u001b[0m mecab \u001b[38;5;241m=\u001b[39m \u001b[43mmecab\u001b[49m\u001b[38;5;241;43m.\u001b[39;49m\u001b[43mMeCab\u001b[49m()\n",
      "\u001b[1;31mAttributeError\u001b[0m: 'MeCab' object has no attribute 'MeCab'"
     ]
    }
   ],
   "source": [
    "mecab = mecab.MeCab()"
   ]
  },
  {
   "cell_type": "code",
   "execution_count": 30,
   "id": "e970bc66-1188-492d-8666-844115d5fbab",
   "metadata": {
    "id": "9dKO6hYzkwbF"
   },
   "outputs": [],
   "source": [
    "df['tokenized'] = df['title'].apply(mecab.morphs)"
   ]
  },
  {
   "cell_type": "code",
   "execution_count": 37,
   "id": "77f01345-02bf-484c-b77a-7ca6c897f119",
   "metadata": {
    "tags": []
   },
   "outputs": [
    {
     "data": {
      "text/html": [
       "<div>\n",
       "<style scoped>\n",
       "    .dataframe tbody tr th:only-of-type {\n",
       "        vertical-align: middle;\n",
       "    }\n",
       "\n",
       "    .dataframe tbody tr th {\n",
       "        vertical-align: top;\n",
       "    }\n",
       "\n",
       "    .dataframe thead th {\n",
       "        text-align: right;\n",
       "    }\n",
       "</style>\n",
       "<table border=\"1\" class=\"dataframe\">\n",
       "  <thead>\n",
       "    <tr style=\"text-align: right;\">\n",
       "      <th></th>\n",
       "      <th>labels</th>\n",
       "      <th>title</th>\n",
       "      <th>tokenized</th>\n",
       "    </tr>\n",
       "  </thead>\n",
       "  <tbody>\n",
       "    <tr>\n",
       "      <th>0</th>\n",
       "      <td>1.0</td>\n",
       "      <td>새로운 생산공장으로 인해 회사는 예상되는 수요 증가를 충족시킬 수 있는 능력을 증가...</td>\n",
       "      <td>[새로운, 생산, 공장, 으로, 인해, 회사, 는, 예상, 되, 는, 수요, 증가,...</td>\n",
       "    </tr>\n",
       "    <tr>\n",
       "      <th>1</th>\n",
       "      <td>1.0</td>\n",
       "      <td>2009-2012년 회사의 업데이트된 전략에 따르면, Basware는 20% - 4...</td>\n",
       "      <td>[2009, -, 2012, 년, 회사, 의, 업데이트, 된, 전략, 에, 따르, ...</td>\n",
       "    </tr>\n",
       "  </tbody>\n",
       "</table>\n",
       "</div>"
      ],
      "text/plain": [
       "   labels                                              title  \\\n",
       "0     1.0  새로운 생산공장으로 인해 회사는 예상되는 수요 증가를 충족시킬 수 있는 능력을 증가...   \n",
       "1     1.0  2009-2012년 회사의 업데이트된 전략에 따르면, Basware는 20% - 4...   \n",
       "\n",
       "                                           tokenized  \n",
       "0  [새로운, 생산, 공장, 으로, 인해, 회사, 는, 예상, 되, 는, 수요, 증가,...  \n",
       "1  [2009, -, 2012, 년, 회사, 의, 업데이트, 된, 전략, 에, 따르, ...  "
      ]
     },
     "execution_count": 37,
     "metadata": {},
     "output_type": "execute_result"
    }
   ],
   "source": [
    "df.head(2)"
   ]
  },
  {
   "cell_type": "code",
   "execution_count": 32,
   "id": "5e833fde-c571-4354-b9a4-27c9fd62dac2",
   "metadata": {
    "tags": []
   },
   "outputs": [
    {
     "name": "stdout",
     "output_type": "stream",
     "text": [
      "<class 'pandas.core.frame.DataFrame'>\n",
      "RangeIndex: 16845 entries, 0 to 16844\n",
      "Data columns (total 2 columns):\n",
      " #   Column  Non-Null Count  Dtype \n",
      "---  ------  --------------  ----- \n",
      " 0   word    16845 non-null  object\n",
      " 1   cnt     16845 non-null  int64 \n",
      "dtypes: int64(1), object(1)\n",
      "memory usage: 263.3+ KB\n"
     ]
    }
   ],
   "source": [
    "word_list = pd.read_csv('word_list.csv')\n",
    "word_list.info()"
   ]
  },
  {
   "cell_type": "markdown",
   "id": "8fcea2c7-0950-409e-8a7a-1242b67f76d6",
   "metadata": {},
   "source": [
    "# 불용어 제거"
   ]
  },
  {
   "cell_type": "code",
   "execution_count": 33,
   "id": "cb3d03d6-3241-46b2-8388-79540d433175",
   "metadata": {
    "tags": []
   },
   "outputs": [
    {
     "data": {
      "text/plain": [
       "16845"
      ]
     },
     "execution_count": 33,
     "metadata": {},
     "output_type": "execute_result"
    }
   ],
   "source": [
    "word_list1 =[]\n",
    "for word in word_list['word']:\n",
    "    word_list1.append(word)\n",
    "len(word_list1)"
   ]
  },
  {
   "cell_type": "code",
   "execution_count": 12,
   "id": "9ed16fca-4afd-47b2-ab2f-a763324a86ca",
   "metadata": {
    "tags": []
   },
   "outputs": [],
   "source": [
    "stop_word = []\n",
    "for token in df['tokenized']:\n",
    "    for word in token:\n",
    "        if word not in word_list1:\n",
    "            stop_word.append(word)\n",
    "        "
   ]
  },
  {
   "cell_type": "code",
   "execution_count": 13,
   "id": "aaffe11d-b12f-4907-a6c7-c50b665b4b25",
   "metadata": {
    "tags": []
   },
   "outputs": [
    {
     "data": {
      "text/plain": [
       "171242"
      ]
     },
     "execution_count": 13,
     "metadata": {},
     "output_type": "execute_result"
    }
   ],
   "source": [
    "len(stop_word)"
   ]
  },
  {
   "cell_type": "code",
   "execution_count": 18,
   "id": "20de101c-28c6-4bc1-a04a-9f4b3c362cc2",
   "metadata": {
    "tags": []
   },
   "outputs": [
    {
     "name": "stdout",
     "output_type": "stream",
     "text": [
      "1416\n"
     ]
    }
   ],
   "source": [
    "stop_word_result = []\n",
    "for value in stop_word:\n",
    "    if value not in stop_word_result:\n",
    "        stop_word_result.append(value)\n",
    "\n",
    "print(len(stop_word_result))"
   ]
  },
  {
   "cell_type": "code",
   "execution_count": 20,
   "id": "c7385901-1d7c-4644-b702-bd2fcba4bc86",
   "metadata": {
    "tags": []
   },
   "outputs": [],
   "source": [
    "stop_word_result = pd.DataFrame(stop_word_result)"
   ]
  },
  {
   "cell_type": "code",
   "execution_count": 21,
   "id": "04573a56-bbbd-4a8f-9afe-a44c34a8d135",
   "metadata": {
    "tags": []
   },
   "outputs": [],
   "source": [
    "stop_word_result.to_csv('./stop_word_result.csv')"
   ]
  },
  {
   "cell_type": "code",
   "execution_count": 23,
   "id": "e2031cd1-4986-4e9b-9e3c-6c196391040d",
   "metadata": {
    "tags": []
   },
   "outputs": [
    {
     "data": {
      "text/html": [
       "<div>\n",
       "<style scoped>\n",
       "    .dataframe tbody tr th:only-of-type {\n",
       "        vertical-align: middle;\n",
       "    }\n",
       "\n",
       "    .dataframe tbody tr th {\n",
       "        vertical-align: top;\n",
       "    }\n",
       "\n",
       "    .dataframe thead th {\n",
       "        text-align: right;\n",
       "    }\n",
       "</style>\n",
       "<table border=\"1\" class=\"dataframe\">\n",
       "  <thead>\n",
       "    <tr style=\"text-align: right;\">\n",
       "      <th></th>\n",
       "      <th>0</th>\n",
       "    </tr>\n",
       "  </thead>\n",
       "  <tbody>\n",
       "    <tr>\n",
       "      <th>0</th>\n",
       "      <td>으로</td>\n",
       "    </tr>\n",
       "    <tr>\n",
       "      <th>1</th>\n",
       "      <td>는</td>\n",
       "    </tr>\n",
       "    <tr>\n",
       "      <th>2</th>\n",
       "      <td>되</td>\n",
       "    </tr>\n",
       "    <tr>\n",
       "      <th>3</th>\n",
       "      <td>를</td>\n",
       "    </tr>\n",
       "    <tr>\n",
       "      <th>4</th>\n",
       "      <td>수</td>\n",
       "    </tr>\n",
       "  </tbody>\n",
       "</table>\n",
       "</div>"
      ],
      "text/plain": [
       "    0\n",
       "0  으로\n",
       "1   는\n",
       "2   되\n",
       "3   를\n",
       "4   수"
      ]
     },
     "execution_count": 23,
     "metadata": {},
     "output_type": "execute_result"
    }
   ],
   "source": [
    "stop_word_result.head()"
   ]
  },
  {
   "cell_type": "code",
   "execution_count": 24,
   "id": "97d9f8e9-eadd-455d-a698-9b48509be108",
   "metadata": {
    "tags": []
   },
   "outputs": [
    {
     "data": {
      "text/plain": [
       "1416"
      ]
     },
     "execution_count": 24,
     "metadata": {},
     "output_type": "execute_result"
    }
   ],
   "source": [
    "stop_word = []\n",
    "for word in stop_word_result[0]:\n",
    "    stop_word.append(word)\n",
    "len(stop_word)\n"
   ]
  },
  {
   "cell_type": "code",
   "execution_count": 35,
   "id": "8096f18b-1b89-422e-910c-e79e6dbfb33e",
   "metadata": {
    "tags": []
   },
   "outputs": [
    {
     "data": {
      "text/html": [
       "<div>\n",
       "<style scoped>\n",
       "    .dataframe tbody tr th:only-of-type {\n",
       "        vertical-align: middle;\n",
       "    }\n",
       "\n",
       "    .dataframe tbody tr th {\n",
       "        vertical-align: top;\n",
       "    }\n",
       "\n",
       "    .dataframe thead th {\n",
       "        text-align: right;\n",
       "    }\n",
       "</style>\n",
       "<table border=\"1\" class=\"dataframe\">\n",
       "  <thead>\n",
       "    <tr style=\"text-align: right;\">\n",
       "      <th></th>\n",
       "      <th>tokenized</th>\n",
       "    </tr>\n",
       "  </thead>\n",
       "  <tbody>\n",
       "  </tbody>\n",
       "</table>\n",
       "</div>"
      ],
      "text/plain": [
       "Empty DataFrame\n",
       "Columns: [tokenized]\n",
       "Index: []"
      ]
     },
     "execution_count": 35,
     "metadata": {},
     "output_type": "execute_result"
    }
   ],
   "source": [
    "df_test = pd.DataFrame(columns=['tokenized'])\n",
    "df_test"
   ]
  },
  {
   "cell_type": "code",
   "execution_count": 45,
   "id": "8bef0341-efca-49ba-90c6-a58a504ad878",
   "metadata": {
    "tags": []
   },
   "outputs": [],
   "source": [
    "tmp_list =[]\n",
    "for token in df['tokenized']:\n",
    "    tmp =[]\n",
    "    for word in token:\n",
    "        if word not in stop_word:\n",
    "            tmp.append(word)\n",
    "    tmp_list.append(tmp)"
   ]
  },
  {
   "cell_type": "code",
   "execution_count": 46,
   "id": "e76d779a-55f3-4100-9de2-9f7a4770a746",
   "metadata": {
    "tags": []
   },
   "outputs": [
    {
     "data": {
      "text/plain": [
       "17410"
      ]
     },
     "execution_count": 46,
     "metadata": {},
     "output_type": "execute_result"
    }
   ],
   "source": [
    "len(tmp_list)"
   ]
  },
  {
   "cell_type": "code",
   "execution_count": 47,
   "id": "d4fea607-6eac-434c-b390-82c732cb845d",
   "metadata": {
    "tags": []
   },
   "outputs": [],
   "source": [
    "df['tokenized_new'] = tmp_list"
   ]
  },
  {
   "cell_type": "code",
   "execution_count": 49,
   "id": "19426319-8c87-4ad1-8780-7853f4c1cee5",
   "metadata": {
    "tags": []
   },
   "outputs": [
    {
     "data": {
      "text/html": [
       "<div>\n",
       "<style scoped>\n",
       "    .dataframe tbody tr th:only-of-type {\n",
       "        vertical-align: middle;\n",
       "    }\n",
       "\n",
       "    .dataframe tbody tr th {\n",
       "        vertical-align: top;\n",
       "    }\n",
       "\n",
       "    .dataframe thead th {\n",
       "        text-align: right;\n",
       "    }\n",
       "</style>\n",
       "<table border=\"1\" class=\"dataframe\">\n",
       "  <thead>\n",
       "    <tr style=\"text-align: right;\">\n",
       "      <th></th>\n",
       "      <th>tokenized</th>\n",
       "      <th>tokenized_new</th>\n",
       "    </tr>\n",
       "  </thead>\n",
       "  <tbody>\n",
       "    <tr>\n",
       "      <th>0</th>\n",
       "      <td>[새로운, 생산, 공장, 으로, 인해, 회사, 는, 예상, 되, 는, 수요, 증가,...</td>\n",
       "      <td>[새로운, 생산, 공장, 인해, 회사, 예상, 수요, 증가, 충족, 시킬, 능력, ...</td>\n",
       "    </tr>\n",
       "    <tr>\n",
       "      <th>1</th>\n",
       "      <td>[2009, -, 2012, 년, 회사, 의, 업데이트, 된, 전략, 에, 따르, ...</td>\n",
       "      <td>[2009, 2012, 회사, 업데이트, 전략, 따르, Basware, 20, 40...</td>\n",
       "    </tr>\n",
       "    <tr>\n",
       "      <th>2</th>\n",
       "      <td>[ASPOCOMP, 의, 성장기, 에, 대한, 자금, 조달, 은, 기술, 적, 으로...</td>\n",
       "      <td>[ASPOCOMP, 성장기, 대한, 자금, 조달, 기술, 까다로운, HDI, 인쇄,...</td>\n",
       "    </tr>\n",
       "    <tr>\n",
       "      <th>3</th>\n",
       "      <td>[2010, 년, 4, 분기, Componenta, 의, 순, 매출, 은, 전년, ...</td>\n",
       "      <td>[2010, 분기, Componenta, 매출, 전년, 동기, 7600, 유로, 1...</td>\n",
       "    </tr>\n",
       "    <tr>\n",
       "      <th>4</th>\n",
       "      <td>[2010, 년, 3, 분기, 순, 매출, 은, 5, ., 2, %,, 영업, 이익...</td>\n",
       "      <td>[2010, 분기, 매출, 영업, 이익, 34, 증가, 23, MN, 기록]</td>\n",
       "    </tr>\n",
       "  </tbody>\n",
       "</table>\n",
       "</div>"
      ],
      "text/plain": [
       "                                           tokenized  \\\n",
       "0  [새로운, 생산, 공장, 으로, 인해, 회사, 는, 예상, 되, 는, 수요, 증가,...   \n",
       "1  [2009, -, 2012, 년, 회사, 의, 업데이트, 된, 전략, 에, 따르, ...   \n",
       "2  [ASPOCOMP, 의, 성장기, 에, 대한, 자금, 조달, 은, 기술, 적, 으로...   \n",
       "3  [2010, 년, 4, 분기, Componenta, 의, 순, 매출, 은, 전년, ...   \n",
       "4  [2010, 년, 3, 분기, 순, 매출, 은, 5, ., 2, %,, 영업, 이익...   \n",
       "\n",
       "                                       tokenized_new  \n",
       "0  [새로운, 생산, 공장, 인해, 회사, 예상, 수요, 증가, 충족, 시킬, 능력, ...  \n",
       "1  [2009, 2012, 회사, 업데이트, 전략, 따르, Basware, 20, 40...  \n",
       "2  [ASPOCOMP, 성장기, 대한, 자금, 조달, 기술, 까다로운, HDI, 인쇄,...  \n",
       "3  [2010, 분기, Componenta, 매출, 전년, 동기, 7600, 유로, 1...  \n",
       "4         [2010, 분기, 매출, 영업, 이익, 34, 증가, 23, MN, 기록]  "
      ]
     },
     "execution_count": 49,
     "metadata": {},
     "output_type": "execute_result"
    }
   ],
   "source": [
    "df[['tokenized','tokenized_new']].head()"
   ]
  },
  {
   "cell_type": "code",
   "execution_count": 52,
   "id": "6291dd5d-9032-487c-bda7-ce1fc6d99127",
   "metadata": {
    "tags": []
   },
   "outputs": [],
   "source": [
    "# df['tokenized'][0]"
   ]
  },
  {
   "cell_type": "code",
   "execution_count": 53,
   "id": "4d176b02-cbd2-40fb-ba01-5b5ca1141da8",
   "metadata": {
    "tags": []
   },
   "outputs": [],
   "source": [
    "# df['tokenized_new'][0]"
   ]
  },
  {
   "cell_type": "code",
   "execution_count": 55,
   "id": "02a2eeb8-65f7-401c-bfe2-428d4724ff99",
   "metadata": {
    "tags": []
   },
   "outputs": [],
   "source": [
    "# df.to_csv('df_del_stopword.csv', index=False)"
   ]
  },
  {
   "cell_type": "markdown",
   "id": "22621d97-b532-47cb-8bfc-539b2f9ac374",
   "metadata": {
    "tags": []
   },
   "source": [
    "# Train-Validation"
   ]
  },
  {
   "cell_type": "code",
   "execution_count": 58,
   "id": "975547dd-4267-4381-a141-e5ad56bb9f9b",
   "metadata": {
    "tags": []
   },
   "outputs": [],
   "source": [
    "X=df['tokenized_new']\n",
    "y=df['labels']"
   ]
  },
  {
   "cell_type": "code",
   "execution_count": 59,
   "id": "ffc21af4-835a-4d21-b612-61968a1fec8e",
   "metadata": {
    "id": "qmFecWmSkHiu"
   },
   "outputs": [],
   "source": [
    "X_train, X_val, y_train, y_val = train_test_split(X, y, test_size=0.2, random_state=0, stratify=y)"
   ]
  },
  {
   "cell_type": "code",
   "execution_count": 60,
   "id": "e5c491fa-d0ec-42e8-bda2-d574efd4bb1b",
   "metadata": {
    "tags": []
   },
   "outputs": [],
   "source": [
    "# X_train.to_csv('./X_train_del_stopword.csv', index=False)"
   ]
  },
  {
   "cell_type": "markdown",
   "id": "64d40af7-bf06-40cb-bf2c-48ceb8a7227c",
   "metadata": {},
   "source": [
    "# Tokenize"
   ]
  },
  {
   "cell_type": "code",
   "execution_count": 61,
   "id": "ef71d36c-b9cd-4c5e-ac87-248292d853c0",
   "metadata": {
    "colab": {
     "base_uri": "https://localhost:8080/"
    },
    "id": "5qCRNyvpkjEY",
    "outputId": "79b5f0b6-1598-48ea-b7d5-aeb16074ff08"
   },
   "outputs": [
    {
     "name": "stdout",
     "output_type": "stream",
     "text": [
      "[[6, 967, 60, 33, 2346, 747, 266, 210, 3222, 1831, 110, 41, 111, 3686, 2, 4, 16, 788, 2, 61, 54], [2141, 336, 193, 301, 3, 202, 489], [501, 91, 1, 246, 5690, 198], [358, 307, 3687, 2573, 1226, 1986, 1109], [21, 314, 5691, 502, 50, 44, 5692, 8265, 480, 2347, 8266, 1507, 1014, 769]]\n",
      "[[12, 10, 17, 11, 1277, 44, 37, 294], [10, 687, 1512, 213, 217, 12899, 913], [311, 558, 5, 3581, 156], [232, 8, 4, 16, 427, 1076, 28, 1070], [2917, 165, 377, 237, 309, 727, 1190, 62]]\n"
     ]
    }
   ],
   "source": [
    "tokenizer = Tokenizer()\n",
    "tokenizer.fit_on_texts(X_train)\n",
    "X_train_encoded = tokenizer.texts_to_sequences(X_train)\n",
    "X_val_encoded = tokenizer.texts_to_sequences(X_val)\n",
    "print(X_train_encoded[:5])\n",
    "print(X_val_encoded[:5])"
   ]
  },
  {
   "cell_type": "code",
   "execution_count": 62,
   "id": "7f7047c4-c878-4971-8c5f-bc19042b0471",
   "metadata": {
    "colab": {
     "base_uri": "https://localhost:8080/"
    },
    "id": "KAXqMlPtkm9d",
    "outputId": "a3ceac7d-6e64-491b-ae48-5111f9bd1ab4"
   },
   "outputs": [
    {
     "name": "stdout",
     "output_type": "stream",
     "text": [
      "15180\n"
     ]
    }
   ],
   "source": [
    "word_to_index = tokenizer.word_index\n",
    "vocab_size = len(word_to_index) + 1\n",
    "print(vocab_size)"
   ]
  },
  {
   "cell_type": "markdown",
   "id": "33bffa0e-f69f-4f29-9d34-2f02d9e40e74",
   "metadata": {},
   "source": [
    "## 패딩"
   ]
  },
  {
   "cell_type": "code",
   "execution_count": 63,
   "id": "723fa324-90eb-4432-99d1-2d27fa785b47",
   "metadata": {
    "tags": []
   },
   "outputs": [
    {
     "data": {
      "text/plain": [
       "10485    [핀란드, 부품, 공급, 업체, 컴포넌트, 코퍼레이션, OMX, 헬싱, CTH, 화...\n",
       "3952                       [인지, 기능, 개선, 프로, 바이오, 동화약품, 인증]\n",
       "Name: tokenized_new, dtype: object"
      ]
     },
     "execution_count": 63,
     "metadata": {},
     "output_type": "execute_result"
    }
   ],
   "source": [
    "X_train[:2]"
   ]
  },
  {
   "cell_type": "code",
   "execution_count": 64,
   "id": "25f67daa-f374-46eb-adcd-7b17536710e2",
   "metadata": {
    "colab": {
     "base_uri": "https://localhost:8080/",
     "height": 315
    },
    "id": "CVaCLg2glTIo",
    "outputId": "2ee453f6-3488-45ca-dabd-250e064230d3"
   },
   "outputs": [
    {
     "name": "stdout",
     "output_type": "stream",
     "text": [
      "본문의 최대 길이 : 40\n",
      "본문의 평균 길이 : 9.497917863296955\n"
     ]
    },
    {
     "data": {
      "image/png": "[encoded data removed]",
      "text/plain": [
       "<Figure size 640x480 with 1 Axes>"
      ]
     },
     "metadata": {},
     "output_type": "display_data"
    }
   ],
   "source": [
    "print(  '본문의 최대 길이 :',   max(   len(sent) for sent in X_train   )   )\n",
    "# X_train 요소 하나하나 길이 재서 최대길이추출\n",
    "print(   '본문의 평균 길이 :',  sum(    map(len, X_train)  )   /  len(X_train)     )\n",
    "# X_train 요소 길이 재서 sum하구 X_train 개수로 나눈다\n",
    "plt.hist([len(sent) for sent in X_train], bins=50)\n",
    "plt.xlabel('length of samples')\n",
    "plt.ylabel('number of samples')\n",
    "plt.show()"
   ]
  },
  {
   "cell_type": "code",
   "execution_count": 65,
   "id": "f9aa7b92-1948-443e-b84e-9d857c37d5dd",
   "metadata": {
    "id": "vZvzv8jClpTF"
   },
   "outputs": [],
   "source": [
    "max_len = 40"
   ]
  },
  {
   "cell_type": "code",
   "execution_count": 66,
   "id": "da72e476-4673-4bef-8903-c21512f7084f",
   "metadata": {
    "id": "DO-ypzo6lmuu"
   },
   "outputs": [],
   "source": [
    "X_train_encoded = pad_sequences(X_train_encoded, maxlen=max_len)\n",
    "X_val_encoded = pad_sequences(X_val_encoded, maxlen=max_len)"
   ]
  },
  {
   "cell_type": "code",
   "execution_count": 74,
   "id": "68753f02-a3c6-4eca-b80e-f1afb4a570a1",
   "metadata": {
    "tags": []
   },
   "outputs": [],
   "source": [
    "# X_train_encoded[:1]"
   ]
  },
  {
   "cell_type": "code",
   "execution_count": 67,
   "id": "f5185b0b-27bf-4697-9e88-7709f0cf4fb6",
   "metadata": {
    "colab": {
     "base_uri": "https://localhost:8080/"
    },
    "id": "_3LInCb9lqUZ",
    "outputId": "64822180-1fb5-44b5-ba3f-317c8bdfb2ca"
   },
   "outputs": [
    {
     "data": {
      "text/plain": [
       "(13928, 40)"
      ]
     },
     "execution_count": 67,
     "metadata": {},
     "output_type": "execute_result"
    }
   ],
   "source": [
    "X_train_encoded.shape"
   ]
  },
  {
   "cell_type": "code",
   "execution_count": 68,
   "id": "f955b496-334c-4dac-88a7-720d86d08747",
   "metadata": {
    "colab": {
     "base_uri": "https://localhost:8080/"
    },
    "id": "BRNfINkFlxHI",
    "outputId": "48643685-2064-4ff0-d8eb-7c406fc2245a"
   },
   "outputs": [
    {
     "data": {
      "text/plain": [
       "(3482, 40)"
      ]
     },
     "execution_count": 68,
     "metadata": {},
     "output_type": "execute_result"
    }
   ],
   "source": [
    "X_val_encoded.shape"
   ]
  },
  {
   "cell_type": "code",
   "execution_count": 69,
   "id": "ba8a66b6-4079-484e-8f02-118845c7642b",
   "metadata": {
    "id": "OG8mNRPqmRb1"
   },
   "outputs": [],
   "source": [
    "y_train = to_categorical(y_train)\n",
    "y_val = to_categorical(y_val)"
   ]
  },
  {
   "cell_type": "markdown",
   "id": "eb33f6e5-ed6b-4574-aa24-e37b6b8ee679",
   "metadata": {},
   "source": [
    "# 모델\n",
    "* 테스트 정확도: 0.3935\n",
    "* 불용어 제거 후 남은 단어들의 사용횟수가 너무 적어서 그런듯"
   ]
  },
  {
   "cell_type": "code",
   "execution_count": 71,
   "id": "f284221a-926d-463a-8ba0-0f807024c697",
   "metadata": {
    "colab": {
     "base_uri": "https://localhost:8080/"
    },
    "id": "qcgxpi4zmWHd",
    "outputId": "ab93b729-da07-44c0-f1ec-8c39cbf8c7ec"
   },
   "outputs": [
    {
     "name": "stdout",
     "output_type": "stream",
     "text": [
      "Epoch 1/15\n",
      "348/349 [============================>.] - ETA: 0s - loss: 0.6793 - acc: 0.7092\n",
      "Epoch 1: val_acc improved from -inf to 0.81838, saving model to ./NLP\\best_model_del_stopword.h5\n",
      "349/349 [==============================] - 10s 21ms/step - loss: 0.6792 - acc: 0.7092 - val_loss: 0.4561 - val_acc: 0.8184\n",
      "Epoch 2/15\n",
      "349/349 [==============================] - ETA: 0s - loss: 0.2816 - acc: 0.8953\n",
      "Epoch 2: val_acc improved from 0.81838 to 0.83632, saving model to ./NLP\\best_model_del_stopword.h5\n",
      "349/349 [==============================] - 7s 21ms/step - loss: 0.2816 - acc: 0.8953 - val_loss: 0.4457 - val_acc: 0.8363\n",
      "Epoch 3/15\n",
      "347/349 [============================>.] - ETA: 0s - loss: 0.1479 - acc: 0.9479\n",
      "Epoch 3: val_acc did not improve from 0.83632\n",
      "349/349 [==============================] - 8s 22ms/step - loss: 0.1483 - acc: 0.9478 - val_loss: 0.5226 - val_acc: 0.8317\n",
      "Epoch 4/15\n",
      "349/349 [==============================] - ETA: 0s - loss: 0.0829 - acc: 0.9723\n",
      "Epoch 4: val_acc did not improve from 0.83632\n",
      "349/349 [==============================] - 8s 22ms/step - loss: 0.0829 - acc: 0.9723 - val_loss: 0.6240 - val_acc: 0.8202\n",
      "Epoch 5/15\n",
      "348/349 [============================>.] - ETA: 0s - loss: 0.0569 - acc: 0.9830\n",
      "Epoch 5: val_acc did not improve from 0.83632\n",
      "349/349 [==============================] - 8s 22ms/step - loss: 0.0569 - acc: 0.9830 - val_loss: 0.7745 - val_acc: 0.8108\n",
      "Epoch 6/15\n",
      "348/349 [============================>.] - ETA: 0s - loss: 0.0393 - acc: 0.9883\n",
      "Epoch 6: val_acc did not improve from 0.83632\n",
      "349/349 [==============================] - 8s 24ms/step - loss: 0.0393 - acc: 0.9883 - val_loss: 0.8226 - val_acc: 0.8108\n",
      "Epoch 6: early stopping\n"
     ]
    }
   ],
   "source": [
    "embedding_dim = 64\n",
    "hidden_units = 64\n",
    "num_classes = 3\n",
    "\n",
    "model = Sequential()\n",
    "model.add(Embedding(vocab_size, embedding_dim))\n",
    "model.add(LSTM(hidden_units))\n",
    "model.add(Dense(num_classes, activation='softmax'))\n",
    "\n",
    "es = EarlyStopping(monitor='val_loss', mode='min', verbose=1, patience=4)\n",
    "mc = ModelCheckpoint('./NLP/best_model_del_stopword.h5', monitor='val_acc', mode='max', verbose=1, save_best_only=True)\n",
    "\n",
    "model.compile(loss='categorical_crossentropy', optimizer='adam', metrics=['acc'])\n",
    "history = model.fit(X_train_encoded, y_train, epochs=15, callbacks=[es, mc], batch_size=32, validation_split=0.2)"
   ]
  },
  {
   "cell_type": "code",
   "execution_count": 72,
   "id": "1b2c946e-959c-4156-88fc-b6a2ff3a5326",
   "metadata": {
    "colab": {
     "base_uri": "https://localhost:8080/"
    },
    "id": "qtj0EMOEmeEX",
    "outputId": "e64117af-a089-4155-ba53-e2481a094cd2",
    "tags": []
   },
   "outputs": [
    {
     "name": "stdout",
     "output_type": "stream",
     "text": [
      "109/109 [==============================] - 1s 5ms/step - loss: 1.7665 - acc: 0.3935\n",
      "\n",
      " 테스트 정확도: 0.3935\n"
     ]
    }
   ],
   "source": [
    "loaded_model = load_model('./NLP/best_model_label_balanced.h5')\n",
    "print(\"\\n 테스트 정확도: %.4f\" % (loaded_model.evaluate(X_val_encoded, y_val)[1]))"
   ]
  },
  {
   "cell_type": "code",
   "execution_count": null,
   "id": "76d11033-9a20-4cdf-8aaf-62392f5001b8",
   "metadata": {},
   "outputs": [],
   "source": []
  },
  {
   "cell_type": "code",
   "execution_count": null,
   "id": "fac4c93d-1007-4ef1-b0ec-3892be6742cb",
   "metadata": {},
   "outputs": [],
   "source": []
  }
 ],
 "metadata": {
  "kernelspec": {
   "display_name": "Python 3 (ipykernel)",
   "language": "python",
   "name": "python3"
  },
  "language_info": {
   "codemirror_mode": {
    "name": "ipython",
    "version": 3
   },
   "file_extension": ".py",
   "mimetype": "text/x-python",
   "name": "python",
   "nbconvert_exporter": "python",
   "pygments_lexer": "ipython3",
   "version": "3.8.8"
  }
 },
 "nbformat": 4,
 "nbformat_minor": 5
}
