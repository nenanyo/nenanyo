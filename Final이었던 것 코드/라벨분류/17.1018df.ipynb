{
 "cells": [
  {
   "cell_type": "code",
   "execution_count": 1,
   "id": "df2367da-34bd-4e66-8679-e4f495fef7a5",
   "metadata": {
    "id": "Qww_V4GzhgoS",
    "tags": []
   },
   "outputs": [],
   "source": [
    "import pandas as pd\n",
    "import numpy as np\n",
    "import matplotlib.pyplot as plt\n",
    "from sklearn.model_selection import train_test_split\n",
    "import re\n",
    "import urllib.request\n",
    "import mecab\n",
    "from tqdm import tqdm\n",
    "from tensorflow.keras.preprocessing.text import Tokenizer\n",
    "from tensorflow.keras.preprocessing.sequence import pad_sequences\n",
    "import tensorflow as tf\n",
    "from tensorflow.keras.layers import Embedding, Dense, LSTM\n",
    "from tensorflow.keras.models import Sequential\n",
    "from tensorflow.keras.models import load_model\n",
    "from tensorflow.keras.utils import to_categorical\n",
    "from tensorflow.keras.callbacks import EarlyStopping, ModelCheckpoint\n",
    "import warnings\n",
    "warnings.filterwarnings(action='ignore')"
   ]
  },
  {
   "cell_type": "code",
   "execution_count": 2,
   "id": "798a0cdf-711c-4e7d-b9cc-9e6496456ec8",
   "metadata": {
    "tags": []
   },
   "outputs": [
    {
     "data": {
      "text/html": [
       "<div>\n",
       "<style scoped>\n",
       "    .dataframe tbody tr th:only-of-type {\n",
       "        vertical-align: middle;\n",
       "    }\n",
       "\n",
       "    .dataframe tbody tr th {\n",
       "        vertical-align: top;\n",
       "    }\n",
       "\n",
       "    .dataframe thead th {\n",
       "        text-align: right;\n",
       "    }\n",
       "</style>\n",
       "<table border=\"1\" class=\"dataframe\">\n",
       "  <thead>\n",
       "    <tr style=\"text-align: right;\">\n",
       "      <th></th>\n",
       "      <th>date</th>\n",
       "      <th>category</th>\n",
       "      <th>section</th>\n",
       "      <th>publisher</th>\n",
       "      <th>author</th>\n",
       "      <th>title</th>\n",
       "      <th>content_url</th>\n",
       "      <th>attachment</th>\n",
       "      <th>industry.label</th>\n",
       "      <th>industry.score</th>\n",
       "      <th>industry.name</th>\n",
       "      <th>polarity.label</th>\n",
       "      <th>polarity.score</th>\n",
       "      <th>polarity.name</th>\n",
       "      <th>corp</th>\n",
       "    </tr>\n",
       "  </thead>\n",
       "  <tbody>\n",
       "    <tr>\n",
       "      <th>0</th>\n",
       "      <td>2018-12-27</td>\n",
       "      <td>news</td>\n",
       "      <td>economy</td>\n",
       "      <td>전자신문</td>\n",
       "      <td>NaN</td>\n",
       "      <td>[ET투자뉴스]CMG제약_기관의 힘? 대량순매수 이후.. 현재 +3.05%</td>\n",
       "      <td>NaN</td>\n",
       "      <td>NaN</td>\n",
       "      <td>C21</td>\n",
       "      <td>1.00</td>\n",
       "      <td>의료용 물질 및 의약품 제조업</td>\n",
       "      <td>1.0</td>\n",
       "      <td>0.643</td>\n",
       "      <td>긍정</td>\n",
       "      <td>DeepSearch-CMG제약-news-2018-01-01-2018-12-31-20...</td>\n",
       "    </tr>\n",
       "    <tr>\n",
       "      <th>1</th>\n",
       "      <td>2018-12-24</td>\n",
       "      <td>news</td>\n",
       "      <td>economy</td>\n",
       "      <td>한국경제</td>\n",
       "      <td>NaN</td>\n",
       "      <td>[한경로보뉴스] '와이지엔터테인먼트' 52주 신고가 경신</td>\n",
       "      <td>NaN</td>\n",
       "      <td>NaN</td>\n",
       "      <td>C26</td>\n",
       "      <td>0.59</td>\n",
       "      <td>전자 부품, 컴퓨터, 영상, 음향 및 통신장비 제조업</td>\n",
       "      <td>1.0</td>\n",
       "      <td>0.667</td>\n",
       "      <td>긍정</td>\n",
       "      <td>DeepSearch-CMG제약-news-2018-01-01-2018-12-31-20...</td>\n",
       "    </tr>\n",
       "  </tbody>\n",
       "</table>\n",
       "</div>"
      ],
      "text/plain": [
       "         date category  section publisher author  \\\n",
       "0  2018-12-27     news  economy      전자신문    NaN   \n",
       "1  2018-12-24     news  economy      한국경제    NaN   \n",
       "\n",
       "                                       title  content_url  attachment  \\\n",
       "0  [ET투자뉴스]CMG제약_기관의 힘? 대량순매수 이후.. 현재 +3.05%          NaN         NaN   \n",
       "1            [한경로보뉴스] '와이지엔터테인먼트' 52주 신고가 경신          NaN         NaN   \n",
       "\n",
       "  industry.label  industry.score                  industry.name  \\\n",
       "0            C21            1.00               의료용 물질 및 의약품 제조업   \n",
       "1            C26            0.59  전자 부품, 컴퓨터, 영상, 음향 및 통신장비 제조업   \n",
       "\n",
       "   polarity.label  polarity.score polarity.name  \\\n",
       "0             1.0           0.643            긍정   \n",
       "1             1.0           0.667            긍정   \n",
       "\n",
       "                                                corp  \n",
       "0  DeepSearch-CMG제약-news-2018-01-01-2018-12-31-20...  \n",
       "1  DeepSearch-CMG제약-news-2018-01-01-2018-12-31-20...  "
      ]
     },
     "execution_count": 2,
     "metadata": {},
     "output_type": "execute_result"
    }
   ],
   "source": [
    "df= pd.read_csv('./df10-18.csv')\n",
    "df.head(2)"
   ]
  },
  {
   "cell_type": "code",
   "execution_count": 3,
   "id": "59635e11-3fde-4037-b33b-daab63444469",
   "metadata": {
    "tags": []
   },
   "outputs": [
    {
     "data": {
      "text/plain": [
       "88485"
      ]
     },
     "execution_count": 3,
     "metadata": {},
     "output_type": "execute_result"
    }
   ],
   "source": [
    "df_X = df[df['polarity.label'].isna()]\n",
    "df_O = df[df['polarity.label'].notna()]\n",
    "len(df_X)"
   ]
  },
  {
   "cell_type": "code",
   "execution_count": 4,
   "id": "0f161cab-1ef5-4b4b-ac36-3ce0c97d00c9",
   "metadata": {
    "tags": []
   },
   "outputs": [],
   "source": [
    "mecab = mecab.MeCab()"
   ]
  },
  {
   "cell_type": "code",
   "execution_count": 5,
   "id": "38100f7e-f865-45f7-b97f-211e8eb5f38a",
   "metadata": {
    "tags": []
   },
   "outputs": [],
   "source": [
    "df_X['tokenized'] = df_X['title'].apply(mecab.morphs)"
   ]
  },
  {
   "cell_type": "code",
   "execution_count": 6,
   "id": "5bef417e-3410-4d58-b92e-6b5624ff270d",
   "metadata": {
    "tags": []
   },
   "outputs": [],
   "source": [
    "stop_word = pd.read_csv('./stop_word_2.csv')"
   ]
  },
  {
   "cell_type": "code",
   "execution_count": 7,
   "id": "44b30599-50c6-4160-9038-fa16404fea55",
   "metadata": {
    "tags": []
   },
   "outputs": [],
   "source": [
    "del_stopword = []\n",
    "for row in df_X['tokenized']:\n",
    "    tmp =[]\n",
    "    for word in row:\n",
    "        if word not in stop_word:\n",
    "            tmp.append(word)\n",
    "    del_stopword.append(tmp)"
   ]
  },
  {
   "cell_type": "code",
   "execution_count": 8,
   "id": "a7b50171-a1aa-4777-b1d2-61c6c07052fc",
   "metadata": {
    "tags": []
   },
   "outputs": [],
   "source": [
    "df_X['del_stopword'] = del_stopword"
   ]
  },
  {
   "cell_type": "code",
   "execution_count": 9,
   "id": "2f600f6d-64c6-4e65-b1e3-4889d9c2bdfe",
   "metadata": {
    "tags": []
   },
   "outputs": [
    {
     "data": {
      "text/html": [
       "<div>\n",
       "<style scoped>\n",
       "    .dataframe tbody tr th:only-of-type {\n",
       "        vertical-align: middle;\n",
       "    }\n",
       "\n",
       "    .dataframe tbody tr th {\n",
       "        vertical-align: top;\n",
       "    }\n",
       "\n",
       "    .dataframe thead th {\n",
       "        text-align: right;\n",
       "    }\n",
       "</style>\n",
       "<table border=\"1\" class=\"dataframe\">\n",
       "  <thead>\n",
       "    <tr style=\"text-align: right;\">\n",
       "      <th></th>\n",
       "      <th>date</th>\n",
       "      <th>category</th>\n",
       "      <th>section</th>\n",
       "      <th>publisher</th>\n",
       "      <th>author</th>\n",
       "      <th>title</th>\n",
       "      <th>content_url</th>\n",
       "      <th>attachment</th>\n",
       "      <th>industry.label</th>\n",
       "      <th>industry.score</th>\n",
       "      <th>industry.name</th>\n",
       "      <th>polarity.label</th>\n",
       "      <th>polarity.score</th>\n",
       "      <th>polarity.name</th>\n",
       "      <th>corp</th>\n",
       "      <th>tokenized</th>\n",
       "      <th>del_stopword</th>\n",
       "    </tr>\n",
       "  </thead>\n",
       "  <tbody>\n",
       "    <tr>\n",
       "      <th>4</th>\n",
       "      <td>2018-12-05</td>\n",
       "      <td>news</td>\n",
       "      <td>tech</td>\n",
       "      <td>조선일보</td>\n",
       "      <td>최인준</td>\n",
       "      <td>간암·뇌전증·치매… 한국 신약 10여종 美 상륙한다</td>\n",
       "      <td>NaN</td>\n",
       "      <td>NaN</td>\n",
       "      <td>NaN</td>\n",
       "      <td>NaN</td>\n",
       "      <td>NaN</td>\n",
       "      <td>NaN</td>\n",
       "      <td>NaN</td>\n",
       "      <td>NaN</td>\n",
       "      <td>DeepSearch-CMG제약-news-2018-01-01-2018-12-31-20...</td>\n",
       "      <td>[간암, ·, 뇌전증, ·, 치매, …, 한국, 신약, 10, 여종, 美, 상륙, 한다]</td>\n",
       "      <td>[간암, ·, 뇌전증, ·, 치매, …, 한국, 신약, 10, 여종, 美, 상륙, 한다]</td>\n",
       "    </tr>\n",
       "    <tr>\n",
       "      <th>5</th>\n",
       "      <td>2018-11-28</td>\n",
       "      <td>news</td>\n",
       "      <td>economy</td>\n",
       "      <td>이데일리</td>\n",
       "      <td>박일경</td>\n",
       "      <td>[재송]27일 장 마감 후 주요 종목뉴스</td>\n",
       "      <td>NaN</td>\n",
       "      <td>NaN</td>\n",
       "      <td>C20</td>\n",
       "      <td>0.875</td>\n",
       "      <td>화학 물질 및 화학제품 제조업; 의약품 제외</td>\n",
       "      <td>NaN</td>\n",
       "      <td>NaN</td>\n",
       "      <td>NaN</td>\n",
       "      <td>DeepSearch-CMG제약-news-2018-01-01-2018-12-31-20...</td>\n",
       "      <td>[[, 재송, ], 27, 일, 장, 마감, 후, 주요, 종목, 뉴스]</td>\n",
       "      <td>[[, 재송, ], 27, 일, 장, 마감, 후, 주요, 종목, 뉴스]</td>\n",
       "    </tr>\n",
       "  </tbody>\n",
       "</table>\n",
       "</div>"
      ],
      "text/plain": [
       "         date category  section publisher author  \\\n",
       "4  2018-12-05     news     tech      조선일보    최인준   \n",
       "5  2018-11-28     news  economy      이데일리    박일경   \n",
       "\n",
       "                          title  content_url  attachment industry.label  \\\n",
       "4  간암·뇌전증·치매… 한국 신약 10여종 美 상륙한다          NaN         NaN            NaN   \n",
       "5        [재송]27일 장 마감 후 주요 종목뉴스          NaN         NaN            C20   \n",
       "\n",
       "   industry.score             industry.name  polarity.label  polarity.score  \\\n",
       "4             NaN                       NaN             NaN             NaN   \n",
       "5           0.875  화학 물질 및 화학제품 제조업; 의약품 제외             NaN             NaN   \n",
       "\n",
       "  polarity.name                                               corp  \\\n",
       "4           NaN  DeepSearch-CMG제약-news-2018-01-01-2018-12-31-20...   \n",
       "5           NaN  DeepSearch-CMG제약-news-2018-01-01-2018-12-31-20...   \n",
       "\n",
       "                                           tokenized  \\\n",
       "4  [간암, ·, 뇌전증, ·, 치매, …, 한국, 신약, 10, 여종, 美, 상륙, 한다]   \n",
       "5            [[, 재송, ], 27, 일, 장, 마감, 후, 주요, 종목, 뉴스]   \n",
       "\n",
       "                                        del_stopword  \n",
       "4  [간암, ·, 뇌전증, ·, 치매, …, 한국, 신약, 10, 여종, 美, 상륙, 한다]  \n",
       "5            [[, 재송, ], 27, 일, 장, 마감, 후, 주요, 종목, 뉴스]  "
      ]
     },
     "execution_count": 9,
     "metadata": {},
     "output_type": "execute_result"
    }
   ],
   "source": [
    "df_X.head(2)"
   ]
  },
  {
   "cell_type": "markdown",
   "id": "bda52a61-e0e2-4008-b538-5f83a91b43d0",
   "metadata": {},
   "source": [
    "# 모델 학습"
   ]
  },
  {
   "cell_type": "code",
   "execution_count": 10,
   "id": "8e7461bb-53c2-40b7-94b2-e112c9b1b6c0",
   "metadata": {},
   "outputs": [],
   "source": [
    "from tensorflow.keras.models import load_model"
   ]
  },
  {
   "cell_type": "code",
   "execution_count": 11,
   "id": "a4a98b64-2a4d-44e4-9bbd-9ceba4fcc24b",
   "metadata": {
    "tags": []
   },
   "outputs": [],
   "source": [
    "model=tf.keras.models.load_model(\n",
    "     './NLP/best_model_1018_labelbal.h5')"
   ]
  },
  {
   "cell_type": "code",
   "execution_count": 12,
   "id": "da0e5eba-f6a8-462a-bcb8-a3c650b674ae",
   "metadata": {
    "tags": []
   },
   "outputs": [],
   "source": [
    "x=df_X['del_stopword']\n",
    "y=df_X['polarity.label']"
   ]
  },
  {
   "cell_type": "code",
   "execution_count": 13,
   "id": "1dd14635-dddc-4f26-8681-b4fd7501ad13",
   "metadata": {
    "tags": []
   },
   "outputs": [],
   "source": [
    "X_train = pd.read_csv('./final_X_train.csv')"
   ]
  },
  {
   "cell_type": "code",
   "execution_count": 14,
   "id": "dc47c117-5c6d-4c4a-853d-707594a9b091",
   "metadata": {
    "tags": []
   },
   "outputs": [],
   "source": [
    "tokenizer = Tokenizer()\n",
    "tokenizer.fit_on_texts(X_train)"
   ]
  },
  {
   "cell_type": "code",
   "execution_count": 15,
   "id": "0904bb3d-d4da-4179-b13a-9c1ad39f2cd2",
   "metadata": {
    "tags": []
   },
   "outputs": [],
   "source": [
    "X_encoded = tokenizer.texts_to_sequences(x)"
   ]
  },
  {
   "cell_type": "code",
   "execution_count": 16,
   "id": "7d5dc08d-731d-4579-8c90-0a30738f4eab",
   "metadata": {
    "tags": []
   },
   "outputs": [],
   "source": [
    "max_len=77"
   ]
  },
  {
   "cell_type": "code",
   "execution_count": 17,
   "id": "52fc75fd-aaea-495b-b34c-024ea67020e2",
   "metadata": {
    "id": "DO-ypzo6lmuu"
   },
   "outputs": [],
   "source": [
    "X_encoded = pad_sequences(X_encoded, maxlen=max_len)"
   ]
  },
  {
   "cell_type": "code",
   "execution_count": 18,
   "id": "f1347fe4-5634-403c-ac37-25f7a228636f",
   "metadata": {
    "tags": []
   },
   "outputs": [
    {
     "name": "stdout",
     "output_type": "stream",
     "text": [
      "2766/2766 [==============================] - 25s 9ms/step\n"
     ]
    },
    {
     "data": {
      "text/plain": [
       "array([[0.41763908, 0.14792828, 0.43443257],\n",
       "       [0.41763908, 0.14792828, 0.43443257],\n",
       "       [0.46546778, 0.13079725, 0.4037349 ],\n",
       "       [0.41763908, 0.14792828, 0.43443257],\n",
       "       [0.41763908, 0.14792828, 0.43443257]], dtype=float32)"
      ]
     },
     "execution_count": 18,
     "metadata": {},
     "output_type": "execute_result"
    }
   ],
   "source": [
    "pred=model.predict(X_encoded)\n",
    "pred[:5]"
   ]
  },
  {
   "cell_type": "code",
   "execution_count": 19,
   "id": "f4d8fcb7-ff78-4c1d-8aa8-55dbd26c003e",
   "metadata": {
    "tags": []
   },
   "outputs": [
    {
     "data": {
      "text/plain": [
       "(88485, 88485)"
      ]
     },
     "execution_count": 19,
     "metadata": {},
     "output_type": "execute_result"
    }
   ],
   "source": [
    "len(df_X),len(pred)"
   ]
  },
  {
   "cell_type": "code",
   "execution_count": 20,
   "id": "71fba592-a801-4d4e-9b45-bbd99add9a78",
   "metadata": {
    "tags": []
   },
   "outputs": [],
   "source": [
    "label = np.argmax(pred,axis=1)"
   ]
  },
  {
   "cell_type": "code",
   "execution_count": 21,
   "id": "45c507c1-642f-4510-9c7f-36f928cbc350",
   "metadata": {
    "tags": []
   },
   "outputs": [
    {
     "data": {
      "text/plain": [
       "88485"
      ]
     },
     "execution_count": 21,
     "metadata": {},
     "output_type": "execute_result"
    }
   ],
   "source": [
    "len(label)"
   ]
  },
  {
   "cell_type": "code",
   "execution_count": 22,
   "id": "54884221-ce64-4a14-877b-d86db8c114c7",
   "metadata": {
    "tags": []
   },
   "outputs": [],
   "source": [
    "df_X['polarity.label'] = label"
   ]
  },
  {
   "cell_type": "code",
   "execution_count": 23,
   "id": "803be899-972b-45c1-aab1-cdeedbb41c6e",
   "metadata": {
    "tags": []
   },
   "outputs": [
    {
     "data": {
      "text/html": [
       "<div>\n",
       "<style scoped>\n",
       "    .dataframe tbody tr th:only-of-type {\n",
       "        vertical-align: middle;\n",
       "    }\n",
       "\n",
       "    .dataframe tbody tr th {\n",
       "        vertical-align: top;\n",
       "    }\n",
       "\n",
       "    .dataframe thead th {\n",
       "        text-align: right;\n",
       "    }\n",
       "</style>\n",
       "<table border=\"1\" class=\"dataframe\">\n",
       "  <thead>\n",
       "    <tr style=\"text-align: right;\">\n",
       "      <th></th>\n",
       "      <th>date</th>\n",
       "      <th>category</th>\n",
       "      <th>section</th>\n",
       "      <th>publisher</th>\n",
       "      <th>author</th>\n",
       "      <th>title</th>\n",
       "      <th>content_url</th>\n",
       "      <th>attachment</th>\n",
       "      <th>industry.label</th>\n",
       "      <th>industry.score</th>\n",
       "      <th>industry.name</th>\n",
       "      <th>polarity.label</th>\n",
       "      <th>polarity.score</th>\n",
       "      <th>polarity.name</th>\n",
       "      <th>corp</th>\n",
       "      <th>tokenized</th>\n",
       "      <th>del_stopword</th>\n",
       "    </tr>\n",
       "  </thead>\n",
       "  <tbody>\n",
       "    <tr>\n",
       "      <th>4</th>\n",
       "      <td>2018-12-05</td>\n",
       "      <td>news</td>\n",
       "      <td>tech</td>\n",
       "      <td>조선일보</td>\n",
       "      <td>최인준</td>\n",
       "      <td>간암·뇌전증·치매… 한국 신약 10여종 美 상륙한다</td>\n",
       "      <td>NaN</td>\n",
       "      <td>NaN</td>\n",
       "      <td>NaN</td>\n",
       "      <td>NaN</td>\n",
       "      <td>NaN</td>\n",
       "      <td>2</td>\n",
       "      <td>NaN</td>\n",
       "      <td>NaN</td>\n",
       "      <td>DeepSearch-CMG제약-news-2018-01-01-2018-12-31-20...</td>\n",
       "      <td>[간암, ·, 뇌전증, ·, 치매, …, 한국, 신약, 10, 여종, 美, 상륙, 한다]</td>\n",
       "      <td>[간암, ·, 뇌전증, ·, 치매, …, 한국, 신약, 10, 여종, 美, 상륙, 한다]</td>\n",
       "    </tr>\n",
       "    <tr>\n",
       "      <th>5</th>\n",
       "      <td>2018-11-28</td>\n",
       "      <td>news</td>\n",
       "      <td>economy</td>\n",
       "      <td>이데일리</td>\n",
       "      <td>박일경</td>\n",
       "      <td>[재송]27일 장 마감 후 주요 종목뉴스</td>\n",
       "      <td>NaN</td>\n",
       "      <td>NaN</td>\n",
       "      <td>C20</td>\n",
       "      <td>0.875</td>\n",
       "      <td>화학 물질 및 화학제품 제조업; 의약품 제외</td>\n",
       "      <td>2</td>\n",
       "      <td>NaN</td>\n",
       "      <td>NaN</td>\n",
       "      <td>DeepSearch-CMG제약-news-2018-01-01-2018-12-31-20...</td>\n",
       "      <td>[[, 재송, ], 27, 일, 장, 마감, 후, 주요, 종목, 뉴스]</td>\n",
       "      <td>[[, 재송, ], 27, 일, 장, 마감, 후, 주요, 종목, 뉴스]</td>\n",
       "    </tr>\n",
       "  </tbody>\n",
       "</table>\n",
       "</div>"
      ],
      "text/plain": [
       "         date category  section publisher author  \\\n",
       "4  2018-12-05     news     tech      조선일보    최인준   \n",
       "5  2018-11-28     news  economy      이데일리    박일경   \n",
       "\n",
       "                          title  content_url  attachment industry.label  \\\n",
       "4  간암·뇌전증·치매… 한국 신약 10여종 美 상륙한다          NaN         NaN            NaN   \n",
       "5        [재송]27일 장 마감 후 주요 종목뉴스          NaN         NaN            C20   \n",
       "\n",
       "   industry.score             industry.name  polarity.label  polarity.score  \\\n",
       "4             NaN                       NaN               2             NaN   \n",
       "5           0.875  화학 물질 및 화학제품 제조업; 의약품 제외               2             NaN   \n",
       "\n",
       "  polarity.name                                               corp  \\\n",
       "4           NaN  DeepSearch-CMG제약-news-2018-01-01-2018-12-31-20...   \n",
       "5           NaN  DeepSearch-CMG제약-news-2018-01-01-2018-12-31-20...   \n",
       "\n",
       "                                           tokenized  \\\n",
       "4  [간암, ·, 뇌전증, ·, 치매, …, 한국, 신약, 10, 여종, 美, 상륙, 한다]   \n",
       "5            [[, 재송, ], 27, 일, 장, 마감, 후, 주요, 종목, 뉴스]   \n",
       "\n",
       "                                        del_stopword  \n",
       "4  [간암, ·, 뇌전증, ·, 치매, …, 한국, 신약, 10, 여종, 美, 상륙, 한다]  \n",
       "5            [[, 재송, ], 27, 일, 장, 마감, 후, 주요, 종목, 뉴스]  "
      ]
     },
     "execution_count": 23,
     "metadata": {},
     "output_type": "execute_result"
    }
   ],
   "source": [
    "df_X.head(2)"
   ]
  },
  {
   "cell_type": "code",
   "execution_count": 24,
   "id": "0e264c64-4227-47de-991a-ef068bd04144",
   "metadata": {
    "tags": []
   },
   "outputs": [
    {
     "data": {
      "text/html": [
       "<div>\n",
       "<style scoped>\n",
       "    .dataframe tbody tr th:only-of-type {\n",
       "        vertical-align: middle;\n",
       "    }\n",
       "\n",
       "    .dataframe tbody tr th {\n",
       "        vertical-align: top;\n",
       "    }\n",
       "\n",
       "    .dataframe thead th {\n",
       "        text-align: right;\n",
       "    }\n",
       "</style>\n",
       "<table border=\"1\" class=\"dataframe\">\n",
       "  <thead>\n",
       "    <tr style=\"text-align: right;\">\n",
       "      <th></th>\n",
       "      <th>date</th>\n",
       "      <th>category</th>\n",
       "      <th>section</th>\n",
       "      <th>publisher</th>\n",
       "      <th>author</th>\n",
       "      <th>title</th>\n",
       "      <th>content_url</th>\n",
       "      <th>attachment</th>\n",
       "      <th>industry.label</th>\n",
       "      <th>industry.score</th>\n",
       "      <th>industry.name</th>\n",
       "      <th>polarity.label</th>\n",
       "      <th>polarity.score</th>\n",
       "      <th>polarity.name</th>\n",
       "      <th>corp</th>\n",
       "    </tr>\n",
       "  </thead>\n",
       "  <tbody>\n",
       "    <tr>\n",
       "      <th>0</th>\n",
       "      <td>2018-12-27</td>\n",
       "      <td>news</td>\n",
       "      <td>economy</td>\n",
       "      <td>전자신문</td>\n",
       "      <td>NaN</td>\n",
       "      <td>[ET투자뉴스]CMG제약_기관의 힘? 대량순매수 이후.. 현재 +3.05%</td>\n",
       "      <td>NaN</td>\n",
       "      <td>NaN</td>\n",
       "      <td>C21</td>\n",
       "      <td>1.00</td>\n",
       "      <td>의료용 물질 및 의약품 제조업</td>\n",
       "      <td>1.0</td>\n",
       "      <td>0.643</td>\n",
       "      <td>긍정</td>\n",
       "      <td>DeepSearch-CMG제약-news-2018-01-01-2018-12-31-20...</td>\n",
       "    </tr>\n",
       "    <tr>\n",
       "      <th>1</th>\n",
       "      <td>2018-12-24</td>\n",
       "      <td>news</td>\n",
       "      <td>economy</td>\n",
       "      <td>한국경제</td>\n",
       "      <td>NaN</td>\n",
       "      <td>[한경로보뉴스] '와이지엔터테인먼트' 52주 신고가 경신</td>\n",
       "      <td>NaN</td>\n",
       "      <td>NaN</td>\n",
       "      <td>C26</td>\n",
       "      <td>0.59</td>\n",
       "      <td>전자 부품, 컴퓨터, 영상, 음향 및 통신장비 제조업</td>\n",
       "      <td>1.0</td>\n",
       "      <td>0.667</td>\n",
       "      <td>긍정</td>\n",
       "      <td>DeepSearch-CMG제약-news-2018-01-01-2018-12-31-20...</td>\n",
       "    </tr>\n",
       "  </tbody>\n",
       "</table>\n",
       "</div>"
      ],
      "text/plain": [
       "         date category  section publisher author  \\\n",
       "0  2018-12-27     news  economy      전자신문    NaN   \n",
       "1  2018-12-24     news  economy      한국경제    NaN   \n",
       "\n",
       "                                       title  content_url  attachment  \\\n",
       "0  [ET투자뉴스]CMG제약_기관의 힘? 대량순매수 이후.. 현재 +3.05%          NaN         NaN   \n",
       "1            [한경로보뉴스] '와이지엔터테인먼트' 52주 신고가 경신          NaN         NaN   \n",
       "\n",
       "  industry.label  industry.score                  industry.name  \\\n",
       "0            C21            1.00               의료용 물질 및 의약품 제조업   \n",
       "1            C26            0.59  전자 부품, 컴퓨터, 영상, 음향 및 통신장비 제조업   \n",
       "\n",
       "   polarity.label  polarity.score polarity.name  \\\n",
       "0             1.0           0.643            긍정   \n",
       "1             1.0           0.667            긍정   \n",
       "\n",
       "                                                corp  \n",
       "0  DeepSearch-CMG제약-news-2018-01-01-2018-12-31-20...  \n",
       "1  DeepSearch-CMG제약-news-2018-01-01-2018-12-31-20...  "
      ]
     },
     "execution_count": 24,
     "metadata": {},
     "output_type": "execute_result"
    }
   ],
   "source": [
    "df_O.head(2)"
   ]
  },
  {
   "cell_type": "code",
   "execution_count": 129,
   "id": "56336d25-2c2f-4c41-a756-8e76aa3104e7",
   "metadata": {
    "tags": []
   },
   "outputs": [
    {
     "data": {
      "text/plain": [
       "143830"
      ]
     },
     "execution_count": 129,
     "metadata": {},
     "output_type": "execute_result"
    }
   ],
   "source": [
    "df = pd.concat([df_X,df_O], axis=0)\n",
    "len(df)"
   ]
  },
  {
   "cell_type": "code",
   "execution_count": 130,
   "id": "5bb929df-c5e1-4c30-96e2-cad2439df131",
   "metadata": {
    "tags": []
   },
   "outputs": [],
   "source": [
    "df.to_csv('./final_1018.csv')"
   ]
  },
  {
   "cell_type": "markdown",
   "id": "ad98690f-7dc7-467a-88cf-d0e769548c60",
   "metadata": {},
   "source": [
    "# 모델용 df"
   ]
  },
  {
   "cell_type": "code",
   "execution_count": 131,
   "id": "da127b1f-7047-4515-802e-9d7c75f0beee",
   "metadata": {
    "tags": []
   },
   "outputs": [
    {
     "name": "stdout",
     "output_type": "stream",
     "text": [
      "<class 'pandas.core.frame.DataFrame'>\n",
      "Int64Index: 143830 entries, 4 to 143827\n",
      "Data columns (total 17 columns):\n",
      " #   Column          Non-Null Count   Dtype  \n",
      "---  ------          --------------   -----  \n",
      " 0   date            143830 non-null  object \n",
      " 1   category        143830 non-null  object \n",
      " 2   section         143830 non-null  object \n",
      " 3   publisher       143830 non-null  object \n",
      " 4   author          54147 non-null   object \n",
      " 5   title           143830 non-null  object \n",
      " 6   content_url     0 non-null       float64\n",
      " 7   attachment      0 non-null       float64\n",
      " 8   industry.label  137471 non-null  object \n",
      " 9   industry.score  137471 non-null  float64\n",
      " 10  industry.name   137471 non-null  object \n",
      " 11  polarity.label  143830 non-null  float64\n",
      " 12  polarity.score  55345 non-null   float64\n",
      " 13  polarity.name   55345 non-null   object \n",
      " 14  corp            143830 non-null  object \n",
      " 15  tokenized       88485 non-null   object \n",
      " 16  del_stopword    88485 non-null   object \n",
      "dtypes: float64(5), object(12)\n",
      "memory usage: 19.8+ MB\n"
     ]
    }
   ],
   "source": [
    "df.info()"
   ]
  },
  {
   "cell_type": "code",
   "execution_count": 132,
   "id": "f12e9b47-3acf-43f9-bf35-0b5fa7fcb5c2",
   "metadata": {
    "tags": []
   },
   "outputs": [],
   "source": [
    "df['polarity.label'] = df['polarity.label'].replace([0,1,-1],[0,1,2])"
   ]
  },
  {
   "cell_type": "code",
   "execution_count": 133,
   "id": "a85448a1-18e9-44a9-82d0-2ccf1f74738f",
   "metadata": {
    "tags": []
   },
   "outputs": [
    {
     "data": {
      "text/html": [
       "<div>\n",
       "<style scoped>\n",
       "    .dataframe tbody tr th:only-of-type {\n",
       "        vertical-align: middle;\n",
       "    }\n",
       "\n",
       "    .dataframe tbody tr th {\n",
       "        vertical-align: top;\n",
       "    }\n",
       "\n",
       "    .dataframe thead th {\n",
       "        text-align: right;\n",
       "    }\n",
       "</style>\n",
       "<table border=\"1\" class=\"dataframe\">\n",
       "  <thead>\n",
       "    <tr style=\"text-align: right;\">\n",
       "      <th></th>\n",
       "      <th>date</th>\n",
       "      <th>category</th>\n",
       "      <th>section</th>\n",
       "      <th>publisher</th>\n",
       "      <th>author</th>\n",
       "      <th>title</th>\n",
       "      <th>content_url</th>\n",
       "      <th>attachment</th>\n",
       "      <th>industry.label</th>\n",
       "      <th>industry.score</th>\n",
       "      <th>industry.name</th>\n",
       "      <th>polarity.label</th>\n",
       "      <th>polarity.score</th>\n",
       "      <th>polarity.name</th>\n",
       "      <th>corp</th>\n",
       "      <th>tokenized</th>\n",
       "      <th>del_stopword</th>\n",
       "    </tr>\n",
       "  </thead>\n",
       "  <tbody>\n",
       "    <tr>\n",
       "      <th>4</th>\n",
       "      <td>2018-12-05</td>\n",
       "      <td>news</td>\n",
       "      <td>tech</td>\n",
       "      <td>조선일보</td>\n",
       "      <td>최인준</td>\n",
       "      <td>간암·뇌전증·치매… 한국 신약 10여종 美 상륙한다</td>\n",
       "      <td>NaN</td>\n",
       "      <td>NaN</td>\n",
       "      <td>NaN</td>\n",
       "      <td>NaN</td>\n",
       "      <td>NaN</td>\n",
       "      <td>2.0</td>\n",
       "      <td>NaN</td>\n",
       "      <td>NaN</td>\n",
       "      <td>DeepSearch-CMG제약-news-2018-01-01-2018-12-31-20...</td>\n",
       "      <td>[간암, ·, 뇌전증, ·, 치매, …, 한국, 신약, 10, 여종, 美, 상륙, 한다]</td>\n",
       "      <td>[간암, ·, 뇌전증, ·, 치매, …, 한국, 신약, 10, 여종, 美, 상륙, 한다]</td>\n",
       "    </tr>\n",
       "    <tr>\n",
       "      <th>5</th>\n",
       "      <td>2018-11-28</td>\n",
       "      <td>news</td>\n",
       "      <td>economy</td>\n",
       "      <td>이데일리</td>\n",
       "      <td>박일경</td>\n",
       "      <td>[재송]27일 장 마감 후 주요 종목뉴스</td>\n",
       "      <td>NaN</td>\n",
       "      <td>NaN</td>\n",
       "      <td>C20</td>\n",
       "      <td>0.875</td>\n",
       "      <td>화학 물질 및 화학제품 제조업; 의약품 제외</td>\n",
       "      <td>2.0</td>\n",
       "      <td>NaN</td>\n",
       "      <td>NaN</td>\n",
       "      <td>DeepSearch-CMG제약-news-2018-01-01-2018-12-31-20...</td>\n",
       "      <td>[[, 재송, ], 27, 일, 장, 마감, 후, 주요, 종목, 뉴스]</td>\n",
       "      <td>[[, 재송, ], 27, 일, 장, 마감, 후, 주요, 종목, 뉴스]</td>\n",
       "    </tr>\n",
       "  </tbody>\n",
       "</table>\n",
       "</div>"
      ],
      "text/plain": [
       "         date category  section publisher author  \\\n",
       "4  2018-12-05     news     tech      조선일보    최인준   \n",
       "5  2018-11-28     news  economy      이데일리    박일경   \n",
       "\n",
       "                          title  content_url  attachment industry.label  \\\n",
       "4  간암·뇌전증·치매… 한국 신약 10여종 美 상륙한다          NaN         NaN            NaN   \n",
       "5        [재송]27일 장 마감 후 주요 종목뉴스          NaN         NaN            C20   \n",
       "\n",
       "   industry.score             industry.name  polarity.label  polarity.score  \\\n",
       "4             NaN                       NaN             2.0             NaN   \n",
       "5           0.875  화학 물질 및 화학제품 제조업; 의약품 제외             2.0             NaN   \n",
       "\n",
       "  polarity.name                                               corp  \\\n",
       "4           NaN  DeepSearch-CMG제약-news-2018-01-01-2018-12-31-20...   \n",
       "5           NaN  DeepSearch-CMG제약-news-2018-01-01-2018-12-31-20...   \n",
       "\n",
       "                                           tokenized  \\\n",
       "4  [간암, ·, 뇌전증, ·, 치매, …, 한국, 신약, 10, 여종, 美, 상륙, 한다]   \n",
       "5            [[, 재송, ], 27, 일, 장, 마감, 후, 주요, 종목, 뉴스]   \n",
       "\n",
       "                                        del_stopword  \n",
       "4  [간암, ·, 뇌전증, ·, 치매, …, 한국, 신약, 10, 여종, 美, 상륙, 한다]  \n",
       "5            [[, 재송, ], 27, 일, 장, 마감, 후, 주요, 종목, 뉴스]  "
      ]
     },
     "execution_count": 133,
     "metadata": {},
     "output_type": "execute_result"
    }
   ],
   "source": [
    "df.head(2)"
   ]
  },
  {
   "cell_type": "code",
   "execution_count": 134,
   "id": "81282ee0-061d-442e-bac5-88d6c2d61cd8",
   "metadata": {
    "tags": []
   },
   "outputs": [],
   "source": [
    "df = df.iloc[:,[0,5,11,14]]"
   ]
  },
  {
   "cell_type": "code",
   "execution_count": 135,
   "id": "c455e31c-c0b9-43b2-b0b5-c310acf6df87",
   "metadata": {
    "tags": []
   },
   "outputs": [
    {
     "data": {
      "text/html": [
       "<div>\n",
       "<style scoped>\n",
       "    .dataframe tbody tr th:only-of-type {\n",
       "        vertical-align: middle;\n",
       "    }\n",
       "\n",
       "    .dataframe tbody tr th {\n",
       "        vertical-align: top;\n",
       "    }\n",
       "\n",
       "    .dataframe thead th {\n",
       "        text-align: right;\n",
       "    }\n",
       "</style>\n",
       "<table border=\"1\" class=\"dataframe\">\n",
       "  <thead>\n",
       "    <tr style=\"text-align: right;\">\n",
       "      <th></th>\n",
       "      <th>date</th>\n",
       "      <th>title</th>\n",
       "      <th>polarity.label</th>\n",
       "      <th>corp</th>\n",
       "    </tr>\n",
       "  </thead>\n",
       "  <tbody>\n",
       "    <tr>\n",
       "      <th>4</th>\n",
       "      <td>2018-12-05</td>\n",
       "      <td>간암·뇌전증·치매… 한국 신약 10여종 美 상륙한다</td>\n",
       "      <td>2.0</td>\n",
       "      <td>DeepSearch-CMG제약-news-2018-01-01-2018-12-31-20...</td>\n",
       "    </tr>\n",
       "    <tr>\n",
       "      <th>5</th>\n",
       "      <td>2018-11-28</td>\n",
       "      <td>[재송]27일 장 마감 후 주요 종목뉴스</td>\n",
       "      <td>2.0</td>\n",
       "      <td>DeepSearch-CMG제약-news-2018-01-01-2018-12-31-20...</td>\n",
       "    </tr>\n",
       "  </tbody>\n",
       "</table>\n",
       "</div>"
      ],
      "text/plain": [
       "         date                         title  polarity.label  \\\n",
       "4  2018-12-05  간암·뇌전증·치매… 한국 신약 10여종 美 상륙한다             2.0   \n",
       "5  2018-11-28        [재송]27일 장 마감 후 주요 종목뉴스             2.0   \n",
       "\n",
       "                                                corp  \n",
       "4  DeepSearch-CMG제약-news-2018-01-01-2018-12-31-20...  \n",
       "5  DeepSearch-CMG제약-news-2018-01-01-2018-12-31-20...  "
      ]
     },
     "execution_count": 135,
     "metadata": {},
     "output_type": "execute_result"
    }
   ],
   "source": [
    "df.head(2)"
   ]
  },
  {
   "cell_type": "code",
   "execution_count": 136,
   "id": "5a8ed948-e684-4e1e-a0a6-1f8edeb81f18",
   "metadata": {
    "tags": []
   },
   "outputs": [],
   "source": [
    "df[\"date\"] = pd.to_datetime(df[\"date\"])"
   ]
  },
  {
   "cell_type": "code",
   "execution_count": 137,
   "id": "e739b61c-bcce-4380-ad32-c48aa41cd8c2",
   "metadata": {
    "tags": []
   },
   "outputs": [
    {
     "data": {
      "text/html": [
       "<div>\n",
       "<style scoped>\n",
       "    .dataframe tbody tr th:only-of-type {\n",
       "        vertical-align: middle;\n",
       "    }\n",
       "\n",
       "    .dataframe tbody tr th {\n",
       "        vertical-align: top;\n",
       "    }\n",
       "\n",
       "    .dataframe thead th {\n",
       "        text-align: right;\n",
       "    }\n",
       "</style>\n",
       "<table border=\"1\" class=\"dataframe\">\n",
       "  <thead>\n",
       "    <tr style=\"text-align: right;\">\n",
       "      <th></th>\n",
       "      <th>date</th>\n",
       "      <th>title</th>\n",
       "      <th>polarity.label</th>\n",
       "      <th>corp</th>\n",
       "    </tr>\n",
       "  </thead>\n",
       "  <tbody>\n",
       "    <tr>\n",
       "      <th>4</th>\n",
       "      <td>2018-12-05</td>\n",
       "      <td>간암·뇌전증·치매… 한국 신약 10여종 美 상륙한다</td>\n",
       "      <td>2.0</td>\n",
       "      <td>DeepSearch-CMG제약-news-2018-01-01-2018-12-31-20...</td>\n",
       "    </tr>\n",
       "    <tr>\n",
       "      <th>5</th>\n",
       "      <td>2018-11-28</td>\n",
       "      <td>[재송]27일 장 마감 후 주요 종목뉴스</td>\n",
       "      <td>2.0</td>\n",
       "      <td>DeepSearch-CMG제약-news-2018-01-01-2018-12-31-20...</td>\n",
       "    </tr>\n",
       "  </tbody>\n",
       "</table>\n",
       "</div>"
      ],
      "text/plain": [
       "        date                         title  polarity.label  \\\n",
       "4 2018-12-05  간암·뇌전증·치매… 한국 신약 10여종 美 상륙한다             2.0   \n",
       "5 2018-11-28        [재송]27일 장 마감 후 주요 종목뉴스             2.0   \n",
       "\n",
       "                                                corp  \n",
       "4  DeepSearch-CMG제약-news-2018-01-01-2018-12-31-20...  \n",
       "5  DeepSearch-CMG제약-news-2018-01-01-2018-12-31-20...  "
      ]
     },
     "execution_count": 137,
     "metadata": {},
     "output_type": "execute_result"
    }
   ],
   "source": [
    "df.head(2)"
   ]
  },
  {
   "cell_type": "code",
   "execution_count": 138,
   "id": "ee7fe9e1-6d5e-4a30-a4e4-2fd998973ec8",
   "metadata": {
    "tags": []
   },
   "outputs": [],
   "source": [
    "df = df.reset_index()"
   ]
  },
  {
   "cell_type": "code",
   "execution_count": 139,
   "id": "d159e5d3-3f3d-48d5-aea4-6a200c0d1c80",
   "metadata": {
    "tags": []
   },
   "outputs": [],
   "source": [
    "del df['index']"
   ]
  },
  {
   "cell_type": "code",
   "execution_count": 140,
   "id": "e6a36568-8e6c-4634-9acc-d4ea44cfb86d",
   "metadata": {
    "tags": []
   },
   "outputs": [
    {
     "data": {
      "text/plain": [
       "143830"
      ]
     },
     "execution_count": 140,
     "metadata": {},
     "output_type": "execute_result"
    }
   ],
   "source": [
    "len(df)"
   ]
  },
  {
   "cell_type": "code",
   "execution_count": 141,
   "id": "a06e2dfb-bc31-495a-ab57-b120bb2f90f7",
   "metadata": {
    "tags": []
   },
   "outputs": [],
   "source": [
    "corp =[]\n",
    "for txt in df['corp']:\n",
    "    name=txt.split(sep='-')[1]\n",
    "    corp.append(name)"
   ]
  },
  {
   "cell_type": "code",
   "execution_count": 142,
   "id": "405678bc-1eef-44b9-8038-40a430f3a040",
   "metadata": {
    "tags": []
   },
   "outputs": [],
   "source": [
    "df['name'] = corp"
   ]
  },
  {
   "cell_type": "code",
   "execution_count": 143,
   "id": "6be78808-b35e-440b-b00b-06b04a09267b",
   "metadata": {
    "tags": []
   },
   "outputs": [],
   "source": [
    "df['pos']=0\n",
    "df['neg']=0"
   ]
  },
  {
   "cell_type": "code",
   "execution_count": 144,
   "id": "876f8181-08ee-4ad5-88fc-6c0fceaf84ff",
   "metadata": {
    "tags": []
   },
   "outputs": [
    {
     "data": {
      "text/html": [
       "<div>\n",
       "<style scoped>\n",
       "    .dataframe tbody tr th:only-of-type {\n",
       "        vertical-align: middle;\n",
       "    }\n",
       "\n",
       "    .dataframe tbody tr th {\n",
       "        vertical-align: top;\n",
       "    }\n",
       "\n",
       "    .dataframe thead th {\n",
       "        text-align: right;\n",
       "    }\n",
       "</style>\n",
       "<table border=\"1\" class=\"dataframe\">\n",
       "  <thead>\n",
       "    <tr style=\"text-align: right;\">\n",
       "      <th></th>\n",
       "      <th>date</th>\n",
       "      <th>title</th>\n",
       "      <th>polarity.label</th>\n",
       "      <th>corp</th>\n",
       "      <th>name</th>\n",
       "      <th>pos</th>\n",
       "      <th>neg</th>\n",
       "    </tr>\n",
       "  </thead>\n",
       "  <tbody>\n",
       "    <tr>\n",
       "      <th>0</th>\n",
       "      <td>2018-12-05</td>\n",
       "      <td>간암·뇌전증·치매… 한국 신약 10여종 美 상륙한다</td>\n",
       "      <td>2.0</td>\n",
       "      <td>DeepSearch-CMG제약-news-2018-01-01-2018-12-31-20...</td>\n",
       "      <td>CMG제약</td>\n",
       "      <td>0</td>\n",
       "      <td>0</td>\n",
       "    </tr>\n",
       "    <tr>\n",
       "      <th>1</th>\n",
       "      <td>2018-11-28</td>\n",
       "      <td>[재송]27일 장 마감 후 주요 종목뉴스</td>\n",
       "      <td>2.0</td>\n",
       "      <td>DeepSearch-CMG제약-news-2018-01-01-2018-12-31-20...</td>\n",
       "      <td>CMG제약</td>\n",
       "      <td>0</td>\n",
       "      <td>0</td>\n",
       "    </tr>\n",
       "    <tr>\n",
       "      <th>3</th>\n",
       "      <td>2018-10-01</td>\n",
       "      <td>차병원·바이오그룹, 대졸 신입사원 공개채용</td>\n",
       "      <td>2.0</td>\n",
       "      <td>DeepSearch-CMG제약-news-2018-01-01-2018-12-31-20...</td>\n",
       "      <td>CMG제약</td>\n",
       "      <td>0</td>\n",
       "      <td>0</td>\n",
       "    </tr>\n",
       "    <tr>\n",
       "      <th>4</th>\n",
       "      <td>2018-09-18</td>\n",
       "      <td>[한경로보뉴스] 전일, 코스닥 외국인 순매도상위에 제약 업종 3종목</td>\n",
       "      <td>2.0</td>\n",
       "      <td>DeepSearch-CMG제약-news-2018-01-01-2018-12-31-20...</td>\n",
       "      <td>CMG제약</td>\n",
       "      <td>0</td>\n",
       "      <td>0</td>\n",
       "    </tr>\n",
       "    <tr>\n",
       "      <th>5</th>\n",
       "      <td>2018-09-05</td>\n",
       "      <td>[코스피·코스닥 전 거래일(4일) 주요 공시]</td>\n",
       "      <td>2.0</td>\n",
       "      <td>DeepSearch-CMG제약-news-2018-01-01-2018-12-31-20...</td>\n",
       "      <td>CMG제약</td>\n",
       "      <td>0</td>\n",
       "      <td>0</td>\n",
       "    </tr>\n",
       "  </tbody>\n",
       "</table>\n",
       "</div>"
      ],
      "text/plain": [
       "        date                                  title  polarity.label  \\\n",
       "0 2018-12-05           간암·뇌전증·치매… 한국 신약 10여종 美 상륙한다             2.0   \n",
       "1 2018-11-28                 [재송]27일 장 마감 후 주요 종목뉴스             2.0   \n",
       "3 2018-10-01                차병원·바이오그룹, 대졸 신입사원 공개채용             2.0   \n",
       "4 2018-09-18  [한경로보뉴스] 전일, 코스닥 외국인 순매도상위에 제약 업종 3종목             2.0   \n",
       "5 2018-09-05              [코스피·코스닥 전 거래일(4일) 주요 공시]             2.0   \n",
       "\n",
       "                                                corp   name  pos  neg  \n",
       "0  DeepSearch-CMG제약-news-2018-01-01-2018-12-31-20...  CMG제약    0    0  \n",
       "1  DeepSearch-CMG제약-news-2018-01-01-2018-12-31-20...  CMG제약    0    0  \n",
       "3  DeepSearch-CMG제약-news-2018-01-01-2018-12-31-20...  CMG제약    0    0  \n",
       "4  DeepSearch-CMG제약-news-2018-01-01-2018-12-31-20...  CMG제약    0    0  \n",
       "5  DeepSearch-CMG제약-news-2018-01-01-2018-12-31-20...  CMG제약    0    0  "
      ]
     },
     "execution_count": 144,
     "metadata": {},
     "output_type": "execute_result"
    }
   ],
   "source": [
    "df[df['polarity.label']!=0][:5]"
   ]
  },
  {
   "cell_type": "code",
   "execution_count": 145,
   "id": "f39d9291-856e-45ff-82a1-67839cef5dfd",
   "metadata": {
    "tags": []
   },
   "outputs": [],
   "source": [
    "for i,data in enumerate(df['polarity.label']):\n",
    "    if data==1:\n",
    "        df.iloc[i,5]=1\n",
    "    elif data==2:\n",
    "        df.iloc[i,6]=-1\n",
    "        # print(1)"
   ]
  },
  {
   "cell_type": "code",
   "execution_count": 146,
   "id": "abece068-26ce-40f7-bfff-9780543dbaa8",
   "metadata": {
    "tags": []
   },
   "outputs": [
    {
     "name": "stdout",
     "output_type": "stream",
     "text": [
      "<class 'pandas.core.frame.DataFrame'>\n",
      "RangeIndex: 143830 entries, 0 to 143829\n",
      "Data columns (total 7 columns):\n",
      " #   Column          Non-Null Count   Dtype         \n",
      "---  ------          --------------   -----         \n",
      " 0   date            143830 non-null  datetime64[ns]\n",
      " 1   title           143830 non-null  object        \n",
      " 2   polarity.label  143830 non-null  float64       \n",
      " 3   corp            143830 non-null  object        \n",
      " 4   name            143830 non-null  object        \n",
      " 5   pos             143830 non-null  int64         \n",
      " 6   neg             143830 non-null  int64         \n",
      "dtypes: datetime64[ns](1), float64(1), int64(2), object(3)\n",
      "memory usage: 7.7+ MB\n"
     ]
    }
   ],
   "source": [
    "df.info()"
   ]
  },
  {
   "cell_type": "markdown",
   "id": "5c5487e7-aee0-49f9-b41d-2c0f2259f9ff",
   "metadata": {},
   "source": [
    "# 연도별로/월별로"
   ]
  },
  {
   "cell_type": "code",
   "execution_count": 147,
   "id": "e1bcfbea-6a4e-4b95-924c-08828f81309b",
   "metadata": {
    "tags": []
   },
   "outputs": [],
   "source": [
    "import datetime as dt"
   ]
  },
  {
   "cell_type": "code",
   "execution_count": 148,
   "id": "468b28b3-27ac-4681-a3ab-dc9d4ebfd437",
   "metadata": {
    "tags": []
   },
   "outputs": [],
   "source": [
    "year =[]\n",
    "for dt in  df['date']:\n",
    "    y=dt.year\n",
    "    year.append(y)"
   ]
  },
  {
   "cell_type": "code",
   "execution_count": 149,
   "id": "417c3aef-af51-449f-b857-bde4f584d552",
   "metadata": {
    "tags": []
   },
   "outputs": [],
   "source": [
    "month=[]\n",
    "for dt in  df['date']:\n",
    "    m=dt.month\n",
    "    month.append(m)"
   ]
  },
  {
   "cell_type": "code",
   "execution_count": 150,
   "id": "38cd62ad-18d9-4ed8-bb12-53bab026d75d",
   "metadata": {
    "tags": []
   },
   "outputs": [],
   "source": [
    "df['year'] = year\n",
    "df['month'] = month"
   ]
  },
  {
   "cell_type": "code",
   "execution_count": 151,
   "id": "24af3a76-f961-44d6-bbe7-15d43e460c19",
   "metadata": {
    "tags": []
   },
   "outputs": [
    {
     "name": "stdout",
     "output_type": "stream",
     "text": [
      "<class 'pandas.core.frame.DataFrame'>\n",
      "RangeIndex: 143830 entries, 0 to 143829\n",
      "Data columns (total 9 columns):\n",
      " #   Column          Non-Null Count   Dtype         \n",
      "---  ------          --------------   -----         \n",
      " 0   date            143830 non-null  datetime64[ns]\n",
      " 1   title           143830 non-null  object        \n",
      " 2   polarity.label  143830 non-null  float64       \n",
      " 3   corp            143830 non-null  object        \n",
      " 4   name            143830 non-null  object        \n",
      " 5   pos             143830 non-null  int64         \n",
      " 6   neg             143830 non-null  int64         \n",
      " 7   year            143830 non-null  int64         \n",
      " 8   month           143830 non-null  int64         \n",
      "dtypes: datetime64[ns](1), float64(1), int64(4), object(3)\n",
      "memory usage: 9.9+ MB\n"
     ]
    }
   ],
   "source": [
    "df.info(2)"
   ]
  },
  {
   "cell_type": "code",
   "execution_count": 152,
   "id": "f89bf0ac-b230-4284-98ee-506a4338516e",
   "metadata": {
    "tags": []
   },
   "outputs": [],
   "source": [
    "df_2010 = df[df['year']==2010]\n",
    "df_2011 = df[df['year']==2011]\n",
    "df_2012 = df[df['year']==2012]\n",
    "df_2013 = df[df['year']==2013]\n",
    "df_2014 = df[df['year']==2014]\n",
    "df_2015 = df[df['year']==2015]\n",
    "df_2016 = df[df['year']==2016]\n",
    "df_2017 = df[df['year']==2017]\n",
    "df_2018 = df[df['year']==2018]"
   ]
  },
  {
   "cell_type": "code",
   "execution_count": 153,
   "id": "81d833b1-e372-476a-bf08-f981b038b961",
   "metadata": {
    "tags": []
   },
   "outputs": [],
   "source": [
    "# df_2010"
   ]
  },
  {
   "cell_type": "markdown",
   "id": "f9a14fcb-7190-4031-b7bf-3d87eff17be0",
   "metadata": {},
   "source": [
    "## 연간"
   ]
  },
  {
   "cell_type": "code",
   "execution_count": 154,
   "id": "4bfd70b6-71c3-4251-a8c9-0d3f2ab3af54",
   "metadata": {
    "tags": []
   },
   "outputs": [
    {
     "data": {
      "text/html": [
       "<div>\n",
       "<style scoped>\n",
       "    .dataframe tbody tr th:only-of-type {\n",
       "        vertical-align: middle;\n",
       "    }\n",
       "\n",
       "    .dataframe tbody tr th {\n",
       "        vertical-align: top;\n",
       "    }\n",
       "\n",
       "    .dataframe thead th {\n",
       "        text-align: right;\n",
       "    }\n",
       "</style>\n",
       "<table border=\"1\" class=\"dataframe\">\n",
       "  <thead>\n",
       "    <tr style=\"text-align: right;\">\n",
       "      <th></th>\n",
       "      <th>name</th>\n",
       "      <th>pos</th>\n",
       "      <th>neg</th>\n",
       "      <th>date</th>\n",
       "    </tr>\n",
       "  </thead>\n",
       "  <tbody>\n",
       "    <tr>\n",
       "      <th>0</th>\n",
       "      <td>HLB</td>\n",
       "      <td>0</td>\n",
       "      <td>-1</td>\n",
       "      <td>2010</td>\n",
       "    </tr>\n",
       "    <tr>\n",
       "      <th>1</th>\n",
       "      <td>경남제약</td>\n",
       "      <td>9</td>\n",
       "      <td>-48</td>\n",
       "      <td>2010</td>\n",
       "    </tr>\n",
       "  </tbody>\n",
       "</table>\n",
       "</div>"
      ],
      "text/plain": [
       "   name  pos  neg  date\n",
       "0   HLB    0   -1  2010\n",
       "1  경남제약    9  -48  2010"
      ]
     },
     "execution_count": 154,
     "metadata": {},
     "output_type": "execute_result"
    }
   ],
   "source": [
    "df_2010 = df_2010.iloc[:,[4,5,6]]\n",
    "df_2010 = df_2010.groupby('name').sum()\n",
    "df_2010['date'] = '2010'\n",
    "df_2010 = df_2010.reset_index()\n",
    "df_2010.head(2)"
   ]
  },
  {
   "cell_type": "code",
   "execution_count": 155,
   "id": "408b33e2-2db6-4f9b-a6d3-40afa7755eb8",
   "metadata": {
    "tags": []
   },
   "outputs": [],
   "source": [
    "df_2011 = df_2011.iloc[:,[4,5,6]]\n",
    "df_2011 = df_2011.groupby('name').sum()\n",
    "df_2011['date'] = '2011'\n",
    "df_2011 = df_2011.reset_index()\n",
    "\n",
    "# df_2010.head(2)"
   ]
  },
  {
   "cell_type": "code",
   "execution_count": 156,
   "id": "1cffe8df-12ab-4b4a-9d0e-daccbb1c416f",
   "metadata": {
    "tags": []
   },
   "outputs": [],
   "source": [
    "df_2012 = df_2012.iloc[:,[4,5,6]]\n",
    "df_2012 = df_2012.groupby('name').sum()\n",
    "df_2012['date'] = '2012'\n",
    "df_2012 = df_2012.reset_index()\n",
    "\n",
    "# df_2010.head(2)"
   ]
  },
  {
   "cell_type": "code",
   "execution_count": 157,
   "id": "788d202c-2466-426d-b506-d029f31afa76",
   "metadata": {
    "tags": []
   },
   "outputs": [],
   "source": [
    "df_2013 = df_2013.iloc[:,[4,5,6]]\n",
    "df_2013 = df_2013.groupby('name').sum()\n",
    "df_2013['date'] = '2013'\n",
    "df_2013 = df_2013.reset_index()\n",
    "\n",
    "# df_2010.head(2)"
   ]
  },
  {
   "cell_type": "code",
   "execution_count": 158,
   "id": "a2c883c8-5fa5-4d49-b75b-b8518391c95e",
   "metadata": {
    "tags": []
   },
   "outputs": [],
   "source": [
    "df_2014 = df_2014.iloc[:,[4,5,6]]\n",
    "df_2014 = df_2014.groupby('name').sum()\n",
    "df_2014['date'] = '2014'\n",
    "df_2014 = df_2014.reset_index()\n",
    "\n",
    "# df_2010.head(2)"
   ]
  },
  {
   "cell_type": "code",
   "execution_count": 159,
   "id": "e74edd6a-da13-454c-bdac-590c724be1af",
   "metadata": {
    "tags": []
   },
   "outputs": [],
   "source": [
    "df_2015 = df_2015.iloc[:,[4,5,6]]\n",
    "df_2015 = df_2015.groupby('name').sum()\n",
    "df_2015['date'] = '2015'\n",
    "df_2015 = df_2015.reset_index()\n",
    "\n",
    "# df_2010.head(2)"
   ]
  },
  {
   "cell_type": "code",
   "execution_count": 160,
   "id": "f39c5e88-6f55-44e4-857f-6bdc0739f784",
   "metadata": {
    "tags": []
   },
   "outputs": [],
   "source": [
    "df_2016 = df_2016.iloc[:,[4,5,6]]\n",
    "df_2016 = df_2016.groupby('name').sum()\n",
    "df_2016['date'] = '2016'\n",
    "df_2016 = df_2016.reset_index()\n",
    "\n",
    "# df_2010.head(2)"
   ]
  },
  {
   "cell_type": "code",
   "execution_count": 161,
   "id": "c84ace6e-761b-4a69-91ed-a7d48000db1a",
   "metadata": {
    "tags": []
   },
   "outputs": [],
   "source": [
    "df_2017 = df_2017.iloc[:,[4,5,6]]\n",
    "df_2017 = df_2017.groupby('name').sum()\n",
    "df_2017['date'] = '2017'\n",
    "df_2017 = df_2017.reset_index()\n",
    "\n",
    "# df_2010.head(2)"
   ]
  },
  {
   "cell_type": "code",
   "execution_count": 162,
   "id": "52a0da2f-3f12-4c17-ab5d-2c1ce9302cd5",
   "metadata": {
    "tags": []
   },
   "outputs": [],
   "source": [
    "df_2018 = df_2018.iloc[:,[4,5,6]]\n",
    "df_2018 = df_2018.groupby('name').sum()\n",
    "df_2018['date'] = '2018'\n",
    "df_2018 = df_2018.reset_index()\n",
    "\n",
    "# df_2010.head(2)"
   ]
  },
  {
   "cell_type": "code",
   "execution_count": 163,
   "id": "ba71844a-9a23-45f3-b108-f76426083d91",
   "metadata": {
    "tags": []
   },
   "outputs": [],
   "source": [
    "df_2010 = df_2010[['name','date','pos','neg']]\n",
    "df_2011 = df_2011[['name','date','pos','neg']]\n",
    "df_2012 = df_2012[['name','date','pos','neg']]\n",
    "df_2013 = df_2013[['name','date','pos','neg']]\n",
    "df_2014 = df_2014[['name','date','pos','neg']]\n",
    "df_2015 = df_2015[['name','date','pos','neg']]\n",
    "df_2016 = df_2016[['name','date','pos','neg']]\n",
    "df_2017 = df_2017[['name','date','pos','neg']]\n",
    "df_2018 = df_2018[['name','date','pos','neg']]\n"
   ]
  },
  {
   "cell_type": "code",
   "execution_count": 164,
   "id": "f80deea7-89c9-4787-9b32-faa367be25fb",
   "metadata": {
    "tags": []
   },
   "outputs": [],
   "source": [
    "# df_2010 = df_2010.groupby('name').sum()\n",
    "# df_2011 = df_2011.groupby('name').sum()\n",
    "# df_2012 = df_2012.groupby('name').sum()\n",
    "# df_2013 = df_2013.groupby('name').sum()\n",
    "# df_2014 = df_2014.groupby('name').sum()\n",
    "# df_2015 = df_2015.groupby('name').sum()\n",
    "# df_2016 = df_2016.groupby('name').sum()\n",
    "# df_2017 = df_2017.groupby('name').sum()\n",
    "# df_2018 = df_2018.groupby('name').sum()\n"
   ]
  },
  {
   "cell_type": "code",
   "execution_count": 165,
   "id": "39f62dea-1426-4e53-a6f7-2724364ebcef",
   "metadata": {
    "tags": []
   },
   "outputs": [],
   "source": [
    "df_year = pd.concat([df_2010,df_2011,df_2012,df_2013,df_2014,df_2015,df_2016,df_2017,df_2018])"
   ]
  },
  {
   "cell_type": "code",
   "execution_count": 166,
   "id": "5a8b505f-693c-486f-9c6e-a07a5797784b",
   "metadata": {
    "tags": []
   },
   "outputs": [
    {
     "data": {
      "text/html": [
       "<div>\n",
       "<style scoped>\n",
       "    .dataframe tbody tr th:only-of-type {\n",
       "        vertical-align: middle;\n",
       "    }\n",
       "\n",
       "    .dataframe tbody tr th {\n",
       "        vertical-align: top;\n",
       "    }\n",
       "\n",
       "    .dataframe thead th {\n",
       "        text-align: right;\n",
       "    }\n",
       "</style>\n",
       "<table border=\"1\" class=\"dataframe\">\n",
       "  <thead>\n",
       "    <tr style=\"text-align: right;\">\n",
       "      <th></th>\n",
       "      <th>name</th>\n",
       "      <th>date</th>\n",
       "      <th>pos</th>\n",
       "      <th>neg</th>\n",
       "    </tr>\n",
       "  </thead>\n",
       "  <tbody>\n",
       "    <tr>\n",
       "      <th>113</th>\n",
       "      <td>휴마시스</td>\n",
       "      <td>2018</td>\n",
       "      <td>18</td>\n",
       "      <td>-21</td>\n",
       "    </tr>\n",
       "    <tr>\n",
       "      <th>114</th>\n",
       "      <td>휴메딕스</td>\n",
       "      <td>2018</td>\n",
       "      <td>28</td>\n",
       "      <td>-38</td>\n",
       "    </tr>\n",
       "    <tr>\n",
       "      <th>115</th>\n",
       "      <td>휴비츠</td>\n",
       "      <td>2018</td>\n",
       "      <td>20</td>\n",
       "      <td>-26</td>\n",
       "    </tr>\n",
       "    <tr>\n",
       "      <th>116</th>\n",
       "      <td>휴온스</td>\n",
       "      <td>2018</td>\n",
       "      <td>153</td>\n",
       "      <td>-189</td>\n",
       "    </tr>\n",
       "    <tr>\n",
       "      <th>117</th>\n",
       "      <td>휴온스글로벌</td>\n",
       "      <td>2018</td>\n",
       "      <td>86</td>\n",
       "      <td>-46</td>\n",
       "    </tr>\n",
       "  </tbody>\n",
       "</table>\n",
       "</div>"
      ],
      "text/plain": [
       "       name  date  pos  neg\n",
       "113    휴마시스  2018   18  -21\n",
       "114    휴메딕스  2018   28  -38\n",
       "115     휴비츠  2018   20  -26\n",
       "116     휴온스  2018  153 -189\n",
       "117  휴온스글로벌  2018   86  -46"
      ]
     },
     "execution_count": 166,
     "metadata": {},
     "output_type": "execute_result"
    }
   ],
   "source": [
    "df_year.tail()"
   ]
  },
  {
   "cell_type": "code",
   "execution_count": 167,
   "id": "aef16673-1e5e-4880-be23-aeae7fc542da",
   "metadata": {
    "tags": []
   },
   "outputs": [],
   "source": [
    "df_year.to_csv('./news_연간(10-18).csv',index=False)"
   ]
  },
  {
   "cell_type": "markdown",
   "id": "1d44c134-ca87-40a7-b0c8-9dea82bc97bd",
   "metadata": {
    "tags": []
   },
   "source": [
    "## 월간"
   ]
  },
  {
   "cell_type": "code",
   "execution_count": 168,
   "id": "11fa7448-cead-47fc-85e0-9b1bf78f5fd3",
   "metadata": {
    "tags": []
   },
   "outputs": [],
   "source": [
    "df_2010 = df[df['year']==2010]\n",
    "df_2011 = df[df['year']==2011]\n",
    "df_2012 = df[df['year']==2012]\n",
    "df_2013 = df[df['year']==2013]\n",
    "df_2014 = df[df['year']==2014]\n",
    "df_2015 = df[df['year']==2015]\n",
    "df_2016 = df[df['year']==2016]\n",
    "df_2017 = df[df['year']==2017]\n",
    "df_2018 = df[df['year']==2018]"
   ]
  },
  {
   "cell_type": "code",
   "execution_count": 169,
   "id": "33042f74-31d5-4e37-b210-05bfabe693d7",
   "metadata": {
    "tags": []
   },
   "outputs": [],
   "source": [
    "dflist_10=[]\n",
    "for i in range(1,13):\n",
    "    df_i = df_2010[df_2010['month']==i]\n",
    "    dflist_10.append(df_i)"
   ]
  },
  {
   "cell_type": "code",
   "execution_count": 170,
   "id": "9736b179-901d-4eb7-8ab6-6c1ef4b5c06f",
   "metadata": {
    "tags": []
   },
   "outputs": [],
   "source": [
    "# dflist_10[0]"
   ]
  },
  {
   "cell_type": "code",
   "execution_count": 171,
   "id": "0b0798bd-f3e2-4caa-8881-4f90725b79d8",
   "metadata": {
    "tags": []
   },
   "outputs": [],
   "source": [
    "dflist_10_1 = []\n",
    "for df in dflist_10:\n",
    "    tmp=df.groupby('name').sum()\n",
    "    dflist_10_1.append(tmp)"
   ]
  },
  {
   "cell_type": "code",
   "execution_count": 172,
   "id": "102a93a6-ad0f-4eb7-9a5c-4dc387830199",
   "metadata": {
    "tags": []
   },
   "outputs": [
    {
     "data": {
      "text/html": [
       "<div>\n",
       "<style scoped>\n",
       "    .dataframe tbody tr th:only-of-type {\n",
       "        vertical-align: middle;\n",
       "    }\n",
       "\n",
       "    .dataframe tbody tr th {\n",
       "        vertical-align: top;\n",
       "    }\n",
       "\n",
       "    .dataframe thead th {\n",
       "        text-align: right;\n",
       "    }\n",
       "</style>\n",
       "<table border=\"1\" class=\"dataframe\">\n",
       "  <thead>\n",
       "    <tr style=\"text-align: right;\">\n",
       "      <th></th>\n",
       "      <th>polarity.label</th>\n",
       "      <th>pos</th>\n",
       "      <th>neg</th>\n",
       "      <th>year</th>\n",
       "      <th>month</th>\n",
       "    </tr>\n",
       "    <tr>\n",
       "      <th>name</th>\n",
       "      <th></th>\n",
       "      <th></th>\n",
       "      <th></th>\n",
       "      <th></th>\n",
       "      <th></th>\n",
       "    </tr>\n",
       "  </thead>\n",
       "  <tbody>\n",
       "    <tr>\n",
       "      <th>경남제약</th>\n",
       "      <td>22.0</td>\n",
       "      <td>2</td>\n",
       "      <td>-10</td>\n",
       "      <td>32160</td>\n",
       "      <td>32</td>\n",
       "    </tr>\n",
       "    <tr>\n",
       "      <th>경동제약</th>\n",
       "      <td>26.0</td>\n",
       "      <td>8</td>\n",
       "      <td>-9</td>\n",
       "      <td>38190</td>\n",
       "      <td>38</td>\n",
       "    </tr>\n",
       "    <tr>\n",
       "      <th>광동제약</th>\n",
       "      <td>30.0</td>\n",
       "      <td>4</td>\n",
       "      <td>-13</td>\n",
       "      <td>46230</td>\n",
       "      <td>46</td>\n",
       "    </tr>\n",
       "    <tr>\n",
       "      <th>국제약품</th>\n",
       "      <td>4.0</td>\n",
       "      <td>0</td>\n",
       "      <td>-2</td>\n",
       "      <td>4020</td>\n",
       "      <td>4</td>\n",
       "    </tr>\n",
       "    <tr>\n",
       "      <th>녹십자</th>\n",
       "      <td>72.0</td>\n",
       "      <td>10</td>\n",
       "      <td>-31</td>\n",
       "      <td>104520</td>\n",
       "      <td>104</td>\n",
       "    </tr>\n",
       "  </tbody>\n",
       "</table>\n",
       "</div>"
      ],
      "text/plain": [
       "      polarity.label  pos  neg    year  month\n",
       "name                                         \n",
       "경남제약            22.0    2  -10   32160     32\n",
       "경동제약            26.0    8   -9   38190     38\n",
       "광동제약            30.0    4  -13   46230     46\n",
       "국제약품             4.0    0   -2    4020      4\n",
       "녹십자             72.0   10  -31  104520    104"
      ]
     },
     "execution_count": 172,
     "metadata": {},
     "output_type": "execute_result"
    }
   ],
   "source": [
    "dflist_10_1[1].head()"
   ]
  },
  {
   "cell_type": "code",
   "execution_count": 173,
   "id": "66e43013-3599-4984-adc8-12e4765d2143",
   "metadata": {
    "tags": []
   },
   "outputs": [],
   "source": [
    "dflist_11=[]\n",
    "for i in range(1,13):\n",
    "    df_i = df_2011[df_2011['month']==i]\n",
    "    dflist_11.append(df_i)"
   ]
  },
  {
   "cell_type": "code",
   "execution_count": 174,
   "id": "093cd4df-e770-448f-93cb-b6529ee70aa4",
   "metadata": {
    "tags": []
   },
   "outputs": [],
   "source": [
    "# dflist_11[1]"
   ]
  },
  {
   "cell_type": "code",
   "execution_count": 175,
   "id": "d5e286ee-f820-4eb5-b7a6-ae41833a04be",
   "metadata": {
    "tags": []
   },
   "outputs": [],
   "source": [
    "dflist_11_1 = []\n",
    "for df in dflist_11:\n",
    "    tmp=df.groupby('name').sum()\n",
    "    dflist_11_1.append(tmp)"
   ]
  },
  {
   "cell_type": "code",
   "execution_count": 176,
   "id": "ce817ae6-b724-4c30-8295-c1322cbe9c76",
   "metadata": {
    "tags": []
   },
   "outputs": [],
   "source": [
    "dflist_12=[]\n",
    "for i in range(1,13):\n",
    "    df_i = df_2012[df_2012['month']==i]\n",
    "    dflist_12.append(df_i)"
   ]
  },
  {
   "cell_type": "code",
   "execution_count": 177,
   "id": "3b59d8e4-547b-49a7-87e2-771bea36e94f",
   "metadata": {
    "tags": []
   },
   "outputs": [],
   "source": [
    "dflist_12_1 = []\n",
    "for df in dflist_12:\n",
    "    tmp=df.groupby('name').sum()\n",
    "    dflist_12_1.append(tmp)"
   ]
  },
  {
   "cell_type": "code",
   "execution_count": 178,
   "id": "f8bf2d21-fd50-49eb-90bd-a88f78ad3670",
   "metadata": {
    "tags": []
   },
   "outputs": [],
   "source": [
    "dflist_13=[]\n",
    "for i in range(1,13):\n",
    "    df_i = df_2013[df_2013['month']==i]\n",
    "    dflist_13.append(df_i)"
   ]
  },
  {
   "cell_type": "code",
   "execution_count": 179,
   "id": "dd756744-3af7-4e81-bba3-5fefa1627727",
   "metadata": {
    "tags": []
   },
   "outputs": [],
   "source": [
    "dflist_13_1 = []\n",
    "for df in dflist_13:\n",
    "    tmp=df.groupby('name').sum()\n",
    "    dflist_13_1.append(tmp)"
   ]
  },
  {
   "cell_type": "code",
   "execution_count": 180,
   "id": "f08868fc-ac1d-4926-a943-90f75ac8046f",
   "metadata": {
    "tags": []
   },
   "outputs": [],
   "source": [
    "dflist_14=[]\n",
    "for i in range(1,13):\n",
    "    df_i = df_2014[df_2014['month']==i]\n",
    "    dflist_14.append(df_i)"
   ]
  },
  {
   "cell_type": "code",
   "execution_count": 181,
   "id": "e1946c8e-1f53-4441-a642-3dfa579fe346",
   "metadata": {
    "tags": []
   },
   "outputs": [],
   "source": [
    "dflist_14_1 = []\n",
    "for df in dflist_14:\n",
    "    tmp=df.groupby('name').sum()\n",
    "    dflist_14_1.append(tmp)"
   ]
  },
  {
   "cell_type": "code",
   "execution_count": 182,
   "id": "49aa4370-92f4-405c-9bca-0829e60442cc",
   "metadata": {
    "tags": []
   },
   "outputs": [],
   "source": [
    "dflist_15=[]\n",
    "for i in range(1,13):\n",
    "    df_i = df_2015[df_2015['month']==i]\n",
    "    dflist_15.append(df_i)"
   ]
  },
  {
   "cell_type": "code",
   "execution_count": 183,
   "id": "5341d41a-5df7-4f8a-99ba-e220f49b0fb7",
   "metadata": {
    "tags": []
   },
   "outputs": [],
   "source": [
    "dflist_15_1 = []\n",
    "for df in dflist_15:\n",
    "    tmp=df.groupby('name').sum()\n",
    "    dflist_15_1.append(tmp)"
   ]
  },
  {
   "cell_type": "code",
   "execution_count": 184,
   "id": "ff5504d3-0e5e-4ce7-84ec-7bfb068b3dc9",
   "metadata": {
    "tags": []
   },
   "outputs": [],
   "source": [
    "dflist_16=[]\n",
    "for i in range(1,13):\n",
    "    df_i = df_2016[df_2016['month']==i]\n",
    "    dflist_16.append(df_i)"
   ]
  },
  {
   "cell_type": "code",
   "execution_count": 185,
   "id": "b574fc25-8055-4318-9cb3-ecabf7825b88",
   "metadata": {
    "tags": []
   },
   "outputs": [],
   "source": [
    "dflist_16_1 = []\n",
    "for df in dflist_16:\n",
    "    tmp=df.groupby('name').sum()\n",
    "    dflist_16_1.append(tmp)"
   ]
  },
  {
   "cell_type": "code",
   "execution_count": 186,
   "id": "07d52ae7-886d-46a4-a538-981e51844b80",
   "metadata": {
    "tags": []
   },
   "outputs": [],
   "source": [
    "dflist_17=[]\n",
    "for i in range(1,13):\n",
    "    df_i = df_2017[df_2017['month']==i]\n",
    "    dflist_17.append(df_i)"
   ]
  },
  {
   "cell_type": "code",
   "execution_count": 187,
   "id": "40980289-0649-4a1d-a542-690fcbabc240",
   "metadata": {
    "tags": []
   },
   "outputs": [],
   "source": [
    "dflist_17_1 = []\n",
    "for df in dflist_17:\n",
    "    tmp=df.groupby('name').sum()\n",
    "    dflist_17_1.append(tmp)"
   ]
  },
  {
   "cell_type": "code",
   "execution_count": 188,
   "id": "ed2a8d4b-e477-4ad2-9191-43158d1433bd",
   "metadata": {
    "tags": []
   },
   "outputs": [],
   "source": [
    "dflist_18=[]\n",
    "for i in range(1,13):\n",
    "    df_i = df_2018[df_2018['month']==i]\n",
    "    dflist_18.append(df_i)"
   ]
  },
  {
   "cell_type": "code",
   "execution_count": 189,
   "id": "c4457937-8307-4b57-9472-b55ce84ddd7c",
   "metadata": {
    "tags": []
   },
   "outputs": [],
   "source": [
    "dflist_18_1 = []\n",
    "for df in dflist_18:\n",
    "    tmp=df.groupby('name').sum()\n",
    "    dflist_18_1.append(tmp)"
   ]
  },
  {
   "cell_type": "code",
   "execution_count": 190,
   "id": "9a8ab945-6964-4717-bb67-3375b9d53e23",
   "metadata": {
    "tags": []
   },
   "outputs": [
    {
     "data": {
      "text/html": [
       "<div>\n",
       "<style scoped>\n",
       "    .dataframe tbody tr th:only-of-type {\n",
       "        vertical-align: middle;\n",
       "    }\n",
       "\n",
       "    .dataframe tbody tr th {\n",
       "        vertical-align: top;\n",
       "    }\n",
       "\n",
       "    .dataframe thead th {\n",
       "        text-align: right;\n",
       "    }\n",
       "</style>\n",
       "<table border=\"1\" class=\"dataframe\">\n",
       "  <thead>\n",
       "    <tr style=\"text-align: right;\">\n",
       "      <th></th>\n",
       "      <th>polarity.label</th>\n",
       "      <th>pos</th>\n",
       "      <th>neg</th>\n",
       "      <th>year</th>\n",
       "      <th>month</th>\n",
       "    </tr>\n",
       "    <tr>\n",
       "      <th>name</th>\n",
       "      <th></th>\n",
       "      <th></th>\n",
       "      <th></th>\n",
       "      <th></th>\n",
       "      <th></th>\n",
       "    </tr>\n",
       "  </thead>\n",
       "  <tbody>\n",
       "    <tr>\n",
       "      <th>CMG제약</th>\n",
       "      <td>6.0</td>\n",
       "      <td>2</td>\n",
       "      <td>-2</td>\n",
       "      <td>12108</td>\n",
       "      <td>12</td>\n",
       "    </tr>\n",
       "    <tr>\n",
       "      <th>JW생명과학</th>\n",
       "      <td>18.0</td>\n",
       "      <td>4</td>\n",
       "      <td>-7</td>\n",
       "      <td>38342</td>\n",
       "      <td>38</td>\n",
       "    </tr>\n",
       "    <tr>\n",
       "      <th>JW신약</th>\n",
       "      <td>5.0</td>\n",
       "      <td>1</td>\n",
       "      <td>-2</td>\n",
       "      <td>6054</td>\n",
       "      <td>6</td>\n",
       "    </tr>\n",
       "    <tr>\n",
       "      <th>JW중외제약</th>\n",
       "      <td>17.0</td>\n",
       "      <td>5</td>\n",
       "      <td>-6</td>\n",
       "      <td>32288</td>\n",
       "      <td>32</td>\n",
       "    </tr>\n",
       "    <tr>\n",
       "      <th>강스템바이오텍</th>\n",
       "      <td>12.0</td>\n",
       "      <td>2</td>\n",
       "      <td>-5</td>\n",
       "      <td>18162</td>\n",
       "      <td>18</td>\n",
       "    </tr>\n",
       "  </tbody>\n",
       "</table>\n",
       "</div>"
      ],
      "text/plain": [
       "         polarity.label  pos  neg   year  month\n",
       "name                                           \n",
       "CMG제약               6.0    2   -2  12108     12\n",
       "JW생명과학             18.0    4   -7  38342     38\n",
       "JW신약                5.0    1   -2   6054      6\n",
       "JW중외제약             17.0    5   -6  32288     32\n",
       "강스템바이오텍            12.0    2   -5  18162     18"
      ]
     },
     "execution_count": 190,
     "metadata": {},
     "output_type": "execute_result"
    }
   ],
   "source": [
    "dflist_18_1[1].head()"
   ]
  },
  {
   "cell_type": "markdown",
   "id": "8f4d4f08-ce7d-418f-8ffa-59384b0053df",
   "metadata": {},
   "source": [
    "# 예쁘게"
   ]
  },
  {
   "cell_type": "code",
   "execution_count": 191,
   "id": "cc61debb-a0be-4ec7-bf56-a7f081d2d962",
   "metadata": {
    "tags": []
   },
   "outputs": [],
   "source": [
    "dflist_10_2=[]\n",
    "for i,df in enumerate(dflist_10_1):\n",
    "    df_i = df.iloc[:,[1,2]]\n",
    "    df_i = df_i.reset_index()\n",
    "    df_i['date'] = f'2010-{i+1}'\n",
    "    df_i = df_i[['name','date','pos','neg']]\n",
    "    dflist_10_2.append(df_i)"
   ]
  },
  {
   "cell_type": "code",
   "execution_count": 192,
   "id": "fff3f562-4193-4853-b943-7868e93e58c6",
   "metadata": {
    "tags": []
   },
   "outputs": [
    {
     "data": {
      "text/html": [
       "<div>\n",
       "<style scoped>\n",
       "    .dataframe tbody tr th:only-of-type {\n",
       "        vertical-align: middle;\n",
       "    }\n",
       "\n",
       "    .dataframe tbody tr th {\n",
       "        vertical-align: top;\n",
       "    }\n",
       "\n",
       "    .dataframe thead th {\n",
       "        text-align: right;\n",
       "    }\n",
       "</style>\n",
       "<table border=\"1\" class=\"dataframe\">\n",
       "  <thead>\n",
       "    <tr style=\"text-align: right;\">\n",
       "      <th></th>\n",
       "      <th>name</th>\n",
       "      <th>date</th>\n",
       "      <th>pos</th>\n",
       "      <th>neg</th>\n",
       "    </tr>\n",
       "  </thead>\n",
       "  <tbody>\n",
       "    <tr>\n",
       "      <th>0</th>\n",
       "      <td>경남제약</td>\n",
       "      <td>2010-2</td>\n",
       "      <td>2</td>\n",
       "      <td>-10</td>\n",
       "    </tr>\n",
       "    <tr>\n",
       "      <th>1</th>\n",
       "      <td>경동제약</td>\n",
       "      <td>2010-2</td>\n",
       "      <td>8</td>\n",
       "      <td>-9</td>\n",
       "    </tr>\n",
       "  </tbody>\n",
       "</table>\n",
       "</div>"
      ],
      "text/plain": [
       "   name    date  pos  neg\n",
       "0  경남제약  2010-2    2  -10\n",
       "1  경동제약  2010-2    8   -9"
      ]
     },
     "execution_count": 192,
     "metadata": {},
     "output_type": "execute_result"
    }
   ],
   "source": [
    "dflist_10_2[1].head(2)"
   ]
  },
  {
   "cell_type": "code",
   "execution_count": 193,
   "id": "19bfbf74-a61a-4f79-94a4-106e50c1f646",
   "metadata": {
    "tags": []
   },
   "outputs": [],
   "source": [
    "dflist_11_2=[]\n",
    "for i,df in enumerate(dflist_11_1):\n",
    "    df_i = df.iloc[:,[1,2]]\n",
    "    df_i = df_i.reset_index()\n",
    "    df_i['date'] = f'2011-{i+1}'\n",
    "    df_i = df_i[['name','date','pos','neg']]\n",
    "    dflist_11_2.append(df_i)"
   ]
  },
  {
   "cell_type": "code",
   "execution_count": 194,
   "id": "cf9b446f-dba5-4c59-a250-87e55102af36",
   "metadata": {
    "tags": []
   },
   "outputs": [],
   "source": [
    "dflist_12_2=[]\n",
    "for i,df in enumerate(dflist_12_1):\n",
    "    df_i = df.iloc[:,[1,2]]\n",
    "    df_i = df_i.reset_index()\n",
    "    df_i['date'] = f'2012-{i+1}'\n",
    "    df_i = df_i[['name','date','pos','neg']]\n",
    "    dflist_12_2.append(df_i)"
   ]
  },
  {
   "cell_type": "code",
   "execution_count": 195,
   "id": "84629fa7-e2be-476e-9a92-9ae3886f4bc8",
   "metadata": {
    "tags": []
   },
   "outputs": [],
   "source": [
    "dflist_13_2=[]\n",
    "for i,df in enumerate(dflist_13_1):\n",
    "    df_i = df.iloc[:,[1,2]]\n",
    "    df_i = df_i.reset_index()\n",
    "    df_i['date'] = f'2013-{i+1}'\n",
    "    df_i = df_i[['name','date','pos','neg']]\n",
    "    dflist_13_2.append(df_i)"
   ]
  },
  {
   "cell_type": "code",
   "execution_count": 196,
   "id": "65bc011e-4f7b-4433-9b2f-078b3bd99192",
   "metadata": {
    "tags": []
   },
   "outputs": [],
   "source": [
    "dflist_14_2=[]\n",
    "for i,df in enumerate(dflist_14_1):\n",
    "    df_i = df.iloc[:,[1,2]]\n",
    "    df_i = df_i.reset_index()\n",
    "    df_i['date'] = f'2014-{i+1}'\n",
    "    df_i = df_i[['name','date','pos','neg']]\n",
    "    dflist_14_2.append(df_i)"
   ]
  },
  {
   "cell_type": "code",
   "execution_count": 197,
   "id": "290fdcd4-0f85-4571-a648-cc4a12732a53",
   "metadata": {
    "tags": []
   },
   "outputs": [],
   "source": [
    "dflist_15_2=[]\n",
    "for i,df in enumerate(dflist_15_1):\n",
    "    df_i = df.iloc[:,[1,2]]\n",
    "    df_i = df_i.reset_index()\n",
    "    df_i['date'] = f'2015-{i+1}'\n",
    "    df_i = df_i[['name','date','pos','neg']]\n",
    "    dflist_15_2.append(df_i)"
   ]
  },
  {
   "cell_type": "code",
   "execution_count": 198,
   "id": "ed71134e-098e-4edb-959b-d355b43b1d24",
   "metadata": {
    "tags": []
   },
   "outputs": [],
   "source": [
    "dflist_16_2=[]\n",
    "for i,df in enumerate(dflist_16_1):\n",
    "    df_i = df.iloc[:,[1,2]]\n",
    "    df_i = df_i.reset_index()\n",
    "    df_i['date'] = f'2016-{i+1}'\n",
    "    df_i = df_i[['name','date','pos','neg']]\n",
    "    dflist_16_2.append(df_i)"
   ]
  },
  {
   "cell_type": "code",
   "execution_count": 199,
   "id": "68edd5e9-d7d3-4416-841c-d2dad788c782",
   "metadata": {
    "tags": []
   },
   "outputs": [],
   "source": [
    "dflist_17_2=[]\n",
    "for i,df in enumerate(dflist_17_1):\n",
    "    df_i = df.iloc[:,[1,2]]\n",
    "    df_i = df_i.reset_index()\n",
    "    df_i['date'] = f'2017-{i+1}'\n",
    "    df_i = df_i[['name','date','pos','neg']]\n",
    "    dflist_17_2.append(df_i)"
   ]
  },
  {
   "cell_type": "code",
   "execution_count": 200,
   "id": "91bd4f1f-d94d-47bf-9c30-816f7d0f6009",
   "metadata": {
    "tags": []
   },
   "outputs": [],
   "source": [
    "dflist_18_2=[]\n",
    "for i,df in enumerate(dflist_18_1):\n",
    "    df_i = df.iloc[:,[1,2]]\n",
    "    df_i = df_i.reset_index()\n",
    "    df_i['date'] = f'2018-{i+1}'\n",
    "    df_i = df_i[['name','date','pos','neg']]\n",
    "    dflist_18_2.append(df_i)"
   ]
  },
  {
   "cell_type": "code",
   "execution_count": 201,
   "id": "9c231eb1-2aa7-4daf-80cc-031db095c639",
   "metadata": {
    "tags": []
   },
   "outputs": [],
   "source": [
    "# dflist_18_2[5]"
   ]
  },
  {
   "cell_type": "code",
   "execution_count": 202,
   "id": "8ade7f1d-3f6e-47e1-8a60-e2089a9b4f3c",
   "metadata": {
    "tags": []
   },
   "outputs": [],
   "source": [
    "# dflist_18_2[0]"
   ]
  },
  {
   "cell_type": "markdown",
   "id": "7b1b2f8a-3998-4b5b-b0c8-747b5e21397d",
   "metadata": {},
   "source": [
    "# 합치기"
   ]
  },
  {
   "cell_type": "code",
   "execution_count": 203,
   "id": "2f6f7c08-06bb-4fbd-9eef-7971f64779a2",
   "metadata": {
    "tags": []
   },
   "outputs": [],
   "source": [
    "ticker = pd.read_csv('../데이터/최종기업ticker.csv', names = ['name','ticker'])\n",
    "ticker =ticker.dropna()"
   ]
  },
  {
   "cell_type": "code",
   "execution_count": 204,
   "id": "b1a276da-0254-4da5-95b8-9674a7b40854",
   "metadata": {
    "tags": []
   },
   "outputs": [
    {
     "data": {
      "text/html": [
       "<div>\n",
       "<style scoped>\n",
       "    .dataframe tbody tr th:only-of-type {\n",
       "        vertical-align: middle;\n",
       "    }\n",
       "\n",
       "    .dataframe tbody tr th {\n",
       "        vertical-align: top;\n",
       "    }\n",
       "\n",
       "    .dataframe thead th {\n",
       "        text-align: right;\n",
       "    }\n",
       "</style>\n",
       "<table border=\"1\" class=\"dataframe\">\n",
       "  <thead>\n",
       "    <tr style=\"text-align: right;\">\n",
       "      <th></th>\n",
       "      <th>name</th>\n",
       "      <th>ticker</th>\n",
       "    </tr>\n",
       "  </thead>\n",
       "  <tbody>\n",
       "    <tr>\n",
       "      <th>1</th>\n",
       "      <td>CMG제약</td>\n",
       "      <td>058820</td>\n",
       "    </tr>\n",
       "    <tr>\n",
       "      <th>2</th>\n",
       "      <td>HLB</td>\n",
       "      <td>028300</td>\n",
       "    </tr>\n",
       "  </tbody>\n",
       "</table>\n",
       "</div>"
      ],
      "text/plain": [
       "    name  ticker\n",
       "1  CMG제약  058820\n",
       "2    HLB  028300"
      ]
     },
     "execution_count": 204,
     "metadata": {},
     "output_type": "execute_result"
    }
   ],
   "source": [
    "ticker.head(2)"
   ]
  },
  {
   "cell_type": "code",
   "execution_count": 205,
   "id": "6758cabf-f21c-4ad0-97da-0628b05398bf",
   "metadata": {
    "tags": []
   },
   "outputs": [
    {
     "data": {
      "text/plain": [
       "12"
      ]
     },
     "execution_count": 205,
     "metadata": {},
     "output_type": "execute_result"
    }
   ],
   "source": [
    "len(dflist_10_2)"
   ]
  },
  {
   "cell_type": "code",
   "execution_count": 206,
   "id": "b6174331-e112-4848-b014-12e96437aeb8",
   "metadata": {
    "tags": []
   },
   "outputs": [],
   "source": [
    "dflist_10_3 = []\n",
    "for i,df in enumerate(dflist_10_2):\n",
    "    merge_10 = pd.merge(ticker,df, how='left', left_on='name', right_on='name')\n",
    "    merge_10 = merge_10.drop('ticker', axis=1)\n",
    "    merge_10['date'] = f'2010-{i+1}'\n",
    "    dflist_10_3.append(merge_10)"
   ]
  },
  {
   "cell_type": "code",
   "execution_count": 207,
   "id": "4442cb52-b445-4e2a-80b9-820630c30504",
   "metadata": {
    "tags": []
   },
   "outputs": [
    {
     "data": {
      "text/html": [
       "<div>\n",
       "<style scoped>\n",
       "    .dataframe tbody tr th:only-of-type {\n",
       "        vertical-align: middle;\n",
       "    }\n",
       "\n",
       "    .dataframe tbody tr th {\n",
       "        vertical-align: top;\n",
       "    }\n",
       "\n",
       "    .dataframe thead th {\n",
       "        text-align: right;\n",
       "    }\n",
       "</style>\n",
       "<table border=\"1\" class=\"dataframe\">\n",
       "  <thead>\n",
       "    <tr style=\"text-align: right;\">\n",
       "      <th></th>\n",
       "      <th>name</th>\n",
       "      <th>date</th>\n",
       "      <th>pos</th>\n",
       "      <th>neg</th>\n",
       "    </tr>\n",
       "  </thead>\n",
       "  <tbody>\n",
       "    <tr>\n",
       "      <th>124</th>\n",
       "      <td>휴온스</td>\n",
       "      <td>2010-12</td>\n",
       "      <td>1.0</td>\n",
       "      <td>-5.0</td>\n",
       "    </tr>\n",
       "    <tr>\n",
       "      <th>125</th>\n",
       "      <td>휴온스글로벌</td>\n",
       "      <td>2010-12</td>\n",
       "      <td>NaN</td>\n",
       "      <td>NaN</td>\n",
       "    </tr>\n",
       "  </tbody>\n",
       "</table>\n",
       "</div>"
      ],
      "text/plain": [
       "       name     date  pos  neg\n",
       "124     휴온스  2010-12  1.0 -5.0\n",
       "125  휴온스글로벌  2010-12  NaN  NaN"
      ]
     },
     "execution_count": 207,
     "metadata": {},
     "output_type": "execute_result"
    }
   ],
   "source": [
    "dflist_10_3[11].tail(2)"
   ]
  },
  {
   "cell_type": "code",
   "execution_count": 208,
   "id": "c2f08ab5-684f-4b71-b33a-deaee3d565ae",
   "metadata": {
    "tags": []
   },
   "outputs": [],
   "source": [
    "dflist_10_3 = pd.concat(dflist_10_3)"
   ]
  },
  {
   "cell_type": "code",
   "execution_count": 209,
   "id": "565834c8-9be8-4ee2-b6af-fe115afa7cd8",
   "metadata": {
    "tags": []
   },
   "outputs": [
    {
     "data": {
      "text/html": [
       "<div>\n",
       "<style scoped>\n",
       "    .dataframe tbody tr th:only-of-type {\n",
       "        vertical-align: middle;\n",
       "    }\n",
       "\n",
       "    .dataframe tbody tr th {\n",
       "        vertical-align: top;\n",
       "    }\n",
       "\n",
       "    .dataframe thead th {\n",
       "        text-align: right;\n",
       "    }\n",
       "</style>\n",
       "<table border=\"1\" class=\"dataframe\">\n",
       "  <thead>\n",
       "    <tr style=\"text-align: right;\">\n",
       "      <th></th>\n",
       "      <th>name</th>\n",
       "      <th>date</th>\n",
       "      <th>pos</th>\n",
       "      <th>neg</th>\n",
       "    </tr>\n",
       "  </thead>\n",
       "  <tbody>\n",
       "    <tr>\n",
       "      <th>0</th>\n",
       "      <td>CMG제약</td>\n",
       "      <td>2010-1</td>\n",
       "      <td>NaN</td>\n",
       "      <td>NaN</td>\n",
       "    </tr>\n",
       "    <tr>\n",
       "      <th>1</th>\n",
       "      <td>HLB</td>\n",
       "      <td>2010-1</td>\n",
       "      <td>NaN</td>\n",
       "      <td>NaN</td>\n",
       "    </tr>\n",
       "  </tbody>\n",
       "</table>\n",
       "</div>"
      ],
      "text/plain": [
       "    name    date  pos  neg\n",
       "0  CMG제약  2010-1  NaN  NaN\n",
       "1    HLB  2010-1  NaN  NaN"
      ]
     },
     "execution_count": 209,
     "metadata": {},
     "output_type": "execute_result"
    }
   ],
   "source": [
    "dflist_10_3.head(2)"
   ]
  },
  {
   "cell_type": "code",
   "execution_count": 210,
   "id": "d7434564-a629-4eff-8992-d229db269c96",
   "metadata": {
    "tags": []
   },
   "outputs": [],
   "source": [
    "dflist_11_3 = []\n",
    "for df in dflist_11_2:\n",
    "    merge_11 = pd.merge(ticker,df, how='left', left_on='name', right_on='name')\n",
    "    merge_11 = merge_11.drop('ticker', axis=1)\n",
    "    merge_11['date'] = f'2011-{i+1}'\n",
    "\n",
    "    dflist_11_3.append(merge_11)"
   ]
  },
  {
   "cell_type": "code",
   "execution_count": 211,
   "id": "4d10990c-12df-4c95-a468-f8d83bae76df",
   "metadata": {
    "tags": []
   },
   "outputs": [],
   "source": [
    "dflist_11_3 = pd.concat(dflist_11_3)"
   ]
  },
  {
   "cell_type": "code",
   "execution_count": 212,
   "id": "edbee6db-6758-4356-bf82-320ebe631e52",
   "metadata": {
    "tags": []
   },
   "outputs": [],
   "source": [
    "dflist_12_3 = []\n",
    "for df in dflist_12_2:\n",
    "    merge_12 = pd.merge(ticker,df, how='left', left_on='name', right_on='name')\n",
    "    merge_12 = merge_12.drop('ticker', axis=1)\n",
    "    merge_12['date'] = f'2012-{i+1}'\n",
    "\n",
    "    dflist_12_3.append(merge_12)"
   ]
  },
  {
   "cell_type": "code",
   "execution_count": 213,
   "id": "449987f0-04d3-4a10-b0aa-0d5aeb6ed578",
   "metadata": {
    "tags": []
   },
   "outputs": [],
   "source": [
    "dflist_12_3 = pd.concat(dflist_12_3)"
   ]
  },
  {
   "cell_type": "code",
   "execution_count": 214,
   "id": "79a6e0c6-47d9-4ab7-821e-b9c2f354b078",
   "metadata": {
    "tags": []
   },
   "outputs": [],
   "source": [
    "dflist_13_3 = []\n",
    "for df in dflist_13_2:\n",
    "    merge_13 = pd.merge(ticker,df, how='left', left_on='name', right_on='name')\n",
    "    merge_13 = merge_13.drop('ticker', axis=1)\n",
    "    merge_13['date'] = f'2013-{i+1}'\n",
    "\n",
    "    dflist_13_3.append(merge_13)"
   ]
  },
  {
   "cell_type": "code",
   "execution_count": 215,
   "id": "d043ef04-a5b8-4075-8d20-c1b110918bb9",
   "metadata": {
    "tags": []
   },
   "outputs": [],
   "source": [
    "dflist_13_3 = pd.concat(dflist_13_3)"
   ]
  },
  {
   "cell_type": "code",
   "execution_count": 216,
   "id": "d2689214-7588-4cb4-b023-51b76ec091ed",
   "metadata": {
    "tags": []
   },
   "outputs": [],
   "source": [
    "dflist_14_3 = []\n",
    "for df in dflist_14_2:\n",
    "    merge_14 = pd.merge(ticker,df, how='left', left_on='name', right_on='name')\n",
    "    merge_14 = merge_14.drop('ticker', axis=1)\n",
    "    merge_14['date'] = f'2014-{i+1}'\n",
    "\n",
    "    dflist_14_3.append(merge_14)"
   ]
  },
  {
   "cell_type": "code",
   "execution_count": 217,
   "id": "6adf51fd-4e75-4a25-9c8f-6b40cff06c89",
   "metadata": {
    "tags": []
   },
   "outputs": [],
   "source": [
    "dflist_14_3 = pd.concat(dflist_14_3)"
   ]
  },
  {
   "cell_type": "code",
   "execution_count": 218,
   "id": "8945bbc6-f43e-47ce-843e-b13fd7587e42",
   "metadata": {
    "tags": []
   },
   "outputs": [],
   "source": [
    "dflist_15_3 = []\n",
    "for df in dflist_15_2:\n",
    "    merge_15 = pd.merge(ticker,df, how='left', left_on='name', right_on='name')\n",
    "    merge_15 = merge_15.drop('ticker', axis=1)\n",
    "    merge_15['date'] = f'2015-{i+1}'\n",
    "\n",
    "    dflist_15_3.append(merge_15)"
   ]
  },
  {
   "cell_type": "code",
   "execution_count": 219,
   "id": "11179c04-de40-41fa-bd3a-f28c78a1d8f3",
   "metadata": {
    "tags": []
   },
   "outputs": [],
   "source": [
    "dflist_15_3 = pd.concat(dflist_15_3)"
   ]
  },
  {
   "cell_type": "code",
   "execution_count": 220,
   "id": "0312cfc6-a6f9-4baa-a83f-3ad90997c741",
   "metadata": {
    "tags": []
   },
   "outputs": [],
   "source": [
    "dflist_16_3 = []\n",
    "for df in dflist_16_2:\n",
    "    merge_16 = pd.merge(ticker,df, how='left', left_on='name', right_on='name')\n",
    "    merge_16 = merge_16.drop('ticker', axis=1)\n",
    "    merge_16['date'] = f'2016-{i+1}'\n",
    "\n",
    "    dflist_16_3.append(merge_16)"
   ]
  },
  {
   "cell_type": "code",
   "execution_count": 221,
   "id": "3d3b82de-ed47-4ff1-a7e8-8d24169c6fa6",
   "metadata": {
    "tags": []
   },
   "outputs": [],
   "source": [
    "dflist_16_3 = pd.concat(dflist_16_3)"
   ]
  },
  {
   "cell_type": "code",
   "execution_count": 222,
   "id": "5d810cb2-0248-4a4d-b610-4b8490fbcf89",
   "metadata": {
    "tags": []
   },
   "outputs": [],
   "source": [
    "dflist_17_3 = []\n",
    "for df in dflist_17_2:\n",
    "    merge_17 = pd.merge(ticker,df, how='left', left_on='name', right_on='name')\n",
    "    merge_17 = merge_17.drop('ticker', axis=1)\n",
    "    merge_17['date'] = f'2017-{i+1}'\n",
    "\n",
    "    dflist_17_3.append(merge_17)"
   ]
  },
  {
   "cell_type": "code",
   "execution_count": 223,
   "id": "75fe1a4d-6ef6-4477-81ec-fe70f5f44fe5",
   "metadata": {
    "tags": []
   },
   "outputs": [],
   "source": [
    "dflist_17_3 = pd.concat(dflist_17_3)"
   ]
  },
  {
   "cell_type": "code",
   "execution_count": 224,
   "id": "e145b044-f3a5-44ed-95a8-3c841f552a90",
   "metadata": {
    "tags": []
   },
   "outputs": [],
   "source": [
    "dflist_18_3 = []\n",
    "for df in dflist_18_2:\n",
    "    merge_18 = pd.merge(ticker,df, how='left', left_on='name', right_on='name')\n",
    "    merge_18 = merge_18.drop('ticker', axis=1)\n",
    "    merge_18['date'] = f'2018-{i+1}'\n",
    "\n",
    "    dflist_18_3.append(merge_18)"
   ]
  },
  {
   "cell_type": "code",
   "execution_count": 225,
   "id": "306152d6-3aa2-4de6-a279-45932c866335",
   "metadata": {
    "tags": []
   },
   "outputs": [],
   "source": [
    "dflist_18_3 = pd.concat(dflist_18_3)"
   ]
  },
  {
   "cell_type": "code",
   "execution_count": 226,
   "id": "11a13103-c8c1-415e-aa15-61631872efbd",
   "metadata": {
    "tags": []
   },
   "outputs": [],
   "source": [
    "news =pd.DataFrame()"
   ]
  },
  {
   "cell_type": "code",
   "execution_count": 227,
   "id": "9c415f0e-ea09-45af-8b08-8d7425f915ea",
   "metadata": {
    "tags": []
   },
   "outputs": [],
   "source": [
    "news =news.append(dflist_10_3)\n",
    "news =news.append(dflist_11_3)\n",
    "news =news.append(dflist_12_3)\n",
    "news =news.append(dflist_13_3)\n",
    "news =news.append(dflist_14_3)\n",
    "news =news.append(dflist_15_3)\n",
    "news =news.append(dflist_16_3)\n",
    "news =news.append(dflist_17_3)\n",
    "news =news.append(dflist_18_3)"
   ]
  },
  {
   "cell_type": "code",
   "execution_count": 228,
   "id": "f5586067-4c15-4256-89fa-e41654a7d308",
   "metadata": {
    "tags": []
   },
   "outputs": [
    {
     "data": {
      "text/html": [
       "<div>\n",
       "<style scoped>\n",
       "    .dataframe tbody tr th:only-of-type {\n",
       "        vertical-align: middle;\n",
       "    }\n",
       "\n",
       "    .dataframe tbody tr th {\n",
       "        vertical-align: top;\n",
       "    }\n",
       "\n",
       "    .dataframe thead th {\n",
       "        text-align: right;\n",
       "    }\n",
       "</style>\n",
       "<table border=\"1\" class=\"dataframe\">\n",
       "  <thead>\n",
       "    <tr style=\"text-align: right;\">\n",
       "      <th></th>\n",
       "      <th>name</th>\n",
       "      <th>date</th>\n",
       "      <th>pos</th>\n",
       "      <th>neg</th>\n",
       "    </tr>\n",
       "  </thead>\n",
       "  <tbody>\n",
       "    <tr>\n",
       "      <th>0</th>\n",
       "      <td>CMG제약</td>\n",
       "      <td>2010-1</td>\n",
       "      <td>NaN</td>\n",
       "      <td>NaN</td>\n",
       "    </tr>\n",
       "    <tr>\n",
       "      <th>1</th>\n",
       "      <td>HLB</td>\n",
       "      <td>2010-1</td>\n",
       "      <td>NaN</td>\n",
       "      <td>NaN</td>\n",
       "    </tr>\n",
       "    <tr>\n",
       "      <th>2</th>\n",
       "      <td>HLB생명과학</td>\n",
       "      <td>2010-1</td>\n",
       "      <td>NaN</td>\n",
       "      <td>NaN</td>\n",
       "    </tr>\n",
       "    <tr>\n",
       "      <th>3</th>\n",
       "      <td>JW생명과학</td>\n",
       "      <td>2010-1</td>\n",
       "      <td>NaN</td>\n",
       "      <td>NaN</td>\n",
       "    </tr>\n",
       "    <tr>\n",
       "      <th>4</th>\n",
       "      <td>JW신약</td>\n",
       "      <td>2010-1</td>\n",
       "      <td>NaN</td>\n",
       "      <td>NaN</td>\n",
       "    </tr>\n",
       "    <tr>\n",
       "      <th>...</th>\n",
       "      <td>...</td>\n",
       "      <td>...</td>\n",
       "      <td>...</td>\n",
       "      <td>...</td>\n",
       "    </tr>\n",
       "    <tr>\n",
       "      <th>121</th>\n",
       "      <td>휴마시스</td>\n",
       "      <td>2010-1</td>\n",
       "      <td>NaN</td>\n",
       "      <td>NaN</td>\n",
       "    </tr>\n",
       "    <tr>\n",
       "      <th>122</th>\n",
       "      <td>휴메딕스</td>\n",
       "      <td>2010-1</td>\n",
       "      <td>NaN</td>\n",
       "      <td>NaN</td>\n",
       "    </tr>\n",
       "    <tr>\n",
       "      <th>123</th>\n",
       "      <td>휴비츠</td>\n",
       "      <td>2010-1</td>\n",
       "      <td>1.0</td>\n",
       "      <td>-1.0</td>\n",
       "    </tr>\n",
       "    <tr>\n",
       "      <th>124</th>\n",
       "      <td>휴온스</td>\n",
       "      <td>2010-1</td>\n",
       "      <td>6.0</td>\n",
       "      <td>0.0</td>\n",
       "    </tr>\n",
       "    <tr>\n",
       "      <th>125</th>\n",
       "      <td>휴온스글로벌</td>\n",
       "      <td>2010-1</td>\n",
       "      <td>NaN</td>\n",
       "      <td>NaN</td>\n",
       "    </tr>\n",
       "  </tbody>\n",
       "</table>\n",
       "<p>126 rows × 4 columns</p>\n",
       "</div>"
      ],
      "text/plain": [
       "        name    date  pos  neg\n",
       "0      CMG제약  2010-1  NaN  NaN\n",
       "1        HLB  2010-1  NaN  NaN\n",
       "2    HLB생명과학  2010-1  NaN  NaN\n",
       "3     JW생명과학  2010-1  NaN  NaN\n",
       "4       JW신약  2010-1  NaN  NaN\n",
       "..       ...     ...  ...  ...\n",
       "121     휴마시스  2010-1  NaN  NaN\n",
       "122     휴메딕스  2010-1  NaN  NaN\n",
       "123      휴비츠  2010-1  1.0 -1.0\n",
       "124      휴온스  2010-1  6.0  0.0\n",
       "125   휴온스글로벌  2010-1  NaN  NaN\n",
       "\n",
       "[126 rows x 4 columns]"
      ]
     },
     "execution_count": 228,
     "metadata": {},
     "output_type": "execute_result"
    }
   ],
   "source": [
    "news[news['date']=='2010-1']\n"
   ]
  },
  {
   "cell_type": "code",
   "execution_count": 229,
   "id": "287876cb-d9f9-4079-9bdd-c619a379662b",
   "metadata": {
    "tags": []
   },
   "outputs": [],
   "source": [
    "news.to_csv('./news_월간(10-18).csv',index=False)"
   ]
  }
 ],
 "metadata": {
  "kernelspec": {
   "display_name": "Python 3 (ipykernel)",
   "language": "python",
   "name": "python3"
  },
  "language_info": {
   "codemirror_mode": {
    "name": "ipython",
    "version": 3
   },
   "file_extension": ".py",
   "mimetype": "text/x-python",
   "name": "python",
   "nbconvert_exporter": "python",
   "pygments_lexer": "ipython3",
   "version": "3.8.8"
  }
 },
 "nbformat": 4,
 "nbformat_minor": 5
}
