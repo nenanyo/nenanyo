{
 "cells": [
  {
   "cell_type": "code",
   "execution_count": 1,
   "id": "97de221a-7e7e-4835-9807-38f35c4a04af",
   "metadata": {},
   "outputs": [],
   "source": [
    "# ! pip install mecab"
   ]
  },
  {
   "cell_type": "code",
   "execution_count": 2,
   "id": "da3ae14f-9e5c-44fc-8d85-eb5ebbfe3a7d",
   "metadata": {
    "id": "Qww_V4GzhgoS",
    "tags": []
   },
   "outputs": [],
   "source": [
    "import pandas as pd\n",
    "import numpy as np\n",
    "import matplotlib.pyplot as plt\n",
    "from sklearn.model_selection import train_test_split\n",
    "import re\n",
    "ㅊimport urllib.request\n",
    "import mecab\n",
    "from tqdm import tqdm\n",
    "from tensorflow.keras.preprocessing.text import Tokenizer\n",
    "from tensorflow.keras.preprocessing.sequence import pad_sequences\n",
    "import tensorflow as tf\n",
    "from tensorflow.keras.layers import Embedding, Dense, LSTM\n",
    "from tensorflow.keras.models import Sequential\n",
    "from tensorflow.keras.models import load_model\n",
    "from tensorflow.keras.utils import to_categorical\n",
    "from tensorflow.keras.callbacks import EarlyStopping, ModelCheckpoint\n",
    "import warnings\n",
    "warnings.filterwarnings(action='ignore')"
   ]
  },
  {
   "cell_type": "markdown",
   "id": "0da3e969-a157-4acf-bb9d-7afae96d7721",
   "metadata": {},
   "source": [
    "# 데이터 로드"
   ]
  },
  {
   "cell_type": "markdown",
   "id": "0af75382-a651-40e1-a0d0-a0bb26cb76f5",
   "metadata": {},
   "source": [
    "## 뉴스"
   ]
  },
  {
   "cell_type": "code",
   "execution_count": 3,
   "id": "5b8e3c8d-0c74-4dc7-8db1-35653c0ff196",
   "metadata": {},
   "outputs": [
    {
     "data": {
      "text/html": [
       "<div>\n",
       "<style scoped>\n",
       "    .dataframe tbody tr th:only-of-type {\n",
       "        vertical-align: middle;\n",
       "    }\n",
       "\n",
       "    .dataframe tbody tr th {\n",
       "        vertical-align: top;\n",
       "    }\n",
       "\n",
       "    .dataframe thead th {\n",
       "        text-align: right;\n",
       "    }\n",
       "</style>\n",
       "<table border=\"1\" class=\"dataframe\">\n",
       "  <thead>\n",
       "    <tr style=\"text-align: right;\">\n",
       "      <th></th>\n",
       "      <th>Unnamed: 0</th>\n",
       "      <th>ticker</th>\n",
       "    </tr>\n",
       "  </thead>\n",
       "  <tbody>\n",
       "    <tr>\n",
       "      <th>0</th>\n",
       "      <td>CMG제약</td>\n",
       "      <td>58820</td>\n",
       "    </tr>\n",
       "    <tr>\n",
       "      <th>1</th>\n",
       "      <td>HLB</td>\n",
       "      <td>28300</td>\n",
       "    </tr>\n",
       "    <tr>\n",
       "      <th>2</th>\n",
       "      <td>HLB생명과학</td>\n",
       "      <td>67630</td>\n",
       "    </tr>\n",
       "  </tbody>\n",
       "</table>\n",
       "</div>"
      ],
      "text/plain": [
       "  Unnamed: 0  ticker\n",
       "0      CMG제약   58820\n",
       "1        HLB   28300\n",
       "2    HLB생명과학   67630"
      ]
     },
     "execution_count": 3,
     "metadata": {},
     "output_type": "execute_result"
    }
   ],
   "source": [
    "ticker = pd.read_csv('../기업ticker.csv')\n",
    "ticker.head(3)"
   ]
  },
  {
   "cell_type": "code",
   "execution_count": 3,
   "id": "c1e05a10-b7d7-4c5e-8e90-93254d70642c",
   "metadata": {
    "id": "8b182744-e30f-4b13-a991-441e20ad9752",
    "tags": []
   },
   "outputs": [],
   "source": [
    "import os\n",
    "\n",
    "filelist = os.listdir('../데이터/기업별_뉴스/18-22')"
   ]
  },
  {
   "cell_type": "code",
   "execution_count": 4,
   "id": "9f4bcdf8-512d-4e99-846f-1fe430c30295",
   "metadata": {
    "tags": []
   },
   "outputs": [
    {
     "data": {
      "text/plain": [
       "['DeepSearch-CMG제약-news-2018-01-01-2018-12-31-20230601-191902.xlsx',\n",
       " 'DeepSearch-CMG제약-news-2019-01-01-2019-12-31-20230601-192349.xlsx',\n",
       " 'DeepSearch-CMG제약-news-2020-01-01-2020-12-31-20230601-192831.xlsx',\n",
       " 'DeepSearch-CMG제약-news-2021-01-01-2021-12-31-20230601-193311.xlsx',\n",
       " 'DeepSearch-CMG제약-news-2022-01-01-2022-12-31-20230601-193756.xlsx']"
      ]
     },
     "execution_count": 4,
     "metadata": {},
     "output_type": "execute_result"
    }
   ],
   "source": [
    "filelist[:5]"
   ]
  },
  {
   "cell_type": "code",
   "execution_count": 6,
   "id": "77b37e67-feb1-4be4-ba38-cede73365ef2",
   "metadata": {
    "tags": []
   },
   "outputs": [],
   "source": [
    "df_all = []\n",
    "for name in filelist:\n",
    "    df =pd.read_excel(f\"../데이터/기업별_뉴스/18-22/{name}\",sheet_name='#02 Documents',header=0)\n",
    "    df_all.append(df)"
   ]
  },
  {
   "cell_type": "code",
   "execution_count": 7,
   "id": "97610dfc-26a4-4339-8850-82cf8a35f924",
   "metadata": {
    "tags": []
   },
   "outputs": [
    {
     "data": {
      "text/html": [
       "<div>\n",
       "<style scoped>\n",
       "    .dataframe tbody tr th:only-of-type {\n",
       "        vertical-align: middle;\n",
       "    }\n",
       "\n",
       "    .dataframe tbody tr th {\n",
       "        vertical-align: top;\n",
       "    }\n",
       "\n",
       "    .dataframe thead th {\n",
       "        text-align: right;\n",
       "    }\n",
       "</style>\n",
       "<table border=\"1\" class=\"dataframe\">\n",
       "  <thead>\n",
       "    <tr style=\"text-align: right;\">\n",
       "      <th></th>\n",
       "      <th>date</th>\n",
       "      <th>category</th>\n",
       "      <th>section</th>\n",
       "      <th>publisher</th>\n",
       "      <th>author</th>\n",
       "      <th>title</th>\n",
       "      <th>content_url</th>\n",
       "      <th>attachment</th>\n",
       "      <th>industry.label</th>\n",
       "      <th>industry.score</th>\n",
       "      <th>industry.name</th>\n",
       "      <th>polarity.label</th>\n",
       "      <th>polarity.score</th>\n",
       "      <th>polarity.name</th>\n",
       "    </tr>\n",
       "  </thead>\n",
       "  <tbody>\n",
       "    <tr>\n",
       "      <th>98</th>\n",
       "      <td>2018-01-02</td>\n",
       "      <td>news</td>\n",
       "      <td>economy</td>\n",
       "      <td>파이낸셜뉴스</td>\n",
       "      <td>NaN</td>\n",
       "      <td>[fnRASSI]CMG제약 전일대비 9.13% 상승</td>\n",
       "      <td>NaN</td>\n",
       "      <td>NaN</td>\n",
       "      <td>100</td>\n",
       "      <td>0.982</td>\n",
       "      <td>분류 제외, 기타</td>\n",
       "      <td>1.0</td>\n",
       "      <td>0.993</td>\n",
       "      <td>긍정</td>\n",
       "    </tr>\n",
       "    <tr>\n",
       "      <th>99</th>\n",
       "      <td>2018-01-02</td>\n",
       "      <td>news</td>\n",
       "      <td>economy</td>\n",
       "      <td>서울경제</td>\n",
       "      <td>NaN</td>\n",
       "      <td>(코)CMG제약, 전일 대비 7.21% 상승.. 일일회전율은 4.61% 기록</td>\n",
       "      <td>NaN</td>\n",
       "      <td>NaN</td>\n",
       "      <td>C21</td>\n",
       "      <td>1.000</td>\n",
       "      <td>의료용 물질 및 의약품 제조업</td>\n",
       "      <td>1.0</td>\n",
       "      <td>0.995</td>\n",
       "      <td>긍정</td>\n",
       "    </tr>\n",
       "  </tbody>\n",
       "</table>\n",
       "</div>"
      ],
      "text/plain": [
       "          date category  section publisher author  \\\n",
       "98  2018-01-02     news  economy    파이낸셜뉴스    NaN   \n",
       "99  2018-01-02     news  economy      서울경제    NaN   \n",
       "\n",
       "                                         title  content_url  attachment  \\\n",
       "98                [fnRASSI]CMG제약 전일대비 9.13% 상승          NaN         NaN   \n",
       "99  (코)CMG제약, 전일 대비 7.21% 상승.. 일일회전율은 4.61% 기록          NaN         NaN   \n",
       "\n",
       "   industry.label  industry.score     industry.name  polarity.label  \\\n",
       "98            100           0.982         분류 제외, 기타             1.0   \n",
       "99            C21           1.000  의료용 물질 및 의약품 제조업             1.0   \n",
       "\n",
       "    polarity.score polarity.name  \n",
       "98           0.993            긍정  \n",
       "99           0.995            긍정  "
      ]
     },
     "execution_count": 7,
     "metadata": {},
     "output_type": "execute_result"
    }
   ],
   "source": [
    "df_all[0].tail(2)"
   ]
  },
  {
   "cell_type": "code",
   "execution_count": 8,
   "id": "a8f25c09-69bc-4a69-a689-a61660cf7d74",
   "metadata": {},
   "outputs": [],
   "source": [
    "# df_all[0][df_all[0]['polarity.name'].isna()]"
   ]
  },
  {
   "cell_type": "code",
   "execution_count": 8,
   "id": "418b85e2-bee1-440e-a2cf-652fe305f66e",
   "metadata": {
    "tags": []
   },
   "outputs": [],
   "source": [
    "label_X = []\n",
    "label_O = []\n",
    "for df in df_all:\n",
    "    tmp_X=df[df['polarity.name'].isna()]\n",
    "    tmp_O=df[df['polarity.name'].notna()]\n",
    "    label_X.append(tmp_X)\n",
    "    label_O.append(tmp_O)    "
   ]
  },
  {
   "cell_type": "code",
   "execution_count": 10,
   "id": "dba0854a-c60c-459e-8f07-b1489b8447c5",
   "metadata": {},
   "outputs": [],
   "source": [
    "# label_O[0]"
   ]
  },
  {
   "cell_type": "code",
   "execution_count": 9,
   "id": "1b28b698-146b-4ba4-8d44-7d2762638f9a",
   "metadata": {
    "tags": []
   },
   "outputs": [],
   "source": [
    "label_OO = pd.concat(label_O, axis=0)\n"
   ]
  },
  {
   "cell_type": "code",
   "execution_count": 10,
   "id": "3535b979-089c-4125-a26e-6494836c01c2",
   "metadata": {
    "tags": []
   },
   "outputs": [
    {
     "data": {
      "text/plain": [
       "41590"
      ]
     },
     "execution_count": 10,
     "metadata": {},
     "output_type": "execute_result"
    }
   ],
   "source": [
    "len(label_OO)"
   ]
  },
  {
   "cell_type": "code",
   "execution_count": 11,
   "id": "293ca797-8ee2-47dd-9729-98a489c894a0",
   "metadata": {
    "tags": []
   },
   "outputs": [
    {
     "data": {
      "text/html": [
       "<div>\n",
       "<style scoped>\n",
       "    .dataframe tbody tr th:only-of-type {\n",
       "        vertical-align: middle;\n",
       "    }\n",
       "\n",
       "    .dataframe tbody tr th {\n",
       "        vertical-align: top;\n",
       "    }\n",
       "\n",
       "    .dataframe thead th {\n",
       "        text-align: right;\n",
       "    }\n",
       "</style>\n",
       "<table border=\"1\" class=\"dataframe\">\n",
       "  <thead>\n",
       "    <tr style=\"text-align: right;\">\n",
       "      <th></th>\n",
       "      <th>date</th>\n",
       "      <th>category</th>\n",
       "      <th>section</th>\n",
       "      <th>publisher</th>\n",
       "      <th>author</th>\n",
       "      <th>title</th>\n",
       "      <th>content_url</th>\n",
       "      <th>attachment</th>\n",
       "      <th>industry.label</th>\n",
       "      <th>industry.score</th>\n",
       "      <th>industry.name</th>\n",
       "      <th>polarity.label</th>\n",
       "      <th>polarity.score</th>\n",
       "      <th>polarity.name</th>\n",
       "    </tr>\n",
       "  </thead>\n",
       "  <tbody>\n",
       "    <tr>\n",
       "      <th>0</th>\n",
       "      <td>2018-12-27</td>\n",
       "      <td>news</td>\n",
       "      <td>economy</td>\n",
       "      <td>전자신문</td>\n",
       "      <td>NaN</td>\n",
       "      <td>[ET투자뉴스]CMG제약_기관의 힘? 대량순매수 이후.. 현재 +3.05%</td>\n",
       "      <td>NaN</td>\n",
       "      <td>NaN</td>\n",
       "      <td>C21</td>\n",
       "      <td>1.00</td>\n",
       "      <td>의료용 물질 및 의약품 제조업</td>\n",
       "      <td>1.0</td>\n",
       "      <td>0.643</td>\n",
       "      <td>긍정</td>\n",
       "    </tr>\n",
       "    <tr>\n",
       "      <th>1</th>\n",
       "      <td>2018-12-24</td>\n",
       "      <td>news</td>\n",
       "      <td>economy</td>\n",
       "      <td>한국경제</td>\n",
       "      <td>NaN</td>\n",
       "      <td>[한경로보뉴스] '와이지엔터테인먼트' 52주 신고가 경신</td>\n",
       "      <td>NaN</td>\n",
       "      <td>NaN</td>\n",
       "      <td>C26</td>\n",
       "      <td>0.59</td>\n",
       "      <td>전자 부품, 컴퓨터, 영상, 음향 및 통신장비 제조업</td>\n",
       "      <td>1.0</td>\n",
       "      <td>0.667</td>\n",
       "      <td>긍정</td>\n",
       "    </tr>\n",
       "  </tbody>\n",
       "</table>\n",
       "</div>"
      ],
      "text/plain": [
       "         date category  section publisher author  \\\n",
       "0  2018-12-27     news  economy      전자신문    NaN   \n",
       "1  2018-12-24     news  economy      한국경제    NaN   \n",
       "\n",
       "                                       title  content_url  attachment  \\\n",
       "0  [ET투자뉴스]CMG제약_기관의 힘? 대량순매수 이후.. 현재 +3.05%          NaN         NaN   \n",
       "1            [한경로보뉴스] '와이지엔터테인먼트' 52주 신고가 경신          NaN         NaN   \n",
       "\n",
       "  industry.label  industry.score                  industry.name  \\\n",
       "0            C21            1.00               의료용 물질 및 의약품 제조업   \n",
       "1            C26            0.59  전자 부품, 컴퓨터, 영상, 음향 및 통신장비 제조업   \n",
       "\n",
       "   polarity.label  polarity.score polarity.name  \n",
       "0             1.0           0.643            긍정  \n",
       "1             1.0           0.667            긍정  "
      ]
     },
     "execution_count": 11,
     "metadata": {},
     "output_type": "execute_result"
    }
   ],
   "source": [
    "label_OO.head(2)"
   ]
  },
  {
   "cell_type": "code",
   "execution_count": 17,
   "id": "976d5d40-ec44-43f4-9d14-331d24287537",
   "metadata": {},
   "outputs": [],
   "source": [
    "# label_OO[10:20]"
   ]
  },
  {
   "cell_type": "code",
   "execution_count": 12,
   "id": "a3265db6-f3f5-4b42-84ec-1fa4fbf54b99",
   "metadata": {
    "colab": {
     "base_uri": "https://localhost:8080/",
     "height": 206
    },
    "id": "t9XJj_iziaYh",
    "outputId": "aa2122a8-b989-421c-cf02-e6b1e5ae6359",
    "tags": []
   },
   "outputs": [],
   "source": [
    "\n",
    "label_OO['polarity.label'] = label_OO['polarity.label'].replace([0, 1, -1],[0, 1, 2])\n",
    "# label_OO[10:20]"
   ]
  },
  {
   "cell_type": "code",
   "execution_count": 13,
   "id": "f6cbf7a0-a6c8-4a1a-8191-72aa6427374b",
   "metadata": {
    "tags": []
   },
   "outputs": [],
   "source": [
    "duplicate = label_OO[label_OO.duplicated()]\n",
    "# duplicate.head(2)"
   ]
  },
  {
   "cell_type": "code",
   "execution_count": 14,
   "id": "42b1daa6-2ab7-45e4-b7df-ef88cee46ea2",
   "metadata": {
    "tags": []
   },
   "outputs": [],
   "source": [
    "label_OO.drop_duplicates(subset=['title'], inplace=True)"
   ]
  },
  {
   "cell_type": "code",
   "execution_count": 15,
   "id": "2d1f067f-6775-4e5d-bb4c-6d66d32ea434",
   "metadata": {
    "tags": []
   },
   "outputs": [
    {
     "data": {
      "text/plain": [
       "36480"
      ]
     },
     "execution_count": 15,
     "metadata": {},
     "output_type": "execute_result"
    }
   ],
   "source": [
    "len(label_OO)"
   ]
  },
  {
   "cell_type": "code",
   "execution_count": 16,
   "id": "385c91ee-6aae-48de-9fb9-62ee046bf0fc",
   "metadata": {
    "id": "Qgna8GZ_k0AW",
    "tags": []
   },
   "outputs": [],
   "source": [
    "mecab = mecab.MeCab()"
   ]
  },
  {
   "cell_type": "code",
   "execution_count": 17,
   "id": "14fa5e88-3364-4697-be2b-f32c26455615",
   "metadata": {
    "id": "9dKO6hYzkwbF",
    "tags": []
   },
   "outputs": [],
   "source": [
    "label_OO['tokenized'] = label_OO['title'].apply(mecab.morphs)"
   ]
  },
  {
   "cell_type": "code",
   "execution_count": 18,
   "id": "71fcf627-5aa8-434e-baf5-264fec1b3e6f",
   "metadata": {
    "tags": []
   },
   "outputs": [
    {
     "data": {
      "text/html": [
       "<div>\n",
       "<style scoped>\n",
       "    .dataframe tbody tr th:only-of-type {\n",
       "        vertical-align: middle;\n",
       "    }\n",
       "\n",
       "    .dataframe tbody tr th {\n",
       "        vertical-align: top;\n",
       "    }\n",
       "\n",
       "    .dataframe thead th {\n",
       "        text-align: right;\n",
       "    }\n",
       "</style>\n",
       "<table border=\"1\" class=\"dataframe\">\n",
       "  <thead>\n",
       "    <tr style=\"text-align: right;\">\n",
       "      <th></th>\n",
       "      <th>date</th>\n",
       "      <th>category</th>\n",
       "      <th>section</th>\n",
       "      <th>publisher</th>\n",
       "      <th>author</th>\n",
       "      <th>title</th>\n",
       "      <th>content_url</th>\n",
       "      <th>attachment</th>\n",
       "      <th>industry.label</th>\n",
       "      <th>industry.score</th>\n",
       "      <th>industry.name</th>\n",
       "      <th>polarity.label</th>\n",
       "      <th>polarity.score</th>\n",
       "      <th>polarity.name</th>\n",
       "      <th>tokenized</th>\n",
       "    </tr>\n",
       "  </thead>\n",
       "  <tbody>\n",
       "    <tr>\n",
       "      <th>0</th>\n",
       "      <td>2018-12-27</td>\n",
       "      <td>news</td>\n",
       "      <td>economy</td>\n",
       "      <td>전자신문</td>\n",
       "      <td>NaN</td>\n",
       "      <td>[ET투자뉴스]CMG제약_기관의 힘? 대량순매수 이후.. 현재 +3.05%</td>\n",
       "      <td>NaN</td>\n",
       "      <td>NaN</td>\n",
       "      <td>C21</td>\n",
       "      <td>1.00</td>\n",
       "      <td>의료용 물질 및 의약품 제조업</td>\n",
       "      <td>1.0</td>\n",
       "      <td>0.643</td>\n",
       "      <td>긍정</td>\n",
       "      <td>[[, ET, 투자, 뉴스, ], CMG, 제약, _, 기관, 의, 힘, ?, 대량...</td>\n",
       "    </tr>\n",
       "    <tr>\n",
       "      <th>1</th>\n",
       "      <td>2018-12-24</td>\n",
       "      <td>news</td>\n",
       "      <td>economy</td>\n",
       "      <td>한국경제</td>\n",
       "      <td>NaN</td>\n",
       "      <td>[한경로보뉴스] '와이지엔터테인먼트' 52주 신고가 경신</td>\n",
       "      <td>NaN</td>\n",
       "      <td>NaN</td>\n",
       "      <td>C26</td>\n",
       "      <td>0.59</td>\n",
       "      <td>전자 부품, 컴퓨터, 영상, 음향 및 통신장비 제조업</td>\n",
       "      <td>1.0</td>\n",
       "      <td>0.667</td>\n",
       "      <td>긍정</td>\n",
       "      <td>[[, 한경, 로보, 뉴스, ], ', 와, 이지, 엔터, 테, 인, 먼, 트, '...</td>\n",
       "    </tr>\n",
       "  </tbody>\n",
       "</table>\n",
       "</div>"
      ],
      "text/plain": [
       "         date category  section publisher author  \\\n",
       "0  2018-12-27     news  economy      전자신문    NaN   \n",
       "1  2018-12-24     news  economy      한국경제    NaN   \n",
       "\n",
       "                                       title  content_url  attachment  \\\n",
       "0  [ET투자뉴스]CMG제약_기관의 힘? 대량순매수 이후.. 현재 +3.05%          NaN         NaN   \n",
       "1            [한경로보뉴스] '와이지엔터테인먼트' 52주 신고가 경신          NaN         NaN   \n",
       "\n",
       "  industry.label  industry.score                  industry.name  \\\n",
       "0            C21            1.00               의료용 물질 및 의약품 제조업   \n",
       "1            C26            0.59  전자 부품, 컴퓨터, 영상, 음향 및 통신장비 제조업   \n",
       "\n",
       "   polarity.label  polarity.score polarity.name  \\\n",
       "0             1.0           0.643            긍정   \n",
       "1             1.0           0.667            긍정   \n",
       "\n",
       "                                           tokenized  \n",
       "0  [[, ET, 투자, 뉴스, ], CMG, 제약, _, 기관, 의, 힘, ?, 대량...  \n",
       "1  [[, 한경, 로보, 뉴스, ], ', 와, 이지, 엔터, 테, 인, 먼, 트, '...  "
      ]
     },
     "execution_count": 18,
     "metadata": {},
     "output_type": "execute_result"
    }
   ],
   "source": [
    "label_OO.head(2)"
   ]
  },
  {
   "cell_type": "code",
   "execution_count": 29,
   "id": "1ae0c705-ffbd-425d-a4d2-3baaeea7be55",
   "metadata": {
    "tags": []
   },
   "outputs": [],
   "source": [
    "label_OO = label_OO.iloc[:,[5,11,14]]"
   ]
  },
  {
   "cell_type": "code",
   "execution_count": 31,
   "id": "2576712f-b62c-4428-9a90-14ee5a49bb1a",
   "metadata": {
    "tags": []
   },
   "outputs": [],
   "source": [
    "label_OO.columns = ['kor_sentence','labels','tokenized']"
   ]
  },
  {
   "cell_type": "code",
   "execution_count": 33,
   "id": "132f2b0b-168a-4ba7-b867-65833fe5f4a9",
   "metadata": {
    "tags": []
   },
   "outputs": [],
   "source": [
    "label_OO = label_OO[['labels','kor_sentence','tokenized']]"
   ]
  },
  {
   "cell_type": "code",
   "execution_count": 34,
   "id": "add2c4b9-9207-4f0a-9664-061953766efb",
   "metadata": {
    "tags": []
   },
   "outputs": [
    {
     "data": {
      "text/html": [
       "<div>\n",
       "<style scoped>\n",
       "    .dataframe tbody tr th:only-of-type {\n",
       "        vertical-align: middle;\n",
       "    }\n",
       "\n",
       "    .dataframe tbody tr th {\n",
       "        vertical-align: top;\n",
       "    }\n",
       "\n",
       "    .dataframe thead th {\n",
       "        text-align: right;\n",
       "    }\n",
       "</style>\n",
       "<table border=\"1\" class=\"dataframe\">\n",
       "  <thead>\n",
       "    <tr style=\"text-align: right;\">\n",
       "      <th></th>\n",
       "      <th>labels</th>\n",
       "      <th>kor_sentence</th>\n",
       "      <th>tokenized</th>\n",
       "    </tr>\n",
       "  </thead>\n",
       "  <tbody>\n",
       "    <tr>\n",
       "      <th>0</th>\n",
       "      <td>1.0</td>\n",
       "      <td>[ET투자뉴스]CMG제약_기관의 힘? 대량순매수 이후.. 현재 +3.05%</td>\n",
       "      <td>[[, ET, 투자, 뉴스, ], CMG, 제약, _, 기관, 의, 힘, ?, 대량...</td>\n",
       "    </tr>\n",
       "    <tr>\n",
       "      <th>1</th>\n",
       "      <td>1.0</td>\n",
       "      <td>[한경로보뉴스] '와이지엔터테인먼트' 52주 신고가 경신</td>\n",
       "      <td>[[, 한경, 로보, 뉴스, ], ', 와, 이지, 엔터, 테, 인, 먼, 트, '...</td>\n",
       "    </tr>\n",
       "    <tr>\n",
       "      <th>2</th>\n",
       "      <td>1.0</td>\n",
       "      <td>CMG제약(058820) 종목알파고 분석, 외국인/기관 실시간 수급과 추가 매수 확률은?</td>\n",
       "      <td>[CMG, 제약, (, 058820, ), 종목, 알파, 고, 분석, ,, 외국인,...</td>\n",
       "    </tr>\n",
       "    <tr>\n",
       "      <th>3</th>\n",
       "      <td>0.0</td>\n",
       "      <td>CMG제약, 전일 대비 약 -4% 하락한 4,515원</td>\n",
       "      <td>[CMG, 제약, ,, 전일, 대비, 약, -, 4, %, 하락, 한, 4, ,, ...</td>\n",
       "    </tr>\n",
       "    <tr>\n",
       "      <th>6</th>\n",
       "      <td>1.0</td>\n",
       "      <td>[Hot Stock] CMG제약</td>\n",
       "      <td>[[, Hot, Stock, ], CMG, 제약]</td>\n",
       "    </tr>\n",
       "  </tbody>\n",
       "</table>\n",
       "</div>"
      ],
      "text/plain": [
       "   labels                                       kor_sentence  \\\n",
       "0     1.0          [ET투자뉴스]CMG제약_기관의 힘? 대량순매수 이후.. 현재 +3.05%   \n",
       "1     1.0                    [한경로보뉴스] '와이지엔터테인먼트' 52주 신고가 경신   \n",
       "2     1.0  CMG제약(058820) 종목알파고 분석, 외국인/기관 실시간 수급과 추가 매수 확률은?   \n",
       "3     0.0                      CMG제약, 전일 대비 약 -4% 하락한 4,515원   \n",
       "6     1.0                                  [Hot Stock] CMG제약   \n",
       "\n",
       "                                           tokenized  \n",
       "0  [[, ET, 투자, 뉴스, ], CMG, 제약, _, 기관, 의, 힘, ?, 대량...  \n",
       "1  [[, 한경, 로보, 뉴스, ], ', 와, 이지, 엔터, 테, 인, 먼, 트, '...  \n",
       "2  [CMG, 제약, (, 058820, ), 종목, 알파, 고, 분석, ,, 외국인,...  \n",
       "3  [CMG, 제약, ,, 전일, 대비, 약, -, 4, %, 하락, 한, 4, ,, ...  \n",
       "6                        [[, Hot, Stock, ], CMG, 제약]  "
      ]
     },
     "execution_count": 34,
     "metadata": {},
     "output_type": "execute_result"
    }
   ],
   "source": [
    "label_OO.head()"
   ]
  },
  {
   "cell_type": "markdown",
   "id": "8d879015-e5d9-4675-940a-8247b6654014",
   "metadata": {},
   "source": [
    "## fin"
   ]
  },
  {
   "cell_type": "code",
   "execution_count": 19,
   "id": "db336ec0-ccb2-43b9-b530-cc900eb3ec86",
   "metadata": {
    "colab": {
     "base_uri": "https://localhost:8080/"
    },
    "id": "8wC6Rnt6iCxB",
    "outputId": "f489900c-6d72-4183-83a7-328a837273c2"
   },
   "outputs": [
    {
     "data": {
      "text/plain": [
       "('finance_data.csv', <http.client.HTTPMessage at 0x206f64c3580>)"
      ]
     },
     "execution_count": 19,
     "metadata": {},
     "output_type": "execute_result"
    }
   ],
   "source": [
    "urllib.request.urlretrieve(\"https://raw.githubusercontent.com/ukairia777/finance_sentiment_corpus/main/finance_data.csv\", filename=\"finance_data.csv\")"
   ]
  },
  {
   "cell_type": "code",
   "execution_count": 20,
   "id": "04ea885c-6e56-468b-8805-692df28ad471",
   "metadata": {
    "colab": {
     "base_uri": "https://localhost:8080/"
    },
    "id": "1aP870z3iRc_",
    "outputId": "aa6bad91-af8f-462d-c71c-cc3c68f960ae"
   },
   "outputs": [
    {
     "name": "stdout",
     "output_type": "stream",
     "text": [
      "총 샘플의 수 : 4846\n"
     ]
    }
   ],
   "source": [
    "data = pd.read_csv('finance_data.csv')\n",
    "print('총 샘플의 수 :',len(data))"
   ]
  },
  {
   "cell_type": "code",
   "execution_count": 21,
   "id": "64e2150a-9faf-453c-a183-811dd5404aec",
   "metadata": {
    "colab": {
     "base_uri": "https://localhost:8080/",
     "height": 206
    },
    "id": "t9XJj_iziaYh",
    "outputId": "aa2122a8-b989-421c-cf02-e6b1e5ae6359"
   },
   "outputs": [
    {
     "data": {
      "text/html": [
       "<div>\n",
       "<style scoped>\n",
       "    .dataframe tbody tr th:only-of-type {\n",
       "        vertical-align: middle;\n",
       "    }\n",
       "\n",
       "    .dataframe tbody tr th {\n",
       "        vertical-align: top;\n",
       "    }\n",
       "\n",
       "    .dataframe thead th {\n",
       "        text-align: right;\n",
       "    }\n",
       "</style>\n",
       "<table border=\"1\" class=\"dataframe\">\n",
       "  <thead>\n",
       "    <tr style=\"text-align: right;\">\n",
       "      <th></th>\n",
       "      <th>labels</th>\n",
       "      <th>sentence</th>\n",
       "      <th>kor_sentence</th>\n",
       "    </tr>\n",
       "  </thead>\n",
       "  <tbody>\n",
       "    <tr>\n",
       "      <th>0</th>\n",
       "      <td>0</td>\n",
       "      <td>According to Gran, the company has no plans to...</td>\n",
       "      <td>Gran에 따르면, 그 회사는 회사가 성장하고 있는 곳이지만, 모든 생산을 러시아로...</td>\n",
       "    </tr>\n",
       "    <tr>\n",
       "      <th>1</th>\n",
       "      <td>0</td>\n",
       "      <td>Technopolis plans to develop in stages an area...</td>\n",
       "      <td>테크노폴리스는 컴퓨터 기술과 통신 분야에서 일하는 회사들을 유치하기 위해 10만 평...</td>\n",
       "    </tr>\n",
       "    <tr>\n",
       "      <th>2</th>\n",
       "      <td>2</td>\n",
       "      <td>The international electronic industry company ...</td>\n",
       "      <td>국제 전자산업 회사인 엘코텍은 탈린 공장에서 수십 명의 직원을 해고했으며, 이전의 ...</td>\n",
       "    </tr>\n",
       "    <tr>\n",
       "      <th>3</th>\n",
       "      <td>1</td>\n",
       "      <td>With the new production plant the company woul...</td>\n",
       "      <td>새로운 생산공장으로 인해 회사는 예상되는 수요 증가를 충족시킬 수 있는 능력을 증가...</td>\n",
       "    </tr>\n",
       "    <tr>\n",
       "      <th>4</th>\n",
       "      <td>1</td>\n",
       "      <td>According to the company's updated strategy fo...</td>\n",
       "      <td>2009-2012년 회사의 업데이트된 전략에 따르면, Basware는 20% - 4...</td>\n",
       "    </tr>\n",
       "  </tbody>\n",
       "</table>\n",
       "</div>"
      ],
      "text/plain": [
       "   labels                                           sentence  \\\n",
       "0       0  According to Gran, the company has no plans to...   \n",
       "1       0  Technopolis plans to develop in stages an area...   \n",
       "2       2  The international electronic industry company ...   \n",
       "3       1  With the new production plant the company woul...   \n",
       "4       1  According to the company's updated strategy fo...   \n",
       "\n",
       "                                        kor_sentence  \n",
       "0  Gran에 따르면, 그 회사는 회사가 성장하고 있는 곳이지만, 모든 생산을 러시아로...  \n",
       "1  테크노폴리스는 컴퓨터 기술과 통신 분야에서 일하는 회사들을 유치하기 위해 10만 평...  \n",
       "2  국제 전자산업 회사인 엘코텍은 탈린 공장에서 수십 명의 직원을 해고했으며, 이전의 ...  \n",
       "3  새로운 생산공장으로 인해 회사는 예상되는 수요 증가를 충족시킬 수 있는 능력을 증가...  \n",
       "4  2009-2012년 회사의 업데이트된 전략에 따르면, Basware는 20% - 4...  "
      ]
     },
     "execution_count": 21,
     "metadata": {},
     "output_type": "execute_result"
    }
   ],
   "source": [
    "data['labels'] = data['labels'].replace(['neutral', 'positive', 'negative'],[0, 1, 2])\n",
    "data[:5]"
   ]
  },
  {
   "cell_type": "code",
   "execution_count": 22,
   "id": "4fec0ccd-7077-4629-aa87-8fd409c3211c",
   "metadata": {
    "id": "RNyrW0ynix3O"
   },
   "outputs": [],
   "source": [
    "del data['sentence']"
   ]
  },
  {
   "cell_type": "code",
   "execution_count": 23,
   "id": "5a685887-415b-49fc-9265-a00cf7a1fc0c",
   "metadata": {
    "colab": {
     "base_uri": "https://localhost:8080/"
    },
    "id": "b7EW631ui4OA",
    "outputId": "5e791c74-9646-449b-c8ea-e9697617f660"
   },
   "outputs": [
    {
     "name": "stdout",
     "output_type": "stream",
     "text": [
      "<class 'pandas.core.frame.DataFrame'>\n",
      "RangeIndex: 4846 entries, 0 to 4845\n",
      "Data columns (total 2 columns):\n",
      " #   Column        Non-Null Count  Dtype \n",
      "---  ------        --------------  ----- \n",
      " 0   labels        4846 non-null   int64 \n",
      " 1   kor_sentence  4846 non-null   object\n",
      "dtypes: int64(1), object(1)\n",
      "memory usage: 75.8+ KB\n"
     ]
    }
   ],
   "source": [
    "data.info()"
   ]
  },
  {
   "cell_type": "code",
   "execution_count": 24,
   "id": "7a6b953c-a78e-40cc-9ceb-33a07ecc8207",
   "metadata": {
    "id": "cks_QRBfjKBU"
   },
   "outputs": [],
   "source": [
    "duplicate = data[data.duplicated()]"
   ]
  },
  {
   "cell_type": "code",
   "execution_count": 25,
   "id": "b835852f-b9ba-4fee-9450-13de6f40d459",
   "metadata": {
    "colab": {
     "base_uri": "https://localhost:8080/"
    },
    "id": "prnB1Yg5jBt2",
    "outputId": "f127f897-42ee-4ea3-9bad-b02db8a1620d"
   },
   "outputs": [
    {
     "name": "stdout",
     "output_type": "stream",
     "text": [
      "총 샘플의 수 : 4827\n"
     ]
    }
   ],
   "source": [
    "# 중복 제거\n",
    "data.drop_duplicates(subset=['kor_sentence'], inplace=True)\n",
    "print('총 샘플의 수 :',len(data))"
   ]
  },
  {
   "cell_type": "code",
   "execution_count": 26,
   "id": "f7c2e18e-83c2-4943-9c6d-69efb6faeff0",
   "metadata": {
    "id": "9dKO6hYzkwbF"
   },
   "outputs": [],
   "source": [
    "data['tokenized'] = data['kor_sentence'].apply(mecab.morphs)"
   ]
  },
  {
   "cell_type": "code",
   "execution_count": 27,
   "id": "2460e922-661a-4bc3-a999-eb065fe08278",
   "metadata": {
    "tags": []
   },
   "outputs": [
    {
     "data": {
      "text/html": [
       "<div>\n",
       "<style scoped>\n",
       "    .dataframe tbody tr th:only-of-type {\n",
       "        vertical-align: middle;\n",
       "    }\n",
       "\n",
       "    .dataframe tbody tr th {\n",
       "        vertical-align: top;\n",
       "    }\n",
       "\n",
       "    .dataframe thead th {\n",
       "        text-align: right;\n",
       "    }\n",
       "</style>\n",
       "<table border=\"1\" class=\"dataframe\">\n",
       "  <thead>\n",
       "    <tr style=\"text-align: right;\">\n",
       "      <th></th>\n",
       "      <th>labels</th>\n",
       "      <th>kor_sentence</th>\n",
       "      <th>tokenized</th>\n",
       "    </tr>\n",
       "  </thead>\n",
       "  <tbody>\n",
       "    <tr>\n",
       "      <th>0</th>\n",
       "      <td>0</td>\n",
       "      <td>Gran에 따르면, 그 회사는 회사가 성장하고 있는 곳이지만, 모든 생산을 러시아로...</td>\n",
       "      <td>[Gran, 에, 따르, 면, ,, 그, 회사, 는, 회사, 가, 성장, 하, 고,...</td>\n",
       "    </tr>\n",
       "    <tr>\n",
       "      <th>1</th>\n",
       "      <td>0</td>\n",
       "      <td>테크노폴리스는 컴퓨터 기술과 통신 분야에서 일하는 회사들을 유치하기 위해 10만 평...</td>\n",
       "      <td>[테크노폴리스, 는, 컴퓨터, 기술, 과, 통신, 분야, 에서, 일, 하, 는, 회...</td>\n",
       "    </tr>\n",
       "    <tr>\n",
       "      <th>2</th>\n",
       "      <td>2</td>\n",
       "      <td>국제 전자산업 회사인 엘코텍은 탈린 공장에서 수십 명의 직원을 해고했으며, 이전의 ...</td>\n",
       "      <td>[국제, 전자, 산업, 회사, 인, 엘코, 텍, 은, 탈린, 공장, 에서, 수십, ...</td>\n",
       "    </tr>\n",
       "    <tr>\n",
       "      <th>3</th>\n",
       "      <td>1</td>\n",
       "      <td>새로운 생산공장으로 인해 회사는 예상되는 수요 증가를 충족시킬 수 있는 능력을 증가...</td>\n",
       "      <td>[새로운, 생산, 공장, 으로, 인해, 회사, 는, 예상, 되, 는, 수요, 증가,...</td>\n",
       "    </tr>\n",
       "    <tr>\n",
       "      <th>4</th>\n",
       "      <td>1</td>\n",
       "      <td>2009-2012년 회사의 업데이트된 전략에 따르면, Basware는 20% - 4...</td>\n",
       "      <td>[2009, -, 2012, 년, 회사, 의, 업데이트, 된, 전략, 에, 따르, ...</td>\n",
       "    </tr>\n",
       "  </tbody>\n",
       "</table>\n",
       "</div>"
      ],
      "text/plain": [
       "   labels                                       kor_sentence  \\\n",
       "0       0  Gran에 따르면, 그 회사는 회사가 성장하고 있는 곳이지만, 모든 생산을 러시아로...   \n",
       "1       0  테크노폴리스는 컴퓨터 기술과 통신 분야에서 일하는 회사들을 유치하기 위해 10만 평...   \n",
       "2       2  국제 전자산업 회사인 엘코텍은 탈린 공장에서 수십 명의 직원을 해고했으며, 이전의 ...   \n",
       "3       1  새로운 생산공장으로 인해 회사는 예상되는 수요 증가를 충족시킬 수 있는 능력을 증가...   \n",
       "4       1  2009-2012년 회사의 업데이트된 전략에 따르면, Basware는 20% - 4...   \n",
       "\n",
       "                                           tokenized  \n",
       "0  [Gran, 에, 따르, 면, ,, 그, 회사, 는, 회사, 가, 성장, 하, 고,...  \n",
       "1  [테크노폴리스, 는, 컴퓨터, 기술, 과, 통신, 분야, 에서, 일, 하, 는, 회...  \n",
       "2  [국제, 전자, 산업, 회사, 인, 엘코, 텍, 은, 탈린, 공장, 에서, 수십, ...  \n",
       "3  [새로운, 생산, 공장, 으로, 인해, 회사, 는, 예상, 되, 는, 수요, 증가,...  \n",
       "4  [2009, -, 2012, 년, 회사, 의, 업데이트, 된, 전략, 에, 따르, ...  "
      ]
     },
     "execution_count": 27,
     "metadata": {},
     "output_type": "execute_result"
    }
   ],
   "source": [
    "data.head()"
   ]
  },
  {
   "cell_type": "markdown",
   "id": "1a7bc682-e6d0-464d-9403-6a2d32d28805",
   "metadata": {},
   "source": [
    "## concat"
   ]
  },
  {
   "cell_type": "code",
   "execution_count": 36,
   "id": "86d78dc2-c060-44e5-8121-90b7dd4df56c",
   "metadata": {
    "tags": []
   },
   "outputs": [
    {
     "data": {
      "text/plain": [
       "41307"
      ]
     },
     "execution_count": 36,
     "metadata": {},
     "output_type": "execute_result"
    }
   ],
   "source": [
    "df = pd.concat([label_OO,data])\n",
    "len(df)"
   ]
  },
  {
   "cell_type": "code",
   "execution_count": 57,
   "id": "812f4968-01ae-4220-afe4-3a7d6e3eb754",
   "metadata": {
    "tags": []
   },
   "outputs": [],
   "source": [
    "df.to_csv('./lable18_22.csv', index = False)"
   ]
  },
  {
   "cell_type": "code",
   "execution_count": 38,
   "id": "0efdd9c4-478f-426a-8061-43674af806dc",
   "metadata": {
    "colab": {
     "base_uri": "https://localhost:8080/"
    },
    "id": "CfQdxYqMj3o8",
    "outputId": "eb91f345-466a-4e67-912f-2ada47d9f12a"
   },
   "outputs": [
    {
     "name": "stdout",
     "output_type": "stream",
     "text": [
      "중립의 비율 = 38.044%\n",
      "긍정의 비율 = 51.086%\n",
      "부정의 비율 = 10.87%\n"
     ]
    }
   ],
   "source": [
    "print(f'중립의 비율 = {round(df[\"labels\"].value_counts()[0]/len(df) * 100,3)}%')\n",
    "print(f'긍정의 비율 = {round(df[\"labels\"].value_counts()[1]/len(df) * 100,3)}%')\n",
    "print(f'부정의 비율 = {round(df[\"labels\"].value_counts()[2]/len(df) * 100,3)}%')"
   ]
  },
  {
   "cell_type": "markdown",
   "id": "4857154d-ae7c-434d-8283-c23c5398ad13",
   "metadata": {},
   "source": [
    "# 훈련 - 테스트"
   ]
  },
  {
   "cell_type": "code",
   "execution_count": 39,
   "id": "f5c9282d-e269-4eee-9b37-5b8c39bb3258",
   "metadata": {
    "colab": {
     "base_uri": "https://localhost:8080/"
    },
    "id": "l8foVC2rkJtF",
    "outputId": "cb15df09-e7eb-43b0-da0a-1b50c36eb31e"
   },
   "outputs": [
    {
     "name": "stdout",
     "output_type": "stream",
     "text": [
      "본문의 개수: 41307\n",
      "레이블의 개수: 41307\n"
     ]
    }
   ],
   "source": [
    "X = df['tokenized']\n",
    "y = df['labels']\n",
    "print('본문의 개수: {}'.format(len(X)))\n",
    "print('레이블의 개수: {}'.format(len(y)))"
   ]
  },
  {
   "cell_type": "code",
   "execution_count": 41,
   "id": "0e3cd189-694b-4de7-91f9-5748422c75cc",
   "metadata": {
    "id": "qmFecWmSkHiu"
   },
   "outputs": [],
   "source": [
    "X_train, X_test, y_train, y_test = train_test_split(X, y, test_size=0.2, random_state=0, stratify=y)"
   ]
  },
  {
   "cell_type": "markdown",
   "id": "61cb91b8-66a2-4de8-8f25-aa2c3350ee7f",
   "metadata": {},
   "source": [
    "# tokenize"
   ]
  },
  {
   "cell_type": "code",
   "execution_count": 42,
   "id": "b7d69e83-e3f0-47b8-a6a4-04829b54ae40",
   "metadata": {
    "colab": {
     "base_uri": "https://localhost:8080/"
    },
    "id": "5qCRNyvpkjEY",
    "outputId": "79b5f0b6-1598-48ea-b7d5-aeb16074ff08"
   },
   "outputs": [
    {
     "name": "stdout",
     "output_type": "stream",
     "text": [
      "[[141, 1, 693, 849, 175, 303], [141, 1, 767, 50, 3, 1681, 1993, 1161, 3, 552, 755, 709, 78, 57, 121], [23, 23, 23, 23, 23, 23, 23, 23, 23, 23, 23, 23, 23, 23, 23, 23, 23, 23, 23, 23, 23, 23, 23, 23, 23, 23, 23, 23, 23, 23, 23, 23, 23, 23, 23, 23, 23, 23, 23, 23, 23, 23, 23, 23, 12726, 12727, 9434, 1, 369, 36, 18, 59, 252, 25, 373, 9435, 4063, 143, 6598, 1292, 3238, 11, 985, 12728, 12729, 13, 4824, 4064, 12730, 4825, 304, 56, 144, 40, 47, 1], [4, 45, 14, 5, 3, 5861, 737, 919, 1215, 256, 14, 3, 413, 48, 69, 7, 17], [3, 174, 815, 738, 800, 3, 53, 7, 73, 17, 1, 216, 21, 284, 10, 190, 117, 505, 166, 28, 241]]\n",
      "[[116, 346, 1, 1125, 169, 131, 80, 8, 80, 865, 18, 148, 114, 1702, 75, 114], [119, 48, 3, 1523, 5158, 3, 1071, 6, 29, 493, 28, 3982, 778, 28, 21, 10634, 2976, 4, 239, 29, 6652, 5], [4, 746, 55, 79, 5, 20, 380, 25, 27, 7316, 42], [163, 83, 86, 1, 687, 199, 108, 936, 564, 1272, 139, 187, 6, 122], [652, 24, 1, 324, 43, 62, 54, 151, 1234, 22, 8, 571, 318]]\n"
     ]
    }
   ],
   "source": [
    "tokenizer = Tokenizer()\n",
    "tokenizer.fit_on_texts(X_train)\n",
    "X_train_encoded = tokenizer.texts_to_sequences(X_train)\n",
    "X_test_encoded = tokenizer.texts_to_sequences(X_test)\n",
    "print(X_train_encoded[:5])\n",
    "print(X_test_encoded[:5])"
   ]
  },
  {
   "cell_type": "code",
   "execution_count": 43,
   "id": "7602465e-2216-4a00-9282-8c0c4b26ba2c",
   "metadata": {
    "colab": {
     "base_uri": "https://localhost:8080/"
    },
    "id": "KAXqMlPtkm9d",
    "outputId": "a3ceac7d-6e64-491b-ae48-5111f9bd1ab4"
   },
   "outputs": [
    {
     "name": "stdout",
     "output_type": "stream",
     "text": [
      "22884\n"
     ]
    }
   ],
   "source": [
    "word_to_index = tokenizer.word_index\n",
    "vocab_size = len(word_to_index) + 1\n",
    "print(vocab_size)"
   ]
  },
  {
   "cell_type": "markdown",
   "id": "4f9c201a-4de3-4743-8b4a-8665b539458e",
   "metadata": {},
   "source": [
    "## 패딩"
   ]
  },
  {
   "cell_type": "code",
   "execution_count": 28,
   "id": "01d7a84e-937b-4303-846e-7bf82b93176b",
   "metadata": {
    "tags": []
   },
   "outputs": [
    {
     "data": {
      "text/plain": [
       "2049    [보험, 사, 는, 노르, 데, 아, 의, 순이익, 에서, 노르, 데, 아가, 차지...\n",
       "129     [백화점, 부서, 는, 매출, 이, 4, %, 증가, 했, 다고, 보, 고, 했, ...\n",
       "Name: tokenized, dtype: object"
      ]
     },
     "execution_count": 28,
     "metadata": {},
     "output_type": "execute_result"
    }
   ],
   "source": [
    "X_train[:2]"
   ]
  },
  {
   "cell_type": "code",
   "execution_count": 44,
   "id": "753aae9c-43ed-4914-807b-1f7936bf52c3",
   "metadata": {
    "colab": {
     "base_uri": "https://localhost:8080/",
     "height": 315
    },
    "id": "CVaCLg2glTIo",
    "outputId": "2ee453f6-3488-45ca-dabd-250e064230d3"
   },
   "outputs": [
    {
     "name": "stdout",
     "output_type": "stream",
     "text": [
      "본문의 최대 길이 : 76\n",
      "본문의 평균 길이 : 17.334362233318203\n"
     ]
    },
    {
     "data": {
      "image/png": "[encoded data removed]",
      "text/plain": [
       "<Figure size 640x480 with 1 Axes>"
      ]
     },
     "metadata": {},
     "output_type": "display_data"
    }
   ],
   "source": [
    "print(  '본문의 최대 길이 :',   max(   len(sent) for sent in X_train   )   )\n",
    "# X_train 요소 하나하나 길이 재서 최대길이추출\n",
    "print(   '본문의 평균 길이 :',  sum(    map(len, X_train)  )   /  len(X_train)     )\n",
    "# X_train 요소 길이 재서 sum하구 X_train 개수로 나눈다\n",
    "plt.hist([len(sent) for sent in X_train], bins=50)\n",
    "plt.xlabel('length of samples')\n",
    "plt.ylabel('number of samples')\n",
    "plt.show()"
   ]
  },
  {
   "cell_type": "code",
   "execution_count": 45,
   "id": "029de265-8839-4e8a-9e67-36c576cd10a3",
   "metadata": {
    "id": "vZvzv8jClpTF"
   },
   "outputs": [],
   "source": [
    "max_len = 76"
   ]
  },
  {
   "cell_type": "code",
   "execution_count": 46,
   "id": "85d4008d-1001-437f-9f71-71863757dc1e",
   "metadata": {
    "id": "DO-ypzo6lmuu"
   },
   "outputs": [],
   "source": [
    "X_train_encoded = pad_sequences(X_train_encoded, maxlen=max_len)\n",
    "X_test_encoded = pad_sequences(X_test_encoded, maxlen=max_len)"
   ]
  },
  {
   "cell_type": "code",
   "execution_count": 47,
   "id": "800e8679-532f-4c1f-8bc1-9d8d2de1954d",
   "metadata": {
    "colab": {
     "base_uri": "https://localhost:8080/"
    },
    "id": "_3LInCb9lqUZ",
    "outputId": "64822180-1fb5-44b5-ba3f-317c8bdfb2ca"
   },
   "outputs": [
    {
     "data": {
      "text/plain": [
       "(33045, 76)"
      ]
     },
     "execution_count": 47,
     "metadata": {},
     "output_type": "execute_result"
    }
   ],
   "source": [
    "X_train_encoded.shape"
   ]
  },
  {
   "cell_type": "code",
   "execution_count": 48,
   "id": "49f47fe7-de25-40e2-8e47-7295b6d0d2fa",
   "metadata": {
    "colab": {
     "base_uri": "https://localhost:8080/"
    },
    "id": "BRNfINkFlxHI",
    "outputId": "48643685-2064-4ff0-d8eb-7c406fc2245a"
   },
   "outputs": [
    {
     "data": {
      "text/plain": [
       "(8262, 76)"
      ]
     },
     "execution_count": 48,
     "metadata": {},
     "output_type": "execute_result"
    }
   ],
   "source": [
    "X_test_encoded.shape"
   ]
  },
  {
   "cell_type": "code",
   "execution_count": 49,
   "id": "8692a622-93bb-4156-997a-a52cccdb80cf",
   "metadata": {
    "id": "wR9qe8oUlyKo"
   },
   "outputs": [],
   "source": [
    "import tensorflow as tf\n",
    "from tensorflow.keras.layers import Embedding, Dense, LSTM\n",
    "from tensorflow.keras.models import Sequential\n",
    "from tensorflow.keras.models import load_model\n",
    "from tensorflow.keras.utils import to_categorical\n",
    "from tensorflow.keras.callbacks import EarlyStopping, ModelCheckpoint"
   ]
  },
  {
   "cell_type": "code",
   "execution_count": 50,
   "id": "b7329fdc-5c31-4b65-9dbd-1661ec09865e",
   "metadata": {
    "tags": []
   },
   "outputs": [
    {
     "data": {
      "text/plain": [
       "30    [코, 넥스, ,, 98, 개, 종목, 거래, …, 거래, 대금, 1, 위, `, ...\n",
       "Name: tokenized, dtype: object"
      ]
     },
     "execution_count": 50,
     "metadata": {},
     "output_type": "execute_result"
    }
   ],
   "source": [
    "X_test[:1]"
   ]
  },
  {
   "cell_type": "code",
   "execution_count": 51,
   "id": "f1cc08b6-cd28-4a63-a353-111e211f923c",
   "metadata": {
    "tags": []
   },
   "outputs": [
    {
     "data": {
      "text/plain": [
       "array([  0,   0,   0,   0,   0,   0,   0,   0,   0,   0,   0,   0,   0,\n",
       "         0,   0,   0,   0,   0,   0,   0,   0,   0,   0,   0,   0,   0,\n",
       "         0,   0,   0,   0,   0,   0,   0,   0,   0,   0,   0,   0,   0,\n",
       "         0,   0,   0,   0,   0,   0,   0,   0,   0,   0,   0,   0,   0,\n",
       "         0,   0,   0,   0,   0,   0,   0,   0,   0,   0,   0,   0,   0,\n",
       "         0,   0,   0,   0,   0, 141,   1, 693, 849, 175, 303])"
      ]
     },
     "execution_count": 51,
     "metadata": {},
     "output_type": "execute_result"
    }
   ],
   "source": [
    "X_train_encoded[0]"
   ]
  },
  {
   "cell_type": "code",
   "execution_count": 52,
   "id": "f61b94a7-4360-4de4-99a0-ed94879a78de",
   "metadata": {
    "tags": []
   },
   "outputs": [
    {
     "data": {
      "text/plain": [
       "(33045, 76)"
      ]
     },
     "execution_count": 52,
     "metadata": {},
     "output_type": "execute_result"
    }
   ],
   "source": [
    "X_train_encoded.shape"
   ]
  },
  {
   "cell_type": "code",
   "execution_count": null,
   "id": "6b9d6c16-203a-4f3b-8333-44fe7dbc631c",
   "metadata": {
    "tags": []
   },
   "outputs": [],
   "source": [
    "y_test[8]"
   ]
  },
  {
   "cell_type": "code",
   "execution_count": 53,
   "id": "d6b973f6-11e3-4c72-924a-6681cb6a7b93",
   "metadata": {
    "tags": []
   },
   "outputs": [
    {
     "data": {
      "text/plain": [
       "(33045,)"
      ]
     },
     "execution_count": 53,
     "metadata": {},
     "output_type": "execute_result"
    }
   ],
   "source": [
    "y_train.shape"
   ]
  },
  {
   "cell_type": "code",
   "execution_count": 54,
   "id": "ef8937d9-f94a-4d47-82b2-0854e438ed30",
   "metadata": {
    "id": "OG8mNRPqmRb1"
   },
   "outputs": [],
   "source": [
    "y_train = to_categorical(y_train)\n",
    "y_test = to_categorical(y_test)"
   ]
  },
  {
   "cell_type": "code",
   "execution_count": 44,
   "id": "0bdcb930-02e8-4e33-98d0-4890336dbfd3",
   "metadata": {
    "tags": []
   },
   "outputs": [
    {
     "data": {
      "text/plain": [
       "(3861, 3)"
      ]
     },
     "execution_count": 44,
     "metadata": {},
     "output_type": "execute_result"
    }
   ],
   "source": [
    "y_train.shape"
   ]
  },
  {
   "cell_type": "markdown",
   "id": "a990cdc5-4d1b-46cd-9ef6-215ef6557f79",
   "metadata": {},
   "source": [
    " * 테스트 정확도: 0.8574"
   ]
  },
  {
   "cell_type": "code",
   "execution_count": 55,
   "id": "5b6798ee-5524-4fce-9054-be4035e78bf3",
   "metadata": {
    "colab": {
     "base_uri": "https://localhost:8080/"
    },
    "id": "qcgxpi4zmWHd",
    "outputId": "ab93b729-da07-44c0-f1ec-8c39cbf8c7ec"
   },
   "outputs": [
    {
     "name": "stdout",
     "output_type": "stream",
     "text": [
      "Epoch 1/15\n",
      "826/827 [============================>.] - ETA: 0s - loss: 0.4891 - acc: 0.7957\n",
      "Epoch 1: val_acc improved from -inf to 0.85399, saving model to ./NLP\\3.best_model_18_22.h5\n",
      "827/827 [==============================] - 33s 34ms/step - loss: 0.4890 - acc: 0.7957 - val_loss: 0.3558 - val_acc: 0.8540\n",
      "Epoch 2/15\n",
      "827/827 [==============================] - ETA: 0s - loss: 0.2422 - acc: 0.9058\n",
      "Epoch 2: val_acc improved from 0.85399 to 0.85611, saving model to ./NLP\\3.best_model_18_22.h5\n",
      "827/827 [==============================] - 28s 34ms/step - loss: 0.2422 - acc: 0.9058 - val_loss: 0.3700 - val_acc: 0.8561\n",
      "Epoch 3/15\n",
      "827/827 [==============================] - ETA: 0s - loss: 0.1610 - acc: 0.9411\n",
      "Epoch 3: val_acc did not improve from 0.85611\n",
      "827/827 [==============================] - 30s 36ms/step - loss: 0.1610 - acc: 0.9411 - val_loss: 0.3981 - val_acc: 0.8555\n",
      "Epoch 4/15\n",
      "826/827 [============================>.] - ETA: 0s - loss: 0.1156 - acc: 0.9586\n",
      "Epoch 4: val_acc did not improve from 0.85611\n",
      "827/827 [==============================] - 31s 38ms/step - loss: 0.1157 - acc: 0.9586 - val_loss: 0.4436 - val_acc: 0.8522\n",
      "Epoch 5/15\n",
      "827/827 [==============================] - ETA: 0s - loss: 0.0876 - acc: 0.9681\n",
      "Epoch 5: val_acc did not improve from 0.85611\n",
      "827/827 [==============================] - 31s 38ms/step - loss: 0.0876 - acc: 0.9681 - val_loss: 0.5186 - val_acc: 0.8511\n",
      "Epoch 5: early stopping\n"
     ]
    }
   ],
   "source": [
    "embedding_dim = 64\n",
    "hidden_units = 64\n",
    "num_classes = 3\n",
    "\n",
    "model = Sequential()\n",
    "model.add(Embedding(vocab_size, embedding_dim))\n",
    "model.add(LSTM(hidden_units))\n",
    "model.add(Dense(num_classes, activation='softmax'))\n",
    "\n",
    "es = EarlyStopping(monitor='val_loss', mode='min', verbose=1, patience=4)\n",
    "mc = ModelCheckpoint('./NLP/3.best_model_18_22.h5', monitor='val_acc', mode='max', verbose=1, save_best_only=True)\n",
    "\n",
    "model.compile(loss='categorical_crossentropy', optimizer='adam', metrics=['acc'])\n",
    "history = model.fit(X_train_encoded, y_train, epochs=15, callbacks=[es, mc], batch_size=32, validation_split=0.2)"
   ]
  },
  {
   "cell_type": "code",
   "execution_count": 56,
   "id": "48e9523e-5f74-4f55-b568-64bcbbb7aca0",
   "metadata": {
    "colab": {
     "base_uri": "https://localhost:8080/"
    },
    "id": "qtj0EMOEmeEX",
    "outputId": "e64117af-a089-4155-ba53-e2481a094cd2",
    "tags": []
   },
   "outputs": [
    {
     "name": "stdout",
     "output_type": "stream",
     "text": [
      "259/259 [==============================] - 3s 8ms/step - loss: 0.3782 - acc: 0.8574\n",
      "\n",
      " 테스트 정확도: 0.8574\n"
     ]
    }
   ],
   "source": [
    "loaded_model = load_model('./NLP/3.best_model_18_22.h5')\n",
    "print(\"\\n 테스트 정확도: %.4f\" % (loaded_model.evaluate(X_test_encoded, y_test)[1]))"
   ]
  },
  {
   "cell_type": "code",
   "execution_count": null,
   "id": "e032a4e2-7145-44eb-b996-a783cfec03d1",
   "metadata": {
    "tags": []
   },
   "outputs": [],
   "source": [
    "loaded_model"
   ]
  },
  {
   "cell_type": "code",
   "execution_count": null,
   "id": "767d1615-2634-4624-bbca-1f4082d24ee4",
   "metadata": {},
   "outputs": [],
   "source": []
  }
 ],
 "metadata": {
  "kernelspec": {
   "display_name": "Python 3 (ipykernel)",
   "language": "python",
   "name": "python3"
  },
  "language_info": {
   "codemirror_mode": {
    "name": "ipython",
    "version": 3
   },
   "file_extension": ".py",
   "mimetype": "text/x-python",
   "name": "python",
   "nbconvert_exporter": "python",
   "pygments_lexer": "ipython3",
   "version": "3.8.8"
  }
 },
 "nbformat": 4,
 "nbformat_minor": 5
}
