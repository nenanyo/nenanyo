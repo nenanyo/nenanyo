{
 "cells": [
  {
   "cell_type": "code",
   "execution_count": 1,
   "id": "f0e11683-8ac7-49fc-a0fe-cf54a5392c4b",
   "metadata": {
    "id": "Qww_V4GzhgoS",
    "tags": []
   },
   "outputs": [],
   "source": [
    "import pandas as pd\n",
    "import numpy as np\n",
    "import matplotlib.pyplot as plt\n",
    "from sklearn.model_selection import train_test_split\n",
    "import re\n",
    "import urllib.request\n",
    "import mecab\n",
    "from tqdm import tqdm\n",
    "from tensorflow.keras.preprocessing.text import Tokenizer\n",
    "from tensorflow.keras.preprocessing.sequence import pad_sequences\n",
    "import tensorflow as tf\n",
    "from tensorflow.keras.layers import Embedding, Dense, LSTM\n",
    "from tensorflow.keras.models import Sequential\n",
    "from tensorflow.keras.models import load_model\n",
    "from tensorflow.keras.utils import to_categorical\n",
    "from tensorflow.keras.callbacks import EarlyStopping, ModelCheckpoint\n",
    "import warnings\n",
    "warnings.filterwarnings(action='ignore')"
   ]
  },
  {
   "cell_type": "markdown",
   "id": "e7eb9928-0bf6-406c-84db-e3fb3f275460",
   "metadata": {},
   "source": [
    "# 데이터 로드"
   ]
  },
  {
   "cell_type": "code",
   "execution_count": 2,
   "id": "dd114c13-f5b7-4cde-8fb1-13178da3e601",
   "metadata": {
    "tags": []
   },
   "outputs": [],
   "source": [
    "df=pd.read_csv('./labelO_1922.csv')"
   ]
  },
  {
   "cell_type": "code",
   "execution_count": 3,
   "id": "d05af59f-9973-4b89-be6a-033b1f4493d3",
   "metadata": {
    "tags": []
   },
   "outputs": [],
   "source": [
    "# df[df['polarity.label']==-1]"
   ]
  },
  {
   "cell_type": "markdown",
   "id": "8046851d-67ab-4d63-81bd-5eb47ca2a4d7",
   "metadata": {},
   "source": [
    "# 연간"
   ]
  },
  {
   "cell_type": "code",
   "execution_count": 4,
   "id": "05e90ff9-300c-4cc0-8ea3-fe8e4b369434",
   "metadata": {
    "tags": []
   },
   "outputs": [],
   "source": [
    "df[\"date\"] = pd.to_datetime(df[\"date\"])"
   ]
  },
  {
   "cell_type": "code",
   "execution_count": 5,
   "id": "e8acf01a-25dd-4c13-98d9-81cc4ef9d3f4",
   "metadata": {
    "tags": []
   },
   "outputs": [],
   "source": [
    "import datetime as dt"
   ]
  },
  {
   "cell_type": "code",
   "execution_count": 6,
   "id": "0add0ebc-0430-4fcf-94b0-c09614241ba2",
   "metadata": {
    "tags": []
   },
   "outputs": [],
   "source": [
    "year =[]\n",
    "for dt in  df['date']:\n",
    "    y=dt.year\n",
    "    year.append(y)"
   ]
  },
  {
   "cell_type": "code",
   "execution_count": 7,
   "id": "9bcc4a99-84ea-494d-82c5-631f540cff31",
   "metadata": {
    "tags": []
   },
   "outputs": [],
   "source": [
    "month=[]\n",
    "for dt in  df['date']:\n",
    "    m=dt.month\n",
    "    month.append(m)"
   ]
  },
  {
   "cell_type": "code",
   "execution_count": 8,
   "id": "4eeb35be-605b-46c7-9684-9daace5a1fae",
   "metadata": {
    "tags": []
   },
   "outputs": [],
   "source": [
    "df['year'] = year\n",
    "df['month'] = month"
   ]
  },
  {
   "cell_type": "code",
   "execution_count": null,
   "id": "97b00abe-b109-44a1-b8a5-1a2f1018da22",
   "metadata": {},
   "outputs": [],
   "source": []
  },
  {
   "cell_type": "code",
   "execution_count": 9,
   "id": "cc0c3c56-237f-4433-af33-2659d83b11d6",
   "metadata": {
    "tags": []
   },
   "outputs": [],
   "source": [
    "corp =[]\n",
    "for txt in df['corp']:\n",
    "    name=txt.split(sep='-')[1]\n",
    "    corp.append(name)"
   ]
  },
  {
   "cell_type": "code",
   "execution_count": 10,
   "id": "1b9dfacc-db27-40c2-9dba-e5cf52e9da4e",
   "metadata": {
    "tags": []
   },
   "outputs": [],
   "source": [
    "df['name'] = corp"
   ]
  },
  {
   "cell_type": "code",
   "execution_count": 11,
   "id": "3f4888c6-9145-46b8-967a-b388ad03cab7",
   "metadata": {
    "tags": []
   },
   "outputs": [],
   "source": [
    "df['pos']=0\n",
    "df['neg']=0"
   ]
  },
  {
   "cell_type": "code",
   "execution_count": 12,
   "id": "da0d7e78-9042-43a8-987f-bce01d369326",
   "metadata": {
    "tags": []
   },
   "outputs": [],
   "source": [
    "for i,data in enumerate(df['polarity.label']):\n",
    "    if data==1:\n",
    "        df['pos'][i]=1\n",
    "    elif data==-1:\n",
    "        df['neg'][i]=-1\n",
    "        # print(1)"
   ]
  },
  {
   "cell_type": "code",
   "execution_count": 13,
   "id": "e323d267-ba25-4b41-8507-ff20c1631529",
   "metadata": {
    "tags": []
   },
   "outputs": [],
   "source": [
    "df_2019 = df[df['year']==2019]\n",
    "df_2020 = df[df['year']==2020]\n",
    "df_2021 = df[df['year']==2021]\n",
    "df_2022 = df[df['year']==2022]\n"
   ]
  },
  {
   "cell_type": "code",
   "execution_count": 14,
   "id": "625ed784-140e-4707-8fe4-e7143565d91e",
   "metadata": {
    "tags": []
   },
   "outputs": [
    {
     "data": {
      "text/html": [
       "<div>\n",
       "<style scoped>\n",
       "    .dataframe tbody tr th:only-of-type {\n",
       "        vertical-align: middle;\n",
       "    }\n",
       "\n",
       "    .dataframe tbody tr th {\n",
       "        vertical-align: top;\n",
       "    }\n",
       "\n",
       "    .dataframe thead th {\n",
       "        text-align: right;\n",
       "    }\n",
       "</style>\n",
       "<table border=\"1\" class=\"dataframe\">\n",
       "  <thead>\n",
       "    <tr style=\"text-align: right;\">\n",
       "      <th></th>\n",
       "      <th>date</th>\n",
       "      <th>category</th>\n",
       "      <th>section</th>\n",
       "      <th>publisher</th>\n",
       "      <th>author</th>\n",
       "      <th>title</th>\n",
       "      <th>content_url</th>\n",
       "      <th>attachment</th>\n",
       "      <th>industry.label</th>\n",
       "      <th>industry.score</th>\n",
       "      <th>...</th>\n",
       "      <th>polarity.score</th>\n",
       "      <th>polarity.name</th>\n",
       "      <th>corp</th>\n",
       "      <th>tokenized</th>\n",
       "      <th>del_stopword</th>\n",
       "      <th>year</th>\n",
       "      <th>month</th>\n",
       "      <th>name</th>\n",
       "      <th>pos</th>\n",
       "      <th>neg</th>\n",
       "    </tr>\n",
       "  </thead>\n",
       "  <tbody>\n",
       "    <tr>\n",
       "      <th>0</th>\n",
       "      <td>2019-12-30</td>\n",
       "      <td>news</td>\n",
       "      <td>economy</td>\n",
       "      <td>한국경제TV</td>\n",
       "      <td>라이온봇</td>\n",
       "      <td>YG PLUS, 주가 반등 현재는 +9.3%... 이 시각 50만3383주 거래</td>\n",
       "      <td>NaN</td>\n",
       "      <td>NaN</td>\n",
       "      <td>M71</td>\n",
       "      <td>1.000</td>\n",
       "      <td>...</td>\n",
       "      <td>0.900</td>\n",
       "      <td>긍정</td>\n",
       "      <td>DeepSearch-CMG제약-news-2019-01-01-2019-12-31-20...</td>\n",
       "      <td>NaN</td>\n",
       "      <td>NaN</td>\n",
       "      <td>2019</td>\n",
       "      <td>12</td>\n",
       "      <td>CMG제약</td>\n",
       "      <td>1</td>\n",
       "      <td>0</td>\n",
       "    </tr>\n",
       "    <tr>\n",
       "      <th>1</th>\n",
       "      <td>2019-12-18</td>\n",
       "      <td>news</td>\n",
       "      <td>economy</td>\n",
       "      <td>한국경제TV</td>\n",
       "      <td>라이온봇</td>\n",
       "      <td>써니전자, 상승출발 후 현재 +6.2%... 외국인 5,883주 순매수</td>\n",
       "      <td>NaN</td>\n",
       "      <td>NaN</td>\n",
       "      <td>C26</td>\n",
       "      <td>0.999</td>\n",
       "      <td>...</td>\n",
       "      <td>0.569</td>\n",
       "      <td>긍정</td>\n",
       "      <td>DeepSearch-CMG제약-news-2019-01-01-2019-12-31-20...</td>\n",
       "      <td>NaN</td>\n",
       "      <td>NaN</td>\n",
       "      <td>2019</td>\n",
       "      <td>12</td>\n",
       "      <td>CMG제약</td>\n",
       "      <td>1</td>\n",
       "      <td>0</td>\n",
       "    </tr>\n",
       "  </tbody>\n",
       "</table>\n",
       "<p>2 rows × 22 columns</p>\n",
       "</div>"
      ],
      "text/plain": [
       "        date category  section publisher author  \\\n",
       "0 2019-12-30     news  economy    한국경제TV   라이온봇   \n",
       "1 2019-12-18     news  economy    한국경제TV   라이온봇   \n",
       "\n",
       "                                          title  content_url  attachment  \\\n",
       "0  YG PLUS, 주가 반등 현재는 +9.3%... 이 시각 50만3383주 거래          NaN         NaN   \n",
       "1       써니전자, 상승출발 후 현재 +6.2%... 외국인 5,883주 순매수          NaN         NaN   \n",
       "\n",
       "  industry.label  industry.score  ... polarity.score  polarity.name  \\\n",
       "0            M71           1.000  ...          0.900             긍정   \n",
       "1            C26           0.999  ...          0.569             긍정   \n",
       "\n",
       "                                                corp tokenized del_stopword  \\\n",
       "0  DeepSearch-CMG제약-news-2019-01-01-2019-12-31-20...       NaN          NaN   \n",
       "1  DeepSearch-CMG제약-news-2019-01-01-2019-12-31-20...       NaN          NaN   \n",
       "\n",
       "   year month   name  pos neg  \n",
       "0  2019    12  CMG제약    1   0  \n",
       "1  2019    12  CMG제약    1   0  \n",
       "\n",
       "[2 rows x 22 columns]"
      ]
     },
     "execution_count": 14,
     "metadata": {},
     "output_type": "execute_result"
    }
   ],
   "source": [
    "df_2019[:2]"
   ]
  },
  {
   "cell_type": "code",
   "execution_count": 15,
   "id": "b3350b86-a228-418e-8c16-3ceba7b7de9a",
   "metadata": {
    "tags": []
   },
   "outputs": [
    {
     "data": {
      "text/html": [
       "<div>\n",
       "<style scoped>\n",
       "    .dataframe tbody tr th:only-of-type {\n",
       "        vertical-align: middle;\n",
       "    }\n",
       "\n",
       "    .dataframe tbody tr th {\n",
       "        vertical-align: top;\n",
       "    }\n",
       "\n",
       "    .dataframe thead th {\n",
       "        text-align: right;\n",
       "    }\n",
       "</style>\n",
       "<table border=\"1\" class=\"dataframe\">\n",
       "  <thead>\n",
       "    <tr style=\"text-align: right;\">\n",
       "      <th></th>\n",
       "      <th>name</th>\n",
       "      <th>pos</th>\n",
       "      <th>neg</th>\n",
       "    </tr>\n",
       "  </thead>\n",
       "  <tbody>\n",
       "    <tr>\n",
       "      <th>0</th>\n",
       "      <td>CMG제약</td>\n",
       "      <td>1</td>\n",
       "      <td>0</td>\n",
       "    </tr>\n",
       "    <tr>\n",
       "      <th>1</th>\n",
       "      <td>CMG제약</td>\n",
       "      <td>1</td>\n",
       "      <td>0</td>\n",
       "    </tr>\n",
       "    <tr>\n",
       "      <th>2</th>\n",
       "      <td>CMG제약</td>\n",
       "      <td>1</td>\n",
       "      <td>0</td>\n",
       "    </tr>\n",
       "    <tr>\n",
       "      <th>3</th>\n",
       "      <td>CMG제약</td>\n",
       "      <td>1</td>\n",
       "      <td>0</td>\n",
       "    </tr>\n",
       "    <tr>\n",
       "      <th>4</th>\n",
       "      <td>CMG제약</td>\n",
       "      <td>0</td>\n",
       "      <td>0</td>\n",
       "    </tr>\n",
       "    <tr>\n",
       "      <th>...</th>\n",
       "      <td>...</td>\n",
       "      <td>...</td>\n",
       "      <td>...</td>\n",
       "    </tr>\n",
       "    <tr>\n",
       "      <th>73141</th>\n",
       "      <td>휴온스글로벌</td>\n",
       "      <td>0</td>\n",
       "      <td>0</td>\n",
       "    </tr>\n",
       "    <tr>\n",
       "      <th>73142</th>\n",
       "      <td>휴온스글로벌</td>\n",
       "      <td>0</td>\n",
       "      <td>0</td>\n",
       "    </tr>\n",
       "    <tr>\n",
       "      <th>73143</th>\n",
       "      <td>휴온스글로벌</td>\n",
       "      <td>0</td>\n",
       "      <td>0</td>\n",
       "    </tr>\n",
       "    <tr>\n",
       "      <th>73144</th>\n",
       "      <td>휴온스글로벌</td>\n",
       "      <td>0</td>\n",
       "      <td>0</td>\n",
       "    </tr>\n",
       "    <tr>\n",
       "      <th>73145</th>\n",
       "      <td>휴온스글로벌</td>\n",
       "      <td>0</td>\n",
       "      <td>0</td>\n",
       "    </tr>\n",
       "  </tbody>\n",
       "</table>\n",
       "<p>20788 rows × 3 columns</p>\n",
       "</div>"
      ],
      "text/plain": [
       "         name  pos  neg\n",
       "0       CMG제약    1    0\n",
       "1       CMG제약    1    0\n",
       "2       CMG제약    1    0\n",
       "3       CMG제약    1    0\n",
       "4       CMG제약    0    0\n",
       "...       ...  ...  ...\n",
       "73141  휴온스글로벌    0    0\n",
       "73142  휴온스글로벌    0    0\n",
       "73143  휴온스글로벌    0    0\n",
       "73144  휴온스글로벌    0    0\n",
       "73145  휴온스글로벌    0    0\n",
       "\n",
       "[20788 rows x 3 columns]"
      ]
     },
     "execution_count": 15,
     "metadata": {},
     "output_type": "execute_result"
    }
   ],
   "source": [
    "df_2019.iloc[:,[19,20,21]]"
   ]
  },
  {
   "cell_type": "code",
   "execution_count": 16,
   "id": "63defd5e-7e3e-4322-9a33-6afc21efd403",
   "metadata": {
    "tags": []
   },
   "outputs": [
    {
     "data": {
      "text/html": [
       "<div>\n",
       "<style scoped>\n",
       "    .dataframe tbody tr th:only-of-type {\n",
       "        vertical-align: middle;\n",
       "    }\n",
       "\n",
       "    .dataframe tbody tr th {\n",
       "        vertical-align: top;\n",
       "    }\n",
       "\n",
       "    .dataframe thead th {\n",
       "        text-align: right;\n",
       "    }\n",
       "</style>\n",
       "<table border=\"1\" class=\"dataframe\">\n",
       "  <thead>\n",
       "    <tr style=\"text-align: right;\">\n",
       "      <th></th>\n",
       "      <th>name</th>\n",
       "      <th>date</th>\n",
       "      <th>pos</th>\n",
       "      <th>neg</th>\n",
       "    </tr>\n",
       "  </thead>\n",
       "  <tbody>\n",
       "    <tr>\n",
       "      <th>0</th>\n",
       "      <td>CMG제약</td>\n",
       "      <td>2019</td>\n",
       "      <td>40</td>\n",
       "      <td>-6</td>\n",
       "    </tr>\n",
       "    <tr>\n",
       "      <th>1</th>\n",
       "      <td>HLB</td>\n",
       "      <td>2019</td>\n",
       "      <td>10</td>\n",
       "      <td>0</td>\n",
       "    </tr>\n",
       "  </tbody>\n",
       "</table>\n",
       "</div>"
      ],
      "text/plain": [
       "    name  date  pos  neg\n",
       "0  CMG제약  2019   40   -6\n",
       "1    HLB  2019   10    0"
      ]
     },
     "execution_count": 16,
     "metadata": {},
     "output_type": "execute_result"
    }
   ],
   "source": [
    "df_2019 = df_2019.iloc[:,[19,20,21]]\n",
    "df_2019 = df_2019.groupby('name').sum()\n",
    "df_2019 = df_2019.reset_index()\n",
    "df_2019['date'] = '2019'\n",
    "df_2019 = df_2019[['name','date','pos','neg']]\n",
    "\n",
    "df_2019.head(2)"
   ]
  },
  {
   "cell_type": "code",
   "execution_count": 17,
   "id": "eae5fe89-f2a0-42fc-9cd1-056f80665174",
   "metadata": {
    "tags": []
   },
   "outputs": [
    {
     "data": {
      "text/html": [
       "<div>\n",
       "<style scoped>\n",
       "    .dataframe tbody tr th:only-of-type {\n",
       "        vertical-align: middle;\n",
       "    }\n",
       "\n",
       "    .dataframe tbody tr th {\n",
       "        vertical-align: top;\n",
       "    }\n",
       "\n",
       "    .dataframe thead th {\n",
       "        text-align: right;\n",
       "    }\n",
       "</style>\n",
       "<table border=\"1\" class=\"dataframe\">\n",
       "  <thead>\n",
       "    <tr style=\"text-align: right;\">\n",
       "      <th></th>\n",
       "      <th>name</th>\n",
       "      <th>date</th>\n",
       "      <th>pos</th>\n",
       "      <th>neg</th>\n",
       "    </tr>\n",
       "  </thead>\n",
       "  <tbody>\n",
       "    <tr>\n",
       "      <th>0</th>\n",
       "      <td>CMG제약</td>\n",
       "      <td>2020</td>\n",
       "      <td>15</td>\n",
       "      <td>-2</td>\n",
       "    </tr>\n",
       "    <tr>\n",
       "      <th>1</th>\n",
       "      <td>HLB</td>\n",
       "      <td>2020</td>\n",
       "      <td>11</td>\n",
       "      <td>0</td>\n",
       "    </tr>\n",
       "  </tbody>\n",
       "</table>\n",
       "</div>"
      ],
      "text/plain": [
       "    name  date  pos  neg\n",
       "0  CMG제약  2020   15   -2\n",
       "1    HLB  2020   11    0"
      ]
     },
     "execution_count": 17,
     "metadata": {},
     "output_type": "execute_result"
    }
   ],
   "source": [
    "df_2020 = df_2020.iloc[:,[19,20,21]]\n",
    "df_2020 = df_2020.groupby('name').sum()\n",
    "df_2020 = df_2020.reset_index()\n",
    "df_2020['date'] = '2020'\n",
    "df_2020 = df_2020[['name','date','pos','neg']]\n",
    "\n",
    "df_2020.head(2)"
   ]
  },
  {
   "cell_type": "code",
   "execution_count": 18,
   "id": "aa298f77-ce2d-4ca4-a80b-e7163828bb03",
   "metadata": {
    "tags": []
   },
   "outputs": [
    {
     "data": {
      "text/html": [
       "<div>\n",
       "<style scoped>\n",
       "    .dataframe tbody tr th:only-of-type {\n",
       "        vertical-align: middle;\n",
       "    }\n",
       "\n",
       "    .dataframe tbody tr th {\n",
       "        vertical-align: top;\n",
       "    }\n",
       "\n",
       "    .dataframe thead th {\n",
       "        text-align: right;\n",
       "    }\n",
       "</style>\n",
       "<table border=\"1\" class=\"dataframe\">\n",
       "  <thead>\n",
       "    <tr style=\"text-align: right;\">\n",
       "      <th></th>\n",
       "      <th>name</th>\n",
       "      <th>date</th>\n",
       "      <th>pos</th>\n",
       "      <th>neg</th>\n",
       "    </tr>\n",
       "  </thead>\n",
       "  <tbody>\n",
       "    <tr>\n",
       "      <th>0</th>\n",
       "      <td>CMG제약</td>\n",
       "      <td>2021</td>\n",
       "      <td>14</td>\n",
       "      <td>-1</td>\n",
       "    </tr>\n",
       "    <tr>\n",
       "      <th>1</th>\n",
       "      <td>HLB</td>\n",
       "      <td>2021</td>\n",
       "      <td>12</td>\n",
       "      <td>-1</td>\n",
       "    </tr>\n",
       "  </tbody>\n",
       "</table>\n",
       "</div>"
      ],
      "text/plain": [
       "    name  date  pos  neg\n",
       "0  CMG제약  2021   14   -1\n",
       "1    HLB  2021   12   -1"
      ]
     },
     "execution_count": 18,
     "metadata": {},
     "output_type": "execute_result"
    }
   ],
   "source": [
    "df_2021 = df_2021.iloc[:,[19,20,21]]\n",
    "df_2021 = df_2021.groupby('name').sum()\n",
    "df_2021 = df_2021.reset_index()\n",
    "df_2021['date'] = '2021'\n",
    "df_2021 = df_2021[['name','date','pos','neg']]\n",
    "\n",
    "df_2021.head(2)"
   ]
  },
  {
   "cell_type": "code",
   "execution_count": 19,
   "id": "ead3d7e7-ca25-4418-8f94-430b414b731b",
   "metadata": {
    "tags": []
   },
   "outputs": [
    {
     "data": {
      "text/html": [
       "<div>\n",
       "<style scoped>\n",
       "    .dataframe tbody tr th:only-of-type {\n",
       "        vertical-align: middle;\n",
       "    }\n",
       "\n",
       "    .dataframe tbody tr th {\n",
       "        vertical-align: top;\n",
       "    }\n",
       "\n",
       "    .dataframe thead th {\n",
       "        text-align: right;\n",
       "    }\n",
       "</style>\n",
       "<table border=\"1\" class=\"dataframe\">\n",
       "  <thead>\n",
       "    <tr style=\"text-align: right;\">\n",
       "      <th></th>\n",
       "      <th>name</th>\n",
       "      <th>date</th>\n",
       "      <th>pos</th>\n",
       "      <th>neg</th>\n",
       "    </tr>\n",
       "  </thead>\n",
       "  <tbody>\n",
       "    <tr>\n",
       "      <th>0</th>\n",
       "      <td>CMG제약</td>\n",
       "      <td>2022</td>\n",
       "      <td>8</td>\n",
       "      <td>0</td>\n",
       "    </tr>\n",
       "    <tr>\n",
       "      <th>1</th>\n",
       "      <td>HLB생명과학</td>\n",
       "      <td>2022</td>\n",
       "      <td>40</td>\n",
       "      <td>-2</td>\n",
       "    </tr>\n",
       "  </tbody>\n",
       "</table>\n",
       "</div>"
      ],
      "text/plain": [
       "      name  date  pos  neg\n",
       "0    CMG제약  2022    8    0\n",
       "1  HLB생명과학  2022   40   -2"
      ]
     },
     "execution_count": 19,
     "metadata": {},
     "output_type": "execute_result"
    }
   ],
   "source": [
    "df_2022 = df_2022.iloc[:,[19,20,21]]\n",
    "df_2022 = df_2022.groupby('name').sum()\n",
    "df_2022 = df_2022.reset_index()\n",
    "df_2022['date'] = '2022'\n",
    "df_2022 = df_2022[['name','date','pos','neg']]\n",
    "\n",
    "df_2022.head(2)"
   ]
  },
  {
   "cell_type": "code",
   "execution_count": 20,
   "id": "4b3cffb6-0814-4f86-9402-ab62c8df9793",
   "metadata": {
    "tags": []
   },
   "outputs": [
    {
     "data": {
      "text/plain": [
       "(115, 118, 121, 118)"
      ]
     },
     "execution_count": 20,
     "metadata": {},
     "output_type": "execute_result"
    }
   ],
   "source": [
    "len(df_2019),len(df_2020),len(df_2021),len(df_2022)"
   ]
  },
  {
   "cell_type": "code",
   "execution_count": 21,
   "id": "c8c6cd6c-647c-4f96-89a5-64cf68c7780b",
   "metadata": {
    "tags": []
   },
   "outputs": [],
   "source": [
    "ticker = pd.read_csv('../데이터/최종기업ticker.csv',names=['name','ticker'])\n",
    "ticker = ticker.dropna()"
   ]
  },
  {
   "cell_type": "code",
   "execution_count": 22,
   "id": "d840e15b-2e5e-46f0-b4ad-ea744603cba6",
   "metadata": {
    "tags": []
   },
   "outputs": [
    {
     "data": {
      "text/html": [
       "<div>\n",
       "<style scoped>\n",
       "    .dataframe tbody tr th:only-of-type {\n",
       "        vertical-align: middle;\n",
       "    }\n",
       "\n",
       "    .dataframe tbody tr th {\n",
       "        vertical-align: top;\n",
       "    }\n",
       "\n",
       "    .dataframe thead th {\n",
       "        text-align: right;\n",
       "    }\n",
       "</style>\n",
       "<table border=\"1\" class=\"dataframe\">\n",
       "  <thead>\n",
       "    <tr style=\"text-align: right;\">\n",
       "      <th></th>\n",
       "      <th>name</th>\n",
       "      <th>ticker</th>\n",
       "    </tr>\n",
       "  </thead>\n",
       "  <tbody>\n",
       "    <tr>\n",
       "      <th>1</th>\n",
       "      <td>CMG제약</td>\n",
       "      <td>058820</td>\n",
       "    </tr>\n",
       "    <tr>\n",
       "      <th>2</th>\n",
       "      <td>HLB</td>\n",
       "      <td>028300</td>\n",
       "    </tr>\n",
       "  </tbody>\n",
       "</table>\n",
       "</div>"
      ],
      "text/plain": [
       "    name  ticker\n",
       "1  CMG제약  058820\n",
       "2    HLB  028300"
      ]
     },
     "execution_count": 22,
     "metadata": {},
     "output_type": "execute_result"
    }
   ],
   "source": [
    "ticker[:2]"
   ]
  },
  {
   "cell_type": "code",
   "execution_count": 23,
   "id": "3da9ad0c-8a22-40f1-9ffe-6d0f688fca2e",
   "metadata": {
    "tags": []
   },
   "outputs": [],
   "source": [
    "merge_2019 = pd.merge(ticker,df_2019, how='left', left_on='name', right_on='name')\n",
    "merge_2019 = merge_2019.drop('ticker',axis=1)\n",
    "merge_2019['date'] = 2019\n",
    "# merge_2019[10:20]"
   ]
  },
  {
   "cell_type": "code",
   "execution_count": 24,
   "id": "e3390251-1c24-4e2e-a36c-afd3ced3dccd",
   "metadata": {
    "tags": []
   },
   "outputs": [],
   "source": [
    "merge_2020 = pd.merge(ticker,df_2020, how='left', left_on='name', right_on='name')\n",
    "merge_2020 = merge_2020.drop('ticker',axis=1)\n",
    "merge_2020['date'] = 2020\n",
    "# merge_2020[:-10]"
   ]
  },
  {
   "cell_type": "code",
   "execution_count": 25,
   "id": "d519283e-d08f-468a-8fc0-1293fbe84950",
   "metadata": {
    "tags": []
   },
   "outputs": [],
   "source": [
    "merge_2021 = pd.merge(ticker,df_2021, how='left', left_on='name', right_on='name')\n",
    "merge_2021 = merge_2021.drop('ticker',axis=1)\n",
    "merge_2021['date'] = 2021\n",
    "# merge_2021[40:50]"
   ]
  },
  {
   "cell_type": "code",
   "execution_count": 26,
   "id": "f53e4832-f349-4bb3-b3da-717625995dd6",
   "metadata": {
    "tags": []
   },
   "outputs": [],
   "source": [
    "merge_2022 = pd.merge(ticker,df_2022, how='left', left_on='name', right_on='name')\n",
    "merge_2022 = merge_2022.drop('ticker',axis=1)\n",
    "merge_2022['date'] = 2022\n",
    "# merge_2022[10:20]"
   ]
  },
  {
   "cell_type": "code",
   "execution_count": 27,
   "id": "029f724c-ef18-4bb9-9b7f-e21ec8460627",
   "metadata": {
    "tags": []
   },
   "outputs": [],
   "source": [
    "df_2019['name']\n",
    "news_연간_1922 = pd.concat([merge_2019,merge_2020,merge_2021,merge_2022])"
   ]
  },
  {
   "cell_type": "code",
   "execution_count": 28,
   "id": "457c8a16-a81d-4362-ab02-99d8c52c425b",
   "metadata": {
    "tags": []
   },
   "outputs": [],
   "source": [
    "news_연간_1922.to_csv('./news_연간(19-22).csv',index=False)"
   ]
  },
  {
   "cell_type": "markdown",
   "id": "c6f4489a-743c-453e-9023-68bbaf376549",
   "metadata": {},
   "source": [
    "# 월간"
   ]
  },
  {
   "cell_type": "code",
   "execution_count": 29,
   "id": "1f0ef03a-80ca-4745-834f-37e81fdc508f",
   "metadata": {
    "tags": []
   },
   "outputs": [],
   "source": [
    "df=pd.read_csv('./labelO_1922.csv')"
   ]
  },
  {
   "cell_type": "code",
   "execution_count": 30,
   "id": "3ae0b178-b97d-4397-b600-583f19c47d1b",
   "metadata": {
    "tags": []
   },
   "outputs": [],
   "source": [
    "# df[df['polarity.label']==-1]"
   ]
  },
  {
   "cell_type": "code",
   "execution_count": 31,
   "id": "f57cb443-6dbc-485e-8847-4ded80e80ff8",
   "metadata": {
    "tags": []
   },
   "outputs": [],
   "source": [
    "df[\"date\"] = pd.to_datetime(df[\"date\"])"
   ]
  },
  {
   "cell_type": "code",
   "execution_count": 32,
   "id": "fb27839a-5698-47ec-902d-c381c3628748",
   "metadata": {
    "tags": []
   },
   "outputs": [],
   "source": [
    "corp =[]\n",
    "for txt in df['corp']:\n",
    "    name=txt.split(sep='-')[1]\n",
    "    corp.append(name)"
   ]
  },
  {
   "cell_type": "code",
   "execution_count": 33,
   "id": "8f84fd6b-4ec3-4a32-9c2a-446dc3d61d1d",
   "metadata": {
    "tags": []
   },
   "outputs": [],
   "source": [
    "df['name'] = corp"
   ]
  },
  {
   "cell_type": "code",
   "execution_count": 34,
   "id": "3099f4c7-745a-4b55-b193-2745c43dee79",
   "metadata": {
    "tags": []
   },
   "outputs": [],
   "source": [
    "import datetime as dt"
   ]
  },
  {
   "cell_type": "code",
   "execution_count": 35,
   "id": "2e821efe-f40f-446b-9d11-3bd005ef54c3",
   "metadata": {
    "tags": []
   },
   "outputs": [],
   "source": [
    "year =[]\n",
    "for dt in  df['date']:\n",
    "    y=dt.year\n",
    "    year.append(y)"
   ]
  },
  {
   "cell_type": "code",
   "execution_count": 36,
   "id": "0ee79ca0-500a-45fb-a32b-522fd1ce7163",
   "metadata": {
    "tags": []
   },
   "outputs": [],
   "source": [
    "month=[]\n",
    "for dt in  df['date']:\n",
    "    m=dt.month\n",
    "    month.append(m)"
   ]
  },
  {
   "cell_type": "code",
   "execution_count": 37,
   "id": "ce96807f-3682-44ef-8c67-a51968747410",
   "metadata": {
    "tags": []
   },
   "outputs": [],
   "source": [
    "df['year'] = year\n",
    "df['month'] = month"
   ]
  },
  {
   "cell_type": "code",
   "execution_count": 38,
   "id": "f31d3de1-e2aa-4e99-aa4a-cb66fa9a4967",
   "metadata": {
    "tags": []
   },
   "outputs": [],
   "source": [
    "df['pos']=0\n",
    "df['neg']=0"
   ]
  },
  {
   "cell_type": "code",
   "execution_count": 39,
   "id": "e3b24fcb-9661-4b66-81c5-b265e298ead3",
   "metadata": {
    "tags": []
   },
   "outputs": [],
   "source": [
    "for i,data in enumerate(df['polarity.label']):\n",
    "    if data==1:\n",
    "        df['pos'][i]=1\n",
    "    elif data==-1:\n",
    "        df['neg'][i]=-1\n",
    "        # print(1)"
   ]
  },
  {
   "cell_type": "code",
   "execution_count": 40,
   "id": "f0f6fb77-b5d3-45bc-97ff-90c319c51985",
   "metadata": {
    "tags": []
   },
   "outputs": [],
   "source": [
    "df_2019 = df[df['year']==2019]\n",
    "df_2020 = df[df['year']==2020]\n",
    "df_2021 = df[df['year']==2021]\n",
    "df_2022 = df[df['year']==2022]\n"
   ]
  },
  {
   "cell_type": "code",
   "execution_count": 41,
   "id": "ef52b724-42a2-4b39-9216-2c57549a15dd",
   "metadata": {
    "tags": []
   },
   "outputs": [
    {
     "data": {
      "text/html": [
       "<div>\n",
       "<style scoped>\n",
       "    .dataframe tbody tr th:only-of-type {\n",
       "        vertical-align: middle;\n",
       "    }\n",
       "\n",
       "    .dataframe tbody tr th {\n",
       "        vertical-align: top;\n",
       "    }\n",
       "\n",
       "    .dataframe thead th {\n",
       "        text-align: right;\n",
       "    }\n",
       "</style>\n",
       "<table border=\"1\" class=\"dataframe\">\n",
       "  <thead>\n",
       "    <tr style=\"text-align: right;\">\n",
       "      <th></th>\n",
       "      <th>date</th>\n",
       "      <th>category</th>\n",
       "      <th>section</th>\n",
       "      <th>publisher</th>\n",
       "      <th>author</th>\n",
       "      <th>title</th>\n",
       "      <th>content_url</th>\n",
       "      <th>attachment</th>\n",
       "      <th>industry.label</th>\n",
       "      <th>industry.score</th>\n",
       "      <th>...</th>\n",
       "      <th>polarity.score</th>\n",
       "      <th>polarity.name</th>\n",
       "      <th>corp</th>\n",
       "      <th>tokenized</th>\n",
       "      <th>del_stopword</th>\n",
       "      <th>name</th>\n",
       "      <th>year</th>\n",
       "      <th>month</th>\n",
       "      <th>pos</th>\n",
       "      <th>neg</th>\n",
       "    </tr>\n",
       "  </thead>\n",
       "  <tbody>\n",
       "    <tr>\n",
       "      <th>0</th>\n",
       "      <td>2019-12-30</td>\n",
       "      <td>news</td>\n",
       "      <td>economy</td>\n",
       "      <td>한국경제TV</td>\n",
       "      <td>라이온봇</td>\n",
       "      <td>YG PLUS, 주가 반등 현재는 +9.3%... 이 시각 50만3383주 거래</td>\n",
       "      <td>NaN</td>\n",
       "      <td>NaN</td>\n",
       "      <td>M71</td>\n",
       "      <td>1.000</td>\n",
       "      <td>...</td>\n",
       "      <td>0.900</td>\n",
       "      <td>긍정</td>\n",
       "      <td>DeepSearch-CMG제약-news-2019-01-01-2019-12-31-20...</td>\n",
       "      <td>NaN</td>\n",
       "      <td>NaN</td>\n",
       "      <td>CMG제약</td>\n",
       "      <td>2019</td>\n",
       "      <td>12</td>\n",
       "      <td>1</td>\n",
       "      <td>0</td>\n",
       "    </tr>\n",
       "    <tr>\n",
       "      <th>1</th>\n",
       "      <td>2019-12-18</td>\n",
       "      <td>news</td>\n",
       "      <td>economy</td>\n",
       "      <td>한국경제TV</td>\n",
       "      <td>라이온봇</td>\n",
       "      <td>써니전자, 상승출발 후 현재 +6.2%... 외국인 5,883주 순매수</td>\n",
       "      <td>NaN</td>\n",
       "      <td>NaN</td>\n",
       "      <td>C26</td>\n",
       "      <td>0.999</td>\n",
       "      <td>...</td>\n",
       "      <td>0.569</td>\n",
       "      <td>긍정</td>\n",
       "      <td>DeepSearch-CMG제약-news-2019-01-01-2019-12-31-20...</td>\n",
       "      <td>NaN</td>\n",
       "      <td>NaN</td>\n",
       "      <td>CMG제약</td>\n",
       "      <td>2019</td>\n",
       "      <td>12</td>\n",
       "      <td>1</td>\n",
       "      <td>0</td>\n",
       "    </tr>\n",
       "  </tbody>\n",
       "</table>\n",
       "<p>2 rows × 22 columns</p>\n",
       "</div>"
      ],
      "text/plain": [
       "        date category  section publisher author  \\\n",
       "0 2019-12-30     news  economy    한국경제TV   라이온봇   \n",
       "1 2019-12-18     news  economy    한국경제TV   라이온봇   \n",
       "\n",
       "                                          title  content_url  attachment  \\\n",
       "0  YG PLUS, 주가 반등 현재는 +9.3%... 이 시각 50만3383주 거래          NaN         NaN   \n",
       "1       써니전자, 상승출발 후 현재 +6.2%... 외국인 5,883주 순매수          NaN         NaN   \n",
       "\n",
       "  industry.label  industry.score  ... polarity.score  polarity.name  \\\n",
       "0            M71           1.000  ...          0.900             긍정   \n",
       "1            C26           0.999  ...          0.569             긍정   \n",
       "\n",
       "                                                corp tokenized del_stopword  \\\n",
       "0  DeepSearch-CMG제약-news-2019-01-01-2019-12-31-20...       NaN          NaN   \n",
       "1  DeepSearch-CMG제약-news-2019-01-01-2019-12-31-20...       NaN          NaN   \n",
       "\n",
       "    name  year month  pos  neg  \n",
       "0  CMG제약  2019    12    1    0  \n",
       "1  CMG제약  2019    12    1    0  \n",
       "\n",
       "[2 rows x 22 columns]"
      ]
     },
     "execution_count": 41,
     "metadata": {},
     "output_type": "execute_result"
    }
   ],
   "source": [
    "df_2019[:2]"
   ]
  },
  {
   "cell_type": "code",
   "execution_count": 42,
   "id": "338f587c-c031-4966-a951-d39e4bd2ce12",
   "metadata": {
    "tags": []
   },
   "outputs": [],
   "source": [
    "dflist_19=[]\n",
    "for i in range(1,13):\n",
    "    df_i = df_2019[df_2019['month']==i]\n",
    "    df_i = df_i.iloc[:,[17,19,20,21]]\n",
    "    dflist_19.append(df_i)"
   ]
  },
  {
   "cell_type": "code",
   "execution_count": 43,
   "id": "b1888a27-5a6e-4feb-8948-d1da64525e3b",
   "metadata": {
    "tags": []
   },
   "outputs": [],
   "source": [
    "dflist_20=[]\n",
    "for i in range(1,13):\n",
    "    df_i = df_2020[df_2020['month']==i]\n",
    "    df_i = df_i.iloc[:,[17,19,20,21]]\n",
    "    dflist_20.append(df_i)"
   ]
  },
  {
   "cell_type": "code",
   "execution_count": 44,
   "id": "bffe54f0-a454-4107-892d-176d31799214",
   "metadata": {
    "tags": []
   },
   "outputs": [],
   "source": [
    "dflist_21=[]\n",
    "for i in range(1,13):\n",
    "    df_i = df_2021[df_2021['month']==i]\n",
    "    df_i = df_i.iloc[:,[17,19,20,21]]\n",
    "    dflist_21.append(df_i)"
   ]
  },
  {
   "cell_type": "code",
   "execution_count": 45,
   "id": "d7cdeadd-7fc8-465a-b24f-076810ee3ea1",
   "metadata": {
    "tags": []
   },
   "outputs": [],
   "source": [
    "dflist_22=[]\n",
    "for i in range(1,13):\n",
    "    df_i = df_2022[df_2022['month']==i]\n",
    "    df_i = df_i.iloc[:,[17,19,20,21]]\n",
    "\n",
    "    dflist_22.append(df_i)"
   ]
  },
  {
   "cell_type": "code",
   "execution_count": 46,
   "id": "469ac68f-7c23-4663-bec7-4580b704053c",
   "metadata": {
    "tags": []
   },
   "outputs": [],
   "source": [
    "# dflist_19[0]"
   ]
  },
  {
   "cell_type": "code",
   "execution_count": 47,
   "id": "5efca004-57f3-44fa-9bd9-9e198880218b",
   "metadata": {
    "tags": []
   },
   "outputs": [],
   "source": [
    "dflist_19_1 = []\n",
    "for df in dflist_19:\n",
    "    tmp=df.groupby('name').sum()\n",
    "    dflist_19_1.append(tmp)"
   ]
  },
  {
   "cell_type": "code",
   "execution_count": 48,
   "id": "f3483bda-c837-4132-a819-7aaf5031ecd8",
   "metadata": {
    "tags": []
   },
   "outputs": [],
   "source": [
    "dflist_20_1 = []\n",
    "for df in dflist_20:\n",
    "    tmp=df.groupby('name').sum()\n",
    "    dflist_20_1.append(tmp)"
   ]
  },
  {
   "cell_type": "code",
   "execution_count": 49,
   "id": "da478623-19ae-4095-bd80-fac4ad607e27",
   "metadata": {
    "tags": []
   },
   "outputs": [],
   "source": [
    "dflist_21_1 = []\n",
    "for df in dflist_21:\n",
    "    tmp=df.groupby('name').sum()\n",
    "    dflist_21_1.append(tmp)"
   ]
  },
  {
   "cell_type": "code",
   "execution_count": 50,
   "id": "4132157c-0572-4d1a-a374-40b6a32f25ac",
   "metadata": {
    "tags": []
   },
   "outputs": [],
   "source": [
    "dflist_22_1 = []\n",
    "for df in dflist_22:\n",
    "    tmp=df.groupby('name').sum()\n",
    "    dflist_22_1.append(tmp)"
   ]
  },
  {
   "cell_type": "code",
   "execution_count": 51,
   "id": "b18b6595-dd39-496c-be3c-e99432dbb036",
   "metadata": {
    "tags": []
   },
   "outputs": [
    {
     "data": {
      "text/html": [
       "<div>\n",
       "<style scoped>\n",
       "    .dataframe tbody tr th:only-of-type {\n",
       "        vertical-align: middle;\n",
       "    }\n",
       "\n",
       "    .dataframe tbody tr th {\n",
       "        vertical-align: top;\n",
       "    }\n",
       "\n",
       "    .dataframe thead th {\n",
       "        text-align: right;\n",
       "    }\n",
       "</style>\n",
       "<table border=\"1\" class=\"dataframe\">\n",
       "  <thead>\n",
       "    <tr style=\"text-align: right;\">\n",
       "      <th></th>\n",
       "      <th>month</th>\n",
       "      <th>pos</th>\n",
       "      <th>neg</th>\n",
       "    </tr>\n",
       "    <tr>\n",
       "      <th>name</th>\n",
       "      <th></th>\n",
       "      <th></th>\n",
       "      <th></th>\n",
       "    </tr>\n",
       "  </thead>\n",
       "  <tbody>\n",
       "    <tr>\n",
       "      <th>CMG제약</th>\n",
       "      <td>3</td>\n",
       "      <td>2</td>\n",
       "      <td>0</td>\n",
       "    </tr>\n",
       "    <tr>\n",
       "      <th>HLB생명과학</th>\n",
       "      <td>2</td>\n",
       "      <td>2</td>\n",
       "      <td>0</td>\n",
       "    </tr>\n",
       "  </tbody>\n",
       "</table>\n",
       "</div>"
      ],
      "text/plain": [
       "         month  pos  neg\n",
       "name                    \n",
       "CMG제약        3    2    0\n",
       "HLB생명과학      2    2    0"
      ]
     },
     "execution_count": 51,
     "metadata": {},
     "output_type": "execute_result"
    }
   ],
   "source": [
    "dflist_22_1[0].head(2)"
   ]
  },
  {
   "cell_type": "markdown",
   "id": "2be3264c-fe44-4641-bc2c-96a81dbabcad",
   "metadata": {},
   "source": [
    "# 예쁘게"
   ]
  },
  {
   "cell_type": "code",
   "execution_count": 52,
   "id": "f94108e9-a1d2-4f68-af6e-01db1c391af9",
   "metadata": {
    "tags": []
   },
   "outputs": [
    {
     "data": {
      "text/html": [
       "<div>\n",
       "<style scoped>\n",
       "    .dataframe tbody tr th:only-of-type {\n",
       "        vertical-align: middle;\n",
       "    }\n",
       "\n",
       "    .dataframe tbody tr th {\n",
       "        vertical-align: top;\n",
       "    }\n",
       "\n",
       "    .dataframe thead th {\n",
       "        text-align: right;\n",
       "    }\n",
       "</style>\n",
       "<table border=\"1\" class=\"dataframe\">\n",
       "  <thead>\n",
       "    <tr style=\"text-align: right;\">\n",
       "      <th></th>\n",
       "      <th>name</th>\n",
       "      <th>ticker</th>\n",
       "    </tr>\n",
       "  </thead>\n",
       "  <tbody>\n",
       "    <tr>\n",
       "      <th>1</th>\n",
       "      <td>CMG제약</td>\n",
       "      <td>058820</td>\n",
       "    </tr>\n",
       "    <tr>\n",
       "      <th>2</th>\n",
       "      <td>HLB</td>\n",
       "      <td>028300</td>\n",
       "    </tr>\n",
       "  </tbody>\n",
       "</table>\n",
       "</div>"
      ],
      "text/plain": [
       "    name  ticker\n",
       "1  CMG제약  058820\n",
       "2    HLB  028300"
      ]
     },
     "execution_count": 52,
     "metadata": {},
     "output_type": "execute_result"
    }
   ],
   "source": [
    "ticker[:2]"
   ]
  },
  {
   "cell_type": "code",
   "execution_count": 53,
   "id": "d99beb83-5400-4015-ba01-94aa44ae64de",
   "metadata": {
    "tags": []
   },
   "outputs": [],
   "source": [
    "# dflist_19_2[0]"
   ]
  },
  {
   "cell_type": "code",
   "execution_count": 54,
   "id": "6a4b7864-1c09-4e53-8237-45c0cab38b9e",
   "metadata": {
    "tags": []
   },
   "outputs": [],
   "source": [
    "dflist_19_2=[]\n",
    "for i,df in enumerate(dflist_19_1):\n",
    "    df_i = df.reset_index()\n",
    "    df_i = df_i.drop('month', axis=1)\n",
    "    df_i['date'] = f'2019-{i+1}'\n",
    "    df_i = df_i[['name','date','pos','neg']]\n",
    "    dflist_19_2.append(df_i)"
   ]
  },
  {
   "cell_type": "code",
   "execution_count": 55,
   "id": "efb77392-3cc6-4fd9-a612-8ca52162eef7",
   "metadata": {
    "tags": []
   },
   "outputs": [],
   "source": [
    "dflist_20_2=[]\n",
    "for i,df in enumerate(dflist_20_1):\n",
    "    df_i = df.reset_index()\n",
    "    df_i['date'] = f'2020-{i+1}'\n",
    "    df_i = df_i[['name','date','pos','neg']]\n",
    "    dflist_20_2.append(df_i)"
   ]
  },
  {
   "cell_type": "code",
   "execution_count": 56,
   "id": "b69dedd9-6fb0-4dd0-a003-c052de5c9bcc",
   "metadata": {
    "tags": []
   },
   "outputs": [],
   "source": [
    "dflist_21_2=[]\n",
    "for i,df in enumerate(dflist_21_1):\n",
    "    df_i = df.reset_index()\n",
    "    df_i['date'] = f'2021-{i+1}'\n",
    "    df_i = df_i[['name','date','pos','neg']]\n",
    "    dflist_21_2.append(df_i)"
   ]
  },
  {
   "cell_type": "code",
   "execution_count": 57,
   "id": "0aa3ff8b-30b1-46f6-98e5-a6d9c243edf5",
   "metadata": {
    "tags": []
   },
   "outputs": [],
   "source": [
    "dflist_22_2=[]\n",
    "for i,df in enumerate(dflist_22_1):\n",
    "    df_i = df.reset_index()\n",
    "    df_i['date'] = f'2022-{i+1}'\n",
    "    df_i = df_i[['name','date','pos','neg']]\n",
    "    dflist_22_2.append(df_i)"
   ]
  },
  {
   "cell_type": "code",
   "execution_count": 58,
   "id": "8e128ab2-ec21-4490-b2d0-e183f2d0b21b",
   "metadata": {
    "tags": []
   },
   "outputs": [
    {
     "data": {
      "text/html": [
       "<div>\n",
       "<style scoped>\n",
       "    .dataframe tbody tr th:only-of-type {\n",
       "        vertical-align: middle;\n",
       "    }\n",
       "\n",
       "    .dataframe tbody tr th {\n",
       "        vertical-align: top;\n",
       "    }\n",
       "\n",
       "    .dataframe thead th {\n",
       "        text-align: right;\n",
       "    }\n",
       "</style>\n",
       "<table border=\"1\" class=\"dataframe\">\n",
       "  <thead>\n",
       "    <tr style=\"text-align: right;\">\n",
       "      <th></th>\n",
       "      <th>name</th>\n",
       "      <th>date</th>\n",
       "      <th>pos</th>\n",
       "      <th>neg</th>\n",
       "    </tr>\n",
       "  </thead>\n",
       "  <tbody>\n",
       "    <tr>\n",
       "      <th>0</th>\n",
       "      <td>CMG제약</td>\n",
       "      <td>2022-1</td>\n",
       "      <td>2</td>\n",
       "      <td>0</td>\n",
       "    </tr>\n",
       "    <tr>\n",
       "      <th>1</th>\n",
       "      <td>HLB생명과학</td>\n",
       "      <td>2022-1</td>\n",
       "      <td>2</td>\n",
       "      <td>0</td>\n",
       "    </tr>\n",
       "    <tr>\n",
       "      <th>2</th>\n",
       "      <td>JW생명과학</td>\n",
       "      <td>2022-1</td>\n",
       "      <td>0</td>\n",
       "      <td>0</td>\n",
       "    </tr>\n",
       "    <tr>\n",
       "      <th>3</th>\n",
       "      <td>JW신약</td>\n",
       "      <td>2022-1</td>\n",
       "      <td>6</td>\n",
       "      <td>0</td>\n",
       "    </tr>\n",
       "    <tr>\n",
       "      <th>4</th>\n",
       "      <td>JW중외제약</td>\n",
       "      <td>2022-1</td>\n",
       "      <td>2</td>\n",
       "      <td>-1</td>\n",
       "    </tr>\n",
       "    <tr>\n",
       "      <th>...</th>\n",
       "      <td>...</td>\n",
       "      <td>...</td>\n",
       "      <td>...</td>\n",
       "      <td>...</td>\n",
       "    </tr>\n",
       "    <tr>\n",
       "      <th>84</th>\n",
       "      <td>한미약품</td>\n",
       "      <td>2022-1</td>\n",
       "      <td>14</td>\n",
       "      <td>-2</td>\n",
       "    </tr>\n",
       "    <tr>\n",
       "      <th>85</th>\n",
       "      <td>한올바이오파마</td>\n",
       "      <td>2022-1</td>\n",
       "      <td>3</td>\n",
       "      <td>0</td>\n",
       "    </tr>\n",
       "    <tr>\n",
       "      <th>86</th>\n",
       "      <td>휴메딕스</td>\n",
       "      <td>2022-1</td>\n",
       "      <td>4</td>\n",
       "      <td>0</td>\n",
       "    </tr>\n",
       "    <tr>\n",
       "      <th>87</th>\n",
       "      <td>휴온스</td>\n",
       "      <td>2022-1</td>\n",
       "      <td>5</td>\n",
       "      <td>0</td>\n",
       "    </tr>\n",
       "    <tr>\n",
       "      <th>88</th>\n",
       "      <td>휴온스글로벌</td>\n",
       "      <td>2022-1</td>\n",
       "      <td>0</td>\n",
       "      <td>0</td>\n",
       "    </tr>\n",
       "  </tbody>\n",
       "</table>\n",
       "<p>89 rows × 4 columns</p>\n",
       "</div>"
      ],
      "text/plain": [
       "       name    date  pos  neg\n",
       "0     CMG제약  2022-1    2    0\n",
       "1   HLB생명과학  2022-1    2    0\n",
       "2    JW생명과학  2022-1    0    0\n",
       "3      JW신약  2022-1    6    0\n",
       "4    JW중외제약  2022-1    2   -1\n",
       "..      ...     ...  ...  ...\n",
       "84     한미약품  2022-1   14   -2\n",
       "85  한올바이오파마  2022-1    3    0\n",
       "86     휴메딕스  2022-1    4    0\n",
       "87      휴온스  2022-1    5    0\n",
       "88   휴온스글로벌  2022-1    0    0\n",
       "\n",
       "[89 rows x 4 columns]"
      ]
     },
     "execution_count": 58,
     "metadata": {},
     "output_type": "execute_result"
    }
   ],
   "source": [
    "dflist_22_2[0]"
   ]
  },
  {
   "cell_type": "markdown",
   "id": "e54b7830-b12a-4323-b2fa-951e1cbaf226",
   "metadata": {},
   "source": [
    "# merge - 없는 기업들도 df에 있기는 해야함"
   ]
  },
  {
   "cell_type": "code",
   "execution_count": 59,
   "id": "a86cfa2b-00c0-4276-9dec-a7ee4bac00a4",
   "metadata": {
    "tags": []
   },
   "outputs": [],
   "source": [
    "# merge_2019 = pd.merge(ticker,df_2019, how='left', left_on='name', right_on='name')\n",
    "# merge_2019 = merge_2019.drop('ticker',axis=1)\n",
    "# merge_2019['date'] = 2019\n",
    "# # merge_2019[10:20]"
   ]
  },
  {
   "cell_type": "code",
   "execution_count": 60,
   "id": "178442aa-f6e9-4796-bf9b-a17878f2eb07",
   "metadata": {
    "tags": []
   },
   "outputs": [],
   "source": [
    "dflist_19_3=[]\n",
    "for i,df in enumerate(dflist_19_2):\n",
    "    merge_df = pd.merge(ticker,df, how='left', left_on='name', right_on='name')\n",
    "    merge_df = merge_df.drop('ticker',axis=1)\n",
    "    merge_df['date'] = f'2019-{i+1}'\n",
    "    dflist_19_3.append(merge_df)"
   ]
  },
  {
   "cell_type": "code",
   "execution_count": 61,
   "id": "5cfecc54-5fac-4986-98ec-c0a0ad063be5",
   "metadata": {
    "tags": []
   },
   "outputs": [
    {
     "data": {
      "text/html": [
       "<div>\n",
       "<style scoped>\n",
       "    .dataframe tbody tr th:only-of-type {\n",
       "        vertical-align: middle;\n",
       "    }\n",
       "\n",
       "    .dataframe tbody tr th {\n",
       "        vertical-align: top;\n",
       "    }\n",
       "\n",
       "    .dataframe thead th {\n",
       "        text-align: right;\n",
       "    }\n",
       "</style>\n",
       "<table border=\"1\" class=\"dataframe\">\n",
       "  <thead>\n",
       "    <tr style=\"text-align: right;\">\n",
       "      <th></th>\n",
       "      <th>name</th>\n",
       "      <th>date</th>\n",
       "      <th>pos</th>\n",
       "      <th>neg</th>\n",
       "    </tr>\n",
       "  </thead>\n",
       "  <tbody>\n",
       "    <tr>\n",
       "      <th>0</th>\n",
       "      <td>CMG제약</td>\n",
       "      <td>2019-6</td>\n",
       "      <td>1.0</td>\n",
       "      <td>0.0</td>\n",
       "    </tr>\n",
       "    <tr>\n",
       "      <th>1</th>\n",
       "      <td>HLB</td>\n",
       "      <td>2019-6</td>\n",
       "      <td>2.0</td>\n",
       "      <td>0.0</td>\n",
       "    </tr>\n",
       "  </tbody>\n",
       "</table>\n",
       "</div>"
      ],
      "text/plain": [
       "    name    date  pos  neg\n",
       "0  CMG제약  2019-6  1.0  0.0\n",
       "1    HLB  2019-6  2.0  0.0"
      ]
     },
     "execution_count": 61,
     "metadata": {},
     "output_type": "execute_result"
    }
   ],
   "source": [
    "dflist_19_3[5].head(2)"
   ]
  },
  {
   "cell_type": "code",
   "execution_count": 62,
   "id": "6c85773e-b144-40f3-80a0-bf28f799808e",
   "metadata": {
    "tags": []
   },
   "outputs": [],
   "source": [
    "dflist_20_3=[]\n",
    "for i,df in enumerate(dflist_20_2):\n",
    "    merge_df = pd.merge(ticker,df, how='left', left_on='name', right_on='name')\n",
    "    merge_df = merge_df.drop('ticker',axis=1)\n",
    "    merge_df['date'] = f'2020-{i+1}'\n",
    "    dflist_20_3.append(merge_df)"
   ]
  },
  {
   "cell_type": "code",
   "execution_count": 63,
   "id": "180f3ee9-2de4-4a83-acc5-8445d28f2ffa",
   "metadata": {
    "tags": []
   },
   "outputs": [],
   "source": [
    "dflist_21_3=[]\n",
    "for i,df in enumerate(dflist_21_2):\n",
    "    merge_df = pd.merge(ticker,df, how='left', left_on='name', right_on='name')\n",
    "    merge_df = merge_df.drop('ticker',axis=1)\n",
    "    merge_df['date'] = f'2021-{i+1}'\n",
    "    dflist_21_3.append(merge_df)"
   ]
  },
  {
   "cell_type": "code",
   "execution_count": 64,
   "id": "ce0c67c1-5127-4993-85c5-e8749b9c1d2e",
   "metadata": {
    "tags": []
   },
   "outputs": [],
   "source": [
    "dflist_22_3=[]\n",
    "for i,df in enumerate(dflist_22_2):\n",
    "    merge_df = pd.merge(ticker,df, how='left', left_on='name', right_on='name')\n",
    "    merge_df = merge_df.drop('ticker',axis=1)\n",
    "    merge_df['date'] = f'2022-{i+1}'\n",
    "    dflist_22_3.append(merge_df)"
   ]
  },
  {
   "cell_type": "code",
   "execution_count": 65,
   "id": "ae4d5f4e-dfd5-4d33-90d9-9ea33b08e966",
   "metadata": {
    "tags": []
   },
   "outputs": [
    {
     "data": {
      "text/plain": [
       "126"
      ]
     },
     "execution_count": 65,
     "metadata": {},
     "output_type": "execute_result"
    }
   ],
   "source": [
    "len(dflist_22_3[5])"
   ]
  },
  {
   "cell_type": "code",
   "execution_count": 66,
   "id": "b4e4589f-2f4a-401d-9a1a-6c1a17c654ec",
   "metadata": {
    "tags": []
   },
   "outputs": [
    {
     "data": {
      "text/html": [
       "<div>\n",
       "<style scoped>\n",
       "    .dataframe tbody tr th:only-of-type {\n",
       "        vertical-align: middle;\n",
       "    }\n",
       "\n",
       "    .dataframe tbody tr th {\n",
       "        vertical-align: top;\n",
       "    }\n",
       "\n",
       "    .dataframe thead th {\n",
       "        text-align: right;\n",
       "    }\n",
       "</style>\n",
       "<table border=\"1\" class=\"dataframe\">\n",
       "  <thead>\n",
       "    <tr style=\"text-align: right;\">\n",
       "      <th></th>\n",
       "      <th>name</th>\n",
       "      <th>date</th>\n",
       "      <th>pos</th>\n",
       "      <th>neg</th>\n",
       "    </tr>\n",
       "  </thead>\n",
       "  <tbody>\n",
       "    <tr>\n",
       "      <th>0</th>\n",
       "      <td>CMG제약</td>\n",
       "      <td>2020-6</td>\n",
       "      <td>NaN</td>\n",
       "      <td>NaN</td>\n",
       "    </tr>\n",
       "    <tr>\n",
       "      <th>1</th>\n",
       "      <td>HLB</td>\n",
       "      <td>2020-6</td>\n",
       "      <td>2.0</td>\n",
       "      <td>0.0</td>\n",
       "    </tr>\n",
       "  </tbody>\n",
       "</table>\n",
       "</div>"
      ],
      "text/plain": [
       "    name    date  pos  neg\n",
       "0  CMG제약  2020-6  NaN  NaN\n",
       "1    HLB  2020-6  2.0  0.0"
      ]
     },
     "execution_count": 66,
     "metadata": {},
     "output_type": "execute_result"
    }
   ],
   "source": [
    "dflist_20_3[5].head(2)"
   ]
  },
  {
   "cell_type": "code",
   "execution_count": 67,
   "id": "dd533641-52a7-418e-ab7b-f4519bb01be0",
   "metadata": {
    "tags": []
   },
   "outputs": [],
   "source": [
    "# dflist_19_3[0]"
   ]
  },
  {
   "cell_type": "code",
   "execution_count": 68,
   "id": "9d74442b-7772-4947-8bbb-dec3ad50b157",
   "metadata": {
    "tags": []
   },
   "outputs": [],
   "source": [
    "# dflist_19_4 = pd.DataFrame()\n",
    "# for df in dflist_19_3:\n",
    "#     dflist_19_4.append(df)"
   ]
  },
  {
   "cell_type": "code",
   "execution_count": 69,
   "id": "558c05b9-0fc8-49c5-9d58-d93de3b7467c",
   "metadata": {
    "tags": []
   },
   "outputs": [],
   "source": [
    "dflist_19_3 = pd.concat(dflist_19_3)\n",
    "dflist_20_3 = pd.concat(dflist_20_3)\n",
    "dflist_21_3 = pd.concat(dflist_21_3)\n",
    "dflist_22_3 = pd.concat(dflist_22_3)\n"
   ]
  },
  {
   "cell_type": "code",
   "execution_count": 70,
   "id": "a7221a48-a946-4dfc-9dd2-86636dc7d36f",
   "metadata": {
    "tags": []
   },
   "outputs": [],
   "source": [
    "# dflist_19_3[:2]"
   ]
  },
  {
   "cell_type": "code",
   "execution_count": 71,
   "id": "1d9deec4-e155-464f-966d-2a80cdcb4536",
   "metadata": {
    "tags": []
   },
   "outputs": [],
   "source": [
    "news_월간_19_22 = pd.concat([dflist_19_3,dflist_20_3,dflist_21_3,dflist_22_3])"
   ]
  },
  {
   "cell_type": "code",
   "execution_count": 72,
   "id": "314b53e1-b5dc-4ba1-81da-960b8425234c",
   "metadata": {
    "tags": []
   },
   "outputs": [
    {
     "data": {
      "text/plain": [
       "6048"
      ]
     },
     "execution_count": 72,
     "metadata": {},
     "output_type": "execute_result"
    }
   ],
   "source": [
    "len(news_월간_19_22)"
   ]
  },
  {
   "cell_type": "code",
   "execution_count": 73,
   "id": "f6be91b8-0421-408c-bfb5-0c38592f6956",
   "metadata": {
    "tags": []
   },
   "outputs": [],
   "source": [
    "news_월간_19_22.to_csv('./news_월간(19-22).csv', index=False)"
   ]
  }
 ],
 "metadata": {
  "kernelspec": {
   "display_name": "Python 3 (ipykernel)",
   "language": "python",
   "name": "python3"
  },
  "language_info": {
   "codemirror_mode": {
    "name": "ipython",
    "version": 3
   },
   "file_extension": ".py",
   "mimetype": "text/x-python",
   "name": "python",
   "nbconvert_exporter": "python",
   "pygments_lexer": "ipython3",
   "version": "3.8.8"
  }
 },
 "nbformat": 4,
 "nbformat_minor": 5
}
