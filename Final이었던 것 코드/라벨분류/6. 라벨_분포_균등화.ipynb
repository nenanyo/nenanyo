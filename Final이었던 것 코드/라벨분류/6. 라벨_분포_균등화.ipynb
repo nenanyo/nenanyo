{
 "cells": [
  {
   "cell_type": "code",
   "execution_count": 1,
   "id": "d950d4ef-01b2-4a29-8c01-a93b6d010990",
   "metadata": {
    "id": "Qww_V4GzhgoS"
   },
   "outputs": [],
   "source": [
    "import pandas as pd\n",
    "import numpy as np\n",
    "import matplotlib.pyplot as plt\n",
    "from sklearn.model_selection import train_test_split\n",
    "import re\n",
    "import urllib.request\n",
    "import mecab\n",
    "from tqdm import tqdm\n",
    "from tensorflow.keras.preprocessing.text import Tokenizer\n",
    "from tensorflow.keras.preprocessing.sequence import pad_sequences\n",
    "import tensorflow as tf\n",
    "from tensorflow.keras.layers import Embedding, Dense, LSTM\n",
    "from tensorflow.keras.models import Sequential\n",
    "from tensorflow.keras.models import load_model\n",
    "from tensorflow.keras.utils import to_categorical\n",
    "from tensorflow.keras.callbacks import EarlyStopping, ModelCheckpoint\n",
    "import warnings\n",
    "warnings.filterwarnings(action='ignore')"
   ]
  },
  {
   "cell_type": "markdown",
   "id": "26bd243c-fb36-4df3-96c1-9f20707ffb37",
   "metadata": {},
   "source": [
    "# data load"
   ]
  },
  {
   "cell_type": "markdown",
   "id": "68b76866-85e2-4a08-8290-421cdb955a17",
   "metadata": {},
   "source": [
    "## 뉴스데이터"
   ]
  },
  {
   "cell_type": "code",
   "execution_count": 2,
   "id": "d3d0ed7a-91d3-4745-85fd-a17a36079eba",
   "metadata": {},
   "outputs": [],
   "source": [
    "path = '..\\데이터\\기업별 뉴스'"
   ]
  },
  {
   "cell_type": "code",
   "execution_count": 3,
   "id": "11d2ac7f-320f-4b75-8d18-e0453d9b7973",
   "metadata": {
    "tags": []
   },
   "outputs": [
    {
     "data": {
      "text/plain": [
       "140"
      ]
     },
     "execution_count": 3,
     "metadata": {},
     "output_type": "execute_result"
    }
   ],
   "source": [
    "import os\n",
    "file_list = os.listdir(path)\n",
    "len(file_list)"
   ]
  },
  {
   "cell_type": "code",
   "execution_count": 4,
   "id": "db984109-84ee-468f-8c97-7e5ba82421b3",
   "metadata": {
    "tags": []
   },
   "outputs": [],
   "source": [
    "file_name = []\n",
    "for file in file_list:\n",
    "    if file.count(\".\") == 1: \n",
    "        name = file.split('.')[0]\n",
    "        file_name.append(name)\n",
    "    # else:\n",
    "    #     for k in range(len(file)-1,0,-1):\n",
    "    #         if file[k]=='.':\n",
    "    #             file_name.append(file[:k])\n",
    "    #             break"
   ]
  },
  {
   "cell_type": "code",
   "execution_count": 5,
   "id": "bd205663-1e95-4530-9042-8d760ae38cd7",
   "metadata": {
    "tags": []
   },
   "outputs": [
    {
     "data": {
      "text/plain": [
       "['CMG제약', 'HLB생명과학', 'JW생명과학', 'JW신약', 'JW중외제약']"
      ]
     },
     "execution_count": 5,
     "metadata": {},
     "output_type": "execute_result"
    }
   ],
   "source": [
    "file_name[:5]"
   ]
  },
  {
   "cell_type": "code",
   "execution_count": 6,
   "id": "f42b57f5-22e7-4470-8f32-257f199b87dc",
   "metadata": {
    "tags": []
   },
   "outputs": [
    {
     "data": {
      "text/plain": [
       "140"
      ]
     },
     "execution_count": 6,
     "metadata": {},
     "output_type": "execute_result"
    }
   ],
   "source": [
    "df1 = []\n",
    "for 기업 in file_name:\n",
    "    df =pd.read_excel(f\"../데이터/기업별 뉴스/{기업}.xlsx\",sheet_name='#02 Documents')#,header=0,skiprows=[1,2])\n",
    "    # df = df[['Unnamed: 2','20221231','20211231','20201231','20191231','20181231']]\n",
    "    df = pd.DataFrame(df)\n",
    "    df1.append(df)\n",
    "len(df1)"
   ]
  },
  {
   "cell_type": "code",
   "execution_count": 7,
   "id": "70e3d3db-e858-423a-9b67-f5c21c7b06be",
   "metadata": {
    "tags": []
   },
   "outputs": [],
   "source": [
    "df2 =[]\n",
    "for df in df1:\n",
    "    df = df[['title','polarity.label']]\n",
    "    df['polarity.label'] = df['polarity.label'].replace(-1,2)\n",
    "    # dupli = df[df.duplicated()]\n",
    "    df.drop_duplicates(subset=['title'], inplace=True)\n",
    "    df2.append(df)\n",
    "    # duplicate_list.append(dupli)"
   ]
  },
  {
   "cell_type": "code",
   "execution_count": 8,
   "id": "22cf4ddd-eabe-4202-80af-701deab25b00",
   "metadata": {
    "tags": []
   },
   "outputs": [
    {
     "data": {
      "text/plain": [
       "140"
      ]
     },
     "execution_count": 8,
     "metadata": {},
     "output_type": "execute_result"
    }
   ],
   "source": [
    "len(df2)"
   ]
  },
  {
   "cell_type": "code",
   "execution_count": 9,
   "id": "a8956494-043b-4f98-8d25-810cfde7112d",
   "metadata": {
    "tags": []
   },
   "outputs": [
    {
     "data": {
      "text/html": [
       "<div>\n",
       "<style scoped>\n",
       "    .dataframe tbody tr th:only-of-type {\n",
       "        vertical-align: middle;\n",
       "    }\n",
       "\n",
       "    .dataframe tbody tr th {\n",
       "        vertical-align: top;\n",
       "    }\n",
       "\n",
       "    .dataframe thead th {\n",
       "        text-align: right;\n",
       "    }\n",
       "</style>\n",
       "<table border=\"1\" class=\"dataframe\">\n",
       "  <thead>\n",
       "    <tr style=\"text-align: right;\">\n",
       "      <th></th>\n",
       "      <th>title</th>\n",
       "      <th>polarity.label</th>\n",
       "    </tr>\n",
       "  </thead>\n",
       "  <tbody>\n",
       "    <tr>\n",
       "      <th>0</th>\n",
       "      <td>[취재 일지]세계는 여전히 ‘건기식’ 열풍… 경쟁력 높이려면 식약처 기준 완화돼야</td>\n",
       "      <td>NaN</td>\n",
       "    </tr>\n",
       "    <tr>\n",
       "      <th>1</th>\n",
       "      <td>어린이 프로바이오틱스, 유산균도 가격도 천차만별…따져보고 사야</td>\n",
       "      <td>NaN</td>\n",
       "    </tr>\n",
       "  </tbody>\n",
       "</table>\n",
       "</div>"
      ],
      "text/plain": [
       "                                           title  polarity.label\n",
       "0  [취재 일지]세계는 여전히 ‘건기식’ 열풍… 경쟁력 높이려면 식약처 기준 완화돼야             NaN\n",
       "1             어린이 프로바이오틱스, 유산균도 가격도 천차만별…따져보고 사야             NaN"
      ]
     },
     "execution_count": 9,
     "metadata": {},
     "output_type": "execute_result"
    }
   ],
   "source": [
    "df2[49].head(2)"
   ]
  },
  {
   "cell_type": "code",
   "execution_count": 10,
   "id": "135679da-f54a-433c-97c2-83afb5ef288a",
   "metadata": {
    "tags": []
   },
   "outputs": [],
   "source": [
    "train = []\n",
    "test  = []\n",
    "for df in df2:\n",
    "    tmp_train = df[df['polarity.label'].notna()]\n",
    "    tmp_test = df[df['polarity.label'].isna()]\n",
    "    train.append(tmp_train)\n",
    "    test.append(tmp_test)"
   ]
  },
  {
   "cell_type": "code",
   "execution_count": 11,
   "id": "bd7641d0-e0dc-4e44-bfa7-1be9801f70c5",
   "metadata": {
    "tags": []
   },
   "outputs": [
    {
     "data": {
      "text/plain": [
       "(140, 140)"
      ]
     },
     "execution_count": 11,
     "metadata": {},
     "output_type": "execute_result"
    }
   ],
   "source": [
    "len(train), len(test)"
   ]
  },
  {
   "cell_type": "code",
   "execution_count": 12,
   "id": "76eb01aa-e20e-41f1-8e32-b049cf54dac2",
   "metadata": {
    "tags": []
   },
   "outputs": [],
   "source": [
    "test1 =[]\n",
    "for df in test:\n",
    "    # df['tokenized'] = df['title'].apply(mecab.morphs)\n",
    "    df['labels'] = df['polarity.label']\n",
    "    df = df.drop('polarity.label', axis = 1)\n",
    "    # df = df[['labels','tokenized']]\n",
    "    test1.append(df)"
   ]
  },
  {
   "cell_type": "code",
   "execution_count": 13,
   "id": "773d16b3-ec5a-4999-be75-bb5fa9b2a343",
   "metadata": {
    "tags": []
   },
   "outputs": [],
   "source": [
    "train1 =[]\n",
    "for df in train:\n",
    "    df['labels'] = df['polarity.label']\n",
    "    df = df.drop('polarity.label', axis = 1)\n",
    "    train1.append(df)"
   ]
  },
  {
   "cell_type": "code",
   "execution_count": 14,
   "id": "9d79b327-72ab-4e42-a9ee-64afe8f5515c",
   "metadata": {
    "tags": []
   },
   "outputs": [
    {
     "name": "stdout",
     "output_type": "stream",
     "text": [
      "<class 'pandas.core.frame.DataFrame'>\n",
      "Int64Index: 22828 entries, 0 to 411\n",
      "Data columns (total 2 columns):\n",
      " #   Column  Non-Null Count  Dtype  \n",
      "---  ------  --------------  -----  \n",
      " 0   title   22828 non-null  object \n",
      " 1   labels  0 non-null      float64\n",
      "dtypes: float64(1), object(1)\n",
      "memory usage: 535.0+ KB\n"
     ]
    }
   ],
   "source": [
    "test_df = pd.concat(test1, axis = 0)\n",
    "test_df.info()"
   ]
  },
  {
   "cell_type": "code",
   "execution_count": 15,
   "id": "e5e41763-735f-48fd-b028-1204b774a953",
   "metadata": {
    "tags": []
   },
   "outputs": [
    {
     "name": "stdout",
     "output_type": "stream",
     "text": [
      "<class 'pandas.core.frame.DataFrame'>\n",
      "Int64Index: 18038 entries, 2 to 408\n",
      "Data columns (total 2 columns):\n",
      " #   Column  Non-Null Count  Dtype  \n",
      "---  ------  --------------  -----  \n",
      " 0   title   18038 non-null  object \n",
      " 1   labels  18038 non-null  float64\n",
      "dtypes: float64(1), object(1)\n",
      "memory usage: 422.8+ KB\n"
     ]
    }
   ],
   "source": [
    "train_df = pd.concat(train1, axis = 0)\n",
    "train_df.info()"
   ]
  },
  {
   "cell_type": "code",
   "execution_count": 16,
   "id": "25e73221-2e27-4434-9191-df5a3c8f8723",
   "metadata": {
    "tags": []
   },
   "outputs": [
    {
     "data": {
      "text/plain": [
       "22828"
      ]
     },
     "execution_count": 16,
     "metadata": {},
     "output_type": "execute_result"
    }
   ],
   "source": [
    "len(test_df)"
   ]
  },
  {
   "cell_type": "code",
   "execution_count": 17,
   "id": "14e515d3-7f30-4da6-8647-f35cefb7b1aa",
   "metadata": {
    "tags": []
   },
   "outputs": [],
   "source": [
    "# test_df\n"
   ]
  },
  {
   "cell_type": "markdown",
   "id": "14767b80-0da5-44e3-ab82-9a8c60a297c8",
   "metadata": {},
   "source": [
    "## 금융뉴스 데이터"
   ]
  },
  {
   "cell_type": "code",
   "execution_count": 18,
   "id": "025cba3f-1478-4693-abbe-a8b95750f8c2",
   "metadata": {
    "colab": {
     "base_uri": "https://localhost:8080/"
    },
    "id": "8wC6Rnt6iCxB",
    "outputId": "f489900c-6d72-4183-83a7-328a837273c2"
   },
   "outputs": [
    {
     "data": {
      "text/plain": [
       "('finance_data.csv', <http.client.HTTPMessage at 0x186020e9a90>)"
      ]
     },
     "execution_count": 18,
     "metadata": {},
     "output_type": "execute_result"
    }
   ],
   "source": [
    "urllib.request.urlretrieve(\"https://raw.githubusercontent.com/ukairia777/finance_sentiment_corpus/main/finance_data.csv\", filename=\"finance_data.csv\")"
   ]
  },
  {
   "cell_type": "code",
   "execution_count": 19,
   "id": "fbe05632-89cc-4552-afb1-858e455c5aef",
   "metadata": {
    "colab": {
     "base_uri": "https://localhost:8080/"
    },
    "id": "1aP870z3iRc_",
    "outputId": "aa6bad91-af8f-462d-c71c-cc3c68f960ae"
   },
   "outputs": [
    {
     "name": "stdout",
     "output_type": "stream",
     "text": [
      "총 샘플의 수 : 4846\n"
     ]
    }
   ],
   "source": [
    "data = pd.read_csv('finance_data.csv')\n",
    "print('총 샘플의 수 :',len(data))"
   ]
  },
  {
   "cell_type": "code",
   "execution_count": 20,
   "id": "80a48539-8cac-4e47-88bb-5ffadb5bb789",
   "metadata": {
    "colab": {
     "base_uri": "https://localhost:8080/",
     "height": 206
    },
    "id": "t9XJj_iziaYh",
    "outputId": "aa2122a8-b989-421c-cf02-e6b1e5ae6359"
   },
   "outputs": [
    {
     "data": {
      "text/html": [
       "<div>\n",
       "<style scoped>\n",
       "    .dataframe tbody tr th:only-of-type {\n",
       "        vertical-align: middle;\n",
       "    }\n",
       "\n",
       "    .dataframe tbody tr th {\n",
       "        vertical-align: top;\n",
       "    }\n",
       "\n",
       "    .dataframe thead th {\n",
       "        text-align: right;\n",
       "    }\n",
       "</style>\n",
       "<table border=\"1\" class=\"dataframe\">\n",
       "  <thead>\n",
       "    <tr style=\"text-align: right;\">\n",
       "      <th></th>\n",
       "      <th>labels</th>\n",
       "      <th>sentence</th>\n",
       "      <th>title</th>\n",
       "    </tr>\n",
       "  </thead>\n",
       "  <tbody>\n",
       "    <tr>\n",
       "      <th>0</th>\n",
       "      <td>0</td>\n",
       "      <td>According to Gran, the company has no plans to...</td>\n",
       "      <td>Gran에 따르면, 그 회사는 회사가 성장하고 있는 곳이지만, 모든 생산을 러시아로...</td>\n",
       "    </tr>\n",
       "    <tr>\n",
       "      <th>1</th>\n",
       "      <td>0</td>\n",
       "      <td>Technopolis plans to develop in stages an area...</td>\n",
       "      <td>테크노폴리스는 컴퓨터 기술과 통신 분야에서 일하는 회사들을 유치하기 위해 10만 평...</td>\n",
       "    </tr>\n",
       "    <tr>\n",
       "      <th>2</th>\n",
       "      <td>2</td>\n",
       "      <td>The international electronic industry company ...</td>\n",
       "      <td>국제 전자산업 회사인 엘코텍은 탈린 공장에서 수십 명의 직원을 해고했으며, 이전의 ...</td>\n",
       "    </tr>\n",
       "    <tr>\n",
       "      <th>3</th>\n",
       "      <td>1</td>\n",
       "      <td>With the new production plant the company woul...</td>\n",
       "      <td>새로운 생산공장으로 인해 회사는 예상되는 수요 증가를 충족시킬 수 있는 능력을 증가...</td>\n",
       "    </tr>\n",
       "    <tr>\n",
       "      <th>4</th>\n",
       "      <td>1</td>\n",
       "      <td>According to the company's updated strategy fo...</td>\n",
       "      <td>2009-2012년 회사의 업데이트된 전략에 따르면, Basware는 20% - 4...</td>\n",
       "    </tr>\n",
       "  </tbody>\n",
       "</table>\n",
       "</div>"
      ],
      "text/plain": [
       "   labels                                           sentence  \\\n",
       "0       0  According to Gran, the company has no plans to...   \n",
       "1       0  Technopolis plans to develop in stages an area...   \n",
       "2       2  The international electronic industry company ...   \n",
       "3       1  With the new production plant the company woul...   \n",
       "4       1  According to the company's updated strategy fo...   \n",
       "\n",
       "                                               title  \n",
       "0  Gran에 따르면, 그 회사는 회사가 성장하고 있는 곳이지만, 모든 생산을 러시아로...  \n",
       "1  테크노폴리스는 컴퓨터 기술과 통신 분야에서 일하는 회사들을 유치하기 위해 10만 평...  \n",
       "2  국제 전자산업 회사인 엘코텍은 탈린 공장에서 수십 명의 직원을 해고했으며, 이전의 ...  \n",
       "3  새로운 생산공장으로 인해 회사는 예상되는 수요 증가를 충족시킬 수 있는 능력을 증가...  \n",
       "4  2009-2012년 회사의 업데이트된 전략에 따르면, Basware는 20% - 4...  "
      ]
     },
     "execution_count": 20,
     "metadata": {},
     "output_type": "execute_result"
    }
   ],
   "source": [
    "data['labels'] = data['labels'].replace(['neutral', 'positive', 'negative'],[0, 1, 2])\n",
    "data['title'] = data['kor_sentence']\n",
    "data = data.drop('kor_sentence',axis=1)\n",
    "data[:5]"
   ]
  },
  {
   "cell_type": "code",
   "execution_count": 21,
   "id": "e25a7e9c-1d3f-4922-ab0e-c4aee0c88e4a",
   "metadata": {
    "id": "RNyrW0ynix3O"
   },
   "outputs": [],
   "source": [
    "del data['sentence']"
   ]
  },
  {
   "cell_type": "code",
   "execution_count": 22,
   "id": "2bbb9d4f-f5ad-42ae-add6-7e87405f9971",
   "metadata": {
    "tags": []
   },
   "outputs": [
    {
     "data": {
      "text/html": [
       "<div>\n",
       "<style scoped>\n",
       "    .dataframe tbody tr th:only-of-type {\n",
       "        vertical-align: middle;\n",
       "    }\n",
       "\n",
       "    .dataframe tbody tr th {\n",
       "        vertical-align: top;\n",
       "    }\n",
       "\n",
       "    .dataframe thead th {\n",
       "        text-align: right;\n",
       "    }\n",
       "</style>\n",
       "<table border=\"1\" class=\"dataframe\">\n",
       "  <thead>\n",
       "    <tr style=\"text-align: right;\">\n",
       "      <th></th>\n",
       "      <th>labels</th>\n",
       "      <th>title</th>\n",
       "    </tr>\n",
       "  </thead>\n",
       "  <tbody>\n",
       "    <tr>\n",
       "      <th>0</th>\n",
       "      <td>0</td>\n",
       "      <td>Gran에 따르면, 그 회사는 회사가 성장하고 있는 곳이지만, 모든 생산을 러시아로...</td>\n",
       "    </tr>\n",
       "    <tr>\n",
       "      <th>1</th>\n",
       "      <td>0</td>\n",
       "      <td>테크노폴리스는 컴퓨터 기술과 통신 분야에서 일하는 회사들을 유치하기 위해 10만 평...</td>\n",
       "    </tr>\n",
       "    <tr>\n",
       "      <th>2</th>\n",
       "      <td>2</td>\n",
       "      <td>국제 전자산업 회사인 엘코텍은 탈린 공장에서 수십 명의 직원을 해고했으며, 이전의 ...</td>\n",
       "    </tr>\n",
       "    <tr>\n",
       "      <th>3</th>\n",
       "      <td>1</td>\n",
       "      <td>새로운 생산공장으로 인해 회사는 예상되는 수요 증가를 충족시킬 수 있는 능력을 증가...</td>\n",
       "    </tr>\n",
       "    <tr>\n",
       "      <th>4</th>\n",
       "      <td>1</td>\n",
       "      <td>2009-2012년 회사의 업데이트된 전략에 따르면, Basware는 20% - 4...</td>\n",
       "    </tr>\n",
       "  </tbody>\n",
       "</table>\n",
       "</div>"
      ],
      "text/plain": [
       "   labels                                              title\n",
       "0       0  Gran에 따르면, 그 회사는 회사가 성장하고 있는 곳이지만, 모든 생산을 러시아로...\n",
       "1       0  테크노폴리스는 컴퓨터 기술과 통신 분야에서 일하는 회사들을 유치하기 위해 10만 평...\n",
       "2       2  국제 전자산업 회사인 엘코텍은 탈린 공장에서 수십 명의 직원을 해고했으며, 이전의 ...\n",
       "3       1  새로운 생산공장으로 인해 회사는 예상되는 수요 증가를 충족시킬 수 있는 능력을 증가...\n",
       "4       1  2009-2012년 회사의 업데이트된 전략에 따르면, Basware는 20% - 4..."
      ]
     },
     "execution_count": 22,
     "metadata": {},
     "output_type": "execute_result"
    }
   ],
   "source": [
    "data[:5]"
   ]
  },
  {
   "cell_type": "markdown",
   "id": "232f7bd2-7a72-46f5-b09e-951d5be2bbb3",
   "metadata": {},
   "source": [
    "## 중복제거"
   ]
  },
  {
   "cell_type": "code",
   "execution_count": 23,
   "id": "994939d1-0cea-401b-a5a5-a0093f769aed",
   "metadata": {
    "id": "cks_QRBfjKBU"
   },
   "outputs": [],
   "source": [
    "duplicate_test = test_df[test_df.duplicated()]\n",
    "duplicate_train = train_df[train_df.duplicated()]"
   ]
  },
  {
   "cell_type": "code",
   "execution_count": 24,
   "id": "151fe1a1-9ba0-431f-8a23-e59c158e9046",
   "metadata": {
    "tags": []
   },
   "outputs": [],
   "source": [
    "duplicate_test = duplicate_test.sort_values(by='title')\n",
    "duplicate_train = duplicate_train.sort_values(by='title')"
   ]
  },
  {
   "cell_type": "code",
   "execution_count": 25,
   "id": "823fc8cc-62b8-419e-af0e-7a5cebe07ab2",
   "metadata": {
    "colab": {
     "base_uri": "https://localhost:8080/"
    },
    "id": "prnB1Yg5jBt2",
    "outputId": "f127f897-42ee-4ea3-9bad-b02db8a1620d"
   },
   "outputs": [],
   "source": [
    "# 중복 제거\n",
    "test=test_df.drop_duplicates(subset=['title'])\n",
    "train=train_df.drop_duplicates(subset=['title'])\n",
    "data = data.drop_duplicates(subset=['title'])\n",
    "\n",
    "# print('총 샘플의 수 :',len(data))"
   ]
  },
  {
   "cell_type": "code",
   "execution_count": 26,
   "id": "e6c5052e-c9c3-46b6-accd-98b980675478",
   "metadata": {
    "tags": []
   },
   "outputs": [
    {
     "data": {
      "text/plain": [
       "(17109, 16074)"
      ]
     },
     "execution_count": 26,
     "metadata": {},
     "output_type": "execute_result"
    }
   ],
   "source": [
    "len(test),len(train)"
   ]
  },
  {
   "cell_type": "markdown",
   "id": "b51b41d5-c525-4d38-9958-e75a069e6ad5",
   "metadata": {
    "tags": []
   },
   "source": [
    "# 데이터 통합"
   ]
  },
  {
   "cell_type": "code",
   "execution_count": 27,
   "id": "86f7c3a0-4fd5-4b4a-aac9-e437beb2320f",
   "metadata": {
    "tags": []
   },
   "outputs": [
    {
     "name": "stdout",
     "output_type": "stream",
     "text": [
      "<class 'pandas.core.frame.DataFrame'>\n",
      "Int64Index: 20901 entries, 0 to 406\n",
      "Data columns (total 2 columns):\n",
      " #   Column  Non-Null Count  Dtype  \n",
      "---  ------  --------------  -----  \n",
      " 0   labels  20901 non-null  float64\n",
      " 1   title   20901 non-null  object \n",
      "dtypes: float64(1), object(1)\n",
      "memory usage: 489.9+ KB\n"
     ]
    }
   ],
   "source": [
    "df = pd.concat([data,train])\n",
    "df.info()"
   ]
  },
  {
   "cell_type": "markdown",
   "id": "22d1b0f4-36ef-4541-9a97-11d39074f7c4",
   "metadata": {
    "tags": []
   },
   "source": [
    "# 라벨 분포"
   ]
  },
  {
   "cell_type": "code",
   "execution_count": 28,
   "id": "7948f46c-449c-42ad-8d45-7f0c643d9163",
   "metadata": {
    "tags": []
   },
   "outputs": [],
   "source": [
    "# train['labels'].value_counts().plot(kind='bar')"
   ]
  },
  {
   "cell_type": "code",
   "execution_count": 29,
   "id": "8c306972-2b7a-4ecf-9484-6a4846c62959",
   "metadata": {
    "tags": []
   },
   "outputs": [
    {
     "data": {
      "text/plain": [
       "<AxesSubplot: >"
      ]
     },
     "execution_count": 29,
     "metadata": {},
     "output_type": "execute_result"
    },
    {
     "data": {
      "image/png": "[encoded data removed]",
      "text/plain": [
       "<Figure size 640x480 with 1 Axes>"
      ]
     },
     "metadata": {},
     "output_type": "display_data"
    }
   ],
   "source": [
    "df['labels'].value_counts().plot(kind='bar')"
   ]
  },
  {
   "cell_type": "code",
   "execution_count": 30,
   "id": "c8c1407a-bb57-4711-901b-541742a7daf3",
   "metadata": {
    "tags": []
   },
   "outputs": [],
   "source": [
    "# print(f'중립의 비율 = {round(data[\"labels\"].value_counts()[0]/len(data) * 100,3)}%')\n",
    "# print(f'긍정의 비율 = {round(data[\"labels\"].value_counts()[1]/len(data) * 100,3)}%')\n",
    "# print(f'부정의 비율 = {round(data[\"labels\"].value_counts()[2]/len(data) * 100,3)}%')"
   ]
  },
  {
   "cell_type": "code",
   "execution_count": 31,
   "id": "d3a3db92-10cc-4ef0-97a3-644a2271afe5",
   "metadata": {
    "tags": []
   },
   "outputs": [
    {
     "name": "stdout",
     "output_type": "stream",
     "text": [
      "중립의 비율 = 37.644%\n",
      "긍정의 비율 = 52.706%\n",
      "부정의 비율 = 9.65%\n"
     ]
    }
   ],
   "source": [
    "print(f'중립의 비율 = {round(df[\"labels\"].value_counts()[0]/len(df) * 100,3)}%')\n",
    "print(f'긍정의 비율 = {round(df[\"labels\"].value_counts()[1]/len(df) * 100,3)}%')\n",
    "print(f'부정의 비율 = {round(df[\"labels\"].value_counts()[2]/len(df) * 100,3)}%')"
   ]
  },
  {
   "cell_type": "markdown",
   "id": "db5e6bd2-13a0-4021-9d35-182807891adc",
   "metadata": {},
   "source": [
    "## 라벨 분포 조정\n",
    "* 긍정 -> 절반으로\n",
    "* 부정 -> 두배 복제"
   ]
  },
  {
   "cell_type": "markdown",
   "id": "efe79abe-dc45-4d51-a65c-7b37d02a0447",
   "metadata": {},
   "source": [
    "### 긍정"
   ]
  },
  {
   "cell_type": "code",
   "execution_count": 32,
   "id": "eb1bcab7-81d1-4208-b9ce-f49eac750623",
   "metadata": {
    "tags": []
   },
   "outputs": [],
   "source": [
    "df_pos=df[df[\"labels\"]==1]\n",
    "df_neg=df[df[\"labels\"]==2]\n",
    "df_neu=df[df[\"labels\"]==0]"
   ]
  },
  {
   "cell_type": "code",
   "execution_count": 33,
   "id": "7f4a36f5-0810-4c17-911c-757db00be130",
   "metadata": {
    "tags": []
   },
   "outputs": [
    {
     "data": {
      "text/plain": [
       "(11016, 2017)"
      ]
     },
     "execution_count": 33,
     "metadata": {},
     "output_type": "execute_result"
    }
   ],
   "source": [
    "len(df_pos),len(df_neg)"
   ]
  },
  {
   "cell_type": "code",
   "execution_count": 34,
   "id": "2b531066-6819-4c37-9b0a-505b5a493b49",
   "metadata": {
    "tags": []
   },
   "outputs": [],
   "source": [
    "df_pos = df_pos.reset_index(drop=True)"
   ]
  },
  {
   "cell_type": "code",
   "execution_count": 35,
   "id": "9d4a826e-201a-4781-ac5c-4c984367af3d",
   "metadata": {
    "tags": []
   },
   "outputs": [],
   "source": [
    "pos_len = round(len(df_pos)/2)"
   ]
  },
  {
   "cell_type": "code",
   "execution_count": 36,
   "id": "6e7d25db-09ce-4f6f-b198-fbafb7237cff",
   "metadata": {
    "tags": []
   },
   "outputs": [],
   "source": [
    "df_pos = df_pos[:pos_len]"
   ]
  },
  {
   "cell_type": "code",
   "execution_count": 37,
   "id": "b24191e3-0876-4a16-bc1d-7a7e60cafc30",
   "metadata": {
    "tags": []
   },
   "outputs": [
    {
     "data": {
      "text/plain": [
       "5508"
      ]
     },
     "execution_count": 37,
     "metadata": {},
     "output_type": "execute_result"
    }
   ],
   "source": [
    "len(df_pos)"
   ]
  },
  {
   "cell_type": "markdown",
   "id": "9e2f262d-258b-4b74-9779-969f9b970a2d",
   "metadata": {},
   "source": [
    "### 부정"
   ]
  },
  {
   "cell_type": "code",
   "execution_count": 38,
   "id": "08021813-fb63-46c8-800c-2eafce0c6b93",
   "metadata": {
    "tags": []
   },
   "outputs": [],
   "source": [
    "df_neg = df_neg.append(df_neg)"
   ]
  },
  {
   "cell_type": "code",
   "execution_count": 39,
   "id": "92e8048d-a3d7-4369-882c-93923f224424",
   "metadata": {
    "tags": []
   },
   "outputs": [
    {
     "data": {
      "text/plain": [
       "4034"
      ]
     },
     "execution_count": 39,
     "metadata": {},
     "output_type": "execute_result"
    }
   ],
   "source": [
    "len(df_neg)"
   ]
  },
  {
   "cell_type": "markdown",
   "id": "79e89c84-7dab-44ba-af96-11327b65f1db",
   "metadata": {},
   "source": [
    "## 라벨 분포 확인"
   ]
  },
  {
   "cell_type": "code",
   "execution_count": 40,
   "id": "12a66a5a-fbba-4361-942d-d15027f651c4",
   "metadata": {
    "tags": []
   },
   "outputs": [
    {
     "data": {
      "text/plain": [
       "17410"
      ]
     },
     "execution_count": 40,
     "metadata": {},
     "output_type": "execute_result"
    }
   ],
   "source": [
    "df = pd.concat([df_pos,df_neg,df_neu])\n",
    "# train.head(1)\n",
    "len(df)"
   ]
  },
  {
   "cell_type": "code",
   "execution_count": 41,
   "id": "3585007c-a8fc-432d-a13a-650fc39ac937",
   "metadata": {
    "tags": []
   },
   "outputs": [],
   "source": [
    "# df.to_csv('./df_label_O.csv', index=False)"
   ]
  },
  {
   "cell_type": "code",
   "execution_count": 42,
   "id": "10ec6a57-8afc-473f-ad5c-233b09a36a94",
   "metadata": {
    "tags": []
   },
   "outputs": [
    {
     "name": "stdout",
     "output_type": "stream",
     "text": [
      "중립의 비율 = 45.192%\n",
      "긍정의 비율 = 31.637%\n",
      "부정의 비율 = 23.171%\n"
     ]
    }
   ],
   "source": [
    "print(f'중립의 비율 = {round(df[\"labels\"].value_counts()[0]/len(df) * 100,3)}%')\n",
    "print(f'긍정의 비율 = {round(df[\"labels\"].value_counts()[1]/len(df) * 100,3)}%')\n",
    "print(f'부정의 비율 = {round(df[\"labels\"].value_counts()[2]/len(df) * 100,3)}%')"
   ]
  },
  {
   "cell_type": "code",
   "execution_count": 43,
   "id": "0e80cf5c-a91d-4d72-a4d8-ef97ae10222f",
   "metadata": {
    "tags": []
   },
   "outputs": [],
   "source": [
    "# data.shape, train.shape"
   ]
  },
  {
   "cell_type": "code",
   "execution_count": 44,
   "id": "c37915cb-1a77-4718-8f14-2161a892d3ab",
   "metadata": {
    "id": "Qgna8GZ_k0AW"
   },
   "outputs": [],
   "source": [
    "mecab = mecab.MeCab()"
   ]
  },
  {
   "cell_type": "code",
   "execution_count": 45,
   "id": "38965b5a-a009-46f8-bf34-3a83c3d2be5f",
   "metadata": {
    "id": "9dKO6hYzkwbF"
   },
   "outputs": [],
   "source": [
    "df['tokenized'] = df['title'].apply(mecab.morphs)"
   ]
  },
  {
   "cell_type": "code",
   "execution_count": 46,
   "id": "a8bfc249-b18f-4ca3-a43a-dc93ae2d8b25",
   "metadata": {
    "tags": []
   },
   "outputs": [
    {
     "data": {
      "text/html": [
       "<div>\n",
       "<style scoped>\n",
       "    .dataframe tbody tr th:only-of-type {\n",
       "        vertical-align: middle;\n",
       "    }\n",
       "\n",
       "    .dataframe tbody tr th {\n",
       "        vertical-align: top;\n",
       "    }\n",
       "\n",
       "    .dataframe thead th {\n",
       "        text-align: right;\n",
       "    }\n",
       "</style>\n",
       "<table border=\"1\" class=\"dataframe\">\n",
       "  <thead>\n",
       "    <tr style=\"text-align: right;\">\n",
       "      <th></th>\n",
       "      <th>labels</th>\n",
       "      <th>title</th>\n",
       "      <th>tokenized</th>\n",
       "    </tr>\n",
       "  </thead>\n",
       "  <tbody>\n",
       "    <tr>\n",
       "      <th>0</th>\n",
       "      <td>1.0</td>\n",
       "      <td>새로운 생산공장으로 인해 회사는 예상되는 수요 증가를 충족시킬 수 있는 능력을 증가...</td>\n",
       "      <td>[새로운, 생산, 공장, 으로, 인해, 회사, 는, 예상, 되, 는, 수요, 증가,...</td>\n",
       "    </tr>\n",
       "    <tr>\n",
       "      <th>1</th>\n",
       "      <td>1.0</td>\n",
       "      <td>2009-2012년 회사의 업데이트된 전략에 따르면, Basware는 20% - 4...</td>\n",
       "      <td>[2009, -, 2012, 년, 회사, 의, 업데이트, 된, 전략, 에, 따르, ...</td>\n",
       "    </tr>\n",
       "  </tbody>\n",
       "</table>\n",
       "</div>"
      ],
      "text/plain": [
       "   labels                                              title  \\\n",
       "0     1.0  새로운 생산공장으로 인해 회사는 예상되는 수요 증가를 충족시킬 수 있는 능력을 증가...   \n",
       "1     1.0  2009-2012년 회사의 업데이트된 전략에 따르면, Basware는 20% - 4...   \n",
       "\n",
       "                                           tokenized  \n",
       "0  [새로운, 생산, 공장, 으로, 인해, 회사, 는, 예상, 되, 는, 수요, 증가,...  \n",
       "1  [2009, -, 2012, 년, 회사, 의, 업데이트, 된, 전략, 에, 따르, ...  "
      ]
     },
     "execution_count": 46,
     "metadata": {},
     "output_type": "execute_result"
    }
   ],
   "source": [
    "df.head(2)"
   ]
  },
  {
   "cell_type": "code",
   "execution_count": 47,
   "id": "43f61fc9-1eba-4116-a32d-5fddb2913f71",
   "metadata": {
    "tags": []
   },
   "outputs": [
    {
     "data": {
      "text/plain": [
       "['새로운',\n",
       " '생산',\n",
       " '공장',\n",
       " '으로',\n",
       " '인해',\n",
       " '회사',\n",
       " '는',\n",
       " '예상',\n",
       " '되',\n",
       " '는',\n",
       " '수요',\n",
       " '증가',\n",
       " '를',\n",
       " '충족',\n",
       " '시킬',\n",
       " '수',\n",
       " '있',\n",
       " '는',\n",
       " '능력',\n",
       " '을',\n",
       " '증가',\n",
       " '시키',\n",
       " '고',\n",
       " '원자재',\n",
       " '사용',\n",
       " '을',\n",
       " '개선',\n",
       " '하',\n",
       " '여',\n",
       " '생산',\n",
       " '수익',\n",
       " '성',\n",
       " '을',\n",
       " '높일',\n",
       " '것',\n",
       " '이',\n",
       " '다',\n",
       " '.']"
      ]
     },
     "execution_count": 47,
     "metadata": {},
     "output_type": "execute_result"
    }
   ],
   "source": [
    "df['tokenized'].iloc[0]"
   ]
  },
  {
   "cell_type": "code",
   "execution_count": null,
   "id": "da060e14-e760-4033-b1c9-0d94b6f8e29a",
   "metadata": {},
   "outputs": [],
   "source": []
  },
  {
   "cell_type": "code",
   "execution_count": 48,
   "id": "e3960513-f9b1-466e-96a9-f890dc5abaab",
   "metadata": {
    "tags": []
   },
   "outputs": [],
   "source": [
    "# X_train = pd.read_csv('./X_train_token.csv')\n",
    "# X_train = X_train['tokenized']"
   ]
  },
  {
   "cell_type": "markdown",
   "id": "8016a3fb-153a-43e3-99d4-a50394edcbe7",
   "metadata": {
    "tags": []
   },
   "source": [
    "# train - validation"
   ]
  },
  {
   "cell_type": "code",
   "execution_count": 49,
   "id": "b7ecb24f-5b5d-4aac-9948-82c492274548",
   "metadata": {
    "tags": []
   },
   "outputs": [
    {
     "name": "stdout",
     "output_type": "stream",
     "text": [
      "<class 'pandas.core.frame.DataFrame'>\n",
      "Int64Index: 17410 entries, 0 to 378\n",
      "Data columns (total 3 columns):\n",
      " #   Column     Non-Null Count  Dtype  \n",
      "---  ------     --------------  -----  \n",
      " 0   labels     17410 non-null  float64\n",
      " 1   title      17410 non-null  object \n",
      " 2   tokenized  17410 non-null  object \n",
      "dtypes: float64(1), object(2)\n",
      "memory usage: 544.1+ KB\n"
     ]
    }
   ],
   "source": [
    "df.info()"
   ]
  },
  {
   "cell_type": "code",
   "execution_count": 50,
   "id": "43ddd932-c1b1-4b23-acc2-94389c936853",
   "metadata": {
    "tags": []
   },
   "outputs": [],
   "source": [
    "X=df['tokenized']\n",
    "y=df['labels']"
   ]
  },
  {
   "cell_type": "code",
   "execution_count": 51,
   "id": "cbb96850-f3a9-4d69-9ed9-a088eeccfb4e",
   "metadata": {
    "id": "qmFecWmSkHiu"
   },
   "outputs": [],
   "source": [
    "X_train, X_val, y_train, y_val = train_test_split(X, y, test_size=0.2, random_state=0, stratify=y)"
   ]
  },
  {
   "cell_type": "code",
   "execution_count": 52,
   "id": "3ce8f4b2-bc3d-40be-84cc-75bd1e4e58cd",
   "metadata": {
    "colab": {
     "base_uri": "https://localhost:8080/"
    },
    "id": "HiPJQoBql2T_",
    "outputId": "d7ca3611-215b-4196-f036-c8874207c8b6"
   },
   "outputs": [
    {
     "name": "stdout",
     "output_type": "stream",
     "text": [
      "훈련 샘플의 개수 : 13928\n",
      "테스트 샘플의 개수 : 3482\n"
     ]
    }
   ],
   "source": [
    "print('훈련 샘플의 개수 :', len(X_train))\n",
    "print('테스트 샘플의 개수 :', len(X_val))"
   ]
  },
  {
   "cell_type": "code",
   "execution_count": 53,
   "id": "d6a6cdc9-b032-4a0b-a86d-b98752a9bb1c",
   "metadata": {
    "colab": {
     "base_uri": "https://localhost:8080/"
    },
    "id": "m-gTg1Z2kYK2",
    "outputId": "d0ee9cd3-32b1-48f4-8c9f-ed2e2f14fc5f"
   },
   "outputs": [
    {
     "name": "stdout",
     "output_type": "stream",
     "text": [
      "--------훈련 데이터의 비율-----------\n",
      "중립 = 45.19%\n",
      "긍정 = 31.641%\n",
      "부정 = 23.169%\n"
     ]
    }
   ],
   "source": [
    "print('--------훈련 데이터의 비율-----------')\n",
    "print(f'중립 = {round(y_train.value_counts()[0]/len(y_train) * 100,3)}%')\n",
    "print(f'긍정 = {round(y_train.value_counts()[1]/len(y_train) * 100,3)}%')\n",
    "print(f'부정 = {round(y_train.value_counts()[2]/len(y_train) * 100,3)}%')"
   ]
  },
  {
   "cell_type": "code",
   "execution_count": 54,
   "id": "35b370e7-caef-46a4-a074-6874b026b395",
   "metadata": {
    "colab": {
     "base_uri": "https://localhost:8080/"
    },
    "id": "6E_XYZIVkcP3",
    "outputId": "da808f32-9b5e-40fa-fd50-54bd94b52d9b"
   },
   "outputs": [
    {
     "name": "stdout",
     "output_type": "stream",
     "text": [
      "--------테스트 데이터의 비율-----------\n",
      "중립 = 45.204%\n",
      "긍정 = 31.62%\n",
      "부정 = 23.176%\n"
     ]
    }
   ],
   "source": [
    "print('--------테스트 데이터의 비율-----------')\n",
    "print(f'중립 = {round(y_val.value_counts()[0]/len(y_val) * 100,3)}%')\n",
    "print(f'긍정 = {round(y_val.value_counts()[1]/len(y_val) * 100,3)}%')\n",
    "print(f'부정 = {round(y_val.value_counts()[2]/len(y_val) * 100,3)}%')"
   ]
  },
  {
   "cell_type": "markdown",
   "id": "4a5750ea-0e74-4979-b437-29da50f7623b",
   "metadata": {},
   "source": [
    "# Tokenize"
   ]
  },
  {
   "cell_type": "code",
   "execution_count": 55,
   "id": "1578e6b9-7c4b-4621-aef6-0e5d5dda6b36",
   "metadata": {
    "colab": {
     "base_uri": "https://localhost:8080/"
    },
    "id": "5qCRNyvpkjEY",
    "outputId": "79b5f0b6-1598-48ea-b7d5-aeb16074ff08"
   },
   "outputs": [
    {
     "name": "stdout",
     "output_type": "stream",
     "text": [
      "[[49, 5, 1352, 156, 106, 2955, 144, 1084, 39, 455, 370, 212, 149, 3945, 18, 361, 42, 9, 2366, 39, 77, 34, 232, 26, 42, 122, 16, 18, 34, 179, 64, 34, 112, 5, 130, 234, 4457, 2, 84, 31, 36, 4, 46, 74, 1138, 2, 25, 31, 36, 157, 147, 20, 7, 2], [2718, 548, 348, 17, 6, 502, 41, 418, 187, 10, 357, 1, 226, 75, 304, 762], [8, 778, 1046, 15, 204, 13, 1, 426, 1723, 58, 636, 6615, 66, 353, 15], [129, 737, 162, 585, 1, 510, 4458, 3211, 217, 1649, 2542, 1517], [8, 86, 9, 520, 16, 25, 34, 18, 6616, 19, 779, 138, 126, 8, 6617, 9341, 751, 564, 5, 2956, 9342, 1990, 70, 6, 1404, 37, 1115, 70, 81, 7, 2]]\n",
      "[[11, 63, 35, 12, 57, 76, 62, 1708, 126, 10, 116, 493], [57, 9255, 1011, 1996, 885, 1714, 85, 10, 375, 169, 162, 61, 24, 379, 14149, 3, 1286, 3], [40, 196, 514, 554, 856, 44, 47, 5, 4341, 294, 70, 85], [399, 27, 55, 46, 74, 678, 21, 48, 3, 83, 1373, 1479, 7391, 99, 315, 1472, 2, 77, 260], [8, 3596, 9, 311, 613, 408, 53, 512, 1061, 14, 1607, 37, 159, 2]]\n"
     ]
    }
   ],
   "source": [
    "tokenizer = Tokenizer()\n",
    "tokenizer.fit_on_texts(X_train)\n",
    "X_train_encoded = tokenizer.texts_to_sequences(X_train)\n",
    "X_val_encoded = tokenizer.texts_to_sequences(X_val)\n",
    "print(X_train_encoded[:5])\n",
    "print(X_val_encoded[:5])"
   ]
  },
  {
   "cell_type": "code",
   "execution_count": 56,
   "id": "8b9cb5c6-67a9-40cc-94c6-66cf908d5f9a",
   "metadata": {
    "colab": {
     "base_uri": "https://localhost:8080/"
    },
    "id": "KAXqMlPtkm9d",
    "outputId": "a3ceac7d-6e64-491b-ae48-5111f9bd1ab4"
   },
   "outputs": [
    {
     "name": "stdout",
     "output_type": "stream",
     "text": [
      "16523\n"
     ]
    }
   ],
   "source": [
    "word_to_index = tokenizer.word_index\n",
    "vocab_size = len(word_to_index) + 1\n",
    "print(vocab_size)"
   ]
  },
  {
   "cell_type": "markdown",
   "id": "d6cd2f8c-2934-44a6-8497-b0193d3f5b99",
   "metadata": {},
   "source": [
    "## 패딩"
   ]
  },
  {
   "cell_type": "code",
   "execution_count": 57,
   "id": "bf766a78-b2f8-4264-b16a-f3728cf553f0",
   "metadata": {
    "tags": []
   },
   "outputs": [
    {
     "data": {
      "text/plain": [
       "2098    [핀란드, 의, 부품, 공급, 업체, 컴포넌트, 아, 코퍼레이션, (, OMX, 헬...\n",
       "3952    [인지, 기능, 개선, 하, 는, 프로, 바이오, 틱, 스, …, 동화약품, ,, ...\n",
       "Name: tokenized, dtype: object"
      ]
     },
     "execution_count": 57,
     "metadata": {},
     "output_type": "execute_result"
    }
   ],
   "source": [
    "X_train[:2]"
   ]
  },
  {
   "cell_type": "code",
   "execution_count": 58,
   "id": "61c9f10d-c884-48b4-bb79-1d65507e3677",
   "metadata": {
    "colab": {
     "base_uri": "https://localhost:8080/",
     "height": 315
    },
    "id": "CVaCLg2glTIo",
    "outputId": "2ee453f6-3488-45ca-dabd-250e064230d3"
   },
   "outputs": [
    {
     "name": "stdout",
     "output_type": "stream",
     "text": [
      "본문의 최대 길이 : 76\n",
      "본문의 평균 길이 : 19.33543940264216\n"
     ]
    },
    {
     "data": {
      "image/png": "[encoded data removed]",
      "text/plain": [
       "<Figure size 640x480 with 1 Axes>"
      ]
     },
     "metadata": {},
     "output_type": "display_data"
    }
   ],
   "source": [
    "print(  '본문의 최대 길이 :',   max(   len(sent) for sent in X_train   )   )\n",
    "# X_train 요소 하나하나 길이 재서 최대길이추출\n",
    "print(   '본문의 평균 길이 :',  sum(    map(len, X_train)  )   /  len(X_train)     )\n",
    "# X_train 요소 길이 재서 sum하구 X_train 개수로 나눈다\n",
    "plt.hist([len(sent) for sent in X_train], bins=50)\n",
    "plt.xlabel('length of samples')\n",
    "plt.ylabel('number of samples')\n",
    "plt.show()"
   ]
  },
  {
   "cell_type": "code",
   "execution_count": 59,
   "id": "88ab9fc5-3d66-49e5-a524-004d7c5ffcbf",
   "metadata": {
    "id": "vZvzv8jClpTF"
   },
   "outputs": [],
   "source": [
    "max_len = 76"
   ]
  },
  {
   "cell_type": "code",
   "execution_count": 60,
   "id": "0805274f-2bfb-42d2-8175-d4dece7263e8",
   "metadata": {
    "id": "DO-ypzo6lmuu"
   },
   "outputs": [],
   "source": [
    "X_train_encoded = pad_sequences(X_train_encoded, maxlen=max_len)\n",
    "X_val_encoded = pad_sequences(X_val_encoded, maxlen=max_len)"
   ]
  },
  {
   "cell_type": "code",
   "execution_count": 61,
   "id": "1fee33cd-e3d7-459f-9400-e0d54ffe15f1",
   "metadata": {
    "colab": {
     "base_uri": "https://localhost:8080/"
    },
    "id": "_3LInCb9lqUZ",
    "outputId": "64822180-1fb5-44b5-ba3f-317c8bdfb2ca"
   },
   "outputs": [
    {
     "data": {
      "text/plain": [
       "(13928, 76)"
      ]
     },
     "execution_count": 61,
     "metadata": {},
     "output_type": "execute_result"
    }
   ],
   "source": [
    "X_train_encoded.shape"
   ]
  },
  {
   "cell_type": "code",
   "execution_count": 62,
   "id": "d42f524d-1c20-44fc-a683-229db7cf5365",
   "metadata": {
    "colab": {
     "base_uri": "https://localhost:8080/"
    },
    "id": "BRNfINkFlxHI",
    "outputId": "48643685-2064-4ff0-d8eb-7c406fc2245a"
   },
   "outputs": [
    {
     "data": {
      "text/plain": [
       "(3482, 76)"
      ]
     },
     "execution_count": 62,
     "metadata": {},
     "output_type": "execute_result"
    }
   ],
   "source": [
    "X_val_encoded.shape"
   ]
  },
  {
   "cell_type": "code",
   "execution_count": 63,
   "id": "ef933ccc-c3b8-4ced-98d6-20340ada3b1a",
   "metadata": {
    "id": "OG8mNRPqmRb1"
   },
   "outputs": [],
   "source": [
    "y_train = to_categorical(y_train)\n",
    "y_val = to_categorical(y_val)"
   ]
  },
  {
   "cell_type": "markdown",
   "id": "cb57edb2-1f88-4074-bd64-2a5e6123c6e9",
   "metadata": {},
   "source": [
    "# 모델\n",
    "*  테스트 정확도: 0.8441"
   ]
  },
  {
   "cell_type": "code",
   "execution_count": 64,
   "id": "4e063f6c-0f7a-43a4-a294-cdcb33db44b4",
   "metadata": {
    "colab": {
     "base_uri": "https://localhost:8080/"
    },
    "id": "qcgxpi4zmWHd",
    "outputId": "ab93b729-da07-44c0-f1ec-8c39cbf8c7ec"
   },
   "outputs": [
    {
     "name": "stdout",
     "output_type": "stream",
     "text": [
      "Epoch 1/15\n",
      "349/349 [==============================] - ETA: 0s - loss: 0.6794 - acc: 0.7094\n",
      "Epoch 1: val_acc improved from -inf to 0.79289, saving model to ./NLP\\best_model_label_balanced.h5\n",
      "349/349 [==============================] - 14s 34ms/step - loss: 0.6794 - acc: 0.7094 - val_loss: 0.5094 - val_acc: 0.7929\n",
      "Epoch 2/15\n",
      "349/349 [==============================] - ETA: 0s - loss: 0.2844 - acc: 0.8935\n",
      "Epoch 2: val_acc improved from 0.79289 to 0.84781, saving model to ./NLP\\best_model_label_balanced.h5\n",
      "349/349 [==============================] - 12s 33ms/step - loss: 0.2844 - acc: 0.8935 - val_loss: 0.3909 - val_acc: 0.8478\n",
      "Epoch 3/15\n",
      "349/349 [==============================] - ETA: 0s - loss: 0.1464 - acc: 0.9479\n",
      "Epoch 3: val_acc did not improve from 0.84781\n",
      "349/349 [==============================] - 12s 36ms/step - loss: 0.1464 - acc: 0.9479 - val_loss: 0.4677 - val_acc: 0.8403\n",
      "Epoch 4/15\n",
      "348/349 [============================>.] - ETA: 0s - loss: 0.0851 - acc: 0.9712\n",
      "Epoch 4: val_acc did not improve from 0.84781\n",
      "349/349 [==============================] - 13s 36ms/step - loss: 0.0850 - acc: 0.9712 - val_loss: 0.5234 - val_acc: 0.8284\n",
      "Epoch 5/15\n",
      "348/349 [============================>.] - ETA: 0s - loss: 0.0561 - acc: 0.9820\n",
      "Epoch 5: val_acc did not improve from 0.84781\n",
      "349/349 [==============================] - 13s 38ms/step - loss: 0.0561 - acc: 0.9820 - val_loss: 0.6498 - val_acc: 0.8299\n",
      "Epoch 6/15\n",
      "349/349 [==============================] - ETA: 0s - loss: 0.0392 - acc: 0.9873\n",
      "Epoch 6: val_acc did not improve from 0.84781\n",
      "349/349 [==============================] - 12s 36ms/step - loss: 0.0392 - acc: 0.9873 - val_loss: 0.6661 - val_acc: 0.8238\n",
      "Epoch 6: early stopping\n"
     ]
    }
   ],
   "source": [
    "embedding_dim = 64\n",
    "hidden_units = 64\n",
    "num_classes = 3\n",
    "\n",
    "model = Sequential()\n",
    "model.add(Embedding(vocab_size, embedding_dim))\n",
    "model.add(LSTM(hidden_units))\n",
    "model.add(Dense(num_classes, activation='softmax'))\n",
    "\n",
    "es = EarlyStopping(monitor='val_loss', mode='min', verbose=1, patience=4)\n",
    "mc = ModelCheckpoint('./NLP/best_model_label_balanced.h5', monitor='val_acc', mode='max', verbose=1, save_best_only=True)\n",
    "\n",
    "model.compile(loss='categorical_crossentropy', optimizer='adam', metrics=['acc'])\n",
    "history = model.fit(X_train_encoded, y_train, epochs=15, callbacks=[es, mc], batch_size=32, validation_split=0.2)"
   ]
  },
  {
   "cell_type": "code",
   "execution_count": 65,
   "id": "954c0c3c-548e-4821-a404-df25f8913f19",
   "metadata": {
    "colab": {
     "base_uri": "https://localhost:8080/"
    },
    "id": "qtj0EMOEmeEX",
    "outputId": "e64117af-a089-4155-ba53-e2481a094cd2",
    "tags": []
   },
   "outputs": [
    {
     "name": "stdout",
     "output_type": "stream",
     "text": [
      "109/109 [==============================] - 1s 8ms/step - loss: 0.3991 - acc: 0.8441\n",
      "\n",
      " 테스트 정확도: 0.8441\n"
     ]
    }
   ],
   "source": [
    "loaded_model = load_model('./NLP/best_model_label_balanced.h5')\n",
    "print(\"\\n 테스트 정확도: %.4f\" % (loaded_model.evaluate(X_val_encoded, y_val)[1]))"
   ]
  },
  {
   "cell_type": "markdown",
   "id": "9dcf076e-eb94-4b49-94f6-7320b81118e7",
   "metadata": {
    "tags": []
   },
   "source": [
    "# Test"
   ]
  },
  {
   "cell_type": "code",
   "execution_count": 66,
   "id": "c1f48bc4-2e80-4047-8fba-5db599141df9",
   "metadata": {
    "tags": []
   },
   "outputs": [
    {
     "data": {
      "text/html": [
       "<div>\n",
       "<style scoped>\n",
       "    .dataframe tbody tr th:only-of-type {\n",
       "        vertical-align: middle;\n",
       "    }\n",
       "\n",
       "    .dataframe tbody tr th {\n",
       "        vertical-align: top;\n",
       "    }\n",
       "\n",
       "    .dataframe thead th {\n",
       "        text-align: right;\n",
       "    }\n",
       "</style>\n",
       "<table border=\"1\" class=\"dataframe\">\n",
       "  <thead>\n",
       "    <tr style=\"text-align: right;\">\n",
       "      <th></th>\n",
       "      <th>title</th>\n",
       "      <th>labels</th>\n",
       "    </tr>\n",
       "  </thead>\n",
       "  <tbody>\n",
       "    <tr>\n",
       "      <th>0</th>\n",
       "      <td>차병원·바이오그룹, R&amp;D·영업마케팅 경력 공개 채용</td>\n",
       "      <td>NaN</td>\n",
       "    </tr>\n",
       "    <tr>\n",
       "      <th>1</th>\n",
       "      <td>\"매출, 올해 50%·내년 두배 ↑\"…마더스제약, 성장 자신하는 이유</td>\n",
       "      <td>NaN</td>\n",
       "    </tr>\n",
       "    <tr>\n",
       "      <th>6</th>\n",
       "      <td>오늘은 ‘세계 강아지의 날’ “반려견 건강 챙겨주세요”</td>\n",
       "      <td>NaN</td>\n",
       "    </tr>\n",
       "    <tr>\n",
       "      <th>7</th>\n",
       "      <td>펫 의약품 가파른 성장세… 제약·바이오 기업 바빠졌다</td>\n",
       "      <td>NaN</td>\n",
       "    </tr>\n",
       "    <tr>\n",
       "      <th>8</th>\n",
       "      <td>안국약품, CMG제약과 고혈압·고지혈증 복합제 '아모르탄알정' 코프로모션</td>\n",
       "      <td>NaN</td>\n",
       "    </tr>\n",
       "  </tbody>\n",
       "</table>\n",
       "</div>"
      ],
      "text/plain": [
       "                                      title  labels\n",
       "0             차병원·바이오그룹, R&D·영업마케팅 경력 공개 채용     NaN\n",
       "1    \"매출, 올해 50%·내년 두배 ↑\"…마더스제약, 성장 자신하는 이유     NaN\n",
       "6            오늘은 ‘세계 강아지의 날’ “반려견 건강 챙겨주세요”     NaN\n",
       "7             펫 의약품 가파른 성장세… 제약·바이오 기업 바빠졌다     NaN\n",
       "8  안국약품, CMG제약과 고혈압·고지혈증 복합제 '아모르탄알정' 코프로모션     NaN"
      ]
     },
     "execution_count": 66,
     "metadata": {},
     "output_type": "execute_result"
    }
   ],
   "source": [
    "test.head()"
   ]
  },
  {
   "cell_type": "code",
   "execution_count": 67,
   "id": "7a3dd540-939b-46a2-9434-710e61f1c04e",
   "metadata": {
    "id": "9dKO6hYzkwbF"
   },
   "outputs": [],
   "source": [
    "test['tokenized'] = test['title'].apply(mecab.morphs)"
   ]
  },
  {
   "cell_type": "code",
   "execution_count": 68,
   "id": "fd982df0-254d-4c56-83db-b2d114a4caf8",
   "metadata": {
    "tags": []
   },
   "outputs": [
    {
     "data": {
      "text/html": [
       "<div>\n",
       "<style scoped>\n",
       "    .dataframe tbody tr th:only-of-type {\n",
       "        vertical-align: middle;\n",
       "    }\n",
       "\n",
       "    .dataframe tbody tr th {\n",
       "        vertical-align: top;\n",
       "    }\n",
       "\n",
       "    .dataframe thead th {\n",
       "        text-align: right;\n",
       "    }\n",
       "</style>\n",
       "<table border=\"1\" class=\"dataframe\">\n",
       "  <thead>\n",
       "    <tr style=\"text-align: right;\">\n",
       "      <th></th>\n",
       "      <th>title</th>\n",
       "      <th>labels</th>\n",
       "      <th>tokenized</th>\n",
       "    </tr>\n",
       "  </thead>\n",
       "  <tbody>\n",
       "    <tr>\n",
       "      <th>0</th>\n",
       "      <td>차병원·바이오그룹, R&amp;D·영업마케팅 경력 공개 채용</td>\n",
       "      <td>NaN</td>\n",
       "      <td>[차, 병원, ·, 바이오, 그룹, ,, R, &amp;, D, ·, 영업, 마케팅, 경력...</td>\n",
       "    </tr>\n",
       "    <tr>\n",
       "      <th>1</th>\n",
       "      <td>\"매출, 올해 50%·내년 두배 ↑\"…마더스제약, 성장 자신하는 이유</td>\n",
       "      <td>NaN</td>\n",
       "      <td>[\", 매출, ,, 올해, 50, %·, 내년, 두, 배, ↑\"…, 마더, 스, 제...</td>\n",
       "    </tr>\n",
       "  </tbody>\n",
       "</table>\n",
       "</div>"
      ],
      "text/plain": [
       "                                    title  labels  \\\n",
       "0           차병원·바이오그룹, R&D·영업마케팅 경력 공개 채용     NaN   \n",
       "1  \"매출, 올해 50%·내년 두배 ↑\"…마더스제약, 성장 자신하는 이유     NaN   \n",
       "\n",
       "                                           tokenized  \n",
       "0  [차, 병원, ·, 바이오, 그룹, ,, R, &, D, ·, 영업, 마케팅, 경력...  \n",
       "1  [\", 매출, ,, 올해, 50, %·, 내년, 두, 배, ↑\"…, 마더, 스, 제...  "
      ]
     },
     "execution_count": 68,
     "metadata": {},
     "output_type": "execute_result"
    }
   ],
   "source": [
    "test.head(2)"
   ]
  },
  {
   "cell_type": "code",
   "execution_count": 69,
   "id": "48f8e99a-77b6-46da-92d8-6eb3b375678f",
   "metadata": {
    "tags": []
   },
   "outputs": [],
   "source": [
    "X_test=test['tokenized']\n",
    "y_test=test['labels']"
   ]
  },
  {
   "cell_type": "code",
   "execution_count": 70,
   "id": "310b1f16-f655-414c-8eca-9ad3e080dce1",
   "metadata": {
    "tags": []
   },
   "outputs": [],
   "source": [
    "X_test_encoded = tokenizer.texts_to_sequences(X_test)\n",
    "X_test_encoded = pad_sequences(X_test_encoded, maxlen=max_len)"
   ]
  },
  {
   "cell_type": "code",
   "execution_count": 71,
   "id": "65cc8aa6-9c58-4b51-8ffd-5ef3fa322397",
   "metadata": {},
   "outputs": [
    {
     "name": "stdout",
     "output_type": "stream",
     "text": [
      "535/535 [==============================] - 5s 9ms/step\n"
     ]
    }
   ],
   "source": [
    "pred_vals=model.predict(X_test_encoded)"
   ]
  },
  {
   "cell_type": "code",
   "execution_count": 72,
   "id": "2c5164f2-d350-490b-b35e-94e2d2a07d24",
   "metadata": {
    "tags": []
   },
   "outputs": [],
   "source": [
    "labels =[]\n",
    "for pred in pred_vals:\n",
    "    label = np.argmax(pred)\n",
    "    labels.append(label)"
   ]
  },
  {
   "cell_type": "code",
   "execution_count": 73,
   "id": "7844bd5e-3faf-41af-9e20-efc2d9d5d1f2",
   "metadata": {},
   "outputs": [
    {
     "data": {
      "text/plain": [
       "[0, 1]"
      ]
     },
     "execution_count": 73,
     "metadata": {},
     "output_type": "execute_result"
    }
   ],
   "source": [
    "labels[:2]"
   ]
  },
  {
   "cell_type": "code",
   "execution_count": 74,
   "id": "b632ae63-a42d-44af-b56f-e7f9bde8ed04",
   "metadata": {
    "tags": []
   },
   "outputs": [],
   "source": [
    "test['labels'] = labels"
   ]
  },
  {
   "cell_type": "code",
   "execution_count": 75,
   "id": "710bae7a-072d-4aaf-9934-f596d44af7e1",
   "metadata": {
    "tags": []
   },
   "outputs": [
    {
     "data": {
      "text/plain": [
       "(9178, 5935, 1996)"
      ]
     },
     "execution_count": 75,
     "metadata": {},
     "output_type": "execute_result"
    }
   ],
   "source": [
    "len(test[test['labels']==0]),len(test[test['labels']==1]),len(test[test['labels']==2])"
   ]
  },
  {
   "cell_type": "code",
   "execution_count": 76,
   "id": "35595335-1cf7-49e9-96dd-6bc687d97d4f",
   "metadata": {
    "tags": []
   },
   "outputs": [
    {
     "data": {
      "text/html": [
       "<div>\n",
       "<style scoped>\n",
       "    .dataframe tbody tr th:only-of-type {\n",
       "        vertical-align: middle;\n",
       "    }\n",
       "\n",
       "    .dataframe tbody tr th {\n",
       "        vertical-align: top;\n",
       "    }\n",
       "\n",
       "    .dataframe thead th {\n",
       "        text-align: right;\n",
       "    }\n",
       "</style>\n",
       "<table border=\"1\" class=\"dataframe\">\n",
       "  <thead>\n",
       "    <tr style=\"text-align: right;\">\n",
       "      <th></th>\n",
       "      <th>title</th>\n",
       "      <th>labels</th>\n",
       "      <th>tokenized</th>\n",
       "    </tr>\n",
       "  </thead>\n",
       "  <tbody>\n",
       "    <tr>\n",
       "      <th>0</th>\n",
       "      <td>차병원·바이오그룹, R&amp;D·영업마케팅 경력 공개 채용</td>\n",
       "      <td>0</td>\n",
       "      <td>[차, 병원, ·, 바이오, 그룹, ,, R, &amp;, D, ·, 영업, 마케팅, 경력...</td>\n",
       "    </tr>\n",
       "    <tr>\n",
       "      <th>6</th>\n",
       "      <td>오늘은 ‘세계 강아지의 날’ “반려견 건강 챙겨주세요”</td>\n",
       "      <td>0</td>\n",
       "      <td>[오늘, 은, ‘, 세계, 강아지, 의, 날, ’, “, 반려, 견, 건강, 챙겨,...</td>\n",
       "    </tr>\n",
       "    <tr>\n",
       "      <th>10</th>\n",
       "      <td>차바이오텍 계열사 CMG제약, 동물의약품 사업부 신설</td>\n",
       "      <td>0</td>\n",
       "      <td>[차바, 이, 오텍, 계열사, CMG, 제약, ,, 동물, 의약품, 사업, 부, 신설]</td>\n",
       "    </tr>\n",
       "    <tr>\n",
       "      <th>13</th>\n",
       "      <td>안국약품, CMG제약과 정장제 '락비오캡슐' 코프로모션</td>\n",
       "      <td>0</td>\n",
       "      <td>[안국, 약품, ,, CMG, 제약, 과, 정장제, ', 락, 비, 오, 캡슐, '...</td>\n",
       "    </tr>\n",
       "    <tr>\n",
       "      <th>25</th>\n",
       "      <td>“미리어드만의 생태계 만들겠다”…바이오 투자사 설립한 까닭은</td>\n",
       "      <td>0</td>\n",
       "      <td>[“, 미리, 어드만, 의, 생태, 계, 만들, 겠, 다, ”, …, 바이, 오, ...</td>\n",
       "    </tr>\n",
       "  </tbody>\n",
       "</table>\n",
       "</div>"
      ],
      "text/plain": [
       "                                title  labels  \\\n",
       "0       차병원·바이오그룹, R&D·영업마케팅 경력 공개 채용       0   \n",
       "6      오늘은 ‘세계 강아지의 날’ “반려견 건강 챙겨주세요”       0   \n",
       "10      차바이오텍 계열사 CMG제약, 동물의약품 사업부 신설       0   \n",
       "13     안국약품, CMG제약과 정장제 '락비오캡슐' 코프로모션       0   \n",
       "25  “미리어드만의 생태계 만들겠다”…바이오 투자사 설립한 까닭은       0   \n",
       "\n",
       "                                            tokenized  \n",
       "0   [차, 병원, ·, 바이오, 그룹, ,, R, &, D, ·, 영업, 마케팅, 경력...  \n",
       "6   [오늘, 은, ‘, 세계, 강아지, 의, 날, ’, “, 반려, 견, 건강, 챙겨,...  \n",
       "10   [차바, 이, 오텍, 계열사, CMG, 제약, ,, 동물, 의약품, 사업, 부, 신설]  \n",
       "13  [안국, 약품, ,, CMG, 제약, 과, 정장제, ', 락, 비, 오, 캡슐, '...  \n",
       "25  [“, 미리, 어드만, 의, 생태, 계, 만들, 겠, 다, ”, …, 바이, 오, ...  "
      ]
     },
     "execution_count": 76,
     "metadata": {},
     "output_type": "execute_result"
    }
   ],
   "source": [
    "test_neu=test[test['labels']==0]\n",
    "test_neu.head()"
   ]
  },
  {
   "cell_type": "code",
   "execution_count": 77,
   "id": "87dc328e-e447-4a2b-a138-dca775a2811a",
   "metadata": {
    "tags": []
   },
   "outputs": [
    {
     "data": {
      "text/html": [
       "<div>\n",
       "<style scoped>\n",
       "    .dataframe tbody tr th:only-of-type {\n",
       "        vertical-align: middle;\n",
       "    }\n",
       "\n",
       "    .dataframe tbody tr th {\n",
       "        vertical-align: top;\n",
       "    }\n",
       "\n",
       "    .dataframe thead th {\n",
       "        text-align: right;\n",
       "    }\n",
       "</style>\n",
       "<table border=\"1\" class=\"dataframe\">\n",
       "  <thead>\n",
       "    <tr style=\"text-align: right;\">\n",
       "      <th></th>\n",
       "      <th>title</th>\n",
       "      <th>labels</th>\n",
       "      <th>tokenized</th>\n",
       "    </tr>\n",
       "  </thead>\n",
       "  <tbody>\n",
       "    <tr>\n",
       "      <th>1</th>\n",
       "      <td>\"매출, 올해 50%·내년 두배 ↑\"…마더스제약, 성장 자신하는 이유</td>\n",
       "      <td>1</td>\n",
       "      <td>[\", 매출, ,, 올해, 50, %·, 내년, 두, 배, ↑\"…, 마더, 스, 제...</td>\n",
       "    </tr>\n",
       "    <tr>\n",
       "      <th>7</th>\n",
       "      <td>펫 의약품 가파른 성장세… 제약·바이오 기업 바빠졌다</td>\n",
       "      <td>1</td>\n",
       "      <td>[펫, 의약품, 가파른, 성장세, …, 제약, ·, 바이오, 기업, 바빠졌, 다]</td>\n",
       "    </tr>\n",
       "    <tr>\n",
       "      <th>8</th>\n",
       "      <td>안국약품, CMG제약과 고혈압·고지혈증 복합제 '아모르탄알정' 코프로모션</td>\n",
       "      <td>1</td>\n",
       "      <td>[안국, 약품, ,, CMG, 제약, 과, 고, 혈압, ·, 고지혈증, 복합제, '...</td>\n",
       "    </tr>\n",
       "    <tr>\n",
       "      <th>9</th>\n",
       "      <td>차바이오텍 CMG제약, 동물의약품 사업진출</td>\n",
       "      <td>1</td>\n",
       "      <td>[차바, 이, 오텍, CMG, 제약, ,, 동물, 의약품, 사업, 진출]</td>\n",
       "    </tr>\n",
       "    <tr>\n",
       "      <th>11</th>\n",
       "      <td>CMG제약 “신약 개발로 2025년 연매출 2000억 30위권 제약사 도약”</td>\n",
       "      <td>1</td>\n",
       "      <td>[CMG, 제약, “, 신약, 개발, 로, 2025, 년, 연매, 출, 2000, ...</td>\n",
       "    </tr>\n",
       "  </tbody>\n",
       "</table>\n",
       "</div>"
      ],
      "text/plain": [
       "                                         title  labels  \\\n",
       "1       \"매출, 올해 50%·내년 두배 ↑\"…마더스제약, 성장 자신하는 이유       1   \n",
       "7                펫 의약품 가파른 성장세… 제약·바이오 기업 바빠졌다       1   \n",
       "8     안국약품, CMG제약과 고혈압·고지혈증 복합제 '아모르탄알정' 코프로모션       1   \n",
       "9                      차바이오텍 CMG제약, 동물의약품 사업진출       1   \n",
       "11  CMG제약 “신약 개발로 2025년 연매출 2000억 30위권 제약사 도약”       1   \n",
       "\n",
       "                                            tokenized  \n",
       "1   [\", 매출, ,, 올해, 50, %·, 내년, 두, 배, ↑\"…, 마더, 스, 제...  \n",
       "7       [펫, 의약품, 가파른, 성장세, …, 제약, ·, 바이오, 기업, 바빠졌, 다]  \n",
       "8   [안국, 약품, ,, CMG, 제약, 과, 고, 혈압, ·, 고지혈증, 복합제, '...  \n",
       "9            [차바, 이, 오텍, CMG, 제약, ,, 동물, 의약품, 사업, 진출]  \n",
       "11  [CMG, 제약, “, 신약, 개발, 로, 2025, 년, 연매, 출, 2000, ...  "
      ]
     },
     "execution_count": 77,
     "metadata": {},
     "output_type": "execute_result"
    }
   ],
   "source": [
    "test_pos=test[test['labels']==1]\n",
    "test_pos.head()"
   ]
  },
  {
   "cell_type": "code",
   "execution_count": 78,
   "id": "65b9e4f1-63b9-4a11-b61c-b411a2c41eb4",
   "metadata": {
    "tags": []
   },
   "outputs": [
    {
     "data": {
      "text/html": [
       "<div>\n",
       "<style scoped>\n",
       "    .dataframe tbody tr th:only-of-type {\n",
       "        vertical-align: middle;\n",
       "    }\n",
       "\n",
       "    .dataframe tbody tr th {\n",
       "        vertical-align: top;\n",
       "    }\n",
       "\n",
       "    .dataframe thead th {\n",
       "        text-align: right;\n",
       "    }\n",
       "</style>\n",
       "<table border=\"1\" class=\"dataframe\">\n",
       "  <thead>\n",
       "    <tr style=\"text-align: right;\">\n",
       "      <th></th>\n",
       "      <th>title</th>\n",
       "      <th>labels</th>\n",
       "      <th>tokenized</th>\n",
       "    </tr>\n",
       "  </thead>\n",
       "  <tbody>\n",
       "    <tr>\n",
       "      <th>55</th>\n",
       "      <td>공매도 금지 6개월 연장…코스닥 제약·바이오株에 기름 부을까</td>\n",
       "      <td>2</td>\n",
       "      <td>[공매도, 금지, 6, 개월, 연장, …, 코스닥, 제약, ·, 바이오, 株, 에,...</td>\n",
       "    </tr>\n",
       "    <tr>\n",
       "      <th>63</th>\n",
       "      <td>코스닥, 中 코로나 우려에 하락 출발…710선</td>\n",
       "      <td>2</td>\n",
       "      <td>[코스닥, ,, 中, 코, 로, 나, 우려, 에, 하락, 출발, …, 710, 선]</td>\n",
       "    </tr>\n",
       "    <tr>\n",
       "      <th>75</th>\n",
       "      <td>[코스닥 마감]개인 반발 매수에 낙폭 축소하며 780선… 1.74%↓</td>\n",
       "      <td>2</td>\n",
       "      <td>[[, 코스닥, 마감, ], 개인, 반발, 매수, 에, 낙폭, 축소, 하, 며, 7...</td>\n",
       "    </tr>\n",
       "    <tr>\n",
       "      <th>103</th>\n",
       "      <td>코스닥, 전주 부진 딛고 3% 반등…773.22</td>\n",
       "      <td>2</td>\n",
       "      <td>[코스닥, ,, 전주, 부진, 딛, 고, 3, %, 반, 등, …, 773, ., 22]</td>\n",
       "    </tr>\n",
       "    <tr>\n",
       "      <th>105</th>\n",
       "      <td>약세장서 '공매도 과열종목제' 무용…개미들 '부글'</td>\n",
       "      <td>2</td>\n",
       "      <td>[약세, 장서, ', 공매도, 과열, 종목, 제, ', 무용, …, 개미, 들, '...</td>\n",
       "    </tr>\n",
       "  </tbody>\n",
       "</table>\n",
       "</div>"
      ],
      "text/plain": [
       "                                      title  labels  \\\n",
       "55        공매도 금지 6개월 연장…코스닥 제약·바이오株에 기름 부을까       2   \n",
       "63                코스닥, 中 코로나 우려에 하락 출발…710선       2   \n",
       "75   [코스닥 마감]개인 반발 매수에 낙폭 축소하며 780선… 1.74%↓       2   \n",
       "103              코스닥, 전주 부진 딛고 3% 반등…773.22       2   \n",
       "105            약세장서 '공매도 과열종목제' 무용…개미들 '부글'       2   \n",
       "\n",
       "                                             tokenized  \n",
       "55   [공매도, 금지, 6, 개월, 연장, …, 코스닥, 제약, ·, 바이오, 株, 에,...  \n",
       "63      [코스닥, ,, 中, 코, 로, 나, 우려, 에, 하락, 출발, …, 710, 선]  \n",
       "75   [[, 코스닥, 마감, ], 개인, 반발, 매수, 에, 낙폭, 축소, 하, 며, 7...  \n",
       "103  [코스닥, ,, 전주, 부진, 딛, 고, 3, %, 반, 등, …, 773, ., 22]  \n",
       "105  [약세, 장서, ', 공매도, 과열, 종목, 제, ', 무용, …, 개미, 들, '...  "
      ]
     },
     "execution_count": 78,
     "metadata": {},
     "output_type": "execute_result"
    }
   ],
   "source": [
    "test_neg=test[test['labels']==2]\n",
    "test_neg.head()"
   ]
  }
 ],
 "metadata": {
  "kernelspec": {
   "display_name": "Python 3 (ipykernel)",
   "language": "python",
   "name": "python3"
  },
  "language_info": {
   "codemirror_mode": {
    "name": "ipython",
    "version": 3
   },
   "file_extension": ".py",
   "mimetype": "text/x-python",
   "name": "python",
   "nbconvert_exporter": "python",
   "pygments_lexer": "ipython3",
   "version": "3.8.8"
  }
 },
 "nbformat": 4,
 "nbformat_minor": 5
}
