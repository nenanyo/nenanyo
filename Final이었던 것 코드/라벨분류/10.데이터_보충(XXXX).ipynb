{
 "cells": [
  {
   "cell_type": "code",
   "execution_count": 1,
   "id": "79fef177-b5f9-48d8-af5b-4eb1a621194a",
   "metadata": {
    "tags": []
   },
   "outputs": [],
   "source": [
    "import pandas as pd\n",
    "import numpy as np\n",
    "import matplotlib.pyplot as plt\n",
    "import warnings\n",
    "warnings.filterwarnings(action='ignore')"
   ]
  },
  {
   "cell_type": "markdown",
   "id": "8ccea64d-8b57-4a5f-9456-4694dee63cda",
   "metadata": {},
   "source": [
    "# 수집된 뉴스 기간 확인"
   ]
  },
  {
   "cell_type": "code",
   "execution_count": 4,
   "id": "c3334bef-3ece-4bb9-99ad-04a6e8af884e",
   "metadata": {
    "tags": []
   },
   "outputs": [],
   "source": [
    "path_뉴스 = '../데이터/기업별 뉴스'"
   ]
  },
  {
   "cell_type": "code",
   "execution_count": 14,
   "id": "327f4e85-a858-4ee4-be1f-748faa6c20c7",
   "metadata": {
    "tags": []
   },
   "outputs": [
    {
     "data": {
      "text/plain": [
       "140"
      ]
     },
     "execution_count": 14,
     "metadata": {},
     "output_type": "execute_result"
    }
   ],
   "source": [
    "import os\n",
    "file_list_뉴스 = os.listdir(path_뉴스)\n",
    "len(file_list_뉴스)"
   ]
  },
  {
   "cell_type": "code",
   "execution_count": 15,
   "id": "d0e1e482-7f8c-484f-8bdb-6042b6f310c4",
   "metadata": {
    "tags": []
   },
   "outputs": [],
   "source": [
    "file_name_뉴스 = []\n",
    "for file in file_list_뉴스:\n",
    "    if file.count(\".\") == 1: \n",
    "        name = file.split('.')[0]\n",
    "        file_name_뉴스.append(name)\n",
    "    # else:\n",
    "    #     for k in range(len(file)-1,0,-1):\n",
    "    #         if file[k]=='.':\n",
    "    #             file_name.append(file[:k])\n",
    "    #             break"
   ]
  },
  {
   "cell_type": "code",
   "execution_count": 52,
   "id": "e59ae0bb-9c62-4c90-af4f-e78963e3335d",
   "metadata": {
    "tags": []
   },
   "outputs": [],
   "source": [
    "# file_name_뉴스"
   ]
  },
  {
   "cell_type": "code",
   "execution_count": 17,
   "id": "9cebe3f7-d0e6-495e-b62b-21bafed358eb",
   "metadata": {
    "tags": []
   },
   "outputs": [],
   "source": [
    "# 유동자산 = []\n",
    "df1 = []\n",
    "for 기업 in file_name_뉴스:\n",
    "    df =pd.read_excel(f\"../데이터/기업별 뉴스/{기업}.xlsx\",sheet_name='#02 Documents',header=0)\n",
    "#     venv/아림경영/데이터/기업별 재무제표/재무제표 원본/balance_sheet/경동제약.xlsx\n",
    "    df1.append(df)\n",
    "    \n",
    "        \n",
    "    # 유동있  = False \n",
    "#     for i in range(len(df)):\n",
    "#         if df.iloc[i,2] == '유동자산':\n",
    "#             # print(df.iloc[i,8:13])\n",
    "#             유동자산.append(df.iloc[i,12]) \n",
    "#             유동있 =True\n",
    "            \n",
    "#     if 유동있  == False:\n",
    "#         유동자산.append(-1)\n",
    "        \n",
    "# #     \n",
    "# print(len(유동자산))\n",
    "# df.head()"
   ]
  },
  {
   "cell_type": "code",
   "execution_count": 21,
   "id": "f1db7634-03a8-4b76-b42b-b3d9b000c3e5",
   "metadata": {
    "tags": []
   },
   "outputs": [],
   "source": [
    "max_min_date =[]\n",
    "for i in range(len(df1)):\n",
    "    tmp = [max(df1[i]['date']),min(df1[i]['date'])]\n",
    "    max_min_date.append(tmp)"
   ]
  },
  {
   "cell_type": "code",
   "execution_count": 22,
   "id": "d7a4b96c-cb5d-4985-874d-d6569a719c66",
   "metadata": {
    "tags": []
   },
   "outputs": [
    {
     "data": {
      "text/plain": [
       "140"
      ]
     },
     "execution_count": 22,
     "metadata": {},
     "output_type": "execute_result"
    }
   ],
   "source": [
    "len(max_min_date)"
   ]
  },
  {
   "cell_type": "code",
   "execution_count": 30,
   "id": "5fb643e0-35c5-4254-9970-70951d1635bd",
   "metadata": {
    "tags": []
   },
   "outputs": [],
   "source": [
    "# date_df = pd.DataFrame(file_name_뉴스, columns=['corp'])"
   ]
  },
  {
   "cell_type": "code",
   "execution_count": 34,
   "id": "f4b5ddd6-47f1-4671-bd29-e63dc15b25a5",
   "metadata": {
    "tags": []
   },
   "outputs": [
    {
     "name": "stdout",
     "output_type": "stream",
     "text": [
      "<class 'pandas.core.frame.DataFrame'>\n",
      "RangeIndex: 140 entries, 0 to 139\n",
      "Data columns (total 2 columns):\n",
      " #   Column  Non-Null Count  Dtype \n",
      "---  ------  --------------  ----- \n",
      " 0   max     140 non-null    object\n",
      " 1   min     140 non-null    object\n",
      "dtypes: object(2)\n",
      "memory usage: 2.3+ KB\n"
     ]
    }
   ],
   "source": [
    "date_df = pd.DataFrame(max_min_date,columns=['max','min'])\n",
    "date_df.info()"
   ]
  },
  {
   "cell_type": "code",
   "execution_count": 35,
   "id": "a2c453ee-287e-45dd-87fd-04891ae9692f",
   "metadata": {
    "tags": []
   },
   "outputs": [],
   "source": [
    "date_df['corp'] = file_name_뉴스"
   ]
  },
  {
   "cell_type": "code",
   "execution_count": 36,
   "id": "43b1f14c-5fa3-46a8-aee4-7b1fefc92b89",
   "metadata": {
    "tags": []
   },
   "outputs": [
    {
     "data": {
      "text/html": [
       "<div>\n",
       "<style scoped>\n",
       "    .dataframe tbody tr th:only-of-type {\n",
       "        vertical-align: middle;\n",
       "    }\n",
       "\n",
       "    .dataframe tbody tr th {\n",
       "        vertical-align: top;\n",
       "    }\n",
       "\n",
       "    .dataframe thead th {\n",
       "        text-align: right;\n",
       "    }\n",
       "</style>\n",
       "<table border=\"1\" class=\"dataframe\">\n",
       "  <thead>\n",
       "    <tr style=\"text-align: right;\">\n",
       "      <th></th>\n",
       "      <th>max</th>\n",
       "      <th>min</th>\n",
       "      <th>corp</th>\n",
       "    </tr>\n",
       "  </thead>\n",
       "  <tbody>\n",
       "    <tr>\n",
       "      <th>0</th>\n",
       "      <td>2023-05-22</td>\n",
       "      <td>2020-06-18</td>\n",
       "      <td>CMG제약</td>\n",
       "    </tr>\n",
       "    <tr>\n",
       "      <th>1</th>\n",
       "      <td>2023-05-23</td>\n",
       "      <td>2020-06-01</td>\n",
       "      <td>HLB생명과학</td>\n",
       "    </tr>\n",
       "    <tr>\n",
       "      <th>2</th>\n",
       "      <td>2023-05-16</td>\n",
       "      <td>2020-06-01</td>\n",
       "      <td>JW생명과학</td>\n",
       "    </tr>\n",
       "    <tr>\n",
       "      <th>3</th>\n",
       "      <td>2023-05-21</td>\n",
       "      <td>2020-05-27</td>\n",
       "      <td>JW신약</td>\n",
       "    </tr>\n",
       "    <tr>\n",
       "      <th>4</th>\n",
       "      <td>2023-05-24</td>\n",
       "      <td>2020-05-25</td>\n",
       "      <td>JW중외제약</td>\n",
       "    </tr>\n",
       "  </tbody>\n",
       "</table>\n",
       "</div>"
      ],
      "text/plain": [
       "          max         min     corp\n",
       "0  2023-05-22  2020-06-18    CMG제약\n",
       "1  2023-05-23  2020-06-01  HLB생명과학\n",
       "2  2023-05-16  2020-06-01   JW생명과학\n",
       "3  2023-05-21  2020-05-27     JW신약\n",
       "4  2023-05-24  2020-05-25   JW중외제약"
      ]
     },
     "execution_count": 36,
     "metadata": {},
     "output_type": "execute_result"
    }
   ],
   "source": [
    "date_df.head()"
   ]
  },
  {
   "cell_type": "markdown",
   "id": "838ce740-5292-40a3-9f08-79e79e6bf2d3",
   "metadata": {},
   "source": [
    "* 가장 최근 날짜 : 2023-05-26 "
   ]
  },
  {
   "cell_type": "markdown",
   "id": "52c60682-1e57-4fac-921d-6f4227113f4b",
   "metadata": {},
   "source": [
    "# 최근 날짜까지 뉴스 크롤링"
   ]
  },
  {
   "cell_type": "code",
   "execution_count": 42,
   "id": "3805e1b6-91f3-4d20-96c8-eb73fbb51582",
   "metadata": {
    "tags": []
   },
   "outputs": [],
   "source": [
    "latest = '2023-05-26'"
   ]
  },
  {
   "cell_type": "code",
   "execution_count": 43,
   "id": "af3cc0a2-133e-47f1-a38d-6fe93ae58c3c",
   "metadata": {
    "tags": []
   },
   "outputs": [],
   "source": [
    "# date_df[date_df['max'] == min(date_df['max'])]"
   ]
  },
  {
   "cell_type": "code",
   "execution_count": 47,
   "id": "e2dd264d-835e-4764-a9ce-64724fe75ef8",
   "metadata": {
    "tags": []
   },
   "outputs": [],
   "source": [
    "latest_none=date_df[date_df['max'] != latest].sort_values(by='max')"
   ]
  },
  {
   "cell_type": "code",
   "execution_count": 57,
   "id": "80c2368f-5b50-4a35-b552-2c3a9c756b8b",
   "metadata": {
    "tags": []
   },
   "outputs": [
    {
     "data": {
      "text/plain": [
       "129"
      ]
     },
     "execution_count": 57,
     "metadata": {},
     "output_type": "execute_result"
    }
   ],
   "source": [
    "len(latest_none)\n"
   ]
  },
  {
   "cell_type": "code",
   "execution_count": null,
   "id": "7e16b2e1-26b1-4bdd-af0a-a34d001a0164",
   "metadata": {},
   "outputs": [],
   "source": [
    "세운메디칼,코메론,명문제약,비씨월드제약,환인제약,인트로바이오,바이오솔루션,하이로닉,인트로메딕,지티지웰니스,한국유니온제약,삼성제약,이연제약,올리패스,제노레이"
   ]
  },
  {
   "cell_type": "code",
   "execution_count": null,
   "id": "a30b5d37-d6ec-4ddb-9b3e-4404c069b215",
   "metadata": {},
   "outputs": [],
   "source": [
    "세운메디칼,"
   ]
  },
  {
   "cell_type": "code",
   "execution_count": 77,
   "id": "2d1abc23-1327-41df-946a-e9a2d0a2dcab",
   "metadata": {
    "tags": []
   },
   "outputs": [],
   "source": [
    "# latest_none[100:130]\n",
    "# "
   ]
  },
  {
   "cell_type": "markdown",
   "id": "bf9af2bb-2b4f-4c07-a401-619132c4e7f6",
   "metadata": {},
   "source": [
    "# 처음부터~~"
   ]
  },
  {
   "cell_type": "code",
   "execution_count": 79,
   "id": "9b3cd55d-ba75-4dc9-9638-29313c794da9",
   "metadata": {
    "tags": []
   },
   "outputs": [],
   "source": [
    "# date_df[date_df['min']==min(date_df['min'])]"
   ]
  },
  {
   "cell_type": "code",
   "execution_count": 82,
   "id": "3271b342-94e0-4036-b606-f8ab75fd98f6",
   "metadata": {
    "tags": []
   },
   "outputs": [],
   "source": [
    "# for name in file_name_뉴스:\n",
    "#     print(name)"
   ]
  },
  {
   "cell_type": "code",
   "execution_count": 88,
   "id": "b2a3128c-312a-46f8-afed-126e42de1a60",
   "metadata": {
    "tags": []
   },
   "outputs": [
    {
     "data": {
      "text/html": [
       "<div>\n",
       "<style scoped>\n",
       "    .dataframe tbody tr th:only-of-type {\n",
       "        vertical-align: middle;\n",
       "    }\n",
       "\n",
       "    .dataframe tbody tr th {\n",
       "        vertical-align: top;\n",
       "    }\n",
       "\n",
       "    .dataframe thead th {\n",
       "        text-align: right;\n",
       "    }\n",
       "</style>\n",
       "<table border=\"1\" class=\"dataframe\">\n",
       "  <thead>\n",
       "    <tr style=\"text-align: right;\">\n",
       "      <th></th>\n",
       "      <th>Unnamed: 0</th>\n",
       "      <th>ticker</th>\n",
       "    </tr>\n",
       "  </thead>\n",
       "  <tbody>\n",
       "    <tr>\n",
       "      <th>0</th>\n",
       "      <td>CMG제약</td>\n",
       "      <td>58820</td>\n",
       "    </tr>\n",
       "    <tr>\n",
       "      <th>1</th>\n",
       "      <td>HLB</td>\n",
       "      <td>28300</td>\n",
       "    </tr>\n",
       "  </tbody>\n",
       "</table>\n",
       "</div>"
      ],
      "text/plain": [
       "  Unnamed: 0  ticker\n",
       "0      CMG제약   58820\n",
       "1        HLB   28300"
      ]
     },
     "execution_count": 88,
     "metadata": {},
     "output_type": "execute_result"
    }
   ],
   "source": [
    "df = pd.read_csv('../데이터/최종기업ticker.csv')\n",
    "df.head(2)"
   ]
  },
  {
   "cell_type": "code",
   "execution_count": 89,
   "id": "4f448598-4e83-4571-b116-bb9b09304f9b",
   "metadata": {
    "tags": []
   },
   "outputs": [
    {
     "name": "stdout",
     "output_type": "stream",
     "text": [
      "CMG제약\n",
      "HLB\n",
      "HLB생명과학\n",
      "JW생명과학\n",
      "JW신약\n",
      "JW중외제약\n",
      "강스템바이오텍\n",
      "경남제약\n",
      "경동제약\n",
      "광동제약\n",
      "국전약품\n",
      "국제약품\n",
      "녹십자\n",
      "녹십자엠에스\n",
      "녹십자홀딩스\n",
      "대봉엘에스\n",
      "대웅제약\n",
      "대원제약\n",
      "대화제약\n",
      "덴티스\n",
      "덴티움\n",
      "동국제약\n",
      "동아에스티\n",
      "동화약품\n",
      "디아이\n",
      "디알텍\n",
      "메디톡스\n",
      "메디포스트\n",
      "메타바이오메드\n",
      "명문제약\n",
      "미래산업\n",
      "미코바이오메드\n",
      "바디텍메드\n",
      "바이넥스\n",
      "바이오니아\n",
      "바이오솔루션\n",
      "보령\n",
      "부광약품\n",
      "비보존 제약\n",
      "비씨월드제약\n",
      "삼성바이오로직스\n",
      "삼성제약\n",
      "삼아제약\n",
      "삼일제약\n",
      "삼천당제약\n",
      "세운메디칼\n",
      "셀루메드\n",
      "셀트리온\n",
      "셀트리온제약\n",
      "신신제약\n",
      "쎌바이오텍\n",
      "씨젠\n",
      "씨티씨바이오\n",
      "아스타\n",
      "아이큐어\n",
      "안국약품\n",
      "에스텍파마\n",
      "에스티팜\n",
      "에이프로젠바이오로직스\n",
      "엑세스바이오\n",
      "엔지켐생명과학\n",
      "엔케이맥스\n",
      "엘앤씨바이오\n",
      "오스코텍\n",
      "옴니시스템\n",
      "우진비앤지\n",
      "원바이오젠\n",
      "유유제약\n",
      "유틸렉스\n",
      "유한양행\n",
      "이노시스\n",
      "이연제약\n",
      "이즈미디어\n",
      "인바디\n",
      "인터로조\n",
      "인트로메딕\n",
      "인트론바이오\n",
      "일동제약\n",
      "일동홀딩스\n",
      "일양약품\n",
      "제노레이\n",
      "제노포커스\n",
      "제이시스메디칼\n",
      "제일약품\n",
      "젠큐릭스\n",
      "조아제약\n",
      "종근당\n",
      "종근당바이오\n",
      "종근당홀딩스\n",
      "지나인제약\n",
      "지놈앤컴퍼니\n",
      "지티지웰니스\n",
      "진원생명과학\n",
      "차바이오텍\n",
      "케어젠\n",
      "케이씨\n",
      "코렌텍\n",
      "코메론\n",
      "코미팜\n",
      "코아스템켐온\n",
      "코아시아씨엠\n",
      "코오롱생명과학\n",
      "콜마비앤에이치\n",
      "클래시스\n",
      "테고사이언스\n",
      "테라젠이텍스\n",
      "파나진\n",
      "파마리서치\n",
      "파멥신\n",
      "파미셀\n",
      "파크시스템스\n",
      "팜젠사이언스\n",
      "퓨쳐켐\n",
      "피에스텍\n",
      "하이로닉\n",
      "하이비젼시스템\n",
      "한국유니온제약\n",
      "한독\n",
      "한미약품\n",
      "한올바이오파마\n",
      "환인제약\n",
      "휴마시스\n",
      "휴메딕스\n",
      "휴비츠\n",
      "휴온스\n",
      "휴온스글로벌\n"
     ]
    }
   ],
   "source": [
    "for name in df['Unnamed: 0']:\n",
    "    print(name)"
   ]
  }
 ],
 "metadata": {
  "kernelspec": {
   "display_name": "Python 3 (ipykernel)",
   "language": "python",
   "name": "python3"
  },
  "language_info": {
   "codemirror_mode": {
    "name": "ipython",
    "version": 3
   },
   "file_extension": ".py",
   "mimetype": "text/x-python",
   "name": "python",
   "nbconvert_exporter": "python",
   "pygments_lexer": "ipython3",
   "version": "3.8.8"
  }
 },
 "nbformat": 4,
 "nbformat_minor": 5
}
