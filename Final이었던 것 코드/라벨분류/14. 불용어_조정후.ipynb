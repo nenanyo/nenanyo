{
 "cells": [
  {
   "cell_type": "code",
   "execution_count": 1,
   "id": "26315715-20f6-46c1-a87c-82bb601456d9",
   "metadata": {
    "id": "Qww_V4GzhgoS",
    "tags": []
   },
   "outputs": [],
   "source": [
    "import pandas as pd\n",
    "import numpy as np\n",
    "import matplotlib.pyplot as plt\n",
    "from sklearn.model_selection import train_test_split\n",
    "import re\n",
    "import urllib.request\n",
    "import mecab\n",
    "from tqdm import tqdm\n",
    "from tensorflow.keras.preprocessing.text import Tokenizer\n",
    "from tensorflow.keras.preprocessing.sequence import pad_sequences\n",
    "import tensorflow as tf\n",
    "from tensorflow.keras.layers import Embedding, Dense, LSTM\n",
    "from tensorflow.keras.models import Sequential\n",
    "from tensorflow.keras.models import load_model\n",
    "from tensorflow.keras.utils import to_categorical\n",
    "from tensorflow.keras.callbacks import EarlyStopping, ModelCheckpoint\n",
    "import warnings\n",
    "warnings.filterwarnings(action='ignore')"
   ]
  },
  {
   "cell_type": "code",
   "execution_count": 2,
   "id": "02512c2f-2027-4759-a157-9b769e329496",
   "metadata": {
    "tags": []
   },
   "outputs": [
    {
     "data": {
      "text/html": [
       "<div>\n",
       "<style scoped>\n",
       "    .dataframe tbody tr th:only-of-type {\n",
       "        vertical-align: middle;\n",
       "    }\n",
       "\n",
       "    .dataframe tbody tr th {\n",
       "        vertical-align: top;\n",
       "    }\n",
       "\n",
       "    .dataframe thead th {\n",
       "        text-align: right;\n",
       "    }\n",
       "</style>\n",
       "<table border=\"1\" class=\"dataframe\">\n",
       "  <thead>\n",
       "    <tr style=\"text-align: right;\">\n",
       "      <th></th>\n",
       "      <th>labels</th>\n",
       "      <th>kor_sentence</th>\n",
       "      <th>tokenized</th>\n",
       "    </tr>\n",
       "  </thead>\n",
       "  <tbody>\n",
       "    <tr>\n",
       "      <th>0</th>\n",
       "      <td>1.0</td>\n",
       "      <td>[ET투자뉴스]CMG제약_기관의 힘? 대량순매수 이후.. 현재 +3.05%</td>\n",
       "      <td>['[', 'ET', '투자', '뉴스', ']', 'CMG', '제약', '_',...</td>\n",
       "    </tr>\n",
       "    <tr>\n",
       "      <th>1</th>\n",
       "      <td>1.0</td>\n",
       "      <td>[한경로보뉴스] '와이지엔터테인먼트' 52주 신고가 경신</td>\n",
       "      <td>['[', '한경', '로보', '뉴스', ']', \"'\", '와', '이지', '...</td>\n",
       "    </tr>\n",
       "    <tr>\n",
       "      <th>2</th>\n",
       "      <td>1.0</td>\n",
       "      <td>CMG제약(058820) 종목알파고 분석, 외국인/기관 실시간 수급과 추가 매수 확률은?</td>\n",
       "      <td>['CMG', '제약', '(', '058820', ')', '종목', '알파', ...</td>\n",
       "    </tr>\n",
       "    <tr>\n",
       "      <th>3</th>\n",
       "      <td>0.0</td>\n",
       "      <td>CMG제약, 전일 대비 약 -4% 하락한 4,515원</td>\n",
       "      <td>['CMG', '제약', ',', '전일', '대비', '약', '-', '4', ...</td>\n",
       "    </tr>\n",
       "    <tr>\n",
       "      <th>4</th>\n",
       "      <td>1.0</td>\n",
       "      <td>[Hot Stock] CMG제약</td>\n",
       "      <td>['[', 'Hot', 'Stock', ']', 'CMG', '제약']</td>\n",
       "    </tr>\n",
       "  </tbody>\n",
       "</table>\n",
       "</div>"
      ],
      "text/plain": [
       "   labels                                       kor_sentence  \\\n",
       "0     1.0          [ET투자뉴스]CMG제약_기관의 힘? 대량순매수 이후.. 현재 +3.05%   \n",
       "1     1.0                    [한경로보뉴스] '와이지엔터테인먼트' 52주 신고가 경신   \n",
       "2     1.0  CMG제약(058820) 종목알파고 분석, 외국인/기관 실시간 수급과 추가 매수 확률은?   \n",
       "3     0.0                      CMG제약, 전일 대비 약 -4% 하락한 4,515원   \n",
       "4     1.0                                  [Hot Stock] CMG제약   \n",
       "\n",
       "                                           tokenized  \n",
       "0  ['[', 'ET', '투자', '뉴스', ']', 'CMG', '제약', '_',...  \n",
       "1  ['[', '한경', '로보', '뉴스', ']', \"'\", '와', '이지', '...  \n",
       "2  ['CMG', '제약', '(', '058820', ')', '종목', '알파', ...  \n",
       "3  ['CMG', '제약', ',', '전일', '대비', '약', '-', '4', ...  \n",
       "4            ['[', 'Hot', 'Stock', ']', 'CMG', '제약']  "
      ]
     },
     "execution_count": 2,
     "metadata": {},
     "output_type": "execute_result"
    }
   ],
   "source": [
    "df = pd.read_csv('./lable18_22.csv')\n",
    "df.head()"
   ]
  },
  {
   "cell_type": "code",
   "execution_count": 3,
   "id": "1c405bfe-71fe-43a4-8644-ae821966fc8a",
   "metadata": {
    "colab": {
     "base_uri": "https://localhost:8080/"
    },
    "id": "CfQdxYqMj3o8",
    "outputId": "eb91f345-466a-4e67-912f-2ada47d9f12a"
   },
   "outputs": [
    {
     "name": "stdout",
     "output_type": "stream",
     "text": [
      "중립의 비율 = 38.044%\n",
      "긍정의 비율 = 51.086%\n",
      "부정의 비율 = 10.87%\n"
     ]
    }
   ],
   "source": [
    "print(f'중립의 비율 = {round(df[\"labels\"].value_counts()[0]/len(df) * 100,3)}%')\n",
    "print(f'긍정의 비율 = {round(df[\"labels\"].value_counts()[1]/len(df) * 100,3)}%')\n",
    "print(f'부정의 비율 = {round(df[\"labels\"].value_counts()[2]/len(df) * 100,3)}%')"
   ]
  },
  {
   "cell_type": "markdown",
   "id": "91bb04ec-3fa1-4b57-bf27-7d052acdd55e",
   "metadata": {},
   "source": [
    "# 다시 tokenized"
   ]
  },
  {
   "cell_type": "code",
   "execution_count": null,
   "id": "9983a052-5d3e-4f7b-b384-bd8f83551af8",
   "metadata": {
    "tags": []
   },
   "outputs": [],
   "source": [
    "df = df.drop('tokenized',axis=1)\n",
    "df.head(2)"
   ]
  },
  {
   "cell_type": "code",
   "execution_count": 18,
   "id": "f28cdec1-8c20-426c-81f9-ced35a04b441",
   "metadata": {
    "tags": []
   },
   "outputs": [],
   "source": [
    "mecab = mecab.MeCab()\n",
    "df['tokenized'] = df['kor_sentence'].apply(mecab.morphs)"
   ]
  },
  {
   "cell_type": "markdown",
   "id": "7a35d030-1dfe-41ef-b980-bdbeab421ccf",
   "metadata": {},
   "source": [
    "# 불용어 처리"
   ]
  },
  {
   "cell_type": "code",
   "execution_count": 4,
   "id": "23143621-537a-4ad8-aa5a-132d4ad9d302",
   "metadata": {
    "tags": []
   },
   "outputs": [
    {
     "name": "stdout",
     "output_type": "stream",
     "text": [
      "<class 'pandas.core.frame.DataFrame'>\n",
      "RangeIndex: 1313 entries, 0 to 1312\n",
      "Data columns (total 1 columns):\n",
      " #   Column  Non-Null Count  Dtype \n",
      "---  ------  --------------  ----- \n",
      " 0   word    1313 non-null   object\n",
      "dtypes: object(1)\n",
      "memory usage: 10.4+ KB\n"
     ]
    }
   ],
   "source": [
    "stop_word = pd.read_csv('./stop_word_1.csv')\n",
    "stop_word.info()"
   ]
  },
  {
   "cell_type": "code",
   "execution_count": null,
   "id": "437550ea-394c-4a29-90f4-7c6e722c957c",
   "metadata": {
    "tags": []
   },
   "outputs": [],
   "source": [
    "tokenized_1 = []\n",
    "for row in df['tokenized']:\n",
    "    print(row)\n",
    "    tmp =[]\n",
    "    for item in row:\n",
    "        print(item)\n",
    "        if item not in stop_word:\n",
    "            tmp.append(item)\n",
    "    tokenized_1.append(tmp)"
   ]
  },
  {
   "cell_type": "code",
   "execution_count": 26,
   "id": "bae90ed7-28c6-465e-9962-d0c9740f5626",
   "metadata": {
    "tags": []
   },
   "outputs": [
    {
     "data": {
      "text/plain": [
       "41307"
      ]
     },
     "execution_count": 26,
     "metadata": {},
     "output_type": "execute_result"
    }
   ],
   "source": [
    "len(tokenized_1)"
   ]
  },
  {
   "cell_type": "code",
   "execution_count": 28,
   "id": "345f5064-ac66-42b2-af2b-622358191f6c",
   "metadata": {
    "tags": []
   },
   "outputs": [],
   "source": [
    "# tokenized_1[:5]"
   ]
  },
  {
   "cell_type": "code",
   "execution_count": null,
   "id": "956fe1a6-1b07-4c3d-8981-24c239841544",
   "metadata": {
    "tags": []
   },
   "outputs": [],
   "source": [
    "df['tokenized'][0][10:20]"
   ]
  },
  {
   "cell_type": "code",
   "execution_count": null,
   "id": "4d26aeae-89fb-47e7-ba7d-e107f34120b2",
   "metadata": {
    "tags": []
   },
   "outputs": [],
   "source": [
    "print(tokenized_1)"
   ]
  },
  {
   "cell_type": "code",
   "execution_count": null,
   "id": "63d99c45-d8d1-4320-bd48-60c16d707c63",
   "metadata": {
    "tags": []
   },
   "outputs": [],
   "source": [
    "len(tokenized_1), len(df)"
   ]
  },
  {
   "cell_type": "code",
   "execution_count": null,
   "id": "aaefe30f-8fd9-4ffb-89a2-6c1db2163dd0",
   "metadata": {
    "tags": []
   },
   "outputs": [],
   "source": [
    "df['tokenized_1'] = tokenized_1"
   ]
  },
  {
   "cell_type": "code",
   "execution_count": null,
   "id": "5cd63873-e2d3-40fd-bb78-177b1bf8fb5f",
   "metadata": {
    "tags": []
   },
   "outputs": [],
   "source": [
    "df['tokenized_1'].head(2)"
   ]
  },
  {
   "cell_type": "markdown",
   "id": "c872a3c7-f922-44f4-afdb-d046e0b5baaa",
   "metadata": {},
   "source": [
    "# 훈련 - 테스트"
   ]
  },
  {
   "cell_type": "code",
   "execution_count": null,
   "id": "b618bb31-2758-4379-b574-b8ff2a1540a5",
   "metadata": {
    "colab": {
     "base_uri": "https://localhost:8080/"
    },
    "id": "l8foVC2rkJtF",
    "outputId": "cb15df09-e7eb-43b0-da0a-1b50c36eb31e"
   },
   "outputs": [],
   "source": [
    "X = df['tokenized']\n",
    "y = df['labels']\n",
    "print('본문의 개수: {}'.format(len(X)))\n",
    "print('레이블의 개수: {}'.format(len(y)))"
   ]
  },
  {
   "cell_type": "code",
   "execution_count": null,
   "id": "79ce0b0d-7267-4ae5-9566-c24b5baee8d4",
   "metadata": {
    "id": "qmFecWmSkHiu"
   },
   "outputs": [],
   "source": [
    "X_train, X_test, y_train, y_test = train_test_split(X, y, test_size=0.2, random_state=0, stratify=y)"
   ]
  },
  {
   "cell_type": "markdown",
   "id": "2c74e40d-8a39-4e12-b200-737a2f3dfe06",
   "metadata": {},
   "source": [
    "# tokenize"
   ]
  },
  {
   "cell_type": "code",
   "execution_count": null,
   "id": "889d2c83-3e41-4f90-8c96-6f31da57a0ab",
   "metadata": {
    "colab": {
     "base_uri": "https://localhost:8080/"
    },
    "id": "5qCRNyvpkjEY",
    "outputId": "79b5f0b6-1598-48ea-b7d5-aeb16074ff08"
   },
   "outputs": [],
   "source": [
    "tokenizer = Tokenizer()\n",
    "tokenizer.fit_on_texts(X_train)\n",
    "X_train_encoded = tokenizer.texts_to_sequences(X_train)\n",
    "X_test_encoded = tokenizer.texts_to_sequences(X_test)\n",
    "print(X_train_encoded[:5])\n",
    "print(X_test_encoded[:5])"
   ]
  },
  {
   "cell_type": "code",
   "execution_count": null,
   "id": "c2c81e91-7887-4d6b-b34d-ec350768e0d8",
   "metadata": {
    "colab": {
     "base_uri": "https://localhost:8080/"
    },
    "id": "KAXqMlPtkm9d",
    "outputId": "a3ceac7d-6e64-491b-ae48-5111f9bd1ab4"
   },
   "outputs": [],
   "source": [
    "word_to_index = tokenizer.word_index\n",
    "vocab_size = len(word_to_index) + 1\n",
    "print(vocab_size)"
   ]
  },
  {
   "cell_type": "markdown",
   "id": "a7024f40-5c6b-49d1-8ef5-7064d5f27f13",
   "metadata": {},
   "source": [
    "## 패딩"
   ]
  },
  {
   "cell_type": "code",
   "execution_count": null,
   "id": "86d3df4a-8c5f-4bbc-8698-62c41abbc256",
   "metadata": {
    "tags": []
   },
   "outputs": [],
   "source": [
    "X_train[:2]"
   ]
  },
  {
   "cell_type": "code",
   "execution_count": null,
   "id": "843905cb-ea2b-4ddb-b50b-89acd5317561",
   "metadata": {
    "colab": {
     "base_uri": "https://localhost:8080/",
     "height": 315
    },
    "id": "CVaCLg2glTIo",
    "outputId": "2ee453f6-3488-45ca-dabd-250e064230d3"
   },
   "outputs": [],
   "source": [
    "print(  '본문의 최대 길이 :',   max(   len(sent) for sent in X_train   )   )\n",
    "# X_train 요소 하나하나 길이 재서 최대길이추출\n",
    "print(   '본문의 평균 길이 :',  sum(    map(len, X_train)  )   /  len(X_train)     )\n",
    "# X_train 요소 길이 재서 sum하구 X_train 개수로 나눈다\n",
    "plt.hist([len(sent) for sent in X_train], bins=50)\n",
    "plt.xlabel('length of samples')\n",
    "plt.ylabel('number of samples')\n",
    "plt.show()"
   ]
  },
  {
   "cell_type": "code",
   "execution_count": null,
   "id": "ce8810a5-1143-4133-9441-b8981baa604d",
   "metadata": {
    "id": "vZvzv8jClpTF"
   },
   "outputs": [],
   "source": [
    "max_len = 76"
   ]
  },
  {
   "cell_type": "code",
   "execution_count": null,
   "id": "a4d28cf2-e07d-4e71-a70e-0c3278de916a",
   "metadata": {
    "id": "DO-ypzo6lmuu"
   },
   "outputs": [],
   "source": [
    "X_train_encoded = pad_sequences(X_train_encoded, maxlen=max_len)\n",
    "X_test_encoded = pad_sequences(X_test_encoded, maxlen=max_len)"
   ]
  },
  {
   "cell_type": "code",
   "execution_count": null,
   "id": "5fee8e3c-35e6-4ba8-91dc-ac58f3d51f5d",
   "metadata": {
    "colab": {
     "base_uri": "https://localhost:8080/"
    },
    "id": "_3LInCb9lqUZ",
    "outputId": "64822180-1fb5-44b5-ba3f-317c8bdfb2ca"
   },
   "outputs": [],
   "source": [
    "X_train_encoded.shape"
   ]
  },
  {
   "cell_type": "code",
   "execution_count": null,
   "id": "90a5175f-5eeb-47a4-bbc4-78c01408efb3",
   "metadata": {
    "colab": {
     "base_uri": "https://localhost:8080/"
    },
    "id": "BRNfINkFlxHI",
    "outputId": "48643685-2064-4ff0-d8eb-7c406fc2245a"
   },
   "outputs": [],
   "source": [
    "X_test_encoded.shape"
   ]
  },
  {
   "cell_type": "code",
   "execution_count": null,
   "id": "1701ff00-d230-40c1-b060-462adecce660",
   "metadata": {
    "id": "wR9qe8oUlyKo"
   },
   "outputs": [],
   "source": [
    "import tensorflow as tf\n",
    "from tensorflow.keras.layers import Embedding, Dense, LSTM\n",
    "from tensorflow.keras.models import Sequential\n",
    "from tensorflow.keras.models import load_model\n",
    "from tensorflow.keras.utils import to_categorical\n",
    "from tensorflow.keras.callbacks import EarlyStopping, ModelCheckpoint"
   ]
  },
  {
   "cell_type": "code",
   "execution_count": null,
   "id": "00f6eca6-0cb2-47f7-8d5f-fd0fa5908c26",
   "metadata": {
    "tags": []
   },
   "outputs": [],
   "source": [
    "X_test[:1]"
   ]
  },
  {
   "cell_type": "code",
   "execution_count": null,
   "id": "ca307f84-32dc-4ed0-8e1b-043bd1e62e64",
   "metadata": {
    "tags": []
   },
   "outputs": [],
   "source": [
    "X_train_encoded[0]"
   ]
  },
  {
   "cell_type": "code",
   "execution_count": null,
   "id": "51759cfe-8392-48dc-9bff-febb208ff518",
   "metadata": {
    "tags": []
   },
   "outputs": [],
   "source": [
    "X_train_encoded.shape"
   ]
  },
  {
   "cell_type": "code",
   "execution_count": null,
   "id": "615ac7c4-16a8-458d-bfec-7fc199ae2e6c",
   "metadata": {
    "tags": []
   },
   "outputs": [],
   "source": [
    "y_test[8]"
   ]
  },
  {
   "cell_type": "code",
   "execution_count": null,
   "id": "a07a8d46-b5d7-42a2-ba7f-a2041c6f9e42",
   "metadata": {
    "tags": []
   },
   "outputs": [],
   "source": [
    "y_train.shape"
   ]
  },
  {
   "cell_type": "code",
   "execution_count": null,
   "id": "84f6597f-8377-4c7e-a355-1ba55b404ab6",
   "metadata": {
    "id": "OG8mNRPqmRb1"
   },
   "outputs": [],
   "source": [
    "y_train = to_categorical(y_train)\n",
    "y_test = to_categorical(y_test)"
   ]
  },
  {
   "cell_type": "code",
   "execution_count": null,
   "id": "09c769d1-4104-4eb1-979c-6b03176a9db9",
   "metadata": {
    "tags": []
   },
   "outputs": [],
   "source": [
    "y_train.shape"
   ]
  },
  {
   "cell_type": "markdown",
   "id": "05880f62-7454-4aac-b744-1427f70f66f3",
   "metadata": {},
   "source": [
    " * 테스트 정확도: 0.8574"
   ]
  },
  {
   "cell_type": "code",
   "execution_count": null,
   "id": "2f4fbbf7-383d-443f-ba34-c95b4395956a",
   "metadata": {
    "colab": {
     "base_uri": "https://localhost:8080/"
    },
    "id": "qcgxpi4zmWHd",
    "outputId": "ab93b729-da07-44c0-f1ec-8c39cbf8c7ec"
   },
   "outputs": [],
   "source": [
    "embedding_dim = 64\n",
    "hidden_units = 64\n",
    "num_classes = 3\n",
    "\n",
    "model = Sequential()\n",
    "model.add(Embedding(vocab_size, embedding_dim))\n",
    "model.add(LSTM(hidden_units))\n",
    "model.add(Dense(num_classes, activation='softmax'))\n",
    "\n",
    "es = EarlyStopping(monitor='val_loss', mode='min', verbose=1, patience=4)\n",
    "mc = ModelCheckpoint('./NLP/3.best_model_18_22.h5', monitor='val_acc', mode='max', verbose=1, save_best_only=True)\n",
    "\n",
    "model.compile(loss='categorical_crossentropy', optimizer='adam', metrics=['acc'])\n",
    "history = model.fit(X_train_encoded, y_train, epochs=15, callbacks=[es, mc], batch_size=32, validation_split=0.2)"
   ]
  },
  {
   "cell_type": "code",
   "execution_count": null,
   "id": "3c4977f6-240d-4a30-99da-3791f362cc3a",
   "metadata": {
    "colab": {
     "base_uri": "https://localhost:8080/"
    },
    "id": "qtj0EMOEmeEX",
    "outputId": "e64117af-a089-4155-ba53-e2481a094cd2",
    "tags": []
   },
   "outputs": [],
   "source": [
    "loaded_model = load_model('./NLP/3.best_model_18_22.h5')\n",
    "print(\"\\n 테스트 정확도: %.4f\" % (loaded_model.evaluate(X_test_encoded, y_test)[1]))"
   ]
  },
  {
   "cell_type": "code",
   "execution_count": null,
   "id": "9f8b0a1b-4022-4503-b78b-b5dec08b135c",
   "metadata": {
    "tags": []
   },
   "outputs": [],
   "source": [
    "loaded_model"
   ]
  },
  {
   "cell_type": "code",
   "execution_count": null,
   "id": "b86182f2-d77e-4f21-9a32-4d12d9ba2a0a",
   "metadata": {},
   "outputs": [],
   "source": []
  }
 ],
 "metadata": {
  "kernelspec": {
   "display_name": "Python 3 (ipykernel)",
   "language": "python",
   "name": "python3"
  },
  "language_info": {
   "codemirror_mode": {
    "name": "ipython",
    "version": 3
   },
   "file_extension": ".py",
   "mimetype": "text/x-python",
   "name": "python",
   "nbconvert_exporter": "python",
   "pygments_lexer": "ipython3",
   "version": "3.8.8"
  }
 },
 "nbformat": 4,
 "nbformat_minor": 5
}
