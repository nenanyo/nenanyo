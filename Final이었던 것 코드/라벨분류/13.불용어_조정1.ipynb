{
 "cells": [
  {
   "cell_type": "code",
   "execution_count": 1,
   "id": "897d8df8-29ca-4c4b-9549-7bee02f9a04b",
   "metadata": {
    "id": "Qww_V4GzhgoS",
    "tags": []
   },
   "outputs": [],
   "source": [
    "import pandas as pd\n",
    "import numpy as np\n",
    "import matplotlib.pyplot as plt\n",
    "from sklearn.model_selection import train_test_split\n",
    "import re\n",
    "import urllib.request\n",
    "import mecab\n",
    "from tqdm import tqdm\n",
    "from tensorflow.keras.preprocessing.text import Tokenizer\n",
    "from tensorflow.keras.preprocessing.sequence import pad_sequences\n",
    "import tensorflow as tf\n",
    "from tensorflow.keras.layers import Embedding, Dense, LSTM\n",
    "from tensorflow.keras.models import Sequential\n",
    "from tensorflow.keras.models import load_model\n",
    "from tensorflow.keras.utils import to_categorical\n",
    "from tensorflow.keras.callbacks import EarlyStopping, ModelCheckpoint\n",
    "import warnings\n",
    "warnings.filterwarnings(action='ignore')"
   ]
  },
  {
   "cell_type": "code",
   "execution_count": 2,
   "id": "52930cae-48b9-42b2-8d95-8bc2967d7bb4",
   "metadata": {
    "tags": []
   },
   "outputs": [
    {
     "data": {
      "text/html": [
       "<div>\n",
       "<style scoped>\n",
       "    .dataframe tbody tr th:only-of-type {\n",
       "        vertical-align: middle;\n",
       "    }\n",
       "\n",
       "    .dataframe tbody tr th {\n",
       "        vertical-align: top;\n",
       "    }\n",
       "\n",
       "    .dataframe thead th {\n",
       "        text-align: right;\n",
       "    }\n",
       "</style>\n",
       "<table border=\"1\" class=\"dataframe\">\n",
       "  <thead>\n",
       "    <tr style=\"text-align: right;\">\n",
       "      <th></th>\n",
       "      <th>labels</th>\n",
       "      <th>kor_sentence</th>\n",
       "      <th>tokenized</th>\n",
       "    </tr>\n",
       "  </thead>\n",
       "  <tbody>\n",
       "    <tr>\n",
       "      <th>0</th>\n",
       "      <td>1.0</td>\n",
       "      <td>[ET투자뉴스]CMG제약_기관의 힘? 대량순매수 이후.. 현재 +3.05%</td>\n",
       "      <td>['[', 'ET', '투자', '뉴스', ']', 'CMG', '제약', '_',...</td>\n",
       "    </tr>\n",
       "    <tr>\n",
       "      <th>1</th>\n",
       "      <td>1.0</td>\n",
       "      <td>[한경로보뉴스] '와이지엔터테인먼트' 52주 신고가 경신</td>\n",
       "      <td>['[', '한경', '로보', '뉴스', ']', \"'\", '와', '이지', '...</td>\n",
       "    </tr>\n",
       "    <tr>\n",
       "      <th>2</th>\n",
       "      <td>1.0</td>\n",
       "      <td>CMG제약(058820) 종목알파고 분석, 외국인/기관 실시간 수급과 추가 매수 확률은?</td>\n",
       "      <td>['CMG', '제약', '(', '058820', ')', '종목', '알파', ...</td>\n",
       "    </tr>\n",
       "    <tr>\n",
       "      <th>3</th>\n",
       "      <td>0.0</td>\n",
       "      <td>CMG제약, 전일 대비 약 -4% 하락한 4,515원</td>\n",
       "      <td>['CMG', '제약', ',', '전일', '대비', '약', '-', '4', ...</td>\n",
       "    </tr>\n",
       "    <tr>\n",
       "      <th>4</th>\n",
       "      <td>1.0</td>\n",
       "      <td>[Hot Stock] CMG제약</td>\n",
       "      <td>['[', 'Hot', 'Stock', ']', 'CMG', '제약']</td>\n",
       "    </tr>\n",
       "  </tbody>\n",
       "</table>\n",
       "</div>"
      ],
      "text/plain": [
       "   labels                                       kor_sentence  \\\n",
       "0     1.0          [ET투자뉴스]CMG제약_기관의 힘? 대량순매수 이후.. 현재 +3.05%   \n",
       "1     1.0                    [한경로보뉴스] '와이지엔터테인먼트' 52주 신고가 경신   \n",
       "2     1.0  CMG제약(058820) 종목알파고 분석, 외국인/기관 실시간 수급과 추가 매수 확률은?   \n",
       "3     0.0                      CMG제약, 전일 대비 약 -4% 하락한 4,515원   \n",
       "4     1.0                                  [Hot Stock] CMG제약   \n",
       "\n",
       "                                           tokenized  \n",
       "0  ['[', 'ET', '투자', '뉴스', ']', 'CMG', '제약', '_',...  \n",
       "1  ['[', '한경', '로보', '뉴스', ']', \"'\", '와', '이지', '...  \n",
       "2  ['CMG', '제약', '(', '058820', ')', '종목', '알파', ...  \n",
       "3  ['CMG', '제약', ',', '전일', '대비', '약', '-', '4', ...  \n",
       "4            ['[', 'Hot', 'Stock', ']', 'CMG', '제약']  "
      ]
     },
     "execution_count": 2,
     "metadata": {},
     "output_type": "execute_result"
    }
   ],
   "source": [
    "df=pd.read_csv('./lable18_22.csv')\n",
    "df.head()"
   ]
  },
  {
   "cell_type": "code",
   "execution_count": 4,
   "id": "1fd14f57-59b8-4402-b265-7b1a09d6d320",
   "metadata": {
    "tags": []
   },
   "outputs": [
    {
     "data": {
      "text/html": [
       "<div>\n",
       "<style scoped>\n",
       "    .dataframe tbody tr th:only-of-type {\n",
       "        vertical-align: middle;\n",
       "    }\n",
       "\n",
       "    .dataframe tbody tr th {\n",
       "        vertical-align: top;\n",
       "    }\n",
       "\n",
       "    .dataframe thead th {\n",
       "        text-align: right;\n",
       "    }\n",
       "</style>\n",
       "<table border=\"1\" class=\"dataframe\">\n",
       "  <thead>\n",
       "    <tr style=\"text-align: right;\">\n",
       "      <th></th>\n",
       "      <th>word</th>\n",
       "    </tr>\n",
       "  </thead>\n",
       "  <tbody>\n",
       "    <tr>\n",
       "      <th>1</th>\n",
       "      <td>으로</td>\n",
       "    </tr>\n",
       "    <tr>\n",
       "      <th>2</th>\n",
       "      <td>는</td>\n",
       "    </tr>\n",
       "    <tr>\n",
       "      <th>3</th>\n",
       "      <td>되</td>\n",
       "    </tr>\n",
       "    <tr>\n",
       "      <th>4</th>\n",
       "      <td>를</td>\n",
       "    </tr>\n",
       "    <tr>\n",
       "      <th>5</th>\n",
       "      <td>수</td>\n",
       "    </tr>\n",
       "  </tbody>\n",
       "</table>\n",
       "</div>"
      ],
      "text/plain": [
       "  word\n",
       "1   으로\n",
       "2    는\n",
       "3    되\n",
       "4    를\n",
       "5    수"
      ]
     },
     "execution_count": 4,
     "metadata": {},
     "output_type": "execute_result"
    }
   ],
   "source": [
    "stop_word = pd.read_csv('./stop_word_0.csv',names = ['idx','word'])\n",
    "stop_word = stop_word.dropna()\n",
    "# stop_word = stop_word.set_index('idx')\n",
    "stop_word = stop_word.drop('idx',axis=1)\n",
    "\n",
    "stop_word.head()"
   ]
  },
  {
   "cell_type": "code",
   "execution_count": 5,
   "id": "9072e1a4-df8c-4ab7-9481-7b8ff98e44e4",
   "metadata": {
    "tags": []
   },
   "outputs": [
    {
     "data": {
      "text/plain": [
       "word    으로\n",
       "Name: 1, dtype: object"
      ]
     },
     "execution_count": 5,
     "metadata": {},
     "output_type": "execute_result"
    }
   ],
   "source": [
    "stop_word.iloc[0]"
   ]
  },
  {
   "cell_type": "code",
   "execution_count": 6,
   "id": "3d66c676-a0ce-47ae-a217-64c7da34dbf4",
   "metadata": {
    "tags": []
   },
   "outputs": [
    {
     "name": "stdout",
     "output_type": "stream",
     "text": [
      "<class 'pandas.core.frame.DataFrame'>\n",
      "Int64Index: 1416 entries, 1 to 1416\n",
      "Data columns (total 1 columns):\n",
      " #   Column  Non-Null Count  Dtype \n",
      "---  ------  --------------  ----- \n",
      " 0   word    1416 non-null   object\n",
      "dtypes: object(1)\n",
      "memory usage: 22.1+ KB\n"
     ]
    }
   ],
   "source": [
    "stop_word.info()"
   ]
  },
  {
   "cell_type": "code",
   "execution_count": 7,
   "id": "0d064e52-5252-4a77-aec9-39e2db296a87",
   "metadata": {
    "tags": []
   },
   "outputs": [
    {
     "data": {
      "text/plain": [
       "1416"
      ]
     },
     "execution_count": 7,
     "metadata": {},
     "output_type": "execute_result"
    }
   ],
   "source": [
    "len(stop_word)"
   ]
  },
  {
   "cell_type": "code",
   "execution_count": 8,
   "id": "17ce39ca-93ae-4fea-8250-a22c92fb4144",
   "metadata": {
    "tags": []
   },
   "outputs": [],
   "source": [
    "# for i,word in enumerate(stop_word['word']):\n",
    "#     print(i+1, word)\n",
    "#     # print(word)"
   ]
  },
  {
   "cell_type": "code",
   "execution_count": 9,
   "id": "1bca5451-cdf1-43cc-b098-ef6a94424517",
   "metadata": {
    "tags": []
   },
   "outputs": [],
   "source": [
    "del_idx = [16,74,87,90,91,97,101,103,110,117,121,124,125,127,129,140,160,170,171,184,185,190,192,202,205,221,257,283,342,357\n",
    "           ,372,397,408,430,438,460,513,549,577 ,581 ,589 ,592 ,605 ,613,621 ,638 ,671 ,680 ,694 ,699 ,712 ,725 ,752 ,756 ,777 \n",
    "           ,780 ,785 ,799 ,825 ,828 ,845 ,849 ,860 ,873 ,887 ,893 ,894 ,899 ,918 ,929 ,935 ,939 ,946 ,960 ,964 ,971 ,979 ,984 ,989 ,1009\n",
    "           ,1010 ,1011 ,1012 ,1014 ,1016 ,1018 ,1019 ,1021 ,1022 ,1026 ,1027 ,1030 ,1038 ,1053 ,1057 ,1058 ,1061 ,1063 ,1064 ,1066 ,1073 \n",
    "           ,1074 ,1082 ,1092 ,1096 ,1106 ,1111 ,1114 ,1132 ,1137 ,1142 ,1165 ,1167 ,1182 ,1208 ,1252 ,1260 ,1262 ,1268 ,1272 ,1274 ,1281 \n",
    "           ,1288 ,1294 ,1306 ,1327 ,1345 ,1356 ,1367 ,1374 ,1377 ,1382 ,1409]"
   ]
  },
  {
   "cell_type": "code",
   "execution_count": 10,
   "id": "bda5df87-d4c6-47e7-a46b-a7bb555fcb30",
   "metadata": {
    "tags": []
   },
   "outputs": [
    {
     "data": {
      "text/plain": [
       "Int64Index([   1,    2,    3,    4,    5,    6,    7,    8,    9,   10,\n",
       "            ...\n",
       "            1407, 1408, 1409, 1410, 1411, 1412, 1413, 1414, 1415, 1416],\n",
       "           dtype='int64', length=1416)"
      ]
     },
     "execution_count": 10,
     "metadata": {},
     "output_type": "execute_result"
    }
   ],
   "source": [
    "stop_word.index"
   ]
  },
  {
   "cell_type": "code",
   "execution_count": 11,
   "id": "1d4226d4-8e85-4685-99c7-80d76bac7c1c",
   "metadata": {
    "tags": []
   },
   "outputs": [],
   "source": [
    "for idx in del_idx:\n",
    "    # print(stop_word.iloc[idx-1])\n",
    "    stop_word = stop_word.drop(idx-1, axis = 0)"
   ]
  },
  {
   "cell_type": "code",
   "execution_count": 12,
   "id": "69820fb4-584e-4327-847c-ac17aec9bf77",
   "metadata": {
    "tags": []
   },
   "outputs": [
    {
     "data": {
      "text/plain": [
       "1283"
      ]
     },
     "execution_count": 12,
     "metadata": {},
     "output_type": "execute_result"
    }
   ],
   "source": [
    "len(stop_word)"
   ]
  },
  {
   "cell_type": "code",
   "execution_count": 14,
   "id": "002401af-678e-402b-998a-01941dfda874",
   "metadata": {
    "tags": []
   },
   "outputs": [
    {
     "data": {
      "text/html": [
       "<div>\n",
       "<style scoped>\n",
       "    .dataframe tbody tr th:only-of-type {\n",
       "        vertical-align: middle;\n",
       "    }\n",
       "\n",
       "    .dataframe tbody tr th {\n",
       "        vertical-align: top;\n",
       "    }\n",
       "\n",
       "    .dataframe thead th {\n",
       "        text-align: right;\n",
       "    }\n",
       "</style>\n",
       "<table border=\"1\" class=\"dataframe\">\n",
       "  <thead>\n",
       "    <tr style=\"text-align: right;\">\n",
       "      <th></th>\n",
       "      <th>word</th>\n",
       "    </tr>\n",
       "  </thead>\n",
       "  <tbody>\n",
       "    <tr>\n",
       "      <th>1</th>\n",
       "      <td>으로</td>\n",
       "    </tr>\n",
       "    <tr>\n",
       "      <th>2</th>\n",
       "      <td>는</td>\n",
       "    </tr>\n",
       "    <tr>\n",
       "      <th>3</th>\n",
       "      <td>되</td>\n",
       "    </tr>\n",
       "    <tr>\n",
       "      <th>4</th>\n",
       "      <td>를</td>\n",
       "    </tr>\n",
       "    <tr>\n",
       "      <th>5</th>\n",
       "      <td>수</td>\n",
       "    </tr>\n",
       "    <tr>\n",
       "      <th>...</th>\n",
       "      <td>...</td>\n",
       "    </tr>\n",
       "    <tr>\n",
       "      <th>1412</th>\n",
       "      <td>代</td>\n",
       "    </tr>\n",
       "    <tr>\n",
       "      <th>1413</th>\n",
       "      <td>뇨</td>\n",
       "    </tr>\n",
       "    <tr>\n",
       "      <th>1414</th>\n",
       "      <td>꿰</td>\n",
       "    </tr>\n",
       "    <tr>\n",
       "      <th>1415</th>\n",
       "      <td>찬</td>\n",
       "    </tr>\n",
       "    <tr>\n",
       "      <th>1416</th>\n",
       "      <td>'㈜</td>\n",
       "    </tr>\n",
       "  </tbody>\n",
       "</table>\n",
       "<p>1283 rows × 1 columns</p>\n",
       "</div>"
      ],
      "text/plain": [
       "     word\n",
       "1      으로\n",
       "2       는\n",
       "3       되\n",
       "4       를\n",
       "5       수\n",
       "...   ...\n",
       "1412    代\n",
       "1413    뇨\n",
       "1414    꿰\n",
       "1415    찬\n",
       "1416   '㈜\n",
       "\n",
       "[1283 rows x 1 columns]"
      ]
     },
     "execution_count": 14,
     "metadata": {},
     "output_type": "execute_result"
    }
   ],
   "source": [
    "stop_word"
   ]
  },
  {
   "cell_type": "code",
   "execution_count": 16,
   "id": "dba36abc-b8d6-49bd-ae10-7f414de9eaff",
   "metadata": {
    "tags": []
   },
   "outputs": [],
   "source": [
    "특수기호 = ['[','\\\\','{','}','[',']','/','?','.',',',';',':','|',')','*','~','`','^','_','<','>','@','#','$','%','&','=','(','\\'','\\\"']"
   ]
  },
  {
   "cell_type": "code",
   "execution_count": 18,
   "id": "10c1adb5-aab4-4d54-841c-46507065b118",
   "metadata": {
    "tags": []
   },
   "outputs": [],
   "source": [
    "dic = {'word':특수기호}\n",
    "temp = pd.DataFrame(dic)"
   ]
  },
  {
   "cell_type": "code",
   "execution_count": 21,
   "id": "0d0ffab9-4a85-4068-8471-81d241f6bb56",
   "metadata": {
    "tags": []
   },
   "outputs": [],
   "source": [
    "stop_word = pd.concat([stop_word, temp], ignore_index=True)"
   ]
  },
  {
   "cell_type": "code",
   "execution_count": 22,
   "id": "eff3b993-2ef0-47cf-b02f-4198c6640663",
   "metadata": {
    "tags": []
   },
   "outputs": [],
   "source": [
    "stop_word_1 = stop_word\n"
   ]
  },
  {
   "cell_type": "code",
   "execution_count": 23,
   "id": "49419a8a-c05f-40d9-802e-3cfddbfa560d",
   "metadata": {
    "tags": []
   },
   "outputs": [],
   "source": [
    "stop_word_1.to_csv('./stop_word_1.csv', index=False)"
   ]
  }
 ],
 "metadata": {
  "kernelspec": {
   "display_name": "Python 3 (ipykernel)",
   "language": "python",
   "name": "python3"
  },
  "language_info": {
   "codemirror_mode": {
    "name": "ipython",
    "version": 3
   },
   "file_extension": ".py",
   "mimetype": "text/x-python",
   "name": "python",
   "nbconvert_exporter": "python",
   "pygments_lexer": "ipython3",
   "version": "3.8.8"
  }
 },
 "nbformat": 4,
 "nbformat_minor": 5
}
