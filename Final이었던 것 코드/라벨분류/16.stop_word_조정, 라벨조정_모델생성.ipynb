{
 "cells": [
  {
   "cell_type": "code",
   "execution_count": 1,
   "id": "d526e4da-54a3-4fbb-87ca-d2b625942719",
   "metadata": {
    "id": "Qww_V4GzhgoS",
    "tags": []
   },
   "outputs": [],
   "source": [
    "import pandas as pd\n",
    "import numpy as np\n",
    "import matplotlib.pyplot as plt\n",
    "from sklearn.model_selection import train_test_split\n",
    "import re\n",
    "import urllib.request\n",
    "import mecab\n",
    "from tqdm import tqdm\n",
    "from tensorflow.keras.preprocessing.text import Tokenizer\n",
    "from tensorflow.keras.preprocessing.sequence import pad_sequences\n",
    "import tensorflow as tf\n",
    "from tensorflow.keras.layers import Embedding, Dense, LSTM\n",
    "from tensorflow.keras.models import Sequential\n",
    "from tensorflow.keras.models import load_model\n",
    "from tensorflow.keras.utils import to_categorical\n",
    "from tensorflow.keras.callbacks import EarlyStopping, ModelCheckpoint\n",
    "import warnings\n",
    "warnings.filterwarnings(action='ignore')"
   ]
  },
  {
   "cell_type": "markdown",
   "id": "45855e01-b552-42cd-8293-c54a424a95b4",
   "metadata": {},
   "source": [
    "# 데이터 로드"
   ]
  },
  {
   "cell_type": "code",
   "execution_count": 2,
   "id": "34d06a68-bbc1-4cc0-a391-fe20a28158d4",
   "metadata": {
    "tags": []
   },
   "outputs": [
    {
     "data": {
      "text/html": [
       "<div>\n",
       "<style scoped>\n",
       "    .dataframe tbody tr th:only-of-type {\n",
       "        vertical-align: middle;\n",
       "    }\n",
       "\n",
       "    .dataframe tbody tr th {\n",
       "        vertical-align: top;\n",
       "    }\n",
       "\n",
       "    .dataframe thead th {\n",
       "        text-align: right;\n",
       "    }\n",
       "</style>\n",
       "<table border=\"1\" class=\"dataframe\">\n",
       "  <thead>\n",
       "    <tr style=\"text-align: right;\">\n",
       "      <th></th>\n",
       "      <th>date</th>\n",
       "      <th>category</th>\n",
       "      <th>section</th>\n",
       "      <th>publisher</th>\n",
       "      <th>author</th>\n",
       "      <th>title</th>\n",
       "      <th>content_url</th>\n",
       "      <th>attachment</th>\n",
       "      <th>industry.label</th>\n",
       "      <th>industry.score</th>\n",
       "      <th>industry.name</th>\n",
       "      <th>polarity.label</th>\n",
       "      <th>polarity.score</th>\n",
       "      <th>polarity.name</th>\n",
       "      <th>corp</th>\n",
       "    </tr>\n",
       "  </thead>\n",
       "  <tbody>\n",
       "    <tr>\n",
       "      <th>0</th>\n",
       "      <td>2018-12-27</td>\n",
       "      <td>news</td>\n",
       "      <td>economy</td>\n",
       "      <td>전자신문</td>\n",
       "      <td>NaN</td>\n",
       "      <td>[ET투자뉴스]CMG제약_기관의 힘? 대량순매수 이후.. 현재 +3.05%</td>\n",
       "      <td>NaN</td>\n",
       "      <td>NaN</td>\n",
       "      <td>C21</td>\n",
       "      <td>1.00</td>\n",
       "      <td>의료용 물질 및 의약품 제조업</td>\n",
       "      <td>1.0</td>\n",
       "      <td>0.643</td>\n",
       "      <td>긍정</td>\n",
       "      <td>DeepSearch-CMG제약-news-2018-01-01-2018-12-31-20...</td>\n",
       "    </tr>\n",
       "    <tr>\n",
       "      <th>1</th>\n",
       "      <td>2018-12-24</td>\n",
       "      <td>news</td>\n",
       "      <td>economy</td>\n",
       "      <td>한국경제</td>\n",
       "      <td>NaN</td>\n",
       "      <td>[한경로보뉴스] '와이지엔터테인먼트' 52주 신고가 경신</td>\n",
       "      <td>NaN</td>\n",
       "      <td>NaN</td>\n",
       "      <td>C26</td>\n",
       "      <td>0.59</td>\n",
       "      <td>전자 부품, 컴퓨터, 영상, 음향 및 통신장비 제조업</td>\n",
       "      <td>1.0</td>\n",
       "      <td>0.667</td>\n",
       "      <td>긍정</td>\n",
       "      <td>DeepSearch-CMG제약-news-2018-01-01-2018-12-31-20...</td>\n",
       "    </tr>\n",
       "  </tbody>\n",
       "</table>\n",
       "</div>"
      ],
      "text/plain": [
       "         date category  section publisher author  \\\n",
       "0  2018-12-27     news  economy      전자신문    NaN   \n",
       "1  2018-12-24     news  economy      한국경제    NaN   \n",
       "\n",
       "                                       title  content_url  attachment  \\\n",
       "0  [ET투자뉴스]CMG제약_기관의 힘? 대량순매수 이후.. 현재 +3.05%          NaN         NaN   \n",
       "1            [한경로보뉴스] '와이지엔터테인먼트' 52주 신고가 경신          NaN         NaN   \n",
       "\n",
       "  industry.label  industry.score                  industry.name  \\\n",
       "0            C21            1.00               의료용 물질 및 의약품 제조업   \n",
       "1            C26            0.59  전자 부품, 컴퓨터, 영상, 음향 및 통신장비 제조업   \n",
       "\n",
       "   polarity.label  polarity.score polarity.name  \\\n",
       "0             1.0           0.643            긍정   \n",
       "1             1.0           0.667            긍정   \n",
       "\n",
       "                                                corp  \n",
       "0  DeepSearch-CMG제약-news-2018-01-01-2018-12-31-20...  \n",
       "1  DeepSearch-CMG제약-news-2018-01-01-2018-12-31-20...  "
      ]
     },
     "execution_count": 2,
     "metadata": {},
     "output_type": "execute_result"
    }
   ],
   "source": [
    "df = pd.read_csv('./df10-18.csv')\n",
    "df.head(2)"
   ]
  },
  {
   "cell_type": "code",
   "execution_count": 3,
   "id": "6b91123f-727b-4cae-b5b2-3a7b587c268e",
   "metadata": {
    "tags": []
   },
   "outputs": [],
   "source": [
    "df = df.iloc[:,[5,11]]"
   ]
  },
  {
   "cell_type": "code",
   "execution_count": 4,
   "id": "4f79f62f-e534-4e71-a36f-4d68f189811b",
   "metadata": {
    "tags": []
   },
   "outputs": [
    {
     "data": {
      "text/html": [
       "<div>\n",
       "<style scoped>\n",
       "    .dataframe tbody tr th:only-of-type {\n",
       "        vertical-align: middle;\n",
       "    }\n",
       "\n",
       "    .dataframe tbody tr th {\n",
       "        vertical-align: top;\n",
       "    }\n",
       "\n",
       "    .dataframe thead th {\n",
       "        text-align: right;\n",
       "    }\n",
       "</style>\n",
       "<table border=\"1\" class=\"dataframe\">\n",
       "  <thead>\n",
       "    <tr style=\"text-align: right;\">\n",
       "      <th></th>\n",
       "      <th>title</th>\n",
       "      <th>polarity.label</th>\n",
       "    </tr>\n",
       "  </thead>\n",
       "  <tbody>\n",
       "    <tr>\n",
       "      <th>0</th>\n",
       "      <td>[ET투자뉴스]CMG제약_기관의 힘? 대량순매수 이후.. 현재 +3.05%</td>\n",
       "      <td>1.0</td>\n",
       "    </tr>\n",
       "    <tr>\n",
       "      <th>1</th>\n",
       "      <td>[한경로보뉴스] '와이지엔터테인먼트' 52주 신고가 경신</td>\n",
       "      <td>1.0</td>\n",
       "    </tr>\n",
       "  </tbody>\n",
       "</table>\n",
       "</div>"
      ],
      "text/plain": [
       "                                       title  polarity.label\n",
       "0  [ET투자뉴스]CMG제약_기관의 힘? 대량순매수 이후.. 현재 +3.05%             1.0\n",
       "1            [한경로보뉴스] '와이지엔터테인먼트' 52주 신고가 경신             1.0"
      ]
     },
     "execution_count": 4,
     "metadata": {},
     "output_type": "execute_result"
    }
   ],
   "source": [
    "df.head(2)"
   ]
  },
  {
   "cell_type": "code",
   "execution_count": 5,
   "id": "c45868ab-1d4a-4c98-a5da-9a88e9283f30",
   "metadata": {
    "tags": []
   },
   "outputs": [],
   "source": [
    "df_X = df[df['polarity.label'].isna()]\n",
    "df_O = df[df['polarity.label'].notna()]"
   ]
  },
  {
   "cell_type": "code",
   "execution_count": 6,
   "id": "cf983b02-227e-4eb2-876c-0392005b7d78",
   "metadata": {
    "id": "Qgna8GZ_k0AW"
   },
   "outputs": [],
   "source": [
    "mecab = mecab.MeCab()"
   ]
  },
  {
   "cell_type": "code",
   "execution_count": 7,
   "id": "a999ec22-9af8-46b1-8258-90f00e07c182",
   "metadata": {
    "id": "9dKO6hYzkwbF"
   },
   "outputs": [],
   "source": [
    "df_O['tokenized'] = df_O['title'].apply(mecab.morphs)"
   ]
  },
  {
   "cell_type": "code",
   "execution_count": 8,
   "id": "0e9da11a-67a4-449b-b30e-4e1840ddd2f4",
   "metadata": {
    "tags": []
   },
   "outputs": [
    {
     "data": {
      "text/plain": [
       "array([ 1.,  0., -1.])"
      ]
     },
     "execution_count": 8,
     "metadata": {},
     "output_type": "execute_result"
    }
   ],
   "source": [
    "df_O['polarity.label'].unique()"
   ]
  },
  {
   "cell_type": "code",
   "execution_count": 9,
   "id": "7dc8900e-a03a-4ab0-9f9c-b0adc3c7930a",
   "metadata": {
    "tags": []
   },
   "outputs": [
    {
     "data": {
      "text/html": [
       "<div>\n",
       "<style scoped>\n",
       "    .dataframe tbody tr th:only-of-type {\n",
       "        vertical-align: middle;\n",
       "    }\n",
       "\n",
       "    .dataframe tbody tr th {\n",
       "        vertical-align: top;\n",
       "    }\n",
       "\n",
       "    .dataframe thead th {\n",
       "        text-align: right;\n",
       "    }\n",
       "</style>\n",
       "<table border=\"1\" class=\"dataframe\">\n",
       "  <thead>\n",
       "    <tr style=\"text-align: right;\">\n",
       "      <th></th>\n",
       "      <th>title</th>\n",
       "      <th>polarity.label</th>\n",
       "      <th>tokenized</th>\n",
       "    </tr>\n",
       "  </thead>\n",
       "  <tbody>\n",
       "    <tr>\n",
       "      <th>0</th>\n",
       "      <td>[ET투자뉴스]CMG제약_기관의 힘? 대량순매수 이후.. 현재 +3.05%</td>\n",
       "      <td>1.0</td>\n",
       "      <td>[[, ET, 투자, 뉴스, ], CMG, 제약, _, 기관, 의, 힘, ?, 대량...</td>\n",
       "    </tr>\n",
       "    <tr>\n",
       "      <th>1</th>\n",
       "      <td>[한경로보뉴스] '와이지엔터테인먼트' 52주 신고가 경신</td>\n",
       "      <td>1.0</td>\n",
       "      <td>[[, 한경, 로보, 뉴스, ], ', 와, 이지, 엔터, 테, 인, 먼, 트, '...</td>\n",
       "    </tr>\n",
       "  </tbody>\n",
       "</table>\n",
       "</div>"
      ],
      "text/plain": [
       "                                       title  polarity.label  \\\n",
       "0  [ET투자뉴스]CMG제약_기관의 힘? 대량순매수 이후.. 현재 +3.05%             1.0   \n",
       "1            [한경로보뉴스] '와이지엔터테인먼트' 52주 신고가 경신             1.0   \n",
       "\n",
       "                                           tokenized  \n",
       "0  [[, ET, 투자, 뉴스, ], CMG, 제약, _, 기관, 의, 힘, ?, 대량...  \n",
       "1  [[, 한경, 로보, 뉴스, ], ', 와, 이지, 엔터, 테, 인, 먼, 트, '...  "
      ]
     },
     "execution_count": 9,
     "metadata": {},
     "output_type": "execute_result"
    }
   ],
   "source": [
    "df_O.head(2)"
   ]
  },
  {
   "cell_type": "markdown",
   "id": "d377a868-617d-48b6-bb51-1a728badb7d8",
   "metadata": {},
   "source": [
    "# stop_word"
   ]
  },
  {
   "cell_type": "code",
   "execution_count": 10,
   "id": "7fd3b24a-3723-42e9-a614-57af5a1f0d41",
   "metadata": {
    "tags": []
   },
   "outputs": [],
   "source": [
    "stop_word = pd.read_csv('./stop_word_1.csv')\n",
    "# stop_word"
   ]
  },
  {
   "cell_type": "code",
   "execution_count": 11,
   "id": "fbe75a6c-0c3d-4680-9ca1-c67cee8a35eb",
   "metadata": {
    "tags": []
   },
   "outputs": [],
   "source": [
    "del_idx = [15,47,50,84,86,91,95,101,107,110,113,114,124,143,150,152,164,166,168,169,178,195,230,255,289,292,295,307,308,311,313\n",
    "           ,322,326,341,349,350,363,375,381,396,403,424,450,452,468,475,496,509,512,538,541,546,548,550,562,569,576,592,612,624\n",
    "           ,632,645,649,661,673,699,702,728,741,744,768,769,775,784,787,791,797,809,822,827,831,849,859,864,867,873,886,889,895\n",
    "           ,902,906,910,929,932,933,936,937,938,945,959,962,964,965,966,979,988,1004,1006,1011,1014,1023,1027,1053,1054,1068,1136\n",
    "           ,1149,1159,1181,1196,1209,1212,1218,1246,1248,1250,1252,1257,1264,1276]"
   ]
  },
  {
   "cell_type": "code",
   "execution_count": 12,
   "id": "067690ee-944c-4742-b51f-1059e8382771",
   "metadata": {
    "tags": []
   },
   "outputs": [],
   "source": [
    "del_idx1=[]\n",
    "for idx in del_idx:\n",
    "    idx_1 = idx-1\n",
    "    del_idx1.append(idx_1)"
   ]
  },
  {
   "cell_type": "code",
   "execution_count": 13,
   "id": "1a3bd985-448b-4c7c-aea6-0c3fdb304005",
   "metadata": {
    "tags": []
   },
   "outputs": [
    {
     "data": {
      "text/plain": [
       "[14, 46]"
      ]
     },
     "execution_count": 13,
     "metadata": {},
     "output_type": "execute_result"
    }
   ],
   "source": [
    "del_idx1[:2]"
   ]
  },
  {
   "cell_type": "code",
   "execution_count": 14,
   "id": "46c8a3fa-571b-4f18-b9cf-ed64e8219f56",
   "metadata": {
    "tags": []
   },
   "outputs": [
    {
     "data": {
      "text/html": [
       "<div>\n",
       "<style scoped>\n",
       "    .dataframe tbody tr th:only-of-type {\n",
       "        vertical-align: middle;\n",
       "    }\n",
       "\n",
       "    .dataframe tbody tr th {\n",
       "        vertical-align: top;\n",
       "    }\n",
       "\n",
       "    .dataframe thead th {\n",
       "        text-align: right;\n",
       "    }\n",
       "</style>\n",
       "<table border=\"1\" class=\"dataframe\">\n",
       "  <thead>\n",
       "    <tr style=\"text-align: right;\">\n",
       "      <th></th>\n",
       "      <th>word</th>\n",
       "    </tr>\n",
       "  </thead>\n",
       "  <tbody>\n",
       "    <tr>\n",
       "      <th>44</th>\n",
       "      <td>8</td>\n",
       "    </tr>\n",
       "    <tr>\n",
       "      <th>45</th>\n",
       "      <td>1</td>\n",
       "    </tr>\n",
       "    <tr>\n",
       "      <th>46</th>\n",
       "      <td>총</td>\n",
       "    </tr>\n",
       "  </tbody>\n",
       "</table>\n",
       "</div>"
      ],
      "text/plain": [
       "   word\n",
       "44    8\n",
       "45    1\n",
       "46    총"
      ]
     },
     "execution_count": 14,
     "metadata": {},
     "output_type": "execute_result"
    }
   ],
   "source": [
    "stop_word[44:47]"
   ]
  },
  {
   "cell_type": "code",
   "execution_count": 15,
   "id": "60f00686-d13e-400e-a8f6-33932e7b4e7d",
   "metadata": {
    "tags": []
   },
   "outputs": [],
   "source": [
    "stop_word = stop_word.drop(del_idx1,axis=0)"
   ]
  },
  {
   "cell_type": "code",
   "execution_count": 16,
   "id": "98de897b-2e95-4bb2-bd06-530c50bc6c92",
   "metadata": {
    "tags": []
   },
   "outputs": [
    {
     "data": {
      "text/html": [
       "<div>\n",
       "<style scoped>\n",
       "    .dataframe tbody tr th:only-of-type {\n",
       "        vertical-align: middle;\n",
       "    }\n",
       "\n",
       "    .dataframe tbody tr th {\n",
       "        vertical-align: top;\n",
       "    }\n",
       "\n",
       "    .dataframe thead th {\n",
       "        text-align: right;\n",
       "    }\n",
       "</style>\n",
       "<table border=\"1\" class=\"dataframe\">\n",
       "  <thead>\n",
       "    <tr style=\"text-align: right;\">\n",
       "      <th></th>\n",
       "      <th>word</th>\n",
       "    </tr>\n",
       "  </thead>\n",
       "  <tbody>\n",
       "    <tr>\n",
       "      <th>12</th>\n",
       "      <td>이</td>\n",
       "    </tr>\n",
       "    <tr>\n",
       "      <th>13</th>\n",
       "      <td>다</td>\n",
       "    </tr>\n",
       "    <tr>\n",
       "      <th>15</th>\n",
       "      <td>년</td>\n",
       "    </tr>\n",
       "  </tbody>\n",
       "</table>\n",
       "</div>"
      ],
      "text/plain": [
       "   word\n",
       "12    이\n",
       "13    다\n",
       "15    년"
      ]
     },
     "execution_count": 16,
     "metadata": {},
     "output_type": "execute_result"
    }
   ],
   "source": [
    "stop_word[12:15]"
   ]
  },
  {
   "cell_type": "code",
   "execution_count": 17,
   "id": "df216f27-31f3-40fc-9813-e2f3b5a105c6",
   "metadata": {
    "tags": []
   },
   "outputs": [],
   "source": [
    "stop_word.to_csv('./stop_word_2.csv')"
   ]
  },
  {
   "cell_type": "code",
   "execution_count": 18,
   "id": "9ea15c33-0438-47e7-920f-6987bc67101a",
   "metadata": {
    "tags": []
   },
   "outputs": [
    {
     "data": {
      "text/html": [
       "<div>\n",
       "<style scoped>\n",
       "    .dataframe tbody tr th:only-of-type {\n",
       "        vertical-align: middle;\n",
       "    }\n",
       "\n",
       "    .dataframe tbody tr th {\n",
       "        vertical-align: top;\n",
       "    }\n",
       "\n",
       "    .dataframe thead th {\n",
       "        text-align: right;\n",
       "    }\n",
       "</style>\n",
       "<table border=\"1\" class=\"dataframe\">\n",
       "  <thead>\n",
       "    <tr style=\"text-align: right;\">\n",
       "      <th></th>\n",
       "      <th>title</th>\n",
       "      <th>polarity.label</th>\n",
       "    </tr>\n",
       "  </thead>\n",
       "  <tbody>\n",
       "    <tr>\n",
       "      <th>0</th>\n",
       "      <td>[ET투자뉴스]CMG제약_기관의 힘? 대량순매수 이후.. 현재 +3.05%</td>\n",
       "      <td>1.0</td>\n",
       "    </tr>\n",
       "    <tr>\n",
       "      <th>1</th>\n",
       "      <td>[한경로보뉴스] '와이지엔터테인먼트' 52주 신고가 경신</td>\n",
       "      <td>1.0</td>\n",
       "    </tr>\n",
       "  </tbody>\n",
       "</table>\n",
       "</div>"
      ],
      "text/plain": [
       "                                       title  polarity.label\n",
       "0  [ET투자뉴스]CMG제약_기관의 힘? 대량순매수 이후.. 현재 +3.05%             1.0\n",
       "1            [한경로보뉴스] '와이지엔터테인먼트' 52주 신고가 경신             1.0"
      ]
     },
     "execution_count": 18,
     "metadata": {},
     "output_type": "execute_result"
    }
   ],
   "source": [
    "df.head(2)"
   ]
  },
  {
   "cell_type": "code",
   "execution_count": 19,
   "id": "ca3466ac-082b-4f15-b15d-43eef163772d",
   "metadata": {
    "tags": []
   },
   "outputs": [
    {
     "data": {
      "text/plain": [
       "55345"
      ]
     },
     "execution_count": 19,
     "metadata": {},
     "output_type": "execute_result"
    }
   ],
   "source": [
    "len(df_O)"
   ]
  },
  {
   "cell_type": "code",
   "execution_count": 20,
   "id": "509472e3-4490-4773-ac74-61b7d8e02f37",
   "metadata": {
    "tags": []
   },
   "outputs": [],
   "source": [
    "del_stopword = []\n",
    "for row in df_O['tokenized']:\n",
    "    tmp =[]\n",
    "    for word in row:\n",
    "        if word not in stop_word:\n",
    "            tmp.append(word)\n",
    "    del_stopword.append(tmp)"
   ]
  },
  {
   "cell_type": "code",
   "execution_count": 21,
   "id": "25cdd926-82d7-4969-8ab5-752e1dc4a805",
   "metadata": {
    "tags": []
   },
   "outputs": [
    {
     "data": {
      "text/plain": [
       "55345"
      ]
     },
     "execution_count": 21,
     "metadata": {},
     "output_type": "execute_result"
    }
   ],
   "source": [
    "len(del_stopword)"
   ]
  },
  {
   "cell_type": "code",
   "execution_count": 22,
   "id": "2490f787-7815-44b7-bde8-cadfe0d8af2c",
   "metadata": {
    "tags": []
   },
   "outputs": [],
   "source": [
    "df_O['del_stopword'] = del_stopword"
   ]
  },
  {
   "cell_type": "code",
   "execution_count": null,
   "id": "42d34dee-fd33-486c-af67-075aa62748fe",
   "metadata": {},
   "outputs": [],
   "source": []
  },
  {
   "cell_type": "markdown",
   "id": "5d0716c4-fca7-4a9e-a3c4-56675e144f6c",
   "metadata": {},
   "source": [
    "# Data Load"
   ]
  },
  {
   "cell_type": "code",
   "execution_count": 23,
   "id": "6ac48607-7a3e-4f9c-a295-9f18e9ea9a7d",
   "metadata": {
    "colab": {
     "base_uri": "https://localhost:8080/"
    },
    "id": "8wC6Rnt6iCxB",
    "outputId": "f489900c-6d72-4183-83a7-328a837273c2"
   },
   "outputs": [
    {
     "data": {
      "text/plain": [
       "('finance_data.csv', <http.client.HTTPMessage at 0x22bbcd26220>)"
      ]
     },
     "execution_count": 23,
     "metadata": {},
     "output_type": "execute_result"
    }
   ],
   "source": [
    "urllib.request.urlretrieve(\"https://raw.githubusercontent.com/ukairia777/finance_sentiment_corpus/main/finance_data.csv\", filename=\"finance_data.csv\")"
   ]
  },
  {
   "cell_type": "code",
   "execution_count": 24,
   "id": "34083d59-5f46-4717-9173-708036e36efa",
   "metadata": {
    "colab": {
     "base_uri": "https://localhost:8080/"
    },
    "id": "1aP870z3iRc_",
    "outputId": "aa6bad91-af8f-462d-c71c-cc3c68f960ae"
   },
   "outputs": [
    {
     "name": "stdout",
     "output_type": "stream",
     "text": [
      "총 샘플의 수 : 4846\n"
     ]
    }
   ],
   "source": [
    "data = pd.read_csv('finance_data.csv')\n",
    "print('총 샘플의 수 :',len(data))"
   ]
  },
  {
   "cell_type": "code",
   "execution_count": 25,
   "id": "0bbc7497-4973-4974-8649-83f61bb43bcc",
   "metadata": {
    "tags": []
   },
   "outputs": [],
   "source": [
    "# data.head()"
   ]
  },
  {
   "cell_type": "code",
   "execution_count": 26,
   "id": "d4efec8e-a6c4-4c38-9272-96519566b487",
   "metadata": {
    "tags": []
   },
   "outputs": [],
   "source": [
    "del data['sentence']"
   ]
  },
  {
   "cell_type": "code",
   "execution_count": 27,
   "id": "d1e432c1-c39b-4702-9e41-e5855772beaa",
   "metadata": {
    "colab": {
     "base_uri": "https://localhost:8080/",
     "height": 206
    },
    "id": "t9XJj_iziaYh",
    "outputId": "aa2122a8-b989-421c-cf02-e6b1e5ae6359"
   },
   "outputs": [
    {
     "data": {
      "text/html": [
       "<div>\n",
       "<style scoped>\n",
       "    .dataframe tbody tr th:only-of-type {\n",
       "        vertical-align: middle;\n",
       "    }\n",
       "\n",
       "    .dataframe tbody tr th {\n",
       "        vertical-align: top;\n",
       "    }\n",
       "\n",
       "    .dataframe thead th {\n",
       "        text-align: right;\n",
       "    }\n",
       "</style>\n",
       "<table border=\"1\" class=\"dataframe\">\n",
       "  <thead>\n",
       "    <tr style=\"text-align: right;\">\n",
       "      <th></th>\n",
       "      <th>labels</th>\n",
       "      <th>kor_sentence</th>\n",
       "    </tr>\n",
       "  </thead>\n",
       "  <tbody>\n",
       "    <tr>\n",
       "      <th>0</th>\n",
       "      <td>0</td>\n",
       "      <td>Gran에 따르면, 그 회사는 회사가 성장하고 있는 곳이지만, 모든 생산을 러시아로...</td>\n",
       "    </tr>\n",
       "    <tr>\n",
       "      <th>1</th>\n",
       "      <td>0</td>\n",
       "      <td>테크노폴리스는 컴퓨터 기술과 통신 분야에서 일하는 회사들을 유치하기 위해 10만 평...</td>\n",
       "    </tr>\n",
       "    <tr>\n",
       "      <th>2</th>\n",
       "      <td>-1</td>\n",
       "      <td>국제 전자산업 회사인 엘코텍은 탈린 공장에서 수십 명의 직원을 해고했으며, 이전의 ...</td>\n",
       "    </tr>\n",
       "    <tr>\n",
       "      <th>3</th>\n",
       "      <td>1</td>\n",
       "      <td>새로운 생산공장으로 인해 회사는 예상되는 수요 증가를 충족시킬 수 있는 능력을 증가...</td>\n",
       "    </tr>\n",
       "    <tr>\n",
       "      <th>4</th>\n",
       "      <td>1</td>\n",
       "      <td>2009-2012년 회사의 업데이트된 전략에 따르면, Basware는 20% - 4...</td>\n",
       "    </tr>\n",
       "  </tbody>\n",
       "</table>\n",
       "</div>"
      ],
      "text/plain": [
       "   labels                                       kor_sentence\n",
       "0       0  Gran에 따르면, 그 회사는 회사가 성장하고 있는 곳이지만, 모든 생산을 러시아로...\n",
       "1       0  테크노폴리스는 컴퓨터 기술과 통신 분야에서 일하는 회사들을 유치하기 위해 10만 평...\n",
       "2      -1  국제 전자산업 회사인 엘코텍은 탈린 공장에서 수십 명의 직원을 해고했으며, 이전의 ...\n",
       "3       1  새로운 생산공장으로 인해 회사는 예상되는 수요 증가를 충족시킬 수 있는 능력을 증가...\n",
       "4       1  2009-2012년 회사의 업데이트된 전략에 따르면, Basware는 20% - 4..."
      ]
     },
     "execution_count": 27,
     "metadata": {},
     "output_type": "execute_result"
    }
   ],
   "source": [
    "data['labels'] = data['labels'].replace(['neutral', 'positive', 'negative'],[0, 1, -1])\n",
    "data[:5]"
   ]
  },
  {
   "cell_type": "code",
   "execution_count": 28,
   "id": "4cca3aa8-68ac-4435-ac16-0abfc4cab80f",
   "metadata": {
    "id": "9dKO6hYzkwbF"
   },
   "outputs": [],
   "source": [
    "data['tokenized'] = data['kor_sentence'].apply(mecab.morphs)"
   ]
  },
  {
   "cell_type": "code",
   "execution_count": 29,
   "id": "68424ae5-727b-4e90-9b49-53da0318f3b1",
   "metadata": {
    "tags": []
   },
   "outputs": [
    {
     "data": {
      "text/html": [
       "<div>\n",
       "<style scoped>\n",
       "    .dataframe tbody tr th:only-of-type {\n",
       "        vertical-align: middle;\n",
       "    }\n",
       "\n",
       "    .dataframe tbody tr th {\n",
       "        vertical-align: top;\n",
       "    }\n",
       "\n",
       "    .dataframe thead th {\n",
       "        text-align: right;\n",
       "    }\n",
       "</style>\n",
       "<table border=\"1\" class=\"dataframe\">\n",
       "  <thead>\n",
       "    <tr style=\"text-align: right;\">\n",
       "      <th></th>\n",
       "      <th>labels</th>\n",
       "      <th>kor_sentence</th>\n",
       "      <th>tokenized</th>\n",
       "    </tr>\n",
       "  </thead>\n",
       "  <tbody>\n",
       "    <tr>\n",
       "      <th>0</th>\n",
       "      <td>0</td>\n",
       "      <td>Gran에 따르면, 그 회사는 회사가 성장하고 있는 곳이지만, 모든 생산을 러시아로...</td>\n",
       "      <td>[Gran, 에, 따르, 면, ,, 그, 회사, 는, 회사, 가, 성장, 하, 고,...</td>\n",
       "    </tr>\n",
       "    <tr>\n",
       "      <th>1</th>\n",
       "      <td>0</td>\n",
       "      <td>테크노폴리스는 컴퓨터 기술과 통신 분야에서 일하는 회사들을 유치하기 위해 10만 평...</td>\n",
       "      <td>[테크노폴리스, 는, 컴퓨터, 기술, 과, 통신, 분야, 에서, 일, 하, 는, 회...</td>\n",
       "    </tr>\n",
       "  </tbody>\n",
       "</table>\n",
       "</div>"
      ],
      "text/plain": [
       "   labels                                       kor_sentence  \\\n",
       "0       0  Gran에 따르면, 그 회사는 회사가 성장하고 있는 곳이지만, 모든 생산을 러시아로...   \n",
       "1       0  테크노폴리스는 컴퓨터 기술과 통신 분야에서 일하는 회사들을 유치하기 위해 10만 평...   \n",
       "\n",
       "                                           tokenized  \n",
       "0  [Gran, 에, 따르, 면, ,, 그, 회사, 는, 회사, 가, 성장, 하, 고,...  \n",
       "1  [테크노폴리스, 는, 컴퓨터, 기술, 과, 통신, 분야, 에서, 일, 하, 는, 회...  "
      ]
     },
     "execution_count": 29,
     "metadata": {},
     "output_type": "execute_result"
    }
   ],
   "source": [
    "data[:2]"
   ]
  },
  {
   "cell_type": "code",
   "execution_count": 30,
   "id": "f99f4cc9-a042-4fb4-b313-c28072f4a60b",
   "metadata": {
    "tags": []
   },
   "outputs": [
    {
     "data": {
      "text/html": [
       "<div>\n",
       "<style scoped>\n",
       "    .dataframe tbody tr th:only-of-type {\n",
       "        vertical-align: middle;\n",
       "    }\n",
       "\n",
       "    .dataframe tbody tr th {\n",
       "        vertical-align: top;\n",
       "    }\n",
       "\n",
       "    .dataframe thead th {\n",
       "        text-align: right;\n",
       "    }\n",
       "</style>\n",
       "<table border=\"1\" class=\"dataframe\">\n",
       "  <thead>\n",
       "    <tr style=\"text-align: right;\">\n",
       "      <th></th>\n",
       "      <th>title</th>\n",
       "      <th>polarity.label</th>\n",
       "      <th>tokenized</th>\n",
       "      <th>del_stopword</th>\n",
       "    </tr>\n",
       "  </thead>\n",
       "  <tbody>\n",
       "    <tr>\n",
       "      <th>0</th>\n",
       "      <td>[ET투자뉴스]CMG제약_기관의 힘? 대량순매수 이후.. 현재 +3.05%</td>\n",
       "      <td>1.0</td>\n",
       "      <td>[[, ET, 투자, 뉴스, ], CMG, 제약, _, 기관, 의, 힘, ?, 대량...</td>\n",
       "      <td>[[, ET, 투자, 뉴스, ], CMG, 제약, _, 기관, 의, 힘, ?, 대량...</td>\n",
       "    </tr>\n",
       "    <tr>\n",
       "      <th>1</th>\n",
       "      <td>[한경로보뉴스] '와이지엔터테인먼트' 52주 신고가 경신</td>\n",
       "      <td>1.0</td>\n",
       "      <td>[[, 한경, 로보, 뉴스, ], ', 와, 이지, 엔터, 테, 인, 먼, 트, '...</td>\n",
       "      <td>[[, 한경, 로보, 뉴스, ], ', 와, 이지, 엔터, 테, 인, 먼, 트, '...</td>\n",
       "    </tr>\n",
       "  </tbody>\n",
       "</table>\n",
       "</div>"
      ],
      "text/plain": [
       "                                       title  polarity.label  \\\n",
       "0  [ET투자뉴스]CMG제약_기관의 힘? 대량순매수 이후.. 현재 +3.05%             1.0   \n",
       "1            [한경로보뉴스] '와이지엔터테인먼트' 52주 신고가 경신             1.0   \n",
       "\n",
       "                                           tokenized  \\\n",
       "0  [[, ET, 투자, 뉴스, ], CMG, 제약, _, 기관, 의, 힘, ?, 대량...   \n",
       "1  [[, 한경, 로보, 뉴스, ], ', 와, 이지, 엔터, 테, 인, 먼, 트, '...   \n",
       "\n",
       "                                        del_stopword  \n",
       "0  [[, ET, 투자, 뉴스, ], CMG, 제약, _, 기관, 의, 힘, ?, 대량...  \n",
       "1  [[, 한경, 로보, 뉴스, ], ', 와, 이지, 엔터, 테, 인, 먼, 트, '...  "
      ]
     },
     "execution_count": 30,
     "metadata": {},
     "output_type": "execute_result"
    }
   ],
   "source": [
    "df_O[:2]"
   ]
  },
  {
   "cell_type": "code",
   "execution_count": 31,
   "id": "a016ce40-b579-4430-b15a-9f5f9f4b1b5b",
   "metadata": {
    "tags": []
   },
   "outputs": [],
   "source": [
    "data = data[['kor_sentence','labels','tokenized']]"
   ]
  },
  {
   "cell_type": "code",
   "execution_count": 32,
   "id": "ecfa9ea5-ec0d-45fe-91e9-c34b09862e3a",
   "metadata": {
    "tags": []
   },
   "outputs": [],
   "source": [
    "data = data.rename(columns={'kor_sentence':'title','labels':'polarity.label'})"
   ]
  },
  {
   "cell_type": "code",
   "execution_count": 33,
   "id": "98294732-8de6-4005-9b5a-a57e9baa110f",
   "metadata": {},
   "outputs": [],
   "source": [
    "del_stopword = []\n",
    "for row in data['tokenized']:\n",
    "    tmp =[]\n",
    "    for word in row:\n",
    "        if word not in stop_word:\n",
    "            tmp.append(word)\n",
    "    del_stopword.append(tmp)"
   ]
  },
  {
   "cell_type": "code",
   "execution_count": 34,
   "id": "8a8a4f3b-1ffe-4d45-99f9-4ed6c1683e8a",
   "metadata": {
    "tags": []
   },
   "outputs": [],
   "source": [
    "data['del_stopword']=del_stopword"
   ]
  },
  {
   "cell_type": "code",
   "execution_count": 35,
   "id": "5021687d-e699-4ee4-8dfe-4ad1ae9cebc0",
   "metadata": {
    "tags": []
   },
   "outputs": [
    {
     "data": {
      "text/html": [
       "<div>\n",
       "<style scoped>\n",
       "    .dataframe tbody tr th:only-of-type {\n",
       "        vertical-align: middle;\n",
       "    }\n",
       "\n",
       "    .dataframe tbody tr th {\n",
       "        vertical-align: top;\n",
       "    }\n",
       "\n",
       "    .dataframe thead th {\n",
       "        text-align: right;\n",
       "    }\n",
       "</style>\n",
       "<table border=\"1\" class=\"dataframe\">\n",
       "  <thead>\n",
       "    <tr style=\"text-align: right;\">\n",
       "      <th></th>\n",
       "      <th>title</th>\n",
       "      <th>polarity.label</th>\n",
       "      <th>tokenized</th>\n",
       "      <th>del_stopword</th>\n",
       "    </tr>\n",
       "  </thead>\n",
       "  <tbody>\n",
       "    <tr>\n",
       "      <th>0</th>\n",
       "      <td>[ET투자뉴스]CMG제약_기관의 힘? 대량순매수 이후.. 현재 +3.05%</td>\n",
       "      <td>1.0</td>\n",
       "      <td>[[, ET, 투자, 뉴스, ], CMG, 제약, _, 기관, 의, 힘, ?, 대량...</td>\n",
       "      <td>[[, ET, 투자, 뉴스, ], CMG, 제약, _, 기관, 의, 힘, ?, 대량...</td>\n",
       "    </tr>\n",
       "    <tr>\n",
       "      <th>1</th>\n",
       "      <td>[한경로보뉴스] '와이지엔터테인먼트' 52주 신고가 경신</td>\n",
       "      <td>1.0</td>\n",
       "      <td>[[, 한경, 로보, 뉴스, ], ', 와, 이지, 엔터, 테, 인, 먼, 트, '...</td>\n",
       "      <td>[[, 한경, 로보, 뉴스, ], ', 와, 이지, 엔터, 테, 인, 먼, 트, '...</td>\n",
       "    </tr>\n",
       "  </tbody>\n",
       "</table>\n",
       "</div>"
      ],
      "text/plain": [
       "                                       title  polarity.label  \\\n",
       "0  [ET투자뉴스]CMG제약_기관의 힘? 대량순매수 이후.. 현재 +3.05%             1.0   \n",
       "1            [한경로보뉴스] '와이지엔터테인먼트' 52주 신고가 경신             1.0   \n",
       "\n",
       "                                           tokenized  \\\n",
       "0  [[, ET, 투자, 뉴스, ], CMG, 제약, _, 기관, 의, 힘, ?, 대량...   \n",
       "1  [[, 한경, 로보, 뉴스, ], ', 와, 이지, 엔터, 테, 인, 먼, 트, '...   \n",
       "\n",
       "                                        del_stopword  \n",
       "0  [[, ET, 투자, 뉴스, ], CMG, 제약, _, 기관, 의, 힘, ?, 대량...  \n",
       "1  [[, 한경, 로보, 뉴스, ], ', 와, 이지, 엔터, 테, 인, 먼, 트, '...  "
      ]
     },
     "execution_count": 35,
     "metadata": {},
     "output_type": "execute_result"
    }
   ],
   "source": [
    "df_O[:2]"
   ]
  },
  {
   "cell_type": "code",
   "execution_count": 36,
   "id": "65d5163a-7cfe-4e5f-b6f4-763073b613fe",
   "metadata": {
    "tags": []
   },
   "outputs": [
    {
     "data": {
      "text/html": [
       "<div>\n",
       "<style scoped>\n",
       "    .dataframe tbody tr th:only-of-type {\n",
       "        vertical-align: middle;\n",
       "    }\n",
       "\n",
       "    .dataframe tbody tr th {\n",
       "        vertical-align: top;\n",
       "    }\n",
       "\n",
       "    .dataframe thead th {\n",
       "        text-align: right;\n",
       "    }\n",
       "</style>\n",
       "<table border=\"1\" class=\"dataframe\">\n",
       "  <thead>\n",
       "    <tr style=\"text-align: right;\">\n",
       "      <th></th>\n",
       "      <th>title</th>\n",
       "      <th>polarity.label</th>\n",
       "      <th>tokenized</th>\n",
       "      <th>del_stopword</th>\n",
       "    </tr>\n",
       "  </thead>\n",
       "  <tbody>\n",
       "    <tr>\n",
       "      <th>0</th>\n",
       "      <td>Gran에 따르면, 그 회사는 회사가 성장하고 있는 곳이지만, 모든 생산을 러시아로...</td>\n",
       "      <td>0</td>\n",
       "      <td>[Gran, 에, 따르, 면, ,, 그, 회사, 는, 회사, 가, 성장, 하, 고,...</td>\n",
       "      <td>[Gran, 에, 따르, 면, ,, 그, 회사, 는, 회사, 가, 성장, 하, 고,...</td>\n",
       "    </tr>\n",
       "    <tr>\n",
       "      <th>1</th>\n",
       "      <td>테크노폴리스는 컴퓨터 기술과 통신 분야에서 일하는 회사들을 유치하기 위해 10만 평...</td>\n",
       "      <td>0</td>\n",
       "      <td>[테크노폴리스, 는, 컴퓨터, 기술, 과, 통신, 분야, 에서, 일, 하, 는, 회...</td>\n",
       "      <td>[테크노폴리스, 는, 컴퓨터, 기술, 과, 통신, 분야, 에서, 일, 하, 는, 회...</td>\n",
       "    </tr>\n",
       "  </tbody>\n",
       "</table>\n",
       "</div>"
      ],
      "text/plain": [
       "                                               title  polarity.label  \\\n",
       "0  Gran에 따르면, 그 회사는 회사가 성장하고 있는 곳이지만, 모든 생산을 러시아로...               0   \n",
       "1  테크노폴리스는 컴퓨터 기술과 통신 분야에서 일하는 회사들을 유치하기 위해 10만 평...               0   \n",
       "\n",
       "                                           tokenized  \\\n",
       "0  [Gran, 에, 따르, 면, ,, 그, 회사, 는, 회사, 가, 성장, 하, 고,...   \n",
       "1  [테크노폴리스, 는, 컴퓨터, 기술, 과, 통신, 분야, 에서, 일, 하, 는, 회...   \n",
       "\n",
       "                                        del_stopword  \n",
       "0  [Gran, 에, 따르, 면, ,, 그, 회사, 는, 회사, 가, 성장, 하, 고,...  \n",
       "1  [테크노폴리스, 는, 컴퓨터, 기술, 과, 통신, 분야, 에서, 일, 하, 는, 회...  "
      ]
     },
     "execution_count": 36,
     "metadata": {},
     "output_type": "execute_result"
    }
   ],
   "source": [
    "data[:2]"
   ]
  },
  {
   "cell_type": "code",
   "execution_count": 37,
   "id": "55da5cf9-9326-4801-91cb-648f24edf109",
   "metadata": {
    "tags": []
   },
   "outputs": [],
   "source": [
    "df_O = pd.concat([df_O,data], axis=0)"
   ]
  },
  {
   "cell_type": "code",
   "execution_count": 38,
   "id": "2bf3c277-7a5a-4934-a0cb-ee44ad905280",
   "metadata": {},
   "outputs": [
    {
     "data": {
      "text/plain": [
       "array([ 1.,  0., -1.])"
      ]
     },
     "execution_count": 38,
     "metadata": {},
     "output_type": "execute_result"
    }
   ],
   "source": [
    "df_O['polarity.label'].unique()"
   ]
  },
  {
   "cell_type": "code",
   "execution_count": 39,
   "id": "842643b7-6afd-4dcd-86c1-dc0f9f9a566d",
   "metadata": {
    "tags": []
   },
   "outputs": [
    {
     "data": {
      "text/plain": [
       "60191"
      ]
     },
     "execution_count": 39,
     "metadata": {},
     "output_type": "execute_result"
    }
   ],
   "source": [
    "len(df_O)"
   ]
  },
  {
   "cell_type": "code",
   "execution_count": 40,
   "id": "e27fd0fc-9129-44ef-93e4-de846c5f2379",
   "metadata": {
    "tags": []
   },
   "outputs": [
    {
     "data": {
      "text/html": [
       "<div>\n",
       "<style scoped>\n",
       "    .dataframe tbody tr th:only-of-type {\n",
       "        vertical-align: middle;\n",
       "    }\n",
       "\n",
       "    .dataframe tbody tr th {\n",
       "        vertical-align: top;\n",
       "    }\n",
       "\n",
       "    .dataframe thead th {\n",
       "        text-align: right;\n",
       "    }\n",
       "</style>\n",
       "<table border=\"1\" class=\"dataframe\">\n",
       "  <thead>\n",
       "    <tr style=\"text-align: right;\">\n",
       "      <th></th>\n",
       "      <th>title</th>\n",
       "      <th>polarity.label</th>\n",
       "      <th>tokenized</th>\n",
       "      <th>del_stopword</th>\n",
       "    </tr>\n",
       "  </thead>\n",
       "  <tbody>\n",
       "    <tr>\n",
       "      <th>0</th>\n",
       "      <td>[ET투자뉴스]CMG제약_기관의 힘? 대량순매수 이후.. 현재 +3.05%</td>\n",
       "      <td>1.0</td>\n",
       "      <td>[[, ET, 투자, 뉴스, ], CMG, 제약, _, 기관, 의, 힘, ?, 대량...</td>\n",
       "      <td>[[, ET, 투자, 뉴스, ], CMG, 제약, _, 기관, 의, 힘, ?, 대량...</td>\n",
       "    </tr>\n",
       "    <tr>\n",
       "      <th>1</th>\n",
       "      <td>[한경로보뉴스] '와이지엔터테인먼트' 52주 신고가 경신</td>\n",
       "      <td>1.0</td>\n",
       "      <td>[[, 한경, 로보, 뉴스, ], ', 와, 이지, 엔터, 테, 인, 먼, 트, '...</td>\n",
       "      <td>[[, 한경, 로보, 뉴스, ], ', 와, 이지, 엔터, 테, 인, 먼, 트, '...</td>\n",
       "    </tr>\n",
       "    <tr>\n",
       "      <th>2</th>\n",
       "      <td>CMG제약(058820) 종목알파고 분석, 외국인/기관 실시간 수급과 추가 매수 확률은?</td>\n",
       "      <td>1.0</td>\n",
       "      <td>[CMG, 제약, (, 058820, ), 종목, 알파, 고, 분석, ,, 외국인,...</td>\n",
       "      <td>[CMG, 제약, (, 058820, ), 종목, 알파, 고, 분석, ,, 외국인,...</td>\n",
       "    </tr>\n",
       "    <tr>\n",
       "      <th>3</th>\n",
       "      <td>CMG제약, 전일 대비 약 -4% 하락한 4,515원</td>\n",
       "      <td>0.0</td>\n",
       "      <td>[CMG, 제약, ,, 전일, 대비, 약, -, 4, %, 하락, 한, 4, ,, ...</td>\n",
       "      <td>[CMG, 제약, ,, 전일, 대비, 약, -, 4, %, 하락, 한, 4, ,, ...</td>\n",
       "    </tr>\n",
       "    <tr>\n",
       "      <th>6</th>\n",
       "      <td>[Hot Stock] CMG제약</td>\n",
       "      <td>1.0</td>\n",
       "      <td>[[, Hot, Stock, ], CMG, 제약]</td>\n",
       "      <td>[[, Hot, Stock, ], CMG, 제약]</td>\n",
       "    </tr>\n",
       "  </tbody>\n",
       "</table>\n",
       "</div>"
      ],
      "text/plain": [
       "                                               title  polarity.label  \\\n",
       "0          [ET투자뉴스]CMG제약_기관의 힘? 대량순매수 이후.. 현재 +3.05%             1.0   \n",
       "1                    [한경로보뉴스] '와이지엔터테인먼트' 52주 신고가 경신             1.0   \n",
       "2  CMG제약(058820) 종목알파고 분석, 외국인/기관 실시간 수급과 추가 매수 확률은?             1.0   \n",
       "3                      CMG제약, 전일 대비 약 -4% 하락한 4,515원             0.0   \n",
       "6                                  [Hot Stock] CMG제약             1.0   \n",
       "\n",
       "                                           tokenized  \\\n",
       "0  [[, ET, 투자, 뉴스, ], CMG, 제약, _, 기관, 의, 힘, ?, 대량...   \n",
       "1  [[, 한경, 로보, 뉴스, ], ', 와, 이지, 엔터, 테, 인, 먼, 트, '...   \n",
       "2  [CMG, 제약, (, 058820, ), 종목, 알파, 고, 분석, ,, 외국인,...   \n",
       "3  [CMG, 제약, ,, 전일, 대비, 약, -, 4, %, 하락, 한, 4, ,, ...   \n",
       "6                        [[, Hot, Stock, ], CMG, 제약]   \n",
       "\n",
       "                                        del_stopword  \n",
       "0  [[, ET, 투자, 뉴스, ], CMG, 제약, _, 기관, 의, 힘, ?, 대량...  \n",
       "1  [[, 한경, 로보, 뉴스, ], ', 와, 이지, 엔터, 테, 인, 먼, 트, '...  \n",
       "2  [CMG, 제약, (, 058820, ), 종목, 알파, 고, 분석, ,, 외국인,...  \n",
       "3  [CMG, 제약, ,, 전일, 대비, 약, -, 4, %, 하락, 한, 4, ,, ...  \n",
       "6                        [[, Hot, Stock, ], CMG, 제약]  "
      ]
     },
     "execution_count": 40,
     "metadata": {},
     "output_type": "execute_result"
    }
   ],
   "source": [
    "df_O.head()"
   ]
  },
  {
   "cell_type": "markdown",
   "id": "8c818146-80aa-460a-831b-fc1c6bbe682f",
   "metadata": {},
   "source": [
    "# 중복제거"
   ]
  },
  {
   "cell_type": "code",
   "execution_count": 41,
   "id": "6505f8c8-56a5-4ee3-8636-9f06645ad784",
   "metadata": {
    "tags": []
   },
   "outputs": [],
   "source": [
    "duplicate=df_O[df_O.duplicated(subset=['title'])]"
   ]
  },
  {
   "cell_type": "code",
   "execution_count": 42,
   "id": "ba504efd-ac3a-421d-a428-171a0a7791ce",
   "metadata": {
    "tags": []
   },
   "outputs": [
    {
     "data": {
      "text/plain": [
       "8303"
      ]
     },
     "execution_count": 42,
     "metadata": {},
     "output_type": "execute_result"
    }
   ],
   "source": [
    "len(duplicate)"
   ]
  },
  {
   "cell_type": "code",
   "execution_count": 43,
   "id": "4df718fd-ab61-44ef-904e-15f28c3957b0",
   "metadata": {
    "tags": []
   },
   "outputs": [
    {
     "data": {
      "text/plain": [
       "60191"
      ]
     },
     "execution_count": 43,
     "metadata": {},
     "output_type": "execute_result"
    }
   ],
   "source": [
    "len(df_O)"
   ]
  },
  {
   "cell_type": "code",
   "execution_count": 44,
   "id": "f2ac6c47-7260-4c76-a27a-ba0168b5d6b7",
   "metadata": {
    "colab": {
     "base_uri": "https://localhost:8080/"
    },
    "id": "prnB1Yg5jBt2",
    "outputId": "f127f897-42ee-4ea3-9bad-b02db8a1620d"
   },
   "outputs": [],
   "source": [
    "# 중복 제거\n",
    "df_O.drop_duplicates(subset=['title'], inplace=True)"
   ]
  },
  {
   "cell_type": "markdown",
   "id": "953a62b0-bebe-4c39-8522-17fe1f42ef15",
   "metadata": {},
   "source": [
    "# 라벨 조정\n",
    "* 부정10배로"
   ]
  },
  {
   "cell_type": "code",
   "execution_count": 45,
   "id": "3c0f6548-ea16-4ad9-aecb-d926084e5b85",
   "metadata": {
    "tags": []
   },
   "outputs": [
    {
     "data": {
      "text/plain": [
       " 1.0    25017\n",
       " 0.0    21339\n",
       "-1.0     5532\n",
       "Name: polarity.label, dtype: int64"
      ]
     },
     "execution_count": 45,
     "metadata": {},
     "output_type": "execute_result"
    }
   ],
   "source": [
    "df_O[\"polarity.label\"].value_counts()"
   ]
  },
  {
   "cell_type": "code",
   "execution_count": 46,
   "id": "3b970757-afb1-4f06-a245-dbd70c16e574",
   "metadata": {},
   "outputs": [
    {
     "name": "stdout",
     "output_type": "stream",
     "text": [
      "긍정의 비율 = 41.125%\n",
      "중립의 비율 = 48.213%\n",
      "부정의 비율 = 10.661%\n"
     ]
    }
   ],
   "source": [
    "print(f'긍정의 비율 = {round(df_O[\"polarity.label\"].value_counts()[0]/len(df_O) * 100,3)}%')\n",
    "print(f'중립의 비율 = {round(df_O[\"polarity.label\"].value_counts()[1]/len(df_O) * 100,3)}%')\n",
    "print(f'부정의 비율 = {round(df_O[\"polarity.label\"].value_counts()[-1]/len(df_O) * 100,3)}%')"
   ]
  },
  {
   "cell_type": "code",
   "execution_count": 47,
   "id": "8ca3f8d1-6ffb-4b10-abb5-bc8649ba0a57",
   "metadata": {
    "tags": []
   },
   "outputs": [],
   "source": [
    "df_neg=df_O[df_O[\"polarity.label\"]==-1]"
   ]
  },
  {
   "cell_type": "code",
   "execution_count": 48,
   "id": "8ecd15ba-0a2a-4aa5-b0aa-0da592c2b475",
   "metadata": {
    "tags": []
   },
   "outputs": [
    {
     "data": {
      "text/plain": [
       "(51888, 5532)"
      ]
     },
     "execution_count": 48,
     "metadata": {},
     "output_type": "execute_result"
    }
   ],
   "source": [
    "len(df_O),len(df_neg)"
   ]
  },
  {
   "cell_type": "code",
   "execution_count": 49,
   "id": "9f3537e6-0aee-4003-a68a-040c78c3a4a5",
   "metadata": {
    "tags": []
   },
   "outputs": [],
   "source": [
    "for i in range(3):\n",
    "    df_O = df_O.append(df_neg)"
   ]
  },
  {
   "cell_type": "code",
   "execution_count": 50,
   "id": "13567b0a-90eb-4d1b-b0a5-c214f51b8791",
   "metadata": {
    "tags": []
   },
   "outputs": [
    {
     "data": {
      "text/plain": [
       "(68484, 5532)"
      ]
     },
     "execution_count": 50,
     "metadata": {},
     "output_type": "execute_result"
    }
   ],
   "source": [
    "len(df_O),len(df_neg)"
   ]
  },
  {
   "cell_type": "code",
   "execution_count": 51,
   "id": "3436ed08-a409-438f-8565-8b27f6d95d14",
   "metadata": {
    "tags": []
   },
   "outputs": [
    {
     "data": {
      "text/plain": [
       " 1.0    25017\n",
       "-1.0    22128\n",
       " 0.0    21339\n",
       "Name: polarity.label, dtype: int64"
      ]
     },
     "execution_count": 51,
     "metadata": {},
     "output_type": "execute_result"
    }
   ],
   "source": [
    "df_O[\"polarity.label\"].value_counts()"
   ]
  },
  {
   "cell_type": "code",
   "execution_count": null,
   "id": "6ff59c47-e7d4-48d9-bb96-e661858850be",
   "metadata": {},
   "outputs": [],
   "source": []
  },
  {
   "cell_type": "code",
   "execution_count": 52,
   "id": "db5e26f2-ba27-4643-a0c4-7c1cf4950aac",
   "metadata": {},
   "outputs": [
    {
     "name": "stdout",
     "output_type": "stream",
     "text": [
      "중립의 비율 = 31.159%\n",
      "긍정의 비율 = 36.53%\n",
      "부정의 비율 = 32.311%\n"
     ]
    }
   ],
   "source": [
    "print(f'중립의 비율 = {round(df_O[\"polarity.label\"].value_counts()[0]/len(df_O) * 100,3)}%')\n",
    "print(f'긍정의 비율 = {round(df_O[\"polarity.label\"].value_counts()[1]/len(df_O) * 100,3)}%')\n",
    "print(f'부정의 비율 = {round(df_O[\"polarity.label\"].value_counts()[-1]/len(df_O) * 100,3)}%')"
   ]
  },
  {
   "cell_type": "code",
   "execution_count": 60,
   "id": "b7a95461-9bb6-4c4c-8a61-963e6d76ce2f",
   "metadata": {
    "tags": []
   },
   "outputs": [],
   "source": [
    "# len(df_O)"
   ]
  },
  {
   "cell_type": "code",
   "execution_count": 61,
   "id": "37180a89-2499-43a4-8390-ebea1cbc7e29",
   "metadata": {
    "tags": []
   },
   "outputs": [],
   "source": [
    "df_O[\"polarity.label\"] = df_O[\"polarity.label\"].replace([-1,0,1],[2,0,1])"
   ]
  },
  {
   "cell_type": "markdown",
   "id": "41676209-94c9-48e2-a46b-ec382fa85de7",
   "metadata": {},
   "source": [
    "# 테스트-트레인"
   ]
  },
  {
   "cell_type": "code",
   "execution_count": 62,
   "id": "e41cc59d-985e-4e60-8277-7f1a330004e4",
   "metadata": {
    "tags": []
   },
   "outputs": [],
   "source": [
    "X = df_O['del_stopword']\n",
    "y = df_O['polarity.label']"
   ]
  },
  {
   "cell_type": "code",
   "execution_count": 63,
   "id": "a7a3c039-ae25-4364-b8b1-fbf98991fe64",
   "metadata": {
    "id": "qmFecWmSkHiu"
   },
   "outputs": [],
   "source": [
    "X_train, X_test, y_train, y_test = train_test_split(X, y, test_size=0.2, random_state=0, stratify=y)"
   ]
  },
  {
   "cell_type": "code",
   "execution_count": 64,
   "id": "56ee819f-9dfd-470b-a1ff-5766361e1261",
   "metadata": {
    "tags": []
   },
   "outputs": [],
   "source": [
    "X_train.to_csv('./final_X_train.csv')"
   ]
  },
  {
   "cell_type": "code",
   "execution_count": 65,
   "id": "2b3c5550-1473-4396-9ab7-9f620439f945",
   "metadata": {
    "colab": {
     "base_uri": "https://localhost:8080/"
    },
    "id": "m-gTg1Z2kYK2",
    "outputId": "d0ee9cd3-32b1-48f4-8c9f-ed2e2f14fc5f"
   },
   "outputs": [
    {
     "name": "stdout",
     "output_type": "stream",
     "text": [
      "--------훈련 데이터의 비율-----------\n",
      "중립 = 31.159%\n",
      "긍정 = 36.531%\n",
      "부정 = 32.311%\n"
     ]
    }
   ],
   "source": [
    "print('--------훈련 데이터의 비율-----------')\n",
    "print(f'중립 = {round(y_train.value_counts()[0]/len(y_train) * 100,3)}%')\n",
    "print(f'긍정 = {round(y_train.value_counts()[1]/len(y_train) * 100,3)}%')\n",
    "print(f'부정 = {round(y_train.value_counts()[2]/len(y_train) * 100,3)}%')"
   ]
  },
  {
   "cell_type": "markdown",
   "id": "599cd18c-c507-4301-aef5-f8b6d1001047",
   "metadata": {},
   "source": [
    "# tokenize"
   ]
  },
  {
   "cell_type": "code",
   "execution_count": 67,
   "id": "9cca6c12-4609-4b2d-87c7-9752311b65aa",
   "metadata": {
    "colab": {
     "base_uri": "https://localhost:8080/"
    },
    "id": "5qCRNyvpkjEY",
    "outputId": "79b5f0b6-1598-48ea-b7d5-aeb16074ff08"
   },
   "outputs": [
    {
     "name": "stdout",
     "output_type": "stream",
     "text": [
      "[[1019, 78, 1, 1078, 14, 19, 94, 1048, 467], [5, 707, 7421, 7422, 5008, 1230, 294, 8, 986, 3326, 1673, 217], [3, 1295, 1143, 1674, 4, 453, 60, 22, 1, 114, 4229, 3027, 473, 27, 86, 224, 16, 115], [5693, 14990, 21, 14991, 21, 2077, 88, 9872, 422, 9873, 532, 17, 881, 79, 295, 1906, 4230, 235, 82, 40, 281, 59, 280, 387, 16, 2], [75, 231, 1224, 459, 112, 353, 882, 311]]\n",
      "[[141, 320, 762, 1, 1622, 2623, 891, 55, 5137, 1847, 528], [3, 32, 12, 4, 560, 435, 1, 88, 584, 442, 6, 354, 12052, 1249], [54, 998, 95, 283, 232, 6, 77, 882, 239, 9, 1848, 30, 1043, 31, 683, 836], [424, 30, 151, 1, 576, 315, 860, 5, 3442, 5, 10562, 219, 201, 145], [90, 8, 1, 1266, 2294, 666, 714, 136, 359, 65, 409, 42, 252, 64]]\n"
     ]
    }
   ],
   "source": [
    "tokenizer = Tokenizer()\n",
    "tokenizer.fit_on_texts(X_train)\n",
    "X_train_encoded = tokenizer.texts_to_sequences(X_train)\n",
    "X_test_encoded = tokenizer.texts_to_sequences(X_test)\n",
    "print(X_train_encoded[:5])\n",
    "print(X_test_encoded[:5])"
   ]
  },
  {
   "cell_type": "code",
   "execution_count": 68,
   "id": "b5163dc7-ee0b-4c73-a236-a026c9faaca5",
   "metadata": {
    "colab": {
     "base_uri": "https://localhost:8080/"
    },
    "id": "KAXqMlPtkm9d",
    "outputId": "a3ceac7d-6e64-491b-ae48-5111f9bd1ab4"
   },
   "outputs": [
    {
     "name": "stdout",
     "output_type": "stream",
     "text": [
      "24883\n"
     ]
    }
   ],
   "source": [
    "word_to_index = tokenizer.word_index\n",
    "vocab_size = len(word_to_index) + 1\n",
    "print(vocab_size)"
   ]
  },
  {
   "cell_type": "markdown",
   "id": "9c532608-04cd-4d3c-ba69-9adbe32a9205",
   "metadata": {},
   "source": [
    "## 패딩"
   ]
  },
  {
   "cell_type": "code",
   "execution_count": 69,
   "id": "3658451a-e200-486e-bf8e-663469d34564",
   "metadata": {
    "colab": {
     "base_uri": "https://localhost:8080/",
     "height": 315
    },
    "id": "CVaCLg2glTIo",
    "outputId": "2ee453f6-3488-45ca-dabd-250e064230d3"
   },
   "outputs": [
    {
     "name": "stdout",
     "output_type": "stream",
     "text": [
      "본문의 최대 길이 : 77\n",
      "본문의 평균 길이 : 15.622574698377353\n"
     ]
    },
    {
     "data": {
      "image/png": "[encoded data removed]",
      "text/plain": [
       "<Figure size 640x480 with 1 Axes>"
      ]
     },
     "metadata": {},
     "output_type": "display_data"
    }
   ],
   "source": [
    "print(  '본문의 최대 길이 :',   max(   len(sent) for sent in X_train   )   )\n",
    "# X_train 요소 하나하나 길이 재서 최대길이추출\n",
    "print(   '본문의 평균 길이 :',  sum(    map(len, X_train)  )   /  len(X_train)     )\n",
    "# X_train 요소 길이 재서 sum하구 X_train 개수로 나눈다\n",
    "plt.hist([len(sent) for sent in X_train], bins=50)\n",
    "plt.xlabel('length of samples')\n",
    "plt.ylabel('number of samples')\n",
    "plt.show()"
   ]
  },
  {
   "cell_type": "code",
   "execution_count": 70,
   "id": "cc472626-e085-48f4-ae7f-1454070233c5",
   "metadata": {
    "id": "vZvzv8jClpTF"
   },
   "outputs": [],
   "source": [
    "max_len = 77"
   ]
  },
  {
   "cell_type": "code",
   "execution_count": 71,
   "id": "6f6fb2a7-ee1e-470a-abbe-99e54cf04b16",
   "metadata": {
    "id": "DO-ypzo6lmuu"
   },
   "outputs": [],
   "source": [
    "X_train_encoded = pad_sequences(X_train_encoded, maxlen=max_len)\n",
    "X_test_encoded = pad_sequences(X_test_encoded, maxlen=max_len)"
   ]
  },
  {
   "cell_type": "code",
   "execution_count": 72,
   "id": "4b03af5f-8324-4fc1-8744-1bbb20fc8500",
   "metadata": {
    "tags": []
   },
   "outputs": [
    {
     "data": {
      "text/plain": [
       "(54787,)"
      ]
     },
     "execution_count": 72,
     "metadata": {},
     "output_type": "execute_result"
    }
   ],
   "source": [
    "y_train.shape"
   ]
  },
  {
   "cell_type": "code",
   "execution_count": 73,
   "id": "4ab6bbd3-6fa4-4daf-a55d-7b3c56cb79a1",
   "metadata": {
    "id": "OG8mNRPqmRb1"
   },
   "outputs": [],
   "source": [
    "y_train = to_categorical(y_train)\n",
    "y_test = to_categorical(y_test)"
   ]
  },
  {
   "cell_type": "markdown",
   "id": "07f19e01-7f69-4bc9-8f05-538d76df53c1",
   "metadata": {},
   "source": [
    "# 모델학습\n",
    "* 라벨 조정전 테스트 정확도: 0.8776\n",
    "* 라벨 조정후(부정*3) 테스트 정확도 : 0.9011"
   ]
  },
  {
   "cell_type": "code",
   "execution_count": 74,
   "id": "db14e184-00f9-4d64-9cd5-0a5c201f9b12",
   "metadata": {
    "colab": {
     "base_uri": "https://localhost:8080/"
    },
    "id": "qcgxpi4zmWHd",
    "outputId": "ab93b729-da07-44c0-f1ec-8c39cbf8c7ec"
   },
   "outputs": [
    {
     "name": "stdout",
     "output_type": "stream",
     "text": [
      "Epoch 1/15\n",
      "1369/1370 [============================>.] - ETA: 0s - loss: 0.3934 - acc: 0.8386\n",
      "Epoch 1: val_acc improved from -inf to 0.89779, saving model to ./NLP\\best_model_1018_labelbal.h5\n",
      "1370/1370 [==============================] - 48s 34ms/step - loss: 0.3933 - acc: 0.8386 - val_loss: 0.2692 - val_acc: 0.8978\n",
      "Epoch 2/15\n",
      "1370/1370 [==============================] - ETA: 0s - loss: 0.1860 - acc: 0.9301\n",
      "Epoch 2: val_acc improved from 0.89779 to 0.90089, saving model to ./NLP\\best_model_1018_labelbal.h5\n",
      "1370/1370 [==============================] - 49s 36ms/step - loss: 0.1860 - acc: 0.9301 - val_loss: 0.2589 - val_acc: 0.9009\n",
      "Epoch 3/15\n",
      "1369/1370 [============================>.] - ETA: 0s - loss: 0.1237 - acc: 0.9544\n",
      "Epoch 3: val_acc improved from 0.90089 to 0.90108, saving model to ./NLP\\best_model_1018_labelbal.h5\n",
      "1370/1370 [==============================] - 50s 37ms/step - loss: 0.1237 - acc: 0.9544 - val_loss: 0.2834 - val_acc: 0.9011\n",
      "Epoch 4/15\n",
      "1369/1370 [============================>.] - ETA: 0s - loss: 0.0893 - acc: 0.9676\n",
      "Epoch 4: val_acc did not improve from 0.90108\n",
      "1370/1370 [==============================] - 52s 38ms/step - loss: 0.0893 - acc: 0.9676 - val_loss: 0.3081 - val_acc: 0.8961\n",
      "Epoch 5/15\n",
      "1370/1370 [==============================] - ETA: 0s - loss: 0.0640 - acc: 0.9767\n",
      "Epoch 5: val_acc did not improve from 0.90108\n",
      "1370/1370 [==============================] - 52s 38ms/step - loss: 0.0640 - acc: 0.9767 - val_loss: 0.3575 - val_acc: 0.8945\n",
      "Epoch 6/15\n",
      "1369/1370 [============================>.] - ETA: 0s - loss: 0.0498 - acc: 0.9823\n",
      "Epoch 6: val_acc did not improve from 0.90108\n",
      "1370/1370 [==============================] - 52s 38ms/step - loss: 0.0498 - acc: 0.9823 - val_loss: 0.3858 - val_acc: 0.8976\n",
      "Epoch 6: early stopping\n"
     ]
    }
   ],
   "source": [
    "embedding_dim = 64\n",
    "hidden_units = 64\n",
    "num_classes = 3\n",
    "\n",
    "model = Sequential()\n",
    "model.add(Embedding(vocab_size, embedding_dim))\n",
    "model.add(LSTM(hidden_units))\n",
    "model.add(Dense(num_classes, activation='softmax'))\n",
    "\n",
    "es = EarlyStopping(monitor='val_loss', mode='min', verbose=1, patience=4)\n",
    "mc = ModelCheckpoint('./NLP/best_model_1018_labelbal.h5', monitor='val_acc', mode='max', verbose=1, save_best_only=True)\n",
    "\n",
    "model.compile(loss='categorical_crossentropy', optimizer='adam', metrics=['acc'])\n",
    "history = model.fit(X_train_encoded, y_train, epochs=15, callbacks=[es, mc], batch_size=32, validation_split=0.2)"
   ]
  },
  {
   "cell_type": "code",
   "execution_count": 76,
   "id": "5aa271e7-62de-4142-9720-e7fbf6571d0a",
   "metadata": {
    "colab": {
     "base_uri": "https://localhost:8080/"
    },
    "id": "qtj0EMOEmeEX",
    "outputId": "e64117af-a089-4155-ba53-e2481a094cd2",
    "tags": []
   },
   "outputs": [
    {
     "name": "stdout",
     "output_type": "stream",
     "text": [
      "429/429 [==============================] - 4s 8ms/step - loss: 0.2818 - acc: 0.9011\n",
      "\n",
      " 테스트 정확도: 0.9011\n"
     ]
    }
   ],
   "source": [
    "loaded_model = load_model('./NLP/best_model_1018_labelbal.h5')\n",
    "print(\"\\n 테스트 정확도: %.4f\" % (loaded_model.evaluate(X_test_encoded, y_test)[1]))"
   ]
  },
  {
   "cell_type": "markdown",
   "id": "53966b54-6233-4daa-a6b2-0454e6fc1cec",
   "metadata": {},
   "source": [
    "# 예측"
   ]
  },
  {
   "cell_type": "code",
   "execution_count": 77,
   "id": "42310751-07f6-49a6-9e80-f8e2e71f4157",
   "metadata": {},
   "outputs": [],
   "source": [
    "from tensorflow.keras.models import load_model"
   ]
  },
  {
   "cell_type": "code",
   "execution_count": 78,
   "id": "bfe8d02d-8371-49b9-9608-40500336f6f5",
   "metadata": {
    "tags": []
   },
   "outputs": [],
   "source": [
    "model=tf.keras.models.load_model(\n",
    "    './NLP/best_model_1018_labelbal.h5')"
   ]
  },
  {
   "cell_type": "code",
   "execution_count": 79,
   "id": "52895bce-85d1-44bc-9414-e059cecf9156",
   "metadata": {
    "tags": []
   },
   "outputs": [
    {
     "data": {
      "text/html": [
       "<div>\n",
       "<style scoped>\n",
       "    .dataframe tbody tr th:only-of-type {\n",
       "        vertical-align: middle;\n",
       "    }\n",
       "\n",
       "    .dataframe tbody tr th {\n",
       "        vertical-align: top;\n",
       "    }\n",
       "\n",
       "    .dataframe thead th {\n",
       "        text-align: right;\n",
       "    }\n",
       "</style>\n",
       "<table border=\"1\" class=\"dataframe\">\n",
       "  <thead>\n",
       "    <tr style=\"text-align: right;\">\n",
       "      <th></th>\n",
       "      <th>title</th>\n",
       "      <th>polarity.label</th>\n",
       "      <th>tokenized</th>\n",
       "      <th>del_stopword</th>\n",
       "    </tr>\n",
       "  </thead>\n",
       "  <tbody>\n",
       "    <tr>\n",
       "      <th>0</th>\n",
       "      <td>[ET투자뉴스]CMG제약_기관의 힘? 대량순매수 이후.. 현재 +3.05%</td>\n",
       "      <td>1.0</td>\n",
       "      <td>[[, ET, 투자, 뉴스, ], CMG, 제약, _, 기관, 의, 힘, ?, 대량...</td>\n",
       "      <td>[[, ET, 투자, 뉴스, ], CMG, 제약, _, 기관, 의, 힘, ?, 대량...</td>\n",
       "    </tr>\n",
       "    <tr>\n",
       "      <th>1</th>\n",
       "      <td>[한경로보뉴스] '와이지엔터테인먼트' 52주 신고가 경신</td>\n",
       "      <td>1.0</td>\n",
       "      <td>[[, 한경, 로보, 뉴스, ], ', 와, 이지, 엔터, 테, 인, 먼, 트, '...</td>\n",
       "      <td>[[, 한경, 로보, 뉴스, ], ', 와, 이지, 엔터, 테, 인, 먼, 트, '...</td>\n",
       "    </tr>\n",
       "  </tbody>\n",
       "</table>\n",
       "</div>"
      ],
      "text/plain": [
       "                                       title  polarity.label  \\\n",
       "0  [ET투자뉴스]CMG제약_기관의 힘? 대량순매수 이후.. 현재 +3.05%             1.0   \n",
       "1            [한경로보뉴스] '와이지엔터테인먼트' 52주 신고가 경신             1.0   \n",
       "\n",
       "                                           tokenized  \\\n",
       "0  [[, ET, 투자, 뉴스, ], CMG, 제약, _, 기관, 의, 힘, ?, 대량...   \n",
       "1  [[, 한경, 로보, 뉴스, ], ', 와, 이지, 엔터, 테, 인, 먼, 트, '...   \n",
       "\n",
       "                                        del_stopword  \n",
       "0  [[, ET, 투자, 뉴스, ], CMG, 제약, _, 기관, 의, 힘, ?, 대량...  \n",
       "1  [[, 한경, 로보, 뉴스, ], ', 와, 이지, 엔터, 테, 인, 먼, 트, '...  "
      ]
     },
     "execution_count": 79,
     "metadata": {},
     "output_type": "execute_result"
    }
   ],
   "source": [
    "df_O.head(2)"
   ]
  },
  {
   "cell_type": "code",
   "execution_count": 80,
   "id": "81588931-6998-4877-b66f-7700c5a14dec",
   "metadata": {
    "tags": []
   },
   "outputs": [
    {
     "data": {
      "text/html": [
       "<div>\n",
       "<style scoped>\n",
       "    .dataframe tbody tr th:only-of-type {\n",
       "        vertical-align: middle;\n",
       "    }\n",
       "\n",
       "    .dataframe tbody tr th {\n",
       "        vertical-align: top;\n",
       "    }\n",
       "\n",
       "    .dataframe thead th {\n",
       "        text-align: right;\n",
       "    }\n",
       "</style>\n",
       "<table border=\"1\" class=\"dataframe\">\n",
       "  <thead>\n",
       "    <tr style=\"text-align: right;\">\n",
       "      <th></th>\n",
       "      <th>title</th>\n",
       "      <th>polarity.label</th>\n",
       "    </tr>\n",
       "  </thead>\n",
       "  <tbody>\n",
       "    <tr>\n",
       "      <th>4</th>\n",
       "      <td>간암·뇌전증·치매… 한국 신약 10여종 美 상륙한다</td>\n",
       "      <td>NaN</td>\n",
       "    </tr>\n",
       "    <tr>\n",
       "      <th>5</th>\n",
       "      <td>[재송]27일 장 마감 후 주요 종목뉴스</td>\n",
       "      <td>NaN</td>\n",
       "    </tr>\n",
       "  </tbody>\n",
       "</table>\n",
       "</div>"
      ],
      "text/plain": [
       "                          title  polarity.label\n",
       "4  간암·뇌전증·치매… 한국 신약 10여종 美 상륙한다             NaN\n",
       "5        [재송]27일 장 마감 후 주요 종목뉴스             NaN"
      ]
     },
     "execution_count": 80,
     "metadata": {},
     "output_type": "execute_result"
    }
   ],
   "source": [
    "df_X.head(2)"
   ]
  },
  {
   "cell_type": "code",
   "execution_count": 81,
   "id": "e1e93ec7-51fa-45ee-a541-8c3e54946930",
   "metadata": {
    "tags": []
   },
   "outputs": [],
   "source": [
    "df_X['tokenized'] = df_X['title'].apply(mecab.morphs)"
   ]
  },
  {
   "cell_type": "code",
   "execution_count": 82,
   "id": "a76fa233-a3d7-4e44-a7c4-fb6c4e338447",
   "metadata": {
    "tags": []
   },
   "outputs": [],
   "source": [
    "del_stopword = []\n",
    "for row in df_X['tokenized']:\n",
    "    tmp =[]\n",
    "    for word in row:\n",
    "        if word not in stop_word:\n",
    "            tmp.append(word)\n",
    "    del_stopword.append(tmp)"
   ]
  },
  {
   "cell_type": "code",
   "execution_count": 83,
   "id": "60831f72-138c-470c-aedc-4118e04ce82e",
   "metadata": {
    "tags": []
   },
   "outputs": [],
   "source": [
    "df_X['del_stopword'] = del_stopword"
   ]
  },
  {
   "cell_type": "code",
   "execution_count": 84,
   "id": "72a92912-9413-4b5f-a9ae-b32d1373b7a0",
   "metadata": {
    "tags": []
   },
   "outputs": [
    {
     "data": {
      "text/html": [
       "<div>\n",
       "<style scoped>\n",
       "    .dataframe tbody tr th:only-of-type {\n",
       "        vertical-align: middle;\n",
       "    }\n",
       "\n",
       "    .dataframe tbody tr th {\n",
       "        vertical-align: top;\n",
       "    }\n",
       "\n",
       "    .dataframe thead th {\n",
       "        text-align: right;\n",
       "    }\n",
       "</style>\n",
       "<table border=\"1\" class=\"dataframe\">\n",
       "  <thead>\n",
       "    <tr style=\"text-align: right;\">\n",
       "      <th></th>\n",
       "      <th>title</th>\n",
       "      <th>polarity.label</th>\n",
       "      <th>tokenized</th>\n",
       "      <th>del_stopword</th>\n",
       "    </tr>\n",
       "  </thead>\n",
       "  <tbody>\n",
       "    <tr>\n",
       "      <th>4</th>\n",
       "      <td>간암·뇌전증·치매… 한국 신약 10여종 美 상륙한다</td>\n",
       "      <td>NaN</td>\n",
       "      <td>[간암, ·, 뇌전증, ·, 치매, …, 한국, 신약, 10, 여종, 美, 상륙, 한다]</td>\n",
       "      <td>[간암, ·, 뇌전증, ·, 치매, …, 한국, 신약, 10, 여종, 美, 상륙, 한다]</td>\n",
       "    </tr>\n",
       "    <tr>\n",
       "      <th>5</th>\n",
       "      <td>[재송]27일 장 마감 후 주요 종목뉴스</td>\n",
       "      <td>NaN</td>\n",
       "      <td>[[, 재송, ], 27, 일, 장, 마감, 후, 주요, 종목, 뉴스]</td>\n",
       "      <td>[[, 재송, ], 27, 일, 장, 마감, 후, 주요, 종목, 뉴스]</td>\n",
       "    </tr>\n",
       "  </tbody>\n",
       "</table>\n",
       "</div>"
      ],
      "text/plain": [
       "                          title  polarity.label  \\\n",
       "4  간암·뇌전증·치매… 한국 신약 10여종 美 상륙한다             NaN   \n",
       "5        [재송]27일 장 마감 후 주요 종목뉴스             NaN   \n",
       "\n",
       "                                           tokenized  \\\n",
       "4  [간암, ·, 뇌전증, ·, 치매, …, 한국, 신약, 10, 여종, 美, 상륙, 한다]   \n",
       "5            [[, 재송, ], 27, 일, 장, 마감, 후, 주요, 종목, 뉴스]   \n",
       "\n",
       "                                        del_stopword  \n",
       "4  [간암, ·, 뇌전증, ·, 치매, …, 한국, 신약, 10, 여종, 美, 상륙, 한다]  \n",
       "5            [[, 재송, ], 27, 일, 장, 마감, 후, 주요, 종목, 뉴스]  "
      ]
     },
     "execution_count": 84,
     "metadata": {},
     "output_type": "execute_result"
    }
   ],
   "source": [
    "df_X.head(2)"
   ]
  },
  {
   "cell_type": "code",
   "execution_count": 85,
   "id": "34ccd89e-f895-4424-8f3b-cdbeff759b60",
   "metadata": {
    "tags": []
   },
   "outputs": [],
   "source": [
    "x=df_X['del_stopword']\n",
    "y=df_X['polarity.label']"
   ]
  },
  {
   "cell_type": "code",
   "execution_count": 86,
   "id": "6d6b5c4b-cf2a-42f3-aa24-00e43d260f14",
   "metadata": {
    "tags": []
   },
   "outputs": [],
   "source": [
    "X_encoded = tokenizer.texts_to_sequences(x)"
   ]
  },
  {
   "cell_type": "code",
   "execution_count": 87,
   "id": "e65f6a71-f069-43ad-be93-93c90a601c06",
   "metadata": {
    "id": "DO-ypzo6lmuu"
   },
   "outputs": [],
   "source": [
    "X_encoded = pad_sequences(X_encoded, maxlen=max_len)"
   ]
  },
  {
   "cell_type": "code",
   "execution_count": 88,
   "id": "02cc6e7e-a48d-4d71-9f9a-711a61cc55f9",
   "metadata": {
    "tags": []
   },
   "outputs": [
    {
     "name": "stdout",
     "output_type": "stream",
     "text": [
      "2766/2766 [==============================] - 23s 8ms/step\n"
     ]
    },
    {
     "data": {
      "text/plain": [
       "array([[8.4021926e-02, 9.1573650e-01, 2.4155172e-04],\n",
       "       [9.9062926e-01, 5.8526048e-03, 3.5180305e-03],\n",
       "       [5.8136266e-01, 9.0936191e-02, 3.2770115e-01],\n",
       "       [9.9987245e-01, 1.2330573e-04, 4.2408437e-06],\n",
       "       [9.3558013e-01, 5.0277159e-02, 1.4142697e-02]], dtype=float32)"
      ]
     },
     "execution_count": 88,
     "metadata": {},
     "output_type": "execute_result"
    }
   ],
   "source": [
    "pred=model.predict(X_encoded)\n",
    "pred[:5]"
   ]
  },
  {
   "cell_type": "code",
   "execution_count": 89,
   "id": "8cb46278-293e-42ef-99a5-b538785b79ce",
   "metadata": {
    "tags": []
   },
   "outputs": [
    {
     "data": {
      "text/plain": [
       "(88485, 88485)"
      ]
     },
     "execution_count": 89,
     "metadata": {},
     "output_type": "execute_result"
    }
   ],
   "source": [
    "len(df_X),len(pred)"
   ]
  },
  {
   "cell_type": "code",
   "execution_count": 90,
   "id": "02bc4da4-a181-47f4-9d96-b2ef022a7c01",
   "metadata": {
    "tags": []
   },
   "outputs": [],
   "source": [
    "label = np.argmax(pred,axis=1)"
   ]
  },
  {
   "cell_type": "code",
   "execution_count": 91,
   "id": "1dfce20c-a212-4b54-b716-53a4e29baf53",
   "metadata": {
    "tags": []
   },
   "outputs": [
    {
     "data": {
      "text/plain": [
       "88485"
      ]
     },
     "execution_count": 91,
     "metadata": {},
     "output_type": "execute_result"
    }
   ],
   "source": [
    "len(label)"
   ]
  },
  {
   "cell_type": "code",
   "execution_count": 92,
   "id": "99246dbf-a4ec-40da-a484-fe15565968c2",
   "metadata": {
    "tags": []
   },
   "outputs": [],
   "source": [
    "df_X['polarity.label'] = label"
   ]
  },
  {
   "cell_type": "code",
   "execution_count": 93,
   "id": "2d7cc47d-89ce-4018-a421-20534e9c801c",
   "metadata": {
    "tags": []
   },
   "outputs": [
    {
     "data": {
      "text/html": [
       "<div>\n",
       "<style scoped>\n",
       "    .dataframe tbody tr th:only-of-type {\n",
       "        vertical-align: middle;\n",
       "    }\n",
       "\n",
       "    .dataframe tbody tr th {\n",
       "        vertical-align: top;\n",
       "    }\n",
       "\n",
       "    .dataframe thead th {\n",
       "        text-align: right;\n",
       "    }\n",
       "</style>\n",
       "<table border=\"1\" class=\"dataframe\">\n",
       "  <thead>\n",
       "    <tr style=\"text-align: right;\">\n",
       "      <th></th>\n",
       "      <th>title</th>\n",
       "      <th>polarity.label</th>\n",
       "      <th>tokenized</th>\n",
       "      <th>del_stopword</th>\n",
       "    </tr>\n",
       "  </thead>\n",
       "  <tbody>\n",
       "    <tr>\n",
       "      <th>4</th>\n",
       "      <td>간암·뇌전증·치매… 한국 신약 10여종 美 상륙한다</td>\n",
       "      <td>1</td>\n",
       "      <td>[간암, ·, 뇌전증, ·, 치매, …, 한국, 신약, 10, 여종, 美, 상륙, 한다]</td>\n",
       "      <td>[간암, ·, 뇌전증, ·, 치매, …, 한국, 신약, 10, 여종, 美, 상륙, 한다]</td>\n",
       "    </tr>\n",
       "    <tr>\n",
       "      <th>5</th>\n",
       "      <td>[재송]27일 장 마감 후 주요 종목뉴스</td>\n",
       "      <td>0</td>\n",
       "      <td>[[, 재송, ], 27, 일, 장, 마감, 후, 주요, 종목, 뉴스]</td>\n",
       "      <td>[[, 재송, ], 27, 일, 장, 마감, 후, 주요, 종목, 뉴스]</td>\n",
       "    </tr>\n",
       "  </tbody>\n",
       "</table>\n",
       "</div>"
      ],
      "text/plain": [
       "                          title  polarity.label  \\\n",
       "4  간암·뇌전증·치매… 한국 신약 10여종 美 상륙한다               1   \n",
       "5        [재송]27일 장 마감 후 주요 종목뉴스               0   \n",
       "\n",
       "                                           tokenized  \\\n",
       "4  [간암, ·, 뇌전증, ·, 치매, …, 한국, 신약, 10, 여종, 美, 상륙, 한다]   \n",
       "5            [[, 재송, ], 27, 일, 장, 마감, 후, 주요, 종목, 뉴스]   \n",
       "\n",
       "                                        del_stopword  \n",
       "4  [간암, ·, 뇌전증, ·, 치매, …, 한국, 신약, 10, 여종, 美, 상륙, 한다]  \n",
       "5            [[, 재송, ], 27, 일, 장, 마감, 후, 주요, 종목, 뉴스]  "
      ]
     },
     "execution_count": 93,
     "metadata": {},
     "output_type": "execute_result"
    }
   ],
   "source": [
    "df_X[:2]"
   ]
  },
  {
   "cell_type": "code",
   "execution_count": 94,
   "id": "31acbccc-fae6-4b2e-ad05-3fba49a749c5",
   "metadata": {
    "tags": []
   },
   "outputs": [],
   "source": [
    "df = pd.concat([df_X,df_O])"
   ]
  },
  {
   "cell_type": "code",
   "execution_count": 96,
   "id": "b98ff1af-038c-4937-91c7-1b7045e4709b",
   "metadata": {
    "tags": []
   },
   "outputs": [],
   "source": [
    "df.to_csv('./labelO10-18.csv', index=False)"
   ]
  }
 ],
 "metadata": {
  "kernelspec": {
   "display_name": "Python 3 (ipykernel)",
   "language": "python",
   "name": "python3"
  },
  "language_info": {
   "codemirror_mode": {
    "name": "ipython",
    "version": 3
   },
   "file_extension": ".py",
   "mimetype": "text/x-python",
   "name": "python",
   "nbconvert_exporter": "python",
   "pygments_lexer": "ipython3",
   "version": "3.8.8"
  }
 },
 "nbformat": 4,
 "nbformat_minor": 5
}
