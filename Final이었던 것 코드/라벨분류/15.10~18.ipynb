{
 "cells": [
  {
   "cell_type": "code",
   "execution_count": 1,
   "id": "f2a262bc-2324-46b9-9000-fce349754d59",
   "metadata": {
    "id": "Qww_V4GzhgoS",
    "tags": []
   },
   "outputs": [],
   "source": [
    "import pandas as pd\n",
    "import numpy as np\n",
    "import matplotlib.pyplot as plt\n",
    "from sklearn.model_selection import train_test_split\n",
    "import re\n",
    "import urllib.request\n",
    "import mecab\n",
    "from tqdm import tqdm\n",
    "from tensorflow.keras.preprocessing.text import Tokenizer\n",
    "from tensorflow.keras.preprocessing.sequence import pad_sequences\n",
    "import tensorflow as tf\n",
    "from tensorflow.keras.layers import Embedding, Dense, LSTM\n",
    "from tensorflow.keras.models import Sequential\n",
    "from tensorflow.keras.models import load_model\n",
    "from tensorflow.keras.utils import to_categorical\n",
    "from tensorflow.keras.callbacks import EarlyStopping, ModelCheckpoint\n",
    "import warnings\n",
    "warnings.filterwarnings(action='ignore')"
   ]
  },
  {
   "cell_type": "markdown",
   "id": "e9c33cb7-2b18-4d74-9bb5-7317ccb10d57",
   "metadata": {},
   "source": [
    "# 데이터 로드"
   ]
  },
  {
   "cell_type": "code",
   "execution_count": 2,
   "id": "3cf78131-51db-4a3b-bed5-630c1e8fdcdf",
   "metadata": {
    "tags": []
   },
   "outputs": [],
   "source": [
    "import os\n",
    "filelist = os.listdir('../데이터/기업별_뉴스/~0-126(2018-2022)')"
   ]
  },
  {
   "cell_type": "code",
   "execution_count": 3,
   "id": "93076555-29ca-41cb-b902-d56623bf7024",
   "metadata": {
    "tags": []
   },
   "outputs": [
    {
     "data": {
      "text/plain": [
       "['DeepSearch-CMG제약-news-2018-01-01-2018-12-31-20230601-191902.xlsx',\n",
       " 'DeepSearch-CMG제약-news-2019-01-01-2019-12-31-20230601-192349.xlsx',\n",
       " 'DeepSearch-CMG제약-news-2020-01-01-2020-12-31-20230601-192831.xlsx',\n",
       " 'DeepSearch-CMG제약-news-2021-01-01-2021-12-31-20230601-193311.xlsx',\n",
       " 'DeepSearch-CMG제약-news-2022-01-01-2022-12-31-20230601-193756.xlsx']"
      ]
     },
     "execution_count": 3,
     "metadata": {},
     "output_type": "execute_result"
    }
   ],
   "source": [
    "filelist[:5]"
   ]
  },
  {
   "cell_type": "code",
   "execution_count": 4,
   "id": "fc3c9ece-d5cf-4c46-9efe-50f12b1e1de7",
   "metadata": {},
   "outputs": [],
   "source": [
    "# for i, df in enumerate(df_list3):\n",
    "#     for j,title in enumerate(df['report_nm']):\n",
    "#         if (\"단일판매\" in title) or (\"보고서\" in title) or(\"주주총회\" in title) or(\"참고서류\" in title):\n",
    "#             # print(1)\n",
    "#             drop_df = drop_df.append({'df':i,'row':j}, ignore_index=True)"
   ]
  },
  {
   "cell_type": "code",
   "execution_count": 5,
   "id": "47dc13e5-5cc3-4b7d-af71-2ace976b8c96",
   "metadata": {},
   "outputs": [],
   "source": [
    "# ['2018-01-01-2018-12-31','2019-01-01-2019-12-31']"
   ]
  },
  {
   "cell_type": "code",
   "execution_count": 6,
   "id": "e7e1acb0-c840-44ee-bd3f-a403b75a6417",
   "metadata": {
    "tags": []
   },
   "outputs": [],
   "source": [
    "flie_18 = []\n",
    "for name in filelist:\n",
    "#     # print(type(name))\n",
    "    if  ('2018-01-01-2018-12-31' in name):\n",
    "        flie_18.append(name)"
   ]
  },
  {
   "cell_type": "code",
   "execution_count": 7,
   "id": "5a8a8866-e2c3-4e97-a221-c7aead9987e2",
   "metadata": {
    "tags": []
   },
   "outputs": [],
   "source": [
    "# flie_1819[-5]"
   ]
  },
  {
   "cell_type": "code",
   "execution_count": 8,
   "id": "a084f3e6-180d-420e-835e-fda3a1cb2ac6",
   "metadata": {
    "tags": []
   },
   "outputs": [],
   "source": [
    "df18 = []\n",
    "for name in flie_18:\n",
    "    df = pd.read_excel(f'../데이터/기업별_뉴스/~0-126(2018-2022)/{name}',sheet_name = '#02 Documents')\n",
    "    df['corp'] = f'{name}'\n",
    "    df18.append(df)"
   ]
  },
  {
   "cell_type": "code",
   "execution_count": 9,
   "id": "fa71cb61-073e-467a-866b-c1e425c52262",
   "metadata": {
    "tags": []
   },
   "outputs": [
    {
     "data": {
      "text/html": [
       "<div>\n",
       "<style scoped>\n",
       "    .dataframe tbody tr th:only-of-type {\n",
       "        vertical-align: middle;\n",
       "    }\n",
       "\n",
       "    .dataframe tbody tr th {\n",
       "        vertical-align: top;\n",
       "    }\n",
       "\n",
       "    .dataframe thead th {\n",
       "        text-align: right;\n",
       "    }\n",
       "</style>\n",
       "<table border=\"1\" class=\"dataframe\">\n",
       "  <thead>\n",
       "    <tr style=\"text-align: right;\">\n",
       "      <th></th>\n",
       "      <th>date</th>\n",
       "      <th>category</th>\n",
       "      <th>section</th>\n",
       "      <th>publisher</th>\n",
       "      <th>author</th>\n",
       "      <th>title</th>\n",
       "      <th>content_url</th>\n",
       "      <th>attachment</th>\n",
       "      <th>industry.label</th>\n",
       "      <th>industry.score</th>\n",
       "      <th>industry.name</th>\n",
       "      <th>polarity.label</th>\n",
       "      <th>polarity.score</th>\n",
       "      <th>polarity.name</th>\n",
       "      <th>corp</th>\n",
       "    </tr>\n",
       "  </thead>\n",
       "  <tbody>\n",
       "    <tr>\n",
       "      <th>0</th>\n",
       "      <td>2018-12-27</td>\n",
       "      <td>news</td>\n",
       "      <td>economy</td>\n",
       "      <td>전자신문</td>\n",
       "      <td>NaN</td>\n",
       "      <td>[ET투자뉴스]CMG제약_기관의 힘? 대량순매수 이후.. 현재 +3.05%</td>\n",
       "      <td>NaN</td>\n",
       "      <td>NaN</td>\n",
       "      <td>C21</td>\n",
       "      <td>1.000</td>\n",
       "      <td>의료용 물질 및 의약품 제조업</td>\n",
       "      <td>1.0</td>\n",
       "      <td>0.643</td>\n",
       "      <td>긍정</td>\n",
       "      <td>DeepSearch-CMG제약-news-2018-01-01-2018-12-31-20...</td>\n",
       "    </tr>\n",
       "    <tr>\n",
       "      <th>1</th>\n",
       "      <td>2018-12-24</td>\n",
       "      <td>news</td>\n",
       "      <td>economy</td>\n",
       "      <td>한국경제</td>\n",
       "      <td>NaN</td>\n",
       "      <td>[한경로보뉴스] '와이지엔터테인먼트' 52주 신고가 경신</td>\n",
       "      <td>NaN</td>\n",
       "      <td>NaN</td>\n",
       "      <td>C26</td>\n",
       "      <td>0.590</td>\n",
       "      <td>전자 부품, 컴퓨터, 영상, 음향 및 통신장비 제조업</td>\n",
       "      <td>1.0</td>\n",
       "      <td>0.667</td>\n",
       "      <td>긍정</td>\n",
       "      <td>DeepSearch-CMG제약-news-2018-01-01-2018-12-31-20...</td>\n",
       "    </tr>\n",
       "    <tr>\n",
       "      <th>2</th>\n",
       "      <td>2018-12-13</td>\n",
       "      <td>news</td>\n",
       "      <td>economy</td>\n",
       "      <td>한국경제TV</td>\n",
       "      <td>NaN</td>\n",
       "      <td>CMG제약(058820) 종목알파고 분석, 외국인/기관 실시간 수급과 추가 매수 확률은?</td>\n",
       "      <td>NaN</td>\n",
       "      <td>NaN</td>\n",
       "      <td>C21</td>\n",
       "      <td>1.000</td>\n",
       "      <td>의료용 물질 및 의약품 제조업</td>\n",
       "      <td>1.0</td>\n",
       "      <td>0.941</td>\n",
       "      <td>긍정</td>\n",
       "      <td>DeepSearch-CMG제약-news-2018-01-01-2018-12-31-20...</td>\n",
       "    </tr>\n",
       "    <tr>\n",
       "      <th>3</th>\n",
       "      <td>2018-12-06</td>\n",
       "      <td>news</td>\n",
       "      <td>economy</td>\n",
       "      <td>한국경제TV</td>\n",
       "      <td>라이온봇</td>\n",
       "      <td>CMG제약, 전일 대비 약 -4% 하락한 4,515원</td>\n",
       "      <td>NaN</td>\n",
       "      <td>NaN</td>\n",
       "      <td>C21</td>\n",
       "      <td>1.000</td>\n",
       "      <td>의료용 물질 및 의약품 제조업</td>\n",
       "      <td>0.0</td>\n",
       "      <td>0.653</td>\n",
       "      <td>중립</td>\n",
       "      <td>DeepSearch-CMG제약-news-2018-01-01-2018-12-31-20...</td>\n",
       "    </tr>\n",
       "    <tr>\n",
       "      <th>4</th>\n",
       "      <td>2018-12-05</td>\n",
       "      <td>news</td>\n",
       "      <td>tech</td>\n",
       "      <td>조선일보</td>\n",
       "      <td>최인준</td>\n",
       "      <td>간암·뇌전증·치매… 한국 신약 10여종 美 상륙한다</td>\n",
       "      <td>NaN</td>\n",
       "      <td>NaN</td>\n",
       "      <td>NaN</td>\n",
       "      <td>NaN</td>\n",
       "      <td>NaN</td>\n",
       "      <td>NaN</td>\n",
       "      <td>NaN</td>\n",
       "      <td>NaN</td>\n",
       "      <td>DeepSearch-CMG제약-news-2018-01-01-2018-12-31-20...</td>\n",
       "    </tr>\n",
       "    <tr>\n",
       "      <th>...</th>\n",
       "      <td>...</td>\n",
       "      <td>...</td>\n",
       "      <td>...</td>\n",
       "      <td>...</td>\n",
       "      <td>...</td>\n",
       "      <td>...</td>\n",
       "      <td>...</td>\n",
       "      <td>...</td>\n",
       "      <td>...</td>\n",
       "      <td>...</td>\n",
       "      <td>...</td>\n",
       "      <td>...</td>\n",
       "      <td>...</td>\n",
       "      <td>...</td>\n",
       "      <td>...</td>\n",
       "    </tr>\n",
       "    <tr>\n",
       "      <th>95</th>\n",
       "      <td>2018-01-02</td>\n",
       "      <td>news</td>\n",
       "      <td>economy</td>\n",
       "      <td>파이낸셜뉴스</td>\n",
       "      <td>NaN</td>\n",
       "      <td>[fnRASSI]CMG제약(058820) 현재 21.47% ↑</td>\n",
       "      <td>NaN</td>\n",
       "      <td>NaN</td>\n",
       "      <td>Q86</td>\n",
       "      <td>0.703</td>\n",
       "      <td>보건업</td>\n",
       "      <td>1.0</td>\n",
       "      <td>0.998</td>\n",
       "      <td>긍정</td>\n",
       "      <td>DeepSearch-CMG제약-news-2018-01-01-2018-12-31-20...</td>\n",
       "    </tr>\n",
       "    <tr>\n",
       "      <th>96</th>\n",
       "      <td>2018-01-02</td>\n",
       "      <td>news</td>\n",
       "      <td>economy</td>\n",
       "      <td>서울경제</td>\n",
       "      <td>NaN</td>\n",
       "      <td>(코)차바이오텍, 상한가 진입.. +30.00% ↑</td>\n",
       "      <td>NaN</td>\n",
       "      <td>NaN</td>\n",
       "      <td>C21</td>\n",
       "      <td>1.000</td>\n",
       "      <td>의료용 물질 및 의약품 제조업</td>\n",
       "      <td>1.0</td>\n",
       "      <td>0.996</td>\n",
       "      <td>긍정</td>\n",
       "      <td>DeepSearch-CMG제약-news-2018-01-01-2018-12-31-20...</td>\n",
       "    </tr>\n",
       "    <tr>\n",
       "      <th>97</th>\n",
       "      <td>2018-01-02</td>\n",
       "      <td>news</td>\n",
       "      <td>economy</td>\n",
       "      <td>조선비즈</td>\n",
       "      <td>박현익</td>\n",
       "      <td>[마켓뷰] 국내 증시, 연초 기대감에 상승…코스닥 800선 회복</td>\n",
       "      <td>NaN</td>\n",
       "      <td>NaN</td>\n",
       "      <td>100</td>\n",
       "      <td>0.845</td>\n",
       "      <td>분류 제외, 기타</td>\n",
       "      <td>NaN</td>\n",
       "      <td>NaN</td>\n",
       "      <td>NaN</td>\n",
       "      <td>DeepSearch-CMG제약-news-2018-01-01-2018-12-31-20...</td>\n",
       "    </tr>\n",
       "    <tr>\n",
       "      <th>98</th>\n",
       "      <td>2018-01-02</td>\n",
       "      <td>news</td>\n",
       "      <td>economy</td>\n",
       "      <td>파이낸셜뉴스</td>\n",
       "      <td>NaN</td>\n",
       "      <td>[fnRASSI]CMG제약 전일대비 9.13% 상승</td>\n",
       "      <td>NaN</td>\n",
       "      <td>NaN</td>\n",
       "      <td>100</td>\n",
       "      <td>0.982</td>\n",
       "      <td>분류 제외, 기타</td>\n",
       "      <td>1.0</td>\n",
       "      <td>0.993</td>\n",
       "      <td>긍정</td>\n",
       "      <td>DeepSearch-CMG제약-news-2018-01-01-2018-12-31-20...</td>\n",
       "    </tr>\n",
       "    <tr>\n",
       "      <th>99</th>\n",
       "      <td>2018-01-02</td>\n",
       "      <td>news</td>\n",
       "      <td>economy</td>\n",
       "      <td>서울경제</td>\n",
       "      <td>NaN</td>\n",
       "      <td>(코)CMG제약, 전일 대비 7.21% 상승.. 일일회전율은 4.61% 기록</td>\n",
       "      <td>NaN</td>\n",
       "      <td>NaN</td>\n",
       "      <td>C21</td>\n",
       "      <td>1.000</td>\n",
       "      <td>의료용 물질 및 의약품 제조업</td>\n",
       "      <td>1.0</td>\n",
       "      <td>0.995</td>\n",
       "      <td>긍정</td>\n",
       "      <td>DeepSearch-CMG제약-news-2018-01-01-2018-12-31-20...</td>\n",
       "    </tr>\n",
       "  </tbody>\n",
       "</table>\n",
       "<p>100 rows × 15 columns</p>\n",
       "</div>"
      ],
      "text/plain": [
       "          date category  section publisher author  \\\n",
       "0   2018-12-27     news  economy      전자신문    NaN   \n",
       "1   2018-12-24     news  economy      한국경제    NaN   \n",
       "2   2018-12-13     news  economy    한국경제TV    NaN   \n",
       "3   2018-12-06     news  economy    한국경제TV   라이온봇   \n",
       "4   2018-12-05     news     tech      조선일보    최인준   \n",
       "..         ...      ...      ...       ...    ...   \n",
       "95  2018-01-02     news  economy    파이낸셜뉴스    NaN   \n",
       "96  2018-01-02     news  economy      서울경제    NaN   \n",
       "97  2018-01-02     news  economy      조선비즈    박현익   \n",
       "98  2018-01-02     news  economy    파이낸셜뉴스    NaN   \n",
       "99  2018-01-02     news  economy      서울경제    NaN   \n",
       "\n",
       "                                                title  content_url  \\\n",
       "0           [ET투자뉴스]CMG제약_기관의 힘? 대량순매수 이후.. 현재 +3.05%          NaN   \n",
       "1                     [한경로보뉴스] '와이지엔터테인먼트' 52주 신고가 경신          NaN   \n",
       "2   CMG제약(058820) 종목알파고 분석, 외국인/기관 실시간 수급과 추가 매수 확률은?          NaN   \n",
       "3                       CMG제약, 전일 대비 약 -4% 하락한 4,515원          NaN   \n",
       "4                        간암·뇌전증·치매… 한국 신약 10여종 美 상륙한다          NaN   \n",
       "..                                                ...          ...   \n",
       "95                 [fnRASSI]CMG제약(058820) 현재 21.47% ↑          NaN   \n",
       "96                       (코)차바이오텍, 상한가 진입.. +30.00% ↑          NaN   \n",
       "97                [마켓뷰] 국내 증시, 연초 기대감에 상승…코스닥 800선 회복          NaN   \n",
       "98                       [fnRASSI]CMG제약 전일대비 9.13% 상승          NaN   \n",
       "99         (코)CMG제약, 전일 대비 7.21% 상승.. 일일회전율은 4.61% 기록          NaN   \n",
       "\n",
       "    attachment industry.label  industry.score                  industry.name  \\\n",
       "0          NaN            C21           1.000               의료용 물질 및 의약품 제조업   \n",
       "1          NaN            C26           0.590  전자 부품, 컴퓨터, 영상, 음향 및 통신장비 제조업   \n",
       "2          NaN            C21           1.000               의료용 물질 및 의약품 제조업   \n",
       "3          NaN            C21           1.000               의료용 물질 및 의약품 제조업   \n",
       "4          NaN            NaN             NaN                            NaN   \n",
       "..         ...            ...             ...                            ...   \n",
       "95         NaN            Q86           0.703                            보건업   \n",
       "96         NaN            C21           1.000               의료용 물질 및 의약품 제조업   \n",
       "97         NaN            100           0.845                      분류 제외, 기타   \n",
       "98         NaN            100           0.982                      분류 제외, 기타   \n",
       "99         NaN            C21           1.000               의료용 물질 및 의약품 제조업   \n",
       "\n",
       "    polarity.label  polarity.score polarity.name  \\\n",
       "0              1.0           0.643            긍정   \n",
       "1              1.0           0.667            긍정   \n",
       "2              1.0           0.941            긍정   \n",
       "3              0.0           0.653            중립   \n",
       "4              NaN             NaN           NaN   \n",
       "..             ...             ...           ...   \n",
       "95             1.0           0.998            긍정   \n",
       "96             1.0           0.996            긍정   \n",
       "97             NaN             NaN           NaN   \n",
       "98             1.0           0.993            긍정   \n",
       "99             1.0           0.995            긍정   \n",
       "\n",
       "                                                 corp  \n",
       "0   DeepSearch-CMG제약-news-2018-01-01-2018-12-31-20...  \n",
       "1   DeepSearch-CMG제약-news-2018-01-01-2018-12-31-20...  \n",
       "2   DeepSearch-CMG제약-news-2018-01-01-2018-12-31-20...  \n",
       "3   DeepSearch-CMG제약-news-2018-01-01-2018-12-31-20...  \n",
       "4   DeepSearch-CMG제약-news-2018-01-01-2018-12-31-20...  \n",
       "..                                                ...  \n",
       "95  DeepSearch-CMG제약-news-2018-01-01-2018-12-31-20...  \n",
       "96  DeepSearch-CMG제약-news-2018-01-01-2018-12-31-20...  \n",
       "97  DeepSearch-CMG제약-news-2018-01-01-2018-12-31-20...  \n",
       "98  DeepSearch-CMG제약-news-2018-01-01-2018-12-31-20...  \n",
       "99  DeepSearch-CMG제약-news-2018-01-01-2018-12-31-20...  \n",
       "\n",
       "[100 rows x 15 columns]"
      ]
     },
     "execution_count": 9,
     "metadata": {},
     "output_type": "execute_result"
    }
   ],
   "source": [
    "df18[0]"
   ]
  },
  {
   "cell_type": "code",
   "execution_count": 10,
   "id": "2e90fe63-8b06-46a0-896b-e43226b96782",
   "metadata": {
    "tags": []
   },
   "outputs": [
    {
     "data": {
      "text/plain": [
       "123"
      ]
     },
     "execution_count": 10,
     "metadata": {},
     "output_type": "execute_result"
    }
   ],
   "source": [
    "len(df18)"
   ]
  },
  {
   "cell_type": "code",
   "execution_count": 11,
   "id": "e23980f6-be56-42a6-985e-7edf812b7492",
   "metadata": {
    "tags": []
   },
   "outputs": [],
   "source": [
    "import os\n",
    "filelist = os.listdir('../데이터/기업별_뉴스/0-50(2010-2017)')"
   ]
  },
  {
   "cell_type": "code",
   "execution_count": 12,
   "id": "f932f88d-2648-444c-8122-a5fb981059ce",
   "metadata": {
    "tags": []
   },
   "outputs": [
    {
     "data": {
      "text/plain": [
       "'DeepSearch-디아이-news-2016-01-01-2016-12-31-20230605-151152.xlsx'"
      ]
     },
     "execution_count": 12,
     "metadata": {},
     "output_type": "execute_result"
    }
   ],
   "source": [
    "filelist[192]"
   ]
  },
  {
   "cell_type": "code",
   "execution_count": 13,
   "id": "c71291db-58ce-4c04-8efe-4f378a0a1ba8",
   "metadata": {
    "tags": []
   },
   "outputs": [],
   "source": [
    "# len(df0_50_1017)"
   ]
  },
  {
   "cell_type": "code",
   "execution_count": 14,
   "id": "fbfdba99-56ae-449d-8bc0-8a0bd8763ccb",
   "metadata": {},
   "outputs": [],
   "source": [
    "#02 Documents\n",
    "#02 Documents"
   ]
  },
  {
   "cell_type": "code",
   "execution_count": 15,
   "id": "69c1aa3e-af8e-49ce-b08a-d8d371cefcb8",
   "metadata": {
    "tags": []
   },
   "outputs": [],
   "source": [
    "df0_50_1017 = []\n",
    "for name in filelist:\n",
    "    df = pd.read_excel(f'../데이터/기업별_뉴스/0-50(2010-2017)/{name}',sheet_name = '#02 Documents')\n",
    "    df['corp'] = f'{name}'\n",
    "    df0_50_1017.append(df)"
   ]
  },
  {
   "cell_type": "code",
   "execution_count": 16,
   "id": "4e96b2ca-d280-424d-b1fb-93e4ed91e55e",
   "metadata": {
    "tags": []
   },
   "outputs": [],
   "source": [
    "import os\n",
    "filelist = os.listdir('../데이터/기업별_뉴스/51-99(2010-2017)')"
   ]
  },
  {
   "cell_type": "code",
   "execution_count": 17,
   "id": "b15b8cff-f01d-40a0-930f-9c8a60345bb0",
   "metadata": {
    "tags": []
   },
   "outputs": [],
   "source": [
    "df51_99_1017 = []\n",
    "for name in filelist:\n",
    "    df = pd.read_excel(f'../데이터/기업별_뉴스/51-99(2010-2017)/{name}',sheet_name = '#02 Documents')\n",
    "    df['corp'] = f'{name}'\n",
    "    df51_99_1017.append(df)"
   ]
  },
  {
   "cell_type": "code",
   "execution_count": 18,
   "id": "2935ccc3-3739-41bf-9ac2-222ab16bb26d",
   "metadata": {
    "tags": []
   },
   "outputs": [],
   "source": [
    "import os\n",
    "filelist = os.listdir('../데이터/기업별_뉴스/100-126(2010-2017)')"
   ]
  },
  {
   "cell_type": "code",
   "execution_count": 19,
   "id": "c4e0e041-faff-4af7-a371-52f857dd8b1c",
   "metadata": {
    "tags": []
   },
   "outputs": [],
   "source": [
    "df100_126_1017 = []\n",
    "for name in filelist:\n",
    "    df = pd.read_excel(f'../데이터/기업별_뉴스/100-126(2010-2017)/{name}',sheet_name = '#02 Documents')\n",
    "    df['corp'] = f'{name}'\n",
    "    df100_126_1017.append(df)"
   ]
  },
  {
   "cell_type": "code",
   "execution_count": 20,
   "id": "a8947711-81a5-447c-aa2d-4131c43f8c65",
   "metadata": {
    "tags": []
   },
   "outputs": [],
   "source": [
    "df = df18 + df0_50_1017 + df51_99_1017 + df100_126_1017"
   ]
  },
  {
   "cell_type": "code",
   "execution_count": 21,
   "id": "ee18425d-12ec-4ad3-bf75-189a5611d6ad",
   "metadata": {
    "tags": []
   },
   "outputs": [
    {
     "data": {
      "text/plain": [
       "125"
      ]
     },
     "execution_count": 21,
     "metadata": {},
     "output_type": "execute_result"
    }
   ],
   "source": [
    "len(df100_126_1017)"
   ]
  },
  {
   "cell_type": "code",
   "execution_count": 22,
   "id": "bf439797-2484-4864-985d-95685e98e93c",
   "metadata": {
    "tags": []
   },
   "outputs": [
    {
     "data": {
      "text/html": [
       "<div>\n",
       "<style scoped>\n",
       "    .dataframe tbody tr th:only-of-type {\n",
       "        vertical-align: middle;\n",
       "    }\n",
       "\n",
       "    .dataframe tbody tr th {\n",
       "        vertical-align: top;\n",
       "    }\n",
       "\n",
       "    .dataframe thead th {\n",
       "        text-align: right;\n",
       "    }\n",
       "</style>\n",
       "<table border=\"1\" class=\"dataframe\">\n",
       "  <thead>\n",
       "    <tr style=\"text-align: right;\">\n",
       "      <th></th>\n",
       "      <th>date</th>\n",
       "      <th>category</th>\n",
       "      <th>section</th>\n",
       "      <th>publisher</th>\n",
       "      <th>author</th>\n",
       "      <th>title</th>\n",
       "      <th>content_url</th>\n",
       "      <th>attachment</th>\n",
       "      <th>industry.label</th>\n",
       "      <th>industry.score</th>\n",
       "      <th>industry.name</th>\n",
       "      <th>polarity.label</th>\n",
       "      <th>polarity.score</th>\n",
       "      <th>polarity.name</th>\n",
       "      <th>corp</th>\n",
       "    </tr>\n",
       "  </thead>\n",
       "  <tbody>\n",
       "    <tr>\n",
       "      <th>0</th>\n",
       "      <td>2018-12-27</td>\n",
       "      <td>news</td>\n",
       "      <td>economy</td>\n",
       "      <td>전자신문</td>\n",
       "      <td>NaN</td>\n",
       "      <td>[ET투자뉴스]CMG제약_기관의 힘? 대량순매수 이후.. 현재 +3.05%</td>\n",
       "      <td>NaN</td>\n",
       "      <td>NaN</td>\n",
       "      <td>C21</td>\n",
       "      <td>1.00</td>\n",
       "      <td>의료용 물질 및 의약품 제조업</td>\n",
       "      <td>1.0</td>\n",
       "      <td>0.643</td>\n",
       "      <td>긍정</td>\n",
       "      <td>DeepSearch-CMG제약-news-2018-01-01-2018-12-31-20...</td>\n",
       "    </tr>\n",
       "    <tr>\n",
       "      <th>1</th>\n",
       "      <td>2018-12-24</td>\n",
       "      <td>news</td>\n",
       "      <td>economy</td>\n",
       "      <td>한국경제</td>\n",
       "      <td>NaN</td>\n",
       "      <td>[한경로보뉴스] '와이지엔터테인먼트' 52주 신고가 경신</td>\n",
       "      <td>NaN</td>\n",
       "      <td>NaN</td>\n",
       "      <td>C26</td>\n",
       "      <td>0.59</td>\n",
       "      <td>전자 부품, 컴퓨터, 영상, 음향 및 통신장비 제조업</td>\n",
       "      <td>1.0</td>\n",
       "      <td>0.667</td>\n",
       "      <td>긍정</td>\n",
       "      <td>DeepSearch-CMG제약-news-2018-01-01-2018-12-31-20...</td>\n",
       "    </tr>\n",
       "  </tbody>\n",
       "</table>\n",
       "</div>"
      ],
      "text/plain": [
       "         date category  section publisher author  \\\n",
       "0  2018-12-27     news  economy      전자신문    NaN   \n",
       "1  2018-12-24     news  economy      한국경제    NaN   \n",
       "\n",
       "                                       title  content_url  attachment  \\\n",
       "0  [ET투자뉴스]CMG제약_기관의 힘? 대량순매수 이후.. 현재 +3.05%          NaN         NaN   \n",
       "1            [한경로보뉴스] '와이지엔터테인먼트' 52주 신고가 경신          NaN         NaN   \n",
       "\n",
       "  industry.label  industry.score                  industry.name  \\\n",
       "0            C21            1.00               의료용 물질 및 의약품 제조업   \n",
       "1            C26            0.59  전자 부품, 컴퓨터, 영상, 음향 및 통신장비 제조업   \n",
       "\n",
       "   polarity.label  polarity.score polarity.name  \\\n",
       "0             1.0           0.643            긍정   \n",
       "1             1.0           0.667            긍정   \n",
       "\n",
       "                                                corp  \n",
       "0  DeepSearch-CMG제약-news-2018-01-01-2018-12-31-20...  \n",
       "1  DeepSearch-CMG제약-news-2018-01-01-2018-12-31-20...  "
      ]
     },
     "execution_count": 22,
     "metadata": {},
     "output_type": "execute_result"
    }
   ],
   "source": [
    "df[0].head(2)"
   ]
  },
  {
   "cell_type": "code",
   "execution_count": 23,
   "id": "2b86e17f-0b42-45fd-a2e4-24a7e08881d9",
   "metadata": {
    "tags": []
   },
   "outputs": [
    {
     "data": {
      "text/plain": [
       "931"
      ]
     },
     "execution_count": 23,
     "metadata": {},
     "output_type": "execute_result"
    }
   ],
   "source": [
    "len(df)"
   ]
  },
  {
   "cell_type": "code",
   "execution_count": 24,
   "id": "af1a2cbf-18fd-434a-83af-14770e5c9754",
   "metadata": {
    "tags": []
   },
   "outputs": [],
   "source": [
    "total = pd.concat(df)"
   ]
  },
  {
   "cell_type": "code",
   "execution_count": 25,
   "id": "2b497f33-4b36-4d73-96b6-367a4d8ef655",
   "metadata": {
    "tags": []
   },
   "outputs": [],
   "source": [
    "# len(total)"
   ]
  },
  {
   "cell_type": "code",
   "execution_count": 26,
   "id": "dc2a6095-f0ab-4c83-8cbd-9f3758ae95f8",
   "metadata": {
    "tags": []
   },
   "outputs": [],
   "source": [
    "total.to_csv('./df10-18.csv',index=False)"
   ]
  },
  {
   "cell_type": "markdown",
   "id": "2f603a28-1392-494b-8f49-15beb083e476",
   "metadata": {},
   "source": [
    "# 토크나이즈"
   ]
  },
  {
   "cell_type": "code",
   "execution_count": 27,
   "id": "0c3c13f5-6dda-4ff4-a24a-4cb21bb17c38",
   "metadata": {
    "tags": []
   },
   "outputs": [],
   "source": [
    "total = total.iloc[:,[5,11]]"
   ]
  },
  {
   "cell_type": "code",
   "execution_count": 28,
   "id": "4f8a9f23-0bd9-4b58-82af-e5f1cedf2149",
   "metadata": {
    "tags": []
   },
   "outputs": [
    {
     "data": {
      "text/html": [
       "<div>\n",
       "<style scoped>\n",
       "    .dataframe tbody tr th:only-of-type {\n",
       "        vertical-align: middle;\n",
       "    }\n",
       "\n",
       "    .dataframe tbody tr th {\n",
       "        vertical-align: top;\n",
       "    }\n",
       "\n",
       "    .dataframe thead th {\n",
       "        text-align: right;\n",
       "    }\n",
       "</style>\n",
       "<table border=\"1\" class=\"dataframe\">\n",
       "  <thead>\n",
       "    <tr style=\"text-align: right;\">\n",
       "      <th></th>\n",
       "      <th>title</th>\n",
       "      <th>polarity.label</th>\n",
       "    </tr>\n",
       "  </thead>\n",
       "  <tbody>\n",
       "    <tr>\n",
       "      <th>0</th>\n",
       "      <td>[ET투자뉴스]CMG제약_기관의 힘? 대량순매수 이후.. 현재 +3.05%</td>\n",
       "      <td>1.0</td>\n",
       "    </tr>\n",
       "    <tr>\n",
       "      <th>1</th>\n",
       "      <td>[한경로보뉴스] '와이지엔터테인먼트' 52주 신고가 경신</td>\n",
       "      <td>1.0</td>\n",
       "    </tr>\n",
       "  </tbody>\n",
       "</table>\n",
       "</div>"
      ],
      "text/plain": [
       "                                       title  polarity.label\n",
       "0  [ET투자뉴스]CMG제약_기관의 힘? 대량순매수 이후.. 현재 +3.05%             1.0\n",
       "1            [한경로보뉴스] '와이지엔터테인먼트' 52주 신고가 경신             1.0"
      ]
     },
     "execution_count": 28,
     "metadata": {},
     "output_type": "execute_result"
    }
   ],
   "source": [
    "total.head(2)"
   ]
  },
  {
   "cell_type": "code",
   "execution_count": 29,
   "id": "9f262f99-09fe-41f9-a547-cc7c6b8d3219",
   "metadata": {
    "tags": []
   },
   "outputs": [],
   "source": [
    "# total['polarity.label'] = total['polarity.label'].replace([0,1,-1],[0,1,2])"
   ]
  }
 ],
 "metadata": {
  "kernelspec": {
   "display_name": "Python 3 (ipykernel)",
   "language": "python",
   "name": "python3"
  },
  "language_info": {
   "codemirror_mode": {
    "name": "ipython",
    "version": 3
   },
   "file_extension": ".py",
   "mimetype": "text/x-python",
   "name": "python",
   "nbconvert_exporter": "python",
   "pygments_lexer": "ipython3",
   "version": "3.8.8"
  }
 },
 "nbformat": 4,
 "nbformat_minor": 5
}
