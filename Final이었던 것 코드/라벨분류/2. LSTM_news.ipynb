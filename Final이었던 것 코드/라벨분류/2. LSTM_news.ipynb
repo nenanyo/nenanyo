{
 "cells": [
  {
   "cell_type": "code",
   "execution_count": 58,
   "metadata": {
    "colab": {
     "base_uri": "https://localhost:8080/"
    },
    "id": "7nwf0SVMg2e4",
    "outputId": "03e95ee6-96e7-4fd9-c48a-71811b642816"
   },
   "outputs": [
    {
     "ename": "SyntaxError",
     "evalue": "invalid syntax (4152693378.py, line 1)",
     "output_type": "error",
     "traceback": [
      "\u001b[1;36m  Cell \u001b[1;32mIn[58], line 1\u001b[1;36m\u001b[0m\n\u001b[1;33m    `1# !pip install -v python-mecab-ko\u001b[0m\n\u001b[1;37m    ^\u001b[0m\n\u001b[1;31mSyntaxError\u001b[0m\u001b[1;31m:\u001b[0m invalid syntax\n"
     ]
    }
   ],
   "source": [
    "# !pip install -v python-mecab-ko"
   ]
  },
  {
   "cell_type": "code",
   "execution_count": 2,
   "metadata": {
    "id": "Qww_V4GzhgoS"
   },
   "outputs": [],
   "source": [
    "import pandas as pd\n",
    "import numpy as np\n",
    "import matplotlib.pyplot as plt\n",
    "from sklearn.model_selection import train_test_split\n",
    "import re\n",
    "import urllib.request\n",
    "import mecab\n",
    "from tqdm import tqdm\n",
    "from tensorflow.keras.preprocessing.text import Tokenizer\n",
    "from tensorflow.keras.preprocessing.sequence import pad_sequences\n",
    "import tensorflow as tf\n",
    "from tensorflow.keras.layers import Embedding, Dense, LSTM\n",
    "from tensorflow.keras.models import Sequential\n",
    "from tensorflow.keras.models import load_model\n",
    "from tensorflow.keras.utils import to_categorical\n",
    "from tensorflow.keras.callbacks import EarlyStopping, ModelCheckpoint.33 +-0-+\n"
   ]
  },
  {
   "cell_type": "code",
   "execution_count": 3,
   "metadata": {
    "colab": {
     "base_uri": "https://localhost:8080/"
    },
    "id": "8wC6Rnt6iCxB",
    "outputId": "f489900c-6d72-4183-83a7-328a837273c2"
   },
   "outputs": [
    {
     "data": {
      "text/plain": [
       "('finance_data.csv', <http.client.HTTPMessage at 0x14378a0ad90>)"
      ]
     },
     "execution_count": 3,
     "metadata": {},
     "output_type": "execute_result"
    }
   ],
   "source": [
    "urllib.request.urlretrieve(\"https://raw.githubusercontent.com/ukairia777/finance_sentiment_corpus/main/finance_data.csv\", filename=\"finance_data.csv\")"
   ]
  },
  {
   "cell_type": "markdown",
   "metadata": {},
   "source": [
    "# Data Load"
   ]
  },
  {
   "cell_type": "code",
   "execution_count": 4,
   "metadata": {
    "colab": {
     "base_uri": "https://localhost:8080/"
    },
    "id": "1aP870z3iRc_",
    "outputId": "aa6bad91-af8f-462d-c71c-cc3c68f960ae"
   },
   "outputs": [
    {
     "name": "stdout",
     "output_type": "stream",
     "text": [
      "총 샘플의 수 : 4846\n"
     ]
    }
   ],
   "source": [
    "data = pd.read_csv('finance_data.csv')\n",
    "print('총 샘플의 수 :',len(data))"
   ]
  },
  {
   "cell_type": "code",
   "execution_count": 5,
   "metadata": {
    "colab": {
     "base_uri": "https://localhost:8080/",
     "height": 424
    },
    "id": "9eEIdsG4iZYf",
    "outputId": "f1fb0112-1494-47e6-8e48-6b630db30748"
   },
   "outputs": [
    {
     "data": {
      "text/html": [
       "<div>\n",
       "<style scoped>\n",
       "    .dataframe tbody tr th:only-of-type {\n",
       "        vertical-align: middle;\n",
       "    }\n",
       "\n",
       "    .dataframe tbody tr th {\n",
       "        vertical-align: top;\n",
       "    }\n",
       "\n",
       "    .dataframe thead th {\n",
       "        text-align: right;\n",
       "    }\n",
       "</style>\n",
       "<table border=\"1\" class=\"dataframe\">\n",
       "  <thead>\n",
       "    <tr style=\"text-align: right;\">\n",
       "      <th></th>\n",
       "      <th>labels</th>\n",
       "      <th>sentence</th>\n",
       "      <th>kor_sentence</th>\n",
       "    </tr>\n",
       "  </thead>\n",
       "  <tbody>\n",
       "    <tr>\n",
       "      <th>0</th>\n",
       "      <td>neutral</td>\n",
       "      <td>According to Gran, the company has no plans to...</td>\n",
       "      <td>Gran에 따르면, 그 회사는 회사가 성장하고 있는 곳이지만, 모든 생산을 러시아로...</td>\n",
       "    </tr>\n",
       "    <tr>\n",
       "      <th>1</th>\n",
       "      <td>neutral</td>\n",
       "      <td>Technopolis plans to develop in stages an area...</td>\n",
       "      <td>테크노폴리스는 컴퓨터 기술과 통신 분야에서 일하는 회사들을 유치하기 위해 10만 평...</td>\n",
       "    </tr>\n",
       "    <tr>\n",
       "      <th>2</th>\n",
       "      <td>negative</td>\n",
       "      <td>The international electronic industry company ...</td>\n",
       "      <td>국제 전자산업 회사인 엘코텍은 탈린 공장에서 수십 명의 직원을 해고했으며, 이전의 ...</td>\n",
       "    </tr>\n",
       "    <tr>\n",
       "      <th>3</th>\n",
       "      <td>positive</td>\n",
       "      <td>With the new production plant the company woul...</td>\n",
       "      <td>새로운 생산공장으로 인해 회사는 예상되는 수요 증가를 충족시킬 수 있는 능력을 증가...</td>\n",
       "    </tr>\n",
       "    <tr>\n",
       "      <th>4</th>\n",
       "      <td>positive</td>\n",
       "      <td>According to the company's updated strategy fo...</td>\n",
       "      <td>2009-2012년 회사의 업데이트된 전략에 따르면, Basware는 20% - 4...</td>\n",
       "    </tr>\n",
       "    <tr>\n",
       "      <th>...</th>\n",
       "      <td>...</td>\n",
       "      <td>...</td>\n",
       "      <td>...</td>\n",
       "    </tr>\n",
       "    <tr>\n",
       "      <th>4841</th>\n",
       "      <td>negative</td>\n",
       "      <td>LONDON MarketWatch -- Share prices ended lower...</td>\n",
       "      <td>런던 마켓워치 -- 은행주의 반등이 FTSE 100지수의 약세를 상쇄하지 못하면서 ...</td>\n",
       "    </tr>\n",
       "    <tr>\n",
       "      <th>4842</th>\n",
       "      <td>neutral</td>\n",
       "      <td>Rinkuskiai's beer sales fell by 6.5 per cent t...</td>\n",
       "      <td>린쿠스키아의 맥주 판매량은 416만 리터로 6.5% 감소했으며 카우노 알루스의 맥주...</td>\n",
       "    </tr>\n",
       "    <tr>\n",
       "      <th>4843</th>\n",
       "      <td>negative</td>\n",
       "      <td>Operating profit fell to EUR 35.4 mn from EUR ...</td>\n",
       "      <td>영업이익은 2007년 68.8 mn에서 35.4 mn으로 떨어졌으며, 선박 판매 이...</td>\n",
       "    </tr>\n",
       "    <tr>\n",
       "      <th>4844</th>\n",
       "      <td>negative</td>\n",
       "      <td>Net sales of the Paper segment decreased to EU...</td>\n",
       "      <td>페이퍼 부문 순매출은 2008년 2분기 241.1 mn에서 2009년 2분기 221...</td>\n",
       "    </tr>\n",
       "    <tr>\n",
       "      <th>4845</th>\n",
       "      <td>negative</td>\n",
       "      <td>Sales in Finland decreased by 10.5 % in Januar...</td>\n",
       "      <td>핀란드에서의 판매는 1월에 10.5% 감소한 반면, 국외에서의 판매는 17% 감소했다.</td>\n",
       "    </tr>\n",
       "  </tbody>\n",
       "</table>\n",
       "<p>4846 rows × 3 columns</p>\n",
       "</div>"
      ],
      "text/plain": [
       "        labels                                           sentence  \\\n",
       "0      neutral  According to Gran, the company has no plans to...   \n",
       "1      neutral  Technopolis plans to develop in stages an area...   \n",
       "2     negative  The international electronic industry company ...   \n",
       "3     positive  With the new production plant the company woul...   \n",
       "4     positive  According to the company's updated strategy fo...   \n",
       "...        ...                                                ...   \n",
       "4841  negative  LONDON MarketWatch -- Share prices ended lower...   \n",
       "4842   neutral  Rinkuskiai's beer sales fell by 6.5 per cent t...   \n",
       "4843  negative  Operating profit fell to EUR 35.4 mn from EUR ...   \n",
       "4844  negative  Net sales of the Paper segment decreased to EU...   \n",
       "4845  negative  Sales in Finland decreased by 10.5 % in Januar...   \n",
       "\n",
       "                                           kor_sentence  \n",
       "0     Gran에 따르면, 그 회사는 회사가 성장하고 있는 곳이지만, 모든 생산을 러시아로...  \n",
       "1     테크노폴리스는 컴퓨터 기술과 통신 분야에서 일하는 회사들을 유치하기 위해 10만 평...  \n",
       "2     국제 전자산업 회사인 엘코텍은 탈린 공장에서 수십 명의 직원을 해고했으며, 이전의 ...  \n",
       "3     새로운 생산공장으로 인해 회사는 예상되는 수요 증가를 충족시킬 수 있는 능력을 증가...  \n",
       "4     2009-2012년 회사의 업데이트된 전략에 따르면, Basware는 20% - 4...  \n",
       "...                                                 ...  \n",
       "4841  런던 마켓워치 -- 은행주의 반등이 FTSE 100지수의 약세를 상쇄하지 못하면서 ...  \n",
       "4842  린쿠스키아의 맥주 판매량은 416만 리터로 6.5% 감소했으며 카우노 알루스의 맥주...  \n",
       "4843  영업이익은 2007년 68.8 mn에서 35.4 mn으로 떨어졌으며, 선박 판매 이...  \n",
       "4844  페이퍼 부문 순매출은 2008년 2분기 241.1 mn에서 2009년 2분기 221...  \n",
       "4845   핀란드에서의 판매는 1월에 10.5% 감소한 반면, 국외에서의 판매는 17% 감소했다.  \n",
       "\n",
       "[4846 rows x 3 columns]"
      ]
     },
     "execution_count": 5,
     "metadata": {},
     "output_type": "execute_result"
    }
   ],
   "source": [
    "data"
   ]
  },
  {
   "cell_type": "code",
   "execution_count": 6,
   "metadata": {
    "colab": {
     "base_uri": "https://localhost:8080/",
     "height": 206
    },
    "id": "t9XJj_iziaYh",
    "outputId": "aa2122a8-b989-421c-cf02-e6b1e5ae6359"
   },
   "outputs": [
    {
     "data": {
      "text/html": [
       "<div>\n",
       "<style scoped>\n",
       "    .dataframe tbody tr th:only-of-type {\n",
       "        vertical-align: middle;\n",
       "    }\n",
       "\n",
       "    .dataframe tbody tr th {\n",
       "        vertical-align: top;\n",
       "    }\n",
       "\n",
       "    .dataframe thead th {\n",
       "        text-align: right;\n",
       "    }\n",
       "</style>\n",
       "<table border=\"1\" class=\"dataframe\">\n",
       "  <thead>\n",
       "    <tr style=\"text-align: right;\">\n",
       "      <th></th>\n",
       "      <th>labels</th>\n",
       "      <th>sentence</th>\n",
       "      <th>kor_sentence</th>\n",
       "    </tr>\n",
       "  </thead>\n",
       "  <tbody>\n",
       "    <tr>\n",
       "      <th>0</th>\n",
       "      <td>0</td>\n",
       "      <td>According to Gran, the company has no plans to...</td>\n",
       "      <td>Gran에 따르면, 그 회사는 회사가 성장하고 있는 곳이지만, 모든 생산을 러시아로...</td>\n",
       "    </tr>\n",
       "    <tr>\n",
       "      <th>1</th>\n",
       "      <td>0</td>\n",
       "      <td>Technopolis plans to develop in stages an area...</td>\n",
       "      <td>테크노폴리스는 컴퓨터 기술과 통신 분야에서 일하는 회사들을 유치하기 위해 10만 평...</td>\n",
       "    </tr>\n",
       "    <tr>\n",
       "      <th>2</th>\n",
       "      <td>2</td>\n",
       "      <td>The international electronic industry company ...</td>\n",
       "      <td>국제 전자산업 회사인 엘코텍은 탈린 공장에서 수십 명의 직원을 해고했으며, 이전의 ...</td>\n",
       "    </tr>\n",
       "    <tr>\n",
       "      <th>3</th>\n",
       "      <td>1</td>\n",
       "      <td>With the new production plant the company woul...</td>\n",
       "      <td>새로운 생산공장으로 인해 회사는 예상되는 수요 증가를 충족시킬 수 있는 능력을 증가...</td>\n",
       "    </tr>\n",
       "    <tr>\n",
       "      <th>4</th>\n",
       "      <td>1</td>\n",
       "      <td>According to the company's updated strategy fo...</td>\n",
       "      <td>2009-2012년 회사의 업데이트된 전략에 따르면, Basware는 20% - 4...</td>\n",
       "    </tr>\n",
       "  </tbody>\n",
       "</table>\n",
       "</div>"
      ],
      "text/plain": [
       "   labels                                           sentence  \\\n",
       "0       0  According to Gran, the company has no plans to...   \n",
       "1       0  Technopolis plans to develop in stages an area...   \n",
       "2       2  The international electronic industry company ...   \n",
       "3       1  With the new production plant the company woul...   \n",
       "4       1  According to the company's updated strategy fo...   \n",
       "\n",
       "                                        kor_sentence  \n",
       "0  Gran에 따르면, 그 회사는 회사가 성장하고 있는 곳이지만, 모든 생산을 러시아로...  \n",
       "1  테크노폴리스는 컴퓨터 기술과 통신 분야에서 일하는 회사들을 유치하기 위해 10만 평...  \n",
       "2  국제 전자산업 회사인 엘코텍은 탈린 공장에서 수십 명의 직원을 해고했으며, 이전의 ...  \n",
       "3  새로운 생산공장으로 인해 회사는 예상되는 수요 증가를 충족시킬 수 있는 능력을 증가...  \n",
       "4  2009-2012년 회사의 업데이트된 전략에 따르면, Basware는 20% - 4...  "
      ]
     },
     "execution_count": 6,
     "metadata": {},
     "output_type": "execute_result"
    }
   ],
   "source": [
    "data['labels'] = data['labels'].replace(['neutral', 'positive', 'negative'],[0, 1, 2])\n",
    "data[:5]"
   ]
  },
  {
   "cell_type": "code",
   "execution_count": 7,
   "metadata": {
    "id": "RNyrW0ynix3O"
   },
   "outputs": [],
   "source": [
    "del data['sentence']"
   ]
  },
  {
   "cell_type": "code",
   "execution_count": 8,
   "metadata": {
    "colab": {
     "base_uri": "https://localhost:8080/",
     "height": 206
    },
    "id": "5Pz9t4U2i35Q",
    "outputId": "f7cb6aef-960e-4f92-bfd3-3194700552b1"
   },
   "outputs": [
    {
     "data": {
      "text/html": [
       "<div>\n",
       "<style scoped>\n",
       "    .dataframe tbody tr th:only-of-type {\n",
       "        vertical-align: middle;\n",
       "    }\n",
       "\n",
       "    .dataframe tbody tr th {\n",
       "        vertical-align: top;\n",
       "    }\n",
       "\n",
       "    .dataframe thead th {\n",
       "        text-align: right;\n",
       "    }\n",
       "</style>\n",
       "<table border=\"1\" class=\"dataframe\">\n",
       "  <thead>\n",
       "    <tr style=\"text-align: right;\">\n",
       "      <th></th>\n",
       "      <th>labels</th>\n",
       "      <th>kor_sentence</th>\n",
       "    </tr>\n",
       "  </thead>\n",
       "  <tbody>\n",
       "    <tr>\n",
       "      <th>0</th>\n",
       "      <td>0</td>\n",
       "      <td>Gran에 따르면, 그 회사는 회사가 성장하고 있는 곳이지만, 모든 생산을 러시아로...</td>\n",
       "    </tr>\n",
       "    <tr>\n",
       "      <th>1</th>\n",
       "      <td>0</td>\n",
       "      <td>테크노폴리스는 컴퓨터 기술과 통신 분야에서 일하는 회사들을 유치하기 위해 10만 평...</td>\n",
       "    </tr>\n",
       "    <tr>\n",
       "      <th>2</th>\n",
       "      <td>2</td>\n",
       "      <td>국제 전자산업 회사인 엘코텍은 탈린 공장에서 수십 명의 직원을 해고했으며, 이전의 ...</td>\n",
       "    </tr>\n",
       "    <tr>\n",
       "      <th>3</th>\n",
       "      <td>1</td>\n",
       "      <td>새로운 생산공장으로 인해 회사는 예상되는 수요 증가를 충족시킬 수 있는 능력을 증가...</td>\n",
       "    </tr>\n",
       "    <tr>\n",
       "      <th>4</th>\n",
       "      <td>1</td>\n",
       "      <td>2009-2012년 회사의 업데이트된 전략에 따르면, Basware는 20% - 4...</td>\n",
       "    </tr>\n",
       "  </tbody>\n",
       "</table>\n",
       "</div>"
      ],
      "text/plain": [
       "   labels                                       kor_sentence\n",
       "0       0  Gran에 따르면, 그 회사는 회사가 성장하고 있는 곳이지만, 모든 생산을 러시아로...\n",
       "1       0  테크노폴리스는 컴퓨터 기술과 통신 분야에서 일하는 회사들을 유치하기 위해 10만 평...\n",
       "2       2  국제 전자산업 회사인 엘코텍은 탈린 공장에서 수십 명의 직원을 해고했으며, 이전의 ...\n",
       "3       1  새로운 생산공장으로 인해 회사는 예상되는 수요 증가를 충족시킬 수 있는 능력을 증가...\n",
       "4       1  2009-2012년 회사의 업데이트된 전략에 따르면, Basware는 20% - 4..."
      ]
     },
     "execution_count": 8,
     "metadata": {},
     "output_type": "execute_result"
    }
   ],
   "source": [
    "data[:5]"
   ]
  },
  {
   "cell_type": "code",
   "execution_count": 9,
   "metadata": {
    "colab": {
     "base_uri": "https://localhost:8080/"
    },
    "id": "b7EW631ui4OA",
    "outputId": "5e791c74-9646-449b-c8ea-e9697617f660"
   },
   "outputs": [
    {
     "name": "stdout",
     "output_type": "stream",
     "text": [
      "<class 'pandas.core.frame.DataFrame'>\n",
      "RangeIndex: 4846 entries, 0 to 4845\n",
      "Data columns (total 2 columns):\n",
      " #   Column        Non-Null Count  Dtype \n",
      "---  ------        --------------  ----- \n",
      " 0   labels        4846 non-null   int64 \n",
      " 1   kor_sentence  4846 non-null   object\n",
      "dtypes: int64(1), object(1)\n",
      "memory usage: 75.8+ KB\n"
     ]
    }
   ],
   "source": [
    "data.info()"
   ]
  },
  {
   "cell_type": "code",
   "execution_count": 10,
   "metadata": {
    "colab": {
     "base_uri": "https://localhost:8080/"
    },
    "id": "JkvjJa1Ji7Eo",
    "outputId": "bbb47a2d-defa-444a-c139-61a10292a1b4"
   },
   "outputs": [
    {
     "name": "stdout",
     "output_type": "stream",
     "text": [
      "결측값 여부 : False\n"
     ]
    }
   ],
   "source": [
    "print('결측값 여부 :',data.isnull().values.any())"
   ]
  },
  {
   "cell_type": "code",
   "execution_count": 11,
   "metadata": {
    "colab": {
     "base_uri": "https://localhost:8080/"
    },
    "id": "UoAyW4Lii8xX",
    "outputId": "604c7fec-0d8a-4c8d-aafa-3574690035ea"
   },
   "outputs": [
    {
     "name": "stdout",
     "output_type": "stream",
     "text": [
      "kor_sentence 열의 유니크한 값 : 4827\n"
     ]
    }
   ],
   "source": [
    "print('kor_sentence 열의 유니크한 값 :',data['kor_sentence'].nunique())"
   ]
  },
  {
   "cell_type": "code",
   "execution_count": 12,
   "metadata": {
    "id": "cks_QRBfjKBU"
   },
   "outputs": [],
   "source": [
    "duplicate = data[data.duplicated()]"
   ]
  },
  {
   "cell_type": "code",
   "execution_count": 13,
   "metadata": {
    "colab": {
     "base_uri": "https://localhost:8080/",
     "height": 551
    },
    "id": "ZwkZ7T0BjL7d",
    "outputId": "c728056e-30dc-402e-ec7d-1fc9254c61ef"
   },
   "outputs": [
    {
     "data": {
      "text/html": [
       "<div>\n",
       "<style scoped>\n",
       "    .dataframe tbody tr th:only-of-type {\n",
       "        vertical-align: middle;\n",
       "    }\n",
       "\n",
       "    .dataframe tbody tr th {\n",
       "        vertical-align: top;\n",
       "    }\n",
       "\n",
       "    .dataframe thead th {\n",
       "        text-align: right;\n",
       "    }\n",
       "</style>\n",
       "<table border=\"1\" class=\"dataframe\">\n",
       "  <thead>\n",
       "    <tr style=\"text-align: right;\">\n",
       "      <th></th>\n",
       "      <th>labels</th>\n",
       "      <th>kor_sentence</th>\n",
       "    </tr>\n",
       "  </thead>\n",
       "  <tbody>\n",
       "    <tr>\n",
       "      <th>1099</th>\n",
       "      <td>0</td>\n",
       "      <td>이 발표 내용에 대한 책임은 전적으로 발행자에게 있습니다.</td>\n",
       "    </tr>\n",
       "    <tr>\n",
       "      <th>1394</th>\n",
       "      <td>0</td>\n",
       "      <td>핀란드 헬싱키에 본사를 둔 레민카이넨 그룹은 토목 공학, 건축 계약, 기술 건축 서...</td>\n",
       "    </tr>\n",
       "    <tr>\n",
       "      <th>1416</th>\n",
       "      <td>0</td>\n",
       "      <td>이 보고서는 블랙 앤 데커, 피스카스, 피스카스 브랜드, 후스크바르나 아웃도어 프로...</td>\n",
       "    </tr>\n",
       "    <tr>\n",
       "      <th>2396</th>\n",
       "      <td>0</td>\n",
       "      <td>알스트롬의 주가는 나스닥 OMX 헬싱키에서 인용되고 있다.</td>\n",
       "    </tr>\n",
       "    <tr>\n",
       "      <th>2567</th>\n",
       "      <td>0</td>\n",
       "      <td>SSH 통신 보안 코퍼레이션은 핀란드 헬싱키에 본사를 두고 있다.</td>\n",
       "    </tr>\n",
       "    <tr>\n",
       "      <th>2889</th>\n",
       "      <td>0</td>\n",
       "      <td>재정적인 세부사항은 공개되지 않았다.</td>\n",
       "    </tr>\n",
       "    <tr>\n",
       "      <th>2890</th>\n",
       "      <td>0</td>\n",
       "      <td>재정적인 세부사항은 공개되지 않았다.</td>\n",
       "    </tr>\n",
       "    <tr>\n",
       "      <th>2892</th>\n",
       "      <td>0</td>\n",
       "      <td>금융 조건은 공개되지 않았다.</td>\n",
       "    </tr>\n",
       "    <tr>\n",
       "      <th>3050</th>\n",
       "      <td>0</td>\n",
       "      <td>재정적인 세부사항은 제공되지 않았다.</td>\n",
       "    </tr>\n",
       "    <tr>\n",
       "      <th>3051</th>\n",
       "      <td>0</td>\n",
       "      <td>재정적인 세부사항은 공개되지 않았다.</td>\n",
       "    </tr>\n",
       "    <tr>\n",
       "      <th>3094</th>\n",
       "      <td>0</td>\n",
       "      <td>Proha Plc (Euronext :7327)는 오늘 (5월 19일) 완전 소유 ...</td>\n",
       "    </tr>\n",
       "    <tr>\n",
       "      <th>3206</th>\n",
       "      <td>0</td>\n",
       "      <td>공정 및 자원, 산업기계, 건축, 건축, 건설, 전기, 운송, 전자, 화학, 석유화...</td>\n",
       "    </tr>\n",
       "    <tr>\n",
       "      <th>3350</th>\n",
       "      <td>0</td>\n",
       "      <td>판매 가격은 공개되지 않았다.</td>\n",
       "    </tr>\n",
       "    <tr>\n",
       "      <th>3538</th>\n",
       "      <td>0</td>\n",
       "      <td>아스포의 그룹 구조와 비즈니스 운영은 미리 정의된 일정 없이 지속적으로 개발됩니다.</td>\n",
       "    </tr>\n",
       "    <tr>\n",
       "      <th>3617</th>\n",
       "      <td>0</td>\n",
       "      <td>2007년에 에트플랜은 125.2m의 회전율을 기록했다.</td>\n",
       "    </tr>\n",
       "    <tr>\n",
       "      <th>3938</th>\n",
       "      <td>0</td>\n",
       "      <td>그 거래의 가치는 공개되지 않았다.</td>\n",
       "    </tr>\n",
       "  </tbody>\n",
       "</table>\n",
       "</div>"
      ],
      "text/plain": [
       "      labels                                       kor_sentence\n",
       "1099       0                   이 발표 내용에 대한 책임은 전적으로 발행자에게 있습니다.\n",
       "1394       0  핀란드 헬싱키에 본사를 둔 레민카이넨 그룹은 토목 공학, 건축 계약, 기술 건축 서...\n",
       "1416       0  이 보고서는 블랙 앤 데커, 피스카스, 피스카스 브랜드, 후스크바르나 아웃도어 프로...\n",
       "2396       0                   알스트롬의 주가는 나스닥 OMX 헬싱키에서 인용되고 있다.\n",
       "2567       0               SSH 통신 보안 코퍼레이션은 핀란드 헬싱키에 본사를 두고 있다.\n",
       "2889       0                               재정적인 세부사항은 공개되지 않았다.\n",
       "2890       0                               재정적인 세부사항은 공개되지 않았다.\n",
       "2892       0                                   금융 조건은 공개되지 않았다.\n",
       "3050       0                               재정적인 세부사항은 제공되지 않았다.\n",
       "3051       0                               재정적인 세부사항은 공개되지 않았다.\n",
       "3094       0  Proha Plc (Euronext :7327)는 오늘 (5월 19일) 완전 소유 ...\n",
       "3206       0  공정 및 자원, 산업기계, 건축, 건축, 건설, 전기, 운송, 전자, 화학, 석유화...\n",
       "3350       0                                   판매 가격은 공개되지 않았다.\n",
       "3538       0     아스포의 그룹 구조와 비즈니스 운영은 미리 정의된 일정 없이 지속적으로 개발됩니다.\n",
       "3617       0                    2007년에 에트플랜은 125.2m의 회전율을 기록했다.\n",
       "3938       0                                그 거래의 가치는 공개되지 않았다."
      ]
     },
     "execution_count": 13,
     "metadata": {},
     "output_type": "execute_result"
    }
   ],
   "source": [
    "duplicate"
   ]
  },
  {
   "cell_type": "code",
   "execution_count": 14,
   "metadata": {
    "colab": {
     "base_uri": "https://localhost:8080/"
    },
    "id": "prnB1Yg5jBt2",
    "outputId": "f127f897-42ee-4ea3-9bad-b02db8a1620d"
   },
   "outputs": [
    {
     "name": "stdout",
     "output_type": "stream",
     "text": [
      "총 샘플의 수 : 4827\n"
     ]
    }
   ],
   "source": [
    "# 중복 제거\n",
    "data.drop_duplicates(subset=['kor_sentence'], inplace=True)\n",
    "print('총 샘플의 수 :',len(data))"
   ]
  },
  {
   "cell_type": "code",
   "execution_count": 15,
   "metadata": {
    "colab": {
     "base_uri": "https://localhost:8080/",
     "height": 284
    },
    "id": "StnulPDqjuKX",
    "outputId": "9ded507e-6694-4b03-cb79-d42bf3451910"
   },
   "outputs": [
    {
     "data": {
      "text/plain": [
       "<AxesSubplot: >"
      ]
     },
     "execution_count": 15,
     "metadata": {},
     "output_type": "execute_result"
    },
    {
     "data": {
      "image/png": "[encoded data removed]",
      "text/plain": [
       "<Figure size 640x480 with 1 Axes>"
      ]
     },
     "metadata": {},
     "output_type": "display_data"
    }
   ],
   "source": [
    "data['labels'].value_counts().plot(kind='bar')"
   ]
  },
  {
   "cell_type": "code",
   "execution_count": 16,
   "metadata": {
    "colab": {
     "base_uri": "https://localhost:8080/"
    },
    "id": "dP_BFHlojwiN",
    "outputId": "022aff01-579b-48b2-c662-10eee2c685e7"
   },
   "outputs": [
    {
     "name": "stdout",
     "output_type": "stream",
     "text": [
      "레이블의 분포\n",
      "   labels  count\n",
      "0       0   2861\n",
      "1       1   1362\n",
      "2       2    604\n"
     ]
    }
   ],
   "source": [
    "print('레이블의 분포')\n",
    "print(data.groupby('labels').size().reset_index(name='count'))"
   ]
  },
  {
   "cell_type": "code",
   "execution_count": 17,
   "metadata": {
    "colab": {
     "base_uri": "https://localhost:8080/"
    },
    "id": "CfQdxYqMj3o8",
    "outputId": "eb91f345-466a-4e67-912f-2ada47d9f12a"
   },
   "outputs": [
    {
     "name": "stdout",
     "output_type": "stream",
     "text": [
      "중립의 비율 = 59.271%\n",
      "긍정의 비율 = 28.216%\n",
      "부정의 비율 = 12.513%\n"
     ]
    }
   ],
   "source": [
    "print(f'중립의 비율 = {round(data[\"labels\"].value_counts()[0]/len(data) * 100,3)}%')\n",
    "print(f'긍정의 비율 = {round(data[\"labels\"].value_counts()[1]/len(data) * 100,3)}%')\n",
    "print(f'부정의 비율 = {round(data[\"labels\"].value_counts()[2]/len(data) * 100,3)}%')"
   ]
  },
  {
   "cell_type": "code",
   "execution_count": 18,
   "metadata": {
    "id": "Qgna8GZ_k0AW"
   },
   "outputs": [],
   "source": [
    "mecab = mecab.MeCab()"
   ]
  },
  {
   "cell_type": "code",
   "execution_count": 19,
   "metadata": {
    "id": "9dKO6hYzkwbF"
   },
   "outputs": [],
   "source": [
    "data['tokenized'] = data['kor_sentence'].apply(mecab.morphs)"
   ]
  },
  {
   "cell_type": "code",
   "execution_count": 20,
   "metadata": {
    "colab": {
     "base_uri": "https://localhost:8080/",
     "height": 424
    },
    "id": "jKKmVrDRk46e",
    "outputId": "82c3154f-405f-4c9c-e2b6-6acd827972c2"
   },
   "outputs": [
    {
     "data": {
      "text/html": [
       "<div>\n",
       "<style scoped>\n",
       "    .dataframe tbody tr th:only-of-type {\n",
       "        vertical-align: middle;\n",
       "    }\n",
       "\n",
       "    .dataframe tbody tr th {\n",
       "        vertical-align: top;\n",
       "    }\n",
       "\n",
       "    .dataframe thead th {\n",
       "        text-align: right;\n",
       "    }\n",
       "</style>\n",
       "<table border=\"1\" class=\"dataframe\">\n",
       "  <thead>\n",
       "    <tr style=\"text-align: right;\">\n",
       "      <th></th>\n",
       "      <th>labels</th>\n",
       "      <th>kor_sentence</th>\n",
       "      <th>tokenized</th>\n",
       "    </tr>\n",
       "  </thead>\n",
       "  <tbody>\n",
       "    <tr>\n",
       "      <th>0</th>\n",
       "      <td>0</td>\n",
       "      <td>Gran에 따르면, 그 회사는 회사가 성장하고 있는 곳이지만, 모든 생산을 러시아로...</td>\n",
       "      <td>[Gran, 에, 따르, 면, ,, 그, 회사, 는, 회사, 가, 성장, 하, 고,...</td>\n",
       "    </tr>\n",
       "  </tbody>\n",
       "</table>\n",
       "</div>"
      ],
      "text/plain": [
       "   labels                                       kor_sentence  \\\n",
       "0       0  Gran에 따르면, 그 회사는 회사가 성장하고 있는 곳이지만, 모든 생산을 러시아로...   \n",
       "\n",
       "                                           tokenized  \n",
       "0  [Gran, 에, 따르, 면, ,, 그, 회사, 는, 회사, 가, 성장, 하, 고,...  "
      ]
     },
     "execution_count": 20,
     "metadata": {},
     "output_type": "execute_result"
    }
   ],
   "source": [
    "data.head(1)"
   ]
  },
  {
   "cell_type": "markdown",
   "metadata": {
    "tags": []
   },
   "source": [
    "# 훈련-테스트"
   ]
  },
  {
   "cell_type": "code",
   "execution_count": 21,
   "metadata": {
    "colab": {
     "base_uri": "https://localhost:8080/"
    },
    "id": "l8foVC2rkJtF",
    "outputId": "cb15df09-e7eb-43b0-da0a-1b50c36eb31e"
   },
   "outputs": [
    {
     "name": "stdout",
     "output_type": "stream",
     "text": [
      "본문의 개수: 4827\n",
      "레이블의 개수: 4827\n"
     ]
    }
   ],
   "source": [
    "X_data = data['tokenized']\n",
    "y_data = data['labels']\n",
    "print('본문의 개수: {}'.format(len(X_data)))\n",
    "print('레이블의 개수: {}'.format(len(y_data)))"
   ]
  },
  {
   "cell_type": "code",
   "execution_count": 22,
   "metadata": {
    "id": "qmFecWmSkHiu"
   },
   "outputs": [],
   "source": [
    "X_train, X_test, y_train, y_test = train_test_split(X_data, y_data, test_size=0.2, random_state=0, stratify=y_data)"
   ]
  },
  {
   "cell_type": "code",
   "execution_count": 23,
   "metadata": {
    "colab": {
     "base_uri": "https://localhost:8080/"
    },
    "id": "HiPJQoBql2T_",
    "outputId": "d7ca3611-215b-4196-f036-c8874207c8b6"
   },
   "outputs": [
    {
     "name": "stdout",
     "output_type": "stream",
     "text": [
      "훈련 샘플의 개수 : 3861\n",
      "테스트 샘플의 개수 : 966\n"
     ]
    }
   ],
   "source": [
    "print('훈련 샘플의 개수 :', len(X_train))\n",
    "print('테스트 샘플의 개수 :', len(X_test))"
   ]
  },
  {
   "cell_type": "code",
   "execution_count": 24,
   "metadata": {
    "colab": {
     "base_uri": "https://localhost:8080/"
    },
    "id": "m-gTg1Z2kYK2",
    "outputId": "d0ee9cd3-32b1-48f4-8c9f-ed2e2f14fc5f"
   },
   "outputs": [
    {
     "name": "stdout",
     "output_type": "stream",
     "text": [
      "--------훈련 데이터의 비율-----------\n",
      "중립 = 59.285%\n",
      "긍정 = 28.205%\n",
      "부정 = 12.51%\n"
     ]
    }
   ],
   "source": [
    "print('--------훈련 데이터의 비율-----------')\n",
    "print(f'중립 = {round(y_train.value_counts()[0]/len(y_train) * 100,3)}%')\n",
    "print(f'긍정 = {round(y_train.value_counts()[1]/len(y_train) * 100,3)}%')\n",
    "print(f'부정 = {round(y_train.value_counts()[2]/len(y_train) * 100,3)}%')"
   ]
  },
  {
   "cell_type": "code",
   "execution_count": 25,
   "metadata": {
    "colab": {
     "base_uri": "https://localhost:8080/"
    },
    "id": "6E_XYZIVkcP3",
    "outputId": "da808f32-9b5e-40fa-fd50-54bd94b52d9b"
   },
   "outputs": [
    {
     "name": "stdout",
     "output_type": "stream",
     "text": [
      "--------테스트 데이터의 비율-----------\n",
      "중립 = 59.213%\n",
      "긍정 = 28.261%\n",
      "부정 = 12.526%\n"
     ]
    }
   ],
   "source": [
    "print('--------테스트 데이터의 비율-----------')\n",
    "print(f'중립 = {round(y_test.value_counts()[0]/len(y_test) * 100,3)}%')\n",
    "print(f'긍정 = {round(y_test.value_counts()[1]/len(y_test) * 100,3)}%')\n",
    "print(f'부정 = {round(y_test.value_counts()[2]/len(y_test) * 100,3)}%')"
   ]
  },
  {
   "cell_type": "markdown",
   "metadata": {},
   "source": [
    "# tokenize"
   ]
  },
  {
   "cell_type": "code",
   "execution_count": 26,
   "metadata": {
    "colab": {
     "base_uri": "https://localhost:8080/"
    },
    "id": "5qCRNyvpkjEY",
    "outputId": "79b5f0b6-1598-48ea-b7d5-aeb16074ff08"
   },
   "outputs": [
    {
     "name": "stdout",
     "output_type": "stream",
     "text": [
      "[[390, 199, 4, 299, 170, 128, 2, 150, 15, 299, 170, 2075, 331, 10, 4, 1156, 5, 567, 29, 20, 22, 151, 10, 16, 14, 3, 1], [1157, 1158, 4, 92, 5, 43, 36, 50, 13, 47, 208, 16, 13, 3, 1], [5, 95, 2, 55, 7, 19, 1, 38, 44, 15, 48, 1, 52, 44, 22, 50, 13, 3, 1], [515, 4, 2076, 4504, 6, 84, 283, 157, 8, 609, 638, 160, 2, 2480, 474, 1066, 157, 6, 2077, 29, 20, 8, 284, 13, 3, 1], [165, 339, 7, 1426, 265, 76, 15, 1426, 332, 76, 699, 18, 475, 212, 1]]\n",
      "[[868, 792, 7, 113, 140, 6, 88, 332, 27, 17, 12, 114, 77, 1], [97, 1917, 211, 184, 2, 4295, 2503, 23, 401, 24, 770, 6, 174, 364, 34, 16, 190, 61, 20, 5, 69, 28, 330, 7, 51, 13, 3, 1], [672, 160, 376, 882, 30, 238, 31, 4, 156, 2, 3463, 1088, 5, 21, 5286, 159, 2, 964, 12, 2873, 10, 4, 20, 5, 69, 1143, 13, 3, 1], [412, 38, 65, 150, 7, 58, 11, 231, 95, 2, 19, 1, 48, 206, 17, 15, 19, 1, 43, 206, 17, 18, 452, 3, 1], [71, 11, 43, 26, 511, 40, 653, 19, 205, 98, 571, 105, 1, 5241, 2, 1196, 328, 3118, 19, 37, 71, 6, 84, 271, 2474, 7, 71, 11, 19, 26, 123, 38, 26, 90, 2, 1196, 328, 12, 71, 11, 48, 26, 48, 40, 1202, 6, 349, 29, 82, 80, 1]]\n"
     ]
    }
   ],
   "source": [
    "tokenizer = Tokenizer()\n",
    "tokenizer.fit_on_texts(X_train)\n",
    "X_train_encoded = tokenizer.texts_to_sequences(X_train)\n",
    "X_test_encoded = tokenizer.texts_to_sequences(X_test)\n",
    "print(X_train_encoded[:5])\n",
    "print(X_test_encoded[:5])"
   ]
  },
  {
   "cell_type": "code",
   "execution_count": 27,
   "metadata": {
    "colab": {
     "base_uri": "https://localhost:8080/"
    },
    "id": "KAXqMlPtkm9d",
    "outputId": "a3ceac7d-6e64-491b-ae48-5111f9bd1ab4"
   },
   "outputs": [
    {
     "name": "stdout",
     "output_type": "stream",
     "text": [
      "8942\n"
     ]
    }
   ],
   "source": [
    "word_to_index = tokenizer.word_index\n",
    "vocab_size = len(word_to_index) + 1\n",
    "print(vocab_size)"
   ]
  },
  {
   "cell_type": "markdown",
   "metadata": {},
   "source": [
    "# 패딩"
   ]
  },
  {
   "cell_type": "code",
   "execution_count": 28,
   "metadata": {
    "tags": []
   },
   "outputs": [
    {
     "data": {
      "text/plain": [
       "2049    [보험, 사, 는, 노르, 데, 아, 의, 순이익, 에서, 노르, 데, 아가, 차지...\n",
       "129     [백화점, 부서, 는, 매출, 이, 4, %, 증가, 했, 다고, 보, 고, 했, ...\n",
       "Name: tokenized, dtype: object"
      ]
     },
     "execution_count": 28,
     "metadata": {},
     "output_type": "execute_result"
    }
   ],
   "source": [
    "X_train[:2]"
   ]
  },
  {
   "cell_type": "code",
   "execution_count": 29,
   "metadata": {
    "colab": {
     "base_uri": "https://localhost:8080/",
     "height": 315
    },
    "id": "CVaCLg2glTIo",
    "outputId": "2ee453f6-3488-45ca-dabd-250e064230d3"
   },
   "outputs": [
    {
     "name": "stdout",
     "output_type": "stream",
     "text": [
      "본문의 최대 길이 : 76\n",
      "본문의 평균 길이 : 28.235431235431236\n"
     ]
    },
    {
     "data": {
      "image/png": "[encoded data removed]",
      "text/plain": [
       "<Figure size 640x480 with 1 Axes>"
      ]
     },
     "metadata": {},
     "output_type": "display_data"
    }
   ],
   "source": [
    "print(  '본문의 최대 길이 :',   max(   len(sent) for sent in X_train   )   )\n",
    "# X_train 요소 하나하나 길이 재서 최대길이추출\n",
    "print(   '본문의 평균 길이 :',  sum(    map(len, X_train)  )   /  len(X_train)     )\n",
    "# X_train 요소 길이 재서 sum하구 X_train 개수로 나눈다\n",
    "plt.hist([len(sent) for sent in X_train], bins=50)\n",
    "plt.xlabel('length of samples')\n",
    "plt.ylabel('number of samples')\n",
    "plt.show()"
   ]
  },
  {
   "cell_type": "code",
   "execution_count": 30,
   "metadata": {
    "id": "vZvzv8jClpTF"
   },
   "outputs": [],
   "source": [
    "max_len = 76"
   ]
  },
  {
   "cell_type": "code",
   "execution_count": 31,
   "metadata": {
    "id": "DO-ypzo6lmuu"
   },
   "outputs": [],
   "source": [
    "X_train_encoded = pad_sequences(X_train_encoded, maxlen=max_len)\n",
    "X_test_encoded = pad_sequences(X_test_encoded, maxlen=max_len)"
   ]
  },
  {
   "cell_type": "code",
   "execution_count": 32,
   "metadata": {
    "colab": {
     "base_uri": "https://localhost:8080/"
    },
    "id": "_3LInCb9lqUZ",
    "outputId": "64822180-1fb5-44b5-ba3f-317c8bdfb2ca"
   },
   "outputs": [
    {
     "data": {
      "text/plain": [
       "(3861, 76)"
      ]
     },
     "execution_count": 32,
     "metadata": {},
     "output_type": "execute_result"
    }
   ],
   "source": [
    "X_train_encoded.shape"
   ]
  },
  {
   "cell_type": "code",
   "execution_count": 33,
   "metadata": {
    "colab": {
     "base_uri": "https://localhost:8080/"
    },
    "id": "BRNfINkFlxHI",
    "outputId": "48643685-2064-4ff0-d8eb-7c406fc2245a"
   },
   "outputs": [
    {
     "data": {
      "text/plain": [
       "(966, 76)"
      ]
     },
     "execution_count": 33,
     "metadata": {},
     "output_type": "execute_result"
    }
   ],
   "source": [
    "X_test_encoded.shape"
   ]
  },
  {
   "cell_type": "code",
   "execution_count": null,
   "metadata": {
    "id": "wR9qe8oUlyKo"
   },
   "outputs": [],
   "source": []
  },
  {
   "cell_type": "code",
   "execution_count": 34,
   "metadata": {
    "tags": []
   },
   "outputs": [
    {
     "data": {
      "text/plain": [
       "2347    [합작, 법인, 은, 곧바로, 생산, 기술, 에, 약, 50, 만, 유로, 를, 투...\n",
       "Name: tokenized, dtype: object"
      ]
     },
     "execution_count": 34,
     "metadata": {},
     "output_type": "execute_result"
    }
   ],
   "source": [
    "X_test[:1]"
   ]
  },
  {
   "cell_type": "code",
   "execution_count": 35,
   "metadata": {
    "tags": []
   },
   "outputs": [
    {
     "data": {
      "text/plain": [
       "array([[   0,    0,    0,    0,    0,    0,    0,    0,    0,    0,    0,\n",
       "           0,    0,    0,    0,    0,    0,    0,    0,    0,    0,    0,\n",
       "           0,    0,    0,    0,    0,    0,    0,    0,    0,    0,    0,\n",
       "           0,    0,    0,    0,    0,    0,    0,    0,    0,    0,    0,\n",
       "           0,    0,    0,    0,    0,  390,  199,    4,  299,  170,  128,\n",
       "           2,  150,   15,  299,  170, 2075,  331,   10,    4, 1156,    5,\n",
       "         567,   29,   20,   22,  151,   10,   16,   14,    3,    1]])"
      ]
     },
     "execution_count": 35,
     "metadata": {},
     "output_type": "execute_result"
    }
   ],
   "source": [
    "X_train_encoded[:1]"
   ]
  },
  {
   "cell_type": "code",
   "execution_count": 36,
   "metadata": {
    "tags": []
   },
   "outputs": [
    {
     "data": {
      "text/plain": [
       "1"
      ]
     },
     "execution_count": 36,
     "metadata": {},
     "output_type": "execute_result"
    }
   ],
   "source": [
    "y_test[8]"
   ]
  },
  {
   "cell_type": "code",
   "execution_count": 37,
   "metadata": {
    "id": "OG8mNRPqmRb1"
   },
   "outputs": [],
   "source": [
    "y_train = to_categorical(y_train)\n",
    "y_test = to_categorical(y_test)"
   ]
  },
  {
   "cell_type": "markdown",
   "metadata": {},
   "source": [
    "# 모델"
   ]
  },
  {
   "cell_type": "code",
   "execution_count": 38,
   "metadata": {
    "colab": {
     "base_uri": "https://localhost:8080/"
    },
    "id": "qcgxpi4zmWHd",
    "outputId": "ab93b729-da07-44c0-f1ec-8c39cbf8c7ec"
   },
   "outputs": [
    {
     "name": "stdout",
     "output_type": "stream",
     "text": [
      "Epoch 1/15\n",
      "97/97 [==============================] - ETA: 0s - loss: 0.8867 - acc: 0.6101\n",
      "Epoch 1: val_acc improved from -inf to 0.70763, saving model to best_model.h5\n",
      "97/97 [==============================] - 5s 32ms/step - loss: 0.8867 - acc: 0.6101 - val_loss: 0.7119 - val_acc: 0.7076\n",
      "Epoch 2/15\n",
      "97/97 [==============================] - ETA: 0s - loss: 0.6080 - acc: 0.7341\n",
      "Epoch 2: val_acc improved from 0.70763 to 0.72704, saving model to best_model.h5\n",
      "97/97 [==============================] - 3s 27ms/step - loss: 0.6080 - acc: 0.7341 - val_loss: 0.6754 - val_acc: 0.7270\n",
      "Epoch 3/15\n",
      "96/97 [============================>.] - ETA: 0s - loss: 0.3381 - acc: 0.8760\n",
      "Epoch 3: val_acc did not improve from 0.72704\n",
      "97/97 [==============================] - 3s 28ms/step - loss: 0.3382 - acc: 0.8756 - val_loss: 0.7772 - val_acc: 0.7141\n",
      "Epoch 4/15\n",
      "95/97 [============================>.] - ETA: 0s - loss: 0.1685 - acc: 0.9457\n",
      "Epoch 4: val_acc did not improve from 0.72704\n",
      "97/97 [==============================] - 3s 30ms/step - loss: 0.1679 - acc: 0.9462 - val_loss: 0.9740 - val_acc: 0.7038\n",
      "Epoch 5/15\n",
      "96/97 [============================>.] - ETA: 0s - loss: 0.0782 - acc: 0.9779\n",
      "Epoch 5: val_acc improved from 0.72704 to 0.72962, saving model to best_model.h5\n",
      "97/97 [==============================] - 3s 31ms/step - loss: 0.0779 - acc: 0.9780 - val_loss: 1.0171 - val_acc: 0.7296\n",
      "Epoch 6/15\n",
      "97/97 [==============================] - ETA: 0s - loss: 0.0483 - acc: 0.9858\n",
      "Epoch 6: val_acc did not improve from 0.72962\n",
      "97/97 [==============================] - 3s 30ms/step - loss: 0.0483 - acc: 0.9858 - val_loss: 1.1486 - val_acc: 0.7038\n",
      "Epoch 6: early stopping\n"
     ]
    }
   ],
   "source": [
    "embedding_dim = 64\n",
    "hidden_units = 64\n",
    "num_classes = 3\n",
    "\n",
    "model = Sequential()\n",
    "model.add(Embedding(vocab_size, embedding_dim))\n",
    "model.add(LSTM(hidden_units))\n",
    "model.add(Dense(num_classes, activation='softmax'))\n",
    "\n",
    "es = EarlyStopping(monitor='val_loss', mode='min', verbose=1, patience=4)\n",
    "mc = ModelCheckpoint('best_model.h5', monitor='val_acc', mode='max', verbose=1, save_best_only=True)\n",
    "\n",
    "model.compile(loss='categorical_crossentropy', optimizer='adam', metrics=['acc'])\n",
    "history = model.fit(X_train_encoded, y_train, epochs=15, callbacks=[es, mc], batch_size=32, validation_split=0.2)"
   ]
  },
  {
   "cell_type": "code",
   "execution_count": 39,
   "metadata": {
    "colab": {
     "base_uri": "https://localhost:8080/"
    },
    "id": "qtj0EMOEmeEX",
    "outputId": "e64117af-a089-4155-ba53-e2481a094cd2",
    "tags": []
   },
   "outputs": [
    {
     "name": "stdout",
     "output_type": "stream",
     "text": [
      "31/31 [==============================] - 1s 9ms/step - loss: 0.9107 - acc: 0.7712\n",
      "\n",
      " 테스트 정확도: 0.7712\n"
     ]
    }
   ],
   "source": [
    "loaded_model = load_model('best_model.h5')\n",
    "print(\"\\n 테스트 정확도: %.4f\" % (loaded_model.evaluate(X_test_encoded, y_test)[1]))"
   ]
  },
  {
   "cell_type": "code",
   "execution_count": 40,
   "metadata": {
    "tags": []
   },
   "outputs": [
    {
     "data": {
      "text/plain": [
       "<keras.engine.sequential.Sequential at 0x1431b83f100>"
      ]
     },
     "execution_count": 40,
     "metadata": {},
     "output_type": "execute_result"
    }
   ],
   "source": [
    "loaded_model"
   ]
  },
  {
   "cell_type": "code",
   "execution_count": 41,
   "metadata": {},
   "outputs": [],
   "source": [
    "from tensorflow.keras.models import load_model"
   ]
  },
  {
   "cell_type": "code",
   "execution_count": 42,
   "metadata": {
    "tags": []
   },
   "outputs": [],
   "source": [
    "model=tf.keras.models.load_model(\n",
    "    './NLP/best_model.h5')"
   ]
  },
  {
   "cell_type": "code",
   "execution_count": 43,
   "metadata": {
    "tags": []
   },
   "outputs": [
    {
     "data": {
      "text/plain": [
       "<keras.engine.sequential.Sequential at 0x1431c1293a0>"
      ]
     },
     "execution_count": 43,
     "metadata": {},
     "output_type": "execute_result"
    }
   ],
   "source": [
    "model"
   ]
  },
  {
   "cell_type": "markdown",
   "metadata": {},
   "source": [
    "# ============================================================================="
   ]
  },
  {
   "cell_type": "markdown",
   "metadata": {
    "tags": []
   },
   "source": [
    "# 데이터 로드"
   ]
  },
  {
   "cell_type": "code",
   "execution_count": 45,
   "metadata": {
    "tags": []
   },
   "outputs": [
    {
     "data": {
      "text/html": [
       "<div>\n",
       "<style scoped>\n",
       "    .dataframe tbody tr th:only-of-type {\n",
       "        vertical-align: middle;\n",
       "    }\n",
       "\n",
       "    .dataframe tbody tr th {\n",
       "        vertical-align: top;\n",
       "    }\n",
       "\n",
       "    .dataframe thead th {\n",
       "        text-align: right;\n",
       "    }\n",
       "</style>\n",
       "<table border=\"1\" class=\"dataframe\">\n",
       "  <thead>\n",
       "    <tr style=\"text-align: right;\">\n",
       "      <th></th>\n",
       "      <th>date</th>\n",
       "      <th>category</th>\n",
       "      <th>section</th>\n",
       "      <th>publisher</th>\n",
       "      <th>author</th>\n",
       "      <th>title</th>\n",
       "      <th>content_url</th>\n",
       "      <th>attachment</th>\n",
       "      <th>industry.label</th>\n",
       "      <th>industry.score</th>\n",
       "      <th>industry.name</th>\n",
       "      <th>polarity.label</th>\n",
       "      <th>polarity.score</th>\n",
       "      <th>polarity.name</th>\n",
       "    </tr>\n",
       "  </thead>\n",
       "  <tbody>\n",
       "    <tr>\n",
       "      <th>0</th>\n",
       "      <td>2023-05-22</td>\n",
       "      <td>news</td>\n",
       "      <td>economy</td>\n",
       "      <td>조선비즈</td>\n",
       "      <td>NaN</td>\n",
       "      <td>차병원·바이오그룹, R&amp;D·영업마케팅 경력 공개 채용</td>\n",
       "      <td>NaN</td>\n",
       "      <td>NaN</td>\n",
       "      <td>C21</td>\n",
       "      <td>0.969</td>\n",
       "      <td>의료용 물질 및 의약품 제조업</td>\n",
       "      <td>NaN</td>\n",
       "      <td>NaN</td>\n",
       "      <td>NaN</td>\n",
       "    </tr>\n",
       "  </tbody>\n",
       "</table>\n",
       "</div>"
      ],
      "text/plain": [
       "         date category  section publisher author  \\\n",
       "0  2023-05-22     news  economy      조선비즈    NaN   \n",
       "\n",
       "                           title  content_url  attachment industry.label  \\\n",
       "0  차병원·바이오그룹, R&D·영업마케팅 경력 공개 채용          NaN         NaN            C21   \n",
       "\n",
       "   industry.score     industry.name  polarity.label  polarity.score  \\\n",
       "0           0.969  의료용 물질 및 의약품 제조업             NaN             NaN   \n",
       "\n",
       "  polarity.name  \n",
       "0           NaN  "
      ]
     },
     "execution_count": 45,
     "metadata": {},
     "output_type": "execute_result"
    }
   ],
   "source": [
    "df = pd.read_excel('../데이터/기업별 뉴스/CMG제약.xlsx',   sheet_name='#02 Documents')\n",
    "df.head(1)"
   ]
  },
  {
   "cell_type": "code",
   "execution_count": 46,
   "metadata": {
    "tags": []
   },
   "outputs": [
    {
     "data": {
      "text/html": [
       "<div>\n",
       "<style scoped>\n",
       "    .dataframe tbody tr th:only-of-type {\n",
       "        vertical-align: middle;\n",
       "    }\n",
       "\n",
       "    .dataframe tbody tr th {\n",
       "        vertical-align: top;\n",
       "    }\n",
       "\n",
       "    .dataframe thead th {\n",
       "        text-align: right;\n",
       "    }\n",
       "</style>\n",
       "<table border=\"1\" class=\"dataframe\">\n",
       "  <thead>\n",
       "    <tr style=\"text-align: right;\">\n",
       "      <th></th>\n",
       "      <th>date</th>\n",
       "      <th>title</th>\n",
       "      <th>polarity.label</th>\n",
       "    </tr>\n",
       "  </thead>\n",
       "  <tbody>\n",
       "    <tr>\n",
       "      <th>0</th>\n",
       "      <td>2023-05-22</td>\n",
       "      <td>차병원·바이오그룹, R&amp;D·영업마케팅 경력 공개 채용</td>\n",
       "      <td>NaN</td>\n",
       "    </tr>\n",
       "  </tbody>\n",
       "</table>\n",
       "</div>"
      ],
      "text/plain": [
       "         date                          title  polarity.label\n",
       "0  2023-05-22  차병원·바이오그룹, R&D·영업마케팅 경력 공개 채용             NaN"
      ]
     },
     "execution_count": 46,
     "metadata": {},
     "output_type": "execute_result"
    }
   ],
   "source": [
    "df = df[['date','title','polarity.label']]\n",
    "df.head(1)\n"
   ]
  },
  {
   "cell_type": "markdown",
   "metadata": {
    "tags": []
   },
   "source": [
    "# 데이터 라벨 값 변환"
   ]
  },
  {
   "cell_type": "code",
   "execution_count": 47,
   "metadata": {
    "tags": []
   },
   "outputs": [],
   "source": [
    "df['polarity.label'] = df['polarity.label'].replace(-1,2)"
   ]
  },
  {
   "cell_type": "code",
   "execution_count": 48,
   "metadata": {
    "tags": []
   },
   "outputs": [
    {
     "data": {
      "text/plain": [
       "array([nan,  1.,  0.,  2.])"
      ]
     },
     "execution_count": 48,
     "metadata": {},
     "output_type": "execute_result"
    }
   ],
   "source": [
    "df['polarity.label'].unique()"
   ]
  },
  {
   "cell_type": "markdown",
   "metadata": {
    "tags": []
   },
   "source": [
    "# 중복값 확인"
   ]
  },
  {
   "cell_type": "code",
   "execution_count": 49,
   "metadata": {
    "tags": []
   },
   "outputs": [
    {
     "data": {
      "text/html": [
       "<div>\n",
       "<style scoped>\n",
       "    .dataframe tbody tr th:only-of-type {\n",
       "        vertical-align: middle;\n",
       "    }\n",
       "\n",
       "    .dataframe tbody tr th {\n",
       "        vertical-align: top;\n",
       "    }\n",
       "\n",
       "    .dataframe thead th {\n",
       "        text-align: right;\n",
       "    }\n",
       "</style>\n",
       "<table border=\"1\" class=\"dataframe\">\n",
       "  <thead>\n",
       "    <tr style=\"text-align: right;\">\n",
       "      <th></th>\n",
       "      <th>date</th>\n",
       "      <th>title</th>\n",
       "      <th>polarity.label</th>\n",
       "    </tr>\n",
       "  </thead>\n",
       "  <tbody>\n",
       "  </tbody>\n",
       "</table>\n",
       "</div>"
      ],
      "text/plain": [
       "Empty DataFrame\n",
       "Columns: [date, title, polarity.label]\n",
       "Index: []"
      ]
     },
     "execution_count": 49,
     "metadata": {},
     "output_type": "execute_result"
    }
   ],
   "source": [
    "duplicate = df[df.duplicated()]\n",
    "duplicate"
   ]
  },
  {
   "cell_type": "code",
   "execution_count": 8,
   "metadata": {
    "tags": []
   },
   "outputs": [],
   "source": [
    "# polarity.label  = [긍정,중립,부정]\n",
    "# polarity.name   = [1,0,2]"
   ]
  },
  {
   "cell_type": "code",
   "execution_count": 50,
   "metadata": {
    "tags": []
   },
   "outputs": [
    {
     "data": {
      "text/plain": [
       "<AxesSubplot: >"
      ]
     },
     "execution_count": 50,
     "metadata": {},
     "output_type": "execute_result"
    },
    {
     "data": {
      "image/png": "[encoded data removed]",
      "text/plain": [
       "<Figure size 640x480 with 1 Axes>"
      ]
     },
     "metadata": {},
     "output_type": "display_data"
    }
   ],
   "source": [
    "df['polarity.label'].value_counts().plot(kind='bar')"
   ]
  },
  {
   "cell_type": "code",
   "execution_count": 52,
   "metadata": {
    "id": "9dKO6hYzkwbF"
   },
   "outputs": [],
   "source": [
    "df['tokenized'] = df['title'].apply(mecab.morphs)"
   ]
  },
  {
   "cell_type": "code",
   "execution_count": 53,
   "metadata": {
    "colab": {
     "base_uri": "https://localhost:8080/",
     "height": 424
    },
    "id": "jKKmVrDRk46e",
    "outputId": "82c3154f-405f-4c9c-e2b6-6acd827972c2"
   },
   "outputs": [
    {
     "data": {
      "text/html": [
       "<div>\n",
       "<style scoped>\n",
       "    .dataframe tbody tr th:only-of-type {\n",
       "        vertical-align: middle;\n",
       "    }\n",
       "\n",
       "    .dataframe tbody tr th {\n",
       "        vertical-align: top;\n",
       "    }\n",
       "\n",
       "    .dataframe thead th {\n",
       "        text-align: right;\n",
       "    }\n",
       "</style>\n",
       "<table border=\"1\" class=\"dataframe\">\n",
       "  <thead>\n",
       "    <tr style=\"text-align: right;\">\n",
       "      <th></th>\n",
       "      <th>date</th>\n",
       "      <th>title</th>\n",
       "      <th>polarity.label</th>\n",
       "      <th>tokenized</th>\n",
       "    </tr>\n",
       "  </thead>\n",
       "  <tbody>\n",
       "    <tr>\n",
       "      <th>0</th>\n",
       "      <td>2023-05-22</td>\n",
       "      <td>차병원·바이오그룹, R&amp;D·영업마케팅 경력 공개 채용</td>\n",
       "      <td>NaN</td>\n",
       "      <td>[차, 병원, ·, 바이오, 그룹, ,, R, &amp;, D, ·, 영업, 마케팅, 경력...</td>\n",
       "    </tr>\n",
       "    <tr>\n",
       "      <th>1</th>\n",
       "      <td>2023-05-05</td>\n",
       "      <td>\"매출, 올해 50%·내년 두배 ↑\"…마더스제약, 성장 자신하는 이유</td>\n",
       "      <td>NaN</td>\n",
       "      <td>[\", 매출, ,, 올해, 50, %·, 내년, 두, 배, ↑\"…, 마더, 스, 제...</td>\n",
       "    </tr>\n",
       "  </tbody>\n",
       "</table>\n",
       "</div>"
      ],
      "text/plain": [
       "         date                                   title  polarity.label  \\\n",
       "0  2023-05-22           차병원·바이오그룹, R&D·영업마케팅 경력 공개 채용             NaN   \n",
       "1  2023-05-05  \"매출, 올해 50%·내년 두배 ↑\"…마더스제약, 성장 자신하는 이유             NaN   \n",
       "\n",
       "                                           tokenized  \n",
       "0  [차, 병원, ·, 바이오, 그룹, ,, R, &, D, ·, 영업, 마케팅, 경력...  \n",
       "1  [\", 매출, ,, 올해, 50, %·, 내년, 두, 배, ↑\"…, 마더, 스, 제...  "
      ]
     },
     "execution_count": 53,
     "metadata": {},
     "output_type": "execute_result"
    }
   ],
   "source": [
    "df.head(2)"
   ]
  },
  {
   "cell_type": "markdown",
   "metadata": {},
   "source": [
    "# 훈련-테스트"
   ]
  },
  {
   "cell_type": "code",
   "execution_count": 54,
   "metadata": {
    "tags": []
   },
   "outputs": [],
   "source": [
    "train = df[df['polarity.label'].notna()]\n",
    "test = df[df['polarity.label'].isna()]"
   ]
  },
  {
   "cell_type": "code",
   "execution_count": 55,
   "metadata": {
    "tags": []
   },
   "outputs": [
    {
     "data": {
      "text/plain": [
       "<AxesSubplot: >"
      ]
     },
     "execution_count": 55,
     "metadata": {},
     "output_type": "execute_result"
    },
    {
     "data": {
      "image/png": "[encoded data removed]",
      "text/plain": [
       "<Figure size 640x480 with 1 Axes>"
      ]
     },
     "metadata": {},
     "output_type": "display_data"
    }
   ],
   "source": [
    "train['polarity.label'].value_counts().plot(kind='bar')"
   ]
  },
  {
   "cell_type": "code",
   "execution_count": 60,
   "metadata": {
    "tags": []
   },
   "outputs": [],
   "source": [
    "X_train_news = train['tokenized']\n",
    "y_train_news = train['polarity.label']"
   ]
  },
  {
   "cell_type": "code",
   "execution_count": 61,
   "metadata": {
    "tags": []
   },
   "outputs": [],
   "source": [
    "X_test_news = test['tokenized']\n",
    "y_test_news = test['polarity.label']"
   ]
  },
  {
   "cell_type": "markdown",
   "metadata": {},
   "source": [
    "# 토크나이즈"
   ]
  },
  {
   "cell_type": "code",
   "execution_count": 62,
   "metadata": {
    "tags": []
   },
   "outputs": [],
   "source": [
    "X_train_news_en = tokenizer.texts_to_sequences(X_train_news)\n",
    "X_test_news_en = tokenizer.texts_to_sequences(X_test_news)"
   ]
  },
  {
   "cell_type": "code",
   "execution_count": 63,
   "metadata": {
    "tags": []
   },
   "outputs": [
    {
     "name": "stdout",
     "output_type": "stream",
     "text": [
      "8942\n"
     ]
    }
   ],
   "source": [
    "word_to_index = tokenizer.word_index\n",
    "vocab_size = len(word_to_index) + 1\n",
    "print(vocab_size)"
   ]
  },
  {
   "cell_type": "markdown",
   "metadata": {},
   "source": [
    "# 패딩"
   ]
  },
  {
   "cell_type": "code",
   "execution_count": 64,
   "metadata": {
    "tags": []
   },
   "outputs": [
    {
     "name": "stdout",
     "output_type": "stream",
     "text": [
      "본문의 최대 길이 : 20\n",
      "본문의 평균 길이 : 14.305555555555555\n"
     ]
    }
   ],
   "source": [
    "print(  '본문의 최대 길이 :',   max(   len(sent) for sent in X_train_news   )   )\n",
    "# X_train 요소 하나하나 길이 재서 최대길이추출\n",
    "print(   '본문의 평균 길이 :',  sum(    map(len, X_train_news)  )   /  len(X_train_news)     )\n",
    "# X_train 요소 길이 재서 sum하구 X_train 개수로 나눈다"
   ]
  },
  {
   "cell_type": "code",
   "execution_count": 65,
   "metadata": {
    "id": "vZvzv8jClpTF"
   },
   "outputs": [],
   "source": [
    "max_len = 20"
   ]
  },
  {
   "cell_type": "code",
   "execution_count": 66,
   "metadata": {
    "id": "DO-ypzo6lmuu"
   },
   "outputs": [],
   "source": [
    "X_train_news_en = pad_sequences(X_train_news_en, maxlen=max_len)\n",
    "X_test_news_en = pad_sequences(X_test_news_en, maxlen=max_len)"
   ]
  },
  {
   "cell_type": "code",
   "execution_count": 67,
   "metadata": {
    "colab": {
     "base_uri": "https://localhost:8080/"
    },
    "id": "_3LInCb9lqUZ",
    "outputId": "64822180-1fb5-44b5-ba3f-317c8bdfb2ca"
   },
   "outputs": [
    {
     "data": {
      "text/plain": [
       "(36, 20)"
      ]
     },
     "execution_count": 67,
     "metadata": {},
     "output_type": "execute_result"
    }
   ],
   "source": [
    "X_train_news_en.shape"
   ]
  },
  {
   "cell_type": "code",
   "execution_count": 68,
   "metadata": {
    "colab": {
     "base_uri": "https://localhost:8080/"
    },
    "id": "BRNfINkFlxHI",
    "outputId": "48643685-2064-4ff0-d8eb-7c406fc2245a"
   },
   "outputs": [
    {
     "data": {
      "text/plain": [
       "(24, 20)"
      ]
     },
     "execution_count": 68,
     "metadata": {},
     "output_type": "execute_result"
    }
   ],
   "source": [
    "X_test_news_en.shape"
   ]
  },
  {
   "cell_type": "code",
   "execution_count": 71,
   "metadata": {
    "tags": []
   },
   "outputs": [
    {
     "ename": "ValueError",
     "evalue": "negative dimensions are not allowed",
     "output_type": "error",
     "traceback": [
      "\u001b[1;31m---------------------------------------------------------------------------\u001b[0m",
      "\u001b[1;31mValueError\u001b[0m                                Traceback (most recent call last)",
      "Cell \u001b[1;32mIn[71], line 2\u001b[0m\n\u001b[0;32m      1\u001b[0m y_train_news \u001b[38;5;241m=\u001b[39m to_categorical(y_train_news)\n\u001b[1;32m----> 2\u001b[0m y_test_news \u001b[38;5;241m=\u001b[39m \u001b[43mto_categorical\u001b[49m\u001b[43m(\u001b[49m\u001b[43my_test_news\u001b[49m\u001b[43m)\u001b[49m\n",
      "File \u001b[1;32mC:\\AI\\pythonProject\\venv\\lib\\site-packages\\keras\\utils\\np_utils.py:72\u001b[0m, in \u001b[0;36mto_categorical\u001b[1;34m(y, num_classes, dtype)\u001b[0m\n\u001b[0;32m     70\u001b[0m     num_classes \u001b[38;5;241m=\u001b[39m np\u001b[38;5;241m.\u001b[39mmax(y) \u001b[38;5;241m+\u001b[39m \u001b[38;5;241m1\u001b[39m\n\u001b[0;32m     71\u001b[0m n \u001b[38;5;241m=\u001b[39m y\u001b[38;5;241m.\u001b[39mshape[\u001b[38;5;241m0\u001b[39m]\n\u001b[1;32m---> 72\u001b[0m categorical \u001b[38;5;241m=\u001b[39m \u001b[43mnp\u001b[49m\u001b[38;5;241;43m.\u001b[39;49m\u001b[43mzeros\u001b[49m\u001b[43m(\u001b[49m\u001b[43m(\u001b[49m\u001b[43mn\u001b[49m\u001b[43m,\u001b[49m\u001b[43m \u001b[49m\u001b[43mnum_classes\u001b[49m\u001b[43m)\u001b[49m\u001b[43m,\u001b[49m\u001b[43m \u001b[49m\u001b[43mdtype\u001b[49m\u001b[38;5;241;43m=\u001b[39;49m\u001b[43mdtype\u001b[49m\u001b[43m)\u001b[49m\n\u001b[0;32m     73\u001b[0m categorical[np\u001b[38;5;241m.\u001b[39marange(n), y] \u001b[38;5;241m=\u001b[39m \u001b[38;5;241m1\u001b[39m\n\u001b[0;32m     74\u001b[0m output_shape \u001b[38;5;241m=\u001b[39m input_shape \u001b[38;5;241m+\u001b[39m (num_classes,)\n",
      "\u001b[1;31mValueError\u001b[0m: negative dimensions are not allowed"
     ]
    }
   ],
   "source": [
    "# y_train_news = to_categorical(y_train_news)\n",
    "# y_test_news = to_categorical(y_test_news)"
   ]
  },
  {
   "cell_type": "code",
   "execution_count": 72,
   "metadata": {
    "tags": []
   },
   "outputs": [
    {
     "name": "stdout",
     "output_type": "stream",
     "text": [
      "1/1 [==============================] - 3s 3s/step\n"
     ]
    },
    {
     "data": {
      "text/plain": [
       "array([[0.9859973 , 0.01014547, 0.00385714],\n",
       "       [0.10415201, 0.85754955, 0.03829848],\n",
       "       [0.9599374 , 0.02752489, 0.01253773],\n",
       "       [0.94274956, 0.04222604, 0.01502445],\n",
       "       [0.92745256, 0.05401395, 0.01853346],\n",
       "       [0.8927773 , 0.0765273 , 0.03069535],\n",
       "       [0.96954703, 0.02230941, 0.0081436 ],\n",
       "       [0.9891722 , 0.00807706, 0.0027507 ],\n",
       "       [0.81440014, 0.14927702, 0.03632282],\n",
       "       [0.8984386 , 0.07479079, 0.02677058],\n",
       "       [0.8522234 , 0.11971783, 0.02805877],\n",
       "       [0.96729136, 0.02140551, 0.01130315],\n",
       "       [0.98670524, 0.01007951, 0.00321523],\n",
       "       [0.8999534 , 0.06260617, 0.03744047],\n",
       "       [0.8513715 , 0.10732227, 0.0413062 ],\n",
       "       [0.8721809 , 0.08079891, 0.04702019],\n",
       "       [0.94294506, 0.03630428, 0.02075067],\n",
       "       [0.9861152 , 0.01024295, 0.00364177],\n",
       "       [0.9843338 , 0.01187286, 0.00379336],\n",
       "       [0.9873037 , 0.00928018, 0.00341615],\n",
       "       [0.6520718 , 0.18214056, 0.16578765],\n",
       "       [0.97788006, 0.01616103, 0.00595898],\n",
       "       [0.9199445 , 0.05157848, 0.02847697],\n",
       "       [0.5820189 , 0.23107862, 0.18690248]], dtype=float32)"
      ]
     },
     "execution_count": 72,
     "metadata": {},
     "output_type": "execute_result"
    }
   ],
   "source": [
    "predict=model.predict(X_test_news_en)\n",
    "predict"
   ]
  },
  {
   "cell_type": "code",
   "execution_count": 74,
   "metadata": {
    "tags": []
   },
   "outputs": [],
   "source": [
    "labels = []\n",
    "for pred in predict:\n",
    "    label=np.argmax(pred)\n",
    "    labels.append(label)"
   ]
  },
  {
   "cell_type": "code",
   "execution_count": 73,
   "metadata": {
    "tags": []
   },
   "outputs": [
    {
     "data": {
      "text/plain": [
       "21"
      ]
     },
     "execution_count": 73,
     "metadata": {},
     "output_type": "execute_result"
    }
   ],
   "source": [
    "np.argmax(predict)"
   ]
  },
  {
   "cell_type": "code",
   "execution_count": 75,
   "metadata": {
    "tags": []
   },
   "outputs": [
    {
     "data": {
      "text/plain": [
       "[0, 1, 0, 0, 0, 0, 0, 0, 0, 0, 0, 0, 0, 0, 0, 0, 0, 0, 0, 0, 0, 0, 0, 0]"
      ]
     },
     "execution_count": 75,
     "metadata": {},
     "output_type": "execute_result"
    }
   ],
   "source": [
    "labels"
   ]
  },
  {
   "cell_type": "code",
   "execution_count": 77,
   "metadata": {
    "tags": []
   },
   "outputs": [
    {
     "name": "stderr",
     "output_type": "stream",
     "text": [
      "C:\\Users\\ASIA\\AppData\\Local\\Temp\\ipykernel_6264\\4054918419.py:1: SettingWithCopyWarning: \n",
      "A value is trying to be set on a copy of a slice from a DataFrame.\n",
      "Try using .loc[row_indexer,col_indexer] = value instead\n",
      "\n",
      "See the caveats in the documentation: https://pandas.pydata.org/pandas-docs/stable/user_guide/indexing.html#returning-a-view-versus-a-copy\n",
      "  test['polarity.label'] = labels\n"
     ]
    }
   ],
   "source": [
    "test['polarity.label'] = labels"
   ]
  },
  {
   "cell_type": "code",
   "execution_count": 78,
   "metadata": {
    "tags": []
   },
   "outputs": [
    {
     "data": {
      "text/html": [
       "<div>\n",
       "<style scoped>\n",
       "    .dataframe tbody tr th:only-of-type {\n",
       "        vertical-align: middle;\n",
       "    }\n",
       "\n",
       "    .dataframe tbody tr th {\n",
       "        vertical-align: top;\n",
       "    }\n",
       "\n",
       "    .dataframe thead th {\n",
       "        text-align: right;\n",
       "    }\n",
       "</style>\n",
       "<table border=\"1\" class=\"dataframe\">\n",
       "  <thead>\n",
       "    <tr style=\"text-align: right;\">\n",
       "      <th></th>\n",
       "      <th>date</th>\n",
       "      <th>title</th>\n",
       "      <th>polarity.label</th>\n",
       "      <th>tokenized</th>\n",
       "    </tr>\n",
       "  </thead>\n",
       "  <tbody>\n",
       "    <tr>\n",
       "      <th>0</th>\n",
       "      <td>2023-05-22</td>\n",
       "      <td>차병원·바이오그룹, R&amp;D·영업마케팅 경력 공개 채용</td>\n",
       "      <td>0</td>\n",
       "      <td>[차, 병원, ·, 바이오, 그룹, ,, R, &amp;, D, ·, 영업, 마케팅, 경력...</td>\n",
       "    </tr>\n",
       "    <tr>\n",
       "      <th>1</th>\n",
       "      <td>2023-05-05</td>\n",
       "      <td>\"매출, 올해 50%·내년 두배 ↑\"…마더스제약, 성장 자신하는 이유</td>\n",
       "      <td>1</td>\n",
       "      <td>[\", 매출, ,, 올해, 50, %·, 내년, 두, 배, ↑\"…, 마더, 스, 제...</td>\n",
       "    </tr>\n",
       "    <tr>\n",
       "      <th>6</th>\n",
       "      <td>2023-03-23</td>\n",
       "      <td>오늘은 ‘세계 강아지의 날’ “반려견 건강 챙겨주세요”</td>\n",
       "      <td>0</td>\n",
       "      <td>[오늘, 은, ‘, 세계, 강아지, 의, 날, ’, “, 반려, 견, 건강, 챙겨,...</td>\n",
       "    </tr>\n",
       "    <tr>\n",
       "      <th>7</th>\n",
       "      <td>2023-01-30</td>\n",
       "      <td>펫 의약품 가파른 성장세… 제약·바이오 기업 바빠졌다</td>\n",
       "      <td>0</td>\n",
       "      <td>[펫, 의약품, 가파른, 성장세, …, 제약, ·, 바이오, 기업, 바빠졌, 다]</td>\n",
       "    </tr>\n",
       "    <tr>\n",
       "      <th>8</th>\n",
       "      <td>2023-01-16</td>\n",
       "      <td>안국약품, CMG제약과 고혈압·고지혈증 복합제 '아모르탄알정' 코프로모션</td>\n",
       "      <td>0</td>\n",
       "      <td>[안국, 약품, ,, CMG, 제약, 과, 고, 혈압, ·, 고지혈증, 복합제, '...</td>\n",
       "    </tr>\n",
       "    <tr>\n",
       "      <th>9</th>\n",
       "      <td>2022-12-19</td>\n",
       "      <td>차바이오텍 CMG제약, 동물의약품 사업진출</td>\n",
       "      <td>0</td>\n",
       "      <td>[차바, 이, 오텍, CMG, 제약, ,, 동물, 의약품, 사업, 진출]</td>\n",
       "    </tr>\n",
       "    <tr>\n",
       "      <th>10</th>\n",
       "      <td>2022-12-19</td>\n",
       "      <td>차바이오텍 계열사 CMG제약, 동물의약품 사업부 신설</td>\n",
       "      <td>0</td>\n",
       "      <td>[차바, 이, 오텍, 계열사, CMG, 제약, ,, 동물, 의약품, 사업, 부, 신설]</td>\n",
       "    </tr>\n",
       "    <tr>\n",
       "      <th>11</th>\n",
       "      <td>2022-12-15</td>\n",
       "      <td>CMG제약 “신약 개발로 2025년 연매출 2000억 30위권 제약사 도약”</td>\n",
       "      <td>0</td>\n",
       "      <td>[CMG, 제약, “, 신약, 개발, 로, 2025, 년, 연매, 출, 2000, ...</td>\n",
       "    </tr>\n",
       "    <tr>\n",
       "      <th>12</th>\n",
       "      <td>2022-12-15</td>\n",
       "      <td>'ESG 늦바람' 제약바이오, 핵심은 '이것'</td>\n",
       "      <td>0</td>\n",
       "      <td>[', ESG, 늦바람, ', 제약, 바이오, ,, 핵심, 은, ', 이것, ']</td>\n",
       "    </tr>\n",
       "    <tr>\n",
       "      <th>13</th>\n",
       "      <td>2022-12-08</td>\n",
       "      <td>안국약품, CMG제약과 정장제 '락비오캡슐' 코프로모션</td>\n",
       "      <td>0</td>\n",
       "      <td>[안국, 약품, ,, CMG, 제약, 과, 정장제, ', 락, 비, 오, 캡슐, '...</td>\n",
       "    </tr>\n",
       "    <tr>\n",
       "      <th>23</th>\n",
       "      <td>2022-06-16</td>\n",
       "      <td>CMG 건강연구소, 수면 질 개선 건강기능식품 출시</td>\n",
       "      <td>0</td>\n",
       "      <td>[CMG, 건강, 연구소, ,, 수면, 질, 개선, 건강, 기능, 식품, 출시]</td>\n",
       "    </tr>\n",
       "    <tr>\n",
       "      <th>24</th>\n",
       "      <td>2022-05-25</td>\n",
       "      <td>상장제약기업 ESG 경영 무관심…70여곳중 A등급은 10곳 불과</td>\n",
       "      <td>0</td>\n",
       "      <td>[상장, 제약, 기업, ESG, 경영, 무, 관심, …, 70, 여, 곳, 중, A...</td>\n",
       "    </tr>\n",
       "    <tr>\n",
       "      <th>25</th>\n",
       "      <td>2022-04-19</td>\n",
       "      <td>“미리어드만의 생태계 만들겠다”…바이오 투자사 설립한 까닭은</td>\n",
       "      <td>0</td>\n",
       "      <td>[“, 미리, 어드만, 의, 생태, 계, 만들, 겠, 다, ”, …, 바이, 오, ...</td>\n",
       "    </tr>\n",
       "    <tr>\n",
       "      <th>26</th>\n",
       "      <td>2022-01-06</td>\n",
       "      <td>차병원 3세 차원태 계열사 장악 ‘한발 더’</td>\n",
       "      <td>0</td>\n",
       "      <td>[차, 병원, 3, 세, 차원태, 계열사, 장악, ‘, 한발, 더, ’]</td>\n",
       "    </tr>\n",
       "    <tr>\n",
       "      <th>27</th>\n",
       "      <td>2021-12-14</td>\n",
       "      <td>[e공시 눈에 띄네]코스닥-13일</td>\n",
       "      <td>0</td>\n",
       "      <td>[[, e, 공시, 눈, 에, 띄, 네, ], 코스닥, -, 13, 일]</td>\n",
       "    </tr>\n",
       "    <tr>\n",
       "      <th>34</th>\n",
       "      <td>2021-06-30</td>\n",
       "      <td>상반기에 벌써 6조...올 제약기술 수출 10조달성 ‘순풍에 돛’</td>\n",
       "      <td>0</td>\n",
       "      <td>[상반기, 에, 벌써, 6, 조, ., .., 올, 제약, 기술, 수출, 10, 조...</td>\n",
       "    </tr>\n",
       "    <tr>\n",
       "      <th>35</th>\n",
       "      <td>2021-06-08</td>\n",
       "      <td>차병원·바이오그룹 경력공채 실시</td>\n",
       "      <td>0</td>\n",
       "      <td>[차, 병원, ·, 바이오, 그룹, 경력, 공채, 실시]</td>\n",
       "    </tr>\n",
       "    <tr>\n",
       "      <th>36</th>\n",
       "      <td>2021-05-21</td>\n",
       "      <td>‘복제약→ 신약 개발’ 포트폴리오 이동… R&amp;D 총력전 [도약하는 K-바이오·제약]</td>\n",
       "      <td>0</td>\n",
       "      <td>[‘, 복제, 약, →, 신약, 개발, ’, 포트폴리오, 이동, …, R, &amp;, D...</td>\n",
       "    </tr>\n",
       "    <tr>\n",
       "      <th>38</th>\n",
       "      <td>2021-05-12</td>\n",
       "      <td>CMG제약·한독, 1900억 규모 표적항암신약 기술이전</td>\n",
       "      <td>0</td>\n",
       "      <td>[CMG, 제약, ·, 한독, ,, 1900, 억, 규모, 표적, 항암, 신약, 기...</td>\n",
       "    </tr>\n",
       "    <tr>\n",
       "      <th>40</th>\n",
       "      <td>2021-05-10</td>\n",
       "      <td>CMG·한독, 싱가포르 기업에 표적항암제 이전…1천934억원 규모</td>\n",
       "      <td>0</td>\n",
       "      <td>[CMG, ·, 한독, ,, 싱가포르, 기업, 에, 표적, 항암제, 이전, …, 1...</td>\n",
       "    </tr>\n",
       "    <tr>\n",
       "      <th>44</th>\n",
       "      <td>2021-03-12</td>\n",
       "      <td>차바이오그룹 \"경력공채 실시\"…3월 28일까지 서류 접수</td>\n",
       "      <td>0</td>\n",
       "      <td>[차, 바이오, 그룹, \", 경력, 공채, 실시, \"…, 3, 월, 28, 일, 까...</td>\n",
       "    </tr>\n",
       "    <tr>\n",
       "      <th>47</th>\n",
       "      <td>2021-01-03</td>\n",
       "      <td>‘처음 밟는 3000 시대’, 공매도·환율·동학개미에 달렸다</td>\n",
       "      <td>0</td>\n",
       "      <td>[‘, 처음, 밟, 는, 3000, 시대, ’,, 공매도, ·, 환율, ·, 동학,...</td>\n",
       "    </tr>\n",
       "    <tr>\n",
       "      <th>55</th>\n",
       "      <td>2020-08-28</td>\n",
       "      <td>공매도 금지 6개월 연장…코스닥 제약·바이오株에 기름 부을까</td>\n",
       "      <td>0</td>\n",
       "      <td>[공매도, 금지, 6, 개월, 연장, …, 코스닥, 제약, ·, 바이오, 株, 에,...</td>\n",
       "    </tr>\n",
       "    <tr>\n",
       "      <th>58</th>\n",
       "      <td>2020-07-17</td>\n",
       "      <td>[우수특허] 한국베름</td>\n",
       "      <td>0</td>\n",
       "      <td>[[, 우수, 특허, ], 한국, 베, 름]</td>\n",
       "    </tr>\n",
       "  </tbody>\n",
       "</table>\n",
       "</div>"
      ],
      "text/plain": [
       "          date                                           title  \\\n",
       "0   2023-05-22                   차병원·바이오그룹, R&D·영업마케팅 경력 공개 채용   \n",
       "1   2023-05-05          \"매출, 올해 50%·내년 두배 ↑\"…마더스제약, 성장 자신하는 이유   \n",
       "6   2023-03-23                  오늘은 ‘세계 강아지의 날’ “반려견 건강 챙겨주세요”   \n",
       "7   2023-01-30                   펫 의약품 가파른 성장세… 제약·바이오 기업 바빠졌다   \n",
       "8   2023-01-16        안국약품, CMG제약과 고혈압·고지혈증 복합제 '아모르탄알정' 코프로모션   \n",
       "9   2022-12-19                         차바이오텍 CMG제약, 동물의약품 사업진출   \n",
       "10  2022-12-19                   차바이오텍 계열사 CMG제약, 동물의약품 사업부 신설   \n",
       "11  2022-12-15      CMG제약 “신약 개발로 2025년 연매출 2000억 30위권 제약사 도약”   \n",
       "12  2022-12-15                       'ESG 늦바람' 제약바이오, 핵심은 '이것'   \n",
       "13  2022-12-08                  안국약품, CMG제약과 정장제 '락비오캡슐' 코프로모션   \n",
       "23  2022-06-16                    CMG 건강연구소, 수면 질 개선 건강기능식품 출시   \n",
       "24  2022-05-25             상장제약기업 ESG 경영 무관심…70여곳중 A등급은 10곳 불과   \n",
       "25  2022-04-19               “미리어드만의 생태계 만들겠다”…바이오 투자사 설립한 까닭은   \n",
       "26  2022-01-06                        차병원 3세 차원태 계열사 장악 ‘한발 더’   \n",
       "27  2021-12-14                              [e공시 눈에 띄네]코스닥-13일   \n",
       "34  2021-06-30            상반기에 벌써 6조...올 제약기술 수출 10조달성 ‘순풍에 돛’   \n",
       "35  2021-06-08                               차병원·바이오그룹 경력공채 실시   \n",
       "36  2021-05-21  ‘복제약→ 신약 개발’ 포트폴리오 이동… R&D 총력전 [도약하는 K-바이오·제약]   \n",
       "38  2021-05-12                  CMG제약·한독, 1900억 규모 표적항암신약 기술이전   \n",
       "40  2021-05-10            CMG·한독, 싱가포르 기업에 표적항암제 이전…1천934억원 규모   \n",
       "44  2021-03-12                 차바이오그룹 \"경력공채 실시\"…3월 28일까지 서류 접수   \n",
       "47  2021-01-03               ‘처음 밟는 3000 시대’, 공매도·환율·동학개미에 달렸다   \n",
       "55  2020-08-28               공매도 금지 6개월 연장…코스닥 제약·바이오株에 기름 부을까   \n",
       "58  2020-07-17                                     [우수특허] 한국베름   \n",
       "\n",
       "    polarity.label                                          tokenized  \n",
       "0                0  [차, 병원, ·, 바이오, 그룹, ,, R, &, D, ·, 영업, 마케팅, 경력...  \n",
       "1                1  [\", 매출, ,, 올해, 50, %·, 내년, 두, 배, ↑\"…, 마더, 스, 제...  \n",
       "6                0  [오늘, 은, ‘, 세계, 강아지, 의, 날, ’, “, 반려, 견, 건강, 챙겨,...  \n",
       "7                0      [펫, 의약품, 가파른, 성장세, …, 제약, ·, 바이오, 기업, 바빠졌, 다]  \n",
       "8                0  [안국, 약품, ,, CMG, 제약, 과, 고, 혈압, ·, 고지혈증, 복합제, '...  \n",
       "9                0           [차바, 이, 오텍, CMG, 제약, ,, 동물, 의약품, 사업, 진출]  \n",
       "10               0   [차바, 이, 오텍, 계열사, CMG, 제약, ,, 동물, 의약품, 사업, 부, 신설]  \n",
       "11               0  [CMG, 제약, “, 신약, 개발, 로, 2025, 년, 연매, 출, 2000, ...  \n",
       "12               0      [', ESG, 늦바람, ', 제약, 바이오, ,, 핵심, 은, ', 이것, ']  \n",
       "13               0  [안국, 약품, ,, CMG, 제약, 과, 정장제, ', 락, 비, 오, 캡슐, '...  \n",
       "23               0       [CMG, 건강, 연구소, ,, 수면, 질, 개선, 건강, 기능, 식품, 출시]  \n",
       "24               0  [상장, 제약, 기업, ESG, 경영, 무, 관심, …, 70, 여, 곳, 중, A...  \n",
       "25               0  [“, 미리, 어드만, 의, 생태, 계, 만들, 겠, 다, ”, …, 바이, 오, ...  \n",
       "26               0           [차, 병원, 3, 세, 차원태, 계열사, 장악, ‘, 한발, 더, ’]  \n",
       "27               0           [[, e, 공시, 눈, 에, 띄, 네, ], 코스닥, -, 13, 일]  \n",
       "34               0  [상반기, 에, 벌써, 6, 조, ., .., 올, 제약, 기술, 수출, 10, 조...  \n",
       "35               0                    [차, 병원, ·, 바이오, 그룹, 경력, 공채, 실시]  \n",
       "36               0  [‘, 복제, 약, →, 신약, 개발, ’, 포트폴리오, 이동, …, R, &, D...  \n",
       "38               0  [CMG, 제약, ·, 한독, ,, 1900, 억, 규모, 표적, 항암, 신약, 기...  \n",
       "40               0  [CMG, ·, 한독, ,, 싱가포르, 기업, 에, 표적, 항암제, 이전, …, 1...  \n",
       "44               0  [차, 바이오, 그룹, \", 경력, 공채, 실시, \"…, 3, 월, 28, 일, 까...  \n",
       "47               0  [‘, 처음, 밟, 는, 3000, 시대, ’,, 공매도, ·, 환율, ·, 동학,...  \n",
       "55               0  [공매도, 금지, 6, 개월, 연장, …, 코스닥, 제약, ·, 바이오, 株, 에,...  \n",
       "58               0                           [[, 우수, 특허, ], 한국, 베, 름]  "
      ]
     },
     "execution_count": 78,
     "metadata": {},
     "output_type": "execute_result"
    }
   ],
   "source": [
    "test"
   ]
  }
 ],
 "metadata": {
  "accelerator": "GPU",
  "colab": {
   "collapsed_sections": [],
   "machine_shape": "hm",
   "name": "LSTM finance sentiment analysis.ipynb",
   "provenance": []
  },
  "kernelspec": {
   "display_name": "Python 3 (ipykernel)",
   "language": "python",
   "name": "python3"
  },
  "language_info": {
   "codemirror_mode": {
    "name": "ipython",
    "version": 3
   },
   "file_extension": ".py",
   "mimetype": "text/x-python",
   "name": "python",
   "nbconvert_exporter": "python",
   "pygments_lexer": "ipython3",
   "version": "3.8.8"
  }
 },
 "nbformat": 4,
 "nbformat_minor": 4
}
