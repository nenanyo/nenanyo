{
 "cells": [
  {
   "cell_type": "code",
   "execution_count": 1,
   "id": "1ed3f79b-447c-4f48-a551-6b4ca9e7f1d2",
   "metadata": {
    "id": "Qww_V4GzhgoS"
   },
   "outputs": [],
   "source": [
    "import pandas as pd\n",
    "import numpy as np\n",
    "import matplotlib.pyplot as plt\n",
    "from sklearn.model_selection import train_test_split\n",
    "import re\n",
    "import urllib.request\n",
    "import mecab\n",
    "from tqdm import tqdm\n",
    "from tensorflow.keras.preprocessing.text import Tokenizer\n",
    "from tensorflow.keras.preprocessing.sequence import pad_sequences\n",
    "import tensorflow as tf\n",
    "from tensorflow.keras.layers import Embedding, Dense, LSTM\n",
    "from tensorflow.keras.models import Sequential\n",
    "from tensorflow.keras.models import load_model\n",
    "from tensorflow.keras.utils import to_categorical\n",
    "from tensorflow.keras.callbacks import EarlyStopping, ModelCheckpoint\n",
    "import warnings\n",
    "warnings.filterwarnings(action='ignore')"
   ]
  },
  {
   "cell_type": "markdown",
   "id": "16ad6e45-68e4-40b1-b35f-95cc15aed5c7",
   "metadata": {},
   "source": [
    "# data load"
   ]
  },
  {
   "cell_type": "markdown",
   "id": "c7cc982a-0115-4c00-a1aa-37ee0a9a52c1",
   "metadata": {},
   "source": [
    "## 뉴스데이터"
   ]
  },
  {
   "cell_type": "code",
   "execution_count": 2,
   "id": "5b262726-a648-426e-8ea2-375c24a89052",
   "metadata": {},
   "outputs": [],
   "source": [
    "path = '..\\데이터\\기업별 뉴스'"
   ]
  },
  {
   "cell_type": "code",
   "execution_count": 3,
   "id": "f2b640cb-8e28-4cc8-84d4-5be9d22137f6",
   "metadata": {
    "tags": []
   },
   "outputs": [
    {
     "data": {
      "text/plain": [
       "140"
      ]
     },
     "execution_count": 3,
     "metadata": {},
     "output_type": "execute_result"
    }
   ],
   "source": [
    "import os\n",
    "file_list = os.listdir(path)\n",
    "len(file_list)"
   ]
  },
  {
   "cell_type": "code",
   "execution_count": 4,
   "id": "c37cc737-03f7-4602-af00-0b58e28bedb4",
   "metadata": {
    "tags": []
   },
   "outputs": [],
   "source": [
    "file_name = []\n",
    "for file in file_list:\n",
    "    if file.count(\".\") == 1: \n",
    "        name = file.split('.')[0]\n",
    "        file_name.append(name)\n",
    "    # else:\n",
    "    #     for k in range(len(file)-1,0,-1):\n",
    "    #         if file[k]=='.':\n",
    "    #             file_name.append(file[:k])\n",
    "    #             break"
   ]
  },
  {
   "cell_type": "code",
   "execution_count": 5,
   "id": "624c0d42-3f7f-41ce-8551-327ee6d76750",
   "metadata": {
    "tags": []
   },
   "outputs": [
    {
     "data": {
      "text/plain": [
       "['CMG제약', 'HLB생명과학', 'JW생명과학', 'JW신약', 'JW중외제약']"
      ]
     },
     "execution_count": 5,
     "metadata": {},
     "output_type": "execute_result"
    }
   ],
   "source": [
    "file_name[:5]"
   ]
  },
  {
   "cell_type": "code",
   "execution_count": 6,
   "id": "bbe5a495-87ff-4a5f-a476-d468eec267fd",
   "metadata": {
    "tags": []
   },
   "outputs": [
    {
     "data": {
      "text/plain": [
       "140"
      ]
     },
     "execution_count": 6,
     "metadata": {},
     "output_type": "execute_result"
    }
   ],
   "source": [
    "df1 = []\n",
    "for 기업 in file_name:\n",
    "    df =pd.read_excel(f\"../데이터/기업별 뉴스/{기업}.xlsx\",sheet_name='#02 Documents')#,header=0,skiprows=[1,2])\n",
    "    # df = df[['Unnamed: 2','20221231','20211231','20201231','20191231','20181231']]\n",
    "    df = pd.DataFrame(df)\n",
    "    df1.append(df)\n",
    "len(df1)"
   ]
  },
  {
   "cell_type": "code",
   "execution_count": 7,
   "id": "6c9316ab-215e-498c-96dc-44ac53561cac",
   "metadata": {
    "tags": []
   },
   "outputs": [],
   "source": [
    "df2 =[]\n",
    "for df in df1:\n",
    "    df = df[['title','polarity.label']]\n",
    "    df['polarity.label'] = df['polarity.label'].replace(-1,2)\n",
    "    # dupli = df[df.duplicated()]\n",
    "    df.drop_duplicates(subset=['title'], inplace=True)\n",
    "    df2.append(df)\n",
    "    # duplicate_list.append(dupli)"
   ]
  },
  {
   "cell_type": "code",
   "execution_count": 8,
   "id": "2a5dc27a-a7d1-4197-b5a9-a99963732318",
   "metadata": {
    "tags": []
   },
   "outputs": [
    {
     "data": {
      "text/plain": [
       "140"
      ]
     },
     "execution_count": 8,
     "metadata": {},
     "output_type": "execute_result"
    }
   ],
   "source": [
    "len(df2)"
   ]
  },
  {
   "cell_type": "code",
   "execution_count": 9,
   "id": "e22d1de1-bb98-44d3-9e62-adf9af8995c4",
   "metadata": {
    "tags": []
   },
   "outputs": [
    {
     "data": {
      "text/html": [
       "<div>\n",
       "<style scoped>\n",
       "    .dataframe tbody tr th:only-of-type {\n",
       "        vertical-align: middle;\n",
       "    }\n",
       "\n",
       "    .dataframe tbody tr th {\n",
       "        vertical-align: top;\n",
       "    }\n",
       "\n",
       "    .dataframe thead th {\n",
       "        text-align: right;\n",
       "    }\n",
       "</style>\n",
       "<table border=\"1\" class=\"dataframe\">\n",
       "  <thead>\n",
       "    <tr style=\"text-align: right;\">\n",
       "      <th></th>\n",
       "      <th>title</th>\n",
       "      <th>polarity.label</th>\n",
       "    </tr>\n",
       "  </thead>\n",
       "  <tbody>\n",
       "    <tr>\n",
       "      <th>0</th>\n",
       "      <td>[취재 일지]세계는 여전히 ‘건기식’ 열풍… 경쟁력 높이려면 식약처 기준 완화돼야</td>\n",
       "      <td>NaN</td>\n",
       "    </tr>\n",
       "    <tr>\n",
       "      <th>1</th>\n",
       "      <td>어린이 프로바이오틱스, 유산균도 가격도 천차만별…따져보고 사야</td>\n",
       "      <td>NaN</td>\n",
       "    </tr>\n",
       "  </tbody>\n",
       "</table>\n",
       "</div>"
      ],
      "text/plain": [
       "                                           title  polarity.label\n",
       "0  [취재 일지]세계는 여전히 ‘건기식’ 열풍… 경쟁력 높이려면 식약처 기준 완화돼야             NaN\n",
       "1             어린이 프로바이오틱스, 유산균도 가격도 천차만별…따져보고 사야             NaN"
      ]
     },
     "execution_count": 9,
     "metadata": {},
     "output_type": "execute_result"
    }
   ],
   "source": [
    "df2[49].head(2)"
   ]
  },
  {
   "cell_type": "code",
   "execution_count": 10,
   "id": "667fdbee-9ed1-4049-a349-868b4c20f150",
   "metadata": {
    "tags": []
   },
   "outputs": [],
   "source": [
    "train = []\n",
    "test  = []\n",
    "for df in df2:\n",
    "    tmp_train = df[df['polarity.label'].notna()]\n",
    "    tmp_test = df[df['polarity.label'].isna()]\n",
    "    train.append(tmp_train)\n",
    "    test.append(tmp_test)"
   ]
  },
  {
   "cell_type": "code",
   "execution_count": 11,
   "id": "e7295aff-39cb-4a0d-8084-89ad3c3b7541",
   "metadata": {
    "tags": []
   },
   "outputs": [
    {
     "data": {
      "text/plain": [
       "(140, 140)"
      ]
     },
     "execution_count": 11,
     "metadata": {},
     "output_type": "execute_result"
    }
   ],
   "source": [
    "len(train), len(test)"
   ]
  },
  {
   "cell_type": "code",
   "execution_count": 12,
   "id": "581c0bfa-fe8e-4814-af0a-6ced1cef96c4",
   "metadata": {
    "id": "Qgna8GZ_k0AW"
   },
   "outputs": [],
   "source": [
    "mecab = mecab.MeCab()"
   ]
  },
  {
   "cell_type": "code",
   "execution_count": 13,
   "id": "dc05d655-399e-4f25-bf82-10d1c67e1d23",
   "metadata": {
    "tags": []
   },
   "outputs": [],
   "source": [
    "test1 =[]\n",
    "for df in test:\n",
    "    df['tokenized'] = df['title'].apply(mecab.morphs)\n",
    "    df['labels'] = df['polarity.label']\n",
    "    df = df[['labels','tokenized']]\n",
    "    test1.append(df)"
   ]
  },
  {
   "cell_type": "code",
   "execution_count": 14,
   "id": "301e5f4f-6542-4e02-9cfb-543bcff47519",
   "metadata": {
    "id": "9dKO6hYzkwbF"
   },
   "outputs": [
    {
     "data": {
      "text/html": [
       "<div>\n",
       "<style scoped>\n",
       "    .dataframe tbody tr th:only-of-type {\n",
       "        vertical-align: middle;\n",
       "    }\n",
       "\n",
       "    .dataframe tbody tr th {\n",
       "        vertical-align: top;\n",
       "    }\n",
       "\n",
       "    .dataframe thead th {\n",
       "        text-align: right;\n",
       "    }\n",
       "</style>\n",
       "<table border=\"1\" class=\"dataframe\">\n",
       "  <thead>\n",
       "    <tr style=\"text-align: right;\">\n",
       "      <th></th>\n",
       "      <th>labels</th>\n",
       "      <th>tokenized</th>\n",
       "    </tr>\n",
       "  </thead>\n",
       "  <tbody>\n",
       "    <tr>\n",
       "      <th>0</th>\n",
       "      <td>NaN</td>\n",
       "      <td>[차, 병원, ·, 바이오, 그룹, ,, R, &amp;, D, ·, 영업, 마케팅, 경력...</td>\n",
       "    </tr>\n",
       "    <tr>\n",
       "      <th>1</th>\n",
       "      <td>NaN</td>\n",
       "      <td>[\", 매출, ,, 올해, 50, %·, 내년, 두, 배, ↑\"…, 마더, 스, 제...</td>\n",
       "    </tr>\n",
       "  </tbody>\n",
       "</table>\n",
       "</div>"
      ],
      "text/plain": [
       "   labels                                          tokenized\n",
       "0     NaN  [차, 병원, ·, 바이오, 그룹, ,, R, &, D, ·, 영업, 마케팅, 경력...\n",
       "1     NaN  [\", 매출, ,, 올해, 50, %·, 내년, 두, 배, ↑\"…, 마더, 스, 제..."
      ]
     },
     "execution_count": 14,
     "metadata": {},
     "output_type": "execute_result"
    }
   ],
   "source": [
    "test1[0].head(2)"
   ]
  },
  {
   "cell_type": "markdown",
   "id": "e26874b3-6206-47ca-aa48-e54f64d983fa",
   "metadata": {},
   "source": [
    "## concat"
   ]
  },
  {
   "cell_type": "code",
   "execution_count": 15,
   "id": "6e430d5c-7bbd-479c-b89b-6374be286a34",
   "metadata": {
    "tags": []
   },
   "outputs": [
    {
     "name": "stdout",
     "output_type": "stream",
     "text": [
      "<class 'pandas.core.frame.DataFrame'>\n",
      "Int64Index: 22828 entries, 0 to 411\n",
      "Data columns (total 2 columns):\n",
      " #   Column     Non-Null Count  Dtype  \n",
      "---  ------     --------------  -----  \n",
      " 0   labels     0 non-null      float64\n",
      " 1   tokenized  22828 non-null  object \n",
      "dtypes: float64(1), object(1)\n",
      "memory usage: 535.0+ KB\n"
     ]
    }
   ],
   "source": [
    "test_df = pd.concat(test1, axis = 0)\n",
    "test_df.info()"
   ]
  },
  {
   "cell_type": "code",
   "execution_count": 16,
   "id": "2385542a-9d39-4ab7-8dc3-386bf5fcff01",
   "metadata": {
    "tags": []
   },
   "outputs": [],
   "source": [
    "X_test = test_df['tokenized']\n",
    "y_test = test_df['labels']"
   ]
  },
  {
   "cell_type": "code",
   "execution_count": 17,
   "id": "172c46ba-4d1a-4cbc-9014-9ffb58bae730",
   "metadata": {
    "tags": []
   },
   "outputs": [],
   "source": [
    "# X_test"
   ]
  },
  {
   "cell_type": "markdown",
   "id": "3467f75d-2697-4dec-8ac2-9f387409b93e",
   "metadata": {},
   "source": [
    "# 토크나이즈"
   ]
  },
  {
   "cell_type": "code",
   "execution_count": 18,
   "id": "e5fbf684-db86-4732-890c-94ca74819f2e",
   "metadata": {
    "tags": []
   },
   "outputs": [],
   "source": [
    "X_train = pd.read_csv('./X_train.csv')\n",
    "X_train = X_train['tokenized']"
   ]
  },
  {
   "cell_type": "code",
   "execution_count": 19,
   "id": "eaed99a3-1fc4-4378-b2ff-068db2076c3c",
   "metadata": {
    "colab": {
     "base_uri": "https://localhost:8080/"
    },
    "id": "5qCRNyvpkjEY",
    "outputId": "79b5f0b6-1598-48ea-b7d5-aeb16074ff08"
   },
   "outputs": [
    {
     "name": "stdout",
     "output_type": "stream",
     "text": [
      "[[75, 20, 206, 33, 1, 1, 3583, 3289, 352, 1630, 6, 89, 3048, 12, 1077, 9880, 783, 36, 3289, 9881, 768], [1, 1, 32, 51, 21, 26, 361, 19, 1, 1, 348, 2, 9882, 5, 2392, 1, 1, 5855, 13, 59, 1689, 9883, 9884, 89, 57, 107, 36], [1, 1, 39, 14, 1, 1, 1159, 536, 5, 333, 1, 1, 21, 53, 46, 132, 769, 2, 21, 1, 1, 120, 96], [126, 264, 1878, 63, 1, 1, 183, 609, 134, 112, 2024, 13, 27, 2, 151], [61, 4, 702, 52, 134, 43, 2668, 1043, 406, 3, 340, 16, 173, 26, 232, 19, 1211, 4, 183, 214, 43, 2668, 1043, 1, 1, 1327, 1, 1, 3290, 1, 1, 1, 1, 23, 1580, 11, 3584, 129, 379, 9, 183, 334, 67, 63, 2, 57, 3934, 2243, 266, 24, 219, 702, 24, 89, 18, 3, 57, 11, 398, 28, 145, 186, 7, 1, 1]]\n",
      "[[], [], [], [4359], [1, 1]]\n"
     ]
    }
   ],
   "source": [
    "tokenizer = Tokenizer()\n",
    "tokenizer.fit_on_texts(X_train)\n",
    "X_train_encoded = tokenizer.texts_to_sequences(X_train)\n",
    "X_test_encoded = tokenizer.texts_to_sequences(X_test)\n",
    "print(X_train_encoded[:5])\n",
    "print(X_test_encoded[:5])"
   ]
  },
  {
   "cell_type": "code",
   "execution_count": 20,
   "id": "4e809bb4-cb6f-481d-a113-6a42267e3f23",
   "metadata": {
    "colab": {
     "base_uri": "https://localhost:8080/"
    },
    "id": "KAXqMlPtkm9d",
    "outputId": "a3ceac7d-6e64-491b-ae48-5111f9bd1ab4"
   },
   "outputs": [
    {
     "name": "stdout",
     "output_type": "stream",
     "text": [
      "17679\n"
     ]
    }
   ],
   "source": [
    "word_to_index = tokenizer.word_index\n",
    "vocab_size = len(word_to_index) + 1\n",
    "print(vocab_size)"
   ]
  },
  {
   "cell_type": "markdown",
   "id": "7ba42495-3c38-4e88-b253-b0f9d81509bf",
   "metadata": {},
   "source": [
    "# 패딩"
   ]
  },
  {
   "cell_type": "code",
   "execution_count": 21,
   "id": "f395a69e-d08a-487b-bfc1-84f0b55113f2",
   "metadata": {
    "colab": {
     "base_uri": "https://localhost:8080/",
     "height": 315
    },
    "id": "CVaCLg2glTIo",
    "outputId": "2ee453f6-3488-45ca-dabd-250e064230d3"
   },
   "outputs": [
    {
     "name": "stdout",
     "output_type": "stream",
     "text": [
      "본문의 최대 길이 : 465\n",
      "본문의 평균 길이 : 103.7814891755959\n"
     ]
    },
    {
     "data": {
      "image/png": "[encoded data removed]",
      "text/plain": [
       "<Figure size 640x480 with 1 Axes>"
      ]
     },
     "metadata": {},
     "output_type": "display_data"
    }
   ],
   "source": [
    "print(  '본문의 최대 길이 :',   max(   len(sent) for sent in X_train   )   )\n",
    "# X_train 요소 하나하나 길이 재서 최대길이추출\n",
    "print(   '본문의 평균 길이 :',  sum(    map(len, X_train)  )   /  len(X_train)     )\n",
    "# X_train 요소 길이 재서 sum하구 X_train 개수로 나눈다\n",
    "plt.hist([len(sent) for sent in X_train], bins=50)\n",
    "plt.xlabel('length of samples')\n",
    "plt.ylabel('number of samples')\n",
    "plt.show()"
   ]
  },
  {
   "cell_type": "code",
   "execution_count": 22,
   "id": "02855495-dbdb-424e-967d-59246dd0cf93",
   "metadata": {
    "id": "vZvzv8jClpTF"
   },
   "outputs": [],
   "source": [
    "max_len = 465"
   ]
  },
  {
   "cell_type": "code",
   "execution_count": 23,
   "id": "97195aeb-4782-443f-a0f1-cb86e35a1fa8",
   "metadata": {
    "id": "DO-ypzo6lmuu"
   },
   "outputs": [],
   "source": [
    "X_train_encoded = pad_sequences(X_train_encoded, maxlen=max_len)\n",
    "X_test_encoded = pad_sequences(X_test_encoded, maxlen=max_len)"
   ]
  },
  {
   "cell_type": "code",
   "execution_count": 24,
   "id": "0bf49513-5c55-4834-a266-80e107b7e1ee",
   "metadata": {
    "colab": {
     "base_uri": "https://localhost:8080/"
    },
    "id": "_3LInCb9lqUZ",
    "outputId": "64822180-1fb5-44b5-ba3f-317c8bdfb2ca"
   },
   "outputs": [
    {
     "data": {
      "text/plain": [
       "(18292, 465)"
      ]
     },
     "execution_count": 24,
     "metadata": {},
     "output_type": "execute_result"
    }
   ],
   "source": [
    "X_train_encoded.shape"
   ]
  },
  {
   "cell_type": "code",
   "execution_count": 25,
   "id": "72ad6280-4a8d-4383-828c-38fd74e28796",
   "metadata": {
    "tags": []
   },
   "outputs": [
    {
     "data": {
      "text/plain": [
       "(22828,)"
      ]
     },
     "execution_count": 25,
     "metadata": {},
     "output_type": "execute_result"
    }
   ],
   "source": [
    "y_test.shape"
   ]
  },
  {
   "cell_type": "markdown",
   "id": "e708939e-4a79-4ef9-865a-76db6b516fe7",
   "metadata": {},
   "source": [
    "# 모델"
   ]
  },
  {
   "cell_type": "code",
   "execution_count": 27,
   "id": "efb1e25f-c558-4cf7-bc0f-287fe51fb7c7",
   "metadata": {
    "tags": []
   },
   "outputs": [],
   "source": [
    "model = load_model('best_model.h5')"
   ]
  },
  {
   "cell_type": "code",
   "execution_count": 28,
   "id": "721fcf32-7ca8-4c3c-9cee-f97b144d654b",
   "metadata": {
    "tags": []
   },
   "outputs": [
    {
     "name": "stdout",
     "output_type": "stream",
     "text": [
      "714/714 [==============================] - 37s 47ms/step\n"
     ]
    }
   ],
   "source": [
    "predict=model.predict(X_test_encoded)"
   ]
  },
  {
   "cell_type": "code",
   "execution_count": 29,
   "id": "b709e2e0-da77-4888-a40e-7a7fa48cc1b3",
   "metadata": {
    "tags": []
   },
   "outputs": [],
   "source": [
    "for predict in predict:\n",
    "    labels = np.argmax(predict)"
   ]
  },
  {
   "cell_type": "code",
   "execution_count": 30,
   "id": "af092f19-273c-42e1-89f2-1898335714b3",
   "metadata": {
    "tags": []
   },
   "outputs": [],
   "source": [
    "test_df['labels'] = labels"
   ]
  },
  {
   "cell_type": "code",
   "execution_count": 31,
   "id": "23b20cb0-fba3-4fb9-98d9-1b0ae88f2c4b",
   "metadata": {
    "tags": []
   },
   "outputs": [
    {
     "data": {
      "text/html": [
       "<div>\n",
       "<style scoped>\n",
       "    .dataframe tbody tr th:only-of-type {\n",
       "        vertical-align: middle;\n",
       "    }\n",
       "\n",
       "    .dataframe tbody tr th {\n",
       "        vertical-align: top;\n",
       "    }\n",
       "\n",
       "    .dataframe thead th {\n",
       "        text-align: right;\n",
       "    }\n",
       "</style>\n",
       "<table border=\"1\" class=\"dataframe\">\n",
       "  <thead>\n",
       "    <tr style=\"text-align: right;\">\n",
       "      <th></th>\n",
       "      <th>labels</th>\n",
       "      <th>tokenized</th>\n",
       "    </tr>\n",
       "  </thead>\n",
       "  <tbody>\n",
       "    <tr>\n",
       "      <th>0</th>\n",
       "      <td>0</td>\n",
       "      <td>[차, 병원, ·, 바이오, 그룹, ,, R, &amp;, D, ·, 영업, 마케팅, 경력...</td>\n",
       "    </tr>\n",
       "    <tr>\n",
       "      <th>1</th>\n",
       "      <td>0</td>\n",
       "      <td>[\", 매출, ,, 올해, 50, %·, 내년, 두, 배, ↑\"…, 마더, 스, 제...</td>\n",
       "    </tr>\n",
       "    <tr>\n",
       "      <th>6</th>\n",
       "      <td>0</td>\n",
       "      <td>[오늘, 은, ‘, 세계, 강아지, 의, 날, ’, “, 반려, 견, 건강, 챙겨,...</td>\n",
       "    </tr>\n",
       "    <tr>\n",
       "      <th>7</th>\n",
       "      <td>0</td>\n",
       "      <td>[펫, 의약품, 가파른, 성장세, …, 제약, ·, 바이오, 기업, 바빠졌, 다]</td>\n",
       "    </tr>\n",
       "    <tr>\n",
       "      <th>8</th>\n",
       "      <td>0</td>\n",
       "      <td>[안국, 약품, ,, CMG, 제약, 과, 고, 혈압, ·, 고지혈증, 복합제, '...</td>\n",
       "    </tr>\n",
       "  </tbody>\n",
       "</table>\n",
       "</div>"
      ],
      "text/plain": [
       "   labels                                          tokenized\n",
       "0       0  [차, 병원, ·, 바이오, 그룹, ,, R, &, D, ·, 영업, 마케팅, 경력...\n",
       "1       0  [\", 매출, ,, 올해, 50, %·, 내년, 두, 배, ↑\"…, 마더, 스, 제...\n",
       "6       0  [오늘, 은, ‘, 세계, 강아지, 의, 날, ’, “, 반려, 견, 건강, 챙겨,...\n",
       "7       0      [펫, 의약품, 가파른, 성장세, …, 제약, ·, 바이오, 기업, 바빠졌, 다]\n",
       "8       0  [안국, 약품, ,, CMG, 제약, 과, 고, 혈압, ·, 고지혈증, 복합제, '..."
      ]
     },
     "execution_count": 31,
     "metadata": {},
     "output_type": "execute_result"
    }
   ],
   "source": [
    "test_df.head()"
   ]
  },
  {
   "cell_type": "code",
   "execution_count": 35,
   "id": "f5bfecfd-ef89-49c8-8261-81d59992fcfd",
   "metadata": {
    "tags": []
   },
   "outputs": [
    {
     "data": {
      "text/html": [
       "<div>\n",
       "<style scoped>\n",
       "    .dataframe tbody tr th:only-of-type {\n",
       "        vertical-align: middle;\n",
       "    }\n",
       "\n",
       "    .dataframe tbody tr th {\n",
       "        vertical-align: top;\n",
       "    }\n",
       "\n",
       "    .dataframe thead th {\n",
       "        text-align: right;\n",
       "    }\n",
       "</style>\n",
       "<table border=\"1\" class=\"dataframe\">\n",
       "  <thead>\n",
       "    <tr style=\"text-align: right;\">\n",
       "      <th></th>\n",
       "      <th>labels</th>\n",
       "      <th>tokenized</th>\n",
       "    </tr>\n",
       "  </thead>\n",
       "  <tbody>\n",
       "    <tr>\n",
       "      <th>0</th>\n",
       "      <td>0</td>\n",
       "      <td>[차, 병원, ·, 바이오, 그룹, ,, R, &amp;, D, ·, 영업, 마케팅, 경력...</td>\n",
       "    </tr>\n",
       "    <tr>\n",
       "      <th>1</th>\n",
       "      <td>0</td>\n",
       "      <td>[\", 매출, ,, 올해, 50, %·, 내년, 두, 배, ↑\"…, 마더, 스, 제...</td>\n",
       "    </tr>\n",
       "    <tr>\n",
       "      <th>6</th>\n",
       "      <td>0</td>\n",
       "      <td>[오늘, 은, ‘, 세계, 강아지, 의, 날, ’, “, 반려, 견, 건강, 챙겨,...</td>\n",
       "    </tr>\n",
       "    <tr>\n",
       "      <th>7</th>\n",
       "      <td>0</td>\n",
       "      <td>[펫, 의약품, 가파른, 성장세, …, 제약, ·, 바이오, 기업, 바빠졌, 다]</td>\n",
       "    </tr>\n",
       "    <tr>\n",
       "      <th>8</th>\n",
       "      <td>0</td>\n",
       "      <td>[안국, 약품, ,, CMG, 제약, 과, 고, 혈압, ·, 고지혈증, 복합제, '...</td>\n",
       "    </tr>\n",
       "    <tr>\n",
       "      <th>...</th>\n",
       "      <td>...</td>\n",
       "      <td>...</td>\n",
       "    </tr>\n",
       "    <tr>\n",
       "      <th>402</th>\n",
       "      <td>0</td>\n",
       "      <td>[정일문, 한국, 투자, 증권, 사장, ', 덕분, 에, 챌린지, ', 동참]</td>\n",
       "    </tr>\n",
       "    <tr>\n",
       "      <th>403</th>\n",
       "      <td>0</td>\n",
       "      <td>[휴, 온스, 메디케어, ,, IPO, 절차, 돌입, …, \", 내년, 코스닥, 상...</td>\n",
       "    </tr>\n",
       "    <tr>\n",
       "      <th>409</th>\n",
       "      <td>0</td>\n",
       "      <td>[휴, 온스, 메디케어, ,, 성남, 지식, 산업, 센터, 에, ', 새, 둥지, ']</td>\n",
       "    </tr>\n",
       "    <tr>\n",
       "      <th>410</th>\n",
       "      <td>0</td>\n",
       "      <td>[휴, 온스, 메디케어, ,, 성남, 지식, 산업, 센터, 에, ‘, 새, 둥지, ’]</td>\n",
       "    </tr>\n",
       "    <tr>\n",
       "      <th>411</th>\n",
       "      <td>0</td>\n",
       "      <td>[휴, 온스, 메디케어, ,, 부평, 공장, 성남, 이전, …, 생산, 시설, 최적화]</td>\n",
       "    </tr>\n",
       "  </tbody>\n",
       "</table>\n",
       "<p>22828 rows × 2 columns</p>\n",
       "</div>"
      ],
      "text/plain": [
       "     labels                                          tokenized\n",
       "0         0  [차, 병원, ·, 바이오, 그룹, ,, R, &, D, ·, 영업, 마케팅, 경력...\n",
       "1         0  [\", 매출, ,, 올해, 50, %·, 내년, 두, 배, ↑\"…, 마더, 스, 제...\n",
       "6         0  [오늘, 은, ‘, 세계, 강아지, 의, 날, ’, “, 반려, 견, 건강, 챙겨,...\n",
       "7         0      [펫, 의약품, 가파른, 성장세, …, 제약, ·, 바이오, 기업, 바빠졌, 다]\n",
       "8         0  [안국, 약품, ,, CMG, 제약, 과, 고, 혈압, ·, 고지혈증, 복합제, '...\n",
       "..      ...                                                ...\n",
       "402       0        [정일문, 한국, 투자, 증권, 사장, ', 덕분, 에, 챌린지, ', 동참]\n",
       "403       0  [휴, 온스, 메디케어, ,, IPO, 절차, 돌입, …, \", 내년, 코스닥, 상...\n",
       "409       0   [휴, 온스, 메디케어, ,, 성남, 지식, 산업, 센터, 에, ', 새, 둥지, ']\n",
       "410       0   [휴, 온스, 메디케어, ,, 성남, 지식, 산업, 센터, 에, ‘, 새, 둥지, ’]\n",
       "411       0   [휴, 온스, 메디케어, ,, 부평, 공장, 성남, 이전, …, 생산, 시설, 최적화]\n",
       "\n",
       "[22828 rows x 2 columns]"
      ]
     },
     "execution_count": 35,
     "metadata": {},
     "output_type": "execute_result"
    }
   ],
   "source": [
    "test_df[test_df['labels']==0]"
   ]
  },
  {
   "cell_type": "code",
   "execution_count": 38,
   "id": "5eb41b67-d5b7-40a8-b308-31f8734e5e28",
   "metadata": {
    "tags": []
   },
   "outputs": [
    {
     "data": {
      "text/html": [
       "<div>\n",
       "<style scoped>\n",
       "    .dataframe tbody tr th:only-of-type {\n",
       "        vertical-align: middle;\n",
       "    }\n",
       "\n",
       "    .dataframe tbody tr th {\n",
       "        vertical-align: top;\n",
       "    }\n",
       "\n",
       "    .dataframe thead th {\n",
       "        text-align: right;\n",
       "    }\n",
       "</style>\n",
       "<table border=\"1\" class=\"dataframe\">\n",
       "  <thead>\n",
       "    <tr style=\"text-align: right;\">\n",
       "      <th></th>\n",
       "      <th>labels</th>\n",
       "      <th>tokenized</th>\n",
       "    </tr>\n",
       "  </thead>\n",
       "  <tbody>\n",
       "  </tbody>\n",
       "</table>\n",
       "</div>"
      ],
      "text/plain": [
       "Empty DataFrame\n",
       "Columns: [labels, tokenized]\n",
       "Index: []"
      ]
     },
     "execution_count": 38,
     "metadata": {},
     "output_type": "execute_result"
    }
   ],
   "source": [
    "test_df[test_df['labels']==1]"
   ]
  }
 ],
 "metadata": {
  "kernelspec": {
   "display_name": "Python 3 (ipykernel)",
   "language": "python",
   "name": "python3"
  },
  "language_info": {
   "codemirror_mode": {
    "name": "ipython",
    "version": 3
   },
   "file_extension": ".py",
   "mimetype": "text/x-python",
   "name": "python",
   "nbconvert_exporter": "python",
   "pygments_lexer": "ipython3",
   "version": "3.8.8"
  }
 },
 "nbformat": 4,
 "nbformat_minor": 5
}
