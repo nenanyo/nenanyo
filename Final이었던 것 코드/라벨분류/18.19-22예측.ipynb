{
 "cells": [
  {
   "cell_type": "code",
   "execution_count": 1,
   "id": "31a331aa-0e67-43c1-a4d3-6689af0fe18c",
   "metadata": {
    "id": "Qww_V4GzhgoS",
    "tags": []
   },
   "outputs": [],
   "source": [
    "import pandas as pd\n",
    "import numpy as np\n",
    "import matplotlib.pyplot as plt\n",
    "from sklearn.model_selection import train_test_split\n",
    "import re\n",
    "import urllib.request\n",
    "import mecab\n",
    "from tqdm import tqdm\n",
    "from tensorflow.keras.preprocessing.text import Tokenizer\n",
    "from tensorflow.keras.preprocessing.sequence import pad_sequences\n",
    "import tensorflow as tf\n",
    "from tensorflow.keras.layers import Embedding, Dense, LSTM\n",
    "from tensorflow.keras.models import Sequential\n",
    "from tensorflow.keras.models import load_model\n",
    "from tensorflow.keras.utils import to_categorical\n",
    "from tensorflow.keras.callbacks import EarlyStopping, ModelCheckpoint\n",
    "import warnings\n",
    "warnings.filterwarnings(action='ignore')"
   ]
  },
  {
   "cell_type": "markdown",
   "id": "cce7f178-14e8-4451-9394-248e9dee8913",
   "metadata": {},
   "source": [
    "# 데이터 로드"
   ]
  },
  {
   "cell_type": "code",
   "execution_count": 2,
   "id": "108b5367-62fa-4a9b-a5e8-546afa9a890d",
   "metadata": {
    "tags": []
   },
   "outputs": [],
   "source": [
    "path = '../데이터/기업별_뉴스/~0-126(2018-2022)'"
   ]
  },
  {
   "cell_type": "code",
   "execution_count": 3,
   "id": "bf43bd4e-2ee4-4d00-94c0-fde7923788a7",
   "metadata": {
    "tags": []
   },
   "outputs": [],
   "source": [
    "import os\n",
    "filelist = os.listdir(path)"
   ]
  },
  {
   "cell_type": "code",
   "execution_count": 4,
   "id": "9f4bdaeb-9872-472d-9612-3163b07b7457",
   "metadata": {
    "tags": []
   },
   "outputs": [
    {
     "data": {
      "text/plain": [
       "['DeepSearch-CMG제약-news-2018-01-01-2018-12-31-20230601-191902.xlsx',\n",
       " 'DeepSearch-CMG제약-news-2019-01-01-2019-12-31-20230601-192349.xlsx',\n",
       " 'DeepSearch-CMG제약-news-2020-01-01-2020-12-31-20230601-192831.xlsx',\n",
       " 'DeepSearch-CMG제약-news-2021-01-01-2021-12-31-20230601-193311.xlsx',\n",
       " 'DeepSearch-CMG제약-news-2022-01-01-2022-12-31-20230601-193756.xlsx']"
      ]
     },
     "execution_count": 4,
     "metadata": {},
     "output_type": "execute_result"
    }
   ],
   "source": [
    "filelist[:5]"
   ]
  },
  {
   "cell_type": "code",
   "execution_count": 5,
   "id": "7327e9bb-2a99-4689-be9f-bd4a3ade24e8",
   "metadata": {
    "tags": []
   },
   "outputs": [],
   "source": [
    "filelist1 = []\n",
    "for file in filelist:\n",
    "    if '2018-01-01-2018-12-31' not in file:\n",
    "        filelist1.append(file)"
   ]
  },
  {
   "cell_type": "code",
   "execution_count": 6,
   "id": "981bb74e-3d25-4efe-a324-486916385879",
   "metadata": {
    "tags": []
   },
   "outputs": [
    {
     "data": {
      "text/plain": [
       "['DeepSearch-CMG제약-news-2019-01-01-2019-12-31-20230601-192349.xlsx',\n",
       " 'DeepSearch-CMG제약-news-2020-01-01-2020-12-31-20230601-192831.xlsx',\n",
       " 'DeepSearch-CMG제약-news-2021-01-01-2021-12-31-20230601-193311.xlsx',\n",
       " 'DeepSearch-CMG제약-news-2022-01-01-2022-12-31-20230601-193756.xlsx',\n",
       " 'DeepSearch-HLB-news-2019-01-01-2019-12-31-20230601-194725.xlsx']"
      ]
     },
     "execution_count": 6,
     "metadata": {},
     "output_type": "execute_result"
    }
   ],
   "source": [
    "filelist1[:5]"
   ]
  },
  {
   "cell_type": "code",
   "execution_count": 7,
   "id": "89bf1fe4-eb38-46bb-81ba-b0688c075577",
   "metadata": {
    "tags": []
   },
   "outputs": [],
   "source": [
    "df22 = []\n",
    "for name in filelist1:\n",
    "    df = pd.read_excel(f'../데이터/기업별_뉴스/~0-126(2018-2022)/{name}',sheet_name = '#02 Documents')\n",
    "    df['corp'] = f'{name}'\n",
    "    df22.append(df)"
   ]
  },
  {
   "cell_type": "code",
   "execution_count": 8,
   "id": "cec19688-52ce-46a2-97f5-3a7fc310adff",
   "metadata": {
    "tags": []
   },
   "outputs": [
    {
     "data": {
      "text/html": [
       "<div>\n",
       "<style scoped>\n",
       "    .dataframe tbody tr th:only-of-type {\n",
       "        vertical-align: middle;\n",
       "    }\n",
       "\n",
       "    .dataframe tbody tr th {\n",
       "        vertical-align: top;\n",
       "    }\n",
       "\n",
       "    .dataframe thead th {\n",
       "        text-align: right;\n",
       "    }\n",
       "</style>\n",
       "<table border=\"1\" class=\"dataframe\">\n",
       "  <thead>\n",
       "    <tr style=\"text-align: right;\">\n",
       "      <th></th>\n",
       "      <th>date</th>\n",
       "      <th>category</th>\n",
       "      <th>section</th>\n",
       "      <th>publisher</th>\n",
       "      <th>author</th>\n",
       "      <th>title</th>\n",
       "      <th>content_url</th>\n",
       "      <th>attachment</th>\n",
       "      <th>industry.label</th>\n",
       "      <th>industry.score</th>\n",
       "      <th>industry.name</th>\n",
       "      <th>polarity.label</th>\n",
       "      <th>polarity.score</th>\n",
       "      <th>polarity.name</th>\n",
       "      <th>corp</th>\n",
       "    </tr>\n",
       "  </thead>\n",
       "  <tbody>\n",
       "    <tr>\n",
       "      <th>0</th>\n",
       "      <td>2019-12-31</td>\n",
       "      <td>news</td>\n",
       "      <td>economy</td>\n",
       "      <td>머니S</td>\n",
       "      <td>한아름</td>\n",
       "      <td>\"내가 제일 잘나가\"… 브랜드 평판 가장 높은 제약사는?</td>\n",
       "      <td>NaN</td>\n",
       "      <td>NaN</td>\n",
       "      <td>C21</td>\n",
       "      <td>1.0</td>\n",
       "      <td>의료용 물질 및 의약품 제조업</td>\n",
       "      <td>NaN</td>\n",
       "      <td>NaN</td>\n",
       "      <td>NaN</td>\n",
       "      <td>DeepSearch-CMG제약-news-2019-01-01-2019-12-31-20...</td>\n",
       "    </tr>\n",
       "    <tr>\n",
       "      <th>1</th>\n",
       "      <td>2019-12-30</td>\n",
       "      <td>news</td>\n",
       "      <td>economy</td>\n",
       "      <td>한국경제TV</td>\n",
       "      <td>라이온봇</td>\n",
       "      <td>YG PLUS, 주가 반등 현재는 +9.3%... 이 시각 50만3383주 거래</td>\n",
       "      <td>NaN</td>\n",
       "      <td>NaN</td>\n",
       "      <td>M71</td>\n",
       "      <td>1.0</td>\n",
       "      <td>전문 서비스업</td>\n",
       "      <td>1.0</td>\n",
       "      <td>0.9</td>\n",
       "      <td>긍정</td>\n",
       "      <td>DeepSearch-CMG제약-news-2019-01-01-2019-12-31-20...</td>\n",
       "    </tr>\n",
       "  </tbody>\n",
       "</table>\n",
       "</div>"
      ],
      "text/plain": [
       "         date category  section publisher author  \\\n",
       "0  2019-12-31     news  economy       머니S    한아름   \n",
       "1  2019-12-30     news  economy    한국경제TV   라이온봇   \n",
       "\n",
       "                                          title  content_url  attachment  \\\n",
       "0               \"내가 제일 잘나가\"… 브랜드 평판 가장 높은 제약사는?          NaN         NaN   \n",
       "1  YG PLUS, 주가 반등 현재는 +9.3%... 이 시각 50만3383주 거래          NaN         NaN   \n",
       "\n",
       "  industry.label  industry.score     industry.name  polarity.label  \\\n",
       "0            C21             1.0  의료용 물질 및 의약품 제조업             NaN   \n",
       "1            M71             1.0           전문 서비스업             1.0   \n",
       "\n",
       "   polarity.score polarity.name  \\\n",
       "0             NaN           NaN   \n",
       "1             0.9            긍정   \n",
       "\n",
       "                                                corp  \n",
       "0  DeepSearch-CMG제약-news-2019-01-01-2019-12-31-20...  \n",
       "1  DeepSearch-CMG제약-news-2019-01-01-2019-12-31-20...  "
      ]
     },
     "execution_count": 8,
     "metadata": {},
     "output_type": "execute_result"
    }
   ],
   "source": [
    "df22[0].head(2)"
   ]
  },
  {
   "cell_type": "code",
   "execution_count": 9,
   "id": "146ca80e-1ddd-48b9-95dd-17a98dfc27f4",
   "metadata": {
    "tags": []
   },
   "outputs": [],
   "source": [
    "label_O=[]\n",
    "label_X=[]\n",
    "for df in df22:\n",
    "    label_O.append(df[df['polarity.label'].notna()])\n",
    "    label_X.append(df[df['polarity.label'].isna()])\n",
    "    "
   ]
  },
  {
   "cell_type": "code",
   "execution_count": 10,
   "id": "266a1a34-a8e4-452e-bf24-7a69835b25e7",
   "metadata": {
    "tags": []
   },
   "outputs": [],
   "source": [
    "label_O = pd.concat(label_O)"
   ]
  },
  {
   "cell_type": "code",
   "execution_count": 11,
   "id": "b4ecfab3-8e4a-4d82-990c-163f3b32826b",
   "metadata": {
    "tags": []
   },
   "outputs": [],
   "source": [
    "label_X = pd.concat(label_X)"
   ]
  },
  {
   "cell_type": "code",
   "execution_count": 12,
   "id": "1bcdaeea-465f-447f-a0bf-1146e33f13d4",
   "metadata": {
    "tags": []
   },
   "outputs": [
    {
     "data": {
      "text/html": [
       "<div>\n",
       "<style scoped>\n",
       "    .dataframe tbody tr th:only-of-type {\n",
       "        vertical-align: middle;\n",
       "    }\n",
       "\n",
       "    .dataframe tbody tr th {\n",
       "        vertical-align: top;\n",
       "    }\n",
       "\n",
       "    .dataframe thead th {\n",
       "        text-align: right;\n",
       "    }\n",
       "</style>\n",
       "<table border=\"1\" class=\"dataframe\">\n",
       "  <thead>\n",
       "    <tr style=\"text-align: right;\">\n",
       "      <th></th>\n",
       "      <th>date</th>\n",
       "      <th>category</th>\n",
       "      <th>section</th>\n",
       "      <th>publisher</th>\n",
       "      <th>author</th>\n",
       "      <th>title</th>\n",
       "      <th>content_url</th>\n",
       "      <th>attachment</th>\n",
       "      <th>industry.label</th>\n",
       "      <th>industry.score</th>\n",
       "      <th>industry.name</th>\n",
       "      <th>polarity.label</th>\n",
       "      <th>polarity.score</th>\n",
       "      <th>polarity.name</th>\n",
       "      <th>corp</th>\n",
       "    </tr>\n",
       "  </thead>\n",
       "  <tbody>\n",
       "    <tr>\n",
       "      <th>0</th>\n",
       "      <td>2019-12-31</td>\n",
       "      <td>news</td>\n",
       "      <td>economy</td>\n",
       "      <td>머니S</td>\n",
       "      <td>한아름</td>\n",
       "      <td>\"내가 제일 잘나가\"… 브랜드 평판 가장 높은 제약사는?</td>\n",
       "      <td>NaN</td>\n",
       "      <td>NaN</td>\n",
       "      <td>C21</td>\n",
       "      <td>1.000</td>\n",
       "      <td>의료용 물질 및 의약품 제조업</td>\n",
       "      <td>NaN</td>\n",
       "      <td>NaN</td>\n",
       "      <td>NaN</td>\n",
       "      <td>DeepSearch-CMG제약-news-2019-01-01-2019-12-31-20...</td>\n",
       "    </tr>\n",
       "    <tr>\n",
       "      <th>2</th>\n",
       "      <td>2019-12-18</td>\n",
       "      <td>news</td>\n",
       "      <td>economy</td>\n",
       "      <td>한국경제</td>\n",
       "      <td>NaN</td>\n",
       "      <td>18일, 코스닥 외국인 순매도상위에 반도체 업종 5종목</td>\n",
       "      <td>NaN</td>\n",
       "      <td>NaN</td>\n",
       "      <td>C21</td>\n",
       "      <td>0.757</td>\n",
       "      <td>의료용 물질 및 의약품 제조업</td>\n",
       "      <td>NaN</td>\n",
       "      <td>NaN</td>\n",
       "      <td>NaN</td>\n",
       "      <td>DeepSearch-CMG제약-news-2019-01-01-2019-12-31-20...</td>\n",
       "    </tr>\n",
       "  </tbody>\n",
       "</table>\n",
       "</div>"
      ],
      "text/plain": [
       "         date category  section publisher author  \\\n",
       "0  2019-12-31     news  economy       머니S    한아름   \n",
       "2  2019-12-18     news  economy      한국경제    NaN   \n",
       "\n",
       "                             title  content_url  attachment industry.label  \\\n",
       "0  \"내가 제일 잘나가\"… 브랜드 평판 가장 높은 제약사는?          NaN         NaN            C21   \n",
       "2   18일, 코스닥 외국인 순매도상위에 반도체 업종 5종목          NaN         NaN            C21   \n",
       "\n",
       "   industry.score     industry.name  polarity.label  polarity.score  \\\n",
       "0           1.000  의료용 물질 및 의약품 제조업             NaN             NaN   \n",
       "2           0.757  의료용 물질 및 의약품 제조업             NaN             NaN   \n",
       "\n",
       "  polarity.name                                               corp  \n",
       "0           NaN  DeepSearch-CMG제약-news-2019-01-01-2019-12-31-20...  \n",
       "2           NaN  DeepSearch-CMG제약-news-2019-01-01-2019-12-31-20...  "
      ]
     },
     "execution_count": 12,
     "metadata": {},
     "output_type": "execute_result"
    }
   ],
   "source": [
    "label_X[:2]"
   ]
  },
  {
   "cell_type": "markdown",
   "id": "d58c7361-b346-44ec-8d94-b4b3211c6e13",
   "metadata": {},
   "source": [
    "# 전처리"
   ]
  },
  {
   "cell_type": "code",
   "execution_count": 13,
   "id": "58a3f998-e41d-4995-b951-75123827cb75",
   "metadata": {
    "tags": []
   },
   "outputs": [],
   "source": [
    "mecab =mecab.MeCab()"
   ]
  },
  {
   "cell_type": "code",
   "execution_count": 14,
   "id": "d0fef6fa-5c1e-40b3-a944-e2fd3682f4ea",
   "metadata": {
    "tags": []
   },
   "outputs": [],
   "source": [
    "stop_word = pd.read_csv('./stop_word_2.csv')"
   ]
  },
  {
   "cell_type": "code",
   "execution_count": 15,
   "id": "f31225d7-f35a-4b7b-a065-31e20411cd5a",
   "metadata": {
    "tags": []
   },
   "outputs": [],
   "source": [
    "label_X['tokenized'] = label_X['title'].apply(mecab.morphs)"
   ]
  },
  {
   "cell_type": "code",
   "execution_count": 16,
   "id": "2f1ba047-2a03-4f24-9cfa-1bef0e91dbbf",
   "metadata": {
    "tags": []
   },
   "outputs": [],
   "source": [
    "del_stopword = []\n",
    "for row in label_X['tokenized']:\n",
    "    tmp =[]\n",
    "    for word in row:\n",
    "        if word not in stop_word:\n",
    "            tmp.append(word)\n",
    "    del_stopword.append(tmp)"
   ]
  },
  {
   "cell_type": "code",
   "execution_count": 17,
   "id": "4fcc20a7-d200-44b8-b8f5-5a9afc25cf0a",
   "metadata": {
    "tags": []
   },
   "outputs": [],
   "source": [
    "label_X['del_stopword'] = del_stopword"
   ]
  },
  {
   "cell_type": "code",
   "execution_count": 18,
   "id": "ff0290c6-0adf-4f58-93b4-231336f48d11",
   "metadata": {
    "tags": []
   },
   "outputs": [],
   "source": [
    "X_train=pd.read_csv('./final_X_train.csv')"
   ]
  },
  {
   "cell_type": "code",
   "execution_count": 19,
   "id": "04701d4c-5669-4ef8-b79a-24658d0bc37e",
   "metadata": {
    "tags": []
   },
   "outputs": [],
   "source": [
    "tokenizer = Tokenizer()\n",
    "tokenizer.fit_on_texts(X_train)"
   ]
  },
  {
   "cell_type": "code",
   "execution_count": 20,
   "id": "6d3a748c-f50f-4eb4-94e0-96566d5954d2",
   "metadata": {
    "tags": []
   },
   "outputs": [],
   "source": [
    "x=label_X['del_stopword']"
   ]
  },
  {
   "cell_type": "code",
   "execution_count": 21,
   "id": "4c863a91-a478-4def-8b42-13979b2cfa50",
   "metadata": {
    "tags": []
   },
   "outputs": [],
   "source": [
    "X_encoded = tokenizer.texts_to_sequences(x)"
   ]
  },
  {
   "cell_type": "code",
   "execution_count": 22,
   "id": "fa209486-3683-4662-9ab2-662babaa887d",
   "metadata": {
    "tags": []
   },
   "outputs": [],
   "source": [
    "max_len=77"
   ]
  },
  {
   "cell_type": "code",
   "execution_count": 23,
   "id": "efdf5d4f-6070-4805-a2e8-1632a25cea62",
   "metadata": {
    "id": "DO-ypzo6lmuu"
   },
   "outputs": [],
   "source": [
    "X_encoded = pad_sequences(X_encoded, maxlen=max_len)"
   ]
  },
  {
   "cell_type": "code",
   "execution_count": 24,
   "id": "f57a7b7b-b28c-4790-b475-18d922f378a0",
   "metadata": {
    "tags": []
   },
   "outputs": [],
   "source": [
    "# label_X[:2]"
   ]
  },
  {
   "cell_type": "markdown",
   "id": "d7628f0a-9249-4dcf-9800-119bd1c267cc",
   "metadata": {},
   "source": [
    "# 모델"
   ]
  },
  {
   "cell_type": "code",
   "execution_count": 25,
   "id": "4e081561-35e2-4826-99d0-f5b73bc4fc63",
   "metadata": {},
   "outputs": [],
   "source": [
    "from tensorflow.keras.models import load_model"
   ]
  },
  {
   "cell_type": "code",
   "execution_count": 27,
   "id": "1d748041-fc00-4cbd-b4de-9b0a488b69c7",
   "metadata": {
    "tags": []
   },
   "outputs": [],
   "source": [
    "model=tf.keras.models.load_model(\n",
    "    './NLP/best_model_1018_labelbal.h5')"
   ]
  },
  {
   "cell_type": "code",
   "execution_count": 28,
   "id": "21804883-e4ea-4cb9-8b8d-2caa890a491f",
   "metadata": {
    "tags": []
   },
   "outputs": [
    {
     "name": "stdout",
     "output_type": "stream",
     "text": [
      "1335/1335 [==============================] - 11s 8ms/step\n"
     ]
    }
   ],
   "source": [
    "pred = model.predict(X_encoded)"
   ]
  },
  {
   "cell_type": "code",
   "execution_count": 29,
   "id": "31831faa-d86e-444a-bb08-8abfbc7e8fa5",
   "metadata": {
    "tags": []
   },
   "outputs": [],
   "source": [
    "label = np.argmax(pred,axis=1)"
   ]
  },
  {
   "cell_type": "code",
   "execution_count": 30,
   "id": "518ced4a-0a56-48f7-a22e-29312822ccda",
   "metadata": {
    "tags": []
   },
   "outputs": [],
   "source": [
    "label_X['polarity.label'] = label"
   ]
  },
  {
   "cell_type": "code",
   "execution_count": 33,
   "id": "06026bec-c862-41f1-b446-0c78e97bb830",
   "metadata": {
    "tags": []
   },
   "outputs": [
    {
     "data": {
      "text/html": [
       "<div>\n",
       "<style scoped>\n",
       "    .dataframe tbody tr th:only-of-type {\n",
       "        vertical-align: middle;\n",
       "    }\n",
       "\n",
       "    .dataframe tbody tr th {\n",
       "        vertical-align: top;\n",
       "    }\n",
       "\n",
       "    .dataframe thead th {\n",
       "        text-align: right;\n",
       "    }\n",
       "</style>\n",
       "<table border=\"1\" class=\"dataframe\">\n",
       "  <thead>\n",
       "    <tr style=\"text-align: right;\">\n",
       "      <th></th>\n",
       "      <th>date</th>\n",
       "      <th>category</th>\n",
       "      <th>section</th>\n",
       "      <th>publisher</th>\n",
       "      <th>author</th>\n",
       "      <th>title</th>\n",
       "      <th>content_url</th>\n",
       "      <th>attachment</th>\n",
       "      <th>industry.label</th>\n",
       "      <th>industry.score</th>\n",
       "      <th>industry.name</th>\n",
       "      <th>polarity.label</th>\n",
       "      <th>polarity.score</th>\n",
       "      <th>polarity.name</th>\n",
       "      <th>corp</th>\n",
       "      <th>tokenized</th>\n",
       "      <th>del_stopword</th>\n",
       "    </tr>\n",
       "  </thead>\n",
       "  <tbody>\n",
       "    <tr>\n",
       "      <th>0</th>\n",
       "      <td>2019-12-31</td>\n",
       "      <td>news</td>\n",
       "      <td>economy</td>\n",
       "      <td>머니S</td>\n",
       "      <td>한아름</td>\n",
       "      <td>\"내가 제일 잘나가\"… 브랜드 평판 가장 높은 제약사는?</td>\n",
       "      <td>NaN</td>\n",
       "      <td>NaN</td>\n",
       "      <td>C21</td>\n",
       "      <td>1.000</td>\n",
       "      <td>의료용 물질 및 의약품 제조업</td>\n",
       "      <td>2</td>\n",
       "      <td>NaN</td>\n",
       "      <td>NaN</td>\n",
       "      <td>DeepSearch-CMG제약-news-2019-01-01-2019-12-31-20...</td>\n",
       "      <td>[\", 내, 가, 제일, 잘, 나, 가, \"…, 브랜드, 평판, 가장, 높, 은, ...</td>\n",
       "      <td>[\", 내, 가, 제일, 잘, 나, 가, \"…, 브랜드, 평판, 가장, 높, 은, ...</td>\n",
       "    </tr>\n",
       "    <tr>\n",
       "      <th>2</th>\n",
       "      <td>2019-12-18</td>\n",
       "      <td>news</td>\n",
       "      <td>economy</td>\n",
       "      <td>한국경제</td>\n",
       "      <td>NaN</td>\n",
       "      <td>18일, 코스닥 외국인 순매도상위에 반도체 업종 5종목</td>\n",
       "      <td>NaN</td>\n",
       "      <td>NaN</td>\n",
       "      <td>C21</td>\n",
       "      <td>0.757</td>\n",
       "      <td>의료용 물질 및 의약품 제조업</td>\n",
       "      <td>2</td>\n",
       "      <td>NaN</td>\n",
       "      <td>NaN</td>\n",
       "      <td>DeepSearch-CMG제약-news-2019-01-01-2019-12-31-20...</td>\n",
       "      <td>[18, 일, ,, 코스닥, 외국인, 순매도, 상, 위, 에, 반도체, 업종, 5,...</td>\n",
       "      <td>[18, 일, ,, 코스닥, 외국인, 순매도, 상, 위, 에, 반도체, 업종, 5,...</td>\n",
       "    </tr>\n",
       "  </tbody>\n",
       "</table>\n",
       "</div>"
      ],
      "text/plain": [
       "         date category  section publisher author  \\\n",
       "0  2019-12-31     news  economy       머니S    한아름   \n",
       "2  2019-12-18     news  economy      한국경제    NaN   \n",
       "\n",
       "                             title  content_url  attachment industry.label  \\\n",
       "0  \"내가 제일 잘나가\"… 브랜드 평판 가장 높은 제약사는?          NaN         NaN            C21   \n",
       "2   18일, 코스닥 외국인 순매도상위에 반도체 업종 5종목          NaN         NaN            C21   \n",
       "\n",
       "   industry.score     industry.name  polarity.label  polarity.score  \\\n",
       "0           1.000  의료용 물질 및 의약품 제조업               2             NaN   \n",
       "2           0.757  의료용 물질 및 의약품 제조업               2             NaN   \n",
       "\n",
       "  polarity.name                                               corp  \\\n",
       "0           NaN  DeepSearch-CMG제약-news-2019-01-01-2019-12-31-20...   \n",
       "2           NaN  DeepSearch-CMG제약-news-2019-01-01-2019-12-31-20...   \n",
       "\n",
       "                                           tokenized  \\\n",
       "0  [\", 내, 가, 제일, 잘, 나, 가, \"…, 브랜드, 평판, 가장, 높, 은, ...   \n",
       "2  [18, 일, ,, 코스닥, 외국인, 순매도, 상, 위, 에, 반도체, 업종, 5,...   \n",
       "\n",
       "                                        del_stopword  \n",
       "0  [\", 내, 가, 제일, 잘, 나, 가, \"…, 브랜드, 평판, 가장, 높, 은, ...  \n",
       "2  [18, 일, ,, 코스닥, 외국인, 순매도, 상, 위, 에, 반도체, 업종, 5,...  "
      ]
     },
     "execution_count": 33,
     "metadata": {},
     "output_type": "execute_result"
    }
   ],
   "source": [
    "label_X[:2]"
   ]
  },
  {
   "cell_type": "code",
   "execution_count": null,
   "id": "89954c33-113a-46e3-8484-7d0c29225942",
   "metadata": {},
   "outputs": [],
   "source": [
    "ㄹㅇㄹ"
   ]
  },
  {
   "cell_type": "code",
   "execution_count": 34,
   "id": "51464b51-f8c2-4d28-acc4-9c6c49dde9f0",
   "metadata": {
    "tags": []
   },
   "outputs": [],
   "source": [
    "df1922 = pd.concat([label_O,label_X])"
   ]
  },
  {
   "cell_type": "code",
   "execution_count": 35,
   "id": "baa8a769-084b-4307-ae24-a83d3d18fac0",
   "metadata": {
    "tags": []
   },
   "outputs": [],
   "source": [
    "df1922.to_csv('./labelO_1922.csv', index=False)"
   ]
  }
 ],
 "metadata": {
  "kernelspec": {
   "display_name": "Python 3 (ipykernel)",
   "language": "python",
   "name": "python3"
  },
  "language_info": {
   "codemirror_mode": {
    "name": "ipython",
    "version": 3
   },
   "file_extension": ".py",
   "mimetype": "text/x-python",
   "name": "python",
   "nbconvert_exporter": "python",
   "pygments_lexer": "ipython3",
   "version": "3.8.8"
  }
 },
 "nbformat": 4,
 "nbformat_minor": 5
}
