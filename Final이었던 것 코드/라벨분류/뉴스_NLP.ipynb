{
 "cells": [
  {
   "cell_type": "code",
   "execution_count": null,
   "id": "6db3eee4-5e52-4409-82b1-9a9f17ccd36b",
   "metadata": {},
   "outputs": [],
   "source": []
  },
  {
   "cell_type": "code",
   "execution_count": 1,
   "id": "b098427b-fca4-4e51-bb73-1d2d5a977d0b",
   "metadata": {
    "id": "Qww_V4GzhgoS"
   },
   "outputs": [],
   "source": [
    "import pandas as pd\n",
    "import numpy as np\n",
    "import matplotlib.pyplot as plt\n",
    "from sklearn.model_selection import train_test_split\n",
    "import re\n",
    "import urllib.request\n",
    "import mecab\n",
    "from tqdm import tqdm\n",
    "from tensorflow.keras.preprocessing.text import Tokenizer\n",
    "from tensorflow.keras.preprocessing.sequence import pad_sequences\n",
    "import tensorflow as tf\n",
    "from tensorflow.keras.layers import Embedding, Dense, LSTM\n",
    "from tensorflow.keras.models import Sequential\n",
    "from tensorflow.keras.models import load_model\n",
    "from tensorflow.keras.utils import to_categorical\n",
    "from tensorflow.keras.callbacks import EarlyStopping, ModelCheckpoint"
   ]
  },
  {
   "cell_type": "markdown",
   "id": "2bad532c-d9ca-44b7-860a-f2c6dc60417d",
   "metadata": {
    "tags": []
   },
   "source": [
    "# 데이터 로드"
   ]
  },
  {
   "cell_type": "code",
   "execution_count": 2,
   "id": "56a746ce-f93a-45a9-941c-1f166efd80f3",
   "metadata": {},
   "outputs": [],
   "source": [
    "path = '../아림경영/데이터/기업별 뉴스'"
   ]
  },
  {
   "cell_type": "code",
   "execution_count": 3,
   "id": "97d9662a-726e-4814-a9bf-6a0c6a8e0bf5",
   "metadata": {
    "tags": []
   },
   "outputs": [
    {
     "data": {
      "text/html": [
       "<div>\n",
       "<style scoped>\n",
       "    .dataframe tbody tr th:only-of-type {\n",
       "        vertical-align: middle;\n",
       "    }\n",
       "\n",
       "    .dataframe tbody tr th {\n",
       "        vertical-align: top;\n",
       "    }\n",
       "\n",
       "    .dataframe thead th {\n",
       "        text-align: right;\n",
       "    }\n",
       "</style>\n",
       "<table border=\"1\" class=\"dataframe\">\n",
       "  <thead>\n",
       "    <tr style=\"text-align: right;\">\n",
       "      <th></th>\n",
       "      <th>date</th>\n",
       "      <th>category</th>\n",
       "      <th>section</th>\n",
       "      <th>publisher</th>\n",
       "      <th>author</th>\n",
       "      <th>title</th>\n",
       "      <th>content_url</th>\n",
       "      <th>attachment</th>\n",
       "      <th>industry.label</th>\n",
       "      <th>industry.score</th>\n",
       "      <th>industry.name</th>\n",
       "      <th>polarity.label</th>\n",
       "      <th>polarity.score</th>\n",
       "      <th>polarity.name</th>\n",
       "    </tr>\n",
       "  </thead>\n",
       "  <tbody>\n",
       "    <tr>\n",
       "      <th>0</th>\n",
       "      <td>2023-05-22</td>\n",
       "      <td>news</td>\n",
       "      <td>economy</td>\n",
       "      <td>조선비즈</td>\n",
       "      <td>NaN</td>\n",
       "      <td>차병원·바이오그룹, R&amp;D·영업마케팅 경력 공개 채용</td>\n",
       "      <td>NaN</td>\n",
       "      <td>NaN</td>\n",
       "      <td>C21</td>\n",
       "      <td>0.969</td>\n",
       "      <td>의료용 물질 및 의약품 제조업</td>\n",
       "      <td>NaN</td>\n",
       "      <td>NaN</td>\n",
       "      <td>NaN</td>\n",
       "    </tr>\n",
       "  </tbody>\n",
       "</table>\n",
       "</div>"
      ],
      "text/plain": [
       "         date category  section publisher author  \\\n",
       "0  2023-05-22     news  economy      조선비즈    NaN   \n",
       "\n",
       "                           title  content_url  attachment industry.label  \\\n",
       "0  차병원·바이오그룹, R&D·영업마케팅 경력 공개 채용          NaN         NaN            C21   \n",
       "\n",
       "   industry.score     industry.name  polarity.label  polarity.score  \\\n",
       "0           0.969  의료용 물질 및 의약품 제조업             NaN             NaN   \n",
       "\n",
       "  polarity.name  \n",
       "0           NaN  "
      ]
     },
     "execution_count": 3,
     "metadata": {},
     "output_type": "execute_result"
    }
   ],
   "source": [
    "df = pd.read_excel('../데이터/기업별 뉴스/CMG제약.xlsx',   sheet_name='#02 Documents')\n",
    "df.head(1)"
   ]
  },
  {
   "cell_type": "code",
   "execution_count": 4,
   "id": "350ba0dc-cad4-4a8c-8025-827fd002af16",
   "metadata": {
    "tags": []
   },
   "outputs": [
    {
     "data": {
      "text/html": [
       "<div>\n",
       "<style scoped>\n",
       "    .dataframe tbody tr th:only-of-type {\n",
       "        vertical-align: middle;\n",
       "    }\n",
       "\n",
       "    .dataframe tbody tr th {\n",
       "        vertical-align: top;\n",
       "    }\n",
       "\n",
       "    .dataframe thead th {\n",
       "        text-align: right;\n",
       "    }\n",
       "</style>\n",
       "<table border=\"1\" class=\"dataframe\">\n",
       "  <thead>\n",
       "    <tr style=\"text-align: right;\">\n",
       "      <th></th>\n",
       "      <th>date</th>\n",
       "      <th>title</th>\n",
       "      <th>polarity.label</th>\n",
       "    </tr>\n",
       "  </thead>\n",
       "  <tbody>\n",
       "    <tr>\n",
       "      <th>0</th>\n",
       "      <td>2023-05-22</td>\n",
       "      <td>차병원·바이오그룹, R&amp;D·영업마케팅 경력 공개 채용</td>\n",
       "      <td>NaN</td>\n",
       "    </tr>\n",
       "  </tbody>\n",
       "</table>\n",
       "</div>"
      ],
      "text/plain": [
       "         date                          title  polarity.label\n",
       "0  2023-05-22  차병원·바이오그룹, R&D·영업마케팅 경력 공개 채용             NaN"
      ]
     },
     "execution_count": 4,
     "metadata": {},
     "output_type": "execute_result"
    }
   ],
   "source": [
    "df = df[['date','title','polarity.label']]\n",
    "df.head(1)\n"
   ]
  },
  {
   "cell_type": "markdown",
   "id": "88f38698-26c7-4a88-ac75-f6e47bd49fa4",
   "metadata": {
    "tags": []
   },
   "source": [
    "# 데이터 라벨 값 변환"
   ]
  },
  {
   "cell_type": "code",
   "execution_count": 5,
   "id": "10bbbdce-fb21-4a46-b069-aeca58f51a1f",
   "metadata": {
    "tags": []
   },
   "outputs": [],
   "source": [
    "df['polarity.label'] = df['polarity.label'].replace(-1,2)"
   ]
  },
  {
   "cell_type": "code",
   "execution_count": 6,
   "id": "c1cd127b-9120-4c67-a075-bc9c3feb7e1a",
   "metadata": {
    "tags": []
   },
   "outputs": [
    {
     "data": {
      "text/plain": [
       "array([nan,  1.,  0.,  2.])"
      ]
     },
     "execution_count": 6,
     "metadata": {},
     "output_type": "execute_result"
    }
   ],
   "source": [
    "df['polarity.label'].unique()"
   ]
  },
  {
   "cell_type": "markdown",
   "id": "d51a1f79-d6fd-4a39-86b6-d2a9795a678e",
   "metadata": {
    "tags": []
   },
   "source": [
    "# 중복값 확인"
   ]
  },
  {
   "cell_type": "code",
   "execution_count": 7,
   "id": "952a4b6a-1e8f-45e5-aba4-a8af3eb1e79e",
   "metadata": {
    "tags": []
   },
   "outputs": [
    {
     "data": {
      "text/html": [
       "<div>\n",
       "<style scoped>\n",
       "    .dataframe tbody tr th:only-of-type {\n",
       "        vertical-align: middle;\n",
       "    }\n",
       "\n",
       "    .dataframe tbody tr th {\n",
       "        vertical-align: top;\n",
       "    }\n",
       "\n",
       "    .dataframe thead th {\n",
       "        text-align: right;\n",
       "    }\n",
       "</style>\n",
       "<table border=\"1\" class=\"dataframe\">\n",
       "  <thead>\n",
       "    <tr style=\"text-align: right;\">\n",
       "      <th></th>\n",
       "      <th>date</th>\n",
       "      <th>title</th>\n",
       "      <th>polarity.label</th>\n",
       "    </tr>\n",
       "  </thead>\n",
       "  <tbody>\n",
       "  </tbody>\n",
       "</table>\n",
       "</div>"
      ],
      "text/plain": [
       "Empty DataFrame\n",
       "Columns: [date, title, polarity.label]\n",
       "Index: []"
      ]
     },
     "execution_count": 7,
     "metadata": {},
     "output_type": "execute_result"
    }
   ],
   "source": [
    "duplicate = df[df.duplicated()]\n",
    "duplicate"
   ]
  },
  {
   "cell_type": "code",
   "execution_count": 8,
   "id": "88ec213e-97a6-422c-8588-149787da7b84",
   "metadata": {
    "tags": []
   },
   "outputs": [],
   "source": [
    "# polarity.label  = [긍정,중립,부정]\n",
    "# polarity.name   = [1,0,2]"
   ]
  },
  {
   "cell_type": "code",
   "execution_count": 9,
   "id": "177a0d0e-1489-4883-9af7-ae90ce7c3775",
   "metadata": {
    "tags": []
   },
   "outputs": [
    {
     "data": {
      "text/plain": [
       "<AxesSubplot: >"
      ]
     },
     "execution_count": 9,
     "metadata": {},
     "output_type": "execute_result"
    },
    {
     "data": {
      "image/png": "[encoded data removed]",
      "text/plain": [
       "<Figure size 640x480 with 1 Axes>"
      ]
     },
     "metadata": {},
     "output_type": "display_data"
    }
   ],
   "source": [
    "df['polarity.label'].value_counts().plot(kind='bar')"
   ]
  },
  {
   "cell_type": "code",
   "execution_count": 10,
   "id": "182e8e32-6e88-47a1-9beb-cc440b62f4c8",
   "metadata": {
    "id": "Qgna8GZ_k0AW"
   },
   "outputs": [],
   "source": [
    "mecab = mecab.MeCab()"
   ]
  },
  {
   "cell_type": "code",
   "execution_count": 11,
   "id": "d397fe97-8f8f-4bd3-8aaa-83d1edcd051b",
   "metadata": {
    "id": "9dKO6hYzkwbF"
   },
   "outputs": [],
   "source": [
    "df['tokenized'] = df['title'].apply(mecab.morphs)"
   ]
  },
  {
   "cell_type": "code",
   "execution_count": 13,
   "id": "29f765b6-e09d-4271-a3dd-25412299b371",
   "metadata": {
    "colab": {
     "base_uri": "https://localhost:8080/",
     "height": 424
    },
    "id": "jKKmVrDRk46e",
    "outputId": "82c3154f-405f-4c9c-e2b6-6acd827972c2"
   },
   "outputs": [
    {
     "data": {
      "text/html": [
       "<div>\n",
       "<style scoped>\n",
       "    .dataframe tbody tr th:only-of-type {\n",
       "        vertical-align: middle;\n",
       "    }\n",
       "\n",
       "    .dataframe tbody tr th {\n",
       "        vertical-align: top;\n",
       "    }\n",
       "\n",
       "    .dataframe thead th {\n",
       "        text-align: right;\n",
       "    }\n",
       "</style>\n",
       "<table border=\"1\" class=\"dataframe\">\n",
       "  <thead>\n",
       "    <tr style=\"text-align: right;\">\n",
       "      <th></th>\n",
       "      <th>date</th>\n",
       "      <th>title</th>\n",
       "      <th>polarity.label</th>\n",
       "      <th>tokenized</th>\n",
       "    </tr>\n",
       "  </thead>\n",
       "  <tbody>\n",
       "    <tr>\n",
       "      <th>0</th>\n",
       "      <td>2023-05-22</td>\n",
       "      <td>차병원·바이오그룹, R&amp;D·영업마케팅 경력 공개 채용</td>\n",
       "      <td>NaN</td>\n",
       "      <td>[차, 병원, ·, 바이오, 그룹, ,, R, &amp;, D, ·, 영업, 마케팅, 경력...</td>\n",
       "    </tr>\n",
       "    <tr>\n",
       "      <th>1</th>\n",
       "      <td>2023-05-05</td>\n",
       "      <td>\"매출, 올해 50%·내년 두배 ↑\"…마더스제약, 성장 자신하는 이유</td>\n",
       "      <td>NaN</td>\n",
       "      <td>[\", 매출, ,, 올해, 50, %·, 내년, 두, 배, ↑\"…, 마더, 스, 제...</td>\n",
       "    </tr>\n",
       "  </tbody>\n",
       "</table>\n",
       "</div>"
      ],
      "text/plain": [
       "         date                                   title  polarity.label  \\\n",
       "0  2023-05-22           차병원·바이오그룹, R&D·영업마케팅 경력 공개 채용             NaN   \n",
       "1  2023-05-05  \"매출, 올해 50%·내년 두배 ↑\"…마더스제약, 성장 자신하는 이유             NaN   \n",
       "\n",
       "                                           tokenized  \n",
       "0  [차, 병원, ·, 바이오, 그룹, ,, R, &, D, ·, 영업, 마케팅, 경력...  \n",
       "1  [\", 매출, ,, 올해, 50, %·, 내년, 두, 배, ↑\"…, 마더, 스, 제...  "
      ]
     },
     "execution_count": 13,
     "metadata": {},
     "output_type": "execute_result"
    }
   ],
   "source": [
    "df.head(2)"
   ]
  },
  {
   "cell_type": "markdown",
   "id": "66bb44d9-34b9-4943-8770-b80d8451a56a",
   "metadata": {},
   "source": [
    "# 훈련-테스트"
   ]
  },
  {
   "cell_type": "code",
   "execution_count": 19,
   "id": "07f8b5fc-742c-49ae-9625-b61ee229e9f0",
   "metadata": {
    "tags": []
   },
   "outputs": [],
   "source": [
    "# train = df[df['polarity.label'].notna()]\n",
    "# test = df[df['polarity.label'].isna()]"
   ]
  },
  {
   "cell_type": "code",
   "execution_count": 20,
   "id": "13b3b6ca-080d-47f6-a85b-e026c0ec85e5",
   "metadata": {
    "tags": []
   },
   "outputs": [
    {
     "data": {
      "text/plain": [
       "<AxesSubplot: >"
      ]
     },
     "execution_count": 20,
     "metadata": {},
     "output_type": "execute_result"
    },
    {
     "data": {
      "image/png": "[encoded data removed]",
      "text/plain": [
       "<Figure size 640x480 with 1 Axes>"
      ]
     },
     "metadata": {},
     "output_type": "display_data"
    }
   ],
   "source": [
    "# train['polarity.label'].value_counts().plot(kind='bar')"
   ]
  },
  {
   "cell_type": "code",
   "execution_count": 22,
   "id": "ffae4a1d-afd9-4dbc-abe0-1fb7710fe2f3",
   "metadata": {
    "tags": []
   },
   "outputs": [],
   "source": [
    "# X_train = train['tokenized']\n",
    "# y_train = train['polarity.label']"
   ]
  },
  {
   "cell_type": "code",
   "execution_count": 23,
   "id": "2b511a99-40fb-445b-b168-026978036b24",
   "metadata": {
    "tags": []
   },
   "outputs": [],
   "source": [
    "# X_test = test['tokenized']\n",
    "# y_test = test['polarity.label']"
   ]
  },
  {
   "cell_type": "markdown",
   "id": "3d088938-fbd8-4bf7-9207-89f43aa9158b",
   "metadata": {},
   "source": [
    "# tokenize"
   ]
  },
  {
   "cell_type": "code",
   "execution_count": 24,
   "id": "10b8593b-ff38-4eb6-85dd-8c6098489fec",
   "metadata": {
    "colab": {
     "base_uri": "https://localhost:8080/"
    },
    "id": "8wC6Rnt6iCxB",
    "outputId": "f489900c-6d72-4183-83a7-328a837273c2"
   },
   "outputs": [
    {
     "data": {
      "text/plain": [
       "('finance_data.csv', <http.client.HTTPMessage at 0x211ea4c5610>)"
      ]
     },
     "execution_count": 24,
     "metadata": {},
     "output_type": "execute_result"
    }
   ],
   "source": [
    "urllib.request.urlretrieve(\"https://raw.githubusercontent.com/ukairia777/finance_sentiment_corpus/main/finance_data.csv\", filename=\"finance_data.csv\")"
   ]
  },
  {
   "cell_type": "markdown",
   "id": "d5a6cabc-c1cf-4c1b-b33e-772692c1f048",
   "metadata": {},
   "source": [
    "# Data Load"
   ]
  },
  {
   "cell_type": "code",
   "execution_count": 25,
   "id": "ff54c57c-e929-4b0d-ba8b-bf01a71539c9",
   "metadata": {
    "colab": {
     "base_uri": "https://localhost:8080/"
    },
    "id": "1aP870z3iRc_",
    "outputId": "aa6bad91-af8f-462d-c71c-cc3c68f960ae"
   },
   "outputs": [
    {
     "name": "stdout",
     "output_type": "stream",
     "text": [
      "총 샘플의 수 : 4846\n"
     ]
    }
   ],
   "source": [
    "data = pd.read_csv('finance_data.csv')\n",
    "print('총 샘플의 수 :',len(data))"
   ]
  },
  {
   "cell_type": "code",
   "execution_count": 26,
   "id": "f78c68c2-eed6-498c-96cd-2e2c8d9cb3ec",
   "metadata": {
    "colab": {
     "base_uri": "https://localhost:8080/",
     "height": 206
    },
    "id": "t9XJj_iziaYh",
    "outputId": "aa2122a8-b989-421c-cf02-e6b1e5ae6359"
   },
   "outputs": [
    {
     "data": {
      "text/html": [
       "<div>\n",
       "<style scoped>\n",
       "    .dataframe tbody tr th:only-of-type {\n",
       "        vertical-align: middle;\n",
       "    }\n",
       "\n",
       "    .dataframe tbody tr th {\n",
       "        vertical-align: top;\n",
       "    }\n",
       "\n",
       "    .dataframe thead th {\n",
       "        text-align: right;\n",
       "    }\n",
       "</style>\n",
       "<table border=\"1\" class=\"dataframe\">\n",
       "  <thead>\n",
       "    <tr style=\"text-align: right;\">\n",
       "      <th></th>\n",
       "      <th>labels</th>\n",
       "      <th>sentence</th>\n",
       "      <th>kor_sentence</th>\n",
       "    </tr>\n",
       "  </thead>\n",
       "  <tbody>\n",
       "    <tr>\n",
       "      <th>0</th>\n",
       "      <td>0</td>\n",
       "      <td>According to Gran, the company has no plans to...</td>\n",
       "      <td>Gran에 따르면, 그 회사는 회사가 성장하고 있는 곳이지만, 모든 생산을 러시아로...</td>\n",
       "    </tr>\n",
       "    <tr>\n",
       "      <th>1</th>\n",
       "      <td>0</td>\n",
       "      <td>Technopolis plans to develop in stages an area...</td>\n",
       "      <td>테크노폴리스는 컴퓨터 기술과 통신 분야에서 일하는 회사들을 유치하기 위해 10만 평...</td>\n",
       "    </tr>\n",
       "  </tbody>\n",
       "</table>\n",
       "</div>"
      ],
      "text/plain": [
       "   labels                                           sentence  \\\n",
       "0       0  According to Gran, the company has no plans to...   \n",
       "1       0  Technopolis plans to develop in stages an area...   \n",
       "\n",
       "                                        kor_sentence  \n",
       "0  Gran에 따르면, 그 회사는 회사가 성장하고 있는 곳이지만, 모든 생산을 러시아로...  \n",
       "1  테크노폴리스는 컴퓨터 기술과 통신 분야에서 일하는 회사들을 유치하기 위해 10만 평...  "
      ]
     },
     "execution_count": 26,
     "metadata": {},
     "output_type": "execute_result"
    }
   ],
   "source": [
    "data['labels'] = data['labels'].replace(['neutral', 'positive', 'negative'],[0, 1, 2])\n",
    "data[:2]"
   ]
  },
  {
   "cell_type": "code",
   "execution_count": 27,
   "id": "40fd2269-47e1-4e15-b384-ea864890914d",
   "metadata": {
    "id": "RNyrW0ynix3O"
   },
   "outputs": [],
   "source": [
    "del data['sentence']"
   ]
  },
  {
   "cell_type": "code",
   "execution_count": 28,
   "id": "33fb7fc9-d124-471d-8b0d-98dd75adec64",
   "metadata": {
    "colab": {
     "base_uri": "https://localhost:8080/",
     "height": 206
    },
    "id": "5Pz9t4U2i35Q",
    "outputId": "f7cb6aef-960e-4f92-bfd3-3194700552b1"
   },
   "outputs": [
    {
     "data": {
      "text/html": [
       "<div>\n",
       "<style scoped>\n",
       "    .dataframe tbody tr th:only-of-type {\n",
       "        vertical-align: middle;\n",
       "    }\n",
       "\n",
       "    .dataframe tbody tr th {\n",
       "        vertical-align: top;\n",
       "    }\n",
       "\n",
       "    .dataframe thead th {\n",
       "        text-align: right;\n",
       "    }\n",
       "</style>\n",
       "<table border=\"1\" class=\"dataframe\">\n",
       "  <thead>\n",
       "    <tr style=\"text-align: right;\">\n",
       "      <th></th>\n",
       "      <th>labels</th>\n",
       "      <th>kor_sentence</th>\n",
       "    </tr>\n",
       "  </thead>\n",
       "  <tbody>\n",
       "    <tr>\n",
       "      <th>0</th>\n",
       "      <td>0</td>\n",
       "      <td>Gran에 따르면, 그 회사는 회사가 성장하고 있는 곳이지만, 모든 생산을 러시아로...</td>\n",
       "    </tr>\n",
       "    <tr>\n",
       "      <th>1</th>\n",
       "      <td>0</td>\n",
       "      <td>테크노폴리스는 컴퓨터 기술과 통신 분야에서 일하는 회사들을 유치하기 위해 10만 평...</td>\n",
       "    </tr>\n",
       "  </tbody>\n",
       "</table>\n",
       "</div>"
      ],
      "text/plain": [
       "   labels                                       kor_sentence\n",
       "0       0  Gran에 따르면, 그 회사는 회사가 성장하고 있는 곳이지만, 모든 생산을 러시아로...\n",
       "1       0  테크노폴리스는 컴퓨터 기술과 통신 분야에서 일하는 회사들을 유치하기 위해 10만 평..."
      ]
     },
     "execution_count": 28,
     "metadata": {},
     "output_type": "execute_result"
    }
   ],
   "source": [
    "data[:2]"
   ]
  },
  {
   "cell_type": "code",
   "execution_count": 29,
   "id": "b4a244c8-c643-4e75-a1ac-9b1d521413a8",
   "metadata": {
    "colab": {
     "base_uri": "https://localhost:8080/"
    },
    "id": "b7EW631ui4OA",
    "outputId": "5e791c74-9646-449b-c8ea-e9697617f660"
   },
   "outputs": [
    {
     "name": "stdout",
     "output_type": "stream",
     "text": [
      "<class 'pandas.core.frame.DataFrame'>\n",
      "RangeIndex: 4846 entries, 0 to 4845\n",
      "Data columns (total 2 columns):\n",
      " #   Column        Non-Null Count  Dtype \n",
      "---  ------        --------------  ----- \n",
      " 0   labels        4846 non-null   int64 \n",
      " 1   kor_sentence  4846 non-null   object\n",
      "dtypes: int64(1), object(1)\n",
      "memory usage: 75.8+ KB\n"
     ]
    }
   ],
   "source": [
    "data.info()"
   ]
  },
  {
   "cell_type": "code",
   "execution_count": 30,
   "id": "b21dfa2a-65e6-410f-b9d3-02b91e9fd9e3",
   "metadata": {
    "colab": {
     "base_uri": "https://localhost:8080/"
    },
    "id": "JkvjJa1Ji7Eo",
    "outputId": "bbb47a2d-defa-444a-c139-61a10292a1b4"
   },
   "outputs": [
    {
     "name": "stdout",
     "output_type": "stream",
     "text": [
      "결측값 여부 : False\n"
     ]
    }
   ],
   "source": [
    "print('결측값 여부 :',data.isnull().values.any())"
   ]
  },
  {
   "cell_type": "code",
   "execution_count": 31,
   "id": "6351d91f-595d-4967-a7a3-f1d504ab3953",
   "metadata": {
    "colab": {
     "base_uri": "https://localhost:8080/"
    },
    "id": "UoAyW4Lii8xX",
    "outputId": "604c7fec-0d8a-4c8d-aafa-3574690035ea"
   },
   "outputs": [
    {
     "name": "stdout",
     "output_type": "stream",
     "text": [
      "kor_sentence 열의 유니크한 값 : 4827\n"
     ]
    }
   ],
   "source": [
    "print('kor_sentence 열의 유니크한 값 :',data['kor_sentence'].nunique())"
   ]
  },
  {
   "cell_type": "code",
   "execution_count": 32,
   "id": "0e640e75-473c-4c6f-bb83-ccadff9620b6",
   "metadata": {
    "id": "cks_QRBfjKBU"
   },
   "outputs": [],
   "source": [
    "duplicate = data[data.duplicated()]"
   ]
  },
  {
   "cell_type": "code",
   "execution_count": 33,
   "id": "bdd58e0d-08fa-4ecb-984d-1bc6601a3601",
   "metadata": {
    "colab": {
     "base_uri": "https://localhost:8080/",
     "height": 551
    },
    "id": "ZwkZ7T0BjL7d",
    "outputId": "c728056e-30dc-402e-ec7d-1fc9254c61ef"
   },
   "outputs": [
    {
     "data": {
      "text/html": [
       "<div>\n",
       "<style scoped>\n",
       "    .dataframe tbody tr th:only-of-type {\n",
       "        vertical-align: middle;\n",
       "    }\n",
       "\n",
       "    .dataframe tbody tr th {\n",
       "        vertical-align: top;\n",
       "    }\n",
       "\n",
       "    .dataframe thead th {\n",
       "        text-align: right;\n",
       "    }\n",
       "</style>\n",
       "<table border=\"1\" class=\"dataframe\">\n",
       "  <thead>\n",
       "    <tr style=\"text-align: right;\">\n",
       "      <th></th>\n",
       "      <th>labels</th>\n",
       "      <th>kor_sentence</th>\n",
       "    </tr>\n",
       "  </thead>\n",
       "  <tbody>\n",
       "    <tr>\n",
       "      <th>1099</th>\n",
       "      <td>0</td>\n",
       "      <td>이 발표 내용에 대한 책임은 전적으로 발행자에게 있습니다.</td>\n",
       "    </tr>\n",
       "  </tbody>\n",
       "</table>\n",
       "</div>"
      ],
      "text/plain": [
       "      labels                      kor_sentence\n",
       "1099       0  이 발표 내용에 대한 책임은 전적으로 발행자에게 있습니다."
      ]
     },
     "execution_count": 33,
     "metadata": {},
     "output_type": "execute_result"
    }
   ],
   "source": [
    "duplicate.head(1)"
   ]
  },
  {
   "cell_type": "code",
   "execution_count": 34,
   "id": "1dcd3bd6-8383-4658-95f3-bf445f0160d1",
   "metadata": {
    "colab": {
     "base_uri": "https://localhost:8080/"
    },
    "id": "prnB1Yg5jBt2",
    "outputId": "f127f897-42ee-4ea3-9bad-b02db8a1620d"
   },
   "outputs": [
    {
     "name": "stdout",
     "output_type": "stream",
     "text": [
      "총 샘플의 수 : 4827\n"
     ]
    }
   ],
   "source": [
    "# 중복 제거\n",
    "data.drop_duplicates(subset=['kor_sentence'], inplace=True)\n",
    "print('총 샘플의 수 :',len(data))"
   ]
  },
  {
   "cell_type": "code",
   "execution_count": 35,
   "id": "03c41b82-6c99-4a35-9813-951ce74b61cb",
   "metadata": {
    "colab": {
     "base_uri": "https://localhost:8080/",
     "height": 284
    },
    "id": "StnulPDqjuKX",
    "outputId": "9ded507e-6694-4b03-cb79-d42bf3451910"
   },
   "outputs": [
    {
     "data": {
      "text/plain": [
       "<AxesSubplot: >"
      ]
     },
     "execution_count": 35,
     "metadata": {},
     "output_type": "execute_result"
    },
    {
     "data": {
      "image/png": "[encoded data removed]",
      "text/plain": [
       "<Figure size 640x480 with 1 Axes>"
      ]
     },
     "metadata": {},
     "output_type": "display_data"
    }
   ],
   "source": [
    "data['labels'].value_counts().plot(kind='bar')"
   ]
  },
  {
   "cell_type": "code",
   "execution_count": 36,
   "id": "eb2568ae-9c78-4743-b843-5b3cfa90f81a",
   "metadata": {
    "colab": {
     "base_uri": "https://localhost:8080/"
    },
    "id": "dP_BFHlojwiN",
    "outputId": "022aff01-579b-48b2-c662-10eee2c685e7"
   },
   "outputs": [
    {
     "name": "stdout",
     "output_type": "stream",
     "text": [
      "레이블의 분포\n",
      "   labels  count\n",
      "0       0   2861\n",
      "1       1   1362\n",
      "2       2    604\n"
     ]
    }
   ],
   "source": [
    "print('레이블의 분포')\n",
    "print(data.groupby('labels').size().reset_index(name='count'))"
   ]
  },
  {
   "cell_type": "code",
   "execution_count": 37,
   "id": "f935e9d0-e209-42ca-8a9b-6b96f2c63fde",
   "metadata": {
    "colab": {
     "base_uri": "https://localhost:8080/"
    },
    "id": "CfQdxYqMj3o8",
    "outputId": "eb91f345-466a-4e67-912f-2ada47d9f12a"
   },
   "outputs": [
    {
     "name": "stdout",
     "output_type": "stream",
     "text": [
      "중립의 비율 = 59.271%\n",
      "긍정의 비율 = 28.216%\n",
      "부정의 비율 = 12.513%\n"
     ]
    }
   ],
   "source": [
    "print(f'중립의 비율 = {round(data[\"labels\"].value_counts()[0]/len(data) * 100,3)}%')\n",
    "print(f'긍정의 비율 = {round(data[\"labels\"].value_counts()[1]/len(data) * 100,3)}%')\n",
    "print(f'부정의 비율 = {round(data[\"labels\"].value_counts()[2]/len(data) * 100,3)}%')"
   ]
  },
  {
   "cell_type": "code",
   "execution_count": 39,
   "id": "6e2a2267-1d95-4175-a56b-4ac6d8c31c8f",
   "metadata": {
    "id": "9dKO6hYzkwbF"
   },
   "outputs": [],
   "source": [
    "data['tokenized'] = data['kor_sentence'].apply(mecab.morphs)"
   ]
  },
  {
   "cell_type": "code",
   "execution_count": 40,
   "id": "16492c23-44ce-4c61-94fd-152c6bc6b842",
   "metadata": {
    "colab": {
     "base_uri": "https://localhost:8080/",
     "height": 424
    },
    "id": "jKKmVrDRk46e",
    "outputId": "82c3154f-405f-4c9c-e2b6-6acd827972c2"
   },
   "outputs": [
    {
     "data": {
      "text/html": [
       "<div>\n",
       "<style scoped>\n",
       "    .dataframe tbody tr th:only-of-type {\n",
       "        vertical-align: middle;\n",
       "    }\n",
       "\n",
       "    .dataframe tbody tr th {\n",
       "        vertical-align: top;\n",
       "    }\n",
       "\n",
       "    .dataframe thead th {\n",
       "        text-align: right;\n",
       "    }\n",
       "</style>\n",
       "<table border=\"1\" class=\"dataframe\">\n",
       "  <thead>\n",
       "    <tr style=\"text-align: right;\">\n",
       "      <th></th>\n",
       "      <th>labels</th>\n",
       "      <th>kor_sentence</th>\n",
       "      <th>tokenized</th>\n",
       "    </tr>\n",
       "  </thead>\n",
       "  <tbody>\n",
       "    <tr>\n",
       "      <th>0</th>\n",
       "      <td>0</td>\n",
       "      <td>Gran에 따르면, 그 회사는 회사가 성장하고 있는 곳이지만, 모든 생산을 러시아로...</td>\n",
       "      <td>[Gran, 에, 따르, 면, ,, 그, 회사, 는, 회사, 가, 성장, 하, 고,...</td>\n",
       "    </tr>\n",
       "    <tr>\n",
       "      <th>1</th>\n",
       "      <td>0</td>\n",
       "      <td>테크노폴리스는 컴퓨터 기술과 통신 분야에서 일하는 회사들을 유치하기 위해 10만 평...</td>\n",
       "      <td>[테크노폴리스, 는, 컴퓨터, 기술, 과, 통신, 분야, 에서, 일, 하, 는, 회...</td>\n",
       "    </tr>\n",
       "  </tbody>\n",
       "</table>\n",
       "</div>"
      ],
      "text/plain": [
       "   labels                                       kor_sentence  \\\n",
       "0       0  Gran에 따르면, 그 회사는 회사가 성장하고 있는 곳이지만, 모든 생산을 러시아로...   \n",
       "1       0  테크노폴리스는 컴퓨터 기술과 통신 분야에서 일하는 회사들을 유치하기 위해 10만 평...   \n",
       "\n",
       "                                           tokenized  \n",
       "0  [Gran, 에, 따르, 면, ,, 그, 회사, 는, 회사, 가, 성장, 하, 고,...  \n",
       "1  [테크노폴리스, 는, 컴퓨터, 기술, 과, 통신, 분야, 에서, 일, 하, 는, 회...  "
      ]
     },
     "execution_count": 40,
     "metadata": {},
     "output_type": "execute_result"
    }
   ],
   "source": [
    "data.head(2)"
   ]
  },
  {
   "cell_type": "code",
   "execution_count": 21,
   "id": "ad5d8bbd-4533-468b-9c30-ea64220f5ace",
   "metadata": {
    "colab": {
     "base_uri": "https://localhost:8080/"
    },
    "id": "l8foVC2rkJtF",
    "outputId": "cb15df09-e7eb-43b0-da0a-1b50c36eb31e"
   },
   "outputs": [
    {
     "name": "stdout",
     "output_type": "stream",
     "text": [
      "본문의 개수: 4827\n",
      "레이블의 개수: 4827\n"
     ]
    }
   ],
   "source": [
    "X_data = data['tokenized']\n",
    "y_data = data['labels']\n",
    "print('본문의 개수: {}'.format(len(X_data)))\n",
    "print('레이블의 개수: {}'.format(len(y_data)))"
   ]
  },
  {
   "cell_type": "code",
   "execution_count": 22,
   "id": "792b41e3-20ec-4a46-9c90-4c52e8bb48c6",
   "metadata": {
    "id": "qmFecWmSkHiu"
   },
   "outputs": [],
   "source": [
    "X_train, X_test, y_train, y_test = train_test_split(X_data, y_data, test_size=0.2, random_state=0, stratify=y_data)"
   ]
  },
  {
   "cell_type": "code",
   "execution_count": 26,
   "id": "2646165c-56a6-460d-a7f6-2280f2328293",
   "metadata": {
    "colab": {
     "base_uri": "https://localhost:8080/"
    },
    "id": "5qCRNyvpkjEY",
    "outputId": "79b5f0b6-1598-48ea-b7d5-aeb16074ff08"
   },
   "outputs": [
    {
     "name": "stdout",
     "output_type": "stream",
     "text": [
      "[[390, 199, 4, 299, 170, 128, 2, 150, 15, 299, 170, 2075, 331, 10, 4, 1156, 5, 567, 29, 20, 22, 151, 10, 16, 14, 3, 1], [1157, 1158, 4, 92, 5, 43, 36, 50, 13, 47, 208, 16, 13, 3, 1], [5, 95, 2, 55, 7, 19, 1, 38, 44, 15, 48, 1, 52, 44, 22, 50, 13, 3, 1], [515, 4, 2076, 4504, 6, 84, 283, 157, 8, 609, 638, 160, 2, 2480, 474, 1066, 157, 6, 2077, 29, 20, 8, 284, 13, 3, 1], [165, 339, 7, 1426, 265, 76, 15, 1426, 332, 76, 699, 18, 475, 212, 1]]\n",
      "[[868, 792, 7, 113, 140, 6, 88, 332, 27, 17, 12, 114, 77, 1], [97, 1917, 211, 184, 2, 4295, 2503, 23, 401, 24, 770, 6, 174, 364, 34, 16, 190, 61, 20, 5, 69, 28, 330, 7, 51, 13, 3, 1], [672, 160, 376, 882, 30, 238, 31, 4, 156, 2, 3463, 1088, 5, 21, 5286, 159, 2, 964, 12, 2873, 10, 4, 20, 5, 69, 1143, 13, 3, 1], [412, 38, 65, 150, 7, 58, 11, 231, 95, 2, 19, 1, 48, 206, 17, 15, 19, 1, 43, 206, 17, 18, 452, 3, 1], [71, 11, 43, 26, 511, 40, 653, 19, 205, 98, 571, 105, 1, 5241, 2, 1196, 328, 3118, 19, 37, 71, 6, 84, 271, 2474, 7, 71, 11, 19, 26, 123, 38, 26, 90, 2, 1196, 328, 12, 71, 11, 48, 26, 48, 40, 1202, 6, 349, 29, 82, 80, 1]]\n"
     ]
    }
   ],
   "source": [
    "tokenizer = Tokenizer()\n",
    "tokenizer.fit_on_texts(X_train)\n",
    "X_train_encoded = tokenizer.texts_to_sequences(X_train)\n",
    "X_test_encoded = tokenizer.texts_to_sequences(X_test)\n",
    "print(X_train_encoded[:5])\n",
    "print(X_test_encoded[:5])"
   ]
  },
  {
   "cell_type": "code",
   "execution_count": 27,
   "id": "c3244474-8520-44da-9d47-50553b50ee7e",
   "metadata": {
    "colab": {
     "base_uri": "https://localhost:8080/"
    },
    "id": "KAXqMlPtkm9d",
    "outputId": "a3ceac7d-6e64-491b-ae48-5111f9bd1ab4"
   },
   "outputs": [
    {
     "name": "stdout",
     "output_type": "stream",
     "text": [
      "8942\n"
     ]
    }
   ],
   "source": [
    "word_to_index = tokenizer.word_index\n",
    "vocab_size = len(word_to_index) + 1\n",
    "print(vocab_size)"
   ]
  },
  {
   "cell_type": "markdown",
   "id": "08401c33-4b94-4c4d-951f-aad62ecd2db6",
   "metadata": {},
   "source": [
    "## 패딩"
   ]
  },
  {
   "cell_type": "code",
   "execution_count": 28,
   "id": "71c5011b-8b92-402b-b2c5-c3dbb84b5628",
   "metadata": {
    "tags": []
   },
   "outputs": [
    {
     "data": {
      "text/plain": [
       "2049    [보험, 사, 는, 노르, 데, 아, 의, 순이익, 에서, 노르, 데, 아가, 차지...\n",
       "129     [백화점, 부서, 는, 매출, 이, 4, %, 증가, 했, 다고, 보, 고, 했, ...\n",
       "Name: tokenized, dtype: object"
      ]
     },
     "execution_count": 28,
     "metadata": {},
     "output_type": "execute_result"
    }
   ],
   "source": [
    "X_train[:2]"
   ]
  },
  {
   "cell_type": "code",
   "execution_count": 29,
   "id": "b063f576-4b9a-4f23-9e3f-645ded834958",
   "metadata": {
    "colab": {
     "base_uri": "https://localhost:8080/",
     "height": 315
    },
    "id": "CVaCLg2glTIo",
    "outputId": "2ee453f6-3488-45ca-dabd-250e064230d3"
   },
   "outputs": [
    {
     "name": "stdout",
     "output_type": "stream",
     "text": [
      "본문의 최대 길이 : 76\n",
      "본문의 평균 길이 : 28.235431235431236\n"
     ]
    },
    {
     "data": {
      "image/png": "[encoded data removed]",
      "text/plain": [
       "<Figure size 640x480 with 1 Axes>"
      ]
     },
     "metadata": {},
     "output_type": "display_data"
    }
   ],
   "source": [
    "print(  '본문의 최대 길이 :',   max(   len(sent) for sent in X_train   )   )\n",
    "# X_train 요소 하나하나 길이 재서 최대길이추출\n",
    "print(   '본문의 평균 길이 :',  sum(    map(len, X_train)  )   /  len(X_train)     )\n",
    "# X_train 요소 길이 재서 sum하구 X_train 개수로 나눈다\n",
    "plt.hist([len(sent) for sent in X_train], bins=50)\n",
    "plt.xlabel('length of samples')\n",
    "plt.ylabel('number of samples')\n",
    "plt.show()"
   ]
  },
  {
   "cell_type": "code",
   "execution_count": 30,
   "id": "7c055e1a-3d69-4a77-9465-39c0a8098d62",
   "metadata": {
    "id": "vZvzv8jClpTF"
   },
   "outputs": [],
   "source": [
    "max_len = 76"
   ]
  },
  {
   "cell_type": "code",
   "execution_count": 31,
   "id": "d4815508-3635-4e7a-992e-7dc829c0aa45",
   "metadata": {
    "id": "DO-ypzo6lmuu"
   },
   "outputs": [],
   "source": [
    "X_train_encoded = pad_sequences(X_train_encoded, maxlen=max_len)\n",
    "X_test_encoded = pad_sequences(X_test_encoded, maxlen=max_len)"
   ]
  },
  {
   "cell_type": "code",
   "execution_count": 38,
   "id": "fffc615e-11dd-4db0-9046-b76aed11bb4c",
   "metadata": {
    "id": "OG8mNRPqmRb1"
   },
   "outputs": [],
   "source": [
    "y_train = to_categorical(y_train)\n",
    "y_test = to_categorical(y_test)"
   ]
  },
  {
   "cell_type": "code",
   "execution_count": 39,
   "id": "67dfa0b1-490f-4eef-b8eb-7323f8195c75",
   "metadata": {
    "colab": {
     "base_uri": "https://localhost:8080/"
    },
    "id": "qcgxpi4zmWHd",
    "outputId": "ab93b729-da07-44c0-f1ec-8c39cbf8c7ec"
   },
   "outputs": [
    {
     "name": "stdout",
     "output_type": "stream",
     "text": [
      "Epoch 1/15\n",
      "97/97 [==============================] - ETA: 0s - loss: 0.8955 - acc: 0.6062\n",
      "Epoch 1: val_acc improved from -inf to 0.71151, saving model to best_model.h5\n",
      "97/97 [==============================] - 5s 36ms/step - loss: 0.8955 - acc: 0.6062 - val_loss: 0.7417 - val_acc: 0.7115\n",
      "Epoch 2/15\n",
      "95/97 [============================>.] - ETA: 0s - loss: 0.6261 - acc: 0.7326\n",
      "Epoch 2: val_acc improved from 0.71151 to 0.75162, saving model to best_model.h5\n",
      "97/97 [==============================] - 3s 28ms/step - loss: 0.6246 - acc: 0.7332 - val_loss: 0.6565 - val_acc: 0.7516\n",
      "Epoch 3/15\n",
      "95/97 [============================>.] - ETA: 0s - loss: 0.3302 - acc: 0.8832\n",
      "Epoch 3: val_acc did not improve from 0.75162\n",
      "97/97 [==============================] - 3s 31ms/step - loss: 0.3316 - acc: 0.8828 - val_loss: 0.7574 - val_acc: 0.7503\n",
      "Epoch 4/15\n",
      "97/97 [==============================] - ETA: 0s - loss: 0.1705 - acc: 0.9475\n",
      "Epoch 4: val_acc did not improve from 0.75162\n",
      "97/97 [==============================] - 3s 31ms/step - loss: 0.1705 - acc: 0.9475 - val_loss: 0.8926 - val_acc: 0.7219\n",
      "Epoch 5/15\n",
      "97/97 [==============================] - ETA: 0s - loss: 0.0964 - acc: 0.9702\n",
      "Epoch 5: val_acc did not improve from 0.75162\n",
      "97/97 [==============================] - 3s 29ms/step - loss: 0.0964 - acc: 0.9702 - val_loss: 1.0083 - val_acc: 0.7193\n",
      "Epoch 6/15\n",
      "97/97 [==============================] - ETA: 0s - loss: 0.0524 - acc: 0.9851\n",
      "Epoch 6: val_acc did not improve from 0.75162\n",
      "97/97 [==============================] - 3s 29ms/step - loss: 0.0524 - acc: 0.9851 - val_loss: 1.1388 - val_acc: 0.7128\n",
      "Epoch 6: early stopping\n"
     ]
    }
   ],
   "source": [
    "embedding_dim = 64\n",
    "hidden_units = 64\n",
    "num_classes = 3\n",
    "\n",
    "model = Sequential()\n",
    "model.add(Embedding(vocab_size, embedding_dim))\n",
    "model.add(LSTM(hidden_units))\n",
    "model.add(Dense(num_classes, activation='softmax'))\n",
    "\n",
    "es = EarlyStopping(monitor='val_loss', mode='min', verbose=1, patience=4)\n",
    "mc = ModelCheckpoint('best_model.h5', monitor='val_acc', mode='max', verbose=1, save_best_only=True)\n",
    "\n",
    "model.compile(loss='categorical_crossentropy', optimizer='adam', metrics=['acc'])\n",
    "history = model.fit(X_train_encoded, y_train, epochs=15, callbacks=[es, mc], batch_size=32, validation_split=0.2)"
   ]
  },
  {
   "cell_type": "code",
   "execution_count": 40,
   "id": "1af5811c-1598-4602-b6f3-890b57b698b9",
   "metadata": {
    "colab": {
     "base_uri": "https://localhost:8080/"
    },
    "id": "qtj0EMOEmeEX",
    "outputId": "e64117af-a089-4155-ba53-e2481a094cd2",
    "tags": []
   },
   "outputs": [
    {
     "name": "stdout",
     "output_type": "stream",
     "text": [
      "31/31 [==============================] - 1s 11ms/step - loss: 0.6164 - acc: 0.7640\n",
      "\n",
      " 테스트 정확도: 0.7640\n"
     ]
    }
   ],
   "source": [
    "loaded_model = load_model('best_model.h5')\n",
    "print(\"\\n 테스트 정확도: %.4f\" % (loaded_model.evaluate(X_test_encoded, y_test)[1]))"
   ]
  }
 ],
 "metadata": {
  "kernelspec": {
   "display_name": "Python 3 (ipykernel)",
   "language": "python",
   "name": "python3"
  },
  "language_info": {
   "codemirror_mode": {
    "name": "ipython",
    "version": 3
   },
   "file_extension": ".py",
   "mimetype": "text/x-python",
   "name": "python",
   "nbconvert_exporter": "python",
   "pygments_lexer": "ipython3",
   "version": "3.8.8"
  }
 },
 "nbformat": 4,
 "nbformat_minor": 5
}
