{
 "cells": [
  {
   "cell_type": "code",
   "execution_count": null,
   "id": "d528e9c1-97d8-4c81-8397-662e99f90a09",
   "metadata": {},
   "outputs": [],
   "source": []
  },
  {
   "cell_type": "code",
   "execution_count": 11,
   "id": "20825c25-83c5-4562-bf59-ea48a85ae20d",
   "metadata": {
    "tags": []
   },
   "outputs": [
    {
     "data": {
      "text/html": [
       "<style>.container{width:100% !important;}</style>"
      ],
      "text/plain": [
       "<IPython.core.display.HTML object>"
      ]
     },
     "metadata": {},
     "output_type": "display_data"
    }
   ],
   "source": [
    "import numpy as np\n",
    "import pandas as pd\n",
    "\n",
    "import matplotlib.pyplot as plt\n",
    "import seaborn as sns\n",
    "\n",
    "\n",
    "sns.set()\n",
    "\n",
    "#-------------------- 차트 관련 속성 (한글처리, 그리드) -----------\n",
    "plt.rcParams['font.family']= 'Malgun Gothic'\n",
    "plt.rcParams['axes.unicode_minus'] = False\n",
    "\n",
    "#-------------------- 주피터 , 출력결과 넓이 늘리기 ---------------\n",
    "# from IPython.core.display import display, HTML\n",
    "from IPython.display import display, HTML\n",
    "\n",
    "display(HTML(\"<style>.container{width:100% !important;}</style>\"))\n",
    "pd.set_option('display.max_rows', 100)\n",
    "pd.set_option('display.max_columns', 100)\n",
    "pd.set_option('max_colwidth', None)\n",
    "\n",
    "import warnings\n",
    "warnings.filterwarnings(action='ignore')\n",
    "\n",
    "import tensorflow as tf"
   ]
  },
  {
   "cell_type": "markdown",
   "id": "79e0556b-0b7c-4575-854d-46e545db9deb",
   "metadata": {
    "tags": []
   },
   "source": [
    "# Data Load"
   ]
  },
  {
   "cell_type": "markdown",
   "id": "635c0d41-8f1f-44fc-8683-f18bec579b36",
   "metadata": {},
   "source": [
    "<pre>\n",
    "당좌비율 (quick ratio) : 당좌자산/유동부채\n",
    "\n",
    "이자보상배(비)율 = 영업이익/이자비용\n",
    "\n",
    "고정비율(%) = (고정자산/자기자본) * 100\n",
    "\n",
    "매출채권회전율(배) = 매출액/{(기초매출채권+기말매출채권)/2}\n",
    "※ 매출채권회수기간 = 365/매출채권회전율 : ↓ 수록 좋음.\n"
   ]
  },
  {
   "cell_type": "code",
   "execution_count": 12,
   "id": "557284e4-c3f5-471e-bf04-e0ab4166d37f",
   "metadata": {
    "tags": []
   },
   "outputs": [],
   "source": [
    "path_재무 = '.\\데이터\\기업별 재무제표\\재무제표 원본\\재무제표'"
   ]
  },
  {
   "cell_type": "code",
   "execution_count": 13,
   "id": "18db4d16-8d23-48a2-b5f1-801a521a2873",
   "metadata": {
    "tags": []
   },
   "outputs": [
    {
     "data": {
      "text/plain": [
       "126"
      ]
     },
     "execution_count": 13,
     "metadata": {},
     "output_type": "execute_result"
    }
   ],
   "source": [
    "import os\n",
    "file_list_재무 = os.listdir(path_재무)\n",
    "len(file_list_재무)"
   ]
  },
  {
   "cell_type": "code",
   "execution_count": 14,
   "id": "169ca264-8499-4b3a-b5f5-3ddbfe7de997",
   "metadata": {
    "tags": []
   },
   "outputs": [],
   "source": [
    "file_name_재무 = []\n",
    "for file in file_list_재무:\n",
    "    if file.count(\".\") == 1: \n",
    "        name = file.split('.')[0]\n",
    "        file_name_재무.append(name)\n",
    "    # else:\n",
    "    #     for k in range(len(file)-1,0,-1):\n",
    "    #         if file[k]=='.':\n",
    "    #             file_name.append(file[:k])\n",
    "    #             break"
   ]
  },
  {
   "cell_type": "code",
   "execution_count": 15,
   "id": "2bd56b2e-1e2d-44b6-8491-fbaa42fd1082",
   "metadata": {
    "tags": []
   },
   "outputs": [
    {
     "data": {
      "text/plain": [
       "['CMG제약', 'HLB', 'HLB생명과학', 'JW생명과학', 'JW신약']"
      ]
     },
     "execution_count": 15,
     "metadata": {},
     "output_type": "execute_result"
    }
   ],
   "source": [
    "file_name_재무[:5]"
   ]
  },
  {
   "cell_type": "code",
   "execution_count": 6,
   "id": "05b316f9-f407-4747-a264-2366bf198a3d",
   "metadata": {
    "tags": []
   },
   "outputs": [],
   "source": [
    "# for name in name_list:\n",
    "    # print(name)"
   ]
  },
  {
   "cell_type": "markdown",
   "id": "80a41009-b560-4602-a947-191c0672699c",
   "metadata": {},
   "source": [
    "# 2018"
   ]
  },
  {
   "cell_type": "markdown",
   "id": "931d4679-b035-4346-b599-aef506644a77",
   "metadata": {},
   "source": [
    "## 당좌비율 (quick ratio) : 당좌자산/유동부채\n",
    "2) 당좌비율 (quick ratio) : 당좌자산/유동부채\n",
    "\n",
    "당좌비율(%) = {(유동자산-재고자산)/유동부채} * 100\n",
    "\n",
    "- ↑ 수록 좋음. 100% 이상이면 바람직.\n",
    "\n",
    "\n",
    "DART"
   ]
  },
  {
   "cell_type": "markdown",
   "id": "19eb46ab-0cc4-4d46-a058-04f34a4e51d7",
   "metadata": {},
   "source": [
    "## 유동자산"
   ]
  },
  {
   "cell_type": "code",
   "execution_count": 16,
   "id": "09802b75-f24e-466c-91fe-672a38a19adf",
   "metadata": {
    "tags": []
   },
   "outputs": [
    {
     "data": {
      "text/plain": [
       "'CMG제약'"
      ]
     },
     "execution_count": 16,
     "metadata": {},
     "output_type": "execute_result"
    }
   ],
   "source": [
    "file_name_재무[0]"
   ]
  },
  {
   "cell_type": "code",
   "execution_count": 20,
   "id": "3db3aa20-1d02-496f-bd63-247910ecb064",
   "metadata": {
    "tags": []
   },
   "outputs": [],
   "source": [
    "유동자산 = []\n",
    "df1 = []\n",
    "for 기업 in file_name_재무:\n",
    "    df =pd.read_excel(f\"./데이터/기업별 재무제표/재무제표 원본/재무제표/{기업}.xlsx\",sheet_name='Data_bs',header=0,skiprows=[1,2])\n",
    "#     venv/아림경영/데이터/기업별 재무제표/재무제표 원본/balance_sheet/경동제약.xlsx\n",
    "    유동있  = False \n",
    "    for i in range(len(df)):\n",
    "        if df.iloc[i,2] == '유동자산':\n",
    "            # print(df.iloc[i,8:13])\n",
    "            유동자산.append(df.iloc[i,12]) \n",
    "            유동있 =True\n",
    "            \n",
    "    if 유동있  == False:\n",
    "        유동자산.append(-1)\n",
    "        \n",
    "#     # df1.append(df)\n",
    "# print(len(유동자산))\n",
    "# df.info()"
   ]
  },
  {
   "cell_type": "code",
   "execution_count": 21,
   "id": "321c6f2d-e896-42b4-94bb-c02d86575008",
   "metadata": {
    "tags": []
   },
   "outputs": [
    {
     "data": {
      "text/plain": [
       "(81370414653.0, 126)"
      ]
     },
     "execution_count": 21,
     "metadata": {},
     "output_type": "execute_result"
    }
   ],
   "source": [
    "유동자산[0],len(유동자산)"
   ]
  },
  {
   "cell_type": "code",
   "execution_count": 22,
   "id": "45a3bc2a-1c26-4c12-bdde-f2f425acd303",
   "metadata": {
    "tags": []
   },
   "outputs": [],
   "source": [
    "# 유동자산 = []\n",
    "# for i in range(46):\n",
    "#     if df.iloc[i,2] == '유동자산':\n",
    "#         # print(df.iloc[i,8:13])\n",
    "#         유동자산.append(df.iloc[i,8:13])"
   ]
  },
  {
   "cell_type": "code",
   "execution_count": null,
   "id": "62dc510c-3161-4ac0-975f-6df86c99050c",
   "metadata": {
    "tags": []
   },
   "outputs": [],
   "source": [
    "유동자산[:2]"
   ]
  },
  {
   "cell_type": "markdown",
   "id": "e9d1b36a-5afe-4820-8ffb-5f0ec0ca0c44",
   "metadata": {},
   "source": [
    "## 재고자산"
   ]
  },
  {
   "cell_type": "code",
   "execution_count": null,
   "id": "519ca4a9-2e89-4610-8c4f-f716f1d27624",
   "metadata": {
    "tags": []
   },
   "outputs": [],
   "source": [
    "재고자산 = []\n",
    "df1 = []\n",
    "for 기업 in file_name_재무:\n",
    "    df =pd.read_excel(f\"./데이터/기업별 재무제표/재무제표 원본/재무제표/{기업}.xlsx\",sheet_name='Data_bs',header=0,skiprows=[1,2])\n",
    "    # venv/아림경영/데이터/기업별 재무제표/재무제표 원본/balance_sheet/경동제약.xlsx\n",
    "    재고있  = False \n",
    "    for i in range(len(df)):\n",
    "        if df.iloc[i,2] == '재고자산':\n",
    "            # print(df.iloc[i,8:13])\n",
    "            재고자산.append(df.iloc[i,12]) \n",
    "            재고있 =True\n",
    "            \n",
    "    if 재고있  == False:\n",
    "        재고자산.append(-1)\n",
    "        \n",
    "    # df1.append(df)\n",
    "print(len(재고자산))\n",
    "    "
   ]
  },
  {
   "cell_type": "markdown",
   "id": "6c10dd0a-9268-46c6-adb8-2c829f7044a4",
   "metadata": {},
   "source": [
    "## 유동부채"
   ]
  },
  {
   "cell_type": "code",
   "execution_count": null,
   "id": "953d34d0-4e8e-4c12-9e79-f94b4f3c3373",
   "metadata": {
    "tags": []
   },
   "outputs": [],
   "source": [
    "유동부채 = []\n",
    "df1 = []\n",
    "for 기업 in file_name_재무:\n",
    "    df =pd.read_excel(f\"./데이터/기업별 재무제표/재무제표 원본/재무제표/{기업}.xlsx\",sheet_name='Data_bs',header=0,skiprows=[1,2])\n",
    "    # venv/아림경영/데이터/기업별 재무제표/재무제표 원본/balance_sheet/경동제약.xlsx\n",
    "    부채있  = False \n",
    "    for i in range(len(df)):\n",
    "        if df.iloc[i,2] == '유동부채':\n",
    "            # print(df.iloc[i,8:13])\n",
    "            유동부채.append(df.iloc[i,8:13]) \n",
    "            부채있 =True\n",
    "            \n",
    "    if 부채있  == False:\n",
    "        유동부채.append(-1)\n",
    "        \n",
    "    # df1.append(df)\n",
    "print(len(유동부채))\n",
    "    "
   ]
  },
  {
   "cell_type": "code",
   "execution_count": null,
   "id": "6aac610e-5fb0-4714-999b-82333a9e4864",
   "metadata": {},
   "outputs": [],
   "source": []
  },
  {
   "cell_type": "code",
   "execution_count": null,
   "id": "ef0f2f9a-a35e-4f87-87ff-592823e43df2",
   "metadata": {},
   "outputs": [],
   "source": []
  },
  {
   "cell_type": "code",
   "execution_count": null,
   "id": "da843706-c1b6-4381-9edd-9f0864563f35",
   "metadata": {},
   "outputs": [],
   "source": []
  },
  {
   "cell_type": "code",
   "execution_count": null,
   "id": "9252870e-04d5-4ef2-afd3-f89ef17ff672",
   "metadata": {},
   "outputs": [],
   "source": []
  },
  {
   "cell_type": "markdown",
   "id": "9659c22b-ece2-424a-a120-acd5f9434d9a",
   "metadata": {},
   "source": [
    "## 이자보상배(비)율 = 영업이익/이자비용\n",
    "4) 이자보상배(비)율 (interest coverage ratio)\n",
    "\n",
    ": 채무상환능력 지표. 영업이익으로 이자비용 감당 지표.\n",
    "\n",
    "이자보상배(비)율 = 영업이익/이자비용\n",
    "\n",
    "- ↑ 수록 좋음. 1배 이상이어야 되며, 보통 1.5배 이상이면 이자지급능력이 충분하다고\n",
    "  \n",
    "  \n",
    "영업이익 -손익계산서////이자비용 - DART"
   ]
  },
  {
   "cell_type": "markdown",
   "id": "3c27208e-ed2e-493a-9f66-65d3693ec7b9",
   "metadata": {},
   "source": [
    "## 영업이익"
   ]
  },
  {
   "cell_type": "code",
   "execution_count": null,
   "id": "6fe7519f-baa2-4173-b411-00bd56f7f581",
   "metadata": {
    "tags": []
   },
   "outputs": [],
   "source": [
    "path_손익= './데이터/기업별 재무제표/재무제표 원본/손익계산서'"
   ]
  },
  {
   "cell_type": "code",
   "execution_count": null,
   "id": "0f115cfb-e84b-472f-aabc-cf3ddddbdc11",
   "metadata": {
    "tags": []
   },
   "outputs": [],
   "source": [
    "import os\n",
    "file_list_손익 = os.listdir(path_손익)\n",
    "len(file_list_손익)"
   ]
  },
  {
   "cell_type": "code",
   "execution_count": null,
   "id": "2d5785ed-6f92-4236-b28d-a45225f0eeae",
   "metadata": {
    "tags": []
   },
   "outputs": [],
   "source": [
    "file_name_손익 = []\n",
    "for file in file_list_손익:\n",
    "    if file.count(\".\") == 1: \n",
    "        name = file.split('.')[0]\n",
    "        file_name_손익.append(name)\n",
    "    # else:\n",
    "    #     for k in range(len(file)-1,0,-1):\n",
    "    #         if file[k]=='.':\n",
    "    #             file_name.append(file[:k])\n",
    "    #             break"
   ]
  },
  {
   "cell_type": "code",
   "execution_count": null,
   "id": "5f248993-eeb6-4944-8b5e-448e62f8b7d0",
   "metadata": {
    "tags": []
   },
   "outputs": [],
   "source": [
    "file_name_손익[:2]"
   ]
  },
  {
   "cell_type": "code",
   "execution_count": null,
   "id": "efc5530c-b652-42a8-9955-1d6849f7cacf",
   "metadata": {
    "tags": []
   },
   "outputs": [],
   "source": [
    "영업이익 = []\n",
    "df1 = []\n",
    "for 기업 in file_name_손익:\n",
    "    df =pd.read_csv(f\"./데이터/기업별 재무제표/재무제표 원본/손익계산서/{기업}.csv\")\n",
    "    # df1.append(df)\n",
    "# print(len(df1))\n",
    "    이익있 = False \n",
    "    for i in range(len(df)):\n",
    "        if df.iloc[i,2] == '영업이익':\n",
    "            # print(df.iloc[i,8:13])\n",
    "            영업이익.append(df.iloc[i,8:13]) \n",
    "            이익있 =True\n",
    "            \n",
    "    if 이익있  == False:\n",
    "        영업이익.append(-1)\n",
    "        \n",
    "    # df1.append(df)\n",
    "print(len(영업이익))\n"
   ]
  },
  {
   "cell_type": "markdown",
   "id": "4625275e-593e-4f9a-b4b4-e147dfe3868b",
   "metadata": {},
   "source": [
    "## 이자비용\n",
    "* 이자비용, 이자지급, 이자지급(영업), 순이자비용"
   ]
  },
  {
   "cell_type": "code",
   "execution_count": null,
   "id": "19db94dd-ecb0-49a4-b19f-a3234b5b5cc4",
   "metadata": {
    "tags": []
   },
   "outputs": [],
   "source": [
    "이자비용 = []\n",
    "df1 = []\n",
    "for 기업 in file_name_재무:\n",
    "    df =pd.read_excel(f\"./데이터/기업별 재무제표/재무제표 원본/재무제표/{기업}.xlsx\",sheet_name='Data_bs',header=0,skiprows=[1,2])\n",
    "    # venv/아림경영/데이터/기업별 재무제표/재무제표 원본/balance_sheet/경동제약.xlsx\n",
    "    비용있  = False \n",
    "    for i in range(len(df)):\n",
    "        if df.iloc[i,2]==any( ['이자비용', '이자지급', '이자지급(영업)', '순이자비용']):\n",
    "            # print(df.iloc[i,8:13])\n",
    "            이자비용.append(df.iloc[i,8:13]) \n",
    "            비용있 =True\n",
    "            \n",
    "    if 비용있  == False:\n",
    "        이자비용.append(-1)\n",
    "        \n",
    "    # df1.append(df)\n",
    "print(len(이자비용))\n",
    "    "
   ]
  },
  {
   "cell_type": "markdown",
   "id": "9bd46429-c90a-4c81-8739-b3d4cf1c51ee",
   "metadata": {},
   "source": [
    "## 고정비율(%) = (고정자산/자기자본) * 100\n",
    "XXXXXX"
   ]
  },
  {
   "cell_type": "markdown",
   "id": "511193b8-d62d-4830-9e05-35f767054e13",
   "metadata": {},
   "source": [
    "## 매출채권회전율(배) = 매출액/{(기초매출채권+기말매출채권)/2}  XXXXXXX\n",
    "\n",
    "6) 매출채권회전율 (receivables turnover )\n",
    "\n",
    ": 매출채권을 회수 즉 현금화하는 속도.\n",
    "\n",
    "매출채권회전율(배) = 매출액/{(기초매출채권+기말매출채권)/2}\n",
    "\n",
    "※ 매출채권회수기간 = 365/매출채권회전율 : ↓ 수록 좋음.\n",
    "\n",
    "- ↑ 수록 좋음. 보통 6배 이상은 양호, 2배 이하는 불량.\n",
    "\n",
    "매출액 증가율보다 매출채권 증가율이 훨씬 크다면 분식 가능성.\n",
    " \n",
    "XXXXXXXXX"
   ]
  },
  {
   "cell_type": "markdown",
   "id": "c01b5da9-3afc-4be2-ada3-9d7646c40804",
   "metadata": {
    "jp-MarkdownHeadingCollapsed": true,
    "tags": []
   },
   "source": [
    "## 매출액"
   ]
  },
  {
   "cell_type": "code",
   "execution_count": null,
   "id": "91776731-8316-4e85-bc40-fe2c3a233224",
   "metadata": {
    "tags": []
   },
   "outputs": [],
   "source": [
    "매출액 = []\n",
    "df1 = []\n",
    "for 기업 in file_name_손익:\n",
    "    df =pd.read_csv(f\"./데이터/기업별 재무제표/재무제표 원본/손익계산서/{기업}.csv\")\n",
    "    # df1.append(df)\n",
    "# print(len(df1))\n",
    "    매출액있 = False \n",
    "    for i in range(len(df)):\n",
    "        if df.iloc[i,2] == '매출액':\n",
    "            # print(df.iloc[i,8:13])\n",
    "            매출액.append(df.iloc[i,8:13]) \n",
    "            매출액있 =True\n",
    "            \n",
    "    if 매출액있  == False:\n",
    "        매출액.append(-1)\n",
    "        \n",
    "    # df1.append(df)\n",
    "print(len(매출액))"
   ]
  },
  {
   "cell_type": "markdown",
   "id": "21d60671-906e-4b8d-8efc-e4e09934f91e",
   "metadata": {
    "jp-MarkdownHeadingCollapsed": true,
    "tags": []
   },
   "source": [
    "## 채권"
   ]
  },
  {
   "cell_type": "code",
   "execution_count": null,
   "id": "5560f6c7-8712-4fed-9f45-4cebe42bb73e",
   "metadata": {
    "tags": []
   },
   "outputs": [],
   "source": [
    "채권 = []\n",
    "df1 = []\n",
    "for 기업 in file_name_재무:\n",
    "    df =pd.read_excel(f\"./데이터/기업별 재무제표/재무제표 원본/재무제표/{기업}.xlsx\",sheet_name='Data_bs',header=0,skiprows=[1,2])\n",
    "    # venv/아림경영/데이터/기업별 재무제표/재무제표 원본/balance_sheet/경동제약.xlsx\n",
    "    채권있  = False \n",
    "    for i in range(len(df)):\n",
    "        if df.iloc[i,2] == '매출채권 및 기타유동채권':\n",
    "            # print(df.iloc[i,8:13])\n",
    "            채권.append(df.iloc[i,8:13]) \n",
    "            채권있 =True\n",
    "            \n",
    "    if 채권있  == False:\n",
    "        채권.append(-1)\n",
    "        \n",
    "    # df1.append(df)\n",
    "print(len(채권))\n",
    "    "
   ]
  },
  {
   "cell_type": "markdown",
   "id": "a2530223-9bd5-43fa-8ea7-3cd5c0483069",
   "metadata": {},
   "source": [
    "## DataFrame"
   ]
  },
  {
   "cell_type": "code",
   "execution_count": null,
   "id": "835931d9-8bd3-4b96-8f46-b1c7a31fe038",
   "metadata": {
    "tags": []
   },
   "outputs": [],
   "source": [
    "len(유동자산),len(재고자산),len(유동부채),len(영업이익),len(이자비용)"
   ]
  },
  {
   "cell_type": "code",
   "execution_count": null,
   "id": "5d720b1b-9d2c-45e2-8572-ff88c4a1fc34",
   "metadata": {},
   "outputs": [],
   "source": [
    "안정성_dict = {'유동자산':유동자산,'재고자산':재고자산,'유동부채':유동부채,'영업이익':영업이익,'이자비용':이자비용}"
   ]
  },
  {
   "cell_type": "code",
   "execution_count": null,
   "id": "48895849-63af-4b94-a8d4-00e0dab6677d",
   "metadata": {},
   "outputs": [],
   "source": [
    "안정성 = pd.DataFrame(안정성_dict)\n"
   ]
  },
  {
   "cell_type": "code",
   "execution_count": null,
   "id": "18687967-381d-477a-86cb-e65955666da2",
   "metadata": {},
   "outputs": [],
   "source": [
    "안정성.info()"
   ]
  },
  {
   "cell_type": "code",
   "execution_count": null,
   "id": "c50039a7-9744-49a0-837a-2986bf81cc70",
   "metadata": {},
   "outputs": [],
   "source": [
    "안정성.tail()"
   ]
  },
  {
   "cell_type": "code",
   "execution_count": null,
   "id": "836546f1-c276-48c8-b8f8-7bc1fb1437d0",
   "metadata": {},
   "outputs": [],
   "source": []
  }
 ],
 "metadata": {
  "kernelspec": {
   "display_name": "Python 3 (ipykernel)",
   "language": "python",
   "name": "python3"
  },
  "language_info": {
   "codemirror_mode": {
    "name": "ipython",
    "version": 3
   },
   "file_extension": ".py",
   "mimetype": "text/x-python",
   "name": "python",
   "nbconvert_exporter": "python",
   "pygments_lexer": "ipython3",
   "version": "3.8.8"
  }
 },
 "nbformat": 4,
 "nbformat_minor": 5
}
