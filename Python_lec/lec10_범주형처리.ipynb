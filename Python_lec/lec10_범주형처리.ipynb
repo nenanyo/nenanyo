{
 "cells": [
  {
   "cell_type": "markdown",
   "id": "f03b9319-62a9-4240-b00d-97f1868001a6",
   "metadata": {},
   "source": [
    "<font size=6><b> lec03.머신러닝_전처리 : 범주형(categorical) 변수"
   ]
  },
  {
   "cell_type": "markdown",
   "id": "dcd3cfcb-6ba9-4005-ad72-d6a855d63f53",
   "metadata": {},
   "source": [
    "### 범주형 변수 categorical data 처리\n",
    "* 글자를 숫자로\n",
    "    * 라벨인코딩(Label Encoding)\n",
    "    * 원핫인코딩(One-hot Encoding)\n",
    "    * get_dummies()\n",
    "    * df['컬럼'].astype('category')\n",
    "\n",
    "* 범주화(Bining) :\n",
    " 연속된 수치를 구간화[범주화]"
   ]
  },
  {
   "cell_type": "markdown",
   "id": "d8bbf92b-9c1d-4fd4-bd22-0b342787d04e",
   "metadata": {},
   "source": [
    "> <font size=4><b>(1) 라벨인코딩(Label Encoding)\n",
    "> * n개의 범주형 데이터를 0부터 n-1까지의 연속적 수치 데이터로 표현"
   ]
  },
  {
   "cell_type": "code",
   "execution_count": 4,
   "id": "d6915609-3004-4402-bf50-9ee92f24153c",
   "metadata": {},
   "outputs": [],
   "source": [
    "import numpy as np\n",
    "import pandas as pd\n",
    "\n",
    "import warnings\n",
    "warnings.filterwarnings(action='ignore')\n",
    "\n"
   ]
  },
  {
   "cell_type": "code",
   "execution_count": 5,
   "id": "1595e60a-6d3a-41bd-90ce-fcd0fc8a3fa4",
   "metadata": {
    "tags": []
   },
   "outputs": [
    {
     "data": {
      "text/html": [
       "<div>\n",
       "<style scoped>\n",
       "    .dataframe tbody tr th:only-of-type {\n",
       "        vertical-align: middle;\n",
       "    }\n",
       "\n",
       "    .dataframe tbody tr th {\n",
       "        vertical-align: top;\n",
       "    }\n",
       "\n",
       "    .dataframe thead th {\n",
       "        text-align: right;\n",
       "    }\n",
       "</style>\n",
       "<table border=\"1\" class=\"dataframe\">\n",
       "  <thead>\n",
       "    <tr style=\"text-align: right;\">\n",
       "      <th></th>\n",
       "      <th>name</th>\n",
       "      <th>score</th>\n",
       "    </tr>\n",
       "  </thead>\n",
       "  <tbody>\n",
       "    <tr>\n",
       "      <th>0</th>\n",
       "      <td>smith</td>\n",
       "      <td>A</td>\n",
       "    </tr>\n",
       "    <tr>\n",
       "      <th>1</th>\n",
       "      <td>martin</td>\n",
       "      <td>B</td>\n",
       "    </tr>\n",
       "    <tr>\n",
       "      <th>2</th>\n",
       "      <td>jones</td>\n",
       "      <td>NaN</td>\n",
       "    </tr>\n",
       "    <tr>\n",
       "      <th>3</th>\n",
       "      <td>allen</td>\n",
       "      <td>A</td>\n",
       "    </tr>\n",
       "    <tr>\n",
       "      <th>4</th>\n",
       "      <td>king</td>\n",
       "      <td>C</td>\n",
       "    </tr>\n",
       "  </tbody>\n",
       "</table>\n",
       "</div>"
      ],
      "text/plain": [
       "     name score\n",
       "0   smith     A\n",
       "1  martin     B\n",
       "2   jones   NaN\n",
       "3   allen     A\n",
       "4    king     C"
      ]
     },
     "execution_count": 5,
     "metadata": {},
     "output_type": "execute_result"
    }
   ],
   "source": [
    "df = pd.DataFrame({\"name\":[\"smith\",'martin',\"jones\",\"allen\",\"king\"],\n",
    "                   \"score\": [\"A\",\"B\",np.nan,\"A\",\"C\"]}\n",
    "                 )\n",
    "df.head()"
   ]
  },
  {
   "cell_type": "markdown",
   "id": "ddd3dd2c-8e90-4b20-99df-0de05a905cd0",
   "metadata": {},
   "source": [
    "def fit(self, , ,)\n",
    " ---- 생성자(클래스) 만들고 함수호출\n",
    " a=LabelEncoder\n",
    " a.fit()"
   ]
  },
  {
   "cell_type": "code",
   "execution_count": 6,
   "id": "6ec04cda-a54f-43e9-8498-91dc9d7ac2f1",
   "metadata": {},
   "outputs": [],
   "source": [
    "from sklearn.preprocessing import LabelEncoder  #-------------------------"
   ]
  },
  {
   "cell_type": "code",
   "execution_count": 4,
   "id": "dd9d0d0c-7ae6-484a-8863-c0fca38328eb",
   "metadata": {
    "tags": []
   },
   "outputs": [
    {
     "data": {
      "text/html": [
       "<div>\n",
       "<style scoped>\n",
       "    .dataframe tbody tr th:only-of-type {\n",
       "        vertical-align: middle;\n",
       "    }\n",
       "\n",
       "    .dataframe tbody tr th {\n",
       "        vertical-align: top;\n",
       "    }\n",
       "\n",
       "    .dataframe thead th {\n",
       "        text-align: right;\n",
       "    }\n",
       "</style>\n",
       "<table border=\"1\" class=\"dataframe\">\n",
       "  <thead>\n",
       "    <tr style=\"text-align: right;\">\n",
       "      <th></th>\n",
       "      <th>le_name</th>\n",
       "      <th>name</th>\n",
       "    </tr>\n",
       "  </thead>\n",
       "  <tbody>\n",
       "    <tr>\n",
       "      <th>0</th>\n",
       "      <td>4</td>\n",
       "      <td>smith</td>\n",
       "    </tr>\n",
       "    <tr>\n",
       "      <th>1</th>\n",
       "      <td>3</td>\n",
       "      <td>martin</td>\n",
       "    </tr>\n",
       "    <tr>\n",
       "      <th>2</th>\n",
       "      <td>1</td>\n",
       "      <td>jones</td>\n",
       "    </tr>\n",
       "    <tr>\n",
       "      <th>3</th>\n",
       "      <td>0</td>\n",
       "      <td>allen</td>\n",
       "    </tr>\n",
       "    <tr>\n",
       "      <th>4</th>\n",
       "      <td>2</td>\n",
       "      <td>king</td>\n",
       "    </tr>\n",
       "  </tbody>\n",
       "</table>\n",
       "</div>"
      ],
      "text/plain": [
       "   le_name    name\n",
       "0        4   smith\n",
       "1        3  martin\n",
       "2        1   jones\n",
       "3        0   allen\n",
       "4        2    king"
      ]
     },
     "execution_count": 4,
     "metadata": {},
     "output_type": "execute_result"
    }
   ],
   "source": [
    "le = LabelEncoder() # 클래스이름() == 생성자함수 : 초기화 \n",
    "le.fit(df['name']) # ---- 변수 설정 x\n",
    "# res=le.transform(df['name'])\n",
    "df['le_name'] = le.transform(df['name'])\n",
    "df[['le_name','name']]\n",
    "# print(df['name'].values)\n",
    "# print(res) # ---글자를 숫자로 바꾼다"
   ]
  },
  {
   "cell_type": "code",
   "execution_count": 9,
   "id": "0f648195-0054-4bd7-b05b-0cbfac4cdde9",
   "metadata": {
    "tags": []
   },
   "outputs": [
    {
     "data": {
      "text/plain": [
       "array([0, 1, 3, 0, 2])"
      ]
     },
     "execution_count": 9,
     "metadata": {},
     "output_type": "execute_result"
    }
   ],
   "source": [
    "le = LabelEncoder() # 클래스이름() == 생성자함수 : 초기화\n",
    "le.fit(df['score']) # ---- 변수 설정 x\n",
    "res=le.transform(df['score'])\n",
    "res\n",
    "# print(df['score'].values)\n",
    "# print(res) # ---글자를 숫자로 바꾼다"
   ]
  },
  {
   "cell_type": "code",
   "execution_count": null,
   "id": "17c89ea8-9db5-4444-afbc-2e4bf5536415",
   "metadata": {
    "tags": []
   },
   "outputs": [],
   "source": []
  },
  {
   "cell_type": "markdown",
   "id": "c4ed68e2-f762-418a-b777-2434667151a1",
   "metadata": {},
   "source": [
    "> <font size=4><b>(2) 원핫인코딩(One-hot Encoding)\n",
    "> * 집합의 크기를 벡터의 차원으로 하고, 표현하고 싶은 단어의 인덱스에 1의 값을 부여하고, 다른 인덱스에는 0을 부여하는 벡터 표현 방식\n",
    "> *  데이터프레임에서 object 타입으로 되어있는 변수는 dummy 변수화\n",
    "> * <font color=red><b> 판다스의 시리즈가 아닌 numpy 행렬을 입력해야함 → df['컬럼'].values\n",
    "> * <font color=red><b> 벡터 입력을 허용하지 않음(한줄로 안 됨) → reshape(-1,1)을 이용해 Matrix로 변환  (N,) → (N,1)"
   ]
  },
  {
   "cell_type": "code",
   "execution_count": 6,
   "id": "a878e8d8-111a-427b-bca3-2956e76571ec",
   "metadata": {
    "tags": []
   },
   "outputs": [],
   "source": [
    "from sklearn.preprocessing import OneHotEncoder"
   ]
  },
  {
   "cell_type": "code",
   "execution_count": 7,
   "id": "6d5c4687-853c-451e-8d3a-c5bb64baf3a0",
   "metadata": {
    "tags": []
   },
   "outputs": [
    {
     "data": {
      "text/plain": [
       "(5, 3)"
      ]
     },
     "execution_count": 7,
     "metadata": {},
     "output_type": "execute_result"
    }
   ],
   "source": [
    "df['score'].shape #-----1차 vector, array 요소 5개\n",
    "df.shape "
   ]
  },
  {
   "cell_type": "code",
   "execution_count": 8,
   "id": "510702f9-1a94-4e17-a14f-1b8d6c01f8ff",
   "metadata": {
    "tags": []
   },
   "outputs": [
    {
     "data": {
      "text/plain": [
       "array([['A'],\n",
       "       ['B'],\n",
       "       [nan],\n",
       "       ['A'],\n",
       "       ['C']], dtype=object)"
      ]
     },
     "execution_count": 8,
     "metadata": {},
     "output_type": "execute_result"
    }
   ],
   "source": [
    "df['score'].values.reshape(-1,1)\n",
    "# --- -1은 어떤 수든 상관없다(줄은 상관없다. 칸은 1칸으로 해줘), 컴터가 알아서\n",
    "# --- 2차 metrics"
   ]
  },
  {
   "cell_type": "code",
   "execution_count": 9,
   "id": "1b8b38b3-aad1-4588-9975-e822ea37dcb6",
   "metadata": {
    "tags": []
   },
   "outputs": [
    {
     "name": "stdout",
     "output_type": "stream",
     "text": [
      "  (0, 0)\t1.0\n",
      "  (1, 1)\t1.0\n",
      "  (2, 3)\t1.0\n",
      "  (3, 0)\t1.0\n",
      "  (4, 2)\t1.0\n"
     ]
    }
   ],
   "source": [
    "oe = OneHotEncoder()\n",
    "oe.fit(df['score'].values.reshape(-1,1))  #------------2차 metrics 넣어라\n",
    "res = oe.transform(df['score'].values.reshape(-1,1))\n",
    "print(res)\n",
    "## sparse matrix : 희소행렬(0이 대부분)\n",
    "## 좌표값 ----- 1"
   ]
  },
  {
   "cell_type": "code",
   "execution_count": 10,
   "id": "ea2571b8-5970-478f-a0eb-f5608014554c",
   "metadata": {
    "tags": []
   },
   "outputs": [
    {
     "data": {
      "text/plain": [
       "array([[1., 0., 0., 0.],\n",
       "       [0., 1., 0., 0.],\n",
       "       [0., 0., 0., 1.],\n",
       "       [1., 0., 0., 0.],\n",
       "       [0., 0., 1., 0.]])"
      ]
     },
     "execution_count": 10,
     "metadata": {},
     "output_type": "execute_result"
    }
   ],
   "source": [
    "oe = OneHotEncoder(sparse = False)\n",
    "oe.fit(df['score'].values.reshape(-1,1))  #------------2차 metrics 넣어라\n",
    "res = oe.transform(df['score'].values.reshape(-1,1))\n",
    "res\n",
    "# 결측 있어 float ---> 숫자에 .이 붙어있다"
   ]
  },
  {
   "cell_type": "code",
   "execution_count": 11,
   "id": "12697f68-1827-4787-96e2-3427ac61bfb1",
   "metadata": {
    "tags": []
   },
   "outputs": [
    {
     "data": {
      "text/plain": [
       "[array(['A', 'B', 'C', nan], dtype=object)]"
      ]
     },
     "execution_count": 11,
     "metadata": {},
     "output_type": "execute_result"
    }
   ],
   "source": [
    "oe.categories_"
   ]
  },
  {
   "cell_type": "code",
   "execution_count": 12,
   "id": "c28f358b-76b8-4979-9e78-d0783016c862",
   "metadata": {
    "tags": []
   },
   "outputs": [
    {
     "data": {
      "text/plain": [
       "array(['A', 'B', 'C', nan], dtype=object)"
      ]
     },
     "execution_count": 12,
     "metadata": {},
     "output_type": "execute_result"
    }
   ],
   "source": [
    "oe.categories_[0]"
   ]
  },
  {
   "cell_type": "code",
   "execution_count": 13,
   "id": "e0e053bd-f9f0-4a19-ac3e-20a565b8ceda",
   "metadata": {
    "tags": []
   },
   "outputs": [
    {
     "data": {
      "text/html": [
       "<div>\n",
       "<style scoped>\n",
       "    .dataframe tbody tr th:only-of-type {\n",
       "        vertical-align: middle;\n",
       "    }\n",
       "\n",
       "    .dataframe tbody tr th {\n",
       "        vertical-align: top;\n",
       "    }\n",
       "\n",
       "    .dataframe thead th {\n",
       "        text-align: right;\n",
       "    }\n",
       "</style>\n",
       "<table border=\"1\" class=\"dataframe\">\n",
       "  <thead>\n",
       "    <tr style=\"text-align: right;\">\n",
       "      <th></th>\n",
       "      <th>A</th>\n",
       "      <th>B</th>\n",
       "      <th>C</th>\n",
       "      <th>NaN</th>\n",
       "    </tr>\n",
       "  </thead>\n",
       "  <tbody>\n",
       "    <tr>\n",
       "      <th>0</th>\n",
       "      <td>1.0</td>\n",
       "      <td>0.0</td>\n",
       "      <td>0.0</td>\n",
       "      <td>0.0</td>\n",
       "    </tr>\n",
       "    <tr>\n",
       "      <th>1</th>\n",
       "      <td>0.0</td>\n",
       "      <td>1.0</td>\n",
       "      <td>0.0</td>\n",
       "      <td>0.0</td>\n",
       "    </tr>\n",
       "    <tr>\n",
       "      <th>2</th>\n",
       "      <td>0.0</td>\n",
       "      <td>0.0</td>\n",
       "      <td>0.0</td>\n",
       "      <td>1.0</td>\n",
       "    </tr>\n",
       "    <tr>\n",
       "      <th>3</th>\n",
       "      <td>1.0</td>\n",
       "      <td>0.0</td>\n",
       "      <td>0.0</td>\n",
       "      <td>0.0</td>\n",
       "    </tr>\n",
       "    <tr>\n",
       "      <th>4</th>\n",
       "      <td>0.0</td>\n",
       "      <td>0.0</td>\n",
       "      <td>1.0</td>\n",
       "      <td>0.0</td>\n",
       "    </tr>\n",
       "  </tbody>\n",
       "</table>\n",
       "</div>"
      ],
      "text/plain": [
       "     A    B    C  NaN\n",
       "0  1.0  0.0  0.0  0.0\n",
       "1  0.0  1.0  0.0  0.0\n",
       "2  0.0  0.0  0.0  1.0\n",
       "3  1.0  0.0  0.0  0.0\n",
       "4  0.0  0.0  1.0  0.0"
      ]
     },
     "execution_count": 13,
     "metadata": {},
     "output_type": "execute_result"
    }
   ],
   "source": [
    "ohdf = pd.DataFrame(res, columns = oe.categories_[0])\n",
    "ohdf"
   ]
  },
  {
   "cell_type": "code",
   "execution_count": 14,
   "id": "e7719412-b962-4a71-bea5-a2f3ce455e32",
   "metadata": {
    "tags": []
   },
   "outputs": [
    {
     "data": {
      "text/html": [
       "<div>\n",
       "<style scoped>\n",
       "    .dataframe tbody tr th:only-of-type {\n",
       "        vertical-align: middle;\n",
       "    }\n",
       "\n",
       "    .dataframe tbody tr th {\n",
       "        vertical-align: top;\n",
       "    }\n",
       "\n",
       "    .dataframe thead th {\n",
       "        text-align: right;\n",
       "    }\n",
       "</style>\n",
       "<table border=\"1\" class=\"dataframe\">\n",
       "  <thead>\n",
       "    <tr style=\"text-align: right;\">\n",
       "      <th></th>\n",
       "      <th>name</th>\n",
       "      <th>score</th>\n",
       "      <th>le_name</th>\n",
       "      <th>A</th>\n",
       "      <th>B</th>\n",
       "      <th>C</th>\n",
       "      <th>NaN</th>\n",
       "    </tr>\n",
       "  </thead>\n",
       "  <tbody>\n",
       "    <tr>\n",
       "      <th>0</th>\n",
       "      <td>smith</td>\n",
       "      <td>A</td>\n",
       "      <td>4</td>\n",
       "      <td>1.0</td>\n",
       "      <td>0.0</td>\n",
       "      <td>0.0</td>\n",
       "      <td>0.0</td>\n",
       "    </tr>\n",
       "    <tr>\n",
       "      <th>1</th>\n",
       "      <td>martin</td>\n",
       "      <td>B</td>\n",
       "      <td>3</td>\n",
       "      <td>0.0</td>\n",
       "      <td>1.0</td>\n",
       "      <td>0.0</td>\n",
       "      <td>0.0</td>\n",
       "    </tr>\n",
       "    <tr>\n",
       "      <th>2</th>\n",
       "      <td>jones</td>\n",
       "      <td>NaN</td>\n",
       "      <td>1</td>\n",
       "      <td>0.0</td>\n",
       "      <td>0.0</td>\n",
       "      <td>0.0</td>\n",
       "      <td>1.0</td>\n",
       "    </tr>\n",
       "    <tr>\n",
       "      <th>3</th>\n",
       "      <td>allen</td>\n",
       "      <td>A</td>\n",
       "      <td>0</td>\n",
       "      <td>1.0</td>\n",
       "      <td>0.0</td>\n",
       "      <td>0.0</td>\n",
       "      <td>0.0</td>\n",
       "    </tr>\n",
       "    <tr>\n",
       "      <th>4</th>\n",
       "      <td>king</td>\n",
       "      <td>C</td>\n",
       "      <td>2</td>\n",
       "      <td>0.0</td>\n",
       "      <td>0.0</td>\n",
       "      <td>1.0</td>\n",
       "      <td>0.0</td>\n",
       "    </tr>\n",
       "  </tbody>\n",
       "</table>\n",
       "</div>"
      ],
      "text/plain": [
       "     name score  le_name    A    B    C  NaN\n",
       "0   smith     A        4  1.0  0.0  0.0  0.0\n",
       "1  martin     B        3  0.0  1.0  0.0  0.0\n",
       "2   jones   NaN        1  0.0  0.0  0.0  1.0\n",
       "3   allen     A        0  1.0  0.0  0.0  0.0\n",
       "4    king     C        2  0.0  0.0  1.0  0.0"
      ]
     },
     "execution_count": 14,
     "metadata": {},
     "output_type": "execute_result"
    }
   ],
   "source": [
    "totdf = pd.concat([df,ohdf], axis = 1)\n",
    "totdf"
   ]
  },
  {
   "cell_type": "markdown",
   "id": "926e42ad-deb8-454d-8997-49f07cdc2394",
   "metadata": {},
   "source": [
    "> <font size=4><b>(3) get_dummies() = 결측처리 + 라벨인코딩(Label Encoding) + 원핫인코딩(One-hot Encoding)\n",
    "   <pre> 주의 : 결측처리 이후에 get_dummies() 해라, 임의로 결측 채워버리니까"
   ]
  },
  {
   "cell_type": "code",
   "execution_count": 15,
   "id": "96664372-7375-476a-8582-4675016b2c52",
   "metadata": {
    "tags": []
   },
   "outputs": [
    {
     "data": {
      "text/html": [
       "<div>\n",
       "<style scoped>\n",
       "    .dataframe tbody tr th:only-of-type {\n",
       "        vertical-align: middle;\n",
       "    }\n",
       "\n",
       "    .dataframe tbody tr th {\n",
       "        vertical-align: top;\n",
       "    }\n",
       "\n",
       "    .dataframe thead th {\n",
       "        text-align: right;\n",
       "    }\n",
       "</style>\n",
       "<table border=\"1\" class=\"dataframe\">\n",
       "  <thead>\n",
       "    <tr style=\"text-align: right;\">\n",
       "      <th></th>\n",
       "      <th>name</th>\n",
       "      <th>score</th>\n",
       "    </tr>\n",
       "  </thead>\n",
       "  <tbody>\n",
       "    <tr>\n",
       "      <th>0</th>\n",
       "      <td>smith</td>\n",
       "      <td>A</td>\n",
       "    </tr>\n",
       "    <tr>\n",
       "      <th>1</th>\n",
       "      <td>martin</td>\n",
       "      <td>B</td>\n",
       "    </tr>\n",
       "    <tr>\n",
       "      <th>2</th>\n",
       "      <td>jones</td>\n",
       "      <td>NaN</td>\n",
       "    </tr>\n",
       "    <tr>\n",
       "      <th>3</th>\n",
       "      <td>allen</td>\n",
       "      <td>A</td>\n",
       "    </tr>\n",
       "    <tr>\n",
       "      <th>4</th>\n",
       "      <td>king</td>\n",
       "      <td>C</td>\n",
       "    </tr>\n",
       "  </tbody>\n",
       "</table>\n",
       "</div>"
      ],
      "text/plain": [
       "     name score\n",
       "0   smith     A\n",
       "1  martin     B\n",
       "2   jones   NaN\n",
       "3   allen     A\n",
       "4    king     C"
      ]
     },
     "execution_count": 15,
     "metadata": {},
     "output_type": "execute_result"
    }
   ],
   "source": [
    "df = pd.DataFrame({\"name\":[\"smith\",'martin',\"jones\",\"allen\",\"king\"],\n",
    "                   \"score\": [\"A\",\"B\",np.nan,\"A\",\"C\"]}\n",
    "                 )\n",
    "df.head()"
   ]
  },
  {
   "cell_type": "code",
   "execution_count": 16,
   "id": "32779537-dd93-4853-a125-55ec0f6d6394",
   "metadata": {
    "tags": []
   },
   "outputs": [
    {
     "data": {
      "text/html": [
       "<div>\n",
       "<style scoped>\n",
       "    .dataframe tbody tr th:only-of-type {\n",
       "        vertical-align: middle;\n",
       "    }\n",
       "\n",
       "    .dataframe tbody tr th {\n",
       "        vertical-align: top;\n",
       "    }\n",
       "\n",
       "    .dataframe thead th {\n",
       "        text-align: right;\n",
       "    }\n",
       "</style>\n",
       "<table border=\"1\" class=\"dataframe\">\n",
       "  <thead>\n",
       "    <tr style=\"text-align: right;\">\n",
       "      <th></th>\n",
       "      <th>name_allen</th>\n",
       "      <th>name_jones</th>\n",
       "      <th>name_king</th>\n",
       "      <th>name_martin</th>\n",
       "      <th>name_smith</th>\n",
       "      <th>score_A</th>\n",
       "      <th>score_B</th>\n",
       "      <th>score_C</th>\n",
       "    </tr>\n",
       "  </thead>\n",
       "  <tbody>\n",
       "    <tr>\n",
       "      <th>0</th>\n",
       "      <td>0</td>\n",
       "      <td>0</td>\n",
       "      <td>0</td>\n",
       "      <td>0</td>\n",
       "      <td>1</td>\n",
       "      <td>1</td>\n",
       "      <td>0</td>\n",
       "      <td>0</td>\n",
       "    </tr>\n",
       "    <tr>\n",
       "      <th>1</th>\n",
       "      <td>0</td>\n",
       "      <td>0</td>\n",
       "      <td>0</td>\n",
       "      <td>1</td>\n",
       "      <td>0</td>\n",
       "      <td>0</td>\n",
       "      <td>1</td>\n",
       "      <td>0</td>\n",
       "    </tr>\n",
       "    <tr>\n",
       "      <th>2</th>\n",
       "      <td>0</td>\n",
       "      <td>1</td>\n",
       "      <td>0</td>\n",
       "      <td>0</td>\n",
       "      <td>0</td>\n",
       "      <td>0</td>\n",
       "      <td>0</td>\n",
       "      <td>0</td>\n",
       "    </tr>\n",
       "    <tr>\n",
       "      <th>3</th>\n",
       "      <td>1</td>\n",
       "      <td>0</td>\n",
       "      <td>0</td>\n",
       "      <td>0</td>\n",
       "      <td>0</td>\n",
       "      <td>1</td>\n",
       "      <td>0</td>\n",
       "      <td>0</td>\n",
       "    </tr>\n",
       "    <tr>\n",
       "      <th>4</th>\n",
       "      <td>0</td>\n",
       "      <td>0</td>\n",
       "      <td>1</td>\n",
       "      <td>0</td>\n",
       "      <td>0</td>\n",
       "      <td>0</td>\n",
       "      <td>0</td>\n",
       "      <td>1</td>\n",
       "    </tr>\n",
       "  </tbody>\n",
       "</table>\n",
       "</div>"
      ],
      "text/plain": [
       "   name_allen  name_jones  name_king  name_martin  name_smith  score_A  \\\n",
       "0           0           0          0            0           1        1   \n",
       "1           0           0          0            1           0        0   \n",
       "2           0           1          0            0           0        0   \n",
       "3           1           0          0            0           0        1   \n",
       "4           0           0          1            0           0        0   \n",
       "\n",
       "   score_B  score_C  \n",
       "0        0        0  \n",
       "1        1        0  \n",
       "2        0        0  \n",
       "3        0        0  \n",
       "4        0        1  "
      ]
     },
     "execution_count": 16,
     "metadata": {},
     "output_type": "execute_result"
    }
   ],
   "source": [
    "ddf = pd.get_dummies(df)\n",
    "ddf\n",
    "# --- 결측은 0처리"
   ]
  },
  {
   "cell_type": "markdown",
   "id": "9d1ff091-b193-44c8-8b8f-c85c37fe1139",
   "metadata": {},
   "source": [
    "> <font size=4><b>(4) 범주화(Bining)\n",
    "> * 연속형 데이터를 구간으로 나누어 '범주화'하는 방법\n",
    "> * pd.cut()  : 동일 '구간'으로 나누기\n",
    "> * pd.qcut() : 동일 '갯수'로 나누기"
   ]
  },
  {
   "cell_type": "markdown",
   "id": "6d877f07-8245-459d-be10-8b7eae183275",
   "metadata": {
    "tags": []
   },
   "source": [
    "정규분포도를 따르는 랜덤성 데이터 생성\n",
    "<pre>\n",
    "* numpy.random.normal()\n",
    "* random.normal(loc=0.0, scale=1.0, **size=None**)\n",
    "* 정규분포도(Normal Distribution)"
   ]
  },
  {
   "cell_type": "code",
   "execution_count": 17,
   "id": "a68987ce-9b75-4ba2-a59a-eca96cb82069",
   "metadata": {
    "tags": []
   },
   "outputs": [
    {
     "data": {
      "text/plain": [
       "array([-1.69373003e+00, -2.12133296e-03, -4.25891840e-01, -2.55590464e-01,\n",
       "       -3.05778836e-01,  4.05496840e-02, -6.83544278e-02, -1.20222410e+00,\n",
       "       -1.82533369e-01, -8.79576069e-01, -2.43247772e-01,  6.74030740e-01,\n",
       "        3.44946321e-01, -6.25284842e-01, -2.06451633e-01, -8.71597419e-01,\n",
       "       -8.70105814e-01,  3.98147638e-01, -6.65255223e-01,  1.33677244e-01,\n",
       "        7.86214675e-01, -5.31721216e-03, -5.46566075e-01,  5.54579631e-01,\n",
       "        4.69517145e-01, -2.09123225e+00,  2.66136907e-03,  4.18356115e-01,\n",
       "       -1.15841479e+00, -6.15288222e-01,  2.79659470e-01, -1.57288811e+00,\n",
       "       -8.02347056e-01, -1.73179401e+00, -1.78260523e+00,  7.41370565e-01,\n",
       "        1.74266804e+00, -1.31304313e+00,  3.69799126e-01,  1.37905029e+00,\n",
       "       -3.34567377e-01, -1.62651754e-01,  1.63757631e-01, -1.69374974e+00,\n",
       "        2.29213431e+00,  6.64245496e-01, -5.17025532e-01,  1.71873654e-01,\n",
       "        9.27218701e-01,  3.79370769e-01,  7.72873330e-01,  1.33355697e-01,\n",
       "       -6.22544193e-01, -6.91079558e-01,  9.66962333e-01,  1.03573236e+00,\n",
       "        1.61207106e+00, -5.51544255e-01, -5.60789085e-01, -1.62011667e+00,\n",
       "       -6.63420510e-01,  9.90610398e-01,  1.29834982e+00,  1.17000273e+00,\n",
       "        6.61104294e-01, -2.32667295e-01,  1.70967110e+00,  1.71841349e-01,\n",
       "        4.09440405e-01, -2.75592151e-01, -1.16645267e+00,  9.81375221e-01,\n",
       "        5.01820314e-01, -2.73735380e-01, -1.69981582e-01,  8.54157805e-01,\n",
       "       -1.25994861e+00, -6.07227938e-01, -2.11249266e+00, -1.60582343e+00,\n",
       "       -3.72340249e-01, -6.86302192e-01, -7.71474944e-01, -1.11263934e+00,\n",
       "        1.23480086e+00,  1.73439654e+00, -2.15424256e-01,  1.04542417e+00,\n",
       "        4.03631056e-02, -9.72484339e-01, -3.24627308e-01,  9.78205380e-01,\n",
       "        1.18010953e+00, -6.60731008e-01,  6.97274016e-01, -2.73992653e-01,\n",
       "       -1.95975098e+00,  3.24815835e-02,  8.68352869e-01, -5.94309047e-01])"
      ]
     },
     "execution_count": 17,
     "metadata": {},
     "output_type": "execute_result"
    }
   ],
   "source": [
    "np.random.seed(89)\n",
    "ndata= np.random.normal(size = 100)\n",
    "ndata"
   ]
  },
  {
   "cell_type": "code",
   "execution_count": 18,
   "id": "f5411850-a347-4766-ab4a-f1a7d03afdbe",
   "metadata": {
    "tags": []
   },
   "outputs": [],
   "source": [
    "#! pip install matplotlib"
   ]
  },
  {
   "cell_type": "code",
   "execution_count": 19,
   "id": "3447a5b8-5cbe-46ac-b505-dad1186bd044",
   "metadata": {
    "tags": []
   },
   "outputs": [
    {
     "data": {
      "image/png": "[encoded data removed]",
      "text/plain": [
       "<Figure size 640x480 with 1 Axes>"
      ]
     },
     "metadata": {},
     "output_type": "display_data"
    }
   ],
   "source": [
    "import matplotlib.pyplot as plt\n",
    "plt.hist(ndata)\n",
    "# 도수분포표\n",
    "plt.show()"
   ]
  },
  {
   "cell_type": "code",
   "execution_count": 20,
   "id": "b8445c1a-26cf-45b3-af49-87a1185e0657",
   "metadata": {
    "tags": []
   },
   "outputs": [
    {
     "name": "stdout",
     "output_type": "stream",
     "text": [
      "[(-2.117, -1.232], (-0.351, 0.53], (-1.232, -0.351], (-0.351, 0.53], (-0.351, 0.53], ..., (-0.351, 0.53], (-2.117, -1.232], (-0.351, 0.53], (0.53, 1.411], (-1.232, -0.351]]\n",
      "Length: 100\n",
      "Categories (5, interval[float64, right]): [(-2.117, -1.232] < (-1.232, -0.351] < (-0.351, 0.53] < (0.53, 1.411] < (1.411, 2.292]]\n"
     ]
    }
   ],
   "source": [
    "cutdata = pd.cut(ndata, 5 )\n",
    "print(cutdata)"
   ]
  },
  {
   "cell_type": "code",
   "execution_count": 21,
   "id": "959e0791-8701-4fb8-8369-d97fbcf682be",
   "metadata": {
    "tags": []
   },
   "outputs": [
    {
     "name": "stdout",
     "output_type": "stream",
     "text": [
      "              counts  freqs\n",
      "categories                 \n",
      "(0.991, 2.8]       2    0.2\n",
      "(2.8, 4.6]         2    0.2\n",
      "(4.6, 6.4]         2    0.2\n",
      "(6.4, 8.2]         2    0.2\n",
      "(8.2, 10.0]        2    0.2\n",
      "(0.991, 2.8]    2\n",
      "(2.8, 4.6]      2\n",
      "(4.6, 6.4]      2\n",
      "(6.4, 8.2]      2\n",
      "(8.2, 10.0]     2\n",
      "dtype: int64\n"
     ]
    }
   ],
   "source": [
    "cutdata = pd.cut([1,2,3,4,5,6,7,8,9,10],5) # ------------구간이 동일/5개로 나눠라\n",
    "print(cutdata.describe())\n",
    "print(cutdata.value_counts())"
   ]
  },
  {
   "cell_type": "code",
   "execution_count": 22,
   "id": "4b3d6ec0-f681-48c6-b553-ea238c5daad9",
   "metadata": {
    "tags": []
   },
   "outputs": [
    {
     "data": {
      "text/html": [
       "<div>\n",
       "<style scoped>\n",
       "    .dataframe tbody tr th:only-of-type {\n",
       "        vertical-align: middle;\n",
       "    }\n",
       "\n",
       "    .dataframe tbody tr th {\n",
       "        vertical-align: top;\n",
       "    }\n",
       "\n",
       "    .dataframe thead th {\n",
       "        text-align: right;\n",
       "    }\n",
       "</style>\n",
       "<table border=\"1\" class=\"dataframe\">\n",
       "  <thead>\n",
       "    <tr style=\"text-align: right;\">\n",
       "      <th></th>\n",
       "      <th>counts</th>\n",
       "      <th>freqs</th>\n",
       "    </tr>\n",
       "    <tr>\n",
       "      <th>categories</th>\n",
       "      <th></th>\n",
       "      <th></th>\n",
       "    </tr>\n",
       "  </thead>\n",
       "  <tbody>\n",
       "    <tr>\n",
       "      <th>(0, 3]</th>\n",
       "      <td>3</td>\n",
       "      <td>0.3</td>\n",
       "    </tr>\n",
       "    <tr>\n",
       "      <th>(3, 7]</th>\n",
       "      <td>4</td>\n",
       "      <td>0.4</td>\n",
       "    </tr>\n",
       "    <tr>\n",
       "      <th>(7, 10]</th>\n",
       "      <td>3</td>\n",
       "      <td>0.3</td>\n",
       "    </tr>\n",
       "  </tbody>\n",
       "</table>\n",
       "</div>"
      ],
      "text/plain": [
       "            counts  freqs\n",
       "categories               \n",
       "(0, 3]           3    0.3\n",
       "(3, 7]           4    0.4\n",
       "(7, 10]          3    0.3"
      ]
     },
     "execution_count": 22,
     "metadata": {},
     "output_type": "execute_result"
    }
   ],
   "source": [
    "my_range = [0,3,7,10]\n",
    "# 0-3 / 4-7 / 8-10\n",
    "res = pd.cut([1,2,3,4,5,6,7,8,9,10],my_range)\n",
    "res.describe()\n",
    "# (0,3] : 0이상 3미만"
   ]
  },
  {
   "cell_type": "code",
   "execution_count": 23,
   "id": "e49363ff-b15e-4db1-8adf-2e5ca52d7693",
   "metadata": {
    "tags": []
   },
   "outputs": [
    {
     "data": {
      "text/html": [
       "<div>\n",
       "<style scoped>\n",
       "    .dataframe tbody tr th:only-of-type {\n",
       "        vertical-align: middle;\n",
       "    }\n",
       "\n",
       "    .dataframe tbody tr th {\n",
       "        vertical-align: top;\n",
       "    }\n",
       "\n",
       "    .dataframe thead th {\n",
       "        text-align: right;\n",
       "    }\n",
       "</style>\n",
       "<table border=\"1\" class=\"dataframe\">\n",
       "  <thead>\n",
       "    <tr style=\"text-align: right;\">\n",
       "      <th></th>\n",
       "      <th>counts</th>\n",
       "      <th>freqs</th>\n",
       "    </tr>\n",
       "    <tr>\n",
       "      <th>categories</th>\n",
       "      <th></th>\n",
       "      <th></th>\n",
       "    </tr>\n",
       "  </thead>\n",
       "  <tbody>\n",
       "    <tr>\n",
       "      <th>대</th>\n",
       "      <td>3</td>\n",
       "      <td>0.3</td>\n",
       "    </tr>\n",
       "    <tr>\n",
       "      <th>중</th>\n",
       "      <td>4</td>\n",
       "      <td>0.4</td>\n",
       "    </tr>\n",
       "    <tr>\n",
       "      <th>소</th>\n",
       "      <td>3</td>\n",
       "      <td>0.3</td>\n",
       "    </tr>\n",
       "  </tbody>\n",
       "</table>\n",
       "</div>"
      ],
      "text/plain": [
       "            counts  freqs\n",
       "categories               \n",
       "대                3    0.3\n",
       "중                4    0.4\n",
       "소                3    0.3"
      ]
     },
     "execution_count": 23,
     "metadata": {},
     "output_type": "execute_result"
    }
   ],
   "source": [
    "my_range = [0,3,7,10]\n",
    "my_label = ['대','중','소']\n",
    "# 0-3 / 4-7 / 8-10\n",
    "res = pd.cut([1,2,3,4,5,6,7,8,9,10], my_range, labels = my_label)\n",
    "res.describe()"
   ]
  },
  {
   "cell_type": "markdown",
   "id": "30e35e44-1711-4865-97a1-db2ab4adf270",
   "metadata": {},
   "source": [
    "## qcut()"
   ]
  },
  {
   "cell_type": "code",
   "execution_count": 24,
   "id": "7b85d68e-a6b5-4214-8eac-288856950c62",
   "metadata": {
    "tags": []
   },
   "outputs": [
    {
     "data": {
      "text/plain": [
       "array([-1.69373003e+00, -2.12133296e-03, -4.25891840e-01, -2.55590464e-01,\n",
       "       -3.05778836e-01,  4.05496840e-02, -6.83544278e-02, -1.20222410e+00,\n",
       "       -1.82533369e-01, -8.79576069e-01, -2.43247772e-01,  6.74030740e-01,\n",
       "        3.44946321e-01, -6.25284842e-01, -2.06451633e-01, -8.71597419e-01,\n",
       "       -8.70105814e-01,  3.98147638e-01, -6.65255223e-01,  1.33677244e-01,\n",
       "        7.86214675e-01, -5.31721216e-03, -5.46566075e-01,  5.54579631e-01,\n",
       "        4.69517145e-01, -2.09123225e+00,  2.66136907e-03,  4.18356115e-01,\n",
       "       -1.15841479e+00, -6.15288222e-01,  2.79659470e-01, -1.57288811e+00,\n",
       "       -8.02347056e-01, -1.73179401e+00, -1.78260523e+00,  7.41370565e-01,\n",
       "        1.74266804e+00, -1.31304313e+00,  3.69799126e-01,  1.37905029e+00,\n",
       "       -3.34567377e-01, -1.62651754e-01,  1.63757631e-01, -1.69374974e+00,\n",
       "        2.29213431e+00,  6.64245496e-01, -5.17025532e-01,  1.71873654e-01,\n",
       "        9.27218701e-01,  3.79370769e-01,  7.72873330e-01,  1.33355697e-01,\n",
       "       -6.22544193e-01, -6.91079558e-01,  9.66962333e-01,  1.03573236e+00,\n",
       "        1.61207106e+00, -5.51544255e-01, -5.60789085e-01, -1.62011667e+00,\n",
       "       -6.63420510e-01,  9.90610398e-01,  1.29834982e+00,  1.17000273e+00,\n",
       "        6.61104294e-01, -2.32667295e-01,  1.70967110e+00,  1.71841349e-01,\n",
       "        4.09440405e-01, -2.75592151e-01, -1.16645267e+00,  9.81375221e-01,\n",
       "        5.01820314e-01, -2.73735380e-01, -1.69981582e-01,  8.54157805e-01,\n",
       "       -1.25994861e+00, -6.07227938e-01, -2.11249266e+00, -1.60582343e+00,\n",
       "       -3.72340249e-01, -6.86302192e-01, -7.71474944e-01, -1.11263934e+00,\n",
       "        1.23480086e+00,  1.73439654e+00, -2.15424256e-01,  1.04542417e+00,\n",
       "        4.03631056e-02, -9.72484339e-01, -3.24627308e-01,  9.78205380e-01,\n",
       "        1.18010953e+00, -6.60731008e-01,  6.97274016e-01, -2.73992653e-01,\n",
       "       -1.95975098e+00,  3.24815835e-02,  8.68352869e-01, -5.94309047e-01])"
      ]
     },
     "execution_count": 24,
     "metadata": {},
     "output_type": "execute_result"
    }
   ],
   "source": [
    "np.random.seed(89)\n",
    "ndata= np.random.normal(size = 100)\n",
    "ndata"
   ]
  },
  {
   "cell_type": "code",
   "execution_count": 25,
   "id": "8a18192d-ec3c-4042-a73a-57eaa9ce6663",
   "metadata": {
    "tags": []
   },
   "outputs": [
    {
     "data": {
      "text/html": [
       "<div>\n",
       "<style scoped>\n",
       "    .dataframe tbody tr th:only-of-type {\n",
       "        vertical-align: middle;\n",
       "    }\n",
       "\n",
       "    .dataframe tbody tr th {\n",
       "        vertical-align: top;\n",
       "    }\n",
       "\n",
       "    .dataframe thead th {\n",
       "        text-align: right;\n",
       "    }\n",
       "</style>\n",
       "<table border=\"1\" class=\"dataframe\">\n",
       "  <thead>\n",
       "    <tr style=\"text-align: right;\">\n",
       "      <th></th>\n",
       "      <th>counts</th>\n",
       "      <th>freqs</th>\n",
       "    </tr>\n",
       "    <tr>\n",
       "      <th>categories</th>\n",
       "      <th></th>\n",
       "      <th></th>\n",
       "    </tr>\n",
       "  </thead>\n",
       "  <tbody>\n",
       "    <tr>\n",
       "      <th>(-2.113, -0.816]</th>\n",
       "      <td>20</td>\n",
       "      <td>0.2</td>\n",
       "    </tr>\n",
       "    <tr>\n",
       "      <th>(-0.816, -0.313]</th>\n",
       "      <td>20</td>\n",
       "      <td>0.2</td>\n",
       "    </tr>\n",
       "    <tr>\n",
       "      <th>(-0.313, 0.133]</th>\n",
       "      <td>20</td>\n",
       "      <td>0.2</td>\n",
       "    </tr>\n",
       "    <tr>\n",
       "      <th>(0.133, 0.776]</th>\n",
       "      <td>20</td>\n",
       "      <td>0.2</td>\n",
       "    </tr>\n",
       "    <tr>\n",
       "      <th>(0.776, 2.292]</th>\n",
       "      <td>20</td>\n",
       "      <td>0.2</td>\n",
       "    </tr>\n",
       "  </tbody>\n",
       "</table>\n",
       "</div>"
      ],
      "text/plain": [
       "                  counts  freqs\n",
       "categories                     \n",
       "(-2.113, -0.816]      20    0.2\n",
       "(-0.816, -0.313]      20    0.2\n",
       "(-0.313, 0.133]       20    0.2\n",
       "(0.133, 0.776]        20    0.2\n",
       "(0.776, 2.292]        20    0.2"
      ]
     },
     "execution_count": 25,
     "metadata": {},
     "output_type": "execute_result"
    }
   ],
   "source": [
    "qdata = pd.qcut(ndata, 5) # ------수량을 동일하게, 구간을 들쑥날쑥\n",
    "qdata.describe()"
   ]
  },
  {
   "cell_type": "markdown",
   "id": "d5dc7993-524f-485b-a860-f8673ea1bc5a",
   "metadata": {
    "tags": []
   },
   "source": [
    "> <font size=4><b>(5) category타입\n",
    "> * df['컬럼'].astype('category').cat.codes\n",
    "> * df['컬럼'].astype('category').cat.categories"
   ]
  },
  {
   "cell_type": "code",
   "execution_count": 26,
   "id": "f6bd6ee1-2478-467c-b7c7-8d6b0b83c7da",
   "metadata": {
    "tags": []
   },
   "outputs": [
    {
     "data": {
      "text/html": [
       "<div>\n",
       "<style scoped>\n",
       "    .dataframe tbody tr th:only-of-type {\n",
       "        vertical-align: middle;\n",
       "    }\n",
       "\n",
       "    .dataframe tbody tr th {\n",
       "        vertical-align: top;\n",
       "    }\n",
       "\n",
       "    .dataframe thead th {\n",
       "        text-align: right;\n",
       "    }\n",
       "</style>\n",
       "<table border=\"1\" class=\"dataframe\">\n",
       "  <thead>\n",
       "    <tr style=\"text-align: right;\">\n",
       "      <th></th>\n",
       "      <th>name</th>\n",
       "      <th>score</th>\n",
       "    </tr>\n",
       "  </thead>\n",
       "  <tbody>\n",
       "    <tr>\n",
       "      <th>0</th>\n",
       "      <td>smith</td>\n",
       "      <td>A</td>\n",
       "    </tr>\n",
       "    <tr>\n",
       "      <th>1</th>\n",
       "      <td>martin</td>\n",
       "      <td>B</td>\n",
       "    </tr>\n",
       "    <tr>\n",
       "      <th>2</th>\n",
       "      <td>jones</td>\n",
       "      <td>NaN</td>\n",
       "    </tr>\n",
       "    <tr>\n",
       "      <th>3</th>\n",
       "      <td>allen</td>\n",
       "      <td>A</td>\n",
       "    </tr>\n",
       "    <tr>\n",
       "      <th>4</th>\n",
       "      <td>king</td>\n",
       "      <td>C</td>\n",
       "    </tr>\n",
       "  </tbody>\n",
       "</table>\n",
       "</div>"
      ],
      "text/plain": [
       "     name score\n",
       "0   smith     A\n",
       "1  martin     B\n",
       "2   jones   NaN\n",
       "3   allen     A\n",
       "4    king     C"
      ]
     },
     "execution_count": 26,
     "metadata": {},
     "output_type": "execute_result"
    }
   ],
   "source": [
    "df = pd.DataFrame({\"name\":[\"smith\",'martin',\"jones\",\"allen\",\"king\"],\n",
    "                   \"score\": [\"A\",\"B\",np.nan,\"A\",\"C\"]}\n",
    "                 )\n",
    "df.head()"
   ]
  },
  {
   "cell_type": "code",
   "execution_count": 27,
   "id": "82f915f1-6c10-42d2-a757-7fe7dd1ecb24",
   "metadata": {
    "tags": []
   },
   "outputs": [
    {
     "data": {
      "text/html": [
       "<div>\n",
       "<style scoped>\n",
       "    .dataframe tbody tr th:only-of-type {\n",
       "        vertical-align: middle;\n",
       "    }\n",
       "\n",
       "    .dataframe tbody tr th {\n",
       "        vertical-align: top;\n",
       "    }\n",
       "\n",
       "    .dataframe thead th {\n",
       "        text-align: right;\n",
       "    }\n",
       "</style>\n",
       "<table border=\"1\" class=\"dataframe\">\n",
       "  <thead>\n",
       "    <tr style=\"text-align: right;\">\n",
       "      <th></th>\n",
       "      <th>name</th>\n",
       "      <th>score</th>\n",
       "      <th>names_cat_codes</th>\n",
       "    </tr>\n",
       "  </thead>\n",
       "  <tbody>\n",
       "    <tr>\n",
       "      <th>0</th>\n",
       "      <td>smith</td>\n",
       "      <td>A</td>\n",
       "      <td>4</td>\n",
       "    </tr>\n",
       "    <tr>\n",
       "      <th>1</th>\n",
       "      <td>martin</td>\n",
       "      <td>B</td>\n",
       "      <td>3</td>\n",
       "    </tr>\n",
       "    <tr>\n",
       "      <th>2</th>\n",
       "      <td>jones</td>\n",
       "      <td>NaN</td>\n",
       "      <td>1</td>\n",
       "    </tr>\n",
       "    <tr>\n",
       "      <th>3</th>\n",
       "      <td>allen</td>\n",
       "      <td>A</td>\n",
       "      <td>0</td>\n",
       "    </tr>\n",
       "    <tr>\n",
       "      <th>4</th>\n",
       "      <td>king</td>\n",
       "      <td>C</td>\n",
       "      <td>2</td>\n",
       "    </tr>\n",
       "  </tbody>\n",
       "</table>\n",
       "</div>"
      ],
      "text/plain": [
       "     name score  names_cat_codes\n",
       "0   smith     A                4\n",
       "1  martin     B                3\n",
       "2   jones   NaN                1\n",
       "3   allen     A                0\n",
       "4    king     C                2"
      ]
     },
     "execution_count": 27,
     "metadata": {},
     "output_type": "execute_result"
    }
   ],
   "source": [
    "df['names_cat_codes'] = df['name'].astype('category').cat.codes\n",
    "df"
   ]
  },
  {
   "cell_type": "code",
   "execution_count": 28,
   "id": "4f3bbb04-2422-4dae-a787-70168b9292a1",
   "metadata": {
    "tags": []
   },
   "outputs": [
    {
     "data": {
      "text/html": [
       "<div>\n",
       "<style scoped>\n",
       "    .dataframe tbody tr th:only-of-type {\n",
       "        vertical-align: middle;\n",
       "    }\n",
       "\n",
       "    .dataframe tbody tr th {\n",
       "        vertical-align: top;\n",
       "    }\n",
       "\n",
       "    .dataframe thead th {\n",
       "        text-align: right;\n",
       "    }\n",
       "</style>\n",
       "<table border=\"1\" class=\"dataframe\">\n",
       "  <thead>\n",
       "    <tr style=\"text-align: right;\">\n",
       "      <th></th>\n",
       "      <th>name</th>\n",
       "      <th>score</th>\n",
       "      <th>names_cat_codes</th>\n",
       "      <th>names_cat_categories</th>\n",
       "    </tr>\n",
       "  </thead>\n",
       "  <tbody>\n",
       "    <tr>\n",
       "      <th>0</th>\n",
       "      <td>smith</td>\n",
       "      <td>A</td>\n",
       "      <td>4</td>\n",
       "      <td>allen</td>\n",
       "    </tr>\n",
       "    <tr>\n",
       "      <th>1</th>\n",
       "      <td>martin</td>\n",
       "      <td>B</td>\n",
       "      <td>3</td>\n",
       "      <td>jones</td>\n",
       "    </tr>\n",
       "    <tr>\n",
       "      <th>2</th>\n",
       "      <td>jones</td>\n",
       "      <td>NaN</td>\n",
       "      <td>1</td>\n",
       "      <td>king</td>\n",
       "    </tr>\n",
       "    <tr>\n",
       "      <th>3</th>\n",
       "      <td>allen</td>\n",
       "      <td>A</td>\n",
       "      <td>0</td>\n",
       "      <td>martin</td>\n",
       "    </tr>\n",
       "    <tr>\n",
       "      <th>4</th>\n",
       "      <td>king</td>\n",
       "      <td>C</td>\n",
       "      <td>2</td>\n",
       "      <td>smith</td>\n",
       "    </tr>\n",
       "  </tbody>\n",
       "</table>\n",
       "</div>"
      ],
      "text/plain": [
       "     name score  names_cat_codes names_cat_categories\n",
       "0   smith     A                4                allen\n",
       "1  martin     B                3                jones\n",
       "2   jones   NaN                1                 king\n",
       "3   allen     A                0               martin\n",
       "4    king     C                2                smith"
      ]
     },
     "execution_count": 28,
     "metadata": {},
     "output_type": "execute_result"
    }
   ],
   "source": [
    "df['names_cat_categories'] = df['name'].astype('category').cat.categories\n",
    "df\n",
    "# df.info()"
   ]
  },
  {
   "cell_type": "code",
   "execution_count": null,
   "id": "96ab0645-0a0b-4e27-934e-2f7a1edfd5bf",
   "metadata": {},
   "outputs": [],
   "source": []
  },
  {
   "cell_type": "code",
   "execution_count": null,
   "id": "fe1d9bcb-32dc-4e5c-af19-d6808e970dc7",
   "metadata": {},
   "outputs": [],
   "source": []
  },
  {
   "cell_type": "code",
   "execution_count": null,
   "id": "c0b55770-24b0-4960-9105-a89f61a5bb4b",
   "metadata": {},
   "outputs": [],
   "source": []
  }
 ],
 "metadata": {
  "kernelspec": {
   "display_name": "Python 3 (ipykernel)",
   "language": "python",
   "name": "python3"
  },
  "language_info": {
   "codemirror_mode": {
    "name": "ipython",
    "version": 3
   },
   "file_extension": ".py",
   "mimetype": "text/x-python",
   "name": "python",
   "nbconvert_exporter": "python",
   "pygments_lexer": "ipython3",
   "version": "3.8.8"
  }
 },
 "nbformat": 4,
 "nbformat_minor": 5
}
