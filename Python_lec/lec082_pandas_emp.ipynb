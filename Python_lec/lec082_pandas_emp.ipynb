{
 "cells": [
  {
   "cell_type": "markdown",
   "id": "c7fd2e7c-7e03-499e-8dcc-35b027a539c2",
   "metadata": {},
   "source": [
    "# SELECT"
   ]
  },
  {
   "cell_type": "code",
   "execution_count": 4,
   "id": "f4ca4749-d8a1-494e-ba48-1b6f3e00aeee",
   "metadata": {
    "tags": []
   },
   "outputs": [],
   "source": [
    "import pandas as pd\n",
    "import numpy as np"
   ]
  },
  {
   "cell_type": "code",
   "execution_count": 6,
   "id": "07f9bdca-329f-4854-bf06-bf5aad350d02",
   "metadata": {
    "tags": []
   },
   "outputs": [],
   "source": [
    "emp = pd.read_csv(\"./lec08_emp.csv\",parse_dates=['HIREDATE'])\n",
    "# emp.head(3)\n"
   ]
  },
  {
   "cell_type": "code",
   "execution_count": 8,
   "id": "7ba16a98-ed68-4204-b4aa-a1886d9ca4a2",
   "metadata": {
    "tags": []
   },
   "outputs": [
    {
     "data": {
      "text/plain": [
       "Index(['empno', 'ename', 'job', 'mgr', 'hiredate', 'sal', 'comm', 'deptno'], dtype='object')"
      ]
     },
     "execution_count": 8,
     "metadata": {},
     "output_type": "execute_result"
    }
   ],
   "source": [
    "emp.columns = emp.columns.str.lower()\n",
    "emp.columns\n",
    "## columns 이름 소문자로"
   ]
  },
  {
   "cell_type": "markdown",
   "id": "441e2228-95c8-48ba-8978-ce66bce918ab",
   "metadata": {},
   "source": [
    "select * from emp:"
   ]
  },
  {
   "cell_type": "code",
   "execution_count": 4,
   "id": "ee3d9874-da5b-4066-9137-648e38690d07",
   "metadata": {},
   "outputs": [
    {
     "data": {
      "text/html": [
       "<div>\n",
       "<style scoped>\n",
       "    .dataframe tbody tr th:only-of-type {\n",
       "        vertical-align: middle;\n",
       "    }\n",
       "\n",
       "    .dataframe tbody tr th {\n",
       "        vertical-align: top;\n",
       "    }\n",
       "\n",
       "    .dataframe thead th {\n",
       "        text-align: right;\n",
       "    }\n",
       "</style>\n",
       "<table border=\"1\" class=\"dataframe\">\n",
       "  <thead>\n",
       "    <tr style=\"text-align: right;\">\n",
       "      <th></th>\n",
       "      <th>empno</th>\n",
       "      <th>ename</th>\n",
       "      <th>job</th>\n",
       "      <th>mgr</th>\n",
       "      <th>hiredate</th>\n",
       "      <th>sal</th>\n",
       "      <th>comm</th>\n",
       "      <th>deptno</th>\n",
       "    </tr>\n",
       "  </thead>\n",
       "  <tbody>\n",
       "    <tr>\n",
       "      <th>0</th>\n",
       "      <td>7369</td>\n",
       "      <td>SMITH</td>\n",
       "      <td>CLERK</td>\n",
       "      <td>7902.0</td>\n",
       "      <td>1980-12-17</td>\n",
       "      <td>800</td>\n",
       "      <td>NaN</td>\n",
       "      <td>20</td>\n",
       "    </tr>\n",
       "    <tr>\n",
       "      <th>1</th>\n",
       "      <td>7499</td>\n",
       "      <td>ALLEN</td>\n",
       "      <td>SALESMAN</td>\n",
       "      <td>7698.0</td>\n",
       "      <td>1981-02-20</td>\n",
       "      <td>1600</td>\n",
       "      <td>300.0</td>\n",
       "      <td>30</td>\n",
       "    </tr>\n",
       "    <tr>\n",
       "      <th>2</th>\n",
       "      <td>7521</td>\n",
       "      <td>WARD</td>\n",
       "      <td>SALESMAN</td>\n",
       "      <td>7698.0</td>\n",
       "      <td>1981-02-22</td>\n",
       "      <td>1250</td>\n",
       "      <td>500.0</td>\n",
       "      <td>30</td>\n",
       "    </tr>\n",
       "    <tr>\n",
       "      <th>3</th>\n",
       "      <td>7566</td>\n",
       "      <td>JONES</td>\n",
       "      <td>MANAGER</td>\n",
       "      <td>7839.0</td>\n",
       "      <td>1981-04-02</td>\n",
       "      <td>2975</td>\n",
       "      <td>NaN</td>\n",
       "      <td>20</td>\n",
       "    </tr>\n",
       "    <tr>\n",
       "      <th>4</th>\n",
       "      <td>7654</td>\n",
       "      <td>MARTIN</td>\n",
       "      <td>SALESMAN</td>\n",
       "      <td>7698.0</td>\n",
       "      <td>1981-09-28</td>\n",
       "      <td>1250</td>\n",
       "      <td>1400.0</td>\n",
       "      <td>30</td>\n",
       "    </tr>\n",
       "    <tr>\n",
       "      <th>5</th>\n",
       "      <td>7698</td>\n",
       "      <td>BLAKE</td>\n",
       "      <td>MANAGER</td>\n",
       "      <td>7839.0</td>\n",
       "      <td>1981-05-01</td>\n",
       "      <td>2850</td>\n",
       "      <td>NaN</td>\n",
       "      <td>30</td>\n",
       "    </tr>\n",
       "    <tr>\n",
       "      <th>6</th>\n",
       "      <td>7782</td>\n",
       "      <td>CCC</td>\n",
       "      <td>MANAGER</td>\n",
       "      <td>7839.0</td>\n",
       "      <td>1981-06-09</td>\n",
       "      <td>2450</td>\n",
       "      <td>NaN</td>\n",
       "      <td>10</td>\n",
       "    </tr>\n",
       "    <tr>\n",
       "      <th>7</th>\n",
       "      <td>7788</td>\n",
       "      <td>SCOTT</td>\n",
       "      <td>ANALYST</td>\n",
       "      <td>7566.0</td>\n",
       "      <td>1987-07-13</td>\n",
       "      <td>3000</td>\n",
       "      <td>NaN</td>\n",
       "      <td>20</td>\n",
       "    </tr>\n",
       "    <tr>\n",
       "      <th>8</th>\n",
       "      <td>7839</td>\n",
       "      <td>KING</td>\n",
       "      <td>PRESIDENT</td>\n",
       "      <td>NaN</td>\n",
       "      <td>1981-11-17</td>\n",
       "      <td>5000</td>\n",
       "      <td>NaN</td>\n",
       "      <td>10</td>\n",
       "    </tr>\n",
       "    <tr>\n",
       "      <th>9</th>\n",
       "      <td>7844</td>\n",
       "      <td>TURNER</td>\n",
       "      <td>SALESMAN</td>\n",
       "      <td>7698.0</td>\n",
       "      <td>1981-09-08</td>\n",
       "      <td>1500</td>\n",
       "      <td>0.0</td>\n",
       "      <td>30</td>\n",
       "    </tr>\n",
       "    <tr>\n",
       "      <th>10</th>\n",
       "      <td>7876</td>\n",
       "      <td>ADAMS</td>\n",
       "      <td>CLERK</td>\n",
       "      <td>7788.0</td>\n",
       "      <td>1987-07-13</td>\n",
       "      <td>1100</td>\n",
       "      <td>NaN</td>\n",
       "      <td>20</td>\n",
       "    </tr>\n",
       "    <tr>\n",
       "      <th>11</th>\n",
       "      <td>7900</td>\n",
       "      <td>JAMES</td>\n",
       "      <td>CLERK</td>\n",
       "      <td>7698.0</td>\n",
       "      <td>1981-12-03</td>\n",
       "      <td>950</td>\n",
       "      <td>NaN</td>\n",
       "      <td>30</td>\n",
       "    </tr>\n",
       "    <tr>\n",
       "      <th>12</th>\n",
       "      <td>7902</td>\n",
       "      <td>FORD</td>\n",
       "      <td>ANALYST</td>\n",
       "      <td>7566.0</td>\n",
       "      <td>1981-12-03</td>\n",
       "      <td>3000</td>\n",
       "      <td>NaN</td>\n",
       "      <td>20</td>\n",
       "    </tr>\n",
       "    <tr>\n",
       "      <th>13</th>\n",
       "      <td>7934</td>\n",
       "      <td>MILLER</td>\n",
       "      <td>CLERK</td>\n",
       "      <td>7782.0</td>\n",
       "      <td>1982-01-23</td>\n",
       "      <td>1300</td>\n",
       "      <td>NaN</td>\n",
       "      <td>10</td>\n",
       "    </tr>\n",
       "  </tbody>\n",
       "</table>\n",
       "</div>"
      ],
      "text/plain": [
       "    empno   ename        job     mgr   hiredate   sal    comm  deptno\n",
       "0    7369   SMITH      CLERK  7902.0 1980-12-17   800     NaN      20\n",
       "1    7499   ALLEN   SALESMAN  7698.0 1981-02-20  1600   300.0      30\n",
       "2    7521    WARD   SALESMAN  7698.0 1981-02-22  1250   500.0      30\n",
       "3    7566   JONES    MANAGER  7839.0 1981-04-02  2975     NaN      20\n",
       "4    7654  MARTIN   SALESMAN  7698.0 1981-09-28  1250  1400.0      30\n",
       "5    7698   BLAKE    MANAGER  7839.0 1981-05-01  2850     NaN      30\n",
       "6    7782     CCC    MANAGER  7839.0 1981-06-09  2450     NaN      10\n",
       "7    7788   SCOTT    ANALYST  7566.0 1987-07-13  3000     NaN      20\n",
       "8    7839    KING  PRESIDENT     NaN 1981-11-17  5000     NaN      10\n",
       "9    7844  TURNER   SALESMAN  7698.0 1981-09-08  1500     0.0      30\n",
       "10   7876   ADAMS      CLERK  7788.0 1987-07-13  1100     NaN      20\n",
       "11   7900   JAMES      CLERK  7698.0 1981-12-03   950     NaN      30\n",
       "12   7902    FORD    ANALYST  7566.0 1981-12-03  3000     NaN      20\n",
       "13   7934  MILLER      CLERK  7782.0 1982-01-23  1300     NaN      10"
      ]
     },
     "execution_count": 4,
     "metadata": {},
     "output_type": "execute_result"
    }
   ],
   "source": [
    "emp"
   ]
  },
  {
   "cell_type": "markdown",
   "id": "8ccb7827-f0da-42da-b88c-5fa23ce9037d",
   "metadata": {},
   "source": [
    "select ename from emp;"
   ]
  },
  {
   "cell_type": "code",
   "execution_count": 5,
   "id": "93aea949-3106-4eee-9d0e-e4b760bf29cf",
   "metadata": {
    "tags": []
   },
   "outputs": [
    {
     "data": {
      "text/plain": [
       "0      SMITH\n",
       "1      ALLEN\n",
       "2       WARD\n",
       "3      JONES\n",
       "4     MARTIN\n",
       "5      BLAKE\n",
       "6        CCC\n",
       "7      SCOTT\n",
       "8       KING\n",
       "9     TURNER\n",
       "10     ADAMS\n",
       "11     JAMES\n",
       "12      FORD\n",
       "13    MILLER\n",
       "Name: ename, dtype: object"
      ]
     },
     "execution_count": 5,
     "metadata": {},
     "output_type": "execute_result"
    }
   ],
   "source": [
    "emp['ename']"
   ]
  },
  {
   "cell_type": "markdown",
   "id": "83e8840d-b290-47c7-8911-faa0a03fd6aa",
   "metadata": {},
   "source": [
    "select  empno, ename from emp;"
   ]
  },
  {
   "cell_type": "code",
   "execution_count": 6,
   "id": "0942c0a2-5df3-4809-a632-cc257db16bf0",
   "metadata": {
    "tags": []
   },
   "outputs": [
    {
     "data": {
      "text/html": [
       "<div>\n",
       "<style scoped>\n",
       "    .dataframe tbody tr th:only-of-type {\n",
       "        vertical-align: middle;\n",
       "    }\n",
       "\n",
       "    .dataframe tbody tr th {\n",
       "        vertical-align: top;\n",
       "    }\n",
       "\n",
       "    .dataframe thead th {\n",
       "        text-align: right;\n",
       "    }\n",
       "</style>\n",
       "<table border=\"1\" class=\"dataframe\">\n",
       "  <thead>\n",
       "    <tr style=\"text-align: right;\">\n",
       "      <th></th>\n",
       "      <th>empno</th>\n",
       "      <th>ename</th>\n",
       "    </tr>\n",
       "  </thead>\n",
       "  <tbody>\n",
       "    <tr>\n",
       "      <th>0</th>\n",
       "      <td>7369</td>\n",
       "      <td>SMITH</td>\n",
       "    </tr>\n",
       "    <tr>\n",
       "      <th>1</th>\n",
       "      <td>7499</td>\n",
       "      <td>ALLEN</td>\n",
       "    </tr>\n",
       "    <tr>\n",
       "      <th>2</th>\n",
       "      <td>7521</td>\n",
       "      <td>WARD</td>\n",
       "    </tr>\n",
       "    <tr>\n",
       "      <th>3</th>\n",
       "      <td>7566</td>\n",
       "      <td>JONES</td>\n",
       "    </tr>\n",
       "    <tr>\n",
       "      <th>4</th>\n",
       "      <td>7654</td>\n",
       "      <td>MARTIN</td>\n",
       "    </tr>\n",
       "  </tbody>\n",
       "</table>\n",
       "</div>"
      ],
      "text/plain": [
       "   empno   ename\n",
       "0   7369   SMITH\n",
       "1   7499   ALLEN\n",
       "2   7521    WARD\n",
       "3   7566   JONES\n",
       "4   7654  MARTIN"
      ]
     },
     "execution_count": 6,
     "metadata": {},
     "output_type": "execute_result"
    }
   ],
   "source": [
    "emp[['empno', 'ename']].head()"
   ]
  },
  {
   "cell_type": "code",
   "execution_count": 95,
   "id": "08fde13d-475d-46a2-9fb5-ea46b6618a00",
   "metadata": {
    "tags": []
   },
   "outputs": [
    {
     "data": {
      "text/plain": [
       "empno                        7521\n",
       "job                      SALESMAN\n",
       "mgr                        7698.0\n",
       "hiredate      1981-02-22 00:00:00\n",
       "sal                          1250\n",
       "comm                        500.0\n",
       "deptno                         30\n",
       "deptno_str                     그외\n",
       "job.np                   SALESMAN\n",
       "1                        SALESMAN\n",
       "1                        SALESMAN\n",
       "Name: 2, dtype: object"
      ]
     },
     "execution_count": 95,
     "metadata": {},
     "output_type": "execute_result"
    }
   ],
   "source": [
    "emp.iloc[0] # 줄(단일값)"
   ]
  },
  {
   "cell_type": "code",
   "execution_count": 8,
   "id": "87948061-a5bd-4b04-a33a-08d422fd99f0",
   "metadata": {
    "tags": []
   },
   "outputs": [
    {
     "data": {
      "text/html": [
       "<div>\n",
       "<style scoped>\n",
       "    .dataframe tbody tr th:only-of-type {\n",
       "        vertical-align: middle;\n",
       "    }\n",
       "\n",
       "    .dataframe tbody tr th {\n",
       "        vertical-align: top;\n",
       "    }\n",
       "\n",
       "    .dataframe thead th {\n",
       "        text-align: right;\n",
       "    }\n",
       "</style>\n",
       "<table border=\"1\" class=\"dataframe\">\n",
       "  <thead>\n",
       "    <tr style=\"text-align: right;\">\n",
       "      <th></th>\n",
       "      <th>empno</th>\n",
       "      <th>ename</th>\n",
       "      <th>job</th>\n",
       "      <th>mgr</th>\n",
       "      <th>hiredate</th>\n",
       "      <th>sal</th>\n",
       "      <th>comm</th>\n",
       "      <th>deptno</th>\n",
       "    </tr>\n",
       "  </thead>\n",
       "  <tbody>\n",
       "    <tr>\n",
       "      <th>0</th>\n",
       "      <td>7369</td>\n",
       "      <td>SMITH</td>\n",
       "      <td>CLERK</td>\n",
       "      <td>7902.0</td>\n",
       "      <td>1980-12-17</td>\n",
       "      <td>800</td>\n",
       "      <td>NaN</td>\n",
       "      <td>20</td>\n",
       "    </tr>\n",
       "    <tr>\n",
       "      <th>1</th>\n",
       "      <td>7499</td>\n",
       "      <td>ALLEN</td>\n",
       "      <td>SALESMAN</td>\n",
       "      <td>7698.0</td>\n",
       "      <td>1981-02-20</td>\n",
       "      <td>1600</td>\n",
       "      <td>300.0</td>\n",
       "      <td>30</td>\n",
       "    </tr>\n",
       "    <tr>\n",
       "      <th>2</th>\n",
       "      <td>7521</td>\n",
       "      <td>WARD</td>\n",
       "      <td>SALESMAN</td>\n",
       "      <td>7698.0</td>\n",
       "      <td>1981-02-22</td>\n",
       "      <td>1250</td>\n",
       "      <td>500.0</td>\n",
       "      <td>30</td>\n",
       "    </tr>\n",
       "  </tbody>\n",
       "</table>\n",
       "</div>"
      ],
      "text/plain": [
       "   empno  ename       job     mgr   hiredate   sal   comm  deptno\n",
       "0   7369  SMITH     CLERK  7902.0 1980-12-17   800    NaN      20\n",
       "1   7499  ALLEN  SALESMAN  7698.0 1981-02-20  1600  300.0      30\n",
       "2   7521   WARD  SALESMAN  7698.0 1981-02-22  1250  500.0      30"
      ]
     },
     "execution_count": 8,
     "metadata": {},
     "output_type": "execute_result"
    }
   ],
   "source": [
    "emp.iloc[[0,1,2]] #줄[단일값,단일값,단일값]"
   ]
  },
  {
   "cell_type": "code",
   "execution_count": 9,
   "id": "1c91c236-97a9-4279-9fc0-2a1cca462a6e",
   "metadata": {
    "tags": []
   },
   "outputs": [
    {
     "data": {
      "text/plain": [
       "7369"
      ]
     },
     "execution_count": 9,
     "metadata": {},
     "output_type": "execute_result"
    }
   ],
   "source": [
    "emp.iloc[0,0] # 줄(단일값),칸(단일값)"
   ]
  },
  {
   "cell_type": "code",
   "execution_count": 10,
   "id": "770352d7-d04c-46a1-9cde-963ab3ada383",
   "metadata": {
    "tags": []
   },
   "outputs": [
    {
     "data": {
      "text/plain": [
       "empno     7369\n",
       "ename    SMITH\n",
       "Name: 0, dtype: object"
      ]
     },
     "execution_count": 10,
     "metadata": {},
     "output_type": "execute_result"
    }
   ],
   "source": [
    "emp.iloc[0,[0,1]] #줄(단일값),칸[단일값,단일값]"
   ]
  },
  {
   "cell_type": "code",
   "execution_count": 11,
   "id": "44d076cc-eb78-4e74-9c24-1912fb9619a6",
   "metadata": {
    "tags": []
   },
   "outputs": [
    {
     "data": {
      "text/html": [
       "<div>\n",
       "<style scoped>\n",
       "    .dataframe tbody tr th:only-of-type {\n",
       "        vertical-align: middle;\n",
       "    }\n",
       "\n",
       "    .dataframe tbody tr th {\n",
       "        vertical-align: top;\n",
       "    }\n",
       "\n",
       "    .dataframe thead th {\n",
       "        text-align: right;\n",
       "    }\n",
       "</style>\n",
       "<table border=\"1\" class=\"dataframe\">\n",
       "  <thead>\n",
       "    <tr style=\"text-align: right;\">\n",
       "      <th></th>\n",
       "      <th>empno</th>\n",
       "      <th>ename</th>\n",
       "    </tr>\n",
       "  </thead>\n",
       "  <tbody>\n",
       "    <tr>\n",
       "      <th>0</th>\n",
       "      <td>7369</td>\n",
       "      <td>SMITH</td>\n",
       "    </tr>\n",
       "    <tr>\n",
       "      <th>1</th>\n",
       "      <td>7499</td>\n",
       "      <td>ALLEN</td>\n",
       "    </tr>\n",
       "    <tr>\n",
       "      <th>2</th>\n",
       "      <td>7521</td>\n",
       "      <td>WARD</td>\n",
       "    </tr>\n",
       "  </tbody>\n",
       "</table>\n",
       "</div>"
      ],
      "text/plain": [
       "   empno  ename\n",
       "0   7369  SMITH\n",
       "1   7499  ALLEN\n",
       "2   7521   WARD"
      ]
     },
     "execution_count": 11,
     "metadata": {},
     "output_type": "execute_result"
    }
   ],
   "source": [
    "emp.iloc[[0,1,2],[0,1]]  #줄[단일값,단일값,단일값], 칸[단일값,단일값]"
   ]
  },
  {
   "cell_type": "code",
   "execution_count": 12,
   "id": "2c0b4e49-5cb0-4df0-ac45-e95abd4e1205",
   "metadata": {
    "tags": []
   },
   "outputs": [
    {
     "data": {
      "text/html": [
       "<div>\n",
       "<style scoped>\n",
       "    .dataframe tbody tr th:only-of-type {\n",
       "        vertical-align: middle;\n",
       "    }\n",
       "\n",
       "    .dataframe tbody tr th {\n",
       "        vertical-align: top;\n",
       "    }\n",
       "\n",
       "    .dataframe thead th {\n",
       "        text-align: right;\n",
       "    }\n",
       "</style>\n",
       "<table border=\"1\" class=\"dataframe\">\n",
       "  <thead>\n",
       "    <tr style=\"text-align: right;\">\n",
       "      <th></th>\n",
       "      <th>empno</th>\n",
       "      <th>ename</th>\n",
       "      <th>job</th>\n",
       "      <th>mgr</th>\n",
       "      <th>hiredate</th>\n",
       "      <th>sal</th>\n",
       "      <th>comm</th>\n",
       "      <th>deptno</th>\n",
       "    </tr>\n",
       "  </thead>\n",
       "  <tbody>\n",
       "    <tr>\n",
       "      <th>0</th>\n",
       "      <td>7369</td>\n",
       "      <td>SMITH</td>\n",
       "      <td>CLERK</td>\n",
       "      <td>7902.0</td>\n",
       "      <td>1980-12-17</td>\n",
       "      <td>800</td>\n",
       "      <td>NaN</td>\n",
       "      <td>20</td>\n",
       "    </tr>\n",
       "    <tr>\n",
       "      <th>1</th>\n",
       "      <td>7499</td>\n",
       "      <td>ALLEN</td>\n",
       "      <td>SALESMAN</td>\n",
       "      <td>7698.0</td>\n",
       "      <td>1981-02-20</td>\n",
       "      <td>1600</td>\n",
       "      <td>300.0</td>\n",
       "      <td>30</td>\n",
       "    </tr>\n",
       "    <tr>\n",
       "      <th>2</th>\n",
       "      <td>7521</td>\n",
       "      <td>WARD</td>\n",
       "      <td>SALESMAN</td>\n",
       "      <td>7698.0</td>\n",
       "      <td>1981-02-22</td>\n",
       "      <td>1250</td>\n",
       "      <td>500.0</td>\n",
       "      <td>30</td>\n",
       "    </tr>\n",
       "  </tbody>\n",
       "</table>\n",
       "</div>"
      ],
      "text/plain": [
       "   empno  ename       job     mgr   hiredate   sal   comm  deptno\n",
       "0   7369  SMITH     CLERK  7902.0 1980-12-17   800    NaN      20\n",
       "1   7499  ALLEN  SALESMAN  7698.0 1981-02-20  1600  300.0      30\n",
       "2   7521   WARD  SALESMAN  7698.0 1981-02-22  1250  500.0      30"
      ]
     },
     "execution_count": 12,
     "metadata": {},
     "output_type": "execute_result"
    }
   ],
   "source": [
    "emp.iloc[0:3] # 줄 슬라이싱(0이상 3미만)"
   ]
  },
  {
   "cell_type": "code",
   "execution_count": 13,
   "id": "69bb395d-cc7f-4fe1-8dd2-0d2881d2a96f",
   "metadata": {
    "tags": []
   },
   "outputs": [
    {
     "data": {
      "text/html": [
       "<div>\n",
       "<style scoped>\n",
       "    .dataframe tbody tr th:only-of-type {\n",
       "        vertical-align: middle;\n",
       "    }\n",
       "\n",
       "    .dataframe tbody tr th {\n",
       "        vertical-align: top;\n",
       "    }\n",
       "\n",
       "    .dataframe thead th {\n",
       "        text-align: right;\n",
       "    }\n",
       "</style>\n",
       "<table border=\"1\" class=\"dataframe\">\n",
       "  <thead>\n",
       "    <tr style=\"text-align: right;\">\n",
       "      <th></th>\n",
       "      <th>ename</th>\n",
       "      <th>job</th>\n",
       "      <th>mgr</th>\n",
       "    </tr>\n",
       "  </thead>\n",
       "  <tbody>\n",
       "    <tr>\n",
       "      <th>0</th>\n",
       "      <td>SMITH</td>\n",
       "      <td>CLERK</td>\n",
       "      <td>7902.0</td>\n",
       "    </tr>\n",
       "    <tr>\n",
       "      <th>1</th>\n",
       "      <td>ALLEN</td>\n",
       "      <td>SALESMAN</td>\n",
       "      <td>7698.0</td>\n",
       "    </tr>\n",
       "    <tr>\n",
       "      <th>2</th>\n",
       "      <td>WARD</td>\n",
       "      <td>SALESMAN</td>\n",
       "      <td>7698.0</td>\n",
       "    </tr>\n",
       "  </tbody>\n",
       "</table>\n",
       "</div>"
      ],
      "text/plain": [
       "   ename       job     mgr\n",
       "0  SMITH     CLERK  7902.0\n",
       "1  ALLEN  SALESMAN  7698.0\n",
       "2   WARD  SALESMAN  7698.0"
      ]
     },
     "execution_count": 13,
     "metadata": {},
     "output_type": "execute_result"
    }
   ],
   "source": [
    "emp.iloc[0:3, 1:4]  # 줄 슬라이싱, 칸 슬라이싱"
   ]
  },
  {
   "cell_type": "code",
   "execution_count": 14,
   "id": "eded2262-455f-4caf-bee6-273905e90af5",
   "metadata": {
    "tags": []
   },
   "outputs": [
    {
     "data": {
      "text/html": [
       "<div>\n",
       "<style scoped>\n",
       "    .dataframe tbody tr th:only-of-type {\n",
       "        vertical-align: middle;\n",
       "    }\n",
       "\n",
       "    .dataframe tbody tr th {\n",
       "        vertical-align: top;\n",
       "    }\n",
       "\n",
       "    .dataframe thead th {\n",
       "        text-align: right;\n",
       "    }\n",
       "</style>\n",
       "<table border=\"1\" class=\"dataframe\">\n",
       "  <thead>\n",
       "    <tr style=\"text-align: right;\">\n",
       "      <th></th>\n",
       "      <th>ename</th>\n",
       "      <th>job</th>\n",
       "      <th>mgr</th>\n",
       "    </tr>\n",
       "  </thead>\n",
       "  <tbody>\n",
       "    <tr>\n",
       "      <th>0</th>\n",
       "      <td>SMITH</td>\n",
       "      <td>CLERK</td>\n",
       "      <td>7902.0</td>\n",
       "    </tr>\n",
       "    <tr>\n",
       "      <th>2</th>\n",
       "      <td>WARD</td>\n",
       "      <td>SALESMAN</td>\n",
       "      <td>7698.0</td>\n",
       "    </tr>\n",
       "    <tr>\n",
       "      <th>5</th>\n",
       "      <td>BLAKE</td>\n",
       "      <td>MANAGER</td>\n",
       "      <td>7839.0</td>\n",
       "    </tr>\n",
       "  </tbody>\n",
       "</table>\n",
       "</div>"
      ],
      "text/plain": [
       "   ename       job     mgr\n",
       "0  SMITH     CLERK  7902.0\n",
       "2   WARD  SALESMAN  7698.0\n",
       "5  BLAKE   MANAGER  7839.0"
      ]
     },
     "execution_count": 14,
     "metadata": {},
     "output_type": "execute_result"
    }
   ],
   "source": [
    "emp.iloc[[0,2,5], 1:4] #줄[단일값,단일값,단일값], 칸(슬라이싱)"
   ]
  },
  {
   "cell_type": "markdown",
   "id": "05efd0df-d062-4e03-97d4-accf7309216c",
   "metadata": {},
   "source": [
    "## loc[줄값, 칸값]\n",
    "* 줄값 = 인덱스값\n",
    "* 칸값 = 컬럼 이름"
   ]
  },
  {
   "cell_type": "code",
   "execution_count": 15,
   "id": "08340ede-ec91-4f08-8936-e9a1c394c771",
   "metadata": {
    "tags": []
   },
   "outputs": [
    {
     "data": {
      "text/plain": [
       "1    7499\n",
       "2    7521\n",
       "3    7566\n",
       "Name: empno, dtype: int64"
      ]
     },
     "execution_count": 15,
     "metadata": {},
     "output_type": "execute_result"
    }
   ],
   "source": [
    "emp.loc[[1,2,3], 'empno']"
   ]
  },
  {
   "cell_type": "code",
   "execution_count": 16,
   "id": "39198cee-b8bc-42ec-a555-af52b42d4aec",
   "metadata": {
    "tags": []
   },
   "outputs": [
    {
     "data": {
      "text/html": [
       "<div>\n",
       "<style scoped>\n",
       "    .dataframe tbody tr th:only-of-type {\n",
       "        vertical-align: middle;\n",
       "    }\n",
       "\n",
       "    .dataframe tbody tr th {\n",
       "        vertical-align: top;\n",
       "    }\n",
       "\n",
       "    .dataframe thead th {\n",
       "        text-align: right;\n",
       "    }\n",
       "</style>\n",
       "<table border=\"1\" class=\"dataframe\">\n",
       "  <thead>\n",
       "    <tr style=\"text-align: right;\">\n",
       "      <th></th>\n",
       "      <th>empno</th>\n",
       "      <th>ename</th>\n",
       "    </tr>\n",
       "  </thead>\n",
       "  <tbody>\n",
       "    <tr>\n",
       "      <th>1</th>\n",
       "      <td>7499</td>\n",
       "      <td>ALLEN</td>\n",
       "    </tr>\n",
       "    <tr>\n",
       "      <th>2</th>\n",
       "      <td>7521</td>\n",
       "      <td>WARD</td>\n",
       "    </tr>\n",
       "    <tr>\n",
       "      <th>3</th>\n",
       "      <td>7566</td>\n",
       "      <td>JONES</td>\n",
       "    </tr>\n",
       "  </tbody>\n",
       "</table>\n",
       "</div>"
      ],
      "text/plain": [
       "   empno  ename\n",
       "1   7499  ALLEN\n",
       "2   7521   WARD\n",
       "3   7566  JONES"
      ]
     },
     "execution_count": 16,
     "metadata": {},
     "output_type": "execute_result"
    }
   ],
   "source": [
    "emp.loc[[1,2,3], ['empno','ename']]"
   ]
  },
  {
   "cell_type": "code",
   "execution_count": 9,
   "id": "a2320742-242f-4dd4-a787-5b720871ef01",
   "metadata": {
    "tags": []
   },
   "outputs": [
    {
     "data": {
      "text/html": [
       "<div>\n",
       "<style scoped>\n",
       "    .dataframe tbody tr th:only-of-type {\n",
       "        vertical-align: middle;\n",
       "    }\n",
       "\n",
       "    .dataframe tbody tr th {\n",
       "        vertical-align: top;\n",
       "    }\n",
       "\n",
       "    .dataframe thead th {\n",
       "        text-align: right;\n",
       "    }\n",
       "</style>\n",
       "<table border=\"1\" class=\"dataframe\">\n",
       "  <thead>\n",
       "    <tr style=\"text-align: right;\">\n",
       "      <th></th>\n",
       "      <th>empno</th>\n",
       "      <th>ename</th>\n",
       "      <th>job</th>\n",
       "      <th>mgr</th>\n",
       "    </tr>\n",
       "  </thead>\n",
       "  <tbody>\n",
       "    <tr>\n",
       "      <th>0</th>\n",
       "      <td>7369</td>\n",
       "      <td>SMITH</td>\n",
       "      <td>CLERK</td>\n",
       "      <td>7902.0</td>\n",
       "    </tr>\n",
       "    <tr>\n",
       "      <th>1</th>\n",
       "      <td>7499</td>\n",
       "      <td>ALLEN</td>\n",
       "      <td>SALESMAN</td>\n",
       "      <td>7698.0</td>\n",
       "    </tr>\n",
       "    <tr>\n",
       "      <th>2</th>\n",
       "      <td>7521</td>\n",
       "      <td>WARD</td>\n",
       "      <td>SALESMAN</td>\n",
       "      <td>7698.0</td>\n",
       "    </tr>\n",
       "    <tr>\n",
       "      <th>3</th>\n",
       "      <td>7566</td>\n",
       "      <td>JONES</td>\n",
       "      <td>MANAGER</td>\n",
       "      <td>7839.0</td>\n",
       "    </tr>\n",
       "  </tbody>\n",
       "</table>\n",
       "</div>"
      ],
      "text/plain": [
       "   empno  ename       job     mgr\n",
       "0   7369  SMITH     CLERK  7902.0\n",
       "1   7499  ALLEN  SALESMAN  7698.0\n",
       "2   7521   WARD  SALESMAN  7698.0\n",
       "3   7566  JONES   MANAGER  7839.0"
      ]
     },
     "execution_count": 9,
     "metadata": {},
     "output_type": "execute_result"
    }
   ],
   "source": [
    "emp.loc[0:3,'empno':'mgr']\n",
    "### 주의주의주의\n",
    "### .loc[]슬라이싱할때 이상:이하 이다"
   ]
  },
  {
   "cell_type": "code",
   "execution_count": null,
   "id": "b07e0adb-0c24-4298-af8e-7d709ead96a9",
   "metadata": {
    "tags": []
   },
   "outputs": [],
   "source": [
    "emp.iloc[1:5,2:5]\n",
    "#emp.iloc[[1,2,3,4],[2,3,4]]\n",
    "# emp.loc[[1,2,3,4],['job','mgr','hiredate',]]\n",
    "# emp.loc[1:4,'job':'hiredate']"
   ]
  },
  {
   "cell_type": "markdown",
   "id": "14b4bef7-3ca3-4e99-b343-ecaed63812be",
   "metadata": {},
   "source": [
    "## where 조건\n",
    "* df[ 조건 ]\n",
    "* df[ 조건 ][ 컬럼 ]\n",
    "* df[ 컬럼 ][ 조건 ]"
   ]
  },
  {
   "cell_type": "markdown",
   "id": "2f98fd19-9bf1-4df6-aa10-c2aef03dbbc3",
   "metadata": {},
   "source": [
    "select * from emp where deptno = 10;"
   ]
  },
  {
   "cell_type": "code",
   "execution_count": null,
   "id": "94c22e39-c0d0-47be-bddd-0b3231b85ae2",
   "metadata": {
    "tags": []
   },
   "outputs": [],
   "source": [
    "emp[emp['deptno']==10 ]"
   ]
  },
  {
   "cell_type": "markdown",
   "id": "4c68e732-9eb6-4e0f-98cd-7b27da4e82f6",
   "metadata": {},
   "source": [
    "select empno,ename from emp where deptno = 10;"
   ]
  },
  {
   "cell_type": "code",
   "execution_count": null,
   "id": "2bfed060-9127-428e-89a7-7da577e3a8ca",
   "metadata": {
    "tags": []
   },
   "outputs": [],
   "source": [
    "emp[['empno','ename']][emp['deptno']==10 ]"
   ]
  },
  {
   "cell_type": "markdown",
   "id": "e0d86bb5-4a71-4d67-b5da-e34a61c52c09",
   "metadata": {},
   "source": [
    "## 멀티조건\n",
    "* and : &\n",
    "* or : |\n",
    "* 반드시 괄호로 묶어라 \n",
    "* df[][ (조건) & (조건) ]\n",
    "* df[][ (조건) | (조건) ]\n",
    "* df[][ ( (조건) & (조건) ) | (조건) ] ---괄호먼저"
   ]
  },
  {
   "cell_type": "markdown",
   "id": "cdaaf582-b2b6-4e25-8f08-61fbf82a537e",
   "metadata": {},
   "source": [
    "select empno, ename, sal from emp where deptno = 10 and sal >2000;"
   ]
  },
  {
   "cell_type": "code",
   "execution_count": null,
   "id": "c637ffec-2b84-4ec6-a98b-9124b8daec2d",
   "metadata": {
    "tags": []
   },
   "outputs": [],
   "source": [
    "emp[ ['empno','ename','sal'] ] [ (emp['deptno']==10 ) & (emp['sal']>2000) ]\n"
   ]
  },
  {
   "cell_type": "markdown",
   "id": "ca6c06cb-08ea-4a7c-ae51-c8907c83c54d",
   "metadata": {},
   "source": [
    "# subquery 비추"
   ]
  },
  {
   "cell_type": "markdown",
   "id": "c9b62413-d0b7-4d10-856b-1416ae373f0f",
   "metadata": {},
   "source": [
    "select ename, job from emp where job = (select job from emp where empno = 7369);"
   ]
  },
  {
   "cell_type": "code",
   "execution_count": null,
   "id": "a75f112e-6565-4c51-aa47-8053d287a85e",
   "metadata": {
    "tags": []
   },
   "outputs": [],
   "source": [
    "job7369 = emp['job'][emp['empno']==7369].values[0]"
   ]
  },
  {
   "cell_type": "code",
   "execution_count": null,
   "id": "4ce4be9f-b5f6-4b4f-8504-55d40c9807ad",
   "metadata": {
    "tags": []
   },
   "outputs": [],
   "source": [
    "emp[['ename','job']][emp['job']== job7369]"
   ]
  },
  {
   "cell_type": "markdown",
   "id": "321877c9-3c1d-4d5b-a9de-7ac5a211142e",
   "metadata": {},
   "source": [
    "select ename, job from emp where job in(select job from emp where deptno = 10);"
   ]
  },
  {
   "cell_type": "code",
   "execution_count": null,
   "id": "dd3f72b7-5309-40ca-8896-538ed2e283af",
   "metadata": {
    "tags": []
   },
   "outputs": [],
   "source": [
    "job10_arr= emp['job'][emp['deptno']==10]"
   ]
  },
  {
   "cell_type": "code",
   "execution_count": null,
   "id": "e8dc8985-c7f6-4091-a629-1d51cba7e03b",
   "metadata": {
    "tags": []
   },
   "outputs": [],
   "source": [
    "emp[['ename','job']][ emp['job'].isin(job10_arr)]"
   ]
  },
  {
   "cell_type": "markdown",
   "id": "06194077-059b-4f6f-84fb-67b0f0ef166b",
   "metadata": {},
   "source": [
    "# 컬럼연산"
   ]
  },
  {
   "cell_type": "markdown",
   "id": "9cc2c503-ff90-406b-b6e4-a9c28cefe044",
   "metadata": {},
   "source": [
    "컬럼 합치기\n",
    "select job||ename from emp;\n",
    "select concat(job, ename) from emp;"
   ]
  },
  {
   "cell_type": "code",
   "execution_count": 12,
   "id": "6182fc2e-3d56-45d2-945c-dd9299f4fdc9",
   "metadata": {
    "tags": []
   },
   "outputs": [
    {
     "data": {
      "text/plain": [
       "0        CLERKSMITH\n",
       "1     SALESMANALLEN\n",
       "2      SALESMANWARD\n",
       "3      MANAGERJONES\n",
       "4    SALESMANMARTIN\n",
       "dtype: object"
      ]
     },
     "execution_count": 12,
     "metadata": {},
     "output_type": "execute_result"
    }
   ],
   "source": [
    "aa = emp['job'] + emp['ename']\n",
    "aa.head()\n",
    "## 타입이 다르면 안 된다('sal' + 'ename')"
   ]
  },
  {
   "cell_type": "markdown",
   "id": "6f73f75d-03ef-4ae7-8eac-8538382aab8f",
   "metadata": {},
   "source": [
    "컬럼 연산\n",
    "select sal, sal * 12 as asal from emp;"
   ]
  },
  {
   "cell_type": "code",
   "execution_count": null,
   "id": "565be8db-a46b-48ee-868a-f1027f66f2e4",
   "metadata": {
    "tags": []
   },
   "outputs": [],
   "source": [
    "emp['asal'] = emp['sal'] *12\n",
    "## 원본 emp에 컬럼추가\n",
    "emp['sal'] = emp['sal'] *12\n",
    "## 원본 sal칼럼에 덮어쓰기"
   ]
  },
  {
   "cell_type": "code",
   "execution_count": null,
   "id": "b1603398-4bdd-4b08-a883-8e62ba9031b0",
   "metadata": {
    "tags": []
   },
   "outputs": [],
   "source": [
    "emp.head()"
   ]
  },
  {
   "cell_type": "markdown",
   "id": "2efa042d-f30f-4cb7-8014-ae7a762f4084",
   "metadata": {},
   "source": [
    "# 결측처리\n",
    "* df.dropna()\n",
    "*  df['comm'].fillna(0) : nvl(comm,0)\n",
    "*  df['comm'].isna() : where comm is null"
   ]
  },
  {
   "cell_type": "markdown",
   "id": "14e544a8-300b-4a8b-8c1e-464910b3ae84",
   "metadata": {},
   "source": [
    "select comm, nvl(comm,0) as comm2 from emp;"
   ]
  },
  {
   "cell_type": "code",
   "execution_count": 13,
   "id": "1fc07daa-1f73-4e8e-9a71-cedfb74173f4",
   "metadata": {
    "tags": []
   },
   "outputs": [
    {
     "data": {
      "text/html": [
       "<div>\n",
       "<style scoped>\n",
       "    .dataframe tbody tr th:only-of-type {\n",
       "        vertical-align: middle;\n",
       "    }\n",
       "\n",
       "    .dataframe tbody tr th {\n",
       "        vertical-align: top;\n",
       "    }\n",
       "\n",
       "    .dataframe thead th {\n",
       "        text-align: right;\n",
       "    }\n",
       "</style>\n",
       "<table border=\"1\" class=\"dataframe\">\n",
       "  <thead>\n",
       "    <tr style=\"text-align: right;\">\n",
       "      <th></th>\n",
       "      <th>comm</th>\n",
       "      <th>comm2</th>\n",
       "    </tr>\n",
       "  </thead>\n",
       "  <tbody>\n",
       "    <tr>\n",
       "      <th>0</th>\n",
       "      <td>NaN</td>\n",
       "      <td>0.0</td>\n",
       "    </tr>\n",
       "    <tr>\n",
       "      <th>1</th>\n",
       "      <td>300.0</td>\n",
       "      <td>300.0</td>\n",
       "    </tr>\n",
       "    <tr>\n",
       "      <th>2</th>\n",
       "      <td>500.0</td>\n",
       "      <td>500.0</td>\n",
       "    </tr>\n",
       "    <tr>\n",
       "      <th>3</th>\n",
       "      <td>NaN</td>\n",
       "      <td>0.0</td>\n",
       "    </tr>\n",
       "    <tr>\n",
       "      <th>4</th>\n",
       "      <td>1400.0</td>\n",
       "      <td>1400.0</td>\n",
       "    </tr>\n",
       "  </tbody>\n",
       "</table>\n",
       "</div>"
      ],
      "text/plain": [
       "     comm   comm2\n",
       "0     NaN     0.0\n",
       "1   300.0   300.0\n",
       "2   500.0   500.0\n",
       "3     NaN     0.0\n",
       "4  1400.0  1400.0"
      ]
     },
     "execution_count": 13,
     "metadata": {},
     "output_type": "execute_result"
    }
   ],
   "source": [
    "emp['comm2'] = emp['comm'].fillna(0)\n",
    "emp[['comm','comm2']].head()"
   ]
  },
  {
   "cell_type": "markdown",
   "id": "77ccbfff-b72d-4c01-bd2a-a939397c49bd",
   "metadata": {},
   "source": [
    "# 그룹\n",
    "* 그룹함수 :mean(),max(),min(), count(),sum(), std()\n",
    "* df.groupby('컬럼')"
   ]
  },
  {
   "cell_type": "markdown",
   "id": "0c55709f-e7ec-42ed-a16a-8ae9fe70eb9e",
   "metadata": {},
   "source": [
    "select deptno, count(empno) from emp group by deptno;"
   ]
  },
  {
   "cell_type": "code",
   "execution_count": 19,
   "id": "4b6b4777-0076-4b01-a7a6-32c9682a0b04",
   "metadata": {
    "tags": []
   },
   "outputs": [
    {
     "data": {
      "text/plain": [
       "deptno\n",
       "10    3\n",
       "20    5\n",
       "30    6\n",
       "Name: deptno, dtype: int64"
      ]
     },
     "execution_count": 19,
     "metadata": {},
     "output_type": "execute_result"
    }
   ],
   "source": [
    "emp.groupby('deptno')['deptno'].count()"
   ]
  },
  {
   "cell_type": "code",
   "execution_count": 20,
   "id": "55e96347-dd89-4828-bdf3-2e3da6494f37",
   "metadata": {
    "tags": []
   },
   "outputs": [
    {
     "data": {
      "text/html": [
       "<div>\n",
       "<style scoped>\n",
       "    .dataframe tbody tr th:only-of-type {\n",
       "        vertical-align: middle;\n",
       "    }\n",
       "\n",
       "    .dataframe tbody tr th {\n",
       "        vertical-align: top;\n",
       "    }\n",
       "\n",
       "    .dataframe thead th {\n",
       "        text-align: right;\n",
       "    }\n",
       "</style>\n",
       "<table border=\"1\" class=\"dataframe\">\n",
       "  <thead>\n",
       "    <tr style=\"text-align: right;\">\n",
       "      <th></th>\n",
       "      <th>empno</th>\n",
       "      <th>ename</th>\n",
       "      <th>job</th>\n",
       "      <th>mgr</th>\n",
       "      <th>hiredate</th>\n",
       "      <th>sal</th>\n",
       "      <th>comm</th>\n",
       "    </tr>\n",
       "    <tr>\n",
       "      <th>deptno</th>\n",
       "      <th></th>\n",
       "      <th></th>\n",
       "      <th></th>\n",
       "      <th></th>\n",
       "      <th></th>\n",
       "      <th></th>\n",
       "      <th></th>\n",
       "    </tr>\n",
       "  </thead>\n",
       "  <tbody>\n",
       "    <tr>\n",
       "      <th>10</th>\n",
       "      <td>7782</td>\n",
       "      <td>CCC</td>\n",
       "      <td>MANAGER</td>\n",
       "      <td>7839.0</td>\n",
       "      <td>1981-06-09</td>\n",
       "      <td>2450</td>\n",
       "      <td>NaN</td>\n",
       "    </tr>\n",
       "    <tr>\n",
       "      <th>20</th>\n",
       "      <td>7369</td>\n",
       "      <td>SMITH</td>\n",
       "      <td>CLERK</td>\n",
       "      <td>7902.0</td>\n",
       "      <td>1980-12-17</td>\n",
       "      <td>800</td>\n",
       "      <td>NaN</td>\n",
       "    </tr>\n",
       "    <tr>\n",
       "      <th>30</th>\n",
       "      <td>7499</td>\n",
       "      <td>ALLEN</td>\n",
       "      <td>SALESMAN</td>\n",
       "      <td>7698.0</td>\n",
       "      <td>1981-02-20</td>\n",
       "      <td>1600</td>\n",
       "      <td>300.0</td>\n",
       "    </tr>\n",
       "  </tbody>\n",
       "</table>\n",
       "</div>"
      ],
      "text/plain": [
       "        empno  ename       job     mgr   hiredate   sal   comm\n",
       "deptno                                                        \n",
       "10       7782    CCC   MANAGER  7839.0 1981-06-09  2450    NaN\n",
       "20       7369  SMITH     CLERK  7902.0 1980-12-17   800    NaN\n",
       "30       7499  ALLEN  SALESMAN  7698.0 1981-02-20  1600  300.0"
      ]
     },
     "execution_count": 20,
     "metadata": {},
     "output_type": "execute_result"
    }
   ],
   "source": [
    "emp.groupby('deptno').first()"
   ]
  },
  {
   "cell_type": "markdown",
   "id": "44b81735-2362-4690-8b3e-4d92db01a25a",
   "metadata": {},
   "source": [
    "select deptno, sum(sal) from emp group by deptno;"
   ]
  },
  {
   "cell_type": "code",
   "execution_count": 25,
   "id": "1c5a7033-7dc7-49ee-a418-9401ce363141",
   "metadata": {
    "tags": []
   },
   "outputs": [
    {
     "data": {
      "text/plain": [
       "deptno\n",
       "10     8750\n",
       "20    10875\n",
       "30     9400\n",
       "Name: sal, dtype: int64"
      ]
     },
     "execution_count": 25,
     "metadata": {},
     "output_type": "execute_result"
    }
   ],
   "source": [
    "emp.groupby('deptno')['sal'].sum()"
   ]
  },
  {
   "cell_type": "code",
   "execution_count": 26,
   "id": "26dc3ba0-7621-48a7-bd21-97987629473a",
   "metadata": {
    "tags": []
   },
   "outputs": [
    {
     "data": {
      "text/html": [
       "<div>\n",
       "<style scoped>\n",
       "    .dataframe tbody tr th:only-of-type {\n",
       "        vertical-align: middle;\n",
       "    }\n",
       "\n",
       "    .dataframe tbody tr th {\n",
       "        vertical-align: top;\n",
       "    }\n",
       "\n",
       "    .dataframe thead tr th {\n",
       "        text-align: left;\n",
       "    }\n",
       "\n",
       "    .dataframe thead tr:last-of-type th {\n",
       "        text-align: right;\n",
       "    }\n",
       "</style>\n",
       "<table border=\"1\" class=\"dataframe\">\n",
       "  <thead>\n",
       "    <tr>\n",
       "      <th></th>\n",
       "      <th colspan=\"8\" halign=\"left\">empno</th>\n",
       "      <th colspan=\"2\" halign=\"left\">mgr</th>\n",
       "      <th>...</th>\n",
       "      <th colspan=\"2\" halign=\"left\">sal</th>\n",
       "      <th colspan=\"8\" halign=\"left\">comm</th>\n",
       "    </tr>\n",
       "    <tr>\n",
       "      <th></th>\n",
       "      <th>count</th>\n",
       "      <th>mean</th>\n",
       "      <th>std</th>\n",
       "      <th>min</th>\n",
       "      <th>25%</th>\n",
       "      <th>50%</th>\n",
       "      <th>75%</th>\n",
       "      <th>max</th>\n",
       "      <th>count</th>\n",
       "      <th>mean</th>\n",
       "      <th>...</th>\n",
       "      <th>75%</th>\n",
       "      <th>max</th>\n",
       "      <th>count</th>\n",
       "      <th>mean</th>\n",
       "      <th>std</th>\n",
       "      <th>min</th>\n",
       "      <th>25%</th>\n",
       "      <th>50%</th>\n",
       "      <th>75%</th>\n",
       "      <th>max</th>\n",
       "    </tr>\n",
       "    <tr>\n",
       "      <th>deptno</th>\n",
       "      <th></th>\n",
       "      <th></th>\n",
       "      <th></th>\n",
       "      <th></th>\n",
       "      <th></th>\n",
       "      <th></th>\n",
       "      <th></th>\n",
       "      <th></th>\n",
       "      <th></th>\n",
       "      <th></th>\n",
       "      <th></th>\n",
       "      <th></th>\n",
       "      <th></th>\n",
       "      <th></th>\n",
       "      <th></th>\n",
       "      <th></th>\n",
       "      <th></th>\n",
       "      <th></th>\n",
       "      <th></th>\n",
       "      <th></th>\n",
       "      <th></th>\n",
       "    </tr>\n",
       "  </thead>\n",
       "  <tbody>\n",
       "    <tr>\n",
       "      <th>10</th>\n",
       "      <td>3.0</td>\n",
       "      <td>7851.666667</td>\n",
       "      <td>76.787586</td>\n",
       "      <td>7782.0</td>\n",
       "      <td>7810.50</td>\n",
       "      <td>7839.0</td>\n",
       "      <td>7886.5</td>\n",
       "      <td>7934.0</td>\n",
       "      <td>2.0</td>\n",
       "      <td>7810.5</td>\n",
       "      <td>...</td>\n",
       "      <td>3725.0</td>\n",
       "      <td>5000.0</td>\n",
       "      <td>0.0</td>\n",
       "      <td>NaN</td>\n",
       "      <td>NaN</td>\n",
       "      <td>NaN</td>\n",
       "      <td>NaN</td>\n",
       "      <td>NaN</td>\n",
       "      <td>NaN</td>\n",
       "      <td>NaN</td>\n",
       "    </tr>\n",
       "    <tr>\n",
       "      <th>20</th>\n",
       "      <td>5.0</td>\n",
       "      <td>7700.200000</td>\n",
       "      <td>227.508681</td>\n",
       "      <td>7369.0</td>\n",
       "      <td>7566.00</td>\n",
       "      <td>7788.0</td>\n",
       "      <td>7876.0</td>\n",
       "      <td>7902.0</td>\n",
       "      <td>5.0</td>\n",
       "      <td>7732.2</td>\n",
       "      <td>...</td>\n",
       "      <td>3000.0</td>\n",
       "      <td>3000.0</td>\n",
       "      <td>0.0</td>\n",
       "      <td>NaN</td>\n",
       "      <td>NaN</td>\n",
       "      <td>NaN</td>\n",
       "      <td>NaN</td>\n",
       "      <td>NaN</td>\n",
       "      <td>NaN</td>\n",
       "      <td>NaN</td>\n",
       "    </tr>\n",
       "    <tr>\n",
       "      <th>30</th>\n",
       "      <td>6.0</td>\n",
       "      <td>7686.000000</td>\n",
       "      <td>163.781562</td>\n",
       "      <td>7499.0</td>\n",
       "      <td>7554.25</td>\n",
       "      <td>7676.0</td>\n",
       "      <td>7807.5</td>\n",
       "      <td>7900.0</td>\n",
       "      <td>6.0</td>\n",
       "      <td>7721.5</td>\n",
       "      <td>...</td>\n",
       "      <td>1575.0</td>\n",
       "      <td>2850.0</td>\n",
       "      <td>4.0</td>\n",
       "      <td>550.0</td>\n",
       "      <td>602.771377</td>\n",
       "      <td>0.0</td>\n",
       "      <td>225.0</td>\n",
       "      <td>400.0</td>\n",
       "      <td>725.0</td>\n",
       "      <td>1400.0</td>\n",
       "    </tr>\n",
       "  </tbody>\n",
       "</table>\n",
       "<p>3 rows × 32 columns</p>\n",
       "</div>"
      ],
      "text/plain": [
       "       empno                                                            \\\n",
       "       count         mean         std     min      25%     50%     75%   \n",
       "deptno                                                                   \n",
       "10       3.0  7851.666667   76.787586  7782.0  7810.50  7839.0  7886.5   \n",
       "20       5.0  7700.200000  227.508681  7369.0  7566.00  7788.0  7876.0   \n",
       "30       6.0  7686.000000  163.781562  7499.0  7554.25  7676.0  7807.5   \n",
       "\n",
       "                 mgr          ...     sal          comm                     \\\n",
       "           max count    mean  ...     75%     max count   mean         std   \n",
       "deptno                        ...                                            \n",
       "10      7934.0   2.0  7810.5  ...  3725.0  5000.0   0.0    NaN         NaN   \n",
       "20      7902.0   5.0  7732.2  ...  3000.0  3000.0   0.0    NaN         NaN   \n",
       "30      7900.0   6.0  7721.5  ...  1575.0  2850.0   4.0  550.0  602.771377   \n",
       "\n",
       "                                          \n",
       "        min    25%    50%    75%     max  \n",
       "deptno                                    \n",
       "10      NaN    NaN    NaN    NaN     NaN  \n",
       "20      NaN    NaN    NaN    NaN     NaN  \n",
       "30      0.0  225.0  400.0  725.0  1400.0  \n",
       "\n",
       "[3 rows x 32 columns]"
      ]
     },
     "execution_count": 26,
     "metadata": {},
     "output_type": "execute_result"
    }
   ],
   "source": [
    "emp.groupby('deptno').describe()"
   ]
  },
  {
   "cell_type": "markdown",
   "id": "a290c335-e842-4996-b7c6-90610e987072",
   "metadata": {},
   "source": [
    "select deptno, max(sal), min(sal) from emp group by deptno;"
   ]
  },
  {
   "cell_type": "code",
   "execution_count": 35,
   "id": "429d329c-ced4-40d5-a9f7-60d6655280ae",
   "metadata": {
    "tags": []
   },
   "outputs": [
    {
     "data": {
      "text/plain": [
       "deptno\n",
       "10    1300\n",
       "20     800\n",
       "30     950\n",
       "Name: sal, dtype: int64"
      ]
     },
     "execution_count": 35,
     "metadata": {},
     "output_type": "execute_result"
    }
   ],
   "source": [
    "emp.groupby('deptno')['sal'].max()\n",
    "emp.groupby('deptno')['sal'].min()"
   ]
  },
  {
   "cell_type": "code",
   "execution_count": 32,
   "id": "c7ad7520-06c6-491a-8479-37e7a938ff2c",
   "metadata": {
    "tags": []
   },
   "outputs": [
    {
     "data": {
      "text/html": [
       "<div>\n",
       "<style scoped>\n",
       "    .dataframe tbody tr th:only-of-type {\n",
       "        vertical-align: middle;\n",
       "    }\n",
       "\n",
       "    .dataframe tbody tr th {\n",
       "        vertical-align: top;\n",
       "    }\n",
       "\n",
       "    .dataframe thead th {\n",
       "        text-align: right;\n",
       "    }\n",
       "</style>\n",
       "<table border=\"1\" class=\"dataframe\">\n",
       "  <thead>\n",
       "    <tr style=\"text-align: right;\">\n",
       "      <th></th>\n",
       "      <th>sal</th>\n",
       "      <th>comm</th>\n",
       "    </tr>\n",
       "    <tr>\n",
       "      <th>deptno</th>\n",
       "      <th></th>\n",
       "      <th></th>\n",
       "    </tr>\n",
       "  </thead>\n",
       "  <tbody>\n",
       "    <tr>\n",
       "      <th>10</th>\n",
       "      <td>5000</td>\n",
       "      <td>NaN</td>\n",
       "    </tr>\n",
       "    <tr>\n",
       "      <th>20</th>\n",
       "      <td>3000</td>\n",
       "      <td>NaN</td>\n",
       "    </tr>\n",
       "    <tr>\n",
       "      <th>30</th>\n",
       "      <td>2850</td>\n",
       "      <td>0.0</td>\n",
       "    </tr>\n",
       "  </tbody>\n",
       "</table>\n",
       "</div>"
      ],
      "text/plain": [
       "         sal  comm\n",
       "deptno            \n",
       "10      5000   NaN\n",
       "20      3000   NaN\n",
       "30      2850   0.0"
      ]
     },
     "execution_count": 32,
     "metadata": {},
     "output_type": "execute_result"
    }
   ],
   "source": [
    "emp.groupby('deptno').agg( {'sal':'max','comm':'min' } )\n",
    "# agg > aggregation(합쳐라)"
   ]
  },
  {
   "cell_type": "code",
   "execution_count": null,
   "id": "4347c388-ecb2-4fd1-a0f2-cc911aec5c21",
   "metadata": {},
   "outputs": [],
   "source": [
    "emp.groupby('deptno').agg( {'sal':'max','sal':'min' } )\n",
    "## X 안된다 딕셔너리에 같은 키 못쓴다"
   ]
  },
  {
   "cell_type": "code",
   "execution_count": 34,
   "id": "5b593505-f3ea-4b55-9ab2-027b62ac562f",
   "metadata": {
    "tags": []
   },
   "outputs": [
    {
     "data": {
      "text/html": [
       "<div>\n",
       "<style scoped>\n",
       "    .dataframe tbody tr th:only-of-type {\n",
       "        vertical-align: middle;\n",
       "    }\n",
       "\n",
       "    .dataframe tbody tr th {\n",
       "        vertical-align: top;\n",
       "    }\n",
       "\n",
       "    .dataframe thead th {\n",
       "        text-align: right;\n",
       "    }\n",
       "</style>\n",
       "<table border=\"1\" class=\"dataframe\">\n",
       "  <thead>\n",
       "    <tr style=\"text-align: right;\">\n",
       "      <th></th>\n",
       "      <th>max</th>\n",
       "      <th>min</th>\n",
       "    </tr>\n",
       "    <tr>\n",
       "      <th>deptno</th>\n",
       "      <th></th>\n",
       "      <th></th>\n",
       "    </tr>\n",
       "  </thead>\n",
       "  <tbody>\n",
       "    <tr>\n",
       "      <th>10</th>\n",
       "      <td>5000</td>\n",
       "      <td>1300</td>\n",
       "    </tr>\n",
       "    <tr>\n",
       "      <th>20</th>\n",
       "      <td>3000</td>\n",
       "      <td>800</td>\n",
       "    </tr>\n",
       "    <tr>\n",
       "      <th>30</th>\n",
       "      <td>2850</td>\n",
       "      <td>950</td>\n",
       "    </tr>\n",
       "  </tbody>\n",
       "</table>\n",
       "</div>"
      ],
      "text/plain": [
       "         max   min\n",
       "deptno            \n",
       "10      5000  1300\n",
       "20      3000   800\n",
       "30      2850   950"
      ]
     },
     "execution_count": 34,
     "metadata": {},
     "output_type": "execute_result"
    }
   ],
   "source": [
    "emp.groupby('deptno')['sal'].agg( ['max','min'] )\n",
    "## emp.groupby('그룹할 컬럼')['보여줄 컬럼'].agg('함수1','함수2')"
   ]
  },
  {
   "cell_type": "markdown",
   "id": "6f54b8c5-3ecb-4171-a927-b081dd964511",
   "metadata": {},
   "source": [
    "select deptno, sum(sal),max(sal),min(sal),avg(sal),count(sal) from emp group by deptno;"
   ]
  },
  {
   "cell_type": "code",
   "execution_count": 42,
   "id": "3ef8b6b8-c4d7-4366-b227-6ee2778ebb8f",
   "metadata": {
    "tags": []
   },
   "outputs": [
    {
     "data": {
      "text/html": [
       "<div>\n",
       "<style scoped>\n",
       "    .dataframe tbody tr th:only-of-type {\n",
       "        vertical-align: middle;\n",
       "    }\n",
       "\n",
       "    .dataframe tbody tr th {\n",
       "        vertical-align: top;\n",
       "    }\n",
       "\n",
       "    .dataframe thead th {\n",
       "        text-align: right;\n",
       "    }\n",
       "</style>\n",
       "<table border=\"1\" class=\"dataframe\">\n",
       "  <thead>\n",
       "    <tr style=\"text-align: right;\">\n",
       "      <th></th>\n",
       "      <th>sum</th>\n",
       "      <th>max</th>\n",
       "      <th>min</th>\n",
       "      <th>mean</th>\n",
       "      <th>count</th>\n",
       "      <th>std</th>\n",
       "      <th>var</th>\n",
       "    </tr>\n",
       "    <tr>\n",
       "      <th>deptno</th>\n",
       "      <th></th>\n",
       "      <th></th>\n",
       "      <th></th>\n",
       "      <th></th>\n",
       "      <th></th>\n",
       "      <th></th>\n",
       "      <th></th>\n",
       "    </tr>\n",
       "  </thead>\n",
       "  <tbody>\n",
       "    <tr>\n",
       "      <th>10</th>\n",
       "      <td>8750</td>\n",
       "      <td>5000</td>\n",
       "      <td>1300</td>\n",
       "      <td>2916.666667</td>\n",
       "      <td>3</td>\n",
       "      <td>1893.629672</td>\n",
       "      <td>3.585833e+06</td>\n",
       "    </tr>\n",
       "    <tr>\n",
       "      <th>20</th>\n",
       "      <td>10875</td>\n",
       "      <td>3000</td>\n",
       "      <td>800</td>\n",
       "      <td>2175.000000</td>\n",
       "      <td>5</td>\n",
       "      <td>1123.332097</td>\n",
       "      <td>1.261875e+06</td>\n",
       "    </tr>\n",
       "    <tr>\n",
       "      <th>30</th>\n",
       "      <td>9400</td>\n",
       "      <td>2850</td>\n",
       "      <td>950</td>\n",
       "      <td>1566.666667</td>\n",
       "      <td>6</td>\n",
       "      <td>668.331255</td>\n",
       "      <td>4.466667e+05</td>\n",
       "    </tr>\n",
       "  </tbody>\n",
       "</table>\n",
       "</div>"
      ],
      "text/plain": [
       "          sum   max   min         mean  count          std           var\n",
       "deptno                                                                  \n",
       "10       8750  5000  1300  2916.666667      3  1893.629672  3.585833e+06\n",
       "20      10875  3000   800  2175.000000      5  1123.332097  1.261875e+06\n",
       "30       9400  2850   950  1566.666667      6   668.331255  4.466667e+05"
      ]
     },
     "execution_count": 42,
     "metadata": {},
     "output_type": "execute_result"
    }
   ],
   "source": [
    "emp.groupby('deptno')['sal'].agg(['sum','max','min','mean','count','std','var'])"
   ]
  },
  {
   "cell_type": "markdown",
   "id": "f98be1de-25be-4771-899c-f823aafd5769",
   "metadata": {},
   "source": [
    "# 정렬\n",
    "* df.sort_values()  --- 특정 column 기준으로 정렬\n",
    "* df.sort_index()   ---index 기준으로 정렬\n",
    "* df에서 꺼내진 컬럼에 대해서만 정렬이 가능\n",
    "* emp[['ename','sal']]sort_values('deptno',ascending = True)  > X, 안 된다\n",
    "* ascending=True/False로 오름차순,내림차순 표기\n",
    "* ascending = 표기 안하면 asc이 기본"
   ]
  },
  {
   "cell_type": "markdown",
   "id": "af8bdc69-017c-42ea-a44e-65366993185e",
   "metadata": {},
   "source": [
    "select sal from emp order by sal asc;"
   ]
  },
  {
   "cell_type": "code",
   "execution_count": null,
   "id": "09036904-f8cf-49fd-8b0e-22ddb224a9ff",
   "metadata": {
    "tags": []
   },
   "outputs": [],
   "source": [
    "emp.sort_index()\n",
    "# emp.sort_index(ascending = False) --- 가능은 하다"
   ]
  },
  {
   "cell_type": "code",
   "execution_count": 46,
   "id": "17b80d22-120f-4006-a591-61ae7899e6c8",
   "metadata": {
    "tags": []
   },
   "outputs": [
    {
     "data": {
      "text/plain": [
       "0      800\n",
       "11     950\n",
       "10    1100\n",
       "2     1250\n",
       "4     1250\n",
       "13    1300\n",
       "9     1500\n",
       "1     1600\n",
       "6     2450\n",
       "5     2850\n",
       "3     2975\n",
       "7     3000\n",
       "12    3000\n",
       "8     5000\n",
       "Name: sal, dtype: int64"
      ]
     },
     "execution_count": 46,
     "metadata": {},
     "output_type": "execute_result"
    }
   ],
   "source": [
    "emp['sal'].sort_values(ascending = True)\n",
    "##emp['sal'].sort_values(ascending = False) "
   ]
  },
  {
   "cell_type": "markdown",
   "id": "60c0d899-f03a-4b35-a3a9-1902ca9163c6",
   "metadata": {},
   "source": [
    "select empno, ename,sal from emp where deptno = 20 order by ename asc;"
   ]
  },
  {
   "cell_type": "code",
   "execution_count": 50,
   "id": "27c0a0c0-0f5b-40d6-bdb5-ebc2f7363366",
   "metadata": {
    "tags": []
   },
   "outputs": [
    {
     "data": {
      "text/html": [
       "<div>\n",
       "<style scoped>\n",
       "    .dataframe tbody tr th:only-of-type {\n",
       "        vertical-align: middle;\n",
       "    }\n",
       "\n",
       "    .dataframe tbody tr th {\n",
       "        vertical-align: top;\n",
       "    }\n",
       "\n",
       "    .dataframe thead th {\n",
       "        text-align: right;\n",
       "    }\n",
       "</style>\n",
       "<table border=\"1\" class=\"dataframe\">\n",
       "  <thead>\n",
       "    <tr style=\"text-align: right;\">\n",
       "      <th></th>\n",
       "      <th>empno</th>\n",
       "      <th>ename</th>\n",
       "      <th>sal</th>\n",
       "    </tr>\n",
       "  </thead>\n",
       "  <tbody>\n",
       "    <tr>\n",
       "      <th>10</th>\n",
       "      <td>7876</td>\n",
       "      <td>ADAMS</td>\n",
       "      <td>1100</td>\n",
       "    </tr>\n",
       "    <tr>\n",
       "      <th>12</th>\n",
       "      <td>7902</td>\n",
       "      <td>FORD</td>\n",
       "      <td>3000</td>\n",
       "    </tr>\n",
       "    <tr>\n",
       "      <th>3</th>\n",
       "      <td>7566</td>\n",
       "      <td>JONES</td>\n",
       "      <td>2975</td>\n",
       "    </tr>\n",
       "    <tr>\n",
       "      <th>7</th>\n",
       "      <td>7788</td>\n",
       "      <td>SCOTT</td>\n",
       "      <td>3000</td>\n",
       "    </tr>\n",
       "    <tr>\n",
       "      <th>0</th>\n",
       "      <td>7369</td>\n",
       "      <td>SMITH</td>\n",
       "      <td>800</td>\n",
       "    </tr>\n",
       "  </tbody>\n",
       "</table>\n",
       "</div>"
      ],
      "text/plain": [
       "    empno  ename   sal\n",
       "10   7876  ADAMS  1100\n",
       "12   7902   FORD  3000\n",
       "3    7566  JONES  2975\n",
       "7    7788  SCOTT  3000\n",
       "0    7369  SMITH   800"
      ]
     },
     "execution_count": 50,
     "metadata": {},
     "output_type": "execute_result"
    }
   ],
   "source": [
    "emp[['empno','ename','sal']][emp['deptno']==20].sort_values('ename', ascending = True)\n"
   ]
  },
  {
   "cell_type": "markdown",
   "id": "6a0ac3f9-601b-46b8-a171-ff0db40a8239",
   "metadata": {},
   "source": [
    "select empno, deptno,sal from emp order by deptno asc, sal asc;"
   ]
  },
  {
   "cell_type": "code",
   "execution_count": null,
   "id": "8c071ec0-e496-4bcd-a27e-f76d0ad80155",
   "metadata": {
    "tags": []
   },
   "outputs": [],
   "source": [
    "emp[['empno','deptno','sal']].sort_values(['deptno','sal'], ascending = True)\n"
   ]
  },
  {
   "cell_type": "markdown",
   "id": "d103e793-3c07-4305-8318-6c6735d5060e",
   "metadata": {},
   "source": [
    "select empno, deptno,sal from emp order by deptno asc, sal desc;"
   ]
  },
  {
   "cell_type": "code",
   "execution_count": null,
   "id": "cade4d3f-d9d8-4b06-a61b-159428726ed9",
   "metadata": {
    "tags": []
   },
   "outputs": [],
   "source": [
    "emp[['empno','deptno','sal']].sort_values(['deptno','sal'], ascending = [True,False])"
   ]
  },
  {
   "cell_type": "markdown",
   "id": "b830391a-2494-4738-a9e4-15b67e4cf32f",
   "metadata": {},
   "source": [
    "# UPDATE\n",
    "* df.[기존컬럼] = 신규값 > 수정\n",
    "* df.[신규컬럼] = 값 > 신규컬럼생성"
   ]
  },
  {
   "cell_type": "code",
   "execution_count": null,
   "id": "a5f75e16-db25-497d-8ed2-41da07c8cddc",
   "metadata": {},
   "outputs": [],
   "source": [
    "emp['comm'] = 9999"
   ]
  },
  {
   "cell_type": "code",
   "execution_count": null,
   "id": "dc07d913-2f84-410e-a5f3-390b53364f90",
   "metadata": {},
   "outputs": [],
   "source": []
  },
  {
   "cell_type": "code",
   "execution_count": null,
   "id": "c0f33ca8-ffd0-4945-a513-d66903b72d4a",
   "metadata": {},
   "outputs": [],
   "source": []
  },
  {
   "cell_type": "code",
   "execution_count": null,
   "id": "d8b2752c-3987-466d-a2c3-da6dd3beedca",
   "metadata": {},
   "outputs": [],
   "source": []
  },
  {
   "cell_type": "markdown",
   "id": "cfe8690b-26f5-4399-ab88-bd5a7fc275a4",
   "metadata": {},
   "source": [
    "## at / iat\n",
    "* 단일값 변경\n",
    "* df.at[줄값,칸값] = 변경값\n",
    "* df.at[줄idx,칸값idx] = 변경값"
   ]
  },
  {
   "cell_type": "markdown",
   "id": "89cbba73-4e65-4e9d-a7ec-02835c14ad1d",
   "metadata": {},
   "source": [
    "update emp set ename = 'ssmith' where ename = smith"
   ]
  },
  {
   "cell_type": "code",
   "execution_count": 14,
   "id": "ab0d7e6b-5a57-4f74-87ba-dbd669ba2407",
   "metadata": {},
   "outputs": [
    {
     "data": {
      "text/plain": [
       "<bound method NDFrame.head of     empno   ename        job     mgr   hiredate   sal    comm  deptno   comm2\n",
       "0    7369  ssmith      CLERK  7902.0 1980-12-17   800     NaN      20     0.0\n",
       "1    7499   ALLEN   SALESMAN  7698.0 1981-02-20  1600   300.0      30   300.0\n",
       "2    7521    WARD   SALESMAN  7698.0 1981-02-22  1250   500.0      30   500.0\n",
       "3    7566   JONES    MANAGER  7839.0 1981-04-02  2975     NaN      20     0.0\n",
       "4    7654  MARTIN   SALESMAN  7698.0 1981-09-28  1250  1400.0      30  1400.0\n",
       "5    7698   BLAKE    MANAGER  7839.0 1981-05-01  2850     NaN      30     0.0\n",
       "6    7782     CCC    MANAGER  7839.0 1981-06-09  2450     NaN      10     0.0\n",
       "7    7788   SCOTT    ANALYST  7566.0 1987-07-13  3000     NaN      20     0.0\n",
       "8    7839    KING  PRESIDENT     NaN 1981-11-17  5000     NaN      10     0.0\n",
       "9    7844  TURNER   SALESMAN  7698.0 1981-09-08  1500     0.0      30     0.0\n",
       "10   7876   ADAMS      CLERK  7788.0 1987-07-13  1100     NaN      20     0.0\n",
       "11   7900   JAMES      CLERK  7698.0 1981-12-03   950     NaN      30     0.0\n",
       "12   7902    FORD    ANALYST  7566.0 1981-12-03  3000     NaN      20     0.0\n",
       "13   7934  MILLER      CLERK  7782.0 1982-01-23  1300     NaN      10     0.0>"
      ]
     },
     "execution_count": 14,
     "metadata": {},
     "output_type": "execute_result"
    }
   ],
   "source": [
    "emp.at[0,'ename']='ssmith'\n",
    "# 딱 하나의 값 변경\n",
    "emp.head"
   ]
  },
  {
   "cell_type": "markdown",
   "id": "e41eec6a-7018-4fd6-8bf3-bbe129a19cad",
   "metadata": {},
   "source": [
    "update emp set job = 'sales' where deptno = 10;"
   ]
  },
  {
   "cell_type": "code",
   "execution_count": null,
   "id": "43f925ed-2a67-4238-bee6-ac241985f222",
   "metadata": {
    "tags": []
   },
   "outputs": [],
   "source": [
    "emp['job'][emp['deptno']==10] = 'sales10' \n",
    "## 에러, 가능은 하지만 다른 문법으로 안내한다"
   ]
  },
  {
   "cell_type": "code",
   "execution_count": 66,
   "id": "20defa2c-3cb6-4511-a72f-79eb3b9d41f5",
   "metadata": {
    "tags": []
   },
   "outputs": [
    {
     "data": {
      "text/html": [
       "<div>\n",
       "<style scoped>\n",
       "    .dataframe tbody tr th:only-of-type {\n",
       "        vertical-align: middle;\n",
       "    }\n",
       "\n",
       "    .dataframe tbody tr th {\n",
       "        vertical-align: top;\n",
       "    }\n",
       "\n",
       "    .dataframe thead th {\n",
       "        text-align: right;\n",
       "    }\n",
       "</style>\n",
       "<table border=\"1\" class=\"dataframe\">\n",
       "  <thead>\n",
       "    <tr style=\"text-align: right;\">\n",
       "      <th></th>\n",
       "      <th>empno</th>\n",
       "      <th>ename</th>\n",
       "      <th>job</th>\n",
       "      <th>mgr</th>\n",
       "      <th>hiredate</th>\n",
       "      <th>sal</th>\n",
       "      <th>comm</th>\n",
       "      <th>deptno</th>\n",
       "    </tr>\n",
       "  </thead>\n",
       "  <tbody>\n",
       "    <tr>\n",
       "      <th>0</th>\n",
       "      <td>7369</td>\n",
       "      <td>000</td>\n",
       "      <td>CLERK</td>\n",
       "      <td>7902.0</td>\n",
       "      <td>1980-12-17</td>\n",
       "      <td>800</td>\n",
       "      <td>NaN</td>\n",
       "      <td>20</td>\n",
       "    </tr>\n",
       "    <tr>\n",
       "      <th>1</th>\n",
       "      <td>7499</td>\n",
       "      <td>000</td>\n",
       "      <td>SALESMAN</td>\n",
       "      <td>7698.0</td>\n",
       "      <td>1981-02-20</td>\n",
       "      <td>1600</td>\n",
       "      <td>300.0</td>\n",
       "      <td>30</td>\n",
       "    </tr>\n",
       "    <tr>\n",
       "      <th>2</th>\n",
       "      <td>7521</td>\n",
       "      <td>WARD</td>\n",
       "      <td>SALESMAN</td>\n",
       "      <td>7698.0</td>\n",
       "      <td>1981-02-22</td>\n",
       "      <td>1250</td>\n",
       "      <td>500.0</td>\n",
       "      <td>30</td>\n",
       "    </tr>\n",
       "    <tr>\n",
       "      <th>3</th>\n",
       "      <td>7566</td>\n",
       "      <td>JONES</td>\n",
       "      <td>MANAGER</td>\n",
       "      <td>7839.0</td>\n",
       "      <td>1981-04-02</td>\n",
       "      <td>2975</td>\n",
       "      <td>NaN</td>\n",
       "      <td>20</td>\n",
       "    </tr>\n",
       "    <tr>\n",
       "      <th>4</th>\n",
       "      <td>7654</td>\n",
       "      <td>MARTIN</td>\n",
       "      <td>SALESMAN</td>\n",
       "      <td>7698.0</td>\n",
       "      <td>1981-09-28</td>\n",
       "      <td>1250</td>\n",
       "      <td>1400.0</td>\n",
       "      <td>30</td>\n",
       "    </tr>\n",
       "    <tr>\n",
       "      <th>5</th>\n",
       "      <td>7698</td>\n",
       "      <td>BLAKE</td>\n",
       "      <td>MANAGER</td>\n",
       "      <td>7839.0</td>\n",
       "      <td>1981-05-01</td>\n",
       "      <td>2850</td>\n",
       "      <td>NaN</td>\n",
       "      <td>30</td>\n",
       "    </tr>\n",
       "    <tr>\n",
       "      <th>6</th>\n",
       "      <td>7782</td>\n",
       "      <td>CCC</td>\n",
       "      <td>sales10</td>\n",
       "      <td>7839.0</td>\n",
       "      <td>1981-06-09</td>\n",
       "      <td>2450</td>\n",
       "      <td>NaN</td>\n",
       "      <td>10</td>\n",
       "    </tr>\n",
       "    <tr>\n",
       "      <th>7</th>\n",
       "      <td>7788</td>\n",
       "      <td>SCOTT</td>\n",
       "      <td>ANALYST</td>\n",
       "      <td>7566.0</td>\n",
       "      <td>1987-07-13</td>\n",
       "      <td>3000</td>\n",
       "      <td>NaN</td>\n",
       "      <td>20</td>\n",
       "    </tr>\n",
       "    <tr>\n",
       "      <th>8</th>\n",
       "      <td>7839</td>\n",
       "      <td>KING</td>\n",
       "      <td>sales10</td>\n",
       "      <td>NaN</td>\n",
       "      <td>1981-11-17</td>\n",
       "      <td>5000</td>\n",
       "      <td>NaN</td>\n",
       "      <td>10</td>\n",
       "    </tr>\n",
       "    <tr>\n",
       "      <th>9</th>\n",
       "      <td>7844</td>\n",
       "      <td>TURNER</td>\n",
       "      <td>SALESMAN</td>\n",
       "      <td>7698.0</td>\n",
       "      <td>1981-09-08</td>\n",
       "      <td>1500</td>\n",
       "      <td>0.0</td>\n",
       "      <td>30</td>\n",
       "    </tr>\n",
       "    <tr>\n",
       "      <th>10</th>\n",
       "      <td>7876</td>\n",
       "      <td>ADAMS</td>\n",
       "      <td>CLERK</td>\n",
       "      <td>7788.0</td>\n",
       "      <td>1987-07-13</td>\n",
       "      <td>1100</td>\n",
       "      <td>NaN</td>\n",
       "      <td>20</td>\n",
       "    </tr>\n",
       "    <tr>\n",
       "      <th>11</th>\n",
       "      <td>7900</td>\n",
       "      <td>JAMES</td>\n",
       "      <td>CLERK</td>\n",
       "      <td>7698.0</td>\n",
       "      <td>1981-12-03</td>\n",
       "      <td>950</td>\n",
       "      <td>NaN</td>\n",
       "      <td>30</td>\n",
       "    </tr>\n",
       "    <tr>\n",
       "      <th>12</th>\n",
       "      <td>7902</td>\n",
       "      <td>FORD</td>\n",
       "      <td>ANALYST</td>\n",
       "      <td>7566.0</td>\n",
       "      <td>1981-12-03</td>\n",
       "      <td>3000</td>\n",
       "      <td>NaN</td>\n",
       "      <td>20</td>\n",
       "    </tr>\n",
       "    <tr>\n",
       "      <th>13</th>\n",
       "      <td>7934</td>\n",
       "      <td>MILLER</td>\n",
       "      <td>sales10</td>\n",
       "      <td>7782.0</td>\n",
       "      <td>1982-01-23</td>\n",
       "      <td>1300</td>\n",
       "      <td>NaN</td>\n",
       "      <td>10</td>\n",
       "    </tr>\n",
       "  </tbody>\n",
       "</table>\n",
       "</div>"
      ],
      "text/plain": [
       "    empno   ename       job     mgr   hiredate   sal    comm  deptno\n",
       "0    7369     000     CLERK  7902.0 1980-12-17   800     NaN      20\n",
       "1    7499     000  SALESMAN  7698.0 1981-02-20  1600   300.0      30\n",
       "2    7521    WARD  SALESMAN  7698.0 1981-02-22  1250   500.0      30\n",
       "3    7566   JONES   MANAGER  7839.0 1981-04-02  2975     NaN      20\n",
       "4    7654  MARTIN  SALESMAN  7698.0 1981-09-28  1250  1400.0      30\n",
       "5    7698   BLAKE   MANAGER  7839.0 1981-05-01  2850     NaN      30\n",
       "6    7782     CCC   sales10  7839.0 1981-06-09  2450     NaN      10\n",
       "7    7788   SCOTT   ANALYST  7566.0 1987-07-13  3000     NaN      20\n",
       "8    7839    KING   sales10     NaN 1981-11-17  5000     NaN      10\n",
       "9    7844  TURNER  SALESMAN  7698.0 1981-09-08  1500     0.0      30\n",
       "10   7876   ADAMS     CLERK  7788.0 1987-07-13  1100     NaN      20\n",
       "11   7900   JAMES     CLERK  7698.0 1981-12-03   950     NaN      30\n",
       "12   7902    FORD   ANALYST  7566.0 1981-12-03  3000     NaN      20\n",
       "13   7934  MILLER   sales10  7782.0 1982-01-23  1300     NaN      10"
      ]
     },
     "execution_count": 66,
     "metadata": {},
     "output_type": "execute_result"
    }
   ],
   "source": [
    "emp"
   ]
  },
  {
   "cell_type": "code",
   "execution_count": 16,
   "id": "a1c4e109-9dc4-49e3-a43c-61fafa1200e4",
   "metadata": {
    "tags": []
   },
   "outputs": [
    {
     "data": {
      "text/plain": [
       "7369"
      ]
     },
     "execution_count": 16,
     "metadata": {},
     "output_type": "execute_result"
    }
   ],
   "source": [
    "emp.iloc[0,0]"
   ]
  },
  {
   "cell_type": "markdown",
   "id": "dd78658b-21cf-4eb3-8e3d-ad76ea182c42",
   "metadata": {},
   "source": [
    "## iloc / loc\n",
    "* 여러값 변경\n",
    "* df.loc[줄값,칸값] = 변경값\n",
    "* df.iloc[줄idx,칸값idx] = 변경값"
   ]
  },
  {
   "cell_type": "markdown",
   "id": "c6a63438-a5ff-486c-a442-fcdbdbcef862",
   "metadata": {},
   "source": [
    "### np.where() vs df.where()\n",
    "<pre>\n",
    "*np.where(조건절, 참일때 출력값, 거짓일때 출력값) --- decode(deptno, 10, 'ten','esle')\n",
    "*pd[컬럼 A].where(조건문, 거짓일때 출력값)   -----조건 만족하면 컬럼 A, 그렇지 않으면 입력값/조건 만족 못 하면 특정값으로 바꾸겠다/ 조건 만족,불만족 두가지 경우에 각각 특정값 두개를 넣으려 할 때는 사용 못함"
   ]
  },
  {
   "cell_type": "code",
   "execution_count": null,
   "id": "9786f61b-2000-465e-b6e2-528c42a14b71",
   "metadata": {
    "tags": []
   },
   "outputs": [],
   "source": [
    "emp['deptno_str'] = np.where(emp['deptno']==10, '십', '그외')\n",
    "emp"
   ]
  },
  {
   "cell_type": "markdown",
   "id": "6bdf61d6-6ee8-4ea1-9607-312acd60e884",
   "metadata": {},
   "source": [
    "update emp set job = 'sales' where deptno = 10;"
   ]
  },
  {
   "cell_type": "code",
   "execution_count": null,
   "id": "59715135-a6a3-4099-a032-884609db691f",
   "metadata": {
    "tags": []
   },
   "outputs": [],
   "source": [
    "emp['job.np'] = np.where(emp['deptno']==10, 'sales10', emp['job'])\n",
    "emp.sort_values('deptno')"
   ]
  },
  {
   "cell_type": "code",
   "execution_count": null,
   "id": "9e8b5797-90b6-49f4-8711-61d4973b94f8",
   "metadata": {
    "tags": []
   },
   "outputs": [],
   "source": [
    "emp[1] = emp['job'].where(emp['deptno']!=10, 'sales1010')\n",
    "emp"
   ]
  },
  {
   "cell_type": "markdown",
   "id": "658d8d39-9773-4850-b261-35f777c2d882",
   "metadata": {},
   "source": [
    "# DELETE\n",
    "* DML : delete from emp; -- 데이터 삭제 \n",
    "* DDL : dop table emp;   -- 테이블객체 삭제\n",
    "* drop(index,axis =0)    -- 데이터 행 삭제 \n",
    "* drop(컬럼명,axis =1)     -- 데이터 열 삭제\n",
    "* del df                 -- 테이블객체 삭제"
   ]
  },
  {
   "cell_type": "code",
   "execution_count": null,
   "id": "78301935-d126-44de-bbdb-0185bd9101c8",
   "metadata": {
    "tags": []
   },
   "outputs": [],
   "source": [
    "emp = emp.drop(1,axis=0)\n",
    "emp\n",
    "## 인덱스 값 1인 행(row) 삭제 / (단일값, 리스트, 슬라이싱 모두 가능)"
   ]
  },
  {
   "cell_type": "code",
   "execution_count": null,
   "id": "eb9e4d8b-be38-4c54-840e-202b960805f6",
   "metadata": {
    "tags": []
   },
   "outputs": [],
   "source": [
    "emp = emp.drop('ename',axis=1)\n",
    "emp\n",
    "## 'ename'열(column) 삭제 / (단일값, 리스트, 슬라이싱 모두 가능)"
   ]
  },
  {
   "cell_type": "code",
   "execution_count": 17,
   "id": "ed93aa4f-b3a0-46f7-ad1c-fe0e52b5bc83",
   "metadata": {
    "tags": []
   },
   "outputs": [
    {
     "data": {
      "text/html": [
       "<div>\n",
       "<style scoped>\n",
       "    .dataframe tbody tr th:only-of-type {\n",
       "        vertical-align: middle;\n",
       "    }\n",
       "\n",
       "    .dataframe tbody tr th {\n",
       "        vertical-align: top;\n",
       "    }\n",
       "\n",
       "    .dataframe thead th {\n",
       "        text-align: right;\n",
       "    }\n",
       "</style>\n",
       "<table border=\"1\" class=\"dataframe\">\n",
       "  <thead>\n",
       "    <tr style=\"text-align: right;\">\n",
       "      <th></th>\n",
       "      <th>empno</th>\n",
       "      <th>ename</th>\n",
       "      <th>job</th>\n",
       "      <th>mgr</th>\n",
       "      <th>hiredate</th>\n",
       "      <th>sal</th>\n",
       "      <th>comm</th>\n",
       "      <th>deptno</th>\n",
       "      <th>comm2</th>\n",
       "    </tr>\n",
       "  </thead>\n",
       "  <tbody>\n",
       "    <tr>\n",
       "      <th>0</th>\n",
       "      <td>7369</td>\n",
       "      <td>ssmith</td>\n",
       "      <td>CLERK</td>\n",
       "      <td>7902.0</td>\n",
       "      <td>1980-12-17</td>\n",
       "      <td>800</td>\n",
       "      <td>NaN</td>\n",
       "      <td>20</td>\n",
       "      <td>0.0</td>\n",
       "    </tr>\n",
       "    <tr>\n",
       "      <th>1</th>\n",
       "      <td>7499</td>\n",
       "      <td>ALLEN</td>\n",
       "      <td>SALESMAN</td>\n",
       "      <td>7698.0</td>\n",
       "      <td>1981-02-20</td>\n",
       "      <td>1600</td>\n",
       "      <td>300.0</td>\n",
       "      <td>30</td>\n",
       "      <td>300.0</td>\n",
       "    </tr>\n",
       "    <tr>\n",
       "      <th>2</th>\n",
       "      <td>7521</td>\n",
       "      <td>WARD</td>\n",
       "      <td>SALESMAN</td>\n",
       "      <td>7698.0</td>\n",
       "      <td>1981-02-22</td>\n",
       "      <td>1250</td>\n",
       "      <td>500.0</td>\n",
       "      <td>30</td>\n",
       "      <td>500.0</td>\n",
       "    </tr>\n",
       "    <tr>\n",
       "      <th>3</th>\n",
       "      <td>7566</td>\n",
       "      <td>JONES</td>\n",
       "      <td>MANAGER</td>\n",
       "      <td>7839.0</td>\n",
       "      <td>1981-04-02</td>\n",
       "      <td>2975</td>\n",
       "      <td>NaN</td>\n",
       "      <td>20</td>\n",
       "      <td>0.0</td>\n",
       "    </tr>\n",
       "    <tr>\n",
       "      <th>4</th>\n",
       "      <td>7654</td>\n",
       "      <td>MARTIN</td>\n",
       "      <td>SALESMAN</td>\n",
       "      <td>7698.0</td>\n",
       "      <td>1981-09-28</td>\n",
       "      <td>1250</td>\n",
       "      <td>1400.0</td>\n",
       "      <td>30</td>\n",
       "      <td>1400.0</td>\n",
       "    </tr>\n",
       "    <tr>\n",
       "      <th>5</th>\n",
       "      <td>7698</td>\n",
       "      <td>BLAKE</td>\n",
       "      <td>MANAGER</td>\n",
       "      <td>7839.0</td>\n",
       "      <td>1981-05-01</td>\n",
       "      <td>2850</td>\n",
       "      <td>NaN</td>\n",
       "      <td>30</td>\n",
       "      <td>0.0</td>\n",
       "    </tr>\n",
       "    <tr>\n",
       "      <th>6</th>\n",
       "      <td>7782</td>\n",
       "      <td>CCC</td>\n",
       "      <td>MANAGER</td>\n",
       "      <td>7839.0</td>\n",
       "      <td>1981-06-09</td>\n",
       "      <td>2450</td>\n",
       "      <td>NaN</td>\n",
       "      <td>10</td>\n",
       "      <td>0.0</td>\n",
       "    </tr>\n",
       "    <tr>\n",
       "      <th>7</th>\n",
       "      <td>7788</td>\n",
       "      <td>SCOTT</td>\n",
       "      <td>ANALYST</td>\n",
       "      <td>7566.0</td>\n",
       "      <td>1987-07-13</td>\n",
       "      <td>3000</td>\n",
       "      <td>NaN</td>\n",
       "      <td>20</td>\n",
       "      <td>0.0</td>\n",
       "    </tr>\n",
       "    <tr>\n",
       "      <th>8</th>\n",
       "      <td>7839</td>\n",
       "      <td>KING</td>\n",
       "      <td>PRESIDENT</td>\n",
       "      <td>NaN</td>\n",
       "      <td>1981-11-17</td>\n",
       "      <td>5000</td>\n",
       "      <td>NaN</td>\n",
       "      <td>10</td>\n",
       "      <td>0.0</td>\n",
       "    </tr>\n",
       "    <tr>\n",
       "      <th>9</th>\n",
       "      <td>7844</td>\n",
       "      <td>TURNER</td>\n",
       "      <td>SALESMAN</td>\n",
       "      <td>7698.0</td>\n",
       "      <td>1981-09-08</td>\n",
       "      <td>1500</td>\n",
       "      <td>0.0</td>\n",
       "      <td>30</td>\n",
       "      <td>0.0</td>\n",
       "    </tr>\n",
       "    <tr>\n",
       "      <th>10</th>\n",
       "      <td>7876</td>\n",
       "      <td>ADAMS</td>\n",
       "      <td>CLERK</td>\n",
       "      <td>7788.0</td>\n",
       "      <td>1987-07-13</td>\n",
       "      <td>1100</td>\n",
       "      <td>NaN</td>\n",
       "      <td>20</td>\n",
       "      <td>0.0</td>\n",
       "    </tr>\n",
       "    <tr>\n",
       "      <th>11</th>\n",
       "      <td>7900</td>\n",
       "      <td>JAMES</td>\n",
       "      <td>CLERK</td>\n",
       "      <td>7698.0</td>\n",
       "      <td>1981-12-03</td>\n",
       "      <td>950</td>\n",
       "      <td>NaN</td>\n",
       "      <td>30</td>\n",
       "      <td>0.0</td>\n",
       "    </tr>\n",
       "    <tr>\n",
       "      <th>12</th>\n",
       "      <td>7902</td>\n",
       "      <td>FORD</td>\n",
       "      <td>ANALYST</td>\n",
       "      <td>7566.0</td>\n",
       "      <td>1981-12-03</td>\n",
       "      <td>3000</td>\n",
       "      <td>NaN</td>\n",
       "      <td>20</td>\n",
       "      <td>0.0</td>\n",
       "    </tr>\n",
       "    <tr>\n",
       "      <th>13</th>\n",
       "      <td>7934</td>\n",
       "      <td>MILLER</td>\n",
       "      <td>CLERK</td>\n",
       "      <td>7782.0</td>\n",
       "      <td>1982-01-23</td>\n",
       "      <td>1300</td>\n",
       "      <td>NaN</td>\n",
       "      <td>10</td>\n",
       "      <td>0.0</td>\n",
       "    </tr>\n",
       "  </tbody>\n",
       "</table>\n",
       "</div>"
      ],
      "text/plain": [
       "    empno   ename        job     mgr   hiredate   sal    comm  deptno   comm2\n",
       "0    7369  ssmith      CLERK  7902.0 1980-12-17   800     NaN      20     0.0\n",
       "1    7499   ALLEN   SALESMAN  7698.0 1981-02-20  1600   300.0      30   300.0\n",
       "2    7521    WARD   SALESMAN  7698.0 1981-02-22  1250   500.0      30   500.0\n",
       "3    7566   JONES    MANAGER  7839.0 1981-04-02  2975     NaN      20     0.0\n",
       "4    7654  MARTIN   SALESMAN  7698.0 1981-09-28  1250  1400.0      30  1400.0\n",
       "5    7698   BLAKE    MANAGER  7839.0 1981-05-01  2850     NaN      30     0.0\n",
       "6    7782     CCC    MANAGER  7839.0 1981-06-09  2450     NaN      10     0.0\n",
       "7    7788   SCOTT    ANALYST  7566.0 1987-07-13  3000     NaN      20     0.0\n",
       "8    7839    KING  PRESIDENT     NaN 1981-11-17  5000     NaN      10     0.0\n",
       "9    7844  TURNER   SALESMAN  7698.0 1981-09-08  1500     0.0      30     0.0\n",
       "10   7876   ADAMS      CLERK  7788.0 1987-07-13  1100     NaN      20     0.0\n",
       "11   7900   JAMES      CLERK  7698.0 1981-12-03   950     NaN      30     0.0\n",
       "12   7902    FORD    ANALYST  7566.0 1981-12-03  3000     NaN      20     0.0\n",
       "13   7934  MILLER      CLERK  7782.0 1982-01-23  1300     NaN      10     0.0"
      ]
     },
     "execution_count": 17,
     "metadata": {},
     "output_type": "execute_result"
    }
   ],
   "source": [
    "empcp = emp.copy()\n",
    "empcp"
   ]
  },
  {
   "cell_type": "code",
   "execution_count": 18,
   "id": "7b0dc408-c7f0-4717-a520-ada432f13269",
   "metadata": {
    "tags": []
   },
   "outputs": [],
   "source": [
    "del empcp\n",
    "## drop table과 유사 / pd.read_csv() 다시 읽어들여야 함"
   ]
  },
  {
   "cell_type": "code",
   "execution_count": 19,
   "id": "a221ff93-9775-4891-8875-8d462494c310",
   "metadata": {
    "tags": []
   },
   "outputs": [
    {
     "ename": "NameError",
     "evalue": "name 'empcp' is not defined",
     "output_type": "error",
     "traceback": [
      "\u001b[1;31m---------------------------------------------------------------------------\u001b[0m",
      "\u001b[1;31mNameError\u001b[0m                                 Traceback (most recent call last)",
      "Cell \u001b[1;32mIn[19], line 1\u001b[0m\n\u001b[1;32m----> 1\u001b[0m \u001b[43mempcp\u001b[49m\n\u001b[0;32m      2\u001b[0m \u001b[38;5;66;03m##  name 'empcp' is not defined / 메모리에서 삭제\u001b[39;00m\n",
      "\u001b[1;31mNameError\u001b[0m: name 'empcp' is not defined"
     ]
    }
   ],
   "source": [
    "empcp\n",
    "##  name 'empcp' is not defined / 메모리에서 삭제"
   ]
  },
  {
   "cell_type": "code",
   "execution_count": null,
   "id": "a508bd2b-7e7e-45be-9f55-76edf91a78a8",
   "metadata": {},
   "outputs": [],
   "source": []
  },
  {
   "cell_type": "code",
   "execution_count": null,
   "id": "3f6fa8af-1348-4bf6-ab03-462acb5b2078",
   "metadata": {},
   "outputs": [],
   "source": []
  },
  {
   "cell_type": "code",
   "execution_count": null,
   "id": "5eb7fe8d-7474-4696-8d82-1097239043bb",
   "metadata": {},
   "outputs": [],
   "source": []
  },
  {
   "cell_type": "code",
   "execution_count": null,
   "id": "1644d7c5-6b81-4c95-8221-2abafa7c4a4f",
   "metadata": {},
   "outputs": [],
   "source": []
  },
  {
   "cell_type": "code",
   "execution_count": null,
   "id": "b11a04bb-0ea6-4ab9-b58a-18c8cb972934",
   "metadata": {},
   "outputs": [],
   "source": []
  },
  {
   "cell_type": "code",
   "execution_count": null,
   "id": "5da29966-f566-454c-a039-215b2bddc5ae",
   "metadata": {},
   "outputs": [],
   "source": []
  },
  {
   "cell_type": "code",
   "execution_count": null,
   "id": "15cd6638-502e-426e-8ff8-9bccf95a5c78",
   "metadata": {},
   "outputs": [],
   "source": []
  }
 ],
 "metadata": {
  "kernelspec": {
   "display_name": "Python 3 (ipykernel)",
   "language": "python",
   "name": "python3"
  },
  "language_info": {
   "codemirror_mode": {
    "name": "ipython",
    "version": 3
   },
   "file_extension": ".py",
   "mimetype": "text/x-python",
   "name": "python",
   "nbconvert_exporter": "python",
   "pygments_lexer": "ipython3",
   "version": "3.8.8"
  }
 },
 "nbformat": 4,
 "nbformat_minor": 5
}
