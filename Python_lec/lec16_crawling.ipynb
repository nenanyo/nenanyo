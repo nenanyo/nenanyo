{
 "cells": [
  {
   "cell_type": "markdown",
   "id": "6330102b-eea3-4b83-b56f-8c3a4fd5e284",
   "metadata": {},
   "source": [
    "# lec 16. Crawling"
   ]
  },
  {
   "cell_type": "code",
   "execution_count": 2,
   "id": "2a22a06b-5a01-4c38-aa90-5178f278b70d",
   "metadata": {
    "tags": []
   },
   "outputs": [],
   "source": [
    "import numpy as np\n",
    "import pandas as pd\n",
    "import json\n",
    "import requests\n",
    "import warnings\n",
    "warnings.filterwarnings(action='ignore')"
   ]
  },
  {
   "cell_type": "code",
   "execution_count": 3,
   "id": "6efed6f9-01c7-4519-9fc9-efd951a4f067",
   "metadata": {},
   "outputs": [],
   "source": [
    "from bs4 import BeautifulSoup"
   ]
  },
  {
   "cell_type": "code",
   "execution_count": null,
   "id": "633226e1-dd38-4d8d-9927-bc4ccb784259",
   "metadata": {},
   "outputs": [],
   "source": [
    "# 'html.parser' 파싱한다\n",
    "# 태그를 잘라낸다, 글자만 꺼낸다\n",
    "\n",
    "#rsss 피드 :  xml타입으로 정보제공, 관공서, 기상청!"
   ]
  },
  {
   "cell_type": "code",
   "execution_count": 4,
   "id": "b86aa9f9-5ee8-467f-963e-90989da31947",
   "metadata": {
    "tags": []
   },
   "outputs": [],
   "source": [
    "from bs4 import BeautifulSoup\n",
    "import requests"
   ]
  },
  {
   "cell_type": "code",
   "execution_count": 2,
   "id": "7c1cebae-bc91-4a38-85a6-eb444eee8fbc",
   "metadata": {},
   "outputs": [
    {
     "name": "stdout",
     "output_type": "stream",
     "text": [
      "<html>\n",
      " <head>\n",
      "  <title>\n",
      "   The Dormouse's story\n",
      "  </title>\n",
      " </head>\n",
      " <body>\n",
      "  <p class=\"title\">\n",
      "   <b>\n",
      "    The Dormouse's story\n",
      "   </b>\n",
      "  </p>\n",
      "  <p class=\"story\">\n",
      "   Once upon a time there were three little sisters; and their names were\n",
      "   <a class=\"sister\" href=\"http://example.com/elsie\" id=\"link1\">\n",
      "    Elsie\n",
      "   </a>\n",
      "   ,\n",
      "   <a class=\"sister\" href=\"http://example.com/lacie\" id=\"link2\">\n",
      "    Lacie\n",
      "   </a>\n",
      "   and\n",
      "   <a class=\"sister\" href=\"http://example.com/tillie\" id=\"link3\">\n",
      "    Tillie\n",
      "   </a>\n",
      "   ;\n",
      "and they lived at the bottom of a well.\n",
      "  </p>\n",
      "  <p class=\"story\">\n",
      "   ...\n",
      "  </p>\n",
      " </body>\n",
      "</html>\n"
     ]
    }
   ],
   "source": [
    "html_doc = \"\"\"<html><head><title>The Dormouse's story</title></head>\n",
    "<body>\n",
    "<p class=\"title\"><b>The Dormouse's story</b></p>\n",
    "\n",
    "<p class=\"story\">Once upon a time there were three little sisters; and their names were\n",
    "<a href=\"http://example.com/elsie\" class=\"sister\" id=\"link1\">Elsie</a>,\n",
    "<a href=\"http://example.com/lacie\" class=\"sister\" id=\"link2\">Lacie</a> and\n",
    "<a href=\"http://example.com/tillie\" class=\"sister\" id=\"link3\">Tillie</a>;\n",
    "and they lived at the bottom of a well.</p>\n",
    "\n",
    "<p class=\"story\">...</p>\n",
    "\"\"\"\n",
    "\n",
    "soup = BeautifulSoup(html_doc, 'html.parser')\n",
    "print(soup.prettify())"
   ]
  },
  {
   "cell_type": "code",
   "execution_count": null,
   "id": "836c3f42-9edf-4f09-bfbe-799ef073f038",
   "metadata": {},
   "outputs": [],
   "source": [
    "# <p class=\"story\">\n",
    "# <p> : 태그\n",
    "# < class=\"story\">  : 속성"
   ]
  },
  {
   "cell_type": "code",
   "execution_count": 4,
   "id": "f995baf1-9b0a-438a-bd53-73f4386b7591",
   "metadata": {},
   "outputs": [
    {
     "name": "stdout",
     "output_type": "stream",
     "text": [
      "http://example.com/elsie\n",
      "Elsie\n",
      "http://example.com/lacie\n",
      "Lacie\n",
      "http://example.com/tillie\n",
      "Tillie\n"
     ]
    }
   ],
   "source": [
    "for link in soup.find_all('a'):\n",
    "    print(link.get('href'))\n",
    "    print(link.text)\n",
    "# -------- 완전 많이 쓴다"
   ]
  },
  {
   "cell_type": "markdown",
   "id": "bda84a45-972d-4ac8-a521-ec5d92396da1",
   "metadata": {},
   "source": [
    "## YTN 크롤링"
   ]
  },
  {
   "cell_type": "code",
   "execution_count": null,
   "id": "0edcee93-b8c9-4f1e-9124-ef0328c5636e",
   "metadata": {},
   "outputs": [],
   "source": [
    "res = requests.get('https://www.ytn.co.kr/news/list.php?mcd=0102')\n",
    "# res.status_code\n",
    "res.text\n",
    "# html 페이지가 온다!!"
   ]
  },
  {
   "cell_type": "code",
   "execution_count": 10,
   "id": "6b2af408-44e4-4621-aedd-627b77c1e1ef",
   "metadata": {},
   "outputs": [],
   "source": [
    "soup = BeautifulSoup(res.text, 'html.parser')"
   ]
  },
  {
   "cell_type": "code",
   "execution_count": null,
   "id": "2accd560-8f3c-44c5-8cdc-2ae0a0a8f73f",
   "metadata": {},
   "outputs": [],
   "source": [
    "#nav_content > div:nth-child(1) > ul > li:nth-child(1)"
   ]
  },
  {
   "cell_type": "code",
   "execution_count": null,
   "id": "144aaf92-8588-4be9-a48c-fb561ff51bfc",
   "metadata": {},
   "outputs": [],
   "source": [
    "li_list = soup.select('div#nav_content > div > ul > li')\n",
    "li_list\n",
    "\n",
    "# ytn_list = []\n",
    "# for li in li_list:\n",
    "#     title = li.select_one('a > div > span').text\n",
    "#     regdate = li.select_one(' a > div > div > span.date').text\n",
    "#     contents = li.select_one('a > div > div > span.desc').text\n",
    "#     href = li.select_one('a').get('href')\n",
    "#     ytn_list.append([title,regdate,contents,href])\n",
    "\n",
    "# # #nav_content는 id 유일하다/ #  : id/ . : class/"
   ]
  },
  {
   "cell_type": "code",
   "execution_count": 44,
   "id": "e73dd6b6-450d-46cf-935e-3ea487c0c2c1",
   "metadata": {
    "tags": []
   },
   "outputs": [
    {
     "data": {
      "text/html": [
       "<div>\n",
       "<style scoped>\n",
       "    .dataframe tbody tr th:only-of-type {\n",
       "        vertical-align: middle;\n",
       "    }\n",
       "\n",
       "    .dataframe tbody tr th {\n",
       "        vertical-align: top;\n",
       "    }\n",
       "\n",
       "    .dataframe thead th {\n",
       "        text-align: right;\n",
       "    }\n",
       "</style>\n",
       "<table border=\"1\" class=\"dataframe\">\n",
       "  <thead>\n",
       "    <tr style=\"text-align: right;\">\n",
       "      <th></th>\n",
       "      <th>title</th>\n",
       "      <th>regdate</th>\n",
       "      <th>contents</th>\n",
       "      <th>href</th>\n",
       "    </tr>\n",
       "  </thead>\n",
       "  <tbody>\n",
       "    <tr>\n",
       "      <th>0</th>\n",
       "      <td>구현모 KT 대표, 연임 도전 포기...다음 달 임기 마무리</td>\n",
       "      <td>2023-02-23 15:17</td>\n",
       "      <td>KT 구현모 대표가 차기 대표이사 후보군에서 사퇴합니다.\\r\\n\\r\\n구현모 대표는...</td>\n",
       "      <td>https://www.ytn.co.kr/_ln/0102_202302231517134994</td>\n",
       "    </tr>\n",
       "    <tr>\n",
       "      <th>1</th>\n",
       "      <td>최태원, '엑스포 유치' 대통령 특사로 유럽 방문</td>\n",
       "      <td>2023-02-23 15:15</td>\n",
       "      <td>최태원 대한상공회의소 회장이 대통령 특사 자격으로 스페인과 포르투갈, 덴마크 등 유...</td>\n",
       "      <td>https://www.ytn.co.kr/_ln/0102_202302231515243916</td>\n",
       "    </tr>\n",
       "    <tr>\n",
       "      <th>2</th>\n",
       "      <td>김병준 전경련 직무대행 취임...\"정경유착 끊을 것\"</td>\n",
       "      <td>2023-02-23 14:56</td>\n",
       "      <td>전국경제인연합회가 정기총회를 열고 김병준 전 자유한국당 비대위원장을 회장 직무대행으...</td>\n",
       "      <td>https://www.ytn.co.kr/_ln/0102_202302231456405764</td>\n",
       "    </tr>\n",
       "    <tr>\n",
       "      <th>3</th>\n",
       "      <td>국토부 \"월례비, 정상적 임금으로 보기 어렵다\"...법원 판결 반박</td>\n",
       "      <td>2023-02-23 14:52</td>\n",
       "      <td>'관행적인 타워크레인 월례비가 임금 성격을 갖는다'는 고등법원 판단에 대해 국토교통...</td>\n",
       "      <td>https://www.ytn.co.kr/_ln/0102_202302231452209015</td>\n",
       "    </tr>\n",
       "    <tr>\n",
       "      <th>4</th>\n",
       "      <td>급매 거래 늘자 서울 아파트값 2주 연속 낙폭 둔화</td>\n",
       "      <td>2023-02-23 14:15</td>\n",
       "      <td>한국부동산원은 이번 주 서울 아파트값이 지난주보다 0.26% 하락해 2주 연속 낙폭...</td>\n",
       "      <td>https://www.ytn.co.kr/_ln/0102_202302231415148881</td>\n",
       "    </tr>\n",
       "  </tbody>\n",
       "</table>\n",
       "</div>"
      ],
      "text/plain": [
       "                                   title           regdate  \\\n",
       "0      구현모 KT 대표, 연임 도전 포기...다음 달 임기 마무리  2023-02-23 15:17   \n",
       "1            최태원, '엑스포 유치' 대통령 특사로 유럽 방문  2023-02-23 15:15   \n",
       "2          김병준 전경련 직무대행 취임...\"정경유착 끊을 것\"  2023-02-23 14:56   \n",
       "3  국토부 \"월례비, 정상적 임금으로 보기 어렵다\"...법원 판결 반박  2023-02-23 14:52   \n",
       "4           급매 거래 늘자 서울 아파트값 2주 연속 낙폭 둔화  2023-02-23 14:15   \n",
       "\n",
       "                                            contents  \\\n",
       "0  KT 구현모 대표가 차기 대표이사 후보군에서 사퇴합니다.\\r\\n\\r\\n구현모 대표는...   \n",
       "1  최태원 대한상공회의소 회장이 대통령 특사 자격으로 스페인과 포르투갈, 덴마크 등 유...   \n",
       "2  전국경제인연합회가 정기총회를 열고 김병준 전 자유한국당 비대위원장을 회장 직무대행으...   \n",
       "3  '관행적인 타워크레인 월례비가 임금 성격을 갖는다'는 고등법원 판단에 대해 국토교통...   \n",
       "4  한국부동산원은 이번 주 서울 아파트값이 지난주보다 0.26% 하락해 2주 연속 낙폭...   \n",
       "\n",
       "                                                href  \n",
       "0  https://www.ytn.co.kr/_ln/0102_202302231517134994  \n",
       "1  https://www.ytn.co.kr/_ln/0102_202302231515243916  \n",
       "2  https://www.ytn.co.kr/_ln/0102_202302231456405764  \n",
       "3  https://www.ytn.co.kr/_ln/0102_202302231452209015  \n",
       "4  https://www.ytn.co.kr/_ln/0102_202302231415148881  "
      ]
     },
     "execution_count": 44,
     "metadata": {},
     "output_type": "execute_result"
    }
   ],
   "source": [
    "df = pd.DataFrame(ytn_list, columns = ['title','regdate','contents','href'])\n",
    "df.head()"
   ]
  },
  {
   "cell_type": "code",
   "execution_count": 45,
   "id": "6b984753-e55c-4273-8a02-f7008202c72b",
   "metadata": {
    "tags": []
   },
   "outputs": [
    {
     "name": "stdout",
     "output_type": "stream",
     "text": [
      "<class 'pandas.core.frame.DataFrame'>\n",
      "RangeIndex: 29 entries, 0 to 28\n",
      "Data columns (total 4 columns):\n",
      " #   Column    Non-Null Count  Dtype \n",
      "---  ------    --------------  ----- \n",
      " 0   title     29 non-null     object\n",
      " 1   regdate   29 non-null     object\n",
      " 2   contents  29 non-null     object\n",
      " 3   href      29 non-null     object\n",
      "dtypes: object(4)\n",
      "memory usage: 1.0+ KB\n"
     ]
    }
   ],
   "source": [
    "df.info()"
   ]
  },
  {
   "cell_type": "markdown",
   "id": "4ed842d9-7e8f-4120-9bf3-6f8808152637",
   "metadata": {},
   "source": [
    "## 네이버맛집"
   ]
  },
  {
   "cell_type": "markdown",
   "id": "ebac3437-4d4e-462b-b216-abc4167cb4e1",
   "metadata": {},
   "source": [
    "이미지, 제목, href"
   ]
  },
  {
   "cell_type": "code",
   "execution_count": 14,
   "id": "8d4481f3-6ced-4c48-a851-24867c8d0e33",
   "metadata": {
    "tags": []
   },
   "outputs": [],
   "source": [
    "res = requests.get('https://s.search.naver.com/p/intentblock/search.naver?nlu_query=%7B%22v%22%3A%223%22%2C%22intentblock%22%3A%221%22%2C%22qid%22%3A%22%EC%A0%9C%EC%A3%BC%EB%8F%84%EB%A7%9B%EC%A7%91%22%2C%22abt%22%3A%5B%7B%22eid%22%3A%22SBR1%22%2C%22value%22%3A%7B%22bucket%22%3A%22T4%22%2C%22is_control%22%3Afalse%7D%7D%5D%2C%22matchedAbt%22%3A%5B%7B%22eid%22%3A%22SBR1%22%2C%22value%22%3A%7B%22bucket%22%3A%22T4%22%2C%22is_control%22%3Afalse%7D%7D%5D%7D&query=%EC%A0%9C%EC%A3%BC%EB%8F%84+%EB%A7%9B%EC%A7%91&where=nx_blocks_bridge')\n",
    "# res.text"
   ]
  },
  {
   "cell_type": "code",
   "execution_count": 9,
   "id": "776e524c-d4db-473b-a0e2-f6fe13597c8b",
   "metadata": {
    "tags": []
   },
   "outputs": [],
   "source": [
    "soup = BeautifulSoup(res.text, 'html.parser')"
   ]
  },
  {
   "cell_type": "code",
   "execution_count": 15,
   "id": "2e966a1d-d1f1-46bd-9413-eedfca8dba32",
   "metadata": {
    "tags": []
   },
   "outputs": [
    {
     "name": "stdout",
     "output_type": "stream",
     "text": [
      "[<div class=\"flick_bx\"> <a class=\"popular_block_wrap type_bg1\" href=\"https://s.search.naver.com/p/intentblock/search.naver?ac=0&amp;aq=0&amp;bid=SYS-0000000000780591&amp;display=10&amp;nlu_query=%7B%22v%22%3A%223%22%2C%22intentblock%22%3A%221%22%2C%22qid%22%3A%22%EC%A0%9C%EC%A3%BC%EB%8F%84%EB%A7%9B%EC%A7%91%22%2C%22abt%22%3A%5B%7B%22eid%22%3A%22SBR1%22%2C%22value%22%3A%7B%22bucket%22%3A%22T4%22%2C%22is_control%22%3Afalse%7D%7D%5D%2C%22matchedAbt%22%3A%5B%7B%22eid%22%3A%22SBR1%22%2C%22value%22%3A%7B%22bucket%22%3A%22T4%22%2C%22is_control%22%3Afalse%7D%7D%5D%7D&amp;query=%EC%A0%9C%EC%A3%BC%EB%8F%84+%EB%A7%9B%EC%A7%91&amp;ssc=tab.itb.all&amp;start=1&amp;where=nx_bridge\" onclick=\"goOtherCR(this, 'a=itb_bas.block&amp;r=1&amp;i=SYS-0000000000780591&amp;g=%7B%22bid%22%3A%22SYS-0000000000780591%22%7D&amp;u='+urlencode(this.href));\"> <div class=\"user_wrap\"> <div class=\"thumb_area\"> <div class=\"thumb\"> <div class=\"inner\"><img alt=\"\" class=\"img\" height=\"161\" onerror=\"this.src='data:image/gif;base64,R0lGODlhAQABAIAAAAAAAP///yH5BAEAAAAALAAAAAABAAEAAAIBRAA7';this.className='img bg_nimg'\" src=\"https://search.pstatic.net/common/?src=http%3A%2F%2Fblogfiles.naver.net%2FMjAyMjA5MjdfMjE4%2FMDAxNjY0MjgzNDE3MDA2.8WBcb3vfdhtxV04E4iP4gBPvKRk0v0uEoncv_41letwg.o9EcluTThm6qNp7HRqhnOXLUm5Cw2mxWJ73SSZsAFXEg.JPEG.royal_milk_tea_shake%2F53C685C1-BF8E-483E-8DA8-7561E2C67DD5.jpg%232048x1476&amp;type=f352_322\" width=\"176\"/></div> </div> <div class=\"user_thumb\"> <span class=\"user\"><img alt=\"\" class=\"img\" height=\"18\" src=\"https://search.pstatic.net/common/?src=http%3A%2F%2Fblogpfthumb.phinf.naver.net%2FMjAyMzA0MDVfMjQ5%2FMDAxNjgwNjg0MjM1Mzk0.ac-GLI9OpS1rR6U3w3Bm1vuSIBL2fn-vs2j07IhQKAAg.3PdH9-fspZkS9gOO_HbkBY81q6J-aF7nCiN1PJnzJckg.JPEG.k5727710%2FprofileImage.jpg&amp;type=f36_36\" width=\"18\"/></span> <span class=\"user\"><img alt=\"\" class=\"img\" height=\"18\" src=\"https://search.pstatic.net/common/?src=http%3A%2F%2Fblogpfthumb.phinf.naver.net%2FMjAyMjEwMjNfMTAg%2FMDAxNjY2NDUxMDU2MjY2.yHKD__JOoHoK078iwLZoZwKeaBE9d3ANjXVMac_Wr0cg.JdLBO5TJ98mPjTA0OR7eYIGmDvmVNETQplJ13fQt0Wcg.PNG.wnelals%2FprofileImage.png&amp;type=f36_36\" width=\"18\"/></span> <span class=\"user\"><img alt=\"\" class=\"img\" height=\"18\" src=\"https://search.pstatic.net/common/?src=http%3A%2F%2Fblogpfthumb.phinf.naver.net%2FMjAyMzAxMDhfMTMz%2FMDAxNjczMTg3NzM0NTgz.tixzCc7K96NtWZcgWWuRxmY6Xi6P8FtP9yLvCRlM1iYg.JkuBfpJXpV_YlEBMKb7B-YbcEUxAaLQCP3cDgINNTw0g.PNG.royal_milk_tea_shake%2FprofileImage.png&amp;type=f36_36\" width=\"18\"/></span> </div> </div> <div class=\"dsc_area\"> <div class=\"dsc\">반응 좋은 맛집 후기</div> </div> </div> </a> </div>, <div class=\"flick_bx\"> <a class=\"popular_block_wrap type_bg2\" href=\"https://s.search.naver.com/p/intentblock/search.naver?ac=0&amp;aq=0&amp;bid=SYS-0000000000779264&amp;display=10&amp;nlu_query=%7B%22v%22%3A%223%22%2C%22intentblock%22%3A%221%22%2C%22qid%22%3A%22%EC%A0%9C%EC%A3%BC%EB%8F%84%EB%A7%9B%EC%A7%91%22%2C%22abt%22%3A%5B%7B%22eid%22%3A%22SBR1%22%2C%22value%22%3A%7B%22bucket%22%3A%22T4%22%2C%22is_control%22%3Afalse%7D%7D%5D%2C%22matchedAbt%22%3A%5B%7B%22eid%22%3A%22SBR1%22%2C%22value%22%3A%7B%22bucket%22%3A%22T4%22%2C%22is_control%22%3Afalse%7D%7D%5D%7D&amp;query=%EC%A0%9C%EC%A3%BC%EB%8F%84+%EB%A7%9B%EC%A7%91&amp;ssc=tab.itb.all&amp;start=1&amp;where=nx_bridge\" onclick=\"goOtherCR(this, 'a=itb_bas.block&amp;r=2&amp;i=SYS-0000000000779264&amp;g=%7B%22bid%22%3A%22SYS-0000000000779264%22%7D&amp;u='+urlencode(this.href));\"> <div class=\"user_wrap\"> <div class=\"thumb_area\"> <div class=\"thumb\"> <div class=\"inner\"><img alt=\"\" class=\"img\" height=\"161\" onerror=\"this.src='data:image/gif;base64,R0lGODlhAQABAIAAAAAAAP///yH5BAEAAAAALAAAAAABAAEAAAIBRAA7';this.className='img bg_nimg'\" src=\"https://search.pstatic.net/common/?src=https%3A%2F%2Fmblogthumb-phinf.pstatic.net%2FMjAyMzA0MjFfNjAg%2FMDAxNjgyMDQ2OTQ0MTMz.9FmBokyJHw8IBzfuHsC0MUHEh1RaCFICzlGAXvC8TDsg.hTuK4JlkKWgVy2CAxwkIPG8iMl-p2D6PfrNU1S8Npsgg.JPEG.dalkimcoffee%2FIMG_2100.jpg%3Ftype%3Dw800&amp;type=f352_322\" width=\"176\"/></div> </div> <div class=\"user_thumb\"> <span class=\"user\"><img alt=\"\" class=\"img\" height=\"18\" src=\"https://search.pstatic.net/common/?src=http%3A%2F%2Fblogpfthumb.phinf.naver.net%2FMjAyMTA1MzBfNzMg%2FMDAxNjIyMzc1MDg0NDA0.97I-7vmKkVWQ9VryIh03Q2WGtggDVK2Cf5pkLmKttmQg.I_R8rYAQWM5yP7b1TnZPa-TexFgHCg1inluThlpr88cg.PNG.ca0312ca%2FprofileImage.png&amp;type=f36_36\" width=\"18\"/></span> <span class=\"user\"><img alt=\"\" class=\"img\" height=\"18\" src=\"https://search.pstatic.net/common/?src=http%3A%2F%2Fblogpfthumb.phinf.naver.net%2F20160802_190%2Finkyungidd_1470110293205rO7oG_JPEG%2FIMG_20160728_135342.jpg&amp;type=f36_36\" width=\"18\"/></span> <span class=\"user\"><img alt=\"\" class=\"img\" height=\"18\" src=\"https://search.pstatic.net/common/?src=https%3A%2F%2Finfluencer-phinf.pstatic.net%2FMjAyMDA5MDhfNTcg%2FMDAxNTk5NTQyNjI3MTI5.8lIY1fQggo36afFe3ffmjlI292_UzMoY0LZfYLm53zEg.U10Uzl3THoCZPj2YpoBWkTo_GW-oFTht6DZZN_8fsegg.JPEG%2FF47B00B5-0460-4824-B3A2-1BA872A44048.jpeg&amp;type=f36_36\" width=\"18\"/></span> </div> </div> <div class=\"dsc_area\"> <div class=\"dsc\">TV 속 맛집 후기</div> </div> </div> </a> </div>, <div class=\"flick_bx\"> <a class=\"popular_block_wrap type_bg3\" href=\"https://s.search.naver.com/p/intentblock/search.naver?ac=0&amp;aq=0&amp;bid=SYS-0000000000782006&amp;display=10&amp;nlu_query=%7B%22v%22%3A%223%22%2C%22intentblock%22%3A%221%22%2C%22qid%22%3A%22%EC%A0%9C%EC%A3%BC%EB%8F%84%EB%A7%9B%EC%A7%91%22%2C%22abt%22%3A%5B%7B%22eid%22%3A%22SBR1%22%2C%22value%22%3A%7B%22bucket%22%3A%22T4%22%2C%22is_control%22%3Afalse%7D%7D%5D%2C%22matchedAbt%22%3A%5B%7B%22eid%22%3A%22SBR1%22%2C%22value%22%3A%7B%22bucket%22%3A%22T4%22%2C%22is_control%22%3Afalse%7D%7D%5D%7D&amp;query=%EC%A0%9C%EC%A3%BC%EB%8F%84+%EB%A7%9B%EC%A7%91&amp;ssc=tab.itb.all&amp;start=1&amp;where=nx_bridge\" onclick=\"goOtherCR(this, 'a=itb_bas.block&amp;r=3&amp;i=SYS-0000000000782006&amp;g=%7B%22bid%22%3A%22SYS-0000000000782006%22%7D&amp;u='+urlencode(this.href));\"> <div class=\"user_wrap\"> <div class=\"thumb_area\"> <div class=\"thumb\"> <div class=\"inner\"><img alt=\"\" class=\"img\" height=\"161\" onerror=\"this.src='data:image/gif;base64,R0lGODlhAQABAIAAAAAAAP///yH5BAEAAAAALAAAAAABAAEAAAIBRAA7';this.className='img bg_nimg'\" src=\"https://search.pstatic.net/common/?src=https%3A%2F%2Fmblogthumb-phinf.pstatic.net%2FMjAyMjA3MjdfMTU3%2FMDAxNjU4OTAzMDk5Mzk0.3Zc1d5ljF7LK9BGX2AgcpnmHEiynBQzKNmthLwJzNewg.ZouzRuStUyHsMJ7au6SNbWb1oDFaa_nD-YE7t3VCAxAg.PNG.jsjung1999%2FIMG_9383.png%3Ftype%3Dw800&amp;type=f352_322\" width=\"176\"/></div> </div> <div class=\"user_thumb\"> <span class=\"user\"><img alt=\"\" class=\"img\" height=\"18\" src=\"https://search.pstatic.net/common/?src=http%3A%2F%2Fblogpfthumb.phinf.naver.net%2FMjAyMzAzMDRfOSAg%2FMDAxNjc3OTI4OTM5MjUz.Xf0BDUi1RfffdFc38O6TuwLh6cPgxSVlo-Q1U8e_GhIg.CO10ykZ9_H-psOlEBAKn8xF2hwrR2SXUWQpp9IuCIecg.JPEG.skimdins%2FprofileImage.jpg&amp;type=f36_36\" width=\"18\"/></span> <span class=\"user\"><img alt=\"\" class=\"img\" height=\"18\" src=\"https://search.pstatic.net/common/?src=http%3A%2F%2Fblogpfthumb.phinf.naver.net%2FMjAyMjA2MjhfMTk3%2FMDAxNjU2Mzk2NTY5NzE1.qfgp1hrBFYep5BuFZgPAx-fFJ5YJd1VICbM5niQwCjcg.kl8weoTrdH_GhiwK1uJ67Xfmj8GtUehtnftxekIyPx0g.PNG.088218%2FprofileImage.png&amp;type=f36_36\" width=\"18\"/></span> <span class=\"user\"><img alt=\"\" class=\"img\" height=\"18\" src=\"https://search.pstatic.net/common/?src=https%3A%2F%2Fphinf.pstatic.net%2Fcontact%2F20190721_300%2F1563657829379azqg5_JPEG%2Fimage.JPEG&amp;type=f36_36\" width=\"18\"/></span> </div> </div> <div class=\"dsc_area\"> <div class=\"dsc\">맛집 탐방가 리뷰</div> </div> </div> </a> </div>, <div class=\"flick_bx\"> <a class=\"popular_block_wrap type_bg4\" href=\"https://s.search.naver.com/p/intentblock/search.naver?ac=0&amp;aq=0&amp;bid=SYS-0000000014004476&amp;display=10&amp;nlu_query=%7B%22v%22%3A%223%22%2C%22intentblock%22%3A%221%22%2C%22qid%22%3A%22%EC%A0%9C%EC%A3%BC%EB%8F%84%EB%A7%9B%EC%A7%91%22%2C%22abt%22%3A%5B%7B%22eid%22%3A%22SBR1%22%2C%22value%22%3A%7B%22bucket%22%3A%22T4%22%2C%22is_control%22%3Afalse%7D%7D%5D%2C%22matchedAbt%22%3A%5B%7B%22eid%22%3A%22SBR1%22%2C%22value%22%3A%7B%22bucket%22%3A%22T4%22%2C%22is_control%22%3Afalse%7D%7D%5D%7D&amp;query=%EC%A0%9C%EC%A3%BC%EB%8F%84+%EB%A7%9B%EC%A7%91&amp;ssc=tab.itb.all&amp;start=1&amp;where=nx_bridge\" onclick=\"goOtherCR(this, 'a=itb_bas.block&amp;r=4&amp;i=SYS-0000000014004476&amp;g=%7B%22bid%22%3A%22SYS-0000000014004476%22%7D&amp;u='+urlencode(this.href));\"> <div class=\"user_wrap\"> <div class=\"thumb_area\"> <div class=\"thumb\"> <div class=\"inner\"><img alt=\"\" class=\"img\" height=\"161\" onerror=\"this.src='data:image/gif;base64,R0lGODlhAQABAIAAAAAAAP///yH5BAEAAAAALAAAAAABAAEAAAIBRAA7';this.className='img bg_nimg'\" src=\"https://search.pstatic.net/common/?src=http%3A%2F%2Fblogfiles.naver.net%2FMjAyMjAzMDVfMjUz%2FMDAxNjQ2NDkxMzUzNzUy.4qyyDDFCChnNoBO_V4M0Gf3DBfjTvmPPGQr7P4A3Jksg.etifxjYK0KykSQ7wI2qi-D-GH2_FE8MnGDPoTQfL1NQg.JPEG.seul8089%2FP20211111_195839663_C8C5B9A5-75B4-45D4-B82D-9E71F7BB1C4D.JPG%233024x4032&amp;type=f352_322\" width=\"176\"/></div> </div> <div class=\"user_thumb\"> <span class=\"user\"><img alt=\"\" class=\"img\" height=\"18\" src=\"https://search.pstatic.net/common/?src=http%3A%2F%2Fblogpfthumb.phinf.naver.net%2FMjAyMTAyMTFfMTU1%2FMDAxNjEzMDM5OTkwMjM4.DZVOhs4eGcmi2bG8k4wIZxwvXnNJOOyXgH5lKuZEFWEg.34yt4lDCJuWAeSBej6NKhzvWv8RPZxrMnQlXx1x_keMg.JPEG.enteroqueen%2FKakaoTalk_20210211_193918763.jpg&amp;type=f36_36\" width=\"18\"/></span> <span class=\"user\"><img alt=\"\" class=\"img\" height=\"18\" src=\"https://search.pstatic.net/common/?src=http%3A%2F%2Fblogpfthumb.phinf.naver.net%2FMjAyMTAxMDFfNDIg%2FMDAxNjA5NDUxMjA3NDI3.cXnycKg2Fr0GlpNWKIhZ41Wi8by3j5onUAW12pLT0SEg.7bvGF6k7nptRUqfbaPr_M1YY5U48Ufkw_tBTVXHoo6Qg.JPEG.gkfaktl00%2FprofileImage.jpg&amp;type=f36_36\" width=\"18\"/></span> <span class=\"user\"><img alt=\"\" class=\"img\" height=\"18\" src=\"https://search.pstatic.net/common/?src=http%3A%2F%2Fblogpfthumb.phinf.naver.net%2FMjAxODA4MTdfMTY5%2FMDAxNTM0NDk4MTcyOTU4.3gMt3urOLob6zTMI1QKTV7mItUniI-kGNCw8N21IqNUg.KwHQ-j3A_X2QEkaBSutNTuiysP3flnRQYeGA4orVT4Yg.JPEG.seul8089%2FIMG_7708.JPG&amp;type=f36_36\" width=\"18\"/></span> </div> </div> <div class=\"dsc_area\"> <div class=\"dsc\">제주도맛집내돈내산</div> </div> </div> </a> </div>, <div class=\"flick_bx\"> <a class=\"popular_block_wrap type_bg5\" href=\"https://s.search.naver.com/p/intentblock/search.naver?ac=0&amp;aq=0&amp;bid=SYS-0000000013973769&amp;display=10&amp;nlu_query=%7B%22v%22%3A%223%22%2C%22intentblock%22%3A%221%22%2C%22qid%22%3A%22%EC%A0%9C%EC%A3%BC%EB%8F%84%EB%A7%9B%EC%A7%91%22%2C%22abt%22%3A%5B%7B%22eid%22%3A%22SBR1%22%2C%22value%22%3A%7B%22bucket%22%3A%22T4%22%2C%22is_control%22%3Afalse%7D%7D%5D%2C%22matchedAbt%22%3A%5B%7B%22eid%22%3A%22SBR1%22%2C%22value%22%3A%7B%22bucket%22%3A%22T4%22%2C%22is_control%22%3Afalse%7D%7D%5D%7D&amp;query=%EC%A0%9C%EC%A3%BC%EB%8F%84+%EB%A7%9B%EC%A7%91&amp;ssc=tab.itb.all&amp;start=1&amp;where=nx_bridge\" onclick=\"goOtherCR(this, 'a=itb_bas.block&amp;r=5&amp;i=SYS-0000000013973769&amp;g=%7B%22bid%22%3A%22SYS-0000000013973769%22%7D&amp;u='+urlencode(this.href));\"> <div class=\"user_wrap\"> <div class=\"thumb_area\"> <div class=\"thumb\"> <div class=\"inner\"><img alt=\"\" class=\"img\" height=\"161\" onerror=\"this.src='data:image/gif;base64,R0lGODlhAQABAIAAAAAAAP///yH5BAEAAAAALAAAAAABAAEAAAIBRAA7';this.className='img bg_nimg'\" src=\"https://search.pstatic.net/common/?src=http%3A%2F%2Fblogfiles.naver.net%2FMjAyMjA3MjhfNDAg%2FMDAxNjU4OTM1NTA2NDEx.OSa3wD5WjwuOEGzLt26qNaLZrDf6RlevdNcXAiyBKQcg.DFjnP6FZ1-x2SZZbqzHDVfHlc0FRcohMWw607IU1Lckg.PNG.sk3877%2F1231.png%23567x567&amp;type=f352_322\" width=\"176\"/></div> </div> <div class=\"user_thumb\"> <span class=\"user\"><img alt=\"\" class=\"img\" height=\"18\" src=\"https://search.pstatic.net/common/?src=http%3A%2F%2Fblogpfthumb.phinf.naver.net%2FMjAxOTExMDJfMzAg%2FMDAxNTcyNzA0NDMzNjYz.BcdvypuutYem6Gof1TkBh7qH-kj_wThuoMGJnAy6TBgg.QVMLoDYmW556IPzRJdMo-S7KQRO0egl1KulQMZ-boFEg.PNG.tingco23%2FprofileImage.png&amp;type=f36_36\" width=\"18\"/></span> <span class=\"user\"><img alt=\"\" class=\"img\" height=\"18\" src=\"https://search.pstatic.net/common/?src=https%3A%2F%2Fblogpfthumb-phinf.pstatic.net%2F20160917_242%2Fturpu_1474090304418OhdSW_GIF%2FprofileImage.gif&amp;type=f36_36\" width=\"18\"/></span> <span class=\"user\"><img alt=\"\" class=\"img\" height=\"18\" src=\"https://search.pstatic.net/common/?src=http%3A%2F%2Fblogpfthumb.phinf.naver.net%2FMjAyMjA2MDlfNCAg%2FMDAxNjU0Nzg0MDk2MzUz.XgaF6jwUOGNW2Zs8W2IlkKMbwq6uu1v9kyIl_cdCyPUg.hvqmU70jiCpaEj6QA0IxaB1Ny4YVS-YR96k7vJcc8TAg.PNG.sk3877%2FprofileImage.png&amp;type=f36_36\" width=\"18\"/></span> </div> </div> <div class=\"dsc_area\"> <div class=\"dsc\">제주도 현지인 맛집 리스트</div> </div> </div> </a> </div>, <div class=\"flick_bx\"> <a class=\"popular_block_wrap type_bg6\" href=\"https://s.search.naver.com/p/intentblock/search.naver?ac=0&amp;aq=0&amp;bid=SYS-0000000001829765&amp;display=10&amp;nlu_query=%7B%22v%22%3A%223%22%2C%22intentblock%22%3A%221%22%2C%22qid%22%3A%22%EC%A0%9C%EC%A3%BC%EB%8F%84%EB%A7%9B%EC%A7%91%22%2C%22abt%22%3A%5B%7B%22eid%22%3A%22SBR1%22%2C%22value%22%3A%7B%22bucket%22%3A%22T4%22%2C%22is_control%22%3Afalse%7D%7D%5D%2C%22matchedAbt%22%3A%5B%7B%22eid%22%3A%22SBR1%22%2C%22value%22%3A%7B%22bucket%22%3A%22T4%22%2C%22is_control%22%3Afalse%7D%7D%5D%7D&amp;query=%EC%A0%9C%EC%A3%BC%EB%8F%84+%EB%A7%9B%EC%A7%91&amp;ssc=tab.itb.all&amp;start=1&amp;where=nx_bridge\" onclick=\"goOtherCR(this, 'a=itb_bas.block&amp;r=6&amp;i=SYS-0000000001829765&amp;g=%7B%22bid%22%3A%22SYS-0000000001829765%22%7D&amp;u='+urlencode(this.href));\"> <div class=\"user_wrap\"> <div class=\"thumb_area\"> <div class=\"thumb\"> <div class=\"inner\"><img alt=\"\" class=\"img\" height=\"161\" onerror=\"this.src='data:image/gif;base64,R0lGODlhAQABAIAAAAAAAP///yH5BAEAAAAALAAAAAABAAEAAAIBRAA7';this.className='img bg_nimg'\" src=\"https://search.pstatic.net/common/?src=https%3A%2F%2Fmblogthumb-phinf.pstatic.net%2FMjAyMjA1MjVfMjQ0%2FMDAxNjUzNDUwMjc5MDAz.TCJVXipYEVy0a-fQa6SlGEvdJl1GqaKnqxGmyu2CJVwg.kQY-85laZhtm_4G3bedyr5ILzjZqsdFp0GZ8thzfzjkg.PNG.zuuu_33%2Fimage.png%3Ftype%3Dw800&amp;type=f352_322\" width=\"176\"/></div> </div> <div class=\"user_thumb\"> <span class=\"user\"><img alt=\"\" class=\"img\" height=\"18\" src=\"https://search.pstatic.net/common/?src=http%3A%2F%2Fblogpfthumb.phinf.naver.net%2FMjAxOTA3MjBfODMg%2FMDAxNTYzNjMwMzA4OTkw.ig2XickpBwXOgyfOqRpUOyDpNj3xNH1_vQOvdloR5IQg.ZQMkBSFlRlNgECqRbZoreo863i7cQhZio1mrXans2P8g.PNG.666chunsa%2FprofileImage.png&amp;type=f36_36\" width=\"18\"/></span> <span class=\"user\"><img alt=\"\" class=\"img\" height=\"18\" src=\"https://search.pstatic.net/common/?src=http%3A%2F%2Fblogpfthumb.phinf.naver.net%2FMjAyMzAxMDJfOTMg%2FMDAxNjcyNTg4NTkyNzQ2.34VB3LnbhK-tOXG1gYB_tsr_jOG7Wvlst_8p4ZJ1QJ4g.eQKiQL5N77NjBq0dZaHJgCEdEEKOwp4uwyD5BVVXRdog.PNG.bravekk11%2FprofileImage.png&amp;type=f36_36\" width=\"18\"/></span> <span class=\"user\"><img alt=\"\" class=\"img\" height=\"18\" src=\"https://search.pstatic.net/common/?src=https%3A%2F%2Fhomebuilder-phinf.pstatic.net%2FMjAyMzAzMDNfMjk0%2FMDAxNjc3ODMxMzcwOTE0.5APaTaFIeo7coCL1_Lu62jP5Plvt-1jZC_nay8NOYVMg.oiqqaCmr8-UpeKfXtEXeJyaYVqMQ2wTrUqe-JqpDUeUg.JPEG%2F1677831370841_D99C49A4-59CC-4CC4-BC17-9D5B3CF8B24F.jpeg&amp;type=f36_36\" width=\"18\"/></span> </div> </div> <div class=\"dsc_area\"> <div class=\"dsc\">제주도 맛집리스트</div> </div> </div> </a> </div>, <div class=\"flick_bx\"> <a class=\"popular_block_wrap type_bg7\" href=\"https://s.search.naver.com/p/intentblock/search.naver?ac=0&amp;aq=0&amp;bid=SYS-0000000000787098&amp;display=10&amp;nlu_query=%7B%22v%22%3A%223%22%2C%22intentblock%22%3A%221%22%2C%22qid%22%3A%22%EC%A0%9C%EC%A3%BC%EB%8F%84%EB%A7%9B%EC%A7%91%22%2C%22abt%22%3A%5B%7B%22eid%22%3A%22SBR1%22%2C%22value%22%3A%7B%22bucket%22%3A%22T4%22%2C%22is_control%22%3Afalse%7D%7D%5D%2C%22matchedAbt%22%3A%5B%7B%22eid%22%3A%22SBR1%22%2C%22value%22%3A%7B%22bucket%22%3A%22T4%22%2C%22is_control%22%3Afalse%7D%7D%5D%7D&amp;query=%EC%A0%9C%EC%A3%BC%EB%8F%84+%EB%A7%9B%EC%A7%91&amp;ssc=tab.itb.all&amp;start=1&amp;where=nx_bridge\" onclick=\"goOtherCR(this, 'a=itb_bas.block&amp;r=7&amp;i=SYS-0000000000787098&amp;g=%7B%22bid%22%3A%22SYS-0000000000787098%22%7D&amp;u='+urlencode(this.href));\"> <div class=\"user_wrap\"> <div class=\"thumb_area\"> <div class=\"thumb\"> <div class=\"inner\"><img alt=\"\" class=\"img\" height=\"161\" onerror=\"this.src='data:image/gif;base64,R0lGODlhAQABAIAAAAAAAP///yH5BAEAAAAALAAAAAABAAEAAAIBRAA7';this.className='img bg_nimg'\" src=\"https://search.pstatic.net/common/?src=http%3A%2F%2Fblogfiles.naver.net%2FMjAyMjEwMDdfMTUy%2FMDAxNjY1MTAwODAwMTE0.yGQcJsB9gyHY_rTWairq78IAemguNQw0kAICfDE40zkg.tgKSvhXuDdDphTUIPWeaGa12wIgkHVfXwoxRKYD93wkg.JPEG.czzx0212%2F1665100798279.jpg%23900x1200&amp;type=f352_322\" width=\"176\"/></div> </div> <div class=\"user_thumb\"> <span class=\"user\"><img alt=\"\" class=\"img\" height=\"18\" src=\"https://search.pstatic.net/common/?src=http%3A%2F%2Fblogpfthumb.phinf.naver.net%2FMjAyMTA5MjZfMjM1%2FMDAxNjMyNjI1NjM3MTU3.BsHYBCoHNTYQw26QeNl4nHsk8REWCu_5t9E5WIf6TEkg.tB2MQbbe-8-Hjh0mlV2KWMdmtDC8Mi9cbfZWXiNDySsg.PNG.dnlgus1122%2FprofileImage.png&amp;type=f36_36\" width=\"18\"/></span> <span class=\"user\"><img alt=\"\" class=\"img\" height=\"18\" src=\"https://search.pstatic.net/common/?src=http%3A%2F%2Fblogpfthumb.phinf.naver.net%2FMjAyMjExMjNfMTU5%2FMDAxNjY5MTg0MDg3ODQ0.Lwyy3uLYbo5HQpDjaLsu2WZSimITG8_m1wfJeHc5rK4g.FYVvgRB6rjyBBfUBTVvXIn2MvLvXepheYVQTD3EX3f4g.PNG.jaen_21%2FprofileImage.png&amp;type=f36_36\" width=\"18\"/></span> <span class=\"user\"><img alt=\"\" class=\"img\" height=\"18\" src=\"https://search.pstatic.net/common/?src=http%3A%2F%2Fblogpfthumb.phinf.naver.net%2FMjAyMjAzMTNfMTAg%2FMDAxNjQ3MTA1Nzk4Njg4.4_FsURFFaLALUVBURHiHcAiZB45u51H5d9WbMHolifAg.zlv8Ad2j4si3ktu4EX_dahuqr5Vq2p7kOjjI270yseUg.PNG.czzx0212%2FprofileImage.png&amp;type=f36_36\" width=\"18\"/></span> </div> </div> <div class=\"dsc_area\"> <div class=\"dsc\">제주도찐맛집</div> </div> </div> </a> </div>, <div class=\"flick_bx\"> <a class=\"popular_block_wrap type_bg8\" href=\"https://s.search.naver.com/p/intentblock/search.naver?ac=0&amp;aq=0&amp;bid=SYS-0000000001843533&amp;display=10&amp;nlu_query=%7B%22v%22%3A%223%22%2C%22intentblock%22%3A%221%22%2C%22qid%22%3A%22%EC%A0%9C%EC%A3%BC%EB%8F%84%EB%A7%9B%EC%A7%91%22%2C%22abt%22%3A%5B%7B%22eid%22%3A%22SBR1%22%2C%22value%22%3A%7B%22bucket%22%3A%22T4%22%2C%22is_control%22%3Afalse%7D%7D%5D%2C%22matchedAbt%22%3A%5B%7B%22eid%22%3A%22SBR1%22%2C%22value%22%3A%7B%22bucket%22%3A%22T4%22%2C%22is_control%22%3Afalse%7D%7D%5D%7D&amp;query=%EC%A0%9C%EC%A3%BC%EB%8F%84+%EB%A7%9B%EC%A7%91&amp;ssc=tab.itb.all&amp;start=1&amp;where=nx_bridge\" onclick=\"goOtherCR(this, 'a=itb_bas.block&amp;r=8&amp;i=SYS-0000000001843533&amp;g=%7B%22bid%22%3A%22SYS-0000000001843533%22%7D&amp;u='+urlencode(this.href));\"> <div class=\"user_wrap\"> <div class=\"thumb_area\"> <div class=\"thumb\"> <div class=\"inner\"><img alt=\"\" class=\"img\" height=\"161\" onerror=\"this.src='data:image/gif;base64,R0lGODlhAQABAIAAAAAAAP///yH5BAEAAAAALAAAAAABAAEAAAIBRAA7';this.className='img bg_nimg'\" src=\"https://search.pstatic.net/common/?src=http%3A%2F%2Fblogfiles.naver.net%2FMjAyMzA0MDFfMTQ5%2FMDAxNjgwMzI2NDYwNTc1.T0ytU2RYVHm_GVrwghq7mdPF4XIBSQaOFaYe6EJhSE4g.CkVzSIFnw0-WmwYVlUsliEkB-jD43JY-oHXjSbAhwIUg.JPEG.masicvocal%2FIMG_7946.JPG%23900x676&amp;type=f352_322\" width=\"176\"/></div> </div> <div class=\"user_thumb\"> <span class=\"user\"><img alt=\"\" class=\"img\" height=\"18\" src=\"https://search.pstatic.net/common/?src=http%3A%2F%2Fblogpfthumb.phinf.naver.net%2FMjAyMzAxMDhfMTMz%2FMDAxNjczMTg3NzM0NTgz.tixzCc7K96NtWZcgWWuRxmY6Xi6P8FtP9yLvCRlM1iYg.JkuBfpJXpV_YlEBMKb7B-YbcEUxAaLQCP3cDgINNTw0g.PNG.royal_milk_tea_shake%2FprofileImage.png&amp;type=f36_36\" width=\"18\"/></span> <span class=\"user\"><img alt=\"\" class=\"img\" height=\"18\" src=\"https://search.pstatic.net/common/?src=http%3A%2F%2Fblogpfthumb.phinf.naver.net%2FMjAyMjEyMjNfMzkg%2FMDAxNjcxNzYzMDEyODIz.XLtJkqGFFHRdS6VyQBjG1QUhHoHnoGuebtS9IJF2EQgg.XST7F7yp5SbwbB0aJbTHDgvs4FAyUXhWsapqXWUYDYog.PNG.matam02%2F%2525EA%2525B4%252591%2525EA%2525B3%2525A0%2525EC%252586%25258C%2525EC%25259E%2525AC%252528%2525EB%2525B0%252595%2525EC%2525A7%252584%2525EA%2525B7%25259C%252529_-_2022-12-23T113648.077.png%2F%2525EA%2525B4%252591%2525EA%2525B3%2525A0%2525EC%252586%25258C%2525EC%25259E%2525AC%252528%2525EB%2525B0%252595%2525EC%2525A7%252584%2525EA%2525B7%25259C%252529%252B-%252B2022-12-23T113648.077.png&amp;type=f36_36\" width=\"18\"/></span> <span class=\"user\"><img alt=\"\" class=\"img\" height=\"18\" src=\"https://search.pstatic.net/common/?src=http%3A%2F%2Fblogpfthumb.phinf.naver.net%2FMjAyMjA1MjZfMjA3%2FMDAxNjUzNTY4NzU5NjYy.y4ChJ9-zRR-5i0S4aFmqfZoVmMS0MaCGDcyKXdBI2nQg.unEp8mOO-hD5XJAJSH8_9dqHaO3SnkiMvDXZyZ4I67Yg.GIF.masicvocal%2FprofileImage.gif&amp;type=f36_36\" width=\"18\"/></span> </div> </div> <div class=\"dsc_area\"> <div class=\"dsc\">제주도점심맛집</div> </div> </div> </a> </div>, <div class=\"flick_bx\"> <a class=\"popular_block_wrap type_bg9\" href=\"https://s.search.naver.com/p/intentblock/search.naver?ac=0&amp;aq=0&amp;bid=SYS-0000000014004475&amp;display=10&amp;nlu_query=%7B%22v%22%3A%223%22%2C%22intentblock%22%3A%221%22%2C%22qid%22%3A%22%EC%A0%9C%EC%A3%BC%EB%8F%84%EB%A7%9B%EC%A7%91%22%2C%22abt%22%3A%5B%7B%22eid%22%3A%22SBR1%22%2C%22value%22%3A%7B%22bucket%22%3A%22T4%22%2C%22is_control%22%3Afalse%7D%7D%5D%2C%22matchedAbt%22%3A%5B%7B%22eid%22%3A%22SBR1%22%2C%22value%22%3A%7B%22bucket%22%3A%22T4%22%2C%22is_control%22%3Afalse%7D%7D%5D%7D&amp;query=%EC%A0%9C%EC%A3%BC%EB%8F%84+%EB%A7%9B%EC%A7%91&amp;ssc=tab.itb.all&amp;start=1&amp;where=nx_bridge\" onclick=\"goOtherCR(this, 'a=itb_bas.block&amp;r=9&amp;i=SYS-0000000014004475&amp;g=%7B%22bid%22%3A%22SYS-0000000014004475%22%7D&amp;u='+urlencode(this.href));\"> <div class=\"user_wrap\"> <div class=\"thumb_area\"> <div class=\"thumb\"> <div class=\"inner\"><img alt=\"\" class=\"img\" height=\"161\" onerror=\"this.src='data:image/gif;base64,R0lGODlhAQABAIAAAAAAAP///yH5BAEAAAAALAAAAAABAAEAAAIBRAA7';this.className='img bg_nimg'\" src=\"https://search.pstatic.net/common/?src=http%3A%2F%2Fblogfiles.naver.net%2FMjAyMjA4MTZfMTE5%2FMDAxNjYwNjU2OTg3NjM0.U2RcVj93BojnjDdfYhjNr8sPm80vULtf7ngoXHi9Q3sg.m03H-ApDOATpDDQl2PAKIaflx0XXpuMvnvF2Wt2Xel4g.JPEG.hiwool%2F1660649013421.jpg%23900x900&amp;type=f352_322\" width=\"176\"/></div> </div> <div class=\"user_thumb\"> <span class=\"user\"><img alt=\"\" class=\"img\" height=\"18\" src=\"https://search.pstatic.net/common/?src=http%3A%2F%2Fblogpfthumb.phinf.naver.net%2FMjAyMjA1MDZfMTYg%2FMDAxNjUxODQ2MDE2MDAy.rg0-zpMXtyCK4YIWFQCoOncPX6kp6T7Ibxr1U6EdVm0g.yOfNDNKnjXDoCvCh1XZFWTcUb1V4Mxr4cbp2-BmLbRog.PNG.bigcastlekk%2FprofileImage.png&amp;type=f36_36\" width=\"18\"/></span> <span class=\"user\"><img alt=\"\" class=\"img\" height=\"18\" src=\"https://search.pstatic.net/common/?src=http%3A%2F%2Fblogpfthumb.phinf.naver.net%2FMjAyMjEwMTJfMTYx%2FMDAxNjY1NTc3MTA2MTY5.Uew7NaLHVGOv-YpSd3lXVWrJao4zK33AncVJ6cAN1OYg.Du4FnWaglhQeHQbE9vbx3dBqEaUCov0dFRddums9Kggg.JPEG.o_ocat%2FprofileImage.jpg&amp;type=f36_36\" width=\"18\"/></span> <span class=\"user\"><img alt=\"\" class=\"img\" height=\"18\" src=\"https://search.pstatic.net/common/?src=http%3A%2F%2Fblogpfthumb.phinf.naver.net%2F20150918_162%2Fhiwool_1442555637211rRedA_JPEG%2FprofileImage.jpg&amp;type=f36_36\" width=\"18\"/></span> </div> </div> <div class=\"dsc_area\"> <div class=\"dsc\">제주맛집추천</div> </div> </div> </a> </div>, <div class=\"flick_bx\"> <a class=\"popular_block_wrap type_bg1\" href=\"https://s.search.naver.com/p/intentblock/search.naver?ac=0&amp;aq=0&amp;bid=SYS-0000000000787079&amp;display=10&amp;nlu_query=%7B%22v%22%3A%223%22%2C%22intentblock%22%3A%221%22%2C%22qid%22%3A%22%EC%A0%9C%EC%A3%BC%EB%8F%84%EB%A7%9B%EC%A7%91%22%2C%22abt%22%3A%5B%7B%22eid%22%3A%22SBR1%22%2C%22value%22%3A%7B%22bucket%22%3A%22T4%22%2C%22is_control%22%3Afalse%7D%7D%5D%2C%22matchedAbt%22%3A%5B%7B%22eid%22%3A%22SBR1%22%2C%22value%22%3A%7B%22bucket%22%3A%22T4%22%2C%22is_control%22%3Afalse%7D%7D%5D%7D&amp;query=%EC%A0%9C%EC%A3%BC%EB%8F%84+%EB%A7%9B%EC%A7%91&amp;ssc=tab.itb.all&amp;start=1&amp;where=nx_bridge\" onclick=\"goOtherCR(this, 'a=itb_bas.block&amp;r=10&amp;i=SYS-0000000000787079&amp;g=%7B%22bid%22%3A%22SYS-0000000000787079%22%7D&amp;u='+urlencode(this.href));\"> <div class=\"user_wrap\"> <div class=\"thumb_area\"> <div class=\"thumb\"> <div class=\"inner\"><img alt=\"\" class=\"img\" height=\"161\" onerror=\"this.src='data:image/gif;base64,R0lGODlhAQABAIAAAAAAAP///yH5BAEAAAAALAAAAAABAAEAAAIBRAA7';this.className='img bg_nimg'\" src=\"https://search.pstatic.net/common/?src=http%3A%2F%2Fblogfiles.naver.net%2FMjAyMjAyMjdfNDkg%2FMDAxNjQ1OTE1MTU4NTEy.V8jBH4CF5mquXZErOo1KcevhbtBab6LtvGUIwqxsrtwg.N1Gx7Ni4GEMUSzolNdNj54oN8bvHDIy-1LMYbkZ0Dy4g.JPEG.ijh098dlwogm%2FIMG_5667.JPG%233024x4032&amp;type=f352_322\" width=\"176\"/></div> </div> <div class=\"user_thumb\"> <span class=\"user\"><img alt=\"\" class=\"img\" height=\"18\" src=\"https://search.pstatic.net/common/?src=http%3A%2F%2Fblogpfthumb.phinf.naver.net%2FMjAyMDAyMDVfMjM4%2FMDAxNTgwODcwNDQ0NTA2.2J09z7xjfFxDOXm84buPxQNRSvCAXk8trRApAB3Egvwg.wCIRfe5z22F23v2BN2sGLBpzi5PeqQzL-ps-WUsnLwEg.JPEG.misoya45%2FKakaoTalk_20200201_105151892.jpg&amp;type=f36_36\" width=\"18\"/></span> <span class=\"user\"><img alt=\"\" class=\"img\" height=\"18\" src=\"https://search.pstatic.net/common/?src=http%3A%2F%2Fblogpfthumb.phinf.naver.net%2FMjAyMTA1MjBfMjYg%2FMDAxNjIxNTE4Mzk0Mzky.S8uKoR_gFdrfPM5uBNsmpKS1j4CSDQmdomGj7Pj-6SAg.ZsVs7cRQ2nBn2kovbpu4oW_UC2T-M9BVhpyjjWEm9ocg.JPEG.sjrnfl6870%2FKakaoTalk_Photo_2020-11-13-04-46-29.jpeg&amp;type=f36_36\" width=\"18\"/></span> <span class=\"user\"><img alt=\"\" class=\"img\" height=\"18\" src=\"https://search.pstatic.net/common/?src=http%3A%2F%2Fblogpfthumb.phinf.naver.net%2FMjAyMTA5MjBfMTk1%2FMDAxNjMyMTA2MTc2Nzc2.UicRimchxo0dtMehpwsQuUZr3OdhViBfnIHzRnpLHccg.dNdUdf_kQIW4TDM_cPABI3n8VpbPtySeCiAtPa4LyHsg.JPEG.ijh098dlwogm%2FIMG_1002.jpg&amp;type=f36_36\" width=\"18\"/></span> </div> </div> <div class=\"dsc_area\"> <div class=\"dsc\">제주도 맛집 추천</div> </div> </div> </a> </div>, <div class=\"flick_bx\"> <a class=\"popular_block_wrap type_bg2\" href=\"https://s.search.naver.com/p/intentblock/search.naver?ac=0&amp;aq=0&amp;bid=SYS-0000000002223599&amp;display=10&amp;nlu_query=%7B%22v%22%3A%223%22%2C%22intentblock%22%3A%221%22%2C%22qid%22%3A%22%EC%A0%9C%EC%A3%BC%EB%8F%84%EB%A7%9B%EC%A7%91%22%2C%22abt%22%3A%5B%7B%22eid%22%3A%22SBR1%22%2C%22value%22%3A%7B%22bucket%22%3A%22T4%22%2C%22is_control%22%3Afalse%7D%7D%5D%2C%22matchedAbt%22%3A%5B%7B%22eid%22%3A%22SBR1%22%2C%22value%22%3A%7B%22bucket%22%3A%22T4%22%2C%22is_control%22%3Afalse%7D%7D%5D%7D&amp;query=%EC%A0%9C%EC%A3%BC%EB%8F%84+%EB%A7%9B%EC%A7%91&amp;ssc=tab.itb.all&amp;start=1&amp;where=nx_bridge\" onclick=\"goOtherCR(this, 'a=itb_bas.block&amp;r=11&amp;i=SYS-0000000002223599&amp;g=%7B%22bid%22%3A%22SYS-0000000002223599%22%7D&amp;u='+urlencode(this.href));\"> <div class=\"user_wrap\"> <div class=\"thumb_area\"> <div class=\"thumb\"> <div class=\"inner\"><img alt=\"\" class=\"img\" height=\"161\" onerror=\"this.src='data:image/gif;base64,R0lGODlhAQABAIAAAAAAAP///yH5BAEAAAAALAAAAAABAAEAAAIBRAA7';this.className='img bg_nimg'\" src=\"https://search.pstatic.net/common/?src=http%3A%2F%2Fblogfiles.naver.net%2FMjAyMzAxMTVfNjQg%2FMDAxNjczNzU2NjY1MTI1.naN7fOo6S-CKtAexkla6GqZWSO-5nHxlECUHFT6i6Ugg.J3FEKRYyMJlDgtQmmjSUyz2l-sRQVkEmBo9RYvNNhrkg.JPEG.82ljy%2FIMG_4391.jpg%234032x3024&amp;type=f352_322\" width=\"176\"/></div> </div> <div class=\"user_thumb\"> <span class=\"user\"><img alt=\"\" class=\"img\" height=\"18\" src=\"https://search.pstatic.net/common/?src=http%3A%2F%2Fblogpfthumb.phinf.naver.net%2FMjAyMTEwMDlfODQg%2FMDAxNjMzNzU0NzUzODE0.EIEM3nA-BO_H4VDXejsOoPozEz1q-uFAgq3v_PWrqnog.vj1b5cy60nRKmtAU8pxDK-9RJQe9nhpDl80c8pSDdb0g.JPEG.dpsxlr0113%2FprofileImage.jpg&amp;type=f36_36\" width=\"18\"/></span> <span class=\"user\"><img alt=\"\" class=\"img\" height=\"18\" src=\"https://search.pstatic.net/common/?src=http%3A%2F%2Fblogpfthumb.phinf.naver.net%2FMjAyMjA0MTVfMjcx%2FMDAxNjUwMDMwOTE4Mjk0.YWlZonfKq5lgKde6JIg0dlQJlodHGQYL4HJZ7O8R4p8g.d4DCfOyAN8Ff0CvbU8aLqSxhoFEo8n8yfb2MJRpysNUg.PNG.anjiye5857%2FprofileImage.png&amp;type=f36_36\" width=\"18\"/></span> <span class=\"user\"><img alt=\"\" class=\"img\" height=\"18\" src=\"https://search.pstatic.net/common/?src=http%3A%2F%2Fblogpfthumb.phinf.naver.net%2FMjAyMTExMTdfMyAg%2FMDAxNjM3MTQ3OTE4Mzg0.phAwbMpZ9DPRW1pIXzTfpxfBr1rt3YdJVNUm4gnSnZcg.fzPWscv8IiEZYF8B8k2s1N6kNYTW6xq4Zwt_yCvdeAog.PNG.82ljy%2FprofileImage.png&amp;type=f36_36\" width=\"18\"/></span> </div> </div> <div class=\"dsc_area\"> <div class=\"dsc\">전참시 제주도 맛집</div> </div> </div> </a> </div>, <div class=\"flick_bx\"> <a class=\"popular_block_wrap type_bg3\" href=\"https://s.search.naver.com/p/intentblock/search.naver?ac=0&amp;aq=0&amp;bid=SYS-0000000001843585&amp;display=10&amp;nlu_query=%7B%22v%22%3A%223%22%2C%22intentblock%22%3A%221%22%2C%22qid%22%3A%22%EC%A0%9C%EC%A3%BC%EB%8F%84%EB%A7%9B%EC%A7%91%22%2C%22abt%22%3A%5B%7B%22eid%22%3A%22SBR1%22%2C%22value%22%3A%7B%22bucket%22%3A%22T4%22%2C%22is_control%22%3Afalse%7D%7D%5D%2C%22matchedAbt%22%3A%5B%7B%22eid%22%3A%22SBR1%22%2C%22value%22%3A%7B%22bucket%22%3A%22T4%22%2C%22is_control%22%3Afalse%7D%7D%5D%7D&amp;query=%EC%A0%9C%EC%A3%BC%EB%8F%84+%EB%A7%9B%EC%A7%91&amp;ssc=tab.itb.all&amp;start=1&amp;where=nx_bridge\" onclick=\"goOtherCR(this, 'a=itb_bas.block&amp;r=12&amp;i=SYS-0000000001843585&amp;g=%7B%22bid%22%3A%22SYS-0000000001843585%22%7D&amp;u='+urlencode(this.href));\"> <div class=\"user_wrap\"> <div class=\"thumb_area\"> <div class=\"thumb\"> <div class=\"inner\"><img alt=\"\" class=\"img\" height=\"161\" onerror=\"this.src='data:image/gif;base64,R0lGODlhAQABAIAAAAAAAP///yH5BAEAAAAALAAAAAABAAEAAAIBRAA7';this.className='img bg_nimg'\" src=\"https://search.pstatic.net/common/?src=http%3A%2F%2Fblogfiles.naver.net%2FMjAyMzAyMTZfMTcw%2FMDAxNjc2NTU2NzAyNjQ0.e9oy-BDrYYpGzLwCMYe4isx5MvIcy51kkU3UDrXwgMwg.nbufYtFkB3XaYt9LZv1i3DuXV7pnHRDKKs5FihXfi2Qg.GIF.jyejyess%2FMVI_3020.gif%23500x282%23g&amp;type=f352_322\" width=\"176\"/></div> </div> <div class=\"user_thumb\"> <span class=\"user\"><img alt=\"\" class=\"img\" height=\"18\" src=\"https://search.pstatic.net/common/?src=http%3A%2F%2Fblogpfthumb.phinf.naver.net%2FMjAyMjAzMjBfNTQg%2FMDAxNjQ3NzUxNzM1Mjg5.cpeHx53zNIQ0_xvbezCRrjREqz-Ii29N-aprAeKQYqwg.5yH8GngQQBiQMm5paVBLqRBZExwtrLZAK24j_vwQgWMg.JPEG.hoyeon820%2FIMG_2667.jpeg%2FIMG_2667.jpeg&amp;type=f36_36\" width=\"18\"/></span> <span class=\"user\"><img alt=\"\" class=\"img\" height=\"18\" src=\"https://search.pstatic.net/common/?src=http%3A%2F%2Fblogpfthumb.phinf.naver.net%2FMjAyMjA5MDdfMjQg%2FMDAxNjYyNTYyMjE3Njgw.YwTKbK6SlPn7Mp5yn8iZOsiJZ_U7gSyf3d4gb681qBwg.v_eGJbj6GyMpSS6Zqeqr2A4JsURp7e2pdCTfOh7V_G0g.JPEG.n016bbong%2F20220709_145445.jpg%2F20220709_145445.jpg&amp;type=f36_36\" width=\"18\"/></span> <span class=\"user\"><img alt=\"\" class=\"img\" height=\"18\" src=\"https://search.pstatic.net/common/?src=http%3A%2F%2Fblogpfthumb.phinf.naver.net%2FMjAyMjA4MjVfMjc5%2FMDAxNjYxNDE1Mzc5NDQz.zIoa5JaAgBqjaf76BtfsuhNX2M0HUMGUcMkVTFnporMg.JA4YqapogqRk70VpsmTZYLLgASu9Agq-1UowB6Lhmiog.PNG.jyejyess%2FprofileImage.png&amp;type=f36_36\" width=\"18\"/></span> </div> </div> <div class=\"dsc_area\"> <div class=\"dsc\">제주도공항맛집</div> </div> </div> </a> </div>, <div class=\"flick_bx\"> <a class=\"popular_block_wrap type_bg4\" href=\"https://s.search.naver.com/p/intentblock/search.naver?ac=0&amp;aq=0&amp;bid=SYS-0000000001843526&amp;display=10&amp;nlu_query=%7B%22v%22%3A%223%22%2C%22intentblock%22%3A%221%22%2C%22qid%22%3A%22%EC%A0%9C%EC%A3%BC%EB%8F%84%EB%A7%9B%EC%A7%91%22%2C%22abt%22%3A%5B%7B%22eid%22%3A%22SBR1%22%2C%22value%22%3A%7B%22bucket%22%3A%22T4%22%2C%22is_control%22%3Afalse%7D%7D%5D%2C%22matchedAbt%22%3A%5B%7B%22eid%22%3A%22SBR1%22%2C%22value%22%3A%7B%22bucket%22%3A%22T4%22%2C%22is_control%22%3Afalse%7D%7D%5D%7D&amp;query=%EC%A0%9C%EC%A3%BC%EB%8F%84+%EB%A7%9B%EC%A7%91&amp;ssc=tab.itb.all&amp;start=1&amp;where=nx_bridge\" onclick=\"goOtherCR(this, 'a=itb_bas.block&amp;r=13&amp;i=SYS-0000000001843526&amp;g=%7B%22bid%22%3A%22SYS-0000000001843526%22%7D&amp;u='+urlencode(this.href));\"> <div class=\"user_wrap\"> <div class=\"thumb_area\"> <div class=\"thumb\"> <div class=\"inner\"><img alt=\"\" class=\"img\" height=\"161\" onerror=\"this.src='data:image/gif;base64,R0lGODlhAQABAIAAAAAAAP///yH5BAEAAAAALAAAAAABAAEAAAIBRAA7';this.className='img bg_nimg'\" src=\"https://search.pstatic.net/common/?src=http%3A%2F%2Fblogfiles.naver.net%2FMjAyMjAzMDJfMTE3%2FMDAxNjQ2MjI4MDk4OTA1.ZearQTN8qd5SVlKZ-lUIJjnQiXf-vBlinmIf1N_R3ikg.YrscTIZtshtEmrBtOGdax9ym-Tl1NmEET7AgXHgQWeYg.JPEG.kkd6303%2F20211116_175723.jpg%234000x2252&amp;type=f352_322\" width=\"176\"/></div> </div> <div class=\"user_thumb\"> <span class=\"user\"><img alt=\"\" class=\"img\" height=\"18\" src=\"https://search.pstatic.net/common/?src=http%3A%2F%2Fblogpfthumb.phinf.naver.net%2FMjAyMjA3MTBfMjg2%2FMDAxNjU3NDU5MDczNDk5.6S2hh0ERej6uVN02ero-GZilWP3QeRZlj8zJVTIqK7gg.W_veeeqeWIqiJMbGrpRZ43xwGLKPSfvBze_cRl64er0g.JPEG.je5121%2FprofileImage.jpg&amp;type=f36_36\" width=\"18\"/></span> <span class=\"user\"><img alt=\"\" class=\"img\" height=\"18\" src=\"https://search.pstatic.net/common/?src=http%3A%2F%2Fblogpfthumb.phinf.naver.net%2FMjAyMTAzMTdfMjAz%2FMDAxNjE1OTc4OTQxMzA0.tCAS0BbEOHD9vwJanuTBfuyLoqFOzdDMagXn08HiYVQg.IGqu03ziTsEqwyBIBgO_qgi5BdYep5yF-05wHS9ujFQg.PNG.dptmej950%2FprofileImage.png&amp;type=f36_36\" width=\"18\"/></span> <span class=\"user\"><img alt=\"\" class=\"img\" height=\"18\" src=\"https://search.pstatic.net/common/?src=http%3A%2F%2Fblogpfthumb.phinf.naver.net%2FMjAxNzA1MDhfMTk5%2FMDAxNDk0MjEwNTE2MjI2.K4z2J9m2VRLKRDbgPkqjAkjpGZ782QPfo5RV-lnwzmAg.v0pQ6P-X4wTvMv6WMCbRneXiJhz6wn1vw6JKu_IY0-kg.JPEG.kkd6303%2F20120725_155939.jpg&amp;type=f36_36\" width=\"18\"/></span> </div> </div> <div class=\"dsc_area\"> <div class=\"dsc\">제주도현지인맛집</div> </div> </div> </a> </div>, <div class=\"flick_bx\"> <a class=\"popular_block_wrap type_bg5\" href=\"https://s.search.naver.com/p/intentblock/search.naver?ac=0&amp;aq=0&amp;bid=SYS-0000000001872857&amp;display=10&amp;nlu_query=%7B%22v%22%3A%223%22%2C%22intentblock%22%3A%221%22%2C%22qid%22%3A%22%EC%A0%9C%EC%A3%BC%EB%8F%84%EB%A7%9B%EC%A7%91%22%2C%22abt%22%3A%5B%7B%22eid%22%3A%22SBR1%22%2C%22value%22%3A%7B%22bucket%22%3A%22T4%22%2C%22is_control%22%3Afalse%7D%7D%5D%2C%22matchedAbt%22%3A%5B%7B%22eid%22%3A%22SBR1%22%2C%22value%22%3A%7B%22bucket%22%3A%22T4%22%2C%22is_control%22%3Afalse%7D%7D%5D%7D&amp;query=%EC%A0%9C%EC%A3%BC%EB%8F%84+%EB%A7%9B%EC%A7%91&amp;ssc=tab.itb.all&amp;start=1&amp;where=nx_bridge\" onclick=\"goOtherCR(this, 'a=itb_bas.block&amp;r=14&amp;i=SYS-0000000001872857&amp;g=%7B%22bid%22%3A%22SYS-0000000001872857%22%7D&amp;u='+urlencode(this.href));\"> <div class=\"user_wrap\"> <div class=\"thumb_area\"> <div class=\"thumb\"> <div class=\"inner\"><img alt=\"\" class=\"img\" height=\"161\" onerror=\"this.src='data:image/gif;base64,R0lGODlhAQABAIAAAAAAAP///yH5BAEAAAAALAAAAAABAAEAAAIBRAA7';this.className='img bg_nimg'\" src=\"https://search.pstatic.net/common/?src=http%3A%2F%2Fblogfiles.naver.net%2FMjAyMDExMTFfMTI4%2FMDAxNjA1MDg4NTc1Nzc1.bkrXPWcpeX2wRbJKtAHtu9ylM3xbsV2MRcUJHKf8qQIg.pk1TkmlmAZXL-BIC80vZeBHRs3m2y0lxSQPnd0ofq6Ig.JPEG.skandhkrkd98%2FIMG_8689.jpg%23900x674&amp;type=f352_322\" width=\"176\"/></div> </div> <div class=\"user_thumb\"> <span class=\"user\"><img alt=\"\" class=\"img\" height=\"18\" src=\"https://search.pstatic.net/common/?src=http%3A%2F%2Fblogpfthumb.phinf.naver.net%2FMjAyMzAzMTRfMTM5%2FMDAxNjc4Nzc4NjY1NTQ2.E1HwykTXy-xhgcPnBW7ZRZE166ltloVwOZYn7dm5tSgg.CxuuX0yWZqh_iiuGi9JwbllIWkXUK0_S6GwOUSW6nL4g.PNG.hyde0818%2FprofileImage.png&amp;type=f36_36\" width=\"18\"/></span> <span class=\"user\"><img alt=\"\" class=\"img\" height=\"18\" src=\"https://search.pstatic.net/common/?src=https%3A%2F%2Fblogpfthumb-phinf.pstatic.net%2FMjAyMjAyMjRfMTMy%2FMDAxNjQ1NjkwMzc5ODkx.ETpJ4OkQSuiFSf4ACMZXl2eN-xiWVQL_1Wh22ougt1wg.s15et1od8BDf-otVE2gT-cB1s26RjfX1sg_rgoBaLgog.PNG.tjqtjqdl333%2F%25EB%25A8%25B9%25EC%258A%25A4%25ED%2583%2580%25ED%2582%25B9%25EC%25BD%25A9%25EC%2588%2598%25EC%25A0%259C%25EC%2595%2588%25EA%25B2%25BD.png%2F%25EB%25A8%25B9%25EC%258A%25A4%25ED%2583%2580%25ED%2582%25B9%25EC%25BD%25A9%25EC%2588%2598%25EC%25A0%259C%25EC%2595%2588%25EA%25B2%25BD.png&amp;type=f36_36\" width=\"18\"/></span> <span class=\"user\"><img alt=\"\" class=\"img\" height=\"18\" src=\"https://search.pstatic.net/common/?src=http%3A%2F%2Fblogpfthumb.phinf.naver.net%2FMjAyMjAyMTlfMjMy%2FMDAxNjQ1MjcwOTAwMDIz.KH53fvgb837hEVCIYygNx_CaS_hLjNoyrfod30vDnaYg.eYW4rUrtpttEXdQQOg9LTtz89GL5REs5pnRuRmmJ5oMg.PNG.skandhkrkd98%2FprofileImage.png&amp;type=f36_36\" width=\"18\"/></span> </div> </div> <div class=\"dsc_area\"> <div class=\"dsc\">백종원 제주도 맛집</div> </div> </div> </a> </div>, <div class=\"flick_bx\"> <a class=\"popular_block_wrap type_bg6\" href=\"https://s.search.naver.com/p/intentblock/search.naver?ac=0&amp;aq=0&amp;bid=SYS-0000000001843541&amp;display=10&amp;nlu_query=%7B%22v%22%3A%223%22%2C%22intentblock%22%3A%221%22%2C%22qid%22%3A%22%EC%A0%9C%EC%A3%BC%EB%8F%84%EB%A7%9B%EC%A7%91%22%2C%22abt%22%3A%5B%7B%22eid%22%3A%22SBR1%22%2C%22value%22%3A%7B%22bucket%22%3A%22T4%22%2C%22is_control%22%3Afalse%7D%7D%5D%2C%22matchedAbt%22%3A%5B%7B%22eid%22%3A%22SBR1%22%2C%22value%22%3A%7B%22bucket%22%3A%22T4%22%2C%22is_control%22%3Afalse%7D%7D%5D%7D&amp;query=%EC%A0%9C%EC%A3%BC%EB%8F%84+%EB%A7%9B%EC%A7%91&amp;ssc=tab.itb.all&amp;start=1&amp;where=nx_bridge\" onclick=\"goOtherCR(this, 'a=itb_bas.block&amp;r=15&amp;i=SYS-0000000001843541&amp;g=%7B%22bid%22%3A%22SYS-0000000001843541%22%7D&amp;u='+urlencode(this.href));\"> <div class=\"user_wrap\"> <div class=\"thumb_area\"> <div class=\"thumb\"> <div class=\"inner\"><img alt=\"\" class=\"img\" height=\"161\" onerror=\"this.src='data:image/gif;base64,R0lGODlhAQABAIAAAAAAAP///yH5BAEAAAAALAAAAAABAAEAAAIBRAA7';this.className='img bg_nimg'\" src=\"https://search.pstatic.net/common/?src=https%3A%2F%2Fmblogthumb-phinf.pstatic.net%2FMjAyMzAzMjhfOTEg%2FMDAxNjgwMDA3NTk5Njg0.FPONbbNnRju5Ho1bHa9gFSGAn81C6hIPyaTuwsefD-0g.Rk1mLO5vNU6eQwvFA8t0HiuhgZOLyO1lTIEoqsEefPEg.JPEG.hyun5486%2F20230321%25A3%25DF111257.jpg%3Ftype%3Dw800&amp;type=f352_322\" width=\"176\"/></div> </div> <div class=\"user_thumb\"> <span class=\"user\"><img alt=\"\" class=\"img\" height=\"18\" src=\"https://search.pstatic.net/common/?src=http%3A%2F%2Fblogpfthumb.phinf.naver.net%2FMjAyMzAyMjJfNCAg%2FMDAxNjc3MDM5NzQ5MDA4.dzJmtxfapqlq2EIBPE0H474a9QYld5GSeCFswKwpKrMg.U7d027DbO6V1s7YsT1Qz_BgIVQCVlM9F3hifRhnyLGUg.JPEG.thearly%2FKakaoTalk_20230222_122301921.jpg%2FKakaoTalk_20230222_122301921.jpg&amp;type=f36_36\" width=\"18\"/></span> <span class=\"user\"><img alt=\"\" class=\"img\" height=\"18\" src=\"https://search.pstatic.net/common/?src=http%3A%2F%2Fblogpfthumb.phinf.naver.net%2FMjAyMjEwMTJfMTYx%2FMDAxNjY1NTc3MTA2MTY5.Uew7NaLHVGOv-YpSd3lXVWrJao4zK33AncVJ6cAN1OYg.Du4FnWaglhQeHQbE9vbx3dBqEaUCov0dFRddums9Kggg.JPEG.o_ocat%2FprofileImage.jpg&amp;type=f36_36\" width=\"18\"/></span> <span class=\"user\"><img alt=\"\" class=\"img\" height=\"18\" src=\"https://search.pstatic.net/common/?src=https%3A%2F%2Fblogpfthumb-phinf.pstatic.net%2FMjAyMDAyMTRfMjU1%2FMDAxNTgxNjYzNTg0ODA0.M4LW8O9w09y6YvFOrDNhg60I_bqDDwZlkr_yl0jhviIg.OKUZGnSjo5OXSraLfnXKtIPajUu_LUamxbcBKTdRn-0g.JPEG.hyun5486%2FprofileImage.jpg&amp;type=f36_36\" width=\"18\"/></span> </div> </div> <div class=\"dsc_area\"> <div class=\"dsc\">제주도도민맛집</div> </div> </div> </a> </div>, <div class=\"flick_bx\"> <a class=\"popular_block_wrap type_bg7\" href=\"https://s.search.naver.com/p/intentblock/search.naver?ac=0&amp;aq=0&amp;bid=SYS-0000000001843584&amp;display=10&amp;nlu_query=%7B%22v%22%3A%223%22%2C%22intentblock%22%3A%221%22%2C%22qid%22%3A%22%EC%A0%9C%EC%A3%BC%EB%8F%84%EB%A7%9B%EC%A7%91%22%2C%22abt%22%3A%5B%7B%22eid%22%3A%22SBR1%22%2C%22value%22%3A%7B%22bucket%22%3A%22T4%22%2C%22is_control%22%3Afalse%7D%7D%5D%2C%22matchedAbt%22%3A%5B%7B%22eid%22%3A%22SBR1%22%2C%22value%22%3A%7B%22bucket%22%3A%22T4%22%2C%22is_control%22%3Afalse%7D%7D%5D%7D&amp;query=%EC%A0%9C%EC%A3%BC%EB%8F%84+%EB%A7%9B%EC%A7%91&amp;ssc=tab.itb.all&amp;start=1&amp;where=nx_bridge\" onclick=\"goOtherCR(this, 'a=itb_bas.block&amp;r=16&amp;i=SYS-0000000001843584&amp;g=%7B%22bid%22%3A%22SYS-0000000001843584%22%7D&amp;u='+urlencode(this.href));\"> <div class=\"user_wrap\"> <div class=\"thumb_area\"> <div class=\"thumb\"> <div class=\"inner\"><img alt=\"\" class=\"img\" height=\"161\" onerror=\"this.src='data:image/gif;base64,R0lGODlhAQABAIAAAAAAAP///yH5BAEAAAAALAAAAAABAAEAAAIBRAA7';this.className='img bg_nimg'\" src=\"https://search.pstatic.net/common/?src=http%3A%2F%2Fblogfiles.naver.net%2FMjAyMzAyMDlfNDYg%2FMDAxNjc1OTQ4OTM1OTcx.AtigCgB5sbeACvLscFe7c0WnW2sKeJbh7AT2-sUTAXkg.TMzQzlsd2ijraWSBjLN6a2-YB-FGfegRHvrI3KBsH88g.JPEG.zzzzjyy%2F20230206%25A3%25DF193854.jpg%23900x1200&amp;type=f352_322\" width=\"176\"/></div> </div> <div class=\"user_thumb\"> <span class=\"user\"><img alt=\"\" class=\"img\" height=\"18\" src=\"https://search.pstatic.net/common/?src=http%3A%2F%2Fblogpfthumb.phinf.naver.net%2F20190410_70%2Fvictory250_1554859174044uEuAN_JPEG%2FprofileImage.jpg&amp;type=f36_36\" width=\"18\"/></span> <span class=\"user\"><img alt=\"\" class=\"img\" height=\"18\" src=\"https://search.pstatic.net/common/?src=https%3A%2F%2Fpost-phinf.pstatic.net%2FMjAxODA4MjhfMjE4%2FMDAxNTM1NDE2NjcxNDQ3.SypfeIlpdwRcRGhqOc3CLrOYsmeekSWhrrNmZCqZO0Qg.yxGUXVA19J2dFVmLmkiO4A6f4pXq81GPFXAigfmPj3Yg.JPEG%2Fpost_3318726526359058131.jpg&amp;type=f36_36\" width=\"18\"/></span> <span class=\"user\"><img alt=\"\" class=\"img\" height=\"18\" src=\"https://search.pstatic.net/common/?src=http%3A%2F%2Fblogpfthumb.phinf.naver.net%2FMjAyMzAxMTJfMjkx%2FMDAxNjczNTI0MDk5NjE3.0nVWjTXK29jPggE0W7YUTV6vAbT3Yq2WMgdEG-L2Z2cg.w57Co60TdvK41egzQicPvUpZfXCF7z5KP-Wnr-RkYqMg.JPEG.zzzzjyy%2FprofileImage.jpg&amp;type=f36_36\" width=\"18\"/></span> </div> </div> <div class=\"dsc_area\"> <div class=\"dsc\">제주도딱새우맛집</div> </div> </div> </a> </div>, <div class=\"flick_bx\"> <a class=\"popular_block_wrap type_bg8\" href=\"https://s.search.naver.com/p/intentblock/search.naver?ac=0&amp;aq=0&amp;bid=SYS-0000000002223593&amp;display=10&amp;nlu_query=%7B%22v%22%3A%223%22%2C%22intentblock%22%3A%221%22%2C%22qid%22%3A%22%EC%A0%9C%EC%A3%BC%EB%8F%84%EB%A7%9B%EC%A7%91%22%2C%22abt%22%3A%5B%7B%22eid%22%3A%22SBR1%22%2C%22value%22%3A%7B%22bucket%22%3A%22T4%22%2C%22is_control%22%3Afalse%7D%7D%5D%2C%22matchedAbt%22%3A%5B%7B%22eid%22%3A%22SBR1%22%2C%22value%22%3A%7B%22bucket%22%3A%22T4%22%2C%22is_control%22%3Afalse%7D%7D%5D%7D&amp;query=%EC%A0%9C%EC%A3%BC%EB%8F%84+%EB%A7%9B%EC%A7%91&amp;ssc=tab.itb.all&amp;start=1&amp;where=nx_bridge\" onclick=\"goOtherCR(this, 'a=itb_bas.block&amp;r=17&amp;i=SYS-0000000002223593&amp;g=%7B%22bid%22%3A%22SYS-0000000002223593%22%7D&amp;u='+urlencode(this.href));\"> <div class=\"user_wrap\"> <div class=\"thumb_area\"> <div class=\"thumb\"> <div class=\"inner\"><img alt=\"\" class=\"img\" height=\"161\" onerror=\"this.src='data:image/gif;base64,R0lGODlhAQABAIAAAAAAAP///yH5BAEAAAAALAAAAAABAAEAAAIBRAA7';this.className='img bg_nimg'\" src=\"https://search.pstatic.net/common/?src=http%3A%2F%2Fblogfiles.naver.net%2FMjAyMjA1MTVfNTkg%2FMDAxNjUyNjE2ODM1NDQy.gR0TBgyQBk6rEyOdnbtnlFdvDxmkgjRpJU59_v0gbhEg.JkN-yaZW1DLRstb_ElwL91iqQvWkctNLgJ7iBnDF1v8g.JPEG.seon9251%2FIMG_2725.JPG%231200x900&amp;type=f352_322\" width=\"176\"/></div> </div> <div class=\"user_thumb\"> <span class=\"user\"><img alt=\"\" class=\"img\" height=\"18\" src=\"https://search.pstatic.net/common/?src=http%3A%2F%2Fblogpfthumb.phinf.naver.net%2FMjAyMzA0MTdfMjIy%2FMDAxNjgxNzQxNjExMjgz.6YpUV4yUn-MScaWNojGP3smmoEZAyGmuqoh5wfOdVkEg.rI_RqSGf-NZ6QWlGXG6RwxbBQpDarDLqZzDnH1SO-Gog.PNG.lucy0320%2FprofileImage.png&amp;type=f36_36\" width=\"18\"/></span> <span class=\"user\"><img alt=\"\" class=\"img\" height=\"18\" src=\"https://search.pstatic.net/common/?src=http%3A%2F%2Fblogpfthumb.phinf.naver.net%2FMjAyMzAzMDhfMjE5%2FMDAxNjc4MjAxODI3ODQx.LiqndDLkV7f6d6l9CvsY_xmP71cthnso2x8ApRAXBDYg.vtXWmWtb3jgM4zeCMhB90cBMFE-i0QcxbzvMx9UvSogg.PNG.finkle03%2FprofileImage.png&amp;type=f36_36\" width=\"18\"/></span> <span class=\"user\"><img alt=\"\" class=\"img\" height=\"18\" src=\"https://search.pstatic.net/common/?src=http%3A%2F%2Fblogpfthumb.phinf.naver.net%2FMjAyMjExMTlfNTEg%2FMDAxNjY4ODQ2MjM5MDQx.74i9vGeImO8OfP385ZKBq0hkXRY70emkQSVBLJfZsL0g.6eNT3VpQqSldzLCBO9xDEObgLX9y50W6_iKajQXKweAg.PNG.seon9251%2FprofileImage.png&amp;type=f36_36\" width=\"18\"/></span> </div> </div> <div class=\"dsc_area\"> <div class=\"dsc\">제주도 맛집 카페</div> </div> </div> </a> </div>, <div class=\"flick_bx\"> <a class=\"popular_block_wrap type_bg9\" href=\"https://s.search.naver.com/p/intentblock/search.naver?ac=0&amp;aq=0&amp;bid=SYS-0000000000787078&amp;display=10&amp;nlu_query=%7B%22v%22%3A%223%22%2C%22intentblock%22%3A%221%22%2C%22qid%22%3A%22%EC%A0%9C%EC%A3%BC%EB%8F%84%EB%A7%9B%EC%A7%91%22%2C%22abt%22%3A%5B%7B%22eid%22%3A%22SBR1%22%2C%22value%22%3A%7B%22bucket%22%3A%22T4%22%2C%22is_control%22%3Afalse%7D%7D%5D%2C%22matchedAbt%22%3A%5B%7B%22eid%22%3A%22SBR1%22%2C%22value%22%3A%7B%22bucket%22%3A%22T4%22%2C%22is_control%22%3Afalse%7D%7D%5D%7D&amp;query=%EC%A0%9C%EC%A3%BC%EB%8F%84+%EB%A7%9B%EC%A7%91&amp;ssc=tab.itb.all&amp;start=1&amp;where=nx_bridge\" onclick=\"goOtherCR(this, 'a=itb_bas.block&amp;r=18&amp;i=SYS-0000000000787078&amp;g=%7B%22bid%22%3A%22SYS-0000000000787078%22%7D&amp;u='+urlencode(this.href));\"> <div class=\"user_wrap\"> <div class=\"thumb_area\"> <div class=\"thumb\"> <div class=\"inner\"><img alt=\"\" class=\"img\" height=\"161\" onerror=\"this.src='data:image/gif;base64,R0lGODlhAQABAIAAAAAAAP///yH5BAEAAAAALAAAAAABAAEAAAIBRAA7';this.className='img bg_nimg'\" src=\"https://search.pstatic.net/common/?src=http%3A%2F%2Fblogfiles.naver.net%2FMjAyMzA0MjBfMjQ1%2FMDAxNjgxOTgyMjMwOTk1.sKNWEwpWGr_DO0ZoG0Hpo-XxmqRPHCgdjI5nKdibpY8g.EGX7okA3UWgF-G0pqUryMRC-Ak4JzwtQ7nwcyqxM4-wg.JPEG.uu028%2F20230407%25A3%25DF140002.jpg%231200x900&amp;type=f352_322\" width=\"176\"/></div> </div> <div class=\"user_thumb\"> <span class=\"user\"><img alt=\"\" class=\"img\" height=\"18\" src=\"https://search.pstatic.net/common/?src=http%3A%2F%2Fblogpfthumb.phinf.naver.net%2FMjAyMzAzMTVfMTQg%2FMDAxNjc4ODgzODc4NjM2.aViryj-X4_sYbUG-4B2UCLz-HhjKBa4OPCyDG-PGvJkg.L0CpXKaOUVRqfO2eup8XA6bsV7IWU25FwtV2yX5IiI8g.JPEG.alstjs0705%2FKakaoTalk_20230301_2235104753.jpg%2FKakaoTalk_20230301_2235104753.jpg&amp;type=f36_36\" width=\"18\"/></span> <span class=\"user\"><img alt=\"\" class=\"img\" height=\"18\" src=\"https://search.pstatic.net/common/?src=https%3A%2F%2Finfluencer-phinf.pstatic.net%2FMjAyMTAyMDFfMTYy%2FMDAxNjEyMTY5MDYyMDAw.eFVOXL0hjZtjlOsTGkx74zpMS0rgeTGTXBLOr1wJxkQg.QH7aHsOhGiCySootsyfrOGaMLaGD39tzbdWBaiuVieMg.PNG%2FKakaoTalk_20210201_174341.png&amp;type=f36_36\" width=\"18\"/></span> <span class=\"user\"><img alt=\"\" class=\"img\" height=\"18\" src=\"https://search.pstatic.net/common/?src=http%3A%2F%2Fblogpfthumb.phinf.naver.net%2FMjAyMTA4MTlfMjMx%2FMDAxNjI5MzEwNDU3MzQ0.SdqGBCH5WOVHof4Hm8njEGuZnlCpiBBEicxbUlxfv1Ag.okKmdXUclux0-1dgrSIMjospob4tVNHV_2q7icXbLKUg.JPEG.uu028%2FIMG_20130527_081502.jpg&amp;type=f36_36\" width=\"18\"/></span> </div> </div> <div class=\"dsc_area\"> <div class=\"dsc\">제주도 맛집 지도</div> </div> </div> </a> </div>, <div class=\"flick_bx\"> <a class=\"popular_block_wrap type_bg1\" href=\"https://s.search.naver.com/p/intentblock/search.naver?ac=0&amp;aq=0&amp;bid=SYS-0000000001843543&amp;display=10&amp;nlu_query=%7B%22v%22%3A%223%22%2C%22intentblock%22%3A%221%22%2C%22qid%22%3A%22%EC%A0%9C%EC%A3%BC%EB%8F%84%EB%A7%9B%EC%A7%91%22%2C%22abt%22%3A%5B%7B%22eid%22%3A%22SBR1%22%2C%22value%22%3A%7B%22bucket%22%3A%22T4%22%2C%22is_control%22%3Afalse%7D%7D%5D%2C%22matchedAbt%22%3A%5B%7B%22eid%22%3A%22SBR1%22%2C%22value%22%3A%7B%22bucket%22%3A%22T4%22%2C%22is_control%22%3Afalse%7D%7D%5D%7D&amp;query=%EC%A0%9C%EC%A3%BC%EB%8F%84+%EB%A7%9B%EC%A7%91&amp;ssc=tab.itb.all&amp;start=1&amp;where=nx_bridge\" onclick=\"goOtherCR(this, 'a=itb_bas.block&amp;r=19&amp;i=SYS-0000000001843543&amp;g=%7B%22bid%22%3A%22SYS-0000000001843543%22%7D&amp;u='+urlencode(this.href));\"> <div class=\"user_wrap\"> <div class=\"thumb_area\"> <div class=\"thumb\"> <div class=\"inner\"><img alt=\"\" class=\"img\" height=\"161\" onerror=\"this.src='data:image/gif;base64,R0lGODlhAQABAIAAAAAAAP///yH5BAEAAAAALAAAAAABAAEAAAIBRAA7';this.className='img bg_nimg'\" src=\"https://search.pstatic.net/common/?src=http%3A%2F%2Fblogfiles.naver.net%2FMjAyMzAyMjBfNjkg%2FMDAxNjc2ODY0MDQ0MjI0.y3usF35_Taf2x6j0p9o8ubQDYOESMKmODnAmMZY-9OEg.TTJwEyp5Z7nWWL8UltBWT8HcgloZkK8JTMKh6J_7hZgg.JPEG.forever0004%2FKakaoTalk_20220830_134721352_27.jpg%231440x1080&amp;type=f352_322\" width=\"176\"/></div> </div> <div class=\"user_thumb\"> <span class=\"user\"><img alt=\"\" class=\"img\" height=\"18\" src=\"https://search.pstatic.net/common/?src=http%3A%2F%2Fblogpfthumb.phinf.naver.net%2FMjAyMzA0MjRfMjU1%2FMDAxNjgyMjY4MDg5MDcy.dDMj4NgIyFHPhN7RN-nh0RLl8p6iekB0yW1kx1DkeFkg.g72oK0q_50tqJ_4kfucoF8-Aqvni-nfFWBmB-oN1dBcg.PNG.dltnwlsm12%2FprofileImage.png&amp;type=f36_36\" width=\"18\"/></span> <span class=\"user\"><img alt=\"\" class=\"img\" height=\"18\" src=\"https://search.pstatic.net/common/?src=http%3A%2F%2Fblogpfthumb.phinf.naver.net%2FMjAyMTA0MjNfMTA0%2FMDAxNjE5MTc3NDUzOTM1.Hq9bHYiwflxxdhe2BBuqPeCD61wpc__Z1Ai-3a49x4cg.Gl3GBDeQ4mMCC-9-B-QYgFsVzbF7MSD5E0FYWcNTwS4g.JPEG.jrpark0%2FKakaoTalk_20210423_203009108.jpg&amp;type=f36_36\" width=\"18\"/></span> <span class=\"user\"><img alt=\"\" class=\"img\" height=\"18\" src=\"https://search.pstatic.net/common/?src=http%3A%2F%2Fblogpfthumb.phinf.naver.net%2FMjAyMzAzMDFfMjI2%2FMDAxNjc3NjMzNzUzNDUw.7xWl3mtowEkfq-7_i7G8tt5Gl5hRtQ6nkw3Oid_2WFUg.95aZNgbUaWjE4NvsVc_F4mXBY8G8gmqpQbu2PpGxRKMg.PNG.forever0004%2FprofileImage.png&amp;type=f36_36\" width=\"18\"/></span> </div> </div> <div class=\"dsc_area\"> <div class=\"dsc\">제주도 맛집 예약</div> </div> </div> </a> </div>, <div class=\"flick_bx\"> <a class=\"popular_block_wrap type_bg2\" href=\"https://s.search.naver.com/p/intentblock/search.naver?ac=0&amp;aq=0&amp;bid=SYS-0000000008397972&amp;display=10&amp;nlu_query=%7B%22v%22%3A%223%22%2C%22intentblock%22%3A%221%22%2C%22qid%22%3A%22%EC%A0%9C%EC%A3%BC%EB%8F%84%EB%A7%9B%EC%A7%91%22%2C%22abt%22%3A%5B%7B%22eid%22%3A%22SBR1%22%2C%22value%22%3A%7B%22bucket%22%3A%22T4%22%2C%22is_control%22%3Afalse%7D%7D%5D%2C%22matchedAbt%22%3A%5B%7B%22eid%22%3A%22SBR1%22%2C%22value%22%3A%7B%22bucket%22%3A%22T4%22%2C%22is_control%22%3Afalse%7D%7D%5D%7D&amp;query=%EC%A0%9C%EC%A3%BC%EB%8F%84+%EB%A7%9B%EC%A7%91&amp;ssc=tab.itb.all&amp;start=1&amp;where=nx_bridge\" onclick=\"goOtherCR(this, 'a=itb_bas.block&amp;r=20&amp;i=SYS-0000000008397972&amp;g=%7B%22bid%22%3A%22SYS-0000000008397972%22%7D&amp;u='+urlencode(this.href));\"> <div class=\"user_wrap\"> <div class=\"thumb_area\"> <div class=\"thumb\"> <div class=\"inner\"><img alt=\"\" class=\"img\" height=\"161\" onerror=\"this.src='data:image/gif;base64,R0lGODlhAQABAIAAAAAAAP///yH5BAEAAAAALAAAAAABAAEAAAIBRAA7';this.className='img bg_nimg'\" src=\"https://search.pstatic.net/common/?src=http%3A%2F%2Fblogfiles.naver.net%2FMjAyMjExMTBfMTU2%2FMDAxNjY4MDQ1Mzc2ODI4.fIjQ3lI7BCWGqhc04GffS8wBfJHesO_b7_yBCjPx7h0g.K_uRoCPAcKiLDBFTRyxtlgRKmQ1vhx6ikP424kzIpfsg.JPEG.hxxyxxx%2FIMG_4245.jpg%23827x602&amp;type=f352_322\" width=\"176\"/></div> </div> <div class=\"user_thumb\"> <span class=\"user\"><img alt=\"\" class=\"img\" height=\"18\" src=\"https://search.pstatic.net/common/?src=http%3A%2F%2Fblogpfthumb.phinf.naver.net%2F20210404_232%2Fdjathdud1972_1617544397854IIy0j_JPEG%2FKakaoTalk_20180306_231543512.jpg&amp;type=f36_36\" width=\"18\"/></span> <span class=\"user\"><img alt=\"\" class=\"img\" height=\"18\" src=\"https://search.pstatic.net/common/?src=http%3A%2F%2Fblogpfthumb.phinf.naver.net%2FMjAyMzAyMjRfNCAg%2FMDAxNjc3MjEyODcxMjc5.xcLkXrrxwi-GHrW54hmsVcq8D-b00KNZUPVdfRWzhZYg.mb02k7oho7aWm2Wk_mYxGjh1lKFVCVRarg-PhdFCokog.PNG.zlzlekfka%2FprofileImage.png&amp;type=f36_36\" width=\"18\"/></span> <span class=\"user\"><img alt=\"\" class=\"img\" height=\"18\" src=\"https://search.pstatic.net/common/?src=http%3A%2F%2Fblogpfthumb.phinf.naver.net%2FMjAyMzAzMDZfMjgz%2FMDAxNjc4MDg1MzYxNzQw.2KqkM4VeYO7BlOeHFLQoYO_s4Q-wO5fHcd1yTcyPhOwg.DrGjhW1zjyi_7zcOY3ADg3Xj--2YdEBswSWQnYmNsIgg.PNG.hxxyxxx%2FprofileImage.png&amp;type=f36_36\" width=\"18\"/></span> </div> </div> <div class=\"dsc_area\"> <div class=\"dsc\">겨울제주도 맛집</div> </div> </div> </a> </div>, <div class=\"flick_bx\"> <a class=\"popular_block_wrap type_bg3\" href=\"https://s.search.naver.com/p/intentblock/search.naver?ac=0&amp;aq=0&amp;bid=SYS-0000000000606836&amp;display=10&amp;nlu_query=%7B%22v%22%3A%223%22%2C%22intentblock%22%3A%221%22%2C%22qid%22%3A%22%EC%A0%9C%EC%A3%BC%EB%8F%84%EB%A7%9B%EC%A7%91%22%2C%22abt%22%3A%5B%7B%22eid%22%3A%22SBR1%22%2C%22value%22%3A%7B%22bucket%22%3A%22T4%22%2C%22is_control%22%3Afalse%7D%7D%5D%2C%22matchedAbt%22%3A%5B%7B%22eid%22%3A%22SBR1%22%2C%22value%22%3A%7B%22bucket%22%3A%22T4%22%2C%22is_control%22%3Afalse%7D%7D%5D%7D&amp;query=%EC%A0%9C%EC%A3%BC%EB%8F%84+%EB%A7%9B%EC%A7%91&amp;ssc=tab.itb.all&amp;start=1&amp;where=nx_bridge\" onclick=\"goOtherCR(this, 'a=itb_bas.block&amp;r=21&amp;i=SYS-0000000000606836&amp;g=%7B%22bid%22%3A%22SYS-0000000000606836%22%7D&amp;u='+urlencode(this.href));\"> <div class=\"user_wrap\"> <div class=\"thumb_area\"> <div class=\"thumb\"> <div class=\"inner\"><img alt=\"\" class=\"img\" height=\"161\" onerror=\"this.src='data:image/gif;base64,R0lGODlhAQABAIAAAAAAAP///yH5BAEAAAAALAAAAAABAAEAAAIBRAA7';this.className='img bg_nimg'\" src=\"https://search.pstatic.net/common/?src=http%3A%2F%2Fpost.phinf.naver.net%2FMjAyMTA4MjRfMjQw%2FMDAxNjI5ODAyODU5NTg5.Ymjc_hFcdFVHnfe26oGQK0pMjOcUk93lYr8LQdbST3Ig.hrf4z3N-knsqfJ5CwI6svTX-HjVLoxrN3fXjovrzoRkg.JPEG%2FIkrh-Zp1O8qZ6BYLqb_PS212vaqU.jpg&amp;type=f352_322\" width=\"176\"/></div> </div> <div class=\"user_thumb\"> <span class=\"user\"><img alt=\"\" class=\"img\" height=\"18\" src=\"https://search.pstatic.net/common/?src=http%3A%2F%2Fblogpfthumb.phinf.naver.net%2FMjAyMjA5MjFfMjY0%2FMDAxNjYzNzIzMDcxNDc3.c-7XkFB4tDaZHoXFeWeY6lkF_0JAg5RPW9k8SrWATE8g.b3jaHRIHffkYFAHIs1Y9LFpS9AQsmghGyEvbz6irzYAg.JPEG.ladytoyou%2FprofileImage.jpg&amp;type=f36_36\" width=\"18\"/></span> <span class=\"user\"><img alt=\"\" class=\"img\" height=\"18\" src=\"https://search.pstatic.net/common/?src=http%3A%2F%2Fblogpfthumb.phinf.naver.net%2FMjAyMTEyMDdfMjkz%2FMDAxNjM4ODYzMzQ3Mzk4.hdTQvax61AnSQQyelqD0bxr0-xNFCc6-xB01mDV81Iwg.Vyjgd8KQQHed5nRlW6OZR_HTN23DPRFz9gygfo4_9W8g.PNG.gjblue89%2FprofileImage.png&amp;type=f36_36\" width=\"18\"/></span> <span class=\"user\"><img alt=\"\" class=\"img\" height=\"18\" src=\"https://search.pstatic.net/common/?src=https%3A%2F%2Fpost-phinf.pstatic.net%2FMjAyMDA4MTRfMjI0%2FMDAxNTk3Mzk0OTA3ODM4.-eE2mFs--WPC3-zVMLdVcKLV18khOPnw7RSJx0aHEs4g.mjPIyLcFO9kYRft5WG1RIVW06ioi8_GdBukeFlwKTbUg.JPEG%2Fpost_1931653976761728397.jpg&amp;type=f36_36\" width=\"18\"/></span> </div> </div> <div class=\"dsc_area\"> <div class=\"dsc\">제주도 맛집</div> </div> </div> </a> </div>, <div class=\"flick_bx\"> <a class=\"popular_block_wrap type_bg4\" href=\"https://s.search.naver.com/p/intentblock/search.naver?ac=0&amp;aq=0&amp;bid=SYS-0000000001843536&amp;display=10&amp;nlu_query=%7B%22v%22%3A%223%22%2C%22intentblock%22%3A%221%22%2C%22qid%22%3A%22%EC%A0%9C%EC%A3%BC%EB%8F%84%EB%A7%9B%EC%A7%91%22%2C%22abt%22%3A%5B%7B%22eid%22%3A%22SBR1%22%2C%22value%22%3A%7B%22bucket%22%3A%22T4%22%2C%22is_control%22%3Afalse%7D%7D%5D%2C%22matchedAbt%22%3A%5B%7B%22eid%22%3A%22SBR1%22%2C%22value%22%3A%7B%22bucket%22%3A%22T4%22%2C%22is_control%22%3Afalse%7D%7D%5D%7D&amp;query=%EC%A0%9C%EC%A3%BC%EB%8F%84+%EB%A7%9B%EC%A7%91&amp;ssc=tab.itb.all&amp;start=1&amp;where=nx_bridge\" onclick=\"goOtherCR(this, 'a=itb_bas.block&amp;r=22&amp;i=SYS-0000000001843536&amp;g=%7B%22bid%22%3A%22SYS-0000000001843536%22%7D&amp;u='+urlencode(this.href));\"> <div class=\"user_wrap\"> <div class=\"thumb_area\"> <div class=\"thumb\"> <div class=\"inner\"><img alt=\"\" class=\"img\" height=\"161\" onerror=\"this.src='data:image/gif;base64,R0lGODlhAQABAIAAAAAAAP///yH5BAEAAAAALAAAAAABAAEAAAIBRAA7';this.className='img bg_nimg'\" src=\"https://search.pstatic.net/common/?src=http%3A%2F%2Fblogfiles.naver.net%2FMjAyMjA0MTJfODkg%2FMDAxNjQ5NzQ1OTUxNDg3.JfWnKpa0X8f9MVpZpgGhHuHkpNoVYD-vQN8ZdE9wtNUg.Hhcc_4mxXW5cFRw7sCfIDTnJ9S0SN9Ne2LeQC7DsQUkg.PNG.smartcoop%2F%25BB%25EA%25C8%25A3%25C0%25FC%25BA%25B9.PNG%23448x609&amp;type=f352_322\" width=\"176\"/></div> </div> <div class=\"user_thumb\"> <span class=\"user\"><img alt=\"\" class=\"img\" height=\"18\" src=\"https://search.pstatic.net/common/?src=https%3A%2F%2Fpost-phinf.pstatic.net%2FMjAxODA1MTZfMTgz%2FMDAxNTI2NDU5ODQ4MTEw.VW6XSPGNpJWXtLNqlfXFgYUv_O_YZGcjLP-0Jwn0KlYg.ouQC4A1G64btWQujsIb6_uX_nXKJHbJHDLlpzy-xsvMg.JPEG%2Fpost_3183495891360348816.jpg&amp;type=f36_36\" width=\"18\"/></span> <span class=\"user\"><img alt=\"\" class=\"img\" height=\"18\" src=\"https://search.pstatic.net/common/?src=http%3A%2F%2Fblogpfthumb.phinf.naver.net%2FMjAyMzA0MjdfMTI2%2FMDAxNjgyNTM0MzM5OTIz.Vb8LmG55dhb4vX6aBjjtVuq9PWgByfCkWz8ncYdp--0g.coE9egBrxkr-KSzOLT4zGk-FCKwl5EwuqYiu2iWHsz8g.PNG.sy91699%2FprofileImage.png&amp;type=f36_36\" width=\"18\"/></span> <span class=\"user\"><img alt=\"\" class=\"img\" height=\"18\" src=\"https://search.pstatic.net/common/?src=http%3A%2F%2Fblogpfthumb.phinf.naver.net%2FMjAyMjEwMTRfODEg%2FMDAxNjY1NzIwNjc4MTk3._TL-erqJoF_R6cQsHnEM9CGZ2sq0-e9w_JedLHGT6M4g.lKg5dFtpQsyV_HCsEQPO0sol2UUrJQvd1z09oQOPVN0g.JPEG.smartcoop%2Flogo_bk_1000.jpg%2Flogo_bk_1000.jpg&amp;type=f36_36\" width=\"18\"/></span> </div> </div> <div class=\"dsc_area\"> <div class=\"dsc\">제주도로컬맛집</div> </div> </div> </a> </div>, <div class=\"flick_bx\"> <a class=\"popular_block_wrap type_bg5\" href=\"https://s.search.naver.com/p/intentblock/search.naver?ac=0&amp;aq=0&amp;bid=SYS-0000000001843579&amp;display=10&amp;nlu_query=%7B%22v%22%3A%223%22%2C%22intentblock%22%3A%221%22%2C%22qid%22%3A%22%EC%A0%9C%EC%A3%BC%EB%8F%84%EB%A7%9B%EC%A7%91%22%2C%22abt%22%3A%5B%7B%22eid%22%3A%22SBR1%22%2C%22value%22%3A%7B%22bucket%22%3A%22T4%22%2C%22is_control%22%3Afalse%7D%7D%5D%2C%22matchedAbt%22%3A%5B%7B%22eid%22%3A%22SBR1%22%2C%22value%22%3A%7B%22bucket%22%3A%22T4%22%2C%22is_control%22%3Afalse%7D%7D%5D%7D&amp;query=%EC%A0%9C%EC%A3%BC%EB%8F%84+%EB%A7%9B%EC%A7%91&amp;ssc=tab.itb.all&amp;start=1&amp;where=nx_bridge\" onclick=\"goOtherCR(this, 'a=itb_bas.block&amp;r=23&amp;i=SYS-0000000001843579&amp;g=%7B%22bid%22%3A%22SYS-0000000001843579%22%7D&amp;u='+urlencode(this.href));\"> <div class=\"user_wrap\"> <div class=\"thumb_area\"> <div class=\"thumb\"> <div class=\"inner\"><img alt=\"\" class=\"img\" height=\"161\" onerror=\"this.src='data:image/gif;base64,R0lGODlhAQABAIAAAAAAAP///yH5BAEAAAAALAAAAAABAAEAAAIBRAA7';this.className='img bg_nimg'\" src=\"https://search.pstatic.net/common/?src=http%3A%2F%2Fblogfiles.naver.net%2FMjAyMzAyMTdfMTEg%2FMDAxNjc2NjE5NzA0Njc4.iDvAQ06cozGXcQv2s9nUhoQ1Z4ZuOO11SMl4ZThvhCwg.CH00mtus2a7qgp9b9XFZ6VWDtsrDL4sFpFn52MDtscIg.JPEG.meresi88%2FIMG_9638.jpg%23900x1200&amp;type=f352_322\" width=\"176\"/></div> </div> <div class=\"user_thumb\"> <span class=\"user\"><img alt=\"\" class=\"img\" height=\"18\" src=\"https://search.pstatic.net/common/?src=https%3A%2F%2Fblogpfthumb-phinf.pstatic.net%2F20141222_116%2Fbingohwan_1419216004973QeT36_GIF%2F%EA%B4%91%EA%B0%9C%ED%86%A0.gif&amp;type=f36_36\" width=\"18\"/></span> <span class=\"user\"><img alt=\"\" class=\"img\" height=\"18\" src=\"https://search.pstatic.net/common/?src=http%3A%2F%2Fblogpfthumb.phinf.naver.net%2FMjAyMTAyMTdfMjUw%2FMDAxNjEzNTAxNDY4Mzk2.0TNaralxBzcXsG0dMOTiINroQ3d-3Q5u8Gugmm0D5vIg.iXqBqCHBvR9oYfe_6BgzTWKZPrp0o9qTcvOcGZxKxBcg.JPEG.ybyb1107%2FKakaoTalk_20210217_022239738.jpg&amp;type=f36_36\" width=\"18\"/></span> <span class=\"user\"><img alt=\"\" class=\"img\" height=\"18\" src=\"https://search.pstatic.net/common/?src=http%3A%2F%2Fblogpfthumb.phinf.naver.net%2FMjAyMjA3MjVfMjE4%2FMDAxNjU4NzIzMDc5NjM2.aWDGz8HJiaNLi9pQOXyJQ_s6zn1cluIEJmv8RRejg34g.D78NKcOcyvcsPK2K8FKG7zOB4wXcns_KOujnKEl5puAg.PNG.meresi88%2FprofileImage.png&amp;type=f36_36\" width=\"18\"/></span> </div> </div> <div class=\"dsc_area\"> <div class=\"dsc\">제주도고기맛집</div> </div> </div> </a> </div>, <div class=\"flick_bx\"> <a class=\"popular_block_wrap type_bg6\" href=\"https://s.search.naver.com/p/intentblock/search.naver?ac=0&amp;aq=0&amp;bid=SYS-0000000000787082&amp;display=10&amp;nlu_query=%7B%22v%22%3A%223%22%2C%22intentblock%22%3A%221%22%2C%22qid%22%3A%22%EC%A0%9C%EC%A3%BC%EB%8F%84%EB%A7%9B%EC%A7%91%22%2C%22abt%22%3A%5B%7B%22eid%22%3A%22SBR1%22%2C%22value%22%3A%7B%22bucket%22%3A%22T4%22%2C%22is_control%22%3Afalse%7D%7D%5D%2C%22matchedAbt%22%3A%5B%7B%22eid%22%3A%22SBR1%22%2C%22value%22%3A%7B%22bucket%22%3A%22T4%22%2C%22is_control%22%3Afalse%7D%7D%5D%7D&amp;query=%EC%A0%9C%EC%A3%BC%EB%8F%84+%EB%A7%9B%EC%A7%91&amp;ssc=tab.itb.all&amp;start=1&amp;where=nx_bridge\" onclick=\"goOtherCR(this, 'a=itb_bas.block&amp;r=24&amp;i=SYS-0000000000787082&amp;g=%7B%22bid%22%3A%22SYS-0000000000787082%22%7D&amp;u='+urlencode(this.href));\"> <div class=\"user_wrap\"> <div class=\"thumb_area\"> <div class=\"thumb\"> <div class=\"inner\"><img alt=\"\" class=\"img\" height=\"161\" onerror=\"this.src='data:image/gif;base64,R0lGODlhAQABAIAAAAAAAP///yH5BAEAAAAALAAAAAABAAEAAAIBRAA7';this.className='img bg_nimg'\" src=\"https://search.pstatic.net/common/?src=http%3A%2F%2Fblogfiles.naver.net%2FMjAyMjA1MDFfMjkx%2FMDAxNjUxMzUyMTk1Nzc4.NQGaD-kpABqcwwBGCwxKake2e0vLOUDSCb-Boc93Jl8g.ZL0vb7O3EMVxIYngjDDbGWZKoPsNyK5OBjLt9uByrP0g.JPEG.bingohwan%2F%25BE%25C6%25BD%25C3%25C8%25BD%25C1%25FD-012.jpg%231024x768&amp;type=f352_322\" width=\"176\"/></div> </div> <div class=\"user_thumb\"> <span class=\"user\"><img alt=\"\" class=\"img\" height=\"18\" src=\"https://search.pstatic.net/common/?src=http%3A%2F%2Fblogpfthumb.phinf.naver.net%2FMjAyMjAzMTFfMjc0%2FMDAxNjQ2OTg1NTk5NjM5.SHOygc-uXBaO4kvtn55ULtrRksV0QFSzH0sWMZvO4Ywg.DGhjVVVsaBZWuZ5qQVU44Eh5JVCRfmlYYNI4Vi9TpD8g.JPEG.dldutls44%2FprofileImage.jpg&amp;type=f36_36\" width=\"18\"/></span> <span class=\"user\"><img alt=\"\" class=\"img\" height=\"18\" src=\"https://search.pstatic.net/common/?src=http%3A%2F%2Fblogpfthumb.phinf.naver.net%2FMjAyMjA4MTdfMjM5%2FMDAxNjYwNzQyMTAxNjAx.VasSpaQDeavBwuwYY5ls3yOHK0o1p1Hni5DK4zboqTwg.lFrhLAIeKkMArKNMcxCyivEmYRSl0-gnTjCnqqBWOlog.JPEG.dlawlrb123%2FprofileImage.jpg&amp;type=f36_36\" width=\"18\"/></span> <span class=\"user\"><img alt=\"\" class=\"img\" height=\"18\" src=\"https://search.pstatic.net/common/?src=http%3A%2F%2Fblogpfthumb.phinf.naver.net%2F20141222_116%2Fbingohwan_1419216004973QeT36_GIF%2F%25B1%25A4%25B0%25B3%25C5%25E4.gif&amp;type=f36_36\" width=\"18\"/></span> </div> </div> <div class=\"dsc_area\"> <div class=\"dsc\">제주도가성비맛집</div> </div> </div> </a> </div>, <div class=\"flick_bx\"> <a class=\"popular_block_wrap type_bg7\" href=\"https://s.search.naver.com/p/intentblock/search.naver?ac=0&amp;aq=0&amp;bid=SYS-0000000000787080&amp;display=10&amp;nlu_query=%7B%22v%22%3A%223%22%2C%22intentblock%22%3A%221%22%2C%22qid%22%3A%22%EC%A0%9C%EC%A3%BC%EB%8F%84%EB%A7%9B%EC%A7%91%22%2C%22abt%22%3A%5B%7B%22eid%22%3A%22SBR1%22%2C%22value%22%3A%7B%22bucket%22%3A%22T4%22%2C%22is_control%22%3Afalse%7D%7D%5D%2C%22matchedAbt%22%3A%5B%7B%22eid%22%3A%22SBR1%22%2C%22value%22%3A%7B%22bucket%22%3A%22T4%22%2C%22is_control%22%3Afalse%7D%7D%5D%7D&amp;query=%EC%A0%9C%EC%A3%BC%EB%8F%84+%EB%A7%9B%EC%A7%91&amp;ssc=tab.itb.all&amp;start=1&amp;where=nx_bridge\" onclick=\"goOtherCR(this, 'a=itb_bas.block&amp;r=25&amp;i=SYS-0000000000787080&amp;g=%7B%22bid%22%3A%22SYS-0000000000787080%22%7D&amp;u='+urlencode(this.href));\"> <div class=\"user_wrap\"> <div class=\"thumb_area\"> <div class=\"thumb\"> <div class=\"inner\"><img alt=\"\" class=\"img\" height=\"161\" onerror=\"this.src='data:image/gif;base64,R0lGODlhAQABAIAAAAAAAP///yH5BAEAAAAALAAAAAABAAEAAAIBRAA7';this.className='img bg_nimg'\" src=\"https://search.pstatic.net/common/?src=http%3A%2F%2Fblogfiles.naver.net%2FMjAyMjA0MjBfMTQ5%2FMDAxNjUwMzk4NjA0NDk3.dQ7Y0cZO7nAz64plgby8ruWv-cBcWmRqt8ZMMSl-Ttcg.XMrcETzN94AMKqV6EU0RAchvVhb7iyTj3g_DI-T_8Kog.JPEG.alswn0692%2F2019%25A3%25AD07%25A3%25AD02%25A3%25AD11%25A3%25AD55%25A3%25AD13.jpg%23900x900&amp;type=f352_322\" width=\"176\"/></div> </div> <div class=\"user_thumb\"> <span class=\"user\"><img alt=\"\" class=\"img\" height=\"18\" src=\"https://search.pstatic.net/common/?src=http%3A%2F%2Fblogpfthumb.phinf.naver.net%2FMjAyMjA0MDFfMTAz%2FMDAxNjQ4NzQxODM1MTYy.ApMXBHQqwD3K7Mbc1eWHmZqTPsa8O7-GdZT8Dcp9sDIg.YMst-xezTqubFZZsOEF76dOGTd28aOhMBwBhFHn2FN4g.JPEG.tlxmtlxm%2FprofileImage.jpg&amp;type=f36_36\" width=\"18\"/></span> <span class=\"user\"><img alt=\"\" class=\"img\" height=\"18\" src=\"https://search.pstatic.net/common/?src=https%3A%2F%2Fblogpfthumb-phinf.pstatic.net%2FMjAyMjAyMjRfMTMy%2FMDAxNjQ1NjkwMzc5ODkx.ETpJ4OkQSuiFSf4ACMZXl2eN-xiWVQL_1Wh22ougt1wg.s15et1od8BDf-otVE2gT-cB1s26RjfX1sg_rgoBaLgog.PNG.tjqtjqdl333%2F%25EB%25A8%25B9%25EC%258A%25A4%25ED%2583%2580%25ED%2582%25B9%25EC%25BD%25A9%25EC%2588%2598%25EC%25A0%259C%25EC%2595%2588%25EA%25B2%25BD.png%2F%25EB%25A8%25B9%25EC%258A%25A4%25ED%2583%2580%25ED%2582%25B9%25EC%25BD%25A9%25EC%2588%2598%25EC%25A0%259C%25EC%2595%2588%25EA%25B2%25BD.png&amp;type=f36_36\" width=\"18\"/></span> <span class=\"user\"><img alt=\"\" class=\"img\" height=\"18\" src=\"https://search.pstatic.net/common/?src=http%3A%2F%2Fblogpfthumb.phinf.naver.net%2FMjAyMzAxMDZfNTMg%2FMDAxNjcyOTMyOTI2MTAz.4780eDsTLNamcqDPBZg_kA0T9BstSKarQWVjTs8-WWsg.rFqm2PehBgBqpaIaIDzx9uncVFC_1BQoF-EFoVoXMV0g.PNG.alswn0692%2FprofileImage.png&amp;type=f36_36\" width=\"18\"/></span> </div> </div> <div class=\"dsc_area\"> <div class=\"dsc\">제주도 맛집 포장</div> </div> </div> </a> </div>, <div class=\"flick_bx\"> <a class=\"popular_block_wrap type_bg8\" href=\"https://s.search.naver.com/p/intentblock/search.naver?ac=0&amp;aq=0&amp;bid=SYS-0000000001843574&amp;display=10&amp;nlu_query=%7B%22v%22%3A%223%22%2C%22intentblock%22%3A%221%22%2C%22qid%22%3A%22%EC%A0%9C%EC%A3%BC%EB%8F%84%EB%A7%9B%EC%A7%91%22%2C%22abt%22%3A%5B%7B%22eid%22%3A%22SBR1%22%2C%22value%22%3A%7B%22bucket%22%3A%22T4%22%2C%22is_control%22%3Afalse%7D%7D%5D%2C%22matchedAbt%22%3A%5B%7B%22eid%22%3A%22SBR1%22%2C%22value%22%3A%7B%22bucket%22%3A%22T4%22%2C%22is_control%22%3Afalse%7D%7D%5D%7D&amp;query=%EC%A0%9C%EC%A3%BC%EB%8F%84+%EB%A7%9B%EC%A7%91&amp;ssc=tab.itb.all&amp;start=1&amp;where=nx_bridge\" onclick=\"goOtherCR(this, 'a=itb_bas.block&amp;r=26&amp;i=SYS-0000000001843574&amp;g=%7B%22bid%22%3A%22SYS-0000000001843574%22%7D&amp;u='+urlencode(this.href));\"> <div class=\"user_wrap\"> <div class=\"thumb_area\"> <div class=\"thumb\"> <div class=\"inner\"><img alt=\"\" class=\"img\" height=\"161\" onerror=\"this.src='data:image/gif;base64,R0lGODlhAQABAIAAAAAAAP///yH5BAEAAAAALAAAAAABAAEAAAIBRAA7';this.className='img bg_nimg'\" src=\"https://search.pstatic.net/common/?src=http%3A%2F%2Fpost.phinf.naver.net%2FMjAyMjA3MjlfMjEz%2FMDAxNjU5MDU0MDk0MjU4.dg3ghfYWNrDxHd3rLGEVHbFVnVXinUbPwijY4iJX1b8g.GevWQgmBovHUro-OlYm8AUpfcNiYMNeW47ECZAas2Cog.JPEG%2FI74lslaaFjwAvpeDoy1HqgvfQ3-Q.jpg&amp;type=f352_322\" width=\"176\"/></div> </div> <div class=\"user_thumb\"> <span class=\"user\"><img alt=\"\" class=\"img\" height=\"18\" src=\"https://search.pstatic.net/common/?src=http%3A%2F%2Fblogpfthumb.phinf.naver.net%2FMjAyMjAyMTRfMTMz%2FMDAxNjQ0NzY1NDg1MzAy.M19UWmPSemmxGGLypNKvm0OBVJLxN8ffBLkGbFWMJ7sg.VTusMX0wDr0PUYRA5bNkichy7JDseepKn8TmjsIF5Iog.PNG.wlswn8357%2FprofileImage.png&amp;type=f36_36\" width=\"18\"/></span> <span class=\"user\"><img alt=\"\" class=\"img\" height=\"18\" src=\"https://search.pstatic.net/common/?src=http%3A%2F%2Fblogpfthumb.phinf.naver.net%2FMjAyMzAyMjJfNCAg%2FMDAxNjc3MDM5NzQ5MDA4.dzJmtxfapqlq2EIBPE0H474a9QYld5GSeCFswKwpKrMg.U7d027DbO6V1s7YsT1Qz_BgIVQCVlM9F3hifRhnyLGUg.JPEG.thearly%2FKakaoTalk_20230222_122301921.jpg%2FKakaoTalk_20230222_122301921.jpg&amp;type=f36_36\" width=\"18\"/></span> <span class=\"user\"><img alt=\"\" class=\"img\" height=\"18\" src=\"https://search.pstatic.net/common/?src=https%3A%2F%2Fpost-phinf.pstatic.net%2FMjAxODA4MjhfMjE4%2FMDAxNTM1NDE2NjcxNDQ3.SypfeIlpdwRcRGhqOc3CLrOYsmeekSWhrrNmZCqZO0Qg.yxGUXVA19J2dFVmLmkiO4A6f4pXq81GPFXAigfmPj3Yg.JPEG%2Fpost_3318726526359058131.jpg&amp;type=f36_36\" width=\"18\"/></span> </div> </div> <div class=\"dsc_area\"> <div class=\"dsc\">제주도흑돼지맛집</div> </div> </div> </a> </div>, <div class=\"flick_bx\"> <a class=\"popular_block_wrap type_bg9\" href=\"https://s.search.naver.com/p/intentblock/search.naver?ac=0&amp;aq=0&amp;bid=SYS-0000000005015276&amp;display=10&amp;nlu_query=%7B%22v%22%3A%223%22%2C%22intentblock%22%3A%221%22%2C%22qid%22%3A%22%EC%A0%9C%EC%A3%BC%EB%8F%84%EB%A7%9B%EC%A7%91%22%2C%22abt%22%3A%5B%7B%22eid%22%3A%22SBR1%22%2C%22value%22%3A%7B%22bucket%22%3A%22T4%22%2C%22is_control%22%3Afalse%7D%7D%5D%2C%22matchedAbt%22%3A%5B%7B%22eid%22%3A%22SBR1%22%2C%22value%22%3A%7B%22bucket%22%3A%22T4%22%2C%22is_control%22%3Afalse%7D%7D%5D%7D&amp;query=%EC%A0%9C%EC%A3%BC%EB%8F%84+%EB%A7%9B%EC%A7%91&amp;ssc=tab.itb.all&amp;start=1&amp;where=nx_bridge\" onclick=\"goOtherCR(this, 'a=itb_bas.block&amp;r=27&amp;i=SYS-0000000005015276&amp;g=%7B%22bid%22%3A%22SYS-0000000005015276%22%7D&amp;u='+urlencode(this.href));\"> <div class=\"user_wrap\"> <div class=\"thumb_area\"> <div class=\"thumb\"> <div class=\"inner\"><img alt=\"\" class=\"img\" height=\"161\" onerror=\"this.src='data:image/gif;base64,R0lGODlhAQABAIAAAAAAAP///yH5BAEAAAAALAAAAAABAAEAAAIBRAA7';this.className='img bg_nimg'\" src=\"https://search.pstatic.net/common/?src=http%3A%2F%2Fblogfiles.naver.net%2FMjAyMzA0MDdfMjQy%2FMDAxNjgwODQ0NTA0NjU4.icC5dMmKHSnM5aeBt5fwvcYQrtbefOC3Npe07zoMlUMg.zXSKTXu9bz9R5L6WMyDGgbRTZFSXN5ouhNgbJu_6O3Ag.JPEG.gkdka6887%2F%25BB%25F5_%25C7%25C1%25B7%25CE%25C1%25A7%25C6%25AE_%252824%2529.jpg%23800x531&amp;type=f352_322\" width=\"176\"/></div> </div> <div class=\"user_thumb\"> <span class=\"user\"><img alt=\"\" class=\"img\" height=\"18\" src=\"https://search.pstatic.net/common/?src=http%3A%2F%2Fblogpfthumb.phinf.naver.net%2FMjAyMjEwMDdfMjUz%2FMDAxNjY1MTA4MzcxNzI2.RALH3O9sjD2JpBu2pSrJ3dVGEAigYNUmrbyouNAFN8Qg.Ca05pPnJOa6YmpL6EsEIB1t_TnFbCz78J8tmp1Zfwbog.PNG.cocosldk%2FprofileImage.png&amp;type=f36_36\" width=\"18\"/></span> <span class=\"user\"><img alt=\"\" class=\"img\" height=\"18\" src=\"https://search.pstatic.net/common/?src=http%3A%2F%2Fblogpfthumb.phinf.naver.net%2FMjAyMzAxMTJfMjkx%2FMDAxNjczNTI0MDk5NjE3.0nVWjTXK29jPggE0W7YUTV6vAbT3Yq2WMgdEG-L2Z2cg.w57Co60TdvK41egzQicPvUpZfXCF7z5KP-Wnr-RkYqMg.JPEG.zzzzjyy%2FprofileImage.jpg&amp;type=f36_36\" width=\"18\"/></span> <span class=\"user\"><img alt=\"\" class=\"img\" height=\"18\" src=\"https://search.pstatic.net/common/?src=http%3A%2F%2Fblogpfthumb.phinf.naver.net%2FMjAyMjEwMjhfMjU0%2FMDAxNjY2OTU5NDEyMTQ5.v-DsGue5QaUD8w3_iohXRVskwhWkXDAUbU2lGMz-XWYg.XA4azF7ZHCclCpFKSZqefOyCzGbVCT1Ctw_tpSJ2q7og.PNG.gkdka6887%2FprofileImage.png&amp;type=f36_36\" width=\"18\"/></span> </div> </div> <div class=\"dsc_area\"> <div class=\"dsc\">제주도함덕맛집</div> </div> </div> </a> </div>, <div class=\"flick_bx\"> <a class=\"popular_block_wrap type_bg1\" href=\"https://s.search.naver.com/p/intentblock/search.naver?ac=0&amp;aq=0&amp;bid=SYS-0000000025161722&amp;display=10&amp;nlu_query=%7B%22v%22%3A%223%22%2C%22intentblock%22%3A%221%22%2C%22qid%22%3A%22%EC%A0%9C%EC%A3%BC%EB%8F%84%EB%A7%9B%EC%A7%91%22%2C%22abt%22%3A%5B%7B%22eid%22%3A%22SBR1%22%2C%22value%22%3A%7B%22bucket%22%3A%22T4%22%2C%22is_control%22%3Afalse%7D%7D%5D%2C%22matchedAbt%22%3A%5B%7B%22eid%22%3A%22SBR1%22%2C%22value%22%3A%7B%22bucket%22%3A%22T4%22%2C%22is_control%22%3Afalse%7D%7D%5D%7D&amp;query=%EC%A0%9C%EC%A3%BC%EB%8F%84+%EB%A7%9B%EC%A7%91&amp;ssc=tab.itb.all&amp;start=1&amp;where=nx_bridge\" onclick=\"goOtherCR(this, 'a=itb_bas.block&amp;r=28&amp;i=SYS-0000000025161722&amp;g=%7B%22bid%22%3A%22SYS-0000000025161722%22%7D&amp;u='+urlencode(this.href));\"> <div class=\"user_wrap\"> <div class=\"thumb_area\"> <div class=\"thumb\"> <div class=\"inner\"><img alt=\"\" class=\"img\" height=\"161\" onerror=\"this.src='data:image/gif;base64,R0lGODlhAQABAIAAAAAAAP///yH5BAEAAAAALAAAAAABAAEAAAIBRAA7';this.className='img bg_nimg'\" src=\"https://search.pstatic.net/common/?src=http%3A%2F%2Fblogfiles.naver.net%2FMjAyMTA5MTNfMjk2%2FMDAxNjMxNDg4OTE2NjQ3.6EgXK68nTre9C93dy_7At6SpkL5Fy7Z2XMvfXXgXBNsg.NMxyF9ya4alJokBN1ll3jD3kdYE0SIjLtnuPOfsN1Dgg.JPEG.dhod8104%2FP20210829_120728530_C77178D0-537E-401E-A3D4-D0DCCBF4101C.jpg%233024x4032&amp;type=f352_322\" width=\"176\"/></div> </div> <div class=\"user_thumb\"> <span class=\"user\"><img alt=\"\" class=\"img\" height=\"18\" src=\"https://search.pstatic.net/common/?src=http%3A%2F%2Fblogpfthumb.phinf.naver.net%2FMjAyMjA1MjdfMTUw%2FMDAxNjUzNjIyMjA5OTEw.5nh_Q-2ME1hZm2C0q4jzCMAWqgmAGns2NxllUqZRhuYg.8OWfAUG1tObqVdjuWbYDNDg7tPXd-QWlxc7ui5X2hSMg.JPEG.bumtanggarden%2F%2525EB%2525B8%252594%2525EB%2525A1%25259C%2525EA%2525B7%2525B8%2525ED%252594%252584%2525EB%2525A1%25259C%2525ED%252595%252584_%2525EB%25258C%252580%2525EC%2525A7%252580_1.jpg%2F%2525EB%2525B8%252594%2525EB%2525A1%25259C%2525EA%2525B7%2525B8%2525ED%252594%252584%2525EB%2525A1%25259C%2525ED%252595%252584_%2525EB%25258C%252580%2525EC%2525A7%252580%252B1.jpg&amp;type=f36_36\" width=\"18\"/></span> <span class=\"user\"><img alt=\"\" class=\"img\" height=\"18\" src=\"https://search.pstatic.net/common/?src=https%3A%2F%2Fpost-phinf.pstatic.net%2FMjAxODExMDhfMTM4%2FMDAxNTQxNjYzNDgxNDM2.k6fMcQYimrYTPikAigW-6cUWKsVfE6y85h6899O867cg.XTDXljw7PURu_bJJmLr3WnEv6XoS_RqpTNAH52UsV0sg.JPEG%2Fpost_4992179389708891698.jpeg&amp;type=f36_36\" width=\"18\"/></span> <span class=\"user\"><img alt=\"\" class=\"img\" height=\"18\" src=\"https://search.pstatic.net/common/?src=http%3A%2F%2Fblogpfthumb.phinf.naver.net%2FMjAyMTA2MDJfNjkg%2FMDAxNjIyNjA4Njc0NDky.txcCxcKJsIac6DhkxzJ06VjHIhWMmTUsurUXi862-44g.ChOjdXcucBvcjUGnxtvSjTdGCoKZk7ToFLjkaEXokVQg.PNG.dhod8104%2FprofileImage.png&amp;type=f36_36\" width=\"18\"/></span> </div> </div> <div class=\"dsc_area\"> <div class=\"dsc\">제주도서귀포맛집</div> </div> </div> </a> </div>, <div class=\"flick_bx\"> <a class=\"popular_block_wrap type_bg2\" href=\"https://s.search.naver.com/p/intentblock/search.naver?ac=0&amp;aq=0&amp;bid=SYS-0000000025161725&amp;display=10&amp;nlu_query=%7B%22v%22%3A%223%22%2C%22intentblock%22%3A%221%22%2C%22qid%22%3A%22%EC%A0%9C%EC%A3%BC%EB%8F%84%EB%A7%9B%EC%A7%91%22%2C%22abt%22%3A%5B%7B%22eid%22%3A%22SBR1%22%2C%22value%22%3A%7B%22bucket%22%3A%22T4%22%2C%22is_control%22%3Afalse%7D%7D%5D%2C%22matchedAbt%22%3A%5B%7B%22eid%22%3A%22SBR1%22%2C%22value%22%3A%7B%22bucket%22%3A%22T4%22%2C%22is_control%22%3Afalse%7D%7D%5D%7D&amp;query=%EC%A0%9C%EC%A3%BC%EB%8F%84+%EB%A7%9B%EC%A7%91&amp;ssc=tab.itb.all&amp;start=1&amp;where=nx_bridge\" onclick=\"goOtherCR(this, 'a=itb_bas.block&amp;r=29&amp;i=SYS-0000000025161725&amp;g=%7B%22bid%22%3A%22SYS-0000000025161725%22%7D&amp;u='+urlencode(this.href));\"> <div class=\"user_wrap\"> <div class=\"thumb_area\"> <div class=\"thumb\"> <div class=\"inner\"><img alt=\"\" class=\"img\" height=\"161\" onerror=\"this.src='data:image/gif;base64,R0lGODlhAQABAIAAAAAAAP///yH5BAEAAAAALAAAAAABAAEAAAIBRAA7';this.className='img bg_nimg'\" src=\"https://search.pstatic.net/common/?src=http%3A%2F%2Fpost.phinf.naver.net%2FMjAyMDA3MjlfMjg2%2FMDAxNTk1OTg2NTA5OTc3.7utnWA4p22PuutpFxQojH_n6BZJVB9qPfhVbmBzlswwg.zkIkND2S715fIJENXQUx6HHx7oSuL9ZU6j-lDdvMQQ0g.JPEG%2FIAegImNUVFSEjkIacyLw3BAfPHEU.jpg&amp;type=f352_322\" width=\"176\"/></div> </div> <div class=\"user_thumb\"> <span class=\"user\"><img alt=\"\" class=\"img\" height=\"18\" src=\"https://search.pstatic.net/common/?src=http%3A%2F%2Fblogpfthumb.phinf.naver.net%2FMjAyMTEyMTdfMTk3%2FMDAxNjM5Njc2ODk4NDAw.wZx1By2TF2qDx0AmtqWh83XpTFXeIxwDP3pBMpqtgm0g.MohqRtNmuhVwJnl1rFJr73vqbTebVBGb4evv2NjuVB8g.PNG.pink4365%2FprofileImage.png&amp;type=f36_36\" width=\"18\"/></span> <span class=\"user\"><img alt=\"\" class=\"img\" height=\"18\" src=\"https://search.pstatic.net/common/?src=https%3A%2F%2Finfluencer-phinf.pstatic.net%2FMjAyMDEyMTdfMTk2%2FMDAxNjA4MTk1NjU4ODE2.sHP7t39beS0m6oZ7RTfc0hYNeSXRvX9TkxUk8jNHalEg.1tgvaHCTsptoghTSJHLV_4Ov4q6abGtIYyhMyfFecuAg.JPEG%2F20200928_115806_078.jpg&amp;type=f36_36\" width=\"18\"/></span> <span class=\"user\"><img alt=\"\" class=\"img\" height=\"18\" src=\"https://search.pstatic.net/common/?src=https%3A%2F%2Fpost-phinf.pstatic.net%2FMjAxODA4MjhfMjE4%2FMDAxNTM1NDE2NjcxNDQ3.SypfeIlpdwRcRGhqOc3CLrOYsmeekSWhrrNmZCqZO0Qg.yxGUXVA19J2dFVmLmkiO4A6f4pXq81GPFXAigfmPj3Yg.JPEG%2Fpost_3318726526359058131.jpg&amp;type=f36_36\" width=\"18\"/></span> </div> </div> <div class=\"dsc_area\"> <div class=\"dsc\">제주도갈치맛집</div> </div> </div> </a> </div>, <div class=\"flick_bx\"> <a class=\"popular_block_wrap type_bg3\" href=\"https://s.search.naver.com/p/intentblock/search.naver?ac=0&amp;aq=0&amp;bid=SYS-0000000000787077&amp;display=10&amp;nlu_query=%7B%22v%22%3A%223%22%2C%22intentblock%22%3A%221%22%2C%22qid%22%3A%22%EC%A0%9C%EC%A3%BC%EB%8F%84%EB%A7%9B%EC%A7%91%22%2C%22abt%22%3A%5B%7B%22eid%22%3A%22SBR1%22%2C%22value%22%3A%7B%22bucket%22%3A%22T4%22%2C%22is_control%22%3Afalse%7D%7D%5D%2C%22matchedAbt%22%3A%5B%7B%22eid%22%3A%22SBR1%22%2C%22value%22%3A%7B%22bucket%22%3A%22T4%22%2C%22is_control%22%3Afalse%7D%7D%5D%7D&amp;query=%EC%A0%9C%EC%A3%BC%EB%8F%84+%EB%A7%9B%EC%A7%91&amp;ssc=tab.itb.all&amp;start=1&amp;where=nx_bridge\" onclick=\"goOtherCR(this, 'a=itb_bas.block&amp;r=30&amp;i=SYS-0000000000787077&amp;g=%7B%22bid%22%3A%22SYS-0000000000787077%22%7D&amp;u='+urlencode(this.href));\"> <div class=\"user_wrap\"> <div class=\"thumb_area\"> <div class=\"thumb\"> <div class=\"inner\"><img alt=\"\" class=\"img\" height=\"161\" onerror=\"this.src='data:image/gif;base64,R0lGODlhAQABAIAAAAAAAP///yH5BAEAAAAALAAAAAABAAEAAAIBRAA7';this.className='img bg_nimg'\" src=\"https://search.pstatic.net/common/?src=http%3A%2F%2Fblogfiles.naver.net%2FMjAyMjEyMjNfMTI5%2FMDAxNjcxNzkxMDU0MDkz.0vG6_kI5YJqvVmpHhwpzWDJq7kIMs31_tC6psjJMLnIg.TGgiE50lYeNHUX8MyQTo8ocnZHTPDNfi4ExSbZMgCkYg.JPEG.wwxx1114%2FIMG_0174.jpg%232801x3734&amp;type=f352_322\" width=\"176\"/></div> </div> <div class=\"user_thumb\"> <span class=\"user\"><img alt=\"\" class=\"img\" height=\"18\" src=\"https://search.pstatic.net/common/?src=http%3A%2F%2Fblogpfthumb.phinf.naver.net%2FMjAyMjAxMjlfMTE4%2FMDAxNjQzNDM4MzQ4MTAz.Yi8ngKPNgSvqZWHOGpPFPxUTYAgeckqrXGe5JUYguS4g.69ykkCueE7tydIccEzR98MPyZuIaPV2SMY2i4j6kQX0g.PNG.rannyco73%2FprofileImage.png&amp;type=f36_36\" width=\"18\"/></span> <span class=\"user\"><img alt=\"\" class=\"img\" height=\"18\" src=\"https://search.pstatic.net/common/?src=http%3A%2F%2Fblogpfthumb.phinf.naver.net%2F20141022_67%2Fjully7537_14139373419583Nh38_PNG%2F%25C1%25A6%25C1%25D6%25BF%25B1%25BC%25AD.png&amp;type=f36_36\" width=\"18\"/></span> <span class=\"user\"><img alt=\"\" class=\"img\" height=\"18\" src=\"https://search.pstatic.net/common/?src=http%3A%2F%2Fblogpfthumb.phinf.naver.net%2FMjAyMzAyMTZfNTcg%2FMDAxNjc2NTE2OTY2NzE1.apMF-AQsdytRCoAQjF3hdN3tz3U1aXngtSHBkqP6k80g.migm2vvFR4rcKESMzoZP8I8xfmngR_tse4xDPFrWyckg.PNG.wwxx1114%2FprofileImage.png&amp;type=f36_36\" width=\"18\"/></span> </div> </div> <div class=\"dsc_area\"> <div class=\"dsc\">제주도 맛집 내돈내산</div> </div> </div> </a> </div>, <div class=\"flick_bx\"> <a class=\"popular_block_wrap type_bg4\" href=\"https://s.search.naver.com/p/intentblock/search.naver?ac=0&amp;aq=0&amp;bid=SYS-0000000005015263&amp;display=10&amp;nlu_query=%7B%22v%22%3A%223%22%2C%22intentblock%22%3A%221%22%2C%22qid%22%3A%22%EC%A0%9C%EC%A3%BC%EB%8F%84%EB%A7%9B%EC%A7%91%22%2C%22abt%22%3A%5B%7B%22eid%22%3A%22SBR1%22%2C%22value%22%3A%7B%22bucket%22%3A%22T4%22%2C%22is_control%22%3Afalse%7D%7D%5D%2C%22matchedAbt%22%3A%5B%7B%22eid%22%3A%22SBR1%22%2C%22value%22%3A%7B%22bucket%22%3A%22T4%22%2C%22is_control%22%3Afalse%7D%7D%5D%7D&amp;query=%EC%A0%9C%EC%A3%BC%EB%8F%84+%EB%A7%9B%EC%A7%91&amp;ssc=tab.itb.all&amp;start=1&amp;where=nx_bridge\" onclick=\"goOtherCR(this, 'a=itb_bas.block&amp;r=31&amp;i=SYS-0000000005015263&amp;g=%7B%22bid%22%3A%22SYS-0000000005015263%22%7D&amp;u='+urlencode(this.href));\"> <div class=\"user_wrap\"> <div class=\"thumb_area\"> <div class=\"thumb\"> <div class=\"inner\"><img alt=\"\" class=\"img\" height=\"161\" onerror=\"this.src='data:image/gif;base64,R0lGODlhAQABAIAAAAAAAP///yH5BAEAAAAALAAAAAABAAEAAAIBRAA7';this.className='img bg_nimg'\" src=\"https://search.pstatic.net/common/?src=http%3A%2F%2Fblogfiles.naver.net%2FMjAyMTEyMjhfMjgy%2FMDAxNjQwNjk4NjgwNTM5.bmjsmOrfF00zMZVXQWA7mSgmAgSkBFL_GoBMnzUh00Qg.BuizxnY_guCSgdb4P0ei4Ie0Qs-TCnQfIr50poTFibUg.JPEG.jsujung1127%2FIMG_9369.jpg%23900x674&amp;type=f352_322\" width=\"176\"/></div> </div> <div class=\"user_thumb\"> <span class=\"user\"><img alt=\"\" class=\"img\" height=\"18\" src=\"https://search.pstatic.net/common/?src=http%3A%2F%2Fblogpfthumb.phinf.naver.net%2FMjAyMjExMDNfMTkg%2FMDAxNjY3NDY0NDU4NzE4.ngPSwugGrAcxYjlqIHjrv_DM_t4GG077fqMx2uzlCTMg.cvnAjflYE-u9HSRgPyP9R34GzF_hrPRPZHpsK2ly2sYg.PNG.mwej0807%2FprofileImage.png&amp;type=f36_36\" width=\"18\"/></span> <span class=\"user\"><img alt=\"\" class=\"img\" height=\"18\" src=\"https://search.pstatic.net/common/?src=http%3A%2F%2Fblogpfthumb.phinf.naver.net%2FMjAyMzAxMjNfNTAg%2FMDAxNjc0NDcwNTI0MTk0.02fsR29Lzqb0ULwQwn0CF4R-hNUE2UsUm8MKZOGBQccg.mOMzXGZkiGqFY5QMeppgbX_4EFsuvWng7XCZ5_y1Cjgg.JPEG.s2_72503%2FSE-4a8ffee8-4ce2-47af-b18c-b78ad0be61db.jpg%2FSE-4a8ffee8-4ce2-47af-b18c-b78ad0be61db.jpg&amp;type=f36_36\" width=\"18\"/></span> <span class=\"user\"><img alt=\"\" class=\"img\" height=\"18\" src=\"https://search.pstatic.net/common/?src=http%3A%2F%2Fblogpfthumb.phinf.naver.net%2FMjAyMTA4MDJfMjI5%2FMDAxNjI3ODcwNzg1Mzk0.OHFcziqP14ViQbJAFbXdmZX-4yc42nO6_QHz_41xevMg.jRDkurSBfQbVjDNkwvCocxwNfbjjTeoSq4HgAcvntZUg.JPEG.jsujung1127%2FKakaoTalk_20210802_111739040.jpg&amp;type=f36_36\" width=\"18\"/></span> </div> </div> <div class=\"dsc_area\"> <div class=\"dsc\">제주도뷰맛집</div> </div> </div> </a> </div>, <div class=\"flick_bx\"> <a class=\"popular_block_wrap type_bg5\" href=\"https://s.search.naver.com/p/intentblock/search.naver?ac=0&amp;aq=0&amp;bid=SYS-0000000025161723&amp;display=10&amp;nlu_query=%7B%22v%22%3A%223%22%2C%22intentblock%22%3A%221%22%2C%22qid%22%3A%22%EC%A0%9C%EC%A3%BC%EB%8F%84%EB%A7%9B%EC%A7%91%22%2C%22abt%22%3A%5B%7B%22eid%22%3A%22SBR1%22%2C%22value%22%3A%7B%22bucket%22%3A%22T4%22%2C%22is_control%22%3Afalse%7D%7D%5D%2C%22matchedAbt%22%3A%5B%7B%22eid%22%3A%22SBR1%22%2C%22value%22%3A%7B%22bucket%22%3A%22T4%22%2C%22is_control%22%3Afalse%7D%7D%5D%7D&amp;query=%EC%A0%9C%EC%A3%BC%EB%8F%84+%EB%A7%9B%EC%A7%91&amp;ssc=tab.itb.all&amp;start=1&amp;where=nx_bridge\" onclick=\"goOtherCR(this, 'a=itb_bas.block&amp;r=32&amp;i=SYS-0000000025161723&amp;g=%7B%22bid%22%3A%22SYS-0000000025161723%22%7D&amp;u='+urlencode(this.href));\"> <div class=\"user_wrap\"> <div class=\"thumb_area\"> <div class=\"thumb\"> <div class=\"inner\"><img alt=\"\" class=\"img\" height=\"161\" onerror=\"this.src='data:image/gif;base64,R0lGODlhAQABAIAAAAAAAP///yH5BAEAAAAALAAAAAABAAEAAAIBRAA7';this.className='img bg_nimg'\" src=\"https://search.pstatic.net/common/?src=http%3A%2F%2Fblogfiles.naver.net%2FMjAyMDEwMDhfMjIx%2FMDAxNjAyMTUzMzM2MTIz.qXEUN2Fe6T5YWn8kkaIqfUdikKpjyBMWmwmMicgP_Nog.1VTjL7Pp1h_SMMdo7GBqaiBGN5l8nnnwJMzONkyqfoQg.PNG.bgy26%2Fjeju_bgy26_%25286%2529.png%232000x1355&amp;type=f352_322\" width=\"176\"/></div> </div> <div class=\"user_thumb\"> <span class=\"user\"><img alt=\"\" class=\"img\" height=\"18\" src=\"https://search.pstatic.net/common/?src=http%3A%2F%2Fblogpfthumb.phinf.naver.net%2FMjAyMDAxMTdfMTk4%2FMDAxNTc5MjU4OTg1Nzkz.N1jgUrXJJw-QXmLscrdge8Zef932_96-1DoRrazMTiwg.wR4JuhAT8hjuPgx__8i7OqjhYnQY8I0U1oO-GV1wTf0g.JPEG.uknow486486%2F00.jpg&amp;type=f36_36\" width=\"18\"/></span> <span class=\"user\"><img alt=\"\" class=\"img\" height=\"18\" src=\"https://search.pstatic.net/common/?src=http%3A%2F%2Fblogpfthumb.phinf.naver.net%2FMjAyMDA5MDFfMjE2%2FMDAxNTk4OTQyNzQ3Mzc0.UObPGbz83HN4ZpHPhSG6mSuj5k3clX9_5loJFAClGHIg.D6CuwEnrAa7le6VPw5CS9igeWEhdJkIerBPQL90zHSQg.JPEG.okskzzz9690%2F%2525EB%2525AF%2525B8%2525EB%25258B%252588%2525EB%2525A9%252580%2525EB%2525A6%2525AC%2525EB%252582%252598%2525ED%252594%252584%2525EB%2525A1%25259C%2525ED%252595%252584.jpg&amp;type=f36_36\" width=\"18\"/></span> <span class=\"user\"><img alt=\"\" class=\"img\" height=\"18\" src=\"https://search.pstatic.net/common/?src=http%3A%2F%2Fblogpfthumb.phinf.naver.net%2FMjAxODA5MThfMTAx%2FMDAxNTM3MjY3MjYyNTE0.QDLe42U5XWor6OLD6QGMFsoN991bIe__ok1GtBa18Rwg.eNvE6yrFWEsC0BQEYC4VFJH6zuJPpEW57DeUnqz5-F0g.JPEG.bgy26%2FprofileImage.jpg&amp;type=f36_36\" width=\"18\"/></span> </div> </div> <div class=\"dsc_area\"> <div class=\"dsc\">제주도중문맛집</div> </div> </div> </a> </div>, <div class=\"flick_bx\"> <a class=\"popular_block_wrap type_bg6\" href=\"https://s.search.naver.com/p/intentblock/search.naver?ac=0&amp;aq=0&amp;bid=SYS-0000000001843566&amp;display=10&amp;nlu_query=%7B%22v%22%3A%223%22%2C%22intentblock%22%3A%221%22%2C%22qid%22%3A%22%EC%A0%9C%EC%A3%BC%EB%8F%84%EB%A7%9B%EC%A7%91%22%2C%22abt%22%3A%5B%7B%22eid%22%3A%22SBR1%22%2C%22value%22%3A%7B%22bucket%22%3A%22T4%22%2C%22is_control%22%3Afalse%7D%7D%5D%2C%22matchedAbt%22%3A%5B%7B%22eid%22%3A%22SBR1%22%2C%22value%22%3A%7B%22bucket%22%3A%22T4%22%2C%22is_control%22%3Afalse%7D%7D%5D%7D&amp;query=%EC%A0%9C%EC%A3%BC%EB%8F%84+%EB%A7%9B%EC%A7%91&amp;ssc=tab.itb.all&amp;start=1&amp;where=nx_bridge\" onclick=\"goOtherCR(this, 'a=itb_bas.block&amp;r=33&amp;i=SYS-0000000001843566&amp;g=%7B%22bid%22%3A%22SYS-0000000001843566%22%7D&amp;u='+urlencode(this.href));\"> <div class=\"user_wrap\"> <div class=\"thumb_area\"> <div class=\"thumb\"> <div class=\"inner\"><img alt=\"\" class=\"img\" height=\"161\" onerror=\"this.src='data:image/gif;base64,R0lGODlhAQABAIAAAAAAAP///yH5BAEAAAAALAAAAAABAAEAAAIBRAA7';this.className='img bg_nimg'\" src=\"https://search.pstatic.net/common/?src=http%3A%2F%2Fblogfiles.naver.net%2FMjAyMTA5MTRfMjE2%2FMDAxNjMxNTc3MDQ1OTA0.jZQ4xxWxMdgc3ZhCiK5DMvHWkAWfxZ3WzFocURFwuSQg.JdETbzXBVUuXFa2jYZRV4ZjwKBGAK7Zx1IqR2sB-Njgg.JPEG.kskim9564%2FIMG_9621.jpg%23900x1200&amp;type=f352_322\" width=\"176\"/></div> </div> <div class=\"user_thumb\"> <span class=\"user\"><img alt=\"\" class=\"img\" height=\"18\" src=\"https://search.pstatic.net/common/?src=http%3A%2F%2Fblogpfthumb.phinf.naver.net%2FMjAyMjExMDdfMTIz%2FMDAxNjY3ODIwOTk2NzQ0._jIiCiM13kkZrfNhKZVHVPv__7FHJcFg5ALStXwbOgAg.R6R0RGaDdatQhfuwTkBHLMKN9wfAWGZmezsC056_su4g.JPEG.yygraphikos%2FprofileImage.jpg&amp;type=f36_36\" width=\"18\"/></span> <span class=\"user\"><img alt=\"\" class=\"img\" height=\"18\" src=\"https://search.pstatic.net/common/?src=https%3A%2F%2Finfluencer-phinf.pstatic.net%2FMjAyMDA5MDhfNTcg%2FMDAxNTk5NTQyNjI3MTI5.8lIY1fQggo36afFe3ffmjlI292_UzMoY0LZfYLm53zEg.U10Uzl3THoCZPj2YpoBWkTo_GW-oFTht6DZZN_8fsegg.JPEG%2FF47B00B5-0460-4824-B3A2-1BA872A44048.jpeg&amp;type=f36_36\" width=\"18\"/></span> <span class=\"user\"><img alt=\"\" class=\"img\" height=\"18\" src=\"https://search.pstatic.net/common/?src=http%3A%2F%2Fblogpfthumb.phinf.naver.net%2FMjAxOTA2MDNfMjA2%2FMDAxNTU5NTQ3MDY2Njcw.hvPhFGgCoODyi1vUK3wH4R4OGfxs-B-thFcVhx2xBEog.vezetX_BFS_3cfzdJGzd7tFQm7G29k-5XYq9tfbJxD0g.PNG.kskim9564%2FprofileImage.png&amp;type=f36_36\" width=\"18\"/></span> </div> </div> <div class=\"dsc_area\"> <div class=\"dsc\">제주도전복맛집</div> </div> </div> </a> </div>, <div class=\"flick_bx\"> <a class=\"popular_block_wrap type_bg7\" href=\"https://s.search.naver.com/p/intentblock/search.naver?ac=0&amp;aq=0&amp;bid=SYS-0000000000761010&amp;display=10&amp;nlu_query=%7B%22v%22%3A%223%22%2C%22intentblock%22%3A%221%22%2C%22qid%22%3A%22%EC%A0%9C%EC%A3%BC%EB%8F%84%EB%A7%9B%EC%A7%91%22%2C%22abt%22%3A%5B%7B%22eid%22%3A%22SBR1%22%2C%22value%22%3A%7B%22bucket%22%3A%22T4%22%2C%22is_control%22%3Afalse%7D%7D%5D%2C%22matchedAbt%22%3A%5B%7B%22eid%22%3A%22SBR1%22%2C%22value%22%3A%7B%22bucket%22%3A%22T4%22%2C%22is_control%22%3Afalse%7D%7D%5D%7D&amp;query=%EC%A0%9C%EC%A3%BC%EB%8F%84+%EB%A7%9B%EC%A7%91&amp;ssc=tab.itb.all&amp;start=1&amp;where=nx_bridge\" onclick=\"goOtherCR(this, 'a=itb_bas.block&amp;r=34&amp;i=SYS-0000000000761010&amp;g=%7B%22bid%22%3A%22SYS-0000000000761010%22%7D&amp;u='+urlencode(this.href));\"> <div class=\"user_wrap\"> <div class=\"thumb_area\"> <div class=\"thumb\"> <div class=\"inner\"><img alt=\"\" class=\"img\" height=\"161\" onerror=\"this.src='data:image/gif;base64,R0lGODlhAQABAIAAAAAAAP///yH5BAEAAAAALAAAAAABAAEAAAIBRAA7';this.className='img bg_nimg'\" src=\"https://search.pstatic.net/common/?src=https%3A%2F%2Fmblogthumb-phinf.pstatic.net%2FMjAyMjA1MjVfMjQ0%2FMDAxNjUzNDUwMjc5MDAz.TCJVXipYEVy0a-fQa6SlGEvdJl1GqaKnqxGmyu2CJVwg.kQY-85laZhtm_4G3bedyr5ILzjZqsdFp0GZ8thzfzjkg.PNG.zuuu_33%2Fimage.png%3Ftype%3Dw800&amp;type=f352_322\" width=\"176\"/></div> </div> <div class=\"user_thumb\"> <span class=\"user\"><img alt=\"\" class=\"img\" height=\"18\" src=\"https://search.pstatic.net/common/?src=http%3A%2F%2Fblogpfthumb.phinf.naver.net%2FMjAyMjA0MThfMjMy%2FMDAxNjUwMjgzNjkyMDQ0.LJMUpVPyl08uxuypJhOXo_rZdbkcECVj6IvqGUuD-xMg.Eb3EhX-Ohx1tB-MFdkCjG-cDTKmukkicgetv-F3GncIg.PNG.gkwlsfk%2FprofileImage.png&amp;type=f36_36\" width=\"18\"/></span> <span class=\"user\"><img alt=\"\" class=\"img\" height=\"18\" src=\"https://search.pstatic.net/common/?src=http%3A%2F%2Fblogpfthumb.phinf.naver.net%2FMjAxOTA3MjBfODMg%2FMDAxNTYzNjMwMzA4OTkw.ig2XickpBwXOgyfOqRpUOyDpNj3xNH1_vQOvdloR5IQg.ZQMkBSFlRlNgECqRbZoreo863i7cQhZio1mrXans2P8g.PNG.666chunsa%2FprofileImage.png&amp;type=f36_36\" width=\"18\"/></span> <span class=\"user\"><img alt=\"\" class=\"img\" height=\"18\" src=\"https://search.pstatic.net/common/?src=https%3A%2F%2Fhomebuilder-phinf.pstatic.net%2FMjAyMzAzMDNfMjk0%2FMDAxNjc3ODMxMzcwOTE0.5APaTaFIeo7coCL1_Lu62jP5Plvt-1jZC_nay8NOYVMg.oiqqaCmr8-UpeKfXtEXeJyaYVqMQ2wTrUqe-JqpDUeUg.JPEG%2F1677831370841_D99C49A4-59CC-4CC4-BC17-9D5B3CF8B24F.jpeg&amp;type=f36_36\" width=\"18\"/></span> </div> </div> <div class=\"dsc_area\"> <div class=\"dsc\">제주도 맛집 리스트</div> </div> </div> </a> </div>, <div class=\"flick_bx\"> <a class=\"popular_block_wrap type_bg8\" href=\"https://s.search.naver.com/p/intentblock/search.naver?ac=0&amp;aq=0&amp;bid=SYS-0000000025161724&amp;display=10&amp;nlu_query=%7B%22v%22%3A%223%22%2C%22intentblock%22%3A%221%22%2C%22qid%22%3A%22%EC%A0%9C%EC%A3%BC%EB%8F%84%EB%A7%9B%EC%A7%91%22%2C%22abt%22%3A%5B%7B%22eid%22%3A%22SBR1%22%2C%22value%22%3A%7B%22bucket%22%3A%22T4%22%2C%22is_control%22%3Afalse%7D%7D%5D%2C%22matchedAbt%22%3A%5B%7B%22eid%22%3A%22SBR1%22%2C%22value%22%3A%7B%22bucket%22%3A%22T4%22%2C%22is_control%22%3Afalse%7D%7D%5D%7D&amp;query=%EC%A0%9C%EC%A3%BC%EB%8F%84+%EB%A7%9B%EC%A7%91&amp;ssc=tab.itb.all&amp;start=1&amp;where=nx_bridge\" onclick=\"goOtherCR(this, 'a=itb_bas.block&amp;r=35&amp;i=SYS-0000000025161724&amp;g=%7B%22bid%22%3A%22SYS-0000000025161724%22%7D&amp;u='+urlencode(this.href));\"> <div class=\"user_wrap\"> <div class=\"thumb_area\"> <div class=\"thumb\"> <div class=\"inner\"><img alt=\"\" class=\"img\" height=\"161\" onerror=\"this.src='data:image/gif;base64,R0lGODlhAQABAIAAAAAAAP///yH5BAEAAAAALAAAAAABAAEAAAIBRAA7';this.className='img bg_nimg'\" src=\"https://search.pstatic.net/common/?src=http%3A%2F%2Fblogfiles.naver.net%2FMjAyMTEyMjZfMTA1%2FMDAxNjQwNTE5NDQ2MDY1.wLfKV47xS7h507ZmtQ-bVhUFpWWYVO5vjsiEj56I7mEg.kAjZ-h5qHm6wo-ifN5TydPgf9Hl6kEbdwxmm8BzgBakg.JPEG.midak2%2FIMG_7832.jpg%23900x674&amp;type=f352_322\" width=\"176\"/></div> </div> <div class=\"user_thumb\"> <span class=\"user\"><img alt=\"\" class=\"img\" height=\"18\" src=\"https://search.pstatic.net/common/?src=http%3A%2F%2Fblogpfthumb.phinf.naver.net%2FMjAyMTA2MDdfMjkw%2FMDAxNjIzMDAxNDk0MTM3.FODshYTYLLUDaPBmWMfiixImTii6sH2s9u08ZJXFNrAg.zoHR4QfbqvA4eg5DhDoesg5YUEIIaE9eMhDNytePS1Eg.JPEG.song_0215%2FprofileImage.jpg&amp;type=f36_36\" width=\"18\"/></span> <span class=\"user\"><img alt=\"\" class=\"img\" height=\"18\" src=\"https://search.pstatic.net/common/?src=http%3A%2F%2Fblogpfthumb.phinf.naver.net%2FMjAyMjA4MThfNjkg%2FMDAxNjYwODE4NTgzMTc2.-3-OjCtGJp_nNoN1okI2uwNAc6Ng_OXL2cr8w6yy6Fog.ZQ-bIJKcnPbZt6cyh-fM_3eaKrcI3hrwuwBoTWNOrDwg.PNG.kimyuri99%2FprofileImage.png&amp;type=f36_36\" width=\"18\"/></span> <span class=\"user\"><img alt=\"\" class=\"img\" height=\"18\" src=\"https://search.pstatic.net/common/?src=http%3A%2F%2Fblogpfthumb.phinf.naver.net%2FMjAyMjA4MDJfMTIx%2FMDAxNjU5MzY5Njk4NTg2.QPLANldXFkAyTIaYQg8rDxkVCSXbwSqxpu0m5TcmnsYg.rTwAh5tBZxkQGQd0cWDoikxw7SKKi3Nqgb97aGgFCZcg.PNG.midak2%2FprofileImage.png&amp;type=f36_36\" width=\"18\"/></span> </div> </div> <div class=\"dsc_area\"> <div class=\"dsc\">제주도애월맛집</div> </div> </div> </a> </div>]\n"
     ]
    }
   ],
   "source": [
    "divlist = soup.select('#content > section > div > div.popular_grid_wrap.group_popular_block._au_popular_root > div')\n",
    "divlist\n",
    "\n",
    "nvlist = []\n",
    "for divv in divlist:\n",
    "    nvimg = divv.select_one('img').get('src')\n",
    "    nvtitle = divv.select_one('#content > section > div > div.popular_grid_wrap.group_popular_block._au_popular_root > div > a > div > div.dsc_area > div').text\n",
    "    nvhref = divv.select_one('a').get('href')\n",
    "    nvlist.append([nvimg,nvtitle,nvhref])\n",
    "print(divlist)"
   ]
  },
  {
   "cell_type": "code",
   "execution_count": 12,
   "id": "3eed0a55-5eb1-459a-9180-647f9ba329c4",
   "metadata": {
    "tags": []
   },
   "outputs": [
    {
     "data": {
      "text/html": [
       "<div>\n",
       "<style scoped>\n",
       "    .dataframe tbody tr th:only-of-type {\n",
       "        vertical-align: middle;\n",
       "    }\n",
       "\n",
       "    .dataframe tbody tr th {\n",
       "        vertical-align: top;\n",
       "    }\n",
       "\n",
       "    .dataframe thead th {\n",
       "        text-align: right;\n",
       "    }\n",
       "</style>\n",
       "<table border=\"1\" class=\"dataframe\">\n",
       "  <thead>\n",
       "    <tr style=\"text-align: right;\">\n",
       "      <th></th>\n",
       "      <th>nvimg</th>\n",
       "      <th>nvtitle</th>\n",
       "      <th>nvhref</th>\n",
       "    </tr>\n",
       "  </thead>\n",
       "  <tbody>\n",
       "    <tr>\n",
       "      <th>0</th>\n",
       "      <td>https://search.pstatic.net/common/?src=http%3A...</td>\n",
       "      <td>반응 좋은 맛집 후기</td>\n",
       "      <td>https://s.search.naver.com/p/intentblock/searc...</td>\n",
       "    </tr>\n",
       "    <tr>\n",
       "      <th>1</th>\n",
       "      <td>https://search.pstatic.net/common/?src=https%3...</td>\n",
       "      <td>TV 속 맛집 후기</td>\n",
       "      <td>https://s.search.naver.com/p/intentblock/searc...</td>\n",
       "    </tr>\n",
       "    <tr>\n",
       "      <th>2</th>\n",
       "      <td>https://search.pstatic.net/common/?src=https%3...</td>\n",
       "      <td>맛집 탐방가 리뷰</td>\n",
       "      <td>https://s.search.naver.com/p/intentblock/searc...</td>\n",
       "    </tr>\n",
       "    <tr>\n",
       "      <th>3</th>\n",
       "      <td>https://search.pstatic.net/common/?src=http%3A...</td>\n",
       "      <td>제주도맛집내돈내산</td>\n",
       "      <td>https://s.search.naver.com/p/intentblock/searc...</td>\n",
       "    </tr>\n",
       "    <tr>\n",
       "      <th>4</th>\n",
       "      <td>https://search.pstatic.net/common/?src=http%3A...</td>\n",
       "      <td>제주도 현지인 맛집 리스트</td>\n",
       "      <td>https://s.search.naver.com/p/intentblock/searc...</td>\n",
       "    </tr>\n",
       "  </tbody>\n",
       "</table>\n",
       "</div>"
      ],
      "text/plain": [
       "                                               nvimg         nvtitle  \\\n",
       "0  https://search.pstatic.net/common/?src=http%3A...     반응 좋은 맛집 후기   \n",
       "1  https://search.pstatic.net/common/?src=https%3...      TV 속 맛집 후기   \n",
       "2  https://search.pstatic.net/common/?src=https%3...       맛집 탐방가 리뷰   \n",
       "3  https://search.pstatic.net/common/?src=http%3A...       제주도맛집내돈내산   \n",
       "4  https://search.pstatic.net/common/?src=http%3A...  제주도 현지인 맛집 리스트   \n",
       "\n",
       "                                              nvhref  \n",
       "0  https://s.search.naver.com/p/intentblock/searc...  \n",
       "1  https://s.search.naver.com/p/intentblock/searc...  \n",
       "2  https://s.search.naver.com/p/intentblock/searc...  \n",
       "3  https://s.search.naver.com/p/intentblock/searc...  \n",
       "4  https://s.search.naver.com/p/intentblock/searc...  "
      ]
     },
     "execution_count": 12,
     "metadata": {},
     "output_type": "execute_result"
    }
   ],
   "source": [
    "nvdf = pd.DataFrame(nvlist, columns = ['nvimg','nvtitle','nvhref'])\n",
    "nvdf.head()"
   ]
  },
  {
   "cell_type": "markdown",
   "id": "fb1618c9-cc9a-499d-a814-b3cf943734b5",
   "metadata": {},
   "source": [
    "# DB연동"
   ]
  },
  {
   "cell_type": "markdown",
   "id": "86aaa8ba-2b81-499a-9ada-6e0e4e3fc8a5",
   "metadata": {},
   "source": [
    "## df = read_sql(sql, conn) --- 강추\n",
    "<pre>\n",
    "def read_sql(\n",
    "    sql,\n",
    "    con,\n",
    "    index_col: str | list[str] | None = None,\n",
    "    coerce_float: bool = True,\n",
    "    params=None,\n",
    "    parse_dates=None,\n",
    "    columns: list[str] | None = None,\n",
    "    chunksize: int | None = None,\n",
    ") -> DataFrame | Iterator[DataFrame]:"
   ]
  },
  {
   "cell_type": "code",
   "execution_count": 14,
   "id": "cb4f5f9c-e76f-493c-a803-007831214930",
   "metadata": {
    "tags": []
   },
   "outputs": [],
   "source": [
    "import cx_Oracle"
   ]
  },
  {
   "cell_type": "code",
   "execution_count": 29,
   "id": "61919ec3-e4da-4d96-9299-7b66d8e1f7b3",
   "metadata": {
    "tags": []
   },
   "outputs": [],
   "source": [
    "conn = cx_Oracle.connect(\"ai\", \"0000\", \"localhost:1521/XE\")\n",
    "emp = pd.read_sql('select * from emp', conn)\n",
    "emp.head()\n",
    "conn.close()# 커넥션 full주의 !!!!! oracle 먹통"
   ]
  },
  {
   "cell_type": "markdown",
   "id": "41db63d3-43f9-4960-8ecd-a9119ca9076f",
   "metadata": {},
   "source": [
    "## df.to_sql('테이블명',conn)\n",
    "* 기존에 table이 없으면 알아서 만들어줌, 있으면 oracle은 error/ 다른 db는 append속성으로 추가 가능\n",
    "<pre>\n",
    "def to_sql(\n",
    "        name: str, // ----- 테이블이름\n",
    "        con,\n",
    "        if_exists: str = \"fail\",  \"append\" // ------ 원래 Table에 붙이기,오라클지원X\n",
    "        \n",
    "        schema: str | None = None,\n",
    "        index: bool_t = True,\n",
    "        index_label: IndexLabel = None,\n",
    "        chunksize: int | None = None,\n",
    "        dtype: DtypeArg | None = None,\n",
    "        method: str | None = None,\n",
    "    )"
   ]
  },
  {
   "cell_type": "markdown",
   "id": "86fecff4-26ab-4103-bc02-9c61892a64c1",
   "metadata": {},
   "source": [
    "## cx_Oracle.conn 더이상 지원 xx >> sqlalchemy.conn()으로 대체"
   ]
  },
  {
   "cell_type": "code",
   "execution_count": null,
   "id": "397a0fb3-cda4-4dad-8557-a0787656ed2a",
   "metadata": {
    "tags": []
   },
   "outputs": [],
   "source": [
    "# conn = cx_Oracle.connect(\"ai\", \"0000\", \"localhost:1521/XE\")\n",
    "# nvdf.to_sql(name = 'jeju_craw',con = conn)\n",
    "# # conn.close()"
   ]
  },
  {
   "cell_type": "code",
   "execution_count": 13,
   "id": "f012a8f4-c2a7-4532-acf0-03ba2cfe6abf",
   "metadata": {
    "tags": []
   },
   "outputs": [
    {
     "name": "stdout",
     "output_type": "stream",
     "text": [
      "연결성공\n"
     ]
    }
   ],
   "source": [
    "\n",
    "\n",
    "# conn.cursor().execute() --- 비추\n",
    "with cx_Oracle.connect(\"ai\", \"0000\", \"localhost:1521/XE\") as conn :\n",
    "    if bool(conn) :\n",
    "        print(\"연결성공\")\n",
    "    else:\n",
    "        print(\"연결실패\")\n",
    "    # with conn.cursor() as cur:\n",
    "    #     cur.execute(\"select * from emp\")\n",
    "    #     for row in cur:\n",
    "    #         print( list(row)  )\n",
    "        # cur.close()\n",
    "# conn.close()"
   ]
  },
  {
   "cell_type": "markdown",
   "id": "8b9131c1-29ae-4f9f-8ece-6c657e55e192",
   "metadata": {},
   "source": [
    "# sqlalchemy\n",
    "<pre>\n",
    "* 데이터 프레임을 통째로 DB로 밀어 넣을 때\n",
    "* ref : https://www.sqlalchemy.org/\n",
    "        https://docs.sqlalchemy.org/en/14/dialects/oracle.html"
   ]
  },
  {
   "cell_type": "code",
   "execution_count": 31,
   "id": "4c85e640-4cfa-46f3-ae4e-a0e5507bcd00",
   "metadata": {
    "tags": []
   },
   "outputs": [
    {
     "name": "stdout",
     "output_type": "stream",
     "text": [
      "Collecting sqlalchemy\n",
      "  Downloading SQLAlchemy-2.0.4-cp38-cp38-win_amd64.whl (2.0 MB)\n",
      "     ---------------------------------------- 0.0/2.0 MB ? eta -:--:--\n",
      "     ---------------------------------------  2.0/2.0 MB 62.8 MB/s eta 0:00:01\n",
      "     ---------------------------------------- 2.0/2.0 MB 31.4 MB/s eta 0:00:00\n",
      "Collecting typing-extensions>=4.2.0\n",
      "  Downloading typing_extensions-4.5.0-py3-none-any.whl (27 kB)\n",
      "Collecting greenlet!=0.4.17\n",
      "  Downloading greenlet-2.0.2-cp38-cp38-win_amd64.whl (192 kB)\n",
      "     ---------------------------------------- 0.0/192.1 kB ? eta -:--:--\n",
      "     ------------------------------------- 192.1/192.1 kB 11.4 MB/s eta 0:00:00\n",
      "Installing collected packages: typing-extensions, greenlet, sqlalchemy\n",
      "Successfully installed greenlet-2.0.2 sqlalchemy-2.0.4 typing-extensions-4.5.0\n"
     ]
    },
    {
     "name": "stderr",
     "output_type": "stream",
     "text": [
      "\n",
      "[notice] A new release of pip is available: 23.0 -> 23.0.1\n",
      "[notice] To update, run: python.exe -m pip install --upgrade pip\n"
     ]
    }
   ],
   "source": [
    "# ! pip install sqlalchemy"
   ]
  },
  {
   "cell_type": "code",
   "execution_count": null,
   "id": "326e12a5-a15c-408b-b54d-ad4da456c182",
   "metadata": {},
   "outputs": [],
   "source": [
    "conn = create_engine(\"oracle+cx_oracle://ai:0000@XE\")\n"
   ]
  },
  {
   "cell_type": "code",
   "execution_count": null,
   "id": "6955ec03-7609-49ef-a222-a1a0232851b0",
   "metadata": {},
   "outputs": [],
   "source": []
  },
  {
   "cell_type": "code",
   "execution_count": null,
   "id": "325ee1ce-cfc6-4014-83e8-40bf331ef5fc",
   "metadata": {},
   "outputs": [],
   "source": []
  },
  {
   "cell_type": "code",
   "execution_count": null,
   "id": "5c425d9b-45ed-4504-b298-ba599b2c797c",
   "metadata": {},
   "outputs": [],
   "source": []
  }
 ],
 "metadata": {
  "kernelspec": {
   "display_name": "Python 3 (ipykernel)",
   "language": "python",
   "name": "python3"
  },
  "language_info": {
   "codemirror_mode": {
    "name": "ipython",
    "version": 3
   },
   "file_extension": ".py",
   "mimetype": "text/x-python",
   "name": "python",
   "nbconvert_exporter": "python",
   "pygments_lexer": "ipython3",
   "version": "3.8.8"
  }
 },
 "nbformat": 4,
 "nbformat_minor": 5
}
