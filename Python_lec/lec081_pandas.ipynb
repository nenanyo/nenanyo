{
 "cells": [
  {
   "cell_type": "code",
   "execution_count": null,
   "id": "4d178c3b-14d8-41b3-b881-1654d0e1bdf1",
   "metadata": {
    "tags": []
   },
   "outputs": [],
   "source": [
    "import pandas as pd\n",
    "import numpy as np"
   ]
  },
  {
   "cell_type": "markdown",
   "id": "6f7444f0-1ccf-41a6-b1ff-25350fd83241",
   "metadata": {
    "tags": []
   },
   "source": [
    "# series\n",
    "<pre>\n",
    "data=list or array,\n",
    "        index=None,\n",
    "        dtype: Dtype | None = None,\n",
    "        name=None,"
   ]
  },
  {
   "cell_type": "code",
   "execution_count": null,
   "id": "e2755d03-0bcb-4320-bcd4-1935d17601c4",
   "metadata": {
    "tags": []
   },
   "outputs": [],
   "source": [
    "my_list = ([1,2,3,'A', np.nan])\n",
    "s= pd.Series(data=my_list, index=range(5), name=\"seq\")\n",
    "s"
   ]
  },
  {
   "cell_type": "code",
   "execution_count": null,
   "id": "69f9d618-d56f-4ed2-be56-227976e2a0ed",
   "metadata": {
    "tags": []
   },
   "outputs": [],
   "source": [
    "my_list = ([1,2,3,'A', np.nan])\n",
    "## 숫자,글자 조합이라서 글자타입으로 인식\n",
    "myarr = np.array(my_list)\n",
    "s= pd.Series(data=myarr, index=range(5), name=\"seq\")\n",
    "myarr"
   ]
  },
  {
   "cell_type": "code",
   "execution_count": null,
   "id": "b8b43d24-a57c-4891-8857-72c0b1f922f3",
   "metadata": {
    "tags": []
   },
   "outputs": [],
   "source": [
    "my_list = ([1,2,3,'A',np.nan])\n",
    "my_arr = np.array(my_list)\n",
    "# my_arr\n",
    "print(my_arr.shape,\"주의주의1행5열 - 배열이다\")"
   ]
  },
  {
   "cell_type": "code",
   "execution_count": null,
   "id": "a184eb00-1be3-4919-90ab-457a3c9c4452",
   "metadata": {
    "tags": []
   },
   "outputs": [],
   "source": [
    "mylist = [[1,2,3],[10,20,30]]\n",
    "print(mylist ) #[[1, 2, 3], [10, 20, 30]], list는 shape 없다\n",
    "print(len(mylist), len(mylist[0])) ##----row갯수\n",
    "\n",
    "myarr = np.array(mylist)\n",
    "print(myarr) #[[ 1  2  3]\n",
    "              #[10 20 30]]\n",
    "print(myarr.shape)   #shape() -X, 괄호 없다"
   ]
  },
  {
   "cell_type": "markdown",
   "id": "fa137590-4fb4-4655-8d3b-d94f50f9933d",
   "metadata": {},
   "source": [
    "# DataFrame\n",
    "<pre>\n",
    "*head(), tail(), info(), shape, describe()\n",
    "data=None,\n",
    "        index: Axes | None = None,\n",
    "        columns: Axes | None = None,\n",
    "        dtype: Dtype | None = None,"
   ]
  },
  {
   "cell_type": "markdown",
   "id": "b571924f-f2c6-4947-8245-391d5406bdfd",
   "metadata": {
    "tags": []
   },
   "source": [
    "## list or array"
   ]
  },
  {
   "cell_type": "code",
   "execution_count": null,
   "id": "cabd1e3f-e9de-463f-96f0-945f6a28e843",
   "metadata": {
    "tags": []
   },
   "outputs": [],
   "source": [
    "mylist = [[1,2,3],[10,20,30]]\n",
    "myarr = np.array(mylist)\n",
    "\n",
    "\n",
    "# df = pd.DataFrame(data = myarr)\n",
    "df = pd.DataFrame(data = mylist, columns=[\"a\",\"b\",\"c\"], index =[\"@\",\"@@\"])\n",
    "print(df.shape)\n",
    "print(\"row갯수\",len(df))\n",
    "df"
   ]
  },
  {
   "cell_type": "code",
   "execution_count": null,
   "id": "01379a21-0cfc-4007-ba67-5ec376b6e134",
   "metadata": {
    "tags": []
   },
   "outputs": [],
   "source": [
    "df.info()"
   ]
  },
  {
   "cell_type": "code",
   "execution_count": null,
   "id": "3027ab01-208b-4690-b8d9-fd83735e8bb1",
   "metadata": {
    "tags": []
   },
   "outputs": [],
   "source": [
    "# df.head()\n",
    "df.head(5)\n"
   ]
  },
  {
   "cell_type": "code",
   "execution_count": null,
   "id": "0a0c4eb4-6f37-4b7b-aeea-113c0e03220c",
   "metadata": {
    "tags": []
   },
   "outputs": [],
   "source": [
    "df.tail()"
   ]
  },
  {
   "cell_type": "code",
   "execution_count": null,
   "id": "d7d2edea-3bf4-486c-82a7-93237bee209f",
   "metadata": {
    "tags": []
   },
   "outputs": [],
   "source": [
    "df.describe()"
   ]
  },
  {
   "cell_type": "markdown",
   "id": "a96bc99b-eb72-4ac3-9469-4b983d4d2cd6",
   "metadata": {
    "tags": []
   },
   "source": [
    "## list, dic"
   ]
  },
  {
   "cell_type": "code",
   "execution_count": null,
   "id": "3bd51b3c-2c4f-45fe-a171-42854782604a",
   "metadata": {
    "tags": []
   },
   "outputs": [],
   "source": [
    "listdic =[{\"uid\" : \"kim\", \"upw\" : 111}\n",
    "          ,{\"uid\" : \"kim\", \"upw\" : 111}\n",
    "          ,{\"uid\" : \"kim\", \"upw\" : 111}\n",
    "         ]\n",
    "df = pd.DataFrame(listdic)\n",
    "df\n",
    "## 딕셔너리 키 값이 곧 컬럼 이름"
   ]
  },
  {
   "cell_type": "code",
   "execution_count": null,
   "id": "41772190-ef13-4590-9fa4-25e1c4a547a2",
   "metadata": {
    "tags": []
   },
   "outputs": [],
   "source": [
    "listlist = [['kim',111]\n",
    "            ,['kim',111]]\n",
    "df = pd.DataFrame(listlist, columns = ['a','b'])\n",
    "df"
   ]
  },
  {
   "cell_type": "code",
   "execution_count": null,
   "id": "fb75945d-6012-4470-8f01-e64d1173c891",
   "metadata": {},
   "outputs": [],
   "source": []
  },
  {
   "cell_type": "code",
   "execution_count": null,
   "id": "df5654ac-7529-41c5-9177-16f5394fa56c",
   "metadata": {},
   "outputs": [],
   "source": []
  },
  {
   "cell_type": "markdown",
   "id": "9d74856c-ca62-4633-a29f-f5e349d954ad",
   "metadata": {
    "tags": []
   },
   "source": []
  },
  {
   "cell_type": "markdown",
   "id": "8d0f2342-01f0-406d-8f20-9a175859b7c6",
   "metadata": {
    "tags": []
   },
   "source": [
    "# DataFrame 구조보기"
   ]
  },
  {
   "cell_type": "code",
   "execution_count": null,
   "id": "f4547e1a-72ae-4c8e-bd19-de69407cad5c",
   "metadata": {
    "tags": []
   },
   "outputs": [],
   "source": [
    "df = pd.DataFrame(['a','b','c','d'], columns = ['codes'])\n",
    "s = pd.Series([1,2,3,4])\n",
    "df['seq'] = s\n",
    "df['sal'] = [100,200,300,400]\n",
    "df[['id','pw']] = np.array([['kim',1111]]*4)\n",
    "df['tel'] = '010'\n",
    "df\n",
    "### '010' : 0으로 시작하는 숫자 없다/0날아가고 10만 남기 때문에 문자취급"
   ]
  },
  {
   "cell_type": "code",
   "execution_count": null,
   "id": "46c153c1-4c90-41cc-9ab2-8dd7e0475eb7",
   "metadata": {},
   "outputs": [],
   "source": [
    "df = pd.DataFrame(['a','b','c','d'], columns = ['codes'])\n",
    "df.index = [10,20,30,40]  ##----index넣기\n",
    "df\n"
   ]
  },
  {
   "cell_type": "code",
   "execution_count": null,
   "id": "cf9c2c3f-5885-489f-992c-448c8084285d",
   "metadata": {
    "tags": []
   },
   "outputs": [],
   "source": [
    "df = pd.DataFrame(['a','b','c','d'], columns = ['codes'], index = [10,20,30,40])\n",
    "\n",
    "# df.index              ###---index출력\n",
    "# df.index.values ##--- array로 나옴\n",
    "df.index.values.tolist()  ##---list로 형전환\n",
    "#컬럼 이름 없는 게 인덱스\n"
   ]
  },
  {
   "cell_type": "code",
   "execution_count": null,
   "id": "19f6b1e1-1af4-46ad-846e-30a8ff533c2c",
   "metadata": {},
   "outputs": [],
   "source": [
    "s = pd.Series([1,2,3,4])\n",
    "df = pd.DataFrame(['a','b','c','d'], columns = ['codes'])\n",
    "df['seq'] = s\n",
    "df['sal'] = [100,200,300,400]\n",
    "\n",
    "df.columns  ##--columns출력\n",
    "print(df.columns.values) ##--- array로 나옴\n",
    "print(df.columns.values.tolist())  ##---list로 형전환"
   ]
  },
  {
   "cell_type": "code",
   "execution_count": null,
   "id": "aedbf513-c2cd-46e2-85a0-3f76526e9a27",
   "metadata": {},
   "outputs": [],
   "source": [
    "s = pd.Series([1,2,3,4])\n",
    "df = pd.DataFrame(['a','b','c','d'], columns = ['codes'])\n",
    "df['seq'] = s\n",
    "df['sal'] = [100,200,300,400]\n",
    "df.values  ##--- 값 출력\n",
    "# print(df.values.tolist())  ##----- list로 형전환"
   ]
  },
  {
   "cell_type": "code",
   "execution_count": null,
   "id": "07c47d5d-8445-454d-bf84-474b82e9d561",
   "metadata": {},
   "outputs": [],
   "source": []
  },
  {
   "cell_type": "markdown",
   "id": "439144f6-ab89-4d9a-a00a-ccacce2f8d42",
   "metadata": {
    "tags": []
   },
   "source": [
    "# select in DataFrame\n",
    "<pre>\n",
    "*loc[줄 : 칸] : 값으로 꺼내기\n",
    "*iloc[줄 : 칸] : 인덱스로 꺼내기\n",
    "*[줄 : 칸]\n",
    "- 단일값\n",
    "- 리스트 [단일값,단일값,단일값]\n",
    "- 슬라이싱[ : ]"
   ]
  },
  {
   "cell_type": "code",
   "execution_count": null,
   "id": "51bd4c92-d580-4968-a47e-c60405cea04a",
   "metadata": {
    "tags": []
   },
   "outputs": [],
   "source": [
    "df = pd.read_csv(\"./lec08_emp.csv\", sep = \",\" , parse_dates = ['HIREDATE'])\n",
    "df.head(14)    \n",
    "###파일 불러오기\n",
    "###parse_dates = ['HIREDATE'] dtype 날짜처리"
   ]
  },
  {
   "cell_type": "code",
   "execution_count": null,
   "id": "8d9d69dd-b525-42cc-a7ca-965a64bc5a5a",
   "metadata": {
    "tags": []
   },
   "outputs": [],
   "source": [
    "df.info()\n",
    "## 결측 있으면 해당 컬럼의 Dtype은 float64\n",
    "## object는 str타입"
   ]
  },
  {
   "cell_type": "code",
   "execution_count": null,
   "id": "7400cb93-e082-4049-a594-aebdcce82aa3",
   "metadata": {
    "tags": []
   },
   "outputs": [],
   "source": [
    "df = pd.read_csv(\"./lec08_emp.csv\", sep = \",\" )\n",
    "print(df.head(3))\n",
    "df.describe()"
   ]
  },
  {
   "cell_type": "markdown",
   "id": "0e1f6bfd-ef44-4a1c-98bc-1a8b14fcd496",
   "metadata": {},
   "source": [
    "### 결측처리\n",
    "* np.nan\n",
    "* missing value\n",
    "* df1. dropna(axis = 1 or axis = 0)\n",
    "* df1. fillna(값)\n",
    "* pd.isna(df1)"
   ]
  },
  {
   "cell_type": "markdown",
   "id": "36140591-d982-4c98-8d46-70cf851c4786",
   "metadata": {
    "tags": []
   },
   "source": [
    "### df.isna(df1) \n",
    "*또는 pd.isna(df)"
   ]
  },
  {
   "cell_type": "code",
   "execution_count": null,
   "id": "2456f9af-cacd-4704-97cc-f8add746711d",
   "metadata": {
    "tags": []
   },
   "outputs": [],
   "source": [
    "dfcp = df.copy()\n",
    "dfcp.isna()  ##--pandas에서 출력\n",
    "# dfcp.notna()\n",
    "# dfcp.isnull() ##--numpy에서 출력\n",
    "# dfcp.notnull()\n"
   ]
  },
  {
   "cell_type": "code",
   "execution_count": null,
   "id": "fb5e50c1-88a7-4fea-aee8-58722b691ee0",
   "metadata": {
    "tags": []
   },
   "outputs": [],
   "source": [
    "dfcp = df.copy()\n",
    "dfcp.head(3)"
   ]
  },
  {
   "cell_type": "code",
   "execution_count": null,
   "id": "92b412b6-c49f-4ab9-9cad-ccaf59879558",
   "metadata": {
    "tags": []
   },
   "outputs": [],
   "source": [
    "dfcp = df.copy()\n",
    "dfcp.isna().sum()"
   ]
  },
  {
   "cell_type": "code",
   "execution_count": null,
   "id": "91c05bec-a924-4937-a300-5f9221246370",
   "metadata": {},
   "outputs": [],
   "source": []
  },
  {
   "cell_type": "code",
   "execution_count": null,
   "id": "c119a59b-8fe8-47b8-a2cf-1ab2e23d4237",
   "metadata": {},
   "outputs": [],
   "source": [
    "# df[pd.isna(df) == True]"
   ]
  },
  {
   "cell_type": "markdown",
   "id": "7466f306-9760-4ece-991f-6c3f27a7eb95",
   "metadata": {},
   "source": [
    "### dropna()\n",
    "<pre>\n",
    "*axis = 1 : column 지운다\n",
    "*axis = 0 : row 지운다"
   ]
  },
  {
   "cell_type": "code",
   "execution_count": null,
   "id": "685a4777-7eb4-462f-9c92-a7b5d8d512ff",
   "metadata": {
    "tags": []
   },
   "outputs": [],
   "source": [
    "dfcp = df.copy()\n",
    "# dfcp = dfcp.dropna(axis = 0) ##지운걸 다시 넣어야 지운 것이 반영\n",
    "dfcp.dropna(axis = 0, inplace=True) ##---지운 걸 계속 반영하겠다\n",
    "dfcp"
   ]
  },
  {
   "cell_type": "code",
   "execution_count": null,
   "id": "47bf9e66-328a-4d22-b7ad-674cba618662",
   "metadata": {
    "tags": []
   },
   "outputs": [],
   "source": [
    "dfcp = df.copy()\n",
    "dfcp = dfcp.dropna(axis = 1)"
   ]
  },
  {
   "cell_type": "code",
   "execution_count": null,
   "id": "3161b72f-4468-4130-90c0-ccef8fca3d64",
   "metadata": {
    "tags": []
   },
   "outputs": [],
   "source": [
    "dfcp"
   ]
  },
  {
   "cell_type": "markdown",
   "id": "a32e1f5b-28c2-4ddf-8612-95cc320bd6ee",
   "metadata": {},
   "source": [
    "### fillna()\n",
    "<pre>\n",
    "* 결측 채우기 후 일반적으로 형변환을 한다\n",
    "* dfcp[['컬럼']] =  dfcp[['컬럼']].astype('int') > 소수점 없어진다"
   ]
  },
  {
   "cell_type": "code",
   "execution_count": null,
   "id": "72c918f4-3871-421e-947e-794c4acfc70b",
   "metadata": {
    "tags": []
   },
   "outputs": [],
   "source": [
    "dfcp = df.copy()\n",
    "dfcp = dfcp.fillna(99999)\n",
    "# dfcp.fillna(99999, inplace = True)\n",
    "dfcp.head(3)\n",
    "## 원본컬럼 DTYPE과 동일한 TYPE으로 fillna()해라"
   ]
  },
  {
   "cell_type": "code",
   "execution_count": null,
   "id": "f108138b-f728-4d66-bb91-22fdff664422",
   "metadata": {
    "tags": []
   },
   "outputs": [],
   "source": [
    "dfcp = df.copy()\n",
    "dfcp['COMM'] = dfcp['COMM'].fillna(88888)\n",
    "dfcp['MGR'] = dfcp['MGR'].fillna(77777)\n",
    "dfcp\n",
    "## 컬럼별로 nan 다른 값 채우기"
   ]
  },
  {
   "cell_type": "code",
   "execution_count": null,
   "id": "8a192682-c7a4-4f4c-aed0-66da89143bc8",
   "metadata": {
    "tags": []
   },
   "outputs": [],
   "source": [
    "dfcp = df.copy()\n",
    "dfcp[['COMM','MGR']] = dfcp[['COMM','MGR']].fillna(555555)\n",
    "dfcp[['COMM','MGR']] = dfcp[['COMM','MGR']].astype('int')\n",
    "## .astype 형변환\n",
    "dfcp"
   ]
  },
  {
   "cell_type": "code",
   "execution_count": null,
   "id": "36e2b959-10ff-45f1-84f9-52b7d7780879",
   "metadata": {},
   "outputs": [],
   "source": []
  },
  {
   "cell_type": "code",
   "execution_count": null,
   "id": "2f929a7a-bae1-40aa-8dcd-3ecdfad8c70a",
   "metadata": {},
   "outputs": [],
   "source": []
  }
 ],
 "metadata": {
  "kernelspec": {
   "display_name": "Python 3 (ipykernel)",
   "language": "python",
   "name": "python3"
  },
  "language_info": {
   "codemirror_mode": {
    "name": "ipython",
    "version": 3
   },
   "file_extension": ".py",
   "mimetype": "text/x-python",
   "name": "python",
   "nbconvert_exporter": "python",
   "pygments_lexer": "ipython3",
   "version": "3.8.8"
  },
  "toc-autonumbering": true,
  "toc-showcode": false,
  "toc-showmarkdowntxt": false
 },
 "nbformat": 4,
 "nbformat_minor": 5
}
