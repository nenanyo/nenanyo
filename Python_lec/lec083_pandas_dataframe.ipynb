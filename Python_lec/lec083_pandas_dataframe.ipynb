{
 "cells": [
  {
   "cell_type": "code",
   "execution_count": null,
   "id": "d026d75e-73e5-49ba-a5c1-a45414110ade",
   "metadata": {
    "tags": []
   },
   "outputs": [],
   "source": [
    "import pandas as pd\n",
    "import numpy as np"
   ]
  },
  {
   "cell_type": "markdown",
   "id": "f9b97b9f-9481-46d3-bfb0-95cee649d4d6",
   "metadata": {},
   "source": [
    "# Multi DataFrame"
   ]
  },
  {
   "cell_type": "markdown",
   "id": "c6e182ed-0424-424f-bce1-338d26219b1d",
   "metadata": {
    "tags": []
   },
   "source": [
    "## df = pd.concat([df1, df2, df3])\n",
    "* 대용량 데이터일 경우 아주 빨리 끝난다 춫천!!!!\n",
    "* axis = 0 디폴트"
   ]
  },
  {
   "cell_type": "code",
   "execution_count": null,
   "id": "cdfa3b81-c335-4581-9d53-6a63aa3e8049",
   "metadata": {
    "tags": []
   },
   "outputs": [],
   "source": [
    "df1 = pd.DataFrame(\n",
    "    {\n",
    "        \"A\": [\"A0\", \"A1\", \"A2\", \"A3\"],\n",
    "        \"B\": [\"B0\", \"B1\", \"B2\", \"B3\"],\n",
    "        \"C\": [\"C0\", \"C1\", \"C2\", \"C3\"],\n",
    "        \"D\": [\"D0\", \"D1\", \"D2\", \"D3\"],\n",
    "    },\n",
    "    index=[0, 1, 2, 3],\n",
    ")\n",
    "df2 = pd.DataFrame(\n",
    "    {\n",
    "        \"A\": [\"A4\", \"A5\", \"A6\", \"A7\"],\n",
    "        \"B\": [\"B4\", \"B5\", \"B6\", \"B7\"],\n",
    "        \"C\": [\"C4\", \"C5\", \"C6\", \"C7\"],\n",
    "        \"D\": [\"D4\", \"D5\", \"D6\", \"D7\"],\n",
    "    },\n",
    "    index=[4, 5, 6, 7],\n",
    ")\n",
    "df3 = pd.DataFrame(\n",
    "    {\n",
    "        \"A\": [\"A8\", \"A9\", \"A10\", \"A11\"],\n",
    "        \"B\": [\"B8\", \"B9\", \"B10\", \"B11\"],\n",
    "        \"C\": [\"C8\", \"C9\", \"C10\", \"C11\"],\n",
    "        \"D\": [\"D8\", \"D9\", \"D10\", \"D11\"],\n",
    "    },\n",
    "    index=[8, 9, 10, 11],\n",
    ")\n",
    "df3 = pd.DataFrame(\n",
    "    {\n",
    "        \"A\": [\"A8\", \"A9\", \"A10\", \"A11\"],\n",
    "        \"B\": [\"B8\", \"B9\", \"B10\", \"B11\"],\n",
    "        \"C\": [\"C8\", \"C9\", \"C10\", \"C11\"],\n",
    "        \"D\": [\"D8\", \"D9\", \"D10\", \"D11\"],\n",
    "    },\n",
    "    index=[8, 9, 10, 11],\n",
    ")\n",
    "frames = [df1, df2, df3]\n",
    "result = pd.concat(frames)\n",
    "## result = pd.concat([df1, df2, df3])\n",
    "## 춫천!!!! 굉장히 빠름, 효율적 속도를 냄\n",
    "result"
   ]
  },
  {
   "cell_type": "code",
   "execution_count": null,
   "id": "07327976-02c5-4ec6-83c3-ff6be64dbdee",
   "metadata": {},
   "outputs": [],
   "source": [
    "## df_list = []\n",
    "# df_list.append(df1)\n",
    "# df_list.append(df2)\n",
    "# df_list.append(df3)\n",
    "# df_list"
   ]
  },
  {
   "cell_type": "markdown",
   "id": "7a46491c-69d1-4379-8890-d136cb9ada79",
   "metadata": {},
   "source": [
    "## df1 + df2"
   ]
  },
  {
   "cell_type": "code",
   "execution_count": null,
   "id": "956ebe1e-5dcf-47b5-8eb6-70bd29df37ff",
   "metadata": {},
   "outputs": [],
   "source": [
    "df111 = pd.DataFrame(\n",
    "    {\n",
    "        \"A\": [\"A0\", \"A1\", \"A2\", \"A3\"],\n",
    "        \"B\": [\"B0\", \"B1\", \"B2\", \"B3\"],\n",
    "        \"C\": [\"C0\", \"C1\", \"C2\", \"C3\"],\n",
    "        \"D\": [\"D0\", \"D1\", \"D2\", \"D3\"],\n",
    "    },\n",
    "    index=[0, 1, 2, 3],\n",
    ")\n",
    "df222 = pd.DataFrame(\n",
    "    {\n",
    "        \"A\": [\"A4\", \"A5\", \"A6\", \"A7\"],\n",
    "        \"B\": [\"B4\", \"B5\", \"B6\", \"B7\"],\n",
    "        \"C\": [\"C4\", \"C5\", \"C6\", \"C7\"],\n",
    "        \"D\": [\"D4\", \"D5\", \"D6\", \"D7\"],\n",
    "    },\n",
    "    index=[0, 1, 2, 3],\n",
    ")\n",
    "res = df111 + df222  \n",
    "res\n",
    "## 각 값들을 연산(더하기 or 합치기)한다(index가 동일한 경우!!!!) -- index 다르면 이상한 결과"
   ]
  },
  {
   "cell_type": "code",
   "execution_count": null,
   "id": "ae467f52-1786-4146-ab6c-bb7b47b080a8",
   "metadata": {},
   "outputs": [],
   "source": []
  }
 ],
 "metadata": {
  "kernelspec": {
   "display_name": "Python 3 (ipykernel)",
   "language": "python",
   "name": "python3"
  },
  "language_info": {
   "codemirror_mode": {
    "name": "ipython",
    "version": 3
   },
   "file_extension": ".py",
   "mimetype": "text/x-python",
   "name": "python",
   "nbconvert_exporter": "python",
   "pygments_lexer": "ipython3",
   "version": "3.8.8"
  },
  "toc-autonumbering": false
 },
 "nbformat": 4,
 "nbformat_minor": 5
}
