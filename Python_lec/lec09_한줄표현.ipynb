{
 "cells": [
  {
   "cell_type": "markdown",
   "id": "f4d05713-d08f-421f-b590-286d91c6385b",
   "metadata": {},
   "source": [
    "# 한줄표현 "
   ]
  },
  {
   "cell_type": "markdown",
   "id": "ecaddf70-ac3f-4111-a482-7bc0a50bccf9",
   "metadata": {
    "tags": []
   },
   "source": [
    "## for문 한줄 표현식\n",
    "<pre>\n",
    "* [  처리부  for  n  in  [1,2,3,4] ]\n",
    "* for n in [1,2,3,4]:\n",
    "      처리부\n",
    "\n",
    "\n",
    "* frames = [ process_your_file(f)  for  f  in  files ]\n",
    "* result = pd.concat(frames)"
   ]
  },
  {
   "cell_type": "code",
   "execution_count": null,
   "id": "20caffef-c28d-4e5a-8497-7281466b32e0",
   "metadata": {
    "tags": []
   },
   "outputs": [],
   "source": [
    "for dan in [2,3,4] :\n",
    "    for gob in [1,2,3]:\n",
    "        print (dan, '*', gob)"
   ]
  },
  {
   "cell_type": "code",
   "execution_count": 28,
   "id": "ca645fa1-7b84-45c4-8a08-eb823d708195",
   "metadata": {
    "tags": []
   },
   "outputs": [
    {
     "name": "stdout",
     "output_type": "stream",
     "text": [
      "2 * 1\n",
      "2 * 2\n",
      "2 * 3\n",
      "3 * 1\n",
      "3 * 2\n",
      "3 * 3\n",
      "4 * 1\n",
      "4 * 2\n",
      "4 * 3\n"
     ]
    },
    {
     "data": {
      "text/plain": [
       "[None, None, None, None, None, None, None, None, None]"
      ]
     },
     "execution_count": 28,
     "metadata": {},
     "output_type": "execute_result"
    }
   ],
   "source": [
    "[    print (dan, '*', gob)    for    dan in [2,3,4]    for    gob in [1,2,3]     ]"
   ]
  },
  {
   "cell_type": "markdown",
   "id": "630bddd3-ae29-44cf-a223-6e354c425798",
   "metadata": {},
   "source": [
    "## if문 한줄 표현식\n",
    "<pre>\n",
    "* if 조건 :\n",
    "*   처리부 if\n",
    "* else :\n",
    "*   처리부else\n",
    "\n",
    "\n",
    "* 처리부if  if 조건    else   처리부else\n",
    "* 처리부if  if 조건if  else  (처리부elif  if  조건elif  else  처리부else)"
   ]
  },
  {
   "cell_type": "code",
   "execution_count": 20,
   "id": "328392b1-6eee-41bc-88c2-366bcbfaa5e8",
   "metadata": {
    "tags": []
   },
   "outputs": [
    {
     "name": "stdout",
     "output_type": "stream",
     "text": [
      "작다\n"
     ]
    }
   ],
   "source": [
    "score = 80\n",
    "if score < 90:\n",
    "    print('작다')\n",
    "else :\n",
    "    print('크다')"
   ]
  },
  {
   "cell_type": "code",
   "execution_count": 3,
   "id": "ffd67360-0925-47fa-9a53-9c2ae45c700c",
   "metadata": {
    "tags": []
   },
   "outputs": [
    {
     "name": "stdout",
     "output_type": "stream",
     "text": [
      "작다\n"
     ]
    }
   ],
   "source": [
    "score = 80\n",
    "print('작다' if score < 90 else '크다')"
   ]
  },
  {
   "cell_type": "code",
   "execution_count": 12,
   "id": "f7772e25-6b52-42a3-971f-42eb451b0aa7",
   "metadata": {},
   "outputs": [
    {
     "name": "stdout",
     "output_type": "stream",
     "text": [
      "B\n"
     ]
    }
   ],
   "source": [
    "score = 80\n",
    "if score < 90:\n",
    "    print('B')\n",
    "elif score < 80:\n",
    "    print('C')\n",
    "else :\n",
    "    print('D')"
   ]
  },
  {
   "cell_type": "code",
   "execution_count": 13,
   "id": "263f973f-958b-434c-a34c-343eac10192d",
   "metadata": {
    "tags": []
   },
   "outputs": [
    {
     "name": "stdout",
     "output_type": "stream",
     "text": [
      "B\n"
     ]
    }
   ],
   "source": [
    "score = 80\n",
    "print('B' if score < 90 else ('C' if score < 80  else 'D'))"
   ]
  },
  {
   "cell_type": "markdown",
   "id": "f3caa2e5-a28d-4150-93ce-ff8ef83cc60a",
   "metadata": {},
   "source": [
    "## for + if"
   ]
  },
  {
   "cell_type": "code",
   "execution_count": 14,
   "id": "d7ce92f3-aa3e-4aa9-b7ed-a7fe3fcfcade",
   "metadata": {
    "tags": []
   },
   "outputs": [
    {
     "name": "stdout",
     "output_type": "stream",
     "text": [
      "이\n"
     ]
    }
   ],
   "source": [
    "for n in [1,2,3]:\n",
    "    if n == 2:\n",
    "        print('이')"
   ]
  },
  {
   "cell_type": "code",
   "execution_count": 24,
   "id": "1c5fbef0-ada4-4244-a35d-75065994c8a0",
   "metadata": {
    "tags": []
   },
   "outputs": [
    {
     "name": "stdout",
     "output_type": "stream",
     "text": [
      "이\n"
     ]
    },
    {
     "data": {
      "text/plain": [
       "[None]"
      ]
     },
     "execution_count": 24,
     "metadata": {},
     "output_type": "execute_result"
    }
   ],
   "source": [
    "[print('이') for n in [1,2,3] if n == 2]\n",
    "## if처리문 앞으로  ---->  : 지우기  -----> 앞 뒤 []로 묶기"
   ]
  },
  {
   "cell_type": "markdown",
   "id": "f1248846-d633-4980-9a6a-7485ba0e8f79",
   "metadata": {},
   "source": [
    "## for + if else"
   ]
  },
  {
   "cell_type": "code",
   "execution_count": 25,
   "id": "fe1f7079-0908-4ba1-aecb-fd09d96b2489",
   "metadata": {
    "tags": []
   },
   "outputs": [
    {
     "name": "stdout",
     "output_type": "stream",
     "text": [
      "그외\n",
      "이\n",
      "그외\n"
     ]
    }
   ],
   "source": [
    "for n in [1,2,3] : \n",
    "    if n == 2:\n",
    "        print('이')\n",
    "    else:\n",
    "        print('그외')"
   ]
  },
  {
   "cell_type": "code",
   "execution_count": 31,
   "id": "989a0a8f-bbdf-4080-8234-250bd2a2a82a",
   "metadata": {
    "tags": []
   },
   "outputs": [
    {
     "name": "stdout",
     "output_type": "stream",
     "text": [
      "그외\n",
      "이\n",
      "그외\n"
     ]
    },
    {
     "data": {
      "text/plain": [
       "[None, None, None]"
      ]
     },
     "execution_count": 31,
     "metadata": {},
     "output_type": "execute_result"
    }
   ],
   "source": [
    "[print('이' if n == 2 else '그외') for n in [1,2,3]]\n",
    "## for 뒤에 처리문 (if전체)를 맨앞으로 ---->  if문 한줄표현으로"
   ]
  },
  {
   "cell_type": "markdown",
   "id": "0b9b0522-cf3d-4087-bcec-4e0a81b64f37",
   "metadata": {},
   "source": [
    "# Lambda(람다)\n",
    "<pre>\n",
    "* 일회용 함수\n",
    "* unknown named function\n",
    "\n"
   ]
  },
  {
   "cell_type": "markdown",
   "id": "1fac1eab-99ef-4728-a841-6c35ab0d7ac4",
   "metadata": {},
   "source": [
    "## 람다 사용예\n",
    "* lambda 파라미터  : 표현식\n",
    "* (lambda a,b : a+b) (5,7)\n",
    "* aaa = (lambda a,b : a+b)\n",
    "* aaa(5,7)"
   ]
  },
  {
   "cell_type": "code",
   "execution_count": 32,
   "id": "af2d7c4c-9eab-4a41-8a04-1417cb38dde7",
   "metadata": {
    "tags": []
   },
   "outputs": [
    {
     "data": {
      "text/plain": [
       "12"
      ]
     },
     "execution_count": 32,
     "metadata": {},
     "output_type": "execute_result"
    }
   ],
   "source": [
    "def add(a,b):\n",
    "    return a+b\n",
    "add(5,7)"
   ]
  },
  {
   "cell_type": "code",
   "execution_count": 33,
   "id": "c6c38536-749b-437a-90a4-f3dc0046763a",
   "metadata": {
    "tags": []
   },
   "outputs": [
    {
     "data": {
      "text/plain": [
       "'1'"
      ]
     },
     "execution_count": 33,
     "metadata": {},
     "output_type": "execute_result"
    }
   ],
   "source": [
    "def score_check(score):\n",
    "    if score > 90:\n",
    "        return '1'\n",
    "    else:\n",
    "        return '0'\n",
    "score_check(99)\n",
    "## 함수명O"
   ]
  },
  {
   "cell_type": "code",
   "execution_count": 35,
   "id": "5a33b78f-60d7-40d6-9cf8-63fe651334e5",
   "metadata": {
    "tags": []
   },
   "outputs": [
    {
     "data": {
      "text/plain": [
       "<function __main__.<lambda>(score)>"
      ]
     },
     "execution_count": 35,
     "metadata": {},
     "output_type": "execute_result"
    }
   ],
   "source": [
    "lambda score : '1' if score > 90 else '0'"
   ]
  },
  {
   "cell_type": "code",
   "execution_count": 37,
   "id": "6bd5b620-296c-40f9-a2f7-1829494368c8",
   "metadata": {
    "tags": []
   },
   "outputs": [
    {
     "data": {
      "text/plain": [
       "'1'"
      ]
     },
     "execution_count": 37,
     "metadata": {},
     "output_type": "execute_result"
    }
   ],
   "source": [
    "(lambda score : '1' if score > 90 else '0')(95)"
   ]
  },
  {
   "cell_type": "code",
   "execution_count": 40,
   "id": "b0ea509b-8fcb-43e6-8f3c-fe7c5cf707df",
   "metadata": {
    "tags": []
   },
   "outputs": [
    {
     "data": {
      "text/plain": [
       "'0'"
      ]
     },
     "execution_count": 40,
     "metadata": {},
     "output_type": "execute_result"
    }
   ],
   "source": [
    "score_check =  (lambda score : '1' if score > 90 else '0')\n",
    "score_check(80)\n",
    "## 변수명O / 함수명X"
   ]
  },
  {
   "cell_type": "markdown",
   "id": "44de4a19-0642-4b66-b41c-298b5bd594f8",
   "metadata": {},
   "source": [
    "## 람다 사용예2\n",
    "* lambda 파라미터 : 함수명\n",
    "* (lambda 파라미터 : 함수명)(대입값)"
   ]
  },
  {
   "cell_type": "code",
   "execution_count": null,
   "id": "2c65a349-39fb-4180-80b8-02cbaee267de",
   "metadata": {},
   "outputs": [],
   "source": [
    "def score_check(score):\n",
    "    if score > 90:\n",
    "        return '1'\n",
    "    else:\n",
    "        return '0'\n",
    "score_check(99)"
   ]
  },
  {
   "cell_type": "code",
   "execution_count": 44,
   "id": "05954c31-b08a-4819-989f-7286cdb68a9e",
   "metadata": {
    "tags": []
   },
   "outputs": [
    {
     "data": {
      "text/plain": [
       "'1'"
      ]
     },
     "execution_count": 44,
     "metadata": {},
     "output_type": "execute_result"
    }
   ],
   "source": [
    "(lambda x : score_check(x) ) (99)"
   ]
  },
  {
   "cell_type": "markdown",
   "id": "4c96e4ba-fa98-4c5e-b747-9fe3c64bdc76",
   "metadata": {},
   "source": [
    "# Map "
   ]
  },
  {
   "cell_type": "markdown",
   "id": "8770399b-e209-46a4-8a26-c215a8578145",
   "metadata": {},
   "source": [
    "## map  (  lambda함수,  리스트  )\n"
   ]
  },
  {
   "cell_type": "code",
   "execution_count": 47,
   "id": "2b105056-f9ad-4aa3-a191-5d4b1db83693",
   "metadata": {
    "tags": []
   },
   "outputs": [
    {
     "data": {
      "text/plain": [
       "[11, 12, 13, 14]"
      ]
     },
     "execution_count": 47,
     "metadata": {},
     "output_type": "execute_result"
    }
   ],
   "source": [
    "( lambda x : x+10)\n",
    "list ( map (lambda x : x+10, [1,2,3,4]) )"
   ]
  },
  {
   "cell_type": "code",
   "execution_count": 49,
   "id": "72df1d35-0d3f-4a6e-a7bb-424d32bac5a4",
   "metadata": {
    "tags": []
   },
   "outputs": [
    {
     "data": {
      "text/plain": [
       "[11, 12, 13, 14]"
      ]
     },
     "execution_count": 49,
     "metadata": {},
     "output_type": "execute_result"
    }
   ],
   "source": [
    "mymap =  map (lambda x : x+10, [1,2,3,4]) \n",
    "list(mymap)"
   ]
  },
  {
   "cell_type": "code",
   "execution_count": 48,
   "id": "9449ac27-64ef-46f7-a0fb-50d52ceef069",
   "metadata": {
    "tags": []
   },
   "outputs": [
    {
     "data": {
      "text/plain": [
       "[11, 12, 13, 14]"
      ]
     },
     "execution_count": 48,
     "metadata": {},
     "output_type": "execute_result"
    }
   ],
   "source": [
    "aaa = ( lambda x : x+10)\n",
    "list ( map (aaa, [1,2,3,4]) )"
   ]
  },
  {
   "cell_type": "markdown",
   "id": "52cc40c7-a1f8-48ea-b514-fc01c7b15b30",
   "metadata": {},
   "source": [
    "## Quiz"
   ]
  },
  {
   "cell_type": "markdown",
   "id": "b3f9763b-1c0d-4e77-973d-e09b9c56cb9f",
   "metadata": {},
   "source": [
    "### Quiz 1"
   ]
  },
  {
   "cell_type": "code",
   "execution_count": 156,
   "id": "4119e35d-441d-4c47-b229-463854be36ac",
   "metadata": {
    "tags": []
   },
   "outputs": [
    {
     "name": "stdout",
     "output_type": "stream",
     "text": [
      "서울\n",
      "인천\n",
      "인천\n",
      "경기\n"
     ]
    }
   ],
   "source": [
    "tel = [\"02-222-3333\", \"032-222-3333\",\"032-222-3333\",\"031-222-3333\"]\n",
    "# 02  :  서울\n",
    "# 032 : 인천\n",
    "# 031 : 경기\n",
    "\n",
    "\n",
    "a_list = [tel[n][0:3] for n in [0,1,2,3]] \n",
    "for a in a_list:\n",
    "    if a == \"02-\":\n",
    "        print('서울')\n",
    "    elif a == \"032\":\n",
    "        print('인천')\n",
    "    else :\n",
    "        print('경기')\n",
    "# tel[0][0:3]"
   ]
  },
  {
   "cell_type": "code",
   "execution_count": null,
   "id": "7c06ca4c-8aed-4dea-a01a-da2aa272b67c",
   "metadata": {},
   "outputs": [],
   "source": [
    "tel_list = [\"02-222-3333\", \"032-222-3333\",\"032-222-3333\",\"031-222-3333\"]\n",
    "# 02  :  서울\n",
    "# 032 : 인천\n",
    "# 031 : 경기\n"
   ]
  },
  {
   "cell_type": "markdown",
   "id": "d380cf90-7543-43b6-9a7b-5408142153f1",
   "metadata": {},
   "source": [
    "* 해결 1) 단순함수사용"
   ]
  },
  {
   "cell_type": "code",
   "execution_count": 165,
   "id": "aab864ad-ee90-4bee-8cae-657fea607e2a",
   "metadata": {
    "tags": []
   },
   "outputs": [
    {
     "name": "stdout",
     "output_type": "stream",
     "text": [
      "02 서울\n",
      "032 인천\n",
      "032 인천\n",
      "031 경기\n"
     ]
    }
   ],
   "source": [
    "def tel_check(tel): \n",
    "    for x in tel:\n",
    "        loc_tel = x.split('-')[0]\n",
    "        loc = '그외'\n",
    "        # print(loc_tel)\n",
    "        if loc_tel == '02':\n",
    "            loc ='서울'\n",
    "        elif loc_tel == '032':\n",
    "            loc ='인천'    \n",
    "        elif loc_tel == '031':\n",
    "            loc ='경기' \n",
    "        print(loc_tel, loc)\n",
    "tel_check(tel)\n"
   ]
  },
  {
   "cell_type": "markdown",
   "id": "b6e6e4d1-a6dc-4ee2-ab9c-267983a92043",
   "metadata": {},
   "source": [
    "* 해결2 ) 람다사용 + 사용자정의함수\n",
    "* (lambda x : lambda함수)()"
   ]
  },
  {
   "cell_type": "code",
   "execution_count": 166,
   "id": "16eea86b-da89-425b-91a9-26d9ba8e7dc1",
   "metadata": {
    "tags": []
   },
   "outputs": [
    {
     "name": "stdout",
     "output_type": "stream",
     "text": [
      "02 서울\n",
      "032 인천\n",
      "032 인천\n",
      "031 경기\n"
     ]
    }
   ],
   "source": [
    "# tel_check([\"02-222-3333\", \"032-222-3333\",\"032-222-3333\",\"031-222-3333\"])    \n",
    "(lambda x : tel_check (x))(tel_list)"
   ]
  },
  {
   "cell_type": "markdown",
   "id": "bb1eeffa-0b62-478f-8c28-36995b3239f2",
   "metadata": {},
   "source": [
    "* 해결 3 ) list(map(lambda함수,리스트))"
   ]
  },
  {
   "cell_type": "code",
   "execution_count": 162,
   "id": "e484e7d8-cd01-4ce5-b6a0-3004087c24e5",
   "metadata": {
    "tags": []
   },
   "outputs": [
    {
     "data": {
      "text/plain": [
       "[('031', '경기'), ('031', '경기'), ('031', '경기'), ('031', '경기')]"
      ]
     },
     "execution_count": 162,
     "metadata": {},
     "output_type": "execute_result"
    }
   ],
   "source": [
    "def tel_check(tel): \n",
    "    loc_tel = x.split('-')[0]\n",
    "    loc = '그외'\n",
    "    # print(loc_tel)\n",
    "    if loc_tel == '02':\n",
    "        loc ='서울'\n",
    "    elif loc_tel == '032':\n",
    "        loc ='인천'    \n",
    "    elif loc_tel == '031':\n",
    "        loc ='경기' \n",
    "    return loc_tel, loc\n",
    "\n",
    "list (map(lambda x : tel_check (x), tel))"
   ]
  },
  {
   "cell_type": "markdown",
   "id": "d2e32119-e9d8-4867-b8a0-cbf7c9693d79",
   "metadata": {},
   "source": [
    "### Quiz 2. 1~100합 출력"
   ]
  },
  {
   "cell_type": "markdown",
   "id": "05d1c757-2a09-4f9f-94b2-0908b38c50dc",
   "metadata": {},
   "source": [
    "* 해결책 1"
   ]
  },
  {
   "cell_type": "code",
   "execution_count": 179,
   "id": "6841c782-461d-496c-a7f0-f5f7d3767942",
   "metadata": {
    "tags": []
   },
   "outputs": [
    {
     "data": {
      "text/plain": [
       "5050"
      ]
     },
     "execution_count": 179,
     "metadata": {},
     "output_type": "execute_result"
    }
   ],
   "source": [
    "def summ(c):\n",
    "    a = 0\n",
    "    for n in range(1,c+1):\n",
    "            a = a+n \n",
    "    return a\n",
    "\n",
    "summ(100)"
   ]
  },
  {
   "cell_type": "markdown",
   "id": "f0d81bd6-d859-4955-9e34-d017eee51a46",
   "metadata": {},
   "source": [
    "* 해결책 2)"
   ]
  },
  {
   "cell_type": "code",
   "execution_count": 175,
   "id": "d9cbe2f0-bcc0-4f0b-ba3a-5a33183f66b3",
   "metadata": {
    "tags": []
   },
   "outputs": [
    {
     "data": {
      "text/plain": [
       "5050"
      ]
     },
     "execution_count": 175,
     "metadata": {},
     "output_type": "execute_result"
    }
   ],
   "source": [
    "(lambda x : summ (x))(100)"
   ]
  },
  {
   "cell_type": "markdown",
   "id": "68d479e5-c58a-406f-befc-9385e4a11b02",
   "metadata": {},
   "source": [
    "* 해결책 3) ----춫천"
   ]
  },
  {
   "cell_type": "code",
   "execution_count": 189,
   "id": "847d2d55-3a0b-472a-90d5-6be348ec0557",
   "metadata": {
    "tags": []
   },
   "outputs": [],
   "source": [
    "import numpy as np"
   ]
  },
  {
   "cell_type": "code",
   "execution_count": 195,
   "id": "2b079e03-e4c6-4f86-8863-7810950b7cf1",
   "metadata": {
    "tags": []
   },
   "outputs": [
    {
     "data": {
      "text/plain": [
       "5050"
      ]
     },
     "execution_count": 195,
     "metadata": {},
     "output_type": "execute_result"
    }
   ],
   "source": [
    "np.sum(range(1,101))"
   ]
  },
  {
   "cell_type": "code",
   "execution_count": 197,
   "id": "2f72b36d-f6e3-4914-ba01-b1141c96d656",
   "metadata": {
    "tags": []
   },
   "outputs": [
    {
     "data": {
      "text/plain": [
       "5050"
      ]
     },
     "execution_count": 197,
     "metadata": {},
     "output_type": "execute_result"
    }
   ],
   "source": [
    "np.sum([x for x in range(1,101)])"
   ]
  },
  {
   "cell_type": "markdown",
   "id": "a1d4375c-fb90-4a1f-845d-22538ed05275",
   "metadata": {},
   "source": [
    "*해결책 6) reduce() 누적함수"
   ]
  },
  {
   "cell_type": "code",
   "execution_count": 198,
   "id": "aa37f66f-7980-4cff-9594-e21d14333233",
   "metadata": {
    "tags": []
   },
   "outputs": [
    {
     "data": {
      "text/plain": [
       "5050"
      ]
     },
     "execution_count": 198,
     "metadata": {},
     "output_type": "execute_result"
    }
   ],
   "source": [
    "from functools import reduce\n",
    "res = reduce ((lambda s, n : s+n), [n for n in range(1,101)])\n",
    "res"
   ]
  },
  {
   "cell_type": "markdown",
   "id": "c4451ae6-8dce-468b-a486-899b748bac0c",
   "metadata": {},
   "source": [
    "# 한줄표현 "
   ]
  },
  {
   "cell_type": "markdown",
   "id": "ec06f338-dbc1-4d97-a505-44c9ba87142b",
   "metadata": {
    "tags": []
   },
   "source": [
    "## for문 한줄 표현식\n",
    "<pre>\n",
    "* [  처리부  for  n  in  [1,2,3,4] ]\n",
    "* for n in [1,2,3,4]:\n",
    "      처리부\n",
    "\n",
    "\n",
    "* frames = [ process_your_file(f)  for  f  in  files ]\n",
    "* result = pd.concat(frames)"
   ]
  },
  {
   "cell_type": "code",
   "execution_count": null,
   "id": "caaaac7f-2699-4a72-a32b-97a4df16d3cb",
   "metadata": {
    "tags": []
   },
   "outputs": [],
   "source": [
    "for dan in [2,3,4] :\n",
    "    for gob in [1,2,3]:\n",
    "        print (dan, '*', gob)"
   ]
  },
  {
   "cell_type": "code",
   "execution_count": 28,
   "id": "e0b207d2-db64-4eb6-b407-c6d661848290",
   "metadata": {
    "tags": []
   },
   "outputs": [
    {
     "name": "stdout",
     "output_type": "stream",
     "text": [
      "2 * 1\n",
      "2 * 2\n",
      "2 * 3\n",
      "3 * 1\n",
      "3 * 2\n",
      "3 * 3\n",
      "4 * 1\n",
      "4 * 2\n",
      "4 * 3\n"
     ]
    },
    {
     "data": {
      "text/plain": [
       "[None, None, None, None, None, None, None, None, None]"
      ]
     },
     "execution_count": 28,
     "metadata": {},
     "output_type": "execute_result"
    }
   ],
   "source": [
    "[    print (dan, '*', gob)    for    dan in [2,3,4]    for    gob in [1,2,3]     ]"
   ]
  },
  {
   "cell_type": "markdown",
   "id": "65819084-aaba-461c-b1d7-26d8f8e89459",
   "metadata": {},
   "source": [
    "## if문 한줄 표현식\n",
    "<pre>\n",
    "* if 조건 :\n",
    "*   처리부 if\n",
    "* else :\n",
    "*   처리부else\n",
    "\n",
    "\n",
    "* 처리부if  if 조건    else   처리부else\n",
    "* 처리부if  if 조건if  else  (처리부elif  if  조건elif  else  처리부else)"
   ]
  },
  {
   "cell_type": "code",
   "execution_count": 20,
   "id": "b2696701-ebbd-4dda-a8bd-95fdd74705af",
   "metadata": {
    "tags": []
   },
   "outputs": [
    {
     "name": "stdout",
     "output_type": "stream",
     "text": [
      "작다\n"
     ]
    }
   ],
   "source": [
    "score = 80\n",
    "if score < 90:\n",
    "    print('작다')\n",
    "else :\n",
    "    print('크다')"
   ]
  },
  {
   "cell_type": "code",
   "execution_count": 3,
   "id": "bf517c50-917b-4dcf-b4f2-eea025e2d6dd",
   "metadata": {
    "tags": []
   },
   "outputs": [
    {
     "name": "stdout",
     "output_type": "stream",
     "text": [
      "작다\n"
     ]
    }
   ],
   "source": [
    "score = 80\n",
    "print('작다' if score < 90 else '크다')"
   ]
  },
  {
   "cell_type": "code",
   "execution_count": 12,
   "id": "c9a0be67-f1cf-404b-a8c7-3875362c1f1e",
   "metadata": {},
   "outputs": [
    {
     "name": "stdout",
     "output_type": "stream",
     "text": [
      "B\n"
     ]
    }
   ],
   "source": [
    "score = 80\n",
    "if score < 90:\n",
    "    print('B')\n",
    "elif score < 80:\n",
    "    print('C')\n",
    "else :\n",
    "    print('D')"
   ]
  },
  {
   "cell_type": "code",
   "execution_count": 13,
   "id": "97fd0e49-2308-4ec8-a73d-966c94a4ce9f",
   "metadata": {
    "tags": []
   },
   "outputs": [
    {
     "name": "stdout",
     "output_type": "stream",
     "text": [
      "B\n"
     ]
    }
   ],
   "source": [
    "score = 80\n",
    "print('B' if score < 90 else ('C' if score < 80  else 'D'))"
   ]
  },
  {
   "cell_type": "markdown",
   "id": "a9c484de-2cf0-4a9d-9c7c-4119b9b87e22",
   "metadata": {},
   "source": [
    "## for + if"
   ]
  },
  {
   "cell_type": "code",
   "execution_count": 14,
   "id": "7d284d13-4f77-4000-a05a-68ebcebcdc25",
   "metadata": {
    "tags": []
   },
   "outputs": [
    {
     "name": "stdout",
     "output_type": "stream",
     "text": [
      "이\n"
     ]
    }
   ],
   "source": [
    "for n in [1,2,3]:\n",
    "    if n == 2:\n",
    "        print('이')"
   ]
  },
  {
   "cell_type": "code",
   "execution_count": 24,
   "id": "a12343ff-a33c-4dba-882a-671e82e56edb",
   "metadata": {
    "tags": []
   },
   "outputs": [
    {
     "name": "stdout",
     "output_type": "stream",
     "text": [
      "이\n"
     ]
    },
    {
     "data": {
      "text/plain": [
       "[None]"
      ]
     },
     "execution_count": 24,
     "metadata": {},
     "output_type": "execute_result"
    }
   ],
   "source": [
    "[print('이') for n in [1,2,3] if n == 2]\n",
    "## if처리문 앞으로  ---->  : 지우기  -----> 앞 뒤 []로 묶기"
   ]
  },
  {
   "cell_type": "markdown",
   "id": "fb2288fc-9aa0-4059-be5c-409d99910f01",
   "metadata": {},
   "source": [
    "## for + if else"
   ]
  },
  {
   "cell_type": "code",
   "execution_count": 25,
   "id": "fe7fedff-a9e5-4a6f-9732-24bbbce2eabb",
   "metadata": {
    "tags": []
   },
   "outputs": [
    {
     "name": "stdout",
     "output_type": "stream",
     "text": [
      "그외\n",
      "이\n",
      "그외\n"
     ]
    }
   ],
   "source": [
    "for n in [1,2,3] : \n",
    "    if n == 2:\n",
    "        print('이')\n",
    "    else:\n",
    "        print('그외')"
   ]
  },
  {
   "cell_type": "code",
   "execution_count": 31,
   "id": "72c9060b-016a-406c-9812-e1ae3762388a",
   "metadata": {
    "tags": []
   },
   "outputs": [
    {
     "name": "stdout",
     "output_type": "stream",
     "text": [
      "그외\n",
      "이\n",
      "그외\n"
     ]
    },
    {
     "data": {
      "text/plain": [
       "[None, None, None]"
      ]
     },
     "execution_count": 31,
     "metadata": {},
     "output_type": "execute_result"
    }
   ],
   "source": [
    "[print('이' if n == 2 else '그외') for n in [1,2,3]]\n",
    "## for 뒤에 처리문 (if전체)를 맨앞으로 ---->  if문 한줄표현으로"
   ]
  },
  {
   "cell_type": "markdown",
   "id": "e448f4e1-0fc3-46ac-954f-fe6899df7cef",
   "metadata": {},
   "source": [
    "# Lambda(람다)\n",
    "<pre>\n",
    "* 일회용 함수\n",
    "* unknown named function\n",
    "\n"
   ]
  },
  {
   "cell_type": "markdown",
   "id": "55743489-671f-41a2-9f00-3a2a49d14b45",
   "metadata": {},
   "source": [
    "## 람다 사용예\n",
    "* lambda 파라미터  : 표현식\n",
    "* (lambda a,b : a+b) (5,7)\n",
    "* aaa = (lambda a,b : a+b)\n",
    "* aaa(5,7)"
   ]
  },
  {
   "cell_type": "code",
   "execution_count": 32,
   "id": "d7943b91-ee15-40a1-8eb1-cf1faceac808",
   "metadata": {
    "tags": []
   },
   "outputs": [
    {
     "data": {
      "text/plain": [
       "12"
      ]
     },
     "execution_count": 32,
     "metadata": {},
     "output_type": "execute_result"
    }
   ],
   "source": [
    "def add(a,b):\n",
    "    return a+b\n",
    "add(5,7)"
   ]
  },
  {
   "cell_type": "code",
   "execution_count": 33,
   "id": "14bc7afa-a1af-45cb-ac25-826ed0378ecb",
   "metadata": {
    "tags": []
   },
   "outputs": [
    {
     "data": {
      "text/plain": [
       "'1'"
      ]
     },
     "execution_count": 33,
     "metadata": {},
     "output_type": "execute_result"
    }
   ],
   "source": [
    "def score_check(score):\n",
    "    if score > 90:\n",
    "        return '1'\n",
    "    else:\n",
    "        return '0'\n",
    "score_check(99)\n",
    "## 함수명O"
   ]
  },
  {
   "cell_type": "code",
   "execution_count": 35,
   "id": "5acca792-6ae4-4669-a403-e34f5772a030",
   "metadata": {
    "tags": []
   },
   "outputs": [
    {
     "data": {
      "text/plain": [
       "<function __main__.<lambda>(score)>"
      ]
     },
     "execution_count": 35,
     "metadata": {},
     "output_type": "execute_result"
    }
   ],
   "source": [
    "lambda score : '1' if score > 90 else '0'"
   ]
  },
  {
   "cell_type": "code",
   "execution_count": 37,
   "id": "d8de1fad-51d2-4552-8f43-ab1063ea95fa",
   "metadata": {
    "tags": []
   },
   "outputs": [
    {
     "data": {
      "text/plain": [
       "'1'"
      ]
     },
     "execution_count": 37,
     "metadata": {},
     "output_type": "execute_result"
    }
   ],
   "source": [
    "(lambda score : '1' if score > 90 else '0')(95)"
   ]
  },
  {
   "cell_type": "code",
   "execution_count": 40,
   "id": "638679e1-272b-440e-8052-c8086008da2a",
   "metadata": {
    "tags": []
   },
   "outputs": [
    {
     "data": {
      "text/plain": [
       "'0'"
      ]
     },
     "execution_count": 40,
     "metadata": {},
     "output_type": "execute_result"
    }
   ],
   "source": [
    "score_check =  (lambda score : '1' if score > 90 else '0')\n",
    "score_check(80)\n",
    "## 변수명O / 함수명X"
   ]
  },
  {
   "cell_type": "markdown",
   "id": "dfdb8af9-6a89-4a5d-9e1c-5a7cdd29207b",
   "metadata": {},
   "source": [
    "## 람다 사용예2\n",
    "* lambda 파라미터 : 함수명\n",
    "* (lambda 파라미터 : 함수명)(대입값)"
   ]
  },
  {
   "cell_type": "code",
   "execution_count": null,
   "id": "784dbcb4-7ec5-44b1-b872-6827a7c312e5",
   "metadata": {},
   "outputs": [],
   "source": [
    "def score_check(score):\n",
    "    if score > 90:\n",
    "        return '1'\n",
    "    else:\n",
    "        return '0'\n",
    "score_check(99)"
   ]
  },
  {
   "cell_type": "code",
   "execution_count": 44,
   "id": "b3a892ac-7157-4263-bc96-ccc84a284d18",
   "metadata": {
    "tags": []
   },
   "outputs": [
    {
     "data": {
      "text/plain": [
       "'1'"
      ]
     },
     "execution_count": 44,
     "metadata": {},
     "output_type": "execute_result"
    }
   ],
   "source": [
    "(lambda x : score_check(x) ) (99)"
   ]
  },
  {
   "cell_type": "markdown",
   "id": "f7498c06-b9e7-4883-9d8b-3c5389212a84",
   "metadata": {},
   "source": [
    "# Map "
   ]
  },
  {
   "cell_type": "markdown",
   "id": "41ae9108-f5d4-4a7c-9932-96c429a8d0bf",
   "metadata": {},
   "source": [
    "## map  (  lambda함수,  리스트  )\n"
   ]
  },
  {
   "cell_type": "code",
   "execution_count": 47,
   "id": "620b7a19-2174-44f1-9f4b-1359d6e00ea0",
   "metadata": {
    "tags": []
   },
   "outputs": [
    {
     "data": {
      "text/plain": [
       "[11, 12, 13, 14]"
      ]
     },
     "execution_count": 47,
     "metadata": {},
     "output_type": "execute_result"
    }
   ],
   "source": [
    "( lambda x : x+10)\n",
    "list ( map (lambda x : x+10, [1,2,3,4]) )"
   ]
  },
  {
   "cell_type": "code",
   "execution_count": 49,
   "id": "b5e357bc-7a91-4215-8f20-ce598f792f25",
   "metadata": {
    "tags": []
   },
   "outputs": [
    {
     "data": {
      "text/plain": [
       "[11, 12, 13, 14]"
      ]
     },
     "execution_count": 49,
     "metadata": {},
     "output_type": "execute_result"
    }
   ],
   "source": [
    "mymap =  map (lambda x : x+10, [1,2,3,4]) \n",
    "list(mymap)"
   ]
  },
  {
   "cell_type": "code",
   "execution_count": 48,
   "id": "6ff2e871-361d-44dd-b834-371bed0aa77e",
   "metadata": {
    "tags": []
   },
   "outputs": [
    {
     "data": {
      "text/plain": [
       "[11, 12, 13, 14]"
      ]
     },
     "execution_count": 48,
     "metadata": {},
     "output_type": "execute_result"
    }
   ],
   "source": [
    "aaa = ( lambda x : x+10)\n",
    "list ( map (aaa, [1,2,3,4]) )"
   ]
  },
  {
   "cell_type": "markdown",
   "id": "a6a4a297-73ce-4c99-93e1-06acedba0721",
   "metadata": {},
   "source": [
    "## Quiz"
   ]
  },
  {
   "cell_type": "markdown",
   "id": "58962d2a-8097-4954-bc56-119ca6997826",
   "metadata": {},
   "source": [
    "### Quiz 1"
   ]
  },
  {
   "cell_type": "code",
   "execution_count": 156,
   "id": "6049752b-6099-4709-8dfe-75fff5c5ac54",
   "metadata": {
    "tags": []
   },
   "outputs": [
    {
     "name": "stdout",
     "output_type": "stream",
     "text": [
      "서울\n",
      "인천\n",
      "인천\n",
      "경기\n"
     ]
    }
   ],
   "source": [
    "tel = [\"02-222-3333\", \"032-222-3333\",\"032-222-3333\",\"031-222-3333\"]\n",
    "# 02  :  서울\n",
    "# 032 : 인천\n",
    "# 031 : 경기\n",
    "\n",
    "\n",
    "a_list = [tel[n][0:3] for n in [0,1,2,3]] \n",
    "for a in a_list:\n",
    "    if a == \"02-\":\n",
    "        print('서울')\n",
    "    elif a == \"032\":\n",
    "        print('인천')\n",
    "    else :\n",
    "        print('경기')\n",
    "# tel[0][0:3]"
   ]
  },
  {
   "cell_type": "code",
   "execution_count": null,
   "id": "fdf8da6e-c2d3-4c64-ae9e-ba33dbe01d94",
   "metadata": {},
   "outputs": [],
   "source": [
    "tel_list = [\"02-222-3333\", \"032-222-3333\",\"032-222-3333\",\"031-222-3333\"]\n",
    "# 02  :  서울\n",
    "# 032 : 인천\n",
    "# 031 : 경기\n"
   ]
  },
  {
   "cell_type": "markdown",
   "id": "bb15f63f-534b-45cc-987f-21f96f174c4e",
   "metadata": {},
   "source": [
    "* 해결 1) 단순함수사용"
   ]
  },
  {
   "cell_type": "code",
   "execution_count": 165,
   "id": "3b5b5acb-77c0-405f-9a19-65d558912ef4",
   "metadata": {
    "tags": []
   },
   "outputs": [
    {
     "name": "stdout",
     "output_type": "stream",
     "text": [
      "02 서울\n",
      "032 인천\n",
      "032 인천\n",
      "031 경기\n"
     ]
    }
   ],
   "source": [
    "def tel_check(tel): \n",
    "    for x in tel:\n",
    "        loc_tel = x.split('-')[0]\n",
    "        loc = '그외'\n",
    "        # print(loc_tel)\n",
    "        if loc_tel == '02':\n",
    "            loc ='서울'\n",
    "        elif loc_tel == '032':\n",
    "            loc ='인천'    \n",
    "        elif loc_tel == '031':\n",
    "            loc ='경기' \n",
    "        print(loc_tel, loc)\n",
    "tel_check(tel)\n"
   ]
  },
  {
   "cell_type": "markdown",
   "id": "2977a36f-d20c-46fd-a15d-142c223b9cef",
   "metadata": {},
   "source": [
    "* 해결2 ) 람다사용 + 사용자정의함수\n",
    "* (lambda x : lambda함수)()"
   ]
  },
  {
   "cell_type": "code",
   "execution_count": 166,
   "id": "5f032b2e-065c-4e21-89e3-4ebe6f9c53d2",
   "metadata": {
    "tags": []
   },
   "outputs": [
    {
     "name": "stdout",
     "output_type": "stream",
     "text": [
      "02 서울\n",
      "032 인천\n",
      "032 인천\n",
      "031 경기\n"
     ]
    }
   ],
   "source": [
    "# tel_check([\"02-222-3333\", \"032-222-3333\",\"032-222-3333\",\"031-222-3333\"])    \n",
    "(lambda x : tel_check (x))(tel_list)"
   ]
  },
  {
   "cell_type": "markdown",
   "id": "585d6007-cb59-4cc6-b061-49a3689f9502",
   "metadata": {},
   "source": [
    "* 해결 3 ) list(map(lambda함수,리스트))"
   ]
  },
  {
   "cell_type": "code",
   "execution_count": 162,
   "id": "1f8d037b-527f-4548-91ff-42100fe36804",
   "metadata": {
    "tags": []
   },
   "outputs": [
    {
     "data": {
      "text/plain": [
       "[('031', '경기'), ('031', '경기'), ('031', '경기'), ('031', '경기')]"
      ]
     },
     "execution_count": 162,
     "metadata": {},
     "output_type": "execute_result"
    }
   ],
   "source": [
    "def tel_check(tel): \n",
    "    loc_tel = x.split('-')[0]\n",
    "    loc = '그외'\n",
    "    # print(loc_tel)\n",
    "    if loc_tel == '02':\n",
    "        loc ='서울'\n",
    "    elif loc_tel == '032':\n",
    "        loc ='인천'    \n",
    "    elif loc_tel == '031':\n",
    "        loc ='경기' \n",
    "    return loc_tel, loc\n",
    "\n",
    "list (map(lambda x : tel_check (x), tel))"
   ]
  },
  {
   "cell_type": "markdown",
   "id": "fb9958a5-cb15-4f8b-9751-457eecdc8f27",
   "metadata": {},
   "source": [
    "### Quiz 2. 1~100합 출력"
   ]
  },
  {
   "cell_type": "markdown",
   "id": "a6d7d99c-8077-4880-8df9-9324486899ae",
   "metadata": {},
   "source": [
    "* 해결책 1"
   ]
  },
  {
   "cell_type": "code",
   "execution_count": 179,
   "id": "e5ae6d99-503b-42fe-ad86-9f3e5f912ff7",
   "metadata": {
    "tags": []
   },
   "outputs": [
    {
     "data": {
      "text/plain": [
       "5050"
      ]
     },
     "execution_count": 179,
     "metadata": {},
     "output_type": "execute_result"
    }
   ],
   "source": [
    "def summ(c):\n",
    "    a = 0\n",
    "    for n in range(1,c+1):\n",
    "            a = a+n \n",
    "    return a\n",
    "\n",
    "summ(100)"
   ]
  },
  {
   "cell_type": "markdown",
   "id": "ed808c9c-ee25-4344-b406-ccf9578a2f98",
   "metadata": {},
   "source": [
    "* 해결책 2)"
   ]
  },
  {
   "cell_type": "code",
   "execution_count": 175,
   "id": "b21f7cd2-f29c-4a8b-b820-f08edc88bfdc",
   "metadata": {
    "tags": []
   },
   "outputs": [
    {
     "data": {
      "text/plain": [
       "5050"
      ]
     },
     "execution_count": 175,
     "metadata": {},
     "output_type": "execute_result"
    }
   ],
   "source": [
    "(lambda x : summ (x))(100)"
   ]
  },
  {
   "cell_type": "markdown",
   "id": "c5a376c4-4c95-4584-a520-6084b3fb7fdf",
   "metadata": {},
   "source": [
    "* 해결책 3) ----춫천"
   ]
  },
  {
   "cell_type": "code",
   "execution_count": 189,
   "id": "ec297340-aca8-4647-b5ea-789990fc92e4",
   "metadata": {
    "tags": []
   },
   "outputs": [],
   "source": [
    "import numpy as np"
   ]
  },
  {
   "cell_type": "code",
   "execution_count": 195,
   "id": "a30add96-de7c-4df1-ae90-c74832e0bab2",
   "metadata": {
    "tags": []
   },
   "outputs": [
    {
     "data": {
      "text/plain": [
       "5050"
      ]
     },
     "execution_count": 195,
     "metadata": {},
     "output_type": "execute_result"
    }
   ],
   "source": [
    "np.sum(range(1,101))"
   ]
  },
  {
   "cell_type": "code",
   "execution_count": 197,
   "id": "f8b19fdb-7a65-410c-b4d2-529f861c4ed7",
   "metadata": {
    "tags": []
   },
   "outputs": [
    {
     "data": {
      "text/plain": [
       "5050"
      ]
     },
     "execution_count": 197,
     "metadata": {},
     "output_type": "execute_result"
    }
   ],
   "source": [
    "np.sum([x for x in range(1,101)])"
   ]
  },
  {
   "cell_type": "markdown",
   "id": "82037232-d7ea-48a0-9c3f-4d964cfc4fc3",
   "metadata": {},
   "source": [
    "*해결책 6) reduce() 누적함수"
   ]
  },
  {
   "cell_type": "code",
   "execution_count": 198,
   "id": "c7a6c9d6-c0fb-4a2a-a392-e4faadba3ae7",
   "metadata": {
    "tags": []
   },
   "outputs": [
    {
     "data": {
      "text/plain": [
       "5050"
      ]
     },
     "execution_count": 198,
     "metadata": {},
     "output_type": "execute_result"
    }
   ],
   "source": [
    "from functools import reduce\n",
    "res = reduce ((lambda s, n : s+n), [n for n in range(1,101)])\n",
    "res"
   ]
  }
 ],
 "metadata": {
  "kernelspec": {
   "display_name": "Python 3 (ipykernel)",
   "language": "python",
   "name": "python3"
  },
  "language_info": {
   "codemirror_mode": {
    "name": "ipython",
    "version": 3
   },
   "file_extension": ".py",
   "mimetype": "text/x-python",
   "name": "python",
   "nbconvert_exporter": "python",
   "pygments_lexer": "ipython3",
   "version": "3.8.8"
  },
  "toc-autonumbering": true
 },
 "nbformat": 4,
 "nbformat_minor": 5
}
