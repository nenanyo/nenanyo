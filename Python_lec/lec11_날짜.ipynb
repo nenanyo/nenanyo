{
 "cells": [
  {
   "cell_type": "markdown",
   "id": "caa6af88-0102-4a86-b262-4bcc0ebdba68",
   "metadata": {},
   "source": [
    "# 날짜    "
   ]
  },
  {
   "cell_type": "code",
   "execution_count": null,
   "id": "bcfd5ca4-df65-4fab-9487-996a0dbb39aa",
   "metadata": {},
   "outputs": [],
   "source": [
    "from datetime.py import 클래스\n",
    "datetime.py에는 총  6개의 클래스가 존재\n",
    "\n",
    "* class date: 년월일\n",
    "* class datetime(date): 년월일시분초\n",
    "\n",
    "    (class date: 연월일\n",
    "    class datetime(date): 연월일시분초\n",
    "    위의 date를 상속받아 함수적용)\n",
    "    \n",
    "\n",
    "* class time: 시분초\n",
    "* class timedelta: 날짜 사이의 간격\n",
    "------------------------------------------------------------\n",
    "* class tzinfo:\n",
    "* class timezone(tzinfo):"
   ]
  },
  {
   "cell_type": "markdown",
   "id": "ab0b8f6f-5249-4c1a-b05e-fd475a189ba9",
   "metadata": {},
   "source": [
    "# (Class) Date"
   ]
  },
  {
   "cell_type": "code",
   "execution_count": null,
   "id": "5176dbba-41ae-4139-9e61-adc30849a987",
   "metadata": {},
   "outputs": [],
   "source": [
    "# from datetime import datetime  as dt # 클래스는 일반적으로 예명 사용 x"
   ]
  },
  {
   "cell_type": "code",
   "execution_count": 1,
   "id": "df32a6e6-97e2-4fe6-a679-4ef1570de085",
   "metadata": {
    "tags": []
   },
   "outputs": [],
   "source": [
    "from datetime import datetime, date # ------ 클래스 2개"
   ]
  },
  {
   "cell_type": "markdown",
   "id": "2310b708-5277-4e45-a8f0-f16560be2661",
   "metadata": {
    "tags": []
   },
   "source": [
    "<pre>\n",
    "-----------------------------------------------------------------------------------------\n",
    "    <b>DATE                          TIME                      DATETIME</b>\n",
    "-----------------------------------------------------------------------------------------\n",
    "date.today()                                                datetime.now()\n",
    "                                                            datetime.today()\n",
    "-----------------------------------------------------------------------------------------\n",
    "date.fromtimestamp()                                        datetime.fromtimestamp()\n",
    "-----------------------------------------------------------------------------------------\n",
    "<font color = red><b>\n",
    "date.strftime()                    time.strftime()          datetime.strftime()         날짜 > str\n",
    "                                                            datetime.strptime()         str > 날짜\n",
    "                                                            </font></b>\n",
    "-----------------------------------------------------------------------------------------\n",
    "date.weekday()                                              datetime.weekday()\n",
    "-----------------------------------------------------------------------------------------\n",
    "<font color = blue><b>\n",
    "date.fromisoformat()                time.fromisoformat()    datetime.fromisoformat()    str > 날짜\n",
    "</font></b>\n",
    "-----------------------------------------------------------------------------------------\n",
    "<font color = blue><b>\n",
    "date.isoformat()                    time.isoformat()        datetime.isoformat()        날짜 > str\n",
    "</font></b>\n",
    "-----------------------------------------------------------------------------------------\n",
    "                                                            datetime.date()  datetime.time() datetime.timestamp()\n",
    "-----------------------------------------------------------------------------------------       \n",
    "date.year,date.month, date.day                              datetime.year, datetime.month, datetime.day, \n",
    "-----------------------------------------------------------------------------------------\n",
    "                                    time.hour,              datetime.hour \n",
    "                                    time.minute,            datetime.minute \n",
    "                                    time.second,            datetime.second\n",
    "                                    time.microsecond        datetime.microsecond\n",
    "-----------------------------------------------------------------------------------------"
   ]
  },
  {
   "cell_type": "markdown",
   "id": "94739509-2520-47dd-bfd6-5fc63be31bdd",
   "metadata": {},
   "source": [
    "## 오늘날짜\n",
    "* date.today()\n",
    "* datetime.today() / datetime.now()"
   ]
  },
  {
   "cell_type": "code",
   "execution_count": 4,
   "id": "ab1e131b-6c48-4c4c-97a8-f0afafa4b752",
   "metadata": {
    "tags": []
   },
   "outputs": [
    {
     "data": {
      "text/plain": [
       "datetime.date(2023, 2, 15)"
      ]
     },
     "execution_count": 4,
     "metadata": {},
     "output_type": "execute_result"
    }
   ],
   "source": [
    "date.today()  #,type(date.today()) 날짜객체, 값을 꺼내 써야한다"
   ]
  },
  {
   "cell_type": "code",
   "execution_count": 7,
   "id": "d59a1edb-9e0b-4709-aeed-7180be289c62",
   "metadata": {
    "tags": []
   },
   "outputs": [
    {
     "data": {
      "text/plain": [
       "datetime.date(1970, 1, 1)"
      ]
     },
     "execution_count": 7,
     "metadata": {},
     "output_type": "execute_result"
    }
   ],
   "source": [
    "date.fromtimestamp(0)   #(1970, 1, 1)기준으로 n초 지난 날짜 변환"
   ]
  },
  {
   "cell_type": "markdown",
   "id": "cfb8ee58-6061-44a8-a761-ed72e03f8d86",
   "metadata": {
    "tags": []
   },
   "source": [
    "## date 형변환\n",
    "<font color = red><b>\n",
    "* str > date : date.fromisoformat('2023-02-15') \n",
    "* date > str : date.today( ).isoformat( )          ------ 기본 ('%Y-%m-%d') \n",
    "* date > str : date.today( ).strftime('%Y-%m-%d') ------ 내가 원하는 형식\n",
    "</font></b>"
   ]
  },
  {
   "cell_type": "markdown",
   "id": "5bc15b13-64e9-43d8-b276-04b88ca300dc",
   "metadata": {},
   "source": [
    "* 날짜 --> 글자 타입변환 **********************\n",
    "* 기본 포맷"
   ]
  },
  {
   "cell_type": "code",
   "execution_count": 98,
   "id": "b6d7db90-57f3-489e-8e3f-bab1e4b51772",
   "metadata": {
    "tags": []
   },
   "outputs": [
    {
     "data": {
      "text/plain": [
       "'2023-02-15'"
      ]
     },
     "execution_count": 98,
     "metadata": {},
     "output_type": "execute_result"
    }
   ],
   "source": [
    "date.today().isoformat()\n",
    "# type(date.today().isoformat())"
   ]
  },
  {
   "cell_type": "markdown",
   "id": "5e806ada-efe8-4acd-9097-eca2451f6dc5",
   "metadata": {},
   "source": [
    "* 날짜의 포맷변경\n",
    "* 날짜 ----> 글자*************************\n",
    "* 내가 정한 포맷\n",
    "* select to_char(sysdate, 'YYYY-MM-DD HH24:MI:SS) from dual;"
   ]
  },
  {
   "cell_type": "code",
   "execution_count": 99,
   "id": "2ca1c16f-5223-4874-91c5-b9e9ec880f43",
   "metadata": {
    "tags": []
   },
   "outputs": [
    {
     "data": {
      "text/plain": [
       "'2023-02-15'"
      ]
     },
     "execution_count": 99,
     "metadata": {},
     "output_type": "execute_result"
    }
   ],
   "source": [
    "date.today().strftime('%Y-%m-%d')\n",
    "# type(date.today().strftime('%Y-%m-%d'))"
   ]
  },
  {
   "cell_type": "markdown",
   "id": "62242a39-4c70-42e5-b793-38c43d563bd1",
   "metadata": {},
   "source": [
    "* 글자 --> 날짜 타입변환 **********************"
   ]
  },
  {
   "cell_type": "code",
   "execution_count": 18,
   "id": "c8f23763-9489-4ee4-a01a-2ba3987d4475",
   "metadata": {
    "tags": []
   },
   "outputs": [
    {
     "data": {
      "text/plain": [
       "datetime.date(2023, 2, 15)"
      ]
     },
     "execution_count": 18,
     "metadata": {},
     "output_type": "execute_result"
    }
   ],
   "source": [
    "date.fromisoformat('2023-02-15')  \n",
    "# str을 날짜객체로 바꿈"
   ]
  },
  {
   "cell_type": "markdown",
   "id": "114fb79f-d8d5-4fd4-9cf7-3a5db1def8d3",
   "metadata": {},
   "source": [
    "* weekday(self)\n",
    "* 요일을 정수로 반환(월 0/일 6)"
   ]
  },
  {
   "cell_type": "code",
   "execution_count": 16,
   "id": "cc6e1a8a-635b-42b3-938e-14fd2c97c2a6",
   "metadata": {
    "tags": []
   },
   "outputs": [
    {
     "data": {
      "text/plain": [
       "2"
      ]
     },
     "execution_count": 16,
     "metadata": {},
     "output_type": "execute_result"
    }
   ],
   "source": [
    "# def weekday(self)\n",
    "# d = date\n",
    "# d.weekday(date.today())\n",
    "\n",
    "date.today().weekday()\n",
    "# 오늘 요일 알아보기"
   ]
  },
  {
   "cell_type": "code",
   "execution_count": 17,
   "id": "89113689-b81b-44b6-9c27-b772ddc928e1",
   "metadata": {
    "tags": []
   },
   "outputs": [
    {
     "data": {
      "text/plain": [
       "6"
      ]
     },
     "execution_count": 17,
     "metadata": {},
     "output_type": "execute_result"
    }
   ],
   "source": [
    "date(2022,12,25).weekday()\n",
    "# 특정 날짜 요일 알아보기"
   ]
  },
  {
   "cell_type": "markdown",
   "id": "6567a31b-41fd-4441-8fb1-e9c810403e14",
   "metadata": {},
   "source": [
    "## 변수 : 년월일"
   ]
  },
  {
   "cell_type": "code",
   "execution_count": 23,
   "id": "f52a316b-104d-4d5d-9bf9-565989c198b0",
   "metadata": {
    "tags": []
   },
   "outputs": [
    {
     "data": {
      "text/plain": [
       "2023"
      ]
     },
     "execution_count": 23,
     "metadata": {},
     "output_type": "execute_result"
    }
   ],
   "source": [
    "date.today().year"
   ]
  },
  {
   "cell_type": "code",
   "execution_count": 24,
   "id": "e61ab08a-0128-4f66-8674-6cd7f25b210a",
   "metadata": {
    "tags": []
   },
   "outputs": [
    {
     "data": {
      "text/plain": [
       "2"
      ]
     },
     "execution_count": 24,
     "metadata": {},
     "output_type": "execute_result"
    }
   ],
   "source": [
    "date.today().month"
   ]
  },
  {
   "cell_type": "code",
   "execution_count": 25,
   "id": "902684fa-f14d-4022-9ba7-2c537fe9acb7",
   "metadata": {
    "tags": []
   },
   "outputs": [
    {
     "data": {
      "text/plain": [
       "15"
      ]
     },
     "execution_count": 25,
     "metadata": {},
     "output_type": "execute_result"
    }
   ],
   "source": [
    "date.today().day"
   ]
  },
  {
   "cell_type": "markdown",
   "id": "85f96670-f3d6-40be-9f6f-a826e7af3bd1",
   "metadata": {},
   "source": [
    "# (Class) Datetime"
   ]
  },
  {
   "cell_type": "markdown",
   "id": "a0275132-5a8d-4bd5-83ac-9e59f0ec41e1",
   "metadata": {},
   "source": [
    "## 오늘날짜와 시간"
   ]
  },
  {
   "cell_type": "code",
   "execution_count": 36,
   "id": "07af2bec-48cf-4196-a711-fa81a49b3718",
   "metadata": {
    "tags": []
   },
   "outputs": [
    {
     "data": {
      "text/plain": [
       "datetime.datetime(2023, 2, 15, 12, 56, 26, 304718)"
      ]
     },
     "execution_count": 36,
     "metadata": {},
     "output_type": "execute_result"
    }
   ],
   "source": [
    "datetime.now()\n",
    "# datetime.today()\n",
    "# type(datetime.now())\n",
    "## ---모듈.클래스"
   ]
  },
  {
   "cell_type": "code",
   "execution_count": 38,
   "id": "8f093840-1efc-4ce6-8864-feb1d54f4f4d",
   "metadata": {
    "tags": []
   },
   "outputs": [
    {
     "data": {
      "text/plain": [
       "datetime.datetime(1970, 1, 1, 9, 0)"
      ]
     },
     "execution_count": 38,
     "metadata": {},
     "output_type": "execute_result"
    }
   ],
   "source": [
    "datetime.fromtimestamp(0) #(1970, 1, 1)기준으로 n초 지난 날짜,시분초 날짜 변환"
   ]
  },
  {
   "cell_type": "markdown",
   "id": "5fdb5502-221b-4cbc-9cdf-c5720cb77c66",
   "metadata": {},
   "source": [
    "## datetime 형변환\n",
    "* date > str : datetime.today( ).strftime('%Y-%m-%d') ------ 내가 원하는 형식\n",
    "* date > str : datetime.today( ).isoformat( )          ------ 기본 ('%Y-%m-%d') \n",
    "* str > date : datetime.today( ).striptime('%Y-%m-%d %H-%M-%S') ------ 내가 원하는 형식\n",
    "* str > date : datetime.today( ).fromisoformat('2023-02-15') "
   ]
  },
  {
   "cell_type": "markdown",
   "id": "fdb00b72-2496-40e4-88d7-3872de0e5435",
   "metadata": {},
   "source": [
    "* 날짜 > str 포맷변환"
   ]
  },
  {
   "cell_type": "code",
   "execution_count": 54,
   "id": "39cd7807-b0f5-49f5-b650-437df06a6b65",
   "metadata": {
    "tags": []
   },
   "outputs": [
    {
     "data": {
      "text/plain": [
       "'2023-02-15T13:08:57.223468'"
      ]
     },
     "execution_count": 54,
     "metadata": {},
     "output_type": "execute_result"
    }
   ],
   "source": [
    "datetime.now().isoformat()"
   ]
  },
  {
   "cell_type": "markdown",
   "id": "714a6d87-7f25-472b-8ea7-eeaf76893dbe",
   "metadata": {},
   "source": [
    "* 날짜 > str 포맷변환"
   ]
  },
  {
   "cell_type": "code",
   "execution_count": 42,
   "id": "7f421f35-c617-40b7-ae12-61c6a1ff25a6",
   "metadata": {
    "tags": []
   },
   "outputs": [
    {
     "data": {
      "text/plain": [
       "'2023-02-15 13:00:05'"
      ]
     },
     "execution_count": 42,
     "metadata": {},
     "output_type": "execute_result"
    }
   ],
   "source": [
    "datetime.now().strftime('%Y-%m-%d %H:%M:%S') "
   ]
  },
  {
   "cell_type": "markdown",
   "id": "df25606b-6329-4823-90e2-804966a83093",
   "metadata": {
    "tags": []
   },
   "source": [
    "* str >날짜 포맷변환\n",
    "* select to_date('2023-02-15', 'YYYY-MM-DD') from dual;"
   ]
  },
  {
   "cell_type": "code",
   "execution_count": 102,
   "id": "aad3e621-1cd1-4879-8aac-65cf5292fb3f",
   "metadata": {
    "tags": []
   },
   "outputs": [
    {
     "data": {
      "text/plain": [
       "datetime.datetime(2023, 2, 15, 22, 15, 15)"
      ]
     },
     "execution_count": 102,
     "metadata": {},
     "output_type": "execute_result"
    }
   ],
   "source": [
    "datetime.strptime('2023-02-15 22:15:15', '%Y-%m-%d %H:%M:%S')"
   ]
  },
  {
   "cell_type": "markdown",
   "id": "081f0d66-7d65-4712-b0ba-e3759af4abf3",
   "metadata": {},
   "source": [
    "* str >날짜 포맷변환"
   ]
  },
  {
   "cell_type": "code",
   "execution_count": 52,
   "id": "f820abc1-45fb-4dd9-a354-12c40723c7fd",
   "metadata": {
    "tags": []
   },
   "outputs": [
    {
     "data": {
      "text/plain": [
       "datetime.datetime(2023, 2, 15, 22, 15, 15)"
      ]
     },
     "execution_count": 52,
     "metadata": {},
     "output_type": "execute_result"
    }
   ],
   "source": [
    "datetime.fromisoformat('2023-02-15 22:15:15')"
   ]
  },
  {
   "cell_type": "code",
   "execution_count": 49,
   "id": "03bbba8c-fdca-499c-b3ee-fcb5291bef19",
   "metadata": {
    "tags": []
   },
   "outputs": [
    {
     "data": {
      "text/plain": [
       "2"
      ]
     },
     "execution_count": 49,
     "metadata": {},
     "output_type": "execute_result"
    }
   ],
   "source": [
    "datetime.now().weekday()"
   ]
  },
  {
   "cell_type": "code",
   "execution_count": 56,
   "id": "32a8e565-4d68-4f54-bf3d-b4d4643001b6",
   "metadata": {
    "tags": []
   },
   "outputs": [
    {
     "data": {
      "text/plain": [
       "datetime.date(2023, 2, 15)"
      ]
     },
     "execution_count": 56,
     "metadata": {},
     "output_type": "execute_result"
    }
   ],
   "source": [
    "datetime.now().date()  "
   ]
  },
  {
   "cell_type": "code",
   "execution_count": 59,
   "id": "5736ef1e-c490-4e30-a13e-5fdc52c56d5f",
   "metadata": {
    "tags": []
   },
   "outputs": [
    {
     "data": {
      "text/plain": [
       "datetime.time(13, 12, 5, 551093)"
      ]
     },
     "execution_count": 59,
     "metadata": {},
     "output_type": "execute_result"
    }
   ],
   "source": [
    "datetime.now().time()"
   ]
  },
  {
   "cell_type": "code",
   "execution_count": 63,
   "id": "d63a59a3-f4f5-4ebb-b620-6b2c2a5e8fa9",
   "metadata": {
    "tags": []
   },
   "outputs": [
    {
     "data": {
      "text/plain": [
       "<function datetime.timestamp>"
      ]
     },
     "execution_count": 63,
     "metadata": {},
     "output_type": "execute_result"
    }
   ],
   "source": [
    "datetime.now().timestamp\n",
    "# (1970, 1, 1)기준으로 몇초인지"
   ]
  },
  {
   "cell_type": "markdown",
   "id": "e7f387e4-4e1c-4ceb-974a-19bc955722a7",
   "metadata": {},
   "source": [
    "## 변수  : 년월일시분초\n",
    "* year, month, day, hour, minutes, seconds, microseconds"
   ]
  },
  {
   "cell_type": "code",
   "execution_count": 33,
   "id": "8bf1fd15-303d-4b7f-b8a7-1cc9522ab642",
   "metadata": {
    "tags": []
   },
   "outputs": [
    {
     "data": {
      "text/plain": [
       "2023"
      ]
     },
     "execution_count": 33,
     "metadata": {},
     "output_type": "execute_result"
    }
   ],
   "source": [
    "# ss = datetime.now()\n",
    "# ss.year"
   ]
  },
  {
   "cell_type": "code",
   "execution_count": null,
   "id": "871bf46a-21bf-45f5-bd72-f7f28d51919c",
   "metadata": {},
   "outputs": [],
   "source": [
    "datetime.now().year"
   ]
  },
  {
   "cell_type": "code",
   "execution_count": null,
   "id": "f623ba93-aae4-4d5a-82f1-6dfc1e52fc1c",
   "metadata": {},
   "outputs": [],
   "source": [
    "datetime.now().month"
   ]
  },
  {
   "cell_type": "code",
   "execution_count": null,
   "id": "a380f32e-e5d9-4506-b5b1-87b1676e6acb",
   "metadata": {},
   "outputs": [],
   "source": [
    "datetime.now().day"
   ]
  },
  {
   "cell_type": "code",
   "execution_count": null,
   "id": "5ffe92f1-0817-4f43-851b-be9d988ac946",
   "metadata": {},
   "outputs": [],
   "source": [
    "datetime.now().hour"
   ]
  },
  {
   "cell_type": "code",
   "execution_count": null,
   "id": "2ade3c3b-f180-4c66-bc2f-4e281b5cd986",
   "metadata": {},
   "outputs": [],
   "source": [
    "datetime.now().minute"
   ]
  },
  {
   "cell_type": "code",
   "execution_count": null,
   "id": "db1b8685-e366-47a5-96bc-44381714084f",
   "metadata": {},
   "outputs": [],
   "source": [
    "datetime.now().second"
   ]
  },
  {
   "cell_type": "code",
   "execution_count": 64,
   "id": "06bfaaff-40b5-44d9-85bf-184cfbda0774",
   "metadata": {
    "tags": []
   },
   "outputs": [
    {
     "data": {
      "text/plain": [
       "194100"
      ]
     },
     "execution_count": 64,
     "metadata": {},
     "output_type": "execute_result"
    }
   ],
   "source": [
    "datetime.now().microsecond\n",
    "# 1/1000 초"
   ]
  },
  {
   "cell_type": "markdown",
   "id": "d2085813-1a60-4d54-a23d-75b2ad2faac8",
   "metadata": {},
   "source": [
    "# (Class) timedelta\n",
    "* days=0, seconds=0, microseconds=0, milliseconds=0, minutes=0, hours=0, weeks=0"
   ]
  },
  {
   "cell_type": "code",
   "execution_count": null,
   "id": "1fccd8e1-1aec-4175-b812-49517db0f8ac",
   "metadata": {
    "tags": []
   },
   "outputs": [],
   "source": [
    "next_day = timedelta(days = 3)\n",
    "next_week = timedelta(weeks=1)\n",
    "next_hour = timedelta(hours=1)"
   ]
  },
  {
   "cell_type": "code",
   "execution_count": 104,
   "id": "ab92c84f-34db-468e-899d-38eb653d441c",
   "metadata": {},
   "outputs": [
    {
     "data": {
      "text/plain": [
       "datetime.date(2023, 2, 18)"
      ]
     },
     "execution_count": 104,
     "metadata": {},
     "output_type": "execute_result"
    }
   ],
   "source": [
    "date.today() + next_day"
   ]
  },
  {
   "cell_type": "code",
   "execution_count": 103,
   "id": "5fe254a5-ee78-47b0-a24f-8f8c3d3dc593",
   "metadata": {},
   "outputs": [
    {
     "data": {
      "text/plain": [
       "datetime.date(2023, 2, 22)"
      ]
     },
     "execution_count": 103,
     "metadata": {},
     "output_type": "execute_result"
    }
   ],
   "source": [
    "date.today() + next_week"
   ]
  },
  {
   "cell_type": "code",
   "execution_count": 105,
   "id": "f9f5e3a7-77fd-464e-8992-735bbe0ed190",
   "metadata": {
    "tags": []
   },
   "outputs": [
    {
     "data": {
      "text/plain": [
       "datetime.datetime(2023, 2, 15, 18, 54, 7, 319066)"
      ]
     },
     "execution_count": 105,
     "metadata": {},
     "output_type": "execute_result"
    }
   ],
   "source": [
    "datetime.today() + next_hour"
   ]
  },
  {
   "cell_type": "markdown",
   "id": "4c96d53c-fc05-49dc-9188-7b417eef29b6",
   "metadata": {},
   "source": [
    "# 번외\n",
    "<pre>\n",
    "* (Class) relativedelta\n",
    "dt1=None, dt2=None,\n",
    "                  years=0, months=0, days=0, leapdays=0, weeks=0,\n",
    "                  hours=0, minutes=0, seconds=0, microseconds=0,\n",
    "                  year=None, month=None, day=None, weekday=None,\n",
    "                  yearday=None, nlyearday=None,\n",
    "                  hour=None, minute=None, second=None, microsecond=None"
   ]
  },
  {
   "cell_type": "code",
   "execution_count": 83,
   "id": "8ac3ac4c-7a9e-4fe2-855c-9dd910295576",
   "metadata": {
    "tags": []
   },
   "outputs": [],
   "source": [
    "from dateutil.relativedelta import relativedelta\n",
    "from datetime import datetime"
   ]
  },
  {
   "cell_type": "code",
   "execution_count": 106,
   "id": "6743b460-8d09-495e-b8de-fe200a4457a7",
   "metadata": {
    "tags": []
   },
   "outputs": [
    {
     "data": {
      "text/plain": [
       "(datetime.datetime(2023, 2, 15, 17, 58, 3, 680478),\n",
       " datetime.datetime(2020, 1, 1, 0, 0))"
      ]
     },
     "execution_count": 106,
     "metadata": {},
     "output_type": "execute_result"
    }
   ],
   "source": [
    "dt1 = datetime.today()\n",
    "dt2 = datetime(2020,1,1)\n",
    "dt1, dt2"
   ]
  },
  {
   "cell_type": "markdown",
   "id": "73b14938-153d-4567-a51c-bfed20827862",
   "metadata": {},
   "source": [
    "* 날짜 연산"
   ]
  },
  {
   "cell_type": "code",
   "execution_count": 107,
   "id": "9d287a90-c55e-457e-8a75-7fe05817b5b7",
   "metadata": {
    "tags": []
   },
   "outputs": [
    {
     "data": {
      "text/plain": [
       "datetime.datetime(2023, 2, 16, 17, 59, 9, 916662)"
      ]
     },
     "execution_count": 107,
     "metadata": {},
     "output_type": "execute_result"
    }
   ],
   "source": [
    "dt1 = datetime.today()\n",
    "next_days = relativedelta(days = 1)\n",
    "dt1 + next_days"
   ]
  },
  {
   "cell_type": "code",
   "execution_count": 108,
   "id": "b20fcb6b-3026-4001-af23-544993f3cebb",
   "metadata": {
    "tags": []
   },
   "outputs": [
    {
     "data": {
      "text/plain": [
       "datetime.datetime(2023, 5, 15, 17, 59, 9, 916662)"
      ]
     },
     "execution_count": 108,
     "metadata": {},
     "output_type": "execute_result"
    }
   ],
   "source": [
    "next_months = relativedelta(months = 3)\n",
    "dt1 + next_months"
   ]
  },
  {
   "cell_type": "code",
   "execution_count": 109,
   "id": "581584f2-3555-4628-b2e3-57470f04dbe1",
   "metadata": {
    "tags": []
   },
   "outputs": [
    {
     "data": {
      "text/plain": [
       "relativedelta(years=+3, months=+1, days=+14, hours=+17, minutes=+59, seconds=+9, microseconds=+916662)"
      ]
     },
     "execution_count": 109,
     "metadata": {},
     "output_type": "execute_result"
    }
   ],
   "source": [
    "relativedelta(dt1, dt2)"
   ]
  },
  {
   "cell_type": "code",
   "execution_count": null,
   "id": "6caf4053-5dc2-4fd8-8cf7-31602c09932f",
   "metadata": {},
   "outputs": [],
   "source": []
  },
  {
   "cell_type": "code",
   "execution_count": null,
   "id": "04f18f2e-136c-4785-abd5-cbdc04d6304f",
   "metadata": {},
   "outputs": [],
   "source": []
  },
  {
   "cell_type": "code",
   "execution_count": null,
   "id": "109ea122-9d28-415c-8bb3-b443c3d3fca5",
   "metadata": {},
   "outputs": [],
   "source": []
  }
 ],
 "metadata": {
  "kernelspec": {
   "display_name": "Python 3 (ipykernel)",
   "language": "python",
   "name": "python3"
  },
  "language_info": {
   "codemirror_mode": {
    "name": "ipython",
    "version": 3
   },
   "file_extension": ".py",
   "mimetype": "text/x-python",
   "name": "python",
   "nbconvert_exporter": "python",
   "pygments_lexer": "ipython3",
   "version": "3.8.8"
  }
 },
 "nbformat": 4,
 "nbformat_minor": 5
}
