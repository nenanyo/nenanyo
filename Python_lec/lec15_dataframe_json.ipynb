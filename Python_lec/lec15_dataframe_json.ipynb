{
 "cells": [
  {
   "cell_type": "code",
   "execution_count": 1,
   "id": "fc3716ed-a506-4227-b716-de0779fa10ea",
   "metadata": {
    "tags": []
   },
   "outputs": [],
   "source": [
    "import numpy as np\n",
    "import pandas as pd\n",
    "\n",
    "import warnings\n",
    "warnings.filterwarnings(action='ignore')\n",
    "\n",
    "import json"
   ]
  },
  {
   "cell_type": "markdown",
   "id": "203e2f34-3bdc-4c1f-8782-4d16d5d6aa55",
   "metadata": {},
   "source": [
    "# Converter(변환)"
   ]
  },
  {
   "cell_type": "code",
   "execution_count": 8,
   "id": "2d1a6798-b940-46d3-b6e7-2e911bf0977f",
   "metadata": {
    "tags": []
   },
   "outputs": [
    {
     "data": {
      "text/html": [
       "<div>\n",
       "<style scoped>\n",
       "    .dataframe tbody tr th:only-of-type {\n",
       "        vertical-align: middle;\n",
       "    }\n",
       "\n",
       "    .dataframe tbody tr th {\n",
       "        vertical-align: top;\n",
       "    }\n",
       "\n",
       "    .dataframe thead th {\n",
       "        text-align: right;\n",
       "    }\n",
       "</style>\n",
       "<table border=\"1\" class=\"dataframe\">\n",
       "  <thead>\n",
       "    <tr style=\"text-align: right;\">\n",
       "      <th></th>\n",
       "      <th>uid</th>\n",
       "      <th>upw</th>\n",
       "    </tr>\n",
       "  </thead>\n",
       "  <tbody>\n",
       "    <tr>\n",
       "      <th>idx77</th>\n",
       "      <td>kim</td>\n",
       "      <td>111</td>\n",
       "    </tr>\n",
       "    <tr>\n",
       "      <th>idx88</th>\n",
       "      <td>hong</td>\n",
       "      <td>222</td>\n",
       "    </tr>\n",
       "  </tbody>\n",
       "</table>\n",
       "</div>"
      ],
      "text/plain": [
       "        uid  upw\n",
       "idx77   kim  111\n",
       "idx88  hong  222"
      ]
     },
     "execution_count": 8,
     "metadata": {},
     "output_type": "execute_result"
    }
   ],
   "source": [
    "listdic = [ {\"uid\":\"kim\" , \"upw\": 111} ,\n",
    "            {\"uid\":\"hong\", \"upw\": 222}   \n",
    "          ]\n",
    "df = pd.DataFrame(listdic, index=['idx77','idx88'])\n",
    "# df.index = ['77','88']\n",
    "df"
   ]
  },
  {
   "cell_type": "code",
   "execution_count": 10,
   "id": "c823c8fa-9085-4396-93f5-57cccac34568",
   "metadata": {
    "tags": []
   },
   "outputs": [
    {
     "data": {
      "text/plain": [
       "str"
      ]
     },
     "execution_count": 10,
     "metadata": {},
     "output_type": "execute_result"
    }
   ],
   "source": [
    "df.to_json()\n",
    "type(df.to_json())\n",
    "### listdic >>> str"
   ]
  },
  {
   "cell_type": "code",
   "execution_count": 11,
   "id": "5f8ced3e-8b2b-4e68-a495-88eac434a323",
   "metadata": {
    "tags": []
   },
   "outputs": [
    {
     "data": {
      "text/plain": [
       "{'uid': {'idx77': 'kim', 'idx88': 'hong'}, 'upw': {'idx77': 111, 'idx88': 222}}"
      ]
     },
     "execution_count": 11,
     "metadata": {},
     "output_type": "execute_result"
    }
   ],
   "source": [
    "json.loads(df.to_json())\n",
    "### str >>> dict"
   ]
  },
  {
   "cell_type": "markdown",
   "id": "45ddb12e-36f2-40d3-a33c-c554b60a94ac",
   "metadata": {},
   "source": [
    "* Orient = 'records' : index고려하지 않음"
   ]
  },
  {
   "cell_type": "code",
   "execution_count": 12,
   "id": "73d56ea8-ddbf-423c-b4a5-981e5f2102cd",
   "metadata": {
    "tags": []
   },
   "outputs": [
    {
     "data": {
      "text/plain": [
       "'[{\"uid\":\"kim\",\"upw\":111},{\"uid\":\"hong\",\"upw\":222}]'"
      ]
     },
     "execution_count": 12,
     "metadata": {},
     "output_type": "execute_result"
    }
   ],
   "source": [
    "df.to_json(orient = 'records')"
   ]
  },
  {
   "cell_type": "code",
   "execution_count": null,
   "id": "9937f64b-d79c-45c7-b31c-93089cf8bcb8",
   "metadata": {},
   "outputs": [],
   "source": [
    "* JSON 데이터를 파일에 쓰기"
   ]
  },
  {
   "cell_type": "code",
   "execution_count": 13,
   "id": "58956355-61f2-42ef-a946-cf83e69479a1",
   "metadata": {
    "tags": []
   },
   "outputs": [],
   "source": [
    "# data=df.to_json(orient = 'records')\n",
    "# with open('./lec15_data.json','w') as f:\n",
    "#     f.write('data')\n",
    "# ## 할필요없다, to_json()에 이미 있는 기능"
   ]
  },
  {
   "cell_type": "code",
   "execution_count": 14,
   "id": "f717085f-ca39-40ae-93ff-6e0abda2663c",
   "metadata": {
    "tags": []
   },
   "outputs": [],
   "source": [
    "df.to_json('./lec15_data2.json',orient = 'records')\n",
    "## 춫천"
   ]
  },
  {
   "cell_type": "code",
   "execution_count": null,
   "id": "d5d440e4-9bc1-4db8-956a-fe5495d6e8a4",
   "metadata": {},
   "outputs": [],
   "source": [
    "* JSON 데이터 파일을 읽기"
   ]
  },
  {
   "cell_type": "code",
   "execution_count": 16,
   "id": "9d4448a1-2bf0-44c4-920d-07a5a867aa9f",
   "metadata": {
    "tags": []
   },
   "outputs": [
    {
     "data": {
      "text/html": [
       "<div>\n",
       "<style scoped>\n",
       "    .dataframe tbody tr th:only-of-type {\n",
       "        vertical-align: middle;\n",
       "    }\n",
       "\n",
       "    .dataframe tbody tr th {\n",
       "        vertical-align: top;\n",
       "    }\n",
       "\n",
       "    .dataframe thead th {\n",
       "        text-align: right;\n",
       "    }\n",
       "</style>\n",
       "<table border=\"1\" class=\"dataframe\">\n",
       "  <thead>\n",
       "    <tr style=\"text-align: right;\">\n",
       "      <th></th>\n",
       "      <th>uid</th>\n",
       "      <th>upw</th>\n",
       "    </tr>\n",
       "  </thead>\n",
       "  <tbody>\n",
       "    <tr>\n",
       "      <th>0</th>\n",
       "      <td>kim</td>\n",
       "      <td>111</td>\n",
       "    </tr>\n",
       "    <tr>\n",
       "      <th>1</th>\n",
       "      <td>hong</td>\n",
       "      <td>222</td>\n",
       "    </tr>\n",
       "  </tbody>\n",
       "</table>\n",
       "</div>"
      ],
      "text/plain": [
       "    uid  upw\n",
       "0   kim  111\n",
       "1  hong  222"
      ]
     },
     "execution_count": 16,
     "metadata": {},
     "output_type": "execute_result"
    }
   ],
   "source": [
    "pd.read_json('./lec15_data2.json')"
   ]
  },
  {
   "cell_type": "code",
   "execution_count": null,
   "id": "82dd3c40-7ae0-4da3-9a99-c3b912f694ac",
   "metadata": {},
   "outputs": [],
   "source": []
  },
  {
   "cell_type": "code",
   "execution_count": null,
   "id": "bb814971-48cf-4757-a81c-fce823c59f3b",
   "metadata": {},
   "outputs": [],
   "source": []
  }
 ],
 "metadata": {
  "kernelspec": {
   "display_name": "Python 3 (ipykernel)",
   "language": "python",
   "name": "python3"
  },
  "language_info": {
   "codemirror_mode": {
    "name": "ipython",
    "version": 3
   },
   "file_extension": ".py",
   "mimetype": "text/x-python",
   "name": "python",
   "nbconvert_exporter": "python",
   "pygments_lexer": "ipython3",
   "version": "3.8.8"
  }
 },
 "nbformat": 4,
 "nbformat_minor": 5
}
