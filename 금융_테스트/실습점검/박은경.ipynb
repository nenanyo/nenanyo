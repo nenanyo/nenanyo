{
 "cells": [
  {
   "cell_type": "markdown",
   "id": "a4231e74-7cd3-4bcc-bf9e-273e152d0480",
   "metadata": {},
   "source": [
    "<pre>\n",
    "주식, 채권 비율 %\n",
    "수익률 리스크 확인"
   ]
  },
  {
   "cell_type": "code",
   "execution_count": 1,
   "id": "6659f8ae-67e7-4081-975c-629e95645fa0",
   "metadata": {
    "tags": []
   },
   "outputs": [
    {
     "data": {
      "text/html": [
       "<style>.container{width:100% !important;}</style>"
      ],
      "text/plain": [
       "<IPython.core.display.HTML object>"
      ]
     },
     "metadata": {},
     "output_type": "display_data"
    }
   ],
   "source": [
    "from IPython.display import Image\n",
    "import pandas as pd\n",
    "import numpy as np\n",
    "import matplotlib.pyplot as plt\n",
    "import seaborn as sns\n",
    "\n",
    "\n",
    "import warnings\n",
    "warnings.filterwarnings(action='ignore')\n",
    "sns.set()\n",
    "\n",
    "#-------------------- 차트 관련 속성 (한글처리, 그리드) -----------\n",
    "#plt.rc('font', family='NanumGothicOTF') # For MacOS\n",
    "plt.rcParams['font.family']= 'Malgun Gothic'\n",
    "plt.rcParams['axes.unicode_minus'] = False\n",
    "\n",
    "\n",
    "#-------------------- 주피터 , 출력결과 넓이 늘리기 ---------------\n",
    "from IPython.core.display import display, HTML\n",
    "display(HTML(\"<style>.container{width:100% !important;}</style>\"))\n",
    "pd.set_option('display.max_rows', 100)\n",
    "pd.set_option('display.max_columns', 100)\n",
    "pd.set_option('max_colwidth', None)"
   ]
  },
  {
   "cell_type": "code",
   "execution_count": 3,
   "id": "a8732ff4-ecda-4148-8785-82bab673d6a6",
   "metadata": {
    "tags": []
   },
   "outputs": [],
   "source": [
    "sdf = pd.read_csv(\"./datasets/kodex_stock.csv\")\n",
    "bdf = pd.read_csv(\"./datasets/kodex_bond10y.csv\")"
   ]
  },
  {
   "cell_type": "code",
   "execution_count": 4,
   "id": "81bf78a3-8ea3-4850-8805-730a1d2d551c",
   "metadata": {
    "tags": []
   },
   "outputs": [
    {
     "data": {
      "text/plain": [
       "((1845, 6), (1845, 6))"
      ]
     },
     "execution_count": 4,
     "metadata": {},
     "output_type": "execute_result"
    }
   ],
   "source": [
    "sdf.shape, bdf.shape"
   ]
  },
  {
   "cell_type": "code",
   "execution_count": 6,
   "id": "75d7169c-3874-499d-af37-ee7a8c2f9a35",
   "metadata": {
    "tags": []
   },
   "outputs": [
    {
     "data": {
      "text/html": [
       "<div>\n",
       "<style scoped>\n",
       "    .dataframe tbody tr th:only-of-type {\n",
       "        vertical-align: middle;\n",
       "    }\n",
       "\n",
       "    .dataframe tbody tr th {\n",
       "        vertical-align: top;\n",
       "    }\n",
       "\n",
       "    .dataframe thead th {\n",
       "        text-align: right;\n",
       "    }\n",
       "</style>\n",
       "<table border=\"1\" class=\"dataframe\">\n",
       "  <thead>\n",
       "    <tr style=\"text-align: right;\">\n",
       "      <th></th>\n",
       "      <th>dt</th>\n",
       "      <th>close</th>\n",
       "      <th>high</th>\n",
       "      <th>low</th>\n",
       "      <th>open</th>\n",
       "      <th>volume</th>\n",
       "    </tr>\n",
       "  </thead>\n",
       "  <tbody>\n",
       "    <tr>\n",
       "      <th>0</th>\n",
       "      <td>2012-01-20</td>\n",
       "      <td>49960.0</td>\n",
       "      <td>50040.0</td>\n",
       "      <td>49960.0</td>\n",
       "      <td>50040.0</td>\n",
       "      <td>3276.0</td>\n",
       "    </tr>\n",
       "    <tr>\n",
       "      <th>1</th>\n",
       "      <td>2012-01-25</td>\n",
       "      <td>49960.0</td>\n",
       "      <td>49960.0</td>\n",
       "      <td>49960.0</td>\n",
       "      <td>49960.0</td>\n",
       "      <td>100.0</td>\n",
       "    </tr>\n",
       "    <tr>\n",
       "      <th>2</th>\n",
       "      <td>2012-01-26</td>\n",
       "      <td>49930.0</td>\n",
       "      <td>49985.0</td>\n",
       "      <td>49925.0</td>\n",
       "      <td>49960.0</td>\n",
       "      <td>1161.0</td>\n",
       "    </tr>\n",
       "    <tr>\n",
       "      <th>3</th>\n",
       "      <td>2012-01-27</td>\n",
       "      <td>50000.0</td>\n",
       "      <td>57200.0</td>\n",
       "      <td>49810.0</td>\n",
       "      <td>57200.0</td>\n",
       "      <td>104.0</td>\n",
       "    </tr>\n",
       "    <tr>\n",
       "      <th>4</th>\n",
       "      <td>2012-01-30</td>\n",
       "      <td>50130.0</td>\n",
       "      <td>50130.0</td>\n",
       "      <td>50000.0</td>\n",
       "      <td>50000.0</td>\n",
       "      <td>1080.0</td>\n",
       "    </tr>\n",
       "  </tbody>\n",
       "</table>\n",
       "</div>"
      ],
      "text/plain": [
       "           dt    close     high      low     open  volume\n",
       "0  2012-01-20  49960.0  50040.0  49960.0  50040.0  3276.0\n",
       "1  2012-01-25  49960.0  49960.0  49960.0  49960.0   100.0\n",
       "2  2012-01-26  49930.0  49985.0  49925.0  49960.0  1161.0\n",
       "3  2012-01-27  50000.0  57200.0  49810.0  57200.0   104.0\n",
       "4  2012-01-30  50130.0  50130.0  50000.0  50000.0  1080.0"
      ]
     },
     "execution_count": 6,
     "metadata": {},
     "output_type": "execute_result"
    }
   ],
   "source": [
    "sdf.head()"
   ]
  },
  {
   "cell_type": "code",
   "execution_count": null,
   "id": "3d85808a-a1da-4c1a-9c25-0f26457bbfa9",
   "metadata": {},
   "outputs": [
    {
     "data": {
      "text/html": [
       "<div>\n",
       "<style scoped>\n",
       "    .dataframe tbody tr th:only-of-type {\n",
       "        vertical-align: middle;\n",
       "    }\n",
       "\n",
       "    .dataframe tbody tr th {\n",
       "        vertical-align: top;\n",
       "    }\n",
       "\n",
       "    .dataframe thead th {\n",
       "        text-align: right;\n",
       "    }\n",
       "</style>\n",
       "<table border=\"1\" class=\"dataframe\">\n",
       "  <thead>\n",
       "    <tr style=\"text-align: right;\">\n",
       "      <th></th>\n",
       "      <th>dt</th>\n",
       "      <th>close</th>\n",
       "      <th>high</th>\n",
       "      <th>low</th>\n",
       "      <th>open</th>\n",
       "      <th>volume</th>\n",
       "    </tr>\n",
       "  </thead>\n",
       "  <tbody>\n",
       "    <tr>\n",
       "      <th>0</th>\n",
       "      <td>2012-01-20</td>\n",
       "      <td>23197.4</td>\n",
       "      <td>23264.1</td>\n",
       "      <td>22801.9</td>\n",
       "      <td>22833.0</td>\n",
       "      <td>5205309.50</td>\n",
       "    </tr>\n",
       "    <tr>\n",
       "      <th>1</th>\n",
       "      <td>2012-01-25</td>\n",
       "      <td>23277.4</td>\n",
       "      <td>23539.6</td>\n",
       "      <td>23161.9</td>\n",
       "      <td>23197.4</td>\n",
       "      <td>7721437.00</td>\n",
       "    </tr>\n",
       "    <tr>\n",
       "      <th>2</th>\n",
       "      <td>2012-01-26</td>\n",
       "      <td>23299.6</td>\n",
       "      <td>23428.5</td>\n",
       "      <td>23237.4</td>\n",
       "      <td>23428.5</td>\n",
       "      <td>2162210.50</td>\n",
       "    </tr>\n",
       "    <tr>\n",
       "      <th>3</th>\n",
       "      <td>2012-01-27</td>\n",
       "      <td>23335.2</td>\n",
       "      <td>23419.6</td>\n",
       "      <td>23206.3</td>\n",
       "      <td>23419.6</td>\n",
       "      <td>3456417.50</td>\n",
       "    </tr>\n",
       "    <tr>\n",
       "      <th>4</th>\n",
       "      <td>2012-01-30</td>\n",
       "      <td>23073.0</td>\n",
       "      <td>23308.5</td>\n",
       "      <td>23050.8</td>\n",
       "      <td>23241.9</td>\n",
       "      <td>2899746.25</td>\n",
       "    </tr>\n",
       "  </tbody>\n",
       "</table>\n",
       "</div>"
      ],
      "text/plain": [
       "           dt    close     high      low     open      volume\n",
       "0  2012-01-20  23197.4  23264.1  22801.9  22833.0  5205309.50\n",
       "1  2012-01-25  23277.4  23539.6  23161.9  23197.4  7721437.00\n",
       "2  2012-01-26  23299.6  23428.5  23237.4  23428.5  2162210.50\n",
       "3  2012-01-27  23335.2  23419.6  23206.3  23419.6  3456417.50\n",
       "4  2012-01-30  23073.0  23308.5  23050.8  23241.9  2899746.25"
      ]
     },
     "execution_count": 7,
     "metadata": {},
     "output_type": "execute_result"
    }
   ],
   "source": [
    "bdf.head()"
   ]
  },
  {
   "cell_type": "markdown",
   "id": "7b499496-ca3c-490b-b0e7-2473bf08686f",
   "metadata": {},
   "source": [
    "# 수익률 (주식 & 채권)"
   ]
  },
  {
   "cell_type": "markdown",
   "id": "b0448fbf-77c5-4e48-a68c-768d5c4447b9",
   "metadata": {},
   "source": [
    "## 누적수익률"
   ]
  },
  {
   "cell_type": "code",
   "execution_count": 11,
   "id": "3047511a-c87c-4007-961f-884b75d04e54",
   "metadata": {
    "tags": []
   },
   "outputs": [
    {
     "data": {
      "text/html": [
       "<div>\n",
       "<style scoped>\n",
       "    .dataframe tbody tr th:only-of-type {\n",
       "        vertical-align: middle;\n",
       "    }\n",
       "\n",
       "    .dataframe tbody tr th {\n",
       "        vertical-align: top;\n",
       "    }\n",
       "\n",
       "    .dataframe thead th {\n",
       "        text-align: right;\n",
       "    }\n",
       "</style>\n",
       "<table border=\"1\" class=\"dataframe\">\n",
       "  <thead>\n",
       "    <tr style=\"text-align: right;\">\n",
       "      <th></th>\n",
       "      <th>dt</th>\n",
       "      <th>close</th>\n",
       "      <th>high</th>\n",
       "      <th>low</th>\n",
       "      <th>open</th>\n",
       "      <th>volume</th>\n",
       "      <th>수익률_chg</th>\n",
       "      <th>누적수익률</th>\n",
       "      <th>로그수익률</th>\n",
       "      <th>누적로그수익률</th>\n",
       "    </tr>\n",
       "  </thead>\n",
       "  <tbody>\n",
       "    <tr>\n",
       "      <th>0</th>\n",
       "      <td>2012-01-20</td>\n",
       "      <td>49960.0</td>\n",
       "      <td>50040.0</td>\n",
       "      <td>49960.0</td>\n",
       "      <td>50040.0</td>\n",
       "      <td>3276.0</td>\n",
       "      <td>NaN</td>\n",
       "      <td>NaN</td>\n",
       "      <td>NaN</td>\n",
       "      <td>NaN</td>\n",
       "    </tr>\n",
       "    <tr>\n",
       "      <th>1</th>\n",
       "      <td>2012-01-25</td>\n",
       "      <td>49960.0</td>\n",
       "      <td>49960.0</td>\n",
       "      <td>49960.0</td>\n",
       "      <td>49960.0</td>\n",
       "      <td>100.0</td>\n",
       "      <td>0.000000</td>\n",
       "      <td>0.000000</td>\n",
       "      <td>0.000000</td>\n",
       "      <td>0.000000</td>\n",
       "    </tr>\n",
       "    <tr>\n",
       "      <th>2</th>\n",
       "      <td>2012-01-26</td>\n",
       "      <td>49930.0</td>\n",
       "      <td>49985.0</td>\n",
       "      <td>49925.0</td>\n",
       "      <td>49960.0</td>\n",
       "      <td>1161.0</td>\n",
       "      <td>-0.000600</td>\n",
       "      <td>-0.060048</td>\n",
       "      <td>-0.000601</td>\n",
       "      <td>-0.060066</td>\n",
       "    </tr>\n",
       "    <tr>\n",
       "      <th>3</th>\n",
       "      <td>2012-01-27</td>\n",
       "      <td>50000.0</td>\n",
       "      <td>57200.0</td>\n",
       "      <td>49810.0</td>\n",
       "      <td>57200.0</td>\n",
       "      <td>104.0</td>\n",
       "      <td>0.001402</td>\n",
       "      <td>0.080064</td>\n",
       "      <td>0.001401</td>\n",
       "      <td>0.080032</td>\n",
       "    </tr>\n",
       "    <tr>\n",
       "      <th>4</th>\n",
       "      <td>2012-01-30</td>\n",
       "      <td>50130.0</td>\n",
       "      <td>50130.0</td>\n",
       "      <td>50000.0</td>\n",
       "      <td>50000.0</td>\n",
       "      <td>1080.0</td>\n",
       "      <td>0.002600</td>\n",
       "      <td>0.340272</td>\n",
       "      <td>0.002597</td>\n",
       "      <td>0.339695</td>\n",
       "    </tr>\n",
       "    <tr>\n",
       "      <th>...</th>\n",
       "      <td>...</td>\n",
       "      <td>...</td>\n",
       "      <td>...</td>\n",
       "      <td>...</td>\n",
       "      <td>...</td>\n",
       "      <td>...</td>\n",
       "      <td>...</td>\n",
       "      <td>...</td>\n",
       "      <td>...</td>\n",
       "      <td>...</td>\n",
       "    </tr>\n",
       "    <tr>\n",
       "      <th>1840</th>\n",
       "      <td>2019-07-17</td>\n",
       "      <td>71210.0</td>\n",
       "      <td>71220.0</td>\n",
       "      <td>71070.0</td>\n",
       "      <td>71080.0</td>\n",
       "      <td>344.0</td>\n",
       "      <td>0.002181</td>\n",
       "      <td>42.534027</td>\n",
       "      <td>0.002179</td>\n",
       "      <td>35.441057</td>\n",
       "    </tr>\n",
       "    <tr>\n",
       "      <th>1841</th>\n",
       "      <td>2019-07-18</td>\n",
       "      <td>71665.0</td>\n",
       "      <td>71665.0</td>\n",
       "      <td>71290.0</td>\n",
       "      <td>71290.0</td>\n",
       "      <td>1516.0</td>\n",
       "      <td>0.006390</td>\n",
       "      <td>43.444756</td>\n",
       "      <td>0.006369</td>\n",
       "      <td>36.077980</td>\n",
       "    </tr>\n",
       "    <tr>\n",
       "      <th>1842</th>\n",
       "      <td>2019-07-19</td>\n",
       "      <td>71770.0</td>\n",
       "      <td>71850.0</td>\n",
       "      <td>71670.0</td>\n",
       "      <td>71670.0</td>\n",
       "      <td>15083.0</td>\n",
       "      <td>0.001465</td>\n",
       "      <td>43.654924</td>\n",
       "      <td>0.001464</td>\n",
       "      <td>36.224388</td>\n",
       "    </tr>\n",
       "    <tr>\n",
       "      <th>1843</th>\n",
       "      <td>2019-07-22</td>\n",
       "      <td>71685.0</td>\n",
       "      <td>71755.0</td>\n",
       "      <td>71685.0</td>\n",
       "      <td>71740.0</td>\n",
       "      <td>1461.0</td>\n",
       "      <td>-0.001184</td>\n",
       "      <td>43.484788</td>\n",
       "      <td>-0.001185</td>\n",
       "      <td>36.105884</td>\n",
       "    </tr>\n",
       "    <tr>\n",
       "      <th>1844</th>\n",
       "      <td>2019-07-23</td>\n",
       "      <td>71675.0</td>\n",
       "      <td>71740.0</td>\n",
       "      <td>71675.0</td>\n",
       "      <td>71730.0</td>\n",
       "      <td>1687.0</td>\n",
       "      <td>-0.000139</td>\n",
       "      <td>43.464772</td>\n",
       "      <td>-0.000140</td>\n",
       "      <td>36.091933</td>\n",
       "    </tr>\n",
       "  </tbody>\n",
       "</table>\n",
       "<p>1845 rows × 10 columns</p>\n",
       "</div>"
      ],
      "text/plain": [
       "              dt    close     high      low     open   volume   수익률_chg  \\\n",
       "0     2012-01-20  49960.0  50040.0  49960.0  50040.0   3276.0       NaN   \n",
       "1     2012-01-25  49960.0  49960.0  49960.0  49960.0    100.0  0.000000   \n",
       "2     2012-01-26  49930.0  49985.0  49925.0  49960.0   1161.0 -0.000600   \n",
       "3     2012-01-27  50000.0  57200.0  49810.0  57200.0    104.0  0.001402   \n",
       "4     2012-01-30  50130.0  50130.0  50000.0  50000.0   1080.0  0.002600   \n",
       "...          ...      ...      ...      ...      ...      ...       ...   \n",
       "1840  2019-07-17  71210.0  71220.0  71070.0  71080.0    344.0  0.002181   \n",
       "1841  2019-07-18  71665.0  71665.0  71290.0  71290.0   1516.0  0.006390   \n",
       "1842  2019-07-19  71770.0  71850.0  71670.0  71670.0  15083.0  0.001465   \n",
       "1843  2019-07-22  71685.0  71755.0  71685.0  71740.0   1461.0 -0.001184   \n",
       "1844  2019-07-23  71675.0  71740.0  71675.0  71730.0   1687.0 -0.000139   \n",
       "\n",
       "          누적수익률     로그수익률    누적로그수익률  \n",
       "0           NaN       NaN        NaN  \n",
       "1      0.000000  0.000000   0.000000  \n",
       "2     -0.060048 -0.000601  -0.060066  \n",
       "3      0.080064  0.001401   0.080032  \n",
       "4      0.340272  0.002597   0.339695  \n",
       "...         ...       ...        ...  \n",
       "1840  42.534027  0.002179  35.441057  \n",
       "1841  43.444756  0.006369  36.077980  \n",
       "1842  43.654924  0.001464  36.224388  \n",
       "1843  43.484788 -0.001185  36.105884  \n",
       "1844  43.464772 -0.000140  36.091933  \n",
       "\n",
       "[1845 rows x 10 columns]"
      ]
     },
     "execution_count": 11,
     "metadata": {},
     "output_type": "execute_result"
    }
   ],
   "source": [
    "sdf['수익률_chg'] = sdf['close'].pct_change()\n",
    "r = sdf['수익률_chg']\n",
    "sdf['누적수익률']  =( (1+r).cumprod() - 1 ) *100\n",
    "sdf['로그수익률']  = np.log( 1+r) \n",
    "sdf['누적로그수익률']  =  np.log( 1+r).cumsum() *100\n",
    "sdf"
   ]
  },
  {
   "cell_type": "code",
   "execution_count": 12,
   "id": "56d6b8db-b924-447b-bcac-4424935fca4d",
   "metadata": {
    "tags": []
   },
   "outputs": [
    {
     "data": {
      "text/html": [
       "<div>\n",
       "<style scoped>\n",
       "    .dataframe tbody tr th:only-of-type {\n",
       "        vertical-align: middle;\n",
       "    }\n",
       "\n",
       "    .dataframe tbody tr th {\n",
       "        vertical-align: top;\n",
       "    }\n",
       "\n",
       "    .dataframe thead th {\n",
       "        text-align: right;\n",
       "    }\n",
       "</style>\n",
       "<table border=\"1\" class=\"dataframe\">\n",
       "  <thead>\n",
       "    <tr style=\"text-align: right;\">\n",
       "      <th></th>\n",
       "      <th>dt</th>\n",
       "      <th>close</th>\n",
       "      <th>high</th>\n",
       "      <th>low</th>\n",
       "      <th>open</th>\n",
       "      <th>volume</th>\n",
       "      <th>수익률_chg</th>\n",
       "      <th>누적수익률</th>\n",
       "      <th>로그수익률</th>\n",
       "      <th>누적로그수익률</th>\n",
       "    </tr>\n",
       "  </thead>\n",
       "  <tbody>\n",
       "    <tr>\n",
       "      <th>0</th>\n",
       "      <td>2012-01-20</td>\n",
       "      <td>23197.4</td>\n",
       "      <td>23264.1</td>\n",
       "      <td>22801.9</td>\n",
       "      <td>22833.0</td>\n",
       "      <td>5205309.50</td>\n",
       "      <td>NaN</td>\n",
       "      <td>NaN</td>\n",
       "      <td>NaN</td>\n",
       "      <td>NaN</td>\n",
       "    </tr>\n",
       "    <tr>\n",
       "      <th>1</th>\n",
       "      <td>2012-01-25</td>\n",
       "      <td>23277.4</td>\n",
       "      <td>23539.6</td>\n",
       "      <td>23161.9</td>\n",
       "      <td>23197.4</td>\n",
       "      <td>7721437.00</td>\n",
       "      <td>0.003449</td>\n",
       "      <td>0.344866</td>\n",
       "      <td>0.003443</td>\n",
       "      <td>0.344273</td>\n",
       "    </tr>\n",
       "    <tr>\n",
       "      <th>2</th>\n",
       "      <td>2012-01-26</td>\n",
       "      <td>23299.6</td>\n",
       "      <td>23428.5</td>\n",
       "      <td>23237.4</td>\n",
       "      <td>23428.5</td>\n",
       "      <td>2162210.50</td>\n",
       "      <td>0.000954</td>\n",
       "      <td>0.440567</td>\n",
       "      <td>0.000953</td>\n",
       "      <td>0.439599</td>\n",
       "    </tr>\n",
       "    <tr>\n",
       "      <th>3</th>\n",
       "      <td>2012-01-27</td>\n",
       "      <td>23335.2</td>\n",
       "      <td>23419.6</td>\n",
       "      <td>23206.3</td>\n",
       "      <td>23419.6</td>\n",
       "      <td>3456417.50</td>\n",
       "      <td>0.001528</td>\n",
       "      <td>0.594032</td>\n",
       "      <td>0.001527</td>\n",
       "      <td>0.592275</td>\n",
       "    </tr>\n",
       "    <tr>\n",
       "      <th>4</th>\n",
       "      <td>2012-01-30</td>\n",
       "      <td>23073.0</td>\n",
       "      <td>23308.5</td>\n",
       "      <td>23050.8</td>\n",
       "      <td>23241.9</td>\n",
       "      <td>2899746.25</td>\n",
       "      <td>-0.011236</td>\n",
       "      <td>-0.536267</td>\n",
       "      <td>-0.011300</td>\n",
       "      <td>-0.537710</td>\n",
       "    </tr>\n",
       "    <tr>\n",
       "      <th>...</th>\n",
       "      <td>...</td>\n",
       "      <td>...</td>\n",
       "      <td>...</td>\n",
       "      <td>...</td>\n",
       "      <td>...</td>\n",
       "      <td>...</td>\n",
       "      <td>...</td>\n",
       "      <td>...</td>\n",
       "      <td>...</td>\n",
       "      <td>...</td>\n",
       "    </tr>\n",
       "    <tr>\n",
       "      <th>1840</th>\n",
       "      <td>2019-07-17</td>\n",
       "      <td>27225.0</td>\n",
       "      <td>27340.0</td>\n",
       "      <td>27130.0</td>\n",
       "      <td>27310.0</td>\n",
       "      <td>1886297.00</td>\n",
       "      <td>-0.008919</td>\n",
       "      <td>17.362291</td>\n",
       "      <td>-0.008959</td>\n",
       "      <td>16.009547</td>\n",
       "    </tr>\n",
       "    <tr>\n",
       "      <th>1841</th>\n",
       "      <td>2019-07-18</td>\n",
       "      <td>27165.0</td>\n",
       "      <td>27260.0</td>\n",
       "      <td>27065.0</td>\n",
       "      <td>27180.0</td>\n",
       "      <td>2290347.00</td>\n",
       "      <td>-0.002204</td>\n",
       "      <td>17.103641</td>\n",
       "      <td>-0.002206</td>\n",
       "      <td>15.788918</td>\n",
       "    </tr>\n",
       "    <tr>\n",
       "      <th>1842</th>\n",
       "      <td>2019-07-19</td>\n",
       "      <td>27545.0</td>\n",
       "      <td>27610.0</td>\n",
       "      <td>27315.0</td>\n",
       "      <td>27315.0</td>\n",
       "      <td>2532920.00</td>\n",
       "      <td>0.013989</td>\n",
       "      <td>18.741756</td>\n",
       "      <td>0.013892</td>\n",
       "      <td>17.178083</td>\n",
       "    </tr>\n",
       "    <tr>\n",
       "      <th>1843</th>\n",
       "      <td>2019-07-22</td>\n",
       "      <td>27535.0</td>\n",
       "      <td>27620.0</td>\n",
       "      <td>27435.0</td>\n",
       "      <td>27470.0</td>\n",
       "      <td>1797628.00</td>\n",
       "      <td>-0.000363</td>\n",
       "      <td>18.698647</td>\n",
       "      <td>-0.000363</td>\n",
       "      <td>17.141772</td>\n",
       "    </tr>\n",
       "    <tr>\n",
       "      <th>1844</th>\n",
       "      <td>2019-07-23</td>\n",
       "      <td>27670.0</td>\n",
       "      <td>27755.0</td>\n",
       "      <td>27555.0</td>\n",
       "      <td>27600.0</td>\n",
       "      <td>2450359.00</td>\n",
       "      <td>0.004903</td>\n",
       "      <td>19.280609</td>\n",
       "      <td>0.004891</td>\n",
       "      <td>17.630859</td>\n",
       "    </tr>\n",
       "  </tbody>\n",
       "</table>\n",
       "<p>1845 rows × 10 columns</p>\n",
       "</div>"
      ],
      "text/plain": [
       "              dt    close     high      low     open      volume   수익률_chg  \\\n",
       "0     2012-01-20  23197.4  23264.1  22801.9  22833.0  5205309.50       NaN   \n",
       "1     2012-01-25  23277.4  23539.6  23161.9  23197.4  7721437.00  0.003449   \n",
       "2     2012-01-26  23299.6  23428.5  23237.4  23428.5  2162210.50  0.000954   \n",
       "3     2012-01-27  23335.2  23419.6  23206.3  23419.6  3456417.50  0.001528   \n",
       "4     2012-01-30  23073.0  23308.5  23050.8  23241.9  2899746.25 -0.011236   \n",
       "...          ...      ...      ...      ...      ...         ...       ...   \n",
       "1840  2019-07-17  27225.0  27340.0  27130.0  27310.0  1886297.00 -0.008919   \n",
       "1841  2019-07-18  27165.0  27260.0  27065.0  27180.0  2290347.00 -0.002204   \n",
       "1842  2019-07-19  27545.0  27610.0  27315.0  27315.0  2532920.00  0.013989   \n",
       "1843  2019-07-22  27535.0  27620.0  27435.0  27470.0  1797628.00 -0.000363   \n",
       "1844  2019-07-23  27670.0  27755.0  27555.0  27600.0  2450359.00  0.004903   \n",
       "\n",
       "          누적수익률     로그수익률    누적로그수익률  \n",
       "0           NaN       NaN        NaN  \n",
       "1      0.344866  0.003443   0.344273  \n",
       "2      0.440567  0.000953   0.439599  \n",
       "3      0.594032  0.001527   0.592275  \n",
       "4     -0.536267 -0.011300  -0.537710  \n",
       "...         ...       ...        ...  \n",
       "1840  17.362291 -0.008959  16.009547  \n",
       "1841  17.103641 -0.002206  15.788918  \n",
       "1842  18.741756  0.013892  17.178083  \n",
       "1843  18.698647 -0.000363  17.141772  \n",
       "1844  19.280609  0.004891  17.630859  \n",
       "\n",
       "[1845 rows x 10 columns]"
      ]
     },
     "execution_count": 12,
     "metadata": {},
     "output_type": "execute_result"
    }
   ],
   "source": [
    "bdf['수익률_chg'] = bdf['close'].pct_change()\n",
    "r = bdf['수익률_chg']\n",
    "bdf['누적수익률']  =( (1+r).cumprod() - 1 ) *100\n",
    "bdf['로그수익률']  = np.log( 1+r) \n",
    "bdf['누적로그수익률']  =  np.log( 1+r).cumsum() *100\n",
    "bdf"
   ]
  },
  {
   "cell_type": "markdown",
   "id": "2fc01639-e458-459d-9a02-28738252f018",
   "metadata": {},
   "source": [
    "## 수익률 차트"
   ]
  },
  {
   "cell_type": "code",
   "execution_count": 13,
   "id": "f4aa8df7-91f0-47d0-835d-7ad82093370d",
   "metadata": {
    "tags": []
   },
   "outputs": [],
   "source": [
    "plt.rcParams['font.family']= 'Malgun Gothic'\n",
    "plt.rcParams['axes.unicode_minus'] = False"
   ]
  },
  {
   "cell_type": "code",
   "execution_count": 14,
   "id": "8ade4dc2-0438-4396-a038-998d3333544d",
   "metadata": {
    "tags": []
   },
   "outputs": [
    {
     "data": {
      "image/png": "[encoded data removed]",
      "text/plain": [
       "<Figure size 1000x500 with 3 Axes>"
      ]
     },
     "metadata": {},
     "output_type": "display_data"
    }
   ],
   "source": [
    "plt.figure(figsize=(10, 5))\n",
    "plt.subplot(1,3,1)\n",
    "plt.plot(sdf['close'])\n",
    "\n",
    "plt.subplot(1,3,2)\n",
    "# (1+r).pct_change() -1\n",
    "plt.plot( sdf['누적수익률'])\n",
    "\n",
    "plt.subplot(1,3,3)\n",
    "# np.log(1 + r)\n",
    "plt.plot(  sdf['누적로그수익률'] )\n",
    "\n",
    "plt.show()"
   ]
  },
  {
   "cell_type": "code",
   "execution_count": 15,
   "id": "41f8be72-244b-4ae7-93a8-5e046150caf2",
   "metadata": {
    "tags": []
   },
   "outputs": [
    {
     "data": {
      "image/png": "[encoded data removed]",
      "text/plain": [
       "<Figure size 1000x500 with 3 Axes>"
      ]
     },
     "metadata": {},
     "output_type": "display_data"
    }
   ],
   "source": [
    "plt.figure(figsize=(10, 5))\n",
    "plt.subplot(1,3,1)\n",
    "plt.plot(bdf['close'])\n",
    "\n",
    "plt.subplot(1,3,2)\n",
    "# (1+r).pct_change() -1\n",
    "plt.plot( bdf['누적수익률'])\n",
    "\n",
    "plt.subplot(1,3,3)\n",
    "# np.log(1 + r)\n",
    "plt.plot(  bdf['누적로그수익률'] )\n",
    "\n",
    "plt.show()"
   ]
  },
  {
   "cell_type": "markdown",
   "id": "d7954602-889c-44fe-b1dd-b90c9f7fa7c2",
   "metadata": {},
   "source": [
    "# 포트폴리오"
   ]
  },
  {
   "cell_type": "code",
   "execution_count": 16,
   "id": "116222d8-3913-4b94-9536-ac108c5ff216",
   "metadata": {
    "tags": []
   },
   "outputs": [],
   "source": [
    "sdf = pd.read_csv(\"./datasets/kodex_stock.csv\")\n",
    "bdf = pd.read_csv(\"./datasets/kodex_bond10y.csv\")"
   ]
  },
  {
   "cell_type": "code",
   "execution_count": 18,
   "id": "a59a72c8-3f98-438e-8895-499682bbab3a",
   "metadata": {
    "tags": []
   },
   "outputs": [
    {
     "data": {
      "text/html": [
       "<div>\n",
       "<style scoped>\n",
       "    .dataframe tbody tr th:only-of-type {\n",
       "        vertical-align: middle;\n",
       "    }\n",
       "\n",
       "    .dataframe tbody tr th {\n",
       "        vertical-align: top;\n",
       "    }\n",
       "\n",
       "    .dataframe thead th {\n",
       "        text-align: right;\n",
       "    }\n",
       "</style>\n",
       "<table border=\"1\" class=\"dataframe\">\n",
       "  <thead>\n",
       "    <tr style=\"text-align: right;\">\n",
       "      <th></th>\n",
       "      <th>dt</th>\n",
       "      <th>close</th>\n",
       "      <th>high</th>\n",
       "      <th>low</th>\n",
       "      <th>open</th>\n",
       "      <th>volume</th>\n",
       "    </tr>\n",
       "  </thead>\n",
       "  <tbody>\n",
       "    <tr>\n",
       "      <th>0</th>\n",
       "      <td>2012-01-20</td>\n",
       "      <td>49960.0</td>\n",
       "      <td>50040.0</td>\n",
       "      <td>49960.0</td>\n",
       "      <td>50040.0</td>\n",
       "      <td>3276.0</td>\n",
       "    </tr>\n",
       "    <tr>\n",
       "      <th>1</th>\n",
       "      <td>2012-01-25</td>\n",
       "      <td>49960.0</td>\n",
       "      <td>49960.0</td>\n",
       "      <td>49960.0</td>\n",
       "      <td>49960.0</td>\n",
       "      <td>100.0</td>\n",
       "    </tr>\n",
       "  </tbody>\n",
       "</table>\n",
       "</div>"
      ],
      "text/plain": [
       "           dt    close     high      low     open  volume\n",
       "0  2012-01-20  49960.0  50040.0  49960.0  50040.0  3276.0\n",
       "1  2012-01-25  49960.0  49960.0  49960.0  49960.0   100.0"
      ]
     },
     "execution_count": 18,
     "metadata": {},
     "output_type": "execute_result"
    }
   ],
   "source": [
    "sdf.head(2)"
   ]
  },
  {
   "cell_type": "code",
   "execution_count": 21,
   "id": "0a81cabb-27fb-4c72-9272-c08c5206cbdd",
   "metadata": {
    "tags": []
   },
   "outputs": [],
   "source": [
    "sdf=sdf.drop(['high','low','open','volume'],axis=1)"
   ]
  },
  {
   "cell_type": "code",
   "execution_count": 22,
   "id": "92661f3f-125f-49ff-9071-a333f642ae20",
   "metadata": {
    "tags": []
   },
   "outputs": [],
   "source": [
    "sdf.rename(columns={'close':'주식종가'},inplace=True)"
   ]
  },
  {
   "cell_type": "code",
   "execution_count": 23,
   "id": "781903d4-e7c2-4306-9a93-f5484834b8c3",
   "metadata": {
    "tags": []
   },
   "outputs": [
    {
     "data": {
      "text/html": [
       "<div>\n",
       "<style scoped>\n",
       "    .dataframe tbody tr th:only-of-type {\n",
       "        vertical-align: middle;\n",
       "    }\n",
       "\n",
       "    .dataframe tbody tr th {\n",
       "        vertical-align: top;\n",
       "    }\n",
       "\n",
       "    .dataframe thead th {\n",
       "        text-align: right;\n",
       "    }\n",
       "</style>\n",
       "<table border=\"1\" class=\"dataframe\">\n",
       "  <thead>\n",
       "    <tr style=\"text-align: right;\">\n",
       "      <th></th>\n",
       "      <th>dt</th>\n",
       "      <th>주식종가</th>\n",
       "    </tr>\n",
       "  </thead>\n",
       "  <tbody>\n",
       "    <tr>\n",
       "      <th>0</th>\n",
       "      <td>2012-01-20</td>\n",
       "      <td>49960.0</td>\n",
       "    </tr>\n",
       "    <tr>\n",
       "      <th>1</th>\n",
       "      <td>2012-01-25</td>\n",
       "      <td>49960.0</td>\n",
       "    </tr>\n",
       "  </tbody>\n",
       "</table>\n",
       "</div>"
      ],
      "text/plain": [
       "           dt     주식종가\n",
       "0  2012-01-20  49960.0\n",
       "1  2012-01-25  49960.0"
      ]
     },
     "execution_count": 23,
     "metadata": {},
     "output_type": "execute_result"
    }
   ],
   "source": [
    "sdf.head(2)"
   ]
  },
  {
   "cell_type": "code",
   "execution_count": 19,
   "id": "534c6fe7-1c2a-49af-843c-62df08d7f7b3",
   "metadata": {
    "tags": []
   },
   "outputs": [
    {
     "data": {
      "text/html": [
       "<div>\n",
       "<style scoped>\n",
       "    .dataframe tbody tr th:only-of-type {\n",
       "        vertical-align: middle;\n",
       "    }\n",
       "\n",
       "    .dataframe tbody tr th {\n",
       "        vertical-align: top;\n",
       "    }\n",
       "\n",
       "    .dataframe thead th {\n",
       "        text-align: right;\n",
       "    }\n",
       "</style>\n",
       "<table border=\"1\" class=\"dataframe\">\n",
       "  <thead>\n",
       "    <tr style=\"text-align: right;\">\n",
       "      <th></th>\n",
       "      <th>dt</th>\n",
       "      <th>close</th>\n",
       "      <th>high</th>\n",
       "      <th>low</th>\n",
       "      <th>open</th>\n",
       "      <th>volume</th>\n",
       "    </tr>\n",
       "  </thead>\n",
       "  <tbody>\n",
       "    <tr>\n",
       "      <th>0</th>\n",
       "      <td>2012-01-20</td>\n",
       "      <td>23197.4</td>\n",
       "      <td>23264.1</td>\n",
       "      <td>22801.9</td>\n",
       "      <td>22833.0</td>\n",
       "      <td>5205309.5</td>\n",
       "    </tr>\n",
       "    <tr>\n",
       "      <th>1</th>\n",
       "      <td>2012-01-25</td>\n",
       "      <td>23277.4</td>\n",
       "      <td>23539.6</td>\n",
       "      <td>23161.9</td>\n",
       "      <td>23197.4</td>\n",
       "      <td>7721437.0</td>\n",
       "    </tr>\n",
       "  </tbody>\n",
       "</table>\n",
       "</div>"
      ],
      "text/plain": [
       "           dt    close     high      low     open     volume\n",
       "0  2012-01-20  23197.4  23264.1  22801.9  22833.0  5205309.5\n",
       "1  2012-01-25  23277.4  23539.6  23161.9  23197.4  7721437.0"
      ]
     },
     "execution_count": 19,
     "metadata": {},
     "output_type": "execute_result"
    }
   ],
   "source": [
    "bdf.head(2)"
   ]
  },
  {
   "cell_type": "code",
   "execution_count": 24,
   "id": "4b5dfcd2-2a16-424e-9467-627ae941e833",
   "metadata": {
    "tags": []
   },
   "outputs": [],
   "source": [
    "bdf=bdf.drop(['high','low','open','volume'],axis=1)"
   ]
  },
  {
   "cell_type": "code",
   "execution_count": 25,
   "id": "52857cae-358f-45e9-a173-d65654d5b1de",
   "metadata": {
    "tags": []
   },
   "outputs": [],
   "source": [
    "bdf.rename(columns={'close':'채권종가'},inplace=True)"
   ]
  },
  {
   "cell_type": "code",
   "execution_count": 26,
   "id": "40c88ed7-d76a-4ec5-9354-deb56a0a9b46",
   "metadata": {
    "tags": []
   },
   "outputs": [
    {
     "data": {
      "text/html": [
       "<div>\n",
       "<style scoped>\n",
       "    .dataframe tbody tr th:only-of-type {\n",
       "        vertical-align: middle;\n",
       "    }\n",
       "\n",
       "    .dataframe tbody tr th {\n",
       "        vertical-align: top;\n",
       "    }\n",
       "\n",
       "    .dataframe thead th {\n",
       "        text-align: right;\n",
       "    }\n",
       "</style>\n",
       "<table border=\"1\" class=\"dataframe\">\n",
       "  <thead>\n",
       "    <tr style=\"text-align: right;\">\n",
       "      <th></th>\n",
       "      <th>dt</th>\n",
       "      <th>채권종가</th>\n",
       "    </tr>\n",
       "  </thead>\n",
       "  <tbody>\n",
       "    <tr>\n",
       "      <th>0</th>\n",
       "      <td>2012-01-20</td>\n",
       "      <td>23197.4</td>\n",
       "    </tr>\n",
       "    <tr>\n",
       "      <th>1</th>\n",
       "      <td>2012-01-25</td>\n",
       "      <td>23277.4</td>\n",
       "    </tr>\n",
       "  </tbody>\n",
       "</table>\n",
       "</div>"
      ],
      "text/plain": [
       "           dt     채권종가\n",
       "0  2012-01-20  23197.4\n",
       "1  2012-01-25  23277.4"
      ]
     },
     "execution_count": 26,
     "metadata": {},
     "output_type": "execute_result"
    }
   ],
   "source": [
    "bdf.head(2)"
   ]
  },
  {
   "cell_type": "code",
   "execution_count": 28,
   "id": "1453ac8c-e7c5-4e77-817f-01ba29915dd0",
   "metadata": {
    "tags": []
   },
   "outputs": [],
   "source": [
    "bdf.drop('dt',axis=1,inplace=True)"
   ]
  },
  {
   "cell_type": "code",
   "execution_count": 31,
   "id": "ca303261-0a99-4d85-9301-da3f2df31819",
   "metadata": {
    "tags": []
   },
   "outputs": [],
   "source": [
    "pdf=pd.concat([sdf,bdf],axis=1)"
   ]
  },
  {
   "cell_type": "code",
   "execution_count": 32,
   "id": "4be3e1c7-677b-4441-897a-18d4c3cda4bc",
   "metadata": {
    "tags": []
   },
   "outputs": [
    {
     "data": {
      "text/html": [
       "<div>\n",
       "<style scoped>\n",
       "    .dataframe tbody tr th:only-of-type {\n",
       "        vertical-align: middle;\n",
       "    }\n",
       "\n",
       "    .dataframe tbody tr th {\n",
       "        vertical-align: top;\n",
       "    }\n",
       "\n",
       "    .dataframe thead th {\n",
       "        text-align: right;\n",
       "    }\n",
       "</style>\n",
       "<table border=\"1\" class=\"dataframe\">\n",
       "  <thead>\n",
       "    <tr style=\"text-align: right;\">\n",
       "      <th></th>\n",
       "      <th>dt</th>\n",
       "      <th>주식종가</th>\n",
       "      <th>채권종가</th>\n",
       "    </tr>\n",
       "  </thead>\n",
       "  <tbody>\n",
       "    <tr>\n",
       "      <th>0</th>\n",
       "      <td>2012-01-20</td>\n",
       "      <td>49960.0</td>\n",
       "      <td>23197.4</td>\n",
       "    </tr>\n",
       "    <tr>\n",
       "      <th>1</th>\n",
       "      <td>2012-01-25</td>\n",
       "      <td>49960.0</td>\n",
       "      <td>23277.4</td>\n",
       "    </tr>\n",
       "    <tr>\n",
       "      <th>2</th>\n",
       "      <td>2012-01-26</td>\n",
       "      <td>49930.0</td>\n",
       "      <td>23299.6</td>\n",
       "    </tr>\n",
       "    <tr>\n",
       "      <th>3</th>\n",
       "      <td>2012-01-27</td>\n",
       "      <td>50000.0</td>\n",
       "      <td>23335.2</td>\n",
       "    </tr>\n",
       "    <tr>\n",
       "      <th>4</th>\n",
       "      <td>2012-01-30</td>\n",
       "      <td>50130.0</td>\n",
       "      <td>23073.0</td>\n",
       "    </tr>\n",
       "  </tbody>\n",
       "</table>\n",
       "</div>"
      ],
      "text/plain": [
       "           dt     주식종가     채권종가\n",
       "0  2012-01-20  49960.0  23197.4\n",
       "1  2012-01-25  49960.0  23277.4\n",
       "2  2012-01-26  49930.0  23299.6\n",
       "3  2012-01-27  50000.0  23335.2\n",
       "4  2012-01-30  50130.0  23073.0"
      ]
     },
     "execution_count": 32,
     "metadata": {},
     "output_type": "execute_result"
    }
   ],
   "source": [
    "pdf.head()"
   ]
  },
  {
   "cell_type": "code",
   "execution_count": 33,
   "id": "e465f412-9f16-410d-9f43-007a8190ef96",
   "metadata": {
    "tags": []
   },
   "outputs": [
    {
     "name": "stdout",
     "output_type": "stream",
     "text": [
      "<class 'pandas.core.frame.DataFrame'>\n",
      "RangeIndex: 1845 entries, 0 to 1844\n",
      "Data columns (total 3 columns):\n",
      " #   Column  Non-Null Count  Dtype  \n",
      "---  ------  --------------  -----  \n",
      " 0   dt      1845 non-null   object \n",
      " 1   주식종가    1845 non-null   float64\n",
      " 2   채권종가    1845 non-null   float64\n",
      "dtypes: float64(2), object(1)\n",
      "memory usage: 43.4+ KB\n"
     ]
    }
   ],
   "source": [
    "pdf.info()"
   ]
  },
  {
   "cell_type": "code",
   "execution_count": 34,
   "id": "2f603eed-2421-40ba-ab4a-13621d8cb84d",
   "metadata": {
    "tags": []
   },
   "outputs": [],
   "source": [
    "pdf=pdf.set_index('dt')"
   ]
  },
  {
   "cell_type": "code",
   "execution_count": 35,
   "id": "1682c1db-58c8-42e5-99be-834e92d7d6a4",
   "metadata": {
    "tags": []
   },
   "outputs": [
    {
     "data": {
      "text/html": [
       "<div>\n",
       "<style scoped>\n",
       "    .dataframe tbody tr th:only-of-type {\n",
       "        vertical-align: middle;\n",
       "    }\n",
       "\n",
       "    .dataframe tbody tr th {\n",
       "        vertical-align: top;\n",
       "    }\n",
       "\n",
       "    .dataframe thead th {\n",
       "        text-align: right;\n",
       "    }\n",
       "</style>\n",
       "<table border=\"1\" class=\"dataframe\">\n",
       "  <thead>\n",
       "    <tr style=\"text-align: right;\">\n",
       "      <th></th>\n",
       "      <th>주식종가</th>\n",
       "      <th>채권종가</th>\n",
       "    </tr>\n",
       "    <tr>\n",
       "      <th>dt</th>\n",
       "      <th></th>\n",
       "      <th></th>\n",
       "    </tr>\n",
       "  </thead>\n",
       "  <tbody>\n",
       "    <tr>\n",
       "      <th>2012-01-20</th>\n",
       "      <td>49960.0</td>\n",
       "      <td>23197.4</td>\n",
       "    </tr>\n",
       "    <tr>\n",
       "      <th>2012-01-25</th>\n",
       "      <td>49960.0</td>\n",
       "      <td>23277.4</td>\n",
       "    </tr>\n",
       "  </tbody>\n",
       "</table>\n",
       "</div>"
      ],
      "text/plain": [
       "               주식종가     채권종가\n",
       "dt                          \n",
       "2012-01-20  49960.0  23197.4\n",
       "2012-01-25  49960.0  23277.4"
      ]
     },
     "execution_count": 35,
     "metadata": {},
     "output_type": "execute_result"
    }
   ],
   "source": [
    "pdf.head(2)"
   ]
  },
  {
   "cell_type": "markdown",
   "id": "b019cfed-43f6-48b8-9be4-b93ac84b8509",
   "metadata": {},
   "source": [
    "## 기대수익률"
   ]
  },
  {
   "cell_type": "code",
   "execution_count": 95,
   "id": "421bb6c7-4a41-4ba6-90f5-a83161f9d50e",
   "metadata": {
    "tags": []
   },
   "outputs": [
    {
     "data": {
      "text/html": [
       "<div>\n",
       "<style scoped>\n",
       "    .dataframe tbody tr th:only-of-type {\n",
       "        vertical-align: middle;\n",
       "    }\n",
       "\n",
       "    .dataframe tbody tr th {\n",
       "        vertical-align: top;\n",
       "    }\n",
       "\n",
       "    .dataframe thead th {\n",
       "        text-align: right;\n",
       "    }\n",
       "</style>\n",
       "<table border=\"1\" class=\"dataframe\">\n",
       "  <thead>\n",
       "    <tr style=\"text-align: right;\">\n",
       "      <th></th>\n",
       "      <th>주식종가</th>\n",
       "      <th>채권종가</th>\n",
       "    </tr>\n",
       "    <tr>\n",
       "      <th>dt</th>\n",
       "      <th></th>\n",
       "      <th></th>\n",
       "    </tr>\n",
       "  </thead>\n",
       "  <tbody>\n",
       "    <tr>\n",
       "      <th>2012-01-25</th>\n",
       "      <td>0.000000</td>\n",
       "      <td>0.003443</td>\n",
       "    </tr>\n",
       "    <tr>\n",
       "      <th>2012-01-26</th>\n",
       "      <td>-0.000601</td>\n",
       "      <td>0.000953</td>\n",
       "    </tr>\n",
       "    <tr>\n",
       "      <th>2012-01-27</th>\n",
       "      <td>0.001401</td>\n",
       "      <td>0.001527</td>\n",
       "    </tr>\n",
       "    <tr>\n",
       "      <th>2012-01-30</th>\n",
       "      <td>0.002597</td>\n",
       "      <td>-0.011300</td>\n",
       "    </tr>\n",
       "    <tr>\n",
       "      <th>2012-01-31</th>\n",
       "      <td>0.000997</td>\n",
       "      <td>0.005377</td>\n",
       "    </tr>\n",
       "  </tbody>\n",
       "</table>\n",
       "</div>"
      ],
      "text/plain": [
       "                주식종가      채권종가\n",
       "dt                            \n",
       "2012-01-25  0.000000  0.003443\n",
       "2012-01-26 -0.000601  0.000953\n",
       "2012-01-27  0.001401  0.001527\n",
       "2012-01-30  0.002597 -0.011300\n",
       "2012-01-31  0.000997  0.005377"
      ]
     },
     "execution_count": 95,
     "metadata": {},
     "output_type": "execute_result"
    }
   ],
   "source": [
    "ret_df = np.log(1+ pdf.pct_change())\n",
    "ret_df.dropna(inplace=True, axis=0)\n",
    "ret_df[:5]"
   ]
  },
  {
   "cell_type": "code",
   "execution_count": 96,
   "id": "0a9f0506-f1db-425c-a037-3dbe6279314a",
   "metadata": {
    "tags": []
   },
   "outputs": [
    {
     "data": {
      "text/html": [
       "<div>\n",
       "<style scoped>\n",
       "    .dataframe tbody tr th:only-of-type {\n",
       "        vertical-align: middle;\n",
       "    }\n",
       "\n",
       "    .dataframe tbody tr th {\n",
       "        vertical-align: top;\n",
       "    }\n",
       "\n",
       "    .dataframe thead th {\n",
       "        text-align: right;\n",
       "    }\n",
       "</style>\n",
       "<table border=\"1\" class=\"dataframe\">\n",
       "  <thead>\n",
       "    <tr style=\"text-align: right;\">\n",
       "      <th></th>\n",
       "      <th>주식종가</th>\n",
       "      <th>채권종가</th>\n",
       "    </tr>\n",
       "  </thead>\n",
       "  <tbody>\n",
       "    <tr>\n",
       "      <th>count</th>\n",
       "      <td>1844.000000</td>\n",
       "      <td>1844.000000</td>\n",
       "    </tr>\n",
       "    <tr>\n",
       "      <th>mean</th>\n",
       "      <td>0.000196</td>\n",
       "      <td>0.000096</td>\n",
       "    </tr>\n",
       "    <tr>\n",
       "      <th>std</th>\n",
       "      <td>0.002763</td>\n",
       "      <td>0.008127</td>\n",
       "    </tr>\n",
       "    <tr>\n",
       "      <th>min</th>\n",
       "      <td>-0.015355</td>\n",
       "      <td>-0.042208</td>\n",
       "    </tr>\n",
       "    <tr>\n",
       "      <th>25%</th>\n",
       "      <td>-0.001239</td>\n",
       "      <td>-0.003876</td>\n",
       "    </tr>\n",
       "    <tr>\n",
       "      <th>50%</th>\n",
       "      <td>0.000146</td>\n",
       "      <td>0.000391</td>\n",
       "    </tr>\n",
       "    <tr>\n",
       "      <th>75%</th>\n",
       "      <td>0.001690</td>\n",
       "      <td>0.004556</td>\n",
       "    </tr>\n",
       "    <tr>\n",
       "      <th>max</th>\n",
       "      <td>0.017788</td>\n",
       "      <td>0.037162</td>\n",
       "    </tr>\n",
       "  </tbody>\n",
       "</table>\n",
       "</div>"
      ],
      "text/plain": [
       "              주식종가         채권종가\n",
       "count  1844.000000  1844.000000\n",
       "mean      0.000196     0.000096\n",
       "std       0.002763     0.008127\n",
       "min      -0.015355    -0.042208\n",
       "25%      -0.001239    -0.003876\n",
       "50%       0.000146     0.000391\n",
       "75%       0.001690     0.004556\n",
       "max       0.017788     0.037162"
      ]
     },
     "execution_count": 96,
     "metadata": {},
     "output_type": "execute_result"
    }
   ],
   "source": [
    "ret_df.describe()"
   ]
  },
  {
   "cell_type": "markdown",
   "id": "528cc5f5-e9ab-42c9-8509-4ffc938163bb",
   "metadata": {},
   "source": [
    "## 일별 기대 수익률"
   ]
  },
  {
   "cell_type": "code",
   "execution_count": 38,
   "id": "facbd8d2-fe7c-4b78-9a6f-00766a7394fe",
   "metadata": {
    "tags": []
   },
   "outputs": [
    {
     "data": {
      "text/plain": [
       "주식종가    0.000196\n",
       "채권종가    0.000096\n",
       "dtype: float64"
      ]
     },
     "execution_count": 38,
     "metadata": {},
     "output_type": "execute_result"
    }
   ],
   "source": [
    "ret_df.mean()"
   ]
  },
  {
   "cell_type": "markdown",
   "id": "1cfd8c9b-64b5-4629-9ae5-11ff123aaaee",
   "metadata": {},
   "source": [
    "## 년간 기대 수익률"
   ]
  },
  {
   "cell_type": "code",
   "execution_count": 39,
   "id": "bd910f58-09bf-4d0b-92c3-8d2687b97560",
   "metadata": {
    "tags": []
   },
   "outputs": [
    {
     "data": {
      "text/plain": [
       "주식종가    4.932303\n",
       "채권종가    2.409423\n",
       "dtype: float64"
      ]
     },
     "execution_count": 39,
     "metadata": {},
     "output_type": "execute_result"
    }
   ],
   "source": [
    "(ret_df.mean() * 252) * 100"
   ]
  },
  {
   "cell_type": "markdown",
   "id": "e364ca57-9c8f-4e1f-960d-ab4bb1e6fcf2",
   "metadata": {
    "tags": []
   },
   "source": [
    "* 자산별 년간 기대 수익률"
   ]
  },
  {
   "cell_type": "code",
   "execution_count": 40,
   "id": "1289cdb5-e0b3-4833-95ba-3af550ae55ed",
   "metadata": {
    "tags": []
   },
   "outputs": [
    {
     "data": {
      "text/plain": [
       "array([0.04932303, 0.02409423])"
      ]
     },
     "execution_count": 40,
     "metadata": {},
     "output_type": "execute_result"
    }
   ],
   "source": [
    "er = (ret_df.mean() * 252).values\n",
    "er"
   ]
  },
  {
   "cell_type": "markdown",
   "id": "a2a10fe5-0926-43e3-ab40-991fcd35c808",
   "metadata": {
    "tags": []
   },
   "source": [
    "## 자산별 가중치"
   ]
  },
  {
   "cell_type": "code",
   "execution_count": 80,
   "id": "2679b683-6d63-4c84-a75d-149af5b9f537",
   "metadata": {
    "tags": []
   },
   "outputs": [],
   "source": [
    "# w = [0.6, 0.4]\n",
    "w = [0.9, 0.1]"
   ]
  },
  {
   "cell_type": "markdown",
   "id": "138565e4-5012-41be-ba86-be44977b18fb",
   "metadata": {
    "tags": []
   },
   "source": [
    "## 포트폴리오 가중치 적용"
   ]
  },
  {
   "cell_type": "code",
   "execution_count": 81,
   "id": "d708eafa-d7d2-42c2-841a-fbd953571ab2",
   "metadata": {
    "tags": []
   },
   "outputs": [
    {
     "data": {
      "text/plain": [
       "0.04680015169756871"
      ]
     },
     "execution_count": 81,
     "metadata": {},
     "output_type": "execute_result"
    }
   ],
   "source": [
    "portpolio_er = np.dot(er, w)\n",
    "portpolio_er"
   ]
  },
  {
   "cell_type": "markdown",
   "id": "54e004c7-0441-423d-965c-450f464b8bf7",
   "metadata": {},
   "source": [
    "## 자산별 위험 추정 (리스크)"
   ]
  },
  {
   "cell_type": "markdown",
   "id": "85dd5d3e-86de-4120-9524-4f8ef9f357ca",
   "metadata": {
    "tags": []
   },
   "source": [
    "### 일간변동성 / 년간 변동성 (std)"
   ]
  },
  {
   "cell_type": "code",
   "execution_count": 97,
   "id": "f3d662d7-c35b-44aa-a112-7e28070ac594",
   "metadata": {
    "tags": []
   },
   "outputs": [
    {
     "name": "stdout",
     "output_type": "stream",
     "text": [
      "주식종가    0.002763\n",
      "채권종가    0.008127\n",
      "dtype: float64\n",
      "주식종가     4.385422\n",
      "채권종가    12.901711\n",
      "dtype: float64\n"
     ]
    }
   ],
   "source": [
    "print(ret_df.std()) \n",
    "print((ret_df.std() * np.sqrt(252))  * 100)"
   ]
  },
  {
   "cell_type": "markdown",
   "id": "6cfd6a72-ff4f-48c0-96f3-d4b185412840",
   "metadata": {},
   "source": [
    "### 일간변동성 / 년간 변동성 (cov)"
   ]
  },
  {
   "cell_type": "code",
   "execution_count": 83,
   "id": "fa9524f7-9ab2-4477-a523-e63b16e14f91",
   "metadata": {
    "tags": []
   },
   "outputs": [
    {
     "data": {
      "text/html": [
       "<div>\n",
       "<style scoped>\n",
       "    .dataframe tbody tr th:only-of-type {\n",
       "        vertical-align: middle;\n",
       "    }\n",
       "\n",
       "    .dataframe tbody tr th {\n",
       "        vertical-align: top;\n",
       "    }\n",
       "\n",
       "    .dataframe thead th {\n",
       "        text-align: right;\n",
       "    }\n",
       "</style>\n",
       "<table border=\"1\" class=\"dataframe\">\n",
       "  <thead>\n",
       "    <tr style=\"text-align: right;\">\n",
       "      <th></th>\n",
       "      <th>주식종가</th>\n",
       "      <th>채권종가</th>\n",
       "    </tr>\n",
       "  </thead>\n",
       "  <tbody>\n",
       "    <tr>\n",
       "      <th>주식종가</th>\n",
       "      <td>0.000008</td>\n",
       "      <td>-0.000003</td>\n",
       "    </tr>\n",
       "    <tr>\n",
       "      <th>채권종가</th>\n",
       "      <td>-0.000003</td>\n",
       "      <td>0.000066</td>\n",
       "    </tr>\n",
       "  </tbody>\n",
       "</table>\n",
       "</div>"
      ],
      "text/plain": [
       "          주식종가      채권종가\n",
       "주식종가  0.000008 -0.000003\n",
       "채권종가 -0.000003  0.000066"
      ]
     },
     "execution_count": 83,
     "metadata": {},
     "output_type": "execute_result"
    }
   ],
   "source": [
    "cov_df = ret_df.cov()\n",
    "cov_df"
   ]
  },
  {
   "cell_type": "code",
   "execution_count": 84,
   "id": "35673493-6e1c-4681-941a-5ea530af6dd4",
   "metadata": {
    "tags": []
   },
   "outputs": [
    {
     "data": {
      "text/plain": [
       "array([[ 0.00192319, -0.00068849],\n",
       "       [-0.00068849,  0.01664541]])"
      ]
     },
     "execution_count": 84,
     "metadata": {},
     "output_type": "execute_result"
    }
   ],
   "source": [
    "C = (ret_df.cov() * 252).values\n",
    "C"
   ]
  },
  {
   "cell_type": "code",
   "execution_count": 89,
   "id": "7207781a-8712-444f-a1fd-3e04d6759a2e",
   "metadata": {
    "tags": []
   },
   "outputs": [
    {
     "data": {
      "text/plain": [
       "array([0.9, 0.1])"
      ]
     },
     "execution_count": 89,
     "metadata": {},
     "output_type": "execute_result"
    }
   ],
   "source": [
    "# w = np.array([0.6, 0.4])\n",
    "w = np.array([0.9, 0.1])\n",
    "w"
   ]
  },
  {
   "cell_type": "markdown",
   "id": "f9c484fb-3489-4def-88a7-414081c58540",
   "metadata": {},
   "source": [
    "## 포트폴리오 최종 RISK"
   ]
  },
  {
   "cell_type": "code",
   "execution_count": 90,
   "id": "166e4739-dfab-48e5-8432-5a34c40eb2ae",
   "metadata": {
    "tags": []
   },
   "outputs": [
    {
     "data": {
      "text/plain": [
       "0.04000389745308993"
      ]
     },
     "execution_count": 90,
     "metadata": {},
     "output_type": "execute_result"
    }
   ],
   "source": [
    "portfolio_var = np.dot( np.dot(w, C) , w.T) \n",
    "portfolio_std = np.sqrt(portfolio_var)\n",
    "portfolio_std"
   ]
  },
  {
   "cell_type": "code",
   "execution_count": 91,
   "id": "0e36c83f-1013-44ed-989a-400cdf920143",
   "metadata": {
    "tags": []
   },
   "outputs": [
    {
     "data": {
      "image/png": "[encoded data removed]",
      "text/plain": [
       "<Figure size 1000x300 with 1 Axes>"
      ]
     },
     "metadata": {},
     "output_type": "display_data"
    }
   ],
   "source": [
    "ret_df.cumsum().plot(figsize=(10,3))\n",
    "plt.legend()\n",
    "plt.show()"
   ]
  },
  {
   "cell_type": "markdown",
   "id": "5ff16757-e5c9-49ec-b26d-f3ee19b6a4c9",
   "metadata": {},
   "source": [
    "# 효율적 투자 전략"
   ]
  },
  {
   "cell_type": "code",
   "execution_count": 92,
   "id": "2a49fbc8-e428-4b45-a855-1868a1435074",
   "metadata": {
    "tags": []
   },
   "outputs": [
    {
     "name": "stdout",
     "output_type": "stream",
     "text": [
      "Expected annual return: 0.0493\n",
      "Annual volatility: 0.0398\n",
      "Sharpe Ratio: 1.1710\n"
     ]
    }
   ],
   "source": [
    "# 샤프치수   최대 포트\n",
    "sharp_max = df[df['Sharp'] == df['Sharp'].max()]['Sharp'].values[0]\n",
    "\n",
    "# 위험리스크 최소 포트\n",
    "risk_min  = df[df['Risk'] == df['Risk'].min()] ['Risk'].values[0]\n",
    "# 수익률     최대 포트\n",
    "return_max = df[df['Return'] == df['Return'].max()] ['Return'].values[0]\n",
    "\n",
    "\n",
    "#           Risk    Return\n",
    "# 6274  0.223144  0.760134\n",
    "#            Risk    Return\n",
    "# 12088  0.173086  0.283057\n",
    "#           Risk    Return\n",
    "# 1667  0.306557  0.982149\n",
    "\n",
    "print(f'Expected annual return: {return_max:.4f}')\n",
    "print(f'Annual volatility: {risk_min:.4f}')\n",
    "print(f'Sharpe Ratio: {sharp_max:.4f}')"
   ]
  },
  {
   "cell_type": "code",
   "execution_count": 93,
   "id": "d98a1a83-890b-40ab-8af4-4dbeb2129420",
   "metadata": {
    "tags": []
   },
   "outputs": [
    {
     "data": {
      "image/png": "[encoded data removed]",
      "text/plain": [
       "<Figure size 800x400 with 1 Axes>"
      ]
     },
     "metadata": {},
     "output_type": "display_data"
    }
   ],
   "source": [
    "# 샤프치수   최대 포트\n",
    "sharp_max = df[df['Sharp'] == df['Sharp'].max()]\n",
    "# 위험리스크 최소 포트\n",
    "risk_min  = df[df['Risk'] == df['Risk'].min()] \n",
    "# 수익률     최대 포트\n",
    "return_max = df[df['Return'] == df['Return'].max()] \n",
    "\n",
    "plt.figure(figsize=(8,4))\n",
    "sns.scatterplot(data=df        , x='Risk', y='Return'                     , label=f\"포트폴리오\")\n",
    "sns.scatterplot(data=sharp_max , x='Risk', y='Return', marker=\"^\", c='red', label=f\"sharp_max:{sharp_max['Weight'].values[0]}\")\n",
    "sns.scatterplot(data=risk_min  , x='Risk', y='Return', marker=\"*\", c='red', label=f\"risk_min:{risk_min['Weight'].values[0]}\")\n",
    "sns.scatterplot(data=return_max, x='Risk', y='Return', marker=\"s\", c='red', label=f\"return_max:{return_max['Weight'].values[0]}\")\n",
    "\n",
    "plt.title(f'Efficient Frontier_{stocks.values}') \n",
    "plt.xlabel('Risk') \n",
    "plt.ylabel('Expected Returns') \n",
    "plt.show() "
   ]
  },
  {
   "cell_type": "code",
   "execution_count": null,
   "id": "cc7e3e85-1cbe-43d6-8a77-ae643835fdd8",
   "metadata": {},
   "outputs": [],
   "source": []
  },
  {
   "cell_type": "code",
   "execution_count": null,
   "id": "14aa59c0-751e-4a4b-9d45-488a43fd7066",
   "metadata": {},
   "outputs": [],
   "source": []
  },
  {
   "cell_type": "code",
   "execution_count": null,
   "id": "361bd336-24b7-4258-b149-101216b55e82",
   "metadata": {},
   "outputs": [],
   "source": []
  },
  {
   "cell_type": "code",
   "execution_count": null,
   "id": "948747dd-47d6-4171-b7e0-66687c03fa3d",
   "metadata": {},
   "outputs": [],
   "source": []
  },
  {
   "cell_type": "code",
   "execution_count": null,
   "id": "1f70042b-16ae-4ee2-8d57-38ff61f82575",
   "metadata": {},
   "outputs": [],
   "source": []
  },
  {
   "cell_type": "code",
   "execution_count": null,
   "id": "de20ff50-072b-41cb-927f-8b05e2bc38d3",
   "metadata": {},
   "outputs": [],
   "source": []
  }
 ],
 "metadata": {
  "kernelspec": {
   "display_name": "Python 3 (ipykernel)",
   "language": "python",
   "name": "python3"
  },
  "language_info": {
   "codemirror_mode": {
    "name": "ipython",
    "version": 3
   },
   "file_extension": ".py",
   "mimetype": "text/x-python",
   "name": "python",
   "nbconvert_exporter": "python",
   "pygments_lexer": "ipython3",
   "version": "3.8.8"
  }
 },
 "nbformat": 4,
 "nbformat_minor": 5
}
