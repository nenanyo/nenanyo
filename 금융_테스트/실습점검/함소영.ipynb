{
 "cells": [
  {
   "cell_type": "markdown",
   "id": "746c1dfc-38fb-48b5-9678-31e826e8beb3",
   "metadata": {},
   "source": [
    "# 효율적 투자 전략\n",
    "* 대상 종목 : 주식, 채권"
   ]
  },
  {
   "cell_type": "code",
   "execution_count": 1,
   "id": "144c4380-6b44-41d1-a6f5-8a00bef3dc29",
   "metadata": {},
   "outputs": [
    {
     "data": {
      "text/html": [
       "<style>.container{width:100% !important;}</style>"
      ],
      "text/plain": [
       "<IPython.core.display.HTML object>"
      ]
     },
     "metadata": {},
     "output_type": "display_data"
    }
   ],
   "source": [
    "from IPython.display import Image\n",
    "import pandas as pd\n",
    "import numpy as np\n",
    "import matplotlib.pyplot as plt\n",
    "import seaborn as sns\n",
    "\n",
    "\n",
    "import warnings\n",
    "warnings.filterwarnings(action='ignore')\n",
    "sns.set()\n",
    "\n",
    "#-------------------- 차트 관련 속성 (한글처리, 그리드) -----------\n",
    "#plt.rc('font', family='NanumGothicOTF') # For MacOS\n",
    "plt.rcParams['font.family']= 'Malgun Gothic'\n",
    "plt.rcParams['axes.unicode_minus'] = False\n",
    "\n",
    "\n",
    "#-------------------- 주피터 , 출력결과 넓이 늘리기 ---------------\n",
    "from IPython.core.display import display, HTML\n",
    "display(HTML(\"<style>.container{width:100% !important;}</style>\"))\n",
    "pd.set_option('display.max_rows', 100)\n",
    "pd.set_option('display.max_columns', 100)\n",
    "pd.set_option('max_colwidth', None)\n",
    "\n"
   ]
  },
  {
   "cell_type": "code",
   "execution_count": 2,
   "id": "b1db916a-ddf7-40ef-a370-56d55b878434",
   "metadata": {
    "tags": []
   },
   "outputs": [],
   "source": [
    "주식 = pd.read_csv(\"./datasets/kodex_stock.csv\")\n",
    "채권 = pd.read_csv(\"./datasets/kodex_bond10y.csv\")"
   ]
  },
  {
   "cell_type": "code",
   "execution_count": 3,
   "id": "5b3fc251-b4b5-4ef1-beff-16703453b8cf",
   "metadata": {
    "tags": []
   },
   "outputs": [
    {
     "data": {
      "text/plain": [
       "((1845, 6), (1845, 6))"
      ]
     },
     "execution_count": 3,
     "metadata": {},
     "output_type": "execute_result"
    }
   ],
   "source": [
    "주식.shape, 채권.shape"
   ]
  },
  {
   "cell_type": "markdown",
   "id": "6e5f4957-6839-4d83-a6d1-ff090257ca31",
   "metadata": {},
   "source": [
    "Q. 주식과 채권을 몇 대 몇으로 담아서 투자를 하면 가장 효율적인 투자일지?"
   ]
  },
  {
   "cell_type": "code",
   "execution_count": 4,
   "id": "6b3ccfe3-b361-4925-8589-209b876c22d2",
   "metadata": {
    "tags": []
   },
   "outputs": [
    {
     "data": {
      "text/html": [
       "<div>\n",
       "<style scoped>\n",
       "    .dataframe tbody tr th:only-of-type {\n",
       "        vertical-align: middle;\n",
       "    }\n",
       "\n",
       "    .dataframe tbody tr th {\n",
       "        vertical-align: top;\n",
       "    }\n",
       "\n",
       "    .dataframe thead th {\n",
       "        text-align: right;\n",
       "    }\n",
       "</style>\n",
       "<table border=\"1\" class=\"dataframe\">\n",
       "  <thead>\n",
       "    <tr style=\"text-align: right;\">\n",
       "      <th></th>\n",
       "      <th>dt</th>\n",
       "      <th>close</th>\n",
       "      <th>high</th>\n",
       "      <th>low</th>\n",
       "      <th>open</th>\n",
       "      <th>volume</th>\n",
       "    </tr>\n",
       "  </thead>\n",
       "  <tbody>\n",
       "    <tr>\n",
       "      <th>0</th>\n",
       "      <td>2012-01-20</td>\n",
       "      <td>49960.0</td>\n",
       "      <td>50040.0</td>\n",
       "      <td>49960.0</td>\n",
       "      <td>50040.0</td>\n",
       "      <td>3276.0</td>\n",
       "    </tr>\n",
       "    <tr>\n",
       "      <th>1</th>\n",
       "      <td>2012-01-25</td>\n",
       "      <td>49960.0</td>\n",
       "      <td>49960.0</td>\n",
       "      <td>49960.0</td>\n",
       "      <td>49960.0</td>\n",
       "      <td>100.0</td>\n",
       "    </tr>\n",
       "    <tr>\n",
       "      <th>2</th>\n",
       "      <td>2012-01-26</td>\n",
       "      <td>49930.0</td>\n",
       "      <td>49985.0</td>\n",
       "      <td>49925.0</td>\n",
       "      <td>49960.0</td>\n",
       "      <td>1161.0</td>\n",
       "    </tr>\n",
       "    <tr>\n",
       "      <th>3</th>\n",
       "      <td>2012-01-27</td>\n",
       "      <td>50000.0</td>\n",
       "      <td>57200.0</td>\n",
       "      <td>49810.0</td>\n",
       "      <td>57200.0</td>\n",
       "      <td>104.0</td>\n",
       "    </tr>\n",
       "    <tr>\n",
       "      <th>4</th>\n",
       "      <td>2012-01-30</td>\n",
       "      <td>50130.0</td>\n",
       "      <td>50130.0</td>\n",
       "      <td>50000.0</td>\n",
       "      <td>50000.0</td>\n",
       "      <td>1080.0</td>\n",
       "    </tr>\n",
       "    <tr>\n",
       "      <th>...</th>\n",
       "      <td>...</td>\n",
       "      <td>...</td>\n",
       "      <td>...</td>\n",
       "      <td>...</td>\n",
       "      <td>...</td>\n",
       "      <td>...</td>\n",
       "    </tr>\n",
       "    <tr>\n",
       "      <th>1840</th>\n",
       "      <td>2019-07-17</td>\n",
       "      <td>71210.0</td>\n",
       "      <td>71220.0</td>\n",
       "      <td>71070.0</td>\n",
       "      <td>71080.0</td>\n",
       "      <td>344.0</td>\n",
       "    </tr>\n",
       "    <tr>\n",
       "      <th>1841</th>\n",
       "      <td>2019-07-18</td>\n",
       "      <td>71665.0</td>\n",
       "      <td>71665.0</td>\n",
       "      <td>71290.0</td>\n",
       "      <td>71290.0</td>\n",
       "      <td>1516.0</td>\n",
       "    </tr>\n",
       "    <tr>\n",
       "      <th>1842</th>\n",
       "      <td>2019-07-19</td>\n",
       "      <td>71770.0</td>\n",
       "      <td>71850.0</td>\n",
       "      <td>71670.0</td>\n",
       "      <td>71670.0</td>\n",
       "      <td>15083.0</td>\n",
       "    </tr>\n",
       "    <tr>\n",
       "      <th>1843</th>\n",
       "      <td>2019-07-22</td>\n",
       "      <td>71685.0</td>\n",
       "      <td>71755.0</td>\n",
       "      <td>71685.0</td>\n",
       "      <td>71740.0</td>\n",
       "      <td>1461.0</td>\n",
       "    </tr>\n",
       "    <tr>\n",
       "      <th>1844</th>\n",
       "      <td>2019-07-23</td>\n",
       "      <td>71675.0</td>\n",
       "      <td>71740.0</td>\n",
       "      <td>71675.0</td>\n",
       "      <td>71730.0</td>\n",
       "      <td>1687.0</td>\n",
       "    </tr>\n",
       "  </tbody>\n",
       "</table>\n",
       "<p>1845 rows × 6 columns</p>\n",
       "</div>"
      ],
      "text/plain": [
       "              dt    close     high      low     open   volume\n",
       "0     2012-01-20  49960.0  50040.0  49960.0  50040.0   3276.0\n",
       "1     2012-01-25  49960.0  49960.0  49960.0  49960.0    100.0\n",
       "2     2012-01-26  49930.0  49985.0  49925.0  49960.0   1161.0\n",
       "3     2012-01-27  50000.0  57200.0  49810.0  57200.0    104.0\n",
       "4     2012-01-30  50130.0  50130.0  50000.0  50000.0   1080.0\n",
       "...          ...      ...      ...      ...      ...      ...\n",
       "1840  2019-07-17  71210.0  71220.0  71070.0  71080.0    344.0\n",
       "1841  2019-07-18  71665.0  71665.0  71290.0  71290.0   1516.0\n",
       "1842  2019-07-19  71770.0  71850.0  71670.0  71670.0  15083.0\n",
       "1843  2019-07-22  71685.0  71755.0  71685.0  71740.0   1461.0\n",
       "1844  2019-07-23  71675.0  71740.0  71675.0  71730.0   1687.0\n",
       "\n",
       "[1845 rows x 6 columns]"
      ]
     },
     "execution_count": 4,
     "metadata": {},
     "output_type": "execute_result"
    }
   ],
   "source": [
    "주식"
   ]
  },
  {
   "cell_type": "code",
   "execution_count": 5,
   "id": "75365c0a-c140-4ce7-aa59-63023b56c6f8",
   "metadata": {
    "tags": []
   },
   "outputs": [
    {
     "data": {
      "text/html": [
       "<div>\n",
       "<style scoped>\n",
       "    .dataframe tbody tr th:only-of-type {\n",
       "        vertical-align: middle;\n",
       "    }\n",
       "\n",
       "    .dataframe tbody tr th {\n",
       "        vertical-align: top;\n",
       "    }\n",
       "\n",
       "    .dataframe thead th {\n",
       "        text-align: right;\n",
       "    }\n",
       "</style>\n",
       "<table border=\"1\" class=\"dataframe\">\n",
       "  <thead>\n",
       "    <tr style=\"text-align: right;\">\n",
       "      <th></th>\n",
       "      <th>dt</th>\n",
       "      <th>close</th>\n",
       "      <th>high</th>\n",
       "      <th>low</th>\n",
       "      <th>open</th>\n",
       "      <th>volume</th>\n",
       "    </tr>\n",
       "    <tr>\n",
       "      <th>dt</th>\n",
       "      <th></th>\n",
       "      <th></th>\n",
       "      <th></th>\n",
       "      <th></th>\n",
       "      <th></th>\n",
       "      <th></th>\n",
       "    </tr>\n",
       "  </thead>\n",
       "  <tbody>\n",
       "    <tr>\n",
       "      <th>2012-01-20</th>\n",
       "      <td>2012-01-20</td>\n",
       "      <td>23197.4</td>\n",
       "      <td>23264.1</td>\n",
       "      <td>22801.9</td>\n",
       "      <td>22833.0</td>\n",
       "      <td>5205309.50</td>\n",
       "    </tr>\n",
       "    <tr>\n",
       "      <th>2012-01-25</th>\n",
       "      <td>2012-01-25</td>\n",
       "      <td>23277.4</td>\n",
       "      <td>23539.6</td>\n",
       "      <td>23161.9</td>\n",
       "      <td>23197.4</td>\n",
       "      <td>7721437.00</td>\n",
       "    </tr>\n",
       "    <tr>\n",
       "      <th>2012-01-26</th>\n",
       "      <td>2012-01-26</td>\n",
       "      <td>23299.6</td>\n",
       "      <td>23428.5</td>\n",
       "      <td>23237.4</td>\n",
       "      <td>23428.5</td>\n",
       "      <td>2162210.50</td>\n",
       "    </tr>\n",
       "    <tr>\n",
       "      <th>2012-01-27</th>\n",
       "      <td>2012-01-27</td>\n",
       "      <td>23335.2</td>\n",
       "      <td>23419.6</td>\n",
       "      <td>23206.3</td>\n",
       "      <td>23419.6</td>\n",
       "      <td>3456417.50</td>\n",
       "    </tr>\n",
       "    <tr>\n",
       "      <th>2012-01-30</th>\n",
       "      <td>2012-01-30</td>\n",
       "      <td>23073.0</td>\n",
       "      <td>23308.5</td>\n",
       "      <td>23050.8</td>\n",
       "      <td>23241.9</td>\n",
       "      <td>2899746.25</td>\n",
       "    </tr>\n",
       "    <tr>\n",
       "      <th>...</th>\n",
       "      <td>...</td>\n",
       "      <td>...</td>\n",
       "      <td>...</td>\n",
       "      <td>...</td>\n",
       "      <td>...</td>\n",
       "      <td>...</td>\n",
       "    </tr>\n",
       "    <tr>\n",
       "      <th>2019-07-17</th>\n",
       "      <td>2019-07-17</td>\n",
       "      <td>27225.0</td>\n",
       "      <td>27340.0</td>\n",
       "      <td>27130.0</td>\n",
       "      <td>27310.0</td>\n",
       "      <td>1886297.00</td>\n",
       "    </tr>\n",
       "    <tr>\n",
       "      <th>2019-07-18</th>\n",
       "      <td>2019-07-18</td>\n",
       "      <td>27165.0</td>\n",
       "      <td>27260.0</td>\n",
       "      <td>27065.0</td>\n",
       "      <td>27180.0</td>\n",
       "      <td>2290347.00</td>\n",
       "    </tr>\n",
       "    <tr>\n",
       "      <th>2019-07-19</th>\n",
       "      <td>2019-07-19</td>\n",
       "      <td>27545.0</td>\n",
       "      <td>27610.0</td>\n",
       "      <td>27315.0</td>\n",
       "      <td>27315.0</td>\n",
       "      <td>2532920.00</td>\n",
       "    </tr>\n",
       "    <tr>\n",
       "      <th>2019-07-22</th>\n",
       "      <td>2019-07-22</td>\n",
       "      <td>27535.0</td>\n",
       "      <td>27620.0</td>\n",
       "      <td>27435.0</td>\n",
       "      <td>27470.0</td>\n",
       "      <td>1797628.00</td>\n",
       "    </tr>\n",
       "    <tr>\n",
       "      <th>2019-07-23</th>\n",
       "      <td>2019-07-23</td>\n",
       "      <td>27670.0</td>\n",
       "      <td>27755.0</td>\n",
       "      <td>27555.0</td>\n",
       "      <td>27600.0</td>\n",
       "      <td>2450359.00</td>\n",
       "    </tr>\n",
       "  </tbody>\n",
       "</table>\n",
       "<p>1845 rows × 6 columns</p>\n",
       "</div>"
      ],
      "text/plain": [
       "                    dt    close     high      low     open      volume\n",
       "dt                                                                    \n",
       "2012-01-20  2012-01-20  23197.4  23264.1  22801.9  22833.0  5205309.50\n",
       "2012-01-25  2012-01-25  23277.4  23539.6  23161.9  23197.4  7721437.00\n",
       "2012-01-26  2012-01-26  23299.6  23428.5  23237.4  23428.5  2162210.50\n",
       "2012-01-27  2012-01-27  23335.2  23419.6  23206.3  23419.6  3456417.50\n",
       "2012-01-30  2012-01-30  23073.0  23308.5  23050.8  23241.9  2899746.25\n",
       "...                ...      ...      ...      ...      ...         ...\n",
       "2019-07-17  2019-07-17  27225.0  27340.0  27130.0  27310.0  1886297.00\n",
       "2019-07-18  2019-07-18  27165.0  27260.0  27065.0  27180.0  2290347.00\n",
       "2019-07-19  2019-07-19  27545.0  27610.0  27315.0  27315.0  2532920.00\n",
       "2019-07-22  2019-07-22  27535.0  27620.0  27435.0  27470.0  1797628.00\n",
       "2019-07-23  2019-07-23  27670.0  27755.0  27555.0  27600.0  2450359.00\n",
       "\n",
       "[1845 rows x 6 columns]"
      ]
     },
     "execution_count": 5,
     "metadata": {},
     "output_type": "execute_result"
    }
   ],
   "source": [
    "채권.set_index(채권['dt'])"
   ]
  },
  {
   "cell_type": "markdown",
   "id": "bc0e432b-5994-40f0-b5bb-0aaee3f2e65b",
   "metadata": {},
   "source": [
    "# 기대수익률(로그)"
   ]
  },
  {
   "cell_type": "code",
   "execution_count": 6,
   "id": "2da59e3f-1acd-4303-afcb-cdc616304893",
   "metadata": {
    "tags": []
   },
   "outputs": [],
   "source": [
    "주식기대수익률 = np.log1p(주식['close'].pct_change())\n",
    "채권기대수익률 = np.log1p(채권['close'].pct_change())"
   ]
  },
  {
   "cell_type": "code",
   "execution_count": 7,
   "id": "8c5a11e9-248f-4f47-8ce0-7a7ede1b588d",
   "metadata": {
    "tags": []
   },
   "outputs": [
    {
     "data": {
      "text/plain": [
       "0            NaN\n",
       "1       0.000000\n",
       "2      -0.000601\n",
       "3       0.001401\n",
       "4       0.002597\n",
       "          ...   \n",
       "1840    0.002179\n",
       "1841    0.006369\n",
       "1842    0.001464\n",
       "1843   -0.001185\n",
       "1844   -0.000140\n",
       "Name: close, Length: 1845, dtype: float64"
      ]
     },
     "execution_count": 7,
     "metadata": {},
     "output_type": "execute_result"
    }
   ],
   "source": [
    "주식기대수익률"
   ]
  },
  {
   "cell_type": "code",
   "execution_count": 20,
   "id": "dbedcf63-2244-46e3-9f09-ab2ff6688e45",
   "metadata": {
    "tags": []
   },
   "outputs": [],
   "source": [
    "기대수익률 = pd.DataFrame(np.array(주식기대수익률), columns = ['주식기대수익률'])\n",
    "\n",
    "기대수익률['채권기대수익률'] = 채권기대수익률\n",
    "\n",
    "\n",
    "기대수익률 = 기대수익률.set_index(채권['dt'])"
   ]
  },
  {
   "cell_type": "code",
   "execution_count": 21,
   "id": "f949dfe5-1e8b-4152-9d32-ec146c80e7e6",
   "metadata": {
    "tags": []
   },
   "outputs": [
    {
     "data": {
      "text/html": [
       "<div>\n",
       "<style scoped>\n",
       "    .dataframe tbody tr th:only-of-type {\n",
       "        vertical-align: middle;\n",
       "    }\n",
       "\n",
       "    .dataframe tbody tr th {\n",
       "        vertical-align: top;\n",
       "    }\n",
       "\n",
       "    .dataframe thead th {\n",
       "        text-align: right;\n",
       "    }\n",
       "</style>\n",
       "<table border=\"1\" class=\"dataframe\">\n",
       "  <thead>\n",
       "    <tr style=\"text-align: right;\">\n",
       "      <th></th>\n",
       "      <th>주식기대수익률</th>\n",
       "      <th>채권기대수익률</th>\n",
       "    </tr>\n",
       "    <tr>\n",
       "      <th>dt</th>\n",
       "      <th></th>\n",
       "      <th></th>\n",
       "    </tr>\n",
       "  </thead>\n",
       "  <tbody>\n",
       "    <tr>\n",
       "      <th>2012-01-25</th>\n",
       "      <td>0.000000</td>\n",
       "      <td>0.003443</td>\n",
       "    </tr>\n",
       "    <tr>\n",
       "      <th>2012-01-26</th>\n",
       "      <td>-0.000601</td>\n",
       "      <td>0.000953</td>\n",
       "    </tr>\n",
       "    <tr>\n",
       "      <th>2012-01-27</th>\n",
       "      <td>0.001401</td>\n",
       "      <td>0.001527</td>\n",
       "    </tr>\n",
       "    <tr>\n",
       "      <th>2012-01-30</th>\n",
       "      <td>0.002597</td>\n",
       "      <td>-0.011300</td>\n",
       "    </tr>\n",
       "    <tr>\n",
       "      <th>2012-01-31</th>\n",
       "      <td>0.000997</td>\n",
       "      <td>0.005377</td>\n",
       "    </tr>\n",
       "    <tr>\n",
       "      <th>...</th>\n",
       "      <td>...</td>\n",
       "      <td>...</td>\n",
       "    </tr>\n",
       "    <tr>\n",
       "      <th>2019-07-17</th>\n",
       "      <td>0.002179</td>\n",
       "      <td>-0.008959</td>\n",
       "    </tr>\n",
       "    <tr>\n",
       "      <th>2019-07-18</th>\n",
       "      <td>0.006369</td>\n",
       "      <td>-0.002206</td>\n",
       "    </tr>\n",
       "    <tr>\n",
       "      <th>2019-07-19</th>\n",
       "      <td>0.001464</td>\n",
       "      <td>0.013892</td>\n",
       "    </tr>\n",
       "    <tr>\n",
       "      <th>2019-07-22</th>\n",
       "      <td>-0.001185</td>\n",
       "      <td>-0.000363</td>\n",
       "    </tr>\n",
       "    <tr>\n",
       "      <th>2019-07-23</th>\n",
       "      <td>-0.000140</td>\n",
       "      <td>0.004891</td>\n",
       "    </tr>\n",
       "  </tbody>\n",
       "</table>\n",
       "<p>1844 rows × 2 columns</p>\n",
       "</div>"
      ],
      "text/plain": [
       "             주식기대수익률   채권기대수익률\n",
       "dt                            \n",
       "2012-01-25  0.000000  0.003443\n",
       "2012-01-26 -0.000601  0.000953\n",
       "2012-01-27  0.001401  0.001527\n",
       "2012-01-30  0.002597 -0.011300\n",
       "2012-01-31  0.000997  0.005377\n",
       "...              ...       ...\n",
       "2019-07-17  0.002179 -0.008959\n",
       "2019-07-18  0.006369 -0.002206\n",
       "2019-07-19  0.001464  0.013892\n",
       "2019-07-22 -0.001185 -0.000363\n",
       "2019-07-23 -0.000140  0.004891\n",
       "\n",
       "[1844 rows x 2 columns]"
      ]
     },
     "execution_count": 21,
     "metadata": {},
     "output_type": "execute_result"
    }
   ],
   "source": [
    "# 기대수익률.dropna(axis = 0, inplace = True)\n",
    "기대수익률"
   ]
  },
  {
   "cell_type": "markdown",
   "id": "17b7d422-6ee9-4049-8740-7f244e1c54f1",
   "metadata": {},
   "source": [
    "## 일별 기대수익률"
   ]
  },
  {
   "cell_type": "code",
   "execution_count": 22,
   "id": "feb868d1-fb7b-4129-a868-48179426e11e",
   "metadata": {},
   "outputs": [
    {
     "data": {
      "text/plain": [
       "주식기대수익률    0.000196\n",
       "채권기대수익률    0.000096\n",
       "dtype: float64"
      ]
     },
     "execution_count": 22,
     "metadata": {},
     "output_type": "execute_result"
    }
   ],
   "source": [
    "기대수익률.mean()"
   ]
  },
  {
   "cell_type": "markdown",
   "id": "841a520d-3e78-4119-8169-c83095bb94d5",
   "metadata": {},
   "source": [
    "## 연별 기대수익률"
   ]
  },
  {
   "cell_type": "code",
   "execution_count": 23,
   "id": "806f39af-5b90-4d83-8da3-4d2faaea45c5",
   "metadata": {
    "tags": []
   },
   "outputs": [
    {
     "data": {
      "text/plain": [
       "주식기대수익률    4.932303\n",
       "채권기대수익률    2.409423\n",
       "dtype: float64"
      ]
     },
     "execution_count": 23,
     "metadata": {},
     "output_type": "execute_result"
    }
   ],
   "source": [
    "기대수익률.mean() * 252 * 100"
   ]
  },
  {
   "cell_type": "markdown",
   "id": "26ca9d15-d3f0-4b44-80ce-669508706c14",
   "metadata": {},
   "source": [
    "# 리스크"
   ]
  },
  {
   "cell_type": "code",
   "execution_count": 24,
   "id": "2808cb54-1842-4b80-9062-0addfa1c8cce",
   "metadata": {
    "tags": []
   },
   "outputs": [
    {
     "data": {
      "text/plain": [
       "주식기대수익률    0.002763\n",
       "채권기대수익률    0.008127\n",
       "dtype: float64"
      ]
     },
     "execution_count": 24,
     "metadata": {},
     "output_type": "execute_result"
    }
   ],
   "source": [
    "일간변동성 = 기대수익률.std()\n",
    "일간변동성"
   ]
  },
  {
   "cell_type": "code",
   "execution_count": 25,
   "id": "fe94648d-c761-41af-8b4c-0be7799d6de9",
   "metadata": {
    "tags": []
   },
   "outputs": [
    {
     "data": {
      "text/plain": [
       "주식기대수익률     4.385422\n",
       "채권기대수익률    12.901711\n",
       "dtype: float64"
      ]
     },
     "execution_count": 25,
     "metadata": {},
     "output_type": "execute_result"
    }
   ],
   "source": [
    "연간변동성 = (기대수익률.std() * np.sqrt(252)) * 100\n",
    "연간변동성"
   ]
  },
  {
   "cell_type": "markdown",
   "id": "b652c26a-bf4e-405e-aeb9-f870cfde3c9d",
   "metadata": {},
   "source": [
    "# 공분산 리스크"
   ]
  },
  {
   "cell_type": "code",
   "execution_count": 26,
   "id": "14158890-aa62-4276-9441-f83849942300",
   "metadata": {
    "tags": []
   },
   "outputs": [
    {
     "data": {
      "text/plain": [
       "<AxesSubplot: >"
      ]
     },
     "execution_count": 26,
     "metadata": {},
     "output_type": "execute_result"
    },
    {
     "data": {
      "image/png": "[encoded data removed]",
      "text/plain": [
       "<Figure size 640x480 with 2 Axes>"
      ]
     },
     "metadata": {},
     "output_type": "display_data"
    }
   ],
   "source": [
    "sns.heatmap(기대수익률.corr(), annot = True, fmt = '.2f') "
   ]
  },
  {
   "cell_type": "code",
   "execution_count": 27,
   "id": "26f9dfcd-1859-42f8-9e1a-454523921329",
   "metadata": {
    "tags": []
   },
   "outputs": [
    {
     "data": {
      "text/html": [
       "<div>\n",
       "<style scoped>\n",
       "    .dataframe tbody tr th:only-of-type {\n",
       "        vertical-align: middle;\n",
       "    }\n",
       "\n",
       "    .dataframe tbody tr th {\n",
       "        vertical-align: top;\n",
       "    }\n",
       "\n",
       "    .dataframe thead th {\n",
       "        text-align: right;\n",
       "    }\n",
       "</style>\n",
       "<table border=\"1\" class=\"dataframe\">\n",
       "  <thead>\n",
       "    <tr style=\"text-align: right;\">\n",
       "      <th></th>\n",
       "      <th>주식기대수익률</th>\n",
       "      <th>채권기대수익률</th>\n",
       "    </tr>\n",
       "  </thead>\n",
       "  <tbody>\n",
       "    <tr>\n",
       "      <th>주식기대수익률</th>\n",
       "      <td>0.000008</td>\n",
       "      <td>-0.000003</td>\n",
       "    </tr>\n",
       "    <tr>\n",
       "      <th>채권기대수익률</th>\n",
       "      <td>-0.000003</td>\n",
       "      <td>0.000066</td>\n",
       "    </tr>\n",
       "  </tbody>\n",
       "</table>\n",
       "</div>"
      ],
      "text/plain": [
       "          주식기대수익률   채권기대수익률\n",
       "주식기대수익률  0.000008 -0.000003\n",
       "채권기대수익률 -0.000003  0.000066"
      ]
     },
     "execution_count": 27,
     "metadata": {},
     "output_type": "execute_result"
    }
   ],
   "source": [
    "cov_df = 기대수익률.cov()\n",
    "cov_df"
   ]
  },
  {
   "cell_type": "markdown",
   "id": "3f6306d8-fd5a-4b26-b082-e26f456f25e4",
   "metadata": {},
   "source": [
    "## 기대수익률의 편차(std)를 이용한 연간 리스크"
   ]
  },
  {
   "cell_type": "code",
   "execution_count": 28,
   "id": "0c91b422-e3d1-4cd0-bf67-4dc5d27688a4",
   "metadata": {
    "tags": []
   },
   "outputs": [
    {
     "data": {
      "text/plain": [
       "array([0.27625562, 0.81273137])"
      ]
     },
     "execution_count": 28,
     "metadata": {},
     "output_type": "execute_result"
    }
   ],
   "source": [
    "(기대수익률.std()*100).values"
   ]
  },
  {
   "cell_type": "code",
   "execution_count": null,
   "id": "b30d1cda-520f-4470-970b-5e8243c7e04f",
   "metadata": {},
   "outputs": [],
   "source": []
  },
  {
   "cell_type": "markdown",
   "id": "6167f438-7ce9-4d3a-b163-86029fe95fc5",
   "metadata": {},
   "source": [
    "# 효율적 투자 전략"
   ]
  },
  {
   "cell_type": "code",
   "execution_count": 47,
   "id": "3fc37d70-9d0e-4cd7-867a-9f2c96e09a8f",
   "metadata": {
    "tags": []
   },
   "outputs": [
    {
     "data": {
      "text/html": [
       "<div>\n",
       "<style scoped>\n",
       "    .dataframe tbody tr th:only-of-type {\n",
       "        vertical-align: middle;\n",
       "    }\n",
       "\n",
       "    .dataframe tbody tr th {\n",
       "        vertical-align: top;\n",
       "    }\n",
       "\n",
       "    .dataframe thead th {\n",
       "        text-align: right;\n",
       "    }\n",
       "</style>\n",
       "<table border=\"1\" class=\"dataframe\">\n",
       "  <thead>\n",
       "    <tr style=\"text-align: right;\">\n",
       "      <th></th>\n",
       "      <th>기대수익률</th>\n",
       "      <th>리스크</th>\n",
       "      <th>샤프지수</th>\n",
       "      <th>가중치</th>\n",
       "    </tr>\n",
       "  </thead>\n",
       "  <tbody>\n",
       "    <tr>\n",
       "      <th>0</th>\n",
       "      <td>0.045564</td>\n",
       "      <td>0.039846</td>\n",
       "      <td>1.143511</td>\n",
       "      <td>[0.851, 0.149]</td>\n",
       "    </tr>\n",
       "    <tr>\n",
       "      <th>1</th>\n",
       "      <td>0.034818</td>\n",
       "      <td>0.074251</td>\n",
       "      <td>0.468923</td>\n",
       "      <td>[0.4251, 0.5749]</td>\n",
       "    </tr>\n",
       "    <tr>\n",
       "      <th>2</th>\n",
       "      <td>0.036960</td>\n",
       "      <td>0.064447</td>\n",
       "      <td>0.573485</td>\n",
       "      <td>[0.5099, 0.4901]</td>\n",
       "    </tr>\n",
       "    <tr>\n",
       "      <th>3</th>\n",
       "      <td>0.031988</td>\n",
       "      <td>0.088037</td>\n",
       "      <td>0.363350</td>\n",
       "      <td>[0.3129, 0.6871]</td>\n",
       "    </tr>\n",
       "    <tr>\n",
       "      <th>4</th>\n",
       "      <td>0.038546</td>\n",
       "      <td>0.057718</td>\n",
       "      <td>0.667835</td>\n",
       "      <td>[0.5728, 0.4272]</td>\n",
       "    </tr>\n",
       "  </tbody>\n",
       "</table>\n",
       "</div>"
      ],
      "text/plain": [
       "      기대수익률       리스크      샤프지수               가중치\n",
       "0  0.045564  0.039846  1.143511    [0.851, 0.149]\n",
       "1  0.034818  0.074251  0.468923  [0.4251, 0.5749]\n",
       "2  0.036960  0.064447  0.573485  [0.5099, 0.4901]\n",
       "3  0.031988  0.088037  0.363350  [0.3129, 0.6871]\n",
       "4  0.038546  0.057718  0.667835  [0.5728, 0.4272]"
      ]
     },
     "execution_count": 47,
     "metadata": {},
     "output_type": "execute_result"
    }
   ],
   "source": [
    "annual_ret = 기대수익률.mean()   * 252\n",
    "annual_cov = 기대수익률.cov() * 252\n",
    "\n",
    "port_ret     = [] \n",
    "port_risk    = [] \n",
    "port_weights = [] \n",
    "port_sharp   = [] \n",
    "stocks = ['주식','채권']\n",
    "\n",
    "for _ in range(30000): \n",
    "    weights = np.random.random(len(stocks)) \n",
    "    weights = weights / np.sum(weights) \n",
    "\n",
    "    #------------------- 포폴 수익률, 리스크(편차), 샤프지수 -----------------------\n",
    "    returns = np.dot(weights, annual_ret) \n",
    "    risk    = np.sqrt(np.dot(weights.T, np.dot(annual_cov, weights))) \n",
    "    sharp   =  returns / risk #샤프지수\n",
    "    \n",
    "    port_ret.append(returns) \n",
    "    port_risk.append(risk) \n",
    "    port_weights.append(np.round(weights,4)) \n",
    "    port_sharp.append(sharp) \n",
    "    \n",
    "    \n",
    "port_dic = {'기대수익률': port_ret, '리스크': port_risk, '샤프지수':port_sharp ,'가중치': port_weights} \n",
    "pdf = pd.DataFrame(port_dic) \n",
    "# print(f'{stocks}')\n",
    "pdf.head()"
   ]
  },
  {
   "cell_type": "code",
   "execution_count": 48,
   "id": "050bb4e7-eb05-44d2-85fd-bee51096f50a",
   "metadata": {
    "tags": []
   },
   "outputs": [
    {
     "name": "stdout",
     "output_type": "stream",
     "text": [
      "Expected annual return: 0.0493\n",
      "Annual volatility: 0.0398\n",
      "Sharpe Ratio: 1.1710\n"
     ]
    }
   ],
   "source": [
    "# 샤프치수   최대 포트\n",
    "sharp_max = pdf[pdf['샤프지수'] == pdf['샤프지수'].max()]['샤프지수'].values[0]\n",
    "\n",
    "# 위험리스크 최소 포트\n",
    "risk_min  = pdf[pdf['리스크'] == pdf['리스크'].min()] ['리스크'].values[0]\n",
    "# 수익률     최대 포트\n",
    "return_max = pdf[pdf['기대수익률'] == pdf['기대수익률'].max()] ['기대수익률'].values[0]\n",
    "\n",
    "print(f'Expected annual return: {return_max:.4f}')\n",
    "print(f'Annual volatility: {risk_min:.4f}')\n",
    "print(f'Sharpe Ratio: {sharp_max:.4f}')"
   ]
  },
  {
   "cell_type": "code",
   "execution_count": 49,
   "id": "60ed4a2f-256d-4284-bf94-4dea7d940fc1",
   "metadata": {
    "tags": []
   },
   "outputs": [
    {
     "data": {
      "image/png": "[encoded data removed]",
      "text/plain": [
       "<Figure size 800x400 with 1 Axes>"
      ]
     },
     "metadata": {},
     "output_type": "display_data"
    }
   ],
   "source": [
    "# 샤프치수   최대 포트\n",
    "sharp_max = pdf[pdf['샤프지수'] == pdf['샤프지수'].max()]\n",
    "# 위험리스크 최소 포트\n",
    "risk_min  = pdf[pdf['리스크'] == pdf['리스크'].min()] \n",
    "# 수익률     최대 포트\n",
    "return_max = pdf[pdf['기대수익률'] == pdf['기대수익률'].max()] \n",
    "\n",
    "plt.figure(figsize=(8,4))\n",
    "sns.scatterplot(data=pdf        , x='리스크', y='기대수익률'                     , label=f\"포트폴리오 구성\")\n",
    "sns.scatterplot(data=sharp_max , x='리스크', y='기대수익률', marker=\"^\", c='lightgreen',s=100, label=f\"샤프 지수:{sharp_max['가중치'].values[0]}\")\n",
    "sns.scatterplot(data=risk_min  , x='리스크', y='기대수익률', marker=\"X\", c='red', s=100,label=f\"리스크 최소:{risk_min['가중치'].values[0]}\")\n",
    "sns.scatterplot(data=return_max, x='리스크', y='기대수익률', marker=\"s\", c='yellow', s=100,label=f\"수익률 최대:{return_max['가중치'].values[0]}\")\n",
    "\n",
    "plt.title(f'효율적 포트폴리오 구성 : {stocks}') \n",
    "plt.xlabel('Risk') \n",
    "plt.ylabel('Expected Returns') \n",
    "plt.show() "
   ]
  },
  {
   "cell_type": "code",
   "execution_count": null,
   "id": "ff314220-3e2e-4ed6-9635-330cdfd30012",
   "metadata": {},
   "outputs": [],
   "source": []
  }
 ],
 "metadata": {
  "kernelspec": {
   "display_name": "Python 3 (ipykernel)",
   "language": "python",
   "name": "python3"
  },
  "language_info": {
   "codemirror_mode": {
    "name": "ipython",
    "version": 3
   },
   "file_extension": ".py",
   "mimetype": "text/x-python",
   "name": "python",
   "nbconvert_exporter": "python",
   "pygments_lexer": "ipython3",
   "version": "3.8.8"
  }
 },
 "nbformat": 4,
 "nbformat_minor": 5
}
