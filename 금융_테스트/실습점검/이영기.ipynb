{
 "cells": [
  {
   "cell_type": "markdown",
   "id": "746c1dfc-38fb-48b5-9678-31e826e8beb3",
   "metadata": {},
   "source": [
    "# 효율적 투자 전략\n",
    "* 대상 종목 : 주식, 채권"
   ]
  },
  {
   "cell_type": "code",
   "execution_count": 1,
   "id": "144c4380-6b44-41d1-a6f5-8a00bef3dc29",
   "metadata": {},
   "outputs": [
    {
     "data": {
      "text/html": [
       "<style>.container{width:100% !important;}</style>"
      ],
      "text/plain": [
       "<IPython.core.display.HTML object>"
      ]
     },
     "metadata": {},
     "output_type": "display_data"
    }
   ],
   "source": [
    "from IPython.display import Image\n",
    "import pandas as pd\n",
    "import numpy as np\n",
    "import matplotlib.pyplot as plt\n",
    "import seaborn as sns\n",
    "\n",
    "\n",
    "import warnings\n",
    "warnings.filterwarnings(action='ignore')\n",
    "sns.set()\n",
    "\n",
    "#-------------------- 차트 관련 속성 (한글처리, 그리드) -----------\n",
    "#plt.rc('font', family='NanumGothicOTF') # For MacOS\n",
    "plt.rcParams['font.family']= 'Malgun Gothic'\n",
    "plt.rcParams['axes.unicode_minus'] = False\n",
    "\n",
    "\n",
    "#-------------------- 주피터 , 출력결과 넓이 늘리기 ---------------\n",
    "from IPython.core.display import display, HTML\n",
    "display(HTML(\"<style>.container{width:100% !important;}</style>\"))\n",
    "pd.set_option('display.max_rows', 100)\n",
    "pd.set_option('display.max_columns', 100)\n",
    "pd.set_option('max_colwidth', None)\n",
    "\n"
   ]
  },
  {
   "cell_type": "code",
   "execution_count": 10,
   "id": "b1db916a-ddf7-40ef-a370-56d55b878434",
   "metadata": {
    "tags": []
   },
   "outputs": [],
   "source": [
    "sdf = pd.read_csv(\"./자료폴더/kodex_stock.csv\"   ,parse_dates=[\"dt\"])\n",
    "bdf = pd.read_csv(\"./자료폴더/kodex_bond10y.csv\" ,parse_dates=[\"dt\"])"
   ]
  },
  {
   "cell_type": "code",
   "execution_count": 11,
   "id": "a9d81e88-3ea5-49d6-badc-5340a6058f08",
   "metadata": {
    "tags": []
   },
   "outputs": [
    {
     "data": {
      "text/plain": [
       "((1845, 6), (1845, 6))"
      ]
     },
     "execution_count": 11,
     "metadata": {},
     "output_type": "execute_result"
    }
   ],
   "source": [
    "sdf.shape, bdf.shape"
   ]
  },
  {
   "cell_type": "code",
   "execution_count": 12,
   "id": "6c27d084-fe09-4f92-a924-b9717e8843bb",
   "metadata": {
    "tags": []
   },
   "outputs": [
    {
     "data": {
      "text/html": [
       "<div>\n",
       "<style scoped>\n",
       "    .dataframe tbody tr th:only-of-type {\n",
       "        vertical-align: middle;\n",
       "    }\n",
       "\n",
       "    .dataframe tbody tr th {\n",
       "        vertical-align: top;\n",
       "    }\n",
       "\n",
       "    .dataframe thead th {\n",
       "        text-align: right;\n",
       "    }\n",
       "</style>\n",
       "<table border=\"1\" class=\"dataframe\">\n",
       "  <thead>\n",
       "    <tr style=\"text-align: right;\">\n",
       "      <th></th>\n",
       "      <th>dt</th>\n",
       "      <th>close</th>\n",
       "      <th>high</th>\n",
       "      <th>low</th>\n",
       "      <th>open</th>\n",
       "      <th>volume</th>\n",
       "    </tr>\n",
       "  </thead>\n",
       "  <tbody>\n",
       "    <tr>\n",
       "      <th>0</th>\n",
       "      <td>2012-01-20</td>\n",
       "      <td>49960.0</td>\n",
       "      <td>50040.0</td>\n",
       "      <td>49960.0</td>\n",
       "      <td>50040.0</td>\n",
       "      <td>3276.0</td>\n",
       "    </tr>\n",
       "    <tr>\n",
       "      <th>1</th>\n",
       "      <td>2012-01-25</td>\n",
       "      <td>49960.0</td>\n",
       "      <td>49960.0</td>\n",
       "      <td>49960.0</td>\n",
       "      <td>49960.0</td>\n",
       "      <td>100.0</td>\n",
       "    </tr>\n",
       "    <tr>\n",
       "      <th>2</th>\n",
       "      <td>2012-01-26</td>\n",
       "      <td>49930.0</td>\n",
       "      <td>49985.0</td>\n",
       "      <td>49925.0</td>\n",
       "      <td>49960.0</td>\n",
       "      <td>1161.0</td>\n",
       "    </tr>\n",
       "    <tr>\n",
       "      <th>3</th>\n",
       "      <td>2012-01-27</td>\n",
       "      <td>50000.0</td>\n",
       "      <td>57200.0</td>\n",
       "      <td>49810.0</td>\n",
       "      <td>57200.0</td>\n",
       "      <td>104.0</td>\n",
       "    </tr>\n",
       "    <tr>\n",
       "      <th>4</th>\n",
       "      <td>2012-01-30</td>\n",
       "      <td>50130.0</td>\n",
       "      <td>50130.0</td>\n",
       "      <td>50000.0</td>\n",
       "      <td>50000.0</td>\n",
       "      <td>1080.0</td>\n",
       "    </tr>\n",
       "  </tbody>\n",
       "</table>\n",
       "</div>"
      ],
      "text/plain": [
       "          dt    close     high      low     open  volume\n",
       "0 2012-01-20  49960.0  50040.0  49960.0  50040.0  3276.0\n",
       "1 2012-01-25  49960.0  49960.0  49960.0  49960.0   100.0\n",
       "2 2012-01-26  49930.0  49985.0  49925.0  49960.0  1161.0\n",
       "3 2012-01-27  50000.0  57200.0  49810.0  57200.0   104.0\n",
       "4 2012-01-30  50130.0  50130.0  50000.0  50000.0  1080.0"
      ]
     },
     "execution_count": 12,
     "metadata": {},
     "output_type": "execute_result"
    }
   ],
   "source": [
    "sdf.head()"
   ]
  },
  {
   "cell_type": "code",
   "execution_count": 13,
   "id": "8761fc39-a5b7-4f51-90f5-a4b7e9599021",
   "metadata": {
    "tags": []
   },
   "outputs": [
    {
     "name": "stdout",
     "output_type": "stream",
     "text": [
      "<class 'pandas.core.frame.DataFrame'>\n",
      "RangeIndex: 1845 entries, 0 to 1844\n",
      "Data columns (total 6 columns):\n",
      " #   Column  Non-Null Count  Dtype         \n",
      "---  ------  --------------  -----         \n",
      " 0   dt      1845 non-null   datetime64[ns]\n",
      " 1   close   1845 non-null   float64       \n",
      " 2   high    1845 non-null   float64       \n",
      " 3   low     1845 non-null   float64       \n",
      " 4   open    1845 non-null   float64       \n",
      " 5   volume  1845 non-null   float64       \n",
      "dtypes: datetime64[ns](1), float64(5)\n",
      "memory usage: 86.6 KB\n"
     ]
    }
   ],
   "source": [
    "sdf.info()"
   ]
  },
  {
   "cell_type": "code",
   "execution_count": 17,
   "id": "26c36c10-508a-40df-942f-f00f1f1d6eb5",
   "metadata": {
    "tags": []
   },
   "outputs": [
    {
     "data": {
      "text/html": [
       "<div>\n",
       "<style scoped>\n",
       "    .dataframe tbody tr th:only-of-type {\n",
       "        vertical-align: middle;\n",
       "    }\n",
       "\n",
       "    .dataframe tbody tr th {\n",
       "        vertical-align: top;\n",
       "    }\n",
       "\n",
       "    .dataframe thead th {\n",
       "        text-align: right;\n",
       "    }\n",
       "</style>\n",
       "<table border=\"1\" class=\"dataframe\">\n",
       "  <thead>\n",
       "    <tr style=\"text-align: right;\">\n",
       "      <th></th>\n",
       "      <th>close</th>\n",
       "      <th>high</th>\n",
       "      <th>low</th>\n",
       "      <th>open</th>\n",
       "      <th>volume</th>\n",
       "    </tr>\n",
       "    <tr>\n",
       "      <th>dt</th>\n",
       "      <th></th>\n",
       "      <th></th>\n",
       "      <th></th>\n",
       "      <th></th>\n",
       "      <th></th>\n",
       "    </tr>\n",
       "  </thead>\n",
       "  <tbody>\n",
       "    <tr>\n",
       "      <th>2012-01-20</th>\n",
       "      <td>49960.0</td>\n",
       "      <td>50040.0</td>\n",
       "      <td>49960.0</td>\n",
       "      <td>50040.0</td>\n",
       "      <td>3276.0</td>\n",
       "    </tr>\n",
       "    <tr>\n",
       "      <th>2012-01-25</th>\n",
       "      <td>49960.0</td>\n",
       "      <td>49960.0</td>\n",
       "      <td>49960.0</td>\n",
       "      <td>49960.0</td>\n",
       "      <td>100.0</td>\n",
       "    </tr>\n",
       "    <tr>\n",
       "      <th>2012-01-26</th>\n",
       "      <td>49930.0</td>\n",
       "      <td>49985.0</td>\n",
       "      <td>49925.0</td>\n",
       "      <td>49960.0</td>\n",
       "      <td>1161.0</td>\n",
       "    </tr>\n",
       "    <tr>\n",
       "      <th>2012-01-27</th>\n",
       "      <td>50000.0</td>\n",
       "      <td>57200.0</td>\n",
       "      <td>49810.0</td>\n",
       "      <td>57200.0</td>\n",
       "      <td>104.0</td>\n",
       "    </tr>\n",
       "    <tr>\n",
       "      <th>2012-01-30</th>\n",
       "      <td>50130.0</td>\n",
       "      <td>50130.0</td>\n",
       "      <td>50000.0</td>\n",
       "      <td>50000.0</td>\n",
       "      <td>1080.0</td>\n",
       "    </tr>\n",
       "  </tbody>\n",
       "</table>\n",
       "</div>"
      ],
      "text/plain": [
       "              close     high      low     open  volume\n",
       "dt                                                    \n",
       "2012-01-20  49960.0  50040.0  49960.0  50040.0  3276.0\n",
       "2012-01-25  49960.0  49960.0  49960.0  49960.0   100.0\n",
       "2012-01-26  49930.0  49985.0  49925.0  49960.0  1161.0\n",
       "2012-01-27  50000.0  57200.0  49810.0  57200.0   104.0\n",
       "2012-01-30  50130.0  50130.0  50000.0  50000.0  1080.0"
      ]
     },
     "execution_count": 17,
     "metadata": {},
     "output_type": "execute_result"
    }
   ],
   "source": [
    "sdf = sdf.set_index(\"dt\")\n",
    "sdf.head()"
   ]
  },
  {
   "cell_type": "code",
   "execution_count": 14,
   "id": "6b3ccfe3-b361-4925-8589-209b876c22d2",
   "metadata": {
    "tags": []
   },
   "outputs": [
    {
     "data": {
      "text/html": [
       "<div>\n",
       "<style scoped>\n",
       "    .dataframe tbody tr th:only-of-type {\n",
       "        vertical-align: middle;\n",
       "    }\n",
       "\n",
       "    .dataframe tbody tr th {\n",
       "        vertical-align: top;\n",
       "    }\n",
       "\n",
       "    .dataframe thead th {\n",
       "        text-align: right;\n",
       "    }\n",
       "</style>\n",
       "<table border=\"1\" class=\"dataframe\">\n",
       "  <thead>\n",
       "    <tr style=\"text-align: right;\">\n",
       "      <th></th>\n",
       "      <th>dt</th>\n",
       "      <th>close</th>\n",
       "      <th>high</th>\n",
       "      <th>low</th>\n",
       "      <th>open</th>\n",
       "      <th>volume</th>\n",
       "    </tr>\n",
       "  </thead>\n",
       "  <tbody>\n",
       "    <tr>\n",
       "      <th>0</th>\n",
       "      <td>2012-01-20</td>\n",
       "      <td>23197.4</td>\n",
       "      <td>23264.1</td>\n",
       "      <td>22801.9</td>\n",
       "      <td>22833.0</td>\n",
       "      <td>5205309.50</td>\n",
       "    </tr>\n",
       "    <tr>\n",
       "      <th>1</th>\n",
       "      <td>2012-01-25</td>\n",
       "      <td>23277.4</td>\n",
       "      <td>23539.6</td>\n",
       "      <td>23161.9</td>\n",
       "      <td>23197.4</td>\n",
       "      <td>7721437.00</td>\n",
       "    </tr>\n",
       "    <tr>\n",
       "      <th>2</th>\n",
       "      <td>2012-01-26</td>\n",
       "      <td>23299.6</td>\n",
       "      <td>23428.5</td>\n",
       "      <td>23237.4</td>\n",
       "      <td>23428.5</td>\n",
       "      <td>2162210.50</td>\n",
       "    </tr>\n",
       "    <tr>\n",
       "      <th>3</th>\n",
       "      <td>2012-01-27</td>\n",
       "      <td>23335.2</td>\n",
       "      <td>23419.6</td>\n",
       "      <td>23206.3</td>\n",
       "      <td>23419.6</td>\n",
       "      <td>3456417.50</td>\n",
       "    </tr>\n",
       "    <tr>\n",
       "      <th>4</th>\n",
       "      <td>2012-01-30</td>\n",
       "      <td>23073.0</td>\n",
       "      <td>23308.5</td>\n",
       "      <td>23050.8</td>\n",
       "      <td>23241.9</td>\n",
       "      <td>2899746.25</td>\n",
       "    </tr>\n",
       "  </tbody>\n",
       "</table>\n",
       "</div>"
      ],
      "text/plain": [
       "          dt    close     high      low     open      volume\n",
       "0 2012-01-20  23197.4  23264.1  22801.9  22833.0  5205309.50\n",
       "1 2012-01-25  23277.4  23539.6  23161.9  23197.4  7721437.00\n",
       "2 2012-01-26  23299.6  23428.5  23237.4  23428.5  2162210.50\n",
       "3 2012-01-27  23335.2  23419.6  23206.3  23419.6  3456417.50\n",
       "4 2012-01-30  23073.0  23308.5  23050.8  23241.9  2899746.25"
      ]
     },
     "execution_count": 14,
     "metadata": {},
     "output_type": "execute_result"
    }
   ],
   "source": [
    "bdf.head()"
   ]
  },
  {
   "cell_type": "code",
   "execution_count": 15,
   "id": "d14cfe21-bc3d-41cc-ba1f-204bd4ae8445",
   "metadata": {
    "tags": []
   },
   "outputs": [
    {
     "name": "stdout",
     "output_type": "stream",
     "text": [
      "<class 'pandas.core.frame.DataFrame'>\n",
      "RangeIndex: 1845 entries, 0 to 1844\n",
      "Data columns (total 6 columns):\n",
      " #   Column  Non-Null Count  Dtype         \n",
      "---  ------  --------------  -----         \n",
      " 0   dt      1845 non-null   datetime64[ns]\n",
      " 1   close   1845 non-null   float64       \n",
      " 2   high    1845 non-null   float64       \n",
      " 3   low     1845 non-null   float64       \n",
      " 4   open    1845 non-null   float64       \n",
      " 5   volume  1845 non-null   float64       \n",
      "dtypes: datetime64[ns](1), float64(5)\n",
      "memory usage: 86.6 KB\n"
     ]
    }
   ],
   "source": [
    "bdf.info()"
   ]
  },
  {
   "cell_type": "code",
   "execution_count": 18,
   "id": "429cc091-cf4c-4db1-8290-dcea76eef0cd",
   "metadata": {
    "tags": []
   },
   "outputs": [
    {
     "data": {
      "text/html": [
       "<div>\n",
       "<style scoped>\n",
       "    .dataframe tbody tr th:only-of-type {\n",
       "        vertical-align: middle;\n",
       "    }\n",
       "\n",
       "    .dataframe tbody tr th {\n",
       "        vertical-align: top;\n",
       "    }\n",
       "\n",
       "    .dataframe thead th {\n",
       "        text-align: right;\n",
       "    }\n",
       "</style>\n",
       "<table border=\"1\" class=\"dataframe\">\n",
       "  <thead>\n",
       "    <tr style=\"text-align: right;\">\n",
       "      <th></th>\n",
       "      <th>close</th>\n",
       "      <th>high</th>\n",
       "      <th>low</th>\n",
       "      <th>open</th>\n",
       "      <th>volume</th>\n",
       "    </tr>\n",
       "    <tr>\n",
       "      <th>dt</th>\n",
       "      <th></th>\n",
       "      <th></th>\n",
       "      <th></th>\n",
       "      <th></th>\n",
       "      <th></th>\n",
       "    </tr>\n",
       "  </thead>\n",
       "  <tbody>\n",
       "    <tr>\n",
       "      <th>2012-01-20</th>\n",
       "      <td>23197.4</td>\n",
       "      <td>23264.1</td>\n",
       "      <td>22801.9</td>\n",
       "      <td>22833.0</td>\n",
       "      <td>5205309.50</td>\n",
       "    </tr>\n",
       "    <tr>\n",
       "      <th>2012-01-25</th>\n",
       "      <td>23277.4</td>\n",
       "      <td>23539.6</td>\n",
       "      <td>23161.9</td>\n",
       "      <td>23197.4</td>\n",
       "      <td>7721437.00</td>\n",
       "    </tr>\n",
       "    <tr>\n",
       "      <th>2012-01-26</th>\n",
       "      <td>23299.6</td>\n",
       "      <td>23428.5</td>\n",
       "      <td>23237.4</td>\n",
       "      <td>23428.5</td>\n",
       "      <td>2162210.50</td>\n",
       "    </tr>\n",
       "    <tr>\n",
       "      <th>2012-01-27</th>\n",
       "      <td>23335.2</td>\n",
       "      <td>23419.6</td>\n",
       "      <td>23206.3</td>\n",
       "      <td>23419.6</td>\n",
       "      <td>3456417.50</td>\n",
       "    </tr>\n",
       "    <tr>\n",
       "      <th>2012-01-30</th>\n",
       "      <td>23073.0</td>\n",
       "      <td>23308.5</td>\n",
       "      <td>23050.8</td>\n",
       "      <td>23241.9</td>\n",
       "      <td>2899746.25</td>\n",
       "    </tr>\n",
       "  </tbody>\n",
       "</table>\n",
       "</div>"
      ],
      "text/plain": [
       "              close     high      low     open      volume\n",
       "dt                                                        \n",
       "2012-01-20  23197.4  23264.1  22801.9  22833.0  5205309.50\n",
       "2012-01-25  23277.4  23539.6  23161.9  23197.4  7721437.00\n",
       "2012-01-26  23299.6  23428.5  23237.4  23428.5  2162210.50\n",
       "2012-01-27  23335.2  23419.6  23206.3  23419.6  3456417.50\n",
       "2012-01-30  23073.0  23308.5  23050.8  23241.9  2899746.25"
      ]
     },
     "execution_count": 18,
     "metadata": {},
     "output_type": "execute_result"
    }
   ],
   "source": [
    "bdf = bdf.set_index(\"dt\")\n",
    "bdf.head()"
   ]
  },
  {
   "cell_type": "code",
   "execution_count": null,
   "id": "0909b066-3921-458b-9413-0c541099d66f",
   "metadata": {},
   "outputs": [],
   "source": []
  },
  {
   "cell_type": "code",
   "execution_count": null,
   "id": "6223c00a-ac0e-4991-b060-42f4cec8c3b8",
   "metadata": {},
   "outputs": [],
   "source": []
  },
  {
   "cell_type": "markdown",
   "id": "8aed076a-317d-4cb8-abcc-41e438b7a0e0",
   "metadata": {},
   "source": [
    "### 주식과 채권은 몇대몇의 비율이어야 최대의 포트폴리오를 얻는가?"
   ]
  },
  {
   "cell_type": "code",
   "execution_count": 26,
   "id": "340d0775-459b-406d-ba5f-3e207d429c27",
   "metadata": {
    "tags": []
   },
   "outputs": [
    {
     "data": {
      "text/html": [
       "<div>\n",
       "<style scoped>\n",
       "    .dataframe tbody tr th:only-of-type {\n",
       "        vertical-align: middle;\n",
       "    }\n",
       "\n",
       "    .dataframe tbody tr th {\n",
       "        vertical-align: top;\n",
       "    }\n",
       "\n",
       "    .dataframe thead th {\n",
       "        text-align: right;\n",
       "    }\n",
       "</style>\n",
       "<table border=\"1\" class=\"dataframe\">\n",
       "  <thead>\n",
       "    <tr style=\"text-align: right;\">\n",
       "      <th></th>\n",
       "    </tr>\n",
       "  </thead>\n",
       "  <tbody>\n",
       "  </tbody>\n",
       "</table>\n",
       "</div>"
      ],
      "text/plain": [
       "Empty DataFrame\n",
       "Columns: []\n",
       "Index: []"
      ]
     },
     "execution_count": 26,
     "metadata": {},
     "output_type": "execute_result"
    }
   ],
   "source": [
    "df = pd.DataFrame([])\n",
    "df"
   ]
  },
  {
   "cell_type": "code",
   "execution_count": 27,
   "id": "7a60ad08-ad98-4a3d-bdcd-223928a6adb2",
   "metadata": {
    "tags": []
   },
   "outputs": [
    {
     "data": {
      "text/html": [
       "<div>\n",
       "<style scoped>\n",
       "    .dataframe tbody tr th:only-of-type {\n",
       "        vertical-align: middle;\n",
       "    }\n",
       "\n",
       "    .dataframe tbody tr th {\n",
       "        vertical-align: top;\n",
       "    }\n",
       "\n",
       "    .dataframe thead th {\n",
       "        text-align: right;\n",
       "    }\n",
       "</style>\n",
       "<table border=\"1\" class=\"dataframe\">\n",
       "  <thead>\n",
       "    <tr style=\"text-align: right;\">\n",
       "      <th></th>\n",
       "      <th>주식_pct_chg</th>\n",
       "    </tr>\n",
       "    <tr>\n",
       "      <th>dt</th>\n",
       "      <th></th>\n",
       "    </tr>\n",
       "  </thead>\n",
       "  <tbody>\n",
       "    <tr>\n",
       "      <th>2012-01-20</th>\n",
       "      <td>NaN</td>\n",
       "    </tr>\n",
       "    <tr>\n",
       "      <th>2012-01-25</th>\n",
       "      <td>0.000000</td>\n",
       "    </tr>\n",
       "    <tr>\n",
       "      <th>2012-01-26</th>\n",
       "      <td>-0.000600</td>\n",
       "    </tr>\n",
       "    <tr>\n",
       "      <th>2012-01-27</th>\n",
       "      <td>0.001402</td>\n",
       "    </tr>\n",
       "    <tr>\n",
       "      <th>2012-01-30</th>\n",
       "      <td>0.002600</td>\n",
       "    </tr>\n",
       "    <tr>\n",
       "      <th>...</th>\n",
       "      <td>...</td>\n",
       "    </tr>\n",
       "    <tr>\n",
       "      <th>2019-07-17</th>\n",
       "      <td>0.002181</td>\n",
       "    </tr>\n",
       "    <tr>\n",
       "      <th>2019-07-18</th>\n",
       "      <td>0.006390</td>\n",
       "    </tr>\n",
       "    <tr>\n",
       "      <th>2019-07-19</th>\n",
       "      <td>0.001465</td>\n",
       "    </tr>\n",
       "    <tr>\n",
       "      <th>2019-07-22</th>\n",
       "      <td>-0.001184</td>\n",
       "    </tr>\n",
       "    <tr>\n",
       "      <th>2019-07-23</th>\n",
       "      <td>-0.000139</td>\n",
       "    </tr>\n",
       "  </tbody>\n",
       "</table>\n",
       "<p>1845 rows × 1 columns</p>\n",
       "</div>"
      ],
      "text/plain": [
       "            주식_pct_chg\n",
       "dt                    \n",
       "2012-01-20         NaN\n",
       "2012-01-25    0.000000\n",
       "2012-01-26   -0.000600\n",
       "2012-01-27    0.001402\n",
       "2012-01-30    0.002600\n",
       "...                ...\n",
       "2019-07-17    0.002181\n",
       "2019-07-18    0.006390\n",
       "2019-07-19    0.001465\n",
       "2019-07-22   -0.001184\n",
       "2019-07-23   -0.000139\n",
       "\n",
       "[1845 rows x 1 columns]"
      ]
     },
     "execution_count": 27,
     "metadata": {},
     "output_type": "execute_result"
    }
   ],
   "source": [
    "df[[\"주식_pct_chg\"]] = sdf[[\"close\"]].pct_change()\n",
    "df[[\"주식_pct_chg\"]]"
   ]
  },
  {
   "cell_type": "code",
   "execution_count": 28,
   "id": "f6112bdf-5b49-4f87-a756-75431e2bd769",
   "metadata": {
    "tags": []
   },
   "outputs": [
    {
     "data": {
      "text/html": [
       "<div>\n",
       "<style scoped>\n",
       "    .dataframe tbody tr th:only-of-type {\n",
       "        vertical-align: middle;\n",
       "    }\n",
       "\n",
       "    .dataframe tbody tr th {\n",
       "        vertical-align: top;\n",
       "    }\n",
       "\n",
       "    .dataframe thead th {\n",
       "        text-align: right;\n",
       "    }\n",
       "</style>\n",
       "<table border=\"1\" class=\"dataframe\">\n",
       "  <thead>\n",
       "    <tr style=\"text-align: right;\">\n",
       "      <th></th>\n",
       "      <th>채권_pct_chg</th>\n",
       "    </tr>\n",
       "    <tr>\n",
       "      <th>dt</th>\n",
       "      <th></th>\n",
       "    </tr>\n",
       "  </thead>\n",
       "  <tbody>\n",
       "    <tr>\n",
       "      <th>2012-01-20</th>\n",
       "      <td>NaN</td>\n",
       "    </tr>\n",
       "    <tr>\n",
       "      <th>2012-01-25</th>\n",
       "      <td>0.003449</td>\n",
       "    </tr>\n",
       "    <tr>\n",
       "      <th>2012-01-26</th>\n",
       "      <td>0.000954</td>\n",
       "    </tr>\n",
       "    <tr>\n",
       "      <th>2012-01-27</th>\n",
       "      <td>0.001528</td>\n",
       "    </tr>\n",
       "    <tr>\n",
       "      <th>2012-01-30</th>\n",
       "      <td>-0.011236</td>\n",
       "    </tr>\n",
       "    <tr>\n",
       "      <th>...</th>\n",
       "      <td>...</td>\n",
       "    </tr>\n",
       "    <tr>\n",
       "      <th>2019-07-17</th>\n",
       "      <td>-0.008919</td>\n",
       "    </tr>\n",
       "    <tr>\n",
       "      <th>2019-07-18</th>\n",
       "      <td>-0.002204</td>\n",
       "    </tr>\n",
       "    <tr>\n",
       "      <th>2019-07-19</th>\n",
       "      <td>0.013989</td>\n",
       "    </tr>\n",
       "    <tr>\n",
       "      <th>2019-07-22</th>\n",
       "      <td>-0.000363</td>\n",
       "    </tr>\n",
       "    <tr>\n",
       "      <th>2019-07-23</th>\n",
       "      <td>0.004903</td>\n",
       "    </tr>\n",
       "  </tbody>\n",
       "</table>\n",
       "<p>1845 rows × 1 columns</p>\n",
       "</div>"
      ],
      "text/plain": [
       "            채권_pct_chg\n",
       "dt                    \n",
       "2012-01-20         NaN\n",
       "2012-01-25    0.003449\n",
       "2012-01-26    0.000954\n",
       "2012-01-27    0.001528\n",
       "2012-01-30   -0.011236\n",
       "...                ...\n",
       "2019-07-17   -0.008919\n",
       "2019-07-18   -0.002204\n",
       "2019-07-19    0.013989\n",
       "2019-07-22   -0.000363\n",
       "2019-07-23    0.004903\n",
       "\n",
       "[1845 rows x 1 columns]"
      ]
     },
     "execution_count": 28,
     "metadata": {},
     "output_type": "execute_result"
    }
   ],
   "source": [
    "df[[\"채권_pct_chg\"]] = bdf[[\"close\"]].pct_change()\n",
    "df[[\"채권_pct_chg\"]]"
   ]
  },
  {
   "cell_type": "code",
   "execution_count": 29,
   "id": "75365c0a-c140-4ce7-aa59-63023b56c6f8",
   "metadata": {
    "tags": []
   },
   "outputs": [
    {
     "data": {
      "text/html": [
       "<div>\n",
       "<style scoped>\n",
       "    .dataframe tbody tr th:only-of-type {\n",
       "        vertical-align: middle;\n",
       "    }\n",
       "\n",
       "    .dataframe tbody tr th {\n",
       "        vertical-align: top;\n",
       "    }\n",
       "\n",
       "    .dataframe thead th {\n",
       "        text-align: right;\n",
       "    }\n",
       "</style>\n",
       "<table border=\"1\" class=\"dataframe\">\n",
       "  <thead>\n",
       "    <tr style=\"text-align: right;\">\n",
       "      <th></th>\n",
       "      <th>주식_pct_chg</th>\n",
       "      <th>채권_pct_chg</th>\n",
       "    </tr>\n",
       "    <tr>\n",
       "      <th>dt</th>\n",
       "      <th></th>\n",
       "      <th></th>\n",
       "    </tr>\n",
       "  </thead>\n",
       "  <tbody>\n",
       "    <tr>\n",
       "      <th>2012-01-20</th>\n",
       "      <td>NaN</td>\n",
       "      <td>NaN</td>\n",
       "    </tr>\n",
       "    <tr>\n",
       "      <th>2012-01-25</th>\n",
       "      <td>0.000000</td>\n",
       "      <td>0.003449</td>\n",
       "    </tr>\n",
       "    <tr>\n",
       "      <th>2012-01-26</th>\n",
       "      <td>-0.000600</td>\n",
       "      <td>0.000954</td>\n",
       "    </tr>\n",
       "    <tr>\n",
       "      <th>2012-01-27</th>\n",
       "      <td>0.001402</td>\n",
       "      <td>0.001528</td>\n",
       "    </tr>\n",
       "    <tr>\n",
       "      <th>2012-01-30</th>\n",
       "      <td>0.002600</td>\n",
       "      <td>-0.011236</td>\n",
       "    </tr>\n",
       "    <tr>\n",
       "      <th>...</th>\n",
       "      <td>...</td>\n",
       "      <td>...</td>\n",
       "    </tr>\n",
       "    <tr>\n",
       "      <th>2019-07-17</th>\n",
       "      <td>0.002181</td>\n",
       "      <td>-0.008919</td>\n",
       "    </tr>\n",
       "    <tr>\n",
       "      <th>2019-07-18</th>\n",
       "      <td>0.006390</td>\n",
       "      <td>-0.002204</td>\n",
       "    </tr>\n",
       "    <tr>\n",
       "      <th>2019-07-19</th>\n",
       "      <td>0.001465</td>\n",
       "      <td>0.013989</td>\n",
       "    </tr>\n",
       "    <tr>\n",
       "      <th>2019-07-22</th>\n",
       "      <td>-0.001184</td>\n",
       "      <td>-0.000363</td>\n",
       "    </tr>\n",
       "    <tr>\n",
       "      <th>2019-07-23</th>\n",
       "      <td>-0.000139</td>\n",
       "      <td>0.004903</td>\n",
       "    </tr>\n",
       "  </tbody>\n",
       "</table>\n",
       "<p>1845 rows × 2 columns</p>\n",
       "</div>"
      ],
      "text/plain": [
       "            주식_pct_chg  채권_pct_chg\n",
       "dt                                \n",
       "2012-01-20         NaN         NaN\n",
       "2012-01-25    0.000000    0.003449\n",
       "2012-01-26   -0.000600    0.000954\n",
       "2012-01-27    0.001402    0.001528\n",
       "2012-01-30    0.002600   -0.011236\n",
       "...                ...         ...\n",
       "2019-07-17    0.002181   -0.008919\n",
       "2019-07-18    0.006390   -0.002204\n",
       "2019-07-19    0.001465    0.013989\n",
       "2019-07-22   -0.001184   -0.000363\n",
       "2019-07-23   -0.000139    0.004903\n",
       "\n",
       "[1845 rows x 2 columns]"
      ]
     },
     "execution_count": 29,
     "metadata": {},
     "output_type": "execute_result"
    }
   ],
   "source": [
    "df"
   ]
  },
  {
   "cell_type": "code",
   "execution_count": 30,
   "id": "0f96b503-cc35-4e2b-9aaf-63b2aab6d3d0",
   "metadata": {
    "tags": []
   },
   "outputs": [],
   "source": [
    "# ret ---------------\n",
    "day_ret = df\n",
    "year_ret = df.mean() *252\n",
    "# cov ---------------\n",
    "day_cov = day_ret.cov()\n",
    "year_cov = day_cov *252"
   ]
  },
  {
   "cell_type": "code",
   "execution_count": 77,
   "id": "e29b978b-c3dc-443d-a19d-fff78cd91fcc",
   "metadata": {
    "tags": []
   },
   "outputs": [],
   "source": [
    "port_ret = []\n",
    "port_w = []\n",
    "port_risk = []\n",
    "port_sharp = []\n",
    "\n",
    "for _ in range(20000):\n",
    "    w = np.random.random(len(df.columns))\n",
    "    w = w / np.sum(w)\n",
    "    \n",
    "    ret   = np.dot(w, year_ret)\n",
    "    risk  = np.dot( w.T, np.dot( year_cov, w ) )\n",
    "    sharp = ret / risk\n",
    "    \n",
    "    port_ret.append(ret)\n",
    "    port_risk.append(risk)\n",
    "    port_w.append(np.round(w,2))\n",
    "    port_sharp.append(sharp)\n",
    "    \n",
    "port_dict = {\"Returns\": port_ret,\"Risk\": port_risk,\"Sharp\": port_sharp,\"Weights\": port_w}\n",
    "port_df = pd.DataFrame(port_dict)"
   ]
  },
  {
   "cell_type": "code",
   "execution_count": 78,
   "id": "e06ca5fa-99ca-4672-abcd-34b2da6bc335",
   "metadata": {
    "tags": []
   },
   "outputs": [
    {
     "data": {
      "text/html": [
       "<div>\n",
       "<style scoped>\n",
       "    .dataframe tbody tr th:only-of-type {\n",
       "        vertical-align: middle;\n",
       "    }\n",
       "\n",
       "    .dataframe tbody tr th {\n",
       "        vertical-align: top;\n",
       "    }\n",
       "\n",
       "    .dataframe thead th {\n",
       "        text-align: right;\n",
       "    }\n",
       "</style>\n",
       "<table border=\"1\" class=\"dataframe\">\n",
       "  <thead>\n",
       "    <tr style=\"text-align: right;\">\n",
       "      <th></th>\n",
       "      <th>Returns</th>\n",
       "      <th>Risk</th>\n",
       "      <th>Sharp</th>\n",
       "      <th>Weights</th>\n",
       "    </tr>\n",
       "  </thead>\n",
       "  <tbody>\n",
       "    <tr>\n",
       "      <th>0</th>\n",
       "      <td>0.042564</td>\n",
       "      <td>0.003385</td>\n",
       "      <td>12.574010</td>\n",
       "      <td>[0.57, 0.43]</td>\n",
       "    </tr>\n",
       "    <tr>\n",
       "      <th>1</th>\n",
       "      <td>0.040905</td>\n",
       "      <td>0.004669</td>\n",
       "      <td>8.761822</td>\n",
       "      <td>[0.48, 0.52]</td>\n",
       "    </tr>\n",
       "    <tr>\n",
       "      <th>2</th>\n",
       "      <td>0.041177</td>\n",
       "      <td>0.004434</td>\n",
       "      <td>9.285943</td>\n",
       "      <td>[0.49, 0.51]</td>\n",
       "    </tr>\n",
       "    <tr>\n",
       "      <th>3</th>\n",
       "      <td>0.044089</td>\n",
       "      <td>0.002507</td>\n",
       "      <td>17.584625</td>\n",
       "      <td>[0.65, 0.35]</td>\n",
       "    </tr>\n",
       "    <tr>\n",
       "      <th>4</th>\n",
       "      <td>0.048314</td>\n",
       "      <td>0.001590</td>\n",
       "      <td>30.389504</td>\n",
       "      <td>[0.89, 0.11]</td>\n",
       "    </tr>\n",
       "  </tbody>\n",
       "</table>\n",
       "</div>"
      ],
      "text/plain": [
       "    Returns      Risk      Sharp       Weights\n",
       "0  0.042564  0.003385  12.574010  [0.57, 0.43]\n",
       "1  0.040905  0.004669   8.761822  [0.48, 0.52]\n",
       "2  0.041177  0.004434   9.285943  [0.49, 0.51]\n",
       "3  0.044089  0.002507  17.584625  [0.65, 0.35]\n",
       "4  0.048314  0.001590  30.389504  [0.89, 0.11]"
      ]
     },
     "execution_count": 78,
     "metadata": {},
     "output_type": "execute_result"
    }
   ],
   "source": [
    "port_df.head()"
   ]
  },
  {
   "cell_type": "code",
   "execution_count": 79,
   "id": "e0e422d2-aa3f-4b74-9b46-905346380d46",
   "metadata": {
    "tags": []
   },
   "outputs": [
    {
     "data": {
      "text/html": [
       "<div>\n",
       "<style scoped>\n",
       "    .dataframe tbody tr th:only-of-type {\n",
       "        vertical-align: middle;\n",
       "    }\n",
       "\n",
       "    .dataframe tbody tr th {\n",
       "        vertical-align: top;\n",
       "    }\n",
       "\n",
       "    .dataframe thead th {\n",
       "        text-align: right;\n",
       "    }\n",
       "</style>\n",
       "<table border=\"1\" class=\"dataframe\">\n",
       "  <thead>\n",
       "    <tr style=\"text-align: right;\">\n",
       "      <th></th>\n",
       "      <th>Returns</th>\n",
       "      <th>Risk</th>\n",
       "      <th>Sharp</th>\n",
       "      <th>Weights</th>\n",
       "    </tr>\n",
       "  </thead>\n",
       "  <tbody>\n",
       "    <tr>\n",
       "      <th>18172</th>\n",
       "      <td>0.047945</td>\n",
       "      <td>0.001581</td>\n",
       "      <td>30.319263</td>\n",
       "      <td>[0.87, 0.13]</td>\n",
       "    </tr>\n",
       "  </tbody>\n",
       "</table>\n",
       "</div>"
      ],
      "text/plain": [
       "        Returns      Risk      Sharp       Weights\n",
       "18172  0.047945  0.001581  30.319263  [0.87, 0.13]"
      ]
     },
     "execution_count": 79,
     "metadata": {},
     "output_type": "execute_result"
    }
   ],
   "source": [
    "Risk_df = port_df[port_df['Risk']==port_df['Risk'].min()]\n",
    "Risk_df"
   ]
  },
  {
   "cell_type": "code",
   "execution_count": 80,
   "id": "21124a0b-c7e8-41cd-bc9f-aba348e7b973",
   "metadata": {
    "tags": []
   },
   "outputs": [
    {
     "data": {
      "text/html": [
       "<div>\n",
       "<style scoped>\n",
       "    .dataframe tbody tr th:only-of-type {\n",
       "        vertical-align: middle;\n",
       "    }\n",
       "\n",
       "    .dataframe tbody tr th {\n",
       "        vertical-align: top;\n",
       "    }\n",
       "\n",
       "    .dataframe thead th {\n",
       "        text-align: right;\n",
       "    }\n",
       "</style>\n",
       "<table border=\"1\" class=\"dataframe\">\n",
       "  <thead>\n",
       "    <tr style=\"text-align: right;\">\n",
       "      <th></th>\n",
       "      <th>Returns</th>\n",
       "      <th>Risk</th>\n",
       "      <th>Sharp</th>\n",
       "      <th>Weights</th>\n",
       "    </tr>\n",
       "  </thead>\n",
       "  <tbody>\n",
       "    <tr>\n",
       "      <th>5669</th>\n",
       "      <td>0.050284</td>\n",
       "      <td>0.001922</td>\n",
       "      <td>26.160212</td>\n",
       "      <td>[1.0, 0.0]</td>\n",
       "    </tr>\n",
       "  </tbody>\n",
       "</table>\n",
       "</div>"
      ],
      "text/plain": [
       "       Returns      Risk      Sharp     Weights\n",
       "5669  0.050284  0.001922  26.160212  [1.0, 0.0]"
      ]
     },
     "execution_count": 80,
     "metadata": {},
     "output_type": "execute_result"
    }
   ],
   "source": [
    "Returns_df = port_df[port_df['Returns']==port_df['Returns'].max()]\n",
    "Returns_df"
   ]
  },
  {
   "cell_type": "code",
   "execution_count": 81,
   "id": "0b5744d5-fbdb-4ea3-a4ef-1dde864e5663",
   "metadata": {
    "tags": []
   },
   "outputs": [
    {
     "data": {
      "text/html": [
       "<div>\n",
       "<style scoped>\n",
       "    .dataframe tbody tr th:only-of-type {\n",
       "        vertical-align: middle;\n",
       "    }\n",
       "\n",
       "    .dataframe tbody tr th {\n",
       "        vertical-align: top;\n",
       "    }\n",
       "\n",
       "    .dataframe thead th {\n",
       "        text-align: right;\n",
       "    }\n",
       "</style>\n",
       "<table border=\"1\" class=\"dataframe\">\n",
       "  <thead>\n",
       "    <tr style=\"text-align: right;\">\n",
       "      <th></th>\n",
       "      <th>Returns</th>\n",
       "      <th>Risk</th>\n",
       "      <th>Sharp</th>\n",
       "      <th>Weights</th>\n",
       "    </tr>\n",
       "  </thead>\n",
       "  <tbody>\n",
       "    <tr>\n",
       "      <th>4761</th>\n",
       "      <td>0.048208</td>\n",
       "      <td>0.001586</td>\n",
       "      <td>30.402765</td>\n",
       "      <td>[0.88, 0.12]</td>\n",
       "    </tr>\n",
       "  </tbody>\n",
       "</table>\n",
       "</div>"
      ],
      "text/plain": [
       "       Returns      Risk      Sharp       Weights\n",
       "4761  0.048208  0.001586  30.402765  [0.88, 0.12]"
      ]
     },
     "execution_count": 81,
     "metadata": {},
     "output_type": "execute_result"
    }
   ],
   "source": [
    "sharp_df = port_df[port_df['Sharp']==port_df['Sharp'].max()]\n",
    "sharp_df"
   ]
  },
  {
   "cell_type": "code",
   "execution_count": 82,
   "id": "3c049fa5-99c2-48f9-b2ca-aea9cccc20fc",
   "metadata": {
    "tags": []
   },
   "outputs": [
    {
     "data": {
      "text/plain": [
       "4761    [0.88, 0.12]\n",
       "Name: Weights, dtype: object"
      ]
     },
     "execution_count": 82,
     "metadata": {},
     "output_type": "execute_result"
    }
   ],
   "source": [
    "sharp_df[\"Weights\"]"
   ]
  },
  {
   "cell_type": "code",
   "execution_count": 83,
   "id": "1f88c017-186e-4111-a325-cd28ebbff510",
   "metadata": {
    "tags": []
   },
   "outputs": [
    {
     "data": {
      "image/png": "[encoded data removed]",
      "text/plain": [
       "<Figure size 640x480 with 1 Axes>"
      ]
     },
     "metadata": {},
     "output_type": "display_data"
    }
   ],
   "source": [
    "sns.scatterplot(data=port_df,    x=\"Risk\" ,y=\"Returns\")\n",
    "plt.xlabel('Risk') \n",
    "plt.ylabel('Expected Returns') \n",
    "plt.show() "
   ]
  },
  {
   "cell_type": "code",
   "execution_count": 93,
   "id": "ff40ff63-3b80-4435-8f05-0f5118f4a1ad",
   "metadata": {
    "tags": []
   },
   "outputs": [
    {
     "data": {
      "image/png": "[encoded data removed]",
      "text/plain": [
       "<Figure size 640x480 with 1 Axes>"
      ]
     },
     "metadata": {},
     "output_type": "display_data"
    }
   ],
   "source": [
    "sns.scatterplot(data=port_df,    x=\"Risk\" ,y=\"Returns\"  ,c=\"pink\")\n",
    "sns.scatterplot(data=Risk_df,    x=\"Risk\" ,y=\"Returns\"  ,c=\"blue\"        , label=f\"Risk_min    : {Risk_df['Weights']}\")\n",
    "sns.scatterplot(data=Returns_df, x=\"Risk\" ,y=\"Returns\"  ,c=\"red\"         , label=f\"Returns_max : {Returns_df['Weights']}\")\n",
    "sns.scatterplot(data=sharp_df,   x=\"Risk\" ,y=\"Returns\"  ,c=\"lightgreen\"  , label=f\"sharp_max   : {sharp_df['Weights']}\")\n",
    "\n",
    "plt.xlabel('Risk') \n",
    "plt.ylabel('Expected Returns') \n",
    "plt.show() "
   ]
  },
  {
   "cell_type": "code",
   "execution_count": 67,
   "id": "ac5507a0-883d-49cf-ad1d-859024b6ce44",
   "metadata": {
    "tags": []
   },
   "outputs": [
    {
     "data": {
      "text/plain": [
       "0.8836019030562754"
      ]
     },
     "execution_count": 67,
     "metadata": {},
     "output_type": "execute_result"
    }
   ],
   "source": [
    "sharp_df[\"Weights\"].values[0][0]"
   ]
  },
  {
   "cell_type": "code",
   "execution_count": 70,
   "id": "da0837f3-9a9a-4615-86d9-9fb962e22df6",
   "metadata": {
    "tags": []
   },
   "outputs": [
    {
     "name": "stdout",
     "output_type": "stream",
     "text": [
      "주식비율:0.8836019030562754, 채권비율:0.11639809694372463\n"
     ]
    }
   ],
   "source": [
    "print(f\"주식비율:{sharp_df['Weights'].values[0][0]}, 채권비율:{sharp_df['Weights'].values[0][1]}\")"
   ]
  },
  {
   "cell_type": "code",
   "execution_count": null,
   "id": "37de0e9d-5f5e-4fb7-ae50-c4049b95d674",
   "metadata": {},
   "outputs": [],
   "source": []
  },
  {
   "cell_type": "code",
   "execution_count": null,
   "id": "27fda877-40e4-4dad-9947-7010ec9358ea",
   "metadata": {},
   "outputs": [],
   "source": []
  }
 ],
 "metadata": {
  "kernelspec": {
   "display_name": "Python 3 (ipykernel)",
   "language": "python",
   "name": "python3"
  },
  "language_info": {
   "codemirror_mode": {
    "name": "ipython",
    "version": 3
   },
   "file_extension": ".py",
   "mimetype": "text/x-python",
   "name": "python",
   "nbconvert_exporter": "python",
   "pygments_lexer": "ipython3",
   "version": "3.8.8"
  }
 },
 "nbformat": 4,
 "nbformat_minor": 5
}
