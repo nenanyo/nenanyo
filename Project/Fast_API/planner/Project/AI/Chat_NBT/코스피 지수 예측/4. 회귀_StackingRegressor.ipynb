{
 "cells": [
  {
   "cell_type": "code",
   "execution_count": 2,
   "id": "6972ce93-6142-4d24-8c39-18c3d0e72d67",
   "metadata": {
    "tags": []
   },
   "outputs": [
    {
     "data": {
      "text/html": [
       "<style>.container{width:100% !important;}</style>"
      ],
      "text/plain": [
       "<IPython.core.display.HTML object>"
      ]
     },
     "metadata": {},
     "output_type": "display_data"
    }
   ],
   "source": [
    "import numpy as np\n",
    "import pandas as pd\n",
    "\n",
    "import matplotlib.pyplot as plt\n",
    "import seaborn as sns\n",
    "\n",
    "\n",
    "sns.set()\n",
    "\n",
    "#-------------------- 차트 관련 속성 (한글처리, 그리드) -----------\n",
    "plt.rcParams['font.family']= 'Malgun Gothic'\n",
    "plt.rcParams['axes.unicode_minus'] = False\n",
    "\n",
    "#-------------------- 주피터 , 출력결과 넓이 늘리기 ---------------\n",
    "# from IPython.core.display import display, HTML\n",
    "from IPython.display import display, HTML\n",
    "\n",
    "display(HTML(\"<style>.container{width:100% !important;}</style>\"))\n",
    "pd.set_option('display.max_rows', 100)\n",
    "pd.set_option('display.max_columns', 100)\n",
    "pd.set_option('max_colwidth', None)\n",
    "\n",
    "import warnings\n",
    "warnings.filterwarnings(action='ignore')"
   ]
  },
  {
   "cell_type": "code",
   "execution_count": 3,
   "id": "2cf4d4be-dbe1-4453-9707-ffde29c66f27",
   "metadata": {
    "tags": []
   },
   "outputs": [],
   "source": [
    "# import pandas_profiling\n",
    "\n",
    "# ----------------- 학습 ----------------------\n",
    "from sklearn.model_selection import train_test_split, cross_val_score\n",
    "from sklearn.preprocessing import StandardScaler, MinMaxScaler, RobustScaler\n",
    "\n",
    "# ----------------- 모델 ----------------------\n",
    "from sklearn.tree import DecisionTreeClassifier\n",
    "from sklearn.linear_model import LogisticRegression\n",
    "from sklearn.linear_model import Ridge\n",
    "\n",
    "# ----------------- 평가 ----------------------\n",
    "from sklearn.metrics import confusion_matrix\n",
    "from sklearn.metrics import mean_squared_error\n",
    "from sklearn.metrics import classification_report\n",
    "from sklearn.metrics import accuracy_score\n",
    "from sklearn.metrics import f1_score, precision_score, recall_score\n",
    "# from sklearn.metrics import precision_recall_curve, plot_precision_recall_curve\n",
    "\n",
    "# from sklearn.metrics import roc_auc_score, roc_curve, plot_roc_curve"
   ]
  },
  {
   "cell_type": "code",
   "execution_count": 10,
   "id": "ea1f981d-103a-4c33-a6fb-a42258736e1b",
   "metadata": {
    "tags": []
   },
   "outputs": [],
   "source": [
    "from sklearn.ensemble import StackingRegressor\n",
    "from sklearn.linear_model import RidgeCV\n",
    "from sklearn.svm import LinearSVR\n",
    "from sklearn.ensemble import RandomForestRegressor\n",
    "from sklearn.ensemble import StackingRegressor"
   ]
  },
  {
   "cell_type": "markdown",
   "id": "4a2edd10-c254-4469-a424-bee59795aea4",
   "metadata": {},
   "source": [
    "# 데이터 로드"
   ]
  },
  {
   "cell_type": "code",
   "execution_count": 6,
   "id": "5bedf20c-21d7-49dc-91fb-5814f14c7aad",
   "metadata": {
    "tags": []
   },
   "outputs": [],
   "source": [
    "train = pd.read_csv('../data/traindf.csv')\n",
    "test = pd.read_csv('../data/testdf.csv')\n",
    "train = train.rename(columns={'Unnamed: 0':'날짜'})\n",
    "test = test.rename(columns={'Unnamed: 0':'날짜'})\n",
    "\n",
    "# train.info(),test.info()"
   ]
  },
  {
   "cell_type": "code",
   "execution_count": 5,
   "id": "17968aa7-f0d0-44fd-8d4c-cd9695adca9c",
   "metadata": {
    "tags": []
   },
   "outputs": [
    {
     "data": {
      "text/html": [
       "<div>\n",
       "<style scoped>\n",
       "    .dataframe tbody tr th:only-of-type {\n",
       "        vertical-align: middle;\n",
       "    }\n",
       "\n",
       "    .dataframe tbody tr th {\n",
       "        vertical-align: top;\n",
       "    }\n",
       "\n",
       "    .dataframe thead th {\n",
       "        text-align: right;\n",
       "    }\n",
       "</style>\n",
       "<table border=\"1\" class=\"dataframe\">\n",
       "  <thead>\n",
       "    <tr style=\"text-align: right;\">\n",
       "      <th></th>\n",
       "      <th>날짜</th>\n",
       "      <th>장중_긍정비율</th>\n",
       "      <th>장중_부정비율</th>\n",
       "      <th>장중_긍부정비율</th>\n",
       "      <th>장외_긍정비율</th>\n",
       "      <th>장외_부정비율</th>\n",
       "      <th>장외_긍부정비율</th>\n",
       "      <th>등락률</th>\n",
       "      <th>등락여부</th>\n",
       "    </tr>\n",
       "  </thead>\n",
       "  <tbody>\n",
       "    <tr>\n",
       "      <th>0</th>\n",
       "      <td>2021-01-04</td>\n",
       "      <td>0.888889</td>\n",
       "      <td>0.111111</td>\n",
       "      <td>0.666667</td>\n",
       "      <td>0.916667</td>\n",
       "      <td>0.083333</td>\n",
       "      <td>0.75</td>\n",
       "      <td>2.47</td>\n",
       "      <td>1.0</td>\n",
       "    </tr>\n",
       "    <tr>\n",
       "      <th>1</th>\n",
       "      <td>2021-01-05</td>\n",
       "      <td>0.951613</td>\n",
       "      <td>0.048387</td>\n",
       "      <td>0.854839</td>\n",
       "      <td>0.900000</td>\n",
       "      <td>0.100000</td>\n",
       "      <td>0.70</td>\n",
       "      <td>1.57</td>\n",
       "      <td>1.0</td>\n",
       "    </tr>\n",
       "  </tbody>\n",
       "</table>\n",
       "</div>"
      ],
      "text/plain": [
       "           날짜   장중_긍정비율   장중_부정비율  장중_긍부정비율   장외_긍정비율   장외_부정비율  장외_긍부정비율  \\\n",
       "0  2021-01-04  0.888889  0.111111  0.666667  0.916667  0.083333      0.75   \n",
       "1  2021-01-05  0.951613  0.048387  0.854839  0.900000  0.100000      0.70   \n",
       "\n",
       "    등락률  등락여부  \n",
       "0  2.47   1.0  \n",
       "1  1.57   1.0  "
      ]
     },
     "execution_count": 5,
     "metadata": {},
     "output_type": "execute_result"
    }
   ],
   "source": [
    "train.head(2)"
   ]
  },
  {
   "cell_type": "code",
   "execution_count": 6,
   "id": "7cdeb790-64d9-4550-a310-887476531a5f",
   "metadata": {
    "tags": []
   },
   "outputs": [
    {
     "data": {
      "image/png": "[encoded data removed]",
      "text/plain": [
       "<Figure size 640x480 with 9 Axes>"
      ]
     },
     "metadata": {},
     "output_type": "display_data"
    }
   ],
   "source": [
    "train.hist()\n",
    "plt.show()"
   ]
  },
  {
   "cell_type": "markdown",
   "id": "aa4536cb-550f-4902-8490-ba01b4a8295d",
   "metadata": {
    "tags": []
   },
   "source": [
    "## 스케일링 X\n",
    "* RMSE : 0.9662"
   ]
  },
  {
   "cell_type": "code",
   "execution_count": 7,
   "id": "1f445240-f885-4545-8dd8-bd84bb115a16",
   "metadata": {
    "tags": []
   },
   "outputs": [],
   "source": [
    "X_train = train[['장중_긍정비율','장중_부정비율','장중_긍부정비율','장외_긍정비율','장외_부정비율','장외_긍부정비율']]\n",
    "y_train = train['등락률']\n",
    "X_test = test[['장중_긍정비율','장중_부정비율','장중_긍부정비율','장외_긍정비율','장외_부정비율','장외_긍부정비율']]\n",
    "y_test= test['등락률']"
   ]
  },
  {
   "cell_type": "markdown",
   "id": "30b885a9-48a4-4447-b2bb-f530b0819fd9",
   "metadata": {
    "tags": []
   },
   "source": [
    "Best param: {'reg_alpha': 6.967235245933871, 'reg_lambda': 1.3562544880457188, 'learning_rate': 0.09590960213297267, 'max_depth': 30}"
   ]
  },
  {
   "cell_type": "code",
   "execution_count": 11,
   "id": "44db3dac-d402-451a-95c2-1b9b472fe361",
   "metadata": {
    "tags": []
   },
   "outputs": [],
   "source": [
    "estimators = [\n",
    "   ('lr', RidgeCV()),\n",
    "   ('svr', LinearSVR(random_state=42))\n",
    "]"
   ]
  },
  {
   "cell_type": "code",
   "execution_count": 12,
   "id": "98e4cd63-18c0-41c7-8cdc-460ce49300d8",
   "metadata": {
    "tags": []
   },
   "outputs": [],
   "source": [
    " reg = StackingRegressor(\n",
    "  estimators=estimators,\n",
    "   final_estimator=RandomForestRegressor(n_estimators=10,\n",
    "                                          random_state=42)\n",
    ")"
   ]
  },
  {
   "cell_type": "code",
   "execution_count": 13,
   "id": "b8f8ece0-430e-4969-9aed-0771f625d91d",
   "metadata": {
    "tags": []
   },
   "outputs": [
    {
     "name": "stdout",
     "output_type": "stream",
     "text": [
      "RMSE : 0.9662\n"
     ]
    }
   ],
   "source": [
    "# reg=StackingRegressor(estimators)\n",
    "reg.fit(X_train,y_train)\n",
    "# print( xgb.coef_ )\n",
    "\n",
    "pred = reg.predict(X_test)\n",
    "rmse = mean_squared_error(y_test, pred, squared=False)\n",
    "print(f\"RMSE : {rmse:.4f}\")"
   ]
  }
 ],
 "metadata": {
  "kernelspec": {
   "display_name": "Python 3 (ipykernel)",
   "language": "python",
   "name": "python3"
  },
  "language_info": {
   "codemirror_mode": {
    "name": "ipython",
    "version": 3
   },
   "file_extension": ".py",
   "mimetype": "text/x-python",
   "name": "python",
   "nbconvert_exporter": "python",
   "pygments_lexer": "ipython3",
   "version": "3.8.8"
  }
 },
 "nbformat": 4,
 "nbformat_minor": 5
}
