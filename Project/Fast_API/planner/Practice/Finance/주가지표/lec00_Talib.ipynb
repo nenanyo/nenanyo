{
 "cells": [
  {
   "cell_type": "markdown",
   "id": "05ba6ad2-97d9-4cb0-9b9f-e5fcb31aacc0",
   "metadata": {},
   "source": [
    "<font size=6><b>Lec11. Ta-Lib"
   ]
  },
  {
   "cell_type": "markdown",
   "id": "19e35012-d30e-4012-beca-142c07d4f878",
   "metadata": {},
   "source": [
    "ref : https://mrjbq7.github.io/ta-lib/<br>\n",
    "**Function List**\n",
    "<pre>\n",
    "Overlap Studies\n",
    "Momentum Indicators\n",
    "Volume Indicators\n",
    "Volatility Indicators\n",
    "Price Transform\n",
    "Cycle Indicators\n",
    "Pattern Recognition\n",
    "Statistic Functions\n",
    "Math Transform\n",
    "Math Operators\n"
   ]
  },
  {
   "cell_type": "code",
   "execution_count": 37,
   "id": "5103b6bb-9557-4ebb-9986-185b2fca6056",
   "metadata": {},
   "outputs": [],
   "source": [
    "import talib.abstract as ta\n",
    "from pandas_datareader import data\n",
    "from talib import MA_Type\n",
    "import numpy as np"
   ]
  },
  {
   "cell_type": "code",
   "execution_count": 23,
   "id": "c17a440f-178e-4af1-a5fa-ae92caa7204d",
   "metadata": {},
   "outputs": [
    {
     "data": {
      "text/html": [
       "<div>\n",
       "<style scoped>\n",
       "    .dataframe tbody tr th:only-of-type {\n",
       "        vertical-align: middle;\n",
       "    }\n",
       "\n",
       "    .dataframe tbody tr th {\n",
       "        vertical-align: top;\n",
       "    }\n",
       "\n",
       "    .dataframe thead th {\n",
       "        text-align: right;\n",
       "    }\n",
       "</style>\n",
       "<table border=\"1\" class=\"dataframe\">\n",
       "  <thead>\n",
       "    <tr style=\"text-align: right;\">\n",
       "      <th></th>\n",
       "      <th>high</th>\n",
       "      <th>low</th>\n",
       "      <th>open</th>\n",
       "      <th>close</th>\n",
       "      <th>volume</th>\n",
       "      <th>adj close</th>\n",
       "    </tr>\n",
       "    <tr>\n",
       "      <th>Date</th>\n",
       "      <th></th>\n",
       "      <th></th>\n",
       "      <th></th>\n",
       "      <th></th>\n",
       "      <th></th>\n",
       "      <th></th>\n",
       "    </tr>\n",
       "  </thead>\n",
       "  <tbody>\n",
       "    <tr>\n",
       "      <th>2017-01-02</th>\n",
       "      <td>13250.0</td>\n",
       "      <td>12900.0</td>\n",
       "      <td>13250.0</td>\n",
       "      <td>12950.0</td>\n",
       "      <td>497396.0</td>\n",
       "      <td>12950.0</td>\n",
       "    </tr>\n",
       "    <tr>\n",
       "      <th>2017-01-13</th>\n",
       "      <td>12350.0</td>\n",
       "      <td>11850.0</td>\n",
       "      <td>12200.0</td>\n",
       "      <td>12100.0</td>\n",
       "      <td>612247.0</td>\n",
       "      <td>12100.0</td>\n",
       "    </tr>\n",
       "    <tr>\n",
       "      <th>2017-01-17</th>\n",
       "      <td>11600.0</td>\n",
       "      <td>11250.0</td>\n",
       "      <td>11500.0</td>\n",
       "      <td>11450.0</td>\n",
       "      <td>748532.0</td>\n",
       "      <td>11450.0</td>\n",
       "    </tr>\n",
       "    <tr>\n",
       "      <th>2017-01-23</th>\n",
       "      <td>11150.0</td>\n",
       "      <td>10400.0</td>\n",
       "      <td>11100.0</td>\n",
       "      <td>10500.0</td>\n",
       "      <td>914339.0</td>\n",
       "      <td>10500.0</td>\n",
       "    </tr>\n",
       "    <tr>\n",
       "      <th>2017-02-07</th>\n",
       "      <td>10700.0</td>\n",
       "      <td>10300.0</td>\n",
       "      <td>10450.0</td>\n",
       "      <td>10600.0</td>\n",
       "      <td>365127.0</td>\n",
       "      <td>10600.0</td>\n",
       "    </tr>\n",
       "  </tbody>\n",
       "</table>\n",
       "</div>"
      ],
      "text/plain": [
       "               high      low     open    close    volume  adj close\n",
       "Date                                                               \n",
       "2017-01-02  13250.0  12900.0  13250.0  12950.0  497396.0    12950.0\n",
       "2017-01-13  12350.0  11850.0  12200.0  12100.0  612247.0    12100.0\n",
       "2017-01-17  11600.0  11250.0  11500.0  11450.0  748532.0    11450.0\n",
       "2017-01-23  11150.0  10400.0  11100.0  10500.0  914339.0    10500.0\n",
       "2017-02-07  10700.0  10300.0  10450.0  10600.0  365127.0    10600.0"
      ]
     },
     "execution_count": 23,
     "metadata": {},
     "output_type": "execute_result"
    }
   ],
   "source": [
    "df = data.DataReader('215600.KQ','yahoo', '2017-01-01', '2018-01-31')\\\n",
    "    .dropna(how='all')\\\n",
    "    .rename(columns=lambda col:col.lower()) # 컬럼 이름을 소문자로 변경\n",
    "df.head()"
   ]
  },
  {
   "cell_type": "markdown",
   "id": "bd9bf0b9-dc07-4713-a6d7-c49d3d587a92",
   "metadata": {},
   "source": [
    "## 이동평균 "
   ]
  },
  {
   "cell_type": "code",
   "execution_count": 18,
   "id": "740c8332-e0d0-4b3b-96a3-c7bd93445b8b",
   "metadata": {},
   "outputs": [
    {
     "name": "stdout",
     "output_type": "stream",
     "text": [
      "71.3 µs ± 2.26 µs per loop (mean ± std. dev. of 7 runs, 10000 loops each)\n"
     ]
    },
    {
     "data": {
      "text/plain": [
       "Date\n",
       "2017-01-02        NaN\n",
       "2017-01-13        NaN\n",
       "2017-01-17        NaN\n",
       "2017-01-23        NaN\n",
       "2017-02-07    11520.0\n",
       "dtype: float64"
      ]
     },
     "execution_count": 18,
     "metadata": {},
     "output_type": "execute_result"
    }
   ],
   "source": [
    "%timeit ta.MA(df, timeperiod=5)\n",
    "ta.MA(df, timeperiod=5).head()"
   ]
  },
  {
   "cell_type": "code",
   "execution_count": 14,
   "id": "d17f99df-df83-4f26-9753-0d1062d60ba5",
   "metadata": {},
   "outputs": [
    {
     "name": "stdout",
     "output_type": "stream",
     "text": [
      "179 µs ± 1.93 µs per loop (mean ± std. dev. of 7 runs, 1000 loops each)\n"
     ]
    },
    {
     "data": {
      "text/plain": [
       "Date\n",
       "2018-01-25    108820.0\n",
       "2018-01-26    110220.0\n",
       "2018-01-29    111400.0\n",
       "2018-01-30    110420.0\n",
       "2018-01-31    109500.0\n",
       "Name: close, dtype: float64"
      ]
     },
     "execution_count": 14,
     "metadata": {},
     "output_type": "execute_result"
    }
   ],
   "source": [
    "%timeit df['close'].rolling(window=5).mean()\n",
    "df['close'].rolling(window=5).mean().tail() "
   ]
  },
  {
   "cell_type": "markdown",
   "id": "725771cd-de70-45bc-bd0f-44772550bc59",
   "metadata": {},
   "source": [
    "## 단순이동평균(SMA)"
   ]
  },
  {
   "cell_type": "code",
   "execution_count": 21,
   "id": "a51116b9-6086-44ab-8380-d41a98c15e3c",
   "metadata": {},
   "outputs": [
    {
     "data": {
      "text/plain": [
       "Date\n",
       "2018-01-25    95876.666667\n",
       "2018-01-26    96553.333333\n",
       "2018-01-29    97286.666667\n",
       "2018-01-30    97986.666667\n",
       "2018-01-31    98686.666667\n",
       "dtype: float64"
      ]
     },
     "execution_count": 21,
     "metadata": {},
     "output_type": "execute_result"
    }
   ],
   "source": [
    "ta.SMA(df).tail()"
   ]
  },
  {
   "cell_type": "code",
   "execution_count": 31,
   "id": "93cd4f61-8607-476d-a23a-73c0f9dd2db0",
   "metadata": {},
   "outputs": [
    {
     "data": {
      "text/plain": [
       "Date\n",
       "2018-01-25     99539.795872\n",
       "2018-01-26    100214.647752\n",
       "2018-01-29    100845.960800\n",
       "2018-01-30    101442.995587\n",
       "2018-01-31    101730.544259\n",
       "dtype: float64"
      ]
     },
     "execution_count": 31,
     "metadata": {},
     "output_type": "execute_result"
    }
   ],
   "source": [
    "ta.EMA(df).tail()"
   ]
  },
  {
   "cell_type": "code",
   "execution_count": 32,
   "id": "c625800a-c827-4b0b-bc57-289284f43ab0",
   "metadata": {},
   "outputs": [
    {
     "data": {
      "text/plain": [
       "Date\n",
       "2018-01-25    100753.548387\n",
       "2018-01-26    101664.731183\n",
       "2018-01-29    102532.258065\n",
       "2018-01-30    103358.924731\n",
       "2018-01-31    103869.462366\n",
       "dtype: float64"
      ]
     },
     "execution_count": 32,
     "metadata": {},
     "output_type": "execute_result"
    }
   ],
   "source": [
    "ta.WMA(df).tail()"
   ]
  },
  {
   "cell_type": "markdown",
   "id": "ddbd984c-2c4a-49ab-9526-1a3282cefef4",
   "metadata": {},
   "source": [
    "## MACD(Moving Average Convergence/Divergence)"
   ]
  },
  {
   "cell_type": "code",
   "execution_count": 47,
   "id": "c3950a6d-fa51-426d-bc97-978bc6e16341",
   "metadata": {},
   "outputs": [
    {
     "name": "stdout",
     "output_type": "stream",
     "text": [
      "[4838.79595364 4739.15600131 4272.04030075] [4233.05922422 4334.27857964 4321.83092386] [605.73672942 404.87742167 -49.79062311]\n"
     ]
    }
   ],
   "source": [
    "macd, macdsignal, macdhist = ta.MACD(df['close'], fastperiod=12, slowperiod=26, signalperiod=9)\n",
    "print(macd[-3:], macdsignal[-3:], macdhist[-3:])"
   ]
  },
  {
   "cell_type": "code",
   "execution_count": 26,
   "id": "853afb6f-68c4-4fe1-9f76-a8db81b0ddd5",
   "metadata": {},
   "outputs": [
    {
     "name": "stdout",
     "output_type": "stream",
     "text": [
      "No Python documentation found for 'ta.SMA'.\n",
      "Use help() to get the interactive help utility.\n",
      "Use help(str) for help on the str class.\n",
      "\n"
     ]
    }
   ],
   "source": [
    "# help('ta.SMA')"
   ]
  },
  {
   "cell_type": "code",
   "execution_count": 45,
   "id": "7e631f04-0c97-45c9-bae5-58a760349330",
   "metadata": {},
   "outputs": [],
   "source": [
    "close_arr = np.asarray(df[\"close\"])\n",
    "high_arr  = np.asarray(df[\"high\"])\n",
    "low_arr   = np.asarray(df[\"low\"])"
   ]
  },
  {
   "cell_type": "markdown",
   "id": "896caafd-c485-405e-9bbf-f36efd1fc930",
   "metadata": {},
   "source": [
    "## BBAND"
   ]
  },
  {
   "cell_type": "code",
   "execution_count": 44,
   "id": "11faae69-4608-4fbb-b745-a1c2bbb09dab",
   "metadata": {},
   "outputs": [
    {
     "name": "stdout",
     "output_type": "stream",
     "text": [
      "[115769.29211622 116437.62635222 116591.26932199]\n",
      "[103815. 104195. 104340.]\n",
      "[91860.70788378 91952.37364778 92088.73067801]\n"
     ]
    }
   ],
   "source": [
    "#볼린저 계산\n",
    "upper, middle, low = ta._ta_lib.BBANDS(close_arr, 20, 2, 2, matype=MA_Type.SMA)\n",
    "print(upper[-3:])\n",
    "print(middle[-3:])\n",
    "print(low[-3:] )"
   ]
  },
  {
   "cell_type": "markdown",
   "id": "5e6465ac-a4de-45ad-bdb4-9345452fa381",
   "metadata": {},
   "source": [
    "## 기타"
   ]
  },
  {
   "cell_type": "code",
   "execution_count": null,
   "id": "adc003f3-bfaa-40e4-a71c-ff26a2410200",
   "metadata": {},
   "outputs": [],
   "source": [
    "ta._ta_lib.RSI(close_arr, 14)\n",
    "ta._ta_lib.CCI(high_arr, low_arr, close_arr, 14)\n",
    "ta._ta_lib.WILLR(high_arr, low_arr, close_arr, 14)\n",
    "ta._ta_lib.VAR(close_arr, 5, 1)\n",
    "ta._ta_lib.ADX(high_arr, low_arr, close_arr, 14)\n",
    "ta._ta_lib.PLUS_DI(high_arr, low_arr, close_arr, 14)\n",
    "ta._ta_lib.PLUS_DM(high_arr, low_arr, 14)\n",
    "ta._ta_lib.ATR(high_arr, low_arr, close_arr, 30)"
   ]
  },
  {
   "cell_type": "code",
   "execution_count": null,
   "id": "56f07e62-e4ad-41dd-ad8f-815960dae48f",
   "metadata": {},
   "outputs": [],
   "source": []
  }
 ],
 "metadata": {
  "kernelspec": {
   "display_name": "Python 3 (ipykernel)",
   "language": "python",
   "name": "python3"
  },
  "language_info": {
   "codemirror_mode": {
    "name": "ipython",
    "version": 3
   },
   "file_extension": ".py",
   "mimetype": "text/x-python",
   "name": "python",
   "nbconvert_exporter": "python",
   "pygments_lexer": "ipython3",
   "version": "3.8.8"
  }
 },
 "nbformat": 4,
 "nbformat_minor": 5
}
