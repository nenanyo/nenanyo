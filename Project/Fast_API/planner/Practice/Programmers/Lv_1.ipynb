{
 "cells": [
  {
   "cell_type": "code",
   "execution_count": null,
   "metadata": {},
   "outputs": [],
   "source": [
    "# 콜라 문제\n",
    "def solution(a,b,n):\n",
    "    new = 0\n",
    "    while n >= a:\n",
    "        remains = n % a\n",
    "        n = (n//a) * b\n",
    "        new += n\n",
    "        n += remains\n",
    "    return new"
   ]
  },
  {
   "cell_type": "code",
   "execution_count": null,
   "metadata": {},
   "outputs": [],
   "source": [
    "# 소수 찾기\n",
    "def solution(n):\n",
    "    num = set(range(2,n+1))\n",
    "    # print(num)\n",
    "    for i in range(2,n+1):\n",
    "        if i in num:\n",
    "            num -= set(range(2*i, n+1, i))\n",
    "    return len(num)"
   ]
  },
  {
   "cell_type": "code",
   "execution_count": null,
   "metadata": {},
   "outputs": [],
   "source": [
    "# 덧칠하기\n",
    "def solution(n, m, section):\n",
    "    ans = 1\n",
    "    point = section[0]\n",
    "    for i in range(1, len(section)):\n",
    "        if section[i] - point >= m:\n",
    "            ans +=1\n",
    "            point = section[i]\n",
    "    return ans"
   ]
  },
  {
   "cell_type": "code",
   "execution_count": null,
   "metadata": {},
   "outputs": [],
   "source": [
    "# 실패율\n",
    "def solution(N, stages):\n",
    "    rates ={}\n",
    "    peo = len(stages)\n",
    "    for i in range(1,N+1):\n",
    "        if peo != 0:\n",
    "            rates[i]=stages.count(i)/peo\n",
    "            peo -= stages.count(i)\n",
    "        else:\n",
    "            rates[i] = 0\n",
    "            \n",
    "    return sorted(rates,key = lambda i:rates[i], reverse=True)"
   ]
  },
  {
   "cell_type": "code",
   "execution_count": null,
   "metadata": {},
   "outputs": [],
   "source": [
    "# 옹알이 (2)\n",
    "def solution(babbling):\n",
    "    ans = 0\n",
    "    ex = [\"aya\", \"ye\", \"woo\", \"ma\"]\n",
    "    for bab in babbling:\n",
    "        for e in ex:\n",
    "            if e*2 not in bab:\n",
    "                bab = bab.replace(e,' ')\n",
    "        if bab.isspace():\n",
    "            ans += 1\n",
    "    return ans"
   ]
  },
  {
   "cell_type": "code",
   "execution_count": null,
   "metadata": {},
   "outputs": [],
   "source": [
    "# 로또의 최고 순위와 최저 순위\n",
    "def solution(lottos, win_nums):\n",
    "    no = [6,6,5,4,3,2,1]\n",
    "    cnt_0 = lottos.count(0)\n",
    "    ans =0\n",
    "    for x in win_nums:\n",
    "        if x in lottos:\n",
    "            ans += 1\n",
    "    return no[ans +cnt_0], no[ans]"
   ]
  },
  {
   "cell_type": "code",
   "execution_count": null,
   "metadata": {},
   "outputs": [],
   "source": [
    "# 체육복\n",
    "def solution(n, lost, reserve): \n",
    "    lost.sort()\n",
    "    reserve.sort()\n",
    "    for i in reserve[:]:\n",
    "        print(i)\n",
    "    #     if i in lost:\n",
    "    #         lost.remove(i)\n",
    "    #         reserve.remove(i)\n",
    "    # for i  in reserve:\n",
    "    #     if i-1 in lost:\n",
    "    #         lost.remove(i-1)\n",
    "    #     elif i+1 in lost:\n",
    "    #         lost.remove(i+1)\n",
    "    \n",
    "    \n",
    "    return n-len(lost)\n"
   ]
  },
  {
   "cell_type": "code",
   "execution_count": null,
   "metadata": {},
   "outputs": [],
   "source": [
    "# 숫자 짝꿍\n",
    "def solution(X, Y):\n",
    "    ans = ''\n",
    "    for i in range(9,-1,-1):\n",
    "        ans += str(i) * min(X.count(str(i)), Y.count(str(i)))\n",
    "    if ans == '':\n",
    "        return '-1'\n",
    "    elif len(ans) == ans.count('0'):\n",
    "        return '0'\n",
    "    else:\n",
    "        return ans"
   ]
  }
 ],
 "metadata": {
  "kernelspec": {
   "display_name": "Python 3",
   "language": "python",
   "name": "python3"
  },
  "language_info": {
   "name": "python",
   "version": "3.8.8"
  }
 },
 "nbformat": 4,
 "nbformat_minor": 2
}
