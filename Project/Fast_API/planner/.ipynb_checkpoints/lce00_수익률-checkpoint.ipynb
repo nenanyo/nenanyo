{
 "cells": [
  {
   "cell_type": "markdown",
   "id": "c0e18977-5462-4592-8cd9-1ffb9f845a4a",
   "metadata": {},
   "source": [
    "# Lec00_수익률"
   ]
  },
  {
   "cell_type": "code",
   "execution_count": 1,
   "id": "b4146e8d-339e-45c9-920e-b7217041c3bd",
   "metadata": {
    "tags": []
   },
   "outputs": [],
   "source": [
    "import pykrx\n",
    "from pykrx import stock\n",
    "from pykrx import bond"
   ]
  },
  {
   "cell_type": "code",
   "execution_count": 2,
   "id": "e6ecc9ee-fe98-48fa-8c59-e8f090403400",
   "metadata": {
    "tags": []
   },
   "outputs": [
    {
     "data": {
      "text/html": [
       "<style>.container{width:100% !important;}</style>"
      ],
      "text/plain": [
       "<IPython.core.display.HTML object>"
      ]
     },
     "metadata": {},
     "output_type": "display_data"
    }
   ],
   "source": [
    "import pandas as pd\n",
    "import numpy as np\n",
    "import matplotlib.pyplot as plt\n",
    "import seaborn as sns\n",
    "\n",
    "import warnings\n",
    "warnings.filterwarnings(action='ignore')\n",
    "sns.set()\n",
    "#-------------------- 차트 관련 속성 (한글처리, 그리드) -----------\n",
    "#plt.rc('font', family='NanumGothicOTF') # For MacOS\n",
    "plt.rcParams['font.family']= 'Malgun Gothic'\n",
    "plt.rcParams['axes.unicode_minus'] = False\n",
    "\n",
    "\n",
    "#-------------------- 주피터 , 출력결과 넓이 늘리기 ---------------\n",
    "from IPython.core.display import display, HTML\n",
    "display(HTML(\"<style>.container{width:100% !important;}</style>\"))\n",
    "pd.set_option('display.max_rows', 100)\n",
    "pd.set_option('display.max_columns', 100)\n",
    "pd.set_option('max_colwidth', None)\n"
   ]
  },
  {
   "cell_type": "code",
   "execution_count": 3,
   "id": "fac0a3b6-5542-455f-bc90-94be27a52f37",
   "metadata": {
    "tags": []
   },
   "outputs": [
    {
     "data": {
      "text/html": [
       "<div>\n",
       "<style scoped>\n",
       "    .dataframe tbody tr th:only-of-type {\n",
       "        vertical-align: middle;\n",
       "    }\n",
       "\n",
       "    .dataframe tbody tr th {\n",
       "        vertical-align: top;\n",
       "    }\n",
       "\n",
       "    .dataframe thead th {\n",
       "        text-align: right;\n",
       "    }\n",
       "</style>\n",
       "<table border=\"1\" class=\"dataframe\">\n",
       "  <thead>\n",
       "    <tr style=\"text-align: right;\">\n",
       "      <th></th>\n",
       "      <th>종가</th>\n",
       "      <th>등락률</th>\n",
       "    </tr>\n",
       "    <tr>\n",
       "      <th>날짜</th>\n",
       "      <th></th>\n",
       "      <th></th>\n",
       "    </tr>\n",
       "  </thead>\n",
       "  <tbody>\n",
       "    <tr>\n",
       "      <th>2023-04-03</th>\n",
       "      <td>63100</td>\n",
       "      <td>-1.41</td>\n",
       "    </tr>\n",
       "    <tr>\n",
       "      <th>2023-04-04</th>\n",
       "      <td>63600</td>\n",
       "      <td>0.79</td>\n",
       "    </tr>\n",
       "    <tr>\n",
       "      <th>2023-04-05</th>\n",
       "      <td>63900</td>\n",
       "      <td>0.47</td>\n",
       "    </tr>\n",
       "    <tr>\n",
       "      <th>2023-04-06</th>\n",
       "      <td>62300</td>\n",
       "      <td>-2.50</td>\n",
       "    </tr>\n",
       "    <tr>\n",
       "      <th>2023-04-07</th>\n",
       "      <td>65000</td>\n",
       "      <td>4.33</td>\n",
       "    </tr>\n",
       "  </tbody>\n",
       "</table>\n",
       "</div>"
      ],
      "text/plain": [
       "               종가   등락률\n",
       "날짜                     \n",
       "2023-04-03  63100 -1.41\n",
       "2023-04-04  63600  0.79\n",
       "2023-04-05  63900  0.47\n",
       "2023-04-06  62300 -2.50\n",
       "2023-04-07  65000  4.33"
      ]
     },
     "execution_count": 3,
     "metadata": {},
     "output_type": "execute_result"
    }
   ],
   "source": [
    "df = stock.get_market_ohlcv('2023-04-03', '2023-04-08','005930')[[\"종가\",\"등락률\"]] \n",
    "df"
   ]
  },
  {
   "cell_type": "markdown",
   "id": "8f3e3156-ec56-44aa-a99e-e78f6cf4fd17",
   "metadata": {},
   "source": [
    "# 수익률\n",
    "* 포트 폴리오 상의 수익률 : 최종금액 / 최초금액"
   ]
  },
  {
   "cell_type": "code",
   "execution_count": 4,
   "id": "09da1bd4-8135-4534-9638-8e4ba7a1bad6",
   "metadata": {
    "tags": []
   },
   "outputs": [
    {
     "data": {
      "text/plain": [
       "1.0301109350237718"
      ]
     },
     "execution_count": 4,
     "metadata": {},
     "output_type": "execute_result"
    }
   ],
   "source": [
    "65000/63100"
   ]
  },
  {
   "cell_type": "markdown",
   "id": "55b75812-94cb-4c30-abcb-a2aa9abf0fd9",
   "metadata": {},
   "source": [
    "## 수익률"
   ]
  },
  {
   "cell_type": "code",
   "execution_count": 5,
   "id": "8281733b-e9ec-464a-9e5f-fed52b0563d0",
   "metadata": {
    "tags": []
   },
   "outputs": [
    {
     "data": {
      "text/html": [
       "<div>\n",
       "<style scoped>\n",
       "    .dataframe tbody tr th:only-of-type {\n",
       "        vertical-align: middle;\n",
       "    }\n",
       "\n",
       "    .dataframe tbody tr th {\n",
       "        vertical-align: top;\n",
       "    }\n",
       "\n",
       "    .dataframe thead th {\n",
       "        text-align: right;\n",
       "    }\n",
       "</style>\n",
       "<table border=\"1\" class=\"dataframe\">\n",
       "  <thead>\n",
       "    <tr style=\"text-align: right;\">\n",
       "      <th></th>\n",
       "      <th>종가</th>\n",
       "      <th>등락률</th>\n",
       "      <th>수익률</th>\n",
       "    </tr>\n",
       "    <tr>\n",
       "      <th>날짜</th>\n",
       "      <th></th>\n",
       "      <th></th>\n",
       "      <th></th>\n",
       "    </tr>\n",
       "  </thead>\n",
       "  <tbody>\n",
       "    <tr>\n",
       "      <th>2023-04-03</th>\n",
       "      <td>63100</td>\n",
       "      <td>-1.41</td>\n",
       "      <td>NaN</td>\n",
       "    </tr>\n",
       "    <tr>\n",
       "      <th>2023-04-04</th>\n",
       "      <td>63600</td>\n",
       "      <td>0.79</td>\n",
       "      <td>0.792393</td>\n",
       "    </tr>\n",
       "    <tr>\n",
       "      <th>2023-04-05</th>\n",
       "      <td>63900</td>\n",
       "      <td>0.47</td>\n",
       "      <td>0.471698</td>\n",
       "    </tr>\n",
       "    <tr>\n",
       "      <th>2023-04-06</th>\n",
       "      <td>62300</td>\n",
       "      <td>-2.50</td>\n",
       "      <td>-2.503912</td>\n",
       "    </tr>\n",
       "    <tr>\n",
       "      <th>2023-04-07</th>\n",
       "      <td>65000</td>\n",
       "      <td>4.33</td>\n",
       "      <td>4.333868</td>\n",
       "    </tr>\n",
       "  </tbody>\n",
       "</table>\n",
       "</div>"
      ],
      "text/plain": [
       "               종가   등락률       수익률\n",
       "날짜                               \n",
       "2023-04-03  63100 -1.41       NaN\n",
       "2023-04-04  63600  0.79  0.792393\n",
       "2023-04-05  63900  0.47  0.471698\n",
       "2023-04-06  62300 -2.50 -2.503912\n",
       "2023-04-07  65000  4.33  4.333868"
      ]
     },
     "execution_count": 5,
     "metadata": {},
     "output_type": "execute_result"
    }
   ],
   "source": [
    "df[\"수익률\"] = df[\"종가\"].pct_change()*100\n",
    "df"
   ]
  },
  {
   "cell_type": "code",
   "execution_count": 6,
   "id": "e9c7f525-73f3-4b9f-92d4-c711b280abba",
   "metadata": {
    "tags": []
   },
   "outputs": [
    {
     "data": {
      "text/html": [
       "<div>\n",
       "<style scoped>\n",
       "    .dataframe tbody tr th:only-of-type {\n",
       "        vertical-align: middle;\n",
       "    }\n",
       "\n",
       "    .dataframe tbody tr th {\n",
       "        vertical-align: top;\n",
       "    }\n",
       "\n",
       "    .dataframe thead th {\n",
       "        text-align: right;\n",
       "    }\n",
       "</style>\n",
       "<table border=\"1\" class=\"dataframe\">\n",
       "  <thead>\n",
       "    <tr style=\"text-align: right;\">\n",
       "      <th></th>\n",
       "      <th>종가</th>\n",
       "      <th>등락률</th>\n",
       "      <th>수익률</th>\n",
       "      <th>전일가격수익률</th>\n",
       "    </tr>\n",
       "    <tr>\n",
       "      <th>날짜</th>\n",
       "      <th></th>\n",
       "      <th></th>\n",
       "      <th></th>\n",
       "      <th></th>\n",
       "    </tr>\n",
       "  </thead>\n",
       "  <tbody>\n",
       "    <tr>\n",
       "      <th>2023-04-03</th>\n",
       "      <td>63100</td>\n",
       "      <td>-1.41</td>\n",
       "      <td>NaN</td>\n",
       "      <td>NaN</td>\n",
       "    </tr>\n",
       "    <tr>\n",
       "      <th>2023-04-04</th>\n",
       "      <td>63600</td>\n",
       "      <td>0.79</td>\n",
       "      <td>0.792393</td>\n",
       "      <td>0.792393</td>\n",
       "    </tr>\n",
       "    <tr>\n",
       "      <th>2023-04-05</th>\n",
       "      <td>63900</td>\n",
       "      <td>0.47</td>\n",
       "      <td>0.471698</td>\n",
       "      <td>0.471698</td>\n",
       "    </tr>\n",
       "    <tr>\n",
       "      <th>2023-04-06</th>\n",
       "      <td>62300</td>\n",
       "      <td>-2.50</td>\n",
       "      <td>-2.503912</td>\n",
       "      <td>-2.503912</td>\n",
       "    </tr>\n",
       "    <tr>\n",
       "      <th>2023-04-07</th>\n",
       "      <td>65000</td>\n",
       "      <td>4.33</td>\n",
       "      <td>4.333868</td>\n",
       "      <td>4.333868</td>\n",
       "    </tr>\n",
       "  </tbody>\n",
       "</table>\n",
       "</div>"
      ],
      "text/plain": [
       "               종가   등락률       수익률   전일가격수익률\n",
       "날짜                                         \n",
       "2023-04-03  63100 -1.41       NaN       NaN\n",
       "2023-04-04  63600  0.79  0.792393  0.792393\n",
       "2023-04-05  63900  0.47  0.471698  0.471698\n",
       "2023-04-06  62300 -2.50 -2.503912 -2.503912\n",
       "2023-04-07  65000  4.33  4.333868  4.333868"
      ]
     },
     "execution_count": 6,
     "metadata": {},
     "output_type": "execute_result"
    }
   ],
   "source": [
    "df[\"전일가격수익률\"] =  (df[\"종가\"] - df[\"종가\"].shift(1) )/df[\"종가\"].shift(1) *100\n",
    "df"
   ]
  },
  {
   "cell_type": "code",
   "execution_count": 7,
   "id": "b542bf10-b290-4682-b81d-1cabc3be5ed2",
   "metadata": {
    "tags": []
   },
   "outputs": [
    {
     "data": {
      "text/html": [
       "<div>\n",
       "<style scoped>\n",
       "    .dataframe tbody tr th:only-of-type {\n",
       "        vertical-align: middle;\n",
       "    }\n",
       "\n",
       "    .dataframe tbody tr th {\n",
       "        vertical-align: top;\n",
       "    }\n",
       "\n",
       "    .dataframe thead th {\n",
       "        text-align: right;\n",
       "    }\n",
       "</style>\n",
       "<table border=\"1\" class=\"dataframe\">\n",
       "  <thead>\n",
       "    <tr style=\"text-align: right;\">\n",
       "      <th></th>\n",
       "      <th>종가</th>\n",
       "      <th>등락률</th>\n",
       "      <th>수익률</th>\n",
       "      <th>전일가격수익률</th>\n",
       "      <th>기준일자_수익률</th>\n",
       "    </tr>\n",
       "    <tr>\n",
       "      <th>날짜</th>\n",
       "      <th></th>\n",
       "      <th></th>\n",
       "      <th></th>\n",
       "      <th></th>\n",
       "      <th></th>\n",
       "    </tr>\n",
       "  </thead>\n",
       "  <tbody>\n",
       "    <tr>\n",
       "      <th>2023-04-03</th>\n",
       "      <td>63100</td>\n",
       "      <td>-1.41</td>\n",
       "      <td>NaN</td>\n",
       "      <td>NaN</td>\n",
       "      <td>0.000000</td>\n",
       "    </tr>\n",
       "    <tr>\n",
       "      <th>2023-04-04</th>\n",
       "      <td>63600</td>\n",
       "      <td>0.79</td>\n",
       "      <td>0.792393</td>\n",
       "      <td>0.792393</td>\n",
       "      <td>0.792393</td>\n",
       "    </tr>\n",
       "    <tr>\n",
       "      <th>2023-04-05</th>\n",
       "      <td>63900</td>\n",
       "      <td>0.47</td>\n",
       "      <td>0.471698</td>\n",
       "      <td>0.471698</td>\n",
       "      <td>1.267829</td>\n",
       "    </tr>\n",
       "    <tr>\n",
       "      <th>2023-04-06</th>\n",
       "      <td>62300</td>\n",
       "      <td>-2.50</td>\n",
       "      <td>-2.503912</td>\n",
       "      <td>-2.503912</td>\n",
       "      <td>-1.267829</td>\n",
       "    </tr>\n",
       "    <tr>\n",
       "      <th>2023-04-07</th>\n",
       "      <td>65000</td>\n",
       "      <td>4.33</td>\n",
       "      <td>4.333868</td>\n",
       "      <td>4.333868</td>\n",
       "      <td>3.011094</td>\n",
       "    </tr>\n",
       "  </tbody>\n",
       "</table>\n",
       "</div>"
      ],
      "text/plain": [
       "               종가   등락률       수익률   전일가격수익률  기준일자_수익률\n",
       "날짜                                                   \n",
       "2023-04-03  63100 -1.41       NaN       NaN  0.000000\n",
       "2023-04-04  63600  0.79  0.792393  0.792393  0.792393\n",
       "2023-04-05  63900  0.47  0.471698  0.471698  1.267829\n",
       "2023-04-06  62300 -2.50 -2.503912 -2.503912 -1.267829\n",
       "2023-04-07  65000  4.33  4.333868  4.333868  3.011094"
      ]
     },
     "execution_count": 7,
     "metadata": {},
     "output_type": "execute_result"
    }
   ],
   "source": [
    "df[\"기준일자_수익률\"] =  (df[\"종가\"] - df.iloc[0][\"종가\"] )/df.iloc[0][\"종가\"] *100\n",
    "df"
   ]
  },
  {
   "cell_type": "markdown",
   "id": "dda5609e-c88e-42b4-9822-4cedee8ddf38",
   "metadata": {},
   "source": [
    "## 수익률"
   ]
  },
  {
   "cell_type": "code",
   "execution_count": 8,
   "id": "96ccaefa-2104-42a6-bb3a-6fe4b0a6a04a",
   "metadata": {
    "tags": []
   },
   "outputs": [
    {
     "data": {
      "text/html": [
       "<div>\n",
       "<style scoped>\n",
       "    .dataframe tbody tr th:only-of-type {\n",
       "        vertical-align: middle;\n",
       "    }\n",
       "\n",
       "    .dataframe tbody tr th {\n",
       "        vertical-align: top;\n",
       "    }\n",
       "\n",
       "    .dataframe thead th {\n",
       "        text-align: right;\n",
       "    }\n",
       "</style>\n",
       "<table border=\"1\" class=\"dataframe\">\n",
       "  <thead>\n",
       "    <tr style=\"text-align: right;\">\n",
       "      <th></th>\n",
       "      <th>종가</th>\n",
       "      <th>등락률</th>\n",
       "    </tr>\n",
       "    <tr>\n",
       "      <th>날짜</th>\n",
       "      <th></th>\n",
       "      <th></th>\n",
       "    </tr>\n",
       "  </thead>\n",
       "  <tbody>\n",
       "    <tr>\n",
       "      <th>2022-12-23</th>\n",
       "      <td>58100</td>\n",
       "      <td>-1.69</td>\n",
       "    </tr>\n",
       "    <tr>\n",
       "      <th>2022-12-26</th>\n",
       "      <td>57900</td>\n",
       "      <td>-0.34</td>\n",
       "    </tr>\n",
       "    <tr>\n",
       "      <th>2022-12-27</th>\n",
       "      <td>58100</td>\n",
       "      <td>0.35</td>\n",
       "    </tr>\n",
       "    <tr>\n",
       "      <th>2022-12-28</th>\n",
       "      <td>56600</td>\n",
       "      <td>-2.58</td>\n",
       "    </tr>\n",
       "    <tr>\n",
       "      <th>2022-12-29</th>\n",
       "      <td>55300</td>\n",
       "      <td>-2.30</td>\n",
       "    </tr>\n",
       "  </tbody>\n",
       "</table>\n",
       "</div>"
      ],
      "text/plain": [
       "               종가   등락률\n",
       "날짜                     \n",
       "2022-12-23  58100 -1.69\n",
       "2022-12-26  57900 -0.34\n",
       "2022-12-27  58100  0.35\n",
       "2022-12-28  56600 -2.58\n",
       "2022-12-29  55300 -2.30"
      ]
     },
     "execution_count": 8,
     "metadata": {},
     "output_type": "execute_result"
    }
   ],
   "source": [
    "df1 = stock.get_market_ohlcv('2022-01-01', '2022-12-31','005930')[[\"종가\",\"등락률\"]] \n",
    "df1.tail()"
   ]
  },
  {
   "cell_type": "code",
   "execution_count": 9,
   "id": "5a5b7752-2e8c-4731-8bb9-d23a1b98595e",
   "metadata": {
    "tags": []
   },
   "outputs": [
    {
     "data": {
      "text/html": [
       "<div>\n",
       "<style scoped>\n",
       "    .dataframe tbody tr th:only-of-type {\n",
       "        vertical-align: middle;\n",
       "    }\n",
       "\n",
       "    .dataframe tbody tr th {\n",
       "        vertical-align: top;\n",
       "    }\n",
       "\n",
       "    .dataframe thead th {\n",
       "        text-align: right;\n",
       "    }\n",
       "</style>\n",
       "<table border=\"1\" class=\"dataframe\">\n",
       "  <thead>\n",
       "    <tr style=\"text-align: right;\">\n",
       "      <th></th>\n",
       "      <th>종가</th>\n",
       "      <th>등락률</th>\n",
       "      <th>수익률</th>\n",
       "    </tr>\n",
       "    <tr>\n",
       "      <th>날짜</th>\n",
       "      <th></th>\n",
       "      <th></th>\n",
       "      <th></th>\n",
       "    </tr>\n",
       "  </thead>\n",
       "  <tbody>\n",
       "    <tr>\n",
       "      <th>2022-01-03</th>\n",
       "      <td>78600</td>\n",
       "      <td>0.38</td>\n",
       "      <td>NaN</td>\n",
       "    </tr>\n",
       "    <tr>\n",
       "      <th>2022-01-04</th>\n",
       "      <td>78700</td>\n",
       "      <td>0.13</td>\n",
       "      <td>0.13</td>\n",
       "    </tr>\n",
       "    <tr>\n",
       "      <th>2022-01-05</th>\n",
       "      <td>77400</td>\n",
       "      <td>-1.65</td>\n",
       "      <td>-1.65</td>\n",
       "    </tr>\n",
       "    <tr>\n",
       "      <th>2022-01-06</th>\n",
       "      <td>76900</td>\n",
       "      <td>-0.65</td>\n",
       "      <td>-0.65</td>\n",
       "    </tr>\n",
       "    <tr>\n",
       "      <th>2022-01-07</th>\n",
       "      <td>78300</td>\n",
       "      <td>1.82</td>\n",
       "      <td>1.82</td>\n",
       "    </tr>\n",
       "  </tbody>\n",
       "</table>\n",
       "</div>"
      ],
      "text/plain": [
       "               종가   등락률   수익률\n",
       "날짜                           \n",
       "2022-01-03  78600  0.38   NaN\n",
       "2022-01-04  78700  0.13  0.13\n",
       "2022-01-05  77400 -1.65 -1.65\n",
       "2022-01-06  76900 -0.65 -0.65\n",
       "2022-01-07  78300  1.82  1.82"
      ]
     },
     "execution_count": 9,
     "metadata": {},
     "output_type": "execute_result"
    }
   ],
   "source": [
    "df1[\"수익률\"] = np.round(df1[\"종가\"].pct_change()*100,2)\n",
    "df1.head()\n"
   ]
  },
  {
   "cell_type": "code",
   "execution_count": 10,
   "id": "56624d21-fdc4-49bd-a869-a4236d036669",
   "metadata": {
    "tags": []
   },
   "outputs": [],
   "source": [
    "# df1[20:38]"
   ]
  },
  {
   "cell_type": "markdown",
   "id": "8a6e96be-ca2c-4ec5-9cf6-d25f6636ef74",
   "metadata": {
    "tags": []
   },
   "source": [
    "### 누적수익률"
   ]
  },
  {
   "cell_type": "code",
   "execution_count": 11,
   "id": "8787da0a-4a14-4799-9ff5-a187052c9bd0",
   "metadata": {
    "tags": []
   },
   "outputs": [
    {
     "data": {
      "text/html": [
       "<div>\n",
       "<style scoped>\n",
       "    .dataframe tbody tr th:only-of-type {\n",
       "        vertical-align: middle;\n",
       "    }\n",
       "\n",
       "    .dataframe tbody tr th {\n",
       "        vertical-align: top;\n",
       "    }\n",
       "\n",
       "    .dataframe thead th {\n",
       "        text-align: right;\n",
       "    }\n",
       "</style>\n",
       "<table border=\"1\" class=\"dataframe\">\n",
       "  <thead>\n",
       "    <tr style=\"text-align: right;\">\n",
       "      <th></th>\n",
       "      <th>종가</th>\n",
       "      <th>등락률</th>\n",
       "      <th>수익률</th>\n",
       "    </tr>\n",
       "    <tr>\n",
       "      <th>날짜</th>\n",
       "      <th></th>\n",
       "      <th></th>\n",
       "      <th></th>\n",
       "    </tr>\n",
       "  </thead>\n",
       "  <tbody>\n",
       "    <tr>\n",
       "      <th>2022-01-03</th>\n",
       "      <td>78600</td>\n",
       "      <td>0.38</td>\n",
       "      <td>NaN</td>\n",
       "    </tr>\n",
       "    <tr>\n",
       "      <th>2022-01-04</th>\n",
       "      <td>78700</td>\n",
       "      <td>0.13</td>\n",
       "      <td>0.13</td>\n",
       "    </tr>\n",
       "    <tr>\n",
       "      <th>2022-01-05</th>\n",
       "      <td>77400</td>\n",
       "      <td>-1.65</td>\n",
       "      <td>-1.65</td>\n",
       "    </tr>\n",
       "    <tr>\n",
       "      <th>2022-01-06</th>\n",
       "      <td>76900</td>\n",
       "      <td>-0.65</td>\n",
       "      <td>-0.65</td>\n",
       "    </tr>\n",
       "    <tr>\n",
       "      <th>2022-01-07</th>\n",
       "      <td>78300</td>\n",
       "      <td>1.82</td>\n",
       "      <td>1.82</td>\n",
       "    </tr>\n",
       "  </tbody>\n",
       "</table>\n",
       "</div>"
      ],
      "text/plain": [
       "               종가   등락률   수익률\n",
       "날짜                           \n",
       "2022-01-03  78600  0.38   NaN\n",
       "2022-01-04  78700  0.13  0.13\n",
       "2022-01-05  77400 -1.65 -1.65\n",
       "2022-01-06  76900 -0.65 -0.65\n",
       "2022-01-07  78300  1.82  1.82"
      ]
     },
     "execution_count": 11,
     "metadata": {},
     "output_type": "execute_result"
    }
   ],
   "source": [
    "\n",
    "ddf = df1[df1.index < '2022-02-01']\n",
    "ddf.head()"
   ]
  },
  {
   "cell_type": "code",
   "execution_count": 12,
   "id": "f4b2ef57-64c6-4e5e-bde0-45764ef035ed",
   "metadata": {
    "tags": []
   },
   "outputs": [
    {
     "data": {
      "text/html": [
       "<div>\n",
       "<style scoped>\n",
       "    .dataframe tbody tr th:only-of-type {\n",
       "        vertical-align: middle;\n",
       "    }\n",
       "\n",
       "    .dataframe tbody tr th {\n",
       "        vertical-align: top;\n",
       "    }\n",
       "\n",
       "    .dataframe thead th {\n",
       "        text-align: right;\n",
       "    }\n",
       "</style>\n",
       "<table border=\"1\" class=\"dataframe\">\n",
       "  <thead>\n",
       "    <tr style=\"text-align: right;\">\n",
       "      <th></th>\n",
       "      <th>종가</th>\n",
       "      <th>등락률</th>\n",
       "      <th>수익률</th>\n",
       "      <th>누적수익률</th>\n",
       "    </tr>\n",
       "    <tr>\n",
       "      <th>날짜</th>\n",
       "      <th></th>\n",
       "      <th></th>\n",
       "      <th></th>\n",
       "      <th></th>\n",
       "    </tr>\n",
       "  </thead>\n",
       "  <tbody>\n",
       "    <tr>\n",
       "      <th>2022-01-03</th>\n",
       "      <td>78600</td>\n",
       "      <td>0.38</td>\n",
       "      <td>NaN</td>\n",
       "      <td>NaN</td>\n",
       "    </tr>\n",
       "    <tr>\n",
       "      <th>2022-01-04</th>\n",
       "      <td>78700</td>\n",
       "      <td>0.13</td>\n",
       "      <td>0.001272</td>\n",
       "      <td>0.001272</td>\n",
       "    </tr>\n",
       "    <tr>\n",
       "      <th>2022-01-05</th>\n",
       "      <td>77400</td>\n",
       "      <td>-1.65</td>\n",
       "      <td>-0.016518</td>\n",
       "      <td>-0.015267</td>\n",
       "    </tr>\n",
       "    <tr>\n",
       "      <th>2022-01-06</th>\n",
       "      <td>76900</td>\n",
       "      <td>-0.65</td>\n",
       "      <td>-0.006460</td>\n",
       "      <td>-0.021628</td>\n",
       "    </tr>\n",
       "    <tr>\n",
       "      <th>2022-01-07</th>\n",
       "      <td>78300</td>\n",
       "      <td>1.82</td>\n",
       "      <td>0.018205</td>\n",
       "      <td>-0.003817</td>\n",
       "    </tr>\n",
       "  </tbody>\n",
       "</table>\n",
       "</div>"
      ],
      "text/plain": [
       "               종가   등락률       수익률     누적수익률\n",
       "날짜                                         \n",
       "2022-01-03  78600  0.38       NaN       NaN\n",
       "2022-01-04  78700  0.13  0.001272  0.001272\n",
       "2022-01-05  77400 -1.65 -0.016518 -0.015267\n",
       "2022-01-06  76900 -0.65 -0.006460 -0.021628\n",
       "2022-01-07  78300  1.82  0.018205 -0.003817"
      ]
     },
     "execution_count": 12,
     "metadata": {},
     "output_type": "execute_result"
    }
   ],
   "source": [
    "ddf[\"수익률\"] = ddf[\"종가\"].pct_change()\n",
    "ddf[\"누적수익률\"] = (1+ddf['종가'].pct_change()).cumprod()-1\n",
    "ddf.head()"
   ]
  },
  {
   "cell_type": "markdown",
   "id": "996f181e-d9be-405d-93a6-95efdc821d7c",
   "metadata": {},
   "source": [
    "### 로그수익률\n",
    "<pre>\n",
    "* 100 --> 150( + 50%) --> 100( - 33%)\n",
    "* np.log(150-100) , np.log(150-100) *-1 = (3.912023005428146, -3.912023005428146)\n",
    "* 단순 수익률이 아니라 ★자산의 변화★를 보고싶다"
   ]
  },
  {
   "cell_type": "code",
   "execution_count": 13,
   "id": "ef99f182-29c1-443b-99b2-225e4078643c",
   "metadata": {},
   "outputs": [
    {
     "data": {
      "text/html": [
       "<div>\n",
       "<style scoped>\n",
       "    .dataframe tbody tr th:only-of-type {\n",
       "        vertical-align: middle;\n",
       "    }\n",
       "\n",
       "    .dataframe tbody tr th {\n",
       "        vertical-align: top;\n",
       "    }\n",
       "\n",
       "    .dataframe thead th {\n",
       "        text-align: right;\n",
       "    }\n",
       "</style>\n",
       "<table border=\"1\" class=\"dataframe\">\n",
       "  <thead>\n",
       "    <tr style=\"text-align: right;\">\n",
       "      <th></th>\n",
       "      <th>날짜</th>\n",
       "      <th>삼성전자</th>\n",
       "      <th>LG에너지솔루션</th>\n",
       "      <th>SK하이닉스</th>\n",
       "      <th>삼성바이오로직스</th>\n",
       "      <th>삼성SDI</th>\n",
       "      <th>LG화학</th>\n",
       "      <th>삼성전자우</th>\n",
       "      <th>현대차</th>\n",
       "      <th>POSCO홀딩스</th>\n",
       "      <th>기아</th>\n",
       "    </tr>\n",
       "  </thead>\n",
       "  <tbody>\n",
       "    <tr>\n",
       "      <th>0</th>\n",
       "      <td>2023-04-03</td>\n",
       "      <td>63100</td>\n",
       "      <td>586000</td>\n",
       "      <td>87200</td>\n",
       "      <td>778000</td>\n",
       "      <td>745000</td>\n",
       "      <td>712000</td>\n",
       "      <td>53800</td>\n",
       "      <td>183600</td>\n",
       "      <td>392000</td>\n",
       "      <td>81200</td>\n",
       "    </tr>\n",
       "  </tbody>\n",
       "</table>\n",
       "</div>"
      ],
      "text/plain": [
       "           날짜   삼성전자  LG에너지솔루션  SK하이닉스  삼성바이오로직스   삼성SDI    LG화학  삼성전자우  \\\n",
       "0  2023-04-03  63100    586000   87200    778000  745000  712000  53800   \n",
       "\n",
       "      현대차  POSCO홀딩스     기아  \n",
       "0  183600    392000  81200  "
      ]
     },
     "execution_count": 13,
     "metadata": {},
     "output_type": "execute_result"
    }
   ],
   "source": [
    "df = pd.read_csv(\"./datasets/kospi_top10.csv\")\n",
    "df.head(1)"
   ]
  },
  {
   "cell_type": "code",
   "execution_count": 14,
   "id": "6415bb1e-dfae-4702-ad35-76b6325e0995",
   "metadata": {},
   "outputs": [
    {
     "data": {
      "text/plain": [
       "<matplotlib.legend.Legend at 0x17d239c5df0>"
      ]
     },
     "execution_count": 14,
     "metadata": {},
     "output_type": "execute_result"
    },
    {
     "data": {
      "image/png": "[encoded data removed]",
      "text/plain": [
       "<Figure size 1000x400 with 3 Axes>"
      ]
     },
     "metadata": {},
     "output_type": "display_data"
    }
   ],
   "source": [
    "plt.figure(figsize=(10,4))\n",
    "plt.subplot(1, 3, 1)          \n",
    "plt.plot(1, 2, 1)\n",
    "plt.plot(df.index  , df['삼성전자'], label='삼성전자')\n",
    "plt.plot(df.index  , df['기아'], label='기아')\n",
    "plt.legend()\n",
    "\n",
    "plt.subplot(1, 3, 2)    \n",
    "plt.plot(df.index  , (1+df['삼성전자'].pct_change()).cumprod()-1, label='삼성전자')\n",
    "plt.plot(df.index  , (1+df['기아'].pct_change()).cumprod()-1, label='기아')\n",
    "plt.legend()\n",
    "\n",
    "\n",
    "plt.subplot(1, 3, 3)   \n",
    "plt.plot(df.index  , np.log(1+df['삼성전자'].pct_change().cumsum()), label='삼성전자')\n",
    "plt.plot(df.index  , np.log(1+df['기아'].pct_change().cumsum()), label='기아')\n",
    "plt.legend()\n",
    "\n",
    "# 가격차트보다 지수화된 차트에서 증감이 훨씬 크게 보인다 >>> 로그스케일한 값을 보겠다"
   ]
  },
  {
   "cell_type": "code",
   "execution_count": 15,
   "id": "12d1d289-fa9a-46cc-9942-37b4a86d3941",
   "metadata": {
    "tags": []
   },
   "outputs": [
    {
     "data": {
      "text/html": [
       "<div>\n",
       "<style scoped>\n",
       "    .dataframe tbody tr th:only-of-type {\n",
       "        vertical-align: middle;\n",
       "    }\n",
       "\n",
       "    .dataframe tbody tr th {\n",
       "        vertical-align: top;\n",
       "    }\n",
       "\n",
       "    .dataframe thead th {\n",
       "        text-align: right;\n",
       "    }\n",
       "</style>\n",
       "<table border=\"1\" class=\"dataframe\">\n",
       "  <thead>\n",
       "    <tr style=\"text-align: right;\">\n",
       "      <th></th>\n",
       "      <th>종가</th>\n",
       "      <th>등락률</th>\n",
       "      <th>수익률</th>\n",
       "      <th>누적수익률</th>\n",
       "      <th>로그수익률</th>\n",
       "      <th>로그누적수익률</th>\n",
       "    </tr>\n",
       "    <tr>\n",
       "      <th>날짜</th>\n",
       "      <th></th>\n",
       "      <th></th>\n",
       "      <th></th>\n",
       "      <th></th>\n",
       "      <th></th>\n",
       "      <th></th>\n",
       "    </tr>\n",
       "  </thead>\n",
       "  <tbody>\n",
       "    <tr>\n",
       "      <th>2022-01-03</th>\n",
       "      <td>78600</td>\n",
       "      <td>0.38</td>\n",
       "      <td>NaN</td>\n",
       "      <td>NaN</td>\n",
       "      <td>NaN</td>\n",
       "      <td>NaN</td>\n",
       "    </tr>\n",
       "    <tr>\n",
       "      <th>2022-01-04</th>\n",
       "      <td>78700</td>\n",
       "      <td>0.13</td>\n",
       "      <td>0.001272</td>\n",
       "      <td>0.001272</td>\n",
       "      <td>0.001271</td>\n",
       "      <td>0.001271</td>\n",
       "    </tr>\n",
       "  </tbody>\n",
       "</table>\n",
       "</div>"
      ],
      "text/plain": [
       "               종가   등락률       수익률     누적수익률     로그수익률   로그누적수익률\n",
       "날짜                                                             \n",
       "2022-01-03  78600  0.38       NaN       NaN       NaN       NaN\n",
       "2022-01-04  78700  0.13  0.001272  0.001272  0.001271  0.001271"
      ]
     },
     "execution_count": 15,
     "metadata": {},
     "output_type": "execute_result"
    }
   ],
   "source": [
    "ddf[\"로그수익률\"] = np.log1p(ddf[\"수익률\"])\n",
    "ddf[\"로그누적수익률\"] = ddf[\"로그수익률\"].cumsum()\n",
    "ddf.head(2)"
   ]
  },
  {
   "cell_type": "code",
   "execution_count": 16,
   "id": "c6f3a634-440a-4173-8fb5-3e61aadf90fc",
   "metadata": {},
   "outputs": [
    {
     "data": {
      "text/plain": [
       "(3.912023005428146, -3.912023005428146)"
      ]
     },
     "execution_count": 16,
     "metadata": {},
     "output_type": "execute_result"
    }
   ],
   "source": [
    "np.log(150-100) , np.log(150-100) *-1"
   ]
  },
  {
   "cell_type": "markdown",
   "id": "31e267b6-261f-4d1b-b5b1-102e49f07cb3",
   "metadata": {},
   "source": [
    "## 월 resample"
   ]
  },
  {
   "cell_type": "code",
   "execution_count": 17,
   "id": "6658eb18-a243-4387-907f-1426ad95be94",
   "metadata": {
    "tags": []
   },
   "outputs": [
    {
     "data": {
      "text/plain": [
       "-0.08555559"
      ]
     },
     "execution_count": 17,
     "metadata": {},
     "output_type": "execute_result"
    }
   ],
   "source": [
    "# .resample.mean() 계산\n",
    "df1[\"등락률\"][(\"2022-01-28\"<df1.index) & (df1.index<=\"2022-02-28\")].mean()"
   ]
  },
  {
   "cell_type": "code",
   "execution_count": 18,
   "id": "8ef29a98-60a8-4609-8a03-861d4795c943",
   "metadata": {
    "tags": []
   },
   "outputs": [
    {
     "data": {
      "text/html": [
       "<div>\n",
       "<style scoped>\n",
       "    .dataframe tbody tr th:only-of-type {\n",
       "        vertical-align: middle;\n",
       "    }\n",
       "\n",
       "    .dataframe tbody tr th {\n",
       "        vertical-align: top;\n",
       "    }\n",
       "\n",
       "    .dataframe thead th {\n",
       "        text-align: right;\n",
       "    }\n",
       "</style>\n",
       "<table border=\"1\" class=\"dataframe\">\n",
       "  <thead>\n",
       "    <tr style=\"text-align: right;\">\n",
       "      <th></th>\n",
       "      <th>종가</th>\n",
       "      <th>등락률</th>\n",
       "      <th>수익률</th>\n",
       "    </tr>\n",
       "    <tr>\n",
       "      <th>날짜</th>\n",
       "      <th></th>\n",
       "      <th></th>\n",
       "      <th></th>\n",
       "    </tr>\n",
       "  </thead>\n",
       "  <tbody>\n",
       "    <tr>\n",
       "      <th>2022-01-31</th>\n",
       "      <td>76540.000000</td>\n",
       "      <td>-0.322500</td>\n",
       "      <td>-0.359474</td>\n",
       "    </tr>\n",
       "    <tr>\n",
       "      <th>2022-02-28</th>\n",
       "      <td>73688.888889</td>\n",
       "      <td>-0.085556</td>\n",
       "      <td>-0.085556</td>\n",
       "    </tr>\n",
       "  </tbody>\n",
       "</table>\n",
       "</div>"
      ],
      "text/plain": [
       "                      종가       등락률       수익률\n",
       "날짜                                          \n",
       "2022-01-31  76540.000000 -0.322500 -0.359474\n",
       "2022-02-28  73688.888889 -0.085556 -0.085556"
      ]
     },
     "execution_count": 18,
     "metadata": {},
     "output_type": "execute_result"
    }
   ],
   "source": [
    "df1m = df1.resample(rule=\"m\").mean()\n",
    "df1m.head(2)\n",
    "# 등락률의 월 평균"
   ]
  },
  {
   "cell_type": "code",
   "execution_count": 19,
   "id": "7a75a42c-ec21-40a5-a104-6be3c10e9e12",
   "metadata": {
    "tags": []
   },
   "outputs": [
    {
     "data": {
      "text/html": [
       "<div>\n",
       "<style scoped>\n",
       "    .dataframe tbody tr th:only-of-type {\n",
       "        vertical-align: middle;\n",
       "    }\n",
       "\n",
       "    .dataframe tbody tr th {\n",
       "        vertical-align: top;\n",
       "    }\n",
       "\n",
       "    .dataframe thead th {\n",
       "        text-align: right;\n",
       "    }\n",
       "</style>\n",
       "<table border=\"1\" class=\"dataframe\">\n",
       "  <thead>\n",
       "    <tr style=\"text-align: right;\">\n",
       "      <th></th>\n",
       "      <th>종가</th>\n",
       "      <th>등락률</th>\n",
       "      <th>수익률</th>\n",
       "      <th>로그수익률</th>\n",
       "    </tr>\n",
       "    <tr>\n",
       "      <th>날짜</th>\n",
       "      <th></th>\n",
       "      <th></th>\n",
       "      <th></th>\n",
       "      <th></th>\n",
       "    </tr>\n",
       "  </thead>\n",
       "  <tbody>\n",
       "    <tr>\n",
       "      <th>2022-01-31</th>\n",
       "      <td>76540.0</td>\n",
       "      <td>-0.3225</td>\n",
       "      <td>-0.359474</td>\n",
       "      <td>-0.445465</td>\n",
       "    </tr>\n",
       "  </tbody>\n",
       "</table>\n",
       "</div>"
      ],
      "text/plain": [
       "                 종가     등락률       수익률     로그수익률\n",
       "날짜                                             \n",
       "2022-01-31  76540.0 -0.3225 -0.359474 -0.445465"
      ]
     },
     "execution_count": 19,
     "metadata": {},
     "output_type": "execute_result"
    }
   ],
   "source": [
    "df1m[\"로그수익률\"] = np.log1p(df1m[\"수익률\"])\n",
    "df1m.head(1)"
   ]
  },
  {
   "cell_type": "markdown",
   "id": "26189671-825d-428a-906d-edda984246b6",
   "metadata": {},
   "source": [
    "* logA + logB = log(A*B)\n",
    "* 로그수익률은 합산  >>  cumsum()"
   ]
  },
  {
   "cell_type": "code",
   "execution_count": 20,
   "id": "8455fb09-3536-40fc-918e-06b08dfa9eed",
   "metadata": {
    "tags": []
   },
   "outputs": [
    {
     "data": {
      "text/html": [
       "<div>\n",
       "<style scoped>\n",
       "    .dataframe tbody tr th:only-of-type {\n",
       "        vertical-align: middle;\n",
       "    }\n",
       "\n",
       "    .dataframe tbody tr th {\n",
       "        vertical-align: top;\n",
       "    }\n",
       "\n",
       "    .dataframe thead th {\n",
       "        text-align: right;\n",
       "    }\n",
       "</style>\n",
       "<table border=\"1\" class=\"dataframe\">\n",
       "  <thead>\n",
       "    <tr style=\"text-align: right;\">\n",
       "      <th></th>\n",
       "      <th>종가</th>\n",
       "      <th>등락률</th>\n",
       "      <th>수익률</th>\n",
       "      <th>로그수익률</th>\n",
       "      <th>로그누적수익률</th>\n",
       "    </tr>\n",
       "    <tr>\n",
       "      <th>날짜</th>\n",
       "      <th></th>\n",
       "      <th></th>\n",
       "      <th></th>\n",
       "      <th></th>\n",
       "      <th></th>\n",
       "    </tr>\n",
       "  </thead>\n",
       "  <tbody>\n",
       "    <tr>\n",
       "      <th>2022-01-31</th>\n",
       "      <td>76540.000000</td>\n",
       "      <td>-0.322500</td>\n",
       "      <td>-0.359474</td>\n",
       "      <td>-0.445465</td>\n",
       "      <td>-0.445465</td>\n",
       "    </tr>\n",
       "    <tr>\n",
       "      <th>2022-02-28</th>\n",
       "      <td>73688.888889</td>\n",
       "      <td>-0.085556</td>\n",
       "      <td>-0.085556</td>\n",
       "      <td>-0.089439</td>\n",
       "      <td>-0.534904</td>\n",
       "    </tr>\n",
       "    <tr>\n",
       "      <th>2022-03-31</th>\n",
       "      <td>70409.523810</td>\n",
       "      <td>-0.161429</td>\n",
       "      <td>-0.161429</td>\n",
       "      <td>-0.176056</td>\n",
       "      <td>-0.710959</td>\n",
       "    </tr>\n",
       "    <tr>\n",
       "      <th>2022-04-30</th>\n",
       "      <td>67395.238095</td>\n",
       "      <td>-0.142857</td>\n",
       "      <td>-0.142857</td>\n",
       "      <td>-0.154151</td>\n",
       "      <td>-0.865110</td>\n",
       "    </tr>\n",
       "    <tr>\n",
       "      <th>2022-05-31</th>\n",
       "      <td>66852.380952</td>\n",
       "      <td>0.006667</td>\n",
       "      <td>0.006667</td>\n",
       "      <td>0.006645</td>\n",
       "      <td>-0.858465</td>\n",
       "    </tr>\n",
       "  </tbody>\n",
       "</table>\n",
       "</div>"
      ],
      "text/plain": [
       "                      종가       등락률       수익률     로그수익률   로그누적수익률\n",
       "날짜                                                              \n",
       "2022-01-31  76540.000000 -0.322500 -0.359474 -0.445465 -0.445465\n",
       "2022-02-28  73688.888889 -0.085556 -0.085556 -0.089439 -0.534904\n",
       "2022-03-31  70409.523810 -0.161429 -0.161429 -0.176056 -0.710959\n",
       "2022-04-30  67395.238095 -0.142857 -0.142857 -0.154151 -0.865110\n",
       "2022-05-31  66852.380952  0.006667  0.006667  0.006645 -0.858465"
      ]
     },
     "execution_count": 20,
     "metadata": {},
     "output_type": "execute_result"
    }
   ],
   "source": [
    "df1m[\"로그누적수익률\"] = df1m[\"로그수익률\"].cumsum()\n",
    "df1m.head()"
   ]
  },
  {
   "cell_type": "code",
   "execution_count": 21,
   "id": "f15d5001-4ab3-4907-886a-6c7dc257708e",
   "metadata": {
    "tags": []
   },
   "outputs": [
    {
     "data": {
      "text/plain": [
       "-0.414274842456"
      ]
     },
     "execution_count": 21,
     "metadata": {},
     "output_type": "execute_result"
    }
   ],
   "source": [
    "# 복리계산 >> cumprod()\n",
    "(1-0.359474)*(1-0.085556)-1"
   ]
  },
  {
   "cell_type": "code",
   "execution_count": 22,
   "id": "9c0f2b30-d3d0-438b-99ee-3765fd6c652e",
   "metadata": {
    "tags": []
   },
   "outputs": [
    {
     "data": {
      "text/html": [
       "<div>\n",
       "<style scoped>\n",
       "    .dataframe tbody tr th:only-of-type {\n",
       "        vertical-align: middle;\n",
       "    }\n",
       "\n",
       "    .dataframe tbody tr th {\n",
       "        vertical-align: top;\n",
       "    }\n",
       "\n",
       "    .dataframe thead th {\n",
       "        text-align: right;\n",
       "    }\n",
       "</style>\n",
       "<table border=\"1\" class=\"dataframe\">\n",
       "  <thead>\n",
       "    <tr style=\"text-align: right;\">\n",
       "      <th></th>\n",
       "      <th>종가</th>\n",
       "      <th>등락률</th>\n",
       "      <th>수익률</th>\n",
       "      <th>로그수익률</th>\n",
       "      <th>로그누적수익률</th>\n",
       "      <th>누적수익률</th>\n",
       "    </tr>\n",
       "    <tr>\n",
       "      <th>날짜</th>\n",
       "      <th></th>\n",
       "      <th></th>\n",
       "      <th></th>\n",
       "      <th></th>\n",
       "      <th></th>\n",
       "      <th></th>\n",
       "    </tr>\n",
       "  </thead>\n",
       "  <tbody>\n",
       "    <tr>\n",
       "      <th>2022-01-31</th>\n",
       "      <td>76540.000000</td>\n",
       "      <td>-0.322500</td>\n",
       "      <td>-0.359474</td>\n",
       "      <td>-0.445465</td>\n",
       "      <td>-0.445465</td>\n",
       "      <td>-0.359474</td>\n",
       "    </tr>\n",
       "    <tr>\n",
       "      <th>2022-02-28</th>\n",
       "      <td>73688.888889</td>\n",
       "      <td>-0.085556</td>\n",
       "      <td>-0.085556</td>\n",
       "      <td>-0.089439</td>\n",
       "      <td>-0.534904</td>\n",
       "      <td>-0.414274</td>\n",
       "    </tr>\n",
       "  </tbody>\n",
       "</table>\n",
       "</div>"
      ],
      "text/plain": [
       "                      종가       등락률       수익률     로그수익률   로그누적수익률     누적수익률\n",
       "날짜                                                                        \n",
       "2022-01-31  76540.000000 -0.322500 -0.359474 -0.445465 -0.445465 -0.359474\n",
       "2022-02-28  73688.888889 -0.085556 -0.085556 -0.089439 -0.534904 -0.414274"
      ]
     },
     "execution_count": 22,
     "metadata": {},
     "output_type": "execute_result"
    }
   ],
   "source": [
    "N =1\n",
    "df1m[\"누적수익률\"] = ((1+df1m[\"수익률\"])**1/N).cumprod() - 1\n",
    "df1m.head(2)\n",
    "#2022-12-31\t59080.952381\t-0.546191\t-0.546190\t\"-0.966642\"  >> resample.mean()해서 누적수익률이 너무차이남"
   ]
  },
  {
   "cell_type": "code",
   "execution_count": null,
   "id": "5d88b02b-b425-4bbc-a545-0828cd3d30f9",
   "metadata": {},
   "outputs": [],
   "source": []
  },
  {
   "cell_type": "markdown",
   "id": "58e3a552-7a26-478f-b7ad-cf0af1b7f9bc",
   "metadata": {},
   "source": [
    "## 차트"
   ]
  },
  {
   "cell_type": "code",
   "execution_count": 23,
   "id": "3361d748-275d-46f7-bc03-4ebdfe0da3d2",
   "metadata": {
    "tags": []
   },
   "outputs": [
    {
     "data": {
      "text/plain": [
       "<matplotlib.legend.Legend at 0x17d23a2f9a0>"
      ]
     },
     "execution_count": 23,
     "metadata": {},
     "output_type": "execute_result"
    },
    {
     "data": {
      "image/png": "[encoded data removed]",
      "text/plain": [
       "<Figure size 1000x400 with 3 Axes>"
      ]
     },
     "metadata": {},
     "output_type": "display_data"
    }
   ],
   "source": [
    "plt.figure(figsize=(10,4))\n",
    "plt.subplot(1, 3, 1) \n",
    "plt.plot(ddf.index  , ddf['종가'], label='종가')\n",
    "plt.legend()\n",
    "\n",
    "plt.subplot(1, 3, 2)    \n",
    "plt.plot(ddf.index  , ddf['누적수익률'], label='누적수익률')\n",
    "plt.legend()\n",
    "\n",
    "\n",
    "plt.subplot(1, 3, 3)   \n",
    "plt.plot(ddf.index  , ddf['로그누적수익률'], label='로그누적수익률')\n",
    "plt.legend()"
   ]
  },
  {
   "cell_type": "markdown",
   "id": "1802c922-cbce-49ea-90b3-ff45af3b0814",
   "metadata": {
    "tags": []
   },
   "source": [
    "# 1"
   ]
  },
  {
   "cell_type": "code",
   "execution_count": 24,
   "id": "8c2df5de-56f6-44e0-b574-3135042aeb80",
   "metadata": {
    "tags": []
   },
   "outputs": [
    {
     "data": {
      "text/plain": [
       "DatetimeIndex(['2022-01-01 00:00:00', '2022-01-02 06:00:00',\n",
       "               '2022-01-03 12:00:00', '2022-01-04 18:00:00',\n",
       "               '2022-01-06 00:00:00'],\n",
       "              dtype='datetime64[ns]', freq=None)"
      ]
     },
     "execution_count": 24,
     "metadata": {},
     "output_type": "execute_result"
    }
   ],
   "source": [
    "pd.date_range(\"2022-01-01\",\"2022-01-06\",5)"
   ]
  },
  {
   "cell_type": "code",
   "execution_count": 25,
   "id": "0c6015f9-47dd-4206-b5f4-9385fba932ff",
   "metadata": {
    "tags": []
   },
   "outputs": [
    {
     "data": {
      "text/plain": [
       "DatetimeIndex(['2022-01-01', '2022-01-02', '2022-01-03', '2022-01-04',\n",
       "               '2022-01-05'],\n",
       "              dtype='datetime64[ns]', freq='D')"
      ]
     },
     "execution_count": 25,
     "metadata": {},
     "output_type": "execute_result"
    }
   ],
   "source": [
    "pd.date_range(\"2022-01-01\",periods=5,freq = \"D\")"
   ]
  },
  {
   "cell_type": "code",
   "execution_count": null,
   "id": "0e19dc0f-e7ba-447c-8cb0-161943f9b871",
   "metadata": {},
   "outputs": [],
   "source": []
  },
  {
   "cell_type": "code",
   "execution_count": 26,
   "id": "836329cd-c02d-4529-95f2-8aa5bbe1e8ce",
   "metadata": {
    "tags": []
   },
   "outputs": [
    {
     "data": {
      "text/html": [
       "<div>\n",
       "<style scoped>\n",
       "    .dataframe tbody tr th:only-of-type {\n",
       "        vertical-align: middle;\n",
       "    }\n",
       "\n",
       "    .dataframe tbody tr th {\n",
       "        vertical-align: top;\n",
       "    }\n",
       "\n",
       "    .dataframe thead th {\n",
       "        text-align: right;\n",
       "    }\n",
       "</style>\n",
       "<table border=\"1\" class=\"dataframe\">\n",
       "  <thead>\n",
       "    <tr style=\"text-align: right;\">\n",
       "      <th></th>\n",
       "      <th>삼성전자</th>\n",
       "      <th>LG에너지솔루션</th>\n",
       "      <th>기아</th>\n",
       "    </tr>\n",
       "    <tr>\n",
       "      <th>날짜</th>\n",
       "      <th></th>\n",
       "      <th></th>\n",
       "      <th></th>\n",
       "    </tr>\n",
       "  </thead>\n",
       "  <tbody>\n",
       "    <tr>\n",
       "      <th>2023-04-03</th>\n",
       "      <td>63100</td>\n",
       "      <td>586000</td>\n",
       "      <td>81200</td>\n",
       "    </tr>\n",
       "    <tr>\n",
       "      <th>2023-04-04</th>\n",
       "      <td>63600</td>\n",
       "      <td>575000</td>\n",
       "      <td>80100</td>\n",
       "    </tr>\n",
       "    <tr>\n",
       "      <th>2023-04-05</th>\n",
       "      <td>63900</td>\n",
       "      <td>588000</td>\n",
       "      <td>81300</td>\n",
       "    </tr>\n",
       "    <tr>\n",
       "      <th>2023-04-06</th>\n",
       "      <td>62300</td>\n",
       "      <td>580000</td>\n",
       "      <td>81000</td>\n",
       "    </tr>\n",
       "    <tr>\n",
       "      <th>2023-04-07</th>\n",
       "      <td>65000</td>\n",
       "      <td>580000</td>\n",
       "      <td>80100</td>\n",
       "    </tr>\n",
       "  </tbody>\n",
       "</table>\n",
       "</div>"
      ],
      "text/plain": [
       "             삼성전자  LG에너지솔루션     기아\n",
       "날짜                                \n",
       "2023-04-03  63100    586000  81200\n",
       "2023-04-04  63600    575000  80100\n",
       "2023-04-05  63900    588000  81300\n",
       "2023-04-06  62300    580000  81000\n",
       "2023-04-07  65000    580000  80100"
      ]
     },
     "execution_count": 26,
     "metadata": {},
     "output_type": "execute_result"
    }
   ],
   "source": [
    "df_cp = df.set_index(\"날짜\")\n",
    "df_cp = df_cp.iloc[:,[0,1,9]]\n",
    "df_cp.head()\n",
    "# len(df_cp)\n",
    "#2023-04-03 ~ 2023-04-26"
   ]
  },
  {
   "cell_type": "markdown",
   "id": "4a7f9a81-ed6c-4bd7-85ef-69d920e628ca",
   "metadata": {},
   "source": [
    "# 포트폴리오"
   ]
  },
  {
   "cell_type": "markdown",
   "id": "f16e339b-227f-40e2-991a-cd7cf2281d34",
   "metadata": {},
   "source": [
    "## 기대수익률(expected return)\n",
    "* <font color=red><b>포트폴리오의 각 자산에 대한 예상 수익률의 가중 평균(기하평균)\n",
    "* 과거 수익률을 바탕으로 미래 수익률을 추정한 값\n",
    "* 일반적으로 로그 수익률을 많이 활용\n",
    "    * $로그수익률=\\ln (\\frac{나중\\, \\, 주가}{처음\\, \\, 주가}) = np.log(1+r)$\n",
    "    * r = (현재가격 - 최초가격) / 현재가격"
   ]
  },
  {
   "cell_type": "markdown",
   "id": "af296516-9fac-4935-a285-aeac55ceddc8",
   "metadata": {},
   "source": [
    "### 자산별 기대 수익률 추정"
   ]
  },
  {
   "cell_type": "code",
   "execution_count": 27,
   "id": "f547a6f3-c16d-4d67-859a-4cd2cdcfce01",
   "metadata": {
    "tags": []
   },
   "outputs": [
    {
     "data": {
      "text/html": [
       "<div>\n",
       "<style scoped>\n",
       "    .dataframe tbody tr th:only-of-type {\n",
       "        vertical-align: middle;\n",
       "    }\n",
       "\n",
       "    .dataframe tbody tr th {\n",
       "        vertical-align: top;\n",
       "    }\n",
       "\n",
       "    .dataframe thead th {\n",
       "        text-align: right;\n",
       "    }\n",
       "</style>\n",
       "<table border=\"1\" class=\"dataframe\">\n",
       "  <thead>\n",
       "    <tr style=\"text-align: right;\">\n",
       "      <th></th>\n",
       "      <th>삼성전자</th>\n",
       "      <th>LG에너지솔루션</th>\n",
       "      <th>기아</th>\n",
       "    </tr>\n",
       "    <tr>\n",
       "      <th>날짜</th>\n",
       "      <th></th>\n",
       "      <th></th>\n",
       "      <th></th>\n",
       "    </tr>\n",
       "  </thead>\n",
       "  <tbody>\n",
       "    <tr>\n",
       "      <th>2023-04-04</th>\n",
       "      <td>0.007893</td>\n",
       "      <td>-0.018950</td>\n",
       "      <td>-0.013639</td>\n",
       "    </tr>\n",
       "    <tr>\n",
       "      <th>2023-04-05</th>\n",
       "      <td>0.004706</td>\n",
       "      <td>0.022357</td>\n",
       "      <td>0.014870</td>\n",
       "    </tr>\n",
       "    <tr>\n",
       "      <th>2023-04-06</th>\n",
       "      <td>-0.025358</td>\n",
       "      <td>-0.013699</td>\n",
       "      <td>-0.003697</td>\n",
       "    </tr>\n",
       "    <tr>\n",
       "      <th>2023-04-07</th>\n",
       "      <td>0.042426</td>\n",
       "      <td>0.000000</td>\n",
       "      <td>-0.011173</td>\n",
       "    </tr>\n",
       "    <tr>\n",
       "      <th>2023-04-10</th>\n",
       "      <td>0.010712</td>\n",
       "      <td>0.027213</td>\n",
       "      <td>0.011173</td>\n",
       "    </tr>\n",
       "    <tr>\n",
       "      <th>2023-04-11</th>\n",
       "      <td>0.003040</td>\n",
       "      <td>0.023218</td>\n",
       "      <td>0.048202</td>\n",
       "    </tr>\n",
       "    <tr>\n",
       "      <th>2023-04-12</th>\n",
       "      <td>0.001516</td>\n",
       "      <td>-0.033336</td>\n",
       "      <td>0.012858</td>\n",
       "    </tr>\n",
       "    <tr>\n",
       "      <th>2023-04-13</th>\n",
       "      <td>0.001514</td>\n",
       "      <td>0.015139</td>\n",
       "      <td>0.005790</td>\n",
       "    </tr>\n",
       "    <tr>\n",
       "      <th>2023-04-14</th>\n",
       "      <td>-0.015244</td>\n",
       "      <td>-0.008382</td>\n",
       "      <td>-0.015125</td>\n",
       "    </tr>\n",
       "    <tr>\n",
       "      <th>2023-04-17</th>\n",
       "      <td>0.003067</td>\n",
       "      <td>-0.005063</td>\n",
       "      <td>-0.009423</td>\n",
       "    </tr>\n",
       "    <tr>\n",
       "      <th>2023-04-18</th>\n",
       "      <td>0.004584</td>\n",
       "      <td>0.001691</td>\n",
       "      <td>-0.021532</td>\n",
       "    </tr>\n",
       "    <tr>\n",
       "      <th>2023-04-19</th>\n",
       "      <td>-0.001526</td>\n",
       "      <td>-0.017036</td>\n",
       "      <td>0.032126</td>\n",
       "    </tr>\n",
       "    <tr>\n",
       "      <th>2023-04-20</th>\n",
       "      <td>-0.003058</td>\n",
       "      <td>-0.003442</td>\n",
       "      <td>-0.015340</td>\n",
       "    </tr>\n",
       "    <tr>\n",
       "      <th>2023-04-21</th>\n",
       "      <td>0.006107</td>\n",
       "      <td>-0.013889</td>\n",
       "      <td>-0.009558</td>\n",
       "    </tr>\n",
       "    <tr>\n",
       "      <th>2023-04-24</th>\n",
       "      <td>-0.007639</td>\n",
       "      <td>-0.010545</td>\n",
       "      <td>0.016667</td>\n",
       "    </tr>\n",
       "    <tr>\n",
       "      <th>2023-04-25</th>\n",
       "      <td>-0.024846</td>\n",
       "      <td>-0.026859</td>\n",
       "      <td>0.022184</td>\n",
       "    </tr>\n",
       "    <tr>\n",
       "      <th>2023-04-26</th>\n",
       "      <td>0.007831</td>\n",
       "      <td>0.028624</td>\n",
       "      <td>-0.010447</td>\n",
       "    </tr>\n",
       "  </tbody>\n",
       "</table>\n",
       "</div>"
      ],
      "text/plain": [
       "                삼성전자  LG에너지솔루션        기아\n",
       "날짜                                      \n",
       "2023-04-04  0.007893 -0.018950 -0.013639\n",
       "2023-04-05  0.004706  0.022357  0.014870\n",
       "2023-04-06 -0.025358 -0.013699 -0.003697\n",
       "2023-04-07  0.042426  0.000000 -0.011173\n",
       "2023-04-10  0.010712  0.027213  0.011173\n",
       "2023-04-11  0.003040  0.023218  0.048202\n",
       "2023-04-12  0.001516 -0.033336  0.012858\n",
       "2023-04-13  0.001514  0.015139  0.005790\n",
       "2023-04-14 -0.015244 -0.008382 -0.015125\n",
       "2023-04-17  0.003067 -0.005063 -0.009423\n",
       "2023-04-18  0.004584  0.001691 -0.021532\n",
       "2023-04-19 -0.001526 -0.017036  0.032126\n",
       "2023-04-20 -0.003058 -0.003442 -0.015340\n",
       "2023-04-21  0.006107 -0.013889 -0.009558\n",
       "2023-04-24 -0.007639 -0.010545  0.016667\n",
       "2023-04-25 -0.024846 -0.026859  0.022184\n",
       "2023-04-26  0.007831  0.028624 -0.010447"
      ]
     },
     "execution_count": 27,
     "metadata": {},
     "output_type": "execute_result"
    }
   ],
   "source": [
    "ret_df = np.log1p(df_cp.pct_change())\n",
    "ret_df.dropna(inplace=True, axis=0)\n",
    "ret_df"
   ]
  },
  {
   "cell_type": "markdown",
   "id": "25c1b3e4-afdb-443d-95b2-4de6ed99968b",
   "metadata": {},
   "source": [
    "* 일별 기대수익률"
   ]
  },
  {
   "cell_type": "code",
   "execution_count": 28,
   "id": "bcc193e8-15c2-482d-a818-c1c0a979732b",
   "metadata": {
    "tags": []
   },
   "outputs": [
    {
     "data": {
      "text/plain": [
       "삼성전자        0.000925\n",
       "LG에너지솔루션   -0.001939\n",
       "기아          0.003173\n",
       "dtype: float64"
      ]
     },
     "execution_count": 28,
     "metadata": {},
     "output_type": "execute_result"
    }
   ],
   "source": [
    "ret_df.mean()"
   ]
  },
  {
   "cell_type": "markdown",
   "id": "b8bf7dd7-de39-4a66-8284-74db1913e89b",
   "metadata": {
    "tags": []
   },
   "source": [
    "* 연간 기대수익률\n",
    "    - 삼성전자는 1년에 평균적으로 0.233079의 로그 수익률을 기대할 수 있다."
   ]
  },
  {
   "cell_type": "code",
   "execution_count": 29,
   "id": "1731f654-d869-4b9f-ab60-7faf4ba27848",
   "metadata": {
    "tags": []
   },
   "outputs": [
    {
     "data": {
      "text/plain": [
       "array([ 0.23307916, -0.48859073,  0.79954528])"
      ]
     },
     "execution_count": 29,
     "metadata": {},
     "output_type": "execute_result"
    }
   ],
   "source": [
    "er = (ret_df.mean() * 252).values\n",
    "er"
   ]
  },
  {
   "cell_type": "markdown",
   "id": "00f51acb-993a-4695-b23b-bfdfdaab231d",
   "metadata": {},
   "source": [
    "### 포트폴리오 기대수익률\n",
    "* v =[1,2,3] ,w = [4,5,6]\n",
    "* v.dot(w) --> $v*w=1*4+2*5+3*6$"
   ]
  },
  {
   "cell_type": "code",
   "execution_count": 30,
   "id": "52404b83-ad4b-456b-82b9-bc8eb3b17205",
   "metadata": {
    "tags": []
   },
   "outputs": [
    {
     "data": {
      "text/plain": [
       "0.5007918441896579"
      ]
     },
     "execution_count": 30,
     "metadata": {},
     "output_type": "execute_result"
    }
   ],
   "source": [
    "w = [0.3,0.1,0.6]\n",
    "port_polio_er = np.dot(er, w)\n",
    "port_polio_er"
   ]
  },
  {
   "cell_type": "code",
   "execution_count": 31,
   "id": "14126a23-eaf5-4900-9218-fa7d77d10eb7",
   "metadata": {
    "tags": []
   },
   "outputs": [
    {
     "data": {
      "text/plain": [
       "-0.14327616169008817"
      ]
     },
     "execution_count": 31,
     "metadata": {},
     "output_type": "execute_result"
    }
   ],
   "source": [
    "\n",
    "np.dot(er,[0.3,0.6,0.1])"
   ]
  },
  {
   "cell_type": "markdown",
   "id": "77ba8e21-e5e8-4902-b483-09ce9e94d88a",
   "metadata": {},
   "source": [
    "## 변동성 = 위험(risk)\n",
    "* <font color=red><b>자산별 기대수익률의 표준편차 == 수익률의 변동성(volatility)</b></font>\n",
    "* 편차(평균으로부터 떨어진 정도) --> 기대수익률의 분산\n",
    "    * 분산 : 편차 제곱 합의 평균\n",
    "    * 표준편차 : 루트(분산) \n",
    "* 편차가 크다 = 위험이 크다"
   ]
  },
  {
   "cell_type": "markdown",
   "id": "f1ca175c-51bc-49f3-b15d-9678a5946aa5",
   "metadata": {},
   "source": [
    "<pre>\n",
    "X가격 --> log(x).pct_chage().mean() 평균수익률,평균변동률\n",
    "      -->                     *252\n",
    "년간 삼성전자의 기대수익률\n",
    "\n",
    "24.2 * 10%   42.3*30%  -89.32*60% --> 토탈 포트폴리오 수익률\n",
    "\n",
    "\n",
    "\n",
    "위험=               기대수익률  (===평균으로부터 얼마나 떨어져있냐/// 분산...... )   편차\n",
    "df.std()\n",
    "w.df.cov().wT\n"
   ]
  },
  {
   "cell_type": "markdown",
   "id": "91121e81-ceb3-47a7-93ea-b09fac02b1c6",
   "metadata": {},
   "source": [
    "* 일간변동성"
   ]
  },
  {
   "cell_type": "code",
   "execution_count": 32,
   "id": "2a360fcc-9449-423d-9334-4c205cd31abe",
   "metadata": {
    "tags": []
   },
   "outputs": [
    {
     "data": {
      "text/plain": [
       "삼성전자        1.518682\n",
       "LG에너지솔루션    1.911891\n",
       "기아          1.943050\n",
       "dtype: float64"
      ]
     },
     "execution_count": 32,
     "metadata": {},
     "output_type": "execute_result"
    }
   ],
   "source": [
    "ret_df.std() * 100\n",
    "# 기아가 제일 위험해 보인다 >> 변동성이 크다 >> 수익률은 큰데 큰 폭으로 변화하면서 우상향\n",
    "# .std() >> 표준편차"
   ]
  },
  {
   "cell_type": "markdown",
   "id": "19db8a91-f9e2-421b-a65a-84576b136a70",
   "metadata": {},
   "source": [
    "<pre>\n",
    "* 연간변동성(기하평균)\n",
    "<img src = \"http://www.dentalnews.or.kr/data/photos/20210414/art_16178427616153_62e095.jpg\">"
   ]
  },
  {
   "cell_type": "code",
   "execution_count": 33,
   "id": "9b5a7773-4b4d-480d-b624-718450b55252",
   "metadata": {
    "tags": []
   },
   "outputs": [
    {
     "data": {
      "text/plain": [
       "삼성전자        24.108323\n",
       "LG에너지솔루션    30.350324\n",
       "기아          30.844959\n",
       "dtype: float64"
      ]
     },
     "execution_count": 33,
     "metadata": {},
     "output_type": "execute_result"
    }
   ],
   "source": [
    "ret_df.std()* np.sqrt(252) * 100\n",
    "# 로그 수익률이니까 >> 252도 루트"
   ]
  },
  {
   "cell_type": "markdown",
   "id": "23d7c862-69d4-4c6b-aa55-2b6d93b46fea",
   "metadata": {
    "tags": []
   },
   "source": [
    "### 포트폴리오 위험\n",
    "<pre>\n",
    "* 공분산행렬"
   ]
  },
  {
   "cell_type": "markdown",
   "id": "d085fe8a-bb73-418f-9ddf-16cfd2bf2036",
   "metadata": {
    "tags": []
   },
   "source": [
    "$\\left[\\begin{matrix}VAR[S_1]&COV[S_1,S_2]&\\cdots &COV[S_1,S_N]\\\\COV[S_2,S_1]&VAR[S_2]&\\cdots &COV[S_2,S_N]\\\\\\vdots &\\vdots &\\ddots &\\vdots \\\\COV[S_N,S_1]&COV[S_N,S_2]&\\cdots &VAR[S_N]\\end{matrix}\\right]$\n",
    "\n",
    "$\\sigma _p^2=\\omega \\ C\\ \\omega ^{\\top }$"
   ]
  },
  {
   "cell_type": "markdown",
   "id": "110ec25d-48fd-4f5d-a312-4810f59c66ed",
   "metadata": {
    "tags": []
   },
   "source": [
    "<pre>\n",
    "* 종목별 상관계수\n",
    "    * 음의 상관계수가 큰 종목들로 하나의 포트폴리오 구성\n",
    "    * 헷지 : 자산투자의 위험대비 분산투자방법( 투자한 자산의 하락에 대비하여 이를 상쇄하기 위해)"
   ]
  },
  {
   "cell_type": "code",
   "execution_count": 34,
   "id": "f16b2699-826d-4bb9-a916-97012068bbda",
   "metadata": {
    "tags": []
   },
   "outputs": [
    {
     "data": {
      "text/plain": [
       "0.0003553357597202731"
      ]
     },
     "execution_count": 34,
     "metadata": {},
     "output_type": "execute_result"
    }
   ],
   "source": [
    "E_XX = (ret_df[\"기아\"]**2).mean()\n",
    "EX_EX = (ret_df[\"기아\"].mean()) * (ret_df[\"기아\"].mean())\n",
    "E_XX - EX_EX"
   ]
  },
  {
   "cell_type": "code",
   "execution_count": 35,
   "id": "1b6556cb-7230-4335-835f-706af0c53523",
   "metadata": {
    "tags": []
   },
   "outputs": [
    {
     "data": {
      "text/html": [
       "<div>\n",
       "<style scoped>\n",
       "    .dataframe tbody tr th:only-of-type {\n",
       "        vertical-align: middle;\n",
       "    }\n",
       "\n",
       "    .dataframe tbody tr th {\n",
       "        vertical-align: top;\n",
       "    }\n",
       "\n",
       "    .dataframe thead th {\n",
       "        text-align: right;\n",
       "    }\n",
       "</style>\n",
       "<table border=\"1\" class=\"dataframe\">\n",
       "  <thead>\n",
       "    <tr style=\"text-align: right;\">\n",
       "      <th></th>\n",
       "      <th>삼성전자</th>\n",
       "      <th>LG에너지솔루션</th>\n",
       "      <th>기아</th>\n",
       "    </tr>\n",
       "    <tr>\n",
       "      <th>날짜</th>\n",
       "      <th></th>\n",
       "      <th></th>\n",
       "      <th></th>\n",
       "    </tr>\n",
       "  </thead>\n",
       "  <tbody>\n",
       "    <tr>\n",
       "      <th>2023-04-04</th>\n",
       "      <td>0.007893</td>\n",
       "      <td>-0.018950</td>\n",
       "      <td>-0.013639</td>\n",
       "    </tr>\n",
       "    <tr>\n",
       "      <th>2023-04-05</th>\n",
       "      <td>0.004706</td>\n",
       "      <td>0.022357</td>\n",
       "      <td>0.014870</td>\n",
       "    </tr>\n",
       "    <tr>\n",
       "      <th>2023-04-06</th>\n",
       "      <td>-0.025358</td>\n",
       "      <td>-0.013699</td>\n",
       "      <td>-0.003697</td>\n",
       "    </tr>\n",
       "    <tr>\n",
       "      <th>2023-04-07</th>\n",
       "      <td>0.042426</td>\n",
       "      <td>0.000000</td>\n",
       "      <td>-0.011173</td>\n",
       "    </tr>\n",
       "    <tr>\n",
       "      <th>2023-04-10</th>\n",
       "      <td>0.010712</td>\n",
       "      <td>0.027213</td>\n",
       "      <td>0.011173</td>\n",
       "    </tr>\n",
       "    <tr>\n",
       "      <th>2023-04-11</th>\n",
       "      <td>0.003040</td>\n",
       "      <td>0.023218</td>\n",
       "      <td>0.048202</td>\n",
       "    </tr>\n",
       "    <tr>\n",
       "      <th>2023-04-12</th>\n",
       "      <td>0.001516</td>\n",
       "      <td>-0.033336</td>\n",
       "      <td>0.012858</td>\n",
       "    </tr>\n",
       "    <tr>\n",
       "      <th>2023-04-13</th>\n",
       "      <td>0.001514</td>\n",
       "      <td>0.015139</td>\n",
       "      <td>0.005790</td>\n",
       "    </tr>\n",
       "    <tr>\n",
       "      <th>2023-04-14</th>\n",
       "      <td>-0.015244</td>\n",
       "      <td>-0.008382</td>\n",
       "      <td>-0.015125</td>\n",
       "    </tr>\n",
       "    <tr>\n",
       "      <th>2023-04-17</th>\n",
       "      <td>0.003067</td>\n",
       "      <td>-0.005063</td>\n",
       "      <td>-0.009423</td>\n",
       "    </tr>\n",
       "    <tr>\n",
       "      <th>2023-04-18</th>\n",
       "      <td>0.004584</td>\n",
       "      <td>0.001691</td>\n",
       "      <td>-0.021532</td>\n",
       "    </tr>\n",
       "    <tr>\n",
       "      <th>2023-04-19</th>\n",
       "      <td>-0.001526</td>\n",
       "      <td>-0.017036</td>\n",
       "      <td>0.032126</td>\n",
       "    </tr>\n",
       "    <tr>\n",
       "      <th>2023-04-20</th>\n",
       "      <td>-0.003058</td>\n",
       "      <td>-0.003442</td>\n",
       "      <td>-0.015340</td>\n",
       "    </tr>\n",
       "    <tr>\n",
       "      <th>2023-04-21</th>\n",
       "      <td>0.006107</td>\n",
       "      <td>-0.013889</td>\n",
       "      <td>-0.009558</td>\n",
       "    </tr>\n",
       "    <tr>\n",
       "      <th>2023-04-24</th>\n",
       "      <td>-0.007639</td>\n",
       "      <td>-0.010545</td>\n",
       "      <td>0.016667</td>\n",
       "    </tr>\n",
       "    <tr>\n",
       "      <th>2023-04-25</th>\n",
       "      <td>-0.024846</td>\n",
       "      <td>-0.026859</td>\n",
       "      <td>0.022184</td>\n",
       "    </tr>\n",
       "    <tr>\n",
       "      <th>2023-04-26</th>\n",
       "      <td>0.007831</td>\n",
       "      <td>0.028624</td>\n",
       "      <td>-0.010447</td>\n",
       "    </tr>\n",
       "  </tbody>\n",
       "</table>\n",
       "</div>"
      ],
      "text/plain": [
       "                삼성전자  LG에너지솔루션        기아\n",
       "날짜                                      \n",
       "2023-04-04  0.007893 -0.018950 -0.013639\n",
       "2023-04-05  0.004706  0.022357  0.014870\n",
       "2023-04-06 -0.025358 -0.013699 -0.003697\n",
       "2023-04-07  0.042426  0.000000 -0.011173\n",
       "2023-04-10  0.010712  0.027213  0.011173\n",
       "2023-04-11  0.003040  0.023218  0.048202\n",
       "2023-04-12  0.001516 -0.033336  0.012858\n",
       "2023-04-13  0.001514  0.015139  0.005790\n",
       "2023-04-14 -0.015244 -0.008382 -0.015125\n",
       "2023-04-17  0.003067 -0.005063 -0.009423\n",
       "2023-04-18  0.004584  0.001691 -0.021532\n",
       "2023-04-19 -0.001526 -0.017036  0.032126\n",
       "2023-04-20 -0.003058 -0.003442 -0.015340\n",
       "2023-04-21  0.006107 -0.013889 -0.009558\n",
       "2023-04-24 -0.007639 -0.010545  0.016667\n",
       "2023-04-25 -0.024846 -0.026859  0.022184\n",
       "2023-04-26  0.007831  0.028624 -0.010447"
      ]
     },
     "execution_count": 35,
     "metadata": {},
     "output_type": "execute_result"
    }
   ],
   "source": [
    "ret_df"
   ]
  },
  {
   "cell_type": "code",
   "execution_count": 36,
   "id": "e3b19d1c-f2ef-42d5-ad5f-aa98d931d2c6",
   "metadata": {
    "tags": []
   },
   "outputs": [
    {
     "data": {
      "text/html": [
       "<div>\n",
       "<style scoped>\n",
       "    .dataframe tbody tr th:only-of-type {\n",
       "        vertical-align: middle;\n",
       "    }\n",
       "\n",
       "    .dataframe tbody tr th {\n",
       "        vertical-align: top;\n",
       "    }\n",
       "\n",
       "    .dataframe thead th {\n",
       "        text-align: right;\n",
       "    }\n",
       "</style>\n",
       "<table border=\"1\" class=\"dataframe\">\n",
       "  <thead>\n",
       "    <tr style=\"text-align: right;\">\n",
       "      <th></th>\n",
       "      <th>삼성전자</th>\n",
       "      <th>LG에너지솔루션</th>\n",
       "      <th>기아</th>\n",
       "    </tr>\n",
       "  </thead>\n",
       "  <tbody>\n",
       "    <tr>\n",
       "      <th>삼성전자</th>\n",
       "      <td>0.000231</td>\n",
       "      <td>0.000107</td>\n",
       "      <td>-0.000056</td>\n",
       "    </tr>\n",
       "    <tr>\n",
       "      <th>LG에너지솔루션</th>\n",
       "      <td>0.000107</td>\n",
       "      <td>0.000366</td>\n",
       "      <td>0.000033</td>\n",
       "    </tr>\n",
       "    <tr>\n",
       "      <th>기아</th>\n",
       "      <td>-0.000056</td>\n",
       "      <td>0.000033</td>\n",
       "      <td>0.000378</td>\n",
       "    </tr>\n",
       "  </tbody>\n",
       "</table>\n",
       "</div>"
      ],
      "text/plain": [
       "              삼성전자  LG에너지솔루션        기아\n",
       "삼성전자      0.000231  0.000107 -0.000056\n",
       "LG에너지솔루션  0.000107  0.000366  0.000033\n",
       "기아       -0.000056  0.000033  0.000378"
      ]
     },
     "execution_count": 36,
     "metadata": {},
     "output_type": "execute_result"
    }
   ],
   "source": [
    "cov_df=ret_df.cov()\n",
    "cov_df"
   ]
  },
  {
   "cell_type": "code",
   "execution_count": 37,
   "id": "ff88ae24-d7cd-432f-8952-721cd8793c53",
   "metadata": {
    "tags": []
   },
   "outputs": [
    {
     "data": {
      "text/plain": [
       "<AxesSubplot: >"
      ]
     },
     "execution_count": 37,
     "metadata": {},
     "output_type": "execute_result"
    },
    {
     "data": {
      "image/png": "[encoded data removed]",
      "text/plain": [
       "<Figure size 640x480 with 2 Axes>"
      ]
     },
     "metadata": {},
     "output_type": "display_data"
    }
   ],
   "source": [
    "sns.heatmap(ret_df.corr(), fmt=\"0.2f\", annot=True)\n",
    "# 공분산 / 표준편차   >> 표준화\n",
    "# 즉, 크기에 영향을 받지않고 단위화 시킴에 따라 상관계수의 성질로 절대값이 1이하이다.\n",
    "# 반드시 ★음★의 상관관계 가진 항목들 구매 >> 헤지(서로 상충)"
   ]
  },
  {
   "cell_type": "markdown",
   "id": "c3d33fa1-212d-4719-aed5-d60b851861c9",
   "metadata": {
    "tags": []
   },
   "source": [
    "#### 공분산행렬 \n",
    "*  제곱근 --> risk (편차)"
   ]
  },
  {
   "cell_type": "code",
   "execution_count": 38,
   "id": "b6fc6a40-4ac4-4a55-95c5-3a114c270a05",
   "metadata": {
    "tags": []
   },
   "outputs": [
    {
     "name": "stdout",
     "output_type": "stream",
     "text": [
      "0.01518681601811642 0.019118906994087977 0.019430497798635784\n"
     ]
    }
   ],
   "source": [
    "sam= np.sqrt(cov_df.iloc[0,0] ) # 삼성전자 risk (루트(분산)=편차)\n",
    "lg= np.sqrt(cov_df.iloc[1,1] )\n",
    "kia= np.sqrt(cov_df.iloc[2,2] )\n",
    "print(sam,lg,kia)"
   ]
  },
  {
   "cell_type": "code",
   "execution_count": 39,
   "id": "0d5df227-00c7-4b7d-bdca-8f3607894f37",
   "metadata": {
    "tags": []
   },
   "outputs": [
    {
     "data": {
      "text/plain": [
       "삼성전자        1.518682\n",
       "LG에너지솔루션    1.911891\n",
       "기아          1.943050\n",
       "dtype: float64"
      ]
     },
     "execution_count": 39,
     "metadata": {},
     "output_type": "execute_result"
    }
   ],
   "source": [
    "ret_df.std() * 100"
   ]
  },
  {
   "cell_type": "markdown",
   "id": "ddc6897f-d022-4eff-8bbc-12c1d88195db",
   "metadata": {},
   "source": [
    "#### 공분산행렬 >> 연간 리스크"
   ]
  },
  {
   "cell_type": "code",
   "execution_count": 40,
   "id": "7b699174-8ad7-4a20-947b-92cfadd33c0b",
   "metadata": {
    "tags": []
   },
   "outputs": [
    {
     "data": {
      "text/html": [
       "<div>\n",
       "<style scoped>\n",
       "    .dataframe tbody tr th:only-of-type {\n",
       "        vertical-align: middle;\n",
       "    }\n",
       "\n",
       "    .dataframe tbody tr th {\n",
       "        vertical-align: top;\n",
       "    }\n",
       "\n",
       "    .dataframe thead th {\n",
       "        text-align: right;\n",
       "    }\n",
       "</style>\n",
       "<table border=\"1\" class=\"dataframe\">\n",
       "  <thead>\n",
       "    <tr style=\"text-align: right;\">\n",
       "      <th></th>\n",
       "      <th>삼성전자</th>\n",
       "      <th>LG에너지솔루션</th>\n",
       "      <th>기아</th>\n",
       "    </tr>\n",
       "  </thead>\n",
       "  <tbody>\n",
       "    <tr>\n",
       "      <th>삼성전자</th>\n",
       "      <td>0.058121</td>\n",
       "      <td>0.026959</td>\n",
       "      <td>-0.014037</td>\n",
       "    </tr>\n",
       "    <tr>\n",
       "      <th>LG에너지솔루션</th>\n",
       "      <td>0.026959</td>\n",
       "      <td>0.092114</td>\n",
       "      <td>0.008412</td>\n",
       "    </tr>\n",
       "    <tr>\n",
       "      <th>기아</th>\n",
       "      <td>-0.014037</td>\n",
       "      <td>0.008412</td>\n",
       "      <td>0.095141</td>\n",
       "    </tr>\n",
       "  </tbody>\n",
       "</table>\n",
       "</div>"
      ],
      "text/plain": [
       "              삼성전자  LG에너지솔루션        기아\n",
       "삼성전자      0.058121  0.026959 -0.014037\n",
       "LG에너지솔루션  0.026959  0.092114  0.008412\n",
       "기아       -0.014037  0.008412  0.095141"
      ]
     },
     "execution_count": 40,
     "metadata": {},
     "output_type": "execute_result"
    }
   ],
   "source": [
    "ret_df.cov() * 252"
   ]
  },
  {
   "cell_type": "code",
   "execution_count": 41,
   "id": "ce061cc0-03c5-4b0d-bf9f-dee31b33936b",
   "metadata": {
    "tags": []
   },
   "outputs": [
    {
     "data": {
      "text/plain": [
       "삼성전자        24.108323\n",
       "LG에너지솔루션    30.350324\n",
       "기아          30.844959\n",
       "dtype: float64"
      ]
     },
     "execution_count": 41,
     "metadata": {},
     "output_type": "execute_result"
    }
   ],
   "source": [
    "ret_df.std()* np.sqrt(252) * 100\n",
    "# 로그 이니까 >> 252도 루트"
   ]
  },
  {
   "cell_type": "markdown",
   "id": "b06b25b3-e67a-4219-9882-ae553d6b115b",
   "metadata": {},
   "source": [
    "#### 포트폴리오 가중치 적용 >> 연간리스크"
   ]
  },
  {
   "cell_type": "markdown",
   "id": "22149ef6-6263-40b1-aad2-f0a4bf16f768",
   "metadata": {},
   "source": [
    "* annual_cov_matrix"
   ]
  },
  {
   "cell_type": "code",
   "execution_count": 42,
   "id": "565d37fb-0f0a-47f5-9f20-154b6c33dc98",
   "metadata": {
    "tags": []
   },
   "outputs": [
    {
     "data": {
      "text/plain": [
       "array([[ 0.05812112,  0.0269592 , -0.01403666],\n",
       "       [ 0.0269592 ,  0.09211422,  0.00841156],\n",
       "       [-0.01403666,  0.00841156,  0.09514115]])"
      ]
     },
     "execution_count": 42,
     "metadata": {},
     "output_type": "execute_result"
    }
   ],
   "source": [
    "C = (ret_df.cov() * 252).values\n",
    "C"
   ]
  },
  {
   "cell_type": "code",
   "execution_count": 43,
   "id": "d755cbc5-2d2d-4154-98dd-36b401d3c7c6",
   "metadata": {
    "tags": []
   },
   "outputs": [
    {
     "data": {
      "text/plain": [
       "array([0.3, 0.1, 0.6])"
      ]
     },
     "execution_count": 43,
     "metadata": {},
     "output_type": "execute_result"
    }
   ],
   "source": [
    "w = np.array([0.3,0.1,0.6])\n",
    "w"
   ]
  },
  {
   "cell_type": "code",
   "execution_count": 44,
   "id": "f55c6fb4-1d54-47b4-ac88-867b774a64dd",
   "metadata": {
    "tags": []
   },
   "outputs": [
    {
     "data": {
      "text/plain": [
       "1.9487585539282382"
      ]
     },
     "execution_count": 44,
     "metadata": {},
     "output_type": "execute_result"
    }
   ],
   "source": [
    "portfolio_var = np.dot( np.dot(w,C), w.T) *100  # 분산\n",
    "portfolio_std = np.sqrt(portfolio_var)          # 편차 == risk\n",
    "portfolio_std"
   ]
  },
  {
   "cell_type": "markdown",
   "id": "a01658b5-385c-466d-a969-fc6da8522788",
   "metadata": {},
   "source": [
    "## 차트"
   ]
  },
  {
   "cell_type": "code",
   "execution_count": 45,
   "id": "7ec5bc31-9648-4b1d-97c5-953b43539f4d",
   "metadata": {
    "tags": []
   },
   "outputs": [
    {
     "data": {
      "image/png": "[encoded data removed]",
      "text/plain": [
       "<Figure size 640x480 with 1 Axes>"
      ]
     },
     "metadata": {},
     "output_type": "display_data"
    }
   ],
   "source": [
    "ret_df.cumsum().plot() # 로그라서 \"합\"\n",
    "plt.legend()\n",
    "plt.show()"
   ]
  },
  {
   "cell_type": "markdown",
   "id": "38210c00-6a9f-4171-90e4-df3b444151cc",
   "metadata": {},
   "source": [
    "# 효율적 투자전략\n",
    "<pre>\n",
    "* 샤프지수 : (수익률 - 무위험수익률) / 리스크 --> 수익률/표준편차\n",
    "    - 클수록 좋다!!\n",
    "\n",
    "\n",
    "* AI 예측 >> 손실을 최대한 줄이자!!\n",
    "* 수익은 인간의 예측이 훨씬 정확, AI는 아직 보조수단"
   ]
  },
  {
   "cell_type": "code",
   "execution_count": 57,
   "id": "891b4efa-0d4d-49ff-a2ab-919f429fce17",
   "metadata": {
    "tags": []
   },
   "outputs": [
    {
     "data": {
      "text/html": [
       "<div>\n",
       "<style scoped>\n",
       "    .dataframe tbody tr th:only-of-type {\n",
       "        vertical-align: middle;\n",
       "    }\n",
       "\n",
       "    .dataframe tbody tr th {\n",
       "        vertical-align: top;\n",
       "    }\n",
       "\n",
       "    .dataframe thead th {\n",
       "        text-align: right;\n",
       "    }\n",
       "</style>\n",
       "<table border=\"1\" class=\"dataframe\">\n",
       "  <thead>\n",
       "    <tr style=\"text-align: right;\">\n",
       "      <th></th>\n",
       "      <th>삼성전자</th>\n",
       "      <th>LG에너지솔루션</th>\n",
       "      <th>기아</th>\n",
       "    </tr>\n",
       "    <tr>\n",
       "      <th>날짜</th>\n",
       "      <th></th>\n",
       "      <th></th>\n",
       "      <th></th>\n",
       "    </tr>\n",
       "  </thead>\n",
       "  <tbody>\n",
       "    <tr>\n",
       "      <th>2023-04-03</th>\n",
       "      <td>63100</td>\n",
       "      <td>586000</td>\n",
       "      <td>81200</td>\n",
       "    </tr>\n",
       "  </tbody>\n",
       "</table>\n",
       "</div>"
      ],
      "text/plain": [
       "             삼성전자  LG에너지솔루션     기아\n",
       "날짜                                \n",
       "2023-04-03  63100    586000  81200"
      ]
     },
     "execution_count": 57,
     "metadata": {},
     "output_type": "execute_result"
    }
   ],
   "source": [
    "ddf = pd.read_csv(\"./datasets/kospi_top10.csv\")  \n",
    "ddf = ddf.set_index(\"날짜\")\n",
    "ddf = ddf.iloc[:, [0,1,9]]\n",
    "ddf.head(1)"
   ]
  },
  {
   "cell_type": "code",
   "execution_count": 67,
   "id": "24854063-eb07-4253-9fbb-bc818a3e1652",
   "metadata": {
    "tags": []
   },
   "outputs": [
    {
     "data": {
      "text/html": [
       "<div>\n",
       "<style scoped>\n",
       "    .dataframe tbody tr th:only-of-type {\n",
       "        vertical-align: middle;\n",
       "    }\n",
       "\n",
       "    .dataframe tbody tr th {\n",
       "        vertical-align: top;\n",
       "    }\n",
       "\n",
       "    .dataframe thead th {\n",
       "        text-align: right;\n",
       "    }\n",
       "</style>\n",
       "<table border=\"1\" class=\"dataframe\">\n",
       "  <thead>\n",
       "    <tr style=\"text-align: right;\">\n",
       "      <th></th>\n",
       "      <th>returns</th>\n",
       "      <th>risk</th>\n",
       "      <th>sharpe</th>\n",
       "      <th>삼성전자</th>\n",
       "      <th>LG에너지솔루션</th>\n",
       "      <th>기아</th>\n",
       "    </tr>\n",
       "  </thead>\n",
       "  <tbody>\n",
       "    <tr>\n",
       "      <th>0</th>\n",
       "      <td>0.238990</td>\n",
       "      <td>0.178066</td>\n",
       "      <td>1.342143</td>\n",
       "      <td>0.574136</td>\n",
       "      <td>0.209894</td>\n",
       "      <td>0.215971</td>\n",
       "    </tr>\n",
       "    <tr>\n",
       "      <th>1</th>\n",
       "      <td>0.505397</td>\n",
       "      <td>0.173806</td>\n",
       "      <td>2.907822</td>\n",
       "      <td>0.510605</td>\n",
       "      <td>0.032302</td>\n",
       "      <td>0.457093</td>\n",
       "    </tr>\n",
       "    <tr>\n",
       "      <th>2</th>\n",
       "      <td>0.531207</td>\n",
       "      <td>0.234285</td>\n",
       "      <td>2.267356</td>\n",
       "      <td>0.087042</td>\n",
       "      <td>0.204376</td>\n",
       "      <td>0.708582</td>\n",
       "    </tr>\n",
       "  </tbody>\n",
       "</table>\n",
       "</div>"
      ],
      "text/plain": [
       "    returns      risk    sharpe      삼성전자  LG에너지솔루션        기아\n",
       "0  0.238990  0.178066  1.342143  0.574136  0.209894  0.215971\n",
       "1  0.505397  0.173806  2.907822  0.510605  0.032302  0.457093\n",
       "2  0.531207  0.234285  2.267356  0.087042  0.204376  0.708582"
      ]
     },
     "execution_count": 67,
     "metadata": {},
     "output_type": "execute_result"
    }
   ],
   "source": [
    "stocks = ddf.columns\n",
    "\n",
    "ret        = ddf.pct_change()\n",
    "annual_ret = ret.mean() * 252\n",
    "cov        = ret.cov()\n",
    "\n",
    "annual_cov = cov *252\n",
    "\n",
    "port_ret    = []\n",
    "port_risk   = []\n",
    "port_weight = []\n",
    "port_sharpe = []\n",
    "\n",
    "# 수익률/표준편차\n",
    "# sharpe = ret/np.sqrt(cov)\n",
    "for _ in range(20000):\n",
    "    weights  = np.random.random(len(stocks))\n",
    "    weights /= sum(weights)\n",
    "    \n",
    "    returns = np.dot(weights, annual_ret)\n",
    "    risk    = np.sqrt(np.dot(np.dot(weights, annual_cov),weights.T))\n",
    "    sharpe  = returns/risk\n",
    "    \n",
    "    \n",
    "    port_ret.append(returns)\n",
    "    port_risk.append(risk)\n",
    "    port_weight.append(weights)\n",
    "    port_sharpe.append(sharpe)\n",
    "    \n",
    "portfolio = {\"returns\":port_ret,\"risk\":port_risk,\"sharpe\":port_sharpe}\n",
    "for i, s in enumerate(stocks): \n",
    "    # portfolio[s] = [ ret[i] for ret in port_ret ] \n",
    "    portfolio[s] = [weight[i] for weight in port_weight] \n",
    "    # dic[\"삼성전자\"] = [[],[],[],,,,,,,]\n",
    "# df = df[['Returns', 'Risk'] + [s for s in stocks]] \n",
    "pt_df = pd.DataFrame(portfolio)\n",
    "pt_df.head(3)\n"
   ]
  },
  {
   "cell_type": "markdown",
   "id": "efed94bc-c5e1-44f6-aa8b-e86d245ac0e0",
   "metadata": {},
   "source": [
    "* sharpe 최대"
   ]
  },
  {
   "cell_type": "code",
   "execution_count": 91,
   "id": "14602ab1-cdb8-408a-bb0e-20b15d16d7b2",
   "metadata": {
    "tags": []
   },
   "outputs": [
    {
     "data": {
      "text/html": [
       "<div>\n",
       "<style scoped>\n",
       "    .dataframe tbody tr th:only-of-type {\n",
       "        vertical-align: middle;\n",
       "    }\n",
       "\n",
       "    .dataframe tbody tr th {\n",
       "        vertical-align: top;\n",
       "    }\n",
       "\n",
       "    .dataframe thead th {\n",
       "        text-align: right;\n",
       "    }\n",
       "</style>\n",
       "<table border=\"1\" class=\"dataframe\">\n",
       "  <thead>\n",
       "    <tr style=\"text-align: right;\">\n",
       "      <th></th>\n",
       "      <th>returns</th>\n",
       "      <th>risk</th>\n",
       "      <th>sharpe</th>\n",
       "      <th>삼성전자</th>\n",
       "      <th>LG에너지솔루션</th>\n",
       "      <th>기아</th>\n",
       "    </tr>\n",
       "  </thead>\n",
       "  <tbody>\n",
       "    <tr>\n",
       "      <th>2340</th>\n",
       "      <td>0.607537</td>\n",
       "      <td>0.192352</td>\n",
       "      <td>3.158459</td>\n",
       "      <td>0.407026</td>\n",
       "      <td>0.000137</td>\n",
       "      <td>0.592837</td>\n",
       "    </tr>\n",
       "  </tbody>\n",
       "</table>\n",
       "</div>"
      ],
      "text/plain": [
       "       returns      risk    sharpe      삼성전자  LG에너지솔루션        기아\n",
       "2340  0.607537  0.192352  3.158459  0.407026  0.000137  0.592837"
      ]
     },
     "execution_count": 91,
     "metadata": {},
     "output_type": "execute_result"
    }
   ],
   "source": [
    "sharpe_max = pt_df[pt_df[\"sharpe\"] ==pt_df[\"sharpe\"].max()]\n",
    "sharpe_max"
   ]
  },
  {
   "cell_type": "markdown",
   "id": "47c53740-d5d9-4a76-b03e-f768935cbd97",
   "metadata": {},
   "source": [
    "* risk 최소"
   ]
  },
  {
   "cell_type": "code",
   "execution_count": 93,
   "id": "cc1c7f46-7551-493f-b07f-60cd0ea139f1",
   "metadata": {
    "tags": []
   },
   "outputs": [
    {
     "data": {
      "text/html": [
       "<div>\n",
       "<style scoped>\n",
       "    .dataframe tbody tr th:only-of-type {\n",
       "        vertical-align: middle;\n",
       "    }\n",
       "\n",
       "    .dataframe tbody tr th {\n",
       "        vertical-align: top;\n",
       "    }\n",
       "\n",
       "    .dataframe thead th {\n",
       "        text-align: right;\n",
       "    }\n",
       "</style>\n",
       "<table border=\"1\" class=\"dataframe\">\n",
       "  <thead>\n",
       "    <tr style=\"text-align: right;\">\n",
       "      <th></th>\n",
       "      <th>returns</th>\n",
       "      <th>risk</th>\n",
       "      <th>sharpe</th>\n",
       "      <th>삼성전자</th>\n",
       "      <th>LG에너지솔루션</th>\n",
       "      <th>기아</th>\n",
       "    </tr>\n",
       "  </thead>\n",
       "  <tbody>\n",
       "    <tr>\n",
       "      <th>1158</th>\n",
       "      <td>0.384105</td>\n",
       "      <td>0.169094</td>\n",
       "      <td>2.271538</td>\n",
       "      <td>0.519108</td>\n",
       "      <td>0.122419</td>\n",
       "      <td>0.358474</td>\n",
       "    </tr>\n",
       "  </tbody>\n",
       "</table>\n",
       "</div>"
      ],
      "text/plain": [
       "       returns      risk    sharpe      삼성전자  LG에너지솔루션        기아\n",
       "1158  0.384105  0.169094  2.271538  0.519108  0.122419  0.358474"
      ]
     },
     "execution_count": 93,
     "metadata": {},
     "output_type": "execute_result"
    }
   ],
   "source": [
    "risk_min = pt_df[pt_df[\"risk\"] ==pt_df[\"risk\"].min()]\n",
    "risk_min"
   ]
  },
  {
   "cell_type": "markdown",
   "id": "393ca723-9105-469b-b4bc-7d74a91d5cbb",
   "metadata": {},
   "source": [
    "* returns 최대"
   ]
  },
  {
   "cell_type": "code",
   "execution_count": 94,
   "id": "4cb423c1-c3d8-4e4b-af80-a207db5fd64f",
   "metadata": {
    "tags": []
   },
   "outputs": [
    {
     "data": {
      "text/html": [
       "<div>\n",
       "<style scoped>\n",
       "    .dataframe tbody tr th:only-of-type {\n",
       "        vertical-align: middle;\n",
       "    }\n",
       "\n",
       "    .dataframe tbody tr th {\n",
       "        vertical-align: top;\n",
       "    }\n",
       "\n",
       "    .dataframe thead th {\n",
       "        text-align: right;\n",
       "    }\n",
       "</style>\n",
       "<table border=\"1\" class=\"dataframe\">\n",
       "  <thead>\n",
       "    <tr style=\"text-align: right;\">\n",
       "      <th></th>\n",
       "      <th>returns</th>\n",
       "      <th>risk</th>\n",
       "      <th>sharpe</th>\n",
       "      <th>삼성전자</th>\n",
       "      <th>LG에너지솔루션</th>\n",
       "      <th>기아</th>\n",
       "    </tr>\n",
       "  </thead>\n",
       "  <tbody>\n",
       "    <tr>\n",
       "      <th>16755</th>\n",
       "      <td>0.826924</td>\n",
       "      <td>0.303331</td>\n",
       "      <td>2.726149</td>\n",
       "      <td>0.018514</td>\n",
       "      <td>0.006342</td>\n",
       "      <td>0.975145</td>\n",
       "    </tr>\n",
       "  </tbody>\n",
       "</table>\n",
       "</div>"
      ],
      "text/plain": [
       "        returns      risk    sharpe      삼성전자  LG에너지솔루션        기아\n",
       "16755  0.826924  0.303331  2.726149  0.018514  0.006342  0.975145"
      ]
     },
     "execution_count": 94,
     "metadata": {},
     "output_type": "execute_result"
    }
   ],
   "source": [
    "returns_max= pt_df[pt_df[\"returns\"] ==pt_df[\"returns\"].max()]\n",
    "returns_max"
   ]
  },
  {
   "cell_type": "markdown",
   "id": "ec744709-57d5-481d-b945-d88d91b2a91f",
   "metadata": {
    "tags": []
   },
   "source": [
    "## 투자 효율 곡선"
   ]
  },
  {
   "cell_type": "code",
   "execution_count": 111,
   "id": "e4f6f5d8-8c1a-48b1-bb5c-e934ed02d0d2",
   "metadata": {
    "tags": []
   },
   "outputs": [
    {
     "data": {
      "image/png": "[encoded data removed]",
      "text/plain": [
       "<Figure size 640x480 with 2 Axes>"
      ]
     },
     "metadata": {},
     "output_type": "display_data"
    }
   ],
   "source": [
    "pt_df.plot.scatter(x='risk', y='returns',c=\"기아\")\n",
    "plt.title('Efficient Frontier') \n",
    "plt.xlabel('Risk') \n",
    "plt.ylabel('Expected Returns') \n",
    "\n",
    "\n",
    "plt.show() "
   ]
  },
  {
   "cell_type": "code",
   "execution_count": 104,
   "id": "6dc88da0-6e76-44dc-b526-375eb5e749d1",
   "metadata": {
    "tags": []
   },
   "outputs": [
    {
     "data": {
      "text/html": [
       "<div>\n",
       "<style scoped>\n",
       "    .dataframe tbody tr th:only-of-type {\n",
       "        vertical-align: middle;\n",
       "    }\n",
       "\n",
       "    .dataframe tbody tr th {\n",
       "        vertical-align: top;\n",
       "    }\n",
       "\n",
       "    .dataframe thead th {\n",
       "        text-align: right;\n",
       "    }\n",
       "</style>\n",
       "<table border=\"1\" class=\"dataframe\">\n",
       "  <thead>\n",
       "    <tr style=\"text-align: right;\">\n",
       "      <th></th>\n",
       "      <th>returns</th>\n",
       "      <th>risk</th>\n",
       "      <th>sharpe</th>\n",
       "      <th>삼성전자</th>\n",
       "      <th>LG에너지솔루션</th>\n",
       "      <th>기아</th>\n",
       "    </tr>\n",
       "  </thead>\n",
       "  <tbody>\n",
       "    <tr>\n",
       "      <th>0</th>\n",
       "      <td>0.238990</td>\n",
       "      <td>0.178066</td>\n",
       "      <td>1.342143</td>\n",
       "      <td>0.574136</td>\n",
       "      <td>0.209894</td>\n",
       "      <td>0.215971</td>\n",
       "    </tr>\n",
       "    <tr>\n",
       "      <th>1</th>\n",
       "      <td>0.505397</td>\n",
       "      <td>0.173806</td>\n",
       "      <td>2.907822</td>\n",
       "      <td>0.510605</td>\n",
       "      <td>0.032302</td>\n",
       "      <td>0.457093</td>\n",
       "    </tr>\n",
       "    <tr>\n",
       "      <th>2</th>\n",
       "      <td>0.531207</td>\n",
       "      <td>0.234285</td>\n",
       "      <td>2.267356</td>\n",
       "      <td>0.087042</td>\n",
       "      <td>0.204376</td>\n",
       "      <td>0.708582</td>\n",
       "    </tr>\n",
       "    <tr>\n",
       "      <th>3</th>\n",
       "      <td>0.217781</td>\n",
       "      <td>0.176006</td>\n",
       "      <td>1.237348</td>\n",
       "      <td>0.439564</td>\n",
       "      <td>0.287349</td>\n",
       "      <td>0.273086</td>\n",
       "    </tr>\n",
       "    <tr>\n",
       "      <th>4</th>\n",
       "      <td>-0.208954</td>\n",
       "      <td>0.249430</td>\n",
       "      <td>-0.837723</td>\n",
       "      <td>0.113393</td>\n",
       "      <td>0.765873</td>\n",
       "      <td>0.120734</td>\n",
       "    </tr>\n",
       "  </tbody>\n",
       "</table>\n",
       "</div>"
      ],
      "text/plain": [
       "    returns      risk    sharpe      삼성전자  LG에너지솔루션        기아\n",
       "0  0.238990  0.178066  1.342143  0.574136  0.209894  0.215971\n",
       "1  0.505397  0.173806  2.907822  0.510605  0.032302  0.457093\n",
       "2  0.531207  0.234285  2.267356  0.087042  0.204376  0.708582\n",
       "3  0.217781  0.176006  1.237348  0.439564  0.287349  0.273086\n",
       "4 -0.208954  0.249430 -0.837723  0.113393  0.765873  0.120734"
      ]
     },
     "execution_count": 104,
     "metadata": {},
     "output_type": "execute_result"
    }
   ],
   "source": [
    "pt_df.head()"
   ]
  },
  {
   "cell_type": "code",
   "execution_count": 106,
   "id": "76c42109-996a-4f3d-a8f5-477feb217854",
   "metadata": {
    "tags": []
   },
   "outputs": [
    {
     "data": {
      "image/png": "[encoded data removed]",
      "text/plain": [
       "<Figure size 800x400 with 1 Axes>"
      ]
     },
     "metadata": {},
     "output_type": "display_data"
    }
   ],
   "source": [
    "\n",
    "plt.figure(figsize=(8,4))\n",
    "sns.scatterplot(data=pt_df, x='risk', y='returns' , label=f\"포트폴리오\")\n",
    "sns.scatterplot(data=sharpe_max , x='risk', y='returns', marker=\"^\", c='red')\n",
    "sns.scatterplot(data=risk_min  , x='risk', y='returns', marker=\"*\", c='red')\n",
    "sns.scatterplot(data=returns_max, x='risk', y='returns', marker=\"s\", c='red')\n",
    "\n",
    "plt.title(f'Efficient Frontier_{stocks.values}') \n",
    "plt.xlabel('Risk') \n",
    "plt.ylabel('Expected Returns') \n",
    "plt.show() "
   ]
  }
 ],
 "metadata": {
  "kernelspec": {
   "display_name": "Python 3 (ipykernel)",
   "language": "python",
   "name": "python3"
  },
  "language_info": {
   "codemirror_mode": {
    "name": "ipython",
    "version": 3
   },
   "file_extension": ".py",
   "mimetype": "text/x-python",
   "name": "python",
   "nbconvert_exporter": "python",
   "pygments_lexer": "ipython3",
   "version": "3.8.8"
  },
  "toc-autonumbering": true
 },
 "nbformat": 4,
 "nbformat_minor": 5
}
