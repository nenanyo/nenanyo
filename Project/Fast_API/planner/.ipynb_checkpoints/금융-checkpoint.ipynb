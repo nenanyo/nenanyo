{
 "cells": [
  {
   "cell_type": "markdown",
   "id": "f8b3ea1a-1a2a-43ba-93fd-adbff3b6909f",
   "metadata": {},
   "source": [
    "<pre>\n",
    "@logger\n",
    "def aaa\n",
    "# @~~ preprocessing\n",
    "# aaa 실행하기전에 해라\n",
    "\n",
    "\n",
    "\n",
    "@ wrap : 파라미터 받지 않아도 받아서 사용"
   ]
  },
  {
   "cell_type": "markdown",
   "id": "b2926b37-0641-483e-b718-4a950b039279",
   "metadata": {},
   "source": [
    "<pre>\n",
    "* 한국과 미국금리는 따라갑니다  추세가 비슷하다\n",
    "어느정도 비슷한 패턴\n",
    "\n",
    "연준이 올리면 올린다 > \n",
    "\n",
    "\n",
    "금리오른다 >> 생산위축 >> 가격상승 >> 고금리 >> 외국인들의 투자늘어남 >> 대량의 달러 투입 >> 원화 가격 상승 >> 환율 하락\n",
    "\n",
    "\n",
    "* 중국과 한국금리는 싱크로율 90% 약 30분 간격\n"
   ]
  },
  {
   "cell_type": "markdown",
   "id": "4c9070e3-db09-4e29-8e18-fbc3c03c7517",
   "metadata": {
    "tags": []
   },
   "source": [
    "신평위 > 금감위 > 금결위 > 신평위(nice, kcb, sci)"
   ]
  },
  {
   "cell_type": "markdown",
   "id": "1a2c45b9-0893-44bf-8233-1198944ac78b",
   "metadata": {},
   "source": [
    "# 한국은행"
   ]
  },
  {
   "cell_type": "markdown",
   "id": "5cfa18aa-7b40-4b55-a989-e973067a044c",
   "metadata": {},
   "source": [
    "* 총재 : 이창용 (2022.04 ~ )\n",
    "* 본원통화 : 중앙은행이 발행한 통화"
   ]
  },
  {
   "cell_type": "markdown",
   "id": "0b782ca2-7634-45b5-bd61-bbfc0ac0b076",
   "metadata": {},
   "source": [
    "<pre>\n",
    "한국은행 : 국가은행, 은행의 은행, 세금 쌓아놓는 곳\n",
    "설립목표 : 물가안정('소비자물가' 전년동기대비 2%인상)  --> 돈의 가치를 지킨다\n",
    "소비자물가는 절대 하락하지 않는다\n",
    "소비자물가는 금리랑 상관X 무조건 우상향"
   ]
  },
  {
   "cell_type": "markdown",
   "id": "7cfb430f-a855-4f5a-b7a1-6969acb07540",
   "metadata": {},
   "source": [
    "통화량이 많다 : 유통되는 지폐가 많다"
   ]
  },
  {
   "cell_type": "markdown",
   "id": "15307ee7-da34-420c-8d51-5ac7aadbcf1e",
   "metadata": {},
   "source": [
    "<pre>\n",
    "유동성 : 어떤 자산을 교환의 매개수단으로 얼마나 쉽게 바꿀수 있는가를 나타내는 정도\n",
    "    - 화폐 > 주식 > 채권 > 부동산, 미술품 등\n",
    "왜 현금을 100% 보유하지 않나\n",
    "    - risk : 물가가 오르면 화폐 가치 하락\n",
    "    "
   ]
  },
  {
   "cell_type": "markdown",
   "id": "5f4a1c5a-ad4a-4a90-92ad-44972db693e0",
   "metadata": {},
   "source": [
    "## 통화정책방향회의(연에 8회)\n",
    "* 기준금리 발표\n",
    "* 통화신용정책보고서(연 4회) 발간\n"
   ]
  },
  {
   "cell_type": "markdown",
   "id": "1d0ea48e-8366-4203-87f6-0a0d55188fc2",
   "metadata": {},
   "source": [
    "* 금융통화위원회(한국은행의 정책결정기구) "
   ]
  },
  {
   "cell_type": "markdown",
   "id": "9ba5c78f-225f-44b0-8afa-ce9e9afbb3a0",
   "metadata": {},
   "source": [
    "### 기준금리 (23.05.02 : 3.5%)"
   ]
  },
  {
   "cell_type": "markdown",
   "id": "51293da5-70fd-47b3-8704-6ea4eb5ebc53",
   "metadata": {},
   "source": [
    "* 한국은행 정하는 거래를 할 때 기준이 되는 정책금리\n",
    "* 금융통화위원회는 물가동향, 국내외 경제 상황, 금융시장 여건 등을 고려하여 연 8외 기준금리 결정\n",
    "* 시중금리 5-6% // 대출금리 : 8 - 10%"
   ]
  },
  {
   "cell_type": "markdown",
   "id": "df52146c-ee53-4e91-9f2c-0f1bc175d5b9",
   "metadata": {},
   "source": [
    "\n",
    "* 소비자 )  금리상승 -> 자산을 통해 얻을 수 있는 미래 수익의 현재 가치 하락,   \"대출 이자 증가\" ->부의 감소 -> 가계소비 감소"
   ]
  },
  {
   "cell_type": "markdown",
   "id": "8838ae72-8bab-4fae-a7ce-6bdd4d9a9dbd",
   "metadata": {
    "tags": []
   },
   "source": [
    "* 기업 ) 금리상승 -> 은행 대출태도 변화(차주 상환능력 우려) -> 기업 투자, 생산 위축"
   ]
  },
  {
   "cell_type": "markdown",
   "id": "45016230-e8ce-4f30-b731-e2b097c9a5ce",
   "metadata": {},
   "source": [
    "* 금리상승\n",
    "0.25  / 빅스텝 0.5 / 자이언트 0.75 / 울트라 1"
   ]
  },
  {
   "cell_type": "markdown",
   "id": "c14e3210-28da-43fa-9c7a-2955118dab3b",
   "metadata": {},
   "source": [
    "# 통화정책수단"
   ]
  },
  {
   "cell_type": "markdown",
   "id": "f9e598ad-b0a5-4c8e-85af-d5fd2411ccdd",
   "metadata": {},
   "source": [
    "* 통화정책수단 : 화폐의 가치, 즉 물가를 안정시키고 지속 가능한 경제성장을 이루어 나가려는 일련의 정책\n",
    "    - 공개시장운영\n",
    "    - 여수신제도\n",
    "    - 지급준비제도"
   ]
  },
  {
   "cell_type": "markdown",
   "id": "feeaeab3-0507-441c-91c0-ee072de24037",
   "metadata": {},
   "source": [
    "* 공개시장\n",
    "    - 한국은행이 금융기관을 상대로 국채 등 증권을 사고 팖"
   ]
  },
  {
   "cell_type": "markdown",
   "id": "ddbd0d89-ebe4-414e-bcbf-8ca69cbf1326",
   "metadata": {
    "tags": []
   },
   "source": [
    "<pre>\n",
    "* RP(repurchase)금리 : 환매조건부채권(일정기간 이후 증권 매매)의 금리, 발급처에서 일정 기간 후에 다시 사는 조건의 채권의 금리\n",
    "* 단순매매(OSP : outright sales and purchase) : 유동성이 영구적으로 공급 또는 환수 > 시장금리에 직접적 영향\n",
    "* 실질금리 : 명목금리 - 물가상승률"
   ]
  },
  {
   "cell_type": "markdown",
   "id": "4c456899-6f59-4f89-96f0-a065dc6a3213",
   "metadata": {},
   "source": [
    "* 여수신 : 중앙은행이 은행금융기관을 상대로 대출 혹은 예금 받음\n",
    "    - 여신 : 대출 / 빌리는 것\n",
    "    - 수신 : 예금 / 맡기는 것"
   ]
  },
  {
   "cell_type": "markdown",
   "id": "7ebf7f10-7993-4aed-8133-dd33b49ec9b9",
   "metadata": {},
   "source": [
    "COFIX(Cost of Funds Index) : 자금조달비용지수, 은행이 얼마나 우량한가, 굳건한가"
   ]
  },
  {
   "cell_type": "markdown",
   "id": "1fd408b4-d3ab-4967-be7f-809d12231f38",
   "metadata": {},
   "source": [
    "* 제 1금융 : 신한, 우리, sc제일, 하나, 국민, 씨티, 농협, 기업은행\n",
    "* 제 2금융 : "
   ]
  },
  {
   "cell_type": "markdown",
   "id": "1919b3ca-9a98-4d0c-940f-2663897d1cec",
   "metadata": {},
   "source": [
    "KORIBOR (Korea Inter-Bank Offered Rate) : 은행 간 대차 시장에서 단기기준금리"
   ]
  },
  {
   "cell_type": "markdown",
   "id": "3817b954-190b-40aa-bbdf-20dce2651a5b",
   "metadata": {},
   "source": [
    "* 지급준비제도\n",
    "    - 금융기관으로 하여금 지급준비금적립대상 채무의 일정비율에 해당하는 금액을 중앙은행에 지급준비금으로 예치하도록 의무화\n",
    "    - 예금자 보호\n",
    "    - 시장에 유동성 줄인다\n",
    "    "
   ]
  },
  {
   "cell_type": "markdown",
   "id": "7f72181e-cfe8-4f68-b8b2-99100679c2bf",
   "metadata": {},
   "source": [
    "# 금리"
   ]
  },
  {
   "cell_type": "markdown",
   "id": "0aa1a691-2fc7-4a6a-b479-504dba060891",
   "metadata": {},
   "source": [
    "## 고정금리(금융채금리)\n",
    "    * 시장금리가 상승세 : 고정금리가 유리"
   ]
  },
  {
   "cell_type": "markdown",
   "id": "ae1e67bf-a104-4528-8d6a-1d1599b6485d",
   "metadata": {},
   "source": [
    "## 금리와 주가"
   ]
  },
  {
   "cell_type": "markdown",
   "id": "97ceddcc-c98c-4793-ae99-a0a55c1140a5",
   "metadata": {},
   "source": [
    "* 단정적으로 말할 수 없다\n",
    "    \n",
    "* 금리 오른다 -> 외인투자자 늘어날 -> 주가 오른다\n",
    "* 금리 내린다 -> 국내 예적금 매력 떨어짐 -> 주식 투자 늘어남 -> 주가 오른다"
   ]
  },
  {
   "cell_type": "markdown",
   "id": "ad34951e-d5c6-4e11-8264-8e6bce010aeb",
   "metadata": {},
   "source": [
    "## 금리와 부동산"
   ]
  },
  {
   "cell_type": "markdown",
   "id": "8ec6cc07-edb8-4c8c-8296-5d1d39b07d89",
   "metadata": {
    "tags": []
   },
   "source": [
    "* 부동산 가격 상승 원인 첫번째 -> 저금리!!\n",
    "* 모두~~~ 다양~한 원인이 영향을 미친다\n",
    "* 공급 부족, 아파트 선호와수도권인구집중(심리),사회 심리적요인(투기적 성격)\n",
    "* 단발적 가격변화 원인 : 정책 -> \"소비심리\"\n"
   ]
  },
  {
   "cell_type": "markdown",
   "id": "9471f6c3-e297-4022-bf34-773220e861b8",
   "metadata": {},
   "source": [
    "# 환율"
   ]
  },
  {
   "cell_type": "markdown",
   "id": "5cf5d525-c0bf-42d1-84f6-7e090979bb7c",
   "metadata": {},
   "source": [
    "* 원화가치하락 >> 달러강세\n",
    "    - 수출 강세(가격경쟁력↑)\n",
    "    - 수입 가격증가 >> 원자재가격상승 >> 물가상승"
   ]
  },
  {
   "cell_type": "markdown",
   "id": "3996bfa1-cedb-48bc-985f-992a4e79ec6d",
   "metadata": {},
   "source": [
    "* 고금리 >> 한국시장 외국투자자 유입 >> 달러 유동성 ↑ >> 원화가치 상승\n",
    "    - 수출 약세(가격경쟁력↓)\n",
    "    - 수입 가격하락 >> "
   ]
  },
  {
   "cell_type": "markdown",
   "id": "1b62988b-4af4-41b3-b11e-9f495a682c37",
   "metadata": {},
   "source": [
    "* 금리 낮추기, 외환보유고에 저장 >> 한국원화 유동성 ↑"
   ]
  },
  {
   "cell_type": "markdown",
   "id": "b165ede5-734b-4078-b2f7-9c34a432d18e",
   "metadata": {},
   "source": [
    "* 저금리 >> 해외투자자들 투자 유출 >> 달러의 품귀 >> 원화가치하락"
   ]
  },
  {
   "cell_type": "markdown",
   "id": "34362b21-420d-4b96-b593-57f8df94baf1",
   "metadata": {},
   "source": [
    "## 통화스와프\n",
    "* 자국 통화를 상대방의 통화와 교환, 일정기간이 지난 후 최초 계약 때 정한 환율에 따라 원금을 재교환\n",
    "* 이후에도 상대방 통화가 부족하면 IMF에서 빌려온다"
   ]
  },
  {
   "cell_type": "markdown",
   "id": "bd55d559-5e4e-421d-a111-0ca6eb8d96ca",
   "metadata": {},
   "source": [
    "## 환율과 유가\n",
    "* 유가는 국제 정세에 민감하게 반응 >> 예측 지표에 넣지 말고 >> 한번 걸러진 경상지수, 수출입물가지수 이런 거 봐야 됨"
   ]
  },
  {
   "cell_type": "markdown",
   "id": "24cf621f-0306-48da-b607-a9499ef0fff5",
   "metadata": {},
   "source": [
    "* 수입국\n",
    "    - 달러로 따지면 음의 상관관계(달러 가치 상승, 더 많은 오일 산다)\n",
    "    - 원화로 따지면 양의 상관관계 (달러를 사기 위해 더 많은 원화 필요)"
   ]
  },
  {
   "cell_type": "markdown",
   "id": "e7c2ae29-cc06-4030-ad02-b0a1c3d6c54b",
   "metadata": {
    "tags": []
   },
   "source": [
    "* 수출국\n",
    "    - 양의 상관관계 : 달러 가치 상승 -> 오일의 가격경쟁력 ↑ -> 호재"
   ]
  },
  {
   "cell_type": "markdown",
   "id": "8b82f341-07a4-41a7-b4e7-fcf4d95ee436",
   "metadata": {
    "tags": []
   },
   "source": [
    "* 생산자 물가지수는 유가와 양의 상관관계\n",
    "    - 유가 == 원자재가격"
   ]
  },
  {
   "cell_type": "markdown",
   "id": "79654e83-f7aa-4547-bca6-034a1cf5a425",
   "metadata": {},
   "source": [
    "* 소비자물가지수는 별로 예측에 소용 X 항상우상향"
   ]
  },
  {
   "cell_type": "markdown",
   "id": "b582095a-7e5b-48a4-a2c5-213f2eb50ca9",
   "metadata": {},
   "source": [
    "### 원자재\n",
    "* 국제정세에 매우 민감하게 반응\n",
    "* 원자재 가격 가장 빠르게 민감하게 반응 >> 구리\n",
    "* 원자재 거래량 추이 >> 옥수수(시장 80%)\n",
    "* 주가에 가장 크게 영향 받는 것 >> 석유"
   ]
  },
  {
   "cell_type": "markdown",
   "id": "b6d1664e-8da3-4fc0-a24c-46dbebb4ca85",
   "metadata": {},
   "source": [
    "* <일반적 법칙>  환율 상승 -> 가격경쟁력 상승 -> 경상수지 흑자\n",
    "* 우리나라\n",
    "    * 환율 상승 -> 원자재 수입가격 상승 -> 생산지수 상승 -> 가격경쟁력 하락 -> 경상수지 적자"
   ]
  },
  {
   "cell_type": "markdown",
   "id": "7ff4b053-18e0-4095-9baa-8b1a48c15310",
   "metadata": {},
   "source": [
    "##  환율과 주가"
   ]
  },
  {
   "cell_type": "markdown",
   "id": "547edb36-75ee-4642-b847-1fd50d2cf7ca",
   "metadata": {
    "tags": []
   },
   "source": [
    "* 환율과 주가는 음의 상관관계(절대 법칙!!)\n",
    "    -  원화가치 하락 -> 투자할 이유가 없다 -> 주식하락"
   ]
  },
  {
   "cell_type": "markdown",
   "id": "d262c2b2-40a0-43e4-9b8a-da3a7148019d",
   "metadata": {},
   "source": [
    "## 환율과 금리"
   ]
  },
  {
   "cell_type": "markdown",
   "id": "50705d01-081c-451f-9fa0-88c85fcb7fe0",
   "metadata": {},
   "source": [
    "* 한국과 중국은 금리양상이 소름끼치게 유사하다\n",
    "* 한국과 미국은 유사하긴 하지만 선행하기도 하고 후행하기도 하고 중국에 비하면 유사도 떨어짐\n",
    "* 일본은 제로금리 -> 절대!! 일본관련 지수는 쓰지 말 것!\n"
   ]
  },
  {
   "cell_type": "markdown",
   "id": "8d41ad3b-6261-4938-8a51-a86de73fca48",
   "metadata": {},
   "source": [
    "* 미국금리가 올랐다 -> 환율이 올랐다\n",
    "\n",
    "* 일반적으로 양의 관계라고 표현\n",
    "    * 미국금리 올리면 왜 따라 올릴까? \n",
    "        - 금리차이  -> 원화 가치하락 -> 원자재 가격 폭등\n",
    "        - 환율방어"
   ]
  },
  {
   "cell_type": "markdown",
   "id": "b49e501b-1ec2-4101-893c-96b95b0c020c",
   "metadata": {
    "tags": []
   },
   "source": [
    "* 중국위안화 평가절하 -> 중국 수출품 가격경쟁력 ↑ -> 미중 갈등"
   ]
  },
  {
   "cell_type": "markdown",
   "id": "3ddc0114-66a8-4c68-b841-3f7b3f426080",
   "metadata": {},
   "source": []
  },
  {
   "cell_type": "markdown",
   "id": "b6ac4047-1776-4b16-8c78-246377fdb747",
   "metadata": {},
   "source": [
    "# 채권과 금리의 상관관계"
   ]
  },
  {
   "cell_type": "markdown",
   "id": "07679d72-2e39-4fba-a865-0342e2995680",
   "metadata": {},
   "source": [
    "CD()\n",
    "    - 양도성예금증서\n",
    "    - 은행끼리 자금 빌려줄때 발행하는 증서(은행간 이율)"
   ]
  },
  {
   "cell_type": "markdown",
   "id": "f5d62cf0-ec58-4a1b-bcd0-3b16e6bec03b",
   "metadata": {},
   "source": [
    "## 금액(-)"
   ]
  },
  {
   "cell_type": "markdown",
   "id": "940f7b98-b7eb-462a-8f0b-81f1b7a23d6a",
   "metadata": {},
   "source": [
    "<pre>\n",
    "* 금리 상승 >> 채권가격하락\n",
    "금리 상승율이 가파라서 한두달사이에 채권이자율이 팍팍오른다\n",
    "빨리 다른 채권으로 갈아탈려고 원가보다 싸게 채권을 판다\n",
    "\n",
    "* 금리 하락 >> 채권가격상승\n",
    "무분별한 채권 발행 >> 채권 만기일 도래, 상환 >> 보유자금 감소 >> 대출수요 증가 >> 채권가격증가"
   ]
  },
  {
   "cell_type": "markdown",
   "id": "a086a918-211b-4bc8-ac00-fc3746ec8c19",
   "metadata": {},
   "source": [
    "## 거래량(-)"
   ]
  },
  {
   "cell_type": "code",
   "execution_count": null,
   "id": "d9117210-ac9b-4639-9962-876ef67bd846",
   "metadata": {},
   "outputs": [],
   "source": []
  },
  {
   "cell_type": "code",
   "execution_count": null,
   "id": "50a8748b-7bf7-4122-b22b-ad93c2dc47b2",
   "metadata": {},
   "outputs": [],
   "source": []
  },
  {
   "cell_type": "markdown",
   "id": "1d4cc321-f4aa-425b-939d-e4e2eeb635cd",
   "metadata": {},
   "source": [
    "## 장기채권금리 > 단기채권금리"
   ]
  },
  {
   "cell_type": "code",
   "execution_count": null,
   "id": "566403f3-ea7c-48e0-999f-2043a299305c",
   "metadata": {},
   "outputs": [],
   "source": []
  },
  {
   "cell_type": "code",
   "execution_count": null,
   "id": "52f23868-47f1-4264-8540-df806e838e60",
   "metadata": {},
   "outputs": [],
   "source": []
  },
  {
   "cell_type": "markdown",
   "id": "99cccf71-6221-4ec6-9d37-065437a0a9fd",
   "metadata": {
    "tags": []
   },
   "source": [
    "## 금리역전"
   ]
  },
  {
   "cell_type": "markdown",
   "id": "30f9d918-20f2-406d-99ef-5f4322211747",
   "metadata": {},
   "source": [
    "장기채권금리 < 단기채권금리\n",
    "기준금리가 급격히 상승(고금리)"
   ]
  },
  {
   "cell_type": "code",
   "execution_count": null,
   "id": "f88c8218-0df4-47b4-889d-555d0b8b2cf9",
   "metadata": {},
   "outputs": [],
   "source": [
    "10년 주기로 발생\n",
    "2-3년 지나야 회복"
   ]
  },
  {
   "cell_type": "markdown",
   "id": "53cfe8fb-0483-42a5-af3b-e8a7a3ff9903",
   "metadata": {},
   "source": [
    "# 금리 파급효과\n",
    "* 고용, 수출입, 주식, 채권, 부동산, 원자재, 유가"
   ]
  },
  {
   "cell_type": "markdown",
   "id": "99f8b00a-3a1e-4932-991c-410186c76179",
   "metadata": {
    "tags": []
   },
   "source": [
    "<pre>\n",
    "금리가 오르면    위험자산의 투자매력 ↓ > 주가는 하락(주식거래량 줄어든다) >> 그러나 경제 호황으로 금리를 올리는 경우는 기업의 실적 향상으로 주가 상승하는 경우도\n",
    "                채권거래량 하락\n",
    "                채권오른다\n",
    "                원/달러 환율 상승 > 외환보유액 감소\n",
    "                "
   ]
  },
  {
   "cell_type": "markdown",
   "id": "b33df053-20ba-4766-aa3e-778bc6107d30",
   "metadata": {},
   "source": [
    "* 우리나라는 금리문제에 대해서 내수시장을 먼저 챙겨야 한다, 외환문제보다, 내수시장이 먼저\n",
    "작은 시장이라서 물가 굉장히 예민하게 반응\n",
    "원자재 대부분 수입해오니까 물가 잡아야 된다"
   ]
  },
  {
   "cell_type": "markdown",
   "id": "f4c0649c-248a-4b33-ac3f-900d332f0f17",
   "metadata": {},
   "source": [
    "* 상저하고 > 상반기 저조, 하반기 고공행진"
   ]
  },
  {
   "cell_type": "code",
   "execution_count": null,
   "id": "e5077d38-56c3-430f-bebe-736b2d7f6f0e",
   "metadata": {},
   "outputs": [],
   "source": []
  },
  {
   "cell_type": "code",
   "execution_count": null,
   "id": "eb3798d4-9253-45c2-8e15-97d2b4272409",
   "metadata": {},
   "outputs": [],
   "source": []
  },
  {
   "cell_type": "markdown",
   "id": "782cf7de-0240-44eb-81de-ff733ea47b18",
   "metadata": {},
   "source": [
    "# 경제통계"
   ]
  },
  {
   "cell_type": "markdown",
   "id": "8343423f-15d6-4d7b-b932-88f3001677bd",
   "metadata": {},
   "source": [
    "## GDP: Gross domestic product 국내총생산\n",
    "* 대한민국 땅 안에 / 누가 생산하든 상관없다\n",
    "* 우리나라 생산력 따질 때"
   ]
  },
  {
   "cell_type": "markdown",
   "id": "2c1ca861-14d7-4ca1-a216-3f3802e3263c",
   "metadata": {},
   "source": [
    "## GNP: Gross National Product 국민 총생산\n",
    "* 어디든 상관없다/ 국민이 생산 "
   ]
  },
  {
   "cell_type": "markdown",
   "id": "7b05cbc2-db69-43e3-92ae-db8096c8a6a4",
   "metadata": {},
   "source": [
    "## 경기지수\n",
    "* 선행, 후행, 동행\n",
    "* 경기종합지수, 경기확산지수"
   ]
  },
  {
   "cell_type": "markdown",
   "id": "bef44e1f-124b-4c4a-a52a-c8ae7bbbe0fc",
   "metadata": {},
   "source": [
    "## 물가지수\n",
    "* 생산자물가지수, 소비자물가지수(2015년 기준 지수화), 수출입물가지수\n",
    "    - 생산자물가지수 : 생산자물가지수, 국내공급물가지수, 총산출물가지수\n",
    "* 우리나라는 소비자물가지수, 수출입물가지수에 크게 영향받음\n",
    "* 외국은 생산자물가지수, 농업지수에 크게 영향받음\n",
    "* 생활물가지수(체감지표) \n",
    "    - 소비자물가지수는 사람들이 체감하는 정도와 차이가 있다\n",
    "    - 소비자물가지수에 계산되는 필수품 + 부동산, 기름,자동차, 우리 생활에 크게 영향 끼치는 요소 추가"
   ]
  },
  {
   "cell_type": "markdown",
   "id": "856f7c17-5629-4ec9-89cd-3b7c8d777af0",
   "metadata": {},
   "source": [
    "## 국제수지표(대외거래지표)"
   ]
  },
  {
   "cell_type": "code",
   "execution_count": null,
   "id": "67fa38da-8d50-4163-b185-7aef7b284e4c",
   "metadata": {},
   "outputs": [],
   "source": []
  },
  {
   "cell_type": "markdown",
   "id": "dc23a9dd-c5fa-4c87-a74d-f1e7c380aec4",
   "metadata": {},
   "source": [
    "# 통화지표\n",
    "* 당장 현금화 할 수 있냐 정도로 분류"
   ]
  },
  {
   "cell_type": "markdown",
   "id": "7572dde3-84fe-4e81-9210-2fa2f00e8ca2",
   "metadata": {
    "tags": []
   },
   "source": [
    "* 협의통화(M1)      : 요구불예금(예금)\n",
    "* 광의통화(M2)      : 부금(주택청약), 적금, 채권, 어음, 신탁(믿고 맡긴다, 자산을 이전시키고 관리하여 수익자에게 돌려줌), 증권\n",
    "                    만기 2 년 이상 장기 금융상품은 제외\n",
    "                    약간의 제약은 있지만, 통화로 바꿔서 유통가능\n",
    "* 금융기관유동성(Lf) : 금융기관 2년이상 만기 상품(예수금, 보험계약준비금), 주식 선물 매매거래계좌, 고객예탁금\n",
    "* 광의유동성(L)      : 정부, 기업 발행 유통성 상품까지 포괄 \n",
    "\n",
    "* 금융기관 : 중앙은행, 예금은행, 금융회사, 신탁, 저축은행, 신용협동기구, 우체금예금, 증권회사, 보험회사"
   ]
  },
  {
   "cell_type": "markdown",
   "id": "c114f5e2-21ca-4ea3-9b36-a8fdd58f2bb1",
   "metadata": {},
   "source": [
    "<img src = \"https://img1.daumcdn.net/thumb/R1280x0/?scode=mtistory2&fname=https%3A%2F%2Fblog.kakaocdn.net%2Fdn%2Fq8W4I%2Fbtq2iD3KnNz%2F1X4CZlkjUPzRSpp1JGYAQK%2Fimg.png\">"
   ]
  },
  {
   "cell_type": "markdown",
   "id": "0a49d10c-29a1-4c41-837d-be6f1afefdba",
   "metadata": {},
   "source": [
    "# 상장\n",
    "* ETF : 펀드 -> 걔가 오르면 나도 올라 ex) 구리 오르면 같이 오른다\n",
    "* ETN : 노트(채권) -> 만기까지 수익발생 -> 위험리스크 있다, 만기때 목표 수익률 달성 안 할 수도 \n",
    "* ETW : 특정 기업 주식에 연동 된 파생상품 -> 특정 주식 오르면 같이 오른다"
   ]
  },
  {
   "cell_type": "markdown",
   "id": "558a1e85-388f-4b0b-80a7-4d6991e395c7",
   "metadata": {},
   "source": [
    "# 국제금융시장"
   ]
  },
  {
   "cell_type": "markdown",
   "id": "224c5da9-a487-4bdb-834a-3f6c78eb4422",
   "metadata": {},
   "source": [
    "* IMF(금융구제기구) :  "
   ]
  },
  {
   "cell_type": "markdown",
   "id": "865ef3a1-2c2b-47c4-bd81-eb02f839496d",
   "metadata": {},
   "source": [
    "* WTO(실물)"
   ]
  },
  {
   "cell_type": "markdown",
   "id": "fc835b15-bd3d-4ac5-b869-84c0ec3ec662",
   "metadata": {
    "tags": []
   },
   "source": [
    "# 국제정세"
   ]
  },
  {
   "cell_type": "markdown",
   "id": "95416f6f-8711-4310-bfeb-d4f35809ea26",
   "metadata": {},
   "source": [
    "## 1997 대한민국 부도"
   ]
  },
  {
   "cell_type": "markdown",
   "id": "273cc9ba-c81b-4922-acc5-2711190d0286",
   "metadata": {},
   "source": [
    "<pre>\n",
    "종합금융사(비은행권) 무분별한 외화 차입 -> 부실기업에 장기대출\n",
    "외국인 투자자 빠져나감 -> 외환보유고 바닥\n",
    "비기축통화 국가가 단기 외국자본의 급격한 유출"
   ]
  },
  {
   "cell_type": "markdown",
   "id": "facb62bf-cca5-4a18-b0ff-e2c624897c20",
   "metadata": {},
   "source": [
    "## 2007 서브프라임 모기지 사태"
   ]
  },
  {
   "cell_type": "markdown",
   "id": "80b33517-59a9-4443-987a-d04903041ecc",
   "metadata": {},
   "source": [
    "<pre>\n",
    "* 집담보 모기지 파생의 파생의 ,,,,, 상품 -> 대출 끝도 없이 해줌\n",
    "* 피해규모 산정 불가\n",
    "* 경제 활성화 위해 -> 7~8년 제로금리 유지 "
   ]
  },
  {
   "cell_type": "markdown",
   "id": "07dc798f-b1a4-4b83-987e-bed196424e7f",
   "metadata": {},
   "source": [
    "## 2015 미국 셰일가스\n",
    "* 유가 폭락"
   ]
  },
  {
   "cell_type": "markdown",
   "id": "d9cfe1b3-e81d-43b6-a99b-5d4ad286f77c",
   "metadata": {
    "tags": []
   },
   "source": [
    "## 2020.04 미국 텍사스유 폭락\n",
    "    - 코로나 팬데믹 -> 오일 수요 폭락 -> 오일 보관, 처리 비용때문에 마이너스  "
   ]
  },
  {
   "cell_type": "markdown",
   "id": "0094ed16-8bdf-4c8a-884e-b8d2cae53473",
   "metadata": {},
   "source": [
    "# 투자"
   ]
  },
  {
   "cell_type": "markdown",
   "id": "a65d30d3-9a3a-43fc-a057-c7916e8bc3ff",
   "metadata": {},
   "source": [
    "## 지수"
   ]
  },
  {
   "cell_type": "markdown",
   "id": "7e5d6497-7a5a-45e3-8ad3-9b0ad69b7620",
   "metadata": {
    "tags": []
   },
   "source": [
    "<pre>\n",
    "* RSI relative strength index,상대강도지수 : 일정 기간 동안 주가가 전일 가격에 비해 상승한 변화량과 하락한 변화량의 평균값을 구하여, 상승한 변화량이 크면 과매수로, 하락한 변화량이 크면 과매도로 판단하는 방식\n",
    "* 다이버전스(일반, 히든)\n",
    "     - 일반 : 점고점, 점저점 뚫었다\n",
    "     - 히든 :               못 뚫었다\n",
    "* Bollinger Bands : \n",
    "                - 상승 -> 10일 이평선(저항선) / 뚫으면 상승 / 볼린저 상단 밴드(저항선) 만나면 다시 하강 / 볼린저 상단 밴드(저항선) 뚫으면 확 올라\n",
    "                - 하강 -> 10일이평선(저항선)  / 뚫으면 하강"
   ]
  },
  {
   "cell_type": "code",
   "execution_count": null,
   "id": "aa5e88dd-e508-4af1-9c3c-389b8bebc1c0",
   "metadata": {},
   "outputs": [],
   "source": []
  }
 ],
 "metadata": {
  "kernelspec": {
   "display_name": "Python 3 (ipykernel)",
   "language": "python",
   "name": "python3"
  },
  "language_info": {
   "codemirror_mode": {
    "name": "ipython",
    "version": 3
   },
   "file_extension": ".py",
   "mimetype": "text/x-python",
   "name": "python",
   "nbconvert_exporter": "python",
   "pygments_lexer": "ipython3",
   "version": "3.8.8"
  }
 },
 "nbformat": 4,
 "nbformat_minor": 5
}
