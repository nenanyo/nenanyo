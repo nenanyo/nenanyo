{
 "cells": [
  {
   "cell_type": "markdown",
   "id": "2336f9de-9e2b-42c6-ab22-8ce6645accd7",
   "metadata": {},
   "source": [
    "# Titanic data"
   ]
  },
  {
   "cell_type": "markdown",
   "id": "214a62e7-1f93-4483-9d91-472bdc50651d",
   "metadata": {},
   "source": [
    "* Kaggle Link  \n",
    "https://www.kaggle.com/competitions/titanic\n",
    "<p>\n",
    "* Data Dictionary infomation\n",
    "<pre>\n",
    "Variable    Definition          Key\n",
    "survival    Survival            0 = No, 1 = Yes\n",
    "pclass      Ticket class        1 = 1st, 2 = 2nd, 3 = 3rd\n",
    "sex         Sex\n",
    "Age         Age in years\n",
    "sibsp       # of siblings / spouses aboard the Titanic\n",
    "parch       # of parents / children aboard the Titanic\n",
    "ticket      Ticket number\n",
    "fare        Passenger fare\n",
    "cabin       Cabin number\n",
    "embarked    Port of Embarkation  C = Cherbourg, Q = Queenstown, S = Southampton"
   ]
  },
  {
   "cell_type": "code",
   "execution_count": 1,
   "id": "82db2b29-a4cf-4ef4-a17b-8f9cde6b6142",
   "metadata": {
    "tags": []
   },
   "outputs": [],
   "source": [
    "import numpy as np\n",
    "import pandas as pd\n",
    "\n",
    "import warnings\n",
    "warnings.filterwarnings(action='ignore')"
   ]
  },
  {
   "cell_type": "markdown",
   "id": "b00eaf13-b437-46c0-a335-94974548c8ea",
   "metadata": {},
   "source": [
    "## Data Load후 확인할 내용\n"
   ]
  },
  {
   "cell_type": "markdown",
   "id": "7de89090-6119-4f98-815b-fb91ade4eb72",
   "metadata": {},
   "source": [
    "###  1. head(), info(), shape"
   ]
  },
  {
   "cell_type": "code",
   "execution_count": 2,
   "id": "093acb14-fa20-4113-b63f-ed1a7b18992e",
   "metadata": {
    "tags": []
   },
   "outputs": [
    {
     "data": {
      "text/html": [
       "<div>\n",
       "<style scoped>\n",
       "    .dataframe tbody tr th:only-of-type {\n",
       "        vertical-align: middle;\n",
       "    }\n",
       "\n",
       "    .dataframe tbody tr th {\n",
       "        vertical-align: top;\n",
       "    }\n",
       "\n",
       "    .dataframe thead th {\n",
       "        text-align: right;\n",
       "    }\n",
       "</style>\n",
       "<table border=\"1\" class=\"dataframe\">\n",
       "  <thead>\n",
       "    <tr style=\"text-align: right;\">\n",
       "      <th></th>\n",
       "      <th>PassengerId</th>\n",
       "      <th>Survived</th>\n",
       "      <th>Pclass</th>\n",
       "      <th>Name</th>\n",
       "      <th>Sex</th>\n",
       "      <th>Age</th>\n",
       "      <th>SibSp</th>\n",
       "      <th>Parch</th>\n",
       "      <th>Ticket</th>\n",
       "      <th>Fare</th>\n",
       "      <th>Cabin</th>\n",
       "      <th>Embarked</th>\n",
       "    </tr>\n",
       "  </thead>\n",
       "  <tbody>\n",
       "    <tr>\n",
       "      <th>0</th>\n",
       "      <td>1</td>\n",
       "      <td>0</td>\n",
       "      <td>3</td>\n",
       "      <td>Braund, Mr. Owen Harris</td>\n",
       "      <td>male</td>\n",
       "      <td>22.0</td>\n",
       "      <td>1</td>\n",
       "      <td>0</td>\n",
       "      <td>A/5 21171</td>\n",
       "      <td>7.2500</td>\n",
       "      <td>NaN</td>\n",
       "      <td>S</td>\n",
       "    </tr>\n",
       "    <tr>\n",
       "      <th>1</th>\n",
       "      <td>2</td>\n",
       "      <td>1</td>\n",
       "      <td>1</td>\n",
       "      <td>Cumings, Mrs. John Bradley (Florence Briggs Th...</td>\n",
       "      <td>female</td>\n",
       "      <td>38.0</td>\n",
       "      <td>1</td>\n",
       "      <td>0</td>\n",
       "      <td>PC 17599</td>\n",
       "      <td>71.2833</td>\n",
       "      <td>C85</td>\n",
       "      <td>C</td>\n",
       "    </tr>\n",
       "    <tr>\n",
       "      <th>2</th>\n",
       "      <td>3</td>\n",
       "      <td>1</td>\n",
       "      <td>3</td>\n",
       "      <td>Heikkinen, Miss. Laina</td>\n",
       "      <td>female</td>\n",
       "      <td>26.0</td>\n",
       "      <td>0</td>\n",
       "      <td>0</td>\n",
       "      <td>STON/O2. 3101282</td>\n",
       "      <td>7.9250</td>\n",
       "      <td>NaN</td>\n",
       "      <td>S</td>\n",
       "    </tr>\n",
       "    <tr>\n",
       "      <th>3</th>\n",
       "      <td>4</td>\n",
       "      <td>1</td>\n",
       "      <td>1</td>\n",
       "      <td>Futrelle, Mrs. Jacques Heath (Lily May Peel)</td>\n",
       "      <td>female</td>\n",
       "      <td>35.0</td>\n",
       "      <td>1</td>\n",
       "      <td>0</td>\n",
       "      <td>113803</td>\n",
       "      <td>53.1000</td>\n",
       "      <td>C123</td>\n",
       "      <td>S</td>\n",
       "    </tr>\n",
       "    <tr>\n",
       "      <th>4</th>\n",
       "      <td>5</td>\n",
       "      <td>0</td>\n",
       "      <td>3</td>\n",
       "      <td>Allen, Mr. William Henry</td>\n",
       "      <td>male</td>\n",
       "      <td>35.0</td>\n",
       "      <td>0</td>\n",
       "      <td>0</td>\n",
       "      <td>373450</td>\n",
       "      <td>8.0500</td>\n",
       "      <td>NaN</td>\n",
       "      <td>S</td>\n",
       "    </tr>\n",
       "  </tbody>\n",
       "</table>\n",
       "</div>"
      ],
      "text/plain": [
       "   PassengerId  Survived  Pclass  \\\n",
       "0            1         0       3   \n",
       "1            2         1       1   \n",
       "2            3         1       3   \n",
       "3            4         1       1   \n",
       "4            5         0       3   \n",
       "\n",
       "                                                Name     Sex   Age  SibSp  \\\n",
       "0                            Braund, Mr. Owen Harris    male  22.0      1   \n",
       "1  Cumings, Mrs. John Bradley (Florence Briggs Th...  female  38.0      1   \n",
       "2                             Heikkinen, Miss. Laina  female  26.0      0   \n",
       "3       Futrelle, Mrs. Jacques Heath (Lily May Peel)  female  35.0      1   \n",
       "4                           Allen, Mr. William Henry    male  35.0      0   \n",
       "\n",
       "   Parch            Ticket     Fare Cabin Embarked  \n",
       "0      0         A/5 21171   7.2500   NaN        S  \n",
       "1      0          PC 17599  71.2833   C85        C  \n",
       "2      0  STON/O2. 3101282   7.9250   NaN        S  \n",
       "3      0            113803  53.1000  C123        S  \n",
       "4      0            373450   8.0500   NaN        S  "
      ]
     },
     "execution_count": 2,
     "metadata": {},
     "output_type": "execute_result"
    }
   ],
   "source": [
    "train = pd.read_csv('./train.csv')\n",
    "train.head()"
   ]
  },
  {
   "cell_type": "code",
   "execution_count": 3,
   "id": "6139a480-1a60-43f2-9fa4-9204e1e52684",
   "metadata": {
    "tags": []
   },
   "outputs": [
    {
     "name": "stdout",
     "output_type": "stream",
     "text": [
      "<class 'pandas.core.frame.DataFrame'>\n",
      "RangeIndex: 891 entries, 0 to 890\n",
      "Data columns (total 12 columns):\n",
      " #   Column       Non-Null Count  Dtype  \n",
      "---  ------       --------------  -----  \n",
      " 0   PassengerId  891 non-null    int64  \n",
      " 1   Survived     891 non-null    int64  \n",
      " 2   Pclass       891 non-null    int64  \n",
      " 3   Name         891 non-null    object \n",
      " 4   Sex          891 non-null    object \n",
      " 5   Age          714 non-null    float64\n",
      " 6   SibSp        891 non-null    int64  \n",
      " 7   Parch        891 non-null    int64  \n",
      " 8   Ticket       891 non-null    object \n",
      " 9   Fare         891 non-null    float64\n",
      " 10  Cabin        204 non-null    object \n",
      " 11  Embarked     889 non-null    object \n",
      "dtypes: float64(2), int64(5), object(5)\n",
      "memory usage: 83.7+ KB\n"
     ]
    }
   ],
   "source": [
    "train.info()"
   ]
  },
  {
   "cell_type": "code",
   "execution_count": 4,
   "id": "a9cf1d26-389c-47e6-ae5b-ab9d65d35e19",
   "metadata": {
    "tags": []
   },
   "outputs": [
    {
     "data": {
      "text/plain": [
       "(891, 12)"
      ]
     },
     "execution_count": 4,
     "metadata": {},
     "output_type": "execute_result"
    }
   ],
   "source": [
    "train.shape"
   ]
  },
  {
   "cell_type": "code",
   "execution_count": 5,
   "id": "04d7eaa0-f018-4c91-a3bb-408a24b7c08e",
   "metadata": {
    "tags": []
   },
   "outputs": [
    {
     "data": {
      "text/plain": [
       "Index(['passengerid', 'survived', 'pclass', 'name', 'sex', 'age', 'sibsp',\n",
       "       'parch', 'ticket', 'fare', 'cabin', 'embarked'],\n",
       "      dtype='object')"
      ]
     },
     "execution_count": 5,
     "metadata": {},
     "output_type": "execute_result"
    }
   ],
   "source": [
    "train.columns = train.columns.str.lower()\n",
    "train.columns"
   ]
  },
  {
   "cell_type": "code",
   "execution_count": 6,
   "id": "67507dc5-77e0-4778-be72-1330db353980",
   "metadata": {
    "tags": []
   },
   "outputs": [
    {
     "data": {
      "text/html": [
       "<div>\n",
       "<style scoped>\n",
       "    .dataframe tbody tr th:only-of-type {\n",
       "        vertical-align: middle;\n",
       "    }\n",
       "\n",
       "    .dataframe tbody tr th {\n",
       "        vertical-align: top;\n",
       "    }\n",
       "\n",
       "    .dataframe thead th {\n",
       "        text-align: right;\n",
       "    }\n",
       "</style>\n",
       "<table border=\"1\" class=\"dataframe\">\n",
       "  <thead>\n",
       "    <tr style=\"text-align: right;\">\n",
       "      <th></th>\n",
       "      <th>passengerid</th>\n",
       "      <th>survived</th>\n",
       "      <th>pclass</th>\n",
       "      <th>name</th>\n",
       "      <th>sex</th>\n",
       "      <th>age</th>\n",
       "      <th>sibsp</th>\n",
       "      <th>parch</th>\n",
       "      <th>ticket</th>\n",
       "      <th>fare</th>\n",
       "      <th>cabin</th>\n",
       "      <th>embarked</th>\n",
       "    </tr>\n",
       "  </thead>\n",
       "  <tbody>\n",
       "    <tr>\n",
       "      <th>0</th>\n",
       "      <td>1</td>\n",
       "      <td>0</td>\n",
       "      <td>3</td>\n",
       "      <td>Braund, Mr. Owen Harris</td>\n",
       "      <td>male</td>\n",
       "      <td>22.0</td>\n",
       "      <td>1</td>\n",
       "      <td>0</td>\n",
       "      <td>A/5 21171</td>\n",
       "      <td>7.2500</td>\n",
       "      <td>NaN</td>\n",
       "      <td>S</td>\n",
       "    </tr>\n",
       "    <tr>\n",
       "      <th>1</th>\n",
       "      <td>2</td>\n",
       "      <td>1</td>\n",
       "      <td>1</td>\n",
       "      <td>Cumings, Mrs. John Bradley (Florence Briggs Th...</td>\n",
       "      <td>female</td>\n",
       "      <td>38.0</td>\n",
       "      <td>1</td>\n",
       "      <td>0</td>\n",
       "      <td>PC 17599</td>\n",
       "      <td>71.2833</td>\n",
       "      <td>C85</td>\n",
       "      <td>C</td>\n",
       "    </tr>\n",
       "    <tr>\n",
       "      <th>2</th>\n",
       "      <td>3</td>\n",
       "      <td>1</td>\n",
       "      <td>3</td>\n",
       "      <td>Heikkinen, Miss. Laina</td>\n",
       "      <td>female</td>\n",
       "      <td>26.0</td>\n",
       "      <td>0</td>\n",
       "      <td>0</td>\n",
       "      <td>STON/O2. 3101282</td>\n",
       "      <td>7.9250</td>\n",
       "      <td>NaN</td>\n",
       "      <td>S</td>\n",
       "    </tr>\n",
       "    <tr>\n",
       "      <th>3</th>\n",
       "      <td>4</td>\n",
       "      <td>1</td>\n",
       "      <td>1</td>\n",
       "      <td>Futrelle, Mrs. Jacques Heath (Lily May Peel)</td>\n",
       "      <td>female</td>\n",
       "      <td>35.0</td>\n",
       "      <td>1</td>\n",
       "      <td>0</td>\n",
       "      <td>113803</td>\n",
       "      <td>53.1000</td>\n",
       "      <td>C123</td>\n",
       "      <td>S</td>\n",
       "    </tr>\n",
       "    <tr>\n",
       "      <th>4</th>\n",
       "      <td>5</td>\n",
       "      <td>0</td>\n",
       "      <td>3</td>\n",
       "      <td>Allen, Mr. William Henry</td>\n",
       "      <td>male</td>\n",
       "      <td>35.0</td>\n",
       "      <td>0</td>\n",
       "      <td>0</td>\n",
       "      <td>373450</td>\n",
       "      <td>8.0500</td>\n",
       "      <td>NaN</td>\n",
       "      <td>S</td>\n",
       "    </tr>\n",
       "  </tbody>\n",
       "</table>\n",
       "</div>"
      ],
      "text/plain": [
       "   passengerid  survived  pclass  \\\n",
       "0            1         0       3   \n",
       "1            2         1       1   \n",
       "2            3         1       3   \n",
       "3            4         1       1   \n",
       "4            5         0       3   \n",
       "\n",
       "                                                name     sex   age  sibsp  \\\n",
       "0                            Braund, Mr. Owen Harris    male  22.0      1   \n",
       "1  Cumings, Mrs. John Bradley (Florence Briggs Th...  female  38.0      1   \n",
       "2                             Heikkinen, Miss. Laina  female  26.0      0   \n",
       "3       Futrelle, Mrs. Jacques Heath (Lily May Peel)  female  35.0      1   \n",
       "4                           Allen, Mr. William Henry    male  35.0      0   \n",
       "\n",
       "   parch            ticket     fare cabin embarked  \n",
       "0      0         A/5 21171   7.2500   NaN        S  \n",
       "1      0          PC 17599  71.2833   C85        C  \n",
       "2      0  STON/O2. 3101282   7.9250   NaN        S  \n",
       "3      0            113803  53.1000  C123        S  \n",
       "4      0            373450   8.0500   NaN        S  "
      ]
     },
     "execution_count": 6,
     "metadata": {},
     "output_type": "execute_result"
    }
   ],
   "source": [
    "train.head()"
   ]
  },
  {
   "cell_type": "markdown",
   "id": "f0b784dc-4871-4cd5-9c2f-a0fbb4e6b657",
   "metadata": {},
   "source": [
    "### 2. 결측값 확인"
   ]
  },
  {
   "cell_type": "code",
   "execution_count": 7,
   "id": "f33f1889-3f6d-4d5c-84fb-f86bc09a8775",
   "metadata": {
    "tags": []
   },
   "outputs": [
    {
     "data": {
      "text/plain": [
       "cabin       687\n",
       "age         177\n",
       "embarked      2\n",
       "dtype: int64"
      ]
     },
     "execution_count": 7,
     "metadata": {},
     "output_type": "execute_result"
    }
   ],
   "source": [
    "train.isna().sum()[train.isna().sum()>0].sort_values(ascending=False)"
   ]
  },
  {
   "cell_type": "markdown",
   "id": "1c5915b2-5464-459e-b075-fbe0b929ac4d",
   "metadata": {},
   "source": [
    "\n",
    "<pre>\n",
    "col     cnt   nan_cnt   rate\n",
    "\n",
    "age     891      177      23%\n"
   ]
  },
  {
   "cell_type": "code",
   "execution_count": 8,
   "id": "612a89c2-a985-4e53-85a7-b32faa00c42a",
   "metadata": {
    "tags": []
   },
   "outputs": [
    {
     "data": {
      "text/html": [
       "<div>\n",
       "<style scoped>\n",
       "    .dataframe tbody tr th:only-of-type {\n",
       "        vertical-align: middle;\n",
       "    }\n",
       "\n",
       "    .dataframe tbody tr th {\n",
       "        vertical-align: top;\n",
       "    }\n",
       "\n",
       "    .dataframe thead th {\n",
       "        text-align: right;\n",
       "    }\n",
       "</style>\n",
       "<table border=\"1\" class=\"dataframe\">\n",
       "  <thead>\n",
       "    <tr style=\"text-align: right;\">\n",
       "      <th></th>\n",
       "      <th>cnt</th>\n",
       "      <th>nan_cnt</th>\n",
       "      <th>nan_rate</th>\n",
       "    </tr>\n",
       "  </thead>\n",
       "  <tbody>\n",
       "    <tr>\n",
       "      <th>passengerid</th>\n",
       "      <td>891</td>\n",
       "      <td>0</td>\n",
       "      <td>0.00</td>\n",
       "    </tr>\n",
       "    <tr>\n",
       "      <th>survived</th>\n",
       "      <td>891</td>\n",
       "      <td>0</td>\n",
       "      <td>0.00</td>\n",
       "    </tr>\n",
       "    <tr>\n",
       "      <th>pclass</th>\n",
       "      <td>891</td>\n",
       "      <td>0</td>\n",
       "      <td>0.00</td>\n",
       "    </tr>\n",
       "    <tr>\n",
       "      <th>name</th>\n",
       "      <td>891</td>\n",
       "      <td>0</td>\n",
       "      <td>0.00</td>\n",
       "    </tr>\n",
       "    <tr>\n",
       "      <th>sex</th>\n",
       "      <td>891</td>\n",
       "      <td>0</td>\n",
       "      <td>0.00</td>\n",
       "    </tr>\n",
       "    <tr>\n",
       "      <th>age</th>\n",
       "      <td>714</td>\n",
       "      <td>177</td>\n",
       "      <td>19.87</td>\n",
       "    </tr>\n",
       "    <tr>\n",
       "      <th>sibsp</th>\n",
       "      <td>891</td>\n",
       "      <td>0</td>\n",
       "      <td>0.00</td>\n",
       "    </tr>\n",
       "    <tr>\n",
       "      <th>parch</th>\n",
       "      <td>891</td>\n",
       "      <td>0</td>\n",
       "      <td>0.00</td>\n",
       "    </tr>\n",
       "    <tr>\n",
       "      <th>ticket</th>\n",
       "      <td>891</td>\n",
       "      <td>0</td>\n",
       "      <td>0.00</td>\n",
       "    </tr>\n",
       "    <tr>\n",
       "      <th>fare</th>\n",
       "      <td>891</td>\n",
       "      <td>0</td>\n",
       "      <td>0.00</td>\n",
       "    </tr>\n",
       "    <tr>\n",
       "      <th>cabin</th>\n",
       "      <td>204</td>\n",
       "      <td>687</td>\n",
       "      <td>77.10</td>\n",
       "    </tr>\n",
       "    <tr>\n",
       "      <th>embarked</th>\n",
       "      <td>889</td>\n",
       "      <td>2</td>\n",
       "      <td>0.22</td>\n",
       "    </tr>\n",
       "  </tbody>\n",
       "</table>\n",
       "</div>"
      ],
      "text/plain": [
       "             cnt  nan_cnt  nan_rate\n",
       "passengerid  891        0      0.00\n",
       "survived     891        0      0.00\n",
       "pclass       891        0      0.00\n",
       "name         891        0      0.00\n",
       "sex          891        0      0.00\n",
       "age          714      177     19.87\n",
       "sibsp        891        0      0.00\n",
       "parch        891        0      0.00\n",
       "ticket       891        0      0.00\n",
       "fare         891        0      0.00\n",
       "cabin        204      687     77.10\n",
       "embarked     889        2      0.22"
      ]
     },
     "execution_count": 8,
     "metadata": {},
     "output_type": "execute_result"
    }
   ],
   "source": [
    "# col = pd.Series(train.columns, index= train.columns)\n",
    "cnt = train.count()\n",
    "nan_cnt = train.isna().sum()\n",
    "rate = np.round((nan_cnt/(cnt+nan_cnt))*100, 2)\n",
    "rdf = pd.concat([cnt, nan_cnt, rate], axis=1, ignore_index=True)\n",
    "rdf.columns = ['cnt','nan_cnt','nan_rate']\n",
    "rdf"
   ]
  },
  {
   "cell_type": "code",
   "execution_count": 9,
   "id": "d03579ba-d27e-458a-8393-407b1b2fca45",
   "metadata": {
    "tags": []
   },
   "outputs": [
    {
     "data": {
      "text/html": [
       "<div>\n",
       "<style scoped>\n",
       "    .dataframe tbody tr th:only-of-type {\n",
       "        vertical-align: middle;\n",
       "    }\n",
       "\n",
       "    .dataframe tbody tr th {\n",
       "        vertical-align: top;\n",
       "    }\n",
       "\n",
       "    .dataframe thead th {\n",
       "        text-align: right;\n",
       "    }\n",
       "</style>\n",
       "<table border=\"1\" class=\"dataframe\">\n",
       "  <thead>\n",
       "    <tr style=\"text-align: right;\">\n",
       "      <th></th>\n",
       "      <th>col</th>\n",
       "      <th>cnt</th>\n",
       "      <th>nan_cnt</th>\n",
       "      <th>nan_rate</th>\n",
       "      <th>unique_cnt</th>\n",
       "    </tr>\n",
       "  </thead>\n",
       "  <tbody>\n",
       "    <tr>\n",
       "      <th>cabin</th>\n",
       "      <td>cabin</td>\n",
       "      <td>204</td>\n",
       "      <td>687</td>\n",
       "      <td>77.10</td>\n",
       "      <td>147</td>\n",
       "    </tr>\n",
       "    <tr>\n",
       "      <th>age</th>\n",
       "      <td>age</td>\n",
       "      <td>714</td>\n",
       "      <td>177</td>\n",
       "      <td>19.87</td>\n",
       "      <td>88</td>\n",
       "    </tr>\n",
       "    <tr>\n",
       "      <th>embarked</th>\n",
       "      <td>embarked</td>\n",
       "      <td>889</td>\n",
       "      <td>2</td>\n",
       "      <td>0.22</td>\n",
       "      <td>3</td>\n",
       "    </tr>\n",
       "    <tr>\n",
       "      <th>passengerid</th>\n",
       "      <td>passengerid</td>\n",
       "      <td>891</td>\n",
       "      <td>0</td>\n",
       "      <td>0.00</td>\n",
       "      <td>891</td>\n",
       "    </tr>\n",
       "    <tr>\n",
       "      <th>survived</th>\n",
       "      <td>survived</td>\n",
       "      <td>891</td>\n",
       "      <td>0</td>\n",
       "      <td>0.00</td>\n",
       "      <td>2</td>\n",
       "    </tr>\n",
       "    <tr>\n",
       "      <th>pclass</th>\n",
       "      <td>pclass</td>\n",
       "      <td>891</td>\n",
       "      <td>0</td>\n",
       "      <td>0.00</td>\n",
       "      <td>3</td>\n",
       "    </tr>\n",
       "    <tr>\n",
       "      <th>name</th>\n",
       "      <td>name</td>\n",
       "      <td>891</td>\n",
       "      <td>0</td>\n",
       "      <td>0.00</td>\n",
       "      <td>891</td>\n",
       "    </tr>\n",
       "    <tr>\n",
       "      <th>sex</th>\n",
       "      <td>sex</td>\n",
       "      <td>891</td>\n",
       "      <td>0</td>\n",
       "      <td>0.00</td>\n",
       "      <td>2</td>\n",
       "    </tr>\n",
       "    <tr>\n",
       "      <th>sibsp</th>\n",
       "      <td>sibsp</td>\n",
       "      <td>891</td>\n",
       "      <td>0</td>\n",
       "      <td>0.00</td>\n",
       "      <td>7</td>\n",
       "    </tr>\n",
       "    <tr>\n",
       "      <th>parch</th>\n",
       "      <td>parch</td>\n",
       "      <td>891</td>\n",
       "      <td>0</td>\n",
       "      <td>0.00</td>\n",
       "      <td>7</td>\n",
       "    </tr>\n",
       "    <tr>\n",
       "      <th>ticket</th>\n",
       "      <td>ticket</td>\n",
       "      <td>891</td>\n",
       "      <td>0</td>\n",
       "      <td>0.00</td>\n",
       "      <td>681</td>\n",
       "    </tr>\n",
       "    <tr>\n",
       "      <th>fare</th>\n",
       "      <td>fare</td>\n",
       "      <td>891</td>\n",
       "      <td>0</td>\n",
       "      <td>0.00</td>\n",
       "      <td>248</td>\n",
       "    </tr>\n",
       "  </tbody>\n",
       "</table>\n",
       "</div>"
      ],
      "text/plain": [
       "                     col  cnt  nan_cnt  nan_rate  unique_cnt\n",
       "cabin              cabin  204      687     77.10         147\n",
       "age                  age  714      177     19.87          88\n",
       "embarked        embarked  889        2      0.22           3\n",
       "passengerid  passengerid  891        0      0.00         891\n",
       "survived        survived  891        0      0.00           2\n",
       "pclass            pclass  891        0      0.00           3\n",
       "name                name  891        0      0.00         891\n",
       "sex                  sex  891        0      0.00           2\n",
       "sibsp              sibsp  891        0      0.00           7\n",
       "parch              parch  891        0      0.00           7\n",
       "ticket            ticket  891        0      0.00         681\n",
       "fare                fare  891        0      0.00         248"
      ]
     },
     "execution_count": 9,
     "metadata": {},
     "output_type": "execute_result"
    }
   ],
   "source": [
    "col = train.columns\n",
    "cnt = train.notna().sum()\n",
    "nan_cnt = train.isna().sum()\n",
    "rate = np.round((nan_cnt/train.shape[0])*100, 2)\n",
    "unique_cnt = train.nunique()\n",
    "dic = {'col':col, 'cnt':cnt,'nan_cnt':nan_cnt,'nan_rate':rate, \"unique_cnt\":unique_cnt}\n",
    "rdf = pd.DataFrame(dic)\n",
    "rdf.sort_values(\"nan_cnt\", ascending=False)"
   ]
  },
  {
   "cell_type": "markdown",
   "id": "e0efc743-2df6-42a2-ae13-3efc46567777",
   "metadata": {},
   "source": [
    "### 3. 중복값 확인\n",
    "    * df[컬럼].unique()\n",
    "    * df[컬럼].nunique()"
   ]
  },
  {
   "cell_type": "markdown",
   "id": "fe019da9-646e-4ff7-ad66-ee7001b4a639",
   "metadata": {},
   "source": [
    "* select distinct sex from titanic"
   ]
  },
  {
   "cell_type": "code",
   "execution_count": 10,
   "id": "a99de0e1-161d-45fb-9d2d-abe0ba26c530",
   "metadata": {
    "tags": []
   },
   "outputs": [
    {
     "data": {
      "text/plain": [
       "array(['male', 'female'], dtype=object)"
      ]
     },
     "execution_count": 10,
     "metadata": {},
     "output_type": "execute_result"
    }
   ],
   "source": [
    "train['sex'].unique()"
   ]
  },
  {
   "cell_type": "code",
   "execution_count": 11,
   "id": "9902dab6-6299-4d1d-b004-8f32d4b75a2b",
   "metadata": {
    "tags": []
   },
   "outputs": [
    {
     "data": {
      "text/plain": [
       "2"
      ]
     },
     "execution_count": 11,
     "metadata": {},
     "output_type": "execute_result"
    }
   ],
   "source": [
    "train['sex'].nunique()"
   ]
  },
  {
   "cell_type": "code",
   "execution_count": 12,
   "id": "70c2e929-1732-46e7-b4d8-1f1c5d6f74ad",
   "metadata": {
    "tags": []
   },
   "outputs": [
    {
     "data": {
      "text/plain": [
       "passengerid    891\n",
       "name           891\n",
       "ticket         681\n",
       "fare           248\n",
       "cabin          147\n",
       "age             88\n",
       "sibsp            7\n",
       "parch            7\n",
       "pclass           3\n",
       "embarked         3\n",
       "survived         2\n",
       "sex              2\n",
       "dtype: int64"
      ]
     },
     "execution_count": 12,
     "metadata": {},
     "output_type": "execute_result"
    }
   ],
   "source": [
    "# 컬럼별 unique 개수\n",
    "train.nunique().sort_values(ascending=False)"
   ]
  },
  {
   "cell_type": "code",
   "execution_count": 13,
   "id": "5b43215c-bfb7-4000-9126-a04a0e81c6fc",
   "metadata": {
    "tags": []
   },
   "outputs": [
    {
     "name": "stdout",
     "output_type": "stream",
     "text": [
      "survived 2 [0 1]\n",
      "pclass 3 [3 1 2]\n",
      "sex 2 ['male' 'female']\n",
      "age 88 [22.   38.   26.   35.     nan 54.    2.   27.   14.    4.   58.   20.\n",
      " 39.   55.   31.   34.   15.   28.    8.   19.   40.   66.   42.   21.\n",
      " 18.    3.    7.   49.   29.   65.   28.5   5.   11.   45.   17.   32.\n",
      " 16.   25.    0.83 30.   33.   23.   24.   46.   59.   71.   37.   47.\n",
      " 14.5  70.5  32.5  12.    9.   36.5  51.   55.5  40.5  44.    1.   61.\n",
      " 56.   50.   36.   45.5  20.5  62.   41.   52.   63.   23.5   0.92 43.\n",
      " 60.   10.   64.   13.   48.    0.75 53.   57.   80.   70.   24.5   6.\n",
      "  0.67 30.5   0.42 34.5  74.  ]\n",
      "sibsp 7 [1 0 3 4 2 5 8]\n",
      "parch 7 [0 1 2 5 3 4 6]\n",
      "embarked 3 ['S' 'C' 'Q' nan]\n"
     ]
    }
   ],
   "source": [
    "for col in train.columns:\n",
    "    if train[col].nunique() < 100:\n",
    "        print(col, train[col].nunique(), train[col].unique())"
   ]
  },
  {
   "cell_type": "markdown",
   "id": "a62966a0-9421-43b5-b091-b880e6809a4c",
   "metadata": {
    "tags": []
   },
   "source": [
    "<b>* Survived</b>"
   ]
  },
  {
   "cell_type": "markdown",
   "id": "83399be3-7d5d-4c2c-bb23-a20e52310064",
   "metadata": {
    "tags": []
   },
   "source": [
    "# EDA (Titanic data)\n",
    "* (Exploratory Data Analysis, 탐색적 데이터 분석)\n",
    "* 통계적 분석 & 차트 (시각화)"
   ]
  },
  {
   "cell_type": "markdown",
   "id": "8e80cd9a-0abe-4a1f-b634-857d1df825c9",
   "metadata": {},
   "source": [
    "### *Draw Chart"
   ]
  },
  {
   "cell_type": "code",
   "execution_count": 14,
   "id": "f1d8bd05-9de8-4222-912a-5fbce3ba3ab6",
   "metadata": {
    "tags": []
   },
   "outputs": [],
   "source": [
    "## ! pip install matplotlib"
   ]
  },
  {
   "cell_type": "code",
   "execution_count": 15,
   "id": "1a7fdd9e-5662-4baa-8946-435c5c034c27",
   "metadata": {
    "tags": []
   },
   "outputs": [
    {
     "data": {
      "image/png": "[encoded data removed]",
      "text/plain": [
       "<Figure size 640x480 with 1 Axes>"
      ]
     },
     "metadata": {},
     "output_type": "display_data"
    }
   ],
   "source": [
    "import matplotlib.pyplot as plt\n",
    "\n",
    "plt.plot([1,2,8,7,5])\n",
    "plt.show()"
   ]
  },
  {
   "cell_type": "markdown",
   "id": "0183bd12-3ed1-4c74-826a-9361ef7c9c12",
   "metadata": {},
   "source": [
    "## passengerid\n",
    "* unique해서 패턴을 보이지 않음. -- 분석 x"
   ]
  },
  {
   "cell_type": "code",
   "execution_count": 16,
   "id": "39cf5f74-b71e-455e-a4ff-ab4ede99da6b",
   "metadata": {
    "tags": []
   },
   "outputs": [
    {
     "data": {
      "text/html": [
       "<div>\n",
       "<style scoped>\n",
       "    .dataframe tbody tr th:only-of-type {\n",
       "        vertical-align: middle;\n",
       "    }\n",
       "\n",
       "    .dataframe tbody tr th {\n",
       "        vertical-align: top;\n",
       "    }\n",
       "\n",
       "    .dataframe thead th {\n",
       "        text-align: right;\n",
       "    }\n",
       "</style>\n",
       "<table border=\"1\" class=\"dataframe\">\n",
       "  <thead>\n",
       "    <tr style=\"text-align: right;\">\n",
       "      <th></th>\n",
       "      <th>survived</th>\n",
       "      <th>pclass</th>\n",
       "      <th>name</th>\n",
       "      <th>sex</th>\n",
       "      <th>age</th>\n",
       "      <th>sibsp</th>\n",
       "      <th>parch</th>\n",
       "      <th>ticket</th>\n",
       "      <th>fare</th>\n",
       "      <th>cabin</th>\n",
       "      <th>embarked</th>\n",
       "    </tr>\n",
       "  </thead>\n",
       "  <tbody>\n",
       "    <tr>\n",
       "      <th>0</th>\n",
       "      <td>0</td>\n",
       "      <td>3</td>\n",
       "      <td>Braund, Mr. Owen Harris</td>\n",
       "      <td>male</td>\n",
       "      <td>22.0</td>\n",
       "      <td>1</td>\n",
       "      <td>0</td>\n",
       "      <td>A/5 21171</td>\n",
       "      <td>7.2500</td>\n",
       "      <td>NaN</td>\n",
       "      <td>S</td>\n",
       "    </tr>\n",
       "    <tr>\n",
       "      <th>1</th>\n",
       "      <td>1</td>\n",
       "      <td>1</td>\n",
       "      <td>Cumings, Mrs. John Bradley (Florence Briggs Th...</td>\n",
       "      <td>female</td>\n",
       "      <td>38.0</td>\n",
       "      <td>1</td>\n",
       "      <td>0</td>\n",
       "      <td>PC 17599</td>\n",
       "      <td>71.2833</td>\n",
       "      <td>C85</td>\n",
       "      <td>C</td>\n",
       "    </tr>\n",
       "    <tr>\n",
       "      <th>2</th>\n",
       "      <td>1</td>\n",
       "      <td>3</td>\n",
       "      <td>Heikkinen, Miss. Laina</td>\n",
       "      <td>female</td>\n",
       "      <td>26.0</td>\n",
       "      <td>0</td>\n",
       "      <td>0</td>\n",
       "      <td>STON/O2. 3101282</td>\n",
       "      <td>7.9250</td>\n",
       "      <td>NaN</td>\n",
       "      <td>S</td>\n",
       "    </tr>\n",
       "    <tr>\n",
       "      <th>3</th>\n",
       "      <td>1</td>\n",
       "      <td>1</td>\n",
       "      <td>Futrelle, Mrs. Jacques Heath (Lily May Peel)</td>\n",
       "      <td>female</td>\n",
       "      <td>35.0</td>\n",
       "      <td>1</td>\n",
       "      <td>0</td>\n",
       "      <td>113803</td>\n",
       "      <td>53.1000</td>\n",
       "      <td>C123</td>\n",
       "      <td>S</td>\n",
       "    </tr>\n",
       "    <tr>\n",
       "      <th>4</th>\n",
       "      <td>0</td>\n",
       "      <td>3</td>\n",
       "      <td>Allen, Mr. William Henry</td>\n",
       "      <td>male</td>\n",
       "      <td>35.0</td>\n",
       "      <td>0</td>\n",
       "      <td>0</td>\n",
       "      <td>373450</td>\n",
       "      <td>8.0500</td>\n",
       "      <td>NaN</td>\n",
       "      <td>S</td>\n",
       "    </tr>\n",
       "  </tbody>\n",
       "</table>\n",
       "</div>"
      ],
      "text/plain": [
       "   survived  pclass                                               name  \\\n",
       "0         0       3                            Braund, Mr. Owen Harris   \n",
       "1         1       1  Cumings, Mrs. John Bradley (Florence Briggs Th...   \n",
       "2         1       3                             Heikkinen, Miss. Laina   \n",
       "3         1       1       Futrelle, Mrs. Jacques Heath (Lily May Peel)   \n",
       "4         0       3                           Allen, Mr. William Henry   \n",
       "\n",
       "      sex   age  sibsp  parch            ticket     fare cabin embarked  \n",
       "0    male  22.0      1      0         A/5 21171   7.2500   NaN        S  \n",
       "1  female  38.0      1      0          PC 17599  71.2833   C85        C  \n",
       "2  female  26.0      0      0  STON/O2. 3101282   7.9250   NaN        S  \n",
       "3  female  35.0      1      0            113803  53.1000  C123        S  \n",
       "4    male  35.0      0      0            373450   8.0500   NaN        S  "
      ]
     },
     "execution_count": 16,
     "metadata": {},
     "output_type": "execute_result"
    }
   ],
   "source": [
    "train = train.drop('passengerid',axis=1)\n",
    "train.head()"
   ]
  },
  {
   "cell_type": "markdown",
   "id": "1053c332-5714-4ae0-8551-eb60fdbb3e70",
   "metadata": {
    "tags": []
   },
   "source": [
    "## survived\n",
    "* Target\n",
    "* 비율 분석"
   ]
  },
  {
   "cell_type": "code",
   "execution_count": 17,
   "id": "b017536d-e2e3-4b5c-bd57-8d94993619ae",
   "metadata": {
    "tags": []
   },
   "outputs": [
    {
     "name": "stdout",
     "output_type": "stream",
     "text": [
      "0    549\n",
      "1    342\n",
      "Name: survived, dtype: int64\n"
     ]
    },
    {
     "data": {
      "image/png": "[encoded data removed]",
      "text/plain": [
       "<Figure size 640x480 with 1 Axes>"
      ]
     },
     "metadata": {},
     "output_type": "display_data"
    }
   ],
   "source": [
    "print(train['survived'].value_counts())\n",
    "train['survived'].value_counts().plot(kind='bar')\n",
    "plt.show()"
   ]
  },
  {
   "cell_type": "code",
   "execution_count": 18,
   "id": "2f07fca0-8576-453d-a750-f44277d58f03",
   "metadata": {
    "tags": []
   },
   "outputs": [
    {
     "data": {
      "text/plain": [
       "survived\n",
       "0    549\n",
       "1    342\n",
       "Name: survived, dtype: int64"
      ]
     },
     "execution_count": 18,
     "metadata": {},
     "output_type": "execute_result"
    }
   ],
   "source": [
    "train.groupby('survived')['survived'].count()"
   ]
  },
  {
   "cell_type": "markdown",
   "id": "a0a74b39-24c7-4bc5-abde-8d9f9d5bcb14",
   "metadata": {},
   "source": [
    "## pclass\n",
    "* 주요 Feature\n",
    "* target(survived)와 연관성을 보임 "
   ]
  },
  {
   "cell_type": "code",
   "execution_count": 19,
   "id": "7f033048-0eb8-4bd0-b636-287587646df1",
   "metadata": {
    "tags": []
   },
   "outputs": [
    {
     "name": "stdout",
     "output_type": "stream",
     "text": [
      "1    216\n",
      "2    184\n",
      "3    491\n",
      "Name: pclass, dtype: int64\n"
     ]
    },
    {
     "data": {
      "image/png": "[encoded data removed]",
      "text/plain": [
       "<Figure size 640x480 with 1 Axes>"
      ]
     },
     "metadata": {},
     "output_type": "display_data"
    }
   ],
   "source": [
    "print(train['pclass'].value_counts().sort_index())\n",
    "train['pclass'].value_counts().sort_index().plot(kind='bar')\n",
    "plt.show()"
   ]
  },
  {
   "cell_type": "code",
   "execution_count": 20,
   "id": "382e4f73-641d-498e-ac0c-04b711427c31",
   "metadata": {
    "tags": []
   },
   "outputs": [
    {
     "name": "stdout",
     "output_type": "stream",
     "text": [
      "pclass  survived\n",
      "1       0            80\n",
      "        1           136\n",
      "2       0            97\n",
      "        1            87\n",
      "3       0           372\n",
      "        1           119\n",
      "dtype: int64\n"
     ]
    },
    {
     "data": {
      "image/png": "[encoded data removed]",
      "text/plain": [
       "<Figure size 640x480 with 1 Axes>"
      ]
     },
     "metadata": {},
     "output_type": "display_data"
    }
   ],
   "source": [
    "print(train[['pclass','survived']].value_counts().sort_index())\n",
    "\n",
    "train[['pclass','survived']].value_counts().sort_index().plot(kind='bar')\n",
    "plt.show()"
   ]
  },
  {
   "cell_type": "markdown",
   "id": "0dfb8a9e-7514-418a-9259-72e32871f23d",
   "metadata": {},
   "source": [
    "## cabin\n",
    "* 연관성 없어 보임\n",
    "* class가 높은 사람이 A, B, C인듯 함. 즉 cabin은 pclass의 sub임.   \n",
    "    * Survived와의 연관성을 확인하려 할 때,   \n",
    "        survived와 pclass와의 비교는 유의미하나,   \n",
    "        pclass의 sub group인 cabin과 survived를 비교하는 것은 의미가 없어 보임"
   ]
  },
  {
   "cell_type": "code",
   "execution_count": 21,
   "id": "398218dd-3098-477f-849a-cdc7ae9b61bd",
   "metadata": {
    "tags": []
   },
   "outputs": [
    {
     "data": {
      "text/plain": [
       "cabin2  survived\n",
       "A       0            8\n",
       "        1            7\n",
       "B       0           12\n",
       "        1           35\n",
       "C       0           24\n",
       "        1           35\n",
       "D       0            8\n",
       "        1           25\n",
       "E       0            8\n",
       "        1           24\n",
       "F       0            5\n",
       "        1            8\n",
       "G       0            2\n",
       "        1            2\n",
       "T       0            1\n",
       "dtype: int64"
      ]
     },
     "execution_count": 21,
     "metadata": {},
     "output_type": "execute_result"
    }
   ],
   "source": [
    "# cabin과 survived의 관계는 없어 보임.\n",
    "# cabin에서 초기 1글자만 잘라서 survived와 연관성 비교\n",
    "train['cabin2'] = train['cabin'].str[:1]\n",
    "train[['cabin2','survived']].value_counts().sort_index()"
   ]
  },
  {
   "cell_type": "markdown",
   "id": "9f409d9d-8db6-4a76-b4d2-918b2b1914d9",
   "metadata": {},
   "source": [
    "## embarked"
   ]
  },
  {
   "cell_type": "markdown",
   "id": "6dec2aab-cf37-4f86-ad68-c1dc6712b00f",
   "metadata": {},
   "source": [
    "* survived와이 연관성이 크지 않음...\n",
    "* C에서 승선한 사람은 살아남은 비율이 더 높고, Q,S에서 승선한 사람은 죽은 비율이 더 높다.  \n",
    "    but 그 비율의 차이가 크지 않음  \n",
    "    특히 대부분의 사람들이 S에서 승선함.  "
   ]
  },
  {
   "cell_type": "code",
   "execution_count": 22,
   "id": "ce388fd2-592f-4535-b208-057609051d57",
   "metadata": {},
   "outputs": [
    {
     "data": {
      "text/plain": [
       "2"
      ]
     },
     "execution_count": 22,
     "metadata": {},
     "output_type": "execute_result"
    }
   ],
   "source": [
    "# embarked 결측확인\n",
    "train['embarked'].isna().sum()"
   ]
  },
  {
   "cell_type": "markdown",
   "id": "b2e19fd7-1537-4335-88ff-0918f06f9ef2",
   "metadata": {},
   "source": [
    "* embarked의 null은 최빈값을 처리\n",
    "    * null 처리를 어떻게 할거냐\n",
    "    * 최빈값인 S로 대체함.\n",
    "    * 현업이라면 데이터가 적어도 해당 데이터를 함부로 지울수는 없다."
   ]
  },
  {
   "cell_type": "code",
   "execution_count": 23,
   "id": "6775c517-21d2-44fb-9924-db50004a08ac",
   "metadata": {
    "tags": []
   },
   "outputs": [
    {
     "data": {
      "text/plain": [
       "0"
      ]
     },
     "execution_count": 23,
     "metadata": {},
     "output_type": "execute_result"
    }
   ],
   "source": [
    "# 특정 컬럼의 최빈값을 가져오는 함수 mode()\n",
    "# 최빈값을 영어로 하면 mode임.\n",
    "embarked_mode = train['embarked'].mode().values[0]\n",
    "## mode쓰면 array 출력하니까 [0]번째 값 출력\n",
    "# train['embarked'] = np.where(train['embarked'].isna(), embarked_mode, train['embarked'])\n",
    "train['embarked'] = train['embarked'].fillna(embarked_mode)\n",
    "\n",
    "# 확인용\n",
    "train['embarked'].isna().sum()"
   ]
  },
  {
   "cell_type": "code",
   "execution_count": 24,
   "id": "dab7e877-2cf2-4f31-9678-1b02851312e5",
   "metadata": {},
   "outputs": [
    {
     "data": {
      "text/plain": [
       "embarked  survived\n",
       "C         0            75\n",
       "          1            93\n",
       "Q         0            47\n",
       "          1            30\n",
       "S         0           427\n",
       "          1           219\n",
       "dtype: int64"
      ]
     },
     "execution_count": 24,
     "metadata": {},
     "output_type": "execute_result"
    }
   ],
   "source": [
    "train[['embarked', 'survived']].value_counts().sort_index()"
   ]
  },
  {
   "cell_type": "code",
   "execution_count": 25,
   "id": "12992e29-e2fb-4142-8b40-b2bde3c7e7ac",
   "metadata": {},
   "outputs": [
    {
     "data": {
      "text/plain": [
       "embarked\n",
       "C           55.357143\n",
       "Q           38.961039\n",
       "S           33.900929\n",
       "dtype: float64"
      ]
     },
     "execution_count": 25,
     "metadata": {},
     "output_type": "execute_result"
    }
   ],
   "source": [
    "df1 = train[['embarked']][train['survived']==1].value_counts()\n",
    "df2 = train[['embarked']].value_counts()\n",
    "rate = df1/df2*100\n",
    "rate.sort_values(ascending=False)  # 살아남은 비율"
   ]
  },
  {
   "cell_type": "markdown",
   "id": "e5274527-fa57-4769-bca7-ab3dd87f8fe7",
   "metadata": {},
   "source": [
    "### *object type, describe()\n",
    "* object type에 대해서 describe를 하면, unique개수와 가장 자주 등장하는 값(top), 그 자주 등장하는 값이 몇번 나왔는지(frequency)를 알려줌"
   ]
  },
  {
   "cell_type": "code",
   "execution_count": 26,
   "id": "763dde8e-f37a-4466-b60b-9631d5f9bb98",
   "metadata": {
    "tags": []
   },
   "outputs": [
    {
     "data": {
      "text/html": [
       "<div>\n",
       "<style scoped>\n",
       "    .dataframe tbody tr th:only-of-type {\n",
       "        vertical-align: middle;\n",
       "    }\n",
       "\n",
       "    .dataframe tbody tr th {\n",
       "        vertical-align: top;\n",
       "    }\n",
       "\n",
       "    .dataframe thead th {\n",
       "        text-align: right;\n",
       "    }\n",
       "</style>\n",
       "<table border=\"1\" class=\"dataframe\">\n",
       "  <thead>\n",
       "    <tr style=\"text-align: right;\">\n",
       "      <th></th>\n",
       "      <th>embarked</th>\n",
       "      <th>sex</th>\n",
       "    </tr>\n",
       "  </thead>\n",
       "  <tbody>\n",
       "    <tr>\n",
       "      <th>count</th>\n",
       "      <td>891</td>\n",
       "      <td>891</td>\n",
       "    </tr>\n",
       "    <tr>\n",
       "      <th>unique</th>\n",
       "      <td>3</td>\n",
       "      <td>2</td>\n",
       "    </tr>\n",
       "    <tr>\n",
       "      <th>top</th>\n",
       "      <td>S</td>\n",
       "      <td>male</td>\n",
       "    </tr>\n",
       "    <tr>\n",
       "      <th>freq</th>\n",
       "      <td>646</td>\n",
       "      <td>577</td>\n",
       "    </tr>\n",
       "  </tbody>\n",
       "</table>\n",
       "</div>"
      ],
      "text/plain": [
       "       embarked   sex\n",
       "count       891   891\n",
       "unique        3     2\n",
       "top           S  male\n",
       "freq        646   577"
      ]
     },
     "execution_count": 26,
     "metadata": {},
     "output_type": "execute_result"
    }
   ],
   "source": [
    "train[['embarked','sex']].describe()"
   ]
  },
  {
   "cell_type": "markdown",
   "id": "2e08abd6-fbaa-40a5-aaf8-818193da1fc2",
   "metadata": {},
   "source": [
    "## sex\n",
    "* 주요 Feature"
   ]
  },
  {
   "cell_type": "code",
   "execution_count": 27,
   "id": "5dc1d7b2-98a6-4781-bdd8-2b250748b946",
   "metadata": {
    "tags": []
   },
   "outputs": [
    {
     "data": {
      "text/plain": [
       "0"
      ]
     },
     "execution_count": 27,
     "metadata": {},
     "output_type": "execute_result"
    }
   ],
   "source": [
    "train['sex'].isna().sum()  # null 값 없음"
   ]
  },
  {
   "cell_type": "code",
   "execution_count": 28,
   "id": "7bbca93b-4428-432f-8e69-fb45a98d09ae",
   "metadata": {
    "tags": []
   },
   "outputs": [
    {
     "data": {
      "text/plain": [
       "sex     survived\n",
       "female  0            81\n",
       "        1           233\n",
       "male    0           468\n",
       "        1           109\n",
       "dtype: int64"
      ]
     },
     "execution_count": 28,
     "metadata": {},
     "output_type": "execute_result"
    }
   ],
   "source": [
    "# 여자의 생존 확률이 더 높음. # 성별은 주요 Feature\n",
    "train[['sex', 'survived']].value_counts().sort_index()"
   ]
  },
  {
   "cell_type": "markdown",
   "id": "7a6d1e6a-259e-4e67-96e3-bbe95407d520",
   "metadata": {},
   "source": [
    "## name\n",
    "* name 정보에서 Mr, Mrs, Miss 등의 값만 뽑아서 특징으로 사용"
   ]
  },
  {
   "cell_type": "markdown",
   "id": "567b9c7b-93d7-49c9-827e-7d3016fdd038",
   "metadata": {},
   "source": [
    "### *정규표현패턴 값추출"
   ]
  },
  {
   "cell_type": "markdown",
   "id": "3c0a2449-f887-4ca9-8cf0-93b0095917eb",
   "metadata": {},
   "source": [
    "* 정규표현식"
   ]
  },
  {
   "cell_type": "markdown",
   "id": "f2dbc905-6562-4fa9-8e31-928c493c5575",
   "metadata": {
    "tags": []
   },
   "source": [
    "|메타문자| |사용예|설명|\n",
    "|------|---|---|---|\n",
    "|[ ]|문자 클래스|[abc]|a, b, c 중 한 개의 문자와 매치                              &nbsp;|\n",
    "|[s-e]| |[0-2]<br>[a-c]<br>[a-zA-Z]<br>[0-9]|0,1,2<br>a,b,c<br>알파벳모두<br>숫자|\n",
    "|^|반대|[^0-9]|숫자가 아닌 문자와 매치|\n",
    "|<font color=red size=4><b>?|0또는1글자<br>(있어도 되고 없어도 되고)|ab?c|?앞에 문자 b를 0 또는 1번 반복<br>O abc<br>O ac<br>X abbc|\n",
    "|<font color=red size=4><b>.|1글자|a.b<br>a[.]b|a + 모든문자 + b<br>a + Dot(.)문자 + b|\n",
    "|<font color=red size=4><b>*|반복 0~|ca*t| *앞에 문자 a를 0~ 반복<br>O ct<br>O cat<br>O caaat|\n",
    "|<font color=red size=4><b>+|반복 1~|ca+t| +앞에 문자 a를 1~ 반복<br>X ct<br>O cat<br>O caaat|  \n",
    "|{s,e}|반복 s~e|{3,5}<br>{3, }<br>{ ,5}<br>{1, }<br>{0, }<br>ca{2}t<br> <br> <br>ca{2,4}t<br> <br> <br> <br>|3이상 ~ 5이하 반복<br>3~ 이상 반복<br>~5 이하 반복<br>+<br>*<br>{2}앞에 문자a를 2번반복<br>X cat<br>O caat<br>{2}앞에 문자a를 2 ~ 4번반복<br>X cat<br>O caat<br>O caaaat|"
   ]
  },
  {
   "cell_type": "markdown",
   "id": "195e3338-a229-4b8f-a6a4-b488dd2c13aa",
   "metadata": {},
   "source": [
    "|종류|문자클래스|설명|유사표현|\n",
    "|------|---|---|---|\n",
    "|숫자|<font color=red size=3><b>\\d|숫자와 매치|[0-9]|\n",
    "||<font color=red size=3><b>\\D|숫자가 아닌 것과 매치|[^0-9]|\n",
    "|숫자+문자|<font color=red size=3><b>\\w|문자+숫자(alphanumeric)와 매치|[a-zA-Z0-9]|\n",
    "||<font color=red size=3><b>\\W|문자+숫자(alphanumeric)가 아닌 문자와 매치|[^a-zA-Z0-9]|\n",
    "|특수문자|<font color=red size=3><b>\\s|whitespace 문자와 매치|[ \\t\\n\\r\\f\\v]|\n",
    "||<font color=red size=3><b>\\S|whitespace 문자가 아닌 것과 매치|[^ \\t\\n\\r\\f\\v]|"
   ]
  },
  {
   "cell_type": "markdown",
   "id": "7d720798-25dd-43cf-a8ca-83f35dff5cf9",
   "metadata": {},
   "source": [
    "<pre> \n",
    "f\"_______\"\n",
    "^…$\tStarts and ends\n",
    "(…)\tCapture Group\n",
    "(a(bc))\tCapture Sub-group\n",
    "(.*)\tCapture all\n",
    "(abc|def)\tMatches abc or def"
   ]
  },
  {
   "cell_type": "markdown",
   "id": "bb7e50a2-c4dd-474c-bbf1-94ccb8c02c72",
   "metadata": {},
   "source": [
    "* 정규표현식패턴으로 dataframe에서 특정값 추출하기\n",
    "    * train['name'].str.extract('정규표현식패턴')"
   ]
  },
  {
   "cell_type": "code",
   "execution_count": 29,
   "id": "224959e1-4bae-423a-86e1-2ff118c4ac0c",
   "metadata": {
    "tags": []
   },
   "outputs": [
    {
     "data": {
      "text/plain": [
       "Mr          517\n",
       "Miss        182\n",
       "Mrs         125\n",
       "Master       40\n",
       "Dr            7\n",
       "Rev           6\n",
       "Mlle          2\n",
       "Major         2\n",
       "Col           2\n",
       "Countess      1\n",
       "Capt          1\n",
       "Ms            1\n",
       "Sir           1\n",
       "Lady          1\n",
       "Mme           1\n",
       "Don           1\n",
       "Jonkheer      1\n",
       "Name: name_title, dtype: int64"
      ]
     },
     "execution_count": 29,
     "metadata": {},
     "output_type": "execute_result"
    }
   ],
   "source": [
    "# trvain['name_title']=train['name'].str.extract(', (\\w+).')\n",
    "train['name_title']=train['name'].str.extract('\\s([\\w]+)[.]\\s')\n",
    "train['name_title'].value_counts()"
   ]
  },
  {
   "cell_type": "markdown",
   "id": "9ca52d7a-8bb6-44eb-97f6-f75f73f8a4fb",
   "metadata": {},
   "source": [
    "* 일부 이름 구분 변경.\n",
    "\n",
    "<pre>\n",
    "Rev   목사 --> Mr  \n",
    "Major 미군 --> Mr\n",
    "Major 대령 --> Mr\n",
    "Col. 미군장교 --> Mr\n",
    "Capt   선생님, 공군    --> Mr\n",
    "Sir  귀족남성 --> Mr\n",
    "Don   남성 --> Mr\n",
    "Jonkheer  작위가없는 귀족  --> Mr \n",
    "\n",
    "Mlle  나이어린여아 --> Miss\n",
    "Ms     여성    --> Miss\n",
    "Lady  나이어린여자 --> Miss\n",
    "\n",
    "Countess 백작부인 --> Mrs\n",
    "Mme  마담 --> Mrs"
   ]
  },
  {
   "cell_type": "markdown",
   "id": "b7998ee1-41a6-406e-8c2b-a136827e71ba",
   "metadata": {
    "tags": []
   },
   "source": [
    "### *Feature값 변경\n",
    "1) df = df.replace('A','B')\n",
    "2) df = df.map({'A':'B'})\n",
    "3) df = df.apply(lambda)\n",
    "4) df.loc(줄, 칸) = 변경값"
   ]
  },
  {
   "cell_type": "markdown",
   "id": "6dc6e162-7575-437e-ae2f-b9dfea4a8823",
   "metadata": {},
   "source": [
    "#### replace()"
   ]
  },
  {
   "cell_type": "code",
   "execution_count": 30,
   "id": "44cb3dc0-6156-4c59-9f55-fb2b99db220a",
   "metadata": {
    "tags": []
   },
   "outputs": [
    {
     "data": {
      "text/html": [
       "<div>\n",
       "<style scoped>\n",
       "    .dataframe tbody tr th:only-of-type {\n",
       "        vertical-align: middle;\n",
       "    }\n",
       "\n",
       "    .dataframe tbody tr th {\n",
       "        vertical-align: top;\n",
       "    }\n",
       "\n",
       "    .dataframe thead th {\n",
       "        text-align: right;\n",
       "    }\n",
       "</style>\n",
       "<table border=\"1\" class=\"dataframe\">\n",
       "  <thead>\n",
       "    <tr style=\"text-align: right;\">\n",
       "      <th></th>\n",
       "      <th>survived</th>\n",
       "      <th>pclass</th>\n",
       "      <th>name</th>\n",
       "      <th>sex</th>\n",
       "      <th>age</th>\n",
       "      <th>sibsp</th>\n",
       "      <th>parch</th>\n",
       "      <th>ticket</th>\n",
       "      <th>fare</th>\n",
       "      <th>cabin</th>\n",
       "      <th>embarked</th>\n",
       "      <th>cabin2</th>\n",
       "      <th>name_title</th>\n",
       "    </tr>\n",
       "  </thead>\n",
       "  <tbody>\n",
       "    <tr>\n",
       "      <th>0</th>\n",
       "      <td>0</td>\n",
       "      <td>33</td>\n",
       "      <td>Braund, Mr. Owen Harris</td>\n",
       "      <td>male</td>\n",
       "      <td>22.0</td>\n",
       "      <td>1</td>\n",
       "      <td>0</td>\n",
       "      <td>A/5 21171</td>\n",
       "      <td>7.2500</td>\n",
       "      <td>NaN</td>\n",
       "      <td>S</td>\n",
       "      <td>NaN</td>\n",
       "      <td>Mr</td>\n",
       "    </tr>\n",
       "    <tr>\n",
       "      <th>1</th>\n",
       "      <td>1</td>\n",
       "      <td>11</td>\n",
       "      <td>Cumings, Mrs. John Bradley (Florence Briggs Th...</td>\n",
       "      <td>female</td>\n",
       "      <td>38.0</td>\n",
       "      <td>1</td>\n",
       "      <td>0</td>\n",
       "      <td>PC 17599</td>\n",
       "      <td>71.2833</td>\n",
       "      <td>C85</td>\n",
       "      <td>C</td>\n",
       "      <td>C</td>\n",
       "      <td>Mrs</td>\n",
       "    </tr>\n",
       "    <tr>\n",
       "      <th>2</th>\n",
       "      <td>1</td>\n",
       "      <td>33</td>\n",
       "      <td>Heikkinen, Miss. Laina</td>\n",
       "      <td>female</td>\n",
       "      <td>26.0</td>\n",
       "      <td>0</td>\n",
       "      <td>0</td>\n",
       "      <td>STON/O2. 3101282</td>\n",
       "      <td>7.9250</td>\n",
       "      <td>NaN</td>\n",
       "      <td>S</td>\n",
       "      <td>NaN</td>\n",
       "      <td>Miss</td>\n",
       "    </tr>\n",
       "  </tbody>\n",
       "</table>\n",
       "</div>"
      ],
      "text/plain": [
       "   survived  pclass                                               name  \\\n",
       "0         0      33                            Braund, Mr. Owen Harris   \n",
       "1         1      11  Cumings, Mrs. John Bradley (Florence Briggs Th...   \n",
       "2         1      33                             Heikkinen, Miss. Laina   \n",
       "\n",
       "      sex   age  sibsp  parch            ticket     fare cabin embarked  \\\n",
       "0    male  22.0      1      0         A/5 21171   7.2500   NaN        S   \n",
       "1  female  38.0      1      0          PC 17599  71.2833   C85        C   \n",
       "2  female  26.0      0      0  STON/O2. 3101282   7.9250   NaN        S   \n",
       "\n",
       "  cabin2 name_title  \n",
       "0    NaN         Mr  \n",
       "1      C        Mrs  \n",
       "2    NaN       Miss  "
      ]
     },
     "execution_count": 30,
     "metadata": {},
     "output_type": "execute_result"
    }
   ],
   "source": [
    "traincp = train.copy()\n",
    "traincp['pclass'] = traincp['pclass'].replace(3, 33) # --- 3을 33으로\n",
    "traincp['pclass'] = traincp['pclass'].replace([1,2,3], [11,22,33])\n",
    "traincp.head(3)"
   ]
  },
  {
   "cell_type": "markdown",
   "id": "a9e9e1ea-3cfa-4481-86de-03bba3fd3a72",
   "metadata": {},
   "source": [
    "#### map()"
   ]
  },
  {
   "cell_type": "code",
   "execution_count": 31,
   "id": "5e95764c-353b-4b1c-b89e-9f41e01aedea",
   "metadata": {
    "tags": []
   },
   "outputs": [
    {
     "data": {
      "text/html": [
       "<div>\n",
       "<style scoped>\n",
       "    .dataframe tbody tr th:only-of-type {\n",
       "        vertical-align: middle;\n",
       "    }\n",
       "\n",
       "    .dataframe tbody tr th {\n",
       "        vertical-align: top;\n",
       "    }\n",
       "\n",
       "    .dataframe thead th {\n",
       "        text-align: right;\n",
       "    }\n",
       "</style>\n",
       "<table border=\"1\" class=\"dataframe\">\n",
       "  <thead>\n",
       "    <tr style=\"text-align: right;\">\n",
       "      <th></th>\n",
       "      <th>survived</th>\n",
       "      <th>pclass</th>\n",
       "      <th>name</th>\n",
       "      <th>sex</th>\n",
       "      <th>age</th>\n",
       "      <th>sibsp</th>\n",
       "      <th>parch</th>\n",
       "      <th>ticket</th>\n",
       "      <th>fare</th>\n",
       "      <th>cabin</th>\n",
       "      <th>embarked</th>\n",
       "      <th>cabin2</th>\n",
       "      <th>name_title</th>\n",
       "    </tr>\n",
       "  </thead>\n",
       "  <tbody>\n",
       "    <tr>\n",
       "      <th>0</th>\n",
       "      <td>0</td>\n",
       "      <td>33</td>\n",
       "      <td>Braund, Mr. Owen Harris</td>\n",
       "      <td>1</td>\n",
       "      <td>22.0</td>\n",
       "      <td>1</td>\n",
       "      <td>0</td>\n",
       "      <td>A/5 21171</td>\n",
       "      <td>7.2500</td>\n",
       "      <td>NaN</td>\n",
       "      <td>S</td>\n",
       "      <td>NaN</td>\n",
       "      <td>Mr</td>\n",
       "    </tr>\n",
       "    <tr>\n",
       "      <th>1</th>\n",
       "      <td>1</td>\n",
       "      <td>11</td>\n",
       "      <td>Cumings, Mrs. John Bradley (Florence Briggs Th...</td>\n",
       "      <td>0</td>\n",
       "      <td>38.0</td>\n",
       "      <td>1</td>\n",
       "      <td>0</td>\n",
       "      <td>PC 17599</td>\n",
       "      <td>71.2833</td>\n",
       "      <td>C85</td>\n",
       "      <td>C</td>\n",
       "      <td>C</td>\n",
       "      <td>Mrs</td>\n",
       "    </tr>\n",
       "    <tr>\n",
       "      <th>2</th>\n",
       "      <td>1</td>\n",
       "      <td>33</td>\n",
       "      <td>Heikkinen, Miss. Laina</td>\n",
       "      <td>0</td>\n",
       "      <td>26.0</td>\n",
       "      <td>0</td>\n",
       "      <td>0</td>\n",
       "      <td>STON/O2. 3101282</td>\n",
       "      <td>7.9250</td>\n",
       "      <td>NaN</td>\n",
       "      <td>S</td>\n",
       "      <td>NaN</td>\n",
       "      <td>Miss</td>\n",
       "    </tr>\n",
       "  </tbody>\n",
       "</table>\n",
       "</div>"
      ],
      "text/plain": [
       "   survived  pclass                                               name  sex  \\\n",
       "0         0      33                            Braund, Mr. Owen Harris    1   \n",
       "1         1      11  Cumings, Mrs. John Bradley (Florence Briggs Th...    0   \n",
       "2         1      33                             Heikkinen, Miss. Laina    0   \n",
       "\n",
       "    age  sibsp  parch            ticket     fare cabin embarked cabin2  \\\n",
       "0  22.0      1      0         A/5 21171   7.2500   NaN        S    NaN   \n",
       "1  38.0      1      0          PC 17599  71.2833   C85        C      C   \n",
       "2  26.0      0      0  STON/O2. 3101282   7.9250   NaN        S    NaN   \n",
       "\n",
       "  name_title  \n",
       "0         Mr  \n",
       "1        Mrs  \n",
       "2       Miss  "
      ]
     },
     "execution_count": 31,
     "metadata": {},
     "output_type": "execute_result"
    }
   ],
   "source": [
    "dic = {\"male\":1,\"female\":0}\n",
    "traincp['sex'] = traincp['sex'].map(dic)\n",
    "traincp.head(3)"
   ]
  },
  {
   "cell_type": "markdown",
   "id": "07f6f72b-1fce-442e-88e2-72498bc8ae0b",
   "metadata": {},
   "source": [
    "#### apply(lambda)"
   ]
  },
  {
   "cell_type": "code",
   "execution_count": 32,
   "id": "f62b3381-fef7-46a2-a46e-303b9f0f2e2d",
   "metadata": {
    "tags": []
   },
   "outputs": [
    {
     "data": {
      "text/html": [
       "<div>\n",
       "<style scoped>\n",
       "    .dataframe tbody tr th:only-of-type {\n",
       "        vertical-align: middle;\n",
       "    }\n",
       "\n",
       "    .dataframe tbody tr th {\n",
       "        vertical-align: top;\n",
       "    }\n",
       "\n",
       "    .dataframe thead th {\n",
       "        text-align: right;\n",
       "    }\n",
       "</style>\n",
       "<table border=\"1\" class=\"dataframe\">\n",
       "  <thead>\n",
       "    <tr style=\"text-align: right;\">\n",
       "      <th></th>\n",
       "      <th>survived</th>\n",
       "      <th>pclass</th>\n",
       "      <th>name</th>\n",
       "      <th>sex</th>\n",
       "      <th>age</th>\n",
       "      <th>sibsp</th>\n",
       "      <th>parch</th>\n",
       "      <th>ticket</th>\n",
       "      <th>fare</th>\n",
       "      <th>cabin</th>\n",
       "      <th>embarked</th>\n",
       "      <th>cabin2</th>\n",
       "      <th>name_title</th>\n",
       "    </tr>\n",
       "  </thead>\n",
       "  <tbody>\n",
       "    <tr>\n",
       "      <th>0</th>\n",
       "      <td>0</td>\n",
       "      <td>33</td>\n",
       "      <td>Braund, Mr. Owen Harris</td>\n",
       "      <td>male</td>\n",
       "      <td>22.0</td>\n",
       "      <td>1</td>\n",
       "      <td>0</td>\n",
       "      <td>A/5 21171</td>\n",
       "      <td>7.2500</td>\n",
       "      <td>NaN</td>\n",
       "      <td>S</td>\n",
       "      <td>NaN</td>\n",
       "      <td>Mr</td>\n",
       "    </tr>\n",
       "    <tr>\n",
       "      <th>1</th>\n",
       "      <td>1</td>\n",
       "      <td>11</td>\n",
       "      <td>Cumings, Mrs. John Bradley (Florence Briggs Th...</td>\n",
       "      <td>female</td>\n",
       "      <td>38.0</td>\n",
       "      <td>1</td>\n",
       "      <td>0</td>\n",
       "      <td>PC 17599</td>\n",
       "      <td>71.2833</td>\n",
       "      <td>C85</td>\n",
       "      <td>C</td>\n",
       "      <td>C</td>\n",
       "      <td>Mrs</td>\n",
       "    </tr>\n",
       "    <tr>\n",
       "      <th>2</th>\n",
       "      <td>1</td>\n",
       "      <td>33</td>\n",
       "      <td>Heikkinen, Miss. Laina</td>\n",
       "      <td>female</td>\n",
       "      <td>26.0</td>\n",
       "      <td>0</td>\n",
       "      <td>0</td>\n",
       "      <td>STON/O2. 3101282</td>\n",
       "      <td>7.9250</td>\n",
       "      <td>NaN</td>\n",
       "      <td>S</td>\n",
       "      <td>NaN</td>\n",
       "      <td>Miss</td>\n",
       "    </tr>\n",
       "  </tbody>\n",
       "</table>\n",
       "</div>"
      ],
      "text/plain": [
       "   survived  pclass                                               name  \\\n",
       "0         0      33                            Braund, Mr. Owen Harris   \n",
       "1         1      11  Cumings, Mrs. John Bradley (Florence Briggs Th...   \n",
       "2         1      33                             Heikkinen, Miss. Laina   \n",
       "\n",
       "      sex   age  sibsp  parch            ticket     fare cabin embarked  \\\n",
       "0    male  22.0      1      0         A/5 21171   7.2500   NaN        S   \n",
       "1  female  38.0      1      0          PC 17599  71.2833   C85        C   \n",
       "2  female  26.0      0      0  STON/O2. 3101282   7.9250   NaN        S   \n",
       "\n",
       "  cabin2 name_title  \n",
       "0    NaN         Mr  \n",
       "1      C        Mrs  \n",
       "2    NaN       Miss  "
      ]
     },
     "execution_count": 32,
     "metadata": {},
     "output_type": "execute_result"
    }
   ],
   "source": [
    "traincp['sex'] = traincp['sex'].apply(lambda x: 'male' if x == 1 else 'female')\n",
    "traincp.head(3)"
   ]
  },
  {
   "cell_type": "markdown",
   "id": "92231ce0-5836-4160-9724-30fd1a13e49a",
   "metadata": {},
   "source": [
    "* 연습용"
   ]
  },
  {
   "cell_type": "code",
   "execution_count": 33,
   "id": "1d1a2ed7-898c-45ee-8b47-562ea8b96caa",
   "metadata": {
    "tags": []
   },
   "outputs": [
    {
     "data": {
      "text/plain": [
       "array(['Mr', 'Mrs', 'Miss', 'Master', 'Don', 'Rev', 'Dr', 'Mme', 'Ms',\n",
       "       'Major', 'Lady', 'Sir', 'Mlle', 'Col', 'Capt', 'Countess',\n",
       "       'Jonkheer'], dtype=object)"
      ]
     },
     "execution_count": 33,
     "metadata": {},
     "output_type": "execute_result"
    }
   ],
   "source": [
    "traincp['name_title2'] = traincp['name_title']\n",
    "traincp['name_title2'] = traincp['name_title2'].replace(['Rev','Major','Major','Col','Capt','Sir','Don','Jonkheer'],\n",
    "                              ['Mr','Mr','Mr','Mr','Mr','Mr','Mr','Mr'])\n",
    "traincp['name_title2'] = traincp['name_title2'].replace(['Mlle','Ms','Lady'],['Miss','Miss','Miss'])\n",
    "traincp['name_title2'] = traincp['name_title2'].replace(['Countess','Mme'],['Mrs','Mrs'])\n",
    "\n",
    "traincp['name_title'].unique()"
   ]
  },
  {
   "cell_type": "code",
   "execution_count": 34,
   "id": "6677d3f1-4352-41de-885b-6f7dcce94c75",
   "metadata": {
    "tags": []
   },
   "outputs": [
    {
     "data": {
      "text/html": [
       "<div>\n",
       "<style scoped>\n",
       "    .dataframe tbody tr th:only-of-type {\n",
       "        vertical-align: middle;\n",
       "    }\n",
       "\n",
       "    .dataframe tbody tr th {\n",
       "        vertical-align: top;\n",
       "    }\n",
       "\n",
       "    .dataframe thead th {\n",
       "        text-align: right;\n",
       "    }\n",
       "</style>\n",
       "<table border=\"1\" class=\"dataframe\">\n",
       "  <thead>\n",
       "    <tr style=\"text-align: right;\">\n",
       "      <th></th>\n",
       "      <th>name_title</th>\n",
       "      <th>name_title2</th>\n",
       "    </tr>\n",
       "  </thead>\n",
       "  <tbody>\n",
       "    <tr>\n",
       "      <th>0</th>\n",
       "      <td>Mr</td>\n",
       "      <td>Mr</td>\n",
       "    </tr>\n",
       "    <tr>\n",
       "      <th>1</th>\n",
       "      <td>Mrs</td>\n",
       "      <td>Mrs</td>\n",
       "    </tr>\n",
       "    <tr>\n",
       "      <th>2</th>\n",
       "      <td>Miss</td>\n",
       "      <td>Miss</td>\n",
       "    </tr>\n",
       "    <tr>\n",
       "      <th>3</th>\n",
       "      <td>Mrs</td>\n",
       "      <td>Mrs</td>\n",
       "    </tr>\n",
       "    <tr>\n",
       "      <th>4</th>\n",
       "      <td>Mr</td>\n",
       "      <td>Mr</td>\n",
       "    </tr>\n",
       "    <tr>\n",
       "      <th>...</th>\n",
       "      <td>...</td>\n",
       "      <td>...</td>\n",
       "    </tr>\n",
       "    <tr>\n",
       "      <th>886</th>\n",
       "      <td>Rev</td>\n",
       "      <td>Mr</td>\n",
       "    </tr>\n",
       "    <tr>\n",
       "      <th>887</th>\n",
       "      <td>Miss</td>\n",
       "      <td>Miss</td>\n",
       "    </tr>\n",
       "    <tr>\n",
       "      <th>888</th>\n",
       "      <td>Miss</td>\n",
       "      <td>Miss</td>\n",
       "    </tr>\n",
       "    <tr>\n",
       "      <th>889</th>\n",
       "      <td>Mr</td>\n",
       "      <td>Mr</td>\n",
       "    </tr>\n",
       "    <tr>\n",
       "      <th>890</th>\n",
       "      <td>Mr</td>\n",
       "      <td>Mr</td>\n",
       "    </tr>\n",
       "  </tbody>\n",
       "</table>\n",
       "<p>891 rows × 2 columns</p>\n",
       "</div>"
      ],
      "text/plain": [
       "    name_title name_title2\n",
       "0           Mr          Mr\n",
       "1          Mrs         Mrs\n",
       "2         Miss        Miss\n",
       "3          Mrs         Mrs\n",
       "4           Mr          Mr\n",
       "..         ...         ...\n",
       "886        Rev          Mr\n",
       "887       Miss        Miss\n",
       "888       Miss        Miss\n",
       "889         Mr          Mr\n",
       "890         Mr          Mr\n",
       "\n",
       "[891 rows x 2 columns]"
      ]
     },
     "execution_count": 34,
     "metadata": {},
     "output_type": "execute_result"
    }
   ],
   "source": [
    "traincp[['name_title', 'name_title2']]"
   ]
  },
  {
   "cell_type": "code",
   "execution_count": 35,
   "id": "29d97d10-68af-40a3-bff0-a4b230ef9966",
   "metadata": {
    "tags": []
   },
   "outputs": [
    {
     "data": {
      "text/plain": [
       "array(['Mr', 'Mrs', 'Miss', 'Master', 'Dr'], dtype=object)"
      ]
     },
     "execution_count": 35,
     "metadata": {},
     "output_type": "execute_result"
    }
   ],
   "source": [
    "traincp['name_title2'] = traincp['name_title']\n",
    "traincp['name_title2'] = traincp['name_title2'].replace(['Rev','Major','Major','Col','Capt','Sir','Don','Jonkheer'],\n",
    "                              ['Mr','Mr','Mr','Mr','Mr','Mr','Mr','Mr'])\n",
    "traincp['name_title2'] = traincp['name_title2'].replace(['Mlle','Ms','Lady'],['Miss','Miss','Miss'])\n",
    "\n",
    "# map을 사용하면, dictionary에 포함되지 않은 value들은 모두 nan으로 변함.\n",
    "# map을 사용하려면 변경하려는 조건들을 모두 한번에 넣어야한다.\n",
    "# dic = {'Mlle':'Miss',\n",
    "#       'Ms':'Miss',\n",
    "#       'Lady':'Miss'}\n",
    "# traincp['name_title2'] = traincp['name_title2'].map(dic)\n",
    "\n",
    "traincp['name_title2'] = traincp['name_title2'].apply(lambda x: 'Mrs' if x in ['Countess','Mme'] else x)\n",
    "\n",
    "traincp['name_title2'].unique()"
   ]
  },
  {
   "cell_type": "code",
   "execution_count": 36,
   "id": "704f20a1-5a31-448b-8570-3565c30eb019",
   "metadata": {
    "tags": []
   },
   "outputs": [],
   "source": [
    "del traincp"
   ]
  },
  {
   "cell_type": "markdown",
   "id": "8dd2d7fd-7f14-49b1-93ca-0582e79032a5",
   "metadata": {},
   "source": [
    "### 원본 name_title 값 변경"
   ]
  },
  {
   "cell_type": "markdown",
   "id": "d5cdbe00-8550-4c56-839b-1c117bf75634",
   "metadata": {},
   "source": [
    "* 원본 dataframe train['name_title']에 replace한 값 train['name_title2']로 넣음"
   ]
  },
  {
   "cell_type": "code",
   "execution_count": 37,
   "id": "b9824aaa-5503-4169-8c08-0948f72f7753",
   "metadata": {
    "tags": []
   },
   "outputs": [
    {
     "data": {
      "text/plain": [
       "Mr        531\n",
       "Miss      186\n",
       "Mrs       127\n",
       "Master     40\n",
       "Dr          7\n",
       "Name: name_title2, dtype: int64"
      ]
     },
     "execution_count": 37,
     "metadata": {},
     "output_type": "execute_result"
    }
   ],
   "source": [
    "train['name_title2'] = train['name_title']\n",
    "train['name_title2'] = train['name_title2'].replace(['Rev','Major','Major','Col','Capt','Sir','Don','Jonkheer'],\n",
    "                              ['Mr','Mr','Mr','Mr','Mr','Mr','Mr','Mr'])\n",
    "train['name_title2'] = train['name_title2'].replace(['Mlle','Ms','Lady'],['Miss','Miss','Miss'])\n",
    "train['name_title2'] = train['name_title2'].replace(['Countess','Mme'],['Mrs','Mrs'])\n",
    "train['name_title2'].value_counts()"
   ]
  },
  {
   "cell_type": "markdown",
   "id": "1f62c865-d14e-4976-9de3-be41250fbb61",
   "metadata": {
    "tags": []
   },
   "source": [
    "## age\n",
    "* age의 결측 177개, 이에 대한 결측처리 필요\n",
    "* 호칭별 평균 나이로 age의 결측을 처리함"
   ]
  },
  {
   "cell_type": "code",
   "execution_count": 38,
   "id": "24dcaefa-334f-4384-86bd-ed5e40e4ef26",
   "metadata": {
    "tags": []
   },
   "outputs": [
    {
     "data": {
      "text/plain": [
       "177"
      ]
     },
     "execution_count": 38,
     "metadata": {},
     "output_type": "execute_result"
    }
   ],
   "source": [
    "train['age'].isna().sum()"
   ]
  },
  {
   "cell_type": "code",
   "execution_count": 39,
   "id": "ed8884b0-82fa-4750-b185-5e7ef9b5fc55",
   "metadata": {
    "tags": []
   },
   "outputs": [
    {
     "data": {
      "text/plain": [
       "count    714.000000\n",
       "mean      29.699118\n",
       "std       14.526497\n",
       "min        0.420000\n",
       "25%       20.125000\n",
       "50%       28.000000\n",
       "75%       38.000000\n",
       "max       80.000000\n",
       "Name: age, dtype: float64"
      ]
     },
     "execution_count": 39,
     "metadata": {},
     "output_type": "execute_result"
    }
   ],
   "source": [
    "# 데이터의 쏠림 현상인 왜도가 나타남\n",
    "train['age'].describe()"
   ]
  },
  {
   "cell_type": "markdown",
   "id": "aeac1390-534d-4910-ad06-1c15f8b9fbe1",
   "metadata": {},
   "source": [
    "* 호칭별 평균나이로 결측처리"
   ]
  },
  {
   "cell_type": "code",
   "execution_count": 40,
   "id": "33363fce-deb1-441e-9fdd-367e1eb3e492",
   "metadata": {
    "tags": []
   },
   "outputs": [
    {
     "data": {
      "text/plain": [
       "name_title2\n",
       "Dr        42.000000\n",
       "Master     4.574167\n",
       "Miss      22.020000\n",
       "Mr        32.891990\n",
       "Mrs       35.763636\n",
       "Name: age, dtype: float64"
      ]
     },
     "execution_count": 40,
     "metadata": {},
     "output_type": "execute_result"
    }
   ],
   "source": [
    "train[train['age'].notna()].groupby('name_title2')['age'].mean()"
   ]
  },
  {
   "cell_type": "markdown",
   "id": "6f72e4c6-ce48-4d21-b7e0-761a20586fc7",
   "metadata": {
    "tags": []
   },
   "source": [
    "### *Apply vs Transform"
   ]
  },
  {
   "cell_type": "markdown",
   "id": "55631616-9363-4c99-8560-2de0dff8439c",
   "metadata": {},
   "source": [
    "<table style=\"border-collapse: collapse; width: 100%;\" border=\"1\">\n",
    "<tbody>\n",
    "<tr>\n",
    "<td style=\"width: 33.3333%;\">&nbsp;</td>\n",
    "<td style=\"width: 33.3333%; text-align: center;\"><b>apply</b></td>\n",
    "<td style=\"width: 33.3333%; text-align: center;\"><b>transform</b></td>\n",
    "</tr>\n",
    "<tr>\n",
    "<td style=\"width: 33.3333%; text-align: center;\"><br><b>[공통]</b><br><br></td>\n",
    "<td style=\"width: 66.6666%; text-align: center;\" colspan=\"2\">컬럼명을 메서드 밖에서 명시하면 결과는 같게 나온다.</td>\n",
    "</tr>\n",
    "<tr>\n",
    "<td style=\"width: 33.3333%; text-align: center;\"><b>[차이1]</b><br><br><b>컬럼명을 메서드 안에서 명시하면</b></td>\n",
    "<td style=\"width: 33.3333%; text-align: center;\">그룹별 시리즈 리턴</td>\n",
    "<td style=\"width: 33.3333%; text-align: center;\">에러</td>\n",
    "</tr>\n",
    "<tr>\n",
    "<td style=\"width: 33.3333%; text-align: center;\"><b><span style=\"color: #333333;\">[차이2]<br></span></b><br><b><span style=\"color: #333333;\">컬럼명을 메서드 안과 밖에 <br>모두 명시하지 않는다면</span></b></td>\n",
    "<td style=\"width: 33.3333%; text-align: center;\">기존 데이터의 자료형과 함수가<br><br><u>연산 가능해야만 실행</u>된다.</td>\n",
    "<td style=\"width: 33.3333%; text-align: center;\"><u>연산 가능한 컬럼만 알아서</u><br><br><u>필터링</u>되어 결과가 나온다.</td>\n",
    "</tr>\n",
    "<tr>\n",
    "<td style=\"width: 33.3333%; text-align: center;\"><b><span style=\"color: #333333;\"><span style=\"color: #333333;\">[차이3]<br></span><br><span style=\"color: #333333;\">연산 가능한 컬럼만 함수 적용한다면</span></span></b></td>\n",
    "<td style=\"width: 33.3333%; text-align: center;\"><u>그룹별 데이터프레임</u> 출력<br><br>(멀티인덱스)</td>\n",
    "<td style=\"width: 33.3333%; text-align: center;\"><u>기존 인덱스</u> 유지</td>\n",
    "</tr>\n",
    "</tbody>\n",
    "</table>\n",
    "\n",
    "https://steadiness-193.tistory.com/42  \n"
   ]
  },
  {
   "cell_type": "markdown",
   "id": "b58245df-900a-409d-a7d5-2cc5de5cb686",
   "metadata": {},
   "source": [
    "train.groupby('name_title2')['age'].apply()  \n",
    "train.groupby('name_title2')['age'].transform()"
   ]
  },
  {
   "cell_type": "markdown",
   "id": "f32613fe-8641-4a7b-b0f0-1a4cee202ffd",
   "metadata": {},
   "source": [
    "* 1) 컬럼명을 메서드 밖에서 명시"
   ]
  },
  {
   "cell_type": "code",
   "execution_count": 41,
   "id": "569b3aee-f8f3-422c-9ef0-133780a801de",
   "metadata": {
    "tags": []
   },
   "outputs": [],
   "source": [
    "traincp = train.copy()"
   ]
  },
  {
   "cell_type": "code",
   "execution_count": 42,
   "id": "5b6c32a9-cd7b-4770-81e4-c8f0b75a2d05",
   "metadata": {
    "tags": []
   },
   "outputs": [
    {
     "data": {
      "text/plain": [
       "name_title2\n",
       "Dr        44.0\n",
       "Master     2.0\n",
       "Miss      26.0\n",
       "Mr        22.0\n",
       "Mrs       38.0\n",
       "Name: age, dtype: float64"
      ]
     },
     "execution_count": 42,
     "metadata": {},
     "output_type": "execute_result"
    }
   ],
   "source": [
    "traincp.groupby('name_title2')['age'].first()"
   ]
  },
  {
   "cell_type": "code",
   "execution_count": 43,
   "id": "6f3fe39f-fbcb-4f17-ad38-f2974e874342",
   "metadata": {
    "tags": []
   },
   "outputs": [
    {
     "data": {
      "text/plain": [
       "name_title2     \n",
       "Dr           245    43.0\n",
       "             317    53.0\n",
       "             398    22.0\n",
       "             632    31.0\n",
       "             660    49.0\n",
       "                    ... \n",
       "Mrs          871    46.0\n",
       "             874    27.0\n",
       "             879    55.0\n",
       "             880    24.0\n",
       "             885    38.0\n",
       "Name: age, Length: 891, dtype: float64"
      ]
     },
     "execution_count": 43,
     "metadata": {},
     "output_type": "execute_result"
    }
   ],
   "source": [
    "def age_minus(x):\n",
    "    return x - 1\n",
    "\n",
    "# traincp.groupby('name_title2')['age'].apply(age_minus)  \n",
    "traincp.groupby('name_title2', group_keys=True)['age'].apply(age_minus) "
   ]
  },
  {
   "cell_type": "code",
   "execution_count": 44,
   "id": "bcd8b601-1cf0-4754-9d3d-972a5e594710",
   "metadata": {
    "tags": []
   },
   "outputs": [
    {
     "data": {
      "text/plain": [
       "0      21.0\n",
       "1      37.0\n",
       "2      25.0\n",
       "3      34.0\n",
       "4      34.0\n",
       "       ... \n",
       "886    26.0\n",
       "887    18.0\n",
       "888     NaN\n",
       "889    25.0\n",
       "890    31.0\n",
       "Name: age, Length: 891, dtype: float64"
      ]
     },
     "execution_count": 44,
     "metadata": {},
     "output_type": "execute_result"
    }
   ],
   "source": [
    "traincp.groupby('name_title2', group_keys=True)['age'].transform(age_minus)"
   ]
  },
  {
   "cell_type": "markdown",
   "id": "20052d6f-ce2f-4aa7-9115-ab0825f4e8f7",
   "metadata": {},
   "source": [
    "* 2) 컬럼명을 메서드 안에서 명시"
   ]
  },
  {
   "cell_type": "code",
   "execution_count": 45,
   "id": "e8ae2a93-4013-419e-8d68-bc26977cadbe",
   "metadata": {
    "tags": []
   },
   "outputs": [
    {
     "data": {
      "text/plain": [
       "name_title2     \n",
       "Dr           245    43.0\n",
       "             317    53.0\n",
       "             398    22.0\n",
       "             632    31.0\n",
       "             660    49.0\n",
       "                    ... \n",
       "Mrs          871    46.0\n",
       "             874    27.0\n",
       "             879    55.0\n",
       "             880    24.0\n",
       "             885    38.0\n",
       "Name: age, Length: 891, dtype: float64"
      ]
     },
     "execution_count": 45,
     "metadata": {},
     "output_type": "execute_result"
    }
   ],
   "source": [
    "def age_minus(x):\n",
    "    return x - 1\n",
    "\n",
    "# traincp.groupby('name_title2').apply(lambda gx : age_minus(gx['age']))\n",
    "traincp.groupby('name_title2', group_keys=True)['age'].apply(age_minus) "
   ]
  },
  {
   "cell_type": "code",
   "execution_count": 46,
   "id": "8fd6e9d3-d304-4ff9-84f9-bcf2da01cb52",
   "metadata": {
    "tags": []
   },
   "outputs": [],
   "source": [
    "#--------------------\n",
    "# Transform은 컬럼은 메서드 안에 넣으면 Error남\n",
    "# --------------------\n",
    "# def age_minus(x):\n",
    "#     return x - 1\n",
    "\n",
    "# traincp.groupby('name_title2').transform(lambda gx : age_minus(gx['age']))"
   ]
  },
  {
   "cell_type": "markdown",
   "id": "451d0b15-e065-4c45-a023-dda6aeb7a689",
   "metadata": {},
   "source": [
    "* 3) 컬럼명을 메서드 안과 밖에 모두 명시\n",
    "    * 즉 컬럼명 쓰지 않는 경우"
   ]
  },
  {
   "cell_type": "code",
   "execution_count": 47,
   "id": "3635febd-72d3-40e0-92a6-6f675555dfe9",
   "metadata": {
    "tags": []
   },
   "outputs": [],
   "source": [
    "#----------------\n",
    "# 연산이 되지 않는 컬럼들이 있어 apply는 error가 남\n",
    "# -----------------\n",
    "# def age_minus(x):\n",
    "#     return x - 1\n",
    "\n",
    "# traincp.groupby('name_title2').apply(age_minus)"
   ]
  },
  {
   "cell_type": "code",
   "execution_count": 48,
   "id": "64700471-5e6c-42da-8389-5ea5bebba369",
   "metadata": {
    "tags": []
   },
   "outputs": [
    {
     "data": {
      "text/html": [
       "<div>\n",
       "<style scoped>\n",
       "    .dataframe tbody tr th:only-of-type {\n",
       "        vertical-align: middle;\n",
       "    }\n",
       "\n",
       "    .dataframe tbody tr th {\n",
       "        vertical-align: top;\n",
       "    }\n",
       "\n",
       "    .dataframe thead th {\n",
       "        text-align: right;\n",
       "    }\n",
       "</style>\n",
       "<table border=\"1\" class=\"dataframe\">\n",
       "  <thead>\n",
       "    <tr style=\"text-align: right;\">\n",
       "      <th></th>\n",
       "      <th>survived</th>\n",
       "      <th>pclass</th>\n",
       "      <th>age</th>\n",
       "      <th>sibsp</th>\n",
       "      <th>parch</th>\n",
       "      <th>fare</th>\n",
       "    </tr>\n",
       "  </thead>\n",
       "  <tbody>\n",
       "    <tr>\n",
       "      <th>0</th>\n",
       "      <td>-1</td>\n",
       "      <td>2</td>\n",
       "      <td>21.0</td>\n",
       "      <td>0</td>\n",
       "      <td>-1</td>\n",
       "      <td>6.2500</td>\n",
       "    </tr>\n",
       "    <tr>\n",
       "      <th>1</th>\n",
       "      <td>0</td>\n",
       "      <td>0</td>\n",
       "      <td>37.0</td>\n",
       "      <td>0</td>\n",
       "      <td>-1</td>\n",
       "      <td>70.2833</td>\n",
       "    </tr>\n",
       "    <tr>\n",
       "      <th>2</th>\n",
       "      <td>0</td>\n",
       "      <td>2</td>\n",
       "      <td>25.0</td>\n",
       "      <td>-1</td>\n",
       "      <td>-1</td>\n",
       "      <td>6.9250</td>\n",
       "    </tr>\n",
       "    <tr>\n",
       "      <th>3</th>\n",
       "      <td>0</td>\n",
       "      <td>0</td>\n",
       "      <td>34.0</td>\n",
       "      <td>0</td>\n",
       "      <td>-1</td>\n",
       "      <td>52.1000</td>\n",
       "    </tr>\n",
       "    <tr>\n",
       "      <th>4</th>\n",
       "      <td>-1</td>\n",
       "      <td>2</td>\n",
       "      <td>34.0</td>\n",
       "      <td>-1</td>\n",
       "      <td>-1</td>\n",
       "      <td>7.0500</td>\n",
       "    </tr>\n",
       "    <tr>\n",
       "      <th>...</th>\n",
       "      <td>...</td>\n",
       "      <td>...</td>\n",
       "      <td>...</td>\n",
       "      <td>...</td>\n",
       "      <td>...</td>\n",
       "      <td>...</td>\n",
       "    </tr>\n",
       "    <tr>\n",
       "      <th>886</th>\n",
       "      <td>-1</td>\n",
       "      <td>1</td>\n",
       "      <td>26.0</td>\n",
       "      <td>-1</td>\n",
       "      <td>-1</td>\n",
       "      <td>12.0000</td>\n",
       "    </tr>\n",
       "    <tr>\n",
       "      <th>887</th>\n",
       "      <td>0</td>\n",
       "      <td>0</td>\n",
       "      <td>18.0</td>\n",
       "      <td>-1</td>\n",
       "      <td>-1</td>\n",
       "      <td>29.0000</td>\n",
       "    </tr>\n",
       "    <tr>\n",
       "      <th>888</th>\n",
       "      <td>-1</td>\n",
       "      <td>2</td>\n",
       "      <td>NaN</td>\n",
       "      <td>0</td>\n",
       "      <td>1</td>\n",
       "      <td>22.4500</td>\n",
       "    </tr>\n",
       "    <tr>\n",
       "      <th>889</th>\n",
       "      <td>0</td>\n",
       "      <td>0</td>\n",
       "      <td>25.0</td>\n",
       "      <td>-1</td>\n",
       "      <td>-1</td>\n",
       "      <td>29.0000</td>\n",
       "    </tr>\n",
       "    <tr>\n",
       "      <th>890</th>\n",
       "      <td>-1</td>\n",
       "      <td>2</td>\n",
       "      <td>31.0</td>\n",
       "      <td>-1</td>\n",
       "      <td>-1</td>\n",
       "      <td>6.7500</td>\n",
       "    </tr>\n",
       "  </tbody>\n",
       "</table>\n",
       "<p>891 rows × 6 columns</p>\n",
       "</div>"
      ],
      "text/plain": [
       "     survived  pclass   age  sibsp  parch     fare\n",
       "0          -1       2  21.0      0     -1   6.2500\n",
       "1           0       0  37.0      0     -1  70.2833\n",
       "2           0       2  25.0     -1     -1   6.9250\n",
       "3           0       0  34.0      0     -1  52.1000\n",
       "4          -1       2  34.0     -1     -1   7.0500\n",
       "..        ...     ...   ...    ...    ...      ...\n",
       "886        -1       1  26.0     -1     -1  12.0000\n",
       "887         0       0  18.0     -1     -1  29.0000\n",
       "888        -1       2   NaN      0      1  22.4500\n",
       "889         0       0  25.0     -1     -1  29.0000\n",
       "890        -1       2  31.0     -1     -1   6.7500\n",
       "\n",
       "[891 rows x 6 columns]"
      ]
     },
     "execution_count": 48,
     "metadata": {},
     "output_type": "execute_result"
    }
   ],
   "source": [
    "# -----------------------------\n",
    "# Transform은 연산이 되는 컬럼만 골라서 표시함\n",
    "# 자동 필터링한다.\n",
    "# ------------------------------\n",
    "def age_minus(x):\n",
    "    return x - 1\n",
    "\n",
    "traincp.groupby('name_title2', group_keys=True).transform(age_minus)"
   ]
  },
  {
   "cell_type": "markdown",
   "id": "5a6f2dd5-18ee-4f48-9034-04198de51fcb",
   "metadata": {},
   "source": [
    "* 4) 연산 가능한 컬럼만 함수 적용"
   ]
  },
  {
   "cell_type": "code",
   "execution_count": 49,
   "id": "995aa412-37c5-476b-a0c2-9a2cc22a2389",
   "metadata": {
    "tags": []
   },
   "outputs": [
    {
     "data": {
      "text/plain": [
       "name_title2     \n",
       "Dr           245    44.0\n",
       "             317    54.0\n",
       "             398    23.0\n",
       "             632    32.0\n",
       "             660    50.0\n",
       "                    ... \n",
       "Mrs          871    47.0\n",
       "             874    28.0\n",
       "             879    56.0\n",
       "             880    25.0\n",
       "             885    39.0\n",
       "Name: age, Length: 891, dtype: float64"
      ]
     },
     "execution_count": 49,
     "metadata": {},
     "output_type": "execute_result"
    }
   ],
   "source": [
    "traincp2 = traincp.groupby('name_title2', group_keys=True)\n",
    "traincp2['age'].apply(lambda g: g.fillna(g.mean()))"
   ]
  },
  {
   "cell_type": "code",
   "execution_count": 50,
   "id": "5ab93759-4068-4b18-b62a-cc448b862411",
   "metadata": {
    "tags": []
   },
   "outputs": [
    {
     "data": {
      "text/plain": [
       "0      22.00\n",
       "1      38.00\n",
       "2      26.00\n",
       "3      35.00\n",
       "4      35.00\n",
       "       ...  \n",
       "886    27.00\n",
       "887    19.00\n",
       "888    22.02\n",
       "889    26.00\n",
       "890    32.00\n",
       "Name: age, Length: 891, dtype: float64"
      ]
     },
     "execution_count": 50,
     "metadata": {},
     "output_type": "execute_result"
    }
   ],
   "source": [
    "traincp2 = traincp.groupby('name_title2', group_keys=True)\n",
    "traincp2['age'].transform(lambda g: g.fillna(g.mean()))"
   ]
  },
  {
   "cell_type": "code",
   "execution_count": 51,
   "id": "7af1c5e7-bf04-41ac-a554-7cd7d55bc91a",
   "metadata": {
    "tags": []
   },
   "outputs": [],
   "source": [
    "del traincp"
   ]
  },
  {
   "cell_type": "markdown",
   "id": "8a8fb1e1-6073-41f1-9465-17d12b367f5a",
   "metadata": {},
   "source": [
    "<b>++ 추가 예제"
   ]
  },
  {
   "cell_type": "code",
   "execution_count": 52,
   "id": "740bbc9b-0d4a-4938-a967-23626a80ef1f",
   "metadata": {
    "tags": []
   },
   "outputs": [
    {
     "data": {
      "text/html": [
       "<div>\n",
       "<style scoped>\n",
       "    .dataframe tbody tr th:only-of-type {\n",
       "        vertical-align: middle;\n",
       "    }\n",
       "\n",
       "    .dataframe tbody tr th {\n",
       "        vertical-align: top;\n",
       "    }\n",
       "\n",
       "    .dataframe thead th {\n",
       "        text-align: right;\n",
       "    }\n",
       "</style>\n",
       "<table border=\"1\" class=\"dataframe\">\n",
       "  <thead>\n",
       "    <tr style=\"text-align: right;\">\n",
       "      <th></th>\n",
       "      <th>empno</th>\n",
       "      <th>ename</th>\n",
       "      <th>job</th>\n",
       "      <th>mgr</th>\n",
       "      <th>hiredate</th>\n",
       "      <th>sal</th>\n",
       "      <th>comm</th>\n",
       "      <th>deptno</th>\n",
       "    </tr>\n",
       "  </thead>\n",
       "  <tbody>\n",
       "    <tr>\n",
       "      <th>0</th>\n",
       "      <td>7369</td>\n",
       "      <td>SMITH</td>\n",
       "      <td>CLERK</td>\n",
       "      <td>7902.0</td>\n",
       "      <td>1980-12-17 00:00:00</td>\n",
       "      <td>800</td>\n",
       "      <td>NaN</td>\n",
       "      <td>20</td>\n",
       "    </tr>\n",
       "    <tr>\n",
       "      <th>1</th>\n",
       "      <td>7499</td>\n",
       "      <td>ALLEN</td>\n",
       "      <td>SALESMAN</td>\n",
       "      <td>7698.0</td>\n",
       "      <td>1981-02-20 00:00:00</td>\n",
       "      <td>1600</td>\n",
       "      <td>300.0</td>\n",
       "      <td>30</td>\n",
       "    </tr>\n",
       "  </tbody>\n",
       "</table>\n",
       "</div>"
      ],
      "text/plain": [
       "   empno  ename       job     mgr             hiredate   sal   comm  deptno\n",
       "0   7369  SMITH     CLERK  7902.0  1980-12-17 00:00:00   800    NaN      20\n",
       "1   7499  ALLEN  SALESMAN  7698.0  1981-02-20 00:00:00  1600  300.0      30"
      ]
     },
     "execution_count": 52,
     "metadata": {},
     "output_type": "execute_result"
    }
   ],
   "source": [
    "emp = pd.read_csv('./lec08_emp.csv')\n",
    "emp.columns = emp.columns.str.lower()\n",
    "emp.head(2)"
   ]
  },
  {
   "cell_type": "code",
   "execution_count": 53,
   "id": "5b11f510-aee9-40c0-9a85-03ae66e3ad14",
   "metadata": {
    "tags": []
   },
   "outputs": [
    {
     "data": {
      "text/plain": [
       "deptno\n",
       "10    2916.666667\n",
       "20    2175.000000\n",
       "30    1566.666667\n",
       "Name: sal, dtype: float64"
      ]
     },
     "execution_count": 53,
     "metadata": {},
     "output_type": "execute_result"
    }
   ],
   "source": [
    "# 부서별 평균급여\n",
    "emp.groupby(\"deptno\")['sal'].mean()"
   ]
  },
  {
   "cell_type": "code",
   "execution_count": 54,
   "id": "34b95ebe-882e-4d13-a413-d2729aa5c316",
   "metadata": {
    "tags": []
   },
   "outputs": [
    {
     "data": {
      "text/plain": [
       "6     2450\n",
       "8     5000\n",
       "13    1300\n",
       "Name: sal, dtype: int64"
      ]
     },
     "execution_count": 54,
     "metadata": {},
     "output_type": "execute_result"
    }
   ],
   "source": [
    "# 10번 부서만의 급여\n",
    "emp['sal'][emp['deptno']==10]"
   ]
  },
  {
   "cell_type": "code",
   "execution_count": 55,
   "id": "5b95d6b9-eff4-4ad5-8abc-2f8593a848bf",
   "metadata": {
    "tags": []
   },
   "outputs": [
    {
     "data": {
      "text/html": [
       "<div>\n",
       "<style scoped>\n",
       "    .dataframe tbody tr th:only-of-type {\n",
       "        vertical-align: middle;\n",
       "    }\n",
       "\n",
       "    .dataframe tbody tr th {\n",
       "        vertical-align: top;\n",
       "    }\n",
       "\n",
       "    .dataframe thead th {\n",
       "        text-align: right;\n",
       "    }\n",
       "</style>\n",
       "<table border=\"1\" class=\"dataframe\">\n",
       "  <thead>\n",
       "    <tr style=\"text-align: right;\">\n",
       "      <th></th>\n",
       "      <th>empno</th>\n",
       "      <th>mgr</th>\n",
       "      <th>sal</th>\n",
       "      <th>comm</th>\n",
       "      <th>deptno</th>\n",
       "    </tr>\n",
       "    <tr>\n",
       "      <th>deptno</th>\n",
       "      <th></th>\n",
       "      <th></th>\n",
       "      <th></th>\n",
       "      <th></th>\n",
       "      <th></th>\n",
       "    </tr>\n",
       "  </thead>\n",
       "  <tbody>\n",
       "    <tr>\n",
       "      <th>10</th>\n",
       "      <td>7851.666667</td>\n",
       "      <td>7810.5</td>\n",
       "      <td>2916.666667</td>\n",
       "      <td>NaN</td>\n",
       "      <td>10.0</td>\n",
       "    </tr>\n",
       "    <tr>\n",
       "      <th>20</th>\n",
       "      <td>7700.200000</td>\n",
       "      <td>7732.2</td>\n",
       "      <td>2175.000000</td>\n",
       "      <td>NaN</td>\n",
       "      <td>20.0</td>\n",
       "    </tr>\n",
       "    <tr>\n",
       "      <th>30</th>\n",
       "      <td>7686.000000</td>\n",
       "      <td>7721.5</td>\n",
       "      <td>1566.666667</td>\n",
       "      <td>550.0</td>\n",
       "      <td>30.0</td>\n",
       "    </tr>\n",
       "  </tbody>\n",
       "</table>\n",
       "</div>"
      ],
      "text/plain": [
       "              empno     mgr          sal   comm  deptno\n",
       "deptno                                                 \n",
       "10      7851.666667  7810.5  2916.666667    NaN    10.0\n",
       "20      7700.200000  7732.2  2175.000000    NaN    20.0\n",
       "30      7686.000000  7721.5  1566.666667  550.0    30.0"
      ]
     },
     "execution_count": 55,
     "metadata": {},
     "output_type": "execute_result"
    }
   ],
   "source": [
    "emp.groupby(\"deptno\").apply(np.mean)"
   ]
  },
  {
   "cell_type": "code",
   "execution_count": 56,
   "id": "b6bc0e75-299d-4c90-8066-d1d2f9d514fe",
   "metadata": {
    "tags": []
   },
   "outputs": [
    {
     "data": {
      "text/html": [
       "<div>\n",
       "<style scoped>\n",
       "    .dataframe tbody tr th:only-of-type {\n",
       "        vertical-align: middle;\n",
       "    }\n",
       "\n",
       "    .dataframe tbody tr th {\n",
       "        vertical-align: top;\n",
       "    }\n",
       "\n",
       "    .dataframe thead th {\n",
       "        text-align: right;\n",
       "    }\n",
       "</style>\n",
       "<table border=\"1\" class=\"dataframe\">\n",
       "  <thead>\n",
       "    <tr style=\"text-align: right;\">\n",
       "      <th></th>\n",
       "      <th>empno</th>\n",
       "      <th>mgr</th>\n",
       "      <th>sal</th>\n",
       "      <th>comm</th>\n",
       "    </tr>\n",
       "  </thead>\n",
       "  <tbody>\n",
       "    <tr>\n",
       "      <th>0</th>\n",
       "      <td>7700.200000</td>\n",
       "      <td>7732.2</td>\n",
       "      <td>2175.000000</td>\n",
       "      <td>NaN</td>\n",
       "    </tr>\n",
       "    <tr>\n",
       "      <th>1</th>\n",
       "      <td>7686.000000</td>\n",
       "      <td>7721.5</td>\n",
       "      <td>1566.666667</td>\n",
       "      <td>550.0</td>\n",
       "    </tr>\n",
       "    <tr>\n",
       "      <th>2</th>\n",
       "      <td>7686.000000</td>\n",
       "      <td>7721.5</td>\n",
       "      <td>1566.666667</td>\n",
       "      <td>550.0</td>\n",
       "    </tr>\n",
       "    <tr>\n",
       "      <th>3</th>\n",
       "      <td>7700.200000</td>\n",
       "      <td>7732.2</td>\n",
       "      <td>2175.000000</td>\n",
       "      <td>NaN</td>\n",
       "    </tr>\n",
       "    <tr>\n",
       "      <th>4</th>\n",
       "      <td>7686.000000</td>\n",
       "      <td>7721.5</td>\n",
       "      <td>1566.666667</td>\n",
       "      <td>550.0</td>\n",
       "    </tr>\n",
       "    <tr>\n",
       "      <th>5</th>\n",
       "      <td>7686.000000</td>\n",
       "      <td>7721.5</td>\n",
       "      <td>1566.666667</td>\n",
       "      <td>550.0</td>\n",
       "    </tr>\n",
       "    <tr>\n",
       "      <th>6</th>\n",
       "      <td>7851.666667</td>\n",
       "      <td>7810.5</td>\n",
       "      <td>2916.666667</td>\n",
       "      <td>NaN</td>\n",
       "    </tr>\n",
       "    <tr>\n",
       "      <th>7</th>\n",
       "      <td>7700.200000</td>\n",
       "      <td>7732.2</td>\n",
       "      <td>2175.000000</td>\n",
       "      <td>NaN</td>\n",
       "    </tr>\n",
       "    <tr>\n",
       "      <th>8</th>\n",
       "      <td>7851.666667</td>\n",
       "      <td>7810.5</td>\n",
       "      <td>2916.666667</td>\n",
       "      <td>NaN</td>\n",
       "    </tr>\n",
       "    <tr>\n",
       "      <th>9</th>\n",
       "      <td>7686.000000</td>\n",
       "      <td>7721.5</td>\n",
       "      <td>1566.666667</td>\n",
       "      <td>550.0</td>\n",
       "    </tr>\n",
       "    <tr>\n",
       "      <th>10</th>\n",
       "      <td>7700.200000</td>\n",
       "      <td>7732.2</td>\n",
       "      <td>2175.000000</td>\n",
       "      <td>NaN</td>\n",
       "    </tr>\n",
       "    <tr>\n",
       "      <th>11</th>\n",
       "      <td>7686.000000</td>\n",
       "      <td>7721.5</td>\n",
       "      <td>1566.666667</td>\n",
       "      <td>550.0</td>\n",
       "    </tr>\n",
       "    <tr>\n",
       "      <th>12</th>\n",
       "      <td>7700.200000</td>\n",
       "      <td>7732.2</td>\n",
       "      <td>2175.000000</td>\n",
       "      <td>NaN</td>\n",
       "    </tr>\n",
       "    <tr>\n",
       "      <th>13</th>\n",
       "      <td>7851.666667</td>\n",
       "      <td>7810.5</td>\n",
       "      <td>2916.666667</td>\n",
       "      <td>NaN</td>\n",
       "    </tr>\n",
       "  </tbody>\n",
       "</table>\n",
       "</div>"
      ],
      "text/plain": [
       "          empno     mgr          sal   comm\n",
       "0   7700.200000  7732.2  2175.000000    NaN\n",
       "1   7686.000000  7721.5  1566.666667  550.0\n",
       "2   7686.000000  7721.5  1566.666667  550.0\n",
       "3   7700.200000  7732.2  2175.000000    NaN\n",
       "4   7686.000000  7721.5  1566.666667  550.0\n",
       "5   7686.000000  7721.5  1566.666667  550.0\n",
       "6   7851.666667  7810.5  2916.666667    NaN\n",
       "7   7700.200000  7732.2  2175.000000    NaN\n",
       "8   7851.666667  7810.5  2916.666667    NaN\n",
       "9   7686.000000  7721.5  1566.666667  550.0\n",
       "10  7700.200000  7732.2  2175.000000    NaN\n",
       "11  7686.000000  7721.5  1566.666667  550.0\n",
       "12  7700.200000  7732.2  2175.000000    NaN\n",
       "13  7851.666667  7810.5  2916.666667    NaN"
      ]
     },
     "execution_count": 56,
     "metadata": {},
     "output_type": "execute_result"
    }
   ],
   "source": [
    "# 값들을 모두 평균값으로 대체한다.\n",
    "# 결과는 원본 유형 그대로 return\n",
    "emp.groupby(\"deptno\").transform(np.mean)"
   ]
  },
  {
   "cell_type": "markdown",
   "id": "10240c34-dcbb-4962-8a61-f9c9d25a6bad",
   "metadata": {
    "tags": []
   },
   "source": [
    "* fillna()에 결측처리하려는 컬럼의 index개수, 값과 동일한 Serise를 만들어서 입력으로 넣어주면 해당 index는 해당 값으로 각각 처리가능하다."
   ]
  },
  {
   "cell_type": "code",
   "execution_count": 57,
   "id": "cf9b365c-6b6d-4950-96c2-b147a01f6ad1",
   "metadata": {
    "tags": []
   },
   "outputs": [
    {
     "data": {
      "text/plain": [
       "14"
      ]
     },
     "execution_count": 57,
     "metadata": {},
     "output_type": "execute_result"
    }
   ],
   "source": [
    "temp_list = []\n",
    "for i in range(1, 15):\n",
    "    temp_list.append(i)\n",
    "len(temp_list)"
   ]
  },
  {
   "cell_type": "code",
   "execution_count": 58,
   "id": "9d406349-2b13-4325-8f58-73afe76ddf18",
   "metadata": {
    "tags": []
   },
   "outputs": [
    {
     "data": {
      "text/html": [
       "<div>\n",
       "<style scoped>\n",
       "    .dataframe tbody tr th:only-of-type {\n",
       "        vertical-align: middle;\n",
       "    }\n",
       "\n",
       "    .dataframe tbody tr th {\n",
       "        vertical-align: top;\n",
       "    }\n",
       "\n",
       "    .dataframe thead th {\n",
       "        text-align: right;\n",
       "    }\n",
       "</style>\n",
       "<table border=\"1\" class=\"dataframe\">\n",
       "  <thead>\n",
       "    <tr style=\"text-align: right;\">\n",
       "      <th></th>\n",
       "      <th>empno</th>\n",
       "      <th>ename</th>\n",
       "      <th>job</th>\n",
       "      <th>mgr</th>\n",
       "      <th>hiredate</th>\n",
       "      <th>sal</th>\n",
       "      <th>comm</th>\n",
       "      <th>deptno</th>\n",
       "    </tr>\n",
       "  </thead>\n",
       "  <tbody>\n",
       "    <tr>\n",
       "      <th>0</th>\n",
       "      <td>7369</td>\n",
       "      <td>SMITH</td>\n",
       "      <td>CLERK</td>\n",
       "      <td>7902.0</td>\n",
       "      <td>1980-12-17 00:00:00</td>\n",
       "      <td>800</td>\n",
       "      <td>1.0</td>\n",
       "      <td>20</td>\n",
       "    </tr>\n",
       "    <tr>\n",
       "      <th>1</th>\n",
       "      <td>7499</td>\n",
       "      <td>ALLEN</td>\n",
       "      <td>SALESMAN</td>\n",
       "      <td>7698.0</td>\n",
       "      <td>1981-02-20 00:00:00</td>\n",
       "      <td>1600</td>\n",
       "      <td>300.0</td>\n",
       "      <td>30</td>\n",
       "    </tr>\n",
       "    <tr>\n",
       "      <th>2</th>\n",
       "      <td>7521</td>\n",
       "      <td>WARD</td>\n",
       "      <td>SALESMAN</td>\n",
       "      <td>7698.0</td>\n",
       "      <td>1981-02-22 00:00:00</td>\n",
       "      <td>1250</td>\n",
       "      <td>500.0</td>\n",
       "      <td>30</td>\n",
       "    </tr>\n",
       "    <tr>\n",
       "      <th>3</th>\n",
       "      <td>7566</td>\n",
       "      <td>JONES</td>\n",
       "      <td>MANAGER</td>\n",
       "      <td>7839.0</td>\n",
       "      <td>1981-04-02 00:00:00</td>\n",
       "      <td>2975</td>\n",
       "      <td>4.0</td>\n",
       "      <td>20</td>\n",
       "    </tr>\n",
       "    <tr>\n",
       "      <th>4</th>\n",
       "      <td>7654</td>\n",
       "      <td>MARTIN</td>\n",
       "      <td>SALESMAN</td>\n",
       "      <td>7698.0</td>\n",
       "      <td>1981-09-28 00:00:00</td>\n",
       "      <td>1250</td>\n",
       "      <td>1400.0</td>\n",
       "      <td>30</td>\n",
       "    </tr>\n",
       "    <tr>\n",
       "      <th>5</th>\n",
       "      <td>7698</td>\n",
       "      <td>BLAKE</td>\n",
       "      <td>MANAGER</td>\n",
       "      <td>7839.0</td>\n",
       "      <td>1981-05-01 00:00:00</td>\n",
       "      <td>2850</td>\n",
       "      <td>6.0</td>\n",
       "      <td>30</td>\n",
       "    </tr>\n",
       "    <tr>\n",
       "      <th>6</th>\n",
       "      <td>7782</td>\n",
       "      <td>CCC</td>\n",
       "      <td>MANAGER</td>\n",
       "      <td>7839.0</td>\n",
       "      <td>1981-06-09 00:00:00</td>\n",
       "      <td>2450</td>\n",
       "      <td>7.0</td>\n",
       "      <td>10</td>\n",
       "    </tr>\n",
       "    <tr>\n",
       "      <th>7</th>\n",
       "      <td>7788</td>\n",
       "      <td>SCOTT</td>\n",
       "      <td>ANALYST</td>\n",
       "      <td>7566.0</td>\n",
       "      <td>1987-07-13 00:00:00</td>\n",
       "      <td>3000</td>\n",
       "      <td>8.0</td>\n",
       "      <td>20</td>\n",
       "    </tr>\n",
       "    <tr>\n",
       "      <th>8</th>\n",
       "      <td>7839</td>\n",
       "      <td>KING</td>\n",
       "      <td>PRESIDENT</td>\n",
       "      <td>NaN</td>\n",
       "      <td>1981-11-17 00:00:00</td>\n",
       "      <td>5000</td>\n",
       "      <td>9.0</td>\n",
       "      <td>10</td>\n",
       "    </tr>\n",
       "    <tr>\n",
       "      <th>9</th>\n",
       "      <td>7844</td>\n",
       "      <td>TURNER</td>\n",
       "      <td>SALESMAN</td>\n",
       "      <td>7698.0</td>\n",
       "      <td>1981-09-08 00:00:00</td>\n",
       "      <td>1500</td>\n",
       "      <td>0.0</td>\n",
       "      <td>30</td>\n",
       "    </tr>\n",
       "    <tr>\n",
       "      <th>10</th>\n",
       "      <td>7876</td>\n",
       "      <td>ADAMS</td>\n",
       "      <td>CLERK</td>\n",
       "      <td>7788.0</td>\n",
       "      <td>1987-07-13 00:00:00</td>\n",
       "      <td>1100</td>\n",
       "      <td>11.0</td>\n",
       "      <td>20</td>\n",
       "    </tr>\n",
       "    <tr>\n",
       "      <th>11</th>\n",
       "      <td>7900</td>\n",
       "      <td>JAMES</td>\n",
       "      <td>CLERK</td>\n",
       "      <td>7698.0</td>\n",
       "      <td>1981-12-03 00:00:00</td>\n",
       "      <td>950</td>\n",
       "      <td>12.0</td>\n",
       "      <td>30</td>\n",
       "    </tr>\n",
       "    <tr>\n",
       "      <th>12</th>\n",
       "      <td>7902</td>\n",
       "      <td>FORD</td>\n",
       "      <td>ANALYST</td>\n",
       "      <td>7566.0</td>\n",
       "      <td>1981-12-03 00:00:00</td>\n",
       "      <td>3000</td>\n",
       "      <td>13.0</td>\n",
       "      <td>20</td>\n",
       "    </tr>\n",
       "    <tr>\n",
       "      <th>13</th>\n",
       "      <td>7934</td>\n",
       "      <td>MILLER</td>\n",
       "      <td>CLERK</td>\n",
       "      <td>7782.0</td>\n",
       "      <td>1982-01-23 00:00:00</td>\n",
       "      <td>1300</td>\n",
       "      <td>14.0</td>\n",
       "      <td>10</td>\n",
       "    </tr>\n",
       "  </tbody>\n",
       "</table>\n",
       "</div>"
      ],
      "text/plain": [
       "    empno   ename        job     mgr             hiredate   sal    comm  \\\n",
       "0    7369   SMITH      CLERK  7902.0  1980-12-17 00:00:00   800     1.0   \n",
       "1    7499   ALLEN   SALESMAN  7698.0  1981-02-20 00:00:00  1600   300.0   \n",
       "2    7521    WARD   SALESMAN  7698.0  1981-02-22 00:00:00  1250   500.0   \n",
       "3    7566   JONES    MANAGER  7839.0  1981-04-02 00:00:00  2975     4.0   \n",
       "4    7654  MARTIN   SALESMAN  7698.0  1981-09-28 00:00:00  1250  1400.0   \n",
       "5    7698   BLAKE    MANAGER  7839.0  1981-05-01 00:00:00  2850     6.0   \n",
       "6    7782     CCC    MANAGER  7839.0  1981-06-09 00:00:00  2450     7.0   \n",
       "7    7788   SCOTT    ANALYST  7566.0  1987-07-13 00:00:00  3000     8.0   \n",
       "8    7839    KING  PRESIDENT     NaN  1981-11-17 00:00:00  5000     9.0   \n",
       "9    7844  TURNER   SALESMAN  7698.0  1981-09-08 00:00:00  1500     0.0   \n",
       "10   7876   ADAMS      CLERK  7788.0  1987-07-13 00:00:00  1100    11.0   \n",
       "11   7900   JAMES      CLERK  7698.0  1981-12-03 00:00:00   950    12.0   \n",
       "12   7902    FORD    ANALYST  7566.0  1981-12-03 00:00:00  3000    13.0   \n",
       "13   7934  MILLER      CLERK  7782.0  1982-01-23 00:00:00  1300    14.0   \n",
       "\n",
       "    deptno  \n",
       "0       20  \n",
       "1       30  \n",
       "2       30  \n",
       "3       20  \n",
       "4       30  \n",
       "5       30  \n",
       "6       10  \n",
       "7       20  \n",
       "8       10  \n",
       "9       30  \n",
       "10      20  \n",
       "11      30  \n",
       "12      20  \n",
       "13      10  "
      ]
     },
     "execution_count": 58,
     "metadata": {},
     "output_type": "execute_result"
    }
   ],
   "source": [
    "temp_series = pd.Series(temp_list, index=emp.index.values)\n",
    "emp['comm'] = emp['comm'].fillna(temp_series)\n",
    "emp"
   ]
  },
  {
   "cell_type": "markdown",
   "id": "080e5091-2959-44b9-8f35-7e06ee72ef7a",
   "metadata": {},
   "source": [
    "### 원본 age 데이터 결측 처리"
   ]
  },
  {
   "cell_type": "code",
   "execution_count": 59,
   "id": "991f38dd-4282-4ec5-821e-a619f9eaf89f",
   "metadata": {
    "tags": []
   },
   "outputs": [
    {
     "data": {
      "text/plain": [
       "name_title2\n",
       "Dr        42.000000\n",
       "Master     4.574167\n",
       "Miss      22.020000\n",
       "Mr        32.891990\n",
       "Mrs       35.763636\n",
       "Name: age, dtype: float64"
      ]
     },
     "execution_count": 59,
     "metadata": {},
     "output_type": "execute_result"
    }
   ],
   "source": [
    "train.groupby('name_title2')['age'].mean()"
   ]
  },
  {
   "cell_type": "code",
   "execution_count": 60,
   "id": "1d58ca2b-ed7e-4c3f-8e95-2725ade37d44",
   "metadata": {
    "tags": []
   },
   "outputs": [
    {
     "data": {
      "text/html": [
       "<div>\n",
       "<style scoped>\n",
       "    .dataframe tbody tr th:only-of-type {\n",
       "        vertical-align: middle;\n",
       "    }\n",
       "\n",
       "    .dataframe tbody tr th {\n",
       "        vertical-align: top;\n",
       "    }\n",
       "\n",
       "    .dataframe thead th {\n",
       "        text-align: right;\n",
       "    }\n",
       "</style>\n",
       "<table border=\"1\" class=\"dataframe\">\n",
       "  <thead>\n",
       "    <tr style=\"text-align: right;\">\n",
       "      <th></th>\n",
       "      <th>name_title2</th>\n",
       "      <th>age</th>\n",
       "      <th>age2</th>\n",
       "    </tr>\n",
       "  </thead>\n",
       "  <tbody>\n",
       "    <tr>\n",
       "      <th>5</th>\n",
       "      <td>Mr</td>\n",
       "      <td>NaN</td>\n",
       "      <td>32.891990</td>\n",
       "    </tr>\n",
       "    <tr>\n",
       "      <th>17</th>\n",
       "      <td>Mr</td>\n",
       "      <td>NaN</td>\n",
       "      <td>32.891990</td>\n",
       "    </tr>\n",
       "    <tr>\n",
       "      <th>19</th>\n",
       "      <td>Mrs</td>\n",
       "      <td>NaN</td>\n",
       "      <td>35.763636</td>\n",
       "    </tr>\n",
       "    <tr>\n",
       "      <th>26</th>\n",
       "      <td>Mr</td>\n",
       "      <td>NaN</td>\n",
       "      <td>32.891990</td>\n",
       "    </tr>\n",
       "    <tr>\n",
       "      <th>28</th>\n",
       "      <td>Miss</td>\n",
       "      <td>NaN</td>\n",
       "      <td>22.020000</td>\n",
       "    </tr>\n",
       "    <tr>\n",
       "      <th>...</th>\n",
       "      <td>...</td>\n",
       "      <td>...</td>\n",
       "      <td>...</td>\n",
       "    </tr>\n",
       "    <tr>\n",
       "      <th>859</th>\n",
       "      <td>Mr</td>\n",
       "      <td>NaN</td>\n",
       "      <td>32.891990</td>\n",
       "    </tr>\n",
       "    <tr>\n",
       "      <th>863</th>\n",
       "      <td>Miss</td>\n",
       "      <td>NaN</td>\n",
       "      <td>22.020000</td>\n",
       "    </tr>\n",
       "    <tr>\n",
       "      <th>868</th>\n",
       "      <td>Mr</td>\n",
       "      <td>NaN</td>\n",
       "      <td>32.891990</td>\n",
       "    </tr>\n",
       "    <tr>\n",
       "      <th>878</th>\n",
       "      <td>Mr</td>\n",
       "      <td>NaN</td>\n",
       "      <td>32.891990</td>\n",
       "    </tr>\n",
       "    <tr>\n",
       "      <th>888</th>\n",
       "      <td>Miss</td>\n",
       "      <td>NaN</td>\n",
       "      <td>22.020000</td>\n",
       "    </tr>\n",
       "  </tbody>\n",
       "</table>\n",
       "<p>177 rows × 3 columns</p>\n",
       "</div>"
      ],
      "text/plain": [
       "    name_title2  age       age2\n",
       "5            Mr  NaN  32.891990\n",
       "17           Mr  NaN  32.891990\n",
       "19          Mrs  NaN  35.763636\n",
       "26           Mr  NaN  32.891990\n",
       "28         Miss  NaN  22.020000\n",
       "..          ...  ...        ...\n",
       "859          Mr  NaN  32.891990\n",
       "863        Miss  NaN  22.020000\n",
       "868          Mr  NaN  32.891990\n",
       "878          Mr  NaN  32.891990\n",
       "888        Miss  NaN  22.020000\n",
       "\n",
       "[177 rows x 3 columns]"
      ]
     },
     "execution_count": 60,
     "metadata": {},
     "output_type": "execute_result"
    }
   ],
   "source": [
    "train['age2'] = train.groupby('name_title2')['age'].transform(lambda g : g.fillna(g.mean()))\n",
    "train[['name_title2','age','age2']][train['age'].isna()]"
   ]
  },
  {
   "cell_type": "code",
   "execution_count": 61,
   "id": "8ab3a76b-4187-4eb5-bb0e-067f60677c89",
   "metadata": {
    "tags": []
   },
   "outputs": [
    {
     "data": {
      "text/html": [
       "<div>\n",
       "<style scoped>\n",
       "    .dataframe tbody tr th:only-of-type {\n",
       "        vertical-align: middle;\n",
       "    }\n",
       "\n",
       "    .dataframe tbody tr th {\n",
       "        vertical-align: top;\n",
       "    }\n",
       "\n",
       "    .dataframe thead th {\n",
       "        text-align: right;\n",
       "    }\n",
       "</style>\n",
       "<table border=\"1\" class=\"dataframe\">\n",
       "  <thead>\n",
       "    <tr style=\"text-align: right;\">\n",
       "      <th></th>\n",
       "      <th>name_title2</th>\n",
       "      <th>age</th>\n",
       "      <th>age2</th>\n",
       "    </tr>\n",
       "  </thead>\n",
       "  <tbody>\n",
       "    <tr>\n",
       "      <th>5</th>\n",
       "      <td>Mr</td>\n",
       "      <td>NaN</td>\n",
       "      <td>32.891990</td>\n",
       "    </tr>\n",
       "    <tr>\n",
       "      <th>17</th>\n",
       "      <td>Mr</td>\n",
       "      <td>NaN</td>\n",
       "      <td>32.891990</td>\n",
       "    </tr>\n",
       "    <tr>\n",
       "      <th>19</th>\n",
       "      <td>Mrs</td>\n",
       "      <td>NaN</td>\n",
       "      <td>35.763636</td>\n",
       "    </tr>\n",
       "    <tr>\n",
       "      <th>26</th>\n",
       "      <td>Mr</td>\n",
       "      <td>NaN</td>\n",
       "      <td>32.891990</td>\n",
       "    </tr>\n",
       "    <tr>\n",
       "      <th>28</th>\n",
       "      <td>Miss</td>\n",
       "      <td>NaN</td>\n",
       "      <td>22.020000</td>\n",
       "    </tr>\n",
       "    <tr>\n",
       "      <th>...</th>\n",
       "      <td>...</td>\n",
       "      <td>...</td>\n",
       "      <td>...</td>\n",
       "    </tr>\n",
       "    <tr>\n",
       "      <th>859</th>\n",
       "      <td>Mr</td>\n",
       "      <td>NaN</td>\n",
       "      <td>32.891990</td>\n",
       "    </tr>\n",
       "    <tr>\n",
       "      <th>863</th>\n",
       "      <td>Miss</td>\n",
       "      <td>NaN</td>\n",
       "      <td>22.020000</td>\n",
       "    </tr>\n",
       "    <tr>\n",
       "      <th>868</th>\n",
       "      <td>Mr</td>\n",
       "      <td>NaN</td>\n",
       "      <td>32.891990</td>\n",
       "    </tr>\n",
       "    <tr>\n",
       "      <th>878</th>\n",
       "      <td>Mr</td>\n",
       "      <td>NaN</td>\n",
       "      <td>32.891990</td>\n",
       "    </tr>\n",
       "    <tr>\n",
       "      <th>888</th>\n",
       "      <td>Miss</td>\n",
       "      <td>NaN</td>\n",
       "      <td>22.020000</td>\n",
       "    </tr>\n",
       "  </tbody>\n",
       "</table>\n",
       "<p>177 rows × 3 columns</p>\n",
       "</div>"
      ],
      "text/plain": [
       "    name_title2  age       age2\n",
       "5            Mr  NaN  32.891990\n",
       "17           Mr  NaN  32.891990\n",
       "19          Mrs  NaN  35.763636\n",
       "26           Mr  NaN  32.891990\n",
       "28         Miss  NaN  22.020000\n",
       "..          ...  ...        ...\n",
       "859          Mr  NaN  32.891990\n",
       "863        Miss  NaN  22.020000\n",
       "868          Mr  NaN  32.891990\n",
       "878          Mr  NaN  32.891990\n",
       "888        Miss  NaN  22.020000\n",
       "\n",
       "[177 rows x 3 columns]"
      ]
     },
     "execution_count": 61,
     "metadata": {},
     "output_type": "execute_result"
    }
   ],
   "source": [
    "# Transform을 fillna 안으로 넣은 경우, 참고\n",
    "# fillna가 row별로 null일때 처리할 값을 모두 준다면 해당 값으로 따로 처리가 되는 듯함.\n",
    "train['age2'] = train['age'].fillna( train.groupby('name_title2', group_keys=True)['age'].transform(\"mean\") )     \n",
    "train[['name_title2','age','age2']] [train['age'].isna()]"
   ]
  },
  {
   "cell_type": "code",
   "execution_count": 62,
   "id": "d06d0a04-96ca-4d90-9fdd-8e1b59a6c070",
   "metadata": {},
   "outputs": [
    {
     "data": {
      "text/plain": [
       "name_title2  survived\n",
       "Dr           0             4\n",
       "             1             3\n",
       "Master       0            17\n",
       "             1            23\n",
       "Miss         0            55\n",
       "             1           131\n",
       "Mr           0           447\n",
       "             1            84\n",
       "Mrs          0            26\n",
       "             1           101\n",
       "dtype: int64"
      ]
     },
     "execution_count": 62,
     "metadata": {},
     "output_type": "execute_result"
    }
   ],
   "source": [
    "# 호칭은 survived와 밀접한 관계가 있다. \n",
    "# 호칭 주요 Feature\n",
    "train[['name_title2','survived']].value_counts().sort_index()"
   ]
  },
  {
   "cell_type": "markdown",
   "id": "1f4cc838-3258-46dc-bedc-419fcbd579af",
   "metadata": {},
   "source": [
    "### *pivot_table()\n",
    "<p>\n",
    "<pre>\n",
    "def pivot_table(\n",
    "        <b>\n",
    "        values=None,\n",
    "        index=None,\n",
    "        columns=None,\n",
    "        aggfunc=\"mean\",\n",
    "        </b>\n",
    "        fill_value=None,\n",
    "        margins=False,\n",
    "        dropna=True,\n",
    "        margins_name=\"All\",\n",
    "        observed=False,\n",
    "        sort=True,\n",
    "    )"
   ]
  },
  {
   "cell_type": "code",
   "execution_count": 63,
   "id": "5e5b4c57-0b72-4bcf-a618-868f8781bac6",
   "metadata": {},
   "outputs": [
    {
     "data": {
      "text/html": [
       "<div>\n",
       "<style scoped>\n",
       "    .dataframe tbody tr th:only-of-type {\n",
       "        vertical-align: middle;\n",
       "    }\n",
       "\n",
       "    .dataframe tbody tr th {\n",
       "        vertical-align: top;\n",
       "    }\n",
       "\n",
       "    .dataframe thead th {\n",
       "        text-align: right;\n",
       "    }\n",
       "</style>\n",
       "<table border=\"1\" class=\"dataframe\">\n",
       "  <thead>\n",
       "    <tr style=\"text-align: right;\">\n",
       "      <th></th>\n",
       "      <th>sal</th>\n",
       "    </tr>\n",
       "    <tr>\n",
       "      <th>deptno</th>\n",
       "      <th></th>\n",
       "    </tr>\n",
       "  </thead>\n",
       "  <tbody>\n",
       "    <tr>\n",
       "      <th>10</th>\n",
       "      <td>2916.666667</td>\n",
       "    </tr>\n",
       "    <tr>\n",
       "      <th>20</th>\n",
       "      <td>2175.000000</td>\n",
       "    </tr>\n",
       "    <tr>\n",
       "      <th>30</th>\n",
       "      <td>1566.666667</td>\n",
       "    </tr>\n",
       "  </tbody>\n",
       "</table>\n",
       "</div>"
      ],
      "text/plain": [
       "                sal\n",
       "deptno             \n",
       "10      2916.666667\n",
       "20      2175.000000\n",
       "30      1566.666667"
      ]
     },
     "execution_count": 63,
     "metadata": {},
     "output_type": "execute_result"
    }
   ],
   "source": [
    "# pivot table은 그룹관련 기능임.\n",
    "# emp.groupby('deptno')['sal'].mean()\n",
    "emp.pivot_table(index='deptno', values='sal', aggfunc=\"mean\")"
   ]
  },
  {
   "cell_type": "markdown",
   "id": "aeed2338-d6bb-451c-ba8f-91f308be3c57",
   "metadata": {},
   "source": [
    "* 결측 처리후 나이와 생존과의 관계 파악"
   ]
  },
  {
   "cell_type": "code",
   "execution_count": 64,
   "id": "2bcf2ac5-2901-48a3-be82-628022b4445d",
   "metadata": {},
   "outputs": [
    {
     "data": {
      "text/plain": [
       "array([2, 3, 5, 0, 1, 4, 6, 7, 8])"
      ]
     },
     "execution_count": 64,
     "metadata": {},
     "output_type": "execute_result"
    }
   ],
   "source": [
    "train['age_gubun'] = train['age2']//10\n",
    "# train['age_gubun'] = train['age_gubun'].fillna(10)\n",
    "train['age_gubun'] = train['age_gubun'].astype('int')\n",
    "train['age_gubun'].unique()"
   ]
  },
  {
   "cell_type": "code",
   "execution_count": 65,
   "id": "9874d00e-ae54-4438-98ee-b999f7649acb",
   "metadata": {
    "tags": []
   },
   "outputs": [
    {
     "data": {
      "text/plain": [
       "age_gubun  survived\n",
       "0          0            26\n",
       "           1            40\n",
       "1          0            61\n",
       "           1            41\n",
       "2          0           157\n",
       "           1            99\n",
       "3          0           202\n",
       "           1           101\n",
       "4          0            56\n",
       "           1            34\n",
       "5          0            28\n",
       "           1            20\n",
       "6          0            13\n",
       "           1             6\n",
       "7          0             6\n",
       "8          1             1\n",
       "dtype: int64"
      ]
     },
     "execution_count": 65,
     "metadata": {},
     "output_type": "execute_result"
    }
   ],
   "source": [
    "train[['age_gubun', 'survived']].value_counts().sort_index()"
   ]
  },
  {
   "cell_type": "code",
   "execution_count": 66,
   "id": "59c7fef0-927d-4f15-8ef3-75dcb7742dfc",
   "metadata": {
    "tags": []
   },
   "outputs": [
    {
     "data": {
      "text/plain": [
       "age_gubun\n",
       "0            0.606061\n",
       "1            0.401961\n",
       "2            0.386719\n",
       "3            0.333333\n",
       "4            0.377778\n",
       "5            0.416667\n",
       "6            0.315789\n",
       "7            0.000000\n",
       "8            1.000000\n",
       "dtype: float64"
      ]
     },
     "execution_count": 66,
     "metadata": {},
     "output_type": "execute_result"
    }
   ],
   "source": [
    "temp1 = train[['age_gubun']].value_counts().sort_index()\n",
    "temp2 = train[['age_gubun']][train['survived']==1].value_counts().sort_index()\n",
    "rate = temp2/temp1\n",
    "rate.fillna(0)"
   ]
  },
  {
   "cell_type": "markdown",
   "id": "b1ace978-8783-4b69-8b5c-ea1d37e1d68c",
   "metadata": {},
   "source": [
    "### *crosstab\n",
    "* 이렇게 확인하니 잘안보임.\n",
    "    * 또다른 확인하는 함수\n",
    "    * Cross Table, 교차검증표\n",
    "<p>\n",
    "<pre>\n",
    "def crosstab(\n",
    "    <b>\n",
    "    index,    --> y축 값, 세로축\n",
    "    columns,  --> x축 값, 가로축 \n",
    "    values=None,\n",
    "    </b>\n",
    "    rownames=None,\n",
    "    colnames=None,\n",
    "    aggfunc=None,\n",
    "    margins: bool = False,\n",
    "    margins_name: str = \"All\",\n",
    "    dropna: bool = True,\n",
    "    normalize=False,\n",
    ") "
   ]
  },
  {
   "cell_type": "code",
   "execution_count": 67,
   "id": "7a3f26a2-9e0b-4e0f-87ab-5c781f37375b",
   "metadata": {},
   "outputs": [
    {
     "data": {
      "text/html": [
       "<div>\n",
       "<style scoped>\n",
       "    .dataframe tbody tr th:only-of-type {\n",
       "        vertical-align: middle;\n",
       "    }\n",
       "\n",
       "    .dataframe tbody tr th {\n",
       "        vertical-align: top;\n",
       "    }\n",
       "\n",
       "    .dataframe thead th {\n",
       "        text-align: right;\n",
       "    }\n",
       "</style>\n",
       "<table border=\"1\" class=\"dataframe\">\n",
       "  <thead>\n",
       "    <tr style=\"text-align: right;\">\n",
       "      <th>age_gubun</th>\n",
       "      <th>0</th>\n",
       "      <th>1</th>\n",
       "      <th>2</th>\n",
       "      <th>3</th>\n",
       "      <th>4</th>\n",
       "      <th>5</th>\n",
       "      <th>6</th>\n",
       "      <th>7</th>\n",
       "      <th>8</th>\n",
       "    </tr>\n",
       "    <tr>\n",
       "      <th>pclass</th>\n",
       "      <th></th>\n",
       "      <th></th>\n",
       "      <th></th>\n",
       "      <th></th>\n",
       "      <th></th>\n",
       "      <th></th>\n",
       "      <th></th>\n",
       "      <th></th>\n",
       "      <th></th>\n",
       "    </tr>\n",
       "  </thead>\n",
       "  <tbody>\n",
       "    <tr>\n",
       "      <th>1</th>\n",
       "      <td>3</td>\n",
       "      <td>18</td>\n",
       "      <td>35</td>\n",
       "      <td>78</td>\n",
       "      <td>38</td>\n",
       "      <td>27</td>\n",
       "      <td>13</td>\n",
       "      <td>3</td>\n",
       "      <td>1</td>\n",
       "    </tr>\n",
       "    <tr>\n",
       "      <th>2</th>\n",
       "      <td>17</td>\n",
       "      <td>18</td>\n",
       "      <td>55</td>\n",
       "      <td>57</td>\n",
       "      <td>18</td>\n",
       "      <td>15</td>\n",
       "      <td>3</td>\n",
       "      <td>1</td>\n",
       "      <td>0</td>\n",
       "    </tr>\n",
       "    <tr>\n",
       "      <th>3</th>\n",
       "      <td>46</td>\n",
       "      <td>66</td>\n",
       "      <td>166</td>\n",
       "      <td>168</td>\n",
       "      <td>34</td>\n",
       "      <td>6</td>\n",
       "      <td>3</td>\n",
       "      <td>2</td>\n",
       "      <td>0</td>\n",
       "    </tr>\n",
       "  </tbody>\n",
       "</table>\n",
       "</div>"
      ],
      "text/plain": [
       "age_gubun   0   1    2    3   4   5   6  7  8\n",
       "pclass                                       \n",
       "1           3  18   35   78  38  27  13  3  1\n",
       "2          17  18   55   57  18  15   3  1  0\n",
       "3          46  66  166  168  34   6   3  2  0"
      ]
     },
     "execution_count": 67,
     "metadata": {},
     "output_type": "execute_result"
    }
   ],
   "source": [
    "pd.crosstab(index=train['pclass'], columns=train['age_gubun'])"
   ]
  },
  {
   "cell_type": "code",
   "execution_count": 68,
   "id": "dbf749d9-2b3c-427b-8802-c07e849c2156",
   "metadata": {},
   "outputs": [
    {
     "data": {
      "text/html": [
       "<div>\n",
       "<style scoped>\n",
       "    .dataframe tbody tr th:only-of-type {\n",
       "        vertical-align: middle;\n",
       "    }\n",
       "\n",
       "    .dataframe tbody tr th {\n",
       "        vertical-align: top;\n",
       "    }\n",
       "\n",
       "    .dataframe thead th {\n",
       "        text-align: right;\n",
       "    }\n",
       "</style>\n",
       "<table border=\"1\" class=\"dataframe\">\n",
       "  <thead>\n",
       "    <tr style=\"text-align: right;\">\n",
       "      <th>age_gubun</th>\n",
       "      <th>0</th>\n",
       "      <th>1</th>\n",
       "      <th>2</th>\n",
       "      <th>3</th>\n",
       "      <th>4</th>\n",
       "      <th>5</th>\n",
       "      <th>6</th>\n",
       "      <th>7</th>\n",
       "      <th>8</th>\n",
       "    </tr>\n",
       "    <tr>\n",
       "      <th>pclass</th>\n",
       "      <th></th>\n",
       "      <th></th>\n",
       "      <th></th>\n",
       "      <th></th>\n",
       "      <th></th>\n",
       "      <th></th>\n",
       "      <th></th>\n",
       "      <th></th>\n",
       "      <th></th>\n",
       "    </tr>\n",
       "  </thead>\n",
       "  <tbody>\n",
       "    <tr>\n",
       "      <th>1</th>\n",
       "      <td>2.0</td>\n",
       "      <td>15.0</td>\n",
       "      <td>25.0</td>\n",
       "      <td>52.0</td>\n",
       "      <td>22.0</td>\n",
       "      <td>15.0</td>\n",
       "      <td>4.0</td>\n",
       "      <td>0.0</td>\n",
       "      <td>1.0</td>\n",
       "    </tr>\n",
       "    <tr>\n",
       "      <th>2</th>\n",
       "      <td>17.0</td>\n",
       "      <td>9.0</td>\n",
       "      <td>24.0</td>\n",
       "      <td>21.0</td>\n",
       "      <td>10.0</td>\n",
       "      <td>5.0</td>\n",
       "      <td>1.0</td>\n",
       "      <td>0.0</td>\n",
       "      <td>NaN</td>\n",
       "    </tr>\n",
       "    <tr>\n",
       "      <th>3</th>\n",
       "      <td>21.0</td>\n",
       "      <td>17.0</td>\n",
       "      <td>50.0</td>\n",
       "      <td>28.0</td>\n",
       "      <td>2.0</td>\n",
       "      <td>0.0</td>\n",
       "      <td>1.0</td>\n",
       "      <td>0.0</td>\n",
       "      <td>NaN</td>\n",
       "    </tr>\n",
       "  </tbody>\n",
       "</table>\n",
       "</div>"
      ],
      "text/plain": [
       "age_gubun     0     1     2     3     4     5    6    7    8\n",
       "pclass                                                      \n",
       "1           2.0  15.0  25.0  52.0  22.0  15.0  4.0  0.0  1.0\n",
       "2          17.0   9.0  24.0  21.0  10.0   5.0  1.0  0.0  NaN\n",
       "3          21.0  17.0  50.0  28.0   2.0   0.0  1.0  0.0  NaN"
      ]
     },
     "execution_count": 68,
     "metadata": {},
     "output_type": "execute_result"
    }
   ],
   "source": [
    "pd.crosstab(index=train['pclass'], columns=train['age_gubun'],\n",
    "           values=train['survived']\n",
    "           ,aggfunc='sum')"
   ]
  },
  {
   "cell_type": "code",
   "execution_count": 69,
   "id": "7715873c-8ff7-4fdc-81d3-42c762e44226",
   "metadata": {},
   "outputs": [
    {
     "data": {
      "text/html": [
       "<div>\n",
       "<style scoped>\n",
       "    .dataframe tbody tr th:only-of-type {\n",
       "        vertical-align: middle;\n",
       "    }\n",
       "\n",
       "    .dataframe tbody tr th {\n",
       "        vertical-align: top;\n",
       "    }\n",
       "\n",
       "    .dataframe thead tr th {\n",
       "        text-align: left;\n",
       "    }\n",
       "\n",
       "    .dataframe thead tr:last-of-type th {\n",
       "        text-align: right;\n",
       "    }\n",
       "</style>\n",
       "<table border=\"1\" class=\"dataframe\">\n",
       "  <thead>\n",
       "    <tr>\n",
       "      <th>age_gubun</th>\n",
       "      <th colspan=\"2\" halign=\"left\">0</th>\n",
       "      <th colspan=\"2\" halign=\"left\">1</th>\n",
       "      <th colspan=\"2\" halign=\"left\">2</th>\n",
       "      <th colspan=\"2\" halign=\"left\">3</th>\n",
       "      <th colspan=\"2\" halign=\"left\">4</th>\n",
       "      <th colspan=\"2\" halign=\"left\">5</th>\n",
       "      <th colspan=\"2\" halign=\"left\">6</th>\n",
       "      <th>7</th>\n",
       "      <th>8</th>\n",
       "    </tr>\n",
       "    <tr>\n",
       "      <th>survived</th>\n",
       "      <th>0</th>\n",
       "      <th>1</th>\n",
       "      <th>0</th>\n",
       "      <th>1</th>\n",
       "      <th>0</th>\n",
       "      <th>1</th>\n",
       "      <th>0</th>\n",
       "      <th>1</th>\n",
       "      <th>0</th>\n",
       "      <th>1</th>\n",
       "      <th>0</th>\n",
       "      <th>1</th>\n",
       "      <th>0</th>\n",
       "      <th>1</th>\n",
       "      <th>0</th>\n",
       "      <th>1</th>\n",
       "    </tr>\n",
       "    <tr>\n",
       "      <th>pclass</th>\n",
       "      <th></th>\n",
       "      <th></th>\n",
       "      <th></th>\n",
       "      <th></th>\n",
       "      <th></th>\n",
       "      <th></th>\n",
       "      <th></th>\n",
       "      <th></th>\n",
       "      <th></th>\n",
       "      <th></th>\n",
       "      <th></th>\n",
       "      <th></th>\n",
       "      <th></th>\n",
       "      <th></th>\n",
       "      <th></th>\n",
       "      <th></th>\n",
       "    </tr>\n",
       "  </thead>\n",
       "  <tbody>\n",
       "    <tr>\n",
       "      <th>1</th>\n",
       "      <td>1</td>\n",
       "      <td>2</td>\n",
       "      <td>3</td>\n",
       "      <td>15</td>\n",
       "      <td>10</td>\n",
       "      <td>25</td>\n",
       "      <td>26</td>\n",
       "      <td>52</td>\n",
       "      <td>16</td>\n",
       "      <td>22</td>\n",
       "      <td>12</td>\n",
       "      <td>15</td>\n",
       "      <td>9</td>\n",
       "      <td>4</td>\n",
       "      <td>3</td>\n",
       "      <td>1</td>\n",
       "    </tr>\n",
       "    <tr>\n",
       "      <th>2</th>\n",
       "      <td>0</td>\n",
       "      <td>17</td>\n",
       "      <td>9</td>\n",
       "      <td>9</td>\n",
       "      <td>31</td>\n",
       "      <td>24</td>\n",
       "      <td>36</td>\n",
       "      <td>21</td>\n",
       "      <td>8</td>\n",
       "      <td>10</td>\n",
       "      <td>10</td>\n",
       "      <td>5</td>\n",
       "      <td>2</td>\n",
       "      <td>1</td>\n",
       "      <td>1</td>\n",
       "      <td>0</td>\n",
       "    </tr>\n",
       "    <tr>\n",
       "      <th>3</th>\n",
       "      <td>25</td>\n",
       "      <td>21</td>\n",
       "      <td>49</td>\n",
       "      <td>17</td>\n",
       "      <td>116</td>\n",
       "      <td>50</td>\n",
       "      <td>140</td>\n",
       "      <td>28</td>\n",
       "      <td>32</td>\n",
       "      <td>2</td>\n",
       "      <td>6</td>\n",
       "      <td>0</td>\n",
       "      <td>2</td>\n",
       "      <td>1</td>\n",
       "      <td>2</td>\n",
       "      <td>0</td>\n",
       "    </tr>\n",
       "  </tbody>\n",
       "</table>\n",
       "</div>"
      ],
      "text/plain": [
       "age_gubun   0       1        2        3       4       5      6     7  8\n",
       "survived    0   1   0   1    0   1    0   1   0   1   0   1  0  1  0  1\n",
       "pclass                                                                 \n",
       "1           1   2   3  15   10  25   26  52  16  22  12  15  9  4  3  1\n",
       "2           0  17   9   9   31  24   36  21   8  10  10   5  2  1  1  0\n",
       "3          25  21  49  17  116  50  140  28  32   2   6   0  2  1  2  0"
      ]
     },
     "execution_count": 69,
     "metadata": {},
     "output_type": "execute_result"
    }
   ],
   "source": [
    "\n",
    "pd.crosstab(index=train['pclass'], columns=[train['age_gubun'],train['survived']])"
   ]
  },
  {
   "cell_type": "code",
   "execution_count": 70,
   "id": "048c4b05-816a-4e50-90e0-ca811a69e60b",
   "metadata": {},
   "outputs": [
    {
     "data": {
      "text/html": [
       "<div>\n",
       "<style scoped>\n",
       "    .dataframe tbody tr th:only-of-type {\n",
       "        vertical-align: middle;\n",
       "    }\n",
       "\n",
       "    .dataframe tbody tr th {\n",
       "        vertical-align: top;\n",
       "    }\n",
       "\n",
       "    .dataframe thead tr th {\n",
       "        text-align: left;\n",
       "    }\n",
       "\n",
       "    .dataframe thead tr:last-of-type th {\n",
       "        text-align: right;\n",
       "    }\n",
       "</style>\n",
       "<table border=\"1\" class=\"dataframe\">\n",
       "  <thead>\n",
       "    <tr>\n",
       "      <th></th>\n",
       "      <th>age_gubun</th>\n",
       "      <th colspan=\"2\" halign=\"left\">0</th>\n",
       "      <th colspan=\"2\" halign=\"left\">1</th>\n",
       "      <th colspan=\"2\" halign=\"left\">2</th>\n",
       "      <th colspan=\"2\" halign=\"left\">3</th>\n",
       "      <th colspan=\"2\" halign=\"left\">4</th>\n",
       "      <th colspan=\"2\" halign=\"left\">5</th>\n",
       "      <th colspan=\"2\" halign=\"left\">6</th>\n",
       "      <th>7</th>\n",
       "      <th>8</th>\n",
       "    </tr>\n",
       "    <tr>\n",
       "      <th></th>\n",
       "      <th>survived</th>\n",
       "      <th>0</th>\n",
       "      <th>1</th>\n",
       "      <th>0</th>\n",
       "      <th>1</th>\n",
       "      <th>0</th>\n",
       "      <th>1</th>\n",
       "      <th>0</th>\n",
       "      <th>1</th>\n",
       "      <th>0</th>\n",
       "      <th>1</th>\n",
       "      <th>0</th>\n",
       "      <th>1</th>\n",
       "      <th>0</th>\n",
       "      <th>1</th>\n",
       "      <th>0</th>\n",
       "      <th>1</th>\n",
       "    </tr>\n",
       "    <tr>\n",
       "      <th>pclass</th>\n",
       "      <th>sex</th>\n",
       "      <th></th>\n",
       "      <th></th>\n",
       "      <th></th>\n",
       "      <th></th>\n",
       "      <th></th>\n",
       "      <th></th>\n",
       "      <th></th>\n",
       "      <th></th>\n",
       "      <th></th>\n",
       "      <th></th>\n",
       "      <th></th>\n",
       "      <th></th>\n",
       "      <th></th>\n",
       "      <th></th>\n",
       "      <th></th>\n",
       "      <th></th>\n",
       "    </tr>\n",
       "  </thead>\n",
       "  <tbody>\n",
       "    <tr>\n",
       "      <th rowspan=\"2\" valign=\"top\">1</th>\n",
       "      <th>female</th>\n",
       "      <td>1</td>\n",
       "      <td>0</td>\n",
       "      <td>0</td>\n",
       "      <td>13</td>\n",
       "      <td>1</td>\n",
       "      <td>16</td>\n",
       "      <td>0</td>\n",
       "      <td>35</td>\n",
       "      <td>0</td>\n",
       "      <td>13</td>\n",
       "      <td>1</td>\n",
       "      <td>11</td>\n",
       "      <td>0</td>\n",
       "      <td>3</td>\n",
       "      <td>0</td>\n",
       "      <td>0</td>\n",
       "    </tr>\n",
       "    <tr>\n",
       "      <th>male</th>\n",
       "      <td>0</td>\n",
       "      <td>2</td>\n",
       "      <td>3</td>\n",
       "      <td>2</td>\n",
       "      <td>9</td>\n",
       "      <td>9</td>\n",
       "      <td>26</td>\n",
       "      <td>17</td>\n",
       "      <td>16</td>\n",
       "      <td>9</td>\n",
       "      <td>11</td>\n",
       "      <td>4</td>\n",
       "      <td>9</td>\n",
       "      <td>1</td>\n",
       "      <td>3</td>\n",
       "      <td>1</td>\n",
       "    </tr>\n",
       "    <tr>\n",
       "      <th rowspan=\"2\" valign=\"top\">2</th>\n",
       "      <th>female</th>\n",
       "      <td>0</td>\n",
       "      <td>8</td>\n",
       "      <td>0</td>\n",
       "      <td>8</td>\n",
       "      <td>3</td>\n",
       "      <td>24</td>\n",
       "      <td>1</td>\n",
       "      <td>16</td>\n",
       "      <td>1</td>\n",
       "      <td>9</td>\n",
       "      <td>1</td>\n",
       "      <td>5</td>\n",
       "      <td>0</td>\n",
       "      <td>0</td>\n",
       "      <td>0</td>\n",
       "      <td>0</td>\n",
       "    </tr>\n",
       "    <tr>\n",
       "      <th>male</th>\n",
       "      <td>0</td>\n",
       "      <td>9</td>\n",
       "      <td>9</td>\n",
       "      <td>1</td>\n",
       "      <td>28</td>\n",
       "      <td>0</td>\n",
       "      <td>35</td>\n",
       "      <td>5</td>\n",
       "      <td>7</td>\n",
       "      <td>1</td>\n",
       "      <td>9</td>\n",
       "      <td>0</td>\n",
       "      <td>2</td>\n",
       "      <td>1</td>\n",
       "      <td>1</td>\n",
       "      <td>0</td>\n",
       "    </tr>\n",
       "    <tr>\n",
       "      <th rowspan=\"2\" valign=\"top\">3</th>\n",
       "      <th>female</th>\n",
       "      <td>10</td>\n",
       "      <td>11</td>\n",
       "      <td>11</td>\n",
       "      <td>13</td>\n",
       "      <td>30</td>\n",
       "      <td>34</td>\n",
       "      <td>12</td>\n",
       "      <td>13</td>\n",
       "      <td>9</td>\n",
       "      <td>0</td>\n",
       "      <td>0</td>\n",
       "      <td>0</td>\n",
       "      <td>0</td>\n",
       "      <td>1</td>\n",
       "      <td>0</td>\n",
       "      <td>0</td>\n",
       "    </tr>\n",
       "    <tr>\n",
       "      <th>male</th>\n",
       "      <td>15</td>\n",
       "      <td>10</td>\n",
       "      <td>38</td>\n",
       "      <td>4</td>\n",
       "      <td>86</td>\n",
       "      <td>16</td>\n",
       "      <td>128</td>\n",
       "      <td>15</td>\n",
       "      <td>23</td>\n",
       "      <td>2</td>\n",
       "      <td>6</td>\n",
       "      <td>0</td>\n",
       "      <td>2</td>\n",
       "      <td>0</td>\n",
       "      <td>2</td>\n",
       "      <td>0</td>\n",
       "    </tr>\n",
       "  </tbody>\n",
       "</table>\n",
       "</div>"
      ],
      "text/plain": [
       "age_gubun       0       1       2        3       4       5      6     7  8\n",
       "survived        0   1   0   1   0   1    0   1   0   1   0   1  0  1  0  1\n",
       "pclass sex                                                                \n",
       "1      female   1   0   0  13   1  16    0  35   0  13   1  11  0  3  0  0\n",
       "       male     0   2   3   2   9   9   26  17  16   9  11   4  9  1  3  1\n",
       "2      female   0   8   0   8   3  24    1  16   1   9   1   5  0  0  0  0\n",
       "       male     0   9   9   1  28   0   35   5   7   1   9   0  2  1  1  0\n",
       "3      female  10  11  11  13  30  34   12  13   9   0   0   0  0  1  0  0\n",
       "       male    15  10  38   4  86  16  128  15  23   2   6   0  2  0  2  0"
      ]
     },
     "execution_count": 70,
     "metadata": {},
     "output_type": "execute_result"
    }
   ],
   "source": [
    "\n",
    "pd.crosstab(index=[train['pclass'],train['sex']], columns=[train['age_gubun'],train['survived']])"
   ]
  },
  {
   "cell_type": "markdown",
   "id": "49230e0d-bf5b-4214-8e27-97970c3431b2",
   "metadata": {
    "tags": []
   },
   "source": [
    "## sibsp, parch\n",
    "* sibsp + parch +1 (본인) 으로 family 컬럼 생성\n",
    "* family 값은 survived와 연관이 있어보임"
   ]
  },
  {
   "cell_type": "code",
   "execution_count": 71,
   "id": "2d185bea-2e1a-4036-a771-4a138a063998",
   "metadata": {},
   "outputs": [
    {
     "data": {
      "text/html": [
       "<div>\n",
       "<style scoped>\n",
       "    .dataframe tbody tr th:only-of-type {\n",
       "        vertical-align: middle;\n",
       "    }\n",
       "\n",
       "    .dataframe tbody tr th {\n",
       "        vertical-align: top;\n",
       "    }\n",
       "\n",
       "    .dataframe thead th {\n",
       "        text-align: right;\n",
       "    }\n",
       "</style>\n",
       "<table border=\"1\" class=\"dataframe\">\n",
       "  <thead>\n",
       "    <tr style=\"text-align: right;\">\n",
       "      <th></th>\n",
       "      <th>survived</th>\n",
       "      <th>pclass</th>\n",
       "      <th>name</th>\n",
       "      <th>sex</th>\n",
       "      <th>age</th>\n",
       "      <th>sibsp</th>\n",
       "      <th>parch</th>\n",
       "      <th>ticket</th>\n",
       "      <th>fare</th>\n",
       "      <th>cabin</th>\n",
       "      <th>embarked</th>\n",
       "      <th>cabin2</th>\n",
       "      <th>name_title</th>\n",
       "      <th>name_title2</th>\n",
       "      <th>age2</th>\n",
       "      <th>age_gubun</th>\n",
       "      <th>family</th>\n",
       "    </tr>\n",
       "  </thead>\n",
       "  <tbody>\n",
       "    <tr>\n",
       "      <th>180</th>\n",
       "      <td>0</td>\n",
       "      <td>3</td>\n",
       "      <td>Sage, Miss. Constance Gladys</td>\n",
       "      <td>female</td>\n",
       "      <td>NaN</td>\n",
       "      <td>8</td>\n",
       "      <td>2</td>\n",
       "      <td>CA. 2343</td>\n",
       "      <td>69.55</td>\n",
       "      <td>NaN</td>\n",
       "      <td>S</td>\n",
       "      <td>NaN</td>\n",
       "      <td>Miss</td>\n",
       "      <td>Miss</td>\n",
       "      <td>22.020000</td>\n",
       "      <td>2</td>\n",
       "      <td>11</td>\n",
       "    </tr>\n",
       "    <tr>\n",
       "      <th>846</th>\n",
       "      <td>0</td>\n",
       "      <td>3</td>\n",
       "      <td>Sage, Mr. Douglas Bullen</td>\n",
       "      <td>male</td>\n",
       "      <td>NaN</td>\n",
       "      <td>8</td>\n",
       "      <td>2</td>\n",
       "      <td>CA. 2343</td>\n",
       "      <td>69.55</td>\n",
       "      <td>NaN</td>\n",
       "      <td>S</td>\n",
       "      <td>NaN</td>\n",
       "      <td>Mr</td>\n",
       "      <td>Mr</td>\n",
       "      <td>32.891990</td>\n",
       "      <td>3</td>\n",
       "      <td>11</td>\n",
       "    </tr>\n",
       "    <tr>\n",
       "      <th>792</th>\n",
       "      <td>0</td>\n",
       "      <td>3</td>\n",
       "      <td>Sage, Miss. Stella Anna</td>\n",
       "      <td>female</td>\n",
       "      <td>NaN</td>\n",
       "      <td>8</td>\n",
       "      <td>2</td>\n",
       "      <td>CA. 2343</td>\n",
       "      <td>69.55</td>\n",
       "      <td>NaN</td>\n",
       "      <td>S</td>\n",
       "      <td>NaN</td>\n",
       "      <td>Miss</td>\n",
       "      <td>Miss</td>\n",
       "      <td>22.020000</td>\n",
       "      <td>2</td>\n",
       "      <td>11</td>\n",
       "    </tr>\n",
       "    <tr>\n",
       "      <th>201</th>\n",
       "      <td>0</td>\n",
       "      <td>3</td>\n",
       "      <td>Sage, Mr. Frederick</td>\n",
       "      <td>male</td>\n",
       "      <td>NaN</td>\n",
       "      <td>8</td>\n",
       "      <td>2</td>\n",
       "      <td>CA. 2343</td>\n",
       "      <td>69.55</td>\n",
       "      <td>NaN</td>\n",
       "      <td>S</td>\n",
       "      <td>NaN</td>\n",
       "      <td>Mr</td>\n",
       "      <td>Mr</td>\n",
       "      <td>32.891990</td>\n",
       "      <td>3</td>\n",
       "      <td>11</td>\n",
       "    </tr>\n",
       "    <tr>\n",
       "      <th>159</th>\n",
       "      <td>0</td>\n",
       "      <td>3</td>\n",
       "      <td>Sage, Master. Thomas Henry</td>\n",
       "      <td>male</td>\n",
       "      <td>NaN</td>\n",
       "      <td>8</td>\n",
       "      <td>2</td>\n",
       "      <td>CA. 2343</td>\n",
       "      <td>69.55</td>\n",
       "      <td>NaN</td>\n",
       "      <td>S</td>\n",
       "      <td>NaN</td>\n",
       "      <td>Master</td>\n",
       "      <td>Master</td>\n",
       "      <td>4.574167</td>\n",
       "      <td>0</td>\n",
       "      <td>11</td>\n",
       "    </tr>\n",
       "  </tbody>\n",
       "</table>\n",
       "</div>"
      ],
      "text/plain": [
       "     survived  pclass                          name     sex  age  sibsp  \\\n",
       "180         0       3  Sage, Miss. Constance Gladys  female  NaN      8   \n",
       "846         0       3      Sage, Mr. Douglas Bullen    male  NaN      8   \n",
       "792         0       3       Sage, Miss. Stella Anna  female  NaN      8   \n",
       "201         0       3           Sage, Mr. Frederick    male  NaN      8   \n",
       "159         0       3    Sage, Master. Thomas Henry    male  NaN      8   \n",
       "\n",
       "     parch    ticket   fare cabin embarked cabin2 name_title name_title2  \\\n",
       "180      2  CA. 2343  69.55   NaN        S    NaN       Miss        Miss   \n",
       "846      2  CA. 2343  69.55   NaN        S    NaN         Mr          Mr   \n",
       "792      2  CA. 2343  69.55   NaN        S    NaN       Miss        Miss   \n",
       "201      2  CA. 2343  69.55   NaN        S    NaN         Mr          Mr   \n",
       "159      2  CA. 2343  69.55   NaN        S    NaN     Master      Master   \n",
       "\n",
       "          age2  age_gubun  family  \n",
       "180  22.020000          2      11  \n",
       "846  32.891990          3      11  \n",
       "792  22.020000          2      11  \n",
       "201  32.891990          3      11  \n",
       "159   4.574167          0      11  "
      ]
     },
     "execution_count": 71,
     "metadata": {},
     "output_type": "execute_result"
    }
   ],
   "source": [
    "# +1은 본인\n",
    "train['family'] = train['sibsp']+train['parch'] + 1\n",
    "train.sort_values('family',ascending=False).head()"
   ]
  },
  {
   "cell_type": "code",
   "execution_count": 72,
   "id": "b96eae3d-3df9-4ef7-a999-39099c9747f0",
   "metadata": {},
   "outputs": [
    {
     "data": {
      "text/plain": [
       "family  survived\n",
       "1       0           374\n",
       "        1           163\n",
       "2       0            72\n",
       "        1            89\n",
       "3       0            43\n",
       "        1            59\n",
       "4       0             8\n",
       "        1            21\n",
       "5       0            12\n",
       "        1             3\n",
       "6       0            19\n",
       "        1             3\n",
       "7       0             8\n",
       "        1             4\n",
       "8       0             6\n",
       "11      0             7\n",
       "dtype: int64"
      ]
     },
     "execution_count": 72,
     "metadata": {},
     "output_type": "execute_result"
    }
   ],
   "source": [
    "train[['family', 'survived']].value_counts().sort_index()"
   ]
  },
  {
   "cell_type": "code",
   "execution_count": 73,
   "id": "547c6454-8ad0-48f8-8249-47ecac68bd35",
   "metadata": {},
   "outputs": [
    {
     "data": {
      "text/html": [
       "<div>\n",
       "<style scoped>\n",
       "    .dataframe tbody tr th:only-of-type {\n",
       "        vertical-align: middle;\n",
       "    }\n",
       "\n",
       "    .dataframe tbody tr th {\n",
       "        vertical-align: top;\n",
       "    }\n",
       "\n",
       "    .dataframe thead th {\n",
       "        text-align: right;\n",
       "    }\n",
       "</style>\n",
       "<table border=\"1\" class=\"dataframe\">\n",
       "  <thead>\n",
       "    <tr style=\"text-align: right;\">\n",
       "      <th></th>\n",
       "      <th>family</th>\n",
       "      <th>1</th>\n",
       "      <th>2</th>\n",
       "      <th>3</th>\n",
       "      <th>4</th>\n",
       "      <th>5</th>\n",
       "      <th>6</th>\n",
       "      <th>7</th>\n",
       "      <th>8</th>\n",
       "      <th>11</th>\n",
       "    </tr>\n",
       "    <tr>\n",
       "      <th>pclass</th>\n",
       "      <th>survived</th>\n",
       "      <th></th>\n",
       "      <th></th>\n",
       "      <th></th>\n",
       "      <th></th>\n",
       "      <th></th>\n",
       "      <th></th>\n",
       "      <th></th>\n",
       "      <th></th>\n",
       "      <th></th>\n",
       "    </tr>\n",
       "  </thead>\n",
       "  <tbody>\n",
       "    <tr>\n",
       "      <th rowspan=\"2\" valign=\"top\">1</th>\n",
       "      <th>0</th>\n",
       "      <td>51</td>\n",
       "      <td>19</td>\n",
       "      <td>6</td>\n",
       "      <td>2</td>\n",
       "      <td>0</td>\n",
       "      <td>2</td>\n",
       "      <td>0</td>\n",
       "      <td>0</td>\n",
       "      <td>0</td>\n",
       "    </tr>\n",
       "    <tr>\n",
       "      <th>1</th>\n",
       "      <td>58</td>\n",
       "      <td>51</td>\n",
       "      <td>18</td>\n",
       "      <td>5</td>\n",
       "      <td>2</td>\n",
       "      <td>2</td>\n",
       "      <td>0</td>\n",
       "      <td>0</td>\n",
       "      <td>0</td>\n",
       "    </tr>\n",
       "    <tr>\n",
       "      <th rowspan=\"2\" valign=\"top\">2</th>\n",
       "      <th>0</th>\n",
       "      <td>68</td>\n",
       "      <td>16</td>\n",
       "      <td>10</td>\n",
       "      <td>3</td>\n",
       "      <td>0</td>\n",
       "      <td>0</td>\n",
       "      <td>0</td>\n",
       "      <td>0</td>\n",
       "      <td>0</td>\n",
       "    </tr>\n",
       "    <tr>\n",
       "      <th>1</th>\n",
       "      <td>36</td>\n",
       "      <td>18</td>\n",
       "      <td>21</td>\n",
       "      <td>10</td>\n",
       "      <td>1</td>\n",
       "      <td>1</td>\n",
       "      <td>0</td>\n",
       "      <td>0</td>\n",
       "      <td>0</td>\n",
       "    </tr>\n",
       "    <tr>\n",
       "      <th rowspan=\"2\" valign=\"top\">3</th>\n",
       "      <th>0</th>\n",
       "      <td>255</td>\n",
       "      <td>37</td>\n",
       "      <td>27</td>\n",
       "      <td>3</td>\n",
       "      <td>12</td>\n",
       "      <td>17</td>\n",
       "      <td>8</td>\n",
       "      <td>6</td>\n",
       "      <td>7</td>\n",
       "    </tr>\n",
       "    <tr>\n",
       "      <th>1</th>\n",
       "      <td>69</td>\n",
       "      <td>20</td>\n",
       "      <td>20</td>\n",
       "      <td>6</td>\n",
       "      <td>0</td>\n",
       "      <td>0</td>\n",
       "      <td>4</td>\n",
       "      <td>0</td>\n",
       "      <td>0</td>\n",
       "    </tr>\n",
       "  </tbody>\n",
       "</table>\n",
       "</div>"
      ],
      "text/plain": [
       "family            1   2   3   4   5   6   7   8   11\n",
       "pclass survived                                     \n",
       "1      0          51  19   6   2   0   2   0   0   0\n",
       "       1          58  51  18   5   2   2   0   0   0\n",
       "2      0          68  16  10   3   0   0   0   0   0\n",
       "       1          36  18  21  10   1   1   0   0   0\n",
       "3      0         255  37  27   3  12  17   8   6   7\n",
       "       1          69  20  20   6   0   0   4   0   0"
      ]
     },
     "execution_count": 73,
     "metadata": {},
     "output_type": "execute_result"
    }
   ],
   "source": [
    "# family와 survived도 연관이 있어보임\n",
    "pd.crosstab(index=[train['pclass'],train['survived']], columns=train['family'])"
   ]
  },
  {
   "cell_type": "markdown",
   "id": "24923bff-96d9-4f3b-a03f-1f89372ece16",
   "metadata": {
    "tags": []
   },
   "source": [
    "## fare (per fammily)\n",
    "* fare도 survived와 연관이 없어 보임. \n",
    "* 심지어 티켓은 끊어 놓고 탑승하지 않은 사람도 있어 보임"
   ]
  },
  {
   "cell_type": "code",
   "execution_count": 74,
   "id": "dbf0fa6d-7e17-4882-8b00-69c8fca22f7a",
   "metadata": {
    "tags": []
   },
   "outputs": [
    {
     "data": {
      "text/html": [
       "<div>\n",
       "<style scoped>\n",
       "    .dataframe tbody tr th:only-of-type {\n",
       "        vertical-align: middle;\n",
       "    }\n",
       "\n",
       "    .dataframe tbody tr th {\n",
       "        vertical-align: top;\n",
       "    }\n",
       "\n",
       "    .dataframe thead th {\n",
       "        text-align: right;\n",
       "    }\n",
       "</style>\n",
       "<table border=\"1\" class=\"dataframe\">\n",
       "  <thead>\n",
       "    <tr style=\"text-align: right;\">\n",
       "      <th></th>\n",
       "      <th>survived</th>\n",
       "      <th>pclass</th>\n",
       "      <th>name</th>\n",
       "      <th>sex</th>\n",
       "      <th>age</th>\n",
       "      <th>sibsp</th>\n",
       "      <th>parch</th>\n",
       "      <th>ticket</th>\n",
       "      <th>fare</th>\n",
       "      <th>cabin</th>\n",
       "      <th>embarked</th>\n",
       "      <th>cabin2</th>\n",
       "      <th>name_title</th>\n",
       "      <th>name_title2</th>\n",
       "      <th>age2</th>\n",
       "      <th>age_gubun</th>\n",
       "      <th>family</th>\n",
       "      <th>fare2</th>\n",
       "    </tr>\n",
       "  </thead>\n",
       "  <tbody>\n",
       "    <tr>\n",
       "      <th>0</th>\n",
       "      <td>0</td>\n",
       "      <td>3</td>\n",
       "      <td>Braund, Mr. Owen Harris</td>\n",
       "      <td>male</td>\n",
       "      <td>22.0</td>\n",
       "      <td>1</td>\n",
       "      <td>0</td>\n",
       "      <td>A/5 21171</td>\n",
       "      <td>7.2500</td>\n",
       "      <td>NaN</td>\n",
       "      <td>S</td>\n",
       "      <td>NaN</td>\n",
       "      <td>Mr</td>\n",
       "      <td>Mr</td>\n",
       "      <td>22.0</td>\n",
       "      <td>2</td>\n",
       "      <td>2</td>\n",
       "      <td>3.62500</td>\n",
       "    </tr>\n",
       "    <tr>\n",
       "      <th>1</th>\n",
       "      <td>1</td>\n",
       "      <td>1</td>\n",
       "      <td>Cumings, Mrs. John Bradley (Florence Briggs Th...</td>\n",
       "      <td>female</td>\n",
       "      <td>38.0</td>\n",
       "      <td>1</td>\n",
       "      <td>0</td>\n",
       "      <td>PC 17599</td>\n",
       "      <td>71.2833</td>\n",
       "      <td>C85</td>\n",
       "      <td>C</td>\n",
       "      <td>C</td>\n",
       "      <td>Mrs</td>\n",
       "      <td>Mrs</td>\n",
       "      <td>38.0</td>\n",
       "      <td>3</td>\n",
       "      <td>2</td>\n",
       "      <td>35.64165</td>\n",
       "    </tr>\n",
       "    <tr>\n",
       "      <th>2</th>\n",
       "      <td>1</td>\n",
       "      <td>3</td>\n",
       "      <td>Heikkinen, Miss. Laina</td>\n",
       "      <td>female</td>\n",
       "      <td>26.0</td>\n",
       "      <td>0</td>\n",
       "      <td>0</td>\n",
       "      <td>STON/O2. 3101282</td>\n",
       "      <td>7.9250</td>\n",
       "      <td>NaN</td>\n",
       "      <td>S</td>\n",
       "      <td>NaN</td>\n",
       "      <td>Miss</td>\n",
       "      <td>Miss</td>\n",
       "      <td>26.0</td>\n",
       "      <td>2</td>\n",
       "      <td>1</td>\n",
       "      <td>7.92500</td>\n",
       "    </tr>\n",
       "    <tr>\n",
       "      <th>3</th>\n",
       "      <td>1</td>\n",
       "      <td>1</td>\n",
       "      <td>Futrelle, Mrs. Jacques Heath (Lily May Peel)</td>\n",
       "      <td>female</td>\n",
       "      <td>35.0</td>\n",
       "      <td>1</td>\n",
       "      <td>0</td>\n",
       "      <td>113803</td>\n",
       "      <td>53.1000</td>\n",
       "      <td>C123</td>\n",
       "      <td>S</td>\n",
       "      <td>C</td>\n",
       "      <td>Mrs</td>\n",
       "      <td>Mrs</td>\n",
       "      <td>35.0</td>\n",
       "      <td>3</td>\n",
       "      <td>2</td>\n",
       "      <td>26.55000</td>\n",
       "    </tr>\n",
       "    <tr>\n",
       "      <th>4</th>\n",
       "      <td>0</td>\n",
       "      <td>3</td>\n",
       "      <td>Allen, Mr. William Henry</td>\n",
       "      <td>male</td>\n",
       "      <td>35.0</td>\n",
       "      <td>0</td>\n",
       "      <td>0</td>\n",
       "      <td>373450</td>\n",
       "      <td>8.0500</td>\n",
       "      <td>NaN</td>\n",
       "      <td>S</td>\n",
       "      <td>NaN</td>\n",
       "      <td>Mr</td>\n",
       "      <td>Mr</td>\n",
       "      <td>35.0</td>\n",
       "      <td>3</td>\n",
       "      <td>1</td>\n",
       "      <td>8.05000</td>\n",
       "    </tr>\n",
       "  </tbody>\n",
       "</table>\n",
       "</div>"
      ],
      "text/plain": [
       "   survived  pclass                                               name  \\\n",
       "0         0       3                            Braund, Mr. Owen Harris   \n",
       "1         1       1  Cumings, Mrs. John Bradley (Florence Briggs Th...   \n",
       "2         1       3                             Heikkinen, Miss. Laina   \n",
       "3         1       1       Futrelle, Mrs. Jacques Heath (Lily May Peel)   \n",
       "4         0       3                           Allen, Mr. William Henry   \n",
       "\n",
       "      sex   age  sibsp  parch            ticket     fare cabin embarked  \\\n",
       "0    male  22.0      1      0         A/5 21171   7.2500   NaN        S   \n",
       "1  female  38.0      1      0          PC 17599  71.2833   C85        C   \n",
       "2  female  26.0      0      0  STON/O2. 3101282   7.9250   NaN        S   \n",
       "3  female  35.0      1      0            113803  53.1000  C123        S   \n",
       "4    male  35.0      0      0            373450   8.0500   NaN        S   \n",
       "\n",
       "  cabin2 name_title name_title2  age2  age_gubun  family     fare2  \n",
       "0    NaN         Mr          Mr  22.0          2       2   3.62500  \n",
       "1      C        Mrs         Mrs  38.0          3       2  35.64165  \n",
       "2    NaN       Miss        Miss  26.0          2       1   7.92500  \n",
       "3      C        Mrs         Mrs  35.0          3       2  26.55000  \n",
       "4    NaN         Mr          Mr  35.0          3       1   8.05000  "
      ]
     },
     "execution_count": 74,
     "metadata": {},
     "output_type": "execute_result"
    }
   ],
   "source": [
    "train['fare2'] = train['fare']/train['family']\n",
    "train.head()"
   ]
  },
  {
   "cell_type": "code",
   "execution_count": 75,
   "id": "5e9112f6-8b2a-497d-a460-61789debafcd",
   "metadata": {
    "tags": []
   },
   "outputs": [
    {
     "data": {
      "text/html": [
       "<div>\n",
       "<style scoped>\n",
       "    .dataframe tbody tr th:only-of-type {\n",
       "        vertical-align: middle;\n",
       "    }\n",
       "\n",
       "    .dataframe tbody tr th {\n",
       "        vertical-align: top;\n",
       "    }\n",
       "\n",
       "    .dataframe thead th {\n",
       "        text-align: right;\n",
       "    }\n",
       "</style>\n",
       "<table border=\"1\" class=\"dataframe\">\n",
       "  <thead>\n",
       "    <tr style=\"text-align: right;\">\n",
       "      <th></th>\n",
       "      <th>survived</th>\n",
       "      <th>pclass</th>\n",
       "      <th>name</th>\n",
       "      <th>sex</th>\n",
       "      <th>age</th>\n",
       "      <th>sibsp</th>\n",
       "      <th>parch</th>\n",
       "      <th>ticket</th>\n",
       "      <th>fare</th>\n",
       "      <th>cabin</th>\n",
       "      <th>embarked</th>\n",
       "      <th>cabin2</th>\n",
       "      <th>name_title</th>\n",
       "      <th>name_title2</th>\n",
       "      <th>age2</th>\n",
       "      <th>age_gubun</th>\n",
       "      <th>family</th>\n",
       "      <th>fare2</th>\n",
       "    </tr>\n",
       "  </thead>\n",
       "  <tbody>\n",
       "    <tr>\n",
       "      <th>179</th>\n",
       "      <td>0</td>\n",
       "      <td>3</td>\n",
       "      <td>Leonard, Mr. Lionel</td>\n",
       "      <td>male</td>\n",
       "      <td>36.0</td>\n",
       "      <td>0</td>\n",
       "      <td>0</td>\n",
       "      <td>LINE</td>\n",
       "      <td>0.0</td>\n",
       "      <td>NaN</td>\n",
       "      <td>S</td>\n",
       "      <td>NaN</td>\n",
       "      <td>Mr</td>\n",
       "      <td>Mr</td>\n",
       "      <td>36.00000</td>\n",
       "      <td>3</td>\n",
       "      <td>1</td>\n",
       "      <td>0.0</td>\n",
       "    </tr>\n",
       "    <tr>\n",
       "      <th>263</th>\n",
       "      <td>0</td>\n",
       "      <td>1</td>\n",
       "      <td>Harrison, Mr. William</td>\n",
       "      <td>male</td>\n",
       "      <td>40.0</td>\n",
       "      <td>0</td>\n",
       "      <td>0</td>\n",
       "      <td>112059</td>\n",
       "      <td>0.0</td>\n",
       "      <td>B94</td>\n",
       "      <td>S</td>\n",
       "      <td>B</td>\n",
       "      <td>Mr</td>\n",
       "      <td>Mr</td>\n",
       "      <td>40.00000</td>\n",
       "      <td>4</td>\n",
       "      <td>1</td>\n",
       "      <td>0.0</td>\n",
       "    </tr>\n",
       "    <tr>\n",
       "      <th>271</th>\n",
       "      <td>1</td>\n",
       "      <td>3</td>\n",
       "      <td>Tornquist, Mr. William Henry</td>\n",
       "      <td>male</td>\n",
       "      <td>25.0</td>\n",
       "      <td>0</td>\n",
       "      <td>0</td>\n",
       "      <td>LINE</td>\n",
       "      <td>0.0</td>\n",
       "      <td>NaN</td>\n",
       "      <td>S</td>\n",
       "      <td>NaN</td>\n",
       "      <td>Mr</td>\n",
       "      <td>Mr</td>\n",
       "      <td>25.00000</td>\n",
       "      <td>2</td>\n",
       "      <td>1</td>\n",
       "      <td>0.0</td>\n",
       "    </tr>\n",
       "    <tr>\n",
       "      <th>277</th>\n",
       "      <td>0</td>\n",
       "      <td>2</td>\n",
       "      <td>Parkes, Mr. Francis \"Frank\"</td>\n",
       "      <td>male</td>\n",
       "      <td>NaN</td>\n",
       "      <td>0</td>\n",
       "      <td>0</td>\n",
       "      <td>239853</td>\n",
       "      <td>0.0</td>\n",
       "      <td>NaN</td>\n",
       "      <td>S</td>\n",
       "      <td>NaN</td>\n",
       "      <td>Mr</td>\n",
       "      <td>Mr</td>\n",
       "      <td>32.89199</td>\n",
       "      <td>3</td>\n",
       "      <td>1</td>\n",
       "      <td>0.0</td>\n",
       "    </tr>\n",
       "    <tr>\n",
       "      <th>302</th>\n",
       "      <td>0</td>\n",
       "      <td>3</td>\n",
       "      <td>Johnson, Mr. William Cahoone Jr</td>\n",
       "      <td>male</td>\n",
       "      <td>19.0</td>\n",
       "      <td>0</td>\n",
       "      <td>0</td>\n",
       "      <td>LINE</td>\n",
       "      <td>0.0</td>\n",
       "      <td>NaN</td>\n",
       "      <td>S</td>\n",
       "      <td>NaN</td>\n",
       "      <td>Mr</td>\n",
       "      <td>Mr</td>\n",
       "      <td>19.00000</td>\n",
       "      <td>1</td>\n",
       "      <td>1</td>\n",
       "      <td>0.0</td>\n",
       "    </tr>\n",
       "    <tr>\n",
       "      <th>413</th>\n",
       "      <td>0</td>\n",
       "      <td>2</td>\n",
       "      <td>Cunningham, Mr. Alfred Fleming</td>\n",
       "      <td>male</td>\n",
       "      <td>NaN</td>\n",
       "      <td>0</td>\n",
       "      <td>0</td>\n",
       "      <td>239853</td>\n",
       "      <td>0.0</td>\n",
       "      <td>NaN</td>\n",
       "      <td>S</td>\n",
       "      <td>NaN</td>\n",
       "      <td>Mr</td>\n",
       "      <td>Mr</td>\n",
       "      <td>32.89199</td>\n",
       "      <td>3</td>\n",
       "      <td>1</td>\n",
       "      <td>0.0</td>\n",
       "    </tr>\n",
       "    <tr>\n",
       "      <th>466</th>\n",
       "      <td>0</td>\n",
       "      <td>2</td>\n",
       "      <td>Campbell, Mr. William</td>\n",
       "      <td>male</td>\n",
       "      <td>NaN</td>\n",
       "      <td>0</td>\n",
       "      <td>0</td>\n",
       "      <td>239853</td>\n",
       "      <td>0.0</td>\n",
       "      <td>NaN</td>\n",
       "      <td>S</td>\n",
       "      <td>NaN</td>\n",
       "      <td>Mr</td>\n",
       "      <td>Mr</td>\n",
       "      <td>32.89199</td>\n",
       "      <td>3</td>\n",
       "      <td>1</td>\n",
       "      <td>0.0</td>\n",
       "    </tr>\n",
       "    <tr>\n",
       "      <th>481</th>\n",
       "      <td>0</td>\n",
       "      <td>2</td>\n",
       "      <td>Frost, Mr. Anthony Wood \"Archie\"</td>\n",
       "      <td>male</td>\n",
       "      <td>NaN</td>\n",
       "      <td>0</td>\n",
       "      <td>0</td>\n",
       "      <td>239854</td>\n",
       "      <td>0.0</td>\n",
       "      <td>NaN</td>\n",
       "      <td>S</td>\n",
       "      <td>NaN</td>\n",
       "      <td>Mr</td>\n",
       "      <td>Mr</td>\n",
       "      <td>32.89199</td>\n",
       "      <td>3</td>\n",
       "      <td>1</td>\n",
       "      <td>0.0</td>\n",
       "    </tr>\n",
       "    <tr>\n",
       "      <th>597</th>\n",
       "      <td>0</td>\n",
       "      <td>3</td>\n",
       "      <td>Johnson, Mr. Alfred</td>\n",
       "      <td>male</td>\n",
       "      <td>49.0</td>\n",
       "      <td>0</td>\n",
       "      <td>0</td>\n",
       "      <td>LINE</td>\n",
       "      <td>0.0</td>\n",
       "      <td>NaN</td>\n",
       "      <td>S</td>\n",
       "      <td>NaN</td>\n",
       "      <td>Mr</td>\n",
       "      <td>Mr</td>\n",
       "      <td>49.00000</td>\n",
       "      <td>4</td>\n",
       "      <td>1</td>\n",
       "      <td>0.0</td>\n",
       "    </tr>\n",
       "    <tr>\n",
       "      <th>633</th>\n",
       "      <td>0</td>\n",
       "      <td>1</td>\n",
       "      <td>Parr, Mr. William Henry Marsh</td>\n",
       "      <td>male</td>\n",
       "      <td>NaN</td>\n",
       "      <td>0</td>\n",
       "      <td>0</td>\n",
       "      <td>112052</td>\n",
       "      <td>0.0</td>\n",
       "      <td>NaN</td>\n",
       "      <td>S</td>\n",
       "      <td>NaN</td>\n",
       "      <td>Mr</td>\n",
       "      <td>Mr</td>\n",
       "      <td>32.89199</td>\n",
       "      <td>3</td>\n",
       "      <td>1</td>\n",
       "      <td>0.0</td>\n",
       "    </tr>\n",
       "    <tr>\n",
       "      <th>674</th>\n",
       "      <td>0</td>\n",
       "      <td>2</td>\n",
       "      <td>Watson, Mr. Ennis Hastings</td>\n",
       "      <td>male</td>\n",
       "      <td>NaN</td>\n",
       "      <td>0</td>\n",
       "      <td>0</td>\n",
       "      <td>239856</td>\n",
       "      <td>0.0</td>\n",
       "      <td>NaN</td>\n",
       "      <td>S</td>\n",
       "      <td>NaN</td>\n",
       "      <td>Mr</td>\n",
       "      <td>Mr</td>\n",
       "      <td>32.89199</td>\n",
       "      <td>3</td>\n",
       "      <td>1</td>\n",
       "      <td>0.0</td>\n",
       "    </tr>\n",
       "    <tr>\n",
       "      <th>732</th>\n",
       "      <td>0</td>\n",
       "      <td>2</td>\n",
       "      <td>Knight, Mr. Robert J</td>\n",
       "      <td>male</td>\n",
       "      <td>NaN</td>\n",
       "      <td>0</td>\n",
       "      <td>0</td>\n",
       "      <td>239855</td>\n",
       "      <td>0.0</td>\n",
       "      <td>NaN</td>\n",
       "      <td>S</td>\n",
       "      <td>NaN</td>\n",
       "      <td>Mr</td>\n",
       "      <td>Mr</td>\n",
       "      <td>32.89199</td>\n",
       "      <td>3</td>\n",
       "      <td>1</td>\n",
       "      <td>0.0</td>\n",
       "    </tr>\n",
       "    <tr>\n",
       "      <th>806</th>\n",
       "      <td>0</td>\n",
       "      <td>1</td>\n",
       "      <td>Andrews, Mr. Thomas Jr</td>\n",
       "      <td>male</td>\n",
       "      <td>39.0</td>\n",
       "      <td>0</td>\n",
       "      <td>0</td>\n",
       "      <td>112050</td>\n",
       "      <td>0.0</td>\n",
       "      <td>A36</td>\n",
       "      <td>S</td>\n",
       "      <td>A</td>\n",
       "      <td>Mr</td>\n",
       "      <td>Mr</td>\n",
       "      <td>39.00000</td>\n",
       "      <td>3</td>\n",
       "      <td>1</td>\n",
       "      <td>0.0</td>\n",
       "    </tr>\n",
       "    <tr>\n",
       "      <th>815</th>\n",
       "      <td>0</td>\n",
       "      <td>1</td>\n",
       "      <td>Fry, Mr. Richard</td>\n",
       "      <td>male</td>\n",
       "      <td>NaN</td>\n",
       "      <td>0</td>\n",
       "      <td>0</td>\n",
       "      <td>112058</td>\n",
       "      <td>0.0</td>\n",
       "      <td>B102</td>\n",
       "      <td>S</td>\n",
       "      <td>B</td>\n",
       "      <td>Mr</td>\n",
       "      <td>Mr</td>\n",
       "      <td>32.89199</td>\n",
       "      <td>3</td>\n",
       "      <td>1</td>\n",
       "      <td>0.0</td>\n",
       "    </tr>\n",
       "    <tr>\n",
       "      <th>822</th>\n",
       "      <td>0</td>\n",
       "      <td>1</td>\n",
       "      <td>Reuchlin, Jonkheer. John George</td>\n",
       "      <td>male</td>\n",
       "      <td>38.0</td>\n",
       "      <td>0</td>\n",
       "      <td>0</td>\n",
       "      <td>19972</td>\n",
       "      <td>0.0</td>\n",
       "      <td>NaN</td>\n",
       "      <td>S</td>\n",
       "      <td>NaN</td>\n",
       "      <td>Jonkheer</td>\n",
       "      <td>Mr</td>\n",
       "      <td>38.00000</td>\n",
       "      <td>3</td>\n",
       "      <td>1</td>\n",
       "      <td>0.0</td>\n",
       "    </tr>\n",
       "  </tbody>\n",
       "</table>\n",
       "</div>"
      ],
      "text/plain": [
       "     survived  pclass                              name   sex   age  sibsp  \\\n",
       "179         0       3               Leonard, Mr. Lionel  male  36.0      0   \n",
       "263         0       1             Harrison, Mr. William  male  40.0      0   \n",
       "271         1       3      Tornquist, Mr. William Henry  male  25.0      0   \n",
       "277         0       2       Parkes, Mr. Francis \"Frank\"  male   NaN      0   \n",
       "302         0       3   Johnson, Mr. William Cahoone Jr  male  19.0      0   \n",
       "413         0       2    Cunningham, Mr. Alfred Fleming  male   NaN      0   \n",
       "466         0       2             Campbell, Mr. William  male   NaN      0   \n",
       "481         0       2  Frost, Mr. Anthony Wood \"Archie\"  male   NaN      0   \n",
       "597         0       3               Johnson, Mr. Alfred  male  49.0      0   \n",
       "633         0       1     Parr, Mr. William Henry Marsh  male   NaN      0   \n",
       "674         0       2        Watson, Mr. Ennis Hastings  male   NaN      0   \n",
       "732         0       2              Knight, Mr. Robert J  male   NaN      0   \n",
       "806         0       1            Andrews, Mr. Thomas Jr  male  39.0      0   \n",
       "815         0       1                  Fry, Mr. Richard  male   NaN      0   \n",
       "822         0       1   Reuchlin, Jonkheer. John George  male  38.0      0   \n",
       "\n",
       "     parch  ticket  fare cabin embarked cabin2 name_title name_title2  \\\n",
       "179      0    LINE   0.0   NaN        S    NaN         Mr          Mr   \n",
       "263      0  112059   0.0   B94        S      B         Mr          Mr   \n",
       "271      0    LINE   0.0   NaN        S    NaN         Mr          Mr   \n",
       "277      0  239853   0.0   NaN        S    NaN         Mr          Mr   \n",
       "302      0    LINE   0.0   NaN        S    NaN         Mr          Mr   \n",
       "413      0  239853   0.0   NaN        S    NaN         Mr          Mr   \n",
       "466      0  239853   0.0   NaN        S    NaN         Mr          Mr   \n",
       "481      0  239854   0.0   NaN        S    NaN         Mr          Mr   \n",
       "597      0    LINE   0.0   NaN        S    NaN         Mr          Mr   \n",
       "633      0  112052   0.0   NaN        S    NaN         Mr          Mr   \n",
       "674      0  239856   0.0   NaN        S    NaN         Mr          Mr   \n",
       "732      0  239855   0.0   NaN        S    NaN         Mr          Mr   \n",
       "806      0  112050   0.0   A36        S      A         Mr          Mr   \n",
       "815      0  112058   0.0  B102        S      B         Mr          Mr   \n",
       "822      0   19972   0.0   NaN        S    NaN   Jonkheer          Mr   \n",
       "\n",
       "         age2  age_gubun  family  fare2  \n",
       "179  36.00000          3       1    0.0  \n",
       "263  40.00000          4       1    0.0  \n",
       "271  25.00000          2       1    0.0  \n",
       "277  32.89199          3       1    0.0  \n",
       "302  19.00000          1       1    0.0  \n",
       "413  32.89199          3       1    0.0  \n",
       "466  32.89199          3       1    0.0  \n",
       "481  32.89199          3       1    0.0  \n",
       "597  49.00000          4       1    0.0  \n",
       "633  32.89199          3       1    0.0  \n",
       "674  32.89199          3       1    0.0  \n",
       "732  32.89199          3       1    0.0  \n",
       "806  39.00000          3       1    0.0  \n",
       "815  32.89199          3       1    0.0  \n",
       "822  38.00000          3       1    0.0  "
      ]
     },
     "execution_count": 75,
     "metadata": {},
     "output_type": "execute_result"
    }
   ],
   "source": [
    "# fare가 0인 사람들... \n",
    "# free_Fare_yn = 1 무료탑승자(선원)는 생존확률 희박\n",
    "train[train['fare2']==0]"
   ]
  },
  {
   "cell_type": "code",
   "execution_count": 76,
   "id": "149a44af-463f-49b5-9ef4-5ab1d0da3e01",
   "metadata": {
    "tags": []
   },
   "outputs": [
    {
     "data": {
      "text/html": [
       "<div>\n",
       "<style scoped>\n",
       "    .dataframe tbody tr th:only-of-type {\n",
       "        vertical-align: middle;\n",
       "    }\n",
       "\n",
       "    .dataframe tbody tr th {\n",
       "        vertical-align: top;\n",
       "    }\n",
       "\n",
       "    .dataframe thead th {\n",
       "        text-align: right;\n",
       "    }\n",
       "</style>\n",
       "<table border=\"1\" class=\"dataframe\">\n",
       "  <thead>\n",
       "    <tr style=\"text-align: right;\">\n",
       "      <th></th>\n",
       "      <th>survived</th>\n",
       "      <th>pclass</th>\n",
       "      <th>name</th>\n",
       "      <th>sex</th>\n",
       "      <th>age</th>\n",
       "      <th>sibsp</th>\n",
       "      <th>parch</th>\n",
       "      <th>ticket</th>\n",
       "      <th>fare</th>\n",
       "      <th>cabin</th>\n",
       "      <th>embarked</th>\n",
       "      <th>cabin2</th>\n",
       "      <th>name_title</th>\n",
       "      <th>name_title2</th>\n",
       "      <th>age2</th>\n",
       "      <th>age_gubun</th>\n",
       "      <th>family</th>\n",
       "      <th>fare2</th>\n",
       "    </tr>\n",
       "  </thead>\n",
       "  <tbody>\n",
       "    <tr>\n",
       "      <th>258</th>\n",
       "      <td>1</td>\n",
       "      <td>1</td>\n",
       "      <td>Ward, Miss. Anna</td>\n",
       "      <td>female</td>\n",
       "      <td>35.0</td>\n",
       "      <td>0</td>\n",
       "      <td>0</td>\n",
       "      <td>PC 17755</td>\n",
       "      <td>512.3292</td>\n",
       "      <td>NaN</td>\n",
       "      <td>C</td>\n",
       "      <td>NaN</td>\n",
       "      <td>Miss</td>\n",
       "      <td>Miss</td>\n",
       "      <td>35.0</td>\n",
       "      <td>3</td>\n",
       "      <td>1</td>\n",
       "      <td>512.3292</td>\n",
       "    </tr>\n",
       "    <tr>\n",
       "      <th>737</th>\n",
       "      <td>1</td>\n",
       "      <td>1</td>\n",
       "      <td>Lesurer, Mr. Gustave J</td>\n",
       "      <td>male</td>\n",
       "      <td>35.0</td>\n",
       "      <td>0</td>\n",
       "      <td>0</td>\n",
       "      <td>PC 17755</td>\n",
       "      <td>512.3292</td>\n",
       "      <td>B101</td>\n",
       "      <td>C</td>\n",
       "      <td>B</td>\n",
       "      <td>Mr</td>\n",
       "      <td>Mr</td>\n",
       "      <td>35.0</td>\n",
       "      <td>3</td>\n",
       "      <td>1</td>\n",
       "      <td>512.3292</td>\n",
       "    </tr>\n",
       "  </tbody>\n",
       "</table>\n",
       "</div>"
      ],
      "text/plain": [
       "     survived  pclass                    name     sex   age  sibsp  parch  \\\n",
       "258         1       1        Ward, Miss. Anna  female  35.0      0      0   \n",
       "737         1       1  Lesurer, Mr. Gustave J    male  35.0      0      0   \n",
       "\n",
       "       ticket      fare cabin embarked cabin2 name_title name_title2  age2  \\\n",
       "258  PC 17755  512.3292   NaN        C    NaN       Miss        Miss  35.0   \n",
       "737  PC 17755  512.3292  B101        C      B         Mr          Mr  35.0   \n",
       "\n",
       "     age_gubun  family     fare2  \n",
       "258          3       1  512.3292  \n",
       "737          3       1  512.3292  "
      ]
     },
     "execution_count": 76,
     "metadata": {},
     "output_type": "execute_result"
    }
   ],
   "source": [
    "train[train['fare2']==train['fare2'].max()]"
   ]
  },
  {
   "cell_type": "markdown",
   "id": "3a5d256f-b3ff-42f4-ac69-af4d3cc0cf5a",
   "metadata": {},
   "source": [
    "## 삭제 대상 컬럼\n",
    "<pre>\n",
    "* passengerid : 유니크값 \n",
    "* 파생 피쳐: 무언가에서 파생해서 만들어서 원본 컬럼은 필요 업음\n",
    "    : age--> age2 (결측처리) --> age_gubun (나이 구간화)\n",
    "    sibsp, parch  --> family\n",
    "    name --> name_title(호칭) --> name_title2 (5개 호칭으로 정리)\n",
    "* 연관성 확인 결과, 주요 feature가 아닌 항목\n",
    "    ticket, cabin, embarked, \n",
    "    fare --> fare2(두당 요금)"
   ]
  },
  {
   "cell_type": "code",
   "execution_count": 77,
   "id": "2e00927b-e935-4747-a619-f42c54f15bf8",
   "metadata": {
    "tags": []
   },
   "outputs": [
    {
     "data": {
      "text/plain": [
       "Index(['survived', 'pclass', 'name', 'sex', 'age', 'sibsp', 'parch', 'ticket',\n",
       "       'fare', 'cabin', 'embarked', 'cabin2', 'name_title', 'name_title2',\n",
       "       'age2', 'age_gubun', 'family', 'fare2'],\n",
       "      dtype='object')"
      ]
     },
     "execution_count": 77,
     "metadata": {},
     "output_type": "execute_result"
    }
   ],
   "source": [
    "train.columns"
   ]
  },
  {
   "cell_type": "code",
   "execution_count": 78,
   "id": "16e58198-3083-4a65-8c74-ffd6147bd94a",
   "metadata": {
    "tags": []
   },
   "outputs": [
    {
     "data": {
      "text/plain": [
       "Index(['survived', 'pclass', 'sex', 'name_title2', 'age_gubun', 'family',\n",
       "       'age2'],\n",
       "      dtype='object')"
      ]
     },
     "execution_count": 78,
     "metadata": {},
     "output_type": "execute_result"
    }
   ],
   "source": [
    "# 필요한 컬럼만 남김\n",
    "train = train[['survived','pclass','sex','name_title2','age_gubun','family', 'age2']]\n",
    "train.columns"
   ]
  },
  {
   "cell_type": "markdown",
   "id": "3e5521f2-6794-470e-bed8-742acb84262d",
   "metadata": {
    "tags": []
   },
   "source": [
    "# 최종 Feature\n",
    "    * 결측이 없어야함.\n",
    "    * Object type이 없어야함"
   ]
  },
  {
   "cell_type": "markdown",
   "id": "320ab20c-9965-4176-a7cc-0ebeed796f70",
   "metadata": {
    "tags": []
   },
   "source": [
    "## 최종 결측확인"
   ]
  },
  {
   "cell_type": "code",
   "execution_count": 79,
   "id": "105f519d-de9c-477d-a469-b0346f1e87af",
   "metadata": {
    "tags": []
   },
   "outputs": [
    {
     "data": {
      "text/plain": [
       "survived       0\n",
       "pclass         0\n",
       "sex            0\n",
       "name_title2    0\n",
       "age_gubun      0\n",
       "family         0\n",
       "age2           0\n",
       "dtype: int64"
      ]
     },
     "execution_count": 79,
     "metadata": {},
     "output_type": "execute_result"
    }
   ],
   "source": [
    "train.isna().sum()"
   ]
  },
  {
   "cell_type": "markdown",
   "id": "ba048c97-3995-4a9e-a040-669e04fe1214",
   "metadata": {},
   "source": [
    "## *Object 처리\n",
    "* 방법1) 라벨인코딩(Label Encoding)\n",
    "* 방법2) 원핫인코딩(One-hot Encoding)\n",
    "* 방법3) get_dummis()\n",
    "* 방법4) 범주화(Bining)\n",
    "* 방법5) df[컬럼].astype(\"category\")"
   ]
  },
  {
   "cell_type": "code",
   "execution_count": 80,
   "id": "b1da0424-e197-45bf-a644-d8fc6434f328",
   "metadata": {
    "tags": []
   },
   "outputs": [
    {
     "data": {
      "text/plain": [
       "Index(['sex', 'name_title2'], dtype='object')"
      ]
     },
     "execution_count": 80,
     "metadata": {},
     "output_type": "execute_result"
    }
   ],
   "source": [
    "# object type인 컬럼만 가져오기\n",
    "train.select_dtypes(\"object\").columns\n",
    "#### ----- 춫천"
   ]
  },
  {
   "cell_type": "code",
   "execution_count": 81,
   "id": "26cd2aa1-908f-4e1a-828d-268791651571",
   "metadata": {
    "tags": []
   },
   "outputs": [
    {
     "data": {
      "text/plain": [
       "Index(['sex', 'name_title2'], dtype='object')"
      ]
     },
     "execution_count": 81,
     "metadata": {},
     "output_type": "execute_result"
    }
   ],
   "source": [
    "train.dtypes[train.dtypes=='object'].index"
   ]
  },
  {
   "cell_type": "code",
   "execution_count": 82,
   "id": "970932fe-25c5-4e3b-93d6-03946d639314",
   "metadata": {
    "tags": []
   },
   "outputs": [
    {
     "data": {
      "text/plain": [
       "array(['Mr', 'Mrs', 'Miss', 'Master', 'Dr'], dtype=object)"
      ]
     },
     "execution_count": 82,
     "metadata": {},
     "output_type": "execute_result"
    }
   ],
   "source": [
    "train['name_title2'].unique()"
   ]
  },
  {
   "cell_type": "markdown",
   "id": "a343e2a7-8767-493e-b227-bce3eff37bd7",
   "metadata": {},
   "source": [
    "### sex object"
   ]
  },
  {
   "cell_type": "markdown",
   "id": "ad2a397b-369d-430e-afe1-06867ec9f701",
   "metadata": {
    "tags": []
   },
   "source": [
    "* replace로 처리\n",
    "    * male:1, female:0 변경"
   ]
  },
  {
   "cell_type": "code",
   "execution_count": 83,
   "id": "c55f9b42-aec3-4021-8d1b-58cd7a29a03c",
   "metadata": {
    "tags": []
   },
   "outputs": [
    {
     "data": {
      "text/plain": [
       "array(['male', 'female'], dtype=object)"
      ]
     },
     "execution_count": 83,
     "metadata": {},
     "output_type": "execute_result"
    }
   ],
   "source": [
    "train['sex'].unique()"
   ]
  },
  {
   "cell_type": "code",
   "execution_count": 84,
   "id": "6139743d-f588-47aa-a7db-6e07b35b066f",
   "metadata": {
    "tags": []
   },
   "outputs": [
    {
     "data": {
      "text/html": [
       "<div>\n",
       "<style scoped>\n",
       "    .dataframe tbody tr th:only-of-type {\n",
       "        vertical-align: middle;\n",
       "    }\n",
       "\n",
       "    .dataframe tbody tr th {\n",
       "        vertical-align: top;\n",
       "    }\n",
       "\n",
       "    .dataframe thead th {\n",
       "        text-align: right;\n",
       "    }\n",
       "</style>\n",
       "<table border=\"1\" class=\"dataframe\">\n",
       "  <thead>\n",
       "    <tr style=\"text-align: right;\">\n",
       "      <th></th>\n",
       "      <th>sex</th>\n",
       "      <th>sex2</th>\n",
       "    </tr>\n",
       "  </thead>\n",
       "  <tbody>\n",
       "    <tr>\n",
       "      <th>0</th>\n",
       "      <td>male</td>\n",
       "      <td>1</td>\n",
       "    </tr>\n",
       "    <tr>\n",
       "      <th>1</th>\n",
       "      <td>female</td>\n",
       "      <td>0</td>\n",
       "    </tr>\n",
       "    <tr>\n",
       "      <th>2</th>\n",
       "      <td>female</td>\n",
       "      <td>0</td>\n",
       "    </tr>\n",
       "    <tr>\n",
       "      <th>3</th>\n",
       "      <td>female</td>\n",
       "      <td>0</td>\n",
       "    </tr>\n",
       "    <tr>\n",
       "      <th>4</th>\n",
       "      <td>male</td>\n",
       "      <td>1</td>\n",
       "    </tr>\n",
       "  </tbody>\n",
       "</table>\n",
       "</div>"
      ],
      "text/plain": [
       "      sex  sex2\n",
       "0    male     1\n",
       "1  female     0\n",
       "2  female     0\n",
       "3  female     0\n",
       "4    male     1"
      ]
     },
     "execution_count": 84,
     "metadata": {},
     "output_type": "execute_result"
    }
   ],
   "source": [
    "train['sex2'] = train['sex'].replace(['male', 'female'], [1, 0])\n",
    "train[['sex','sex2']].head()"
   ]
  },
  {
   "cell_type": "markdown",
   "id": "fb65680c-015d-47c0-a56b-f8c57420563f",
   "metadata": {},
   "source": [
    "* 방법1) LabelEncoder : 글자를 숫자로"
   ]
  },
  {
   "cell_type": "code",
   "execution_count": 85,
   "id": "b4dae7e1-2250-4cdf-9eb8-5cdb17fddbc9",
   "metadata": {
    "tags": []
   },
   "outputs": [
    {
     "data": {
      "text/html": [
       "<div>\n",
       "<style scoped>\n",
       "    .dataframe tbody tr th:only-of-type {\n",
       "        vertical-align: middle;\n",
       "    }\n",
       "\n",
       "    .dataframe tbody tr th {\n",
       "        vertical-align: top;\n",
       "    }\n",
       "\n",
       "    .dataframe thead th {\n",
       "        text-align: right;\n",
       "    }\n",
       "</style>\n",
       "<table border=\"1\" class=\"dataframe\">\n",
       "  <thead>\n",
       "    <tr style=\"text-align: right;\">\n",
       "      <th></th>\n",
       "      <th>sex</th>\n",
       "      <th>sex_label</th>\n",
       "    </tr>\n",
       "  </thead>\n",
       "  <tbody>\n",
       "    <tr>\n",
       "      <th>0</th>\n",
       "      <td>male</td>\n",
       "      <td>1</td>\n",
       "    </tr>\n",
       "    <tr>\n",
       "      <th>1</th>\n",
       "      <td>female</td>\n",
       "      <td>0</td>\n",
       "    </tr>\n",
       "    <tr>\n",
       "      <th>2</th>\n",
       "      <td>female</td>\n",
       "      <td>0</td>\n",
       "    </tr>\n",
       "    <tr>\n",
       "      <th>3</th>\n",
       "      <td>female</td>\n",
       "      <td>0</td>\n",
       "    </tr>\n",
       "    <tr>\n",
       "      <th>4</th>\n",
       "      <td>male</td>\n",
       "      <td>1</td>\n",
       "    </tr>\n",
       "  </tbody>\n",
       "</table>\n",
       "</div>"
      ],
      "text/plain": [
       "      sex  sex_label\n",
       "0    male          1\n",
       "1  female          0\n",
       "2  female          0\n",
       "3  female          0\n",
       "4    male          1"
      ]
     },
     "execution_count": 85,
     "metadata": {},
     "output_type": "execute_result"
    }
   ],
   "source": [
    "from sklearn.preprocessing import LabelEncoder\n",
    "\n",
    "le = LabelEncoder()\n",
    "le.fit(train['sex'])\n",
    "train['sex_label'] =  le.transform(train['sex'])\n",
    "train[['sex','sex_label']].head()"
   ]
  },
  {
   "cell_type": "markdown",
   "id": "06de04d7-1f87-4943-863d-2682ca9eb0ef",
   "metadata": {},
   "source": [
    "* 방법2) One-hot Encoder : 2차원 matrics만"
   ]
  },
  {
   "cell_type": "code",
   "execution_count": 86,
   "id": "100e88d0-dc3f-4246-9ebc-1e8b98c918d7",
   "metadata": {
    "tags": []
   },
   "outputs": [
    {
     "data": {
      "text/plain": [
       "array([[0, 1],\n",
       "       [1, 0],\n",
       "       [1, 0],\n",
       "       ...,\n",
       "       [1, 0],\n",
       "       [0, 1],\n",
       "       [0, 1]])"
      ]
     },
     "execution_count": 86,
     "metadata": {},
     "output_type": "execute_result"
    }
   ],
   "source": [
    "from sklearn.preprocessing import OneHotEncoder\n",
    "\n",
    "oe = OneHotEncoder(sparse=False, dtype='int')\n",
    "oe.fit(train['sex'].values.reshape(-1,1))\n",
    "oharr = oe.transform(train['sex'].values.reshape(-1,1))\n",
    "oharr"
   ]
  },
  {
   "cell_type": "code",
   "execution_count": 87,
   "id": "5beabc31-3e5b-4693-b47b-1a5a995c2de1",
   "metadata": {
    "tags": []
   },
   "outputs": [
    {
     "data": {
      "text/html": [
       "<div>\n",
       "<style scoped>\n",
       "    .dataframe tbody tr th:only-of-type {\n",
       "        vertical-align: middle;\n",
       "    }\n",
       "\n",
       "    .dataframe tbody tr th {\n",
       "        vertical-align: top;\n",
       "    }\n",
       "\n",
       "    .dataframe thead th {\n",
       "        text-align: right;\n",
       "    }\n",
       "</style>\n",
       "<table border=\"1\" class=\"dataframe\">\n",
       "  <thead>\n",
       "    <tr style=\"text-align: right;\">\n",
       "      <th></th>\n",
       "      <th>survived</th>\n",
       "      <th>pclass</th>\n",
       "      <th>sex</th>\n",
       "      <th>name_title2</th>\n",
       "      <th>age_gubun</th>\n",
       "      <th>family</th>\n",
       "      <th>age2</th>\n",
       "      <th>sex2</th>\n",
       "      <th>sex_label</th>\n",
       "      <th>female</th>\n",
       "      <th>male</th>\n",
       "    </tr>\n",
       "  </thead>\n",
       "  <tbody>\n",
       "    <tr>\n",
       "      <th>0</th>\n",
       "      <td>0</td>\n",
       "      <td>3</td>\n",
       "      <td>male</td>\n",
       "      <td>Mr</td>\n",
       "      <td>2</td>\n",
       "      <td>2</td>\n",
       "      <td>22.0</td>\n",
       "      <td>1</td>\n",
       "      <td>1</td>\n",
       "      <td>0</td>\n",
       "      <td>1</td>\n",
       "    </tr>\n",
       "    <tr>\n",
       "      <th>1</th>\n",
       "      <td>1</td>\n",
       "      <td>1</td>\n",
       "      <td>female</td>\n",
       "      <td>Mrs</td>\n",
       "      <td>3</td>\n",
       "      <td>2</td>\n",
       "      <td>38.0</td>\n",
       "      <td>0</td>\n",
       "      <td>0</td>\n",
       "      <td>1</td>\n",
       "      <td>0</td>\n",
       "    </tr>\n",
       "    <tr>\n",
       "      <th>2</th>\n",
       "      <td>1</td>\n",
       "      <td>3</td>\n",
       "      <td>female</td>\n",
       "      <td>Miss</td>\n",
       "      <td>2</td>\n",
       "      <td>1</td>\n",
       "      <td>26.0</td>\n",
       "      <td>0</td>\n",
       "      <td>0</td>\n",
       "      <td>1</td>\n",
       "      <td>0</td>\n",
       "    </tr>\n",
       "    <tr>\n",
       "      <th>3</th>\n",
       "      <td>1</td>\n",
       "      <td>1</td>\n",
       "      <td>female</td>\n",
       "      <td>Mrs</td>\n",
       "      <td>3</td>\n",
       "      <td>2</td>\n",
       "      <td>35.0</td>\n",
       "      <td>0</td>\n",
       "      <td>0</td>\n",
       "      <td>1</td>\n",
       "      <td>0</td>\n",
       "    </tr>\n",
       "    <tr>\n",
       "      <th>4</th>\n",
       "      <td>0</td>\n",
       "      <td>3</td>\n",
       "      <td>male</td>\n",
       "      <td>Mr</td>\n",
       "      <td>3</td>\n",
       "      <td>1</td>\n",
       "      <td>35.0</td>\n",
       "      <td>1</td>\n",
       "      <td>1</td>\n",
       "      <td>0</td>\n",
       "      <td>1</td>\n",
       "    </tr>\n",
       "  </tbody>\n",
       "</table>\n",
       "</div>"
      ],
      "text/plain": [
       "   survived  pclass     sex name_title2  age_gubun  family  age2  sex2  \\\n",
       "0         0       3    male          Mr          2       2  22.0     1   \n",
       "1         1       1  female         Mrs          3       2  38.0     0   \n",
       "2         1       3  female        Miss          2       1  26.0     0   \n",
       "3         1       1  female         Mrs          3       2  35.0     0   \n",
       "4         0       3    male          Mr          3       1  35.0     1   \n",
       "\n",
       "   sex_label  female  male  \n",
       "0          1       0     1  \n",
       "1          0       1     0  \n",
       "2          0       1     0  \n",
       "3          0       1     0  \n",
       "4          1       0     1  "
      ]
     },
     "execution_count": 87,
     "metadata": {},
     "output_type": "execute_result"
    }
   ],
   "source": [
    "ohdf = pd.DataFrame(oharr, columns=oe.categories_[0])\n",
    "tdf = pd.concat([train, ohdf], axis=1)\n",
    "tdf.head()"
   ]
  },
  {
   "cell_type": "markdown",
   "id": "4b19cd15-0d62-41ef-b74e-70454eccdbb4",
   "metadata": {
    "tags": []
   },
   "source": [
    "### name_title2 object"
   ]
  },
  {
   "cell_type": "markdown",
   "id": "7e1f7407-1fe8-4df9-b6a4-371471cdffad",
   "metadata": {},
   "source": [
    "* 방법5) df[컬럼].astype(\"category\")"
   ]
  },
  {
   "cell_type": "code",
   "execution_count": 88,
   "id": "0a377805-9ed5-4d70-b2b6-7fa9ae67c27a",
   "metadata": {
    "tags": []
   },
   "outputs": [
    {
     "name": "stdout",
     "output_type": "stream",
     "text": [
      "<class 'pandas.core.frame.DataFrame'>\n",
      "RangeIndex: 891 entries, 0 to 890\n",
      "Data columns (total 10 columns):\n",
      " #   Column       Non-Null Count  Dtype   \n",
      "---  ------       --------------  -----   \n",
      " 0   survived     891 non-null    int64   \n",
      " 1   pclass       891 non-null    int64   \n",
      " 2   sex          891 non-null    object  \n",
      " 3   name_title2  891 non-null    object  \n",
      " 4   age_gubun    891 non-null    int32   \n",
      " 5   family       891 non-null    int64   \n",
      " 6   age2         891 non-null    float64 \n",
      " 7   sex2         891 non-null    int64   \n",
      " 8   sex_label    891 non-null    int32   \n",
      " 9   name_title3  891 non-null    category\n",
      "dtypes: category(1), float64(1), int32(2), int64(4), object(2)\n",
      "memory usage: 56.9+ KB\n"
     ]
    }
   ],
   "source": [
    "train['name_title3'] = train['name_title2'].astype('category')\n",
    "train.info()"
   ]
  },
  {
   "cell_type": "code",
   "execution_count": 89,
   "id": "f2542575-41fb-4430-8130-ff0cdc306e1f",
   "metadata": {},
   "outputs": [
    {
     "data": {
      "text/html": [
       "<div>\n",
       "<style scoped>\n",
       "    .dataframe tbody tr th:only-of-type {\n",
       "        vertical-align: middle;\n",
       "    }\n",
       "\n",
       "    .dataframe tbody tr th {\n",
       "        vertical-align: top;\n",
       "    }\n",
       "\n",
       "    .dataframe thead th {\n",
       "        text-align: right;\n",
       "    }\n",
       "</style>\n",
       "<table border=\"1\" class=\"dataframe\">\n",
       "  <thead>\n",
       "    <tr style=\"text-align: right;\">\n",
       "      <th></th>\n",
       "      <th>survived</th>\n",
       "      <th>pclass</th>\n",
       "      <th>sex</th>\n",
       "      <th>name_title2</th>\n",
       "      <th>age_gubun</th>\n",
       "      <th>family</th>\n",
       "      <th>age2</th>\n",
       "      <th>sex2</th>\n",
       "      <th>sex_label</th>\n",
       "      <th>name_title3</th>\n",
       "      <th>name_title3_code</th>\n",
       "    </tr>\n",
       "  </thead>\n",
       "  <tbody>\n",
       "    <tr>\n",
       "      <th>0</th>\n",
       "      <td>0</td>\n",
       "      <td>3</td>\n",
       "      <td>male</td>\n",
       "      <td>Mr</td>\n",
       "      <td>2</td>\n",
       "      <td>2</td>\n",
       "      <td>22.0</td>\n",
       "      <td>1</td>\n",
       "      <td>1</td>\n",
       "      <td>Mr</td>\n",
       "      <td>3</td>\n",
       "    </tr>\n",
       "    <tr>\n",
       "      <th>1</th>\n",
       "      <td>1</td>\n",
       "      <td>1</td>\n",
       "      <td>female</td>\n",
       "      <td>Mrs</td>\n",
       "      <td>3</td>\n",
       "      <td>2</td>\n",
       "      <td>38.0</td>\n",
       "      <td>0</td>\n",
       "      <td>0</td>\n",
       "      <td>Mrs</td>\n",
       "      <td>4</td>\n",
       "    </tr>\n",
       "    <tr>\n",
       "      <th>2</th>\n",
       "      <td>1</td>\n",
       "      <td>3</td>\n",
       "      <td>female</td>\n",
       "      <td>Miss</td>\n",
       "      <td>2</td>\n",
       "      <td>1</td>\n",
       "      <td>26.0</td>\n",
       "      <td>0</td>\n",
       "      <td>0</td>\n",
       "      <td>Miss</td>\n",
       "      <td>2</td>\n",
       "    </tr>\n",
       "    <tr>\n",
       "      <th>3</th>\n",
       "      <td>1</td>\n",
       "      <td>1</td>\n",
       "      <td>female</td>\n",
       "      <td>Mrs</td>\n",
       "      <td>3</td>\n",
       "      <td>2</td>\n",
       "      <td>35.0</td>\n",
       "      <td>0</td>\n",
       "      <td>0</td>\n",
       "      <td>Mrs</td>\n",
       "      <td>4</td>\n",
       "    </tr>\n",
       "    <tr>\n",
       "      <th>4</th>\n",
       "      <td>0</td>\n",
       "      <td>3</td>\n",
       "      <td>male</td>\n",
       "      <td>Mr</td>\n",
       "      <td>3</td>\n",
       "      <td>1</td>\n",
       "      <td>35.0</td>\n",
       "      <td>1</td>\n",
       "      <td>1</td>\n",
       "      <td>Mr</td>\n",
       "      <td>3</td>\n",
       "    </tr>\n",
       "  </tbody>\n",
       "</table>\n",
       "</div>"
      ],
      "text/plain": [
       "   survived  pclass     sex name_title2  age_gubun  family  age2  sex2  \\\n",
       "0         0       3    male          Mr          2       2  22.0     1   \n",
       "1         1       1  female         Mrs          3       2  38.0     0   \n",
       "2         1       3  female        Miss          2       1  26.0     0   \n",
       "3         1       1  female         Mrs          3       2  35.0     0   \n",
       "4         0       3    male          Mr          3       1  35.0     1   \n",
       "\n",
       "   sex_label name_title3  name_title3_code  \n",
       "0          1          Mr                 3  \n",
       "1          0         Mrs                 4  \n",
       "2          0        Miss                 2  \n",
       "3          0         Mrs                 4  \n",
       "4          1          Mr                 3  "
      ]
     },
     "execution_count": 89,
     "metadata": {},
     "output_type": "execute_result"
    }
   ],
   "source": [
    "train['name_title3_code'] = train['name_title3'].cat.codes\n",
    "train.head()"
   ]
  },
  {
   "cell_type": "markdown",
   "id": "a95e0c3f-7721-42c1-b671-91d9c9e2990b",
   "metadata": {},
   "source": [
    "* 방법3) get_dummis(df['컬럼'])"
   ]
  },
  {
   "cell_type": "code",
   "execution_count": 90,
   "id": "a51c26ad-c2ff-4530-a418-053ee4f5e6a4",
   "metadata": {
    "tags": []
   },
   "outputs": [
    {
     "data": {
      "text/html": [
       "<div>\n",
       "<style scoped>\n",
       "    .dataframe tbody tr th:only-of-type {\n",
       "        vertical-align: middle;\n",
       "    }\n",
       "\n",
       "    .dataframe tbody tr th {\n",
       "        vertical-align: top;\n",
       "    }\n",
       "\n",
       "    .dataframe thead th {\n",
       "        text-align: right;\n",
       "    }\n",
       "</style>\n",
       "<table border=\"1\" class=\"dataframe\">\n",
       "  <thead>\n",
       "    <tr style=\"text-align: right;\">\n",
       "      <th></th>\n",
       "      <th>survived</th>\n",
       "      <th>pclass</th>\n",
       "      <th>sex</th>\n",
       "      <th>name_title2</th>\n",
       "      <th>age_gubun</th>\n",
       "      <th>family</th>\n",
       "      <th>age2</th>\n",
       "      <th>sex2</th>\n",
       "      <th>sex_label</th>\n",
       "      <th>name_title3</th>\n",
       "      <th>name_title3_code</th>\n",
       "      <th>Dr</th>\n",
       "      <th>Master</th>\n",
       "      <th>Miss</th>\n",
       "      <th>Mr</th>\n",
       "      <th>Mrs</th>\n",
       "    </tr>\n",
       "  </thead>\n",
       "  <tbody>\n",
       "    <tr>\n",
       "      <th>0</th>\n",
       "      <td>0</td>\n",
       "      <td>3</td>\n",
       "      <td>male</td>\n",
       "      <td>Mr</td>\n",
       "      <td>2</td>\n",
       "      <td>2</td>\n",
       "      <td>22.0</td>\n",
       "      <td>1</td>\n",
       "      <td>1</td>\n",
       "      <td>Mr</td>\n",
       "      <td>3</td>\n",
       "      <td>0</td>\n",
       "      <td>0</td>\n",
       "      <td>0</td>\n",
       "      <td>1</td>\n",
       "      <td>0</td>\n",
       "    </tr>\n",
       "    <tr>\n",
       "      <th>1</th>\n",
       "      <td>1</td>\n",
       "      <td>1</td>\n",
       "      <td>female</td>\n",
       "      <td>Mrs</td>\n",
       "      <td>3</td>\n",
       "      <td>2</td>\n",
       "      <td>38.0</td>\n",
       "      <td>0</td>\n",
       "      <td>0</td>\n",
       "      <td>Mrs</td>\n",
       "      <td>4</td>\n",
       "      <td>0</td>\n",
       "      <td>0</td>\n",
       "      <td>0</td>\n",
       "      <td>0</td>\n",
       "      <td>1</td>\n",
       "    </tr>\n",
       "    <tr>\n",
       "      <th>2</th>\n",
       "      <td>1</td>\n",
       "      <td>3</td>\n",
       "      <td>female</td>\n",
       "      <td>Miss</td>\n",
       "      <td>2</td>\n",
       "      <td>1</td>\n",
       "      <td>26.0</td>\n",
       "      <td>0</td>\n",
       "      <td>0</td>\n",
       "      <td>Miss</td>\n",
       "      <td>2</td>\n",
       "      <td>0</td>\n",
       "      <td>0</td>\n",
       "      <td>1</td>\n",
       "      <td>0</td>\n",
       "      <td>0</td>\n",
       "    </tr>\n",
       "    <tr>\n",
       "      <th>3</th>\n",
       "      <td>1</td>\n",
       "      <td>1</td>\n",
       "      <td>female</td>\n",
       "      <td>Mrs</td>\n",
       "      <td>3</td>\n",
       "      <td>2</td>\n",
       "      <td>35.0</td>\n",
       "      <td>0</td>\n",
       "      <td>0</td>\n",
       "      <td>Mrs</td>\n",
       "      <td>4</td>\n",
       "      <td>0</td>\n",
       "      <td>0</td>\n",
       "      <td>0</td>\n",
       "      <td>0</td>\n",
       "      <td>1</td>\n",
       "    </tr>\n",
       "    <tr>\n",
       "      <th>4</th>\n",
       "      <td>0</td>\n",
       "      <td>3</td>\n",
       "      <td>male</td>\n",
       "      <td>Mr</td>\n",
       "      <td>3</td>\n",
       "      <td>1</td>\n",
       "      <td>35.0</td>\n",
       "      <td>1</td>\n",
       "      <td>1</td>\n",
       "      <td>Mr</td>\n",
       "      <td>3</td>\n",
       "      <td>0</td>\n",
       "      <td>0</td>\n",
       "      <td>0</td>\n",
       "      <td>1</td>\n",
       "      <td>0</td>\n",
       "    </tr>\n",
       "  </tbody>\n",
       "</table>\n",
       "</div>"
      ],
      "text/plain": [
       "   survived  pclass     sex name_title2  age_gubun  family  age2  sex2  \\\n",
       "0         0       3    male          Mr          2       2  22.0     1   \n",
       "1         1       1  female         Mrs          3       2  38.0     0   \n",
       "2         1       3  female        Miss          2       1  26.0     0   \n",
       "3         1       1  female         Mrs          3       2  35.0     0   \n",
       "4         0       3    male          Mr          3       1  35.0     1   \n",
       "\n",
       "   sex_label name_title3  name_title3_code  Dr  Master  Miss  Mr  Mrs  \n",
       "0          1          Mr                 3   0       0     0   1    0  \n",
       "1          0         Mrs                 4   0       0     0   0    1  \n",
       "2          0        Miss                 2   0       0     1   0    0  \n",
       "3          0         Mrs                 4   0       0     0   0    1  \n",
       "4          1          Mr                 3   0       0     0   1    0  "
      ]
     },
     "execution_count": 90,
     "metadata": {},
     "output_type": "execute_result"
    }
   ],
   "source": [
    "dumdf = pd.get_dummies(train['name_title2'])\n",
    "## --- 값 갯수만큼 컬럼이 생긴다\n",
    "tdf = pd.concat([train, dumdf], axis=1)\n",
    "tdf.head()"
   ]
  },
  {
   "cell_type": "code",
   "execution_count": 91,
   "id": "89e173ce-72f3-42d3-ac19-6943dc2dcaef",
   "metadata": {},
   "outputs": [
    {
     "name": "stdout",
     "output_type": "stream",
     "text": [
      "<class 'pandas.core.frame.DataFrame'>\n",
      "RangeIndex: 891 entries, 0 to 890\n",
      "Data columns (total 16 columns):\n",
      " #   Column            Non-Null Count  Dtype   \n",
      "---  ------            --------------  -----   \n",
      " 0   survived          891 non-null    int64   \n",
      " 1   pclass            891 non-null    int64   \n",
      " 2   sex               891 non-null    object  \n",
      " 3   name_title2       891 non-null    object  \n",
      " 4   age_gubun         891 non-null    int32   \n",
      " 5   family            891 non-null    int64   \n",
      " 6   age2              891 non-null    float64 \n",
      " 7   sex2              891 non-null    int64   \n",
      " 8   sex_label         891 non-null    int32   \n",
      " 9   name_title3       891 non-null    category\n",
      " 10  name_title3_code  891 non-null    int8    \n",
      " 11  Dr                891 non-null    uint8   \n",
      " 12  Master            891 non-null    uint8   \n",
      " 13  Miss              891 non-null    uint8   \n",
      " 14  Mr                891 non-null    uint8   \n",
      " 15  Mrs               891 non-null    uint8   \n",
      "dtypes: category(1), float64(1), int32(2), int64(4), int8(1), object(2), uint8(5)\n",
      "memory usage: 62.1+ KB\n"
     ]
    }
   ],
   "source": [
    "tdf.info()"
   ]
  },
  {
   "cell_type": "code",
   "execution_count": 93,
   "id": "f70f55f1-a58c-441d-8a55-28a6fb396d76",
   "metadata": {},
   "outputs": [],
   "source": [
    "drop_idx = ['sex','name_title2','age2','sex_label','name_title3','Dr','Master','Miss','Mr','Mrs']"
   ]
  },
  {
   "cell_type": "code",
   "execution_count": 94,
   "id": "d72177ae-c9dc-4304-8254-a8e07787dc8e",
   "metadata": {
    "tags": []
   },
   "outputs": [
    {
     "data": {
      "text/html": [
       "<div>\n",
       "<style scoped>\n",
       "    .dataframe tbody tr th:only-of-type {\n",
       "        vertical-align: middle;\n",
       "    }\n",
       "\n",
       "    .dataframe tbody tr th {\n",
       "        vertical-align: top;\n",
       "    }\n",
       "\n",
       "    .dataframe thead th {\n",
       "        text-align: right;\n",
       "    }\n",
       "</style>\n",
       "<table border=\"1\" class=\"dataframe\">\n",
       "  <thead>\n",
       "    <tr style=\"text-align: right;\">\n",
       "      <th></th>\n",
       "      <th>survived</th>\n",
       "      <th>pclass</th>\n",
       "      <th>age_gubun</th>\n",
       "      <th>family</th>\n",
       "      <th>sex2</th>\n",
       "      <th>name_title3_code</th>\n",
       "    </tr>\n",
       "  </thead>\n",
       "  <tbody>\n",
       "    <tr>\n",
       "      <th>0</th>\n",
       "      <td>0</td>\n",
       "      <td>3</td>\n",
       "      <td>2</td>\n",
       "      <td>2</td>\n",
       "      <td>1</td>\n",
       "      <td>3</td>\n",
       "    </tr>\n",
       "    <tr>\n",
       "      <th>1</th>\n",
       "      <td>1</td>\n",
       "      <td>1</td>\n",
       "      <td>3</td>\n",
       "      <td>2</td>\n",
       "      <td>0</td>\n",
       "      <td>4</td>\n",
       "    </tr>\n",
       "    <tr>\n",
       "      <th>2</th>\n",
       "      <td>1</td>\n",
       "      <td>3</td>\n",
       "      <td>2</td>\n",
       "      <td>1</td>\n",
       "      <td>0</td>\n",
       "      <td>2</td>\n",
       "    </tr>\n",
       "    <tr>\n",
       "      <th>3</th>\n",
       "      <td>1</td>\n",
       "      <td>1</td>\n",
       "      <td>3</td>\n",
       "      <td>2</td>\n",
       "      <td>0</td>\n",
       "      <td>4</td>\n",
       "    </tr>\n",
       "    <tr>\n",
       "      <th>4</th>\n",
       "      <td>0</td>\n",
       "      <td>3</td>\n",
       "      <td>3</td>\n",
       "      <td>1</td>\n",
       "      <td>1</td>\n",
       "      <td>3</td>\n",
       "    </tr>\n",
       "  </tbody>\n",
       "</table>\n",
       "</div>"
      ],
      "text/plain": [
       "   survived  pclass  age_gubun  family  sex2  name_title3_code\n",
       "0         0       3          2       2     1                 3\n",
       "1         1       1          3       2     0                 4\n",
       "2         1       3          2       1     0                 2\n",
       "3         1       1          3       2     0                 4\n",
       "4         0       3          3       1     1                 3"
      ]
     },
     "execution_count": 94,
     "metadata": {},
     "output_type": "execute_result"
    }
   ],
   "source": [
    "tdf = tdf.drop(columns = drop_idx,axis = 1)\n",
    "tdf.head()"
   ]
  },
  {
   "cell_type": "code",
   "execution_count": 95,
   "id": "dcee1a9b-cc70-453a-b064-9639595db6a1",
   "metadata": {
    "tags": []
   },
   "outputs": [
    {
     "data": {
      "text/html": [
       "<div>\n",
       "<style scoped>\n",
       "    .dataframe tbody tr th:only-of-type {\n",
       "        vertical-align: middle;\n",
       "    }\n",
       "\n",
       "    .dataframe tbody tr th {\n",
       "        vertical-align: top;\n",
       "    }\n",
       "\n",
       "    .dataframe thead th {\n",
       "        text-align: right;\n",
       "    }\n",
       "</style>\n",
       "<table border=\"1\" class=\"dataframe\">\n",
       "  <thead>\n",
       "    <tr style=\"text-align: right;\">\n",
       "      <th></th>\n",
       "      <th>survived</th>\n",
       "      <th>pclass</th>\n",
       "      <th>age_gubun</th>\n",
       "      <th>family</th>\n",
       "      <th>sex</th>\n",
       "      <th>name_title3_code</th>\n",
       "    </tr>\n",
       "  </thead>\n",
       "  <tbody>\n",
       "    <tr>\n",
       "      <th>0</th>\n",
       "      <td>0</td>\n",
       "      <td>3</td>\n",
       "      <td>2</td>\n",
       "      <td>2</td>\n",
       "      <td>1</td>\n",
       "      <td>3</td>\n",
       "    </tr>\n",
       "    <tr>\n",
       "      <th>1</th>\n",
       "      <td>1</td>\n",
       "      <td>1</td>\n",
       "      <td>3</td>\n",
       "      <td>2</td>\n",
       "      <td>0</td>\n",
       "      <td>4</td>\n",
       "    </tr>\n",
       "    <tr>\n",
       "      <th>2</th>\n",
       "      <td>1</td>\n",
       "      <td>3</td>\n",
       "      <td>2</td>\n",
       "      <td>1</td>\n",
       "      <td>0</td>\n",
       "      <td>2</td>\n",
       "    </tr>\n",
       "    <tr>\n",
       "      <th>3</th>\n",
       "      <td>1</td>\n",
       "      <td>1</td>\n",
       "      <td>3</td>\n",
       "      <td>2</td>\n",
       "      <td>0</td>\n",
       "      <td>4</td>\n",
       "    </tr>\n",
       "    <tr>\n",
       "      <th>4</th>\n",
       "      <td>0</td>\n",
       "      <td>3</td>\n",
       "      <td>3</td>\n",
       "      <td>1</td>\n",
       "      <td>1</td>\n",
       "      <td>3</td>\n",
       "    </tr>\n",
       "  </tbody>\n",
       "</table>\n",
       "</div>"
      ],
      "text/plain": [
       "   survived  pclass  age_gubun  family  sex  name_title3_code\n",
       "0         0       3          2       2    1                 3\n",
       "1         1       1          3       2    0                 4\n",
       "2         1       3          2       1    0                 2\n",
       "3         1       1          3       2    0                 4\n",
       "4         0       3          3       1    1                 3"
      ]
     },
     "execution_count": 95,
     "metadata": {},
     "output_type": "execute_result"
    }
   ],
   "source": [
    "tdf = tdf.rename(columns = {'sex2':'sex'})\n",
    "tdf.head()"
   ]
  },
  {
   "cell_type": "markdown",
   "id": "4a0bebd9-d2e4-4169-962b-2c8dd297d445",
   "metadata": {},
   "source": [
    "# 모델 학습\n",
    "* class sklearn.tree.DecisionTreeClassifier(*, criterion='gini', splitter='best', max_depth=None, min_samples_split=2, min_samples_leaf=1, min_weight_fraction_leaf=0.0, max_features=None, random_state=None, max_leaf_nodes=None, min_impurity_decrease=0.0, class_weight=None, ccp_alpha=0.0)\n",
    "* sklearn.model_selection.train_test_split(*arrays, test_size=None, train_size=None, random_state=None, shuffle=True, stratify=None)\n",
    "* sklearn.metrics.accuracy_score(y_true, y_pred, *, normalize=True, sample_weight=None)"
   ]
  },
  {
   "cell_type": "code",
   "execution_count": 131,
   "id": "15e6621b-f19d-4ccf-ad2e-6fbfeebabfe9",
   "metadata": {
    "tags": []
   },
   "outputs": [
    {
     "data": {
      "text/plain": [
       "((712, 5), (179, 5), (712,), (179,))"
      ]
     },
     "execution_count": 131,
     "metadata": {},
     "output_type": "execute_result"
    }
   ],
   "source": [
    "from sklearn.tree import DecisionTreeClassifier\n",
    "from sklearn.model_selection import train_test_split\n",
    "from sklearn.metrics import accuracy_score\n",
    "\n",
    "y=tdf['survived']\n",
    "# y는 타겟/1차 디멘션 소문자\n",
    "X=tdf.drop('survived', axis=1)\n",
    "# 2차 디멘션 대문자\n",
    "X_train, X_test,y_train, y_test  = train_test_split(X,y, test_size = 0.2, random_state = 1212)+\n",
    "# 일반적으로 문제지 먼저\n",
    "X_train.shape, X_test.shape,y_train.shape, y_test.shape\n",
    "# print(y_train)"
   ]
  },
  {
   "cell_type": "code",
   "execution_count": 132,
   "id": "884b4595-1eea-4ad8-8cf9-5b8bdc5ec772",
   "metadata": {
    "tags": []
   },
   "outputs": [],
   "source": [
    "dtc = DecisionTreeClassifier()\n",
    "# 모델선택(생성자 만들기)\n",
    "dtc.fit(X_train,y_train)\n",
    "#학습 fit__train(80%로 학습)\n",
    "y_pred = dtc.predict(X_test)\n",
    "#예측 predict__test(20%로 예측)\n",
    "accuracy = accuracy_score(y_test, y_pred)\n",
    "# (정답,예측값)"
   ]
  },
  {
   "cell_type": "code",
   "execution_count": 137,
   "id": "6598b441-0cf5-41a2-bb91-a91b2f322b24",
   "metadata": {
    "tags": []
   },
   "outputs": [
    {
     "data": {
      "text/plain": [
       "(array([0, 0, 1, 1, 0], dtype=int64), array([1, 0, 0, 1, 1], dtype=int64))"
      ]
     },
     "execution_count": 137,
     "metadata": {},
     "output_type": "execute_result"
    }
   ],
   "source": [
    "y_pred[:5],y_test[:5].values\n",
    "# print(accuracy)"
   ]
  },
  {
   "cell_type": "code",
   "execution_count": null,
   "id": "96efa659-9215-4a1b-8aac-bb9afa97f52f",
   "metadata": {},
   "outputs": [],
   "source": []
  },
  {
   "cell_type": "code",
   "execution_count": null,
   "id": "87abce6e-df26-4aff-a9a9-63af2d01b900",
   "metadata": {},
   "outputs": [],
   "source": []
  },
  {
   "cell_type": "code",
   "execution_count": null,
   "id": "248ced92-91b9-4631-a614-b737631499e6",
   "metadata": {},
   "outputs": [],
   "source": []
  },
  {
   "cell_type": "code",
   "execution_count": null,
   "id": "a7fb7fc9-c940-4907-9343-6c032d8758f8",
   "metadata": {},
   "outputs": [],
   "source": []
  },
  {
   "cell_type": "code",
   "execution_count": null,
   "id": "7587fff4-d91c-4a63-a9f6-bb50aef58c8f",
   "metadata": {},
   "outputs": [],
   "source": []
  },
  {
   "cell_type": "code",
   "execution_count": null,
   "id": "59a70362-0596-4b37-9fb1-2e1466fc6d0a",
   "metadata": {},
   "outputs": [],
   "source": []
  },
  {
   "cell_type": "code",
   "execution_count": null,
   "id": "4112abd0-3eda-4e45-83cb-3c8692ed6c1e",
   "metadata": {},
   "outputs": [],
   "source": []
  },
  {
   "cell_type": "code",
   "execution_count": null,
   "id": "e8dbe84e-fa63-4b7e-9dd9-ec5c623bf013",
   "metadata": {},
   "outputs": [],
   "source": []
  }
 ],
 "metadata": {
  "kernelspec": {
   "display_name": "Python 3 (ipykernel)",
   "language": "python",
   "name": "python3"
  },
  "language_info": {
   "codemirror_mode": {
    "name": "ipython",
    "version": 3
   },
   "file_extension": ".py",
   "mimetype": "text/x-python",
   "name": "python",
   "nbconvert_exporter": "python",
   "pygments_lexer": "ipython3",
   "version": "3.8.8"
  },
  "toc-autonumbering": true,
  "toc-showcode": false,
  "toc-showmarkdowntxt": false
 },
 "nbformat": 4,
 "nbformat_minor": 5
}
