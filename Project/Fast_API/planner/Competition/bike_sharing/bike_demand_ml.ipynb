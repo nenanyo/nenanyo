{
 "cells": [
  {
   "cell_type": "markdown",
   "id": "6d36fd9b-8277-46dd-ab5d-3563dcc739b7",
   "metadata": {},
   "source": [
    "<font size=6><b>Bike Sharing Demand - ML"
   ]
  },
  {
   "cell_type": "markdown",
   "id": "5cb6f8bb-d3e1-457c-a482-430e612f90a4",
   "metadata": {
    "tags": []
   },
   "source": [
    "<img src=\"./logo.png\">\n",
    "* ref : https://www.kaggle.com/competitions/bike-sharing-demand/data <br>\n",
    "* ref : https://dacon.io/competitions/official/235985/data"
   ]
  },
  {
   "cell_type": "code",
   "execution_count": 1,
   "id": "11769cb6-b939-495e-96c1-ff3598956cec",
   "metadata": {
    "tags": []
   },
   "outputs": [
    {
     "data": {
      "text/html": [
       "<style>.container{width:100% !important;}</style>"
      ],
      "text/plain": [
       "<IPython.core.display.HTML object>"
      ]
     },
     "metadata": {},
     "output_type": "display_data"
    }
   ],
   "source": [
    "import numpy as np\n",
    "import pandas as pd\n",
    "\n",
    "import matplotlib.pyplot as plt\n",
    "import seaborn as sns\n",
    "\n",
    "\n",
    "sns.set()\n",
    "\n",
    "#-------------------- 차트 관련 속성 (한글처리, 그리드) -----------\n",
    "plt.rcParams['font.family']= 'Malgun Gothic'\n",
    "plt.rcParams['axes.unicode_minus'] = False\n",
    "\n",
    "#-------------------- 주피터 , 출력결과 넓이 늘리기 ---------------\n",
    "# from IPython.core.display import display, HTML\n",
    "from IPython.display import display, HTML\n",
    "\n",
    "display(HTML(\"<style>.container{width:100% !important;}</style>\"))\n",
    "pd.set_option('display.max_rows', 100)\n",
    "pd.set_option('display.max_columns', 100)\n",
    "pd.set_option('max_colwidth', None)\n",
    "\n",
    "import warnings\n",
    "warnings.filterwarnings(action='ignore')"
   ]
  },
  {
   "cell_type": "code",
   "execution_count": 2,
   "id": "02d88c79-95e1-4b95-96de-df858fcc943f",
   "metadata": {},
   "outputs": [],
   "source": [
    "from sklearn.model_selection import train_test_split, cross_val_score, cross_validate, GridSearchCV, StratifiedKFold, KFold\n",
    "from sklearn.metrics import mean_squared_error\n",
    "from sklearn.metrics import mean_squared_log_error\n",
    "\n",
    "from sklearn.ensemble     import RandomForestRegressor\n",
    "from sklearn.tree         import DecisionTreeRegressor\n",
    "from sklearn.linear_model import LinearRegression, Ridge, Lasso\n",
    "# ---- 추가 모델\n",
    "from sklearn.ensemble     import AdaBoostRegressor, VotingRegressor\n",
    "from xgboost              import XGBRegressor\n",
    "from lightgbm             import LGBMRegressor\n",
    "\n"
   ]
  },
  {
   "cell_type": "markdown",
   "id": "3f698b81-6a0b-4c55-b81e-c2fd498d4b74",
   "metadata": {},
   "source": [
    "# Data Load"
   ]
  },
  {
   "cell_type": "code",
   "execution_count": 3,
   "id": "aef310ea-ddad-4ad0-bcea-018ebbe0c5d5",
   "metadata": {
    "tags": []
   },
   "outputs": [],
   "source": [
    "train = pd.read_csv(\"./train.csv\", parse_dates=['datetime'])\n",
    "test  = pd.read_csv(\"./test.csv\" , parse_dates=['datetime'])"
   ]
  },
  {
   "cell_type": "code",
   "execution_count": 4,
   "id": "23a0bbfd-d222-4822-bfad-0fe563517d46",
   "metadata": {
    "tags": []
   },
   "outputs": [
    {
     "name": "stdout",
     "output_type": "stream",
     "text": [
      "<class 'pandas.core.frame.DataFrame'>\n",
      "RangeIndex: 10886 entries, 0 to 10885\n",
      "Data columns (total 12 columns):\n",
      " #   Column      Non-Null Count  Dtype         \n",
      "---  ------      --------------  -----         \n",
      " 0   regdate     10886 non-null  datetime64[ns]\n",
      " 1   season      10886 non-null  int64         \n",
      " 2   holiday     10886 non-null  int64         \n",
      " 3   workingday  10886 non-null  int64         \n",
      " 4   weather     10886 non-null  int64         \n",
      " 5   temp        10886 non-null  float64       \n",
      " 6   atemp       10886 non-null  float64       \n",
      " 7   humidity    10886 non-null  int64         \n",
      " 8   windspeed   10886 non-null  float64       \n",
      " 9   casual      10886 non-null  int64         \n",
      " 10  registered  10886 non-null  int64         \n",
      " 11  regcount    10886 non-null  int64         \n",
      "dtypes: datetime64[ns](1), float64(3), int64(8)\n",
      "memory usage: 1020.7 KB\n",
      "None\n",
      "==================================================\n",
      "<class 'pandas.core.frame.DataFrame'>\n",
      "RangeIndex: 6493 entries, 0 to 6492\n",
      "Data columns (total 9 columns):\n",
      " #   Column      Non-Null Count  Dtype         \n",
      "---  ------      --------------  -----         \n",
      " 0   regdate     6493 non-null   datetime64[ns]\n",
      " 1   season      6493 non-null   int64         \n",
      " 2   holiday     6493 non-null   int64         \n",
      " 3   workingday  6493 non-null   int64         \n",
      " 4   weather     6493 non-null   int64         \n",
      " 5   temp        6493 non-null   float64       \n",
      " 6   atemp       6493 non-null   float64       \n",
      " 7   humidity    6493 non-null   int64         \n",
      " 8   windspeed   6493 non-null   float64       \n",
      "dtypes: datetime64[ns](1), float64(3), int64(5)\n",
      "memory usage: 456.7 KB\n",
      "None\n",
      "==================================================\n"
     ]
    }
   ],
   "source": [
    "df_list = [train, test]\n",
    "for df in df_list:\n",
    "    df.rename(columns = {'datetime' : 'regdate', 'count' : 'regcount'}, inplace = True)\n",
    "    df.columns = df.columns.str.lower()\n",
    "    print(df.info())    \n",
    "    print(\"=====\"*10)\n"
   ]
  },
  {
   "cell_type": "markdown",
   "id": "df97bd52-7a8d-46e3-8ee7-342df27f95de",
   "metadata": {},
   "source": [
    "## 점수보기"
   ]
  },
  {
   "cell_type": "markdown",
   "id": "87d1e0d4-27a9-4fa8-8d33-d1e7a47e9153",
   "metadata": {},
   "source": [
    "# Feature Engineering"
   ]
  },
  {
   "cell_type": "markdown",
   "id": "48e56076-05c4-4424-9669-dea75029d881",
   "metadata": {},
   "source": [
    "## 파생피쳐\n",
    "* regdate\n",
    "* day_type"
   ]
  },
  {
   "cell_type": "code",
   "execution_count": 5,
   "id": "a7824002-3887-48c9-97f9-b50bd9862132",
   "metadata": {
    "tags": []
   },
   "outputs": [],
   "source": [
    "df_list = [train, test]\n",
    "for df in df_list:\n",
    "    df['y'] = df['regdate'].dt.year\n",
    "    df['m'] = df['regdate'].dt.month\n",
    "    df['d'] = df['regdate'].dt.day\n",
    "    # train과 test 날짜가 다르다 / 있으면 안 된다\n",
    "    df['h'] = df['regdate'].dt.hour\n",
    "    df['w'] = df['regdate'].dt.dayofweek\n",
    "    #df['woy'] = df['regdate'].dt.weekofyear\n",
    "    \n",
    "    \n",
    "    \n",
    "    df['day_type'] = 0\n",
    "    df['day_type'] = np.where( (df['holiday']==0) & (df['workingday'] == 1),   1,  df['day_type'])\n",
    "    df['day_type'] = np.where( (df['holiday']==1) & (df['workingday'] == 0),   2,  df['day_type'])\n",
    "    \n",
    "    # df['peak'] = df[['h', 'workingday']].apply(lambda x: (0, 1)[(x['workingday'] == 1 and  ( x['h'] == 8 or 17 <= x['h'] <= 18 or 12 <= x['h'] <= 12)) or (x['workingday'] == 0 and  10 <= x['h'] <= 19)], axis = 1)\n",
    "    # df['ideal'] = df[['temp', 'windspeed']].apply(lambda x: (0, 1)[x['temp'] > 27 and x['windspeed'] < 30], axis = 1)\n",
    "    # df['sticky'] = df[['humidity', 'workingday']].apply(lambda x: (0, 1)[x['workingday'] == 1 and x['humidity'] >= 60], axis = 1)\n",
    "    \n",
    "#---------------------------------------------------------------------   \n",
    "    #sandy\n",
    "    df['holiday'] = df[['m', 'd', 'holiday', 'y']].apply(lambda x: (x['holiday'], 1)[x['y'] == 2012 and x['m'] == 10 and (x['d'] in [30])], axis = 1)\n",
    "    #christmas day and others\n",
    "    df['holiday'] = df[['m', 'd', 'holiday']].apply(lambda x: (x['holiday'], 1)[x['m'] == 12 and (x['d'] in [24, 26, 31])], axis = 1)\n",
    "    df['workingday'] = df[['m', 'd', 'workingday']].apply(lambda x: (x['workingday'], 0)[x['m'] == 12 and x['d'] in [24, 31]], axis = 1)\n",
    "    df.set_index('regdate', inplace=True)\n",
    "    df.drop('d', axis = 1, inplace = True)\n",
    "    \n",
    "#---------------------------------------------------------------------\n",
    "    # oh - encoding\n",
    "    df =pd.get_dummies(train, columns=['season','weather','m','y', 'h','w', 'day_type'])\n",
    "    # df.info()\n",
    "#---------------------------------------------------------------------\n",
    "    # target scaler : 회귀에서는 target 반드시 스케일링 한다\n",
    "    \n",
    "#---------------------------------------------------------------------    \n",
    "    "
   ]
  },
  {
   "cell_type": "code",
   "execution_count": 6,
   "id": "4a36428c-db62-4b4d-8a21-df45f986b2a2",
   "metadata": {},
   "outputs": [
    {
     "name": "stdout",
     "output_type": "stream",
     "text": [
      "<class 'pandas.core.frame.DataFrame'>\n",
      "DatetimeIndex: 6493 entries, 2011-01-20 00:00:00 to 2012-12-31 23:00:00\n",
      "Data columns (total 13 columns):\n",
      " #   Column      Non-Null Count  Dtype  \n",
      "---  ------      --------------  -----  \n",
      " 0   season      6493 non-null   int64  \n",
      " 1   holiday     6493 non-null   int64  \n",
      " 2   workingday  6493 non-null   int64  \n",
      " 3   weather     6493 non-null   int64  \n",
      " 4   temp        6493 non-null   float64\n",
      " 5   atemp       6493 non-null   float64\n",
      " 6   humidity    6493 non-null   int64  \n",
      " 7   windspeed   6493 non-null   float64\n",
      " 8   y           6493 non-null   int64  \n",
      " 9   m           6493 non-null   int64  \n",
      " 10  h           6493 non-null   int64  \n",
      " 11  w           6493 non-null   int64  \n",
      " 12  day_type    6493 non-null   int64  \n",
      "dtypes: float64(3), int64(10)\n",
      "memory usage: 710.2 KB\n"
     ]
    }
   ],
   "source": [
    "test.info()"
   ]
  },
  {
   "cell_type": "markdown",
   "id": "43f2044c-ea87-485a-ad2b-6bf17308cb01",
   "metadata": {
    "tags": []
   },
   "source": [
    "## windspeed 0 채우기"
   ]
  },
  {
   "cell_type": "code",
   "execution_count": 7,
   "id": "b862156b-ea56-4bed-bd48-7de9a2cf7b51",
   "metadata": {},
   "outputs": [
    {
     "name": "stdout",
     "output_type": "stream",
     "text": [
      "<class 'pandas.core.frame.DataFrame'>\n",
      "DatetimeIndex: 10886 entries, 2011-01-01 00:00:00 to 2012-12-19 23:00:00\n",
      "Data columns (total 16 columns):\n",
      " #   Column      Non-Null Count  Dtype  \n",
      "---  ------      --------------  -----  \n",
      " 0   season      10886 non-null  int64  \n",
      " 1   holiday     10886 non-null  int64  \n",
      " 2   workingday  10886 non-null  int64  \n",
      " 3   weather     10886 non-null  int64  \n",
      " 4   temp        10886 non-null  float64\n",
      " 5   atemp       10886 non-null  float64\n",
      " 6   humidity    10886 non-null  int64  \n",
      " 7   windspeed   10886 non-null  float64\n",
      " 8   casual      10886 non-null  int64  \n",
      " 9   registered  10886 non-null  int64  \n",
      " 10  regcount    10886 non-null  int64  \n",
      " 11  y           10886 non-null  int64  \n",
      " 12  m           10886 non-null  int64  \n",
      " 13  h           10886 non-null  int64  \n",
      " 14  w           10886 non-null  int64  \n",
      " 15  day_type    10886 non-null  int64  \n",
      "dtypes: float64(3), int64(13)\n",
      "memory usage: 1.4 MB\n"
     ]
    }
   ],
   "source": [
    "train.info()"
   ]
  },
  {
   "cell_type": "markdown",
   "id": "d3a4d713-1f6d-49d3-b7ae-5d4e3ed5849e",
   "metadata": {
    "tags": []
   },
   "source": [
    "## windspeed 0 채우기"
   ]
  },
  {
   "cell_type": "code",
   "execution_count": 8,
   "id": "3e425ffa-21f3-4c23-8c10-42a97c669ebd",
   "metadata": {},
   "outputs": [
    {
     "data": {
      "text/plain": [
       "((10886, 16), (6493, 13))"
      ]
     },
     "execution_count": 8,
     "metadata": {},
     "output_type": "execute_result"
    }
   ],
   "source": [
    "train.shape, test.shape"
   ]
  },
  {
   "cell_type": "code",
   "execution_count": 9,
   "id": "bf4d19cc-4b90-40e1-807e-3498347e2643",
   "metadata": {
    "tags": []
   },
   "outputs": [],
   "source": [
    "def my_fill_windspeed(df):\n",
    "    target = df[['regcount','casual','registered']]\n",
    "    df = df.drop(['regcount','casual','registered'], axis=1)\n",
    "\n",
    "    df1   = df[df['windspeed'] != 0]\n",
    "    y_df1 = df1['windspeed']\n",
    "    X_df1 = df1.drop('windspeed', axis=1)\n",
    "    \n",
    "    rf = RandomForestRegressor(random_state=11)\n",
    "    X_df1_8, X_df1_2, y_df1_8, y_df1_2 = train_test_split(X_df1, y_df1, test_size=0.2,random_state=11)\n",
    "    rf.fit(X_df1_8, y_df1_8)\n",
    "    \n",
    "    pred = rf.predict(X_df1_2)\n",
    "    mse_score = mean_squared_error(y_df1_2, pred)\n",
    "    print(\"RMSE : \", np.sqrt(mse_score) )\n",
    "\n",
    "    df0 = df[df['windspeed'] == 0]\n",
    "    y_df0 = df0['windspeed']\n",
    "    X_df0 = df0.drop('windspeed', axis=1)\n",
    "    pred = rf.predict(X_df0)\n",
    "    widx = X_df0.index.values\n",
    "    \n",
    "    df.loc[widx, 'windspeed'] = pred\n",
    "    return pd.concat([df, target], axis=1)"
   ]
  },
  {
   "cell_type": "code",
   "execution_count": 10,
   "id": "e8f42329-3280-4766-95c0-190a44312815",
   "metadata": {
    "tags": []
   },
   "outputs": [
    {
     "name": "stdout",
     "output_type": "stream",
     "text": [
      "RMSE :  4.859093922505261\n"
     ]
    }
   ],
   "source": [
    "df = pd.concat([train, test], axis=0, ignore_index=True)\n",
    "train_idx = df.iloc[:train.shape[0], :].index\n",
    "test_idx  = df.iloc[train.shape[0]:, :].index\n",
    "#---------------------------------\n",
    "df = my_fill_windspeed(df)\n",
    "#---------------------------------\n",
    "train = df.loc[train_idx]\n",
    "test  = df.loc[test_idx]\n",
    "test = test.reset_index(drop=True)\n",
    "\n",
    "# train분리해서 학습시켜라/ train에는 없고, test에 있는 경우도 있다/ 없는 내용도 예측할 수 있냐 테스트"
   ]
  },
  {
   "cell_type": "markdown",
   "id": "713766ac-7ef4-49a9-a8d4-4e60da803978",
   "metadata": {},
   "source": [
    "## 점수보기"
   ]
  },
  {
   "cell_type": "markdown",
   "id": "58d8a990-8a7e-495a-85cb-e6d33244bc68",
   "metadata": {},
   "source": [
    "* class sklearn.linear_model.<b>Ridge</b>(alpha=1.0, *, fit_intercept=True, copy_X=True, max_iter=None, tol=0.0001, solver='auto', positive=False, random_state=None)\n",
    "* class sklearn.linear_model.<b>Lasso</b>(alpha=1.0, *, fit_intercept=True, precompute=False, copy_X=True, max_iter=1000, tol=0.0001, warm_start=False, positive=False, random_state=None, selection='cyclic')"
   ]
  },
  {
   "cell_type": "markdown",
   "id": "3f954b9b-cb53-4218-8a56-bc2d21b17758",
   "metadata": {},
   "source": [
    "★CART 모델 : Classifacationa And Regression Tree model/ 대부분의 Tree모델은 회귀, 분류 둘다 제공"
   ]
  },
  {
   "cell_type": "markdown",
   "id": "73adc12c-6510-4247-9122-627abe8fb965",
   "metadata": {},
   "source": [
    "★sklearn : estimator - model - regressor/classifier"
   ]
  },
  {
   "cell_type": "code",
   "execution_count": 11,
   "id": "ce20778e-b17c-4a1e-b63a-3caf743bec43",
   "metadata": {
    "tags": []
   },
   "outputs": [],
   "source": [
    "import sklearn\n",
    "# sklearn.metrics.get_scorer_names()"
   ]
  },
  {
   "cell_type": "code",
   "execution_count": 12,
   "id": "34d6ccc4-c891-4c0e-831e-f5df619e1511",
   "metadata": {
    "tags": []
   },
   "outputs": [
    {
     "data": {
      "text/plain": [
       "'Ridge'"
      ]
     },
     "execution_count": 12,
     "metadata": {},
     "output_type": "execute_result"
    }
   ],
   "source": [
    "modelsss = Ridge(alpha=1.0, random_state=0)\n",
    "modelsss.__class__.__name__\n",
    "# 모델 이름 확인하기!!"
   ]
  },
  {
   "cell_type": "code",
   "execution_count": 13,
   "id": "ee484a14-651c-4c8d-9cd6-a6bc3be9850d",
   "metadata": {},
   "outputs": [],
   "source": [
    "#-----------------모델의 가중치(coef_ 혹은 feature_importances_ ) 차트로 확인\n",
    "def my_view_chart(model_name, model, X_train):\n",
    "    if tpl[0] == \"RIDGE\" :\n",
    "        ax1 = plt.subplot(4,1,1)\n",
    "        s = pd.Series(model.coef_, index=X_train.columns).sort_values()\n",
    "        sns.barplot(x=s.values, y=s.index, ax=ax1)\n",
    "        plt.show()\n",
    "    elif tpl[0] == \"RF\" :\n",
    "        ax2 = plt.subplot(4,1,2)\n",
    "        s = pd.Series(model.feature_importances_, index=X_train.columns).sort_values()\n",
    "        sns.barplot(x=s.values, y=s.index, ax=ax2)\n",
    "        plt.show()\n",
    "    elif tpl[0] == \"LGBM\" :\n",
    "        ax3 = plt.subplot(4,1,3)\n",
    "        s = pd.Series(model.feature_importances_, index=X_train.columns).sort_values()\n",
    "        sns.barplot(x=s.values, y=s.index, ax=ax3)\n",
    "        plt.show()\n",
    "    elif tpl[0] == \"XGB\" :\n",
    "        ax4 = plt.subplot(4,1,4)\n",
    "        # pd.Series(model.get_booster().get_score(importance_type='weight'), index=X_train.columns).sort_values().plot(kind='bar')\n",
    "        s = pd.Series(model.get_booster().get_score(importance_type='weight'), index=X_train.columns).sort_values()\n",
    "        # weight,gain,\n",
    "        sns.barplot(x=s.values, y=s.index, ax=ax4)\n",
    "        plt.show()\n",
    "        \n",
    "#---------------------------------------------------------------------\n",
    "# tree는 무조건 feature_importance있다. regression이 문제      \n",
    "# feature_importance확인은 무조건 fit한 이후에!!!!\n",
    "# VotingRegressor, ansemble은 각각 피쳐 중요도 다른 애들 섞어야 점수가 좋다, 서로가 서로를 보완 > overfitting 방지\n",
    "# \"RF\"-\"LGBM\" : 둘다 'h'에 치중한 학습 / 오버피팅은 당연\n",
    "#---------------------------------------------------------------------"
   ]
  },
  {
   "cell_type": "code",
   "execution_count": null,
   "id": "83fed3d9-510d-471a-834d-ee37a640310d",
   "metadata": {},
   "outputs": [],
   "source": []
  },
  {
   "cell_type": "markdown",
   "id": "0cfebdd4-095e-40e1-9fa6-a2a460973137",
   "metadata": {},
   "source": [
    "* 원핫 인코딩 하고 히트맵 그려보기"
   ]
  },
  {
   "cell_type": "code",
   "execution_count": 14,
   "id": "ab0ec513-a380-460d-882e-6fda4ba9e5a1",
   "metadata": {
    "tags": []
   },
   "outputs": [],
   "source": [
    "# plt.figure(figsize=(8,8))\n",
    "# sns.heatmap(df[['casual', 'registered','holiday', 'workingday','day_type_0',\n",
    "#        'day_type_1', 'day_type_2']].corr(), annot = True, fmt = '2f', cmap = 'coolwarm')\n",
    "# plt.show()\n",
    "\n",
    "#--> 그나마 'holiday', 'workingday', 'day_type'별로 연관성이 있어보임 \n",
    "#--> 'holiday', 'workingday' 과 'day_type' 다중공선 걸림  --> 칼럼 특징 다 살리는 'day_type'살리는 것이 의미있다고 판단\n",
    "#--> 그러나 점수보기 전까지는 모른다 뭘 살려야 할지\n",
    "\n",
    "# # 상감분석\n",
    "# 0~0.3미만은 연관성이 거의 없다\n",
    "# 0.3~0.7 연관성이 높다\n",
    "# 0.7~1 연관성이 매우 높다 다중공성 O\n",
    "# linear 연관성만 보여줌, 맹신하면 안 됨"
   ]
  },
  {
   "cell_type": "code",
   "execution_count": 15,
   "id": "550ff950-f001-4f65-b481-fa7122edd9ad",
   "metadata": {
    "tags": []
   },
   "outputs": [],
   "source": [
    "# plt.figure(figsize=(20,20))\n",
    "# sns.heatmap(df[['casual', 'registered','h_0', 'h_1', 'h_2', 'h_3', 'h_4',\n",
    "#        'h_5', 'h_6', 'h_7', 'h_8', 'h_9', 'h_10', 'h_11', 'h_12', 'h_13',\n",
    "#        'h_14', 'h_15', 'h_16', 'h_17', 'h_18', 'h_19', 'h_20', 'h_21', 'h_22',\n",
    "#        'h_23', ]].corr(), annot = True, fmt = '2f', cmap = 'coolwarm')\n",
    "# plt.show()\n",
    "# 0~7시, 17~18시 타겟과 연관관계 있어보인다"
   ]
  },
  {
   "cell_type": "code",
   "execution_count": 16,
   "id": "3b69a703-764b-4dd1-b3d8-860712403428",
   "metadata": {
    "tags": []
   },
   "outputs": [],
   "source": [
    "# plt.figure(figsize=(20,20))\n",
    "# sns.heatmap(train[['season', 'holiday', 'workingday', 'weather', 'temp', 'atemp',\n",
    "#        'humidity', 'windspeed', 'y', 'm', 'd', 'h', 'w', 'day_type',\n",
    "#        'regcount', 'casual', 'registered']].corr(), annot = True, fmt = '2f', cmap = 'coolwarm')\n",
    "# plt.show()"
   ]
  },
  {
   "cell_type": "markdown",
   "id": "d3a0e4d1-9b8b-4937-8a0b-7a1bb5923851",
   "metadata": {
    "tags": []
   },
   "source": [
    "## 점수보기"
   ]
  },
  {
   "cell_type": "code",
   "execution_count": 17,
   "id": "b6ae0347-adb7-42d2-893c-41e34307ffee",
   "metadata": {},
   "outputs": [],
   "source": [
    "# my_fit_score(train)\n",
    "# # my_fit_score(train, chart_view=True)\n",
    "\n",
    "# 타겟스케일링 - 아웃라이어삭제\n",
    "# VR-XGB-LGBM :0.28827793271329355"
   ]
  },
  {
   "cell_type": "markdown",
   "id": "0bde5fd4-1f14-4201-8338-bdff320b4c78",
   "metadata": {},
   "source": [
    "## feature_importance 확인"
   ]
  },
  {
   "cell_type": "code",
   "execution_count": 18,
   "id": "b78c080a-e265-4493-9078-030fc4e0246e",
   "metadata": {
    "tags": []
   },
   "outputs": [],
   "source": [
    "# train.columns"
   ]
  },
  {
   "cell_type": "markdown",
   "id": "ad5b0000-94e2-4fd4-8af6-3bd495a89cbe",
   "metadata": {
    "tags": []
   },
   "source": [
    "## 원핫인코딩"
   ]
  },
  {
   "cell_type": "code",
   "execution_count": 19,
   "id": "6b6d3a7f-e73b-4fe8-96ce-7c7294215835",
   "metadata": {},
   "outputs": [
    {
     "name": "stdout",
     "output_type": "stream",
     "text": [
      "season 4\n",
      "holiday 2\n",
      "workingday 2\n",
      "weather 4\n",
      "temp 50\n",
      "atemp 65\n",
      "humidity 89\n",
      "windspeed 2191\n",
      "y 2\n",
      "m 12\n",
      "h 24\n",
      "w 7\n",
      "day_type 3\n",
      "regcount 822\n",
      "casual 309\n",
      "registered 731\n"
     ]
    }
   ],
   "source": [
    "for col in train.columns:\n",
    "    print(col,df[col].nunique())\n",
    "# 이산형 데이터 가지는 컬럼확인"
   ]
  },
  {
   "cell_type": "code",
   "execution_count": 20,
   "id": "bea169c2-ca16-4f2b-8410-d19fe9deea48",
   "metadata": {
    "tags": []
   },
   "outputs": [
    {
     "data": {
      "text/plain": [
       "Index(['season', 'holiday', 'workingday', 'weather', 'temp', 'atemp',\n",
       "       'humidity', 'windspeed', 'y', 'm', 'h', 'w', 'day_type', 'regcount',\n",
       "       'casual', 'registered'],\n",
       "      dtype='object')"
      ]
     },
     "execution_count": 20,
     "metadata": {},
     "output_type": "execute_result"
    }
   ],
   "source": [
    "df.columns"
   ]
  },
  {
   "cell_type": "markdown",
   "id": "d77c8815-a400-4774-bf01-3e4f789b9a60",
   "metadata": {
    "tags": []
   },
   "source": [
    "## 점수보기\n",
    "* RF\n",
    "RMSLE:  0.3288546947603633"
   ]
  },
  {
   "cell_type": "code",
   "execution_count": 21,
   "id": "a67e1d30-9c49-4fb7-9559-6d32c0a49e17",
   "metadata": {
    "tags": []
   },
   "outputs": [
    {
     "data": {
      "text/plain": [
       "Index(['season', 'holiday', 'workingday', 'weather', 'temp', 'atemp',\n",
       "       'humidity', 'windspeed', 'y', 'm', 'h', 'w', 'day_type', 'regcount',\n",
       "       'casual', 'registered'],\n",
       "      dtype='object')"
      ]
     },
     "execution_count": 21,
     "metadata": {},
     "output_type": "execute_result"
    }
   ],
   "source": [
    "train.columns"
   ]
  },
  {
   "cell_type": "code",
   "execution_count": 22,
   "id": "cb76a413-3251-45d3-96d9-0baf3e8dfa2e",
   "metadata": {},
   "outputs": [],
   "source": [
    "def my_fit_score(df, chart_view=False) :\n",
    "    model_list = [ \n",
    "                   # (\"RIDGE\"  , Ridge(alpha=1.0, random_state=0)),\n",
    "                   # (\"LASSO\"  , Lasso(alpha=1.0, random_state=0)),\n",
    "                   (\"DTR\"    , DecisionTreeRegressor(random_state=0)),\n",
    "                   # (\"RF\"     , RandomForestRegressor(random_state=0)),\n",
    "                   # (\"LR\"     , LinearRegression()                   ),\n",
    "                   # (\"ABOOST\" , AdaBoostRegressor(random_state=0)                  ),\n",
    "                 #   (\"XGB\"    , XGBRegressor(random_state=0)                       ),  # booster = gblinear\n",
    "                   (\"LGBM\"   , LGBMRegressor(random_state=0)                      )\n",
    "                 #   (\"VR-XGB-LGBM\"    , VotingRegressor([(\"XGB\", XGBRegressor(random_state=0)), (\"LGBM\", LGBMRegressor(random_state=0))]) ) ,\n",
    "                 #   (\"VR-RF-LGBM\"    , VotingRegressor([(\"DTR\", RandomForestRegressor(random_state=0)), (\"LGBM\", LGBMRegressor(random_state=0))]) )\n",
    "                 ]\n",
    "    \n",
    "    # y_c = df['casual'] \n",
    "    # y_r = df['registered'] \n",
    "    \n",
    "#-------------- 아웃라이어 삭제 : ★★★train만 삭제\n",
    "# 스케일링 하기 전에 아웃라이어 삭제해야 이쁘게 된다\n",
    "# windspeed = 0채우고 이상치 삭제\n",
    "    del_idx_list = []\n",
    "    idx = df[df['weather']==4].index\n",
    "    del_idx_list.extend(idx)\n",
    "    idx = df[df['temp']>40].index\n",
    "    del_idx_list.extend(idx)\n",
    "    idx = df[df['windspeed']>50].index\n",
    "    del_idx_list.extend(idx)\n",
    "    train.drop(del_idx_list, axis=0, inplace=True)\n",
    "\n",
    "#--------------------------------------------------------------------- \n",
    "\n",
    "\n",
    "\n",
    "#------------------타겟 피쳐 로그스케일링 > O / (다른 피쳐는 안 해도 타겟 피쳐는 무조건 스케일링!!!!)\n",
    "    y_c = np.log1p( df['casual'] )\n",
    "    y_r = np.log1p( df['registered'] )\n",
    "    X = df.drop(['regcount','casual','registered'], axis=1)\n",
    "    \n",
    "    \n",
    "#-----------------연속형 피쳐 스케일링 >o\n",
    "    X['temp']      = np.log1p( X['temp'] )\n",
    "#     #   X['temp'] = np.log(   X['temp'] )+1\n",
    "    X['atemp']     = np.log1p( X['atemp'] )\n",
    "    X['humidity']  = np.log1p( X['humidity'] )\n",
    "    X['windspeed'] = np.log1p( X['windspeed'] )\n",
    "    \n",
    "# #---------------------------------------------------------------------\n",
    "\n",
    "    \n",
    "    for tpl in model_list :\n",
    "        # print( tpl[0] ) \n",
    "        \n",
    "        # model = tpl[1]\n",
    "        # X_train, X_test, y_train, y_r_test = train_test_split(X, y_r, random_state=0, test_size=0.2)\n",
    "        # model.fit(X_train, y_train)\n",
    "        # y_r_pred = model.predict(X_test)\n",
    "        \n",
    "        \n",
    "        # model = tpl[1]\n",
    "        # score_list_r = cross_val_score(model, X, y_r, scoring = 'neg_mean_squared_log_error', cv = 5)\n",
    "        # r_sc_mean=np.mean(score_list_r)\n",
    "        # score_list_c = cross_val_score(model, X, y_c, scoring = 'neg_mean_squared_log_error', cv = 5) #-----에러가 큰데, best로 판다/음수를 붙여서 error가 클수록 안 좋은 것으로 판단\n",
    "        # c_sc_mean = np.sqrt( np.mean(score_list_c) )  #------------RMSE\n",
    "        \n",
    "        \n",
    "        kf = KFold(n_splits=3, shuffle=False)\n",
    "        for i,  (train_index, test_index) in enumerate(kf.split(X)):\n",
    "            X_train = X.iloc[train_index] \n",
    "            y_r_train = y_r.iloc[train_index]\n",
    "            X_test  = X.iloc[test_index]  \n",
    "            y_r_test  = y_r.iloc[test_index] \n",
    "            \n",
    "            \n",
    "        # kf = KFold(n_splits=5, shuffle=False)    \n",
    "            X_train = X.iloc[train_index] \n",
    "            y_c_train = y_c.iloc[train_index] \n",
    "            X_test  = X.iloc[test_index]  \n",
    "            y_c_test  = y_c.iloc[test_index] \n",
    "        \n",
    "        \n",
    "        \n",
    "        \n",
    "        \n",
    "        if tpl[0]=='DTR' or tpl[0]=='RF' :\n",
    "            model = tpl[1]\n",
    "            mydic = {\"min_samples_split\": [1,2,3,4], \n",
    "                     \"min_samples_leaf\": [1,2,3,4]}\n",
    "            models = GridSearchCV(model, scoring = 'neg_mean_squared_error',cv = 5, param_grid = mydic, refit=True )\n",
    "            \n",
    "            models.fit(X_train, y_r_train)\n",
    "            # pred_r = models.predict(X_test)\n",
    "            sc_r = (models.best_score_)\n",
    "\n",
    "            models.fit(X_train, y_c_train)\n",
    "            # pred_c = models.predict(X_test)\n",
    "            sc_c = (models.best_score_)\n",
    "#             print(sc_r, sc_c, models.best_params_) \n",
    "#             print(\"-\"*30)\n",
    "            \n",
    "            \n",
    "\n",
    "        elif tpl[0] == 'LGBM' :\n",
    "            model = tpl[1]\n",
    "            mydic = {\"min_child_samples\": [10,20,30,40], \n",
    "                     \"subsample_for_bin\": [100000,200000,300000,400000]}\n",
    "            models_LGBM = GridSearchCV(model, scoring = 'neg_mean_squared_error',cv = 5, param_grid = mydic, refit=True )\n",
    "            \n",
    "            models_LGBM.fit(X_train, y_r_train)\n",
    "            # pred_r = models.predict(X_test)\n",
    "            sc_r = (models_LGBM .best_score_)\n",
    "\n",
    "            models_LGBM.fit(X_train, y_c_train)\n",
    "            # pred_c = models.predict(X_test)\n",
    "            sc_c = (models_LGBM.best_score_)\n",
    "            # print(sc_r, sc_c,models_LGBM.best_params_) \n",
    "            # print(\"-\"*30)\n",
    "            \n",
    "    return models_LGBM\n",
    "\n",
    "\n",
    "          \n",
    "        \n",
    "        \n",
    "        \n",
    "#-----------------모델의 가중치(coef_ 혹은 feature_importances_ ) 차트로 확인\n",
    "       \n",
    "            # my_view_chart(tpl[0], model, X-train)\n",
    "\n",
    "#---------------------------------------------------------------------    \n",
    "       \n",
    "        \n",
    "#------------------타겟 피쳐 로그스케일링 복원        \n",
    "        # y_pred_comb = np.expm1(y_r_pred)+np.expm1(y_c_pred)\n",
    "        # y_real_comb = np.expm1(y_r_test)+np.expm1(y_c_test)\n",
    "        # y_pred_comb[y_pred_comb < 0] = 0\n",
    "        # msle_score = mean_squared_log_error(y_real_comb, y_pred_comb)\n",
    "        \n",
    "#---------------------------------------------------------------------\n",
    "# 다중공선 (원핫인코딩 하기전 컬럼으로 확인)\n",
    "# m-----season\n",
    "# temp--atemp\n",
    "# w-----day_type \n",
    "# 지워봐도 점수가 좋아지지 않음\n",
    "#---------------------------------------------------------------------\n",
    "\n",
    "#-------------------원핫 인코더('weather', 'season', 'y', 'm', 'h', 'w')\n",
    "# 피쳐간의 상감도 분석/ 컬럼 중에 한 값만 유난히 특별히 두드러지게 다른 칼럼과 연관있을 거 같을 때/연관있다고 모델이 인식 \n",
    "# > 여름,가을,겨울은 별로 대여수랑 관련 없다/봄에 대여수 많다 > 봄과 대여수 연관도 있다고 판단\n",
    "# 컬럼과 컬럼 상감도 분석하면 > 칼럼 간 연관도 없다고 판단\n",
    "# 바이너리 카테고리 칼럼(여,남)은 원핫인코더 하지 말아라 > 다중공성 > 오버핏팅 \n",
    "# 다중공성 걸리더라도 유난히 한 값이 연관성이 크다면 원핫인코딩 유지\n",
    "#---------------------------------------------------------------------\n",
    "\n",
    "    \n"
   ]
  },
  {
   "cell_type": "code",
   "execution_count": 23,
   "id": "79315927-e04b-44ed-b6be-121e82af0cbd",
   "metadata": {
    "tags": []
   },
   "outputs": [],
   "source": [
    "models_LGBM=my_fit_score(train)"
   ]
  },
  {
   "cell_type": "markdown",
   "id": "4a7db6d5-67cb-4caf-bb71-acfb3f02d838",
   "metadata": {},
   "source": [
    "* coef --> 가중치(w)\n",
    "* intercept --> 절편\n",
    "* 주는 모델이 있고, 아닌 모델이 있다"
   ]
  },
  {
   "cell_type": "markdown",
   "id": "76e69766-80d8-4bd7-b143-d1bcf284ac48",
   "metadata": {},
   "source": [
    "## Outlier 처리\n",
    "* <font color=red size=4><b>train에만 처리\n",
    "*  점수 낮아짐"
   ]
  },
  {
   "cell_type": "code",
   "execution_count": 24,
   "id": "4daec778-eb95-4b72-b8e8-909e8cdb9309",
   "metadata": {},
   "outputs": [
    {
     "data": {
      "text/plain": [
       "((10880, 16), (6493, 16))"
      ]
     },
     "execution_count": 24,
     "metadata": {},
     "output_type": "execute_result"
    }
   ],
   "source": [
    "train.shape, test.shape"
   ]
  },
  {
   "cell_type": "code",
   "execution_count": 25,
   "id": "e9ea4257-3ae3-476a-93c3-965c43430965",
   "metadata": {},
   "outputs": [],
   "source": [
    "# del_idx_list = []\n",
    "# idx = train[train['weather']==4].index\n",
    "# del_idx_list.extend(idx)\n",
    "# idx = train[train['temp']>40].index\n",
    "# del_idx_list.extend(idx)\n",
    "# idx = train[train['windspeed']>50].index\n",
    "# del_idx_list.extend(idx)\n",
    "# train.drop(del_idx_list, axis=0, inplace=True)"
   ]
  },
  {
   "cell_type": "code",
   "execution_count": 26,
   "id": "6e134f2d-9eaa-4f4d-b19a-11b37cada50c",
   "metadata": {},
   "outputs": [
    {
     "data": {
      "text/plain": [
       "((10880, 16), (6493, 16))"
      ]
     },
     "execution_count": 26,
     "metadata": {},
     "output_type": "execute_result"
    }
   ],
   "source": [
    "train.shape, test.shape"
   ]
  },
  {
   "cell_type": "code",
   "execution_count": 27,
   "id": "47977b56-929e-483b-b20f-bae73bb6104d",
   "metadata": {
    "tags": []
   },
   "outputs": [
    {
     "data": {
      "text/plain": [
       "GridSearchCV(cv=5, estimator=LGBMRegressor(random_state=0),\n",
       "             param_grid={'min_child_samples': [10, 20, 30, 40],\n",
       "                         'subsample_for_bin': [100000, 200000, 300000, 400000]},\n",
       "             scoring='neg_mean_squared_error')"
      ]
     },
     "execution_count": 27,
     "metadata": {},
     "output_type": "execute_result"
    }
   ],
   "source": [
    "my_fit_score(train)"
   ]
  },
  {
   "cell_type": "markdown",
   "id": "1949efc6-4f9f-4acb-a691-6d21ece77c6c",
   "metadata": {},
   "source": [
    "## 점수보기"
   ]
  },
  {
   "cell_type": "markdown",
   "id": "328061ee-5e1e-4e06-ad11-2607eb40d47e",
   "metadata": {},
   "source": [
    "# 학습"
   ]
  },
  {
   "cell_type": "markdown",
   "id": "c81fafb0-dcfe-4eef-9212-2b4940f1a759",
   "metadata": {},
   "source": [
    "## 타켓 선정\n",
    "* 답안지 : count 제출\n",
    "* regcount(A패턴)  = registered(A2패턴) + casual (B패턴) \n",
    "* <font color=red><b>registered(A2패턴) + casual (B패턴)  --> 이 값을 답안으로 제출"
   ]
  },
  {
   "cell_type": "markdown",
   "id": "d8840974-b788-4b7c-accc-c40b3761e5ba",
   "metadata": {},
   "source": [
    "# 최종피쳐 선정"
   ]
  },
  {
   "cell_type": "code",
   "execution_count": 28,
   "id": "6e6f5611-73be-46cd-9554-9d4468b8dd1b",
   "metadata": {
    "tags": []
   },
   "outputs": [
    {
     "data": {
      "text/plain": [
       "Index(['season', 'holiday', 'workingday', 'weather', 'temp', 'atemp',\n",
       "       'humidity', 'windspeed', 'y', 'm', 'h', 'w', 'day_type', 'regcount',\n",
       "       'casual', 'registered'],\n",
       "      dtype='object')"
      ]
     },
     "execution_count": 28,
     "metadata": {},
     "output_type": "execute_result"
    }
   ],
   "source": [
    "train.columns"
   ]
  },
  {
   "cell_type": "markdown",
   "id": "077a002e-07b9-4fc2-849f-a3ea1cb02568",
   "metadata": {},
   "source": [
    "<pre>\n",
    "타겟(1) : 'casual' + 'registered'\n",
    "타겟(2) : 'regcount'\n",
    "\n",
    "\n",
    "'d' 피쳐 삭제\n",
    "('m', 'h'),  'y', 'd' -->'w'\n",
    "\n",
    "\n",
    "(+)3개 : 'holiday', 'workingday', 'day_type'\n",
    "(+)2개 : 'holiday', 'workingday'\n",
    "(+)1개 : 'day_type'\n",
    "\n",
    "\n",
    "'weather', 'humidity',  'season', \n",
    "(+)'windspeed' : 'h' 비례? / 'm' 반비례?\n",
    "\n",
    "\n",
    "다중공선 : (상관계수가 높은 경우)\n",
    "'regcount' 'registered' 'casual' : 0.97  --> 'regcount' vs. 'registered'+'casual'\n",
    "'temp' 'atemp'                   : 0.98  --> 'atemp' drop\n",
    "\n",
    "선택적으로 모델에 적용\n",
    "(+)'w' 'day_type' : -0.78\n",
    "(+)'season' 'm'   : 0.97\n",
    "\n",
    "\n",
    "* ('m', 'h'),  'y', 'w', 'weather', 'humidity',  'season', 'temp'\n",
    "* (+)'windspeed'\n",
    "* (+)('holiday', 'workingday'), ('day_type')\n",
    "* (+)('w' 'day_type') : -0.78\n",
    "* (+)('m') 'season'    : 0.97\n"
   ]
  },
  {
   "cell_type": "markdown",
   "id": "c0170e1c-622a-474f-8e83-115efec9dbb1",
   "metadata": {},
   "source": [
    "## 점수보기"
   ]
  },
  {
   "cell_type": "markdown",
   "id": "f9f44540-aad7-4407-943f-ba61f0940662",
   "metadata": {},
   "source": [
    "# 학습 & 평가\n",
    "* ref : https://suboptimal.wiki/explanation/mse/"
   ]
  },
  {
   "cell_type": "markdown",
   "id": "d4ca8694-1699-495a-bb89-0ccf8cc7082f",
   "metadata": {},
   "source": [
    "*  $ RMSLE = \\sqrt{\\frac{1}{n}\\Sigma_{i=1}^{n}{\\Big(\\frac{log(Y_i+1) - log(\\hat{Y_i}+1)}{N}\\Big)^2}}$"
   ]
  },
  {
   "cell_type": "code",
   "execution_count": 29,
   "id": "75c1e36b-5262-41cc-854f-abb5cb91188c",
   "metadata": {
    "tags": []
   },
   "outputs": [],
   "source": [
    "# ! pip install xgboost\n",
    "# ! pip install lightgbm "
   ]
  },
  {
   "cell_type": "code",
   "execution_count": null,
   "id": "3d621c2f-ea88-47e6-b2d7-2a8f9f553276",
   "metadata": {
    "tags": []
   },
   "outputs": [],
   "source": []
  },
  {
   "cell_type": "code",
   "execution_count": 30,
   "id": "6ff20a2e-df26-41cc-913f-abc9fc4ab3dd",
   "metadata": {
    "tags": []
   },
   "outputs": [],
   "source": [
    "       # score_list.append([tpl[0], y_col[i], mse_score, np.sqrt(mse_score) ] )"
   ]
  },
  {
   "cell_type": "code",
   "execution_count": 31,
   "id": "53560b15-d563-4383-aae7-dd23f0c05aa7",
   "metadata": {
    "tags": []
   },
   "outputs": [],
   "source": [
    "# score_df = pd.DataFrame(score_list, columns=[\"model\",\"col\",\"mse\",\"rmse\"])\n",
    "# score_df"
   ]
  },
  {
   "cell_type": "code",
   "execution_count": 32,
   "id": "8e6e9d8a-11ea-478a-9299-023f1a7cd312",
   "metadata": {
    "tags": []
   },
   "outputs": [],
   "source": [
    "# plt.figure(figsize=(8,3))\n",
    "# ax1 = plt.subplot(1,2,1)\n",
    "# ax1.set_title(\"RMSE\")\n",
    "# sns.barplot(\n",
    "#     data= score_df,\n",
    "#     x= \"model\",\n",
    "#     y= \"rmse\" ,\n",
    "#     hue = \"col\",\n",
    "#     ax = ax1\n",
    "    \n",
    "# )\n",
    "# ax2 = plt.subplot(1,2,2)\n",
    "# ax2.set_title(\"MSE\")\n",
    "# sns.barplot(\n",
    "#     data= score_df,\n",
    "#     x= \"model\",\n",
    "#     y= \"mse\" ,\n",
    "#     hue = \"col\",\n",
    "#     ax = ax2\n",
    "# )\n",
    "# plt.show()"
   ]
  },
  {
   "cell_type": "markdown",
   "id": "c32d2149-7a43-42d5-bb9a-3dee18c091f9",
   "metadata": {
    "tags": []
   },
   "source": [
    "* by 규환"
   ]
  },
  {
   "cell_type": "code",
   "execution_count": 33,
   "id": "7f7da56a-f038-49c2-8169-b949c5944714",
   "metadata": {
    "tags": []
   },
   "outputs": [],
   "source": [
    "# y = train[['regcount','casual','registered']]\n",
    "# X = train.drop(['regcount','casual','registered'], axis=1)\n"
   ]
  },
  {
   "cell_type": "code",
   "execution_count": 34,
   "id": "14354017-ae3f-4c07-a712-e042db83c95c",
   "metadata": {
    "tags": []
   },
   "outputs": [],
   "source": [
    "# X.head(), y.head()"
   ]
  },
  {
   "cell_type": "code",
   "execution_count": 35,
   "id": "d24a38b8-424d-43a0-847a-b31762e31d5c",
   "metadata": {
    "tags": []
   },
   "outputs": [],
   "source": [
    "# X_train, X_test, y_train, y_test = train_test_split(X, y, random_state=0, test_size=0.2)\n",
    "# print(X_train.shape, y_train.shape, X_test.shape, y_test.shape)"
   ]
  },
  {
   "cell_type": "code",
   "execution_count": 36,
   "id": "9ecace29-53d3-4aeb-8bcd-df671045bb7e",
   "metadata": {
    "tags": []
   },
   "outputs": [],
   "source": [
    "# model = DecisionTreeRegressor(random_state=0)\n",
    "# model.fit(X_train, y_train)\n",
    "# y_pred = model.predict(X_test)\n"
   ]
  },
  {
   "cell_type": "code",
   "execution_count": 37,
   "id": "492c2e37-f27f-478a-80be-6026e1e5d440",
   "metadata": {
    "tags": []
   },
   "outputs": [],
   "source": [
    "# print( y_test.shape )\n",
    "# y_test.head(3)"
   ]
  },
  {
   "cell_type": "code",
   "execution_count": 38,
   "id": "0fe2d2d1-b404-4314-9f48-6801bfe6f926",
   "metadata": {
    "tags": []
   },
   "outputs": [],
   "source": [
    "# print( y_pred.shape )"
   ]
  },
  {
   "cell_type": "code",
   "execution_count": 39,
   "id": "2a6beac4-d36b-4733-a12f-20e3470a8164",
   "metadata": {
    "tags": []
   },
   "outputs": [],
   "source": [
    "# y_pred[0]"
   ]
  },
  {
   "cell_type": "code",
   "execution_count": 40,
   "id": "5157a2f2-6047-4387-a47f-d5a95fabd1fa",
   "metadata": {
    "tags": []
   },
   "outputs": [],
   "source": [
    "# print( y_pred.T[0].shape )\n",
    "# y_pred.T"
   ]
  },
  {
   "cell_type": "code",
   "execution_count": 41,
   "id": "27eac0f9-6b93-42cb-9824-dc622153862c",
   "metadata": {
    "tags": []
   },
   "outputs": [],
   "source": [
    "# y_test['casual']"
   ]
  },
  {
   "cell_type": "code",
   "execution_count": 42,
   "id": "286c837d-27a3-4a3a-a987-65ffc2cc0391",
   "metadata": {
    "tags": []
   },
   "outputs": [],
   "source": [
    "# # regcount(A패턴)  = registered(A2패턴) + casual (B패턴) \n",
    "# score_regcount   = mean_squared_error(y_test['regcount']    , y_pred.T[0])\n",
    "# score_casual     = mean_squared_error(y_test['casual'], y_pred.T[1])\n",
    "# score_registered = mean_squared_error(y_test['registered']  , y_pred.T[2])\n",
    "\n",
    "# print(score_regcount, score_casual, score_registered)"
   ]
  },
  {
   "cell_type": "markdown",
   "id": "6a318907-169a-4fde-83ed-1df0a33907ff",
   "metadata": {},
   "source": [
    "# 실제 점수내기"
   ]
  },
  {
   "cell_type": "code",
   "execution_count": 68,
   "id": "60f60257-296d-429b-bfa6-8724247d00d6",
   "metadata": {
    "tags": []
   },
   "outputs": [
    {
     "data": {
      "text/html": [
       "<div>\n",
       "<style scoped>\n",
       "    .dataframe tbody tr th:only-of-type {\n",
       "        vertical-align: middle;\n",
       "    }\n",
       "\n",
       "    .dataframe tbody tr th {\n",
       "        vertical-align: top;\n",
       "    }\n",
       "\n",
       "    .dataframe thead th {\n",
       "        text-align: right;\n",
       "    }\n",
       "</style>\n",
       "<table border=\"1\" class=\"dataframe\">\n",
       "  <thead>\n",
       "    <tr style=\"text-align: right;\">\n",
       "      <th></th>\n",
       "      <th>datetime</th>\n",
       "      <th>count</th>\n",
       "    </tr>\n",
       "  </thead>\n",
       "  <tbody>\n",
       "    <tr>\n",
       "      <th>0</th>\n",
       "      <td>2011-01-20 00:00:00</td>\n",
       "      <td>0</td>\n",
       "    </tr>\n",
       "    <tr>\n",
       "      <th>1</th>\n",
       "      <td>2011-01-20 01:00:00</td>\n",
       "      <td>0</td>\n",
       "    </tr>\n",
       "  </tbody>\n",
       "</table>\n",
       "</div>"
      ],
      "text/plain": [
       "             datetime  count\n",
       "0 2011-01-20 00:00:00      0\n",
       "1 2011-01-20 01:00:00      0"
      ]
     },
     "execution_count": 68,
     "metadata": {},
     "output_type": "execute_result"
    }
   ],
   "source": [
    "ss = pd.read_csv(\"./sampleSubmission.csv\" , parse_dates=['datetime'])\n",
    "ss.head(2)"
   ]
  },
  {
   "cell_type": "code",
   "execution_count": 69,
   "id": "a8fd48ce-2b79-4105-a3ca-89811aab068d",
   "metadata": {
    "tags": []
   },
   "outputs": [
    {
     "data": {
      "text/html": [
       "<div>\n",
       "<style scoped>\n",
       "    .dataframe tbody tr th:only-of-type {\n",
       "        vertical-align: middle;\n",
       "    }\n",
       "\n",
       "    .dataframe tbody tr th {\n",
       "        vertical-align: top;\n",
       "    }\n",
       "\n",
       "    .dataframe thead th {\n",
       "        text-align: right;\n",
       "    }\n",
       "</style>\n",
       "<table border=\"1\" class=\"dataframe\">\n",
       "  <thead>\n",
       "    <tr style=\"text-align: right;\">\n",
       "      <th></th>\n",
       "      <th>season</th>\n",
       "      <th>holiday</th>\n",
       "      <th>workingday</th>\n",
       "      <th>weather</th>\n",
       "      <th>temp</th>\n",
       "      <th>atemp</th>\n",
       "      <th>humidity</th>\n",
       "      <th>windspeed</th>\n",
       "      <th>y</th>\n",
       "      <th>m</th>\n",
       "      <th>h</th>\n",
       "      <th>w</th>\n",
       "      <th>day_type</th>\n",
       "    </tr>\n",
       "  </thead>\n",
       "  <tbody>\n",
       "    <tr>\n",
       "      <th>0</th>\n",
       "      <td>0.693147</td>\n",
       "      <td>0.0</td>\n",
       "      <td>0.0</td>\n",
       "      <td>0.693147</td>\n",
       "      <td>2.383243</td>\n",
       "      <td>2.734043</td>\n",
       "      <td>4.406719</td>\n",
       "      <td>2.099526</td>\n",
       "      <td>7.606885</td>\n",
       "      <td>0.693147</td>\n",
       "      <td>0.000000</td>\n",
       "      <td>1.791759</td>\n",
       "      <td>0.0</td>\n",
       "    </tr>\n",
       "    <tr>\n",
       "      <th>1</th>\n",
       "      <td>0.693147</td>\n",
       "      <td>0.0</td>\n",
       "      <td>0.0</td>\n",
       "      <td>0.693147</td>\n",
       "      <td>2.304583</td>\n",
       "      <td>2.683416</td>\n",
       "      <td>4.394449</td>\n",
       "      <td>2.069682</td>\n",
       "      <td>7.606885</td>\n",
       "      <td>0.693147</td>\n",
       "      <td>0.693147</td>\n",
       "      <td>1.791759</td>\n",
       "      <td>0.0</td>\n",
       "    </tr>\n",
       "  </tbody>\n",
       "</table>\n",
       "</div>"
      ],
      "text/plain": [
       "     season  holiday  workingday   weather      temp     atemp  humidity  \\\n",
       "0  0.693147      0.0         0.0  0.693147  2.383243  2.734043  4.406719   \n",
       "1  0.693147      0.0         0.0  0.693147  2.304583  2.683416  4.394449   \n",
       "\n",
       "   windspeed         y         m         h         w  day_type  \n",
       "0   2.099526  7.606885  0.693147  0.000000  1.791759       0.0  \n",
       "1   2.069682  7.606885  0.693147  0.693147  1.791759       0.0  "
      ]
     },
     "execution_count": 69,
     "metadata": {},
     "output_type": "execute_result"
    }
   ],
   "source": [
    "train.head(2)"
   ]
  },
  {
   "cell_type": "code",
   "execution_count": 70,
   "id": "82d7b28d-6bca-468f-8645-46fe4f7a5494",
   "metadata": {
    "tags": []
   },
   "outputs": [],
   "source": [
    "test_c =  np.log1p(test['casual'] )\n",
    "test_r =  np.log1p(test['registered'] )\n",
    "test = np.log1p(test)\n",
    "test_1 = test.drop(['casual','registered','regcount'], axis = 1)"
   ]
  },
  {
   "cell_type": "code",
   "execution_count": 71,
   "id": "728de90a-bb25-40b0-8463-e89bb95eb840",
   "metadata": {
    "tags": []
   },
   "outputs": [
    {
     "ename": "KeyError",
     "evalue": "'casual'",
     "output_type": "error",
     "traceback": [
      "\u001b[1;31m---------------------------------------------------------------------------\u001b[0m",
      "\u001b[1;31mKeyError\u001b[0m                                  Traceback (most recent call last)",
      "File \u001b[1;32mC:\\AI\\pythonProject\\venv\\lib\\site-packages\\pandas\\core\\indexes\\base.py:3802\u001b[0m, in \u001b[0;36mIndex.get_loc\u001b[1;34m(self, key, method, tolerance)\u001b[0m\n\u001b[0;32m   3801\u001b[0m \u001b[38;5;28;01mtry\u001b[39;00m:\n\u001b[1;32m-> 3802\u001b[0m     \u001b[38;5;28;01mreturn\u001b[39;00m \u001b[38;5;28;43mself\u001b[39;49m\u001b[38;5;241;43m.\u001b[39;49m\u001b[43m_engine\u001b[49m\u001b[38;5;241;43m.\u001b[39;49m\u001b[43mget_loc\u001b[49m\u001b[43m(\u001b[49m\u001b[43mcasted_key\u001b[49m\u001b[43m)\u001b[49m\n\u001b[0;32m   3803\u001b[0m \u001b[38;5;28;01mexcept\u001b[39;00m \u001b[38;5;167;01mKeyError\u001b[39;00m \u001b[38;5;28;01mas\u001b[39;00m err:\n",
      "File \u001b[1;32mC:\\AI\\pythonProject\\venv\\lib\\site-packages\\pandas\\_libs\\index.pyx:138\u001b[0m, in \u001b[0;36mpandas._libs.index.IndexEngine.get_loc\u001b[1;34m()\u001b[0m\n",
      "File \u001b[1;32mC:\\AI\\pythonProject\\venv\\lib\\site-packages\\pandas\\_libs\\index.pyx:165\u001b[0m, in \u001b[0;36mpandas._libs.index.IndexEngine.get_loc\u001b[1;34m()\u001b[0m\n",
      "File \u001b[1;32mpandas\\_libs\\hashtable_class_helper.pxi:5745\u001b[0m, in \u001b[0;36mpandas._libs.hashtable.PyObjectHashTable.get_item\u001b[1;34m()\u001b[0m\n",
      "File \u001b[1;32mpandas\\_libs\\hashtable_class_helper.pxi:5753\u001b[0m, in \u001b[0;36mpandas._libs.hashtable.PyObjectHashTable.get_item\u001b[1;34m()\u001b[0m\n",
      "\u001b[1;31mKeyError\u001b[0m: 'casual'",
      "\nThe above exception was the direct cause of the following exception:\n",
      "\u001b[1;31mKeyError\u001b[0m                                  Traceback (most recent call last)",
      "Cell \u001b[1;32mIn[71], line 1\u001b[0m\n\u001b[1;32m----> 1\u001b[0m train_c \u001b[38;5;241m=\u001b[39m np\u001b[38;5;241m.\u001b[39mlog1p( \u001b[43mtrain\u001b[49m\u001b[43m[\u001b[49m\u001b[38;5;124;43m'\u001b[39;49m\u001b[38;5;124;43mcasual\u001b[39;49m\u001b[38;5;124;43m'\u001b[39;49m\u001b[43m]\u001b[49m )\n\u001b[0;32m      2\u001b[0m train_r \u001b[38;5;241m=\u001b[39m  np\u001b[38;5;241m.\u001b[39mlog1p(train[\u001b[38;5;124m'\u001b[39m\u001b[38;5;124mregistered\u001b[39m\u001b[38;5;124m'\u001b[39m] )\n\u001b[0;32m      3\u001b[0m train \u001b[38;5;241m=\u001b[39m np\u001b[38;5;241m.\u001b[39mlog1p( train)\n",
      "File \u001b[1;32mC:\\AI\\pythonProject\\venv\\lib\\site-packages\\pandas\\core\\frame.py:3807\u001b[0m, in \u001b[0;36mDataFrame.__getitem__\u001b[1;34m(self, key)\u001b[0m\n\u001b[0;32m   3805\u001b[0m \u001b[38;5;28;01mif\u001b[39;00m \u001b[38;5;28mself\u001b[39m\u001b[38;5;241m.\u001b[39mcolumns\u001b[38;5;241m.\u001b[39mnlevels \u001b[38;5;241m>\u001b[39m \u001b[38;5;241m1\u001b[39m:\n\u001b[0;32m   3806\u001b[0m     \u001b[38;5;28;01mreturn\u001b[39;00m \u001b[38;5;28mself\u001b[39m\u001b[38;5;241m.\u001b[39m_getitem_multilevel(key)\n\u001b[1;32m-> 3807\u001b[0m indexer \u001b[38;5;241m=\u001b[39m \u001b[38;5;28;43mself\u001b[39;49m\u001b[38;5;241;43m.\u001b[39;49m\u001b[43mcolumns\u001b[49m\u001b[38;5;241;43m.\u001b[39;49m\u001b[43mget_loc\u001b[49m\u001b[43m(\u001b[49m\u001b[43mkey\u001b[49m\u001b[43m)\u001b[49m\n\u001b[0;32m   3808\u001b[0m \u001b[38;5;28;01mif\u001b[39;00m is_integer(indexer):\n\u001b[0;32m   3809\u001b[0m     indexer \u001b[38;5;241m=\u001b[39m [indexer]\n",
      "File \u001b[1;32mC:\\AI\\pythonProject\\venv\\lib\\site-packages\\pandas\\core\\indexes\\base.py:3804\u001b[0m, in \u001b[0;36mIndex.get_loc\u001b[1;34m(self, key, method, tolerance)\u001b[0m\n\u001b[0;32m   3802\u001b[0m     \u001b[38;5;28;01mreturn\u001b[39;00m \u001b[38;5;28mself\u001b[39m\u001b[38;5;241m.\u001b[39m_engine\u001b[38;5;241m.\u001b[39mget_loc(casted_key)\n\u001b[0;32m   3803\u001b[0m \u001b[38;5;28;01mexcept\u001b[39;00m \u001b[38;5;167;01mKeyError\u001b[39;00m \u001b[38;5;28;01mas\u001b[39;00m err:\n\u001b[1;32m-> 3804\u001b[0m     \u001b[38;5;28;01mraise\u001b[39;00m \u001b[38;5;167;01mKeyError\u001b[39;00m(key) \u001b[38;5;28;01mfrom\u001b[39;00m \u001b[38;5;21;01merr\u001b[39;00m\n\u001b[0;32m   3805\u001b[0m \u001b[38;5;28;01mexcept\u001b[39;00m \u001b[38;5;167;01mTypeError\u001b[39;00m:\n\u001b[0;32m   3806\u001b[0m     \u001b[38;5;66;03m# If we have a listlike key, _check_indexing_error will raise\u001b[39;00m\n\u001b[0;32m   3807\u001b[0m     \u001b[38;5;66;03m#  InvalidIndexError. Otherwise we fall through and re-raise\u001b[39;00m\n\u001b[0;32m   3808\u001b[0m     \u001b[38;5;66;03m#  the TypeError.\u001b[39;00m\n\u001b[0;32m   3809\u001b[0m     \u001b[38;5;28mself\u001b[39m\u001b[38;5;241m.\u001b[39m_check_indexing_error(key)\n",
      "\u001b[1;31mKeyError\u001b[0m: 'casual'"
     ]
    }
   ],
   "source": [
    "train_c = np.log1p( train['casual'] )\n",
    "train_r =  np.log1p(train['registered'] )\n",
    "train = np.log1p( train)\n",
    "train = train.drop(['casual','registered','regcount'], axis = 1)"
   ]
  },
  {
   "cell_type": "code",
   "execution_count": null,
   "id": "ad048f82-219e-4c6e-884b-a7eefddeca12",
   "metadata": {
    "tags": []
   },
   "outputs": [],
   "source": [
    "test.head(2)"
   ]
  },
  {
   "cell_type": "code",
   "execution_count": 72,
   "id": "70be10f2-baae-4d41-88a7-8c4b88ad7d97",
   "metadata": {
    "tags": []
   },
   "outputs": [
    {
     "data": {
      "text/plain": [
       "array([0.20968394, 0.07602109, 0.07602109, ..., 0.34902993, 0.34902993,\n",
       "       0.34902993])"
      ]
     },
     "execution_count": 72,
     "metadata": {},
     "output_type": "execute_result"
    }
   ],
   "source": [
    "models_LGBM.fit(train, train_c)\n",
    "res_c = models_LGBM.predict(test_1)\n",
    "res_c"
   ]
  },
  {
   "cell_type": "code",
   "execution_count": 73,
   "id": "b72f47f1-539e-408d-87ea-b7c28d610bc5",
   "metadata": {
    "tags": []
   },
   "outputs": [
    {
     "data": {
      "text/plain": [
       "array([1.96813163, 1.38718235, 1.38718235, ..., 1.09960962, 1.09960962,\n",
       "       1.09960962])"
      ]
     },
     "execution_count": 73,
     "metadata": {},
     "output_type": "execute_result"
    }
   ],
   "source": [
    "models_LGBM.fit(train, train_r)\n",
    "res_r = models_LGBM.predict(test_1)\n",
    "res_r"
   ]
  },
  {
   "cell_type": "code",
   "execution_count": 83,
   "id": "07cf4931-6746-4f9c-8d2e-ec6b1224b646",
   "metadata": {
    "tags": []
   },
   "outputs": [],
   "source": [
    "res_sum = res_c + res_r\n",
    "res_sum =np.expm1(res_sum)\n",
    "res_sum=res_sum.astype('int')"
   ]
  },
  {
   "cell_type": "code",
   "execution_count": 84,
   "id": "1619ffa6-7849-4ef7-8ced-c7c62448e26a",
   "metadata": {
    "tags": []
   },
   "outputs": [
    {
     "data": {
      "text/plain": [
       "0       7\n",
       "1       3\n",
       "2       3\n",
       "3       3\n",
       "4       1\n",
       "       ..\n",
       "6488    3\n",
       "6489    3\n",
       "6490    3\n",
       "6491    3\n",
       "6492    3\n",
       "Length: 6493, dtype: int32"
      ]
     },
     "execution_count": 84,
     "metadata": {},
     "output_type": "execute_result"
    }
   ],
   "source": [
    "res_sum = pd.Series( res_sum)\n",
    "res_sum"
   ]
  },
  {
   "cell_type": "code",
   "execution_count": 85,
   "id": "e69274da-cbbf-4ef9-a6b9-7397b8a02355",
   "metadata": {
    "tags": []
   },
   "outputs": [],
   "source": [
    "ss['count'] = res_sum"
   ]
  },
  {
   "cell_type": "code",
   "execution_count": 86,
   "id": "efab846c-f0d3-48ff-8133-9891974e826c",
   "metadata": {},
   "outputs": [
    {
     "data": {
      "text/html": [
       "<div>\n",
       "<style scoped>\n",
       "    .dataframe tbody tr th:only-of-type {\n",
       "        vertical-align: middle;\n",
       "    }\n",
       "\n",
       "    .dataframe tbody tr th {\n",
       "        vertical-align: top;\n",
       "    }\n",
       "\n",
       "    .dataframe thead th {\n",
       "        text-align: right;\n",
       "    }\n",
       "</style>\n",
       "<table border=\"1\" class=\"dataframe\">\n",
       "  <thead>\n",
       "    <tr style=\"text-align: right;\">\n",
       "      <th></th>\n",
       "      <th>datetime</th>\n",
       "      <th>count</th>\n",
       "    </tr>\n",
       "  </thead>\n",
       "  <tbody>\n",
       "    <tr>\n",
       "      <th>0</th>\n",
       "      <td>2011-01-20 00:00:00</td>\n",
       "      <td>7</td>\n",
       "    </tr>\n",
       "    <tr>\n",
       "      <th>1</th>\n",
       "      <td>2011-01-20 01:00:00</td>\n",
       "      <td>3</td>\n",
       "    </tr>\n",
       "    <tr>\n",
       "      <th>2</th>\n",
       "      <td>2011-01-20 02:00:00</td>\n",
       "      <td>3</td>\n",
       "    </tr>\n",
       "    <tr>\n",
       "      <th>3</th>\n",
       "      <td>2011-01-20 03:00:00</td>\n",
       "      <td>3</td>\n",
       "    </tr>\n",
       "    <tr>\n",
       "      <th>4</th>\n",
       "      <td>2011-01-20 04:00:00</td>\n",
       "      <td>1</td>\n",
       "    </tr>\n",
       "  </tbody>\n",
       "</table>\n",
       "</div>"
      ],
      "text/plain": [
       "             datetime  count\n",
       "0 2011-01-20 00:00:00      7\n",
       "1 2011-01-20 01:00:00      3\n",
       "2 2011-01-20 02:00:00      3\n",
       "3 2011-01-20 03:00:00      3\n",
       "4 2011-01-20 04:00:00      1"
      ]
     },
     "execution_count": 86,
     "metadata": {},
     "output_type": "execute_result"
    }
   ],
   "source": [
    "ss.head()"
   ]
  },
  {
   "cell_type": "code",
   "execution_count": 87,
   "id": "6d7c25f2-f2eb-40b4-98c1-36f73950ba42",
   "metadata": {},
   "outputs": [],
   "source": [
    "ss.to_csv(\"submission.csv\", index = False)\n"
   ]
  },
  {
   "cell_type": "code",
   "execution_count": null,
   "id": "170fbf18-c87d-4533-94c8-606bcfc5b1b5",
   "metadata": {},
   "outputs": [],
   "source": []
  },
  {
   "cell_type": "code",
   "execution_count": null,
   "id": "f9af954c-216d-4b13-b205-c275dc34d3ae",
   "metadata": {
    "tags": []
   },
   "outputs": [],
   "source": [
    "print(test.index.values)"
   ]
  },
  {
   "cell_type": "code",
   "execution_count": null,
   "id": "0588dc41-677f-41d4-bc8f-7fea02bf396b",
   "metadata": {
    "tags": []
   },
   "outputs": [],
   "source": [
    "train.shape, test.shape"
   ]
  },
  {
   "cell_type": "code",
   "execution_count": null,
   "id": "62c8bbb5-b063-4627-bc46-750b8eafde5b",
   "metadata": {
    "tags": []
   },
   "outputs": [],
   "source": [
    "test.info()"
   ]
  }
 ],
 "metadata": {
  "kernelspec": {
   "display_name": "Python 3 (ipykernel)",
   "language": "python",
   "name": "python3"
  },
  "language_info": {
   "codemirror_mode": {
    "name": "ipython",
    "version": 3
   },
   "file_extension": ".py",
   "mimetype": "text/x-python",
   "name": "python",
   "nbconvert_exporter": "python",
   "pygments_lexer": "ipython3",
   "version": "3.8.8"
  },
  "toc-autonumbering": true,
  "toc-showmarkdowntxt": false
 },
 "nbformat": 4,
 "nbformat_minor": 5
}
