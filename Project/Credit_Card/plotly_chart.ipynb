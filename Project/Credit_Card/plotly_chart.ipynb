{
 "cells": [
  {
   "cell_type": "code",
   "execution_count": 1,
   "id": "014575f5-aebd-42c0-ba4b-7d1e8019c82e",
   "metadata": {},
   "outputs": [],
   "source": [
    "import numpy as np\n",
    "\n",
    "import pandas as pd\n",
    "import matplotlib.pyplot as plt\n",
    "import seaborn as sns\n",
    "import datetime as dt\n",
    "\n",
    "sns.set() \n",
    "\n",
    "import json\n",
    "import requests\n",
    "\n",
    "plt.rcParams['font.family']= 'Malgun Gothic'\n",
    "plt.rcParams['axes.unicode_minus'] = False"
   ]
  },
  {
   "cell_type": "code",
   "execution_count": 2,
   "id": "d862ae2d-384c-417b-bbd0-0c1ab1ca289c",
   "metadata": {
    "tags": []
   },
   "outputs": [],
   "source": [
    "import plotly as ply\n",
    "import plotly.graph_objects as go\n",
    "import chart_studio.plotly as py\n",
    "from plotly.subplots import make_subplots # 서브플롯을 만들기 위헤\n",
    "import plotly.io as pio\n",
    "import plotly.express as px\n",
    "\n",
    "import chart_studio\n",
    "chart_studio.tools.set_credentials_file(username='blueblue987', api_key='AJEgsS6al89p7UzgkTjj')"
   ]
  },
  {
   "cell_type": "code",
   "execution_count": 3,
   "id": "e99d21d5-a6f8-4f62-948f-91d24e80b888",
   "metadata": {},
   "outputs": [
    {
     "name": "stdout",
     "output_type": "stream",
     "text": [
      "<class 'pandas.core.frame.DataFrame'>\n",
      "RangeIndex: 500 entries, 0 to 499\n",
      "Data columns (total 6 columns):\n",
      " #   Column                Non-Null Count  Dtype \n",
      "---  ------                --------------  ----- \n",
      " 0   업종대분류(UPJONG_CLASS1)  500 non-null    object\n",
      " 1   기준일자(YMD)             500 non-null    int64 \n",
      " 2   시간대구간(TIME)           500 non-null    int64 \n",
      " 3   고객주소집계구별(TOT_REG_CD)  500 non-null    int64 \n",
      " 4   카드이용금액계(AMT_CORR)     500 non-null    int64 \n",
      " 5   카드이용건수계(USECT_CORR)   500 non-null    int64 \n",
      "dtypes: int64(5), object(1)\n",
      "memory usage: 23.6+ KB\n"
     ]
    }
   ],
   "source": [
    "df3 = pd.read_csv('./집계구별 일별시간대별 카드소비패턴.csv', encoding='CP949')\n",
    "# df3.head()\n",
    "df3.info()"
   ]
  },
  {
   "cell_type": "code",
   "execution_count": 4,
   "id": "6abc9e82-85ec-4d76-b751-247d494503af",
   "metadata": {},
   "outputs": [
    {
     "data": {
      "text/html": [
       "<div>\n",
       "<style scoped>\n",
       "    .dataframe tbody tr th:only-of-type {\n",
       "        vertical-align: middle;\n",
       "    }\n",
       "\n",
       "    .dataframe tbody tr th {\n",
       "        vertical-align: top;\n",
       "    }\n",
       "\n",
       "    .dataframe thead th {\n",
       "        text-align: right;\n",
       "    }\n",
       "</style>\n",
       "<table border=\"1\" class=\"dataframe\">\n",
       "  <thead>\n",
       "    <tr style=\"text-align: right;\">\n",
       "      <th></th>\n",
       "      <th>업종대분류(UPJONG_CLASS1)</th>\n",
       "      <th>기준일자(YMD)</th>\n",
       "      <th>시간대구간(TIME)</th>\n",
       "      <th>고객주소집계구별(TOT_REG_CD)</th>\n",
       "      <th>카드이용금액계(AMT_CORR)</th>\n",
       "      <th>카드이용건수계(USECT_CORR)</th>\n",
       "      <th>y</th>\n",
       "      <th>m</th>\n",
       "      <th>d</th>\n",
       "    </tr>\n",
       "  </thead>\n",
       "  <tbody>\n",
       "    <tr>\n",
       "      <th>0</th>\n",
       "      <td>요식/유흥</td>\n",
       "      <td>20161004</td>\n",
       "      <td>6</td>\n",
       "      <td>1123076010009</td>\n",
       "      <td>104624</td>\n",
       "      <td>10</td>\n",
       "      <td>2016</td>\n",
       "      <td>10</td>\n",
       "      <td>04</td>\n",
       "    </tr>\n",
       "    <tr>\n",
       "      <th>1</th>\n",
       "      <td>유통</td>\n",
       "      <td>20210303</td>\n",
       "      <td>5</td>\n",
       "      <td>1122060030003</td>\n",
       "      <td>382592</td>\n",
       "      <td>20</td>\n",
       "      <td>2021</td>\n",
       "      <td>03</td>\n",
       "      <td>03</td>\n",
       "    </tr>\n",
       "    <tr>\n",
       "      <th>2</th>\n",
       "      <td>유통</td>\n",
       "      <td>20170606</td>\n",
       "      <td>6</td>\n",
       "      <td>1123066022301</td>\n",
       "      <td>341688</td>\n",
       "      <td>5</td>\n",
       "      <td>2017</td>\n",
       "      <td>06</td>\n",
       "      <td>06</td>\n",
       "    </tr>\n",
       "    <tr>\n",
       "      <th>3</th>\n",
       "      <td>스포츠/문화/레저</td>\n",
       "      <td>20171206</td>\n",
       "      <td>5</td>\n",
       "      <td>1124075020103</td>\n",
       "      <td>925118</td>\n",
       "      <td>5</td>\n",
       "      <td>2017</td>\n",
       "      <td>12</td>\n",
       "      <td>06</td>\n",
       "    </tr>\n",
       "    <tr>\n",
       "      <th>4</th>\n",
       "      <td>의료</td>\n",
       "      <td>20160909</td>\n",
       "      <td>6</td>\n",
       "      <td>1113075030002</td>\n",
       "      <td>217985</td>\n",
       "      <td>50</td>\n",
       "      <td>2016</td>\n",
       "      <td>09</td>\n",
       "      <td>09</td>\n",
       "    </tr>\n",
       "  </tbody>\n",
       "</table>\n",
       "</div>"
      ],
      "text/plain": [
       "  업종대분류(UPJONG_CLASS1) 기준일자(YMD)  시간대구간(TIME)  고객주소집계구별(TOT_REG_CD)  \\\n",
       "0                요식/유흥  20161004            6         1123076010009   \n",
       "1                   유통  20210303            5         1122060030003   \n",
       "2                   유통  20170606            6         1123066022301   \n",
       "3            스포츠/문화/레저  20171206            5         1124075020103   \n",
       "4                   의료  20160909            6         1113075030002   \n",
       "\n",
       "   카드이용금액계(AMT_CORR)  카드이용건수계(USECT_CORR)     y   m   d  \n",
       "0             104624                   10  2016  10  04  \n",
       "1             382592                   20  2021  03  03  \n",
       "2             341688                    5  2017  06  06  \n",
       "3             925118                    5  2017  12  06  \n",
       "4             217985                   50  2016  09  09  "
      ]
     },
     "execution_count": 4,
     "metadata": {},
     "output_type": "execute_result"
    }
   ],
   "source": [
    "df3['기준일자(YMD)'] = df3['기준일자(YMD)'].astype(str)\n",
    "df3['y'] = df3['기준일자(YMD)'].str[0:4]\n",
    "df3['m'] =df3['기준일자(YMD)'].str[4:6]\n",
    "df3['d'] =df3['기준일자(YMD)'].str[6:8]\n",
    "df3.head()"
   ]
  },
  {
   "cell_type": "code",
   "execution_count": 5,
   "id": "eb23d57f-b4e6-4fa8-8ab3-06d572d41999",
   "metadata": {},
   "outputs": [],
   "source": [
    "df3 = df3.drop([499,444,110,121],axis = 0)"
   ]
  },
  {
   "cell_type": "code",
   "execution_count": 6,
   "id": "f3c1066f-0373-4602-8c23-d0222268bc35",
   "metadata": {},
   "outputs": [
    {
     "data": {
      "text/html": [
       "<div>\n",
       "<style scoped>\n",
       "    .dataframe tbody tr th:only-of-type {\n",
       "        vertical-align: middle;\n",
       "    }\n",
       "\n",
       "    .dataframe tbody tr th {\n",
       "        vertical-align: top;\n",
       "    }\n",
       "\n",
       "    .dataframe thead th {\n",
       "        text-align: right;\n",
       "    }\n",
       "</style>\n",
       "<table border=\"1\" class=\"dataframe\">\n",
       "  <thead>\n",
       "    <tr style=\"text-align: right;\">\n",
       "      <th></th>\n",
       "      <th>업종대분류(UPJONG_CLASS1)</th>\n",
       "      <th>기준일자(YMD)</th>\n",
       "      <th>시간대구간(TIME)</th>\n",
       "      <th>카드이용금액계(AMT_CORR)</th>\n",
       "      <th>카드이용건수계(USECT_CORR)</th>\n",
       "      <th>y</th>\n",
       "      <th>m</th>\n",
       "      <th>d</th>\n",
       "    </tr>\n",
       "  </thead>\n",
       "  <tbody>\n",
       "    <tr>\n",
       "      <th>0</th>\n",
       "      <td>식품</td>\n",
       "      <td>20161004</td>\n",
       "      <td>6</td>\n",
       "      <td>104624</td>\n",
       "      <td>10</td>\n",
       "      <td>2016</td>\n",
       "      <td>10</td>\n",
       "      <td>04</td>\n",
       "    </tr>\n",
       "    <tr>\n",
       "      <th>1</th>\n",
       "      <td>유통</td>\n",
       "      <td>20210303</td>\n",
       "      <td>5</td>\n",
       "      <td>382592</td>\n",
       "      <td>20</td>\n",
       "      <td>2021</td>\n",
       "      <td>03</td>\n",
       "      <td>03</td>\n",
       "    </tr>\n",
       "    <tr>\n",
       "      <th>2</th>\n",
       "      <td>유통</td>\n",
       "      <td>20170606</td>\n",
       "      <td>6</td>\n",
       "      <td>341688</td>\n",
       "      <td>5</td>\n",
       "      <td>2017</td>\n",
       "      <td>06</td>\n",
       "      <td>06</td>\n",
       "    </tr>\n",
       "    <tr>\n",
       "      <th>3</th>\n",
       "      <td>문화</td>\n",
       "      <td>20171206</td>\n",
       "      <td>5</td>\n",
       "      <td>925118</td>\n",
       "      <td>5</td>\n",
       "      <td>2017</td>\n",
       "      <td>12</td>\n",
       "      <td>06</td>\n",
       "    </tr>\n",
       "    <tr>\n",
       "      <th>4</th>\n",
       "      <td>의료</td>\n",
       "      <td>20160909</td>\n",
       "      <td>6</td>\n",
       "      <td>217985</td>\n",
       "      <td>50</td>\n",
       "      <td>2016</td>\n",
       "      <td>09</td>\n",
       "      <td>09</td>\n",
       "    </tr>\n",
       "  </tbody>\n",
       "</table>\n",
       "</div>"
      ],
      "text/plain": [
       "  업종대분류(UPJONG_CLASS1) 기준일자(YMD)  시간대구간(TIME)  카드이용금액계(AMT_CORR)  \\\n",
       "0                   식품  20161004            6             104624   \n",
       "1                   유통  20210303            5             382592   \n",
       "2                   유통  20170606            6             341688   \n",
       "3                   문화  20171206            5             925118   \n",
       "4                   의료  20160909            6             217985   \n",
       "\n",
       "   카드이용건수계(USECT_CORR)     y   m   d  \n",
       "0                   10  2016  10  04  \n",
       "1                   20  2021  03  03  \n",
       "2                    5  2017  06  06  \n",
       "3                    5  2017  12  06  \n",
       "4                   50  2016  09  09  "
      ]
     },
     "execution_count": 6,
     "metadata": {},
     "output_type": "execute_result"
    }
   ],
   "source": [
    "df3['업종대분류(UPJONG_CLASS1)'] = df3['업종대분류(UPJONG_CLASS1)'].replace(['가전/가구','가정생활/서비스'],'가정생활')\n",
    "df3['업종대분류(UPJONG_CLASS1)'] = df3['업종대분류(UPJONG_CLASS1)'].replace('교육/학원','교육')\n",
    "df3['업종대분류(UPJONG_CLASS1)'] = df3['업종대분류(UPJONG_CLASS1)'].replace(['스포츠/문화/레저','여행/교통'],'문화')\n",
    "df3['업종대분류(UPJONG_CLASS1)'] = df3['업종대분류(UPJONG_CLASS1)'].replace(['주유','자동차'],'교통')\n",
    "df3['업종대분류(UPJONG_CLASS1)'] = df3['업종대분류(UPJONG_CLASS1)'].replace(['요식/유흥','음/식료품'],'식품')\n",
    "df3['업종대분류(UPJONG_CLASS1)'] = df3['업종대분류(UPJONG_CLASS1)'].replace(['의류/잡화','미용'],'패션')\n",
    "df3['업종대분류(UPJONG_CLASS1)'].value_counts()\n",
    "\n",
    "df3 = df3.drop('고객주소집계구별(TOT_REG_CD)', axis = 1)\n",
    "df3.head()"
   ]
  },
  {
   "cell_type": "code",
   "execution_count": 7,
   "id": "02e007e0-39cf-4198-98b2-49f3d86f7318",
   "metadata": {},
   "outputs": [],
   "source": [
    "mdf3 = df3.sort_values(['m','업종대분류(UPJONG_CLASS1)'])\n",
    "cdf3 = df3.sort_values(['업종대분류(UPJONG_CLASS1)','m'])\n",
    "\n",
    "cdf16= df3[df3['y']=='2016'].sort_values(['업종대분류(UPJONG_CLASS1)','m'])\n",
    "cdf17= df3[df3['y']=='2017'].sort_values(['업종대분류(UPJONG_CLASS1)','m'])\n",
    "cdf18= df3[df3['y']=='2018'].sort_values(['업종대분류(UPJONG_CLASS1)','m'])\n",
    "cdf19= df3[df3['y']=='2019'].sort_values(['업종대분류(UPJONG_CLASS1)','m'])\n",
    "cdf20= df3[df3['y']=='2020'].sort_values(['업종대분류(UPJONG_CLASS1)','m'])\n",
    "cdf21= df3[df3['y']=='2021'].sort_values(['업종대분류(UPJONG_CLASS1)','m'])\n",
    "\n",
    "mdf16= df3[df3['y']=='2016'].sort_values(['m','업종대분류(UPJONG_CLASS1)'])\n",
    "mdf17= df3[df3['y']=='2017'].sort_values(['m','업종대분류(UPJONG_CLASS1)'])\n",
    "mdf18= df3[df3['y']=='2018'].sort_values(['m','업종대분류(UPJONG_CLASS1)'])\n",
    "mdf19= df3[df3['y']=='2019'].sort_values(['m','업종대분류(UPJONG_CLASS1)'])\n",
    "mdf20= df3[df3['y']=='2020'].sort_values(['m','업종대분류(UPJONG_CLASS1)'])\n",
    "mdf21= df3[df3['y']=='2021'].sort_values(['m','업종대분류(UPJONG_CLASS1)'])\n",
    "\n",
    "\n"
   ]
  },
  {
   "cell_type": "code",
   "execution_count": 8,
   "id": "c8c84d99-7ddd-45ce-a678-4f02ef1e2f82",
   "metadata": {
    "tags": []
   },
   "outputs": [],
   "source": [
    "gadf = mdf3[mdf3['업종대분류(UPJONG_CLASS1)']=='가정생활']\n",
    "eddf = mdf3[mdf3['업종대분류(UPJONG_CLASS1)']=='교육']\n",
    "trandf = mdf3[mdf3['업종대분류(UPJONG_CLASS1)']=='교통']\n",
    "culdf = mdf3[mdf3['업종대분류(UPJONG_CLASS1)']=='문화']\n",
    "fodf = mdf3[mdf3['업종대분류(UPJONG_CLASS1)']=='식품']\n",
    "logisdf = mdf3[mdf3['업종대분류(UPJONG_CLASS1)']=='유통']\n",
    "meddf = mdf3[mdf3['업종대분류(UPJONG_CLASS1)']=='의료']\n",
    "onlinedf = mdf3[mdf3['업종대분류(UPJONG_CLASS1)']=='전자상거래']\n",
    "fadf = mdf3[mdf3['업종대분류(UPJONG_CLASS1)']=='패션']"
   ]
  },
  {
   "cell_type": "code",
   "execution_count": null,
   "id": "4f28faee-3f61-427c-9587-82548d28040a",
   "metadata": {
    "tags": []
   },
   "outputs": [],
   "source": [
    "df3.info()"
   ]
  },
  {
   "cell_type": "code",
   "execution_count": null,
   "id": "ae685062-a34a-4e16-a80f-5c6e9b83c0c8",
   "metadata": {
    "tags": []
   },
   "outputs": [],
   "source": [
    "fig = px.bar(cdf3, x='업종대분류(UPJONG_CLASS1)', y='카드이용건수계(USECT_CORR)')\n",
    "# fig.show()\n",
    "# py.plot(fig, filename = 'df3')"
   ]
  },
  {
   "cell_type": "code",
   "execution_count": null,
   "id": "ca478ade-6413-4711-a6b5-1b7df26314ee",
   "metadata": {
    "tags": []
   },
   "outputs": [],
   "source": [
    "fig = px.bar(cdf3, x='업종대분류(UPJONG_CLASS1)', y='카드이용금액계(AMT_CORR)')\n",
    "# fig.show()\n",
    "# py.plot(fig, filename = 'df3')"
   ]
  },
  {
   "cell_type": "code",
   "execution_count": null,
   "id": "7101d2d5-3ff4-42a1-a1ca-a44d9de79346",
   "metadata": {
    "tags": []
   },
   "outputs": [],
   "source": [
    "# fig = make_subplots(cols=2, subplot_titles = ['이용건수','이용금액'])\n",
    "# fig.add_scatter(x=cdf3['업종대분류(UPJONG_CLASS1)'], y=cdf3['카드이용건수계(USECT_CORR)'],row=1, col=1) \n",
    "# fig.add_bar(x=cdf3['업종대분류(UPJONG_CLASS1)'], y=cdf3['카드이용금액계(AMT_CORR)'], row=1, col=2) \n",
    "# ## 업종 top3 : 유통,교통,식품\n",
    "# # py.plot(fig, filename = '업종별_건수금액')\n",
    "# fig.show()"
   ]
  },
  {
   "cell_type": "code",
   "execution_count": null,
   "id": "cfac4b58-8701-4305-8cd9-9d9a32348c3d",
   "metadata": {
    "tags": []
   },
   "outputs": [],
   "source": [
    "fig = go.Figure(go.Bar(x=cdf3['업종대분류(UPJONG_CLASS1)'], y=cdf3['카드이용건수계(USECT_CORR)']))\n",
    "py.plot(fig, filename = '업종별_건수')\n",
    "fig.show()"
   ]
  },
  {
   "cell_type": "code",
   "execution_count": null,
   "id": "364cedf0-b229-4813-9732-cfdf49a1e442",
   "metadata": {},
   "outputs": [],
   "source": [
    "fig = go.Figure(go.Bar( x=cdf3['업종대분류(UPJONG_CLASS1)'], y=cdf3['카드이용금액계(AMT_CORR)']))\n",
    "py.plot(fig, filename = '업종별_금액')\n",
    "fig.show()\n"
   ]
  },
  {
   "cell_type": "code",
   "execution_count": null,
   "id": "8663bb50-b02e-4d04-9e1e-d8f39ee91b44",
   "metadata": {
    "tags": []
   },
   "outputs": [],
   "source": [
    "trandf.head()"
   ]
  },
  {
   "cell_type": "code",
   "execution_count": null,
   "id": "3a7900d7-5d1a-4525-b3e1-3f08e06b68bb",
   "metadata": {
    "tags": []
   },
   "outputs": [],
   "source": [
    "cdf3.columns"
   ]
  },
  {
   "cell_type": "code",
   "execution_count": null,
   "id": "682c14ce-3922-40d8-ab24-8db2136d5225",
   "metadata": {},
   "outputs": [],
   "source": [
    "# fig = make_subplots(cols=2, subplot_titles = ['문화업종 이용건수','문화업종 이용금액'])\n",
    "# fig.add_bar(x = culdf['시간대구간(TIME)'], y=culdf['카드이용건수계(USECT_CORR)'],row=1, col=1) \n",
    "# fig.add_bar(x = culdf['시간대구간(TIME)'], y=culdf['카드이용금액계(AMT_CORR)'], row=1, col=2) \n",
    "# # fig.show()\n",
    "# py.plot(fig, filename = '가정시간대_건수금액')\n",
    "# ## 문화업종은 3,56구간 늦은 오전과 늦은 오후에 이용건수, 이용금액이 많다/주부들이 늦은 오전, 직장인들이 늦은 오후에 소비할 것으로 추측"
   ]
  },
  {
   "cell_type": "code",
   "execution_count": null,
   "id": "a95bea62-9ca6-4950-96e1-2491ab83bc04",
   "metadata": {
    "tags": []
   },
   "outputs": [],
   "source": [
    "cdf3.columns"
   ]
  },
  {
   "cell_type": "markdown",
   "id": "d0a19b76-9bb6-4fdb-99d3-8c0438aa9ee9",
   "metadata": {},
   "source": [
    "# 히트맵"
   ]
  },
  {
   "cell_type": "code",
   "execution_count": null,
   "id": "884c0508-7e9c-43e5-b11f-be01aee72e82",
   "metadata": {
    "tags": []
   },
   "outputs": [],
   "source": [
    "fvdf1 = cdf3.pivot_table(index='업종대분류(UPJONG_CLASS1)', values='카드이용금액계(AMT_CORR)', columns='시간대구간(TIME)', aggfunc=\"mean\")\n",
    "fvdf1 = fvdf1.fillna(0)\n",
    "fvdf1.isna()"
   ]
  },
  {
   "cell_type": "code",
   "execution_count": null,
   "id": "35691aa0-67b4-4465-bacf-fa2ec373ca4e",
   "metadata": {
    "tags": []
   },
   "outputs": [],
   "source": [
    "data= fvdf1.values.tolist()\n",
    "x_label = fvdf1.index.values.tolist()\n",
    "y_label =fvdf1.columns.values.tolist()\n",
    "fig = px.imshow(data,\n",
    "                labels=dict(x='시간대구간(TIME)',color='카드이용금액계(AMT_CORR)'),\n",
    "                x=y_label,\n",
    "                y=x_label,\n",
    "                color_continuous_scale=\"Pubu\",width=800, height=500\n",
    "               )\n",
    "fig.update_xaxes(side=\"top\")\n",
    "py.plot(fig, filename = '업종별_시간대별_금액', auto_open=False)\n",
    "fig.show()"
   ]
  },
  {
   "cell_type": "code",
   "execution_count": null,
   "id": "e2a203a5-9607-4253-9236-190e13a25ae2",
   "metadata": {
    "tags": []
   },
   "outputs": [],
   "source": [
    "fvdf2 = cdf3.pivot_table(index='업종대분류(UPJONG_CLASS1)', values='카드이용건수계(USECT_CORR)', columns='시간대구간(TIME)', aggfunc=\"mean\")\n",
    "fvdf2 = fvdf2.fillna(0)\n",
    "fvdf2.isna()\n"
   ]
  },
  {
   "cell_type": "code",
   "execution_count": null,
   "id": "318ee30c-9641-43a7-b4f8-1d0eb19188e1",
   "metadata": {
    "tags": []
   },
   "outputs": [],
   "source": [
    "data= fvdf2.values.tolist()\n",
    "x_label = fvdf2.index.values.tolist()\n",
    "y_label =fvdf2.columns.values.tolist()\n",
    "fig = px.imshow(data,\n",
    "                labels=dict(x='시간대구간(TIME)', color='카드이용건수계(USECT_CORR)'),\n",
    "                x=y_label,\n",
    "                y=x_label,\n",
    "                color_continuous_scale=\"Pubu\",width=800, height=500\n",
    "               )\n",
    "fig.update_xaxes(side=\"top\")\n",
    "py.plot(fig, filename = '업종별_시간대별_건수', auto_open=False)\n",
    "fig.show()"
   ]
  },
  {
   "cell_type": "markdown",
   "id": "9c0e6d55-617d-4c9f-9c99-ddfd0d6876d1",
   "metadata": {
    "tags": []
   },
   "source": [
    "# 교통_시간대별_카드이용건수금액 -- twinax 완전 개망"
   ]
  },
  {
   "cell_type": "code",
   "execution_count": null,
   "id": "65a0420c-40e4-4234-a03e-a96a5a3a2346",
   "metadata": {
    "tags": []
   },
   "outputs": [],
   "source": [
    "trandf.columns"
   ]
  },
  {
   "cell_type": "code",
   "execution_count": null,
   "id": "f27c3d48-c113-41e7-8c95-90582e5e4d51",
   "metadata": {},
   "outputs": [],
   "source": [
    "# fig = make_subplots(specs=[[{\"secondary_y\": True}]])\n",
    "# fig.add_trace(\n",
    "#     go.Bar(x=trandf['시간대구간(TIME)'], y=trandf['카드이용건수계(USECT_CORR)'], name='카드이용건수계(USECT_CORR)'),\n",
    "#     secondary_y=False)\n",
    "# fig.add_trace(\n",
    "#     go.Bar(x=trandf['시간대구간(TIME)'], y=trandf['카드이용금액계(AMT_CORR)'], name='카드이용금액계(AMT_CORR)'),\n",
    "#     secondary_y=True)\n",
    "# fig.update_layout(\n",
    "#     title_text=\"교통_시간대별_카드이용건수금액\"\n",
    "# )\n",
    "# fig.update_xaxes(title_text=\"시간대구간\")\n",
    "# fig.update_yaxes(title_text='카드이용건수계(USECT_CORR)', secondary_y=False)\n",
    "# fig.update_yaxes(title_text='카드이용금액계(AMT_CORR)', secondary_y=True)\n",
    "# py.plot(fig, filename = '교통_시간대별_카드이용건수금액', auto_open=False)\n",
    "# fig.show()"
   ]
  },
  {
   "cell_type": "code",
   "execution_count": null,
   "id": "1fff5ad1-5133-43ca-8206-25d6249c9730",
   "metadata": {},
   "outputs": [],
   "source": [
    "# fig = make_subplots(specs=[[{\"secondary_y\": True}]])\n",
    "# fig.add_trace(\n",
    "#     go.Strip(x=culdf['시간대구간(TIME)'], y=culdf['카드이용건수계(USECT_CORR)'], name='카드이용건수계(USECT_CORR)'),\n",
    "#     secondary_y=False)\n",
    "# fig.add_trace(\n",
    "#     go.Strip(x=culdf['시간대구간(TIME)'], y=culdf['카드이용금액계(AMT_CORR)'], name='카드이용금액계(AMT_CORR)'),\n",
    "#     secondary_y=True)\n",
    "# fig.update_layout(\n",
    "#     title_text=\"문화_시간대별_카드이용건수금액\"\n",
    "# )\n",
    "# fig.update_xaxes(title_text=\"시간대구간\")\n",
    "# fig.update_yaxes(title_text='카드이용건수계(USECT_CORR)', secondary_y=False)\n",
    "# fig.update_yaxes(title_text='카드이용금액계(AMT_CORR)', secondary_y=True)\n",
    "# py.plot(fig, filename = '문화_시간대별_카드이용건수금액', auto_open=False)\n",
    "# fig.show()"
   ]
  },
  {
   "cell_type": "markdown",
   "id": "8ef600b6-bf83-4b6d-afa6-9aa7796d80af",
   "metadata": {},
   "source": [
    "# 따로 따로 보여주기"
   ]
  },
  {
   "cell_type": "code",
   "execution_count": null,
   "id": "f114c8fc-ca92-43bd-b482-b85bf233d91f",
   "metadata": {
    "tags": []
   },
   "outputs": [],
   "source": [
    "trandf.columns"
   ]
  },
  {
   "cell_type": "markdown",
   "id": "bb48c13a-19fc-4f2b-a942-185a8d4b458c",
   "metadata": {},
   "source": [
    "## 교통"
   ]
  },
  {
   "cell_type": "code",
   "execution_count": null,
   "id": "ea7b0bdc-8bb3-4753-8b91-e4ba1d0701b2",
   "metadata": {},
   "outputs": [],
   "source": [
    "# fig = go.Figure(go.Bar( x=cdf3['업종대분류(UPJONG_CLASS1)'], y=cdf3['카드이용금액계(AMT_CORR)']))\n",
    "# py.plot(fig, filename = '업종별_금액')\n",
    "# fig.show()\n"
   ]
  },
  {
   "cell_type": "code",
   "execution_count": null,
   "id": "d092dfb2-0ed7-4cc7-83ff-f104b47f63e7",
   "metadata": {
    "tags": []
   },
   "outputs": [],
   "source": [
    "fig = go.Figure(go.Bar( x=trandf['시간대구간(TIME)'], y=trandf['카드이용건수계(USECT_CORR)']))\n",
    "# py.plot(fig, filename = '교통_시간대별_카드이용건수')\n",
    "fig.show()\n"
   ]
  },
  {
   "cell_type": "code",
   "execution_count": null,
   "id": "468b2245-34c9-4c37-ab07-ca9e740c365e",
   "metadata": {
    "tags": []
   },
   "outputs": [],
   "source": [
    "fig = go.Figure(go.Bar( x=trandf['시간대구간(TIME)'], y=trandf['카드이용금액계(AMT_CORR)']))\n",
    "# py.plot(fig, filename = '교통_시간대별_카드이용금액')\n",
    "fig.show()\n"
   ]
  },
  {
   "cell_type": "code",
   "execution_count": null,
   "id": "1e9dcbb2-cc9f-413c-a079-c65ae1f41bef",
   "metadata": {
    "tags": []
   },
   "outputs": [],
   "source": [
    "# fig = px.bar(trandf, '시간대구간(TIME)'], y=['카드이용금액계(AMT_CORR)'])\n",
    "# fig.show()\n",
    "# py.plot(fig, filename = '교통_시간대별_카드이용금액', auto_open=False)"
   ]
  },
  {
   "cell_type": "markdown",
   "id": "02030bc7-0112-441d-8e75-6deaadb92935",
   "metadata": {},
   "source": [
    "## 문화"
   ]
  },
  {
   "cell_type": "code",
   "execution_count": null,
   "id": "276dab12-21ed-4b40-af2d-b4d46e02af14",
   "metadata": {
    "tags": []
   },
   "outputs": [],
   "source": [
    "fig = go.Figure(go.Bar( x=culdf['시간대구간(TIME)'], y=culdf['카드이용건수계(USECT_CORR)']))\n",
    "# py.plot(fig, filename = '문화_시간대별_카드이용건수')\n",
    "fig.show()\n"
   ]
  },
  {
   "cell_type": "code",
   "execution_count": null,
   "id": "1168c0ea-4f1e-4473-9bce-bab932562336",
   "metadata": {
    "tags": []
   },
   "outputs": [],
   "source": [
    "fig = go.Figure(go.Bar( x=culdf['시간대구간(TIME)'], y=culdf['카드이용금액계(AMT_CORR)']))\n",
    "# py.plot(fig, filename = '문화_시간대별_카드이용금액')\n",
    "fig.show()\n"
   ]
  },
  {
   "cell_type": "code",
   "execution_count": null,
   "id": "1b97d62d-effd-4beb-a992-d3706edfe27b",
   "metadata": {
    "tags": []
   },
   "outputs": [],
   "source": [
    "# fig = px.bar(culdf, x='시간대구간(TIME)', y='카드이용건수계(USECT_CORR)')\n",
    "# fig.show()\n",
    "# py.plot(fig, filename = '문화_시간대별_카드이용건수', auto_open=False)"
   ]
  },
  {
   "cell_type": "code",
   "execution_count": null,
   "id": "6a132f25-1b18-42d8-9513-ac6715060038",
   "metadata": {
    "tags": []
   },
   "outputs": [],
   "source": [
    "# fig = px.bar(culdf, x='시간대구간(TIME)', y='카드이용금액계(AMT_CORR)')\n",
    "# fig.show()\n",
    "# py.plot(fig, filename = '문화_시간대별_카드이용금액', auto_open=False)"
   ]
  },
  {
   "cell_type": "code",
   "execution_count": null,
   "id": "c1a83790-cb6d-4f8e-add1-b7180e243410",
   "metadata": {},
   "outputs": [],
   "source": [
    "wetetewt"
   ]
  },
  {
   "cell_type": "markdown",
   "id": "6ef7d19f-56bf-4805-a1c5-212b59d45c13",
   "metadata": {},
   "source": [
    "# 전자상거래/유통"
   ]
  },
  {
   "cell_type": "code",
   "execution_count": null,
   "id": "666895c8-6866-4b60-9c61-dfd82531d9ad",
   "metadata": {},
   "outputs": [],
   "source": [
    "logisdf[logisdf['y'].isin(['2016','2017','2018'])].head()"
   ]
  },
  {
   "cell_type": "code",
   "execution_count": null,
   "id": "37d5982c-2aca-4366-b26b-ddfbad8dc3e2",
   "metadata": {
    "tags": []
   },
   "outputs": [],
   "source": [
    "logisdf[logisdf['y'].isin(['2019','2020','2021'])].head()"
   ]
  },
  {
   "cell_type": "code",
   "execution_count": null,
   "id": "a7bc739a-89e4-43ea-956b-8e21f015ae0b",
   "metadata": {
    "tags": []
   },
   "outputs": [],
   "source": [
    "fig = go.Figure(go.Bar( x=logisdf[logisdf['y'].isin(['2016','2017','2018'])]['시간대구간(TIME)'], y=logisdf['카드이용건수계(USECT_CORR)']))\n",
    "py.plot(fig, filename = '52전_유통_시간대별_카드이용건수')\n",
    "fig.show()"
   ]
  },
  {
   "cell_type": "code",
   "execution_count": null,
   "id": "3676fea7-8b26-4d5e-803e-9aa62b6c2352",
   "metadata": {
    "tags": []
   },
   "outputs": [],
   "source": [
    "fig = go.Figure(go.Bar( x=logisdf[logisdf['y'].isin(['2019','2020','2021'])]['시간대구간(TIME)'], y=logisdf['카드이용건수계(USECT_CORR)']))\n",
    "py.plot(fig, filename = '52후_유통_시간대별_카드이용건수')\n",
    "fig.show()"
   ]
  },
  {
   "cell_type": "code",
   "execution_count": null,
   "id": "34d66fd0-10ed-4d76-8166-12f9a1dceb84",
   "metadata": {
    "tags": []
   },
   "outputs": [],
   "source": [
    "fig = go.Figure(go.Bar( x=fodf[fodf['y'].isin(['2016','2017','2018'])]['시간대구간(TIME)'], y=fodf['카드이용건수계(USECT_CORR)']))\n",
    "py.plot(fig, filename = '52전_식품_시간대별_카드이용건수')\n",
    "fig.show()"
   ]
  },
  {
   "cell_type": "code",
   "execution_count": null,
   "id": "fab7449f-c66d-452d-9283-85b76b03a96f",
   "metadata": {
    "tags": []
   },
   "outputs": [],
   "source": [
    "fig = go.Figure(go.Bar( x=fodf[fodf['y'].isin(['2019','2020','2021'])]['시간대구간(TIME)'], y=fodf['카드이용건수계(USECT_CORR)']))\n",
    "py.plot(fig, filename = '52후_식품_시간대별_카드이용건수')\n",
    "fig.show()"
   ]
  },
  {
   "cell_type": "code",
   "execution_count": null,
   "id": "797dee97-4fff-445d-a993-e5d6fdd65078",
   "metadata": {
    "tags": []
   },
   "outputs": [],
   "source": [
    "fig = go.Figure(go.Bar( x=onlinedf[onlinedf['y'].isin(['2016','2017','2018'])]['시간대구간(TIME)'], y=onlinedf['카드이용건수계(USECT_CORR)']))\n",
    "py.plot(fig, filename = '18년이전_온라인_시간대별_카드이용건수')\n",
    "fig.show()"
   ]
  },
  {
   "cell_type": "code",
   "execution_count": null,
   "id": "32e7f78a-2353-4fd3-a862-16e569dffcfc",
   "metadata": {
    "tags": []
   },
   "outputs": [],
   "source": [
    "fig = go.Figure(go.Bar( x=onlinedf[onlinedf['y'].isin(['2019','2020','2021'])]['시간대구간(TIME)'], y=onlinedf['카드이용건수계(USECT_CORR)']))\n",
    "py.plot(fig, filename = '18년이후_온라인_시간대별_카드이용건수')\n",
    "fig.show()"
   ]
  },
  {
   "cell_type": "code",
   "execution_count": null,
   "id": "c05692cf-531d-4de3-9efb-fa85943df9b4",
   "metadata": {
    "tags": []
   },
   "outputs": [],
   "source": [
    "fig = go.Figure(go.Bar( x=culdf[culdf['y'].isin(['2016','2017','2018'])]['시간대구간(TIME)'], y=culdf['카드이용건수계(USECT_CORR)']))\n",
    "py.plot(fig, filename = '18년이전_문화_시간대별_카드이용건수')\n",
    "fig.show()"
   ]
  },
  {
   "cell_type": "code",
   "execution_count": null,
   "id": "36165eb3-c445-4b2c-9ec2-abfdc6fd8337",
   "metadata": {
    "tags": []
   },
   "outputs": [],
   "source": [
    "fig = go.Figure(go.Bar( x=culdf[culdf['y'].isin(['2019','2020','2021'])]['시간대구간(TIME)'], y=culdf['카드이용건수계(USECT_CORR)']))\n",
    "py.plot(fig, filename = '18년이후_문화_시간대별_카드이용건수')\n",
    "fig.show()"
   ]
  },
  {
   "cell_type": "code",
   "execution_count": null,
   "id": "3c21580c-c93d-4dbf-84a0-005551436e26",
   "metadata": {},
   "outputs": [],
   "source": []
  },
  {
   "cell_type": "code",
   "execution_count": null,
   "id": "188c7c8d-00fd-4080-a856-149c6810349e",
   "metadata": {},
   "outputs": [],
   "source": []
  },
  {
   "cell_type": "code",
   "execution_count": null,
   "id": "c6e93981-24cf-44ed-a35f-5e10275cc59b",
   "metadata": {},
   "outputs": [],
   "source": []
  },
  {
   "cell_type": "code",
   "execution_count": null,
   "id": "3413e15b-db1b-4aaf-aeec-abba6fa40e48",
   "metadata": {},
   "outputs": [],
   "source": []
  },
  {
   "cell_type": "code",
   "execution_count": null,
   "id": "9e10c20b-aad2-4277-ba9f-6b5ce59e1120",
   "metadata": {},
   "outputs": [],
   "source": []
  },
  {
   "cell_type": "code",
   "execution_count": null,
   "id": "6a6f999a-e422-4796-a50d-5b2cd75eafcc",
   "metadata": {},
   "outputs": [],
   "source": []
  }
 ],
 "metadata": {
  "kernelspec": {
   "display_name": "Python 3 (ipykernel)",
   "language": "python",
   "name": "python3"
  },
  "language_info": {
   "codemirror_mode": {
    "name": "ipython",
    "version": 3
   },
   "file_extension": ".py",
   "mimetype": "text/x-python",
   "name": "python",
   "nbconvert_exporter": "python",
   "pygments_lexer": "ipython3",
   "version": "3.8.8"
  }
 },
 "nbformat": 4,
 "nbformat_minor": 5
}
