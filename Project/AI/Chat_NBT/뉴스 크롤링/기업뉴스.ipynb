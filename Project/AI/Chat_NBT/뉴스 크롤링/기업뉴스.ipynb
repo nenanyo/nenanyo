{
 "cells": [
  {
   "cell_type": "code",
   "execution_count": 2,
   "id": "64c0337d-1f9f-4c04-9053-5f7d43bdffd6",
   "metadata": {
    "tags": []
   },
   "outputs": [
    {
     "data": {
      "text/html": [
       "<style>.container{width:100% !important;}</style>"
      ],
      "text/plain": [
       "<IPython.core.display.HTML object>"
      ]
     },
     "metadata": {},
     "output_type": "display_data"
    }
   ],
   "source": [
    "import numpy as np\n",
    "import pandas as pd\n",
    "import json\n",
    "from bs4 import BeautifulSoup\n",
    "import requests\n",
    "import random\n",
    "import time\n",
    "#-------------------- 주피터 , 출력결과 넓이 늘리기 ---------------\n",
    "# from IPython.core.display import display, HTML\n",
    "from IPython.display import display, HTML\n",
    "\n",
    "display(HTML(\"<style>.container{width:100% !important;}</style>\"))\n",
    "pd.set_option('display.max_rows', 100)\n",
    "pd.set_option('display.max_columns', 100)\n",
    "pd.set_option('max_colwidth', None)\n",
    "\n",
    "import warnings\n",
    "warnings.filterwarnings(action='ignore')"
   ]
  },
  {
   "cell_type": "markdown",
   "id": "e5909ae9-c372-44d7-b31f-72156ad63290",
   "metadata": {},
   "source": [
    "# 삼성(팍스넷)\n",
    "* page : 3412"
   ]
  },
  {
   "cell_type": "code",
   "execution_count": null,
   "id": "8c523049-9831-4745-810c-2283d304f2c1",
   "metadata": {
    "tags": []
   },
   "outputs": [],
   "source": [
    "table = pd.read_html('https://www.paxnet.co.kr/news/005930/stock?currentPageNo=1&stockCode=005930&objId=S005930')#, header=0, encoding='cp949')\n",
    "table"
   ]
  },
  {
   "cell_type": "code",
   "execution_count": 27,
   "id": "f560c073-dfb1-4dcb-adc5-0501e2d04196",
   "metadata": {
    "tags": []
   },
   "outputs": [],
   "source": [
    "def craw_samsung():\n",
    "    news_list = []\n",
    "    for pageno in range(2001,3414, 1):\n",
    "        interval = round(random.uniform(0.2, 1.2), 2)\n",
    "        time.sleep(interval)\n",
    "        #------------------------------------------------\n",
    "        url = 'https://www.paxnet.co.kr/news/005930/stock?stockCode=005930&objId=S005930&currentPageNo='+ str(pageno) \n",
    "        headers = {\"User-Agent\": \"Mozilla/5.0 (Windows NT 6.3; WOW64) AppleWebKit/537.36 (KHTML, like Gecko) Chrome/44.0.2403.157 Safari/537.36\"}\n",
    "        response = requests.get(url,headers=headers)\n",
    "        # print (response)\n",
    "        print(pageno)\n",
    "\n",
    "        if response.status_code == 200:\n",
    "            html = response.text\n",
    "            soup = BeautifulSoup(html, 'html.parser')\n",
    "            div_list = soup.select(\"#contents > div.cont-area > div.board-thumbnail > ul > li\")\n",
    "            # print(div_list)\n",
    "            for i, li_tag in enumerate(div_list):\n",
    "                dict = {}\n",
    "                try:\n",
    "                    title = li_tag.select_one('#contents > div.cont-area > div.board-thumbnail > ul > li > dl > dt > a').text\n",
    "                    rdate = li_tag.select_one('#contents > div.cont-area > div.board-thumbnail > ul > li > dl > dd.date > span:nth-child(2)').text\n",
    "                    # href = li_tag.select_one('#container > div.article_list_left > div.sub_contents_3 > ul > li > div.txt_area > div > a').get(\"href\")\n",
    "                    # cont = li_tag.select_one('body > main > article > ol > li > div > h2').text\n",
    "\n",
    "                    dict['key_title'] = title\n",
    "                    dict['key_rdate'] = rdate\n",
    "                    # dict['key_href'] = href\n",
    "                    # dict['key_cont'] = cont\n",
    "\n",
    "                    news_list.append(dict)\n",
    "                except Exception as e:\n",
    "                    continue\n",
    "        else:\n",
    "            # print(\"에러발생\" + response.status_code)\n",
    "            continue   \n",
    "    df = pd.DataFrame(news_list)#, columns = [\"title\",\"rdate\",\"href\",\"cont\"])\n",
    "    df.to_csv(\"./data/paxnet/samsungnews3413.csv\", index=False)\n",
    "\n",
    "\n",
    "#     return news_list\n",
    "\n"
   ]
  },
  {
   "cell_type": "code",
   "execution_count": null,
   "id": "4259f105-2b6e-45f3-9406-e5fb9e614d9a",
   "metadata": {
    "tags": []
   },
   "outputs": [],
   "source": [
    "craw_samsung()"
   ]
  }
 ],
 "metadata": {
  "kernelspec": {
   "display_name": "Python 3 (ipykernel)",
   "language": "python",
   "name": "python3"
  },
  "language_info": {
   "codemirror_mode": {
    "name": "ipython",
    "version": 3
   },
   "file_extension": ".py",
   "mimetype": "text/x-python",
   "name": "python",
   "nbconvert_exporter": "python",
   "pygments_lexer": "ipython3",
   "version": "3.8.8"
  }
 },
 "nbformat": 4,
 "nbformat_minor": 5
}
