{
 "cells": [
  {
   "cell_type": "code",
   "execution_count": 1,
   "id": "2bed931f-dc75-4dcb-98b6-efd1cc7fa999",
   "metadata": {
    "tags": []
   },
   "outputs": [
    {
     "data": {
      "text/html": [
       "<style>.container{width:100% !important;}</style>"
      ],
      "text/plain": [
       "<IPython.core.display.HTML object>"
      ]
     },
     "metadata": {},
     "output_type": "display_data"
    }
   ],
   "source": [
    "import numpy as np\n",
    "import pandas as pd\n",
    "\n",
    "import matplotlib.pyplot as plt\n",
    "import seaborn as sns\n",
    "\n",
    "\n",
    "sns.set()\n",
    "\n",
    "#-------------------- 차트 관련 속성 (한글처리, 그리드) -----------\n",
    "plt.rcParams['font.family']= 'Malgun Gothic'\n",
    "plt.rcParams['axes.unicode_minus'] = False\n",
    "\n",
    "#-------------------- 주피터 , 출력결과 넓이 늘리기 ---------------\n",
    "# from IPython.core.display import display, HTML\n",
    "from IPython.display import display, HTML\n",
    "\n",
    "display(HTML(\"<style>.container{width:100% !important;}</style>\"))\n",
    "pd.set_option('display.max_rows', 100)\n",
    "pd.set_option('display.max_columns', 100)\n",
    "pd.set_option('max_colwidth', None)\n",
    "\n",
    "import warnings\n",
    "warnings.filterwarnings(action='ignore')"
   ]
  },
  {
   "cell_type": "code",
   "execution_count": 2,
   "id": "b569c21c-b989-45f1-9cb2-24de6b1e7214",
   "metadata": {
    "tags": []
   },
   "outputs": [],
   "source": [
    "# import pandas_profiling\n",
    "\n",
    "# ----------------- 학습 ----------------------\n",
    "from sklearn.model_selection import train_test_split, cross_val_score\n",
    "from sklearn.preprocessing import StandardScaler, MinMaxScaler, RobustScaler\n",
    "\n",
    "# ----------------- 모델 ----------------------\n",
    "from sklearn.tree import DecisionTreeClassifier\n",
    "from sklearn.linear_model import LogisticRegression\n",
    "from sklearn.linear_model import Ridge\n",
    "\n",
    "# ----------------- 평가 ----------------------\n",
    "from sklearn.metrics import confusion_matrix\n",
    "from sklearn.metrics import mean_squared_error\n",
    "from sklearn.metrics import classification_report\n",
    "from sklearn.metrics import accuracy_score\n",
    "from sklearn.metrics import f1_score, precision_score, recall_score\n",
    "# from sklearn.metrics import precision_recall_curve, plot_precision_recall_curve\n",
    "\n",
    "# from sklearn.metrics import roc_auc_score, roc_curve, plot_roc_curve"
   ]
  },
  {
   "cell_type": "markdown",
   "id": "d2f836dc-db7f-48a1-99f7-51702ea20d67",
   "metadata": {},
   "source": [
    "# 데이터 로드"
   ]
  },
  {
   "cell_type": "code",
   "execution_count": 3,
   "id": "ecbdcd99-8e98-4301-ab2c-972a8f9d32d1",
   "metadata": {
    "tags": []
   },
   "outputs": [],
   "source": [
    "train = pd.read_csv('../data/traindf.csv')\n",
    "test = pd.read_csv('../data/testdf.csv')\n",
    "train = train.rename(columns={'Unnamed: 0':'날짜'})\n",
    "test = test.rename(columns={'Unnamed: 0':'날짜'})\n",
    "\n",
    "# train.info(),test.info()"
   ]
  },
  {
   "cell_type": "markdown",
   "id": "ccc8798a-5853-48d0-96c1-e3c165d04085",
   "metadata": {},
   "source": [
    "# optuna\n"
   ]
  },
  {
   "cell_type": "markdown",
   "id": "4014dff8-7ccb-418c-bc57-d0307aad44b0",
   "metadata": {},
   "source": [
    "<pre>\n",
    "튜닝 횟수 : 50\n",
    "-------------------\n",
    "Best param: {'reg_alpha': 7.860977201898474}\n",
    "Best param: {'reg_alpha': 7.860977201898474}\n",
    "-------------------\n",
    "Best score: 0.8714655019174178"
   ]
  },
  {
   "cell_type": "code",
   "execution_count": 4,
   "id": "b4d54d8b-eace-4e81-878f-46c5675707b9",
   "metadata": {
    "tags": []
   },
   "outputs": [],
   "source": [
    "X_train = train.drop(['날짜','등락률','등락여부'],axis=1)\n",
    "y_train = train['등락률']\n",
    "X_test = test.drop(['날짜','등락률','등락여부'],axis=1)\n",
    "y_test= test['등락률']"
   ]
  },
  {
   "cell_type": "code",
   "execution_count": 5,
   "id": "747d6aa9-5fc0-44ec-9c2b-60389226ae36",
   "metadata": {
    "tags": []
   },
   "outputs": [],
   "source": [
    "import optuna"
   ]
  },
  {
   "cell_type": "markdown",
   "id": "e3bce86a-74d9-4a4a-b84a-59a65c2c74cc",
   "metadata": {},
   "source": [
    "class sklearn.linear_model.Ridge(alpha=1.0, *, fit_intercept=True, copy_X=True, max_iter=None, tol=0.0001, solver='auto', positive=False, random_state=None)\n"
   ]
  },
  {
   "cell_type": "code",
   "execution_count": 6,
   "id": "1d21944d-b662-4efd-95aa-5c4d5aac1813",
   "metadata": {
    "tags": []
   },
   "outputs": [],
   "source": [
    "def my_objective_ri(trial, data=X_train, target=y_train):\n",
    "    \n",
    "    #train_x, test_x, train_y, test_y = train_test_split(data, target, test_size=0.2,random_state=42)\n",
    "    param = {\n",
    "        # 'metric': 'rmse', \n",
    "        'alpha': 1,\n",
    "        'max_iter': 100,  #100\n",
    "        'tol' : trial.suggest_float('tol', 1e-2, 10.0),\n",
    "        # 'reg_lambda': trial.suggest_float('reg_lambda', 1e-2, 10.0),  #reg_alpha=0.0\n",
    "        # 'learning_rate': trial.suggest_loguniform('learning_rate', 0.01,0.1),\n",
    "        # 'max_depth': trial.suggest_categorical('max_depth', [1,30]),\n",
    "        #'colsample_bytree': trial.suggest_categorical('colsample_bytree', [0.3,0.4,0.5,0.6,0.7,0.8,0.9, 1.0]),\n",
    "        #'subsample': trial.suggest_categorical('subsample', [0.4,0.5,0.6,0.7,0.8,1.0]),\n",
    "        #'num_leaves' : trial.suggest_int('num_leaves', 1, 1000),\n",
    "        #'min_child_samples': trial.suggest_int('min_child_samples', 1, 300),\n",
    "        #'cat_smooth' : trial.suggest_int('min_data_per_groups', 1, 100)\n",
    "    }\n",
    "    model = Ridge(**param)  \n",
    "    \n",
    "    model.fit(X_train,y_train)\n",
    "              # ,eval_set=[(X_test,y_test)]\n",
    "              # ,early_stopping_rounds=10,verbose=False)\n",
    "    pred = model.predict(X_test)\n",
    "    \n",
    "    rmse = mean_squared_error(y_test, pred,squared=False)\n",
    "    return rmse"
   ]
  },
  {
   "cell_type": "code",
   "execution_count": 11,
   "id": "e9a91537-3c57-4777-8cef-8c43a087c722",
   "metadata": {
    "tags": []
   },
   "outputs": [
    {
     "name": "stderr",
     "output_type": "stream",
     "text": [
      "\u001b[32m[I 2023-06-19 11:26:58,585]\u001b[0m A new study created in memory with name: no-name-aa3ed49f-9e58-49dc-8dce-4824c1054cf3\u001b[0m\n",
      "\u001b[32m[I 2023-06-19 11:26:58,587]\u001b[0m Trial 0 finished with value: 0.8714655019174178 and parameters: {'reg_alpha': 7.727825155835548}. Best is trial 0 with value: 0.8714655019174178.\u001b[0m\n",
      "\u001b[32m[I 2023-06-19 11:26:58,599]\u001b[0m Trial 1 finished with value: 0.8714655019174178 and parameters: {'reg_alpha': 5.049168601638939}. Best is trial 0 with value: 0.8714655019174178.\u001b[0m\n",
      "\u001b[32m[I 2023-06-19 11:26:58,602]\u001b[0m Trial 2 finished with value: 0.8714655019174178 and parameters: {'reg_alpha': 8.00547322049386}. Best is trial 0 with value: 0.8714655019174178.\u001b[0m\n",
      "\u001b[32m[I 2023-06-19 11:26:58,611]\u001b[0m Trial 3 finished with value: 0.8714655019174178 and parameters: {'reg_alpha': 5.281214856835448}. Best is trial 0 with value: 0.8714655019174178.\u001b[0m\n",
      "\u001b[32m[I 2023-06-19 11:26:58,618]\u001b[0m Trial 4 finished with value: 0.8714655019174178 and parameters: {'reg_alpha': 2.941933464120425}. Best is trial 0 with value: 0.8714655019174178.\u001b[0m\n",
      "\u001b[32m[I 2023-06-19 11:26:58,623]\u001b[0m Trial 5 finished with value: 0.8714655019174178 and parameters: {'reg_alpha': 2.8810147231742302}. Best is trial 0 with value: 0.8714655019174178.\u001b[0m\n",
      "\u001b[32m[I 2023-06-19 11:26:58,629]\u001b[0m Trial 6 finished with value: 0.8714655019174178 and parameters: {'reg_alpha': 4.880084172218671}. Best is trial 0 with value: 0.8714655019174178.\u001b[0m\n",
      "\u001b[32m[I 2023-06-19 11:26:58,629]\u001b[0m Trial 7 finished with value: 0.8714655019174178 and parameters: {'reg_alpha': 9.127506731443564}. Best is trial 0 with value: 0.8714655019174178.\u001b[0m\n",
      "\u001b[32m[I 2023-06-19 11:26:58,644]\u001b[0m Trial 8 finished with value: 0.8714655019174178 and parameters: {'reg_alpha': 7.725638841356822}. Best is trial 0 with value: 0.8714655019174178.\u001b[0m\n",
      "\u001b[32m[I 2023-06-19 11:26:58,644]\u001b[0m Trial 9 finished with value: 0.8714655019174178 and parameters: {'reg_alpha': 8.866900285854355}. Best is trial 0 with value: 0.8714655019174178.\u001b[0m\n",
      "\u001b[32m[I 2023-06-19 11:26:58,660]\u001b[0m Trial 10 finished with value: 0.8714655019174178 and parameters: {'reg_alpha': 9.758866707178697}. Best is trial 0 with value: 0.8714655019174178.\u001b[0m\n",
      "\u001b[32m[I 2023-06-19 11:26:58,662]\u001b[0m Trial 11 finished with value: 0.8714655019174178 and parameters: {'reg_alpha': 6.2888320416753185}. Best is trial 0 with value: 0.8714655019174178.\u001b[0m\n",
      "\u001b[32m[I 2023-06-19 11:26:58,680]\u001b[0m Trial 12 finished with value: 0.8714655019174178 and parameters: {'reg_alpha': 0.19608317201602254}. Best is trial 0 with value: 0.8714655019174178.\u001b[0m\n",
      "\u001b[32m[I 2023-06-19 11:26:58,683]\u001b[0m Trial 13 finished with value: 0.8714655019174178 and parameters: {'reg_alpha': 6.843715520456767}. Best is trial 0 with value: 0.8714655019174178.\u001b[0m\n",
      "\u001b[32m[I 2023-06-19 11:26:58,694]\u001b[0m Trial 14 finished with value: 0.8714655019174178 and parameters: {'reg_alpha': 6.923439681598822}. Best is trial 0 with value: 0.8714655019174178.\u001b[0m\n",
      "\u001b[32m[I 2023-06-19 11:26:58,694]\u001b[0m Trial 15 finished with value: 0.8714655019174178 and parameters: {'reg_alpha': 9.792713454443872}. Best is trial 0 with value: 0.8714655019174178.\u001b[0m\n",
      "\u001b[32m[I 2023-06-19 11:26:58,711]\u001b[0m Trial 16 finished with value: 0.8714655019174178 and parameters: {'reg_alpha': 5.481608840612205}. Best is trial 0 with value: 0.8714655019174178.\u001b[0m\n",
      "\u001b[32m[I 2023-06-19 11:26:58,728]\u001b[0m Trial 17 finished with value: 0.8714655019174178 and parameters: {'reg_alpha': 8.236882093239785}. Best is trial 0 with value: 0.8714655019174178.\u001b[0m\n",
      "\u001b[32m[I 2023-06-19 11:26:58,728]\u001b[0m Trial 18 finished with value: 0.8714655019174178 and parameters: {'reg_alpha': 7.706249664566424}. Best is trial 0 with value: 0.8714655019174178.\u001b[0m\n",
      "\u001b[32m[I 2023-06-19 11:26:58,746]\u001b[0m Trial 19 finished with value: 0.8714655019174178 and parameters: {'reg_alpha': 4.352417735146555}. Best is trial 0 with value: 0.8714655019174178.\u001b[0m\n",
      "\u001b[32m[I 2023-06-19 11:26:58,746]\u001b[0m Trial 20 finished with value: 0.8714655019174178 and parameters: {'reg_alpha': 6.244072582395571}. Best is trial 0 with value: 0.8714655019174178.\u001b[0m\n",
      "\u001b[32m[I 2023-06-19 11:26:58,761]\u001b[0m Trial 21 finished with value: 0.8714655019174178 and parameters: {'reg_alpha': 8.408716431246452}. Best is trial 0 with value: 0.8714655019174178.\u001b[0m\n",
      "\u001b[32m[I 2023-06-19 11:26:58,761]\u001b[0m Trial 22 finished with value: 0.8714655019174178 and parameters: {'reg_alpha': 7.530399691853013}. Best is trial 0 with value: 0.8714655019174178.\u001b[0m\n",
      "\u001b[32m[I 2023-06-19 11:26:58,778]\u001b[0m Trial 23 finished with value: 0.8714655019174178 and parameters: {'reg_alpha': 8.992880889244491}. Best is trial 0 with value: 0.8714655019174178.\u001b[0m\n",
      "\u001b[32m[I 2023-06-19 11:26:58,793]\u001b[0m Trial 24 finished with value: 0.8714655019174178 and parameters: {'reg_alpha': 7.1145642452557265}. Best is trial 0 with value: 0.8714655019174178.\u001b[0m\n",
      "\u001b[32m[I 2023-06-19 11:26:58,793]\u001b[0m Trial 25 finished with value: 0.8714655019174178 and parameters: {'reg_alpha': 8.210156875167767}. Best is trial 0 with value: 0.8714655019174178.\u001b[0m\n",
      "\u001b[32m[I 2023-06-19 11:26:58,814]\u001b[0m Trial 26 finished with value: 0.8714655019174178 and parameters: {'reg_alpha': 6.306438371165673}. Best is trial 0 with value: 0.8714655019174178.\u001b[0m\n",
      "\u001b[32m[I 2023-06-19 11:26:58,822]\u001b[0m Trial 27 finished with value: 0.8714655019174178 and parameters: {'reg_alpha': 9.967454297044133}. Best is trial 0 with value: 0.8714655019174178.\u001b[0m\n",
      "\u001b[32m[I 2023-06-19 11:26:58,831]\u001b[0m Trial 28 finished with value: 0.8714655019174178 and parameters: {'reg_alpha': 7.583866635504176}. Best is trial 0 with value: 0.8714655019174178.\u001b[0m\n",
      "\u001b[32m[I 2023-06-19 11:26:58,840]\u001b[0m Trial 29 finished with value: 0.8714655019174178 and parameters: {'reg_alpha': 5.572420402567779}. Best is trial 0 with value: 0.8714655019174178.\u001b[0m\n",
      "\u001b[32m[I 2023-06-19 11:26:58,850]\u001b[0m Trial 30 finished with value: 0.8714655019174178 and parameters: {'reg_alpha': 8.49693099999024}. Best is trial 0 with value: 0.8714655019174178.\u001b[0m\n",
      "\u001b[32m[I 2023-06-19 11:26:58,859]\u001b[0m Trial 31 finished with value: 0.8714655019174178 and parameters: {'reg_alpha': 4.0507165142388795}. Best is trial 0 with value: 0.8714655019174178.\u001b[0m\n",
      "\u001b[32m[I 2023-06-19 11:26:58,868]\u001b[0m Trial 32 finished with value: 0.8714655019174178 and parameters: {'reg_alpha': 5.774964835805808}. Best is trial 0 with value: 0.8714655019174178.\u001b[0m\n",
      "\u001b[32m[I 2023-06-19 11:26:58,877]\u001b[0m Trial 33 finished with value: 0.8714655019174178 and parameters: {'reg_alpha': 4.824172475601809}. Best is trial 0 with value: 0.8714655019174178.\u001b[0m\n",
      "\u001b[32m[I 2023-06-19 11:26:58,886]\u001b[0m Trial 34 finished with value: 0.8714655019174178 and parameters: {'reg_alpha': 5.096259670996594}. Best is trial 0 with value: 0.8714655019174178.\u001b[0m\n",
      "\u001b[32m[I 2023-06-19 11:26:58,895]\u001b[0m Trial 35 finished with value: 0.8714655019174178 and parameters: {'reg_alpha': 3.579150035966892}. Best is trial 0 with value: 0.8714655019174178.\u001b[0m\n",
      "\u001b[32m[I 2023-06-19 11:26:58,904]\u001b[0m Trial 36 finished with value: 0.8714655019174178 and parameters: {'reg_alpha': 2.886247754774893}. Best is trial 0 with value: 0.8714655019174178.\u001b[0m\n",
      "\u001b[32m[I 2023-06-19 11:26:58,912]\u001b[0m Trial 37 finished with value: 0.8714655019174178 and parameters: {'reg_alpha': 6.681197492519225}. Best is trial 0 with value: 0.8714655019174178.\u001b[0m\n",
      "\u001b[32m[I 2023-06-19 11:26:58,912]\u001b[0m Trial 38 finished with value: 0.8714655019174178 and parameters: {'reg_alpha': 5.968332862962628}. Best is trial 0 with value: 0.8714655019174178.\u001b[0m\n",
      "\u001b[32m[I 2023-06-19 11:26:58,931]\u001b[0m Trial 39 finished with value: 0.8714655019174178 and parameters: {'reg_alpha': 5.179229814862468}. Best is trial 0 with value: 0.8714655019174178.\u001b[0m\n",
      "\u001b[32m[I 2023-06-19 11:26:58,939]\u001b[0m Trial 40 finished with value: 0.8714655019174178 and parameters: {'reg_alpha': 7.235504718696049}. Best is trial 0 with value: 0.8714655019174178.\u001b[0m\n",
      "\u001b[32m[I 2023-06-19 11:26:58,948]\u001b[0m Trial 41 finished with value: 0.8714655019174178 and parameters: {'reg_alpha': 1.8654261499981373}. Best is trial 0 with value: 0.8714655019174178.\u001b[0m\n",
      "\u001b[32m[I 2023-06-19 11:26:58,957]\u001b[0m Trial 42 finished with value: 0.8714655019174178 and parameters: {'reg_alpha': 4.656898085256727}. Best is trial 0 with value: 0.8714655019174178.\u001b[0m\n",
      "\u001b[32m[I 2023-06-19 11:26:58,964]\u001b[0m Trial 43 finished with value: 0.8714655019174178 and parameters: {'reg_alpha': 6.525493861796992}. Best is trial 0 with value: 0.8714655019174178.\u001b[0m\n",
      "\u001b[32m[I 2023-06-19 11:26:58,970]\u001b[0m Trial 44 finished with value: 0.8714655019174178 and parameters: {'reg_alpha': 5.946691602545199}. Best is trial 0 with value: 0.8714655019174178.\u001b[0m\n",
      "\u001b[32m[I 2023-06-19 11:26:58,983]\u001b[0m Trial 45 finished with value: 0.8714655019174178 and parameters: {'reg_alpha': 9.325574948998307}. Best is trial 0 with value: 0.8714655019174178.\u001b[0m\n",
      "\u001b[32m[I 2023-06-19 11:26:58,991]\u001b[0m Trial 46 finished with value: 0.8714655019174178 and parameters: {'reg_alpha': 5.423100410424118}. Best is trial 0 with value: 0.8714655019174178.\u001b[0m\n",
      "\u001b[32m[I 2023-06-19 11:26:59,000]\u001b[0m Trial 47 finished with value: 0.8714655019174178 and parameters: {'reg_alpha': 7.95921815422914}. Best is trial 0 with value: 0.8714655019174178.\u001b[0m\n",
      "\u001b[32m[I 2023-06-19 11:26:59,009]\u001b[0m Trial 48 finished with value: 0.8714655019174178 and parameters: {'reg_alpha': 9.324547941920292}. Best is trial 0 with value: 0.8714655019174178.\u001b[0m\n",
      "\u001b[32m[I 2023-06-19 11:26:59,017]\u001b[0m Trial 49 finished with value: 0.8714655019174178 and parameters: {'reg_alpha': 7.134962373492027}. Best is trial 0 with value: 0.8714655019174178.\u001b[0m\n"
     ]
    }
   ],
   "source": [
    "\n",
    "study = optuna.create_study(direction='minimize')\n",
    "\n",
    "\n",
    "# y_train = np.expm1(y_train_log)\n",
    "# y_test  = np.expm1(y_test_log)\n",
    "\n",
    "\n",
    "# my_objective_LGBM(trial):\n",
    "# study.optimize(my_objective_LGBM, n_trials=50)\n",
    "\n",
    "# def my_objective_LGBM(trial, data=X_train, target=y_train):\n",
    "study.optimize(lambda trial : my_objective_ri(trial, y_train,y_test), n_trials=50)"
   ]
  },
  {
   "cell_type": "code",
   "execution_count": 12,
   "id": "b2300130-77ed-40f3-bdf7-a8fb8bb1c4f7",
   "metadata": {
    "tags": []
   },
   "outputs": [
    {
     "name": "stdout",
     "output_type": "stream",
     "text": [
      "튜닝 횟수 : 50\n",
      "-------------------\n",
      "Best param: {'reg_alpha': 7.727825155835548}\n",
      "Best param: {'reg_alpha': 7.727825155835548}\n",
      "-------------------\n",
      "Best score: 0.8714655019174178\n",
      "-------------------\n",
      "study.trials 전체 정보 : [FrozenTrial(number=0, state=TrialState.COMPLETE, values=[0.8714655019174178], datetime_start=datetime.datetime(2023, 6, 19, 11, 26, 58, 587481), datetime_complete=datetime.datetime(2023, 6, 19, 11, 26, 58, 587481), params={'reg_alpha': 7.727825155835548}, user_attrs={}, system_attrs={}, intermediate_values={}, distributions={'reg_alpha': FloatDistribution(high=10.0, log=False, low=0.01, step=None)}, trial_id=0, value=None), FrozenTrial(number=1, state=TrialState.COMPLETE, values=[0.8714655019174178], datetime_start=datetime.datetime(2023, 6, 19, 11, 26, 58, 594958), datetime_complete=datetime.datetime(2023, 6, 19, 11, 26, 58, 599945), params={'reg_alpha': 5.049168601638939}, user_attrs={}, system_attrs={}, intermediate_values={}, distributions={'reg_alpha': FloatDistribution(high=10.0, log=False, low=0.01, step=None)}, trial_id=1, value=None), FrozenTrial(number=2, state=TrialState.COMPLETE, values=[0.8714655019174178], datetime_start=datetime.datetime(2023, 6, 19, 11, 26, 58, 599945), datetime_complete=datetime.datetime(2023, 6, 19, 11, 26, 58, 602023), params={'reg_alpha': 8.00547322049386}, user_attrs={}, system_attrs={}, intermediate_values={}, distributions={'reg_alpha': FloatDistribution(high=10.0, log=False, low=0.01, step=None)}, trial_id=2, value=None), FrozenTrial(number=3, state=TrialState.COMPLETE, values=[0.8714655019174178], datetime_start=datetime.datetime(2023, 6, 19, 11, 26, 58, 602023), datetime_complete=datetime.datetime(2023, 6, 19, 11, 26, 58, 611712), params={'reg_alpha': 5.281214856835448}, user_attrs={}, system_attrs={}, intermediate_values={}, distributions={'reg_alpha': FloatDistribution(high=10.0, log=False, low=0.01, step=None)}, trial_id=3, value=None), FrozenTrial(number=4, state=TrialState.COMPLETE, values=[0.8714655019174178], datetime_start=datetime.datetime(2023, 6, 19, 11, 26, 58, 612691), datetime_complete=datetime.datetime(2023, 6, 19, 11, 26, 58, 617682), params={'reg_alpha': 2.941933464120425}, user_attrs={}, system_attrs={}, intermediate_values={}, distributions={'reg_alpha': FloatDistribution(high=10.0, log=False, low=0.01, step=None)}, trial_id=4, value=None), FrozenTrial(number=5, state=TrialState.COMPLETE, values=[0.8714655019174178], datetime_start=datetime.datetime(2023, 6, 19, 11, 26, 58, 619672), datetime_complete=datetime.datetime(2023, 6, 19, 11, 26, 58, 623662), params={'reg_alpha': 2.8810147231742302}, user_attrs={}, system_attrs={}, intermediate_values={}, distributions={'reg_alpha': FloatDistribution(high=10.0, log=False, low=0.01, step=None)}, trial_id=5, value=None), FrozenTrial(number=6, state=TrialState.COMPLETE, values=[0.8714655019174178], datetime_start=datetime.datetime(2023, 6, 19, 11, 26, 58, 625656), datetime_complete=datetime.datetime(2023, 6, 19, 11, 26, 58, 629035), params={'reg_alpha': 4.880084172218671}, user_attrs={}, system_attrs={}, intermediate_values={}, distributions={'reg_alpha': FloatDistribution(high=10.0, log=False, low=0.01, step=None)}, trial_id=6, value=None), FrozenTrial(number=7, state=TrialState.COMPLETE, values=[0.8714655019174178], datetime_start=datetime.datetime(2023, 6, 19, 11, 26, 58, 629035), datetime_complete=datetime.datetime(2023, 6, 19, 11, 26, 58, 629035), params={'reg_alpha': 9.127506731443564}, user_attrs={}, system_attrs={}, intermediate_values={}, distributions={'reg_alpha': FloatDistribution(high=10.0, log=False, low=0.01, step=None)}, trial_id=7, value=None), FrozenTrial(number=8, state=TrialState.COMPLETE, values=[0.8714655019174178], datetime_start=datetime.datetime(2023, 6, 19, 11, 26, 58, 629035), datetime_complete=datetime.datetime(2023, 6, 19, 11, 26, 58, 644814), params={'reg_alpha': 7.725638841356822}, user_attrs={}, system_attrs={}, intermediate_values={}, distributions={'reg_alpha': FloatDistribution(high=10.0, log=False, low=0.01, step=None)}, trial_id=8, value=None), FrozenTrial(number=9, state=TrialState.COMPLETE, values=[0.8714655019174178], datetime_start=datetime.datetime(2023, 6, 19, 11, 26, 58, 644814), datetime_complete=datetime.datetime(2023, 6, 19, 11, 26, 58, 644814), params={'reg_alpha': 8.866900285854355}, user_attrs={}, system_attrs={}, intermediate_values={}, distributions={'reg_alpha': FloatDistribution(high=10.0, log=False, low=0.01, step=None)}, trial_id=9, value=None), FrozenTrial(number=10, state=TrialState.COMPLETE, values=[0.8714655019174178], datetime_start=datetime.datetime(2023, 6, 19, 11, 26, 58, 644814), datetime_complete=datetime.datetime(2023, 6, 19, 11, 26, 58, 660722), params={'reg_alpha': 9.758866707178697}, user_attrs={}, system_attrs={}, intermediate_values={}, distributions={'reg_alpha': FloatDistribution(high=10.0, log=False, low=0.01, step=None)}, trial_id=10, value=None), FrozenTrial(number=11, state=TrialState.COMPLETE, values=[0.8714655019174178], datetime_start=datetime.datetime(2023, 6, 19, 11, 26, 58, 662881), datetime_complete=datetime.datetime(2023, 6, 19, 11, 26, 58, 662881), params={'reg_alpha': 6.2888320416753185}, user_attrs={}, system_attrs={}, intermediate_values={}, distributions={'reg_alpha': FloatDistribution(high=10.0, log=False, low=0.01, step=None)}, trial_id=11, value=None), FrozenTrial(number=12, state=TrialState.COMPLETE, values=[0.8714655019174178], datetime_start=datetime.datetime(2023, 6, 19, 11, 26, 58, 662881), datetime_complete=datetime.datetime(2023, 6, 19, 11, 26, 58, 680392), params={'reg_alpha': 0.19608317201602254}, user_attrs={}, system_attrs={}, intermediate_values={}, distributions={'reg_alpha': FloatDistribution(high=10.0, log=False, low=0.01, step=None)}, trial_id=12, value=None), FrozenTrial(number=13, state=TrialState.COMPLETE, values=[0.8714655019174178], datetime_start=datetime.datetime(2023, 6, 19, 11, 26, 58, 682387), datetime_complete=datetime.datetime(2023, 6, 19, 11, 26, 58, 683891), params={'reg_alpha': 6.843715520456767}, user_attrs={}, system_attrs={}, intermediate_values={}, distributions={'reg_alpha': FloatDistribution(high=10.0, log=False, low=0.01, step=None)}, trial_id=13, value=None), FrozenTrial(number=14, state=TrialState.COMPLETE, values=[0.8714655019174178], datetime_start=datetime.datetime(2023, 6, 19, 11, 26, 58, 683891), datetime_complete=datetime.datetime(2023, 6, 19, 11, 26, 58, 694595), params={'reg_alpha': 6.923439681598822}, user_attrs={}, system_attrs={}, intermediate_values={}, distributions={'reg_alpha': FloatDistribution(high=10.0, log=False, low=0.01, step=None)}, trial_id=14, value=None), FrozenTrial(number=15, state=TrialState.COMPLETE, values=[0.8714655019174178], datetime_start=datetime.datetime(2023, 6, 19, 11, 26, 58, 694595), datetime_complete=datetime.datetime(2023, 6, 19, 11, 26, 58, 694595), params={'reg_alpha': 9.792713454443872}, user_attrs={}, system_attrs={}, intermediate_values={}, distributions={'reg_alpha': FloatDistribution(high=10.0, log=False, low=0.01, step=None)}, trial_id=15, value=None), FrozenTrial(number=16, state=TrialState.COMPLETE, values=[0.8714655019174178], datetime_start=datetime.datetime(2023, 6, 19, 11, 26, 58, 711530), datetime_complete=datetime.datetime(2023, 6, 19, 11, 26, 58, 711530), params={'reg_alpha': 5.481608840612205}, user_attrs={}, system_attrs={}, intermediate_values={}, distributions={'reg_alpha': FloatDistribution(high=10.0, log=False, low=0.01, step=None)}, trial_id=16, value=None), FrozenTrial(number=17, state=TrialState.COMPLETE, values=[0.8714655019174178], datetime_start=datetime.datetime(2023, 6, 19, 11, 26, 58, 711530), datetime_complete=datetime.datetime(2023, 6, 19, 11, 26, 58, 728018), params={'reg_alpha': 8.236882093239785}, user_attrs={}, system_attrs={}, intermediate_values={}, distributions={'reg_alpha': FloatDistribution(high=10.0, log=False, low=0.01, step=None)}, trial_id=17, value=None), FrozenTrial(number=18, state=TrialState.COMPLETE, values=[0.8714655019174178], datetime_start=datetime.datetime(2023, 6, 19, 11, 26, 58, 728018), datetime_complete=datetime.datetime(2023, 6, 19, 11, 26, 58, 728018), params={'reg_alpha': 7.706249664566424}, user_attrs={}, system_attrs={}, intermediate_values={}, distributions={'reg_alpha': FloatDistribution(high=10.0, log=False, low=0.01, step=None)}, trial_id=18, value=None), FrozenTrial(number=19, state=TrialState.COMPLETE, values=[0.8714655019174178], datetime_start=datetime.datetime(2023, 6, 19, 11, 26, 58, 728018), datetime_complete=datetime.datetime(2023, 6, 19, 11, 26, 58, 746290), params={'reg_alpha': 4.352417735146555}, user_attrs={}, system_attrs={}, intermediate_values={}, distributions={'reg_alpha': FloatDistribution(high=10.0, log=False, low=0.01, step=None)}, trial_id=19, value=None), FrozenTrial(number=20, state=TrialState.COMPLETE, values=[0.8714655019174178], datetime_start=datetime.datetime(2023, 6, 19, 11, 26, 58, 746290), datetime_complete=datetime.datetime(2023, 6, 19, 11, 26, 58, 746290), params={'reg_alpha': 6.244072582395571}, user_attrs={}, system_attrs={}, intermediate_values={}, distributions={'reg_alpha': FloatDistribution(high=10.0, log=False, low=0.01, step=None)}, trial_id=20, value=None), FrozenTrial(number=21, state=TrialState.COMPLETE, values=[0.8714655019174178], datetime_start=datetime.datetime(2023, 6, 19, 11, 26, 58, 746290), datetime_complete=datetime.datetime(2023, 6, 19, 11, 26, 58, 761319), params={'reg_alpha': 8.408716431246452}, user_attrs={}, system_attrs={}, intermediate_values={}, distributions={'reg_alpha': FloatDistribution(high=10.0, log=False, low=0.01, step=None)}, trial_id=21, value=None), FrozenTrial(number=22, state=TrialState.COMPLETE, values=[0.8714655019174178], datetime_start=datetime.datetime(2023, 6, 19, 11, 26, 58, 761319), datetime_complete=datetime.datetime(2023, 6, 19, 11, 26, 58, 761319), params={'reg_alpha': 7.530399691853013}, user_attrs={}, system_attrs={}, intermediate_values={}, distributions={'reg_alpha': FloatDistribution(high=10.0, log=False, low=0.01, step=None)}, trial_id=22, value=None), FrozenTrial(number=23, state=TrialState.COMPLETE, values=[0.8714655019174178], datetime_start=datetime.datetime(2023, 6, 19, 11, 26, 58, 778211), datetime_complete=datetime.datetime(2023, 6, 19, 11, 26, 58, 778211), params={'reg_alpha': 8.992880889244491}, user_attrs={}, system_attrs={}, intermediate_values={}, distributions={'reg_alpha': FloatDistribution(high=10.0, log=False, low=0.01, step=None)}, trial_id=23, value=None), FrozenTrial(number=24, state=TrialState.COMPLETE, values=[0.8714655019174178], datetime_start=datetime.datetime(2023, 6, 19, 11, 26, 58, 778211), datetime_complete=datetime.datetime(2023, 6, 19, 11, 26, 58, 793833), params={'reg_alpha': 7.1145642452557265}, user_attrs={}, system_attrs={}, intermediate_values={}, distributions={'reg_alpha': FloatDistribution(high=10.0, log=False, low=0.01, step=None)}, trial_id=24, value=None), FrozenTrial(number=25, state=TrialState.COMPLETE, values=[0.8714655019174178], datetime_start=datetime.datetime(2023, 6, 19, 11, 26, 58, 793833), datetime_complete=datetime.datetime(2023, 6, 19, 11, 26, 58, 793833), params={'reg_alpha': 8.210156875167767}, user_attrs={}, system_attrs={}, intermediate_values={}, distributions={'reg_alpha': FloatDistribution(high=10.0, log=False, low=0.01, step=None)}, trial_id=25, value=None), FrozenTrial(number=26, state=TrialState.COMPLETE, values=[0.8714655019174178], datetime_start=datetime.datetime(2023, 6, 19, 11, 26, 58, 793833), datetime_complete=datetime.datetime(2023, 6, 19, 11, 26, 58, 813864), params={'reg_alpha': 6.306438371165673}, user_attrs={}, system_attrs={}, intermediate_values={}, distributions={'reg_alpha': FloatDistribution(high=10.0, log=False, low=0.01, step=None)}, trial_id=26, value=None), FrozenTrial(number=27, state=TrialState.COMPLETE, values=[0.8714655019174178], datetime_start=datetime.datetime(2023, 6, 19, 11, 26, 58, 815858), datetime_complete=datetime.datetime(2023, 6, 19, 11, 26, 58, 822839), params={'reg_alpha': 9.967454297044133}, user_attrs={}, system_attrs={}, intermediate_values={}, distributions={'reg_alpha': FloatDistribution(high=10.0, log=False, low=0.01, step=None)}, trial_id=27, value=None), FrozenTrial(number=28, state=TrialState.COMPLETE, values=[0.8714655019174178], datetime_start=datetime.datetime(2023, 6, 19, 11, 26, 58, 824835), datetime_complete=datetime.datetime(2023, 6, 19, 11, 26, 58, 831815), params={'reg_alpha': 7.583866635504176}, user_attrs={}, system_attrs={}, intermediate_values={}, distributions={'reg_alpha': FloatDistribution(high=10.0, log=False, low=0.01, step=None)}, trial_id=28, value=None), FrozenTrial(number=29, state=TrialState.COMPLETE, values=[0.8714655019174178], datetime_start=datetime.datetime(2023, 6, 19, 11, 26, 58, 832813), datetime_complete=datetime.datetime(2023, 6, 19, 11, 26, 58, 839794), params={'reg_alpha': 5.572420402567779}, user_attrs={}, system_attrs={}, intermediate_values={}, distributions={'reg_alpha': FloatDistribution(high=10.0, log=False, low=0.01, step=None)}, trial_id=29, value=None), FrozenTrial(number=30, state=TrialState.COMPLETE, values=[0.8714655019174178], datetime_start=datetime.datetime(2023, 6, 19, 11, 26, 58, 841789), datetime_complete=datetime.datetime(2023, 6, 19, 11, 26, 58, 850295), params={'reg_alpha': 8.49693099999024}, user_attrs={}, system_attrs={}, intermediate_values={}, distributions={'reg_alpha': FloatDistribution(high=10.0, log=False, low=0.01, step=None)}, trial_id=30, value=None), FrozenTrial(number=31, state=TrialState.COMPLETE, values=[0.8714655019174178], datetime_start=datetime.datetime(2023, 6, 19, 11, 26, 58, 851292), datetime_complete=datetime.datetime(2023, 6, 19, 11, 26, 58, 859271), params={'reg_alpha': 4.0507165142388795}, user_attrs={}, system_attrs={}, intermediate_values={}, distributions={'reg_alpha': FloatDistribution(high=10.0, log=False, low=0.01, step=None)}, trial_id=31, value=None), FrozenTrial(number=32, state=TrialState.COMPLETE, values=[0.8714655019174178], datetime_start=datetime.datetime(2023, 6, 19, 11, 26, 58, 860268), datetime_complete=datetime.datetime(2023, 6, 19, 11, 26, 58, 868248), params={'reg_alpha': 5.774964835805808}, user_attrs={}, system_attrs={}, intermediate_values={}, distributions={'reg_alpha': FloatDistribution(high=10.0, log=False, low=0.01, step=None)}, trial_id=32, value=None), FrozenTrial(number=33, state=TrialState.COMPLETE, values=[0.8714655019174178], datetime_start=datetime.datetime(2023, 6, 19, 11, 26, 58, 869244), datetime_complete=datetime.datetime(2023, 6, 19, 11, 26, 58, 877224), params={'reg_alpha': 4.824172475601809}, user_attrs={}, system_attrs={}, intermediate_values={}, distributions={'reg_alpha': FloatDistribution(high=10.0, log=False, low=0.01, step=None)}, trial_id=33, value=None), FrozenTrial(number=34, state=TrialState.COMPLETE, values=[0.8714655019174178], datetime_start=datetime.datetime(2023, 6, 19, 11, 26, 58, 878220), datetime_complete=datetime.datetime(2023, 6, 19, 11, 26, 58, 886199), params={'reg_alpha': 5.096259670996594}, user_attrs={}, system_attrs={}, intermediate_values={}, distributions={'reg_alpha': FloatDistribution(high=10.0, log=False, low=0.01, step=None)}, trial_id=34, value=None), FrozenTrial(number=35, state=TrialState.COMPLETE, values=[0.8714655019174178], datetime_start=datetime.datetime(2023, 6, 19, 11, 26, 58, 887196), datetime_complete=datetime.datetime(2023, 6, 19, 11, 26, 58, 895179), params={'reg_alpha': 3.579150035966892}, user_attrs={}, system_attrs={}, intermediate_values={}, distributions={'reg_alpha': FloatDistribution(high=10.0, log=False, low=0.01, step=None)}, trial_id=35, value=None), FrozenTrial(number=36, state=TrialState.COMPLETE, values=[0.8714655019174178], datetime_start=datetime.datetime(2023, 6, 19, 11, 26, 58, 896172), datetime_complete=datetime.datetime(2023, 6, 19, 11, 26, 58, 904151), params={'reg_alpha': 2.886247754774893}, user_attrs={}, system_attrs={}, intermediate_values={}, distributions={'reg_alpha': FloatDistribution(high=10.0, log=False, low=0.01, step=None)}, trial_id=36, value=None), FrozenTrial(number=37, state=TrialState.COMPLETE, values=[0.8714655019174178], datetime_start=datetime.datetime(2023, 6, 19, 11, 26, 58, 905148), datetime_complete=datetime.datetime(2023, 6, 19, 11, 26, 58, 912820), params={'reg_alpha': 6.681197492519225}, user_attrs={}, system_attrs={}, intermediate_values={}, distributions={'reg_alpha': FloatDistribution(high=10.0, log=False, low=0.01, step=None)}, trial_id=37, value=None), FrozenTrial(number=38, state=TrialState.COMPLETE, values=[0.8714655019174178], datetime_start=datetime.datetime(2023, 6, 19, 11, 26, 58, 912820), datetime_complete=datetime.datetime(2023, 6, 19, 11, 26, 58, 912820), params={'reg_alpha': 5.968332862962628}, user_attrs={}, system_attrs={}, intermediate_values={}, distributions={'reg_alpha': FloatDistribution(high=10.0, log=False, low=0.01, step=None)}, trial_id=38, value=None), FrozenTrial(number=39, state=TrialState.COMPLETE, values=[0.8714655019174178], datetime_start=datetime.datetime(2023, 6, 19, 11, 26, 58, 912820), datetime_complete=datetime.datetime(2023, 6, 19, 11, 26, 58, 931088), params={'reg_alpha': 5.179229814862468}, user_attrs={}, system_attrs={}, intermediate_values={}, distributions={'reg_alpha': FloatDistribution(high=10.0, log=False, low=0.01, step=None)}, trial_id=39, value=None), FrozenTrial(number=40, state=TrialState.COMPLETE, values=[0.8714655019174178], datetime_start=datetime.datetime(2023, 6, 19, 11, 26, 58, 932086), datetime_complete=datetime.datetime(2023, 6, 19, 11, 26, 58, 939067), params={'reg_alpha': 7.235504718696049}, user_attrs={}, system_attrs={}, intermediate_values={}, distributions={'reg_alpha': FloatDistribution(high=10.0, log=False, low=0.01, step=None)}, trial_id=40, value=None), FrozenTrial(number=41, state=TrialState.COMPLETE, values=[0.8714655019174178], datetime_start=datetime.datetime(2023, 6, 19, 11, 26, 58, 940064), datetime_complete=datetime.datetime(2023, 6, 19, 11, 26, 58, 948042), params={'reg_alpha': 1.8654261499981373}, user_attrs={}, system_attrs={}, intermediate_values={}, distributions={'reg_alpha': FloatDistribution(high=10.0, log=False, low=0.01, step=None)}, trial_id=41, value=None), FrozenTrial(number=42, state=TrialState.COMPLETE, values=[0.8714655019174178], datetime_start=datetime.datetime(2023, 6, 19, 11, 26, 58, 949039), datetime_complete=datetime.datetime(2023, 6, 19, 11, 26, 58, 956021), params={'reg_alpha': 4.656898085256727}, user_attrs={}, system_attrs={}, intermediate_values={}, distributions={'reg_alpha': FloatDistribution(high=10.0, log=False, low=0.01, step=None)}, trial_id=42, value=None), FrozenTrial(number=43, state=TrialState.COMPLETE, values=[0.8714655019174178], datetime_start=datetime.datetime(2023, 6, 19, 11, 26, 58, 958016), datetime_complete=datetime.datetime(2023, 6, 19, 11, 26, 58, 964997), params={'reg_alpha': 6.525493861796992}, user_attrs={}, system_attrs={}, intermediate_values={}, distributions={'reg_alpha': FloatDistribution(high=10.0, log=False, low=0.01, step=None)}, trial_id=43, value=None), FrozenTrial(number=44, state=TrialState.COMPLETE, values=[0.8714655019174178], datetime_start=datetime.datetime(2023, 6, 19, 11, 26, 58, 965994), datetime_complete=datetime.datetime(2023, 6, 19, 11, 26, 58, 970000), params={'reg_alpha': 5.946691602545199}, user_attrs={}, system_attrs={}, intermediate_values={}, distributions={'reg_alpha': FloatDistribution(high=10.0, log=False, low=0.01, step=None)}, trial_id=44, value=None), FrozenTrial(number=45, state=TrialState.COMPLETE, values=[0.8714655019174178], datetime_start=datetime.datetime(2023, 6, 19, 11, 26, 58, 970000), datetime_complete=datetime.datetime(2023, 6, 19, 11, 26, 58, 982666), params={'reg_alpha': 9.325574948998307}, user_attrs={}, system_attrs={}, intermediate_values={}, distributions={'reg_alpha': FloatDistribution(high=10.0, log=False, low=0.01, step=None)}, trial_id=45, value=None), FrozenTrial(number=46, state=TrialState.COMPLETE, values=[0.8714655019174178], datetime_start=datetime.datetime(2023, 6, 19, 11, 26, 58, 984661), datetime_complete=datetime.datetime(2023, 6, 19, 11, 26, 58, 991642), params={'reg_alpha': 5.423100410424118}, user_attrs={}, system_attrs={}, intermediate_values={}, distributions={'reg_alpha': FloatDistribution(high=10.0, log=False, low=0.01, step=None)}, trial_id=46, value=None), FrozenTrial(number=47, state=TrialState.COMPLETE, values=[0.8714655019174178], datetime_start=datetime.datetime(2023, 6, 19, 11, 26, 58, 992640), datetime_complete=datetime.datetime(2023, 6, 19, 11, 26, 59, 618), params={'reg_alpha': 7.95921815422914}, user_attrs={}, system_attrs={}, intermediate_values={}, distributions={'reg_alpha': FloatDistribution(high=10.0, log=False, low=0.01, step=None)}, trial_id=47, value=None), FrozenTrial(number=48, state=TrialState.COMPLETE, values=[0.8714655019174178], datetime_start=datetime.datetime(2023, 6, 19, 11, 26, 59, 1616), datetime_complete=datetime.datetime(2023, 6, 19, 11, 26, 59, 9595), params={'reg_alpha': 9.324547941920292}, user_attrs={}, system_attrs={}, intermediate_values={}, distributions={'reg_alpha': FloatDistribution(high=10.0, log=False, low=0.01, step=None)}, trial_id=48, value=None), FrozenTrial(number=49, state=TrialState.COMPLETE, values=[0.8714655019174178], datetime_start=datetime.datetime(2023, 6, 19, 11, 26, 59, 10591), datetime_complete=datetime.datetime(2023, 6, 19, 11, 26, 59, 17574), params={'reg_alpha': 7.134962373492027}, user_attrs={}, system_attrs={}, intermediate_values={}, distributions={'reg_alpha': FloatDistribution(high=10.0, log=False, low=0.01, step=None)}, trial_id=49, value=None)]\n"
     ]
    }
   ],
   "source": [
    "print('튜닝 횟수 :', len(study.trials))\n",
    "print(\"-------------------\")\n",
    "print('Best param:', study.best_trial.params)\n",
    "print('Best param:', study.best_params)\n",
    "print(\"-------------------\")\n",
    "print('Best score:', study.best_trial.value)\n",
    "print(\"-------------------\")\n",
    "print('study.trials 전체 정보 :', study.trials)\n"
   ]
  },
  {
   "cell_type": "markdown",
   "id": "0d6fbe8d-beaa-45eb-b55d-709ce56b7afb",
   "metadata": {},
   "source": [
    "# 스케일링 X\n",
    "* RMSE : 0.8715"
   ]
  },
  {
   "cell_type": "code",
   "execution_count": 13,
   "id": "29e32dea-4e21-4dcc-8086-bf26c9335c1c",
   "metadata": {
    "tags": []
   },
   "outputs": [
    {
     "name": "stdout",
     "output_type": "stream",
     "text": [
      "RMSE : 0.8715\n"
     ]
    }
   ],
   "source": [
    "ri=Ridge(alpha = 1,tol= 7.860977201898474)\n",
    "ri.fit(X_train,y_train)\n",
    "# print( xgb.coef_ )\n",
    "\n",
    "pred = ri.predict(X_test)\n",
    "rmse = mean_squared_error(y_test, pred, squared=False)\n",
    "print(f\"RMSE : {rmse:.4f}\")"
   ]
  }
 ],
 "metadata": {
  "kernelspec": {
   "display_name": "Python 3 (ipykernel)",
   "language": "python",
   "name": "python3"
  },
  "language_info": {
   "codemirror_mode": {
    "name": "ipython",
    "version": 3
   },
   "file_extension": ".py",
   "mimetype": "text/x-python",
   "name": "python",
   "nbconvert_exporter": "python",
   "pygments_lexer": "ipython3",
   "version": "3.8.8"
  }
 },
 "nbformat": 4,
 "nbformat_minor": 5
}
