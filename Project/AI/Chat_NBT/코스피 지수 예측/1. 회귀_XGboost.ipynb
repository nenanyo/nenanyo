{
 "cells": [
  {
   "cell_type": "code",
   "execution_count": 1,
   "id": "6972ce93-6142-4d24-8c39-18c3d0e72d67",
   "metadata": {
    "tags": []
   },
   "outputs": [
    {
     "data": {
      "text/html": [
       "<style>.container{width:100% !important;}</style>"
      ],
      "text/plain": [
       "<IPython.core.display.HTML object>"
      ]
     },
     "metadata": {},
     "output_type": "display_data"
    }
   ],
   "source": [
    "import numpy as np\n",
    "import pandas as pd\n",
    "\n",
    "import matplotlib.pyplot as plt\n",
    "import seaborn as sns\n",
    "\n",
    "\n",
    "sns.set()\n",
    "\n",
    "#-------------------- 차트 관련 속성 (한글처리, 그리드) -----------\n",
    "plt.rcParams['font.family']= 'Malgun Gothic'\n",
    "plt.rcParams['axes.unicode_minus'] = False\n",
    "\n",
    "#-------------------- 주피터 , 출력결과 넓이 늘리기 ---------------\n",
    "# from IPython.core.display import display, HTML\n",
    "from IPython.display import display, HTML\n",
    "\n",
    "display(HTML(\"<style>.container{width:100% !important;}</style>\"))\n",
    "pd.set_option('display.max_rows', 100)\n",
    "pd.set_option('display.max_columns', 100)\n",
    "pd.set_option('max_colwidth', None)\n",
    "\n",
    "import warnings\n",
    "warnings.filterwarnings(action='ignore')"
   ]
  },
  {
   "cell_type": "code",
   "execution_count": 2,
   "id": "2cf4d4be-dbe1-4453-9707-ffde29c66f27",
   "metadata": {
    "tags": []
   },
   "outputs": [],
   "source": [
    "# import pandas_profiling\n",
    "\n",
    "# ----------------- 학습 ----------------------\n",
    "from sklearn.model_selection import train_test_split, cross_val_score\n",
    "from sklearn.preprocessing import StandardScaler, MinMaxScaler, RobustScaler\n",
    "\n",
    "# ----------------- 모델 ----------------------\n",
    "from sklearn.tree import DecisionTreeClassifier\n",
    "from sklearn.linear_model import LogisticRegression\n",
    "from sklearn.linear_model import Ridge\n",
    "from xgboost.sklearn import XGBRegressor, XGBClassifier\n",
    "\n",
    "# ----------------- 평가 ----------------------\n",
    "from sklearn.metrics import confusion_matrix\n",
    "from sklearn.metrics import mean_squared_error\n",
    "from sklearn.metrics import classification_report\n",
    "from sklearn.metrics import accuracy_score\n",
    "from sklearn.metrics import f1_score, precision_score, recall_score\n",
    "# from sklearn.metrics import precision_recall_curve, plot_precision_recall_curve\n",
    "\n",
    "# from sklearn.metrics import roc_auc_score, roc_curve, plot_roc_curve"
   ]
  },
  {
   "cell_type": "markdown",
   "id": "4a2edd10-c254-4469-a424-bee59795aea4",
   "metadata": {},
   "source": [
    "# 데이터 로드"
   ]
  },
  {
   "cell_type": "code",
   "execution_count": 3,
   "id": "5bedf20c-21d7-49dc-91fb-5814f14c7aad",
   "metadata": {
    "tags": []
   },
   "outputs": [],
   "source": [
    "train = pd.read_csv('../data/traindf.csv')\n",
    "test = pd.read_csv('../data/testdf.csv')\n",
    "train = train.rename(columns={'Unnamed: 0':'날짜'})\n",
    "test = test.rename(columns={'Unnamed: 0':'날짜'})\n",
    "\n",
    "# train.info(),test.info()"
   ]
  },
  {
   "cell_type": "code",
   "execution_count": 4,
   "id": "17968aa7-f0d0-44fd-8d4c-cd9695adca9c",
   "metadata": {
    "tags": []
   },
   "outputs": [
    {
     "data": {
      "text/html": [
       "<div>\n",
       "<style scoped>\n",
       "    .dataframe tbody tr th:only-of-type {\n",
       "        vertical-align: middle;\n",
       "    }\n",
       "\n",
       "    .dataframe tbody tr th {\n",
       "        vertical-align: top;\n",
       "    }\n",
       "\n",
       "    .dataframe thead th {\n",
       "        text-align: right;\n",
       "    }\n",
       "</style>\n",
       "<table border=\"1\" class=\"dataframe\">\n",
       "  <thead>\n",
       "    <tr style=\"text-align: right;\">\n",
       "      <th></th>\n",
       "      <th>날짜</th>\n",
       "      <th>장중_긍정비율</th>\n",
       "      <th>장중_부정비율</th>\n",
       "      <th>장중_긍부정비율</th>\n",
       "      <th>장외_긍정비율</th>\n",
       "      <th>장외_부정비율</th>\n",
       "      <th>장외_긍부정비율</th>\n",
       "      <th>등락률</th>\n",
       "      <th>등락여부</th>\n",
       "    </tr>\n",
       "  </thead>\n",
       "  <tbody>\n",
       "    <tr>\n",
       "      <th>0</th>\n",
       "      <td>2021-01-04</td>\n",
       "      <td>0.888889</td>\n",
       "      <td>0.111111</td>\n",
       "      <td>0.666667</td>\n",
       "      <td>0.916667</td>\n",
       "      <td>0.083333</td>\n",
       "      <td>0.75</td>\n",
       "      <td>2.47</td>\n",
       "      <td>1.0</td>\n",
       "    </tr>\n",
       "    <tr>\n",
       "      <th>1</th>\n",
       "      <td>2021-01-05</td>\n",
       "      <td>0.951613</td>\n",
       "      <td>0.048387</td>\n",
       "      <td>0.854839</td>\n",
       "      <td>0.900000</td>\n",
       "      <td>0.100000</td>\n",
       "      <td>0.70</td>\n",
       "      <td>1.57</td>\n",
       "      <td>1.0</td>\n",
       "    </tr>\n",
       "  </tbody>\n",
       "</table>\n",
       "</div>"
      ],
      "text/plain": [
       "           날짜   장중_긍정비율   장중_부정비율  장중_긍부정비율   장외_긍정비율   장외_부정비율  장외_긍부정비율  \\\n",
       "0  2021-01-04  0.888889  0.111111  0.666667  0.916667  0.083333      0.75   \n",
       "1  2021-01-05  0.951613  0.048387  0.854839  0.900000  0.100000      0.70   \n",
       "\n",
       "    등락률  등락여부  \n",
       "0  2.47   1.0  \n",
       "1  1.57   1.0  "
      ]
     },
     "execution_count": 4,
     "metadata": {},
     "output_type": "execute_result"
    }
   ],
   "source": [
    "train.head(2)"
   ]
  },
  {
   "cell_type": "code",
   "execution_count": 5,
   "id": "7cdeb790-64d9-4550-a310-887476531a5f",
   "metadata": {
    "tags": []
   },
   "outputs": [
    {
     "data": {
      "image/png": "[encoded data removed]",
      "text/plain": [
       "<Figure size 640x480 with 9 Axes>"
      ]
     },
     "metadata": {},
     "output_type": "display_data"
    }
   ],
   "source": [
    "train.hist()\n",
    "plt.show()"
   ]
  },
  {
   "cell_type": "markdown",
   "id": "4ae959e2-4799-4eeb-a02d-15aad5885e4f",
   "metadata": {},
   "source": [
    "# optuna\n",
    "<pre>\n",
    "Best param: {'reg_alpha': 6.967235245933871, 'reg_lambda': 1.3562544880457188, 'learning_rate': 0.09590960213297267, 'max_depth': 30}\n",
    "Best param: {'reg_alpha': 6.967235245933871, 'reg_lambda': 1.3562544880457188, 'learning_rate': 0.09590960213297267, 'max_depth': 30}"
   ]
  },
  {
   "cell_type": "code",
   "execution_count": 6,
   "id": "5351b495-f6ad-45c5-be96-81a7b71e56c9",
   "metadata": {
    "tags": []
   },
   "outputs": [],
   "source": [
    "train = pd.read_csv('../data/traindf.csv')\n",
    "test = pd.read_csv('../data/testdf.csv')\n",
    "train = train.rename(columns={'Unnamed: 0':'날짜'})\n",
    "test = test.rename(columns={'Unnamed: 0':'날짜'})\n",
    "\n",
    "# train.info(),test.info()"
   ]
  },
  {
   "cell_type": "code",
   "execution_count": 7,
   "id": "9c700df3-f801-4eca-b006-40e28dacf8e0",
   "metadata": {
    "tags": []
   },
   "outputs": [],
   "source": [
    "X_train = train.drop(['날짜','등락률','등락여부'],axis=1)\n",
    "y_train = train['등락률']\n",
    "X_test = test.drop(['날짜','등락률','등락여부'],axis=1)\n",
    "y_test= test['등락률']"
   ]
  },
  {
   "cell_type": "code",
   "execution_count": 8,
   "id": "c07f77c2-3436-455f-a11a-38eda9e889fa",
   "metadata": {
    "tags": []
   },
   "outputs": [],
   "source": [
    "import optuna"
   ]
  },
  {
   "cell_type": "code",
   "execution_count": 9,
   "id": "4d517e18-043a-463c-9265-e348e16f98c2",
   "metadata": {
    "tags": []
   },
   "outputs": [],
   "source": [
    "def my_objective_XGB(trial, data=X_train, target=y_train):\n",
    "    \n",
    "    #train_x, test_x, train_y, test_y = train_test_split(data, target, test_size=0.2,random_state=42)\n",
    "    param = {\n",
    "        # 'metric': 'rmse', \n",
    "        'random_state': 1,\n",
    "        'n_estimators': 100,  #100\n",
    "        'reg_alpha' : trial.suggest_float('reg_alpha', 1e-2, 10.0),\n",
    "        'reg_lambda': trial.suggest_float('reg_lambda', 1e-2, 10.0),  #reg_alpha=0.0\n",
    "        'learning_rate': trial.suggest_loguniform('learning_rate', 0.01,0.1),\n",
    "        'max_depth': trial.suggest_categorical('max_depth', [1,30]),\n",
    "        #'colsample_bytree': trial.suggest_categorical('colsample_bytree', [0.3,0.4,0.5,0.6,0.7,0.8,0.9, 1.0]),\n",
    "        #'subsample': trial.suggest_categorical('subsample', [0.4,0.5,0.6,0.7,0.8,1.0]),\n",
    "        #'num_leaves' : trial.suggest_int('num_leaves', 1, 1000),\n",
    "        #'min_child_samples': trial.suggest_int('min_child_samples', 1, 300),\n",
    "        #'cat_smooth' : trial.suggest_int('min_data_per_groups', 1, 100)\n",
    "    }\n",
    "    model = XGBRegressor(**param)  \n",
    "    \n",
    "    model.fit(X_train,y_train\n",
    "              ,eval_set=[(X_test,y_test)]\n",
    "              ,early_stopping_rounds=10,verbose=False)\n",
    "    pred = model.predict(X_test)\n",
    "    \n",
    "    rmse = mean_squared_error(y_test, pred,squared=False)\n",
    "    return rmse"
   ]
  },
  {
   "cell_type": "code",
   "execution_count": 10,
   "id": "efcd0937-0db3-4481-9ee7-82e18951188e",
   "metadata": {
    "tags": []
   },
   "outputs": [
    {
     "name": "stderr",
     "output_type": "stream",
     "text": [
      "\u001b[32m[I 2023-06-27 12:53:22,662]\u001b[0m A new study created in memory with name: no-name-4629e508-e302-4b0a-9a26-0d35d53d50a9\u001b[0m\n",
      "\u001b[32m[I 2023-06-27 12:53:22,776]\u001b[0m Trial 0 finished with value: 0.8086771083537574 and parameters: {'reg_alpha': 8.680000053705184, 'reg_lambda': 5.448453687108639, 'learning_rate': 0.017203667181513622, 'max_depth': 30}. Best is trial 0 with value: 0.8086771083537574.\u001b[0m\n",
      "\u001b[32m[I 2023-06-27 12:53:22,827]\u001b[0m Trial 1 finished with value: 0.8048915896001861 and parameters: {'reg_alpha': 5.806529015882012, 'reg_lambda': 6.258954368293982, 'learning_rate': 0.027324451817892358, 'max_depth': 30}. Best is trial 1 with value: 0.8048915896001861.\u001b[0m\n",
      "\u001b[32m[I 2023-06-27 12:53:22,870]\u001b[0m Trial 2 finished with value: 0.8168957429686413 and parameters: {'reg_alpha': 1.2888008598553207, 'reg_lambda': 2.6317945966051473, 'learning_rate': 0.01307568014472375, 'max_depth': 1}. Best is trial 1 with value: 0.8048915896001861.\u001b[0m\n",
      "\u001b[32m[I 2023-06-27 12:53:22,927]\u001b[0m Trial 3 finished with value: 0.8117009871783677 and parameters: {'reg_alpha': 9.757690278058918, 'reg_lambda': 9.475363649186773, 'learning_rate': 0.026919882998677782, 'max_depth': 30}. Best is trial 1 with value: 0.8048915896001861.\u001b[0m\n",
      "\u001b[32m[I 2023-06-27 12:53:22,949]\u001b[0m Trial 4 finished with value: 0.8170500295441421 and parameters: {'reg_alpha': 1.2439526793279272, 'reg_lambda': 4.792729458789608, 'learning_rate': 0.057329110268322214, 'max_depth': 1}. Best is trial 1 with value: 0.8048915896001861.\u001b[0m\n",
      "\u001b[32m[I 2023-06-27 12:53:22,993]\u001b[0m Trial 5 finished with value: 0.8068216109514765 and parameters: {'reg_alpha': 3.0642621771919263, 'reg_lambda': 1.9165615304802137, 'learning_rate': 0.03320176193022046, 'max_depth': 30}. Best is trial 1 with value: 0.8048915896001861.\u001b[0m\n",
      "\u001b[32m[I 2023-06-27 12:53:23,013]\u001b[0m Trial 6 finished with value: 0.8169838775159833 and parameters: {'reg_alpha': 2.7552380924093285, 'reg_lambda': 0.041300016469883606, 'learning_rate': 0.047050968001507994, 'max_depth': 1}. Best is trial 1 with value: 0.8048915896001861.\u001b[0m\n",
      "\u001b[32m[I 2023-06-27 12:53:23,101]\u001b[0m Trial 7 finished with value: 0.8262984882529684 and parameters: {'reg_alpha': 0.07329172037220652, 'reg_lambda': 5.128868839597521, 'learning_rate': 0.017373064801286062, 'max_depth': 30}. Best is trial 1 with value: 0.8048915896001861.\u001b[0m\n",
      "\u001b[32m[I 2023-06-27 12:53:23,145]\u001b[0m Trial 8 finished with value: 0.810727127851869 and parameters: {'reg_alpha': 9.245999161836314, 'reg_lambda': 5.9072626585488965, 'learning_rate': 0.036694468996361355, 'max_depth': 30}. Best is trial 1 with value: 0.8048915896001861.\u001b[0m\n",
      "\u001b[32m[I 2023-06-27 12:53:23,186]\u001b[0m Trial 9 finished with value: 0.8043872236919285 and parameters: {'reg_alpha': 6.848971994287444, 'reg_lambda': 2.8166376669077073, 'learning_rate': 0.0392008900350875, 'max_depth': 30}. Best is trial 9 with value: 0.8043872236919285.\u001b[0m\n",
      "\u001b[32m[I 2023-06-27 12:53:23,217]\u001b[0m Trial 10 finished with value: 0.8172290760627661 and parameters: {'reg_alpha': 6.466462081309817, 'reg_lambda': 0.01958381703083223, 'learning_rate': 0.08105009100908926, 'max_depth': 1}. Best is trial 9 with value: 0.8043872236919285.\u001b[0m\n",
      "\u001b[32m[I 2023-06-27 12:53:23,284]\u001b[0m Trial 11 finished with value: 0.8054489101216014 and parameters: {'reg_alpha': 6.12619540881877, 'reg_lambda': 7.467515444764377, 'learning_rate': 0.02504629400012884, 'max_depth': 30}. Best is trial 9 with value: 0.8043872236919285.\u001b[0m\n",
      "\u001b[32m[I 2023-06-27 12:53:23,333]\u001b[0m Trial 12 finished with value: 0.8062169704675155 and parameters: {'reg_alpha': 7.125229161845731, 'reg_lambda': 3.5338717542872846, 'learning_rate': 0.04899909812611511, 'max_depth': 30}. Best is trial 9 with value: 0.8043872236919285.\u001b[0m\n",
      "\u001b[32m[I 2023-06-27 12:53:23,382]\u001b[0m Trial 13 finished with value: 0.8053412948489783 and parameters: {'reg_alpha': 4.921477186873659, 'reg_lambda': 7.6969318718452335, 'learning_rate': 0.09909868644154612, 'max_depth': 30}. Best is trial 9 with value: 0.8043872236919285.\u001b[0m\n",
      "\u001b[32m[I 2023-06-27 12:53:23,486]\u001b[0m Trial 14 finished with value: 0.8178090571544046 and parameters: {'reg_alpha': 7.987234194856201, 'reg_lambda': 3.770600386571645, 'learning_rate': 0.010135734574196791, 'max_depth': 30}. Best is trial 9 with value: 0.8043872236919285.\u001b[0m\n",
      "\u001b[32m[I 2023-06-27 12:53:23,548]\u001b[0m Trial 15 finished with value: 0.8063955361430218 and parameters: {'reg_alpha': 5.138623598127371, 'reg_lambda': 6.462036659639244, 'learning_rate': 0.023441414664558995, 'max_depth': 30}. Best is trial 9 with value: 0.8043872236919285.\u001b[0m\n",
      "\u001b[32m[I 2023-06-27 12:53:23,609]\u001b[0m Trial 16 finished with value: 0.8077348138146911 and parameters: {'reg_alpha': 7.7668310859235685, 'reg_lambda': 4.151485645061275, 'learning_rate': 0.034578922956321236, 'max_depth': 30}. Best is trial 9 with value: 0.8043872236919285.\u001b[0m\n",
      "\u001b[32m[I 2023-06-27 12:53:23,658]\u001b[0m Trial 17 finished with value: 0.8040346385597765 and parameters: {'reg_alpha': 5.5528670190109555, 'reg_lambda': 2.264380129740174, 'learning_rate': 0.041142524638408645, 'max_depth': 30}. Best is trial 17 with value: 0.8040346385597765.\u001b[0m\n",
      "\u001b[32m[I 2023-06-27 12:53:23,688]\u001b[0m Trial 18 finished with value: 0.8183059820442089 and parameters: {'reg_alpha': 4.533415218355115, 'reg_lambda': 1.7869553595209573, 'learning_rate': 0.0586180600420257, 'max_depth': 1}. Best is trial 17 with value: 0.8040346385597765.\u001b[0m\n",
      "\u001b[32m[I 2023-06-27 12:53:23,737]\u001b[0m Trial 19 finished with value: 0.807469993216982 and parameters: {'reg_alpha': 7.087084829939299, 'reg_lambda': 3.0730332171534473, 'learning_rate': 0.04314788281984475, 'max_depth': 30}. Best is trial 17 with value: 0.8040346385597765.\u001b[0m\n",
      "\u001b[32m[I 2023-06-27 12:53:23,788]\u001b[0m Trial 20 finished with value: 0.808405609360248 and parameters: {'reg_alpha': 8.598953367652769, 'reg_lambda': 1.626076873872045, 'learning_rate': 0.03970186780948783, 'max_depth': 30}. Best is trial 17 with value: 0.8040346385597765.\u001b[0m\n",
      "\u001b[32m[I 2023-06-27 12:53:23,847]\u001b[0m Trial 21 finished with value: 0.8059621234142438 and parameters: {'reg_alpha': 5.762892090973243, 'reg_lambda': 4.170279212598636, 'learning_rate': 0.02913557509512548, 'max_depth': 30}. Best is trial 17 with value: 0.8040346385597765.\u001b[0m\n",
      "\u001b[32m[I 2023-06-27 12:53:23,899]\u001b[0m Trial 22 finished with value: 0.803996583254859 and parameters: {'reg_alpha': 5.653315561036307, 'reg_lambda': 2.5346275516356283, 'learning_rate': 0.0343643073226431, 'max_depth': 30}. Best is trial 22 with value: 0.803996583254859.\u001b[0m\n",
      "\u001b[32m[I 2023-06-27 12:53:23,951]\u001b[0m Trial 23 finished with value: 0.80264984255662 and parameters: {'reg_alpha': 4.246824274236186, 'reg_lambda': 2.52642594180996, 'learning_rate': 0.035495262811948, 'max_depth': 30}. Best is trial 23 with value: 0.80264984255662.\u001b[0m\n",
      "\u001b[32m[I 2023-06-27 12:53:24,071]\u001b[0m Trial 24 finished with value: 0.8046497051727621 and parameters: {'reg_alpha': 4.215686151211278, 'reg_lambda': 1.0229740508392706, 'learning_rate': 0.03241951614261986, 'max_depth': 30}. Best is trial 23 with value: 0.80264984255662.\u001b[0m\n",
      "\u001b[32m[I 2023-06-27 12:53:24,145]\u001b[0m Trial 25 finished with value: 0.8032383010370707 and parameters: {'reg_alpha': 3.947744868063781, 'reg_lambda': 2.6073200463482427, 'learning_rate': 0.052623096693859735, 'max_depth': 30}. Best is trial 23 with value: 0.80264984255662.\u001b[0m\n",
      "\u001b[32m[I 2023-06-27 12:53:24,210]\u001b[0m Trial 26 finished with value: 0.8174923029606498 and parameters: {'reg_alpha': 4.021676831931764, 'reg_lambda': 2.971394568057778, 'learning_rate': 0.055948768548584014, 'max_depth': 1}. Best is trial 23 with value: 0.80264984255662.\u001b[0m\n",
      "\u001b[32m[I 2023-06-27 12:53:24,305]\u001b[0m Trial 27 finished with value: 0.803686066722826 and parameters: {'reg_alpha': 3.827104695405599, 'reg_lambda': 1.2424452990863513, 'learning_rate': 0.06782503921843672, 'max_depth': 30}. Best is trial 23 with value: 0.80264984255662.\u001b[0m\n",
      "\u001b[32m[I 2023-06-27 12:53:24,360]\u001b[0m Trial 28 finished with value: 0.8063743472542709 and parameters: {'reg_alpha': 3.59882514025694, 'reg_lambda': 1.2149625357765623, 'learning_rate': 0.06949987057907991, 'max_depth': 30}. Best is trial 23 with value: 0.80264984255662.\u001b[0m\n",
      "\u001b[32m[I 2023-06-27 12:53:24,437]\u001b[0m Trial 29 finished with value: 0.808188114424403 and parameters: {'reg_alpha': 3.4295865476649716, 'reg_lambda': 0.8867948045024665, 'learning_rate': 0.07052531154604628, 'max_depth': 30}. Best is trial 23 with value: 0.80264984255662.\u001b[0m\n",
      "\u001b[32m[I 2023-06-27 12:53:24,504]\u001b[0m Trial 30 finished with value: 0.8027865846969342 and parameters: {'reg_alpha': 4.687673112009766, 'reg_lambda': 1.9999392078624754, 'learning_rate': 0.05115100611147842, 'max_depth': 30}. Best is trial 23 with value: 0.80264984255662.\u001b[0m\n",
      "\u001b[32m[I 2023-06-27 12:53:24,560]\u001b[0m Trial 31 finished with value: 0.8036739988865248 and parameters: {'reg_alpha': 4.767215738387602, 'reg_lambda': 1.9956069744878597, 'learning_rate': 0.050098296808953044, 'max_depth': 30}. Best is trial 23 with value: 0.80264984255662.\u001b[0m\n",
      "\u001b[32m[I 2023-06-27 12:53:24,624]\u001b[0m Trial 32 finished with value: 0.8040410577848451 and parameters: {'reg_alpha': 4.85857730171874, 'reg_lambda': 2.0512552564440987, 'learning_rate': 0.04602893971483557, 'max_depth': 30}. Best is trial 23 with value: 0.80264984255662.\u001b[0m\n",
      "\u001b[32m[I 2023-06-27 12:53:24,695]\u001b[0m Trial 33 finished with value: 0.8058595228130332 and parameters: {'reg_alpha': 4.843977201798783, 'reg_lambda': 3.4109125945493384, 'learning_rate': 0.04923539339985597, 'max_depth': 30}. Best is trial 23 with value: 0.80264984255662.\u001b[0m\n",
      "\u001b[32m[I 2023-06-27 12:53:24,762]\u001b[0m Trial 34 finished with value: 0.803822317690341 and parameters: {'reg_alpha': 4.347513064355635, 'reg_lambda': 2.4651026386385433, 'learning_rate': 0.04935722990900526, 'max_depth': 30}. Best is trial 23 with value: 0.80264984255662.\u001b[0m\n",
      "\u001b[32m[I 2023-06-27 12:53:24,830]\u001b[0m Trial 35 finished with value: 0.8074460225300624 and parameters: {'reg_alpha': 2.7131194109324577, 'reg_lambda': 3.216449054767569, 'learning_rate': 0.058933729682030936, 'max_depth': 30}. Best is trial 23 with value: 0.80264984255662.\u001b[0m\n",
      "\u001b[32m[I 2023-06-27 12:53:24,873]\u001b[0m Trial 36 finished with value: 0.818047924507462 and parameters: {'reg_alpha': 5.347371095383014, 'reg_lambda': 2.568568044228549, 'learning_rate': 0.03857572043552486, 'max_depth': 1}. Best is trial 23 with value: 0.80264984255662.\u001b[0m\n",
      "\u001b[32m[I 2023-06-27 12:53:24,932]\u001b[0m Trial 37 finished with value: 0.8090589525071923 and parameters: {'reg_alpha': 3.3542854139104903, 'reg_lambda': 0.5462670043865827, 'learning_rate': 0.052344823149831396, 'max_depth': 30}. Best is trial 23 with value: 0.80264984255662.\u001b[0m\n",
      "\u001b[32m[I 2023-06-27 12:53:24,975]\u001b[0m Trial 38 finished with value: 0.817369269783325 and parameters: {'reg_alpha': 2.7131630304493384, 'reg_lambda': 1.6270974385062118, 'learning_rate': 0.043781791263809426, 'max_depth': 1}. Best is trial 23 with value: 0.80264984255662.\u001b[0m\n",
      "\u001b[32m[I 2023-06-27 12:53:25,068]\u001b[0m Trial 39 finished with value: 0.804350871151419 and parameters: {'reg_alpha': 4.438838420131254, 'reg_lambda': 2.138220655096229, 'learning_rate': 0.029660384735152978, 'max_depth': 30}. Best is trial 23 with value: 0.80264984255662.\u001b[0m\n",
      "\u001b[32m[I 2023-06-27 12:53:25,136]\u001b[0m Trial 40 finished with value: 0.8195447059074872 and parameters: {'reg_alpha': 2.0228654833372137, 'reg_lambda': 0.5945290896482309, 'learning_rate': 0.04482068896750439, 'max_depth': 30}. Best is trial 23 with value: 0.80264984255662.\u001b[0m\n",
      "\u001b[32m[I 2023-06-27 12:53:25,194]\u001b[0m Trial 41 finished with value: 0.8033135452346805 and parameters: {'reg_alpha': 4.041467300088956, 'reg_lambda': 1.3025918636897742, 'learning_rate': 0.06328426528357889, 'max_depth': 30}. Best is trial 23 with value: 0.80264984255662.\u001b[0m\n",
      "\u001b[32m[I 2023-06-27 12:53:25,262]\u001b[0m Trial 42 finished with value: 0.8032036701259967 and parameters: {'reg_alpha': 3.917524861524015, 'reg_lambda': 1.5395167482707683, 'learning_rate': 0.0535355064174999, 'max_depth': 30}. Best is trial 23 with value: 0.80264984255662.\u001b[0m\n",
      "\u001b[32m[I 2023-06-27 12:53:25,323]\u001b[0m Trial 43 finished with value: 0.8051623266794082 and parameters: {'reg_alpha': 3.8955524293817256, 'reg_lambda': 1.4824917660859986, 'learning_rate': 0.06335927682918215, 'max_depth': 30}. Best is trial 23 with value: 0.80264984255662.\u001b[0m\n",
      "\u001b[32m[I 2023-06-27 12:53:25,386]\u001b[0m Trial 44 finished with value: 0.8060729728153502 and parameters: {'reg_alpha': 3.1582103137739774, 'reg_lambda': 2.7778817589044467, 'learning_rate': 0.052872115172743595, 'max_depth': 30}. Best is trial 23 with value: 0.80264984255662.\u001b[0m\n",
      "\u001b[32m[I 2023-06-27 12:53:25,442]\u001b[0m Trial 45 finished with value: 0.804386977194045 and parameters: {'reg_alpha': 4.133368870832326, 'reg_lambda': 0.4421259561362727, 'learning_rate': 0.06318708176411347, 'max_depth': 30}. Best is trial 23 with value: 0.80264984255662.\u001b[0m\n",
      "\u001b[32m[I 2023-06-27 12:53:25,497]\u001b[0m Trial 46 finished with value: 0.8051889185569443 and parameters: {'reg_alpha': 5.247348971170943, 'reg_lambda': 1.346648914247981, 'learning_rate': 0.07673277848485133, 'max_depth': 30}. Best is trial 23 with value: 0.80264984255662.\u001b[0m\n",
      "\u001b[32m[I 2023-06-27 12:53:25,540]\u001b[0m Trial 47 finished with value: 0.8180742186002842 and parameters: {'reg_alpha': 3.6458617512711355, 'reg_lambda': 1.8899221111708238, 'learning_rate': 0.05554798915564175, 'max_depth': 1}. Best is trial 23 with value: 0.80264984255662.\u001b[0m\n",
      "\u001b[32m[I 2023-06-27 12:53:25,623]\u001b[0m Trial 48 finished with value: 0.8043106295470807 and parameters: {'reg_alpha': 6.099577863212113, 'reg_lambda': 2.5821992293423963, 'learning_rate': 0.03723680902824207, 'max_depth': 30}. Best is trial 23 with value: 0.80264984255662.\u001b[0m\n",
      "\u001b[32m[I 2023-06-27 12:53:25,701]\u001b[0m Trial 49 finished with value: 0.8038248934258424 and parameters: {'reg_alpha': 4.565339432357801, 'reg_lambda': 0.8038278668548973, 'learning_rate': 0.04177511621782855, 'max_depth': 30}. Best is trial 23 with value: 0.80264984255662.\u001b[0m\n",
      "\u001b[32m[I 2023-06-27 12:53:25,771]\u001b[0m Trial 50 finished with value: 0.8103742271305096 and parameters: {'reg_alpha': 2.9953371535669495, 'reg_lambda': 0.14431839247366485, 'learning_rate': 0.06109606945993779, 'max_depth': 30}. Best is trial 23 with value: 0.80264984255662.\u001b[0m\n",
      "\u001b[32m[I 2023-06-27 12:53:25,834]\u001b[0m Trial 51 finished with value: 0.8050099359075616 and parameters: {'reg_alpha': 4.863152163863592, 'reg_lambda': 2.2046364471759974, 'learning_rate': 0.05291619609142163, 'max_depth': 30}. Best is trial 23 with value: 0.80264984255662.\u001b[0m\n",
      "\u001b[32m[I 2023-06-27 12:53:25,901]\u001b[0m Trial 52 finished with value: 0.8030583234194525 and parameters: {'reg_alpha': 4.0811575628639725, 'reg_lambda': 1.8412075939387638, 'learning_rate': 0.04934489122134137, 'max_depth': 30}. Best is trial 23 with value: 0.80264984255662.\u001b[0m\n",
      "\u001b[32m[I 2023-06-27 12:53:25,964]\u001b[0m Trial 53 finished with value: 0.8063194053666166 and parameters: {'reg_alpha': 4.1674266782995515, 'reg_lambda': 1.5081106199998395, 'learning_rate': 0.046278977644108, 'max_depth': 30}. Best is trial 23 with value: 0.80264984255662.\u001b[0m\n",
      "\u001b[32m[I 2023-06-27 12:53:26,014]\u001b[0m Trial 54 finished with value: 0.8051588443970646 and parameters: {'reg_alpha': 3.920121956846691, 'reg_lambda': 1.0264156296946296, 'learning_rate': 0.05557489411847393, 'max_depth': 30}. Best is trial 23 with value: 0.80264984255662.\u001b[0m\n",
      "\u001b[32m[I 2023-06-27 12:53:26,077]\u001b[0m Trial 55 finished with value: 0.803560796780682 and parameters: {'reg_alpha': 5.192225765496938, 'reg_lambda': 2.9878837897788206, 'learning_rate': 0.03632306241835703, 'max_depth': 30}. Best is trial 23 with value: 0.80264984255662.\u001b[0m\n",
      "\u001b[32m[I 2023-06-27 12:53:26,141]\u001b[0m Trial 56 finished with value: 0.8046309589613574 and parameters: {'reg_alpha': 3.5668591419905966, 'reg_lambda': 1.703025324883543, 'learning_rate': 0.041678041507757724, 'max_depth': 30}. Best is trial 23 with value: 0.80264984255662.\u001b[0m\n",
      "\u001b[32m[I 2023-06-27 12:53:26,199]\u001b[0m Trial 57 finished with value: 0.8055583781874656 and parameters: {'reg_alpha': 4.634698020352518, 'reg_lambda': 3.825007842346081, 'learning_rate': 0.04710476348003438, 'max_depth': 30}. Best is trial 23 with value: 0.80264984255662.\u001b[0m\n",
      "\u001b[32m[I 2023-06-27 12:53:26,235]\u001b[0m Trial 58 finished with value: 0.8183183372128069 and parameters: {'reg_alpha': 4.379996038408622, 'reg_lambda': 2.3163838170941977, 'learning_rate': 0.0811176997689252, 'max_depth': 1}. Best is trial 23 with value: 0.80264984255662.\u001b[0m\n",
      "\u001b[32m[I 2023-06-27 12:53:26,296]\u001b[0m Trial 59 finished with value: 0.8033951082243121 and parameters: {'reg_alpha': 3.838913411851162, 'reg_lambda': 1.8509762341018525, 'learning_rate': 0.039697859956251524, 'max_depth': 30}. Best is trial 23 with value: 0.80264984255662.\u001b[0m\n",
      "\u001b[32m[I 2023-06-27 12:53:26,349]\u001b[0m Trial 60 finished with value: 0.8034546719631037 and parameters: {'reg_alpha': 5.598812662549312, 'reg_lambda': 1.2731327924228606, 'learning_rate': 0.058845172928315634, 'max_depth': 30}. Best is trial 23 with value: 0.80264984255662.\u001b[0m\n",
      "\u001b[32m[I 2023-06-27 12:53:26,411]\u001b[0m Trial 61 finished with value: 0.8027028587377982 and parameters: {'reg_alpha': 3.8281811643802124, 'reg_lambda': 1.8047712450264177, 'learning_rate': 0.0395645850151971, 'max_depth': 30}. Best is trial 23 with value: 0.80264984255662.\u001b[0m\n",
      "\u001b[32m[I 2023-06-27 12:53:26,472]\u001b[0m Trial 62 finished with value: 0.8060996358100261 and parameters: {'reg_alpha': 3.1970285196851855, 'reg_lambda': 2.7978751856116584, 'learning_rate': 0.043897883202427365, 'max_depth': 30}. Best is trial 23 with value: 0.80264984255662.\u001b[0m\n",
      "\u001b[32m[I 2023-06-27 12:53:26,541]\u001b[0m Trial 63 finished with value: 0.8029933865387445 and parameters: {'reg_alpha': 4.125440535661462, 'reg_lambda': 2.2192790227606376, 'learning_rate': 0.03470351360921099, 'max_depth': 30}. Best is trial 23 with value: 0.80264984255662.\u001b[0m\n",
      "\u001b[32m[I 2023-06-27 12:53:26,630]\u001b[0m Trial 64 finished with value: 0.8036172778095532 and parameters: {'reg_alpha': 4.416391197643648, 'reg_lambda': 2.369044218500224, 'learning_rate': 0.033427785204230016, 'max_depth': 30}. Best is trial 23 with value: 0.80264984255662.\u001b[0m\n",
      "\u001b[32m[I 2023-06-27 12:53:26,778]\u001b[0m Trial 65 finished with value: 0.8034908575962876 and parameters: {'reg_alpha': 3.5725513081703237, 'reg_lambda': 3.2426833985950623, 'learning_rate': 0.03662580032960595, 'max_depth': 30}. Best is trial 23 with value: 0.80264984255662.\u001b[0m\n",
      "\u001b[32m[I 2023-06-27 12:53:26,857]\u001b[0m Trial 66 finished with value: 0.8046363793503547 and parameters: {'reg_alpha': 5.049625704443952, 'reg_lambda': 1.961370451670531, 'learning_rate': 0.03125468473068843, 'max_depth': 30}. Best is trial 23 with value: 0.80264984255662.\u001b[0m\n",
      "\u001b[32m[I 2023-06-27 12:53:26,932]\u001b[0m Trial 67 finished with value: 0.8070388341247489 and parameters: {'reg_alpha': 2.916507985598954, 'reg_lambda': 2.79354950176238, 'learning_rate': 0.03530321191824046, 'max_depth': 30}. Best is trial 23 with value: 0.80264984255662.\u001b[0m\n",
      "\u001b[32m[I 2023-06-27 12:53:27,019]\u001b[0m Trial 68 finished with value: 0.8037771890125412 and parameters: {'reg_alpha': 4.670317650208225, 'reg_lambda': 2.23033441646728, 'learning_rate': 0.03981692831222066, 'max_depth': 30}. Best is trial 23 with value: 0.80264984255662.\u001b[0m\n",
      "\u001b[32m[I 2023-06-27 12:53:27,099]\u001b[0m Trial 69 finished with value: 0.8042413295202029 and parameters: {'reg_alpha': 4.128946959934015, 'reg_lambda': 3.5791657950991493, 'learning_rate': 0.047784196375700465, 'max_depth': 30}. Best is trial 23 with value: 0.80264984255662.\u001b[0m\n",
      "\u001b[32m[I 2023-06-27 12:53:27,160]\u001b[0m Trial 70 finished with value: 0.817602776056499 and parameters: {'reg_alpha': 5.408086147249902, 'reg_lambda': 1.710440029522851, 'learning_rate': 0.027416683567520944, 'max_depth': 1}. Best is trial 23 with value: 0.80264984255662.\u001b[0m\n",
      "\u001b[32m[I 2023-06-27 12:53:27,225]\u001b[0m Trial 71 finished with value: 0.80581116849881 and parameters: {'reg_alpha': 3.8202402690735053, 'reg_lambda': 1.0512241602625316, 'learning_rate': 0.05021968681891083, 'max_depth': 30}. Best is trial 23 with value: 0.80264984255662.\u001b[0m\n",
      "\u001b[32m[I 2023-06-27 12:53:27,298]\u001b[0m Trial 72 finished with value: 0.804696423411756 and parameters: {'reg_alpha': 3.331065365116141, 'reg_lambda': 1.5681562128699118, 'learning_rate': 0.04231889745156121, 'max_depth': 30}. Best is trial 23 with value: 0.80264984255662.\u001b[0m\n",
      "\u001b[32m[I 2023-06-27 12:53:27,361]\u001b[0m Trial 73 finished with value: 0.8035029801330476 and parameters: {'reg_alpha': 4.261199603982886, 'reg_lambda': 1.3744762825585424, 'learning_rate': 0.04537672709034069, 'max_depth': 30}. Best is trial 23 with value: 0.80264984255662.\u001b[0m\n",
      "\u001b[32m[I 2023-06-27 12:53:27,426]\u001b[0m Trial 74 finished with value: 0.8039099463599888 and parameters: {'reg_alpha': 4.9598399010784044, 'reg_lambda': 1.995522998988238, 'learning_rate': 0.053566235879743594, 'max_depth': 30}. Best is trial 23 with value: 0.80264984255662.\u001b[0m\n",
      "\u001b[32m[I 2023-06-27 12:53:27,492]\u001b[0m Trial 75 finished with value: 0.8038682576142359 and parameters: {'reg_alpha': 4.024292953459915, 'reg_lambda': 2.4893576349750144, 'learning_rate': 0.051394137272952084, 'max_depth': 30}. Best is trial 23 with value: 0.80264984255662.\u001b[0m\n",
      "\u001b[32m[I 2023-06-27 12:53:27,561]\u001b[0m Trial 76 finished with value: 0.803266234878624 and parameters: {'reg_alpha': 4.576462247888839, 'reg_lambda': 0.841606954870767, 'learning_rate': 0.038019044715080066, 'max_depth': 30}. Best is trial 23 with value: 0.80264984255662.\u001b[0m\n",
      "\u001b[32m[I 2023-06-27 12:53:27,632]\u001b[0m Trial 77 finished with value: 0.8035286342206477 and parameters: {'reg_alpha': 4.705849744896364, 'reg_lambda': 0.9575052696060857, 'learning_rate': 0.037818889408033136, 'max_depth': 30}. Best is trial 23 with value: 0.80264984255662.\u001b[0m\n",
      "\u001b[32m[I 2023-06-27 12:53:27,709]\u001b[0m Trial 78 finished with value: 0.8041425915954308 and parameters: {'reg_alpha': 3.6196925383268637, 'reg_lambda': 2.1961737325626105, 'learning_rate': 0.03390121799931551, 'max_depth': 30}. Best is trial 23 with value: 0.80264984255662.\u001b[0m\n",
      "\u001b[32m[I 2023-06-27 12:53:27,782]\u001b[0m Trial 79 finished with value: 0.8038840072686944 and parameters: {'reg_alpha': 4.4630193505455615, 'reg_lambda': 1.8213246540694428, 'learning_rate': 0.03189986170043657, 'max_depth': 30}. Best is trial 23 with value: 0.80264984255662.\u001b[0m\n",
      "\u001b[32m[I 2023-06-27 12:53:27,849]\u001b[0m Trial 80 finished with value: 0.804145052080793 and parameters: {'reg_alpha': 5.050288640206364, 'reg_lambda': 0.6470546876314244, 'learning_rate': 0.03995065839308006, 'max_depth': 30}. Best is trial 23 with value: 0.80264984255662.\u001b[0m\n",
      "\u001b[32m[I 2023-06-27 12:53:27,915]\u001b[0m Trial 81 finished with value: 0.8036725993245246 and parameters: {'reg_alpha': 4.114055584617872, 'reg_lambda': 1.195727687294748, 'learning_rate': 0.04400728071850118, 'max_depth': 30}. Best is trial 23 with value: 0.80264984255662.\u001b[0m\n",
      "\u001b[32m[I 2023-06-27 12:53:27,979]\u001b[0m Trial 82 finished with value: 0.8030924248560314 and parameters: {'reg_alpha': 3.864407706717358, 'reg_lambda': 1.4412534613162196, 'learning_rate': 0.046773560168719974, 'max_depth': 30}. Best is trial 23 with value: 0.80264984255662.\u001b[0m\n",
      "\u001b[32m[I 2023-06-27 12:53:28,043]\u001b[0m Trial 83 finished with value: 0.8055865678953341 and parameters: {'reg_alpha': 3.751204489507265, 'reg_lambda': 0.8128251148223111, 'learning_rate': 0.0464749778806901, 'max_depth': 30}. Best is trial 23 with value: 0.80264984255662.\u001b[0m\n",
      "\u001b[32m[I 2023-06-27 12:53:28,120]\u001b[0m Trial 84 finished with value: 0.8051085057926867 and parameters: {'reg_alpha': 3.3561665069792372, 'reg_lambda': 1.4717297203106012, 'learning_rate': 0.03550777532185816, 'max_depth': 30}. Best is trial 23 with value: 0.80264984255662.\u001b[0m\n",
      "\u001b[32m[I 2023-06-27 12:53:28,230]\u001b[0m Trial 85 finished with value: 0.8033679664052747 and parameters: {'reg_alpha': 4.276705443178161, 'reg_lambda': 2.692489429612767, 'learning_rate': 0.04924962696266861, 'max_depth': 30}. Best is trial 23 with value: 0.80264984255662.\u001b[0m\n",
      "\u001b[32m[I 2023-06-27 12:53:28,275]\u001b[0m Trial 86 finished with value: 0.8173208181059576 and parameters: {'reg_alpha': 4.705605864090372, 'reg_lambda': 2.072713453429616, 'learning_rate': 0.04238703400595458, 'max_depth': 1}. Best is trial 23 with value: 0.80264984255662.\u001b[0m\n",
      "\u001b[32m[I 2023-06-27 12:53:28,345]\u001b[0m Trial 87 finished with value: 0.8034068118541549 and parameters: {'reg_alpha': 3.9527172604267076, 'reg_lambda': 1.7635670011771107, 'learning_rate': 0.037573017507696725, 'max_depth': 30}. Best is trial 23 with value: 0.80264984255662.\u001b[0m\n",
      "\u001b[32m[I 2023-06-27 12:53:28,406]\u001b[0m Trial 88 finished with value: 0.804477136553634 and parameters: {'reg_alpha': 4.495711071752138, 'reg_lambda': 0.36642414619452834, 'learning_rate': 0.0562469055657373, 'max_depth': 30}. Best is trial 23 with value: 0.80264984255662.\u001b[0m\n",
      "\u001b[32m[I 2023-06-27 12:53:28,479]\u001b[0m Trial 89 finished with value: 0.8054394144819411 and parameters: {'reg_alpha': 3.7083034811480955, 'reg_lambda': 2.43392567528191, 'learning_rate': 0.04859061191774668, 'max_depth': 30}. Best is trial 23 with value: 0.80264984255662.\u001b[0m\n",
      "\u001b[32m[I 2023-06-27 12:53:28,554]\u001b[0m Trial 90 finished with value: 0.8066654647228291 and parameters: {'reg_alpha': 5.355857669979564, 'reg_lambda': 2.996833527308838, 'learning_rate': 0.04066785959234729, 'max_depth': 30}. Best is trial 23 with value: 0.80264984255662.\u001b[0m\n",
      "\u001b[32m[I 2023-06-27 12:53:28,622]\u001b[0m Trial 91 finished with value: 0.8050524828098574 and parameters: {'reg_alpha': 4.082124621410997, 'reg_lambda': 1.1528942367287516, 'learning_rate': 0.051389434325762096, 'max_depth': 30}. Best is trial 23 with value: 0.80264984255662.\u001b[0m\n",
      "\u001b[32m[I 2023-06-27 12:53:28,684]\u001b[0m Trial 92 finished with value: 0.8036946293662938 and parameters: {'reg_alpha': 3.491742812505329, 'reg_lambda': 1.4389670241076122, 'learning_rate': 0.05352140594660458, 'max_depth': 30}. Best is trial 23 with value: 0.80264984255662.\u001b[0m\n",
      "\u001b[32m[I 2023-06-27 12:53:28,747]\u001b[0m Trial 93 finished with value: 0.8039164246975345 and parameters: {'reg_alpha': 4.270030909017599, 'reg_lambda': 0.7947377528416478, 'learning_rate': 0.04495916414174317, 'max_depth': 30}. Best is trial 23 with value: 0.80264984255662.\u001b[0m\n",
      "\u001b[32m[I 2023-06-27 12:53:28,806]\u001b[0m Trial 94 finished with value: 0.8018363585094409 and parameters: {'reg_alpha': 4.8377793423263995, 'reg_lambda': 1.6721333302506851, 'learning_rate': 0.06089208435440014, 'max_depth': 30}. Best is trial 94 with value: 0.8018363585094409.\u001b[0m\n",
      "\u001b[32m[I 2023-06-27 12:53:28,863]\u001b[0m Trial 95 finished with value: 0.8046209771163875 and parameters: {'reg_alpha': 4.88969376938157, 'reg_lambda': 1.6560966438123992, 'learning_rate': 0.059603870357400585, 'max_depth': 30}. Best is trial 94 with value: 0.8018363585094409.\u001b[0m\n",
      "\u001b[32m[I 2023-06-27 12:53:28,936]\u001b[0m Trial 96 finished with value: 0.8041788549378999 and parameters: {'reg_alpha': 4.560187568103944, 'reg_lambda': 2.0352260706428718, 'learning_rate': 0.03823982936029143, 'max_depth': 30}. Best is trial 94 with value: 0.8018363585094409.\u001b[0m\n",
      "\u001b[32m[I 2023-06-27 12:53:28,993]\u001b[0m Trial 97 finished with value: 0.8039372186119746 and parameters: {'reg_alpha': 5.130934067581326, 'reg_lambda': 2.30901757690607, 'learning_rate': 0.05618029908738706, 'max_depth': 30}. Best is trial 94 with value: 0.8018363585094409.\u001b[0m\n",
      "\u001b[32m[I 2023-06-27 12:53:29,055]\u001b[0m Trial 98 finished with value: 0.8041063057745653 and parameters: {'reg_alpha': 3.8073454509133806, 'reg_lambda': 2.601107110328515, 'learning_rate': 0.04797745971750998, 'max_depth': 30}. Best is trial 94 with value: 0.8018363585094409.\u001b[0m\n",
      "\u001b[32m[I 2023-06-27 12:53:29,101]\u001b[0m Trial 99 finished with value: 0.8172915547758589 and parameters: {'reg_alpha': 4.386742207758981, 'reg_lambda': 1.9416365818707413, 'learning_rate': 0.04304670719582354, 'max_depth': 1}. Best is trial 94 with value: 0.8018363585094409.\u001b[0m\n"
     ]
    }
   ],
   "source": [
    "\n",
    "study = optuna.create_study(direction='minimize')\n",
    "\n",
    "\n",
    "# y_train = np.expm1(y_train_log)\n",
    "# y_test  = np.expm1(y_test_log)\n",
    "\n",
    "\n",
    "# my_objective_LGBM(trial):\n",
    "# study.optimize(my_objective_LGBM, n_trials=50)\n",
    "\n",
    "# def my_objective_LGBM(trial, data=X_train, target=y_train):\n",
    "study.optimize(lambda trial : my_objective_XGB(trial, y_train,y_test), n_trials=100)"
   ]
  },
  {
   "cell_type": "code",
   "execution_count": 11,
   "id": "39fd9797-330c-4196-bdc4-f03c145c3347",
   "metadata": {
    "tags": []
   },
   "outputs": [
    {
     "name": "stdout",
     "output_type": "stream",
     "text": [
      "튜닝 횟수 : 100\n",
      "-------------------\n",
      "Best param: {'reg_alpha': 4.8377793423263995, 'reg_lambda': 1.6721333302506851, 'learning_rate': 0.06089208435440014, 'max_depth': 30}\n",
      "Best param: {'reg_alpha': 4.8377793423263995, 'reg_lambda': 1.6721333302506851, 'learning_rate': 0.06089208435440014, 'max_depth': 30}\n",
      "-------------------\n",
      "Best score: 0.8018363585094409\n",
      "-------------------\n",
      "study.trials 전체 정보 : [FrozenTrial(number=0, state=TrialState.COMPLETE, values=[0.8086771083537574], datetime_start=datetime.datetime(2023, 6, 27, 12, 53, 22, 665525), datetime_complete=datetime.datetime(2023, 6, 27, 12, 53, 22, 776228), params={'reg_alpha': 8.680000053705184, 'reg_lambda': 5.448453687108639, 'learning_rate': 0.017203667181513622, 'max_depth': 30}, user_attrs={}, system_attrs={}, intermediate_values={}, distributions={'reg_alpha': FloatDistribution(high=10.0, log=False, low=0.01, step=None), 'reg_lambda': FloatDistribution(high=10.0, log=False, low=0.01, step=None), 'learning_rate': FloatDistribution(high=0.1, log=True, low=0.01, step=None), 'max_depth': CategoricalDistribution(choices=(1, 30))}, trial_id=0, value=None), FrozenTrial(number=1, state=TrialState.COMPLETE, values=[0.8048915896001861], datetime_start=datetime.datetime(2023, 6, 27, 12, 53, 22, 777226), datetime_complete=datetime.datetime(2023, 6, 27, 12, 53, 22, 827092), params={'reg_alpha': 5.806529015882012, 'reg_lambda': 6.258954368293982, 'learning_rate': 0.027324451817892358, 'max_depth': 30}, user_attrs={}, system_attrs={}, intermediate_values={}, distributions={'reg_alpha': FloatDistribution(high=10.0, log=False, low=0.01, step=None), 'reg_lambda': FloatDistribution(high=10.0, log=False, low=0.01, step=None), 'learning_rate': FloatDistribution(high=0.1, log=True, low=0.01, step=None), 'max_depth': CategoricalDistribution(choices=(1, 30))}, trial_id=1, value=None), FrozenTrial(number=2, state=TrialState.COMPLETE, values=[0.8168957429686413], datetime_start=datetime.datetime(2023, 6, 27, 12, 53, 22, 828090), datetime_complete=datetime.datetime(2023, 6, 27, 12, 53, 22, 870975), params={'reg_alpha': 1.2888008598553207, 'reg_lambda': 2.6317945966051473, 'learning_rate': 0.01307568014472375, 'max_depth': 1}, user_attrs={}, system_attrs={}, intermediate_values={}, distributions={'reg_alpha': FloatDistribution(high=10.0, log=False, low=0.01, step=None), 'reg_lambda': FloatDistribution(high=10.0, log=False, low=0.01, step=None), 'learning_rate': FloatDistribution(high=0.1, log=True, low=0.01, step=None), 'max_depth': CategoricalDistribution(choices=(1, 30))}, trial_id=2, value=None), FrozenTrial(number=3, state=TrialState.COMPLETE, values=[0.8117009871783677], datetime_start=datetime.datetime(2023, 6, 27, 12, 53, 22, 871972), datetime_complete=datetime.datetime(2023, 6, 27, 12, 53, 22, 926826), params={'reg_alpha': 9.757690278058918, 'reg_lambda': 9.475363649186773, 'learning_rate': 0.026919882998677782, 'max_depth': 30}, user_attrs={}, system_attrs={}, intermediate_values={}, distributions={'reg_alpha': FloatDistribution(high=10.0, log=False, low=0.01, step=None), 'reg_lambda': FloatDistribution(high=10.0, log=False, low=0.01, step=None), 'learning_rate': FloatDistribution(high=0.1, log=True, low=0.01, step=None), 'max_depth': CategoricalDistribution(choices=(1, 30))}, trial_id=3, value=None), FrozenTrial(number=4, state=TrialState.COMPLETE, values=[0.8170500295441421], datetime_start=datetime.datetime(2023, 6, 27, 12, 53, 22, 928820), datetime_complete=datetime.datetime(2023, 6, 27, 12, 53, 22, 949764), params={'reg_alpha': 1.2439526793279272, 'reg_lambda': 4.792729458789608, 'learning_rate': 0.057329110268322214, 'max_depth': 1}, user_attrs={}, system_attrs={}, intermediate_values={}, distributions={'reg_alpha': FloatDistribution(high=10.0, log=False, low=0.01, step=None), 'reg_lambda': FloatDistribution(high=10.0, log=False, low=0.01, step=None), 'learning_rate': FloatDistribution(high=0.1, log=True, low=0.01, step=None), 'max_depth': CategoricalDistribution(choices=(1, 30))}, trial_id=4, value=None), FrozenTrial(number=5, state=TrialState.COMPLETE, values=[0.8068216109514765], datetime_start=datetime.datetime(2023, 6, 27, 12, 53, 22, 950762), datetime_complete=datetime.datetime(2023, 6, 27, 12, 53, 22, 993647), params={'reg_alpha': 3.0642621771919263, 'reg_lambda': 1.9165615304802137, 'learning_rate': 0.03320176193022046, 'max_depth': 30}, user_attrs={}, system_attrs={}, intermediate_values={}, distributions={'reg_alpha': FloatDistribution(high=10.0, log=False, low=0.01, step=None), 'reg_lambda': FloatDistribution(high=10.0, log=False, low=0.01, step=None), 'learning_rate': FloatDistribution(high=0.1, log=True, low=0.01, step=None), 'max_depth': CategoricalDistribution(choices=(1, 30))}, trial_id=5, value=None), FrozenTrial(number=6, state=TrialState.COMPLETE, values=[0.8169838775159833], datetime_start=datetime.datetime(2023, 6, 27, 12, 53, 22, 994644), datetime_complete=datetime.datetime(2023, 6, 27, 12, 53, 23, 13593), params={'reg_alpha': 2.7552380924093285, 'reg_lambda': 0.041300016469883606, 'learning_rate': 0.047050968001507994, 'max_depth': 1}, user_attrs={}, system_attrs={}, intermediate_values={}, distributions={'reg_alpha': FloatDistribution(high=10.0, log=False, low=0.01, step=None), 'reg_lambda': FloatDistribution(high=10.0, log=False, low=0.01, step=None), 'learning_rate': FloatDistribution(high=0.1, log=True, low=0.01, step=None), 'max_depth': CategoricalDistribution(choices=(1, 30))}, trial_id=6, value=None), FrozenTrial(number=7, state=TrialState.COMPLETE, values=[0.8262984882529684], datetime_start=datetime.datetime(2023, 6, 27, 12, 53, 23, 14591), datetime_complete=datetime.datetime(2023, 6, 27, 12, 53, 23, 101359), params={'reg_alpha': 0.07329172037220652, 'reg_lambda': 5.128868839597521, 'learning_rate': 0.017373064801286062, 'max_depth': 30}, user_attrs={}, system_attrs={}, intermediate_values={}, distributions={'reg_alpha': FloatDistribution(high=10.0, log=False, low=0.01, step=None), 'reg_lambda': FloatDistribution(high=10.0, log=False, low=0.01, step=None), 'learning_rate': FloatDistribution(high=0.1, log=True, low=0.01, step=None), 'max_depth': CategoricalDistribution(choices=(1, 30))}, trial_id=7, value=None), FrozenTrial(number=8, state=TrialState.COMPLETE, values=[0.810727127851869], datetime_start=datetime.datetime(2023, 6, 27, 12, 53, 23, 102356), datetime_complete=datetime.datetime(2023, 6, 27, 12, 53, 23, 145242), params={'reg_alpha': 9.245999161836314, 'reg_lambda': 5.9072626585488965, 'learning_rate': 0.036694468996361355, 'max_depth': 30}, user_attrs={}, system_attrs={}, intermediate_values={}, distributions={'reg_alpha': FloatDistribution(high=10.0, log=False, low=0.01, step=None), 'reg_lambda': FloatDistribution(high=10.0, log=False, low=0.01, step=None), 'learning_rate': FloatDistribution(high=0.1, log=True, low=0.01, step=None), 'max_depth': CategoricalDistribution(choices=(1, 30))}, trial_id=8, value=None), FrozenTrial(number=9, state=TrialState.COMPLETE, values=[0.8043872236919285], datetime_start=datetime.datetime(2023, 6, 27, 12, 53, 23, 146239), datetime_complete=datetime.datetime(2023, 6, 27, 12, 53, 23, 186133), params={'reg_alpha': 6.848971994287444, 'reg_lambda': 2.8166376669077073, 'learning_rate': 0.0392008900350875, 'max_depth': 30}, user_attrs={}, system_attrs={}, intermediate_values={}, distributions={'reg_alpha': FloatDistribution(high=10.0, log=False, low=0.01, step=None), 'reg_lambda': FloatDistribution(high=10.0, log=False, low=0.01, step=None), 'learning_rate': FloatDistribution(high=0.1, log=True, low=0.01, step=None), 'max_depth': CategoricalDistribution(choices=(1, 30))}, trial_id=9, value=None), FrozenTrial(number=10, state=TrialState.COMPLETE, values=[0.8172290760627661], datetime_start=datetime.datetime(2023, 6, 27, 12, 53, 23, 187130), datetime_complete=datetime.datetime(2023, 6, 27, 12, 53, 23, 216052), params={'reg_alpha': 6.466462081309817, 'reg_lambda': 0.01958381703083223, 'learning_rate': 0.08105009100908926, 'max_depth': 1}, user_attrs={}, system_attrs={}, intermediate_values={}, distributions={'reg_alpha': FloatDistribution(high=10.0, log=False, low=0.01, step=None), 'reg_lambda': FloatDistribution(high=10.0, log=False, low=0.01, step=None), 'learning_rate': FloatDistribution(high=0.1, log=True, low=0.01, step=None), 'max_depth': CategoricalDistribution(choices=(1, 30))}, trial_id=10, value=None), FrozenTrial(number=11, state=TrialState.COMPLETE, values=[0.8054489101216014], datetime_start=datetime.datetime(2023, 6, 27, 12, 53, 23, 218048), datetime_complete=datetime.datetime(2023, 6, 27, 12, 53, 23, 283872), params={'reg_alpha': 6.12619540881877, 'reg_lambda': 7.467515444764377, 'learning_rate': 0.02504629400012884, 'max_depth': 30}, user_attrs={}, system_attrs={}, intermediate_values={}, distributions={'reg_alpha': FloatDistribution(high=10.0, log=False, low=0.01, step=None), 'reg_lambda': FloatDistribution(high=10.0, log=False, low=0.01, step=None), 'learning_rate': FloatDistribution(high=0.1, log=True, low=0.01, step=None), 'max_depth': CategoricalDistribution(choices=(1, 30))}, trial_id=11, value=None), FrozenTrial(number=12, state=TrialState.COMPLETE, values=[0.8062169704675155], datetime_start=datetime.datetime(2023, 6, 27, 12, 53, 23, 285867), datetime_complete=datetime.datetime(2023, 6, 27, 12, 53, 23, 332742), params={'reg_alpha': 7.125229161845731, 'reg_lambda': 3.5338717542872846, 'learning_rate': 0.04899909812611511, 'max_depth': 30}, user_attrs={}, system_attrs={}, intermediate_values={}, distributions={'reg_alpha': FloatDistribution(high=10.0, log=False, low=0.01, step=None), 'reg_lambda': FloatDistribution(high=10.0, log=False, low=0.01, step=None), 'learning_rate': FloatDistribution(high=0.1, log=True, low=0.01, step=None), 'max_depth': CategoricalDistribution(choices=(1, 30))}, trial_id=12, value=None), FrozenTrial(number=13, state=TrialState.COMPLETE, values=[0.8053412948489783], datetime_start=datetime.datetime(2023, 6, 27, 12, 53, 23, 334736), datetime_complete=datetime.datetime(2023, 6, 27, 12, 53, 23, 382608), params={'reg_alpha': 4.921477186873659, 'reg_lambda': 7.6969318718452335, 'learning_rate': 0.09909868644154612, 'max_depth': 30}, user_attrs={}, system_attrs={}, intermediate_values={}, distributions={'reg_alpha': FloatDistribution(high=10.0, log=False, low=0.01, step=None), 'reg_lambda': FloatDistribution(high=10.0, log=False, low=0.01, step=None), 'learning_rate': FloatDistribution(high=0.1, log=True, low=0.01, step=None), 'max_depth': CategoricalDistribution(choices=(1, 30))}, trial_id=13, value=None), FrozenTrial(number=14, state=TrialState.COMPLETE, values=[0.8178090571544046], datetime_start=datetime.datetime(2023, 6, 27, 12, 53, 23, 383605), datetime_complete=datetime.datetime(2023, 6, 27, 12, 53, 23, 485333), params={'reg_alpha': 7.987234194856201, 'reg_lambda': 3.770600386571645, 'learning_rate': 0.010135734574196791, 'max_depth': 30}, user_attrs={}, system_attrs={}, intermediate_values={}, distributions={'reg_alpha': FloatDistribution(high=10.0, log=False, low=0.01, step=None), 'reg_lambda': FloatDistribution(high=10.0, log=False, low=0.01, step=None), 'learning_rate': FloatDistribution(high=0.1, log=True, low=0.01, step=None), 'max_depth': CategoricalDistribution(choices=(1, 30))}, trial_id=14, value=None), FrozenTrial(number=15, state=TrialState.COMPLETE, values=[0.8063955361430218], datetime_start=datetime.datetime(2023, 6, 27, 12, 53, 23, 487328), datetime_complete=datetime.datetime(2023, 6, 27, 12, 53, 23, 548166), params={'reg_alpha': 5.138623598127371, 'reg_lambda': 6.462036659639244, 'learning_rate': 0.023441414664558995, 'max_depth': 30}, user_attrs={}, system_attrs={}, intermediate_values={}, distributions={'reg_alpha': FloatDistribution(high=10.0, log=False, low=0.01, step=None), 'reg_lambda': FloatDistribution(high=10.0, log=False, low=0.01, step=None), 'learning_rate': FloatDistribution(high=0.1, log=True, low=0.01, step=None), 'max_depth': CategoricalDistribution(choices=(1, 30))}, trial_id=15, value=None), FrozenTrial(number=16, state=TrialState.COMPLETE, values=[0.8077348138146911], datetime_start=datetime.datetime(2023, 6, 27, 12, 53, 23, 549163), datetime_complete=datetime.datetime(2023, 6, 27, 12, 53, 23, 609004), params={'reg_alpha': 7.7668310859235685, 'reg_lambda': 4.151485645061275, 'learning_rate': 0.034578922956321236, 'max_depth': 30}, user_attrs={}, system_attrs={}, intermediate_values={}, distributions={'reg_alpha': FloatDistribution(high=10.0, log=False, low=0.01, step=None), 'reg_lambda': FloatDistribution(high=10.0, log=False, low=0.01, step=None), 'learning_rate': FloatDistribution(high=0.1, log=True, low=0.01, step=None), 'max_depth': CategoricalDistribution(choices=(1, 30))}, trial_id=16, value=None), FrozenTrial(number=17, state=TrialState.COMPLETE, values=[0.8040346385597765], datetime_start=datetime.datetime(2023, 6, 27, 12, 53, 23, 610000), datetime_complete=datetime.datetime(2023, 6, 27, 12, 53, 23, 657872), params={'reg_alpha': 5.5528670190109555, 'reg_lambda': 2.264380129740174, 'learning_rate': 0.041142524638408645, 'max_depth': 30}, user_attrs={}, system_attrs={}, intermediate_values={}, distributions={'reg_alpha': FloatDistribution(high=10.0, log=False, low=0.01, step=None), 'reg_lambda': FloatDistribution(high=10.0, log=False, low=0.01, step=None), 'learning_rate': FloatDistribution(high=0.1, log=True, low=0.01, step=None), 'max_depth': CategoricalDistribution(choices=(1, 30))}, trial_id=17, value=None), FrozenTrial(number=18, state=TrialState.COMPLETE, values=[0.8183059820442089], datetime_start=datetime.datetime(2023, 6, 27, 12, 53, 23, 659867), datetime_complete=datetime.datetime(2023, 6, 27, 12, 53, 23, 688790), params={'reg_alpha': 4.533415218355115, 'reg_lambda': 1.7869553595209573, 'learning_rate': 0.0586180600420257, 'max_depth': 1}, user_attrs={}, system_attrs={}, intermediate_values={}, distributions={'reg_alpha': FloatDistribution(high=10.0, log=False, low=0.01, step=None), 'reg_lambda': FloatDistribution(high=10.0, log=False, low=0.01, step=None), 'learning_rate': FloatDistribution(high=0.1, log=True, low=0.01, step=None), 'max_depth': CategoricalDistribution(choices=(1, 30))}, trial_id=18, value=None), FrozenTrial(number=19, state=TrialState.COMPLETE, values=[0.807469993216982], datetime_start=datetime.datetime(2023, 6, 27, 12, 53, 23, 689786), datetime_complete=datetime.datetime(2023, 6, 27, 12, 53, 23, 737659), params={'reg_alpha': 7.087084829939299, 'reg_lambda': 3.0730332171534473, 'learning_rate': 0.04314788281984475, 'max_depth': 30}, user_attrs={}, system_attrs={}, intermediate_values={}, distributions={'reg_alpha': FloatDistribution(high=10.0, log=False, low=0.01, step=None), 'reg_lambda': FloatDistribution(high=10.0, log=False, low=0.01, step=None), 'learning_rate': FloatDistribution(high=0.1, log=True, low=0.01, step=None), 'max_depth': CategoricalDistribution(choices=(1, 30))}, trial_id=19, value=None), FrozenTrial(number=20, state=TrialState.COMPLETE, values=[0.808405609360248], datetime_start=datetime.datetime(2023, 6, 27, 12, 53, 23, 738657), datetime_complete=datetime.datetime(2023, 6, 27, 12, 53, 23, 788523), params={'reg_alpha': 8.598953367652769, 'reg_lambda': 1.626076873872045, 'learning_rate': 0.03970186780948783, 'max_depth': 30}, user_attrs={}, system_attrs={}, intermediate_values={}, distributions={'reg_alpha': FloatDistribution(high=10.0, log=False, low=0.01, step=None), 'reg_lambda': FloatDistribution(high=10.0, log=False, low=0.01, step=None), 'learning_rate': FloatDistribution(high=0.1, log=True, low=0.01, step=None), 'max_depth': CategoricalDistribution(choices=(1, 30))}, trial_id=20, value=None), FrozenTrial(number=21, state=TrialState.COMPLETE, values=[0.8059621234142438], datetime_start=datetime.datetime(2023, 6, 27, 12, 53, 23, 789520), datetime_complete=datetime.datetime(2023, 6, 27, 12, 53, 23, 847366), params={'reg_alpha': 5.762892090973243, 'reg_lambda': 4.170279212598636, 'learning_rate': 0.02913557509512548, 'max_depth': 30}, user_attrs={}, system_attrs={}, intermediate_values={}, distributions={'reg_alpha': FloatDistribution(high=10.0, log=False, low=0.01, step=None), 'reg_lambda': FloatDistribution(high=10.0, log=False, low=0.01, step=None), 'learning_rate': FloatDistribution(high=0.1, log=True, low=0.01, step=None), 'max_depth': CategoricalDistribution(choices=(1, 30))}, trial_id=21, value=None), FrozenTrial(number=22, state=TrialState.COMPLETE, values=[0.803996583254859], datetime_start=datetime.datetime(2023, 6, 27, 12, 53, 23, 848363), datetime_complete=datetime.datetime(2023, 6, 27, 12, 53, 23, 898230), params={'reg_alpha': 5.653315561036307, 'reg_lambda': 2.5346275516356283, 'learning_rate': 0.0343643073226431, 'max_depth': 30}, user_attrs={}, system_attrs={}, intermediate_values={}, distributions={'reg_alpha': FloatDistribution(high=10.0, log=False, low=0.01, step=None), 'reg_lambda': FloatDistribution(high=10.0, log=False, low=0.01, step=None), 'learning_rate': FloatDistribution(high=0.1, log=True, low=0.01, step=None), 'max_depth': CategoricalDistribution(choices=(1, 30))}, trial_id=22, value=None), FrozenTrial(number=23, state=TrialState.COMPLETE, values=[0.80264984255662], datetime_start=datetime.datetime(2023, 6, 27, 12, 53, 23, 900224), datetime_complete=datetime.datetime(2023, 6, 27, 12, 53, 23, 951088), params={'reg_alpha': 4.246824274236186, 'reg_lambda': 2.52642594180996, 'learning_rate': 0.035495262811948, 'max_depth': 30}, user_attrs={}, system_attrs={}, intermediate_values={}, distributions={'reg_alpha': FloatDistribution(high=10.0, log=False, low=0.01, step=None), 'reg_lambda': FloatDistribution(high=10.0, log=False, low=0.01, step=None), 'learning_rate': FloatDistribution(high=0.1, log=True, low=0.01, step=None), 'max_depth': CategoricalDistribution(choices=(1, 30))}, trial_id=23, value=None), FrozenTrial(number=24, state=TrialState.COMPLETE, values=[0.8046497051727621], datetime_start=datetime.datetime(2023, 6, 27, 12, 53, 23, 952086), datetime_complete=datetime.datetime(2023, 6, 27, 12, 53, 24, 70769), params={'reg_alpha': 4.215686151211278, 'reg_lambda': 1.0229740508392706, 'learning_rate': 0.03241951614261986, 'max_depth': 30}, user_attrs={}, system_attrs={}, intermediate_values={}, distributions={'reg_alpha': FloatDistribution(high=10.0, log=False, low=0.01, step=None), 'reg_lambda': FloatDistribution(high=10.0, log=False, low=0.01, step=None), 'learning_rate': FloatDistribution(high=0.1, log=True, low=0.01, step=None), 'max_depth': CategoricalDistribution(choices=(1, 30))}, trial_id=24, value=None), FrozenTrial(number=25, state=TrialState.COMPLETE, values=[0.8032383010370707], datetime_start=datetime.datetime(2023, 6, 27, 12, 53, 24, 73762), datetime_complete=datetime.datetime(2023, 6, 27, 12, 53, 24, 145570), params={'reg_alpha': 3.947744868063781, 'reg_lambda': 2.6073200463482427, 'learning_rate': 0.052623096693859735, 'max_depth': 30}, user_attrs={}, system_attrs={}, intermediate_values={}, distributions={'reg_alpha': FloatDistribution(high=10.0, log=False, low=0.01, step=None), 'reg_lambda': FloatDistribution(high=10.0, log=False, low=0.01, step=None), 'learning_rate': FloatDistribution(high=0.1, log=True, low=0.01, step=None), 'max_depth': CategoricalDistribution(choices=(1, 30))}, trial_id=25, value=None), FrozenTrial(number=26, state=TrialState.COMPLETE, values=[0.8174923029606498], datetime_start=datetime.datetime(2023, 6, 27, 12, 53, 24, 146567), datetime_complete=datetime.datetime(2023, 6, 27, 12, 53, 24, 210396), params={'reg_alpha': 4.021676831931764, 'reg_lambda': 2.971394568057778, 'learning_rate': 0.055948768548584014, 'max_depth': 1}, user_attrs={}, system_attrs={}, intermediate_values={}, distributions={'reg_alpha': FloatDistribution(high=10.0, log=False, low=0.01, step=None), 'reg_lambda': FloatDistribution(high=10.0, log=False, low=0.01, step=None), 'learning_rate': FloatDistribution(high=0.1, log=True, low=0.01, step=None), 'max_depth': CategoricalDistribution(choices=(1, 30))}, trial_id=26, value=None), FrozenTrial(number=27, state=TrialState.COMPLETE, values=[0.803686066722826], datetime_start=datetime.datetime(2023, 6, 27, 12, 53, 24, 212393), datetime_complete=datetime.datetime(2023, 6, 27, 12, 53, 24, 305142), params={'reg_alpha': 3.827104695405599, 'reg_lambda': 1.2424452990863513, 'learning_rate': 0.06782503921843672, 'max_depth': 30}, user_attrs={}, system_attrs={}, intermediate_values={}, distributions={'reg_alpha': FloatDistribution(high=10.0, log=False, low=0.01, step=None), 'reg_lambda': FloatDistribution(high=10.0, log=False, low=0.01, step=None), 'learning_rate': FloatDistribution(high=0.1, log=True, low=0.01, step=None), 'max_depth': CategoricalDistribution(choices=(1, 30))}, trial_id=27, value=None), FrozenTrial(number=28, state=TrialState.COMPLETE, values=[0.8063743472542709], datetime_start=datetime.datetime(2023, 6, 27, 12, 53, 24, 306140), datetime_complete=datetime.datetime(2023, 6, 27, 12, 53, 24, 360994), params={'reg_alpha': 3.59882514025694, 'reg_lambda': 1.2149625357765623, 'learning_rate': 0.06949987057907991, 'max_depth': 30}, user_attrs={}, system_attrs={}, intermediate_values={}, distributions={'reg_alpha': FloatDistribution(high=10.0, log=False, low=0.01, step=None), 'reg_lambda': FloatDistribution(high=10.0, log=False, low=0.01, step=None), 'learning_rate': FloatDistribution(high=0.1, log=True, low=0.01, step=None), 'max_depth': CategoricalDistribution(choices=(1, 30))}, trial_id=28, value=None), FrozenTrial(number=29, state=TrialState.COMPLETE, values=[0.808188114424403], datetime_start=datetime.datetime(2023, 6, 27, 12, 53, 24, 362988), datetime_complete=datetime.datetime(2023, 6, 27, 12, 53, 24, 437788), params={'reg_alpha': 3.4295865476649716, 'reg_lambda': 0.8867948045024665, 'learning_rate': 0.07052531154604628, 'max_depth': 30}, user_attrs={}, system_attrs={}, intermediate_values={}, distributions={'reg_alpha': FloatDistribution(high=10.0, log=False, low=0.01, step=None), 'reg_lambda': FloatDistribution(high=10.0, log=False, low=0.01, step=None), 'learning_rate': FloatDistribution(high=0.1, log=True, low=0.01, step=None), 'max_depth': CategoricalDistribution(choices=(1, 30))}, trial_id=29, value=None), FrozenTrial(number=30, state=TrialState.COMPLETE, values=[0.8027865846969342], datetime_start=datetime.datetime(2023, 6, 27, 12, 53, 24, 439783), datetime_complete=datetime.datetime(2023, 6, 27, 12, 53, 24, 504610), params={'reg_alpha': 4.687673112009766, 'reg_lambda': 1.9999392078624754, 'learning_rate': 0.05115100611147842, 'max_depth': 30}, user_attrs={}, system_attrs={}, intermediate_values={}, distributions={'reg_alpha': FloatDistribution(high=10.0, log=False, low=0.01, step=None), 'reg_lambda': FloatDistribution(high=10.0, log=False, low=0.01, step=None), 'learning_rate': FloatDistribution(high=0.1, log=True, low=0.01, step=None), 'max_depth': CategoricalDistribution(choices=(1, 30))}, trial_id=30, value=None), FrozenTrial(number=31, state=TrialState.COMPLETE, values=[0.8036739988865248], datetime_start=datetime.datetime(2023, 6, 27, 12, 53, 24, 507602), datetime_complete=datetime.datetime(2023, 6, 27, 12, 53, 24, 560553), params={'reg_alpha': 4.767215738387602, 'reg_lambda': 1.9956069744878597, 'learning_rate': 0.050098296808953044, 'max_depth': 30}, user_attrs={}, system_attrs={}, intermediate_values={}, distributions={'reg_alpha': FloatDistribution(high=10.0, log=False, low=0.01, step=None), 'reg_lambda': FloatDistribution(high=10.0, log=False, low=0.01, step=None), 'learning_rate': FloatDistribution(high=0.1, log=True, low=0.01, step=None), 'max_depth': CategoricalDistribution(choices=(1, 30))}, trial_id=31, value=None), FrozenTrial(number=32, state=TrialState.COMPLETE, values=[0.8040410577848451], datetime_start=datetime.datetime(2023, 6, 27, 12, 53, 24, 561550), datetime_complete=datetime.datetime(2023, 6, 27, 12, 53, 24, 624548), params={'reg_alpha': 4.85857730171874, 'reg_lambda': 2.0512552564440987, 'learning_rate': 0.04602893971483557, 'max_depth': 30}, user_attrs={}, system_attrs={}, intermediate_values={}, distributions={'reg_alpha': FloatDistribution(high=10.0, log=False, low=0.01, step=None), 'reg_lambda': FloatDistribution(high=10.0, log=False, low=0.01, step=None), 'learning_rate': FloatDistribution(high=0.1, log=True, low=0.01, step=None), 'max_depth': CategoricalDistribution(choices=(1, 30))}, trial_id=32, value=None), FrozenTrial(number=33, state=TrialState.COMPLETE, values=[0.8058595228130332], datetime_start=datetime.datetime(2023, 6, 27, 12, 53, 24, 625546), datetime_complete=datetime.datetime(2023, 6, 27, 12, 53, 24, 694521), params={'reg_alpha': 4.843977201798783, 'reg_lambda': 3.4109125945493384, 'learning_rate': 0.04923539339985597, 'max_depth': 30}, user_attrs={}, system_attrs={}, intermediate_values={}, distributions={'reg_alpha': FloatDistribution(high=10.0, log=False, low=0.01, step=None), 'reg_lambda': FloatDistribution(high=10.0, log=False, low=0.01, step=None), 'learning_rate': FloatDistribution(high=0.1, log=True, low=0.01, step=None), 'max_depth': CategoricalDistribution(choices=(1, 30))}, trial_id=33, value=None), FrozenTrial(number=34, state=TrialState.COMPLETE, values=[0.803822317690341], datetime_start=datetime.datetime(2023, 6, 27, 12, 53, 24, 696516), datetime_complete=datetime.datetime(2023, 6, 27, 12, 53, 24, 762009), params={'reg_alpha': 4.347513064355635, 'reg_lambda': 2.4651026386385433, 'learning_rate': 0.04935722990900526, 'max_depth': 30}, user_attrs={}, system_attrs={}, intermediate_values={}, distributions={'reg_alpha': FloatDistribution(high=10.0, log=False, low=0.01, step=None), 'reg_lambda': FloatDistribution(high=10.0, log=False, low=0.01, step=None), 'learning_rate': FloatDistribution(high=0.1, log=True, low=0.01, step=None), 'max_depth': CategoricalDistribution(choices=(1, 30))}, trial_id=34, value=None), FrozenTrial(number=35, state=TrialState.COMPLETE, values=[0.8074460225300624], datetime_start=datetime.datetime(2023, 6, 27, 12, 53, 24, 762522), datetime_complete=datetime.datetime(2023, 6, 27, 12, 53, 24, 830452), params={'reg_alpha': 2.7131194109324577, 'reg_lambda': 3.216449054767569, 'learning_rate': 0.058933729682030936, 'max_depth': 30}, user_attrs={}, system_attrs={}, intermediate_values={}, distributions={'reg_alpha': FloatDistribution(high=10.0, log=False, low=0.01, step=None), 'reg_lambda': FloatDistribution(high=10.0, log=False, low=0.01, step=None), 'learning_rate': FloatDistribution(high=0.1, log=True, low=0.01, step=None), 'max_depth': CategoricalDistribution(choices=(1, 30))}, trial_id=35, value=None), FrozenTrial(number=36, state=TrialState.COMPLETE, values=[0.818047924507462], datetime_start=datetime.datetime(2023, 6, 27, 12, 53, 24, 831967), datetime_complete=datetime.datetime(2023, 6, 27, 12, 53, 24, 873435), params={'reg_alpha': 5.347371095383014, 'reg_lambda': 2.568568044228549, 'learning_rate': 0.03857572043552486, 'max_depth': 1}, user_attrs={}, system_attrs={}, intermediate_values={}, distributions={'reg_alpha': FloatDistribution(high=10.0, log=False, low=0.01, step=None), 'reg_lambda': FloatDistribution(high=10.0, log=False, low=0.01, step=None), 'learning_rate': FloatDistribution(high=0.1, log=True, low=0.01, step=None), 'max_depth': CategoricalDistribution(choices=(1, 30))}, trial_id=36, value=None), FrozenTrial(number=37, state=TrialState.COMPLETE, values=[0.8090589525071923], datetime_start=datetime.datetime(2023, 6, 27, 12, 53, 24, 874433), datetime_complete=datetime.datetime(2023, 6, 27, 12, 53, 24, 932430), params={'reg_alpha': 3.3542854139104903, 'reg_lambda': 0.5462670043865827, 'learning_rate': 0.052344823149831396, 'max_depth': 30}, user_attrs={}, system_attrs={}, intermediate_values={}, distributions={'reg_alpha': FloatDistribution(high=10.0, log=False, low=0.01, step=None), 'reg_lambda': FloatDistribution(high=10.0, log=False, low=0.01, step=None), 'learning_rate': FloatDistribution(high=0.1, log=True, low=0.01, step=None), 'max_depth': CategoricalDistribution(choices=(1, 30))}, trial_id=37, value=None), FrozenTrial(number=38, state=TrialState.COMPLETE, values=[0.817369269783325], datetime_start=datetime.datetime(2023, 6, 27, 12, 53, 24, 934412), datetime_complete=datetime.datetime(2023, 6, 27, 12, 53, 24, 975378), params={'reg_alpha': 2.7131630304493384, 'reg_lambda': 1.6270974385062118, 'learning_rate': 0.043781791263809426, 'max_depth': 1}, user_attrs={}, system_attrs={}, intermediate_values={}, distributions={'reg_alpha': FloatDistribution(high=10.0, log=False, low=0.01, step=None), 'reg_lambda': FloatDistribution(high=10.0, log=False, low=0.01, step=None), 'learning_rate': FloatDistribution(high=0.1, log=True, low=0.01, step=None), 'max_depth': CategoricalDistribution(choices=(1, 30))}, trial_id=38, value=None), FrozenTrial(number=39, state=TrialState.COMPLETE, values=[0.804350871151419], datetime_start=datetime.datetime(2023, 6, 27, 12, 53, 24, 977374), datetime_complete=datetime.datetime(2023, 6, 27, 12, 53, 25, 67315), params={'reg_alpha': 4.438838420131254, 'reg_lambda': 2.138220655096229, 'learning_rate': 0.029660384735152978, 'max_depth': 30}, user_attrs={}, system_attrs={}, intermediate_values={}, distributions={'reg_alpha': FloatDistribution(high=10.0, log=False, low=0.01, step=None), 'reg_lambda': FloatDistribution(high=10.0, log=False, low=0.01, step=None), 'learning_rate': FloatDistribution(high=0.1, log=True, low=0.01, step=None), 'max_depth': CategoricalDistribution(choices=(1, 30))}, trial_id=39, value=None), FrozenTrial(number=40, state=TrialState.COMPLETE, values=[0.8195447059074872], datetime_start=datetime.datetime(2023, 6, 27, 12, 53, 25, 69310), datetime_complete=datetime.datetime(2023, 6, 27, 12, 53, 25, 136291), params={'reg_alpha': 2.0228654833372137, 'reg_lambda': 0.5945290896482309, 'learning_rate': 0.04482068896750439, 'max_depth': 30}, user_attrs={}, system_attrs={}, intermediate_values={}, distributions={'reg_alpha': FloatDistribution(high=10.0, log=False, low=0.01, step=None), 'reg_lambda': FloatDistribution(high=10.0, log=False, low=0.01, step=None), 'learning_rate': FloatDistribution(high=0.1, log=True, low=0.01, step=None), 'max_depth': CategoricalDistribution(choices=(1, 30))}, trial_id=40, value=None), FrozenTrial(number=41, state=TrialState.COMPLETE, values=[0.8033135452346805], datetime_start=datetime.datetime(2023, 6, 27, 12, 53, 25, 138287), datetime_complete=datetime.datetime(2023, 6, 27, 12, 53, 25, 194284), params={'reg_alpha': 4.041467300088956, 'reg_lambda': 1.3025918636897742, 'learning_rate': 0.06328426528357889, 'max_depth': 30}, user_attrs={}, system_attrs={}, intermediate_values={}, distributions={'reg_alpha': FloatDistribution(high=10.0, log=False, low=0.01, step=None), 'reg_lambda': FloatDistribution(high=10.0, log=False, low=0.01, step=None), 'learning_rate': FloatDistribution(high=0.1, log=True, low=0.01, step=None), 'max_depth': CategoricalDistribution(choices=(1, 30))}, trial_id=41, value=None), FrozenTrial(number=42, state=TrialState.COMPLETE, values=[0.8032036701259967], datetime_start=datetime.datetime(2023, 6, 27, 12, 53, 25, 196280), datetime_complete=datetime.datetime(2023, 6, 27, 12, 53, 25, 262294), params={'reg_alpha': 3.917524861524015, 'reg_lambda': 1.5395167482707683, 'learning_rate': 0.0535355064174999, 'max_depth': 30}, user_attrs={}, system_attrs={}, intermediate_values={}, distributions={'reg_alpha': FloatDistribution(high=10.0, log=False, low=0.01, step=None), 'reg_lambda': FloatDistribution(high=10.0, log=False, low=0.01, step=None), 'learning_rate': FloatDistribution(high=0.1, log=True, low=0.01, step=None), 'max_depth': CategoricalDistribution(choices=(1, 30))}, trial_id=42, value=None), FrozenTrial(number=43, state=TrialState.COMPLETE, values=[0.8051623266794082], datetime_start=datetime.datetime(2023, 6, 27, 12, 53, 25, 263283), datetime_complete=datetime.datetime(2023, 6, 27, 12, 53, 25, 323242), params={'reg_alpha': 3.8955524293817256, 'reg_lambda': 1.4824917660859986, 'learning_rate': 0.06335927682918215, 'max_depth': 30}, user_attrs={}, system_attrs={}, intermediate_values={}, distributions={'reg_alpha': FloatDistribution(high=10.0, log=False, low=0.01, step=None), 'reg_lambda': FloatDistribution(high=10.0, log=False, low=0.01, step=None), 'learning_rate': FloatDistribution(high=0.1, log=True, low=0.01, step=None), 'max_depth': CategoricalDistribution(choices=(1, 30))}, trial_id=43, value=None), FrozenTrial(number=44, state=TrialState.COMPLETE, values=[0.8060729728153502], datetime_start=datetime.datetime(2023, 6, 27, 12, 53, 25, 324239), datetime_complete=datetime.datetime(2023, 6, 27, 12, 53, 25, 386222), params={'reg_alpha': 3.1582103137739774, 'reg_lambda': 2.7778817589044467, 'learning_rate': 0.052872115172743595, 'max_depth': 30}, user_attrs={}, system_attrs={}, intermediate_values={}, distributions={'reg_alpha': FloatDistribution(high=10.0, log=False, low=0.01, step=None), 'reg_lambda': FloatDistribution(high=10.0, log=False, low=0.01, step=None), 'learning_rate': FloatDistribution(high=0.1, log=True, low=0.01, step=None), 'max_depth': CategoricalDistribution(choices=(1, 30))}, trial_id=44, value=None), FrozenTrial(number=45, state=TrialState.COMPLETE, values=[0.804386977194045], datetime_start=datetime.datetime(2023, 6, 27, 12, 53, 25, 388217), datetime_complete=datetime.datetime(2023, 6, 27, 12, 53, 25, 442212), params={'reg_alpha': 4.133368870832326, 'reg_lambda': 0.4421259561362727, 'learning_rate': 0.06318708176411347, 'max_depth': 30}, user_attrs={}, system_attrs={}, intermediate_values={}, distributions={'reg_alpha': FloatDistribution(high=10.0, log=False, low=0.01, step=None), 'reg_lambda': FloatDistribution(high=10.0, log=False, low=0.01, step=None), 'learning_rate': FloatDistribution(high=0.1, log=True, low=0.01, step=None), 'max_depth': CategoricalDistribution(choices=(1, 30))}, trial_id=45, value=None), FrozenTrial(number=46, state=TrialState.COMPLETE, values=[0.8051889185569443], datetime_start=datetime.datetime(2023, 6, 27, 12, 53, 25, 443200), datetime_complete=datetime.datetime(2023, 6, 27, 12, 53, 25, 496183), params={'reg_alpha': 5.247348971170943, 'reg_lambda': 1.346648914247981, 'learning_rate': 0.07673277848485133, 'max_depth': 30}, user_attrs={}, system_attrs={}, intermediate_values={}, distributions={'reg_alpha': FloatDistribution(high=10.0, log=False, low=0.01, step=None), 'reg_lambda': FloatDistribution(high=10.0, log=False, low=0.01, step=None), 'learning_rate': FloatDistribution(high=0.1, log=True, low=0.01, step=None), 'max_depth': CategoricalDistribution(choices=(1, 30))}, trial_id=46, value=None), FrozenTrial(number=47, state=TrialState.COMPLETE, values=[0.8180742186002842], datetime_start=datetime.datetime(2023, 6, 27, 12, 53, 25, 498178), datetime_complete=datetime.datetime(2023, 6, 27, 12, 53, 25, 539173), params={'reg_alpha': 3.6458617512711355, 'reg_lambda': 1.8899221111708238, 'learning_rate': 0.05554798915564175, 'max_depth': 1}, user_attrs={}, system_attrs={}, intermediate_values={}, distributions={'reg_alpha': FloatDistribution(high=10.0, log=False, low=0.01, step=None), 'reg_lambda': FloatDistribution(high=10.0, log=False, low=0.01, step=None), 'learning_rate': FloatDistribution(high=0.1, log=True, low=0.01, step=None), 'max_depth': CategoricalDistribution(choices=(1, 30))}, trial_id=47, value=None), FrozenTrial(number=48, state=TrialState.COMPLETE, values=[0.8043106295470807], datetime_start=datetime.datetime(2023, 6, 27, 12, 53, 25, 541685), datetime_complete=datetime.datetime(2023, 6, 27, 12, 53, 25, 623160), params={'reg_alpha': 6.099577863212113, 'reg_lambda': 2.5821992293423963, 'learning_rate': 0.03723680902824207, 'max_depth': 30}, user_attrs={}, system_attrs={}, intermediate_values={}, distributions={'reg_alpha': FloatDistribution(high=10.0, log=False, low=0.01, step=None), 'reg_lambda': FloatDistribution(high=10.0, log=False, low=0.01, step=None), 'learning_rate': FloatDistribution(high=0.1, log=True, low=0.01, step=None), 'max_depth': CategoricalDistribution(choices=(1, 30))}, trial_id=48, value=None), FrozenTrial(number=49, state=TrialState.COMPLETE, values=[0.8038248934258424], datetime_start=datetime.datetime(2023, 6, 27, 12, 53, 25, 625156), datetime_complete=datetime.datetime(2023, 6, 27, 12, 53, 25, 701642), params={'reg_alpha': 4.565339432357801, 'reg_lambda': 0.8038278668548973, 'learning_rate': 0.04177511621782855, 'max_depth': 30}, user_attrs={}, system_attrs={}, intermediate_values={}, distributions={'reg_alpha': FloatDistribution(high=10.0, log=False, low=0.01, step=None), 'reg_lambda': FloatDistribution(high=10.0, log=False, low=0.01, step=None), 'learning_rate': FloatDistribution(high=0.1, log=True, low=0.01, step=None), 'max_depth': CategoricalDistribution(choices=(1, 30))}, trial_id=49, value=None), FrozenTrial(number=50, state=TrialState.COMPLETE, values=[0.8103742271305096], datetime_start=datetime.datetime(2023, 6, 27, 12, 53, 25, 703145), datetime_complete=datetime.datetime(2023, 6, 27, 12, 53, 25, 771098), params={'reg_alpha': 2.9953371535669495, 'reg_lambda': 0.14431839247366485, 'learning_rate': 0.06109606945993779, 'max_depth': 30}, user_attrs={}, system_attrs={}, intermediate_values={}, distributions={'reg_alpha': FloatDistribution(high=10.0, log=False, low=0.01, step=None), 'reg_lambda': FloatDistribution(high=10.0, log=False, low=0.01, step=None), 'learning_rate': FloatDistribution(high=0.1, log=True, low=0.01, step=None), 'max_depth': CategoricalDistribution(choices=(1, 30))}, trial_id=50, value=None), FrozenTrial(number=51, state=TrialState.COMPLETE, values=[0.8050099359075616], datetime_start=datetime.datetime(2023, 6, 27, 12, 53, 25, 773122), datetime_complete=datetime.datetime(2023, 6, 27, 12, 53, 25, 834073), params={'reg_alpha': 4.863152163863592, 'reg_lambda': 2.2046364471759974, 'learning_rate': 0.05291619609142163, 'max_depth': 30}, user_attrs={}, system_attrs={}, intermediate_values={}, distributions={'reg_alpha': FloatDistribution(high=10.0, log=False, low=0.01, step=None), 'reg_lambda': FloatDistribution(high=10.0, log=False, low=0.01, step=None), 'learning_rate': FloatDistribution(high=0.1, log=True, low=0.01, step=None), 'max_depth': CategoricalDistribution(choices=(1, 30))}, trial_id=51, value=None), FrozenTrial(number=52, state=TrialState.COMPLETE, values=[0.8030583234194525], datetime_start=datetime.datetime(2023, 6, 27, 12, 53, 25, 835071), datetime_complete=datetime.datetime(2023, 6, 27, 12, 53, 25, 901028), params={'reg_alpha': 4.0811575628639725, 'reg_lambda': 1.8412075939387638, 'learning_rate': 0.04934489122134137, 'max_depth': 30}, user_attrs={}, system_attrs={}, intermediate_values={}, distributions={'reg_alpha': FloatDistribution(high=10.0, log=False, low=0.01, step=None), 'reg_lambda': FloatDistribution(high=10.0, log=False, low=0.01, step=None), 'learning_rate': FloatDistribution(high=0.1, log=True, low=0.01, step=None), 'max_depth': CategoricalDistribution(choices=(1, 30))}, trial_id=52, value=None), FrozenTrial(number=53, state=TrialState.COMPLETE, values=[0.8063194053666166], datetime_start=datetime.datetime(2023, 6, 27, 12, 53, 25, 902057), datetime_complete=datetime.datetime(2023, 6, 27, 12, 53, 25, 963021), params={'reg_alpha': 4.1674266782995515, 'reg_lambda': 1.5081106199998395, 'learning_rate': 0.046278977644108, 'max_depth': 30}, user_attrs={}, system_attrs={}, intermediate_values={}, distributions={'reg_alpha': FloatDistribution(high=10.0, log=False, low=0.01, step=None), 'reg_lambda': FloatDistribution(high=10.0, log=False, low=0.01, step=None), 'learning_rate': FloatDistribution(high=0.1, log=True, low=0.01, step=None), 'max_depth': CategoricalDistribution(choices=(1, 30))}, trial_id=53, value=None), FrozenTrial(number=54, state=TrialState.COMPLETE, values=[0.8051588443970646], datetime_start=datetime.datetime(2023, 6, 27, 12, 53, 25, 965015), datetime_complete=datetime.datetime(2023, 6, 27, 12, 53, 26, 13996), params={'reg_alpha': 3.920121956846691, 'reg_lambda': 1.0264156296946296, 'learning_rate': 0.05557489411847393, 'max_depth': 30}, user_attrs={}, system_attrs={}, intermediate_values={}, distributions={'reg_alpha': FloatDistribution(high=10.0, log=False, low=0.01, step=None), 'reg_lambda': FloatDistribution(high=10.0, log=False, low=0.01, step=None), 'learning_rate': FloatDistribution(high=0.1, log=True, low=0.01, step=None), 'max_depth': CategoricalDistribution(choices=(1, 30))}, trial_id=54, value=None), FrozenTrial(number=55, state=TrialState.COMPLETE, values=[0.803560796780682], datetime_start=datetime.datetime(2023, 6, 27, 12, 53, 26, 15991), datetime_complete=datetime.datetime(2023, 6, 27, 12, 53, 26, 77978), params={'reg_alpha': 5.192225765496938, 'reg_lambda': 2.9878837897788206, 'learning_rate': 0.03632306241835703, 'max_depth': 30}, user_attrs={}, system_attrs={}, intermediate_values={}, distributions={'reg_alpha': FloatDistribution(high=10.0, log=False, low=0.01, step=None), 'reg_lambda': FloatDistribution(high=10.0, log=False, low=0.01, step=None), 'learning_rate': FloatDistribution(high=0.1, log=True, low=0.01, step=None), 'max_depth': CategoricalDistribution(choices=(1, 30))}, trial_id=55, value=None), FrozenTrial(number=56, state=TrialState.COMPLETE, values=[0.8046309589613574], datetime_start=datetime.datetime(2023, 6, 27, 12, 53, 26, 78975), datetime_complete=datetime.datetime(2023, 6, 27, 12, 53, 26, 141451), params={'reg_alpha': 3.5668591419905966, 'reg_lambda': 1.703025324883543, 'learning_rate': 0.041678041507757724, 'max_depth': 30}, user_attrs={}, system_attrs={}, intermediate_values={}, distributions={'reg_alpha': FloatDistribution(high=10.0, log=False, low=0.01, step=None), 'reg_lambda': FloatDistribution(high=10.0, log=False, low=0.01, step=None), 'learning_rate': FloatDistribution(high=0.1, log=True, low=0.01, step=None), 'max_depth': CategoricalDistribution(choices=(1, 30))}, trial_id=56, value=None), FrozenTrial(number=57, state=TrialState.COMPLETE, values=[0.8055583781874656], datetime_start=datetime.datetime(2023, 6, 27, 12, 53, 26, 142955), datetime_complete=datetime.datetime(2023, 6, 27, 12, 53, 26, 198919), params={'reg_alpha': 4.634698020352518, 'reg_lambda': 3.825007842346081, 'learning_rate': 0.04710476348003438, 'max_depth': 30}, user_attrs={}, system_attrs={}, intermediate_values={}, distributions={'reg_alpha': FloatDistribution(high=10.0, log=False, low=0.01, step=None), 'reg_lambda': FloatDistribution(high=10.0, log=False, low=0.01, step=None), 'learning_rate': FloatDistribution(high=0.1, log=True, low=0.01, step=None), 'max_depth': CategoricalDistribution(choices=(1, 30))}, trial_id=57, value=None), FrozenTrial(number=58, state=TrialState.COMPLETE, values=[0.8183183372128069], datetime_start=datetime.datetime(2023, 6, 27, 12, 53, 26, 200913), datetime_complete=datetime.datetime(2023, 6, 27, 12, 53, 26, 234926), params={'reg_alpha': 4.379996038408622, 'reg_lambda': 2.3163838170941977, 'learning_rate': 0.0811176997689252, 'max_depth': 1}, user_attrs={}, system_attrs={}, intermediate_values={}, distributions={'reg_alpha': FloatDistribution(high=10.0, log=False, low=0.01, step=None), 'reg_lambda': FloatDistribution(high=10.0, log=False, low=0.01, step=None), 'learning_rate': FloatDistribution(high=0.1, log=True, low=0.01, step=None), 'max_depth': CategoricalDistribution(choices=(1, 30))}, trial_id=58, value=None), FrozenTrial(number=59, state=TrialState.COMPLETE, values=[0.8033951082243121], datetime_start=datetime.datetime(2023, 6, 27, 12, 53, 26, 236920), datetime_complete=datetime.datetime(2023, 6, 27, 12, 53, 26, 296904), params={'reg_alpha': 3.838913411851162, 'reg_lambda': 1.8509762341018525, 'learning_rate': 0.039697859956251524, 'max_depth': 30}, user_attrs={}, system_attrs={}, intermediate_values={}, distributions={'reg_alpha': FloatDistribution(high=10.0, log=False, low=0.01, step=None), 'reg_lambda': FloatDistribution(high=10.0, log=False, low=0.01, step=None), 'learning_rate': FloatDistribution(high=0.1, log=True, low=0.01, step=None), 'max_depth': CategoricalDistribution(choices=(1, 30))}, trial_id=59, value=None), FrozenTrial(number=60, state=TrialState.COMPLETE, values=[0.8034546719631037], datetime_start=datetime.datetime(2023, 6, 27, 12, 53, 26, 297901), datetime_complete=datetime.datetime(2023, 6, 27, 12, 53, 26, 348886), params={'reg_alpha': 5.598812662549312, 'reg_lambda': 1.2731327924228606, 'learning_rate': 0.058845172928315634, 'max_depth': 30}, user_attrs={}, system_attrs={}, intermediate_values={}, distributions={'reg_alpha': FloatDistribution(high=10.0, log=False, low=0.01, step=None), 'reg_lambda': FloatDistribution(high=10.0, log=False, low=0.01, step=None), 'learning_rate': FloatDistribution(high=0.1, log=True, low=0.01, step=None), 'max_depth': CategoricalDistribution(choices=(1, 30))}, trial_id=60, value=None), FrozenTrial(number=61, state=TrialState.COMPLETE, values=[0.8027028587377982], datetime_start=datetime.datetime(2023, 6, 27, 12, 53, 26, 350881), datetime_complete=datetime.datetime(2023, 6, 27, 12, 53, 26, 411373), params={'reg_alpha': 3.8281811643802124, 'reg_lambda': 1.8047712450264177, 'learning_rate': 0.0395645850151971, 'max_depth': 30}, user_attrs={}, system_attrs={}, intermediate_values={}, distributions={'reg_alpha': FloatDistribution(high=10.0, log=False, low=0.01, step=None), 'reg_lambda': FloatDistribution(high=10.0, log=False, low=0.01, step=None), 'learning_rate': FloatDistribution(high=0.1, log=True, low=0.01, step=None), 'max_depth': CategoricalDistribution(choices=(1, 30))}, trial_id=61, value=None), FrozenTrial(number=62, state=TrialState.COMPLETE, values=[0.8060996358100261], datetime_start=datetime.datetime(2023, 6, 27, 12, 53, 26, 412877), datetime_complete=datetime.datetime(2023, 6, 27, 12, 53, 26, 472838), params={'reg_alpha': 3.1970285196851855, 'reg_lambda': 2.7978751856116584, 'learning_rate': 0.043897883202427365, 'max_depth': 30}, user_attrs={}, system_attrs={}, intermediate_values={}, distributions={'reg_alpha': FloatDistribution(high=10.0, log=False, low=0.01, step=None), 'reg_lambda': FloatDistribution(high=10.0, log=False, low=0.01, step=None), 'learning_rate': FloatDistribution(high=0.1, log=True, low=0.01, step=None), 'max_depth': CategoricalDistribution(choices=(1, 30))}, trial_id=62, value=None), FrozenTrial(number=63, state=TrialState.COMPLETE, values=[0.8029933865387445], datetime_start=datetime.datetime(2023, 6, 27, 12, 53, 26, 474833), datetime_complete=datetime.datetime(2023, 6, 27, 12, 53, 26, 541308), params={'reg_alpha': 4.125440535661462, 'reg_lambda': 2.2192790227606376, 'learning_rate': 0.03470351360921099, 'max_depth': 30}, user_attrs={}, system_attrs={}, intermediate_values={}, distributions={'reg_alpha': FloatDistribution(high=10.0, log=False, low=0.01, step=None), 'reg_lambda': FloatDistribution(high=10.0, log=False, low=0.01, step=None), 'learning_rate': FloatDistribution(high=0.1, log=True, low=0.01, step=None), 'max_depth': CategoricalDistribution(choices=(1, 30))}, trial_id=63, value=None), FrozenTrial(number=64, state=TrialState.COMPLETE, values=[0.8036172778095532], datetime_start=datetime.datetime(2023, 6, 27, 12, 53, 26, 542811), datetime_complete=datetime.datetime(2023, 6, 27, 12, 53, 26, 629856), params={'reg_alpha': 4.416391197643648, 'reg_lambda': 2.369044218500224, 'learning_rate': 0.033427785204230016, 'max_depth': 30}, user_attrs={}, system_attrs={}, intermediate_values={}, distributions={'reg_alpha': FloatDistribution(high=10.0, log=False, low=0.01, step=None), 'reg_lambda': FloatDistribution(high=10.0, log=False, low=0.01, step=None), 'learning_rate': FloatDistribution(high=0.1, log=True, low=0.01, step=None), 'max_depth': CategoricalDistribution(choices=(1, 30))}, trial_id=64, value=None), FrozenTrial(number=65, state=TrialState.COMPLETE, values=[0.8034908575962876], datetime_start=datetime.datetime(2023, 6, 27, 12, 53, 26, 631889), datetime_complete=datetime.datetime(2023, 6, 27, 12, 53, 26, 777925), params={'reg_alpha': 3.5725513081703237, 'reg_lambda': 3.2426833985950623, 'learning_rate': 0.03662580032960595, 'max_depth': 30}, user_attrs={}, system_attrs={}, intermediate_values={}, distributions={'reg_alpha': FloatDistribution(high=10.0, log=False, low=0.01, step=None), 'reg_lambda': FloatDistribution(high=10.0, log=False, low=0.01, step=None), 'learning_rate': FloatDistribution(high=0.1, log=True, low=0.01, step=None), 'max_depth': CategoricalDistribution(choices=(1, 30))}, trial_id=65, value=None), FrozenTrial(number=66, state=TrialState.COMPLETE, values=[0.8046363793503547], datetime_start=datetime.datetime(2023, 6, 27, 12, 53, 26, 779920), datetime_complete=datetime.datetime(2023, 6, 27, 12, 53, 26, 856949), params={'reg_alpha': 5.049625704443952, 'reg_lambda': 1.961370451670531, 'learning_rate': 0.03125468473068843, 'max_depth': 30}, user_attrs={}, system_attrs={}, intermediate_values={}, distributions={'reg_alpha': FloatDistribution(high=10.0, log=False, low=0.01, step=None), 'reg_lambda': FloatDistribution(high=10.0, log=False, low=0.01, step=None), 'learning_rate': FloatDistribution(high=0.1, log=True, low=0.01, step=None), 'max_depth': CategoricalDistribution(choices=(1, 30))}, trial_id=66, value=None), FrozenTrial(number=67, state=TrialState.COMPLETE, values=[0.8070388341247489], datetime_start=datetime.datetime(2023, 6, 27, 12, 53, 26, 858944), datetime_complete=datetime.datetime(2023, 6, 27, 12, 53, 26, 931988), params={'reg_alpha': 2.916507985598954, 'reg_lambda': 2.79354950176238, 'learning_rate': 0.03530321191824046, 'max_depth': 30}, user_attrs={}, system_attrs={}, intermediate_values={}, distributions={'reg_alpha': FloatDistribution(high=10.0, log=False, low=0.01, step=None), 'reg_lambda': FloatDistribution(high=10.0, log=False, low=0.01, step=None), 'learning_rate': FloatDistribution(high=0.1, log=True, low=0.01, step=None), 'max_depth': CategoricalDistribution(choices=(1, 30))}, trial_id=67, value=None), FrozenTrial(number=68, state=TrialState.COMPLETE, values=[0.8037771890125412], datetime_start=datetime.datetime(2023, 6, 27, 12, 53, 26, 933970), datetime_complete=datetime.datetime(2023, 6, 27, 12, 53, 27, 18976), params={'reg_alpha': 4.670317650208225, 'reg_lambda': 2.23033441646728, 'learning_rate': 0.03981692831222066, 'max_depth': 30}, user_attrs={}, system_attrs={}, intermediate_values={}, distributions={'reg_alpha': FloatDistribution(high=10.0, log=False, low=0.01, step=None), 'reg_lambda': FloatDistribution(high=10.0, log=False, low=0.01, step=None), 'learning_rate': FloatDistribution(high=0.1, log=True, low=0.01, step=None), 'max_depth': CategoricalDistribution(choices=(1, 30))}, trial_id=68, value=None), FrozenTrial(number=69, state=TrialState.COMPLETE, values=[0.8042413295202029], datetime_start=datetime.datetime(2023, 6, 27, 12, 53, 27, 21495), datetime_complete=datetime.datetime(2023, 6, 27, 12, 53, 27, 99993), params={'reg_alpha': 4.128946959934015, 'reg_lambda': 3.5791657950991493, 'learning_rate': 0.047784196375700465, 'max_depth': 30}, user_attrs={}, system_attrs={}, intermediate_values={}, distributions={'reg_alpha': FloatDistribution(high=10.0, log=False, low=0.01, step=None), 'reg_lambda': FloatDistribution(high=10.0, log=False, low=0.01, step=None), 'learning_rate': FloatDistribution(high=0.1, log=True, low=0.01, step=None), 'max_depth': CategoricalDistribution(choices=(1, 30))}, trial_id=69, value=None), FrozenTrial(number=70, state=TrialState.COMPLETE, values=[0.817602776056499], datetime_start=datetime.datetime(2023, 6, 27, 12, 53, 27, 102024), datetime_complete=datetime.datetime(2023, 6, 27, 12, 53, 27, 159043), params={'reg_alpha': 5.408086147249902, 'reg_lambda': 1.710440029522851, 'learning_rate': 0.027416683567520944, 'max_depth': 1}, user_attrs={}, system_attrs={}, intermediate_values={}, distributions={'reg_alpha': FloatDistribution(high=10.0, log=False, low=0.01, step=None), 'reg_lambda': FloatDistribution(high=10.0, log=False, low=0.01, step=None), 'learning_rate': FloatDistribution(high=0.1, log=True, low=0.01, step=None), 'max_depth': CategoricalDistribution(choices=(1, 30))}, trial_id=70, value=None), FrozenTrial(number=71, state=TrialState.COMPLETE, values=[0.80581116849881], datetime_start=datetime.datetime(2023, 6, 27, 12, 53, 27, 161543), datetime_complete=datetime.datetime(2023, 6, 27, 12, 53, 27, 225089), params={'reg_alpha': 3.8202402690735053, 'reg_lambda': 1.0512241602625316, 'learning_rate': 0.05021968681891083, 'max_depth': 30}, user_attrs={}, system_attrs={}, intermediate_values={}, distributions={'reg_alpha': FloatDistribution(high=10.0, log=False, low=0.01, step=None), 'reg_lambda': FloatDistribution(high=10.0, log=False, low=0.01, step=None), 'learning_rate': FloatDistribution(high=0.1, log=True, low=0.01, step=None), 'max_depth': CategoricalDistribution(choices=(1, 30))}, trial_id=71, value=None), FrozenTrial(number=72, state=TrialState.COMPLETE, values=[0.804696423411756], datetime_start=datetime.datetime(2023, 6, 27, 12, 53, 27, 226086), datetime_complete=datetime.datetime(2023, 6, 27, 12, 53, 27, 297080), params={'reg_alpha': 3.331065365116141, 'reg_lambda': 1.5681562128699118, 'learning_rate': 0.04231889745156121, 'max_depth': 30}, user_attrs={}, system_attrs={}, intermediate_values={}, distributions={'reg_alpha': FloatDistribution(high=10.0, log=False, low=0.01, step=None), 'reg_lambda': FloatDistribution(high=10.0, log=False, low=0.01, step=None), 'learning_rate': FloatDistribution(high=0.1, log=True, low=0.01, step=None), 'max_depth': CategoricalDistribution(choices=(1, 30))}, trial_id=72, value=None), FrozenTrial(number=73, state=TrialState.COMPLETE, values=[0.8035029801330476], datetime_start=datetime.datetime(2023, 6, 27, 12, 53, 27, 299074), datetime_complete=datetime.datetime(2023, 6, 27, 12, 53, 27, 361084), params={'reg_alpha': 4.261199603982886, 'reg_lambda': 1.3744762825585424, 'learning_rate': 0.04537672709034069, 'max_depth': 30}, user_attrs={}, system_attrs={}, intermediate_values={}, distributions={'reg_alpha': FloatDistribution(high=10.0, log=False, low=0.01, step=None), 'reg_lambda': FloatDistribution(high=10.0, log=False, low=0.01, step=None), 'learning_rate': FloatDistribution(high=0.1, log=True, low=0.01, step=None), 'max_depth': CategoricalDistribution(choices=(1, 30))}, trial_id=73, value=None), FrozenTrial(number=74, state=TrialState.COMPLETE, values=[0.8039099463599888], datetime_start=datetime.datetime(2023, 6, 27, 12, 53, 27, 362119), datetime_complete=datetime.datetime(2023, 6, 27, 12, 53, 27, 426096), params={'reg_alpha': 4.9598399010784044, 'reg_lambda': 1.995522998988238, 'learning_rate': 0.053566235879743594, 'max_depth': 30}, user_attrs={}, system_attrs={}, intermediate_values={}, distributions={'reg_alpha': FloatDistribution(high=10.0, log=False, low=0.01, step=None), 'reg_lambda': FloatDistribution(high=10.0, log=False, low=0.01, step=None), 'learning_rate': FloatDistribution(high=0.1, log=True, low=0.01, step=None), 'max_depth': CategoricalDistribution(choices=(1, 30))}, trial_id=74, value=None), FrozenTrial(number=75, state=TrialState.COMPLETE, values=[0.8038682576142359], datetime_start=datetime.datetime(2023, 6, 27, 12, 53, 27, 427094), datetime_complete=datetime.datetime(2023, 6, 27, 12, 53, 27, 492132), params={'reg_alpha': 4.024292953459915, 'reg_lambda': 2.4893576349750144, 'learning_rate': 0.051394137272952084, 'max_depth': 30}, user_attrs={}, system_attrs={}, intermediate_values={}, distributions={'reg_alpha': FloatDistribution(high=10.0, log=False, low=0.01, step=None), 'reg_lambda': FloatDistribution(high=10.0, log=False, low=0.01, step=None), 'learning_rate': FloatDistribution(high=0.1, log=True, low=0.01, step=None), 'max_depth': CategoricalDistribution(choices=(1, 30))}, trial_id=75, value=None), FrozenTrial(number=76, state=TrialState.COMPLETE, values=[0.803266234878624], datetime_start=datetime.datetime(2023, 6, 27, 12, 53, 27, 493122), datetime_complete=datetime.datetime(2023, 6, 27, 12, 53, 27, 561105), params={'reg_alpha': 4.576462247888839, 'reg_lambda': 0.841606954870767, 'learning_rate': 0.038019044715080066, 'max_depth': 30}, user_attrs={}, system_attrs={}, intermediate_values={}, distributions={'reg_alpha': FloatDistribution(high=10.0, log=False, low=0.01, step=None), 'reg_lambda': FloatDistribution(high=10.0, log=False, low=0.01, step=None), 'learning_rate': FloatDistribution(high=0.1, log=True, low=0.01, step=None), 'max_depth': CategoricalDistribution(choices=(1, 30))}, trial_id=76, value=None), FrozenTrial(number=77, state=TrialState.COMPLETE, values=[0.8035286342206477], datetime_start=datetime.datetime(2023, 6, 27, 12, 53, 27, 562139), datetime_complete=datetime.datetime(2023, 6, 27, 12, 53, 27, 632138), params={'reg_alpha': 4.705849744896364, 'reg_lambda': 0.9575052696060857, 'learning_rate': 0.037818889408033136, 'max_depth': 30}, user_attrs={}, system_attrs={}, intermediate_values={}, distributions={'reg_alpha': FloatDistribution(high=10.0, log=False, low=0.01, step=None), 'reg_lambda': FloatDistribution(high=10.0, log=False, low=0.01, step=None), 'learning_rate': FloatDistribution(high=0.1, log=True, low=0.01, step=None), 'max_depth': CategoricalDistribution(choices=(1, 30))}, trial_id=77, value=None), FrozenTrial(number=78, state=TrialState.COMPLETE, values=[0.8041425915954308], datetime_start=datetime.datetime(2023, 6, 27, 12, 53, 27, 633127), datetime_complete=datetime.datetime(2023, 6, 27, 12, 53, 27, 708104), params={'reg_alpha': 3.6196925383268637, 'reg_lambda': 2.1961737325626105, 'learning_rate': 0.03390121799931551, 'max_depth': 30}, user_attrs={}, system_attrs={}, intermediate_values={}, distributions={'reg_alpha': FloatDistribution(high=10.0, log=False, low=0.01, step=None), 'reg_lambda': FloatDistribution(high=10.0, log=False, low=0.01, step=None), 'learning_rate': FloatDistribution(high=0.1, log=True, low=0.01, step=None), 'max_depth': CategoricalDistribution(choices=(1, 30))}, trial_id=78, value=None), FrozenTrial(number=79, state=TrialState.COMPLETE, values=[0.8038840072686944], datetime_start=datetime.datetime(2023, 6, 27, 12, 53, 27, 710099), datetime_complete=datetime.datetime(2023, 6, 27, 12, 53, 27, 782112), params={'reg_alpha': 4.4630193505455615, 'reg_lambda': 1.8213246540694428, 'learning_rate': 0.03189986170043657, 'max_depth': 30}, user_attrs={}, system_attrs={}, intermediate_values={}, distributions={'reg_alpha': FloatDistribution(high=10.0, log=False, low=0.01, step=None), 'reg_lambda': FloatDistribution(high=10.0, log=False, low=0.01, step=None), 'learning_rate': FloatDistribution(high=0.1, log=True, low=0.01, step=None), 'max_depth': CategoricalDistribution(choices=(1, 30))}, trial_id=79, value=None), FrozenTrial(number=80, state=TrialState.COMPLETE, values=[0.804145052080793], datetime_start=datetime.datetime(2023, 6, 27, 12, 53, 27, 783101), datetime_complete=datetime.datetime(2023, 6, 27, 12, 53, 27, 849082), params={'reg_alpha': 5.050288640206364, 'reg_lambda': 0.6470546876314244, 'learning_rate': 0.03995065839308006, 'max_depth': 30}, user_attrs={}, system_attrs={}, intermediate_values={}, distributions={'reg_alpha': FloatDistribution(high=10.0, log=False, low=0.01, step=None), 'reg_lambda': FloatDistribution(high=10.0, log=False, low=0.01, step=None), 'learning_rate': FloatDistribution(high=0.1, log=True, low=0.01, step=None), 'max_depth': CategoricalDistribution(choices=(1, 30))}, trial_id=80, value=None), FrozenTrial(number=81, state=TrialState.COMPLETE, values=[0.8036725993245246], datetime_start=datetime.datetime(2023, 6, 27, 12, 53, 27, 851077), datetime_complete=datetime.datetime(2023, 6, 27, 12, 53, 27, 914101), params={'reg_alpha': 4.114055584617872, 'reg_lambda': 1.195727687294748, 'learning_rate': 0.04400728071850118, 'max_depth': 30}, user_attrs={}, system_attrs={}, intermediate_values={}, distributions={'reg_alpha': FloatDistribution(high=10.0, log=False, low=0.01, step=None), 'reg_lambda': FloatDistribution(high=10.0, log=False, low=0.01, step=None), 'learning_rate': FloatDistribution(high=0.1, log=True, low=0.01, step=None), 'max_depth': CategoricalDistribution(choices=(1, 30))}, trial_id=81, value=None), FrozenTrial(number=82, state=TrialState.COMPLETE, values=[0.8030924248560314], datetime_start=datetime.datetime(2023, 6, 27, 12, 53, 27, 916095), datetime_complete=datetime.datetime(2023, 6, 27, 12, 53, 27, 979102), params={'reg_alpha': 3.864407706717358, 'reg_lambda': 1.4412534613162196, 'learning_rate': 0.046773560168719974, 'max_depth': 30}, user_attrs={}, system_attrs={}, intermediate_values={}, distributions={'reg_alpha': FloatDistribution(high=10.0, log=False, low=0.01, step=None), 'reg_lambda': FloatDistribution(high=10.0, log=False, low=0.01, step=None), 'learning_rate': FloatDistribution(high=0.1, log=True, low=0.01, step=None), 'max_depth': CategoricalDistribution(choices=(1, 30))}, trial_id=82, value=None), FrozenTrial(number=83, state=TrialState.COMPLETE, values=[0.8055865678953341], datetime_start=datetime.datetime(2023, 6, 27, 12, 53, 27, 981096), datetime_complete=datetime.datetime(2023, 6, 27, 12, 53, 28, 43137), params={'reg_alpha': 3.751204489507265, 'reg_lambda': 0.8128251148223111, 'learning_rate': 0.0464749778806901, 'max_depth': 30}, user_attrs={}, system_attrs={}, intermediate_values={}, distributions={'reg_alpha': FloatDistribution(high=10.0, log=False, low=0.01, step=None), 'reg_lambda': FloatDistribution(high=10.0, log=False, low=0.01, step=None), 'learning_rate': FloatDistribution(high=0.1, log=True, low=0.01, step=None), 'max_depth': CategoricalDistribution(choices=(1, 30))}, trial_id=83, value=None), FrozenTrial(number=84, state=TrialState.COMPLETE, values=[0.8051085057926867], datetime_start=datetime.datetime(2023, 6, 27, 12, 53, 28, 44135), datetime_complete=datetime.datetime(2023, 6, 27, 12, 53, 28, 120131), params={'reg_alpha': 3.3561665069792372, 'reg_lambda': 1.4717297203106012, 'learning_rate': 0.03550777532185816, 'max_depth': 30}, user_attrs={}, system_attrs={}, intermediate_values={}, distributions={'reg_alpha': FloatDistribution(high=10.0, log=False, low=0.01, step=None), 'reg_lambda': FloatDistribution(high=10.0, log=False, low=0.01, step=None), 'learning_rate': FloatDistribution(high=0.1, log=True, low=0.01, step=None), 'max_depth': CategoricalDistribution(choices=(1, 30))}, trial_id=84, value=None), FrozenTrial(number=85, state=TrialState.COMPLETE, values=[0.8033679664052747], datetime_start=datetime.datetime(2023, 6, 27, 12, 53, 28, 122158), datetime_complete=datetime.datetime(2023, 6, 27, 12, 53, 28, 230124), params={'reg_alpha': 4.276705443178161, 'reg_lambda': 2.692489429612767, 'learning_rate': 0.04924962696266861, 'max_depth': 30}, user_attrs={}, system_attrs={}, intermediate_values={}, distributions={'reg_alpha': FloatDistribution(high=10.0, log=False, low=0.01, step=None), 'reg_lambda': FloatDistribution(high=10.0, log=False, low=0.01, step=None), 'learning_rate': FloatDistribution(high=0.1, log=True, low=0.01, step=None), 'max_depth': CategoricalDistribution(choices=(1, 30))}, trial_id=85, value=None), FrozenTrial(number=86, state=TrialState.COMPLETE, values=[0.8173208181059576], datetime_start=datetime.datetime(2023, 6, 27, 12, 53, 28, 231655), datetime_complete=datetime.datetime(2023, 6, 27, 12, 53, 28, 275132), params={'reg_alpha': 4.705605864090372, 'reg_lambda': 2.072713453429616, 'learning_rate': 0.04238703400595458, 'max_depth': 1}, user_attrs={}, system_attrs={}, intermediate_values={}, distributions={'reg_alpha': FloatDistribution(high=10.0, log=False, low=0.01, step=None), 'reg_lambda': FloatDistribution(high=10.0, log=False, low=0.01, step=None), 'learning_rate': FloatDistribution(high=0.1, log=True, low=0.01, step=None), 'max_depth': CategoricalDistribution(choices=(1, 30))}, trial_id=86, value=None), FrozenTrial(number=87, state=TrialState.COMPLETE, values=[0.8034068118541549], datetime_start=datetime.datetime(2023, 6, 27, 12, 53, 28, 277128), datetime_complete=datetime.datetime(2023, 6, 27, 12, 53, 28, 345134), params={'reg_alpha': 3.9527172604267076, 'reg_lambda': 1.7635670011771107, 'learning_rate': 0.037573017507696725, 'max_depth': 30}, user_attrs={}, system_attrs={}, intermediate_values={}, distributions={'reg_alpha': FloatDistribution(high=10.0, log=False, low=0.01, step=None), 'reg_lambda': FloatDistribution(high=10.0, log=False, low=0.01, step=None), 'learning_rate': FloatDistribution(high=0.1, log=True, low=0.01, step=None), 'max_depth': CategoricalDistribution(choices=(1, 30))}, trial_id=87, value=None), FrozenTrial(number=88, state=TrialState.COMPLETE, values=[0.804477136553634], datetime_start=datetime.datetime(2023, 6, 27, 12, 53, 28, 346132), datetime_complete=datetime.datetime(2023, 6, 27, 12, 53, 28, 406112), params={'reg_alpha': 4.495711071752138, 'reg_lambda': 0.36642414619452834, 'learning_rate': 0.0562469055657373, 'max_depth': 30}, user_attrs={}, system_attrs={}, intermediate_values={}, distributions={'reg_alpha': FloatDistribution(high=10.0, log=False, low=0.01, step=None), 'reg_lambda': FloatDistribution(high=10.0, log=False, low=0.01, step=None), 'learning_rate': FloatDistribution(high=0.1, log=True, low=0.01, step=None), 'max_depth': CategoricalDistribution(choices=(1, 30))}, trial_id=88, value=None), FrozenTrial(number=89, state=TrialState.COMPLETE, values=[0.8054394144819411], datetime_start=datetime.datetime(2023, 6, 27, 12, 53, 28, 407109), datetime_complete=datetime.datetime(2023, 6, 27, 12, 53, 28, 478101), params={'reg_alpha': 3.7083034811480955, 'reg_lambda': 2.43392567528191, 'learning_rate': 0.04859061191774668, 'max_depth': 30}, user_attrs={}, system_attrs={}, intermediate_values={}, distributions={'reg_alpha': FloatDistribution(high=10.0, log=False, low=0.01, step=None), 'reg_lambda': FloatDistribution(high=10.0, log=False, low=0.01, step=None), 'learning_rate': FloatDistribution(high=0.1, log=True, low=0.01, step=None), 'max_depth': CategoricalDistribution(choices=(1, 30))}, trial_id=89, value=None), FrozenTrial(number=90, state=TrialState.COMPLETE, values=[0.8066654647228291], datetime_start=datetime.datetime(2023, 6, 27, 12, 53, 28, 480097), datetime_complete=datetime.datetime(2023, 6, 27, 12, 53, 28, 554095), params={'reg_alpha': 5.355857669979564, 'reg_lambda': 2.996833527308838, 'learning_rate': 0.04066785959234729, 'max_depth': 30}, user_attrs={}, system_attrs={}, intermediate_values={}, distributions={'reg_alpha': FloatDistribution(high=10.0, log=False, low=0.01, step=None), 'reg_lambda': FloatDistribution(high=10.0, log=False, low=0.01, step=None), 'learning_rate': FloatDistribution(high=0.1, log=True, low=0.01, step=None), 'max_depth': CategoricalDistribution(choices=(1, 30))}, trial_id=90, value=None), FrozenTrial(number=91, state=TrialState.COMPLETE, values=[0.8050524828098574], datetime_start=datetime.datetime(2023, 6, 27, 12, 53, 28, 555092), datetime_complete=datetime.datetime(2023, 6, 27, 12, 53, 28, 621572), params={'reg_alpha': 4.082124621410997, 'reg_lambda': 1.1528942367287516, 'learning_rate': 0.051389434325762096, 'max_depth': 30}, user_attrs={}, system_attrs={}, intermediate_values={}, distributions={'reg_alpha': FloatDistribution(high=10.0, log=False, low=0.01, step=None), 'reg_lambda': FloatDistribution(high=10.0, log=False, low=0.01, step=None), 'learning_rate': FloatDistribution(high=0.1, log=True, low=0.01, step=None), 'max_depth': CategoricalDistribution(choices=(1, 30))}, trial_id=91, value=None), FrozenTrial(number=92, state=TrialState.COMPLETE, values=[0.8036946293662938], datetime_start=datetime.datetime(2023, 6, 27, 12, 53, 28, 623076), datetime_complete=datetime.datetime(2023, 6, 27, 12, 53, 28, 684072), params={'reg_alpha': 3.491742812505329, 'reg_lambda': 1.4389670241076122, 'learning_rate': 0.05352140594660458, 'max_depth': 30}, user_attrs={}, system_attrs={}, intermediate_values={}, distributions={'reg_alpha': FloatDistribution(high=10.0, log=False, low=0.01, step=None), 'reg_lambda': FloatDistribution(high=10.0, log=False, low=0.01, step=None), 'learning_rate': FloatDistribution(high=0.1, log=True, low=0.01, step=None), 'max_depth': CategoricalDistribution(choices=(1, 30))}, trial_id=92, value=None), FrozenTrial(number=93, state=TrialState.COMPLETE, values=[0.8039164246975345], datetime_start=datetime.datetime(2023, 6, 27, 12, 53, 28, 685070), datetime_complete=datetime.datetime(2023, 6, 27, 12, 53, 28, 747064), params={'reg_alpha': 4.270030909017599, 'reg_lambda': 0.7947377528416478, 'learning_rate': 0.04495916414174317, 'max_depth': 30}, user_attrs={}, system_attrs={}, intermediate_values={}, distributions={'reg_alpha': FloatDistribution(high=10.0, log=False, low=0.01, step=None), 'reg_lambda': FloatDistribution(high=10.0, log=False, low=0.01, step=None), 'learning_rate': FloatDistribution(high=0.1, log=True, low=0.01, step=None), 'max_depth': CategoricalDistribution(choices=(1, 30))}, trial_id=93, value=None), FrozenTrial(number=94, state=TrialState.COMPLETE, values=[0.8018363585094409], datetime_start=datetime.datetime(2023, 6, 27, 12, 53, 28, 748060), datetime_complete=datetime.datetime(2023, 6, 27, 12, 53, 28, 805058), params={'reg_alpha': 4.8377793423263995, 'reg_lambda': 1.6721333302506851, 'learning_rate': 0.06089208435440014, 'max_depth': 30}, user_attrs={}, system_attrs={}, intermediate_values={}, distributions={'reg_alpha': FloatDistribution(high=10.0, log=False, low=0.01, step=None), 'reg_lambda': FloatDistribution(high=10.0, log=False, low=0.01, step=None), 'learning_rate': FloatDistribution(high=0.1, log=True, low=0.01, step=None), 'max_depth': CategoricalDistribution(choices=(1, 30))}, trial_id=94, value=None), FrozenTrial(number=95, state=TrialState.COMPLETE, values=[0.8046209771163875], datetime_start=datetime.datetime(2023, 6, 27, 12, 53, 28, 807053), datetime_complete=datetime.datetime(2023, 6, 27, 12, 53, 28, 863054), params={'reg_alpha': 4.88969376938157, 'reg_lambda': 1.6560966438123992, 'learning_rate': 0.059603870357400585, 'max_depth': 30}, user_attrs={}, system_attrs={}, intermediate_values={}, distributions={'reg_alpha': FloatDistribution(high=10.0, log=False, low=0.01, step=None), 'reg_lambda': FloatDistribution(high=10.0, log=False, low=0.01, step=None), 'learning_rate': FloatDistribution(high=0.1, log=True, low=0.01, step=None), 'max_depth': CategoricalDistribution(choices=(1, 30))}, trial_id=95, value=None), FrozenTrial(number=96, state=TrialState.COMPLETE, values=[0.8041788549378999], datetime_start=datetime.datetime(2023, 6, 27, 12, 53, 28, 864051), datetime_complete=datetime.datetime(2023, 6, 27, 12, 53, 28, 936038), params={'reg_alpha': 4.560187568103944, 'reg_lambda': 2.0352260706428718, 'learning_rate': 0.03823982936029143, 'max_depth': 30}, user_attrs={}, system_attrs={}, intermediate_values={}, distributions={'reg_alpha': FloatDistribution(high=10.0, log=False, low=0.01, step=None), 'reg_lambda': FloatDistribution(high=10.0, log=False, low=0.01, step=None), 'learning_rate': FloatDistribution(high=0.1, log=True, low=0.01, step=None), 'max_depth': CategoricalDistribution(choices=(1, 30))}, trial_id=96, value=None), FrozenTrial(number=97, state=TrialState.COMPLETE, values=[0.8039372186119746], datetime_start=datetime.datetime(2023, 6, 27, 12, 53, 28, 937035), datetime_complete=datetime.datetime(2023, 6, 27, 12, 53, 28, 993071), params={'reg_alpha': 5.130934067581326, 'reg_lambda': 2.30901757690607, 'learning_rate': 0.05618029908738706, 'max_depth': 30}, user_attrs={}, system_attrs={}, intermediate_values={}, distributions={'reg_alpha': FloatDistribution(high=10.0, log=False, low=0.01, step=None), 'reg_lambda': FloatDistribution(high=10.0, log=False, low=0.01, step=None), 'learning_rate': FloatDistribution(high=0.1, log=True, low=0.01, step=None), 'max_depth': CategoricalDistribution(choices=(1, 30))}, trial_id=97, value=None), FrozenTrial(number=98, state=TrialState.COMPLETE, values=[0.8041063057745653], datetime_start=datetime.datetime(2023, 6, 27, 12, 53, 28, 995066), datetime_complete=datetime.datetime(2023, 6, 27, 12, 53, 29, 55061), params={'reg_alpha': 3.8073454509133806, 'reg_lambda': 2.601107110328515, 'learning_rate': 0.04797745971750998, 'max_depth': 30}, user_attrs={}, system_attrs={}, intermediate_values={}, distributions={'reg_alpha': FloatDistribution(high=10.0, log=False, low=0.01, step=None), 'reg_lambda': FloatDistribution(high=10.0, log=False, low=0.01, step=None), 'learning_rate': FloatDistribution(high=0.1, log=True, low=0.01, step=None), 'max_depth': CategoricalDistribution(choices=(1, 30))}, trial_id=98, value=None), FrozenTrial(number=99, state=TrialState.COMPLETE, values=[0.8172915547758589], datetime_start=datetime.datetime(2023, 6, 27, 12, 53, 29, 56059), datetime_complete=datetime.datetime(2023, 6, 27, 12, 53, 29, 100039), params={'reg_alpha': 4.386742207758981, 'reg_lambda': 1.9416365818707413, 'learning_rate': 0.04304670719582354, 'max_depth': 1}, user_attrs={}, system_attrs={}, intermediate_values={}, distributions={'reg_alpha': FloatDistribution(high=10.0, log=False, low=0.01, step=None), 'reg_lambda': FloatDistribution(high=10.0, log=False, low=0.01, step=None), 'learning_rate': FloatDistribution(high=0.1, log=True, low=0.01, step=None), 'max_depth': CategoricalDistribution(choices=(1, 30))}, trial_id=99, value=None)]\n"
     ]
    }
   ],
   "source": [
    "print('튜닝 횟수 :', len(study.trials))\n",
    "print(\"-------------------\")\n",
    "print('Best param:', study.best_trial.params)\n",
    "print('Best param:', study.best_params)\n",
    "print(\"-------------------\")\n",
    "print('Best score:', study.best_trial.value)\n",
    "print(\"-------------------\")\n",
    "print('study.trials 전체 정보 :', study.trials)\n"
   ]
  },
  {
   "cell_type": "markdown",
   "id": "aa4536cb-550f-4902-8490-ba01b4a8295d",
   "metadata": {
    "tags": []
   },
   "source": [
    "## 스케일링 X\n",
    "* RMSE : 1.1463  -->  모델 최적화 :  0.8586"
   ]
  },
  {
   "cell_type": "code",
   "execution_count": 12,
   "id": "1f445240-f885-4545-8dd8-bd84bb115a16",
   "metadata": {
    "tags": []
   },
   "outputs": [],
   "source": [
    "X_train = train[['장중_긍정비율','장중_부정비율','장중_긍부정비율','장외_긍정비율','장외_부정비율','장외_긍부정비율']]\n",
    "y_train = train['등락률']\n",
    "X_test = test[['장중_긍정비율','장중_부정비율','장중_긍부정비율','장외_긍정비율','장외_부정비율','장외_긍부정비율']]\n",
    "y_test= test['등락률']"
   ]
  },
  {
   "cell_type": "markdown",
   "id": "30b885a9-48a4-4447-b2bb-f530b0819fd9",
   "metadata": {
    "tags": []
   },
   "source": [
    "Best param: {'reg_alpha': 6.967235245933871, 'reg_lambda': 1.3562544880457188, 'learning_rate': 0.09590960213297267, 'max_depth': 30}"
   ]
  },
  {
   "cell_type": "code",
   "execution_count": 18,
   "id": "b8f8ece0-430e-4969-9aed-0771f625d91d",
   "metadata": {
    "tags": []
   },
   "outputs": [
    {
     "name": "stdout",
     "output_type": "stream",
     "text": [
      "RMSE : 0.8586\n",
      "r2_score : 0.0201\n"
     ]
    }
   ],
   "source": [
    "from sklearn.metrics import r2_score\n",
    "xgb=XGBRegressor(random_state = 1, reg_alpha= 6.967235245933871, reg_lambda= 1.3562544880457188, learning_rate= 0.09590960213297267, max_depth= 30)\n",
    "xgb.fit(X_train,y_train)\n",
    "# print( xgb.coef_ )\n",
    "\n",
    "pred = xgb.predict(X_test)\n",
    "rmse = mean_squared_error(y_test, pred, squared=False)\n",
    "print(f\"RMSE : {rmse:.4f}\")\n",
    "r2_score = r2_score(y_test, pred)\n",
    "print(f\"r2_score : {r2_score:.4f}\")\n"
   ]
  },
  {
   "cell_type": "markdown",
   "id": "d2b41a27-b5d3-482b-9805-1ea4f89d2943",
   "metadata": {},
   "source": [
    "* 튜닝 횟수 : 100\n",
    "-------------------\n",
    "Best param: {'reg_alpha': 3.3717879362164433, 'reg_lambda': 7.717229908431166, 'learning_rate': 0.0774507280558759, 'max_depth': 30}\n",
    "Best param: {'reg_alpha': 3.3717879362164433, 'reg_lambda': 7.717229908431166, 'learning_rate': 0.0774507280558759, 'max_depth': 30}\n",
    "-------------------\n",
    "Best score: 0.8016964052882356"
   ]
  },
  {
   "cell_type": "markdown",
   "id": "05ee6dfb-1a9f-42ff-8bd7-bdca77abfb86",
   "metadata": {},
   "source": [
    "* RMSE : 0.8871"
   ]
  },
  {
   "cell_type": "code",
   "execution_count": 14,
   "id": "bd073e4a-28c2-439b-8a05-9f9901cfba68",
   "metadata": {
    "tags": []
   },
   "outputs": [
    {
     "name": "stdout",
     "output_type": "stream",
     "text": [
      "RMSE : 0.8871\n"
     ]
    }
   ],
   "source": [
    "xgb=XGBRegressor(random_state = 1, reg_alpha= 3.3717879362164433, reg_lambda= 7.717229908431166, learning_rate= 0.0774507280558759, max_depth= 30)\n",
    "xgb.fit(X_train,y_train)\n",
    "# print( xgb.coef_ )\n",
    "\n",
    "pred = xgb.predict(X_test)\n",
    "rmse = mean_squared_error(y_test, pred, squared=False)\n",
    "print(f\"RMSE : {rmse:.4f}\")"
   ]
  },
  {
   "cell_type": "markdown",
   "id": "7c13648d-f527-45e3-83f8-60136606450f",
   "metadata": {},
   "source": [
    "## 로그 스케일링\n",
    "* RMSE : 1.2358 -->  모델최적화 RMSE : 0.9212"
   ]
  },
  {
   "cell_type": "code",
   "execution_count": 15,
   "id": "4304011c-c89e-4c93-9899-e2a7135f441b",
   "metadata": {
    "tags": []
   },
   "outputs": [
    {
     "ename": "FileNotFoundError",
     "evalue": "[Errno 2] No such file or directory: '../Chat NBT/data/traindf.csv'",
     "output_type": "error",
     "traceback": [
      "\u001b[1;31m---------------------------------------------------------------------------\u001b[0m",
      "\u001b[1;31mFileNotFoundError\u001b[0m                         Traceback (most recent call last)",
      "Cell \u001b[1;32mIn[15], line 1\u001b[0m\n\u001b[1;32m----> 1\u001b[0m train \u001b[38;5;241m=\u001b[39m \u001b[43mpd\u001b[49m\u001b[38;5;241;43m.\u001b[39;49m\u001b[43mread_csv\u001b[49m\u001b[43m(\u001b[49m\u001b[38;5;124;43m'\u001b[39;49m\u001b[38;5;124;43m../Chat NBT/data/traindf.csv\u001b[39;49m\u001b[38;5;124;43m'\u001b[39;49m\u001b[43m)\u001b[49m\n\u001b[0;32m      2\u001b[0m test \u001b[38;5;241m=\u001b[39m pd\u001b[38;5;241m.\u001b[39mread_csv(\u001b[38;5;124m'\u001b[39m\u001b[38;5;124m../Chat NBT/data/testdf.csv\u001b[39m\u001b[38;5;124m'\u001b[39m)\n\u001b[0;32m      3\u001b[0m train \u001b[38;5;241m=\u001b[39m train\u001b[38;5;241m.\u001b[39mrename(columns\u001b[38;5;241m=\u001b[39m{\u001b[38;5;124m'\u001b[39m\u001b[38;5;124mUnnamed: 0\u001b[39m\u001b[38;5;124m'\u001b[39m:\u001b[38;5;124m'\u001b[39m\u001b[38;5;124m날짜\u001b[39m\u001b[38;5;124m'\u001b[39m})\n",
      "File \u001b[1;32mC:\\AI\\pythonProject\\venv\\lib\\site-packages\\pandas\\util\\_decorators.py:211\u001b[0m, in \u001b[0;36mdeprecate_kwarg.<locals>._deprecate_kwarg.<locals>.wrapper\u001b[1;34m(*args, **kwargs)\u001b[0m\n\u001b[0;32m    209\u001b[0m     \u001b[38;5;28;01melse\u001b[39;00m:\n\u001b[0;32m    210\u001b[0m         kwargs[new_arg_name] \u001b[38;5;241m=\u001b[39m new_arg_value\n\u001b[1;32m--> 211\u001b[0m \u001b[38;5;28;01mreturn\u001b[39;00m \u001b[43mfunc\u001b[49m\u001b[43m(\u001b[49m\u001b[38;5;241;43m*\u001b[39;49m\u001b[43margs\u001b[49m\u001b[43m,\u001b[49m\u001b[43m \u001b[49m\u001b[38;5;241;43m*\u001b[39;49m\u001b[38;5;241;43m*\u001b[39;49m\u001b[43mkwargs\u001b[49m\u001b[43m)\u001b[49m\n",
      "File \u001b[1;32mC:\\AI\\pythonProject\\venv\\lib\\site-packages\\pandas\\util\\_decorators.py:331\u001b[0m, in \u001b[0;36mdeprecate_nonkeyword_arguments.<locals>.decorate.<locals>.wrapper\u001b[1;34m(*args, **kwargs)\u001b[0m\n\u001b[0;32m    325\u001b[0m \u001b[38;5;28;01mif\u001b[39;00m \u001b[38;5;28mlen\u001b[39m(args) \u001b[38;5;241m>\u001b[39m num_allow_args:\n\u001b[0;32m    326\u001b[0m     warnings\u001b[38;5;241m.\u001b[39mwarn(\n\u001b[0;32m    327\u001b[0m         msg\u001b[38;5;241m.\u001b[39mformat(arguments\u001b[38;5;241m=\u001b[39m_format_argument_list(allow_args)),\n\u001b[0;32m    328\u001b[0m         \u001b[38;5;167;01mFutureWarning\u001b[39;00m,\n\u001b[0;32m    329\u001b[0m         stacklevel\u001b[38;5;241m=\u001b[39mfind_stack_level(),\n\u001b[0;32m    330\u001b[0m     )\n\u001b[1;32m--> 331\u001b[0m \u001b[38;5;28;01mreturn\u001b[39;00m \u001b[43mfunc\u001b[49m\u001b[43m(\u001b[49m\u001b[38;5;241;43m*\u001b[39;49m\u001b[43margs\u001b[49m\u001b[43m,\u001b[49m\u001b[43m \u001b[49m\u001b[38;5;241;43m*\u001b[39;49m\u001b[38;5;241;43m*\u001b[39;49m\u001b[43mkwargs\u001b[49m\u001b[43m)\u001b[49m\n",
      "File \u001b[1;32mC:\\AI\\pythonProject\\venv\\lib\\site-packages\\pandas\\io\\parsers\\readers.py:950\u001b[0m, in \u001b[0;36mread_csv\u001b[1;34m(filepath_or_buffer, sep, delimiter, header, names, index_col, usecols, squeeze, prefix, mangle_dupe_cols, dtype, engine, converters, true_values, false_values, skipinitialspace, skiprows, skipfooter, nrows, na_values, keep_default_na, na_filter, verbose, skip_blank_lines, parse_dates, infer_datetime_format, keep_date_col, date_parser, dayfirst, cache_dates, iterator, chunksize, compression, thousands, decimal, lineterminator, quotechar, quoting, doublequote, escapechar, comment, encoding, encoding_errors, dialect, error_bad_lines, warn_bad_lines, on_bad_lines, delim_whitespace, low_memory, memory_map, float_precision, storage_options)\u001b[0m\n\u001b[0;32m    935\u001b[0m kwds_defaults \u001b[38;5;241m=\u001b[39m _refine_defaults_read(\n\u001b[0;32m    936\u001b[0m     dialect,\n\u001b[0;32m    937\u001b[0m     delimiter,\n\u001b[1;32m   (...)\u001b[0m\n\u001b[0;32m    946\u001b[0m     defaults\u001b[38;5;241m=\u001b[39m{\u001b[38;5;124m\"\u001b[39m\u001b[38;5;124mdelimiter\u001b[39m\u001b[38;5;124m\"\u001b[39m: \u001b[38;5;124m\"\u001b[39m\u001b[38;5;124m,\u001b[39m\u001b[38;5;124m\"\u001b[39m},\n\u001b[0;32m    947\u001b[0m )\n\u001b[0;32m    948\u001b[0m kwds\u001b[38;5;241m.\u001b[39mupdate(kwds_defaults)\n\u001b[1;32m--> 950\u001b[0m \u001b[38;5;28;01mreturn\u001b[39;00m \u001b[43m_read\u001b[49m\u001b[43m(\u001b[49m\u001b[43mfilepath_or_buffer\u001b[49m\u001b[43m,\u001b[49m\u001b[43m \u001b[49m\u001b[43mkwds\u001b[49m\u001b[43m)\u001b[49m\n",
      "File \u001b[1;32mC:\\AI\\pythonProject\\venv\\lib\\site-packages\\pandas\\io\\parsers\\readers.py:605\u001b[0m, in \u001b[0;36m_read\u001b[1;34m(filepath_or_buffer, kwds)\u001b[0m\n\u001b[0;32m    602\u001b[0m _validate_names(kwds\u001b[38;5;241m.\u001b[39mget(\u001b[38;5;124m\"\u001b[39m\u001b[38;5;124mnames\u001b[39m\u001b[38;5;124m\"\u001b[39m, \u001b[38;5;28;01mNone\u001b[39;00m))\n\u001b[0;32m    604\u001b[0m \u001b[38;5;66;03m# Create the parser.\u001b[39;00m\n\u001b[1;32m--> 605\u001b[0m parser \u001b[38;5;241m=\u001b[39m \u001b[43mTextFileReader\u001b[49m\u001b[43m(\u001b[49m\u001b[43mfilepath_or_buffer\u001b[49m\u001b[43m,\u001b[49m\u001b[43m \u001b[49m\u001b[38;5;241;43m*\u001b[39;49m\u001b[38;5;241;43m*\u001b[39;49m\u001b[43mkwds\u001b[49m\u001b[43m)\u001b[49m\n\u001b[0;32m    607\u001b[0m \u001b[38;5;28;01mif\u001b[39;00m chunksize \u001b[38;5;129;01mor\u001b[39;00m iterator:\n\u001b[0;32m    608\u001b[0m     \u001b[38;5;28;01mreturn\u001b[39;00m parser\n",
      "File \u001b[1;32mC:\\AI\\pythonProject\\venv\\lib\\site-packages\\pandas\\io\\parsers\\readers.py:1442\u001b[0m, in \u001b[0;36mTextFileReader.__init__\u001b[1;34m(self, f, engine, **kwds)\u001b[0m\n\u001b[0;32m   1439\u001b[0m     \u001b[38;5;28mself\u001b[39m\u001b[38;5;241m.\u001b[39moptions[\u001b[38;5;124m\"\u001b[39m\u001b[38;5;124mhas_index_names\u001b[39m\u001b[38;5;124m\"\u001b[39m] \u001b[38;5;241m=\u001b[39m kwds[\u001b[38;5;124m\"\u001b[39m\u001b[38;5;124mhas_index_names\u001b[39m\u001b[38;5;124m\"\u001b[39m]\n\u001b[0;32m   1441\u001b[0m \u001b[38;5;28mself\u001b[39m\u001b[38;5;241m.\u001b[39mhandles: IOHandles \u001b[38;5;241m|\u001b[39m \u001b[38;5;28;01mNone\u001b[39;00m \u001b[38;5;241m=\u001b[39m \u001b[38;5;28;01mNone\u001b[39;00m\n\u001b[1;32m-> 1442\u001b[0m \u001b[38;5;28mself\u001b[39m\u001b[38;5;241m.\u001b[39m_engine \u001b[38;5;241m=\u001b[39m \u001b[38;5;28;43mself\u001b[39;49m\u001b[38;5;241;43m.\u001b[39;49m\u001b[43m_make_engine\u001b[49m\u001b[43m(\u001b[49m\u001b[43mf\u001b[49m\u001b[43m,\u001b[49m\u001b[43m \u001b[49m\u001b[38;5;28;43mself\u001b[39;49m\u001b[38;5;241;43m.\u001b[39;49m\u001b[43mengine\u001b[49m\u001b[43m)\u001b[49m\n",
      "File \u001b[1;32mC:\\AI\\pythonProject\\venv\\lib\\site-packages\\pandas\\io\\parsers\\readers.py:1735\u001b[0m, in \u001b[0;36mTextFileReader._make_engine\u001b[1;34m(self, f, engine)\u001b[0m\n\u001b[0;32m   1733\u001b[0m     \u001b[38;5;28;01mif\u001b[39;00m \u001b[38;5;124m\"\u001b[39m\u001b[38;5;124mb\u001b[39m\u001b[38;5;124m\"\u001b[39m \u001b[38;5;129;01mnot\u001b[39;00m \u001b[38;5;129;01min\u001b[39;00m mode:\n\u001b[0;32m   1734\u001b[0m         mode \u001b[38;5;241m+\u001b[39m\u001b[38;5;241m=\u001b[39m \u001b[38;5;124m\"\u001b[39m\u001b[38;5;124mb\u001b[39m\u001b[38;5;124m\"\u001b[39m\n\u001b[1;32m-> 1735\u001b[0m \u001b[38;5;28mself\u001b[39m\u001b[38;5;241m.\u001b[39mhandles \u001b[38;5;241m=\u001b[39m \u001b[43mget_handle\u001b[49m\u001b[43m(\u001b[49m\n\u001b[0;32m   1736\u001b[0m \u001b[43m    \u001b[49m\u001b[43mf\u001b[49m\u001b[43m,\u001b[49m\n\u001b[0;32m   1737\u001b[0m \u001b[43m    \u001b[49m\u001b[43mmode\u001b[49m\u001b[43m,\u001b[49m\n\u001b[0;32m   1738\u001b[0m \u001b[43m    \u001b[49m\u001b[43mencoding\u001b[49m\u001b[38;5;241;43m=\u001b[39;49m\u001b[38;5;28;43mself\u001b[39;49m\u001b[38;5;241;43m.\u001b[39;49m\u001b[43moptions\u001b[49m\u001b[38;5;241;43m.\u001b[39;49m\u001b[43mget\u001b[49m\u001b[43m(\u001b[49m\u001b[38;5;124;43m\"\u001b[39;49m\u001b[38;5;124;43mencoding\u001b[39;49m\u001b[38;5;124;43m\"\u001b[39;49m\u001b[43m,\u001b[49m\u001b[43m \u001b[49m\u001b[38;5;28;43;01mNone\u001b[39;49;00m\u001b[43m)\u001b[49m\u001b[43m,\u001b[49m\n\u001b[0;32m   1739\u001b[0m \u001b[43m    \u001b[49m\u001b[43mcompression\u001b[49m\u001b[38;5;241;43m=\u001b[39;49m\u001b[38;5;28;43mself\u001b[39;49m\u001b[38;5;241;43m.\u001b[39;49m\u001b[43moptions\u001b[49m\u001b[38;5;241;43m.\u001b[39;49m\u001b[43mget\u001b[49m\u001b[43m(\u001b[49m\u001b[38;5;124;43m\"\u001b[39;49m\u001b[38;5;124;43mcompression\u001b[39;49m\u001b[38;5;124;43m\"\u001b[39;49m\u001b[43m,\u001b[49m\u001b[43m \u001b[49m\u001b[38;5;28;43;01mNone\u001b[39;49;00m\u001b[43m)\u001b[49m\u001b[43m,\u001b[49m\n\u001b[0;32m   1740\u001b[0m \u001b[43m    \u001b[49m\u001b[43mmemory_map\u001b[49m\u001b[38;5;241;43m=\u001b[39;49m\u001b[38;5;28;43mself\u001b[39;49m\u001b[38;5;241;43m.\u001b[39;49m\u001b[43moptions\u001b[49m\u001b[38;5;241;43m.\u001b[39;49m\u001b[43mget\u001b[49m\u001b[43m(\u001b[49m\u001b[38;5;124;43m\"\u001b[39;49m\u001b[38;5;124;43mmemory_map\u001b[39;49m\u001b[38;5;124;43m\"\u001b[39;49m\u001b[43m,\u001b[49m\u001b[43m \u001b[49m\u001b[38;5;28;43;01mFalse\u001b[39;49;00m\u001b[43m)\u001b[49m\u001b[43m,\u001b[49m\n\u001b[0;32m   1741\u001b[0m \u001b[43m    \u001b[49m\u001b[43mis_text\u001b[49m\u001b[38;5;241;43m=\u001b[39;49m\u001b[43mis_text\u001b[49m\u001b[43m,\u001b[49m\n\u001b[0;32m   1742\u001b[0m \u001b[43m    \u001b[49m\u001b[43merrors\u001b[49m\u001b[38;5;241;43m=\u001b[39;49m\u001b[38;5;28;43mself\u001b[39;49m\u001b[38;5;241;43m.\u001b[39;49m\u001b[43moptions\u001b[49m\u001b[38;5;241;43m.\u001b[39;49m\u001b[43mget\u001b[49m\u001b[43m(\u001b[49m\u001b[38;5;124;43m\"\u001b[39;49m\u001b[38;5;124;43mencoding_errors\u001b[39;49m\u001b[38;5;124;43m\"\u001b[39;49m\u001b[43m,\u001b[49m\u001b[43m \u001b[49m\u001b[38;5;124;43m\"\u001b[39;49m\u001b[38;5;124;43mstrict\u001b[39;49m\u001b[38;5;124;43m\"\u001b[39;49m\u001b[43m)\u001b[49m\u001b[43m,\u001b[49m\n\u001b[0;32m   1743\u001b[0m \u001b[43m    \u001b[49m\u001b[43mstorage_options\u001b[49m\u001b[38;5;241;43m=\u001b[39;49m\u001b[38;5;28;43mself\u001b[39;49m\u001b[38;5;241;43m.\u001b[39;49m\u001b[43moptions\u001b[49m\u001b[38;5;241;43m.\u001b[39;49m\u001b[43mget\u001b[49m\u001b[43m(\u001b[49m\u001b[38;5;124;43m\"\u001b[39;49m\u001b[38;5;124;43mstorage_options\u001b[39;49m\u001b[38;5;124;43m\"\u001b[39;49m\u001b[43m,\u001b[49m\u001b[43m \u001b[49m\u001b[38;5;28;43;01mNone\u001b[39;49;00m\u001b[43m)\u001b[49m\u001b[43m,\u001b[49m\n\u001b[0;32m   1744\u001b[0m \u001b[43m\u001b[49m\u001b[43m)\u001b[49m\n\u001b[0;32m   1745\u001b[0m \u001b[38;5;28;01massert\u001b[39;00m \u001b[38;5;28mself\u001b[39m\u001b[38;5;241m.\u001b[39mhandles \u001b[38;5;129;01mis\u001b[39;00m \u001b[38;5;129;01mnot\u001b[39;00m \u001b[38;5;28;01mNone\u001b[39;00m\n\u001b[0;32m   1746\u001b[0m f \u001b[38;5;241m=\u001b[39m \u001b[38;5;28mself\u001b[39m\u001b[38;5;241m.\u001b[39mhandles\u001b[38;5;241m.\u001b[39mhandle\n",
      "File \u001b[1;32mC:\\AI\\pythonProject\\venv\\lib\\site-packages\\pandas\\io\\common.py:856\u001b[0m, in \u001b[0;36mget_handle\u001b[1;34m(path_or_buf, mode, encoding, compression, memory_map, is_text, errors, storage_options)\u001b[0m\n\u001b[0;32m    851\u001b[0m \u001b[38;5;28;01melif\u001b[39;00m \u001b[38;5;28misinstance\u001b[39m(handle, \u001b[38;5;28mstr\u001b[39m):\n\u001b[0;32m    852\u001b[0m     \u001b[38;5;66;03m# Check whether the filename is to be opened in binary mode.\u001b[39;00m\n\u001b[0;32m    853\u001b[0m     \u001b[38;5;66;03m# Binary mode does not support 'encoding' and 'newline'.\u001b[39;00m\n\u001b[0;32m    854\u001b[0m     \u001b[38;5;28;01mif\u001b[39;00m ioargs\u001b[38;5;241m.\u001b[39mencoding \u001b[38;5;129;01mand\u001b[39;00m \u001b[38;5;124m\"\u001b[39m\u001b[38;5;124mb\u001b[39m\u001b[38;5;124m\"\u001b[39m \u001b[38;5;129;01mnot\u001b[39;00m \u001b[38;5;129;01min\u001b[39;00m ioargs\u001b[38;5;241m.\u001b[39mmode:\n\u001b[0;32m    855\u001b[0m         \u001b[38;5;66;03m# Encoding\u001b[39;00m\n\u001b[1;32m--> 856\u001b[0m         handle \u001b[38;5;241m=\u001b[39m \u001b[38;5;28;43mopen\u001b[39;49m\u001b[43m(\u001b[49m\n\u001b[0;32m    857\u001b[0m \u001b[43m            \u001b[49m\u001b[43mhandle\u001b[49m\u001b[43m,\u001b[49m\n\u001b[0;32m    858\u001b[0m \u001b[43m            \u001b[49m\u001b[43mioargs\u001b[49m\u001b[38;5;241;43m.\u001b[39;49m\u001b[43mmode\u001b[49m\u001b[43m,\u001b[49m\n\u001b[0;32m    859\u001b[0m \u001b[43m            \u001b[49m\u001b[43mencoding\u001b[49m\u001b[38;5;241;43m=\u001b[39;49m\u001b[43mioargs\u001b[49m\u001b[38;5;241;43m.\u001b[39;49m\u001b[43mencoding\u001b[49m\u001b[43m,\u001b[49m\n\u001b[0;32m    860\u001b[0m \u001b[43m            \u001b[49m\u001b[43merrors\u001b[49m\u001b[38;5;241;43m=\u001b[39;49m\u001b[43merrors\u001b[49m\u001b[43m,\u001b[49m\n\u001b[0;32m    861\u001b[0m \u001b[43m            \u001b[49m\u001b[43mnewline\u001b[49m\u001b[38;5;241;43m=\u001b[39;49m\u001b[38;5;124;43m\"\u001b[39;49m\u001b[38;5;124;43m\"\u001b[39;49m\u001b[43m,\u001b[49m\n\u001b[0;32m    862\u001b[0m \u001b[43m        \u001b[49m\u001b[43m)\u001b[49m\n\u001b[0;32m    863\u001b[0m     \u001b[38;5;28;01melse\u001b[39;00m:\n\u001b[0;32m    864\u001b[0m         \u001b[38;5;66;03m# Binary mode\u001b[39;00m\n\u001b[0;32m    865\u001b[0m         handle \u001b[38;5;241m=\u001b[39m \u001b[38;5;28mopen\u001b[39m(handle, ioargs\u001b[38;5;241m.\u001b[39mmode)\n",
      "\u001b[1;31mFileNotFoundError\u001b[0m: [Errno 2] No such file or directory: '../Chat NBT/data/traindf.csv'"
     ]
    }
   ],
   "source": [
    "train = pd.read_csv('../Chat NBT/data/traindf.csv')\n",
    "test = pd.read_csv('../Chat NBT/data/testdf.csv')\n",
    "train = train.rename(columns={'Unnamed: 0':'날짜'})\n",
    "test = test.rename(columns={'Unnamed: 0':'날짜'})\n",
    "\n",
    "# train.info(),test.info()"
   ]
  },
  {
   "cell_type": "code",
   "execution_count": null,
   "id": "24e4c71d-8376-442a-b4af-2122958a7373",
   "metadata": {
    "tags": []
   },
   "outputs": [],
   "source": [
    "columns = ['장중_긍정비율', '장중_부정비율',  '장외_긍정비율', '장외_부정비율']"
   ]
  },
  {
   "cell_type": "code",
   "execution_count": null,
   "id": "0f40ab19-dc3f-4473-9e4e-636519ab34af",
   "metadata": {
    "tags": []
   },
   "outputs": [],
   "source": [
    "train.columns"
   ]
  },
  {
   "cell_type": "code",
   "execution_count": null,
   "id": "add48595-c6ae-46e6-9d6f-5f82389e4e70",
   "metadata": {
    "tags": []
   },
   "outputs": [],
   "source": [
    "train['장중_긍정비율'].max(),train['장중_긍정비율'].min()"
   ]
  },
  {
   "cell_type": "code",
   "execution_count": null,
   "id": "efdc6619-be2a-4976-9a6a-5849ebfd0590",
   "metadata": {
    "tags": []
   },
   "outputs": [],
   "source": [
    "for col in columns:\n",
    "    train[col] = np.log1p(train[col])"
   ]
  },
  {
   "cell_type": "code",
   "execution_count": null,
   "id": "3f1bb157-1406-43ec-80ec-18c64121026d",
   "metadata": {
    "tags": []
   },
   "outputs": [],
   "source": []
  },
  {
   "cell_type": "code",
   "execution_count": null,
   "id": "7f20bd2a-95ae-46d0-958f-c211f6806b80",
   "metadata": {
    "tags": []
   },
   "outputs": [],
   "source": [
    "train.hist()\n",
    "plt.show()"
   ]
  },
  {
   "cell_type": "code",
   "execution_count": null,
   "id": "3d9a26a1-4adc-428a-a18c-02272ccfca5a",
   "metadata": {
    "tags": []
   },
   "outputs": [],
   "source": [
    "train.head(2)"
   ]
  },
  {
   "cell_type": "code",
   "execution_count": null,
   "id": "700fa2e1-6e0e-44e9-a5ad-69f1b5cf5442",
   "metadata": {
    "tags": []
   },
   "outputs": [],
   "source": [
    "X_train = train.drop(['날짜','등락률','등락여부'],axis=1)\n",
    "y_train = train['등락률']\n",
    "X_test = test.drop(['날짜','등락률','등락여부'],axis=1)\n",
    "y_test= test['등락률']"
   ]
  },
  {
   "cell_type": "code",
   "execution_count": null,
   "id": "46decce7-8227-4ede-9930-2a15b5341743",
   "metadata": {
    "tags": []
   },
   "outputs": [],
   "source": [
    "xgb=XGBRegressor(random_state = 1, reg_alpha= 6.967235245933871, reg_lambda= 1.3562544880457188, learning_rate= 0.09590960213297267, max_depth= 30)\n",
    "xgb.fit(X_train,y_train)\n",
    "# print( xgb.coef_ )\n",
    "\n",
    "pred = xgb.predict(X_test)\n",
    "rmse = mean_squared_error(y_test, pred, squared=False)\n",
    "print(f\"RMSE : {rmse:.4f}\")"
   ]
  },
  {
   "cell_type": "markdown",
   "id": "33198bff-2587-4017-a48a-f90af70372cf",
   "metadata": {},
   "source": [
    "## MinMax Scale\n",
    "* RMSE : 1.1463 ---> 모델최적화  RMSE : 0.8586"
   ]
  },
  {
   "cell_type": "code",
   "execution_count": null,
   "id": "d086b24c-67f2-4e44-89bb-70d87ad41945",
   "metadata": {
    "tags": []
   },
   "outputs": [],
   "source": [
    "train = pd.read_csv('../Chat NBT/data/traindf.csv')\n",
    "test = pd.read_csv('../Chat NBT/data/testdf.csv')\n",
    "train = train.rename(columns={'Unnamed: 0':'날짜'})\n",
    "test = test.rename(columns={'Unnamed: 0':'날짜'})\n",
    "\n",
    "# train.info(),test.info()"
   ]
  },
  {
   "cell_type": "code",
   "execution_count": null,
   "id": "9b47668a-aaf1-4c58-b943-53bdf62c80e7",
   "metadata": {
    "tags": []
   },
   "outputs": [],
   "source": [
    "train.columns"
   ]
  },
  {
   "cell_type": "code",
   "execution_count": null,
   "id": "28ddf11e-821a-44a3-be12-8133459fd87e",
   "metadata": {
    "tags": []
   },
   "outputs": [],
   "source": [
    "X_train = train.drop(['날짜','등락률','등락여부'],axis=1)\n",
    "y_train = train['등락률']\n",
    "X_test = test.drop(['날짜','등락률','등락여부'],axis=1)\n",
    "y_test= test['등락률']"
   ]
  },
  {
   "cell_type": "code",
   "execution_count": null,
   "id": "1be2662d-3d26-4b2b-a530-e1f779a44fb6",
   "metadata": {},
   "outputs": [],
   "source": [
    "scaler = MinMaxScaler()\n",
    "scaler.fit(X_train)\n",
    "scaler.transform(X_train)\n",
    "scaler.transform(X_test)\n"
   ]
  },
  {
   "cell_type": "code",
   "execution_count": null,
   "id": "12a6f73f-efa7-487e-b356-877a9afa4a2e",
   "metadata": {},
   "outputs": [],
   "source": [
    "# inverse_transform(X)"
   ]
  },
  {
   "cell_type": "code",
   "execution_count": null,
   "id": "a19ccaf3-116e-4727-ad26-cda63b1a2a50",
   "metadata": {
    "tags": []
   },
   "outputs": [],
   "source": [
    "xgb=XGBRegressor(random_state = 1, reg_alpha= 6.967235245933871, reg_lambda= 1.3562544880457188, learning_rate= 0.09590960213297267, max_depth= 30)\n",
    "xgb.fit(X_train,y_train)\n",
    "# print( xgb.coef_ )\n",
    "\n",
    "pred = xgb.predict(X_test)\n",
    "rmse = mean_squared_error(y_test, pred, squared=False)\n",
    "print(f\"RMSE : {rmse:.4f}\")"
   ]
  },
  {
   "cell_type": "markdown",
   "id": "828110f0-0cd0-4f06-a2d6-0ca965cec99a",
   "metadata": {
    "tags": []
   },
   "source": [
    "## StandardScaler\n",
    "* 1.1463 ---> 모델최적화 RMSE : 0.8586"
   ]
  },
  {
   "cell_type": "code",
   "execution_count": null,
   "id": "ca4203f5-b1f3-4c93-a222-eb139aaf1d77",
   "metadata": {
    "tags": []
   },
   "outputs": [],
   "source": [
    "train = pd.read_csv('../Chat NBT/data/traindf.csv')\n",
    "test = pd.read_csv('../Chat NBT/data/testdf.csv')\n",
    "train = train.rename(columns={'Unnamed: 0':'날짜'})\n",
    "test = test.rename(columns={'Unnamed: 0':'날짜'})\n",
    "\n",
    "# train.info(),test.info()"
   ]
  },
  {
   "cell_type": "code",
   "execution_count": null,
   "id": "7073f283-216b-41c8-beb1-09259bcbb1d1",
   "metadata": {
    "tags": []
   },
   "outputs": [],
   "source": [
    "train.columns"
   ]
  },
  {
   "cell_type": "code",
   "execution_count": null,
   "id": "8dea2378-c55b-4418-8ee2-c62f9450af36",
   "metadata": {
    "tags": []
   },
   "outputs": [],
   "source": [
    "X_train = train.drop(['날짜','등락률','등락여부'],axis=1)\n",
    "y_train = train['등락률']\n",
    "X_test = test.drop(['날짜','등락률','등락여부'],axis=1)\n",
    "y_test= test['등락률']"
   ]
  },
  {
   "cell_type": "code",
   "execution_count": null,
   "id": "14c3cab9-70fb-48a2-9091-2f3fd36d1d68",
   "metadata": {},
   "outputs": [],
   "source": [
    "scaler = StandardScaler()\n",
    "scaler.fit(X_train)\n",
    "scaler.transform(X_train)\n",
    "scaler.transform(X_test)\n"
   ]
  },
  {
   "cell_type": "code",
   "execution_count": null,
   "id": "d0974193-f001-4009-8900-86a7bbed41f5",
   "metadata": {},
   "outputs": [],
   "source": [
    "# inverse_transform(X)"
   ]
  },
  {
   "cell_type": "code",
   "execution_count": null,
   "id": "d589a84a-62c0-4efc-8464-2f48b1cb904b",
   "metadata": {
    "tags": []
   },
   "outputs": [],
   "source": [
    "xgb=XGBRegressor(random_state = 1, reg_alpha= 6.967235245933871, reg_lambda= 1.3562544880457188, learning_rate= 0.09590960213297267, max_depth= 30)\n",
    "xgb.fit(X_train,y_train)\n",
    "# print( xgb.coef_ )\n",
    "\n",
    "pred = xgb.predict(X_test)\n",
    "rmse = mean_squared_error(y_test, pred, squared=False)\n",
    "print(f\"RMSE : {rmse:.4f}\")"
   ]
  },
  {
   "cell_type": "code",
   "execution_count": null,
   "id": "71386947-7101-4642-8e01-7efad9fdf85c",
   "metadata": {},
   "outputs": [],
   "source": []
  },
  {
   "cell_type": "markdown",
   "id": "34c66deb-ba20-4f77-98c4-212d4f0c102c",
   "metadata": {},
   "source": [
    "## RobustScaler\n",
    "* 1.1463   --> 모델 최적화 RMSE : 0.8586"
   ]
  },
  {
   "cell_type": "code",
   "execution_count": null,
   "id": "103e2380-a3d9-41a7-b591-cec1ddecd3c7",
   "metadata": {
    "tags": []
   },
   "outputs": [],
   "source": [
    "train = pd.read_csv('../Chat NBT/data/traindf.csv')\n",
    "test = pd.read_csv('../Chat NBT/data/testdf.csv')\n",
    "train = train.rename(columns={'Unnamed: 0':'날짜'})\n",
    "test = test.rename(columns={'Unnamed: 0':'날짜'})\n",
    "\n",
    "# train.info(),test.info()"
   ]
  },
  {
   "cell_type": "code",
   "execution_count": null,
   "id": "43495765-d431-4ba0-ae23-bd090a2f418a",
   "metadata": {
    "tags": []
   },
   "outputs": [],
   "source": [
    "train.columns"
   ]
  },
  {
   "cell_type": "code",
   "execution_count": null,
   "id": "3e6bf92c-2319-443b-be8e-77f7bb5d63d7",
   "metadata": {
    "tags": []
   },
   "outputs": [],
   "source": [
    "X_train = train.drop(['날짜','등락률','등락여부'],axis=1)\n",
    "y_train = train['등락률']\n",
    "X_test = test.drop(['날짜','등락률','등락여부'],axis=1)\n",
    "y_test= test['등락률']"
   ]
  },
  {
   "cell_type": "code",
   "execution_count": null,
   "id": "fe43f034-0d74-46c4-ab99-221fd832be5a",
   "metadata": {},
   "outputs": [],
   "source": [
    "scaler =  RobustScaler()\n",
    "scaler.fit(X_train)\n",
    "scaler.transform(X_train)\n",
    "scaler.transform(X_test)\n"
   ]
  },
  {
   "cell_type": "code",
   "execution_count": null,
   "id": "79044135-4a62-46ee-bc96-d812e4eb1a98",
   "metadata": {},
   "outputs": [],
   "source": [
    "# inverse_transform(X)"
   ]
  },
  {
   "cell_type": "code",
   "execution_count": null,
   "id": "f2b25b59-9919-4648-bbc4-fb47036254e7",
   "metadata": {
    "tags": []
   },
   "outputs": [],
   "source": [
    "xgb=XGBRegressor(random_state = 1, reg_alpha= 6.967235245933871, reg_lambda= 1.3562544880457188, learning_rate= 0.09590960213297267, max_depth= 30)\n",
    "xgb.fit(X_train,y_train)\n",
    "# print( xgb.coef_ )\n",
    "\n",
    "pred = xgb.predict(X_test)\n",
    "rmse = mean_squared_error(y_test, pred, squared=False)\n",
    "print(f\"RMSE : {rmse:.4f}\")"
   ]
  },
  {
   "cell_type": "code",
   "execution_count": null,
   "id": "90f88253-59f1-412d-8840-fbce752c97a1",
   "metadata": {},
   "outputs": [],
   "source": []
  }
 ],
 "metadata": {
  "kernelspec": {
   "display_name": "Python 3 (ipykernel)",
   "language": "python",
   "name": "python3"
  },
  "language_info": {
   "codemirror_mode": {
    "name": "ipython",
    "version": 3
   },
   "file_extension": ".py",
   "mimetype": "text/x-python",
   "name": "python",
   "nbconvert_exporter": "python",
   "pygments_lexer": "ipython3",
   "version": "3.8.8"
  }
 },
 "nbformat": 4,
 "nbformat_minor": 5
}
