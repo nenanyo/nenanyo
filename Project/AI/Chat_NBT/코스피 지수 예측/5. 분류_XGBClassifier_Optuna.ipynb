{
 "cells": [
  {
   "cell_type": "code",
   "execution_count": 1,
   "metadata": {
    "colab": {
     "base_uri": "https://localhost:8080/",
     "height": 17
    },
    "executionInfo": {
     "elapsed": 20,
     "status": "ok",
     "timestamp": 1687222000884,
     "user": {
      "displayName": "남석영",
      "userId": "15514190832888651895"
     },
     "user_tz": -540
    },
    "id": "d5GGu9o4QiWd",
    "outputId": "c98203b4-96c4-46a3-b3cd-5b74ceab9d0e",
    "tags": []
   },
   "outputs": [
    {
     "data": {
      "text/html": [
       "<style>.container{width:100% !important;}</style>"
      ],
      "text/plain": [
       "<IPython.core.display.HTML object>"
      ]
     },
     "metadata": {},
     "output_type": "display_data"
    }
   ],
   "source": [
    "from IPython.display import Image\n",
    "import pandas as pd\n",
    "import numpy as np\n",
    "import matplotlib.pyplot as plt\n",
    "import seaborn as sns\n",
    "\n",
    "import time\n",
    "\n",
    "\n",
    "import warnings\n",
    "warnings.filterwarnings(action='ignore')\n",
    "\n",
    "sns.set()\n",
    "#-------------------- 차트 관련 속성 (한글처리, 그리드) -----------\n",
    "#plt.rc('font', family='NanumGothicOTF') # For MacOS\n",
    "plt.rcParams['font.family']= 'Malgun Gothic'\n",
    "plt.rcParams['axes.unicode_minus'] = False\n",
    "\n",
    "\n",
    "#-------------------- 주피터 , 출력결과 넓이 늘리기 ---------------\n",
    "from IPython.core.display import display, HTML\n",
    "display(HTML(\"<style>.container{width:100% !important;}</style>\"))\n",
    "pd.set_option('display.max_rows', 100)\n",
    "pd.set_option('display.max_columns', 100)\n",
    "pd.set_option('max_colwidth', None)\n",
    "\n",
    "pd.options.plotting.backend = \"plotly\""
   ]
  },
  {
   "cell_type": "code",
   "execution_count": 16,
   "metadata": {
    "executionInfo": {
     "elapsed": 2188,
     "status": "ok",
     "timestamp": 1687221997651,
     "user": {
      "displayName": "남석영",
      "userId": "15514190832888651895"
     },
     "user_tz": -540
    },
    "id": "gmBJWk_aRBPC",
    "tags": []
   },
   "outputs": [],
   "source": [
    "# import pandas_profiling\n",
    "\n",
    "# ----------------- 학습 ----------------------\n",
    "from sklearn.model_selection import train_test_split, cross_val_score\n",
    "from sklearn.preprocessing import StandardScaler, MinMaxScaler, RobustScaler\n",
    "\n",
    "# ----------------- 모델 ----------------------\n",
    "from sklearn.tree import DecisionTreeClassifier\n",
    "from sklearn.linear_model import LogisticRegression\n",
    "from sklearn.linear_model import Ridge\n",
    "from xgboost.sklearn import XGBRegressor, XGBClassifier\n",
    "\n",
    "# ----------------- 평가 ----------------------\n",
    "from sklearn.metrics import confusion_matrix\n",
    "from sklearn.metrics import mean_squared_error\n",
    "from sklearn.metrics import classification_report\n",
    "from sklearn.metrics import accuracy_score\n",
    "from sklearn.metrics import f1_score, precision_score, recall_score\n",
    "# from sklearn.metrics import precision_recall_curve, plot_precision_recall_curve\n",
    "\n",
    "# from sklearn.metrics import roc_auc_score, roc_curve, plot_roc_curve"
   ]
  },
  {
   "cell_type": "markdown",
   "metadata": {
    "id": "6OOOyOF0RM05"
   },
   "source": [
    "# 데이터 로드"
   ]
  },
  {
   "cell_type": "code",
   "execution_count": 7,
   "metadata": {
    "executionInfo": {
     "elapsed": 323,
     "status": "ok",
     "timestamp": 1687222112509,
     "user": {
      "displayName": "남석영",
      "userId": "15514190832888651895"
     },
     "user_tz": -540
    },
    "id": "5TeVYG1kRPNa",
    "tags": []
   },
   "outputs": [],
   "source": [
    "train = pd.read_csv('../data/traindf.csv')\n",
    "test = pd.read_csv('../data/testdf.csv')\n",
    "train = train.rename(columns={'Unnamed: 0':'날짜'})\n",
    "test = test.rename(columns={'Unnamed: 0':'날짜'})\n",
    "\n",
    "# train.info(),test.info()\n"
   ]
  },
  {
   "cell_type": "code",
   "execution_count": 26,
   "metadata": {
    "executionInfo": {
     "elapsed": 318,
     "status": "ok",
     "timestamp": 1687222483578,
     "user": {
      "displayName": "남석영",
      "userId": "15514190832888651895"
     },
     "user_tz": -540
    },
    "id": "9c700df3-f801-4eca-b006-40e28dacf8e0",
    "tags": []
   },
   "outputs": [],
   "source": [
    "X_train = train.drop(['날짜','등락률','등락여부'],axis=1)\n",
    "y_train = train['등락여부']\n",
    "X_test = test.drop(['날짜','등락률','등락여부'],axis=1)\n",
    "y_test= test['등락여부']"
   ]
  },
  {
   "cell_type": "code",
   "execution_count": 27,
   "metadata": {
    "executionInfo": {
     "elapsed": 7,
     "status": "ok",
     "timestamp": 1687222607065,
     "user": {
      "displayName": "남석영",
      "userId": "15514190832888651895"
     },
     "user_tz": -540
    },
    "id": "x7gbhkVnTIxX",
    "tags": []
   },
   "outputs": [],
   "source": [
    "y_train  =round(y_train)\n",
    "y_test  =round(y_test)\n"
   ]
  },
  {
   "cell_type": "code",
   "execution_count": 11,
   "metadata": {
    "executionInfo": {
     "elapsed": 21,
     "status": "ok",
     "timestamp": 1687222483924,
     "user": {
      "displayName": "남석영",
      "userId": "15514190832888651895"
     },
     "user_tz": -540
    },
    "id": "U92jMpMxR_JS"
   },
   "outputs": [],
   "source": [
    "# pip install optuna"
   ]
  },
  {
   "cell_type": "markdown",
   "metadata": {
    "tags": []
   },
   "source": [
    "# optuna"
   ]
  },
  {
   "cell_type": "code",
   "execution_count": 10,
   "metadata": {
    "executionInfo": {
     "elapsed": 18,
     "status": "ok",
     "timestamp": 1687222483925,
     "user": {
      "displayName": "남석영",
      "userId": "15514190832888651895"
     },
     "user_tz": -540
    },
    "id": "c07f77c2-3436-455f-a11a-38eda9e889fa",
    "tags": []
   },
   "outputs": [],
   "source": [
    "import optuna"
   ]
  },
  {
   "cell_type": "code",
   "execution_count": 24,
   "metadata": {
    "executionInfo": {
     "elapsed": 316,
     "status": "ok",
     "timestamp": 1687222764527,
     "user": {
      "displayName": "남석영",
      "userId": "15514190832888651895"
     },
     "user_tz": -540
    },
    "id": "4d517e18-043a-463c-9265-e348e16f98c2",
    "tags": []
   },
   "outputs": [],
   "source": [
    "def my_objective_XGB(trial, data=X_train, target=y_train):\n",
    "\n",
    "    #train_x, test_x, train_y, test_y = train_test_split(data, target, test_size=0.2,random_state=42)\n",
    "    param = {\n",
    "        # 'metric': 'rmse',\n",
    "        'random_state': 1,\n",
    "        'n_estimators': 100,  #100\n",
    "        'reg_alpha' : trial.suggest_float('reg_alpha', 1e-2, 10.0),\n",
    "        'reg_lambda': trial.suggest_float('reg_lambda', 1e-2, 10.0),  #reg_alpha=0.0\n",
    "        'learning_rate': trial.suggest_loguniform('learning_rate', 0.01,0.1),\n",
    "        'max_depth': trial.suggest_categorical('max_depth', [1,30]),\n",
    "        #'colsample_bytree': trial.suggest_categorical('colsample_bytree', [0.3,0.4,0.5,0.6,0.7,0.8,0.9, 1.0]),\n",
    "        #'subsample': trial.suggest_categorical('subsample', [0.4,0.5,0.6,0.7,0.8,1.0]),\n",
    "        #'num_leaves' : trial.suggest_int('num_leaves', 1, 1000),\n",
    "        #'min_child_samples': trial.suggest_int('min_child_samples', 1, 300),\n",
    "        #'cat_smooth' : trial.suggest_int('min_data_per_groups', 1, 100)\n",
    "    }\n",
    "    model = XGBClassifier(**param)\n",
    "\n",
    "    model.fit(X_train,y_train\n",
    "              ,eval_set=[(X_test,y_test)]\n",
    "              ,early_stopping_rounds=10,verbose=False)\n",
    "    pred = model.predict(X_test)\n",
    "\n",
    "    score = accuracy_score(y_test, pred)\n",
    "    return score"
   ]
  },
  {
   "cell_type": "code",
   "execution_count": 12,
   "metadata": {
    "colab": {
     "base_uri": "https://localhost:8080/"
    },
    "executionInfo": {
     "elapsed": 14609,
     "status": "ok",
     "timestamp": 1687222857008,
     "user": {
      "displayName": "남석영",
      "userId": "15514190832888651895"
     },
     "user_tz": -540
    },
    "id": "efcd0937-0db3-4481-9ee7-82e18951188e",
    "outputId": "0492ce0d-e3cb-4db6-a73a-07aa67bc647c",
    "tags": []
   },
   "outputs": [
    {
     "name": "stderr",
     "output_type": "stream",
     "text": [
      "\u001b[32m[I 2023-06-21 10:05:03,060]\u001b[0m A new study created in memory with name: no-name-0681ae84-f08a-4eff-908f-27c866e56be0\u001b[0m\n",
      "\u001b[32m[I 2023-06-21 10:05:03,191]\u001b[0m Trial 0 finished with value: 0.6862745098039216 and parameters: {'reg_alpha': 0.36193052811310655, 'reg_lambda': 8.211831927553167, 'learning_rate': 0.013053793741445042, 'max_depth': 1}. Best is trial 0 with value: 0.6862745098039216.\u001b[0m\n",
      "\u001b[32m[I 2023-06-21 10:05:03,230]\u001b[0m Trial 1 finished with value: 0.7156862745098039 and parameters: {'reg_alpha': 2.966133241869242, 'reg_lambda': 0.3733684635218401, 'learning_rate': 0.0476598239985128, 'max_depth': 30}. Best is trial 1 with value: 0.7156862745098039.\u001b[0m\n",
      "\u001b[32m[I 2023-06-21 10:05:03,292]\u001b[0m Trial 2 finished with value: 0.6862745098039216 and parameters: {'reg_alpha': 9.769882798783433, 'reg_lambda': 2.4224639070869585, 'learning_rate': 0.011053783131090284, 'max_depth': 30}. Best is trial 1 with value: 0.7156862745098039.\u001b[0m\n",
      "\u001b[32m[I 2023-06-21 10:05:03,320]\u001b[0m Trial 3 finished with value: 0.7156862745098039 and parameters: {'reg_alpha': 0.16807417695965782, 'reg_lambda': 7.076174905287901, 'learning_rate': 0.0862374147804027, 'max_depth': 30}. Best is trial 1 with value: 0.7156862745098039.\u001b[0m\n",
      "\u001b[32m[I 2023-06-21 10:05:03,379]\u001b[0m Trial 4 finished with value: 0.6862745098039216 and parameters: {'reg_alpha': 9.15879979403088, 'reg_lambda': 7.5755787588625845, 'learning_rate': 0.011165615519374663, 'max_depth': 30}. Best is trial 1 with value: 0.7156862745098039.\u001b[0m\n",
      "\u001b[32m[I 2023-06-21 10:05:03,417]\u001b[0m Trial 5 finished with value: 0.7156862745098039 and parameters: {'reg_alpha': 0.9210905995905869, 'reg_lambda': 3.1529655502808014, 'learning_rate': 0.04722493472904233, 'max_depth': 30}. Best is trial 1 with value: 0.7156862745098039.\u001b[0m\n",
      "\u001b[32m[I 2023-06-21 10:05:03,461]\u001b[0m Trial 6 finished with value: 0.696078431372549 and parameters: {'reg_alpha': 9.510898281816154, 'reg_lambda': 8.952763190275212, 'learning_rate': 0.0450617089961871, 'max_depth': 1}. Best is trial 1 with value: 0.7156862745098039.\u001b[0m\n",
      "\u001b[32m[I 2023-06-21 10:05:03,506]\u001b[0m Trial 7 finished with value: 0.6862745098039216 and parameters: {'reg_alpha': 6.839234976669708, 'reg_lambda': 1.5826519243518824, 'learning_rate': 0.010969280423098183, 'max_depth': 1}. Best is trial 1 with value: 0.7156862745098039.\u001b[0m\n",
      "\u001b[32m[I 2023-06-21 10:05:03,560]\u001b[0m Trial 8 finished with value: 0.7254901960784313 and parameters: {'reg_alpha': 0.7495451424892462, 'reg_lambda': 6.4968144852317105, 'learning_rate': 0.029516966028564323, 'max_depth': 30}. Best is trial 8 with value: 0.7254901960784313.\u001b[0m\n",
      "\u001b[32m[I 2023-06-21 10:05:03,604]\u001b[0m Trial 9 finished with value: 0.696078431372549 and parameters: {'reg_alpha': 8.707981445806602, 'reg_lambda': 9.994534717710291, 'learning_rate': 0.0672206202711158, 'max_depth': 1}. Best is trial 8 with value: 0.7254901960784313.\u001b[0m\n",
      "\u001b[32m[I 2023-06-21 10:05:03,678]\u001b[0m Trial 10 finished with value: 0.7156862745098039 and parameters: {'reg_alpha': 3.936067208419159, 'reg_lambda': 5.375933790419566, 'learning_rate': 0.022863030160868963, 'max_depth': 30}. Best is trial 8 with value: 0.7254901960784313.\u001b[0m\n",
      "\u001b[32m[I 2023-06-21 10:05:03,744]\u001b[0m Trial 11 finished with value: 0.7156862745098039 and parameters: {'reg_alpha': 2.71991366637534, 'reg_lambda': 0.021075009311941173, 'learning_rate': 0.027342635945948126, 'max_depth': 30}. Best is trial 8 with value: 0.7254901960784313.\u001b[0m\n",
      "\u001b[32m[I 2023-06-21 10:05:03,806]\u001b[0m Trial 12 finished with value: 0.7156862745098039 and parameters: {'reg_alpha': 2.397169093195211, 'reg_lambda': 4.797744810874046, 'learning_rate': 0.03705854243864457, 'max_depth': 30}. Best is trial 8 with value: 0.7254901960784313.\u001b[0m\n",
      "\u001b[32m[I 2023-06-21 10:05:03,878]\u001b[0m Trial 13 finished with value: 0.696078431372549 and parameters: {'reg_alpha': 4.379663902981557, 'reg_lambda': 6.031305105360725, 'learning_rate': 0.021881434981103447, 'max_depth': 30}. Best is trial 8 with value: 0.7254901960784313.\u001b[0m\n",
      "\u001b[32m[I 2023-06-21 10:05:03,924]\u001b[0m Trial 14 finished with value: 0.7156862745098039 and parameters: {'reg_alpha': 2.3268214653018857, 'reg_lambda': 4.089250656237759, 'learning_rate': 0.05705451603427985, 'max_depth': 30}. Best is trial 8 with value: 0.7254901960784313.\u001b[0m\n",
      "\u001b[32m[I 2023-06-21 10:05:03,987]\u001b[0m Trial 15 finished with value: 0.7156862745098039 and parameters: {'reg_alpha': 1.508742628490947, 'reg_lambda': 6.1919870996721, 'learning_rate': 0.03260619376312913, 'max_depth': 30}. Best is trial 8 with value: 0.7254901960784313.\u001b[0m\n",
      "\u001b[32m[I 2023-06-21 10:05:04,030]\u001b[0m Trial 16 finished with value: 0.7156862745098039 and parameters: {'reg_alpha': 3.345547182355795, 'reg_lambda': 4.042265766805104, 'learning_rate': 0.09615484689931603, 'max_depth': 30}. Best is trial 8 with value: 0.7254901960784313.\u001b[0m\n",
      "\u001b[32m[I 2023-06-21 10:05:04,094]\u001b[0m Trial 17 finished with value: 0.7156862745098039 and parameters: {'reg_alpha': 5.5167741383688655, 'reg_lambda': 0.30457691848313584, 'learning_rate': 0.040034678503940886, 'max_depth': 30}. Best is trial 8 with value: 0.7254901960784313.\u001b[0m\n",
      "\u001b[32m[I 2023-06-21 10:05:04,148]\u001b[0m Trial 18 finished with value: 0.6862745098039216 and parameters: {'reg_alpha': 1.5904556960565022, 'reg_lambda': 1.997036894074306, 'learning_rate': 0.061558781683755455, 'max_depth': 1}. Best is trial 8 with value: 0.7254901960784313.\u001b[0m\n",
      "\u001b[32m[I 2023-06-21 10:05:04,212]\u001b[0m Trial 19 finished with value: 0.7156862745098039 and parameters: {'reg_alpha': 1.3687078031903641, 'reg_lambda': 0.991447061506683, 'learning_rate': 0.031103446742216833, 'max_depth': 30}. Best is trial 8 with value: 0.7254901960784313.\u001b[0m\n",
      "\u001b[32m[I 2023-06-21 10:05:04,266]\u001b[0m Trial 20 finished with value: 0.7156862745098039 and parameters: {'reg_alpha': 0.08040003835490317, 'reg_lambda': 3.0574454625748335, 'learning_rate': 0.04961380963533633, 'max_depth': 30}. Best is trial 8 with value: 0.7254901960784313.\u001b[0m\n",
      "\u001b[32m[I 2023-06-21 10:05:04,305]\u001b[0m Trial 21 finished with value: 0.7254901960784313 and parameters: {'reg_alpha': 0.14139014545675904, 'reg_lambda': 6.776938639547065, 'learning_rate': 0.09998257161115616, 'max_depth': 30}. Best is trial 8 with value: 0.7254901960784313.\u001b[0m\n",
      "\u001b[32m[I 2023-06-21 10:05:04,347]\u001b[0m Trial 22 finished with value: 0.7156862745098039 and parameters: {'reg_alpha': 0.9670416118274882, 'reg_lambda': 7.067640333887439, 'learning_rate': 0.07392785118078733, 'max_depth': 30}. Best is trial 8 with value: 0.7254901960784313.\u001b[0m\n",
      "\u001b[32m[I 2023-06-21 10:05:04,389]\u001b[0m Trial 23 finished with value: 0.7156862745098039 and parameters: {'reg_alpha': 1.9702063813407744, 'reg_lambda': 6.16840635208549, 'learning_rate': 0.09968774738776501, 'max_depth': 30}. Best is trial 8 with value: 0.7254901960784313.\u001b[0m\n",
      "\u001b[32m[I 2023-06-21 10:05:04,434]\u001b[0m Trial 24 finished with value: 0.7156862745098039 and parameters: {'reg_alpha': 2.8854132877156364, 'reg_lambda': 4.998779136003201, 'learning_rate': 0.07040476367118693, 'max_depth': 30}. Best is trial 8 with value: 0.7254901960784313.\u001b[0m\n",
      "\u001b[32m[I 2023-06-21 10:05:04,509]\u001b[0m Trial 25 finished with value: 0.7058823529411765 and parameters: {'reg_alpha': 0.8374136153111094, 'reg_lambda': 0.7621188768871558, 'learning_rate': 0.08061422233013317, 'max_depth': 30}. Best is trial 8 with value: 0.7254901960784313.\u001b[0m\n",
      "\u001b[32m[I 2023-06-21 10:05:04,572]\u001b[0m Trial 26 finished with value: 0.6862745098039216 and parameters: {'reg_alpha': 1.9797285923315666, 'reg_lambda': 6.628785639500023, 'learning_rate': 0.06412540101429152, 'max_depth': 1}. Best is trial 8 with value: 0.7254901960784313.\u001b[0m\n",
      "\u001b[32m[I 2023-06-21 10:05:04,626]\u001b[0m Trial 27 finished with value: 0.7254901960784313 and parameters: {'reg_alpha': 0.8150068723084779, 'reg_lambda': 5.650599316802297, 'learning_rate': 0.05095213154598012, 'max_depth': 30}. Best is trial 8 with value: 0.7254901960784313.\u001b[0m\n",
      "\u001b[32m[I 2023-06-21 10:05:04,669]\u001b[0m Trial 28 finished with value: 0.7156862745098039 and parameters: {'reg_alpha': 0.14565703636110924, 'reg_lambda': 5.582888141771965, 'learning_rate': 0.0792071934149909, 'max_depth': 30}. Best is trial 8 with value: 0.7254901960784313.\u001b[0m\n",
      "\u001b[32m[I 2023-06-21 10:05:04,725]\u001b[0m Trial 29 finished with value: 0.6862745098039216 and parameters: {'reg_alpha': 0.8010854759749311, 'reg_lambda': 7.931463956991346, 'learning_rate': 0.05381045147370352, 'max_depth': 1}. Best is trial 8 with value: 0.7254901960784313.\u001b[0m\n",
      "\u001b[32m[I 2023-06-21 10:05:04,774]\u001b[0m Trial 30 finished with value: 0.7156862745098039 and parameters: {'reg_alpha': 0.5312752219555131, 'reg_lambda': 8.504279990514746, 'learning_rate': 0.056851679611110026, 'max_depth': 30}. Best is trial 8 with value: 0.7254901960784313.\u001b[0m\n",
      "\u001b[32m[I 2023-06-21 10:05:04,830]\u001b[0m Trial 31 finished with value: 0.7156862745098039 and parameters: {'reg_alpha': 1.4102869966777793, 'reg_lambda': 6.843014018287894, 'learning_rate': 0.04151689154777921, 'max_depth': 30}. Best is trial 8 with value: 0.7254901960784313.\u001b[0m\n",
      "\u001b[32m[I 2023-06-21 10:05:04,877]\u001b[0m Trial 32 finished with value: 0.7254901960784313 and parameters: {'reg_alpha': 0.10257157710811748, 'reg_lambda': 5.768037718463781, 'learning_rate': 0.05075937889143491, 'max_depth': 30}. Best is trial 8 with value: 0.7254901960784313.\u001b[0m\n",
      "\u001b[32m[I 2023-06-21 10:05:04,924]\u001b[0m Trial 33 finished with value: 0.7156862745098039 and parameters: {'reg_alpha': 0.12244655403515098, 'reg_lambda': 5.764987465817394, 'learning_rate': 0.05226839239475609, 'max_depth': 30}. Best is trial 8 with value: 0.7254901960784313.\u001b[0m\n",
      "\u001b[32m[I 2023-06-21 10:05:04,969]\u001b[0m Trial 34 finished with value: 0.7254901960784313 and parameters: {'reg_alpha': 0.5836804278759197, 'reg_lambda': 7.406248780430167, 'learning_rate': 0.06725455709804895, 'max_depth': 30}. Best is trial 8 with value: 0.7254901960784313.\u001b[0m\n",
      "\u001b[32m[I 2023-06-21 10:05:05,012]\u001b[0m Trial 35 finished with value: 0.7156862745098039 and parameters: {'reg_alpha': 1.0745504774605268, 'reg_lambda': 6.491547695175446, 'learning_rate': 0.08890697218035311, 'max_depth': 30}. Best is trial 8 with value: 0.7254901960784313.\u001b[0m\n",
      "\u001b[32m[I 2023-06-21 10:05:05,053]\u001b[0m Trial 36 finished with value: 0.7156862745098039 and parameters: {'reg_alpha': 0.07469389662501734, 'reg_lambda': 6.63356293752156, 'learning_rate': 0.08192294960650946, 'max_depth': 30}. Best is trial 8 with value: 0.7254901960784313.\u001b[0m\n",
      "\u001b[32m[I 2023-06-21 10:05:05,113]\u001b[0m Trial 37 finished with value: 0.7156862745098039 and parameters: {'reg_alpha': 1.9660205058620062, 'reg_lambda': 5.305170730823137, 'learning_rate': 0.04561925842649265, 'max_depth': 30}. Best is trial 8 with value: 0.7254901960784313.\u001b[0m\n",
      "\u001b[32m[I 2023-06-21 10:05:05,155]\u001b[0m Trial 38 finished with value: 0.7156862745098039 and parameters: {'reg_alpha': 0.7164486403782061, 'reg_lambda': 7.303119898389719, 'learning_rate': 0.09050620076967689, 'max_depth': 30}. Best is trial 8 with value: 0.7254901960784313.\u001b[0m\n",
      "\u001b[32m[I 2023-06-21 10:05:05,218]\u001b[0m Trial 39 finished with value: 0.6862745098039216 and parameters: {'reg_alpha': 1.2362514107768965, 'reg_lambda': 7.83485330821129, 'learning_rate': 0.060758725361525545, 'max_depth': 1}. Best is trial 8 with value: 0.7254901960784313.\u001b[0m\n",
      "\u001b[32m[I 2023-06-21 10:05:05,271]\u001b[0m Trial 40 finished with value: 0.7156862745098039 and parameters: {'reg_alpha': 0.513144719369112, 'reg_lambda': 5.824201695722881, 'learning_rate': 0.05026573719164832, 'max_depth': 30}. Best is trial 8 with value: 0.7254901960784313.\u001b[0m\n",
      "\u001b[32m[I 2023-06-21 10:05:05,318]\u001b[0m Trial 41 finished with value: 0.7156862745098039 and parameters: {'reg_alpha': 0.709664221744007, 'reg_lambda': 7.47916549894706, 'learning_rate': 0.07431528010327834, 'max_depth': 30}. Best is trial 8 with value: 0.7254901960784313.\u001b[0m\n",
      "\u001b[32m[I 2023-06-21 10:05:05,365]\u001b[0m Trial 42 finished with value: 0.7156862745098039 and parameters: {'reg_alpha': 0.04006508764265909, 'reg_lambda': 7.1744284178218845, 'learning_rate': 0.06505652560369314, 'max_depth': 30}. Best is trial 8 with value: 0.7254901960784313.\u001b[0m\n",
      "\u001b[32m[I 2023-06-21 10:05:05,411]\u001b[0m Trial 43 finished with value: 0.7156862745098039 and parameters: {'reg_alpha': 0.5446058123277115, 'reg_lambda': 6.3592166240234995, 'learning_rate': 0.0682346450778693, 'max_depth': 30}. Best is trial 8 with value: 0.7254901960784313.\u001b[0m\n",
      "\u001b[32m[I 2023-06-21 10:05:05,455]\u001b[0m Trial 44 finished with value: 0.7156862745098039 and parameters: {'reg_alpha': 1.7322131749032548, 'reg_lambda': 8.37391916024891, 'learning_rate': 0.08834273517246162, 'max_depth': 30}. Best is trial 8 with value: 0.7254901960784313.\u001b[0m\n",
      "\u001b[32m[I 2023-06-21 10:05:05,504]\u001b[0m Trial 45 finished with value: 0.7156862745098039 and parameters: {'reg_alpha': 1.243170985464678, 'reg_lambda': 6.978042940493497, 'learning_rate': 0.05795083599583524, 'max_depth': 30}. Best is trial 8 with value: 0.7254901960784313.\u001b[0m\n",
      "\u001b[32m[I 2023-06-21 10:05:05,562]\u001b[0m Trial 46 finished with value: 0.7156862745098039 and parameters: {'reg_alpha': 2.373195395666113, 'reg_lambda': 5.991163615394075, 'learning_rate': 0.04647454372774087, 'max_depth': 30}. Best is trial 8 with value: 0.7254901960784313.\u001b[0m\n",
      "\u001b[32m[I 2023-06-21 10:05:05,616]\u001b[0m Trial 47 finished with value: 0.6862745098039216 and parameters: {'reg_alpha': 0.4464207556188206, 'reg_lambda': 7.488997321264078, 'learning_rate': 0.07478867685269505, 'max_depth': 1}. Best is trial 8 with value: 0.7254901960784313.\u001b[0m\n",
      "\u001b[32m[I 2023-06-21 10:05:05,664]\u001b[0m Trial 48 finished with value: 0.7156862745098039 and parameters: {'reg_alpha': 1.0997000247209625, 'reg_lambda': 5.400485028503054, 'learning_rate': 0.053996265178515, 'max_depth': 30}. Best is trial 8 with value: 0.7254901960784313.\u001b[0m\n",
      "\u001b[32m[I 2023-06-21 10:05:05,716]\u001b[0m Trial 49 finished with value: 0.7156862745098039 and parameters: {'reg_alpha': 1.6909319630264477, 'reg_lambda': 4.635056797932274, 'learning_rate': 0.0417021301424651, 'max_depth': 30}. Best is trial 8 with value: 0.7254901960784313.\u001b[0m\n",
      "\u001b[32m[I 2023-06-21 10:05:05,774]\u001b[0m Trial 50 finished with value: 0.7156862745098039 and parameters: {'reg_alpha': 0.605421178475938, 'reg_lambda': 6.478891434000098, 'learning_rate': 0.03590785968758118, 'max_depth': 30}. Best is trial 8 with value: 0.7254901960784313.\u001b[0m\n",
      "\u001b[32m[I 2023-06-21 10:05:05,825]\u001b[0m Trial 51 finished with value: 0.7156862745098039 and parameters: {'reg_alpha': 1.170005780585151, 'reg_lambda': 4.476983404550599, 'learning_rate': 0.048946532496053186, 'max_depth': 30}. Best is trial 8 with value: 0.7254901960784313.\u001b[0m\n",
      "\u001b[32m[I 2023-06-21 10:05:05,876]\u001b[0m Trial 52 finished with value: 0.7156862745098039 and parameters: {'reg_alpha': 2.906995792386843, 'reg_lambda': 5.069876546337156, 'learning_rate': 0.06131515316950851, 'max_depth': 30}. Best is trial 8 with value: 0.7254901960784313.\u001b[0m\n",
      "\u001b[32m[I 2023-06-21 10:05:05,929]\u001b[0m Trial 53 finished with value: 0.7254901960784313 and parameters: {'reg_alpha': 0.9642779483315931, 'reg_lambda': 5.948201465632902, 'learning_rate': 0.04587340731364826, 'max_depth': 30}. Best is trial 8 with value: 0.7254901960784313.\u001b[0m\n",
      "\u001b[32m[I 2023-06-21 10:05:05,976]\u001b[0m Trial 54 finished with value: 0.7156862745098039 and parameters: {'reg_alpha': 0.29155389433940226, 'reg_lambda': 5.86312516671961, 'learning_rate': 0.05551465569275907, 'max_depth': 30}. Best is trial 8 with value: 0.7254901960784313.\u001b[0m\n",
      "\u001b[32m[I 2023-06-21 10:05:06,032]\u001b[0m Trial 55 finished with value: 0.7156862745098039 and parameters: {'reg_alpha': 1.0666006490669093, 'reg_lambda': 6.862820949666528, 'learning_rate': 0.04531183027813466, 'max_depth': 30}. Best is trial 8 with value: 0.7254901960784313.\u001b[0m\n",
      "\u001b[32m[I 2023-06-21 10:05:06,078]\u001b[0m Trial 56 finished with value: 0.7156862745098039 and parameters: {'reg_alpha': 0.4008553261796421, 'reg_lambda': 6.374214314844706, 'learning_rate': 0.06736193411596403, 'max_depth': 30}. Best is trial 8 with value: 0.7254901960784313.\u001b[0m\n",
      "\u001b[32m[I 2023-06-21 10:05:06,138]\u001b[0m Trial 57 finished with value: 0.7156862745098039 and parameters: {'reg_alpha': 1.5856818898743579, 'reg_lambda': 5.551259099900085, 'learning_rate': 0.038120514447860195, 'max_depth': 30}. Best is trial 8 with value: 0.7254901960784313.\u001b[0m\n",
      "\u001b[32m[I 2023-06-21 10:05:06,194]\u001b[0m Trial 58 finished with value: 0.6862745098039216 and parameters: {'reg_alpha': 0.022523773943549263, 'reg_lambda': 6.202035099407071, 'learning_rate': 0.042898520655374806, 'max_depth': 1}. Best is trial 8 with value: 0.7254901960784313.\u001b[0m\n",
      "\u001b[32m[I 2023-06-21 10:05:06,233]\u001b[0m Trial 59 finished with value: 0.7156862745098039 and parameters: {'reg_alpha': 0.9394090750928332, 'reg_lambda': 5.141978728172673, 'learning_rate': 0.09721247947297815, 'max_depth': 30}. Best is trial 8 with value: 0.7254901960784313.\u001b[0m\n",
      "\u001b[32m[I 2023-06-21 10:05:06,312]\u001b[0m Trial 60 finished with value: 0.7156862745098039 and parameters: {'reg_alpha': 3.4233238298205686, 'reg_lambda': 6.804726831923432, 'learning_rate': 0.026599925118883046, 'max_depth': 30}. Best is trial 8 with value: 0.7254901960784313.\u001b[0m\n",
      "\u001b[32m[I 2023-06-21 10:05:06,402]\u001b[0m Trial 61 finished with value: 0.7156862745098039 and parameters: {'reg_alpha': 2.0479684638974254, 'reg_lambda': 3.833478972628387, 'learning_rate': 0.049471071107834545, 'max_depth': 30}. Best is trial 8 with value: 0.7254901960784313.\u001b[0m\n",
      "\u001b[32m[I 2023-06-21 10:05:06,451]\u001b[0m Trial 62 finished with value: 0.7254901960784313 and parameters: {'reg_alpha': 1.4136500784249613, 'reg_lambda': 1.6569289209750895, 'learning_rate': 0.05965059135770157, 'max_depth': 30}. Best is trial 8 with value: 0.7254901960784313.\u001b[0m\n",
      "\u001b[32m[I 2023-06-21 10:05:06,501]\u001b[0m Trial 63 finished with value: 0.7254901960784313 and parameters: {'reg_alpha': 0.8298680260197657, 'reg_lambda': 5.698679288334949, 'learning_rate': 0.0604722505895164, 'max_depth': 30}. Best is trial 8 with value: 0.7254901960784313.\u001b[0m\n",
      "\u001b[32m[I 2023-06-21 10:05:06,547]\u001b[0m Trial 64 finished with value: 0.7156862745098039 and parameters: {'reg_alpha': 1.4345453062020683, 'reg_lambda': 6.08521242925717, 'learning_rate': 0.07198023191683037, 'max_depth': 30}. Best is trial 8 with value: 0.7254901960784313.\u001b[0m\n",
      "\u001b[32m[I 2023-06-21 10:05:06,597]\u001b[0m Trial 65 finished with value: 0.7156862745098039 and parameters: {'reg_alpha': 0.3490700020513147, 'reg_lambda': 2.2679454287408314, 'learning_rate': 0.052807723223127545, 'max_depth': 30}. Best is trial 8 with value: 0.7254901960784313.\u001b[0m\n",
      "\u001b[32m[I 2023-06-21 10:05:06,646]\u001b[0m Trial 66 finished with value: 0.7156862745098039 and parameters: {'reg_alpha': 2.520310350513768, 'reg_lambda': 7.1181743064779015, 'learning_rate': 0.08130374173300702, 'max_depth': 30}. Best is trial 8 with value: 0.7254901960784313.\u001b[0m\n",
      "\u001b[32m[I 2023-06-21 10:05:06,693]\u001b[0m Trial 67 finished with value: 0.7254901960784313 and parameters: {'reg_alpha': 0.8400412185286109, 'reg_lambda': 5.260877759523262, 'learning_rate': 0.06351542603691555, 'max_depth': 30}. Best is trial 8 with value: 0.7254901960784313.\u001b[0m\n",
      "\u001b[32m[I 2023-06-21 10:05:06,748]\u001b[0m Trial 68 finished with value: 0.6862745098039216 and parameters: {'reg_alpha': 0.39036394708680167, 'reg_lambda': 1.533878632353204, 'learning_rate': 0.05793413301701696, 'max_depth': 1}. Best is trial 8 with value: 0.7254901960784313.\u001b[0m\n",
      "\u001b[32m[I 2023-06-21 10:05:06,802]\u001b[0m Trial 69 finished with value: 0.7156862745098039 and parameters: {'reg_alpha': 1.2651413193853136, 'reg_lambda': 4.9271058590360886, 'learning_rate': 0.04717247449112476, 'max_depth': 30}. Best is trial 8 with value: 0.7254901960784313.\u001b[0m\n",
      "\u001b[32m[I 2023-06-21 10:05:06,862]\u001b[0m Trial 70 finished with value: 0.7156862745098039 and parameters: {'reg_alpha': 1.6882929547083418, 'reg_lambda': 5.508935004437759, 'learning_rate': 0.04344709406291288, 'max_depth': 30}. Best is trial 8 with value: 0.7254901960784313.\u001b[0m\n",
      "\u001b[32m[I 2023-06-21 10:05:06,910]\u001b[0m Trial 71 finished with value: 0.7254901960784313 and parameters: {'reg_alpha': 0.7094757960960847, 'reg_lambda': 5.7900535481547815, 'learning_rate': 0.06902577642477936, 'max_depth': 30}. Best is trial 8 with value: 0.7254901960784313.\u001b[0m\n",
      "\u001b[32m[I 2023-06-21 10:05:06,961]\u001b[0m Trial 72 finished with value: 0.7156862745098039 and parameters: {'reg_alpha': 0.9391671468934293, 'reg_lambda': 6.720805222241658, 'learning_rate': 0.06186673245246061, 'max_depth': 30}. Best is trial 8 with value: 0.7254901960784313.\u001b[0m\n",
      "\u001b[32m[I 2023-06-21 10:05:07,011]\u001b[0m Trial 73 finished with value: 0.7156862745098039 and parameters: {'reg_alpha': 0.2630808325786167, 'reg_lambda': 6.119191395607758, 'learning_rate': 0.057189025271876796, 'max_depth': 30}. Best is trial 8 with value: 0.7254901960784313.\u001b[0m\n",
      "\u001b[32m[I 2023-06-21 10:05:07,064]\u001b[0m Trial 74 finished with value: 0.7254901960784313 and parameters: {'reg_alpha': 0.7210294039626277, 'reg_lambda': 6.43836553337307, 'learning_rate': 0.05161086935453201, 'max_depth': 30}. Best is trial 8 with value: 0.7254901960784313.\u001b[0m\n",
      "\u001b[32m[I 2023-06-21 10:05:07,108]\u001b[0m Trial 75 finished with value: 0.7156862745098039 and parameters: {'reg_alpha': 1.3466377197756079, 'reg_lambda': 5.801014954093808, 'learning_rate': 0.0766719092334866, 'max_depth': 30}. Best is trial 8 with value: 0.7254901960784313.\u001b[0m\n",
      "\u001b[32m[I 2023-06-21 10:05:07,151]\u001b[0m Trial 76 finished with value: 0.7156862745098039 and parameters: {'reg_alpha': 0.011763709686155144, 'reg_lambda': 5.592916884903127, 'learning_rate': 0.08441797893960235, 'max_depth': 30}. Best is trial 8 with value: 0.7254901960784313.\u001b[0m\n",
      "\u001b[32m[I 2023-06-21 10:05:07,199]\u001b[0m Trial 77 finished with value: 0.7156862745098039 and parameters: {'reg_alpha': 1.0023225715101904, 'reg_lambda': 7.778674999194906, 'learning_rate': 0.07088104572033765, 'max_depth': 30}. Best is trial 8 with value: 0.7254901960784313.\u001b[0m\n",
      "\u001b[32m[I 2023-06-21 10:05:07,245]\u001b[0m Trial 78 finished with value: 0.7156862745098039 and parameters: {'reg_alpha': 0.552125159734961, 'reg_lambda': 7.29033793495217, 'learning_rate': 0.06424091800806385, 'max_depth': 30}. Best is trial 8 with value: 0.7254901960784313.\u001b[0m\n",
      "\u001b[32m[I 2023-06-21 10:05:07,301]\u001b[0m Trial 79 finished with value: 0.6862745098039216 and parameters: {'reg_alpha': 2.153462146209071, 'reg_lambda': 6.613316460493606, 'learning_rate': 0.0539782435870581, 'max_depth': 1}. Best is trial 8 with value: 0.7254901960784313.\u001b[0m\n",
      "\u001b[32m[I 2023-06-21 10:05:07,348]\u001b[0m Trial 80 finished with value: 0.7156862745098039 and parameters: {'reg_alpha': 1.774472033554387, 'reg_lambda': 6.964546510080967, 'learning_rate': 0.07834847043898767, 'max_depth': 30}. Best is trial 8 with value: 0.7254901960784313.\u001b[0m\n",
      "\u001b[32m[I 2023-06-21 10:05:07,399]\u001b[0m Trial 81 finished with value: 0.7254901960784313 and parameters: {'reg_alpha': 0.8450798975660797, 'reg_lambda': 5.137832010275248, 'learning_rate': 0.05961843590991433, 'max_depth': 30}. Best is trial 8 with value: 0.7254901960784313.\u001b[0m\n",
      "\u001b[32m[I 2023-06-21 10:05:07,445]\u001b[0m Trial 82 finished with value: 0.7156862745098039 and parameters: {'reg_alpha': 0.2611164344608516, 'reg_lambda': 5.331756144379238, 'learning_rate': 0.06402013196929408, 'max_depth': 30}. Best is trial 8 with value: 0.7254901960784313.\u001b[0m\n",
      "\u001b[32m[I 2023-06-21 10:05:07,493]\u001b[0m Trial 83 finished with value: 0.7254901960784313 and parameters: {'reg_alpha': 0.7331482438248235, 'reg_lambda': 6.24461553438523, 'learning_rate': 0.0659027500410966, 'max_depth': 30}. Best is trial 8 with value: 0.7254901960784313.\u001b[0m\n",
      "\u001b[32m[I 2023-06-21 10:05:07,545]\u001b[0m Trial 84 finished with value: 0.7156862745098039 and parameters: {'reg_alpha': 1.4869938847258979, 'reg_lambda': 4.765062371208169, 'learning_rate': 0.04812187937792674, 'max_depth': 30}. Best is trial 8 with value: 0.7254901960784313.\u001b[0m\n",
      "\u001b[32m[I 2023-06-21 10:05:07,595]\u001b[0m Trial 85 finished with value: 0.7156862745098039 and parameters: {'reg_alpha': 1.1739018807312007, 'reg_lambda': 5.99824536854671, 'learning_rate': 0.054691977456742424, 'max_depth': 30}. Best is trial 8 with value: 0.7254901960784313.\u001b[0m\n",
      "\u001b[32m[I 2023-06-21 10:05:07,642]\u001b[0m Trial 86 finished with value: 0.7156862745098039 and parameters: {'reg_alpha': 0.43983248168443034, 'reg_lambda': 5.621858702505799, 'learning_rate': 0.059816943803220377, 'max_depth': 30}. Best is trial 8 with value: 0.7254901960784313.\u001b[0m\n",
      "\u001b[32m[I 2023-06-21 10:05:07,693]\u001b[0m Trial 87 finished with value: 0.7156862745098039 and parameters: {'reg_alpha': 0.8799449693654537, 'reg_lambda': 5.928870045067549, 'learning_rate': 0.05111830216286616, 'max_depth': 30}. Best is trial 8 with value: 0.7254901960784313.\u001b[0m\n",
      "\u001b[32m[I 2023-06-21 10:05:07,735]\u001b[0m Trial 88 finished with value: 0.7156862745098039 and parameters: {'reg_alpha': 0.6094599867015056, 'reg_lambda': 4.407620331723704, 'learning_rate': 0.09450983086452915, 'max_depth': 30}. Best is trial 8 with value: 0.7254901960784313.\u001b[0m\n",
      "\u001b[32m[I 2023-06-21 10:05:07,781]\u001b[0m Trial 89 finished with value: 0.7156862745098039 and parameters: {'reg_alpha': 0.30275592652232985, 'reg_lambda': 5.190533161715015, 'learning_rate': 0.07278804100667517, 'max_depth': 30}. Best is trial 8 with value: 0.7254901960784313.\u001b[0m\n",
      "\u001b[32m[I 2023-06-21 10:05:07,833]\u001b[0m Trial 90 finished with value: 0.7156862745098039 and parameters: {'reg_alpha': 1.4116784810496696, 'reg_lambda': 6.334150109812883, 'learning_rate': 0.05615164589367503, 'max_depth': 30}. Best is trial 8 with value: 0.7254901960784313.\u001b[0m\n",
      "\u001b[32m[I 2023-06-21 10:05:07,880]\u001b[0m Trial 91 finished with value: 0.7254901960784313 and parameters: {'reg_alpha': 0.7217711364916012, 'reg_lambda': 5.7773416420368315, 'learning_rate': 0.06786690574913036, 'max_depth': 30}. Best is trial 8 with value: 0.7254901960784313.\u001b[0m\n",
      "\u001b[32m[I 2023-06-21 10:05:07,929]\u001b[0m Trial 92 finished with value: 0.7156862745098039 and parameters: {'reg_alpha': 1.060960390350916, 'reg_lambda': 5.388552387040746, 'learning_rate': 0.06960158955163574, 'max_depth': 30}. Best is trial 8 with value: 0.7254901960784313.\u001b[0m\n",
      "\u001b[32m[I 2023-06-21 10:05:07,974]\u001b[0m Trial 93 finished with value: 0.7156862745098039 and parameters: {'reg_alpha': 0.22349608879426325, 'reg_lambda': 6.5733792357368355, 'learning_rate': 0.08532910877510577, 'max_depth': 30}. Best is trial 8 with value: 0.7254901960784313.\u001b[0m\n",
      "\u001b[32m[I 2023-06-21 10:05:08,021]\u001b[0m Trial 94 finished with value: 0.7156862745098039 and parameters: {'reg_alpha': 0.6624159508843714, 'reg_lambda': 6.0411603699622125, 'learning_rate': 0.07603163457978798, 'max_depth': 30}. Best is trial 8 with value: 0.7254901960784313.\u001b[0m\n",
      "\u001b[32m[I 2023-06-21 10:05:08,114]\u001b[0m Trial 95 finished with value: 0.7254901960784313 and parameters: {'reg_alpha': 0.9417488076893493, 'reg_lambda': 5.684754470225926, 'learning_rate': 0.06055137937843566, 'max_depth': 30}. Best is trial 8 with value: 0.7254901960784313.\u001b[0m\n",
      "\u001b[32m[I 2023-06-21 10:05:08,177]\u001b[0m Trial 96 finished with value: 0.7156862745098039 and parameters: {'reg_alpha': 1.2490454499560821, 'reg_lambda': 4.948777493112337, 'learning_rate': 0.06572478044447952, 'max_depth': 30}. Best is trial 8 with value: 0.7254901960784313.\u001b[0m\n",
      "\u001b[32m[I 2023-06-21 10:05:08,242]\u001b[0m Trial 97 finished with value: 0.7156862745098039 and parameters: {'reg_alpha': 0.5257046167333081, 'reg_lambda': 5.443599106122324, 'learning_rate': 0.06292346223559916, 'max_depth': 30}. Best is trial 8 with value: 0.7254901960784313.\u001b[0m\n",
      "\u001b[32m[I 2023-06-21 10:05:08,312]\u001b[0m Trial 98 finished with value: 0.6862745098039216 and parameters: {'reg_alpha': 0.2045682033126227, 'reg_lambda': 6.7680459035984795, 'learning_rate': 0.06964539533597404, 'max_depth': 1}. Best is trial 8 with value: 0.7254901960784313.\u001b[0m\n",
      "\u001b[32m[I 2023-06-21 10:05:08,381]\u001b[0m Trial 99 finished with value: 0.7156862745098039 and parameters: {'reg_alpha': 1.8325946801587414, 'reg_lambda': 6.192907318760546, 'learning_rate': 0.05138219188266171, 'max_depth': 30}. Best is trial 8 with value: 0.7254901960784313.\u001b[0m\n"
     ]
    }
   ],
   "source": [
    "\n",
    "study = optuna.create_study(direction='maximize')\n",
    "\n",
    "\n",
    "# y_train = np.expm1(y_train_log)\n",
    "# y_test  = np.expm1(y_test_log)\n",
    "\n",
    "\n",
    "# my_objective_LGBM(trial):\n",
    "# study.optimize(my_objective_LGBM, n_trials=50)\n",
    "\n",
    "# def my_objective_LGBM(trial, data=X_train, target=y_train):\n",
    "study.optimize(lambda trial : my_objective_XGB(trial, y_train,y_test), n_trials=100)"
   ]
  },
  {
   "cell_type": "code",
   "execution_count": null,
   "metadata": {
    "colab": {
     "base_uri": "https://localhost:8080/"
    },
    "executionInfo": {
     "elapsed": 344,
     "status": "ok",
     "timestamp": 1687222860924,
     "user": {
      "displayName": "남석영",
      "userId": "15514190832888651895"
     },
     "user_tz": -540
    },
    "id": "39fd9797-330c-4196-bdc4-f03c145c3347",
    "outputId": "930167e2-a7ad-4b7a-97c7-cfe536d45d84",
    "tags": []
   },
   "outputs": [],
   "source": [
    "print('튜닝 횟수 :', len(study.trials))\n",
    "print(\"-------------------\")\n",
    "print('Best param:', study.best_trial.params)\n",
    "print('Best param:', study.best_params)\n",
    "print(\"-------------------\")\n",
    "print('Best score:', study.best_trial.value)\n",
    "print(\"-------------------\")\n",
    "print('study.trials 전체 정보 :', study.trials)\n"
   ]
  },
  {
   "cell_type": "markdown",
   "metadata": {
    "id": "JR7MSYLtUNrT"
   },
   "source": [
    "<pre>\n",
    "튜닝 횟수 : 50\n",
    "-------------------\n",
    "Best param: {'reg_alpha': 2.5594087722267993, 'reg_lambda': 4.62342522497871, 'learning_rate': 0.01867555614418941, 'max_depth': 30}\n",
    "Best param: {'reg_alpha': 2.5594087722267993, 'reg_lambda': 4.62342522497871, 'learning_rate': 0.01867555614418941, 'max_depth': 30}\n",
    "-------------------\n",
    "Best score: 0.7156862745098039"
   ]
  },
  {
   "cell_type": "markdown",
   "metadata": {
    "tags": []
   },
   "source": [
    "<pre>\n",
    "튜닝 횟수 : 100\n",
    "-------------------\n",
    "Best param: {'reg_alpha': 0.7649224155253016, 'reg_lambda': 2.0595046097238754, 'learning_rate': 0.02071786918763962, 'max_depth': 30}\n",
    "Best param: {'reg_alpha': 0.7649224155253016, 'reg_lambda': 2.0595046097238754, 'learning_rate': 0.02071786918763962, 'max_depth': 30}\n",
    "-------------------\n",
    "Best score: 0.7254901960784313\n",
    "-------------------"
   ]
  },
  {
   "cell_type": "markdown",
   "metadata": {},
   "source": [
    "* accuracy_score  0.7157"
   ]
  },
  {
   "cell_type": "code",
   "execution_count": 28,
   "metadata": {
    "tags": []
   },
   "outputs": [
    {
     "name": "stdout",
     "output_type": "stream",
     "text": [
      "score : 0.7157\n"
     ]
    }
   ],
   "source": [
    "xgb=XGBClassifier(random_state = 1, reg_alpha= 0.7649224155253016, reg_lambda= 2.0595046097238754, learning_rate= 0.02071786918763962, max_depth= 30)\n",
    "xgb.fit(X_train,y_train)\n",
    "# print( xgb.coef_ )\n",
    "\n",
    "pred = xgb.predict(X_test)\n",
    "score = accuracy_score(y_test, pred)\n",
    "print(f\"score : {score:.4f}\")"
   ]
  },
  {
   "cell_type": "markdown",
   "metadata": {},
   "source": [
    "### f1_score\n",
    "* sklearn.metrics.f1_score(y_true, y_pred, *, labels=None, pos_label=1, average='binary', sample_weight=None, zero_division='warn')"
   ]
  },
  {
   "cell_type": "code",
   "execution_count": 30,
   "metadata": {
    "tags": []
   },
   "outputs": [
    {
     "name": "stdout",
     "output_type": "stream",
     "text": [
      "score : 0.7339\n"
     ]
    }
   ],
   "source": [
    "score = f1_score(y_test, pred)\n",
    "print(f\"score : {score:.4f}\")"
   ]
  }
 ],
 "metadata": {
  "colab": {
   "authorship_tag": "ABX9TyMI1PMN2CkA4DXRP7tJmwdE",
   "mount_file_id": "1fobLVFMsgJ_fBKNKZs_F5-cvxLkGpQHX",
   "provenance": []
  },
  "kernelspec": {
   "display_name": "Python 3 (ipykernel)",
   "language": "python",
   "name": "python3"
  },
  "language_info": {
   "codemirror_mode": {
    "name": "ipython",
    "version": 3
   },
   "file_extension": ".py",
   "mimetype": "text/x-python",
   "name": "python",
   "nbconvert_exporter": "python",
   "pygments_lexer": "ipython3",
   "version": "3.8.8"
  }
 },
 "nbformat": 4,
 "nbformat_minor": 4
}
