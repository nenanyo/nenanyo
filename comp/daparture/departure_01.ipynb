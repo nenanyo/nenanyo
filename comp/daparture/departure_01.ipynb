{
 "cells": [
  {
   "cell_type": "code",
   "execution_count": 1,
   "id": "cbc3243d-509b-4414-890e-a691879a9c19",
   "metadata": {
    "tags": []
   },
   "outputs": [
    {
     "data": {
      "text/html": [
       "<style>.container{width:100% !important;}</style>"
      ],
      "text/plain": [
       "<IPython.core.display.HTML object>"
      ]
     },
     "metadata": {},
     "output_type": "display_data"
    }
   ],
   "source": [
    "import numpy as np\n",
    "import pandas as pd\n",
    "\n",
    "import matplotlib.pyplot as plt\n",
    "import seaborn as sns\n",
    "\n",
    "\n",
    "sns.set()\n",
    "\n",
    "#-------------------- 차트 관련 속성 (한글처리, 그리드) -----------\n",
    "plt.rcParams['font.family']= 'Malgun Gothic'\n",
    "plt.rcParams['axes.unicode_minus'] = False\n",
    "\n",
    "#-------------------- 주피터 , 출력결과 넓이 늘리기 ---------------\n",
    "# from IPython.core.display import display, HTML\n",
    "from IPython.display import display, HTML\n",
    "\n",
    "display(HTML(\"<style>.container{width:100% !important;}</style>\"))\n",
    "pd.set_option('display.max_rows', 100)\n",
    "pd.set_option('display.max_columns', 100)\n",
    "pd.set_option('max_colwidth', None)\n",
    "\n",
    "import warnings\n",
    "warnings.filterwarnings(action='ignore')"
   ]
  },
  {
   "cell_type": "code",
   "execution_count": 2,
   "id": "42d98aa0-1a0e-495c-a7c8-3a2bd71b2cdc",
   "metadata": {
    "tags": []
   },
   "outputs": [],
   "source": [
    "df=pd.read_csv(\"./datasets/train1.csv\")"
   ]
  },
  {
   "cell_type": "code",
   "execution_count": 3,
   "id": "4446c5ec-5227-44dd-b07e-630bab1248d8",
   "metadata": {
    "tags": []
   },
   "outputs": [
    {
     "name": "stdout",
     "output_type": "stream",
     "text": [
      "<class 'pandas.core.frame.DataFrame'>\n",
      "RangeIndex: 1000000 entries, 0 to 999999\n",
      "Data columns (total 12 columns):\n",
      " #   Column                    Non-Null Count    Dtype  \n",
      "---  ------                    --------------    -----  \n",
      " 0   Unnamed: 0.1              1000000 non-null  int64  \n",
      " 1   Unnamed: 0                1000000 non-null  int64  \n",
      " 2   id                        1000000 non-null  object \n",
      " 3   month                     1000000 non-null  int64  \n",
      " 4   day_of_month              1000000 non-null  int64  \n",
      " 5   estimated_departure_time  1000000 non-null  float64\n",
      " 6   estimated_arrival_time    1000000 non-null  float64\n",
      " 7   origin_airport_id         1000000 non-null  int64  \n",
      " 8   destination_airport_id    1000000 non-null  int64  \n",
      " 9   distance                  1000000 non-null  float64\n",
      " 10  tail_number               1000000 non-null  object \n",
      " 11  delay                     255001 non-null   object \n",
      "dtypes: float64(3), int64(6), object(3)\n",
      "memory usage: 91.6+ MB\n"
     ]
    }
   ],
   "source": [
    "df.info()"
   ]
  },
  {
   "cell_type": "code",
   "execution_count": 4,
   "id": "323785ee-6133-47e3-ac94-b6e2b572d8a5",
   "metadata": {
    "tags": []
   },
   "outputs": [],
   "source": [
    "df['delay']=df['delay'].fillna('Not_Delayed')"
   ]
  },
  {
   "cell_type": "code",
   "execution_count": 5,
   "id": "331f501f-07a7-4df1-80c1-5acc53b1a096",
   "metadata": {
    "tags": []
   },
   "outputs": [],
   "source": [
    "df=df.drop(['id','Unnamed: 0.1','Unnamed: 0'],axis=1)"
   ]
  },
  {
   "cell_type": "code",
   "execution_count": 6,
   "id": "86bebcf2-c530-457d-9fd4-a073c3ad923f",
   "metadata": {
    "tags": []
   },
   "outputs": [],
   "source": [
    "# from sklearn.preprocessing import LabelEncoder\n",
    "\n",
    "# labellist= ['Origin_Airport', 'Origin_State', 'Destination_Airport',\n",
    "#        'Destination_State', 'Airline', 'Carrier_Code(IATA)', 'Tail_Number',\n",
    "#        'Delay']\n",
    "\n",
    "\n",
    "# for i in labellist:  \n",
    "#     le = LabelEncoder()  \n",
    "#     le.fit(df_full['i']) \n",
    "#     df_full['i']=le.transform(df_full['i'])"
   ]
  },
  {
   "cell_type": "code",
   "execution_count": 7,
   "id": "840bf12f-5590-478d-9d45-8b773ecc6c96",
   "metadata": {
    "tags": []
   },
   "outputs": [],
   "source": [
    "from sklearn.preprocessing import LabelEncoder\n",
    "\n",
    "le = LabelEncoder()  \n",
    " \n",
    "\n",
    "le.fit(df['tail_number']) \n",
    "df['tail_number']=le.transform(df['tail_number'])\n",
    "\n",
    "\n",
    "le.fit(df['delay']) \n",
    "df['delay']=le.transform(df['delay'])\n"
   ]
  },
  {
   "cell_type": "code",
   "execution_count": 8,
   "id": "033af0c1-3373-46fe-9742-ec85956763ae",
   "metadata": {
    "tags": []
   },
   "outputs": [
    {
     "name": "stdout",
     "output_type": "stream",
     "text": [
      "(800000, 9) (200000, 9) (800000,) (200000,)\n"
     ]
    }
   ],
   "source": [
    "from sklearn.model_selection import train_test_split\n",
    "\n",
    "X_train, X_test, y_train, y_test=train_test_split(df, df['delay'], test_size=0.2, random_state=0)\n",
    "\n",
    "print(X_train.shape, X_test.shape, y_train.shape, y_test.shape)\n",
    "\n",
    "stratify=df['delay']\n",
    "\n",
    "X_train=X_train.drop(['delay'],axis=1)\n",
    "X_test=X_test.drop(['delay'],axis=1)"
   ]
  },
  {
   "cell_type": "code",
   "execution_count": 9,
   "id": "3e785209-9610-4933-bb88-6c8130c3b960",
   "metadata": {
    "tags": []
   },
   "outputs": [
    {
     "data": {
      "text/plain": [
       "month                       0\n",
       "day_of_month                0\n",
       "estimated_departure_time    0\n",
       "estimated_arrival_time      0\n",
       "origin_airport_id           0\n",
       "destination_airport_id      0\n",
       "distance                    0\n",
       "tail_number                 0\n",
       "delay                       0\n",
       "dtype: int64"
      ]
     },
     "execution_count": 9,
     "metadata": {},
     "output_type": "execute_result"
    }
   ],
   "source": [
    "df.isna().sum()"
   ]
  },
  {
   "cell_type": "code",
   "execution_count": 10,
   "id": "e77a3ff8-1457-4149-ac85-ad3d4776c6e5",
   "metadata": {
    "tags": []
   },
   "outputs": [],
   "source": [
    "X_train, X_valid, y_train, y_valid= train_test_split(X_train,y_train, test_size=0.2, random_state=42,stratify=y_train)"
   ]
  },
  {
   "cell_type": "code",
   "execution_count": 11,
   "id": "699a8729-23f5-4921-8d0d-1e1648922e38",
   "metadata": {
    "tags": []
   },
   "outputs": [
    {
     "name": "stdout",
     "output_type": "stream",
     "text": [
      "(640000, 8) (160000, 8) (200000, 8)\n"
     ]
    }
   ],
   "source": [
    "print(X_train.shape, X_valid.shape, X_test.shape)"
   ]
  },
  {
   "cell_type": "code",
   "execution_count": 12,
   "id": "08a21478-1ab8-4d9a-b03d-fb51d9fe06f4",
   "metadata": {
    "tags": []
   },
   "outputs": [
    {
     "name": "stdout",
     "output_type": "stream",
     "text": [
      "               0         1\n",
      "0       0.057569  0.942431\n",
      "1       0.036109  0.963891\n",
      "2       0.047906  0.952094\n",
      "3       0.036032  0.963968\n",
      "4       0.031972  0.968028\n",
      "...          ...       ...\n",
      "159995  0.028958  0.971042\n",
      "159996  0.056395  0.943605\n",
      "159997  0.028274  0.971726\n",
      "159998  0.048554  0.951446\n",
      "159999  0.037705  0.962295\n",
      "\n",
      "[160000 rows x 2 columns]\n"
     ]
    }
   ],
   "source": [
    "from sklearn.linear_model import LogisticRegression\n",
    "model1=LogisticRegression()\n",
    "model1.fit(X_train,y_train)\n",
    "pred1=pd.DataFrame(model1.predict_proba(X_valid))\n",
    "print(pred1)"
   ]
  },
  {
   "cell_type": "code",
   "execution_count": 13,
   "id": "cec593eb-fbb4-4936-ad7c-237e68535bd0",
   "metadata": {},
   "outputs": [
    {
     "name": "stdout",
     "output_type": "stream",
     "text": [
      "               0         1\n",
      "0       0.057569  0.942431\n",
      "1       0.036109  0.963891\n",
      "2       0.047906  0.952094\n",
      "3       0.036032  0.963968\n",
      "4       0.031972  0.968028\n",
      "...          ...       ...\n",
      "159995  0.028958  0.971042\n",
      "159996  0.056395  0.943605\n",
      "159997  0.028274  0.971726\n",
      "159998  0.048554  0.951446\n",
      "159999  0.037705  0.962295\n",
      "\n",
      "[160000 rows x 2 columns]\n"
     ]
    }
   ],
   "source": [
    "from sklearn.ensemble import RandomForestClassifier\n",
    "model2=RandomForestClassifier()\n",
    "model2.fit(X_train,y_train)\n",
    "pred2=pd.DataFrame(model2.predict_proba(X_valid))\n",
    "print(pred2)"
   ]
  },
  {
   "cell_type": "code",
   "execution_count": 14,
   "id": "7d2df43d-88de-4744-a184-2d0f6ad964a0",
   "metadata": {
    "tags": []
   },
   "outputs": [
    {
     "name": "stdout",
     "output_type": "stream",
     "text": [
      "               0         1\n",
      "0       0.043784  0.956216\n",
      "1       0.018054  0.981946\n",
      "2       0.033953  0.966047\n",
      "3       0.043016  0.956984\n",
      "4       0.025986  0.974014\n",
      "...          ...       ...\n",
      "159995  0.034479  0.965521\n",
      "159996  0.038197  0.961803\n",
      "159997  0.039137  0.960863\n",
      "159998  0.039277  0.960723\n",
      "159999  0.033853  0.966147\n",
      "\n",
      "[160000 rows x 2 columns]\n"
     ]
    }
   ],
   "source": [
    "from sklearn.ensemble import VotingClassifier\n",
    "model3=VotingClassifier(estimators=[('logistic',model1),('random',model2)],voting='soft')\n",
    "model3.fit(X_train,y_train)\n",
    "pred3=pd.DataFrame(model3.predict_proba(X_valid))\n",
    "print(pred3)"
   ]
  },
  {
   "cell_type": "code",
   "execution_count": 15,
   "id": "f5951aac-e8d7-4592-9884-cb3c3c7bf96b",
   "metadata": {
    "tags": []
   },
   "outputs": [],
   "source": [
    "# from sklearn.metrics import roc_auc_score\n",
    "# print('logistic',roc_auc_score(y_valid,pred1.iloc[:,1]))\n",
    "# print('RandomForest',roc_auc_score(y_valid,pred2.iloc[:,1]))\n",
    "# print('Voting',roc_auc_score(y_valid,pred3.iloc[:,1])) "
   ]
  },
  {
   "cell_type": "code",
   "execution_count": 16,
   "id": "573954cc-155d-4022-be1d-de26c50cfdac",
   "metadata": {
    "tags": []
   },
   "outputs": [],
   "source": [
    "# from sklearn.model_selection import GridSearchCV\n",
    "# parameters={'n_estimators':[50,100],'max_depth':[4,6]}\n",
    "# model5=RandomForestClassifier()\n",
    "# clf=GridSearchCV(estimator=model5, param_grid=parameters, cv=3)\n",
    "# clf.fit(X_train, y_train)\n",
    "# print('최적의 파라미터:',clf.best_params_)"
   ]
  },
  {
   "cell_type": "code",
   "execution_count": null,
   "id": "ea16882f-ee39-48b8-a037-6d522c943940",
   "metadata": {},
   "outputs": [],
   "source": [
    "sample_submission = pd.read_csv('./datasets/open/sample_submission.csv', index_col = 0)"
   ]
  },
  {
   "cell_type": "code",
   "execution_count": 24,
   "id": "c3831783-ff46-4968-a633-bd2da618e5bc",
   "metadata": {
    "tags": []
   },
   "outputs": [
    {
     "data": {
      "text/html": [
       "<div>\n",
       "<style scoped>\n",
       "    .dataframe tbody tr th:only-of-type {\n",
       "        vertical-align: middle;\n",
       "    }\n",
       "\n",
       "    .dataframe tbody tr th {\n",
       "        vertical-align: top;\n",
       "    }\n",
       "\n",
       "    .dataframe thead th {\n",
       "        text-align: right;\n",
       "    }\n",
       "</style>\n",
       "<table border=\"1\" class=\"dataframe\">\n",
       "  <thead>\n",
       "    <tr style=\"text-align: right;\">\n",
       "      <th></th>\n",
       "      <th>Not_Delayed</th>\n",
       "      <th>Delayed</th>\n",
       "    </tr>\n",
       "  </thead>\n",
       "  <tbody>\n",
       "    <tr>\n",
       "      <th>0</th>\n",
       "      <td>0.043784</td>\n",
       "      <td>0.956216</td>\n",
       "    </tr>\n",
       "    <tr>\n",
       "      <th>1</th>\n",
       "      <td>0.018054</td>\n",
       "      <td>0.981946</td>\n",
       "    </tr>\n",
       "  </tbody>\n",
       "</table>\n",
       "</div>"
      ],
      "text/plain": [
       "   Not_Delayed   Delayed\n",
       "0     0.043784  0.956216\n",
       "1     0.018054  0.981946"
      ]
     },
     "execution_count": 24,
     "metadata": {},
     "output_type": "execute_result"
    }
   ],
   "source": [
    "pred3 = pred3.rename(columns = {0:'Not_Delayed',1:'Delayed'})\n",
    "pred3.head(2)"
   ]
  },
  {
   "cell_type": "code",
   "execution_count": 30,
   "id": "38ff0703-894a-4f46-8c88-d457443c2cc4",
   "metadata": {
    "tags": []
   },
   "outputs": [],
   "source": [
    "sample_submission = pd.read_csv('./datasets/open/sample_submission.csv', index_col = 0)\n",
    "\n",
    "submission = pd.DataFrame(data=pred3, index=sample_submission.index)\n",
    "submission.to_csv('./datasets/submit4.csv', index=True)"
   ]
  },
  {
   "cell_type": "code",
   "execution_count": null,
   "id": "e803fb5d-87df-41f5-87f7-9b2eb919efec",
   "metadata": {
    "tags": []
   },
   "outputs": [],
   "source": [
    "# from sklearn.metrics import log_loss\n",
    "\n",
    "# binary_logloss1 = log_loss(y_valid, pred1)\n",
    "# print(binary_logloss)"
   ]
  },
  {
   "cell_type": "code",
   "execution_count": null,
   "id": "8e7c7fac-0ada-4cba-bea3-fb39d425d618",
   "metadata": {},
   "outputs": [],
   "source": []
  },
  {
   "cell_type": "code",
   "execution_count": null,
   "id": "09065a2c-b0eb-4c4a-b31d-25c2ce85e8c2",
   "metadata": {
    "tags": []
   },
   "outputs": [],
   "source": []
  },
  {
   "cell_type": "code",
   "execution_count": null,
   "id": "53e02d53-a44e-46be-8f43-a43b843888d2",
   "metadata": {},
   "outputs": [],
   "source": []
  },
  {
   "cell_type": "code",
   "execution_count": null,
   "id": "2239667f-58e1-4da0-b1dd-572da84a3cad",
   "metadata": {},
   "outputs": [],
   "source": []
  },
  {
   "cell_type": "code",
   "execution_count": null,
   "id": "f35361e5-72b6-4c5f-8bd1-0d00ceb61ac3",
   "metadata": {},
   "outputs": [],
   "source": []
  },
  {
   "cell_type": "code",
   "execution_count": null,
   "id": "c1e9c55e-a9c3-45f2-8f9b-4b998d975aa2",
   "metadata": {},
   "outputs": [],
   "source": []
  },
  {
   "cell_type": "code",
   "execution_count": null,
   "id": "16c1f265-877f-4736-b5ba-d8c1c7db3745",
   "metadata": {},
   "outputs": [],
   "source": []
  },
  {
   "cell_type": "code",
   "execution_count": null,
   "id": "f811f716-541e-4879-8ef2-41ecca0bab98",
   "metadata": {},
   "outputs": [],
   "source": []
  },
  {
   "cell_type": "code",
   "execution_count": null,
   "id": "f68a8846-69d1-4ea8-88be-1bf36845a915",
   "metadata": {},
   "outputs": [],
   "source": []
  }
 ],
 "metadata": {
  "kernelspec": {
   "display_name": "Python 3 (ipykernel)",
   "language": "python",
   "name": "python3"
  },
  "language_info": {
   "codemirror_mode": {
    "name": "ipython",
    "version": 3
   },
   "file_extension": ".py",
   "mimetype": "text/x-python",
   "name": "python",
   "nbconvert_exporter": "python",
   "pygments_lexer": "ipython3",
   "version": "3.8.8"
  }
 },
 "nbformat": 4,
 "nbformat_minor": 5
}
