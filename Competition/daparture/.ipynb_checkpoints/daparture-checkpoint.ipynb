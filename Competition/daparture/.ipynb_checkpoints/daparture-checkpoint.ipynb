{
 "cells": [
  {
   "cell_type": "markdown",
   "id": "68d16b7f-6d53-4111-bf5e-92c19727b696",
   "metadata": {},
   "source": [
    "# 지연 예측"
   ]
  },
  {
   "cell_type": "code",
   "execution_count": 1,
   "id": "797d803a-a69c-4139-8428-f24b579dde9a",
   "metadata": {},
   "outputs": [
    {
     "data": {
      "text/html": [
       "<style>.container{width:100% !important;}</style>"
      ],
      "text/plain": [
       "<IPython.core.display.HTML object>"
      ]
     },
     "metadata": {},
     "output_type": "display_data"
    }
   ],
   "source": [
    "import numpy as np\n",
    "import pandas as pd\n",
    "\n",
    "import matplotlib.pyplot as plt\n",
    "import seaborn as sns\n",
    "\n",
    "\n",
    "sns.set()\n",
    "\n",
    "#-------------------- 차트 관련 속성 (한글처리, 그리드) -----------\n",
    "plt.rcParams['font.family']= 'Malgun Gothic'\n",
    "plt.rcParams['axes.unicode_minus'] = False\n",
    "\n",
    "#-------------------- 주피터 , 출력결과 넓이 늘리기 ---------------\n",
    "# from IPython.core.display import display, HTML\n",
    "from IPython.display import display, HTML\n",
    "\n",
    "display(HTML(\"<style>.container{width:100% !important;}</style>\"))\n",
    "pd.set_option('display.max_rows', 100)\n",
    "pd.set_option('display.max_columns', 100)\n",
    "pd.set_option('max_colwidth', None)\n",
    "\n",
    "import warnings\n",
    "warnings.filterwarnings(action='ignore')"
   ]
  },
  {
   "cell_type": "code",
   "execution_count": 2,
   "id": "30327934-9768-4164-8e1e-05a7c40df953",
   "metadata": {
    "tags": []
   },
   "outputs": [],
   "source": [
    "import pandas_profiling\n",
    "\n",
    "# ----------------- 학습 ----------------------\n",
    "from sklearn.model_selection import train_test_split, cross_val_score\n",
    "from sklearn.preprocessing import StandardScaler, MinMaxScaler, RobustScaler\n",
    "\n",
    "# ----------------- 모델 ----------------------\n",
    "from sklearn.tree import DecisionTreeClassifier\n",
    "from sklearn.linear_model import LogisticRegression\n",
    "from sklearn.linear_model import Ridge\n",
    "from sklearn.ensemble     import RandomForestRegressor\n",
    "\n",
    "# ----------------- 평가 ----------------------\n",
    "from sklearn.metrics import confusion_matrix\n",
    "\n",
    "from sklearn.metrics import classification_report\n",
    "from sklearn.metrics import accuracy_score\n",
    "# from sklearn.metrics import f1_score, precision_score, recall_score\n",
    "# from sklearn.metrics import precision_recall_curve, plot_precision_recall_curve\n",
    "\n",
    "# from sklearn.metrics import roc_auc_score, roc_curve, plot_roc_curve"
   ]
  },
  {
   "cell_type": "markdown",
   "id": "a26beea9-a16b-47b6-8405-57e2040ef1ab",
   "metadata": {},
   "source": [
    "<pre>\n",
    "Dataset Info.\n",
    "\n",
    "train.csv \n",
    "1,000,000개의 데이터\n",
    "ID           : 샘플 고유 id\n",
    "\n",
    "항공편 운항 관련 정보\n",
    "Month                              : 해당 항공편의 출발 월\n",
    "Day_of_Month                       : Month에 해당하는 월의 날짜\n",
    "\n",
    "Estimated_Departure_Time           : 전산 시스템을 바탕으로 측정된 비행기의 출발 시간 (현지 시각, HH:MM 형식)\n",
    "Estimated_Arrival_Time             : 전산 시스템을 바탕으로 측정된 비행기의 도착 시간 (현지 시각, HH:MM 형식)\n",
    "\n",
    "Cancelled                          : 해당 항공편의 취소 여부 (0: 취소되지 않음, 1: 취소됨)\n",
    "Diverted                           : 해당 항공편의 경유 여부 (0: 취소되지 않음, 1: 취소됨)\n",
    "\n",
    "Origin_Airport                     : 해당 항공편 출발 공항의 고유 코드 (IATA 공항 코드)\n",
    "Origin_Airport_ID                  : 해당 항공편 출발 공항의 고유 ID (US DOT ID)\n",
    "\n",
    "Origin_State                       : 해당 항공편 출발 공항이 위치한 주의 이름\n",
    "\n",
    "Destination_Airport                : 해당 항공편 도착 공항의 고유 코드 (IATA 공항 코드)\n",
    "Destination_Airport_ID             : 해당 항공편 도착 공항의 고유 ID (US DOT ID)\n",
    "\n",
    "Destination_State                  : 해당 항공편 도착 공항이 위치한 주의 이름\n",
    "\n",
    "Distance                           : 출발 공항과 도착 공항 사이의 거리 (mile 단위)\n",
    "\n",
    "Airline                            : 해당 항공편을 운항하는 항공사\n",
    "Carrier_Code(IATA)                 : 해당 항공편을 운항하는 항공사의 고유 코드 (IATA 공항 코드, 단 다른 항공사가 같은 코드를 보유할 수도 있음)\n",
    "Carrier_ID(DOT)                    : 해당 항공편을 운항하는 항공사의 고유 ID (US DOT ID)\n",
    "\n",
    "Tail_Number                        : 해당 항공편을 운항하는 항공기의 고유 등록번호\n",
    "\n",
    "\n",
    "Delay                              : 항공편 지연 여부 (Not_Delayed, Delayed) 예측해야 하는 타깃 --- null 값\n",
    "\n",
    "다수의 데이터에 레이블이 존재하지 않음\n",
    "준지도학습을 통해 레이블링 가능\n",
    "\n",
    "\n",
    "test.csv \n",
    "1,000,000개의 데이터\n",
    "ID : 샘플 고유 id\n",
    "\n",
    "항공편 운항 관련 정보\n",
    "Month                             : 해당 항공편의 출발 월\n",
    "Day_of_Month                      : Month에 해당하는 월의 날짜\n",
    "Estimated_Departure_Time          : 전산 시스템을 바탕으로 측정된 비행기의 출발 시간 (현지 시각, HH:MM 형식)\n",
    "Estimated_Arrival_Time            : 전산 시스템을 바탕으로 측정된 비행기의 도착 시간 (현지 시각, HH:MM 형식)\n",
    "Cancelled                         : 해당 항공편의 취소 여부 (0: 취소되지 않음, 1: 취소됨)\n",
    "Diverted                          : 해당 항공편의 경유 여부 (0: 취소되지 않음, 1: 취소됨)\n",
    "Origin_Airport                    : 해당 항공편 출발 공항의 고유 코드 (IATA 공항 코드)\n",
    "Origin_Airport_ID                 : 해당 항공편 출발 공항의 고유 ID (US DOT ID)\n",
    "Origin_State                      : 해당 항공편 출발 공항이 위치한 주의 이름\n",
    "Destination_Airport               : 해당 항공편 도착 공항의 고유 코드 (IATA 공항 코드)\n",
    "Destination_Airport_ID            : 해당 항공편 도착 공항의 고유 ID (US DOT ID)\n",
    "Destination_State                 : 해당 항공편 도착 공항이 위치한 주의 이름\n",
    "Distance                          : 출발 공항과 도착 공항 사이의 거리 (mile 단위)\n",
    "Airline                           : 해당 항공편을 운항하는 항공사\n",
    "Carrier_Code(IATA)                : 해당 항공편을 운항하는 항공사의 고유 코드 (IATA 공항 코드, 단 다른 항공사가 같은 코드를 보유할 수도 있음)\n",
    "Carrier_ID(DOT)                   : 해당 항공편을 운항하는 항공사의 고유 ID (US DOT ID)\n",
    "Tail_Number                       : 해당 항공편을 운항하는 항공기의 고유 등록번호\n",
    "\n",
    "\n",
    "sample_submission.csv\n",
    "ID : 샘플 고유 id\n",
    "Not_Delayed: 특정 샘플에 해당하는 항공편이 지연되지 않을 확률\n",
    "Delayed: 특정 샘플에 해당하는 항공편이 지연될 확률\n"
   ]
  },
  {
   "cell_type": "code",
   "execution_count": 3,
   "id": "eb8c77af-30fe-4d9c-95dd-f1ff8bed38f9",
   "metadata": {
    "tags": []
   },
   "outputs": [
    {
     "name": "stdout",
     "output_type": "stream",
     "text": [
      "<class 'pandas.core.frame.DataFrame'>\n",
      "RangeIndex: 1000000 entries, 0 to 999999\n",
      "Data columns (total 19 columns):\n",
      " #   Column                    Non-Null Count    Dtype  \n",
      "---  ------                    --------------    -----  \n",
      " 0   id                        1000000 non-null  object \n",
      " 1   month                     1000000 non-null  int64  \n",
      " 2   day_of_month              1000000 non-null  int64  \n",
      " 3   estimated_departure_time  890981 non-null   object \n",
      " 4   estimated_arrival_time    890960 non-null   object \n",
      " 5   cancelled                 1000000 non-null  int64  \n",
      " 6   diverted                  1000000 non-null  int64  \n",
      " 7   origin_airport            1000000 non-null  object \n",
      " 8   origin_airport_id         1000000 non-null  int64  \n",
      " 9   origin_state              890985 non-null   object \n",
      " 10  destination_airport       1000000 non-null  object \n",
      " 11  destination_airport_id    1000000 non-null  int64  \n",
      " 12  destination_state         890921 non-null   object \n",
      " 13  distance                  1000000 non-null  float64\n",
      " 14  airline                   891080 non-null   object \n",
      " 15  carrier_code(iata)        891010 non-null   object \n",
      " 16  carrier_id(dot)           891003 non-null   float64\n",
      " 17  tail_number               1000000 non-null  object \n",
      " 18  delay                     255001 non-null   object \n",
      "dtypes: float64(2), int64(6), object(11)\n",
      "memory usage: 145.0+ MB\n",
      "None\n"
     ]
    }
   ],
   "source": [
    "train = pd.read_csv(\"./datasets/open/train.csv\", parse_dates=[\"Estimated_Departure_Time\",\"Estimated_Arrival_Time\"])\n",
    "test = pd.read_csv(\"./datasets/open/test.csv\")\n",
    "train.columns = train.columns.str.lower()\n",
    "test.columns = test.columns.str.lower()\n",
    "\n",
    "print(train.info())\n",
    "\n"
   ]
  },
  {
   "cell_type": "code",
   "execution_count": 4,
   "id": "ba0e6bb4-9ed7-4747-9588-5a30d0a49ddc",
   "metadata": {
    "tags": []
   },
   "outputs": [
    {
     "data": {
      "text/html": [
       "<div>\n",
       "<style scoped>\n",
       "    .dataframe tbody tr th:only-of-type {\n",
       "        vertical-align: middle;\n",
       "    }\n",
       "\n",
       "    .dataframe tbody tr th {\n",
       "        vertical-align: top;\n",
       "    }\n",
       "\n",
       "    .dataframe thead th {\n",
       "        text-align: right;\n",
       "    }\n",
       "</style>\n",
       "<table border=\"1\" class=\"dataframe\">\n",
       "  <thead>\n",
       "    <tr style=\"text-align: right;\">\n",
       "      <th></th>\n",
       "      <th>id</th>\n",
       "      <th>month</th>\n",
       "      <th>day_of_month</th>\n",
       "      <th>estimated_departure_time</th>\n",
       "      <th>estimated_arrival_time</th>\n",
       "      <th>cancelled</th>\n",
       "      <th>diverted</th>\n",
       "      <th>origin_airport</th>\n",
       "      <th>origin_airport_id</th>\n",
       "      <th>origin_state</th>\n",
       "      <th>destination_airport</th>\n",
       "      <th>destination_airport_id</th>\n",
       "      <th>destination_state</th>\n",
       "      <th>distance</th>\n",
       "      <th>airline</th>\n",
       "      <th>carrier_code(iata)</th>\n",
       "      <th>carrier_id(dot)</th>\n",
       "      <th>tail_number</th>\n",
       "      <th>delay</th>\n",
       "    </tr>\n",
       "  </thead>\n",
       "  <tbody>\n",
       "    <tr>\n",
       "      <th>0</th>\n",
       "      <td>TRAIN_000000</td>\n",
       "      <td>4</td>\n",
       "      <td>15</td>\n",
       "      <td>NaN</td>\n",
       "      <td>NaN</td>\n",
       "      <td>0</td>\n",
       "      <td>0</td>\n",
       "      <td>OKC</td>\n",
       "      <td>13851</td>\n",
       "      <td>Oklahoma</td>\n",
       "      <td>HOU</td>\n",
       "      <td>12191</td>\n",
       "      <td>Texas</td>\n",
       "      <td>419.0</td>\n",
       "      <td>Southwest Airlines Co.</td>\n",
       "      <td>WN</td>\n",
       "      <td>19393.0</td>\n",
       "      <td>N7858A</td>\n",
       "      <td>NaN</td>\n",
       "    </tr>\n",
       "    <tr>\n",
       "      <th>1</th>\n",
       "      <td>TRAIN_000001</td>\n",
       "      <td>8</td>\n",
       "      <td>15</td>\n",
       "      <td>740.0</td>\n",
       "      <td>1024.0</td>\n",
       "      <td>0</td>\n",
       "      <td>0</td>\n",
       "      <td>ORD</td>\n",
       "      <td>13930</td>\n",
       "      <td>Illinois</td>\n",
       "      <td>SLC</td>\n",
       "      <td>14869</td>\n",
       "      <td>Utah</td>\n",
       "      <td>1250.0</td>\n",
       "      <td>SkyWest Airlines Inc.</td>\n",
       "      <td>UA</td>\n",
       "      <td>20304.0</td>\n",
       "      <td>N125SY</td>\n",
       "      <td>NaN</td>\n",
       "    </tr>\n",
       "    <tr>\n",
       "      <th>2</th>\n",
       "      <td>TRAIN_000002</td>\n",
       "      <td>9</td>\n",
       "      <td>6</td>\n",
       "      <td>1610.0</td>\n",
       "      <td>1805.0</td>\n",
       "      <td>0</td>\n",
       "      <td>0</td>\n",
       "      <td>CLT</td>\n",
       "      <td>11057</td>\n",
       "      <td>North Carolina</td>\n",
       "      <td>LGA</td>\n",
       "      <td>12953</td>\n",
       "      <td>New York</td>\n",
       "      <td>544.0</td>\n",
       "      <td>American Airlines Inc.</td>\n",
       "      <td>AA</td>\n",
       "      <td>19805.0</td>\n",
       "      <td>N103US</td>\n",
       "      <td>NaN</td>\n",
       "    </tr>\n",
       "    <tr>\n",
       "      <th>3</th>\n",
       "      <td>TRAIN_000003</td>\n",
       "      <td>7</td>\n",
       "      <td>10</td>\n",
       "      <td>905.0</td>\n",
       "      <td>1735.0</td>\n",
       "      <td>0</td>\n",
       "      <td>0</td>\n",
       "      <td>LAX</td>\n",
       "      <td>12892</td>\n",
       "      <td>California</td>\n",
       "      <td>EWR</td>\n",
       "      <td>11618</td>\n",
       "      <td>New Jersey</td>\n",
       "      <td>2454.0</td>\n",
       "      <td>United Air Lines Inc.</td>\n",
       "      <td>UA</td>\n",
       "      <td>NaN</td>\n",
       "      <td>N595UA</td>\n",
       "      <td>NaN</td>\n",
       "    </tr>\n",
       "    <tr>\n",
       "      <th>4</th>\n",
       "      <td>TRAIN_000004</td>\n",
       "      <td>1</td>\n",
       "      <td>11</td>\n",
       "      <td>900.0</td>\n",
       "      <td>1019.0</td>\n",
       "      <td>0</td>\n",
       "      <td>0</td>\n",
       "      <td>SFO</td>\n",
       "      <td>14771</td>\n",
       "      <td>California</td>\n",
       "      <td>ACV</td>\n",
       "      <td>10157</td>\n",
       "      <td>California</td>\n",
       "      <td>250.0</td>\n",
       "      <td>SkyWest Airlines Inc.</td>\n",
       "      <td>UA</td>\n",
       "      <td>20304.0</td>\n",
       "      <td>N161SY</td>\n",
       "      <td>NaN</td>\n",
       "    </tr>\n",
       "  </tbody>\n",
       "</table>\n",
       "</div>"
      ],
      "text/plain": [
       "             id  month  day_of_month estimated_departure_time  \\\n",
       "0  TRAIN_000000      4            15                      NaN   \n",
       "1  TRAIN_000001      8            15                    740.0   \n",
       "2  TRAIN_000002      9             6                   1610.0   \n",
       "3  TRAIN_000003      7            10                    905.0   \n",
       "4  TRAIN_000004      1            11                    900.0   \n",
       "\n",
       "  estimated_arrival_time  cancelled  diverted origin_airport  \\\n",
       "0                    NaN          0         0            OKC   \n",
       "1                 1024.0          0         0            ORD   \n",
       "2                 1805.0          0         0            CLT   \n",
       "3                 1735.0          0         0            LAX   \n",
       "4                 1019.0          0         0            SFO   \n",
       "\n",
       "   origin_airport_id    origin_state destination_airport  \\\n",
       "0              13851        Oklahoma                 HOU   \n",
       "1              13930        Illinois                 SLC   \n",
       "2              11057  North Carolina                 LGA   \n",
       "3              12892      California                 EWR   \n",
       "4              14771      California                 ACV   \n",
       "\n",
       "   destination_airport_id destination_state  distance                 airline  \\\n",
       "0                   12191             Texas     419.0  Southwest Airlines Co.   \n",
       "1                   14869              Utah    1250.0   SkyWest Airlines Inc.   \n",
       "2                   12953          New York     544.0  American Airlines Inc.   \n",
       "3                   11618        New Jersey    2454.0   United Air Lines Inc.   \n",
       "4                   10157        California     250.0   SkyWest Airlines Inc.   \n",
       "\n",
       "  carrier_code(iata)  carrier_id(dot) tail_number delay  \n",
       "0                 WN          19393.0      N7858A   NaN  \n",
       "1                 UA          20304.0      N125SY   NaN  \n",
       "2                 AA          19805.0      N103US   NaN  \n",
       "3                 UA              NaN      N595UA   NaN  \n",
       "4                 UA          20304.0      N161SY   NaN  "
      ]
     },
     "execution_count": 4,
     "metadata": {},
     "output_type": "execute_result"
    }
   ],
   "source": [
    "train.head()"
   ]
  },
  {
   "cell_type": "code",
   "execution_count": 5,
   "id": "947ae9d5-98c7-44bd-b167-1d2a35857a3b",
   "metadata": {
    "tags": []
   },
   "outputs": [
    {
     "data": {
      "text/plain": [
       "id                               0\n",
       "month                            0\n",
       "day_of_month                     0\n",
       "estimated_departure_time    109019\n",
       "estimated_arrival_time      109040\n",
       "cancelled                        0\n",
       "diverted                         0\n",
       "origin_airport                   0\n",
       "origin_airport_id                0\n",
       "origin_state                109015\n",
       "destination_airport              0\n",
       "destination_airport_id           0\n",
       "destination_state           109079\n",
       "distance                         0\n",
       "airline                     108920\n",
       "carrier_code(iata)          108990\n",
       "carrier_id(dot)             108997\n",
       "tail_number                      0\n",
       "delay                       744999\n",
       "dtype: int64"
      ]
     },
     "execution_count": 5,
     "metadata": {},
     "output_type": "execute_result"
    }
   ],
   "source": [
    "train.isna().sum()"
   ]
  },
  {
   "cell_type": "code",
   "execution_count": 6,
   "id": "db1fd36a-f0cb-453d-ae80-6cb48664d7dd",
   "metadata": {
    "tags": []
   },
   "outputs": [],
   "source": [
    "# train[\"Carrier_Code(IATA)\"].head()"
   ]
  },
  {
   "cell_type": "markdown",
   "id": "805dbd54-0c7f-4907-966e-5c66224346f5",
   "metadata": {},
   "source": [
    "# EDA"
   ]
  },
  {
   "cell_type": "code",
   "execution_count": 7,
   "id": "1c5bc72b-8c5d-4083-b6e6-a89ebc98f809",
   "metadata": {
    "tags": []
   },
   "outputs": [],
   "source": [
    "# sns.pairplot(train)\n",
    "# plt.show()"
   ]
  },
  {
   "cell_type": "markdown",
   "id": "761bcf15-7483-48e5-9a48-899bbcbd7870",
   "metadata": {},
   "source": [
    "<img src = \"./datasets/pairplot.png\"//>"
   ]
  },
  {
   "cell_type": "code",
   "execution_count": 8,
   "id": "965be919-539a-496d-8e82-b21466656b0b",
   "metadata": {
    "tags": []
   },
   "outputs": [
    {
     "data": {
      "image/png": "[encoded data removed]",
      "text/plain": [
       "<Figure size 640x480 with 9 Axes>"
      ]
     },
     "metadata": {},
     "output_type": "display_data"
    }
   ],
   "source": [
    "train.hist()\n",
    "plt.show()"
   ]
  },
  {
   "cell_type": "markdown",
   "id": "49b34108-e957-4e83-bd14-9bb017066721",
   "metadata": {
    "tags": []
   },
   "source": [
    "## drop columns"
   ]
  },
  {
   "cell_type": "code",
   "execution_count": 9,
   "id": "8cf7917c-eef2-4c25-8af5-be83c419acc6",
   "metadata": {
    "tags": []
   },
   "outputs": [
    {
     "data": {
      "text/plain": [
       "Index(['id', 'month', 'day_of_month', 'estimated_departure_time',\n",
       "       'estimated_arrival_time', 'cancelled', 'diverted', 'origin_airport',\n",
       "       'origin_airport_id', 'origin_state', 'destination_airport',\n",
       "       'destination_airport_id', 'destination_state', 'distance', 'airline',\n",
       "       'carrier_code(iata)', 'carrier_id(dot)', 'tail_number', 'delay'],\n",
       "      dtype='object')"
      ]
     },
     "execution_count": 9,
     "metadata": {},
     "output_type": "execute_result"
    }
   ],
   "source": [
    "train.columns"
   ]
  },
  {
   "cell_type": "code",
   "execution_count": 10,
   "id": "bae588b4-161e-433e-9524-e388f71f99f2",
   "metadata": {
    "tags": []
   },
   "outputs": [
    {
     "name": "stdout",
     "output_type": "stream",
     "text": [
      "<class 'pandas.core.frame.DataFrame'>\n",
      "RangeIndex: 1000000 entries, 0 to 999999\n",
      "Data columns (total 10 columns):\n",
      " #   Column                    Non-Null Count    Dtype  \n",
      "---  ------                    --------------    -----  \n",
      " 0   id                        1000000 non-null  object \n",
      " 1   month                     1000000 non-null  int64  \n",
      " 2   day_of_month              1000000 non-null  int64  \n",
      " 3   estimated_departure_time  890981 non-null   object \n",
      " 4   estimated_arrival_time    890960 non-null   object \n",
      " 5   origin_airport_id         1000000 non-null  int64  \n",
      " 6   destination_airport_id    1000000 non-null  int64  \n",
      " 7   distance                  1000000 non-null  float64\n",
      " 8   tail_number               1000000 non-null  object \n",
      " 9   delay                     255001 non-null   object \n",
      "dtypes: float64(1), int64(4), object(5)\n",
      "memory usage: 76.3+ MB\n",
      "<class 'pandas.core.frame.DataFrame'>\n",
      "RangeIndex: 1000000 entries, 0 to 999999\n",
      "Data columns (total 9 columns):\n",
      " #   Column                    Non-Null Count    Dtype  \n",
      "---  ------                    --------------    -----  \n",
      " 0   id                        1000000 non-null  object \n",
      " 1   month                     1000000 non-null  int64  \n",
      " 2   day_of_month              1000000 non-null  int64  \n",
      " 3   estimated_departure_time  891016 non-null   float64\n",
      " 4   estimated_arrival_time    890952 non-null   float64\n",
      " 5   origin_airport_id         1000000 non-null  int64  \n",
      " 6   destination_airport_id    1000000 non-null  int64  \n",
      " 7   distance                  1000000 non-null  float64\n",
      " 8   tail_number               1000000 non-null  object \n",
      "dtypes: float64(3), int64(4), object(2)\n",
      "memory usage: 68.7+ MB\n"
     ]
    },
    {
     "data": {
      "text/plain": [
       "(None, None)"
      ]
     },
     "execution_count": 10,
     "metadata": {},
     "output_type": "execute_result"
    }
   ],
   "source": [
    "# drop_columns = [[\"carrier_code(iata)\",\"carrier_id(dot)\", \"airline\",\"origin_airport\",\"destination_airport\",\"origin_state\") \n",
    "train = train.drop([\"carrier_code(iata)\",\"carrier_id(dot)\", \"airline\",\"origin_airport\",\"destination_airport\",\"cancelled\",\"diverted\",\"origin_state\",\"destination_state\"], axis = 1) \n",
    "test = test.drop([\"carrier_code(iata)\",\"carrier_id(dot)\", \"airline\",\"origin_airport\",\"destination_airport\",\"cancelled\",\"diverted\",\"origin_state\",\"destination_state\"],  axis=1)\n",
    "train.info(), test.info()"
   ]
  },
  {
   "cell_type": "markdown",
   "id": "0a8ecc17-662f-4eb3-9646-405b40573b47",
   "metadata": {},
   "source": [
    "### 항공사 관련 null"
   ]
  },
  {
   "cell_type": "code",
   "execution_count": 11,
   "id": "edcf2a7d-9850-4139-92d6-7c4e9c64c0bc",
   "metadata": {
    "tags": []
   },
   "outputs": [],
   "source": [
    "# train[[\"carrier_id(dot)\",\"tail_number\"]][train[\"tail_number\"]==train[\"tail_number\"]].value_counts()"
   ]
  },
  {
   "cell_type": "code",
   "execution_count": 12,
   "id": "ac0849cd-3701-43f0-a587-e3ca9d35ad5f",
   "metadata": {
    "tags": []
   },
   "outputs": [
    {
     "data": {
      "text/plain": [
       "N483HA    530\n",
       "N487HA    525\n",
       "N488HA    518\n",
       "N495HA    497\n",
       "N476HA    489\n",
       "         ... \n",
       "N999FR      1\n",
       "N863DA      1\n",
       "N853NW      1\n",
       "N860NW      1\n",
       "N867DA      1\n",
       "Name: tail_number, Length: 6430, dtype: int64"
      ]
     },
     "execution_count": 12,
     "metadata": {},
     "output_type": "execute_result"
    }
   ],
   "source": [
    "train[\"tail_number\"].value_counts()"
   ]
  },
  {
   "cell_type": "markdown",
   "id": "b43529c7-c072-4480-ac3b-dc29ed6b4e7f",
   "metadata": {},
   "source": [
    "### 출발지, 도착지 null"
   ]
  },
  {
   "cell_type": "code",
   "execution_count": 13,
   "id": "07f74f98-6e4b-4812-ae24-307ca5cd8fc2",
   "metadata": {
    "tags": []
   },
   "outputs": [],
   "source": [
    "# train[\"origin_state\"].value_counts()"
   ]
  },
  {
   "cell_type": "code",
   "execution_count": 14,
   "id": "94eb8958-adce-4640-83ac-affb63714305",
   "metadata": {
    "tags": []
   },
   "outputs": [
    {
     "data": {
      "text/plain": [
       "374"
      ]
     },
     "execution_count": 14,
     "metadata": {},
     "output_type": "execute_result"
    }
   ],
   "source": [
    "train[\"origin_airport_id\"].nunique()"
   ]
  },
  {
   "cell_type": "markdown",
   "id": "5f0530ea-ed2d-436e-93d6-019520e7a4c4",
   "metadata": {},
   "source": [
    "## heatmap"
   ]
  },
  {
   "cell_type": "code",
   "execution_count": 15,
   "id": "957edaa5-257d-4019-bf52-193a400855b1",
   "metadata": {
    "tags": []
   },
   "outputs": [
    {
     "data": {
      "image/png": "[encoded data removed]",
      "text/plain": [
       "<Figure size 640x480 with 2 Axes>"
      ]
     },
     "metadata": {},
     "output_type": "display_data"
    }
   ],
   "source": [
    "sns.heatmap(train.corr(), annot=True)\n",
    "plt.show()"
   ]
  },
  {
   "cell_type": "code",
   "execution_count": 16,
   "id": "2af12fa7-1581-4b98-8bc1-829a9a0dc417",
   "metadata": {
    "tags": []
   },
   "outputs": [],
   "source": [
    "# train['origin_state'].fillna(train.groupby('origin_airport_id')['origin_state'].transform(lambda x: x.value_counts().idxmax()), inplace=True)"
   ]
  },
  {
   "cell_type": "code",
   "execution_count": 17,
   "id": "fb2aa939-f9d6-4060-8b32-90660a62609a",
   "metadata": {
    "tags": []
   },
   "outputs": [
    {
     "name": "stdout",
     "output_type": "stream",
     "text": [
      "<class 'pandas.core.frame.DataFrame'>\n",
      "RangeIndex: 1000000 entries, 0 to 999999\n",
      "Data columns (total 10 columns):\n",
      " #   Column                    Non-Null Count    Dtype  \n",
      "---  ------                    --------------    -----  \n",
      " 0   id                        1000000 non-null  object \n",
      " 1   month                     1000000 non-null  int64  \n",
      " 2   day_of_month              1000000 non-null  int64  \n",
      " 3   estimated_departure_time  890981 non-null   object \n",
      " 4   estimated_arrival_time    890960 non-null   object \n",
      " 5   origin_airport_id         1000000 non-null  int64  \n",
      " 6   destination_airport_id    1000000 non-null  int64  \n",
      " 7   distance                  1000000 non-null  float64\n",
      " 8   tail_number               1000000 non-null  object \n",
      " 9   delay                     255001 non-null   object \n",
      "dtypes: float64(1), int64(4), object(5)\n",
      "memory usage: 76.3+ MB\n",
      "None\n",
      "<class 'pandas.core.frame.DataFrame'>\n",
      "RangeIndex: 1000000 entries, 0 to 999999\n",
      "Data columns (total 9 columns):\n",
      " #   Column                    Non-Null Count    Dtype  \n",
      "---  ------                    --------------    -----  \n",
      " 0   id                        1000000 non-null  object \n",
      " 1   month                     1000000 non-null  int64  \n",
      " 2   day_of_month              1000000 non-null  int64  \n",
      " 3   estimated_departure_time  891016 non-null   float64\n",
      " 4   estimated_arrival_time    890952 non-null   float64\n",
      " 5   origin_airport_id         1000000 non-null  int64  \n",
      " 6   destination_airport_id    1000000 non-null  int64  \n",
      " 7   distance                  1000000 non-null  float64\n",
      " 8   tail_number               1000000 non-null  object \n",
      "dtypes: float64(3), int64(4), object(2)\n",
      "memory usage: 68.7+ MB\n",
      "None\n"
     ]
    }
   ],
   "source": [
    "print(train.info())\n",
    "print(test.info())"
   ]
  },
  {
   "cell_type": "code",
   "execution_count": 18,
   "id": "f36cf9d9-9a79-4a57-af37-c04a9fd42cc7",
   "metadata": {
    "tags": []
   },
   "outputs": [
    {
     "data": {
      "text/plain": [
       "600.0     17423\n",
       "700.0     11585\n",
       "800.0      6859\n",
       "830.0      5484\n",
       "1000.0     5418\n",
       "          ...  \n",
       "441.0         1\n",
       "442.0         1\n",
       "358.0         1\n",
       "437.0         1\n",
       "303.0         1\n",
       "Name: estimated_departure_time, Length: 1365, dtype: int64"
      ]
     },
     "execution_count": 18,
     "metadata": {},
     "output_type": "execute_result"
    }
   ],
   "source": [
    "train[\"estimated_departure_time\"].value_counts()"
   ]
  },
  {
   "cell_type": "code",
   "execution_count": 19,
   "id": "ee730eab-d9be-4d38-8c16-63f12d42af99",
   "metadata": {
    "tags": []
   },
   "outputs": [
    {
     "data": {
      "text/plain": [
       "1900.0    2794\n",
       "2100.0    2750\n",
       "1700.0    2526\n",
       "1625.0    2522\n",
       "1710.0    2453\n",
       "          ... \n",
       "244.0        1\n",
       "232.0        1\n",
       "412.0        1\n",
       "332.0        1\n",
       "321.0        1\n",
       "Name: estimated_arrival_time, Length: 1428, dtype: int64"
      ]
     },
     "execution_count": 19,
     "metadata": {},
     "output_type": "execute_result"
    }
   ],
   "source": [
    "train[\"estimated_arrival_time\"].value_counts()"
   ]
  },
  {
   "cell_type": "code",
   "execution_count": 20,
   "id": "f602f71a-4bf5-481c-b996-3bda40b38ede",
   "metadata": {
    "tags": []
   },
   "outputs": [
    {
     "data": {
      "text/plain": [
       "0     419.0\n",
       "1    1250.0\n",
       "2     544.0\n",
       "3    2454.0\n",
       "4     250.0\n",
       "Name: distance, dtype: float64"
      ]
     },
     "execution_count": 20,
     "metadata": {},
     "output_type": "execute_result"
    }
   ],
   "source": [
    "train[\"distance\"].head()"
   ]
  },
  {
   "cell_type": "markdown",
   "id": "c1f20f45-9390-4be7-b5e7-c75fddfbf551",
   "metadata": {},
   "source": [
    "# feature engineering"
   ]
  },
  {
   "cell_type": "markdown",
   "id": "a525b1ca-7d53-47a6-9150-f1d8d654c8e3",
   "metadata": {},
   "source": [
    "## etimated time 예측"
   ]
  },
  {
   "cell_type": "markdown",
   "id": "b260947a-0a2b-49a0-b516-3afa408a8d0a",
   "metadata": {},
   "source": [
    "### train"
   ]
  },
  {
   "cell_type": "markdown",
   "id": "64d472e7-7856-4d5f-8ce8-0db9106ad20b",
   "metadata": {},
   "source": [
    "#### [\"estimated_departure_time\"]"
   ]
  },
  {
   "cell_type": "code",
   "execution_count": 21,
   "id": "44552d93-3446-4d6d-b29f-e63dbdd77c3c",
   "metadata": {
    "tags": []
   },
   "outputs": [
    {
     "data": {
      "text/plain": [
       "id                               0\n",
       "month                            0\n",
       "day_of_month                     0\n",
       "estimated_departure_time    109019\n",
       "estimated_arrival_time      109040\n",
       "origin_airport_id                0\n",
       "destination_airport_id           0\n",
       "distance                         0\n",
       "tail_number                      0\n",
       "delay                       744999\n",
       "dtype: int64"
      ]
     },
     "execution_count": 21,
     "metadata": {},
     "output_type": "execute_result"
    }
   ],
   "source": [
    "train.isna().sum()"
   ]
  },
  {
   "cell_type": "code",
   "execution_count": 22,
   "id": "4a6ec416-86e1-4ec0-935f-033ee829b6eb",
   "metadata": {
    "tags": []
   },
   "outputs": [],
   "source": [
    "# null_idx=train[ train[\"estimated_departure_time\"].isna()  ].index.values"
   ]
  },
  {
   "cell_type": "code",
   "execution_count": 23,
   "id": "0e00198c-7eef-4603-85e0-c9c4495c2d2b",
   "metadata": {
    "tags": []
   },
   "outputs": [],
   "source": [
    "# null_idx.shape"
   ]
  },
  {
   "cell_type": "code",
   "execution_count": 24,
   "id": "9bb5620b-d7ee-434d-bfd3-124af027d654",
   "metadata": {
    "tags": []
   },
   "outputs": [],
   "source": [
    "# not_idx=train[ train[\"estimated_departure_time\"].notna()  ].index.values"
   ]
  },
  {
   "cell_type": "code",
   "execution_count": 25,
   "id": "c528be4a-3493-4dfd-b4ad-ca5f97f8f87d",
   "metadata": {
    "tags": []
   },
   "outputs": [],
   "source": [
    "# time_train = train.iloc[not_idx]\n",
    "# null_train = train.iloc[null_idx]"
   ]
  },
  {
   "cell_type": "code",
   "execution_count": 26,
   "id": "a45fd5cc-6971-4fb8-a135-0152ac40f4ce",
   "metadata": {
    "tags": []
   },
   "outputs": [],
   "source": [
    "# null_train.info()"
   ]
  },
  {
   "cell_type": "code",
   "execution_count": 27,
   "id": "b59d501b-953e-4f42-98a0-e004e1347cf7",
   "metadata": {
    "tags": []
   },
   "outputs": [],
   "source": [
    "# null_train = null_train.drop([\"estimated_departure_time\",\"id\",\"tail_number\",\"delay\",\"estimated_arrival_time\"], axis = 1)"
   ]
  },
  {
   "cell_type": "code",
   "execution_count": 28,
   "id": "c11e4ec0-e148-415a-8a89-755131274b30",
   "metadata": {
    "tags": []
   },
   "outputs": [],
   "source": [
    "# y = time_train[\"estimated_departure_time\"]\n",
    "# X = time_train.drop([\"estimated_departure_time\",\"id\",\"tail_number\",\"delay\",\"estimated_arrival_time\"], axis = 1)\n",
    "\n",
    "\n",
    "# rr = RandomForestRegressor(random_state=1)\n",
    "# rr.fit(X,y)\n",
    "# pred = rr.predict(null_train)\n",
    "# pred"
   ]
  },
  {
   "cell_type": "code",
   "execution_count": 29,
   "id": "58fc11eb-b597-4ead-a1ed-584a0f135100",
   "metadata": {
    "tags": []
   },
   "outputs": [],
   "source": [
    "# for i, idx in enumerate(null_idx):\n",
    "    # train.loc[idx,\"estimated_departure_time\"] = pred[i]\n"
   ]
  },
  {
   "cell_type": "markdown",
   "id": "69b65b48-3fd5-4f75-9013-3e2a662b5c64",
   "metadata": {},
   "source": [
    "#### [\"estimated_arrival_time\"]"
   ]
  },
  {
   "cell_type": "code",
   "execution_count": 30,
   "id": "8790f6e1-5edc-490f-9142-5814e0a6168e",
   "metadata": {
    "tags": []
   },
   "outputs": [],
   "source": [
    "# null_idx=train[ train[\"estimated_arrival_time\"].isna()  ].index.values"
   ]
  },
  {
   "cell_type": "code",
   "execution_count": 31,
   "id": "460eee6b-1b15-4a70-99ff-d16876aacedd",
   "metadata": {
    "tags": []
   },
   "outputs": [],
   "source": [
    "# null_idx.shape"
   ]
  },
  {
   "cell_type": "code",
   "execution_count": 32,
   "id": "cd4cddbc-7e00-434c-92dc-39ee86eb2497",
   "metadata": {
    "tags": []
   },
   "outputs": [],
   "source": [
    "# not_idx=train[ train[\"estimated_arrival_time\"].notna()  ].index.values"
   ]
  },
  {
   "cell_type": "code",
   "execution_count": 33,
   "id": "f1fa1a5e-4f89-4f03-8fd3-7de0298fe077",
   "metadata": {
    "tags": []
   },
   "outputs": [],
   "source": [
    "# time_train = train.iloc[not_idx]\n",
    "# null_train = train.iloc[null_idx]"
   ]
  },
  {
   "cell_type": "code",
   "execution_count": 34,
   "id": "d53d8a89-007f-4871-9342-7f74ee7377e3",
   "metadata": {
    "tags": []
   },
   "outputs": [],
   "source": [
    "# null_train.info()"
   ]
  },
  {
   "cell_type": "code",
   "execution_count": 35,
   "id": "25ac0e85-1104-4b9d-a031-082523790123",
   "metadata": {},
   "outputs": [],
   "source": [
    "# null_train = null_train.drop([\"estimated_departure_time\",\"id\",\"tail_number\",\"delay\",\"estimated_arrival_time\"], axis = 1)"
   ]
  },
  {
   "cell_type": "code",
   "execution_count": 36,
   "id": "2cfe58cb-7e75-451c-8246-fae16892216e",
   "metadata": {
    "tags": []
   },
   "outputs": [],
   "source": [
    "# null_train.info(), time_train.info()"
   ]
  },
  {
   "cell_type": "code",
   "execution_count": 37,
   "id": "9826bd79-8b60-4d2f-ba2b-06f5c60ef801",
   "metadata": {
    "tags": []
   },
   "outputs": [],
   "source": [
    "# y = time_train[\"estimated_arrival_time\"]\n",
    "# X = time_train.drop([\"estimated_departure_time\",\"id\",\"tail_number\",\"delay\",\"estimated_arrival_time\"], axis = 1)\n",
    "\n",
    "\n",
    "# rr = RandomForestRegressor(random_state=1)\n",
    "# rr.fit(X,y)\n",
    "# pred = rr.predict(null_train)\n",
    "# pred"
   ]
  },
  {
   "cell_type": "code",
   "execution_count": 38,
   "id": "ea6e13bb-ef02-4bb1-9874-05e2c40b7c65",
   "metadata": {
    "tags": []
   },
   "outputs": [],
   "source": [
    "# pred.shape, null_train.shape"
   ]
  },
  {
   "cell_type": "code",
   "execution_count": 39,
   "id": "9c254b43-9c2d-42a0-9c20-d3c7b4f2f397",
   "metadata": {
    "tags": []
   },
   "outputs": [],
   "source": [
    "# for i, idx in enumerate(null_idx):\n",
    "    # train.loc[idx,\"estimated_arrival_time\"] = pred[i]"
   ]
  },
  {
   "cell_type": "code",
   "execution_count": 40,
   "id": "03810db8-0124-47f4-a2db-82530bb5d1be",
   "metadata": {
    "tags": []
   },
   "outputs": [],
   "source": [
    "# train.info()"
   ]
  },
  {
   "cell_type": "code",
   "execution_count": 41,
   "id": "bf7de238-d838-448a-b100-c0e002f49ee1",
   "metadata": {
    "tags": []
   },
   "outputs": [],
   "source": [
    "# train.to_csv(\"./datasets/train1.csv\", index=False)"
   ]
  },
  {
   "cell_type": "code",
   "execution_count": 42,
   "id": "8c2d5dd6-bff0-4ebc-9b2c-7773d2864f52",
   "metadata": {
    "tags": []
   },
   "outputs": [
    {
     "name": "stdout",
     "output_type": "stream",
     "text": [
      "<class 'pandas.core.frame.DataFrame'>\n",
      "RangeIndex: 1000000 entries, 0 to 999999\n",
      "Data columns (total 10 columns):\n",
      " #   Column                    Non-Null Count    Dtype  \n",
      "---  ------                    --------------    -----  \n",
      " 0   id                        1000000 non-null  object \n",
      " 1   month                     1000000 non-null  int64  \n",
      " 2   day_of_month              1000000 non-null  int64  \n",
      " 3   estimated_departure_time  890981 non-null   object \n",
      " 4   estimated_arrival_time    890960 non-null   object \n",
      " 5   origin_airport_id         1000000 non-null  int64  \n",
      " 6   destination_airport_id    1000000 non-null  int64  \n",
      " 7   distance                  1000000 non-null  float64\n",
      " 8   tail_number               1000000 non-null  object \n",
      " 9   delay                     255001 non-null   object \n",
      "dtypes: float64(1), int64(4), object(5)\n",
      "memory usage: 76.3+ MB\n"
     ]
    }
   ],
   "source": [
    "train.info()"
   ]
  },
  {
   "cell_type": "markdown",
   "id": "34e29a36-67d3-4aaf-b79a-100cc8ef3bcf",
   "metadata": {},
   "source": [
    "## 파생변수"
   ]
  },
  {
   "cell_type": "code",
   "execution_count": 43,
   "id": "064b7bae-136f-4b03-a2c6-7578fadba0ed",
   "metadata": {
    "tags": []
   },
   "outputs": [
    {
     "name": "stdout",
     "output_type": "stream",
     "text": [
      "<class 'pandas.core.frame.DataFrame'>\n",
      "RangeIndex: 1000000 entries, 0 to 999999\n",
      "Data columns (total 12 columns):\n",
      " #   Column                    Non-Null Count    Dtype  \n",
      "---  ------                    --------------    -----  \n",
      " 0   Unnamed: 0.1              1000000 non-null  int64  \n",
      " 1   Unnamed: 0                1000000 non-null  int64  \n",
      " 2   id                        1000000 non-null  object \n",
      " 3   month                     1000000 non-null  int64  \n",
      " 4   day_of_month              1000000 non-null  int64  \n",
      " 5   estimated_departure_time  1000000 non-null  float64\n",
      " 6   estimated_arrival_time    1000000 non-null  float64\n",
      " 7   origin_airport_id         1000000 non-null  int64  \n",
      " 8   destination_airport_id    1000000 non-null  int64  \n",
      " 9   distance                  1000000 non-null  float64\n",
      " 10  tail_number               1000000 non-null  object \n",
      " 11  delay                     255001 non-null   object \n",
      "dtypes: float64(3), int64(6), object(3)\n",
      "memory usage: 91.6+ MB\n"
     ]
    }
   ],
   "source": [
    "train=pd.read_csv(\"./datasets/train1.csv\")\n",
    "train.info()"
   ]
  },
  {
   "cell_type": "code",
   "execution_count": 44,
   "id": "086c31f6-0c9c-4fd0-94bb-ec3af6fa7d6e",
   "metadata": {
    "tags": []
   },
   "outputs": [
    {
     "name": "stdout",
     "output_type": "stream",
     "text": [
      "<class 'pandas.core.frame.DataFrame'>\n",
      "RangeIndex: 1000000 entries, 0 to 999999\n",
      "Data columns (total 10 columns):\n",
      " #   Column                    Non-Null Count    Dtype  \n",
      "---  ------                    --------------    -----  \n",
      " 0   id                        1000000 non-null  object \n",
      " 1   month                     1000000 non-null  int64  \n",
      " 2   day_of_month              1000000 non-null  int64  \n",
      " 3   estimated_departure_time  1000000 non-null  float64\n",
      " 4   estimated_arrival_time    1000000 non-null  float64\n",
      " 5   origin_airport_id         1000000 non-null  int64  \n",
      " 6   destination_airport_id    1000000 non-null  int64  \n",
      " 7   distance                  1000000 non-null  float64\n",
      " 8   tail_number               1000000 non-null  object \n",
      " 9   delay                     255001 non-null   object \n",
      "dtypes: float64(3), int64(4), object(3)\n",
      "memory usage: 76.3+ MB\n"
     ]
    }
   ],
   "source": [
    "train = train.drop([\"Unnamed: 0\",\"Unnamed: 0.1\"], axis=1)\n",
    "train.info()"
   ]
  },
  {
   "cell_type": "markdown",
   "id": "fe9338cc-e278-49ed-a1c2-310e3dc243f8",
   "metadata": {},
   "source": [
    "### 비행시간"
   ]
  },
  {
   "cell_type": "code",
   "execution_count": 45,
   "id": "83f5b0d2-a966-40dc-b2fe-f82eafc65877",
   "metadata": {
    "tags": []
   },
   "outputs": [
    {
     "data": {
      "text/html": [
       "<div>\n",
       "<style scoped>\n",
       "    .dataframe tbody tr th:only-of-type {\n",
       "        vertical-align: middle;\n",
       "    }\n",
       "\n",
       "    .dataframe tbody tr th {\n",
       "        vertical-align: top;\n",
       "    }\n",
       "\n",
       "    .dataframe thead th {\n",
       "        text-align: right;\n",
       "    }\n",
       "</style>\n",
       "<table border=\"1\" class=\"dataframe\">\n",
       "  <thead>\n",
       "    <tr style=\"text-align: right;\">\n",
       "      <th></th>\n",
       "      <th>id</th>\n",
       "      <th>month</th>\n",
       "      <th>day_of_month</th>\n",
       "      <th>estimated_departure_time</th>\n",
       "      <th>estimated_arrival_time</th>\n",
       "      <th>origin_airport_id</th>\n",
       "      <th>destination_airport_id</th>\n",
       "      <th>distance</th>\n",
       "      <th>tail_number</th>\n",
       "      <th>delay</th>\n",
       "    </tr>\n",
       "  </thead>\n",
       "  <tbody>\n",
       "    <tr>\n",
       "      <th>0</th>\n",
       "      <td>TRAIN_000000</td>\n",
       "      <td>4</td>\n",
       "      <td>15</td>\n",
       "      <td>1418.895</td>\n",
       "      <td>1560.15</td>\n",
       "      <td>13851</td>\n",
       "      <td>12191</td>\n",
       "      <td>419.0</td>\n",
       "      <td>N7858A</td>\n",
       "      <td>NaN</td>\n",
       "    </tr>\n",
       "    <tr>\n",
       "      <th>1</th>\n",
       "      <td>TRAIN_000001</td>\n",
       "      <td>8</td>\n",
       "      <td>15</td>\n",
       "      <td>740.000</td>\n",
       "      <td>1024.00</td>\n",
       "      <td>13930</td>\n",
       "      <td>14869</td>\n",
       "      <td>1250.0</td>\n",
       "      <td>N125SY</td>\n",
       "      <td>NaN</td>\n",
       "    </tr>\n",
       "    <tr>\n",
       "      <th>2</th>\n",
       "      <td>TRAIN_000002</td>\n",
       "      <td>9</td>\n",
       "      <td>6</td>\n",
       "      <td>1610.000</td>\n",
       "      <td>1805.00</td>\n",
       "      <td>11057</td>\n",
       "      <td>12953</td>\n",
       "      <td>544.0</td>\n",
       "      <td>N103US</td>\n",
       "      <td>NaN</td>\n",
       "    </tr>\n",
       "    <tr>\n",
       "      <th>3</th>\n",
       "      <td>TRAIN_000003</td>\n",
       "      <td>7</td>\n",
       "      <td>10</td>\n",
       "      <td>905.000</td>\n",
       "      <td>1735.00</td>\n",
       "      <td>12892</td>\n",
       "      <td>11618</td>\n",
       "      <td>2454.0</td>\n",
       "      <td>N595UA</td>\n",
       "      <td>NaN</td>\n",
       "    </tr>\n",
       "    <tr>\n",
       "      <th>4</th>\n",
       "      <td>TRAIN_000004</td>\n",
       "      <td>1</td>\n",
       "      <td>11</td>\n",
       "      <td>900.000</td>\n",
       "      <td>1019.00</td>\n",
       "      <td>14771</td>\n",
       "      <td>10157</td>\n",
       "      <td>250.0</td>\n",
       "      <td>N161SY</td>\n",
       "      <td>NaN</td>\n",
       "    </tr>\n",
       "  </tbody>\n",
       "</table>\n",
       "</div>"
      ],
      "text/plain": [
       "             id  month  day_of_month  estimated_departure_time  \\\n",
       "0  TRAIN_000000      4            15                  1418.895   \n",
       "1  TRAIN_000001      8            15                   740.000   \n",
       "2  TRAIN_000002      9             6                  1610.000   \n",
       "3  TRAIN_000003      7            10                   905.000   \n",
       "4  TRAIN_000004      1            11                   900.000   \n",
       "\n",
       "   estimated_arrival_time  origin_airport_id  destination_airport_id  \\\n",
       "0                 1560.15              13851                   12191   \n",
       "1                 1024.00              13930                   14869   \n",
       "2                 1805.00              11057                   12953   \n",
       "3                 1735.00              12892                   11618   \n",
       "4                 1019.00              14771                   10157   \n",
       "\n",
       "   distance tail_number delay  \n",
       "0     419.0      N7858A   NaN  \n",
       "1    1250.0      N125SY   NaN  \n",
       "2     544.0      N103US   NaN  \n",
       "3    2454.0      N595UA   NaN  \n",
       "4     250.0      N161SY   NaN  "
      ]
     },
     "execution_count": 45,
     "metadata": {},
     "output_type": "execute_result"
    }
   ],
   "source": [
    "train.head()"
   ]
  },
  {
   "cell_type": "code",
   "execution_count": 46,
   "id": "ccc1efdf-a139-48ad-891a-f4b47368a0b3",
   "metadata": {
    "tags": []
   },
   "outputs": [
    {
     "data": {
      "text/html": [
       "<div>\n",
       "<style scoped>\n",
       "    .dataframe tbody tr th:only-of-type {\n",
       "        vertical-align: middle;\n",
       "    }\n",
       "\n",
       "    .dataframe tbody tr th {\n",
       "        vertical-align: top;\n",
       "    }\n",
       "\n",
       "    .dataframe thead th {\n",
       "        text-align: right;\n",
       "    }\n",
       "</style>\n",
       "<table border=\"1\" class=\"dataframe\">\n",
       "  <thead>\n",
       "    <tr style=\"text-align: right;\">\n",
       "      <th></th>\n",
       "      <th>estimated_departure_time</th>\n",
       "      <th>estimated_arrival_time</th>\n",
       "    </tr>\n",
       "  </thead>\n",
       "  <tbody>\n",
       "    <tr>\n",
       "      <th>0</th>\n",
       "      <td>1418.895</td>\n",
       "      <td>1560.15</td>\n",
       "    </tr>\n",
       "    <tr>\n",
       "      <th>1</th>\n",
       "      <td>740.000</td>\n",
       "      <td>1024.00</td>\n",
       "    </tr>\n",
       "    <tr>\n",
       "      <th>2</th>\n",
       "      <td>1610.000</td>\n",
       "      <td>1805.00</td>\n",
       "    </tr>\n",
       "    <tr>\n",
       "      <th>3</th>\n",
       "      <td>905.000</td>\n",
       "      <td>1735.00</td>\n",
       "    </tr>\n",
       "    <tr>\n",
       "      <th>4</th>\n",
       "      <td>900.000</td>\n",
       "      <td>1019.00</td>\n",
       "    </tr>\n",
       "  </tbody>\n",
       "</table>\n",
       "</div>"
      ],
      "text/plain": [
       "   estimated_departure_time  estimated_arrival_time\n",
       "0                  1418.895                 1560.15\n",
       "1                   740.000                 1024.00\n",
       "2                  1610.000                 1805.00\n",
       "3                   905.000                 1735.00\n",
       "4                   900.000                 1019.00"
      ]
     },
     "execution_count": 46,
     "metadata": {},
     "output_type": "execute_result"
    }
   ],
   "source": [
    "train[[\"estimated_departure_time\",\"estimated_arrival_time\"]].head()"
   ]
  },
  {
   "cell_type": "code",
   "execution_count": 47,
   "id": "f12c5c92-7b7c-4574-be93-7ecbe110d426",
   "metadata": {
    "tags": []
   },
   "outputs": [
    {
     "data": {
      "text/html": [
       "<div>\n",
       "<style scoped>\n",
       "    .dataframe tbody tr th:only-of-type {\n",
       "        vertical-align: middle;\n",
       "    }\n",
       "\n",
       "    .dataframe tbody tr th {\n",
       "        vertical-align: top;\n",
       "    }\n",
       "\n",
       "    .dataframe thead th {\n",
       "        text-align: right;\n",
       "    }\n",
       "</style>\n",
       "<table border=\"1\" class=\"dataframe\">\n",
       "  <thead>\n",
       "    <tr style=\"text-align: right;\">\n",
       "      <th></th>\n",
       "      <th>id</th>\n",
       "      <th>month</th>\n",
       "      <th>day_of_month</th>\n",
       "      <th>estimated_departure_time</th>\n",
       "      <th>estimated_arrival_time</th>\n",
       "      <th>origin_airport_id</th>\n",
       "      <th>destination_airport_id</th>\n",
       "      <th>distance</th>\n",
       "      <th>tail_number</th>\n",
       "      <th>delay</th>\n",
       "    </tr>\n",
       "  </thead>\n",
       "  <tbody>\n",
       "    <tr>\n",
       "      <th>5</th>\n",
       "      <td>TRAIN_000005</td>\n",
       "      <td>4</td>\n",
       "      <td>13</td>\n",
       "      <td>1545.000000</td>\n",
       "      <td>1541.7150</td>\n",
       "      <td>11618</td>\n",
       "      <td>11278</td>\n",
       "      <td>199.0</td>\n",
       "      <td>N657RW</td>\n",
       "      <td>Not_Delayed</td>\n",
       "    </tr>\n",
       "    <tr>\n",
       "      <th>33</th>\n",
       "      <td>TRAIN_000033</td>\n",
       "      <td>4</td>\n",
       "      <td>12</td>\n",
       "      <td>2158.000000</td>\n",
       "      <td>545.0000</td>\n",
       "      <td>12892</td>\n",
       "      <td>11697</td>\n",
       "      <td>2343.0</td>\n",
       "      <td>N621VA</td>\n",
       "      <td>NaN</td>\n",
       "    </tr>\n",
       "    <tr>\n",
       "      <th>38</th>\n",
       "      <td>TRAIN_000038</td>\n",
       "      <td>9</td>\n",
       "      <td>30</td>\n",
       "      <td>2350.000000</td>\n",
       "      <td>555.0000</td>\n",
       "      <td>10140</td>\n",
       "      <td>12478</td>\n",
       "      <td>1826.0</td>\n",
       "      <td>N662JB</td>\n",
       "      <td>NaN</td>\n",
       "    </tr>\n",
       "    <tr>\n",
       "      <th>57</th>\n",
       "      <td>TRAIN_000057</td>\n",
       "      <td>11</td>\n",
       "      <td>26</td>\n",
       "      <td>2310.000000</td>\n",
       "      <td>704.0000</td>\n",
       "      <td>12758</td>\n",
       "      <td>14747</td>\n",
       "      <td>2688.0</td>\n",
       "      <td>N588AS</td>\n",
       "      <td>NaN</td>\n",
       "    </tr>\n",
       "    <tr>\n",
       "      <th>71</th>\n",
       "      <td>TRAIN_000071</td>\n",
       "      <td>2</td>\n",
       "      <td>6</td>\n",
       "      <td>1650.000000</td>\n",
       "      <td>971.1975</td>\n",
       "      <td>12391</td>\n",
       "      <td>10821</td>\n",
       "      <td>220.0</td>\n",
       "      <td>N454WN</td>\n",
       "      <td>NaN</td>\n",
       "    </tr>\n",
       "    <tr>\n",
       "      <th>...</th>\n",
       "      <td>...</td>\n",
       "      <td>...</td>\n",
       "      <td>...</td>\n",
       "      <td>...</td>\n",
       "      <td>...</td>\n",
       "      <td>...</td>\n",
       "      <td>...</td>\n",
       "      <td>...</td>\n",
       "      <td>...</td>\n",
       "      <td>...</td>\n",
       "    </tr>\n",
       "    <tr>\n",
       "      <th>999957</th>\n",
       "      <td>TRAIN_999957</td>\n",
       "      <td>3</td>\n",
       "      <td>24</td>\n",
       "      <td>2000.000000</td>\n",
       "      <td>55.0000</td>\n",
       "      <td>14107</td>\n",
       "      <td>13487</td>\n",
       "      <td>1276.0</td>\n",
       "      <td>N430WN</td>\n",
       "      <td>NaN</td>\n",
       "    </tr>\n",
       "    <tr>\n",
       "      <th>999965</th>\n",
       "      <td>TRAIN_999965</td>\n",
       "      <td>5</td>\n",
       "      <td>22</td>\n",
       "      <td>1555.000000</td>\n",
       "      <td>1045.9550</td>\n",
       "      <td>10721</td>\n",
       "      <td>10693</td>\n",
       "      <td>942.0</td>\n",
       "      <td>N215JQ</td>\n",
       "      <td>NaN</td>\n",
       "    </tr>\n",
       "    <tr>\n",
       "      <th>999974</th>\n",
       "      <td>TRAIN_999974</td>\n",
       "      <td>4</td>\n",
       "      <td>4</td>\n",
       "      <td>1438.510397</td>\n",
       "      <td>859.0000</td>\n",
       "      <td>14771</td>\n",
       "      <td>12892</td>\n",
       "      <td>337.0</td>\n",
       "      <td>N3768</td>\n",
       "      <td>NaN</td>\n",
       "    </tr>\n",
       "    <tr>\n",
       "      <th>999986</th>\n",
       "      <td>TRAIN_999986</td>\n",
       "      <td>6</td>\n",
       "      <td>13</td>\n",
       "      <td>1516.996667</td>\n",
       "      <td>1356.0000</td>\n",
       "      <td>14492</td>\n",
       "      <td>13930</td>\n",
       "      <td>646.0</td>\n",
       "      <td>N669CA</td>\n",
       "      <td>NaN</td>\n",
       "    </tr>\n",
       "    <tr>\n",
       "      <th>999990</th>\n",
       "      <td>TRAIN_999990</td>\n",
       "      <td>1</td>\n",
       "      <td>21</td>\n",
       "      <td>1513.762917</td>\n",
       "      <td>751.0000</td>\n",
       "      <td>13930</td>\n",
       "      <td>11298</td>\n",
       "      <td>802.0</td>\n",
       "      <td>N967NN</td>\n",
       "      <td>NaN</td>\n",
       "    </tr>\n",
       "  </tbody>\n",
       "</table>\n",
       "<p>105367 rows × 10 columns</p>\n",
       "</div>"
      ],
      "text/plain": [
       "                  id  month  day_of_month  estimated_departure_time  \\\n",
       "5       TRAIN_000005      4            13               1545.000000   \n",
       "33      TRAIN_000033      4            12               2158.000000   \n",
       "38      TRAIN_000038      9            30               2350.000000   \n",
       "57      TRAIN_000057     11            26               2310.000000   \n",
       "71      TRAIN_000071      2             6               1650.000000   \n",
       "...              ...    ...           ...                       ...   \n",
       "999957  TRAIN_999957      3            24               2000.000000   \n",
       "999965  TRAIN_999965      5            22               1555.000000   \n",
       "999974  TRAIN_999974      4             4               1438.510397   \n",
       "999986  TRAIN_999986      6            13               1516.996667   \n",
       "999990  TRAIN_999990      1            21               1513.762917   \n",
       "\n",
       "        estimated_arrival_time  origin_airport_id  destination_airport_id  \\\n",
       "5                    1541.7150              11618                   11278   \n",
       "33                    545.0000              12892                   11697   \n",
       "38                    555.0000              10140                   12478   \n",
       "57                    704.0000              12758                   14747   \n",
       "71                    971.1975              12391                   10821   \n",
       "...                        ...                ...                     ...   \n",
       "999957                 55.0000              14107                   13487   \n",
       "999965               1045.9550              10721                   10693   \n",
       "999974                859.0000              14771                   12892   \n",
       "999986               1356.0000              14492                   13930   \n",
       "999990                751.0000              13930                   11298   \n",
       "\n",
       "        distance tail_number        delay  \n",
       "5          199.0      N657RW  Not_Delayed  \n",
       "33        2343.0      N621VA          NaN  \n",
       "38        1826.0      N662JB          NaN  \n",
       "57        2688.0      N588AS          NaN  \n",
       "71         220.0      N454WN          NaN  \n",
       "...          ...         ...          ...  \n",
       "999957    1276.0      N430WN          NaN  \n",
       "999965     942.0      N215JQ          NaN  \n",
       "999974     337.0       N3768          NaN  \n",
       "999986     646.0      N669CA          NaN  \n",
       "999990     802.0      N967NN          NaN  \n",
       "\n",
       "[105367 rows x 10 columns]"
      ]
     },
     "execution_count": 47,
     "metadata": {},
     "output_type": "execute_result"
    }
   ],
   "source": [
    "train [train[\"estimated_departure_time\"] >= train[\"estimated_arrival_time\"]]\n",
    "# 비행 중 12시 지남"
   ]
  },
  {
   "cell_type": "code",
   "execution_count": 48,
   "id": "647087d6-66e8-4625-baab-29162fcde1fd",
   "metadata": {
    "tags": []
   },
   "outputs": [],
   "source": [
    "train[\"estimated_arrival_time\"] = np.where(train[\"estimated_departure_time\"] >= train[\"estimated_arrival_time\"]  ,    train[\"estimated_arrival_time\"] +  2400 ,  train[\"estimated_arrival_time\"])\n"
   ]
  },
  {
   "cell_type": "code",
   "execution_count": 49,
   "id": "b03aa361-5011-4ebd-bde6-e72fc218afca",
   "metadata": {
    "tags": []
   },
   "outputs": [
    {
     "data": {
      "text/html": [
       "<div>\n",
       "<style scoped>\n",
       "    .dataframe tbody tr th:only-of-type {\n",
       "        vertical-align: middle;\n",
       "    }\n",
       "\n",
       "    .dataframe tbody tr th {\n",
       "        vertical-align: top;\n",
       "    }\n",
       "\n",
       "    .dataframe thead th {\n",
       "        text-align: right;\n",
       "    }\n",
       "</style>\n",
       "<table border=\"1\" class=\"dataframe\">\n",
       "  <thead>\n",
       "    <tr style=\"text-align: right;\">\n",
       "      <th></th>\n",
       "      <th>id</th>\n",
       "      <th>month</th>\n",
       "      <th>day_of_month</th>\n",
       "      <th>estimated_departure_time</th>\n",
       "      <th>estimated_arrival_time</th>\n",
       "      <th>origin_airport_id</th>\n",
       "      <th>destination_airport_id</th>\n",
       "      <th>distance</th>\n",
       "      <th>tail_number</th>\n",
       "      <th>delay</th>\n",
       "    </tr>\n",
       "  </thead>\n",
       "  <tbody>\n",
       "  </tbody>\n",
       "</table>\n",
       "</div>"
      ],
      "text/plain": [
       "Empty DataFrame\n",
       "Columns: [id, month, day_of_month, estimated_departure_time, estimated_arrival_time, origin_airport_id, destination_airport_id, distance, tail_number, delay]\n",
       "Index: []"
      ]
     },
     "execution_count": 49,
     "metadata": {},
     "output_type": "execute_result"
    }
   ],
   "source": [
    "train [train[\"estimated_departure_time\"] >= train[\"estimated_arrival_time\"]]\n"
   ]
  },
  {
   "cell_type": "code",
   "execution_count": 50,
   "id": "bc1b2633-f59b-41c2-b86a-8fb756b15e59",
   "metadata": {
    "tags": []
   },
   "outputs": [
    {
     "data": {
      "text/html": [
       "<div>\n",
       "<style scoped>\n",
       "    .dataframe tbody tr th:only-of-type {\n",
       "        vertical-align: middle;\n",
       "    }\n",
       "\n",
       "    .dataframe tbody tr th {\n",
       "        vertical-align: top;\n",
       "    }\n",
       "\n",
       "    .dataframe thead th {\n",
       "        text-align: right;\n",
       "    }\n",
       "</style>\n",
       "<table border=\"1\" class=\"dataframe\">\n",
       "  <thead>\n",
       "    <tr style=\"text-align: right;\">\n",
       "      <th></th>\n",
       "      <th>id</th>\n",
       "      <th>month</th>\n",
       "      <th>day_of_month</th>\n",
       "      <th>estimated_departure_time</th>\n",
       "      <th>estimated_arrival_time</th>\n",
       "      <th>origin_airport_id</th>\n",
       "      <th>destination_airport_id</th>\n",
       "      <th>distance</th>\n",
       "      <th>tail_number</th>\n",
       "      <th>delay</th>\n",
       "    </tr>\n",
       "  </thead>\n",
       "  <tbody>\n",
       "  </tbody>\n",
       "</table>\n",
       "</div>"
      ],
      "text/plain": [
       "Empty DataFrame\n",
       "Columns: [id, month, day_of_month, estimated_departure_time, estimated_arrival_time, origin_airport_id, destination_airport_id, distance, tail_number, delay]\n",
       "Index: []"
      ]
     },
     "execution_count": 50,
     "metadata": {},
     "output_type": "execute_result"
    }
   ],
   "source": [
    "train [train[\"estimated_departure_time\"]<=0]"
   ]
  },
  {
   "cell_type": "code",
   "execution_count": 51,
   "id": "cb6e9d00-5c01-41bf-90bb-7122fc41d6da",
   "metadata": {
    "tags": []
   },
   "outputs": [
    {
     "data": {
      "text/plain": [
       "0.011190476190449772"
      ]
     },
     "execution_count": 51,
     "metadata": {},
     "output_type": "execute_result"
    }
   ],
   "source": [
    "train[\"flight_time\"] = train[\"estimated_arrival_time\"] - train[\"estimated_departure_time\"]\n",
    "train[\"flight_time\"].head()\n",
    "min(train[\"flight_time\"])"
   ]
  },
  {
   "cell_type": "code",
   "execution_count": 52,
   "id": "8209e8e2-ec2b-491e-8198-5ed9937e7ac3",
   "metadata": {
    "tags": []
   },
   "outputs": [
    {
     "name": "stdout",
     "output_type": "stream",
     "text": [
      "5095.0 16.0\n"
     ]
    }
   ],
   "source": [
    "train[\"distance\"].head()\n",
    "print(max(train[\"distance\"]),min(train[\"distance\"]))"
   ]
  },
  {
   "cell_type": "code",
   "execution_count": 53,
   "id": "f82f2e76-1962-44d2-8728-9cd1c68a6ed5",
   "metadata": {},
   "outputs": [
    {
     "data": {
      "text/html": [
       "<div>\n",
       "<style scoped>\n",
       "    .dataframe tbody tr th:only-of-type {\n",
       "        vertical-align: middle;\n",
       "    }\n",
       "\n",
       "    .dataframe tbody tr th {\n",
       "        vertical-align: top;\n",
       "    }\n",
       "\n",
       "    .dataframe thead th {\n",
       "        text-align: right;\n",
       "    }\n",
       "</style>\n",
       "<table border=\"1\" class=\"dataframe\">\n",
       "  <thead>\n",
       "    <tr style=\"text-align: right;\">\n",
       "      <th></th>\n",
       "      <th>id</th>\n",
       "      <th>month</th>\n",
       "      <th>day_of_month</th>\n",
       "      <th>estimated_departure_time</th>\n",
       "      <th>estimated_arrival_time</th>\n",
       "      <th>origin_airport_id</th>\n",
       "      <th>destination_airport_id</th>\n",
       "      <th>distance</th>\n",
       "      <th>tail_number</th>\n",
       "      <th>delay</th>\n",
       "      <th>flight_time</th>\n",
       "    </tr>\n",
       "  </thead>\n",
       "  <tbody>\n",
       "    <tr>\n",
       "      <th>0</th>\n",
       "      <td>TRAIN_000000</td>\n",
       "      <td>4</td>\n",
       "      <td>15</td>\n",
       "      <td>1418.895</td>\n",
       "      <td>1560.15</td>\n",
       "      <td>13851</td>\n",
       "      <td>12191</td>\n",
       "      <td>419.0</td>\n",
       "      <td>N7858A</td>\n",
       "      <td>NaN</td>\n",
       "      <td>141.255</td>\n",
       "    </tr>\n",
       "    <tr>\n",
       "      <th>1</th>\n",
       "      <td>TRAIN_000001</td>\n",
       "      <td>8</td>\n",
       "      <td>15</td>\n",
       "      <td>740.000</td>\n",
       "      <td>1024.00</td>\n",
       "      <td>13930</td>\n",
       "      <td>14869</td>\n",
       "      <td>1250.0</td>\n",
       "      <td>N125SY</td>\n",
       "      <td>NaN</td>\n",
       "      <td>284.000</td>\n",
       "    </tr>\n",
       "    <tr>\n",
       "      <th>2</th>\n",
       "      <td>TRAIN_000002</td>\n",
       "      <td>9</td>\n",
       "      <td>6</td>\n",
       "      <td>1610.000</td>\n",
       "      <td>1805.00</td>\n",
       "      <td>11057</td>\n",
       "      <td>12953</td>\n",
       "      <td>544.0</td>\n",
       "      <td>N103US</td>\n",
       "      <td>NaN</td>\n",
       "      <td>195.000</td>\n",
       "    </tr>\n",
       "    <tr>\n",
       "      <th>3</th>\n",
       "      <td>TRAIN_000003</td>\n",
       "      <td>7</td>\n",
       "      <td>10</td>\n",
       "      <td>905.000</td>\n",
       "      <td>1735.00</td>\n",
       "      <td>12892</td>\n",
       "      <td>11618</td>\n",
       "      <td>2454.0</td>\n",
       "      <td>N595UA</td>\n",
       "      <td>NaN</td>\n",
       "      <td>830.000</td>\n",
       "    </tr>\n",
       "    <tr>\n",
       "      <th>4</th>\n",
       "      <td>TRAIN_000004</td>\n",
       "      <td>1</td>\n",
       "      <td>11</td>\n",
       "      <td>900.000</td>\n",
       "      <td>1019.00</td>\n",
       "      <td>14771</td>\n",
       "      <td>10157</td>\n",
       "      <td>250.0</td>\n",
       "      <td>N161SY</td>\n",
       "      <td>NaN</td>\n",
       "      <td>119.000</td>\n",
       "    </tr>\n",
       "  </tbody>\n",
       "</table>\n",
       "</div>"
      ],
      "text/plain": [
       "             id  month  day_of_month  estimated_departure_time  \\\n",
       "0  TRAIN_000000      4            15                  1418.895   \n",
       "1  TRAIN_000001      8            15                   740.000   \n",
       "2  TRAIN_000002      9             6                  1610.000   \n",
       "3  TRAIN_000003      7            10                   905.000   \n",
       "4  TRAIN_000004      1            11                   900.000   \n",
       "\n",
       "   estimated_arrival_time  origin_airport_id  destination_airport_id  \\\n",
       "0                 1560.15              13851                   12191   \n",
       "1                 1024.00              13930                   14869   \n",
       "2                 1805.00              11057                   12953   \n",
       "3                 1735.00              12892                   11618   \n",
       "4                 1019.00              14771                   10157   \n",
       "\n",
       "   distance tail_number delay  flight_time  \n",
       "0     419.0      N7858A   NaN      141.255  \n",
       "1    1250.0      N125SY   NaN      284.000  \n",
       "2     544.0      N103US   NaN      195.000  \n",
       "3    2454.0      N595UA   NaN      830.000  \n",
       "4     250.0      N161SY   NaN      119.000  "
      ]
     },
     "execution_count": 53,
     "metadata": {},
     "output_type": "execute_result"
    }
   ],
   "source": [
    "train.head()"
   ]
  },
  {
   "cell_type": "markdown",
   "id": "fa4e9c43-b65c-454f-a117-40fe21f47ac3",
   "metadata": {},
   "source": [
    "### 속력"
   ]
  },
  {
   "cell_type": "code",
   "execution_count": 54,
   "id": "4065d960-4be2-4998-8835-05141acf0403",
   "metadata": {
    "tags": []
   },
   "outputs": [
    {
     "data": {
      "text/plain": [
       "0    2.966267\n",
       "1    4.401408\n",
       "2    2.789744\n",
       "3    2.956627\n",
       "4    2.100840\n",
       "Name: speed, dtype: float64"
      ]
     },
     "execution_count": 54,
     "metadata": {},
     "output_type": "execute_result"
    }
   ],
   "source": [
    "train[\"speed\"] = train[\"distance\"] / train[\"flight_time\"]\n",
    "train[\"speed\"].head()"
   ]
  },
  {
   "cell_type": "code",
   "execution_count": 55,
   "id": "814520d6-ce5b-4efe-a055-8adc9143e550",
   "metadata": {
    "tags": []
   },
   "outputs": [
    {
     "data": {
      "text/html": [
       "<div>\n",
       "<style scoped>\n",
       "    .dataframe tbody tr th:only-of-type {\n",
       "        vertical-align: middle;\n",
       "    }\n",
       "\n",
       "    .dataframe tbody tr th {\n",
       "        vertical-align: top;\n",
       "    }\n",
       "\n",
       "    .dataframe thead th {\n",
       "        text-align: right;\n",
       "    }\n",
       "</style>\n",
       "<table border=\"1\" class=\"dataframe\">\n",
       "  <thead>\n",
       "    <tr style=\"text-align: right;\">\n",
       "      <th></th>\n",
       "      <th>id</th>\n",
       "      <th>month</th>\n",
       "      <th>day_of_month</th>\n",
       "      <th>estimated_departure_time</th>\n",
       "      <th>estimated_arrival_time</th>\n",
       "      <th>origin_airport_id</th>\n",
       "      <th>destination_airport_id</th>\n",
       "      <th>distance</th>\n",
       "      <th>tail_number</th>\n",
       "      <th>delay</th>\n",
       "      <th>flight_time</th>\n",
       "      <th>speed</th>\n",
       "    </tr>\n",
       "  </thead>\n",
       "  <tbody>\n",
       "  </tbody>\n",
       "</table>\n",
       "</div>"
      ],
      "text/plain": [
       "Empty DataFrame\n",
       "Columns: [id, month, day_of_month, estimated_departure_time, estimated_arrival_time, origin_airport_id, destination_airport_id, distance, tail_number, delay, flight_time, speed]\n",
       "Index: []"
      ]
     },
     "execution_count": 55,
     "metadata": {},
     "output_type": "execute_result"
    }
   ],
   "source": [
    "train [train[\"estimated_departure_time\"]<=0]"
   ]
  },
  {
   "cell_type": "code",
   "execution_count": 56,
   "id": "fd11d1ba-2a47-4a8c-bf56-d81c86e647a3",
   "metadata": {
    "tags": []
   },
   "outputs": [
    {
     "data": {
      "text/html": [
       "<div>\n",
       "<style scoped>\n",
       "    .dataframe tbody tr th:only-of-type {\n",
       "        vertical-align: middle;\n",
       "    }\n",
       "\n",
       "    .dataframe tbody tr th {\n",
       "        vertical-align: top;\n",
       "    }\n",
       "\n",
       "    .dataframe thead th {\n",
       "        text-align: right;\n",
       "    }\n",
       "</style>\n",
       "<table border=\"1\" class=\"dataframe\">\n",
       "  <thead>\n",
       "    <tr style=\"text-align: right;\">\n",
       "      <th></th>\n",
       "      <th>id</th>\n",
       "      <th>month</th>\n",
       "      <th>day_of_month</th>\n",
       "      <th>estimated_departure_time</th>\n",
       "      <th>estimated_arrival_time</th>\n",
       "      <th>origin_airport_id</th>\n",
       "      <th>destination_airport_id</th>\n",
       "      <th>distance</th>\n",
       "      <th>tail_number</th>\n",
       "      <th>delay</th>\n",
       "      <th>flight_time</th>\n",
       "      <th>speed</th>\n",
       "    </tr>\n",
       "  </thead>\n",
       "  <tbody>\n",
       "    <tr>\n",
       "      <th>0</th>\n",
       "      <td>TRAIN_000000</td>\n",
       "      <td>4</td>\n",
       "      <td>15</td>\n",
       "      <td>1418.895</td>\n",
       "      <td>1560.15</td>\n",
       "      <td>13851</td>\n",
       "      <td>12191</td>\n",
       "      <td>419.0</td>\n",
       "      <td>N7858A</td>\n",
       "      <td>NaN</td>\n",
       "      <td>141.255</td>\n",
       "      <td>2.966267</td>\n",
       "    </tr>\n",
       "    <tr>\n",
       "      <th>1</th>\n",
       "      <td>TRAIN_000001</td>\n",
       "      <td>8</td>\n",
       "      <td>15</td>\n",
       "      <td>740.000</td>\n",
       "      <td>1024.00</td>\n",
       "      <td>13930</td>\n",
       "      <td>14869</td>\n",
       "      <td>1250.0</td>\n",
       "      <td>N125SY</td>\n",
       "      <td>NaN</td>\n",
       "      <td>284.000</td>\n",
       "      <td>4.401408</td>\n",
       "    </tr>\n",
       "    <tr>\n",
       "      <th>2</th>\n",
       "      <td>TRAIN_000002</td>\n",
       "      <td>9</td>\n",
       "      <td>6</td>\n",
       "      <td>1610.000</td>\n",
       "      <td>1805.00</td>\n",
       "      <td>11057</td>\n",
       "      <td>12953</td>\n",
       "      <td>544.0</td>\n",
       "      <td>N103US</td>\n",
       "      <td>NaN</td>\n",
       "      <td>195.000</td>\n",
       "      <td>2.789744</td>\n",
       "    </tr>\n",
       "    <tr>\n",
       "      <th>3</th>\n",
       "      <td>TRAIN_000003</td>\n",
       "      <td>7</td>\n",
       "      <td>10</td>\n",
       "      <td>905.000</td>\n",
       "      <td>1735.00</td>\n",
       "      <td>12892</td>\n",
       "      <td>11618</td>\n",
       "      <td>2454.0</td>\n",
       "      <td>N595UA</td>\n",
       "      <td>NaN</td>\n",
       "      <td>830.000</td>\n",
       "      <td>2.956627</td>\n",
       "    </tr>\n",
       "    <tr>\n",
       "      <th>4</th>\n",
       "      <td>TRAIN_000004</td>\n",
       "      <td>1</td>\n",
       "      <td>11</td>\n",
       "      <td>900.000</td>\n",
       "      <td>1019.00</td>\n",
       "      <td>14771</td>\n",
       "      <td>10157</td>\n",
       "      <td>250.0</td>\n",
       "      <td>N161SY</td>\n",
       "      <td>NaN</td>\n",
       "      <td>119.000</td>\n",
       "      <td>2.100840</td>\n",
       "    </tr>\n",
       "  </tbody>\n",
       "</table>\n",
       "</div>"
      ],
      "text/plain": [
       "             id  month  day_of_month  estimated_departure_time  \\\n",
       "0  TRAIN_000000      4            15                  1418.895   \n",
       "1  TRAIN_000001      8            15                   740.000   \n",
       "2  TRAIN_000002      9             6                  1610.000   \n",
       "3  TRAIN_000003      7            10                   905.000   \n",
       "4  TRAIN_000004      1            11                   900.000   \n",
       "\n",
       "   estimated_arrival_time  origin_airport_id  destination_airport_id  \\\n",
       "0                 1560.15              13851                   12191   \n",
       "1                 1024.00              13930                   14869   \n",
       "2                 1805.00              11057                   12953   \n",
       "3                 1735.00              12892                   11618   \n",
       "4                 1019.00              14771                   10157   \n",
       "\n",
       "   distance tail_number delay  flight_time     speed  \n",
       "0     419.0      N7858A   NaN      141.255  2.966267  \n",
       "1    1250.0      N125SY   NaN      284.000  4.401408  \n",
       "2     544.0      N103US   NaN      195.000  2.789744  \n",
       "3    2454.0      N595UA   NaN      830.000  2.956627  \n",
       "4     250.0      N161SY   NaN      119.000  2.100840  "
      ]
     },
     "execution_count": 56,
     "metadata": {},
     "output_type": "execute_result"
    }
   ],
   "source": [
    "train.head()"
   ]
  },
  {
   "cell_type": "markdown",
   "id": "8718a43e-5eb0-4172-b1d1-eeb5d5f95055",
   "metadata": {},
   "source": [
    "## 아웃라이어"
   ]
  },
  {
   "cell_type": "code",
   "execution_count": 57,
   "id": "e161d436-4058-437a-bed9-4c938b52e73f",
   "metadata": {
    "tags": []
   },
   "outputs": [
    {
     "data": {
      "text/plain": [
       "<AxesSubplot: >"
      ]
     },
     "execution_count": 57,
     "metadata": {},
     "output_type": "execute_result"
    },
    {
     "data": {
      "image/png": "[encoded data removed]",
      "text/plain": [
       "<Figure size 640x480 with 1 Axes>"
      ]
     },
     "metadata": {},
     "output_type": "display_data"
    }
   ],
   "source": [
    "sns.boxplot(train[\"distance\"])"
   ]
  },
  {
   "cell_type": "code",
   "execution_count": 58,
   "id": "440576cb-0ed2-44af-a625-c524d31ffa1d",
   "metadata": {
    "tags": []
   },
   "outputs": [
    {
     "data": {
      "text/plain": [
       "<AxesSubplot: >"
      ]
     },
     "execution_count": 58,
     "metadata": {},
     "output_type": "execute_result"
    },
    {
     "data": {
      "image/png": "[encoded data removed]",
      "text/plain": [
       "<Figure size 640x480 with 1 Axes>"
      ]
     },
     "metadata": {},
     "output_type": "display_data"
    }
   ],
   "source": [
    "sns.boxplot(train[\"flight_time\"])"
   ]
  },
  {
   "cell_type": "code",
   "execution_count": 59,
   "id": "cb22bd9e-7f27-484e-a652-fd93eae2cb32",
   "metadata": {
    "tags": []
   },
   "outputs": [
    {
     "data": {
      "image/png": "[encoded data removed]",
      "text/plain": [
       "<Figure size 640x480 with 9 Axes>"
      ]
     },
     "metadata": {},
     "output_type": "display_data"
    }
   ],
   "source": [
    "train.hist()\n",
    "plt.show()"
   ]
  },
  {
   "cell_type": "markdown",
   "id": "b9b229dc-ea3f-4416-9e6e-19824448728a",
   "metadata": {},
   "source": [
    "## 카테고라이즈\n",
    "* 'tail_number', 'delay'"
   ]
  },
  {
   "cell_type": "code",
   "execution_count": 64,
   "id": "2fdf4754-7a0e-467a-b873-35045d97b660",
   "metadata": {
    "tags": []
   },
   "outputs": [
    {
     "data": {
      "text/plain": [
       "Index(['id', 'month', 'day_of_month', 'estimated_departure_time',\n",
       "       'estimated_arrival_time', 'origin_airport_id', 'destination_airport_id',\n",
       "       'distance', 'tail_number', 'delay', 'flight_time', 'speed'],\n",
       "      dtype='object')"
      ]
     },
     "execution_count": 64,
     "metadata": {},
     "output_type": "execute_result"
    }
   ],
   "source": [
    "train.columns"
   ]
  },
  {
   "cell_type": "code",
   "execution_count": 60,
   "id": "6805b537-be1e-439d-a76e-c4c43a0761ae",
   "metadata": {},
   "outputs": [],
   "source": [
    "cate_list = ['tail_number', 'delay']"
   ]
  },
  {
   "cell_type": "code",
   "execution_count": 61,
   "id": "2646bfff-f677-42dd-a886-11b36ee9f5b4",
   "metadata": {
    "tags": []
   },
   "outputs": [
    {
     "name": "stdout",
     "output_type": "stream",
     "text": [
      "6430\n"
     ]
    }
   ],
   "source": [
    "train[\"tail_number\"].head()\n",
    "print(train[\"tail_number\"].nunique())"
   ]
  },
  {
   "cell_type": "code",
   "execution_count": 62,
   "id": "f8520388-5dee-4939-9225-82d2e1f20f09",
   "metadata": {
    "tags": []
   },
   "outputs": [],
   "source": [
    "from sklearn.preprocessing import LabelEncoder"
   ]
  },
  {
   "cell_type": "code",
   "execution_count": 66,
   "id": "7b9ef916-111e-4a42-b321-3f8025646fec",
   "metadata": {
    "tags": []
   },
   "outputs": [],
   "source": [
    "le=LabelEncoder()\n",
    "for col in cate_list:\n",
    "    res=le.fit_transform(train[col])\n",
    "    train[col] = res\n",
    "    # res11=le.fit_transform(test[col])\n",
    "    # test[col] = res11"
   ]
  },
  {
   "cell_type": "code",
   "execution_count": 67,
   "id": "5cc5c9ab-9f0e-43bb-9ba4-25eeaa3ac07d",
   "metadata": {
    "tags": []
   },
   "outputs": [
    {
     "data": {
      "text/html": [
       "<div>\n",
       "<style scoped>\n",
       "    .dataframe tbody tr th:only-of-type {\n",
       "        vertical-align: middle;\n",
       "    }\n",
       "\n",
       "    .dataframe tbody tr th {\n",
       "        vertical-align: top;\n",
       "    }\n",
       "\n",
       "    .dataframe thead th {\n",
       "        text-align: right;\n",
       "    }\n",
       "</style>\n",
       "<table border=\"1\" class=\"dataframe\">\n",
       "  <thead>\n",
       "    <tr style=\"text-align: right;\">\n",
       "      <th></th>\n",
       "      <th>id</th>\n",
       "      <th>month</th>\n",
       "      <th>day_of_month</th>\n",
       "      <th>estimated_departure_time</th>\n",
       "      <th>estimated_arrival_time</th>\n",
       "      <th>origin_airport_id</th>\n",
       "      <th>destination_airport_id</th>\n",
       "      <th>distance</th>\n",
       "      <th>tail_number</th>\n",
       "      <th>delay</th>\n",
       "      <th>flight_time</th>\n",
       "      <th>speed</th>\n",
       "    </tr>\n",
       "  </thead>\n",
       "  <tbody>\n",
       "    <tr>\n",
       "      <th>0</th>\n",
       "      <td>TRAIN_000000</td>\n",
       "      <td>4</td>\n",
       "      <td>15</td>\n",
       "      <td>1418.895</td>\n",
       "      <td>1560.15</td>\n",
       "      <td>13851</td>\n",
       "      <td>12191</td>\n",
       "      <td>419.0</td>\n",
       "      <td>4319</td>\n",
       "      <td>2</td>\n",
       "      <td>141.255</td>\n",
       "      <td>2.966267</td>\n",
       "    </tr>\n",
       "    <tr>\n",
       "      <th>1</th>\n",
       "      <td>TRAIN_000001</td>\n",
       "      <td>8</td>\n",
       "      <td>15</td>\n",
       "      <td>740.000</td>\n",
       "      <td>1024.00</td>\n",
       "      <td>13930</td>\n",
       "      <td>14869</td>\n",
       "      <td>1250.0</td>\n",
       "      <td>310</td>\n",
       "      <td>2</td>\n",
       "      <td>284.000</td>\n",
       "      <td>4.401408</td>\n",
       "    </tr>\n",
       "    <tr>\n",
       "      <th>2</th>\n",
       "      <td>TRAIN_000002</td>\n",
       "      <td>9</td>\n",
       "      <td>6</td>\n",
       "      <td>1610.000</td>\n",
       "      <td>1805.00</td>\n",
       "      <td>11057</td>\n",
       "      <td>12953</td>\n",
       "      <td>544.0</td>\n",
       "      <td>140</td>\n",
       "      <td>2</td>\n",
       "      <td>195.000</td>\n",
       "      <td>2.789744</td>\n",
       "    </tr>\n",
       "    <tr>\n",
       "      <th>3</th>\n",
       "      <td>TRAIN_000003</td>\n",
       "      <td>7</td>\n",
       "      <td>10</td>\n",
       "      <td>905.000</td>\n",
       "      <td>1735.00</td>\n",
       "      <td>12892</td>\n",
       "      <td>11618</td>\n",
       "      <td>2454.0</td>\n",
       "      <td>3021</td>\n",
       "      <td>2</td>\n",
       "      <td>830.000</td>\n",
       "      <td>2.956627</td>\n",
       "    </tr>\n",
       "    <tr>\n",
       "      <th>4</th>\n",
       "      <td>TRAIN_000004</td>\n",
       "      <td>1</td>\n",
       "      <td>11</td>\n",
       "      <td>900.000</td>\n",
       "      <td>1019.00</td>\n",
       "      <td>14771</td>\n",
       "      <td>10157</td>\n",
       "      <td>250.0</td>\n",
       "      <td>556</td>\n",
       "      <td>2</td>\n",
       "      <td>119.000</td>\n",
       "      <td>2.100840</td>\n",
       "    </tr>\n",
       "  </tbody>\n",
       "</table>\n",
       "</div>"
      ],
      "text/plain": [
       "             id  month  day_of_month  estimated_departure_time  \\\n",
       "0  TRAIN_000000      4            15                  1418.895   \n",
       "1  TRAIN_000001      8            15                   740.000   \n",
       "2  TRAIN_000002      9             6                  1610.000   \n",
       "3  TRAIN_000003      7            10                   905.000   \n",
       "4  TRAIN_000004      1            11                   900.000   \n",
       "\n",
       "   estimated_arrival_time  origin_airport_id  destination_airport_id  \\\n",
       "0                 1560.15              13851                   12191   \n",
       "1                 1024.00              13930                   14869   \n",
       "2                 1805.00              11057                   12953   \n",
       "3                 1735.00              12892                   11618   \n",
       "4                 1019.00              14771                   10157   \n",
       "\n",
       "   distance  tail_number  delay  flight_time     speed  \n",
       "0     419.0         4319      2      141.255  2.966267  \n",
       "1    1250.0          310      2      284.000  4.401408  \n",
       "2     544.0          140      2      195.000  2.789744  \n",
       "3    2454.0         3021      2      830.000  2.956627  \n",
       "4     250.0          556      2      119.000  2.100840  "
      ]
     },
     "execution_count": 67,
     "metadata": {},
     "output_type": "execute_result"
    }
   ],
   "source": [
    "train.head()"
   ]
  },
  {
   "cell_type": "markdown",
   "id": "4a7f0f1e-bc13-4083-bb3a-d2559665f711",
   "metadata": {},
   "source": [
    "## 정규화\n"
   ]
  },
  {
   "cell_type": "code",
   "execution_count": null,
   "id": "bbb001a6-4eb4-4f00-84b4-d025153f4900",
   "metadata": {},
   "outputs": [],
   "source": [
    "from sklearn.preprocessing import StandardScaler, MinMaxScaler, RobustScaler"
   ]
  },
  {
   "cell_type": "code",
   "execution_count": 68,
   "id": "d143bccd-37e0-4ff6-be69-4d91659bed72",
   "metadata": {
    "tags": []
   },
   "outputs": [
    {
     "data": {
      "text/plain": [
       "Index(['id', 'month', 'day_of_month', 'estimated_departure_time',\n",
       "       'estimated_arrival_time', 'origin_airport_id', 'destination_airport_id',\n",
       "       'distance', 'tail_number', 'delay', 'flight_time', 'speed'],\n",
       "      dtype='object')"
      ]
     },
     "execution_count": 68,
     "metadata": {},
     "output_type": "execute_result"
    }
   ],
   "source": [
    "train.columns"
   ]
  },
  {
   "cell_type": "code",
   "execution_count": 69,
   "id": "460cc75b-da3e-4c0a-b53a-cc2a3d74be81",
   "metadata": {},
   "outputs": [
    {
     "data": {
      "text/html": [
       "<div>\n",
       "<style scoped>\n",
       "    .dataframe tbody tr th:only-of-type {\n",
       "        vertical-align: middle;\n",
       "    }\n",
       "\n",
       "    .dataframe tbody tr th {\n",
       "        vertical-align: top;\n",
       "    }\n",
       "\n",
       "    .dataframe thead th {\n",
       "        text-align: right;\n",
       "    }\n",
       "</style>\n",
       "<table border=\"1\" class=\"dataframe\">\n",
       "  <thead>\n",
       "    <tr style=\"text-align: right;\">\n",
       "      <th></th>\n",
       "      <th>estimated_departure_time</th>\n",
       "      <th>estimated_arrival_time</th>\n",
       "      <th>flight_time</th>\n",
       "      <th>speed</th>\n",
       "    </tr>\n",
       "  </thead>\n",
       "  <tbody>\n",
       "    <tr>\n",
       "      <th>0</th>\n",
       "      <td>1418.895</td>\n",
       "      <td>1560.15</td>\n",
       "      <td>141.255</td>\n",
       "      <td>2.966267</td>\n",
       "    </tr>\n",
       "    <tr>\n",
       "      <th>1</th>\n",
       "      <td>740.000</td>\n",
       "      <td>1024.00</td>\n",
       "      <td>284.000</td>\n",
       "      <td>4.401408</td>\n",
       "    </tr>\n",
       "    <tr>\n",
       "      <th>2</th>\n",
       "      <td>1610.000</td>\n",
       "      <td>1805.00</td>\n",
       "      <td>195.000</td>\n",
       "      <td>2.789744</td>\n",
       "    </tr>\n",
       "    <tr>\n",
       "      <th>3</th>\n",
       "      <td>905.000</td>\n",
       "      <td>1735.00</td>\n",
       "      <td>830.000</td>\n",
       "      <td>2.956627</td>\n",
       "    </tr>\n",
       "    <tr>\n",
       "      <th>4</th>\n",
       "      <td>900.000</td>\n",
       "      <td>1019.00</td>\n",
       "      <td>119.000</td>\n",
       "      <td>2.100840</td>\n",
       "    </tr>\n",
       "    <tr>\n",
       "      <th>...</th>\n",
       "      <td>...</td>\n",
       "      <td>...</td>\n",
       "      <td>...</td>\n",
       "      <td>...</td>\n",
       "    </tr>\n",
       "    <tr>\n",
       "      <th>999995</th>\n",
       "      <td>936.000</td>\n",
       "      <td>1243.00</td>\n",
       "      <td>307.000</td>\n",
       "      <td>2.208469</td>\n",
       "    </tr>\n",
       "    <tr>\n",
       "      <th>999996</th>\n",
       "      <td>920.000</td>\n",
       "      <td>1028.00</td>\n",
       "      <td>108.000</td>\n",
       "      <td>2.064815</td>\n",
       "    </tr>\n",
       "    <tr>\n",
       "      <th>999997</th>\n",
       "      <td>800.000</td>\n",
       "      <td>1340.00</td>\n",
       "      <td>540.000</td>\n",
       "      <td>3.040741</td>\n",
       "    </tr>\n",
       "    <tr>\n",
       "      <th>999998</th>\n",
       "      <td>1613.000</td>\n",
       "      <td>1824.00</td>\n",
       "      <td>211.000</td>\n",
       "      <td>1.014218</td>\n",
       "    </tr>\n",
       "    <tr>\n",
       "      <th>999999</th>\n",
       "      <td>1800.000</td>\n",
       "      <td>2056.00</td>\n",
       "      <td>256.000</td>\n",
       "      <td>4.234375</td>\n",
       "    </tr>\n",
       "  </tbody>\n",
       "</table>\n",
       "<p>1000000 rows × 4 columns</p>\n",
       "</div>"
      ],
      "text/plain": [
       "        estimated_departure_time  estimated_arrival_time  flight_time  \\\n",
       "0                       1418.895                 1560.15      141.255   \n",
       "1                        740.000                 1024.00      284.000   \n",
       "2                       1610.000                 1805.00      195.000   \n",
       "3                        905.000                 1735.00      830.000   \n",
       "4                        900.000                 1019.00      119.000   \n",
       "...                          ...                     ...          ...   \n",
       "999995                   936.000                 1243.00      307.000   \n",
       "999996                   920.000                 1028.00      108.000   \n",
       "999997                   800.000                 1340.00      540.000   \n",
       "999998                  1613.000                 1824.00      211.000   \n",
       "999999                  1800.000                 2056.00      256.000   \n",
       "\n",
       "           speed  \n",
       "0       2.966267  \n",
       "1       4.401408  \n",
       "2       2.789744  \n",
       "3       2.956627  \n",
       "4       2.100840  \n",
       "...          ...  \n",
       "999995  2.208469  \n",
       "999996  2.064815  \n",
       "999997  3.040741  \n",
       "999998  1.014218  \n",
       "999999  4.234375  \n",
       "\n",
       "[1000000 rows x 4 columns]"
      ]
     },
     "execution_count": 69,
     "metadata": {},
     "output_type": "execute_result"
    }
   ],
   "source": [
    "# 정규화 대상\n",
    "train[['estimated_departure_time','estimated_arrival_time',\n",
    "       'flight_time', 'speed']]"
   ]
  },
  {
   "cell_type": "code",
   "execution_count": 70,
   "id": "e7741c12-64a0-4011-bd71-41c9379d6add",
   "metadata": {
    "tags": []
   },
   "outputs": [],
   "source": [
    "scale_list = ['estimated_departure_time','estimated_arrival_time','flight_time', 'speed']"
   ]
  },
  {
   "cell_type": "code",
   "execution_count": 71,
   "id": "5ca78a2f-66a1-479a-993a-5a17bdb02caa",
   "metadata": {
    "tags": []
   },
   "outputs": [],
   "source": [
    "scaler = MinMaxScaler()\n",
    "\n",
    "for col in scale_list:\n",
    "    res  = scaler.fit_transform(train[col].values.reshape(-1,1))\n",
    "    train[col] = res\n",
    "    "
   ]
  },
  {
   "cell_type": "code",
   "execution_count": 72,
   "id": "4014f08a-db3d-4b8b-b879-1b0bda97dcb7",
   "metadata": {
    "tags": []
   },
   "outputs": [
    {
     "data": {
      "text/html": [
       "<div>\n",
       "<style scoped>\n",
       "    .dataframe tbody tr th:only-of-type {\n",
       "        vertical-align: middle;\n",
       "    }\n",
       "\n",
       "    .dataframe tbody tr th {\n",
       "        vertical-align: top;\n",
       "    }\n",
       "\n",
       "    .dataframe thead th {\n",
       "        text-align: right;\n",
       "    }\n",
       "</style>\n",
       "<table border=\"1\" class=\"dataframe\">\n",
       "  <thead>\n",
       "    <tr style=\"text-align: right;\">\n",
       "      <th></th>\n",
       "      <th>id</th>\n",
       "      <th>month</th>\n",
       "      <th>day_of_month</th>\n",
       "      <th>estimated_departure_time</th>\n",
       "      <th>estimated_arrival_time</th>\n",
       "      <th>origin_airport_id</th>\n",
       "      <th>destination_airport_id</th>\n",
       "      <th>distance</th>\n",
       "      <th>tail_number</th>\n",
       "      <th>delay</th>\n",
       "      <th>flight_time</th>\n",
       "      <th>speed</th>\n",
       "    </tr>\n",
       "  </thead>\n",
       "  <tbody>\n",
       "    <tr>\n",
       "      <th>0</th>\n",
       "      <td>TRAIN_000000</td>\n",
       "      <td>4</td>\n",
       "      <td>15</td>\n",
       "      <td>0.601313</td>\n",
       "      <td>0.324017</td>\n",
       "      <td>13851</td>\n",
       "      <td>12191</td>\n",
       "      <td>419.0</td>\n",
       "      <td>4319</td>\n",
       "      <td>2</td>\n",
       "      <td>0.058852</td>\n",
       "      <td>0.000086</td>\n",
       "    </tr>\n",
       "    <tr>\n",
       "      <th>1</th>\n",
       "      <td>TRAIN_000001</td>\n",
       "      <td>8</td>\n",
       "      <td>15</td>\n",
       "      <td>0.313401</td>\n",
       "      <td>0.210113</td>\n",
       "      <td>13930</td>\n",
       "      <td>14869</td>\n",
       "      <td>1250.0</td>\n",
       "      <td>310</td>\n",
       "      <td>2</td>\n",
       "      <td>0.118329</td>\n",
       "      <td>0.000128</td>\n",
       "    </tr>\n",
       "    <tr>\n",
       "      <th>2</th>\n",
       "      <td>TRAIN_000002</td>\n",
       "      <td>9</td>\n",
       "      <td>6</td>\n",
       "      <td>0.682358</td>\n",
       "      <td>0.376036</td>\n",
       "      <td>11057</td>\n",
       "      <td>12953</td>\n",
       "      <td>544.0</td>\n",
       "      <td>140</td>\n",
       "      <td>2</td>\n",
       "      <td>0.081246</td>\n",
       "      <td>0.000081</td>\n",
       "    </tr>\n",
       "    <tr>\n",
       "      <th>3</th>\n",
       "      <td>TRAIN_000003</td>\n",
       "      <td>7</td>\n",
       "      <td>10</td>\n",
       "      <td>0.383376</td>\n",
       "      <td>0.361164</td>\n",
       "      <td>12892</td>\n",
       "      <td>11618</td>\n",
       "      <td>2454.0</td>\n",
       "      <td>3021</td>\n",
       "      <td>2</td>\n",
       "      <td>0.345830</td>\n",
       "      <td>0.000086</td>\n",
       "    </tr>\n",
       "    <tr>\n",
       "      <th>4</th>\n",
       "      <td>TRAIN_000004</td>\n",
       "      <td>1</td>\n",
       "      <td>11</td>\n",
       "      <td>0.381255</td>\n",
       "      <td>0.209050</td>\n",
       "      <td>14771</td>\n",
       "      <td>10157</td>\n",
       "      <td>250.0</td>\n",
       "      <td>556</td>\n",
       "      <td>2</td>\n",
       "      <td>0.049579</td>\n",
       "      <td>0.000061</td>\n",
       "    </tr>\n",
       "  </tbody>\n",
       "</table>\n",
       "</div>"
      ],
      "text/plain": [
       "             id  month  day_of_month  estimated_departure_time  \\\n",
       "0  TRAIN_000000      4            15                  0.601313   \n",
       "1  TRAIN_000001      8            15                  0.313401   \n",
       "2  TRAIN_000002      9             6                  0.682358   \n",
       "3  TRAIN_000003      7            10                  0.383376   \n",
       "4  TRAIN_000004      1            11                  0.381255   \n",
       "\n",
       "   estimated_arrival_time  origin_airport_id  destination_airport_id  \\\n",
       "0                0.324017              13851                   12191   \n",
       "1                0.210113              13930                   14869   \n",
       "2                0.376036              11057                   12953   \n",
       "3                0.361164              12892                   11618   \n",
       "4                0.209050              14771                   10157   \n",
       "\n",
       "   distance  tail_number  delay  flight_time     speed  \n",
       "0     419.0         4319      2     0.058852  0.000086  \n",
       "1    1250.0          310      2     0.118329  0.000128  \n",
       "2     544.0          140      2     0.081246  0.000081  \n",
       "3    2454.0         3021      2     0.345830  0.000086  \n",
       "4     250.0          556      2     0.049579  0.000061  "
      ]
     },
     "execution_count": 72,
     "metadata": {},
     "output_type": "execute_result"
    }
   ],
   "source": [
    "train.head()"
   ]
  },
  {
   "cell_type": "code",
   "execution_count": 73,
   "id": "ae67a27b-5aa9-413d-b747-98823ff0ace1",
   "metadata": {
    "tags": []
   },
   "outputs": [],
   "source": [
    "scale_list11 = ['estimated_departure_time','estimated_arrival_time']"
   ]
  },
  {
   "cell_type": "code",
   "execution_count": 74,
   "id": "4f9ec70f-968a-4f04-b522-5904b6079f42",
   "metadata": {
    "tags": []
   },
   "outputs": [],
   "source": [
    "scaler = MinMaxScaler()\n",
    "\n",
    "for col in scale_list11:\n",
    "    res  = scaler.fit_transform(test[col].values.reshape(-1,1))\n",
    "    test[col] = res\n",
    "    "
   ]
  },
  {
   "cell_type": "code",
   "execution_count": 75,
   "id": "0fdb6877-7dc0-42df-b2ca-8cef2add7caa",
   "metadata": {
    "tags": []
   },
   "outputs": [
    {
     "data": {
      "text/html": [
       "<div>\n",
       "<style scoped>\n",
       "    .dataframe tbody tr th:only-of-type {\n",
       "        vertical-align: middle;\n",
       "    }\n",
       "\n",
       "    .dataframe tbody tr th {\n",
       "        vertical-align: top;\n",
       "    }\n",
       "\n",
       "    .dataframe thead th {\n",
       "        text-align: right;\n",
       "    }\n",
       "</style>\n",
       "<table border=\"1\" class=\"dataframe\">\n",
       "  <thead>\n",
       "    <tr style=\"text-align: right;\">\n",
       "      <th></th>\n",
       "      <th>id</th>\n",
       "      <th>month</th>\n",
       "      <th>day_of_month</th>\n",
       "      <th>estimated_departure_time</th>\n",
       "      <th>estimated_arrival_time</th>\n",
       "      <th>origin_airport_id</th>\n",
       "      <th>destination_airport_id</th>\n",
       "      <th>distance</th>\n",
       "      <th>tail_number</th>\n",
       "      <th>delay</th>\n",
       "      <th>flight_time</th>\n",
       "      <th>speed</th>\n",
       "    </tr>\n",
       "  </thead>\n",
       "  <tbody>\n",
       "    <tr>\n",
       "      <th>0</th>\n",
       "      <td>TRAIN_000000</td>\n",
       "      <td>4</td>\n",
       "      <td>15</td>\n",
       "      <td>0.601313</td>\n",
       "      <td>0.324017</td>\n",
       "      <td>13851</td>\n",
       "      <td>12191</td>\n",
       "      <td>419.0</td>\n",
       "      <td>4319</td>\n",
       "      <td>2</td>\n",
       "      <td>0.058852</td>\n",
       "      <td>0.000086</td>\n",
       "    </tr>\n",
       "    <tr>\n",
       "      <th>1</th>\n",
       "      <td>TRAIN_000001</td>\n",
       "      <td>8</td>\n",
       "      <td>15</td>\n",
       "      <td>0.313401</td>\n",
       "      <td>0.210113</td>\n",
       "      <td>13930</td>\n",
       "      <td>14869</td>\n",
       "      <td>1250.0</td>\n",
       "      <td>310</td>\n",
       "      <td>2</td>\n",
       "      <td>0.118329</td>\n",
       "      <td>0.000128</td>\n",
       "    </tr>\n",
       "    <tr>\n",
       "      <th>2</th>\n",
       "      <td>TRAIN_000002</td>\n",
       "      <td>9</td>\n",
       "      <td>6</td>\n",
       "      <td>0.682358</td>\n",
       "      <td>0.376036</td>\n",
       "      <td>11057</td>\n",
       "      <td>12953</td>\n",
       "      <td>544.0</td>\n",
       "      <td>140</td>\n",
       "      <td>2</td>\n",
       "      <td>0.081246</td>\n",
       "      <td>0.000081</td>\n",
       "    </tr>\n",
       "    <tr>\n",
       "      <th>3</th>\n",
       "      <td>TRAIN_000003</td>\n",
       "      <td>7</td>\n",
       "      <td>10</td>\n",
       "      <td>0.383376</td>\n",
       "      <td>0.361164</td>\n",
       "      <td>12892</td>\n",
       "      <td>11618</td>\n",
       "      <td>2454.0</td>\n",
       "      <td>3021</td>\n",
       "      <td>2</td>\n",
       "      <td>0.345830</td>\n",
       "      <td>0.000086</td>\n",
       "    </tr>\n",
       "    <tr>\n",
       "      <th>4</th>\n",
       "      <td>TRAIN_000004</td>\n",
       "      <td>1</td>\n",
       "      <td>11</td>\n",
       "      <td>0.381255</td>\n",
       "      <td>0.209050</td>\n",
       "      <td>14771</td>\n",
       "      <td>10157</td>\n",
       "      <td>250.0</td>\n",
       "      <td>556</td>\n",
       "      <td>2</td>\n",
       "      <td>0.049579</td>\n",
       "      <td>0.000061</td>\n",
       "    </tr>\n",
       "  </tbody>\n",
       "</table>\n",
       "</div>"
      ],
      "text/plain": [
       "             id  month  day_of_month  estimated_departure_time  \\\n",
       "0  TRAIN_000000      4            15                  0.601313   \n",
       "1  TRAIN_000001      8            15                  0.313401   \n",
       "2  TRAIN_000002      9             6                  0.682358   \n",
       "3  TRAIN_000003      7            10                  0.383376   \n",
       "4  TRAIN_000004      1            11                  0.381255   \n",
       "\n",
       "   estimated_arrival_time  origin_airport_id  destination_airport_id  \\\n",
       "0                0.324017              13851                   12191   \n",
       "1                0.210113              13930                   14869   \n",
       "2                0.376036              11057                   12953   \n",
       "3                0.361164              12892                   11618   \n",
       "4                0.209050              14771                   10157   \n",
       "\n",
       "   distance  tail_number  delay  flight_time     speed  \n",
       "0     419.0         4319      2     0.058852  0.000086  \n",
       "1    1250.0          310      2     0.118329  0.000128  \n",
       "2     544.0          140      2     0.081246  0.000081  \n",
       "3    2454.0         3021      2     0.345830  0.000086  \n",
       "4     250.0          556      2     0.049579  0.000061  "
      ]
     },
     "execution_count": 75,
     "metadata": {},
     "output_type": "execute_result"
    }
   ],
   "source": [
    "train.head()\n",
    "# print(test.head())"
   ]
  },
  {
   "cell_type": "markdown",
   "id": "24b902df-aa4d-48c6-b85a-93fd1dfbcb4c",
   "metadata": {},
   "source": [
    "# delay 결측"
   ]
  },
  {
   "cell_type": "code",
   "execution_count": 76,
   "id": "fc759230-8ae8-4d13-93e0-b6a8710f3e36",
   "metadata": {
    "tags": []
   },
   "outputs": [],
   "source": [
    "from sklearn.ensemble import RandomForestClassifier"
   ]
  },
  {
   "cell_type": "code",
   "execution_count": 77,
   "id": "27cc6d5b-948b-4d3a-a01e-09718eca4968",
   "metadata": {
    "tags": []
   },
   "outputs": [],
   "source": [
    "null_idx=train[ train[\"delay\"].isna()  ].index.values"
   ]
  },
  {
   "cell_type": "code",
   "execution_count": 78,
   "id": "2b743bef-fc18-4159-bfb9-7b5f24c8de39",
   "metadata": {
    "tags": []
   },
   "outputs": [],
   "source": [
    "not_idx=train[ train[\"delay\"].notna()  ].index.values"
   ]
  },
  {
   "cell_type": "code",
   "execution_count": null,
   "id": "70f3e8d7-9757-4f72-84c6-a769cec4f7b1",
   "metadata": {},
   "outputs": [],
   "source": [
    "sdfdsfsdfsdf"
   ]
  },
  {
   "cell_type": "code",
   "execution_count": 79,
   "id": "df2c6c70-ab76-4213-8e71-ff5c9a592c28",
   "metadata": {
    "tags": []
   },
   "outputs": [],
   "source": [
    "time_train = train.iloc[not_idx]\n",
    "null_train = train.iloc[null_idx]"
   ]
  },
  {
   "cell_type": "code",
   "execution_count": 80,
   "id": "97aff4d8-db61-4e3e-b0dc-acf0ba7dc05d",
   "metadata": {
    "tags": []
   },
   "outputs": [
    {
     "data": {
      "text/plain": [
       "((1000000, 12), (0, 12))"
      ]
     },
     "execution_count": 80,
     "metadata": {},
     "output_type": "execute_result"
    }
   ],
   "source": [
    "time_train.shape, null_train.shape"
   ]
  },
  {
   "cell_type": "code",
   "execution_count": 81,
   "id": "9a3f8865-364f-42e3-ba8e-5c472602d07e",
   "metadata": {
    "tags": []
   },
   "outputs": [
    {
     "data": {
      "text/html": [
       "<div>\n",
       "<style scoped>\n",
       "    .dataframe tbody tr th:only-of-type {\n",
       "        vertical-align: middle;\n",
       "    }\n",
       "\n",
       "    .dataframe tbody tr th {\n",
       "        vertical-align: top;\n",
       "    }\n",
       "\n",
       "    .dataframe thead th {\n",
       "        text-align: right;\n",
       "    }\n",
       "</style>\n",
       "<table border=\"1\" class=\"dataframe\">\n",
       "  <thead>\n",
       "    <tr style=\"text-align: right;\">\n",
       "      <th></th>\n",
       "      <th>id</th>\n",
       "      <th>month</th>\n",
       "      <th>day_of_month</th>\n",
       "      <th>estimated_departure_time</th>\n",
       "      <th>estimated_arrival_time</th>\n",
       "      <th>origin_airport_id</th>\n",
       "      <th>destination_airport_id</th>\n",
       "      <th>distance</th>\n",
       "      <th>tail_number</th>\n",
       "      <th>delay</th>\n",
       "      <th>flight_time</th>\n",
       "      <th>speed</th>\n",
       "    </tr>\n",
       "  </thead>\n",
       "  <tbody>\n",
       "    <tr>\n",
       "      <th>0</th>\n",
       "      <td>TRAIN_000000</td>\n",
       "      <td>4</td>\n",
       "      <td>15</td>\n",
       "      <td>0.601313</td>\n",
       "      <td>0.324017</td>\n",
       "      <td>13851</td>\n",
       "      <td>12191</td>\n",
       "      <td>419.0</td>\n",
       "      <td>4319</td>\n",
       "      <td>2</td>\n",
       "      <td>0.058852</td>\n",
       "      <td>0.000086</td>\n",
       "    </tr>\n",
       "    <tr>\n",
       "      <th>1</th>\n",
       "      <td>TRAIN_000001</td>\n",
       "      <td>8</td>\n",
       "      <td>15</td>\n",
       "      <td>0.313401</td>\n",
       "      <td>0.210113</td>\n",
       "      <td>13930</td>\n",
       "      <td>14869</td>\n",
       "      <td>1250.0</td>\n",
       "      <td>310</td>\n",
       "      <td>2</td>\n",
       "      <td>0.118329</td>\n",
       "      <td>0.000128</td>\n",
       "    </tr>\n",
       "    <tr>\n",
       "      <th>2</th>\n",
       "      <td>TRAIN_000002</td>\n",
       "      <td>9</td>\n",
       "      <td>6</td>\n",
       "      <td>0.682358</td>\n",
       "      <td>0.376036</td>\n",
       "      <td>11057</td>\n",
       "      <td>12953</td>\n",
       "      <td>544.0</td>\n",
       "      <td>140</td>\n",
       "      <td>2</td>\n",
       "      <td>0.081246</td>\n",
       "      <td>0.000081</td>\n",
       "    </tr>\n",
       "    <tr>\n",
       "      <th>3</th>\n",
       "      <td>TRAIN_000003</td>\n",
       "      <td>7</td>\n",
       "      <td>10</td>\n",
       "      <td>0.383376</td>\n",
       "      <td>0.361164</td>\n",
       "      <td>12892</td>\n",
       "      <td>11618</td>\n",
       "      <td>2454.0</td>\n",
       "      <td>3021</td>\n",
       "      <td>2</td>\n",
       "      <td>0.345830</td>\n",
       "      <td>0.000086</td>\n",
       "    </tr>\n",
       "    <tr>\n",
       "      <th>4</th>\n",
       "      <td>TRAIN_000004</td>\n",
       "      <td>1</td>\n",
       "      <td>11</td>\n",
       "      <td>0.381255</td>\n",
       "      <td>0.209050</td>\n",
       "      <td>14771</td>\n",
       "      <td>10157</td>\n",
       "      <td>250.0</td>\n",
       "      <td>556</td>\n",
       "      <td>2</td>\n",
       "      <td>0.049579</td>\n",
       "      <td>0.000061</td>\n",
       "    </tr>\n",
       "  </tbody>\n",
       "</table>\n",
       "</div>"
      ],
      "text/plain": [
       "             id  month  day_of_month  estimated_departure_time  \\\n",
       "0  TRAIN_000000      4            15                  0.601313   \n",
       "1  TRAIN_000001      8            15                  0.313401   \n",
       "2  TRAIN_000002      9             6                  0.682358   \n",
       "3  TRAIN_000003      7            10                  0.383376   \n",
       "4  TRAIN_000004      1            11                  0.381255   \n",
       "\n",
       "   estimated_arrival_time  origin_airport_id  destination_airport_id  \\\n",
       "0                0.324017              13851                   12191   \n",
       "1                0.210113              13930                   14869   \n",
       "2                0.376036              11057                   12953   \n",
       "3                0.361164              12892                   11618   \n",
       "4                0.209050              14771                   10157   \n",
       "\n",
       "   distance  tail_number  delay  flight_time     speed  \n",
       "0     419.0         4319      2     0.058852  0.000086  \n",
       "1    1250.0          310      2     0.118329  0.000128  \n",
       "2     544.0          140      2     0.081246  0.000081  \n",
       "3    2454.0         3021      2     0.345830  0.000086  \n",
       "4     250.0          556      2     0.049579  0.000061  "
      ]
     },
     "execution_count": 81,
     "metadata": {},
     "output_type": "execute_result"
    }
   ],
   "source": [
    "time_train.head()"
   ]
  },
  {
   "cell_type": "code",
   "execution_count": 82,
   "id": "c4125906-8b7c-4439-8c31-9e6506365d63",
   "metadata": {
    "tags": []
   },
   "outputs": [
    {
     "data": {
      "text/html": [
       "<div>\n",
       "<style scoped>\n",
       "    .dataframe tbody tr th:only-of-type {\n",
       "        vertical-align: middle;\n",
       "    }\n",
       "\n",
       "    .dataframe tbody tr th {\n",
       "        vertical-align: top;\n",
       "    }\n",
       "\n",
       "    .dataframe thead th {\n",
       "        text-align: right;\n",
       "    }\n",
       "</style>\n",
       "<table border=\"1\" class=\"dataframe\">\n",
       "  <thead>\n",
       "    <tr style=\"text-align: right;\">\n",
       "      <th></th>\n",
       "      <th>id</th>\n",
       "      <th>month</th>\n",
       "      <th>day_of_month</th>\n",
       "      <th>estimated_departure_time</th>\n",
       "      <th>estimated_arrival_time</th>\n",
       "      <th>origin_airport_id</th>\n",
       "      <th>destination_airport_id</th>\n",
       "      <th>distance</th>\n",
       "      <th>tail_number</th>\n",
       "      <th>delay</th>\n",
       "      <th>flight_time</th>\n",
       "      <th>speed</th>\n",
       "    </tr>\n",
       "  </thead>\n",
       "  <tbody>\n",
       "  </tbody>\n",
       "</table>\n",
       "</div>"
      ],
      "text/plain": [
       "Empty DataFrame\n",
       "Columns: [id, month, day_of_month, estimated_departure_time, estimated_arrival_time, origin_airport_id, destination_airport_id, distance, tail_number, delay, flight_time, speed]\n",
       "Index: []"
      ]
     },
     "execution_count": 82,
     "metadata": {},
     "output_type": "execute_result"
    }
   ],
   "source": [
    "null_train.head()"
   ]
  },
  {
   "cell_type": "code",
   "execution_count": 83,
   "id": "1bd5e5c3-40a3-48a3-bdc3-ea48f3ca8cb6",
   "metadata": {
    "tags": []
   },
   "outputs": [],
   "source": [
    "# y = time_train[\"delay\"]\n",
    "# X = time_train.drop([\"delay\",\"id\"], axis=1)"
   ]
  },
  {
   "cell_type": "code",
   "execution_count": 84,
   "id": "cb0119f3-f823-43ce-b435-100c8c926472",
   "metadata": {
    "tags": []
   },
   "outputs": [],
   "source": [
    "# null_train_1 = null_train.drop([\"delay\",\"id\"], axis=1)"
   ]
  },
  {
   "cell_type": "code",
   "execution_count": null,
   "id": "352ccfbc-36c4-4136-b41b-f0d7868e8282",
   "metadata": {},
   "outputs": [],
   "source": [
    "# rf = RandomForestClassifier()\n",
    "# rf.fit(X,y)\n",
    "# pred = rf.predict(null_train_1)\n",
    "# pred"
   ]
  },
  {
   "cell_type": "code",
   "execution_count": null,
   "id": "c8f91af8-1c83-4d6e-b0a1-778f711b3e9f",
   "metadata": {},
   "outputs": [],
   "source": []
  },
  {
   "cell_type": "markdown",
   "id": "df23eaec-cd27-4d7f-98cf-7aa5a9c01f9a",
   "metadata": {},
   "source": [
    "#### [\"estimated_departure_time\"]"
   ]
  },
  {
   "cell_type": "code",
   "execution_count": null,
   "id": "682ffdde-7b80-4831-9d69-8527346ecb31",
   "metadata": {
    "tags": []
   },
   "outputs": [],
   "source": [
    "test.isna().sum()"
   ]
  },
  {
   "cell_type": "code",
   "execution_count": null,
   "id": "b487e06f-733d-41f7-baae-5c2b38315728",
   "metadata": {
    "tags": []
   },
   "outputs": [],
   "source": [
    "null_idx=test[ test[\"estimated_departure_time\"].isna()  ].index.values"
   ]
  },
  {
   "cell_type": "code",
   "execution_count": null,
   "id": "7ebfecc9-c966-452a-9ddf-f9521812e7cc",
   "metadata": {
    "tags": []
   },
   "outputs": [],
   "source": [
    "null_idx.shape"
   ]
  },
  {
   "cell_type": "code",
   "execution_count": null,
   "id": "a8737dfc-96c7-4db3-9b20-94751e56c535",
   "metadata": {
    "tags": []
   },
   "outputs": [],
   "source": [
    "not_idx=test[ test[\"estimated_departure_time\"].notna()  ].index.values"
   ]
  },
  {
   "cell_type": "code",
   "execution_count": null,
   "id": "434e39c0-4e0f-4ded-a578-aa46fcbeaaf0",
   "metadata": {
    "tags": []
   },
   "outputs": [],
   "source": [
    "time_test = test.iloc[not_idx]\n",
    "null_test = test.iloc[null_idx]"
   ]
  },
  {
   "cell_type": "code",
   "execution_count": null,
   "id": "e8dc1283-9115-4040-bc96-83c2c8e49f96",
   "metadata": {
    "tags": []
   },
   "outputs": [],
   "source": [
    "null_test.info()"
   ]
  },
  {
   "cell_type": "code",
   "execution_count": null,
   "id": "33d15f0d-1ebd-4566-8697-47a100117b0e",
   "metadata": {
    "tags": []
   },
   "outputs": [],
   "source": [
    "null_test = null_test.drop([\"estimated_departure_time\",\"id\",\"tail_number\",\"delay\",\"estimated_arrival_time\"], axis = 1)"
   ]
  },
  {
   "cell_type": "code",
   "execution_count": null,
   "id": "b7bc3634-f885-474f-8aa8-d250b5d41f79",
   "metadata": {
    "tags": []
   },
   "outputs": [],
   "source": [
    "y = time_test[\"estimated_departure_time\"]\n",
    "X = time_test.drop([\"estimated_departure_time\",\"id\",\"tail_number\",\"delay\",\"estimated_arrival_time\"], axis = 1)\n",
    "\n",
    "\n",
    "rr = RandomForestRegressor(random_state=1)\n",
    "rr.fit(X,y)\n",
    "pred = rr.predict(null_test)\n",
    "pred"
   ]
  },
  {
   "cell_type": "code",
   "execution_count": null,
   "id": "e8d10e4e-d6b2-415c-bb12-f72a248b8694",
   "metadata": {
    "tags": []
   },
   "outputs": [],
   "source": [
    "for i, idx in enumerate(null_idx):\n",
    "    test.loc[idx,\"estimated_departure_time\"] = pred[i]\n"
   ]
  },
  {
   "cell_type": "markdown",
   "id": "01228812-cb29-44a1-9307-e4004695cc69",
   "metadata": {},
   "source": [
    "#### [\"estimated_arrival_time\"]"
   ]
  },
  {
   "cell_type": "code",
   "execution_count": null,
   "id": "9dcc736e-a432-4c96-843b-1101cb39e47b",
   "metadata": {
    "tags": []
   },
   "outputs": [],
   "source": [
    "null_idx=test[ test[\"estimated_arrival_time\"].isna()  ].index.values"
   ]
  },
  {
   "cell_type": "code",
   "execution_count": null,
   "id": "f8bc9001-b08d-4a82-a683-e937d68f7890",
   "metadata": {
    "tags": []
   },
   "outputs": [],
   "source": [
    "null_idx.shape"
   ]
  },
  {
   "cell_type": "code",
   "execution_count": null,
   "id": "1655429e-7b24-4884-9a3f-cd448f8d0596",
   "metadata": {
    "tags": []
   },
   "outputs": [],
   "source": [
    "not_idx=test[ test[\"estimated_arrival_time\"].notna()  ].index.values"
   ]
  },
  {
   "cell_type": "code",
   "execution_count": null,
   "id": "c9fdcd92-145b-4649-be13-b6d166be0ae6",
   "metadata": {
    "tags": []
   },
   "outputs": [],
   "source": [
    "time_test = test.iloc[not_idx]\n",
    "null_test = test.iloc[null_idx]"
   ]
  },
  {
   "cell_type": "code",
   "execution_count": null,
   "id": "ad81253c-f77b-4fdb-b7e4-e655d33d1a68",
   "metadata": {
    "tags": []
   },
   "outputs": [],
   "source": [
    "null_test = null_test.drop([\"estimated_departure_time\",\"id\",\"tail_number\",\"delay\",\"estimated_arrival_time\"], axis = 1)"
   ]
  },
  {
   "cell_type": "code",
   "execution_count": null,
   "id": "0d691f38-f6d9-4af6-88e9-75e6e688edcf",
   "metadata": {
    "tags": []
   },
   "outputs": [],
   "source": [
    "null_test.info()"
   ]
  },
  {
   "cell_type": "code",
   "execution_count": null,
   "id": "c118162b-a4c9-47c0-b25e-4cb49404255e",
   "metadata": {
    "tags": []
   },
   "outputs": [],
   "source": [
    "y = time_test[\"estimated_arrival_time\"]\n",
    "X = time_test.drop([\"estimated_departure_time\",\"id\",\"tail_number\",\"delay\",\"estimated_arrival_time\"], axis = 1)\n",
    "\n",
    "\n",
    "rr = RandomForestRegressor(random_state=1)\n",
    "rr.fit(X,y)\n",
    "pred = rr.predict(null_test)\n",
    "pred"
   ]
  },
  {
   "cell_type": "code",
   "execution_count": null,
   "id": "8a5fe9b9-d2ab-468c-8013-b0f8bd7f0372",
   "metadata": {},
   "outputs": [],
   "source": []
  },
  {
   "cell_type": "code",
   "execution_count": null,
   "id": "037b0fea-8daa-4b22-b572-76c5dba4a4d0",
   "metadata": {},
   "outputs": [],
   "source": []
  },
  {
   "cell_type": "code",
   "execution_count": null,
   "id": "cc0a065b-0fa6-4006-8c3d-90e227c827d1",
   "metadata": {},
   "outputs": [],
   "source": []
  },
  {
   "cell_type": "code",
   "execution_count": null,
   "id": "c1665279-c0f4-4629-a9fd-9c8713048e94",
   "metadata": {},
   "outputs": [],
   "source": []
  }
 ],
 "metadata": {
  "kernelspec": {
   "display_name": "Python 3 (ipykernel)",
   "language": "python",
   "name": "python3"
  },
  "language_info": {
   "codemirror_mode": {
    "name": "ipython",
    "version": 3
   },
   "file_extension": ".py",
   "mimetype": "text/x-python",
   "name": "python",
   "nbconvert_exporter": "python",
   "pygments_lexer": "ipython3",
   "version": "3.8.8"
  }
 },
 "nbformat": 4,
 "nbformat_minor": 5
}
