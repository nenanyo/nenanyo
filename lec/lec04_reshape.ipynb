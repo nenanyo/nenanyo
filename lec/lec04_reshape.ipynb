{
 "cells": [
  {
   "cell_type": "markdown",
   "id": "36d7c516-62de-4658-84f9-5a34d5adf774",
   "metadata": {
    "tags": []
   },
   "source": [
    "# lec04_reshape"
   ]
  },
  {
   "cell_type": "code",
   "execution_count": 1,
   "id": "a6149ba7-ee47-45fa-8954-2f265c6927ba",
   "metadata": {
    "tags": []
   },
   "outputs": [],
   "source": [
    "import numpy as np\n",
    "import pandas as pd"
   ]
  },
  {
   "cell_type": "markdown",
   "id": "fa3868b4-f1ea-468a-a78f-6b2a70fbd4f6",
   "metadata": {},
   "source": [
    "# 데이터 구조 (유형)\n",
    "<pre>\n",
    "* Scalar   : 단일 값\n",
    "* Vector   : 숫자 열(array-like)\n",
    "* Matrix   : 행렬, 벡터 묶음\n",
    "* Tensor   : 메트릭스 묶음"
   ]
  },
  {
   "cell_type": "markdown",
   "id": "abafebeb-379b-4679-9b41-7a1d886d5187",
   "metadata": {},
   "source": [
    "<img src =\"https://mblogthumb-phinf.pstatic.net/MjAyMDA1MjVfMjMx/MDAxNTkwMzY0MTI4NTE1.f-y_r75ikUM3Mr406dl5ILpLArs8vtef5jOb1_bncZcg.t1-XQSmZiTGDdV2o2JS3LpCb2rb3rsRGCWgvmOuvYYYg.PNG.nabilera1/image.png?type=w800\">"
   ]
  },
  {
   "cell_type": "markdown",
   "id": "a31e9574-3ac1-4937-8993-ecb6d82b774c",
   "metadata": {
    "tags": []
   },
   "source": [
    "# List VS Array VS Series"
   ]
  },
  {
   "cell_type": "code",
   "execution_count": 2,
   "id": "33607751-7466-4e2b-aad9-46e91adc8fa7",
   "metadata": {
    "tags": []
   },
   "outputs": [
    {
     "name": "stdout",
     "output_type": "stream",
     "text": [
      "4 [1, 2, 3, 4] 1\n",
      "4 (4,) [1 2 3 4] 1\n",
      "4 (4,) (4,) 1\n",
      "[1 2 3 4]\n",
      "0    1\n",
      "1    2\n",
      "2    3\n",
      "3    4\n",
      "dtype: int32\n"
     ]
    }
   ],
   "source": [
    "num_list = [1,2,3,4]\n",
    "print(len(num_list), num_list, np.ndim(num_list))\n",
    "\n",
    "num_arr = np.array(num_list)\n",
    "print(len(num_arr), num_arr.shape, num_arr, np.ndim(num_list))\n",
    "      \n",
    "s = pd.Series(num_arr) \n",
    "print(len(s) , s.shape, s.values.shape, np.ndim(num_list))\n",
    "print(s.values)\n",
    "print(s)"
   ]
  },
  {
   "cell_type": "code",
   "execution_count": 3,
   "id": "72827ec6-5fd9-477d-9589-95418bd609ed",
   "metadata": {
    "tags": []
   },
   "outputs": [
    {
     "name": "stdout",
     "output_type": "stream",
     "text": [
      "4 [1, 2, 3, 4]\n",
      "(4,) [1 2 3 4]\n",
      "0    1\n",
      "1    2\n",
      "2    3\n",
      "3    4\n",
      "dtype: int32 [1 2 3 4] 4 (4,) (4,)\n"
     ]
    }
   ],
   "source": [
    "num_list = [1,2,3,4]\n",
    "print(len(num_list), num_list)\n",
    "#np.ndim() >> 차수 출력\n",
    "\n",
    "num_arr = np.array(num_list) # 가로줄\n",
    "print(num_arr.shape, num_arr)\n",
    "\n",
    "S = pd.Series(num_arr) # 세로줄\n",
    "print(S, S.values, len(S), S.shape,  S.values.shape) "
   ]
  },
  {
   "cell_type": "markdown",
   "id": "21c14101-a709-4884-a4e4-33cff54a33a0",
   "metadata": {},
   "source": [
    "# 요소 접근"
   ]
  },
  {
   "cell_type": "code",
   "execution_count": 4,
   "id": "7dc89177-7218-4c90-9839-8ee6e79f512a",
   "metadata": {
    "tags": []
   },
   "outputs": [
    {
     "name": "stdout",
     "output_type": "stream",
     "text": [
      "[[[ 0  1  2  3]\n",
      "  [ 4  5  6  7]\n",
      "  [ 8  9 10 11]]\n",
      "\n",
      " [[12 13 14 15]\n",
      "  [16 17 18 19]\n",
      "  [20 21 22 23]]]\n"
     ]
    }
   ],
   "source": [
    "num_arr = np.arange(0,24)\n",
    "re_arr = num_arr.reshape(2,3,4)\n",
    "print(re_arr)"
   ]
  },
  {
   "cell_type": "code",
   "execution_count": 5,
   "id": "3ef307c7-c064-45b7-a5d1-17777d7c1cd4",
   "metadata": {
    "tags": []
   },
   "outputs": [
    {
     "name": "stdout",
     "output_type": "stream",
     "text": [
      "2 3 4\n"
     ]
    }
   ],
   "source": [
    "print(   len(re_arr), len(re_arr[0]), len(re_arr[0][0])   )"
   ]
  },
  {
   "cell_type": "markdown",
   "id": "7ab248c0-e167-4137-8fd5-f3b6952ec3cf",
   "metadata": {
    "tags": []
   },
   "source": [
    "# arange() VS range()\n",
    "(시작,끝,간격)"
   ]
  },
  {
   "cell_type": "code",
   "execution_count": 6,
   "id": "61143aac-c540-484d-94e5-402736f830aa",
   "metadata": {},
   "outputs": [
    {
     "data": {
      "text/plain": [
       "array([ 4,  6,  8, 10])"
      ]
     },
     "execution_count": 6,
     "metadata": {},
     "output_type": "execute_result"
    }
   ],
   "source": [
    "a = np.arange(4,12,2)\n",
    "a"
   ]
  },
  {
   "cell_type": "code",
   "execution_count": 7,
   "id": "d4802953-6561-46ec-861d-651ed2a39b13",
   "metadata": {},
   "outputs": [
    {
     "name": "stdout",
     "output_type": "stream",
     "text": [
      "<class 'range'>\n"
     ]
    },
    {
     "data": {
      "text/plain": [
       "[4, 6, 8, 10]"
      ]
     },
     "execution_count": 7,
     "metadata": {},
     "output_type": "execute_result"
    }
   ],
   "source": [
    "a = range(4,12,2)\n",
    "print(type(a))\n",
    "list(a)"
   ]
  },
  {
   "cell_type": "code",
   "execution_count": 8,
   "id": "062cd05f-3898-44de-924d-0688d7796bfc",
   "metadata": {
    "tags": []
   },
   "outputs": [
    {
     "name": "stdout",
     "output_type": "stream",
     "text": [
      "1\n",
      "2\n",
      "3\n"
     ]
    }
   ],
   "source": [
    "for i in [1,2,3]:\n",
    "    print(i)"
   ]
  },
  {
   "cell_type": "code",
   "execution_count": 9,
   "id": "c69371a7-bee1-4a3c-ae57-185aea50f196",
   "metadata": {
    "tags": []
   },
   "outputs": [
    {
     "name": "stdout",
     "output_type": "stream",
     "text": [
      "1\n",
      "2\n",
      "3\n"
     ]
    }
   ],
   "source": [
    "for i in np.array([1,2,3]):\n",
    "    print(i)"
   ]
  },
  {
   "cell_type": "code",
   "execution_count": 10,
   "id": "3b336b76-c8f5-48fe-8de9-d28f779a120e",
   "metadata": {
    "tags": []
   },
   "outputs": [
    {
     "name": "stdout",
     "output_type": "stream",
     "text": [
      "1\n",
      "2\n",
      "3\n"
     ]
    }
   ],
   "source": [
    "for i in range(1,4):        #[1,2,3]\n",
    "    print(i)"
   ]
  },
  {
   "cell_type": "code",
   "execution_count": 11,
   "id": "0953675c-c0f2-4f9f-a8ee-9cebec6ce86d",
   "metadata": {
    "tags": []
   },
   "outputs": [
    {
     "name": "stdout",
     "output_type": "stream",
     "text": [
      "1\n",
      "2\n",
      "3\n"
     ]
    }
   ],
   "source": [
    "for i in np.arange(1,4):   #[123] >> array\n",
    "    print(i)"
   ]
  },
  {
   "cell_type": "markdown",
   "id": "7819e0f9-9bc1-47f1-9c3a-98a0a817f8ab",
   "metadata": {},
   "source": [
    "# np.zeros() VS np.ones() VS np.likes()"
   ]
  },
  {
   "cell_type": "markdown",
   "id": "dae1d481-f1a0-4b68-888c-9a2940463cd5",
   "metadata": {},
   "source": [
    "## np.zeros()\n",
    "* 0을 원하는 갯수, 형식으로 만든다"
   ]
  },
  {
   "cell_type": "code",
   "execution_count": 12,
   "id": "d0e6a449-f260-4e8d-997e-0db8683db61c",
   "metadata": {
    "tags": []
   },
   "outputs": [
    {
     "data": {
      "text/plain": [
       "array([0, 0, 0, 0, 0])"
      ]
     },
     "execution_count": 12,
     "metadata": {},
     "output_type": "execute_result"
    }
   ],
   "source": [
    "np.zeros(5, dtype = int)\n",
    "# default는 float"
   ]
  },
  {
   "cell_type": "code",
   "execution_count": 13,
   "id": "b6ad64ba-2dac-4bb4-bc33-8e256e4d8f60",
   "metadata": {
    "tags": []
   },
   "outputs": [
    {
     "data": {
      "text/plain": [
       "array([[0, 0, 0],\n",
       "       [0, 0, 0],\n",
       "       [0, 0, 0],\n",
       "       [0, 0, 0],\n",
       "       [0, 0, 0]])"
      ]
     },
     "execution_count": 13,
     "metadata": {},
     "output_type": "execute_result"
    }
   ],
   "source": [
    "np.zeros((5,3), dtype = int)"
   ]
  },
  {
   "cell_type": "markdown",
   "id": "179fa2ac-24bf-4208-93f4-d60f005e213c",
   "metadata": {
    "tags": []
   },
   "source": [
    "## np.ones()\n",
    "* 1을 원하는 갯수, 형식으로 만든다"
   ]
  },
  {
   "cell_type": "code",
   "execution_count": 14,
   "id": "2a1cd19a-f272-4512-bbae-25017c66caf0",
   "metadata": {
    "tags": []
   },
   "outputs": [
    {
     "data": {
      "text/plain": [
       "array([1., 1., 1., 1., 1.])"
      ]
     },
     "execution_count": 14,
     "metadata": {},
     "output_type": "execute_result"
    }
   ],
   "source": [
    "np.ones(5)"
   ]
  },
  {
   "cell_type": "markdown",
   "id": "ff855a95-559a-493c-9ec1-27a1caa30e58",
   "metadata": {},
   "source": [
    "## np.like()\n",
    "* np.zeros_like(), np.ones_like(), np.empty_like(), np.full_like()"
   ]
  },
  {
   "cell_type": "code",
   "execution_count": 15,
   "id": "bf87fa41-4bc8-470f-9dd0-87400b5ee2d8",
   "metadata": {
    "tags": []
   },
   "outputs": [
    {
     "name": "stdout",
     "output_type": "stream",
     "text": [
      "[[0 0 0]\n",
      " [0 0 0]\n",
      " [0 0 0]\n",
      " [0 0 0]\n",
      " [0 0 0]] (5, 3)\n",
      "[[1 1 1]\n",
      " [1 1 1]\n",
      " [1 1 1]\n",
      " [1 1 1]\n",
      " [1 1 1]] (5, 3)\n"
     ]
    }
   ],
   "source": [
    "sample = np.zeros((5,3), dtype = int)\n",
    "print(sample, sample.shape)\n",
    "temp = np.ones_like(sample)\n",
    "print(temp, temp.shape)"
   ]
  },
  {
   "cell_type": "code",
   "execution_count": null,
   "id": "9d895d0f-d08e-45ed-9ade-2123910da99b",
   "metadata": {},
   "outputs": [],
   "source": []
  },
  {
   "cell_type": "markdown",
   "id": "e6f601c6-e618-4897-9cb2-2a919ab9fd03",
   "metadata": {},
   "source": [
    "# 차수(Dimension)"
   ]
  },
  {
   "cell_type": "markdown",
   "id": "78c44df7-cacf-4bfd-b749-575e78262538",
   "metadata": {},
   "source": [
    "<img src = \"https://img1.daumcdn.net/thumb/R1280x0/?scode=mtistory2&fname=https%3A%2F%2Fblog.kakaocdn.net%2Fdn%2FcSoMOs%2Fbtqt0a2Dc2y%2FQhkfwhiWqeUKvNfsM2H29K%2Fimg.png\">"
   ]
  },
  {
   "cell_type": "markdown",
   "id": "d720c819-ebc5-43bb-ba60-28acad3027e7",
   "metadata": {},
   "source": [
    "## 1D\n",
    "* axis = 0"
   ]
  },
  {
   "cell_type": "code",
   "execution_count": 16,
   "id": "f872f847-cf88-4ed3-ae32-6d20872177e8",
   "metadata": {
    "tags": []
   },
   "outputs": [
    {
     "name": "stdout",
     "output_type": "stream",
     "text": [
      "1\n"
     ]
    }
   ],
   "source": [
    "num_list = [1,2,3,4]\n",
    "print(np.ndim(num_list))"
   ]
  },
  {
   "cell_type": "markdown",
   "id": "9d8f1523-ca0d-437d-b5c3-8f579a99b9ca",
   "metadata": {},
   "source": [
    "## 2D\n",
    "* 행 axis = 0\n",
    "* 열 axis = 1"
   ]
  },
  {
   "cell_type": "code",
   "execution_count": 17,
   "id": "620c6744-d75c-4a22-a2ab-84616fe3dd3f",
   "metadata": {
    "tags": []
   },
   "outputs": [
    {
     "name": "stdout",
     "output_type": "stream",
     "text": [
      "1 (4,)\n"
     ]
    },
    {
     "name": "stderr",
     "output_type": "stream",
     "text": [
      "C:\\Users\\ASIA\\AppData\\Local\\Temp\\ipykernel_7692\\2142790882.py:2: VisibleDeprecationWarning: Creating an ndarray from ragged nested sequences (which is a list-or-tuple of lists-or-tuples-or ndarrays with different lengths or shapes) is deprecated. If you meant to do this, you must specify 'dtype=object' when creating the ndarray.\n",
      "  num_arr = np.array(num_list)\n",
      "C:\\AI\\pythonProject\\venv\\lib\\site-packages\\numpy\\core\\_asarray.py:102: VisibleDeprecationWarning: Creating an ndarray from ragged nested sequences (which is a list-or-tuple of lists-or-tuples-or ndarrays with different lengths or shapes) is deprecated. If you meant to do this, you must specify 'dtype=object' when creating the ndarray.\n",
      "  return array(a, dtype, copy=False, order=order)\n",
      "C:\\Users\\ASIA\\AppData\\Local\\Temp\\ipykernel_7692\\2142790882.py:5: VisibleDeprecationWarning: Creating an ndarray from ragged nested sequences (which is a list-or-tuple of lists-or-tuples-or ndarrays with different lengths or shapes) is deprecated. If you meant to do this, you must specify 'dtype=object' when creating the ndarray.\n",
      "  print(np.ndim(num_list), np.array(num_list).shape)\n"
     ]
    }
   ],
   "source": [
    "num_list = [  [1,2,3],[2],[3],[4] ]\n",
    "num_arr = np.array(num_list)\n",
    "# print(num_arr.shape, num_arr)\n",
    "# 차수  >>>>  대괄호 갯수!!!\n",
    "print(np.ndim(num_list), np.array(num_list).shape)\n",
    "# 가변행렬 >> 1차로 인식한다"
   ]
  },
  {
   "cell_type": "code",
   "execution_count": 18,
   "id": "9c778191-86aa-4e46-9c5d-d1c2b2f52c6e",
   "metadata": {
    "tags": []
   },
   "outputs": [
    {
     "name": "stdout",
     "output_type": "stream",
     "text": [
      "2 (4, 3)\n"
     ]
    }
   ],
   "source": [
    "num_list = [  [1,2,3],[2,2,2],[3,3,3],[4,4,4] ]\n",
    "print(np.ndim(num_list), np.array(num_list).shape)"
   ]
  },
  {
   "cell_type": "markdown",
   "id": "f4863a9b-afa9-4398-9708-a897f31a40f2",
   "metadata": {},
   "source": [
    "## 3D\n",
    "* (2,3,4) > 3행 4열 2depth\n",
    "* 행 axis = 0\n",
    "* 열 axis = 1\n",
    "* 폭 axis = 2"
   ]
  },
  {
   "cell_type": "code",
   "execution_count": 19,
   "id": "0971d404-6474-491a-91ab-f7ab86dfcfc0",
   "metadata": {
    "tags": []
   },
   "outputs": [
    {
     "name": "stdout",
     "output_type": "stream",
     "text": [
      "(24,) \n",
      " [ 0  1  2  3  4  5  6  7  8  9 10 11 12 13 14 15 16 17 18 19 20 21 22 23]\n",
      "\n",
      "(6, 4) \n",
      " [[ 0  1  2  3]\n",
      " [ 4  5  6  7]\n",
      " [ 8  9 10 11]\n",
      " [12 13 14 15]\n",
      " [16 17 18 19]\n",
      " [20 21 22 23]]\n",
      "\n",
      "(2, 3, 4) \n",
      " [[[ 0  1  2  3]\n",
      "  [ 4  5  6  7]\n",
      "  [ 8  9 10 11]]\n",
      "\n",
      " [[12 13 14 15]\n",
      "  [16 17 18 19]\n",
      "  [20 21 22 23]]]\n"
     ]
    }
   ],
   "source": [
    "num_arr = np.arange(0,24)\n",
    "print(num_arr.shape, '\\n',num_arr)\n",
    "print()\n",
    "re_arr = num_arr.reshape(6,4)\n",
    "print(re_arr.shape,'\\n',re_arr)\n",
    "print()\n",
    "\n",
    "re_arr = num_arr.reshape(2,3,4)\n",
    "print(re_arr.shape, '\\n', re_arr)\n",
    "\n",
    "# num_list = [[  [1] ]]\n",
    "# print(np.ndim(num_list), np.array(num_list).shape)"
   ]
  },
  {
   "cell_type": "markdown",
   "id": "32174624-983e-4c42-9de9-5435faf33353",
   "metadata": {},
   "source": [
    "600 *( 28 * 28)  >> depth * (row * col)\n",
    "600장 >> frame 600 >> depth 600 >> tensor 600  //// axis = 2"
   ]
  },
  {
   "cell_type": "markdown",
   "id": "ccab74cb-eb88-4ff2-af54-eeed0a1679c6",
   "metadata": {},
   "source": [
    "# 축(axis)"
   ]
  },
  {
   "cell_type": "markdown",
   "id": "e5200f41-d70c-44e0-a98a-fe9ce0327efe",
   "metadata": {},
   "source": [
    "* axis = none (default) >> sum all of the elements"
   ]
  },
  {
   "cell_type": "code",
   "execution_count": 20,
   "id": "70ffd0b2-c5e3-4e09-8a4e-d0a35ed30e18",
   "metadata": {
    "tags": []
   },
   "outputs": [
    {
     "name": "stdout",
     "output_type": "stream",
     "text": [
      "276\n"
     ]
    }
   ],
   "source": [
    "num_arr = np.arange(0,24)\n",
    "print(np.sum(num_arr)) # >> 축이 없다면 요소 값들의 합"
   ]
  },
  {
   "cell_type": "code",
   "execution_count": 21,
   "id": "f8ed75bc-7b56-4803-a21a-561d8a841cba",
   "metadata": {
    "tags": []
   },
   "outputs": [
    {
     "name": "stdout",
     "output_type": "stream",
     "text": [
      "[[ 0  1  2  3]\n",
      " [ 4  5  6  7]\n",
      " [ 8  9 10 11]\n",
      " [12 13 14 15]\n",
      " [16 17 18 19]\n",
      " [20 21 22 23]]\n",
      "\n",
      "[60 66 72 78]\n",
      "[ 6 22 38 54 70 86]\n"
     ]
    }
   ],
   "source": [
    "num_arr = num_arr.reshape(6,4)\n",
    "print(num_arr)\n",
    "print()\n",
    "print(np.sum(num_arr, axis = 0))  # ↓ 행기준\n",
    "print(np.sum(num_arr, axis = 1))  # → 열기준"
   ]
  },
  {
   "cell_type": "code",
   "execution_count": 22,
   "id": "66cc7f4c-eb39-46ef-9a18-55a4121adcaf",
   "metadata": {
    "tags": []
   },
   "outputs": [
    {
     "name": "stdout",
     "output_type": "stream",
     "text": [
      "[[[ 0  1  2  3]\n",
      "  [ 4  5  6  7]\n",
      "  [ 8  9 10 11]]\n",
      "\n",
      " [[12 13 14 15]\n",
      "  [16 17 18 19]\n",
      "  [20 21 22 23]]]\n",
      "\n",
      "\n",
      "[[12 14 16 18]\n",
      " [20 22 24 26]\n",
      " [28 30 32 34]]\n",
      "\n",
      "[[12 15 18 21]\n",
      " [48 51 54 57]]\n",
      "\n",
      "[[ 6 22 38]\n",
      " [54 70 86]]\n"
     ]
    }
   ],
   "source": [
    "num_arr = num_arr.reshape(2,3,4)\n",
    "print(num_arr)\n",
    "print()\n",
    "print()\n",
    "\n",
    "print(np.sum(num_arr, axis = 0))   # 폭 방향    axis = 0, 0번째 기준(2)으로  >>>  3*4\n",
    "print()\n",
    "\n",
    "print(np.sum(num_arr, axis = 1))   # ↓          axis = 1, 1번째 기준(3)으로  >>>  2*4\n",
    "print()\n",
    "\n",
    "print(np.sum(num_arr, axis = 2))   # →          axis = 2, 2번째 기준(4)으로  >>>  2*3"
   ]
  },
  {
   "cell_type": "markdown",
   "id": "79e69994-cd07-4ffd-a21c-dbb0b821bf17",
   "metadata": {},
   "source": [
    "# reshape\n",
    "<pre>\n",
    "* reshape(n, -1) : 열은 알아서 \n",
    "* reshape(-1)    : 1차로 만들기\n",
    "* .ravel()       : 1차로 만들기\n",
    "* .flatten()     : 1차로 만들기"
   ]
  },
  {
   "cell_type": "code",
   "execution_count": 23,
   "id": "5bac5949-39bc-49ce-9e74-4227b8e70f88",
   "metadata": {
    "tags": []
   },
   "outputs": [
    {
     "name": "stdout",
     "output_type": "stream",
     "text": [
      "[[ 0  1  2  3]\n",
      " [ 4  5  6  7]\n",
      " [ 8  9 10 11]\n",
      " [12 13 14 15]\n",
      " [16 17 18 19]\n",
      " [20 21 22 23]]\n",
      "\n",
      "[ 0  1  2  3  4  5  6  7  8  9 10 11 12 13 14 15 16 17 18 19 20 21 22 23]\n",
      "\n",
      "[ 0  1  2  3  4  5  6  7  8  9 10 11 12 13 14 15 16 17 18 19 20 21 22 23]\n",
      "\n",
      "[ 0  1  2  3  4  5  6  7  8  9 10 11 12 13 14 15 16 17 18 19 20 21 22 23]\n"
     ]
    }
   ],
   "source": [
    "num_arr = np.arange(0,24)\n",
    "re_arr = num_arr.reshape(6,-1) # 6줄, 칸은 알아서\n",
    "print(re_arr)\n",
    "\n",
    "aa = re_arr.reshape(-1,)       # 1차로 만들기\n",
    "\n",
    "print()\n",
    "print(aa)\n",
    "\n",
    "bb = re_arr.ravel()           # 1차로 만들기\n",
    "print()\n",
    "print(bb)\n",
    "\n",
    "cc = re_arr.flatten()         # 1차로 만들기\n",
    "print()\n",
    "print(cc)\n"
   ]
  },
  {
   "cell_type": "markdown",
   "id": "2edbc63e-55aa-48db-b0b1-b65495cfde4a",
   "metadata": {},
   "source": [
    "## reshape() VS resize()\n",
    "* reshape() : 변형한 행열을 반환\n",
    "* resize()  : 원본자체를 변형, 반환값 없다"
   ]
  },
  {
   "cell_type": "code",
   "execution_count": 34,
   "id": "1c5a651b-dd2b-4f78-a014-bc2a2de3b5aa",
   "metadata": {
    "tags": []
   },
   "outputs": [
    {
     "name": "stdout",
     "output_type": "stream",
     "text": [
      "[ 0  1  2  3  4  5  6  7  8  9 10 11 12 13 14 15 16 17 18 19 20 21 22 23]\n",
      "[[ 0  1  2  3]\n",
      " [ 4  5  6  7]\n",
      " [ 8  9 10 11]\n",
      " [12 13 14 15]\n",
      " [16 17 18 19]\n",
      " [20 21 22 23]]\n"
     ]
    }
   ],
   "source": [
    "num_arr = np.arange(0,24)\n",
    "re_arr = num_arr.reshape(6,-1) \n",
    "\n",
    "print(num_arr)\n",
    "print(re_arr)"
   ]
  },
  {
   "cell_type": "code",
   "execution_count": 36,
   "id": "7cae018e-797b-4abd-866f-dd4461e03c14",
   "metadata": {
    "tags": []
   },
   "outputs": [
    {
     "name": "stdout",
     "output_type": "stream",
     "text": [
      "[[ 0  1  2  3]\n",
      " [ 4  5  6  7]\n",
      " [ 8  9 10 11]\n",
      " [12 13 14 15]\n",
      " [16 17 18 19]\n",
      " [20 21 22 23]]\n",
      "[[ 0  1  2  3]\n",
      " [ 4  5  6  7]\n",
      " [ 8  9 10 11]\n",
      " [12 13 14 15]\n",
      " [16 17 18 19]\n",
      " [20 21 22 23]]\n"
     ]
    }
   ],
   "source": [
    "num_arr = np.arange(0,24)\n",
    "num_arr.resize(6,4) # >> 원본 자체를 바꾼다, return이 없다 \n",
    "\n",
    "print(num_arr)\n",
    "print(re_arr)"
   ]
  },
  {
   "cell_type": "markdown",
   "id": "0ae3f846-8848-4209-ba70-ae620f1fde84",
   "metadata": {},
   "source": [
    "## 차원확대\n",
    "* reshape()\n",
    "* 슬라이싱[ np.newaxis()  or none ]\n",
    "* expand_dims(a, axis)\n"
   ]
  },
  {
   "cell_type": "markdown",
   "id": "9a57ce86-f7d0-4636-bcb4-182dc305a59b",
   "metadata": {},
   "source": [
    "### reshape"
   ]
  },
  {
   "cell_type": "code",
   "execution_count": 40,
   "id": "7a8001ae-98e7-4bb7-bcab-406c6de3c6cc",
   "metadata": {
    "tags": []
   },
   "outputs": [
    {
     "name": "stdout",
     "output_type": "stream",
     "text": [
      "1 \n",
      " [ 0  1  2  3  4  5  6  7  8  9 10 11 12 13 14 15 16 17 18 19 20 21 22 23]\n",
      "2 (1, 24) \n",
      " [[ 0  1  2  3  4  5  6  7  8  9 10 11 12 13 14 15 16 17 18 19 20 21 22 23]]\n",
      "2 (24, 1) \n",
      " [[ 0]\n",
      " [ 1]\n",
      " [ 2]\n",
      " [ 3]\n",
      " [ 4]\n",
      " [ 5]\n",
      " [ 6]\n",
      " [ 7]\n",
      " [ 8]\n",
      " [ 9]\n",
      " [10]\n",
      " [11]\n",
      " [12]\n",
      " [13]\n",
      " [14]\n",
      " [15]\n",
      " [16]\n",
      " [17]\n",
      " [18]\n",
      " [19]\n",
      " [20]\n",
      " [21]\n",
      " [22]\n",
      " [23]]\n"
     ]
    }
   ],
   "source": [
    "num_arr = np.arange(0,24)\n",
    "print(num_arr.ndim,\"\\n\", num_arr)\n",
    "\n",
    "res = num_arr.reshape(1,24)\n",
    "print(res.ndim,res.shape,\"\\n\", res)\n",
    "\n",
    "res = num_arr.reshape(24,1)\n",
    "print(res.ndim,res.shape,\"\\n\", res)"
   ]
  },
  {
   "cell_type": "markdown",
   "id": "ffbacde0-449d-45c3-b8d7-0878754d29fd",
   "metadata": {},
   "source": [
    "### 슬라이싱"
   ]
  },
  {
   "cell_type": "code",
   "execution_count": 45,
   "id": "4b8ee197-7ef9-43a4-88f7-493f0c76663b",
   "metadata": {
    "tags": []
   },
   "outputs": [
    {
     "name": "stdout",
     "output_type": "stream",
     "text": [
      "[[ 0  1  2  3  4  5  6  7  8  9 10 11 12 13 14 15 16 17 18 19 20 21 22 23]]\n",
      "[[ 0]\n",
      " [ 1]\n",
      " [ 2]\n",
      " [ 3]\n",
      " [ 4]\n",
      " [ 5]\n",
      " [ 6]\n",
      " [ 7]\n",
      " [ 8]\n",
      " [ 9]\n",
      " [10]\n",
      " [11]\n",
      " [12]\n",
      " [13]\n",
      " [14]\n",
      " [15]\n",
      " [16]\n",
      " [17]\n",
      " [18]\n",
      " [19]\n",
      " [20]\n",
      " [21]\n",
      " [22]\n",
      " [23]]\n"
     ]
    }
   ],
   "source": [
    "num_arr = np.arange(0,24)\n",
    "res = num_arr[np.newaxis, : ]\n",
    "res = num_arr[None, : ]\n",
    "\n",
    "print(res)\n",
    "res = num_arr[ :, np.newaxis ]\n",
    "res = num_arr[ :, None ]\n",
    "print(res)\n"
   ]
  },
  {
   "cell_type": "markdown",
   "id": "aadb5893-c7a3-4309-a541-1e5703e18235",
   "metadata": {},
   "source": [
    "### expand_dims()"
   ]
  },
  {
   "cell_type": "code",
   "execution_count": 47,
   "id": "0f7a396c-c29b-4c18-ae3e-3f0b51e4ba22",
   "metadata": {
    "tags": []
   },
   "outputs": [
    {
     "name": "stdout",
     "output_type": "stream",
     "text": [
      "[[ 0  1  2  3  4  5  6  7  8  9 10 11 12 13 14 15 16 17 18 19 20 21 22 23]]\n",
      "[[ 0]\n",
      " [ 1]\n",
      " [ 2]\n",
      " [ 3]\n",
      " [ 4]\n",
      " [ 5]\n",
      " [ 6]\n",
      " [ 7]\n",
      " [ 8]\n",
      " [ 9]\n",
      " [10]\n",
      " [11]\n",
      " [12]\n",
      " [13]\n",
      " [14]\n",
      " [15]\n",
      " [16]\n",
      " [17]\n",
      " [18]\n",
      " [19]\n",
      " [20]\n",
      " [21]\n",
      " [22]\n",
      " [23]]\n"
     ]
    }
   ],
   "source": [
    "num_arr = np.arange(0,24)\n",
    "res = np.expand_dims(num_arr, axis=0)\n",
    "print(res)\n",
    "res = np.expand_dims(num_arr, axis=1)\n",
    "print(res)"
   ]
  },
  {
   "cell_type": "markdown",
   "id": "1064af4f-a912-4d15-a306-53679de3ce3d",
   "metadata": {},
   "source": [
    "## 차원축소\n",
    "* 1차원 : reshape(-1), ravel(), flatten()\n",
    "* slicing \":\"\n",
    "    - .....\n",
    "* np.squeeze(axis = None) : 차원 1은 모두 없앤다"
   ]
  },
  {
   "cell_type": "code",
   "execution_count": 49,
   "id": "02f55a16-cf18-450b-8a17-06d085d18037",
   "metadata": {
    "tags": []
   },
   "outputs": [
    {
     "name": "stdout",
     "output_type": "stream",
     "text": [
      "2 (24, 1) [[ 0]\n",
      " [ 1]\n",
      " [ 2]\n",
      " [ 3]\n",
      " [ 4]\n",
      " [ 5]\n",
      " [ 6]\n",
      " [ 7]\n",
      " [ 8]\n",
      " [ 9]\n",
      " [10]\n",
      " [11]\n",
      " [12]\n",
      " [13]\n",
      " [14]\n",
      " [15]\n",
      " [16]\n",
      " [17]\n",
      " [18]\n",
      " [19]\n",
      " [20]\n",
      " [21]\n",
      " [22]\n",
      " [23]]\n"
     ]
    }
   ],
   "source": [
    "num_arr = np.arange(0,24)\n",
    "res = np.expand_dims(num_arr, axis=1)\n",
    "print(res.ndim, res.shape, res)\n",
    " "
   ]
  },
  {
   "cell_type": "code",
   "execution_count": null,
   "id": "c0c99073-7b95-4878-aa02-d0ad9ce4cfe5",
   "metadata": {},
   "outputs": [],
   "source": [
    "res = np.expand_dims(num_arr, axis=1)\n",
    "print(res)"
   ]
  },
  {
   "cell_type": "markdown",
   "id": "b5f1567f-6593-41d6-bb7a-2bcdcd53ccfd",
   "metadata": {},
   "source": [
    "### np.squeeze(axis = None)"
   ]
  },
  {
   "cell_type": "code",
   "execution_count": 51,
   "id": "2ef365f2-cd3b-4c3c-960d-b4f82d794f41",
   "metadata": {
    "tags": []
   },
   "outputs": [
    {
     "name": "stdout",
     "output_type": "stream",
     "text": [
      "3 (1, 24, 1) [[[ 0]\n",
      "  [ 1]\n",
      "  [ 2]\n",
      "  [ 3]\n",
      "  [ 4]\n",
      "  [ 5]\n",
      "  [ 6]\n",
      "  [ 7]\n",
      "  [ 8]\n",
      "  [ 9]\n",
      "  [10]\n",
      "  [11]\n",
      "  [12]\n",
      "  [13]\n",
      "  [14]\n",
      "  [15]\n",
      "  [16]\n",
      "  [17]\n",
      "  [18]\n",
      "  [19]\n",
      "  [20]\n",
      "  [21]\n",
      "  [22]\n",
      "  [23]]]\n"
     ]
    }
   ],
   "source": [
    "num_arr = np.arange(0,24)\n",
    "re_arr = num_arr.reshape(1,24,1)\n",
    "print(re_arr.ndim, re_arr.shape, re_arr)\n",
    "\n",
    "\n",
    "num_arr = np.arange(0,24)\n",
    "re_arr = num_arr.reshape(1,6,4,1)\n",
    "print(re_arr.ndim, re_arr.shape, re_arr)"
   ]
  },
  {
   "cell_type": "code",
   "execution_count": null,
   "id": "4b4b98c1-421e-4ac5-bb6c-5616411badd0",
   "metadata": {},
   "outputs": [],
   "source": []
  },
  {
   "cell_type": "code",
   "execution_count": null,
   "id": "a9b598f2-a177-4a7c-95db-1537d3ef4e53",
   "metadata": {},
   "outputs": [],
   "source": []
  },
  {
   "cell_type": "code",
   "execution_count": null,
   "id": "845ada37-7e9f-4236-96ce-d4abdad72d13",
   "metadata": {},
   "outputs": [],
   "source": []
  },
  {
   "cell_type": "code",
   "execution_count": null,
   "id": "9546c7aa-1574-417d-96cf-a01b797497f6",
   "metadata": {},
   "outputs": [],
   "source": []
  },
  {
   "cell_type": "code",
   "execution_count": null,
   "id": "a956a992-4788-41c7-bb3c-0d8b9f36bd32",
   "metadata": {},
   "outputs": [],
   "source": []
  },
  {
   "cell_type": "markdown",
   "id": "a0240a8f-32c8-40cd-b512-997a9bd8769e",
   "metadata": {},
   "source": [
    "# Stack ( ==concatenate )\n",
    "* hstack()\n",
    "* vstack()\n",
    "* column_stack()\n",
    "* <img src = \"https://img1.daumcdn.net/thumb/R1280x0/?scode=mtistory2&fname=https%3A%2F%2Ft1.daumcdn.net%2Fcfile%2Ftistory%2F9909EF345D53F4D916\">"
   ]
  },
  {
   "cell_type": "markdown",
   "id": "5d840b75-2b33-4904-a49b-4da5ac95ca6f",
   "metadata": {},
   "source": [
    "## hstack()"
   ]
  },
  {
   "cell_type": "code",
   "execution_count": 24,
   "id": "d3c067d4-7664-4dd2-869a-968eaf59e9e3",
   "metadata": {
    "tags": []
   },
   "outputs": [
    {
     "name": "stdout",
     "output_type": "stream",
     "text": [
      "[1 2 3 4 5 6]\n",
      "\n",
      "[1 2 3 4 5 6]\n"
     ]
    }
   ],
   "source": [
    "a = np.array([1,2,3])\n",
    "b = np.array([4,5,6])\n",
    "print(   np.hstack((a,b))   )\n",
    "print()\n",
    "print(   np.concatenate((a,b), axis = 0)   )\n",
    "\n"
   ]
  },
  {
   "cell_type": "markdown",
   "id": "bc72a78e-fbf0-491f-9202-f3931543ef58",
   "metadata": {},
   "source": [
    "## vstack()"
   ]
  },
  {
   "cell_type": "code",
   "execution_count": 25,
   "id": "311d46b1-21ca-47c1-8f02-d174e6aee86e",
   "metadata": {
    "tags": []
   },
   "outputs": [
    {
     "name": "stdout",
     "output_type": "stream",
     "text": [
      "[[1 2 3]\n",
      " [4 5 6]]\n",
      "\n",
      "[[1 2 3]\n",
      " [4 5 6]]\n"
     ]
    }
   ],
   "source": [
    "a = np.array([1,2,3])\n",
    "b = np.array([4,5,6])\n",
    "print(   np.vstack((a,b))   )\n",
    "print()\n",
    "print(   np.concatenate([[a,b]], axis = 1)   )"
   ]
  },
  {
   "cell_type": "markdown",
   "id": "7bb15e5e-3477-4ec4-ae84-f1534ca708fd",
   "metadata": {},
   "source": [
    "## column_stack()"
   ]
  },
  {
   "cell_type": "code",
   "execution_count": 26,
   "id": "affd1dba-1999-4d2b-ab68-604c66ca6533",
   "metadata": {
    "tags": []
   },
   "outputs": [
    {
     "name": "stdout",
     "output_type": "stream",
     "text": [
      "[[1 4]\n",
      " [2 5]\n",
      " [3 6]]\n"
     ]
    }
   ],
   "source": [
    "a = np.array([1,2,3])\n",
    "b = np.array([4,5,6])\n",
    "\n",
    "\n",
    "print(   np.column_stack((a,b))   )"
   ]
  },
  {
   "cell_type": "markdown",
   "id": "fa4708ae-e213-4c44-b2f8-2b60ae423c2a",
   "metadata": {},
   "source": [
    "## stack()"
   ]
  },
  {
   "cell_type": "code",
   "execution_count": 27,
   "id": "f5e61aea-9907-490d-b851-5937da81a1ba",
   "metadata": {
    "tags": []
   },
   "outputs": [
    {
     "name": "stdout",
     "output_type": "stream",
     "text": [
      "[[1 2 3]\n",
      " [4 5 6]]\n",
      "\n",
      "[[1 4]\n",
      " [2 5]\n",
      " [3 6]]\n"
     ]
    }
   ],
   "source": [
    "a = np.array([1,2,3])\n",
    "b = np.array([4,5,6])\n",
    "\n",
    "print(  np.stack((a,b), axis = 0)  )\n",
    "print()\n",
    "print(  np.stack((a,b), axis = 1)  )"
   ]
  },
  {
   "cell_type": "markdown",
   "id": "1737e59c-0de8-481c-93fe-9bcb8573c7f0",
   "metadata": {},
   "source": [
    "# broadcasting\n",
    "* array 객체!!!\n",
    "<img src = \"https://jakevdp.github.io/PythonDataScienceHandbook/figures/02.05-broadcasting.png\">"
   ]
  },
  {
   "cell_type": "markdown",
   "id": "4b842df4-9776-482e-b481-a2afea351198",
   "metadata": {},
   "source": [
    "## list"
   ]
  },
  {
   "cell_type": "code",
   "execution_count": 28,
   "id": "fbbc0ea0-6ba5-4a49-9dfe-5f51e703d76d",
   "metadata": {
    "tags": []
   },
   "outputs": [
    {
     "ename": "TypeError",
     "evalue": "can only concatenate list (not \"int\") to list",
     "output_type": "error",
     "traceback": [
      "\u001b[1;31m---------------------------------------------------------------------------\u001b[0m",
      "\u001b[1;31mTypeError\u001b[0m                                 Traceback (most recent call last)",
      "Cell \u001b[1;32mIn[28], line 2\u001b[0m\n\u001b[0;32m      1\u001b[0m num_list \u001b[38;5;241m=\u001b[39m [\u001b[38;5;241m1\u001b[39m,\u001b[38;5;241m2\u001b[39m,\u001b[38;5;241m3\u001b[39m]\n\u001b[1;32m----> 2\u001b[0m \u001b[38;5;28mprint\u001b[39m(\u001b[43mnum_list\u001b[49m\u001b[38;5;241;43m+\u001b[39;49m\u001b[38;5;241;43m1\u001b[39;49m)\n\u001b[0;32m      3\u001b[0m \u001b[38;5;66;03m# can only concatenate list (not \"int\") to list\u001b[39;00m\n",
      "\u001b[1;31mTypeError\u001b[0m: can only concatenate list (not \"int\") to list"
     ]
    }
   ],
   "source": [
    "num_list = [1,2,3]\n",
    "# print(num_list+1)\n",
    "# can only concatenate list (not \"int\") to list"
   ]
  },
  {
   "cell_type": "code",
   "execution_count": 29,
   "id": "1c25c4ed-ece2-45a6-9114-d98ed8db5060",
   "metadata": {
    "tags": []
   },
   "outputs": [
    {
     "name": "stdout",
     "output_type": "stream",
     "text": [
      "[1, 2, 3, 1, 2, 3]\n"
     ]
    }
   ],
   "source": [
    "print(num_list*2)"
   ]
  },
  {
   "cell_type": "code",
   "execution_count": 30,
   "id": "adc1fcd7-3007-4cb8-afcf-a0bbabdb1dae",
   "metadata": {
    "tags": []
   },
   "outputs": [
    {
     "name": "stdout",
     "output_type": "stream",
     "text": [
      "[1, 2, 3, [4, 4, 4]]\n",
      "[1, 2, 3, [4, 4, 4], 4, 4, 4]\n"
     ]
    }
   ],
   "source": [
    "num_list = [1,2,3]\n",
    "arr = [4,4,4]\n",
    "num_list.append(arr)\n",
    "print(num_list)\n",
    "num_list.extend(arr)\n",
    "print(num_list)\n"
   ]
  },
  {
   "cell_type": "markdown",
   "id": "5bdad152-c51d-4d01-b03f-297ceca0c5cb",
   "metadata": {},
   "source": [
    "## array"
   ]
  },
  {
   "cell_type": "code",
   "execution_count": 31,
   "id": "bbe25cbb-48d0-4f57-985d-4124c90073bf",
   "metadata": {
    "tags": []
   },
   "outputs": [
    {
     "name": "stdout",
     "output_type": "stream",
     "text": [
      "[3 6 9]\n"
     ]
    }
   ],
   "source": [
    "num_arr = np.array([1,2,3])\n",
    "num_arr =  num_arr * 3\n",
    "print(num_arr)"
   ]
  },
  {
   "cell_type": "code",
   "execution_count": 32,
   "id": "f96dcbf9-f12b-4913-a2f8-9adc549b5d42",
   "metadata": {
    "tags": []
   },
   "outputs": [
    {
     "name": "stdout",
     "output_type": "stream",
     "text": [
      "[2 3 4]\n"
     ]
    }
   ],
   "source": [
    "num_arr = np.array([1,2,3])\n",
    "num_arr =  num_arr +1\n",
    "print(num_arr)"
   ]
  },
  {
   "cell_type": "markdown",
   "id": "9943bcdc-dfd6-4c51-94e7-921aee648992",
   "metadata": {},
   "source": [
    "# 차원변경\n",
    "* reshape() resize()"
   ]
  },
  {
   "cell_type": "code",
   "execution_count": null,
   "id": "09a6ba77-142f-4a16-b76d-0fae855b96a9",
   "metadata": {},
   "outputs": [],
   "source": []
  },
  {
   "cell_type": "code",
   "execution_count": null,
   "id": "e70392b3-9073-4c31-9df7-e86db8cfe8c3",
   "metadata": {},
   "outputs": [],
   "source": []
  },
  {
   "cell_type": "code",
   "execution_count": null,
   "id": "397c4e8e-4700-46e0-a220-1ce6c86e5285",
   "metadata": {},
   "outputs": [],
   "source": []
  }
 ],
 "metadata": {
  "kernelspec": {
   "display_name": "Python 3 (ipykernel)",
   "language": "python",
   "name": "python3"
  },
  "language_info": {
   "codemirror_mode": {
    "name": "ipython",
    "version": 3
   },
   "file_extension": ".py",
   "mimetype": "text/x-python",
   "name": "python",
   "nbconvert_exporter": "python",
   "pygments_lexer": "ipython3",
   "version": "3.8.8"
  },
  "toc-autonumbering": true
 },
 "nbformat": 4,
 "nbformat_minor": 5
}
