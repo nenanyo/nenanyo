{
 "cells": [
  {
   "cell_type": "markdown",
   "id": "69df298e-12a3-41a4-903c-ad9b0e5f0b4e",
   "metadata": {},
   "source": [
    "# lec01.basic_model"
   ]
  },
  {
   "cell_type": "code",
   "execution_count": 1,
   "id": "3a163c1a-b6c6-4f14-9d9f-140f96482a6b",
   "metadata": {
    "tags": []
   },
   "outputs": [
    {
     "data": {
      "text/html": [
       "<style>.container{width:100% !important;}</style>"
      ],
      "text/plain": [
       "<IPython.core.display.HTML object>"
      ]
     },
     "metadata": {},
     "output_type": "display_data"
    }
   ],
   "source": [
    "import numpy as np\n",
    "import pandas as pd\n",
    "\n",
    "import matplotlib.pyplot as plt\n",
    "import seaborn as sns\n",
    "\n",
    "\n",
    "sns.set()\n",
    "\n",
    "#-------------------- 차트 관련 속성 (한글처리, 그리드) -----------\n",
    "plt.rcParams['font.family']= 'Malgun Gothic'\n",
    "plt.rcParams['axes.unicode_minus'] = False\n",
    "\n",
    "#-------------------- 주피터 , 출력결과 넓이 늘리기 ---------------\n",
    "# from IPython.core.display import display, HTML\n",
    "from IPython.display import display, HTML\n",
    "\n",
    "display(HTML(\"<style>.container{width:100% !important;}</style>\"))\n",
    "pd.set_option('display.max_rows', 100)\n",
    "pd.set_option('display.max_columns', 100)\n",
    "pd.set_option('max_colwidth', None)\n",
    "\n",
    "import warnings\n",
    "warnings.filterwarnings(action='ignore')"
   ]
  },
  {
   "cell_type": "code",
   "execution_count": 2,
   "id": "d2845b7e-6fa7-4989-8536-18072f2261ca",
   "metadata": {
    "tags": []
   },
   "outputs": [],
   "source": [
    "from keras.layers import Dense\n",
    "from keras import Sequential\n",
    "from keras.initializers import  GlorotNormal"
   ]
  },
  {
   "cell_type": "markdown",
   "id": "95485346-9ebb-4e70-ac77-ec8a9f565ac6",
   "metadata": {},
   "source": [
    "initializers\n",
    "* ref : https://www.kaggle.com/code/sauravjoshi23/weight-initialization-methods-keras"
   ]
  },
  {
   "cell_type": "markdown",
   "id": "a744a027-2ce7-4894-acbc-34a4fd700798",
   "metadata": {},
   "source": [
    "<pre>\n",
    "tf.keras.layers.<b>Dense</b>(\n",
    "    units,\n",
    "    activation=None,\n",
    "    use_bias=True,\n",
    "    kernel_initializer=\"glorot_uniform\",\n",
    "    bias_initializer=\"zeros\",\n",
    "    kernel_regularizer=None,\n",
    "    bias_regularizer=None,\n",
    "    activity_regularizer=None,\n",
    "    kernel_constraint=None,\n",
    "    bias_constraint=None,\n",
    "    **kwargs\n",
    ")"
   ]
  },
  {
   "cell_type": "code",
   "execution_count": 3,
   "id": "7bdc59f0-7dd3-4402-90ac-8e6fc8b53693",
   "metadata": {
    "tags": []
   },
   "outputs": [],
   "source": [
    "model = Sequential()\n",
    "model.add(Dense(10, input_dim=4, activation='relu'))  # 입력층\n",
    "model.add(Dense(6, activation=\"relu\"))               # 히든레이어\n",
    "model.add(Dense(6, activation=\"relu\"))               # 히든레이어\n",
    "model.add(Dense(3, activation=\"softmax\"))            # 출력층 3층\n",
    "model.compile(loss=\"categorical_crossentropy\",  optimizer=\"Adam\",  metrics=[\"accuracy\"])\n",
    "# target이 int이면         loss=\"sparse categorical_crossentropy\"\n",
    "# target이 categorical(one-hot)이면 loss=\"categorical_crossentropy\"\n"
   ]
  },
  {
   "cell_type": "markdown",
   "id": "9db6695f-51dc-465a-a93e-cf332dec0d4f",
   "metadata": {},
   "source": [
    "optimazer가 loss 평가\n",
    "* loss=\"sparse categorical_crossentropy\"  >> int\n",
    "* loss=\"binary categorical_crossentropy\"  >> 2종 분류\n",
    "* loss=\"categorical_crossentropy\"  >> 2종외의 분류"
   ]
  },
  {
   "cell_type": "code",
   "execution_count": 4,
   "id": "cb360408-1552-4b1d-a879-20f2b5eb9e3d",
   "metadata": {
    "tags": []
   },
   "outputs": [
    {
     "name": "stdout",
     "output_type": "stream",
     "text": [
      "Model: \"sequential\"\n",
      "_________________________________________________________________\n",
      " Layer (type)                Output Shape              Param #   \n",
      "=================================================================\n",
      " dense (Dense)               (None, 10)                50        \n",
      "                                                                 \n",
      " dense_1 (Dense)             (None, 6)                 66        \n",
      "                                                                 \n",
      " dense_2 (Dense)             (None, 6)                 42        \n",
      "                                                                 \n",
      " dense_3 (Dense)             (None, 3)                 21        \n",
      "                                                                 \n",
      "=================================================================\n",
      "Total params: 179\n",
      "Trainable params: 179\n",
      "Non-trainable params: 0\n",
      "_________________________________________________________________\n"
     ]
    }
   ],
   "source": [
    "model.summary()"
   ]
  },
  {
   "cell_type": "code",
   "execution_count": 5,
   "id": "4abe857b-6499-41d6-928f-fff20aa9c3c1",
   "metadata": {
    "tags": []
   },
   "outputs": [
    {
     "name": "stdout",
     "output_type": "stream",
     "text": [
      "<class 'pandas.core.frame.DataFrame'>\n",
      "RangeIndex: 150 entries, 0 to 149\n",
      "Data columns (total 5 columns):\n",
      " #   Column  Non-Null Count  Dtype  \n",
      "---  ------  --------------  -----  \n",
      " 0   sl      150 non-null    float64\n",
      " 1   sw      150 non-null    float64\n",
      " 2   pl      150 non-null    float64\n",
      " 3   pw      150 non-null    float64\n",
      " 4   target  150 non-null    int64  \n",
      "dtypes: float64(4), int64(1)\n",
      "memory usage: 6.0 KB\n"
     ]
    }
   ],
   "source": [
    "df = pd.read_csv(\"../ML/datasets/iris.csv\")\n",
    "df.info()"
   ]
  },
  {
   "cell_type": "code",
   "execution_count": 6,
   "id": "4ea7c8d8-34fe-406e-9a71-b160fae103fa",
   "metadata": {
    "tags": []
   },
   "outputs": [],
   "source": [
    "from sklearn.model_selection import train_test_split"
   ]
  },
  {
   "cell_type": "code",
   "execution_count": 7,
   "id": "00b09d9e-5395-4fea-9f2f-5c1bf169e898",
   "metadata": {
    "tags": []
   },
   "outputs": [],
   "source": [
    "# y=df[\"target\"]\n",
    "# X=df.drop(\"target\", axis=1)\n",
    "\n",
    "# # yc = pd.get_dummies(y)\n",
    "# # from keras.utils import to_categorical\n",
    "# # yc2 = to_categorical(y,num_classes=3, dtype = \"int\")\n",
    "\n",
    "# # print(yc[:5], yc2[:5])\n",
    "# X_train, X_test, y_train, y_test = train_test_split(X,y, test_size = 0.2, random_state=1, stratify=y)\n",
    "# X_train.shape, X_test.shape, y_train.shape, y_test.shape\n",
    "\n",
    "#loss=\"sparse categorical_crossentropy\""
   ]
  },
  {
   "cell_type": "code",
   "execution_count": 8,
   "id": "ebd1ae69-7fb8-4395-8c3a-38233a9e360f",
   "metadata": {
    "tags": []
   },
   "outputs": [],
   "source": [
    "y=df[\"target\"]\n",
    "X=df.drop(\"target\", axis=1)\n",
    "\n",
    "\n",
    "\n",
    "\n",
    "# print(yc[:5], yc2[:5])\n",
    "\n",
    "# loss=\"categorical_crossentropy\""
   ]
  },
  {
   "cell_type": "code",
   "execution_count": 9,
   "id": "3572cacf-df45-43fd-b246-06d61b2d43cd",
   "metadata": {
    "tags": []
   },
   "outputs": [
    {
     "name": "stdout",
     "output_type": "stream",
     "text": [
      "   0  1  2\n",
      "0  1  0  0\n",
      "1  1  0  0\n",
      "2  1  0  0\n",
      "3  1  0  0\n",
      "4  1  0  0\n"
     ]
    },
    {
     "data": {
      "text/plain": [
       "((120, 4), (30, 4), (120, 3), (30, 3))"
      ]
     },
     "execution_count": 9,
     "metadata": {},
     "output_type": "execute_result"
    }
   ],
   "source": [
    "yc = pd.get_dummies(y)\n",
    "print(yc[:5])\n",
    "\n",
    "\n",
    "from keras.utils import to_categorical\n",
    "yc2 = to_categorical(y,num_classes=3, dtype = \"int\")\n",
    "\n",
    "X_train, X_test, y_train, y_test = train_test_split(X,yc, test_size = 0.2, random_state=1, stratify=y)\n",
    "X_train.shape, X_test.shape, y_train.shape, y_test.shape\n",
    "# yc = pd.get_dummies(y)"
   ]
  },
  {
   "cell_type": "code",
   "execution_count": 10,
   "id": "b72290e4-42a2-4d44-8a9d-56c42e856052",
   "metadata": {
    "tags": []
   },
   "outputs": [
    {
     "name": "stdout",
     "output_type": "stream",
     "text": [
      "Epoch 1/100\n",
      "4/4 [==============================] - 1s 70ms/step - loss: 1.1439 - accuracy: 0.3083 - val_loss: 1.1364 - val_accuracy: 0.3000\n",
      "Epoch 2/100\n",
      "4/4 [==============================] - 0s 12ms/step - loss: 1.1345 - accuracy: 0.3083 - val_loss: 1.1281 - val_accuracy: 0.3000\n",
      "Epoch 3/100\n",
      "4/4 [==============================] - 0s 12ms/step - loss: 1.1265 - accuracy: 0.3250 - val_loss: 1.1210 - val_accuracy: 0.3333\n",
      "Epoch 4/100\n",
      "4/4 [==============================] - 0s 12ms/step - loss: 1.1207 - accuracy: 0.3250 - val_loss: 1.1156 - val_accuracy: 0.3333\n",
      "Epoch 5/100\n",
      "4/4 [==============================] - 0s 12ms/step - loss: 1.1161 - accuracy: 0.3250 - val_loss: 1.1116 - val_accuracy: 0.3333\n",
      "Epoch 6/100\n",
      "4/4 [==============================] - 0s 11ms/step - loss: 1.1131 - accuracy: 0.3250 - val_loss: 1.1081 - val_accuracy: 0.3333\n",
      "Epoch 7/100\n",
      "4/4 [==============================] - 0s 12ms/step - loss: 1.1105 - accuracy: 0.3250 - val_loss: 1.1054 - val_accuracy: 0.3333\n",
      "Epoch 8/100\n",
      "4/4 [==============================] - 0s 14ms/step - loss: 1.1083 - accuracy: 0.3333 - val_loss: 1.1031 - val_accuracy: 0.3333\n",
      "Epoch 9/100\n",
      "4/4 [==============================] - 0s 11ms/step - loss: 1.1059 - accuracy: 0.3333 - val_loss: 1.1014 - val_accuracy: 0.3667\n",
      "Epoch 10/100\n",
      "4/4 [==============================] - 0s 13ms/step - loss: 1.1043 - accuracy: 0.3250 - val_loss: 1.1000 - val_accuracy: 0.3333\n",
      "Epoch 11/100\n",
      "4/4 [==============================] - 0s 12ms/step - loss: 1.1030 - accuracy: 0.3333 - val_loss: 1.0988 - val_accuracy: 0.3333\n",
      "Epoch 12/100\n",
      "4/4 [==============================] - 0s 13ms/step - loss: 1.1018 - accuracy: 0.3250 - val_loss: 1.0976 - val_accuracy: 0.3333\n",
      "Epoch 13/100\n",
      "4/4 [==============================] - 0s 11ms/step - loss: 1.1007 - accuracy: 0.3333 - val_loss: 1.0965 - val_accuracy: 0.3333\n",
      "Epoch 14/100\n",
      "4/4 [==============================] - 0s 12ms/step - loss: 1.0996 - accuracy: 0.3333 - val_loss: 1.0955 - val_accuracy: 0.3000\n",
      "Epoch 15/100\n",
      "4/4 [==============================] - 0s 11ms/step - loss: 1.0987 - accuracy: 0.3333 - val_loss: 1.0946 - val_accuracy: 0.2333\n",
      "Epoch 16/100\n",
      "4/4 [==============================] - 0s 12ms/step - loss: 1.0979 - accuracy: 0.3333 - val_loss: 1.0936 - val_accuracy: 0.2667\n",
      "Epoch 17/100\n",
      "4/4 [==============================] - 0s 11ms/step - loss: 1.0970 - accuracy: 0.3083 - val_loss: 1.0926 - val_accuracy: 0.3000\n",
      "Epoch 18/100\n",
      "4/4 [==============================] - 0s 12ms/step - loss: 1.0961 - accuracy: 0.2833 - val_loss: 1.0918 - val_accuracy: 0.3000\n",
      "Epoch 19/100\n",
      "4/4 [==============================] - 0s 12ms/step - loss: 1.0955 - accuracy: 0.2833 - val_loss: 1.0907 - val_accuracy: 0.3667\n",
      "Epoch 20/100\n",
      "4/4 [==============================] - 0s 11ms/step - loss: 1.0946 - accuracy: 0.2667 - val_loss: 1.0899 - val_accuracy: 0.3333\n",
      "Epoch 21/100\n",
      "4/4 [==============================] - 0s 12ms/step - loss: 1.0938 - accuracy: 0.2833 - val_loss: 1.0889 - val_accuracy: 0.3667\n",
      "Epoch 22/100\n",
      "4/4 [==============================] - 0s 11ms/step - loss: 1.0930 - accuracy: 0.3167 - val_loss: 1.0880 - val_accuracy: 0.4333\n",
      "Epoch 23/100\n",
      "4/4 [==============================] - 0s 12ms/step - loss: 1.0923 - accuracy: 0.2833 - val_loss: 1.0871 - val_accuracy: 0.4667\n",
      "Epoch 24/100\n",
      "4/4 [==============================] - 0s 12ms/step - loss: 1.0917 - accuracy: 0.3083 - val_loss: 1.0860 - val_accuracy: 0.4667\n",
      "Epoch 25/100\n",
      "4/4 [==============================] - 0s 20ms/step - loss: 1.0907 - accuracy: 0.3083 - val_loss: 1.0849 - val_accuracy: 0.4667\n",
      "Epoch 26/100\n",
      "4/4 [==============================] - 0s 15ms/step - loss: 1.0898 - accuracy: 0.3333 - val_loss: 1.0839 - val_accuracy: 0.4667\n",
      "Epoch 27/100\n",
      "4/4 [==============================] - 0s 12ms/step - loss: 1.0889 - accuracy: 0.3500 - val_loss: 1.0827 - val_accuracy: 0.5000\n",
      "Epoch 28/100\n",
      "4/4 [==============================] - 0s 11ms/step - loss: 1.0880 - accuracy: 0.3667 - val_loss: 1.0816 - val_accuracy: 0.5000\n",
      "Epoch 29/100\n",
      "4/4 [==============================] - 0s 11ms/step - loss: 1.0870 - accuracy: 0.3583 - val_loss: 1.0804 - val_accuracy: 0.5000\n",
      "Epoch 30/100\n",
      "4/4 [==============================] - 0s 11ms/step - loss: 1.0860 - accuracy: 0.4000 - val_loss: 1.0791 - val_accuracy: 0.5333\n",
      "Epoch 31/100\n",
      "4/4 [==============================] - 0s 12ms/step - loss: 1.0848 - accuracy: 0.3917 - val_loss: 1.0778 - val_accuracy: 0.5667\n",
      "Epoch 32/100\n",
      "4/4 [==============================] - 0s 13ms/step - loss: 1.0838 - accuracy: 0.3917 - val_loss: 1.0764 - val_accuracy: 0.5333\n",
      "Epoch 33/100\n",
      "4/4 [==============================] - 0s 12ms/step - loss: 1.0826 - accuracy: 0.4083 - val_loss: 1.0748 - val_accuracy: 0.5333\n",
      "Epoch 34/100\n",
      "4/4 [==============================] - 0s 12ms/step - loss: 1.0812 - accuracy: 0.4500 - val_loss: 1.0733 - val_accuracy: 0.5667\n",
      "Epoch 35/100\n",
      "4/4 [==============================] - 0s 12ms/step - loss: 1.0800 - accuracy: 0.4833 - val_loss: 1.0716 - val_accuracy: 0.5333\n",
      "Epoch 36/100\n",
      "4/4 [==============================] - 0s 12ms/step - loss: 1.0787 - accuracy: 0.4917 - val_loss: 1.0697 - val_accuracy: 0.5333\n",
      "Epoch 37/100\n",
      "4/4 [==============================] - 0s 12ms/step - loss: 1.0769 - accuracy: 0.4917 - val_loss: 1.0678 - val_accuracy: 0.5333\n",
      "Epoch 38/100\n",
      "4/4 [==============================] - 0s 12ms/step - loss: 1.0756 - accuracy: 0.4917 - val_loss: 1.0657 - val_accuracy: 0.5667\n",
      "Epoch 39/100\n",
      "4/4 [==============================] - 0s 11ms/step - loss: 1.0733 - accuracy: 0.5000 - val_loss: 1.0637 - val_accuracy: 0.6000\n",
      "Epoch 40/100\n",
      "4/4 [==============================] - 0s 19ms/step - loss: 1.0716 - accuracy: 0.5167 - val_loss: 1.0619 - val_accuracy: 0.6667\n",
      "Epoch 41/100\n",
      "4/4 [==============================] - 0s 11ms/step - loss: 1.0691 - accuracy: 0.5583 - val_loss: 1.0596 - val_accuracy: 0.6667\n",
      "Epoch 42/100\n",
      "4/4 [==============================] - 0s 12ms/step - loss: 1.0666 - accuracy: 0.5917 - val_loss: 1.0571 - val_accuracy: 0.6667\n",
      "Epoch 43/100\n",
      "4/4 [==============================] - 0s 12ms/step - loss: 1.0640 - accuracy: 0.5833 - val_loss: 1.0543 - val_accuracy: 0.6667\n",
      "Epoch 44/100\n",
      "4/4 [==============================] - 0s 12ms/step - loss: 1.0609 - accuracy: 0.5833 - val_loss: 1.0512 - val_accuracy: 0.6000\n",
      "Epoch 45/100\n",
      "4/4 [==============================] - 0s 11ms/step - loss: 1.0580 - accuracy: 0.5750 - val_loss: 1.0478 - val_accuracy: 0.6000\n",
      "Epoch 46/100\n",
      "4/4 [==============================] - 0s 11ms/step - loss: 1.0545 - accuracy: 0.5500 - val_loss: 1.0444 - val_accuracy: 0.6000\n",
      "Epoch 47/100\n",
      "4/4 [==============================] - 0s 12ms/step - loss: 1.0509 - accuracy: 0.5417 - val_loss: 1.0405 - val_accuracy: 0.6000\n",
      "Epoch 48/100\n",
      "4/4 [==============================] - 0s 11ms/step - loss: 1.0469 - accuracy: 0.5500 - val_loss: 1.0365 - val_accuracy: 0.6000\n",
      "Epoch 49/100\n",
      "4/4 [==============================] - 0s 12ms/step - loss: 1.0433 - accuracy: 0.5417 - val_loss: 1.0318 - val_accuracy: 0.5667\n",
      "Epoch 50/100\n",
      "4/4 [==============================] - 0s 11ms/step - loss: 1.0385 - accuracy: 0.5500 - val_loss: 1.0274 - val_accuracy: 0.6000\n",
      "Epoch 51/100\n",
      "4/4 [==============================] - 0s 11ms/step - loss: 1.0338 - accuracy: 0.5500 - val_loss: 1.0224 - val_accuracy: 0.5667\n",
      "Epoch 52/100\n",
      "4/4 [==============================] - 0s 13ms/step - loss: 1.0293 - accuracy: 0.5500 - val_loss: 1.0169 - val_accuracy: 0.5667\n",
      "Epoch 53/100\n",
      "4/4 [==============================] - 0s 11ms/step - loss: 1.0237 - accuracy: 0.5583 - val_loss: 1.0113 - val_accuracy: 0.5667\n",
      "Epoch 54/100\n",
      "4/4 [==============================] - 0s 12ms/step - loss: 1.0178 - accuracy: 0.5583 - val_loss: 1.0055 - val_accuracy: 0.5667\n",
      "Epoch 55/100\n",
      "4/4 [==============================] - 0s 11ms/step - loss: 1.0122 - accuracy: 0.5583 - val_loss: 0.9991 - val_accuracy: 0.5667\n",
      "Epoch 56/100\n",
      "4/4 [==============================] - 0s 12ms/step - loss: 1.0059 - accuracy: 0.5583 - val_loss: 0.9923 - val_accuracy: 0.5667\n",
      "Epoch 57/100\n",
      "4/4 [==============================] - 0s 14ms/step - loss: 0.9991 - accuracy: 0.5583 - val_loss: 0.9854 - val_accuracy: 0.5667\n",
      "Epoch 58/100\n",
      "4/4 [==============================] - 0s 12ms/step - loss: 0.9926 - accuracy: 0.5583 - val_loss: 0.9779 - val_accuracy: 0.5667\n",
      "Epoch 59/100\n",
      "4/4 [==============================] - 0s 11ms/step - loss: 0.9851 - accuracy: 0.5583 - val_loss: 0.9703 - val_accuracy: 0.5667\n",
      "Epoch 60/100\n",
      "4/4 [==============================] - 0s 12ms/step - loss: 0.9774 - accuracy: 0.5750 - val_loss: 0.9628 - val_accuracy: 0.5667\n",
      "Epoch 61/100\n",
      "4/4 [==============================] - 0s 12ms/step - loss: 0.9692 - accuracy: 0.5833 - val_loss: 0.9547 - val_accuracy: 0.5667\n",
      "Epoch 62/100\n",
      "4/4 [==============================] - 0s 11ms/step - loss: 0.9615 - accuracy: 0.5833 - val_loss: 0.9462 - val_accuracy: 0.5667\n",
      "Epoch 63/100\n",
      "4/4 [==============================] - 0s 11ms/step - loss: 0.9528 - accuracy: 0.5833 - val_loss: 0.9375 - val_accuracy: 0.5667\n",
      "Epoch 64/100\n",
      "4/4 [==============================] - 0s 11ms/step - loss: 0.9437 - accuracy: 0.5833 - val_loss: 0.9289 - val_accuracy: 0.5667\n",
      "Epoch 65/100\n",
      "4/4 [==============================] - 0s 11ms/step - loss: 0.9352 - accuracy: 0.5833 - val_loss: 0.9198 - val_accuracy: 0.5667\n",
      "Epoch 66/100\n",
      "4/4 [==============================] - 0s 11ms/step - loss: 0.9256 - accuracy: 0.5833 - val_loss: 0.9108 - val_accuracy: 0.5667\n",
      "Epoch 67/100\n",
      "4/4 [==============================] - 0s 12ms/step - loss: 0.9163 - accuracy: 0.5833 - val_loss: 0.9016 - val_accuracy: 0.5667\n",
      "Epoch 68/100\n",
      "4/4 [==============================] - 0s 11ms/step - loss: 0.9073 - accuracy: 0.5833 - val_loss: 0.8922 - val_accuracy: 0.5667\n",
      "Epoch 69/100\n",
      "4/4 [==============================] - 0s 11ms/step - loss: 0.8976 - accuracy: 0.5833 - val_loss: 0.8831 - val_accuracy: 0.5667\n",
      "Epoch 70/100\n",
      "4/4 [==============================] - 0s 12ms/step - loss: 0.8882 - accuracy: 0.5833 - val_loss: 0.8739 - val_accuracy: 0.5667\n",
      "Epoch 71/100\n",
      "4/4 [==============================] - 0s 11ms/step - loss: 0.8787 - accuracy: 0.5833 - val_loss: 0.8649 - val_accuracy: 0.5667\n",
      "Epoch 72/100\n",
      "4/4 [==============================] - 0s 11ms/step - loss: 0.8693 - accuracy: 0.5833 - val_loss: 0.8557 - val_accuracy: 0.5667\n",
      "Epoch 73/100\n",
      "4/4 [==============================] - 0s 11ms/step - loss: 0.8601 - accuracy: 0.5833 - val_loss: 0.8469 - val_accuracy: 0.5667\n",
      "Epoch 74/100\n",
      "4/4 [==============================] - 0s 11ms/step - loss: 0.8510 - accuracy: 0.5833 - val_loss: 0.8379 - val_accuracy: 0.5667\n",
      "Epoch 75/100\n",
      "4/4 [==============================] - 0s 12ms/step - loss: 0.8419 - accuracy: 0.5833 - val_loss: 0.8292 - val_accuracy: 0.5667\n",
      "Epoch 76/100\n",
      "4/4 [==============================] - 0s 11ms/step - loss: 0.8333 - accuracy: 0.6000 - val_loss: 0.8208 - val_accuracy: 0.5667\n",
      "Epoch 77/100\n",
      "4/4 [==============================] - 0s 12ms/step - loss: 0.8246 - accuracy: 0.6000 - val_loss: 0.8124 - val_accuracy: 0.5667\n",
      "Epoch 78/100\n",
      "4/4 [==============================] - 0s 11ms/step - loss: 0.8163 - accuracy: 0.6000 - val_loss: 0.8043 - val_accuracy: 0.5667\n",
      "Epoch 79/100\n",
      "4/4 [==============================] - 0s 11ms/step - loss: 0.8082 - accuracy: 0.6167 - val_loss: 0.7965 - val_accuracy: 0.5667\n",
      "Epoch 80/100\n",
      "4/4 [==============================] - 0s 12ms/step - loss: 0.8010 - accuracy: 0.6083 - val_loss: 0.7895 - val_accuracy: 0.5667\n",
      "Epoch 81/100\n",
      "4/4 [==============================] - 0s 11ms/step - loss: 0.7929 - accuracy: 0.6167 - val_loss: 0.7824 - val_accuracy: 0.5667\n",
      "Epoch 82/100\n",
      "4/4 [==============================] - 0s 11ms/step - loss: 0.7858 - accuracy: 0.6167 - val_loss: 0.7753 - val_accuracy: 0.6000\n",
      "Epoch 83/100\n",
      "4/4 [==============================] - 0s 12ms/step - loss: 0.7790 - accuracy: 0.6167 - val_loss: 0.7688 - val_accuracy: 0.6000\n",
      "Epoch 84/100\n",
      "4/4 [==============================] - 0s 12ms/step - loss: 0.7726 - accuracy: 0.6167 - val_loss: 0.7625 - val_accuracy: 0.6000\n",
      "Epoch 85/100\n",
      "4/4 [==============================] - 0s 18ms/step - loss: 0.7659 - accuracy: 0.6167 - val_loss: 0.7561 - val_accuracy: 0.6333\n",
      "Epoch 86/100\n",
      "4/4 [==============================] - 0s 11ms/step - loss: 0.7596 - accuracy: 0.6333 - val_loss: 0.7496 - val_accuracy: 0.6667\n",
      "Epoch 87/100\n",
      "4/4 [==============================] - 0s 11ms/step - loss: 0.7540 - accuracy: 0.6417 - val_loss: 0.7430 - val_accuracy: 0.6667\n",
      "Epoch 88/100\n",
      "4/4 [==============================] - 0s 11ms/step - loss: 0.7481 - accuracy: 0.6417 - val_loss: 0.7372 - val_accuracy: 0.6667\n",
      "Epoch 89/100\n",
      "4/4 [==============================] - 0s 10ms/step - loss: 0.7426 - accuracy: 0.6417 - val_loss: 0.7319 - val_accuracy: 0.6667\n",
      "Epoch 90/100\n",
      "4/4 [==============================] - 0s 11ms/step - loss: 0.7378 - accuracy: 0.6500 - val_loss: 0.7264 - val_accuracy: 0.6667\n",
      "Epoch 91/100\n",
      "4/4 [==============================] - 0s 11ms/step - loss: 0.7323 - accuracy: 0.6500 - val_loss: 0.7215 - val_accuracy: 0.6667\n",
      "Epoch 92/100\n",
      "4/4 [==============================] - 0s 11ms/step - loss: 0.7276 - accuracy: 0.6500 - val_loss: 0.7165 - val_accuracy: 0.6667\n",
      "Epoch 93/100\n",
      "4/4 [==============================] - 0s 11ms/step - loss: 0.7230 - accuracy: 0.6500 - val_loss: 0.7123 - val_accuracy: 0.6667\n",
      "Epoch 94/100\n",
      "4/4 [==============================] - 0s 11ms/step - loss: 0.7184 - accuracy: 0.6500 - val_loss: 0.7082 - val_accuracy: 0.6667\n",
      "Epoch 95/100\n",
      "4/4 [==============================] - 0s 12ms/step - loss: 0.7142 - accuracy: 0.6500 - val_loss: 0.7041 - val_accuracy: 0.6667\n",
      "Epoch 96/100\n",
      "4/4 [==============================] - 0s 11ms/step - loss: 0.7100 - accuracy: 0.6500 - val_loss: 0.7003 - val_accuracy: 0.6667\n",
      "Epoch 97/100\n",
      "4/4 [==============================] - 0s 11ms/step - loss: 0.7062 - accuracy: 0.6500 - val_loss: 0.6966 - val_accuracy: 0.6667\n",
      "Epoch 98/100\n",
      "4/4 [==============================] - 0s 11ms/step - loss: 0.7022 - accuracy: 0.6583 - val_loss: 0.6927 - val_accuracy: 0.6667\n",
      "Epoch 99/100\n",
      "4/4 [==============================] - 0s 12ms/step - loss: 0.6987 - accuracy: 0.6583 - val_loss: 0.6892 - val_accuracy: 0.6667\n",
      "Epoch 100/100\n",
      "4/4 [==============================] - 0s 12ms/step - loss: 0.6953 - accuracy: 0.6583 - val_loss: 0.6859 - val_accuracy: 0.6667\n",
      "<keras.callbacks.History object at 0x000002737344C5B0>\n"
     ]
    }
   ],
   "source": [
    "fit_history = model.fit(X_train,y_train, validation_data=(X_test, y_test), epochs=100) # 오차역전파 100번시행, 회귀계수 100번 조정\n",
    "print(fit_history)\n",
    "# pred = model.predict(X_test)\n"
   ]
  },
  {
   "cell_type": "code",
   "execution_count": 11,
   "id": "9df6d097-8792-492b-84ce-2ea58a7d0ba3",
   "metadata": {
    "tags": []
   },
   "outputs": [
    {
     "data": {
      "image/png": "[encoded data removed]",
      "text/plain": [
       "<Figure size 640x480 with 1 Axes>"
      ]
     },
     "metadata": {},
     "output_type": "display_data"
    },
    {
     "data": {
      "image/png": "[encoded data removed]",
      "text/plain": [
       "<Figure size 640x480 with 1 Axes>"
      ]
     },
     "metadata": {},
     "output_type": "display_data"
    }
   ],
   "source": [
    "\n",
    "ax1 = plt.subplot(1,2,1)\n",
    "ax1.set_title(\"loss\")\n",
    "plt.plot(fit_history.history[\"loss\"])\n",
    "plt.plot(fit_history.history[\"val_loss\"])\n",
    "plt.show()\n",
    "\n",
    "ax2 = plt.subplot(1,2,2)\n",
    "ax2.set_title(\"accuracy\")\n",
    "plt.plot(fit_history.history[\"accuracy\"])\n",
    "plt.plot(fit_history.history[\"val_accuracy\"])\n",
    "plt.show()"
   ]
  },
  {
   "cell_type": "code",
   "execution_count": 12,
   "id": "cf5ec8f0-e382-4ce3-9272-cee5ab068615",
   "metadata": {
    "tags": []
   },
   "outputs": [
    {
     "name": "stdout",
     "output_type": "stream",
     "text": [
      "1/1 [==============================] - 0s 23ms/step - loss: 0.6859 - accuracy: 0.6667\n"
     ]
    },
    {
     "data": {
      "text/plain": [
       "[0.6858689785003662, 0.6666666865348816]"
      ]
     },
     "execution_count": 12,
     "metadata": {},
     "output_type": "execute_result"
    }
   ],
   "source": [
    "model.evaluate(X_test, y_test)"
   ]
  },
  {
   "cell_type": "code",
   "execution_count": 13,
   "id": "08516dd3-4f17-4f1b-be9c-1344c7726cb4",
   "metadata": {
    "tags": []
   },
   "outputs": [
    {
     "name": "stdout",
     "output_type": "stream",
     "text": [
      "1/1 [==============================] - 0s 90ms/step\n",
      "proba : [[0.24770278 0.40709773 0.34519947]\n",
      " [0.85975784 0.04018625 0.10005594]\n",
      " [0.29494032 0.3724093  0.3326503 ]\n",
      " [0.9207098  0.01877887 0.06051132]\n",
      " [0.92376983 0.01781532 0.05841479]]\n",
      "pred : [1 0 1 0 0]\n",
      "y_test : [2 0 1 0 0]\n",
      "[[10  0  0]\n",
      " [ 0 10  0]\n",
      " [ 0 10  0]]\n"
     ]
    }
   ],
   "source": [
    "proba = model.predict(X_test)\n",
    "print(f\"proba : {proba[:5]}\")\n",
    "\n",
    "pred = np.argmax(proba, axis=1)\n",
    "print(f\"pred : {pred[:5]}\")  #------------submit에 제출할 예측답안\n",
    "\n",
    "\n",
    "#----------------------- 이런코딩 없다.. 그냥 해보자-----------------\n",
    "y_test22 = np.argmax(y_test.values, axis=1)\n",
    "print(f\"y_test : {y_test22[:5]}\")\n",
    "\n",
    "from sklearn.metrics import f1_score, confusion_matrix\n",
    "print( confusion_matrix(y_test22, pred) )"
   ]
  }
 ],
 "metadata": {
  "kernelspec": {
   "display_name": "Python 3 (ipykernel)",
   "language": "python",
   "name": "python3"
  },
  "language_info": {
   "codemirror_mode": {
    "name": "ipython",
    "version": 3
   },
   "file_extension": ".py",
   "mimetype": "text/x-python",
   "name": "python",
   "nbconvert_exporter": "python",
   "pygments_lexer": "ipython3",
   "version": "3.8.8"
  }
 },
 "nbformat": 4,
 "nbformat_minor": 5
}
