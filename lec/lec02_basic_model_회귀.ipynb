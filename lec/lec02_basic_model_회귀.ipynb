{
 "cells": [
  {
   "cell_type": "markdown",
   "id": "72e06939-2d24-4bce-994a-5f6f42402076",
   "metadata": {
    "tags": []
   },
   "source": [
    "# lec02_basic_model_회귀"
   ]
  },
  {
   "cell_type": "code",
   "execution_count": 1,
   "id": "39fc5541-de93-4be8-a4fa-95cb83226dd7",
   "metadata": {
    "tags": []
   },
   "outputs": [
    {
     "data": {
      "text/html": [
       "<style>.container{width:100% !important;}</style>"
      ],
      "text/plain": [
       "<IPython.core.display.HTML object>"
      ]
     },
     "metadata": {},
     "output_type": "display_data"
    }
   ],
   "source": [
    "import numpy as np\n",
    "import pandas as pd\n",
    "\n",
    "import matplotlib.pyplot as plt\n",
    "import seaborn as sns\n",
    "\n",
    "\n",
    "sns.set()\n",
    "\n",
    "#-------------------- 차트 관련 속성 (한글처리, 그리드) -----------\n",
    "plt.rcParams['font.family']= 'Malgun Gothic'\n",
    "plt.rcParams['axes.unicode_minus'] = False\n",
    "\n",
    "#-------------------- 주피터 , 출력결과 넓이 늘리기 ---------------\n",
    "# from IPython.core.display import display, HTML\n",
    "from IPython.display import display, HTML\n",
    "\n",
    "display(HTML(\"<style>.container{width:100% !important;}</style>\"))\n",
    "pd.set_option('display.max_rows', 100)\n",
    "pd.set_option('display.max_columns', 100)\n",
    "pd.set_option('max_colwidth', None)\n",
    "\n",
    "import warnings\n",
    "warnings.filterwarnings(action='ignore')\n",
    "\n",
    "import tensorflow as tf"
   ]
  },
  {
   "cell_type": "code",
   "execution_count": 2,
   "id": "a2c04950-b7fc-471b-b36a-affe0f72ce4b",
   "metadata": {
    "tags": []
   },
   "outputs": [],
   "source": [
    "import pandas_profiling\n",
    "\n",
    "# ----------------- 학습 ----------------------\n",
    "from sklearn.model_selection import train_test_split, cross_val_score\n",
    "from sklearn.preprocessing import StandardScaler, MinMaxScaler, RobustScaler\n",
    "\n",
    "# ----------------- 모델 ----------------------\n",
    "from sklearn.tree import DecisionTreeClassifier\n",
    "from sklearn.linear_model import LogisticRegression\n",
    "from sklearn.linear_model import Ridge\n",
    "\n",
    "# ----------------- 평가 ----------------------\n",
    "from sklearn.metrics import confusion_matrix\n",
    "\n",
    "from sklearn.metrics import classification_report\n",
    "from sklearn.metrics import accuracy_score,mean_squared_error\n",
    "from sklearn.metrics import f1_score, precision_score, recall_score\n",
    "from sklearn.metrics import precision_recall_curve, plot_precision_recall_curve\n",
    "\n",
    "from sklearn.metrics import roc_auc_score, roc_curve, plot_roc_curve"
   ]
  },
  {
   "cell_type": "code",
   "execution_count": 3,
   "id": "396e0fca-7dc4-4a37-979b-970bf1e763ea",
   "metadata": {
    "tags": []
   },
   "outputs": [
    {
     "name": "stdout",
     "output_type": "stream",
     "text": [
      "<class 'pandas.core.frame.DataFrame'>\n",
      "RangeIndex: 506 entries, 0 to 505\n",
      "Data columns (total 14 columns):\n",
      " #   Column   Non-Null Count  Dtype  \n",
      "---  ------   --------------  -----  \n",
      " 0   CRIM     506 non-null    float64\n",
      " 1   ZN       506 non-null    float64\n",
      " 2   INDUS    506 non-null    float64\n",
      " 3   CHAS     506 non-null    float64\n",
      " 4   NOX      506 non-null    float64\n",
      " 5   RM       506 non-null    float64\n",
      " 6   AGE      506 non-null    float64\n",
      " 7   DIS      506 non-null    float64\n",
      " 8   RAD      506 non-null    float64\n",
      " 9   TAX      506 non-null    float64\n",
      " 10  PTRATIO  506 non-null    float64\n",
      " 11  B        506 non-null    float64\n",
      " 12  LSTAT    506 non-null    float64\n",
      " 13  MEDV     506 non-null    float64\n",
      "dtypes: float64(14)\n",
      "memory usage: 55.5 KB\n"
     ]
    }
   ],
   "source": [
    "df = pd.read_csv(\"../ML/datasets/boston.csv\")\n",
    "df.info()"
   ]
  },
  {
   "cell_type": "markdown",
   "id": "163a592d-5aed-44f8-9f8f-f67e2628fd3b",
   "metadata": {},
   "source": [
    "# ML"
   ]
  },
  {
   "cell_type": "code",
   "execution_count": 4,
   "id": "02f2a784-9ec2-45be-821e-8495388ef45f",
   "metadata": {
    "tags": []
   },
   "outputs": [],
   "source": [
    "y = df[\"MEDV\"]\n",
    "X = df.drop(\"MEDV\", axis = 1)"
   ]
  },
  {
   "cell_type": "code",
   "execution_count": 5,
   "id": "3130ce8a-0cec-4f14-9ffd-f56ea9c44401",
   "metadata": {
    "tags": []
   },
   "outputs": [
    {
     "data": {
      "text/plain": [
       "((455, 13), (51, 13), (455,), (51,))"
      ]
     },
     "execution_count": 5,
     "metadata": {},
     "output_type": "execute_result"
    }
   ],
   "source": [
    "X_train, X_test, y_train, y_test = train_test_split(X,y,test_size=0.1, random_state=1)\n",
    "X_train.shape, X_test.shape, y_train.shape, y_test.shape"
   ]
  },
  {
   "cell_type": "code",
   "execution_count": 6,
   "id": "0c146196-8495-46de-9ba6-6f86a3101fab",
   "metadata": {
    "tags": []
   },
   "outputs": [
    {
     "data": {
      "text/plain": [
       "4.487205208451956"
      ]
     },
     "execution_count": 6,
     "metadata": {},
     "output_type": "execute_result"
    }
   ],
   "source": [
    "ri=Ridge(alpha = 1.0, random_state=1)\n",
    "ri.fit(X_train,y_train)\n",
    "pred = ri.predict(X_test)\n",
    "sc = mean_squared_error(y_test, pred, squared=False)\n",
    "sc"
   ]
  },
  {
   "cell_type": "markdown",
   "id": "c5e30b9e-4924-4276-808a-f5710de4f2ce",
   "metadata": {},
   "source": [
    "# DL"
   ]
  },
  {
   "cell_type": "markdown",
   "id": "d711f4bb-2b8b-47a4-a7b0-d18f026e85d7",
   "metadata": {},
   "source": [
    "## seed 고정"
   ]
  },
  {
   "cell_type": "code",
   "execution_count": 7,
   "id": "8f09438d-527f-44db-8dec-ff77c05e8d29",
   "metadata": {
    "tags": []
   },
   "outputs": [],
   "source": [
    "tf.random.set_seed(1)\n",
    "np.random.seed(1)"
   ]
  },
  {
   "cell_type": "code",
   "execution_count": null,
   "id": "14a96cb7-f501-4d13-9596-2210ccc11f6f",
   "metadata": {},
   "outputs": [],
   "source": []
  },
  {
   "cell_type": "code",
   "execution_count": 8,
   "id": "63691248-72cb-424e-a31c-75fe1a621776",
   "metadata": {
    "tags": []
   },
   "outputs": [],
   "source": [
    "from keras.models import Sequential\n",
    "from keras.layers import Dense"
   ]
  },
  {
   "cell_type": "code",
   "execution_count": 9,
   "id": "b2ca5db7-db54-45d3-a243-39f8086cb1f4",
   "metadata": {
    "tags": []
   },
   "outputs": [
    {
     "data": {
      "text/plain": [
       "13"
      ]
     },
     "execution_count": 9,
     "metadata": {},
     "output_type": "execute_result"
    }
   ],
   "source": [
    "len(X_train.columns)"
   ]
  },
  {
   "cell_type": "markdown",
   "id": "9f62ff64-57bd-414c-a724-50ca315ab528",
   "metadata": {},
   "source": [
    "## activation_function"
   ]
  },
  {
   "cell_type": "markdown",
   "id": "66aa666f-4f19-4f52-9d91-f008f2cbf87d",
   "metadata": {},
   "source": [
    "<pre>\n",
    "* activation_function(활성함수) ref : https://keras.io/api/layers/activations/\n",
    "    - relu function    : 기울기 소실 문제 완화\n",
    "    - sigmoid function\n",
    "    - softmax function\n",
    "    - softplus function\n",
    "    - softsign function\n",
    "    - tanh function\n",
    "    - selu function\n",
    "    - elu function\n",
    "    - exponential function\n",
    "-----------------------------------------------------------------------------\n",
    "from tensorflow.keras import activations as act\n",
    "act.relu\n",
    "\n",
    "\n",
    "from keras import activations as act\n",
    "act.relu()\n",
    "act.sigmoid()\n",
    "act.softmax()\n",
    "act.tanh()"
   ]
  },
  {
   "cell_type": "markdown",
   "id": "9e1d5c25-7a3b-491e-b14b-8a30d7884e0c",
   "metadata": {},
   "source": [
    "## 사용자 정의 metrics"
   ]
  },
  {
   "cell_type": "code",
   "execution_count": 10,
   "id": "26774b90-88a7-4299-ac5f-8df0e27b8df1",
   "metadata": {},
   "outputs": [],
   "source": [
    "import tensorflow as tf\n",
    "from keras.optimizers import Adam  \n",
    "from keras.losses import MeanSquaredError\n",
    "\n",
    "@tf.function\n",
    "def my_mse_def(y_true, y_pred):\n",
    "    return -1 * keras.losses.MSE(y_true, y_pred)\n",
    "\n",
    "model = Sequential()\n",
    "model.add(Dense(units=56, input_dim=len(X_train.columns), activation='relu'))\n",
    "model.add(Dense(units=24 , activation='relu'))\n",
    "model.add(Dense(units=26 , activation='relu'))\n",
    "model.add(Dense(units=12 , activation='relu'))\n",
    "model.add(Dense(units=8  , activation='relu'))\n",
    "model.add(Dense(units=4  , activation='relu'))\n",
    "model.add(Dense(units=1  ))                                 # 최종 출력층 활성함수 필요 X, 회귀식의 해 그 자체가 답안\n",
    "\n",
    "model.compile(loss=my_mse_def,\n",
    "              optimizer=Adam(lr=0.001),\n",
    "              metrics=[tf.keras.losses.MeanSquaredError()])\n"
   ]
  },
  {
   "cell_type": "code",
   "execution_count": 11,
   "id": "f2105d7a-9324-4be7-a7cd-ec3106c44eb6",
   "metadata": {
    "tags": []
   },
   "outputs": [],
   "source": [
    "model = Sequential()\n",
    "model.add(Dense(units=56, input_dim=len(X_train.columns), activation=\"relu\"))\n",
    "model.add(Dense(units=28, activation=\"relu\"))\n",
    "model.add(Dense(units=14, activation=\"relu\"))\n",
    "model.add(Dense(units=7, activation=\"relu\"))\n",
    "model.add(Dense(units=1))                                 # 최종 출력층 활성함수 필요 X, 회귀식의 해 그 자체가 답안\n",
    "model.compile(loss=\"mse\" ,optimizer=\"adam\", metrics=\"mse\")\n"
   ]
  },
  {
   "cell_type": "markdown",
   "id": "079ce298-4f09-4ae8-bb9f-584f3a9617b1",
   "metadata": {},
   "source": [
    "<pre>\n",
    "* loss(ref : https://keras.io/api/losses/)\n",
    "    * Probabilistic losses\n",
    "        - categorical_cross_entropy\n",
    "        - binary_cross_entropy\n",
    "        - sparse_categorical_cross_entropy\n",
    "    * Regression losses\n",
    "        - mse, mae, rmse\n",
    "    * Hinge losses for \"maximum-margin\" classification\n",
    "        - Hinge class.....\n",
    "\n",
    "* optimizer(ref : https://keras.io/api/optimizers/)\n",
    "    - Gradient Descent\n",
    "    - Statistic Gradient Descent\n",
    "    - Momentum\n",
    "    - AdaGrade\n",
    "    - Adam\n",
    "    - Rmsprop\n",
    "\n",
    "* metrics(ref : https://keras.io/api/metrics/) >> loss_function과 동일하면 metrics를 생략한다\n",
    "    - Probabilistic metrics : Crossentropy ...\n",
    "    - Regression metrics : MeanSquaredError ... \n",
    "    - Hinge metrics for \"maximum-margin\" classification\n",
    "   \n",
    "    - Accuracy metrics : Accuracy ...\n",
    "    - Classification metrics based on True/False : AUC, Precision ...\n",
    "    - Image segmentation metrics\n",
    "   "
   ]
  },
  {
   "cell_type": "code",
   "execution_count": 12,
   "id": "783f7cd8-187a-40df-abd1-c9449a280c57",
   "metadata": {
    "tags": []
   },
   "outputs": [
    {
     "name": "stdout",
     "output_type": "stream",
     "text": [
      "Model: \"sequential_1\"\n",
      "_________________________________________________________________\n",
      " Layer (type)                Output Shape              Param #   \n",
      "=================================================================\n",
      " dense_7 (Dense)             (None, 56)                784       \n",
      "                                                                 \n",
      " dense_8 (Dense)             (None, 28)                1596      \n",
      "                                                                 \n",
      " dense_9 (Dense)             (None, 14)                406       \n",
      "                                                                 \n",
      " dense_10 (Dense)            (None, 7)                 105       \n",
      "                                                                 \n",
      " dense_11 (Dense)            (None, 1)                 8         \n",
      "                                                                 \n",
      "=================================================================\n",
      "Total params: 2,899\n",
      "Trainable params: 2,899\n",
      "Non-trainable params: 0\n",
      "_________________________________________________________________\n"
     ]
    }
   ],
   "source": [
    "model.summary()"
   ]
  },
  {
   "cell_type": "markdown",
   "id": "58e79795-4019-4c1e-bd6f-7afd62d607f5",
   "metadata": {},
   "source": [
    "## 모델 sequential()"
   ]
  },
  {
   "cell_type": "markdown",
   "id": "dc48abfd-8389-40ce-8078-6649a6b5929c",
   "metadata": {},
   "source": [
    "### hidden layers"
   ]
  },
  {
   "cell_type": "code",
   "execution_count": 13,
   "id": "fe295d70-91c3-49c6-9a7d-d81e9cc5eaa7",
   "metadata": {
    "tags": []
   },
   "outputs": [
    {
     "data": {
      "text/plain": [
       "<KerasTensor: shape=(None, 56) dtype=float32 (created by layer 'dense_7')>"
      ]
     },
     "execution_count": 13,
     "metadata": {},
     "output_type": "execute_result"
    }
   ],
   "source": [
    "model.layers[0].output"
   ]
  },
  {
   "cell_type": "code",
   "execution_count": 14,
   "id": "74f4236e-89ef-4f50-9666-67b79109e823",
   "metadata": {
    "tags": []
   },
   "outputs": [
    {
     "data": {
      "text/plain": [
       "<KerasTensor: shape=(None, 56) dtype=float32 (created by layer 'dense_7')>"
      ]
     },
     "execution_count": 14,
     "metadata": {},
     "output_type": "execute_result"
    }
   ],
   "source": [
    "model.get_layer(\"dense_7\").output"
   ]
  },
  {
   "cell_type": "code",
   "execution_count": 15,
   "id": "ffe7674b-f3a3-48c5-bf0b-aee9c73e6c40",
   "metadata": {
    "tags": []
   },
   "outputs": [
    {
     "data": {
      "text/plain": [
       "<KerasTensor: shape=(None, 13) dtype=float32 (created by layer 'dense_7_input')>"
      ]
     },
     "execution_count": 15,
     "metadata": {},
     "output_type": "execute_result"
    }
   ],
   "source": [
    "model.input"
   ]
  },
  {
   "cell_type": "code",
   "execution_count": 16,
   "id": "d3f92e3f-3e96-4b06-ab3e-06be79c19283",
   "metadata": {},
   "outputs": [],
   "source": [
    "# new_weight = [-3.59945893e-02, -7.81407952e-01, -9.94988620e-01,\n",
    "#          2.31664270e-01,  7.15312585e-02,  2.73251176e-01,\n",
    "#         -7.16678500e-01, -1.04593381e-01, -3.73264551e-01,\n",
    "#         -1.35154331e+00, -7.71160424e-02, -8.01578313e-02,\n",
    "#         -2.47413181e-02,  4.07953672e-02, -8.12054157e-01,\n",
    "#          2.06902325e-02,  2.68863082e-01, -2.85769194e-01,\n",
    "#         -9.34480608e-01, -1.85810834e-01, -2.36392990e-01,\n",
    "#          3.95404011e-01, -7.05395699e-01, -1.06700659e-01,\n",
    "#         -1.37634230e+00, -4.02684540e-01, -4.22928900e-01,\n",
    "#          4.36127841e-01,  1.88437402e-01, -5.92378318e-01,\n",
    "#         -6.82436585e-01, -1.41891348e+00,  2.25938618e-01,\n",
    "#         -6.25301898e-01, -2.77668208e-01,  6.19773328e-01,\n",
    "#         -1.26197302e+00,  4.22708660e-01, -4.06042337e-01,\n",
    "#          6.42318368e-01,  3.16185653e-02,  2.19408333e-01,\n",
    "#         -1.13330293e+00,  2.66330421e-01,  2.87996888e-01,\n",
    "#          4.02136564e-01, -3.89193267e-01, -2.75454968e-01,\n",
    "#         -2.69724280e-01,  5.66687584e-01, -9.84383225e-02,\n",
    "#         -2.73523718e-01,  2.54848242e-01, -8.64827514e-01,\n",
    "#         -5.67164361e-01, -5.86636007e-01]\n",
    "# model.set_weights(new_weight)"
   ]
  },
  {
   "cell_type": "code",
   "execution_count": 17,
   "id": "5d20c829-889e-43b2-b3ce-e260ada22a12",
   "metadata": {
    "tags": []
   },
   "outputs": [
    {
     "name": "stdout",
     "output_type": "stream",
     "text": [
      "input :        CRIM    ZN  INDUS  CHAS    NOX     RM   AGE     DIS  RAD    TAX  \\\n",
      "242  0.1029  30.0   4.93   0.0  0.428  6.358  52.9  7.0355  6.0  300.0   \n",
      "\n",
      "     PTRATIO       B  LSTAT  \n",
      "242     16.6  372.75  11.22  \n",
      "output : [[148.38249    54.25223    40.272953    0.        173.76118    32.48347\n",
      "    0.          0.          0.          0.         20.107855   51.367874\n",
      "  147.70496    52.48611    21.646706    0.          0.          6.2393804\n",
      "   70.42679     0.          0.          0.          0.          0.\n",
      "    0.          0.          0.        107.50071     0.        116.467926\n",
      "   86.34802     0.         21.04859     0.          0.        133.83568\n",
      "    0.         26.515331    0.         56.355022    0.          0.\n",
      "   37.08501    45.587467   64.49103   138.59418     0.8235813   0.\n",
      "   63.8159      0.         25.361944    0.         40.463253   79.87389\n",
      "   10.901254    0.       ]]\n",
      "output = hidden_layer1_model weight : [array([[ 0.09411627, -0.24620235, -0.23492754,  0.17741072, -0.09312959,\n",
      "        -0.19488375, -0.24211553, -0.12075402, -0.12619315, -0.09389389,\n",
      "         0.04184434, -0.12951595,  0.07011801,  0.05404815,  0.10368651,\n",
      "         0.07131365,  0.00157443,  0.14269245,  0.08699238,  0.2154383 ,\n",
      "        -0.02763122,  0.11270055,  0.15935606, -0.21971442,  0.19488627,\n",
      "         0.09813038,  0.24741518,  0.2579888 , -0.06348333,  0.01211405,\n",
      "         0.05751809,  0.25506353,  0.21807367,  0.09778982,  0.1837033 ,\n",
      "         0.06527063, -0.29266414,  0.02271307, -0.02254364,  0.20505545,\n",
      "         0.03683883,  0.06279996,  0.13791335,  0.0209249 ,  0.12151077,\n",
      "         0.15794381,  0.064098  ,  0.26076883, -0.06291258,  0.24938035,\n",
      "         0.17511693,  0.01475191,  0.01771826, -0.04615562,  0.10744146,\n",
      "        -0.06893554],\n",
      "       [-0.22850806,  0.05875948,  0.29213554,  0.05844867,  0.22049803,\n",
      "        -0.2772782 , -0.20299655, -0.07694288,  0.13017154,  0.26232266,\n",
      "         0.01447555, -0.2545246 ,  0.02156356, -0.21803242,  0.22098005,\n",
      "        -0.01427272,  0.16471699,  0.12542   , -0.24571963, -0.09828898,\n",
      "         0.09933937, -0.22509134, -0.09105045,  0.08688912, -0.02491322,\n",
      "         0.01921937,  0.01268092,  0.24597186, -0.2716314 , -0.24100287,\n",
      "         0.16703472,  0.28143877,  0.11945975, -0.23734677,  0.08556041,\n",
      "         0.22629392, -0.03159374, -0.05321263,  0.08247256, -0.23172069,\n",
      "        -0.20659092,  0.10300004,  0.02175191,  0.05938864,  0.01712114,\n",
      "         0.27317268,  0.2786867 ,  0.1916267 , -0.13009652,  0.0119988 ,\n",
      "         0.09903416,  0.01707974,  0.0577127 ,  0.28694546, -0.11369769,\n",
      "         0.15096456],\n",
      "       [ 0.16655311,  0.19073382,  0.09342256,  0.15383747,  0.28120095,\n",
      "         0.05808926,  0.13861632,  0.1138047 , -0.2181014 ,  0.17022273,\n",
      "         0.02211946, -0.09057693, -0.28310472,  0.15631405,  0.28044438,\n",
      "         0.09905222, -0.20859984, -0.23980846,  0.28330934,  0.12933996,\n",
      "         0.00562769,  0.28034198, -0.07372224,  0.08702931, -0.2111904 ,\n",
      "         0.11141276,  0.08808789,  0.2573011 ,  0.03452963, -0.12942553,\n",
      "         0.23760086, -0.25725582,  0.26255476, -0.17287141,  0.18730232,\n",
      "        -0.26647487,  0.04130003,  0.02903286, -0.06185435,  0.21357143,\n",
      "        -0.17293876,  0.29237723,  0.16246736,  0.18774736,  0.00109446,\n",
      "        -0.01809424,  0.22844034,  0.22326273, -0.14369915, -0.04643564,\n",
      "         0.1676676 , -0.26521796, -0.19696403,  0.08839723,  0.03615421,\n",
      "         0.12621981],\n",
      "       [-0.24844679,  0.10870558,  0.1488376 , -0.12369308,  0.00160488,\n",
      "         0.19893631, -0.1952475 ,  0.09561202,  0.2784083 ,  0.06882009,\n",
      "        -0.14615507, -0.02373424, -0.2014359 , -0.03467456, -0.12930354,\n",
      "        -0.1083262 ,  0.03213918, -0.21205565, -0.10160089, -0.2837834 ,\n",
      "        -0.18973574,  0.02786443, -0.05843523,  0.23750407, -0.03654271,\n",
      "        -0.17574495, -0.20759897, -0.24073656, -0.03839639, -0.08648358,\n",
      "        -0.25819266,  0.26010227, -0.2573581 , -0.00233224,  0.2878809 ,\n",
      "         0.10021847,  0.06470954, -0.22224185,  0.23860842,  0.20674682,\n",
      "         0.13141814, -0.17700596,  0.23160112, -0.2905748 , -0.21518539,\n",
      "        -0.12197353,  0.05699742,  0.07248604,  0.17289981, -0.18197674,\n",
      "         0.18351811, -0.15384063, -0.19692613, -0.0925045 , -0.17457184,\n",
      "         0.28573883],\n",
      "       [ 0.21807301,  0.0356665 , -0.00290519,  0.10596251,  0.21629572,\n",
      "        -0.26508698,  0.03167579, -0.08253248, -0.18859258, -0.26287887,\n",
      "         0.2750255 ,  0.23869908, -0.24035536,  0.2656061 , -0.2340843 ,\n",
      "         0.04110542,  0.2132405 , -0.01918995, -0.04590666, -0.29018018,\n",
      "         0.09216782,  0.24591118,  0.1371943 ,  0.13914531, -0.060096  ,\n",
      "         0.05918601,  0.21834838, -0.11788371, -0.27743718,  0.26758808,\n",
      "        -0.2000674 ,  0.06294709,  0.2839586 , -0.24304906,  0.17928725,\n",
      "         0.21709776, -0.02653116, -0.08892411, -0.27527097,  0.05309325,\n",
      "         0.21927625,  0.18831325, -0.2104792 , -0.05196702,  0.20162192,\n",
      "        -0.19584103,  0.20102376,  0.2860266 , -0.15336396,  0.16900405,\n",
      "        -0.27890396, -0.178431  ,  0.05485913, -0.20199321, -0.13226174,\n",
      "        -0.29279786],\n",
      "       [-0.22491565, -0.2657101 , -0.1172989 , -0.196393  ,  0.26857847,\n",
      "         0.16143605, -0.00933161, -0.0792487 ,  0.10267249,  0.03925186,\n",
      "         0.14974827,  0.23480755,  0.29354966,  0.16590321, -0.08406886,\n",
      "         0.25989813, -0.23243695, -0.10304151,  0.2734564 ,  0.04471949,\n",
      "         0.19727963,  0.23439509,  0.19836557, -0.2926124 ,  0.12815961,\n",
      "         0.14559641, -0.18943378,  0.02927476, -0.22310232, -0.20758435,\n",
      "         0.07769641,  0.28045732,  0.10190916,  0.10024363, -0.11973457,\n",
      "        -0.17376247, -0.16998291,  0.26088065, -0.20722032, -0.07049865,\n",
      "        -0.25649616, -0.09422827, -0.2482263 ,  0.09869781,  0.11461225,\n",
      "         0.07346866,  0.04099354, -0.0065693 ,  0.15008658,  0.25239122,\n",
      "        -0.2788753 ,  0.00922406, -0.21979865, -0.14944707, -0.25987142,\n",
      "         0.10214821],\n",
      "       [-0.20534617,  0.15109491,  0.0452081 ,  0.09843966, -0.07791169,\n",
      "        -0.12117746,  0.26774806,  0.15600851, -0.19858043, -0.13437724,\n",
      "        -0.2871878 ,  0.2238906 ,  0.28919595, -0.16355865,  0.21248347,\n",
      "        -0.0017705 ,  0.11632314,  0.0111782 ,  0.24053597,  0.02006796,\n",
      "        -0.04830697,  0.1370165 , -0.16779542, -0.016316  ,  0.10436067,\n",
      "        -0.28890938, -0.28168413, -0.10263157,  0.02146676,  0.02414659,\n",
      "         0.2915609 , -0.19878677, -0.14246543, -0.2848204 ,  0.15664217,\n",
      "        -0.1745641 , -0.00877514,  0.2791487 ,  0.00779334, -0.20202379,\n",
      "         0.19176829,  0.224042  ,  0.25633436,  0.09902206,  0.23751289,\n",
      "         0.26259887,  0.09432298, -0.15599388, -0.09825031, -0.21039939,\n",
      "         0.06350619,  0.00077778,  0.27809566,  0.03243193,  0.0404546 ,\n",
      "         0.05285463],\n",
      "       [-0.28326663,  0.0303835 , -0.03295296, -0.25857776,  0.04073715,\n",
      "        -0.04835472,  0.15166473,  0.25770956, -0.27811745,  0.13386035,\n",
      "        -0.25894427, -0.25752023,  0.15391761,  0.05359179,  0.25546926,\n",
      "        -0.1341062 , -0.24323544,  0.10781956,  0.07407469,  0.19186026,\n",
      "         0.02176765, -0.28071463, -0.1081342 ,  0.07793546, -0.15644869,\n",
      "        -0.07100984, -0.02817827,  0.10980254, -0.03168902,  0.13244194,\n",
      "         0.17246324,  0.15256241,  0.2879972 , -0.11974962, -0.0007214 ,\n",
      "         0.00374708,  0.2366398 ,  0.07044044, -0.08989623,  0.09094048,\n",
      "         0.04963335, -0.29115686,  0.2807775 ,  0.0146617 ,  0.07231668,\n",
      "         0.16685155, -0.07421923, -0.29444715, -0.20262617, -0.06624065,\n",
      "         0.12124264, -0.05123796,  0.09232333, -0.1377832 , -0.14162625,\n",
      "         0.05352676],\n",
      "       [-0.19067468, -0.05544224,  0.18763101,  0.27275342,  0.0901148 ,\n",
      "        -0.02579871,  0.05538818,  0.16328585,  0.04791588, -0.070691  ,\n",
      "         0.22795165, -0.06807844,  0.16850045,  0.05678937, -0.21855816,\n",
      "        -0.21977523, -0.13985863, -0.11647892, -0.0051035 ,  0.07061127,\n",
      "         0.10331333, -0.17454225,  0.14308333, -0.10654886,  0.10708803,\n",
      "         0.169776  , -0.29354697,  0.08589688, -0.13868698,  0.05393925,\n",
      "        -0.25322264, -0.28082684, -0.06435603, -0.25528064, -0.2498025 ,\n",
      "         0.2515539 ,  0.26592666,  0.27309072, -0.2853744 , -0.25343788,\n",
      "         0.12124446, -0.28137198,  0.23828048,  0.05819231, -0.05292627,\n",
      "        -0.11395854, -0.2568259 , -0.27060133, -0.14925155, -0.20205444,\n",
      "         0.19698974,  0.19099611, -0.15994324,  0.17289054,  0.12649643,\n",
      "         0.1655137 ],\n",
      "       [ 0.2521609 , -0.0839393 ,  0.29206866, -0.15699399,  0.278224  ,\n",
      "        -0.02078626, -0.00091165, -0.2879491 , -0.12104452, -0.2265703 ,\n",
      "         0.10972309,  0.01986673,  0.10985205, -0.03780448,  0.05638519,\n",
      "        -0.05169241, -0.07433841,  0.06798986,  0.0268206 ,  0.06120914,\n",
      "         0.23387963, -0.145922  ,  0.07059371,  0.15687636, -0.25106412,\n",
      "         0.22853786,  0.03585321,  0.08518201,  0.0472855 ,  0.10929263,\n",
      "         0.13630185, -0.13272779,  0.06761879, -0.23308975,  0.03267983,\n",
      "         0.12500814, -0.20989537,  0.05764526, -0.22098485, -0.08267689,\n",
      "         0.2499581 , -0.01122558, -0.25265753, -0.21079655, -0.03434405,\n",
      "         0.13016585,  0.07862845, -0.19440413,  0.10580987,  0.16056854,\n",
      "         0.15506908, -0.2510526 , -0.1726996 ,  0.16649511,  0.2668897 ,\n",
      "         0.20684922],\n",
      "       [ 0.01125491, -0.25979218, -0.27950886,  0.14493859, -0.18028593,\n",
      "         0.28093797, -0.27952245,  0.21237022, -0.15988664,  0.12737936,\n",
      "         0.08500493, -0.03617415,  0.09926504, -0.27278933,  0.06804365,\n",
      "         0.22709453, -0.14230478, -0.2232252 , -0.09070201,  0.21456242,\n",
      "        -0.1526142 ,  0.18431157,  0.14197654, -0.16416834,  0.10010576,\n",
      "         0.17514905, -0.13322015,  0.02806452, -0.2924078 , -0.25812444,\n",
      "        -0.13072632, -0.20618954,  0.00045058, -0.21886048, -0.04797667,\n",
      "        -0.25152478, -0.21522877, -0.2773379 ,  0.0629358 , -0.12739348,\n",
      "         0.12392923,  0.02974963, -0.12218066, -0.18134812, -0.17315137,\n",
      "        -0.09978876,  0.10948482, -0.01190579,  0.08432317, -0.279545  ,\n",
      "         0.18028024,  0.09861177,  0.17952114, -0.22093865, -0.18851629,\n",
      "        -0.20148489],\n",
      "       [ 0.25736374,  0.20557708, -0.14141956, -0.01862457,  0.22930956,\n",
      "         0.13740283, -0.08394843,  0.15523437, -0.03503492, -0.14997198,\n",
      "        -0.00333145,  0.11393631,  0.24652553,  0.22448736, -0.0393441 ,\n",
      "         0.00881383, -0.05170015, -0.04285878,  0.14913857, -0.06707595,\n",
      "        -0.19527458, -0.07644926, -0.23045799, -0.24587063, -0.03348532,\n",
      "        -0.2266008 , -0.15585208,  0.19990554, -0.09884904,  0.2549268 ,\n",
      "         0.07196552,  0.00620323,  0.01080558, -0.04967134, -0.21071774,\n",
      "         0.27802938, -0.04234159, -0.00690734,  0.07735044,  0.26271152,\n",
      "        -0.23984402, -0.11605462,  0.2639568 ,  0.2789874 ,  0.17258719,\n",
      "         0.21574289, -0.09792818, -0.12408538,  0.1164141 , -0.27290484,\n",
      "        -0.07622498, -0.02777493,  0.20352122,  0.06535578, -0.17676839,\n",
      "        -0.27922034],\n",
      "       [-0.18039492, -0.15685941, -0.15441586, -0.18786246,  0.1171076 ,\n",
      "        -0.27778828,  0.26132196, -0.21751167, -0.05392152,  0.00504711,\n",
      "         0.09363115,  0.03703809,  0.24909586, -0.24876499, -0.07550843,\n",
      "         0.0821586 , -0.14705984,  0.2621103 , -0.05999026,  0.19389004,\n",
      "        -0.27329624,  0.08648479, -0.17389598,  0.2708814 ,  0.15986603,\n",
      "         0.26092303,  0.09014377,  0.20471328, -0.21796185, -0.04630522,\n",
      "        -0.08127631, -0.20076236, -0.27148402,  0.08198395, -0.1413695 ,\n",
      "         0.00908247,  0.21616518, -0.05976205,  0.08530807,  0.2868175 ,\n",
      "        -0.24455501,  0.15225348, -0.02174798, -0.10347636, -0.06822743,\n",
      "        -0.18755479, -0.0754292 ,  0.266231  , -0.13123485,  0.0762811 ,\n",
      "        -0.27238625,  0.00514048, -0.03197572, -0.04944903,  0.25686508,\n",
      "         0.28327578]], dtype=float32)]\n"
     ]
    }
   ],
   "source": [
    "from keras import Model\n",
    "\n",
    "hidden_layer1_model = Model(inputs = model.input, outputs = model.layers[0].output)\n",
    "output = hidden_layer1_model(X_train.values)\n",
    "output\n",
    "\n",
    "\n",
    "\n",
    "print(f\"input : {X_train[:1]}\")\n",
    "print(f\"output : {output[:1]}\")\n",
    "\n",
    "print(f\"output = hidden_layer1_model weight : {hidden_layer1_model.get_weights()[:1]}\")\n"
   ]
  },
  {
   "cell_type": "markdown",
   "id": "707a24ba-c666-442e-a761-4328875ec220",
   "metadata": {
    "tags": []
   },
   "source": [
    "### 배치 정규화\n",
    "<pre>\n",
    "* Xavier 배치 정규화\n",
    "keras.initializers.glorot_normal(seed=None)\n",
    "stddev = 1 / sqrt(fan_in)\n",
    "sigmoid\n",
    "\n",
    "* HE 배치 정규화\n",
    "keras.initializers.he_normal(seed=None)\n",
    "stddev = sqrt(2 / fan_in)\n",
    "relu"
   ]
  },
  {
   "cell_type": "code",
   "execution_count": 32,
   "id": "cb9a239a-0fbe-4f5f-95fb-2218a2a6fa6c",
   "metadata": {
    "tags": []
   },
   "outputs": [
    {
     "name": "stdout",
     "output_type": "stream",
     "text": [
      "Epoch 1/10\n",
      "102/102 [==============================] - 1s 1ms/step - loss: 179.9475 - mse: 179.9475\n",
      "Epoch 2/10\n",
      "102/102 [==============================] - 0s 1ms/step - loss: 74.7160 - mse: 74.7160\n",
      "Epoch 3/10\n",
      "102/102 [==============================] - 0s 1ms/step - loss: 66.2575 - mse: 66.2575\n",
      "Epoch 4/10\n",
      "102/102 [==============================] - 0s 1ms/step - loss: 63.9184 - mse: 63.9184\n",
      "Epoch 5/10\n",
      "102/102 [==============================] - 0s 1ms/step - loss: 68.9792 - mse: 68.9792\n",
      "Epoch 6/10\n",
      "102/102 [==============================] - 0s 1ms/step - loss: 56.5769 - mse: 56.5769\n",
      "Epoch 7/10\n",
      "102/102 [==============================] - 0s 1ms/step - loss: 57.8049 - mse: 57.8049\n",
      "Epoch 8/10\n",
      "102/102 [==============================] - 0s 1ms/step - loss: 57.3837 - mse: 57.3837\n",
      "Epoch 9/10\n",
      "102/102 [==============================] - 0s 1ms/step - loss: 50.6693 - mse: 50.6693\n",
      "Epoch 10/10\n",
      "102/102 [==============================] - 0s 1ms/step - loss: 53.6500 - mse: 53.6500\n"
     ]
    },
    {
     "data": {
      "text/plain": [
       "<keras.callbacks.History at 0x27de0d03a60>"
      ]
     },
     "execution_count": 32,
     "metadata": {},
     "output_type": "execute_result"
    }
   ],
   "source": [
    "model = Sequential()\n",
    "model.add(Dense(units=56, input_dim=len(X_train.columns), activation=\"relu\"\n",
    "                , kernel_initializer = \"GlorotNormal\"))   #  배치 정규화 >> 갈수록 w편중, 소실 문제 완화\n",
    "model.add(Dense(units=28, activation=\"relu\"))\n",
    "model.add(Dense(units=14, activation=\"relu\"))\n",
    "model.add(Dense(units=7, activation=\"relu\"))\n",
    "model.add(Dense(units=1))                                 # 최종 출력층 활성함수 필요 X, 회귀식의 해 그 자체가 답안\n",
    "model.compile(loss=\"mse\" ,optimizer=\"adam\", metrics=\"mse\")\n",
    "model.fit(x=X,y=y,batch_size = 5,epochs = 10)"
   ]
  },
  {
   "cell_type": "code",
   "execution_count": 19,
   "id": "86f196ba-c927-4aac-9b2b-9569f349155c",
   "metadata": {
    "tags": []
   },
   "outputs": [
    {
     "data": {
      "image/png": "[encoded data removed]",
      "text/plain": [
       "<Figure size 640x480 with 1 Axes>"
      ]
     },
     "metadata": {},
     "output_type": "display_data"
    }
   ],
   "source": [
    "mnist = tf.keras.datasets.mnist\n",
    "(x_train, y_train), (x_test, y_test) = mnist.load_data()\n",
    "x_train, x_test = x_train/255.0, x_test/255.0\n",
    "\n",
    "# tf.keras.initializers.RandomNormal 사용하기\n",
    "initializer1 = tf.keras.initializers.RandomNormal(mean=2.0, stddev=0.05, seed=None)\n",
    "initializer2 = tf.keras.initializers.RandomNormal(mean=-2.0, stddev=0.01, seed=None)\n",
    "\n",
    "model1 = tf.keras.models.Sequential([\n",
    "  tf.keras.layers.Flatten(input_shape=(28, 28)),\n",
    "  tf.keras.layers.Dense(512, activation=tf.nn.relu, use_bias=False, kernel_initializer=initializer1),\n",
    "  tf.keras.layers.Dense(10, activation=tf.nn.softmax, use_bias=False, kernel_initializer=initializer2)\n",
    "])\n",
    "\n",
    "weights = model1.get_weights()\n",
    "# print(weights)\n",
    "\n",
    "plt.hist(weights[0], bins=100, alpha=0.7, histtype='step')\n",
    "plt.hist(weights[1], bins=100, alpha=0.7, histtype='step')\n",
    "plt.show()\n",
    "# 은닉층 뒤로 갈수록 웨이트 편중되고 소실되는 특성이 있다"
   ]
  },
  {
   "cell_type": "code",
   "execution_count": 20,
   "id": "e6aeafdc-7cbf-42d9-854b-1a1a5f4c687c",
   "metadata": {
    "tags": []
   },
   "outputs": [
    {
     "data": {
      "image/png": "[encoded data removed]",
      "text/plain": [
       "<Figure size 640x480 with 1 Axes>"
      ]
     },
     "metadata": {},
     "output_type": "display_data"
    }
   ],
   "source": [
    "mnist = tf.keras.datasets.mnist\n",
    "(x_train, y_train), (x_test, y_test) = mnist.load_data()\n",
    "x_train, x_test = x_train/255.0, x_test/255.0\n",
    "\n",
    "# tf.keras.initializers.RandomNormal 사용하기\n",
    "initializer1 = tf.keras.initializers.RandomNormal(mean=-0.05, stddev=0.05, seed=None)\n",
    "initializer2 = tf.keras.initializers.RandomNormal(mean=-0.1, stddev=0.01, seed=None)\n",
    "\n",
    "model2 = tf.keras.models.Sequential([\n",
    "  tf.keras.layers.Flatten(input_shape=(28, 28)),\n",
    "  tf.keras.layers.Dense(512, activation=tf.nn.relu, use_bias=False, kernel_initializer=initializer1),\n",
    "  tf.keras.layers.Dense(10, activation=tf.nn.softmax, use_bias=False, kernel_initializer=initializer2)\n",
    "])\n",
    "\n",
    "weights = model2.get_weights()\n",
    "# print(weights)\n",
    "\n",
    "plt.hist(weights[0], bins=100, alpha=0.7, histtype='step')\n",
    "plt.hist(weights[1], bins=100, alpha=0.7, histtype='step')\n",
    "plt.show()\n",
    "# 웨이트 정규분포화 > 웨이트 골고루 > 다양하게 학습"
   ]
  },
  {
   "cell_type": "markdown",
   "id": "9dab6912-1f93-4760-a991-5215ef0037fa",
   "metadata": {},
   "source": [
    "ref : https://keras.io/api/models/model/"
   ]
  },
  {
   "cell_type": "markdown",
   "id": "80225d1a-aef9-4f02-a977-2f4a666798e2",
   "metadata": {},
   "source": [
    "### 모델 저장 & 불러오기"
   ]
  },
  {
   "cell_type": "markdown",
   "id": "440cb6cf-b27d-4b8c-9d14-59974ec98aa2",
   "metadata": {},
   "source": [
    "#### save() / save_weights()\n",
    "* fit 한 이후에 저장\n",
    "* save()         : 모델구조 + 보정된 w\n",
    "    - 바로 사용이 가능\n",
    "    - 저장 용량이 크다\n",
    "\n",
    "* save_weights() : 보정된 w \n",
    "    - 모델 구조를 알고 있어야만 사용\n",
    "    - 저장 용량이 적다\n"
   ]
  },
  {
   "cell_type": "markdown",
   "id": "d61ff330-3d2c-4288-846e-0200663071df",
   "metadata": {},
   "source": [
    "#### model + 가중치\n",
    "* model.save(\"aaa.h5\")\n",
    "* re_model = load_model(\"aaa.h5\")"
   ]
  },
  {
   "cell_type": "code",
   "execution_count": null,
   "id": "e5ef27d5-306c-42cb-8725-d391e2b15444",
   "metadata": {},
   "outputs": [],
   "source": []
  },
  {
   "cell_type": "code",
   "execution_count": 21,
   "id": "fe37cc9b-7edc-436a-92c5-13a76a0a762e",
   "metadata": {
    "tags": []
   },
   "outputs": [],
   "source": [
    "y = df[\"MEDV\"]\n",
    "X = df.drop(\"MEDV\", axis = 1)"
   ]
  },
  {
   "cell_type": "code",
   "execution_count": 22,
   "id": "b09bc891-f0a2-4710-80a5-b666f6a92841",
   "metadata": {
    "tags": []
   },
   "outputs": [
    {
     "data": {
      "text/plain": [
       "((455, 13), (51, 13), (455,), (51,))"
      ]
     },
     "execution_count": 22,
     "metadata": {},
     "output_type": "execute_result"
    }
   ],
   "source": [
    "X_train, X_test, y_train, y_test = train_test_split(X,y,test_size=0.1, random_state=1)\n",
    "X_train.shape, X_test.shape, y_train.shape, y_test.shape"
   ]
  },
  {
   "cell_type": "code",
   "execution_count": 23,
   "id": "bccf189e-0fc2-4aaf-ba84-188c8d58e309",
   "metadata": {
    "tags": []
   },
   "outputs": [
    {
     "name": "stdout",
     "output_type": "stream",
     "text": [
      "Epoch 1/50\n",
      "91/91 [==============================] - 1s 2ms/step - loss: 85.7957 - mse: 85.7957\n",
      "Epoch 2/50\n",
      "91/91 [==============================] - 0s 2ms/step - loss: 66.1607 - mse: 66.1607\n",
      "Epoch 3/50\n",
      "91/91 [==============================] - 0s 2ms/step - loss: 60.2283 - mse: 60.2283\n",
      "Epoch 4/50\n",
      "91/91 [==============================] - 0s 1ms/step - loss: 51.0279 - mse: 51.0279\n",
      "Epoch 5/50\n",
      "91/91 [==============================] - 0s 1ms/step - loss: 57.3111 - mse: 57.3111\n",
      "Epoch 6/50\n",
      "91/91 [==============================] - 0s 1ms/step - loss: 53.0064 - mse: 53.0064\n",
      "Epoch 7/50\n",
      "91/91 [==============================] - 0s 1ms/step - loss: 45.5223 - mse: 45.5223\n",
      "Epoch 8/50\n",
      "91/91 [==============================] - 0s 1ms/step - loss: 48.3127 - mse: 48.3127\n",
      "Epoch 9/50\n",
      "91/91 [==============================] - 0s 1ms/step - loss: 51.3517 - mse: 51.3517\n",
      "Epoch 10/50\n",
      "91/91 [==============================] - 0s 1ms/step - loss: 42.9767 - mse: 42.9767\n",
      "Epoch 11/50\n",
      "91/91 [==============================] - 0s 1ms/step - loss: 47.3998 - mse: 47.3998\n",
      "Epoch 12/50\n",
      "91/91 [==============================] - 0s 1ms/step - loss: 45.9162 - mse: 45.9162\n",
      "Epoch 13/50\n",
      "91/91 [==============================] - 0s 1ms/step - loss: 31.2604 - mse: 31.2604\n",
      "Epoch 14/50\n",
      "91/91 [==============================] - 0s 2ms/step - loss: 39.7951 - mse: 39.7951\n",
      "Epoch 15/50\n",
      "91/91 [==============================] - 0s 1ms/step - loss: 37.3805 - mse: 37.3805\n",
      "Epoch 16/50\n",
      "91/91 [==============================] - 0s 2ms/step - loss: 40.0349 - mse: 40.0349\n",
      "Epoch 17/50\n",
      "91/91 [==============================] - 0s 2ms/step - loss: 33.9553 - mse: 33.9553\n",
      "Epoch 18/50\n",
      "91/91 [==============================] - 0s 1ms/step - loss: 25.1557 - mse: 25.1557\n",
      "Epoch 19/50\n",
      "91/91 [==============================] - 0s 2ms/step - loss: 30.7797 - mse: 30.7797\n",
      "Epoch 20/50\n",
      "91/91 [==============================] - 0s 1ms/step - loss: 28.8990 - mse: 28.8990\n",
      "Epoch 21/50\n",
      "91/91 [==============================] - 0s 1ms/step - loss: 31.7825 - mse: 31.7825\n",
      "Epoch 22/50\n",
      "91/91 [==============================] - 0s 1ms/step - loss: 30.1098 - mse: 30.1098\n",
      "Epoch 23/50\n",
      "91/91 [==============================] - 0s 2ms/step - loss: 24.7255 - mse: 24.7255\n",
      "Epoch 24/50\n",
      "91/91 [==============================] - 0s 2ms/step - loss: 36.1821 - mse: 36.1821\n",
      "Epoch 25/50\n",
      "91/91 [==============================] - 0s 1ms/step - loss: 26.4744 - mse: 26.4744\n",
      "Epoch 26/50\n",
      "91/91 [==============================] - 0s 1ms/step - loss: 31.0841 - mse: 31.0841\n",
      "Epoch 27/50\n",
      "91/91 [==============================] - 0s 1ms/step - loss: 24.9318 - mse: 24.9318\n",
      "Epoch 28/50\n",
      "91/91 [==============================] - 0s 2ms/step - loss: 30.1154 - mse: 30.1154\n",
      "Epoch 29/50\n",
      "91/91 [==============================] - 0s 1ms/step - loss: 25.5342 - mse: 25.5342\n",
      "Epoch 30/50\n",
      "91/91 [==============================] - 0s 1ms/step - loss: 28.7647 - mse: 28.7647\n",
      "Epoch 31/50\n",
      "91/91 [==============================] - 0s 1ms/step - loss: 22.8324 - mse: 22.8324\n",
      "Epoch 32/50\n",
      "91/91 [==============================] - 0s 1ms/step - loss: 23.1521 - mse: 23.1521\n",
      "Epoch 33/50\n",
      "91/91 [==============================] - 0s 1ms/step - loss: 31.3597 - mse: 31.3597\n",
      "Epoch 34/50\n",
      "91/91 [==============================] - 0s 1ms/step - loss: 25.9032 - mse: 25.9032\n",
      "Epoch 35/50\n",
      "91/91 [==============================] - 0s 1ms/step - loss: 21.6712 - mse: 21.6712\n",
      "Epoch 36/50\n",
      "91/91 [==============================] - 0s 1ms/step - loss: 30.6870 - mse: 30.6870\n",
      "Epoch 37/50\n",
      "91/91 [==============================] - 0s 1ms/step - loss: 21.1344 - mse: 21.1344\n",
      "Epoch 38/50\n",
      "91/91 [==============================] - 0s 1ms/step - loss: 25.0041 - mse: 25.0041\n",
      "Epoch 39/50\n",
      "91/91 [==============================] - 0s 1ms/step - loss: 21.1997 - mse: 21.1997\n",
      "Epoch 40/50\n",
      "91/91 [==============================] - 0s 1ms/step - loss: 20.8651 - mse: 20.8651\n",
      "Epoch 41/50\n",
      "91/91 [==============================] - 0s 1ms/step - loss: 19.5734 - mse: 19.5734\n",
      "Epoch 42/50\n",
      "91/91 [==============================] - 0s 1ms/step - loss: 19.1583 - mse: 19.1583\n",
      "Epoch 43/50\n",
      "91/91 [==============================] - 0s 1ms/step - loss: 22.5870 - mse: 22.5870\n",
      "Epoch 44/50\n",
      "91/91 [==============================] - 0s 1ms/step - loss: 21.4819 - mse: 21.4819\n",
      "Epoch 45/50\n",
      "91/91 [==============================] - 0s 2ms/step - loss: 22.9816 - mse: 22.9816\n",
      "Epoch 46/50\n",
      "91/91 [==============================] - 0s 1ms/step - loss: 24.0631 - mse: 24.0631\n",
      "Epoch 47/50\n",
      "91/91 [==============================] - 0s 1ms/step - loss: 21.8937 - mse: 21.8937\n",
      "Epoch 48/50\n",
      "91/91 [==============================] - 0s 1ms/step - loss: 15.7818 - mse: 15.7818\n",
      "Epoch 49/50\n",
      "91/91 [==============================] - 0s 1ms/step - loss: 32.0559 - mse: 32.0559\n",
      "Epoch 50/50\n",
      "91/91 [==============================] - 0s 1ms/step - loss: 17.2111 - mse: 17.2111\n"
     ]
    },
    {
     "data": {
      "text/plain": [
       "<keras.callbacks.History at 0x27dbfa9b340>"
      ]
     },
     "execution_count": 23,
     "metadata": {},
     "output_type": "execute_result"
    }
   ],
   "source": [
    "model = Sequential()\n",
    "model.add(Dense(units=56, input_dim=len(X_train.columns), activation=\"relu\"))\n",
    "model.add(Dense(units=28, activation=\"relu\"))\n",
    "model.add(Dense(units=14, activation=\"relu\"))\n",
    "model.add(Dense(units=7, activation=\"relu\"))\n",
    "model.add(Dense(units=1))                                 # 최종 출력층 활성함수 필요 X, 회귀식의 해 그 자체가 답안\n",
    "model.compile(loss=\"mse\" ,optimizer=\"adam\", metrics=\"mse\")\n",
    "model.fit(x=X,y=y,batch_size = 5,epochs = 50,steps_per_epoch=91)"
   ]
  },
  {
   "cell_type": "code",
   "execution_count": 24,
   "id": "ef925302-4d66-4b75-a87c-f1bf0de748db",
   "metadata": {
    "tags": []
   },
   "outputs": [
    {
     "name": "stdout",
     "output_type": "stream",
     "text": [
      "2/2 [==============================] - 0s 5ms/step - loss: 16.4440 - mse: 16.4440\n",
      "2/2 [==============================] - 0s 4ms/step - loss: 16.4440 - mse: 16.4440\n"
     ]
    },
    {
     "data": {
      "text/plain": [
       "[16.44402503967285, 16.44402503967285]"
      ]
     },
     "execution_count": 24,
     "metadata": {},
     "output_type": "execute_result"
    }
   ],
   "source": [
    "from keras.models import load_model\n",
    "\n",
    "\n",
    "model.evaluate(X_test, y_test)\n",
    "model.save(\"./lec02_my_model.h5\")\n",
    "model.save_weights(\"./lec02_my_weight.h5\")\n",
    "re_model = load_model(\"./lec02_my_model.h5\")\n",
    "re_model.evaluate(X_test, y_test)"
   ]
  },
  {
   "cell_type": "markdown",
   "id": "75a3ba95-16f6-4e89-8931-7340d94292ff",
   "metadata": {},
   "source": [
    "#### 가중치\n",
    "* model.save_weights(\"my_weight\")\n",
    "* re_weights = load_weights(\"my_weight\")\n",
    "* model.set_weights(re_weights)"
   ]
  },
  {
   "cell_type": "code",
   "execution_count": 25,
   "id": "11fa91da-01fa-494b-81be-9cfa55fd25bd",
   "metadata": {
    "tags": []
   },
   "outputs": [
    {
     "name": "stdout",
     "output_type": "stream",
     "text": [
      "Epoch 1/50\n",
      "91/91 [==============================] - 1s 2ms/step - loss: 470.9099 - mse: 470.9099\n",
      "Epoch 2/50\n",
      "91/91 [==============================] - 0s 1ms/step - loss: 96.0207 - mse: 96.0207\n",
      "Epoch 3/50\n",
      "91/91 [==============================] - 0s 1ms/step - loss: 69.8296 - mse: 69.8296\n",
      "Epoch 4/50\n",
      "91/91 [==============================] - 0s 1ms/step - loss: 61.6557 - mse: 61.6557\n",
      "Epoch 5/50\n",
      "91/91 [==============================] - 0s 1ms/step - loss: 66.0880 - mse: 66.0880\n",
      "Epoch 6/50\n",
      "91/91 [==============================] - 0s 1ms/step - loss: 58.2824 - mse: 58.2824\n",
      "Epoch 7/50\n",
      "91/91 [==============================] - 0s 1ms/step - loss: 53.5481 - mse: 53.5481\n",
      "Epoch 8/50\n",
      "91/91 [==============================] - 0s 2ms/step - loss: 58.3733 - mse: 58.3733\n",
      "Epoch 9/50\n",
      "91/91 [==============================] - 0s 2ms/step - loss: 55.4490 - mse: 55.4490\n",
      "Epoch 10/50\n",
      "91/91 [==============================] - 0s 1ms/step - loss: 51.4384 - mse: 51.4384\n",
      "Epoch 11/50\n",
      "91/91 [==============================] - 0s 1ms/step - loss: 55.9794 - mse: 55.9794\n",
      "Epoch 12/50\n",
      "91/91 [==============================] - 0s 1ms/step - loss: 57.3848 - mse: 57.3848\n",
      "Epoch 13/50\n",
      "91/91 [==============================] - 0s 2ms/step - loss: 38.3410 - mse: 38.3410\n",
      "Epoch 14/50\n",
      "91/91 [==============================] - 0s 1ms/step - loss: 49.8919 - mse: 49.8919\n",
      "Epoch 15/50\n",
      "91/91 [==============================] - 0s 1ms/step - loss: 48.1025 - mse: 48.1025\n",
      "Epoch 16/50\n",
      "91/91 [==============================] - 0s 1ms/step - loss: 48.2119 - mse: 48.2119\n",
      "Epoch 17/50\n",
      "91/91 [==============================] - 0s 1ms/step - loss: 42.9755 - mse: 42.9755\n",
      "Epoch 18/50\n",
      "91/91 [==============================] - 0s 1ms/step - loss: 33.5265 - mse: 33.5265\n",
      "Epoch 19/50\n",
      "91/91 [==============================] - 0s 1ms/step - loss: 42.1726 - mse: 42.1726\n",
      "Epoch 20/50\n",
      "91/91 [==============================] - 0s 1ms/step - loss: 39.6920 - mse: 39.6920\n",
      "Epoch 21/50\n",
      "91/91 [==============================] - 0s 1ms/step - loss: 34.9975 - mse: 34.9975\n",
      "Epoch 22/50\n",
      "91/91 [==============================] - 0s 1ms/step - loss: 34.1936 - mse: 34.1936\n",
      "Epoch 23/50\n",
      "91/91 [==============================] - 0s 1ms/step - loss: 31.3066 - mse: 31.3066\n",
      "Epoch 24/50\n",
      "91/91 [==============================] - 0s 1ms/step - loss: 39.4241 - mse: 39.4241\n",
      "Epoch 25/50\n",
      "91/91 [==============================] - 0s 1ms/step - loss: 31.7126 - mse: 31.7126\n",
      "Epoch 26/50\n",
      "91/91 [==============================] - 0s 1ms/step - loss: 30.4485 - mse: 30.4485\n",
      "Epoch 27/50\n",
      "91/91 [==============================] - 0s 1ms/step - loss: 31.2845 - mse: 31.2845\n",
      "Epoch 28/50\n",
      "91/91 [==============================] - 0s 1ms/step - loss: 31.6745 - mse: 31.6745\n",
      "Epoch 29/50\n",
      "91/91 [==============================] - 0s 2ms/step - loss: 28.3342 - mse: 28.3342\n",
      "Epoch 30/50\n",
      "91/91 [==============================] - 0s 1ms/step - loss: 32.8005 - mse: 32.8005\n",
      "Epoch 31/50\n",
      "91/91 [==============================] - 0s 1ms/step - loss: 29.6990 - mse: 29.6990\n",
      "Epoch 32/50\n",
      "91/91 [==============================] - 0s 1ms/step - loss: 27.5316 - mse: 27.5316\n",
      "Epoch 33/50\n",
      "91/91 [==============================] - 0s 1ms/step - loss: 27.8456 - mse: 27.8456\n",
      "Epoch 34/50\n",
      "91/91 [==============================] - 0s 1ms/step - loss: 27.0243 - mse: 27.0243\n",
      "Epoch 35/50\n",
      "91/91 [==============================] - 0s 1ms/step - loss: 26.2085 - mse: 26.2085\n",
      "Epoch 36/50\n",
      "91/91 [==============================] - 0s 1ms/step - loss: 29.1736 - mse: 29.1736\n",
      "Epoch 37/50\n",
      "91/91 [==============================] - 0s 1ms/step - loss: 22.1334 - mse: 22.1334\n",
      "Epoch 38/50\n",
      "91/91 [==============================] - 0s 1ms/step - loss: 24.8085 - mse: 24.8085\n",
      "Epoch 39/50\n",
      "91/91 [==============================] - 0s 1ms/step - loss: 23.0293 - mse: 23.0293\n",
      "Epoch 40/50\n",
      "91/91 [==============================] - 0s 1ms/step - loss: 22.5468 - mse: 22.5468\n",
      "Epoch 41/50\n",
      "91/91 [==============================] - 0s 1ms/step - loss: 21.0933 - mse: 21.0933\n",
      "Epoch 42/50\n",
      "91/91 [==============================] - 0s 1ms/step - loss: 20.3369 - mse: 20.3369\n",
      "Epoch 43/50\n",
      "91/91 [==============================] - 0s 1ms/step - loss: 22.8253 - mse: 22.8253\n",
      "Epoch 44/50\n",
      "91/91 [==============================] - 0s 1ms/step - loss: 22.6715 - mse: 22.6715\n",
      "Epoch 45/50\n",
      "91/91 [==============================] - 0s 1ms/step - loss: 23.7526 - mse: 23.7526\n",
      "Epoch 46/50\n",
      "91/91 [==============================] - 0s 1ms/step - loss: 24.5285 - mse: 24.5285\n",
      "Epoch 47/50\n",
      "91/91 [==============================] - 0s 1ms/step - loss: 21.7982 - mse: 21.7982\n",
      "Epoch 48/50\n",
      "91/91 [==============================] - 0s 1ms/step - loss: 17.4913 - mse: 17.4913\n",
      "Epoch 49/50\n",
      "91/91 [==============================] - 0s 1ms/step - loss: 25.7805 - mse: 25.7805\n",
      "Epoch 50/50\n",
      "91/91 [==============================] - 0s 1ms/step - loss: 17.8381 - mse: 17.8381\n",
      "2/2 [==============================] - 0s 4ms/step - loss: 16.4440 - mse: 16.4440\n"
     ]
    },
    {
     "data": {
      "text/plain": [
       "[16.44402503967285, 16.44402503967285]"
      ]
     },
     "execution_count": 25,
     "metadata": {},
     "output_type": "execute_result"
    }
   ],
   "source": [
    "model = Sequential()\n",
    "model.add(Dense(units=56, input_dim=len(X_train.columns), activation=\"relu\"))\n",
    "model.add(Dense(units=28, activation=\"relu\"))\n",
    "model.add(Dense(units=14, activation=\"relu\"))\n",
    "model.add(Dense(units=7, activation=\"relu\"))\n",
    "model.add(Dense(units=1))                                 # 최종 출력층 활성함수 필요 X, 회귀식의 해 그 자체가 답안\n",
    "model.compile(loss=\"mse\" ,optimizer=\"adam\", metrics=\"mse\")\n",
    "model.fit(x=X,y=y,batch_size = 5,epochs = 50,steps_per_epoch=91)\n",
    "\n",
    "\n",
    "model.load_weights(\"./lec02_my_weight.h5\")\n",
    "model.evaluate(X_test, y_test)"
   ]
  },
  {
   "cell_type": "markdown",
   "id": "ae7db03d-5085-4c44-ba5e-e8f8ccf98356",
   "metadata": {},
   "source": [
    "## fit()"
   ]
  },
  {
   "cell_type": "markdown",
   "id": "b4e4bdd2-ce37-46d8-a092-ae62cfb95a63",
   "metadata": {
    "tags": []
   },
   "source": [
    "<pre>\n",
    "Model.fit(\n",
    "    x=None,                     : 문제지\n",
    "    y=None,                     : 답안지\n",
    "    \n",
    "    batch_size=20,              : 역전파 횟수 <b>(회귀계수 보정 단위) </b>\n",
    "    initial_epoch=0,            : epoch 시작 횟수(거의 변경 X)\n",
    "    epochs=3,                   : <b>학습 반복 횟수</b>\n",
    "    steps_per_epoch=None,       : <b>샘플수/batch_size (최대 회귀계수 보정 횟수)</b>\n",
    "    \n",
    "    verbose=\"auto\",       \n",
    "    callbacks=None,             : <b>(stop, save) // (overfitting 나면, 여러 사유로 학습이 중단되면)</b>\n",
    "    \n",
    "    \n",
    "    validation_split=0.2,       : 0.2% 검증에 사용 \n",
    "    validation_data=None,       : validation_split OR validation_data 둘 중에 하나만 사용\n",
    "    validation_batch_size=None, (=batch_size)\n",
    "    validation_steps=None,      (steps_per_epoch)\n",
    "    validation_freq=1,\n",
    "    \n",
    "    \n",
    "    shuffle=True,\n",
    "    class_weight=None, \n",
    "    sample_weight=None,\n",
    "\n",
    "    \n",
    "    max_queue_size=10,\n",
    "    workers=1,\n",
    "    use_multiprocessing=False,\n",
    ")"
   ]
  },
  {
   "cell_type": "code",
   "execution_count": null,
   "id": "05f64578-e760-42d1-970e-bddc81d7ffae",
   "metadata": {},
   "outputs": [],
   "source": []
  },
  {
   "cell_type": "markdown",
   "id": "22fbdb1c-40ae-434b-9831-8c1516b7e430",
   "metadata": {},
   "source": [
    "### batch_size, epochs 조정(train만)"
   ]
  },
  {
   "cell_type": "code",
   "execution_count": 26,
   "id": "e6cdaf51-70d3-4b36-b6a5-6c489a26e706",
   "metadata": {
    "tags": []
   },
   "outputs": [
    {
     "name": "stdout",
     "output_type": "stream",
     "text": [
      "Epoch 1/50\n",
      "91/91 [==============================] - 1s 1ms/step - loss: 22.5450 - mse: 22.5450\n",
      "Epoch 2/50\n",
      "91/91 [==============================] - 0s 1ms/step - loss: 22.2191 - mse: 22.2191\n",
      "Epoch 3/50\n",
      "91/91 [==============================] - 0s 1ms/step - loss: 22.6790 - mse: 22.6790\n",
      "Epoch 4/50\n",
      "91/91 [==============================] - 0s 1ms/step - loss: 16.8592 - mse: 16.8592\n",
      "Epoch 5/50\n",
      "91/91 [==============================] - 0s 1ms/step - loss: 22.8089 - mse: 22.8089\n",
      "Epoch 6/50\n",
      "91/91 [==============================] - 0s 1ms/step - loss: 21.5589 - mse: 21.5589\n",
      "Epoch 7/50\n",
      "91/91 [==============================] - 0s 1ms/step - loss: 16.7768 - mse: 16.7768\n",
      "Epoch 8/50\n",
      "91/91 [==============================] - 0s 1ms/step - loss: 17.0601 - mse: 17.0601\n",
      "Epoch 9/50\n",
      "91/91 [==============================] - 0s 1ms/step - loss: 24.5956 - mse: 24.5956\n",
      "Epoch 10/50\n",
      "91/91 [==============================] - 0s 1ms/step - loss: 21.2714 - mse: 21.2714\n",
      "Epoch 11/50\n",
      "91/91 [==============================] - 0s 1ms/step - loss: 24.1492 - mse: 24.1492\n",
      "Epoch 12/50\n",
      "91/91 [==============================] - 0s 1ms/step - loss: 18.5270 - mse: 18.5270\n",
      "Epoch 13/50\n",
      "91/91 [==============================] - 0s 1ms/step - loss: 15.5303 - mse: 15.5303\n",
      "Epoch 14/50\n",
      "91/91 [==============================] - 0s 2ms/step - loss: 22.0241 - mse: 22.0241\n",
      "Epoch 15/50\n",
      "91/91 [==============================] - 0s 1ms/step - loss: 21.5511 - mse: 21.5511\n",
      "Epoch 16/50\n",
      "91/91 [==============================] - 0s 1ms/step - loss: 19.4489 - mse: 19.4489\n",
      "Epoch 17/50\n",
      "91/91 [==============================] - 0s 2ms/step - loss: 20.6027 - mse: 20.6027\n",
      "Epoch 18/50\n",
      "91/91 [==============================] - 0s 2ms/step - loss: 14.9146 - mse: 14.9146\n",
      "Epoch 19/50\n",
      "91/91 [==============================] - 0s 1ms/step - loss: 19.9997 - mse: 19.9997\n",
      "Epoch 20/50\n",
      "91/91 [==============================] - 0s 1ms/step - loss: 19.1505 - mse: 19.1505\n",
      "Epoch 21/50\n",
      "91/91 [==============================] - 0s 1ms/step - loss: 20.6747 - mse: 20.6747\n",
      "Epoch 22/50\n",
      "91/91 [==============================] - 0s 1ms/step - loss: 20.6996 - mse: 20.6996\n",
      "Epoch 23/50\n",
      "91/91 [==============================] - 0s 1ms/step - loss: 15.6726 - mse: 15.6726\n",
      "Epoch 24/50\n",
      "91/91 [==============================] - 0s 1ms/step - loss: 27.5982 - mse: 27.5982\n",
      "Epoch 25/50\n",
      "91/91 [==============================] - 0s 1ms/step - loss: 20.6460 - mse: 20.6460\n",
      "Epoch 26/50\n",
      "91/91 [==============================] - 0s 1ms/step - loss: 21.1762 - mse: 21.1762\n",
      "Epoch 27/50\n",
      "91/91 [==============================] - 0s 1ms/step - loss: 19.9205 - mse: 19.9205\n",
      "Epoch 28/50\n",
      "91/91 [==============================] - 0s 1ms/step - loss: 21.6155 - mse: 21.6155\n",
      "Epoch 29/50\n",
      "91/91 [==============================] - 0s 1ms/step - loss: 19.0476 - mse: 19.0476\n",
      "Epoch 30/50\n",
      "91/91 [==============================] - 0s 1ms/step - loss: 23.5044 - mse: 23.5044\n",
      "Epoch 31/50\n",
      "91/91 [==============================] - 0s 1ms/step - loss: 19.0881 - mse: 19.0881\n",
      "Epoch 32/50\n",
      "91/91 [==============================] - 0s 1ms/step - loss: 23.1027 - mse: 23.1027\n",
      "Epoch 33/50\n",
      "91/91 [==============================] - 0s 1ms/step - loss: 24.0939 - mse: 24.0939\n",
      "Epoch 34/50\n",
      "91/91 [==============================] - 0s 1ms/step - loss: 17.3594 - mse: 17.3594\n",
      "Epoch 35/50\n",
      "91/91 [==============================] - 0s 1ms/step - loss: 17.8190 - mse: 17.8190\n",
      "Epoch 36/50\n",
      "91/91 [==============================] - 0s 1ms/step - loss: 24.1777 - mse: 24.1777\n",
      "Epoch 37/50\n",
      "91/91 [==============================] - 0s 1ms/step - loss: 17.7442 - mse: 17.7442\n",
      "Epoch 38/50\n",
      "91/91 [==============================] - 0s 1ms/step - loss: 20.8484 - mse: 20.8484\n",
      "Epoch 39/50\n",
      "91/91 [==============================] - 0s 1ms/step - loss: 16.8051 - mse: 16.8051\n",
      "Epoch 40/50\n",
      "91/91 [==============================] - 0s 1ms/step - loss: 17.1169 - mse: 17.1169\n",
      "Epoch 41/50\n",
      "91/91 [==============================] - 0s 1ms/step - loss: 15.6754 - mse: 15.6754\n",
      "Epoch 42/50\n",
      "91/91 [==============================] - 0s 1ms/step - loss: 14.9709 - mse: 14.9709\n",
      "Epoch 43/50\n",
      "91/91 [==============================] - 0s 1ms/step - loss: 18.2291 - mse: 18.2291\n",
      "Epoch 44/50\n",
      "91/91 [==============================] - 0s 1ms/step - loss: 18.2208 - mse: 18.2208\n",
      "Epoch 45/50\n",
      "91/91 [==============================] - 0s 1ms/step - loss: 20.0110 - mse: 20.0110\n",
      "Epoch 46/50\n",
      "91/91 [==============================] - 0s 1ms/step - loss: 18.9346 - mse: 18.9346\n",
      "Epoch 47/50\n",
      "91/91 [==============================] - 0s 2ms/step - loss: 18.1890 - mse: 18.1890\n",
      "Epoch 48/50\n",
      "91/91 [==============================] - 0s 1ms/step - loss: 12.3742 - mse: 12.3742\n",
      "Epoch 49/50\n",
      "91/91 [==============================] - 0s 1ms/step - loss: 28.6351 - mse: 28.6351\n",
      "Epoch 50/50\n",
      "91/91 [==============================] - 0s 1ms/step - loss: 17.7675 - mse: 17.7675\n"
     ]
    },
    {
     "data": {
      "text/plain": [
       "<keras.callbacks.History at 0x27dc1460c10>"
      ]
     },
     "execution_count": 26,
     "metadata": {},
     "output_type": "execute_result"
    }
   ],
   "source": [
    "model = load_model(\"./lec02_my_model.h5\")\n",
    "model.fit(x=X,y=y,batch_size = 5,epochs = 50,steps_per_epoch=91)\n",
    "# X,y 통째로 넣고 train점수만 본다 >> 오버피팅 확인 불가"
   ]
  },
  {
   "cell_type": "markdown",
   "id": "ff561ad1-5995-4e58-b549-4a1d64708415",
   "metadata": {},
   "source": [
    "### batch_size, epochs 조정(train + test)\n",
    "* 어느 정도 일반화 학습"
   ]
  },
  {
   "cell_type": "code",
   "execution_count": 27,
   "id": "dfdfb5d8-cc87-4958-a2c2-a969c991893d",
   "metadata": {
    "tags": []
   },
   "outputs": [
    {
     "name": "stdout",
     "output_type": "stream",
     "text": [
      "Epoch 1/50\n",
      "91/91 [==============================] - 0s 3ms/step - loss: 19.2768 - mse: 19.2768 - val_loss: 14.6889 - val_mse: 14.6889\n",
      "Epoch 2/50\n",
      "91/91 [==============================] - 0s 2ms/step - loss: 20.4933 - mse: 20.4933 - val_loss: 15.7033 - val_mse: 15.7033\n",
      "Epoch 3/50\n",
      "91/91 [==============================] - 0s 2ms/step - loss: 17.8378 - mse: 17.8378 - val_loss: 14.3440 - val_mse: 14.3440\n",
      "Epoch 4/50\n",
      "91/91 [==============================] - 0s 2ms/step - loss: 21.3150 - mse: 21.3150 - val_loss: 14.2294 - val_mse: 14.2294\n",
      "Epoch 5/50\n",
      "91/91 [==============================] - 0s 2ms/step - loss: 17.9293 - mse: 17.9293 - val_loss: 15.6686 - val_mse: 15.6686\n",
      "Epoch 6/50\n",
      "91/91 [==============================] - 0s 2ms/step - loss: 24.0893 - mse: 24.0893 - val_loss: 13.2772 - val_mse: 13.2772\n",
      "Epoch 7/50\n",
      "91/91 [==============================] - 0s 2ms/step - loss: 16.0270 - mse: 16.0270 - val_loss: 14.4661 - val_mse: 14.4661\n",
      "Epoch 8/50\n",
      "91/91 [==============================] - 0s 2ms/step - loss: 22.4084 - mse: 22.4084 - val_loss: 11.8432 - val_mse: 11.8432\n",
      "Epoch 9/50\n",
      "91/91 [==============================] - 0s 2ms/step - loss: 19.6548 - mse: 19.6548 - val_loss: 12.0553 - val_mse: 12.0553\n",
      "Epoch 10/50\n",
      "91/91 [==============================] - 0s 2ms/step - loss: 17.1516 - mse: 17.1516 - val_loss: 12.3534 - val_mse: 12.3534\n",
      "Epoch 11/50\n",
      "91/91 [==============================] - 0s 2ms/step - loss: 21.4024 - mse: 21.4024 - val_loss: 12.4026 - val_mse: 12.4026\n",
      "Epoch 12/50\n",
      "91/91 [==============================] - 0s 2ms/step - loss: 19.3778 - mse: 19.3778 - val_loss: 12.0989 - val_mse: 12.0989\n",
      "Epoch 13/50\n",
      "91/91 [==============================] - 0s 2ms/step - loss: 15.2934 - mse: 15.2934 - val_loss: 13.5106 - val_mse: 13.5106\n",
      "Epoch 14/50\n",
      "91/91 [==============================] - 0s 2ms/step - loss: 20.0306 - mse: 20.0306 - val_loss: 25.4693 - val_mse: 25.4693\n",
      "Epoch 15/50\n",
      "91/91 [==============================] - 0s 2ms/step - loss: 23.3975 - mse: 23.3975 - val_loss: 38.3988 - val_mse: 38.3988\n",
      "Epoch 16/50\n",
      "91/91 [==============================] - 0s 2ms/step - loss: 19.2327 - mse: 19.2327 - val_loss: 12.3478 - val_mse: 12.3478\n",
      "Epoch 17/50\n",
      "91/91 [==============================] - 0s 2ms/step - loss: 16.5260 - mse: 16.5260 - val_loss: 16.4115 - val_mse: 16.4115\n",
      "Epoch 18/50\n",
      "91/91 [==============================] - 0s 2ms/step - loss: 14.9311 - mse: 14.9311 - val_loss: 16.2967 - val_mse: 16.2967\n",
      "Epoch 19/50\n",
      "91/91 [==============================] - 0s 2ms/step - loss: 16.8641 - mse: 16.8641 - val_loss: 15.7299 - val_mse: 15.7299\n",
      "Epoch 20/50\n",
      "91/91 [==============================] - 0s 2ms/step - loss: 18.3467 - mse: 18.3467 - val_loss: 20.0821 - val_mse: 20.0821\n",
      "Epoch 21/50\n",
      "91/91 [==============================] - 0s 2ms/step - loss: 13.8069 - mse: 13.8069 - val_loss: 18.4306 - val_mse: 18.4306\n",
      "Epoch 22/50\n",
      "91/91 [==============================] - 0s 2ms/step - loss: 25.1524 - mse: 25.1524 - val_loss: 23.8289 - val_mse: 23.8289\n",
      "Epoch 23/50\n",
      "91/91 [==============================] - 0s 2ms/step - loss: 15.9396 - mse: 15.9396 - val_loss: 21.9463 - val_mse: 21.9463\n",
      "Epoch 24/50\n",
      "91/91 [==============================] - 0s 2ms/step - loss: 16.3964 - mse: 16.3964 - val_loss: 17.5547 - val_mse: 17.5547\n",
      "Epoch 25/50\n",
      "91/91 [==============================] - 0s 2ms/step - loss: 19.7049 - mse: 19.7049 - val_loss: 53.1903 - val_mse: 53.1903\n",
      "Epoch 26/50\n",
      "91/91 [==============================] - 0s 2ms/step - loss: 19.2027 - mse: 19.2027 - val_loss: 37.0196 - val_mse: 37.0196\n",
      "Epoch 27/50\n",
      "91/91 [==============================] - 0s 2ms/step - loss: 17.5281 - mse: 17.5281 - val_loss: 19.9012 - val_mse: 19.9012\n",
      "Epoch 28/50\n",
      "91/91 [==============================] - 0s 2ms/step - loss: 15.0842 - mse: 15.0842 - val_loss: 17.3976 - val_mse: 17.3976\n",
      "Epoch 29/50\n",
      "91/91 [==============================] - 0s 2ms/step - loss: 18.6465 - mse: 18.6465 - val_loss: 17.4928 - val_mse: 17.4928\n",
      "Epoch 30/50\n",
      "91/91 [==============================] - 0s 2ms/step - loss: 16.4253 - mse: 16.4253 - val_loss: 12.4229 - val_mse: 12.4229\n",
      "Epoch 31/50\n",
      "91/91 [==============================] - 0s 2ms/step - loss: 17.4538 - mse: 17.4538 - val_loss: 15.8764 - val_mse: 15.8764\n",
      "Epoch 32/50\n",
      "91/91 [==============================] - 0s 2ms/step - loss: 17.4455 - mse: 17.4455 - val_loss: 19.4743 - val_mse: 19.4743\n",
      "Epoch 33/50\n",
      "91/91 [==============================] - 0s 2ms/step - loss: 15.7004 - mse: 15.7004 - val_loss: 16.3064 - val_mse: 16.3064\n",
      "Epoch 34/50\n",
      "91/91 [==============================] - 0s 2ms/step - loss: 17.4787 - mse: 17.4787 - val_loss: 28.8301 - val_mse: 28.8301\n",
      "Epoch 35/50\n",
      "91/91 [==============================] - 0s 2ms/step - loss: 18.9686 - mse: 18.9686 - val_loss: 30.2998 - val_mse: 30.2998\n",
      "Epoch 36/50\n",
      "91/91 [==============================] - 0s 2ms/step - loss: 15.4058 - mse: 15.4058 - val_loss: 24.0375 - val_mse: 24.0375\n",
      "Epoch 37/50\n",
      "91/91 [==============================] - 0s 2ms/step - loss: 19.9009 - mse: 19.9009 - val_loss: 15.8377 - val_mse: 15.8377\n",
      "Epoch 38/50\n",
      "91/91 [==============================] - 0s 2ms/step - loss: 17.1643 - mse: 17.1643 - val_loss: 17.8581 - val_mse: 17.8581\n",
      "Epoch 39/50\n",
      "91/91 [==============================] - 0s 2ms/step - loss: 13.5848 - mse: 13.5848 - val_loss: 20.3825 - val_mse: 20.3825\n",
      "Epoch 40/50\n",
      "91/91 [==============================] - 0s 2ms/step - loss: 16.4746 - mse: 16.4746 - val_loss: 21.6942 - val_mse: 21.6942\n",
      "Epoch 41/50\n",
      "91/91 [==============================] - 0s 2ms/step - loss: 15.4947 - mse: 15.4947 - val_loss: 19.0249 - val_mse: 19.0249\n",
      "Epoch 42/50\n",
      "91/91 [==============================] - 0s 2ms/step - loss: 16.2159 - mse: 16.2159 - val_loss: 24.0057 - val_mse: 24.0057\n",
      "Epoch 43/50\n",
      "91/91 [==============================] - 0s 2ms/step - loss: 17.0911 - mse: 17.0911 - val_loss: 17.6636 - val_mse: 17.6636\n",
      "Epoch 44/50\n",
      "91/91 [==============================] - 0s 2ms/step - loss: 15.1595 - mse: 15.1595 - val_loss: 13.1843 - val_mse: 13.1843\n",
      "Epoch 45/50\n",
      "34/91 [==========>...................] - ETA: 0s - loss: 18.4532 - mse: 18.4532WARNING:tensorflow:Your input ran out of data; interrupting training. Make sure that your dataset or generator can generate at least `steps_per_epoch * epochs` batches (in this case, 4550 batches). You may need to use the repeat() function when building your dataset.\n",
      "91/91 [==============================] - 2s 20ms/step - loss: 16.2073 - mse: 16.2073 - val_loss: 16.8904 - val_mse: 16.8904\n"
     ]
    },
    {
     "data": {
      "text/plain": [
       "<keras.callbacks.History at 0x27dc1512880>"
      ]
     },
     "execution_count": 27,
     "metadata": {},
     "output_type": "execute_result"
    }
   ],
   "source": [
    "model.fit(x=X,y=y,validation_split=0.2, batch_size = 5,epochs = 50,steps_per_epoch=91)\n",
    "# validation 점수도 확인 가능\n",
    "# model.fit(x=X_train,y=y_,validation_data=(X_train, X_test), batch_size = 5,epochs = 50,steps_per_epoch=91)\n"
   ]
  },
  {
   "cell_type": "markdown",
   "id": "478908ae-2bac-4aca-a5c3-a2270b8303b6",
   "metadata": {},
   "source": [
    "### learning_rate 조정\n",
    "* optimizer 속성\n",
    "* wt+1=wt−γ⋅∇L(wt) >> γ로 표현 / 얼만큼 학습할지 또는 산을 내려가는 비유에서는 한 걸음 보폭을 얼만큼으로 할지를 나타내는 learning rate입니다."
   ]
  },
  {
   "cell_type": "code",
   "execution_count": 28,
   "id": "d43e379d-ee19-4a30-8bd2-14b375e012b0",
   "metadata": {
    "tags": []
   },
   "outputs": [
    {
     "name": "stdout",
     "output_type": "stream",
     "text": [
      "Epoch 1/50\n",
      "91/91 [==============================] - 1s 3ms/step - loss: 16.4205 - mse: 16.4205 - val_loss: 19.7350 - val_mse: 19.7350\n",
      "Epoch 2/50\n",
      "91/91 [==============================] - 0s 2ms/step - loss: 16.0145 - mse: 16.0145 - val_loss: 20.6317 - val_mse: 20.6317\n",
      "Epoch 3/50\n",
      "91/91 [==============================] - 0s 2ms/step - loss: 15.6476 - mse: 15.6476 - val_loss: 19.3311 - val_mse: 19.3311\n",
      "Epoch 4/50\n",
      "91/91 [==============================] - 0s 2ms/step - loss: 19.8004 - mse: 19.8004 - val_loss: 27.0306 - val_mse: 27.0306\n",
      "Epoch 5/50\n",
      "91/91 [==============================] - 0s 2ms/step - loss: 16.4408 - mse: 16.4408 - val_loss: 21.8180 - val_mse: 21.8180\n",
      "Epoch 6/50\n",
      "91/91 [==============================] - 0s 2ms/step - loss: 20.7258 - mse: 20.7258 - val_loss: 17.4218 - val_mse: 17.4218\n",
      "Epoch 7/50\n",
      "91/91 [==============================] - 0s 2ms/step - loss: 13.3810 - mse: 13.3810 - val_loss: 13.3595 - val_mse: 13.3595\n",
      "Epoch 8/50\n",
      "91/91 [==============================] - 0s 2ms/step - loss: 18.9878 - mse: 18.9878 - val_loss: 15.0116 - val_mse: 15.0116\n",
      "Epoch 9/50\n",
      "91/91 [==============================] - 0s 2ms/step - loss: 15.9920 - mse: 15.9920 - val_loss: 15.2699 - val_mse: 15.2699\n",
      "Epoch 10/50\n",
      "91/91 [==============================] - 0s 2ms/step - loss: 14.3983 - mse: 14.3983 - val_loss: 19.2658 - val_mse: 19.2658\n",
      "Epoch 11/50\n",
      "91/91 [==============================] - 0s 2ms/step - loss: 19.6528 - mse: 19.6528 - val_loss: 15.5541 - val_mse: 15.5541\n",
      "Epoch 12/50\n",
      "91/91 [==============================] - 0s 2ms/step - loss: 18.1879 - mse: 18.1879 - val_loss: 17.1496 - val_mse: 17.1496\n",
      "Epoch 13/50\n",
      "91/91 [==============================] - 0s 2ms/step - loss: 13.1494 - mse: 13.1494 - val_loss: 14.7299 - val_mse: 14.7299\n",
      "Epoch 14/50\n",
      "91/91 [==============================] - 0s 2ms/step - loss: 17.0579 - mse: 17.0579 - val_loss: 27.3690 - val_mse: 27.3690\n",
      "Epoch 15/50\n",
      "91/91 [==============================] - 0s 2ms/step - loss: 20.8690 - mse: 20.8690 - val_loss: 47.8736 - val_mse: 47.8736\n",
      "Epoch 16/50\n",
      "91/91 [==============================] - 0s 2ms/step - loss: 16.8221 - mse: 16.8221 - val_loss: 22.5365 - val_mse: 22.5365\n",
      "Epoch 17/50\n",
      "91/91 [==============================] - 0s 2ms/step - loss: 15.2511 - mse: 15.2511 - val_loss: 22.3957 - val_mse: 22.3957\n",
      "Epoch 18/50\n",
      "91/91 [==============================] - 0s 2ms/step - loss: 12.8613 - mse: 12.8613 - val_loss: 22.1213 - val_mse: 22.1213\n",
      "Epoch 19/50\n",
      "91/91 [==============================] - 0s 2ms/step - loss: 13.8079 - mse: 13.8079 - val_loss: 17.9409 - val_mse: 17.9409\n",
      "Epoch 20/50\n",
      "91/91 [==============================] - 0s 2ms/step - loss: 16.3511 - mse: 16.3511 - val_loss: 33.3554 - val_mse: 33.3554\n",
      "Epoch 21/50\n",
      "91/91 [==============================] - 0s 2ms/step - loss: 12.2891 - mse: 12.2891 - val_loss: 21.6650 - val_mse: 21.6650\n",
      "Epoch 22/50\n",
      "91/91 [==============================] - 0s 2ms/step - loss: 19.4399 - mse: 19.4399 - val_loss: 22.2938 - val_mse: 22.2938\n",
      "Epoch 23/50\n",
      "91/91 [==============================] - 0s 2ms/step - loss: 13.8418 - mse: 13.8418 - val_loss: 19.8920 - val_mse: 19.8920\n",
      "Epoch 24/50\n",
      "91/91 [==============================] - 0s 2ms/step - loss: 14.2203 - mse: 14.2203 - val_loss: 17.2016 - val_mse: 17.2016\n",
      "Epoch 25/50\n",
      "91/91 [==============================] - 0s 2ms/step - loss: 16.7948 - mse: 16.7948 - val_loss: 66.1962 - val_mse: 66.1962\n",
      "Epoch 26/50\n",
      "91/91 [==============================] - 0s 2ms/step - loss: 16.2762 - mse: 16.2762 - val_loss: 39.8750 - val_mse: 39.8750\n",
      "Epoch 27/50\n",
      "91/91 [==============================] - 0s 2ms/step - loss: 14.3179 - mse: 14.3179 - val_loss: 27.5810 - val_mse: 27.5810\n",
      "Epoch 28/50\n",
      "91/91 [==============================] - 0s 2ms/step - loss: 13.2488 - mse: 13.2488 - val_loss: 21.0863 - val_mse: 21.0863\n",
      "Epoch 29/50\n",
      "91/91 [==============================] - 0s 2ms/step - loss: 16.9867 - mse: 16.9867 - val_loss: 34.0462 - val_mse: 34.0462\n",
      "Epoch 30/50\n",
      "91/91 [==============================] - 0s 2ms/step - loss: 13.5762 - mse: 13.5762 - val_loss: 13.7360 - val_mse: 13.7360\n",
      "Epoch 31/50\n",
      "91/91 [==============================] - 0s 2ms/step - loss: 14.6193 - mse: 14.6193 - val_loss: 13.5036 - val_mse: 13.5036\n",
      "Epoch 32/50\n",
      "91/91 [==============================] - 0s 2ms/step - loss: 15.3362 - mse: 15.3362 - val_loss: 26.5460 - val_mse: 26.5460\n",
      "Epoch 33/50\n",
      "91/91 [==============================] - 0s 2ms/step - loss: 13.3656 - mse: 13.3656 - val_loss: 18.3604 - val_mse: 18.3604\n",
      "Epoch 34/50\n",
      "91/91 [==============================] - 0s 2ms/step - loss: 13.8716 - mse: 13.8716 - val_loss: 18.8937 - val_mse: 18.8937\n",
      "Epoch 35/50\n",
      "91/91 [==============================] - 0s 2ms/step - loss: 15.8267 - mse: 15.8267 - val_loss: 23.0018 - val_mse: 23.0018\n",
      "Epoch 36/50\n",
      "91/91 [==============================] - 0s 2ms/step - loss: 13.5263 - mse: 13.5263 - val_loss: 18.8197 - val_mse: 18.8197\n",
      "Epoch 37/50\n",
      "91/91 [==============================] - 0s 2ms/step - loss: 16.7189 - mse: 16.7189 - val_loss: 19.0891 - val_mse: 19.0891\n",
      "Epoch 38/50\n",
      "91/91 [==============================] - 0s 2ms/step - loss: 14.2797 - mse: 14.2797 - val_loss: 15.7535 - val_mse: 15.7535\n",
      "Epoch 39/50\n",
      "91/91 [==============================] - 0s 2ms/step - loss: 13.0364 - mse: 13.0364 - val_loss: 25.2870 - val_mse: 25.2870\n",
      "Epoch 40/50\n",
      "91/91 [==============================] - 0s 2ms/step - loss: 13.9967 - mse: 13.9967 - val_loss: 24.8119 - val_mse: 24.8119\n",
      "Epoch 41/50\n",
      "91/91 [==============================] - 0s 2ms/step - loss: 13.5646 - mse: 13.5646 - val_loss: 33.0577 - val_mse: 33.0577\n",
      "Epoch 42/50\n",
      "91/91 [==============================] - 0s 2ms/step - loss: 13.9546 - mse: 13.9546 - val_loss: 33.5340 - val_mse: 33.5340\n",
      "Epoch 43/50\n",
      "91/91 [==============================] - 0s 2ms/step - loss: 15.6570 - mse: 15.6570 - val_loss: 10.9880 - val_mse: 10.9880\n",
      "Epoch 44/50\n",
      "91/91 [==============================] - 0s 2ms/step - loss: 12.2894 - mse: 12.2894 - val_loss: 18.2388 - val_mse: 18.2388\n",
      "Epoch 45/50\n",
      "31/91 [=========>....................] - ETA: 0s - loss: 16.7947 - mse: 16.7947WARNING:tensorflow:Your input ran out of data; interrupting training. Make sure that your dataset or generator can generate at least `steps_per_epoch * epochs` batches (in this case, 4550 batches). You may need to use the repeat() function when building your dataset.\n",
      "91/91 [==============================] - 0s 2ms/step - loss: 14.7213 - mse: 14.7213 - val_loss: 20.8835 - val_mse: 20.8835\n"
     ]
    },
    {
     "data": {
      "text/plain": [
       "<keras.callbacks.History at 0x27ddfade5b0>"
      ]
     },
     "execution_count": 28,
     "metadata": {},
     "output_type": "execute_result"
    }
   ],
   "source": [
    "from keras.optimizers import Adam\n",
    "\n",
    "model.compile(loss=\"mse\" ,optimizer=Adam(learning_rate=0.001), metrics=\"mse\")\n",
    "model.fit(x=X,y=y,validation_split=0.2, batch_size = 5, epochs = 50,  steps_per_epoch=91)"
   ]
  },
  {
   "cell_type": "code",
   "execution_count": 29,
   "id": "f88835e4-468c-4de2-b9f6-22c94de0c098",
   "metadata": {
    "tags": []
   },
   "outputs": [
    {
     "name": "stdout",
     "output_type": "stream",
     "text": [
      "Epoch 1/50\n",
      "91/91 [==============================] - 1s 4ms/step - loss: 1195.1752 - mse: 1195.1752 - val_loss: 175.1399 - val_mse: 175.1399\n",
      "Epoch 2/50\n",
      "91/91 [==============================] - 0s 2ms/step - loss: 393.7238 - mse: 393.7238 - val_loss: 68.7191 - val_mse: 68.7191\n",
      "Epoch 3/50\n",
      "91/91 [==============================] - 0s 2ms/step - loss: 245.6102 - mse: 245.6102 - val_loss: 29.4958 - val_mse: 29.4958\n",
      "Epoch 4/50\n",
      "91/91 [==============================] - 0s 2ms/step - loss: 144.0090 - mse: 144.0090 - val_loss: 30.4853 - val_mse: 30.4853\n",
      "Epoch 5/50\n",
      "91/91 [==============================] - 0s 2ms/step - loss: 108.9651 - mse: 108.9651 - val_loss: 46.0470 - val_mse: 46.0470\n",
      "Epoch 6/50\n",
      "91/91 [==============================] - 0s 2ms/step - loss: 93.9413 - mse: 93.9413 - val_loss: 63.5385 - val_mse: 63.5385\n",
      "Epoch 7/50\n",
      "91/91 [==============================] - 0s 2ms/step - loss: 83.8406 - mse: 83.8406 - val_loss: 75.7551 - val_mse: 75.7551\n",
      "Epoch 8/50\n",
      "91/91 [==============================] - 0s 2ms/step - loss: 92.8118 - mse: 92.8118 - val_loss: 85.7135 - val_mse: 85.7135\n",
      "Epoch 9/50\n",
      "91/91 [==============================] - 0s 2ms/step - loss: 85.4635 - mse: 85.4635 - val_loss: 91.2765 - val_mse: 91.2765\n",
      "Epoch 10/50\n",
      "91/91 [==============================] - 0s 2ms/step - loss: 94.8341 - mse: 94.8341 - val_loss: 92.1243 - val_mse: 92.1243\n",
      "Epoch 11/50\n",
      "91/91 [==============================] - 0s 2ms/step - loss: 76.4615 - mse: 76.4615 - val_loss: 91.4818 - val_mse: 91.4818\n",
      "Epoch 12/50\n",
      "91/91 [==============================] - 0s 2ms/step - loss: 91.2256 - mse: 91.2256 - val_loss: 96.8093 - val_mse: 96.8093\n",
      "Epoch 13/50\n",
      "91/91 [==============================] - 0s 2ms/step - loss: 79.4061 - mse: 79.4061 - val_loss: 92.9810 - val_mse: 92.9810\n",
      "Epoch 14/50\n",
      "91/91 [==============================] - 0s 2ms/step - loss: 85.1540 - mse: 85.1540 - val_loss: 91.0361 - val_mse: 91.0361\n",
      "Epoch 15/50\n",
      "91/91 [==============================] - 0s 2ms/step - loss: 86.9213 - mse: 86.9213 - val_loss: 92.5091 - val_mse: 92.5091\n",
      "Epoch 16/50\n",
      "91/91 [==============================] - 0s 2ms/step - loss: 86.6016 - mse: 86.6016 - val_loss: 93.5637 - val_mse: 93.5637\n",
      "Epoch 17/50\n",
      "91/91 [==============================] - 0s 2ms/step - loss: 88.9485 - mse: 88.9485 - val_loss: 96.4114 - val_mse: 96.4114\n",
      "Epoch 18/50\n",
      "91/91 [==============================] - 0s 2ms/step - loss: 79.6373 - mse: 79.6373 - val_loss: 91.6905 - val_mse: 91.6905\n",
      "Epoch 19/50\n",
      "91/91 [==============================] - 0s 2ms/step - loss: 89.1849 - mse: 89.1849 - val_loss: 92.4970 - val_mse: 92.4970\n",
      "Epoch 20/50\n",
      "91/91 [==============================] - 0s 2ms/step - loss: 87.3307 - mse: 87.3307 - val_loss: 96.7215 - val_mse: 96.7215\n",
      "Epoch 21/50\n",
      "91/91 [==============================] - 0s 2ms/step - loss: 81.0651 - mse: 81.0651 - val_loss: 88.2071 - val_mse: 88.2071\n",
      "Epoch 22/50\n",
      "91/91 [==============================] - 0s 2ms/step - loss: 84.8950 - mse: 84.8950 - val_loss: 92.7482 - val_mse: 92.7482\n",
      "Epoch 23/50\n",
      "91/91 [==============================] - 0s 2ms/step - loss: 88.9074 - mse: 88.9074 - val_loss: 91.5969 - val_mse: 91.5969\n",
      "Epoch 24/50\n",
      "91/91 [==============================] - 0s 2ms/step - loss: 83.7658 - mse: 83.7658 - val_loss: 91.6298 - val_mse: 91.6298\n",
      "Epoch 25/50\n",
      "91/91 [==============================] - 0s 2ms/step - loss: 84.0405 - mse: 84.0405 - val_loss: 93.9678 - val_mse: 93.9678\n",
      "Epoch 26/50\n",
      "91/91 [==============================] - 0s 2ms/step - loss: 86.5943 - mse: 86.5943 - val_loss: 93.6352 - val_mse: 93.6352\n",
      "Epoch 27/50\n",
      "91/91 [==============================] - 0s 2ms/step - loss: 87.3570 - mse: 87.3570 - val_loss: 90.0187 - val_mse: 90.0187\n",
      "Epoch 28/50\n",
      "91/91 [==============================] - 0s 2ms/step - loss: 88.8094 - mse: 88.8094 - val_loss: 96.1469 - val_mse: 96.1469\n",
      "Epoch 29/50\n",
      "91/91 [==============================] - 0s 2ms/step - loss: 81.5708 - mse: 81.5708 - val_loss: 89.0539 - val_mse: 89.0539\n",
      "Epoch 30/50\n",
      "91/91 [==============================] - 0s 2ms/step - loss: 84.2612 - mse: 84.2612 - val_loss: 85.8693 - val_mse: 85.8693\n",
      "Epoch 31/50\n",
      "91/91 [==============================] - 0s 2ms/step - loss: 86.9188 - mse: 86.9188 - val_loss: 98.0930 - val_mse: 98.0930\n",
      "Epoch 32/50\n",
      "91/91 [==============================] - 0s 2ms/step - loss: 88.7345 - mse: 88.7345 - val_loss: 92.9942 - val_mse: 92.9942\n",
      "Epoch 33/50\n",
      "91/91 [==============================] - 0s 2ms/step - loss: 84.5798 - mse: 84.5798 - val_loss: 96.0513 - val_mse: 96.0513\n",
      "Epoch 34/50\n",
      "91/91 [==============================] - 0s 2ms/step - loss: 87.6113 - mse: 87.6113 - val_loss: 95.4138 - val_mse: 95.4138\n",
      "Epoch 35/50\n",
      "91/91 [==============================] - 0s 2ms/step - loss: 90.5039 - mse: 90.5039 - val_loss: 95.5293 - val_mse: 95.5293\n",
      "Epoch 36/50\n",
      "91/91 [==============================] - 0s 2ms/step - loss: 80.4026 - mse: 80.4026 - val_loss: 90.0564 - val_mse: 90.0564\n",
      "Epoch 37/50\n",
      "91/91 [==============================] - 0s 2ms/step - loss: 86.8641 - mse: 86.8641 - val_loss: 97.6402 - val_mse: 97.6402\n",
      "Epoch 38/50\n",
      "91/91 [==============================] - 0s 2ms/step - loss: 91.4019 - mse: 91.4019 - val_loss: 96.4695 - val_mse: 96.4695\n",
      "Epoch 39/50\n",
      "91/91 [==============================] - 0s 2ms/step - loss: 77.2883 - mse: 77.2883 - val_loss: 92.8817 - val_mse: 92.8817\n",
      "Epoch 40/50\n",
      "91/91 [==============================] - 0s 2ms/step - loss: 86.5750 - mse: 86.5750 - val_loss: 88.6037 - val_mse: 88.6037\n",
      "Epoch 41/50\n",
      "91/91 [==============================] - 0s 2ms/step - loss: 88.2360 - mse: 88.2360 - val_loss: 95.9343 - val_mse: 95.9343\n",
      "Epoch 42/50\n",
      "91/91 [==============================] - 0s 2ms/step - loss: 82.1713 - mse: 82.1713 - val_loss: 86.7946 - val_mse: 86.7946\n",
      "Epoch 43/50\n",
      "91/91 [==============================] - 0s 2ms/step - loss: 90.6878 - mse: 90.6878 - val_loss: 99.1264 - val_mse: 99.1264\n",
      "Epoch 44/50\n",
      "91/91 [==============================] - 0s 2ms/step - loss: 81.7070 - mse: 81.7070 - val_loss: 87.8345 - val_mse: 87.8345\n",
      "Epoch 45/50\n",
      "33/91 [=========>....................] - ETA: 0s - loss: 96.0630 - mse: 96.0630WARNING:tensorflow:Your input ran out of data; interrupting training. Make sure that your dataset or generator can generate at least `steps_per_epoch * epochs` batches (in this case, 4550 batches). You may need to use the repeat() function when building your dataset.\n",
      "91/91 [==============================] - 0s 1ms/step - loss: 87.3219 - mse: 87.3219 - val_loss: 96.2088 - val_mse: 96.2088\n"
     ]
    },
    {
     "data": {
      "text/plain": [
       "<keras.callbacks.History at 0x27ddfbdffa0>"
      ]
     },
     "execution_count": 29,
     "metadata": {},
     "output_type": "execute_result"
    }
   ],
   "source": [
    "model.compile(loss=\"mse\" ,optimizer=Adam(learning_rate=0.1), metrics=\"mse\")\n",
    "model.fit(x=X,y=y,validation_split=0.2, batch_size = 5, epochs = 50,  steps_per_epoch=91)"
   ]
  },
  {
   "cell_type": "markdown",
   "id": "1ef0da91-e3b0-485f-9e60-51894a008bd2",
   "metadata": {},
   "source": [
    "## evaluate()"
   ]
  },
  {
   "cell_type": "code",
   "execution_count": 30,
   "id": "0ee2945b-cb8d-4a50-8462-c6a46fa911f8",
   "metadata": {
    "tags": []
   },
   "outputs": [
    {
     "name": "stdout",
     "output_type": "stream",
     "text": [
      "2/2 [==============================] - 0s 3ms/step - loss: 96.8104 - mse: 96.8104\n"
     ]
    },
    {
     "data": {
      "text/plain": [
       "[96.81037139892578, 96.81037139892578]"
      ]
     },
     "execution_count": 30,
     "metadata": {},
     "output_type": "execute_result"
    }
   ],
   "source": [
    "model.evaluate(X_test, y_test)"
   ]
  },
  {
   "cell_type": "markdown",
   "id": "044c4cb8-48e3-434d-9c23-bcff9721864f",
   "metadata": {},
   "source": [
    "## predict()"
   ]
  },
  {
   "cell_type": "code",
   "execution_count": 31,
   "id": "aad9f49a-2064-4597-81a8-a17a097fe616",
   "metadata": {},
   "outputs": [],
   "source": [
    "# proba=model.predict(test_csv)"
   ]
  },
  {
   "cell_type": "code",
   "execution_count": null,
   "id": "a4ae55d7-03dc-495d-b196-0a82e2cb0e7e",
   "metadata": {},
   "outputs": [],
   "source": []
  }
 ],
 "metadata": {
  "kernelspec": {
   "display_name": "Python 3 (ipykernel)",
   "language": "python",
   "name": "python3"
  },
  "language_info": {
   "codemirror_mode": {
    "name": "ipython",
    "version": 3
   },
   "file_extension": ".py",
   "mimetype": "text/x-python",
   "name": "python",
   "nbconvert_exporter": "python",
   "pygments_lexer": "ipython3",
   "version": "3.8.8"
  },
  "toc-autonumbering": true
 },
 "nbformat": 4,
 "nbformat_minor": 5
}
