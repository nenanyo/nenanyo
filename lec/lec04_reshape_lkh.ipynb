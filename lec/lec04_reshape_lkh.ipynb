{
 "cells": [
  {
   "cell_type": "markdown",
   "id": "ef65b2e6-7c6e-48c2-9fec-fd67c39efe63",
   "metadata": {},
   "source": [
    "<font size=6><b> Lec04. reshape\n",
    "<pre>\n",
    "* 데이터 구조(유형)\n",
    "    * 스칼라(scalar) : 한개의 숫자\n",
    "    * 벡터(vector)   : 여러개 숫자 묶음 array-like\n",
    "    * 행렬(matrix)   : 벡터의 묶음\n",
    "    * 텐서(tensor)   : 행렬의 묶음"
   ]
  },
  {
   "cell_type": "markdown",
   "id": "50997deb-2250-42c3-83dc-4bcb755afe8b",
   "metadata": {
    "tags": []
   },
   "source": [
    "<img src=\"https://mblogthumb-phinf.pstatic.net/MjAyMDA1MjVfMjMx/MDAxNTkwMzY0MTI4NTE1.f-y_r75ikUM3Mr406dl5ILpLArs8vtef5jOb1_bncZcg.t1-XQSmZiTGDdV2o2JS3LpCb2rb3rsRGCWgvmOuvYYYg.PNG.nabilera1/image.png?type=w800\" width=500>"
   ]
  },
  {
   "cell_type": "code",
   "execution_count": 1,
   "id": "d28c7221-7741-4b90-8acf-3606842f65ba",
   "metadata": {
    "tags": []
   },
   "outputs": [],
   "source": [
    "import numpy as np\n",
    "import pandas as pd"
   ]
  },
  {
   "cell_type": "markdown",
   "id": "7c213434-5733-4e28-bc29-417770d735e1",
   "metadata": {},
   "source": [
    "# list array Series"
   ]
  },
  {
   "cell_type": "code",
   "execution_count": 2,
   "id": "b69e441e-6047-4247-a4c0-b48f2563953b",
   "metadata": {
    "tags": []
   },
   "outputs": [
    {
     "name": "stdout",
     "output_type": "stream",
     "text": [
      "4 [1, 2, 3, 4] 1\n",
      "4 (4,) [1 2 3 4] 1\n",
      "4 (4,) (4,) 1\n",
      "[1 2 3 4]\n",
      "0    1\n",
      "1    2\n",
      "2    3\n",
      "3    4\n",
      "dtype: int32\n"
     ]
    }
   ],
   "source": [
    "num_list = [1,2,3,4]\n",
    "print(len(num_list), num_list, np.ndim(num_list))\n",
    "\n",
    "num_arr = np.array(num_list)\n",
    "print(len(num_arr), num_arr.shape, num_arr, np.ndim(num_list))\n",
    "      \n",
    "s = pd.Series(num_arr) \n",
    "print(len(s) , s.shape, s.values.shape, np.ndim(num_list))\n",
    "print(s.values)\n",
    "print(s)"
   ]
  },
  {
   "cell_type": "markdown",
   "id": "ff8b212a-705c-4314-8146-394a36c2eff3",
   "metadata": {},
   "source": [
    "## 요소 접근"
   ]
  },
  {
   "cell_type": "markdown",
   "id": "38a18d7f-9b9b-47e7-8ec1-f923647c93b1",
   "metadata": {},
   "source": [
    "## 2D"
   ]
  },
  {
   "cell_type": "code",
   "execution_count": 3,
   "id": "6f860cb6-0c93-4360-a0c6-688d7ce4b37b",
   "metadata": {
    "tags": []
   },
   "outputs": [
    {
     "name": "stdout",
     "output_type": "stream",
     "text": [
      "[[ 0  1  2  3]\n",
      " [ 4  5  6  7]\n",
      " [ 8  9 10 11]\n",
      " [12 13 14 15]\n",
      " [16 17 18 19]\n",
      " [20 21 22 23]]\n"
     ]
    }
   ],
   "source": [
    "num_arr = np.arange(0,24)\n",
    "re_arr = num_arr.reshape(6,4)\n",
    "print(re_arr)"
   ]
  },
  {
   "cell_type": "code",
   "execution_count": 4,
   "id": "61839faa-d680-4c67-8c47-923bdc02b741",
   "metadata": {
    "tags": []
   },
   "outputs": [
    {
     "data": {
      "text/plain": [
       "(6,\n",
       " array([[ 0,  1,  2,  3],\n",
       "        [ 4,  5,  6,  7],\n",
       "        [ 8,  9, 10, 11],\n",
       "        [12, 13, 14, 15],\n",
       "        [16, 17, 18, 19],\n",
       "        [20, 21, 22, 23]]))"
      ]
     },
     "execution_count": 4,
     "metadata": {},
     "output_type": "execute_result"
    }
   ],
   "source": [
    "len(re_arr) , re_arr"
   ]
  },
  {
   "cell_type": "code",
   "execution_count": 5,
   "id": "e8c6a03c-65fb-4134-9ef2-863825a7074e",
   "metadata": {
    "tags": []
   },
   "outputs": [
    {
     "data": {
      "text/plain": [
       "(4, array([0, 1, 2, 3]))"
      ]
     },
     "execution_count": 5,
     "metadata": {},
     "output_type": "execute_result"
    }
   ],
   "source": [
    "len(re_arr[0]) , re_arr[0]"
   ]
  },
  {
   "cell_type": "markdown",
   "id": "3702c0b3-cef2-48dd-92d6-120a5a6a2bd3",
   "metadata": {
    "tags": []
   },
   "source": [
    "## 3D"
   ]
  },
  {
   "cell_type": "code",
   "execution_count": 6,
   "id": "4c1f3cb1-0a72-47ec-840f-749bc56b54b6",
   "metadata": {
    "tags": []
   },
   "outputs": [
    {
     "name": "stdout",
     "output_type": "stream",
     "text": [
      "[[[ 0  1  2  3]\n",
      "  [ 4  5  6  7]\n",
      "  [ 8  9 10 11]]\n",
      "\n",
      " [[12 13 14 15]\n",
      "  [16 17 18 19]\n",
      "  [20 21 22 23]]]\n"
     ]
    }
   ],
   "source": [
    "num_arr = np.arange(0,24)\n",
    "re_arr = num_arr.reshape(2,3,4)\n",
    "print(re_arr)"
   ]
  },
  {
   "cell_type": "code",
   "execution_count": 7,
   "id": "c74e19a3-942f-40fb-b528-f116386ab7c1",
   "metadata": {
    "tags": []
   },
   "outputs": [
    {
     "data": {
      "text/plain": [
       "(2,\n",
       " array([[[ 0,  1,  2,  3],\n",
       "         [ 4,  5,  6,  7],\n",
       "         [ 8,  9, 10, 11]],\n",
       " \n",
       "        [[12, 13, 14, 15],\n",
       "         [16, 17, 18, 19],\n",
       "         [20, 21, 22, 23]]]))"
      ]
     },
     "execution_count": 7,
     "metadata": {},
     "output_type": "execute_result"
    }
   ],
   "source": [
    "len(re_arr) , re_arr"
   ]
  },
  {
   "cell_type": "code",
   "execution_count": 8,
   "id": "76d55d43-4b40-4b21-8df3-2f795d8af355",
   "metadata": {
    "tags": []
   },
   "outputs": [
    {
     "data": {
      "text/plain": [
       "(3,\n",
       " array([[ 0,  1,  2,  3],\n",
       "        [ 4,  5,  6,  7],\n",
       "        [ 8,  9, 10, 11]]))"
      ]
     },
     "execution_count": 8,
     "metadata": {},
     "output_type": "execute_result"
    }
   ],
   "source": [
    "len(re_arr[0]) , re_arr[0]"
   ]
  },
  {
   "cell_type": "code",
   "execution_count": 9,
   "id": "0c390363-893d-4887-bc46-97b76651cc09",
   "metadata": {
    "tags": []
   },
   "outputs": [
    {
     "data": {
      "text/plain": [
       "(4, array([0, 1, 2, 3]))"
      ]
     },
     "execution_count": 9,
     "metadata": {},
     "output_type": "execute_result"
    }
   ],
   "source": [
    "len(re_arr[0][0]) , re_arr[0][0]"
   ]
  },
  {
   "cell_type": "code",
   "execution_count": 10,
   "id": "009988e6-299e-4324-aded-2fed6c19dab9",
   "metadata": {
    "tags": []
   },
   "outputs": [
    {
     "data": {
      "text/plain": [
       "0"
      ]
     },
     "execution_count": 10,
     "metadata": {},
     "output_type": "execute_result"
    }
   ],
   "source": [
    "# len(re_arr[0][0][0]) \n",
    "re_arr[0][0][0]"
   ]
  },
  {
   "cell_type": "markdown",
   "id": "796c3e9d-2118-4eb4-81a9-e076792c30d0",
   "metadata": {},
   "source": [
    "# arange() vs lange()\n",
    "<pre>\n",
    "* arange(s, e, inc) vs lange(s, e, inc)\n",
    "* array             vs range 객체\n",
    "* 요소값출력         vs list(a)로 감싸서 요소값 출력\n",
    "* for i in range(10) : \n"
   ]
  },
  {
   "cell_type": "code",
   "execution_count": 11,
   "id": "4aa1370b-1eb7-4f90-8897-1e4f13e2a090",
   "metadata": {
    "tags": []
   },
   "outputs": [
    {
     "data": {
      "text/plain": [
       "array([ 4,  6,  8, 10])"
      ]
     },
     "execution_count": 11,
     "metadata": {},
     "output_type": "execute_result"
    }
   ],
   "source": [
    "a = np.arange(4, 12, 2)\n",
    "a"
   ]
  },
  {
   "cell_type": "code",
   "execution_count": 12,
   "id": "49f1dd82-d3a9-473c-88fb-072a767b0171",
   "metadata": {
    "tags": []
   },
   "outputs": [
    {
     "name": "stdout",
     "output_type": "stream",
     "text": [
      "<class 'range'>\n"
     ]
    },
    {
     "data": {
      "text/plain": [
       "[4, 6, 8, 10]"
      ]
     },
     "execution_count": 12,
     "metadata": {},
     "output_type": "execute_result"
    }
   ],
   "source": [
    "a = range(4,12,2)\n",
    "print(type(a))\n",
    "list( a )"
   ]
  },
  {
   "cell_type": "code",
   "execution_count": 13,
   "id": "a0d9668b-6ed3-41b9-a53b-417f4848b135",
   "metadata": {
    "tags": []
   },
   "outputs": [
    {
     "name": "stdout",
     "output_type": "stream",
     "text": [
      "1\n",
      "2\n",
      "3\n"
     ]
    }
   ],
   "source": [
    "for i in [1,2,3] :\n",
    "    print(i)"
   ]
  },
  {
   "cell_type": "code",
   "execution_count": 14,
   "id": "36f72bf6-a4b4-4fd0-a21a-5835d695e28a",
   "metadata": {
    "tags": []
   },
   "outputs": [
    {
     "name": "stdout",
     "output_type": "stream",
     "text": [
      "1\n",
      "2\n",
      "3\n"
     ]
    }
   ],
   "source": [
    "for i in np.array([1,2,3]) :\n",
    "    print(i)"
   ]
  },
  {
   "cell_type": "code",
   "execution_count": 15,
   "id": "db96b875-a545-45f5-b238-0a5e689f61f0",
   "metadata": {
    "tags": []
   },
   "outputs": [
    {
     "name": "stdout",
     "output_type": "stream",
     "text": [
      "1\n",
      "2\n",
      "3\n"
     ]
    }
   ],
   "source": [
    "for i in range(1,4) :    #[0,1,2]\n",
    "    print(i)"
   ]
  },
  {
   "cell_type": "code",
   "execution_count": 16,
   "id": "cabf95d9-9c52-4957-addb-329c6fe352b7",
   "metadata": {
    "tags": []
   },
   "outputs": [],
   "source": [
    "# for i in list(range(1,4)) :    #[0,1,2]\n",
    "#     print(i)"
   ]
  },
  {
   "cell_type": "code",
   "execution_count": 17,
   "id": "38bf9f8d-4ebe-47a9-aeb5-e951277309ee",
   "metadata": {
    "tags": []
   },
   "outputs": [],
   "source": [
    "# for i in np.array(list(range(1,4))) :    #range --> [0,1,2] --> [0 1 2]\n",
    "#     print(i)"
   ]
  },
  {
   "cell_type": "code",
   "execution_count": 18,
   "id": "401ddce7-9cb6-4fc5-b48b-907c078a3374",
   "metadata": {
    "tags": []
   },
   "outputs": [
    {
     "name": "stdout",
     "output_type": "stream",
     "text": [
      "1\n",
      "2\n",
      "3\n"
     ]
    }
   ],
   "source": [
    "for i in np.arange(1,4) : #[0 1 2]\n",
    "    print(i)"
   ]
  },
  {
   "cell_type": "code",
   "execution_count": 19,
   "id": "fbd029d4-e407-4a0f-a6db-6a7e709223bf",
   "metadata": {
    "tags": []
   },
   "outputs": [
    {
     "name": "stdout",
     "output_type": "stream",
     "text": [
      "0\n",
      "1\n",
      "2\n"
     ]
    }
   ],
   "source": [
    "for i in range(3) :\n",
    "    print(i)"
   ]
  },
  {
   "cell_type": "code",
   "execution_count": 20,
   "id": "06b1b8b9-926f-4032-96dc-9f3b6f8fb4b9",
   "metadata": {
    "tags": []
   },
   "outputs": [
    {
     "name": "stdout",
     "output_type": "stream",
     "text": [
      "0\n",
      "1\n",
      "2\n"
     ]
    }
   ],
   "source": [
    "for i in np.arange(3) :  #[0 1 2]\n",
    "    print(i)"
   ]
  },
  {
   "cell_type": "markdown",
   "id": "944be821-2ec0-4b3a-b216-eed7ab0eaa48",
   "metadata": {},
   "source": [
    "# np.zeros() ones() _like()"
   ]
  },
  {
   "cell_type": "code",
   "execution_count": 21,
   "id": "26a8921c-747a-4d7e-b45e-0a5c28928d26",
   "metadata": {
    "tags": []
   },
   "outputs": [
    {
     "data": {
      "text/plain": [
       "array([0, 0, 0, 0, 0])"
      ]
     },
     "execution_count": 21,
     "metadata": {},
     "output_type": "execute_result"
    }
   ],
   "source": [
    "np.zeros((5), dtype=int)"
   ]
  },
  {
   "cell_type": "code",
   "execution_count": 22,
   "id": "09d8332b-86d3-42db-ac4e-7d0fb7fb9286",
   "metadata": {
    "tags": []
   },
   "outputs": [
    {
     "data": {
      "text/plain": [
       "array([[0, 0, 0],\n",
       "       [0, 0, 0],\n",
       "       [0, 0, 0],\n",
       "       [0, 0, 0],\n",
       "       [0, 0, 0]])"
      ]
     },
     "execution_count": 22,
     "metadata": {},
     "output_type": "execute_result"
    }
   ],
   "source": [
    "np.zeros((5,3), dtype=int)"
   ]
  },
  {
   "cell_type": "code",
   "execution_count": 23,
   "id": "2da37536-9e60-4109-9bab-f75c538c5352",
   "metadata": {
    "tags": []
   },
   "outputs": [
    {
     "data": {
      "text/plain": [
       "array([1, 1, 1, 1, 1])"
      ]
     },
     "execution_count": 23,
     "metadata": {},
     "output_type": "execute_result"
    }
   ],
   "source": [
    "np.ones((5), dtype=int)"
   ]
  },
  {
   "cell_type": "code",
   "execution_count": 24,
   "id": "b09502ee-c6bc-4208-9cab-31ca3d635f92",
   "metadata": {
    "tags": []
   },
   "outputs": [
    {
     "name": "stdout",
     "output_type": "stream",
     "text": [
      "(5, 3) [[0 0 0]\n",
      " [0 0 0]\n",
      " [0 0 0]\n",
      " [0 0 0]\n",
      " [0 0 0]]\n",
      "(5, 3) [[1 1 1]\n",
      " [1 1 1]\n",
      " [1 1 1]\n",
      " [1 1 1]\n",
      " [1 1 1]]\n"
     ]
    }
   ],
   "source": [
    "sample = np.zeros((5,3), dtype=int)\n",
    "print(sample.shape, sample)\n",
    "\n",
    "temp = np.ones_like(sample)\n",
    "print(sample.shape, temp)"
   ]
  },
  {
   "cell_type": "markdown",
   "id": "f2858378-4f2a-45c3-bad2-841c6d2d53d0",
   "metadata": {},
   "source": [
    "# 차수(Demention)"
   ]
  },
  {
   "cell_type": "markdown",
   "id": "03f3db60-7b08-4a94-b110-036921d216ab",
   "metadata": {
    "tags": []
   },
   "source": [
    "<img src=\"https://img1.daumcdn.net/thumb/R1280x0/?scode=mtistory2&fname=https%3A%2F%2Fblog.kakaocdn.net%2Fdn%2FcSoMOs%2Fbtqt0a2Dc2y%2FQhkfwhiWqeUKvNfsM2H29K%2Fimg.png\" width=400>"
   ]
  },
  {
   "cell_type": "markdown",
   "id": "a06e4ded-4414-482b-8eb8-a61edf5f6aa9",
   "metadata": {},
   "source": [
    "## 1D  [ ... ]\n",
    "* <font color=red><b>axis=0 (가로)"
   ]
  },
  {
   "cell_type": "code",
   "execution_count": 25,
   "id": "bbc8b463-5039-4371-a3c5-46ba5fff1ec3",
   "metadata": {
    "tags": []
   },
   "outputs": [
    {
     "name": "stdout",
     "output_type": "stream",
     "text": [
      "1\n"
     ]
    }
   ],
   "source": [
    "num_list = [1,2,3,4]\n",
    "print(np.ndim(num_list))"
   ]
  },
  {
   "cell_type": "markdown",
   "id": "7e9b2bb8-3f83-4423-924b-21cce8b55466",
   "metadata": {
    "tags": []
   },
   "source": [
    "## 2D [[ ... ]]\n",
    "* <font color=red><b>axis=0 (세로 ↓)\n",
    "* <font color=red><b>axis=1 (가로 →)"
   ]
  },
  {
   "cell_type": "markdown",
   "id": "95b27bef-9374-4cd6-b40d-817017ce5551",
   "metadata": {},
   "source": [
    "* 가변 행렬의 경우 list[요소]를 하나의 값으로 인식"
   ]
  },
  {
   "cell_type": "code",
   "execution_count": 26,
   "id": "e1b8274d-7776-4ee0-83fd-3554075525ca",
   "metadata": {
    "tags": []
   },
   "outputs": [],
   "source": [
    "# num_list = [  [1,2,3],[2],[3],[4] ]\n",
    "# num_arr = np.array(num_list)\n",
    "# print(num_arr.shape, num_arr)\n",
    "# print(np.ndim(num_list))  "
   ]
  },
  {
   "cell_type": "code",
   "execution_count": 27,
   "id": "1974b307-467b-4ba4-8111-29170b67e47a",
   "metadata": {
    "tags": []
   },
   "outputs": [
    {
     "name": "stdout",
     "output_type": "stream",
     "text": [
      "2\n"
     ]
    }
   ],
   "source": [
    "num_list = [  [1,2,3],[2,2,2],[3,2,2],[4,2,2] ]\n",
    "print(np.ndim(num_list))"
   ]
  },
  {
   "cell_type": "markdown",
   "id": "f57cb490-239f-407f-bb78-c85a76f18876",
   "metadata": {
    "tags": []
   },
   "source": [
    "## 3D [[[ ... ]]]\n",
    "* (2,3,4) : 3행4열  2덩어리\n",
    "* <font color=red><b>axis=0 (세로 ↓)\n",
    "* <font color=red><b>axis=1 (가로 →)\n",
    "* <font color=red><b>axis=2 (폭)"
   ]
  },
  {
   "cell_type": "code",
   "execution_count": 28,
   "id": "ede9c98b-4283-46c3-8ecd-b927895f4af7",
   "metadata": {
    "tags": []
   },
   "outputs": [
    {
     "name": "stdout",
     "output_type": "stream",
     "text": [
      "(24,) \n",
      " [ 0  1  2  3  4  5  6  7  8  9 10 11 12 13 14 15 16 17 18 19 20 21 22 23]\n",
      "\n",
      "(6, 4) \n",
      " [[ 0  1  2  3]\n",
      " [ 4  5  6  7]\n",
      " [ 8  9 10 11]\n",
      " [12 13 14 15]\n",
      " [16 17 18 19]\n",
      " [20 21 22 23]]\n",
      "\n",
      "(2, 3, 4) \n",
      " [[[ 0  1  2  3]\n",
      "  [ 4  5  6  7]\n",
      "  [ 8  9 10 11]]\n",
      "\n",
      " [[12 13 14 15]\n",
      "  [16 17 18 19]\n",
      "  [20 21 22 23]]]\n",
      "\n"
     ]
    }
   ],
   "source": [
    "num_arr = np.arange(0,24)\n",
    "print(num_arr.shape, \"\\n\", num_arr)\n",
    "print()\n",
    "\n",
    "re_arr = num_arr.reshape(6,4)\n",
    "print(re_arr.shape, \"\\n\", re_arr)\n",
    "print()\n",
    "\n",
    "\n",
    "re_arr = num_arr.reshape(2,3,4)\n",
    "print(re_arr.shape, \"\\n\", re_arr)\n",
    "print()\n",
    "\n"
   ]
  },
  {
   "cell_type": "markdown",
   "id": "953d3142-c460-4ebb-9ae9-8dbb940b409d",
   "metadata": {
    "tags": []
   },
   "source": [
    "# 축(axis)"
   ]
  },
  {
   "cell_type": "markdown",
   "id": "1cbd3985-4824-4cb7-bf92-e52fb446838a",
   "metadata": {
    "tags": []
   },
   "source": [
    "## axis=None\n",
    "*  axis=None : sum all of the elements"
   ]
  },
  {
   "cell_type": "code",
   "execution_count": 29,
   "id": "86cfc2bc-379f-4ec0-aae9-9d3dbc04c58c",
   "metadata": {
    "tags": []
   },
   "outputs": [
    {
     "name": "stdout",
     "output_type": "stream",
     "text": [
      "[ 0  1  2  3  4  5  6  7  8  9 10 11 12 13 14 15 16 17 18 19 20 21 22 23]\n"
     ]
    },
    {
     "data": {
      "text/plain": [
       "276"
      ]
     },
     "execution_count": 29,
     "metadata": {},
     "output_type": "execute_result"
    }
   ],
   "source": [
    "num_arr = np.arange(0,24)\n",
    "print(num_arr)\n",
    "np.sum(num_arr)"
   ]
  },
  {
   "cell_type": "code",
   "execution_count": 30,
   "id": "d6a4b852-6abb-4c0c-b014-efd6190e6747",
   "metadata": {
    "tags": []
   },
   "outputs": [
    {
     "name": "stdout",
     "output_type": "stream",
     "text": [
      "[[ 0  1  2  3]\n",
      " [ 4  5  6  7]\n",
      " [ 8  9 10 11]\n",
      " [12 13 14 15]\n",
      " [16 17 18 19]\n",
      " [20 21 22 23]]\n"
     ]
    },
    {
     "data": {
      "text/plain": [
       "276"
      ]
     },
     "execution_count": 30,
     "metadata": {},
     "output_type": "execute_result"
    }
   ],
   "source": [
    "num_arr = np.arange(0,24)\n",
    "num_arr = num_arr.reshape(6,4) #6줄4칸\n",
    "print(num_arr)\n",
    "np.sum(num_arr)"
   ]
  },
  {
   "cell_type": "markdown",
   "id": "918ebc5b-a695-4182-8078-2db75f0a7250",
   "metadata": {
    "tags": []
   },
   "source": [
    "## 2D axis=0\n",
    "* 행 총합\n",
    "* <font color=red><b>axis=0 (행)\n",
    "* <font color=red><b>axis=1 (열)"
   ]
  },
  {
   "cell_type": "code",
   "execution_count": 31,
   "id": "f62a12cb-952e-47d9-ac57-702971858a64",
   "metadata": {
    "tags": []
   },
   "outputs": [
    {
     "name": "stdout",
     "output_type": "stream",
     "text": [
      "[[ 0  1  2  3]\n",
      " [ 4  5  6  7]\n",
      " [ 8  9 10 11]\n",
      " [12 13 14 15]\n",
      " [16 17 18 19]\n",
      " [20 21 22 23]]\n"
     ]
    },
    {
     "data": {
      "text/plain": [
       "array([60, 66, 72, 78])"
      ]
     },
     "execution_count": 31,
     "metadata": {},
     "output_type": "execute_result"
    }
   ],
   "source": [
    "num_arr = np.arange(0,24)\n",
    "num_arr = num_arr.reshape(6,4) #6줄4칸\n",
    "print(num_arr)\n",
    "np.sum(num_arr, axis=0)"
   ]
  },
  {
   "cell_type": "markdown",
   "id": "ab89bd28-b993-4194-bb97-01c5d21cd684",
   "metadata": {
    "tags": []
   },
   "source": [
    "## 2D axis=1\n",
    "* 열 총합\n",
    "* <font color=red><b>axis=0 (행)\n",
    "* <font color=red><b>axis=1 (열)"
   ]
  },
  {
   "cell_type": "code",
   "execution_count": 32,
   "id": "d146568a-7f23-4aa2-a3fe-27f2c827c79b",
   "metadata": {
    "tags": []
   },
   "outputs": [
    {
     "name": "stdout",
     "output_type": "stream",
     "text": [
      "[[ 0  1  2  3]\n",
      " [ 4  5  6  7]\n",
      " [ 8  9 10 11]\n",
      " [12 13 14 15]\n",
      " [16 17 18 19]\n",
      " [20 21 22 23]]\n"
     ]
    },
    {
     "data": {
      "text/plain": [
       "array([ 6, 22, 38, 54, 70, 86])"
      ]
     },
     "execution_count": 32,
     "metadata": {},
     "output_type": "execute_result"
    }
   ],
   "source": [
    "num_arr = np.arange(0,24)\n",
    "num_arr = num_arr.reshape(6,4) #6줄4칸\n",
    "print(num_arr)\n",
    "np.sum(num_arr, axis=1)"
   ]
  },
  {
   "cell_type": "markdown",
   "id": "56ee911e-8bc4-4b5a-ba41-5b26a2e36d67",
   "metadata": {
    "tags": []
   },
   "source": [
    "## 3D \n",
    "* (덩어리, 줄, 칸)\n",
    "<pre>\n",
    "<font color=red><b>axis=0 : (_____ 줄,칸)\n",
    "<font color=red><b>axis=1 : (덩어리,__,칸)\n",
    "<font color=red><b>axis=2 : (덩어리,줄,__)"
   ]
  },
  {
   "cell_type": "code",
   "execution_count": 33,
   "id": "ae81b2c7-5da8-4f09-9bec-ae9a0e6c4c0e",
   "metadata": {
    "tags": []
   },
   "outputs": [
    {
     "name": "stdout",
     "output_type": "stream",
     "text": [
      "[[[ 0  1  2  3]\n",
      "  [ 4  5  6  7]\n",
      "  [ 8  9 10 11]]\n",
      "\n",
      " [[12 13 14 15]\n",
      "  [16 17 18 19]\n",
      "  [20 21 22 23]]]\n"
     ]
    }
   ],
   "source": [
    "num_arr = np.arange(0,24)\n",
    "num_arr = num_arr.reshape(2,3,4) # (3줄4칸 ) 2덩어리\n",
    "print(num_arr)"
   ]
  },
  {
   "cell_type": "code",
   "execution_count": 34,
   "id": "f68e393e-dbaa-41bf-8324-5a6281d168a2",
   "metadata": {
    "tags": []
   },
   "outputs": [
    {
     "data": {
      "text/plain": [
       "array([[12, 14, 16, 18],\n",
       "       [20, 22, 24, 26],\n",
       "       [28, 30, 32, 34]])"
      ]
     },
     "execution_count": 34,
     "metadata": {},
     "output_type": "execute_result"
    }
   ],
   "source": [
    "np.sum(num_arr, axis=0)"
   ]
  },
  {
   "cell_type": "code",
   "execution_count": 35,
   "id": "b0814a00-4a50-41d7-8f13-3497f32907c7",
   "metadata": {
    "tags": []
   },
   "outputs": [
    {
     "data": {
      "text/plain": [
       "array([[12, 15, 18, 21],\n",
       "       [48, 51, 54, 57]])"
      ]
     },
     "execution_count": 35,
     "metadata": {},
     "output_type": "execute_result"
    }
   ],
   "source": [
    "np.sum(num_arr, axis=1) "
   ]
  },
  {
   "cell_type": "code",
   "execution_count": 36,
   "id": "08db09d6-3c03-4a5f-90b3-d56e145394ee",
   "metadata": {
    "tags": []
   },
   "outputs": [
    {
     "data": {
      "text/plain": [
       "array([[ 6, 22, 38],\n",
       "       [54, 70, 86]])"
      ]
     },
     "execution_count": 36,
     "metadata": {},
     "output_type": "execute_result"
    }
   ],
   "source": [
    "np.sum(num_arr, axis=2)"
   ]
  },
  {
   "cell_type": "markdown",
   "id": "86a9c609-b1f5-4339-a2ec-6cfb770c7bb5",
   "metadata": {},
   "source": [
    "# reshape()\n",
    "* reshape(행,열) : (행, -1) : 알아서 계산"
   ]
  },
  {
   "cell_type": "markdown",
   "id": "d116a285-4185-4765-b975-ba4efb93d8dc",
   "metadata": {},
   "source": [
    "## reshape() vs. resize()\n",
    "* reshape() : 원본은 두고 변환한 행열을 반환\n",
    "* resize() : 원본을 변환, 리턴없음"
   ]
  },
  {
   "cell_type": "code",
   "execution_count": 37,
   "id": "a15deec8-3bf5-44f6-9455-38242f94bb7d",
   "metadata": {
    "tags": []
   },
   "outputs": [
    {
     "name": "stdout",
     "output_type": "stream",
     "text": [
      "[ 0  1  2  3  4  5  6  7  8  9 10 11 12 13 14 15 16 17 18 19 20 21 22 23]\n",
      "[[ 0  1  2  3]\n",
      " [ 4  5  6  7]\n",
      " [ 8  9 10 11]\n",
      " [12 13 14 15]\n",
      " [16 17 18 19]\n",
      " [20 21 22 23]]\n"
     ]
    }
   ],
   "source": [
    "num_arr = np.arange(0,24)\n",
    "re_arr = num_arr.reshape(6,4) #6줄4칸\n",
    "\n",
    "print(num_arr)\n",
    "print(re_arr)"
   ]
  },
  {
   "cell_type": "code",
   "execution_count": 38,
   "id": "d5e6f491-0539-4342-b24c-210f52dc6705",
   "metadata": {
    "tags": []
   },
   "outputs": [
    {
     "name": "stdout",
     "output_type": "stream",
     "text": [
      "[[ 0  1  2  3]\n",
      " [ 4  5  6  7]\n",
      " [ 8  9 10 11]\n",
      " [12 13 14 15]\n",
      " [16 17 18 19]\n",
      " [20 21 22 23]]\n"
     ]
    }
   ],
   "source": [
    "num_arr = np.arange(0,24)\n",
    "num_arr.resize(6,4) #6줄4칸\n",
    "print(num_arr)"
   ]
  },
  {
   "cell_type": "markdown",
   "id": "24d69dc3-2be4-426d-ab62-95ea94b2e4ea",
   "metadata": {},
   "source": [
    "## 차원 확대 \n",
    "* reshape(1, -1, ...)\n",
    "* <font color=red><b>슬라이싱 [: , np.newaxis or None] \n",
    "    * 확장하고 싶은 축에 np.newaxis or None 입력\n",
    "* <font color=red><b> np.expand_dims(a, axis)"
   ]
  },
  {
   "cell_type": "code",
   "execution_count": 39,
   "id": "9caeb392-2d29-4aab-badf-212edd8c1873",
   "metadata": {
    "tags": []
   },
   "outputs": [
    {
     "name": "stdout",
     "output_type": "stream",
     "text": [
      "1 (24,) \n",
      " [ 0  1  2  3  4  5  6  7  8  9 10 11 12 13 14 15 16 17 18 19 20 21 22 23]\n",
      "2 (1, 24) \n",
      " [[ 0  1  2  3  4  5  6  7  8  9 10 11 12 13 14 15 16 17 18 19 20 21 22 23]]\n",
      "2 (1, 24) \n",
      " [[ 0  1  2  3  4  5  6  7  8  9 10 11 12 13 14 15 16 17 18 19 20 21 22 23]]\n",
      "2 (24, 1) \n",
      " [[ 0]\n",
      " [ 1]\n",
      " [ 2]\n",
      " [ 3]\n",
      " [ 4]\n",
      " [ 5]\n",
      " [ 6]\n",
      " [ 7]\n",
      " [ 8]\n",
      " [ 9]\n",
      " [10]\n",
      " [11]\n",
      " [12]\n",
      " [13]\n",
      " [14]\n",
      " [15]\n",
      " [16]\n",
      " [17]\n",
      " [18]\n",
      " [19]\n",
      " [20]\n",
      " [21]\n",
      " [22]\n",
      " [23]]\n",
      "2 (24, 1) \n",
      " [[ 0]\n",
      " [ 1]\n",
      " [ 2]\n",
      " [ 3]\n",
      " [ 4]\n",
      " [ 5]\n",
      " [ 6]\n",
      " [ 7]\n",
      " [ 8]\n",
      " [ 9]\n",
      " [10]\n",
      " [11]\n",
      " [12]\n",
      " [13]\n",
      " [14]\n",
      " [15]\n",
      " [16]\n",
      " [17]\n",
      " [18]\n",
      " [19]\n",
      " [20]\n",
      " [21]\n",
      " [22]\n",
      " [23]]\n"
     ]
    }
   ],
   "source": [
    "num_arr = np.arange(0,24)\n",
    "print(num_arr.ndim, num_arr.shape, \"\\n\", num_arr)  # 가로줄 []\n",
    "\n",
    "res = num_arr.reshape(1, 24)         # 가로줄 [ [0,1..23] ]\n",
    "print(res.ndim,  res.shape, \"\\n\" , res)\n",
    "\n",
    "res = num_arr.reshape(1, -1)         # 가로줄 [ [0,1..23] ]\n",
    "print(res.ndim, res.shape, \"\\n\" , res)\n",
    "\n",
    "res = num_arr.reshape(24, 1)         # 세로줄 [ [0],[1]..[23] ]\n",
    "print(res.ndim,  res.shape, \"\\n\" , res)\n",
    "\n",
    "res = num_arr.reshape(-1, 1)         # 세로줄 [ [0],[1]..[23] ]\n",
    "print(res.ndim,  res.shape, \"\\n\" , res)"
   ]
  },
  {
   "cell_type": "code",
   "execution_count": 40,
   "id": "6becd408-b3b6-444f-a1dc-8ed887c77d58",
   "metadata": {
    "tags": []
   },
   "outputs": [
    {
     "name": "stdout",
     "output_type": "stream",
     "text": [
      "1 (24,) \n",
      " [ 0  1  2  3  4  5  6  7  8  9 10 11 12 13 14 15 16 17 18 19 20 21 22 23]\n",
      "2 (1, 24) \n",
      " [[ 0  1  2  3  4  5  6  7  8  9 10 11 12 13 14 15 16 17 18 19 20 21 22 23]]\n",
      "2 (1, 24) \n",
      " [[ 0  1  2  3  4  5  6  7  8  9 10 11 12 13 14 15 16 17 18 19 20 21 22 23]]\n",
      "2 (24, 1) \n",
      " [[ 0]\n",
      " [ 1]\n",
      " [ 2]\n",
      " [ 3]\n",
      " [ 4]\n",
      " [ 5]\n",
      " [ 6]\n",
      " [ 7]\n",
      " [ 8]\n",
      " [ 9]\n",
      " [10]\n",
      " [11]\n",
      " [12]\n",
      " [13]\n",
      " [14]\n",
      " [15]\n",
      " [16]\n",
      " [17]\n",
      " [18]\n",
      " [19]\n",
      " [20]\n",
      " [21]\n",
      " [22]\n",
      " [23]]\n",
      "2 (24, 1) \n",
      " [[ 0]\n",
      " [ 1]\n",
      " [ 2]\n",
      " [ 3]\n",
      " [ 4]\n",
      " [ 5]\n",
      " [ 6]\n",
      " [ 7]\n",
      " [ 8]\n",
      " [ 9]\n",
      " [10]\n",
      " [11]\n",
      " [12]\n",
      " [13]\n",
      " [14]\n",
      " [15]\n",
      " [16]\n",
      " [17]\n",
      " [18]\n",
      " [19]\n",
      " [20]\n",
      " [21]\n",
      " [22]\n",
      " [23]]\n"
     ]
    }
   ],
   "source": [
    "num_arr = np.arange(0,24)\n",
    "print(num_arr.ndim, num_arr.shape, \"\\n\", num_arr)  # 가로줄 []\n",
    "\n",
    "res = num_arr[np.newaxis, :]\n",
    "print(res.ndim, res.shape, \"\\n\", res)  # 가로줄 []\n",
    "\n",
    "res = num_arr[None, :]\n",
    "print(res.ndim, res.shape, \"\\n\", res)  # 가로줄 []\n",
    "\n",
    "\n",
    "res = num_arr[:, np.newaxis]\n",
    "print(res.ndim, res.shape, \"\\n\", res)  # 세로줄 []\n",
    "\n",
    "\n",
    "res = num_arr[:, None]\n",
    "print(res.ndim, res.shape, \"\\n\", res)  # 세로줄 []"
   ]
  },
  {
   "cell_type": "code",
   "execution_count": 41,
   "id": "da889b98-3a37-40da-a159-fb63523602f2",
   "metadata": {
    "tags": []
   },
   "outputs": [
    {
     "name": "stdout",
     "output_type": "stream",
     "text": [
      "1 (24,) \n",
      " [ 0  1  2  3  4  5  6  7  8  9 10 11 12 13 14 15 16 17 18 19 20 21 22 23]\n",
      "2 (1, 24) \n",
      " [[ 0  1  2  3  4  5  6  7  8  9 10 11 12 13 14 15 16 17 18 19 20 21 22 23]]\n",
      "2 (24, 1) \n",
      " [[ 0]\n",
      " [ 1]\n",
      " [ 2]\n",
      " [ 3]\n",
      " [ 4]\n",
      " [ 5]\n",
      " [ 6]\n",
      " [ 7]\n",
      " [ 8]\n",
      " [ 9]\n",
      " [10]\n",
      " [11]\n",
      " [12]\n",
      " [13]\n",
      " [14]\n",
      " [15]\n",
      " [16]\n",
      " [17]\n",
      " [18]\n",
      " [19]\n",
      " [20]\n",
      " [21]\n",
      " [22]\n",
      " [23]]\n",
      "3 (1, 1, 24) \n",
      " [[[ 0  1  2  3  4  5  6  7  8  9 10 11 12 13 14 15 16 17 18 19 20 21 22\n",
      "   23]]]\n",
      "3 (1, 24, 1) \n",
      " [[[ 0]\n",
      "  [ 1]\n",
      "  [ 2]\n",
      "  [ 3]\n",
      "  [ 4]\n",
      "  [ 5]\n",
      "  [ 6]\n",
      "  [ 7]\n",
      "  [ 8]\n",
      "  [ 9]\n",
      "  [10]\n",
      "  [11]\n",
      "  [12]\n",
      "  [13]\n",
      "  [14]\n",
      "  [15]\n",
      "  [16]\n",
      "  [17]\n",
      "  [18]\n",
      "  [19]\n",
      "  [20]\n",
      "  [21]\n",
      "  [22]\n",
      "  [23]]]\n"
     ]
    }
   ],
   "source": [
    "num_arr = np.arange(0,24)\n",
    "print(num_arr.ndim, num_arr.shape, \"\\n\", num_arr)  # 가로줄 []\n",
    "\n",
    "res = np.expand_dims(num_arr, axis=0)\n",
    "print(res.ndim, res.shape, \"\\n\", res)  # 가로줄 []\n",
    "\n",
    "res = np.expand_dims(num_arr, axis=1)\n",
    "print(res.ndim, res.shape, \"\\n\", res)  # 세로줄 []\n",
    "\n",
    "res = np.expand_dims(num_arr, axis=(0,1))\n",
    "print(res.ndim, res.shape, \"\\n\", res)  # 세로줄 []\n",
    "\n",
    "res = np.expand_dims(num_arr, axis=(0,2))\n",
    "print(res.ndim, res.shape, \"\\n\", res)  # 세로줄 []"
   ]
  },
  {
   "cell_type": "markdown",
   "id": "78cf81f2-4da6-4d14-8bba-d902c7c29987",
   "metadata": {},
   "source": [
    "## 차원 축소\n",
    "* 1차원  <font color=red><b>reshpae(-1) == ravel() == flatten()     \n",
    "* <font color=red><b>res = re_arr[1, ...]    \n",
    "* 슬라이싱   :  ...    \n",
    "* np.squeeze(a, axis=None) : 차수1은 모두 지운다"
   ]
  },
  {
   "cell_type": "code",
   "execution_count": 42,
   "id": "5c137fff-4f4d-4b4b-9bc2-db9dbefb28f2",
   "metadata": {
    "tags": []
   },
   "outputs": [
    {
     "name": "stdout",
     "output_type": "stream",
     "text": [
      "[ 0  1  2  3  4  5  6  7  8  9 10 11 12 13 14 15 16 17 18 19 20 21 22 23]\n",
      "[[[ 0  1  2  3]\n",
      "  [ 4  5  6  7]\n",
      "  [ 8  9 10 11]]\n",
      "\n",
      " [[12 13 14 15]\n",
      "  [16 17 18 19]\n",
      "  [20 21 22 23]]]\n",
      "[ 0  1  2  3  4  5  6  7  8  9 10 11 12 13 14 15 16 17 18 19 20 21 22 23]\n",
      "[ 0  1  2  3  4  5  6  7  8  9 10 11 12 13 14 15 16 17 18 19 20 21 22 23]\n",
      "[ 0  1  2  3  4  5  6  7  8  9 10 11 12 13 14 15 16 17 18 19 20 21 22 23]\n"
     ]
    }
   ],
   "source": [
    "num_arr = np.arange(0,24)\n",
    "print(num_arr)\n",
    "# re_arr = num_arr.reshape(6,4) #6줄4칸\n",
    "re_arr = num_arr.reshape(2,3,-1) #6줄 , 칸은 알아서 계산\n",
    "print(re_arr)\n",
    "\n",
    "aa = re_arr.reshape(-1) \n",
    "print(aa)\n",
    "\n",
    "bb = re_arr.ravel() \n",
    "print(bb)\n",
    "\n",
    "cc = re_arr.flatten()\n",
    "print(cc)\n"
   ]
  },
  {
   "cell_type": "code",
   "execution_count": 43,
   "id": "37c8b6bc-e747-43b2-9fe0-b50bb8ba5a50",
   "metadata": {
    "tags": []
   },
   "outputs": [
    {
     "name": "stdout",
     "output_type": "stream",
     "text": [
      "1 (24,) \n",
      " [ 0  1  2  3  4  5  6  7  8  9 10 11 12 13 14 15 16 17 18 19 20 21 22 23]\n",
      "2 (6, 4) \n",
      " [[ 0  1  2  3]\n",
      " [ 4  5  6  7]\n",
      " [ 8  9 10 11]\n",
      " [12 13 14 15]\n",
      " [16 17 18 19]\n",
      " [20 21 22 23]]\n",
      "1 (4,) \n",
      " [4 5 6 7]\n",
      "1 (6,) \n",
      " [ 2  6 10 14 18 22]\n",
      "1 (6,) \n",
      " [ 3  7 11 15 19 23]\n"
     ]
    }
   ],
   "source": [
    "num_arr = np.arange(0,24)\n",
    "print(num_arr.ndim, num_arr.shape, \"\\n\", num_arr)  # 가로줄 []\n",
    "\n",
    "re_arr = num_arr.reshape(6,4)\n",
    "print(re_arr.ndim, re_arr.shape, \"\\n\", re_arr) \n",
    "\n",
    "res = re_arr[1, :]\n",
    "print(res.ndim, res.shape, \"\\n\", res)  #\n",
    "\n",
    "res = re_arr[:, 2]\n",
    "print(res.ndim, res.shape, \"\\n\", res)  #\n",
    "\n",
    "res = re_arr[:, -1]\n",
    "print(res.ndim, res.shape, \"\\n\", res)  #"
   ]
  },
  {
   "cell_type": "code",
   "execution_count": 44,
   "id": "1a005eee-6eea-436d-976b-b255edfca460",
   "metadata": {
    "tags": []
   },
   "outputs": [
    {
     "name": "stdout",
     "output_type": "stream",
     "text": [
      "1 (24,) \n",
      " [ 0  1  2  3  4  5  6  7  8  9 10 11 12 13 14 15 16 17 18 19 20 21 22 23]\n",
      "3 (2, 3, 4) \n",
      " [[[ 0  1  2  3]\n",
      "  [ 4  5  6  7]\n",
      "  [ 8  9 10 11]]\n",
      "\n",
      " [[12 13 14 15]\n",
      "  [16 17 18 19]\n",
      "  [20 21 22 23]]]\n",
      "2 (3, 4) \n",
      " [[12 13 14 15]\n",
      " [16 17 18 19]\n",
      " [20 21 22 23]]\n",
      "2 (3, 4) \n",
      " [[12 13 14 15]\n",
      " [16 17 18 19]\n",
      " [20 21 22 23]]\n"
     ]
    }
   ],
   "source": [
    "num_arr = np.arange(0,24)\n",
    "print(num_arr.ndim, num_arr.shape, \"\\n\", num_arr)  # 가로줄 []\n",
    "\n",
    "re_arr = num_arr.reshape(2,3,4)\n",
    "print(re_arr.ndim, re_arr.shape, \"\\n\", re_arr) \n",
    "\n",
    "res = re_arr[1, :]\n",
    "print(res.ndim, res.shape, \"\\n\", res)  #\n",
    "\n",
    "res = re_arr[1, ...]\n",
    "print(res.ndim, res.shape, \"\\n\", res)  #\n"
   ]
  },
  {
   "cell_type": "code",
   "execution_count": 45,
   "id": "34f36b18-b079-459b-81b3-89fc01587b6a",
   "metadata": {
    "tags": []
   },
   "outputs": [
    {
     "name": "stdout",
     "output_type": "stream",
     "text": [
      "1 (24,) \n",
      " [ 0  1  2  3  4  5  6  7  8  9 10 11 12 13 14 15 16 17 18 19 20 21 22 23]\n",
      "5 (1, 6, 1, 4, 1) \n",
      " [[[[[ 0]\n",
      "    [ 1]\n",
      "    [ 2]\n",
      "    [ 3]]]\n",
      "\n",
      "\n",
      "  [[[ 4]\n",
      "    [ 5]\n",
      "    [ 6]\n",
      "    [ 7]]]\n",
      "\n",
      "\n",
      "  [[[ 8]\n",
      "    [ 9]\n",
      "    [10]\n",
      "    [11]]]\n",
      "\n",
      "\n",
      "  [[[12]\n",
      "    [13]\n",
      "    [14]\n",
      "    [15]]]\n",
      "\n",
      "\n",
      "  [[[16]\n",
      "    [17]\n",
      "    [18]\n",
      "    [19]]]\n",
      "\n",
      "\n",
      "  [[[20]\n",
      "    [21]\n",
      "    [22]\n",
      "    [23]]]]]\n",
      "2 (6, 4) \n",
      " [[ 0  1  2  3]\n",
      " [ 4  5  6  7]\n",
      " [ 8  9 10 11]\n",
      " [12 13 14 15]\n",
      " [16 17 18 19]\n",
      " [20 21 22 23]]\n"
     ]
    }
   ],
   "source": [
    "num_arr = np.arange(0,24)\n",
    "print(num_arr.ndim, num_arr.shape, \"\\n\", num_arr)  # 가로줄 []\n",
    "\n",
    "re_arr = num_arr.reshape(1,6,1,4,1)\n",
    "print(re_arr.ndim, re_arr.shape, \"\\n\", re_arr) \n",
    "\n",
    "res = np.squeeze(re_arr) #, axis=None)\n",
    "print(res.ndim, res.shape, \"\\n\", res)  #"
   ]
  },
  {
   "cell_type": "markdown",
   "id": "03de457d-53d8-4d0c-9a09-78178b97ff06",
   "metadata": {},
   "source": [
    "# Stack == concatenate()\n",
    "* hstack()\n",
    "* vstack()\n",
    "* column_stack()\n",
    "* ref : https://rfriend.tistory.com/352"
   ]
  },
  {
   "cell_type": "markdown",
   "id": "83e027c8-30ab-44e2-95d1-7a4274b35ea4",
   "metadata": {},
   "source": [
    "<img src=\"https://img1.daumcdn.net/thumb/R1280x0/?scode=mtistory2&fname=https%3A%2F%2Ft1.daumcdn.net%2Fcfile%2Ftistory%2F9909EF345D53F4D916\">"
   ]
  },
  {
   "cell_type": "markdown",
   "id": "011d78a7-81cc-4491-b42f-f89861781799",
   "metadata": {},
   "source": [
    "## hstack()"
   ]
  },
  {
   "cell_type": "code",
   "execution_count": 46,
   "id": "b25f7d40-394e-4399-b4d3-98535d78f1a6",
   "metadata": {
    "tags": []
   },
   "outputs": [
    {
     "name": "stdout",
     "output_type": "stream",
     "text": [
      "[ 1  2  3 10 20 30]\n",
      "[ 1  2  3 10 20 30]\n"
     ]
    }
   ],
   "source": [
    "a = np.array([1,2,3])\n",
    "b = np.array([10,20,30])\n",
    "\n",
    "print(  np.hstack([a, b])  )   #----------------------추천\n",
    "print(  np.concatenate([a, b] , axis=0)   )"
   ]
  },
  {
   "cell_type": "markdown",
   "id": "e1afd9eb-982f-4722-b43a-dd2a0c84f938",
   "metadata": {},
   "source": [
    "## vstack()"
   ]
  },
  {
   "cell_type": "code",
   "execution_count": 47,
   "id": "249e2ba8-556e-4a38-90a5-4ccf63645e22",
   "metadata": {
    "tags": []
   },
   "outputs": [
    {
     "name": "stdout",
     "output_type": "stream",
     "text": [
      "[[ 1  2  3]\n",
      " [10 20 30]]\n",
      "[[ 1  2  3]\n",
      " [10 20 30]]\n"
     ]
    }
   ],
   "source": [
    "a = np.array([1,2,3])\n",
    "b = np.array([10,20,30])\n",
    "print(  np.vstack([a, b])  )  #----------------------추천\n",
    "print(  np.concatenate([[a, b]] , axis=1)  ) "
   ]
  },
  {
   "cell_type": "markdown",
   "id": "9fa4429e-d72b-4bbb-9b59-a48642e15467",
   "metadata": {},
   "source": [
    "## colume_stack()"
   ]
  },
  {
   "cell_type": "code",
   "execution_count": 48,
   "id": "32f366bf-0350-468f-98db-45682b58e1c3",
   "metadata": {
    "tags": []
   },
   "outputs": [
    {
     "name": "stdout",
     "output_type": "stream",
     "text": [
      "[[ 1 10]\n",
      " [ 2 20]\n",
      " [ 3 30]]\n"
     ]
    }
   ],
   "source": [
    "a = np.array([1,2,3])\n",
    "b = np.array([10,20,30])\n",
    "print(  np.column_stack([a, b])  )   #----------------------추천\n",
    "# print(  np.stack([a, b], axis=1)   )"
   ]
  },
  {
   "cell_type": "markdown",
   "id": "b44fc21c-568f-4fb6-8dee-41b65168e7e8",
   "metadata": {},
   "source": [
    "## stack()\n",
    "* axis=0  : 가로합치기\n",
    "    * pd.concat([df1, df2], axis=0)\n",
    "* axis=1  : 세로합치기 (s + s)\n",
    "    * pd.concat([df1, df2], axis=1)"
   ]
  },
  {
   "cell_type": "code",
   "execution_count": 49,
   "id": "9711ff9d-8b0f-415e-b018-ac7e9efaa123",
   "metadata": {
    "tags": []
   },
   "outputs": [
    {
     "name": "stdout",
     "output_type": "stream",
     "text": [
      "[[ 1  2  3]\n",
      " [10 20 30]]\n"
     ]
    }
   ],
   "source": [
    "a = np.array([1,2,3])\n",
    "b = np.array([10,20,30])\n",
    "print(  np.stack([a, b], axis=0)   )  "
   ]
  },
  {
   "cell_type": "code",
   "execution_count": 50,
   "id": "26776024-b2a3-4f39-94e9-3e083a4357df",
   "metadata": {
    "tags": []
   },
   "outputs": [
    {
     "name": "stdout",
     "output_type": "stream",
     "text": [
      "[[ 1 10]\n",
      " [ 2 20]\n",
      " [ 3 30]]\n"
     ]
    }
   ],
   "source": [
    "a = np.array([1,2,3])\n",
    "b = np.array([10,20,30])\n",
    "print(  np.stack([a, b], axis=1)   )  "
   ]
  },
  {
   "cell_type": "markdown",
   "id": "e2b80234-aed0-4ffc-80d2-4adf84acff3e",
   "metadata": {},
   "source": [
    "# BroadCasting"
   ]
  },
  {
   "cell_type": "markdown",
   "id": "cec5993e-c59b-4179-b697-3cee01782e5b",
   "metadata": {
    "tags": []
   },
   "source": [
    "<img src=\"https://jakevdp.github.io/PythonDataScienceHandbook/figures/02.05-broadcasting.png\" width=400>"
   ]
  },
  {
   "cell_type": "markdown",
   "id": "c0480bfe-1aca-4d58-bf0f-e9cc444955d8",
   "metadata": {},
   "source": [
    "## list\n",
    "* 곱하기 : 확장 extend()\n",
    "* 더하기 : 에러"
   ]
  },
  {
   "cell_type": "code",
   "execution_count": 51,
   "id": "d3ed3ffd-eb24-4304-871a-f777ee554fce",
   "metadata": {
    "tags": []
   },
   "outputs": [
    {
     "name": "stdout",
     "output_type": "stream",
     "text": [
      "[1, 2, 3, 1, 2, 3, 1, 2, 3]\n"
     ]
    }
   ],
   "source": [
    "num_list = [1,2,3] \n",
    "# num_list = num_list + 3  #에러\n",
    "num_list = num_list * 3  #3번반복\n",
    "print(num_list)"
   ]
  },
  {
   "cell_type": "code",
   "execution_count": 52,
   "id": "a294bc9c-9df6-4fb8-b5e2-506fae991a55",
   "metadata": {
    "tags": []
   },
   "outputs": [
    {
     "name": "stdout",
     "output_type": "stream",
     "text": [
      "[1, 2, 3, [1, 2, 3]]\n"
     ]
    }
   ],
   "source": [
    "num_list = [1,2,3] \n",
    "arr = [1,2,3]\n",
    "num_list.append(arr) \n",
    "print( num_list)"
   ]
  },
  {
   "cell_type": "code",
   "execution_count": 53,
   "id": "d50ed6e5-a1ec-4530-8982-8e9c6763ad28",
   "metadata": {
    "tags": []
   },
   "outputs": [
    {
     "name": "stdout",
     "output_type": "stream",
     "text": [
      "[1, 2, 3, 1, 2, 3]\n"
     ]
    }
   ],
   "source": [
    "num_list = [1,2,3] \n",
    "arr = [1,2,3]\n",
    "num_list.extend(arr) \n",
    "print( num_list)"
   ]
  },
  {
   "cell_type": "markdown",
   "id": "ce9071ee-9554-4cfa-9dd7-1289c3f5bd52",
   "metadata": {},
   "source": [
    "## array\n",
    "* 곱하기 / 더하기 : 연산"
   ]
  },
  {
   "cell_type": "code",
   "execution_count": 54,
   "id": "432e1fc9-6ed2-4c42-887f-f452500ba456",
   "metadata": {
    "tags": []
   },
   "outputs": [
    {
     "name": "stdout",
     "output_type": "stream",
     "text": [
      "[3 6 9]\n"
     ]
    }
   ],
   "source": [
    "num_arr = np.array([1,2,3] )\n",
    "num_arr = num_arr * 3  # list:확장  arr:연산(곱하기)\n",
    "print(num_arr)"
   ]
  },
  {
   "cell_type": "code",
   "execution_count": 55,
   "id": "11cf0a1a-2053-467e-abf8-92b92b4a8058",
   "metadata": {
    "tags": []
   },
   "outputs": [
    {
     "name": "stdout",
     "output_type": "stream",
     "text": [
      "[4 5 6]\n"
     ]
    }
   ],
   "source": [
    "num_arr = np.array([1,2,3] )\n",
    "num_arr = num_arr + 3  # list:에러  arr:연산(더하기)\n",
    "print(num_arr)"
   ]
  },
  {
   "cell_type": "code",
   "execution_count": null,
   "id": "76f5b041-873b-45cf-ba41-05b512c1e562",
   "metadata": {},
   "outputs": [],
   "source": []
  }
 ],
 "metadata": {
  "kernelspec": {
   "display_name": "Python 3 (ipykernel)",
   "language": "python",
   "name": "python3"
  },
  "language_info": {
   "codemirror_mode": {
    "name": "ipython",
    "version": 3
   },
   "file_extension": ".py",
   "mimetype": "text/x-python",
   "name": "python",
   "nbconvert_exporter": "python",
   "pygments_lexer": "ipython3",
   "version": "3.8.8"
  }
 },
 "nbformat": 4,
 "nbformat_minor": 5
}
