{
 "cells": [
  {
   "cell_type": "markdown",
   "id": "4c7df40a-9ff5-4de7-87ae-6fc7ce46b9f7",
   "metadata": {},
   "source": [
    "# lec03_basic_model_img"
   ]
  },
  {
   "cell_type": "code",
   "execution_count": 1,
   "id": "fef2c1cb-157e-4701-bed6-783c9b760bab",
   "metadata": {},
   "outputs": [
    {
     "data": {
      "text/html": [
       "<style>.container{width:100% !important;}</style>"
      ],
      "text/plain": [
       "<IPython.core.display.HTML object>"
      ]
     },
     "metadata": {},
     "output_type": "display_data"
    }
   ],
   "source": [
    "import numpy as np\n",
    "import pandas as pd\n",
    "\n",
    "import matplotlib.pyplot as plt\n",
    "import seaborn as sns\n",
    "\n",
    "\n",
    "sns.set()\n",
    "\n",
    "#-------------------- 차트 관련 속성 (한글처리, 그리드) -----------\n",
    "plt.rcParams['font.family']= 'Malgun Gothic'\n",
    "plt.rcParams['axes.unicode_minus'] = False\n",
    "\n",
    "#-------------------- 주피터 , 출력결과 넓이 늘리기 ---------------\n",
    "# from IPython.core.display import display, HTML\n",
    "from IPython.display import display, HTML\n",
    "\n",
    "display(HTML(\"<style>.container{width:100% !important;}</style>\"))\n",
    "pd.set_option('display.max_rows', 100)\n",
    "pd.set_option('display.max_columns', 100)\n",
    "pd.set_option('max_colwidth', None)\n",
    "\n",
    "import warnings\n",
    "warnings.filterwarnings(action='ignore')"
   ]
  },
  {
   "cell_type": "code",
   "execution_count": 2,
   "id": "4e304634-e174-4b02-b388-82461b10357f",
   "metadata": {
    "tags": []
   },
   "outputs": [],
   "source": [
    "import pandas_profiling\n",
    "\n",
    "# ----------------- 학습 ----------------------\n",
    "from sklearn.model_selection import train_test_split, cross_val_score\n",
    "from sklearn.preprocessing import StandardScaler, MinMaxScaler, RobustScaler\n",
    "\n",
    "# ----------------- 모델 ----------------------\n",
    "from sklearn.tree import DecisionTreeClassifier\n",
    "from sklearn.linear_model import LogisticRegression\n",
    "from sklearn.linear_model import Ridge\n",
    "\n",
    "# ----------------- 평가 ----------------------\n",
    "from sklearn.metrics import confusion_matrix\n",
    "\n",
    "from sklearn.metrics import classification_report\n",
    "from sklearn.metrics import accuracy_score,mean_squared_error\n",
    "from sklearn.metrics import f1_score, precision_score, recall_score\n",
    "from sklearn.metrics import precision_recall_curve, plot_precision_recall_curve\n",
    "\n",
    "from sklearn.metrics import roc_auc_score, roc_curve, plot_roc_curve"
   ]
  },
  {
   "cell_type": "markdown",
   "id": "c7aa142f-d03e-40ae-b135-135cf09b87a1",
   "metadata": {},
   "source": [
    "# seed 고정"
   ]
  },
  {
   "cell_type": "code",
   "execution_count": 3,
   "id": "aa5bc7d2-b9ab-4ca8-85d4-3d364461df3f",
   "metadata": {
    "tags": []
   },
   "outputs": [],
   "source": [
    "from keras.models import Sequential\n",
    "from keras.layers import Dense\n",
    "import tensorflow as tf\n"
   ]
  },
  {
   "cell_type": "code",
   "execution_count": 4,
   "id": "0b0be8c3-70e5-44d0-814e-4396f994be8f",
   "metadata": {
    "tags": []
   },
   "outputs": [],
   "source": [
    "tf.random.set_seed(1)\n",
    "np.random.seed(1)"
   ]
  },
  {
   "cell_type": "markdown",
   "id": "9bbb112b-17c8-4f30-89c3-d6f52f05ae75",
   "metadata": {},
   "source": [
    "# data load"
   ]
  },
  {
   "cell_type": "code",
   "execution_count": 5,
   "id": "12bbb92e-48d2-467e-b755-f14b1da2a43d",
   "metadata": {
    "tags": []
   },
   "outputs": [],
   "source": [
    "from keras.datasets import mnist"
   ]
  },
  {
   "cell_type": "code",
   "execution_count": 6,
   "id": "76a16c5d-1203-4821-842d-466768ee3cc1",
   "metadata": {
    "tags": []
   },
   "outputs": [
    {
     "data": {
      "text/plain": [
       "((60000, 28, 28), (10000, 28, 28))"
      ]
     },
     "execution_count": 6,
     "metadata": {},
     "output_type": "execute_result"
    }
   ],
   "source": [
    "(X_train,y_train),(X_test, y_test) = mnist.load_data()  # (trainset), (testset)\n",
    "X_train.shape, X_test.shape"
   ]
  },
  {
   "cell_type": "code",
   "execution_count": 7,
   "id": "08c24128-119c-4191-86a9-17d806061a5f",
   "metadata": {
    "tags": []
   },
   "outputs": [
    {
     "data": {
      "text/plain": [
       "(1, 28, 28)"
      ]
     },
     "execution_count": 7,
     "metadata": {},
     "output_type": "execute_result"
    }
   ],
   "source": [
    "X_train[:1].shape # 1장, 28 * 28"
   ]
  },
  {
   "cell_type": "code",
   "execution_count": 8,
   "id": "0d41b489-3694-47e6-b116-bd3b1108c4c2",
   "metadata": {
    "tags": []
   },
   "outputs": [
    {
     "data": {
      "text/plain": [
       "array([5], dtype=uint8)"
      ]
     },
     "execution_count": 8,
     "metadata": {},
     "output_type": "execute_result"
    }
   ],
   "source": [
    "y_train[:1]"
   ]
  },
  {
   "cell_type": "markdown",
   "id": "b9e8f58b-6fbe-41eb-935e-1d705064b834",
   "metadata": {},
   "source": [
    "# EDA"
   ]
  },
  {
   "cell_type": "markdown",
   "id": "965499d0-121b-4b22-b50f-69222654d1e8",
   "metadata": {},
   "source": [
    "## imshow\n",
    "<pre>\n",
    "matplotlib.pyplot.imshow(X, cmap=None, norm=None, *,\n",
    "                        aspect=None, interpolation=None, alpha=None, vmin=None, vmax=None, origin=None, extent=None, \n",
    "                        interpolation_stage=None, filternorm=True, filterrad=4.0, resample=None, url=None, data=None, **kwargs)\n",
    "                        ref : https://matplotlib.org/stable/api/_as_gen/matplotlib.pyplot.imshow.html\n",
    "* Z = 픽셀 값을 갖는 행렬\n",
    "* plt.imshow(Z)\n",
    "* plt.show()"
   ]
  },
  {
   "cell_type": "code",
   "execution_count": 9,
   "id": "9c41c5fb-24f8-42d9-89f6-8e28a1f9f981",
   "metadata": {
    "tags": []
   },
   "outputs": [
    {
     "data": {
      "image/png": "[encoded data removed]",
      "text/plain": [
       "<Figure size 640x480 with 1 Axes>"
      ]
     },
     "metadata": {},
     "output_type": "display_data"
    }
   ],
   "source": [
    "plt.imshow(X_train[2:3][0])     # 2번째 장\n",
    "plt.show()"
   ]
  },
  {
   "cell_type": "code",
   "execution_count": 10,
   "id": "79cadf89-202e-4481-977c-6ff55aef32fd",
   "metadata": {
    "tags": []
   },
   "outputs": [
    {
     "data": {
      "image/png": "[encoded data removed]",
      "text/plain": [
       "<Figure size 600x600 with 30 Axes>"
      ]
     },
     "metadata": {},
     "output_type": "display_data"
    }
   ],
   "source": [
    "fig, axes = plt.subplots(5,6, figsize = (6,6))\n",
    "for i,img in enumerate( X_train[:30] ) :\n",
    "    row = i//6\n",
    "    col = i%6\n",
    "    # axes[row][col].imshow(X_train[i:i+1][0])\n",
    "    axes[row][col].imshow(img)\n",
    "    axes[row][col].set_title(y_train[i])\n",
    "\n",
    "# plt.tight_layout()\n",
    "plt.show()"
   ]
  },
  {
   "cell_type": "markdown",
   "id": "29e6ed75-1292-4942-b1ac-6b9874351bb4",
   "metadata": {},
   "source": [
    "## target 분포도"
   ]
  },
  {
   "cell_type": "code",
   "execution_count": 11,
   "id": "6c5e5271-bb27-4c14-8ff7-58adb9cba1de",
   "metadata": {
    "tags": []
   },
   "outputs": [
    {
     "data": {
      "image/png": "[encoded data removed]",
      "text/plain": [
       "<Figure size 640x480 with 1 Axes>"
      ]
     },
     "metadata": {},
     "output_type": "display_data"
    }
   ],
   "source": [
    "pd.Series(y_train).value_counts().sort_index().plot(kind = \"bar\")\n",
    "plt.show()"
   ]
  },
  {
   "cell_type": "markdown",
   "id": "4c4c37a3-1702-4b94-9dda-3352b825dd59",
   "metadata": {},
   "source": [
    "## n번이미지"
   ]
  },
  {
   "cell_type": "code",
   "execution_count": 12,
   "id": "6d63da6e-4e00-4899-a4e6-5f3c2d09900b",
   "metadata": {},
   "outputs": [],
   "source": [
    "# s = pd.Series(y_train)\n",
    "# idx = s[s.values == 0].index\n",
    "\n",
    "# fig, axes = plt.subplots(5,6, figsize = (6,6))\n",
    "# for i, idx in enumerate (idx[:30]):\n",
    "#     row = i //6\n",
    "#     col = i % 6\n",
    "#     # axes[row][col].imshow(X_train[i:i+1][0])\n",
    "#     axes[row][col].imshow(X_train[idx])\n",
    "#     axes[row][col].set_title(y_train[idx])\n",
    "#     plt.axis(\"off\")\n",
    "#     plt.grid(False)\n",
    "# # X_train[3].shape\n",
    "\n",
    "# plt.show()"
   ]
  },
  {
   "cell_type": "code",
   "execution_count": 13,
   "id": "492383eb-41ea-426d-8ad2-c6341535575a",
   "metadata": {
    "tags": []
   },
   "outputs": [],
   "source": [
    "# fig, axes = plt.subplots(10,10, figsize = (9,9))\n",
    "# for i in range(0,10):\n",
    "#     idx = s[s.values == i].index\n",
    "#     for ii, idx in enumerate (idx[:10]):\n",
    "#         row = i \n",
    "#         col = ii % 10\n",
    "#         # axes[row][col].imshow(X_train[i:i+1][0])\n",
    "#         axes[row][col].imshow(X_train[idx])\n",
    "#         axes[row][col].set_title(y_train[idx])\n",
    "#         plt.axis(\"off\")\n",
    "#         plt.grid(False)\n",
    "# plt.show()"
   ]
  },
  {
   "cell_type": "markdown",
   "id": "215bfa44-511c-4211-a06f-43bbbfbb0190",
   "metadata": {},
   "source": [
    "# 전처리 & 가공"
   ]
  },
  {
   "cell_type": "markdown",
   "id": "7ae6fccd-7d04-4a3a-aae9-53d6966a5f4c",
   "metadata": {
    "tags": []
   },
   "source": [
    "## Flatten (Reshape)\n",
    "<pre>\n",
    "* 이미지픽셀 행렬28*28 (2D)   >>  arr (1D) "
   ]
  },
  {
   "cell_type": "markdown",
   "id": "9dacc836-f292-44b6-b24b-5d4a4cc758c9",
   "metadata": {},
   "source": [
    "### 1장"
   ]
  },
  {
   "cell_type": "code",
   "execution_count": 14,
   "id": "70b192f9-ea5a-4326-bd12-a439f753e8f8",
   "metadata": {
    "tags": []
   },
   "outputs": [
    {
     "data": {
      "text/plain": [
       "(784,)"
      ]
     },
     "execution_count": 14,
     "metadata": {},
     "output_type": "execute_result"
    }
   ],
   "source": [
    "X_train[0].flatten().shape"
   ]
  },
  {
   "cell_type": "markdown",
   "id": "3fb71981-daa6-4e06-ae08-b640c25aba10",
   "metadata": {},
   "source": [
    "### 60000장"
   ]
  },
  {
   "cell_type": "code",
   "execution_count": 15,
   "id": "448dae55-b27a-42f9-8287-83f0e6672d57",
   "metadata": {
    "tags": []
   },
   "outputs": [],
   "source": [
    "X_train = X_train.reshape(-1,784)\n",
    "X_test = X_test.reshape(-1,784)\n",
    "\n"
   ]
  },
  {
   "cell_type": "code",
   "execution_count": 16,
   "id": "b00768ce-1290-46cc-84dc-70be64c03a43",
   "metadata": {
    "tags": []
   },
   "outputs": [],
   "source": [
    "# X_train=X_train.reshape(60000,-1)"
   ]
  },
  {
   "cell_type": "markdown",
   "id": "5fe9da21-9f3e-4282-b6d7-b66a51e7eed0",
   "metadata": {
    "tags": []
   },
   "source": [
    "## Scaling\n",
    "* MinmaxScaler() : 0 ~ 255 픽셀 값을 0 ~ 1 값으로 변경"
   ]
  },
  {
   "cell_type": "code",
   "execution_count": 17,
   "id": "0de2afa8-e1a2-4008-9ed6-d568e3e0063d",
   "metadata": {
    "tags": []
   },
   "outputs": [],
   "source": [
    "X_train_sc = X_train / 255.0\n",
    "# 소숫점으로 나와야 되니까 255.0으로 나눈다  >> 확실히 float으로 할려고\n",
    "X_test_sc  = X_test / 255.0\n",
    "# X_train[:1]"
   ]
  },
  {
   "cell_type": "markdown",
   "id": "aef1b130-4cd3-4382-8545-2b55fc28473a",
   "metadata": {},
   "source": [
    "## Target 더미화\n",
    "* 0 ~ 9 숫자\n",
    "    - 0 : 1000000000\n",
    "* sklearn.\n",
    "    - OneHotEncoder()\n",
    "    - pd.get_dummies()\n",
    "* keras.\n",
    "    - utiles.to_categorical\n"
   ]
  },
  {
   "cell_type": "code",
   "execution_count": 18,
   "id": "8ca99f5d-aefd-4016-8900-aba9aa1730ba",
   "metadata": {
    "tags": []
   },
   "outputs": [
    {
     "name": "stdout",
     "output_type": "stream",
     "text": [
      "[5] [[0 0 0 0 0 1 0 0 0 0]]\n",
      "\n",
      "[7] [[0 0 0 0 0 0 0 1 0 0]]\n"
     ]
    }
   ],
   "source": [
    "from keras.utils import to_categorical\n",
    "\n",
    "y_train_oh = to_categorical(y_train, num_classes=10, dtype=\"int\")\n",
    "y_test_oh = to_categorical(y_test, num_classes=10, dtype=\"int\")\n",
    "print(y_train[:1],y_train_oh[:1])\n",
    "print()\n",
    "print(y_test[:1],y_test_oh[:1])"
   ]
  },
  {
   "cell_type": "markdown",
   "id": "abf74938-8697-4c32-b27c-68f079e587f4",
   "metadata": {},
   "source": [
    "# Model"
   ]
  },
  {
   "cell_type": "markdown",
   "id": "b72fb66d-e421-4ac2-b0ca-923fb73a9a14",
   "metadata": {
    "tags": []
   },
   "source": [
    "* X_train.shape >>>(60000, 784) //// input_dim=784\n",
    "    - 장수 뺀 나머지 입력!!!"
   ]
  },
  {
   "cell_type": "code",
   "execution_count": 20,
   "id": "8aa8c7e4-519a-4066-be08-b1227f4c3457",
   "metadata": {
    "tags": []
   },
   "outputs": [],
   "source": [
    "model = Sequential()\n",
    "model.add(Dense(units=300, input_dim=784, activation='relu', kernel_initializer='glorot_normal')) #입력층\n",
    "model.add(Dense(units=100,  activation='relu'))              #히든레이어\n",
    "model.add(Dense(units=50,  activation='relu'))              #히든레이어\n",
    "model.add(Dense(units=10,  activation='softmax'))           #3종 출력층\n",
    "model.compile(loss='categorical_crossentropy', optimizer='Adam', metrics=['accuracy'])\n"
   ]
  },
  {
   "cell_type": "code",
   "execution_count": 21,
   "id": "f72d1bfd-03ca-41a3-a0b7-1d9741f5331f",
   "metadata": {},
   "outputs": [
    {
     "name": "stdout",
     "output_type": "stream",
     "text": [
      "Epoch 1/10\n",
      "375/375 [==============================] - 3s 5ms/step - loss: 0.3121 - accuracy: 0.9093 - val_loss: 0.1391 - val_accuracy: 0.9584\n",
      "Epoch 2/10\n",
      "375/375 [==============================] - 2s 4ms/step - loss: 0.1138 - accuracy: 0.9663 - val_loss: 0.1088 - val_accuracy: 0.9666\n",
      "Epoch 3/10\n",
      "375/375 [==============================] - 2s 5ms/step - loss: 0.0743 - accuracy: 0.9780 - val_loss: 0.1010 - val_accuracy: 0.9701\n",
      "Epoch 4/10\n",
      "375/375 [==============================] - 2s 4ms/step - loss: 0.0558 - accuracy: 0.9826 - val_loss: 0.0768 - val_accuracy: 0.9778\n",
      "Epoch 5/10\n",
      "375/375 [==============================] - 2s 4ms/step - loss: 0.0387 - accuracy: 0.9880 - val_loss: 0.0850 - val_accuracy: 0.9743\n",
      "Epoch 6/10\n",
      "375/375 [==============================] - 2s 5ms/step - loss: 0.0304 - accuracy: 0.9903 - val_loss: 0.0774 - val_accuracy: 0.9779\n",
      "Epoch 7/10\n",
      "375/375 [==============================] - 2s 4ms/step - loss: 0.0240 - accuracy: 0.9928 - val_loss: 0.0765 - val_accuracy: 0.9776\n",
      "Epoch 8/10\n",
      "375/375 [==============================] - 2s 5ms/step - loss: 0.0182 - accuracy: 0.9941 - val_loss: 0.0852 - val_accuracy: 0.9791\n",
      "Epoch 9/10\n",
      "375/375 [==============================] - 2s 4ms/step - loss: 0.0171 - accuracy: 0.9944 - val_loss: 0.0810 - val_accuracy: 0.9784\n",
      "Epoch 10/10\n",
      "375/375 [==============================] - 2s 4ms/step - loss: 0.0156 - accuracy: 0.9947 - val_loss: 0.0981 - val_accuracy: 0.9758\n",
      "<keras.callbacks.History object at 0x00000269CB6887C0>\n",
      "313/313 [==============================] - 1s 2ms/step - loss: 0.0854 - accuracy: 0.9778\n",
      "[0.08540373295545578, 0.9778000116348267]\n"
     ]
    }
   ],
   "source": [
    "fit_hisroty = model.fit(X_train_sc, y_train_oh\n",
    "                        , batch_size = 128\n",
    "                        , validation_split=0.2, epochs=10)\n",
    "print(fit_hisroty)\n",
    "print ( model.evaluate(X_test_sc, y_test_oh)  )"
   ]
  },
  {
   "cell_type": "markdown",
   "id": "2409e147-1910-4e26-b280-251696cbb166",
   "metadata": {},
   "source": [
    "# 예측"
   ]
  },
  {
   "cell_type": "markdown",
   "id": "16d1a65f-bb03-4cd0-9d11-ec2e742d2422",
   "metadata": {},
   "source": [
    "## 예측"
   ]
  },
  {
   "cell_type": "code",
   "execution_count": null,
   "id": "ce52d1e7-d36f-4d7d-8af1-ecdc2fbac2cb",
   "metadata": {
    "tags": []
   },
   "outputs": [],
   "source": [
    "proba = model.predict(X_test_sc)\n",
    "proba[:3]"
   ]
  },
  {
   "cell_type": "code",
   "execution_count": null,
   "id": "8f2198b1-485b-4c36-a936-63dfd15b0145",
   "metadata": {
    "tags": []
   },
   "outputs": [],
   "source": [
    "pred = np.argmax(proba, axis=1)\n",
    "\n",
    "\n",
    "y_test = np.argmax(y_test_oh, axis=1)\n",
    "print(pred[:3], y_test[:3])"
   ]
  },
  {
   "cell_type": "markdown",
   "id": "fbbf8d10-ae63-43bd-a021-f60bd00b1a4e",
   "metadata": {},
   "source": [
    "## 오답 검증"
   ]
  },
  {
   "cell_type": "markdown",
   "id": "75b30eaa-e91c-4f7f-8554-72bef0711eb0",
   "metadata": {},
   "source": [
    "### confusion metrixs\n",
    "* from sklearn.metrics import confusion_matrix"
   ]
  },
  {
   "cell_type": "code",
   "execution_count": null,
   "id": "9203182b-544f-4017-be56-94d29116f99f",
   "metadata": {
    "tags": []
   },
   "outputs": [],
   "source": [
    "cm = confusion_matrix(y_test,pred)\n",
    "print(cm)"
   ]
  },
  {
   "cell_type": "markdown",
   "id": "7e3d35f9-2479-4928-b63c-829ecdc3a022",
   "metadata": {},
   "source": [
    "### cross table"
   ]
  },
  {
   "cell_type": "markdown",
   "id": "a9f5747c-a577-4b81-9996-578cae14f69b",
   "metadata": {},
   "source": [
    "from pandas import crosstab"
   ]
  },
  {
   "cell_type": "code",
   "execution_count": null,
   "id": "3ad2800f-7cd1-4686-8fe9-967d01558b04",
   "metadata": {
    "tags": []
   },
   "outputs": [],
   "source": [
    "y_test[:2]"
   ]
  },
  {
   "cell_type": "code",
   "execution_count": null,
   "id": "4791d469-39db-40cc-bd2d-88502850297c",
   "metadata": {
    "tags": []
   },
   "outputs": [],
   "source": [
    "pd.crosstab( y_test,pred)"
   ]
  },
  {
   "cell_type": "code",
   "execution_count": null,
   "id": "f768ded0-1c10-43ba-9919-702da8bf34c4",
   "metadata": {
    "tags": []
   },
   "outputs": [],
   "source": [
    "pred[(y_test == 0) & (pred !=0)]"
   ]
  },
  {
   "cell_type": "markdown",
   "id": "f7572615-e42c-4257-b63a-4370560fc4d7",
   "metadata": {},
   "source": [
    "### df"
   ]
  },
  {
   "cell_type": "code",
   "execution_count": null,
   "id": "7da75b01-3d9b-4e9c-9e58-b8b906303e46",
   "metadata": {
    "tags": []
   },
   "outputs": [],
   "source": [
    "ans_df = pd.DataFrame( {\"y_test\":y_test,\"pred\":pred} )\n",
    "ans_df.head(2)"
   ]
  },
  {
   "cell_type": "code",
   "execution_count": null,
   "id": "e4f1dcb7-1816-46cc-a54d-55da907e5afc",
   "metadata": {
    "tags": []
   },
   "outputs": [],
   "source": [
    "ans_df[ans_df[\"y_test\"]!=ans_df[\"pred\"]].index"
   ]
  },
  {
   "cell_type": "markdown",
   "id": "06e66533-ac36-42de-abee-24208e43535c",
   "metadata": {},
   "source": [
    "### 시각화"
   ]
  },
  {
   "cell_type": "code",
   "execution_count": null,
   "id": "1eaf7987-eea1-4885-abdc-3064a88cf1e1",
   "metadata": {
    "tags": []
   },
   "outputs": [],
   "source": [
    "# fig, axes = plt.subplots(10,1,figsize = (8,2))\n",
    "# for i in range(0,10):\n",
    "#     row = i\n",
    "#     # col = i%2\n",
    "#     plt.subplot(row+1,1,row+1)\n",
    "#     plt.title(i)\n",
    "#     plt.plot(pred[(y_test == i) & (pred !=i)])\n",
    "#     plt.show()"
   ]
  },
  {
   "cell_type": "code",
   "execution_count": null,
   "id": "b66fd1b2-2261-46b5-8ddc-3498996c4773",
   "metadata": {
    "tags": []
   },
   "outputs": [],
   "source": [
    "plt.figure(figsize=(6,3))\n",
    "ax1 = plt.subplot(1,2,1)\n",
    "ax1.plot(fit_hisroty.history['loss']    , label='loss')\n",
    "ax1.plot(fit_hisroty.history['val_loss'], label='val_loss')\n",
    "ax1.legend()\n",
    "ax1.set_title(\"loss\")\n",
    "\n",
    "ax2 = plt.subplot(1,2,2)\n",
    "ax2.plot(fit_hisroty.history['accuracy']    , label='accuracy')\n",
    "ax2.plot(fit_hisroty.history['val_accuracy'], label='val_accuracy')\n",
    "ax2.legend()\n",
    "ax2.set_title(\"accuracy\")\n",
    "\n",
    "plt.show()"
   ]
  },
  {
   "cell_type": "markdown",
   "id": "71217915-a911-4fa4-83e4-d612ba7c1e2e",
   "metadata": {},
   "source": [
    "# 사용자 데이터 예측\n",
    "* Jupyter web widgets : https://ipywidgets.readthedocs.io/en/stable/examples/Widget%20List.htmlhttps://ipywidgets.readthedocs.io/en/stable/examples/Widget%20List.html"
   ]
  },
  {
   "cell_type": "code",
   "execution_count": null,
   "id": "54f6654f-17da-4635-840c-adafa8403cbf",
   "metadata": {
    "tags": []
   },
   "outputs": [],
   "source": [
    "# ! pip install ipywidgets\n"
   ]
  },
  {
   "cell_type": "code",
   "execution_count": null,
   "id": "8d33c531-9d6b-4618-9d30-2645d4d84c81",
   "metadata": {
    "tags": []
   },
   "outputs": [],
   "source": [
    "import ipywidgets as widgets"
   ]
  },
  {
   "cell_type": "code",
   "execution_count": null,
   "id": "bc0c8c24-ee04-46f6-be11-b6897198cd02",
   "metadata": {
    "tags": []
   },
   "outputs": [],
   "source": [
    "widgets.IntSlider()"
   ]
  },
  {
   "cell_type": "code",
   "execution_count": null,
   "id": "1d0c80da-36a3-4726-9cac-d7fe451bf24d",
   "metadata": {
    "tags": []
   },
   "outputs": [],
   "source": [
    "btn = widgets.FileUpload(\n",
    "    accept='image/*',  # Accepted file extension e.g. '.txt', '.pdf', 'image/*', 'image/*,.pdf'\n",
    "    multiple=True  # True to accept multiple files upload else False\n",
    ")\n",
    "display(btn)"
   ]
  },
  {
   "cell_type": "code",
   "execution_count": null,
   "id": "1f91c003-5a0c-4256-87e7-1ffd7530a9b3",
   "metadata": {
    "tags": []
   },
   "outputs": [],
   "source": [
    "# once a file is uploaded, use the `.value` attribute to retrieve the content:\n",
    "btn.value\n",
    "#=> (\n",
    "#=>   {\n",
    "#=>     'name': 'example.txt',\n",
    "#=>     'type': 'text/plain',\n",
    "#=>     'size': 36,\n",
    "#=>     'last_modified': datetime.datetime(2020, 1, 9, 15, 58, 43, 321000, tzinfo=datetime.timezone.utc), \n",
    "#=>     'content': <memory at 0x10c1b37c8>\n",
    "#=>   },\n",
    "#=> )"
   ]
  },
  {
   "cell_type": "code",
   "execution_count": null,
   "id": "a0a78adb-9287-4b7c-9143-a70afba115c4",
   "metadata": {
    "tags": []
   },
   "outputs": [],
   "source": [
    "for dic in btn.value:\n",
    "    print( f\"{dic['name']} {dic['size']}\" )"
   ]
  },
  {
   "cell_type": "code",
   "execution_count": null,
   "id": "0821e512-fe42-4fc0-9bc6-c96f6b236301",
   "metadata": {
    "tags": []
   },
   "outputs": [],
   "source": [
    "for dic in btn.value:\n",
    "    display(widgets.Image(value=dic['content'].tobytes()))"
   ]
  },
  {
   "cell_type": "code",
   "execution_count": null,
   "id": "94a63db1-db60-4fed-9176-2b022352c59f",
   "metadata": {
    "tags": []
   },
   "outputs": [],
   "source": [
    "from PIL import Image\n",
    "import io\n",
    "for i, dic in enumerate(btn.value):\n",
    "    plt.subplot(1,  len(btn.value),       i+1)\n",
    "    print(f\"{dic['name']}  {dic['size']}\")\n",
    "    \n",
    "    # ------------------------------------------------\n",
    "    # addr = dic['content']                주소\n",
    "    # io_obj = io.BytesIO(dic['content'])   읽고 쓸 수 있게\n",
    "    # bbyte = dic['content'].tobytes()         꺼낼 수 있게 IO 객체\n",
    "    #       \n",
    "    # print(a, b, c)\n",
    "    # ------------------------------------------------\n",
    "    # display(widgets.Image(value=dic.content.tobytes()))\n",
    "    # ------------------------------------------------\n",
    "    img = Image.open(io.BytesIO(dic['content'])).resize((28, 28))   # PIL(python image library) 활용 이미지 핸들링\n",
    "    plt.imshow(img)\n",
    "    # ------------------------------------------------             # 학습 위한 차원 축소 / input_dim(1,784)\n",
    "    print(np.array(img).shape,  np.array(img)[:, :, 1].shape)      # (28,28,3) 컬러, (28,28) 흑백\n",
    "    \n",
    "    img = np.array(img)[:, :, 1]                                   # [:, :, 1] 마지막 차원 날리기(1 대입)\n",
    "    img = (np.expand_dims(img,0)).reshape(1,-1)                    # expand_dims 차원 확대, 0은 행추가(1은 열추가) // .reshape 차원축소 28*28를 784로\n",
    "    print(img.shape) \n",
    "\n",
    "    \n",
    "    img_scaler = (255-img)/255.0                                   # 엣지크롭 색반전(255-img) + 스케일링(/255.0)\n",
    "    print(img_scaler.shape)\n",
    "    proba = model.predict(img_scaler)\n",
    "    print(np.argmax(proba))"
   ]
  },
  {
   "cell_type": "code",
   "execution_count": null,
   "id": "72b5ef04-1970-421e-a5fe-009f96bc3c1c",
   "metadata": {},
   "outputs": [],
   "source": []
  },
  {
   "cell_type": "code",
   "execution_count": null,
   "id": "2f4c87cb-8977-4e7e-8e25-6ce9b0431783",
   "metadata": {},
   "outputs": [],
   "source": []
  },
  {
   "cell_type": "code",
   "execution_count": null,
   "id": "2d5b87fe-812b-4ad4-b59e-ec2fb3c019d7",
   "metadata": {},
   "outputs": [],
   "source": []
  },
  {
   "cell_type": "code",
   "execution_count": null,
   "id": "285dc0f6-584c-48cf-a232-c81541802865",
   "metadata": {},
   "outputs": [],
   "source": []
  },
  {
   "cell_type": "code",
   "execution_count": null,
   "id": "12fdf976-7552-4a93-9c21-7baa668e7867",
   "metadata": {},
   "outputs": [],
   "source": []
  }
 ],
 "metadata": {
  "kernelspec": {
   "display_name": "Python 3 (ipykernel)",
   "language": "python",
   "name": "python3"
  },
  "language_info": {
   "codemirror_mode": {
    "name": "ipython",
    "version": 3
   },
   "file_extension": ".py",
   "mimetype": "text/x-python",
   "name": "python",
   "nbconvert_exporter": "python",
   "pygments_lexer": "ipython3",
   "version": "3.8.8"
  }
 },
 "nbformat": 4,
 "nbformat_minor": 5
}
