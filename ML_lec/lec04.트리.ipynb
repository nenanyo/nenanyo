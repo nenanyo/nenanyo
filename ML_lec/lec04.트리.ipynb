{
 "cells": [
  {
   "cell_type": "markdown",
   "metadata": {
    "tags": []
   },
   "source": [
    "<font size=6><b>Lec04. Tree 모델\n",
    "* ID3  (Iterativ Dichotomiser) :  반복적 이분법\n",
    "    - entropy    : p(x)log_2P(x)  / 도 아니면 모,               이산형(카테고리성)에만 쓸 수 있다\n",
    "* CART (Classification and Regression Tree) : 분류, 회귀 둘 다 되는 트리\n",
    "    - jini index : 1-p(x)^2      /  모든 가능한 경우 다 따진다, 오버피팅 우려, depth가 매우 깊어질 수 있다\n",
    "    - max_depth(러프한 규제), max_leaf_nodes(분류는 가능한 다 하고 오버피팅 방지)를 조정해서 오버피팅 방지"
   ]
  },
  {
   "cell_type": "code",
   "execution_count": 3,
   "metadata": {
    "executionInfo": {
     "elapsed": 18,
     "status": "ok",
     "timestamp": 1678840187421,
     "user": {
      "displayName": "OPENCV KOREA",
      "userId": "03832798034950049293"
     },
     "user_tz": -540
    },
    "id": "Zrz7AKNZhaij"
   },
   "outputs": [],
   "source": [
    "import pandas as pd\n",
    "import numpy as np\n",
    "\n",
    "import matplotlib.pyplot as plt\n",
    "import seaborn as sns\n",
    "\n",
    "from sklearn.datasets import load_iris\n",
    "from sklearn.model_selection import train_test_split\n",
    "\n",
    "\n",
    "import warnings\n",
    "\n",
    "# 경고 메시지 출력 표기 생략\n",
    "warnings.filterwarnings('ignore')"
   ]
  },
  {
   "cell_type": "markdown",
   "metadata": {
    "id": "92ExO_F7VHsd"
   },
   "source": [
    "# 빌트인 (Built-in) 데이터셋 활용"
   ]
  },
  {
   "cell_type": "markdown",
   "metadata": {
    "id": "mxTsZpI3VHse"
   },
   "source": [
    "## 데이터 셋의 종류"
   ]
  },
  {
   "cell_type": "markdown",
   "metadata": {
    "id": "un8ZRUX_VHse"
   },
   "source": [
    "- `load_boston`: 보스톤 집값 데이터\n",
    "- `load_iris`: 아이리스 붓꽃 데이터\n",
    "- `load_diabetes`: 당뇨병 환자 데이터\n",
    "- `load_digits`: 손글씨 데이터\n",
    "- `load_linnerud`: multi-output regression 용 데이터\n",
    "- `load_wine`: 와인 데이터\n",
    "- `load_breast_cancer`: 위스콘신 유방암 환자 데이터"
   ]
  },
  {
   "cell_type": "markdown",
   "metadata": {
    "id": "hLgTsdXxVHse"
   },
   "source": [
    "## 데이터 셋 조회"
   ]
  },
  {
   "cell_type": "markdown",
   "metadata": {
    "id": "Ei7RW6dmVHsf"
   },
   "source": [
    "sklearn.utils.Bunch 자료구조를 활용\n",
    "\n",
    "**key-value** 형식 사전(dict)형 구조\n",
    "\n",
    "공통 **key**\n",
    "- `data`: 샘플 데이터\n",
    "- `target`: Label 데이터\n",
    "- `feature_names`: Feature 이름\n",
    "- `target_names`: Label 이름\n",
    "- `DESCR`: 데이터 설명\n",
    "- `filename`: csv 파일 저장 위치"
   ]
  },
  {
   "cell_type": "markdown",
   "metadata": {
    "id": "rIQnvIlpVHsg"
   },
   "source": [
    "# Data Load"
   ]
  },
  {
   "cell_type": "code",
   "execution_count": 4,
   "metadata": {
    "colab": {
     "base_uri": "https://localhost:8080/",
     "height": 302
    },
    "executionInfo": {
     "elapsed": 18,
     "status": "ok",
     "timestamp": 1678840187422,
     "user": {
      "displayName": "OPENCV KOREA",
      "userId": "03832798034950049293"
     },
     "user_tz": -540
    },
    "id": "YoyR1Vh5VHsg",
    "outputId": "63d1f1f3-fdd2-4f8b-a20d-94aac1c448f8"
   },
   "outputs": [
    {
     "data": {
      "text/html": [
       "<img src=\"https://user-images.githubusercontent.com/15958325/56006707-f69f3680-5d10-11e9-8609-25ba5034607e.png\"/>"
      ],
      "text/plain": [
       "<IPython.core.display.Image object>"
      ]
     },
     "execution_count": 4,
     "metadata": {},
     "output_type": "execute_result"
    }
   ],
   "source": [
    "from IPython.display import Image\n",
    "Image(url='https://user-images.githubusercontent.com/15958325/56006707-f69f3680-5d10-11e9-8609-25ba5034607e.png')"
   ]
  },
  {
   "cell_type": "markdown",
   "metadata": {
    "id": "DC0V9a33VHsx"
   },
   "source": [
    "- **sepal**: 꽃받침\n",
    "- **petal**: 꽃잎"
   ]
  },
  {
   "cell_type": "code",
   "execution_count": 5,
   "metadata": {
    "colab": {
     "base_uri": "https://localhost:8080/",
     "height": 206
    },
    "executionInfo": {
     "elapsed": 15,
     "status": "ok",
     "timestamp": 1678840187423,
     "user": {
      "displayName": "OPENCV KOREA",
      "userId": "03832798034950049293"
     },
     "user_tz": -540
    },
    "id": "RRNH0JTuVHs4",
    "outputId": "9df2f22d-61bd-46c1-8b08-034c6996734e"
   },
   "outputs": [
    {
     "data": {
      "text/html": [
       "<div>\n",
       "<style scoped>\n",
       "    .dataframe tbody tr th:only-of-type {\n",
       "        vertical-align: middle;\n",
       "    }\n",
       "\n",
       "    .dataframe tbody tr th {\n",
       "        vertical-align: top;\n",
       "    }\n",
       "\n",
       "    .dataframe thead th {\n",
       "        text-align: right;\n",
       "    }\n",
       "</style>\n",
       "<table border=\"1\" class=\"dataframe\">\n",
       "  <thead>\n",
       "    <tr style=\"text-align: right;\">\n",
       "      <th></th>\n",
       "      <th>sepal length (cm)</th>\n",
       "      <th>sepal width (cm)</th>\n",
       "      <th>petal length (cm)</th>\n",
       "      <th>petal width (cm)</th>\n",
       "      <th>target</th>\n",
       "    </tr>\n",
       "  </thead>\n",
       "  <tbody>\n",
       "    <tr>\n",
       "      <th>0</th>\n",
       "      <td>5.1</td>\n",
       "      <td>3.5</td>\n",
       "      <td>1.4</td>\n",
       "      <td>0.2</td>\n",
       "      <td>0</td>\n",
       "    </tr>\n",
       "    <tr>\n",
       "      <th>1</th>\n",
       "      <td>4.9</td>\n",
       "      <td>3.0</td>\n",
       "      <td>1.4</td>\n",
       "      <td>0.2</td>\n",
       "      <td>0</td>\n",
       "    </tr>\n",
       "    <tr>\n",
       "      <th>2</th>\n",
       "      <td>4.7</td>\n",
       "      <td>3.2</td>\n",
       "      <td>1.3</td>\n",
       "      <td>0.2</td>\n",
       "      <td>0</td>\n",
       "    </tr>\n",
       "    <tr>\n",
       "      <th>3</th>\n",
       "      <td>4.6</td>\n",
       "      <td>3.1</td>\n",
       "      <td>1.5</td>\n",
       "      <td>0.2</td>\n",
       "      <td>0</td>\n",
       "    </tr>\n",
       "    <tr>\n",
       "      <th>4</th>\n",
       "      <td>5.0</td>\n",
       "      <td>3.6</td>\n",
       "      <td>1.4</td>\n",
       "      <td>0.2</td>\n",
       "      <td>0</td>\n",
       "    </tr>\n",
       "  </tbody>\n",
       "</table>\n",
       "</div>"
      ],
      "text/plain": [
       "   sepal length (cm)  sepal width (cm)  petal length (cm)  petal width (cm)  \\\n",
       "0                5.1               3.5                1.4               0.2   \n",
       "1                4.9               3.0                1.4               0.2   \n",
       "2                4.7               3.2                1.3               0.2   \n",
       "3                4.6               3.1                1.5               0.2   \n",
       "4                5.0               3.6                1.4               0.2   \n",
       "\n",
       "   target  \n",
       "0       0  \n",
       "1       0  \n",
       "2       0  \n",
       "3       0  \n",
       "4       0  "
      ]
     },
     "execution_count": 5,
     "metadata": {},
     "output_type": "execute_result"
    }
   ],
   "source": [
    "dataset = load_iris()\n",
    "df = pd.DataFrame(dataset.data, columns=dataset.feature_names)\n",
    "df['target'] = dataset.target\n",
    "df.head()"
   ]
  },
  {
   "cell_type": "markdown",
   "metadata": {
    "id": "y3tSwldEVHtB"
   },
   "source": [
    "# EDA"
   ]
  },
  {
   "cell_type": "code",
   "execution_count": 6,
   "metadata": {
    "colab": {
     "base_uri": "https://localhost:8080/",
     "height": 462
    },
    "executionInfo": {
     "elapsed": 1013,
     "status": "ok",
     "timestamp": 1678840188423,
     "user": {
      "displayName": "OPENCV KOREA",
      "userId": "03832798034950049293"
     },
     "user_tz": -540
    },
    "id": "_rp1kBIFVHtD",
    "outputId": "23ef5f0f-ebf5-4fa5-9a95-6efe58f1042a"
   },
   "outputs": [
    {
     "data": {
      "image/png": "[encoded data removed]",
      "text/plain": [
       "<Figure size 300x300 with 1 Axes>"
      ]
     },
     "metadata": {},
     "output_type": "display_data"
    }
   ],
   "source": [
    "plt.figure(figsize=(3, 3))\n",
    "sns.scatterplot(data=df, x='sepal length (cm)', y='sepal width (cm)', hue='target', palette='muted')\n",
    "plt.plot()\n",
    "plt.show()"
   ]
  },
  {
   "cell_type": "code",
   "execution_count": 7,
   "metadata": {
    "colab": {
     "base_uri": "https://localhost:8080/",
     "height": 462
    },
    "executionInfo": {
     "elapsed": 840,
     "status": "ok",
     "timestamp": 1678840189257,
     "user": {
      "displayName": "OPENCV KOREA",
      "userId": "03832798034950049293"
     },
     "user_tz": -540
    },
    "id": "j7C_GSZlVHtF",
    "outputId": "ad64cd47-9746-47da-def3-695da7a12d61"
   },
   "outputs": [
    {
     "data": {
      "image/png": "[encoded data removed]",
      "text/plain": [
       "<Figure size 300x300 with 1 Axes>"
      ]
     },
     "metadata": {},
     "output_type": "display_data"
    }
   ],
   "source": [
    "plt.figure(figsize=(3, 3))\n",
    "sns.scatterplot(data=df, x='petal length (cm)', y='petal width (cm)', hue='target', palette='muted')\n",
    "plt.plot()\n",
    "plt.show()"
   ]
  },
  {
   "cell_type": "markdown",
   "metadata": {},
   "source": [
    "# entropy\n",
    "<img src=\"https://miro.medium.com/max/1122/0*DkWdyGidNSfdT1Nu.png\" width=300>\n",
    "*  로그함수  :  0과 1사이의 값"
   ]
  },
  {
   "cell_type": "markdown",
   "metadata": {},
   "source": [
    "* 엔트로피 크다 > 분류할 거리가 많다\n",
    "* 엔트로피 최대 > 반반 섞여 있을 때 > 분류 가장 어렵다\n",
    "* 엔트로피 작다 > 분류할 거리다 적다 > 퓨어하다\n",
    "* 엔트로피 적은 쪽으로 가지치기 한다 = information gain 정보를 많이 얻을 수 있는 쪽으로"
   ]
  },
  {
   "cell_type": "code",
   "execution_count": 8,
   "metadata": {
    "colab": {
     "base_uri": "https://localhost:8080/",
     "height": 281
    },
    "executionInfo": {
     "elapsed": 1077,
     "status": "ok",
     "timestamp": 1678840190313,
     "user": {
      "displayName": "OPENCV KOREA",
      "userId": "03832798034950049293"
     },
     "user_tz": -540
    },
    "id": "RGyit73QlpYy",
    "outputId": "dccf3a2d-8c4b-48f2-fb5a-f506d7ef1ec9"
   },
   "outputs": [
    {
     "data": {
      "image/png": "[encoded data removed]",
      "text/plain": [
       "<Figure size 1200x400 with 3 Axes>"
      ]
     },
     "metadata": {},
     "output_type": "display_data"
    }
   ],
   "source": [
    "group_1 = np.array([50,50])\n",
    "group_2 = np.array([30, 70])\n",
    "group_3 = np.array([0, 100])\n",
    "\n",
    "fig, axes = plt.subplots(1, 3)\n",
    "fig.set_size_inches(12, 4)\n",
    "axes[0].bar(np.arange(2), group_1, color='blue')\n",
    "axes[0].set_title('Group 1')\n",
    "axes[1].bar(np.arange(2), group_2, color='red')\n",
    "axes[1].set_title('Group 2')\n",
    "axes[2].bar(np.arange(2), group_3, color='green')\n",
    "axes[2].set_title('Group 3')\n",
    "plt.show()"
   ]
  },
  {
   "cell_type": "code",
   "execution_count": 9,
   "metadata": {
    "executionInfo": {
     "elapsed": 38,
     "status": "ok",
     "timestamp": 1678840190313,
     "user": {
      "displayName": "OPENCV KOREA",
      "userId": "03832798034950049293"
     },
     "user_tz": -540
    },
    "id": "LKz-j3n5nMGt"
   },
   "outputs": [],
   "source": [
    "def entropy(x):\n",
    "    return (-x*np.log2(x)).sum()"
   ]
  },
  {
   "cell_type": "code",
   "execution_count": 10,
   "metadata": {
    "colab": {
     "base_uri": "https://localhost:8080/"
    },
    "executionInfo": {
     "elapsed": 39,
     "status": "ok",
     "timestamp": 1678840190313,
     "user": {
      "displayName": "OPENCV KOREA",
      "userId": "03832798034950049293"
     },
     "user_tz": -540
    },
    "id": "W-9w_jlulktR",
    "outputId": "fe64f223-5fe2-4a6d-8b04-4bc8f7fe3e28"
   },
   "outputs": [
    {
     "name": "stdout",
     "output_type": "stream",
     "text": [
      "Group 1: -564.386\n",
      "Group 2: -576.257\n",
      "Group 3: nan\n"
     ]
    }
   ],
   "source": [
    "\n",
    "entropy_1 = entropy(group_1)\n",
    "entropy_2 = entropy(group_2)\n",
    "entropy_3 = entropy(group_3)\n",
    "\n",
    "print(f'Group 1: {entropy_1:.3f}\\nGroup 2: {entropy_2:.3f}\\nGroup 3: {entropy_3:.3f}')"
   ]
  },
  {
   "cell_type": "code",
   "execution_count": 11,
   "metadata": {
    "colab": {
     "base_uri": "https://localhost:8080/",
     "height": 338
    },
    "executionInfo": {
     "elapsed": 34,
     "status": "ok",
     "timestamp": 1678840190314,
     "user": {
      "displayName": "OPENCV KOREA",
      "userId": "03832798034950049293"
     },
     "user_tz": -540
    },
    "id": "HochMP8rlk1x",
    "outputId": "9d842445-2a0b-49c1-f8ff-569f3e6ac251"
   },
   "outputs": [
    {
     "data": {
      "image/png": "[encoded data removed]",
      "text/plain": [
       "<Figure size 500x500 with 1 Axes>"
      ]
     },
     "metadata": {},
     "output_type": "display_data"
    }
   ],
   "source": [
    "plt.figure(figsize=(5, 5))\n",
    "plt.bar(['Group 1', 'Group 2', 'Group 3'], [entropy_1, entropy_2, entropy_3])\n",
    "plt.title('Entropy', fontsize=15)\n",
    "plt.show()"
   ]
  },
  {
   "cell_type": "markdown",
   "metadata": {
    "id": "OBnlrMm2nj_n"
   },
   "source": [
    "# 지니 계수 (Gini Index)\n",
    "<img src=\"http://www.learnbymarketing.com/wp-content/uploads/2016/02/gini-index-formula.png\" width=200>"
   ]
  },
  {
   "cell_type": "code",
   "execution_count": 12,
   "metadata": {
    "colab": {
     "base_uri": "https://localhost:8080/",
     "height": 281
    },
    "executionInfo": {
     "elapsed": 33,
     "status": "ok",
     "timestamp": 1678840190314,
     "user": {
      "displayName": "OPENCV KOREA",
      "userId": "03832798034950049293"
     },
     "user_tz": -540
    },
    "id": "EOZ5Btk6lk75",
    "outputId": "246c49e2-22aa-460b-9146-116b8dc13e8a"
   },
   "outputs": [
    {
     "data": {
      "image/png": "[encoded data removed]",
      "text/plain": [
       "<Figure size 1200x400 with 3 Axes>"
      ]
     },
     "metadata": {},
     "output_type": "display_data"
    }
   ],
   "source": [
    "def gini(x):\n",
    "    return 1 - ((x / x.sum())**2).sum()\n",
    "\n",
    "\n",
    "group_1 = np.array([50, 50])\n",
    "group_2 = np.array([30, 70])\n",
    "group_3 = np.array([0, 100])\n",
    "\n",
    "fig, axes = plt.subplots(1, 3)\n",
    "fig.set_size_inches(12, 4)\n",
    "axes[0].bar(['Positive', 'Negative'], group_1, color='blue')\n",
    "axes[0].set_title('Group 1')\n",
    "axes[1].bar(['Positive', 'Negative'], group_2, color='red')\n",
    "axes[1].set_title('Group 2')\n",
    "axes[2].bar(['Positive', 'Negative'], group_3, color='green')\n",
    "axes[2].set_title('Group 3')\n",
    "plt.show()\n",
    "# 이진분류"
   ]
  },
  {
   "cell_type": "code",
   "execution_count": 13,
   "metadata": {
    "colab": {
     "base_uri": "https://localhost:8080/"
    },
    "executionInfo": {
     "elapsed": 31,
     "status": "ok",
     "timestamp": 1678840190314,
     "user": {
      "displayName": "OPENCV KOREA",
      "userId": "03832798034950049293"
     },
     "user_tz": -540
    },
    "id": "zyH_WcyHnoCe",
    "outputId": "15d05e3c-d0fa-4978-b3d6-fa0ac1f0d54c"
   },
   "outputs": [
    {
     "name": "stdout",
     "output_type": "stream",
     "text": [
      "Group 1: 0.500\n",
      "Group 2: 0.420\n",
      "Group 3: 0.000\n"
     ]
    }
   ],
   "source": [
    "gini_1 = gini(group_1)\n",
    "gini_2 = gini(group_2)\n",
    "gini_3 = gini(group_3)\n",
    "\n",
    "print(f'Group 1: {gini_1:.3f}\\nGroup 2: {gini_2:.3f}\\nGroup 3: {gini_3:.3f}')"
   ]
  },
  {
   "cell_type": "code",
   "execution_count": 14,
   "metadata": {
    "colab": {
     "base_uri": "https://localhost:8080/",
     "height": 338
    },
    "executionInfo": {
     "elapsed": 28,
     "status": "ok",
     "timestamp": 1678840190315,
     "user": {
      "displayName": "OPENCV KOREA",
      "userId": "03832798034950049293"
     },
     "user_tz": -540
    },
    "id": "b--Dvr8unmIK",
    "outputId": "2455afc2-c77c-406d-8ea2-e330b6a67fc1"
   },
   "outputs": [
    {
     "data": {
      "image/png": "[encoded data removed]",
      "text/plain": [
       "<Figure size 500x500 with 1 Axes>"
      ]
     },
     "metadata": {},
     "output_type": "display_data"
    }
   ],
   "source": [
    "plt.figure(figsize=(5, 5))\n",
    "plt.bar(['Group 1', 'Group 2', 'Group 3'], [gini_1, gini_2, gini_3])\n",
    "plt.title('Gini Index', fontsize=15)\n",
    "plt.show()"
   ]
  },
  {
   "cell_type": "markdown",
   "metadata": {
    "id": "mWyB0Z8FoOYo"
   },
   "source": [
    "# DecisionTree"
   ]
  },
  {
   "cell_type": "code",
   "execution_count": 15,
   "metadata": {
    "executionInfo": {
     "elapsed": 27,
     "status": "ok",
     "timestamp": 1678840190316,
     "user": {
      "displayName": "OPENCV KOREA",
      "userId": "03832798034950049293"
     },
     "user_tz": -540
    },
    "id": "aw3YhLUwoPlx"
   },
   "outputs": [],
   "source": [
    "from sklearn.tree import DecisionTreeClassifier\n",
    "from sklearn.datasets import load_breast_cancer\n",
    "from sklearn.model_selection import train_test_split\n",
    "from sklearn.metrics import accuracy_score\n",
    "SEED = 42"
   ]
  },
  {
   "cell_type": "code",
   "execution_count": 16,
   "metadata": {
    "colab": {
     "base_uri": "https://localhost:8080/"
    },
    "executionInfo": {
     "elapsed": 5,
     "status": "ok",
     "timestamp": 1678840285113,
     "user": {
      "displayName": "OPENCV KOREA",
      "userId": "03832798034950049293"
     },
     "user_tz": -540
    },
    "id": "9mCEaBqZoREF",
    "outputId": "bdd195ff-18f3-48a5-d075-f8834458655d"
   },
   "outputs": [
    {
     "name": "stdout",
     "output_type": "stream",
     "text": [
      "Accuracy Score: 0.900\n"
     ]
    }
   ],
   "source": [
    "y = df['target']\n",
    "X = df.drop('target', axis=1)\n",
    "X_train, X_test, y_train, y_test = train_test_split(X, y, stratify=y, test_size=0.2)\n",
    "\n",
    "tree = DecisionTreeClassifier(random_state=0)\n",
    "tree.fit(X_train, y_train)\n",
    "pred = tree.predict(X_test)\n",
    "accuracy = accuracy_score(pred, y_test)\n",
    "print(f'Accuracy Score: {accuracy:.3f}')"
   ]
  },
  {
   "cell_type": "markdown",
   "metadata": {
    "id": "CwXpksqZrnKJ",
    "tags": []
   },
   "source": [
    "# 트리 시각화"
   ]
  },
  {
   "cell_type": "code",
   "execution_count": 17,
   "metadata": {
    "tags": []
   },
   "outputs": [],
   "source": [
    "# ! pip install graphviz"
   ]
  },
  {
   "cell_type": "code",
   "execution_count": 18,
   "metadata": {
    "colab": {
     "base_uri": "https://localhost:8080/",
     "height": 206
    },
    "executionInfo": {
     "elapsed": 10,
     "status": "ok",
     "timestamp": 1678840422422,
     "user": {
      "displayName": "OPENCV KOREA",
      "userId": "03832798034950049293"
     },
     "user_tz": -540
    },
    "id": "DmUsWifbr89k",
    "outputId": "2d11e41d-ab08-4b28-9eb5-c9c2264a5a7a"
   },
   "outputs": [
    {
     "data": {
      "text/html": [
       "<div>\n",
       "<style scoped>\n",
       "    .dataframe tbody tr th:only-of-type {\n",
       "        vertical-align: middle;\n",
       "    }\n",
       "\n",
       "    .dataframe tbody tr th {\n",
       "        vertical-align: top;\n",
       "    }\n",
       "\n",
       "    .dataframe thead th {\n",
       "        text-align: right;\n",
       "    }\n",
       "</style>\n",
       "<table border=\"1\" class=\"dataframe\">\n",
       "  <thead>\n",
       "    <tr style=\"text-align: right;\">\n",
       "      <th></th>\n",
       "      <th>sepal length (cm)</th>\n",
       "      <th>sepal width (cm)</th>\n",
       "      <th>petal length (cm)</th>\n",
       "      <th>petal width (cm)</th>\n",
       "      <th>target</th>\n",
       "    </tr>\n",
       "  </thead>\n",
       "  <tbody>\n",
       "    <tr>\n",
       "      <th>0</th>\n",
       "      <td>5.1</td>\n",
       "      <td>3.5</td>\n",
       "      <td>1.4</td>\n",
       "      <td>0.2</td>\n",
       "      <td>0</td>\n",
       "    </tr>\n",
       "    <tr>\n",
       "      <th>1</th>\n",
       "      <td>4.9</td>\n",
       "      <td>3.0</td>\n",
       "      <td>1.4</td>\n",
       "      <td>0.2</td>\n",
       "      <td>0</td>\n",
       "    </tr>\n",
       "    <tr>\n",
       "      <th>2</th>\n",
       "      <td>4.7</td>\n",
       "      <td>3.2</td>\n",
       "      <td>1.3</td>\n",
       "      <td>0.2</td>\n",
       "      <td>0</td>\n",
       "    </tr>\n",
       "    <tr>\n",
       "      <th>3</th>\n",
       "      <td>4.6</td>\n",
       "      <td>3.1</td>\n",
       "      <td>1.5</td>\n",
       "      <td>0.2</td>\n",
       "      <td>0</td>\n",
       "    </tr>\n",
       "    <tr>\n",
       "      <th>4</th>\n",
       "      <td>5.0</td>\n",
       "      <td>3.6</td>\n",
       "      <td>1.4</td>\n",
       "      <td>0.2</td>\n",
       "      <td>0</td>\n",
       "    </tr>\n",
       "  </tbody>\n",
       "</table>\n",
       "</div>"
      ],
      "text/plain": [
       "   sepal length (cm)  sepal width (cm)  petal length (cm)  petal width (cm)  \\\n",
       "0                5.1               3.5                1.4               0.2   \n",
       "1                4.9               3.0                1.4               0.2   \n",
       "2                4.7               3.2                1.3               0.2   \n",
       "3                4.6               3.1                1.5               0.2   \n",
       "4                5.0               3.6                1.4               0.2   \n",
       "\n",
       "   target  \n",
       "0       0  \n",
       "1       0  \n",
       "2       0  \n",
       "3       0  \n",
       "4       0  "
      ]
     },
     "execution_count": 18,
     "metadata": {},
     "output_type": "execute_result"
    }
   ],
   "source": [
    "df.head()"
   ]
  },
  {
   "cell_type": "code",
   "execution_count": 19,
   "metadata": {
    "colab": {
     "base_uri": "https://localhost:8080/",
     "height": 933
    },
    "executionInfo": {
     "elapsed": 725,
     "status": "ok",
     "timestamp": 1678840459419,
     "user": {
      "displayName": "OPENCV KOREA",
      "userId": "03832798034950049293"
     },
     "user_tz": -540
    },
    "id": "QHvEOLXtoRvj",
    "outputId": "aadb7cbc-91a5-4b00-b3cd-d1999ec066c0"
   },
   "outputs": [
    {
     "name": "stdout",
     "output_type": "stream",
     "text": [
      "정확도: 90.00 %\n"
     ]
    },
    {
     "data": {
      "image/svg+xml": [
       "<?xml version=\"1.0\" encoding=\"UTF-8\" standalone=\"no\"?>\n",
       "<!DOCTYPE svg PUBLIC \"-//W3C//DTD SVG 1.1//EN\"\n",
       " \"http://www.w3.org/Graphics/SVG/1.1/DTD/svg11.dtd\">\n",
       "<!-- Generated by graphviz version 2.48.0 (20210717.1556)\n",
       " -->\n",
       "<!-- Title: Tree Pages: 1 -->\n",
       "<svg width=\"347pt\" height=\"552pt\"\n",
       " viewBox=\"0.00 0.00 347.00 552.00\" xmlns=\"http://www.w3.org/2000/svg\" xmlns:xlink=\"http://www.w3.org/1999/xlink\">\n",
       "<g id=\"graph0\" class=\"graph\" transform=\"scale(1 1) rotate(0) translate(4 548)\">\n",
       "<title>Tree</title>\n",
       "<polygon fill=\"white\" stroke=\"transparent\" points=\"-4,4 -4,-548 343,-548 343,4 -4,4\"/>\n",
       "<!-- 0 -->\n",
       "<g id=\"node1\" class=\"node\">\n",
       "<title>0</title>\n",
       "<polygon fill=\"#ffffff\" stroke=\"black\" points=\"206.5,-544 57.5,-544 57.5,-461 206.5,-461 206.5,-544\"/>\n",
       "<text text-anchor=\"middle\" x=\"132\" y=\"-528.8\" font-family=\"Times New Roman,serif\" font-size=\"14.00\">petal width (cm) &lt;= 0.8</text>\n",
       "<text text-anchor=\"middle\" x=\"132\" y=\"-513.8\" font-family=\"Times New Roman,serif\" font-size=\"14.00\">gini = 0.667</text>\n",
       "<text text-anchor=\"middle\" x=\"132\" y=\"-498.8\" font-family=\"Times New Roman,serif\" font-size=\"14.00\">samples = 120</text>\n",
       "<text text-anchor=\"middle\" x=\"132\" y=\"-483.8\" font-family=\"Times New Roman,serif\" font-size=\"14.00\">value = [40, 40, 40]</text>\n",
       "<text text-anchor=\"middle\" x=\"132\" y=\"-468.8\" font-family=\"Times New Roman,serif\" font-size=\"14.00\">class = t</text>\n",
       "</g>\n",
       "<!-- 1 -->\n",
       "<g id=\"node2\" class=\"node\">\n",
       "<title>1</title>\n",
       "<polygon fill=\"#e58139\" stroke=\"black\" points=\"112,-417.5 0,-417.5 0,-349.5 112,-349.5 112,-417.5\"/>\n",
       "<text text-anchor=\"middle\" x=\"56\" y=\"-402.3\" font-family=\"Times New Roman,serif\" font-size=\"14.00\">gini = 0.0</text>\n",
       "<text text-anchor=\"middle\" x=\"56\" y=\"-387.3\" font-family=\"Times New Roman,serif\" font-size=\"14.00\">samples = 40</text>\n",
       "<text text-anchor=\"middle\" x=\"56\" y=\"-372.3\" font-family=\"Times New Roman,serif\" font-size=\"14.00\">value = [40, 0, 0]</text>\n",
       "<text text-anchor=\"middle\" x=\"56\" y=\"-357.3\" font-family=\"Times New Roman,serif\" font-size=\"14.00\">class = t</text>\n",
       "</g>\n",
       "<!-- 0&#45;&gt;1 -->\n",
       "<g id=\"edge1\" class=\"edge\">\n",
       "<title>0&#45;&gt;1</title>\n",
       "<path fill=\"none\" stroke=\"black\" d=\"M105.63,-460.91C98.32,-449.65 90.37,-437.42 83.03,-426.11\"/>\n",
       "<polygon fill=\"black\" stroke=\"black\" points=\"85.93,-424.15 77.54,-417.67 80.06,-427.96 85.93,-424.15\"/>\n",
       "<text text-anchor=\"middle\" x=\"72.35\" y=\"-438.42\" font-family=\"Times New Roman,serif\" font-size=\"14.00\">True</text>\n",
       "</g>\n",
       "<!-- 2 -->\n",
       "<g id=\"node3\" class=\"node\">\n",
       "<title>2</title>\n",
       "<polygon fill=\"#ffffff\" stroke=\"black\" points=\"285.5,-425 130.5,-425 130.5,-342 285.5,-342 285.5,-425\"/>\n",
       "<text text-anchor=\"middle\" x=\"208\" y=\"-409.8\" font-family=\"Times New Roman,serif\" font-size=\"14.00\">petal width (cm) &lt;= 1.65</text>\n",
       "<text text-anchor=\"middle\" x=\"208\" y=\"-394.8\" font-family=\"Times New Roman,serif\" font-size=\"14.00\">gini = 0.5</text>\n",
       "<text text-anchor=\"middle\" x=\"208\" y=\"-379.8\" font-family=\"Times New Roman,serif\" font-size=\"14.00\">samples = 80</text>\n",
       "<text text-anchor=\"middle\" x=\"208\" y=\"-364.8\" font-family=\"Times New Roman,serif\" font-size=\"14.00\">value = [0, 40, 40]</text>\n",
       "<text text-anchor=\"middle\" x=\"208\" y=\"-349.8\" font-family=\"Times New Roman,serif\" font-size=\"14.00\">class = a</text>\n",
       "</g>\n",
       "<!-- 0&#45;&gt;2 -->\n",
       "<g id=\"edge2\" class=\"edge\">\n",
       "<title>0&#45;&gt;2</title>\n",
       "<path fill=\"none\" stroke=\"black\" d=\"M158.37,-460.91C164.09,-452.1 170.19,-442.7 176.1,-433.61\"/>\n",
       "<polygon fill=\"black\" stroke=\"black\" points=\"179.17,-435.31 181.68,-425.02 173.3,-431.5 179.17,-435.31\"/>\n",
       "<text text-anchor=\"middle\" x=\"186.87\" y=\"-445.78\" font-family=\"Times New Roman,serif\" font-size=\"14.00\">False</text>\n",
       "</g>\n",
       "<!-- 3 -->\n",
       "<g id=\"node4\" class=\"node\">\n",
       "<title>3</title>\n",
       "<polygon fill=\"#48e78a\" stroke=\"black\" points=\"208.5,-306 57.5,-306 57.5,-223 208.5,-223 208.5,-306\"/>\n",
       "<text text-anchor=\"middle\" x=\"133\" y=\"-290.8\" font-family=\"Times New Roman,serif\" font-size=\"14.00\">petal length (cm) &lt;= 5.0</text>\n",
       "<text text-anchor=\"middle\" x=\"133\" y=\"-275.8\" font-family=\"Times New Roman,serif\" font-size=\"14.00\">gini = 0.13</text>\n",
       "<text text-anchor=\"middle\" x=\"133\" y=\"-260.8\" font-family=\"Times New Roman,serif\" font-size=\"14.00\">samples = 43</text>\n",
       "<text text-anchor=\"middle\" x=\"133\" y=\"-245.8\" font-family=\"Times New Roman,serif\" font-size=\"14.00\">value = [0, 40, 3]</text>\n",
       "<text text-anchor=\"middle\" x=\"133\" y=\"-230.8\" font-family=\"Times New Roman,serif\" font-size=\"14.00\">class = a</text>\n",
       "</g>\n",
       "<!-- 2&#45;&gt;3 -->\n",
       "<g id=\"edge3\" class=\"edge\">\n",
       "<title>2&#45;&gt;3</title>\n",
       "<path fill=\"none\" stroke=\"black\" d=\"M181.98,-341.91C176.34,-333.1 170.31,-323.7 164.48,-314.61\"/>\n",
       "<polygon fill=\"black\" stroke=\"black\" points=\"167.32,-312.55 158.97,-306.02 161.43,-316.33 167.32,-312.55\"/>\n",
       "</g>\n",
       "<!-- 8 -->\n",
       "<g id=\"node9\" class=\"node\">\n",
       "<title>8</title>\n",
       "<polygon fill=\"#8139e5\" stroke=\"black\" points=\"339,-298.5 227,-298.5 227,-230.5 339,-230.5 339,-298.5\"/>\n",
       "<text text-anchor=\"middle\" x=\"283\" y=\"-283.3\" font-family=\"Times New Roman,serif\" font-size=\"14.00\">gini = 0.0</text>\n",
       "<text text-anchor=\"middle\" x=\"283\" y=\"-268.3\" font-family=\"Times New Roman,serif\" font-size=\"14.00\">samples = 37</text>\n",
       "<text text-anchor=\"middle\" x=\"283\" y=\"-253.3\" font-family=\"Times New Roman,serif\" font-size=\"14.00\">value = [0, 0, 37]</text>\n",
       "<text text-anchor=\"middle\" x=\"283\" y=\"-238.3\" font-family=\"Times New Roman,serif\" font-size=\"14.00\">class = r</text>\n",
       "</g>\n",
       "<!-- 2&#45;&gt;8 -->\n",
       "<g id=\"edge8\" class=\"edge\">\n",
       "<title>2&#45;&gt;8</title>\n",
       "<path fill=\"none\" stroke=\"black\" d=\"M234.02,-341.91C241.24,-330.65 249.08,-318.42 256.33,-307.11\"/>\n",
       "<polygon fill=\"black\" stroke=\"black\" points=\"259.29,-308.97 261.74,-298.67 253.4,-305.2 259.29,-308.97\"/>\n",
       "</g>\n",
       "<!-- 4 -->\n",
       "<g id=\"node5\" class=\"node\">\n",
       "<title>4</title>\n",
       "<polygon fill=\"#39e581\" stroke=\"black\" points=\"112,-179.5 0,-179.5 0,-111.5 112,-111.5 112,-179.5\"/>\n",
       "<text text-anchor=\"middle\" x=\"56\" y=\"-164.3\" font-family=\"Times New Roman,serif\" font-size=\"14.00\">gini = 0.0</text>\n",
       "<text text-anchor=\"middle\" x=\"56\" y=\"-149.3\" font-family=\"Times New Roman,serif\" font-size=\"14.00\">samples = 39</text>\n",
       "<text text-anchor=\"middle\" x=\"56\" y=\"-134.3\" font-family=\"Times New Roman,serif\" font-size=\"14.00\">value = [0, 39, 0]</text>\n",
       "<text text-anchor=\"middle\" x=\"56\" y=\"-119.3\" font-family=\"Times New Roman,serif\" font-size=\"14.00\">class = a</text>\n",
       "</g>\n",
       "<!-- 3&#45;&gt;4 -->\n",
       "<g id=\"edge4\" class=\"edge\">\n",
       "<title>3&#45;&gt;4</title>\n",
       "<path fill=\"none\" stroke=\"black\" d=\"M106.29,-222.91C98.88,-211.65 90.83,-199.42 83.38,-188.11\"/>\n",
       "<polygon fill=\"black\" stroke=\"black\" points=\"86.25,-186.1 77.83,-179.67 80.4,-189.94 86.25,-186.1\"/>\n",
       "</g>\n",
       "<!-- 5 -->\n",
       "<g id=\"node6\" class=\"node\">\n",
       "<title>5</title>\n",
       "<polygon fill=\"#ab7bee\" stroke=\"black\" points=\"290,-187 130,-187 130,-104 290,-104 290,-187\"/>\n",
       "<text text-anchor=\"middle\" x=\"210\" y=\"-171.8\" font-family=\"Times New Roman,serif\" font-size=\"14.00\">sepal length (cm) &lt;= 6.05</text>\n",
       "<text text-anchor=\"middle\" x=\"210\" y=\"-156.8\" font-family=\"Times New Roman,serif\" font-size=\"14.00\">gini = 0.375</text>\n",
       "<text text-anchor=\"middle\" x=\"210\" y=\"-141.8\" font-family=\"Times New Roman,serif\" font-size=\"14.00\">samples = 4</text>\n",
       "<text text-anchor=\"middle\" x=\"210\" y=\"-126.8\" font-family=\"Times New Roman,serif\" font-size=\"14.00\">value = [0, 1, 3]</text>\n",
       "<text text-anchor=\"middle\" x=\"210\" y=\"-111.8\" font-family=\"Times New Roman,serif\" font-size=\"14.00\">class = r</text>\n",
       "</g>\n",
       "<!-- 3&#45;&gt;5 -->\n",
       "<g id=\"edge5\" class=\"edge\">\n",
       "<title>3&#45;&gt;5</title>\n",
       "<path fill=\"none\" stroke=\"black\" d=\"M159.71,-222.91C165.51,-214.1 171.7,-204.7 177.68,-195.61\"/>\n",
       "<polygon fill=\"black\" stroke=\"black\" points=\"180.76,-197.3 183.33,-187.02 174.91,-193.45 180.76,-197.3\"/>\n",
       "</g>\n",
       "<!-- 6 -->\n",
       "<g id=\"node7\" class=\"node\">\n",
       "<title>6</title>\n",
       "<polygon fill=\"#39e581\" stroke=\"black\" points=\"200.5,-68 95.5,-68 95.5,0 200.5,0 200.5,-68\"/>\n",
       "<text text-anchor=\"middle\" x=\"148\" y=\"-52.8\" font-family=\"Times New Roman,serif\" font-size=\"14.00\">gini = 0.0</text>\n",
       "<text text-anchor=\"middle\" x=\"148\" y=\"-37.8\" font-family=\"Times New Roman,serif\" font-size=\"14.00\">samples = 1</text>\n",
       "<text text-anchor=\"middle\" x=\"148\" y=\"-22.8\" font-family=\"Times New Roman,serif\" font-size=\"14.00\">value = [0, 1, 0]</text>\n",
       "<text text-anchor=\"middle\" x=\"148\" y=\"-7.8\" font-family=\"Times New Roman,serif\" font-size=\"14.00\">class = a</text>\n",
       "</g>\n",
       "<!-- 5&#45;&gt;6 -->\n",
       "<g id=\"edge6\" class=\"edge\">\n",
       "<title>5&#45;&gt;6</title>\n",
       "<path fill=\"none\" stroke=\"black\" d=\"M186.91,-103.73C182.01,-95.06 176.82,-85.9 171.88,-77.18\"/>\n",
       "<polygon fill=\"black\" stroke=\"black\" points=\"174.83,-75.28 166.85,-68.3 168.74,-78.73 174.83,-75.28\"/>\n",
       "</g>\n",
       "<!-- 7 -->\n",
       "<g id=\"node8\" class=\"node\">\n",
       "<title>7</title>\n",
       "<polygon fill=\"#8139e5\" stroke=\"black\" points=\"323.5,-68 218.5,-68 218.5,0 323.5,0 323.5,-68\"/>\n",
       "<text text-anchor=\"middle\" x=\"271\" y=\"-52.8\" font-family=\"Times New Roman,serif\" font-size=\"14.00\">gini = 0.0</text>\n",
       "<text text-anchor=\"middle\" x=\"271\" y=\"-37.8\" font-family=\"Times New Roman,serif\" font-size=\"14.00\">samples = 3</text>\n",
       "<text text-anchor=\"middle\" x=\"271\" y=\"-22.8\" font-family=\"Times New Roman,serif\" font-size=\"14.00\">value = [0, 0, 3]</text>\n",
       "<text text-anchor=\"middle\" x=\"271\" y=\"-7.8\" font-family=\"Times New Roman,serif\" font-size=\"14.00\">class = r</text>\n",
       "</g>\n",
       "<!-- 5&#45;&gt;7 -->\n",
       "<g id=\"edge7\" class=\"edge\">\n",
       "<title>5&#45;&gt;7</title>\n",
       "<path fill=\"none\" stroke=\"black\" d=\"M232.71,-103.73C237.54,-95.06 242.65,-85.9 247.5,-77.18\"/>\n",
       "<polygon fill=\"black\" stroke=\"black\" points=\"250.64,-78.74 252.45,-68.3 244.53,-75.33 250.64,-78.74\"/>\n",
       "</g>\n",
       "</g>\n",
       "</svg>\n"
      ],
      "text/plain": [
       "<graphviz.sources.Source at 0x1e17fcc8700>"
      ]
     },
     "metadata": {},
     "output_type": "display_data"
    }
   ],
   "source": [
    "from sklearn.tree import export_graphviz\n",
    "from sklearn.metrics import accuracy_score\n",
    "import graphviz\n",
    "\n",
    "def show_trees(tree):\n",
    "    export_graphviz(tree, out_file=\"tree.dot\", class_names='target',\n",
    "                    feature_names=X_train.columns, \n",
    "                    precision=3, filled=True)\n",
    "    with open(\"tree.dot\") as f:\n",
    "        dot_graph = f.read()\n",
    "    pred = tree.predict(X_test)\n",
    "    print('정확도: {:.2f} %'.format(accuracy_score(y_test, pred) * 100))\n",
    "\n",
    "    display(graphviz.Source(dot_graph))\n",
    "show_trees(tree)\n"
   ]
  },
  {
   "cell_type": "markdown",
   "metadata": {
    "id": "_iHAP9FGsMED"
   },
   "source": [
    "## max_depth \n",
    "* 최대 트리의 깊이 (기본 값 : None, 제한 없음)"
   ]
  },
  {
   "cell_type": "code",
   "execution_count": 20,
   "metadata": {
    "colab": {
     "base_uri": "https://localhost:8080/",
     "height": 616
    },
    "executionInfo": {
     "elapsed": 7,
     "status": "ok",
     "timestamp": 1678840512261,
     "user": {
      "displayName": "OPENCV KOREA",
      "userId": "03832798034950049293"
     },
     "user_tz": -540
    },
    "id": "YiQ-Umi-oSvh",
    "outputId": "9e2e62cc-548c-4068-b369-b1925828a29c"
   },
   "outputs": [
    {
     "name": "stdout",
     "output_type": "stream",
     "text": [
      "정확도: 90.00 %\n"
     ]
    },
    {
     "data": {
      "image/svg+xml": [
       "<?xml version=\"1.0\" encoding=\"UTF-8\" standalone=\"no\"?>\n",
       "<!DOCTYPE svg PUBLIC \"-//W3C//DTD SVG 1.1//EN\"\n",
       " \"http://www.w3.org/Graphics/SVG/1.1/DTD/svg11.dtd\">\n",
       "<!-- Generated by graphviz version 2.48.0 (20210717.1556)\n",
       " -->\n",
       "<!-- Title: Tree Pages: 1 -->\n",
       "<svg width=\"347pt\" height=\"433pt\"\n",
       " viewBox=\"0.00 0.00 347.00 433.00\" xmlns=\"http://www.w3.org/2000/svg\" xmlns:xlink=\"http://www.w3.org/1999/xlink\">\n",
       "<g id=\"graph0\" class=\"graph\" transform=\"scale(1 1) rotate(0) translate(4 429)\">\n",
       "<title>Tree</title>\n",
       "<polygon fill=\"white\" stroke=\"transparent\" points=\"-4,4 -4,-429 343,-429 343,4 -4,4\"/>\n",
       "<!-- 0 -->\n",
       "<g id=\"node1\" class=\"node\">\n",
       "<title>0</title>\n",
       "<polygon fill=\"#ffffff\" stroke=\"black\" points=\"211,-425 53,-425 53,-342 211,-342 211,-425\"/>\n",
       "<text text-anchor=\"middle\" x=\"132\" y=\"-409.8\" font-family=\"Times New Roman,serif\" font-size=\"14.00\">petal length (cm) &lt;= 2.45</text>\n",
       "<text text-anchor=\"middle\" x=\"132\" y=\"-394.8\" font-family=\"Times New Roman,serif\" font-size=\"14.00\">gini = 0.667</text>\n",
       "<text text-anchor=\"middle\" x=\"132\" y=\"-379.8\" font-family=\"Times New Roman,serif\" font-size=\"14.00\">samples = 120</text>\n",
       "<text text-anchor=\"middle\" x=\"132\" y=\"-364.8\" font-family=\"Times New Roman,serif\" font-size=\"14.00\">value = [40, 40, 40]</text>\n",
       "<text text-anchor=\"middle\" x=\"132\" y=\"-349.8\" font-family=\"Times New Roman,serif\" font-size=\"14.00\">class = t</text>\n",
       "</g>\n",
       "<!-- 1 -->\n",
       "<g id=\"node2\" class=\"node\">\n",
       "<title>1</title>\n",
       "<polygon fill=\"#e58139\" stroke=\"black\" points=\"112,-298.5 0,-298.5 0,-230.5 112,-230.5 112,-298.5\"/>\n",
       "<text text-anchor=\"middle\" x=\"56\" y=\"-283.3\" font-family=\"Times New Roman,serif\" font-size=\"14.00\">gini = 0.0</text>\n",
       "<text text-anchor=\"middle\" x=\"56\" y=\"-268.3\" font-family=\"Times New Roman,serif\" font-size=\"14.00\">samples = 40</text>\n",
       "<text text-anchor=\"middle\" x=\"56\" y=\"-253.3\" font-family=\"Times New Roman,serif\" font-size=\"14.00\">value = [40, 0, 0]</text>\n",
       "<text text-anchor=\"middle\" x=\"56\" y=\"-238.3\" font-family=\"Times New Roman,serif\" font-size=\"14.00\">class = t</text>\n",
       "</g>\n",
       "<!-- 0&#45;&gt;1 -->\n",
       "<g id=\"edge1\" class=\"edge\">\n",
       "<title>0&#45;&gt;1</title>\n",
       "<path fill=\"none\" stroke=\"black\" d=\"M105.63,-341.91C98.32,-330.65 90.37,-318.42 83.03,-307.11\"/>\n",
       "<polygon fill=\"black\" stroke=\"black\" points=\"85.93,-305.15 77.54,-298.67 80.06,-308.96 85.93,-305.15\"/>\n",
       "<text text-anchor=\"middle\" x=\"72.35\" y=\"-319.42\" font-family=\"Times New Roman,serif\" font-size=\"14.00\">True</text>\n",
       "</g>\n",
       "<!-- 2 -->\n",
       "<g id=\"node3\" class=\"node\">\n",
       "<title>2</title>\n",
       "<polygon fill=\"#ffffff\" stroke=\"black\" points=\"285.5,-306 130.5,-306 130.5,-223 285.5,-223 285.5,-306\"/>\n",
       "<text text-anchor=\"middle\" x=\"208\" y=\"-290.8\" font-family=\"Times New Roman,serif\" font-size=\"14.00\">petal width (cm) &lt;= 1.65</text>\n",
       "<text text-anchor=\"middle\" x=\"208\" y=\"-275.8\" font-family=\"Times New Roman,serif\" font-size=\"14.00\">gini = 0.5</text>\n",
       "<text text-anchor=\"middle\" x=\"208\" y=\"-260.8\" font-family=\"Times New Roman,serif\" font-size=\"14.00\">samples = 80</text>\n",
       "<text text-anchor=\"middle\" x=\"208\" y=\"-245.8\" font-family=\"Times New Roman,serif\" font-size=\"14.00\">value = [0, 40, 40]</text>\n",
       "<text text-anchor=\"middle\" x=\"208\" y=\"-230.8\" font-family=\"Times New Roman,serif\" font-size=\"14.00\">class = a</text>\n",
       "</g>\n",
       "<!-- 0&#45;&gt;2 -->\n",
       "<g id=\"edge2\" class=\"edge\">\n",
       "<title>0&#45;&gt;2</title>\n",
       "<path fill=\"none\" stroke=\"black\" d=\"M158.37,-341.91C164.09,-333.1 170.19,-323.7 176.1,-314.61\"/>\n",
       "<polygon fill=\"black\" stroke=\"black\" points=\"179.17,-316.31 181.68,-306.02 173.3,-312.5 179.17,-316.31\"/>\n",
       "<text text-anchor=\"middle\" x=\"186.87\" y=\"-326.78\" font-family=\"Times New Roman,serif\" font-size=\"14.00\">False</text>\n",
       "</g>\n",
       "<!-- 3 -->\n",
       "<g id=\"node4\" class=\"node\">\n",
       "<title>3</title>\n",
       "<polygon fill=\"#48e78a\" stroke=\"black\" points=\"208.5,-187 57.5,-187 57.5,-104 208.5,-104 208.5,-187\"/>\n",
       "<text text-anchor=\"middle\" x=\"133\" y=\"-171.8\" font-family=\"Times New Roman,serif\" font-size=\"14.00\">petal length (cm) &lt;= 5.0</text>\n",
       "<text text-anchor=\"middle\" x=\"133\" y=\"-156.8\" font-family=\"Times New Roman,serif\" font-size=\"14.00\">gini = 0.13</text>\n",
       "<text text-anchor=\"middle\" x=\"133\" y=\"-141.8\" font-family=\"Times New Roman,serif\" font-size=\"14.00\">samples = 43</text>\n",
       "<text text-anchor=\"middle\" x=\"133\" y=\"-126.8\" font-family=\"Times New Roman,serif\" font-size=\"14.00\">value = [0, 40, 3]</text>\n",
       "<text text-anchor=\"middle\" x=\"133\" y=\"-111.8\" font-family=\"Times New Roman,serif\" font-size=\"14.00\">class = a</text>\n",
       "</g>\n",
       "<!-- 2&#45;&gt;3 -->\n",
       "<g id=\"edge3\" class=\"edge\">\n",
       "<title>2&#45;&gt;3</title>\n",
       "<path fill=\"none\" stroke=\"black\" d=\"M181.98,-222.91C176.34,-214.1 170.31,-204.7 164.48,-195.61\"/>\n",
       "<polygon fill=\"black\" stroke=\"black\" points=\"167.32,-193.55 158.97,-187.02 161.43,-197.33 167.32,-193.55\"/>\n",
       "</g>\n",
       "<!-- 6 -->\n",
       "<g id=\"node7\" class=\"node\">\n",
       "<title>6</title>\n",
       "<polygon fill=\"#8139e5\" stroke=\"black\" points=\"339,-179.5 227,-179.5 227,-111.5 339,-111.5 339,-179.5\"/>\n",
       "<text text-anchor=\"middle\" x=\"283\" y=\"-164.3\" font-family=\"Times New Roman,serif\" font-size=\"14.00\">gini = 0.0</text>\n",
       "<text text-anchor=\"middle\" x=\"283\" y=\"-149.3\" font-family=\"Times New Roman,serif\" font-size=\"14.00\">samples = 37</text>\n",
       "<text text-anchor=\"middle\" x=\"283\" y=\"-134.3\" font-family=\"Times New Roman,serif\" font-size=\"14.00\">value = [0, 0, 37]</text>\n",
       "<text text-anchor=\"middle\" x=\"283\" y=\"-119.3\" font-family=\"Times New Roman,serif\" font-size=\"14.00\">class = r</text>\n",
       "</g>\n",
       "<!-- 2&#45;&gt;6 -->\n",
       "<g id=\"edge6\" class=\"edge\">\n",
       "<title>2&#45;&gt;6</title>\n",
       "<path fill=\"none\" stroke=\"black\" d=\"M234.02,-222.91C241.24,-211.65 249.08,-199.42 256.33,-188.11\"/>\n",
       "<polygon fill=\"black\" stroke=\"black\" points=\"259.29,-189.97 261.74,-179.67 253.4,-186.2 259.29,-189.97\"/>\n",
       "</g>\n",
       "<!-- 4 -->\n",
       "<g id=\"node5\" class=\"node\">\n",
       "<title>4</title>\n",
       "<polygon fill=\"#39e581\" stroke=\"black\" points=\"126,-68 14,-68 14,0 126,0 126,-68\"/>\n",
       "<text text-anchor=\"middle\" x=\"70\" y=\"-52.8\" font-family=\"Times New Roman,serif\" font-size=\"14.00\">gini = 0.0</text>\n",
       "<text text-anchor=\"middle\" x=\"70\" y=\"-37.8\" font-family=\"Times New Roman,serif\" font-size=\"14.00\">samples = 39</text>\n",
       "<text text-anchor=\"middle\" x=\"70\" y=\"-22.8\" font-family=\"Times New Roman,serif\" font-size=\"14.00\">value = [0, 39, 0]</text>\n",
       "<text text-anchor=\"middle\" x=\"70\" y=\"-7.8\" font-family=\"Times New Roman,serif\" font-size=\"14.00\">class = a</text>\n",
       "</g>\n",
       "<!-- 3&#45;&gt;4 -->\n",
       "<g id=\"edge4\" class=\"edge\">\n",
       "<title>3&#45;&gt;4</title>\n",
       "<path fill=\"none\" stroke=\"black\" d=\"M109.54,-103.73C104.56,-95.06 99.28,-85.9 94.27,-77.18\"/>\n",
       "<polygon fill=\"black\" stroke=\"black\" points=\"97.18,-75.22 89.16,-68.3 91.11,-78.71 97.18,-75.22\"/>\n",
       "</g>\n",
       "<!-- 5 -->\n",
       "<g id=\"node6\" class=\"node\">\n",
       "<title>5</title>\n",
       "<polygon fill=\"#ab7bee\" stroke=\"black\" points=\"249.5,-68 144.5,-68 144.5,0 249.5,0 249.5,-68\"/>\n",
       "<text text-anchor=\"middle\" x=\"197\" y=\"-52.8\" font-family=\"Times New Roman,serif\" font-size=\"14.00\">gini = 0.375</text>\n",
       "<text text-anchor=\"middle\" x=\"197\" y=\"-37.8\" font-family=\"Times New Roman,serif\" font-size=\"14.00\">samples = 4</text>\n",
       "<text text-anchor=\"middle\" x=\"197\" y=\"-22.8\" font-family=\"Times New Roman,serif\" font-size=\"14.00\">value = [0, 1, 3]</text>\n",
       "<text text-anchor=\"middle\" x=\"197\" y=\"-7.8\" font-family=\"Times New Roman,serif\" font-size=\"14.00\">class = r</text>\n",
       "</g>\n",
       "<!-- 3&#45;&gt;5 -->\n",
       "<g id=\"edge5\" class=\"edge\">\n",
       "<title>3&#45;&gt;5</title>\n",
       "<path fill=\"none\" stroke=\"black\" d=\"M156.83,-103.73C161.9,-95.06 167.25,-85.9 172.35,-77.18\"/>\n",
       "<polygon fill=\"black\" stroke=\"black\" points=\"175.51,-78.7 177.54,-68.3 169.47,-75.17 175.51,-78.7\"/>\n",
       "</g>\n",
       "</g>\n",
       "</svg>\n"
      ],
      "text/plain": [
       "<graphviz.sources.Source at 0x1e17f4b0c70>"
      ]
     },
     "metadata": {},
     "output_type": "display_data"
    }
   ],
   "source": [
    "tree = DecisionTreeClassifier(max_depth=3, random_state=SEED)\n",
    "tree.fit(X_train, y_train)\n",
    "show_trees(tree)"
   ]
  },
  {
   "cell_type": "markdown",
   "metadata": {
    "id": "4Z0TfKb1sWaa"
   },
   "source": [
    "## min_sample_split\n",
    "* 노드 내에서 분할이 필요한 최소의 샘플 수 (기본값 : 2)"
   ]
  },
  {
   "cell_type": "code",
   "execution_count": 21,
   "metadata": {
    "colab": {
     "base_uri": "https://localhost:8080/",
     "height": 774
    },
    "executionInfo": {
     "elapsed": 15,
     "status": "ok",
     "timestamp": 1678840565880,
     "user": {
      "displayName": "OPENCV KOREA",
      "userId": "03832798034950049293"
     },
     "user_tz": -540
    },
    "id": "zjDnUyezoTYS",
    "outputId": "0db3b6ab-f95a-4de4-b932-b6f04d577625"
   },
   "outputs": [
    {
     "name": "stdout",
     "output_type": "stream",
     "text": [
      "정확도: 90.00 %\n"
     ]
    },
    {
     "data": {
      "image/svg+xml": [
       "<?xml version=\"1.0\" encoding=\"UTF-8\" standalone=\"no\"?>\n",
       "<!DOCTYPE svg PUBLIC \"-//W3C//DTD SVG 1.1//EN\"\n",
       " \"http://www.w3.org/Graphics/SVG/1.1/DTD/svg11.dtd\">\n",
       "<!-- Generated by graphviz version 2.48.0 (20210717.1556)\n",
       " -->\n",
       "<!-- Title: Tree Pages: 1 -->\n",
       "<svg width=\"347pt\" height=\"433pt\"\n",
       " viewBox=\"0.00 0.00 347.00 433.00\" xmlns=\"http://www.w3.org/2000/svg\" xmlns:xlink=\"http://www.w3.org/1999/xlink\">\n",
       "<g id=\"graph0\" class=\"graph\" transform=\"scale(1 1) rotate(0) translate(4 429)\">\n",
       "<title>Tree</title>\n",
       "<polygon fill=\"white\" stroke=\"transparent\" points=\"-4,4 -4,-429 343,-429 343,4 -4,4\"/>\n",
       "<!-- 0 -->\n",
       "<g id=\"node1\" class=\"node\">\n",
       "<title>0</title>\n",
       "<polygon fill=\"#ffffff\" stroke=\"black\" points=\"211,-425 53,-425 53,-342 211,-342 211,-425\"/>\n",
       "<text text-anchor=\"middle\" x=\"132\" y=\"-409.8\" font-family=\"Times New Roman,serif\" font-size=\"14.00\">petal length (cm) &lt;= 2.45</text>\n",
       "<text text-anchor=\"middle\" x=\"132\" y=\"-394.8\" font-family=\"Times New Roman,serif\" font-size=\"14.00\">gini = 0.667</text>\n",
       "<text text-anchor=\"middle\" x=\"132\" y=\"-379.8\" font-family=\"Times New Roman,serif\" font-size=\"14.00\">samples = 120</text>\n",
       "<text text-anchor=\"middle\" x=\"132\" y=\"-364.8\" font-family=\"Times New Roman,serif\" font-size=\"14.00\">value = [40, 40, 40]</text>\n",
       "<text text-anchor=\"middle\" x=\"132\" y=\"-349.8\" font-family=\"Times New Roman,serif\" font-size=\"14.00\">class = t</text>\n",
       "</g>\n",
       "<!-- 1 -->\n",
       "<g id=\"node2\" class=\"node\">\n",
       "<title>1</title>\n",
       "<polygon fill=\"#e58139\" stroke=\"black\" points=\"112,-298.5 0,-298.5 0,-230.5 112,-230.5 112,-298.5\"/>\n",
       "<text text-anchor=\"middle\" x=\"56\" y=\"-283.3\" font-family=\"Times New Roman,serif\" font-size=\"14.00\">gini = 0.0</text>\n",
       "<text text-anchor=\"middle\" x=\"56\" y=\"-268.3\" font-family=\"Times New Roman,serif\" font-size=\"14.00\">samples = 40</text>\n",
       "<text text-anchor=\"middle\" x=\"56\" y=\"-253.3\" font-family=\"Times New Roman,serif\" font-size=\"14.00\">value = [40, 0, 0]</text>\n",
       "<text text-anchor=\"middle\" x=\"56\" y=\"-238.3\" font-family=\"Times New Roman,serif\" font-size=\"14.00\">class = t</text>\n",
       "</g>\n",
       "<!-- 0&#45;&gt;1 -->\n",
       "<g id=\"edge1\" class=\"edge\">\n",
       "<title>0&#45;&gt;1</title>\n",
       "<path fill=\"none\" stroke=\"black\" d=\"M105.63,-341.91C98.32,-330.65 90.37,-318.42 83.03,-307.11\"/>\n",
       "<polygon fill=\"black\" stroke=\"black\" points=\"85.93,-305.15 77.54,-298.67 80.06,-308.96 85.93,-305.15\"/>\n",
       "<text text-anchor=\"middle\" x=\"72.35\" y=\"-319.42\" font-family=\"Times New Roman,serif\" font-size=\"14.00\">True</text>\n",
       "</g>\n",
       "<!-- 2 -->\n",
       "<g id=\"node3\" class=\"node\">\n",
       "<title>2</title>\n",
       "<polygon fill=\"#ffffff\" stroke=\"black\" points=\"285.5,-306 130.5,-306 130.5,-223 285.5,-223 285.5,-306\"/>\n",
       "<text text-anchor=\"middle\" x=\"208\" y=\"-290.8\" font-family=\"Times New Roman,serif\" font-size=\"14.00\">petal width (cm) &lt;= 1.65</text>\n",
       "<text text-anchor=\"middle\" x=\"208\" y=\"-275.8\" font-family=\"Times New Roman,serif\" font-size=\"14.00\">gini = 0.5</text>\n",
       "<text text-anchor=\"middle\" x=\"208\" y=\"-260.8\" font-family=\"Times New Roman,serif\" font-size=\"14.00\">samples = 80</text>\n",
       "<text text-anchor=\"middle\" x=\"208\" y=\"-245.8\" font-family=\"Times New Roman,serif\" font-size=\"14.00\">value = [0, 40, 40]</text>\n",
       "<text text-anchor=\"middle\" x=\"208\" y=\"-230.8\" font-family=\"Times New Roman,serif\" font-size=\"14.00\">class = a</text>\n",
       "</g>\n",
       "<!-- 0&#45;&gt;2 -->\n",
       "<g id=\"edge2\" class=\"edge\">\n",
       "<title>0&#45;&gt;2</title>\n",
       "<path fill=\"none\" stroke=\"black\" d=\"M158.37,-341.91C164.09,-333.1 170.19,-323.7 176.1,-314.61\"/>\n",
       "<polygon fill=\"black\" stroke=\"black\" points=\"179.17,-316.31 181.68,-306.02 173.3,-312.5 179.17,-316.31\"/>\n",
       "<text text-anchor=\"middle\" x=\"186.87\" y=\"-326.78\" font-family=\"Times New Roman,serif\" font-size=\"14.00\">False</text>\n",
       "</g>\n",
       "<!-- 3 -->\n",
       "<g id=\"node4\" class=\"node\">\n",
       "<title>3</title>\n",
       "<polygon fill=\"#48e78a\" stroke=\"black\" points=\"208.5,-187 57.5,-187 57.5,-104 208.5,-104 208.5,-187\"/>\n",
       "<text text-anchor=\"middle\" x=\"133\" y=\"-171.8\" font-family=\"Times New Roman,serif\" font-size=\"14.00\">petal length (cm) &lt;= 5.0</text>\n",
       "<text text-anchor=\"middle\" x=\"133\" y=\"-156.8\" font-family=\"Times New Roman,serif\" font-size=\"14.00\">gini = 0.13</text>\n",
       "<text text-anchor=\"middle\" x=\"133\" y=\"-141.8\" font-family=\"Times New Roman,serif\" font-size=\"14.00\">samples = 43</text>\n",
       "<text text-anchor=\"middle\" x=\"133\" y=\"-126.8\" font-family=\"Times New Roman,serif\" font-size=\"14.00\">value = [0, 40, 3]</text>\n",
       "<text text-anchor=\"middle\" x=\"133\" y=\"-111.8\" font-family=\"Times New Roman,serif\" font-size=\"14.00\">class = a</text>\n",
       "</g>\n",
       "<!-- 2&#45;&gt;3 -->\n",
       "<g id=\"edge3\" class=\"edge\">\n",
       "<title>2&#45;&gt;3</title>\n",
       "<path fill=\"none\" stroke=\"black\" d=\"M181.98,-222.91C176.34,-214.1 170.31,-204.7 164.48,-195.61\"/>\n",
       "<polygon fill=\"black\" stroke=\"black\" points=\"167.32,-193.55 158.97,-187.02 161.43,-197.33 167.32,-193.55\"/>\n",
       "</g>\n",
       "<!-- 6 -->\n",
       "<g id=\"node7\" class=\"node\">\n",
       "<title>6</title>\n",
       "<polygon fill=\"#8139e5\" stroke=\"black\" points=\"339,-179.5 227,-179.5 227,-111.5 339,-111.5 339,-179.5\"/>\n",
       "<text text-anchor=\"middle\" x=\"283\" y=\"-164.3\" font-family=\"Times New Roman,serif\" font-size=\"14.00\">gini = 0.0</text>\n",
       "<text text-anchor=\"middle\" x=\"283\" y=\"-149.3\" font-family=\"Times New Roman,serif\" font-size=\"14.00\">samples = 37</text>\n",
       "<text text-anchor=\"middle\" x=\"283\" y=\"-134.3\" font-family=\"Times New Roman,serif\" font-size=\"14.00\">value = [0, 0, 37]</text>\n",
       "<text text-anchor=\"middle\" x=\"283\" y=\"-119.3\" font-family=\"Times New Roman,serif\" font-size=\"14.00\">class = r</text>\n",
       "</g>\n",
       "<!-- 2&#45;&gt;6 -->\n",
       "<g id=\"edge6\" class=\"edge\">\n",
       "<title>2&#45;&gt;6</title>\n",
       "<path fill=\"none\" stroke=\"black\" d=\"M234.02,-222.91C241.24,-211.65 249.08,-199.42 256.33,-188.11\"/>\n",
       "<polygon fill=\"black\" stroke=\"black\" points=\"259.29,-189.97 261.74,-179.67 253.4,-186.2 259.29,-189.97\"/>\n",
       "</g>\n",
       "<!-- 4 -->\n",
       "<g id=\"node5\" class=\"node\">\n",
       "<title>4</title>\n",
       "<polygon fill=\"#39e581\" stroke=\"black\" points=\"126,-68 14,-68 14,0 126,0 126,-68\"/>\n",
       "<text text-anchor=\"middle\" x=\"70\" y=\"-52.8\" font-family=\"Times New Roman,serif\" font-size=\"14.00\">gini = 0.0</text>\n",
       "<text text-anchor=\"middle\" x=\"70\" y=\"-37.8\" font-family=\"Times New Roman,serif\" font-size=\"14.00\">samples = 39</text>\n",
       "<text text-anchor=\"middle\" x=\"70\" y=\"-22.8\" font-family=\"Times New Roman,serif\" font-size=\"14.00\">value = [0, 39, 0]</text>\n",
       "<text text-anchor=\"middle\" x=\"70\" y=\"-7.8\" font-family=\"Times New Roman,serif\" font-size=\"14.00\">class = a</text>\n",
       "</g>\n",
       "<!-- 3&#45;&gt;4 -->\n",
       "<g id=\"edge4\" class=\"edge\">\n",
       "<title>3&#45;&gt;4</title>\n",
       "<path fill=\"none\" stroke=\"black\" d=\"M109.54,-103.73C104.56,-95.06 99.28,-85.9 94.27,-77.18\"/>\n",
       "<polygon fill=\"black\" stroke=\"black\" points=\"97.18,-75.22 89.16,-68.3 91.11,-78.71 97.18,-75.22\"/>\n",
       "</g>\n",
       "<!-- 5 -->\n",
       "<g id=\"node6\" class=\"node\">\n",
       "<title>5</title>\n",
       "<polygon fill=\"#ab7bee\" stroke=\"black\" points=\"249.5,-68 144.5,-68 144.5,0 249.5,0 249.5,-68\"/>\n",
       "<text text-anchor=\"middle\" x=\"197\" y=\"-52.8\" font-family=\"Times New Roman,serif\" font-size=\"14.00\">gini = 0.375</text>\n",
       "<text text-anchor=\"middle\" x=\"197\" y=\"-37.8\" font-family=\"Times New Roman,serif\" font-size=\"14.00\">samples = 4</text>\n",
       "<text text-anchor=\"middle\" x=\"197\" y=\"-22.8\" font-family=\"Times New Roman,serif\" font-size=\"14.00\">value = [0, 1, 3]</text>\n",
       "<text text-anchor=\"middle\" x=\"197\" y=\"-7.8\" font-family=\"Times New Roman,serif\" font-size=\"14.00\">class = r</text>\n",
       "</g>\n",
       "<!-- 3&#45;&gt;5 -->\n",
       "<g id=\"edge5\" class=\"edge\">\n",
       "<title>3&#45;&gt;5</title>\n",
       "<path fill=\"none\" stroke=\"black\" d=\"M156.83,-103.73C161.9,-95.06 167.25,-85.9 172.35,-77.18\"/>\n",
       "<polygon fill=\"black\" stroke=\"black\" points=\"175.51,-78.7 177.54,-68.3 169.47,-75.17 175.51,-78.7\"/>\n",
       "</g>\n",
       "</g>\n",
       "</svg>\n"
      ],
      "text/plain": [
       "<graphviz.sources.Source at 0x1e17f4b0ca0>"
      ]
     },
     "metadata": {},
     "output_type": "display_data"
    }
   ],
   "source": [
    "tree = DecisionTreeClassifier(max_depth=6, min_samples_split=20,  random_state=SEED)\n",
    "tree.fit(X_train, y_train)\n",
    "show_trees(tree)"
   ]
  },
  {
   "cell_type": "markdown",
   "metadata": {
    "id": "sNi6n1YwsWc5"
   },
   "source": [
    "## min_samples_leaf \n",
    "* 말단 노드의 최소 샘플 수  (기본값 : 1)"
   ]
  },
  {
   "cell_type": "markdown",
   "metadata": {
    "tags": []
   },
   "source": [
    "## max_leaf_nodes \n",
    "* 말단 노드의 최대 갯수, 과대 적합 방지용 (기본 값: None, 제한 없음)"
   ]
  },
  {
   "cell_type": "code",
   "execution_count": 22,
   "metadata": {
    "colab": {
     "base_uri": "https://localhost:8080/",
     "height": 933
    },
    "executionInfo": {
     "elapsed": 6,
     "status": "ok",
     "timestamp": 1678840664872,
     "user": {
      "displayName": "OPENCV KOREA",
      "userId": "03832798034950049293"
     },
     "user_tz": -540
    },
    "id": "4ILy3jCgskc5",
    "outputId": "2ddc2c94-4ea3-43e7-8e10-35f0d9812652"
   },
   "outputs": [
    {
     "name": "stdout",
     "output_type": "stream",
     "text": [
      "정확도: 90.00 %\n"
     ]
    },
    {
     "data": {
      "image/svg+xml": [
       "<?xml version=\"1.0\" encoding=\"UTF-8\" standalone=\"no\"?>\n",
       "<!DOCTYPE svg PUBLIC \"-//W3C//DTD SVG 1.1//EN\"\n",
       " \"http://www.w3.org/Graphics/SVG/1.1/DTD/svg11.dtd\">\n",
       "<!-- Generated by graphviz version 2.48.0 (20210717.1556)\n",
       " -->\n",
       "<!-- Title: Tree Pages: 1 -->\n",
       "<svg width=\"347pt\" height=\"552pt\"\n",
       " viewBox=\"0.00 0.00 347.00 552.00\" xmlns=\"http://www.w3.org/2000/svg\" xmlns:xlink=\"http://www.w3.org/1999/xlink\">\n",
       "<g id=\"graph0\" class=\"graph\" transform=\"scale(1 1) rotate(0) translate(4 548)\">\n",
       "<title>Tree</title>\n",
       "<polygon fill=\"white\" stroke=\"transparent\" points=\"-4,4 -4,-548 343,-548 343,4 -4,4\"/>\n",
       "<!-- 0 -->\n",
       "<g id=\"node1\" class=\"node\">\n",
       "<title>0</title>\n",
       "<polygon fill=\"#ffffff\" stroke=\"black\" points=\"211,-544 53,-544 53,-461 211,-461 211,-544\"/>\n",
       "<text text-anchor=\"middle\" x=\"132\" y=\"-528.8\" font-family=\"Times New Roman,serif\" font-size=\"14.00\">petal length (cm) &lt;= 2.45</text>\n",
       "<text text-anchor=\"middle\" x=\"132\" y=\"-513.8\" font-family=\"Times New Roman,serif\" font-size=\"14.00\">gini = 0.667</text>\n",
       "<text text-anchor=\"middle\" x=\"132\" y=\"-498.8\" font-family=\"Times New Roman,serif\" font-size=\"14.00\">samples = 120</text>\n",
       "<text text-anchor=\"middle\" x=\"132\" y=\"-483.8\" font-family=\"Times New Roman,serif\" font-size=\"14.00\">value = [40, 40, 40]</text>\n",
       "<text text-anchor=\"middle\" x=\"132\" y=\"-468.8\" font-family=\"Times New Roman,serif\" font-size=\"14.00\">class = t</text>\n",
       "</g>\n",
       "<!-- 1 -->\n",
       "<g id=\"node2\" class=\"node\">\n",
       "<title>1</title>\n",
       "<polygon fill=\"#e58139\" stroke=\"black\" points=\"112,-417.5 0,-417.5 0,-349.5 112,-349.5 112,-417.5\"/>\n",
       "<text text-anchor=\"middle\" x=\"56\" y=\"-402.3\" font-family=\"Times New Roman,serif\" font-size=\"14.00\">gini = 0.0</text>\n",
       "<text text-anchor=\"middle\" x=\"56\" y=\"-387.3\" font-family=\"Times New Roman,serif\" font-size=\"14.00\">samples = 40</text>\n",
       "<text text-anchor=\"middle\" x=\"56\" y=\"-372.3\" font-family=\"Times New Roman,serif\" font-size=\"14.00\">value = [40, 0, 0]</text>\n",
       "<text text-anchor=\"middle\" x=\"56\" y=\"-357.3\" font-family=\"Times New Roman,serif\" font-size=\"14.00\">class = t</text>\n",
       "</g>\n",
       "<!-- 0&#45;&gt;1 -->\n",
       "<g id=\"edge1\" class=\"edge\">\n",
       "<title>0&#45;&gt;1</title>\n",
       "<path fill=\"none\" stroke=\"black\" d=\"M105.63,-460.91C98.32,-449.65 90.37,-437.42 83.03,-426.11\"/>\n",
       "<polygon fill=\"black\" stroke=\"black\" points=\"85.93,-424.15 77.54,-417.67 80.06,-427.96 85.93,-424.15\"/>\n",
       "<text text-anchor=\"middle\" x=\"72.35\" y=\"-438.42\" font-family=\"Times New Roman,serif\" font-size=\"14.00\">True</text>\n",
       "</g>\n",
       "<!-- 2 -->\n",
       "<g id=\"node3\" class=\"node\">\n",
       "<title>2</title>\n",
       "<polygon fill=\"#ffffff\" stroke=\"black\" points=\"285.5,-425 130.5,-425 130.5,-342 285.5,-342 285.5,-425\"/>\n",
       "<text text-anchor=\"middle\" x=\"208\" y=\"-409.8\" font-family=\"Times New Roman,serif\" font-size=\"14.00\">petal width (cm) &lt;= 1.65</text>\n",
       "<text text-anchor=\"middle\" x=\"208\" y=\"-394.8\" font-family=\"Times New Roman,serif\" font-size=\"14.00\">gini = 0.5</text>\n",
       "<text text-anchor=\"middle\" x=\"208\" y=\"-379.8\" font-family=\"Times New Roman,serif\" font-size=\"14.00\">samples = 80</text>\n",
       "<text text-anchor=\"middle\" x=\"208\" y=\"-364.8\" font-family=\"Times New Roman,serif\" font-size=\"14.00\">value = [0, 40, 40]</text>\n",
       "<text text-anchor=\"middle\" x=\"208\" y=\"-349.8\" font-family=\"Times New Roman,serif\" font-size=\"14.00\">class = a</text>\n",
       "</g>\n",
       "<!-- 0&#45;&gt;2 -->\n",
       "<g id=\"edge2\" class=\"edge\">\n",
       "<title>0&#45;&gt;2</title>\n",
       "<path fill=\"none\" stroke=\"black\" d=\"M158.37,-460.91C164.09,-452.1 170.19,-442.7 176.1,-433.61\"/>\n",
       "<polygon fill=\"black\" stroke=\"black\" points=\"179.17,-435.31 181.68,-425.02 173.3,-431.5 179.17,-435.31\"/>\n",
       "<text text-anchor=\"middle\" x=\"186.87\" y=\"-445.78\" font-family=\"Times New Roman,serif\" font-size=\"14.00\">False</text>\n",
       "</g>\n",
       "<!-- 3 -->\n",
       "<g id=\"node4\" class=\"node\">\n",
       "<title>3</title>\n",
       "<polygon fill=\"#48e78a\" stroke=\"black\" points=\"208.5,-306 57.5,-306 57.5,-223 208.5,-223 208.5,-306\"/>\n",
       "<text text-anchor=\"middle\" x=\"133\" y=\"-290.8\" font-family=\"Times New Roman,serif\" font-size=\"14.00\">petal length (cm) &lt;= 5.0</text>\n",
       "<text text-anchor=\"middle\" x=\"133\" y=\"-275.8\" font-family=\"Times New Roman,serif\" font-size=\"14.00\">gini = 0.13</text>\n",
       "<text text-anchor=\"middle\" x=\"133\" y=\"-260.8\" font-family=\"Times New Roman,serif\" font-size=\"14.00\">samples = 43</text>\n",
       "<text text-anchor=\"middle\" x=\"133\" y=\"-245.8\" font-family=\"Times New Roman,serif\" font-size=\"14.00\">value = [0, 40, 3]</text>\n",
       "<text text-anchor=\"middle\" x=\"133\" y=\"-230.8\" font-family=\"Times New Roman,serif\" font-size=\"14.00\">class = a</text>\n",
       "</g>\n",
       "<!-- 2&#45;&gt;3 -->\n",
       "<g id=\"edge3\" class=\"edge\">\n",
       "<title>2&#45;&gt;3</title>\n",
       "<path fill=\"none\" stroke=\"black\" d=\"M181.98,-341.91C176.34,-333.1 170.31,-323.7 164.48,-314.61\"/>\n",
       "<polygon fill=\"black\" stroke=\"black\" points=\"167.32,-312.55 158.97,-306.02 161.43,-316.33 167.32,-312.55\"/>\n",
       "</g>\n",
       "<!-- 4 -->\n",
       "<g id=\"node9\" class=\"node\">\n",
       "<title>4</title>\n",
       "<polygon fill=\"#8139e5\" stroke=\"black\" points=\"339,-298.5 227,-298.5 227,-230.5 339,-230.5 339,-298.5\"/>\n",
       "<text text-anchor=\"middle\" x=\"283\" y=\"-283.3\" font-family=\"Times New Roman,serif\" font-size=\"14.00\">gini = 0.0</text>\n",
       "<text text-anchor=\"middle\" x=\"283\" y=\"-268.3\" font-family=\"Times New Roman,serif\" font-size=\"14.00\">samples = 37</text>\n",
       "<text text-anchor=\"middle\" x=\"283\" y=\"-253.3\" font-family=\"Times New Roman,serif\" font-size=\"14.00\">value = [0, 0, 37]</text>\n",
       "<text text-anchor=\"middle\" x=\"283\" y=\"-238.3\" font-family=\"Times New Roman,serif\" font-size=\"14.00\">class = r</text>\n",
       "</g>\n",
       "<!-- 2&#45;&gt;4 -->\n",
       "<g id=\"edge8\" class=\"edge\">\n",
       "<title>2&#45;&gt;4</title>\n",
       "<path fill=\"none\" stroke=\"black\" d=\"M234.02,-341.91C241.24,-330.65 249.08,-318.42 256.33,-307.11\"/>\n",
       "<polygon fill=\"black\" stroke=\"black\" points=\"259.29,-308.97 261.74,-298.67 253.4,-305.2 259.29,-308.97\"/>\n",
       "</g>\n",
       "<!-- 5 -->\n",
       "<g id=\"node5\" class=\"node\">\n",
       "<title>5</title>\n",
       "<polygon fill=\"#39e581\" stroke=\"black\" points=\"112,-179.5 0,-179.5 0,-111.5 112,-111.5 112,-179.5\"/>\n",
       "<text text-anchor=\"middle\" x=\"56\" y=\"-164.3\" font-family=\"Times New Roman,serif\" font-size=\"14.00\">gini = 0.0</text>\n",
       "<text text-anchor=\"middle\" x=\"56\" y=\"-149.3\" font-family=\"Times New Roman,serif\" font-size=\"14.00\">samples = 39</text>\n",
       "<text text-anchor=\"middle\" x=\"56\" y=\"-134.3\" font-family=\"Times New Roman,serif\" font-size=\"14.00\">value = [0, 39, 0]</text>\n",
       "<text text-anchor=\"middle\" x=\"56\" y=\"-119.3\" font-family=\"Times New Roman,serif\" font-size=\"14.00\">class = a</text>\n",
       "</g>\n",
       "<!-- 3&#45;&gt;5 -->\n",
       "<g id=\"edge4\" class=\"edge\">\n",
       "<title>3&#45;&gt;5</title>\n",
       "<path fill=\"none\" stroke=\"black\" d=\"M106.29,-222.91C98.88,-211.65 90.83,-199.42 83.38,-188.11\"/>\n",
       "<polygon fill=\"black\" stroke=\"black\" points=\"86.25,-186.1 77.83,-179.67 80.4,-189.94 86.25,-186.1\"/>\n",
       "</g>\n",
       "<!-- 6 -->\n",
       "<g id=\"node6\" class=\"node\">\n",
       "<title>6</title>\n",
       "<polygon fill=\"#ab7bee\" stroke=\"black\" points=\"290,-187 130,-187 130,-104 290,-104 290,-187\"/>\n",
       "<text text-anchor=\"middle\" x=\"210\" y=\"-171.8\" font-family=\"Times New Roman,serif\" font-size=\"14.00\">sepal length (cm) &lt;= 6.05</text>\n",
       "<text text-anchor=\"middle\" x=\"210\" y=\"-156.8\" font-family=\"Times New Roman,serif\" font-size=\"14.00\">gini = 0.375</text>\n",
       "<text text-anchor=\"middle\" x=\"210\" y=\"-141.8\" font-family=\"Times New Roman,serif\" font-size=\"14.00\">samples = 4</text>\n",
       "<text text-anchor=\"middle\" x=\"210\" y=\"-126.8\" font-family=\"Times New Roman,serif\" font-size=\"14.00\">value = [0, 1, 3]</text>\n",
       "<text text-anchor=\"middle\" x=\"210\" y=\"-111.8\" font-family=\"Times New Roman,serif\" font-size=\"14.00\">class = r</text>\n",
       "</g>\n",
       "<!-- 3&#45;&gt;6 -->\n",
       "<g id=\"edge5\" class=\"edge\">\n",
       "<title>3&#45;&gt;6</title>\n",
       "<path fill=\"none\" stroke=\"black\" d=\"M159.71,-222.91C165.51,-214.1 171.7,-204.7 177.68,-195.61\"/>\n",
       "<polygon fill=\"black\" stroke=\"black\" points=\"180.76,-197.3 183.33,-187.02 174.91,-193.45 180.76,-197.3\"/>\n",
       "</g>\n",
       "<!-- 7 -->\n",
       "<g id=\"node7\" class=\"node\">\n",
       "<title>7</title>\n",
       "<polygon fill=\"#39e581\" stroke=\"black\" points=\"200.5,-68 95.5,-68 95.5,0 200.5,0 200.5,-68\"/>\n",
       "<text text-anchor=\"middle\" x=\"148\" y=\"-52.8\" font-family=\"Times New Roman,serif\" font-size=\"14.00\">gini = 0.0</text>\n",
       "<text text-anchor=\"middle\" x=\"148\" y=\"-37.8\" font-family=\"Times New Roman,serif\" font-size=\"14.00\">samples = 1</text>\n",
       "<text text-anchor=\"middle\" x=\"148\" y=\"-22.8\" font-family=\"Times New Roman,serif\" font-size=\"14.00\">value = [0, 1, 0]</text>\n",
       "<text text-anchor=\"middle\" x=\"148\" y=\"-7.8\" font-family=\"Times New Roman,serif\" font-size=\"14.00\">class = a</text>\n",
       "</g>\n",
       "<!-- 6&#45;&gt;7 -->\n",
       "<g id=\"edge6\" class=\"edge\">\n",
       "<title>6&#45;&gt;7</title>\n",
       "<path fill=\"none\" stroke=\"black\" d=\"M186.91,-103.73C182.01,-95.06 176.82,-85.9 171.88,-77.18\"/>\n",
       "<polygon fill=\"black\" stroke=\"black\" points=\"174.83,-75.28 166.85,-68.3 168.74,-78.73 174.83,-75.28\"/>\n",
       "</g>\n",
       "<!-- 8 -->\n",
       "<g id=\"node8\" class=\"node\">\n",
       "<title>8</title>\n",
       "<polygon fill=\"#8139e5\" stroke=\"black\" points=\"323.5,-68 218.5,-68 218.5,0 323.5,0 323.5,-68\"/>\n",
       "<text text-anchor=\"middle\" x=\"271\" y=\"-52.8\" font-family=\"Times New Roman,serif\" font-size=\"14.00\">gini = 0.0</text>\n",
       "<text text-anchor=\"middle\" x=\"271\" y=\"-37.8\" font-family=\"Times New Roman,serif\" font-size=\"14.00\">samples = 3</text>\n",
       "<text text-anchor=\"middle\" x=\"271\" y=\"-22.8\" font-family=\"Times New Roman,serif\" font-size=\"14.00\">value = [0, 0, 3]</text>\n",
       "<text text-anchor=\"middle\" x=\"271\" y=\"-7.8\" font-family=\"Times New Roman,serif\" font-size=\"14.00\">class = r</text>\n",
       "</g>\n",
       "<!-- 6&#45;&gt;8 -->\n",
       "<g id=\"edge7\" class=\"edge\">\n",
       "<title>6&#45;&gt;8</title>\n",
       "<path fill=\"none\" stroke=\"black\" d=\"M232.71,-103.73C237.54,-95.06 242.65,-85.9 247.5,-77.18\"/>\n",
       "<polygon fill=\"black\" stroke=\"black\" points=\"250.64,-78.74 252.45,-68.3 244.53,-75.33 250.64,-78.74\"/>\n",
       "</g>\n",
       "</g>\n",
       "</svg>\n"
      ],
      "text/plain": [
       "<graphviz.sources.Source at 0x1e17fcc84c0>"
      ]
     },
     "metadata": {},
     "output_type": "display_data"
    }
   ],
   "source": [
    "tree = DecisionTreeClassifier(max_depth=7, max_leaf_nodes=10, random_state=SEED)\n",
    "tree.fit(X_train, y_train)\n",
    "show_trees(tree)"
   ]
  },
  {
   "cell_type": "markdown",
   "metadata": {
    "id": "8xfXSkcds-7C"
   },
   "source": [
    "## max_features\n",
    "* 최적의 분할을 찾기 위해 고려할 피처의 수\n",
    "* 이것보다는 feature_selection"
   ]
  },
  {
   "cell_type": "code",
   "execution_count": 23,
   "metadata": {
    "colab": {
     "base_uri": "https://localhost:8080/",
     "height": 933
    },
    "executionInfo": {
     "elapsed": 351,
     "status": "ok",
     "timestamp": 1678840711487,
     "user": {
      "displayName": "OPENCV KOREA",
      "userId": "03832798034950049293"
     },
     "user_tz": -540
    },
    "id": "ziqhaaK3s79C",
    "outputId": "33d6f257-b249-4ec5-d55c-c61b197b8221"
   },
   "outputs": [
    {
     "name": "stdout",
     "output_type": "stream",
     "text": [
      "정확도: 90.00 %\n"
     ]
    },
    {
     "data": {
      "image/svg+xml": [
       "<?xml version=\"1.0\" encoding=\"UTF-8\" standalone=\"no\"?>\n",
       "<!DOCTYPE svg PUBLIC \"-//W3C//DTD SVG 1.1//EN\"\n",
       " \"http://www.w3.org/Graphics/SVG/1.1/DTD/svg11.dtd\">\n",
       "<!-- Generated by graphviz version 2.48.0 (20210717.1556)\n",
       " -->\n",
       "<!-- Title: Tree Pages: 1 -->\n",
       "<svg width=\"347pt\" height=\"552pt\"\n",
       " viewBox=\"0.00 0.00 347.00 552.00\" xmlns=\"http://www.w3.org/2000/svg\" xmlns:xlink=\"http://www.w3.org/1999/xlink\">\n",
       "<g id=\"graph0\" class=\"graph\" transform=\"scale(1 1) rotate(0) translate(4 548)\">\n",
       "<title>Tree</title>\n",
       "<polygon fill=\"white\" stroke=\"transparent\" points=\"-4,4 -4,-548 343,-548 343,4 -4,4\"/>\n",
       "<!-- 0 -->\n",
       "<g id=\"node1\" class=\"node\">\n",
       "<title>0</title>\n",
       "<polygon fill=\"#ffffff\" stroke=\"black\" points=\"211,-544 53,-544 53,-461 211,-461 211,-544\"/>\n",
       "<text text-anchor=\"middle\" x=\"132\" y=\"-528.8\" font-family=\"Times New Roman,serif\" font-size=\"14.00\">petal length (cm) &lt;= 2.45</text>\n",
       "<text text-anchor=\"middle\" x=\"132\" y=\"-513.8\" font-family=\"Times New Roman,serif\" font-size=\"14.00\">gini = 0.667</text>\n",
       "<text text-anchor=\"middle\" x=\"132\" y=\"-498.8\" font-family=\"Times New Roman,serif\" font-size=\"14.00\">samples = 120</text>\n",
       "<text text-anchor=\"middle\" x=\"132\" y=\"-483.8\" font-family=\"Times New Roman,serif\" font-size=\"14.00\">value = [40, 40, 40]</text>\n",
       "<text text-anchor=\"middle\" x=\"132\" y=\"-468.8\" font-family=\"Times New Roman,serif\" font-size=\"14.00\">class = t</text>\n",
       "</g>\n",
       "<!-- 1 -->\n",
       "<g id=\"node2\" class=\"node\">\n",
       "<title>1</title>\n",
       "<polygon fill=\"#e58139\" stroke=\"black\" points=\"112,-417.5 0,-417.5 0,-349.5 112,-349.5 112,-417.5\"/>\n",
       "<text text-anchor=\"middle\" x=\"56\" y=\"-402.3\" font-family=\"Times New Roman,serif\" font-size=\"14.00\">gini = 0.0</text>\n",
       "<text text-anchor=\"middle\" x=\"56\" y=\"-387.3\" font-family=\"Times New Roman,serif\" font-size=\"14.00\">samples = 40</text>\n",
       "<text text-anchor=\"middle\" x=\"56\" y=\"-372.3\" font-family=\"Times New Roman,serif\" font-size=\"14.00\">value = [40, 0, 0]</text>\n",
       "<text text-anchor=\"middle\" x=\"56\" y=\"-357.3\" font-family=\"Times New Roman,serif\" font-size=\"14.00\">class = t</text>\n",
       "</g>\n",
       "<!-- 0&#45;&gt;1 -->\n",
       "<g id=\"edge1\" class=\"edge\">\n",
       "<title>0&#45;&gt;1</title>\n",
       "<path fill=\"none\" stroke=\"black\" d=\"M105.63,-460.91C98.32,-449.65 90.37,-437.42 83.03,-426.11\"/>\n",
       "<polygon fill=\"black\" stroke=\"black\" points=\"85.93,-424.15 77.54,-417.67 80.06,-427.96 85.93,-424.15\"/>\n",
       "<text text-anchor=\"middle\" x=\"72.35\" y=\"-438.42\" font-family=\"Times New Roman,serif\" font-size=\"14.00\">True</text>\n",
       "</g>\n",
       "<!-- 2 -->\n",
       "<g id=\"node3\" class=\"node\">\n",
       "<title>2</title>\n",
       "<polygon fill=\"#ffffff\" stroke=\"black\" points=\"285.5,-425 130.5,-425 130.5,-342 285.5,-342 285.5,-425\"/>\n",
       "<text text-anchor=\"middle\" x=\"208\" y=\"-409.8\" font-family=\"Times New Roman,serif\" font-size=\"14.00\">petal width (cm) &lt;= 1.65</text>\n",
       "<text text-anchor=\"middle\" x=\"208\" y=\"-394.8\" font-family=\"Times New Roman,serif\" font-size=\"14.00\">gini = 0.5</text>\n",
       "<text text-anchor=\"middle\" x=\"208\" y=\"-379.8\" font-family=\"Times New Roman,serif\" font-size=\"14.00\">samples = 80</text>\n",
       "<text text-anchor=\"middle\" x=\"208\" y=\"-364.8\" font-family=\"Times New Roman,serif\" font-size=\"14.00\">value = [0, 40, 40]</text>\n",
       "<text text-anchor=\"middle\" x=\"208\" y=\"-349.8\" font-family=\"Times New Roman,serif\" font-size=\"14.00\">class = a</text>\n",
       "</g>\n",
       "<!-- 0&#45;&gt;2 -->\n",
       "<g id=\"edge2\" class=\"edge\">\n",
       "<title>0&#45;&gt;2</title>\n",
       "<path fill=\"none\" stroke=\"black\" d=\"M158.37,-460.91C164.09,-452.1 170.19,-442.7 176.1,-433.61\"/>\n",
       "<polygon fill=\"black\" stroke=\"black\" points=\"179.17,-435.31 181.68,-425.02 173.3,-431.5 179.17,-435.31\"/>\n",
       "<text text-anchor=\"middle\" x=\"186.87\" y=\"-445.78\" font-family=\"Times New Roman,serif\" font-size=\"14.00\">False</text>\n",
       "</g>\n",
       "<!-- 3 -->\n",
       "<g id=\"node4\" class=\"node\">\n",
       "<title>3</title>\n",
       "<polygon fill=\"#48e78a\" stroke=\"black\" points=\"208.5,-306 57.5,-306 57.5,-223 208.5,-223 208.5,-306\"/>\n",
       "<text text-anchor=\"middle\" x=\"133\" y=\"-290.8\" font-family=\"Times New Roman,serif\" font-size=\"14.00\">petal length (cm) &lt;= 5.0</text>\n",
       "<text text-anchor=\"middle\" x=\"133\" y=\"-275.8\" font-family=\"Times New Roman,serif\" font-size=\"14.00\">gini = 0.13</text>\n",
       "<text text-anchor=\"middle\" x=\"133\" y=\"-260.8\" font-family=\"Times New Roman,serif\" font-size=\"14.00\">samples = 43</text>\n",
       "<text text-anchor=\"middle\" x=\"133\" y=\"-245.8\" font-family=\"Times New Roman,serif\" font-size=\"14.00\">value = [0, 40, 3]</text>\n",
       "<text text-anchor=\"middle\" x=\"133\" y=\"-230.8\" font-family=\"Times New Roman,serif\" font-size=\"14.00\">class = a</text>\n",
       "</g>\n",
       "<!-- 2&#45;&gt;3 -->\n",
       "<g id=\"edge3\" class=\"edge\">\n",
       "<title>2&#45;&gt;3</title>\n",
       "<path fill=\"none\" stroke=\"black\" d=\"M181.98,-341.91C176.34,-333.1 170.31,-323.7 164.48,-314.61\"/>\n",
       "<polygon fill=\"black\" stroke=\"black\" points=\"167.32,-312.55 158.97,-306.02 161.43,-316.33 167.32,-312.55\"/>\n",
       "</g>\n",
       "<!-- 8 -->\n",
       "<g id=\"node9\" class=\"node\">\n",
       "<title>8</title>\n",
       "<polygon fill=\"#8139e5\" stroke=\"black\" points=\"339,-298.5 227,-298.5 227,-230.5 339,-230.5 339,-298.5\"/>\n",
       "<text text-anchor=\"middle\" x=\"283\" y=\"-283.3\" font-family=\"Times New Roman,serif\" font-size=\"14.00\">gini = 0.0</text>\n",
       "<text text-anchor=\"middle\" x=\"283\" y=\"-268.3\" font-family=\"Times New Roman,serif\" font-size=\"14.00\">samples = 37</text>\n",
       "<text text-anchor=\"middle\" x=\"283\" y=\"-253.3\" font-family=\"Times New Roman,serif\" font-size=\"14.00\">value = [0, 0, 37]</text>\n",
       "<text text-anchor=\"middle\" x=\"283\" y=\"-238.3\" font-family=\"Times New Roman,serif\" font-size=\"14.00\">class = r</text>\n",
       "</g>\n",
       "<!-- 2&#45;&gt;8 -->\n",
       "<g id=\"edge8\" class=\"edge\">\n",
       "<title>2&#45;&gt;8</title>\n",
       "<path fill=\"none\" stroke=\"black\" d=\"M234.02,-341.91C241.24,-330.65 249.08,-318.42 256.33,-307.11\"/>\n",
       "<polygon fill=\"black\" stroke=\"black\" points=\"259.29,-308.97 261.74,-298.67 253.4,-305.2 259.29,-308.97\"/>\n",
       "</g>\n",
       "<!-- 4 -->\n",
       "<g id=\"node5\" class=\"node\">\n",
       "<title>4</title>\n",
       "<polygon fill=\"#39e581\" stroke=\"black\" points=\"112,-179.5 0,-179.5 0,-111.5 112,-111.5 112,-179.5\"/>\n",
       "<text text-anchor=\"middle\" x=\"56\" y=\"-164.3\" font-family=\"Times New Roman,serif\" font-size=\"14.00\">gini = 0.0</text>\n",
       "<text text-anchor=\"middle\" x=\"56\" y=\"-149.3\" font-family=\"Times New Roman,serif\" font-size=\"14.00\">samples = 39</text>\n",
       "<text text-anchor=\"middle\" x=\"56\" y=\"-134.3\" font-family=\"Times New Roman,serif\" font-size=\"14.00\">value = [0, 39, 0]</text>\n",
       "<text text-anchor=\"middle\" x=\"56\" y=\"-119.3\" font-family=\"Times New Roman,serif\" font-size=\"14.00\">class = a</text>\n",
       "</g>\n",
       "<!-- 3&#45;&gt;4 -->\n",
       "<g id=\"edge4\" class=\"edge\">\n",
       "<title>3&#45;&gt;4</title>\n",
       "<path fill=\"none\" stroke=\"black\" d=\"M106.29,-222.91C98.88,-211.65 90.83,-199.42 83.38,-188.11\"/>\n",
       "<polygon fill=\"black\" stroke=\"black\" points=\"86.25,-186.1 77.83,-179.67 80.4,-189.94 86.25,-186.1\"/>\n",
       "</g>\n",
       "<!-- 5 -->\n",
       "<g id=\"node6\" class=\"node\">\n",
       "<title>5</title>\n",
       "<polygon fill=\"#ab7bee\" stroke=\"black\" points=\"290,-187 130,-187 130,-104 290,-104 290,-187\"/>\n",
       "<text text-anchor=\"middle\" x=\"210\" y=\"-171.8\" font-family=\"Times New Roman,serif\" font-size=\"14.00\">sepal length (cm) &lt;= 6.05</text>\n",
       "<text text-anchor=\"middle\" x=\"210\" y=\"-156.8\" font-family=\"Times New Roman,serif\" font-size=\"14.00\">gini = 0.375</text>\n",
       "<text text-anchor=\"middle\" x=\"210\" y=\"-141.8\" font-family=\"Times New Roman,serif\" font-size=\"14.00\">samples = 4</text>\n",
       "<text text-anchor=\"middle\" x=\"210\" y=\"-126.8\" font-family=\"Times New Roman,serif\" font-size=\"14.00\">value = [0, 1, 3]</text>\n",
       "<text text-anchor=\"middle\" x=\"210\" y=\"-111.8\" font-family=\"Times New Roman,serif\" font-size=\"14.00\">class = r</text>\n",
       "</g>\n",
       "<!-- 3&#45;&gt;5 -->\n",
       "<g id=\"edge5\" class=\"edge\">\n",
       "<title>3&#45;&gt;5</title>\n",
       "<path fill=\"none\" stroke=\"black\" d=\"M159.71,-222.91C165.51,-214.1 171.7,-204.7 177.68,-195.61\"/>\n",
       "<polygon fill=\"black\" stroke=\"black\" points=\"180.76,-197.3 183.33,-187.02 174.91,-193.45 180.76,-197.3\"/>\n",
       "</g>\n",
       "<!-- 6 -->\n",
       "<g id=\"node7\" class=\"node\">\n",
       "<title>6</title>\n",
       "<polygon fill=\"#39e581\" stroke=\"black\" points=\"200.5,-68 95.5,-68 95.5,0 200.5,0 200.5,-68\"/>\n",
       "<text text-anchor=\"middle\" x=\"148\" y=\"-52.8\" font-family=\"Times New Roman,serif\" font-size=\"14.00\">gini = 0.0</text>\n",
       "<text text-anchor=\"middle\" x=\"148\" y=\"-37.8\" font-family=\"Times New Roman,serif\" font-size=\"14.00\">samples = 1</text>\n",
       "<text text-anchor=\"middle\" x=\"148\" y=\"-22.8\" font-family=\"Times New Roman,serif\" font-size=\"14.00\">value = [0, 1, 0]</text>\n",
       "<text text-anchor=\"middle\" x=\"148\" y=\"-7.8\" font-family=\"Times New Roman,serif\" font-size=\"14.00\">class = a</text>\n",
       "</g>\n",
       "<!-- 5&#45;&gt;6 -->\n",
       "<g id=\"edge6\" class=\"edge\">\n",
       "<title>5&#45;&gt;6</title>\n",
       "<path fill=\"none\" stroke=\"black\" d=\"M186.91,-103.73C182.01,-95.06 176.82,-85.9 171.88,-77.18\"/>\n",
       "<polygon fill=\"black\" stroke=\"black\" points=\"174.83,-75.28 166.85,-68.3 168.74,-78.73 174.83,-75.28\"/>\n",
       "</g>\n",
       "<!-- 7 -->\n",
       "<g id=\"node8\" class=\"node\">\n",
       "<title>7</title>\n",
       "<polygon fill=\"#8139e5\" stroke=\"black\" points=\"323.5,-68 218.5,-68 218.5,0 323.5,0 323.5,-68\"/>\n",
       "<text text-anchor=\"middle\" x=\"271\" y=\"-52.8\" font-family=\"Times New Roman,serif\" font-size=\"14.00\">gini = 0.0</text>\n",
       "<text text-anchor=\"middle\" x=\"271\" y=\"-37.8\" font-family=\"Times New Roman,serif\" font-size=\"14.00\">samples = 3</text>\n",
       "<text text-anchor=\"middle\" x=\"271\" y=\"-22.8\" font-family=\"Times New Roman,serif\" font-size=\"14.00\">value = [0, 0, 3]</text>\n",
       "<text text-anchor=\"middle\" x=\"271\" y=\"-7.8\" font-family=\"Times New Roman,serif\" font-size=\"14.00\">class = r</text>\n",
       "</g>\n",
       "<!-- 5&#45;&gt;7 -->\n",
       "<g id=\"edge7\" class=\"edge\">\n",
       "<title>5&#45;&gt;7</title>\n",
       "<path fill=\"none\" stroke=\"black\" d=\"M232.71,-103.73C237.54,-95.06 242.65,-85.9 247.5,-77.18\"/>\n",
       "<polygon fill=\"black\" stroke=\"black\" points=\"250.64,-78.74 252.45,-68.3 244.53,-75.33 250.64,-78.74\"/>\n",
       "</g>\n",
       "</g>\n",
       "</svg>\n"
      ],
      "text/plain": [
       "<graphviz.sources.Source at 0x1e17fcc8070>"
      ]
     },
     "metadata": {},
     "output_type": "display_data"
    }
   ],
   "source": [
    "tree = DecisionTreeClassifier(max_depth=7, max_features=0.8, random_state=SEED)\n",
    "tree.fit(X_train, y_train)\n",
    "show_trees(tree)"
   ]
  },
  {
   "cell_type": "markdown",
   "metadata": {
    "id": "x8uFnsl6tHnV"
   },
   "source": [
    "# feature 중요도 \n",
    "* fit 한다음에 바로!!!"
   ]
  },
  {
   "cell_type": "code",
   "execution_count": 24,
   "metadata": {
    "colab": {
     "base_uri": "https://localhost:8080/"
    },
    "executionInfo": {
     "elapsed": 4,
     "status": "ok",
     "timestamp": 1678840742642,
     "user": {
      "displayName": "OPENCV KOREA",
      "userId": "03832798034950049293"
     },
     "user_tz": -540
    },
    "id": "Oi6ctWYms7-5",
    "outputId": "b0c56aab-3806-4d39-a151-c29cbe07d8b4"
   },
   "outputs": [
    {
     "data": {
      "text/plain": [
       "array([0.01875   , 0.        , 0.55101744, 0.43023256])"
      ]
     },
     "execution_count": 24,
     "metadata": {},
     "output_type": "execute_result"
    }
   ],
   "source": [
    "tree.feature_importances_"
   ]
  },
  {
   "cell_type": "code",
   "execution_count": 25,
   "metadata": {
    "colab": {
     "base_uri": "https://localhost:8080/",
     "height": 175
    },
    "executionInfo": {
     "elapsed": 333,
     "status": "ok",
     "timestamp": 1678840912769,
     "user": {
      "displayName": "OPENCV KOREA",
      "userId": "03832798034950049293"
     },
     "user_tz": -540
    },
    "id": "DxcpBD5utLcx",
    "outputId": "2904c521-02c7-4262-83e7-dd5949d1d2c9"
   },
   "outputs": [
    {
     "data": {
      "text/html": [
       "<div>\n",
       "<style scoped>\n",
       "    .dataframe tbody tr th:only-of-type {\n",
       "        vertical-align: middle;\n",
       "    }\n",
       "\n",
       "    .dataframe tbody tr th {\n",
       "        vertical-align: top;\n",
       "    }\n",
       "\n",
       "    .dataframe thead th {\n",
       "        text-align: right;\n",
       "    }\n",
       "</style>\n",
       "<table border=\"1\" class=\"dataframe\">\n",
       "  <thead>\n",
       "    <tr style=\"text-align: right;\">\n",
       "      <th></th>\n",
       "      <th>feature</th>\n",
       "      <th>importance</th>\n",
       "    </tr>\n",
       "  </thead>\n",
       "  <tbody>\n",
       "    <tr>\n",
       "      <th>2</th>\n",
       "      <td>petal length (cm)</td>\n",
       "      <td>0.551017</td>\n",
       "    </tr>\n",
       "    <tr>\n",
       "      <th>3</th>\n",
       "      <td>petal width (cm)</td>\n",
       "      <td>0.430233</td>\n",
       "    </tr>\n",
       "    <tr>\n",
       "      <th>0</th>\n",
       "      <td>sepal length (cm)</td>\n",
       "      <td>0.018750</td>\n",
       "    </tr>\n",
       "    <tr>\n",
       "      <th>1</th>\n",
       "      <td>sepal width (cm)</td>\n",
       "      <td>0.000000</td>\n",
       "    </tr>\n",
       "  </tbody>\n",
       "</table>\n",
       "</div>"
      ],
      "text/plain": [
       "             feature  importance\n",
       "2  petal length (cm)    0.551017\n",
       "3   petal width (cm)    0.430233\n",
       "0  sepal length (cm)    0.018750\n",
       "1   sepal width (cm)    0.000000"
      ]
     },
     "execution_count": 25,
     "metadata": {},
     "output_type": "execute_result"
    }
   ],
   "source": [
    "# df = pd.DataFrame(tree.feature_importances_).sort_values('importance', ascending=False)\n",
    "df = pd.DataFrame(list(zip(df.columns, tree.feature_importances_)), columns=['feature', 'importance']).sort_values('importance', ascending=False)\n",
    "\n",
    "# df = df.reset_index(drop=True)\n",
    "df.head(15)"
   ]
  },
  {
   "cell_type": "code",
   "execution_count": 26,
   "metadata": {
    "colab": {
     "base_uri": "https://localhost:8080/",
     "height": 606
    },
    "executionInfo": {
     "elapsed": 371,
     "status": "ok",
     "timestamp": 1678840918893,
     "user": {
      "displayName": "OPENCV KOREA",
      "userId": "03832798034950049293"
     },
     "user_tz": -540
    },
    "id": "glsnmRJOtLrs",
    "outputId": "c846ae6a-af3d-4ae6-c688-08b362b1e1a8",
    "tags": []
   },
   "outputs": [
    {
     "data": {
      "image/png": "[encoded data removed]",
      "text/plain": [
       "<Figure size 500x300 with 1 Axes>"
      ]
     },
     "metadata": {},
     "output_type": "display_data"
    }
   ],
   "source": [
    "plt.figure(figsize=(5, 3))\n",
    "sns.barplot(y='feature', x='importance', data=df)\n",
    "plt.show()"
   ]
  }
 ],
 "metadata": {
  "colab": {
   "provenance": [
    {
     "file_id": "https://github.com/teddylee777/machine-learning/blob/master/07-Scikit-Learn/tutorial/03-%EB%8D%B0%EC%9D%B4%ED%84%B0%EC%85%8B-(Dataset)-%EB%8B%A4%EB%A3%A8%EA%B8%B0-(%EC%8B%A4%EC%8A%B5).ipynb",
     "timestamp": 1678838781802
    }
   ]
  },
  "kernelspec": {
   "display_name": "Python 3 (ipykernel)",
   "language": "python",
   "name": "python3"
  },
  "language_info": {
   "codemirror_mode": {
    "name": "ipython",
    "version": 3
   },
   "file_extension": ".py",
   "mimetype": "text/x-python",
   "name": "python",
   "nbconvert_exporter": "python",
   "pygments_lexer": "ipython3",
   "version": "3.8.8"
  },
  "toc-autonumbering": true
 },
 "nbformat": 4,
 "nbformat_minor": 4
}
