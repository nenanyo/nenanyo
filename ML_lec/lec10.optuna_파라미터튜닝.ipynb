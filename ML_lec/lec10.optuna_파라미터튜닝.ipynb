{
 "cells": [
  {
   "cell_type": "code",
   "execution_count": 1,
   "id": "77a635b8-30e8-498b-a9ed-270ed53c8605",
   "metadata": {
    "tags": []
   },
   "outputs": [
    {
     "name": "stderr",
     "output_type": "stream",
     "text": [
      "\u001b[32m[I 2023-03-24 16:56:40,609]\u001b[0m A new study created in memory with name: no-name-82ebd071-c790-4a94-9d5a-4196e98b3b0e\u001b[0m\n",
      "\u001b[32m[I 2023-03-24 16:56:40,612]\u001b[0m Trial 0 finished with value: 19.585846053505918 and parameters: {'x': 6.425589910227327}. Best is trial 0 with value: 19.585846053505918.\u001b[0m\n",
      "\u001b[32m[I 2023-03-24 16:56:40,615]\u001b[0m Trial 1 finished with value: 13.086804158083122 and parameters: {'x': -1.6175688187072712}. Best is trial 1 with value: 13.086804158083122.\u001b[0m\n",
      "\u001b[32m[I 2023-03-24 16:56:40,617]\u001b[0m Trial 2 finished with value: 33.71401899692304 and parameters: {'x': -3.8063774418240364}. Best is trial 1 with value: 13.086804158083122.\u001b[0m\n",
      "\u001b[32m[I 2023-03-24 16:56:40,619]\u001b[0m Trial 3 finished with value: 18.859236137831175 and parameters: {'x': 6.34272220362196}. Best is trial 1 with value: 13.086804158083122.\u001b[0m\n",
      "\u001b[32m[I 2023-03-24 16:56:40,620]\u001b[0m Trial 4 finished with value: 29.531420850285674 and parameters: {'x': -3.4342819995180296}. Best is trial 1 with value: 13.086804158083122.\u001b[0m\n",
      "\u001b[32m[I 2023-03-24 16:56:40,622]\u001b[0m Trial 5 finished with value: 4.556126395289036 and parameters: {'x': -0.1345084669049772}. Best is trial 5 with value: 4.556126395289036.\u001b[0m\n",
      "\u001b[32m[I 2023-03-24 16:56:40,624]\u001b[0m Trial 6 finished with value: 142.3496653608691 and parameters: {'x': -9.931037899565531}. Best is trial 5 with value: 4.556126395289036.\u001b[0m\n",
      "\u001b[32m[I 2023-03-24 16:56:40,627]\u001b[0m Trial 7 finished with value: 35.27203180271772 and parameters: {'x': -3.9390261661923764}. Best is trial 5 with value: 4.556126395289036.\u001b[0m\n",
      "\u001b[32m[I 2023-03-24 16:56:40,629]\u001b[0m Trial 8 finished with value: 18.49199014654365 and parameters: {'x': 6.30023140616219}. Best is trial 5 with value: 4.556126395289036.\u001b[0m\n",
      "\u001b[32m[I 2023-03-24 16:56:40,633]\u001b[0m Trial 9 finished with value: 5.74664425627318 and parameters: {'x': 4.39721593859902}. Best is trial 5 with value: 4.556126395289036.\u001b[0m\n"
     ]
    },
    {
     "data": {
      "text/plain": [
       "{'x': -0.1345084669049772}"
      ]
     },
     "execution_count": 1,
     "metadata": {},
     "output_type": "execute_result"
    }
   ],
   "source": [
    "import optuna\n",
    "\n",
    "def objective(trial):\n",
    "    x = trial.suggest_float('x', -10, 10)\n",
    "    return (x - 2) ** 2\n",
    "\n",
    "study = optuna.create_study()\n",
    "study.optimize(objective, n_trials=10)\n",
    "\n",
    "study.best_params  # E.g. {'x': 2.002108042}"
   ]
  }
 ],
 "metadata": {
  "kernelspec": {
   "display_name": "Python 3 (ipykernel)",
   "language": "python",
   "name": "python3"
  },
  "language_info": {
   "codemirror_mode": {
    "name": "ipython",
    "version": 3
   },
   "file_extension": ".py",
   "mimetype": "text/x-python",
   "name": "python",
   "nbconvert_exporter": "python",
   "pygments_lexer": "ipython3",
   "version": "3.8.8"
  }
 },
 "nbformat": 4,
 "nbformat_minor": 5
}
