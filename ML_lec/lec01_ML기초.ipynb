{
 "cells": [
  {
   "cell_type": "code",
   "execution_count": 1,
   "id": "4a2fa388-3deb-48c5-8b37-ece9567f0e02",
   "metadata": {
    "tags": []
   },
   "outputs": [],
   "source": [
    "import numpy as np\n",
    "import pandas as pd\n",
    "import json\n",
    "# ★★★\n",
    "import warnings\n",
    "warnings.filterwarnings(action='ignore')\n",
    "import matplotlib.pyplot as plt\n",
    "import seaborn as sns"
   ]
  },
  {
   "cell_type": "markdown",
   "id": "254d3577-3bf3-4f0a-9ec8-22185d20e2f1",
   "metadata": {},
   "source": [
    "scaler(value) > vector(array) > metrics(2차 demension)"
   ]
  },
  {
   "cell_type": "code",
   "execution_count": 2,
   "id": "800f690b-7b5a-45e9-a365-6cfed883384a",
   "metadata": {},
   "outputs": [],
   "source": [
    "# ! pip install scikit-learn"
   ]
  },
  {
   "cell_type": "markdown",
   "id": "48350776-823c-4453-becf-ca5afeb1b3c1",
   "metadata": {
    "tags": []
   },
   "source": [
    "<img src=\"https://scikit-learn.org/stable/_static/ml_map.png\">"
   ]
  },
  {
   "cell_type": "markdown",
   "id": "c7873037-8b47-4141-b4ed-2dc92ae261b5",
   "metadata": {},
   "source": [
    "# 분석 프로세스\n",
    "\n",
    "<pre>\n",
    "<!-- <font color=red><b> -->\n",
    "1. Data Load\n",
    "2. EDA (Exploratory Data Analysis) 탐색적 데이터 분석\n",
    " - 통계적 데이터 분포 확인\n",
    " - 차트 시각화\n",
    "3. Feature Engineering : 전처리(preprocessing), 가공(engineering)\n",
    " - 타입변환(날짜, 카테고리변환(a,b,c -> 1,2,3))\n",
    " - 결측처리(버리기:dropna, 채우기:fillna, 모델활용채우기)\n",
    " - 바이닝(범주화 : cut, qcut)\n",
    " - 인코딩(라벨인코딩,원핫인코딩,pd.get_dummies())\n",
    " - 정규화(Scaling: MinMaxScaler, StandardScaler, RobustScaler, LogScaler)\n",
    " - 이상치(Outlier)\n",
    "4. 모델 선정(Model Selection:pycaret)\n",
    " - 회귀(Regression)\n",
    " - 분류(Classification)\n",
    " - 군집(Clustering, PCA)\n",
    "5. 모델 학습 및 예측(train_test_split & fit and Predict)\n",
    "6. 모델 검증 및 평가 (Validation & Evaluation metrics)\n",
    "7. 하이퍼파미터 튜닝(Hyper-parameter(모델의 속성값) optimization)\n",
    "8. 모델 저장 및 배포(Model Save & Deployment)"
   ]
  },
  {
   "cell_type": "markdown",
   "id": "ead77d75-fa23-4324-a115-2be8de73ed83",
   "metadata": {
    "tags": []
   },
   "source": [
    "# 결측\n",
    "<pre>\n",
    "* 결측처리(None,np.nan)\n",
    " - 삭제 \n",
    " - 보간(대체) : 모델, 통계적 수치"
   ]
  },
  {
   "cell_type": "code",
   "execution_count": 3,
   "id": "91c26c68-ab3c-45cc-ba33-ce69a1968816",
   "metadata": {
    "tags": []
   },
   "outputs": [
    {
     "data": {
      "text/html": [
       "<div>\n",
       "<style scoped>\n",
       "    .dataframe tbody tr th:only-of-type {\n",
       "        vertical-align: middle;\n",
       "    }\n",
       "\n",
       "    .dataframe tbody tr th {\n",
       "        vertical-align: top;\n",
       "    }\n",
       "\n",
       "    .dataframe thead th {\n",
       "        text-align: right;\n",
       "    }\n",
       "</style>\n",
       "<table border=\"1\" class=\"dataframe\">\n",
       "  <thead>\n",
       "    <tr style=\"text-align: right;\">\n",
       "      <th></th>\n",
       "      <th>name</th>\n",
       "      <th>score</th>\n",
       "    </tr>\n",
       "  </thead>\n",
       "  <tbody>\n",
       "    <tr>\n",
       "      <th>0</th>\n",
       "      <td>None</td>\n",
       "      <td>A</td>\n",
       "    </tr>\n",
       "    <tr>\n",
       "      <th>1</th>\n",
       "      <td>NaN</td>\n",
       "      <td>NaN</td>\n",
       "    </tr>\n",
       "    <tr>\n",
       "      <th>2</th>\n",
       "      <td>NaN</td>\n",
       "      <td>NaN</td>\n",
       "    </tr>\n",
       "    <tr>\n",
       "      <th>3</th>\n",
       "      <td>allen</td>\n",
       "      <td>D</td>\n",
       "    </tr>\n",
       "    <tr>\n",
       "      <th>4</th>\n",
       "      <td>king</td>\n",
       "      <td>C</td>\n",
       "    </tr>\n",
       "  </tbody>\n",
       "</table>\n",
       "</div>"
      ],
      "text/plain": [
       "    name score\n",
       "0   None     A\n",
       "1    NaN   NaN\n",
       "2    NaN   NaN\n",
       "3  allen     D\n",
       "4   king     C"
      ]
     },
     "execution_count": 3,
     "metadata": {},
     "output_type": "execute_result"
    }
   ],
   "source": [
    "df = pd.DataFrame({\"name\":[None,np.nan,\"NaN\",\"allen\",\"king\"],\"score\": [\"A\",np.nan,np.nan,\"D\",\"C\"]})\n",
    "df.head()"
   ]
  },
  {
   "cell_type": "code",
   "execution_count": 4,
   "id": "ba4128c5-802e-4674-be35-764539c64441",
   "metadata": {
    "tags": []
   },
   "outputs": [
    {
     "data": {
      "text/plain": [
       "array(['name', 'score'], dtype=object)"
      ]
     },
     "execution_count": 4,
     "metadata": {},
     "output_type": "execute_result"
    }
   ],
   "source": [
    "df.isna().sum()\n",
    "df.isna().sum()[df.isna().sum()>0].index.values\n",
    "# 컬럼명 출력(print()하면 값만 나옴)"
   ]
  },
  {
   "cell_type": "markdown",
   "id": "1b2387d5-f671-437f-871d-a25a0cdececc",
   "metadata": {
    "tags": []
   },
   "source": [
    "<pre>\n",
    "df.isna(), df.notna()\n",
    "df.isnull(), df.notnull()"
   ]
  },
  {
   "cell_type": "code",
   "execution_count": 5,
   "id": "e723b703-472a-42e5-b836-22935ca173e4",
   "metadata": {
    "tags": []
   },
   "outputs": [
    {
     "data": {
      "text/html": [
       "<div>\n",
       "<style scoped>\n",
       "    .dataframe tbody tr th:only-of-type {\n",
       "        vertical-align: middle;\n",
       "    }\n",
       "\n",
       "    .dataframe tbody tr th {\n",
       "        vertical-align: top;\n",
       "    }\n",
       "\n",
       "    .dataframe thead th {\n",
       "        text-align: right;\n",
       "    }\n",
       "</style>\n",
       "<table border=\"1\" class=\"dataframe\">\n",
       "  <thead>\n",
       "    <tr style=\"text-align: right;\">\n",
       "      <th></th>\n",
       "      <th>name</th>\n",
       "      <th>score</th>\n",
       "    </tr>\n",
       "  </thead>\n",
       "  <tbody>\n",
       "    <tr>\n",
       "      <th>0</th>\n",
       "      <td>None</td>\n",
       "      <td>A</td>\n",
       "    </tr>\n",
       "    <tr>\n",
       "      <th>3</th>\n",
       "      <td>allen</td>\n",
       "      <td>D</td>\n",
       "    </tr>\n",
       "    <tr>\n",
       "      <th>4</th>\n",
       "      <td>king</td>\n",
       "      <td>C</td>\n",
       "    </tr>\n",
       "  </tbody>\n",
       "</table>\n",
       "</div>"
      ],
      "text/plain": [
       "    name score\n",
       "0   None     A\n",
       "3  allen     D\n",
       "4   king     C"
      ]
     },
     "execution_count": 5,
     "metadata": {},
     "output_type": "execute_result"
    }
   ],
   "source": [
    "df[df['score'].notna()]"
   ]
  },
  {
   "cell_type": "markdown",
   "id": "c88eba4d-fc0d-40ce-a900-dba926e31ff4",
   "metadata": {
    "tags": []
   },
   "source": [
    "## 결측삭제\n",
    "<pre>\n",
    "DataFrame.dropna(*, axis=0, how=_NoDefault.no_default, thresh=_NoDefault.no_default, subset=None, inplace=False)[source]\n",
    "axis{0 or ‘index’, 1 or ‘columns’}, default 0\n",
    "how{‘any’, ‘all’}, default ‘any’\n"
   ]
  },
  {
   "cell_type": "code",
   "execution_count": 6,
   "id": "f1226e3f-a9ea-41cb-a8e2-74cef6c6d6e0",
   "metadata": {
    "tags": []
   },
   "outputs": [
    {
     "data": {
      "text/html": [
       "<div>\n",
       "<style scoped>\n",
       "    .dataframe tbody tr th:only-of-type {\n",
       "        vertical-align: middle;\n",
       "    }\n",
       "\n",
       "    .dataframe tbody tr th {\n",
       "        vertical-align: top;\n",
       "    }\n",
       "\n",
       "    .dataframe thead th {\n",
       "        text-align: right;\n",
       "    }\n",
       "</style>\n",
       "<table border=\"1\" class=\"dataframe\">\n",
       "  <thead>\n",
       "    <tr style=\"text-align: right;\">\n",
       "      <th></th>\n",
       "      <th>name</th>\n",
       "      <th>score</th>\n",
       "    </tr>\n",
       "  </thead>\n",
       "  <tbody>\n",
       "    <tr>\n",
       "      <th>0</th>\n",
       "      <td>None</td>\n",
       "      <td>A</td>\n",
       "    </tr>\n",
       "    <tr>\n",
       "      <th>2</th>\n",
       "      <td>NaN</td>\n",
       "      <td>NaN</td>\n",
       "    </tr>\n",
       "    <tr>\n",
       "      <th>3</th>\n",
       "      <td>allen</td>\n",
       "      <td>D</td>\n",
       "    </tr>\n",
       "    <tr>\n",
       "      <th>4</th>\n",
       "      <td>king</td>\n",
       "      <td>C</td>\n",
       "    </tr>\n",
       "  </tbody>\n",
       "</table>\n",
       "</div>"
      ],
      "text/plain": [
       "    name score\n",
       "0   None     A\n",
       "2    NaN   NaN\n",
       "3  allen     D\n",
       "4   king     C"
      ]
     },
     "execution_count": 6,
     "metadata": {},
     "output_type": "execute_result"
    }
   ],
   "source": [
    "df.dropna(how = \"all\")\n",
    "# row에 값이 모두 결측이면"
   ]
  },
  {
   "cell_type": "code",
   "execution_count": 7,
   "id": "d0cbaa50-d062-4976-a429-70dcd60781fc",
   "metadata": {
    "tags": []
   },
   "outputs": [
    {
     "data": {
      "text/html": [
       "<div>\n",
       "<style scoped>\n",
       "    .dataframe tbody tr th:only-of-type {\n",
       "        vertical-align: middle;\n",
       "    }\n",
       "\n",
       "    .dataframe tbody tr th {\n",
       "        vertical-align: top;\n",
       "    }\n",
       "\n",
       "    .dataframe thead th {\n",
       "        text-align: right;\n",
       "    }\n",
       "</style>\n",
       "<table border=\"1\" class=\"dataframe\">\n",
       "  <thead>\n",
       "    <tr style=\"text-align: right;\">\n",
       "      <th></th>\n",
       "      <th>name</th>\n",
       "      <th>score</th>\n",
       "    </tr>\n",
       "  </thead>\n",
       "  <tbody>\n",
       "    <tr>\n",
       "      <th>3</th>\n",
       "      <td>allen</td>\n",
       "      <td>D</td>\n",
       "    </tr>\n",
       "    <tr>\n",
       "      <th>4</th>\n",
       "      <td>king</td>\n",
       "      <td>C</td>\n",
       "    </tr>\n",
       "  </tbody>\n",
       "</table>\n",
       "</div>"
      ],
      "text/plain": [
       "    name score\n",
       "3  allen     D\n",
       "4   king     C"
      ]
     },
     "execution_count": 7,
     "metadata": {},
     "output_type": "execute_result"
    }
   ],
   "source": [
    "df.dropna(how = \"any\")\n",
    "# row에 값이 하나라도 결측이면"
   ]
  },
  {
   "cell_type": "markdown",
   "id": "fb8153c0-f0a7-4131-ac39-c1bae0af7f72",
   "metadata": {},
   "source": [
    "## 결측보간\n",
    "<pre>\n",
    "DataFrame.fillna(value=None, *, method=None, axis=None, inplace=False, limit=None, downcast=None)[source]\n",
    "method{‘backfill’, ‘bfill’, ‘pad’, ‘ffill’, None}, default None"
   ]
  },
  {
   "cell_type": "code",
   "execution_count": 8,
   "id": "99a1b8eb-5349-4833-a678-e8e167fd4feb",
   "metadata": {
    "tags": []
   },
   "outputs": [
    {
     "data": {
      "text/html": [
       "<div>\n",
       "<style scoped>\n",
       "    .dataframe tbody tr th:only-of-type {\n",
       "        vertical-align: middle;\n",
       "    }\n",
       "\n",
       "    .dataframe tbody tr th {\n",
       "        vertical-align: top;\n",
       "    }\n",
       "\n",
       "    .dataframe thead th {\n",
       "        text-align: right;\n",
       "    }\n",
       "</style>\n",
       "<table border=\"1\" class=\"dataframe\">\n",
       "  <thead>\n",
       "    <tr style=\"text-align: right;\">\n",
       "      <th></th>\n",
       "      <th>name</th>\n",
       "      <th>score</th>\n",
       "    </tr>\n",
       "  </thead>\n",
       "  <tbody>\n",
       "    <tr>\n",
       "      <th>0</th>\n",
       "      <td>9999</td>\n",
       "      <td>A</td>\n",
       "    </tr>\n",
       "    <tr>\n",
       "      <th>1</th>\n",
       "      <td>9999</td>\n",
       "      <td>9999</td>\n",
       "    </tr>\n",
       "    <tr>\n",
       "      <th>2</th>\n",
       "      <td>NaN</td>\n",
       "      <td>9999</td>\n",
       "    </tr>\n",
       "    <tr>\n",
       "      <th>3</th>\n",
       "      <td>allen</td>\n",
       "      <td>D</td>\n",
       "    </tr>\n",
       "    <tr>\n",
       "      <th>4</th>\n",
       "      <td>king</td>\n",
       "      <td>C</td>\n",
       "    </tr>\n",
       "  </tbody>\n",
       "</table>\n",
       "</div>"
      ],
      "text/plain": [
       "    name score\n",
       "0   9999     A\n",
       "1   9999  9999\n",
       "2    NaN  9999\n",
       "3  allen     D\n",
       "4   king     C"
      ]
     },
     "execution_count": 8,
     "metadata": {},
     "output_type": "execute_result"
    }
   ],
   "source": [
    "df.fillna('9999')"
   ]
  },
  {
   "cell_type": "code",
   "execution_count": 9,
   "id": "1e7d6d2b-207d-4016-9d5e-7176833aac82",
   "metadata": {
    "tags": []
   },
   "outputs": [
    {
     "data": {
      "text/plain": [
       "0    A\n",
       "1    F\n",
       "2    F\n",
       "3    D\n",
       "4    C\n",
       "Name: score, dtype: object"
      ]
     },
     "execution_count": 9,
     "metadata": {},
     "output_type": "execute_result"
    }
   ],
   "source": [
    "df['score'].fillna('F')"
   ]
  },
  {
   "cell_type": "markdown",
   "id": "d4dc05e5-b32d-49c7-accb-e2deaaa2c285",
   "metadata": {},
   "source": [
    "* 앞/뒤 값 이용해서 보간"
   ]
  },
  {
   "cell_type": "code",
   "execution_count": 10,
   "id": "289cfb80-c0a0-45a7-b250-7d2ecdc74703",
   "metadata": {
    "tags": []
   },
   "outputs": [
    {
     "data": {
      "text/plain": [
       "0    A\n",
       "1    D\n",
       "2    D\n",
       "3    D\n",
       "4    C\n",
       "Name: score, dtype: object"
      ]
     },
     "execution_count": 10,
     "metadata": {},
     "output_type": "execute_result"
    }
   ],
   "source": [
    "df['score'].fillna(method = 'bfill')\n",
    "# 바로 뒤의 값으로 채우기 "
   ]
  },
  {
   "cell_type": "code",
   "execution_count": 11,
   "id": "97dae832-947a-4687-b5d2-3da4c38b4be5",
   "metadata": {
    "tags": []
   },
   "outputs": [
    {
     "data": {
      "text/plain": [
       "0    A\n",
       "1    A\n",
       "2    A\n",
       "3    D\n",
       "4    C\n",
       "Name: score, dtype: object"
      ]
     },
     "execution_count": 11,
     "metadata": {},
     "output_type": "execute_result"
    }
   ],
   "source": [
    "df['score'].fillna(method = 'ffill')\n",
    "# 바로 앞의 값으로 채우기"
   ]
  },
  {
   "cell_type": "markdown",
   "id": "b7819f70-a68b-450c-b531-ea59c12cedf0",
   "metadata": {},
   "source": [
    "## 결측대체\n",
    "<pre>\n",
    "* 사용자 지정값\n",
    "* 통계적 수치\n",
    "    평균\n",
    "    최빈도\n",
    "    중앙\n",
    "* 모델 예측값"
   ]
  },
  {
   "cell_type": "code",
   "execution_count": 12,
   "id": "e8320470-5fcb-46e0-b7c8-a939ecd5bc80",
   "metadata": {
    "tags": []
   },
   "outputs": [
    {
     "data": {
      "text/html": [
       "<div>\n",
       "<style scoped>\n",
       "    .dataframe tbody tr th:only-of-type {\n",
       "        vertical-align: middle;\n",
       "    }\n",
       "\n",
       "    .dataframe tbody tr th {\n",
       "        vertical-align: top;\n",
       "    }\n",
       "\n",
       "    .dataframe thead th {\n",
       "        text-align: right;\n",
       "    }\n",
       "</style>\n",
       "<table border=\"1\" class=\"dataframe\">\n",
       "  <thead>\n",
       "    <tr style=\"text-align: right;\">\n",
       "      <th></th>\n",
       "      <th>name</th>\n",
       "      <th>score</th>\n",
       "      <th>sal</th>\n",
       "    </tr>\n",
       "  </thead>\n",
       "  <tbody>\n",
       "    <tr>\n",
       "      <th>0</th>\n",
       "      <td>smith</td>\n",
       "      <td>A</td>\n",
       "      <td>1000.0</td>\n",
       "    </tr>\n",
       "    <tr>\n",
       "      <th>1</th>\n",
       "      <td>NaN</td>\n",
       "      <td>B</td>\n",
       "      <td>1000.0</td>\n",
       "    </tr>\n",
       "    <tr>\n",
       "      <th>2</th>\n",
       "      <td>jones</td>\n",
       "      <td>B</td>\n",
       "      <td>3000.0</td>\n",
       "    </tr>\n",
       "    <tr>\n",
       "      <th>3</th>\n",
       "      <td>allen</td>\n",
       "      <td>A</td>\n",
       "      <td>NaN</td>\n",
       "    </tr>\n",
       "    <tr>\n",
       "      <th>4</th>\n",
       "      <td>king</td>\n",
       "      <td>A</td>\n",
       "      <td>4000.0</td>\n",
       "    </tr>\n",
       "  </tbody>\n",
       "</table>\n",
       "</div>"
      ],
      "text/plain": [
       "    name score     sal\n",
       "0  smith     A  1000.0\n",
       "1    NaN     B  1000.0\n",
       "2  jones     B  3000.0\n",
       "3  allen     A     NaN\n",
       "4   king     A  4000.0"
      ]
     },
     "execution_count": 12,
     "metadata": {},
     "output_type": "execute_result"
    }
   ],
   "source": [
    "df = pd.DataFrame({\"name\":[\"smith\",np.nan,\"jones\",\"allen\",\"king\"],\"score\": [\"A\",\"B\",\"B\",\"A\",\"A\"],\"sal\": [1000,1000,3000,np.nan,4000]})\n",
    "df"
   ]
  },
  {
   "cell_type": "markdown",
   "id": "e8e66444-b3e6-491f-b185-d328bdd51ddf",
   "metadata": {},
   "source": [
    "### 사용자 지정값"
   ]
  },
  {
   "cell_type": "code",
   "execution_count": 13,
   "id": "178eb9f5-ffc8-4ff9-997f-8359d0f9d549",
   "metadata": {
    "tags": []
   },
   "outputs": [
    {
     "data": {
      "text/html": [
       "<div>\n",
       "<style scoped>\n",
       "    .dataframe tbody tr th:only-of-type {\n",
       "        vertical-align: middle;\n",
       "    }\n",
       "\n",
       "    .dataframe tbody tr th {\n",
       "        vertical-align: top;\n",
       "    }\n",
       "\n",
       "    .dataframe thead th {\n",
       "        text-align: right;\n",
       "    }\n",
       "</style>\n",
       "<table border=\"1\" class=\"dataframe\">\n",
       "  <thead>\n",
       "    <tr style=\"text-align: right;\">\n",
       "      <th></th>\n",
       "      <th>name</th>\n",
       "      <th>score</th>\n",
       "      <th>sal</th>\n",
       "    </tr>\n",
       "  </thead>\n",
       "  <tbody>\n",
       "    <tr>\n",
       "      <th>0</th>\n",
       "      <td>smith</td>\n",
       "      <td>A</td>\n",
       "      <td>1000.0</td>\n",
       "    </tr>\n",
       "    <tr>\n",
       "      <th>1</th>\n",
       "      <td>AAA</td>\n",
       "      <td>B</td>\n",
       "      <td>1000.0</td>\n",
       "    </tr>\n",
       "    <tr>\n",
       "      <th>2</th>\n",
       "      <td>jones</td>\n",
       "      <td>B</td>\n",
       "      <td>3000.0</td>\n",
       "    </tr>\n",
       "    <tr>\n",
       "      <th>3</th>\n",
       "      <td>allen</td>\n",
       "      <td>A</td>\n",
       "      <td>999.0</td>\n",
       "    </tr>\n",
       "    <tr>\n",
       "      <th>4</th>\n",
       "      <td>king</td>\n",
       "      <td>A</td>\n",
       "      <td>4000.0</td>\n",
       "    </tr>\n",
       "  </tbody>\n",
       "</table>\n",
       "</div>"
      ],
      "text/plain": [
       "    name score     sal\n",
       "0  smith     A  1000.0\n",
       "1    AAA     B  1000.0\n",
       "2  jones     B  3000.0\n",
       "3  allen     A   999.0\n",
       "4   king     A  4000.0"
      ]
     },
     "execution_count": 13,
     "metadata": {},
     "output_type": "execute_result"
    }
   ],
   "source": [
    "dic = {\"name\":\"AAA\", \"score\":\"F\", \"sal\":999}\n",
    "df.fillna(dic)"
   ]
  },
  {
   "cell_type": "markdown",
   "id": "c4eb3703-9db5-4f74-93e1-9a0f92d8fee7",
   "metadata": {
    "tags": []
   },
   "source": [
    "### 통계적 수치 <pre>\n",
    " - 평균 : 결측 제외 합 / 결측 제외 값 갯수\n",
    " - 중앙값(중간값) : 홀수개(정중앙값), 짝수개(가운데 값 두개 평균) > <b>아웃라이어 영향 X</b>\n",
    " - 최빈도값 : 가장 많이 출현한 값"
   ]
  },
  {
   "cell_type": "code",
   "execution_count": 14,
   "id": "43f265bd-103c-40a9-8048-1030003f6c81",
   "metadata": {
    "tags": []
   },
   "outputs": [
    {
     "data": {
      "text/plain": [
       "(2250.0,\n",
       " 2000.0,\n",
       " 0    1000.0\n",
       " Name: sal, dtype: float64)"
      ]
     },
     "execution_count": 14,
     "metadata": {},
     "output_type": "execute_result"
    }
   ],
   "source": [
    "df['sal'].mean(), df['sal'].median() , df['sal'].mode()\n",
    "# --------------------값(scaler)출력 /series출력 "
   ]
  },
  {
   "cell_type": "code",
   "execution_count": 15,
   "id": "0eec93b2-f341-4bd7-af13-2f4aedb0f7e8",
   "metadata": {
    "tags": []
   },
   "outputs": [
    {
     "data": {
      "text/plain": [
       "1000.0"
      ]
     },
     "execution_count": 15,
     "metadata": {},
     "output_type": "execute_result"
    }
   ],
   "source": [
    "df['sal'].mode().values[0]\n",
    "# mode()만 series형태로 출력 > 값만 뽑기"
   ]
  },
  {
   "cell_type": "code",
   "execution_count": 16,
   "id": "990300c8-54e2-4632-9e7c-3974b1242290",
   "metadata": {
    "tags": []
   },
   "outputs": [
    {
     "data": {
      "text/plain": [
       "(22.5, 20.0)"
      ]
     },
     "execution_count": 16,
     "metadata": {},
     "output_type": "execute_result"
    }
   ],
   "source": [
    "np.mean([10,10,30,40]) , np.median([10,10,30,40])"
   ]
  },
  {
   "cell_type": "code",
   "execution_count": 17,
   "id": "24d12e8c-83db-42b7-b27d-345df49d26a2",
   "metadata": {
    "tags": []
   },
   "outputs": [
    {
     "data": {
      "text/plain": [
       "(37.5, 20.0)"
      ]
     },
     "execution_count": 17,
     "metadata": {},
     "output_type": "execute_result"
    }
   ],
   "source": [
    "np.mean([10,10,30,100]) , np.median([10,10,30,100])\n",
    "#아웃라이어 영향 X"
   ]
  },
  {
   "cell_type": "code",
   "execution_count": 18,
   "id": "ffa28c7b-ccd3-44a5-a3bd-b0a75cf4c380",
   "metadata": {
    "tags": []
   },
   "outputs": [
    {
     "data": {
      "text/plain": [
       "0    1000.0\n",
       "1    1000.0\n",
       "2    3000.0\n",
       "3    2250.0\n",
       "4    4000.0\n",
       "Name: sal, dtype: float64"
      ]
     },
     "execution_count": 18,
     "metadata": {},
     "output_type": "execute_result"
    }
   ],
   "source": [
    "df['sal'].fillna(df['sal'].mean())"
   ]
  },
  {
   "cell_type": "code",
   "execution_count": 19,
   "id": "9eda44de-8e2e-43ee-92f7-f348ad8b9ba7",
   "metadata": {
    "tags": []
   },
   "outputs": [
    {
     "data": {
      "text/plain": [
       "0    1000.0\n",
       "1    1000.0\n",
       "2    3000.0\n",
       "3    2500.0\n",
       "4    4000.0\n",
       "Name: sal, dtype: float64"
      ]
     },
     "execution_count": 19,
     "metadata": {},
     "output_type": "execute_result"
    }
   ],
   "source": [
    "df['sal'].fillna(df.groupby('score')['sal'].mean().to_dict()['A'])"
   ]
  },
  {
   "cell_type": "code",
   "execution_count": 20,
   "id": "68bca43a-5af3-42a4-a557-7b42d97198de",
   "metadata": {
    "tags": []
   },
   "outputs": [
    {
     "data": {
      "text/plain": [
       "{'A': 2500.0, 'B': 2000.0}"
      ]
     },
     "execution_count": 20,
     "metadata": {},
     "output_type": "execute_result"
    }
   ],
   "source": [
    "df.groupby('score')['sal'].mean().to_dict()"
   ]
  },
  {
   "cell_type": "markdown",
   "id": "a5081121-1277-451f-92e6-6988ef064983",
   "metadata": {},
   "source": [
    "* 그룹별로 평균내서 결측채우기"
   ]
  },
  {
   "cell_type": "code",
   "execution_count": 21,
   "id": "d0a46b80-4701-4e0e-b5fb-2c16e30fe03a",
   "metadata": {
    "tags": []
   },
   "outputs": [
    {
     "data": {
      "text/plain": [
       "0    1000.0\n",
       "1    1000.0\n",
       "2    3000.0\n",
       "3    2500.0\n",
       "4    4000.0\n",
       "Name: sal, dtype: float64"
      ]
     },
     "execution_count": 21,
     "metadata": {},
     "output_type": "execute_result"
    }
   ],
   "source": [
    "df.groupby('score')['sal'].transform( lambda x : x.fillna( x.mean() ) )"
   ]
  },
  {
   "cell_type": "code",
   "execution_count": 22,
   "id": "2fd17f95-0c92-4692-a1b8-ce58e7862b20",
   "metadata": {
    "tags": []
   },
   "outputs": [
    {
     "data": {
      "text/plain": [
       "0    1000.0\n",
       "1    1000.0\n",
       "2    3000.0\n",
       "3    2500.0\n",
       "4    4000.0\n",
       "Name: sal, dtype: float64"
      ]
     },
     "execution_count": 22,
     "metadata": {},
     "output_type": "execute_result"
    }
   ],
   "source": [
    "df['sal'].fillna(df.groupby('score')['sal'].transform(\"mean\"))  #-----★"
   ]
  },
  {
   "cell_type": "markdown",
   "id": "92341639-3b86-49be-a32c-da7e6bb10573",
   "metadata": {},
   "source": [
    "### 모델 예측 값\n",
    "* bike_demand의 windspeed 0 채우기 참조"
   ]
  },
  {
   "cell_type": "markdown",
   "id": "91e71b01-63e1-4c2b-b501-7a37d6f3ddcd",
   "metadata": {},
   "source": [
    "# 타입"
   ]
  },
  {
   "cell_type": "code",
   "execution_count": 23,
   "id": "89fcbcec-8a96-42b8-a77d-b1e6a847c823",
   "metadata": {
    "tags": []
   },
   "outputs": [
    {
     "data": {
      "text/html": [
       "<div>\n",
       "<style scoped>\n",
       "    .dataframe tbody tr th:only-of-type {\n",
       "        vertical-align: middle;\n",
       "    }\n",
       "\n",
       "    .dataframe tbody tr th {\n",
       "        vertical-align: top;\n",
       "    }\n",
       "\n",
       "    .dataframe thead th {\n",
       "        text-align: right;\n",
       "    }\n",
       "</style>\n",
       "<table border=\"1\" class=\"dataframe\">\n",
       "  <thead>\n",
       "    <tr style=\"text-align: right;\">\n",
       "      <th></th>\n",
       "      <th>sdate</th>\n",
       "      <th>regdate</th>\n",
       "    </tr>\n",
       "  </thead>\n",
       "  <tbody>\n",
       "    <tr>\n",
       "      <th>0</th>\n",
       "      <td>1999-01-01</td>\n",
       "      <td>2022-01-01</td>\n",
       "    </tr>\n",
       "    <tr>\n",
       "      <th>1</th>\n",
       "      <td>1999-01-01</td>\n",
       "      <td>2022-01-02</td>\n",
       "    </tr>\n",
       "    <tr>\n",
       "      <th>2</th>\n",
       "      <td>1999-01-01</td>\n",
       "      <td>2022-01-03</td>\n",
       "    </tr>\n",
       "    <tr>\n",
       "      <th>3</th>\n",
       "      <td>1999-01-01</td>\n",
       "      <td>2022-01-04</td>\n",
       "    </tr>\n",
       "    <tr>\n",
       "      <th>4</th>\n",
       "      <td>1999-01-01</td>\n",
       "      <td>2022-01-05</td>\n",
       "    </tr>\n",
       "  </tbody>\n",
       "</table>\n",
       "</div>"
      ],
      "text/plain": [
       "        sdate    regdate\n",
       "0  1999-01-01 2022-01-01\n",
       "1  1999-01-01 2022-01-02\n",
       "2  1999-01-01 2022-01-03\n",
       "3  1999-01-01 2022-01-04\n",
       "4  1999-01-01 2022-01-05"
      ]
     },
     "execution_count": 23,
     "metadata": {},
     "output_type": "execute_result"
    }
   ],
   "source": [
    "df = pd.DataFrame(  {\"sdate\": \"1999-01-01\", \"regdate\": pd.date_range(\"2022-01-01\",\"2022-01-05\",freq = \"D\")\n",
    "                },  )\n",
    "df.head()"
   ]
  },
  {
   "cell_type": "code",
   "execution_count": 24,
   "id": "2f285c82-a096-44d1-84bb-71628ff19967",
   "metadata": {
    "tags": []
   },
   "outputs": [
    {
     "name": "stdout",
     "output_type": "stream",
     "text": [
      "<class 'pandas.core.frame.DataFrame'>\n",
      "RangeIndex: 5 entries, 0 to 4\n",
      "Data columns (total 2 columns):\n",
      " #   Column   Non-Null Count  Dtype         \n",
      "---  ------   --------------  -----         \n",
      " 0   sdate    5 non-null      object        \n",
      " 1   regdate  5 non-null      datetime64[ns]\n",
      "dtypes: datetime64[ns](1), object(1)\n",
      "memory usage: 208.0+ bytes\n"
     ]
    }
   ],
   "source": [
    "df.info()"
   ]
  },
  {
   "cell_type": "code",
   "execution_count": 25,
   "id": "f44bcd8b-1eac-4b22-b884-f8e2cc2e73c0",
   "metadata": {
    "tags": []
   },
   "outputs": [
    {
     "data": {
      "text/html": [
       "<div>\n",
       "<style scoped>\n",
       "    .dataframe tbody tr th:only-of-type {\n",
       "        vertical-align: middle;\n",
       "    }\n",
       "\n",
       "    .dataframe tbody tr th {\n",
       "        vertical-align: top;\n",
       "    }\n",
       "\n",
       "    .dataframe thead th {\n",
       "        text-align: right;\n",
       "    }\n",
       "</style>\n",
       "<table border=\"1\" class=\"dataframe\">\n",
       "  <thead>\n",
       "    <tr style=\"text-align: right;\">\n",
       "      <th></th>\n",
       "      <th>sdate</th>\n",
       "      <th>regdate</th>\n",
       "      <th>y</th>\n",
       "      <th>m</th>\n",
       "      <th>d</th>\n",
       "      <th>h</th>\n",
       "      <th>min</th>\n",
       "      <th>sec</th>\n",
       "      <th>w</th>\n",
       "    </tr>\n",
       "  </thead>\n",
       "  <tbody>\n",
       "    <tr>\n",
       "      <th>0</th>\n",
       "      <td>1999-01-01</td>\n",
       "      <td>2022-01-01</td>\n",
       "      <td>2022</td>\n",
       "      <td>1</td>\n",
       "      <td>1</td>\n",
       "      <td>0</td>\n",
       "      <td>0</td>\n",
       "      <td>0</td>\n",
       "      <td>5</td>\n",
       "    </tr>\n",
       "    <tr>\n",
       "      <th>1</th>\n",
       "      <td>1999-01-01</td>\n",
       "      <td>2022-01-02</td>\n",
       "      <td>2022</td>\n",
       "      <td>1</td>\n",
       "      <td>2</td>\n",
       "      <td>0</td>\n",
       "      <td>0</td>\n",
       "      <td>0</td>\n",
       "      <td>6</td>\n",
       "    </tr>\n",
       "    <tr>\n",
       "      <th>2</th>\n",
       "      <td>1999-01-01</td>\n",
       "      <td>2022-01-03</td>\n",
       "      <td>2022</td>\n",
       "      <td>1</td>\n",
       "      <td>3</td>\n",
       "      <td>0</td>\n",
       "      <td>0</td>\n",
       "      <td>0</td>\n",
       "      <td>0</td>\n",
       "    </tr>\n",
       "    <tr>\n",
       "      <th>3</th>\n",
       "      <td>1999-01-01</td>\n",
       "      <td>2022-01-04</td>\n",
       "      <td>2022</td>\n",
       "      <td>1</td>\n",
       "      <td>4</td>\n",
       "      <td>0</td>\n",
       "      <td>0</td>\n",
       "      <td>0</td>\n",
       "      <td>1</td>\n",
       "    </tr>\n",
       "    <tr>\n",
       "      <th>4</th>\n",
       "      <td>1999-01-01</td>\n",
       "      <td>2022-01-05</td>\n",
       "      <td>2022</td>\n",
       "      <td>1</td>\n",
       "      <td>5</td>\n",
       "      <td>0</td>\n",
       "      <td>0</td>\n",
       "      <td>0</td>\n",
       "      <td>2</td>\n",
       "    </tr>\n",
       "  </tbody>\n",
       "</table>\n",
       "</div>"
      ],
      "text/plain": [
       "        sdate    regdate     y  m  d  h  min  sec  w\n",
       "0  1999-01-01 2022-01-01  2022  1  1  0    0    0  5\n",
       "1  1999-01-01 2022-01-02  2022  1  2  0    0    0  6\n",
       "2  1999-01-01 2022-01-03  2022  1  3  0    0    0  0\n",
       "3  1999-01-01 2022-01-04  2022  1  4  0    0    0  1\n",
       "4  1999-01-01 2022-01-05  2022  1  5  0    0    0  2"
      ]
     },
     "execution_count": 25,
     "metadata": {},
     "output_type": "execute_result"
    }
   ],
   "source": [
    "df['y'] = df['regdate'].dt.year\n",
    "df['m'] = df['regdate'].dt.month\n",
    "df['d'] = df['regdate'].dt.day\n",
    "\n",
    "df['h'] = df['regdate'].dt.hour\n",
    "df['min'] = df['regdate'].dt.minute\n",
    "df['sec'] = df['regdate'].dt.second\n",
    "df['w'] = df['regdate'].dt.dayofweek\n",
    "\n",
    "df.head()"
   ]
  },
  {
   "cell_type": "code",
   "execution_count": 26,
   "id": "72118202-8279-46fd-9a10-8dd6abfa111f",
   "metadata": {
    "tags": []
   },
   "outputs": [
    {
     "name": "stdout",
     "output_type": "stream",
     "text": [
      "<class 'pandas.core.frame.DataFrame'>\n",
      "RangeIndex: 5 entries, 0 to 4\n",
      "Data columns (total 10 columns):\n",
      " #   Column   Non-Null Count  Dtype         \n",
      "---  ------   --------------  -----         \n",
      " 0   sdate    5 non-null      object        \n",
      " 1   regdate  5 non-null      datetime64[ns]\n",
      " 2   y        5 non-null      int64         \n",
      " 3   m        5 non-null      int64         \n",
      " 4   d        5 non-null      int64         \n",
      " 5   h        5 non-null      int64         \n",
      " 6   min      5 non-null      int64         \n",
      " 7   sec      5 non-null      int64         \n",
      " 8   w        5 non-null      int64         \n",
      " 9   sdate2   5 non-null      datetime64[ns]\n",
      "dtypes: datetime64[ns](2), int64(7), object(1)\n",
      "memory usage: 528.0+ bytes\n"
     ]
    }
   ],
   "source": [
    "df['sdate2'] = df['sdate'].astype(\"datetime64[ns]\")\n",
    "df.info()"
   ]
  },
  {
   "cell_type": "code",
   "execution_count": 27,
   "id": "183b8006-050d-480d-9642-edd6a7c17b5d",
   "metadata": {
    "tags": []
   },
   "outputs": [
    {
     "name": "stdout",
     "output_type": "stream",
     "text": [
      "<class 'pandas.core.frame.DataFrame'>\n",
      "RangeIndex: 5 entries, 0 to 4\n",
      "Data columns (total 11 columns):\n",
      " #   Column   Non-Null Count  Dtype         \n",
      "---  ------   --------------  -----         \n",
      " 0   sdate    5 non-null      object        \n",
      " 1   regdate  5 non-null      datetime64[ns]\n",
      " 2   y        5 non-null      int64         \n",
      " 3   m        5 non-null      int64         \n",
      " 4   d        5 non-null      int64         \n",
      " 5   h        5 non-null      int64         \n",
      " 6   min      5 non-null      int64         \n",
      " 7   sec      5 non-null      int64         \n",
      " 8   w        5 non-null      int64         \n",
      " 9   sdate2   5 non-null      datetime64[ns]\n",
      " 10  sdate3   5 non-null      datetime64[ns]\n",
      "dtypes: datetime64[ns](3), int64(7), object(1)\n",
      "memory usage: 568.0+ bytes\n"
     ]
    }
   ],
   "source": [
    "df['sdate3'] = pd.to_datetime(df['sdate'])\n",
    "df.info()"
   ]
  },
  {
   "cell_type": "markdown",
   "id": "9f6301e0-dd3a-4247-ba93-1714a88b8af8",
   "metadata": {},
   "source": [
    "# 인코딩"
   ]
  },
  {
   "cell_type": "code",
   "execution_count": 28,
   "id": "929c3ccd-76c0-4662-85b3-3432bee79e3b",
   "metadata": {},
   "outputs": [],
   "source": [
    "from sklearn.preprocessing import LabelEncoder"
   ]
  },
  {
   "cell_type": "code",
   "execution_count": 32,
   "id": "bf532246-4389-4a44-9c72-586e21511522",
   "metadata": {
    "tags": []
   },
   "outputs": [
    {
     "data": {
      "text/html": [
       "<div>\n",
       "<style scoped>\n",
       "    .dataframe tbody tr th:only-of-type {\n",
       "        vertical-align: middle;\n",
       "    }\n",
       "\n",
       "    .dataframe tbody tr th {\n",
       "        vertical-align: top;\n",
       "    }\n",
       "\n",
       "    .dataframe thead th {\n",
       "        text-align: right;\n",
       "    }\n",
       "</style>\n",
       "<table border=\"1\" class=\"dataframe\">\n",
       "  <thead>\n",
       "    <tr style=\"text-align: right;\">\n",
       "      <th></th>\n",
       "      <th>name</th>\n",
       "      <th>score</th>\n",
       "    </tr>\n",
       "  </thead>\n",
       "  <tbody>\n",
       "    <tr>\n",
       "      <th>0</th>\n",
       "      <td>None</td>\n",
       "      <td>A</td>\n",
       "    </tr>\n",
       "    <tr>\n",
       "      <th>1</th>\n",
       "      <td>NaN</td>\n",
       "      <td>NaN</td>\n",
       "    </tr>\n",
       "    <tr>\n",
       "      <th>2</th>\n",
       "      <td>NaN</td>\n",
       "      <td>NaN</td>\n",
       "    </tr>\n",
       "    <tr>\n",
       "      <th>3</th>\n",
       "      <td>allen</td>\n",
       "      <td>D</td>\n",
       "    </tr>\n",
       "    <tr>\n",
       "      <th>4</th>\n",
       "      <td>king</td>\n",
       "      <td>C</td>\n",
       "    </tr>\n",
       "  </tbody>\n",
       "</table>\n",
       "</div>"
      ],
      "text/plain": [
       "    name score\n",
       "0   None     A\n",
       "1    NaN   NaN\n",
       "2    NaN   NaN\n",
       "3  allen     D\n",
       "4   king     C"
      ]
     },
     "execution_count": 32,
     "metadata": {},
     "output_type": "execute_result"
    }
   ],
   "source": [
    "df = pd.DataFrame({\"name\":[None,np.nan,\"NaN\",\"allen\",\"king\"],\"score\": [\"A\",np.nan,np.nan,\"D\",\"C\"]})\n",
    "df.head()"
   ]
  },
  {
   "cell_type": "code",
   "execution_count": 34,
   "id": "f4e786f5-0d67-4e46-bd9f-a1c43c3d3856",
   "metadata": {},
   "outputs": [],
   "source": [
    "le = LabelEncoder()\n",
    "le.fit(df['name'])\n",
    "df['le_name0'] = le.transform(df['name'])"
   ]
  },
  {
   "cell_type": "code",
   "execution_count": 35,
   "id": "8234c243-18a6-4660-a989-0c4175283017",
   "metadata": {},
   "outputs": [
    {
     "data": {
      "text/html": [
       "<div>\n",
       "<style scoped>\n",
       "    .dataframe tbody tr th:only-of-type {\n",
       "        vertical-align: middle;\n",
       "    }\n",
       "\n",
       "    .dataframe tbody tr th {\n",
       "        vertical-align: top;\n",
       "    }\n",
       "\n",
       "    .dataframe thead th {\n",
       "        text-align: right;\n",
       "    }\n",
       "</style>\n",
       "<table border=\"1\" class=\"dataframe\">\n",
       "  <thead>\n",
       "    <tr style=\"text-align: right;\">\n",
       "      <th></th>\n",
       "      <th>name</th>\n",
       "      <th>score</th>\n",
       "      <th>le_name0</th>\n",
       "    </tr>\n",
       "  </thead>\n",
       "  <tbody>\n",
       "    <tr>\n",
       "      <th>0</th>\n",
       "      <td>None</td>\n",
       "      <td>A</td>\n",
       "      <td>3</td>\n",
       "    </tr>\n",
       "    <tr>\n",
       "      <th>1</th>\n",
       "      <td>NaN</td>\n",
       "      <td>NaN</td>\n",
       "      <td>4</td>\n",
       "    </tr>\n",
       "    <tr>\n",
       "      <th>2</th>\n",
       "      <td>NaN</td>\n",
       "      <td>NaN</td>\n",
       "      <td>0</td>\n",
       "    </tr>\n",
       "    <tr>\n",
       "      <th>3</th>\n",
       "      <td>allen</td>\n",
       "      <td>D</td>\n",
       "      <td>1</td>\n",
       "    </tr>\n",
       "    <tr>\n",
       "      <th>4</th>\n",
       "      <td>king</td>\n",
       "      <td>C</td>\n",
       "      <td>2</td>\n",
       "    </tr>\n",
       "  </tbody>\n",
       "</table>\n",
       "</div>"
      ],
      "text/plain": [
       "    name score  le_name0\n",
       "0   None     A         3\n",
       "1    NaN   NaN         4\n",
       "2    NaN   NaN         0\n",
       "3  allen     D         1\n",
       "4   king     C         2"
      ]
     },
     "execution_count": 35,
     "metadata": {},
     "output_type": "execute_result"
    }
   ],
   "source": [
    "df\n",
    "# Nan값은 맨 마지막숫자로 처리"
   ]
  },
  {
   "cell_type": "code",
   "execution_count": 36,
   "id": "16b4030f-bc41-4ee9-a6ac-f6929eda9bde",
   "metadata": {},
   "outputs": [],
   "source": [
    "from sklearn.preprocessing import OneHotEncoder"
   ]
  },
  {
   "cell_type": "code",
   "execution_count": 37,
   "id": "1c7af1a5-ab95-4a78-8e86-76a914ba66ec",
   "metadata": {
    "tags": []
   },
   "outputs": [
    {
     "data": {
      "text/plain": [
       "(5,)"
      ]
     },
     "execution_count": 37,
     "metadata": {},
     "output_type": "execute_result"
    }
   ],
   "source": [
    "df['name'].shape\n",
    "# (5,) > 가로로 다섯개 항목\n",
    "# (5,1) > 세로로 다섯개"
   ]
  },
  {
   "cell_type": "code",
   "execution_count": 38,
   "id": "55159d80-bae8-4d18-aae7-c580e482b5f8",
   "metadata": {},
   "outputs": [
    {
     "data": {
      "text/plain": [
       "array([['A'],\n",
       "       [nan],\n",
       "       [nan],\n",
       "       ['D'],\n",
       "       ['C']], dtype=object)"
      ]
     },
     "execution_count": 38,
     "metadata": {},
     "output_type": "execute_result"
    }
   ],
   "source": [
    "df['score'].values.reshape(-1,1)"
   ]
  },
  {
   "cell_type": "code",
   "execution_count": 39,
   "id": "0797f835-3276-42e2-a205-6cb7c57cdd44",
   "metadata": {
    "tags": []
   },
   "outputs": [
    {
     "name": "stdout",
     "output_type": "stream",
     "text": [
      "[[1. 0. 0. 0.]\n",
      " [0. 0. 0. 1.]\n",
      " [0. 0. 0. 1.]\n",
      " [0. 0. 1. 0.]\n",
      " [0. 1. 0. 0.]]\n"
     ]
    }
   ],
   "source": [
    "# oe = OneHotEncoder()               #------------ (0,3)    1\n",
    "oe = OneHotEncoder(sparse=False) #------------ [10000000] \n",
    "\n",
    "oe.fit(df['score'].values.reshape(-1,1))\n",
    "res = oe.transform(df['score'].values.reshape(-1,1))\n",
    "print(res)"
   ]
  },
  {
   "cell_type": "code",
   "execution_count": 40,
   "id": "8d0584ee-a445-47ec-bd91-1e6fc7a8cbaf",
   "metadata": {
    "tags": []
   },
   "outputs": [
    {
     "data": {
      "text/html": [
       "<div>\n",
       "<style scoped>\n",
       "    .dataframe tbody tr th:only-of-type {\n",
       "        vertical-align: middle;\n",
       "    }\n",
       "\n",
       "    .dataframe tbody tr th {\n",
       "        vertical-align: top;\n",
       "    }\n",
       "\n",
       "    .dataframe thead th {\n",
       "        text-align: right;\n",
       "    }\n",
       "</style>\n",
       "<table border=\"1\" class=\"dataframe\">\n",
       "  <thead>\n",
       "    <tr style=\"text-align: right;\">\n",
       "      <th></th>\n",
       "      <th>0</th>\n",
       "      <th>1</th>\n",
       "      <th>2</th>\n",
       "      <th>3</th>\n",
       "    </tr>\n",
       "  </thead>\n",
       "  <tbody>\n",
       "    <tr>\n",
       "      <th>0</th>\n",
       "      <td>1.0</td>\n",
       "      <td>0.0</td>\n",
       "      <td>0.0</td>\n",
       "      <td>0.0</td>\n",
       "    </tr>\n",
       "    <tr>\n",
       "      <th>1</th>\n",
       "      <td>0.0</td>\n",
       "      <td>0.0</td>\n",
       "      <td>0.0</td>\n",
       "      <td>1.0</td>\n",
       "    </tr>\n",
       "    <tr>\n",
       "      <th>2</th>\n",
       "      <td>0.0</td>\n",
       "      <td>0.0</td>\n",
       "      <td>0.0</td>\n",
       "      <td>1.0</td>\n",
       "    </tr>\n",
       "    <tr>\n",
       "      <th>3</th>\n",
       "      <td>0.0</td>\n",
       "      <td>0.0</td>\n",
       "      <td>1.0</td>\n",
       "      <td>0.0</td>\n",
       "    </tr>\n",
       "    <tr>\n",
       "      <th>4</th>\n",
       "      <td>0.0</td>\n",
       "      <td>1.0</td>\n",
       "      <td>0.0</td>\n",
       "      <td>0.0</td>\n",
       "    </tr>\n",
       "  </tbody>\n",
       "</table>\n",
       "</div>"
      ],
      "text/plain": [
       "     0    1    2    3\n",
       "0  1.0  0.0  0.0  0.0\n",
       "1  0.0  0.0  0.0  1.0\n",
       "2  0.0  0.0  0.0  1.0\n",
       "3  0.0  0.0  1.0  0.0\n",
       "4  0.0  1.0  0.0  0.0"
      ]
     },
     "execution_count": 40,
     "metadata": {},
     "output_type": "execute_result"
    }
   ],
   "source": [
    "resdf = pd.DataFrame(res)\n",
    "resdf"
   ]
  },
  {
   "cell_type": "code",
   "execution_count": 41,
   "id": "a944061f-3e4c-41d9-97c9-1679094290c9",
   "metadata": {
    "tags": []
   },
   "outputs": [
    {
     "data": {
      "text/html": [
       "<div>\n",
       "<style scoped>\n",
       "    .dataframe tbody tr th:only-of-type {\n",
       "        vertical-align: middle;\n",
       "    }\n",
       "\n",
       "    .dataframe tbody tr th {\n",
       "        vertical-align: top;\n",
       "    }\n",
       "\n",
       "    .dataframe thead th {\n",
       "        text-align: right;\n",
       "    }\n",
       "</style>\n",
       "<table border=\"1\" class=\"dataframe\">\n",
       "  <thead>\n",
       "    <tr style=\"text-align: right;\">\n",
       "      <th></th>\n",
       "      <th>name</th>\n",
       "      <th>score</th>\n",
       "      <th>le_name0</th>\n",
       "      <th>0</th>\n",
       "      <th>1</th>\n",
       "      <th>2</th>\n",
       "      <th>3</th>\n",
       "    </tr>\n",
       "  </thead>\n",
       "  <tbody>\n",
       "    <tr>\n",
       "      <th>0</th>\n",
       "      <td>None</td>\n",
       "      <td>A</td>\n",
       "      <td>3</td>\n",
       "      <td>1.0</td>\n",
       "      <td>0.0</td>\n",
       "      <td>0.0</td>\n",
       "      <td>0.0</td>\n",
       "    </tr>\n",
       "    <tr>\n",
       "      <th>1</th>\n",
       "      <td>NaN</td>\n",
       "      <td>NaN</td>\n",
       "      <td>4</td>\n",
       "      <td>0.0</td>\n",
       "      <td>0.0</td>\n",
       "      <td>0.0</td>\n",
       "      <td>1.0</td>\n",
       "    </tr>\n",
       "    <tr>\n",
       "      <th>2</th>\n",
       "      <td>NaN</td>\n",
       "      <td>NaN</td>\n",
       "      <td>0</td>\n",
       "      <td>0.0</td>\n",
       "      <td>0.0</td>\n",
       "      <td>0.0</td>\n",
       "      <td>1.0</td>\n",
       "    </tr>\n",
       "    <tr>\n",
       "      <th>3</th>\n",
       "      <td>allen</td>\n",
       "      <td>D</td>\n",
       "      <td>1</td>\n",
       "      <td>0.0</td>\n",
       "      <td>0.0</td>\n",
       "      <td>1.0</td>\n",
       "      <td>0.0</td>\n",
       "    </tr>\n",
       "    <tr>\n",
       "      <th>4</th>\n",
       "      <td>king</td>\n",
       "      <td>C</td>\n",
       "      <td>2</td>\n",
       "      <td>0.0</td>\n",
       "      <td>1.0</td>\n",
       "      <td>0.0</td>\n",
       "      <td>0.0</td>\n",
       "    </tr>\n",
       "  </tbody>\n",
       "</table>\n",
       "</div>"
      ],
      "text/plain": [
       "    name score  le_name0    0    1    2    3\n",
       "0   None     A         3  1.0  0.0  0.0  0.0\n",
       "1    NaN   NaN         4  0.0  0.0  0.0  1.0\n",
       "2    NaN   NaN         0  0.0  0.0  0.0  1.0\n",
       "3  allen     D         1  0.0  0.0  1.0  0.0\n",
       "4   king     C         2  0.0  1.0  0.0  0.0"
      ]
     },
     "execution_count": 41,
     "metadata": {},
     "output_type": "execute_result"
    }
   ],
   "source": [
    "df1 = pd.concat([df, resdf], axis = 1)\n",
    "df1"
   ]
  },
  {
   "cell_type": "markdown",
   "id": "8187c618-9fa0-4f15-bf3d-29af27ed302f",
   "metadata": {},
   "source": [
    "pandas.get_dummies(data, prefix=None, prefix_sep='_', dummy_na=False, columns=None, sparse=False, drop_first=False, dtype=None)"
   ]
  },
  {
   "cell_type": "code",
   "execution_count": null,
   "id": "c6ab540d-c855-4453-a21b-c1e641530bfc",
   "metadata": {
    "tags": []
   },
   "outputs": [],
   "source": [
    "df2 = pd.get_dummies(df['name'])\n",
    "df = pd.concat([df,df2], axis = 1)\n",
    "df = df.drop('name', axis = 1)\n",
    "df\n",
    "# 컬럼 하나만 하면 합치기, 컬럼 삭제까지 내가 해야함 "
   ]
  },
  {
   "cell_type": "code",
   "execution_count": null,
   "id": "58a10b3d-bb2a-4185-abcd-a71c77e96aa1",
   "metadata": {
    "tags": []
   },
   "outputs": [],
   "source": [
    "df2 = pd.get_dummies(df)\n",
    "df2\n",
    "# ★★★df 채로 넣으면 편하다/ defalt는 결측 취급 안한다 > dummy_na = True로 수정하기!!!!!"
   ]
  },
  {
   "cell_type": "markdown",
   "id": "cebd1b09-5d80-4301-b3af-32883951ed46",
   "metadata": {},
   "source": [
    "# 바이닝"
   ]
  },
  {
   "cell_type": "code",
   "execution_count": null,
   "id": "8964bdb8-ad82-4a85-887b-f30396499606",
   "metadata": {},
   "outputs": [],
   "source": []
  },
  {
   "cell_type": "markdown",
   "id": "bd10968e-f8d7-4978-b1b9-90299820ef21",
   "metadata": {},
   "source": [
    "# 정규화\n"
   ]
  },
  {
   "cell_type": "markdown",
   "id": "06ec4a35-5845-478f-ad49-7688112c8e56",
   "metadata": {},
   "source": [
    "ref : http://piramvill2.org/?p=3748"
   ]
  },
  {
   "cell_type": "markdown",
   "id": "3012f084-8003-495a-9182-e491ace79638",
   "metadata": {},
   "source": [
    "<img src = \"https://img1.daumcdn.net/thumb/R1280x0/?scode=mtistory2&fname=https%3A%2F%2Ft1.daumcdn.net%2Fcfile%2Ftistory%2F276E5D47566A1CA329\">\n",
    "*분산 : 평균으로부터 떨어진 정도의 평균"
   ]
  },
  {
   "cell_type": "markdown",
   "id": "5bfdb5a4-74f4-4d21-a82f-94095465fbfa",
   "metadata": {},
   "source": [
    "<img src= \"https://velog.velcdn.com/images%2Fgooook%2Fpost%2F38b370c1-015d-40ba-81f1-920781ade8c9%2FRegression-terminologies-Page-3.png\">"
   ]
  },
  {
   "cell_type": "markdown",
   "id": "6fedda66-61bd-46b9-861d-668b4e78873b",
   "metadata": {},
   "source": [
    "<img src =\"https://img1.daumcdn.net/thumb/R1280x0/?scode=mtistory2&fname=https%3A%2F%2Fblog.kakaocdn.net%2Fdn%2F0odPk%2FbtqQjnMlwKM%2FhXlWLCPcyyZLVWUJjruEe0%2Fimg.png\" >"
   ]
  },
  {
   "cell_type": "markdown",
   "id": "e32362e8-bb18-4fe7-a689-a86d25cebc0d",
   "metadata": {},
   "source": [
    "<img src = \"https://qph.cf2.quoracdn.net/main-qimg-47e35df47f8539c6460ca450daa3f0da-lq\">"
   ]
  },
  {
   "cell_type": "markdown",
   "id": "4101b4a9-3cb0-4a9b-8f22-e56d324cbc1a",
   "metadata": {
    "tags": []
   },
   "source": [
    "\n",
    "* 설명 불가능한 에러 : <b>잔차</b>제곱합\n",
    "    * 잔차 : 실제값 - 예측값\n",
    "    * $SSR = \\sum_{i=1}^n ( {Y} - \\hat{Y_i} )^2 $\n",
    "    * SSR(<b>Residual</b>    sum of squares)\n",
    "    * SSE(Error         sum of squares)\n",
    "    <br><br>\n",
    "* 설명가능한 에러\n",
    "    * $SSE = \\sum_{i=1}^n ( \\hat{Y_i} - \\bar{Y})^2 $\n",
    "    * SSE(<b>Explained</b>   sum of squares)\n",
    "    * SSR(Regression sum of Squares)\n",
    "<br><br>\n",
    "* SST(total sum of squares)  : <b>편차</b>제곱합  \n",
    "    * $\\sum_{i=1}^n ( Y_i - \\bar{Y})^2 $ \n",
    "<br><br>\n",
    "* R-squared (R제곱;결정계수) : 총 에러 중 설명가능한 에러의 비율 / 통계만 해당(머신러닝X)\n",
    "    * $R^2 = SSE / SST $\n",
    "    * $R^2 = 1 - (SSR / SST) $"
   ]
  },
  {
   "cell_type": "markdown",
   "id": "a3140e39-651a-4a70-b020-c66a72e7126b",
   "metadata": {},
   "source": [
    "### 스케일링(Scaling)\n",
    "<pre>\n",
    "* 값의 변화가 확확 커져서 모델이 주요 피쳐로 인식할 수도 > 이를 방지하기 위해서 스케일링\n",
    "* 회귀모델에서 유용/분류에서는 X\n",
    "\n",
    "\n",
    "* ★범주형(A,B,C ->1,2,3 )은 스케일링 하지 말아라!!!!!!!  연속형만 해라\n",
    "* 데이터의 값이 너무 크거나 작아 변수의 영향이 제대로 반영되지 않을 경우, 알고리즘의 계산 과정에서 0으로 수렴하거나 값이 너무 커져버리는 경우 값의 수치를 변환해 사용\n",
    "* StandardScaler() : 기본 스케일. 평균과 표준편차 사용\n",
    "* MinMaxScaler() : 최대/최소값이 각각 1, 0이 되도록 스케일링\n",
    "* MaxAbsScaler() : 최대절대값과 0이 각각 1, 0이 되도록 스케일링\n",
    "* RobustScaler() : 중앙값(median)과 IQR(interquartile range) 사용. 아웃라이어의 영향을 최소화\n",
    "* https://wooono.tistory.com/96"
   ]
  },
  {
   "cell_type": "code",
   "execution_count": 45,
   "id": "44c30526-0893-48a7-933d-7cd901bf63a7",
   "metadata": {
    "tags": []
   },
   "outputs": [],
   "source": [
    "from sklearn.preprocessing import StandardScaler, MinMaxScaler, RobustScaler"
   ]
  },
  {
   "cell_type": "markdown",
   "id": "06645849-8ee4-4d87-9591-10617d73b276",
   "metadata": {},
   "source": [
    "### StandardScaler\n",
    "* 정규화 == 표준화 == 표준정규분포\n",
    "    * 데이터를 통계적으로 표준정규분포화  (평균= 0, 표준편차= 1)\n",
    "    * 표준화 (Z-score) = 편차/표준편차\n",
    "    * 모수 : 평균, 분산"
   ]
  },
  {
   "cell_type": "code",
   "execution_count": 43,
   "id": "3800d63f-e67f-4af2-b401-d1237e4ac660",
   "metadata": {
    "tags": []
   },
   "outputs": [
    {
     "data": {
      "text/html": [
       "<div>\n",
       "<style scoped>\n",
       "    .dataframe tbody tr th:only-of-type {\n",
       "        vertical-align: middle;\n",
       "    }\n",
       "\n",
       "    .dataframe tbody tr th {\n",
       "        vertical-align: top;\n",
       "    }\n",
       "\n",
       "    .dataframe thead th {\n",
       "        text-align: right;\n",
       "    }\n",
       "</style>\n",
       "<table border=\"1\" class=\"dataframe\">\n",
       "  <thead>\n",
       "    <tr style=\"text-align: right;\">\n",
       "      <th></th>\n",
       "      <th>score</th>\n",
       "      <th>le_score</th>\n",
       "    </tr>\n",
       "  </thead>\n",
       "  <tbody>\n",
       "    <tr>\n",
       "      <th>0</th>\n",
       "      <td>A</td>\n",
       "      <td>0</td>\n",
       "    </tr>\n",
       "    <tr>\n",
       "      <th>1</th>\n",
       "      <td>B</td>\n",
       "      <td>1</td>\n",
       "    </tr>\n",
       "    <tr>\n",
       "      <th>2</th>\n",
       "      <td>B</td>\n",
       "      <td>1</td>\n",
       "    </tr>\n",
       "    <tr>\n",
       "      <th>3</th>\n",
       "      <td>A</td>\n",
       "      <td>0</td>\n",
       "    </tr>\n",
       "    <tr>\n",
       "      <th>4</th>\n",
       "      <td>C</td>\n",
       "      <td>2</td>\n",
       "    </tr>\n",
       "  </tbody>\n",
       "</table>\n",
       "</div>"
      ],
      "text/plain": [
       "  score  le_score\n",
       "0     A         0\n",
       "1     B         1\n",
       "2     B         1\n",
       "3     A         0\n",
       "4     C         2"
      ]
     },
     "execution_count": 43,
     "metadata": {},
     "output_type": "execute_result"
    }
   ],
   "source": [
    "df = pd.DataFrame({\"score\": [\"A\",\"B\",\"B\",\"A\",\"C\"], \"le_score\":[0,1,1,0,2]})\n",
    "df"
   ]
  },
  {
   "cell_type": "code",
   "execution_count": null,
   "id": "beaf7f81-45d3-4042-a719-ad0e0a45b9cc",
   "metadata": {
    "tags": []
   },
   "outputs": [],
   "source": [
    "df.describe()\n",
    "# std : 표준편차"
   ]
  },
  {
   "cell_type": "code",
   "execution_count": null,
   "id": "35a068f6-644c-4b90-813a-f1cbcfcacc5d",
   "metadata": {
    "tags": []
   },
   "outputs": [],
   "source": [
    "np.mean([0,1,1,0,2]),np.std([0,1,1,0,2], ddof = 1)"
   ]
  },
  {
   "cell_type": "markdown",
   "id": "b8ed3b56-68b7-4552-9c01-c1bc4c3cf682",
   "metadata": {},
   "source": [
    "ddof = degree of freedom, 자유도\n",
    "N : 모집단\n",
    "N -ddof : 샘플집단\n",
    "np.std(ddof = 0)이 default\n",
    "df.describ(ddof = 1)랑 차이가 난다"
   ]
  },
  {
   "cell_type": "code",
   "execution_count": 46,
   "id": "2faee051-9a89-4b9d-b59e-d26669882ea6",
   "metadata": {
    "tags": []
   },
   "outputs": [
    {
     "name": "stdout",
     "output_type": "stream",
     "text": [
      "[0 1 1 0 2]\n",
      "[[-1.06904497]\n",
      " [ 0.26726124]\n",
      " [ 0.26726124]\n",
      " [-1.06904497]\n",
      " [ 1.60356745]]\n",
      "[[0. ]\n",
      " [0.5]\n",
      " [0.5]\n",
      " [0. ]\n",
      " [1. ]]\n",
      "[[-1.]\n",
      " [ 0.]\n",
      " [ 0.]\n",
      " [-1.]\n",
      " [ 1.]]\n"
     ]
    }
   ],
   "source": [
    "print(df['le_score'].values)\n",
    "sc_list = [StandardScaler(),MinMaxScaler(), RobustScaler()]\n",
    "for sc in sc_list:\n",
    "    sc.fit(df['le_score'].values.reshape(-1,1))\n",
    "    res=sc.transform(df['le_score'].values.reshape(-1,1))\n",
    "    print(res)"
   ]
  },
  {
   "cell_type": "markdown",
   "id": "08ee69c4-1ba6-41e3-9bd5-52dc0cf6b56e",
   "metadata": {},
   "source": [
    "ref : https://scikit-learn.org/stable/auto_examples/preprocessing/plot_all_scaling.html"
   ]
  },
  {
   "cell_type": "code",
   "execution_count": null,
   "id": "64a5d04b-b440-49ae-94de-9934dcd25dc8",
   "metadata": {},
   "outputs": [],
   "source": []
  },
  {
   "cell_type": "code",
   "execution_count": null,
   "id": "eb793c41-7702-4266-8c32-2b254ee21df8",
   "metadata": {},
   "outputs": [],
   "source": []
  },
  {
   "cell_type": "code",
   "execution_count": null,
   "id": "34a7f08a-5cc1-4e8c-8875-f4cb0a531417",
   "metadata": {},
   "outputs": [],
   "source": []
  },
  {
   "cell_type": "code",
   "execution_count": null,
   "id": "34e0d588-b409-475c-a33b-b2a6dda27a4f",
   "metadata": {},
   "outputs": [],
   "source": []
  },
  {
   "cell_type": "code",
   "execution_count": null,
   "id": "c5a5cfdf-a6fb-4348-9e79-7a6ef649062b",
   "metadata": {},
   "outputs": [],
   "source": []
  },
  {
   "cell_type": "code",
   "execution_count": null,
   "id": "2b1a3e97-841a-4a73-aa6b-49c2d3cbc2fc",
   "metadata": {},
   "outputs": [],
   "source": []
  },
  {
   "cell_type": "code",
   "execution_count": null,
   "id": "b132caf2-34ea-4e3c-85f4-fdae93140b74",
   "metadata": {},
   "outputs": [],
   "source": []
  }
 ],
 "metadata": {
  "kernelspec": {
   "display_name": "Python 3 (ipykernel)",
   "language": "python",
   "name": "python3"
  },
  "language_info": {
   "codemirror_mode": {
    "name": "ipython",
    "version": 3
   },
   "file_extension": ".py",
   "mimetype": "text/x-python",
   "name": "python",
   "nbconvert_exporter": "python",
   "pygments_lexer": "ipython3",
   "version": "3.8.8"
  }
 },
 "nbformat": 4,
 "nbformat_minor": 5
}
