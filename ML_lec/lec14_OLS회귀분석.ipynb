{
 "cells": [
  {
   "cell_type": "code",
   "execution_count": 1,
   "id": "7b2ad49a-832c-47d5-be22-f8a854350998",
   "metadata": {
    "tags": []
   },
   "outputs": [
    {
     "data": {
      "text/html": [
       "<style>.container{width:100% !important;}</style>"
      ],
      "text/plain": [
       "<IPython.core.display.HTML object>"
      ]
     },
     "metadata": {},
     "output_type": "display_data"
    }
   ],
   "source": [
    "import numpy as np\n",
    "import pandas as pd\n",
    "\n",
    "import matplotlib.pyplot as plt\n",
    "import seaborn as sns\n",
    "\n",
    "\n",
    "sns.set()\n",
    "\n",
    "#-------------------- 차트 관련 속성 (한글처리, 그리드) -----------\n",
    "plt.rcParams['font.family']= 'Malgun Gothic'\n",
    "plt.rcParams['axes.unicode_minus'] = False\n",
    "\n",
    "#-------------------- 주피터 , 출력결과 넓이 늘리기 ---------------\n",
    "# from IPython.core.display import display, HTML\n",
    "from IPython.display import display, HTML\n",
    "\n",
    "display(HTML(\"<style>.container{width:100% !important;}</style>\"))\n",
    "pd.set_option('display.max_rows', 100)\n",
    "pd.set_option('display.max_columns', 100)\n",
    "pd.set_option('max_colwidth', None)\n",
    "\n",
    "import warnings\n",
    "warnings.filterwarnings(action='ignore')"
   ]
  },
  {
   "cell_type": "code",
   "execution_count": 23,
   "id": "a51e4bc6-2a0a-4c49-9c69-d2cfbdc522bf",
   "metadata": {
    "tags": []
   },
   "outputs": [],
   "source": [
    "# ----------------- 학습 ----------------------\n",
    "from sklearn.model_selection import train_test_split\n",
    "from sklearn.tree import DecisionTreeClassifier\n",
    "from sklearn.linear_model import LogisticRegression,LinearRegression\n",
    "\n",
    "\n",
    "\n",
    "# ----------------- 평가 ----------------------\n",
    "from sklearn.metrics import confusion_matrix\n",
    "from sklearn.metrics import mean_squared_error\n",
    "\n",
    "from sklearn.metrics import classification_report\n",
    "from sklearn.metrics import accuracy_score\n",
    "from sklearn.metrics import f1_score, precision_score, recall_score\n",
    "from sklearn.metrics import precision_recall_curve, plot_precision_recall_curve\n",
    "\n",
    "from sklearn.metrics import roc_auc_score, roc_curve, plot_roc_curve\n",
    "\n",
    "from imblearn.over_sampling import SMOTE\n",
    "from imblearn.over_sampling import RandomOverSampler\n",
    "\n",
    "from pycaret.classification import *"
   ]
  },
  {
   "cell_type": "code",
   "execution_count": 8,
   "id": "6cee8595-ec18-47c5-a9d5-da22ad47d39c",
   "metadata": {
    "tags": []
   },
   "outputs": [],
   "source": [
    "import statsmodels.api as sm\n",
    "from statsmodels.regression.linear_model import OLS\n"
   ]
  },
  {
   "cell_type": "markdown",
   "id": "708d627c-3f4b-4b44-959d-b58af874222e",
   "metadata": {
    "tags": []
   },
   "source": [
    "# lec14_OLS회귀분석\n",
    "class statsmodels.regression.linear_model.OLS(endog, exog=None, missing='none', hasconst=None, **kwargs)"
   ]
  },
  {
   "cell_type": "markdown",
   "id": "29dfd106-9e19-4ec0-99c7-6f385e6e4a9a",
   "metadata": {
    "tags": []
   },
   "source": [
    "* OLS(Ordinary Least Squares) : 최소제곱(자승)법\n",
    "* RSS, 잔차제곱합(Y-Y^)^2 을 최소화하는 <b>가중치 벡터</b>를 구하는 방법\n",
    "* y = wX + b\n",
    "    * w : 회귀계수(coef)\n",
    "    * b : 편향(bias)"
   ]
  },
  {
   "cell_type": "markdown",
   "id": "afcaa91a-7e20-4ee1-9ce6-f9af0a546efb",
   "metadata": {},
   "source": [
    "* X >> 무조건 bias 추가해서 사용 >> X.sm.add.constant"
   ]
  },
  {
   "cell_type": "markdown",
   "id": "4e4947cd-19af-471b-ae1e-8d8fb8f65fa1",
   "metadata": {},
   "source": [
    "# 실습"
   ]
  },
  {
   "cell_type": "code",
   "execution_count": 3,
   "id": "b5a9c9ac-b2b3-4e26-b739-926260cca13a",
   "metadata": {
    "tags": []
   },
   "outputs": [],
   "source": [
    "from sklearn.datasets import load_boston\n",
    "dataset = load_boston()"
   ]
  },
  {
   "cell_type": "code",
   "execution_count": 10,
   "id": "6b8a1b29-8f7b-42bb-b5b7-94adfb3be7c5",
   "metadata": {
    "tags": []
   },
   "outputs": [
    {
     "name": "stdout",
     "output_type": "stream",
     "text": [
      "<class 'pandas.core.frame.DataFrame'>\n",
      "RangeIndex: 506 entries, 0 to 505\n",
      "Data columns (total 14 columns):\n",
      " #   Column   Non-Null Count  Dtype  \n",
      "---  ------   --------------  -----  \n",
      " 0   CRIM     506 non-null    float64\n",
      " 1   ZN       506 non-null    float64\n",
      " 2   INDUS    506 non-null    float64\n",
      " 3   CHAS     506 non-null    float64\n",
      " 4   NOX      506 non-null    float64\n",
      " 5   RM       506 non-null    float64\n",
      " 6   AGE      506 non-null    float64\n",
      " 7   DIS      506 non-null    float64\n",
      " 8   RAD      506 non-null    float64\n",
      " 9   TAX      506 non-null    float64\n",
      " 10  PTRATIO  506 non-null    float64\n",
      " 11  B        506 non-null    float64\n",
      " 12  LSTAT    506 non-null    float64\n",
      " 13  MEDV     506 non-null    float64\n",
      "dtypes: float64(14)\n",
      "memory usage: 55.5 KB\n"
     ]
    }
   ],
   "source": [
    "df = pd.DataFrame(dataset['data'], columns = dataset['feature_names'])\n",
    "df['MEDV'] = dataset['target']\n",
    "df.info()"
   ]
  },
  {
   "cell_type": "code",
   "execution_count": 20,
   "id": "eea4780c-1319-4547-b190-a204d986dc61",
   "metadata": {
    "tags": []
   },
   "outputs": [],
   "source": [
    "y = df[\"MEDV\"] \n",
    "X= df.drop(\"MEDV\", axis=1)"
   ]
  },
  {
   "cell_type": "code",
   "execution_count": 21,
   "id": "9dad9a22-f17a-4e7b-af5c-4deacc610806",
   "metadata": {
    "tags": []
   },
   "outputs": [
    {
     "data": {
      "text/plain": [
       "((506,), (506, 13))"
      ]
     },
     "execution_count": 21,
     "metadata": {},
     "output_type": "execute_result"
    }
   ],
   "source": [
    "y.shape, X.shape"
   ]
  },
  {
   "cell_type": "code",
   "execution_count": 22,
   "id": "3099eb62-35c2-44cc-8ae9-cccb462750f6",
   "metadata": {
    "tags": []
   },
   "outputs": [
    {
     "data": {
      "text/html": [
       "<table class=\"simpletable\">\n",
       "<caption>OLS Regression Results</caption>\n",
       "<tr>\n",
       "  <th>Dep. Variable:</th>          <td>MEDV</td>       <th>  R-squared (uncentered):</th>      <td>   0.959</td>\n",
       "</tr>\n",
       "<tr>\n",
       "  <th>Model:</th>                   <td>OLS</td>       <th>  Adj. R-squared (uncentered):</th> <td>   0.958</td>\n",
       "</tr>\n",
       "<tr>\n",
       "  <th>Method:</th>             <td>Least Squares</td>  <th>  F-statistic:       </th>          <td>   891.3</td>\n",
       "</tr>\n",
       "<tr>\n",
       "  <th>Date:</th>             <td>Wed, 05 Apr 2023</td> <th>  Prob (F-statistic):</th>           <td>  0.00</td> \n",
       "</tr>\n",
       "<tr>\n",
       "  <th>Time:</th>                 <td>11:07:26</td>     <th>  Log-Likelihood:    </th>          <td> -1523.8</td>\n",
       "</tr>\n",
       "<tr>\n",
       "  <th>No. Observations:</th>      <td>   506</td>      <th>  AIC:               </th>          <td>   3074.</td>\n",
       "</tr>\n",
       "<tr>\n",
       "  <th>Df Residuals:</th>          <td>   493</td>      <th>  BIC:               </th>          <td>   3128.</td>\n",
       "</tr>\n",
       "<tr>\n",
       "  <th>Df Model:</th>              <td>    13</td>      <th>                     </th>              <td> </td>   \n",
       "</tr>\n",
       "<tr>\n",
       "  <th>Covariance Type:</th>      <td>nonrobust</td>    <th>                     </th>              <td> </td>   \n",
       "</tr>\n",
       "</table>\n",
       "<table class=\"simpletable\">\n",
       "<tr>\n",
       "     <td></td>        <th>coef</th>     <th>std err</th>      <th>t</th>      <th>P>|t|</th>  <th>[0.025</th>    <th>0.975]</th>  \n",
       "</tr>\n",
       "<tr>\n",
       "  <th>CRIM</th>    <td>   -0.0929</td> <td>    0.034</td> <td>   -2.699</td> <td> 0.007</td> <td>   -0.161</td> <td>   -0.025</td>\n",
       "</tr>\n",
       "<tr>\n",
       "  <th>ZN</th>      <td>    0.0487</td> <td>    0.014</td> <td>    3.382</td> <td> 0.001</td> <td>    0.020</td> <td>    0.077</td>\n",
       "</tr>\n",
       "<tr>\n",
       "  <th>INDUS</th>   <td>   -0.0041</td> <td>    0.064</td> <td>   -0.063</td> <td> 0.950</td> <td>   -0.131</td> <td>    0.123</td>\n",
       "</tr>\n",
       "<tr>\n",
       "  <th>CHAS</th>    <td>    2.8540</td> <td>    0.904</td> <td>    3.157</td> <td> 0.002</td> <td>    1.078</td> <td>    4.630</td>\n",
       "</tr>\n",
       "<tr>\n",
       "  <th>NOX</th>     <td>   -2.8684</td> <td>    3.359</td> <td>   -0.854</td> <td> 0.394</td> <td>   -9.468</td> <td>    3.731</td>\n",
       "</tr>\n",
       "<tr>\n",
       "  <th>RM</th>      <td>    5.9281</td> <td>    0.309</td> <td>   19.178</td> <td> 0.000</td> <td>    5.321</td> <td>    6.535</td>\n",
       "</tr>\n",
       "<tr>\n",
       "  <th>AGE</th>     <td>   -0.0073</td> <td>    0.014</td> <td>   -0.526</td> <td> 0.599</td> <td>   -0.034</td> <td>    0.020</td>\n",
       "</tr>\n",
       "<tr>\n",
       "  <th>DIS</th>     <td>   -0.9685</td> <td>    0.196</td> <td>   -4.951</td> <td> 0.000</td> <td>   -1.353</td> <td>   -0.584</td>\n",
       "</tr>\n",
       "<tr>\n",
       "  <th>RAD</th>     <td>    0.1712</td> <td>    0.067</td> <td>    2.564</td> <td> 0.011</td> <td>    0.040</td> <td>    0.302</td>\n",
       "</tr>\n",
       "<tr>\n",
       "  <th>TAX</th>     <td>   -0.0094</td> <td>    0.004</td> <td>   -2.395</td> <td> 0.017</td> <td>   -0.017</td> <td>   -0.002</td>\n",
       "</tr>\n",
       "<tr>\n",
       "  <th>PTRATIO</th> <td>   -0.3922</td> <td>    0.110</td> <td>   -3.570</td> <td> 0.000</td> <td>   -0.608</td> <td>   -0.176</td>\n",
       "</tr>\n",
       "<tr>\n",
       "  <th>B</th>       <td>    0.0149</td> <td>    0.003</td> <td>    5.528</td> <td> 0.000</td> <td>    0.010</td> <td>    0.020</td>\n",
       "</tr>\n",
       "<tr>\n",
       "  <th>LSTAT</th>   <td>   -0.4163</td> <td>    0.051</td> <td>   -8.197</td> <td> 0.000</td> <td>   -0.516</td> <td>   -0.317</td>\n",
       "</tr>\n",
       "</table>\n",
       "<table class=\"simpletable\">\n",
       "<tr>\n",
       "  <th>Omnibus:</th>       <td>204.082</td> <th>  Durbin-Watson:     </th> <td>   0.999</td> \n",
       "</tr>\n",
       "<tr>\n",
       "  <th>Prob(Omnibus):</th> <td> 0.000</td>  <th>  Jarque-Bera (JB):  </th> <td>1374.225</td> \n",
       "</tr>\n",
       "<tr>\n",
       "  <th>Skew:</th>          <td> 1.609</td>  <th>  Prob(JB):          </th> <td>3.90e-299</td>\n",
       "</tr>\n",
       "<tr>\n",
       "  <th>Kurtosis:</th>      <td>10.404</td>  <th>  Cond. No.          </th> <td>8.50e+03</td> \n",
       "</tr>\n",
       "</table><br/><br/>Notes:<br/>[1] R² is computed without centering (uncentered) since the model does not contain a constant.<br/>[2] Standard Errors assume that the covariance matrix of the errors is correctly specified.<br/>[3] The condition number is large, 8.5e+03. This might indicate that there are<br/>strong multicollinearity or other numerical problems."
      ],
      "text/plain": [
       "<class 'statsmodels.iolib.summary.Summary'>\n",
       "\"\"\"\n",
       "                                 OLS Regression Results                                \n",
       "=======================================================================================\n",
       "Dep. Variable:                   MEDV   R-squared (uncentered):                   0.959\n",
       "Model:                            OLS   Adj. R-squared (uncentered):              0.958\n",
       "Method:                 Least Squares   F-statistic:                              891.3\n",
       "Date:                Wed, 05 Apr 2023   Prob (F-statistic):                        0.00\n",
       "Time:                        11:07:26   Log-Likelihood:                         -1523.8\n",
       "No. Observations:                 506   AIC:                                      3074.\n",
       "Df Residuals:                     493   BIC:                                      3128.\n",
       "Df Model:                          13                                                  \n",
       "Covariance Type:            nonrobust                                                  \n",
       "==============================================================================\n",
       "                 coef    std err          t      P>|t|      [0.025      0.975]\n",
       "------------------------------------------------------------------------------\n",
       "CRIM          -0.0929      0.034     -2.699      0.007      -0.161      -0.025\n",
       "ZN             0.0487      0.014      3.382      0.001       0.020       0.077\n",
       "INDUS         -0.0041      0.064     -0.063      0.950      -0.131       0.123\n",
       "CHAS           2.8540      0.904      3.157      0.002       1.078       4.630\n",
       "NOX           -2.8684      3.359     -0.854      0.394      -9.468       3.731\n",
       "RM             5.9281      0.309     19.178      0.000       5.321       6.535\n",
       "AGE           -0.0073      0.014     -0.526      0.599      -0.034       0.020\n",
       "DIS           -0.9685      0.196     -4.951      0.000      -1.353      -0.584\n",
       "RAD            0.1712      0.067      2.564      0.011       0.040       0.302\n",
       "TAX           -0.0094      0.004     -2.395      0.017      -0.017      -0.002\n",
       "PTRATIO       -0.3922      0.110     -3.570      0.000      -0.608      -0.176\n",
       "B              0.0149      0.003      5.528      0.000       0.010       0.020\n",
       "LSTAT         -0.4163      0.051     -8.197      0.000      -0.516      -0.317\n",
       "==============================================================================\n",
       "Omnibus:                      204.082   Durbin-Watson:                   0.999\n",
       "Prob(Omnibus):                  0.000   Jarque-Bera (JB):             1374.225\n",
       "Skew:                           1.609   Prob(JB):                    3.90e-299\n",
       "Kurtosis:                      10.404   Cond. No.                     8.50e+03\n",
       "==============================================================================\n",
       "\n",
       "Notes:\n",
       "[1] R² is computed without centering (uncentered) since the model does not contain a constant.\n",
       "[2] Standard Errors assume that the covariance matrix of the errors is correctly specified.\n",
       "[3] The condition number is large, 8.5e+03. This might indicate that there are\n",
       "strong multicollinearity or other numerical problems.\n",
       "\"\"\""
      ]
     },
     "execution_count": 22,
     "metadata": {},
     "output_type": "execute_result"
    }
   ],
   "source": [
    "# X= sm.add_constant(x)  # 상수항 결합 / bias 값 추가\n",
    "\n",
    "model=OLS(y,X)\n",
    "fit_res=model.fit()\n",
    "fit_res.summary()\n",
    "\n",
    "\n",
    "# R2 : 0.959, AIC : 3074."
   ]
  },
  {
   "cell_type": "code",
   "execution_count": 25,
   "id": "713e47e9-7fb8-4da2-ae8f-923f755cf3ad",
   "metadata": {
    "tags": []
   },
   "outputs": [],
   "source": [
    "X_train,X_test,y_train,y_test=train_test_split(X,y, test_size = 0.2, random_state=1)"
   ]
  },
  {
   "cell_type": "code",
   "execution_count": 26,
   "id": "ee3c421b-dd3b-4348-a2f8-76127aad52fc",
   "metadata": {
    "tags": []
   },
   "outputs": [
    {
     "data": {
      "text/plain": [
       "23.380836480270247"
      ]
     },
     "execution_count": 26,
     "metadata": {},
     "output_type": "execute_result"
    }
   ],
   "source": [
    "lr = LinearRegression()\n",
    "lr.fit(X_train,y_train)\n",
    "pred = lr.predict(X_test)\n",
    "sc = mean_squared_error(y_test,pred)\n",
    "sc"
   ]
  },
  {
   "cell_type": "code",
   "execution_count": 29,
   "id": "75f5c333-7f84-4cc8-9118-7c1995d09788",
   "metadata": {
    "tags": []
   },
   "outputs": [
    {
     "data": {
      "text/html": [
       "<div>\n",
       "<style scoped>\n",
       "    .dataframe tbody tr th:only-of-type {\n",
       "        vertical-align: middle;\n",
       "    }\n",
       "\n",
       "    .dataframe tbody tr th {\n",
       "        vertical-align: top;\n",
       "    }\n",
       "\n",
       "    .dataframe thead th {\n",
       "        text-align: right;\n",
       "    }\n",
       "</style>\n",
       "<table border=\"1\" class=\"dataframe\">\n",
       "  <thead>\n",
       "    <tr style=\"text-align: right;\">\n",
       "      <th></th>\n",
       "      <th>0</th>\n",
       "    </tr>\n",
       "  </thead>\n",
       "  <tbody>\n",
       "    <tr>\n",
       "      <th>0</th>\n",
       "      <td>-0.112387</td>\n",
       "    </tr>\n",
       "    <tr>\n",
       "      <th>1</th>\n",
       "      <td>0.058059</td>\n",
       "    </tr>\n",
       "    <tr>\n",
       "      <th>2</th>\n",
       "      <td>0.018359</td>\n",
       "    </tr>\n",
       "    <tr>\n",
       "      <th>3</th>\n",
       "      <td>2.129978</td>\n",
       "    </tr>\n",
       "    <tr>\n",
       "      <th>4</th>\n",
       "      <td>-19.581101</td>\n",
       "    </tr>\n",
       "    <tr>\n",
       "      <th>5</th>\n",
       "      <td>3.095462</td>\n",
       "    </tr>\n",
       "    <tr>\n",
       "      <th>6</th>\n",
       "      <td>0.004453</td>\n",
       "    </tr>\n",
       "    <tr>\n",
       "      <th>7</th>\n",
       "      <td>-1.500476</td>\n",
       "    </tr>\n",
       "    <tr>\n",
       "      <th>8</th>\n",
       "      <td>0.305359</td>\n",
       "    </tr>\n",
       "    <tr>\n",
       "      <th>9</th>\n",
       "      <td>-0.011123</td>\n",
       "    </tr>\n",
       "    <tr>\n",
       "      <th>10</th>\n",
       "      <td>-0.989008</td>\n",
       "    </tr>\n",
       "    <tr>\n",
       "      <th>11</th>\n",
       "      <td>0.007321</td>\n",
       "    </tr>\n",
       "    <tr>\n",
       "      <th>12</th>\n",
       "      <td>-0.544645</td>\n",
       "    </tr>\n",
       "  </tbody>\n",
       "</table>\n",
       "</div>"
      ],
      "text/plain": [
       "            0\n",
       "0   -0.112387\n",
       "1    0.058059\n",
       "2    0.018359\n",
       "3    2.129978\n",
       "4  -19.581101\n",
       "5    3.095462\n",
       "6    0.004453\n",
       "7   -1.500476\n",
       "8    0.305359\n",
       "9   -0.011123\n",
       "10  -0.989008\n",
       "11   0.007321\n",
       "12  -0.544645"
      ]
     },
     "execution_count": 29,
     "metadata": {},
     "output_type": "execute_result"
    }
   ],
   "source": [
    "coef_val = pd.DataFrame(lr.coef_)\n",
    "coef_val"
   ]
  },
  {
   "cell_type": "markdown",
   "id": "2069c420-5fe6-4d12-9837-22d429016ad1",
   "metadata": {
    "tags": []
   },
   "source": [
    "# OLS"
   ]
  },
  {
   "cell_type": "code",
   "execution_count": 5,
   "id": "1f432929-2e07-4d5c-98ce-b82dd4d75666",
   "metadata": {
    "tags": []
   },
   "outputs": [
    {
     "data": {
      "text/html": [
       "<table class=\"simpletable\">\n",
       "<caption>OLS Regression Results</caption>\n",
       "<tr>\n",
       "  <th>Dep. Variable:</th>            <td>y</td>        <th>  R-squared:         </th> <td>   0.660</td>\n",
       "</tr>\n",
       "<tr>\n",
       "  <th>Model:</th>                   <td>OLS</td>       <th>  Adj. R-squared:    </th> <td>   0.617</td>\n",
       "</tr>\n",
       "<tr>\n",
       "  <th>Method:</th>             <td>Least Squares</td>  <th>  F-statistic:       </th> <td>   15.52</td>\n",
       "</tr>\n",
       "<tr>\n",
       "  <th>Date:</th>             <td>Wed, 05 Apr 2023</td> <th>  Prob (F-statistic):</th>  <td>0.00430</td>\n",
       "</tr>\n",
       "<tr>\n",
       "  <th>Time:</th>                 <td>10:52:25</td>     <th>  Log-Likelihood:    </th> <td> -42.623</td>\n",
       "</tr>\n",
       "<tr>\n",
       "  <th>No. Observations:</th>      <td>    10</td>      <th>  AIC:               </th> <td>   89.25</td>\n",
       "</tr>\n",
       "<tr>\n",
       "  <th>Df Residuals:</th>          <td>     8</td>      <th>  BIC:               </th> <td>   89.85</td>\n",
       "</tr>\n",
       "<tr>\n",
       "  <th>Df Model:</th>              <td>     1</td>      <th>                     </th>     <td> </td>   \n",
       "</tr>\n",
       "<tr>\n",
       "  <th>Covariance Type:</th>      <td>nonrobust</td>    <th>                     </th>     <td> </td>   \n",
       "</tr>\n",
       "</table>\n",
       "<table class=\"simpletable\">\n",
       "<tr>\n",
       "    <td></td>       <th>coef</th>     <th>std err</th>      <th>t</th>      <th>P>|t|</th>  <th>[0.025</th>    <th>0.975]</th>  \n",
       "</tr>\n",
       "<tr>\n",
       "  <th>const</th> <td>   37.5081</td> <td>    8.045</td> <td>    4.662</td> <td> 0.002</td> <td>   18.956</td> <td>   56.061</td>\n",
       "</tr>\n",
       "<tr>\n",
       "  <th>x1</th>    <td>    1.3328</td> <td>    0.338</td> <td>    3.939</td> <td> 0.004</td> <td>    0.553</td> <td>    2.113</td>\n",
       "</tr>\n",
       "</table>\n",
       "<table class=\"simpletable\">\n",
       "<tr>\n",
       "  <th>Omnibus:</th>       <td> 1.535</td> <th>  Durbin-Watson:     </th> <td>   0.422</td>\n",
       "</tr>\n",
       "<tr>\n",
       "  <th>Prob(Omnibus):</th> <td> 0.464</td> <th>  Jarque-Bera (JB):  </th> <td>   0.810</td>\n",
       "</tr>\n",
       "<tr>\n",
       "  <th>Skew:</th>          <td>-0.256</td> <th>  Prob(JB):          </th> <td>   0.667</td>\n",
       "</tr>\n",
       "<tr>\n",
       "  <th>Kurtosis:</th>      <td> 1.704</td> <th>  Cond. No.          </th> <td>    31.5</td>\n",
       "</tr>\n",
       "</table><br/><br/>Notes:<br/>[1] Standard Errors assume that the covariance matrix of the errors is correctly specified."
      ],
      "text/plain": [
       "<class 'statsmodels.iolib.summary.Summary'>\n",
       "\"\"\"\n",
       "                            OLS Regression Results                            \n",
       "==============================================================================\n",
       "Dep. Variable:                      y   R-squared:                       0.660\n",
       "Model:                            OLS   Adj. R-squared:                  0.617\n",
       "Method:                 Least Squares   F-statistic:                     15.52\n",
       "Date:                Wed, 05 Apr 2023   Prob (F-statistic):            0.00430\n",
       "Time:                        10:52:25   Log-Likelihood:                -42.623\n",
       "No. Observations:                  10   AIC:                             89.25\n",
       "Df Residuals:                       8   BIC:                             89.85\n",
       "Df Model:                           1                                         \n",
       "Covariance Type:            nonrobust                                         \n",
       "==============================================================================\n",
       "                 coef    std err          t      P>|t|      [0.025      0.975]\n",
       "------------------------------------------------------------------------------\n",
       "const         37.5081      8.045      4.662      0.002      18.956      56.061\n",
       "x1             1.3328      0.338      3.939      0.004       0.553       2.113\n",
       "==============================================================================\n",
       "Omnibus:                        1.535   Durbin-Watson:                   0.422\n",
       "Prob(Omnibus):                  0.464   Jarque-Bera (JB):                0.810\n",
       "Skew:                          -0.256   Prob(JB):                        0.667\n",
       "Kurtosis:                       1.704   Cond. No.                         31.5\n",
       "==============================================================================\n",
       "\n",
       "Notes:\n",
       "[1] Standard Errors assume that the covariance matrix of the errors is correctly specified.\n",
       "\"\"\""
      ]
     },
     "execution_count": 5,
     "metadata": {},
     "output_type": "execute_result"
    }
   ],
   "source": [
    "x = [1,3,2,5,6,9,12,23,35,60]\n",
    "y = [10,21,32,44,56,65,76,89,90,100]\n",
    "\n",
    "# model = sm.OLS(y,x)\n",
    "\n",
    "x= sm.add_constant(x)  # 상수항 결합 / bias 값 추가\n",
    "model=OLS(y,x)\n",
    "fit_res=model.fit()\n",
    "fit_res.summary()\n",
    "\n",
    "\n"
   ]
  },
  {
   "cell_type": "markdown",
   "id": "be8503be-0f09-40a3-9886-914c813d75c5",
   "metadata": {},
   "source": [
    "classmethod OLS.from_formula(formula, data, subset=None, drop_cols=None, *args, **kwargs)¶"
   ]
  },
  {
   "cell_type": "code",
   "execution_count": 6,
   "id": "a2e0a30d-1126-47e0-aac7-cec6d7a6bc17",
   "metadata": {
    "tags": []
   },
   "outputs": [
    {
     "data": {
      "text/html": [
       "<table class=\"simpletable\">\n",
       "<caption>OLS Regression Results</caption>\n",
       "<tr>\n",
       "  <th>Dep. Variable:</th>            <td>y</td>        <th>  R-squared:         </th> <td>   0.660</td>\n",
       "</tr>\n",
       "<tr>\n",
       "  <th>Model:</th>                   <td>OLS</td>       <th>  Adj. R-squared:    </th> <td>   0.617</td>\n",
       "</tr>\n",
       "<tr>\n",
       "  <th>Method:</th>             <td>Least Squares</td>  <th>  F-statistic:       </th> <td>   15.52</td>\n",
       "</tr>\n",
       "<tr>\n",
       "  <th>Date:</th>             <td>Wed, 05 Apr 2023</td> <th>  Prob (F-statistic):</th>  <td>0.00430</td>\n",
       "</tr>\n",
       "<tr>\n",
       "  <th>Time:</th>                 <td>10:52:25</td>     <th>  Log-Likelihood:    </th> <td> -42.623</td>\n",
       "</tr>\n",
       "<tr>\n",
       "  <th>No. Observations:</th>      <td>    10</td>      <th>  AIC:               </th> <td>   89.25</td>\n",
       "</tr>\n",
       "<tr>\n",
       "  <th>Df Residuals:</th>          <td>     8</td>      <th>  BIC:               </th> <td>   89.85</td>\n",
       "</tr>\n",
       "<tr>\n",
       "  <th>Df Model:</th>              <td>     1</td>      <th>                     </th>     <td> </td>   \n",
       "</tr>\n",
       "<tr>\n",
       "  <th>Covariance Type:</th>      <td>nonrobust</td>    <th>                     </th>     <td> </td>   \n",
       "</tr>\n",
       "</table>\n",
       "<table class=\"simpletable\">\n",
       "<tr>\n",
       "      <td></td>         <th>coef</th>     <th>std err</th>      <th>t</th>      <th>P>|t|</th>  <th>[0.025</th>    <th>0.975]</th>  \n",
       "</tr>\n",
       "<tr>\n",
       "  <th>Intercept</th> <td>   37.5081</td> <td>    8.045</td> <td>    4.662</td> <td> 0.002</td> <td>   18.956</td> <td>   56.061</td>\n",
       "</tr>\n",
       "<tr>\n",
       "  <th>x</th>         <td>    1.3328</td> <td>    0.338</td> <td>    3.939</td> <td> 0.004</td> <td>    0.553</td> <td>    2.113</td>\n",
       "</tr>\n",
       "</table>\n",
       "<table class=\"simpletable\">\n",
       "<tr>\n",
       "  <th>Omnibus:</th>       <td> 1.535</td> <th>  Durbin-Watson:     </th> <td>   0.422</td>\n",
       "</tr>\n",
       "<tr>\n",
       "  <th>Prob(Omnibus):</th> <td> 0.464</td> <th>  Jarque-Bera (JB):  </th> <td>   0.810</td>\n",
       "</tr>\n",
       "<tr>\n",
       "  <th>Skew:</th>          <td>-0.256</td> <th>  Prob(JB):          </th> <td>   0.667</td>\n",
       "</tr>\n",
       "<tr>\n",
       "  <th>Kurtosis:</th>      <td> 1.704</td> <th>  Cond. No.          </th> <td>    31.5</td>\n",
       "</tr>\n",
       "</table><br/><br/>Notes:<br/>[1] Standard Errors assume that the covariance matrix of the errors is correctly specified."
      ],
      "text/plain": [
       "<class 'statsmodels.iolib.summary.Summary'>\n",
       "\"\"\"\n",
       "                            OLS Regression Results                            \n",
       "==============================================================================\n",
       "Dep. Variable:                      y   R-squared:                       0.660\n",
       "Model:                            OLS   Adj. R-squared:                  0.617\n",
       "Method:                 Least Squares   F-statistic:                     15.52\n",
       "Date:                Wed, 05 Apr 2023   Prob (F-statistic):            0.00430\n",
       "Time:                        10:52:25   Log-Likelihood:                -42.623\n",
       "No. Observations:                  10   AIC:                             89.25\n",
       "Df Residuals:                       8   BIC:                             89.85\n",
       "Df Model:                           1                                         \n",
       "Covariance Type:            nonrobust                                         \n",
       "==============================================================================\n",
       "                 coef    std err          t      P>|t|      [0.025      0.975]\n",
       "------------------------------------------------------------------------------\n",
       "Intercept     37.5081      8.045      4.662      0.002      18.956      56.061\n",
       "x              1.3328      0.338      3.939      0.004       0.553       2.113\n",
       "==============================================================================\n",
       "Omnibus:                        1.535   Durbin-Watson:                   0.422\n",
       "Prob(Omnibus):                  0.464   Jarque-Bera (JB):                0.810\n",
       "Skew:                          -0.256   Prob(JB):                        0.667\n",
       "Kurtosis:                       1.704   Cond. No.                         31.5\n",
       "==============================================================================\n",
       "\n",
       "Notes:\n",
       "[1] Standard Errors assume that the covariance matrix of the errors is correctly specified.\n",
       "\"\"\""
      ]
     },
     "execution_count": 6,
     "metadata": {},
     "output_type": "execute_result"
    }
   ],
   "source": [
    "x = [1,3,2,5,6,9,12,23,35,60]\n",
    "y = [10,21,32,44,56,65,76,89,90,100]\n",
    "df = pd.DataFrame({\"x\":x, \"y\":y})\n",
    "model = OLS.from_formula(\"y ~ x\", data=df)\n",
    "fit_res=model.fit()\n",
    "fit_res.summary()\n",
    "\n"
   ]
  },
  {
   "cell_type": "markdown",
   "id": "15b61613-422f-4064-a0d1-a73e248c8adf",
   "metadata": {},
   "source": [
    "<pre>\n",
    "R-squared(R2) : 1이면 좋다\n",
    "F-statistic   : 크다 >> 분산의 분포에 차이가 있다 >> 두 피쳐가 차이가 있다\n",
    "AIC           : 낮을 수록 좋음\n",
    "coef          : 클수록 y에 영향도가 크다 \n",
    "P>|t|         : 0.05보다 낮아야 유의미하다\n",
    "Skew          : 정규분포의 왜도 0  \n",
    "Kurtosis      : 정규분포의 첨도 0"
   ]
  },
  {
   "cell_type": "markdown",
   "id": "db34e7f0-ed9f-498d-86d2-61cc2279f73d",
   "metadata": {},
   "source": [
    "* 회귀방정식 >>>  y = 1.3328x + 37.5081"
   ]
  },
  {
   "cell_type": "markdown",
   "id": "8df0de5c-2df3-4cfa-930f-91b5e313d420",
   "metadata": {},
   "source": [
    "# F-statistic (F통계량)\n",
    "<pre>\n",
    "- SSError = SSResidual    : Sum of Squares for Errors (or Residuals) 잔차의 제곱합\n",
    "- SSReg. SSTr = SSExplain : Sum of Squares for Regression (or Treated) 회귀(예측값) 제곱합\n",
    "- SSTotal                 : Sum of Squares Total (SSE + SSTr)\n",
    "\n",
    "- MSE = Mean of Squared Error      = SSError / Df Residuals(8) (총샘플수-독립변수갯수-종속변수갯수)\n",
    "- MSR = Mean of Sauqred Regression = SSReg   / Df Model(1)     (독립변수의 개수)\n",
    "- F-statistic (F통계량)            = SSReg.의 평균(MSR) / SSError의 평균(MSE)"
   ]
  },
  {
   "cell_type": "code",
   "execution_count": 7,
   "id": "dad2dce2-64b5-4178-9762-3a526cefcbab",
   "metadata": {
    "tags": []
   },
   "outputs": [
    {
     "name": "stdout",
     "output_type": "stream",
     "text": [
      "0.6598154386835811 15.51664628471745\n"
     ]
    }
   ],
   "source": [
    "x = [1,3,2,5,6,9,12,23,35,60]\n",
    "y = [10,21,32,44,56,65,76,89,90,100]\n",
    "#y = 1.3328x + 37.5081\n",
    "\n",
    "y_mean = np.mean(y)                          # y평균\n",
    "y_pred = np.array(x) * 1.3328  + 37.5081     # 회귀식으로 구한 예측값\n",
    "y_true = np.array(y)                         # 실제값\n",
    "\n",
    "SSError  = ((y_true - y_pred)**2).sum()      #잔차(실제값-예측값) 제곱 총합\n",
    "SSReg    = ((y_mean - y_pred)**2).sum()      #편차(평균 - 예측값) 제곱 총합\n",
    "SST      = SSError + SSReg\n",
    "\n",
    "R2 = SSReg / SST\n",
    "\n",
    "\n",
    "MSE = SSError / 8                            # SSError / Df Residuals(8)  >> n - k - 1\n",
    "MSR = SSReg / 1                              # SSReg   / Df Model(1)      >> k(독립변수의 개수)\n",
    "F   = MSR  / MSE                             # SSReg.의 평균(MSR) / SSError의 평균(MSE)\n",
    "\n",
    "print(R2, F )                                # 결정계수, F통계량"
   ]
  },
  {
   "cell_type": "markdown",
   "id": "4f3d197b-9bf2-4be1-8c23-b8ebbef409e6",
   "metadata": {
    "tags": []
   },
   "source": [
    "<pre>\n",
    "\n",
    "Dep. Variable    : 타겟변수명\n",
    "Model            : OLS\n",
    "Method           : Least Squares(최소제곱)\n",
    "No. Observations : 샘플갯수(10건)\n",
    "Df Residuals     : 잔차자유도(샘플갯수-종속변수갯수(y)-독립변수갯수(x))\n",
    "Df Model         : 독립변수 갯수(x)\n",
    "Covariance Type  : nonrobust(non-constant variance)\n",
    "\n",
    "---------------------------------------------------------\n",
    "\n",
    "<font color=red><b>R-squared(R2)</b></font>    : 결정계수(회귀식의 설명력) =  SSReg / SST\n",
    "                   전체 데이터에서 회귀모델이 설명할 수 있는 데이터 비율\n",
    "                   회귀모델 y = 1.3x + 37은 전체 데이터의 66%를 설명할 수 있다\n",
    "Adj. R-squared    : 보정된 R2\n",
    "\n",
    "<font color=red><b>F-statistic</b></font>       : F분포(통계량)\n",
    "                    F통계량으로 회귀모델 y = 1.3x + 37의 적절성 평가\n",
    "Prob (F-statistic): F분포(통계량) 유의수준\n",
    "\n",
    "<font color=red><b>AIC</b></font> BIC           : 손실 가중치 계산 (낮을 수록 좋음)\n",
    "                  : X피쳐를 이용해 Y를 예측할 수 있는 정도\n",
    "                    AIC (Akaikie’s Information Criteria)\n",
    "                    BIC (Bayesian Information Criterion)\n",
    "                    \n",
    "---------------------------------------------------------\n",
    "\n",
    "<font color=red><b>coef</b></font>              : 회귀계수(클수록 y에 영향도가 크다)\n",
    "std err           : 표준오차 (오차합 / 표준편차) (낮을 수록 좋음)\n",
    "t                 : t테스트 (평균값이용 : x피쳐가 y에 영향을 주는 정도 : 상관도)\n",
    "<font color=red><b>P>|t|</b></font>             : 유의수준 (p-value)\n",
    "[0.025 0.975]     : 신뢰구간\n",
    "\n",
    "---------------------------------------------------------\n",
    "\n",
    "Omnibus           : 비대칭도(왜도) 정규성 테스트 값 (크다:정규분포를 따른다)\n",
    "Prob(Omnibus)     : Omnibus 유의수준\n",
    "\n",
    "<font color=red><b>Skew</b></font>              : 왜도 (좌우 비대칭도)\n",
    "<font color=red><b>Kurtosis</b></font>          : 첨도(뾰족)\n",
    "Durbin-Watson     : (DW검정)잔차의 독립성을 확인할 수 있는 수치\n",
    "                     1.5 ~ 2.5 사이이면 독립으로 판단(회귀 모형이 적합하다)\n",
    "                     0 : 잔차들이 양의 자기 상관\n",
    "                     2 : 독립성(자기 상관이 없다)\n",
    "                     4 : 잔차들이 음의 자기 상관"
   ]
  }
 ],
 "metadata": {
  "kernelspec": {
   "display_name": "Python 3 (ipykernel)",
   "language": "python",
   "name": "python3"
  },
  "language_info": {
   "codemirror_mode": {
    "name": "ipython",
    "version": 3
   },
   "file_extension": ".py",
   "mimetype": "text/x-python",
   "name": "python",
   "nbconvert_exporter": "python",
   "pygments_lexer": "ipython3",
   "version": "3.8.8"
  }
 },
 "nbformat": 4,
 "nbformat_minor": 5
}
