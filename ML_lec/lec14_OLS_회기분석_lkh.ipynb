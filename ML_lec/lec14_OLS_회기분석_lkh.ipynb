{
 "cells": [
  {
   "cell_type": "markdown",
   "id": "0c56dca8-2141-4fc2-a0f4-8509b9d9f992",
   "metadata": {},
   "source": [
    "<font size=6><b>Lec14. OLS 회귀분석"
   ]
  },
  {
   "cell_type": "markdown",
   "id": "7cc8a6ba-bec5-4a98-9098-ed3d7a1fb185",
   "metadata": {},
   "source": [
    "* OLS(Ordinary Least Squares) : 최소제곱(자승)법\n",
    "* RSS==잔차제곱합(Y-Y^)^2 를 최소화하는 가중치 벡터를 구하는 방법"
   ]
  },
  {
   "cell_type": "markdown",
   "id": "3340a9d0-8062-4131-a7c0-599599a08649",
   "metadata": {},
   "source": [
    "<pre>\n",
    "class statsmodels.regression.linear_model.OLS(endog, exog=None, missing='none', hasconst=None, **kwargs)\n"
   ]
  },
  {
   "cell_type": "markdown",
   "id": "ee76e758-c085-4101-ab82-cdae5b8a4054",
   "metadata": {},
   "source": [
    "# OLS 회귀모델\n",
    "* y = wX + b\n",
    "    * w : 회귀계수(coef)\n",
    "    * b : 편향(bias)"
   ]
  },
  {
   "cell_type": "code",
   "execution_count": 6,
   "id": "41c40faf-76a3-48f7-9ef3-634e2a287ddd",
   "metadata": {},
   "outputs": [
    {
     "data": {
      "text/html": [
       "<style>.container{width:100% !important;}</style>"
      ],
      "text/plain": [
       "<IPython.core.display.HTML object>"
      ]
     },
     "metadata": {},
     "output_type": "display_data"
    }
   ],
   "source": [
    "import numpy as np\n",
    "import pandas as pd\n",
    "\n",
    "import matplotlib.pyplot as plt\n",
    "import seaborn as sns\n",
    "\n",
    "\n",
    "sns.set()\n",
    "\n",
    "#-------------------- 차트 관련 속성 (한글처리, 그리드) -----------\n",
    "plt.rcParams['font.family']= 'Malgun Gothic'\n",
    "plt.rcParams['axes.unicode_minus'] = False\n",
    "\n",
    "#-------------------- 주피터 , 출력결과 넓이 늘리기 ---------------\n",
    "# from IPython.core.display import display, HTML\n",
    "from IPython.display import display, HTML\n",
    "\n",
    "display(HTML(\"<style>.container{width:100% !important;}</style>\"))\n",
    "pd.set_option('display.max_rows', 100)\n",
    "pd.set_option('display.max_columns', 100)\n",
    "pd.set_option('max_colwidth', None)\n",
    "\n",
    "import warnings\n",
    "warnings.filterwarnings(action='ignore')"
   ]
  },
  {
   "cell_type": "markdown",
   "id": "67f3d7da-91f5-42a9-981c-bd221417e0e4",
   "metadata": {},
   "source": [
    "<pre>\n",
    "\n",
    "Dep. Variable    : 타겟변수명\n",
    "Model            : OLS\n",
    "Method           : Least Squares(최소제곱)\n",
    "No. Observations : 샘플갯수(10건)\n",
    "Df Residuals     : 잔차자유도(샘플갯수-종속변수갯수(y)-독립변수갯수(x))\n",
    "Df Model         : 독립변수 갯수(x)\n",
    "Covariance Type  : nonrobust(non-constant variance)\n",
    "\n",
    "---------------------------------------------------------\n",
    "\n",
    "<font color=red><b>R-squared(R2)</b></font>    : 결정계수(회귀식의 설명력) =  SSReg / SST\n",
    "                   전체 데이터에서 회귀모델이 설명할 수 있는 데이터 비율\n",
    "                   회귀모델 y = 1.3x + 37은 전체 데이터의 66%를 설명할 수 있다\n",
    "Adj. R-squared    : 보정된 R2\n",
    "\n",
    "<font color=red><b>F-statistic</b></font>       : F분포(통계량)\n",
    "                    F통계량으로 회귀모델 y = 1.3x + 37의 적절성 평가\n",
    "Prob (F-statistic): F분포(통계량) 유의수준\n",
    "\n",
    "<font color=red><b>AIC</b></font> BIC           : 손실 가중치 계산 (낮을 수록 좋음)\n",
    "                  : X피쳐를 이용해 Y를 예측할 수 있는 정도\n",
    "                    AIC (Akaikie’s Information Criteria)\n",
    "                    BIC (Bayesian Information Criterion)\n",
    "                    \n",
    "---------------------------------------------------------\n",
    "\n",
    "<font color=red><b>coef</b></font>              : 회귀계수(클수록 y에 영향도가 크다)\n",
    "std err           : 표준오차 (오차합 / 표준편차) (낮을 수록 좋음)\n",
    "t                 : t테스트 (평균값이용 : x피쳐가 y에 영향을 주는 정도 : 상관도)\n",
    "<font color=red><b>P>|t|</b></font>             : 유의수준 (p-value)\n",
    "[0.025 0.975]     : 신뢰구간\n",
    "\n",
    "---------------------------------------------------------\n",
    "\n",
    "Omnibus           : 비대칭도(왜도) 정규성 테스트 값 (크다:정규분포를 따른다)\n",
    "Prob(Omnibus)     : Omnibus 유의수준\n",
    "\n",
    "<font color=red><b>Skew</b></font>              : 왜도 (좌우 비대칭도)\n",
    "<font color=red><b>Kurtosis</b></font>          : 첨도(뾰족)\n",
    "Durbin-Watson     : (DW검정)잔차의 독립성을 확인할 수 있는 수치\n",
    "                     1.5 ~ 2.5 사이이면 독립으로 판단(회귀 모형이 적합하다)\n",
    "                     0 : 잔차들이 양의 자기 상관\n",
    "                     2 : 독립성(자기 상관이 없다)\n",
    "                     4 : 잔차들이 음의 자기 상관\n"
   ]
  },
  {
   "cell_type": "markdown",
   "id": "6cadbe83-8afd-4dba-96ab-fc42496ffef3",
   "metadata": {},
   "source": [
    "<pre> <font color=red><b>\n",
    "R-squared(R2) : 1이면 좋다\n",
    "F-statistic   : 크다 = 분산의 분포에 차이가 있다(=겹치지않는다=두 피쳐가 다르다)\n",
    "AIC           : 낮을 수록 좋음\n",
    "coef          : 클수록 y에 영향도가 크다 \n",
    "P>|t|         : 0.05보다 낮아야 유의미하다\n",
    "Skew          : 정규분포의 왜도 0  \n",
    "Kurtosis      : 정규분포의 첨도 0  "
   ]
  },
  {
   "cell_type": "markdown",
   "id": "dc1a2cfa-c0dc-4050-9c3b-8e7f2837f351",
   "metadata": {},
   "source": [
    "* y = 1.3328x + 37.5081"
   ]
  },
  {
   "cell_type": "code",
   "execution_count": 13,
   "id": "d6b5f0f1-aa2a-4f1d-91b6-f6ce5af40af5",
   "metadata": {},
   "outputs": [
    {
     "data": {
      "text/html": [
       "<table class=\"simpletable\">\n",
       "<caption>OLS Regression Results</caption>\n",
       "<tr>\n",
       "  <th>Dep. Variable:</th>            <td>y</td>        <th>  R-squared:         </th> <td>   0.660</td>\n",
       "</tr>\n",
       "<tr>\n",
       "  <th>Model:</th>                   <td>OLS</td>       <th>  Adj. R-squared:    </th> <td>   0.617</td>\n",
       "</tr>\n",
       "<tr>\n",
       "  <th>Method:</th>             <td>Least Squares</td>  <th>  F-statistic:       </th> <td>   15.52</td>\n",
       "</tr>\n",
       "<tr>\n",
       "  <th>Date:</th>             <td>Tue, 04 Apr 2023</td> <th>  Prob (F-statistic):</th>  <td>0.00430</td>\n",
       "</tr>\n",
       "<tr>\n",
       "  <th>Time:</th>                 <td>17:02:21</td>     <th>  Log-Likelihood:    </th> <td> -42.623</td>\n",
       "</tr>\n",
       "<tr>\n",
       "  <th>No. Observations:</th>      <td>    10</td>      <th>  AIC:               </th> <td>   89.25</td>\n",
       "</tr>\n",
       "<tr>\n",
       "  <th>Df Residuals:</th>          <td>     8</td>      <th>  BIC:               </th> <td>   89.85</td>\n",
       "</tr>\n",
       "<tr>\n",
       "  <th>Df Model:</th>              <td>     1</td>      <th>                     </th>     <td> </td>   \n",
       "</tr>\n",
       "<tr>\n",
       "  <th>Covariance Type:</th>      <td>nonrobust</td>    <th>                     </th>     <td> </td>   \n",
       "</tr>\n",
       "</table>\n",
       "<table class=\"simpletable\">\n",
       "<tr>\n",
       "    <td></td>       <th>coef</th>     <th>std err</th>      <th>t</th>      <th>P>|t|</th>  <th>[0.025</th>    <th>0.975]</th>  \n",
       "</tr>\n",
       "<tr>\n",
       "  <th>const</th> <td>   37.5081</td> <td>    8.045</td> <td>    4.662</td> <td> 0.002</td> <td>   18.956</td> <td>   56.061</td>\n",
       "</tr>\n",
       "<tr>\n",
       "  <th>x1</th>    <td>    1.3328</td> <td>    0.338</td> <td>    3.939</td> <td> 0.004</td> <td>    0.553</td> <td>    2.113</td>\n",
       "</tr>\n",
       "</table>\n",
       "<table class=\"simpletable\">\n",
       "<tr>\n",
       "  <th>Omnibus:</th>       <td> 1.535</td> <th>  Durbin-Watson:     </th> <td>   0.422</td>\n",
       "</tr>\n",
       "<tr>\n",
       "  <th>Prob(Omnibus):</th> <td> 0.464</td> <th>  Jarque-Bera (JB):  </th> <td>   0.810</td>\n",
       "</tr>\n",
       "<tr>\n",
       "  <th>Skew:</th>          <td>-0.256</td> <th>  Prob(JB):          </th> <td>   0.667</td>\n",
       "</tr>\n",
       "<tr>\n",
       "  <th>Kurtosis:</th>      <td> 1.704</td> <th>  Cond. No.          </th> <td>    31.5</td>\n",
       "</tr>\n",
       "</table><br/><br/>Notes:<br/>[1] Standard Errors assume that the covariance matrix of the errors is correctly specified."
      ],
      "text/plain": [
       "<class 'statsmodels.iolib.summary.Summary'>\n",
       "\"\"\"\n",
       "                            OLS Regression Results                            \n",
       "==============================================================================\n",
       "Dep. Variable:                      y   R-squared:                       0.660\n",
       "Model:                            OLS   Adj. R-squared:                  0.617\n",
       "Method:                 Least Squares   F-statistic:                     15.52\n",
       "Date:                Tue, 04 Apr 2023   Prob (F-statistic):            0.00430\n",
       "Time:                        17:02:21   Log-Likelihood:                -42.623\n",
       "No. Observations:                  10   AIC:                             89.25\n",
       "Df Residuals:                       8   BIC:                             89.85\n",
       "Df Model:                           1                                         \n",
       "Covariance Type:            nonrobust                                         \n",
       "==============================================================================\n",
       "                 coef    std err          t      P>|t|      [0.025      0.975]\n",
       "------------------------------------------------------------------------------\n",
       "const         37.5081      8.045      4.662      0.002      18.956      56.061\n",
       "x1             1.3328      0.338      3.939      0.004       0.553       2.113\n",
       "==============================================================================\n",
       "Omnibus:                        1.535   Durbin-Watson:                   0.422\n",
       "Prob(Omnibus):                  0.464   Jarque-Bera (JB):                0.810\n",
       "Skew:                          -0.256   Prob(JB):                        0.667\n",
       "Kurtosis:                       1.704   Cond. No.                         31.5\n",
       "==============================================================================\n",
       "\n",
       "Notes:\n",
       "[1] Standard Errors assume that the covariance matrix of the errors is correctly specified.\n",
       "\"\"\""
      ]
     },
     "execution_count": 13,
     "metadata": {},
     "output_type": "execute_result"
    }
   ],
   "source": [
    "import statsmodels.api as sm\n",
    "# model = sm.OLS(y, x)\n",
    "from statsmodels.regression.linear_model import OLS\n",
    "\n",
    "x = [1,3,2,5,6,9,12,23,35,60]\n",
    "y = [10,21,32,44,56,65,76,89,90,100]\n",
    "x = sm.add_constant(x)  #--- 상수항결합  (+b)\n",
    "model = OLS(y, x)\n",
    "fit_res = model.fit()\n",
    "fit_res.summary()"
   ]
  },
  {
   "cell_type": "code",
   "execution_count": 14,
   "id": "2546700b-5195-46c4-bf62-eff72d6fbd8c",
   "metadata": {},
   "outputs": [
    {
     "data": {
      "text/html": [
       "<table class=\"simpletable\">\n",
       "<caption>OLS Regression Results</caption>\n",
       "<tr>\n",
       "  <th>Dep. Variable:</th>            <td>y</td>        <th>  R-squared:         </th> <td>   0.660</td>\n",
       "</tr>\n",
       "<tr>\n",
       "  <th>Model:</th>                   <td>OLS</td>       <th>  Adj. R-squared:    </th> <td>   0.617</td>\n",
       "</tr>\n",
       "<tr>\n",
       "  <th>Method:</th>             <td>Least Squares</td>  <th>  F-statistic:       </th> <td>   15.52</td>\n",
       "</tr>\n",
       "<tr>\n",
       "  <th>Date:</th>             <td>Tue, 04 Apr 2023</td> <th>  Prob (F-statistic):</th>  <td>0.00430</td>\n",
       "</tr>\n",
       "<tr>\n",
       "  <th>Time:</th>                 <td>17:02:26</td>     <th>  Log-Likelihood:    </th> <td> -42.623</td>\n",
       "</tr>\n",
       "<tr>\n",
       "  <th>No. Observations:</th>      <td>    10</td>      <th>  AIC:               </th> <td>   89.25</td>\n",
       "</tr>\n",
       "<tr>\n",
       "  <th>Df Residuals:</th>          <td>     8</td>      <th>  BIC:               </th> <td>   89.85</td>\n",
       "</tr>\n",
       "<tr>\n",
       "  <th>Df Model:</th>              <td>     1</td>      <th>                     </th>     <td> </td>   \n",
       "</tr>\n",
       "<tr>\n",
       "  <th>Covariance Type:</th>      <td>nonrobust</td>    <th>                     </th>     <td> </td>   \n",
       "</tr>\n",
       "</table>\n",
       "<table class=\"simpletable\">\n",
       "<tr>\n",
       "      <td></td>         <th>coef</th>     <th>std err</th>      <th>t</th>      <th>P>|t|</th>  <th>[0.025</th>    <th>0.975]</th>  \n",
       "</tr>\n",
       "<tr>\n",
       "  <th>Intercept</th> <td>   37.5081</td> <td>    8.045</td> <td>    4.662</td> <td> 0.002</td> <td>   18.956</td> <td>   56.061</td>\n",
       "</tr>\n",
       "<tr>\n",
       "  <th>x</th>         <td>    1.3328</td> <td>    0.338</td> <td>    3.939</td> <td> 0.004</td> <td>    0.553</td> <td>    2.113</td>\n",
       "</tr>\n",
       "</table>\n",
       "<table class=\"simpletable\">\n",
       "<tr>\n",
       "  <th>Omnibus:</th>       <td> 1.535</td> <th>  Durbin-Watson:     </th> <td>   0.422</td>\n",
       "</tr>\n",
       "<tr>\n",
       "  <th>Prob(Omnibus):</th> <td> 0.464</td> <th>  Jarque-Bera (JB):  </th> <td>   0.810</td>\n",
       "</tr>\n",
       "<tr>\n",
       "  <th>Skew:</th>          <td>-0.256</td> <th>  Prob(JB):          </th> <td>   0.667</td>\n",
       "</tr>\n",
       "<tr>\n",
       "  <th>Kurtosis:</th>      <td> 1.704</td> <th>  Cond. No.          </th> <td>    31.5</td>\n",
       "</tr>\n",
       "</table><br/><br/>Notes:<br/>[1] Standard Errors assume that the covariance matrix of the errors is correctly specified."
      ],
      "text/plain": [
       "<class 'statsmodels.iolib.summary.Summary'>\n",
       "\"\"\"\n",
       "                            OLS Regression Results                            \n",
       "==============================================================================\n",
       "Dep. Variable:                      y   R-squared:                       0.660\n",
       "Model:                            OLS   Adj. R-squared:                  0.617\n",
       "Method:                 Least Squares   F-statistic:                     15.52\n",
       "Date:                Tue, 04 Apr 2023   Prob (F-statistic):            0.00430\n",
       "Time:                        17:02:26   Log-Likelihood:                -42.623\n",
       "No. Observations:                  10   AIC:                             89.25\n",
       "Df Residuals:                       8   BIC:                             89.85\n",
       "Df Model:                           1                                         \n",
       "Covariance Type:            nonrobust                                         \n",
       "==============================================================================\n",
       "                 coef    std err          t      P>|t|      [0.025      0.975]\n",
       "------------------------------------------------------------------------------\n",
       "Intercept     37.5081      8.045      4.662      0.002      18.956      56.061\n",
       "x              1.3328      0.338      3.939      0.004       0.553       2.113\n",
       "==============================================================================\n",
       "Omnibus:                        1.535   Durbin-Watson:                   0.422\n",
       "Prob(Omnibus):                  0.464   Jarque-Bera (JB):                0.810\n",
       "Skew:                          -0.256   Prob(JB):                        0.667\n",
       "Kurtosis:                       1.704   Cond. No.                         31.5\n",
       "==============================================================================\n",
       "\n",
       "Notes:\n",
       "[1] Standard Errors assume that the covariance matrix of the errors is correctly specified.\n",
       "\"\"\""
      ]
     },
     "execution_count": 14,
     "metadata": {},
     "output_type": "execute_result"
    }
   ],
   "source": [
    "x = [1,3,2,5,6,9,12,23,35,60]\n",
    "y = [10,21,32,44,56,65,76,89,90,100]\n",
    "df = pd.DataFrame( {\"x\" : x, \"y\" : y})\n",
    "model = OLS.from_formula(\"y ~ x\", data=df)               \n",
    "fit_res = model.fit()\n",
    "fit_res.summary()"
   ]
  },
  {
   "cell_type": "markdown",
   "id": "f3e572f6-91cf-44b1-a25c-cbd4405c00fb",
   "metadata": {},
   "source": [
    "# F-statistic (F통계량)\n",
    "<pre>\n",
    "- SSError = SSResidual    : Sum of Squares for Errors (or Residuals) 잔차의 제곱합\n",
    "- SSReg. SSTr = SSExplain : Sum of Squares for Regression (or Treated) 회귀(예측값) 제곱합\n",
    "- SSTotal                 : Sum of Squares Total (SSE + SSTr)\n",
    "\n",
    "- MSE = Mean of Squared Error      = SSError / Df Residuals(8) (총샘플수-독립변수갯수-종속변수갯수)\n",
    "- MSR = Mean of Sauqred Regression = SSReg   / Df Model(1)     (독립변수의 개수)\n",
    "- F-statistic (F통계량)            = SSReg.의 평균(MSR) / SSError의 평균(MSE)"
   ]
  },
  {
   "cell_type": "code",
   "execution_count": 23,
   "id": "c6a201f9-e1af-4aed-b119-6b651b5b8873",
   "metadata": {},
   "outputs": [
    {
     "name": "stdout",
     "output_type": "stream",
     "text": [
      "0.6598154386835811 15.51664628471745\n"
     ]
    }
   ],
   "source": [
    "x = [1,3,2,5,6,9,12,23,35,60]\n",
    "y = [10,21,32,44,56,65,76,89,90,100]\n",
    "#y = 1.3328x + 37.5081\n",
    "\n",
    "y_mean = np.mean(y)                          # y평균\n",
    "y_pred = np.array(x) * 1.3328  + 37.5081     # 회귀식으로 구한 예측값\n",
    "y_true = np.array(y)                         # 실제값\n",
    "\n",
    "SSError  = ((y_true - y_pred)**2).sum()      #잔차(실제값-예측값) 제곱 총합\n",
    "SSReg    = ((y_mean - y_pred)**2).sum()      #편차(평균 - 예측값) 제곱 총합\n",
    "SST      = SSError + SSReg\n",
    "\n",
    "R2 = SSReg / SST\n",
    "\n",
    "\n",
    "MSE = SSError / 8                            # SSError / Df Residuals(8)\n",
    "MSR = SSReg / 1                              # SSReg   / Df Model(1)     (독립변수의 개수)\n",
    "F   = MSR  / MSE                             # SSReg.의 평균(MSR) / SSError의 평균(MSE)\n",
    "\n",
    "print(R2, F )                                # 결정계수, F통계량"
   ]
  },
  {
   "cell_type": "code",
   "execution_count": null,
   "id": "28811023-6b2c-4239-ae9a-67ce41d90218",
   "metadata": {},
   "outputs": [],
   "source": []
  },
  {
   "cell_type": "markdown",
   "id": "701dd5be-a30a-400f-bb32-348620b07d98",
   "metadata": {},
   "source": [
    "## AIC BIC\n",
    "* ref : https://hackmd.io/@heuiy/r1KX6UEc9\n",
    "\n",
    "* AIC(Akaikie’s Information Criteria)\n",
    "* BIC (Bayesian Information Criterion)\n",
    "* <font color=red><b>손실 가중치 계산 (낮을 수록 좋음)\n",
    "    * X피쳐를 이용해 Y를 예측할 수 있는 정도\n",
    "    * 통계 모델이 적합성 정도 \n",
    "    * 최대 우도에 독립 변수의 갯수에 대한 손실(penalty)분을 반영하는 방법<br><br>\n",
    "* $ { \\text{AIC} = -2\\log L + 2K } $\n",
    "* $ { \\text{BIC} = -2\\log L + K\\log n } $"
   ]
  },
  {
   "cell_type": "code",
   "execution_count": null,
   "id": "7c818d26-ccd0-40ea-8f02-6b9bd880849a",
   "metadata": {},
   "outputs": [],
   "source": []
  },
  {
   "cell_type": "code",
   "execution_count": null,
   "id": "ae958bc5-7d1a-4cf2-b56f-87374cf07796",
   "metadata": {},
   "outputs": [],
   "source": []
  },
  {
   "cell_type": "code",
   "execution_count": null,
   "id": "9cb9aaa1-75aa-4610-9091-3a77b0f55947",
   "metadata": {},
   "outputs": [],
   "source": []
  }
 ],
 "metadata": {
  "kernelspec": {
   "display_name": "Python 3 (ipykernel)",
   "language": "python",
   "name": "python3"
  },
  "language_info": {
   "codemirror_mode": {
    "name": "ipython",
    "version": 3
   },
   "file_extension": ".py",
   "mimetype": "text/x-python",
   "name": "python",
   "nbconvert_exporter": "python",
   "pygments_lexer": "ipython3",
   "version": "3.8.8"
  }
 },
 "nbformat": 4,
 "nbformat_minor": 5
}
