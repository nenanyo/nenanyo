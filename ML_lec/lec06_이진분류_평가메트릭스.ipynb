{
 "cells": [
  {
   "cell_type": "markdown",
   "id": "772e84c0-e21f-448f-831a-8ab31842a7f4",
   "metadata": {},
   "source": [
    "<font size=6><b>lec06. 이진분류 - 평가 메트릭스"
   ]
  },
  {
   "cell_type": "markdown",
   "id": "2bb05728-a5f0-44b3-a243-bed1149fb002",
   "metadata": {},
   "source": [
    "\n",
    "* ref : https://www.kaggle.com/datasets/uciml/pima-indians-diabetes-database?select=diabetes.csv"
   ]
  },
  {
   "cell_type": "code",
   "execution_count": 1,
   "id": "657dc78e-c061-414e-8fda-ce9b7cd2088e",
   "metadata": {
    "tags": []
   },
   "outputs": [
    {
     "data": {
      "text/html": [
       "<style>.container{width:100% !important;}</style>"
      ],
      "text/plain": [
       "<IPython.core.display.HTML object>"
      ]
     },
     "metadata": {},
     "output_type": "display_data"
    }
   ],
   "source": [
    "import numpy as np\n",
    "import pandas as pd\n",
    "\n",
    "import matplotlib.pyplot as plt\n",
    "import seaborn as sns\n",
    "\n",
    "\n",
    "sns.set()\n",
    "\n",
    "#-------------------- 차트 관련 속성 (한글처리, 그리드) -----------\n",
    "plt.rcParams['font.family']= 'Malgun Gothic'\n",
    "plt.rcParams['axes.unicode_minus'] = False\n",
    "\n",
    "#-------------------- 주피터 , 출력결과 넓이 늘리기 ---------------\n",
    "# from IPython.core.display import display, HTML\n",
    "from IPython.display import display, HTML\n",
    "\n",
    "display(HTML(\"<style>.container{width:100% !important;}</style>\"))\n",
    "pd.set_option('display.max_rows', 100)\n",
    "pd.set_option('display.max_columns', 100)\n",
    "pd.set_option('max_colwidth', None)\n",
    "\n",
    "import warnings\n",
    "warnings.filterwarnings(action='ignore')"
   ]
  },
  {
   "cell_type": "markdown",
   "id": "418de2b2-b1e8-441d-a82b-e25a83921454",
   "metadata": {
    "tags": []
   },
   "source": [
    "# Data Load"
   ]
  },
  {
   "cell_type": "code",
   "execution_count": 121,
   "id": "d65b1745-ef3f-4361-a2e5-d7bf097f8f33",
   "metadata": {
    "tags": []
   },
   "outputs": [
    {
     "name": "stdout",
     "output_type": "stream",
     "text": [
      "<class 'pandas.core.frame.DataFrame'>\n",
      "RangeIndex: 768 entries, 0 to 767\n",
      "Data columns (total 9 columns):\n",
      " #   Column                    Non-Null Count  Dtype  \n",
      "---  ------                    --------------  -----  \n",
      " 0   Pregnancies               768 non-null    int64  \n",
      " 1   Glucose                   768 non-null    int64  \n",
      " 2   BloodPressure             768 non-null    int64  \n",
      " 3   SkinThickness             768 non-null    int64  \n",
      " 4   Insulin                   768 non-null    int64  \n",
      " 5   BMI                       768 non-null    float64\n",
      " 6   DiabetesPedigreeFunction  768 non-null    float64\n",
      " 7   Age                       768 non-null    int64  \n",
      " 8   target                    768 non-null    int64  \n",
      "dtypes: float64(2), int64(7)\n",
      "memory usage: 54.1 KB\n"
     ]
    }
   ],
   "source": [
    "df = pd.read_csv(\"./datasets/diabetes.csv\")\n",
    "df.rename(columns={\"Outcome\" : \"target\"},  inplace=True)\n",
    "df.info()"
   ]
  },
  {
   "cell_type": "code",
   "execution_count": 3,
   "id": "988681a1-8b33-4168-bcf6-64e90f77b9c8",
   "metadata": {
    "tags": []
   },
   "outputs": [
    {
     "data": {
      "text/html": [
       "<div>\n",
       "<style scoped>\n",
       "    .dataframe tbody tr th:only-of-type {\n",
       "        vertical-align: middle;\n",
       "    }\n",
       "\n",
       "    .dataframe tbody tr th {\n",
       "        vertical-align: top;\n",
       "    }\n",
       "\n",
       "    .dataframe thead th {\n",
       "        text-align: right;\n",
       "    }\n",
       "</style>\n",
       "<table border=\"1\" class=\"dataframe\">\n",
       "  <thead>\n",
       "    <tr style=\"text-align: right;\">\n",
       "      <th></th>\n",
       "      <th>Pregnancies</th>\n",
       "      <th>Glucose</th>\n",
       "      <th>BloodPressure</th>\n",
       "      <th>SkinThickness</th>\n",
       "      <th>Insulin</th>\n",
       "      <th>BMI</th>\n",
       "      <th>DiabetesPedigreeFunction</th>\n",
       "      <th>Age</th>\n",
       "      <th>target</th>\n",
       "    </tr>\n",
       "  </thead>\n",
       "  <tbody>\n",
       "    <tr>\n",
       "      <th>0</th>\n",
       "      <td>6</td>\n",
       "      <td>148</td>\n",
       "      <td>72</td>\n",
       "      <td>35</td>\n",
       "      <td>0</td>\n",
       "      <td>33.6</td>\n",
       "      <td>0.627</td>\n",
       "      <td>50</td>\n",
       "      <td>1</td>\n",
       "    </tr>\n",
       "    <tr>\n",
       "      <th>1</th>\n",
       "      <td>1</td>\n",
       "      <td>85</td>\n",
       "      <td>66</td>\n",
       "      <td>29</td>\n",
       "      <td>0</td>\n",
       "      <td>26.6</td>\n",
       "      <td>0.351</td>\n",
       "      <td>31</td>\n",
       "      <td>0</td>\n",
       "    </tr>\n",
       "    <tr>\n",
       "      <th>2</th>\n",
       "      <td>8</td>\n",
       "      <td>183</td>\n",
       "      <td>64</td>\n",
       "      <td>0</td>\n",
       "      <td>0</td>\n",
       "      <td>23.3</td>\n",
       "      <td>0.672</td>\n",
       "      <td>32</td>\n",
       "      <td>1</td>\n",
       "    </tr>\n",
       "    <tr>\n",
       "      <th>3</th>\n",
       "      <td>1</td>\n",
       "      <td>89</td>\n",
       "      <td>66</td>\n",
       "      <td>23</td>\n",
       "      <td>94</td>\n",
       "      <td>28.1</td>\n",
       "      <td>0.167</td>\n",
       "      <td>21</td>\n",
       "      <td>0</td>\n",
       "    </tr>\n",
       "    <tr>\n",
       "      <th>4</th>\n",
       "      <td>0</td>\n",
       "      <td>137</td>\n",
       "      <td>40</td>\n",
       "      <td>35</td>\n",
       "      <td>168</td>\n",
       "      <td>43.1</td>\n",
       "      <td>2.288</td>\n",
       "      <td>33</td>\n",
       "      <td>1</td>\n",
       "    </tr>\n",
       "  </tbody>\n",
       "</table>\n",
       "</div>"
      ],
      "text/plain": [
       "   Pregnancies  Glucose  BloodPressure  SkinThickness  Insulin   BMI  \\\n",
       "0            6      148             72             35        0  33.6   \n",
       "1            1       85             66             29        0  26.6   \n",
       "2            8      183             64              0        0  23.3   \n",
       "3            1       89             66             23       94  28.1   \n",
       "4            0      137             40             35      168  43.1   \n",
       "\n",
       "   DiabetesPedigreeFunction  Age  target  \n",
       "0                     0.627   50       1  \n",
       "1                     0.351   31       0  \n",
       "2                     0.672   32       1  \n",
       "3                     0.167   21       0  \n",
       "4                     2.288   33       1  "
      ]
     },
     "execution_count": 3,
     "metadata": {},
     "output_type": "execute_result"
    }
   ],
   "source": [
    "df.head()"
   ]
  },
  {
   "cell_type": "code",
   "execution_count": 4,
   "id": "80bc1e39-a022-4808-95d0-fd0fb55dcc4e",
   "metadata": {
    "tags": []
   },
   "outputs": [],
   "source": [
    "# from sklearn.datasets import load_diabetes\n",
    "# dataset = load_diabetes()\n",
    "# print( dataset.keys() )\n",
    "# # -----------------------------------------\n",
    "# df = pd.DataFrame(dataset['data'], columns = dataset['feature_names'])\n",
    "# df['target'] = dataset['target']\n",
    "# df.head()"
   ]
  },
  {
   "cell_type": "markdown",
   "id": "6bc1c2e5-8097-4e2b-acff-fa9845e7f4f1",
   "metadata": {},
   "source": [
    "# 샘플링(N개)\n",
    "DataFrame.sample(n=None, frac=None, replace=False, weights=None, random_state=None, axis=None, ignore_index=False)"
   ]
  },
  {
   "cell_type": "code",
   "execution_count": 145,
   "id": "44a68109-7f7c-4c3e-8c8b-8fdadbdabf64",
   "metadata": {
    "tags": []
   },
   "outputs": [
    {
     "name": "stdout",
     "output_type": "stream",
     "text": [
      "(77, 9)\n"
     ]
    },
    {
     "data": {
      "text/plain": [
       "0    48\n",
       "1    29\n",
       "Name: target, dtype: int64"
      ]
     },
     "execution_count": 145,
     "metadata": {},
     "output_type": "execute_result"
    }
   ],
   "source": [
    "# df[df['target']==0].sample(n=3, random_state=1)\n",
    "dfs = df.sample(frac=0.1, random_state=1, ignore_index=False)\n",
    "print(dfs.shape)\n",
    "dfs['target'].value_counts()"
   ]
  },
  {
   "cell_type": "code",
   "execution_count": null,
   "id": "510cb93f-dc67-4ab0-9589-341b819d69d8",
   "metadata": {},
   "outputs": [],
   "source": []
  },
  {
   "cell_type": "markdown",
   "id": "ea255f34-a816-4dab-abf1-0d9818e11429",
   "metadata": {
    "tags": []
   },
   "source": [
    "# EDA"
   ]
  },
  {
   "cell_type": "code",
   "execution_count": null,
   "id": "9dad3117-6e73-4d4d-b484-2f8772c565e7",
   "metadata": {
    "tags": []
   },
   "outputs": [],
   "source": [
    "# df.hist(figsize=(8,6))\n",
    "# plt.tight_layout()\n",
    "# plt.show()"
   ]
  },
  {
   "cell_type": "code",
   "execution_count": null,
   "id": "5f6032a0-723b-44b8-9b0f-5936251262d6",
   "metadata": {
    "tags": []
   },
   "outputs": [],
   "source": [
    "# sns.pairplot(data=df , hue='target')\n",
    "# plt.show()"
   ]
  },
  {
   "cell_type": "markdown",
   "id": "16cd89ec-f409-4bdc-8618-1b696ca2190a",
   "metadata": {
    "tags": []
   },
   "source": [
    "# 학습 & 평가"
   ]
  },
  {
   "cell_type": "code",
   "execution_count": 176,
   "id": "f9732a59-d492-4e6b-b563-88c58b4c4a39",
   "metadata": {
    "tags": []
   },
   "outputs": [],
   "source": [
    "from sklearn.model_selection import train_test_split\n",
    "from sklearn.ensemble import RandomForestClassifier\n",
    "from sklearn.tree import DecisionTreeClassifier\n",
    "from sklearn.linear_model import LogisticRegression\n",
    "\n",
    "\n",
    "from sklearn.metrics import accuracy_score\n",
    "from sklearn.metrics import f1_score, precision_score, recall_score\n",
    "from sklearn.metrics import classification_report\n",
    "from sklearn.metrics import confusion_matrix\n",
    "\n",
    "\n",
    "from sklearn.metrics import precision_recall_curve, plot_precision_recall_curve\n",
    "from sklearn.metrics import auc, roc_auc_score, roc_curve, plot_roc_curve"
   ]
  },
  {
   "cell_type": "markdown",
   "id": "47757e19-6999-4918-ae91-f5a71e9529a3",
   "metadata": {
    "tags": []
   },
   "source": [
    "## train test 분리"
   ]
  },
  {
   "cell_type": "code",
   "execution_count": 8,
   "id": "dfe45b70-9217-40c2-b541-efe037530c33",
   "metadata": {},
   "outputs": [
    {
     "name": "stdout",
     "output_type": "stream",
     "text": [
      "(768, 8) (768,)\n"
     ]
    }
   ],
   "source": [
    "# y = df['target']\n",
    "# X = df.drop(['target'],  axis=1)\n",
    "# print(X.shape, y.shape)"
   ]
  },
  {
   "cell_type": "code",
   "execution_count": 140,
   "id": "d975a444-ed4c-4be2-a528-9bbfc0e618e0",
   "metadata": {
    "tags": []
   },
   "outputs": [
    {
     "name": "stdout",
     "output_type": "stream",
     "text": [
      "(77, 8) (77,)\n"
     ]
    }
   ],
   "source": [
    "y = dfs['target']\n",
    "X = dfs.drop(['target'],  axis=1)\n",
    "print(X.shape, y.shape)"
   ]
  },
  {
   "cell_type": "code",
   "execution_count": 9,
   "id": "0cfe7fcb-d676-41d8-ba02-94364f6dcc2a",
   "metadata": {},
   "outputs": [
    {
     "data": {
      "text/plain": [
       "((614, 8), (154, 8), (614,), (154,))"
      ]
     },
     "execution_count": 9,
     "metadata": {},
     "output_type": "execute_result"
    }
   ],
   "source": [
    "# X_train, X_test, y_train, y_test = train_test_split(X, y, test_size=0.2, \n",
    "#                                                     stratify=y, random_state=1111)\n",
    "# X_train.shape, X_test.shape, y_train.shape, y_test.shape "
   ]
  },
  {
   "cell_type": "code",
   "execution_count": 141,
   "id": "842e62bf-98e4-41e0-a0c8-1429b1b0b325",
   "metadata": {
    "tags": []
   },
   "outputs": [
    {
     "data": {
      "text/plain": [
       "((61, 8), (16, 8), (61,), (16,))"
      ]
     },
     "execution_count": 141,
     "metadata": {},
     "output_type": "execute_result"
    }
   ],
   "source": [
    "X_train, X_test, y_train, y_test = train_test_split(X, y, test_size=0.2, \n",
    "                                                    stratify=y, random_state=1111)\n",
    "X_train.shape, X_test.shape, y_train.shape, y_test.shape "
   ]
  },
  {
   "cell_type": "code",
   "execution_count": 10,
   "id": "234a2f8e-ff39-443c-91cb-26356c291c75",
   "metadata": {},
   "outputs": [
    {
     "name": "stdout",
     "output_type": "stream",
     "text": [
      "[0 0 1 0 0]\n",
      "[[0.87 0.13]\n",
      " [0.73 0.27]\n",
      " [0.33 0.67]\n",
      " [0.86 0.14]\n",
      " [0.55 0.45]]\n",
      "accuracy : 0.75974\n"
     ]
    }
   ],
   "source": [
    "# model = RandomForestClassifier(random_state=0)\n",
    "# model.fit(X_train, y_train)\n",
    "# pred  = model.predict(X_test)\n",
    "# proba = model.predict_proba(X_test)\n",
    "# print(pred[:5])\n",
    "# print(proba[:5])\n",
    "\n",
    "# accuracy = accuracy_score(y_test, pred)\n",
    "# print(f\"accuracy : {accuracy:.5f}\")"
   ]
  },
  {
   "cell_type": "code",
   "execution_count": 125,
   "id": "e112e205-3b10-40c9-868d-be472f885656",
   "metadata": {},
   "outputs": [
    {
     "data": {
      "text/plain": [
       "DecisionTreeClassifier()"
      ]
     },
     "execution_count": 125,
     "metadata": {},
     "output_type": "execute_result"
    }
   ],
   "source": [
    "model_dtc = DecisionTreeClassifier()\n",
    "model_dtc.fit(X_train, y_train)"
   ]
  },
  {
   "cell_type": "code",
   "execution_count": 142,
   "id": "4a782739-403f-4e05-ba4d-4e8ac4a47c8e",
   "metadata": {
    "tags": []
   },
   "outputs": [
    {
     "name": "stdout",
     "output_type": "stream",
     "text": [
      "[0 1 0 1 0]\n",
      "[[0.74404088 0.25595912]\n",
      " [0.48251542 0.51748458]\n",
      " [0.74812878 0.25187122]\n",
      " [0.23956864 0.76043136]\n",
      " [0.62313325 0.37686675]]\n",
      "[-1.06707823  0.06996684 -1.08865722  1.15504588 -0.50286869]\n",
      "0\n",
      "accuracy : 0.56250\n"
     ]
    }
   ],
   "source": [
    "model = LogisticRegression(random_state=0)\n",
    "model.fit(X_train, y_train)\n",
    "pred  = model.predict(X_test)\n",
    "proba = model.predict_proba(X_test)\n",
    "df_var = model.decision_function(X_test)\n",
    "\n",
    "print(pred[:5])\n",
    "print(proba[:5])\n",
    "print(df_var[:5])\n",
    "# [-16.49590748  -0.36250441   2.74703316]\n",
    "# 판별함수 : 판별 기준 출력\n",
    "print(np.argmax(np.array([9.99999931e-01, 6.85359405e-08])))\n",
    "\n",
    "accuracy = accuracy_score(y_test, pred)\n",
    "print(f\"accuracy : {accuracy:.5f}\")"
   ]
  },
  {
   "cell_type": "markdown",
   "id": "0d9d07fc-6685-4bb4-81fa-2157291f97e3",
   "metadata": {},
   "source": [
    "<pre>\n",
    "[0 0 1]\n",
    "[[9.99999931e-01 6.85359405e-08]\n",
    "-01 : 소숫점 첫번째 , -08 : 소숫점 여덟번째\n",
    " [5.89646545e-01 4.10353455e-01]\n",
    " [6.02544252e-02 9.39745575e-01]]\n",
    "accuracy : 0.33333\n",
    "\n"
   ]
  },
  {
   "cell_type": "markdown",
   "id": "4af9a1aa-0fa2-4ed3-9264-680e1521759b",
   "metadata": {
    "tags": []
   },
   "source": [
    "* 판별분석 : 어느 모집단에서 추출되었는지 분석 , 모수(평균, 분산)이용\n",
    "    * 판별변수 : 판별하기 위한 변수, 독립 변수중 판별력이 높은 변수\n",
    "    * 판별 함수 : 판별변수들의 선형조합, 회귀함수, Z = w1x1 + w2x2 + b \n",
    "      - 공분산 : 두 피쳐간의 상관관계, 선형성\n",
    "    * 판별점수\n",
    "    * 표본의 크기 : 표본의 크기는 독립변수의 개수보다 3배(최소 2배) 이상\n",
    "    * 판별함수 >> PCA(주성분분석) 한다\n",
    "* 판별함수\n",
    "    * 기준값(threshold)>0 : 양성(Positive)\n",
    "    * 기준값(threshold)<0 : 음성(negative)\n",
    "    * 기준값(threshold)을 얼마로 설정하냐에 따라 성능평가 점수가 달라진다"
   ]
  },
  {
   "cell_type": "code",
   "execution_count": null,
   "id": "81bbc09c-fe9a-4e10-9748-16737583387e",
   "metadata": {
    "tags": []
   },
   "outputs": [],
   "source": [
    "# proba_df = pd.DataFrame(proba)\n",
    "# proba_df['pred'] = pred\n",
    "# proba_df.head(5)"
   ]
  },
  {
   "cell_type": "markdown",
   "id": "3367bf5c-aa85-4405-b020-f33857c9c887",
   "metadata": {},
   "source": [
    "* np.vstack, np.hstack(np.column_stack)\n",
    "* ref : https://stackoverflow.com/questions/33356442/when-should-i-use-hstack-vstack-vs-append-vs-concatenate-vs-column-stack"
   ]
  },
  {
   "cell_type": "markdown",
   "id": "fca88169-d396-4214-bd55-00cc5e7a1ff2",
   "metadata": {
    "tags": []
   },
   "source": [
    "<img src= \"https://i.stack.imgur.com/1QBr4.png\" >"
   ]
  },
  {
   "cell_type": "code",
   "execution_count": 112,
   "id": "f759b8ad-b33e-4db6-a8b0-ca112ff59eea",
   "metadata": {
    "tags": []
   },
   "outputs": [
    {
     "data": {
      "text/html": [
       "<div>\n",
       "<style scoped>\n",
       "    .dataframe tbody tr th:only-of-type {\n",
       "        vertical-align: middle;\n",
       "    }\n",
       "\n",
       "    .dataframe tbody tr th {\n",
       "        vertical-align: top;\n",
       "    }\n",
       "\n",
       "    .dataframe thead th {\n",
       "        text-align: right;\n",
       "    }\n",
       "</style>\n",
       "<table border=\"1\" class=\"dataframe\">\n",
       "  <thead>\n",
       "    <tr style=\"text-align: right;\">\n",
       "      <th></th>\n",
       "      <th>y_test</th>\n",
       "      <th>pred</th>\n",
       "      <th>proba0</th>\n",
       "      <th>proba1</th>\n",
       "      <th>df_var</th>\n",
       "    </tr>\n",
       "  </thead>\n",
       "  <tbody>\n",
       "    <tr>\n",
       "      <th>0</th>\n",
       "      <td>0.0</td>\n",
       "      <td>0.0</td>\n",
       "      <td>0.744041</td>\n",
       "      <td>0.255959</td>\n",
       "      <td>-1.067078</td>\n",
       "    </tr>\n",
       "    <tr>\n",
       "      <th>1</th>\n",
       "      <td>0.0</td>\n",
       "      <td>1.0</td>\n",
       "      <td>0.482515</td>\n",
       "      <td>0.517485</td>\n",
       "      <td>0.069967</td>\n",
       "    </tr>\n",
       "    <tr>\n",
       "      <th>2</th>\n",
       "      <td>1.0</td>\n",
       "      <td>0.0</td>\n",
       "      <td>0.748129</td>\n",
       "      <td>0.251871</td>\n",
       "      <td>-1.088657</td>\n",
       "    </tr>\n",
       "    <tr>\n",
       "      <th>3</th>\n",
       "      <td>1.0</td>\n",
       "      <td>1.0</td>\n",
       "      <td>0.239569</td>\n",
       "      <td>0.760431</td>\n",
       "      <td>1.155046</td>\n",
       "    </tr>\n",
       "    <tr>\n",
       "      <th>4</th>\n",
       "      <td>0.0</td>\n",
       "      <td>0.0</td>\n",
       "      <td>0.623133</td>\n",
       "      <td>0.376867</td>\n",
       "      <td>-0.502869</td>\n",
       "    </tr>\n",
       "    <tr>\n",
       "      <th>5</th>\n",
       "      <td>0.0</td>\n",
       "      <td>0.0</td>\n",
       "      <td>0.764830</td>\n",
       "      <td>0.235170</td>\n",
       "      <td>-1.179343</td>\n",
       "    </tr>\n",
       "    <tr>\n",
       "      <th>6</th>\n",
       "      <td>0.0</td>\n",
       "      <td>0.0</td>\n",
       "      <td>0.847070</td>\n",
       "      <td>0.152930</td>\n",
       "      <td>-1.711804</td>\n",
       "    </tr>\n",
       "    <tr>\n",
       "      <th>7</th>\n",
       "      <td>1.0</td>\n",
       "      <td>0.0</td>\n",
       "      <td>0.704013</td>\n",
       "      <td>0.295987</td>\n",
       "      <td>-0.866481</td>\n",
       "    </tr>\n",
       "    <tr>\n",
       "      <th>8</th>\n",
       "      <td>0.0</td>\n",
       "      <td>0.0</td>\n",
       "      <td>0.803307</td>\n",
       "      <td>0.196693</td>\n",
       "      <td>-1.407091</td>\n",
       "    </tr>\n",
       "    <tr>\n",
       "      <th>9</th>\n",
       "      <td>0.0</td>\n",
       "      <td>0.0</td>\n",
       "      <td>0.720728</td>\n",
       "      <td>0.279272</td>\n",
       "      <td>-0.948074</td>\n",
       "    </tr>\n",
       "    <tr>\n",
       "      <th>10</th>\n",
       "      <td>0.0</td>\n",
       "      <td>1.0</td>\n",
       "      <td>0.205109</td>\n",
       "      <td>0.794891</td>\n",
       "      <td>1.354661</td>\n",
       "    </tr>\n",
       "    <tr>\n",
       "      <th>11</th>\n",
       "      <td>1.0</td>\n",
       "      <td>1.0</td>\n",
       "      <td>0.419580</td>\n",
       "      <td>0.580420</td>\n",
       "      <td>0.324497</td>\n",
       "    </tr>\n",
       "    <tr>\n",
       "      <th>12</th>\n",
       "      <td>1.0</td>\n",
       "      <td>0.0</td>\n",
       "      <td>0.616641</td>\n",
       "      <td>0.383359</td>\n",
       "      <td>-0.475317</td>\n",
       "    </tr>\n",
       "    <tr>\n",
       "      <th>13</th>\n",
       "      <td>1.0</td>\n",
       "      <td>1.0</td>\n",
       "      <td>0.311063</td>\n",
       "      <td>0.688937</td>\n",
       "      <td>0.795157</td>\n",
       "    </tr>\n",
       "    <tr>\n",
       "      <th>14</th>\n",
       "      <td>0.0</td>\n",
       "      <td>1.0</td>\n",
       "      <td>0.471014</td>\n",
       "      <td>0.528986</td>\n",
       "      <td>0.116075</td>\n",
       "    </tr>\n",
       "    <tr>\n",
       "      <th>15</th>\n",
       "      <td>0.0</td>\n",
       "      <td>1.0</td>\n",
       "      <td>0.298764</td>\n",
       "      <td>0.701236</td>\n",
       "      <td>0.853190</td>\n",
       "    </tr>\n",
       "  </tbody>\n",
       "</table>\n",
       "</div>"
      ],
      "text/plain": [
       "    y_test  pred    proba0    proba1    df_var\n",
       "0      0.0   0.0  0.744041  0.255959 -1.067078\n",
       "1      0.0   1.0  0.482515  0.517485  0.069967\n",
       "2      1.0   0.0  0.748129  0.251871 -1.088657\n",
       "3      1.0   1.0  0.239569  0.760431  1.155046\n",
       "4      0.0   0.0  0.623133  0.376867 -0.502869\n",
       "5      0.0   0.0  0.764830  0.235170 -1.179343\n",
       "6      0.0   0.0  0.847070  0.152930 -1.711804\n",
       "7      1.0   0.0  0.704013  0.295987 -0.866481\n",
       "8      0.0   0.0  0.803307  0.196693 -1.407091\n",
       "9      0.0   0.0  0.720728  0.279272 -0.948074\n",
       "10     0.0   1.0  0.205109  0.794891  1.354661\n",
       "11     1.0   1.0  0.419580  0.580420  0.324497\n",
       "12     1.0   0.0  0.616641  0.383359 -0.475317\n",
       "13     1.0   1.0  0.311063  0.688937  0.795157\n",
       "14     0.0   1.0  0.471014  0.528986  0.116075\n",
       "15     0.0   1.0  0.298764  0.701236  0.853190"
      ]
     },
     "execution_count": 112,
     "metadata": {},
     "output_type": "execute_result"
    }
   ],
   "source": [
    "pd.DataFrame(np.vstack([y_test,  pred, proba[:,0], proba[:,1], df_var]).T,\n",
    "            columns = [\"y_test\", \"pred\",\"proba0\" ,\"proba1\" ,\" df_var\"])"
   ]
  },
  {
   "cell_type": "markdown",
   "id": "b0aaf2ac-892c-4fd1-9b61-1f6bb642470f",
   "metadata": {},
   "source": [
    "* LogisticRegression >> coef"
   ]
  },
  {
   "cell_type": "code",
   "execution_count": 152,
   "id": "2e0f3485-5c9c-4516-b35f-0b73c8894b9f",
   "metadata": {
    "tags": []
   },
   "outputs": [
    {
     "data": {
      "text/plain": [
       "array([ 0.13668293,  0.00777474, -0.02078411, -0.02164559,  0.00074357,\n",
       "        0.04521887,  0.7109441 ,  0.02213694])"
      ]
     },
     "execution_count": 152,
     "metadata": {},
     "output_type": "execute_result"
    }
   ],
   "source": [
    "model.coef_.reshape(-1)"
   ]
  },
  {
   "cell_type": "code",
   "execution_count": 114,
   "id": "7fa56011-9677-4a77-9cbb-e52a01f2f78c",
   "metadata": {
    "tags": []
   },
   "outputs": [
    {
     "data": {
      "image/png": "[encoded data removed]",
      "text/plain": [
       "<Figure size 640x480 with 1 Axes>"
      ]
     },
     "metadata": {},
     "output_type": "display_data"
    }
   ],
   "source": [
    "s = pd.Series(model.coef_[0], index = X_train.columns)\n",
    "# s = pd.Series(model.coef_.reshape(-1), index = X_train.columns)\n",
    "sns.barplot(x = s.values, y = s.index)\n",
    "plt.show()\n"
   ]
  },
  {
   "cell_type": "markdown",
   "id": "a044a241-4f73-41b2-9424-00885f3a80c7",
   "metadata": {},
   "source": [
    "* DecisionTreeClassifier > feature_importances_"
   ]
  },
  {
   "cell_type": "code",
   "execution_count": 115,
   "id": "cf28acdf-17ec-430d-aeb6-62becdcf1c36",
   "metadata": {
    "tags": []
   },
   "outputs": [
    {
     "name": "stdout",
     "output_type": "stream",
     "text": [
      "[0.         0.10391559 0.25562952 0.03489703 0.         0.09023877\n",
      " 0.21686964 0.29844946]\n"
     ]
    },
    {
     "data": {
      "image/png": "[encoded data removed]",
      "text/plain": [
       "<Figure size 640x480 with 1 Axes>"
      ]
     },
     "metadata": {},
     "output_type": "display_data"
    }
   ],
   "source": [
    "print(model_dtc.feature_importances_ )\n",
    "dtcs = pd.Series(model_dtc.feature_importances_, index = X_train.columns)\n",
    "sns.barplot(x = dtcs.values, y = dtcs.index)\n",
    "plt.show()"
   ]
  },
  {
   "cell_type": "markdown",
   "id": "bbb35146-67ab-452b-a276-539441945551",
   "metadata": {
    "tags": []
   },
   "source": [
    "## 피쳐 중요도 "
   ]
  },
  {
   "cell_type": "code",
   "execution_count": 12,
   "id": "5858363b-3967-4ecb-a1e2-5c5310cb0b53",
   "metadata": {},
   "outputs": [
    {
     "name": "stdout",
     "output_type": "stream",
     "text": [
      "[0.08831665 0.23572506 0.08945796 0.07089538 0.07409396 0.16186333\n",
      " 0.13187488 0.14777279]\n"
     ]
    },
    {
     "data": {
      "image/png": "[encoded data removed]",
      "text/plain": [
       "<Figure size 400x200 with 1 Axes>"
      ]
     },
     "metadata": {},
     "output_type": "display_data"
    }
   ],
   "source": [
    "# print( model.feature_importances_ )\n",
    "# plt.figure(figsize=(4,2))\n",
    "# s = pd.Series(model.feature_importances_, index=X_train.columns).sort_values()\n",
    "# sns.barplot(x=s.values, y=s.index)\n",
    "# plt.show()"
   ]
  },
  {
   "cell_type": "code",
   "execution_count": null,
   "id": "e421f3ee-f399-4803-a9ff-75f4746a9783",
   "metadata": {},
   "outputs": [],
   "source": []
  },
  {
   "cell_type": "code",
   "execution_count": 96,
   "id": "c6db31b3-6993-478e-b9dd-e9c2462b5ae5",
   "metadata": {
    "tags": []
   },
   "outputs": [
    {
     "data": {
      "text/plain": [
       "array([[1, 1],\n",
       "       [1, 0]], dtype=int64)"
      ]
     },
     "execution_count": 96,
     "metadata": {},
     "output_type": "execute_result"
    }
   ],
   "source": [
    "confusion_matrix(y_test, pred)\n",
    "# FN : 21 >> 젤 중요한 부분!!!  >>  당뇨병이 맞는 데 아니라고 예측  >>  치명적인 오류"
   ]
  },
  {
   "cell_type": "markdown",
   "id": "3acf4e7f-ac28-46f1-9af3-422b4262b6d4",
   "metadata": {},
   "source": [
    "# 평가 매트릭스"
   ]
  },
  {
   "cell_type": "markdown",
   "id": "960f5c17-fa50-403a-8ecb-3a8deb8af580",
   "metadata": {},
   "source": [
    "<img src=\"https://velog.velcdn.com/images%2Fhajeongjj%2Fpost%2F31affec5-a47b-4ff0-b07d-73943729dbc3%2Fimage.png\">"
   ]
  },
  {
   "cell_type": "code",
   "execution_count": 116,
   "id": "9c9efe84-01fc-4b55-8d87-9a461bf8a638",
   "metadata": {
    "tags": []
   },
   "outputs": [],
   "source": []
  },
  {
   "cell_type": "markdown",
   "id": "bd044c35-42fb-49d4-aa26-f6cd08a85246",
   "metadata": {},
   "source": [
    "<pre>\n",
    "classification_report()\n",
    "* <font color=red><b>accuracy\n",
    "* <font color=red><b>f1, precision, recall (macro:산술평균,  micro:가중평균)\n",
    "* <font color=red><b>roc_auc               (_ovr:멀티, _ovo:이진)\n",
    "* <font color=red><b>neg_log_loss"
   ]
  },
  {
   "cell_type": "code",
   "execution_count": 117,
   "id": "5512eef8-08e7-4517-88ce-8173da298682",
   "metadata": {
    "tags": []
   },
   "outputs": [
    {
     "name": "stdout",
     "output_type": "stream",
     "text": [
      "              precision    recall  f1-score   support\n",
      "\n",
      "           0       0.67      0.60      0.63        10\n",
      "           1       0.43      0.50      0.46         6\n",
      "\n",
      "    accuracy                           0.56        16\n",
      "   macro avg       0.55      0.55      0.55        16\n",
      "weighted avg       0.58      0.56      0.57        16\n",
      "\n"
     ]
    }
   ],
   "source": [
    "cr = classification_report(y_test, pred)\n",
    "print(cr)"
   ]
  },
  {
   "cell_type": "code",
   "execution_count": 197,
   "id": "1ff3d9c8-1317-4e94-8431-5df704dfeddc",
   "metadata": {
    "tags": []
   },
   "outputs": [
    {
     "name": "stdout",
     "output_type": "stream",
     "text": [
      "accuracy:0.56250 f1:0.46154  precision: 0.42857  recall:0.5\n",
      "[[6 4]\n",
      " [3 3]]\n"
     ]
    }
   ],
   "source": [
    "accuracy  = accuracy_score(y_test, pred)\n",
    "f1        = f1_score(y_test, pred, average='binary')\n",
    "precision = precision_score(y_test, pred, average='binary')\n",
    "recall    = recall_score(y_test, pred, average='binary')\n",
    "# roc_auc   = roc_auc_score(y_test, pred, average='macro', multi_class=\"ovr\")\n",
    "print(f\"accuracy:{accuracy:.5f} f1:{f1:.5}  precision: {precision:.5}  recall:{recall:.5}\")  #   roc_auc:{roc_auc:.5}\")\n",
    "\n",
    "cm = confusion_matrix(y_test, pred)\n",
    "print(cm)\n",
    "TN = cm[0][0]\n",
    "FP = cm[0][1]\n",
    "FN = cm[1][0]\n",
    "TP = cm[1][1]"
   ]
  },
  {
   "cell_type": "markdown",
   "id": "7348c870-1df7-4813-9a4e-52a22d95dc29",
   "metadata": {
    "tags": []
   },
   "source": [
    "# precision_recall_curve\n",
    "\n",
    "sklearn.metrics.precision_recall_curve(y_true, probas_pred, *, pos_label=None, sample_weight=None)[source]¶"
   ]
  },
  {
   "cell_type": "markdown",
   "id": "1354fd7b-d5e6-4925-a576-cb91872c981b",
   "metadata": {
    "tags": []
   },
   "source": [
    "* proba 양성확률만 가지고 계산"
   ]
  },
  {
   "cell_type": "code",
   "execution_count": 130,
   "id": "4dbb0649-1cf2-433c-972a-e4c5ba2693ef",
   "metadata": {
    "tags": []
   },
   "outputs": [
    {
     "data": {
      "text/plain": [
       "array([0.25595912, 0.51748458, 0.25187122, 0.76043136, 0.37686675])"
      ]
     },
     "execution_count": 130,
     "metadata": {},
     "output_type": "execute_result"
    }
   ],
   "source": [
    "proba_c1 = proba[:,1]\n",
    "proba_c1[:5]"
   ]
  },
  {
   "cell_type": "code",
   "execution_count": 139,
   "id": "fa28a050-2ac7-4e85-a3a2-ac9d3bc4ccae",
   "metadata": {
    "tags": []
   },
   "outputs": [
    {
     "data": {
      "image/png": "[encoded data removed]",
      "text/plain": [
       "<Figure size 640x480 with 1 Axes>"
      ]
     },
     "metadata": {},
     "output_type": "display_data"
    }
   ],
   "source": [
    "precision, recall, threshold = precision_recall_curve(y_test, proba_c1)\n",
    "# Returns : precision, recall, threshold\n",
    "precision.shape, recall.shape, threshold.shape\n",
    "# threshold 보다 정밀도, 재현율은 1개씩 더 많다 >> 재현율, 정밀도에 임계치 0.5일때 값이 하나씩 더 있어서!!!\n",
    "plt.plot(threshold ,\n",
    "         precision[:len(threshold)], label=\"precision\")\n",
    "plt.plot(threshold ,\n",
    "         recall[:len(threshold)], label=\"recall\")\n",
    "plt.legend()\n",
    "plt.title(\"precision_recall_curve\")\n",
    "plt.show()"
   ]
  },
  {
   "cell_type": "markdown",
   "id": "022246c8-c954-47ae-a9e6-4f59238f5008",
   "metadata": {},
   "source": [
    "# 임계치 조정\n",
    "<pre>\n",
    "Binarizer : 임계치(threshold = 0.5)를 잡고 그 이하이면 0, 초과면 1\n",
    "class sklearn.preprocessing.Binarizer(*, threshold=0.0, copy=True)[source]¶"
   ]
  },
  {
   "cell_type": "code",
   "execution_count": 146,
   "id": "974aab19-f952-4a1f-9d06-5e3555ce1140",
   "metadata": {
    "tags": []
   },
   "outputs": [],
   "source": [
    "from sklearn.preprocessing import Binarizer"
   ]
  },
  {
   "cell_type": "code",
   "execution_count": 154,
   "id": "29d45ae3-b4e2-4fa1-a964-82d3e2ec7e62",
   "metadata": {
    "tags": []
   },
   "outputs": [
    {
     "name": "stdout",
     "output_type": "stream",
     "text": [
      "[[1. 0. 0.]]\n",
      "[[1. 1. 1.]]\n",
      "[[0. 0. 0.]]\n"
     ]
    }
   ],
   "source": [
    "arr = np.array([0.7, 0.3, 0.5])\n",
    "brz=Binarizer(threshold = 0.5)\n",
    "print ( brz.fit_transform(arr.reshape(1,-1)) )\n",
    "\n",
    "brz=Binarizer(threshold = 0.2)\n",
    "print ( brz.fit_transform(arr.reshape(1,-1)) )\n",
    "\n",
    "brz=Binarizer(threshold = 0.8)\n",
    "print ( brz.fit_transform(arr.reshape(1,-1)) )"
   ]
  },
  {
   "cell_type": "code",
   "execution_count": 161,
   "id": "52772c2b-d328-4b10-afb6-05892d8f0f95",
   "metadata": {
    "tags": []
   },
   "outputs": [
    {
     "name": "stdout",
     "output_type": "stream",
     "text": [
      "[0.25595912 0.51748458 0.25187122 0.76043136 0.37686675 0.23517036\n",
      " 0.1529299  0.29598703 0.19669331 0.27927228 0.79489054 0.58041982\n",
      " 0.38335862 0.68893748 0.52898613 0.70123593]\n",
      "[[0. 1. 0. 1. 0. 0. 0. 0. 0. 0. 1. 1. 0. 1. 1. 1.]]\n",
      "[[0. 0. 0. 0. 0. 0. 0. 0. 0. 0. 0. 0. 0. 0. 0. 0.]]\n"
     ]
    }
   ],
   "source": [
    "print(proba_c1)\n",
    "\n",
    "brz=Binarizer(threshold = 0.5)\n",
    "print ( brz.fit_transform(proba_c1.reshape(1,-1)) )\n",
    "\n",
    "brz=Binarizer(threshold = 0.8)\n",
    "print ( brz.fit_transform(proba_c1.reshape(1,-1)) )"
   ]
  },
  {
   "cell_type": "code",
   "execution_count": null,
   "id": "d6284c35-6021-4b44-a67e-d318dd57aeb0",
   "metadata": {
    "tags": []
   },
   "outputs": [],
   "source": [
    "th_list = [0.51, 0.52, 0.57, 0.58,0.6]\n",
    "for th in th_list:\n",
    "    brz=Binarizer(threshold = th)\n",
    "    th_pred =  brz.fit_transform( proba_c1.reshape(-1,1)  )\n",
    "    print(th)\n",
    "    print( confusion_matrix (y_test, th_pred)  )\n",
    "    print( classification_report  (y_test, th_pred)  )\n",
    "    print(\"--\"*30)"
   ]
  },
  {
   "cell_type": "markdown",
   "id": "7f4f5b85-52aa-48e0-9cbc-9809f6a2f0e6",
   "metadata": {},
   "source": [
    "# plot_precision_recall_curve"
   ]
  },
  {
   "cell_type": "code",
   "execution_count": 170,
   "id": "9e4d49db-9d0a-4b72-b932-8e1e7bc440b4",
   "metadata": {
    "tags": []
   },
   "outputs": [
    {
     "data": {
      "text/plain": [
       "<sklearn.metrics._plot.precision_recall_curve.PrecisionRecallDisplay at 0x21e4eabd5b0>"
      ]
     },
     "execution_count": 170,
     "metadata": {},
     "output_type": "execute_result"
    },
    {
     "data": {
      "image/png": "[encoded data removed]",
      "text/plain": [
       "<Figure size 640x480 with 1 Axes>"
      ]
     },
     "metadata": {},
     "output_type": "display_data"
    }
   ],
   "source": [
    "disp = plot_precision_recall_curve(model, X_test, y_test)\n",
    "disp"
   ]
  },
  {
   "cell_type": "markdown",
   "id": "1d73a106-8e31-423b-a322-ecd9361c886e",
   "metadata": {},
   "source": [
    "# roc_curv()"
   ]
  },
  {
   "cell_type": "markdown",
   "id": "39412fae-f136-4bb2-8cc7-94b76528ee5c",
   "metadata": {
    "tags": []
   },
   "source": [
    "## roc_auc_score\n",
    "* AUC (Area Under the roc Curve) : roc 아래 면적 값\n",
    "* sklearn.metrics.roc_auc_score(y_true, y_score, *, average='macro', sample_weight=None, max_fpr=None, multi_class='raise', labels=None)[source]"
   ]
  },
  {
   "cell_type": "markdown",
   "id": "ed11ab09-57a1-4756-b3c7-950b03dc66aa",
   "metadata": {},
   "source": [
    "* roc_auc_score() 이용 점수확인"
   ]
  },
  {
   "cell_type": "code",
   "execution_count": 175,
   "id": "6ad2a76e-9334-49de-b3f2-434f915420cb",
   "metadata": {
    "tags": []
   },
   "outputs": [
    {
     "name": "stdout",
     "output_type": "stream",
     "text": [
      "AUC 점수 :  0.65000\n"
     ]
    }
   ],
   "source": [
    "auc = roc_auc_score(y_test, proba_c1)\n",
    "print(f\"AUC 점수 : {auc : .5f}\"  )"
   ]
  },
  {
   "cell_type": "markdown",
   "id": "b7f8cffe-5642-43c6-bb06-21ee4c6c9c27",
   "metadata": {},
   "source": [
    "* roc_curve() 이용  점수확인\n",
    "<pre>\n",
    "sklearn.metrics.roc_curve(y_true, y_score, *, pos_label=None, sample_weight=None, drop_intermediate=True)\n",
    "y_score : 양성만 "
   ]
  },
  {
   "cell_type": "code",
   "execution_count": 179,
   "id": "e4ed3086-25c6-4ac6-87d1-a8fa17861ca2",
   "metadata": {
    "tags": []
   },
   "outputs": [],
   "source": [
    "from sklearn import metrics"
   ]
  },
  {
   "cell_type": "code",
   "execution_count": 224,
   "id": "832ce2c9-cd7e-4cfa-a7ad-ec6f65cd2542",
   "metadata": {
    "tags": []
   },
   "outputs": [
    {
     "name": "stdout",
     "output_type": "stream",
     "text": [
      "AUC 점수 :  0.65000 [0.  0.1 0.1 0.2 0.2 0.4 0.4 0.5 0.5 0.7 0.7 1. ]\n"
     ]
    }
   ],
   "source": [
    "fpr, tpr, thresholds = metrics.roc_curve(y_test, proba_c1)\n",
    "auc_score = auc(fpr, tpr)\n",
    "print(f\"AUC 점수 : {auc_score : .5f}\"  )\n"
   ]
  },
  {
   "cell_type": "markdown",
   "id": "4411fff7-a01e-4c3f-9ec2-70607b8974cd",
   "metadata": {},
   "source": [
    "## roc_curve\n",
    "<pre>\n",
    "sklearn.metrics.roc_curve(y_true, y_score, *, pos_label=None, sample_weight=None, drop_intermediate=True)\n",
    "y_score : 양성만 "
   ]
  },
  {
   "cell_type": "code",
   "execution_count": null,
   "id": "dfaf2f43-e02a-4b6e-93bf-4adb070609e0",
   "metadata": {},
   "outputs": [],
   "source": [
    "fpr, tpr, thresholds = metrics.roc_curve(y_test, proba_c1)"
   ]
  },
  {
   "cell_type": "code",
   "execution_count": 221,
   "id": "c5652d67-b086-499e-b6ff-d057a7b6766f",
   "metadata": {
    "tags": []
   },
   "outputs": [
    {
     "name": "stdout",
     "output_type": "stream",
     "text": [
      "0.4 0.5\n"
     ]
    }
   ],
   "source": [
    "cm\n",
    "TN = cm[0][0]\n",
    "FP = cm[0][1]\n",
    "FN = cm[1][0]\n",
    "TP = cm[1][1]\n",
    "\n",
    "FPR = FP / (TN + FP)\n",
    "TPR_recall =  TP / (FN +TP)\n",
    "print(FPR, TPR_recall)\n",
    "\n",
    "\n"
   ]
  },
  {
   "cell_type": "code",
   "execution_count": 223,
   "id": "8e5ef803-8189-4977-b719-e28e0c7ccc70",
   "metadata": {
    "tags": []
   },
   "outputs": [
    {
     "data": {
      "image/png": "[encoded data removed]",
      "text/plain": [
       "<Figure size 640x480 with 1 Axes>"
      ]
     },
     "metadata": {},
     "output_type": "display_data"
    }
   ],
   "source": [
    "precision, recall, threshold = metrics.roc_curve(y_test, proba_c1)\n",
    "# Returns : precision, recall, threshold\n",
    "precision.shape, recall.shape, threshold.shape\n",
    "# threshold 보다 정밀도, 재현율은 1개씩 더 많다 >> 재현율, 정밀도에 임계치 0.5일때 값이 하나씩 더 있어서!!!\n",
    "\n",
    "plt.plot( precision,\n",
    "         recall)\n",
    "plt.plot([0,1],[0,1],\"--\")\n",
    "\n",
    "plt.plot( FPR,  TPR_recall,  \"r^\")\n",
    "\n",
    "plt.xlabel(\"FPR(1-특이도(specificity))\")\n",
    "plt.ylabel(\"TPR(민감도, sensitivity)\")\n",
    "\n",
    "plt.title(\"roc_curve\")\n",
    "plt.show()\n",
    "\n"
   ]
  },
  {
   "cell_type": "markdown",
   "id": "399a985b-ceb8-469f-8ea4-4b4595b3d409",
   "metadata": {},
   "source": [
    "# precision_recall_curve VS. roc_curve\n",
    "<pre>\n",
    "* X : 확률변수\n",
    "* Y : 확률값\n",
    "* 임계치(검은 세로선) 좌측에 가깝다 >> FPR, TPR  최대값\n",
    " - 임계치 최소화 >> 양성(P) 확률이 커진다\n",
    " - 임계치 0      >> 모든 값을 positive로 예측 >> TPR(100)\n",
    " \n",
    "*  임계치(검은 세로선) 우측에 가깝다 >> FPR, TPR  최소값\n",
    " - 임계치 최대화 >> 음성(N) 확률이 커진다\n",
    " - 임계치 1      >> 모든 값을 negative로 예측 >> FPR(100)"
   ]
  },
  {
   "cell_type": "markdown",
   "id": "8c45af68-134c-4082-94fb-88ac5d60e2ad",
   "metadata": {},
   "source": [
    "<img src=\"https://blog.kakaocdn.net/dn/buhibz/btruXTZyiS2/zWnjxw6rYXNq9mqbA6sLY0/img.gif\">"
   ]
  },
  {
   "cell_type": "code",
   "execution_count": null,
   "id": "63fba1f7-b439-4731-915a-40c283aabbd1",
   "metadata": {},
   "outputs": [],
   "source": [
    "<pre>\n",
    "* 두 집단 분리 잘 됨 >> ROC커브 면적 최대화 >> AUC 점수최대화\n",
    "* 두 집단 분리 안 됨 >> ROC커브 면적 최소화 >> AUC 점수최대소화"
   ]
  },
  {
   "cell_type": "markdown",
   "id": "4620bfc7-3b7d-4d6a-b5ff-1100037f08a3",
   "metadata": {},
   "source": [
    "<img src=\"https://blog.kakaocdn.net/dn/bmtSzI/btru2wV4yw0/28T7KjpCoYo46X14FteAr1/img.gif\">"
   ]
  },
  {
   "cell_type": "code",
   "execution_count": null,
   "id": "f1d3d51a-d06d-4422-b515-b6803e597897",
   "metadata": {},
   "outputs": [],
   "source": []
  }
 ],
 "metadata": {
  "kernelspec": {
   "display_name": "Python 3 (ipykernel)",
   "language": "python",
   "name": "python3"
  },
  "language_info": {
   "codemirror_mode": {
    "name": "ipython",
    "version": 3
   },
   "file_extension": ".py",
   "mimetype": "text/x-python",
   "name": "python",
   "nbconvert_exporter": "python",
   "pygments_lexer": "ipython3",
   "version": "3.8.8"
  }
 },
 "nbformat": 4,
 "nbformat_minor": 5
}
