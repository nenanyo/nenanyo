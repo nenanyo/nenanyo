{
 "cells": [
  {
   "cell_type": "markdown",
   "id": "3a6fd7a3-7e50-4a65-8b4a-da0196d2fce4",
   "metadata": {},
   "source": [
    "# 모델 검증(Validation)"
   ]
  },
  {
   "cell_type": "code",
   "execution_count": 1,
   "id": "2b314898-3cc4-40ee-b039-55080db89ed1",
   "metadata": {
    "tags": []
   },
   "outputs": [
    {
     "data": {
      "text/html": [
       "<style>.container{width:100% !important;}</style>"
      ],
      "text/plain": [
       "<IPython.core.display.HTML object>"
      ]
     },
     "metadata": {},
     "output_type": "display_data"
    }
   ],
   "source": [
    "import numpy as np\n",
    "import pandas as pd\n",
    "\n",
    "import matplotlib.pyplot as plt\n",
    "import seaborn as sns\n",
    "\n",
    "\n",
    "sns.set()\n",
    "\n",
    "#-------------------- 차트 관련 속성 (한글처리, 그리드) -----------\n",
    "plt.rcParams['font.family']= 'Malgun Gothic'\n",
    "plt.rcParams['axes.unicode_minus'] = False\n",
    "\n",
    "#-------------------- 주피터 , 출력결과 넓이 늘리기 ---------------\n",
    "# from IPython.core.display import display, HTML\n",
    "from IPython.display import display, HTML\n",
    "\n",
    "display(HTML(\"<style>.container{width:100% !important;}</style>\"))\n",
    "pd.set_option('display.max_rows', 100)\n",
    "pd.set_option('display.max_columns', 100)\n",
    "pd.set_option('max_colwidth', None)\n",
    "\n",
    "import warnings\n",
    "warnings.filterwarnings(action='ignore')"
   ]
  },
  {
   "cell_type": "code",
   "execution_count": 186,
   "id": "977e1847-8f30-4ec1-b48c-691558a0de74",
   "metadata": {
    "tags": []
   },
   "outputs": [],
   "source": [
    "\n",
    "from sklearn.model_selection import train_test_split, cross_val_score, cross_validate, GridSearchCV, StratifiedKFold, KFold\n",
    "\n",
    "\n",
    "from sklearn.metrics import mean_squared_error\n",
    "from sklearn.metrics import mean_squared_log_error\n",
    "from sklearn.metrics import accuracy_score\n",
    "\n",
    "from sklearn.ensemble     import RandomForestRegressor\n",
    "from sklearn.tree         import DecisionTreeRegressor\n",
    "from sklearn.tree         import DecisionTreeClassifier\n",
    "from sklearn.linear_model import LinearRegression, Ridge, Lasso\n",
    "# ---- 추가 모델\n",
    "from sklearn.ensemble     import AdaBoostRegressor, VotingRegressor\n",
    "from xgboost              import XGBRegressor\n",
    "from lightgbm             import LGBMRegressor\n",
    "\n"
   ]
  },
  {
   "cell_type": "code",
   "execution_count": 7,
   "id": "f5d4383d-ba51-4df1-b03f-6bc055412a3b",
   "metadata": {
    "tags": []
   },
   "outputs": [],
   "source": [
    "from sklearn.datasets import load_iris"
   ]
  },
  {
   "cell_type": "code",
   "execution_count": 10,
   "id": "4634cea9-32a7-4bbe-8cdb-52daa8f4f0c7",
   "metadata": {
    "tags": []
   },
   "outputs": [
    {
     "data": {
      "text/plain": [
       "dict_keys(['data', 'target', 'frame', 'target_names', 'DESCR', 'feature_names', 'filename', 'data_module'])"
      ]
     },
     "execution_count": 10,
     "metadata": {},
     "output_type": "execute_result"
    }
   ],
   "source": [
    "dataset = load_iris()\n",
    "dataset.keys()\n",
    "# 딕트 형태"
   ]
  },
  {
   "cell_type": "code",
   "execution_count": 11,
   "id": "36fa41d4-279e-4738-b27e-edda953b4353",
   "metadata": {
    "tags": []
   },
   "outputs": [
    {
     "data": {
      "text/plain": [
       "array(['setosa', 'versicolor', 'virginica'], dtype='<U10')"
      ]
     },
     "execution_count": 11,
     "metadata": {},
     "output_type": "execute_result"
    }
   ],
   "source": [
    "dataset['target_names']"
   ]
  },
  {
   "cell_type": "code",
   "execution_count": 25,
   "id": "93067938-dc72-430a-8b41-295311e0418d",
   "metadata": {
    "tags": []
   },
   "outputs": [
    {
     "data": {
      "text/html": [
       "<div>\n",
       "<style scoped>\n",
       "    .dataframe tbody tr th:only-of-type {\n",
       "        vertical-align: middle;\n",
       "    }\n",
       "\n",
       "    .dataframe tbody tr th {\n",
       "        vertical-align: top;\n",
       "    }\n",
       "\n",
       "    .dataframe thead th {\n",
       "        text-align: right;\n",
       "    }\n",
       "</style>\n",
       "<table border=\"1\" class=\"dataframe\">\n",
       "  <thead>\n",
       "    <tr style=\"text-align: right;\">\n",
       "      <th></th>\n",
       "      <th>sl</th>\n",
       "      <th>sw</th>\n",
       "      <th>pl</th>\n",
       "      <th>pw</th>\n",
       "      <th>target</th>\n",
       "    </tr>\n",
       "  </thead>\n",
       "  <tbody>\n",
       "    <tr>\n",
       "      <th>0</th>\n",
       "      <td>5.1</td>\n",
       "      <td>3.5</td>\n",
       "      <td>1.4</td>\n",
       "      <td>0.2</td>\n",
       "      <td>0</td>\n",
       "    </tr>\n",
       "    <tr>\n",
       "      <th>1</th>\n",
       "      <td>4.9</td>\n",
       "      <td>3.0</td>\n",
       "      <td>1.4</td>\n",
       "      <td>0.2</td>\n",
       "      <td>0</td>\n",
       "    </tr>\n",
       "    <tr>\n",
       "      <th>2</th>\n",
       "      <td>4.7</td>\n",
       "      <td>3.2</td>\n",
       "      <td>1.3</td>\n",
       "      <td>0.2</td>\n",
       "      <td>0</td>\n",
       "    </tr>\n",
       "    <tr>\n",
       "      <th>3</th>\n",
       "      <td>4.6</td>\n",
       "      <td>3.1</td>\n",
       "      <td>1.5</td>\n",
       "      <td>0.2</td>\n",
       "      <td>0</td>\n",
       "    </tr>\n",
       "    <tr>\n",
       "      <th>4</th>\n",
       "      <td>5.0</td>\n",
       "      <td>3.6</td>\n",
       "      <td>1.4</td>\n",
       "      <td>0.2</td>\n",
       "      <td>0</td>\n",
       "    </tr>\n",
       "  </tbody>\n",
       "</table>\n",
       "</div>"
      ],
      "text/plain": [
       "    sl   sw   pl   pw  target\n",
       "0  5.1  3.5  1.4  0.2       0\n",
       "1  4.9  3.0  1.4  0.2       0\n",
       "2  4.7  3.2  1.3  0.2       0\n",
       "3  4.6  3.1  1.5  0.2       0\n",
       "4  5.0  3.6  1.4  0.2       0"
      ]
     },
     "execution_count": 25,
     "metadata": {},
     "output_type": "execute_result"
    }
   ],
   "source": [
    "df = pd.DataFrame(dataset['data'], \n",
    "                  columns = ['sl','sw','pl','pw']\n",
    "                  #columns = dataset['feature_names']\n",
    "                 )\n",
    "df['target'] = dataset['target']\n",
    "df.head()\n",
    "# 2차어레이는 df\n",
    "# 1차어레이는 시리즈로 피쳐"
   ]
  },
  {
   "cell_type": "code",
   "execution_count": 28,
   "id": "09950ee6-c6e6-44e0-b70d-ca713ddd9dc5",
   "metadata": {
    "tags": []
   },
   "outputs": [
    {
     "name": "stdout",
     "output_type": "stream",
     "text": [
      "<class 'pandas.core.frame.DataFrame'>\n",
      "RangeIndex: 150 entries, 0 to 149\n",
      "Data columns (total 5 columns):\n",
      " #   Column  Non-Null Count  Dtype  \n",
      "---  ------  --------------  -----  \n",
      " 0   sl      150 non-null    float64\n",
      " 1   sw      150 non-null    float64\n",
      " 2   pl      150 non-null    float64\n",
      " 3   pw      150 non-null    float64\n",
      " 4   target  150 non-null    int32  \n",
      "dtypes: float64(4), int32(1)\n",
      "memory usage: 5.4 KB\n"
     ]
    }
   ],
   "source": [
    "df.info()"
   ]
  },
  {
   "cell_type": "code",
   "execution_count": 29,
   "id": "234dce22-bdfb-4525-8857-f7414398fdc1",
   "metadata": {
    "tags": []
   },
   "outputs": [
    {
     "data": {
      "text/plain": [
       "0    50\n",
       "1    50\n",
       "2    50\n",
       "Name: target, dtype: int64"
      ]
     },
     "execution_count": 29,
     "metadata": {},
     "output_type": "execute_result"
    }
   ],
   "source": [
    "df['target'].value_counts()"
   ]
  },
  {
   "cell_type": "code",
   "execution_count": 30,
   "id": "7a939795-b355-4864-8ccd-4bb8bd709fd4",
   "metadata": {
    "tags": []
   },
   "outputs": [],
   "source": [
    "y = df['target']\n",
    "X = df.drop('target', axis=1)"
   ]
  },
  {
   "cell_type": "markdown",
   "id": "55735778-c265-4073-a71c-165bf36a56f1",
   "metadata": {},
   "source": [
    "sklearn.model_selection.train_test_split(*arrays, test_size=None, train_size=None, random_state=None, shuffle=True, <b>stratify=None</b>)\n",
    "* stratify=y >tratifiedKfold와 같은 효과"
   ]
  },
  {
   "cell_type": "code",
   "execution_count": 65,
   "id": "8db836ac-c4f4-4ab4-b28e-13ec33126b7b",
   "metadata": {
    "tags": []
   },
   "outputs": [
    {
     "data": {
      "text/plain": [
       "Int64Index([ 91, 135,  69, 128, 114,  48,  53,  28,  54, 108,\n",
       "            ...\n",
       "             25, 134,  71, 129,  79, 133, 137,  72, 140,  37],\n",
       "           dtype='int64', length=120)"
      ]
     },
     "execution_count": 65,
     "metadata": {},
     "output_type": "execute_result"
    }
   ],
   "source": [
    "X_train,X_test,y_train,y_test=train_test_split(X,y, test_size = 0.2, random_state=1)\n",
    "\n",
    "y_train.shape,y_test.shape\n",
    "y_train.index  #----- 셔플확인할 수 있다"
   ]
  },
  {
   "cell_type": "code",
   "execution_count": 59,
   "id": "3b119ab1-bab6-495b-8804-77a69681216d",
   "metadata": {
    "tags": []
   },
   "outputs": [
    {
     "data": {
      "text/plain": [
       "array([0, 1, 1, 0, 2, 1, 2, 0, 0, 2, 1, 0, 2, 1, 1, 0, 1, 1, 0, 0, 1, 1,\n",
       "       2, 0, 2, 1, 0, 0, 1, 2])"
      ]
     },
     "execution_count": 59,
     "metadata": {},
     "output_type": "execute_result"
    }
   ],
   "source": [
    "dtc = DecisionTreeClassifier()\n",
    "dtc.fit(X_train,y_train)\n",
    "y_pred= dtc.predict(X_test)\n",
    "y_pred"
   ]
  },
  {
   "cell_type": "code",
   "execution_count": 60,
   "id": "d3604e7c-95bb-450e-b1e1-133e2ea3900e",
   "metadata": {
    "tags": []
   },
   "outputs": [
    {
     "data": {
      "text/plain": [
       "0.9666666666666667"
      ]
     },
     "execution_count": 60,
     "metadata": {},
     "output_type": "execute_result"
    }
   ],
   "source": [
    "sc = accuracy_score(y_test,y_pred)\n",
    "sc"
   ]
  },
  {
   "cell_type": "code",
   "execution_count": 67,
   "id": "c4553b5a-71a2-4712-9f9f-3f8da3622175",
   "metadata": {
    "tags": []
   },
   "outputs": [
    {
     "data": {
      "text/plain": [
       "(2    44\n",
       " 0    39\n",
       " 1    37\n",
       " Name: target, dtype: int64,\n",
       " 1    13\n",
       " 0    11\n",
       " 2     6\n",
       " Name: target, dtype: int64)"
      ]
     },
     "execution_count": 67,
     "metadata": {},
     "output_type": "execute_result"
    }
   ],
   "source": [
    "y_train.value_counts(),y_test.value_counts()"
   ]
  },
  {
   "cell_type": "markdown",
   "id": "eadc435b-0863-4321-a8d6-080d3d89d9bc",
   "metadata": {},
   "source": [
    "<pre>\n",
    "* process - 실행 중인 프로그램\n",
    "  -multi process - 여러개 프로그램 동시에 띄움(현재는 당연시)\n",
    "* thread - 프로세스 내에서 실제로 작업을 수행하는 주체(작업자)/각 프로세스에는 한 개 이상의 스레드가 존재"
   ]
  },
  {
   "cell_type": "code",
   "execution_count": 68,
   "id": "554e4a34-6afd-42b5-864f-002c58a582f2",
   "metadata": {
    "tags": []
   },
   "outputs": [],
   "source": [
    "from sklearn.datasets import load_iris"
   ]
  },
  {
   "cell_type": "code",
   "execution_count": null,
   "id": "52b99c59-7a32-467c-b036-65647afb732a",
   "metadata": {
    "tags": []
   },
   "outputs": [],
   "source": [
    "dataset = load_iris()\n",
    "dataset['data']"
   ]
  },
  {
   "cell_type": "code",
   "execution_count": 81,
   "id": "dd143215-c6a7-414a-883b-79f564ec1e6a",
   "metadata": {
    "tags": []
   },
   "outputs": [
    {
     "data": {
      "text/html": [
       "<div>\n",
       "<style scoped>\n",
       "    .dataframe tbody tr th:only-of-type {\n",
       "        vertical-align: middle;\n",
       "    }\n",
       "\n",
       "    .dataframe tbody tr th {\n",
       "        vertical-align: top;\n",
       "    }\n",
       "\n",
       "    .dataframe thead th {\n",
       "        text-align: right;\n",
       "    }\n",
       "</style>\n",
       "<table border=\"1\" class=\"dataframe\">\n",
       "  <thead>\n",
       "    <tr style=\"text-align: right;\">\n",
       "      <th></th>\n",
       "      <th>sl</th>\n",
       "      <th>sw</th>\n",
       "      <th>pl</th>\n",
       "      <th>pw</th>\n",
       "      <th>target</th>\n",
       "    </tr>\n",
       "  </thead>\n",
       "  <tbody>\n",
       "    <tr>\n",
       "      <th>0</th>\n",
       "      <td>5.1</td>\n",
       "      <td>3.5</td>\n",
       "      <td>1.4</td>\n",
       "      <td>0.2</td>\n",
       "      <td>0</td>\n",
       "    </tr>\n",
       "    <tr>\n",
       "      <th>1</th>\n",
       "      <td>4.9</td>\n",
       "      <td>3.0</td>\n",
       "      <td>1.4</td>\n",
       "      <td>0.2</td>\n",
       "      <td>0</td>\n",
       "    </tr>\n",
       "    <tr>\n",
       "      <th>2</th>\n",
       "      <td>4.7</td>\n",
       "      <td>3.2</td>\n",
       "      <td>1.3</td>\n",
       "      <td>0.2</td>\n",
       "      <td>0</td>\n",
       "    </tr>\n",
       "    <tr>\n",
       "      <th>3</th>\n",
       "      <td>4.6</td>\n",
       "      <td>3.1</td>\n",
       "      <td>1.5</td>\n",
       "      <td>0.2</td>\n",
       "      <td>0</td>\n",
       "    </tr>\n",
       "    <tr>\n",
       "      <th>4</th>\n",
       "      <td>5.0</td>\n",
       "      <td>3.6</td>\n",
       "      <td>1.4</td>\n",
       "      <td>0.2</td>\n",
       "      <td>0</td>\n",
       "    </tr>\n",
       "  </tbody>\n",
       "</table>\n",
       "</div>"
      ],
      "text/plain": [
       "    sl   sw   pl   pw  target\n",
       "0  5.1  3.5  1.4  0.2       0\n",
       "1  4.9  3.0  1.4  0.2       0\n",
       "2  4.7  3.2  1.3  0.2       0\n",
       "3  4.6  3.1  1.5  0.2       0\n",
       "4  5.0  3.6  1.4  0.2       0"
      ]
     },
     "execution_count": 81,
     "metadata": {},
     "output_type": "execute_result"
    }
   ],
   "source": [
    "df = pd.DataFrame(dataset['data'], columns=['sl','sw','pl','pw'])\n",
    "df['target'] = dataset['target']\n",
    "df.head()"
   ]
  },
  {
   "cell_type": "code",
   "execution_count": 85,
   "id": "3c3e7439-b87f-4085-bd54-05919b56e792",
   "metadata": {
    "tags": []
   },
   "outputs": [
    {
     "data": {
      "text/plain": [
       "((120, 4), (30, 4), (120,), (30,))"
      ]
     },
     "execution_count": 85,
     "metadata": {},
     "output_type": "execute_result"
    }
   ],
   "source": [
    "y = df['target']\n",
    "X = df.drop('target', axis=1)\n",
    "X_train, X_test, y_train, y_test  = train_test_split(X,y, test_size=0.2, random_state=1)\n",
    "X_train.shape, X_test.shape, y_train.shape, y_test.shape"
   ]
  },
  {
   "cell_type": "code",
   "execution_count": 86,
   "id": "2d758db8-a550-4ba9-b5ab-ca4f30774195",
   "metadata": {
    "tags": []
   },
   "outputs": [
    {
     "name": "stdout",
     "output_type": "stream",
     "text": [
      "0.9666666666666667\n"
     ]
    }
   ],
   "source": [
    "model = DecisionTreeClassifier(random_state=1)\n",
    "model.fit(X_train, y_train)\n",
    "pred = model.predict(X_test)\n",
    "score = accuracy_score(y_test, pred)\n",
    "print(score)"
   ]
  },
  {
   "cell_type": "markdown",
   "id": "8de0e316-f9bb-4902-894e-1b65c8322b7a",
   "metadata": {
    "tags": []
   },
   "source": [
    "https://scikit-learn.org/stable/auto_examples/model_selection/plot_cv_indices.html#sphx-glr-auto-examples-model-selection-plot-cv-indices-py\n",
    "<table border=1 width=800>\n",
    "<tr>\n",
    "    <td>\n",
    "    <img width='300' height='300' src=\"https://scikit-learn.org/stable/_images/sphx_glr_plot_cv_indices_006.png\">\n",
    "    <img width='300' height='300'  src=\"https://scikit-learn.org/stable/_images/sphx_glr_plot_cv_indices_007.png\">\n",
    "    </td>\n",
    "</tr>\n",
    "<tr>\n",
    "    <td>\n",
    "    <img width='300' height='300' src=\"https://scikit-learn.org/stable/_images/sphx_glr_plot_cv_indices_008.png\">\n",
    "    <img width='300' height='300'  src=\"https://scikit-learn.org/stable/_images/sphx_glr_plot_cv_indices_009.png\">\n",
    "    </td>\n",
    "</tr>\n",
    "<tr>\n",
    "    <td>\n",
    "    <img width='300' height='300' src=\"https://scikit-learn.org/stable/_images/sphx_glr_plot_cv_indices_012.png\">\n",
    "    <img width='300' height='300'  src=\"https://scikit-learn.org/stable/_images/sphx_glr_plot_cv_indices_013.png\">\n",
    "    </td>\n",
    "</tr>   \n",
    "<tr>\n",
    "    <td>\n",
    "    <img width='300' height='300' src=\"https://scikit-learn.org/stable/_images/sphx_glr_plot_cv_indices_010.png\">\n",
    "    <img width='300' height='300'  src=\"https://scikit-learn.org/stable/_images/sphx_glr_plot_cv_indices_011.png\">\n",
    "    </td>\n",
    "</tr>\n",
    " \n",
    "</table>"
   ]
  },
  {
   "cell_type": "markdown",
   "id": "a7d9a9b6-57d8-4ea7-bd3c-39ca99c92964",
   "metadata": {},
   "source": [
    "* KFOLD : 건수만 따져서 쪼갠다\n",
    "* GroupKFOLD : 그룹별로 쪼갠다, 그룹 해치지 않게\n",
    "* ShuffleSplit : CV상관없이 내가 원하는 비율로 쪼갠다 - 분류, 범주형 데이터에만\n",
    "* TimeSeriesSplit : 과거 데이터 이용, 미래 예측\n",
    "* StratifiedFold : 클래스 별로 골고루 섞이게 테스트에 모두 적절히 들어가게"
   ]
  },
  {
   "cell_type": "markdown",
   "id": "f564cb47-5570-43f1-b477-e7174f979ad8",
   "metadata": {
    "tags": []
   },
   "source": [
    "## Fold()\n",
    "<pre>\n",
    "* class sklearn.model_selection.KFold(<b>n_splits=5(5개로 나눠라)</b>, \n",
    "                                                               *, shuffle=False, random_state=None)[source]\n",
    "* 회귀모델\n",
    "* 모델 학습시에 각 각 나누는 덩어리 (2:8 > 1:4 > 총 5개 )\n",
    "* 하나씩을 test로 두고 n번 학습\n",
    "* 편중되게 값이 들어감"
   ]
  },
  {
   "cell_type": "code",
   "execution_count": 89,
   "id": "cab0cd92-1a6f-48b5-927b-30d409ef536d",
   "metadata": {
    "tags": []
   },
   "outputs": [
    {
     "name": "stdout",
     "output_type": "stream",
     "text": [
      "나이:20세 성별:남\n"
     ]
    }
   ],
   "source": [
    "age = 20\n",
    "gen='남'\n",
    "print(f\"나이:{age}세 성별:{gen}\")"
   ]
  },
  {
   "cell_type": "code",
   "execution_count": 125,
   "id": "9cfe0326-5a0a-4e11-a85a-5cb229cf1350",
   "metadata": {
    "tags": []
   },
   "outputs": [],
   "source": [
    "kf = KFold(n_splits=2, random_state=None, shuffle=False)\n",
    "# >>> for i, (train_index, test_index) in enumerate(kf.split(X)):\n",
    "#      print(f\"Fold {i}:\")\n",
    "#      print(f\"  Train index={train_index}\")\n",
    "#      print(f\"  Test  index={test_index}\")\n",
    "#      print(df.loc[test_index, 'target' ].value_counts())\n",
    "#      print(\"---\"*20)"
   ]
  },
  {
   "cell_type": "code",
   "execution_count": 126,
   "id": "f8999f7e-a977-48b3-b2fd-a1699b8de625",
   "metadata": {
    "tags": []
   },
   "outputs": [],
   "source": [
    "y = df['target']\n",
    "X = df.drop('target', axis=1)"
   ]
  },
  {
   "cell_type": "code",
   "execution_count": 133,
   "id": "befc72be-0ad9-4b68-b397-b28ad7d48d3e",
   "metadata": {
    "tags": []
   },
   "outputs": [
    {
     "name": "stdout",
     "output_type": "stream",
     "text": [
      "Fold 0\n",
      "  Test  index=[  5  14  16  19  29  31  33  35  40  42  44  51  56  66  73  75  77  78\n",
      "  84  90  92  94  98  99 102 120 125 131 141 146]\n",
      "1    13\n",
      "0    11\n",
      "2     6\n",
      "Name: target, dtype: int64\n",
      "--------------------------------------------------------------------------------\n",
      "Fold 1\n",
      "  Test  index=[  4  17  18  28  36  39  45  48  53  54  58  59  69  85  91  95 103 107\n",
      " 108 112 114 117 118 119 122 126 128 132 135 139]\n",
      "2    14\n",
      "0     8\n",
      "1     8\n",
      "Name: target, dtype: int64\n",
      "--------------------------------------------------------------------------------\n",
      "Fold 2\n",
      "  Test  index=[  2   6  10  11  12  23  27  32  34  38  46  55  62  65  74  83  89  93\n",
      " 100 104 110 111 113 116 123 124 127 138 144 149]\n",
      "2    12\n",
      "0    11\n",
      "1     7\n",
      "Name: target, dtype: int64\n",
      "--------------------------------------------------------------------------------\n",
      "Fold 3\n",
      "  Test  index=[  3   9  15  21  24  26  30  41  43  49  52  64  67  70  76  80  82  87\n",
      "  97 105 106 109 121 130 136 142 143 145 147 148]\n",
      "2    11\n",
      "0    10\n",
      "1     9\n",
      "Name: target, dtype: int64\n",
      "--------------------------------------------------------------------------------\n",
      "Fold 4\n",
      "  Test  index=[  0   1   7   8  13  20  22  25  37  47  50  57  60  61  63  68  71  72\n",
      "  79  81  86  88  96 101 115 129 133 134 137 140]\n",
      "1    13\n",
      "0    10\n",
      "2     7\n",
      "Name: target, dtype: int64\n",
      "--------------------------------------------------------------------------------\n",
      "0.9333333333333332\n"
     ]
    }
   ],
   "source": [
    "kf = KFold(n_splits=5, shuffle=True, random_state=1)\n",
    "score_list = []\n",
    "for i,  (train_index, test_index) in enumerate(kf.split(X,y)):\n",
    "    print(f\"Fold {i}\")\n",
    "    \n",
    "    # X_train, X_test, y_train, y_test  = train_test_split(X,y, test_size=0.2, random_state=11)\n",
    "    X_train = X.loc[train_index] \n",
    "    y_train = y.loc[train_index] \n",
    "    X_test  = X.loc[test_index]  \n",
    "    y_test  = y.loc[test_index]  \n",
    "    \n",
    "#     X_train, y_train  = X.loc[tridx], y.loc[tridx] \n",
    "#     X_test,  y_test   = X.loc[teidx] , y.loc[teidx] \n",
    "# -------------------------------------------------------\n",
    "#     X_train, X_test = X.loc[tridx],  X.loc[teidx]  \n",
    "#     y_train, y_test = y.loc[tridx],  y.loc[teidx]\n",
    "    \n",
    "    #print(f\"  Train index={tridx}\")\n",
    "    print(f\"  Test  index={test_index}\")\n",
    "    print(df.loc[test_index, 'target'].value_counts())\n",
    "    \n",
    "    model = DecisionTreeClassifier(random_state=11)\n",
    "    model.fit(X_train, y_train)\n",
    "    pred = model.predict(X_test)\n",
    "    score = accuracy_score(y_test, pred)\n",
    "    score_list.append(score)\n",
    "    \n",
    "    \n",
    "    \n",
    "    print(\"----\"*20)\n",
    "print(np.mean(score_list))\n"
   ]
  },
  {
   "cell_type": "markdown",
   "id": "846f9618-80b1-4d19-b005-e4570bc690df",
   "metadata": {
    "tags": []
   },
   "source": [
    "## StratifiedKFold\n",
    "<pre>\n",
    "* class sklearn.model_selection.StratifiedKFold(n_splits=5, \n",
    "                                                        *, shuffle=False, random_state=None)[source]¶\n",
    "* 계층형 K폴드: 골고루, 카테고리별로 같은 수로 나눌 수 있는 이산형에만, 회귀형에는 말이 안 됨\n",
    "* 분류모델"
   ]
  },
  {
   "cell_type": "code",
   "execution_count": 134,
   "id": "d2f4d857-3e67-454a-8f30-110faf1b1888",
   "metadata": {
    "tags": []
   },
   "outputs": [
    {
     "name": "stdout",
     "output_type": "stream",
     "text": [
      "Fold 0:\n",
      "  Train index=[  0   1   2   3   6   7   8   9  10  11  12  13  14  15  16  17  18  19\n",
      "  20  21  22  23  24  26  27  28  29  30  31  32  33  34  35  38  40  42\n",
      "  44  47  48  49  50  51  52  53  54  55  57  58  59  60  61  62  63  64\n",
      "  65  66  68  69  70  71  73  74  75  76  78  80  81  82  83  84  85  86\n",
      "  88  89  90  91  92  93  95  96 100 101 102 103 105 106 107 108 109 110\n",
      " 111 112 114 115 118 119 120 121 122 123 124 125 126 128 129 130 131 133\n",
      " 134 135 136 137 139 141 142 143 144 146 147 149]\n",
      "  Test  index=[  4   5  25  36  37  39  41  43  45  46  56  67  72  77  79  87  94  97\n",
      "  98  99 104 113 116 117 127 132 138 140 145 148]\n",
      "0    10\n",
      "1    10\n",
      "2    10\n",
      "Name: target, dtype: int64\n",
      "------------------------------------------------------------\n",
      "Fold 1:\n",
      "  Train index=[  0   1   2   3   4   5   6   7   8   9  10  11  12  13  15  16  17  18\n",
      "  20  22  23  24  25  26  28  30  31  32  34  35  36  37  38  39  41  43\n",
      "  45  46  48  49  51  52  55  56  57  58  59  60  61  63  64  65  67  68\n",
      "  69  70  72  73  74  75  76  77  78  79  80  81  82  83  84  85  86  87\n",
      "  91  93  94  95  96  97  98  99 101 102 103 104 105 106 108 109 110 112\n",
      " 113 114 115 116 117 118 119 120 121 122 124 126 127 129 131 132 133 134\n",
      " 135 136 137 138 139 140 142 143 145 146 147 148]\n",
      "  Test  index=[ 14  19  21  27  29  33  40  42  44  47  50  53  54  62  66  71  88  89\n",
      "  90  92 100 107 111 123 125 128 130 141 144 149]\n",
      "0    10\n",
      "1    10\n",
      "2    10\n",
      "Name: target, dtype: int64\n",
      "------------------------------------------------------------\n",
      "Fold 2:\n",
      "  Train index=[  1   2   3   4   5   6   8   9  10  11  13  14  15  16  19  20  21  22\n",
      "  25  26  27  28  29  31  32  33  36  37  38  39  40  41  42  43  44  45\n",
      "  46  47  48  49  50  52  53  54  56  57  58  59  60  61  62  64  65  66\n",
      "  67  68  70  71  72  73  74  75  76  77  79  80  81  82  84  86  87  88\n",
      "  89  90  92  94  95  97  98  99 100 101 102 104 105 107 108 109 111 113\n",
      " 114 115 116 117 118 119 120 121 122 123 125 126 127 128 130 132 133 134\n",
      " 136 137 138 139 140 141 142 144 145 146 148 149]\n",
      "  Test  index=[  0   7  12  17  18  23  24  30  34  35  51  55  63  69  78  83  85  91\n",
      "  93  96 103 106 110 112 124 129 131 135 143 147]\n",
      "0    10\n",
      "1    10\n",
      "2    10\n",
      "Name: target, dtype: int64\n",
      "------------------------------------------------------------\n",
      "Fold 3:\n",
      "  Train index=[  0   2   4   5   6   7   8  12  14  15  16  17  18  19  20  21  22  23\n",
      "  24  25  27  29  30  31  33  34  35  36  37  38  39  40  41  42  43  44\n",
      "  45  46  47  48  50  51  52  53  54  55  56  57  58  60  62  63  66  67\n",
      "  69  70  71  72  76  77  78  79  81  82  83  85  86  87  88  89  90  91\n",
      "  92  93  94  95  96  97  98  99 100 102 103 104 106 107 108 110 111 112\n",
      " 113 114 116 117 119 123 124 125 127 128 129 130 131 132 133 135 136 137\n",
      " 138 139 140 141 142 143 144 145 146 147 148 149]\n",
      "  Test  index=[  1   3   9  10  11  13  26  28  32  49  59  61  64  65  68  73  74  75\n",
      "  80  84 101 105 109 115 118 120 121 122 126 134]\n",
      "0    10\n",
      "1    10\n",
      "2    10\n",
      "Name: target, dtype: int64\n",
      "------------------------------------------------------------\n",
      "Fold 4:\n",
      "  Train index=[  0   1   3   4   5   7   9  10  11  12  13  14  17  18  19  21  23  24\n",
      "  25  26  27  28  29  30  32  33  34  35  36  37  39  40  41  42  43  44\n",
      "  45  46  47  49  50  51  53  54  55  56  59  61  62  63  64  65  66  67\n",
      "  68  69  71  72  73  74  75  77  78  79  80  83  84  85  87  88  89  90\n",
      "  91  92  93  94  96  97  98  99 100 101 103 104 105 106 107 109 110 111\n",
      " 112 113 115 116 117 118 120 121 122 123 124 125 126 127 128 129 130 131\n",
      " 132 134 135 138 140 141 143 144 145 147 148 149]\n",
      "  Test  index=[  2   6   8  15  16  20  22  31  38  48  52  57  58  60  70  76  81  82\n",
      "  86  95 102 108 114 119 133 136 137 139 142 146]\n",
      "0    10\n",
      "1    10\n",
      "2    10\n",
      "Name: target, dtype: int64\n",
      "------------------------------------------------------------\n"
     ]
    }
   ],
   "source": [
    "skf = StratifiedKFold(n_splits=5, random_state=1, shuffle=True)\n",
    ">>> for i, (train_index, test_index) in enumerate(skf.split(X,y)):\n",
    "     print(f\"Fold {i}:\")\n",
    "     print(f\"  Train index={train_index}\")\n",
    "     print(f\"  Test  index={test_index}\")\n",
    "     print(df.loc[test_index, 'target'].value_counts())\n",
    "     print(\"---\"*20)\n",
    "        \n",
    "# n_splits=2 > 한번만 테스트 하겠다"
   ]
  },
  {
   "cell_type": "code",
   "execution_count": 136,
   "id": "ea9d8bd8-7523-4df3-92ef-f8d4de8e65e0",
   "metadata": {
    "tags": []
   },
   "outputs": [
    {
     "name": "stdout",
     "output_type": "stream",
     "text": [
      "Fold 0\n",
      "  Test  index=[  4   5  25  36  37  39  41  43  45  46  56  67  72  77  79  87  94  97\n",
      "  98  99 104 113 116 117 127 132 138 140 145 148]\n",
      "0    10\n",
      "1    10\n",
      "2    10\n",
      "Name: target, dtype: int64\n",
      "--------------------------------------------------------------------------------\n",
      "Fold 1\n",
      "  Test  index=[ 14  19  21  27  29  33  40  42  44  47  50  53  54  62  66  71  88  89\n",
      "  90  92 100 107 111 123 125 128 130 141 144 149]\n",
      "0    10\n",
      "1    10\n",
      "2    10\n",
      "Name: target, dtype: int64\n",
      "--------------------------------------------------------------------------------\n",
      "Fold 2\n",
      "  Test  index=[  0   7  12  17  18  23  24  30  34  35  51  55  63  69  78  83  85  91\n",
      "  93  96 103 106 110 112 124 129 131 135 143 147]\n",
      "0    10\n",
      "1    10\n",
      "2    10\n",
      "Name: target, dtype: int64\n",
      "--------------------------------------------------------------------------------\n",
      "Fold 3\n",
      "  Test  index=[  1   3   9  10  11  13  26  28  32  49  59  61  64  65  68  73  74  75\n",
      "  80  84 101 105 109 115 118 120 121 122 126 134]\n",
      "0    10\n",
      "1    10\n",
      "2    10\n",
      "Name: target, dtype: int64\n",
      "--------------------------------------------------------------------------------\n",
      "Fold 4\n",
      "  Test  index=[  2   6   8  15  16  20  22  31  38  48  52  57  58  60  70  76  81  82\n",
      "  86  95 102 108 114 119 133 136 137 139 142 146]\n",
      "0    10\n",
      "1    10\n",
      "2    10\n",
      "Name: target, dtype: int64\n",
      "--------------------------------------------------------------------------------\n",
      "0.9533333333333335\n"
     ]
    }
   ],
   "source": [
    "skf = StratifiedKFold(n_splits=5, shuffle=True, random_state=1)\n",
    "score_list = []\n",
    "for i,  (train_index, test_index) in enumerate(skf.split(X,y)):\n",
    "    print(f\"Fold {i}\")\n",
    "    \n",
    "    # X_train, X_test, y_train, y_test  = train_test_split(X,y, test_size=0.2, random_state=11)\n",
    "    X_train = X.loc[train_index] \n",
    "    y_train = y.loc[train_index] \n",
    "    X_test  = X.loc[test_index]  \n",
    "    y_test  = y.loc[test_index]  \n",
    "    \n",
    "#     X_train, y_train  = X.loc[tridx], y.loc[tridx] \n",
    "#     X_test,  y_test   = X.loc[teidx] , y.loc[teidx] \n",
    "# -------------------------------------------------------\n",
    "#     X_train, X_test = X.loc[tridx],  X.loc[teidx]  \n",
    "#     y_train, y_test = y.loc[tridx],  y.loc[teidx]\n",
    "    \n",
    "    #print(f\"  Train index={tridx}\")\n",
    "    print(f\"  Test  index={test_index}\")\n",
    "    print(df.loc[test_index, 'target'].value_counts())\n",
    "    \n",
    "    model = DecisionTreeClassifier(random_state=11)\n",
    "    model.fit(X_train, y_train)\n",
    "    pred = model.predict(X_test)\n",
    "    score = accuracy_score(y_test, pred)\n",
    "    score_list.append(score)\n",
    "    \n",
    "    \n",
    "    \n",
    "    print(\"----\"*20)\n",
    "print(np.mean(score_list))\n"
   ]
  },
  {
   "cell_type": "code",
   "execution_count": 201,
   "id": "0b2ea0ba-f088-4259-9de2-8399f1ba7bd4",
   "metadata": {
    "tags": []
   },
   "outputs": [
    {
     "name": "stdout",
     "output_type": "stream",
     "text": [
      "Fold 0\n",
      "  Test  index=[  4   5  12  14  18  19  21  23  24  25  27  29  33  34  36  37  39  40\n",
      "  41  42  43  44  45  46  47  50  53  54  55  56  62  66  67  71  72  77\n",
      "  78  79  83  87  88  89  90  92  93  94  96  97  98  99 100 104 107 110\n",
      " 111 112 113 116 117 123 124 125 127 128 130 132 135 138 140 141 144 145\n",
      " 147 148 149]\n",
      "  Trian  index=[  0   1   2   3   6   7   8   9  10  11  13  15  16  17  20  22  26  28\n",
      "  30  31  32  35  38  48  49  51  52  57  58  59  60  61  63  64  65  68\n",
      "  69  70  73  74  75  76  80  81  82  84  85  86  91  95 101 102 103 105\n",
      " 106 108 109 114 115 118 119 120 121 122 126 129 131 133 134 136 137 139\n",
      " 142 143 146]\n",
      "--------------------------------------------------------------------------------\n",
      "Fold 1\n",
      "  Test  index=[  0   1   2   3   6   7   8   9  10  11  13  15  16  17  20  22  26  28\n",
      "  30  31  32  35  38  48  49  51  52  57  58  59  60  61  63  64  65  68\n",
      "  69  70  73  74  75  76  80  81  82  84  85  86  91  95 101 102 103 105\n",
      " 106 108 109 114 115 118 119 120 121 122 126 129 131 133 134 136 137 139\n",
      " 142 143 146]\n",
      "  Trian  index=[  4   5  12  14  18  19  21  23  24  25  27  29  33  34  36  37  39  40\n",
      "  41  42  43  44  45  46  47  50  53  54  55  56  62  66  67  71  72  77\n",
      "  78  79  83  87  88  89  90  92  93  94  96  97  98  99 100 104 107 110\n",
      " 111 112 113 116 117 123 124 125 127 128 130 132 135 138 140 141 144 145\n",
      " 147 148 149]\n",
      "--------------------------------------------------------------------------------\n"
     ]
    }
   ],
   "source": [
    "kf = KFold(n_splits=2, shuffle=True, random_state=1)\n",
    "score_list = []\n",
    "for i,  (train_index, test_index) in enumerate(skf.split(X,y)):\n",
    "    print(f\"Fold {i}\")\n",
    "    X_train = X.loc[train_index] \n",
    "    y_train = y.loc[train_index] \n",
    "    X_test  = X.loc[test_index]  \n",
    "    y_test  = y.loc[test_index] \n",
    "    print(f\"  Test  index={test_index}\")\n",
    "    print(f\"  Trian  index={train_index}\")\n",
    "    \n",
    "    print(\"----\"*20)"
   ]
  },
  {
   "cell_type": "markdown",
   "id": "e05f1edb-baa3-485a-9db0-9d556ac3195c",
   "metadata": {
    "tags": []
   },
   "source": [
    "## cross_val_score\n",
    "<pre>\n",
    "<b>sklearn.model_selection.cross_val_score(estimator, X, y=None, \n",
    "scoring=None, cv=None,  fit_params=None,</b> -- 예전에 좋았던 파라미터 튜닝 적용\n",
    "n_jobs=None(가용할 수 있는 thread 최대한 끌어들여서 써라), verbose=0(log),groups=None,  pre_dispatch='2*n_jobs'(메모리 미리 올려놓아라), error_score=nan)\n",
    "cv만큼 n번 모델 학습하고 점수들을 제시"
   ]
  },
  {
   "cell_type": "code",
   "execution_count": 131,
   "id": "d88078a1-c9a6-447e-ad8f-cf4c5d2ab05e",
   "metadata": {
    "tags": []
   },
   "outputs": [
    {
     "data": {
      "text/plain": [
       "0.9666666666666668"
      ]
     },
     "execution_count": 131,
     "metadata": {},
     "output_type": "execute_result"
    }
   ],
   "source": [
    "model = DecisionTreeClassifier(random_state = 1)\n",
    "score_list = cross_val_score(model, X, y, scoring = 'accuracy', cv = 5)\n",
    "np.mean(score_list)"
   ]
  },
  {
   "cell_type": "code",
   "execution_count": 139,
   "id": "1a1c47e9-2448-4ff3-8449-dedd28b4b6dd",
   "metadata": {
    "tags": []
   },
   "outputs": [
    {
     "data": {
      "text/plain": [
       "0.9333333333333332"
      ]
     },
     "execution_count": 139,
     "metadata": {},
     "output_type": "execute_result"
    }
   ],
   "source": [
    "kf = KFold(n_splits=5, random_state=1, shuffle=True)\n",
    "model = DecisionTreeClassifier(random_state = 1)\n",
    "score_list = cross_val_score(model, X, y, scoring = 'accuracy', cv = kf)\n",
    "np.mean(score_list)"
   ]
  },
  {
   "cell_type": "markdown",
   "id": "141e7420-96e1-4c95-acb6-e6897d8e959d",
   "metadata": {},
   "source": [
    "## cross_validate(교차검증)\n",
    "<pre>\n",
    "* 점수 :  train_score, test_score\n",
    "* 시간 :   fit_time,   score_time\n",
    "* test_score  + 이외의 것들 다 딕트로 준다"
   ]
  },
  {
   "cell_type": "code",
   "execution_count": 191,
   "id": "b7d2ed14-30bb-4461-9484-3a440a1ebf70",
   "metadata": {
    "tags": []
   },
   "outputs": [
    {
     "data": {
      "text/plain": [
       "0.9400000000000001"
      ]
     },
     "execution_count": 191,
     "metadata": {},
     "output_type": "execute_result"
    }
   ],
   "source": [
    "skf = StratifiedKFold(n_splits=5, shuffle=True, random_state=1)\n",
    "model = DecisionTreeClassifier(random_state = 1)\n",
    "score_dict = cross_validate(model, X, y, scoring = 'accuracy', cv = skf, return_train_score = True)\n",
    "np.mean(score_dict['test_score'])"
   ]
  },
  {
   "cell_type": "markdown",
   "id": "0b04e126-3909-435c-83ed-03ba3b1bbdb5",
   "metadata": {
    "tags": []
   },
   "source": [
    "## GridSearchCV\n",
    "<pre>\n",
    "* S.KFold + 하이퍼파라미터 튜닝\n",
    "* ref : https://scikit-learn.org/stable/modules/generated/sklearn.model_selection.GridSearchCV.html#sklearn.model_selection.GridSearchCVhttps://scikit-learn.org/stable/modules/generated/sklearn.model_selection.GridSearchCV.html#sklearn.model_selection.GridSearchCV\n",
    "<b>class sklearn.model_selection.GridSearchCV(estimator, scoring=None, cv=None, param_grid, refit=True, </b>\n",
    "*,  n_jobs=None,  verbose=0, pre_dispatch='2*n_jobs', error_score=nan, return_train_score=False)[source]\n",
    "models > 모델만든다, 데이터 입력 X, 파라미터 튜닝, 경우의 수마다 모두 학습해서 가장 좋은 파라미터 제시"
   ]
  },
  {
   "cell_type": "markdown",
   "id": "3a6cec10-be8b-441a-8dd9-809a32707286",
   "metadata": {},
   "source": [
    "<pre>\n",
    "DecisionTreeClassifier(*, criterion='gini', splitter='best', max_depth=None, min_samples_split=2, min_samples_leaf=1, \n",
    "                       min_weight_fraction_leaf=0.0, max_features=None, random_state=None, max_leaf_nodes=None, min_impurity_decrease=0.0, class_weight=None, ccp_alpha=0.0)"
   ]
  },
  {
   "cell_type": "code",
   "execution_count": 181,
   "id": "3a305dac-f729-43e5-b46a-f85909c4302b",
   "metadata": {
    "tags": []
   },
   "outputs": [
    {
     "data": {
      "text/plain": [
       "0.8666666666666667"
      ]
     },
     "execution_count": 181,
     "metadata": {},
     "output_type": "execute_result"
    }
   ],
   "source": [
    "skf = StratifiedKFold(n_splits=5, shuffle=True, random_state=1)\n",
    "model = DecisionTreeClassifier(random_state = 1)\n",
    "mydic = {\"min_samples_split\": [1,2,3,4], \n",
    "         \"min_samples_leaf\": [1,2,3,4]\n",
    "        }\n",
    "# DecisionTreeClassifier 파라미터 튜닝\n",
    "models = GridSearchCV(model, scoring = 'accuracy', cv = skf, param_grid=mydic, refit=True)\n",
    "models.fit(X_train, y_train)\n",
    "pred = models.predict(X_test)\n",
    "sc = accuracy_score(y_test, pred)\n",
    "sc"
   ]
  },
  {
   "cell_type": "code",
   "execution_count": 169,
   "id": "3f7212ae-29bb-4676-8350-5ad44b09c7c6",
   "metadata": {
    "tags": []
   },
   "outputs": [
    {
     "data": {
      "text/html": [
       "<style>#sk-container-id-10 {color: black;background-color: white;}#sk-container-id-10 pre{padding: 0;}#sk-container-id-10 div.sk-toggleable {background-color: white;}#sk-container-id-10 label.sk-toggleable__label {cursor: pointer;display: block;width: 100%;margin-bottom: 0;padding: 0.3em;box-sizing: border-box;text-align: center;}#sk-container-id-10 label.sk-toggleable__label-arrow:before {content: \"▸\";float: left;margin-right: 0.25em;color: #696969;}#sk-container-id-10 label.sk-toggleable__label-arrow:hover:before {color: black;}#sk-container-id-10 div.sk-estimator:hover label.sk-toggleable__label-arrow:before {color: black;}#sk-container-id-10 div.sk-toggleable__content {max-height: 0;max-width: 0;overflow: hidden;text-align: left;background-color: #f0f8ff;}#sk-container-id-10 div.sk-toggleable__content pre {margin: 0.2em;color: black;border-radius: 0.25em;background-color: #f0f8ff;}#sk-container-id-10 input.sk-toggleable__control:checked~div.sk-toggleable__content {max-height: 200px;max-width: 100%;overflow: auto;}#sk-container-id-10 input.sk-toggleable__control:checked~label.sk-toggleable__label-arrow:before {content: \"▾\";}#sk-container-id-10 div.sk-estimator input.sk-toggleable__control:checked~label.sk-toggleable__label {background-color: #d4ebff;}#sk-container-id-10 div.sk-label input.sk-toggleable__control:checked~label.sk-toggleable__label {background-color: #d4ebff;}#sk-container-id-10 input.sk-hidden--visually {border: 0;clip: rect(1px 1px 1px 1px);clip: rect(1px, 1px, 1px, 1px);height: 1px;margin: -1px;overflow: hidden;padding: 0;position: absolute;width: 1px;}#sk-container-id-10 div.sk-estimator {font-family: monospace;background-color: #f0f8ff;border: 1px dotted black;border-radius: 0.25em;box-sizing: border-box;margin-bottom: 0.5em;}#sk-container-id-10 div.sk-estimator:hover {background-color: #d4ebff;}#sk-container-id-10 div.sk-parallel-item::after {content: \"\";width: 100%;border-bottom: 1px solid gray;flex-grow: 1;}#sk-container-id-10 div.sk-label:hover label.sk-toggleable__label {background-color: #d4ebff;}#sk-container-id-10 div.sk-serial::before {content: \"\";position: absolute;border-left: 1px solid gray;box-sizing: border-box;top: 0;bottom: 0;left: 50%;z-index: 0;}#sk-container-id-10 div.sk-serial {display: flex;flex-direction: column;align-items: center;background-color: white;padding-right: 0.2em;padding-left: 0.2em;position: relative;}#sk-container-id-10 div.sk-item {position: relative;z-index: 1;}#sk-container-id-10 div.sk-parallel {display: flex;align-items: stretch;justify-content: center;background-color: white;position: relative;}#sk-container-id-10 div.sk-item::before, #sk-container-id-10 div.sk-parallel-item::before {content: \"\";position: absolute;border-left: 1px solid gray;box-sizing: border-box;top: 0;bottom: 0;left: 50%;z-index: -1;}#sk-container-id-10 div.sk-parallel-item {display: flex;flex-direction: column;z-index: 1;position: relative;background-color: white;}#sk-container-id-10 div.sk-parallel-item:first-child::after {align-self: flex-end;width: 50%;}#sk-container-id-10 div.sk-parallel-item:last-child::after {align-self: flex-start;width: 50%;}#sk-container-id-10 div.sk-parallel-item:only-child::after {width: 0;}#sk-container-id-10 div.sk-dashed-wrapped {border: 1px dashed gray;margin: 0 0.4em 0.5em 0.4em;box-sizing: border-box;padding-bottom: 0.4em;background-color: white;}#sk-container-id-10 div.sk-label label {font-family: monospace;font-weight: bold;display: inline-block;line-height: 1.2em;}#sk-container-id-10 div.sk-label-container {text-align: center;}#sk-container-id-10 div.sk-container {/* jupyter's `normalize.less` sets `[hidden] { display: none; }` but bootstrap.min.css set `[hidden] { display: none !important; }` so we also need the `!important` here to be able to override the default hidden behavior on the sphinx rendered scikit-learn.org. See: https://github.com/scikit-learn/scikit-learn/issues/21755 */display: inline-block !important;position: relative;}#sk-container-id-10 div.sk-text-repr-fallback {display: none;}</style><div id=\"sk-container-id-10\" class=\"sk-top-container\"><div class=\"sk-text-repr-fallback\"><pre>DecisionTreeClassifier(min_samples_split=1, random_state=1)</pre><b>In a Jupyter environment, please rerun this cell to show the HTML representation or trust the notebook. <br />On GitHub, the HTML representation is unable to render, please try loading this page with nbviewer.org.</b></div><div class=\"sk-container\" hidden><div class=\"sk-item\"><div class=\"sk-estimator sk-toggleable\"><input class=\"sk-toggleable__control sk-hidden--visually\" id=\"sk-estimator-id-20\" type=\"checkbox\" checked><label for=\"sk-estimator-id-20\" class=\"sk-toggleable__label sk-toggleable__label-arrow\">DecisionTreeClassifier</label><div class=\"sk-toggleable__content\"><pre>DecisionTreeClassifier(min_samples_split=1, random_state=1)</pre></div></div></div></div></div>"
      ],
      "text/plain": [
       "DecisionTreeClassifier(min_samples_split=1, random_state=1)"
      ]
     },
     "execution_count": 169,
     "metadata": {},
     "output_type": "execute_result"
    }
   ],
   "source": [
    "models.best_estimator_"
   ]
  },
  {
   "cell_type": "code",
   "execution_count": 179,
   "id": "79b96811-485c-4c92-97eb-6f878328b938",
   "metadata": {
    "tags": []
   },
   "outputs": [
    {
     "data": {
      "text/plain": [
       "0.975"
      ]
     },
     "execution_count": 179,
     "metadata": {},
     "output_type": "execute_result"
    }
   ],
   "source": [
    "models.best_score_"
   ]
  },
  {
   "cell_type": "code",
   "execution_count": 171,
   "id": "3e94a266-25cc-4357-b90a-ae41280de318",
   "metadata": {
    "tags": []
   },
   "outputs": [
    {
     "data": {
      "text/plain": [
       "{'min_samples_leaf': 1,\n",
       " 'min_samples_split': 1,\n",
       " 'min_weight_fraction_leaf': 0.0}"
      ]
     },
     "execution_count": 171,
     "metadata": {},
     "output_type": "execute_result"
    }
   ],
   "source": [
    "models.best_params_"
   ]
  },
  {
   "cell_type": "code",
   "execution_count": 161,
   "id": "28e66c85-47be-43a4-a890-64ed883e28ab",
   "metadata": {
    "tags": []
   },
   "outputs": [
    {
     "data": {
      "text/html": [
       "<div>\n",
       "<style scoped>\n",
       "    .dataframe tbody tr th:only-of-type {\n",
       "        vertical-align: middle;\n",
       "    }\n",
       "\n",
       "    .dataframe tbody tr th {\n",
       "        vertical-align: top;\n",
       "    }\n",
       "\n",
       "    .dataframe thead th {\n",
       "        text-align: right;\n",
       "    }\n",
       "</style>\n",
       "<table border=\"1\" class=\"dataframe\">\n",
       "  <thead>\n",
       "    <tr style=\"text-align: right;\">\n",
       "      <th></th>\n",
       "      <th>mean_fit_time</th>\n",
       "      <th>std_fit_time</th>\n",
       "      <th>mean_score_time</th>\n",
       "      <th>std_score_time</th>\n",
       "      <th>param_min_samples_leaf</th>\n",
       "      <th>param_min_samples_split</th>\n",
       "      <th>params</th>\n",
       "      <th>split0_test_score</th>\n",
       "      <th>split1_test_score</th>\n",
       "      <th>split2_test_score</th>\n",
       "      <th>split3_test_score</th>\n",
       "      <th>split4_test_score</th>\n",
       "      <th>mean_test_score</th>\n",
       "      <th>std_test_score</th>\n",
       "      <th>rank_test_score</th>\n",
       "    </tr>\n",
       "  </thead>\n",
       "  <tbody>\n",
       "    <tr>\n",
       "      <th>0</th>\n",
       "      <td>0.003194</td>\n",
       "      <td>0.001162</td>\n",
       "      <td>0.002386</td>\n",
       "      <td>0.000802</td>\n",
       "      <td>1</td>\n",
       "      <td>1</td>\n",
       "      <td>{'min_samples_leaf': 1, 'min_samples_split': 1}</td>\n",
       "      <td>0.958333</td>\n",
       "      <td>0.958333</td>\n",
       "      <td>0.958333</td>\n",
       "      <td>1.0</td>\n",
       "      <td>1.0</td>\n",
       "      <td>0.975</td>\n",
       "      <td>0.020412</td>\n",
       "      <td>1</td>\n",
       "    </tr>\n",
       "    <tr>\n",
       "      <th>1</th>\n",
       "      <td>0.002787</td>\n",
       "      <td>0.000753</td>\n",
       "      <td>0.001801</td>\n",
       "      <td>0.000402</td>\n",
       "      <td>1</td>\n",
       "      <td>2</td>\n",
       "      <td>{'min_samples_leaf': 1, 'min_samples_split': 2}</td>\n",
       "      <td>0.958333</td>\n",
       "      <td>0.958333</td>\n",
       "      <td>0.958333</td>\n",
       "      <td>1.0</td>\n",
       "      <td>1.0</td>\n",
       "      <td>0.975</td>\n",
       "      <td>0.020412</td>\n",
       "      <td>1</td>\n",
       "    </tr>\n",
       "  </tbody>\n",
       "</table>\n",
       "</div>"
      ],
      "text/plain": [
       "   mean_fit_time  std_fit_time  mean_score_time  std_score_time  \\\n",
       "0       0.003194      0.001162         0.002386        0.000802   \n",
       "1       0.002787      0.000753         0.001801        0.000402   \n",
       "\n",
       "  param_min_samples_leaf param_min_samples_split  \\\n",
       "0                      1                       1   \n",
       "1                      1                       2   \n",
       "\n",
       "                                            params  split0_test_score  \\\n",
       "0  {'min_samples_leaf': 1, 'min_samples_split': 1}           0.958333   \n",
       "1  {'min_samples_leaf': 1, 'min_samples_split': 2}           0.958333   \n",
       "\n",
       "   split1_test_score  split2_test_score  split3_test_score  split4_test_score  \\\n",
       "0           0.958333           0.958333                1.0                1.0   \n",
       "1           0.958333           0.958333                1.0                1.0   \n",
       "\n",
       "   mean_test_score  std_test_score  rank_test_score  \n",
       "0            0.975        0.020412                1  \n",
       "1            0.975        0.020412                1  "
      ]
     },
     "execution_count": 161,
     "metadata": {},
     "output_type": "execute_result"
    }
   ],
   "source": [
    "ss = pd.DataFrame(models.cv_results_)\n",
    "ss.head(2)"
   ]
  },
  {
   "cell_type": "markdown",
   "id": "a37488c9-46ba-4fe2-b02e-2fb789825012",
   "metadata": {
    "tags": []
   },
   "source": [
    "## K-Fold 외 교차검증(Cross Validation)\n",
    "<pre>\n",
    "K-Fold : K개의 폴드로 나누어 cv횟수만큼 반복 학습\n",
    "\n",
    "홀드아웃 (Holdout)    : 비복원추출 \n",
    "부트스트랩(Bootstrap) : 복원추출(63.2%)\n",
    "\n",
    "LOOCV(Leave One Out Cross Validation)   : test 폴드(1개데이터)\n",
    "LpOCV(Leave p     Out Cross Validation) : test 폴드(p개데이터)"
   ]
  },
  {
   "cell_type": "code",
   "execution_count": null,
   "id": "504ed4a0-d0d0-4976-b616-928a50ed1a4b",
   "metadata": {},
   "outputs": [],
   "source": []
  },
  {
   "cell_type": "code",
   "execution_count": null,
   "id": "32e7523c-0f55-482b-b427-3d52eb30e919",
   "metadata": {},
   "outputs": [],
   "source": []
  }
 ],
 "metadata": {
  "kernelspec": {
   "display_name": "Python 3 (ipykernel)",
   "language": "python",
   "name": "python3"
  },
  "language_info": {
   "codemirror_mode": {
    "name": "ipython",
    "version": 3
   },
   "file_extension": ".py",
   "mimetype": "text/x-python",
   "name": "python",
   "nbconvert_exporter": "python",
   "pygments_lexer": "ipython3",
   "version": "3.8.8"
  },
  "toc-autonumbering": true
 },
 "nbformat": 4,
 "nbformat_minor": 5
}
