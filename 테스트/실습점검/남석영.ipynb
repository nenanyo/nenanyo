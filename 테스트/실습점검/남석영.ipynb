{
 "cells": [
  {
   "cell_type": "code",
   "execution_count": null,
   "id": "62d4294c-09a6-4d07-b70a-fc1f54205717",
   "metadata": {},
   "outputs": [],
   "source": []
  },
  {
   "cell_type": "markdown",
   "id": "768b9d89-de14-4271-a035-0e37a58ab4b9",
   "metadata": {},
   "source": [
    "# 효율적 투자 전략\n",
    "* 대상 종목 : 주식, 채권"
   ]
  },
  {
   "cell_type": "code",
   "execution_count": 1,
   "id": "326e812e-518d-4b25-9bbd-078caa566196",
   "metadata": {},
   "outputs": [
    {
     "data": {
      "text/html": [
       "<style>.container{width:100% !important;}</style>"
      ],
      "text/plain": [
       "<IPython.core.display.HTML object>"
      ]
     },
     "metadata": {},
     "output_type": "display_data"
    }
   ],
   "source": [
    "from IPython.display import Image\n",
    "import pandas as pd\n",
    "import numpy as np\n",
    "import matplotlib.pyplot as plt\n",
    "import seaborn as sns\n",
    "\n",
    "\n",
    "import warnings\n",
    "warnings.filterwarnings(action='ignore')\n",
    "sns.set()\n",
    "\n",
    "#-------------------- 차트 관련 속성 (한글처리, 그리드) -----------\n",
    "#plt.rc('font', family='NanumGothicOTF') # For MacOS\n",
    "plt.rcParams['font.family']= 'Malgun Gothic'\n",
    "plt.rcParams['axes.unicode_minus'] = False\n",
    "\n",
    "\n",
    "#-------------------- 주피터 , 출력결과 넓이 늘리기 ---------------\n",
    "from IPython.core.display import display, HTML\n",
    "display(HTML(\"<style>.container{width:100% !important;}</style>\"))\n",
    "pd.set_option('display.max_rows', 100)\n",
    "pd.set_option('display.max_columns', 100)\n",
    "pd.set_option('max_colwidth', None)\n",
    "\n"
   ]
  },
  {
   "cell_type": "markdown",
   "id": "1219097d-e110-4562-b4aa-6d8143e8e5a4",
   "metadata": {
    "tags": []
   },
   "source": [
    "# DataLoad"
   ]
  },
  {
   "cell_type": "code",
   "execution_count": 2,
   "id": "cc6baeb7-7f3d-4a1d-83b2-c9c8703f9eb8",
   "metadata": {
    "tags": []
   },
   "outputs": [],
   "source": [
    "sdf = pd.read_csv(\"./datasets/kodex_stock.csv\")\n",
    "bdf = pd.read_csv(\"./datasets/kodex_bond10y.csv\")"
   ]
  },
  {
   "cell_type": "code",
   "execution_count": 3,
   "id": "e94a1dd0-bf8c-42d8-980a-509666b49f20",
   "metadata": {
    "tags": []
   },
   "outputs": [
    {
     "data": {
      "text/plain": [
       "((1845, 6), (1845, 6))"
      ]
     },
     "execution_count": 3,
     "metadata": {},
     "output_type": "execute_result"
    }
   ],
   "source": [
    "sdf.shape, bdf.shape"
   ]
  },
  {
   "cell_type": "code",
   "execution_count": 4,
   "id": "ac9785e5-cc37-444d-b9b1-db513e8f8df1",
   "metadata": {
    "tags": []
   },
   "outputs": [
    {
     "data": {
      "text/html": [
       "<div>\n",
       "<style scoped>\n",
       "    .dataframe tbody tr th:only-of-type {\n",
       "        vertical-align: middle;\n",
       "    }\n",
       "\n",
       "    .dataframe tbody tr th {\n",
       "        vertical-align: top;\n",
       "    }\n",
       "\n",
       "    .dataframe thead th {\n",
       "        text-align: right;\n",
       "    }\n",
       "</style>\n",
       "<table border=\"1\" class=\"dataframe\">\n",
       "  <thead>\n",
       "    <tr style=\"text-align: right;\">\n",
       "      <th></th>\n",
       "      <th>close</th>\n",
       "      <th>high</th>\n",
       "      <th>low</th>\n",
       "      <th>open</th>\n",
       "      <th>volume</th>\n",
       "    </tr>\n",
       "    <tr>\n",
       "      <th>dt</th>\n",
       "      <th></th>\n",
       "      <th></th>\n",
       "      <th></th>\n",
       "      <th></th>\n",
       "      <th></th>\n",
       "    </tr>\n",
       "  </thead>\n",
       "  <tbody>\n",
       "    <tr>\n",
       "      <th>2012-01-20</th>\n",
       "      <td>49960.0</td>\n",
       "      <td>50040.0</td>\n",
       "      <td>49960.0</td>\n",
       "      <td>50040.0</td>\n",
       "      <td>3276.0</td>\n",
       "    </tr>\n",
       "    <tr>\n",
       "      <th>2012-01-25</th>\n",
       "      <td>49960.0</td>\n",
       "      <td>49960.0</td>\n",
       "      <td>49960.0</td>\n",
       "      <td>49960.0</td>\n",
       "      <td>100.0</td>\n",
       "    </tr>\n",
       "  </tbody>\n",
       "</table>\n",
       "</div>"
      ],
      "text/plain": [
       "              close     high      low     open  volume\n",
       "dt                                                    \n",
       "2012-01-20  49960.0  50040.0  49960.0  50040.0  3276.0\n",
       "2012-01-25  49960.0  49960.0  49960.0  49960.0   100.0"
      ]
     },
     "execution_count": 4,
     "metadata": {},
     "output_type": "execute_result"
    }
   ],
   "source": [
    "sdf = sdf.set_index(\"dt\")\n",
    "sdf.head(2)"
   ]
  },
  {
   "cell_type": "code",
   "execution_count": 5,
   "id": "71d762bc-8aaf-4a05-bf3e-02721a3691b5",
   "metadata": {
    "tags": []
   },
   "outputs": [
    {
     "data": {
      "text/html": [
       "<div>\n",
       "<style scoped>\n",
       "    .dataframe tbody tr th:only-of-type {\n",
       "        vertical-align: middle;\n",
       "    }\n",
       "\n",
       "    .dataframe tbody tr th {\n",
       "        vertical-align: top;\n",
       "    }\n",
       "\n",
       "    .dataframe thead th {\n",
       "        text-align: right;\n",
       "    }\n",
       "</style>\n",
       "<table border=\"1\" class=\"dataframe\">\n",
       "  <thead>\n",
       "    <tr style=\"text-align: right;\">\n",
       "      <th></th>\n",
       "      <th>close</th>\n",
       "      <th>high</th>\n",
       "      <th>low</th>\n",
       "      <th>open</th>\n",
       "      <th>volume</th>\n",
       "    </tr>\n",
       "    <tr>\n",
       "      <th>dt</th>\n",
       "      <th></th>\n",
       "      <th></th>\n",
       "      <th></th>\n",
       "      <th></th>\n",
       "      <th></th>\n",
       "    </tr>\n",
       "  </thead>\n",
       "  <tbody>\n",
       "    <tr>\n",
       "      <th>2012-01-20</th>\n",
       "      <td>23197.4</td>\n",
       "      <td>23264.1</td>\n",
       "      <td>22801.9</td>\n",
       "      <td>22833.0</td>\n",
       "      <td>5205309.5</td>\n",
       "    </tr>\n",
       "    <tr>\n",
       "      <th>2012-01-25</th>\n",
       "      <td>23277.4</td>\n",
       "      <td>23539.6</td>\n",
       "      <td>23161.9</td>\n",
       "      <td>23197.4</td>\n",
       "      <td>7721437.0</td>\n",
       "    </tr>\n",
       "  </tbody>\n",
       "</table>\n",
       "</div>"
      ],
      "text/plain": [
       "              close     high      low     open     volume\n",
       "dt                                                       \n",
       "2012-01-20  23197.4  23264.1  22801.9  22833.0  5205309.5\n",
       "2012-01-25  23277.4  23539.6  23161.9  23197.4  7721437.0"
      ]
     },
     "execution_count": 5,
     "metadata": {},
     "output_type": "execute_result"
    }
   ],
   "source": [
    "bdf = bdf.set_index(\"dt\")\n",
    "bdf.head(2)"
   ]
  },
  {
   "cell_type": "markdown",
   "id": "ef751213-7d79-49e8-8d88-494b79ba4310",
   "metadata": {},
   "source": [
    "# df"
   ]
  },
  {
   "cell_type": "code",
   "execution_count": 6,
   "id": "3315a4e4-d3b4-4ba7-bc41-4e8f2dfc9562",
   "metadata": {
    "tags": []
   },
   "outputs": [
    {
     "data": {
      "text/html": [
       "<div>\n",
       "<style scoped>\n",
       "    .dataframe tbody tr th:only-of-type {\n",
       "        vertical-align: middle;\n",
       "    }\n",
       "\n",
       "    .dataframe tbody tr th {\n",
       "        vertical-align: top;\n",
       "    }\n",
       "\n",
       "    .dataframe thead th {\n",
       "        text-align: right;\n",
       "    }\n",
       "</style>\n",
       "<table border=\"1\" class=\"dataframe\">\n",
       "  <thead>\n",
       "    <tr style=\"text-align: right;\">\n",
       "      <th></th>\n",
       "      <th>stock</th>\n",
       "    </tr>\n",
       "    <tr>\n",
       "      <th>dt</th>\n",
       "      <th></th>\n",
       "    </tr>\n",
       "  </thead>\n",
       "  <tbody>\n",
       "    <tr>\n",
       "      <th>2012-01-20</th>\n",
       "      <td>49960.0</td>\n",
       "    </tr>\n",
       "  </tbody>\n",
       "</table>\n",
       "</div>"
      ],
      "text/plain": [
       "              stock\n",
       "dt                 \n",
       "2012-01-20  49960.0"
      ]
     },
     "execution_count": 6,
     "metadata": {},
     "output_type": "execute_result"
    }
   ],
   "source": [
    "sdf = pd.DataFrame(sdf[\"close\"])\n",
    "sdf = sdf.rename(columns={'close': 'stock'})\n",
    "sdf.head(1)"
   ]
  },
  {
   "cell_type": "code",
   "execution_count": 7,
   "id": "8531fbe6-3256-4afa-996f-d83318985c1c",
   "metadata": {
    "tags": []
   },
   "outputs": [
    {
     "data": {
      "text/html": [
       "<div>\n",
       "<style scoped>\n",
       "    .dataframe tbody tr th:only-of-type {\n",
       "        vertical-align: middle;\n",
       "    }\n",
       "\n",
       "    .dataframe tbody tr th {\n",
       "        vertical-align: top;\n",
       "    }\n",
       "\n",
       "    .dataframe thead th {\n",
       "        text-align: right;\n",
       "    }\n",
       "</style>\n",
       "<table border=\"1\" class=\"dataframe\">\n",
       "  <thead>\n",
       "    <tr style=\"text-align: right;\">\n",
       "      <th></th>\n",
       "      <th>bond</th>\n",
       "    </tr>\n",
       "    <tr>\n",
       "      <th>dt</th>\n",
       "      <th></th>\n",
       "    </tr>\n",
       "  </thead>\n",
       "  <tbody>\n",
       "    <tr>\n",
       "      <th>2012-01-20</th>\n",
       "      <td>23197.4</td>\n",
       "    </tr>\n",
       "  </tbody>\n",
       "</table>\n",
       "</div>"
      ],
      "text/plain": [
       "               bond\n",
       "dt                 \n",
       "2012-01-20  23197.4"
      ]
     },
     "execution_count": 7,
     "metadata": {},
     "output_type": "execute_result"
    }
   ],
   "source": [
    "bdf = pd.DataFrame(bdf[\"close\"])\n",
    "bdf = bdf.rename(columns={'close': 'bond'})\n",
    "bdf.head(1)"
   ]
  },
  {
   "cell_type": "code",
   "execution_count": 8,
   "id": "c92dbd92-c319-44dc-8628-1746f2534fb5",
   "metadata": {
    "tags": []
   },
   "outputs": [
    {
     "data": {
      "text/html": [
       "<div>\n",
       "<style scoped>\n",
       "    .dataframe tbody tr th:only-of-type {\n",
       "        vertical-align: middle;\n",
       "    }\n",
       "\n",
       "    .dataframe tbody tr th {\n",
       "        vertical-align: top;\n",
       "    }\n",
       "\n",
       "    .dataframe thead th {\n",
       "        text-align: right;\n",
       "    }\n",
       "</style>\n",
       "<table border=\"1\" class=\"dataframe\">\n",
       "  <thead>\n",
       "    <tr style=\"text-align: right;\">\n",
       "      <th></th>\n",
       "      <th>stock</th>\n",
       "      <th>bond</th>\n",
       "    </tr>\n",
       "    <tr>\n",
       "      <th>dt</th>\n",
       "      <th></th>\n",
       "      <th></th>\n",
       "    </tr>\n",
       "  </thead>\n",
       "  <tbody>\n",
       "    <tr>\n",
       "      <th>2012-01-20</th>\n",
       "      <td>49960.0</td>\n",
       "      <td>23197.4</td>\n",
       "    </tr>\n",
       "    <tr>\n",
       "      <th>2012-01-25</th>\n",
       "      <td>49960.0</td>\n",
       "      <td>23277.4</td>\n",
       "    </tr>\n",
       "  </tbody>\n",
       "</table>\n",
       "</div>"
      ],
      "text/plain": [
       "              stock     bond\n",
       "dt                          \n",
       "2012-01-20  49960.0  23197.4\n",
       "2012-01-25  49960.0  23277.4"
      ]
     },
     "execution_count": 8,
     "metadata": {},
     "output_type": "execute_result"
    }
   ],
   "source": [
    "df  =pd.concat([sdf, bdf], axis=1)\n",
    "df.head(2)"
   ]
  },
  {
   "cell_type": "markdown",
   "id": "8ab5c6c6-f064-41e8-8b7e-ec09676d5649",
   "metadata": {},
   "source": [
    "<!-- # 수익률 -->"
   ]
  },
  {
   "cell_type": "code",
   "execution_count": null,
   "id": "237c348a-3e29-4c6f-b4f3-efa018b9220e",
   "metadata": {
    "tags": []
   },
   "outputs": [],
   "source": [
    "# df[\"stock\"] = df[\"stock\"].pct_change()\n",
    "# df[\"bond\"] = df[\"bond\"].pct_change()\n",
    "# df = df.dropna()\n",
    "# df.head(3)"
   ]
  },
  {
   "cell_type": "code",
   "execution_count": null,
   "id": "d5c1378a-2e57-46e3-b33a-e2d9b7d21242",
   "metadata": {
    "tags": []
   },
   "outputs": [],
   "source": [
    "# annual_stock_ret = df[\"stock\"].mean() *252\n",
    "# annual_bond_ret = df[\"bond\"].mean() *252\n",
    "# annual_stock_ret, annual_bond_ret"
   ]
  },
  {
   "cell_type": "markdown",
   "id": "f84ed6df-454e-496f-b0d4-ad137f2bfca5",
   "metadata": {},
   "source": [
    "<!-- # 공분산행렬 -->"
   ]
  },
  {
   "cell_type": "code",
   "execution_count": null,
   "id": "4c68dcc6-46d3-445a-bcd9-df39fb567084",
   "metadata": {
    "tags": []
   },
   "outputs": [],
   "source": [
    "# cov = df.cov()\n",
    "# cov"
   ]
  },
  {
   "cell_type": "code",
   "execution_count": null,
   "id": "7e898023-7726-457f-bfad-9b78da82f2fb",
   "metadata": {
    "tags": []
   },
   "outputs": [],
   "source": [
    "# annual_cov = cov * 252\n",
    "# annual_cov"
   ]
  },
  {
   "cell_type": "code",
   "execution_count": null,
   "id": "70bd7323-6558-4d8c-a89d-f089726c5dd1",
   "metadata": {},
   "outputs": [],
   "source": []
  },
  {
   "cell_type": "code",
   "execution_count": null,
   "id": "81625aba-83ed-4e3d-997d-1eb9a391f7c2",
   "metadata": {
    "tags": []
   },
   "outputs": [],
   "source": [
    "# len(df.columns)"
   ]
  },
  {
   "cell_type": "markdown",
   "id": "140cc273-a33e-4218-a765-ccc26b8d2aee",
   "metadata": {},
   "source": [
    "# 수익률, 위험성"
   ]
  },
  {
   "cell_type": "code",
   "execution_count": 33,
   "id": "4200c263-7841-4684-a33d-cbf32c68831c",
   "metadata": {},
   "outputs": [],
   "source": [
    "stocks = df.columns\n",
    "\n",
    "daily_ret  = df.pct_change()\n",
    "annual_ret = daily_ret.mean() * 252\n",
    "daily_cov  = daily_ret.cov()\n",
    "annual_cov = daily_ret.cov() * 252\n",
    "\n",
    "port_return = []\n",
    "port_risk   = []\n",
    "port_weight = []\n",
    "port_sharpe = []\n",
    "\n",
    "for _ in range(20000):\n",
    "    weights  = np.random.random(len(stocks))\n",
    "    weights /= np.sum(weights)\n",
    "    \n",
    "    returns = np.dot(weights,annual_ret)\n",
    "    risk    = np.dot(np.dot(weights, annual_cov),weights.T)\n",
    "    sharpe  = returns/risk\n",
    "    \n",
    "    port_return.append(returns)\n",
    "    port_risk.append(risk)\n",
    "    port_weight.append(weights)\n",
    "    port_sharpe.append(sharpe)\n",
    "    \n",
    "portfolio = {\"port_return\":port_return,\"port_risk\":port_risk, \"port_sharpe\":port_sharpe }\n",
    "for i, s in enumerate(stocks):\n",
    "    portfolio[s] = [weight[i] for weight in port_weight] \n",
    "pt_df = pd.DataFrame(portfolio)\n",
    "\n"
   ]
  },
  {
   "cell_type": "code",
   "execution_count": 25,
   "id": "01f1bacd-0812-4559-8358-4fe7360e492c",
   "metadata": {
    "tags": []
   },
   "outputs": [
    {
     "data": {
      "image/png": "[encoded data removed]",
      "text/plain": [
       "<Figure size 800x600 with 1 Axes>"
      ]
     },
     "metadata": {},
     "output_type": "display_data"
    }
   ],
   "source": [
    "pt_df.plot.scatter(x='port_risk', y='port_return', figsize=(8, 6), grid=True)\n",
    "plt.title('Efficient Frontier') \n",
    "plt.xlabel('Risk') \n",
    "plt.ylabel('Returns') \n",
    "plt.show() "
   ]
  },
  {
   "cell_type": "markdown",
   "id": "c66b0f79-08d6-454d-8a9b-ddec599a5e7d",
   "metadata": {},
   "source": [
    "# 효율적 투자"
   ]
  },
  {
   "cell_type": "markdown",
   "id": "eca4c7ea-0763-414f-bed7-929df77ff210",
   "metadata": {},
   "source": [
    "## 샤프지수 최대"
   ]
  },
  {
   "cell_type": "code",
   "execution_count": 35,
   "id": "bfb31831-1ff5-4059-a416-1399ad377860",
   "metadata": {
    "tags": []
   },
   "outputs": [
    {
     "data": {
      "text/html": [
       "<div>\n",
       "<style scoped>\n",
       "    .dataframe tbody tr th:only-of-type {\n",
       "        vertical-align: middle;\n",
       "    }\n",
       "\n",
       "    .dataframe tbody tr th {\n",
       "        vertical-align: top;\n",
       "    }\n",
       "\n",
       "    .dataframe thead th {\n",
       "        text-align: right;\n",
       "    }\n",
       "</style>\n",
       "<table border=\"1\" class=\"dataframe\">\n",
       "  <thead>\n",
       "    <tr style=\"text-align: right;\">\n",
       "      <th></th>\n",
       "      <th>port_return</th>\n",
       "      <th>port_risk</th>\n",
       "      <th>port_sharpe</th>\n",
       "      <th>stock</th>\n",
       "      <th>bond</th>\n",
       "    </tr>\n",
       "  </thead>\n",
       "  <tbody>\n",
       "    <tr>\n",
       "      <th>3650</th>\n",
       "      <td>0.048209</td>\n",
       "      <td>0.001586</td>\n",
       "      <td>30.402765</td>\n",
       "      <td>0.88368</td>\n",
       "      <td>0.11632</td>\n",
       "    </tr>\n",
       "  </tbody>\n",
       "</table>\n",
       "</div>"
      ],
      "text/plain": [
       "      port_return  port_risk  port_sharpe    stock     bond\n",
       "3650     0.048209   0.001586    30.402765  0.88368  0.11632"
      ]
     },
     "execution_count": 35,
     "metadata": {},
     "output_type": "execute_result"
    }
   ],
   "source": [
    "sharpe_max = pt_df[pt_df[\"port_sharpe\"] ==pt_df[\"port_sharpe\"].max()]\n",
    "sharpe_max"
   ]
  },
  {
   "cell_type": "markdown",
   "id": "28ed4344-8301-497d-96a2-79e54cd10834",
   "metadata": {},
   "source": [
    "## 위험 최소"
   ]
  },
  {
   "cell_type": "code",
   "execution_count": 36,
   "id": "38638cbd-aa67-477b-b843-c584795afff1",
   "metadata": {
    "tags": []
   },
   "outputs": [
    {
     "data": {
      "text/html": [
       "<div>\n",
       "<style scoped>\n",
       "    .dataframe tbody tr th:only-of-type {\n",
       "        vertical-align: middle;\n",
       "    }\n",
       "\n",
       "    .dataframe tbody tr th {\n",
       "        vertical-align: top;\n",
       "    }\n",
       "\n",
       "    .dataframe thead th {\n",
       "        text-align: right;\n",
       "    }\n",
       "</style>\n",
       "<table border=\"1\" class=\"dataframe\">\n",
       "  <thead>\n",
       "    <tr style=\"text-align: right;\">\n",
       "      <th></th>\n",
       "      <th>port_return</th>\n",
       "      <th>port_risk</th>\n",
       "      <th>port_sharpe</th>\n",
       "      <th>stock</th>\n",
       "      <th>bond</th>\n",
       "    </tr>\n",
       "  </thead>\n",
       "  <tbody>\n",
       "    <tr>\n",
       "      <th>4605</th>\n",
       "      <td>0.047945</td>\n",
       "      <td>0.001581</td>\n",
       "      <td>30.31929</td>\n",
       "      <td>0.868877</td>\n",
       "      <td>0.131123</td>\n",
       "    </tr>\n",
       "  </tbody>\n",
       "</table>\n",
       "</div>"
      ],
      "text/plain": [
       "      port_return  port_risk  port_sharpe     stock      bond\n",
       "4605     0.047945   0.001581     30.31929  0.868877  0.131123"
      ]
     },
     "execution_count": 36,
     "metadata": {},
     "output_type": "execute_result"
    }
   ],
   "source": [
    "risk_min = pt_df[pt_df[\"port_risk\"] ==pt_df[\"port_risk\"].min()]\n",
    "risk_min"
   ]
  },
  {
   "cell_type": "markdown",
   "id": "6248d56e-6aa2-4945-9a22-49b8e32da792",
   "metadata": {},
   "source": [
    "## 수익 최대"
   ]
  },
  {
   "cell_type": "code",
   "execution_count": 37,
   "id": "26836214-6faf-45c5-9190-f3862672276c",
   "metadata": {
    "tags": []
   },
   "outputs": [
    {
     "data": {
      "text/html": [
       "<div>\n",
       "<style scoped>\n",
       "    .dataframe tbody tr th:only-of-type {\n",
       "        vertical-align: middle;\n",
       "    }\n",
       "\n",
       "    .dataframe tbody tr th {\n",
       "        vertical-align: top;\n",
       "    }\n",
       "\n",
       "    .dataframe thead th {\n",
       "        text-align: right;\n",
       "    }\n",
       "</style>\n",
       "<table border=\"1\" class=\"dataframe\">\n",
       "  <thead>\n",
       "    <tr style=\"text-align: right;\">\n",
       "      <th></th>\n",
       "      <th>port_return</th>\n",
       "      <th>port_risk</th>\n",
       "      <th>port_sharpe</th>\n",
       "      <th>stock</th>\n",
       "      <th>bond</th>\n",
       "    </tr>\n",
       "  </thead>\n",
       "  <tbody>\n",
       "    <tr>\n",
       "      <th>1891</th>\n",
       "      <td>0.050283</td>\n",
       "      <td>0.001922</td>\n",
       "      <td>26.162648</td>\n",
       "      <td>0.999655</td>\n",
       "      <td>0.000345</td>\n",
       "    </tr>\n",
       "  </tbody>\n",
       "</table>\n",
       "</div>"
      ],
      "text/plain": [
       "      port_return  port_risk  port_sharpe     stock      bond\n",
       "1891     0.050283   0.001922    26.162648  0.999655  0.000345"
      ]
     },
     "execution_count": 37,
     "metadata": {},
     "output_type": "execute_result"
    }
   ],
   "source": [
    "return_max = pt_df[pt_df[\"port_return\"] ==pt_df[\"port_return\"].max()]\n",
    "return_max"
   ]
  },
  {
   "cell_type": "code",
   "execution_count": 40,
   "id": "7ad847ff-cd97-429a-84aa-0d0f06d2ded1",
   "metadata": {
    "tags": []
   },
   "outputs": [
    {
     "data": {
      "image/png": "[encoded data removed]",
      "text/plain": [
       "<Figure size 1000x500 with 1 Axes>"
      ]
     },
     "metadata": {},
     "output_type": "display_data"
    }
   ],
   "source": [
    "plt.figure(figsize=(10,5))\n",
    "sns.scatterplot(pt_df, x=\"port_risk\",y=\"port_return\")\n",
    "sns.scatterplot(sharpe_max, x=\"port_risk\",y=\"port_return\",marker=\"*\", c=\"red\")      # 샤프지수 최대  : 빨간별\n",
    "sns.scatterplot(risk_min, x=\"port_risk\",y=\"port_return\",marker=\"*\", c=\"green\")      # 위험 최소      : 초록별\n",
    "sns.scatterplot(return_max, x=\"port_risk\",y=\"port_return\",marker=\"*\", c=\"yellow\")   #  수익 최대     : 노란별\n",
    "plt.show()"
   ]
  },
  {
   "cell_type": "code",
   "execution_count": null,
   "id": "491f5a6e-d705-4d68-94da-b3a2cc63540e",
   "metadata": {},
   "outputs": [],
   "source": []
  },
  {
   "cell_type": "code",
   "execution_count": null,
   "id": "b9b76516-7188-4882-a8d5-a256e3d7d3f8",
   "metadata": {},
   "outputs": [],
   "source": []
  },
  {
   "cell_type": "code",
   "execution_count": null,
   "id": "e90f46dd-f9c4-49c8-843b-e059835ecef5",
   "metadata": {},
   "outputs": [],
   "source": []
  }
 ],
 "metadata": {
  "kernelspec": {
   "display_name": "Python 3 (ipykernel)",
   "language": "python",
   "name": "python3"
  },
  "language_info": {
   "codemirror_mode": {
    "name": "ipython",
    "version": 3
   },
   "file_extension": ".py",
   "mimetype": "text/x-python",
   "name": "python",
   "nbconvert_exporter": "python",
   "pygments_lexer": "ipython3",
   "version": "3.8.8"
  }
 },
 "nbformat": 4,
 "nbformat_minor": 5
}
