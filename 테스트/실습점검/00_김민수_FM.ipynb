{
 "cells": [
  {
   "cell_type": "markdown",
   "id": "746c1dfc-38fb-48b5-9678-31e826e8beb3",
   "metadata": {},
   "source": [
    "# 효율적 투자 전략\n",
    "* 대상 종목 : 주식, 채권"
   ]
  },
  {
   "cell_type": "code",
   "execution_count": 1,
   "id": "144c4380-6b44-41d1-a6f5-8a00bef3dc29",
   "metadata": {
    "tags": []
   },
   "outputs": [
    {
     "data": {
      "text/html": [
       "<style>.container{width:100% !important;}</style>"
      ],
      "text/plain": [
       "<IPython.core.display.HTML object>"
      ]
     },
     "metadata": {},
     "output_type": "display_data"
    }
   ],
   "source": [
    "from IPython.display import Image\n",
    "import pandas as pd\n",
    "import numpy as np\n",
    "import matplotlib.pyplot as plt\n",
    "import seaborn as sns\n",
    "\n",
    "\n",
    "import warnings\n",
    "warnings.filterwarnings(action='ignore')\n",
    "sns.set()\n",
    "\n",
    "#-------------------- 차트 관련 속성 (한글처리, 그리드) -----------\n",
    "#plt.rc('font', family='NanumGothicOTF') # For MacOS\n",
    "plt.rcParams['font.family']= 'Malgun Gothic'\n",
    "plt.rcParams['axes.unicode_minus'] = False\n",
    "\n",
    "\n",
    "#-------------------- 주피터 , 출력결과 넓이 늘리기 ---------------\n",
    "from IPython.core.display import display, HTML\n",
    "display(HTML(\"<style>.container{width:100% !important;}</style>\"))\n",
    "pd.set_option('display.max_rows', 100)\n",
    "pd.set_option('display.max_columns', 100)\n",
    "pd.set_option('max_colwidth', None)\n",
    "\n"
   ]
  },
  {
   "cell_type": "code",
   "execution_count": 79,
   "id": "b1db916a-ddf7-40ef-a370-56d55b878434",
   "metadata": {
    "tags": []
   },
   "outputs": [
    {
     "data": {
      "text/html": [
       "<div>\n",
       "<style scoped>\n",
       "    .dataframe tbody tr th:only-of-type {\n",
       "        vertical-align: middle;\n",
       "    }\n",
       "\n",
       "    .dataframe tbody tr th {\n",
       "        vertical-align: top;\n",
       "    }\n",
       "\n",
       "    .dataframe thead th {\n",
       "        text-align: right;\n",
       "    }\n",
       "</style>\n",
       "<table border=\"1\" class=\"dataframe\">\n",
       "  <thead>\n",
       "    <tr style=\"text-align: right;\">\n",
       "      <th></th>\n",
       "      <th>dt</th>\n",
       "      <th>close</th>\n",
       "    </tr>\n",
       "  </thead>\n",
       "  <tbody>\n",
       "    <tr>\n",
       "      <th>0</th>\n",
       "      <td>2012-01-20</td>\n",
       "      <td>49960.0</td>\n",
       "    </tr>\n",
       "    <tr>\n",
       "      <th>1</th>\n",
       "      <td>2012-01-25</td>\n",
       "      <td>49960.0</td>\n",
       "    </tr>\n",
       "    <tr>\n",
       "      <th>2</th>\n",
       "      <td>2012-01-26</td>\n",
       "      <td>49930.0</td>\n",
       "    </tr>\n",
       "    <tr>\n",
       "      <th>3</th>\n",
       "      <td>2012-01-27</td>\n",
       "      <td>50000.0</td>\n",
       "    </tr>\n",
       "    <tr>\n",
       "      <th>4</th>\n",
       "      <td>2012-01-30</td>\n",
       "      <td>50130.0</td>\n",
       "    </tr>\n",
       "  </tbody>\n",
       "</table>\n",
       "</div>"
      ],
      "text/plain": [
       "          dt    close\n",
       "0 2012-01-20  49960.0\n",
       "1 2012-01-25  49960.0\n",
       "2 2012-01-26  49930.0\n",
       "3 2012-01-27  50000.0\n",
       "4 2012-01-30  50130.0"
      ]
     },
     "execution_count": 79,
     "metadata": {},
     "output_type": "execute_result"
    }
   ],
   "source": [
    "sdf = pd.read_csv(\"./datasets/kodex_stock.csv\",parse_dates=['dt'])[['dt','close']]\n",
    "bdf = pd.read_csv(\"./datasets/kodex_bond10y.csv\",parse_dates=['dt'])[['dt','close']]\n",
    "sdf.head()"
   ]
  },
  {
   "cell_type": "code",
   "execution_count": 3,
   "id": "a9d81e88-3ea5-49d6-badc-5340a6058f08",
   "metadata": {
    "tags": []
   },
   "outputs": [
    {
     "data": {
      "text/plain": [
       "((1845, 2), (1845, 2))"
      ]
     },
     "execution_count": 3,
     "metadata": {},
     "output_type": "execute_result"
    }
   ],
   "source": [
    "sdf.shape, bdf.shape"
   ]
  },
  {
   "cell_type": "code",
   "execution_count": 4,
   "id": "492ff1e8-f74a-4288-bcff-97f4d685cf31",
   "metadata": {
    "tags": []
   },
   "outputs": [
    {
     "data": {
      "text/plain": [
       "Index(['dt', 'close'], dtype='object')"
      ]
     },
     "execution_count": 4,
     "metadata": {},
     "output_type": "execute_result"
    }
   ],
   "source": [
    "sdf.columns"
   ]
  },
  {
   "cell_type": "code",
   "execution_count": 5,
   "id": "bc9be1f8-2555-425b-beb2-c55011ddffdc",
   "metadata": {
    "tags": []
   },
   "outputs": [
    {
     "data": {
      "text/plain": [
       "Index(['dt', 'close'], dtype='object')"
      ]
     },
     "execution_count": 5,
     "metadata": {},
     "output_type": "execute_result"
    }
   ],
   "source": [
    "bdf.columns"
   ]
  },
  {
   "cell_type": "markdown",
   "id": "2584bdb0-849f-4bff-a502-42405aaa68dd",
   "metadata": {},
   "source": [
    "## 주식과 채권은 몇대몇 비율이어야 최대 포트폴리오를 얻는가?"
   ]
  },
  {
   "cell_type": "code",
   "execution_count": 6,
   "id": "ca657689-ca3e-44dc-a673-7fd4ee76d75f",
   "metadata": {
    "tags": []
   },
   "outputs": [],
   "source": [
    "sdf = sdf.set_index('dt')\n",
    "bdf = bdf.set_index(\"dt\")"
   ]
  },
  {
   "cell_type": "code",
   "execution_count": 7,
   "id": "75365c0a-c140-4ce7-aa59-63023b56c6f8",
   "metadata": {
    "tags": []
   },
   "outputs": [],
   "source": [
    "# sdf['수익률_chg'] = sdf['close'].pct_change()\n",
    "# r = sdf['수익률_chg']\n",
    "# sdf['누적수익률']  =( (1+r).cumprod() - 1 ) *100\n",
    "# sdf['로그수익률']  = np.log( 1+r) \n",
    "# sdf['누적로그수익률']  =  np.log( 1+r).cumsum() *100\n",
    "# #------------------------------------------------채권\n",
    "# bdf['수익률_chg'] = bdf['close'].pct_change()\n",
    "# r = bdf['수익률_chg']\n",
    "# bdf['누적수익률']  =( (1+r).cumprod() - 1 ) *100\n",
    "# bdf['로그수익률']  = np.log( 1+r) \n",
    "# bdf['누적로그수익률']  =  np.log( 1+r).cumsum() *100"
   ]
  },
  {
   "cell_type": "code",
   "execution_count": 11,
   "id": "4768703f-1307-4f35-b647-fd131ba578c0",
   "metadata": {
    "tags": []
   },
   "outputs": [
    {
     "data": {
      "text/html": [
       "<div>\n",
       "<style scoped>\n",
       "    .dataframe tbody tr th:only-of-type {\n",
       "        vertical-align: middle;\n",
       "    }\n",
       "\n",
       "    .dataframe tbody tr th {\n",
       "        vertical-align: top;\n",
       "    }\n",
       "\n",
       "    .dataframe thead th {\n",
       "        text-align: right;\n",
       "    }\n",
       "</style>\n",
       "<table border=\"1\" class=\"dataframe\">\n",
       "  <thead>\n",
       "    <tr style=\"text-align: right;\">\n",
       "      <th></th>\n",
       "      <th>close</th>\n",
       "      <th>close</th>\n",
       "    </tr>\n",
       "    <tr>\n",
       "      <th>dt</th>\n",
       "      <th></th>\n",
       "      <th></th>\n",
       "    </tr>\n",
       "  </thead>\n",
       "  <tbody>\n",
       "    <tr>\n",
       "      <th>2012-01-20</th>\n",
       "      <td>49960.0</td>\n",
       "      <td>23197.4</td>\n",
       "    </tr>\n",
       "    <tr>\n",
       "      <th>2012-01-25</th>\n",
       "      <td>49960.0</td>\n",
       "      <td>23277.4</td>\n",
       "    </tr>\n",
       "    <tr>\n",
       "      <th>2012-01-26</th>\n",
       "      <td>49930.0</td>\n",
       "      <td>23299.6</td>\n",
       "    </tr>\n",
       "    <tr>\n",
       "      <th>2012-01-27</th>\n",
       "      <td>50000.0</td>\n",
       "      <td>23335.2</td>\n",
       "    </tr>\n",
       "    <tr>\n",
       "      <th>2012-01-30</th>\n",
       "      <td>50130.0</td>\n",
       "      <td>23073.0</td>\n",
       "    </tr>\n",
       "    <tr>\n",
       "      <th>...</th>\n",
       "      <td>...</td>\n",
       "      <td>...</td>\n",
       "    </tr>\n",
       "    <tr>\n",
       "      <th>2019-07-17</th>\n",
       "      <td>71210.0</td>\n",
       "      <td>27225.0</td>\n",
       "    </tr>\n",
       "    <tr>\n",
       "      <th>2019-07-18</th>\n",
       "      <td>71665.0</td>\n",
       "      <td>27165.0</td>\n",
       "    </tr>\n",
       "    <tr>\n",
       "      <th>2019-07-19</th>\n",
       "      <td>71770.0</td>\n",
       "      <td>27545.0</td>\n",
       "    </tr>\n",
       "    <tr>\n",
       "      <th>2019-07-22</th>\n",
       "      <td>71685.0</td>\n",
       "      <td>27535.0</td>\n",
       "    </tr>\n",
       "    <tr>\n",
       "      <th>2019-07-23</th>\n",
       "      <td>71675.0</td>\n",
       "      <td>27670.0</td>\n",
       "    </tr>\n",
       "  </tbody>\n",
       "</table>\n",
       "<p>1845 rows × 2 columns</p>\n",
       "</div>"
      ],
      "text/plain": [
       "              close    close\n",
       "dt                          \n",
       "2012-01-20  49960.0  23197.4\n",
       "2012-01-25  49960.0  23277.4\n",
       "2012-01-26  49930.0  23299.6\n",
       "2012-01-27  50000.0  23335.2\n",
       "2012-01-30  50130.0  23073.0\n",
       "...             ...      ...\n",
       "2019-07-17  71210.0  27225.0\n",
       "2019-07-18  71665.0  27165.0\n",
       "2019-07-19  71770.0  27545.0\n",
       "2019-07-22  71685.0  27535.0\n",
       "2019-07-23  71675.0  27670.0\n",
       "\n",
       "[1845 rows x 2 columns]"
      ]
     },
     "execution_count": 11,
     "metadata": {},
     "output_type": "execute_result"
    }
   ],
   "source": [
    "df=pd.concat([sdf,bdf],axis=1)\n",
    "df"
   ]
  },
  {
   "cell_type": "code",
   "execution_count": 14,
   "id": "849b1215-7edf-47f9-94be-cc95ee6a1394",
   "metadata": {
    "tags": []
   },
   "outputs": [],
   "source": [
    "daily_ret = df.pct_change() \n",
    "annual_ret = daily_ret.mean() * 252\n",
    "daily_cov = daily_ret.cov() \n",
    "annual_cov = daily_cov * 252\n",
    "stocks = df.columns\n"
   ]
  },
  {
   "cell_type": "code",
   "execution_count": 16,
   "id": "0f96b503-cc35-4e2b-9aaf-63b2aab6d3d0",
   "metadata": {
    "tags": []
   },
   "outputs": [
    {
     "data": {
      "text/html": [
       "<div>\n",
       "<style scoped>\n",
       "    .dataframe tbody tr th:only-of-type {\n",
       "        vertical-align: middle;\n",
       "    }\n",
       "\n",
       "    .dataframe tbody tr th {\n",
       "        vertical-align: top;\n",
       "    }\n",
       "\n",
       "    .dataframe thead th {\n",
       "        text-align: right;\n",
       "    }\n",
       "</style>\n",
       "<table border=\"1\" class=\"dataframe\">\n",
       "  <thead>\n",
       "    <tr style=\"text-align: right;\">\n",
       "      <th></th>\n",
       "      <th>Return</th>\n",
       "      <th>Risk</th>\n",
       "      <th>Sharp</th>\n",
       "      <th>Weight</th>\n",
       "    </tr>\n",
       "  </thead>\n",
       "  <tbody>\n",
       "    <tr>\n",
       "      <th>0</th>\n",
       "      <td>0.041668</td>\n",
       "      <td>0.063526</td>\n",
       "      <td>0.655922</td>\n",
       "      <td>[0.52, 0.48]</td>\n",
       "    </tr>\n",
       "    <tr>\n",
       "      <th>1</th>\n",
       "      <td>0.046243</td>\n",
       "      <td>0.041972</td>\n",
       "      <td>1.101768</td>\n",
       "      <td>[0.77, 0.23]</td>\n",
       "    </tr>\n",
       "    <tr>\n",
       "      <th>2</th>\n",
       "      <td>0.049835</td>\n",
       "      <td>0.042473</td>\n",
       "      <td>1.173340</td>\n",
       "      <td>[0.97, 0.03]</td>\n",
       "    </tr>\n",
       "    <tr>\n",
       "      <th>3</th>\n",
       "      <td>0.041047</td>\n",
       "      <td>0.067416</td>\n",
       "      <td>0.608862</td>\n",
       "      <td>[0.48, 0.52]</td>\n",
       "    </tr>\n",
       "    <tr>\n",
       "      <th>4</th>\n",
       "      <td>0.039061</td>\n",
       "      <td>0.080603</td>\n",
       "      <td>0.484617</td>\n",
       "      <td>[0.37, 0.63]</td>\n",
       "    </tr>\n",
       "  </tbody>\n",
       "</table>\n",
       "</div>"
      ],
      "text/plain": [
       "     Return      Risk     Sharp        Weight\n",
       "0  0.041668  0.063526  0.655922  [0.52, 0.48]\n",
       "1  0.046243  0.041972  1.101768  [0.77, 0.23]\n",
       "2  0.049835  0.042473  1.173340  [0.97, 0.03]\n",
       "3  0.041047  0.067416  0.608862  [0.48, 0.52]\n",
       "4  0.039061  0.080603  0.484617  [0.37, 0.63]"
      ]
     },
     "execution_count": 16,
     "metadata": {},
     "output_type": "execute_result"
    }
   ],
   "source": [
    "\n",
    "\n",
    "\n",
    "port_ret     = [] \n",
    "port_risk    = [] \n",
    "port_weights = [] \n",
    "port_sharp   = [] \n",
    "\n",
    "\n",
    "for _ in range(20000): \n",
    "    weights = np.random.random(len(stocks)) \n",
    "    weights = weights / np.sum(weights) \n",
    "\n",
    "    #------------------- 수익률, 리스크(편차), 샤프지수 -----------------------\n",
    "    returns = np.dot(weights, annual_ret)\n",
    "    risk    = np.sqrt(np.dot(weights.T, np.dot(annual_cov, weights))) \n",
    "    sharp   =  returns / risk\n",
    "    \n",
    "    port_ret.append(returns) \n",
    "    port_risk.append(risk) \n",
    "    port_weights.append(np.round(weights,2)) \n",
    "    port_sharp.append(sharp) \n",
    "    \n",
    "    \n",
    "port_dic = {'Return': port_ret, 'Risk': port_risk, 'Sharp':port_sharp ,'Weight': port_weights} \n",
    "df = pd.DataFrame(port_dic) \n",
    "df.head()"
   ]
  },
  {
   "cell_type": "code",
   "execution_count": null,
   "id": "43bbb529-c8d2-4b2b-8767-bcf4daa8da39",
   "metadata": {},
   "outputs": [],
   "source": []
  },
  {
   "cell_type": "code",
   "execution_count": 17,
   "id": "d10e47c7-6314-4634-82fc-92b5686acf5d",
   "metadata": {
    "tags": []
   },
   "outputs": [
    {
     "data": {
      "image/png": "[encoded data removed]",
      "text/plain": [
       "<Figure size 1000x1000 with 1 Axes>"
      ]
     },
     "metadata": {},
     "output_type": "display_data"
    }
   ],
   "source": [
    "df.plot.scatter(x='Risk', y='Return', figsize=(10,10), grid=True)\n",
    "plt.title('Efficient Frontier') \n",
    "plt.xlabel('Risk') \n",
    "plt.ylabel('Expected Returns') \n",
    "plt.show() "
   ]
  },
  {
   "cell_type": "code",
   "execution_count": 68,
   "id": "f97c9044-8257-46a5-8258-878d336f46ac",
   "metadata": {
    "tags": []
   },
   "outputs": [
    {
     "name": "stdout",
     "output_type": "stream",
     "text": [
      "Expected annual return:         Return      Risk     Sharp      Weight\n",
      "6400  0.050286  0.043851  1.146753  [1.0, 0.0]\n",
      "Annual volatility:        Return      Risk     Sharp        Weight\n",
      "331  0.047945  0.039766  1.205688  [0.87, 0.13]\n",
      "Sharpe Ratio:          Return      Risk     Sharp      Weight\n",
      "17878  0.048474  0.039985  1.212311  [0.9, 0.1]\n"
     ]
    }
   ],
   "source": [
    "sharp_max = df[df['Sharp'] == df['Sharp'].max()]\n",
    "risk_min  = df[df['Risk'] == df['Risk'].min()]\n",
    "return_max = df[df['Return'] == df['Return'].max()]\n",
    "\n",
    "\n",
    "\n",
    "\n",
    "print(f\"Expected annual return: {return_max}\")\n",
    "print(f\"Annual volatility: {risk_min}\")\n",
    "print(f\"Sharpe Ratio: {sharp_max}\")"
   ]
  },
  {
   "cell_type": "code",
   "execution_count": 69,
   "id": "e19067fa-775a-458e-92af-7bc678b09165",
   "metadata": {
    "tags": []
   },
   "outputs": [
    {
     "data": {
      "text/html": [
       "<div>\n",
       "<style scoped>\n",
       "    .dataframe tbody tr th:only-of-type {\n",
       "        vertical-align: middle;\n",
       "    }\n",
       "\n",
       "    .dataframe tbody tr th {\n",
       "        vertical-align: top;\n",
       "    }\n",
       "\n",
       "    .dataframe thead th {\n",
       "        text-align: right;\n",
       "    }\n",
       "</style>\n",
       "<table border=\"1\" class=\"dataframe\">\n",
       "  <thead>\n",
       "    <tr style=\"text-align: right;\">\n",
       "      <th></th>\n",
       "      <th>Return</th>\n",
       "      <th>Risk</th>\n",
       "      <th>Sharp</th>\n",
       "      <th>Weight</th>\n",
       "    </tr>\n",
       "  </thead>\n",
       "  <tbody>\n",
       "    <tr>\n",
       "      <th>6400</th>\n",
       "      <td>0.050286</td>\n",
       "      <td>0.043851</td>\n",
       "      <td>1.146753</td>\n",
       "      <td>[1.0, 0.0]</td>\n",
       "    </tr>\n",
       "  </tbody>\n",
       "</table>\n",
       "</div>"
      ],
      "text/plain": [
       "        Return      Risk     Sharp      Weight\n",
       "6400  0.050286  0.043851  1.146753  [1.0, 0.0]"
      ]
     },
     "execution_count": 69,
     "metadata": {},
     "output_type": "execute_result"
    }
   ],
   "source": [
    "return_max"
   ]
  },
  {
   "cell_type": "code",
   "execution_count": 77,
   "id": "27c626aa-bd0b-484f-9ac6-2d0d41fd1c77",
   "metadata": {
    "tags": []
   },
   "outputs": [
    {
     "data": {
      "image/png": "[encoded data removed]",
      "text/plain": [
       "<Figure size 800x400 with 1 Axes>"
      ]
     },
     "metadata": {},
     "output_type": "display_data"
    }
   ],
   "source": [
    "plt.figure(figsize=(8,4))\n",
    "sns.scatterplot(data=df        , x='Risk', y='Return'                     , label=f\"포트폴리오\")\n",
    "sns.scatterplot(data=sharp_max , x='Risk', y='Return', marker=\"^\", c='red', label=f\"sharp_max:{sharp_max.iloc[:,3].values[0]}\")\n",
    "sns.scatterplot(data=risk_min  , x='Risk', y='Return', marker=\"*\", c='red', label=f\"risk_min:{risk_min.iloc[:,3].values[0]}\")\n",
    "sns.scatterplot(data=return_max, x='Risk', y='Return', marker=\"s\", c='red', label=f\"return_max:{return_max.iloc[:,3].values[0]}\")\n",
    "\n",
    "\n",
    "plt.title(f'Efficient Frontier_{stocks.values}') \n",
    "plt.xlabel('Risk') \n",
    "plt.ylabel('Expected Returns') \n",
    "plt.show() "
   ]
  },
  {
   "cell_type": "code",
   "execution_count": null,
   "id": "1e0cea22-0d51-43f8-b74e-56abfc12f6bd",
   "metadata": {},
   "outputs": [],
   "source": []
  }
 ],
 "metadata": {
  "kernelspec": {
   "display_name": "Python 3 (ipykernel)",
   "language": "python",
   "name": "python3"
  },
  "language_info": {
   "codemirror_mode": {
    "name": "ipython",
    "version": 3
   },
   "file_extension": ".py",
   "mimetype": "text/x-python",
   "name": "python",
   "nbconvert_exporter": "python",
   "pygments_lexer": "ipython3",
   "version": "3.8.8"
  }
 },
 "nbformat": 4,
 "nbformat_minor": 5
}
