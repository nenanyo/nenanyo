{
 "cells": [
  {
   "cell_type": "code",
   "execution_count": 1,
   "id": "b1385ccf-d463-46ad-ad1c-a066873ab4f8",
   "metadata": {
    "tags": []
   },
   "outputs": [
    {
     "data": {
      "text/html": [
       "<style>.container{width:100% !important;}</style>"
      ],
      "text/plain": [
       "<IPython.core.display.HTML object>"
      ]
     },
     "metadata": {},
     "output_type": "display_data"
    }
   ],
   "source": [
    "from pykrx import stock\n",
    "from pykrx import bond\n",
    "import FinanceDataReader as fdr\n",
    "\n",
    "from IPython.display import Image\n",
    "import pandas as pd\n",
    "import numpy as np\n",
    "import matplotlib.pyplot as plt\n",
    "import seaborn as sns\n",
    "\n",
    "\n",
    "import warnings\n",
    "warnings.filterwarnings(action='ignore')\n",
    "sns.set()\n",
    "\n",
    "#-------------------- 차트 관련 속성 (한글처리, 그리드) -----------\n",
    "#plt.rc('font', family='NanumGothicOTF') # For MacOS\n",
    "plt.rcParams['font.family']= 'Malgun Gothic'\n",
    "plt.rcParams['axes.unicode_minus'] = False\n",
    "\n",
    "\n",
    "#-------------------- 주피터 , 출력결과 넓이 늘리기 ---------------\n",
    "from IPython.core.display import display, HTML\n",
    "display(HTML(\"<style>.container{width:100% !important;}</style>\"))\n",
    "pd.set_option('display.max_rows', 100)\n",
    "pd.set_option('display.max_columns', 100)\n",
    "pd.set_option('max_colwidth', None)"
   ]
  },
  {
   "cell_type": "code",
   "execution_count": 2,
   "id": "7c48d01e-83d6-4815-aba6-55f7da22b190",
   "metadata": {
    "tags": []
   },
   "outputs": [],
   "source": [
    "def 포트폴리오(df):\n",
    "    위험성 = df.cov()\n",
    "    수익률 = df.mean()\n",
    "\n",
    "    port_ret = []\n",
    "    port_risk = []\n",
    "    port_weights = []\n",
    "    port_sharp = []\n",
    "\n",
    "    stocks = df.columns\n",
    "    \n",
    "    for _ in range(50):\n",
    "        weights = np.random.random(len(stocks))\n",
    "        weights /= np.sum(weights)\n",
    "        port_weights.append(weights)\n",
    "\n",
    "        returns = np.dot(weights, 수익률)\n",
    "        risk = np.sqrt( np.dot( weights.T, np.dot(위험성, weights)  )  )\n",
    "        port_ret.append(returns)\n",
    "        port_risk.append(risk)\n",
    "\n",
    "        sharp = (returns - 0) / risk\n",
    "        port_sharp.append(sharp)\n",
    "\n",
    "    portfolio = {'Returns': port_ret, 'Risk': port_risk, 'Sharp': port_sharp}\n",
    "\n",
    "    for i, s in enumerate(stocks):\n",
    "        portfolio[s] = [weight[i] for weight in port_weights]\n",
    "    df = pd.DataFrame(portfolio)\n",
    "    return df"
   ]
  },
  {
   "cell_type": "code",
   "execution_count": 19,
   "id": "7bfe009f-c77d-4781-bd78-dec442ce527b",
   "metadata": {
    "tags": []
   },
   "outputs": [],
   "source": [
    "def 그림(df):\n",
    "    return_high = df[df['Returns']  == df['Returns'].max()]\n",
    "    risk_high = df[df['Risk']  == df['Risk'].max()]\n",
    "    sharp_high = df[df['Sharp']  == df['Sharp'].max()]\n",
    "    \n",
    "    df.plot.scatter(x='Risk', y='Returns')\n",
    "    plt.scatter(return_high['Risk'], return_high['Returns'], marker='*', s=500, c='red', label=\"리턴\")\n",
    "    plt.scatter(risk_high['Risk'], risk_high['Returns'], marker='*', s=500, c='blue', label=\"리스크\")\n",
    "    plt.scatter(sharp_high['Risk'], sharp_high['Returns'], marker='*', s=500, c='green', label=\"샤프\")\n",
    "    plt.legend()\n",
    "    plt.show()"
   ]
  },
  {
   "cell_type": "code",
   "execution_count": 20,
   "id": "bbeae1d0-22db-4f91-a72d-661a7c2143a0",
   "metadata": {
    "tags": []
   },
   "outputs": [],
   "source": [
    "sdf = pd.read_csv(\"./kodex_stock.csv\")\n",
    "bdf = pd.read_csv(\"./kodex_bond10y.csv\")"
   ]
  },
  {
   "cell_type": "code",
   "execution_count": 21,
   "id": "cf76208f-f179-40c6-96a1-cab974b425bc",
   "metadata": {
    "tags": []
   },
   "outputs": [],
   "source": [
    "n_sdf = np.log(1 + sdf['close'].pct_change()).dropna()\n",
    "n_bdf = np.log(1 + bdf['close'].pct_change()).dropna()"
   ]
  },
  {
   "cell_type": "code",
   "execution_count": 22,
   "id": "4f058d4d-0ad9-4d5a-9c96-ab2e93978e83",
   "metadata": {
    "tags": []
   },
   "outputs": [],
   "source": [
    "df = pd.DataFrame()"
   ]
  },
  {
   "cell_type": "code",
   "execution_count": 23,
   "id": "1bcc7d59-68fe-4d51-ba9b-249795ee7fa5",
   "metadata": {
    "tags": []
   },
   "outputs": [],
   "source": [
    "df['주식'] = n_sdf\n",
    "df['채권'] = n_bdf"
   ]
  },
  {
   "cell_type": "code",
   "execution_count": 24,
   "id": "30ec5c04-4d6f-453e-9e63-e4a1e7b4fc8a",
   "metadata": {
    "tags": []
   },
   "outputs": [],
   "source": [
    "df = 포트폴리오(df)"
   ]
  },
  {
   "cell_type": "code",
   "execution_count": 25,
   "id": "aaf98207-95ac-47e9-8ae4-017b0281f169",
   "metadata": {
    "tags": []
   },
   "outputs": [
    {
     "data": {
      "image/png": "[encoded data removed]",
      "text/plain": [
       "<Figure size 640x480 with 1 Axes>"
      ]
     },
     "metadata": {},
     "output_type": "display_data"
    }
   ],
   "source": [
    "그림(df)"
   ]
  },
  {
   "cell_type": "code",
   "execution_count": 26,
   "id": "08cdacc2-f9d8-47f9-8b4a-99954f9818be",
   "metadata": {
    "tags": []
   },
   "outputs": [
    {
     "data": {
      "text/html": [
       "<div>\n",
       "<style scoped>\n",
       "    .dataframe tbody tr th:only-of-type {\n",
       "        vertical-align: middle;\n",
       "    }\n",
       "\n",
       "    .dataframe tbody tr th {\n",
       "        vertical-align: top;\n",
       "    }\n",
       "\n",
       "    .dataframe thead th {\n",
       "        text-align: right;\n",
       "    }\n",
       "</style>\n",
       "<table border=\"1\" class=\"dataframe\">\n",
       "  <thead>\n",
       "    <tr style=\"text-align: right;\">\n",
       "      <th></th>\n",
       "      <th>Returns</th>\n",
       "      <th>Risk</th>\n",
       "      <th>Sharp</th>\n",
       "      <th>주식</th>\n",
       "      <th>채권</th>\n",
       "    </tr>\n",
       "  </thead>\n",
       "  <tbody>\n",
       "    <tr>\n",
       "      <th>30</th>\n",
       "      <td>0.000193</td>\n",
       "      <td>0.002671</td>\n",
       "      <td>0.072271</td>\n",
       "      <td>0.973382</td>\n",
       "      <td>0.026618</td>\n",
       "    </tr>\n",
       "  </tbody>\n",
       "</table>\n",
       "</div>"
      ],
      "text/plain": [
       "     Returns      Risk     Sharp        주식        채권\n",
       "30  0.000193  0.002671  0.072271  0.973382  0.026618"
      ]
     },
     "execution_count": 26,
     "metadata": {},
     "output_type": "execute_result"
    }
   ],
   "source": [
    "df[df['Returns']  == df['Returns'].max()]"
   ]
  },
  {
   "cell_type": "code",
   "execution_count": null,
   "id": "653f192c-1004-4b5d-b6b3-8367db66b40b",
   "metadata": {},
   "outputs": [],
   "source": []
  },
  {
   "cell_type": "code",
   "execution_count": null,
   "id": "2f9365f8-055e-4b1c-be99-42e9f0698383",
   "metadata": {},
   "outputs": [],
   "source": []
  },
  {
   "cell_type": "code",
   "execution_count": null,
   "id": "ada45aed-8ac4-415b-a215-6ddd6ab08362",
   "metadata": {},
   "outputs": [],
   "source": []
  },
  {
   "cell_type": "code",
   "execution_count": null,
   "id": "78a42ec2-d2ea-437e-aeb3-a9d8da65b33a",
   "metadata": {},
   "outputs": [],
   "source": []
  }
 ],
 "metadata": {
  "kernelspec": {
   "display_name": "Python 3 (ipykernel)",
   "language": "python",
   "name": "python3"
  },
  "language_info": {
   "codemirror_mode": {
    "name": "ipython",
    "version": 3
   },
   "file_extension": ".py",
   "mimetype": "text/x-python",
   "name": "python",
   "nbconvert_exporter": "python",
   "pygments_lexer": "ipython3",
   "version": "3.8.8"
  },
  "widgets": {
   "application/vnd.jupyter.widget-state+json": {
    "state": {},
    "version_major": 2,
    "version_minor": 0
   }
  }
 },
 "nbformat": 4,
 "nbformat_minor": 5
}
