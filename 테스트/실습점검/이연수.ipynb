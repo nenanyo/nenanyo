{
 "cells": [
  {
   "cell_type": "markdown",
   "id": "746c1dfc-38fb-48b5-9678-31e826e8beb3",
   "metadata": {},
   "source": [
    "# [실습] 효율적 투자 전략\n",
    "* 대상 종목 : 주식, 채권\n",
    "* 목표: 주식과 채권을 몇대몇으로 담아야 가장 효율적으로 수익을 낼 수 있는지"
   ]
  },
  {
   "cell_type": "code",
   "execution_count": 1,
   "id": "144c4380-6b44-41d1-a6f5-8a00bef3dc29",
   "metadata": {
    "tags": []
   },
   "outputs": [
    {
     "data": {
      "text/html": [
       "<style>.container{width:100% !important;}</style>"
      ],
      "text/plain": [
       "<IPython.core.display.HTML object>"
      ]
     },
     "metadata": {},
     "output_type": "display_data"
    }
   ],
   "source": [
    "from IPython.display import Image\n",
    "import pandas as pd\n",
    "import numpy as np\n",
    "import matplotlib.pyplot as plt\n",
    "import seaborn as sns\n",
    "from pykrx import stock\n",
    "from pykrx import bond\n",
    "\n",
    "import warnings\n",
    "warnings.filterwarnings(action='ignore')\n",
    "sns.set()\n",
    "\n",
    "#-------------------- 차트 관련 속성 (한글처리, 그리드) -----------\n",
    "#plt.rc('font', family='NanumGothicOTF') # For MacOS\n",
    "plt.rcParams['font.family']= 'Malgun Gothic'\n",
    "plt.rcParams['axes.unicode_minus'] = False\n",
    "\n",
    "\n",
    "#-------------------- 주피터 , 출력결과 넓이 늘리기 ---------------\n",
    "from IPython.core.display import display, HTML\n",
    "display(HTML(\"<style>.container{width:100% !important;}</style>\"))\n",
    "pd.set_option('display.max_rows', 100)\n",
    "pd.set_option('display.max_columns', 100)\n",
    "pd.set_option('max_colwidth', None)\n",
    "\n"
   ]
  },
  {
   "cell_type": "markdown",
   "id": "f47c517c-baf2-4282-8a9d-2bde1d32933b",
   "metadata": {},
   "source": [
    "## Data Load"
   ]
  },
  {
   "cell_type": "code",
   "execution_count": 2,
   "id": "b1db916a-ddf7-40ef-a370-56d55b878434",
   "metadata": {
    "tags": []
   },
   "outputs": [],
   "source": [
    "sdf = pd.read_csv(\"../datasets/kodex_stock.csv\")\n",
    "sdf = sdf.set_index(\"dt\")\n",
    "sdf = sdf.drop(['high', 'low', 'open','volume'], axis=1)\n",
    "bdf = pd.read_csv(\"../datasets/kodex_bond10y.csv\")\n",
    "bdf = bdf.set_index(\"dt\")\n",
    "bdf = bdf.drop(['high', 'low', 'open','volume'], axis=1)"
   ]
  },
  {
   "cell_type": "code",
   "execution_count": 3,
   "id": "a9d81e88-3ea5-49d6-badc-5340a6058f08",
   "metadata": {
    "tags": []
   },
   "outputs": [
    {
     "data": {
      "text/plain": [
       "((1845, 1), (1845, 1))"
      ]
     },
     "execution_count": 3,
     "metadata": {},
     "output_type": "execute_result"
    }
   ],
   "source": [
    "sdf.shape, bdf.shape"
   ]
  },
  {
   "cell_type": "code",
   "execution_count": 4,
   "id": "6c27d084-fe09-4f92-a924-b9717e8843bb",
   "metadata": {
    "tags": []
   },
   "outputs": [
    {
     "data": {
      "text/html": [
       "<div>\n",
       "<style scoped>\n",
       "    .dataframe tbody tr th:only-of-type {\n",
       "        vertical-align: middle;\n",
       "    }\n",
       "\n",
       "    .dataframe tbody tr th {\n",
       "        vertical-align: top;\n",
       "    }\n",
       "\n",
       "    .dataframe thead th {\n",
       "        text-align: right;\n",
       "    }\n",
       "</style>\n",
       "<table border=\"1\" class=\"dataframe\">\n",
       "  <thead>\n",
       "    <tr style=\"text-align: right;\">\n",
       "      <th></th>\n",
       "      <th>close</th>\n",
       "    </tr>\n",
       "    <tr>\n",
       "      <th>dt</th>\n",
       "      <th></th>\n",
       "    </tr>\n",
       "  </thead>\n",
       "  <tbody>\n",
       "    <tr>\n",
       "      <th>2012-01-20</th>\n",
       "      <td>49960.0</td>\n",
       "    </tr>\n",
       "    <tr>\n",
       "      <th>2012-01-25</th>\n",
       "      <td>49960.0</td>\n",
       "    </tr>\n",
       "    <tr>\n",
       "      <th>2012-01-26</th>\n",
       "      <td>49930.0</td>\n",
       "    </tr>\n",
       "    <tr>\n",
       "      <th>2012-01-27</th>\n",
       "      <td>50000.0</td>\n",
       "    </tr>\n",
       "    <tr>\n",
       "      <th>2012-01-30</th>\n",
       "      <td>50130.0</td>\n",
       "    </tr>\n",
       "  </tbody>\n",
       "</table>\n",
       "</div>"
      ],
      "text/plain": [
       "              close\n",
       "dt                 \n",
       "2012-01-20  49960.0\n",
       "2012-01-25  49960.0\n",
       "2012-01-26  49930.0\n",
       "2012-01-27  50000.0\n",
       "2012-01-30  50130.0"
      ]
     },
     "execution_count": 4,
     "metadata": {},
     "output_type": "execute_result"
    }
   ],
   "source": [
    "sdf.head()"
   ]
  },
  {
   "cell_type": "code",
   "execution_count": 5,
   "id": "6b3ccfe3-b361-4925-8589-209b876c22d2",
   "metadata": {
    "tags": []
   },
   "outputs": [
    {
     "data": {
      "text/html": [
       "<div>\n",
       "<style scoped>\n",
       "    .dataframe tbody tr th:only-of-type {\n",
       "        vertical-align: middle;\n",
       "    }\n",
       "\n",
       "    .dataframe tbody tr th {\n",
       "        vertical-align: top;\n",
       "    }\n",
       "\n",
       "    .dataframe thead th {\n",
       "        text-align: right;\n",
       "    }\n",
       "</style>\n",
       "<table border=\"1\" class=\"dataframe\">\n",
       "  <thead>\n",
       "    <tr style=\"text-align: right;\">\n",
       "      <th></th>\n",
       "      <th>close</th>\n",
       "    </tr>\n",
       "    <tr>\n",
       "      <th>dt</th>\n",
       "      <th></th>\n",
       "    </tr>\n",
       "  </thead>\n",
       "  <tbody>\n",
       "    <tr>\n",
       "      <th>2012-01-20</th>\n",
       "      <td>23197.4</td>\n",
       "    </tr>\n",
       "    <tr>\n",
       "      <th>2012-01-25</th>\n",
       "      <td>23277.4</td>\n",
       "    </tr>\n",
       "    <tr>\n",
       "      <th>2012-01-26</th>\n",
       "      <td>23299.6</td>\n",
       "    </tr>\n",
       "    <tr>\n",
       "      <th>2012-01-27</th>\n",
       "      <td>23335.2</td>\n",
       "    </tr>\n",
       "    <tr>\n",
       "      <th>2012-01-30</th>\n",
       "      <td>23073.0</td>\n",
       "    </tr>\n",
       "  </tbody>\n",
       "</table>\n",
       "</div>"
      ],
      "text/plain": [
       "              close\n",
       "dt                 \n",
       "2012-01-20  23197.4\n",
       "2012-01-25  23277.4\n",
       "2012-01-26  23299.6\n",
       "2012-01-27  23335.2\n",
       "2012-01-30  23073.0"
      ]
     },
     "execution_count": 5,
     "metadata": {},
     "output_type": "execute_result"
    }
   ],
   "source": [
    "bdf.head()"
   ]
  },
  {
   "cell_type": "code",
   "execution_count": 6,
   "id": "05da0055-afa4-428f-b416-e9b5a93e3c12",
   "metadata": {
    "tags": []
   },
   "outputs": [
    {
     "data": {
      "text/html": [
       "<div>\n",
       "<style scoped>\n",
       "    .dataframe tbody tr th:only-of-type {\n",
       "        vertical-align: middle;\n",
       "    }\n",
       "\n",
       "    .dataframe tbody tr th {\n",
       "        vertical-align: top;\n",
       "    }\n",
       "\n",
       "    .dataframe thead th {\n",
       "        text-align: right;\n",
       "    }\n",
       "</style>\n",
       "<table border=\"1\" class=\"dataframe\">\n",
       "  <thead>\n",
       "    <tr style=\"text-align: right;\">\n",
       "      <th></th>\n",
       "      <th>stock</th>\n",
       "      <th>bond</th>\n",
       "    </tr>\n",
       "    <tr>\n",
       "      <th>dt</th>\n",
       "      <th></th>\n",
       "      <th></th>\n",
       "    </tr>\n",
       "  </thead>\n",
       "  <tbody>\n",
       "    <tr>\n",
       "      <th>2012-01-20</th>\n",
       "      <td>49960.0</td>\n",
       "      <td>23197.4</td>\n",
       "    </tr>\n",
       "    <tr>\n",
       "      <th>2012-01-25</th>\n",
       "      <td>49960.0</td>\n",
       "      <td>23277.4</td>\n",
       "    </tr>\n",
       "    <tr>\n",
       "      <th>2012-01-26</th>\n",
       "      <td>49930.0</td>\n",
       "      <td>23299.6</td>\n",
       "    </tr>\n",
       "    <tr>\n",
       "      <th>2012-01-27</th>\n",
       "      <td>50000.0</td>\n",
       "      <td>23335.2</td>\n",
       "    </tr>\n",
       "    <tr>\n",
       "      <th>2012-01-30</th>\n",
       "      <td>50130.0</td>\n",
       "      <td>23073.0</td>\n",
       "    </tr>\n",
       "    <tr>\n",
       "      <th>...</th>\n",
       "      <td>...</td>\n",
       "      <td>...</td>\n",
       "    </tr>\n",
       "    <tr>\n",
       "      <th>2019-07-17</th>\n",
       "      <td>71210.0</td>\n",
       "      <td>27225.0</td>\n",
       "    </tr>\n",
       "    <tr>\n",
       "      <th>2019-07-18</th>\n",
       "      <td>71665.0</td>\n",
       "      <td>27165.0</td>\n",
       "    </tr>\n",
       "    <tr>\n",
       "      <th>2019-07-19</th>\n",
       "      <td>71770.0</td>\n",
       "      <td>27545.0</td>\n",
       "    </tr>\n",
       "    <tr>\n",
       "      <th>2019-07-22</th>\n",
       "      <td>71685.0</td>\n",
       "      <td>27535.0</td>\n",
       "    </tr>\n",
       "    <tr>\n",
       "      <th>2019-07-23</th>\n",
       "      <td>71675.0</td>\n",
       "      <td>27670.0</td>\n",
       "    </tr>\n",
       "  </tbody>\n",
       "</table>\n",
       "<p>1845 rows × 2 columns</p>\n",
       "</div>"
      ],
      "text/plain": [
       "              stock     bond\n",
       "dt                          \n",
       "2012-01-20  49960.0  23197.4\n",
       "2012-01-25  49960.0  23277.4\n",
       "2012-01-26  49930.0  23299.6\n",
       "2012-01-27  50000.0  23335.2\n",
       "2012-01-30  50130.0  23073.0\n",
       "...             ...      ...\n",
       "2019-07-17  71210.0  27225.0\n",
       "2019-07-18  71665.0  27165.0\n",
       "2019-07-19  71770.0  27545.0\n",
       "2019-07-22  71685.0  27535.0\n",
       "2019-07-23  71675.0  27670.0\n",
       "\n",
       "[1845 rows x 2 columns]"
      ]
     },
     "execution_count": 6,
     "metadata": {},
     "output_type": "execute_result"
    }
   ],
   "source": [
    "ret_df = pd.concat([sdf, bdf], axis=1)\n",
    "ret_df.columns = ['stock','bond']\n",
    "ret_df"
   ]
  },
  {
   "cell_type": "markdown",
   "id": "7aadf1a2-daaa-4f14-ae46-d9e491f4f3eb",
   "metadata": {},
   "source": [
    "## 수익률, 리스크, 샤프지수"
   ]
  },
  {
   "cell_type": "code",
   "execution_count": 7,
   "id": "bea3f96d-37c3-4c12-bfe0-1f4dbf796484",
   "metadata": {
    "tags": []
   },
   "outputs": [
    {
     "name": "stdout",
     "output_type": "stream",
     "text": [
      "['stock' 'bond']\n"
     ]
    },
    {
     "data": {
      "text/html": [
       "<div>\n",
       "<style scoped>\n",
       "    .dataframe tbody tr th:only-of-type {\n",
       "        vertical-align: middle;\n",
       "    }\n",
       "\n",
       "    .dataframe tbody tr th {\n",
       "        vertical-align: top;\n",
       "    }\n",
       "\n",
       "    .dataframe thead th {\n",
       "        text-align: right;\n",
       "    }\n",
       "</style>\n",
       "<table border=\"1\" class=\"dataframe\">\n",
       "  <thead>\n",
       "    <tr style=\"text-align: right;\">\n",
       "      <th></th>\n",
       "      <th>Return</th>\n",
       "      <th>Risk</th>\n",
       "      <th>Sharp</th>\n",
       "      <th>Weight</th>\n",
       "    </tr>\n",
       "  </thead>\n",
       "  <tbody>\n",
       "    <tr>\n",
       "      <th>0</th>\n",
       "      <td>0.047434</td>\n",
       "      <td>0.039969</td>\n",
       "      <td>1.186761</td>\n",
       "      <td>[0.84, 0.16]</td>\n",
       "    </tr>\n",
       "    <tr>\n",
       "      <th>1</th>\n",
       "      <td>0.041131</td>\n",
       "      <td>0.066882</td>\n",
       "      <td>0.614984</td>\n",
       "      <td>[0.49, 0.51]</td>\n",
       "    </tr>\n",
       "    <tr>\n",
       "      <th>2</th>\n",
       "      <td>0.042985</td>\n",
       "      <td>0.055800</td>\n",
       "      <td>0.770331</td>\n",
       "      <td>[0.59, 0.41]</td>\n",
       "    </tr>\n",
       "    <tr>\n",
       "      <th>3</th>\n",
       "      <td>0.041069</td>\n",
       "      <td>0.067276</td>\n",
       "      <td>0.610454</td>\n",
       "      <td>[0.48, 0.52]</td>\n",
       "    </tr>\n",
       "    <tr>\n",
       "      <th>4</th>\n",
       "      <td>0.036938</td>\n",
       "      <td>0.095536</td>\n",
       "      <td>0.386646</td>\n",
       "      <td>[0.25, 0.75]</td>\n",
       "    </tr>\n",
       "  </tbody>\n",
       "</table>\n",
       "</div>"
      ],
      "text/plain": [
       "     Return      Risk     Sharp        Weight\n",
       "0  0.047434  0.039969  1.186761  [0.84, 0.16]\n",
       "1  0.041131  0.066882  0.614984  [0.49, 0.51]\n",
       "2  0.042985  0.055800  0.770331  [0.59, 0.41]\n",
       "3  0.041069  0.067276  0.610454  [0.48, 0.52]\n",
       "4  0.036938  0.095536  0.386646  [0.25, 0.75]"
      ]
     },
     "execution_count": 7,
     "metadata": {},
     "output_type": "execute_result"
    }
   ],
   "source": [
    "daily_ret = ret_df.pct_change() \n",
    "annual_ret = daily_ret.mean() * 252\n",
    "daily_cov = daily_ret.cov() \n",
    "annual_cov = daily_cov * 252\n",
    "\n",
    "port_ret     = [] \n",
    "port_risk    = [] \n",
    "port_weights = [] \n",
    "port_sharp   = [] \n",
    "stocks = ret_df.columns\n",
    "\n",
    "for _ in range(20000): \n",
    "    weights = np.random.random(len(stocks)) \n",
    "    weights = weights / np.sum(weights) \n",
    "\n",
    "    \n",
    "    returns = np.dot(weights, annual_ret) \n",
    "    risk    = np.sqrt(np.dot(weights.T, np.dot(annual_cov, weights))) \n",
    "    sharp   =  returns / risk\n",
    "    \n",
    "    port_ret.append(returns) \n",
    "    port_risk.append(risk) \n",
    "    port_weights.append(np.round(weights,2)) \n",
    "    port_sharp.append(sharp) \n",
    "    \n",
    "    \n",
    "port_dic = {'Return': port_ret, 'Risk': port_risk, 'Sharp':port_sharp ,'Weight': port_weights} \n",
    "ret_df = pd.DataFrame(port_dic) \n",
    "print(f'{stocks.values}')\n",
    "ret_df.head()"
   ]
  },
  {
   "cell_type": "code",
   "execution_count": 26,
   "id": "f9beb93f-026b-4d16-a745-a92c0b50ac6a",
   "metadata": {
    "tags": []
   },
   "outputs": [
    {
     "data": {
      "image/png": "[encoded data removed]",
      "text/plain": [
       "<Figure size 800x600 with 1 Axes>"
      ]
     },
     "metadata": {},
     "output_type": "display_data"
    }
   ],
   "source": [
    "ret_df.plot.scatter(x='Risk', y='Return', figsize=(8, 6), grid=True)\n",
    "\n",
    "plt.title('Efficient Frontier: stock & bond') \n",
    "plt.xlabel('Risk') \n",
    "plt.ylabel('Expected Returns')\n",
    "\n",
    "plt.plot()\n",
    "# plt.gca().add_line(df['샤프지수'])\n",
    "plt.show() "
   ]
  },
  {
   "cell_type": "code",
   "execution_count": 27,
   "id": "6640548b-69a5-47e3-af7f-668037ef1d5f",
   "metadata": {
    "tags": []
   },
   "outputs": [
    {
     "data": {
      "image/png": "[encoded data removed]",
      "text/plain": [
       "<Figure size 800x400 with 1 Axes>"
      ]
     },
     "metadata": {},
     "output_type": "display_data"
    }
   ],
   "source": [
    "sharp_max = ret_df[ret_df['Sharp'] == ret_df['Sharp'].max()]\n",
    "risk_min  = ret_df[ret_df['Risk'] == ret_df['Risk'].min()] \n",
    "return_max = ret_df[ret_df['Return'] == ret_df['Return'].max()] \n",
    "\n",
    "plt.figure(figsize=(8,4))\n",
    "sns.scatterplot(data=ret_df, x='Risk', y='Return' , label=f\"포트폴리오\")\n",
    "sns.scatterplot(data=sharp_max , x='Risk', y='Return', marker=\"s\", c='gold', label=f\"sharp_max:{sharp_max['Weight'].values[0]}\")\n",
    "sns.scatterplot(data=risk_min  , x='Risk', y='Return', marker=\"s\", c='coral', label=f\"risk_min:{risk_min['Weight'].values[0]}\")\n",
    "sns.scatterplot(data=return_max, x='Risk', y='Return', marker=\"s\", c='palegreen', label=f\"return_max:{return_max['Weight'].values[0]}\")\n",
    "\n",
    "plt.title(f'Efficient Frontier: stock & bond') \n",
    "plt.xlabel('Risk') \n",
    "plt.ylabel('Expected Returns') \n",
    "plt.show() "
   ]
  },
  {
   "cell_type": "markdown",
   "id": "d95fbc27-ad9f-4006-a99a-01ba810e4485",
   "metadata": {},
   "source": [
    "## 가중치"
   ]
  },
  {
   "cell_type": "code",
   "execution_count": 23,
   "id": "79e4d9e7-b959-4806-9c49-006341e23678",
   "metadata": {
    "tags": []
   },
   "outputs": [
    {
     "name": "stdout",
     "output_type": "stream",
     "text": [
      "sharp_max:[0.9 0.1]\n",
      "risk_min:[0.87 0.13]\n",
      "return_max:[1. 0.]\n"
     ]
    }
   ],
   "source": [
    "print(f\"sharp_max:{sharp_max['Weight'].values[0]}\")\n",
    "print(f\"risk_min:{risk_min['Weight'].values[0]}\")\n",
    "print(f\"return_max:{return_max['Weight'].values[0]}\")"
   ]
  },
  {
   "cell_type": "code",
   "execution_count": null,
   "id": "090ff9b9-45bc-4646-a97a-1a28795b2da5",
   "metadata": {},
   "outputs": [],
   "source": []
  },
  {
   "cell_type": "code",
   "execution_count": null,
   "id": "9d31fd5d-d91f-4417-ae95-c9fd6d6b4475",
   "metadata": {},
   "outputs": [],
   "source": []
  },
  {
   "cell_type": "code",
   "execution_count": null,
   "id": "e86714ad-d69e-45bc-85f8-cd3690c8a540",
   "metadata": {},
   "outputs": [],
   "source": []
  },
  {
   "cell_type": "code",
   "execution_count": null,
   "id": "6812dc95-2659-46fe-a443-17893cf843b6",
   "metadata": {},
   "outputs": [],
   "source": []
  }
 ],
 "metadata": {
  "kernelspec": {
   "display_name": "Python 3 (ipykernel)",
   "language": "python",
   "name": "python3"
  },
  "language_info": {
   "codemirror_mode": {
    "name": "ipython",
    "version": 3
   },
   "file_extension": ".py",
   "mimetype": "text/x-python",
   "name": "python",
   "nbconvert_exporter": "python",
   "pygments_lexer": "ipython3",
   "version": "3.8.8"
  }
 },
 "nbformat": 4,
 "nbformat_minor": 5
}
