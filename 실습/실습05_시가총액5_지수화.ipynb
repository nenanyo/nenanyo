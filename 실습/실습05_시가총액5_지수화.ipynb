{
 "cells": [
  {
   "cell_type": "markdown",
   "id": "e72aec30-32d8-4b55-bb35-6497289fff9f",
   "metadata": {},
   "source": [
    "<font size=6><b>시총 Top5 지수화\n",
    "* 기준일자 : 2008-01-02 ~ 2017-12-29\n",
    "* KOSPI200/ S&P500"
   ]
  },
  {
   "cell_type": "code",
   "execution_count": 1,
   "id": "229f6aa4-75e9-49d0-861e-0bce24b42d39",
   "metadata": {},
   "outputs": [
    {
     "data": {
      "text/html": [
       "<style>.container{width:100% !important;}</style>"
      ],
      "text/plain": [
       "<IPython.core.display.HTML object>"
      ]
     },
     "metadata": {},
     "output_type": "display_data"
    }
   ],
   "source": [
    "from IPython.display import Image\n",
    "import pandas as pd\n",
    "import numpy as np\n",
    "import matplotlib.pyplot as plt\n",
    "import seaborn as sns\n",
    "\n",
    "\n",
    "import warnings\n",
    "warnings.filterwarnings(action='ignore')\n",
    "sns.set()\n",
    "\n",
    "#-------------------- 차트 관련 속성 (한글처리, 그리드) -----------\n",
    "#plt.rc('font', family='NanumGothicOTF') # For MacOS\n",
    "plt.rcParams['font.family']= 'Malgun Gothic'\n",
    "plt.rcParams['axes.unicode_minus'] = False\n",
    "\n",
    "\n",
    "#-------------------- 주피터 , 출력결과 넓이 늘리기 ---------------\n",
    "from IPython.core.display import display, HTML\n",
    "display(HTML(\"<style>.container{width:100% !important;}</style>\"))\n",
    "pd.set_option('display.max_rows', 100)\n",
    "pd.set_option('display.max_columns', 100)\n",
    "pd.set_option('max_colwidth', None)\n",
    "\n"
   ]
  },
  {
   "cell_type": "markdown",
   "id": "772f1c4e-d046-4465-9660-2d758d18f43e",
   "metadata": {},
   "source": [
    "# Data Load"
   ]
  },
  {
   "cell_type": "markdown",
   "id": "72a0b19d-3a8e-44e8-b2fa-21642113b0df",
   "metadata": {},
   "source": [
    "## KS200 API"
   ]
  },
  {
   "cell_type": "code",
   "execution_count": 4,
   "id": "a3ba6810-6c15-479b-a40e-078137d48f53",
   "metadata": {
    "tags": []
   },
   "outputs": [
    {
     "name": "stdout",
     "output_type": "stream",
     "text": [
      "[*********************100%***********************]  1 of 1 completed\n"
     ]
    },
    {
     "data": {
      "text/plain": [
       "(252, 6)"
      ]
     },
     "execution_count": 4,
     "metadata": {},
     "output_type": "execute_result"
    }
   ],
   "source": [
    "from pandas_datareader import data as pdr\n",
    "import yfinance as yf\n",
    "yf.pdr_override()\n",
    "ks200 = pdr.get_data_yahoo('^KS200', '2008-01-02', '2009-01-08')\n",
    "ks200.shape"
   ]
  },
  {
   "cell_type": "code",
   "execution_count": 5,
   "id": "0c70be72-2185-4aa8-ab30-45dde287a715",
   "metadata": {
    "tags": []
   },
   "outputs": [
    {
     "data": {
      "text/html": [
       "<div>\n",
       "<style scoped>\n",
       "    .dataframe tbody tr th:only-of-type {\n",
       "        vertical-align: middle;\n",
       "    }\n",
       "\n",
       "    .dataframe tbody tr th {\n",
       "        vertical-align: top;\n",
       "    }\n",
       "\n",
       "    .dataframe thead th {\n",
       "        text-align: right;\n",
       "    }\n",
       "</style>\n",
       "<table border=\"1\" class=\"dataframe\">\n",
       "  <thead>\n",
       "    <tr style=\"text-align: right;\">\n",
       "      <th></th>\n",
       "      <th>Close</th>\n",
       "    </tr>\n",
       "    <tr>\n",
       "      <th>Date</th>\n",
       "      <th></th>\n",
       "    </tr>\n",
       "  </thead>\n",
       "  <tbody>\n",
       "    <tr>\n",
       "      <th>2008-01-02</th>\n",
       "      <td>235.300003</td>\n",
       "    </tr>\n",
       "    <tr>\n",
       "      <th>2008-01-03</th>\n",
       "      <td>234.669998</td>\n",
       "    </tr>\n",
       "    <tr>\n",
       "      <th>2008-01-04</th>\n",
       "      <td>235.770004</td>\n",
       "    </tr>\n",
       "    <tr>\n",
       "      <th>2008-01-07</th>\n",
       "      <td>231.000000</td>\n",
       "    </tr>\n",
       "    <tr>\n",
       "      <th>2008-01-08</th>\n",
       "      <td>230.339996</td>\n",
       "    </tr>\n",
       "  </tbody>\n",
       "</table>\n",
       "</div>"
      ],
      "text/plain": [
       "                 Close\n",
       "Date                  \n",
       "2008-01-02  235.300003\n",
       "2008-01-03  234.669998\n",
       "2008-01-04  235.770004\n",
       "2008-01-07  231.000000\n",
       "2008-01-08  230.339996"
      ]
     },
     "execution_count": 5,
     "metadata": {},
     "output_type": "execute_result"
    }
   ],
   "source": [
    "ks200 = ks200[['Close']]\n",
    "ks200.head()"
   ]
  },
  {
   "cell_type": "code",
   "execution_count": 6,
   "id": "2340c002-d128-4e3c-96fa-f4c25de75c5e",
   "metadata": {
    "tags": []
   },
   "outputs": [
    {
     "data": {
      "text/html": [
       "<div>\n",
       "<style scoped>\n",
       "    .dataframe tbody tr th:only-of-type {\n",
       "        vertical-align: middle;\n",
       "    }\n",
       "\n",
       "    .dataframe tbody tr th {\n",
       "        vertical-align: top;\n",
       "    }\n",
       "\n",
       "    .dataframe thead th {\n",
       "        text-align: right;\n",
       "    }\n",
       "</style>\n",
       "<table border=\"1\" class=\"dataframe\">\n",
       "  <thead>\n",
       "    <tr style=\"text-align: right;\">\n",
       "      <th></th>\n",
       "      <th>Close</th>\n",
       "      <th>지수200</th>\n",
       "    </tr>\n",
       "    <tr>\n",
       "      <th>Date</th>\n",
       "      <th></th>\n",
       "      <th></th>\n",
       "    </tr>\n",
       "  </thead>\n",
       "  <tbody>\n",
       "    <tr>\n",
       "      <th>2008-01-02</th>\n",
       "      <td>235.300003</td>\n",
       "      <td>100.000000</td>\n",
       "    </tr>\n",
       "    <tr>\n",
       "      <th>2008-01-03</th>\n",
       "      <td>234.669998</td>\n",
       "      <td>99.732255</td>\n",
       "    </tr>\n",
       "    <tr>\n",
       "      <th>2008-01-04</th>\n",
       "      <td>235.770004</td>\n",
       "      <td>100.199746</td>\n",
       "    </tr>\n",
       "    <tr>\n",
       "      <th>2008-01-07</th>\n",
       "      <td>231.000000</td>\n",
       "      <td>98.172544</td>\n",
       "    </tr>\n",
       "    <tr>\n",
       "      <th>2008-01-08</th>\n",
       "      <td>230.339996</td>\n",
       "      <td>97.892050</td>\n",
       "    </tr>\n",
       "  </tbody>\n",
       "</table>\n",
       "</div>"
      ],
      "text/plain": [
       "                 Close       지수200\n",
       "Date                              \n",
       "2008-01-02  235.300003  100.000000\n",
       "2008-01-03  234.669998   99.732255\n",
       "2008-01-04  235.770004  100.199746\n",
       "2008-01-07  231.000000   98.172544\n",
       "2008-01-08  230.339996   97.892050"
      ]
     },
     "execution_count": 6,
     "metadata": {},
     "output_type": "execute_result"
    }
   ],
   "source": [
    "ks200['지수200'] = (ks200['Close'] / ks200.iloc[0,0]) * 100\n",
    "ks200.head()"
   ]
  },
  {
   "cell_type": "markdown",
   "id": "1992b0d0-042d-44ca-9b67-ca936fb8fa12",
   "metadata": {},
   "source": [
    "## K5 excel"
   ]
  },
  {
   "cell_type": "code",
   "execution_count": 2,
   "id": "f3cf0140-eb62-4af7-9d30-3408017cecff",
   "metadata": {
    "tags": []
   },
   "outputs": [
    {
     "name": "stdout",
     "output_type": "stream",
     "text": [
      "<class 'pandas.core.frame.DataFrame'>\n",
      "Int64Index: 252 entries, 1 to 252\n",
      "Data columns (total 7 columns):\n",
      " #   Column  Non-Null Count  Dtype  \n",
      "---  ------  --------------  -----  \n",
      " 0   A전자     252 non-null    int64  \n",
      " 1   B건설     252 non-null    int64  \n",
      " 2   C증권     252 non-null    float64\n",
      " 3   D화학     252 non-null    int64  \n",
      " 4   E엔터     252 non-null    int64  \n",
      " 5   합계      252 non-null    int64  \n",
      " 6   지수      252 non-null    float64\n",
      "dtypes: float64(2), int64(5)\n",
      "memory usage: 15.8 KB\n"
     ]
    }
   ],
   "source": [
    "sample_df = pd.read_excel(\"./실습05_시가총액5_지수화.xlsx\", sheet_name='일자별 시가총액', index_col=0)\n",
    "sample_df.info()"
   ]
  },
  {
   "cell_type": "code",
   "execution_count": 15,
   "id": "34e7016e-cac6-4157-8e6a-56fb844a577f",
   "metadata": {
    "tags": []
   },
   "outputs": [
    {
     "data": {
      "text/html": [
       "<div>\n",
       "<style scoped>\n",
       "    .dataframe tbody tr th:only-of-type {\n",
       "        vertical-align: middle;\n",
       "    }\n",
       "\n",
       "    .dataframe tbody tr th {\n",
       "        vertical-align: top;\n",
       "    }\n",
       "\n",
       "    .dataframe thead th {\n",
       "        text-align: right;\n",
       "    }\n",
       "</style>\n",
       "<table border=\"1\" class=\"dataframe\">\n",
       "  <thead>\n",
       "    <tr style=\"text-align: right;\">\n",
       "      <th></th>\n",
       "      <th>A전자</th>\n",
       "      <th>B건설</th>\n",
       "      <th>C증권</th>\n",
       "      <th>D화학</th>\n",
       "      <th>E엔터</th>\n",
       "      <th>합계</th>\n",
       "      <th>지수</th>\n",
       "    </tr>\n",
       "    <tr>\n",
       "      <th>Date</th>\n",
       "      <th></th>\n",
       "      <th></th>\n",
       "      <th></th>\n",
       "      <th></th>\n",
       "      <th></th>\n",
       "      <th></th>\n",
       "      <th></th>\n",
       "    </tr>\n",
       "  </thead>\n",
       "  <tbody>\n",
       "    <tr>\n",
       "      <th>2008-01-02</th>\n",
       "      <td>75000000000</td>\n",
       "      <td>90000000000</td>\n",
       "      <td>4.920000e+11</td>\n",
       "      <td>88000000000</td>\n",
       "      <td>500000000000</td>\n",
       "      <td>1245000000000</td>\n",
       "      <td>100.000000</td>\n",
       "    </tr>\n",
       "    <tr>\n",
       "      <th>2008-01-03</th>\n",
       "      <td>72967500000</td>\n",
       "      <td>88150500000</td>\n",
       "      <td>4.916064e+11</td>\n",
       "      <td>90844160000</td>\n",
       "      <td>496788500000</td>\n",
       "      <td>1240357060000</td>\n",
       "      <td>99.627073</td>\n",
       "    </tr>\n",
       "    <tr>\n",
       "      <th>2008-01-04</th>\n",
       "      <td>74715000000</td>\n",
       "      <td>89676000000</td>\n",
       "      <td>4.784700e+11</td>\n",
       "      <td>93145360000</td>\n",
       "      <td>484134500000</td>\n",
       "      <td>1220140860000</td>\n",
       "      <td>98.003282</td>\n",
       "    </tr>\n",
       "    <tr>\n",
       "      <th>2008-01-07</th>\n",
       "      <td>74670000000</td>\n",
       "      <td>92502000000</td>\n",
       "      <td>4.853744e+11</td>\n",
       "      <td>91311440000</td>\n",
       "      <td>470178000000</td>\n",
       "      <td>1214035840000</td>\n",
       "      <td>97.512919</td>\n",
       "    </tr>\n",
       "    <tr>\n",
       "      <th>2008-01-08</th>\n",
       "      <td>74145000000</td>\n",
       "      <td>93942000000</td>\n",
       "      <td>4.906388e+11</td>\n",
       "      <td>90574000000</td>\n",
       "      <td>459004500000</td>\n",
       "      <td>1208304300000</td>\n",
       "      <td>97.052554</td>\n",
       "    </tr>\n",
       "  </tbody>\n",
       "</table>\n",
       "</div>"
      ],
      "text/plain": [
       "                    A전자          B건설           C증권          D화학           E엔터  \\\n",
       "Date                                                                            \n",
       "2008-01-02  75000000000  90000000000  4.920000e+11  88000000000  500000000000   \n",
       "2008-01-03  72967500000  88150500000  4.916064e+11  90844160000  496788500000   \n",
       "2008-01-04  74715000000  89676000000  4.784700e+11  93145360000  484134500000   \n",
       "2008-01-07  74670000000  92502000000  4.853744e+11  91311440000  470178000000   \n",
       "2008-01-08  74145000000  93942000000  4.906388e+11  90574000000  459004500000   \n",
       "\n",
       "                       합계          지수  \n",
       "Date                                   \n",
       "2008-01-02  1245000000000  100.000000  \n",
       "2008-01-03  1240357060000   99.627073  \n",
       "2008-01-04  1220140860000   98.003282  \n",
       "2008-01-07  1214035840000   97.512919  \n",
       "2008-01-08  1208304300000   97.052554  "
      ]
     },
     "execution_count": 15,
     "metadata": {},
     "output_type": "execute_result"
    }
   ],
   "source": [
    "sample_df.index = ks200.index\n",
    "sample_df.head()"
   ]
  },
  {
   "cell_type": "markdown",
   "id": "dcdd2c26-5410-4b57-a3bd-470a52f37bec",
   "metadata": {},
   "source": [
    "## 합치기"
   ]
  },
  {
   "cell_type": "code",
   "execution_count": 18,
   "id": "8a9d3652-907e-4471-9104-62b47df68c91",
   "metadata": {
    "tags": []
   },
   "outputs": [
    {
     "data": {
      "text/html": [
       "<div>\n",
       "<style scoped>\n",
       "    .dataframe tbody tr th:only-of-type {\n",
       "        vertical-align: middle;\n",
       "    }\n",
       "\n",
       "    .dataframe tbody tr th {\n",
       "        vertical-align: top;\n",
       "    }\n",
       "\n",
       "    .dataframe thead th {\n",
       "        text-align: right;\n",
       "    }\n",
       "</style>\n",
       "<table border=\"1\" class=\"dataframe\">\n",
       "  <thead>\n",
       "    <tr style=\"text-align: right;\">\n",
       "      <th></th>\n",
       "      <th>지수5</th>\n",
       "      <th>지수200</th>\n",
       "    </tr>\n",
       "    <tr>\n",
       "      <th>Date</th>\n",
       "      <th></th>\n",
       "      <th></th>\n",
       "    </tr>\n",
       "  </thead>\n",
       "  <tbody>\n",
       "    <tr>\n",
       "      <th>2008-01-02</th>\n",
       "      <td>100.000000</td>\n",
       "      <td>100.000000</td>\n",
       "    </tr>\n",
       "    <tr>\n",
       "      <th>2008-01-03</th>\n",
       "      <td>99.627073</td>\n",
       "      <td>99.732255</td>\n",
       "    </tr>\n",
       "    <tr>\n",
       "      <th>2008-01-04</th>\n",
       "      <td>98.003282</td>\n",
       "      <td>100.199746</td>\n",
       "    </tr>\n",
       "    <tr>\n",
       "      <th>2008-01-07</th>\n",
       "      <td>97.512919</td>\n",
       "      <td>98.172544</td>\n",
       "    </tr>\n",
       "    <tr>\n",
       "      <th>2008-01-08</th>\n",
       "      <td>97.052554</td>\n",
       "      <td>97.892050</td>\n",
       "    </tr>\n",
       "  </tbody>\n",
       "</table>\n",
       "</div>"
      ],
      "text/plain": [
       "                   지수5       지수200\n",
       "Date                              \n",
       "2008-01-02  100.000000  100.000000\n",
       "2008-01-03   99.627073   99.732255\n",
       "2008-01-04   98.003282  100.199746\n",
       "2008-01-07   97.512919   98.172544\n",
       "2008-01-08   97.052554   97.892050"
      ]
     },
     "execution_count": 18,
     "metadata": {},
     "output_type": "execute_result"
    }
   ],
   "source": [
    "df = pd.concat([sample_df['지수'], ks200['지수200']], ignore_index=True, axis=1)\n",
    "df.columns = ['지수5', '지수200']\n",
    "df.head()"
   ]
  },
  {
   "cell_type": "code",
   "execution_count": 19,
   "id": "3e9de33f-6ac7-4aec-879c-2042c6f87566",
   "metadata": {
    "tags": []
   },
   "outputs": [
    {
     "data": {
      "text/plain": [
       "<AxesSubplot: xlabel='Date'>"
      ]
     },
     "execution_count": 19,
     "metadata": {},
     "output_type": "execute_result"
    },
    {
     "data": {
      "image/png": "[encoded data removed]",
      "text/plain": [
       "<Figure size 640x480 with 1 Axes>"
      ]
     },
     "metadata": {},
     "output_type": "display_data"
    }
   ],
   "source": [
    "df.plot()\n"
   ]
  }
 ],
 "metadata": {
  "kernelspec": {
   "display_name": "Python 3 (ipykernel)",
   "language": "python",
   "name": "python3"
  },
  "language_info": {
   "codemirror_mode": {
    "name": "ipython",
    "version": 3
   },
   "file_extension": ".py",
   "mimetype": "text/x-python",
   "name": "python",
   "nbconvert_exporter": "python",
   "pygments_lexer": "ipython3",
   "version": "3.8.8"
  }
 },
 "nbformat": 4,
 "nbformat_minor": 5
}
