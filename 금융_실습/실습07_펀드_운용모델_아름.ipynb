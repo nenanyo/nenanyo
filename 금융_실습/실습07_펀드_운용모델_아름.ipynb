{
 "cells": [
  {
   "cell_type": "markdown",
   "id": "7f04e3e3-b452-44ea-a84a-e0b63970b142",
   "metadata": {},
   "source": [
    "<font size=6><b>펀드 운용모델\n",
    "* 참고: 실습06_펀드_운용모델.xlsx"
   ]
  },
  {
   "cell_type": "code",
   "execution_count": 1,
   "id": "dc96e072-d8cb-493a-90fc-5b5aaa9e8826",
   "metadata": {
    "tags": []
   },
   "outputs": [
    {
     "data": {
      "text/html": [
       "<style>.container{width:100% !important;}</style>"
      ],
      "text/plain": [
       "<IPython.core.display.HTML object>"
      ]
     },
     "metadata": {},
     "output_type": "display_data"
    }
   ],
   "source": [
    "from pykrx import stock\n",
    "from pykrx import bond\n",
    "import FinanceDataReader as fdr\n",
    "\n",
    "from IPython.display import Image\n",
    "import pandas as pd\n",
    "import numpy as np\n",
    "import matplotlib.pyplot as plt\n",
    "import seaborn as sns\n",
    "\n",
    "import time\n",
    "\n",
    "\n",
    "import warnings\n",
    "warnings.filterwarnings(action='ignore')\n",
    "\n",
    "sns.set()\n",
    "#-------------------- 차트 관련 속성 (한글처리, 그리드) -----------\n",
    "#plt.rc('font', family='NanumGothicOTF') # For MacOS\n",
    "plt.rcParams['font.family']= 'Malgun Gothic'\n",
    "plt.rcParams['axes.unicode_minus'] = False\n",
    "\n",
    "\n",
    "#-------------------- 주피터 , 출력결과 넓이 늘리기 ---------------\n",
    "from IPython.core.display import display, HTML\n",
    "display(HTML(\"<style>.container{width:100% !important;}</style>\"))\n",
    "pd.set_option('display.max_rows', 100)\n",
    "pd.set_option('display.max_columns', 100)\n",
    "pd.set_option('max_colwidth', None)"
   ]
  },
  {
   "cell_type": "markdown",
   "id": "c1891cd6-fbba-4233-871a-3b68505e80fd",
   "metadata": {},
   "source": [
    "# Data Load"
   ]
  },
  {
   "cell_type": "markdown",
   "id": "6bc3037b-8f9c-42c9-8b3a-a5056e84797b",
   "metadata": {},
   "source": [
    "## 시총 Top 5 업종명, 업종코드\n",
    "* LG에너지솔루션, 삼성전자우 제외"
   ]
  },
  {
   "cell_type": "code",
   "execution_count": 2,
   "id": "25fef2ce-99aa-41b8-b642-ee0a34dc4d1e",
   "metadata": {
    "tags": []
   },
   "outputs": [
    {
     "name": "stdout",
     "output_type": "stream",
     "text": [
      "005930 삼성전자\n",
      "373220 LG에너지솔루션\n",
      "207940 삼성바이오로직스\n",
      "000660 SK하이닉스\n",
      "051910 LG화학\n",
      "005935 삼성전자우\n",
      "006400 삼성SDI\n",
      "5 ['005930', '207940', '000660', '051910', '006400']\n",
      "5 ['삼성전자', '삼성바이오로직스', 'SK하이닉스', 'LG화학', '삼성SDI']\n"
     ]
    }
   ],
   "source": [
    "start_data='20200101'\n",
    "end_data='20221229'\n",
    "\n",
    "df = stock.get_market_cap(end_data) \n",
    "top5_ticker = df.sort_values(by='시가총액', ascending=False).index[:7]\n",
    "top5_name = []\n",
    "for ticker in top5_ticker:\n",
    "    names = stock.get_market_ticker_name(ticker)\n",
    "    top5_name.append(names)\n",
    "    print(ticker, names)\n",
    "    time.sleep(1)  \n",
    "    \n",
    "top5_ticker = list(top5_ticker)\n",
    "\n",
    "top5_ticker.remove('373220')\n",
    "top5_ticker.remove('005935')\n",
    "\n",
    "top5_name.remove('LG에너지솔루션')\n",
    "top5_name.remove('삼성전자우')\n",
    "\n",
    "print(len(top5_ticker), top5_ticker)\n",
    "print(len(top5_name), top5_name)"
   ]
  },
  {
   "cell_type": "markdown",
   "id": "5ac0c403-c992-4ff0-8afe-115fbd739831",
   "metadata": {
    "tags": []
   },
   "source": [
    "## 종목 기본정보\n",
    "* 상장주식수, 유동비율\n",
    "* fnguide 크롤링"
   ]
  },
  {
   "cell_type": "code",
   "execution_count": 3,
   "id": "24fbf08b-9b09-4881-aa21-a170d5be3b84",
   "metadata": {
    "tags": []
   },
   "outputs": [],
   "source": [
    "from bs4 import BeautifulSoup\n",
    "import requests\n",
    "import re"
   ]
  },
  {
   "cell_type": "code",
   "execution_count": 4,
   "id": "209e5789-0922-4e43-81cf-7a3663a38cfa",
   "metadata": {
    "tags": []
   },
   "outputs": [
    {
     "name": "stdout",
     "output_type": "stream",
     "text": [
      "5969782550 75.81 4525870769\n",
      "71174000 24.76 17623664\n",
      "728002365 73.87 537759511\n",
      "70592343 66.63 47036786\n",
      "68764530 73.16 50306427\n"
     ]
    }
   ],
   "source": [
    "발생주식수_list = []\n",
    "유동비율_list = []\n",
    "유동주식수_list = []\n",
    "\n",
    "for ticker in top5_ticker:\n",
    "    res = requests.get(f\"https://comp.fnguide.com/SVO2/ASP/SVD_main.asp?pGB=1&gicode=A{ticker}&cID=&MenuYn=Y&ReportGB=&NewMenuID=11&stkGb=&strResearchYN=\")\n",
    "    soup = BeautifulSoup(res.text, 'html.parser')\n",
    "    \n",
    "    trdata = soup.select(\"#svdMainGrid1> table > tbody > tr\")\n",
    "    td = trdata[5].select(\"td\")\n",
    "    \n",
    "    발행주식수 = td[0].text\n",
    "    발행주식수 = 발행주식수.split(\"/\")[0].strip()\n",
    "    발행주식수 = int(''.join(re.findall('[\\d.]+', 발행주식수)))\n",
    "    \n",
    "    유동비율 = td[1].text\n",
    "    유동비율 = 유동비율.split('/')[1].strip()\n",
    "    유동비율= float(유동비율)\n",
    "    \n",
    "    유동주식수 = td[1].text\n",
    "    유동주식수 = 유동주식수.split('/')[0].strip()\n",
    "    유동주식수 = int(''.join(re.findall('[\\d.]+', 유동주식수)))\n",
    "    \n",
    "    발생주식수_list.append(발행주식수)\n",
    "    유동비율_list.append(유동비율)\n",
    "    유동주식수_list.append(유동주식수)\n",
    "    \n",
    "    print(발행주식수, 유동비율, 유동주식수)\n",
    "    \n",
    "    time.sleep(1)"
   ]
  },
  {
   "cell_type": "code",
   "execution_count": 5,
   "id": "494e5b0b-824c-4abb-9159-41d014c60f63",
   "metadata": {
    "tags": []
   },
   "outputs": [
    {
     "data": {
      "text/plain": [
       "[5969782550, 71174000, 728002365, 70592343, 68764530]"
      ]
     },
     "execution_count": 5,
     "metadata": {},
     "output_type": "execute_result"
    }
   ],
   "source": [
    "발생주식수_list"
   ]
  },
  {
   "cell_type": "code",
   "execution_count": 6,
   "id": "68691d86-058d-4e9c-95b6-a12c79394ad9",
   "metadata": {
    "tags": []
   },
   "outputs": [
    {
     "data": {
      "text/plain": [
       "[75.81, 24.76, 73.87, 66.63, 73.16]"
      ]
     },
     "execution_count": 6,
     "metadata": {},
     "output_type": "execute_result"
    }
   ],
   "source": [
    "유동비율_list"
   ]
  },
  {
   "cell_type": "code",
   "execution_count": 7,
   "id": "32e1a17c-8986-4b71-9f6e-9736032366e5",
   "metadata": {
    "tags": []
   },
   "outputs": [
    {
     "data": {
      "text/plain": [
       "[4525870769, 17623664, 537759511, 47036786, 50306427]"
      ]
     },
     "execution_count": 7,
     "metadata": {},
     "output_type": "execute_result"
    }
   ],
   "source": [
    "유동주식수_list  "
   ]
  },
  {
   "cell_type": "markdown",
   "id": "643f8063-229e-4fbf-93df-8e0bec4c0ea4",
   "metadata": {},
   "source": [
    "## 일자별 주가"
   ]
  },
  {
   "cell_type": "code",
   "execution_count": 8,
   "id": "bc84205e-b781-4e23-b6c9-9f384cc91990",
   "metadata": {
    "tags": []
   },
   "outputs": [
    {
     "name": "stdout",
     "output_type": "stream",
     "text": [
      "005930\n"
     ]
    },
    {
     "ename": "JSONDecodeError",
     "evalue": "Expecting value: line 1 column 1 (char 0)",
     "output_type": "error",
     "traceback": [
      "\u001b[1;31m---------------------------------------------------------------------------\u001b[0m",
      "\u001b[1;31mJSONDecodeError\u001b[0m                           Traceback (most recent call last)",
      "File \u001b[1;32mC:\\AI\\pythonProject\\venv\\lib\\site-packages\\requests\\models.py:971\u001b[0m, in \u001b[0;36mResponse.json\u001b[1;34m(self, **kwargs)\u001b[0m\n\u001b[0;32m    970\u001b[0m \u001b[38;5;28;01mtry\u001b[39;00m:\n\u001b[1;32m--> 971\u001b[0m     \u001b[38;5;28;01mreturn\u001b[39;00m \u001b[43mcomplexjson\u001b[49m\u001b[38;5;241;43m.\u001b[39;49m\u001b[43mloads\u001b[49m\u001b[43m(\u001b[49m\u001b[38;5;28;43mself\u001b[39;49m\u001b[38;5;241;43m.\u001b[39;49m\u001b[43mtext\u001b[49m\u001b[43m,\u001b[49m\u001b[43m \u001b[49m\u001b[38;5;241;43m*\u001b[39;49m\u001b[38;5;241;43m*\u001b[39;49m\u001b[43mkwargs\u001b[49m\u001b[43m)\u001b[49m\n\u001b[0;32m    972\u001b[0m \u001b[38;5;28;01mexcept\u001b[39;00m JSONDecodeError \u001b[38;5;28;01mas\u001b[39;00m e:\n\u001b[0;32m    973\u001b[0m     \u001b[38;5;66;03m# Catch JSON-related errors and raise as requests.JSONDecodeError\u001b[39;00m\n\u001b[0;32m    974\u001b[0m     \u001b[38;5;66;03m# This aliases json.JSONDecodeError and simplejson.JSONDecodeError\u001b[39;00m\n",
      "File \u001b[1;32mC:\\AI\\Python38\\lib\\json\\__init__.py:357\u001b[0m, in \u001b[0;36mloads\u001b[1;34m(s, cls, object_hook, parse_float, parse_int, parse_constant, object_pairs_hook, **kw)\u001b[0m\n\u001b[0;32m    354\u001b[0m \u001b[38;5;28;01mif\u001b[39;00m (\u001b[38;5;28mcls\u001b[39m \u001b[38;5;129;01mis\u001b[39;00m \u001b[38;5;28;01mNone\u001b[39;00m \u001b[38;5;129;01mand\u001b[39;00m object_hook \u001b[38;5;129;01mis\u001b[39;00m \u001b[38;5;28;01mNone\u001b[39;00m \u001b[38;5;129;01mand\u001b[39;00m\n\u001b[0;32m    355\u001b[0m         parse_int \u001b[38;5;129;01mis\u001b[39;00m \u001b[38;5;28;01mNone\u001b[39;00m \u001b[38;5;129;01mand\u001b[39;00m parse_float \u001b[38;5;129;01mis\u001b[39;00m \u001b[38;5;28;01mNone\u001b[39;00m \u001b[38;5;129;01mand\u001b[39;00m\n\u001b[0;32m    356\u001b[0m         parse_constant \u001b[38;5;129;01mis\u001b[39;00m \u001b[38;5;28;01mNone\u001b[39;00m \u001b[38;5;129;01mand\u001b[39;00m object_pairs_hook \u001b[38;5;129;01mis\u001b[39;00m \u001b[38;5;28;01mNone\u001b[39;00m \u001b[38;5;129;01mand\u001b[39;00m \u001b[38;5;129;01mnot\u001b[39;00m kw):\n\u001b[1;32m--> 357\u001b[0m     \u001b[38;5;28;01mreturn\u001b[39;00m \u001b[43m_default_decoder\u001b[49m\u001b[38;5;241;43m.\u001b[39;49m\u001b[43mdecode\u001b[49m\u001b[43m(\u001b[49m\u001b[43ms\u001b[49m\u001b[43m)\u001b[49m\n\u001b[0;32m    358\u001b[0m \u001b[38;5;28;01mif\u001b[39;00m \u001b[38;5;28mcls\u001b[39m \u001b[38;5;129;01mis\u001b[39;00m \u001b[38;5;28;01mNone\u001b[39;00m:\n",
      "File \u001b[1;32mC:\\AI\\Python38\\lib\\json\\decoder.py:337\u001b[0m, in \u001b[0;36mJSONDecoder.decode\u001b[1;34m(self, s, _w)\u001b[0m\n\u001b[0;32m    333\u001b[0m \u001b[38;5;250m\u001b[39m\u001b[38;5;124;03m\"\"\"Return the Python representation of ``s`` (a ``str`` instance\u001b[39;00m\n\u001b[0;32m    334\u001b[0m \u001b[38;5;124;03mcontaining a JSON document).\u001b[39;00m\n\u001b[0;32m    335\u001b[0m \n\u001b[0;32m    336\u001b[0m \u001b[38;5;124;03m\"\"\"\u001b[39;00m\n\u001b[1;32m--> 337\u001b[0m obj, end \u001b[38;5;241m=\u001b[39m \u001b[38;5;28;43mself\u001b[39;49m\u001b[38;5;241;43m.\u001b[39;49m\u001b[43mraw_decode\u001b[49m\u001b[43m(\u001b[49m\u001b[43ms\u001b[49m\u001b[43m,\u001b[49m\u001b[43m \u001b[49m\u001b[43midx\u001b[49m\u001b[38;5;241;43m=\u001b[39;49m\u001b[43m_w\u001b[49m\u001b[43m(\u001b[49m\u001b[43ms\u001b[49m\u001b[43m,\u001b[49m\u001b[43m \u001b[49m\u001b[38;5;241;43m0\u001b[39;49m\u001b[43m)\u001b[49m\u001b[38;5;241;43m.\u001b[39;49m\u001b[43mend\u001b[49m\u001b[43m(\u001b[49m\u001b[43m)\u001b[49m\u001b[43m)\u001b[49m\n\u001b[0;32m    338\u001b[0m end \u001b[38;5;241m=\u001b[39m _w(s, end)\u001b[38;5;241m.\u001b[39mend()\n",
      "File \u001b[1;32mC:\\AI\\Python38\\lib\\json\\decoder.py:355\u001b[0m, in \u001b[0;36mJSONDecoder.raw_decode\u001b[1;34m(self, s, idx)\u001b[0m\n\u001b[0;32m    354\u001b[0m \u001b[38;5;28;01mexcept\u001b[39;00m \u001b[38;5;167;01mStopIteration\u001b[39;00m \u001b[38;5;28;01mas\u001b[39;00m err:\n\u001b[1;32m--> 355\u001b[0m     \u001b[38;5;28;01mraise\u001b[39;00m JSONDecodeError(\u001b[38;5;124m\"\u001b[39m\u001b[38;5;124mExpecting value\u001b[39m\u001b[38;5;124m\"\u001b[39m, s, err\u001b[38;5;241m.\u001b[39mvalue) \u001b[38;5;28;01mfrom\u001b[39;00m \u001b[38;5;28mNone\u001b[39m\n\u001b[0;32m    356\u001b[0m \u001b[38;5;28;01mreturn\u001b[39;00m obj, end\n",
      "\u001b[1;31mJSONDecodeError\u001b[0m: Expecting value: line 1 column 1 (char 0)",
      "\nDuring handling of the above exception, another exception occurred:\n",
      "\u001b[1;31mJSONDecodeError\u001b[0m                           Traceback (most recent call last)",
      "Cell \u001b[1;32mIn[8], line 5\u001b[0m\n\u001b[0;32m      3\u001b[0m names \u001b[38;5;241m=\u001b[39m stock\u001b[38;5;241m.\u001b[39mget_market_ticker_name(ticker)\n\u001b[0;32m      4\u001b[0m \u001b[38;5;28mprint\u001b[39m(ticker)\n\u001b[1;32m----> 5\u001b[0m closev \u001b[38;5;241m=\u001b[39m \u001b[43mstock\u001b[49m\u001b[38;5;241;43m.\u001b[39;49m\u001b[43mget_market_ohlcv\u001b[49m\u001b[43m(\u001b[49m\u001b[43mstart_data\u001b[49m\u001b[43m,\u001b[49m\u001b[43m \u001b[49m\u001b[43mend_data\u001b[49m\u001b[43m,\u001b[49m\u001b[43m \u001b[49m\u001b[43mticker\u001b[49m\u001b[43m)\u001b[49m[[\u001b[38;5;124m'\u001b[39m\u001b[38;5;124m종가\u001b[39m\u001b[38;5;124m'\u001b[39m]]\n\u001b[0;32m      6\u001b[0m closev\u001b[38;5;241m.\u001b[39mcolumns \u001b[38;5;241m=\u001b[39m [names]\n\u001b[0;32m      7\u001b[0m 주가_list\u001b[38;5;241m.\u001b[39mappend(closev)\n",
      "File \u001b[1;32mC:\\AI\\pythonProject\\venv\\lib\\site-packages\\pykrx\\stock\\stock_api.py:190\u001b[0m, in \u001b[0;36mget_market_ohlcv\u001b[1;34m(*args, **kwargs)\u001b[0m\n\u001b[0;32m    187\u001b[0m dates \u001b[38;5;241m=\u001b[39m \u001b[38;5;28mlist\u001b[39m(\u001b[38;5;28mfilter\u001b[39m(regex_yymmdd\u001b[38;5;241m.\u001b[39mmatch, [\u001b[38;5;28mstr\u001b[39m(x) \u001b[38;5;28;01mfor\u001b[39;00m x \u001b[38;5;129;01min\u001b[39;00m args]))\n\u001b[0;32m    188\u001b[0m \u001b[38;5;28;01mif\u001b[39;00m \u001b[38;5;28mlen\u001b[39m(dates) \u001b[38;5;241m==\u001b[39m \u001b[38;5;241m2\u001b[39m \u001b[38;5;129;01mor\u001b[39;00m (\u001b[38;5;124m'\u001b[39m\u001b[38;5;124mfromdate\u001b[39m\u001b[38;5;124m'\u001b[39m \u001b[38;5;129;01min\u001b[39;00m kwargs \u001b[38;5;129;01mand\u001b[39;00m\n\u001b[0;32m    189\u001b[0m                        \u001b[38;5;124m'\u001b[39m\u001b[38;5;124mtodate\u001b[39m\u001b[38;5;124m'\u001b[39m \u001b[38;5;129;01min\u001b[39;00m kwargs):\n\u001b[1;32m--> 190\u001b[0m     \u001b[38;5;28;01mreturn\u001b[39;00m \u001b[43mget_market_ohlcv_by_date\u001b[49m\u001b[43m(\u001b[49m\u001b[38;5;241;43m*\u001b[39;49m\u001b[43margs\u001b[49m\u001b[43m,\u001b[49m\u001b[43m \u001b[49m\u001b[38;5;241;43m*\u001b[39;49m\u001b[38;5;241;43m*\u001b[39;49m\u001b[43mkwargs\u001b[49m\u001b[43m)\u001b[49m\n\u001b[0;32m    191\u001b[0m \u001b[38;5;28;01melse\u001b[39;00m:\n\u001b[0;32m    192\u001b[0m     \u001b[38;5;28;01mreturn\u001b[39;00m get_market_ohlcv_by_ticker(\u001b[38;5;241m*\u001b[39margs, \u001b[38;5;241m*\u001b[39m\u001b[38;5;241m*\u001b[39mkwargs)\n",
      "File \u001b[1;32mC:\\AI\\pythonProject\\venv\\lib\\site-packages\\pykrx\\stock\\stock_api.py:231\u001b[0m, in \u001b[0;36mget_market_ohlcv_by_date\u001b[1;34m(fromdate, todate, ticker, freq, adjusted, name_display)\u001b[0m\n\u001b[0;32m    228\u001b[0m fromdate \u001b[38;5;241m=\u001b[39m fromdate\u001b[38;5;241m.\u001b[39mreplace(\u001b[38;5;124m\"\u001b[39m\u001b[38;5;124m-\u001b[39m\u001b[38;5;124m\"\u001b[39m, \u001b[38;5;124m\"\u001b[39m\u001b[38;5;124m\"\u001b[39m)\n\u001b[0;32m    229\u001b[0m todate \u001b[38;5;241m=\u001b[39m todate\u001b[38;5;241m.\u001b[39mreplace(\u001b[38;5;124m\"\u001b[39m\u001b[38;5;124m-\u001b[39m\u001b[38;5;124m\"\u001b[39m, \u001b[38;5;124m\"\u001b[39m\u001b[38;5;124m\"\u001b[39m)\n\u001b[1;32m--> 231\u001b[0m df \u001b[38;5;241m=\u001b[39m \u001b[43mkrx\u001b[49m\u001b[38;5;241;43m.\u001b[39;49m\u001b[43mget_market_ohlcv_by_date\u001b[49m\u001b[43m(\u001b[49m\u001b[43mfromdate\u001b[49m\u001b[43m,\u001b[49m\u001b[43m \u001b[49m\u001b[43mtodate\u001b[49m\u001b[43m,\u001b[49m\u001b[43m \u001b[49m\u001b[43mticker\u001b[49m\u001b[43m,\u001b[49m\u001b[43m \u001b[49m\u001b[43madjusted\u001b[49m\u001b[43m)\u001b[49m\n\u001b[0;32m    233\u001b[0m \u001b[38;5;28;01mif\u001b[39;00m name_display:\n\u001b[0;32m    234\u001b[0m     df\u001b[38;5;241m.\u001b[39mcolumns\u001b[38;5;241m.\u001b[39mname \u001b[38;5;241m=\u001b[39m get_market_ticker_name(ticker)\n",
      "File \u001b[1;32mC:\\AI\\pythonProject\\venv\\lib\\site-packages\\pykrx\\website\\comm\\util.py:8\u001b[0m, in \u001b[0;36mdataframe_empty_handler.<locals>.wrapper\u001b[1;34m(*args, **kwargs)\u001b[0m\n\u001b[0;32m      6\u001b[0m \u001b[38;5;28;01mdef\u001b[39;00m \u001b[38;5;21mwrapper\u001b[39m(\u001b[38;5;241m*\u001b[39margs, \u001b[38;5;241m*\u001b[39m\u001b[38;5;241m*\u001b[39mkwargs):\n\u001b[0;32m      7\u001b[0m     \u001b[38;5;28;01mtry\u001b[39;00m:\n\u001b[1;32m----> 8\u001b[0m         \u001b[38;5;28;01mreturn\u001b[39;00m \u001b[43mfunc\u001b[49m\u001b[43m(\u001b[49m\u001b[38;5;241;43m*\u001b[39;49m\u001b[43margs\u001b[49m\u001b[43m,\u001b[49m\u001b[43m \u001b[49m\u001b[38;5;241;43m*\u001b[39;49m\u001b[38;5;241;43m*\u001b[39;49m\u001b[43mkwargs\u001b[49m\u001b[43m)\u001b[49m\n\u001b[0;32m      9\u001b[0m     \u001b[38;5;28;01mexcept\u001b[39;00m (\u001b[38;5;167;01mAttributeError\u001b[39;00m, \u001b[38;5;167;01mKeyError\u001b[39;00m, \u001b[38;5;167;01mTypeError\u001b[39;00m) \u001b[38;5;28;01mas\u001b[39;00m e:\n\u001b[0;32m     10\u001b[0m         logging\u001b[38;5;241m.\u001b[39minfo(args, kwargs)\n",
      "File \u001b[1;32mC:\\AI\\pythonProject\\venv\\lib\\site-packages\\pykrx\\website\\krx\\market\\wrap.py:52\u001b[0m, in \u001b[0;36mget_market_ohlcv_by_date\u001b[1;34m(fromdate, todate, ticker, adjusted)\u001b[0m\n\u001b[0;32m     50\u001b[0m isin \u001b[38;5;241m=\u001b[39m get_stock_ticker_isin(ticker)\n\u001b[0;32m     51\u001b[0m adjusted \u001b[38;5;241m=\u001b[39m \u001b[38;5;241m2\u001b[39m \u001b[38;5;28;01mif\u001b[39;00m adjusted \u001b[38;5;28;01melse\u001b[39;00m \u001b[38;5;241m1\u001b[39m\n\u001b[1;32m---> 52\u001b[0m df \u001b[38;5;241m=\u001b[39m \u001b[43m개별종목시세\u001b[49m\u001b[43m(\u001b[49m\u001b[43m)\u001b[49m\u001b[38;5;241;43m.\u001b[39;49m\u001b[43mfetch\u001b[49m\u001b[43m(\u001b[49m\u001b[43mfromdate\u001b[49m\u001b[43m,\u001b[49m\u001b[43m \u001b[49m\u001b[43mtodate\u001b[49m\u001b[43m,\u001b[49m\u001b[43m \u001b[49m\u001b[43misin\u001b[49m\u001b[43m,\u001b[49m\u001b[43m \u001b[49m\u001b[43madjusted\u001b[49m\u001b[43m)\u001b[49m\n\u001b[0;32m     54\u001b[0m df \u001b[38;5;241m=\u001b[39m df[[\u001b[38;5;124m'\u001b[39m\u001b[38;5;124mTRD_DD\u001b[39m\u001b[38;5;124m'\u001b[39m, \u001b[38;5;124m'\u001b[39m\u001b[38;5;124mTDD_OPNPRC\u001b[39m\u001b[38;5;124m'\u001b[39m, \u001b[38;5;124m'\u001b[39m\u001b[38;5;124mTDD_HGPRC\u001b[39m\u001b[38;5;124m'\u001b[39m, \u001b[38;5;124m'\u001b[39m\u001b[38;5;124mTDD_LWPRC\u001b[39m\u001b[38;5;124m'\u001b[39m, \u001b[38;5;124m'\u001b[39m\u001b[38;5;124mTDD_CLSPRC\u001b[39m\u001b[38;5;124m'\u001b[39m,\n\u001b[0;32m     55\u001b[0m          \u001b[38;5;124m'\u001b[39m\u001b[38;5;124mACC_TRDVOL\u001b[39m\u001b[38;5;124m'\u001b[39m, \u001b[38;5;124m'\u001b[39m\u001b[38;5;124mACC_TRDVAL\u001b[39m\u001b[38;5;124m'\u001b[39m, \u001b[38;5;124m'\u001b[39m\u001b[38;5;124mFLUC_RT\u001b[39m\u001b[38;5;124m'\u001b[39m]]\n\u001b[0;32m     56\u001b[0m df\u001b[38;5;241m.\u001b[39mcolumns \u001b[38;5;241m=\u001b[39m [\u001b[38;5;124m'\u001b[39m\u001b[38;5;124m날짜\u001b[39m\u001b[38;5;124m'\u001b[39m, \u001b[38;5;124m'\u001b[39m\u001b[38;5;124m시가\u001b[39m\u001b[38;5;124m'\u001b[39m, \u001b[38;5;124m'\u001b[39m\u001b[38;5;124m고가\u001b[39m\u001b[38;5;124m'\u001b[39m, \u001b[38;5;124m'\u001b[39m\u001b[38;5;124m저가\u001b[39m\u001b[38;5;124m'\u001b[39m, \u001b[38;5;124m'\u001b[39m\u001b[38;5;124m종가\u001b[39m\u001b[38;5;124m'\u001b[39m, \u001b[38;5;124m'\u001b[39m\u001b[38;5;124m거래량\u001b[39m\u001b[38;5;124m'\u001b[39m, \u001b[38;5;124m'\u001b[39m\u001b[38;5;124m거래대금\u001b[39m\u001b[38;5;124m'\u001b[39m,\n\u001b[0;32m     57\u001b[0m               \u001b[38;5;124m'\u001b[39m\u001b[38;5;124m등락률\u001b[39m\u001b[38;5;124m'\u001b[39m]\n",
      "File \u001b[1;32mC:\\AI\\pythonProject\\venv\\lib\\site-packages\\pykrx\\website\\krx\\market\\core.py:114\u001b[0m, in \u001b[0;36m개별종목시세.fetch\u001b[1;34m(self, strtDd, endDd, isuCd, adjStkPrc)\u001b[0m\n\u001b[0;32m     82\u001b[0m \u001b[38;5;28;01mdef\u001b[39;00m \u001b[38;5;21mfetch\u001b[39m(\u001b[38;5;28mself\u001b[39m, strtDd: \u001b[38;5;28mstr\u001b[39m, endDd: \u001b[38;5;28mstr\u001b[39m, isuCd: \u001b[38;5;28mstr\u001b[39m, adjStkPrc: \u001b[38;5;28mint\u001b[39m) \u001b[38;5;241m-\u001b[39m\u001b[38;5;241m>\u001b[39m DataFrame:\n\u001b[0;32m     83\u001b[0m \u001b[38;5;250m    \u001b[39m\u001b[38;5;124;03m\"\"\"[12003] 개별종목 시세 추이 (수정종가 아님)\u001b[39;00m\n\u001b[0;32m     84\u001b[0m \n\u001b[0;32m     85\u001b[0m \u001b[38;5;124;03m    Args:\u001b[39;00m\n\u001b[1;32m   (...)\u001b[0m\n\u001b[0;32m    112\u001b[0m \u001b[38;5;124;03m            543,250,212,050,000  5,969,782,550\u001b[39;00m\n\u001b[0;32m    113\u001b[0m \u001b[38;5;124;03m    \"\"\"\u001b[39;00m\n\u001b[1;32m--> 114\u001b[0m     result \u001b[38;5;241m=\u001b[39m \u001b[38;5;28;43mself\u001b[39;49m\u001b[38;5;241;43m.\u001b[39;49m\u001b[43mread\u001b[49m\u001b[43m(\u001b[49m\u001b[43misuCd\u001b[49m\u001b[38;5;241;43m=\u001b[39;49m\u001b[43misuCd\u001b[49m\u001b[43m,\u001b[49m\u001b[43m \u001b[49m\u001b[43mstrtDd\u001b[49m\u001b[38;5;241;43m=\u001b[39;49m\u001b[43mstrtDd\u001b[49m\u001b[43m,\u001b[49m\u001b[43m \u001b[49m\u001b[43mendDd\u001b[49m\u001b[38;5;241;43m=\u001b[39;49m\u001b[43mendDd\u001b[49m\u001b[43m,\u001b[49m\u001b[43m \u001b[49m\u001b[43madjStkPrc\u001b[49m\u001b[38;5;241;43m=\u001b[39;49m\u001b[43madjStkPrc\u001b[49m\u001b[43m)\u001b[49m\n\u001b[0;32m    115\u001b[0m     \u001b[38;5;28;01mreturn\u001b[39;00m DataFrame(result[\u001b[38;5;124m'\u001b[39m\u001b[38;5;124moutput\u001b[39m\u001b[38;5;124m'\u001b[39m])\n",
      "File \u001b[1;32mC:\\AI\\pythonProject\\venv\\lib\\site-packages\\pykrx\\website\\krx\\krxio.py:24\u001b[0m, in \u001b[0;36mKrxWebIo.read\u001b[1;34m(self, **params)\u001b[0m\n\u001b[0;32m     22\u001b[0m params\u001b[38;5;241m.\u001b[39mupdate(bld\u001b[38;5;241m=\u001b[39m\u001b[38;5;28mself\u001b[39m\u001b[38;5;241m.\u001b[39mbld)\n\u001b[0;32m     23\u001b[0m resp \u001b[38;5;241m=\u001b[39m \u001b[38;5;28msuper\u001b[39m()\u001b[38;5;241m.\u001b[39mread(\u001b[38;5;241m*\u001b[39m\u001b[38;5;241m*\u001b[39mparams)\n\u001b[1;32m---> 24\u001b[0m \u001b[38;5;28;01mreturn\u001b[39;00m \u001b[43mresp\u001b[49m\u001b[38;5;241;43m.\u001b[39;49m\u001b[43mjson\u001b[49m\u001b[43m(\u001b[49m\u001b[43m)\u001b[49m\n",
      "File \u001b[1;32mC:\\AI\\pythonProject\\venv\\lib\\site-packages\\requests\\models.py:975\u001b[0m, in \u001b[0;36mResponse.json\u001b[1;34m(self, **kwargs)\u001b[0m\n\u001b[0;32m    971\u001b[0m     \u001b[38;5;28;01mreturn\u001b[39;00m complexjson\u001b[38;5;241m.\u001b[39mloads(\u001b[38;5;28mself\u001b[39m\u001b[38;5;241m.\u001b[39mtext, \u001b[38;5;241m*\u001b[39m\u001b[38;5;241m*\u001b[39mkwargs)\n\u001b[0;32m    972\u001b[0m \u001b[38;5;28;01mexcept\u001b[39;00m JSONDecodeError \u001b[38;5;28;01mas\u001b[39;00m e:\n\u001b[0;32m    973\u001b[0m     \u001b[38;5;66;03m# Catch JSON-related errors and raise as requests.JSONDecodeError\u001b[39;00m\n\u001b[0;32m    974\u001b[0m     \u001b[38;5;66;03m# This aliases json.JSONDecodeError and simplejson.JSONDecodeError\u001b[39;00m\n\u001b[1;32m--> 975\u001b[0m     \u001b[38;5;28;01mraise\u001b[39;00m RequestsJSONDecodeError(e\u001b[38;5;241m.\u001b[39mmsg, e\u001b[38;5;241m.\u001b[39mdoc, e\u001b[38;5;241m.\u001b[39mpos)\n",
      "\u001b[1;31mJSONDecodeError\u001b[0m: Expecting value: line 1 column 1 (char 0)"
     ]
    }
   ],
   "source": [
    "주가_list = []\n",
    "for ticker in top5_ticker:\n",
    "    names = stock.get_market_ticker_name(ticker)\n",
    "    print(ticker)\n",
    "    closev = stock.get_market_ohlcv(start_data, end_data, ticker)[['종가']]\n",
    "    closev.columns = [names]\n",
    "    주가_list.append(closev)\n",
    "    time.sleep(1)  \n",
    "    \n",
    "주가_df = pd.concat(주가_list, axis=1)  \n",
    "주가_df.head()"
   ]
  },
  {
   "cell_type": "code",
   "execution_count": null,
   "id": "3359af72-f4b9-4e3d-9fa7-75454ac52064",
   "metadata": {
    "tags": []
   },
   "outputs": [],
   "source": [
    "주가_df.to_csv('실습07_일자별주가.csv')"
   ]
  },
  {
   "cell_type": "markdown",
   "id": "c67e3ec9-02af-4e99-809e-75dc0647b4dc",
   "metadata": {},
   "source": [
    "* <font color=red><b>API 막혀있을 경우 아래 코드로 대체"
   ]
  },
  {
   "cell_type": "code",
   "execution_count": 9,
   "id": "58433400-ac4a-4694-a337-b24d45c6d366",
   "metadata": {
    "tags": []
   },
   "outputs": [
    {
     "data": {
      "text/html": [
       "<div>\n",
       "<style scoped>\n",
       "    .dataframe tbody tr th:only-of-type {\n",
       "        vertical-align: middle;\n",
       "    }\n",
       "\n",
       "    .dataframe tbody tr th {\n",
       "        vertical-align: top;\n",
       "    }\n",
       "\n",
       "    .dataframe thead th {\n",
       "        text-align: right;\n",
       "    }\n",
       "</style>\n",
       "<table border=\"1\" class=\"dataframe\">\n",
       "  <thead>\n",
       "    <tr style=\"text-align: right;\">\n",
       "      <th></th>\n",
       "      <th>삼성전자</th>\n",
       "      <th>삼성바이오로직스</th>\n",
       "      <th>SK하이닉스</th>\n",
       "      <th>LG화학</th>\n",
       "      <th>삼성SDI</th>\n",
       "    </tr>\n",
       "    <tr>\n",
       "      <th>날짜</th>\n",
       "      <th></th>\n",
       "      <th></th>\n",
       "      <th></th>\n",
       "      <th></th>\n",
       "      <th></th>\n",
       "    </tr>\n",
       "  </thead>\n",
       "  <tbody>\n",
       "    <tr>\n",
       "      <th>2020-01-02</th>\n",
       "      <td>55200</td>\n",
       "      <td>423485</td>\n",
       "      <td>94700</td>\n",
       "      <td>314000</td>\n",
       "      <td>232000</td>\n",
       "    </tr>\n",
       "    <tr>\n",
       "      <th>2020-01-03</th>\n",
       "      <td>55500</td>\n",
       "      <td>417061</td>\n",
       "      <td>94500</td>\n",
       "      <td>311000</td>\n",
       "      <td>229000</td>\n",
       "    </tr>\n",
       "    <tr>\n",
       "      <th>2020-01-06</th>\n",
       "      <td>55500</td>\n",
       "      <td>407178</td>\n",
       "      <td>94300</td>\n",
       "      <td>307000</td>\n",
       "      <td>230000</td>\n",
       "    </tr>\n",
       "    <tr>\n",
       "      <th>2020-01-07</th>\n",
       "      <td>55800</td>\n",
       "      <td>414096</td>\n",
       "      <td>94000</td>\n",
       "      <td>311000</td>\n",
       "      <td>231500</td>\n",
       "    </tr>\n",
       "    <tr>\n",
       "      <th>2020-01-08</th>\n",
       "      <td>56800</td>\n",
       "      <td>403719</td>\n",
       "      <td>97400</td>\n",
       "      <td>302000</td>\n",
       "      <td>229000</td>\n",
       "    </tr>\n",
       "  </tbody>\n",
       "</table>\n",
       "</div>"
      ],
      "text/plain": [
       "             삼성전자  삼성바이오로직스  SK하이닉스    LG화학   삼성SDI\n",
       "날짜                                                 \n",
       "2020-01-02  55200    423485   94700  314000  232000\n",
       "2020-01-03  55500    417061   94500  311000  229000\n",
       "2020-01-06  55500    407178   94300  307000  230000\n",
       "2020-01-07  55800    414096   94000  311000  231500\n",
       "2020-01-08  56800    403719   97400  302000  229000"
      ]
     },
     "execution_count": 9,
     "metadata": {},
     "output_type": "execute_result"
    }
   ],
   "source": [
    "주가_df = pd.read_csv(\"실습07_일자별주가.csv\",  parse_dates=[\"날짜\"])\n",
    "주가_df = 주가_df.set_index(\"날짜\")\n",
    "주가_df.head()"
   ]
  },
  {
   "cell_type": "markdown",
   "id": "e09a5162-1a56-4dc6-8b00-8deabacdad7c",
   "metadata": {},
   "source": [
    "# 일자별 시가 총액"
   ]
  },
  {
   "cell_type": "code",
   "execution_count": 10,
   "id": "f4b85006-2d5e-4611-be16-302c8f3a8efa",
   "metadata": {
    "tags": []
   },
   "outputs": [
    {
     "data": {
      "text/html": [
       "<div>\n",
       "<style scoped>\n",
       "    .dataframe tbody tr th:only-of-type {\n",
       "        vertical-align: middle;\n",
       "    }\n",
       "\n",
       "    .dataframe tbody tr th {\n",
       "        vertical-align: top;\n",
       "    }\n",
       "\n",
       "    .dataframe thead th {\n",
       "        text-align: right;\n",
       "    }\n",
       "</style>\n",
       "<table border=\"1\" class=\"dataframe\">\n",
       "  <thead>\n",
       "    <tr style=\"text-align: right;\">\n",
       "      <th></th>\n",
       "      <th>삼성전자</th>\n",
       "      <th>삼성바이오로직스</th>\n",
       "      <th>SK하이닉스</th>\n",
       "      <th>LG화학</th>\n",
       "      <th>삼성SDI</th>\n",
       "    </tr>\n",
       "    <tr>\n",
       "      <th>날짜</th>\n",
       "      <th></th>\n",
       "      <th></th>\n",
       "      <th></th>\n",
       "      <th></th>\n",
       "      <th></th>\n",
       "    </tr>\n",
       "  </thead>\n",
       "  <tbody>\n",
       "    <tr>\n",
       "      <th>2020-01-02</th>\n",
       "      <td>249828066448800</td>\n",
       "      <td>7463357349040</td>\n",
       "      <td>50925825691700</td>\n",
       "      <td>14769550804000</td>\n",
       "      <td>11671091064000</td>\n",
       "    </tr>\n",
       "    <tr>\n",
       "      <th>2020-01-03</th>\n",
       "      <td>251185827679500</td>\n",
       "      <td>7350142931504</td>\n",
       "      <td>50818273789500</td>\n",
       "      <td>14628440446000</td>\n",
       "      <td>11520171783000</td>\n",
       "    </tr>\n",
       "    <tr>\n",
       "      <th>2020-01-06</th>\n",
       "      <td>251185827679500</td>\n",
       "      <td>7175968260192</td>\n",
       "      <td>50710721887300</td>\n",
       "      <td>14440293302000</td>\n",
       "      <td>11570478210000</td>\n",
       "    </tr>\n",
       "    <tr>\n",
       "      <th>2020-01-07</th>\n",
       "      <td>252543588910200</td>\n",
       "      <td>7297888767744</td>\n",
       "      <td>50549394034000</td>\n",
       "      <td>14628440446000</td>\n",
       "      <td>11645937850500</td>\n",
       "    </tr>\n",
       "    <tr>\n",
       "      <th>2020-01-08</th>\n",
       "      <td>257069459679200</td>\n",
       "      <td>7115008006416</td>\n",
       "      <td>52377776371400</td>\n",
       "      <td>14205109372000</td>\n",
       "      <td>11520171783000</td>\n",
       "    </tr>\n",
       "  </tbody>\n",
       "</table>\n",
       "</div>"
      ],
      "text/plain": [
       "                       삼성전자       삼성바이오로직스          SK하이닉스            LG화학  \\\n",
       "날짜                                                                           \n",
       "2020-01-02  249828066448800  7463357349040  50925825691700  14769550804000   \n",
       "2020-01-03  251185827679500  7350142931504  50818273789500  14628440446000   \n",
       "2020-01-06  251185827679500  7175968260192  50710721887300  14440293302000   \n",
       "2020-01-07  252543588910200  7297888767744  50549394034000  14628440446000   \n",
       "2020-01-08  257069459679200  7115008006416  52377776371400  14205109372000   \n",
       "\n",
       "                     삼성SDI  \n",
       "날짜                          \n",
       "2020-01-02  11671091064000  \n",
       "2020-01-03  11520171783000  \n",
       "2020-01-06  11570478210000  \n",
       "2020-01-07  11645937850500  \n",
       "2020-01-08  11520171783000  "
      ]
     },
     "execution_count": 10,
     "metadata": {},
     "output_type": "execute_result"
    }
   ],
   "source": [
    "# 유동주식수 = np.array(발생주식수_list) * np.array(유동비율_list)*0.01\n",
    "# 시가총액_df = 주가_df*유동주식수\n",
    "시가총액_df = 주가_df*np.array(유동주식수_list)\n",
    "시가총액_df.head()"
   ]
  },
  {
   "cell_type": "code",
   "execution_count": 11,
   "id": "614f5499-152b-4f53-8e9e-c0a732bf6b91",
   "metadata": {
    "tags": []
   },
   "outputs": [
    {
     "data": {
      "text/html": [
       "<div>\n",
       "<style scoped>\n",
       "    .dataframe tbody tr th:only-of-type {\n",
       "        vertical-align: middle;\n",
       "    }\n",
       "\n",
       "    .dataframe tbody tr th {\n",
       "        vertical-align: top;\n",
       "    }\n",
       "\n",
       "    .dataframe thead th {\n",
       "        text-align: right;\n",
       "    }\n",
       "</style>\n",
       "<table border=\"1\" class=\"dataframe\">\n",
       "  <thead>\n",
       "    <tr style=\"text-align: right;\">\n",
       "      <th></th>\n",
       "      <th>삼성전자</th>\n",
       "      <th>삼성바이오로직스</th>\n",
       "      <th>SK하이닉스</th>\n",
       "      <th>LG화학</th>\n",
       "      <th>삼성SDI</th>\n",
       "      <th>합계</th>\n",
       "    </tr>\n",
       "    <tr>\n",
       "      <th>날짜</th>\n",
       "      <th></th>\n",
       "      <th></th>\n",
       "      <th></th>\n",
       "      <th></th>\n",
       "      <th></th>\n",
       "      <th></th>\n",
       "    </tr>\n",
       "  </thead>\n",
       "  <tbody>\n",
       "    <tr>\n",
       "      <th>2020-01-02</th>\n",
       "      <td>249828066448800</td>\n",
       "      <td>7463357349040</td>\n",
       "      <td>50925825691700</td>\n",
       "      <td>14769550804000</td>\n",
       "      <td>11671091064000</td>\n",
       "      <td>334657891357540</td>\n",
       "    </tr>\n",
       "    <tr>\n",
       "      <th>2020-01-03</th>\n",
       "      <td>251185827679500</td>\n",
       "      <td>7350142931504</td>\n",
       "      <td>50818273789500</td>\n",
       "      <td>14628440446000</td>\n",
       "      <td>11520171783000</td>\n",
       "      <td>335502856629504</td>\n",
       "    </tr>\n",
       "    <tr>\n",
       "      <th>2020-01-06</th>\n",
       "      <td>251185827679500</td>\n",
       "      <td>7175968260192</td>\n",
       "      <td>50710721887300</td>\n",
       "      <td>14440293302000</td>\n",
       "      <td>11570478210000</td>\n",
       "      <td>335083289338992</td>\n",
       "    </tr>\n",
       "    <tr>\n",
       "      <th>2020-01-07</th>\n",
       "      <td>252543588910200</td>\n",
       "      <td>7297888767744</td>\n",
       "      <td>50549394034000</td>\n",
       "      <td>14628440446000</td>\n",
       "      <td>11645937850500</td>\n",
       "      <td>336665250008444</td>\n",
       "    </tr>\n",
       "    <tr>\n",
       "      <th>2020-01-08</th>\n",
       "      <td>257069459679200</td>\n",
       "      <td>7115008006416</td>\n",
       "      <td>52377776371400</td>\n",
       "      <td>14205109372000</td>\n",
       "      <td>11520171783000</td>\n",
       "      <td>342287525212016</td>\n",
       "    </tr>\n",
       "  </tbody>\n",
       "</table>\n",
       "</div>"
      ],
      "text/plain": [
       "                       삼성전자       삼성바이오로직스          SK하이닉스            LG화학  \\\n",
       "날짜                                                                           \n",
       "2020-01-02  249828066448800  7463357349040  50925825691700  14769550804000   \n",
       "2020-01-03  251185827679500  7350142931504  50818273789500  14628440446000   \n",
       "2020-01-06  251185827679500  7175968260192  50710721887300  14440293302000   \n",
       "2020-01-07  252543588910200  7297888767744  50549394034000  14628440446000   \n",
       "2020-01-08  257069459679200  7115008006416  52377776371400  14205109372000   \n",
       "\n",
       "                     삼성SDI               합계  \n",
       "날짜                                           \n",
       "2020-01-02  11671091064000  334657891357540  \n",
       "2020-01-03  11520171783000  335502856629504  \n",
       "2020-01-06  11570478210000  335083289338992  \n",
       "2020-01-07  11645937850500  336665250008444  \n",
       "2020-01-08  11520171783000  342287525212016  "
      ]
     },
     "execution_count": 11,
     "metadata": {},
     "output_type": "execute_result"
    }
   ],
   "source": [
    "# 시가총액_df['합계'] = 시가총액_df.iloc[:,0]+시가총액_df.iloc[:,1]+시가총액_df.iloc[:,2]+시가총액_df.iloc[:,3]+시가총액_df.iloc[:,4]\n",
    "시가총액_df['합계'] = 시가총액_df.sum(axis=1)\n",
    "시가총액_df.head()"
   ]
  },
  {
   "cell_type": "code",
   "execution_count": 12,
   "id": "e268c35c-328a-4096-8b13-d8b3fdc7be5f",
   "metadata": {
    "tags": []
   },
   "outputs": [
    {
     "data": {
      "text/html": [
       "<div>\n",
       "<style scoped>\n",
       "    .dataframe tbody tr th:only-of-type {\n",
       "        vertical-align: middle;\n",
       "    }\n",
       "\n",
       "    .dataframe tbody tr th {\n",
       "        vertical-align: top;\n",
       "    }\n",
       "\n",
       "    .dataframe thead th {\n",
       "        text-align: right;\n",
       "    }\n",
       "</style>\n",
       "<table border=\"1\" class=\"dataframe\">\n",
       "  <thead>\n",
       "    <tr style=\"text-align: right;\">\n",
       "      <th></th>\n",
       "      <th>삼성전자</th>\n",
       "      <th>삼성바이오로직스</th>\n",
       "      <th>SK하이닉스</th>\n",
       "      <th>LG화학</th>\n",
       "      <th>삼성SDI</th>\n",
       "      <th>합계</th>\n",
       "      <th>지수</th>\n",
       "    </tr>\n",
       "    <tr>\n",
       "      <th>날짜</th>\n",
       "      <th></th>\n",
       "      <th></th>\n",
       "      <th></th>\n",
       "      <th></th>\n",
       "      <th></th>\n",
       "      <th></th>\n",
       "      <th></th>\n",
       "    </tr>\n",
       "  </thead>\n",
       "  <tbody>\n",
       "    <tr>\n",
       "      <th>2020-01-02</th>\n",
       "      <td>249828066448800</td>\n",
       "      <td>7463357349040</td>\n",
       "      <td>50925825691700</td>\n",
       "      <td>14769550804000</td>\n",
       "      <td>11671091064000</td>\n",
       "      <td>334657891357540</td>\n",
       "      <td>1.000000</td>\n",
       "    </tr>\n",
       "    <tr>\n",
       "      <th>2020-01-03</th>\n",
       "      <td>251185827679500</td>\n",
       "      <td>7350142931504</td>\n",
       "      <td>50818273789500</td>\n",
       "      <td>14628440446000</td>\n",
       "      <td>11520171783000</td>\n",
       "      <td>335502856629504</td>\n",
       "      <td>1.002525</td>\n",
       "    </tr>\n",
       "    <tr>\n",
       "      <th>2020-01-06</th>\n",
       "      <td>251185827679500</td>\n",
       "      <td>7175968260192</td>\n",
       "      <td>50710721887300</td>\n",
       "      <td>14440293302000</td>\n",
       "      <td>11570478210000</td>\n",
       "      <td>335083289338992</td>\n",
       "      <td>1.001271</td>\n",
       "    </tr>\n",
       "    <tr>\n",
       "      <th>2020-01-07</th>\n",
       "      <td>252543588910200</td>\n",
       "      <td>7297888767744</td>\n",
       "      <td>50549394034000</td>\n",
       "      <td>14628440446000</td>\n",
       "      <td>11645937850500</td>\n",
       "      <td>336665250008444</td>\n",
       "      <td>1.005998</td>\n",
       "    </tr>\n",
       "    <tr>\n",
       "      <th>2020-01-08</th>\n",
       "      <td>257069459679200</td>\n",
       "      <td>7115008006416</td>\n",
       "      <td>52377776371400</td>\n",
       "      <td>14205109372000</td>\n",
       "      <td>11520171783000</td>\n",
       "      <td>342287525212016</td>\n",
       "      <td>1.022798</td>\n",
       "    </tr>\n",
       "  </tbody>\n",
       "</table>\n",
       "</div>"
      ],
      "text/plain": [
       "                       삼성전자       삼성바이오로직스          SK하이닉스            LG화학  \\\n",
       "날짜                                                                           \n",
       "2020-01-02  249828066448800  7463357349040  50925825691700  14769550804000   \n",
       "2020-01-03  251185827679500  7350142931504  50818273789500  14628440446000   \n",
       "2020-01-06  251185827679500  7175968260192  50710721887300  14440293302000   \n",
       "2020-01-07  252543588910200  7297888767744  50549394034000  14628440446000   \n",
       "2020-01-08  257069459679200  7115008006416  52377776371400  14205109372000   \n",
       "\n",
       "                     삼성SDI               합계        지수  \n",
       "날짜                                                     \n",
       "2020-01-02  11671091064000  334657891357540  1.000000  \n",
       "2020-01-03  11520171783000  335502856629504  1.002525  \n",
       "2020-01-06  11570478210000  335083289338992  1.001271  \n",
       "2020-01-07  11645937850500  336665250008444  1.005998  \n",
       "2020-01-08  11520171783000  342287525212016  1.022798  "
      ]
     },
     "execution_count": 12,
     "metadata": {},
     "output_type": "execute_result"
    }
   ],
   "source": [
    "시가총액_df['지수'] = 시가총액_df['합계']/시가총액_df.iloc[0,5]\n",
    "시가총액_df.head()"
   ]
  },
  {
   "cell_type": "markdown",
   "id": "e6e69bd6-6a12-4dbe-a2e1-af23e32f089f",
   "metadata": {},
   "source": [
    "# 펀드"
   ]
  },
  {
   "cell_type": "markdown",
   "id": "c3caff65-603e-4fa4-b621-dfc41feb994b",
   "metadata": {},
   "source": [
    "## 편입비중"
   ]
  },
  {
   "cell_type": "code",
   "execution_count": 13,
   "id": "a16d254c-4f71-4a3c-8a04-f37ace63cc93",
   "metadata": {
    "tags": []
   },
   "outputs": [
    {
     "data": {
      "text/html": [
       "<div>\n",
       "<style scoped>\n",
       "    .dataframe tbody tr th:only-of-type {\n",
       "        vertical-align: middle;\n",
       "    }\n",
       "\n",
       "    .dataframe tbody tr th {\n",
       "        vertical-align: top;\n",
       "    }\n",
       "\n",
       "    .dataframe thead th {\n",
       "        text-align: right;\n",
       "    }\n",
       "</style>\n",
       "<table border=\"1\" class=\"dataframe\">\n",
       "  <thead>\n",
       "    <tr style=\"text-align: right;\">\n",
       "      <th></th>\n",
       "      <th>삼성전자</th>\n",
       "      <th>삼성바이오로직스</th>\n",
       "      <th>SK하이닉스</th>\n",
       "      <th>LG화학</th>\n",
       "      <th>삼성SDI</th>\n",
       "    </tr>\n",
       "    <tr>\n",
       "      <th>날짜</th>\n",
       "      <th></th>\n",
       "      <th></th>\n",
       "      <th></th>\n",
       "      <th></th>\n",
       "      <th></th>\n",
       "    </tr>\n",
       "  </thead>\n",
       "  <tbody>\n",
       "    <tr>\n",
       "      <th>2020-01-02</th>\n",
       "      <td>0.746518</td>\n",
       "      <td>0.022301</td>\n",
       "      <td>0.152173</td>\n",
       "      <td>0.044133</td>\n",
       "      <td>0.034875</td>\n",
       "    </tr>\n",
       "    <tr>\n",
       "      <th>2020-01-03</th>\n",
       "      <td>0.748685</td>\n",
       "      <td>0.021908</td>\n",
       "      <td>0.151469</td>\n",
       "      <td>0.043602</td>\n",
       "      <td>0.034337</td>\n",
       "    </tr>\n",
       "    <tr>\n",
       "      <th>2020-01-06</th>\n",
       "      <td>0.749622</td>\n",
       "      <td>0.021415</td>\n",
       "      <td>0.151338</td>\n",
       "      <td>0.043095</td>\n",
       "      <td>0.034530</td>\n",
       "    </tr>\n",
       "    <tr>\n",
       "      <th>2020-01-07</th>\n",
       "      <td>0.750133</td>\n",
       "      <td>0.021677</td>\n",
       "      <td>0.150147</td>\n",
       "      <td>0.043451</td>\n",
       "      <td>0.034592</td>\n",
       "    </tr>\n",
       "    <tr>\n",
       "      <th>2020-01-08</th>\n",
       "      <td>0.751034</td>\n",
       "      <td>0.020787</td>\n",
       "      <td>0.153023</td>\n",
       "      <td>0.041501</td>\n",
       "      <td>0.033656</td>\n",
       "    </tr>\n",
       "  </tbody>\n",
       "</table>\n",
       "</div>"
      ],
      "text/plain": [
       "                삼성전자  삼성바이오로직스    SK하이닉스      LG화학     삼성SDI\n",
       "날짜                                                          \n",
       "2020-01-02  0.746518  0.022301  0.152173  0.044133  0.034875\n",
       "2020-01-03  0.748685  0.021908  0.151469  0.043602  0.034337\n",
       "2020-01-06  0.749622  0.021415  0.151338  0.043095  0.034530\n",
       "2020-01-07  0.750133  0.021677  0.150147  0.043451  0.034592\n",
       "2020-01-08  0.751034  0.020787  0.153023  0.041501  0.033656"
      ]
     },
     "execution_count": 13,
     "metadata": {},
     "output_type": "execute_result"
    }
   ],
   "source": [
    "편입비중_df = 시가총액_df[top5_name]\n",
    "편입비중_df = 편입비중_df.div(시가총액_df['합계'], axis=0)\n",
    "편입비중_df.head()"
   ]
  },
  {
   "cell_type": "markdown",
   "id": "ac40ac71-eacb-489c-a03e-568e1090f2ed",
   "metadata": {},
   "source": [
    "## 설정좌수, 환매좌수"
   ]
  },
  {
   "cell_type": "code",
   "execution_count": 14,
   "id": "f0d668ec-dddf-4127-9421-392bf9f1df89",
   "metadata": {
    "tags": []
   },
   "outputs": [
    {
     "data": {
      "text/html": [
       "<div>\n",
       "<style scoped>\n",
       "    .dataframe tbody tr th:only-of-type {\n",
       "        vertical-align: middle;\n",
       "    }\n",
       "\n",
       "    .dataframe tbody tr th {\n",
       "        vertical-align: top;\n",
       "    }\n",
       "\n",
       "    .dataframe thead th {\n",
       "        text-align: right;\n",
       "    }\n",
       "</style>\n",
       "<table border=\"1\" class=\"dataframe\">\n",
       "  <thead>\n",
       "    <tr style=\"text-align: right;\">\n",
       "      <th></th>\n",
       "      <th>설정</th>\n",
       "      <th>환매</th>\n",
       "    </tr>\n",
       "    <tr>\n",
       "      <th>날짜</th>\n",
       "      <th></th>\n",
       "      <th></th>\n",
       "    </tr>\n",
       "  </thead>\n",
       "  <tbody>\n",
       "    <tr>\n",
       "      <th>2020-01-02</th>\n",
       "      <td>1000000</td>\n",
       "      <td>0</td>\n",
       "    </tr>\n",
       "    <tr>\n",
       "      <th>2020-01-03</th>\n",
       "      <td>50000</td>\n",
       "      <td>0</td>\n",
       "    </tr>\n",
       "    <tr>\n",
       "      <th>2020-01-06</th>\n",
       "      <td>150000</td>\n",
       "      <td>100000</td>\n",
       "    </tr>\n",
       "    <tr>\n",
       "      <th>2020-01-07</th>\n",
       "      <td>100000</td>\n",
       "      <td>100000</td>\n",
       "    </tr>\n",
       "    <tr>\n",
       "      <th>2020-01-08</th>\n",
       "      <td>150000</td>\n",
       "      <td>100000</td>\n",
       "    </tr>\n",
       "  </tbody>\n",
       "</table>\n",
       "</div>"
      ],
      "text/plain": [
       "                 설정      환매\n",
       "날짜                         \n",
       "2020-01-02  1000000       0\n",
       "2020-01-03    50000       0\n",
       "2020-01-06   150000  100000\n",
       "2020-01-07   100000  100000\n",
       "2020-01-08   150000  100000"
      ]
     },
     "execution_count": 14,
     "metadata": {},
     "output_type": "execute_result"
    }
   ],
   "source": [
    "좌수 = pd.read_csv('실습07_설정환매_랜덤.csv', parse_dates=['날짜'])\n",
    "좌수 = 좌수.set_index('날짜')\n",
    "좌수.head()"
   ]
  },
  {
   "cell_type": "code",
   "execution_count": 15,
   "id": "36a4372e-56b6-4f5c-84a9-df7884e07a73",
   "metadata": {
    "tags": []
   },
   "outputs": [
    {
     "data": {
      "text/html": [
       "<div>\n",
       "<style scoped>\n",
       "    .dataframe tbody tr th:only-of-type {\n",
       "        vertical-align: middle;\n",
       "    }\n",
       "\n",
       "    .dataframe tbody tr th {\n",
       "        vertical-align: top;\n",
       "    }\n",
       "\n",
       "    .dataframe thead th {\n",
       "        text-align: right;\n",
       "    }\n",
       "</style>\n",
       "<table border=\"1\" class=\"dataframe\">\n",
       "  <thead>\n",
       "    <tr style=\"text-align: right;\">\n",
       "      <th></th>\n",
       "      <th>설정</th>\n",
       "      <th>환매</th>\n",
       "      <th>총좌수</th>\n",
       "    </tr>\n",
       "    <tr>\n",
       "      <th>날짜</th>\n",
       "      <th></th>\n",
       "      <th></th>\n",
       "      <th></th>\n",
       "    </tr>\n",
       "  </thead>\n",
       "  <tbody>\n",
       "    <tr>\n",
       "      <th>2020-01-02</th>\n",
       "      <td>1000000</td>\n",
       "      <td>0</td>\n",
       "      <td>1000000</td>\n",
       "    </tr>\n",
       "    <tr>\n",
       "      <th>2020-01-03</th>\n",
       "      <td>50000</td>\n",
       "      <td>0</td>\n",
       "      <td>1050000</td>\n",
       "    </tr>\n",
       "    <tr>\n",
       "      <th>2020-01-06</th>\n",
       "      <td>150000</td>\n",
       "      <td>100000</td>\n",
       "      <td>1100000</td>\n",
       "    </tr>\n",
       "    <tr>\n",
       "      <th>2020-01-07</th>\n",
       "      <td>100000</td>\n",
       "      <td>100000</td>\n",
       "      <td>1100000</td>\n",
       "    </tr>\n",
       "    <tr>\n",
       "      <th>2020-01-08</th>\n",
       "      <td>150000</td>\n",
       "      <td>100000</td>\n",
       "      <td>1150000</td>\n",
       "    </tr>\n",
       "  </tbody>\n",
       "</table>\n",
       "</div>"
      ],
      "text/plain": [
       "                 설정      환매      총좌수\n",
       "날짜                                  \n",
       "2020-01-02  1000000       0  1000000\n",
       "2020-01-03    50000       0  1050000\n",
       "2020-01-06   150000  100000  1100000\n",
       "2020-01-07   100000  100000  1100000\n",
       "2020-01-08   150000  100000  1150000"
      ]
     },
     "execution_count": 15,
     "metadata": {},
     "output_type": "execute_result"
    }
   ],
   "source": [
    "좌수['총좌수'] = (좌수['설정']-좌수['환매']).cumsum()\n",
    "좌수.head()"
   ]
  },
  {
   "cell_type": "markdown",
   "id": "cf5bbb88-81dc-46a5-986b-693438d08567",
   "metadata": {},
   "source": [
    "## iNAV"
   ]
  },
  {
   "cell_type": "code",
   "execution_count": 16,
   "id": "6ba9cd48-7fe8-4da2-95b4-1e3a3162b6e9",
   "metadata": {
    "tags": []
   },
   "outputs": [
    {
     "data": {
      "text/plain": [
       "날짜\n",
       "2020-01-02    10000.000000\n",
       "2020-01-03    10025.248628\n",
       "2020-01-06    10012.711428\n",
       "2020-01-07    10059.982409\n",
       "2020-01-08    10227.983085\n",
       "                  ...     \n",
       "2022-12-23    11324.355459\n",
       "2022-12-26    11307.129031\n",
       "2022-12-27    11351.391665\n",
       "2022-12-28    11065.406784\n",
       "2022-12-29    10847.938277\n",
       "Name: 지수, Length: 742, dtype: float64"
      ]
     },
     "execution_count": 16,
     "metadata": {},
     "output_type": "execute_result"
    }
   ],
   "source": [
    "기준가 = 10000\n",
    "iNAV = (시가총액_df['지수']/시가총액_df['지수'][0])*기준가\n",
    "# iNAV = iNAV.astype(int)\n",
    "iNAV"
   ]
  },
  {
   "cell_type": "markdown",
   "id": "6010300e-b18a-460e-bc68-0f27652cc06f",
   "metadata": {},
   "source": [
    "## AUM"
   ]
  },
  {
   "cell_type": "code",
   "execution_count": 17,
   "id": "b01b0827-f89d-4f0e-88c7-c64fb42bf425",
   "metadata": {
    "tags": []
   },
   "outputs": [
    {
     "data": {
      "text/plain": [
       "날짜\n",
       "2020-01-02    1.000000e+10\n",
       "2020-01-03    1.052651e+10\n",
       "2020-01-06    1.101398e+10\n",
       "2020-01-07    1.106598e+10\n",
       "2020-01-08    1.176218e+10\n",
       "                  ...     \n",
       "2022-12-23    4.240971e+11\n",
       "2022-12-26    4.240173e+11\n",
       "2022-12-27    4.268123e+11\n",
       "2022-12-28    4.166126e+11\n",
       "2022-12-29    4.089673e+11\n",
       "Length: 742, dtype: float64"
      ]
     },
     "execution_count": 17,
     "metadata": {},
     "output_type": "execute_result"
    }
   ],
   "source": [
    "AUM = iNAV*좌수['총좌수']\n",
    "AUM"
   ]
  },
  {
   "cell_type": "markdown",
   "id": "c33726a3-f407-42af-bb10-204039f0e1f9",
   "metadata": {},
   "source": [
    "## 일자별 매매내역"
   ]
  },
  {
   "cell_type": "code",
   "execution_count": 18,
   "id": "2a8d9fca-eafc-4131-be61-558e9c8dbced",
   "metadata": {
    "tags": []
   },
   "outputs": [
    {
     "data": {
      "text/html": [
       "<div>\n",
       "<style scoped>\n",
       "    .dataframe tbody tr th:only-of-type {\n",
       "        vertical-align: middle;\n",
       "    }\n",
       "\n",
       "    .dataframe tbody tr th {\n",
       "        vertical-align: top;\n",
       "    }\n",
       "\n",
       "    .dataframe thead th {\n",
       "        text-align: right;\n",
       "    }\n",
       "</style>\n",
       "<table border=\"1\" class=\"dataframe\">\n",
       "  <thead>\n",
       "    <tr style=\"text-align: right;\">\n",
       "      <th></th>\n",
       "      <th>삼성전자</th>\n",
       "      <th>삼성바이오로직스</th>\n",
       "      <th>SK하이닉스</th>\n",
       "      <th>LG화학</th>\n",
       "      <th>삼성SDI</th>\n",
       "    </tr>\n",
       "    <tr>\n",
       "      <th>날짜</th>\n",
       "      <th></th>\n",
       "      <th></th>\n",
       "      <th></th>\n",
       "      <th></th>\n",
       "      <th></th>\n",
       "    </tr>\n",
       "  </thead>\n",
       "  <tbody>\n",
       "    <tr>\n",
       "      <th>2020-01-02</th>\n",
       "      <td>135238</td>\n",
       "      <td>526</td>\n",
       "      <td>16068</td>\n",
       "      <td>1405</td>\n",
       "      <td>1503</td>\n",
       "    </tr>\n",
       "    <tr>\n",
       "      <th>2020-01-03</th>\n",
       "      <td>142000</td>\n",
       "      <td>552</td>\n",
       "      <td>16872</td>\n",
       "      <td>1475</td>\n",
       "      <td>1578</td>\n",
       "    </tr>\n",
       "    <tr>\n",
       "      <th>2020-01-06</th>\n",
       "      <td>148762</td>\n",
       "      <td>579</td>\n",
       "      <td>17675</td>\n",
       "      <td>1546</td>\n",
       "      <td>1653</td>\n",
       "    </tr>\n",
       "    <tr>\n",
       "      <th>2020-01-07</th>\n",
       "      <td>148762</td>\n",
       "      <td>579</td>\n",
       "      <td>17675</td>\n",
       "      <td>1546</td>\n",
       "      <td>1653</td>\n",
       "    </tr>\n",
       "    <tr>\n",
       "      <th>2020-01-08</th>\n",
       "      <td>155524</td>\n",
       "      <td>605</td>\n",
       "      <td>18479</td>\n",
       "      <td>1616</td>\n",
       "      <td>1728</td>\n",
       "    </tr>\n",
       "  </tbody>\n",
       "</table>\n",
       "</div>"
      ],
      "text/plain": [
       "              삼성전자  삼성바이오로직스  SK하이닉스  LG화학  삼성SDI\n",
       "날짜                                               \n",
       "2020-01-02  135238       526   16068  1405   1503\n",
       "2020-01-03  142000       552   16872  1475   1578\n",
       "2020-01-06  148762       579   17675  1546   1653\n",
       "2020-01-07  148762       579   17675  1546   1653\n",
       "2020-01-08  155524       605   18479  1616   1728"
      ]
     },
     "execution_count": 18,
     "metadata": {},
     "output_type": "execute_result"
    }
   ],
   "source": [
    "주식잔고_df = 편입비중_df[top5_name]\n",
    "\n",
    "주식잔고_df = 주식잔고_df.mul(AUM, axis=0)\n",
    "주식잔고_df = 주식잔고_df.div(주가_df)\n",
    "\n",
    "주식잔고_df = 주식잔고_df.astype(int)\n",
    "\n",
    "주식잔고_df.head()"
   ]
  },
  {
   "cell_type": "code",
   "execution_count": 19,
   "id": "5dbea28a-99bc-4496-a4f5-351d8bc4196e",
   "metadata": {
    "tags": []
   },
   "outputs": [
    {
     "data": {
      "text/html": [
       "<div>\n",
       "<style scoped>\n",
       "    .dataframe tbody tr th:only-of-type {\n",
       "        vertical-align: middle;\n",
       "    }\n",
       "\n",
       "    .dataframe tbody tr th {\n",
       "        vertical-align: top;\n",
       "    }\n",
       "\n",
       "    .dataframe thead th {\n",
       "        text-align: right;\n",
       "    }\n",
       "</style>\n",
       "<table border=\"1\" class=\"dataframe\">\n",
       "  <thead>\n",
       "    <tr style=\"text-align: right;\">\n",
       "      <th></th>\n",
       "      <th>삼성전자</th>\n",
       "      <th>삼성바이오로직스</th>\n",
       "      <th>SK하이닉스</th>\n",
       "      <th>LG화학</th>\n",
       "      <th>삼성SDI</th>\n",
       "    </tr>\n",
       "    <tr>\n",
       "      <th>날짜</th>\n",
       "      <th></th>\n",
       "      <th></th>\n",
       "      <th></th>\n",
       "      <th></th>\n",
       "      <th></th>\n",
       "    </tr>\n",
       "  </thead>\n",
       "  <tbody>\n",
       "    <tr>\n",
       "      <th>2020-01-02</th>\n",
       "      <td>135238.0</td>\n",
       "      <td>526.0</td>\n",
       "      <td>16068.0</td>\n",
       "      <td>1405.0</td>\n",
       "      <td>1503.0</td>\n",
       "    </tr>\n",
       "    <tr>\n",
       "      <th>2020-01-03</th>\n",
       "      <td>6762.0</td>\n",
       "      <td>26.0</td>\n",
       "      <td>804.0</td>\n",
       "      <td>70.0</td>\n",
       "      <td>75.0</td>\n",
       "    </tr>\n",
       "    <tr>\n",
       "      <th>2020-01-06</th>\n",
       "      <td>6762.0</td>\n",
       "      <td>27.0</td>\n",
       "      <td>803.0</td>\n",
       "      <td>71.0</td>\n",
       "      <td>75.0</td>\n",
       "    </tr>\n",
       "    <tr>\n",
       "      <th>2020-01-07</th>\n",
       "      <td>0.0</td>\n",
       "      <td>0.0</td>\n",
       "      <td>0.0</td>\n",
       "      <td>0.0</td>\n",
       "      <td>0.0</td>\n",
       "    </tr>\n",
       "    <tr>\n",
       "      <th>2020-01-08</th>\n",
       "      <td>6762.0</td>\n",
       "      <td>26.0</td>\n",
       "      <td>804.0</td>\n",
       "      <td>70.0</td>\n",
       "      <td>75.0</td>\n",
       "    </tr>\n",
       "  </tbody>\n",
       "</table>\n",
       "</div>"
      ],
      "text/plain": [
       "                삼성전자  삼성바이오로직스   SK하이닉스    LG화학   삼성SDI\n",
       "날짜                                                     \n",
       "2020-01-02  135238.0     526.0  16068.0  1405.0  1503.0\n",
       "2020-01-03    6762.0      26.0    804.0    70.0    75.0\n",
       "2020-01-06    6762.0      27.0    803.0    71.0    75.0\n",
       "2020-01-07       0.0       0.0      0.0     0.0     0.0\n",
       "2020-01-08    6762.0      26.0    804.0    70.0    75.0"
      ]
     },
     "execution_count": 19,
     "metadata": {},
     "output_type": "execute_result"
    }
   ],
   "source": [
    "매매내역_df = 주식잔고_df.diff()\n",
    "매매내역_df.iloc[0,:] = 주식잔고_df.iloc[0,:]\n",
    "매매내역_df.head()"
   ]
  },
  {
   "cell_type": "markdown",
   "id": "1016a977-c665-4cfa-a56b-eee472b313e8",
   "metadata": {
    "tags": []
   },
   "source": [
    "## Total Fund Result"
   ]
  },
  {
   "cell_type": "code",
   "execution_count": 20,
   "id": "b766daef-7b89-47b9-9183-94842580c09c",
   "metadata": {
    "tags": []
   },
   "outputs": [
    {
     "data": {
      "text/html": [
       "<div>\n",
       "<style scoped>\n",
       "    .dataframe tbody tr th:only-of-type {\n",
       "        vertical-align: middle;\n",
       "    }\n",
       "\n",
       "    .dataframe tbody tr th {\n",
       "        vertical-align: top;\n",
       "    }\n",
       "\n",
       "    .dataframe thead th {\n",
       "        text-align: right;\n",
       "    }\n",
       "</style>\n",
       "<table border=\"1\" class=\"dataframe\">\n",
       "  <thead>\n",
       "    <tr style=\"text-align: right;\">\n",
       "      <th></th>\n",
       "      <th>삼성전자</th>\n",
       "      <th>삼성바이오로직스</th>\n",
       "      <th>SK하이닉스</th>\n",
       "      <th>LG화학</th>\n",
       "      <th>삼성SDI</th>\n",
       "      <th>지수</th>\n",
       "      <th>설정</th>\n",
       "      <th>환매</th>\n",
       "      <th>총좌수</th>\n",
       "      <th>지수</th>\n",
       "      <th>0</th>\n",
       "      <th>삼성전자</th>\n",
       "      <th>삼성바이오로직스</th>\n",
       "      <th>SK하이닉스</th>\n",
       "      <th>LG화학</th>\n",
       "      <th>삼성SDI</th>\n",
       "      <th>삼성전자</th>\n",
       "      <th>삼성바이오로직스</th>\n",
       "      <th>SK하이닉스</th>\n",
       "      <th>LG화학</th>\n",
       "      <th>삼성SDI</th>\n",
       "    </tr>\n",
       "    <tr>\n",
       "      <th>날짜</th>\n",
       "      <th></th>\n",
       "      <th></th>\n",
       "      <th></th>\n",
       "      <th></th>\n",
       "      <th></th>\n",
       "      <th></th>\n",
       "      <th></th>\n",
       "      <th></th>\n",
       "      <th></th>\n",
       "      <th></th>\n",
       "      <th></th>\n",
       "      <th></th>\n",
       "      <th></th>\n",
       "      <th></th>\n",
       "      <th></th>\n",
       "      <th></th>\n",
       "      <th></th>\n",
       "      <th></th>\n",
       "      <th></th>\n",
       "      <th></th>\n",
       "      <th></th>\n",
       "    </tr>\n",
       "  </thead>\n",
       "  <tbody>\n",
       "    <tr>\n",
       "      <th>2020-01-02</th>\n",
       "      <td>0.746518</td>\n",
       "      <td>0.022301</td>\n",
       "      <td>0.152173</td>\n",
       "      <td>0.044133</td>\n",
       "      <td>0.034875</td>\n",
       "      <td>1.000000</td>\n",
       "      <td>1000000</td>\n",
       "      <td>0</td>\n",
       "      <td>1000000</td>\n",
       "      <td>10000.000000</td>\n",
       "      <td>1.000000e+10</td>\n",
       "      <td>135238.0</td>\n",
       "      <td>526.0</td>\n",
       "      <td>16068.0</td>\n",
       "      <td>1405.0</td>\n",
       "      <td>1503.0</td>\n",
       "      <td>135238</td>\n",
       "      <td>526</td>\n",
       "      <td>16068</td>\n",
       "      <td>1405</td>\n",
       "      <td>1503</td>\n",
       "    </tr>\n",
       "    <tr>\n",
       "      <th>2020-01-03</th>\n",
       "      <td>0.748685</td>\n",
       "      <td>0.021908</td>\n",
       "      <td>0.151469</td>\n",
       "      <td>0.043602</td>\n",
       "      <td>0.034337</td>\n",
       "      <td>1.002525</td>\n",
       "      <td>50000</td>\n",
       "      <td>0</td>\n",
       "      <td>1050000</td>\n",
       "      <td>10025.248628</td>\n",
       "      <td>1.052651e+10</td>\n",
       "      <td>6762.0</td>\n",
       "      <td>26.0</td>\n",
       "      <td>804.0</td>\n",
       "      <td>70.0</td>\n",
       "      <td>75.0</td>\n",
       "      <td>142000</td>\n",
       "      <td>552</td>\n",
       "      <td>16872</td>\n",
       "      <td>1475</td>\n",
       "      <td>1578</td>\n",
       "    </tr>\n",
       "    <tr>\n",
       "      <th>2020-01-06</th>\n",
       "      <td>0.749622</td>\n",
       "      <td>0.021415</td>\n",
       "      <td>0.151338</td>\n",
       "      <td>0.043095</td>\n",
       "      <td>0.034530</td>\n",
       "      <td>1.001271</td>\n",
       "      <td>150000</td>\n",
       "      <td>100000</td>\n",
       "      <td>1100000</td>\n",
       "      <td>10012.711428</td>\n",
       "      <td>1.101398e+10</td>\n",
       "      <td>6762.0</td>\n",
       "      <td>27.0</td>\n",
       "      <td>803.0</td>\n",
       "      <td>71.0</td>\n",
       "      <td>75.0</td>\n",
       "      <td>148762</td>\n",
       "      <td>579</td>\n",
       "      <td>17675</td>\n",
       "      <td>1546</td>\n",
       "      <td>1653</td>\n",
       "    </tr>\n",
       "    <tr>\n",
       "      <th>2020-01-07</th>\n",
       "      <td>0.750133</td>\n",
       "      <td>0.021677</td>\n",
       "      <td>0.150147</td>\n",
       "      <td>0.043451</td>\n",
       "      <td>0.034592</td>\n",
       "      <td>1.005998</td>\n",
       "      <td>100000</td>\n",
       "      <td>100000</td>\n",
       "      <td>1100000</td>\n",
       "      <td>10059.982409</td>\n",
       "      <td>1.106598e+10</td>\n",
       "      <td>0.0</td>\n",
       "      <td>0.0</td>\n",
       "      <td>0.0</td>\n",
       "      <td>0.0</td>\n",
       "      <td>0.0</td>\n",
       "      <td>148762</td>\n",
       "      <td>579</td>\n",
       "      <td>17675</td>\n",
       "      <td>1546</td>\n",
       "      <td>1653</td>\n",
       "    </tr>\n",
       "    <tr>\n",
       "      <th>2020-01-08</th>\n",
       "      <td>0.751034</td>\n",
       "      <td>0.020787</td>\n",
       "      <td>0.153023</td>\n",
       "      <td>0.041501</td>\n",
       "      <td>0.033656</td>\n",
       "      <td>1.022798</td>\n",
       "      <td>150000</td>\n",
       "      <td>100000</td>\n",
       "      <td>1150000</td>\n",
       "      <td>10227.983085</td>\n",
       "      <td>1.176218e+10</td>\n",
       "      <td>6762.0</td>\n",
       "      <td>26.0</td>\n",
       "      <td>804.0</td>\n",
       "      <td>70.0</td>\n",
       "      <td>75.0</td>\n",
       "      <td>155524</td>\n",
       "      <td>605</td>\n",
       "      <td>18479</td>\n",
       "      <td>1616</td>\n",
       "      <td>1728</td>\n",
       "    </tr>\n",
       "  </tbody>\n",
       "</table>\n",
       "</div>"
      ],
      "text/plain": [
       "                삼성전자  삼성바이오로직스    SK하이닉스      LG화학     삼성SDI        지수  \\\n",
       "날짜                                                                       \n",
       "2020-01-02  0.746518  0.022301  0.152173  0.044133  0.034875  1.000000   \n",
       "2020-01-03  0.748685  0.021908  0.151469  0.043602  0.034337  1.002525   \n",
       "2020-01-06  0.749622  0.021415  0.151338  0.043095  0.034530  1.001271   \n",
       "2020-01-07  0.750133  0.021677  0.150147  0.043451  0.034592  1.005998   \n",
       "2020-01-08  0.751034  0.020787  0.153023  0.041501  0.033656  1.022798   \n",
       "\n",
       "                 설정      환매      총좌수            지수             0      삼성전자  \\\n",
       "날짜                                                                           \n",
       "2020-01-02  1000000       0  1000000  10000.000000  1.000000e+10  135238.0   \n",
       "2020-01-03    50000       0  1050000  10025.248628  1.052651e+10    6762.0   \n",
       "2020-01-06   150000  100000  1100000  10012.711428  1.101398e+10    6762.0   \n",
       "2020-01-07   100000  100000  1100000  10059.982409  1.106598e+10       0.0   \n",
       "2020-01-08   150000  100000  1150000  10227.983085  1.176218e+10    6762.0   \n",
       "\n",
       "            삼성바이오로직스   SK하이닉스    LG화학   삼성SDI    삼성전자  삼성바이오로직스  SK하이닉스  LG화학  \\\n",
       "날짜                                                                              \n",
       "2020-01-02     526.0  16068.0  1405.0  1503.0  135238       526   16068  1405   \n",
       "2020-01-03      26.0    804.0    70.0    75.0  142000       552   16872  1475   \n",
       "2020-01-06      27.0    803.0    71.0    75.0  148762       579   17675  1546   \n",
       "2020-01-07       0.0      0.0     0.0     0.0  148762       579   17675  1546   \n",
       "2020-01-08      26.0    804.0    70.0    75.0  155524       605   18479  1616   \n",
       "\n",
       "            삼성SDI  \n",
       "날짜                 \n",
       "2020-01-02   1503  \n",
       "2020-01-03   1578  \n",
       "2020-01-06   1653  \n",
       "2020-01-07   1653  \n",
       "2020-01-08   1728  "
      ]
     },
     "execution_count": 20,
     "metadata": {},
     "output_type": "execute_result"
    }
   ],
   "source": [
    "fdf = pd.concat([편입비중_df,시가총액_df['지수'],  좌수, iNAV, AUM, 매매내역_df, 주식잔고_df], axis=1)\n",
    "fdf.head()"
   ]
  },
  {
   "cell_type": "code",
   "execution_count": 21,
   "id": "5373b2c1-c3dc-4c38-a604-1b094c454915",
   "metadata": {
    "tags": []
   },
   "outputs": [
    {
     "data": {
      "text/html": [
       "<div>\n",
       "<style scoped>\n",
       "    .dataframe tbody tr th:only-of-type {\n",
       "        vertical-align: middle;\n",
       "    }\n",
       "\n",
       "    .dataframe tbody tr th {\n",
       "        vertical-align: top;\n",
       "    }\n",
       "\n",
       "    .dataframe thead th {\n",
       "        text-align: right;\n",
       "    }\n",
       "</style>\n",
       "<table border=\"1\" class=\"dataframe\">\n",
       "  <thead>\n",
       "    <tr style=\"text-align: right;\">\n",
       "      <th></th>\n",
       "      <th>편입비중_삼성전자</th>\n",
       "      <th>편입비중_삼성바이오로직스</th>\n",
       "      <th>편입비중_SK하이닉스</th>\n",
       "      <th>편입비중_LG화학</th>\n",
       "      <th>편입비중_삼성SDI</th>\n",
       "      <th>지수</th>\n",
       "      <th>설정좌수</th>\n",
       "      <th>환매좌수</th>\n",
       "      <th>총좌수</th>\n",
       "      <th>iNAV</th>\n",
       "      <th>AUM</th>\n",
       "      <th>매매내역_삼성전자</th>\n",
       "      <th>매매내역_삼성바이오로직스</th>\n",
       "      <th>매매내역_SK하이닉스</th>\n",
       "      <th>매매내역_LG화학</th>\n",
       "      <th>매매내역_삼성SDI</th>\n",
       "      <th>주식잔고_삼성전자</th>\n",
       "      <th>주식잔고_삼성바이오로직스</th>\n",
       "      <th>주식잔고_SK하이닉스</th>\n",
       "      <th>주식잔고_LG화학</th>\n",
       "      <th>주식잔고_삼성SDI</th>\n",
       "    </tr>\n",
       "    <tr>\n",
       "      <th>날짜</th>\n",
       "      <th></th>\n",
       "      <th></th>\n",
       "      <th></th>\n",
       "      <th></th>\n",
       "      <th></th>\n",
       "      <th></th>\n",
       "      <th></th>\n",
       "      <th></th>\n",
       "      <th></th>\n",
       "      <th></th>\n",
       "      <th></th>\n",
       "      <th></th>\n",
       "      <th></th>\n",
       "      <th></th>\n",
       "      <th></th>\n",
       "      <th></th>\n",
       "      <th></th>\n",
       "      <th></th>\n",
       "      <th></th>\n",
       "      <th></th>\n",
       "      <th></th>\n",
       "    </tr>\n",
       "  </thead>\n",
       "  <tbody>\n",
       "    <tr>\n",
       "      <th>2020-01-02</th>\n",
       "      <td>0.746518</td>\n",
       "      <td>0.022301</td>\n",
       "      <td>0.152173</td>\n",
       "      <td>0.044133</td>\n",
       "      <td>0.034875</td>\n",
       "      <td>1.000000</td>\n",
       "      <td>1000000</td>\n",
       "      <td>0</td>\n",
       "      <td>1000000</td>\n",
       "      <td>10000.000000</td>\n",
       "      <td>1.000000e+10</td>\n",
       "      <td>135238.0</td>\n",
       "      <td>526.0</td>\n",
       "      <td>16068.0</td>\n",
       "      <td>1405.0</td>\n",
       "      <td>1503.0</td>\n",
       "      <td>135238</td>\n",
       "      <td>526</td>\n",
       "      <td>16068</td>\n",
       "      <td>1405</td>\n",
       "      <td>1503</td>\n",
       "    </tr>\n",
       "    <tr>\n",
       "      <th>2020-01-03</th>\n",
       "      <td>0.748685</td>\n",
       "      <td>0.021908</td>\n",
       "      <td>0.151469</td>\n",
       "      <td>0.043602</td>\n",
       "      <td>0.034337</td>\n",
       "      <td>1.002525</td>\n",
       "      <td>50000</td>\n",
       "      <td>0</td>\n",
       "      <td>1050000</td>\n",
       "      <td>10025.248628</td>\n",
       "      <td>1.052651e+10</td>\n",
       "      <td>6762.0</td>\n",
       "      <td>26.0</td>\n",
       "      <td>804.0</td>\n",
       "      <td>70.0</td>\n",
       "      <td>75.0</td>\n",
       "      <td>142000</td>\n",
       "      <td>552</td>\n",
       "      <td>16872</td>\n",
       "      <td>1475</td>\n",
       "      <td>1578</td>\n",
       "    </tr>\n",
       "    <tr>\n",
       "      <th>2020-01-06</th>\n",
       "      <td>0.749622</td>\n",
       "      <td>0.021415</td>\n",
       "      <td>0.151338</td>\n",
       "      <td>0.043095</td>\n",
       "      <td>0.034530</td>\n",
       "      <td>1.001271</td>\n",
       "      <td>150000</td>\n",
       "      <td>100000</td>\n",
       "      <td>1100000</td>\n",
       "      <td>10012.711428</td>\n",
       "      <td>1.101398e+10</td>\n",
       "      <td>6762.0</td>\n",
       "      <td>27.0</td>\n",
       "      <td>803.0</td>\n",
       "      <td>71.0</td>\n",
       "      <td>75.0</td>\n",
       "      <td>148762</td>\n",
       "      <td>579</td>\n",
       "      <td>17675</td>\n",
       "      <td>1546</td>\n",
       "      <td>1653</td>\n",
       "    </tr>\n",
       "    <tr>\n",
       "      <th>2020-01-07</th>\n",
       "      <td>0.750133</td>\n",
       "      <td>0.021677</td>\n",
       "      <td>0.150147</td>\n",
       "      <td>0.043451</td>\n",
       "      <td>0.034592</td>\n",
       "      <td>1.005998</td>\n",
       "      <td>100000</td>\n",
       "      <td>100000</td>\n",
       "      <td>1100000</td>\n",
       "      <td>10059.982409</td>\n",
       "      <td>1.106598e+10</td>\n",
       "      <td>0.0</td>\n",
       "      <td>0.0</td>\n",
       "      <td>0.0</td>\n",
       "      <td>0.0</td>\n",
       "      <td>0.0</td>\n",
       "      <td>148762</td>\n",
       "      <td>579</td>\n",
       "      <td>17675</td>\n",
       "      <td>1546</td>\n",
       "      <td>1653</td>\n",
       "    </tr>\n",
       "    <tr>\n",
       "      <th>2020-01-08</th>\n",
       "      <td>0.751034</td>\n",
       "      <td>0.020787</td>\n",
       "      <td>0.153023</td>\n",
       "      <td>0.041501</td>\n",
       "      <td>0.033656</td>\n",
       "      <td>1.022798</td>\n",
       "      <td>150000</td>\n",
       "      <td>100000</td>\n",
       "      <td>1150000</td>\n",
       "      <td>10227.983085</td>\n",
       "      <td>1.176218e+10</td>\n",
       "      <td>6762.0</td>\n",
       "      <td>26.0</td>\n",
       "      <td>804.0</td>\n",
       "      <td>70.0</td>\n",
       "      <td>75.0</td>\n",
       "      <td>155524</td>\n",
       "      <td>605</td>\n",
       "      <td>18479</td>\n",
       "      <td>1616</td>\n",
       "      <td>1728</td>\n",
       "    </tr>\n",
       "  </tbody>\n",
       "</table>\n",
       "</div>"
      ],
      "text/plain": [
       "            편입비중_삼성전자  편입비중_삼성바이오로직스  편입비중_SK하이닉스  편입비중_LG화학  편입비중_삼성SDI  \\\n",
       "날짜                                                                         \n",
       "2020-01-02   0.746518       0.022301     0.152173   0.044133    0.034875   \n",
       "2020-01-03   0.748685       0.021908     0.151469   0.043602    0.034337   \n",
       "2020-01-06   0.749622       0.021415     0.151338   0.043095    0.034530   \n",
       "2020-01-07   0.750133       0.021677     0.150147   0.043451    0.034592   \n",
       "2020-01-08   0.751034       0.020787     0.153023   0.041501    0.033656   \n",
       "\n",
       "                  지수     설정좌수    환매좌수      총좌수          iNAV           AUM  \\\n",
       "날짜                                                                           \n",
       "2020-01-02  1.000000  1000000       0  1000000  10000.000000  1.000000e+10   \n",
       "2020-01-03  1.002525    50000       0  1050000  10025.248628  1.052651e+10   \n",
       "2020-01-06  1.001271   150000  100000  1100000  10012.711428  1.101398e+10   \n",
       "2020-01-07  1.005998   100000  100000  1100000  10059.982409  1.106598e+10   \n",
       "2020-01-08  1.022798   150000  100000  1150000  10227.983085  1.176218e+10   \n",
       "\n",
       "            매매내역_삼성전자  매매내역_삼성바이오로직스  매매내역_SK하이닉스  매매내역_LG화학  매매내역_삼성SDI  \\\n",
       "날짜                                                                         \n",
       "2020-01-02   135238.0          526.0      16068.0     1405.0      1503.0   \n",
       "2020-01-03     6762.0           26.0        804.0       70.0        75.0   \n",
       "2020-01-06     6762.0           27.0        803.0       71.0        75.0   \n",
       "2020-01-07        0.0            0.0          0.0        0.0         0.0   \n",
       "2020-01-08     6762.0           26.0        804.0       70.0        75.0   \n",
       "\n",
       "            주식잔고_삼성전자  주식잔고_삼성바이오로직스  주식잔고_SK하이닉스  주식잔고_LG화학  주식잔고_삼성SDI  \n",
       "날짜                                                                        \n",
       "2020-01-02     135238            526        16068       1405        1503  \n",
       "2020-01-03     142000            552        16872       1475        1578  \n",
       "2020-01-06     148762            579        17675       1546        1653  \n",
       "2020-01-07     148762            579        17675       1546        1653  \n",
       "2020-01-08     155524            605        18479       1616        1728  "
      ]
     },
     "execution_count": 21,
     "metadata": {},
     "output_type": "execute_result"
    }
   ],
   "source": [
    "fdf.columns = ['편입비중_삼성전자', '편입비중_삼성바이오로직스', '편입비중_SK하이닉스', '편입비중_LG화학', '편입비중_삼성SDI',\n",
    "              '지수', '설정좌수', '환매좌수', '총좌수', 'iNAV', 'AUM',\n",
    "              '매매내역_삼성전자', '매매내역_삼성바이오로직스', '매매내역_SK하이닉스', '매매내역_LG화학', '매매내역_삼성SDI',\n",
    "              '주식잔고_삼성전자', '주식잔고_삼성바이오로직스', '주식잔고_SK하이닉스', '주식잔고_LG화학', '주식잔고_삼성SDI']\n",
    "fdf.head()"
   ]
  },
  {
   "cell_type": "code",
   "execution_count": 22,
   "id": "60235b8e-d052-4ea0-ba11-242a14219f4e",
   "metadata": {
    "tags": []
   },
   "outputs": [
    {
     "data": {
      "text/html": [
       "<div>\n",
       "<style scoped>\n",
       "    .dataframe tbody tr th:only-of-type {\n",
       "        vertical-align: middle;\n",
       "    }\n",
       "\n",
       "    .dataframe tbody tr th {\n",
       "        vertical-align: top;\n",
       "    }\n",
       "\n",
       "    .dataframe thead th {\n",
       "        text-align: right;\n",
       "    }\n",
       "</style>\n",
       "<table border=\"1\" class=\"dataframe\">\n",
       "  <thead>\n",
       "    <tr style=\"text-align: right;\">\n",
       "      <th></th>\n",
       "      <th>편입비중_삼성전자</th>\n",
       "      <th>편입비중_삼성바이오로직스</th>\n",
       "      <th>편입비중_SK하이닉스</th>\n",
       "      <th>편입비중_LG화학</th>\n",
       "      <th>편입비중_삼성SDI</th>\n",
       "      <th>지수</th>\n",
       "      <th>설정좌수</th>\n",
       "      <th>환매좌수</th>\n",
       "      <th>총좌수</th>\n",
       "      <th>iNAV</th>\n",
       "      <th>AUM</th>\n",
       "      <th>매매내역_삼성전자</th>\n",
       "      <th>매매내역_삼성바이오로직스</th>\n",
       "      <th>매매내역_SK하이닉스</th>\n",
       "      <th>매매내역_LG화학</th>\n",
       "      <th>매매내역_삼성SDI</th>\n",
       "      <th>주식잔고_삼성전자</th>\n",
       "      <th>주식잔고_삼성바이오로직스</th>\n",
       "      <th>주식잔고_SK하이닉스</th>\n",
       "      <th>주식잔고_LG화학</th>\n",
       "      <th>주식잔고_삼성SDI</th>\n",
       "    </tr>\n",
       "    <tr>\n",
       "      <th>날짜</th>\n",
       "      <th></th>\n",
       "      <th></th>\n",
       "      <th></th>\n",
       "      <th></th>\n",
       "      <th></th>\n",
       "      <th></th>\n",
       "      <th></th>\n",
       "      <th></th>\n",
       "      <th></th>\n",
       "      <th></th>\n",
       "      <th></th>\n",
       "      <th></th>\n",
       "      <th></th>\n",
       "      <th></th>\n",
       "      <th></th>\n",
       "      <th></th>\n",
       "      <th></th>\n",
       "      <th></th>\n",
       "      <th></th>\n",
       "      <th></th>\n",
       "      <th></th>\n",
       "    </tr>\n",
       "  </thead>\n",
       "  <tbody>\n",
       "    <tr>\n",
       "      <th>2022-12-23</th>\n",
       "      <td>0.693847</td>\n",
       "      <td>0.037481</td>\n",
       "      <td>0.110396</td>\n",
       "      <td>0.075710</td>\n",
       "      <td>0.082566</td>\n",
       "      <td>1.132436</td>\n",
       "      <td>50000</td>\n",
       "      <td>0</td>\n",
       "      <td>37450000</td>\n",
       "      <td>11324.355459</td>\n",
       "      <td>4.240971e+11</td>\n",
       "      <td>6762.0</td>\n",
       "      <td>26.0</td>\n",
       "      <td>803.0</td>\n",
       "      <td>70.0</td>\n",
       "      <td>75.0</td>\n",
       "      <td>5064690</td>\n",
       "      <td>19721</td>\n",
       "      <td>601781</td>\n",
       "      <td>52636</td>\n",
       "      <td>56295</td>\n",
       "    </tr>\n",
       "    <tr>\n",
       "      <th>2022-12-26</th>\n",
       "      <td>0.692512</td>\n",
       "      <td>0.038284</td>\n",
       "      <td>0.109427</td>\n",
       "      <td>0.076820</td>\n",
       "      <td>0.082957</td>\n",
       "      <td>1.130713</td>\n",
       "      <td>150000</td>\n",
       "      <td>100000</td>\n",
       "      <td>37500000</td>\n",
       "      <td>11307.129031</td>\n",
       "      <td>4.240173e+11</td>\n",
       "      <td>6762.0</td>\n",
       "      <td>27.0</td>\n",
       "      <td>803.0</td>\n",
       "      <td>70.0</td>\n",
       "      <td>75.0</td>\n",
       "      <td>5071452</td>\n",
       "      <td>19748</td>\n",
       "      <td>602584</td>\n",
       "      <td>52706</td>\n",
       "      <td>56370</td>\n",
       "    </tr>\n",
       "    <tr>\n",
       "      <th>2022-12-27</th>\n",
       "      <td>0.692194</td>\n",
       "      <td>0.038413</td>\n",
       "      <td>0.109001</td>\n",
       "      <td>0.077758</td>\n",
       "      <td>0.082634</td>\n",
       "      <td>1.135139</td>\n",
       "      <td>200000</td>\n",
       "      <td>100000</td>\n",
       "      <td>37600000</td>\n",
       "      <td>11351.391665</td>\n",
       "      <td>4.268123e+11</td>\n",
       "      <td>13524.0</td>\n",
       "      <td>52.0</td>\n",
       "      <td>1607.0</td>\n",
       "      <td>141.0</td>\n",
       "      <td>151.0</td>\n",
       "      <td>5084976</td>\n",
       "      <td>19800</td>\n",
       "      <td>604191</td>\n",
       "      <td>52847</td>\n",
       "      <td>56521</td>\n",
       "    </tr>\n",
       "    <tr>\n",
       "      <th>2022-12-28</th>\n",
       "      <td>0.691752</td>\n",
       "      <td>0.039501</td>\n",
       "      <td>0.110365</td>\n",
       "      <td>0.076466</td>\n",
       "      <td>0.081917</td>\n",
       "      <td>1.106541</td>\n",
       "      <td>100000</td>\n",
       "      <td>50000</td>\n",
       "      <td>37650000</td>\n",
       "      <td>11065.406784</td>\n",
       "      <td>4.166126e+11</td>\n",
       "      <td>6762.0</td>\n",
       "      <td>27.0</td>\n",
       "      <td>804.0</td>\n",
       "      <td>70.0</td>\n",
       "      <td>75.0</td>\n",
       "      <td>5091738</td>\n",
       "      <td>19827</td>\n",
       "      <td>604995</td>\n",
       "      <td>52917</td>\n",
       "      <td>56596</td>\n",
       "    </tr>\n",
       "    <tr>\n",
       "      <th>2022-12-29</th>\n",
       "      <td>0.689412</td>\n",
       "      <td>0.039856</td>\n",
       "      <td>0.111097</td>\n",
       "      <td>0.077739</td>\n",
       "      <td>0.081896</td>\n",
       "      <td>1.084794</td>\n",
       "      <td>100000</td>\n",
       "      <td>50000</td>\n",
       "      <td>37700000</td>\n",
       "      <td>10847.938277</td>\n",
       "      <td>4.089673e+11</td>\n",
       "      <td>6762.0</td>\n",
       "      <td>26.0</td>\n",
       "      <td>803.0</td>\n",
       "      <td>71.0</td>\n",
       "      <td>75.0</td>\n",
       "      <td>5098500</td>\n",
       "      <td>19853</td>\n",
       "      <td>605798</td>\n",
       "      <td>52988</td>\n",
       "      <td>56671</td>\n",
       "    </tr>\n",
       "  </tbody>\n",
       "</table>\n",
       "</div>"
      ],
      "text/plain": [
       "            편입비중_삼성전자  편입비중_삼성바이오로직스  편입비중_SK하이닉스  편입비중_LG화학  편입비중_삼성SDI  \\\n",
       "날짜                                                                         \n",
       "2022-12-23   0.693847       0.037481     0.110396   0.075710    0.082566   \n",
       "2022-12-26   0.692512       0.038284     0.109427   0.076820    0.082957   \n",
       "2022-12-27   0.692194       0.038413     0.109001   0.077758    0.082634   \n",
       "2022-12-28   0.691752       0.039501     0.110365   0.076466    0.081917   \n",
       "2022-12-29   0.689412       0.039856     0.111097   0.077739    0.081896   \n",
       "\n",
       "                  지수    설정좌수    환매좌수       총좌수          iNAV           AUM  \\\n",
       "날짜                                                                           \n",
       "2022-12-23  1.132436   50000       0  37450000  11324.355459  4.240971e+11   \n",
       "2022-12-26  1.130713  150000  100000  37500000  11307.129031  4.240173e+11   \n",
       "2022-12-27  1.135139  200000  100000  37600000  11351.391665  4.268123e+11   \n",
       "2022-12-28  1.106541  100000   50000  37650000  11065.406784  4.166126e+11   \n",
       "2022-12-29  1.084794  100000   50000  37700000  10847.938277  4.089673e+11   \n",
       "\n",
       "            매매내역_삼성전자  매매내역_삼성바이오로직스  매매내역_SK하이닉스  매매내역_LG화학  매매내역_삼성SDI  \\\n",
       "날짜                                                                         \n",
       "2022-12-23     6762.0           26.0        803.0       70.0        75.0   \n",
       "2022-12-26     6762.0           27.0        803.0       70.0        75.0   \n",
       "2022-12-27    13524.0           52.0       1607.0      141.0       151.0   \n",
       "2022-12-28     6762.0           27.0        804.0       70.0        75.0   \n",
       "2022-12-29     6762.0           26.0        803.0       71.0        75.0   \n",
       "\n",
       "            주식잔고_삼성전자  주식잔고_삼성바이오로직스  주식잔고_SK하이닉스  주식잔고_LG화학  주식잔고_삼성SDI  \n",
       "날짜                                                                        \n",
       "2022-12-23    5064690          19721       601781      52636       56295  \n",
       "2022-12-26    5071452          19748       602584      52706       56370  \n",
       "2022-12-27    5084976          19800       604191      52847       56521  \n",
       "2022-12-28    5091738          19827       604995      52917       56596  \n",
       "2022-12-29    5098500          19853       605798      52988       56671  "
      ]
     },
     "execution_count": 22,
     "metadata": {},
     "output_type": "execute_result"
    }
   ],
   "source": [
    "fdf.tail()"
   ]
  },
  {
   "cell_type": "code",
   "execution_count": 23,
   "id": "58fc637f-6e85-4d4d-918e-dad1c124a111",
   "metadata": {
    "tags": []
   },
   "outputs": [],
   "source": [
    "fdf.to_csv(\"실습07_펀드_운용모델_최종.csv\")"
   ]
  },
  {
   "cell_type": "markdown",
   "id": "006e8f8f-46c7-4184-b616-e5b7032168b8",
   "metadata": {},
   "source": [
    "# 수익률 비교"
   ]
  },
  {
   "cell_type": "code",
   "execution_count": 24,
   "id": "e4826d9b-dada-4b89-96e4-e7a819c0bc81",
   "metadata": {
    "tags": []
   },
   "outputs": [
    {
     "data": {
      "text/html": [
       "<div>\n",
       "<style scoped>\n",
       "    .dataframe tbody tr th:only-of-type {\n",
       "        vertical-align: middle;\n",
       "    }\n",
       "\n",
       "    .dataframe tbody tr th {\n",
       "        vertical-align: top;\n",
       "    }\n",
       "\n",
       "    .dataframe thead th {\n",
       "        text-align: right;\n",
       "    }\n",
       "</style>\n",
       "<table border=\"1\" class=\"dataframe\">\n",
       "  <thead>\n",
       "    <tr style=\"text-align: right;\">\n",
       "      <th></th>\n",
       "      <th>편입비중_삼성전자</th>\n",
       "      <th>편입비중_삼성바이오로직스</th>\n",
       "      <th>편입비중_SK하이닉스</th>\n",
       "      <th>편입비중_LG화학</th>\n",
       "      <th>편입비중_삼성SDI</th>\n",
       "      <th>지수</th>\n",
       "      <th>설정좌수</th>\n",
       "      <th>환매좌수</th>\n",
       "      <th>총좌수</th>\n",
       "      <th>iNAV</th>\n",
       "      <th>AUM</th>\n",
       "      <th>매매내역_삼성전자</th>\n",
       "      <th>매매내역_삼성바이오로직스</th>\n",
       "      <th>매매내역_SK하이닉스</th>\n",
       "      <th>매매내역_LG화학</th>\n",
       "      <th>매매내역_삼성SDI</th>\n",
       "      <th>주식잔고_삼성전자</th>\n",
       "      <th>주식잔고_삼성바이오로직스</th>\n",
       "      <th>주식잔고_SK하이닉스</th>\n",
       "      <th>주식잔고_LG화학</th>\n",
       "      <th>주식잔고_삼성SDI</th>\n",
       "    </tr>\n",
       "    <tr>\n",
       "      <th>날짜</th>\n",
       "      <th></th>\n",
       "      <th></th>\n",
       "      <th></th>\n",
       "      <th></th>\n",
       "      <th></th>\n",
       "      <th></th>\n",
       "      <th></th>\n",
       "      <th></th>\n",
       "      <th></th>\n",
       "      <th></th>\n",
       "      <th></th>\n",
       "      <th></th>\n",
       "      <th></th>\n",
       "      <th></th>\n",
       "      <th></th>\n",
       "      <th></th>\n",
       "      <th></th>\n",
       "      <th></th>\n",
       "      <th></th>\n",
       "      <th></th>\n",
       "      <th></th>\n",
       "    </tr>\n",
       "  </thead>\n",
       "  <tbody>\n",
       "    <tr>\n",
       "      <th>2020-01-02</th>\n",
       "      <td>0.746518</td>\n",
       "      <td>0.022301</td>\n",
       "      <td>0.152173</td>\n",
       "      <td>0.044133</td>\n",
       "      <td>0.034875</td>\n",
       "      <td>1.000000</td>\n",
       "      <td>1000000</td>\n",
       "      <td>0</td>\n",
       "      <td>1000000</td>\n",
       "      <td>10000.000000</td>\n",
       "      <td>1.000000e+10</td>\n",
       "      <td>135238.0</td>\n",
       "      <td>526.0</td>\n",
       "      <td>16068.0</td>\n",
       "      <td>1405.0</td>\n",
       "      <td>1503.0</td>\n",
       "      <td>135238</td>\n",
       "      <td>526</td>\n",
       "      <td>16068</td>\n",
       "      <td>1405</td>\n",
       "      <td>1503</td>\n",
       "    </tr>\n",
       "    <tr>\n",
       "      <th>2020-01-03</th>\n",
       "      <td>0.748685</td>\n",
       "      <td>0.021908</td>\n",
       "      <td>0.151469</td>\n",
       "      <td>0.043602</td>\n",
       "      <td>0.034337</td>\n",
       "      <td>1.002525</td>\n",
       "      <td>50000</td>\n",
       "      <td>0</td>\n",
       "      <td>1050000</td>\n",
       "      <td>10025.248628</td>\n",
       "      <td>1.052651e+10</td>\n",
       "      <td>6762.0</td>\n",
       "      <td>26.0</td>\n",
       "      <td>804.0</td>\n",
       "      <td>70.0</td>\n",
       "      <td>75.0</td>\n",
       "      <td>142000</td>\n",
       "      <td>552</td>\n",
       "      <td>16872</td>\n",
       "      <td>1475</td>\n",
       "      <td>1578</td>\n",
       "    </tr>\n",
       "    <tr>\n",
       "      <th>2020-01-06</th>\n",
       "      <td>0.749622</td>\n",
       "      <td>0.021415</td>\n",
       "      <td>0.151338</td>\n",
       "      <td>0.043095</td>\n",
       "      <td>0.034530</td>\n",
       "      <td>1.001271</td>\n",
       "      <td>150000</td>\n",
       "      <td>100000</td>\n",
       "      <td>1100000</td>\n",
       "      <td>10012.711428</td>\n",
       "      <td>1.101398e+10</td>\n",
       "      <td>6762.0</td>\n",
       "      <td>27.0</td>\n",
       "      <td>803.0</td>\n",
       "      <td>71.0</td>\n",
       "      <td>75.0</td>\n",
       "      <td>148762</td>\n",
       "      <td>579</td>\n",
       "      <td>17675</td>\n",
       "      <td>1546</td>\n",
       "      <td>1653</td>\n",
       "    </tr>\n",
       "    <tr>\n",
       "      <th>2020-01-07</th>\n",
       "      <td>0.750133</td>\n",
       "      <td>0.021677</td>\n",
       "      <td>0.150147</td>\n",
       "      <td>0.043451</td>\n",
       "      <td>0.034592</td>\n",
       "      <td>1.005998</td>\n",
       "      <td>100000</td>\n",
       "      <td>100000</td>\n",
       "      <td>1100000</td>\n",
       "      <td>10059.982409</td>\n",
       "      <td>1.106598e+10</td>\n",
       "      <td>0.0</td>\n",
       "      <td>0.0</td>\n",
       "      <td>0.0</td>\n",
       "      <td>0.0</td>\n",
       "      <td>0.0</td>\n",
       "      <td>148762</td>\n",
       "      <td>579</td>\n",
       "      <td>17675</td>\n",
       "      <td>1546</td>\n",
       "      <td>1653</td>\n",
       "    </tr>\n",
       "    <tr>\n",
       "      <th>2020-01-08</th>\n",
       "      <td>0.751034</td>\n",
       "      <td>0.020787</td>\n",
       "      <td>0.153023</td>\n",
       "      <td>0.041501</td>\n",
       "      <td>0.033656</td>\n",
       "      <td>1.022798</td>\n",
       "      <td>150000</td>\n",
       "      <td>100000</td>\n",
       "      <td>1150000</td>\n",
       "      <td>10227.983085</td>\n",
       "      <td>1.176218e+10</td>\n",
       "      <td>6762.0</td>\n",
       "      <td>26.0</td>\n",
       "      <td>804.0</td>\n",
       "      <td>70.0</td>\n",
       "      <td>75.0</td>\n",
       "      <td>155524</td>\n",
       "      <td>605</td>\n",
       "      <td>18479</td>\n",
       "      <td>1616</td>\n",
       "      <td>1728</td>\n",
       "    </tr>\n",
       "  </tbody>\n",
       "</table>\n",
       "</div>"
      ],
      "text/plain": [
       "            편입비중_삼성전자  편입비중_삼성바이오로직스  편입비중_SK하이닉스  편입비중_LG화학  편입비중_삼성SDI  \\\n",
       "날짜                                                                         \n",
       "2020-01-02   0.746518       0.022301     0.152173   0.044133    0.034875   \n",
       "2020-01-03   0.748685       0.021908     0.151469   0.043602    0.034337   \n",
       "2020-01-06   0.749622       0.021415     0.151338   0.043095    0.034530   \n",
       "2020-01-07   0.750133       0.021677     0.150147   0.043451    0.034592   \n",
       "2020-01-08   0.751034       0.020787     0.153023   0.041501    0.033656   \n",
       "\n",
       "                  지수     설정좌수    환매좌수      총좌수          iNAV           AUM  \\\n",
       "날짜                                                                           \n",
       "2020-01-02  1.000000  1000000       0  1000000  10000.000000  1.000000e+10   \n",
       "2020-01-03  1.002525    50000       0  1050000  10025.248628  1.052651e+10   \n",
       "2020-01-06  1.001271   150000  100000  1100000  10012.711428  1.101398e+10   \n",
       "2020-01-07  1.005998   100000  100000  1100000  10059.982409  1.106598e+10   \n",
       "2020-01-08  1.022798   150000  100000  1150000  10227.983085  1.176218e+10   \n",
       "\n",
       "            매매내역_삼성전자  매매내역_삼성바이오로직스  매매내역_SK하이닉스  매매내역_LG화학  매매내역_삼성SDI  \\\n",
       "날짜                                                                         \n",
       "2020-01-02   135238.0          526.0      16068.0     1405.0      1503.0   \n",
       "2020-01-03     6762.0           26.0        804.0       70.0        75.0   \n",
       "2020-01-06     6762.0           27.0        803.0       71.0        75.0   \n",
       "2020-01-07        0.0            0.0          0.0        0.0         0.0   \n",
       "2020-01-08     6762.0           26.0        804.0       70.0        75.0   \n",
       "\n",
       "            주식잔고_삼성전자  주식잔고_삼성바이오로직스  주식잔고_SK하이닉스  주식잔고_LG화학  주식잔고_삼성SDI  \n",
       "날짜                                                                        \n",
       "2020-01-02     135238            526        16068       1405        1503  \n",
       "2020-01-03     142000            552        16872       1475        1578  \n",
       "2020-01-06     148762            579        17675       1546        1653  \n",
       "2020-01-07     148762            579        17675       1546        1653  \n",
       "2020-01-08     155524            605        18479       1616        1728  "
      ]
     },
     "execution_count": 24,
     "metadata": {},
     "output_type": "execute_result"
    }
   ],
   "source": [
    "fdf = pd.read_csv(\"실습07_펀드_운용모델_최종.csv\", parse_dates=['날짜'])\n",
    "fdf = fdf.set_index(\"날짜\")\n",
    "fdf.head()"
   ]
  },
  {
   "cell_type": "markdown",
   "id": "b12d1574-49d1-4875-8b1d-4949a7066b88",
   "metadata": {},
   "source": [
    "## KOSPI vs. BOND10Y vs. ASIA5-Fund\n",
    "* ref : https://github.com/sharebook-kr/pykrx\n",
    "<pre>\n",
    "for ticker in stock.get_index_ticker_list():\n",
    "    print(ticker, stock.get_index_ticker_name(ticker))\n",
    "1001 코스피\n",
    "1028 코스피 200\n",
    "1034 코스피 100"
   ]
  },
  {
   "cell_type": "code",
   "execution_count": 25,
   "id": "c831b0a3-6ac6-46dc-9269-e275be691136",
   "metadata": {
    "tags": []
   },
   "outputs": [
    {
     "name": "stdout",
     "output_type": "stream",
     "text": [
      "824 ['005930', '373220', '000660']\n"
     ]
    }
   ],
   "source": [
    "# 인덱스 구성종목 조회\n",
    "pdf = stock.get_index_portfolio_deposit_file(\"1001\")\n",
    "print(len(pdf), pdf[:3])"
   ]
  },
  {
   "cell_type": "code",
   "execution_count": 26,
   "id": "16d67182-4614-443b-bb58-560de671189c",
   "metadata": {
    "tags": []
   },
   "outputs": [],
   "source": [
    "# # 인덱스 OHLCV\n",
    "# kospi_df = stock.get_index_ohlcv(\"20200101\", \"20221231\", \"1001\")\n",
    "# kospi_df.head()"
   ]
  },
  {
   "cell_type": "code",
   "execution_count": 27,
   "id": "baa4d88c-657e-4c78-873a-f49b3c8fff26",
   "metadata": {
    "tags": []
   },
   "outputs": [
    {
     "data": {
      "text/html": [
       "<div>\n",
       "<style scoped>\n",
       "    .dataframe tbody tr th:only-of-type {\n",
       "        vertical-align: middle;\n",
       "    }\n",
       "\n",
       "    .dataframe tbody tr th {\n",
       "        vertical-align: top;\n",
       "    }\n",
       "\n",
       "    .dataframe thead th {\n",
       "        text-align: right;\n",
       "    }\n",
       "</style>\n",
       "<table border=\"1\" class=\"dataframe\">\n",
       "  <thead>\n",
       "    <tr style=\"text-align: right;\">\n",
       "      <th></th>\n",
       "      <th>KOSPI</th>\n",
       "      <th>BOND10Y</th>\n",
       "    </tr>\n",
       "    <tr>\n",
       "      <th>Date</th>\n",
       "      <th></th>\n",
       "      <th></th>\n",
       "    </tr>\n",
       "  </thead>\n",
       "  <tbody>\n",
       "    <tr>\n",
       "      <th>2020-01-02</th>\n",
       "      <td>2175.169922</td>\n",
       "      <td>123285.0</td>\n",
       "    </tr>\n",
       "    <tr>\n",
       "      <th>2020-01-03</th>\n",
       "      <td>2176.459961</td>\n",
       "      <td>124030.0</td>\n",
       "    </tr>\n",
       "    <tr>\n",
       "      <th>2020-01-06</th>\n",
       "      <td>2155.070068</td>\n",
       "      <td>124360.0</td>\n",
       "    </tr>\n",
       "    <tr>\n",
       "      <th>2020-01-07</th>\n",
       "      <td>2175.540039</td>\n",
       "      <td>123590.0</td>\n",
       "    </tr>\n",
       "    <tr>\n",
       "      <th>2020-01-08</th>\n",
       "      <td>2151.310059</td>\n",
       "      <td>123360.0</td>\n",
       "    </tr>\n",
       "  </tbody>\n",
       "</table>\n",
       "</div>"
      ],
      "text/plain": [
       "                  KOSPI   BOND10Y\n",
       "Date                             \n",
       "2020-01-02  2175.169922  123285.0\n",
       "2020-01-03  2176.459961  124030.0\n",
       "2020-01-06  2155.070068  124360.0\n",
       "2020-01-07  2175.540039  123590.0\n",
       "2020-01-08  2151.310059  123360.0"
      ]
     },
     "execution_count": 27,
     "metadata": {},
     "output_type": "execute_result"
    }
   ],
   "source": [
    "import yfinance as yf\n",
    "# tickers      = ['^GSPC', '^KS11','IEF', '148070.KS'] # 주식:지수,  채권:10년물 국채 \n",
    "tickers      = ['^KS11','148070.KS'] # 주식:지수,  채권:10년물 국채 \n",
    "start_date = '2020-01-01'\n",
    "end_date = '2022-12-31'\n",
    "\n",
    "sample=pd.DataFrame()\n",
    "for i, ticker in enumerate(tickers):\n",
    "    ticker = yf.Ticker(ticker)\n",
    "    s = ticker.history(interval='1d', start=start_date, end=end_date, auto_adjust=False)[['Close']]\n",
    "    s.index = pd.to_datetime(s.index.strftime('%Y-%m-%d'), format='%Y-%m-%d')\n",
    "    sample = pd.concat([sample, s], axis=1)\n",
    "    \n",
    "# sample.columns = ['S&P500', 'KOSPI', 'US-BOND10Y', 'KR-BOND10Y']\n",
    "sample.columns = ['KOSPI', 'BOND10Y']\n",
    "sample.head()"
   ]
  },
  {
   "cell_type": "code",
   "execution_count": 28,
   "id": "55ba7200-508a-4ebf-92b4-125bab936243",
   "metadata": {
    "tags": []
   },
   "outputs": [
    {
     "data": {
      "text/html": [
       "<div>\n",
       "<style scoped>\n",
       "    .dataframe tbody tr th:only-of-type {\n",
       "        vertical-align: middle;\n",
       "    }\n",
       "\n",
       "    .dataframe tbody tr th {\n",
       "        vertical-align: top;\n",
       "    }\n",
       "\n",
       "    .dataframe thead th {\n",
       "        text-align: right;\n",
       "    }\n",
       "</style>\n",
       "<table border=\"1\" class=\"dataframe\">\n",
       "  <thead>\n",
       "    <tr style=\"text-align: right;\">\n",
       "      <th></th>\n",
       "      <th>KOSPI</th>\n",
       "      <th>BOND10Y</th>\n",
       "      <th>KOSPI지수</th>\n",
       "      <th>BOND10지수</th>\n",
       "    </tr>\n",
       "    <tr>\n",
       "      <th>Date</th>\n",
       "      <th></th>\n",
       "      <th></th>\n",
       "      <th></th>\n",
       "      <th></th>\n",
       "    </tr>\n",
       "  </thead>\n",
       "  <tbody>\n",
       "    <tr>\n",
       "      <th>2020-01-02</th>\n",
       "      <td>2175.169922</td>\n",
       "      <td>123285.0</td>\n",
       "      <td>1.000000</td>\n",
       "      <td>1.000000</td>\n",
       "    </tr>\n",
       "    <tr>\n",
       "      <th>2020-01-03</th>\n",
       "      <td>2176.459961</td>\n",
       "      <td>124030.0</td>\n",
       "      <td>1.000593</td>\n",
       "      <td>1.006043</td>\n",
       "    </tr>\n",
       "    <tr>\n",
       "      <th>2020-01-06</th>\n",
       "      <td>2155.070068</td>\n",
       "      <td>124360.0</td>\n",
       "      <td>0.990759</td>\n",
       "      <td>1.008720</td>\n",
       "    </tr>\n",
       "    <tr>\n",
       "      <th>2020-01-07</th>\n",
       "      <td>2175.540039</td>\n",
       "      <td>123590.0</td>\n",
       "      <td>1.000170</td>\n",
       "      <td>1.002474</td>\n",
       "    </tr>\n",
       "    <tr>\n",
       "      <th>2020-01-08</th>\n",
       "      <td>2151.310059</td>\n",
       "      <td>123360.0</td>\n",
       "      <td>0.989031</td>\n",
       "      <td>1.000608</td>\n",
       "    </tr>\n",
       "  </tbody>\n",
       "</table>\n",
       "</div>"
      ],
      "text/plain": [
       "                  KOSPI   BOND10Y   KOSPI지수  BOND10지수\n",
       "Date                                                 \n",
       "2020-01-02  2175.169922  123285.0  1.000000  1.000000\n",
       "2020-01-03  2176.459961  124030.0  1.000593  1.006043\n",
       "2020-01-06  2155.070068  124360.0  0.990759  1.008720\n",
       "2020-01-07  2175.540039  123590.0  1.000170  1.002474\n",
       "2020-01-08  2151.310059  123360.0  0.989031  1.000608"
      ]
     },
     "execution_count": 28,
     "metadata": {},
     "output_type": "execute_result"
    }
   ],
   "source": [
    "sample['KOSPI지수'] = sample['KOSPI'] / sample.iloc[0]['KOSPI']\n",
    "sample['BOND10지수'] = sample['BOND10Y'] / sample.iloc[0]['BOND10Y']\n",
    "sample.head()"
   ]
  },
  {
   "cell_type": "code",
   "execution_count": 29,
   "id": "73e8fd6b-ea78-40ee-ac04-489e422b79c2",
   "metadata": {
    "tags": []
   },
   "outputs": [
    {
     "data": {
      "text/plain": [
       "((742, 21), (740, 4))"
      ]
     },
     "execution_count": 29,
     "metadata": {},
     "output_type": "execute_result"
    }
   ],
   "source": [
    "fdf.shape, sample.shape"
   ]
  },
  {
   "cell_type": "code",
   "execution_count": 30,
   "id": "94021c75-bc11-42f7-83e3-6dc174536569",
   "metadata": {
    "tags": []
   },
   "outputs": [
    {
     "data": {
      "text/html": [
       "<div>\n",
       "<style scoped>\n",
       "    .dataframe tbody tr th:only-of-type {\n",
       "        vertical-align: middle;\n",
       "    }\n",
       "\n",
       "    .dataframe tbody tr th {\n",
       "        vertical-align: top;\n",
       "    }\n",
       "\n",
       "    .dataframe thead th {\n",
       "        text-align: right;\n",
       "    }\n",
       "</style>\n",
       "<table border=\"1\" class=\"dataframe\">\n",
       "  <thead>\n",
       "    <tr style=\"text-align: right;\">\n",
       "      <th></th>\n",
       "      <th>KOSPI지수</th>\n",
       "      <th>BOND10지수</th>\n",
       "      <th>아시아5지수</th>\n",
       "    </tr>\n",
       "  </thead>\n",
       "  <tbody>\n",
       "    <tr>\n",
       "      <th>2020-01-02</th>\n",
       "      <td>1.000000</td>\n",
       "      <td>1.000000</td>\n",
       "      <td>1.000000</td>\n",
       "    </tr>\n",
       "    <tr>\n",
       "      <th>2020-01-03</th>\n",
       "      <td>1.000593</td>\n",
       "      <td>1.006043</td>\n",
       "      <td>1.002525</td>\n",
       "    </tr>\n",
       "    <tr>\n",
       "      <th>2020-01-06</th>\n",
       "      <td>0.990759</td>\n",
       "      <td>1.008720</td>\n",
       "      <td>1.001271</td>\n",
       "    </tr>\n",
       "    <tr>\n",
       "      <th>2020-01-07</th>\n",
       "      <td>1.000170</td>\n",
       "      <td>1.002474</td>\n",
       "      <td>1.005998</td>\n",
       "    </tr>\n",
       "    <tr>\n",
       "      <th>2020-01-08</th>\n",
       "      <td>0.989031</td>\n",
       "      <td>1.000608</td>\n",
       "      <td>1.022798</td>\n",
       "    </tr>\n",
       "  </tbody>\n",
       "</table>\n",
       "</div>"
      ],
      "text/plain": [
       "             KOSPI지수  BOND10지수    아시아5지수\n",
       "2020-01-02  1.000000  1.000000  1.000000\n",
       "2020-01-03  1.000593  1.006043  1.002525\n",
       "2020-01-06  0.990759  1.008720  1.001271\n",
       "2020-01-07  1.000170  1.002474  1.005998\n",
       "2020-01-08  0.989031  1.000608  1.022798"
      ]
     },
     "execution_count": 30,
     "metadata": {},
     "output_type": "execute_result"
    }
   ],
   "source": [
    "# fdf 날짜 sampe: Date\n",
    "tot = pd.merge(sample[['KOSPI지수','BOND10지수']], fdf[\"지수\"], left_index=True, right_index=True)\n",
    "tot.columns = ['KOSPI지수','BOND10지수','아시아5지수']\n",
    "tot.head()"
   ]
  },
  {
   "cell_type": "code",
   "execution_count": 31,
   "id": "798faa3d-e1a1-4505-9577-96e28cb466e9",
   "metadata": {
    "tags": []
   },
   "outputs": [
    {
     "data": {
      "image/png": "[encoded data removed]",
      "text/plain": [
       "<Figure size 1000x400 with 1 Axes>"
      ]
     },
     "metadata": {},
     "output_type": "display_data"
    }
   ],
   "source": [
    "# pd.options.plotting.backend = \"plotly\"   \n",
    "tot.plot(color=['orange','blue','red'], figsize=(10,4))\n",
    "plt.show()"
   ]
  },
  {
   "cell_type": "markdown",
   "id": "9f28f375-9672-4142-82b4-ccfba3b8a19e",
   "metadata": {},
   "source": [
    "## 일간 변동률"
   ]
  },
  {
   "cell_type": "code",
   "execution_count": 50,
   "id": "f5699a4e-1133-4d75-9db8-31636b80e1b2",
   "metadata": {
    "tags": []
   },
   "outputs": [
    {
     "data": {
      "image/png": "[encoded data removed]",
      "text/plain": [
       "<Figure size 1000x400 with 1 Axes>"
      ]
     },
     "metadata": {},
     "output_type": "display_data"
    }
   ],
   "source": [
    "(tot.diff()*100).plot(color=['orange','blue','red'], figsize=(10,4))\n",
    "plt.ylabel('(%)')\n",
    "plt.show()"
   ]
  },
  {
   "cell_type": "markdown",
   "id": "14d7f233-f25b-4182-a362-1f3e27ce0107",
   "metadata": {},
   "source": [
    "## 추적오차율 \n",
    "* 추적오차율 = 펀드수익률 - 지수수익률"
   ]
  },
  {
   "cell_type": "code",
   "execution_count": 55,
   "id": "381aabe1-7e54-4a64-8b3b-d902d0c1e23f",
   "metadata": {},
   "outputs": [
    {
     "data": {
      "image/png": "[encoded data removed]",
      "text/plain": [
       "<Figure size 1000x400 with 1 Axes>"
      ]
     },
     "metadata": {},
     "output_type": "display_data"
    }
   ],
   "source": [
    "# KOSPI200 대비 일간 추적오차율 \n",
    "tot[['KOSPI지수','아시아5지수']].plot(figsize=(10,4))\n",
    "# plt.show()\n",
    "(tot['아시아5지수']-tot['KOSPI지수']).plot(figsize=(10,4))\n",
    "plt.show()"
   ]
  },
  {
   "cell_type": "markdown",
   "id": "00fbadc2-3a31-4e58-be57-fef95f7a2aaa",
   "metadata": {},
   "source": [
    "## 수익률"
   ]
  },
  {
   "cell_type": "markdown",
   "id": "7fd6646e-437a-41fa-b38c-27369d09e71a",
   "metadata": {},
   "source": [
    "* 연간 기대수익률"
   ]
  },
  {
   "cell_type": "code",
   "execution_count": 33,
   "id": "7e939827-3f77-46e4-92ff-64147b309cae",
   "metadata": {
    "tags": []
   },
   "outputs": [
    {
     "name": "stdout",
     "output_type": "stream",
     "text": [
      "KOSPI지수     0.009466\n",
      "BOND10지수   -0.047244\n",
      "아시아5지수      0.027754\n",
      "dtype: float64\n",
      "           KOSPI지수  BOND10지수    아시아5지수\n",
      "KOSPI지수   0.047519  0.001435  0.050100\n",
      "BOND10지수  0.001435  0.004374  0.001259\n",
      "아시아5지수    0.050100  0.001259  0.066465\n"
     ]
    }
   ],
   "source": [
    "r = tot.pct_change() \n",
    "연간기대수익률 = np.log(1+ r).mean() * 252\n",
    "print(연간기대수익률)\n",
    "\n",
    "연간공분산행렬 = np.log(1+ r).cov() * 252\n",
    "print(연간공분산행렬)\n"
   ]
  },
  {
   "cell_type": "markdown",
   "id": "9d08de67-6a42-44c5-8ccf-5aaf39921d99",
   "metadata": {},
   "source": [
    "* pyportfolioopt"
   ]
  },
  {
   "cell_type": "code",
   "execution_count": 34,
   "id": "014739d5-753d-4ec9-a75e-80a36604e0b2",
   "metadata": {
    "tags": []
   },
   "outputs": [],
   "source": [
    "# 권한문제 발생(pycharm에서 설치)\n",
    "# ! pip install pyportfolioopt"
   ]
  },
  {
   "cell_type": "code",
   "execution_count": 35,
   "id": "55ee720b-cb31-4bb2-a563-1908cb8de7e4",
   "metadata": {
    "tags": []
   },
   "outputs": [],
   "source": [
    "from pypfopt.efficient_frontier import EfficientFrontier\n",
    "from pypfopt import risk_models\n",
    "from pypfopt import expected_returns"
   ]
  },
  {
   "cell_type": "code",
   "execution_count": 36,
   "id": "b00c9644-3c8c-43d4-939d-0fa907a516d2",
   "metadata": {
    "tags": []
   },
   "outputs": [
    {
     "name": "stdout",
     "output_type": "stream",
     "text": [
      "KOSPI지수     0.009511\n",
      "BOND10지수   -0.046145\n",
      "아시아5지수      0.028143\n",
      "dtype: float64\n",
      "           KOSPI지수  BOND10지수    아시아5지수\n",
      "KOSPI지수   0.047472  0.001407  0.050268\n",
      "BOND10지수  0.001407  0.004365  0.001249\n",
      "아시아5지수    0.050268  0.001249  0.067008\n",
      "\n"
     ]
    }
   ],
   "source": [
    "mu = expected_returns.mean_historical_return(tot)\n",
    "S = risk_models.sample_cov(tot)\n",
    "print(mu)\n",
    "print(S)\n",
    "print()\n",
    "# ef = EfficientFrontier(mu, S)\n",
    "# weights = ef.max_sharpe()\n",
    "# cleaned_weights = ef.clean_weights()\n",
    "# print(cleaned_weights)\n",
    "# ef.portfolio_performance(verbose=True)"
   ]
  },
  {
   "cell_type": "markdown",
   "id": "6dbfc67e-1735-48c8-991e-f8fcb1f02f97",
   "metadata": {},
   "source": [
    "* 기간 수익률"
   ]
  },
  {
   "cell_type": "code",
   "execution_count": 37,
   "id": "c7fd493c-752f-4d64-9f9b-a2aef6911c5a",
   "metadata": {
    "tags": []
   },
   "outputs": [
    {
     "name": "stdout",
     "output_type": "stream",
     "text": [
      "기간수익률 : \n",
      " KOSPI지수     1.0\n",
      "BOND10지수    0.9\n",
      "아시아5지수      1.1\n",
      "dtype: float64 \n",
      "\n",
      "연복리 : \n",
      " KOSPI지수     0.000000\n",
      "BOND10지수   -5.131670\n",
      "아시아5지수      4.880885\n",
      "dtype: float64 \n"
     ]
    }
   ],
   "source": [
    "N = 2\n",
    "기간수익률_몇배 = np.round( (tot.iloc[-1] / tot.iloc[0] ) , 1)\n",
    "연복리수익률r = ((기간수익률_몇배 ** (1/N))-1) * 100\n",
    "print(f\"기간수익률 : \\n {기간수익률_몇배} \")\n",
    "print()\n",
    "print(f\"연복리 : \\n {연복리수익률r} \")"
   ]
  },
  {
   "cell_type": "markdown",
   "id": "39d12e94-2f7a-4943-997a-a2e547949dae",
   "metadata": {},
   "source": [
    "# 포트폴리오"
   ]
  },
  {
   "cell_type": "markdown",
   "id": "bc52a4f7-5670-4fa0-ab61-16b0c87849db",
   "metadata": {},
   "source": [
    "## 효율적 투자선"
   ]
  },
  {
   "cell_type": "code",
   "execution_count": 38,
   "id": "720e827c-8d8a-4762-934f-5a8055aab848",
   "metadata": {
    "tags": []
   },
   "outputs": [
    {
     "name": "stdout",
     "output_type": "stream",
     "text": [
      "(10000, 4)\n"
     ]
    },
    {
     "data": {
      "text/html": [
       "<div>\n",
       "<style scoped>\n",
       "    .dataframe tbody tr th:only-of-type {\n",
       "        vertical-align: middle;\n",
       "    }\n",
       "\n",
       "    .dataframe tbody tr th {\n",
       "        vertical-align: top;\n",
       "    }\n",
       "\n",
       "    .dataframe thead th {\n",
       "        text-align: right;\n",
       "    }\n",
       "</style>\n",
       "<table border=\"1\" class=\"dataframe\">\n",
       "  <thead>\n",
       "    <tr style=\"text-align: right;\">\n",
       "      <th></th>\n",
       "      <th>ret</th>\n",
       "      <th>risk</th>\n",
       "      <th>sharp</th>\n",
       "      <th>weight</th>\n",
       "    </tr>\n",
       "  </thead>\n",
       "  <tbody>\n",
       "    <tr>\n",
       "      <th>0</th>\n",
       "      <td>0.020380</td>\n",
       "      <td>0.169866</td>\n",
       "      <td>0.119980</td>\n",
       "      <td>[0.4586088062517833, 0.26278681913931723, 0.27860437460889953]</td>\n",
       "    </tr>\n",
       "    <tr>\n",
       "      <th>1</th>\n",
       "      <td>0.027231</td>\n",
       "      <td>0.181632</td>\n",
       "      <td>0.149922</td>\n",
       "      <td>[0.2870804198521364, 0.24323935208945402, 0.4696802280584096]</td>\n",
       "    </tr>\n",
       "  </tbody>\n",
       "</table>\n",
       "</div>"
      ],
      "text/plain": [
       "        ret      risk     sharp  \\\n",
       "0  0.020380  0.169866  0.119980   \n",
       "1  0.027231  0.181632  0.149922   \n",
       "\n",
       "                                                           weight  \n",
       "0  [0.4586088062517833, 0.26278681913931723, 0.27860437460889953]  \n",
       "1   [0.2870804198521364, 0.24323935208945402, 0.4696802280584096]  "
      ]
     },
     "execution_count": 38,
     "metadata": {},
     "output_type": "execute_result"
    }
   ],
   "source": [
    "#  port_var = np.sqrt(np.dot(weights.T, np.dot(cov, weights)) * 250)\n",
    "dret = tot.pct_change().mean()                  #일별 변동률\n",
    "aret = tot.pct_change().mean().dropna() *252    #년간 변동률\n",
    "dcov = tot.pct_change().cov()                   #일분산\n",
    "acov = tot.pct_change().cov() * 252             #년분산\n",
    "\n",
    "weights_list = []\n",
    "ret_list     = []\n",
    "risk_list    = []\n",
    "sharp_list   = []\n",
    "for i in range(10000):\n",
    "    w = np.random.rand(tot.shape[1])  #포트에 편성할 종목 갯수 3개\n",
    "    w = w / np.sum(w)\n",
    "    weights_list.append(w)\n",
    "    \n",
    "    # 가중평균 수익률 (p1w1 + p2w2 ... pnwn) --> np.dot(p, wT) \n",
    "    ret = np.dot(aret, w)\n",
    "    ret_list.append(ret)\n",
    "    \n",
    "    #risk(편차) =  np.sqrt(W.cov.WT)\n",
    "    risk = np.sqrt(np.dot(w.T, np.dot(acov, w)))\n",
    "    risk_list.append(risk)\n",
    "    \n",
    "    # 샤프 : (수익률-무위험수익률)/표준편차(리스크)\n",
    "    # 샤프지수가 높다 == 수익률이 높다 == 위험이 적다 == 더 좋은 포트폴리오\n",
    "    sharp_list.append(ret / risk)  #\n",
    "    \n",
    "port_dict = {\"ret\":ret_list,\"risk\":risk_list,\"sharp\":sharp_list,\"weight\":weights_list}\n",
    "port_df = pd.DataFrame(port_dict)\n",
    "print(port_df.shape)\n",
    "port_df.head(2)"
   ]
  },
  {
   "cell_type": "code",
   "execution_count": 39,
   "id": "e413c568-5016-445f-aa43-a991898ac537",
   "metadata": {
    "tags": []
   },
   "outputs": [
    {
     "name": "stdout",
     "output_type": "stream",
     "text": [
      "[5.96075109e-01 4.92548395e-02 9.93546701e+01]\n",
      "Expected annual return(ret max): 6.08% \n",
      "\n",
      "[ 5.2002497  93.99829626  0.80145404]\n",
      "Annual volatility(risk min): 6.47% \n",
      "\n",
      "[5.96075109e-01 4.92548395e-02 9.93546701e+01]\n",
      "Sharpe Ratio(sharp max): 0.24\n"
     ]
    }
   ],
   "source": [
    "ret_max   = port_df[port_df['ret'] == port_df['ret'].max()]['ret'].values[0]\n",
    "risk_min  = port_df[port_df['risk'] == port_df['risk'].min()]['risk'].values[0]\n",
    "sharp_max = port_df[port_df['sharp'] == port_df['sharp'].max()]['sharp'].values[0]\n",
    "\n",
    "dw = port_df[port_df['ret'] == port_df['ret'].max()]['weight'].values[0]\n",
    "print(dw*100)\n",
    "print(f'Expected annual return(ret max): {ret_max*100:.2f}% \\n')\n",
    "\n",
    "dw = port_df[port_df['risk'] == port_df['risk'].min()]['weight'].values[0]\n",
    "print(dw*100)\n",
    "# print(f\"편입비중(%) : KOSPI지수 {dw[0]*100:.2f}\tBOND10지수 {dw[1]*100:.2f}\t아시아5지수 {dw[2]*100:.2f}\")\n",
    "print(f'Annual volatility(risk min): {risk_min*100:.2f}% \\n')\n",
    "\n",
    "dw = port_df[port_df['sharp'] == port_df['sharp'].max()]['weight'].values[0]\n",
    "print(dw*100)\n",
    "print(f'Sharpe Ratio(sharp max): {sharp_max:.2f}')\n"
   ]
  }
 ],
 "metadata": {
  "kernelspec": {
   "display_name": "Python 3 (ipykernel)",
   "language": "python",
   "name": "python3"
  },
  "language_info": {
   "codemirror_mode": {
    "name": "ipython",
    "version": 3
   },
   "file_extension": ".py",
   "mimetype": "text/x-python",
   "name": "python",
   "nbconvert_exporter": "python",
   "pygments_lexer": "ipython3",
   "version": "3.8.8"
  }
 },
 "nbformat": 4,
 "nbformat_minor": 5
}
