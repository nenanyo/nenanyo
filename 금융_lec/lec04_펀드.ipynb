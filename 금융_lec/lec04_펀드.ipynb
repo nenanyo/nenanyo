{
 "cells": [
  {
   "cell_type": "markdown",
   "id": "9d10fc70-cc72-4e1c-850e-2d77f631f748",
   "metadata": {},
   "source": [
    "<font size=6><b>Lec05.펀드(fund)\n",
    "* 펀드기초 \n",
    "    * https://securities.miraeasset.com/imf/400/imf201.do\n",
    "    * https://www.hanwhafund.co.kr/webapp/hw_kor/hw_invest_guide/hw_start_fund.jsp\n",
    "    * https://www.hanwhalife.com/static/main/finance/fund/start/info/FN_FUFSWFU_T10000.htm\n",
    "    * https://m.kbsec.com/go.able?linkcd=s010100040000&amak_stnd_cd=KR5303AP8414\n",
    "    * https://www.kcie.or.kr/mobile/guide/3/17/web_view?series_idx=&content_idx=1280"
   ]
  },
  {
   "cell_type": "markdown",
   "id": "25d96d71-3036-48e9-95c5-2a2ca932a3c7",
   "metadata": {},
   "source": [
    "# [News] \n",
    "* 조정장서 '선방'한 한국형 헤지펀드… 비결은\"\n",
    "    * https://www.hankyung.com/finance/article/2018030682631\n",
    "* 세계 10대 헤지펀드, 6개월 새 이익 32조원 남겼다\n",
    "    * https://www.joongang.co.kr/article/5133804#home\n",
    "* 한국판 뉴딜펀드\n",
    "    * https://www.korea.kr/special/policyCurationView.do?newsId=148899796"
   ]
  }
 ],
 "metadata": {
  "kernelspec": {
   "display_name": "Python 3 (ipykernel)",
   "language": "python",
   "name": "python3"
  },
  "language_info": {
   "codemirror_mode": {
    "name": "ipython",
    "version": 3
   },
   "file_extension": ".py",
   "mimetype": "text/x-python",
   "name": "python",
   "nbconvert_exporter": "python",
   "pygments_lexer": "ipython3",
   "version": "3.8.8"
  }
 },
 "nbformat": 4,
 "nbformat_minor": 5
}
