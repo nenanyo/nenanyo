{
 "cells": [
  {
   "cell_type": "code",
   "execution_count": null,
   "metadata": {},
   "outputs": [],
   "source": [
    " # 올바른 괄호\n",
    "def solution(s):\n",
    "    stack = []\n",
    "    for i in s:\n",
    "        if i=='(':\n",
    "            stack.append('(')\n",
    "        else:\n",
    "            if stack ==[]:\n",
    "                return False\n",
    "            else:\n",
    "                stack.pop()\n",
    "\n",
    "    return stack ==[]"
   ]
  },
  {
   "cell_type": "code",
   "execution_count": null,
   "metadata": {},
   "outputs": [],
   "source": [
    "# 숫자의 표현\n",
    "def solution(n):\n",
    "    answer = 0\n",
    "    for i in range(1,n+1):\n",
    "        sum_val = 0\n",
    "        for j in range(i,n+1):\n",
    "            sum_val += j\n",
    "            if sum_val == n:\n",
    "                answer += 1\n",
    "            elif sum_val > n:\n",
    "                break\n",
    "    return answer"
   ]
  },
  {
   "cell_type": "code",
   "execution_count": null,
   "metadata": {},
   "outputs": [],
   "source": [
    "# 피보나치 수\n",
    "def solution(n):\n",
    "    answer = []\n",
    "    for i in range(n+1):\n",
    "        if i==0 or i==1:\n",
    "            answer.append(i)\n",
    "        else:\n",
    "            f = answer[i-1] + answer[i-2]\n",
    "            answer.append(f % 1234567)\n",
    "\n",
    "    return answer"
   ]
  },
  {
   "cell_type": "code",
   "execution_count": null,
   "metadata": {},
   "outputs": [],
   "source": [
    "# 짝지어 제거하기\n",
    "def solution(s):\n",
    "    stack =[]\n",
    "    for i in range(len(s)):\n",
    "        if not stack:\n",
    "            stack.append(s[i])\n",
    "        else:\n",
    "            if s[i] == stack[-1]:\n",
    "                stack.pop()\n",
    "            else:\n",
    "                stack.append(s[i])\n",
    "    if stack : return 0\n",
    "    else : return 1"
   ]
  },
  {
   "cell_type": "code",
   "execution_count": null,
   "metadata": {},
   "outputs": [],
   "source": [
    "# 카펫\n",
    "def solution(brown, yellow):\n",
    "    answer = []\n",
    "    cell = brown + yellow\n",
    "    for b in range(1,cell+1):\n",
    "        if (cell/b)%1==0:\n",
    "            a = cell/b\n",
    "            if a >= b:\n",
    "                if 2*a + 2*b == brown +4:\n",
    "                    return [a,b]\n",
    "                \n",
    "    return answer"
   ]
  },
  {
   "cell_type": "code",
   "execution_count": null,
   "metadata": {},
   "outputs": [],
   "source": [
    "# 영어 끝말잇기\n",
    "def solution(n, words):\n",
    "    answer = [0,0]\n",
    "    stack =[]\n",
    "    for i in range(1,len(words)):\n",
    "        if (words[i] in words[:i]) or (words[i-1][-1] != words[i][0]):\n",
    "            a,b = divmod(i,n)\n",
    "            return [b+1,a+1]\n",
    "            \n",
    "        # print(words[i-1][-1],words[i][0])\n",
    "    return answer"
   ]
  },
  {
   "cell_type": "code",
   "execution_count": null,
   "metadata": {},
   "outputs": [],
   "source": [
    "# 구명보트\n",
    "def solution(people, limit) :\n",
    "    answer = 0\n",
    "    people.sort()\n",
    "\n",
    "    a = 0\n",
    "    b = len(people) - 1\n",
    "    while a < b :\n",
    "        if people[b] + people[a] <= limit :\n",
    "            a += 1\n",
    "            answer += 1\n",
    "        b -= 1\n",
    "    return len(people) - answer"
   ]
  },
  {
   "cell_type": "code",
   "execution_count": null,
   "metadata": {},
   "outputs": [],
   "source": [
    "# N개의 최소공배수\n",
    "from math import prod\n",
    "def solution(arr):\n",
    "    answer = 0\n",
    "    \n",
    "    for i in range(max(arr), prod(arr)):\n",
    "        tmp =0\n",
    "        for j in range(len(arr)):\n",
    "            if i%arr[j]==0:\n",
    "                tmp +=1\n",
    "            else:\n",
    "                break\n",
    "        if tmp == len(arr):\n",
    "            break\n",
    "        answer = i+1\n",
    "    return answer"
   ]
  },
  {
   "cell_type": "code",
   "execution_count": null,
   "metadata": {},
   "outputs": [],
   "source": [
    "# 귤 고르기\n",
    "from collections import Counter\n",
    "def solution(k, tangerine):\n",
    "    answer = 0\n",
    "    count = Counter(tangerine)\n",
    "    sort_count = sorted(count.items(),key=lambda x:x[1], reverse=True)\n",
    "    # sort_count = sorted(count.keys(),reverse=True)\n",
    "    for count in sort_count:\n",
    "        k -= count[1]\n",
    "        answer +=1\n",
    "        if k <=0:\n",
    "            break\n",
    "    return answer"
   ]
  },
  {
   "cell_type": "code",
   "execution_count": null,
   "metadata": {},
   "outputs": [],
   "source": [
    "# 괄호 회전하기\n",
    "def bracket(s):\n",
    "        stack = []\n",
    "        for i in s:\n",
    "            if len(stack) == 0: stack.append(i)\n",
    "            else:\n",
    "                if i == \")\" and stack[-1] == \"(\":   stack.pop()\n",
    "                elif i == \"]\" and stack[-1] == \"[\":   stack.pop()\n",
    "                elif i == \"}\" and stack[-1] == \"{\":   stack.pop()\n",
    "                else: stack.append(i)\n",
    "        return 1 if len(stack) == 0 else 0\n",
    "        \n",
    "def solution(s):\n",
    "    answer = 0\n",
    "    \n",
    "    for i in range(len(s)):\n",
    "        if bracket(s):  answer +=1\n",
    "        s = s[1:] + s[:1]\n",
    "    return answer"
   ]
  },
  {
   "cell_type": "code",
   "execution_count": null,
   "metadata": {},
   "outputs": [],
   "source": [
    "# 할인 행사\n",
    "def solution(want, number, discount):\n",
    "    answer = 0\n",
    "    items =[]\n",
    "    for i in range(len(want)):\n",
    "        for j in range(number[i]):\n",
    "            items.append(want[i])\n",
    "    items.sort()\n",
    "    for i in range(len(discount)-9):\n",
    "        list_10 = discount[i:i+10]\n",
    "        list_10.sort()\n",
    "        if items == list_10:\n",
    "            answer += 1\n",
    "    return answer"
   ]
  },
  {
   "cell_type": "code",
   "execution_count": null,
   "metadata": {},
   "outputs": [],
   "source": [
    "# n^2 배열 자르기\n",
    "def solution(n, left, right):\n",
    "    answer = []\n",
    "\n",
    "    for i in range(left, right + 1):\n",
    "        answer.append(max(i // n, i % n) + 1)\n",
    "\n",
    "    return answer"
   ]
  },
  {
   "cell_type": "code",
   "execution_count": null,
   "metadata": {},
   "outputs": [],
   "source": [
    "# H-Index\n",
    "def solution(citations):\n",
    "    answer = 0\n",
    "    citations.sort(reverse=True)\n",
    "    \n",
    "    for i in range(len(citations)):              \n",
    "        # H_index가 존재하고 H_index를 넘는 논문이 몇 개인지 구할때\n",
    "        if(citations[i] < i+1):\n",
    "            return i\n",
    "\n",
    "    return len(citations)     "
   ]
  },
  {
   "cell_type": "code",
   "execution_count": null,
   "metadata": {},
   "outputs": [],
   "source": [
    "# 행렬의 곱셈\n",
    "def solution(arr1, arr2):\n",
    "    answer = [[0]*len(arr2[0]) for _ in range(len(arr1))]\n",
    "    for i in range(len(arr1)): \n",
    "        lists = []\n",
    "        for j in range(len(arr2[0])): \n",
    "            for k in range(len(arr1[0])): \n",
    "                answer[i][j] += arr1[i][k] * arr2[k][j]\n",
    "    return answer"
   ]
  },
  {
   "cell_type": "code",
   "execution_count": null,
   "metadata": {},
   "outputs": [],
   "source": [
    "# 의상\n",
    "def solution(clothes):\n",
    "    answer = 0\n",
    "    hash_map = {}\n",
    "    for cloth, type in clothes:\n",
    "        hash_map[type] = hash_map.get(type,0) + 1\n",
    "    answer = 1\n",
    "    for type in hash_map:\n",
    "        answer *= hash_map[type] +1\n",
    "    return answer-1"
   ]
  },
  {
   "cell_type": "code",
   "execution_count": null,
   "metadata": {},
   "outputs": [],
   "source": [
    "# [1차] 캐시\n",
    "def solution(cacheSize, cities):\n",
    "    answer = 0\n",
    "    i = 0\n",
    "    cache =[]\n",
    "    if cacheSize ==0:\n",
    "        return len(cities) * 5\n",
    "    for c in cities:\n",
    "        city = c.upper()\n",
    "        if city in cache:\n",
    "            cache.remove(city)\n",
    "            cache.append(city)\n",
    "            answer +=1\n",
    "        else:\n",
    "            answer +=5\n",
    "            if i < cacheSize:\n",
    "                cache.append(city)\n",
    "                i += 1\n",
    "            else:\n",
    "                cache.pop(0)\n",
    "                cache.append(city)\n",
    "    return answer"
   ]
  },
  {
   "cell_type": "code",
   "execution_count": null,
   "metadata": {},
   "outputs": [],
   "source": [
    "# 기능개발\n",
    "def solution(progresses, speeds):\n",
    "    answer = []\n",
    "    cnt =0\n",
    "    time =0\n",
    "    while len(progresses) >0:\n",
    "        if (progresses[0] + time * speeds[0]) >=100:\n",
    "            progresses.pop(0)\n",
    "            speeds.pop(0)\n",
    "            cnt += 1\n",
    "        else:\n",
    "            if cnt >0:\n",
    "                answer.append(cnt)\n",
    "                cnt = 0\n",
    "            time += 1\n",
    "        # print(progresses)\n",
    "    answer.append(cnt)    \n",
    "    return answer"
   ]
  },
  {
   "cell_type": "code",
   "execution_count": null,
   "metadata": {},
   "outputs": [],
   "source": []
  },
  {
   "cell_type": "code",
   "execution_count": null,
   "metadata": {},
   "outputs": [],
   "source": []
  },
  {
   "cell_type": "code",
   "execution_count": null,
   "metadata": {},
   "outputs": [],
   "source": []
  }
 ],
 "metadata": {
  "language_info": {
   "name": "python"
  }
 },
 "nbformat": 4,
 "nbformat_minor": 2
}
