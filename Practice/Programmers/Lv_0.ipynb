{
 "cells": [
  {
   "cell_type": "code",
   "execution_count": 1,
   "metadata": {},
   "outputs": [],
   "source": [
    "# 수열과 구간 쿼리 2\n",
    "def solution(arr, queries):\n",
    "    answer = []\n",
    "    for s,e,k in queries:\n",
    "        tmp =[]\n",
    "        for i in range(s,e+1):\n",
    "            if arr[i] > k:\n",
    "                tmp.append(arr[i])\n",
    "                \n",
    "        try:\n",
    "            answer.append(min(tmp))\n",
    "        except:\n",
    "            answer.append(-1)\n",
    "    return answer"
   ]
  },
  {
   "cell_type": "code",
   "execution_count": null,
   "metadata": {},
   "outputs": [],
   "source": [
    "# 무작위로 K개의 수 뽑기\n",
    "def solution(arr, k):\n",
    "    answer = []\n",
    "    for i in arr:\n",
    "        if i not in answer:\n",
    "            answer.append(i)\n",
    "        if len(answer) == k:\n",
    "            break\n",
    "    return answer + [-1] * (k-len(answer))"
   ]
  },
  {
   "cell_type": "code",
   "execution_count": null,
   "metadata": {},
   "outputs": [],
   "source": [
    "# 정사각형으로 만들기\n",
    "def solution(arr):\n",
    "    answer = []\n",
    "    i = len(arr)\n",
    "    j = len(arr[0])\n",
    "    if i > j:\n",
    "        for k in arr:\n",
    "            k = k + [0]*(i-j)\n",
    "            answer.append(k)      \n",
    "    elif j > i:\n",
    "        answer = arr\n",
    "        for i in range(j-i):\n",
    "            answer.append([0] * (j))\n",
    "    else :\n",
    "        answer = arr\n",
    "    return answer"
   ]
  },
  {
   "cell_type": "code",
   "execution_count": null,
   "metadata": {},
   "outputs": [],
   "source": [
    "# [PCCE 기출문제] 2번 / 피타고라스의 정리\n",
    "a = int(input())\n",
    "c = int(input())\n",
    "\n",
    "b_square = (c**2) - (a**2)\n",
    "print(b_square)"
   ]
  },
  {
   "cell_type": "code",
   "execution_count": null,
   "metadata": {},
   "outputs": [],
   "source": [
    "# [PCCE 기출문제] 3번 / 나이 계산\n",
    "year = int(input())\n",
    "age_type = input()\n",
    "\n",
    "if age_type == \"Korea\":\n",
    "    answer = 2030 - year +1\n",
    "\n",
    "elif age_type == \"Year\":    \n",
    "    answer = 2030 - year\n",
    "\n",
    "\n",
    "print(answer)"
   ]
  },
  {
   "cell_type": "code",
   "execution_count": null,
   "metadata": {},
   "outputs": [],
   "source": [
    "# a와 b 출력하기\n",
    "a, b = map(int, input().strip().split(' '))\n",
    "print('a =', a)\n",
    "print('b =', b)\n"
   ]
  },
  {
   "cell_type": "code",
   "execution_count": null,
   "metadata": {},
   "outputs": [],
   "source": [
    "# 문자열 겹쳐쓰기\n",
    "def solution(my_string, overwrite_string, s):\n",
    "    lenth = len(overwrite_string)\n",
    "    answer = my_string[:s] + overwrite_string + my_string[lenth+s:]\n",
    "    return answer\n"
   ]
  },
  {
   "cell_type": "code",
   "execution_count": null,
   "metadata": {},
   "outputs": [],
   "source": [
    "# 그림 확대\n",
    "def solution(picture, k):\n",
    "    answer = []\n",
    "    j = len(picture)\n",
    "    for pix in picture:\n",
    "        tmp =''\n",
    "        for i in pix:\n",
    "            i = i*k\n",
    "            tmp += i\n",
    "        for i in range(k):\n",
    "            answer.append(tmp)\n",
    "    # print(tmp)\n",
    "    return answer"
   ]
  },
  {
   "cell_type": "code",
   "execution_count": null,
   "metadata": {},
   "outputs": [],
   "source": [
    "# 외계어 사전\n",
    "def solution(spell, dic):\n",
    "    answer =[]\n",
    "    a= 2\n",
    "    for i in dic :\n",
    "        answer =[]\n",
    "        for j in spell:\n",
    "            # i = i.replace(j,'')\n",
    "            answer.append(i.count(j))\n",
    "        # print(i)\n",
    "        if answer.count(1) == len(answer) :\n",
    "            a = 1\n",
    "    return a\n"
   ]
  },
  {
   "cell_type": "code",
   "execution_count": null,
   "metadata": {},
   "outputs": [],
   "source": [
    "# 종이 자르기\n",
    "def solution(M, N):\n",
    "    answer = M * N -1\n",
    "    \n",
    "    return answer"
   ]
  },
  {
   "cell_type": "code",
   "execution_count": null,
   "metadata": {},
   "outputs": [],
   "source": [
    "# 캐릭터의 좌표\n",
    "def solution(keyinput, board):\n",
    "    col = board[0]\n",
    "    row = board[1]\n",
    "    result = [0, 0]\n",
    "    for i in keyinput:\n",
    "        if i == \"left\" and result[0]-1 >= -(col // 2):\n",
    "            result[0] -= 1\n",
    "        elif i == \"right\" and result[0]+1 <= (col // 2):\n",
    "            result[0] += 1\n",
    "        elif i == \"up\" and result[1]+1 <= (row // 2):\n",
    "            result[1] += 1\n",
    "        elif i == \"down\" and result[1]-1 >= -(row // 2):\n",
    "            result[1] -= 1\n",
    "    return result"
   ]
  },
  {
   "cell_type": "code",
   "execution_count": null,
   "metadata": {},
   "outputs": [],
   "source": [
    "# 직사각형 넓이 구하기\n",
    "def solution(dots):\n",
    "    answer = 0\n",
    "    x = []\n",
    "    y = []\n",
    "    for d in dots:\n",
    "        x.append(d[0])\n",
    "        y.append(d[1])\n",
    "    answer = (max(x)- min(x)) * (max(y)- min(y))\n",
    "    return answer"
   ]
  },
  {
   "cell_type": "code",
   "execution_count": null,
   "metadata": {},
   "outputs": [],
   "source": [
    "# 로그인 성공?\n",
    "def solution(id_pw, db):\n",
    "    answer = ''\n",
    "    for i in range(len(db)):\n",
    "        if (db[i][0] == id_pw[0]) & (db[i][1] == id_pw[1]):\n",
    "            answer = 'login'\n",
    "        elif (db[i][0] == id_pw[0]) & (db[i][1] != id_pw[1]):\n",
    "            answer = 'wrong pw'\n",
    "        elif (db[i][0] != id_pw[0]) & (db[i][1] != id_pw[1]):\n",
    "            answer = 'fail'\n",
    "        # print(db[i][0],db[i][1])        \n",
    "    return answer"
   ]
  },
  {
   "cell_type": "code",
   "execution_count": null,
   "metadata": {},
   "outputs": [],
   "source": [
    "# 대소문자 바꿔서 출력하기\n",
    "str = input()\n",
    "print(str.swapcase())"
   ]
  },
  {
   "cell_type": "code",
   "execution_count": null,
   "metadata": {},
   "outputs": [],
   "source": [
    "# 전국 대회 선발 고사\n",
    "def solution(rank, attendance):\n",
    "    answer = []\n",
    "    for val in range(1,len(rank)+1):\n",
    "        # print(rank.index(val))\n",
    "        tmp = rank.index(val)\n",
    "        if attendance[tmp] == True:\n",
    "            answer.append(tmp)\n",
    "        if len(answer) == 3:\n",
    "            break\n",
    "            \n",
    "    return answer[0] *10000 + answer[1] *100 + answer[2]"
   ]
  },
  {
   "cell_type": "code",
   "execution_count": null,
   "metadata": {},
   "outputs": [],
   "source": [
    "# 등수 매기기\n",
    "def solution(score):\n",
    "    answer = []\n",
    "    tmp =[]\n",
    "    for i in score:\n",
    "        tmp.append((i[0]+i[1])/2)\n",
    "    sort_tmp = sorted(tmp, reverse=True)\n",
    "    for i in tmp:\n",
    "        answer.append(sort_tmp.index(i)+1)\n",
    "    return answer"
   ]
  },
  {
   "cell_type": "code",
   "execution_count": null,
   "metadata": {},
   "outputs": [],
   "source": [
    "# 치킨 쿠폰\n",
    "def solution(chicken):\n",
    "    answer = 0\n",
    "    while chicken>=10:\n",
    "        div = chicken//10\n",
    "        mod = chicken%10\n",
    "        answer += div\n",
    "        chicken = div + mod\n",
    "    return answer"
   ]
  },
  {
   "cell_type": "code",
   "execution_count": null,
   "metadata": {},
   "outputs": [],
   "source": [
    "# 저주의 숫자 3\n",
    "def solution(n):\n",
    "    answer = 0\n",
    "    for i in range(n):\n",
    "        answer += 1\n",
    "        while answer%3 == 0 or '3' in str(answer):\n",
    "            answer += 1\n",
    "    return answer"
   ]
  },
  {
   "cell_type": "code",
   "execution_count": null,
   "metadata": {},
   "outputs": [],
   "source": [
    "# 유한소수 판별하기\n",
    "import math\n",
    "\n",
    "def solution(a, b):\n",
    "    gcd = math.gcd(a, b) # 분모, 분자의 최대공약수를 구해 b를 최대공약수로 나눔\n",
    "    b //= gcd\n",
    "    \n",
    "    num = [] # 소인수 저장\n",
    "    i = 2\n",
    "    while i <= b: # 소인수 구하기\n",
    "        if b % i == 0:\n",
    "            b //= i\n",
    "            num.append(i)\n",
    "        else:\n",
    "            i += 1\n",
    "    \n",
    "    if all(i in [2,5] for i in num): # 소인수가 2와 5만 존재하면 유한소수 그렇징 않으면 무한소수\n",
    "        return 1\n",
    "    return 2"
   ]
  },
  {
   "cell_type": "code",
   "execution_count": null,
   "metadata": {},
   "outputs": [],
   "source": [
    "# 문자열 밀기\n",
    "def solution(A, B):\n",
    "    answer = 0\n",
    "    for i in range(100):\n",
    "        if A == B:\n",
    "            break\n",
    "        tmp = A[-1]\n",
    "        A = tmp + A[:-1]\n",
    "        answer += 1\n",
    "    if answer == 100:\n",
    "        answer = -1\n",
    "    return answer"
   ]
  },
  {
   "cell_type": "code",
   "execution_count": null,
   "metadata": {},
   "outputs": [],
   "source": [
    "# 특이한 정렬\n",
    "def solution(numlist, n):\n",
    "    answer =[] # n과의 거리를 저장할 리스트\n",
    "    for i in numlist:\n",
    "        answer.append(i - n)\n",
    "    result = [] # 정렬한 배열\n",
    "    # a = sorted(answer[:], key=lambda x:[abs(x), -x])\n",
    "    for i in sorted(answer[:], key=lambda x:[abs(x), -x]): \n",
    "        result.append(numlist[answer.index(i)])\n",
    "    return result"
   ]
  },
  {
   "cell_type": "code",
   "execution_count": null,
   "metadata": {},
   "outputs": [],
   "source": [
    "# 배열 만들기 2\n",
    "def solution(l, r):\n",
    "    answer = []\n",
    "    for i in range(l,r+1):\n",
    "        tmp = sorted(list(set(list(str(i)))))\n",
    "        if  tmp== ['0','5'] or tmp == ['5']:\n",
    "                answer.append(i)\n",
    "    if len(answer) == 0:\n",
    "        answer=[-1]\n",
    "    return answer"
   ]
  },
  {
   "cell_type": "code",
   "execution_count": null,
   "metadata": {},
   "outputs": [],
   "source": [
    "# 다항식 더하기\n",
    "def solution(polynomial):\n",
    "    xnum = 0\n",
    "    const = 0\n",
    "    for c in polynomial.split(' + '):\n",
    "        if c.isdigit():\n",
    "            const+=int(c)\n",
    "        else:\n",
    "            xnum = xnum+1 if c=='x' else xnum+int(c[:-1])\n",
    "    if xnum == 0:\n",
    "        return str(const)\n",
    "    elif xnum==1:\n",
    "        return 'x + '+str(const) if const!=0 else 'x'\n",
    "    else:\n",
    "        return f'{xnum}x + {const}' if const!=0 else f'{xnum}x'"
   ]
  },
  {
   "cell_type": "code",
   "execution_count": null,
   "metadata": {},
   "outputs": [],
   "source": [
    "# 코드 처리하기\n",
    "def solution(code):\n",
    "    answer = ''\n",
    "    mode = True\n",
    "    for i,val in enumerate(code):\n",
    "        if mode:\n",
    "            if val!='1' and i%2==0:\n",
    "                answer += val\n",
    "            elif val =='1':\n",
    "                mode = False\n",
    "        else:\n",
    "            if val!='1' and i%2!=0:\n",
    "                answer += val\n",
    "            elif val =='1':\n",
    "                mode = True\n",
    "    if len(answer) ==0:\n",
    "        return \"EMPTY\"\n",
    "    return answer"
   ]
  },
  {
   "cell_type": "code",
   "execution_count": null,
   "metadata": {},
   "outputs": [],
   "source": [
    "# 배열 조각하기\n",
    "def solution(arr, query):\n",
    "    answer = []\n",
    "    for i,num in enumerate(query):\n",
    "        if i%2==0:\n",
    "            arr = arr[:num+1]\n",
    "        else :\n",
    "            arr = arr[num:]\n",
    "    return arr"
   ]
  },
  {
   "cell_type": "code",
   "execution_count": null,
   "metadata": {},
   "outputs": [],
   "source": [
    "# 최빈값 구하기\n",
    "def solution(array):\n",
    "    answer = 0\n",
    "    count = [0] * (max(array)+1)\n",
    "    \n",
    "    for i in array:\n",
    "\t    count[i] += 1  # 빈도수 list\n",
    "        \n",
    "    m = 0\n",
    "    for c in count:\n",
    "        if c == max(count):\n",
    "            m += 1\n",
    "    if m >= 2:         #최빈도수가 2개 이상이면\n",
    "        return -1\n",
    "    else:\n",
    "        return count.index(max(count))\n",
    "        # return max(count)"
   ]
  },
  {
   "cell_type": "code",
   "execution_count": null,
   "metadata": {},
   "outputs": [],
   "source": [
    "# OX퀴즈\n",
    "def solution(quiz):\n",
    "    answer = []\n",
    "    for q in quiz:\n",
    "        left,right = q.split(\"=\")\n",
    "        left = left.split()\n",
    "        if left[1] == '-':\n",
    "            if int(left[0]) - int(left[2]) == int(right):\n",
    "                answer.append(\"O\")\n",
    "            else:\n",
    "                answer.append(\"X\")\n",
    "        elif left[1] == '+':\n",
    "            if int(left[0]) + int(left[2]) == int(right):\n",
    "                answer.append(\"O\")\n",
    "            else:\n",
    "                answer.append(\"X\")\n",
    "            \n",
    "        # print(left,right)\n",
    "    return answer"
   ]
  },
  {
   "cell_type": "code",
   "execution_count": null,
   "metadata": {},
   "outputs": [],
   "source": [
    "# 다음에 올 숫자\n",
    "def solution(common):\n",
    "    answer = 0\n",
    "    a,b,c = common[0:3]\n",
    "    if b-a == c-b:\n",
    "        answer = common[-1] + b-a\n",
    "    else:\n",
    "        answer = common[-1] * (b//a)\n",
    "    return answer"
   ]
  },
  {
   "cell_type": "code",
   "execution_count": null,
   "metadata": {},
   "outputs": [],
   "source": [
    "# 연속된 수의 합\n",
    "def solution(num, total):\n",
    "    d = 0\n",
    "    for i in range(1,num):\n",
    "        d += i\n",
    "    start = (total-d)/num\n",
    "    \n",
    "    return [start+i for i in range(num)]\n"
   ]
  },
  {
   "cell_type": "code",
   "execution_count": null,
   "metadata": {},
   "outputs": [],
   "source": [
    "# [PCCE 기출문제] 8번 / 창고 정리\n",
    "def solution(storage, num):\n",
    "    clean_storage = []\n",
    "    clean_num = []\n",
    "    for i in range(len(storage)):\n",
    "        if storage[i] in clean_storage:\n",
    "            pos = clean_storage.index(storage[i])\n",
    "            clean_num[pos] += num[i]\n",
    "        else:\n",
    "            clean_storage.append(storage[i])\n",
    "            clean_num.append(num[i])\n",
    "            \n",
    "    # 아래 코드에는 틀린 부분이 없습니다.\n",
    "            \n",
    "    max_num = max(clean_num)\n",
    "    answer = clean_storage[clean_num.index(max_num)]\n",
    "    return answer"
   ]
  },
  {
   "cell_type": "code",
   "execution_count": null,
   "metadata": {},
   "outputs": [],
   "source": [
    "# 분수의 덧셈\n",
    "def gcd(a, b):\n",
    "    for i in range(min(a,b),0,-1):\n",
    "        if a%i == 0 and b%i==0:\n",
    "            return i\n",
    "     \n",
    "    \n",
    "def solution(numer1, denom1, numer2, denom2):\n",
    "    numer = numer1*denom2 + numer2*denom1\n",
    "    denom = denom2 * denom1\n",
    "    g = gcd(numer, denom)\n",
    "\n",
    "    return [numer//g, denom//g]"
   ]
  },
  {
   "cell_type": "code",
   "execution_count": null,
   "metadata": {},
   "outputs": [],
   "source": [
    "# 안전지대\n",
    "def solution(board):\n",
    "    N = len(board)\n",
    "    dx = [-1, 1, 0, 0, -1, -1, 1, 1] # 8방향 탐색\n",
    "    dy = [0, 0, -1, 1, -1, 1, -1, 1]\n",
    "    \n",
    "    # 지뢰 설치\n",
    "    boom = []\n",
    "    for i in range(len(board)):\n",
    "        for j in range(len(board)):\n",
    "            if board[i][j] == 1:\n",
    "                boom.append((i,j)) # 지뢰일때의 인덱스 append\n",
    "                \n",
    "    # 지뢰가 설치된 곳 주변에 폭탄 설치\n",
    "    for x, y in boom:\n",
    "        for i in range(8):\n",
    "            nx = x + dx[i]\n",
    "            ny = y + dy[i]\n",
    "            if 0 <= nx < N and 0 <= ny < N:\n",
    "                board[nx][ny] = 1\n",
    "\n",
    "    # 폭탄이 설치되지 않은 곳만 카운팅\n",
    "    count = 0\n",
    "    for x in range(N):\n",
    "        for y in range(N):\n",
    "            if board[x][y] == 0:\n",
    "                count += 1\n",
    "    return count"
   ]
  },
  {
   "cell_type": "code",
   "execution_count": null,
   "metadata": {},
   "outputs": [],
   "source": [
    "# 주사위 게임 3\n",
    "def solution(a, b, c, d):\n",
    "    answer = 0\n",
    "    num = [0]*6\n",
    "    num[a-1] +=1\n",
    "    num[b-1] +=1\n",
    "    num[c-1] +=1\n",
    "    num[d-1] +=1\n",
    "    if 4 in num:\n",
    "        answer = (num.index(4)+1) *1111\n",
    "    elif 3 in num:\n",
    "        answer = (10*(num.index(3)+1) + num.index(1)+1)**2\n",
    "    elif (2 in num) and (1 in num):\n",
    "        tmp=[]\n",
    "        for i,num in enumerate(num):\n",
    "            if num ==1:\n",
    "                tmp.append(i+1)\n",
    "        answer = tmp[0] * tmp[1]\n",
    "    elif 2 in num:\n",
    "        tmp =[]\n",
    "        for i,num in enumerate(num):\n",
    "            if num ==2:\n",
    "                tmp.append(i+1)\n",
    "        answer = (tmp[0] + tmp[1]) * abs(tmp[0] - tmp[1])\n",
    "    else:\n",
    "        answer = num.index(1)+1\n",
    "    return answer"
   ]
  },
  {
   "cell_type": "code",
   "execution_count": null,
   "metadata": {},
   "outputs": [],
   "source": [
    "# 겹치는 선분의 길이\n",
    "def solution(lines):\n",
    "    answer = 0\n",
    "    count = [0 for _ in range(200)] # 0을 200개 담은 리스트\n",
    "    for line in lines:\n",
    "        for i in range(line[0], line[1]): \n",
    "            print(i)\n",
    "            count[i + 100] += 1\n",
    "    answer += count.count(2) # 두 개 이상 겹친 점\n",
    "    answer += count.count(3) # 세 개 이상 겹친 점\n",
    "    return answer"
   ]
  },
  {
   "cell_type": "code",
   "execution_count": null,
   "metadata": {},
   "outputs": [],
   "source": [
    "# 평행\n",
    "def solution(dots):\n",
    "    answer = 0\n",
    "    dots_idx = [[0, 1, 3, 2], [0, 2, 3, 1], [1, 2, 0, 3]]\n",
    "    for d1, d2, d3, d4 in dots_idx:\n",
    "        x1, y1 = dots[d1][0], dots[d1][1]\n",
    "        x2, y2= dots[d2][0], dots[d2][1]\n",
    "        x3, y3= dots[d3][0], dots[d3][1]\n",
    "        x4, y4= dots[d4][0], dots[d4][1]\n",
    "        if (y1-y2)*(x3-x4) == (y3-y4)*(x1-x2) :\n",
    "            answer = 1\n",
    "    return answer"
   ]
  },
  {
   "cell_type": "code",
   "execution_count": null,
   "metadata": {},
   "outputs": [],
   "source": [
    "# 정수를 나선형으로 배치하기\n",
    "def solution(n):\n",
    "    if n == 1:\n",
    "        return [[1]]\n",
    "    \n",
    "    answer = [[0 for j in range(n)] for i in range(n)] # 배열 초기화\n",
    "    \n",
    "    x = 0\n",
    "    y = 0\n",
    "    dir = 'r'\n",
    "    \n",
    "    for i in range(n*n):\n",
    "        answer[x][y] = i + 1\n",
    "        if dir == 'r':\n",
    "            y += 1\n",
    "            if y == n-1 or answer[x][y+1] != 0: # 맨 끝에 도달했거나 가려는 곳에 이미 값이 있으면 방향 전환\n",
    "                dir = 'd'\n",
    "        elif dir == 'd':\n",
    "            x += 1\n",
    "            if x == n-1 or answer[x+1][y] != 0:\n",
    "                dir = 'l'\n",
    "        elif dir == 'l':\n",
    "            y -= 1\n",
    "            if y == 0 or answer[x][y-1] != 0:\n",
    "                dir = 'u'\n",
    "        elif dir == 'u':\n",
    "            x -= 1\n",
    "            if x == n-1 or answer[x-1][y] != 0:\n",
    "                dir = 'r'\n",
    "                \n",
    "    return answer"
   ]
  },
  {
   "cell_type": "code",
   "execution_count": null,
   "metadata": {},
   "outputs": [],
   "source": [
    "# 옹알이 (1)\n",
    "def solution(babbling):\n",
    "    result = 0\n",
    "    for i in babbling:\n",
    "        # cnt = 0\n",
    "        # word = ''\n",
    "        for j in i:\n",
    "            word += j\n",
    "            if word in ['aya', 'ye', 'woo', 'ma']:\n",
    "                word = ''\n",
    "                cnt += 1\n",
    "        # if len(word) == 0 and cnt > 0:\n",
    "                # result += 1\n",
    "                \n",
    "    return cnt"
   ]
  }
 ],
 "metadata": {
  "kernelspec": {
   "display_name": "Python 3",
   "language": "python",
   "name": "python3"
  },
  "language_info": {
   "codemirror_mode": {
    "name": "ipython",
    "version": 3
   },
   "file_extension": ".py",
   "mimetype": "text/x-python",
   "name": "python",
   "nbconvert_exporter": "python",
   "pygments_lexer": "ipython3",
   "version": "3.8.8"
  }
 },
 "nbformat": 4,
 "nbformat_minor": 2
}
