{
 "cells": [
  {
   "cell_type": "markdown",
   "id": "0d557b4b-18f3-4965-b960-f07644259dc1",
   "metadata": {
    "tags": []
   },
   "source": [
    "<font size=6><b>Lec08.NLP 언어모델\n",
    "* NLP (Natural Language Processing, 자연어 처리)   * 언어 모델(Language Model, LM)은 언어라는 현상을 모델링하고자 단어 시퀀스(문장)에 확률을 할당(assign)하는 모델 \n"
   ]
  },
  {
   "cell_type": "markdown",
   "id": "1e503efc-f3ba-4f4f-b154-6f9a042bc75f",
   "metadata": {
    "tags": []
   },
   "source": [
    "<font size=6><b>언어모델\n",
    "* N-gram\n",
    "* <b>빈도기반 \n",
    "    * <b>BoW(Bag of Words)\n",
    "    * <b>TF-IDF(Term Frequency - Inverse Document Frequency)\n",
    "* 코사인 유사도(Cosine Similarity)"
   ]
  },
  {
   "cell_type": "code",
   "execution_count": 1,
   "id": "30423893-e384-46e3-bb76-ab54cd752ade",
   "metadata": {},
   "outputs": [
    {
     "data": {
      "text/html": [
       "<style>.container{width:100% !important;}</style>"
      ],
      "text/plain": [
       "<IPython.core.display.HTML object>"
      ]
     },
     "metadata": {},
     "output_type": "display_data"
    }
   ],
   "source": [
    "import numpy as np\n",
    "import pandas as pd\n",
    "\n",
    "import matplotlib.pyplot as plt\n",
    "import seaborn as sns\n",
    "\n",
    "\n",
    "sns.set()\n",
    "\n",
    "#-------------------- 차트 관련 속성 (한글처리, 그리드) ---------ㅊ--\n",
    "plt.rcParams['font.family']= 'Malgun Gothic'\n",
    "plt.rcParams['axes.unicode_minus'] = False\n",
    "\n",
    "#-------------------- 주피터 , 출력결과 넓이 늘리기 ---------------\n",
    "# from IPython.core.display import display, HTML\n",
    "from IPython.display import display, HTML\n",
    "\n",
    "display(HTML(\"<style>.container{width:100% !important;}</style>\"))\n",
    "pd.set_option('display.max_rows', 100)\n",
    "pd.set_option('display.max_columns', 100)\n",
    "pd.set_option('max_colwidth', None)\n",
    "\n",
    "import warnings\n",
    "warnings.filterwarnings(action='ignore')"
   ]
  },
  {
   "cell_type": "markdown",
   "id": "68331642-5821-4953-af63-aedb5df54e3a",
   "metadata": {},
   "source": [
    "# N-gram"
   ]
  },
  {
   "cell_type": "code",
   "execution_count": 2,
   "id": "b21b3cca-51d7-43ba-bf9f-bc1510467c01",
   "metadata": {},
   "outputs": [
    {
     "name": "stdout",
     "output_type": "stream",
     "text": [
      "He\n",
      "el\n",
      "ll\n",
      "lo\n"
     ]
    }
   ],
   "source": [
    "text = 'Hello'\n",
    " \n",
    "for i in range(len(text) - 1):             # 2-gram이므로 문자열의 끝에서 한 글자 앞까지만 반복함\n",
    "    print(text[i], text[i + 1], sep='')    # 현재 문자와 그다음 문자 출력"
   ]
  },
  {
   "cell_type": "code",
   "execution_count": 3,
   "id": "abb6ca1b-ee43-4c72-8e7e-1679e330be01",
   "metadata": {
    "tags": []
   },
   "outputs": [
    {
     "name": "stdout",
     "output_type": "stream",
     "text": [
      "this is\n",
      "is python\n",
      "python script\n"
     ]
    }
   ],
   "source": [
    "text = 'this is python script'\n",
    "words = text.split()                 # 공백을 기준으로 문자열을 분리하여 리스트로 만듦\n",
    " \n",
    "for i in range(len(words) - 1):      # 2-gram이므로 리스트의 마지막에서 요소 한 개 앞까지만 반복함\n",
    "    print(words[i], words[i + 1])    # 현재 문자열과 그다음 문자열 출력"
   ]
  },
  {
   "cell_type": "markdown",
   "id": "88a251fa-c5ae-4eb5-bea6-a02e73512188",
   "metadata": {},
   "source": [
    "# BoW(Bag of Words)\n",
    "* 단어들의 순서는 전혀 고려하지 않고, 단어들의 출현 빈도(frequency)에만 집중하는 텍스트 데이터의 수치화 표현 방법\n",
    "* 문장사이즈만큼 단일행렬만든다[1,2,0,1,1] >> 희소행렬의 문제를 해결하기위해 [[],[],[]]"
   ]
  },
  {
   "cell_type": "code",
   "execution_count": 4,
   "id": "947142a4-555e-4949-8b88-8e5df81621e2",
   "metadata": {
    "tags": []
   },
   "outputs": [
    {
     "name": "stdout",
     "output_type": "stream",
     "text": [
      "bag of words vector : [[1 1 2 1 2 1]]\n",
      "vocabulary : {'you': 4, 'know': 1, 'want': 3, 'your': 5, 'love': 2, 'because': 0}\n"
     ]
    }
   ],
   "source": [
    "# doc1 = \"정부가 발표하는 물가상승률과 소비자가 느끼는 물가상승률은 다르다.\"\n",
    "\n",
    "from sklearn.feature_extraction.text import CountVectorizer\n",
    "from nltk.corpus import stopwords\n",
    "\n",
    "\n",
    "corpus = ['you know I want your love. because I love you.']\n",
    "vector = CountVectorizer()\n",
    "\n",
    "# stop_words_list = stopwords.words('english')\n",
    "# print('불용어 개수 :', len(stop_words_list))\n",
    "# print('불용어 10개 출력 :',stop_words_list[:10])\n",
    "\n",
    "# 코퍼스로부터 각 단어의 빈도수를 기록\n",
    "print('bag of words vector :', vector.fit_transform(corpus).toarray()) \n",
    "\n",
    "# 각 단어의 인덱스가 어떻게 부여되었는지를 출력\n",
    "print('vocabulary :',vector.vocabulary_)    # 임베딩(숫자 - 단어)한다\n"
   ]
  },
  {
   "cell_type": "code",
   "execution_count": 5,
   "id": "2b6d3289-652b-4cb2-9a0e-d78e67e8ff9c",
   "metadata": {
    "tags": []
   },
   "outputs": [
    {
     "name": "stdout",
     "output_type": "stream",
     "text": [
      "['you', 'your', 'love', 'know', 'because', 'want']\n"
     ]
    }
   ],
   "source": [
    "vocab_sorted = sorted(vector.vocabulary_, key = lambda x:x[1], reverse = True)\n",
    "print(vocab_sorted)"
   ]
  },
  {
   "cell_type": "code",
   "execution_count": null,
   "id": "6a1ed873-a355-44e4-8b3f-a14ff19f364a",
   "metadata": {
    "tags": []
   },
   "outputs": [],
   "source": []
  },
  {
   "cell_type": "markdown",
   "id": "3149011e-8270-4498-beae-325f48991fca",
   "metadata": {
    "tags": []
   },
   "source": [
    "# DTM\n",
    "문서 단어 행렬(DTM, Document-Term Matrix)\n",
    "* 각 문서에서 등장한 단어의 빈도를 행렬의 값으로 표기해 서로 다른 문서들을 비교\n",
    "* 다수의 BoW : 각 문서에 대한 BoW를 하나의 행렬로 만든 것\n",
    "\n",
    "* <단점>\n",
    "    - 희소 표현(Sparse representation) : 단어 집합의 크기 == 벡터의 차원이 되고 대부분의 값이 0이 된다\n",
    "    - \"단순\" 빈도 수 기반 접근 : '이다'와 같은 중요하지 않은 최빈도 단어로 문서를 연관지으면??\n",
    "    - <font color='red'> TF-IDF 필요 (DTM에 불용어와 중요한 단어에 대해서 가중치)</font>"
   ]
  },
  {
   "cell_type": "markdown",
   "id": "3442fa35-c512-46fe-869b-03763984c6c1",
   "metadata": {
    "tags": []
   },
   "source": [
    "### sklearn.CountVectorizer()"
   ]
  },
  {
   "cell_type": "code",
   "execution_count": 6,
   "id": "76266938-9283-4620-8651-08c92027686c",
   "metadata": {
    "tags": []
   },
   "outputs": [],
   "source": [
    "corpus = ['먹고 싶은 사과',\n",
    "        '먹고 싶은 바나나',\n",
    "        '길고 노란 바나나 바나나',\n",
    "        '저는 과일이 좋아요']"
   ]
  },
  {
   "cell_type": "code",
   "execution_count": 7,
   "id": "07330386-e30d-4c76-a442-98acd5160c2d",
   "metadata": {
    "tags": []
   },
   "outputs": [
    {
     "name": "stdout",
     "output_type": "stream",
     "text": [
      "bag of words vector : \n",
      " [[0 0 0 1 0 1 1 0 0]\n",
      " [0 0 0 1 1 0 1 0 0]\n",
      " [0 1 1 0 2 0 0 0 0]\n",
      " [1 0 0 0 0 0 0 1 1]]\n",
      "vocabulary :\n",
      " {'먹고': 3, '싶은': 6, '사과': 5, '바나나': 4, '길고': 1, '노란': 2, '저는': 7, '과일이': 0, '좋아요': 8}\n",
      "[('좋아요', 8), ('저는', 7), ('싶은', 6), ('사과', 5), ('바나나', 4), ('먹고', 3), ('노란', 2), ('길고', 1), ('과일이', 0)]\n",
      "dict_keys(['좋아요', '저는', '싶은', '사과', '바나나', '먹고', '노란', '길고', '과일이'])\n",
      "{'먹고': 3, '싶은': 6, '사과': 5, '바나나': 4, '길고': 1, '노란': 2, '저는': 7, '과일이': 0, '좋아요': 8}\n"
     ]
    },
    {
     "data": {
      "text/html": [
       "<div>\n",
       "<style scoped>\n",
       "    .dataframe tbody tr th:only-of-type {\n",
       "        vertical-align: middle;\n",
       "    }\n",
       "\n",
       "    .dataframe tbody tr th {\n",
       "        vertical-align: top;\n",
       "    }\n",
       "\n",
       "    .dataframe thead th {\n",
       "        text-align: right;\n",
       "    }\n",
       "</style>\n",
       "<table border=\"1\" class=\"dataframe\">\n",
       "  <thead>\n",
       "    <tr style=\"text-align: right;\">\n",
       "      <th></th>\n",
       "      <th>좋아요</th>\n",
       "      <th>저는</th>\n",
       "      <th>싶은</th>\n",
       "      <th>사과</th>\n",
       "      <th>바나나</th>\n",
       "      <th>먹고</th>\n",
       "      <th>노란</th>\n",
       "      <th>길고</th>\n",
       "      <th>과일이</th>\n",
       "    </tr>\n",
       "  </thead>\n",
       "  <tbody>\n",
       "    <tr>\n",
       "      <th>0</th>\n",
       "      <td>0</td>\n",
       "      <td>0</td>\n",
       "      <td>0</td>\n",
       "      <td>1</td>\n",
       "      <td>0</td>\n",
       "      <td>1</td>\n",
       "      <td>1</td>\n",
       "      <td>0</td>\n",
       "      <td>0</td>\n",
       "    </tr>\n",
       "    <tr>\n",
       "      <th>1</th>\n",
       "      <td>0</td>\n",
       "      <td>0</td>\n",
       "      <td>0</td>\n",
       "      <td>1</td>\n",
       "      <td>1</td>\n",
       "      <td>0</td>\n",
       "      <td>1</td>\n",
       "      <td>0</td>\n",
       "      <td>0</td>\n",
       "    </tr>\n",
       "    <tr>\n",
       "      <th>2</th>\n",
       "      <td>0</td>\n",
       "      <td>1</td>\n",
       "      <td>1</td>\n",
       "      <td>0</td>\n",
       "      <td>2</td>\n",
       "      <td>0</td>\n",
       "      <td>0</td>\n",
       "      <td>0</td>\n",
       "      <td>0</td>\n",
       "    </tr>\n",
       "    <tr>\n",
       "      <th>3</th>\n",
       "      <td>1</td>\n",
       "      <td>0</td>\n",
       "      <td>0</td>\n",
       "      <td>0</td>\n",
       "      <td>0</td>\n",
       "      <td>0</td>\n",
       "      <td>0</td>\n",
       "      <td>1</td>\n",
       "      <td>1</td>\n",
       "    </tr>\n",
       "  </tbody>\n",
       "</table>\n",
       "</div>"
      ],
      "text/plain": [
       "   좋아요  저는  싶은  사과  바나나  먹고  노란  길고  과일이\n",
       "0    0   0   0   1    0   1   1   0    0\n",
       "1    0   0   0   1    1   0   1   0    0\n",
       "2    0   1   1   0    2   0   0   0    0\n",
       "3    1   0   0   0    0   0   0   1    1"
      ]
     },
     "execution_count": 7,
     "metadata": {},
     "output_type": "execute_result"
    }
   ],
   "source": [
    "vector = CountVectorizer()\n",
    "print('bag of words vector : \\n', vector.fit_transform(corpus).toarray()) \n",
    "print('vocabulary :\\n',vector.vocabulary_) # 순서 뒤죽박죽\n",
    "#--------단어정렬\n",
    "vocab_sorted = sorted(vector.vocabulary_.items(), key = lambda x:x[1], reverse = True)\n",
    "print(vocab_sorted)\n",
    "\n",
    "vocab_word = dict(vocab_sorted).keys()\n",
    "print(vocab_word)\n",
    "\n",
    "\n",
    "\n",
    "# ------ DTM\n",
    "vec = vector.fit_transform(corpus).toarray()\n",
    "df=pd.DataFrame(vec, columns=(vocab_word))\n",
    "print(vector.vocabulary_)\n",
    "df.head() "
   ]
  },
  {
   "cell_type": "markdown",
   "id": "442e8ef5-c6bd-42db-b73f-58de4be1b9c2",
   "metadata": {
    "tags": []
   },
   "source": [
    "### sklearn. TfidfVectorizer()\n",
    "* from sklearn.feature_extraction.text import TfidfVectorizer\n",
    "* (IDF의 로그항의 분자에 1을 더해주며, 로그항에 1을 더해주고, TF-IDF에 L2 정규화라는 방법으로 값을 조정"
   ]
  },
  {
   "cell_type": "code",
   "execution_count": 18,
   "id": "d85121c6-a77f-43da-ab71-b3204bc80c95",
   "metadata": {},
   "outputs": [
    {
     "name": "stdout",
     "output_type": "stream",
     "text": [
      "[[0.         0.         0.         0.52640543 0.         0.66767854\n",
      "  0.52640543 0.         0.        ]\n",
      " [0.         0.         0.         0.57735027 0.57735027 0.\n",
      "  0.57735027 0.         0.        ]\n",
      " [0.         0.47212003 0.47212003 0.         0.7444497  0.\n",
      "  0.         0.         0.        ]\n",
      " [0.57735027 0.         0.         0.         0.         0.\n",
      "  0.         0.57735027 0.57735027]]\n",
      "\n"
     ]
    },
    {
     "data": {
      "text/html": [
       "<div>\n",
       "<style scoped>\n",
       "    .dataframe tbody tr th:only-of-type {\n",
       "        vertical-align: middle;\n",
       "    }\n",
       "\n",
       "    .dataframe tbody tr th {\n",
       "        vertical-align: top;\n",
       "    }\n",
       "\n",
       "    .dataframe thead th {\n",
       "        text-align: right;\n",
       "    }\n",
       "</style>\n",
       "<table border=\"1\" class=\"dataframe\">\n",
       "  <thead>\n",
       "    <tr style=\"text-align: right;\">\n",
       "      <th></th>\n",
       "      <th>먹고</th>\n",
       "      <th>싶은</th>\n",
       "      <th>사과</th>\n",
       "      <th>바나나</th>\n",
       "      <th>길고</th>\n",
       "      <th>노란</th>\n",
       "      <th>저는</th>\n",
       "      <th>과일이</th>\n",
       "      <th>좋아요</th>\n",
       "    </tr>\n",
       "  </thead>\n",
       "  <tbody>\n",
       "    <tr>\n",
       "      <th>0</th>\n",
       "      <td>0.00000</td>\n",
       "      <td>0.00000</td>\n",
       "      <td>0.00000</td>\n",
       "      <td>0.526405</td>\n",
       "      <td>0.00000</td>\n",
       "      <td>0.667679</td>\n",
       "      <td>0.526405</td>\n",
       "      <td>0.00000</td>\n",
       "      <td>0.00000</td>\n",
       "    </tr>\n",
       "    <tr>\n",
       "      <th>1</th>\n",
       "      <td>0.00000</td>\n",
       "      <td>0.00000</td>\n",
       "      <td>0.00000</td>\n",
       "      <td>0.577350</td>\n",
       "      <td>0.57735</td>\n",
       "      <td>0.000000</td>\n",
       "      <td>0.577350</td>\n",
       "      <td>0.00000</td>\n",
       "      <td>0.00000</td>\n",
       "    </tr>\n",
       "    <tr>\n",
       "      <th>2</th>\n",
       "      <td>0.00000</td>\n",
       "      <td>0.47212</td>\n",
       "      <td>0.47212</td>\n",
       "      <td>0.000000</td>\n",
       "      <td>0.74445</td>\n",
       "      <td>0.000000</td>\n",
       "      <td>0.000000</td>\n",
       "      <td>0.00000</td>\n",
       "      <td>0.00000</td>\n",
       "    </tr>\n",
       "    <tr>\n",
       "      <th>3</th>\n",
       "      <td>0.57735</td>\n",
       "      <td>0.00000</td>\n",
       "      <td>0.00000</td>\n",
       "      <td>0.000000</td>\n",
       "      <td>0.00000</td>\n",
       "      <td>0.000000</td>\n",
       "      <td>0.000000</td>\n",
       "      <td>0.57735</td>\n",
       "      <td>0.57735</td>\n",
       "    </tr>\n",
       "  </tbody>\n",
       "</table>\n",
       "</div>"
      ],
      "text/plain": [
       "        먹고       싶은       사과       바나나       길고        노란        저는      과일이  \\\n",
       "0  0.00000  0.00000  0.00000  0.526405  0.00000  0.667679  0.526405  0.00000   \n",
       "1  0.00000  0.00000  0.00000  0.577350  0.57735  0.000000  0.577350  0.00000   \n",
       "2  0.00000  0.47212  0.47212  0.000000  0.74445  0.000000  0.000000  0.00000   \n",
       "3  0.57735  0.00000  0.00000  0.000000  0.00000  0.000000  0.000000  0.57735   \n",
       "\n",
       "       좋아요  \n",
       "0  0.00000  \n",
       "1  0.00000  \n",
       "2  0.00000  \n",
       "3  0.57735  "
      ]
     },
     "execution_count": 18,
     "metadata": {},
     "output_type": "execute_result"
    }
   ],
   "source": [
    "from sklearn.feature_extraction.text import TfidfVectorizer\n",
    "corpus_list = ['먹고 싶은 사과',\n",
    "        '먹고 싶은 바나나',\n",
    "        '길고 노란 바나나 바나나',\n",
    "        '저는 과일이 좋아요']\n",
    "\n",
    "tfidfv = TfidfVectorizer()\n",
    "# TF-IDF 계산\n",
    "tfidf_arr = tfidfv.fit_transform(corpus_list).toarray()\n",
    "print(tfidf_arr)\n",
    "\n",
    "# vocab = ['과일이', '길고', '노란', '먹고', '바나나', '사과', '싶은', '저는', '좋아요']\n",
    "vocab = tfidfv.vocabulary_\n",
    "print()  \n",
    "\n",
    "df = pd.DataFrame(tfidf_arr, columns=vocab)\n",
    "df"
   ]
  },
  {
   "cell_type": "markdown",
   "id": "2ab6f8dd-ca01-473a-a1b5-eb24912c730a",
   "metadata": {},
   "source": [
    "# TF_IDF\n",
    "* 단어 빈도-역 문서 빈도(TF-IDF, Term Frequency-Inverse Document Frequency)\n",
    "* 우선 DTM을 만든 후, TF-IDF 가중치를 부여\n",
    "* 주로 문서의 유사도를 구하는 작업, 검색 시스템에서 검색 결과의 중요도를 정하는 작업, 문서 내에서 특정 단어의 중요도를 구하는 작업 등에 활용\n",
    "* TF-IDF = TF * IDF\n",
    "\n",
    "* 문서(d), 단어(t), 문서총개수(n)\n",
    "* <font color='red'> $tf(d,t)$ : 특정 문서 d에서의 특정 단어 t의 등장 횟수</font> →\n",
    "* <font color='red'>  $df(t)$ : 특정 단어 t가 등장한 문서의 수 </font>  ↓\n",
    "* <font color='red'>  $idf(d, t) = log (\\frac{n}{1+df(t)})$ : df(t) 역수</font>"
   ]
  },
  {
   "cell_type": "markdown",
   "id": "caff9ca8-fbdd-4023-a7b7-55521baa817c",
   "metadata": {},
   "source": [
    "## [실습]"
   ]
  },
  {
   "cell_type": "code",
   "execution_count": 8,
   "id": "7b8c3618-f7a8-4fe4-95f9-42646b300e50",
   "metadata": {
    "tags": []
   },
   "outputs": [],
   "source": [
    "corpus = ['먹고 싶은 사과',\n",
    "        '먹고 싶은 바나나',\n",
    "        '길고 노란 바나나 바나나',\n",
    "        '저는 과일이 좋아요']\n",
    "vocab = ['좋아요', '저는', '싶은', '사과', '바나나', '먹고', '노란', '길고', '과일이']"
   ]
  },
  {
   "cell_type": "markdown",
   "id": "88cb4e61-e6c9-4520-9c2f-f98bea153784",
   "metadata": {
    "tags": []
   },
   "source": [
    "## 공통함수"
   ]
  },
  {
   "cell_type": "code",
   "execution_count": 9,
   "id": "efd42070-165c-4c32-a58d-65c78bc597c9",
   "metadata": {
    "tags": []
   },
   "outputs": [],
   "source": [
    "def tf(t, d): #DTM(BOW집합)\n",
    "    return d.count(t)\n",
    "\n",
    "def idf(t):\n",
    "    df = 0\n",
    "    for doc in corpus:\n",
    "        df += t in doc\n",
    "        # t(해당단어)의 빈도 누적 합\n",
    "    return np.log(N/(df + 1))\n",
    "#return np.log1p(N/df)\n",
    "\n",
    "def tfidf(t, d):\n",
    "    return tf(t,d)* idf(t)"
   ]
  },
  {
   "cell_type": "markdown",
   "id": "8f9f64b9-ef39-4e89-986d-2ce760e5b40a",
   "metadata": {},
   "source": [
    "## TF (TDM)\n",
    "* 특정 문서에서 단어의 등장 횟수"
   ]
  },
  {
   "cell_type": "code",
   "execution_count": 10,
   "id": "ee32dc28-5100-4853-bc17-5a1028f42298",
   "metadata": {
    "tags": []
   },
   "outputs": [
    {
     "data": {
      "text/plain": [
       "array([[0, 0, 1, 1, 0, 1, 0, 0, 0],\n",
       "       [0, 0, 1, 0, 1, 1, 0, 0, 0],\n",
       "       [0, 0, 0, 0, 2, 0, 1, 1, 0],\n",
       "       [1, 1, 0, 0, 0, 0, 0, 0, 1]])"
      ]
     },
     "execution_count": 10,
     "metadata": {},
     "output_type": "execute_result"
    }
   ],
   "source": [
    "N = len(corpus) #문서의 갯수\n",
    "\n",
    "count_list_tf = []\n",
    "for d in corpus:    # d : 문서              \n",
    "    for t in vocab:  # vocab size :9 \n",
    "        count_list_tf.append( tf(t,d) )\n",
    "        \n",
    "count_list_tf = np.array(count_list_tf).reshape(N,-1)  # TF\n",
    "count_list_tf"
   ]
  },
  {
   "cell_type": "markdown",
   "id": "1ed0b95c-6641-48c1-b704-24dabcf0a697",
   "metadata": {},
   "source": [
    "## IDF\n",
    "* (단어가 등장한 문서의 수)의 역수"
   ]
  },
  {
   "cell_type": "code",
   "execution_count": 11,
   "id": "98ae8dc5-57d8-440d-8f51-ddf0aded7365",
   "metadata": {
    "tags": []
   },
   "outputs": [
    {
     "data": {
      "text/plain": [
       "[0.6931471805599453,\n",
       " 0.6931471805599453,\n",
       " 0.6931471805599453,\n",
       " 0.6931471805599453,\n",
       " 0.6931471805599453,\n",
       " 0.6931471805599453,\n",
       " 0.6931471805599453,\n",
       " 0.6931471805599453,\n",
       " 0.6931471805599453]"
      ]
     },
     "execution_count": 11,
     "metadata": {},
     "output_type": "execute_result"
    }
   ],
   "source": [
    "count_list_idf = []\n",
    "for i in vocab:\n",
    "    count_list_idf.append(idf(t))\n",
    "count_list_idf\n",
    "# 1/np.log1p(빈도수)  로그스케일링 해서"
   ]
  },
  {
   "cell_type": "markdown",
   "id": "f7c45cbe-1afa-42f0-b9dc-d3361da6a6aa",
   "metadata": {},
   "source": [
    "## TF-IDF"
   ]
  },
  {
   "cell_type": "code",
   "execution_count": 12,
   "id": "5ab21624-7467-485c-bcd1-8b0a0a03f3ea",
   "metadata": {
    "tags": []
   },
   "outputs": [],
   "source": [
    "count_list_tf1 = np.array(count_list_tf)"
   ]
  },
  {
   "cell_type": "code",
   "execution_count": 13,
   "id": "eedc4f4d-ab23-41bb-9dc0-00dbc360f120",
   "metadata": {
    "tags": []
   },
   "outputs": [
    {
     "data": {
      "text/plain": [
       "numpy.ndarray"
      ]
     },
     "execution_count": 13,
     "metadata": {},
     "output_type": "execute_result"
    }
   ],
   "source": [
    "type(count_list_tf1)"
   ]
  },
  {
   "cell_type": "code",
   "execution_count": 14,
   "id": "3753056a-f66c-47fd-bb83-62509d9f01ec",
   "metadata": {
    "tags": []
   },
   "outputs": [],
   "source": [
    "count_list_idf1 =np.array(count_list_idf)"
   ]
  },
  {
   "cell_type": "code",
   "execution_count": 15,
   "id": "115c9c16-6f2d-463d-bfc5-8ddd6829fac7",
   "metadata": {
    "tags": []
   },
   "outputs": [],
   "source": [
    "tf_idf = count_list_tf1 * count_list_idf1 "
   ]
  },
  {
   "cell_type": "code",
   "execution_count": 16,
   "id": "736f95fb-7da3-4a7c-be91-745d1c2705b9",
   "metadata": {
    "tags": []
   },
   "outputs": [
    {
     "data": {
      "text/html": [
       "<div>\n",
       "<style scoped>\n",
       "    .dataframe tbody tr th:only-of-type {\n",
       "        vertical-align: middle;\n",
       "    }\n",
       "\n",
       "    .dataframe tbody tr th {\n",
       "        vertical-align: top;\n",
       "    }\n",
       "\n",
       "    .dataframe thead th {\n",
       "        text-align: right;\n",
       "    }\n",
       "</style>\n",
       "<table border=\"1\" class=\"dataframe\">\n",
       "  <thead>\n",
       "    <tr style=\"text-align: right;\">\n",
       "      <th></th>\n",
       "      <th>좋아요</th>\n",
       "      <th>저는</th>\n",
       "      <th>싶은</th>\n",
       "      <th>사과</th>\n",
       "      <th>바나나</th>\n",
       "      <th>먹고</th>\n",
       "      <th>노란</th>\n",
       "      <th>길고</th>\n",
       "      <th>과일이</th>\n",
       "    </tr>\n",
       "  </thead>\n",
       "  <tbody>\n",
       "    <tr>\n",
       "      <th>0</th>\n",
       "      <td>0.000000</td>\n",
       "      <td>0.000000</td>\n",
       "      <td>0.693147</td>\n",
       "      <td>0.693147</td>\n",
       "      <td>0.000000</td>\n",
       "      <td>0.693147</td>\n",
       "      <td>0.000000</td>\n",
       "      <td>0.000000</td>\n",
       "      <td>0.000000</td>\n",
       "    </tr>\n",
       "    <tr>\n",
       "      <th>1</th>\n",
       "      <td>0.000000</td>\n",
       "      <td>0.000000</td>\n",
       "      <td>0.693147</td>\n",
       "      <td>0.000000</td>\n",
       "      <td>0.693147</td>\n",
       "      <td>0.693147</td>\n",
       "      <td>0.000000</td>\n",
       "      <td>0.000000</td>\n",
       "      <td>0.000000</td>\n",
       "    </tr>\n",
       "    <tr>\n",
       "      <th>2</th>\n",
       "      <td>0.000000</td>\n",
       "      <td>0.000000</td>\n",
       "      <td>0.000000</td>\n",
       "      <td>0.000000</td>\n",
       "      <td>1.386294</td>\n",
       "      <td>0.000000</td>\n",
       "      <td>0.693147</td>\n",
       "      <td>0.693147</td>\n",
       "      <td>0.000000</td>\n",
       "    </tr>\n",
       "    <tr>\n",
       "      <th>3</th>\n",
       "      <td>0.693147</td>\n",
       "      <td>0.693147</td>\n",
       "      <td>0.000000</td>\n",
       "      <td>0.000000</td>\n",
       "      <td>0.000000</td>\n",
       "      <td>0.000000</td>\n",
       "      <td>0.000000</td>\n",
       "      <td>0.000000</td>\n",
       "      <td>0.693147</td>\n",
       "    </tr>\n",
       "  </tbody>\n",
       "</table>\n",
       "</div>"
      ],
      "text/plain": [
       "        좋아요        저는        싶은        사과       바나나        먹고        노란  \\\n",
       "0  0.000000  0.000000  0.693147  0.693147  0.000000  0.693147  0.000000   \n",
       "1  0.000000  0.000000  0.693147  0.000000  0.693147  0.693147  0.000000   \n",
       "2  0.000000  0.000000  0.000000  0.000000  1.386294  0.000000  0.693147   \n",
       "3  0.693147  0.693147  0.000000  0.000000  0.000000  0.000000  0.000000   \n",
       "\n",
       "         길고       과일이  \n",
       "0  0.000000  0.000000  \n",
       "1  0.000000  0.000000  \n",
       "2  0.693147  0.000000  \n",
       "3  0.000000  0.693147  "
      ]
     },
     "execution_count": 16,
     "metadata": {},
     "output_type": "execute_result"
    }
   ],
   "source": [
    "df = pd.DataFrame(tf_idf, columns=vocab)\n",
    "df"
   ]
  },
  {
   "cell_type": "code",
   "execution_count": 17,
   "id": "3325d8e7-81c9-469c-b41b-8dd4422c7bcb",
   "metadata": {},
   "outputs": [],
   "source": [
    "#정수 array와 실수 array는 브로드캐스팅이 안된다"
   ]
  },
  {
   "cell_type": "markdown",
   "id": "8cb889d8-5515-43a1-a230-b07f9652187a",
   "metadata": {},
   "source": [
    "## [실습]"
   ]
  },
  {
   "cell_type": "markdown",
   "id": "2c7b9fd7-4a85-4ad7-a6ee-46f0ccb535e7",
   "metadata": {
    "tags": []
   },
   "source": [
    "### sklearn.CountVectorizer()"
   ]
  },
  {
   "cell_type": "markdown",
   "id": "c2ea6262-c021-4b33-b31c-7c1d8a534a6d",
   "metadata": {
    "tags": []
   },
   "source": [
    "### sklearn. TfidfVectorizer()\n",
    "* from sklearn.feature_extraction.text import TfidfVectorizer\n",
    "* (IDF의 로그항의 분자에 1을 더해주며, 로그항에 1을 더해주고, TF-IDF에 L2 정규화라는 방법으로 값을 조정"
   ]
  },
  {
   "cell_type": "code",
   "execution_count": 18,
   "id": "cdd30264-6986-4a30-943d-cd0e8d940950",
   "metadata": {
    "tags": []
   },
   "outputs": [
    {
     "name": "stdout",
     "output_type": "stream",
     "text": [
      "[[0.         0.46735098 0.         0.46735098 0.         0.46735098\n",
      "  0.         0.35543247 0.46735098]\n",
      " [0.         0.         0.79596054 0.         0.         0.\n",
      "  0.         0.60534851 0.        ]\n",
      " [0.57735027 0.         0.         0.         0.57735027 0.\n",
      "  0.57735027 0.         0.        ]]\n",
      "{'you': 7, 'know': 1, 'want': 5, 'your': 8, 'love': 3, 'like': 2, 'what': 6, 'should': 4, 'do': 0}\n"
     ]
    }
   ],
   "source": [
    "from sklearn.feature_extraction.text import TfidfVectorizer\n",
    "\n",
    "corpus = [\n",
    "    'you know I want your love',\n",
    "    'I like you',\n",
    "    'what should I do '\n",
    "]\n",
    "\n",
    "tfidfv = TfidfVectorizer().fit(corpus)\n",
    "vocab= tfidfv.vocabulary_\n",
    "print(tfidfv.transform(corpus).toarray())\n",
    "print(vocab)\n"
   ]
  },
  {
   "cell_type": "code",
   "execution_count": null,
   "id": "e6933583-258f-4e96-bc1f-342312a6b04a",
   "metadata": {},
   "outputs": [],
   "source": []
  },
  {
   "cell_type": "markdown",
   "id": "689ef0ed-8886-48bb-b913-e9a1f1ca0b42",
   "metadata": {},
   "source": [
    "# 코사인 유사도(Cosine Similarity)\n",
    "* 벡터의 크기가 아니라 방향(패턴)에 초점\n",
    "* 두 문서(문장) 간의 유사한 관계 정도를 나타냄 >> 문서간 관계에는 음수관계 없다"
   ]
  },
  {
   "cell_type": "markdown",
   "id": "62fc8557-54f6-4dd1-a9af-dc994b748f46",
   "metadata": {},
   "source": [
    "<img src=\"https://img1.daumcdn.net/thumb/R1280x0/?scode=mtistory2&fname=https%3A%2F%2Fblog.kakaocdn.net%2Fdn%2FbpLIxd%2Fbtq03F9AfHS%2FRTzzEkvHWvqQ5XfQh6rkY1%2Fimg.png\"><br>\n",
    "<img src=\"https://img1.daumcdn.net/thumb/R1280x0/?scode=mtistory2&fname=https%3A%2F%2Fblog.kakaocdn.net%2Fdn%2FbayZ5E%2Fbtq04KWSnlM%2FAkYrOmeom4jOCLv2fBf1HK%2Fimg.png\">"
   ]
  },
  {
   "cell_type": "code",
   "execution_count": 41,
   "id": "e42a7ab2-fba1-4c3a-b640-d8ab6c67a2e8",
   "metadata": {},
   "outputs": [],
   "source": [
    "# |A| >> 노름 (규제 : 제곱합의 제곱근)"
   ]
  },
  {
   "cell_type": "markdown",
   "id": "8d5e853f-2b5d-4ffd-bcda-7f08fe6aac2a",
   "metadata": {},
   "source": [
    "## 공통함수"
   ]
  },
  {
   "cell_type": "code",
   "execution_count": 20,
   "id": "82cd5b06-fd54-406e-97bd-68d46cbb251b",
   "metadata": {
    "tags": []
   },
   "outputs": [
    {
     "name": "stdout",
     "output_type": "stream",
     "text": [
      "코사인유사도 : 0.6667\n"
     ]
    }
   ],
   "source": [
    "A = df.loc[0].values\n",
    "B = df.loc[1].values\n",
    "# A, B\n",
    "res1 = np.dot(A, B)\n",
    "res2 = np.sqrt(np.sum(A**2)) * np.sqrt(np.sum(B**2))\n",
    "cs = res1 / res2\n",
    "print(f\"코사인유사도 : {cs:.4f}\")\n",
    "\n",
    "# np.sqrt(np.sum(B**2)) 계산 원리 -------------\n",
    "# B_sum = 0\n",
    "# for b in B:\n",
    "#     B_sum +=  b**2\n",
    "# np.sqrt(B_sum)\n",
    "# 제곱합의 제곱근 >> 노름"
   ]
  },
  {
   "cell_type": "code",
   "execution_count": 21,
   "id": "768c8e69-02ad-4f3f-933e-4349efd82458",
   "metadata": {
    "tags": []
   },
   "outputs": [
    {
     "name": "stdout",
     "output_type": "stream",
     "text": [
      "0.6666666666666666\n"
     ]
    }
   ],
   "source": [
    "def my_cos_sim(A,B):  \n",
    "    cos_sim = np.dot(A, B) / (np.linalg.norm(A) * np.linalg.norm(B))\n",
    "    print(cos_sim)   \n",
    "my_cos_sim(A,B)"
   ]
  },
  {
   "cell_type": "code",
   "execution_count": 22,
   "id": "069cc78a-9bb2-4dea-9fb7-467700efce7c",
   "metadata": {
    "tags": []
   },
   "outputs": [
    {
     "name": "stdout",
     "output_type": "stream",
     "text": [
      "0.7071067811865476\n",
      "0.7071067811865476\n",
      "1.0000000000000002\n"
     ]
    }
   ],
   "source": [
    "import numpy as np\n",
    "from numpy.linalg import norm  #--정규화 ||A||\n",
    "#from numpy import dot\n",
    "\n",
    "def my_cos_sim(A,B):\n",
    "    cos_sim = np.dot(A, B) / (norm(A) * norm(B))\n",
    "    print(cos_sim)   \n",
    "    \n",
    "# sklearn...vectorize.. [1,2,3,]\n",
    "doc1 = [0,1,2,1]\n",
    "doc2 = [1,0,1,1]\n",
    "doc3 = [2,0,2,2]\n",
    "my_cos_sim(doc1,doc2)\n",
    "my_cos_sim(doc1,doc3)\n",
    "my_cos_sim(doc2,doc3)    "
   ]
  },
  {
   "cell_type": "markdown",
   "id": "e8e27caf-e66c-4a0c-b2c1-96c0ea1ba4a1",
   "metadata": {},
   "source": [
    "## 사용예"
   ]
  },
  {
   "cell_type": "code",
   "execution_count": 23,
   "id": "7ad5ff0b-f567-4154-87dd-42ec234eff6c",
   "metadata": {
    "tags": []
   },
   "outputs": [],
   "source": [
    "text_list = [\"어제 비가 와서 날씨가 추워졌다.\",\n",
    "             \"나는 고양이를 좋아한다.\",\n",
    "             \"나는 강아지를 좋아한다.\"]\n"
   ]
  },
  {
   "cell_type": "code",
   "execution_count": 24,
   "id": "b672beb1-e0a9-4999-9380-bc7f4a7590a8",
   "metadata": {
    "tags": []
   },
   "outputs": [],
   "source": [
    "from tensorflow.keras.preprocessing.sequence import pad_sequences\n",
    "from keras.preprocessing.text import Tokenizer"
   ]
  },
  {
   "cell_type": "markdown",
   "id": "e549ccf4-d9d9-41d4-8549-9c357619e40c",
   "metadata": {},
   "source": [
    "### Tokenizer()"
   ]
  },
  {
   "cell_type": "code",
   "execution_count": 25,
   "id": "6fdbdbda-3db7-4c57-9082-c5535cdcb970",
   "metadata": {
    "tags": []
   },
   "outputs": [
    {
     "name": "stdout",
     "output_type": "stream",
     "text": [
      "[[3, 4, 5, 6, 7], [1, 8, 2], [1, 9, 2]] {'나는': 1, '좋아한다': 2, '어제': 3, '비가': 4, '와서': 5, '날씨가': 6, '추워졌다': 7, '고양이를': 8, '강아지를': 9}\n",
      "\n",
      "최대길이(Voca Size): 5\n",
      "\n",
      "[[3 4 5 6 7]\n",
      " [0 0 1 8 2]\n",
      " [0 0 1 9 2]]\n",
      "0.6941980239122336\n",
      "0.6774960231074738\n",
      "0.9995786102379159\n",
      "\n",
      "None None None\n"
     ]
    }
   ],
   "source": [
    "token = Tokenizer()\n",
    "token.fit_on_texts(text_list)\n",
    "text_seq_list = token.texts_to_sequences(text_list)\n",
    "vocab = token.word_index\n",
    "print(text_seq_list, vocab)\n",
    "\n",
    "max_length = max(len(sent.split()) for sent in text_list )\n",
    "print()\n",
    "print('최대길이(Voca Size):', max_length)\n",
    "\n",
    "padding_res = pad_sequences(sequences=text_seq_list,   #[[ 1, 2, ..] , ['1, 2, ..]]\n",
    "                   maxlen=5,      #voca_size :문장들이 가지고 있는 단어갯수 중 최대 단어수\n",
    "                   padding=\"pre\"  #앞에서부터 0을 채워서 제일 긴 길이에 맞추기 pre/post\n",
    "                  )\n",
    "print()\n",
    "print(padding_res)\n",
    "\n",
    "cs1 = my_cos_sim(padding_res[0], padding_res[1])\n",
    "cs2 = my_cos_sim(padding_res[0], padding_res[2])\n",
    "cs3 = my_cos_sim(padding_res[1], padding_res[2])\n",
    "print()\n",
    "print(cs1, cs2, cs3)"
   ]
  },
  {
   "cell_type": "markdown",
   "id": "8a42de63-d1cf-4ac2-b2d7-9bb763146237",
   "metadata": {},
   "source": [
    "### CountVectorizer()"
   ]
  },
  {
   "cell_type": "code",
   "execution_count": 26,
   "id": "0ce84a90-b94d-40fb-9c00-79314edf8b29",
   "metadata": {
    "tags": []
   },
   "outputs": [
    {
     "name": "stdout",
     "output_type": "stream",
     "text": [
      "\n",
      "[[0 0 0 1 1 1 1 0 1]\n",
      " [0 1 1 0 0 0 0 1 0]\n",
      " [1 0 1 0 0 0 0 1 0]]\n",
      "\n",
      "{'어제': 5, '비가': 4, '와서': 6, '날씨가': 3, '추워졌다': 8, '나는': 2, '고양이를': 1, '좋아한다': 7, '강아지를': 0}\n"
     ]
    }
   ],
   "source": [
    "vector = CountVectorizer()\n",
    "print()\n",
    "vocab = vector.fit_transform(text_list).toarray()\n",
    "print(vocab ) \n",
    "print()\n",
    "print(vector.vocabulary_)\n"
   ]
  },
  {
   "cell_type": "code",
   "execution_count": 27,
   "id": "c8db07b3-f257-4d39-b842-13ec277ca0a1",
   "metadata": {
    "tags": []
   },
   "outputs": [
    {
     "name": "stdout",
     "output_type": "stream",
     "text": [
      "\n",
      "0.0\n",
      "0.0\n",
      "0.6666666666666667\n",
      "\n",
      "None None None\n"
     ]
    }
   ],
   "source": [
    "print()\n",
    "cs1 = my_cos_sim(vocab[0], vocab[1])\n",
    "cs2 = my_cos_sim(vocab[0], vocab[2])\n",
    "cs3 = my_cos_sim(vocab[1], vocab[2])\n",
    "print()\n",
    "print(cs1, cs2, cs3)"
   ]
  },
  {
   "cell_type": "markdown",
   "id": "b174c99d-646d-4ef1-8507-cfd17d3d5485",
   "metadata": {
    "tags": []
   },
   "source": [
    "### TF_IDF"
   ]
  },
  {
   "cell_type": "code",
   "execution_count": 44,
   "id": "1bcc5e5d-dedb-4a2b-ae5a-0ee5ce4f95c4",
   "metadata": {
    "tags": []
   },
   "outputs": [
    {
     "name": "stdout",
     "output_type": "stream",
     "text": [
      "0.0\n",
      "0.0\n",
      "0.5363499141045837\n",
      "\n",
      "None None None\n"
     ]
    }
   ],
   "source": [
    "# tf_idf\n",
    "tfidf =TfidfVectorizer()\n",
    "tf_idf = tfidf.fit_transform(text_list).toarray()\n",
    "\n",
    "cs1 = my_cos_sim(tf_idf[0], tf_idf[1])\n",
    "cs2 = my_cos_sim(tf_idf[0], tf_idf[2])\n",
    "cs3 = my_cos_sim(tf_idf[1], tf_idf[2])\n",
    "print()\n",
    "print(cs1, cs2, cs3)"
   ]
  },
  {
   "cell_type": "markdown",
   "id": "cdd923a2-514b-4a29-941c-747da7578fcd",
   "metadata": {},
   "source": [
    "# [실습] 영화 추천 시스템"
   ]
  },
  {
   "cell_type": "code",
   "execution_count": 29,
   "id": "eda7034a-09b4-475d-8b79-853f55b43620",
   "metadata": {
    "tags": []
   },
   "outputs": [],
   "source": [
    "import numpy as np\n",
    "import pandas as pd\n",
    "from keras.preprocessing.text import Tokenizer\n",
    "from tensorflow.keras.utils import pad_sequences\n",
    "from sklearn.feature_extraction.text import TfidfVectorizer\n",
    "from sklearn.feature_extraction.text import CountVectorizer\n",
    "from nltk.corpus import stopwords\n",
    "from sklearn.metrics.pairwise import cosine_similarity\n",
    "stop_words_list = stopwords.words('english')\n",
    "# print('불용어 개수 :', len(stop_words_list))\n",
    "# print('불용어 10개 출력 :',stop_words_list[:10])"
   ]
  },
  {
   "cell_type": "code",
   "execution_count": 30,
   "id": "193fdfd5-36c3-4eca-ae9f-ad20cb4c8bd3",
   "metadata": {
    "tags": []
   },
   "outputs": [
    {
     "name": "stdout",
     "output_type": "stream",
     "text": [
      "<class 'pandas.core.frame.DataFrame'>\n",
      "RangeIndex: 20000 entries, 0 to 19999\n",
      "Data columns (total 24 columns):\n",
      " #   Column                 Non-Null Count  Dtype  \n",
      "---  ------                 --------------  -----  \n",
      " 0   adult                  20000 non-null  object \n",
      " 1   belongs_to_collection  2399 non-null   object \n",
      " 2   budget                 20000 non-null  object \n",
      " 3   genres                 20000 non-null  object \n",
      " 4   homepage               3055 non-null   object \n",
      " 5   id                     20000 non-null  object \n",
      " 6   imdb_id                19993 non-null  object \n",
      " 7   original_language      19999 non-null  object \n",
      " 8   original_title         20000 non-null  object \n",
      " 9   overview               19865 non-null  object \n",
      " 10  popularity             19998 non-null  object \n",
      " 11  poster_path            19907 non-null  object \n",
      " 12  production_companies   19999 non-null  object \n",
      " 13  production_countries   19999 non-null  object \n",
      " 14  release_date           19983 non-null  object \n",
      " 15  revenue                19998 non-null  float64\n",
      " 16  runtime                19971 non-null  float64\n",
      " 17  spoken_languages       19998 non-null  object \n",
      " 18  status                 19979 non-null  object \n",
      " 19  tagline                11706 non-null  object \n",
      " 20  title                  19998 non-null  object \n",
      " 21  video                  19998 non-null  object \n",
      " 22  vote_average           19998 non-null  float64\n",
      " 23  vote_count             19998 non-null  float64\n",
      "dtypes: float64(4), object(20)\n",
      "memory usage: 3.7+ MB\n"
     ]
    }
   ],
   "source": [
    "train = pd.read_csv(\"./datasets/movies_metadata.csv\")[:20000]\n",
    "# train.info()\n",
    "data = pd.DataFrame(train)\n",
    "data.info()"
   ]
  },
  {
   "cell_type": "markdown",
   "id": "2baf24f9-855c-46b5-8487-6780e1a758b6",
   "metadata": {
    "tags": []
   },
   "source": [
    "## 결측처리(Overview)"
   ]
  },
  {
   "cell_type": "code",
   "execution_count": 31,
   "id": "c4edf818-1ea1-4aff-beee-34b902d4a14f",
   "metadata": {
    "tags": []
   },
   "outputs": [
    {
     "name": "stdout",
     "output_type": "stream",
     "text": [
      "135\n",
      "0\n"
     ]
    }
   ],
   "source": [
    "print(data[\"overview\"].isna().sum())\n",
    "data['overview'] = data['overview'].fillna('')\n",
    "print(data[\"overview\"].isna().sum())\n"
   ]
  },
  {
   "cell_type": "markdown",
   "id": "0c63848f-299d-4d1c-8059-24e1199c6938",
   "metadata": {},
   "source": [
    "## 코사인 유사도"
   ]
  },
  {
   "cell_type": "code",
   "execution_count": 32,
   "id": "f35a4ce7-eda6-4ee5-8057-03ba36b8a34e",
   "metadata": {
    "tags": []
   },
   "outputs": [
    {
     "name": "stdout",
     "output_type": "stream",
     "text": [
      "TF-IDF 행렬의 크기(shape) : (20000, 47487)\n",
      "[[0. 0. 0. ... 0. 0. 0.]]\n"
     ]
    }
   ],
   "source": [
    "tfidf = TfidfVectorizer(stop_words='english')\n",
    "tfidf_matrix = tfidf.fit_transform(data['overview'])\n",
    "print('TF-IDF 행렬의 크기(shape) :',tfidf_matrix.shape)\n",
    "# print(tfidf.vocabulary_)\n",
    "print(tfidf_matrix[0].toarray())"
   ]
  },
  {
   "cell_type": "code",
   "execution_count": 33,
   "id": "5c77c12b-fadf-4ff1-bbb0-1cab7b810ea3",
   "metadata": {
    "tags": []
   },
   "outputs": [
    {
     "name": "stdout",
     "output_type": "stream",
     "text": [
      "코사인 유사도 연산 결과 : (20000, 20000)\n"
     ]
    }
   ],
   "source": [
    "cosine_sim = cosine_similarity(tfidf_matrix, tfidf_matrix)\n",
    "print('코사인 유사도 연산 결과 :',cosine_sim.shape)"
   ]
  },
  {
   "cell_type": "code",
   "execution_count": 34,
   "id": "4bdcf081-001f-4e00-866b-30a4877d2990",
   "metadata": {
    "tags": []
   },
   "outputs": [
    {
     "data": {
      "text/plain": [
       "array([0.        , 0.        , 0.02500492, ..., 0.        , 0.        ,\n",
       "       0.        ])"
      ]
     },
     "execution_count": 34,
     "metadata": {},
     "output_type": "execute_result"
    }
   ],
   "source": [
    "cosine_sim[4]"
   ]
  },
  {
   "cell_type": "code",
   "execution_count": 35,
   "id": "c5cb6310-b488-4549-ade2-aecc19d28045",
   "metadata": {
    "tags": []
   },
   "outputs": [
    {
     "data": {
      "text/html": [
       "<div>\n",
       "<style scoped>\n",
       "    .dataframe tbody tr th:only-of-type {\n",
       "        vertical-align: middle;\n",
       "    }\n",
       "\n",
       "    .dataframe tbody tr th {\n",
       "        vertical-align: top;\n",
       "    }\n",
       "\n",
       "    .dataframe thead th {\n",
       "        text-align: right;\n",
       "    }\n",
       "</style>\n",
       "<table border=\"1\" class=\"dataframe\">\n",
       "  <thead>\n",
       "    <tr style=\"text-align: right;\">\n",
       "      <th>title</th>\n",
       "      <th>Toy Story</th>\n",
       "      <th>Jumanji</th>\n",
       "      <th>Grumpier Old Men</th>\n",
       "      <th>Waiting to Exhale</th>\n",
       "      <th>Father of the Bride Part II</th>\n",
       "      <th>Heat</th>\n",
       "      <th>Sabrina</th>\n",
       "      <th>Tom and Huck</th>\n",
       "      <th>Sudden Death</th>\n",
       "      <th>GoldenEye</th>\n",
       "      <th>The American President</th>\n",
       "      <th>Dracula: Dead and Loving It</th>\n",
       "      <th>Balto</th>\n",
       "      <th>Nixon</th>\n",
       "      <th>Cutthroat Island</th>\n",
       "      <th>Casino</th>\n",
       "      <th>Sense and Sensibility</th>\n",
       "      <th>Four Rooms</th>\n",
       "      <th>Ace Ventura: When Nature Calls</th>\n",
       "      <th>Money Train</th>\n",
       "      <th>Get Shorty</th>\n",
       "      <th>Copycat</th>\n",
       "      <th>Assassins</th>\n",
       "      <th>Powder</th>\n",
       "      <th>Leaving Las Vegas</th>\n",
       "      <th>Othello</th>\n",
       "      <th>Now and Then</th>\n",
       "      <th>Persuasion</th>\n",
       "      <th>The City of Lost Children</th>\n",
       "      <th>Shanghai Triad</th>\n",
       "      <th>Dangerous Minds</th>\n",
       "      <th>Twelve Monkeys</th>\n",
       "      <th>Wings of Courage</th>\n",
       "      <th>Babe</th>\n",
       "      <th>Carrington</th>\n",
       "      <th>Dead Man Walking</th>\n",
       "      <th>Across the Sea of Time</th>\n",
       "      <th>It Takes Two</th>\n",
       "      <th>Clueless</th>\n",
       "      <th>Cry, the Beloved Country</th>\n",
       "      <th>Richard III</th>\n",
       "      <th>Dead Presidents</th>\n",
       "      <th>Restoration</th>\n",
       "      <th>Mortal Kombat</th>\n",
       "      <th>To Die For</th>\n",
       "      <th>How To Make An American Quilt</th>\n",
       "      <th>Se7en</th>\n",
       "      <th>Pocahontas</th>\n",
       "      <th>When Night Is Falling</th>\n",
       "      <th>The Usual Suspects</th>\n",
       "      <th>...</th>\n",
       "      <th>Kiss and Tell</th>\n",
       "      <th>Oui, mais...</th>\n",
       "      <th>Space Adventure Cobra</th>\n",
       "      <th>L'aventure c'est l'aventure</th>\n",
       "      <th>A Season for Miracles</th>\n",
       "      <th>The Awful Truth</th>\n",
       "      <th>1911</th>\n",
       "      <th>Looking for Jackie</th>\n",
       "      <th>The Shaolin Temple</th>\n",
       "      <th>Shaolin Temple 2: Kids from Shaolin</th>\n",
       "      <th>Carol Channing: Larger Than Life</th>\n",
       "      <th>Memory</th>\n",
       "      <th>Martial Arts of Shaolin</th>\n",
       "      <th>Snowmageddon</th>\n",
       "      <th>Stand Up and Fight</th>\n",
       "      <th>Jazz</th>\n",
       "      <th>Barbara</th>\n",
       "      <th>A Liar's Autobiography: The Untrue Story of Monty Python's Graham Chapman</th>\n",
       "      <th>Little Miss Broadway</th>\n",
       "      <th>Miss Annie Rooney</th>\n",
       "      <th>Mr. Belvedere Goes to College</th>\n",
       "      <th>The Hobbit: An Unexpected Journey</th>\n",
       "      <th>Mon Paradis - Der Winterpalast</th>\n",
       "      <th>No Flesh Shall Be Spared</th>\n",
       "      <th>I am Von Höfler Variation on Werther</th>\n",
       "      <th>Born to Defend</th>\n",
       "      <th>Dragon Fight</th>\n",
       "      <th>The Master</th>\n",
       "      <th>Kung Fu Cult Master</th>\n",
       "      <th>The Fitzgerald Family Christmas</th>\n",
       "      <th>Hyde Park on Hudson</th>\n",
       "      <th>Lay the Favorite</th>\n",
       "      <th>Audition/Talent Competition</th>\n",
       "      <th>All's Faire in Love</th>\n",
       "      <th>Crooked Arrows</th>\n",
       "      <th>The Enforcer</th>\n",
       "      <th>Dr. Wai in the Scriptures with No Words</th>\n",
       "      <th>Once Upon a Time in China and America</th>\n",
       "      <th>Contract Killer</th>\n",
       "      <th>The Executor</th>\n",
       "      <th>Never Say... Never!</th>\n",
       "      <th>Calmos</th>\n",
       "      <th>How to Make Love to a Woman</th>\n",
       "      <th>After Fall, Winter</th>\n",
       "      <th>Violeta Went to Heaven</th>\n",
       "      <th>Rebellion</th>\n",
       "      <th>Versailles</th>\n",
       "      <th>Two in the Wave</th>\n",
       "      <th>Lotte Reiniger: Homage to the Inventor of the Silhouette Film</th>\n",
       "      <th>RKO Production 601: The Making of 'Kong, the Eighth Wonder of the World'</th>\n",
       "    </tr>\n",
       "    <tr>\n",
       "      <th>title</th>\n",
       "      <th></th>\n",
       "      <th></th>\n",
       "      <th></th>\n",
       "      <th></th>\n",
       "      <th></th>\n",
       "      <th></th>\n",
       "      <th></th>\n",
       "      <th></th>\n",
       "      <th></th>\n",
       "      <th></th>\n",
       "      <th></th>\n",
       "      <th></th>\n",
       "      <th></th>\n",
       "      <th></th>\n",
       "      <th></th>\n",
       "      <th></th>\n",
       "      <th></th>\n",
       "      <th></th>\n",
       "      <th></th>\n",
       "      <th></th>\n",
       "      <th></th>\n",
       "      <th></th>\n",
       "      <th></th>\n",
       "      <th></th>\n",
       "      <th></th>\n",
       "      <th></th>\n",
       "      <th></th>\n",
       "      <th></th>\n",
       "      <th></th>\n",
       "      <th></th>\n",
       "      <th></th>\n",
       "      <th></th>\n",
       "      <th></th>\n",
       "      <th></th>\n",
       "      <th></th>\n",
       "      <th></th>\n",
       "      <th></th>\n",
       "      <th></th>\n",
       "      <th></th>\n",
       "      <th></th>\n",
       "      <th></th>\n",
       "      <th></th>\n",
       "      <th></th>\n",
       "      <th></th>\n",
       "      <th></th>\n",
       "      <th></th>\n",
       "      <th></th>\n",
       "      <th></th>\n",
       "      <th></th>\n",
       "      <th></th>\n",
       "      <th></th>\n",
       "      <th></th>\n",
       "      <th></th>\n",
       "      <th></th>\n",
       "      <th></th>\n",
       "      <th></th>\n",
       "      <th></th>\n",
       "      <th></th>\n",
       "      <th></th>\n",
       "      <th></th>\n",
       "      <th></th>\n",
       "      <th></th>\n",
       "      <th></th>\n",
       "      <th></th>\n",
       "      <th></th>\n",
       "      <th></th>\n",
       "      <th></th>\n",
       "      <th></th>\n",
       "      <th></th>\n",
       "      <th></th>\n",
       "      <th></th>\n",
       "      <th></th>\n",
       "      <th></th>\n",
       "      <th></th>\n",
       "      <th></th>\n",
       "      <th></th>\n",
       "      <th></th>\n",
       "      <th></th>\n",
       "      <th></th>\n",
       "      <th></th>\n",
       "      <th></th>\n",
       "      <th></th>\n",
       "      <th></th>\n",
       "      <th></th>\n",
       "      <th></th>\n",
       "      <th></th>\n",
       "      <th></th>\n",
       "      <th></th>\n",
       "      <th></th>\n",
       "      <th></th>\n",
       "      <th></th>\n",
       "      <th></th>\n",
       "      <th></th>\n",
       "      <th></th>\n",
       "      <th></th>\n",
       "      <th></th>\n",
       "      <th></th>\n",
       "      <th></th>\n",
       "      <th></th>\n",
       "      <th></th>\n",
       "      <th></th>\n",
       "    </tr>\n",
       "  </thead>\n",
       "  <tbody>\n",
       "    <tr>\n",
       "      <th>Toy Story</th>\n",
       "      <td>1.000000</td>\n",
       "      <td>0.015757</td>\n",
       "      <td>0.000000</td>\n",
       "      <td>0.0</td>\n",
       "      <td>0.000000</td>\n",
       "      <td>0.000000</td>\n",
       "      <td>0.00000</td>\n",
       "      <td>0.000000</td>\n",
       "      <td>0.000000</td>\n",
       "      <td>0.0</td>\n",
       "      <td>0.000000</td>\n",
       "      <td>0.0</td>\n",
       "      <td>0.0</td>\n",
       "      <td>0.000000</td>\n",
       "      <td>0.0</td>\n",
       "      <td>0.0</td>\n",
       "      <td>0.000000</td>\n",
       "      <td>0.041140</td>\n",
       "      <td>0.000000</td>\n",
       "      <td>0.0</td>\n",
       "      <td>0.009941</td>\n",
       "      <td>0.0</td>\n",
       "      <td>0.000000</td>\n",
       "      <td>0.000000</td>\n",
       "      <td>0.0</td>\n",
       "      <td>0.000000</td>\n",
       "      <td>0.000000</td>\n",
       "      <td>0.000000</td>\n",
       "      <td>0.0</td>\n",
       "      <td>0.000000</td>\n",
       "      <td>0.000000</td>\n",
       "      <td>0.000000</td>\n",
       "      <td>0.0</td>\n",
       "      <td>0.019831</td>\n",
       "      <td>0.000000</td>\n",
       "      <td>0.000000</td>\n",
       "      <td>0.000000</td>\n",
       "      <td>0.0</td>\n",
       "      <td>0.0</td>\n",
       "      <td>0.0</td>\n",
       "      <td>0.0</td>\n",
       "      <td>0.000000</td>\n",
       "      <td>0.006348</td>\n",
       "      <td>0.000000</td>\n",
       "      <td>0.0</td>\n",
       "      <td>0.009321</td>\n",
       "      <td>0.00000</td>\n",
       "      <td>0.000000</td>\n",
       "      <td>0.000000</td>\n",
       "      <td>0.013822</td>\n",
       "      <td>...</td>\n",
       "      <td>0.000000</td>\n",
       "      <td>0.0</td>\n",
       "      <td>0.011365</td>\n",
       "      <td>0.0</td>\n",
       "      <td>0.000000</td>\n",
       "      <td>0.0</td>\n",
       "      <td>0.011791</td>\n",
       "      <td>0.014688</td>\n",
       "      <td>0.013539</td>\n",
       "      <td>0.007355</td>\n",
       "      <td>0.011161</td>\n",
       "      <td>0.000000</td>\n",
       "      <td>0.01452</td>\n",
       "      <td>0.000000</td>\n",
       "      <td>0.000000</td>\n",
       "      <td>0.0</td>\n",
       "      <td>0.000000</td>\n",
       "      <td>0.000000</td>\n",
       "      <td>0.019853</td>\n",
       "      <td>0.027106</td>\n",
       "      <td>0.00000</td>\n",
       "      <td>0.000000</td>\n",
       "      <td>0.0</td>\n",
       "      <td>0.0</td>\n",
       "      <td>0.000000</td>\n",
       "      <td>0.00000</td>\n",
       "      <td>0.117982</td>\n",
       "      <td>0.000000</td>\n",
       "      <td>0.0</td>\n",
       "      <td>0.000000</td>\n",
       "      <td>0.0</td>\n",
       "      <td>0.0</td>\n",
       "      <td>0.000000</td>\n",
       "      <td>0.000000</td>\n",
       "      <td>0.000000</td>\n",
       "      <td>0.000000</td>\n",
       "      <td>0.0</td>\n",
       "      <td>0.00000</td>\n",
       "      <td>0.0</td>\n",
       "      <td>0.0</td>\n",
       "      <td>0.000000</td>\n",
       "      <td>0.009979</td>\n",
       "      <td>0.060997</td>\n",
       "      <td>0.000000</td>\n",
       "      <td>0.0</td>\n",
       "      <td>0.0</td>\n",
       "      <td>0.024585</td>\n",
       "      <td>0.0</td>\n",
       "      <td>0.0</td>\n",
       "      <td>0.0</td>\n",
       "    </tr>\n",
       "    <tr>\n",
       "      <th>Jumanji</th>\n",
       "      <td>0.015757</td>\n",
       "      <td>1.000000</td>\n",
       "      <td>0.049073</td>\n",
       "      <td>0.0</td>\n",
       "      <td>0.000000</td>\n",
       "      <td>0.051830</td>\n",
       "      <td>0.00000</td>\n",
       "      <td>0.000000</td>\n",
       "      <td>0.106355</td>\n",
       "      <td>0.0</td>\n",
       "      <td>0.007616</td>\n",
       "      <td>0.0</td>\n",
       "      <td>0.0</td>\n",
       "      <td>0.008233</td>\n",
       "      <td>0.0</td>\n",
       "      <td>0.0</td>\n",
       "      <td>0.000000</td>\n",
       "      <td>0.028753</td>\n",
       "      <td>0.000000</td>\n",
       "      <td>0.0</td>\n",
       "      <td>0.000000</td>\n",
       "      <td>0.0</td>\n",
       "      <td>0.006043</td>\n",
       "      <td>0.000000</td>\n",
       "      <td>0.0</td>\n",
       "      <td>0.024285</td>\n",
       "      <td>0.024941</td>\n",
       "      <td>0.006489</td>\n",
       "      <td>0.0</td>\n",
       "      <td>0.000000</td>\n",
       "      <td>0.000000</td>\n",
       "      <td>0.047250</td>\n",
       "      <td>0.0</td>\n",
       "      <td>0.005560</td>\n",
       "      <td>0.004326</td>\n",
       "      <td>0.000000</td>\n",
       "      <td>0.000000</td>\n",
       "      <td>0.0</td>\n",
       "      <td>0.0</td>\n",
       "      <td>0.0</td>\n",
       "      <td>0.0</td>\n",
       "      <td>0.000000</td>\n",
       "      <td>0.000000</td>\n",
       "      <td>0.025758</td>\n",
       "      <td>0.0</td>\n",
       "      <td>0.000000</td>\n",
       "      <td>0.01848</td>\n",
       "      <td>0.008127</td>\n",
       "      <td>0.000000</td>\n",
       "      <td>0.016429</td>\n",
       "      <td>...</td>\n",
       "      <td>0.000000</td>\n",
       "      <td>0.0</td>\n",
       "      <td>0.004063</td>\n",
       "      <td>0.0</td>\n",
       "      <td>0.000000</td>\n",
       "      <td>0.0</td>\n",
       "      <td>0.006281</td>\n",
       "      <td>0.000000</td>\n",
       "      <td>0.000000</td>\n",
       "      <td>0.000000</td>\n",
       "      <td>0.030391</td>\n",
       "      <td>0.000000</td>\n",
       "      <td>0.00000</td>\n",
       "      <td>0.027595</td>\n",
       "      <td>0.043131</td>\n",
       "      <td>0.0</td>\n",
       "      <td>0.011296</td>\n",
       "      <td>0.000000</td>\n",
       "      <td>0.000000</td>\n",
       "      <td>0.000000</td>\n",
       "      <td>0.00000</td>\n",
       "      <td>0.000000</td>\n",
       "      <td>0.0</td>\n",
       "      <td>0.0</td>\n",
       "      <td>0.007418</td>\n",
       "      <td>0.01348</td>\n",
       "      <td>0.009529</td>\n",
       "      <td>0.000000</td>\n",
       "      <td>0.0</td>\n",
       "      <td>0.060063</td>\n",
       "      <td>0.0</td>\n",
       "      <td>0.0</td>\n",
       "      <td>0.000000</td>\n",
       "      <td>0.013191</td>\n",
       "      <td>0.000000</td>\n",
       "      <td>0.000000</td>\n",
       "      <td>0.0</td>\n",
       "      <td>0.00000</td>\n",
       "      <td>0.0</td>\n",
       "      <td>0.0</td>\n",
       "      <td>0.029242</td>\n",
       "      <td>0.000000</td>\n",
       "      <td>0.000000</td>\n",
       "      <td>0.004271</td>\n",
       "      <td>0.0</td>\n",
       "      <td>0.0</td>\n",
       "      <td>0.000000</td>\n",
       "      <td>0.0</td>\n",
       "      <td>0.0</td>\n",
       "      <td>0.0</td>\n",
       "    </tr>\n",
       "    <tr>\n",
       "      <th>Grumpier Old Men</th>\n",
       "      <td>0.000000</td>\n",
       "      <td>0.049073</td>\n",
       "      <td>1.000000</td>\n",
       "      <td>0.0</td>\n",
       "      <td>0.025005</td>\n",
       "      <td>0.000000</td>\n",
       "      <td>0.00000</td>\n",
       "      <td>0.006500</td>\n",
       "      <td>0.000000</td>\n",
       "      <td>0.0</td>\n",
       "      <td>0.000000</td>\n",
       "      <td>0.0</td>\n",
       "      <td>0.0</td>\n",
       "      <td>0.000000</td>\n",
       "      <td>0.0</td>\n",
       "      <td>0.0</td>\n",
       "      <td>0.000000</td>\n",
       "      <td>0.000000</td>\n",
       "      <td>0.018349</td>\n",
       "      <td>0.0</td>\n",
       "      <td>0.000000</td>\n",
       "      <td>0.0</td>\n",
       "      <td>0.000000</td>\n",
       "      <td>0.000000</td>\n",
       "      <td>0.0</td>\n",
       "      <td>0.000000</td>\n",
       "      <td>0.000000</td>\n",
       "      <td>0.011910</td>\n",
       "      <td>0.0</td>\n",
       "      <td>0.010392</td>\n",
       "      <td>0.000000</td>\n",
       "      <td>0.006408</td>\n",
       "      <td>0.0</td>\n",
       "      <td>0.006683</td>\n",
       "      <td>0.000000</td>\n",
       "      <td>0.000000</td>\n",
       "      <td>0.005282</td>\n",
       "      <td>0.0</td>\n",
       "      <td>0.0</td>\n",
       "      <td>0.0</td>\n",
       "      <td>0.0</td>\n",
       "      <td>0.000000</td>\n",
       "      <td>0.000000</td>\n",
       "      <td>0.007480</td>\n",
       "      <td>0.0</td>\n",
       "      <td>0.000000</td>\n",
       "      <td>0.00000</td>\n",
       "      <td>0.016500</td>\n",
       "      <td>0.016821</td>\n",
       "      <td>0.000000</td>\n",
       "      <td>...</td>\n",
       "      <td>0.000000</td>\n",
       "      <td>0.0</td>\n",
       "      <td>0.000000</td>\n",
       "      <td>0.0</td>\n",
       "      <td>0.007415</td>\n",
       "      <td>0.0</td>\n",
       "      <td>0.000000</td>\n",
       "      <td>0.000000</td>\n",
       "      <td>0.000000</td>\n",
       "      <td>0.015443</td>\n",
       "      <td>0.000000</td>\n",
       "      <td>0.007561</td>\n",
       "      <td>0.00000</td>\n",
       "      <td>0.031215</td>\n",
       "      <td>0.000000</td>\n",
       "      <td>0.0</td>\n",
       "      <td>0.000000</td>\n",
       "      <td>0.014109</td>\n",
       "      <td>0.000000</td>\n",
       "      <td>0.009995</td>\n",
       "      <td>0.02621</td>\n",
       "      <td>0.000000</td>\n",
       "      <td>0.0</td>\n",
       "      <td>0.0</td>\n",
       "      <td>0.006808</td>\n",
       "      <td>0.00000</td>\n",
       "      <td>0.015605</td>\n",
       "      <td>0.000000</td>\n",
       "      <td>0.0</td>\n",
       "      <td>0.023065</td>\n",
       "      <td>0.0</td>\n",
       "      <td>0.0</td>\n",
       "      <td>0.016035</td>\n",
       "      <td>0.000000</td>\n",
       "      <td>0.000000</td>\n",
       "      <td>0.010563</td>\n",
       "      <td>0.0</td>\n",
       "      <td>0.00914</td>\n",
       "      <td>0.0</td>\n",
       "      <td>0.0</td>\n",
       "      <td>0.000000</td>\n",
       "      <td>0.000000</td>\n",
       "      <td>0.000000</td>\n",
       "      <td>0.000000</td>\n",
       "      <td>0.0</td>\n",
       "      <td>0.0</td>\n",
       "      <td>0.000000</td>\n",
       "      <td>0.0</td>\n",
       "      <td>0.0</td>\n",
       "      <td>0.0</td>\n",
       "    </tr>\n",
       "    <tr>\n",
       "      <th>Waiting to Exhale</th>\n",
       "      <td>0.000000</td>\n",
       "      <td>0.000000</td>\n",
       "      <td>0.000000</td>\n",
       "      <td>1.0</td>\n",
       "      <td>0.000000</td>\n",
       "      <td>0.007139</td>\n",
       "      <td>0.00000</td>\n",
       "      <td>0.009396</td>\n",
       "      <td>0.000000</td>\n",
       "      <td>0.0</td>\n",
       "      <td>0.000000</td>\n",
       "      <td>0.0</td>\n",
       "      <td>0.0</td>\n",
       "      <td>0.008025</td>\n",
       "      <td>0.0</td>\n",
       "      <td>0.0</td>\n",
       "      <td>0.000000</td>\n",
       "      <td>0.000000</td>\n",
       "      <td>0.000000</td>\n",
       "      <td>0.0</td>\n",
       "      <td>0.000000</td>\n",
       "      <td>0.0</td>\n",
       "      <td>0.015244</td>\n",
       "      <td>0.007419</td>\n",
       "      <td>0.0</td>\n",
       "      <td>0.000000</td>\n",
       "      <td>0.000000</td>\n",
       "      <td>0.017338</td>\n",
       "      <td>0.0</td>\n",
       "      <td>0.000000</td>\n",
       "      <td>0.020718</td>\n",
       "      <td>0.000000</td>\n",
       "      <td>0.0</td>\n",
       "      <td>0.008459</td>\n",
       "      <td>0.000000</td>\n",
       "      <td>0.007564</td>\n",
       "      <td>0.015534</td>\n",
       "      <td>0.0</td>\n",
       "      <td>0.0</td>\n",
       "      <td>0.0</td>\n",
       "      <td>0.0</td>\n",
       "      <td>0.000000</td>\n",
       "      <td>0.000000</td>\n",
       "      <td>0.000000</td>\n",
       "      <td>0.0</td>\n",
       "      <td>0.009875</td>\n",
       "      <td>0.00000</td>\n",
       "      <td>0.000000</td>\n",
       "      <td>0.000000</td>\n",
       "      <td>0.000000</td>\n",
       "      <td>...</td>\n",
       "      <td>0.017565</td>\n",
       "      <td>0.0</td>\n",
       "      <td>0.003453</td>\n",
       "      <td>0.0</td>\n",
       "      <td>0.000000</td>\n",
       "      <td>0.0</td>\n",
       "      <td>0.017731</td>\n",
       "      <td>0.011984</td>\n",
       "      <td>0.000000</td>\n",
       "      <td>0.000000</td>\n",
       "      <td>0.000000</td>\n",
       "      <td>0.000000</td>\n",
       "      <td>0.00000</td>\n",
       "      <td>0.007155</td>\n",
       "      <td>0.000000</td>\n",
       "      <td>0.0</td>\n",
       "      <td>0.000000</td>\n",
       "      <td>0.000000</td>\n",
       "      <td>0.000000</td>\n",
       "      <td>0.023705</td>\n",
       "      <td>0.00000</td>\n",
       "      <td>0.000000</td>\n",
       "      <td>0.0</td>\n",
       "      <td>0.0</td>\n",
       "      <td>0.000000</td>\n",
       "      <td>0.00000</td>\n",
       "      <td>0.005440</td>\n",
       "      <td>0.011392</td>\n",
       "      <td>0.0</td>\n",
       "      <td>0.000000</td>\n",
       "      <td>0.0</td>\n",
       "      <td>0.0</td>\n",
       "      <td>0.000000</td>\n",
       "      <td>0.000000</td>\n",
       "      <td>0.021712</td>\n",
       "      <td>0.000000</td>\n",
       "      <td>0.0</td>\n",
       "      <td>0.00000</td>\n",
       "      <td>0.0</td>\n",
       "      <td>0.0</td>\n",
       "      <td>0.008305</td>\n",
       "      <td>0.000000</td>\n",
       "      <td>0.008952</td>\n",
       "      <td>0.000000</td>\n",
       "      <td>0.0</td>\n",
       "      <td>0.0</td>\n",
       "      <td>0.000000</td>\n",
       "      <td>0.0</td>\n",
       "      <td>0.0</td>\n",
       "      <td>0.0</td>\n",
       "    </tr>\n",
       "    <tr>\n",
       "      <th>Father of the Bride Part II</th>\n",
       "      <td>0.000000</td>\n",
       "      <td>0.000000</td>\n",
       "      <td>0.025005</td>\n",
       "      <td>0.0</td>\n",
       "      <td>1.000000</td>\n",
       "      <td>0.000000</td>\n",
       "      <td>0.03298</td>\n",
       "      <td>0.000000</td>\n",
       "      <td>0.032751</td>\n",
       "      <td>0.0</td>\n",
       "      <td>0.000000</td>\n",
       "      <td>0.0</td>\n",
       "      <td>0.0</td>\n",
       "      <td>0.000000</td>\n",
       "      <td>0.0</td>\n",
       "      <td>0.0</td>\n",
       "      <td>0.016175</td>\n",
       "      <td>0.000000</td>\n",
       "      <td>0.022556</td>\n",
       "      <td>0.0</td>\n",
       "      <td>0.000000</td>\n",
       "      <td>0.0</td>\n",
       "      <td>0.000000</td>\n",
       "      <td>0.000000</td>\n",
       "      <td>0.0</td>\n",
       "      <td>0.000000</td>\n",
       "      <td>0.000000</td>\n",
       "      <td>0.010453</td>\n",
       "      <td>0.0</td>\n",
       "      <td>0.000000</td>\n",
       "      <td>0.000000</td>\n",
       "      <td>0.000000</td>\n",
       "      <td>0.0</td>\n",
       "      <td>0.012483</td>\n",
       "      <td>0.000000</td>\n",
       "      <td>0.000000</td>\n",
       "      <td>0.008551</td>\n",
       "      <td>0.0</td>\n",
       "      <td>0.0</td>\n",
       "      <td>0.0</td>\n",
       "      <td>0.0</td>\n",
       "      <td>0.012535</td>\n",
       "      <td>0.005066</td>\n",
       "      <td>0.000000</td>\n",
       "      <td>0.0</td>\n",
       "      <td>0.000000</td>\n",
       "      <td>0.00000</td>\n",
       "      <td>0.026180</td>\n",
       "      <td>0.000000</td>\n",
       "      <td>0.000000</td>\n",
       "      <td>...</td>\n",
       "      <td>0.027553</td>\n",
       "      <td>0.0</td>\n",
       "      <td>0.028289</td>\n",
       "      <td>0.0</td>\n",
       "      <td>0.013640</td>\n",
       "      <td>0.0</td>\n",
       "      <td>0.000000</td>\n",
       "      <td>0.000000</td>\n",
       "      <td>0.000000</td>\n",
       "      <td>0.009036</td>\n",
       "      <td>0.009067</td>\n",
       "      <td>0.000000</td>\n",
       "      <td>0.00000</td>\n",
       "      <td>0.008951</td>\n",
       "      <td>0.000000</td>\n",
       "      <td>0.0</td>\n",
       "      <td>0.000000</td>\n",
       "      <td>0.000000</td>\n",
       "      <td>0.023089</td>\n",
       "      <td>0.000000</td>\n",
       "      <td>0.00000</td>\n",
       "      <td>0.014366</td>\n",
       "      <td>0.0</td>\n",
       "      <td>0.0</td>\n",
       "      <td>0.042243</td>\n",
       "      <td>0.00000</td>\n",
       "      <td>0.010164</td>\n",
       "      <td>0.000000</td>\n",
       "      <td>0.0</td>\n",
       "      <td>0.018671</td>\n",
       "      <td>0.0</td>\n",
       "      <td>0.0</td>\n",
       "      <td>0.000000</td>\n",
       "      <td>0.000000</td>\n",
       "      <td>0.000000</td>\n",
       "      <td>0.015346</td>\n",
       "      <td>0.0</td>\n",
       "      <td>0.00000</td>\n",
       "      <td>0.0</td>\n",
       "      <td>0.0</td>\n",
       "      <td>0.009277</td>\n",
       "      <td>0.000000</td>\n",
       "      <td>0.000000</td>\n",
       "      <td>0.025417</td>\n",
       "      <td>0.0</td>\n",
       "      <td>0.0</td>\n",
       "      <td>0.078359</td>\n",
       "      <td>0.0</td>\n",
       "      <td>0.0</td>\n",
       "      <td>0.0</td>\n",
       "    </tr>\n",
       "  </tbody>\n",
       "</table>\n",
       "<p>5 rows × 20000 columns</p>\n",
       "</div>"
      ],
      "text/plain": [
       "title                        Toy Story   Jumanji  Grumpier Old Men  \\\n",
       "title                                                                \n",
       "Toy Story                     1.000000  0.015757          0.000000   \n",
       "Jumanji                       0.015757  1.000000          0.049073   \n",
       "Grumpier Old Men              0.000000  0.049073          1.000000   \n",
       "Waiting to Exhale             0.000000  0.000000          0.000000   \n",
       "Father of the Bride Part II   0.000000  0.000000          0.025005   \n",
       "\n",
       "title                        Waiting to Exhale  Father of the Bride Part II  \\\n",
       "title                                                                         \n",
       "Toy Story                                  0.0                     0.000000   \n",
       "Jumanji                                    0.0                     0.000000   \n",
       "Grumpier Old Men                           0.0                     0.025005   \n",
       "Waiting to Exhale                          1.0                     0.000000   \n",
       "Father of the Bride Part II                0.0                     1.000000   \n",
       "\n",
       "title                            Heat  Sabrina  Tom and Huck  Sudden Death  \\\n",
       "title                                                                        \n",
       "Toy Story                    0.000000  0.00000      0.000000      0.000000   \n",
       "Jumanji                      0.051830  0.00000      0.000000      0.106355   \n",
       "Grumpier Old Men             0.000000  0.00000      0.006500      0.000000   \n",
       "Waiting to Exhale            0.007139  0.00000      0.009396      0.000000   \n",
       "Father of the Bride Part II  0.000000  0.03298      0.000000      0.032751   \n",
       "\n",
       "title                        GoldenEye  The American President  \\\n",
       "title                                                            \n",
       "Toy Story                          0.0                0.000000   \n",
       "Jumanji                            0.0                0.007616   \n",
       "Grumpier Old Men                   0.0                0.000000   \n",
       "Waiting to Exhale                  0.0                0.000000   \n",
       "Father of the Bride Part II        0.0                0.000000   \n",
       "\n",
       "title                        Dracula: Dead and Loving It  Balto     Nixon  \\\n",
       "title                                                                       \n",
       "Toy Story                                            0.0    0.0  0.000000   \n",
       "Jumanji                                              0.0    0.0  0.008233   \n",
       "Grumpier Old Men                                     0.0    0.0  0.000000   \n",
       "Waiting to Exhale                                    0.0    0.0  0.008025   \n",
       "Father of the Bride Part II                          0.0    0.0  0.000000   \n",
       "\n",
       "title                        Cutthroat Island  Casino  Sense and Sensibility  \\\n",
       "title                                                                          \n",
       "Toy Story                                 0.0     0.0               0.000000   \n",
       "Jumanji                                   0.0     0.0               0.000000   \n",
       "Grumpier Old Men                          0.0     0.0               0.000000   \n",
       "Waiting to Exhale                         0.0     0.0               0.000000   \n",
       "Father of the Bride Part II               0.0     0.0               0.016175   \n",
       "\n",
       "title                        Four Rooms  Ace Ventura: When Nature Calls  \\\n",
       "title                                                                     \n",
       "Toy Story                      0.041140                        0.000000   \n",
       "Jumanji                        0.028753                        0.000000   \n",
       "Grumpier Old Men               0.000000                        0.018349   \n",
       "Waiting to Exhale              0.000000                        0.000000   \n",
       "Father of the Bride Part II    0.000000                        0.022556   \n",
       "\n",
       "title                        Money Train  Get Shorty  Copycat  Assassins  \\\n",
       "title                                                                      \n",
       "Toy Story                            0.0    0.009941      0.0   0.000000   \n",
       "Jumanji                              0.0    0.000000      0.0   0.006043   \n",
       "Grumpier Old Men                     0.0    0.000000      0.0   0.000000   \n",
       "Waiting to Exhale                    0.0    0.000000      0.0   0.015244   \n",
       "Father of the Bride Part II          0.0    0.000000      0.0   0.000000   \n",
       "\n",
       "title                          Powder  Leaving Las Vegas   Othello  \\\n",
       "title                                                                \n",
       "Toy Story                    0.000000                0.0  0.000000   \n",
       "Jumanji                      0.000000                0.0  0.024285   \n",
       "Grumpier Old Men             0.000000                0.0  0.000000   \n",
       "Waiting to Exhale            0.007419                0.0  0.000000   \n",
       "Father of the Bride Part II  0.000000                0.0  0.000000   \n",
       "\n",
       "title                        Now and Then  Persuasion  \\\n",
       "title                                                   \n",
       "Toy Story                        0.000000    0.000000   \n",
       "Jumanji                          0.024941    0.006489   \n",
       "Grumpier Old Men                 0.000000    0.011910   \n",
       "Waiting to Exhale                0.000000    0.017338   \n",
       "Father of the Bride Part II      0.000000    0.010453   \n",
       "\n",
       "title                        The City of Lost Children  Shanghai Triad  \\\n",
       "title                                                                    \n",
       "Toy Story                                          0.0        0.000000   \n",
       "Jumanji                                            0.0        0.000000   \n",
       "Grumpier Old Men                                   0.0        0.010392   \n",
       "Waiting to Exhale                                  0.0        0.000000   \n",
       "Father of the Bride Part II                        0.0        0.000000   \n",
       "\n",
       "title                        Dangerous Minds  Twelve Monkeys  \\\n",
       "title                                                          \n",
       "Toy Story                           0.000000        0.000000   \n",
       "Jumanji                             0.000000        0.047250   \n",
       "Grumpier Old Men                    0.000000        0.006408   \n",
       "Waiting to Exhale                   0.020718        0.000000   \n",
       "Father of the Bride Part II         0.000000        0.000000   \n",
       "\n",
       "title                        Wings of Courage      Babe  Carrington  \\\n",
       "title                                                                 \n",
       "Toy Story                                 0.0  0.019831    0.000000   \n",
       "Jumanji                                   0.0  0.005560    0.004326   \n",
       "Grumpier Old Men                          0.0  0.006683    0.000000   \n",
       "Waiting to Exhale                         0.0  0.008459    0.000000   \n",
       "Father of the Bride Part II               0.0  0.012483    0.000000   \n",
       "\n",
       "title                        Dead Man Walking  Across the Sea of Time  \\\n",
       "title                                                                   \n",
       "Toy Story                            0.000000                0.000000   \n",
       "Jumanji                              0.000000                0.000000   \n",
       "Grumpier Old Men                     0.000000                0.005282   \n",
       "Waiting to Exhale                    0.007564                0.015534   \n",
       "Father of the Bride Part II          0.000000                0.008551   \n",
       "\n",
       "title                        It Takes Two  Clueless  Cry, the Beloved Country  \\\n",
       "title                                                                           \n",
       "Toy Story                             0.0       0.0                       0.0   \n",
       "Jumanji                               0.0       0.0                       0.0   \n",
       "Grumpier Old Men                      0.0       0.0                       0.0   \n",
       "Waiting to Exhale                     0.0       0.0                       0.0   \n",
       "Father of the Bride Part II           0.0       0.0                       0.0   \n",
       "\n",
       "title                        Richard III  Dead Presidents  Restoration  \\\n",
       "title                                                                    \n",
       "Toy Story                            0.0         0.000000     0.006348   \n",
       "Jumanji                              0.0         0.000000     0.000000   \n",
       "Grumpier Old Men                     0.0         0.000000     0.000000   \n",
       "Waiting to Exhale                    0.0         0.000000     0.000000   \n",
       "Father of the Bride Part II          0.0         0.012535     0.005066   \n",
       "\n",
       "title                        Mortal Kombat  To Die For  \\\n",
       "title                                                    \n",
       "Toy Story                         0.000000         0.0   \n",
       "Jumanji                           0.025758         0.0   \n",
       "Grumpier Old Men                  0.007480         0.0   \n",
       "Waiting to Exhale                 0.000000         0.0   \n",
       "Father of the Bride Part II       0.000000         0.0   \n",
       "\n",
       "title                        How To Make An American Quilt    Se7en  \\\n",
       "title                                                                 \n",
       "Toy Story                                         0.009321  0.00000   \n",
       "Jumanji                                           0.000000  0.01848   \n",
       "Grumpier Old Men                                  0.000000  0.00000   \n",
       "Waiting to Exhale                                 0.009875  0.00000   \n",
       "Father of the Bride Part II                       0.000000  0.00000   \n",
       "\n",
       "title                        Pocahontas  When Night Is Falling  \\\n",
       "title                                                            \n",
       "Toy Story                      0.000000               0.000000   \n",
       "Jumanji                        0.008127               0.000000   \n",
       "Grumpier Old Men               0.016500               0.016821   \n",
       "Waiting to Exhale              0.000000               0.000000   \n",
       "Father of the Bride Part II    0.026180               0.000000   \n",
       "\n",
       "title                        The Usual Suspects  ...  Kiss and Tell  \\\n",
       "title                                            ...                  \n",
       "Toy Story                              0.013822  ...       0.000000   \n",
       "Jumanji                                0.016429  ...       0.000000   \n",
       "Grumpier Old Men                       0.000000  ...       0.000000   \n",
       "Waiting to Exhale                      0.000000  ...       0.017565   \n",
       "Father of the Bride Part II            0.000000  ...       0.027553   \n",
       "\n",
       "title                        Oui, mais...  Space Adventure Cobra  \\\n",
       "title                                                              \n",
       "Toy Story                             0.0               0.011365   \n",
       "Jumanji                               0.0               0.004063   \n",
       "Grumpier Old Men                      0.0               0.000000   \n",
       "Waiting to Exhale                     0.0               0.003453   \n",
       "Father of the Bride Part II           0.0               0.028289   \n",
       "\n",
       "title                        L'aventure c'est l'aventure  \\\n",
       "title                                                      \n",
       "Toy Story                                            0.0   \n",
       "Jumanji                                              0.0   \n",
       "Grumpier Old Men                                     0.0   \n",
       "Waiting to Exhale                                    0.0   \n",
       "Father of the Bride Part II                          0.0   \n",
       "\n",
       "title                        A Season for Miracles  The Awful Truth      1911  \\\n",
       "title                                                                           \n",
       "Toy Story                                 0.000000              0.0  0.011791   \n",
       "Jumanji                                   0.000000              0.0  0.006281   \n",
       "Grumpier Old Men                          0.007415              0.0  0.000000   \n",
       "Waiting to Exhale                         0.000000              0.0  0.017731   \n",
       "Father of the Bride Part II               0.013640              0.0  0.000000   \n",
       "\n",
       "title                        Looking for Jackie  The Shaolin Temple  \\\n",
       "title                                                                 \n",
       "Toy Story                              0.014688            0.013539   \n",
       "Jumanji                                0.000000            0.000000   \n",
       "Grumpier Old Men                       0.000000            0.000000   \n",
       "Waiting to Exhale                      0.011984            0.000000   \n",
       "Father of the Bride Part II            0.000000            0.000000   \n",
       "\n",
       "title                        Shaolin Temple 2: Kids from Shaolin  \\\n",
       "title                                                              \n",
       "Toy Story                                               0.007355   \n",
       "Jumanji                                                 0.000000   \n",
       "Grumpier Old Men                                        0.015443   \n",
       "Waiting to Exhale                                       0.000000   \n",
       "Father of the Bride Part II                             0.009036   \n",
       "\n",
       "title                        Carol Channing: Larger Than Life    Memory  \\\n",
       "title                                                                     \n",
       "Toy Story                                            0.011161  0.000000   \n",
       "Jumanji                                              0.030391  0.000000   \n",
       "Grumpier Old Men                                     0.000000  0.007561   \n",
       "Waiting to Exhale                                    0.000000  0.000000   \n",
       "Father of the Bride Part II                          0.009067  0.000000   \n",
       "\n",
       "title                        Martial Arts of Shaolin  Snowmageddon  \\\n",
       "title                                                                \n",
       "Toy Story                                    0.01452      0.000000   \n",
       "Jumanji                                      0.00000      0.027595   \n",
       "Grumpier Old Men                             0.00000      0.031215   \n",
       "Waiting to Exhale                            0.00000      0.007155   \n",
       "Father of the Bride Part II                  0.00000      0.008951   \n",
       "\n",
       "title                        Stand Up and Fight  Jazz   Barbara  \\\n",
       "title                                                             \n",
       "Toy Story                              0.000000   0.0  0.000000   \n",
       "Jumanji                                0.043131   0.0  0.011296   \n",
       "Grumpier Old Men                       0.000000   0.0  0.000000   \n",
       "Waiting to Exhale                      0.000000   0.0  0.000000   \n",
       "Father of the Bride Part II            0.000000   0.0  0.000000   \n",
       "\n",
       "title                        A Liar's Autobiography: The Untrue Story of Monty Python's Graham Chapman  \\\n",
       "title                                                                                                    \n",
       "Toy Story                                                                                     0.000000   \n",
       "Jumanji                                                                                       0.000000   \n",
       "Grumpier Old Men                                                                              0.014109   \n",
       "Waiting to Exhale                                                                             0.000000   \n",
       "Father of the Bride Part II                                                                   0.000000   \n",
       "\n",
       "title                        Little Miss Broadway  Miss Annie Rooney  \\\n",
       "title                                                                  \n",
       "Toy Story                                0.019853           0.027106   \n",
       "Jumanji                                  0.000000           0.000000   \n",
       "Grumpier Old Men                         0.000000           0.009995   \n",
       "Waiting to Exhale                        0.000000           0.023705   \n",
       "Father of the Bride Part II              0.023089           0.000000   \n",
       "\n",
       "title                        Mr. Belvedere Goes to College  \\\n",
       "title                                                        \n",
       "Toy Story                                          0.00000   \n",
       "Jumanji                                            0.00000   \n",
       "Grumpier Old Men                                   0.02621   \n",
       "Waiting to Exhale                                  0.00000   \n",
       "Father of the Bride Part II                        0.00000   \n",
       "\n",
       "title                        The Hobbit: An Unexpected Journey  \\\n",
       "title                                                            \n",
       "Toy Story                                             0.000000   \n",
       "Jumanji                                               0.000000   \n",
       "Grumpier Old Men                                      0.000000   \n",
       "Waiting to Exhale                                     0.000000   \n",
       "Father of the Bride Part II                           0.014366   \n",
       "\n",
       "title                        Mon Paradis - Der Winterpalast  \\\n",
       "title                                                         \n",
       "Toy Story                                               0.0   \n",
       "Jumanji                                                 0.0   \n",
       "Grumpier Old Men                                        0.0   \n",
       "Waiting to Exhale                                       0.0   \n",
       "Father of the Bride Part II                             0.0   \n",
       "\n",
       "title                        No Flesh Shall Be Spared  \\\n",
       "title                                                   \n",
       "Toy Story                                         0.0   \n",
       "Jumanji                                           0.0   \n",
       "Grumpier Old Men                                  0.0   \n",
       "Waiting to Exhale                                 0.0   \n",
       "Father of the Bride Part II                       0.0   \n",
       "\n",
       "title                        I am Von Höfler Variation on Werther  \\\n",
       "title                                                               \n",
       "Toy Story                                                0.000000   \n",
       "Jumanji                                                  0.007418   \n",
       "Grumpier Old Men                                         0.006808   \n",
       "Waiting to Exhale                                        0.000000   \n",
       "Father of the Bride Part II                              0.042243   \n",
       "\n",
       "title                        Born to Defend  Dragon Fight  The Master  \\\n",
       "title                                                                   \n",
       "Toy Story                           0.00000      0.117982    0.000000   \n",
       "Jumanji                             0.01348      0.009529    0.000000   \n",
       "Grumpier Old Men                    0.00000      0.015605    0.000000   \n",
       "Waiting to Exhale                   0.00000      0.005440    0.011392   \n",
       "Father of the Bride Part II         0.00000      0.010164    0.000000   \n",
       "\n",
       "title                        Kung Fu Cult Master  \\\n",
       "title                                              \n",
       "Toy Story                                    0.0   \n",
       "Jumanji                                      0.0   \n",
       "Grumpier Old Men                             0.0   \n",
       "Waiting to Exhale                            0.0   \n",
       "Father of the Bride Part II                  0.0   \n",
       "\n",
       "title                        The Fitzgerald Family Christmas  \\\n",
       "title                                                          \n",
       "Toy Story                                           0.000000   \n",
       "Jumanji                                             0.060063   \n",
       "Grumpier Old Men                                    0.023065   \n",
       "Waiting to Exhale                                   0.000000   \n",
       "Father of the Bride Part II                         0.018671   \n",
       "\n",
       "title                        Hyde Park on Hudson  Lay the Favorite  \\\n",
       "title                                                                \n",
       "Toy Story                                    0.0               0.0   \n",
       "Jumanji                                      0.0               0.0   \n",
       "Grumpier Old Men                             0.0               0.0   \n",
       "Waiting to Exhale                            0.0               0.0   \n",
       "Father of the Bride Part II                  0.0               0.0   \n",
       "\n",
       "title                        Audition/Talent Competition  All's Faire in Love  \\\n",
       "title                                                                           \n",
       "Toy Story                                       0.000000             0.000000   \n",
       "Jumanji                                         0.000000             0.013191   \n",
       "Grumpier Old Men                                0.016035             0.000000   \n",
       "Waiting to Exhale                               0.000000             0.000000   \n",
       "Father of the Bride Part II                     0.000000             0.000000   \n",
       "\n",
       "title                        Crooked Arrows  The Enforcer  \\\n",
       "title                                                       \n",
       "Toy Story                          0.000000      0.000000   \n",
       "Jumanji                            0.000000      0.000000   \n",
       "Grumpier Old Men                   0.000000      0.010563   \n",
       "Waiting to Exhale                  0.021712      0.000000   \n",
       "Father of the Bride Part II        0.000000      0.015346   \n",
       "\n",
       "title                        Dr. Wai in the Scriptures with No Words  \\\n",
       "title                                                                  \n",
       "Toy Story                                                        0.0   \n",
       "Jumanji                                                          0.0   \n",
       "Grumpier Old Men                                                 0.0   \n",
       "Waiting to Exhale                                                0.0   \n",
       "Father of the Bride Part II                                      0.0   \n",
       "\n",
       "title                        Once Upon a Time in China and America  \\\n",
       "title                                                                \n",
       "Toy Story                                                  0.00000   \n",
       "Jumanji                                                    0.00000   \n",
       "Grumpier Old Men                                           0.00914   \n",
       "Waiting to Exhale                                          0.00000   \n",
       "Father of the Bride Part II                                0.00000   \n",
       "\n",
       "title                        Contract Killer  The Executor  \\\n",
       "title                                                        \n",
       "Toy Story                                0.0           0.0   \n",
       "Jumanji                                  0.0           0.0   \n",
       "Grumpier Old Men                         0.0           0.0   \n",
       "Waiting to Exhale                        0.0           0.0   \n",
       "Father of the Bride Part II              0.0           0.0   \n",
       "\n",
       "title                        Never Say... Never!    Calmos  \\\n",
       "title                                                        \n",
       "Toy Story                               0.000000  0.009979   \n",
       "Jumanji                                 0.029242  0.000000   \n",
       "Grumpier Old Men                        0.000000  0.000000   \n",
       "Waiting to Exhale                       0.008305  0.000000   \n",
       "Father of the Bride Part II             0.009277  0.000000   \n",
       "\n",
       "title                        How to Make Love to a Woman  After Fall, Winter  \\\n",
       "title                                                                          \n",
       "Toy Story                                       0.060997            0.000000   \n",
       "Jumanji                                         0.000000            0.004271   \n",
       "Grumpier Old Men                                0.000000            0.000000   \n",
       "Waiting to Exhale                               0.008952            0.000000   \n",
       "Father of the Bride Part II                     0.000000            0.025417   \n",
       "\n",
       "title                        Violeta Went to Heaven  Rebellion  Versailles  \\\n",
       "title                                                                        \n",
       "Toy Story                                       0.0        0.0    0.024585   \n",
       "Jumanji                                         0.0        0.0    0.000000   \n",
       "Grumpier Old Men                                0.0        0.0    0.000000   \n",
       "Waiting to Exhale                               0.0        0.0    0.000000   \n",
       "Father of the Bride Part II                     0.0        0.0    0.078359   \n",
       "\n",
       "title                        Two in the Wave  \\\n",
       "title                                          \n",
       "Toy Story                                0.0   \n",
       "Jumanji                                  0.0   \n",
       "Grumpier Old Men                         0.0   \n",
       "Waiting to Exhale                        0.0   \n",
       "Father of the Bride Part II              0.0   \n",
       "\n",
       "title                        Lotte Reiniger: Homage to the Inventor of the Silhouette Film  \\\n",
       "title                                                                                        \n",
       "Toy Story                                                                              0.0   \n",
       "Jumanji                                                                                0.0   \n",
       "Grumpier Old Men                                                                       0.0   \n",
       "Waiting to Exhale                                                                      0.0   \n",
       "Father of the Bride Part II                                                            0.0   \n",
       "\n",
       "title                        RKO Production 601: The Making of 'Kong, the Eighth Wonder of the World'  \n",
       "title                                                                                                  \n",
       "Toy Story                                                                                         0.0  \n",
       "Jumanji                                                                                           0.0  \n",
       "Grumpier Old Men                                                                                  0.0  \n",
       "Waiting to Exhale                                                                                 0.0  \n",
       "Father of the Bride Part II                                                                       0.0  \n",
       "\n",
       "[5 rows x 20000 columns]"
      ]
     },
     "execution_count": 35,
     "metadata": {},
     "output_type": "execute_result"
    }
   ],
   "source": [
    "df_cs = pd.DataFrame(cosine_sim,columns = data[\"title\"], index =data[\"title\"] )  # 사실은 overview - overview 의 유사도데이터지만, \"영화\"의 overview 라서 타이틀 적었다\n",
    "df_cs.head()"
   ]
  },
  {
   "cell_type": "markdown",
   "id": "e9e9b006-602e-4fc5-902a-4beb8fbe86d5",
   "metadata": {
    "tags": []
   },
   "source": [
    "## 영화 추천 함수 >> 유사도가 가장 비슷한 영화 10개"
   ]
  },
  {
   "cell_type": "markdown",
   "id": "3fc51a50-026e-400e-b328-c7a75d73b8f8",
   "metadata": {
    "tags": []
   },
   "source": [
    "### df활용"
   ]
  },
  {
   "cell_type": "code",
   "execution_count": 36,
   "id": "5172e9c9-bfb5-4b2a-b979-6164b62fa59c",
   "metadata": {
    "tags": []
   },
   "outputs": [],
   "source": [
    "def my_top10_movies(title, cosine_sim=cosine_sim):\n",
    "    \n",
    "    cos_sim_arr = df_cs.loc[title].sort_values(ascending = False)\n",
    "\n",
    "    print(cos_sim_arr[1:11])  # 자기자신을 제외하기 위해서 [1:11] 슬라이싱\n"
   ]
  },
  {
   "cell_type": "code",
   "execution_count": 37,
   "id": "84517e88-013d-4bfc-a085-8c5c5376b628",
   "metadata": {
    "tags": []
   },
   "outputs": [
    {
     "name": "stdout",
     "output_type": "stream",
     "text": [
      "title\n",
      "Toy Story 3               0.525823\n",
      "Toy Story 2               0.462639\n",
      "The 40 Year Old Virgin    0.279554\n",
      "The Champ                 0.200686\n",
      "Rebel Without a Cause     0.182730\n",
      "For Your Consideration    0.156892\n",
      "Condorman                 0.152734\n",
      "Man on the Moon           0.143199\n",
      "Malice                    0.137511\n",
      "Factory Girl              0.133607\n",
      "Name: Toy Story, dtype: float64\n"
     ]
    }
   ],
   "source": [
    "my_top10_movies(\"Toy Story\")"
   ]
  },
  {
   "cell_type": "markdown",
   "id": "c48edeb2-86e7-4b6d-a31a-20b485ddab33",
   "metadata": {
    "tags": []
   },
   "source": [
    "### 교과서(비추비추)\n",
    "* movie_dict = {\"title\":index}"
   ]
  },
  {
   "cell_type": "code",
   "execution_count": 38,
   "id": "4f87fc29-ef13-441e-adfa-614d46f387f2",
   "metadata": {
    "tags": []
   },
   "outputs": [
    {
     "name": "stdout",
     "output_type": "stream",
     "text": [
      "4\n"
     ]
    }
   ],
   "source": [
    "# 검색을 위한 색인만들기\n",
    "title_to_index = dict(zip(data['title'], data.index))\n",
    "# 영화 제목 Father of the Bride Part II의 인덱스를 리턴\n",
    "idx = title_to_index['Father of the Bride Part II']\n",
    "print(idx)"
   ]
  },
  {
   "cell_type": "code",
   "execution_count": 39,
   "id": "7de550a3-3833-4f7b-88f2-441be23c6ac1",
   "metadata": {
    "tags": []
   },
   "outputs": [
    {
     "data": {
      "text/plain": [
       "'Father of the Bride Part II'"
      ]
     },
     "execution_count": 39,
     "metadata": {},
     "output_type": "execute_result"
    }
   ],
   "source": [
    "data.loc[4,\"title\"]"
   ]
  },
  {
   "cell_type": "code",
   "execution_count": 40,
   "id": "67bfa2ad-cf89-44e5-94e0-3b7c482bb869",
   "metadata": {
    "tags": []
   },
   "outputs": [],
   "source": [
    "# def my_top10_movies(title, cosine_sim=cosine_sim):\n",
    "#     # 선택한 영화의 타이틀로부터 해당 영화의 인덱스를 받아온다.\n",
    "#     idx = title_to_index[title]\n",
    "\n",
    "#     # 해당 영화와 모든 영화와의 유사도를 가져온다.\n",
    "#     sim_scores = list(enumerate(cosine_sim[idx]))\n",
    "\n",
    "#     # 유사도에 따라 영화들을 정렬한다.\n",
    "#     sim_scores = sorted(sim_scores, key=lambda x: x[1], reverse=True)\n",
    "\n",
    "#     # 가장 유사한 10개의 영화를 받아온다.\n",
    "#     sim_scores = sim_scores[1:11]\n",
    "\n",
    "#     # 가장 유사한 10개의 영화의 인덱스를 얻는다.\n",
    "#     movie_indices = [idx[0] for idx in sim_scores]\n",
    "\n",
    "#     # 가장 유사한 10개의 영화의 제목을 리턴한다.\n",
    "#     return data['title'].iloc[movie_indices]"
   ]
  }
 ],
 "metadata": {
  "kernelspec": {
   "display_name": "Python 3 (ipykernel)",
   "language": "python",
   "name": "python3"
  },
  "language_info": {
   "codemirror_mode": {
    "name": "ipython",
    "version": 3
   },
   "file_extension": ".py",
   "mimetype": "text/x-python",
   "name": "python",
   "nbconvert_exporter": "python",
   "pygments_lexer": "ipython3",
   "version": "3.8.8"
  },
  "toc-autonumbering": true
 },
 "nbformat": 4,
 "nbformat_minor": 5
}
