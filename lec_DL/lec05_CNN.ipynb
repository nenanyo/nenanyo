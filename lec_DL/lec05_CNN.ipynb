{
 "cells": [
  {
   "cell_type": "markdown",
   "id": "8daf7452-1c24-498f-afe8-9aecefcd7019",
   "metadata": {},
   "source": [
    "# lec05_CNN(Convlution NN)\n",
    "* 합성곱신경망\n"
   ]
  },
  {
   "cell_type": "markdown",
   "id": "d3a45ec3-f5d0-466e-a802-af5b6a51df60",
   "metadata": {},
   "source": [
    "<img src =\"https://miro.medium.com/v2/resize:fit:640/format:webp/1*uAeANQIOQPqWZnnuH-VEyw.jpeg\">"
   ]
  },
  {
   "cell_type": "code",
   "execution_count": 1,
   "id": "9d2b126e-47fc-4cd7-b88d-2a431afab380",
   "metadata": {},
   "outputs": [
    {
     "data": {
      "text/html": [
       "<style>.container{width:100% !important;}</style>"
      ],
      "text/plain": [
       "<IPython.core.display.HTML object>"
      ]
     },
     "metadata": {},
     "output_type": "display_data"
    }
   ],
   "source": [
    "import numpy as np\n",
    "import pandas as pd\n",
    "\n",
    "import matplotlib.pyplot as plt\n",
    "import seaborn as sns\n",
    "\n",
    "\n",
    "sns.set()\n",
    "\n",
    "#-------------------- 차트 관련 속성 (한글처리, 그리드) -----------\n",
    "plt.rcParams['font.family']= 'Malgun Gothic'\n",
    "plt.rcParams['axes.unicode_minus'] = False\n",
    "\n",
    "#-------------------- 주피터 , 출력결과 넓이 늘리기 ---------------\n",
    "# from IPython.core.display import display, HTML\n",
    "from IPython.display import display, HTML\n",
    "\n",
    "display(HTML(\"<style>.container{width:100% !important;}</style>\"))\n",
    "pd.set_option('display.max_rows', 100)\n",
    "pd.set_option('display.max_columns', 100)\n",
    "pd.set_option('max_colwidth', None)\n",
    "\n",
    "import warnings\n",
    "warnings.filterwarnings(action='ignore')"
   ]
  },
  {
   "cell_type": "code",
   "execution_count": 2,
   "id": "5026e2c9-4cab-4d53-b4ae-c7b16d774290",
   "metadata": {
    "tags": []
   },
   "outputs": [],
   "source": [
    "import pandas_profiling\n",
    "\n",
    "# ----------------- 학습 ----------------------\n",
    "from sklearn.model_selection import train_test_split, cross_val_score\n",
    "from sklearn.preprocessing import StandardScaler, MinMaxScaler, RobustScaler\n",
    "\n",
    "# ----------------- 모델 ----------------------\n",
    "from sklearn.tree import DecisionTreeClassifier\n",
    "from sklearn.linear_model import LogisticRegression\n",
    "from sklearn.linear_model import Ridge\n",
    "\n",
    "# ----------------- 평가 ----------------------\n",
    "from sklearn.metrics import confusion_matrix\n",
    "\n",
    "from sklearn.metrics import classification_report\n",
    "from sklearn.metrics import accuracy_score,mean_squared_error\n",
    "from sklearn.metrics import f1_score, precision_score, recall_score\n",
    "from sklearn.metrics import precision_recall_curve, plot_precision_recall_curve\n",
    "\n",
    "from sklearn.metrics import roc_auc_score, roc_curve, plot_roc_curve"
   ]
  },
  {
   "cell_type": "code",
   "execution_count": 3,
   "id": "448c77c1-778e-4305-840b-fce047feabe3",
   "metadata": {
    "tags": []
   },
   "outputs": [],
   "source": [
    "from sklearn.model_selection import train_test_split, cross_val_score\n",
    "from sklearn.metrics import confusion_matrix,accuracy_score,mean_squared_error,f1_score,\n",
    "\n",
    "from keras.models import Sequential\n",
    "from keras.layers import Dense\n",
    "import tensorflow as tf\n",
    "from keras.layers import Dropout, Conv2D, MaxPool2D, Flatten, Dense\n",
    "from keras.initializers import GlorotNormal,HeNormal,   RandomNormal, Zeros, Identity , Orthogonal , Constant , VarianceScaling\n"
   ]
  },
  {
   "cell_type": "markdown",
   "id": "66a4cf01-5e65-4ae2-b403-87fc2330c606",
   "metadata": {},
   "source": [
    "# seed 고정"
   ]
  },
  {
   "cell_type": "code",
   "execution_count": 4,
   "id": "6e0e9ae3-e970-4c22-a5a1-36f80768f701",
   "metadata": {
    "tags": []
   },
   "outputs": [],
   "source": [
    "tf.random.set_seed(1)\n",
    "np.random.seed(1)"
   ]
  },
  {
   "cell_type": "markdown",
   "id": "6beaf546-5af1-438f-900e-adeeadcbba49",
   "metadata": {},
   "source": [
    "# data load"
   ]
  },
  {
   "cell_type": "code",
   "execution_count": 5,
   "id": "ff9689b6-b730-4f64-9781-319cb384778b",
   "metadata": {
    "tags": []
   },
   "outputs": [],
   "source": [
    "from keras.datasets import mnist"
   ]
  },
  {
   "cell_type": "code",
   "execution_count": 6,
   "id": "0b7c2613-c225-4560-bea1-8000118bd103",
   "metadata": {
    "tags": []
   },
   "outputs": [
    {
     "data": {
      "text/plain": [
       "((60000, 28, 28), (10000, 28, 28), (60000,), (10000,))"
      ]
     },
     "execution_count": 6,
     "metadata": {},
     "output_type": "execute_result"
    }
   ],
   "source": [
    "(X_train,y_train),(X_test, y_test) = mnist.load_data()  # (trainset), (testset)\n",
    "X_train.shape, X_test.shape, y_train.shape, y_test.shape"
   ]
  },
  {
   "cell_type": "code",
   "execution_count": 7,
   "id": "288588e2-4b8a-4b09-9fcb-83ee537a1f5f",
   "metadata": {
    "tags": []
   },
   "outputs": [
    {
     "data": {
      "text/plain": [
       "(1, 28, 28)"
      ]
     },
     "execution_count": 7,
     "metadata": {},
     "output_type": "execute_result"
    }
   ],
   "source": [
    "X_train[:1].shape # 1장, 28 * 28"
   ]
  },
  {
   "cell_type": "code",
   "execution_count": 8,
   "id": "1f65b5f8-14f5-4017-ac53-70ea6da32c1e",
   "metadata": {
    "tags": []
   },
   "outputs": [
    {
     "data": {
      "text/plain": [
       "array([5], dtype=uint8)"
      ]
     },
     "execution_count": 8,
     "metadata": {},
     "output_type": "execute_result"
    }
   ],
   "source": [
    "y_train[:1]"
   ]
  },
  {
   "cell_type": "markdown",
   "id": "b45e7fad-0f6c-4057-9927-c53810e51b10",
   "metadata": {},
   "source": [
    "# 전처리 & 가공"
   ]
  },
  {
   "cell_type": "markdown",
   "id": "0de083d3-0868-4a89-a69f-5c7a333fafd5",
   "metadata": {},
   "source": [
    "## flatten"
   ]
  },
  {
   "cell_type": "code",
   "execution_count": 9,
   "id": "78e03d6b-ce6f-4f50-8941-77fd1dfd050a",
   "metadata": {
    "tags": []
   },
   "outputs": [],
   "source": [
    "X_train = X_train.reshape(-1,784)\n",
    "X_test = X_test.reshape(-1,784)"
   ]
  },
  {
   "cell_type": "markdown",
   "id": "cf70f197-5cdf-4785-a8da-b05cc203775f",
   "metadata": {},
   "source": [
    "## 정규화"
   ]
  },
  {
   "cell_type": "code",
   "execution_count": 10,
   "id": "12853b8f-9c51-4372-9277-dbb31bb24f38",
   "metadata": {
    "tags": []
   },
   "outputs": [],
   "source": [
    "X_train_sc = X_train / 255.0\n",
    "# 소숫점으로 나와야 되니까 255.0으로 나눈다  >> 확실히 float으로 할려고\n",
    "X_test_sc  = X_test / 255.0\n",
    "# X_train[:1]"
   ]
  },
  {
   "cell_type": "markdown",
   "id": "181382e2-70d6-4eef-b041-37cf88820b78",
   "metadata": {},
   "source": [
    "# 모델"
   ]
  },
  {
   "cell_type": "markdown",
   "id": "1eec957a-9f28-4ed9-a2af-3862ba553352",
   "metadata": {},
   "source": [
    "<pre>\n",
    "<b>tf.keras.layers.Conv2D(filters, \n",
    "    kernel_size, \n",
    "    strides=(1, 1),\n",
    "    padding='valid'(패딩 없다),\n",
    "    activation=None,\n",
    "    kernel_initializer(배치 정규화)='glorot_uniform',</b>\n",
    "    data_format=None,\n",
    "    dilation_rate=(1, 1),\n",
    "    groups=1,    \n",
    "    use_bias=True,    \n",
    "    bias_initializer='zeros',\n",
    "    kernel_regularizer=None,\n",
    "    bias_regularizer=None,\n",
    "    activity_regularizer=None,\n",
    "    kernel_constraint=None,\n",
    "    bias_constraint=None,\n",
    "    **kwargs\n",
    ")"
   ]
  },
  {
   "cell_type": "markdown",
   "id": "d88700d0-99fe-491b-a283-bf9de3521188",
   "metadata": {},
   "source": [
    "<pre>\n",
    "tf.keras.layers.MaxPool2D(\n",
    "    pool_size=(2, 2),\n",
    "    strides=None,\n",
    "    padding='valid',\n",
    "    data_format=None,\n",
    "    **kwargs\n",
    ")"
   ]
  },
  {
   "cell_type": "markdown",
   "id": "c3c5ab5e-cdf9-4e66-b04f-4801a20bbe47",
   "metadata": {},
   "source": [
    "## reshape prac"
   ]
  },
  {
   "cell_type": "code",
   "execution_count": 11,
   "id": "ab0e4044-9a8f-496b-a6ce-dde487172827",
   "metadata": {
    "tags": []
   },
   "outputs": [
    {
     "data": {
      "text/plain": [
       "(100, 28, 28)"
      ]
     },
     "execution_count": 11,
     "metadata": {},
     "output_type": "execute_result"
    }
   ],
   "source": [
    "arr = np.arange(78400)\n",
    "re_arr = arr.reshape(-1,28,28)\n",
    "re_arr.shape"
   ]
  },
  {
   "cell_type": "code",
   "execution_count": 12,
   "id": "093bc920-268a-42cc-aff0-ff998db71883",
   "metadata": {
    "tags": []
   },
   "outputs": [
    {
     "data": {
      "text/plain": [
       "(100, 784)"
      ]
     },
     "execution_count": 12,
     "metadata": {},
     "output_type": "execute_result"
    }
   ],
   "source": [
    "re_arr = re_arr.reshape(-1,28*28)\n",
    "re_arr.shape"
   ]
  },
  {
   "cell_type": "code",
   "execution_count": 13,
   "id": "5c71ba75-74a7-4869-a6e1-5afe2e789ce4",
   "metadata": {
    "tags": []
   },
   "outputs": [
    {
     "data": {
      "text/plain": [
       "(100, 28, 28, 1)"
      ]
     },
     "execution_count": 13,
     "metadata": {},
     "output_type": "execute_result"
    }
   ],
   "source": [
    "re_arr = re_arr = re_arr.reshape(-1,28,28,1)\n",
    "re_arr.shape"
   ]
  },
  {
   "cell_type": "code",
   "execution_count": 14,
   "id": "24db29d5-b235-4756-b8d6-70b0c86c6038",
   "metadata": {
    "tags": []
   },
   "outputs": [
    {
     "data": {
      "text/plain": [
       "(60000, 784)"
      ]
     },
     "execution_count": 14,
     "metadata": {},
     "output_type": "execute_result"
    }
   ],
   "source": [
    "X_train_sc.shape\n",
    "# X_train_sc= X_train_sc.reshape(60000,28,-1)"
   ]
  },
  {
   "cell_type": "code",
   "execution_count": 15,
   "id": "af3aee08-7635-43a0-a2f4-d3869ccedc03",
   "metadata": {
    "tags": []
   },
   "outputs": [
    {
     "data": {
      "text/plain": [
       "(28, 28, 1)"
      ]
     },
     "execution_count": 15,
     "metadata": {},
     "output_type": "execute_result"
    }
   ],
   "source": [
    "re_arr[1,... ].shape\n",
    "# 차원 축소"
   ]
  },
  {
   "cell_type": "code",
   "execution_count": 16,
   "id": "8760327c-cdb9-456b-a6ba-d69d93e0905b",
   "metadata": {
    "tags": []
   },
   "outputs": [
    {
     "name": "stdout",
     "output_type": "stream",
     "text": [
      "(1, 100, 28, 28, 1) (100, 1, 28, 28, 1)\n"
     ]
    }
   ],
   "source": [
    "print(np.expand_dims(re_arr,axis=0).shape,\n",
    "\n",
    "np.expand_dims(re_arr,axis=1).shape)"
   ]
  },
  {
   "cell_type": "markdown",
   "id": "498bfd49-0886-4bc6-b53e-a0fa78afe392",
   "metadata": {},
   "source": [
    "## reshape 실전"
   ]
  },
  {
   "cell_type": "markdown",
   "id": "64856b70-bbfa-4230-9075-cc27f6c1a25d",
   "metadata": {},
   "source": [
    "* X_train_sc.shape >>> (60000, 28, 28, 1) /// input_shape=(28,28,1)\n",
    "    - 장수 뺀 나머지 입력!!!, 나중에 데이터 추가 할 수도 있다, 몇 장을 넣어도 모델 학습!!"
   ]
  },
  {
   "cell_type": "code",
   "execution_count": 17,
   "id": "cdcb45a4-595c-4cd2-9570-f49c30e8ccba",
   "metadata": {
    "tags": []
   },
   "outputs": [
    {
     "data": {
      "text/plain": [
       "(60000, 28, 28, 1)"
      ]
     },
     "execution_count": 17,
     "metadata": {},
     "output_type": "execute_result"
    }
   ],
   "source": [
    "X_train_sc = X_train_sc.reshape(-1,28,28)\n",
    "X_train_sc = X_train_sc[:,:,:,None]\n",
    "X_train_sc.shape\n"
   ]
  },
  {
   "cell_type": "code",
   "execution_count": 19,
   "id": "4e0e4ecc-cc0e-401a-a2b3-cc281fd4e288",
   "metadata": {
    "tags": []
   },
   "outputs": [
    {
     "data": {
      "text/plain": [
       "(10000, 28, 28, 1)"
      ]
     },
     "execution_count": 19,
     "metadata": {},
     "output_type": "execute_result"
    }
   ],
   "source": [
    "X_test_sc = X_test_sc.reshape(-1,28,28)\n",
    "X_test_sc = X_test_sc[:,:,:,None]\n",
    "X_test_sc.shape\n"
   ]
  },
  {
   "cell_type": "code",
   "execution_count": 20,
   "id": "f0081fcc-c43e-4c76-886d-8da658ae435e",
   "metadata": {
    "tags": []
   },
   "outputs": [
    {
     "name": "stdout",
     "output_type": "stream",
     "text": [
      "Model: \"sequential\"\n",
      "_________________________________________________________________\n",
      " Layer (type)                Output Shape              Param #   \n",
      "=================================================================\n",
      " conv2d (Conv2D)             (None, 24, 24, 16)        416       \n",
      "                                                                 \n",
      " max_pooling2d (MaxPooling2D  (None, 12, 12, 16)       0         \n",
      " )                                                               \n",
      "                                                                 \n",
      " conv2d_1 (Conv2D)           (None, 8, 8, 16)          6416      \n",
      "                                                                 \n",
      " max_pooling2d_1 (MaxPooling  (None, 4, 4, 16)         0         \n",
      " 2D)                                                             \n",
      "                                                                 \n",
      " flatten (Flatten)           (None, 256)               0         \n",
      "                                                                 \n",
      " dense (Dense)               (None, 50)                12850     \n",
      "                                                                 \n",
      " dense_1 (Dense)             (None, 10)                510       \n",
      "                                                                 \n",
      "=================================================================\n",
      "Total params: 20,192\n",
      "Trainable params: 20,192\n",
      "Non-trainable params: 0\n",
      "_________________________________________________________________\n"
     ]
    }
   ],
   "source": [
    "model = Sequential()\n",
    "\n",
    "\n",
    "#-----------------CNN\n",
    "\n",
    "\n",
    "model.add(Conv2D(filters=16, input_shape=(28,28,1), kernel_size=(5,5), strides=(1, 1),padding='valid',activation=\"relu\",kernel_initializer='glorot_uniform'))\n",
    "# 내보내는 필터갯수가 16 \n",
    "model.add(MaxPool2D(pool_size=(2, 2),strides=None,padding='valid',data_format=None))\n",
    "# 필터 갯수 지정 안 한다, 사이즈 조정만 하는 거니까\n",
    "model.add(Conv2D(filters=16, kernel_size=(5,5),activation=\"relu\"))\n",
    "# 내보내는 필터갯수가 16 \n",
    "model.add(MaxPool2D(pool_size=(2, 2)))\n",
    "\n",
    "\n",
    "#-----------------Fully Connected\n",
    "\n",
    "model.add(Flatten())\n",
    "model.add(Dense(units=50,  activation='relu'))    \n",
    "model.add(Dense(units=10,  activation='softmax')) \n",
    "model.compile(loss='sparse_categorical_crossentropy', optimizer='Adam', metrics=['accuracy'])\n",
    "model.summary()"
   ]
  },
  {
   "cell_type": "code",
   "execution_count": null,
   "id": "2d51131f-a6d4-4c94-a0ef-39310797bbc2",
   "metadata": {
    "tags": []
   },
   "outputs": [],
   "source": [
    "# model = Sequential()\n",
    "# model.add(Dense(units=300, input_dim=784, activation='relu', kernel_initializer='glorot_normal')) #입력층\n",
    "# model.add(Dense(units=100,  activation='relu'))              #히든레이어\n",
    "# model.add(Dense(units=50,  activation='relu'))              #히든레이어\n",
    "# model.add(Dense(units=10,  activation='softmax'))           #3종 출력층\n",
    "# model.compile(loss='sparse_categorical_crossentropy', optimizer='Adam', metrics=['accuracy'])\n"
   ]
  },
  {
   "cell_type": "code",
   "execution_count": 21,
   "id": "0c5e0a12-11a1-4ef6-abae-b265fa7b7a67",
   "metadata": {},
   "outputs": [
    {
     "name": "stdout",
     "output_type": "stream",
     "text": [
      "Epoch 1/10\n",
      "375/375 [==============================] - 12s 29ms/step - loss: 0.3837 - accuracy: 0.8850 - val_loss: 0.1216 - val_accuracy: 0.9653\n",
      "Epoch 2/10\n",
      "375/375 [==============================] - 10s 28ms/step - loss: 0.1096 - accuracy: 0.9671 - val_loss: 0.1011 - val_accuracy: 0.9701\n",
      "Epoch 3/10\n",
      "375/375 [==============================] - 11s 28ms/step - loss: 0.0791 - accuracy: 0.9765 - val_loss: 0.0692 - val_accuracy: 0.9799\n",
      "Epoch 4/10\n",
      "375/375 [==============================] - 12s 31ms/step - loss: 0.0616 - accuracy: 0.9809 - val_loss: 0.0595 - val_accuracy: 0.9829\n",
      "Epoch 5/10\n",
      "375/375 [==============================] - 12s 31ms/step - loss: 0.0532 - accuracy: 0.9834 - val_loss: 0.0545 - val_accuracy: 0.9843\n",
      "Epoch 6/10\n",
      "375/375 [==============================] - 12s 31ms/step - loss: 0.0444 - accuracy: 0.9860 - val_loss: 0.0615 - val_accuracy: 0.9814\n",
      "Epoch 7/10\n",
      "375/375 [==============================] - 11s 31ms/step - loss: 0.0420 - accuracy: 0.9868 - val_loss: 0.0533 - val_accuracy: 0.9850\n",
      "Epoch 8/10\n",
      "375/375 [==============================] - 12s 31ms/step - loss: 0.0350 - accuracy: 0.9884 - val_loss: 0.0493 - val_accuracy: 0.9860\n",
      "Epoch 9/10\n",
      "375/375 [==============================] - 12s 31ms/step - loss: 0.0320 - accuracy: 0.9899 - val_loss: 0.0476 - val_accuracy: 0.9854\n",
      "Epoch 10/10\n",
      "375/375 [==============================] - 12s 31ms/step - loss: 0.0288 - accuracy: 0.9910 - val_loss: 0.0468 - val_accuracy: 0.9874\n",
      "<keras.callbacks.History object at 0x0000028940059C70>\n",
      "313/313 [==============================] - 1s 3ms/step - loss: 0.0367 - accuracy: 0.9874\n",
      "[0.03670008108019829, 0.9873999953269958]\n"
     ]
    }
   ],
   "source": [
    "fit_hisroty = model.fit(X_train_sc, y_train\n",
    "                        , batch_size = 128\n",
    "                        , validation_split=0.2, epochs=10)\n",
    "print(fit_hisroty)\n",
    "print ( model.evaluate(X_test_sc, y_test)  )\n",
    "# [0.03670008108019829, 0.9873999953269958]"
   ]
  },
  {
   "cell_type": "code",
   "execution_count": 22,
   "id": "8adba3a0-e547-4728-b4aa-39ee48357ac9",
   "metadata": {
    "tags": []
   },
   "outputs": [
    {
     "data": {
      "image/png": "[encoded data removed]",
      "text/plain": [
       "<Figure size 600x300 with 2 Axes>"
      ]
     },
     "metadata": {},
     "output_type": "display_data"
    }
   ],
   "source": [
    "plt.figure(figsize=(6,3))\n",
    "ax1 = plt.subplot(1,2,1)\n",
    "ax1.plot(fit_hisroty.history['loss']    , label='loss')\n",
    "ax1.plot(fit_hisroty.history['val_loss'], label='val_loss')\n",
    "ax1.legend()\n",
    "ax1.set_title(\"loss\")\n",
    "\n",
    "ax2 = plt.subplot(1,2,2)\n",
    "ax2.plot(fit_hisroty.history['accuracy']    , label='accuracy')\n",
    "ax2.plot(fit_hisroty.history['val_accuracy'], label='val_accuracy')\n",
    "ax2.legend()\n",
    "ax2.set_title(\"accuracy\")\n",
    "\n",
    "plt.show()"
   ]
  },
  {
   "cell_type": "markdown",
   "id": "e4a6bdab-9436-477d-9bc8-19134f4a467a",
   "metadata": {},
   "source": [
    "# 예측"
   ]
  },
  {
   "cell_type": "markdown",
   "id": "a83d5bf3-b129-46f1-8903-1a008723ba58",
   "metadata": {},
   "source": [
    "## 예측"
   ]
  },
  {
   "cell_type": "code",
   "execution_count": null,
   "id": "71027b87-7f40-4e74-b833-ae09dd0786ef",
   "metadata": {
    "tags": []
   },
   "outputs": [],
   "source": [
    "proba = model.predict(X_test_sc)\n",
    "y_test.shape"
   ]
  },
  {
   "cell_type": "code",
   "execution_count": null,
   "id": "788bca28-7c35-4948-858c-2da48f2316d7",
   "metadata": {
    "tags": []
   },
   "outputs": [],
   "source": [
    "pred = np.argmax(proba, axis=1)\n",
    "y_test = np.argmax(y_test, axis=1)\n",
    "print(pred[:3], y_test)"
   ]
  },
  {
   "cell_type": "markdown",
   "id": "7958c117-2780-4ab7-8b3e-c2884141bdc8",
   "metadata": {},
   "source": [
    "<pre>\n",
    "다층 퍼셉트론  >> 은닉층 하나\n",
    "심층신경망 DNN >> 은닉층 최소 2개"
   ]
  },
  {
   "cell_type": "code",
   "execution_count": null,
   "id": "11eaaee4-0ca7-4b94-9316-e58b7191baeb",
   "metadata": {},
   "outputs": [],
   "source": []
  }
 ],
 "metadata": {
  "kernelspec": {
   "display_name": "Python 3 (ipykernel)",
   "language": "python",
   "name": "python3"
  },
  "language_info": {
   "codemirror_mode": {
    "name": "ipython",
    "version": 3
   },
   "file_extension": ".py",
   "mimetype": "text/x-python",
   "name": "python",
   "nbconvert_exporter": "python",
   "pygments_lexer": "ipython3",
   "version": "3.8.8"
  },
  "toc-autonumbering": true
 },
 "nbformat": 4,
 "nbformat_minor": 5
}
