{
 "cells": [
  {
   "cell_type": "markdown",
   "id": "0d557b4b-18f3-4965-b960-f07644259dc1",
   "metadata": {
    "tags": []
   },
   "source": [
    "<font size=6><b>Lec08.NLP 언어모델\n",
    "* NLP (Natural Language Processing, 자연어 처리)   * 언어 모델(Language Model, LM)은 언어라는 현상을 모델링하고자 단어 시퀀스(문장)에 확률을 할당(assign)하는 모델 \n"
   ]
  },
  {
   "cell_type": "markdown",
   "id": "1e503efc-f3ba-4f4f-b154-6f9a042bc75f",
   "metadata": {
    "tags": []
   },
   "source": [
    "<font size=6><b>언어모델\n",
    "* N-gram\n",
    "* <b>빈도기반 \n",
    "    * <b>BoW(Bag of Words)\n",
    "    * <b>TF-IDF(Term Frequency - Inverse Document Frequency)\n",
    "* 코사인 유사도(Cosine Similarity)"
   ]
  },
  {
   "cell_type": "code",
   "execution_count": 1,
   "id": "57f40af9-4e3f-4aa4-8c9b-067b45c2fb29",
   "metadata": {},
   "outputs": [
    {
     "data": {
      "text/html": [
       "<style>.container{width:100% !important;}</style>"
      ],
      "text/plain": [
       "<IPython.core.display.HTML object>"
      ]
     },
     "metadata": {},
     "output_type": "display_data"
    }
   ],
   "source": [
    "import numpy as np\n",
    "import pandas as pd\n",
    "\n",
    "import matplotlib.pyplot as plt\n",
    "import seaborn as sns\n",
    "\n",
    "\n",
    "sns.set()\n",
    "\n",
    "#-------------------- 차트 관련 속성 (한글처리, 그리드) -----------\n",
    "plt.rcParams['font.family']= 'Malgun Gothic'\n",
    "plt.rcParams['axes.unicode_minus'] = False\n",
    "\n",
    "#-------------------- 주피터 , 출력결과 넓이 늘리기 ---------------\n",
    "# from IPython.core.display import display, HTML\n",
    "from IPython.display import display, HTML\n",
    "\n",
    "display(HTML(\"<style>.container{width:100% !important;}</style>\"))\n",
    "pd.set_option('display.max_rows', 100)\n",
    "pd.set_option('display.max_columns', 100)\n",
    "pd.set_option('max_colwidth', None)\n",
    "\n",
    "import warnings\n",
    "warnings.filterwarnings(action='ignore')"
   ]
  },
  {
   "cell_type": "markdown",
   "id": "68331642-5821-4953-af63-aedb5df54e3a",
   "metadata": {
    "tags": []
   },
   "source": [
    "# N-gram\n",
    "* 입력한 문자열을 N개의 기준 단위로 잘라서 분석하는 방법"
   ]
  },
  {
   "cell_type": "code",
   "execution_count": 2,
   "id": "9f1664f2-f976-4ecd-9f0f-f5888b931a2d",
   "metadata": {},
   "outputs": [
    {
     "name": "stdout",
     "output_type": "stream",
     "text": [
      "He\n",
      "el\n",
      "ll\n",
      "lo\n"
     ]
    }
   ],
   "source": [
    "text = 'Hello'\n",
    " \n",
    "for i in range(len(text) - 1):             # 2-gram이므로 문자열의 끝에서 한 글자 앞까지만 반복함\n",
    "    print(text[i], text[i + 1], sep='')    # 현재 문자와 그다음 문자 출력"
   ]
  },
  {
   "cell_type": "code",
   "execution_count": 3,
   "id": "81f02010-45cc-4879-9fa0-91cf4fa5ee0b",
   "metadata": {
    "tags": []
   },
   "outputs": [
    {
     "name": "stdout",
     "output_type": "stream",
     "text": [
      "this is\n",
      "is python\n",
      "python script\n"
     ]
    }
   ],
   "source": [
    "text = 'this is python script'\n",
    "words = text.split()                 # 공백을 기준으로 문자열을 분리하여 리스트로 만듦\n",
    " \n",
    "for i in range(len(words) - 1):      # 2-gram이므로 리스트의 마지막에서 요소 한 개 앞까지만 반복함\n",
    "    print(words[i], words[i + 1])    # 현재 문자열과 그다음 문자열 출력"
   ]
  },
  {
   "cell_type": "markdown",
   "id": "88a251fa-c5ae-4eb5-bea6-a02e73512188",
   "metadata": {
    "tags": []
   },
   "source": [
    "# BoW(Bag of Words)\n",
    "* 단어들의 순서는 전혀 고려하지 않고, 단어들의 출현 빈도(frequency)에만 집중하는 텍스트 데이터의 수치화 표현 방법"
   ]
  },
  {
   "cell_type": "markdown",
   "id": "bc94fa72-f373-4b99-b354-2d78fd8254ea",
   "metadata": {},
   "source": [
    "* dictionary items()"
   ]
  },
  {
   "cell_type": "code",
   "execution_count": 4,
   "id": "2b6d3289-652b-4cb2-9a0e-d78e67e8ff9c",
   "metadata": {
    "tags": []
   },
   "outputs": [
    {
     "name": "stdout",
     "output_type": "stream",
     "text": [
      "dict_items([('no', 111), ('name', '홍길동')])\n",
      "dict_keys(['no', 'name'])\n",
      "dict_values([111, '홍길동'])\n"
     ]
    }
   ],
   "source": [
    "mydic= {\"no\":111, \"name\":\"홍길동\"}\n",
    "print(  mydic.items() )\n",
    "print(  mydic.keys() )\n",
    "print(  mydic.values() )"
   ]
  },
  {
   "cell_type": "markdown",
   "id": "96602b2d-660c-405d-90ba-c408b03e7824",
   "metadata": {},
   "source": [
    "## nltk 불용어"
   ]
  },
  {
   "cell_type": "code",
   "execution_count": 5,
   "id": "398abd8f-a618-4d0b-af60-f0902f620133",
   "metadata": {
    "tags": []
   },
   "outputs": [
    {
     "name": "stdout",
     "output_type": "stream",
     "text": [
      "불용어 개수 : 179\n",
      "불용어 10개 출력 : ['i', 'me', 'my', 'myself', 'we', 'our', 'ours', 'ourselves', 'you', \"you're\"]\n"
     ]
    }
   ],
   "source": [
    "from nltk.corpus import stopwords\n",
    "stop_words_list = stopwords.words('english')\n",
    "print('불용어 개수 :', len(stop_words_list))\n",
    "print('불용어 10개 출력 :',stop_words_list[:10])"
   ]
  },
  {
   "cell_type": "markdown",
   "id": "eab29fc9-9d32-461c-b64f-c4d55607569d",
   "metadata": {},
   "source": [
    "## CountVectorizer() + 불용어"
   ]
  },
  {
   "cell_type": "code",
   "execution_count": 6,
   "id": "947142a4-555e-4949-8b88-8e5df81621e2",
   "metadata": {
    "tags": []
   },
   "outputs": [
    {
     "name": "stdout",
     "output_type": "stream",
     "text": [
      "bag of words vector : [[1 2 1]]\n",
      "vocabulary : {'know': 0, 'want': 2, 'love': 1}\n",
      "[('know', 0), ('love', 1), ('want', 2)]\n"
     ]
    }
   ],
   "source": [
    "from sklearn.feature_extraction.text import CountVectorizer\n",
    "from nltk.corpus import stopwords\n",
    "stop_words_list = stopwords.words('english')\n",
    "my_words_list = [\"because\", \"I\"]\n",
    "\n",
    "stop_words_list  = stop_words_list + my_words_list\n",
    "\n",
    "corpus = ['you know I want your love. because I love you.']\n",
    "# vector = CountVectorizer(stop_words=[\"because\", \"I\"])  # 사용자정의\n",
    "# vector = CountVectorizer(stop_words=\"english\")         # 기본\n",
    "vector = CountVectorizer(stop_words=stop_words_list)     # 기본+사용자정의\n",
    "\n",
    "\n",
    "print('bag of words vector :', vector.fit_transform(corpus).toarray()) \n",
    "\n",
    "print('vocabulary :',vector.vocabulary_)\n",
    "\n",
    "vocab_sorted = sorted(vector.vocabulary_.items(), key = lambda x:x[1], reverse = False)\n",
    "print(vocab_sorted)"
   ]
  },
  {
   "cell_type": "markdown",
   "id": "3149011e-8270-4498-beae-325f48991fca",
   "metadata": {
    "tags": []
   },
   "source": [
    "# DTM\n",
    "문서 단어 행렬(DTM, Document-Term Matrix)\n",
    "* <b>다수의 BoW : 각 문서에 대한 BoW를 하나의 행렬로 만든 것</b>\n",
    "* 각 문서에서 등장한 단어의 빈도를 행렬의 값으로 표기해 서로 다른 문서들을 비교\n",
    "\n",
    "\n",
    "* <단점>\n",
    "    \n",
    "    - <font color=red><b>희소 표현(Sparse representation)</b> : 단어 집합의 크기 == 벡터의 차원이 되고 대부분의 값이 0이 된다\n",
    "    - <font color=red><b>단순 빈도 수 기반 접근</b> : '이다'와 같은 중요하지 않은 최빈도 단어로 문서를 연관지으면??\n",
    "    - <font color='blue'><b> TF-IDF 필요 (DTM에 중요한 단어에 대해서 가중치)</font>"
   ]
  },
  {
   "cell_type": "markdown",
   "id": "ec13e2f9-f76b-4e89-a8c5-f0d5d83edd22",
   "metadata": {},
   "source": [
    "## [실습] "
   ]
  },
  {
   "cell_type": "markdown",
   "id": "a768dbbb-1645-44c9-919a-2da241dd54e7",
   "metadata": {},
   "source": [
    "<table>\n",
    "<thead>\n",
    "<tr>\n",
    "<th>&nbsp;</th>\n",
    "<th>과일이</th>\n",
    "<th>길고</th>\n",
    "<th>노란</th>\n",
    "<th>먹고</th>\n",
    "<th>바나나</th>\n",
    "<th>사과</th>\n",
    "<th>싶은</th>\n",
    "<th>저는</th>\n",
    "<th>좋아요</th>\n",
    "</tr>\n",
    "</thead>\n",
    "<tbody>\n",
    "<tr>\n",
    "<td>문서1</td>\n",
    "<td>0</td>\n",
    "<td>0</td>\n",
    "<td>0</td>\n",
    "<td>1</td>\n",
    "<td>0</td>\n",
    "<td>1</td>\n",
    "<td>1</td>\n",
    "<td>0</td>\n",
    "<td>0</td>\n",
    "</tr>\n",
    "<tr>\n",
    "<td>문서2</td>\n",
    "<td>0</td>\n",
    "<td>0</td>\n",
    "<td>0</td>\n",
    "<td>1</td>\n",
    "<td>1</td>\n",
    "<td>0</td>\n",
    "<td>1</td>\n",
    "<td>0</td>\n",
    "<td>0</td>\n",
    "</tr>\n",
    "<tr>\n",
    "<td>문서3</td>\n",
    "<td>0</td>\n",
    "<td>1</td>\n",
    "<td>1</td>\n",
    "<td>0</td>\n",
    "<td>2</td>\n",
    "<td>0</td>\n",
    "<td>0</td>\n",
    "<td>0</td>\n",
    "<td>0</td>\n",
    "</tr>\n",
    "<tr>\n",
    "<td>문서4</td>\n",
    "<td>1</td>\n",
    "<td>0</td>\n",
    "<td>0</td>\n",
    "<td>0</td>\n",
    "<td>0</td>\n",
    "<td>0</td>\n",
    "<td>0</td>\n",
    "<td>1</td>\n",
    "<td>1</td>\n",
    "</tr>\n",
    "</tbody>\n",
    "</table>"
   ]
  },
  {
   "cell_type": "code",
   "execution_count": 7,
   "id": "7ac956a2-2d27-4bf3-a81d-67f01b3aab87",
   "metadata": {
    "tags": []
   },
   "outputs": [
    {
     "name": "stdout",
     "output_type": "stream",
     "text": [
      "BoW : \n",
      " [[0 0 0 1 0 1 1 0 0]\n",
      " [0 0 0 1 1 0 1 0 0]\n",
      " [0 1 1 0 2 0 0 0 0]\n",
      " [1 0 0 0 0 0 0 1 1]]\n",
      "vocabulary \n",
      ": {'먹고': 3, '싶은': 6, '사과': 5, '바나나': 4, '길고': 1, '노란': 2, '저는': 7, '과일이': 0, '좋아요': 8}\n",
      "[('과일이', 0), ('길고', 1), ('노란', 2), ('먹고', 3), ('바나나', 4), ('사과', 5), ('싶은', 6), ('저는', 7), ('좋아요', 8)]\n",
      "dict_keys(['과일이', '길고', '노란', '먹고', '바나나', '사과', '싶은', '저는', '좋아요'])\n"
     ]
    },
    {
     "data": {
      "text/html": [
       "<div>\n",
       "<style scoped>\n",
       "    .dataframe tbody tr th:only-of-type {\n",
       "        vertical-align: middle;\n",
       "    }\n",
       "\n",
       "    .dataframe tbody tr th {\n",
       "        vertical-align: top;\n",
       "    }\n",
       "\n",
       "    .dataframe thead th {\n",
       "        text-align: right;\n",
       "    }\n",
       "</style>\n",
       "<table border=\"1\" class=\"dataframe\">\n",
       "  <thead>\n",
       "    <tr style=\"text-align: right;\">\n",
       "      <th></th>\n",
       "      <th>과일이</th>\n",
       "      <th>길고</th>\n",
       "      <th>노란</th>\n",
       "      <th>먹고</th>\n",
       "      <th>바나나</th>\n",
       "      <th>사과</th>\n",
       "      <th>싶은</th>\n",
       "      <th>저는</th>\n",
       "      <th>좋아요</th>\n",
       "    </tr>\n",
       "  </thead>\n",
       "  <tbody>\n",
       "    <tr>\n",
       "      <th>0</th>\n",
       "      <td>0</td>\n",
       "      <td>0</td>\n",
       "      <td>0</td>\n",
       "      <td>1</td>\n",
       "      <td>0</td>\n",
       "      <td>1</td>\n",
       "      <td>1</td>\n",
       "      <td>0</td>\n",
       "      <td>0</td>\n",
       "    </tr>\n",
       "    <tr>\n",
       "      <th>1</th>\n",
       "      <td>0</td>\n",
       "      <td>0</td>\n",
       "      <td>0</td>\n",
       "      <td>1</td>\n",
       "      <td>1</td>\n",
       "      <td>0</td>\n",
       "      <td>1</td>\n",
       "      <td>0</td>\n",
       "      <td>0</td>\n",
       "    </tr>\n",
       "    <tr>\n",
       "      <th>2</th>\n",
       "      <td>0</td>\n",
       "      <td>1</td>\n",
       "      <td>1</td>\n",
       "      <td>0</td>\n",
       "      <td>2</td>\n",
       "      <td>0</td>\n",
       "      <td>0</td>\n",
       "      <td>0</td>\n",
       "      <td>0</td>\n",
       "    </tr>\n",
       "    <tr>\n",
       "      <th>3</th>\n",
       "      <td>1</td>\n",
       "      <td>0</td>\n",
       "      <td>0</td>\n",
       "      <td>0</td>\n",
       "      <td>0</td>\n",
       "      <td>0</td>\n",
       "      <td>0</td>\n",
       "      <td>1</td>\n",
       "      <td>1</td>\n",
       "    </tr>\n",
       "  </tbody>\n",
       "</table>\n",
       "</div>"
      ],
      "text/plain": [
       "   과일이  길고  노란  먹고  바나나  사과  싶은  저는  좋아요\n",
       "0    0   0   0   1    0   1   1   0    0\n",
       "1    0   0   0   1    1   0   1   0    0\n",
       "2    0   1   1   0    2   0   0   0    0\n",
       "3    1   0   0   0    0   0   0   1    1"
      ]
     },
     "execution_count": 7,
     "metadata": {},
     "output_type": "execute_result"
    }
   ],
   "source": [
    "corpus_list = ['먹고 싶은 사과',\n",
    "        '먹고 싶은 바나나',\n",
    "        '길고 노란 바나나 바나나',\n",
    "        '저는 과일이 좋아요']\n",
    "\n",
    "# --- BoW : 사전에 있으면 1 없으면 0 또있으면 누적 [1,0,0,1,2]\n",
    "vector = CountVectorizer()  \n",
    "\n",
    "bow = vector.fit_transform(corpus_list).toarray()\n",
    "print('BoW : \\n', bow)   #COO(밀집) CSR(희소)\n",
    "\n",
    "# --- BoW : 에 있는 단어가 숫자 ?로 변경되었는지 확인\n",
    "print('vocabulary \\n:',vector.vocabulary_)\n",
    "# --- BoW : 에 있는 단어를 index 순으로 정렬\n",
    "vocab_sorted = sorted(vector.vocabulary_.items(), key = lambda x:x[1], reverse = False)\n",
    "print(vocab_sorted)\n",
    "\n",
    "\n",
    "# --- BoW : 에 있는 단어를 index 순으로 정렬 --> 중에서 key(단어)만 가져오기\n",
    "vocab_word = [t[0] for t in vocab_sorted ]\n",
    "# print(vocab_word)\n",
    "\n",
    "vocab_word = dict(vocab_sorted).keys()\n",
    "print(vocab_word)\n",
    "    \n",
    "\n",
    "# --- DTM : BoW집합  (인덱스:문서번호, 컬럼:단어들(vocab_word),  값:BoW)\n",
    "df = pd.DataFrame(bow, columns=vocab_word)\n",
    "df"
   ]
  },
  {
   "cell_type": "markdown",
   "id": "2ab6f8dd-ca01-473a-a1b5-eb24912c730a",
   "metadata": {},
   "source": [
    "# TF_IDF\n",
    "* 단어 빈도-역 문서 빈도(TF-IDF, Term Frequency-Inverse Document Frequency)\n",
    "* <b>우선 DTM을 만든 후, TF-IDF 가중치를 부여</b>\n",
    "* 주로 문서의 유사도를 구하는 작업, 검색 시스템에서 검색 결과의 중요도를 정하는 작업, 문서 내에서 특정 단어의 중요도를 구하는 작업 등에 활용\n",
    "* TF-IDF = TF * IDF\n",
    "\n",
    "* 문서(d), 단어(t), 문서총개수(n)\n",
    "* <font color='red'> $tf(d,t)$ : 특정 문서 d에서의 특정 단어 t의 등장 횟수</font>\n",
    "* <font color='red'>  $df(t)$ : 특정 단어 t가 등장한 문서의 수 </font>\n",
    "* <font color='red'>  $idf(d, t) = log (\\frac{n}{1+df(t)})$ : df(t) 역수</font>"
   ]
  },
  {
   "cell_type": "markdown",
   "id": "0073cba8-c808-4eb9-aa58-694d2fa834b2",
   "metadata": {},
   "source": [
    "## [실습] "
   ]
  },
  {
   "cell_type": "code",
   "execution_count": 8,
   "id": "18f740d3-c252-4c04-9b2f-c482784beb68",
   "metadata": {
    "tags": []
   },
   "outputs": [],
   "source": [
    "corpus_list = ['먹고 싶은 사과',\n",
    "        '먹고 싶은 바나나',\n",
    "        '길고 노란 바나나 바나나',\n",
    "        '저는 과일이 좋아요']\n",
    "\n",
    "# 상위코드 참조 : vocab\n",
    "vocab = ['과일이', '길고', '노란', '먹고', '바나나', '사과', '싶은', '저는', '좋아요']"
   ]
  },
  {
   "cell_type": "markdown",
   "id": "2cf4730f-31b1-4a1d-a2be-7a9b7bc14590",
   "metadata": {},
   "source": [
    "## 공통함수"
   ]
  },
  {
   "cell_type": "code",
   "execution_count": 9,
   "id": "efd42070-165c-4c32-a58d-65c78bc597c9",
   "metadata": {
    "tags": []
   },
   "outputs": [],
   "source": [
    "def tf(t, d): #DTM = BoWs...\n",
    "    return d.count(t)\n",
    "\n",
    "def idf(t):\n",
    "    #--- 문서들(docs)에서 해당 단어(t)의 빈도수\n",
    "    df = 0   \n",
    "    for doc in corpus_list:\n",
    "        df += t in doc\n",
    "    # idf = df의 역수(1 / df)\n",
    "    return np.log(N/(df + 1))\n",
    "\n",
    "def tfidf(t, d):   \n",
    "    return tf(t,d) * idf(t)"
   ]
  },
  {
   "cell_type": "markdown",
   "id": "8f9f64b9-ef39-4e89-986d-2ce760e5b40a",
   "metadata": {},
   "source": [
    "### TF (DTM = BoWs)\n",
    "* 특정 문서 d에서의 특정 단어 t의 등장 횟수\n",
    "* 한 문장에서 바나나 몇번 나와?"
   ]
  },
  {
   "cell_type": "code",
   "execution_count": 10,
   "id": "815b45b1-2eb5-443f-927b-cec14d24dba8",
   "metadata": {
    "tags": []
   },
   "outputs": [],
   "source": [
    "# N = len(corpus_list)               #문서의갯수 : 4\n",
    "# count_list = []\n",
    "# for i in range(N) :\n",
    "#     d = corpus_list[i]                 # d : 문서\n",
    "#     count_list.append([])\n",
    "#     for j in range(len(vocab)) :       # vocab size : 9\n",
    "#         t =  vocab[j]                  # t : vocab에서 꺼낸 단어를 t변수에 할당\n",
    "#         count_list[-1].append( tf(t, d) )  # d문서에 t단어가 출현한 빈도수\n",
    "# count_list        "
   ]
  },
  {
   "cell_type": "code",
   "execution_count": 11,
   "id": "58b2bc8e-8761-4700-ade4-e761e73a4b1b",
   "metadata": {
    "tags": []
   },
   "outputs": [
    {
     "data": {
      "text/plain": [
       "array([[0, 0, 0, 1, 0, 1, 1, 0, 0],\n",
       "       [0, 0, 0, 1, 1, 0, 1, 0, 0],\n",
       "       [0, 1, 1, 0, 2, 0, 0, 0, 0],\n",
       "       [1, 0, 0, 0, 0, 0, 0, 1, 1]])"
      ]
     },
     "execution_count": 11,
     "metadata": {},
     "output_type": "execute_result"
    }
   ],
   "source": [
    "N = len(corpus_list)               #문서의갯수 : 4\n",
    "wcnt_list = []\n",
    "for d in corpus_list :   # d : 문서\n",
    "    for t in vocab :       # vocab size : 9\n",
    "        wcnt_list.append( tf(t, d) )  # d문서에 t단어가 출현한 빈도수\n",
    "wcnt_list = np.array(wcnt_list).reshape(N,-1)\n",
    "wcnt_list"
   ]
  },
  {
   "cell_type": "markdown",
   "id": "1ed0b95c-6641-48c1-b704-24dabcf0a697",
   "metadata": {},
   "source": [
    "### IDF\n",
    "* \"특정 단어 t가 등장한 문서의 수\" 의 역수\n",
    "* \"바나나가 나오는 문서 갯수\"  의 역수"
   ]
  },
  {
   "cell_type": "code",
   "execution_count": 12,
   "id": "42f7948d-77a6-458f-a10b-a5d2b4bbf51c",
   "metadata": {},
   "outputs": [
    {
     "data": {
      "text/plain": [
       "[0.6931471805599453,\n",
       " 0.6931471805599453,\n",
       " 0.6931471805599453,\n",
       " 0.28768207245178085,\n",
       " 0.28768207245178085,\n",
       " 0.6931471805599453,\n",
       " 0.28768207245178085,\n",
       " 0.6931471805599453,\n",
       " 0.6931471805599453]"
      ]
     },
     "execution_count": 12,
     "metadata": {},
     "output_type": "execute_result"
    }
   ],
   "source": [
    "dcnt_list = []\n",
    "for t in vocab : \n",
    "    dcnt_list.append(idf(t))        # t단어가 등장한 문서 수\n",
    "dcnt_list     # 1/np.log1p(빈도수)"
   ]
  },
  {
   "cell_type": "markdown",
   "id": "f7c45cbe-1afa-42f0-b9dc-d3361da6a6aa",
   "metadata": {},
   "source": [
    "### TF-IDF"
   ]
  },
  {
   "cell_type": "code",
   "execution_count": 13,
   "id": "081e6b23-c6f4-4989-819d-7b0439928c32",
   "metadata": {
    "tags": []
   },
   "outputs": [
    {
     "data": {
      "text/plain": [
       "array([[0.        , 0.        , 0.        , 0.28768207, 0.        ,\n",
       "        0.69314718, 0.28768207, 0.        , 0.        ],\n",
       "       [0.        , 0.        , 0.        , 0.28768207, 0.28768207,\n",
       "        0.        , 0.28768207, 0.        , 0.        ],\n",
       "       [0.        , 0.69314718, 0.69314718, 0.        , 0.57536414,\n",
       "        0.        , 0.        , 0.        , 0.        ],\n",
       "       [0.69314718, 0.        , 0.        , 0.        , 0.        ,\n",
       "        0.        , 0.        , 0.69314718, 0.69314718]])"
      ]
     },
     "execution_count": 13,
     "metadata": {},
     "output_type": "execute_result"
    }
   ],
   "source": [
    "N = len(corpus_list)               #문서의갯수 : 4\n",
    "tfidf_list = []\n",
    "for d in corpus_list :                   # d : 문서\n",
    "    for t in vocab :                     # vocab size : 9\n",
    "        tfidf_list.append( tfidf(t, d) )  # d문서에 t단어가 출현한 빈도수\n",
    "tfidf_list = np.array(tfidf_list).reshape(N,-1)\n",
    "tfidf_list"
   ]
  },
  {
   "cell_type": "code",
   "execution_count": 14,
   "id": "4aef5f0c-1414-436f-9a73-d49baf0e6f79",
   "metadata": {
    "tags": []
   },
   "outputs": [
    {
     "data": {
      "text/html": [
       "<div>\n",
       "<style scoped>\n",
       "    .dataframe tbody tr th:only-of-type {\n",
       "        vertical-align: middle;\n",
       "    }\n",
       "\n",
       "    .dataframe tbody tr th {\n",
       "        vertical-align: top;\n",
       "    }\n",
       "\n",
       "    .dataframe thead th {\n",
       "        text-align: right;\n",
       "    }\n",
       "</style>\n",
       "<table border=\"1\" class=\"dataframe\">\n",
       "  <thead>\n",
       "    <tr style=\"text-align: right;\">\n",
       "      <th></th>\n",
       "      <th>과일이</th>\n",
       "      <th>길고</th>\n",
       "      <th>노란</th>\n",
       "      <th>먹고</th>\n",
       "      <th>바나나</th>\n",
       "      <th>사과</th>\n",
       "      <th>싶은</th>\n",
       "      <th>저는</th>\n",
       "      <th>좋아요</th>\n",
       "    </tr>\n",
       "  </thead>\n",
       "  <tbody>\n",
       "    <tr>\n",
       "      <th>0</th>\n",
       "      <td>0.000000</td>\n",
       "      <td>0.000000</td>\n",
       "      <td>0.000000</td>\n",
       "      <td>0.287682</td>\n",
       "      <td>0.000000</td>\n",
       "      <td>0.693147</td>\n",
       "      <td>0.287682</td>\n",
       "      <td>0.000000</td>\n",
       "      <td>0.000000</td>\n",
       "    </tr>\n",
       "    <tr>\n",
       "      <th>1</th>\n",
       "      <td>0.000000</td>\n",
       "      <td>0.000000</td>\n",
       "      <td>0.000000</td>\n",
       "      <td>0.287682</td>\n",
       "      <td>0.287682</td>\n",
       "      <td>0.000000</td>\n",
       "      <td>0.287682</td>\n",
       "      <td>0.000000</td>\n",
       "      <td>0.000000</td>\n",
       "    </tr>\n",
       "    <tr>\n",
       "      <th>2</th>\n",
       "      <td>0.000000</td>\n",
       "      <td>0.693147</td>\n",
       "      <td>0.693147</td>\n",
       "      <td>0.000000</td>\n",
       "      <td>0.575364</td>\n",
       "      <td>0.000000</td>\n",
       "      <td>0.000000</td>\n",
       "      <td>0.000000</td>\n",
       "      <td>0.000000</td>\n",
       "    </tr>\n",
       "    <tr>\n",
       "      <th>3</th>\n",
       "      <td>0.693147</td>\n",
       "      <td>0.000000</td>\n",
       "      <td>0.000000</td>\n",
       "      <td>0.000000</td>\n",
       "      <td>0.000000</td>\n",
       "      <td>0.000000</td>\n",
       "      <td>0.000000</td>\n",
       "      <td>0.693147</td>\n",
       "      <td>0.693147</td>\n",
       "    </tr>\n",
       "  </tbody>\n",
       "</table>\n",
       "</div>"
      ],
      "text/plain": [
       "        과일이        길고        노란        먹고       바나나        사과        싶은  \\\n",
       "0  0.000000  0.000000  0.000000  0.287682  0.000000  0.693147  0.287682   \n",
       "1  0.000000  0.000000  0.000000  0.287682  0.287682  0.000000  0.287682   \n",
       "2  0.000000  0.693147  0.693147  0.000000  0.575364  0.000000  0.000000   \n",
       "3  0.693147  0.000000  0.000000  0.000000  0.000000  0.000000  0.000000   \n",
       "\n",
       "         저는       좋아요  \n",
       "0  0.000000  0.000000  \n",
       "1  0.000000  0.000000  \n",
       "2  0.000000  0.000000  \n",
       "3  0.693147  0.693147  "
      ]
     },
     "execution_count": 14,
     "metadata": {},
     "output_type": "execute_result"
    }
   ],
   "source": [
    "df = pd.DataFrame(tfidf_list, columns=vocab)\n",
    "df"
   ]
  },
  {
   "cell_type": "code",
   "execution_count": 15,
   "id": "37af26f8-57d5-491d-8674-b6038f4dd574",
   "metadata": {
    "tags": []
   },
   "outputs": [
    {
     "data": {
      "text/plain": [
       "array([[0.        , 0.        , 0.        , 0.28768207, 0.        ,\n",
       "        0.69314718, 0.28768207, 0.        , 0.        ],\n",
       "       [0.        , 0.        , 0.        , 0.28768207, 0.28768207,\n",
       "        0.        , 0.28768207, 0.        , 0.        ],\n",
       "       [0.        , 0.69314718, 0.69314718, 0.        , 0.57536414,\n",
       "        0.        , 0.        , 0.        , 0.        ],\n",
       "       [0.69314718, 0.        , 0.        , 0.        , 0.        ,\n",
       "        0.        , 0.        , 0.69314718, 0.69314718]])"
      ]
     },
     "execution_count": 15,
     "metadata": {},
     "output_type": "execute_result"
    }
   ],
   "source": [
    "tf_arr    = wcnt_list\n",
    "idf_arr   = np.array(dcnt_list)\n",
    "tfidf_arr = tf_arr * idf_arr\n",
    "tfidf_arr"
   ]
  },
  {
   "cell_type": "code",
   "execution_count": 16,
   "id": "ff675b45-aee9-45ae-8de4-a35e64d2234d",
   "metadata": {
    "tags": []
   },
   "outputs": [],
   "source": [
    "# a= np.array([[0, 0, 0, 1, 0, 1, 1, 0, 0],\n",
    "#  [0, 0, 0, 1, 1, 0, 1, 0, 0],\n",
    "#  [0, 1, 1, 0, 2, 0, 0, 0, 0],\n",
    "#  [1, 0, 0, 0, 0, 0, 0, 1, 1]], dtype=float)\n",
    "\n",
    "# b= np.array([0.6931471805599453,\n",
    "#  0.6931471805599453,\n",
    "#  0.6931471805599453,\n",
    "#  0.28768207245178085,\n",
    "#  0.28768207245178085,\n",
    "#  0.6931471805599453,\n",
    "#  0.28768207245178085,\n",
    "#  0.6931471805599453,\n",
    "#  0.6931471805599453])\n",
    "# (a*b)"
   ]
  },
  {
   "cell_type": "markdown",
   "id": "33123313-dae5-4a1c-b562-85a397e43ad9",
   "metadata": {
    "tags": []
   },
   "source": [
    "<pre>\n",
    "<font size=3 color=blue><b>\n",
    "obj     = CountVectorizer()\n",
    "dtm_arr = obj.fit_transform(corpus_list).toarray()\n",
    "vocab   = obj.vocabulary_\n",
    "\n",
    "obj       = TfidfVectorizer()\n",
    "tfidf_arr = obj.fit_transform(corpus_list).toarray()\n",
    "vocab     = obj.vocabulary_\n"
   ]
  },
  {
   "cell_type": "markdown",
   "id": "2c7b9fd7-4a85-4ad7-a6ee-46f0ccb535e7",
   "metadata": {
    "tags": []
   },
   "source": [
    "### <font color=red size=5><b>sklearn.CountVectorizer() : DTM(BoWs) - freq단어\n",
    "* from sklearn.feature_extraction.text import CountVectorizer"
   ]
  },
  {
   "cell_type": "code",
   "execution_count": 17,
   "id": "7f68ae0b-dfc0-459a-9064-14f83854a73a",
   "metadata": {
    "tags": []
   },
   "outputs": [
    {
     "name": "stdout",
     "output_type": "stream",
     "text": [
      "[[0 0 0 1 0 1 1 0 0]\n",
      " [0 0 0 1 1 0 1 0 0]\n",
      " [0 1 1 0 2 0 0 0 0]\n",
      " [1 0 0 0 0 0 0 1 1]]\n",
      "{'먹고': 3, '싶은': 6, '사과': 5, '바나나': 4, '길고': 1, '노란': 2, '저는': 7, '과일이': 0, '좋아요': 8}\n"
     ]
    }
   ],
   "source": [
    "from sklearn.feature_extraction.text import CountVectorizer\n",
    "corpus_list = ['먹고 싶은 사과',\n",
    "        '먹고 싶은 바나나',\n",
    "        '길고 노란 바나나 바나나',\n",
    "        '저는 과일이 좋아요']\n",
    "\n",
    "\n",
    "vector = CountVectorizer()\n",
    "print(vector.fit_transform(corpus_list).toarray())\n",
    "print(vector.vocabulary_)\n"
   ]
  },
  {
   "cell_type": "markdown",
   "id": "c2ea6262-c021-4b33-b31c-7c1d8a534a6d",
   "metadata": {
    "tags": []
   },
   "source": [
    "### <font color=red size=5><b>sklearn. TfidfVectorizer() : DTM(단어freq)-doc 중요도\n",
    "* from sklearn.feature_extraction.text import TfidfVectorizer\n",
    "* (IDF의 로그항의 분자에 1을 더해주며, 로그항에 1을 더해주고, TF-IDF에 L2 정규화라는 방법으로 값을 조정"
   ]
  },
  {
   "cell_type": "code",
   "execution_count": 18,
   "id": "cdd30264-6986-4a30-943d-cd0e8d940950",
   "metadata": {},
   "outputs": [
    {
     "name": "stdout",
     "output_type": "stream",
     "text": [
      "[[0.         0.         0.         0.52640543 0.         0.66767854\n",
      "  0.52640543 0.         0.        ]\n",
      " [0.         0.         0.         0.57735027 0.57735027 0.\n",
      "  0.57735027 0.         0.        ]\n",
      " [0.         0.47212003 0.47212003 0.         0.7444497  0.\n",
      "  0.         0.         0.        ]\n",
      " [0.57735027 0.         0.         0.         0.         0.\n",
      "  0.         0.57735027 0.57735027]]\n",
      "\n"
     ]
    },
    {
     "data": {
      "text/html": [
       "<div>\n",
       "<style scoped>\n",
       "    .dataframe tbody tr th:only-of-type {\n",
       "        vertical-align: middle;\n",
       "    }\n",
       "\n",
       "    .dataframe tbody tr th {\n",
       "        vertical-align: top;\n",
       "    }\n",
       "\n",
       "    .dataframe thead th {\n",
       "        text-align: right;\n",
       "    }\n",
       "</style>\n",
       "<table border=\"1\" class=\"dataframe\">\n",
       "  <thead>\n",
       "    <tr style=\"text-align: right;\">\n",
       "      <th></th>\n",
       "      <th>먹고</th>\n",
       "      <th>싶은</th>\n",
       "      <th>사과</th>\n",
       "      <th>바나나</th>\n",
       "      <th>길고</th>\n",
       "      <th>노란</th>\n",
       "      <th>저는</th>\n",
       "      <th>과일이</th>\n",
       "      <th>좋아요</th>\n",
       "    </tr>\n",
       "  </thead>\n",
       "  <tbody>\n",
       "    <tr>\n",
       "      <th>0</th>\n",
       "      <td>0.00000</td>\n",
       "      <td>0.00000</td>\n",
       "      <td>0.00000</td>\n",
       "      <td>0.526405</td>\n",
       "      <td>0.00000</td>\n",
       "      <td>0.667679</td>\n",
       "      <td>0.526405</td>\n",
       "      <td>0.00000</td>\n",
       "      <td>0.00000</td>\n",
       "    </tr>\n",
       "    <tr>\n",
       "      <th>1</th>\n",
       "      <td>0.00000</td>\n",
       "      <td>0.00000</td>\n",
       "      <td>0.00000</td>\n",
       "      <td>0.577350</td>\n",
       "      <td>0.57735</td>\n",
       "      <td>0.000000</td>\n",
       "      <td>0.577350</td>\n",
       "      <td>0.00000</td>\n",
       "      <td>0.00000</td>\n",
       "    </tr>\n",
       "    <tr>\n",
       "      <th>2</th>\n",
       "      <td>0.00000</td>\n",
       "      <td>0.47212</td>\n",
       "      <td>0.47212</td>\n",
       "      <td>0.000000</td>\n",
       "      <td>0.74445</td>\n",
       "      <td>0.000000</td>\n",
       "      <td>0.000000</td>\n",
       "      <td>0.00000</td>\n",
       "      <td>0.00000</td>\n",
       "    </tr>\n",
       "    <tr>\n",
       "      <th>3</th>\n",
       "      <td>0.57735</td>\n",
       "      <td>0.00000</td>\n",
       "      <td>0.00000</td>\n",
       "      <td>0.000000</td>\n",
       "      <td>0.00000</td>\n",
       "      <td>0.000000</td>\n",
       "      <td>0.000000</td>\n",
       "      <td>0.57735</td>\n",
       "      <td>0.57735</td>\n",
       "    </tr>\n",
       "  </tbody>\n",
       "</table>\n",
       "</div>"
      ],
      "text/plain": [
       "        먹고       싶은       사과       바나나       길고        노란        저는      과일이  \\\n",
       "0  0.00000  0.00000  0.00000  0.526405  0.00000  0.667679  0.526405  0.00000   \n",
       "1  0.00000  0.00000  0.00000  0.577350  0.57735  0.000000  0.577350  0.00000   \n",
       "2  0.00000  0.47212  0.47212  0.000000  0.74445  0.000000  0.000000  0.00000   \n",
       "3  0.57735  0.00000  0.00000  0.000000  0.00000  0.000000  0.000000  0.57735   \n",
       "\n",
       "       좋아요  \n",
       "0  0.00000  \n",
       "1  0.00000  \n",
       "2  0.00000  \n",
       "3  0.57735  "
      ]
     },
     "execution_count": 18,
     "metadata": {},
     "output_type": "execute_result"
    }
   ],
   "source": [
    "from sklearn.feature_extraction.text import TfidfVectorizer\n",
    "corpus_list = ['먹고 싶은 사과',\n",
    "        '먹고 싶은 바나나',\n",
    "        '길고 노란 바나나 바나나',\n",
    "        '저는 과일이 좋아요']\n",
    "\n",
    "tfidfv = TfidfVectorizer()\n",
    "# TF-IDF 계산\n",
    "tfidf_arr = tfidfv.fit_transform(corpus_list).toarray()\n",
    "print(tfidf_arr)\n",
    "\n",
    "# vocab = ['과일이', '길고', '노란', '먹고', '바나나', '사과', '싶은', '저는', '좋아요']\n",
    "vocab = tfidfv.vocabulary_\n",
    "print()  \n",
    "\n",
    "df = pd.DataFrame(tfidf_arr, columns=vocab)\n",
    "df"
   ]
  },
  {
   "cell_type": "markdown",
   "id": "689ef0ed-8886-48bb-b913-e9a1f1ca0b42",
   "metadata": {},
   "source": [
    "# <font color=red size=5><b>코사인 유사도(Cosine Similarity)\n",
    "* 벡터의 크기가 아니라 방향(패턴)에 초점\n",
    "* <b>두 문서(문장) 간의 유사한 관계 정도를 나타냄</b>\n",
    "* ref : https://wikidocs.net/24603"
   ]
  },
  {
   "cell_type": "code",
   "execution_count": 19,
   "id": "3137c221-002c-4871-9e8a-e775340e6e37",
   "metadata": {
    "tags": []
   },
   "outputs": [
    {
     "data": {
      "text/plain": [
       "array([[0.        , 0.        , 0.        , 0.28768207, 0.        ,\n",
       "        0.69314718, 0.28768207, 0.        , 0.        ],\n",
       "       [0.        , 0.        , 0.        , 0.28768207, 0.28768207,\n",
       "        0.        , 0.28768207, 0.        , 0.        ],\n",
       "       [0.        , 0.69314718, 0.69314718, 0.        , 0.57536414,\n",
       "        0.        , 0.        , 0.        , 0.        ],\n",
       "       [0.69314718, 0.        , 0.        , 0.        , 0.        ,\n",
       "        0.        , 0.        , 0.69314718, 0.69314718]])"
      ]
     },
     "execution_count": 19,
     "metadata": {},
     "output_type": "execute_result"
    }
   ],
   "source": [
    "tf_arr    = wcnt_list\n",
    "idf_arr   = np.array(dcnt_list)\n",
    "tfidf_arr = tf_arr * idf_arr\n",
    "tfidf_arr"
   ]
  },
  {
   "cell_type": "markdown",
   "id": "62fc8557-54f6-4dd1-a9af-dc994b748f46",
   "metadata": {},
   "source": [
    "<img width=500 src=\"https://img1.daumcdn.net/thumb/R1280x0/?scode=mtistory2&fname=https%3A%2F%2Fblog.kakaocdn.net%2Fdn%2FbpLIxd%2Fbtq03F9AfHS%2FRTzzEkvHWvqQ5XfQh6rkY1%2Fimg.png\"><br>\n",
    "<img src=\"https://img1.daumcdn.net/thumb/R1280x0/?scode=mtistory2&fname=https%3A%2F%2Fblog.kakaocdn.net%2Fdn%2Fb9gdZi%2FbtqGU2DGM9W%2FRM2ZgrpVZ4356nKEUBM8U0%2Fimg.png\" width=400><br>\n",
    "* Cosine 0° : 두 벡터(단어)간에 매우 유사한 관계를 지닌다. Cosine Similarity값은 1이 된다.\n",
    "* Cosine 90° : 두 벡터간에 관계가 없음을 의미한다. Cosine Similarity값은 0이 된다. \n",
    "* Cosine 180° : 두 벡터간에 반대관계를 의미한다. Cosine Similarity값은 -1이 된다.\n",
    "* <b>문서 간 유사도  : 0 ~ 1</b>"
   ]
  },
  {
   "cell_type": "markdown",
   "id": "b3942580-ac67-4f46-992c-43bdffa565ff",
   "metadata": {},
   "source": [
    "<img width=300  src=\"https://img1.daumcdn.net/thumb/R1280x0/?scode=mtistory2&fname=https%3A%2F%2Fblog.kakaocdn.net%2Fdn%2FbayZ5E%2Fbtq04KWSnlM%2FAkYrOmeom4jOCLv2fBf1HK%2Fimg.png\"><br>"
   ]
  },
  {
   "cell_type": "code",
   "execution_count": 20,
   "id": "cf9e7721-b309-462c-94ca-f5a57e183f48",
   "metadata": {
    "tags": []
   },
   "outputs": [
    {
     "name": "stdout",
     "output_type": "stream",
     "text": [
      "코사인 유사도 :  0.6078\n"
     ]
    }
   ],
   "source": [
    "A = df.loc[0].values\n",
    "B = df.loc[1].values\n",
    "# A, B\n",
    "res1 = np.dot(A, B)\n",
    "res2 = np.sqrt(np.sum(A**2)) * np.sqrt(np.sum(B**2))\n",
    "cs = res1 / res2\n",
    "print(f\"코사인 유사도 :  {cs:.4f}\")\n",
    "\n",
    "# np.sqrt(np.sum(B**2)) 계산 원리 -------------\n",
    "# B_sum = 0\n",
    "# for b in B:\n",
    "#     B_sum +=  b**2\n",
    "# np.sqrt(B_sum) \n"
   ]
  },
  {
   "cell_type": "code",
   "execution_count": 21,
   "id": "23493fc9-99cb-4c0f-aa19-af05bc80633a",
   "metadata": {
    "tags": []
   },
   "outputs": [
    {
     "name": "stdout",
     "output_type": "stream",
     "text": [
      "0.6078406375951328\n"
     ]
    }
   ],
   "source": [
    "def my_cos_sim(A,B):  \n",
    "    cos_sim = np.dot(A, B) / (np.linalg.norm(A) * np.linalg.norm(B))\n",
    "    print(cos_sim)   \n",
    "my_cos_sim(A,B)    "
   ]
  },
  {
   "cell_type": "markdown",
   "id": "8d5e853f-2b5d-4ffd-bcda-7f08fe6aac2a",
   "metadata": {},
   "source": [
    "## 공통함수"
   ]
  },
  {
   "cell_type": "code",
   "execution_count": 22,
   "id": "069cc78a-9bb2-4dea-9fb7-467700efce7c",
   "metadata": {
    "tags": []
   },
   "outputs": [
    {
     "name": "stdout",
     "output_type": "stream",
     "text": [
      "0.7071067811865476\n",
      "0.7071067811865476\n",
      "1.0000000000000002\n"
     ]
    }
   ],
   "source": [
    "import numpy as np\n",
    "from numpy.linalg import norm  #--정규화 ||A||\n",
    "#from numpy import dot\n",
    "\n",
    "def my_cos_sim(A,B):\n",
    "    cos_sim = np.dot(A, B) / (norm(A) * norm(B))\n",
    "    print(cos_sim)   \n",
    "    \n",
    "# sklearn...vectorize.. [1,2,3,]\n",
    "doc1 = [0,1,2,1]\n",
    "doc2 = [1,0,1,1]\n",
    "doc3 = [2,0,2,2]\n",
    "my_cos_sim(doc1,doc2)\n",
    "my_cos_sim(doc1,doc3)\n",
    "my_cos_sim(doc2,doc3)    "
   ]
  },
  {
   "cell_type": "markdown",
   "id": "e8e27caf-e66c-4a0c-b2c1-96c0ea1ba4a1",
   "metadata": {},
   "source": [
    "## 사용예"
   ]
  },
  {
   "cell_type": "markdown",
   "id": "8bfd2723-71a7-4994-beca-8ab41c8d0120",
   "metadata": {
    "tags": []
   },
   "source": [
    "### Tokenizer()"
   ]
  },
  {
   "cell_type": "code",
   "execution_count": 23,
   "id": "ef716539-311a-4486-adab-0d0f1520b8c9",
   "metadata": {
    "tags": []
   },
   "outputs": [
    {
     "name": "stdout",
     "output_type": "stream",
     "text": [
      "[[3, 4, 5, 6, 7], [1, 8, 2], [1, 9, 2]]\n",
      "{'나는': 1, '좋아한다': 2, '어제': 3, '비가': 4, '와서': 5, '날씨가': 6, '추워졌다': 7, '고양이를': 8, '강아지를': 9}\n",
      "최대길이(Voca Size): 5\n",
      "[[3 4 5 6 7]\n",
      " [0 0 1 8 2]\n",
      " [0 0 1 9 2]]\n",
      "0.6941980239122336\n",
      "0.6774960231074738\n",
      "0.9995786102379159\n"
     ]
    }
   ],
   "source": [
    "from keras.preprocessing.text import Tokenizer\n",
    "from tensorflow.keras.utils import pad_sequences\n",
    "\n",
    "text_list = [\"어제 비가 와서 날씨가 추워졌다.\",\n",
    "             \"나는 고양이를 좋아한다.\",\n",
    "             \"나는 강아지를 좋아한다.\"]\n",
    "\n",
    "token = Tokenizer()\n",
    "token.fit_on_texts(text_list)\n",
    "\n",
    "text_seq_list = token.texts_to_sequences(text_list)\n",
    "print(text_seq_list)\n",
    "vocab = token.word_index\n",
    "print(vocab)\n",
    "\n",
    "\n",
    "max_length = max(len(sent.split()) for sent in text_list )\n",
    "print('최대길이(Voca Size):', max_length)\n",
    "\n",
    "\n",
    "padding_res = pad_sequences(sequences=text_seq_list,   #[[ 1, 2, ..] , ['1, 2, ..]]\n",
    "                   maxlen=5,      #voca_size :문장들이 가지고 있는 단어갯수 중 최대 단어수\n",
    "                   padding=\"pre\"  #앞에서부터 0을 채워서 제일 긴 길이에 맞추기 pre/post\n",
    "                  )\n",
    "print(padding_res)\n",
    "\n",
    "\n",
    "def my_cos_sim(A,B):  \n",
    "    cos_sim = np.dot(A, B) / (np.linalg.norm(A) * np.linalg.norm(B))\n",
    "    print(cos_sim)\n",
    "    \n",
    "my_cos_sim(padding_res[0], padding_res[1])\n",
    "my_cos_sim(padding_res[0], padding_res[2])\n",
    "my_cos_sim(padding_res[1], padding_res[2])\n"
   ]
  },
  {
   "cell_type": "markdown",
   "id": "2f384768-5674-4241-9539-21bde0896aeb",
   "metadata": {
    "tags": []
   },
   "source": [
    "### sklearn.CountVectorizer() : DTM(BoWs) - freq단어\n",
    "from sklearn.feature_extraction.text import CountVectorizer"
   ]
  },
  {
   "cell_type": "code",
   "execution_count": 24,
   "id": "797bc32a-507d-4c17-8b4b-bef2e77900f5",
   "metadata": {
    "tags": []
   },
   "outputs": [
    {
     "name": "stdout",
     "output_type": "stream",
     "text": [
      "[[0 0 0 1 1 1 1 0 1]\n",
      " [0 1 1 0 0 0 0 1 0]\n",
      " [1 0 1 0 0 0 0 1 0]]\n",
      "{'어제': 5, '비가': 4, '와서': 6, '날씨가': 3, '추워졌다': 8, '나는': 2, '고양이를': 1, '좋아한다': 7, '강아지를': 0}\n",
      "0.0\n",
      "0.0\n",
      "0.6666666666666667\n"
     ]
    }
   ],
   "source": [
    "from sklearn.feature_extraction.text import CountVectorizer\n",
    "text_list = [\"어제 비가 와서 날씨가 추워졌다.\",\n",
    "             \"나는 고양이를 좋아한다.\",\n",
    "             \"나는 강아지를 좋아한다.\"]\n",
    "\n",
    "obj = CountVectorizer()\n",
    "# TF-IDF 계산\n",
    "arr = obj.fit_transform(text_list).toarray()\n",
    "vocab = obj.vocabulary_\n",
    "print(arr)\n",
    "print(vocab)  \n",
    "\n",
    "my_cos_sim(arr[0], arr[1])\n",
    "my_cos_sim(arr[0], arr[2])\n",
    "my_cos_sim(arr[1], arr[2])\n"
   ]
  },
  {
   "cell_type": "markdown",
   "id": "c885b3ca-0d95-434a-9cd4-91663d1660c0",
   "metadata": {},
   "source": [
    "### sklearn. TfidfVectorizer() : DTM(단어freq)-doc 중요도\n",
    "* from sklearn.feature_extraction.text import TfidfVectorizer "
   ]
  },
  {
   "cell_type": "code",
   "execution_count": 25,
   "id": "b7d2ed0f-1b1a-4af2-8590-3c4c3bd6e669",
   "metadata": {
    "tags": []
   },
   "outputs": [
    {
     "name": "stdout",
     "output_type": "stream",
     "text": [
      "[[0.         0.         0.         0.4472136  0.4472136  0.4472136\n",
      "  0.4472136  0.         0.4472136 ]\n",
      " [0.         0.68091856 0.51785612 0.         0.         0.\n",
      "  0.         0.51785612 0.        ]\n",
      " [0.68091856 0.         0.51785612 0.         0.         0.\n",
      "  0.         0.51785612 0.        ]]\n",
      "{'어제': 5, '비가': 4, '와서': 6, '날씨가': 3, '추워졌다': 8, '나는': 2, '고양이를': 1, '좋아한다': 7, '강아지를': 0}\n",
      "0.0\n",
      "0.0\n",
      "0.5363499141045837\n"
     ]
    }
   ],
   "source": [
    "from sklearn.feature_extraction.text import TfidfVectorizer\n",
    "text_list = [\"어제 비가 와서 날씨가 추워졌다.\",\n",
    "             \"나는 고양이를 좋아한다.\",\n",
    "             \"나는 강아지를 좋아한다.\"]\n",
    "\n",
    "obj = TfidfVectorizer()\n",
    "# TF-IDF 계산\n",
    "arr = obj.fit_transform(text_list).toarray()\n",
    "vocab = obj.vocabulary_\n",
    "print(arr)\n",
    "print(vocab)  \n",
    "\n",
    "my_cos_sim(arr[0], arr[1])\n",
    "my_cos_sim(arr[0], arr[2])\n",
    "my_cos_sim(arr[1], arr[2])\n",
    "\n"
   ]
  },
  {
   "cell_type": "code",
   "execution_count": null,
   "id": "9de4e6ca-6567-4f37-8701-75bdb6755874",
   "metadata": {},
   "outputs": [],
   "source": []
  },
  {
   "cell_type": "markdown",
   "id": "cdd923a2-514b-4a29-941c-747da7578fcd",
   "metadata": {
    "tags": []
   },
   "source": [
    "# [실습] 영화 추천 시스템\n",
    "* ref : https://www.kaggle.com/datasets/rounakbanik/the-movies-dataset"
   ]
  },
  {
   "cell_type": "markdown",
   "id": "ebe37556-ca76-4c90-a1dd-ff80d9795307",
   "metadata": {},
   "source": [
    "<img src=\"./imgs/lec10_logo.png\">"
   ]
  },
  {
   "cell_type": "code",
   "execution_count": 26,
   "id": "b69c2986-b3ff-4a4b-b5c6-3778838954b3",
   "metadata": {
    "tags": []
   },
   "outputs": [],
   "source": [
    "import numpy as np\n",
    "import pandas as pd\n",
    "from keras.preprocessing.text import Tokenizer\n",
    "from tensorflow.keras.utils import pad_sequences\n",
    "from sklearn.feature_extraction.text import TfidfVectorizer\n",
    "from sklearn.feature_extraction.text import CountVectorizer\n",
    "from sklearn.metrics.pairwise import cosine_similarity\n",
    "from nltk.corpus import stopwords"
   ]
  },
  {
   "cell_type": "markdown",
   "id": "31e0430b-08ef-4cb3-96e5-0ff7d4d294fb",
   "metadata": {},
   "source": [
    "## Data Load"
   ]
  },
  {
   "cell_type": "markdown",
   "id": "16029f91-353b-4222-b7cc-a217f04b23dd",
   "metadata": {},
   "source": [
    "* 영화정보 데이터 (movies_metadata.csv) : 45,466 * 24\n"
   ]
  },
  {
   "cell_type": "code",
   "execution_count": 27,
   "id": "14c4b6df-6c6d-477b-95f9-85b430543914",
   "metadata": {
    "tags": []
   },
   "outputs": [
    {
     "name": "stdout",
     "output_type": "stream",
     "text": [
      "<class 'pandas.core.frame.DataFrame'>\n",
      "RangeIndex: 20000 entries, 0 to 19999\n",
      "Data columns (total 24 columns):\n",
      " #   Column                 Non-Null Count  Dtype  \n",
      "---  ------                 --------------  -----  \n",
      " 0   adult                  20000 non-null  object \n",
      " 1   belongs_to_collection  2399 non-null   object \n",
      " 2   budget                 20000 non-null  object \n",
      " 3   genres                 20000 non-null  object \n",
      " 4   homepage               3055 non-null   object \n",
      " 5   id                     20000 non-null  object \n",
      " 6   imdb_id                19993 non-null  object \n",
      " 7   original_language      19999 non-null  object \n",
      " 8   original_title         20000 non-null  object \n",
      " 9   overview               19865 non-null  object \n",
      " 10  popularity             19998 non-null  object \n",
      " 11  poster_path            19907 non-null  object \n",
      " 12  production_companies   19999 non-null  object \n",
      " 13  production_countries   19999 non-null  object \n",
      " 14  release_date           19983 non-null  object \n",
      " 15  revenue                19998 non-null  float64\n",
      " 16  runtime                19971 non-null  float64\n",
      " 17  spoken_languages       19998 non-null  object \n",
      " 18  status                 19979 non-null  object \n",
      " 19  tagline                11706 non-null  object \n",
      " 20  title                  19998 non-null  object \n",
      " 21  video                  19998 non-null  object \n",
      " 22  vote_average           19998 non-null  float64\n",
      " 23  vote_count             19998 non-null  float64\n",
      "dtypes: float64(4), object(20)\n",
      "memory usage: 3.7+ MB\n"
     ]
    }
   ],
   "source": [
    "data = pd.read_csv(\"./datasets/movies_metadata.csv\")[:20000]\n",
    "data.info()"
   ]
  },
  {
   "cell_type": "code",
   "execution_count": 28,
   "id": "a44e197a-917b-40c8-9e32-af03a2ad4265",
   "metadata": {
    "tags": []
   },
   "outputs": [
    {
     "data": {
      "text/html": [
       "<div>\n",
       "<style scoped>\n",
       "    .dataframe tbody tr th:only-of-type {\n",
       "        vertical-align: middle;\n",
       "    }\n",
       "\n",
       "    .dataframe tbody tr th {\n",
       "        vertical-align: top;\n",
       "    }\n",
       "\n",
       "    .dataframe thead th {\n",
       "        text-align: right;\n",
       "    }\n",
       "</style>\n",
       "<table border=\"1\" class=\"dataframe\">\n",
       "  <thead>\n",
       "    <tr style=\"text-align: right;\">\n",
       "      <th></th>\n",
       "      <th>adult</th>\n",
       "      <th>belongs_to_collection</th>\n",
       "      <th>budget</th>\n",
       "      <th>genres</th>\n",
       "      <th>homepage</th>\n",
       "      <th>id</th>\n",
       "      <th>imdb_id</th>\n",
       "      <th>original_language</th>\n",
       "      <th>original_title</th>\n",
       "      <th>overview</th>\n",
       "      <th>popularity</th>\n",
       "      <th>poster_path</th>\n",
       "      <th>production_companies</th>\n",
       "      <th>production_countries</th>\n",
       "      <th>release_date</th>\n",
       "      <th>revenue</th>\n",
       "      <th>runtime</th>\n",
       "      <th>spoken_languages</th>\n",
       "      <th>status</th>\n",
       "      <th>tagline</th>\n",
       "      <th>title</th>\n",
       "      <th>video</th>\n",
       "      <th>vote_average</th>\n",
       "      <th>vote_count</th>\n",
       "    </tr>\n",
       "  </thead>\n",
       "  <tbody>\n",
       "    <tr>\n",
       "      <th>0</th>\n",
       "      <td>False</td>\n",
       "      <td>{'id': 10194, 'name': 'Toy Story Collection', 'poster_path': '/7G9915LfUQ2lVfwMEEhDsn3kT4B.jpg', 'backdrop_path': '/9FBwqcd9IRruEDUrTdcaafOMKUq.jpg'}</td>\n",
       "      <td>30000000</td>\n",
       "      <td>[{'id': 16, 'name': 'Animation'}, {'id': 35, 'name': 'Comedy'}, {'id': 10751, 'name': 'Family'}]</td>\n",
       "      <td>http://toystory.disney.com/toy-story</td>\n",
       "      <td>862</td>\n",
       "      <td>tt0114709</td>\n",
       "      <td>en</td>\n",
       "      <td>Toy Story</td>\n",
       "      <td>Led by Woody, Andy's toys live happily in his room until Andy's birthday brings Buzz Lightyear onto the scene. Afraid of losing his place in Andy's heart, Woody plots against Buzz. But when circumstances separate Buzz and Woody from their owner, the duo eventually learns to put aside their differences.</td>\n",
       "      <td>21.946943</td>\n",
       "      <td>/rhIRbceoE9lR4veEXuwCC2wARtG.jpg</td>\n",
       "      <td>[{'name': 'Pixar Animation Studios', 'id': 3}]</td>\n",
       "      <td>[{'iso_3166_1': 'US', 'name': 'United States of America'}]</td>\n",
       "      <td>1995-10-30</td>\n",
       "      <td>373554033.0</td>\n",
       "      <td>81.0</td>\n",
       "      <td>[{'iso_639_1': 'en', 'name': 'English'}]</td>\n",
       "      <td>Released</td>\n",
       "      <td>NaN</td>\n",
       "      <td>Toy Story</td>\n",
       "      <td>False</td>\n",
       "      <td>7.7</td>\n",
       "      <td>5415.0</td>\n",
       "    </tr>\n",
       "    <tr>\n",
       "      <th>1</th>\n",
       "      <td>False</td>\n",
       "      <td>NaN</td>\n",
       "      <td>65000000</td>\n",
       "      <td>[{'id': 12, 'name': 'Adventure'}, {'id': 14, 'name': 'Fantasy'}, {'id': 10751, 'name': 'Family'}]</td>\n",
       "      <td>NaN</td>\n",
       "      <td>8844</td>\n",
       "      <td>tt0113497</td>\n",
       "      <td>en</td>\n",
       "      <td>Jumanji</td>\n",
       "      <td>When siblings Judy and Peter discover an enchanted board game that opens the door to a magical world, they unwittingly invite Alan -- an adult who's been trapped inside the game for 26 years -- into their living room. Alan's only hope for freedom is to finish the game, which proves risky as all three find themselves running from giant rhinoceroses, evil monkeys and other terrifying creatures.</td>\n",
       "      <td>17.015539</td>\n",
       "      <td>/vzmL6fP7aPKNKPRTFnZmiUfciyV.jpg</td>\n",
       "      <td>[{'name': 'TriStar Pictures', 'id': 559}, {'name': 'Teitler Film', 'id': 2550}, {'name': 'Interscope Communications', 'id': 10201}]</td>\n",
       "      <td>[{'iso_3166_1': 'US', 'name': 'United States of America'}]</td>\n",
       "      <td>1995-12-15</td>\n",
       "      <td>262797249.0</td>\n",
       "      <td>104.0</td>\n",
       "      <td>[{'iso_639_1': 'en', 'name': 'English'}, {'iso_639_1': 'fr', 'name': 'Français'}]</td>\n",
       "      <td>Released</td>\n",
       "      <td>Roll the dice and unleash the excitement!</td>\n",
       "      <td>Jumanji</td>\n",
       "      <td>False</td>\n",
       "      <td>6.9</td>\n",
       "      <td>2413.0</td>\n",
       "    </tr>\n",
       "  </tbody>\n",
       "</table>\n",
       "</div>"
      ],
      "text/plain": [
       "   adult  \\\n",
       "0  False   \n",
       "1  False   \n",
       "\n",
       "                                                                                                                                   belongs_to_collection  \\\n",
       "0  {'id': 10194, 'name': 'Toy Story Collection', 'poster_path': '/7G9915LfUQ2lVfwMEEhDsn3kT4B.jpg', 'backdrop_path': '/9FBwqcd9IRruEDUrTdcaafOMKUq.jpg'}   \n",
       "1                                                                                                                                                    NaN   \n",
       "\n",
       "     budget  \\\n",
       "0  30000000   \n",
       "1  65000000   \n",
       "\n",
       "                                                                                              genres  \\\n",
       "0   [{'id': 16, 'name': 'Animation'}, {'id': 35, 'name': 'Comedy'}, {'id': 10751, 'name': 'Family'}]   \n",
       "1  [{'id': 12, 'name': 'Adventure'}, {'id': 14, 'name': 'Fantasy'}, {'id': 10751, 'name': 'Family'}]   \n",
       "\n",
       "                               homepage    id    imdb_id original_language  \\\n",
       "0  http://toystory.disney.com/toy-story   862  tt0114709                en   \n",
       "1                                   NaN  8844  tt0113497                en   \n",
       "\n",
       "  original_title  \\\n",
       "0      Toy Story   \n",
       "1        Jumanji   \n",
       "\n",
       "                                                                                                                                                                                                                                                                                                                                                                                                      overview  \\\n",
       "0                                                                                              Led by Woody, Andy's toys live happily in his room until Andy's birthday brings Buzz Lightyear onto the scene. Afraid of losing his place in Andy's heart, Woody plots against Buzz. But when circumstances separate Buzz and Woody from their owner, the duo eventually learns to put aside their differences.   \n",
       "1  When siblings Judy and Peter discover an enchanted board game that opens the door to a magical world, they unwittingly invite Alan -- an adult who's been trapped inside the game for 26 years -- into their living room. Alan's only hope for freedom is to finish the game, which proves risky as all three find themselves running from giant rhinoceroses, evil monkeys and other terrifying creatures.   \n",
       "\n",
       "  popularity                       poster_path  \\\n",
       "0  21.946943  /rhIRbceoE9lR4veEXuwCC2wARtG.jpg   \n",
       "1  17.015539  /vzmL6fP7aPKNKPRTFnZmiUfciyV.jpg   \n",
       "\n",
       "                                                                                                                  production_companies  \\\n",
       "0                                                                                       [{'name': 'Pixar Animation Studios', 'id': 3}]   \n",
       "1  [{'name': 'TriStar Pictures', 'id': 559}, {'name': 'Teitler Film', 'id': 2550}, {'name': 'Interscope Communications', 'id': 10201}]   \n",
       "\n",
       "                                         production_countries release_date  \\\n",
       "0  [{'iso_3166_1': 'US', 'name': 'United States of America'}]   1995-10-30   \n",
       "1  [{'iso_3166_1': 'US', 'name': 'United States of America'}]   1995-12-15   \n",
       "\n",
       "       revenue  runtime  \\\n",
       "0  373554033.0     81.0   \n",
       "1  262797249.0    104.0   \n",
       "\n",
       "                                                                    spoken_languages  \\\n",
       "0                                           [{'iso_639_1': 'en', 'name': 'English'}]   \n",
       "1  [{'iso_639_1': 'en', 'name': 'English'}, {'iso_639_1': 'fr', 'name': 'Français'}]   \n",
       "\n",
       "     status                                    tagline      title  video  \\\n",
       "0  Released                                        NaN  Toy Story  False   \n",
       "1  Released  Roll the dice and unleash the excitement!    Jumanji  False   \n",
       "\n",
       "   vote_average  vote_count  \n",
       "0           7.7      5415.0  \n",
       "1           6.9      2413.0  "
      ]
     },
     "execution_count": 28,
     "metadata": {},
     "output_type": "execute_result"
    }
   ],
   "source": [
    "data.head(2)"
   ]
  },
  {
   "cell_type": "markdown",
   "id": "5324895a-4336-4918-8c7b-00388c02b0be",
   "metadata": {},
   "source": [
    "## 결측처리\n",
    "* overview"
   ]
  },
  {
   "cell_type": "code",
   "execution_count": 29,
   "id": "3efd99a3-11b6-4175-bd21-5d4867cb939c",
   "metadata": {
    "tags": []
   },
   "outputs": [
    {
     "name": "stdout",
     "output_type": "stream",
     "text": [
      "overview 열의 결측값의 수: 135\n",
      "overview 열의 결측값의 수: 0\n"
     ]
    }
   ],
   "source": [
    "print('overview 열의 결측값의 수:', data['overview'].isnull().sum())\n",
    "data['overview'] = data['overview'].fillna('')\n",
    "print('overview 열의 결측값의 수:', data['overview'].isnull().sum())"
   ]
  },
  {
   "cell_type": "code",
   "execution_count": 30,
   "id": "a9404743-0258-424a-9c13-05fa994c445c",
   "metadata": {},
   "outputs": [],
   "source": [
    "# stop_words_list = stopwords.words('english')\n",
    "# print('불용어 개수 :', len(stop_words_list))\n",
    "# print('불용어 10개 출력 :',stop_words_list[:10])"
   ]
  },
  {
   "cell_type": "markdown",
   "id": "49c59088-4bbd-43b5-8bc9-9b20f3ada5e7",
   "metadata": {},
   "source": [
    "## TF-IDF를 이용해 코사인 유사도 계산\n",
    "* cosine_sim"
   ]
  },
  {
   "cell_type": "code",
   "execution_count": 31,
   "id": "99c74d52-6064-42d0-808a-16a8fa8aa8fa",
   "metadata": {
    "tags": []
   },
   "outputs": [
    {
     "name": "stdout",
     "output_type": "stream",
     "text": [
      "TF-IDF 행렬의 크기(shape) : (20000, 47487)\n"
     ]
    }
   ],
   "source": [
    "tfidf = TfidfVectorizer(stop_words='english')\n",
    "tfidf_matrix = tfidf.fit_transform(data['overview'])\n",
    "print('TF-IDF 행렬의 크기(shape) :',tfidf_matrix.shape)\n",
    "\n",
    "# print(tfidf_matrix[0].toarray()) # [[0. 0. 0. ... 0. 0. 0.]]\n",
    "# print(tfidf.vocabulary_)         # {'led': 24361, 'woody': 46617, 'andy': 2051 ... }"
   ]
  },
  {
   "cell_type": "code",
   "execution_count": 32,
   "id": "6a473424-30af-475e-9d09-71f3afceec2f",
   "metadata": {
    "tags": []
   },
   "outputs": [
    {
     "name": "stdout",
     "output_type": "stream",
     "text": [
      "코사인 유사도 연산 결과 : (20000, 20000)\n"
     ]
    }
   ],
   "source": [
    "cosine_sim = cosine_similarity(tfidf_matrix, tfidf_matrix)\n",
    "print('코사인 유사도 연산 결과 :',cosine_sim.shape)"
   ]
  },
  {
   "cell_type": "code",
   "execution_count": 33,
   "id": "7cc1f6b5-e8ab-451b-9f37-5604ad8a8150",
   "metadata": {
    "tags": []
   },
   "outputs": [
    {
     "data": {
      "text/plain": [
       "0                      Toy Story\n",
       "1                        Jumanji\n",
       "2               Grumpier Old Men\n",
       "3              Waiting to Exhale\n",
       "4    Father of the Bride Part II\n",
       "Name: title, dtype: object"
      ]
     },
     "execution_count": 33,
     "metadata": {},
     "output_type": "execute_result"
    }
   ],
   "source": [
    "data[\"title\"][:5]"
   ]
  },
  {
   "cell_type": "code",
   "execution_count": 34,
   "id": "8b0cdef8-7531-46d2-8a6f-ba82018096b4",
   "metadata": {
    "tags": []
   },
   "outputs": [
    {
     "data": {
      "text/html": [
       "<div>\n",
       "<style scoped>\n",
       "    .dataframe tbody tr th:only-of-type {\n",
       "        vertical-align: middle;\n",
       "    }\n",
       "\n",
       "    .dataframe tbody tr th {\n",
       "        vertical-align: top;\n",
       "    }\n",
       "\n",
       "    .dataframe thead th {\n",
       "        text-align: right;\n",
       "    }\n",
       "</style>\n",
       "<table border=\"1\" class=\"dataframe\">\n",
       "  <thead>\n",
       "    <tr style=\"text-align: right;\">\n",
       "      <th>title</th>\n",
       "      <th>Toy Story</th>\n",
       "      <th>Jumanji</th>\n",
       "      <th>Grumpier Old Men</th>\n",
       "      <th>Waiting to Exhale</th>\n",
       "      <th>Father of the Bride Part II</th>\n",
       "      <th>Heat</th>\n",
       "      <th>Sabrina</th>\n",
       "      <th>Tom and Huck</th>\n",
       "      <th>Sudden Death</th>\n",
       "      <th>GoldenEye</th>\n",
       "      <th>The American President</th>\n",
       "      <th>Dracula: Dead and Loving It</th>\n",
       "      <th>Balto</th>\n",
       "      <th>Nixon</th>\n",
       "      <th>Cutthroat Island</th>\n",
       "      <th>Casino</th>\n",
       "      <th>Sense and Sensibility</th>\n",
       "      <th>Four Rooms</th>\n",
       "      <th>Ace Ventura: When Nature Calls</th>\n",
       "      <th>Money Train</th>\n",
       "      <th>Get Shorty</th>\n",
       "      <th>Copycat</th>\n",
       "      <th>Assassins</th>\n",
       "      <th>Powder</th>\n",
       "      <th>Leaving Las Vegas</th>\n",
       "      <th>Othello</th>\n",
       "      <th>Now and Then</th>\n",
       "      <th>Persuasion</th>\n",
       "      <th>The City of Lost Children</th>\n",
       "      <th>Shanghai Triad</th>\n",
       "      <th>Dangerous Minds</th>\n",
       "      <th>Twelve Monkeys</th>\n",
       "      <th>Wings of Courage</th>\n",
       "      <th>Babe</th>\n",
       "      <th>Carrington</th>\n",
       "      <th>Dead Man Walking</th>\n",
       "      <th>Across the Sea of Time</th>\n",
       "      <th>It Takes Two</th>\n",
       "      <th>Clueless</th>\n",
       "      <th>Cry, the Beloved Country</th>\n",
       "      <th>Richard III</th>\n",
       "      <th>Dead Presidents</th>\n",
       "      <th>Restoration</th>\n",
       "      <th>Mortal Kombat</th>\n",
       "      <th>To Die For</th>\n",
       "      <th>How To Make An American Quilt</th>\n",
       "      <th>Se7en</th>\n",
       "      <th>Pocahontas</th>\n",
       "      <th>When Night Is Falling</th>\n",
       "      <th>The Usual Suspects</th>\n",
       "      <th>...</th>\n",
       "      <th>Kiss and Tell</th>\n",
       "      <th>Oui, mais...</th>\n",
       "      <th>Space Adventure Cobra</th>\n",
       "      <th>L'aventure c'est l'aventure</th>\n",
       "      <th>A Season for Miracles</th>\n",
       "      <th>The Awful Truth</th>\n",
       "      <th>1911</th>\n",
       "      <th>Looking for Jackie</th>\n",
       "      <th>The Shaolin Temple</th>\n",
       "      <th>Shaolin Temple 2: Kids from Shaolin</th>\n",
       "      <th>Carol Channing: Larger Than Life</th>\n",
       "      <th>Memory</th>\n",
       "      <th>Martial Arts of Shaolin</th>\n",
       "      <th>Snowmageddon</th>\n",
       "      <th>Stand Up and Fight</th>\n",
       "      <th>Jazz</th>\n",
       "      <th>Barbara</th>\n",
       "      <th>A Liar's Autobiography: The Untrue Story of Monty Python's Graham Chapman</th>\n",
       "      <th>Little Miss Broadway</th>\n",
       "      <th>Miss Annie Rooney</th>\n",
       "      <th>Mr. Belvedere Goes to College</th>\n",
       "      <th>The Hobbit: An Unexpected Journey</th>\n",
       "      <th>Mon Paradis - Der Winterpalast</th>\n",
       "      <th>No Flesh Shall Be Spared</th>\n",
       "      <th>I am Von Höfler Variation on Werther</th>\n",
       "      <th>Born to Defend</th>\n",
       "      <th>Dragon Fight</th>\n",
       "      <th>The Master</th>\n",
       "      <th>Kung Fu Cult Master</th>\n",
       "      <th>The Fitzgerald Family Christmas</th>\n",
       "      <th>Hyde Park on Hudson</th>\n",
       "      <th>Lay the Favorite</th>\n",
       "      <th>Audition/Talent Competition</th>\n",
       "      <th>All's Faire in Love</th>\n",
       "      <th>Crooked Arrows</th>\n",
       "      <th>The Enforcer</th>\n",
       "      <th>Dr. Wai in the Scriptures with No Words</th>\n",
       "      <th>Once Upon a Time in China and America</th>\n",
       "      <th>Contract Killer</th>\n",
       "      <th>The Executor</th>\n",
       "      <th>Never Say... Never!</th>\n",
       "      <th>Calmos</th>\n",
       "      <th>How to Make Love to a Woman</th>\n",
       "      <th>After Fall, Winter</th>\n",
       "      <th>Violeta Went to Heaven</th>\n",
       "      <th>Rebellion</th>\n",
       "      <th>Versailles</th>\n",
       "      <th>Two in the Wave</th>\n",
       "      <th>Lotte Reiniger: Homage to the Inventor of the Silhouette Film</th>\n",
       "      <th>RKO Production 601: The Making of 'Kong, the Eighth Wonder of the World'</th>\n",
       "    </tr>\n",
       "    <tr>\n",
       "      <th>title</th>\n",
       "      <th></th>\n",
       "      <th></th>\n",
       "      <th></th>\n",
       "      <th></th>\n",
       "      <th></th>\n",
       "      <th></th>\n",
       "      <th></th>\n",
       "      <th></th>\n",
       "      <th></th>\n",
       "      <th></th>\n",
       "      <th></th>\n",
       "      <th></th>\n",
       "      <th></th>\n",
       "      <th></th>\n",
       "      <th></th>\n",
       "      <th></th>\n",
       "      <th></th>\n",
       "      <th></th>\n",
       "      <th></th>\n",
       "      <th></th>\n",
       "      <th></th>\n",
       "      <th></th>\n",
       "      <th></th>\n",
       "      <th></th>\n",
       "      <th></th>\n",
       "      <th></th>\n",
       "      <th></th>\n",
       "      <th></th>\n",
       "      <th></th>\n",
       "      <th></th>\n",
       "      <th></th>\n",
       "      <th></th>\n",
       "      <th></th>\n",
       "      <th></th>\n",
       "      <th></th>\n",
       "      <th></th>\n",
       "      <th></th>\n",
       "      <th></th>\n",
       "      <th></th>\n",
       "      <th></th>\n",
       "      <th></th>\n",
       "      <th></th>\n",
       "      <th></th>\n",
       "      <th></th>\n",
       "      <th></th>\n",
       "      <th></th>\n",
       "      <th></th>\n",
       "      <th></th>\n",
       "      <th></th>\n",
       "      <th></th>\n",
       "      <th></th>\n",
       "      <th></th>\n",
       "      <th></th>\n",
       "      <th></th>\n",
       "      <th></th>\n",
       "      <th></th>\n",
       "      <th></th>\n",
       "      <th></th>\n",
       "      <th></th>\n",
       "      <th></th>\n",
       "      <th></th>\n",
       "      <th></th>\n",
       "      <th></th>\n",
       "      <th></th>\n",
       "      <th></th>\n",
       "      <th></th>\n",
       "      <th></th>\n",
       "      <th></th>\n",
       "      <th></th>\n",
       "      <th></th>\n",
       "      <th></th>\n",
       "      <th></th>\n",
       "      <th></th>\n",
       "      <th></th>\n",
       "      <th></th>\n",
       "      <th></th>\n",
       "      <th></th>\n",
       "      <th></th>\n",
       "      <th></th>\n",
       "      <th></th>\n",
       "      <th></th>\n",
       "      <th></th>\n",
       "      <th></th>\n",
       "      <th></th>\n",
       "      <th></th>\n",
       "      <th></th>\n",
       "      <th></th>\n",
       "      <th></th>\n",
       "      <th></th>\n",
       "      <th></th>\n",
       "      <th></th>\n",
       "      <th></th>\n",
       "      <th></th>\n",
       "      <th></th>\n",
       "      <th></th>\n",
       "      <th></th>\n",
       "      <th></th>\n",
       "      <th></th>\n",
       "      <th></th>\n",
       "      <th></th>\n",
       "      <th></th>\n",
       "    </tr>\n",
       "  </thead>\n",
       "  <tbody>\n",
       "    <tr>\n",
       "      <th>Toy Story</th>\n",
       "      <td>1.000000</td>\n",
       "      <td>0.015757</td>\n",
       "      <td>0.000000</td>\n",
       "      <td>0.0</td>\n",
       "      <td>0.000000</td>\n",
       "      <td>0.000000</td>\n",
       "      <td>0.00000</td>\n",
       "      <td>0.000000</td>\n",
       "      <td>0.000000</td>\n",
       "      <td>0.0</td>\n",
       "      <td>0.000000</td>\n",
       "      <td>0.0</td>\n",
       "      <td>0.0</td>\n",
       "      <td>0.000000</td>\n",
       "      <td>0.0</td>\n",
       "      <td>0.0</td>\n",
       "      <td>0.000000</td>\n",
       "      <td>0.041140</td>\n",
       "      <td>0.000000</td>\n",
       "      <td>0.0</td>\n",
       "      <td>0.009941</td>\n",
       "      <td>0.0</td>\n",
       "      <td>0.000000</td>\n",
       "      <td>0.000000</td>\n",
       "      <td>0.0</td>\n",
       "      <td>0.000000</td>\n",
       "      <td>0.000000</td>\n",
       "      <td>0.000000</td>\n",
       "      <td>0.0</td>\n",
       "      <td>0.000000</td>\n",
       "      <td>0.000000</td>\n",
       "      <td>0.000000</td>\n",
       "      <td>0.0</td>\n",
       "      <td>0.019831</td>\n",
       "      <td>0.000000</td>\n",
       "      <td>0.000000</td>\n",
       "      <td>0.000000</td>\n",
       "      <td>0.0</td>\n",
       "      <td>0.0</td>\n",
       "      <td>0.0</td>\n",
       "      <td>0.0</td>\n",
       "      <td>0.000000</td>\n",
       "      <td>0.006348</td>\n",
       "      <td>0.000000</td>\n",
       "      <td>0.0</td>\n",
       "      <td>0.009321</td>\n",
       "      <td>0.00000</td>\n",
       "      <td>0.000000</td>\n",
       "      <td>0.000000</td>\n",
       "      <td>0.013822</td>\n",
       "      <td>...</td>\n",
       "      <td>0.000000</td>\n",
       "      <td>0.0</td>\n",
       "      <td>0.011365</td>\n",
       "      <td>0.0</td>\n",
       "      <td>0.000000</td>\n",
       "      <td>0.0</td>\n",
       "      <td>0.011791</td>\n",
       "      <td>0.014688</td>\n",
       "      <td>0.013539</td>\n",
       "      <td>0.007355</td>\n",
       "      <td>0.011161</td>\n",
       "      <td>0.000000</td>\n",
       "      <td>0.01452</td>\n",
       "      <td>0.000000</td>\n",
       "      <td>0.000000</td>\n",
       "      <td>0.0</td>\n",
       "      <td>0.000000</td>\n",
       "      <td>0.000000</td>\n",
       "      <td>0.019853</td>\n",
       "      <td>0.027106</td>\n",
       "      <td>0.00000</td>\n",
       "      <td>0.000000</td>\n",
       "      <td>0.0</td>\n",
       "      <td>0.0</td>\n",
       "      <td>0.000000</td>\n",
       "      <td>0.00000</td>\n",
       "      <td>0.117982</td>\n",
       "      <td>0.000000</td>\n",
       "      <td>0.0</td>\n",
       "      <td>0.000000</td>\n",
       "      <td>0.0</td>\n",
       "      <td>0.0</td>\n",
       "      <td>0.000000</td>\n",
       "      <td>0.000000</td>\n",
       "      <td>0.000000</td>\n",
       "      <td>0.000000</td>\n",
       "      <td>0.0</td>\n",
       "      <td>0.00000</td>\n",
       "      <td>0.0</td>\n",
       "      <td>0.0</td>\n",
       "      <td>0.000000</td>\n",
       "      <td>0.009979</td>\n",
       "      <td>0.060997</td>\n",
       "      <td>0.000000</td>\n",
       "      <td>0.0</td>\n",
       "      <td>0.0</td>\n",
       "      <td>0.024585</td>\n",
       "      <td>0.0</td>\n",
       "      <td>0.0</td>\n",
       "      <td>0.0</td>\n",
       "    </tr>\n",
       "    <tr>\n",
       "      <th>Jumanji</th>\n",
       "      <td>0.015757</td>\n",
       "      <td>1.000000</td>\n",
       "      <td>0.049073</td>\n",
       "      <td>0.0</td>\n",
       "      <td>0.000000</td>\n",
       "      <td>0.051830</td>\n",
       "      <td>0.00000</td>\n",
       "      <td>0.000000</td>\n",
       "      <td>0.106355</td>\n",
       "      <td>0.0</td>\n",
       "      <td>0.007616</td>\n",
       "      <td>0.0</td>\n",
       "      <td>0.0</td>\n",
       "      <td>0.008233</td>\n",
       "      <td>0.0</td>\n",
       "      <td>0.0</td>\n",
       "      <td>0.000000</td>\n",
       "      <td>0.028753</td>\n",
       "      <td>0.000000</td>\n",
       "      <td>0.0</td>\n",
       "      <td>0.000000</td>\n",
       "      <td>0.0</td>\n",
       "      <td>0.006043</td>\n",
       "      <td>0.000000</td>\n",
       "      <td>0.0</td>\n",
       "      <td>0.024285</td>\n",
       "      <td>0.024941</td>\n",
       "      <td>0.006489</td>\n",
       "      <td>0.0</td>\n",
       "      <td>0.000000</td>\n",
       "      <td>0.000000</td>\n",
       "      <td>0.047250</td>\n",
       "      <td>0.0</td>\n",
       "      <td>0.005560</td>\n",
       "      <td>0.004326</td>\n",
       "      <td>0.000000</td>\n",
       "      <td>0.000000</td>\n",
       "      <td>0.0</td>\n",
       "      <td>0.0</td>\n",
       "      <td>0.0</td>\n",
       "      <td>0.0</td>\n",
       "      <td>0.000000</td>\n",
       "      <td>0.000000</td>\n",
       "      <td>0.025758</td>\n",
       "      <td>0.0</td>\n",
       "      <td>0.000000</td>\n",
       "      <td>0.01848</td>\n",
       "      <td>0.008127</td>\n",
       "      <td>0.000000</td>\n",
       "      <td>0.016429</td>\n",
       "      <td>...</td>\n",
       "      <td>0.000000</td>\n",
       "      <td>0.0</td>\n",
       "      <td>0.004063</td>\n",
       "      <td>0.0</td>\n",
       "      <td>0.000000</td>\n",
       "      <td>0.0</td>\n",
       "      <td>0.006281</td>\n",
       "      <td>0.000000</td>\n",
       "      <td>0.000000</td>\n",
       "      <td>0.000000</td>\n",
       "      <td>0.030391</td>\n",
       "      <td>0.000000</td>\n",
       "      <td>0.00000</td>\n",
       "      <td>0.027595</td>\n",
       "      <td>0.043131</td>\n",
       "      <td>0.0</td>\n",
       "      <td>0.011296</td>\n",
       "      <td>0.000000</td>\n",
       "      <td>0.000000</td>\n",
       "      <td>0.000000</td>\n",
       "      <td>0.00000</td>\n",
       "      <td>0.000000</td>\n",
       "      <td>0.0</td>\n",
       "      <td>0.0</td>\n",
       "      <td>0.007418</td>\n",
       "      <td>0.01348</td>\n",
       "      <td>0.009529</td>\n",
       "      <td>0.000000</td>\n",
       "      <td>0.0</td>\n",
       "      <td>0.060063</td>\n",
       "      <td>0.0</td>\n",
       "      <td>0.0</td>\n",
       "      <td>0.000000</td>\n",
       "      <td>0.013191</td>\n",
       "      <td>0.000000</td>\n",
       "      <td>0.000000</td>\n",
       "      <td>0.0</td>\n",
       "      <td>0.00000</td>\n",
       "      <td>0.0</td>\n",
       "      <td>0.0</td>\n",
       "      <td>0.029242</td>\n",
       "      <td>0.000000</td>\n",
       "      <td>0.000000</td>\n",
       "      <td>0.004271</td>\n",
       "      <td>0.0</td>\n",
       "      <td>0.0</td>\n",
       "      <td>0.000000</td>\n",
       "      <td>0.0</td>\n",
       "      <td>0.0</td>\n",
       "      <td>0.0</td>\n",
       "    </tr>\n",
       "    <tr>\n",
       "      <th>Grumpier Old Men</th>\n",
       "      <td>0.000000</td>\n",
       "      <td>0.049073</td>\n",
       "      <td>1.000000</td>\n",
       "      <td>0.0</td>\n",
       "      <td>0.025005</td>\n",
       "      <td>0.000000</td>\n",
       "      <td>0.00000</td>\n",
       "      <td>0.006500</td>\n",
       "      <td>0.000000</td>\n",
       "      <td>0.0</td>\n",
       "      <td>0.000000</td>\n",
       "      <td>0.0</td>\n",
       "      <td>0.0</td>\n",
       "      <td>0.000000</td>\n",
       "      <td>0.0</td>\n",
       "      <td>0.0</td>\n",
       "      <td>0.000000</td>\n",
       "      <td>0.000000</td>\n",
       "      <td>0.018349</td>\n",
       "      <td>0.0</td>\n",
       "      <td>0.000000</td>\n",
       "      <td>0.0</td>\n",
       "      <td>0.000000</td>\n",
       "      <td>0.000000</td>\n",
       "      <td>0.0</td>\n",
       "      <td>0.000000</td>\n",
       "      <td>0.000000</td>\n",
       "      <td>0.011910</td>\n",
       "      <td>0.0</td>\n",
       "      <td>0.010392</td>\n",
       "      <td>0.000000</td>\n",
       "      <td>0.006408</td>\n",
       "      <td>0.0</td>\n",
       "      <td>0.006683</td>\n",
       "      <td>0.000000</td>\n",
       "      <td>0.000000</td>\n",
       "      <td>0.005282</td>\n",
       "      <td>0.0</td>\n",
       "      <td>0.0</td>\n",
       "      <td>0.0</td>\n",
       "      <td>0.0</td>\n",
       "      <td>0.000000</td>\n",
       "      <td>0.000000</td>\n",
       "      <td>0.007480</td>\n",
       "      <td>0.0</td>\n",
       "      <td>0.000000</td>\n",
       "      <td>0.00000</td>\n",
       "      <td>0.016500</td>\n",
       "      <td>0.016821</td>\n",
       "      <td>0.000000</td>\n",
       "      <td>...</td>\n",
       "      <td>0.000000</td>\n",
       "      <td>0.0</td>\n",
       "      <td>0.000000</td>\n",
       "      <td>0.0</td>\n",
       "      <td>0.007415</td>\n",
       "      <td>0.0</td>\n",
       "      <td>0.000000</td>\n",
       "      <td>0.000000</td>\n",
       "      <td>0.000000</td>\n",
       "      <td>0.015443</td>\n",
       "      <td>0.000000</td>\n",
       "      <td>0.007561</td>\n",
       "      <td>0.00000</td>\n",
       "      <td>0.031215</td>\n",
       "      <td>0.000000</td>\n",
       "      <td>0.0</td>\n",
       "      <td>0.000000</td>\n",
       "      <td>0.014109</td>\n",
       "      <td>0.000000</td>\n",
       "      <td>0.009995</td>\n",
       "      <td>0.02621</td>\n",
       "      <td>0.000000</td>\n",
       "      <td>0.0</td>\n",
       "      <td>0.0</td>\n",
       "      <td>0.006808</td>\n",
       "      <td>0.00000</td>\n",
       "      <td>0.015605</td>\n",
       "      <td>0.000000</td>\n",
       "      <td>0.0</td>\n",
       "      <td>0.023065</td>\n",
       "      <td>0.0</td>\n",
       "      <td>0.0</td>\n",
       "      <td>0.016035</td>\n",
       "      <td>0.000000</td>\n",
       "      <td>0.000000</td>\n",
       "      <td>0.010563</td>\n",
       "      <td>0.0</td>\n",
       "      <td>0.00914</td>\n",
       "      <td>0.0</td>\n",
       "      <td>0.0</td>\n",
       "      <td>0.000000</td>\n",
       "      <td>0.000000</td>\n",
       "      <td>0.000000</td>\n",
       "      <td>0.000000</td>\n",
       "      <td>0.0</td>\n",
       "      <td>0.0</td>\n",
       "      <td>0.000000</td>\n",
       "      <td>0.0</td>\n",
       "      <td>0.0</td>\n",
       "      <td>0.0</td>\n",
       "    </tr>\n",
       "    <tr>\n",
       "      <th>Waiting to Exhale</th>\n",
       "      <td>0.000000</td>\n",
       "      <td>0.000000</td>\n",
       "      <td>0.000000</td>\n",
       "      <td>1.0</td>\n",
       "      <td>0.000000</td>\n",
       "      <td>0.007139</td>\n",
       "      <td>0.00000</td>\n",
       "      <td>0.009396</td>\n",
       "      <td>0.000000</td>\n",
       "      <td>0.0</td>\n",
       "      <td>0.000000</td>\n",
       "      <td>0.0</td>\n",
       "      <td>0.0</td>\n",
       "      <td>0.008025</td>\n",
       "      <td>0.0</td>\n",
       "      <td>0.0</td>\n",
       "      <td>0.000000</td>\n",
       "      <td>0.000000</td>\n",
       "      <td>0.000000</td>\n",
       "      <td>0.0</td>\n",
       "      <td>0.000000</td>\n",
       "      <td>0.0</td>\n",
       "      <td>0.015244</td>\n",
       "      <td>0.007419</td>\n",
       "      <td>0.0</td>\n",
       "      <td>0.000000</td>\n",
       "      <td>0.000000</td>\n",
       "      <td>0.017338</td>\n",
       "      <td>0.0</td>\n",
       "      <td>0.000000</td>\n",
       "      <td>0.020718</td>\n",
       "      <td>0.000000</td>\n",
       "      <td>0.0</td>\n",
       "      <td>0.008459</td>\n",
       "      <td>0.000000</td>\n",
       "      <td>0.007564</td>\n",
       "      <td>0.015534</td>\n",
       "      <td>0.0</td>\n",
       "      <td>0.0</td>\n",
       "      <td>0.0</td>\n",
       "      <td>0.0</td>\n",
       "      <td>0.000000</td>\n",
       "      <td>0.000000</td>\n",
       "      <td>0.000000</td>\n",
       "      <td>0.0</td>\n",
       "      <td>0.009875</td>\n",
       "      <td>0.00000</td>\n",
       "      <td>0.000000</td>\n",
       "      <td>0.000000</td>\n",
       "      <td>0.000000</td>\n",
       "      <td>...</td>\n",
       "      <td>0.017565</td>\n",
       "      <td>0.0</td>\n",
       "      <td>0.003453</td>\n",
       "      <td>0.0</td>\n",
       "      <td>0.000000</td>\n",
       "      <td>0.0</td>\n",
       "      <td>0.017731</td>\n",
       "      <td>0.011984</td>\n",
       "      <td>0.000000</td>\n",
       "      <td>0.000000</td>\n",
       "      <td>0.000000</td>\n",
       "      <td>0.000000</td>\n",
       "      <td>0.00000</td>\n",
       "      <td>0.007155</td>\n",
       "      <td>0.000000</td>\n",
       "      <td>0.0</td>\n",
       "      <td>0.000000</td>\n",
       "      <td>0.000000</td>\n",
       "      <td>0.000000</td>\n",
       "      <td>0.023705</td>\n",
       "      <td>0.00000</td>\n",
       "      <td>0.000000</td>\n",
       "      <td>0.0</td>\n",
       "      <td>0.0</td>\n",
       "      <td>0.000000</td>\n",
       "      <td>0.00000</td>\n",
       "      <td>0.005440</td>\n",
       "      <td>0.011392</td>\n",
       "      <td>0.0</td>\n",
       "      <td>0.000000</td>\n",
       "      <td>0.0</td>\n",
       "      <td>0.0</td>\n",
       "      <td>0.000000</td>\n",
       "      <td>0.000000</td>\n",
       "      <td>0.021712</td>\n",
       "      <td>0.000000</td>\n",
       "      <td>0.0</td>\n",
       "      <td>0.00000</td>\n",
       "      <td>0.0</td>\n",
       "      <td>0.0</td>\n",
       "      <td>0.008305</td>\n",
       "      <td>0.000000</td>\n",
       "      <td>0.008952</td>\n",
       "      <td>0.000000</td>\n",
       "      <td>0.0</td>\n",
       "      <td>0.0</td>\n",
       "      <td>0.000000</td>\n",
       "      <td>0.0</td>\n",
       "      <td>0.0</td>\n",
       "      <td>0.0</td>\n",
       "    </tr>\n",
       "    <tr>\n",
       "      <th>Father of the Bride Part II</th>\n",
       "      <td>0.000000</td>\n",
       "      <td>0.000000</td>\n",
       "      <td>0.025005</td>\n",
       "      <td>0.0</td>\n",
       "      <td>1.000000</td>\n",
       "      <td>0.000000</td>\n",
       "      <td>0.03298</td>\n",
       "      <td>0.000000</td>\n",
       "      <td>0.032751</td>\n",
       "      <td>0.0</td>\n",
       "      <td>0.000000</td>\n",
       "      <td>0.0</td>\n",
       "      <td>0.0</td>\n",
       "      <td>0.000000</td>\n",
       "      <td>0.0</td>\n",
       "      <td>0.0</td>\n",
       "      <td>0.016175</td>\n",
       "      <td>0.000000</td>\n",
       "      <td>0.022556</td>\n",
       "      <td>0.0</td>\n",
       "      <td>0.000000</td>\n",
       "      <td>0.0</td>\n",
       "      <td>0.000000</td>\n",
       "      <td>0.000000</td>\n",
       "      <td>0.0</td>\n",
       "      <td>0.000000</td>\n",
       "      <td>0.000000</td>\n",
       "      <td>0.010453</td>\n",
       "      <td>0.0</td>\n",
       "      <td>0.000000</td>\n",
       "      <td>0.000000</td>\n",
       "      <td>0.000000</td>\n",
       "      <td>0.0</td>\n",
       "      <td>0.012483</td>\n",
       "      <td>0.000000</td>\n",
       "      <td>0.000000</td>\n",
       "      <td>0.008551</td>\n",
       "      <td>0.0</td>\n",
       "      <td>0.0</td>\n",
       "      <td>0.0</td>\n",
       "      <td>0.0</td>\n",
       "      <td>0.012535</td>\n",
       "      <td>0.005066</td>\n",
       "      <td>0.000000</td>\n",
       "      <td>0.0</td>\n",
       "      <td>0.000000</td>\n",
       "      <td>0.00000</td>\n",
       "      <td>0.026180</td>\n",
       "      <td>0.000000</td>\n",
       "      <td>0.000000</td>\n",
       "      <td>...</td>\n",
       "      <td>0.027553</td>\n",
       "      <td>0.0</td>\n",
       "      <td>0.028289</td>\n",
       "      <td>0.0</td>\n",
       "      <td>0.013640</td>\n",
       "      <td>0.0</td>\n",
       "      <td>0.000000</td>\n",
       "      <td>0.000000</td>\n",
       "      <td>0.000000</td>\n",
       "      <td>0.009036</td>\n",
       "      <td>0.009067</td>\n",
       "      <td>0.000000</td>\n",
       "      <td>0.00000</td>\n",
       "      <td>0.008951</td>\n",
       "      <td>0.000000</td>\n",
       "      <td>0.0</td>\n",
       "      <td>0.000000</td>\n",
       "      <td>0.000000</td>\n",
       "      <td>0.023089</td>\n",
       "      <td>0.000000</td>\n",
       "      <td>0.00000</td>\n",
       "      <td>0.014366</td>\n",
       "      <td>0.0</td>\n",
       "      <td>0.0</td>\n",
       "      <td>0.042243</td>\n",
       "      <td>0.00000</td>\n",
       "      <td>0.010164</td>\n",
       "      <td>0.000000</td>\n",
       "      <td>0.0</td>\n",
       "      <td>0.018671</td>\n",
       "      <td>0.0</td>\n",
       "      <td>0.0</td>\n",
       "      <td>0.000000</td>\n",
       "      <td>0.000000</td>\n",
       "      <td>0.000000</td>\n",
       "      <td>0.015346</td>\n",
       "      <td>0.0</td>\n",
       "      <td>0.00000</td>\n",
       "      <td>0.0</td>\n",
       "      <td>0.0</td>\n",
       "      <td>0.009277</td>\n",
       "      <td>0.000000</td>\n",
       "      <td>0.000000</td>\n",
       "      <td>0.025417</td>\n",
       "      <td>0.0</td>\n",
       "      <td>0.0</td>\n",
       "      <td>0.078359</td>\n",
       "      <td>0.0</td>\n",
       "      <td>0.0</td>\n",
       "      <td>0.0</td>\n",
       "    </tr>\n",
       "  </tbody>\n",
       "</table>\n",
       "<p>5 rows × 20000 columns</p>\n",
       "</div>"
      ],
      "text/plain": [
       "title                        Toy Story   Jumanji  Grumpier Old Men  \\\n",
       "title                                                                \n",
       "Toy Story                     1.000000  0.015757          0.000000   \n",
       "Jumanji                       0.015757  1.000000          0.049073   \n",
       "Grumpier Old Men              0.000000  0.049073          1.000000   \n",
       "Waiting to Exhale             0.000000  0.000000          0.000000   \n",
       "Father of the Bride Part II   0.000000  0.000000          0.025005   \n",
       "\n",
       "title                        Waiting to Exhale  Father of the Bride Part II  \\\n",
       "title                                                                         \n",
       "Toy Story                                  0.0                     0.000000   \n",
       "Jumanji                                    0.0                     0.000000   \n",
       "Grumpier Old Men                           0.0                     0.025005   \n",
       "Waiting to Exhale                          1.0                     0.000000   \n",
       "Father of the Bride Part II                0.0                     1.000000   \n",
       "\n",
       "title                            Heat  Sabrina  Tom and Huck  Sudden Death  \\\n",
       "title                                                                        \n",
       "Toy Story                    0.000000  0.00000      0.000000      0.000000   \n",
       "Jumanji                      0.051830  0.00000      0.000000      0.106355   \n",
       "Grumpier Old Men             0.000000  0.00000      0.006500      0.000000   \n",
       "Waiting to Exhale            0.007139  0.00000      0.009396      0.000000   \n",
       "Father of the Bride Part II  0.000000  0.03298      0.000000      0.032751   \n",
       "\n",
       "title                        GoldenEye  The American President  \\\n",
       "title                                                            \n",
       "Toy Story                          0.0                0.000000   \n",
       "Jumanji                            0.0                0.007616   \n",
       "Grumpier Old Men                   0.0                0.000000   \n",
       "Waiting to Exhale                  0.0                0.000000   \n",
       "Father of the Bride Part II        0.0                0.000000   \n",
       "\n",
       "title                        Dracula: Dead and Loving It  Balto     Nixon  \\\n",
       "title                                                                       \n",
       "Toy Story                                            0.0    0.0  0.000000   \n",
       "Jumanji                                              0.0    0.0  0.008233   \n",
       "Grumpier Old Men                                     0.0    0.0  0.000000   \n",
       "Waiting to Exhale                                    0.0    0.0  0.008025   \n",
       "Father of the Bride Part II                          0.0    0.0  0.000000   \n",
       "\n",
       "title                        Cutthroat Island  Casino  Sense and Sensibility  \\\n",
       "title                                                                          \n",
       "Toy Story                                 0.0     0.0               0.000000   \n",
       "Jumanji                                   0.0     0.0               0.000000   \n",
       "Grumpier Old Men                          0.0     0.0               0.000000   \n",
       "Waiting to Exhale                         0.0     0.0               0.000000   \n",
       "Father of the Bride Part II               0.0     0.0               0.016175   \n",
       "\n",
       "title                        Four Rooms  Ace Ventura: When Nature Calls  \\\n",
       "title                                                                     \n",
       "Toy Story                      0.041140                        0.000000   \n",
       "Jumanji                        0.028753                        0.000000   \n",
       "Grumpier Old Men               0.000000                        0.018349   \n",
       "Waiting to Exhale              0.000000                        0.000000   \n",
       "Father of the Bride Part II    0.000000                        0.022556   \n",
       "\n",
       "title                        Money Train  Get Shorty  Copycat  Assassins  \\\n",
       "title                                                                      \n",
       "Toy Story                            0.0    0.009941      0.0   0.000000   \n",
       "Jumanji                              0.0    0.000000      0.0   0.006043   \n",
       "Grumpier Old Men                     0.0    0.000000      0.0   0.000000   \n",
       "Waiting to Exhale                    0.0    0.000000      0.0   0.015244   \n",
       "Father of the Bride Part II          0.0    0.000000      0.0   0.000000   \n",
       "\n",
       "title                          Powder  Leaving Las Vegas   Othello  \\\n",
       "title                                                                \n",
       "Toy Story                    0.000000                0.0  0.000000   \n",
       "Jumanji                      0.000000                0.0  0.024285   \n",
       "Grumpier Old Men             0.000000                0.0  0.000000   \n",
       "Waiting to Exhale            0.007419                0.0  0.000000   \n",
       "Father of the Bride Part II  0.000000                0.0  0.000000   \n",
       "\n",
       "title                        Now and Then  Persuasion  \\\n",
       "title                                                   \n",
       "Toy Story                        0.000000    0.000000   \n",
       "Jumanji                          0.024941    0.006489   \n",
       "Grumpier Old Men                 0.000000    0.011910   \n",
       "Waiting to Exhale                0.000000    0.017338   \n",
       "Father of the Bride Part II      0.000000    0.010453   \n",
       "\n",
       "title                        The City of Lost Children  Shanghai Triad  \\\n",
       "title                                                                    \n",
       "Toy Story                                          0.0        0.000000   \n",
       "Jumanji                                            0.0        0.000000   \n",
       "Grumpier Old Men                                   0.0        0.010392   \n",
       "Waiting to Exhale                                  0.0        0.000000   \n",
       "Father of the Bride Part II                        0.0        0.000000   \n",
       "\n",
       "title                        Dangerous Minds  Twelve Monkeys  \\\n",
       "title                                                          \n",
       "Toy Story                           0.000000        0.000000   \n",
       "Jumanji                             0.000000        0.047250   \n",
       "Grumpier Old Men                    0.000000        0.006408   \n",
       "Waiting to Exhale                   0.020718        0.000000   \n",
       "Father of the Bride Part II         0.000000        0.000000   \n",
       "\n",
       "title                        Wings of Courage      Babe  Carrington  \\\n",
       "title                                                                 \n",
       "Toy Story                                 0.0  0.019831    0.000000   \n",
       "Jumanji                                   0.0  0.005560    0.004326   \n",
       "Grumpier Old Men                          0.0  0.006683    0.000000   \n",
       "Waiting to Exhale                         0.0  0.008459    0.000000   \n",
       "Father of the Bride Part II               0.0  0.012483    0.000000   \n",
       "\n",
       "title                        Dead Man Walking  Across the Sea of Time  \\\n",
       "title                                                                   \n",
       "Toy Story                            0.000000                0.000000   \n",
       "Jumanji                              0.000000                0.000000   \n",
       "Grumpier Old Men                     0.000000                0.005282   \n",
       "Waiting to Exhale                    0.007564                0.015534   \n",
       "Father of the Bride Part II          0.000000                0.008551   \n",
       "\n",
       "title                        It Takes Two  Clueless  Cry, the Beloved Country  \\\n",
       "title                                                                           \n",
       "Toy Story                             0.0       0.0                       0.0   \n",
       "Jumanji                               0.0       0.0                       0.0   \n",
       "Grumpier Old Men                      0.0       0.0                       0.0   \n",
       "Waiting to Exhale                     0.0       0.0                       0.0   \n",
       "Father of the Bride Part II           0.0       0.0                       0.0   \n",
       "\n",
       "title                        Richard III  Dead Presidents  Restoration  \\\n",
       "title                                                                    \n",
       "Toy Story                            0.0         0.000000     0.006348   \n",
       "Jumanji                              0.0         0.000000     0.000000   \n",
       "Grumpier Old Men                     0.0         0.000000     0.000000   \n",
       "Waiting to Exhale                    0.0         0.000000     0.000000   \n",
       "Father of the Bride Part II          0.0         0.012535     0.005066   \n",
       "\n",
       "title                        Mortal Kombat  To Die For  \\\n",
       "title                                                    \n",
       "Toy Story                         0.000000         0.0   \n",
       "Jumanji                           0.025758         0.0   \n",
       "Grumpier Old Men                  0.007480         0.0   \n",
       "Waiting to Exhale                 0.000000         0.0   \n",
       "Father of the Bride Part II       0.000000         0.0   \n",
       "\n",
       "title                        How To Make An American Quilt    Se7en  \\\n",
       "title                                                                 \n",
       "Toy Story                                         0.009321  0.00000   \n",
       "Jumanji                                           0.000000  0.01848   \n",
       "Grumpier Old Men                                  0.000000  0.00000   \n",
       "Waiting to Exhale                                 0.009875  0.00000   \n",
       "Father of the Bride Part II                       0.000000  0.00000   \n",
       "\n",
       "title                        Pocahontas  When Night Is Falling  \\\n",
       "title                                                            \n",
       "Toy Story                      0.000000               0.000000   \n",
       "Jumanji                        0.008127               0.000000   \n",
       "Grumpier Old Men               0.016500               0.016821   \n",
       "Waiting to Exhale              0.000000               0.000000   \n",
       "Father of the Bride Part II    0.026180               0.000000   \n",
       "\n",
       "title                        The Usual Suspects  ...  Kiss and Tell  \\\n",
       "title                                            ...                  \n",
       "Toy Story                              0.013822  ...       0.000000   \n",
       "Jumanji                                0.016429  ...       0.000000   \n",
       "Grumpier Old Men                       0.000000  ...       0.000000   \n",
       "Waiting to Exhale                      0.000000  ...       0.017565   \n",
       "Father of the Bride Part II            0.000000  ...       0.027553   \n",
       "\n",
       "title                        Oui, mais...  Space Adventure Cobra  \\\n",
       "title                                                              \n",
       "Toy Story                             0.0               0.011365   \n",
       "Jumanji                               0.0               0.004063   \n",
       "Grumpier Old Men                      0.0               0.000000   \n",
       "Waiting to Exhale                     0.0               0.003453   \n",
       "Father of the Bride Part II           0.0               0.028289   \n",
       "\n",
       "title                        L'aventure c'est l'aventure  \\\n",
       "title                                                      \n",
       "Toy Story                                            0.0   \n",
       "Jumanji                                              0.0   \n",
       "Grumpier Old Men                                     0.0   \n",
       "Waiting to Exhale                                    0.0   \n",
       "Father of the Bride Part II                          0.0   \n",
       "\n",
       "title                        A Season for Miracles  The Awful Truth      1911  \\\n",
       "title                                                                           \n",
       "Toy Story                                 0.000000              0.0  0.011791   \n",
       "Jumanji                                   0.000000              0.0  0.006281   \n",
       "Grumpier Old Men                          0.007415              0.0  0.000000   \n",
       "Waiting to Exhale                         0.000000              0.0  0.017731   \n",
       "Father of the Bride Part II               0.013640              0.0  0.000000   \n",
       "\n",
       "title                        Looking for Jackie  The Shaolin Temple  \\\n",
       "title                                                                 \n",
       "Toy Story                              0.014688            0.013539   \n",
       "Jumanji                                0.000000            0.000000   \n",
       "Grumpier Old Men                       0.000000            0.000000   \n",
       "Waiting to Exhale                      0.011984            0.000000   \n",
       "Father of the Bride Part II            0.000000            0.000000   \n",
       "\n",
       "title                        Shaolin Temple 2: Kids from Shaolin  \\\n",
       "title                                                              \n",
       "Toy Story                                               0.007355   \n",
       "Jumanji                                                 0.000000   \n",
       "Grumpier Old Men                                        0.015443   \n",
       "Waiting to Exhale                                       0.000000   \n",
       "Father of the Bride Part II                             0.009036   \n",
       "\n",
       "title                        Carol Channing: Larger Than Life    Memory  \\\n",
       "title                                                                     \n",
       "Toy Story                                            0.011161  0.000000   \n",
       "Jumanji                                              0.030391  0.000000   \n",
       "Grumpier Old Men                                     0.000000  0.007561   \n",
       "Waiting to Exhale                                    0.000000  0.000000   \n",
       "Father of the Bride Part II                          0.009067  0.000000   \n",
       "\n",
       "title                        Martial Arts of Shaolin  Snowmageddon  \\\n",
       "title                                                                \n",
       "Toy Story                                    0.01452      0.000000   \n",
       "Jumanji                                      0.00000      0.027595   \n",
       "Grumpier Old Men                             0.00000      0.031215   \n",
       "Waiting to Exhale                            0.00000      0.007155   \n",
       "Father of the Bride Part II                  0.00000      0.008951   \n",
       "\n",
       "title                        Stand Up and Fight  Jazz   Barbara  \\\n",
       "title                                                             \n",
       "Toy Story                              0.000000   0.0  0.000000   \n",
       "Jumanji                                0.043131   0.0  0.011296   \n",
       "Grumpier Old Men                       0.000000   0.0  0.000000   \n",
       "Waiting to Exhale                      0.000000   0.0  0.000000   \n",
       "Father of the Bride Part II            0.000000   0.0  0.000000   \n",
       "\n",
       "title                        A Liar's Autobiography: The Untrue Story of Monty Python's Graham Chapman  \\\n",
       "title                                                                                                    \n",
       "Toy Story                                                                                     0.000000   \n",
       "Jumanji                                                                                       0.000000   \n",
       "Grumpier Old Men                                                                              0.014109   \n",
       "Waiting to Exhale                                                                             0.000000   \n",
       "Father of the Bride Part II                                                                   0.000000   \n",
       "\n",
       "title                        Little Miss Broadway  Miss Annie Rooney  \\\n",
       "title                                                                  \n",
       "Toy Story                                0.019853           0.027106   \n",
       "Jumanji                                  0.000000           0.000000   \n",
       "Grumpier Old Men                         0.000000           0.009995   \n",
       "Waiting to Exhale                        0.000000           0.023705   \n",
       "Father of the Bride Part II              0.023089           0.000000   \n",
       "\n",
       "title                        Mr. Belvedere Goes to College  \\\n",
       "title                                                        \n",
       "Toy Story                                          0.00000   \n",
       "Jumanji                                            0.00000   \n",
       "Grumpier Old Men                                   0.02621   \n",
       "Waiting to Exhale                                  0.00000   \n",
       "Father of the Bride Part II                        0.00000   \n",
       "\n",
       "title                        The Hobbit: An Unexpected Journey  \\\n",
       "title                                                            \n",
       "Toy Story                                             0.000000   \n",
       "Jumanji                                               0.000000   \n",
       "Grumpier Old Men                                      0.000000   \n",
       "Waiting to Exhale                                     0.000000   \n",
       "Father of the Bride Part II                           0.014366   \n",
       "\n",
       "title                        Mon Paradis - Der Winterpalast  \\\n",
       "title                                                         \n",
       "Toy Story                                               0.0   \n",
       "Jumanji                                                 0.0   \n",
       "Grumpier Old Men                                        0.0   \n",
       "Waiting to Exhale                                       0.0   \n",
       "Father of the Bride Part II                             0.0   \n",
       "\n",
       "title                        No Flesh Shall Be Spared  \\\n",
       "title                                                   \n",
       "Toy Story                                         0.0   \n",
       "Jumanji                                           0.0   \n",
       "Grumpier Old Men                                  0.0   \n",
       "Waiting to Exhale                                 0.0   \n",
       "Father of the Bride Part II                       0.0   \n",
       "\n",
       "title                        I am Von Höfler Variation on Werther  \\\n",
       "title                                                               \n",
       "Toy Story                                                0.000000   \n",
       "Jumanji                                                  0.007418   \n",
       "Grumpier Old Men                                         0.006808   \n",
       "Waiting to Exhale                                        0.000000   \n",
       "Father of the Bride Part II                              0.042243   \n",
       "\n",
       "title                        Born to Defend  Dragon Fight  The Master  \\\n",
       "title                                                                   \n",
       "Toy Story                           0.00000      0.117982    0.000000   \n",
       "Jumanji                             0.01348      0.009529    0.000000   \n",
       "Grumpier Old Men                    0.00000      0.015605    0.000000   \n",
       "Waiting to Exhale                   0.00000      0.005440    0.011392   \n",
       "Father of the Bride Part II         0.00000      0.010164    0.000000   \n",
       "\n",
       "title                        Kung Fu Cult Master  \\\n",
       "title                                              \n",
       "Toy Story                                    0.0   \n",
       "Jumanji                                      0.0   \n",
       "Grumpier Old Men                             0.0   \n",
       "Waiting to Exhale                            0.0   \n",
       "Father of the Bride Part II                  0.0   \n",
       "\n",
       "title                        The Fitzgerald Family Christmas  \\\n",
       "title                                                          \n",
       "Toy Story                                           0.000000   \n",
       "Jumanji                                             0.060063   \n",
       "Grumpier Old Men                                    0.023065   \n",
       "Waiting to Exhale                                   0.000000   \n",
       "Father of the Bride Part II                         0.018671   \n",
       "\n",
       "title                        Hyde Park on Hudson  Lay the Favorite  \\\n",
       "title                                                                \n",
       "Toy Story                                    0.0               0.0   \n",
       "Jumanji                                      0.0               0.0   \n",
       "Grumpier Old Men                             0.0               0.0   \n",
       "Waiting to Exhale                            0.0               0.0   \n",
       "Father of the Bride Part II                  0.0               0.0   \n",
       "\n",
       "title                        Audition/Talent Competition  All's Faire in Love  \\\n",
       "title                                                                           \n",
       "Toy Story                                       0.000000             0.000000   \n",
       "Jumanji                                         0.000000             0.013191   \n",
       "Grumpier Old Men                                0.016035             0.000000   \n",
       "Waiting to Exhale                               0.000000             0.000000   \n",
       "Father of the Bride Part II                     0.000000             0.000000   \n",
       "\n",
       "title                        Crooked Arrows  The Enforcer  \\\n",
       "title                                                       \n",
       "Toy Story                          0.000000      0.000000   \n",
       "Jumanji                            0.000000      0.000000   \n",
       "Grumpier Old Men                   0.000000      0.010563   \n",
       "Waiting to Exhale                  0.021712      0.000000   \n",
       "Father of the Bride Part II        0.000000      0.015346   \n",
       "\n",
       "title                        Dr. Wai in the Scriptures with No Words  \\\n",
       "title                                                                  \n",
       "Toy Story                                                        0.0   \n",
       "Jumanji                                                          0.0   \n",
       "Grumpier Old Men                                                 0.0   \n",
       "Waiting to Exhale                                                0.0   \n",
       "Father of the Bride Part II                                      0.0   \n",
       "\n",
       "title                        Once Upon a Time in China and America  \\\n",
       "title                                                                \n",
       "Toy Story                                                  0.00000   \n",
       "Jumanji                                                    0.00000   \n",
       "Grumpier Old Men                                           0.00914   \n",
       "Waiting to Exhale                                          0.00000   \n",
       "Father of the Bride Part II                                0.00000   \n",
       "\n",
       "title                        Contract Killer  The Executor  \\\n",
       "title                                                        \n",
       "Toy Story                                0.0           0.0   \n",
       "Jumanji                                  0.0           0.0   \n",
       "Grumpier Old Men                         0.0           0.0   \n",
       "Waiting to Exhale                        0.0           0.0   \n",
       "Father of the Bride Part II              0.0           0.0   \n",
       "\n",
       "title                        Never Say... Never!    Calmos  \\\n",
       "title                                                        \n",
       "Toy Story                               0.000000  0.009979   \n",
       "Jumanji                                 0.029242  0.000000   \n",
       "Grumpier Old Men                        0.000000  0.000000   \n",
       "Waiting to Exhale                       0.008305  0.000000   \n",
       "Father of the Bride Part II             0.009277  0.000000   \n",
       "\n",
       "title                        How to Make Love to a Woman  After Fall, Winter  \\\n",
       "title                                                                          \n",
       "Toy Story                                       0.060997            0.000000   \n",
       "Jumanji                                         0.000000            0.004271   \n",
       "Grumpier Old Men                                0.000000            0.000000   \n",
       "Waiting to Exhale                               0.008952            0.000000   \n",
       "Father of the Bride Part II                     0.000000            0.025417   \n",
       "\n",
       "title                        Violeta Went to Heaven  Rebellion  Versailles  \\\n",
       "title                                                                        \n",
       "Toy Story                                       0.0        0.0    0.024585   \n",
       "Jumanji                                         0.0        0.0    0.000000   \n",
       "Grumpier Old Men                                0.0        0.0    0.000000   \n",
       "Waiting to Exhale                               0.0        0.0    0.000000   \n",
       "Father of the Bride Part II                     0.0        0.0    0.078359   \n",
       "\n",
       "title                        Two in the Wave  \\\n",
       "title                                          \n",
       "Toy Story                                0.0   \n",
       "Jumanji                                  0.0   \n",
       "Grumpier Old Men                         0.0   \n",
       "Waiting to Exhale                        0.0   \n",
       "Father of the Bride Part II              0.0   \n",
       "\n",
       "title                        Lotte Reiniger: Homage to the Inventor of the Silhouette Film  \\\n",
       "title                                                                                        \n",
       "Toy Story                                                                              0.0   \n",
       "Jumanji                                                                                0.0   \n",
       "Grumpier Old Men                                                                       0.0   \n",
       "Waiting to Exhale                                                                      0.0   \n",
       "Father of the Bride Part II                                                            0.0   \n",
       "\n",
       "title                        RKO Production 601: The Making of 'Kong, the Eighth Wonder of the World'  \n",
       "title                                                                                                  \n",
       "Toy Story                                                                                         0.0  \n",
       "Jumanji                                                                                           0.0  \n",
       "Grumpier Old Men                                                                                  0.0  \n",
       "Waiting to Exhale                                                                                 0.0  \n",
       "Father of the Bride Part II                                                                       0.0  \n",
       "\n",
       "[5 rows x 20000 columns]"
      ]
     },
     "execution_count": 34,
     "metadata": {},
     "output_type": "execute_result"
    }
   ],
   "source": [
    "cos_df = pd.DataFrame(cosine_sim, columns=data[\"title\"], index=data[\"title\"])\n",
    "cos_df.head()"
   ]
  },
  {
   "cell_type": "markdown",
   "id": "5b325ae0-5f12-4dc3-879b-42f645ca428f",
   "metadata": {
    "tags": []
   },
   "source": [
    "## 유사영화 Top10 검색\n",
    "* 영화제목을 넣으면 코사인유사도 Top10 영화 제목을 리턴한다."
   ]
  },
  {
   "cell_type": "code",
   "execution_count": 35,
   "id": "f5ace0cd-4ac5-4fe6-a8f0-3d3905c813ca",
   "metadata": {
    "tags": []
   },
   "outputs": [
    {
     "data": {
      "text/plain": [
       "title\n",
       "The Dark Knight                            0.321521\n",
       "Batman Forever                             0.315328\n",
       "Batman Returns                             0.305010\n",
       "Batman: Under the Red Hood                 0.296967\n",
       "Batman                                     0.276030\n",
       "Batman Beyond: Return of the Joker         0.236289\n",
       "Batman: Year One                           0.209219\n",
       "Batman: The Dark Knight Returns, Part 1    0.206999\n",
       "Batman: Mask of the Phantasm               0.196292\n",
       "Batman Begins                              0.179930\n",
       "Name: The Dark Knight Rises, dtype: float64"
      ]
     },
     "execution_count": 35,
     "metadata": {},
     "output_type": "execute_result"
    }
   ],
   "source": [
    "cos_df.loc['The Dark Knight Rises'].sort_values(ascending=False)[1:11]"
   ]
  },
  {
   "cell_type": "markdown",
   "id": "755708a8-5c41-4ba1-8fee-9759c41060ba",
   "metadata": {},
   "source": [
    "## 비추\n",
    "* 교재 예제 코드 참고용"
   ]
  },
  {
   "cell_type": "markdown",
   "id": "33f7dbf9-f5ea-4a0b-9d68-5512a8827f33",
   "metadata": {
    "tags": []
   },
   "source": [
    "### 영화검색을 위한 색인 dict 만들기\n",
    "* title_to_index : 제목 넣으면 영화 인덱스 가져오기\n",
    "* movie_dic = {'영화제목' : 영화의인덱스 }"
   ]
  },
  {
   "cell_type": "code",
   "execution_count": 36,
   "id": "1254baa0-9b91-4c21-aa3d-87bb431dfea2",
   "metadata": {
    "tags": []
   },
   "outputs": [
    {
     "data": {
      "text/plain": [
       "[('a', 0), ('b', 1)]"
      ]
     },
     "execution_count": 36,
     "metadata": {},
     "output_type": "execute_result"
    }
   ],
   "source": [
    "list(  zip(['a','b'], [0,1])  )"
   ]
  },
  {
   "cell_type": "code",
   "execution_count": 37,
   "id": "bf71d342-c11d-4846-9d3d-713213d408a4",
   "metadata": {
    "tags": []
   },
   "outputs": [
    {
     "data": {
      "text/plain": [
       "{'a': 0, 'b': 1}"
      ]
     },
     "execution_count": 37,
     "metadata": {},
     "output_type": "execute_result"
    }
   ],
   "source": [
    "dict(  zip(['a','b'], [0,1])  )"
   ]
  },
  {
   "cell_type": "code",
   "execution_count": 38,
   "id": "38a41b8b-792c-475e-83c4-f7bb3f06d0a7",
   "metadata": {
    "tags": []
   },
   "outputs": [
    {
     "name": "stdout",
     "output_type": "stream",
     "text": [
      "4\n",
      "Father of the Bride Part II\n"
     ]
    }
   ],
   "source": [
    "# movie_dic = {'영화제목' : 영화의인덱스 } \n",
    "title_to_index = dict(zip(data['title'], data.index))\n",
    "\n",
    "# 영화 제목 Father of the Bride Part II의 인덱스를 리턴\n",
    "idx = title_to_index['Father of the Bride Part II']\n",
    "print(idx)\n",
    "print(data.loc[4, 'title'])"
   ]
  },
  {
   "cell_type": "code",
   "execution_count": 39,
   "id": "cf84b0fd-f731-40a1-b411-f77f2412b6c3",
   "metadata": {
    "tags": []
   },
   "outputs": [
    {
     "data": {
      "text/plain": [
       "(20000,)"
      ]
     },
     "execution_count": 39,
     "metadata": {},
     "output_type": "execute_result"
    }
   ],
   "source": [
    "data['title'].shape"
   ]
  },
  {
   "cell_type": "code",
   "execution_count": 40,
   "id": "c86c52cf-694e-45ba-928b-1679655c8988",
   "metadata": {
    "tags": []
   },
   "outputs": [
    {
     "name": "stdout",
     "output_type": "stream",
     "text": [
      "[(12481, 0.32152142350025487), (150, 0.31532758128008986), (1328, 0.30500953745851006), (15511, 0.29696687233514857), (585, 0.2760295597760307), (9230, 0.2362886826517737), (18035, 0.20921858266951263), (19792, 0.2069989680094894), (3095, 0.1962924866191582), (10122, 0.17992977744685185)]\n"
     ]
    },
    {
     "data": {
      "text/plain": [
       "12481                            The Dark Knight\n",
       "150                               Batman Forever\n",
       "1328                              Batman Returns\n",
       "15511                 Batman: Under the Red Hood\n",
       "585                                       Batman\n",
       "9230          Batman Beyond: Return of the Joker\n",
       "18035                           Batman: Year One\n",
       "19792    Batman: The Dark Knight Returns, Part 1\n",
       "3095                Batman: Mask of the Phantasm\n",
       "10122                              Batman Begins\n",
       "Name: title, dtype: object"
      ]
     },
     "execution_count": 40,
     "metadata": {},
     "output_type": "execute_result"
    }
   ],
   "source": [
    "# -------------------------------------------------------------\n",
    "# 영화제목을 넣으면 코사인유사도 Top10 영화 제목을 리턴한다.\n",
    "# -------------------------------------------------------------\n",
    "def my_top10_movie(title, cosine_sim=cosine_sim):\n",
    "    # 선택한 영화의 타이틀로부터 해당 영화의 인덱스를 받아온다.\n",
    "    idx = title_to_index[title]\n",
    "\n",
    "    # 해당 영화와 모든 영화와의 유사도를 가져온다.\n",
    "    sim_scores = list(enumerate(cosine_sim[idx]))\n",
    "\n",
    "    # 유사도에 따라 영화들을 정렬한다.\n",
    "    sim_scores = sorted(sim_scores, key=lambda x: x[1], reverse=True)\n",
    "\n",
    "    # 가장 유사한 10개의 영화를 받아온다.\n",
    "    sim_scores = sim_scores[1:11]\n",
    "    print(sim_scores)\n",
    "    \n",
    "    # 가장 유사한 10개의 영화의 인덱스를 얻는다.\n",
    "    movie_indices = [tupl[0] for tupl in sim_scores]\n",
    "\n",
    "    # 가장 유사한 10개의 영화의 제목을 리턴한다.\n",
    "    return data.loc[movie_indices, 'title']\n",
    "\n",
    "my_top10_movie('The Dark Knight Rises')"
   ]
  },
  {
   "cell_type": "code",
   "execution_count": null,
   "id": "7f89913d-4ecb-4520-b022-9ca4307b07a1",
   "metadata": {
    "tags": []
   },
   "outputs": [],
   "source": []
  }
 ],
 "metadata": {
  "kernelspec": {
   "display_name": "Python 3 (ipykernel)",
   "language": "python",
   "name": "python3"
  },
  "language_info": {
   "codemirror_mode": {
    "name": "ipython",
    "version": 3
   },
   "file_extension": ".py",
   "mimetype": "text/x-python",
   "name": "python",
   "nbconvert_exporter": "python",
   "pygments_lexer": "ipython3",
   "version": "3.8.8"
  },
  "toc-autonumbering": true
 },
 "nbformat": 4,
 "nbformat_minor": 5
}
