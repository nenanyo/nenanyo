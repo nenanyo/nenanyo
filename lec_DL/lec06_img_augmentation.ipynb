{
 "cells": [
  {
   "cell_type": "markdown",
   "id": "bb001322-bf5e-41ca-8cb8-81ad39781d0f",
   "metadata": {},
   "source": [
    "# lec06_이미지 증강(img augmentation)"
   ]
  },
  {
   "cell_type": "code",
   "execution_count": 1,
   "id": "67ff6cdf-f56f-421e-ba24-3326454be843",
   "metadata": {},
   "outputs": [
    {
     "data": {
      "text/html": [
       "<style>.container{width:100% !important;}</style>"
      ],
      "text/plain": [
       "<IPython.core.display.HTML object>"
      ]
     },
     "metadata": {},
     "output_type": "display_data"
    }
   ],
   "source": [
    "import numpy as np\n",
    "import pandas as pd\n",
    "\n",
    "import matplotlib.pyplot as plt\n",
    "import seaborn as sns\n",
    "\n",
    "\n",
    "sns.set()\n",
    "\n",
    "#-------------------- 차트 관련 속성 (한글처리, 그리드) -----------\n",
    "plt.rcParams['font.family']= 'Malgun Gothic'\n",
    "plt.rcParams['axes.unicode_minus'] = False\n",
    "\n",
    "#-------------------- 주피터 , 출력결과 넓이 늘리기 ---------------\n",
    "# from IPython.core.display import display, HTML\n",
    "from IPython.display import display, HTML\n",
    "\n",
    "display(HTML(\"<style>.container{width:100% !important;}</style>\"))\n",
    "pd.set_option('display.max_rows', 100)\n",
    "pd.set_option('display.max_columns', 100)\n",
    "pd.set_option('max_colwidth', None)\n",
    "\n",
    "import warnings\n",
    "warnings.filterwarnings(action='ignore')"
   ]
  },
  {
   "cell_type": "code",
   "execution_count": 3,
   "id": "9d0edec7-8796-4825-826a-745d0fca06a2",
   "metadata": {
    "tags": []
   },
   "outputs": [],
   "source": [
    "from sklearn.model_selection import train_test_split, cross_val_score\n",
    "from sklearn.metrics import confusion_matrix, accuracy_score,mean_squared_error,f1_score\n",
    "\n",
    "from keras.models import Sequential\n",
    "from keras.layers import Dense\n",
    "import tensorflow as tf\n",
    "from keras.layers import Dropout, Conv2D, MaxPool2D, Flatten, Dense\n",
    "from keras.initializers import GlorotNormal,HeNormal,   RandomNormal, Zeros, Identity , Orthogonal , Constant , VarianceScaling\n"
   ]
  },
  {
   "cell_type": "code",
   "execution_count": 4,
   "id": "70d094d0-870c-4f30-8b5c-68b6aa49bf71",
   "metadata": {
    "tags": []
   },
   "outputs": [],
   "source": [
    "tf.random.set_seed(1)\n",
    "np.random.seed(1)"
   ]
  },
  {
   "cell_type": "markdown",
   "id": "a86aa518-bab7-4532-af31-b20db4161d1f",
   "metadata": {},
   "source": [
    "# data load"
   ]
  },
  {
   "cell_type": "code",
   "execution_count": 5,
   "id": "025098f4-c80e-4f62-b4b5-bcd2620e3578",
   "metadata": {
    "tags": []
   },
   "outputs": [],
   "source": [
    "from keras.datasets import mnist"
   ]
  },
  {
   "cell_type": "code",
   "execution_count": 23,
   "id": "7c608c90-69c6-4e90-b904-116bbc342ac2",
   "metadata": {
    "tags": []
   },
   "outputs": [
    {
     "data": {
      "text/plain": [
       "((60000, 28, 28), (10000, 28, 28), (60000,), (10000,))"
      ]
     },
     "execution_count": 23,
     "metadata": {},
     "output_type": "execute_result"
    }
   ],
   "source": [
    "(X_train,y_train),(X_val, y_val) = mnist.load_data()  # (trainset), (testset)\n",
    "X_train.shape, X_test.shape, y_train.shape, y_test.shape"
   ]
  },
  {
   "cell_type": "markdown",
   "id": "c8490755-19c0-456f-bde3-bf94686c15e7",
   "metadata": {
    "tags": []
   },
   "source": [
    "# model"
   ]
  },
  {
   "cell_type": "code",
   "execution_count": 18,
   "id": "44ae3229-52bc-41e1-a595-f52e5585f4c5",
   "metadata": {
    "tags": []
   },
   "outputs": [
    {
     "name": "stdout",
     "output_type": "stream",
     "text": [
      "Model: \"sequential\"\n",
      "_________________________________________________________________\n",
      " Layer (type)                Output Shape              Param #   \n",
      "=================================================================\n",
      " conv2d (Conv2D)             (None, 24, 24, 16)        416       \n",
      "                                                                 \n",
      " max_pooling2d (MaxPooling2D  (None, 12, 12, 16)       0         \n",
      " )                                                               \n",
      "                                                                 \n",
      " conv2d_1 (Conv2D)           (None, 8, 8, 16)          6416      \n",
      "                                                                 \n",
      " max_pooling2d_1 (MaxPooling  (None, 4, 4, 16)         0         \n",
      " 2D)                                                             \n",
      "                                                                 \n",
      " flatten (Flatten)           (None, 256)               0         \n",
      "                                                                 \n",
      " dense (Dense)               (None, 50)                12850     \n",
      "                                                                 \n",
      " dense_1 (Dense)             (None, 10)                510       \n",
      "                                                                 \n",
      "=================================================================\n",
      "Total params: 20,192\n",
      "Trainable params: 20,192\n",
      "Non-trainable params: 0\n",
      "_________________________________________________________________\n"
     ]
    }
   ],
   "source": [
    "model = Sequential()\n",
    "\n",
    "\n",
    "#-----------------CNN\n",
    "\n",
    "\n",
    "model.add(Conv2D(filters=16, input_shape=(28,28,1), kernel_size=(5,5), strides=(1, 1),padding='valid',activation=\"relu\",kernel_initializer='glorot_uniform'))\n",
    "# 내보내는 필터갯수가 16 \n",
    "model.add(MaxPool2D(pool_size=(2, 2),strides=None,padding='valid',data_format=None))\n",
    "# 필터 갯수 지정 안 한다, 사이즈 조정만 하는 거니까\n",
    "model.add(Conv2D(filters=16, kernel_size=(5,5),activation=\"relu\"))\n",
    "# 내보내는 필터갯수가 16 \n",
    "model.add(MaxPool2D(pool_size=(2, 2)))\n",
    "\n",
    "\n",
    "#-----------------Fully Connected\n",
    "\n",
    "model.add(Flatten())\n",
    "model.add(Dense(units=50,  activation='relu'))    \n",
    "model.add(Dense(units=10,  activation='softmax')) \n",
    "model.compile(loss='sparse_categorical_crossentropy', optimizer='Adam', metrics=['accuracy'])\n",
    "model.summary()"
   ]
  },
  {
   "cell_type": "markdown",
   "id": "ef308ebf-b8cb-4bbb-950d-db8b92cab9e5",
   "metadata": {},
   "source": [
    "# 이미지증강\n",
    "<pre>\n",
    "* keras  : https://keras.io/api/preprocessing/image/\n",
    "* PIL    : https://pillow.readthedocs.io/en/stable/\n",
    "* oepncv : https://docs.opencv.org/4.x/\n",
    "* 배치생성 --> 배치 단위로 루프 --> <b>학습(fit) 시 순환하면서 데이터 증강</b>\n",
    "* 데이터 증강 : 입력한 파라미터를 랜덤하게 적용해서 batch_size만큼 복원추출  (아예 모두 적용 안한 원본사이즈도 추출가능) \n",
    "     - batch_size 지정 안하면 >> 무한 증강"
   ]
  },
  {
   "cell_type": "code",
   "execution_count": 9,
   "id": "d7d81b7b-0db4-43d7-81a3-6dfab195b992",
   "metadata": {
    "tags": []
   },
   "outputs": [],
   "source": [
    "from keras.preprocessing.image import ImageDataGenerator"
   ]
  },
  {
   "cell_type": "markdown",
   "id": "bf04dc70-ede9-4c00-96ca-95613b72c1a6",
   "metadata": {
    "tags": []
   },
   "source": [
    "<pre>\n",
    "<B>keras.preprocessing.image.ImageDataGenerator(\n",
    "     rotation_range=0,                        회전\n",
    "     width_shift_range=0.0,                   이미지 밀기(좌우)                  \n",
    "     height_shift_range=0.0,                  이미지 밀기(상하)\n",
    "     brightness_range=None,                   밝기\n",
    "     zca_whitening=False,                     밝기\n",
    "     zoom_range=0.0,                          확대/축소 \n",
    "     fill_mode='nearest', cval=0.0,           빈픽셀 채우기          \n",
    "     horizontal_flip=False,                   가로 대칭\n",
    "     vertical_flip=False,                     세로 대칭\n",
    "     rescale=None,                            /255.0 \n",
    "     validation_split=0.0,                    8:2</B>\n",
    "     featurewise_center=False,                이미지 센터에 위치\n",
    "     samplewise_center=False,                      \n",
    "     featurewise_std_normalization=False,     색상정규화\n",
    "     samplewise_std_normalization=False, \n",
    "     zca_epsilon=1e-06, \n",
    "     shear_range=0.0,                         0~45 각도내 변환\n",
    "     channel_shift_range=0.0,                 색상보정\n",
    "     preprocessing_function=None,             \n",
    "     data_format=None,                 \n",
    "     dtype=None)"
   ]
  },
  {
   "cell_type": "markdown",
   "id": "47a1fe85-8a7e-45b4-a24d-c5945f6cea8d",
   "metadata": {},
   "source": [
    "* flow(x, y=None, batch_size=32, shuffle=True, sample_weight=None, seed=None, save_to_dir=None, save_prefix='', save_format='png', subset=None)"
   ]
  },
  {
   "cell_type": "markdown",
   "id": "ac37b542-28b0-482a-87fd-1d903468d1a8",
   "metadata": {},
   "source": [
    "<pre>\n",
    "* <b>flow_from_directory(directory, target_size=(256, 256), class_mode='categorical', batch_size=32, shuffle=True, seed=None, save_to_dir=None, </b>\n",
    "                    color_mode='rgb', classes=None,  save_prefix='', save_format='png', follow_links=False, subset=None, interpolation='nearest')"
   ]
  },
  {
   "cell_type": "code",
   "execution_count": 20,
   "id": "f0a8a376-7a43-4967-a67a-95975b918a9a",
   "metadata": {
    "tags": []
   },
   "outputs": [
    {
     "data": {
      "text/plain": [
       "((6, 28, 28), (6,))"
      ]
     },
     "execution_count": 20,
     "metadata": {},
     "output_type": "execute_result"
    }
   ],
   "source": [
    "X_train_cp = X_train[:6]\n",
    "y_train_cp = y_train[:6]\n",
    "X_train_cp.shape, y_train_cp.shape"
   ]
  },
  {
   "cell_type": "code",
   "execution_count": 21,
   "id": "62a724fb-e31b-4e65-ace9-b07157bc5df0",
   "metadata": {
    "tags": []
   },
   "outputs": [
    {
     "name": "stdout",
     "output_type": "stream",
     "text": [
      "(6, 28, 28, 1)\n"
     ]
    }
   ],
   "source": [
    "datagen = ImageDataGenerator(rotation_range=50)\n",
    "X_train_cp = X_train_cp.reshape(-1,28,28,1)\n",
    "print(X_train_cp.shape)"
   ]
  },
  {
   "cell_type": "code",
   "execution_count": 16,
   "id": "9a649949-05fd-4738-982b-af196853bbbe",
   "metadata": {
    "tags": []
   },
   "outputs": [
    {
     "data": {
      "text/plain": [
       "array([5], dtype=uint8)"
      ]
     },
     "execution_count": 16,
     "metadata": {},
     "output_type": "execute_result"
    }
   ],
   "source": [
    "y_train_cp"
   ]
  },
  {
   "cell_type": "code",
   "execution_count": 22,
   "id": "d70f907b-7fb9-4e6b-88fd-6761a32dfadc",
   "metadata": {
    "tags": []
   },
   "outputs": [
    {
     "name": "stdout",
     "output_type": "stream",
     "text": [
      "Epoch: 0 \n",
      "1/1 [==============================] - 0s 9ms/step - loss: 70.4418 - accuracy: 0.0000e+00\n",
      "1/1 [==============================] - 0s 6ms/step - loss: 0.0000e+00 - accuracy: 1.0000\n",
      "1/1 [==============================] - 0s 7ms/step - loss: 26.1391 - accuracy: 0.0000e+00\n",
      "1/1 [==============================] - 0s 8ms/step - loss: 23.6062 - accuracy: 0.0000e+00\n",
      "1/1 [==============================] - 0s 7ms/step - loss: 71.9376 - accuracy: 0.0000e+00\n",
      "1/1 [==============================] - 0s 7ms/step - loss: 27.9590 - accuracy: 0.0000e+00\n"
     ]
    },
    {
     "data": {
      "image/png": "[encoded data removed]",
      "text/plain": [
       "<Figure size 1000x500 with 6 Axes>"
      ]
     },
     "metadata": {},
     "output_type": "display_data"
    },
    {
     "name": "stdout",
     "output_type": "stream",
     "text": [
      "Epoch: 1 \n",
      "1/1 [==============================] - 0s 7ms/step - loss: 11.8594 - accuracy: 0.0000e+00\n",
      "1/1 [==============================] - 0s 7ms/step - loss: 34.0061 - accuracy: 0.0000e+00\n",
      "1/1 [==============================] - 0s 8ms/step - loss: 28.3785 - accuracy: 0.0000e+00\n",
      "1/1 [==============================] - 0s 8ms/step - loss: 0.2915 - accuracy: 1.0000\n",
      "1/1 [==============================] - 0s 8ms/step - loss: 4.4707 - accuracy: 0.0000e+00\n",
      "1/1 [==============================] - 0s 8ms/step - loss: 0.0015 - accuracy: 1.0000\n"
     ]
    },
    {
     "data": {
      "image/png": "[encoded data removed]",
      "text/plain": [
       "<Figure size 1000x500 with 6 Axes>"
      ]
     },
     "metadata": {},
     "output_type": "display_data"
    }
   ],
   "source": [
    "EPOCHS = 2\n",
    "for e in range(EPOCHS):\n",
    "    plt.figure(figsize=(10,5))\n",
    "    \n",
    "    batches = 0\n",
    "    print(f\"Epoch: {e} \")\n",
    "    for x_batch, y_batch in datagen.flow(X_train_cp, y_train_cp, batch_size=1):\n",
    "        model.fit(x_batch, y_batch)\n",
    "        \n",
    "        batches += 1 \n",
    "        \n",
    "        plt.subplot(1, len(X_train_cp), batches)\n",
    "        plt.imshow(x_batch.reshape(28,28))\n",
    "        plt.title(f\" {y_batch}\")\n",
    "        \n",
    "        if batches >= len(X_train_cp) / 1:  #step_per_epoch\n",
    "            break\n",
    "    plt.show()"
   ]
  },
  {
   "cell_type": "code",
   "execution_count": 29,
   "id": "c62ed733-bbd2-4021-90ac-21b7dc1530a3",
   "metadata": {
    "tags": []
   },
   "outputs": [
    {
     "data": {
      "text/plain": [
       "((60000, 28, 28), (10000, 28, 28), (60000,), (10000,))"
      ]
     },
     "execution_count": 29,
     "metadata": {},
     "output_type": "execute_result"
    }
   ],
   "source": [
    "(X_train,y_train),(X_val, y_val) = mnist.load_data()  # (trainset), (testset)\n",
    "X_train.shape, X_val.shape, y_train.shape, y_val.shape"
   ]
  },
  {
   "cell_type": "code",
   "execution_count": 30,
   "id": "9ab26d66-556c-4dc9-8b25-dcc8c2f35a24",
   "metadata": {
    "tags": []
   },
   "outputs": [
    {
     "data": {
      "text/plain": [
       "((60000, 28, 28, 1), (10000, 28, 28, 1))"
      ]
     },
     "execution_count": 30,
     "metadata": {},
     "output_type": "execute_result"
    }
   ],
   "source": [
    "X_train = X_train.reshape(-1,28,28,1)\n",
    "X_val = X_val.reshape(-1,28,28,1)\n",
    "X_train.shape,X_val.shape"
   ]
  },
  {
   "cell_type": "code",
   "execution_count": 34,
   "id": "9a648551-643c-4112-b0c1-b4a80b779c27",
   "metadata": {
    "tags": []
   },
   "outputs": [
    {
     "name": "stdout",
     "output_type": "stream",
     "text": [
      "Epoch 1/5\n",
      "234/234 [==============================] - 24s 101ms/step - loss: 0.5422 - accuracy: 0.8210 - val_loss: 0.4780 - val_accuracy: 0.8419\n",
      "Epoch 2/5\n",
      "234/234 [==============================] - 24s 102ms/step - loss: 0.5062 - accuracy: 0.8338 - val_loss: 0.4411 - val_accuracy: 0.8526\n",
      "Epoch 3/5\n",
      "234/234 [==============================] - 26s 109ms/step - loss: 0.4613 - accuracy: 0.8493 - val_loss: 0.4071 - val_accuracy: 0.8628\n",
      "Epoch 4/5\n",
      "234/234 [==============================] - 25s 106ms/step - loss: 0.4316 - accuracy: 0.8594 - val_loss: 0.3813 - val_accuracy: 0.8748\n",
      "Epoch 5/5\n",
      "234/234 [==============================] - 25s 107ms/step - loss: 0.4172 - accuracy: 0.8633 - val_loss: 0.3878 - val_accuracy: 0.8716\n"
     ]
    }
   ],
   "source": [
    "train_generator = ImageDataGenerator(\n",
    "     rotation_range=10,                        \n",
    "     width_shift_range=0.1,                                \n",
    "     height_shift_range=0.1,                \n",
    "     brightness_range=None,                   \n",
    "     zca_whitening=True,                  \n",
    "     zoom_range=0.1,                        \n",
    "     fill_mode='nearest', cval=0.1,                   \n",
    "     horizontal_flip=True,                  \n",
    "     vertical_flip=True)\n",
    "\n",
    "val_generator = ImageDataGenerator(\n",
    "     rotation_range=10,                        \n",
    "     width_shift_range=0.1,                                \n",
    "     height_shift_range=0.1,                \n",
    "     brightness_range=None,                   \n",
    "     zca_whitening=True,                  \n",
    "     zoom_range=0.1,                        \n",
    "     fill_mode='nearest', cval=0.1,                   \n",
    "     horizontal_flip=True,                  \n",
    "     vertical_flip=True)\n",
    "\n",
    "test_generator =  ImageDataGenerator(rescale = 1./255.)\n",
    "\n",
    "BATCH_SIZE = 256\n",
    "\n",
    "train_flow_iter = train_generator.flow(X_train,y_train,batch_size = BATCH_SIZE)\n",
    "val_flow_iter = val_generator.flow(X_val,y_val,batch_size = BATCH_SIZE)\n",
    "# test_flow_iter  = test_generator.flow(X_test,y_test)\n",
    "\n",
    "\n",
    "fit_hisroty = model.fit(train_flow_iter\n",
    "         ,epochs = 5\n",
    "         ,steps_per_epoch = len(X_train)/BATCH_SIZE\n",
    "         ,validation_data =val_flow_iter )"
   ]
  },
  {
   "cell_type": "code",
   "execution_count": 35,
   "id": "48e40ede-dd10-4f27-8a5d-c49acfdcafec",
   "metadata": {
    "tags": []
   },
   "outputs": [
    {
     "data": {
      "image/png": "[encoded data removed]",
      "text/plain": [
       "<Figure size 600x300 with 2 Axes>"
      ]
     },
     "metadata": {},
     "output_type": "display_data"
    }
   ],
   "source": [
    "plt.figure(figsize=(6,3))\n",
    "ax1 = plt.subplot(1,2,1)\n",
    "ax1.plot(fit_hisroty.history['loss']    , label='loss')\n",
    "ax1.plot(fit_hisroty.history['val_loss'], label='val_loss')\n",
    "ax1.legend()\n",
    "ax1.set_title(\"loss\")\n",
    "\n",
    "ax2 = plt.subplot(1,2,2)\n",
    "ax2.plot(fit_hisroty.history['accuracy']    , label='accuracy')\n",
    "ax2.plot(fit_hisroty.history['val_accuracy'], label='val_accuracy')\n",
    "ax2.legend()\n",
    "ax2.set_title(\"accuracy\")\n",
    "\n",
    "plt.show()"
   ]
  },
  {
   "cell_type": "code",
   "execution_count": null,
   "id": "76b16881-2ab5-46f8-ab3b-e8b7c12e9c50",
   "metadata": {},
   "outputs": [],
   "source": []
  },
  {
   "cell_type": "markdown",
   "id": "d91615dc-9e29-4937-8d7e-4eedd3935858",
   "metadata": {},
   "source": [
    "# predict"
   ]
  },
  {
   "cell_type": "code",
   "execution_count": 21,
   "id": "3db6a0af-2819-4777-80d3-b030a2e76261",
   "metadata": {},
   "outputs": [
    {
     "name": "stdout",
     "output_type": "stream",
     "text": [
      "Epoch 1/10\n",
      "375/375 [==============================] - 12s 29ms/step - loss: 0.3837 - accuracy: 0.8850 - val_loss: 0.1216 - val_accuracy: 0.9653\n",
      "Epoch 2/10\n",
      "375/375 [==============================] - 10s 28ms/step - loss: 0.1096 - accuracy: 0.9671 - val_loss: 0.1011 - val_accuracy: 0.9701\n",
      "Epoch 3/10\n",
      "375/375 [==============================] - 11s 28ms/step - loss: 0.0791 - accuracy: 0.9765 - val_loss: 0.0692 - val_accuracy: 0.9799\n",
      "Epoch 4/10\n",
      "375/375 [==============================] - 12s 31ms/step - loss: 0.0616 - accuracy: 0.9809 - val_loss: 0.0595 - val_accuracy: 0.9829\n",
      "Epoch 5/10\n",
      "375/375 [==============================] - 12s 31ms/step - loss: 0.0532 - accuracy: 0.9834 - val_loss: 0.0545 - val_accuracy: 0.9843\n",
      "Epoch 6/10\n",
      "375/375 [==============================] - 12s 31ms/step - loss: 0.0444 - accuracy: 0.9860 - val_loss: 0.0615 - val_accuracy: 0.9814\n",
      "Epoch 7/10\n",
      "375/375 [==============================] - 11s 31ms/step - loss: 0.0420 - accuracy: 0.9868 - val_loss: 0.0533 - val_accuracy: 0.9850\n",
      "Epoch 8/10\n",
      "375/375 [==============================] - 12s 31ms/step - loss: 0.0350 - accuracy: 0.9884 - val_loss: 0.0493 - val_accuracy: 0.9860\n",
      "Epoch 9/10\n",
      "375/375 [==============================] - 12s 31ms/step - loss: 0.0320 - accuracy: 0.9899 - val_loss: 0.0476 - val_accuracy: 0.9854\n",
      "Epoch 10/10\n",
      "375/375 [==============================] - 12s 31ms/step - loss: 0.0288 - accuracy: 0.9910 - val_loss: 0.0468 - val_accuracy: 0.9874\n",
      "<keras.callbacks.History object at 0x0000028940059C70>\n",
      "313/313 [==============================] - 1s 3ms/step - loss: 0.0367 - accuracy: 0.9874\n",
      "[0.03670008108019829, 0.9873999953269958]\n"
     ]
    }
   ],
   "source": [
    "fit_hisroty = model.fit(X_train_sc, y_train\n",
    "                        , batch_size = 128\n",
    "                        , validation_split=0.2, epochs=10)\n",
    "print(fit_hisroty)\n",
    "print ( model.evaluate(X_test_sc, y_test)  )\n",
    "# [0.03670008108019829, 0.9873999953269958]"
   ]
  },
  {
   "cell_type": "markdown",
   "id": "b921ec7c-c338-4b80-a6a9-057e969f583e",
   "metadata": {},
   "source": [
    "# 예측"
   ]
  },
  {
   "cell_type": "markdown",
   "id": "eeede014-17c2-48ca-9220-7c1ffcaadda6",
   "metadata": {},
   "source": [
    "## 예측"
   ]
  },
  {
   "cell_type": "code",
   "execution_count": null,
   "id": "f16331d4-98e5-4c28-9788-23eeac6bbe79",
   "metadata": {
    "tags": []
   },
   "outputs": [],
   "source": [
    "proba = model.predict(X_test_sc)\n",
    "y_test.shape"
   ]
  },
  {
   "cell_type": "code",
   "execution_count": null,
   "id": "ccf8290e-0f3a-4640-a2a6-37a18fb1a6ed",
   "metadata": {
    "tags": []
   },
   "outputs": [],
   "source": [
    "pred = np.argmax(proba, axis=1)\n",
    "y_test = np.argmax(y_test, axis=1)\n",
    "print(pred[:3], y_test)"
   ]
  },
  {
   "cell_type": "code",
   "execution_count": null,
   "id": "8274061a-bc1e-474d-bf73-4288f56153b0",
   "metadata": {},
   "outputs": [],
   "source": []
  },
  {
   "cell_type": "code",
   "execution_count": null,
   "id": "834b822d-ca96-4568-a908-1e3598d64f2c",
   "metadata": {},
   "outputs": [],
   "source": []
  },
  {
   "cell_type": "code",
   "execution_count": null,
   "id": "13dda3f3-0a20-4b12-a55d-d7aeb781e34e",
   "metadata": {},
   "outputs": [],
   "source": []
  },
  {
   "cell_type": "code",
   "execution_count": null,
   "id": "9ec1b7c2-035c-4580-90bc-c7994673bc7c",
   "metadata": {},
   "outputs": [],
   "source": []
  },
  {
   "cell_type": "code",
   "execution_count": null,
   "id": "d1b610f3-960d-428f-a02d-0e0290c803ae",
   "metadata": {},
   "outputs": [],
   "source": []
  }
 ],
 "metadata": {
  "kernelspec": {
   "display_name": "Python 3 (ipykernel)",
   "language": "python",
   "name": "python3"
  },
  "language_info": {
   "codemirror_mode": {
    "name": "ipython",
    "version": 3
   },
   "file_extension": ".py",
   "mimetype": "text/x-python",
   "name": "python",
   "nbconvert_exporter": "python",
   "pygments_lexer": "ipython3",
   "version": "3.8.8"
  }
 },
 "nbformat": 4,
 "nbformat_minor": 5
}
